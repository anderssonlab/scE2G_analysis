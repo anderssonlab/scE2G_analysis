{
 "cells": [
  {
   "cell_type": "code",
   "execution_count": 1,
   "id": "3a1e63f9-7479-4a30-83ea-381f1ecdbe50",
   "metadata": {},
   "outputs": [
    {
     "name": "stderr",
     "output_type": "stream",
     "text": [
      "Warning message:\n",
      "“replacing previous import ‘Hmisc::capitalize’ by ‘R.utils::capitalize’ when loading ‘SCENT’”\n",
      "Loading required package: grid\n",
      "\n",
      "Warning message:\n",
      "“replacing previous import ‘Biostrings::pattern’ by ‘grid::pattern’ when loading ‘genomation’”\n",
      "Loading required package: stats4\n",
      "\n",
      "Loading required package: BiocGenerics\n",
      "\n",
      "\n",
      "Attaching package: ‘BiocGenerics’\n",
      "\n",
      "\n",
      "The following objects are masked from ‘package:stats’:\n",
      "\n",
      "    IQR, mad, sd, var, xtabs\n",
      "\n",
      "\n",
      "The following objects are masked from ‘package:base’:\n",
      "\n",
      "    anyDuplicated, aperm, append, as.data.frame, basename, cbind,\n",
      "    colnames, dirname, do.call, duplicated, eval, evalq, Filter, Find,\n",
      "    get, grep, grepl, intersect, is.unsorted, lapply, Map, mapply,\n",
      "    match, mget, order, paste, pmax, pmax.int, pmin, pmin.int,\n",
      "    Position, rank, rbind, Reduce, rownames, sapply, setdiff, sort,\n",
      "    table, tapply, union, unique, unsplit, which.max, which.min\n",
      "\n",
      "\n",
      "Loading required package: S4Vectors\n",
      "\n",
      "\n",
      "Attaching package: ‘S4Vectors’\n",
      "\n",
      "\n",
      "The following object is masked from ‘package:utils’:\n",
      "\n",
      "    findMatches\n",
      "\n",
      "\n",
      "The following objects are masked from ‘package:base’:\n",
      "\n",
      "    expand.grid, I, unname\n",
      "\n",
      "\n",
      "Loading required package: IRanges\n",
      "\n",
      "Loading required package: GenomeInfoDb\n",
      "\n",
      "\n",
      "Attaching package: ‘Matrix’\n",
      "\n",
      "\n",
      "The following object is masked from ‘package:S4Vectors’:\n",
      "\n",
      "    expand\n",
      "\n",
      "\n",
      "\n",
      "Attaching package: ‘data.table’\n",
      "\n",
      "\n",
      "The following object is masked from ‘package:GenomicRanges’:\n",
      "\n",
      "    shift\n",
      "\n",
      "\n",
      "The following object is masked from ‘package:IRanges’:\n",
      "\n",
      "    shift\n",
      "\n",
      "\n",
      "The following objects are masked from ‘package:S4Vectors’:\n",
      "\n",
      "    first, second\n",
      "\n",
      "\n",
      "\n",
      "Attaching package: ‘dplyr’\n",
      "\n",
      "\n",
      "The following objects are masked from ‘package:data.table’:\n",
      "\n",
      "    between, first, last\n",
      "\n",
      "\n",
      "The following objects are masked from ‘package:GenomicRanges’:\n",
      "\n",
      "    intersect, setdiff, union\n",
      "\n",
      "\n",
      "The following object is masked from ‘package:GenomeInfoDb’:\n",
      "\n",
      "    intersect\n",
      "\n",
      "\n",
      "The following objects are masked from ‘package:IRanges’:\n",
      "\n",
      "    collapse, desc, intersect, setdiff, slice, union\n",
      "\n",
      "\n",
      "The following objects are masked from ‘package:S4Vectors’:\n",
      "\n",
      "    first, intersect, rename, setdiff, setequal, union\n",
      "\n",
      "\n",
      "The following objects are masked from ‘package:BiocGenerics’:\n",
      "\n",
      "    combine, intersect, setdiff, union\n",
      "\n",
      "\n",
      "The following objects are masked from ‘package:stats’:\n",
      "\n",
      "    filter, lag\n",
      "\n",
      "\n",
      "The following objects are masked from ‘package:base’:\n",
      "\n",
      "    intersect, setdiff, setequal, union\n",
      "\n",
      "\n"
     ]
    }
   ],
   "source": [
    "library(SCENT)\n",
    "library(Signac)\n",
    "library(genomation)\n",
    "library(GenomicRanges)\n",
    "library(Matrix)\n",
    "library(parallel)\n",
    "library(data.table)\n",
    "library(dplyr)"
   ]
  },
  {
   "cell_type": "markdown",
   "id": "d53f3774-52c3-4baa-b707-5b3a0450b130",
   "metadata": {},
   "source": [
    "Specify file path"
   ]
  },
  {
   "cell_type": "code",
   "execution_count": 2,
   "id": "0785f3fc-9913-428a-bea7-5710120c9328",
   "metadata": {},
   "outputs": [],
   "source": [
    "gene_gtf_path = \"/maps/projects/ralab/data/genome/hg38/gencode.v43.chr_patch_hapl_scaff.annotation.gtf\"\n",
    "abc_genes_path = \"/maps/projects/ralab_nnfc-AUDIT/people/lpm537/software/scE2G_pipeline/241203/scE2G/ENCODE_rE2G/ABC/reference/hg38/CollapsedGeneBounds.hg38.TSS500bp.bed\"\n",
    "path.pairs.E2G = \"/maps/projects/ralab_nnfc-AUDIT/people/lpm537/software/scE2G_pipeline/250319/scE2G/test/results/HCT116/HCT116/Kendall/Pairs.tsv.gz\"\n",
    "path.pairs.ABC = \"/maps/projects/ralab_nnfc-AUDIT/people/lpm537/software/scE2G_pipeline/250319/scE2G/test/results/HCT116/HCT116/multiome_powerlaw_v3/encode_e2g_predictions.tsv.gz\"\n",
    "path.matrix.atac_count = \"/maps/projects/ralab_nnfc-AUDIT/people/lpm537/software/scE2G_pipeline/250319/scE2G/test/results/HCT116/HCT116/Kendall/atac_matrix.rds\"\n",
    "path.matrix.rna_count = \"/maps/projects/ralab_nnfc-AUDIT/people/lpm537/project/E2G/processed/scE2G_input_Maya/HCT116/rna_count_matrix.csv.gz\"\n",
    "dir.output = \"/maps/projects/ralab_nnfc-AUDIT/people/lpm537/project/E2G/analysis/E2G_240503/data/HCT116/1.Genome_wide_prediction/SCENT/SCENT_500.250321/\"\n",
    "celltype = \"HCT116\""
   ]
  },
  {
   "cell_type": "code",
   "execution_count": 3,
   "id": "500ba317-011f-4cab-834c-de750cb7f503",
   "metadata": {},
   "outputs": [],
   "source": [
    "n.cores = 16"
   ]
  },
  {
   "cell_type": "markdown",
   "id": "9c9cdab1-486b-4539-99d3-3cd5d1d99795",
   "metadata": {},
   "source": [
    "Import candidate E-G pairs"
   ]
  },
  {
   "cell_type": "code",
   "execution_count": 4,
   "id": "f5852d15-7e3f-412b-b137-7d29a6fb47b1",
   "metadata": {},
   "outputs": [],
   "source": [
    "pairs.E2G = readGeneric(path.pairs.E2G,\n",
    "                        header = T,\n",
    "                        keep.all.metadata = T)"
   ]
  },
  {
   "cell_type": "markdown",
   "id": "4b3c69d6-986b-4e10-9597-01c66d230c5c",
   "metadata": {},
   "source": [
    "Import ABC results"
   ]
  },
  {
   "cell_type": "code",
   "execution_count": 5,
   "id": "1fdcc2db-187f-45ee-89b4-288e8be29ee9",
   "metadata": {},
   "outputs": [],
   "source": [
    "pairs.ABC = readGeneric(path.pairs.ABC,\n",
    "                        header = T,\n",
    "                        keep.all.metadata = T)"
   ]
  },
  {
   "cell_type": "markdown",
   "id": "10424833-4e11-4191-a970-940bcc814764",
   "metadata": {},
   "source": [
    "Filter ABC results which distance < 1M"
   ]
  },
  {
   "cell_type": "code",
   "execution_count": 6,
   "id": "f08d2dec-83da-425a-aa70-aacb2d1c01a9",
   "metadata": {},
   "outputs": [],
   "source": [
    "pairs.ABC.1M = pairs.ABC[pairs.ABC$distance < 10^6]"
   ]
  },
  {
   "cell_type": "markdown",
   "id": "1ab4f035-0f58-4f32-9770-6765575f08a4",
   "metadata": {},
   "source": [
    "Filter E-G pairs overlaping with pairs.ABC.1M"
   ]
  },
  {
   "cell_type": "code",
   "execution_count": 7,
   "id": "46f640bb-a049-4bae-8362-485ec0d30858",
   "metadata": {},
   "outputs": [
    {
     "data": {
      "text/plain": [
       "GRanges object with 2938315 ranges and 3 metadata columns:\n",
       "            seqnames              ranges strand |  TargetGene\n",
       "               <Rle>           <IRanges>  <Rle> | <character>\n",
       "        [1]     chr1 100034595-100034763      * |         AGL\n",
       "        [2]     chr1 100034595-100034763      * |      CDC14A\n",
       "        [3]     chr1 100034595-100034763      * |         DBT\n",
       "        [4]     chr1 100034595-100034763      * |        DPH5\n",
       "        [5]     chr1 100034595-100034763      * |       EXTL2\n",
       "        ...      ...                 ...    ... .         ...\n",
       "  [2938311]     chrX     9911462-9911841      * |        WWC3\n",
       "  [2938312]     chrX     9995795-9996095      * |       CLCN4\n",
       "  [2938313]     chrX     9995795-9996095      * |       FAM9B\n",
       "  [2938314]     chrX     9995795-9996095      * |       TBL1X\n",
       "  [2938315]     chrX     9995795-9996095      * |        WWC3\n",
       "                          PeakName               PairName\n",
       "                       <character>            <character>\n",
       "        [1] chr1-100034595-10003.. chr1-100034595-10003..\n",
       "        [2] chr1-100034595-10003.. chr1-100034595-10003..\n",
       "        [3] chr1-100034595-10003.. chr1-100034595-10003..\n",
       "        [4] chr1-100034595-10003.. chr1-100034595-10003..\n",
       "        [5] chr1-100034595-10003.. chr1-100034595-10003..\n",
       "        ...                    ...                    ...\n",
       "  [2938311]   chrX-9911462-9911841 chrX-9911462-9911841..\n",
       "  [2938312]   chrX-9995795-9996095 chrX-9995795-9996095..\n",
       "  [2938313]   chrX-9995795-9996095 chrX-9995795-9996095..\n",
       "  [2938314]   chrX-9995795-9996095 chrX-9995795-9996095..\n",
       "  [2938315]   chrX-9995795-9996095 chrX-9995795-9996095..\n",
       "  -------\n",
       "  seqinfo: 23 sequences from an unspecified genome; no seqlengths"
      ]
     },
     "metadata": {},
     "output_type": "display_data"
    }
   ],
   "source": [
    "df.pairs.E2G.chr_rename = as.data.frame(pairs.E2G)[,1:3]\n",
    "df.pairs.E2G.chr_rename[,\"seqnames\"] = paste(seqnames(pairs.E2G),\n",
    "                                             mcols(pairs.E2G)[,\"TargetGene\"],\n",
    "                                             sep = \"_\")\n",
    "pairs.E2G.chr_rename = GRanges(df.pairs.E2G.chr_rename)\n",
    "rm(df.pairs.E2G.chr_rename)\n",
    "\n",
    "df.pairs.ABC.1M.chr_rename = as.data.frame(pairs.ABC.1M)[,1:3]\n",
    "df.pairs.ABC.1M.chr_rename[,\"seqnames\"] = paste(seqnames(pairs.ABC.1M),\n",
    "                                                mcols(pairs.ABC.1M)[,\"TargetGene\"],\n",
    "                                                sep = \"_\")\n",
    "pairs.ABC.1M.chr_rename = GRanges(df.pairs.ABC.1M.chr_rename)\n",
    "rm(df.pairs.ABC.1M.chr_rename)\n",
    "\n",
    "pairs.E2G.filter = pairs.E2G[countOverlaps(pairs.E2G.chr_rename,\n",
    "                                           pairs.ABC.1M.chr_rename) > 0]\n",
    "rm(pairs.E2G.chr_rename)\n",
    "rm(pairs.ABC.1M.chr_rename)\n",
    "pairs.E2G.filter"
   ]
  },
  {
   "cell_type": "markdown",
   "id": "bcdfac67-ce32-4d9a-8f4d-65dab644ec63",
   "metadata": {},
   "source": [
    "Import ATAC matrix"
   ]
  },
  {
   "cell_type": "code",
   "execution_count": 8,
   "id": "bd59feb4-3e33-4ebe-a107-f3b6d347a68e",
   "metadata": {},
   "outputs": [],
   "source": [
    "matrix.atac = readRDS(path.matrix.atac_count)\n",
    "matrix.atac = BinarizeCounts(matrix.atac)"
   ]
  },
  {
   "cell_type": "markdown",
   "id": "a0c5cb96-2fc4-42c4-a421-fe9a5ca537da",
   "metadata": {},
   "source": [
    "Import RNA matrix"
   ]
  },
  {
   "cell_type": "code",
   "execution_count": 9,
   "id": "96e10e90-9400-4cfe-bc7b-46a7eaee1fcd",
   "metadata": {},
   "outputs": [],
   "source": [
    "matrix.rna = read.csv(path.matrix.rna_count,\n",
    "                      row.names = 1,\n",
    "                      check.names = F)\n",
    "matrix.rna = Matrix(as.matrix(matrix.rna), sparse = TRUE)\n",
    "matrix.rna = matrix.rna[,colnames(matrix.atac)]\n",
    "matrix.rna = matrix.rna[rowSums(matrix.rna) > 0,]"
   ]
  },
  {
   "cell_type": "code",
   "execution_count": 10,
   "id": "b8f242e3-fb5b-4a90-9584-6214652c9af7",
   "metadata": {},
   "outputs": [
    {
     "data": {
      "text/html": [
       "<style>\n",
       ".list-inline {list-style: none; margin:0; padding: 0}\n",
       ".list-inline>li {display: inline-block}\n",
       ".list-inline>li:not(:last-child)::after {content: \"\\00b7\"; padding: 0 .5ex}\n",
       "</style>\n",
       "<ol class=list-inline><li>30310</li><li>4825</li></ol>\n"
      ],
      "text/latex": [
       "\\begin{enumerate*}\n",
       "\\item 30310\n",
       "\\item 4825\n",
       "\\end{enumerate*}\n"
      ],
      "text/markdown": [
       "1. 30310\n",
       "2. 4825\n",
       "\n",
       "\n"
      ],
      "text/plain": [
       "[1] 30310  4825"
      ]
     },
     "metadata": {},
     "output_type": "display_data"
    },
    {
     "name": "stderr",
     "output_type": "stream",
     "text": [
      "  [[ suppressing 10 column names ‘e18l1_AAACCGGTCGCCTGTG-1’, ‘e18l1_AAACCGGTCGTTGTCA-1’, ‘e18l1_AAACCGGTCTTGACCA-1’ ... ]]\n",
      "\n"
     ]
    },
    {
     "data": {
      "text/plain": [
       "10 x 10 sparse Matrix of class \"dgCMatrix\"\n",
       "                                   \n",
       "ENSG00000238009 . . . . . . . . . .\n",
       "ENSG00000241860 . . . . . . . . . .\n",
       "ENSG00000241599 . . . . . . . . . .\n",
       "ENSG00000286448 . . . . . . . . . .\n",
       "ENSG00000236601 . . . . . . . . . .\n",
       "ENSG00000290385 . . . . . . . . . .\n",
       "ENSG00000291215 . . . . . . . . . .\n",
       "ENSG00000229905 . . . . . . . . . .\n",
       "LINC01409       . . . . . . . . . .\n",
       "ENSG00000290784 . . . . . . . . . ."
      ]
     },
     "metadata": {},
     "output_type": "display_data"
    }
   ],
   "source": [
    "dim(matrix.rna)\n",
    "matrix.rna[1:10,1:10]"
   ]
  },
  {
   "cell_type": "markdown",
   "id": "62718ef8-a3bd-4755-a95f-be216f16517b",
   "metadata": {},
   "source": [
    "Map gene names"
   ]
  },
  {
   "cell_type": "code",
   "execution_count": 11,
   "id": "0f255a65-03a4-4255-967e-0c644bfe66cd",
   "metadata": {},
   "outputs": [],
   "source": [
    "extract_attributes <- function(gtf_attributes, att_of_interest){\n",
    "  att <- unlist(strsplit(gtf_attributes, \" \"))\n",
    "  if(att_of_interest %in% att){\n",
    "    return(gsub(\"\\\"|;\",\"\", att[which(att %in% att_of_interest)+1]))\n",
    "  } else {\n",
    "    return(NA)}\n",
    "}\n",
    "map_gene_names <- function(rna_matrix, gene_gtf_path, abc_genes_path){\n",
    "\tgene_ref <- fread(gene_gtf_path, header = FALSE, sep = \"\\t\") %>%\n",
    "\t\tsetNames(c(\"chr\",\"source\",\"type\",\"start\",\"end\",\"score\",\"strand\",\"phase\",\"attributes\")) %>%\n",
    "\t\tdplyr::filter(type == \"gene\")\n",
    "\tgene_ref$gene_ref_name <- unlist(lapply(gene_ref$attributes, extract_attributes, \"gene_name\"))\n",
    "\tgene_ref$Ensembl_ID <- unlist(lapply(gene_ref$attributes, extract_attributes, \"gene_id\"))\n",
    "\tgene_ref <- dplyr::select(gene_ref, gene_ref_name, Ensembl_ID) %>%\n",
    "\t\tmutate(Ensembl_ID = sub(\"\\\\.\\\\d+$\", \"\", Ensembl_ID)) %>% # remove decimal digits \n",
    "\t\tdistinct()\n",
    "\t\n",
    "\tabc_genes <- fread(abc_genes_path, col.names = c(\"chr\", \"start\", \"end\", \"name\", \"score\", \"strand\", \"Ensembl_ID\", \"gene_type\")) %>%\n",
    "\t\tdplyr::select(name, Ensembl_ID) %>%\n",
    "\t\trename(abc_name = name) %>%\n",
    "\t\tleft_join(gene_ref, by = \"Ensembl_ID\") %>%\n",
    "\t\tgroup_by(Ensembl_ID) %>% # remove cases where multiple genes map to one ensembl ID\n",
    "\t\tfilter(n() == 1) %>%\n",
    "\t\tungroup()\n",
    "\n",
    "\tgene_key <- abc_genes$abc_name\n",
    "\tnames(gene_key) <- abc_genes$gene_ref_name\n",
    "\n",
    "\t# remove genes not in our gene universe\t\n",
    "\trow_sub <- intersect(rownames(rna_matrix), names(gene_key)) # gene ref names\n",
    "\trna_matrix_filt <- rna_matrix[row_sub,] # still gene ref names\n",
    "\trownames(rna_matrix_filt) <- gene_key[row_sub] # converted to abc names\n",
    "\n",
    "\treturn(rna_matrix_filt)\n",
    "}"
   ]
  },
  {
   "cell_type": "code",
   "execution_count": 12,
   "id": "ca760678-9db9-418e-b7ac-29984eddad7e",
   "metadata": {},
   "outputs": [],
   "source": [
    "matrix.rna.rename = map_gene_names(matrix.rna,gene_gtf_path, abc_genes_path)"
   ]
  },
  {
   "cell_type": "code",
   "execution_count": 13,
   "id": "f5cc2224-0825-4977-aaad-2b24c74be813",
   "metadata": {},
   "outputs": [
    {
     "data": {
      "text/html": [
       "<style>\n",
       ".list-inline {list-style: none; margin:0; padding: 0}\n",
       ".list-inline>li {display: inline-block}\n",
       ".list-inline>li:not(:last-child)::after {content: \"\\00b7\"; padding: 0 .5ex}\n",
       "</style>\n",
       "<ol class=list-inline><li>18507</li><li>4825</li></ol>\n"
      ],
      "text/latex": [
       "\\begin{enumerate*}\n",
       "\\item 18507\n",
       "\\item 4825\n",
       "\\end{enumerate*}\n"
      ],
      "text/markdown": [
       "1. 18507\n",
       "2. 4825\n",
       "\n",
       "\n"
      ],
      "text/plain": [
       "[1] 18507  4825"
      ]
     },
     "metadata": {},
     "output_type": "display_data"
    },
    {
     "name": "stderr",
     "output_type": "stream",
     "text": [
      "  [[ suppressing 10 column names ‘e18l1_AAACCGGTCGCCTGTG-1’, ‘e18l1_AAACCGGTCGTTGTCA-1’, ‘e18l1_AAACCGGTCTTGACCA-1’ ... ]]\n",
      "\n"
     ]
    },
    {
     "data": {
      "text/plain": [
       "10 x 10 sparse Matrix of class \"dgCMatrix\"\n",
       "                             \n",
       "FAM87B    . . . . . . . . . .\n",
       "LINC00115 . . . . . . . . 1 .\n",
       "LINC01128 . . . . . 1 . . . .\n",
       "FAM41C    . . . . . . . . . .\n",
       "SAMD11    . . . . . . . . . .\n",
       "NOC2L     . . . . . . . . . 1\n",
       "KLHL17    . . . . . . . . . .\n",
       "PLEKHN1   . . . . . 1 . . . 1\n",
       "PERM1     . . . . . . . . . .\n",
       "HES4      . . . . . . . . . ."
      ]
     },
     "metadata": {},
     "output_type": "display_data"
    }
   ],
   "source": [
    "dim(matrix.rna.rename)\n",
    "matrix.rna.rename[1:10,1:10]"
   ]
  },
  {
   "cell_type": "code",
   "execution_count": 14,
   "id": "33f99cb2-d17f-42ac-8fd2-36ce1cd7814f",
   "metadata": {},
   "outputs": [
    {
     "data": {
      "text/plain": [
       "GRanges object with 2938315 ranges and 3 metadata columns:\n",
       "            seqnames              ranges strand |  TargetGene\n",
       "               <Rle>           <IRanges>  <Rle> | <character>\n",
       "        [1]     chr1 100034595-100034763      * |         AGL\n",
       "        [2]     chr1 100034595-100034763      * |      CDC14A\n",
       "        [3]     chr1 100034595-100034763      * |         DBT\n",
       "        [4]     chr1 100034595-100034763      * |        DPH5\n",
       "        [5]     chr1 100034595-100034763      * |       EXTL2\n",
       "        ...      ...                 ...    ... .         ...\n",
       "  [2938311]     chrX     9911462-9911841      * |        WWC3\n",
       "  [2938312]     chrX     9995795-9996095      * |       CLCN4\n",
       "  [2938313]     chrX     9995795-9996095      * |       FAM9B\n",
       "  [2938314]     chrX     9995795-9996095      * |       TBL1X\n",
       "  [2938315]     chrX     9995795-9996095      * |        WWC3\n",
       "                          PeakName               PairName\n",
       "                       <character>            <character>\n",
       "        [1] chr1-100034595-10003.. chr1-100034595-10003..\n",
       "        [2] chr1-100034595-10003.. chr1-100034595-10003..\n",
       "        [3] chr1-100034595-10003.. chr1-100034595-10003..\n",
       "        [4] chr1-100034595-10003.. chr1-100034595-10003..\n",
       "        [5] chr1-100034595-10003.. chr1-100034595-10003..\n",
       "        ...                    ...                    ...\n",
       "  [2938311]   chrX-9911462-9911841 chrX-9911462-9911841..\n",
       "  [2938312]   chrX-9995795-9996095 chrX-9995795-9996095..\n",
       "  [2938313]   chrX-9995795-9996095 chrX-9995795-9996095..\n",
       "  [2938314]   chrX-9995795-9996095 chrX-9995795-9996095..\n",
       "  [2938315]   chrX-9995795-9996095 chrX-9995795-9996095..\n",
       "  -------\n",
       "  seqinfo: 23 sequences from an unspecified genome; no seqlengths"
      ]
     },
     "metadata": {},
     "output_type": "display_data"
    }
   ],
   "source": [
    "pairs.E2G.filter"
   ]
  },
  {
   "cell_type": "code",
   "execution_count": 15,
   "id": "0c8225d7-5216-4cc1-827e-bbb22c53f9fc",
   "metadata": {},
   "outputs": [
    {
     "data": {
      "text/plain": [
       "GRanges object with 2843332 ranges and 3 metadata columns:\n",
       "            seqnames              ranges strand |  TargetGene\n",
       "               <Rle>           <IRanges>  <Rle> | <character>\n",
       "        [1]     chr1 100034595-100034763      * |         AGL\n",
       "        [2]     chr1 100034595-100034763      * |      CDC14A\n",
       "        [3]     chr1 100034595-100034763      * |         DBT\n",
       "        [4]     chr1 100034595-100034763      * |        DPH5\n",
       "        [5]     chr1 100034595-100034763      * |       EXTL2\n",
       "        ...      ...                 ...    ... .         ...\n",
       "  [2843328]     chrX     9911462-9911841      * |        WWC3\n",
       "  [2843329]     chrX     9995795-9996095      * |       CLCN4\n",
       "  [2843330]     chrX     9995795-9996095      * |       FAM9B\n",
       "  [2843331]     chrX     9995795-9996095      * |       TBL1X\n",
       "  [2843332]     chrX     9995795-9996095      * |        WWC3\n",
       "                          PeakName               PairName\n",
       "                       <character>            <character>\n",
       "        [1] chr1-100034595-10003.. chr1-100034595-10003..\n",
       "        [2] chr1-100034595-10003.. chr1-100034595-10003..\n",
       "        [3] chr1-100034595-10003.. chr1-100034595-10003..\n",
       "        [4] chr1-100034595-10003.. chr1-100034595-10003..\n",
       "        [5] chr1-100034595-10003.. chr1-100034595-10003..\n",
       "        ...                    ...                    ...\n",
       "  [2843328]   chrX-9911462-9911841 chrX-9911462-9911841..\n",
       "  [2843329]   chrX-9995795-9996095 chrX-9995795-9996095..\n",
       "  [2843330]   chrX-9995795-9996095 chrX-9995795-9996095..\n",
       "  [2843331]   chrX-9995795-9996095 chrX-9995795-9996095..\n",
       "  [2843332]   chrX-9995795-9996095 chrX-9995795-9996095..\n",
       "  -------\n",
       "  seqinfo: 23 sequences from an unspecified genome; no seqlengths"
      ]
     },
     "metadata": {},
     "output_type": "display_data"
    }
   ],
   "source": [
    "pairs.E2G.filter2 = pairs.E2G.filter[pairs.E2G.filter$TargetGene %in% rownames(matrix.rna.rename) &\n",
    "                                     pairs.E2G.filter$PeakName %in% rownames(matrix.atac)]\n",
    "pairs.E2G.filter2"
   ]
  },
  {
   "cell_type": "markdown",
   "id": "b16f7d5b-eabd-4e93-b8cd-f19a54df21f2",
   "metadata": {},
   "source": [
    "Prepare SCENT meta data"
   ]
  },
  {
   "cell_type": "code",
   "execution_count": 16,
   "id": "827059dd-6885-441e-973e-d7c49e5fd534",
   "metadata": {},
   "outputs": [
    {
     "data": {
      "text/html": [
       "<table class=\"dataframe\">\n",
       "<caption>A data.frame: 4825 × 6</caption>\n",
       "<thead>\n",
       "\t<tr><th></th><th scope=col>cell</th><th scope=col>nUMI</th><th scope=col>nMito</th><th scope=col>celltype</th><th scope=col>log.nUMI</th><th scope=col>percent.mito</th></tr>\n",
       "\t<tr><th></th><th scope=col>&lt;chr&gt;</th><th scope=col>&lt;dbl&gt;</th><th scope=col>&lt;dbl&gt;</th><th scope=col>&lt;chr&gt;</th><th scope=col>&lt;dbl&gt;</th><th scope=col>&lt;dbl&gt;</th></tr>\n",
       "</thead>\n",
       "<tbody>\n",
       "\t<tr><th scope=row>e18l1_AAACCGGTCGCCTGTG-1</th><td>e18l1_AAACCGGTCGCCTGTG-1</td><td>6851</td><td> 801</td><td>HCT116</td><td>8.832150</td><td>0.116917238</td></tr>\n",
       "\t<tr><th scope=row>e18l1_AAACCGGTCGTTGTCA-1</th><td>e18l1_AAACCGGTCGTTGTCA-1</td><td>6046</td><td> 410</td><td>HCT116</td><td>8.707152</td><td>0.067813430</td></tr>\n",
       "\t<tr><th scope=row>e18l1_AAACCGGTCTTGACCA-1</th><td>e18l1_AAACCGGTCTTGACCA-1</td><td>2409</td><td> 386</td><td>HCT116</td><td>7.786967</td><td>0.160232462</td></tr>\n",
       "\t<tr><th scope=row>e18l1_AAACGGGCATTGTCTA-1</th><td>e18l1_AAACGGGCATTGTCTA-1</td><td>1674</td><td> 153</td><td>HCT116</td><td>7.422971</td><td>0.091397849</td></tr>\n",
       "\t<tr><th scope=row>e18l1_AAACTCGCATCCTGCA-1</th><td>e18l1_AAACTCGCATCCTGCA-1</td><td>2789</td><td>  19</td><td>HCT116</td><td>7.933438</td><td>0.006812478</td></tr>\n",
       "\t<tr><th scope=row>e18l1_AAAGCCTAGATTGACA-1</th><td>e18l1_AAAGCCTAGATTGACA-1</td><td>3557</td><td> 437</td><td>HCT116</td><td>8.176673</td><td>0.122856340</td></tr>\n",
       "\t<tr><th scope=row>e18l1_AAAGCCTAGCATAGCG-1</th><td>e18l1_AAAGCCTAGCATAGCG-1</td><td>5704</td><td> 658</td><td>HCT116</td><td>8.648923</td><td>0.115357644</td></tr>\n",
       "\t<tr><th scope=row>e18l1_AAAGGAAGTGTTACTA-1</th><td>e18l1_AAAGGAAGTGTTACTA-1</td><td>3433</td><td> 447</td><td>HCT116</td><td>8.141190</td><td>0.130206816</td></tr>\n",
       "\t<tr><th scope=row>e18l1_AAAGGCGCATGATGGC-1</th><td>e18l1_AAAGGCGCATGATGGC-1</td><td>1352</td><td> 248</td><td>HCT116</td><td>7.209340</td><td>0.183431953</td></tr>\n",
       "\t<tr><th scope=row>e18l1_AAAGGCTTCTTAGGTT-1</th><td>e18l1_AAAGGCTTCTTAGGTT-1</td><td>2452</td><td> 213</td><td>HCT116</td><td>7.804659</td><td>0.086867863</td></tr>\n",
       "\t<tr><th scope=row>e18l1_AAAGGGATCATTTAGC-1</th><td>e18l1_AAAGGGATCATTTAGC-1</td><td>2247</td><td> 158</td><td>HCT116</td><td>7.717351</td><td>0.070315977</td></tr>\n",
       "\t<tr><th scope=row>e18l1_AAAGGTACAGGTTTCT-1</th><td>e18l1_AAAGGTACAGGTTTCT-1</td><td>8095</td><td>1211</td><td>HCT116</td><td>8.999002</td><td>0.149598518</td></tr>\n",
       "\t<tr><th scope=row>e18l1_AAAGGTACATGAGGAG-1</th><td>e18l1_AAAGGTACATGAGGAG-1</td><td>3262</td><td> 246</td><td>HCT116</td><td>8.090096</td><td>0.075413857</td></tr>\n",
       "\t<tr><th scope=row>e18l1_AAAGTCATCGGCTATC-1</th><td>e18l1_AAAGTCATCGGCTATC-1</td><td>1378</td><td>  36</td><td>HCT116</td><td>7.228388</td><td>0.026124819</td></tr>\n",
       "\t<tr><th scope=row>e18l1_AAATAGGCAGCTCAAA-1</th><td>e18l1_AAATAGGCAGCTCAAA-1</td><td>2771</td><td>  44</td><td>HCT116</td><td>7.926964</td><td>0.015878744</td></tr>\n",
       "\t<tr><th scope=row>e18l1_AAATCGATCATTGCGC-1</th><td>e18l1_AAATCGATCATTGCGC-1</td><td>1817</td><td> 191</td><td>HCT116</td><td>7.504942</td><td>0.105118327</td></tr>\n",
       "\t<tr><th scope=row>e18l1_AAATCGATCCAAACTT-1</th><td>e18l1_AAATCGATCCAAACTT-1</td><td>2440</td><td> 264</td><td>HCT116</td><td>7.799753</td><td>0.108196721</td></tr>\n",
       "\t<tr><th scope=row>e18l1_AACACTAAGCAGCCAA-1</th><td>e18l1_AACACTAAGCAGCCAA-1</td><td>2497</td><td> 411</td><td>HCT116</td><td>7.822845</td><td>0.164597517</td></tr>\n",
       "\t<tr><th scope=row>e18l1_AACATAGTCGTTGTCA-1</th><td>e18l1_AACATAGTCGTTGTCA-1</td><td>8144</td><td> 972</td><td>HCT116</td><td>9.005037</td><td>0.119351670</td></tr>\n",
       "\t<tr><th scope=row>e18l1_AACATGATCGGTAATA-1</th><td>e18l1_AACATGATCGGTAATA-1</td><td>4704</td><td> 660</td><td>HCT116</td><td>8.456168</td><td>0.140306122</td></tr>\n",
       "\t<tr><th scope=row>e18l1_AACCTTAGTGCACAAA-1</th><td>e18l1_AACCTTAGTGCACAAA-1</td><td>6609</td><td>1016</td><td>HCT116</td><td>8.796188</td><td>0.153729762</td></tr>\n",
       "\t<tr><th scope=row>e18l1_AACCTTAGTTTGGTGT-1</th><td>e18l1_AACCTTAGTTTGGTGT-1</td><td>3140</td><td> 237</td><td>HCT116</td><td>8.051978</td><td>0.075477707</td></tr>\n",
       "\t<tr><th scope=row>e18l1_AACCTTTAGATAGCTA-1</th><td>e18l1_AACCTTTAGATAGCTA-1</td><td>3214</td><td>  38</td><td>HCT116</td><td>8.075272</td><td>0.011823273</td></tr>\n",
       "\t<tr><th scope=row>e18l1_AACGATTCAACCAAAT-1</th><td>e18l1_AACGATTCAACCAAAT-1</td><td>2714</td><td> 343</td><td>HCT116</td><td>7.906179</td><td>0.126381724</td></tr>\n",
       "\t<tr><th scope=row>e18l1_AACGCCCGTCCATTAA-1</th><td>e18l1_AACGCCCGTCCATTAA-1</td><td>5013</td><td> 445</td><td>HCT116</td><td>8.519790</td><td>0.088769200</td></tr>\n",
       "\t<tr><th scope=row>e18l1_AACGCCCGTGCAATAG-1</th><td>e18l1_AACGCCCGTGCAATAG-1</td><td>3396</td><td> 501</td><td>HCT116</td><td>8.130354</td><td>0.147526502</td></tr>\n",
       "\t<tr><th scope=row>e18l1_AACGGATTCCTAGGTC-1</th><td>e18l1_AACGGATTCCTAGGTC-1</td><td>2292</td><td> 352</td><td>HCT116</td><td>7.737180</td><td>0.153577661</td></tr>\n",
       "\t<tr><th scope=row>e18l1_AACGGTGTCGATATAG-1</th><td>e18l1_AACGGTGTCGATATAG-1</td><td>3079</td><td> 419</td><td>HCT116</td><td>8.032360</td><td>0.136083144</td></tr>\n",
       "\t<tr><th scope=row>e18l1_AACGGTGTCTAAGCGG-1</th><td>e18l1_AACGGTGTCTAAGCGG-1</td><td>3681</td><td> 587</td><td>HCT116</td><td>8.210940</td><td>0.159467536</td></tr>\n",
       "\t<tr><th scope=row>e18l1_AACGGTTAGTTACCGC-1</th><td>e18l1_AACGGTTAGTTACCGC-1</td><td>2221</td><td> 293</td><td>HCT116</td><td>7.705713</td><td>0.131922557</td></tr>\n",
       "\t<tr><th scope=row>⋮</th><td>⋮</td><td>⋮</td><td>⋮</td><td>⋮</td><td>⋮</td><td>⋮</td></tr>\n",
       "\t<tr><th scope=row>e18l4_TTCCGCACAGTTCCCA-1</th><td>e18l4_TTCCGCACAGTTCCCA-1</td><td> 1650</td><td>  86</td><td>HCT116</td><td>7.408531</td><td>0.05212121</td></tr>\n",
       "\t<tr><th scope=row>e18l4_TTCGCGAGTGCGATTT-1</th><td>e18l4_TTCGCGAGTGCGATTT-1</td><td>11654</td><td>1734</td><td>HCT116</td><td>9.363405</td><td>0.14879011</td></tr>\n",
       "\t<tr><th scope=row>e18l4_TTCGCGAGTGCGGTTC-1</th><td>e18l4_TTCGCGAGTGCGGTTC-1</td><td> 5513</td><td> 869</td><td>HCT116</td><td>8.614864</td><td>0.15762743</td></tr>\n",
       "\t<tr><th scope=row>e18l4_TTCGTTACAACGGTGT-1</th><td>e18l4_TTCGTTACAACGGTGT-1</td><td>12287</td><td>2320</td><td>HCT116</td><td>9.416297</td><td>0.18881745</td></tr>\n",
       "\t<tr><th scope=row>e18l4_TTCTATCGTCATGCCA-1</th><td>e18l4_TTCTATCGTCATGCCA-1</td><td> 7073</td><td>1118</td><td>HCT116</td><td>8.864040</td><td>0.15806588</td></tr>\n",
       "\t<tr><th scope=row>e18l4_TTCTGTGAGCATTATC-1</th><td>e18l4_TTCTGTGAGCATTATC-1</td><td> 4008</td><td>  50</td><td>HCT116</td><td>8.296048</td><td>0.01247505</td></tr>\n",
       "\t<tr><th scope=row>e18l4_TTGAACAAGTCTTGCA-1</th><td>e18l4_TTGAACAAGTCTTGCA-1</td><td>11880</td><td>1628</td><td>HCT116</td><td>9.382612</td><td>0.13703704</td></tr>\n",
       "\t<tr><th scope=row>e18l4_TTGATCAGTCCCGGAT-1</th><td>e18l4_TTGATCAGTCCCGGAT-1</td><td> 3214</td><td> 110</td><td>HCT116</td><td>8.075272</td><td>0.03422526</td></tr>\n",
       "\t<tr><th scope=row>e18l4_TTGCAAGCATCAGTTC-1</th><td>e18l4_TTGCAAGCATCAGTTC-1</td><td> 5429</td><td> 985</td><td>HCT116</td><td>8.599510</td><td>0.18143304</td></tr>\n",
       "\t<tr><th scope=row>e18l4_TTGCAGCTCCTGCAAC-1</th><td>e18l4_TTGCAGCTCCTGCAAC-1</td><td> 2210</td><td> 398</td><td>HCT116</td><td>7.700748</td><td>0.18009050</td></tr>\n",
       "\t<tr><th scope=row>e18l4_TTGCGGGCATGCCTGC-1</th><td>e18l4_TTGCGGGCATGCCTGC-1</td><td> 3439</td><td> 661</td><td>HCT116</td><td>8.142936</td><td>0.19220704</td></tr>\n",
       "\t<tr><th scope=row>e18l4_TTGCTCCGTTTGCTCC-1</th><td>e18l4_TTGCTCCGTTTGCTCC-1</td><td> 6806</td><td> 848</td><td>HCT116</td><td>8.825560</td><td>0.12459594</td></tr>\n",
       "\t<tr><th scope=row>e18l4_TTGCTGGGTGAGGAAG-1</th><td>e18l4_TTGCTGGGTGAGGAAG-1</td><td> 7198</td><td>1135</td><td>HCT116</td><td>8.881558</td><td>0.15768269</td></tr>\n",
       "\t<tr><th scope=row>e18l4_TTGCTGGGTTCCGGAC-1</th><td>e18l4_TTGCTGGGTTCCGGAC-1</td><td> 3835</td><td>  54</td><td>HCT116</td><td>8.251925</td><td>0.01408083</td></tr>\n",
       "\t<tr><th scope=row>e18l4_TTGGACCTCAATATCC-1</th><td>e18l4_TTGGACCTCAATATCC-1</td><td>14738</td><td>3520</td><td>HCT116</td><td>9.598184</td><td>0.23883838</td></tr>\n",
       "\t<tr><th scope=row>e18l4_TTGGACCTCAGGATTA-1</th><td>e18l4_TTGGACCTCAGGATTA-1</td><td> 8791</td><td> 723</td><td>HCT116</td><td>9.081484</td><td>0.08224320</td></tr>\n",
       "\t<tr><th scope=row>e18l4_TTGGCTATCACGAATA-1</th><td>e18l4_TTGGCTATCACGAATA-1</td><td> 9322</td><td>1232</td><td>HCT116</td><td>9.140132</td><td>0.13216048</td></tr>\n",
       "\t<tr><th scope=row>e18l4_TTGTCCAAGCGAGTTG-1</th><td>e18l4_TTGTCCAAGCGAGTTG-1</td><td> 7970</td><td> 908</td><td>HCT116</td><td>8.983440</td><td>0.11392723</td></tr>\n",
       "\t<tr><th scope=row>e18l4_TTGTGAGCAAGGCTGT-1</th><td>e18l4_TTGTGAGCAAGGCTGT-1</td><td> 4178</td><td>  98</td><td>HCT116</td><td>8.337588</td><td>0.02345620</td></tr>\n",
       "\t<tr><th scope=row>e18l4_TTGTGGCTCACCCTCC-1</th><td>e18l4_TTGTGGCTCACCCTCC-1</td><td> 6917</td><td> 406</td><td>HCT116</td><td>8.841737</td><td>0.05869597</td></tr>\n",
       "\t<tr><th scope=row>e18l4_TTGTTGAGTGTGATGA-1</th><td>e18l4_TTGTTGAGTGTGATGA-1</td><td> 7730</td><td> 790</td><td>HCT116</td><td>8.952864</td><td>0.10219922</td></tr>\n",
       "\t<tr><th scope=row>e18l4_TTGTTGAGTTGACCGC-1</th><td>e18l4_TTGTTGAGTTGACCGC-1</td><td> 7197</td><td> 883</td><td>HCT116</td><td>8.881420</td><td>0.12269001</td></tr>\n",
       "\t<tr><th scope=row>e18l4_TTTACTGCACAGCAAC-1</th><td>e18l4_TTTACTGCACAGCAAC-1</td><td> 3303</td><td>  86</td><td>HCT116</td><td>8.102586</td><td>0.02603694</td></tr>\n",
       "\t<tr><th scope=row>e18l4_TTTACTGCACGCAATA-1</th><td>e18l4_TTTACTGCACGCAATA-1</td><td> 2044</td><td>  28</td><td>HCT116</td><td>7.622664</td><td>0.01369863</td></tr>\n",
       "\t<tr><th scope=row>e18l4_TTTAGCTAGCGGGAAG-1</th><td>e18l4_TTTAGCTAGCGGGAAG-1</td><td> 4019</td><td>  55</td><td>HCT116</td><td>8.298788</td><td>0.01368500</td></tr>\n",
       "\t<tr><th scope=row>e18l4_TTTATCCGTATCGCTG-1</th><td>e18l4_TTTATCCGTATCGCTG-1</td><td> 3484</td><td> 428</td><td>HCT116</td><td>8.155936</td><td>0.12284730</td></tr>\n",
       "\t<tr><th scope=row>e18l4_TTTATCCGTCCGGTTA-1</th><td>e18l4_TTTATCCGTCCGGTTA-1</td><td> 8171</td><td>1332</td><td>HCT116</td><td>9.008347</td><td>0.16301554</td></tr>\n",
       "\t<tr><th scope=row>e18l4_TTTCAGTAGATTAGCA-1</th><td>e18l4_TTTCAGTAGATTAGCA-1</td><td>16876</td><td>1630</td><td>HCT116</td><td>9.733648</td><td>0.09658687</td></tr>\n",
       "\t<tr><th scope=row>e18l4_TTTCAGTAGTGAGGCC-1</th><td>e18l4_TTTCAGTAGTGAGGCC-1</td><td> 5770</td><td> 552</td><td>HCT116</td><td>8.660427</td><td>0.09566724</td></tr>\n",
       "\t<tr><th scope=row>e18l4_TTTGCTCTCCGCCATG-1</th><td>e18l4_TTTGCTCTCCGCCATG-1</td><td> 3657</td><td>  58</td><td>HCT116</td><td>8.204398</td><td>0.01585999</td></tr>\n",
       "</tbody>\n",
       "</table>\n"
      ],
      "text/latex": [
       "A data.frame: 4825 × 6\n",
       "\\begin{tabular}{r|llllll}\n",
       "  & cell & nUMI & nMito & celltype & log.nUMI & percent.mito\\\\\n",
       "  & <chr> & <dbl> & <dbl> & <chr> & <dbl> & <dbl>\\\\\n",
       "\\hline\n",
       "\te18l1\\_AAACCGGTCGCCTGTG-1 & e18l1\\_AAACCGGTCGCCTGTG-1 & 6851 &  801 & HCT116 & 8.832150 & 0.116917238\\\\\n",
       "\te18l1\\_AAACCGGTCGTTGTCA-1 & e18l1\\_AAACCGGTCGTTGTCA-1 & 6046 &  410 & HCT116 & 8.707152 & 0.067813430\\\\\n",
       "\te18l1\\_AAACCGGTCTTGACCA-1 & e18l1\\_AAACCGGTCTTGACCA-1 & 2409 &  386 & HCT116 & 7.786967 & 0.160232462\\\\\n",
       "\te18l1\\_AAACGGGCATTGTCTA-1 & e18l1\\_AAACGGGCATTGTCTA-1 & 1674 &  153 & HCT116 & 7.422971 & 0.091397849\\\\\n",
       "\te18l1\\_AAACTCGCATCCTGCA-1 & e18l1\\_AAACTCGCATCCTGCA-1 & 2789 &   19 & HCT116 & 7.933438 & 0.006812478\\\\\n",
       "\te18l1\\_AAAGCCTAGATTGACA-1 & e18l1\\_AAAGCCTAGATTGACA-1 & 3557 &  437 & HCT116 & 8.176673 & 0.122856340\\\\\n",
       "\te18l1\\_AAAGCCTAGCATAGCG-1 & e18l1\\_AAAGCCTAGCATAGCG-1 & 5704 &  658 & HCT116 & 8.648923 & 0.115357644\\\\\n",
       "\te18l1\\_AAAGGAAGTGTTACTA-1 & e18l1\\_AAAGGAAGTGTTACTA-1 & 3433 &  447 & HCT116 & 8.141190 & 0.130206816\\\\\n",
       "\te18l1\\_AAAGGCGCATGATGGC-1 & e18l1\\_AAAGGCGCATGATGGC-1 & 1352 &  248 & HCT116 & 7.209340 & 0.183431953\\\\\n",
       "\te18l1\\_AAAGGCTTCTTAGGTT-1 & e18l1\\_AAAGGCTTCTTAGGTT-1 & 2452 &  213 & HCT116 & 7.804659 & 0.086867863\\\\\n",
       "\te18l1\\_AAAGGGATCATTTAGC-1 & e18l1\\_AAAGGGATCATTTAGC-1 & 2247 &  158 & HCT116 & 7.717351 & 0.070315977\\\\\n",
       "\te18l1\\_AAAGGTACAGGTTTCT-1 & e18l1\\_AAAGGTACAGGTTTCT-1 & 8095 & 1211 & HCT116 & 8.999002 & 0.149598518\\\\\n",
       "\te18l1\\_AAAGGTACATGAGGAG-1 & e18l1\\_AAAGGTACATGAGGAG-1 & 3262 &  246 & HCT116 & 8.090096 & 0.075413857\\\\\n",
       "\te18l1\\_AAAGTCATCGGCTATC-1 & e18l1\\_AAAGTCATCGGCTATC-1 & 1378 &   36 & HCT116 & 7.228388 & 0.026124819\\\\\n",
       "\te18l1\\_AAATAGGCAGCTCAAA-1 & e18l1\\_AAATAGGCAGCTCAAA-1 & 2771 &   44 & HCT116 & 7.926964 & 0.015878744\\\\\n",
       "\te18l1\\_AAATCGATCATTGCGC-1 & e18l1\\_AAATCGATCATTGCGC-1 & 1817 &  191 & HCT116 & 7.504942 & 0.105118327\\\\\n",
       "\te18l1\\_AAATCGATCCAAACTT-1 & e18l1\\_AAATCGATCCAAACTT-1 & 2440 &  264 & HCT116 & 7.799753 & 0.108196721\\\\\n",
       "\te18l1\\_AACACTAAGCAGCCAA-1 & e18l1\\_AACACTAAGCAGCCAA-1 & 2497 &  411 & HCT116 & 7.822845 & 0.164597517\\\\\n",
       "\te18l1\\_AACATAGTCGTTGTCA-1 & e18l1\\_AACATAGTCGTTGTCA-1 & 8144 &  972 & HCT116 & 9.005037 & 0.119351670\\\\\n",
       "\te18l1\\_AACATGATCGGTAATA-1 & e18l1\\_AACATGATCGGTAATA-1 & 4704 &  660 & HCT116 & 8.456168 & 0.140306122\\\\\n",
       "\te18l1\\_AACCTTAGTGCACAAA-1 & e18l1\\_AACCTTAGTGCACAAA-1 & 6609 & 1016 & HCT116 & 8.796188 & 0.153729762\\\\\n",
       "\te18l1\\_AACCTTAGTTTGGTGT-1 & e18l1\\_AACCTTAGTTTGGTGT-1 & 3140 &  237 & HCT116 & 8.051978 & 0.075477707\\\\\n",
       "\te18l1\\_AACCTTTAGATAGCTA-1 & e18l1\\_AACCTTTAGATAGCTA-1 & 3214 &   38 & HCT116 & 8.075272 & 0.011823273\\\\\n",
       "\te18l1\\_AACGATTCAACCAAAT-1 & e18l1\\_AACGATTCAACCAAAT-1 & 2714 &  343 & HCT116 & 7.906179 & 0.126381724\\\\\n",
       "\te18l1\\_AACGCCCGTCCATTAA-1 & e18l1\\_AACGCCCGTCCATTAA-1 & 5013 &  445 & HCT116 & 8.519790 & 0.088769200\\\\\n",
       "\te18l1\\_AACGCCCGTGCAATAG-1 & e18l1\\_AACGCCCGTGCAATAG-1 & 3396 &  501 & HCT116 & 8.130354 & 0.147526502\\\\\n",
       "\te18l1\\_AACGGATTCCTAGGTC-1 & e18l1\\_AACGGATTCCTAGGTC-1 & 2292 &  352 & HCT116 & 7.737180 & 0.153577661\\\\\n",
       "\te18l1\\_AACGGTGTCGATATAG-1 & e18l1\\_AACGGTGTCGATATAG-1 & 3079 &  419 & HCT116 & 8.032360 & 0.136083144\\\\\n",
       "\te18l1\\_AACGGTGTCTAAGCGG-1 & e18l1\\_AACGGTGTCTAAGCGG-1 & 3681 &  587 & HCT116 & 8.210940 & 0.159467536\\\\\n",
       "\te18l1\\_AACGGTTAGTTACCGC-1 & e18l1\\_AACGGTTAGTTACCGC-1 & 2221 &  293 & HCT116 & 7.705713 & 0.131922557\\\\\n",
       "\t⋮ & ⋮ & ⋮ & ⋮ & ⋮ & ⋮ & ⋮\\\\\n",
       "\te18l4\\_TTCCGCACAGTTCCCA-1 & e18l4\\_TTCCGCACAGTTCCCA-1 &  1650 &   86 & HCT116 & 7.408531 & 0.05212121\\\\\n",
       "\te18l4\\_TTCGCGAGTGCGATTT-1 & e18l4\\_TTCGCGAGTGCGATTT-1 & 11654 & 1734 & HCT116 & 9.363405 & 0.14879011\\\\\n",
       "\te18l4\\_TTCGCGAGTGCGGTTC-1 & e18l4\\_TTCGCGAGTGCGGTTC-1 &  5513 &  869 & HCT116 & 8.614864 & 0.15762743\\\\\n",
       "\te18l4\\_TTCGTTACAACGGTGT-1 & e18l4\\_TTCGTTACAACGGTGT-1 & 12287 & 2320 & HCT116 & 9.416297 & 0.18881745\\\\\n",
       "\te18l4\\_TTCTATCGTCATGCCA-1 & e18l4\\_TTCTATCGTCATGCCA-1 &  7073 & 1118 & HCT116 & 8.864040 & 0.15806588\\\\\n",
       "\te18l4\\_TTCTGTGAGCATTATC-1 & e18l4\\_TTCTGTGAGCATTATC-1 &  4008 &   50 & HCT116 & 8.296048 & 0.01247505\\\\\n",
       "\te18l4\\_TTGAACAAGTCTTGCA-1 & e18l4\\_TTGAACAAGTCTTGCA-1 & 11880 & 1628 & HCT116 & 9.382612 & 0.13703704\\\\\n",
       "\te18l4\\_TTGATCAGTCCCGGAT-1 & e18l4\\_TTGATCAGTCCCGGAT-1 &  3214 &  110 & HCT116 & 8.075272 & 0.03422526\\\\\n",
       "\te18l4\\_TTGCAAGCATCAGTTC-1 & e18l4\\_TTGCAAGCATCAGTTC-1 &  5429 &  985 & HCT116 & 8.599510 & 0.18143304\\\\\n",
       "\te18l4\\_TTGCAGCTCCTGCAAC-1 & e18l4\\_TTGCAGCTCCTGCAAC-1 &  2210 &  398 & HCT116 & 7.700748 & 0.18009050\\\\\n",
       "\te18l4\\_TTGCGGGCATGCCTGC-1 & e18l4\\_TTGCGGGCATGCCTGC-1 &  3439 &  661 & HCT116 & 8.142936 & 0.19220704\\\\\n",
       "\te18l4\\_TTGCTCCGTTTGCTCC-1 & e18l4\\_TTGCTCCGTTTGCTCC-1 &  6806 &  848 & HCT116 & 8.825560 & 0.12459594\\\\\n",
       "\te18l4\\_TTGCTGGGTGAGGAAG-1 & e18l4\\_TTGCTGGGTGAGGAAG-1 &  7198 & 1135 & HCT116 & 8.881558 & 0.15768269\\\\\n",
       "\te18l4\\_TTGCTGGGTTCCGGAC-1 & e18l4\\_TTGCTGGGTTCCGGAC-1 &  3835 &   54 & HCT116 & 8.251925 & 0.01408083\\\\\n",
       "\te18l4\\_TTGGACCTCAATATCC-1 & e18l4\\_TTGGACCTCAATATCC-1 & 14738 & 3520 & HCT116 & 9.598184 & 0.23883838\\\\\n",
       "\te18l4\\_TTGGACCTCAGGATTA-1 & e18l4\\_TTGGACCTCAGGATTA-1 &  8791 &  723 & HCT116 & 9.081484 & 0.08224320\\\\\n",
       "\te18l4\\_TTGGCTATCACGAATA-1 & e18l4\\_TTGGCTATCACGAATA-1 &  9322 & 1232 & HCT116 & 9.140132 & 0.13216048\\\\\n",
       "\te18l4\\_TTGTCCAAGCGAGTTG-1 & e18l4\\_TTGTCCAAGCGAGTTG-1 &  7970 &  908 & HCT116 & 8.983440 & 0.11392723\\\\\n",
       "\te18l4\\_TTGTGAGCAAGGCTGT-1 & e18l4\\_TTGTGAGCAAGGCTGT-1 &  4178 &   98 & HCT116 & 8.337588 & 0.02345620\\\\\n",
       "\te18l4\\_TTGTGGCTCACCCTCC-1 & e18l4\\_TTGTGGCTCACCCTCC-1 &  6917 &  406 & HCT116 & 8.841737 & 0.05869597\\\\\n",
       "\te18l4\\_TTGTTGAGTGTGATGA-1 & e18l4\\_TTGTTGAGTGTGATGA-1 &  7730 &  790 & HCT116 & 8.952864 & 0.10219922\\\\\n",
       "\te18l4\\_TTGTTGAGTTGACCGC-1 & e18l4\\_TTGTTGAGTTGACCGC-1 &  7197 &  883 & HCT116 & 8.881420 & 0.12269001\\\\\n",
       "\te18l4\\_TTTACTGCACAGCAAC-1 & e18l4\\_TTTACTGCACAGCAAC-1 &  3303 &   86 & HCT116 & 8.102586 & 0.02603694\\\\\n",
       "\te18l4\\_TTTACTGCACGCAATA-1 & e18l4\\_TTTACTGCACGCAATA-1 &  2044 &   28 & HCT116 & 7.622664 & 0.01369863\\\\\n",
       "\te18l4\\_TTTAGCTAGCGGGAAG-1 & e18l4\\_TTTAGCTAGCGGGAAG-1 &  4019 &   55 & HCT116 & 8.298788 & 0.01368500\\\\\n",
       "\te18l4\\_TTTATCCGTATCGCTG-1 & e18l4\\_TTTATCCGTATCGCTG-1 &  3484 &  428 & HCT116 & 8.155936 & 0.12284730\\\\\n",
       "\te18l4\\_TTTATCCGTCCGGTTA-1 & e18l4\\_TTTATCCGTCCGGTTA-1 &  8171 & 1332 & HCT116 & 9.008347 & 0.16301554\\\\\n",
       "\te18l4\\_TTTCAGTAGATTAGCA-1 & e18l4\\_TTTCAGTAGATTAGCA-1 & 16876 & 1630 & HCT116 & 9.733648 & 0.09658687\\\\\n",
       "\te18l4\\_TTTCAGTAGTGAGGCC-1 & e18l4\\_TTTCAGTAGTGAGGCC-1 &  5770 &  552 & HCT116 & 8.660427 & 0.09566724\\\\\n",
       "\te18l4\\_TTTGCTCTCCGCCATG-1 & e18l4\\_TTTGCTCTCCGCCATG-1 &  3657 &   58 & HCT116 & 8.204398 & 0.01585999\\\\\n",
       "\\end{tabular}\n"
      ],
      "text/markdown": [
       "\n",
       "A data.frame: 4825 × 6\n",
       "\n",
       "| <!--/--> | cell &lt;chr&gt; | nUMI &lt;dbl&gt; | nMito &lt;dbl&gt; | celltype &lt;chr&gt; | log.nUMI &lt;dbl&gt; | percent.mito &lt;dbl&gt; |\n",
       "|---|---|---|---|---|---|---|\n",
       "| e18l1_AAACCGGTCGCCTGTG-1 | e18l1_AAACCGGTCGCCTGTG-1 | 6851 |  801 | HCT116 | 8.832150 | 0.116917238 |\n",
       "| e18l1_AAACCGGTCGTTGTCA-1 | e18l1_AAACCGGTCGTTGTCA-1 | 6046 |  410 | HCT116 | 8.707152 | 0.067813430 |\n",
       "| e18l1_AAACCGGTCTTGACCA-1 | e18l1_AAACCGGTCTTGACCA-1 | 2409 |  386 | HCT116 | 7.786967 | 0.160232462 |\n",
       "| e18l1_AAACGGGCATTGTCTA-1 | e18l1_AAACGGGCATTGTCTA-1 | 1674 |  153 | HCT116 | 7.422971 | 0.091397849 |\n",
       "| e18l1_AAACTCGCATCCTGCA-1 | e18l1_AAACTCGCATCCTGCA-1 | 2789 |   19 | HCT116 | 7.933438 | 0.006812478 |\n",
       "| e18l1_AAAGCCTAGATTGACA-1 | e18l1_AAAGCCTAGATTGACA-1 | 3557 |  437 | HCT116 | 8.176673 | 0.122856340 |\n",
       "| e18l1_AAAGCCTAGCATAGCG-1 | e18l1_AAAGCCTAGCATAGCG-1 | 5704 |  658 | HCT116 | 8.648923 | 0.115357644 |\n",
       "| e18l1_AAAGGAAGTGTTACTA-1 | e18l1_AAAGGAAGTGTTACTA-1 | 3433 |  447 | HCT116 | 8.141190 | 0.130206816 |\n",
       "| e18l1_AAAGGCGCATGATGGC-1 | e18l1_AAAGGCGCATGATGGC-1 | 1352 |  248 | HCT116 | 7.209340 | 0.183431953 |\n",
       "| e18l1_AAAGGCTTCTTAGGTT-1 | e18l1_AAAGGCTTCTTAGGTT-1 | 2452 |  213 | HCT116 | 7.804659 | 0.086867863 |\n",
       "| e18l1_AAAGGGATCATTTAGC-1 | e18l1_AAAGGGATCATTTAGC-1 | 2247 |  158 | HCT116 | 7.717351 | 0.070315977 |\n",
       "| e18l1_AAAGGTACAGGTTTCT-1 | e18l1_AAAGGTACAGGTTTCT-1 | 8095 | 1211 | HCT116 | 8.999002 | 0.149598518 |\n",
       "| e18l1_AAAGGTACATGAGGAG-1 | e18l1_AAAGGTACATGAGGAG-1 | 3262 |  246 | HCT116 | 8.090096 | 0.075413857 |\n",
       "| e18l1_AAAGTCATCGGCTATC-1 | e18l1_AAAGTCATCGGCTATC-1 | 1378 |   36 | HCT116 | 7.228388 | 0.026124819 |\n",
       "| e18l1_AAATAGGCAGCTCAAA-1 | e18l1_AAATAGGCAGCTCAAA-1 | 2771 |   44 | HCT116 | 7.926964 | 0.015878744 |\n",
       "| e18l1_AAATCGATCATTGCGC-1 | e18l1_AAATCGATCATTGCGC-1 | 1817 |  191 | HCT116 | 7.504942 | 0.105118327 |\n",
       "| e18l1_AAATCGATCCAAACTT-1 | e18l1_AAATCGATCCAAACTT-1 | 2440 |  264 | HCT116 | 7.799753 | 0.108196721 |\n",
       "| e18l1_AACACTAAGCAGCCAA-1 | e18l1_AACACTAAGCAGCCAA-1 | 2497 |  411 | HCT116 | 7.822845 | 0.164597517 |\n",
       "| e18l1_AACATAGTCGTTGTCA-1 | e18l1_AACATAGTCGTTGTCA-1 | 8144 |  972 | HCT116 | 9.005037 | 0.119351670 |\n",
       "| e18l1_AACATGATCGGTAATA-1 | e18l1_AACATGATCGGTAATA-1 | 4704 |  660 | HCT116 | 8.456168 | 0.140306122 |\n",
       "| e18l1_AACCTTAGTGCACAAA-1 | e18l1_AACCTTAGTGCACAAA-1 | 6609 | 1016 | HCT116 | 8.796188 | 0.153729762 |\n",
       "| e18l1_AACCTTAGTTTGGTGT-1 | e18l1_AACCTTAGTTTGGTGT-1 | 3140 |  237 | HCT116 | 8.051978 | 0.075477707 |\n",
       "| e18l1_AACCTTTAGATAGCTA-1 | e18l1_AACCTTTAGATAGCTA-1 | 3214 |   38 | HCT116 | 8.075272 | 0.011823273 |\n",
       "| e18l1_AACGATTCAACCAAAT-1 | e18l1_AACGATTCAACCAAAT-1 | 2714 |  343 | HCT116 | 7.906179 | 0.126381724 |\n",
       "| e18l1_AACGCCCGTCCATTAA-1 | e18l1_AACGCCCGTCCATTAA-1 | 5013 |  445 | HCT116 | 8.519790 | 0.088769200 |\n",
       "| e18l1_AACGCCCGTGCAATAG-1 | e18l1_AACGCCCGTGCAATAG-1 | 3396 |  501 | HCT116 | 8.130354 | 0.147526502 |\n",
       "| e18l1_AACGGATTCCTAGGTC-1 | e18l1_AACGGATTCCTAGGTC-1 | 2292 |  352 | HCT116 | 7.737180 | 0.153577661 |\n",
       "| e18l1_AACGGTGTCGATATAG-1 | e18l1_AACGGTGTCGATATAG-1 | 3079 |  419 | HCT116 | 8.032360 | 0.136083144 |\n",
       "| e18l1_AACGGTGTCTAAGCGG-1 | e18l1_AACGGTGTCTAAGCGG-1 | 3681 |  587 | HCT116 | 8.210940 | 0.159467536 |\n",
       "| e18l1_AACGGTTAGTTACCGC-1 | e18l1_AACGGTTAGTTACCGC-1 | 2221 |  293 | HCT116 | 7.705713 | 0.131922557 |\n",
       "| ⋮ | ⋮ | ⋮ | ⋮ | ⋮ | ⋮ | ⋮ |\n",
       "| e18l4_TTCCGCACAGTTCCCA-1 | e18l4_TTCCGCACAGTTCCCA-1 |  1650 |   86 | HCT116 | 7.408531 | 0.05212121 |\n",
       "| e18l4_TTCGCGAGTGCGATTT-1 | e18l4_TTCGCGAGTGCGATTT-1 | 11654 | 1734 | HCT116 | 9.363405 | 0.14879011 |\n",
       "| e18l4_TTCGCGAGTGCGGTTC-1 | e18l4_TTCGCGAGTGCGGTTC-1 |  5513 |  869 | HCT116 | 8.614864 | 0.15762743 |\n",
       "| e18l4_TTCGTTACAACGGTGT-1 | e18l4_TTCGTTACAACGGTGT-1 | 12287 | 2320 | HCT116 | 9.416297 | 0.18881745 |\n",
       "| e18l4_TTCTATCGTCATGCCA-1 | e18l4_TTCTATCGTCATGCCA-1 |  7073 | 1118 | HCT116 | 8.864040 | 0.15806588 |\n",
       "| e18l4_TTCTGTGAGCATTATC-1 | e18l4_TTCTGTGAGCATTATC-1 |  4008 |   50 | HCT116 | 8.296048 | 0.01247505 |\n",
       "| e18l4_TTGAACAAGTCTTGCA-1 | e18l4_TTGAACAAGTCTTGCA-1 | 11880 | 1628 | HCT116 | 9.382612 | 0.13703704 |\n",
       "| e18l4_TTGATCAGTCCCGGAT-1 | e18l4_TTGATCAGTCCCGGAT-1 |  3214 |  110 | HCT116 | 8.075272 | 0.03422526 |\n",
       "| e18l4_TTGCAAGCATCAGTTC-1 | e18l4_TTGCAAGCATCAGTTC-1 |  5429 |  985 | HCT116 | 8.599510 | 0.18143304 |\n",
       "| e18l4_TTGCAGCTCCTGCAAC-1 | e18l4_TTGCAGCTCCTGCAAC-1 |  2210 |  398 | HCT116 | 7.700748 | 0.18009050 |\n",
       "| e18l4_TTGCGGGCATGCCTGC-1 | e18l4_TTGCGGGCATGCCTGC-1 |  3439 |  661 | HCT116 | 8.142936 | 0.19220704 |\n",
       "| e18l4_TTGCTCCGTTTGCTCC-1 | e18l4_TTGCTCCGTTTGCTCC-1 |  6806 |  848 | HCT116 | 8.825560 | 0.12459594 |\n",
       "| e18l4_TTGCTGGGTGAGGAAG-1 | e18l4_TTGCTGGGTGAGGAAG-1 |  7198 | 1135 | HCT116 | 8.881558 | 0.15768269 |\n",
       "| e18l4_TTGCTGGGTTCCGGAC-1 | e18l4_TTGCTGGGTTCCGGAC-1 |  3835 |   54 | HCT116 | 8.251925 | 0.01408083 |\n",
       "| e18l4_TTGGACCTCAATATCC-1 | e18l4_TTGGACCTCAATATCC-1 | 14738 | 3520 | HCT116 | 9.598184 | 0.23883838 |\n",
       "| e18l4_TTGGACCTCAGGATTA-1 | e18l4_TTGGACCTCAGGATTA-1 |  8791 |  723 | HCT116 | 9.081484 | 0.08224320 |\n",
       "| e18l4_TTGGCTATCACGAATA-1 | e18l4_TTGGCTATCACGAATA-1 |  9322 | 1232 | HCT116 | 9.140132 | 0.13216048 |\n",
       "| e18l4_TTGTCCAAGCGAGTTG-1 | e18l4_TTGTCCAAGCGAGTTG-1 |  7970 |  908 | HCT116 | 8.983440 | 0.11392723 |\n",
       "| e18l4_TTGTGAGCAAGGCTGT-1 | e18l4_TTGTGAGCAAGGCTGT-1 |  4178 |   98 | HCT116 | 8.337588 | 0.02345620 |\n",
       "| e18l4_TTGTGGCTCACCCTCC-1 | e18l4_TTGTGGCTCACCCTCC-1 |  6917 |  406 | HCT116 | 8.841737 | 0.05869597 |\n",
       "| e18l4_TTGTTGAGTGTGATGA-1 | e18l4_TTGTTGAGTGTGATGA-1 |  7730 |  790 | HCT116 | 8.952864 | 0.10219922 |\n",
       "| e18l4_TTGTTGAGTTGACCGC-1 | e18l4_TTGTTGAGTTGACCGC-1 |  7197 |  883 | HCT116 | 8.881420 | 0.12269001 |\n",
       "| e18l4_TTTACTGCACAGCAAC-1 | e18l4_TTTACTGCACAGCAAC-1 |  3303 |   86 | HCT116 | 8.102586 | 0.02603694 |\n",
       "| e18l4_TTTACTGCACGCAATA-1 | e18l4_TTTACTGCACGCAATA-1 |  2044 |   28 | HCT116 | 7.622664 | 0.01369863 |\n",
       "| e18l4_TTTAGCTAGCGGGAAG-1 | e18l4_TTTAGCTAGCGGGAAG-1 |  4019 |   55 | HCT116 | 8.298788 | 0.01368500 |\n",
       "| e18l4_TTTATCCGTATCGCTG-1 | e18l4_TTTATCCGTATCGCTG-1 |  3484 |  428 | HCT116 | 8.155936 | 0.12284730 |\n",
       "| e18l4_TTTATCCGTCCGGTTA-1 | e18l4_TTTATCCGTCCGGTTA-1 |  8171 | 1332 | HCT116 | 9.008347 | 0.16301554 |\n",
       "| e18l4_TTTCAGTAGATTAGCA-1 | e18l4_TTTCAGTAGATTAGCA-1 | 16876 | 1630 | HCT116 | 9.733648 | 0.09658687 |\n",
       "| e18l4_TTTCAGTAGTGAGGCC-1 | e18l4_TTTCAGTAGTGAGGCC-1 |  5770 |  552 | HCT116 | 8.660427 | 0.09566724 |\n",
       "| e18l4_TTTGCTCTCCGCCATG-1 | e18l4_TTTGCTCTCCGCCATG-1 |  3657 |   58 | HCT116 | 8.204398 | 0.01585999 |\n",
       "\n"
      ],
      "text/plain": [
       "                         cell                     nUMI  nMito celltype log.nUMI\n",
       "e18l1_AAACCGGTCGCCTGTG-1 e18l1_AAACCGGTCGCCTGTG-1 6851   801  HCT116   8.832150\n",
       "e18l1_AAACCGGTCGTTGTCA-1 e18l1_AAACCGGTCGTTGTCA-1 6046   410  HCT116   8.707152\n",
       "e18l1_AAACCGGTCTTGACCA-1 e18l1_AAACCGGTCTTGACCA-1 2409   386  HCT116   7.786967\n",
       "e18l1_AAACGGGCATTGTCTA-1 e18l1_AAACGGGCATTGTCTA-1 1674   153  HCT116   7.422971\n",
       "e18l1_AAACTCGCATCCTGCA-1 e18l1_AAACTCGCATCCTGCA-1 2789    19  HCT116   7.933438\n",
       "e18l1_AAAGCCTAGATTGACA-1 e18l1_AAAGCCTAGATTGACA-1 3557   437  HCT116   8.176673\n",
       "e18l1_AAAGCCTAGCATAGCG-1 e18l1_AAAGCCTAGCATAGCG-1 5704   658  HCT116   8.648923\n",
       "e18l1_AAAGGAAGTGTTACTA-1 e18l1_AAAGGAAGTGTTACTA-1 3433   447  HCT116   8.141190\n",
       "e18l1_AAAGGCGCATGATGGC-1 e18l1_AAAGGCGCATGATGGC-1 1352   248  HCT116   7.209340\n",
       "e18l1_AAAGGCTTCTTAGGTT-1 e18l1_AAAGGCTTCTTAGGTT-1 2452   213  HCT116   7.804659\n",
       "e18l1_AAAGGGATCATTTAGC-1 e18l1_AAAGGGATCATTTAGC-1 2247   158  HCT116   7.717351\n",
       "e18l1_AAAGGTACAGGTTTCT-1 e18l1_AAAGGTACAGGTTTCT-1 8095  1211  HCT116   8.999002\n",
       "e18l1_AAAGGTACATGAGGAG-1 e18l1_AAAGGTACATGAGGAG-1 3262   246  HCT116   8.090096\n",
       "e18l1_AAAGTCATCGGCTATC-1 e18l1_AAAGTCATCGGCTATC-1 1378    36  HCT116   7.228388\n",
       "e18l1_AAATAGGCAGCTCAAA-1 e18l1_AAATAGGCAGCTCAAA-1 2771    44  HCT116   7.926964\n",
       "e18l1_AAATCGATCATTGCGC-1 e18l1_AAATCGATCATTGCGC-1 1817   191  HCT116   7.504942\n",
       "e18l1_AAATCGATCCAAACTT-1 e18l1_AAATCGATCCAAACTT-1 2440   264  HCT116   7.799753\n",
       "e18l1_AACACTAAGCAGCCAA-1 e18l1_AACACTAAGCAGCCAA-1 2497   411  HCT116   7.822845\n",
       "e18l1_AACATAGTCGTTGTCA-1 e18l1_AACATAGTCGTTGTCA-1 8144   972  HCT116   9.005037\n",
       "e18l1_AACATGATCGGTAATA-1 e18l1_AACATGATCGGTAATA-1 4704   660  HCT116   8.456168\n",
       "e18l1_AACCTTAGTGCACAAA-1 e18l1_AACCTTAGTGCACAAA-1 6609  1016  HCT116   8.796188\n",
       "e18l1_AACCTTAGTTTGGTGT-1 e18l1_AACCTTAGTTTGGTGT-1 3140   237  HCT116   8.051978\n",
       "e18l1_AACCTTTAGATAGCTA-1 e18l1_AACCTTTAGATAGCTA-1 3214    38  HCT116   8.075272\n",
       "e18l1_AACGATTCAACCAAAT-1 e18l1_AACGATTCAACCAAAT-1 2714   343  HCT116   7.906179\n",
       "e18l1_AACGCCCGTCCATTAA-1 e18l1_AACGCCCGTCCATTAA-1 5013   445  HCT116   8.519790\n",
       "e18l1_AACGCCCGTGCAATAG-1 e18l1_AACGCCCGTGCAATAG-1 3396   501  HCT116   8.130354\n",
       "e18l1_AACGGATTCCTAGGTC-1 e18l1_AACGGATTCCTAGGTC-1 2292   352  HCT116   7.737180\n",
       "e18l1_AACGGTGTCGATATAG-1 e18l1_AACGGTGTCGATATAG-1 3079   419  HCT116   8.032360\n",
       "e18l1_AACGGTGTCTAAGCGG-1 e18l1_AACGGTGTCTAAGCGG-1 3681   587  HCT116   8.210940\n",
       "e18l1_AACGGTTAGTTACCGC-1 e18l1_AACGGTTAGTTACCGC-1 2221   293  HCT116   7.705713\n",
       "⋮                        ⋮                        ⋮     ⋮     ⋮        ⋮       \n",
       "e18l4_TTCCGCACAGTTCCCA-1 e18l4_TTCCGCACAGTTCCCA-1  1650   86  HCT116   7.408531\n",
       "e18l4_TTCGCGAGTGCGATTT-1 e18l4_TTCGCGAGTGCGATTT-1 11654 1734  HCT116   9.363405\n",
       "e18l4_TTCGCGAGTGCGGTTC-1 e18l4_TTCGCGAGTGCGGTTC-1  5513  869  HCT116   8.614864\n",
       "e18l4_TTCGTTACAACGGTGT-1 e18l4_TTCGTTACAACGGTGT-1 12287 2320  HCT116   9.416297\n",
       "e18l4_TTCTATCGTCATGCCA-1 e18l4_TTCTATCGTCATGCCA-1  7073 1118  HCT116   8.864040\n",
       "e18l4_TTCTGTGAGCATTATC-1 e18l4_TTCTGTGAGCATTATC-1  4008   50  HCT116   8.296048\n",
       "e18l4_TTGAACAAGTCTTGCA-1 e18l4_TTGAACAAGTCTTGCA-1 11880 1628  HCT116   9.382612\n",
       "e18l4_TTGATCAGTCCCGGAT-1 e18l4_TTGATCAGTCCCGGAT-1  3214  110  HCT116   8.075272\n",
       "e18l4_TTGCAAGCATCAGTTC-1 e18l4_TTGCAAGCATCAGTTC-1  5429  985  HCT116   8.599510\n",
       "e18l4_TTGCAGCTCCTGCAAC-1 e18l4_TTGCAGCTCCTGCAAC-1  2210  398  HCT116   7.700748\n",
       "e18l4_TTGCGGGCATGCCTGC-1 e18l4_TTGCGGGCATGCCTGC-1  3439  661  HCT116   8.142936\n",
       "e18l4_TTGCTCCGTTTGCTCC-1 e18l4_TTGCTCCGTTTGCTCC-1  6806  848  HCT116   8.825560\n",
       "e18l4_TTGCTGGGTGAGGAAG-1 e18l4_TTGCTGGGTGAGGAAG-1  7198 1135  HCT116   8.881558\n",
       "e18l4_TTGCTGGGTTCCGGAC-1 e18l4_TTGCTGGGTTCCGGAC-1  3835   54  HCT116   8.251925\n",
       "e18l4_TTGGACCTCAATATCC-1 e18l4_TTGGACCTCAATATCC-1 14738 3520  HCT116   9.598184\n",
       "e18l4_TTGGACCTCAGGATTA-1 e18l4_TTGGACCTCAGGATTA-1  8791  723  HCT116   9.081484\n",
       "e18l4_TTGGCTATCACGAATA-1 e18l4_TTGGCTATCACGAATA-1  9322 1232  HCT116   9.140132\n",
       "e18l4_TTGTCCAAGCGAGTTG-1 e18l4_TTGTCCAAGCGAGTTG-1  7970  908  HCT116   8.983440\n",
       "e18l4_TTGTGAGCAAGGCTGT-1 e18l4_TTGTGAGCAAGGCTGT-1  4178   98  HCT116   8.337588\n",
       "e18l4_TTGTGGCTCACCCTCC-1 e18l4_TTGTGGCTCACCCTCC-1  6917  406  HCT116   8.841737\n",
       "e18l4_TTGTTGAGTGTGATGA-1 e18l4_TTGTTGAGTGTGATGA-1  7730  790  HCT116   8.952864\n",
       "e18l4_TTGTTGAGTTGACCGC-1 e18l4_TTGTTGAGTTGACCGC-1  7197  883  HCT116   8.881420\n",
       "e18l4_TTTACTGCACAGCAAC-1 e18l4_TTTACTGCACAGCAAC-1  3303   86  HCT116   8.102586\n",
       "e18l4_TTTACTGCACGCAATA-1 e18l4_TTTACTGCACGCAATA-1  2044   28  HCT116   7.622664\n",
       "e18l4_TTTAGCTAGCGGGAAG-1 e18l4_TTTAGCTAGCGGGAAG-1  4019   55  HCT116   8.298788\n",
       "e18l4_TTTATCCGTATCGCTG-1 e18l4_TTTATCCGTATCGCTG-1  3484  428  HCT116   8.155936\n",
       "e18l4_TTTATCCGTCCGGTTA-1 e18l4_TTTATCCGTCCGGTTA-1  8171 1332  HCT116   9.008347\n",
       "e18l4_TTTCAGTAGATTAGCA-1 e18l4_TTTCAGTAGATTAGCA-1 16876 1630  HCT116   9.733648\n",
       "e18l4_TTTCAGTAGTGAGGCC-1 e18l4_TTTCAGTAGTGAGGCC-1  5770  552  HCT116   8.660427\n",
       "e18l4_TTTGCTCTCCGCCATG-1 e18l4_TTTGCTCTCCGCCATG-1  3657   58  HCT116   8.204398\n",
       "                         percent.mito\n",
       "e18l1_AAACCGGTCGCCTGTG-1 0.116917238 \n",
       "e18l1_AAACCGGTCGTTGTCA-1 0.067813430 \n",
       "e18l1_AAACCGGTCTTGACCA-1 0.160232462 \n",
       "e18l1_AAACGGGCATTGTCTA-1 0.091397849 \n",
       "e18l1_AAACTCGCATCCTGCA-1 0.006812478 \n",
       "e18l1_AAAGCCTAGATTGACA-1 0.122856340 \n",
       "e18l1_AAAGCCTAGCATAGCG-1 0.115357644 \n",
       "e18l1_AAAGGAAGTGTTACTA-1 0.130206816 \n",
       "e18l1_AAAGGCGCATGATGGC-1 0.183431953 \n",
       "e18l1_AAAGGCTTCTTAGGTT-1 0.086867863 \n",
       "e18l1_AAAGGGATCATTTAGC-1 0.070315977 \n",
       "e18l1_AAAGGTACAGGTTTCT-1 0.149598518 \n",
       "e18l1_AAAGGTACATGAGGAG-1 0.075413857 \n",
       "e18l1_AAAGTCATCGGCTATC-1 0.026124819 \n",
       "e18l1_AAATAGGCAGCTCAAA-1 0.015878744 \n",
       "e18l1_AAATCGATCATTGCGC-1 0.105118327 \n",
       "e18l1_AAATCGATCCAAACTT-1 0.108196721 \n",
       "e18l1_AACACTAAGCAGCCAA-1 0.164597517 \n",
       "e18l1_AACATAGTCGTTGTCA-1 0.119351670 \n",
       "e18l1_AACATGATCGGTAATA-1 0.140306122 \n",
       "e18l1_AACCTTAGTGCACAAA-1 0.153729762 \n",
       "e18l1_AACCTTAGTTTGGTGT-1 0.075477707 \n",
       "e18l1_AACCTTTAGATAGCTA-1 0.011823273 \n",
       "e18l1_AACGATTCAACCAAAT-1 0.126381724 \n",
       "e18l1_AACGCCCGTCCATTAA-1 0.088769200 \n",
       "e18l1_AACGCCCGTGCAATAG-1 0.147526502 \n",
       "e18l1_AACGGATTCCTAGGTC-1 0.153577661 \n",
       "e18l1_AACGGTGTCGATATAG-1 0.136083144 \n",
       "e18l1_AACGGTGTCTAAGCGG-1 0.159467536 \n",
       "e18l1_AACGGTTAGTTACCGC-1 0.131922557 \n",
       "⋮                        ⋮           \n",
       "e18l4_TTCCGCACAGTTCCCA-1 0.05212121  \n",
       "e18l4_TTCGCGAGTGCGATTT-1 0.14879011  \n",
       "e18l4_TTCGCGAGTGCGGTTC-1 0.15762743  \n",
       "e18l4_TTCGTTACAACGGTGT-1 0.18881745  \n",
       "e18l4_TTCTATCGTCATGCCA-1 0.15806588  \n",
       "e18l4_TTCTGTGAGCATTATC-1 0.01247505  \n",
       "e18l4_TTGAACAAGTCTTGCA-1 0.13703704  \n",
       "e18l4_TTGATCAGTCCCGGAT-1 0.03422526  \n",
       "e18l4_TTGCAAGCATCAGTTC-1 0.18143304  \n",
       "e18l4_TTGCAGCTCCTGCAAC-1 0.18009050  \n",
       "e18l4_TTGCGGGCATGCCTGC-1 0.19220704  \n",
       "e18l4_TTGCTCCGTTTGCTCC-1 0.12459594  \n",
       "e18l4_TTGCTGGGTGAGGAAG-1 0.15768269  \n",
       "e18l4_TTGCTGGGTTCCGGAC-1 0.01408083  \n",
       "e18l4_TTGGACCTCAATATCC-1 0.23883838  \n",
       "e18l4_TTGGACCTCAGGATTA-1 0.08224320  \n",
       "e18l4_TTGGCTATCACGAATA-1 0.13216048  \n",
       "e18l4_TTGTCCAAGCGAGTTG-1 0.11392723  \n",
       "e18l4_TTGTGAGCAAGGCTGT-1 0.02345620  \n",
       "e18l4_TTGTGGCTCACCCTCC-1 0.05869597  \n",
       "e18l4_TTGTTGAGTGTGATGA-1 0.10219922  \n",
       "e18l4_TTGTTGAGTTGACCGC-1 0.12269001  \n",
       "e18l4_TTTACTGCACAGCAAC-1 0.02603694  \n",
       "e18l4_TTTACTGCACGCAATA-1 0.01369863  \n",
       "e18l4_TTTAGCTAGCGGGAAG-1 0.01368500  \n",
       "e18l4_TTTATCCGTATCGCTG-1 0.12284730  \n",
       "e18l4_TTTATCCGTCCGGTTA-1 0.16301554  \n",
       "e18l4_TTTCAGTAGATTAGCA-1 0.09658687  \n",
       "e18l4_TTTCAGTAGTGAGGCC-1 0.09566724  \n",
       "e18l4_TTTGCTCTCCGCCATG-1 0.01585999  "
      ]
     },
     "metadata": {},
     "output_type": "display_data"
    }
   ],
   "source": [
    "meta.data = data.frame(cell = colnames(matrix.rna),\n",
    "                       nUMI = colSums(matrix.rna),\n",
    "                       nMito = colSums(matrix.rna[grep(\"MT-\",rownames(matrix.rna)),]),\n",
    "                       celltype = celltype)\n",
    "meta.data[,\"log.nUMI\"] = log(meta.data[,\"nUMI\"])\n",
    "meta.data[,\"percent.mito\"] = meta.data[,\"nMito\"] / meta.data[,\"nUMI\"]\n",
    "meta.data"
   ]
  },
  {
   "cell_type": "markdown",
   "id": "b823cb4a-3ce6-40b1-9a0d-d5d1e4aa3912",
   "metadata": {},
   "source": [
    "RUN SCENT prediction"
   ]
  },
  {
   "cell_type": "code",
   "execution_count": 17,
   "id": "f46765dc-9de5-4411-9288-40b59435f9fb",
   "metadata": {},
   "outputs": [],
   "source": [
    "RhpcBLASctl::blas_set_num_threads(1)\n",
    "Sys.setenv(OPENBLAS_NUM_THREADS=1)\n",
    "SCENT_algorithm.modified = function (object, \n",
    "                                     # celltype, \n",
    "                                     # ncores, \n",
    "                                     # regr = \"poisson\", \n",
    "                                     # bin = TRUE) \n",
    "                                     regr = \"poisson\") {\n",
    "    res <- data.frame()\n",
    "    for (n in 1:nrow(object@peak.info)) {        \n",
    "        gene <- object@peak.info[n, 1]\n",
    "        this_peak <- object@peak.info[n, 2]\n",
    "        atac_target <- data.frame(cell = colnames(object@atac), \n",
    "            atac = object@atac[this_peak, ])\n",
    "        # if (bin) {\n",
    "        #     atac_target[atac_target$atac > 0, ]$atac <- 1\n",
    "        # }\n",
    "        mrna_target <- object@rna[gene, ]\n",
    "        df <- data.frame(cell = names(mrna_target), exprs = as.numeric(mrna_target))\n",
    "        df <- merge(df, atac_target, by = \"cell\")\n",
    "        df <- merge(df, object@meta.data, by = \"cell\")\n",
    "        # df2 <- df[df[[object@celltypes]] == celltype, ]\n",
    "        df2 <- df\n",
    "        nonzero_m <- length(df2$exprs[df2$exprs > 0])/length(df2$exprs)\n",
    "        nonzero_a <- length(df2$atac[df2$atac > 0])/length(df2$atac)\n",
    "        if (nonzero_m > 0.05 & nonzero_a > 0.05) {\n",
    "            res_var <- \"exprs\"\n",
    "            pred_var <- c(\"atac\", object@covariates)\n",
    "            formula <- as.formula(paste(res_var, paste(pred_var, \n",
    "                collapse = \"+\"), sep = \"~\"))\n",
    "            if (regr == \"poisson\") {\n",
    "                base = glm(formula, family = \"poisson\", data = df2)\n",
    "                coefs <- summary(base)$coefficients[\"atac\", ]\n",
    "                # assoc <- assoc_poisson\n",
    "                assoc <- SCENT::assoc_poisson\n",
    "            }\n",
    "            else if (regr == \"negbin\") {\n",
    "                base = glm.nb(formula, data = df2)\n",
    "                coefs <- summary(base)$coefficients[\"atac\", ]\n",
    "                # assoc <- assoc_negbin\n",
    "                assoc <- SCENT::assoc_negbin\n",
    "            }\n",
    "            bs = boot::boot(df2, assoc, R = 100, formula = formula, \n",
    "                stype = \"i\", parallel = \"no\", ncpus = 1)\n",
    "            # p0 = basic_p(bs$t0[1], bs$t[, 1])\n",
    "            p0 = SCENT::basic_p(bs$t0[1], bs$t[, 1])\n",
    "            if (p0 < 0.1) {\n",
    "                bs = boot::boot(df2, assoc, R = 500, formula = formula, \n",
    "                  stype = \"i\", \n",
    "                  # parallel = \"multicore\", ncpus = ncores)\n",
    "                  parallel = \"no\", ncpus = 1)\n",
    "                # p0 = basic_p(bs$t0[1], bs$t[, 1])\n",
    "                p0 = SCENT::basic_p(bs$t0[1], bs$t[, 1])\n",
    "            }\n",
    "            # if (p0 < 0.05) {\n",
    "            #     bs = boot::boot(df2, assoc, R = 2500, formula = formula, \n",
    "            #       stype = \"i\", \n",
    "            #       # parallel = \"multicore\", ncpus = ncores)\n",
    "            #       parallel = \"no\", ncpus = 1)\n",
    "            #     # p0 = basic_p(bs$t0[1], bs$t[, 1])\n",
    "            #     p0 = SCENT::basic_p(bs$t0[1], bs$t[, 1])\n",
    "            # }\n",
    "            # if (p0 < 0.01) {\n",
    "            #     bs = boot::boot(df2, assoc, R = 25000, formula = formula, \n",
    "            #       stype = \"i\", \n",
    "            #       # parallel = \"multicore\", ncpus = ncores)\n",
    "            #       parallel = \"no\", ncpus = 1)\n",
    "            #     # p0 = basic_p(bs$t0[1], bs$t[, 1])\n",
    "            #     p0 = SCENT::basic_p(bs$t0[1], bs$t[, 1])\n",
    "            # }\n",
    "            # if (p0 < 0.001) {\n",
    "            #     bs = boot::boot(df2, assoc, R = 50000, formula = formula, \n",
    "            #       stype = \"i\", \n",
    "            #       # parallel = \"multicore\", ncpus = ncores)\n",
    "            #       parallel = \"no\", ncpus = 1)\n",
    "            #     # p0 = basic_p(bs$t0[1], bs$t[, 1])\n",
    "            #     p0 = SCENT::basic_p(bs$t0[1], bs$t[, 1])\n",
    "            # }\n",
    "            out <- data.frame(gene = gene, peak = this_peak, \n",
    "                beta = coefs[1], se = coefs[2], z = coefs[3], \n",
    "                p = coefs[4], boot_basic_p = p0)           \n",
    "            res <- rbind(res, out)\n",
    "        }\n",
    "    }\n",
    "    object@SCENT.result <- res\n",
    "    return(object)\n",
    "}"
   ]
  },
  {
   "cell_type": "code",
   "execution_count": 18,
   "id": "563771b9-b96a-44d5-a5fe-fa30a7b9851b",
   "metadata": {},
   "outputs": [],
   "source": [
    "dir.create(paste(dir.output,\"chr\",sep = \"/\"),recursive = T)"
   ]
  },
  {
   "cell_type": "code",
   "execution_count": 19,
   "id": "0d2266ce-b92d-40d2-9b78-f39bd33a5079",
   "metadata": {},
   "outputs": [],
   "source": [
    "chr.done = dir(paste(dir.output,\"chr\",sep = \"/\"))\n",
    "chr.run = as.character(unique(seqnames(pairs.E2G)))\n",
    "chr.run = chr.run[!chr.run %in% chr.done]"
   ]
  },
  {
   "cell_type": "code",
   "execution_count": 20,
   "id": "2d41238d-e833-4e0e-add5-bb56bb615c1a",
   "metadata": {},
   "outputs": [
    {
     "name": "stdout",
     "output_type": "stream",
     "text": [
      "[1] \"chr1\"\n"
     ]
    },
    {
     "name": "stderr",
     "output_type": "stream",
     "text": [
      "Warning message in split.default(x = seq_len(nrow(x)), f = f, drop = drop, ...):\n",
      "“data length is not a multiple of split variable”\n"
     ]
    },
    {
     "name": "stdout",
     "output_type": "stream",
     "text": [
      "[1] \"chr10\"\n"
     ]
    },
    {
     "name": "stderr",
     "output_type": "stream",
     "text": [
      "Warning message in split.default(x = seq_len(nrow(x)), f = f, drop = drop, ...):\n",
      "“data length is not a multiple of split variable”\n"
     ]
    },
    {
     "name": "stdout",
     "output_type": "stream",
     "text": [
      "[1] \"chr11\"\n"
     ]
    },
    {
     "name": "stderr",
     "output_type": "stream",
     "text": [
      "Warning message in split.default(x = seq_len(nrow(x)), f = f, drop = drop, ...):\n",
      "“data length is not a multiple of split variable”\n"
     ]
    },
    {
     "name": "stdout",
     "output_type": "stream",
     "text": [
      "[1] \"chr12\"\n"
     ]
    },
    {
     "name": "stderr",
     "output_type": "stream",
     "text": [
      "Warning message in split.default(x = seq_len(nrow(x)), f = f, drop = drop, ...):\n",
      "“data length is not a multiple of split variable”\n"
     ]
    },
    {
     "name": "stdout",
     "output_type": "stream",
     "text": [
      "[1] \"chr13\"\n"
     ]
    },
    {
     "name": "stderr",
     "output_type": "stream",
     "text": [
      "Warning message in split.default(x = seq_len(nrow(x)), f = f, drop = drop, ...):\n",
      "“data length is not a multiple of split variable”\n"
     ]
    },
    {
     "name": "stdout",
     "output_type": "stream",
     "text": [
      "[1] \"chr14\"\n",
      "[1] \"chr15\"\n"
     ]
    },
    {
     "name": "stderr",
     "output_type": "stream",
     "text": [
      "Warning message in split.default(x = seq_len(nrow(x)), f = f, drop = drop, ...):\n",
      "“data length is not a multiple of split variable”\n"
     ]
    },
    {
     "name": "stdout",
     "output_type": "stream",
     "text": [
      "[1] \"chr16\"\n"
     ]
    },
    {
     "name": "stderr",
     "output_type": "stream",
     "text": [
      "Warning message in split.default(x = seq_len(nrow(x)), f = f, drop = drop, ...):\n",
      "“data length is not a multiple of split variable”\n"
     ]
    },
    {
     "name": "stdout",
     "output_type": "stream",
     "text": [
      "[1] \"chr17\"\n"
     ]
    },
    {
     "name": "stderr",
     "output_type": "stream",
     "text": [
      "Warning message in split.default(x = seq_len(nrow(x)), f = f, drop = drop, ...):\n",
      "“data length is not a multiple of split variable”\n"
     ]
    },
    {
     "name": "stdout",
     "output_type": "stream",
     "text": [
      "[1] \"chr18\"\n"
     ]
    },
    {
     "name": "stderr",
     "output_type": "stream",
     "text": [
      "Warning message in split.default(x = seq_len(nrow(x)), f = f, drop = drop, ...):\n",
      "“data length is not a multiple of split variable”\n"
     ]
    },
    {
     "name": "stdout",
     "output_type": "stream",
     "text": [
      "[1] \"chr19\"\n"
     ]
    },
    {
     "name": "stderr",
     "output_type": "stream",
     "text": [
      "Warning message in split.default(x = seq_len(nrow(x)), f = f, drop = drop, ...):\n",
      "“data length is not a multiple of split variable”\n"
     ]
    },
    {
     "name": "stdout",
     "output_type": "stream",
     "text": [
      "[1] \"chr2\"\n"
     ]
    },
    {
     "name": "stderr",
     "output_type": "stream",
     "text": [
      "Warning message in split.default(x = seq_len(nrow(x)), f = f, drop = drop, ...):\n",
      "“data length is not a multiple of split variable”\n"
     ]
    },
    {
     "name": "stdout",
     "output_type": "stream",
     "text": [
      "[1] \"chr20\"\n"
     ]
    },
    {
     "name": "stderr",
     "output_type": "stream",
     "text": [
      "Warning message in split.default(x = seq_len(nrow(x)), f = f, drop = drop, ...):\n",
      "“data length is not a multiple of split variable”\n"
     ]
    },
    {
     "name": "stdout",
     "output_type": "stream",
     "text": [
      "[1] \"chr21\"\n"
     ]
    },
    {
     "name": "stderr",
     "output_type": "stream",
     "text": [
      "Warning message in split.default(x = seq_len(nrow(x)), f = f, drop = drop, ...):\n",
      "“data length is not a multiple of split variable”\n"
     ]
    },
    {
     "name": "stdout",
     "output_type": "stream",
     "text": [
      "[1] \"chr22\"\n"
     ]
    },
    {
     "name": "stderr",
     "output_type": "stream",
     "text": [
      "Warning message in split.default(x = seq_len(nrow(x)), f = f, drop = drop, ...):\n",
      "“data length is not a multiple of split variable”\n"
     ]
    },
    {
     "name": "stdout",
     "output_type": "stream",
     "text": [
      "[1] \"chr3\"\n"
     ]
    },
    {
     "name": "stderr",
     "output_type": "stream",
     "text": [
      "Warning message in split.default(x = seq_len(nrow(x)), f = f, drop = drop, ...):\n",
      "“data length is not a multiple of split variable”\n"
     ]
    },
    {
     "name": "stdout",
     "output_type": "stream",
     "text": [
      "[1] \"chr4\"\n"
     ]
    },
    {
     "name": "stderr",
     "output_type": "stream",
     "text": [
      "Warning message in split.default(x = seq_len(nrow(x)), f = f, drop = drop, ...):\n",
      "“data length is not a multiple of split variable”\n"
     ]
    },
    {
     "name": "stdout",
     "output_type": "stream",
     "text": [
      "[1] \"chr5\"\n"
     ]
    },
    {
     "name": "stderr",
     "output_type": "stream",
     "text": [
      "Warning message in split.default(x = seq_len(nrow(x)), f = f, drop = drop, ...):\n",
      "“data length is not a multiple of split variable”\n"
     ]
    },
    {
     "name": "stdout",
     "output_type": "stream",
     "text": [
      "[1] \"chr6\"\n"
     ]
    },
    {
     "name": "stderr",
     "output_type": "stream",
     "text": [
      "Warning message in split.default(x = seq_len(nrow(x)), f = f, drop = drop, ...):\n",
      "“data length is not a multiple of split variable”\n"
     ]
    },
    {
     "name": "stdout",
     "output_type": "stream",
     "text": [
      "[1] \"chr7\"\n"
     ]
    },
    {
     "name": "stderr",
     "output_type": "stream",
     "text": [
      "Warning message in split.default(x = seq_len(nrow(x)), f = f, drop = drop, ...):\n",
      "“data length is not a multiple of split variable”\n"
     ]
    },
    {
     "name": "stdout",
     "output_type": "stream",
     "text": [
      "[1] \"chr8\"\n"
     ]
    },
    {
     "name": "stderr",
     "output_type": "stream",
     "text": [
      "Warning message in split.default(x = seq_len(nrow(x)), f = f, drop = drop, ...):\n",
      "“data length is not a multiple of split variable”\n"
     ]
    },
    {
     "name": "stdout",
     "output_type": "stream",
     "text": [
      "[1] \"chr9\"\n"
     ]
    },
    {
     "name": "stderr",
     "output_type": "stream",
     "text": [
      "Warning message in split.default(x = seq_len(nrow(x)), f = f, drop = drop, ...):\n",
      "“data length is not a multiple of split variable”\n"
     ]
    },
    {
     "name": "stdout",
     "output_type": "stream",
     "text": [
      "[1] \"chrX\"\n"
     ]
    },
    {
     "name": "stderr",
     "output_type": "stream",
     "text": [
      "Warning message in split.default(x = seq_len(nrow(x)), f = f, drop = drop, ...):\n",
      "“data length is not a multiple of split variable”\n"
     ]
    }
   ],
   "source": [
    "for(chr.tmp in chr.run){\n",
    "  print(chr.tmp)\n",
    "  pairs.E2G.chr.res = pairs.E2G.filter2[seqnames(pairs.E2G.filter2) == chr.tmp]\n",
    "  gene_peak.chr = as.data.frame(mcols(pairs.E2G.chr.res)[,c(\"TargetGene\",\"PeakName\")])\n",
    "  list.gene_peak.chr <- split(gene_peak.chr, seq_len(n.cores))\n",
    "  \n",
    "  list.obj.SCENT.chr <- lapply(list.gene_peak.chr, function(gene_peak.tmp) {\n",
    "    obj.SCENT.tmp <- CreateSCENTObj(\n",
    "      rna = matrix.rna.rename[rownames(matrix.rna.rename) %in% gene_peak.tmp$TargetGene,],\n",
    "      atac = matrix.atac[rownames(matrix.atac) %in% gene_peak.tmp$PeakName,], \n",
    "      meta.data = meta.data,\n",
    "      peak.info = gene_peak.tmp,\n",
    "      covariates = c(\"log.nUMI\",\"percent.mito\"), \n",
    "      celltypes = \"celltype\"\n",
    "    )\n",
    "  })\n",
    "  \n",
    "  cl <- makeCluster(n.cores)\n",
    "  clusterExport(cl, varlist=c(\"SCENT_algorithm.modified\"))\n",
    "  list.SCENT.result.chr <- parLapply(cl, list.obj.SCENT.chr, function(obj.SCENT.tmp) {\n",
    "    obj.SCENT.tmp <- SCENT_algorithm.modified(object = obj.SCENT.tmp)\n",
    "    return(obj.SCENT.tmp@SCENT.result)\n",
    "  })\n",
    "  stopCluster(cl)\n",
    "  \n",
    "  \n",
    "  df.SCENT.result.chr = do.call(rbind,list.SCENT.result.chr)\n",
    "  rownames(df.SCENT.result.chr) = paste(df.SCENT.result.chr$peak,\n",
    "                                        df.SCENT.result.chr$gene,\n",
    "                                        sep = \"_\")\n",
    "\n",
    "  pairs.E2G.chr.res = pairs.E2G.chr.res[pairs.E2G.chr.res$PairName %in% rownames(df.SCENT.result.chr)]\n",
    "  mcols(pairs.E2G.chr.res)[,c(\"beta\",\"se\",\"z\",\"p\",\"boot_basic_p\")] = \n",
    "    df.SCENT.result.chr[pairs.E2G.chr.res$PairName,c(\"beta\",\"se\",\"z\",\"p\",\"boot_basic_p\")]\n",
    "  pairs.E2G.chr.res$boot_basic_p.log10 = -log10(pairs.E2G.chr.res$boot_basic_p)\n",
    "  pairs.E2G.chr.res$sign = 1\n",
    "  pairs.E2G.chr.res$sign[pairs.E2G.chr.res$beta < 0] = -1\n",
    "  pairs.E2G.chr.res$boot_basic_p.log10.signed = pairs.E2G.chr.res$boot_basic_p.log10 * pairs.E2G.chr.res$sign\n",
    "  saveRDS(pairs.E2G.chr.res,\n",
    "          paste(dir.output,\"chr\",chr.tmp,sep = \"/\"))\n",
    "  rm (pairs.E2G.chr.res)\n",
    "}"
   ]
  },
  {
   "cell_type": "markdown",
   "id": "da9d1451-54e0-49e0-ae8b-cd0158115820",
   "metadata": {},
   "source": [
    "Merge results"
   ]
  },
  {
   "cell_type": "code",
   "execution_count": 21,
   "id": "6b4278f1-7d9d-402f-95c6-f274a6befea3",
   "metadata": {},
   "outputs": [],
   "source": [
    "chr.merge = as.character(unique(seqnames(pairs.E2G)))\n",
    "list.res = list()\n",
    "for(chr.tmp in chr.merge){\n",
    "    list.res[[chr.tmp]] = readRDS(paste(dir.output,\"chr\",chr.tmp,sep = \"/\"))\n",
    "}\n",
    "pairs.E2G.res = unlist(as(list.res, \"GRangesList\"))"
   ]
  },
  {
   "cell_type": "markdown",
   "id": "00278bea-8baf-4ed0-93d5-1289f05fa36a",
   "metadata": {},
   "source": [
    "Save results"
   ]
  },
  {
   "cell_type": "code",
   "execution_count": 22,
   "id": "48824f05-aedd-476c-88d6-ae58d1833fc9",
   "metadata": {},
   "outputs": [
    {
     "data": {
      "text/plain": [
       "GRanges object with 280748 ranges and 11 metadata columns:\n",
       "       seqnames              ranges strand |  TargetGene               PeakName\n",
       "          <Rle>           <IRanges>  <Rle> | <character>            <character>\n",
       "  chr1     chr1 100037727-100038876      * |         AGL chr1-100037727-10003..\n",
       "  chr1     chr1 100037727-100038876      * |      CDC14A chr1-100037727-10003..\n",
       "  chr1     chr1 100037727-100038876      * |         DBT chr1-100037727-10003..\n",
       "  chr1     chr1 100037727-100038876      * |        DPH5 chr1-100037727-10003..\n",
       "  chr1     chr1 100037727-100038876      * |       EXTL2 chr1-100037727-10003..\n",
       "   ...      ...                 ...    ... .         ...                    ...\n",
       "  chrX     chrX   96684197-96685323      * |      DIAPH2 chrX-96684197-96685323\n",
       "  chrX     chrX     9785558-9787129      * |       TBL1X   chrX-9785558-9787129\n",
       "  chrX     chrX     9785558-9787129      * |        WWC3   chrX-9785558-9787129\n",
       "  chrX     chrX     9865589-9867054      * |       TBL1X   chrX-9865589-9867054\n",
       "  chrX     chrX     9865589-9867054      * |        WWC3   chrX-9865589-9867054\n",
       "                     PairName        beta        se          z          p\n",
       "                  <character>   <numeric> <numeric>  <numeric>  <numeric>\n",
       "  chr1 chr1-100037727-10003..  0.09849521 0.0775670  1.2698084   0.204153\n",
       "  chr1 chr1-100037727-10003.. -0.01596423 0.1102296 -0.1448270   0.884847\n",
       "  chr1 chr1-100037727-10003.. -0.00256513 0.1068257 -0.0240123   0.980843\n",
       "  chr1 chr1-100037727-10003.. -0.07337047 0.1041020 -0.7047937   0.480939\n",
       "  chr1 chr1-100037727-10003..  0.01687319 0.0894175  0.1887012   0.850327\n",
       "   ...                    ...         ...       ...        ...        ...\n",
       "  chrX chrX-96684197-966853..   0.1354262 0.0513682   2.636380 0.00837957\n",
       "  chrX chrX-9785558-9787129..   0.1326436 0.0570783   2.323890 0.02013141\n",
       "  chrX chrX-9785558-9787129..  -0.2736458 0.2445365  -1.119039 0.26312362\n",
       "  chrX chrX-9865589-9867054..   0.0827968 0.0608062   1.361649 0.17330861\n",
       "  chrX chrX-9865589-9867054..  -0.1214087 0.2375551  -0.511076 0.60929780\n",
       "       boot_basic_p boot_basic_p.log10      sign boot_basic_p.log10.signed\n",
       "          <numeric>          <numeric> <numeric>                 <numeric>\n",
       "  chr1         0.22          0.6575773         1                 0.6575773\n",
       "  chr1         0.78          0.1079054        -1                -0.1079054\n",
       "  chr1         0.86          0.0655015        -1                -0.0655015\n",
       "  chr1         0.62          0.2076083        -1                -0.2076083\n",
       "  chr1         0.80          0.0969100         1                 0.0969100\n",
       "   ...          ...                ...       ...                       ...\n",
       "  chrX        0.016         1.79588002         1                1.79588002\n",
       "  chrX        0.036         1.44369750         1                1.44369750\n",
       "  chrX        0.240         0.61978876        -1               -0.61978876\n",
       "  chrX        0.120         0.92081875         1                0.92081875\n",
       "  chrX        0.980         0.00877392        -1               -0.00877392\n",
       "  -------\n",
       "  seqinfo: 23 sequences from an unspecified genome; no seqlengths"
      ]
     },
     "metadata": {},
     "output_type": "display_data"
    }
   ],
   "source": [
    "saveRDS(pairs.E2G.res,\n",
    "        paste(dir.output,\"pairs.E2G.res.rds\",sep = \"/\"))\n",
    "pairs.E2G.res"
   ]
  },
  {
   "cell_type": "code",
   "execution_count": 23,
   "id": "2297128a-9ed6-42b8-90c7-459969fb5afd",
   "metadata": {},
   "outputs": [
    {
     "data": {
      "text/html": [
       "<table class=\"dataframe\">\n",
       "<caption>A data.frame: 280748 × 14</caption>\n",
       "<thead>\n",
       "\t<tr><th scope=col>chr</th><th scope=col>start</th><th scope=col>end</th><th scope=col>TargetGene</th><th scope=col>CellType</th><th scope=col>beta</th><th scope=col>se</th><th scope=col>z</th><th scope=col>p</th><th scope=col>boot_basic_p</th><th scope=col>boot_basic_p.log10</th><th scope=col>sign</th><th scope=col>boot_basic_p.log10.signed</th><th scope=col>FDR</th></tr>\n",
       "\t<tr><th scope=col>&lt;fct&gt;</th><th scope=col>&lt;int&gt;</th><th scope=col>&lt;int&gt;</th><th scope=col>&lt;chr&gt;</th><th scope=col>&lt;chr&gt;</th><th scope=col>&lt;dbl&gt;</th><th scope=col>&lt;dbl&gt;</th><th scope=col>&lt;dbl&gt;</th><th scope=col>&lt;dbl&gt;</th><th scope=col>&lt;dbl&gt;</th><th scope=col>&lt;dbl&gt;</th><th scope=col>&lt;dbl&gt;</th><th scope=col>&lt;dbl&gt;</th><th scope=col>&lt;dbl&gt;</th></tr>\n",
       "</thead>\n",
       "<tbody>\n",
       "\t<tr><td>chr1</td><td>100037727</td><td>100038876</td><td>AGL     </td><td>HCT116</td><td> 0.098495212</td><td>0.07756699</td><td> 1.26980839</td><td>0.204152892</td><td>0.220</td><td>0.657577319</td><td> 1</td><td> 0.657577319</td><td>0.8711626</td></tr>\n",
       "\t<tr><td>chr1</td><td>100037727</td><td>100038876</td><td>CDC14A  </td><td>HCT116</td><td>-0.015964225</td><td>0.11022965</td><td>-0.14482697</td><td>0.884847492</td><td>0.780</td><td>0.107905397</td><td>-1</td><td>-0.107905397</td><td>0.9778535</td></tr>\n",
       "\t<tr><td>chr1</td><td>100037727</td><td>100038876</td><td>DBT     </td><td>HCT116</td><td>-0.002565129</td><td>0.10682571</td><td>-0.02401228</td><td>0.980842812</td><td>0.860</td><td>0.065501549</td><td>-1</td><td>-0.065501549</td><td>0.9829952</td></tr>\n",
       "\t<tr><td>chr1</td><td>100037727</td><td>100038876</td><td>DPH5    </td><td>HCT116</td><td>-0.073370467</td><td>0.10410205</td><td>-0.70479369</td><td>0.480938637</td><td>0.620</td><td>0.207608311</td><td>-1</td><td>-0.207608311</td><td>0.9624599</td></tr>\n",
       "\t<tr><td>chr1</td><td>100037727</td><td>100038876</td><td>EXTL2   </td><td>HCT116</td><td> 0.016873189</td><td>0.08941751</td><td> 0.18870118</td><td>0.850327027</td><td>0.800</td><td>0.096910013</td><td> 1</td><td> 0.096910013</td><td>0.9793976</td></tr>\n",
       "\t<tr><td>chr1</td><td>100037727</td><td>100038876</td><td>FRRS1   </td><td>HCT116</td><td>-0.096242526</td><td>0.11834178</td><td>-0.81325910</td><td>0.416069519</td><td>0.540</td><td>0.267606240</td><td>-1</td><td>-0.267606240</td><td>0.9528006</td></tr>\n",
       "\t<tr><td>chr1</td><td>100037727</td><td>100038876</td><td>MFSD14A </td><td>HCT116</td><td>-0.075018788</td><td>0.08634669</td><td>-0.86880912</td><td>0.384951544</td><td>0.360</td><td>0.443697499</td><td>-1</td><td>-0.443697499</td><td>0.9189369</td></tr>\n",
       "\t<tr><td>chr1</td><td>100037727</td><td>100038876</td><td>RTCA    </td><td>HCT116</td><td>-0.043496405</td><td>0.11029023</td><td>-0.39438131</td><td>0.693299538</td><td>0.660</td><td>0.180456064</td><td>-1</td><td>-0.180456064</td><td>0.9664605</td></tr>\n",
       "\t<tr><td>chr1</td><td>100037727</td><td>100038876</td><td>SASS6   </td><td>HCT116</td><td> 0.069196280</td><td>0.08733370</td><td> 0.79232049</td><td>0.428173828</td><td>0.580</td><td>0.236572006</td><td> 1</td><td> 0.236572006</td><td>0.9568105</td></tr>\n",
       "\t<tr><td>chr1</td><td>100037727</td><td>100038876</td><td>SLC30A7 </td><td>HCT116</td><td>-0.078343392</td><td>0.05795982</td><td>-1.35168462</td><td>0.176476226</td><td>0.200</td><td>0.698970004</td><td>-1</td><td>-0.698970004</td><td>0.8604511</td></tr>\n",
       "\t<tr><td>chr1</td><td>100037727</td><td>100038876</td><td>SLC35A3 </td><td>HCT116</td><td>-0.004824444</td><td>0.07347766</td><td>-0.06565865</td><td>0.947649594</td><td>0.900</td><td>0.045757491</td><td>-1</td><td>-0.045757491</td><td>0.9854534</td></tr>\n",
       "\t<tr><td>chr1</td><td>100037727</td><td>100038876</td><td>TRMT13  </td><td>HCT116</td><td> 0.019517116</td><td>0.10474690</td><td> 0.18632643</td><td>0.852188783</td><td>0.780</td><td>0.107905397</td><td> 1</td><td> 0.107905397</td><td>0.9778535</td></tr>\n",
       "\t<tr><td>chr1</td><td>100132492</td><td>100133481</td><td>AGL     </td><td>HCT116</td><td> 0.021958736</td><td>0.07609225</td><td> 0.28858046</td><td>0.772902453</td><td>0.660</td><td>0.180456064</td><td> 1</td><td> 0.180456064</td><td>0.9664605</td></tr>\n",
       "\t<tr><td>chr1</td><td>100132492</td><td>100133481</td><td>CDC14A  </td><td>HCT116</td><td>-0.159306038</td><td>0.11054791</td><td>-1.44105886</td><td>0.149568055</td><td>0.280</td><td>0.552841969</td><td>-1</td><td>-0.552841969</td><td>0.8968459</td></tr>\n",
       "\t<tr><td>chr1</td><td>100132492</td><td>100133481</td><td>DBT     </td><td>HCT116</td><td> 0.018750875</td><td>0.10138189</td><td> 0.18495290</td><td>0.853265978</td><td>0.960</td><td>0.017728767</td><td> 1</td><td> 0.017728767</td><td>0.9886327</td></tr>\n",
       "\t<tr><td>chr1</td><td>100132492</td><td>100133481</td><td>DPH5    </td><td>HCT116</td><td> 0.034445842</td><td>0.09591523</td><td> 0.35912796</td><td>0.719499365</td><td>0.680</td><td>0.167491087</td><td> 1</td><td> 0.167491087</td><td>0.9684698</td></tr>\n",
       "\t<tr><td>chr1</td><td>100132492</td><td>100133481</td><td>EXTL2   </td><td>HCT116</td><td> 0.059306764</td><td>0.08435768</td><td> 0.70303928</td><td>0.482031268</td><td>0.520</td><td>0.283996656</td><td> 1</td><td> 0.283996656</td><td>0.9491698</td></tr>\n",
       "\t<tr><td>chr1</td><td>100132492</td><td>100133481</td><td>FRRS1   </td><td>HCT116</td><td> 0.050276054</td><td>0.10751556</td><td> 0.46761656</td><td>0.640058824</td><td>0.700</td><td>0.154901960</td><td> 1</td><td> 0.154901960</td><td>0.9713743</td></tr>\n",
       "\t<tr><td>chr1</td><td>100132492</td><td>100133481</td><td>MFSD14A </td><td>HCT116</td><td> 0.118826620</td><td>0.07738144</td><td> 1.53559578</td><td>0.124637550</td><td>0.180</td><td>0.744727495</td><td> 1</td><td> 0.744727495</td><td>0.8519850</td></tr>\n",
       "\t<tr><td>chr1</td><td>100132492</td><td>100133481</td><td>RTCA    </td><td>HCT116</td><td> 0.198641936</td><td>0.09742170</td><td> 2.03899062</td><td>0.041450964</td><td>0.028</td><td>1.552841969</td><td> 1</td><td> 1.552841969</td><td>0.6954126</td></tr>\n",
       "\t<tr><td>chr1</td><td>100132492</td><td>100133481</td><td>SASS6   </td><td>HCT116</td><td> 0.034835826</td><td>0.08449054</td><td> 0.41230447</td><td>0.680116274</td><td>0.820</td><td>0.086186148</td><td> 1</td><td> 0.086186148</td><td>0.9805326</td></tr>\n",
       "\t<tr><td>chr1</td><td>100132492</td><td>100133481</td><td>SLC30A7 </td><td>HCT116</td><td>-0.019361933</td><td>0.05425892</td><td>-0.35684333</td><td>0.721209094</td><td>0.840</td><td>0.075720714</td><td>-1</td><td>-0.075720714</td><td>0.9816159</td></tr>\n",
       "\t<tr><td>chr1</td><td>100132492</td><td>100133481</td><td>SLC35A3 </td><td>HCT116</td><td> 0.057085992</td><td>0.06883688</td><td> 0.82929369</td><td>0.406938241</td><td>0.320</td><td>0.494850022</td><td> 1</td><td> 0.494850022</td><td>0.9108448</td></tr>\n",
       "\t<tr><td>chr1</td><td>100132492</td><td>100133481</td><td>TRMT13  </td><td>HCT116</td><td> 0.016563669</td><td>0.10025353</td><td> 0.16521780</td><td>0.868772553</td><td>0.980</td><td>0.008773924</td><td> 1</td><td> 0.008773924</td><td>0.9895946</td></tr>\n",
       "\t<tr><td>chr1</td><td>  1001789</td><td>  1002120</td><td>AGRN    </td><td>HCT116</td><td> 0.019230947</td><td>0.20396405</td><td> 0.09428596</td><td>0.924882001</td><td>0.920</td><td>0.036212173</td><td> 1</td><td> 0.036212173</td><td>0.9861940</td></tr>\n",
       "\t<tr><td>chr1</td><td>  1001789</td><td>  1002120</td><td>ATAD3A  </td><td>HCT116</td><td> 0.510113302</td><td>0.18293713</td><td> 2.78846244</td><td>0.005295889</td><td>0.004</td><td>2.397940009</td><td> 1</td><td> 2.397940009</td><td>0.3135098</td></tr>\n",
       "\t<tr><td>chr1</td><td>  1001789</td><td>  1002120</td><td>ATAD3B  </td><td>HCT116</td><td> 0.003819859</td><td>0.20387731</td><td> 0.01873606</td><td>0.985051658</td><td>0.820</td><td>0.086186148</td><td> 1</td><td> 0.086186148</td><td>0.9805326</td></tr>\n",
       "\t<tr><td>chr1</td><td>  1001789</td><td>  1002120</td><td>AURKAIP1</td><td>HCT116</td><td> 0.028283216</td><td>0.12620618</td><td> 0.22410326</td><td>0.822676959</td><td>0.840</td><td>0.075720714</td><td> 1</td><td> 0.075720714</td><td>0.9816159</td></tr>\n",
       "\t<tr><td>chr1</td><td>  1001789</td><td>  1002120</td><td>C1orf159</td><td>HCT116</td><td> 0.050057470</td><td>0.13808810</td><td> 0.36250387</td><td>0.716975536</td><td>0.640</td><td>0.193820026</td><td> 1</td><td> 0.193820026</td><td>0.9647749</td></tr>\n",
       "\t<tr><td>chr1</td><td>  1001789</td><td>  1002120</td><td>CCNL2   </td><td>HCT116</td><td> 0.084255484</td><td>0.07147467</td><td> 1.17881603</td><td>0.238471441</td><td>0.320</td><td>0.494850022</td><td> 1</td><td> 0.494850022</td><td>0.9108448</td></tr>\n",
       "\t<tr><td>⋮</td><td>⋮</td><td>⋮</td><td>⋮</td><td>⋮</td><td>⋮</td><td>⋮</td><td>⋮</td><td>⋮</td><td>⋮</td><td>⋮</td><td>⋮</td><td>⋮</td><td>⋮</td></tr>\n",
       "\t<tr><td>chrX</td><td>77899143</td><td>77899612</td><td>MAGT1  </td><td>HCT116</td><td>-0.0977956415</td><td>0.09571992</td><td>-1.02168535</td><td>0.306929848</td><td>0.340</td><td>0.468521083</td><td>-1</td><td>-0.468521083</td><td>0.9154007</td></tr>\n",
       "\t<tr><td>chrX</td><td>77899143</td><td>77899612</td><td>PGK1   </td><td>HCT116</td><td> 0.0213752429</td><td>0.07408639</td><td> 0.28851781</td><td>0.772950399</td><td>0.680</td><td>0.167491087</td><td> 1</td><td> 0.167491087</td><td>0.9684698</td></tr>\n",
       "\t<tr><td>chrX</td><td>78103716</td><td>78104358</td><td>ATP7A  </td><td>HCT116</td><td> 0.0650493068</td><td>0.12006233</td><td> 0.54179614</td><td>0.587958948</td><td>0.620</td><td>0.207608311</td><td> 1</td><td> 0.207608311</td><td>0.9624599</td></tr>\n",
       "\t<tr><td>chrX</td><td>78103716</td><td>78104358</td><td>ATRX   </td><td>HCT116</td><td>-0.0005756069</td><td>0.03164492</td><td>-0.01818955</td><td>0.985487637</td><td>0.980</td><td>0.008773924</td><td>-1</td><td>-0.008773924</td><td>0.9895946</td></tr>\n",
       "\t<tr><td>chrX</td><td>78103716</td><td>78104358</td><td>COX7B  </td><td>HCT116</td><td> 0.0114029683</td><td>0.06321273</td><td> 0.18039038</td><td>0.856846104</td><td>0.820</td><td>0.086186148</td><td> 1</td><td> 0.086186148</td><td>0.9805326</td></tr>\n",
       "\t<tr><td>chrX</td><td>78103716</td><td>78104358</td><td>MAGT1  </td><td>HCT116</td><td> 0.0156743980</td><td>0.06017007</td><td> 0.26050157</td><td>0.794476907</td><td>0.800</td><td>0.096910013</td><td> 1</td><td> 0.096910013</td><td>0.9793976</td></tr>\n",
       "\t<tr><td>chrX</td><td>78103716</td><td>78104358</td><td>PGK1   </td><td>HCT116</td><td> 0.0458083273</td><td>0.04844507</td><td> 0.94557248</td><td>0.344366688</td><td>0.220</td><td>0.657577319</td><td> 1</td><td> 0.657577319</td><td>0.8711626</td></tr>\n",
       "\t<tr><td>chrX</td><td>78139106</td><td>78140054</td><td>ATP7A  </td><td>HCT116</td><td>-0.1813291649</td><td>0.17879834</td><td>-1.01415465</td><td>0.310508966</td><td>0.420</td><td>0.376750710</td><td>-1</td><td>-0.376750710</td><td>0.9316490</td></tr>\n",
       "\t<tr><td>chrX</td><td>78139106</td><td>78140054</td><td>ATRX   </td><td>HCT116</td><td> 0.0758978149</td><td>0.04138062</td><td> 1.83413930</td><td>0.066633318</td><td>0.080</td><td>1.096910013</td><td> 1</td><td> 1.096910013</td><td>0.8387691</td></tr>\n",
       "\t<tr><td>chrX</td><td>78139106</td><td>78140054</td><td>COX7B  </td><td>HCT116</td><td>-0.2103075315</td><td>0.09530923</td><td>-2.20658106</td><td>0.027343341</td><td>0.024</td><td>1.619788758</td><td>-1</td><td>-1.619788758</td><td>0.6699097</td></tr>\n",
       "\t<tr><td>chrX</td><td>78139106</td><td>78140054</td><td>MAGT1  </td><td>HCT116</td><td>-0.0422113179</td><td>0.08351968</td><td>-0.50540566</td><td>0.613273943</td><td>0.600</td><td>0.221848750</td><td>-1</td><td>-0.221848750</td><td>0.9592429</td></tr>\n",
       "\t<tr><td>chrX</td><td>78139106</td><td>78140054</td><td>PGK1   </td><td>HCT116</td><td>-0.1191931418</td><td>0.07018039</td><td>-1.69838251</td><td>0.089435592</td><td>0.120</td><td>0.920818754</td><td>-1</td><td>-0.920818754</td><td>0.8387691</td></tr>\n",
       "\t<tr><td>chrX</td><td> 7927003</td><td> 7927919</td><td>PUDP   </td><td>HCT116</td><td> 0.2377136507</td><td>0.10653944</td><td> 2.23122685</td><td>0.025666107</td><td>0.004</td><td>2.397940009</td><td> 1</td><td> 2.397940009</td><td>0.3135098</td></tr>\n",
       "\t<tr><td>chrX</td><td>80809509</td><td>80810260</td><td>BRWD3  </td><td>HCT116</td><td> 0.0775047365</td><td>0.05822098</td><td> 1.33121667</td><td>0.183117729</td><td>0.220</td><td>0.657577319</td><td> 1</td><td> 0.657577319</td><td>0.8711626</td></tr>\n",
       "\t<tr><td>chrX</td><td>80809509</td><td>80810260</td><td>HMGN5  </td><td>HCT116</td><td>-0.4349760879</td><td>0.19453357</td><td>-2.23599498</td><td>0.025352100</td><td>0.040</td><td>1.397940009</td><td>-1</td><td>-1.397940009</td><td>0.7641481</td></tr>\n",
       "\t<tr><td>chrX</td><td>80809509</td><td>80810260</td><td>SH3BGRL</td><td>HCT116</td><td> 0.2931259029</td><td>0.09324915</td><td> 3.14346989</td><td>0.001669576</td><td>0.004</td><td>2.397940009</td><td> 1</td><td> 2.397940009</td><td>0.3135098</td></tr>\n",
       "\t<tr><td>chrX</td><td>81121490</td><td>81122152</td><td>BRWD3  </td><td>HCT116</td><td>-0.0258044032</td><td>0.08686864</td><td>-0.29705083</td><td>0.766427700</td><td>0.720</td><td>0.142667504</td><td>-1</td><td>-0.142667504</td><td>0.9733502</td></tr>\n",
       "\t<tr><td>chrX</td><td>81121490</td><td>81122152</td><td>HMGN5  </td><td>HCT116</td><td> 0.2015629623</td><td>0.21573946</td><td> 0.93428881</td><td>0.350154937</td><td>0.300</td><td>0.522878745</td><td> 1</td><td> 0.522878745</td><td>0.9041124</td></tr>\n",
       "\t<tr><td>chrX</td><td>81121490</td><td>81122152</td><td>SH3BGRL</td><td>HCT116</td><td>-0.0335870962</td><td>0.15148436</td><td>-0.22171989</td><td>0.824531942</td><td>0.860</td><td>0.065501549</td><td>-1</td><td>-0.065501549</td><td>0.9829952</td></tr>\n",
       "\t<tr><td>chrX</td><td>85003033</td><td>85004208</td><td>APOOL  </td><td>HCT116</td><td>-0.2616689710</td><td>0.15875881</td><td>-1.64821703</td><td>0.099308143</td><td>0.120</td><td>0.920818754</td><td>-1</td><td>-0.920818754</td><td>0.8387691</td></tr>\n",
       "\t<tr><td>chrX</td><td>85003033</td><td>85004208</td><td>ZNF711 </td><td>HCT116</td><td>-0.2436477858</td><td>0.23591599</td><td>-1.03277351</td><td>0.301709903</td><td>0.360</td><td>0.443697499</td><td>-1</td><td>-0.443697499</td><td>0.9189369</td></tr>\n",
       "\t<tr><td>chrX</td><td> 9462920</td><td> 9463443</td><td>TBL1X  </td><td>HCT116</td><td> 0.1168548765</td><td>0.05874127</td><td> 1.98931493</td><td>0.046666453</td><td>0.068</td><td>1.167491087</td><td> 1</td><td> 1.167491087</td><td>0.8387691</td></tr>\n",
       "\t<tr><td>chrX</td><td> 9462920</td><td> 9463443</td><td>WWC3   </td><td>HCT116</td><td> 0.1032443317</td><td>0.22112438</td><td> 0.46690614</td><td>0.640567029</td><td>0.660</td><td>0.180456064</td><td> 1</td><td> 0.180456064</td><td>0.9664605</td></tr>\n",
       "\t<tr><td>chrX</td><td> 9464706</td><td> 9465504</td><td>TBL1X  </td><td>HCT116</td><td> 0.0697810791</td><td>0.06204770</td><td> 1.12463595</td><td>0.260743335</td><td>0.360</td><td>0.443697499</td><td> 1</td><td> 0.443697499</td><td>0.9189369</td></tr>\n",
       "\t<tr><td>chrX</td><td> 9464706</td><td> 9465504</td><td>WWC3   </td><td>HCT116</td><td> 0.0841297325</td><td>0.22637515</td><td> 0.37163856</td><td>0.710161978</td><td>0.700</td><td>0.154901960</td><td> 1</td><td> 0.154901960</td><td>0.9713743</td></tr>\n",
       "\t<tr><td>chrX</td><td>96684197</td><td>96685323</td><td>DIAPH2 </td><td>HCT116</td><td> 0.1354262483</td><td>0.05136825</td><td> 2.63638048</td><td>0.008379571</td><td>0.016</td><td>1.795880017</td><td> 1</td><td> 1.795880017</td><td>0.5892651</td></tr>\n",
       "\t<tr><td>chrX</td><td> 9785558</td><td> 9787129</td><td>TBL1X  </td><td>HCT116</td><td> 0.1326436330</td><td>0.05707828</td><td> 2.32388970</td><td>0.020131406</td><td>0.036</td><td>1.443697499</td><td> 1</td><td> 1.443697499</td><td>0.7405971</td></tr>\n",
       "\t<tr><td>chrX</td><td> 9785558</td><td> 9787129</td><td>WWC3   </td><td>HCT116</td><td>-0.2736458140</td><td>0.24453650</td><td>-1.11903872</td><td>0.263123621</td><td>0.240</td><td>0.619788758</td><td>-1</td><td>-0.619788758</td><td>0.8798579</td></tr>\n",
       "\t<tr><td>chrX</td><td> 9865589</td><td> 9867054</td><td>TBL1X  </td><td>HCT116</td><td> 0.0827967651</td><td>0.06080624</td><td> 1.36164922</td><td>0.173308613</td><td>0.120</td><td>0.920818754</td><td> 1</td><td> 0.920818754</td><td>0.8387691</td></tr>\n",
       "\t<tr><td>chrX</td><td> 9865589</td><td> 9867054</td><td>WWC3   </td><td>HCT116</td><td>-0.1214087360</td><td>0.23755512</td><td>-0.51107606</td><td>0.609297799</td><td>0.980</td><td>0.008773924</td><td>-1</td><td>-0.008773924</td><td>0.9895946</td></tr>\n",
       "</tbody>\n",
       "</table>\n"
      ],
      "text/latex": [
       "A data.frame: 280748 × 14\n",
       "\\begin{tabular}{llllllllllllll}\n",
       " chr & start & end & TargetGene & CellType & beta & se & z & p & boot\\_basic\\_p & boot\\_basic\\_p.log10 & sign & boot\\_basic\\_p.log10.signed & FDR\\\\\n",
       " <fct> & <int> & <int> & <chr> & <chr> & <dbl> & <dbl> & <dbl> & <dbl> & <dbl> & <dbl> & <dbl> & <dbl> & <dbl>\\\\\n",
       "\\hline\n",
       "\t chr1 & 100037727 & 100038876 & AGL      & HCT116 &  0.098495212 & 0.07756699 &  1.26980839 & 0.204152892 & 0.220 & 0.657577319 &  1 &  0.657577319 & 0.8711626\\\\\n",
       "\t chr1 & 100037727 & 100038876 & CDC14A   & HCT116 & -0.015964225 & 0.11022965 & -0.14482697 & 0.884847492 & 0.780 & 0.107905397 & -1 & -0.107905397 & 0.9778535\\\\\n",
       "\t chr1 & 100037727 & 100038876 & DBT      & HCT116 & -0.002565129 & 0.10682571 & -0.02401228 & 0.980842812 & 0.860 & 0.065501549 & -1 & -0.065501549 & 0.9829952\\\\\n",
       "\t chr1 & 100037727 & 100038876 & DPH5     & HCT116 & -0.073370467 & 0.10410205 & -0.70479369 & 0.480938637 & 0.620 & 0.207608311 & -1 & -0.207608311 & 0.9624599\\\\\n",
       "\t chr1 & 100037727 & 100038876 & EXTL2    & HCT116 &  0.016873189 & 0.08941751 &  0.18870118 & 0.850327027 & 0.800 & 0.096910013 &  1 &  0.096910013 & 0.9793976\\\\\n",
       "\t chr1 & 100037727 & 100038876 & FRRS1    & HCT116 & -0.096242526 & 0.11834178 & -0.81325910 & 0.416069519 & 0.540 & 0.267606240 & -1 & -0.267606240 & 0.9528006\\\\\n",
       "\t chr1 & 100037727 & 100038876 & MFSD14A  & HCT116 & -0.075018788 & 0.08634669 & -0.86880912 & 0.384951544 & 0.360 & 0.443697499 & -1 & -0.443697499 & 0.9189369\\\\\n",
       "\t chr1 & 100037727 & 100038876 & RTCA     & HCT116 & -0.043496405 & 0.11029023 & -0.39438131 & 0.693299538 & 0.660 & 0.180456064 & -1 & -0.180456064 & 0.9664605\\\\\n",
       "\t chr1 & 100037727 & 100038876 & SASS6    & HCT116 &  0.069196280 & 0.08733370 &  0.79232049 & 0.428173828 & 0.580 & 0.236572006 &  1 &  0.236572006 & 0.9568105\\\\\n",
       "\t chr1 & 100037727 & 100038876 & SLC30A7  & HCT116 & -0.078343392 & 0.05795982 & -1.35168462 & 0.176476226 & 0.200 & 0.698970004 & -1 & -0.698970004 & 0.8604511\\\\\n",
       "\t chr1 & 100037727 & 100038876 & SLC35A3  & HCT116 & -0.004824444 & 0.07347766 & -0.06565865 & 0.947649594 & 0.900 & 0.045757491 & -1 & -0.045757491 & 0.9854534\\\\\n",
       "\t chr1 & 100037727 & 100038876 & TRMT13   & HCT116 &  0.019517116 & 0.10474690 &  0.18632643 & 0.852188783 & 0.780 & 0.107905397 &  1 &  0.107905397 & 0.9778535\\\\\n",
       "\t chr1 & 100132492 & 100133481 & AGL      & HCT116 &  0.021958736 & 0.07609225 &  0.28858046 & 0.772902453 & 0.660 & 0.180456064 &  1 &  0.180456064 & 0.9664605\\\\\n",
       "\t chr1 & 100132492 & 100133481 & CDC14A   & HCT116 & -0.159306038 & 0.11054791 & -1.44105886 & 0.149568055 & 0.280 & 0.552841969 & -1 & -0.552841969 & 0.8968459\\\\\n",
       "\t chr1 & 100132492 & 100133481 & DBT      & HCT116 &  0.018750875 & 0.10138189 &  0.18495290 & 0.853265978 & 0.960 & 0.017728767 &  1 &  0.017728767 & 0.9886327\\\\\n",
       "\t chr1 & 100132492 & 100133481 & DPH5     & HCT116 &  0.034445842 & 0.09591523 &  0.35912796 & 0.719499365 & 0.680 & 0.167491087 &  1 &  0.167491087 & 0.9684698\\\\\n",
       "\t chr1 & 100132492 & 100133481 & EXTL2    & HCT116 &  0.059306764 & 0.08435768 &  0.70303928 & 0.482031268 & 0.520 & 0.283996656 &  1 &  0.283996656 & 0.9491698\\\\\n",
       "\t chr1 & 100132492 & 100133481 & FRRS1    & HCT116 &  0.050276054 & 0.10751556 &  0.46761656 & 0.640058824 & 0.700 & 0.154901960 &  1 &  0.154901960 & 0.9713743\\\\\n",
       "\t chr1 & 100132492 & 100133481 & MFSD14A  & HCT116 &  0.118826620 & 0.07738144 &  1.53559578 & 0.124637550 & 0.180 & 0.744727495 &  1 &  0.744727495 & 0.8519850\\\\\n",
       "\t chr1 & 100132492 & 100133481 & RTCA     & HCT116 &  0.198641936 & 0.09742170 &  2.03899062 & 0.041450964 & 0.028 & 1.552841969 &  1 &  1.552841969 & 0.6954126\\\\\n",
       "\t chr1 & 100132492 & 100133481 & SASS6    & HCT116 &  0.034835826 & 0.08449054 &  0.41230447 & 0.680116274 & 0.820 & 0.086186148 &  1 &  0.086186148 & 0.9805326\\\\\n",
       "\t chr1 & 100132492 & 100133481 & SLC30A7  & HCT116 & -0.019361933 & 0.05425892 & -0.35684333 & 0.721209094 & 0.840 & 0.075720714 & -1 & -0.075720714 & 0.9816159\\\\\n",
       "\t chr1 & 100132492 & 100133481 & SLC35A3  & HCT116 &  0.057085992 & 0.06883688 &  0.82929369 & 0.406938241 & 0.320 & 0.494850022 &  1 &  0.494850022 & 0.9108448\\\\\n",
       "\t chr1 & 100132492 & 100133481 & TRMT13   & HCT116 &  0.016563669 & 0.10025353 &  0.16521780 & 0.868772553 & 0.980 & 0.008773924 &  1 &  0.008773924 & 0.9895946\\\\\n",
       "\t chr1 &   1001789 &   1002120 & AGRN     & HCT116 &  0.019230947 & 0.20396405 &  0.09428596 & 0.924882001 & 0.920 & 0.036212173 &  1 &  0.036212173 & 0.9861940\\\\\n",
       "\t chr1 &   1001789 &   1002120 & ATAD3A   & HCT116 &  0.510113302 & 0.18293713 &  2.78846244 & 0.005295889 & 0.004 & 2.397940009 &  1 &  2.397940009 & 0.3135098\\\\\n",
       "\t chr1 &   1001789 &   1002120 & ATAD3B   & HCT116 &  0.003819859 & 0.20387731 &  0.01873606 & 0.985051658 & 0.820 & 0.086186148 &  1 &  0.086186148 & 0.9805326\\\\\n",
       "\t chr1 &   1001789 &   1002120 & AURKAIP1 & HCT116 &  0.028283216 & 0.12620618 &  0.22410326 & 0.822676959 & 0.840 & 0.075720714 &  1 &  0.075720714 & 0.9816159\\\\\n",
       "\t chr1 &   1001789 &   1002120 & C1orf159 & HCT116 &  0.050057470 & 0.13808810 &  0.36250387 & 0.716975536 & 0.640 & 0.193820026 &  1 &  0.193820026 & 0.9647749\\\\\n",
       "\t chr1 &   1001789 &   1002120 & CCNL2    & HCT116 &  0.084255484 & 0.07147467 &  1.17881603 & 0.238471441 & 0.320 & 0.494850022 &  1 &  0.494850022 & 0.9108448\\\\\n",
       "\t ⋮ & ⋮ & ⋮ & ⋮ & ⋮ & ⋮ & ⋮ & ⋮ & ⋮ & ⋮ & ⋮ & ⋮ & ⋮ & ⋮\\\\\n",
       "\t chrX & 77899143 & 77899612 & MAGT1   & HCT116 & -0.0977956415 & 0.09571992 & -1.02168535 & 0.306929848 & 0.340 & 0.468521083 & -1 & -0.468521083 & 0.9154007\\\\\n",
       "\t chrX & 77899143 & 77899612 & PGK1    & HCT116 &  0.0213752429 & 0.07408639 &  0.28851781 & 0.772950399 & 0.680 & 0.167491087 &  1 &  0.167491087 & 0.9684698\\\\\n",
       "\t chrX & 78103716 & 78104358 & ATP7A   & HCT116 &  0.0650493068 & 0.12006233 &  0.54179614 & 0.587958948 & 0.620 & 0.207608311 &  1 &  0.207608311 & 0.9624599\\\\\n",
       "\t chrX & 78103716 & 78104358 & ATRX    & HCT116 & -0.0005756069 & 0.03164492 & -0.01818955 & 0.985487637 & 0.980 & 0.008773924 & -1 & -0.008773924 & 0.9895946\\\\\n",
       "\t chrX & 78103716 & 78104358 & COX7B   & HCT116 &  0.0114029683 & 0.06321273 &  0.18039038 & 0.856846104 & 0.820 & 0.086186148 &  1 &  0.086186148 & 0.9805326\\\\\n",
       "\t chrX & 78103716 & 78104358 & MAGT1   & HCT116 &  0.0156743980 & 0.06017007 &  0.26050157 & 0.794476907 & 0.800 & 0.096910013 &  1 &  0.096910013 & 0.9793976\\\\\n",
       "\t chrX & 78103716 & 78104358 & PGK1    & HCT116 &  0.0458083273 & 0.04844507 &  0.94557248 & 0.344366688 & 0.220 & 0.657577319 &  1 &  0.657577319 & 0.8711626\\\\\n",
       "\t chrX & 78139106 & 78140054 & ATP7A   & HCT116 & -0.1813291649 & 0.17879834 & -1.01415465 & 0.310508966 & 0.420 & 0.376750710 & -1 & -0.376750710 & 0.9316490\\\\\n",
       "\t chrX & 78139106 & 78140054 & ATRX    & HCT116 &  0.0758978149 & 0.04138062 &  1.83413930 & 0.066633318 & 0.080 & 1.096910013 &  1 &  1.096910013 & 0.8387691\\\\\n",
       "\t chrX & 78139106 & 78140054 & COX7B   & HCT116 & -0.2103075315 & 0.09530923 & -2.20658106 & 0.027343341 & 0.024 & 1.619788758 & -1 & -1.619788758 & 0.6699097\\\\\n",
       "\t chrX & 78139106 & 78140054 & MAGT1   & HCT116 & -0.0422113179 & 0.08351968 & -0.50540566 & 0.613273943 & 0.600 & 0.221848750 & -1 & -0.221848750 & 0.9592429\\\\\n",
       "\t chrX & 78139106 & 78140054 & PGK1    & HCT116 & -0.1191931418 & 0.07018039 & -1.69838251 & 0.089435592 & 0.120 & 0.920818754 & -1 & -0.920818754 & 0.8387691\\\\\n",
       "\t chrX &  7927003 &  7927919 & PUDP    & HCT116 &  0.2377136507 & 0.10653944 &  2.23122685 & 0.025666107 & 0.004 & 2.397940009 &  1 &  2.397940009 & 0.3135098\\\\\n",
       "\t chrX & 80809509 & 80810260 & BRWD3   & HCT116 &  0.0775047365 & 0.05822098 &  1.33121667 & 0.183117729 & 0.220 & 0.657577319 &  1 &  0.657577319 & 0.8711626\\\\\n",
       "\t chrX & 80809509 & 80810260 & HMGN5   & HCT116 & -0.4349760879 & 0.19453357 & -2.23599498 & 0.025352100 & 0.040 & 1.397940009 & -1 & -1.397940009 & 0.7641481\\\\\n",
       "\t chrX & 80809509 & 80810260 & SH3BGRL & HCT116 &  0.2931259029 & 0.09324915 &  3.14346989 & 0.001669576 & 0.004 & 2.397940009 &  1 &  2.397940009 & 0.3135098\\\\\n",
       "\t chrX & 81121490 & 81122152 & BRWD3   & HCT116 & -0.0258044032 & 0.08686864 & -0.29705083 & 0.766427700 & 0.720 & 0.142667504 & -1 & -0.142667504 & 0.9733502\\\\\n",
       "\t chrX & 81121490 & 81122152 & HMGN5   & HCT116 &  0.2015629623 & 0.21573946 &  0.93428881 & 0.350154937 & 0.300 & 0.522878745 &  1 &  0.522878745 & 0.9041124\\\\\n",
       "\t chrX & 81121490 & 81122152 & SH3BGRL & HCT116 & -0.0335870962 & 0.15148436 & -0.22171989 & 0.824531942 & 0.860 & 0.065501549 & -1 & -0.065501549 & 0.9829952\\\\\n",
       "\t chrX & 85003033 & 85004208 & APOOL   & HCT116 & -0.2616689710 & 0.15875881 & -1.64821703 & 0.099308143 & 0.120 & 0.920818754 & -1 & -0.920818754 & 0.8387691\\\\\n",
       "\t chrX & 85003033 & 85004208 & ZNF711  & HCT116 & -0.2436477858 & 0.23591599 & -1.03277351 & 0.301709903 & 0.360 & 0.443697499 & -1 & -0.443697499 & 0.9189369\\\\\n",
       "\t chrX &  9462920 &  9463443 & TBL1X   & HCT116 &  0.1168548765 & 0.05874127 &  1.98931493 & 0.046666453 & 0.068 & 1.167491087 &  1 &  1.167491087 & 0.8387691\\\\\n",
       "\t chrX &  9462920 &  9463443 & WWC3    & HCT116 &  0.1032443317 & 0.22112438 &  0.46690614 & 0.640567029 & 0.660 & 0.180456064 &  1 &  0.180456064 & 0.9664605\\\\\n",
       "\t chrX &  9464706 &  9465504 & TBL1X   & HCT116 &  0.0697810791 & 0.06204770 &  1.12463595 & 0.260743335 & 0.360 & 0.443697499 &  1 &  0.443697499 & 0.9189369\\\\\n",
       "\t chrX &  9464706 &  9465504 & WWC3    & HCT116 &  0.0841297325 & 0.22637515 &  0.37163856 & 0.710161978 & 0.700 & 0.154901960 &  1 &  0.154901960 & 0.9713743\\\\\n",
       "\t chrX & 96684197 & 96685323 & DIAPH2  & HCT116 &  0.1354262483 & 0.05136825 &  2.63638048 & 0.008379571 & 0.016 & 1.795880017 &  1 &  1.795880017 & 0.5892651\\\\\n",
       "\t chrX &  9785558 &  9787129 & TBL1X   & HCT116 &  0.1326436330 & 0.05707828 &  2.32388970 & 0.020131406 & 0.036 & 1.443697499 &  1 &  1.443697499 & 0.7405971\\\\\n",
       "\t chrX &  9785558 &  9787129 & WWC3    & HCT116 & -0.2736458140 & 0.24453650 & -1.11903872 & 0.263123621 & 0.240 & 0.619788758 & -1 & -0.619788758 & 0.8798579\\\\\n",
       "\t chrX &  9865589 &  9867054 & TBL1X   & HCT116 &  0.0827967651 & 0.06080624 &  1.36164922 & 0.173308613 & 0.120 & 0.920818754 &  1 &  0.920818754 & 0.8387691\\\\\n",
       "\t chrX &  9865589 &  9867054 & WWC3    & HCT116 & -0.1214087360 & 0.23755512 & -0.51107606 & 0.609297799 & 0.980 & 0.008773924 & -1 & -0.008773924 & 0.9895946\\\\\n",
       "\\end{tabular}\n"
      ],
      "text/markdown": [
       "\n",
       "A data.frame: 280748 × 14\n",
       "\n",
       "| chr &lt;fct&gt; | start &lt;int&gt; | end &lt;int&gt; | TargetGene &lt;chr&gt; | CellType &lt;chr&gt; | beta &lt;dbl&gt; | se &lt;dbl&gt; | z &lt;dbl&gt; | p &lt;dbl&gt; | boot_basic_p &lt;dbl&gt; | boot_basic_p.log10 &lt;dbl&gt; | sign &lt;dbl&gt; | boot_basic_p.log10.signed &lt;dbl&gt; | FDR &lt;dbl&gt; |\n",
       "|---|---|---|---|---|---|---|---|---|---|---|---|---|---|\n",
       "| chr1 | 100037727 | 100038876 | AGL      | HCT116 |  0.098495212 | 0.07756699 |  1.26980839 | 0.204152892 | 0.220 | 0.657577319 |  1 |  0.657577319 | 0.8711626 |\n",
       "| chr1 | 100037727 | 100038876 | CDC14A   | HCT116 | -0.015964225 | 0.11022965 | -0.14482697 | 0.884847492 | 0.780 | 0.107905397 | -1 | -0.107905397 | 0.9778535 |\n",
       "| chr1 | 100037727 | 100038876 | DBT      | HCT116 | -0.002565129 | 0.10682571 | -0.02401228 | 0.980842812 | 0.860 | 0.065501549 | -1 | -0.065501549 | 0.9829952 |\n",
       "| chr1 | 100037727 | 100038876 | DPH5     | HCT116 | -0.073370467 | 0.10410205 | -0.70479369 | 0.480938637 | 0.620 | 0.207608311 | -1 | -0.207608311 | 0.9624599 |\n",
       "| chr1 | 100037727 | 100038876 | EXTL2    | HCT116 |  0.016873189 | 0.08941751 |  0.18870118 | 0.850327027 | 0.800 | 0.096910013 |  1 |  0.096910013 | 0.9793976 |\n",
       "| chr1 | 100037727 | 100038876 | FRRS1    | HCT116 | -0.096242526 | 0.11834178 | -0.81325910 | 0.416069519 | 0.540 | 0.267606240 | -1 | -0.267606240 | 0.9528006 |\n",
       "| chr1 | 100037727 | 100038876 | MFSD14A  | HCT116 | -0.075018788 | 0.08634669 | -0.86880912 | 0.384951544 | 0.360 | 0.443697499 | -1 | -0.443697499 | 0.9189369 |\n",
       "| chr1 | 100037727 | 100038876 | RTCA     | HCT116 | -0.043496405 | 0.11029023 | -0.39438131 | 0.693299538 | 0.660 | 0.180456064 | -1 | -0.180456064 | 0.9664605 |\n",
       "| chr1 | 100037727 | 100038876 | SASS6    | HCT116 |  0.069196280 | 0.08733370 |  0.79232049 | 0.428173828 | 0.580 | 0.236572006 |  1 |  0.236572006 | 0.9568105 |\n",
       "| chr1 | 100037727 | 100038876 | SLC30A7  | HCT116 | -0.078343392 | 0.05795982 | -1.35168462 | 0.176476226 | 0.200 | 0.698970004 | -1 | -0.698970004 | 0.8604511 |\n",
       "| chr1 | 100037727 | 100038876 | SLC35A3  | HCT116 | -0.004824444 | 0.07347766 | -0.06565865 | 0.947649594 | 0.900 | 0.045757491 | -1 | -0.045757491 | 0.9854534 |\n",
       "| chr1 | 100037727 | 100038876 | TRMT13   | HCT116 |  0.019517116 | 0.10474690 |  0.18632643 | 0.852188783 | 0.780 | 0.107905397 |  1 |  0.107905397 | 0.9778535 |\n",
       "| chr1 | 100132492 | 100133481 | AGL      | HCT116 |  0.021958736 | 0.07609225 |  0.28858046 | 0.772902453 | 0.660 | 0.180456064 |  1 |  0.180456064 | 0.9664605 |\n",
       "| chr1 | 100132492 | 100133481 | CDC14A   | HCT116 | -0.159306038 | 0.11054791 | -1.44105886 | 0.149568055 | 0.280 | 0.552841969 | -1 | -0.552841969 | 0.8968459 |\n",
       "| chr1 | 100132492 | 100133481 | DBT      | HCT116 |  0.018750875 | 0.10138189 |  0.18495290 | 0.853265978 | 0.960 | 0.017728767 |  1 |  0.017728767 | 0.9886327 |\n",
       "| chr1 | 100132492 | 100133481 | DPH5     | HCT116 |  0.034445842 | 0.09591523 |  0.35912796 | 0.719499365 | 0.680 | 0.167491087 |  1 |  0.167491087 | 0.9684698 |\n",
       "| chr1 | 100132492 | 100133481 | EXTL2    | HCT116 |  0.059306764 | 0.08435768 |  0.70303928 | 0.482031268 | 0.520 | 0.283996656 |  1 |  0.283996656 | 0.9491698 |\n",
       "| chr1 | 100132492 | 100133481 | FRRS1    | HCT116 |  0.050276054 | 0.10751556 |  0.46761656 | 0.640058824 | 0.700 | 0.154901960 |  1 |  0.154901960 | 0.9713743 |\n",
       "| chr1 | 100132492 | 100133481 | MFSD14A  | HCT116 |  0.118826620 | 0.07738144 |  1.53559578 | 0.124637550 | 0.180 | 0.744727495 |  1 |  0.744727495 | 0.8519850 |\n",
       "| chr1 | 100132492 | 100133481 | RTCA     | HCT116 |  0.198641936 | 0.09742170 |  2.03899062 | 0.041450964 | 0.028 | 1.552841969 |  1 |  1.552841969 | 0.6954126 |\n",
       "| chr1 | 100132492 | 100133481 | SASS6    | HCT116 |  0.034835826 | 0.08449054 |  0.41230447 | 0.680116274 | 0.820 | 0.086186148 |  1 |  0.086186148 | 0.9805326 |\n",
       "| chr1 | 100132492 | 100133481 | SLC30A7  | HCT116 | -0.019361933 | 0.05425892 | -0.35684333 | 0.721209094 | 0.840 | 0.075720714 | -1 | -0.075720714 | 0.9816159 |\n",
       "| chr1 | 100132492 | 100133481 | SLC35A3  | HCT116 |  0.057085992 | 0.06883688 |  0.82929369 | 0.406938241 | 0.320 | 0.494850022 |  1 |  0.494850022 | 0.9108448 |\n",
       "| chr1 | 100132492 | 100133481 | TRMT13   | HCT116 |  0.016563669 | 0.10025353 |  0.16521780 | 0.868772553 | 0.980 | 0.008773924 |  1 |  0.008773924 | 0.9895946 |\n",
       "| chr1 |   1001789 |   1002120 | AGRN     | HCT116 |  0.019230947 | 0.20396405 |  0.09428596 | 0.924882001 | 0.920 | 0.036212173 |  1 |  0.036212173 | 0.9861940 |\n",
       "| chr1 |   1001789 |   1002120 | ATAD3A   | HCT116 |  0.510113302 | 0.18293713 |  2.78846244 | 0.005295889 | 0.004 | 2.397940009 |  1 |  2.397940009 | 0.3135098 |\n",
       "| chr1 |   1001789 |   1002120 | ATAD3B   | HCT116 |  0.003819859 | 0.20387731 |  0.01873606 | 0.985051658 | 0.820 | 0.086186148 |  1 |  0.086186148 | 0.9805326 |\n",
       "| chr1 |   1001789 |   1002120 | AURKAIP1 | HCT116 |  0.028283216 | 0.12620618 |  0.22410326 | 0.822676959 | 0.840 | 0.075720714 |  1 |  0.075720714 | 0.9816159 |\n",
       "| chr1 |   1001789 |   1002120 | C1orf159 | HCT116 |  0.050057470 | 0.13808810 |  0.36250387 | 0.716975536 | 0.640 | 0.193820026 |  1 |  0.193820026 | 0.9647749 |\n",
       "| chr1 |   1001789 |   1002120 | CCNL2    | HCT116 |  0.084255484 | 0.07147467 |  1.17881603 | 0.238471441 | 0.320 | 0.494850022 |  1 |  0.494850022 | 0.9108448 |\n",
       "| ⋮ | ⋮ | ⋮ | ⋮ | ⋮ | ⋮ | ⋮ | ⋮ | ⋮ | ⋮ | ⋮ | ⋮ | ⋮ | ⋮ |\n",
       "| chrX | 77899143 | 77899612 | MAGT1   | HCT116 | -0.0977956415 | 0.09571992 | -1.02168535 | 0.306929848 | 0.340 | 0.468521083 | -1 | -0.468521083 | 0.9154007 |\n",
       "| chrX | 77899143 | 77899612 | PGK1    | HCT116 |  0.0213752429 | 0.07408639 |  0.28851781 | 0.772950399 | 0.680 | 0.167491087 |  1 |  0.167491087 | 0.9684698 |\n",
       "| chrX | 78103716 | 78104358 | ATP7A   | HCT116 |  0.0650493068 | 0.12006233 |  0.54179614 | 0.587958948 | 0.620 | 0.207608311 |  1 |  0.207608311 | 0.9624599 |\n",
       "| chrX | 78103716 | 78104358 | ATRX    | HCT116 | -0.0005756069 | 0.03164492 | -0.01818955 | 0.985487637 | 0.980 | 0.008773924 | -1 | -0.008773924 | 0.9895946 |\n",
       "| chrX | 78103716 | 78104358 | COX7B   | HCT116 |  0.0114029683 | 0.06321273 |  0.18039038 | 0.856846104 | 0.820 | 0.086186148 |  1 |  0.086186148 | 0.9805326 |\n",
       "| chrX | 78103716 | 78104358 | MAGT1   | HCT116 |  0.0156743980 | 0.06017007 |  0.26050157 | 0.794476907 | 0.800 | 0.096910013 |  1 |  0.096910013 | 0.9793976 |\n",
       "| chrX | 78103716 | 78104358 | PGK1    | HCT116 |  0.0458083273 | 0.04844507 |  0.94557248 | 0.344366688 | 0.220 | 0.657577319 |  1 |  0.657577319 | 0.8711626 |\n",
       "| chrX | 78139106 | 78140054 | ATP7A   | HCT116 | -0.1813291649 | 0.17879834 | -1.01415465 | 0.310508966 | 0.420 | 0.376750710 | -1 | -0.376750710 | 0.9316490 |\n",
       "| chrX | 78139106 | 78140054 | ATRX    | HCT116 |  0.0758978149 | 0.04138062 |  1.83413930 | 0.066633318 | 0.080 | 1.096910013 |  1 |  1.096910013 | 0.8387691 |\n",
       "| chrX | 78139106 | 78140054 | COX7B   | HCT116 | -0.2103075315 | 0.09530923 | -2.20658106 | 0.027343341 | 0.024 | 1.619788758 | -1 | -1.619788758 | 0.6699097 |\n",
       "| chrX | 78139106 | 78140054 | MAGT1   | HCT116 | -0.0422113179 | 0.08351968 | -0.50540566 | 0.613273943 | 0.600 | 0.221848750 | -1 | -0.221848750 | 0.9592429 |\n",
       "| chrX | 78139106 | 78140054 | PGK1    | HCT116 | -0.1191931418 | 0.07018039 | -1.69838251 | 0.089435592 | 0.120 | 0.920818754 | -1 | -0.920818754 | 0.8387691 |\n",
       "| chrX |  7927003 |  7927919 | PUDP    | HCT116 |  0.2377136507 | 0.10653944 |  2.23122685 | 0.025666107 | 0.004 | 2.397940009 |  1 |  2.397940009 | 0.3135098 |\n",
       "| chrX | 80809509 | 80810260 | BRWD3   | HCT116 |  0.0775047365 | 0.05822098 |  1.33121667 | 0.183117729 | 0.220 | 0.657577319 |  1 |  0.657577319 | 0.8711626 |\n",
       "| chrX | 80809509 | 80810260 | HMGN5   | HCT116 | -0.4349760879 | 0.19453357 | -2.23599498 | 0.025352100 | 0.040 | 1.397940009 | -1 | -1.397940009 | 0.7641481 |\n",
       "| chrX | 80809509 | 80810260 | SH3BGRL | HCT116 |  0.2931259029 | 0.09324915 |  3.14346989 | 0.001669576 | 0.004 | 2.397940009 |  1 |  2.397940009 | 0.3135098 |\n",
       "| chrX | 81121490 | 81122152 | BRWD3   | HCT116 | -0.0258044032 | 0.08686864 | -0.29705083 | 0.766427700 | 0.720 | 0.142667504 | -1 | -0.142667504 | 0.9733502 |\n",
       "| chrX | 81121490 | 81122152 | HMGN5   | HCT116 |  0.2015629623 | 0.21573946 |  0.93428881 | 0.350154937 | 0.300 | 0.522878745 |  1 |  0.522878745 | 0.9041124 |\n",
       "| chrX | 81121490 | 81122152 | SH3BGRL | HCT116 | -0.0335870962 | 0.15148436 | -0.22171989 | 0.824531942 | 0.860 | 0.065501549 | -1 | -0.065501549 | 0.9829952 |\n",
       "| chrX | 85003033 | 85004208 | APOOL   | HCT116 | -0.2616689710 | 0.15875881 | -1.64821703 | 0.099308143 | 0.120 | 0.920818754 | -1 | -0.920818754 | 0.8387691 |\n",
       "| chrX | 85003033 | 85004208 | ZNF711  | HCT116 | -0.2436477858 | 0.23591599 | -1.03277351 | 0.301709903 | 0.360 | 0.443697499 | -1 | -0.443697499 | 0.9189369 |\n",
       "| chrX |  9462920 |  9463443 | TBL1X   | HCT116 |  0.1168548765 | 0.05874127 |  1.98931493 | 0.046666453 | 0.068 | 1.167491087 |  1 |  1.167491087 | 0.8387691 |\n",
       "| chrX |  9462920 |  9463443 | WWC3    | HCT116 |  0.1032443317 | 0.22112438 |  0.46690614 | 0.640567029 | 0.660 | 0.180456064 |  1 |  0.180456064 | 0.9664605 |\n",
       "| chrX |  9464706 |  9465504 | TBL1X   | HCT116 |  0.0697810791 | 0.06204770 |  1.12463595 | 0.260743335 | 0.360 | 0.443697499 |  1 |  0.443697499 | 0.9189369 |\n",
       "| chrX |  9464706 |  9465504 | WWC3    | HCT116 |  0.0841297325 | 0.22637515 |  0.37163856 | 0.710161978 | 0.700 | 0.154901960 |  1 |  0.154901960 | 0.9713743 |\n",
       "| chrX | 96684197 | 96685323 | DIAPH2  | HCT116 |  0.1354262483 | 0.05136825 |  2.63638048 | 0.008379571 | 0.016 | 1.795880017 |  1 |  1.795880017 | 0.5892651 |\n",
       "| chrX |  9785558 |  9787129 | TBL1X   | HCT116 |  0.1326436330 | 0.05707828 |  2.32388970 | 0.020131406 | 0.036 | 1.443697499 |  1 |  1.443697499 | 0.7405971 |\n",
       "| chrX |  9785558 |  9787129 | WWC3    | HCT116 | -0.2736458140 | 0.24453650 | -1.11903872 | 0.263123621 | 0.240 | 0.619788758 | -1 | -0.619788758 | 0.8798579 |\n",
       "| chrX |  9865589 |  9867054 | TBL1X   | HCT116 |  0.0827967651 | 0.06080624 |  1.36164922 | 0.173308613 | 0.120 | 0.920818754 |  1 |  0.920818754 | 0.8387691 |\n",
       "| chrX |  9865589 |  9867054 | WWC3    | HCT116 | -0.1214087360 | 0.23755512 | -0.51107606 | 0.609297799 | 0.980 | 0.008773924 | -1 | -0.008773924 | 0.9895946 |\n",
       "\n"
      ],
      "text/plain": [
       "       chr  start     end       TargetGene CellType beta          se        \n",
       "1      chr1 100037727 100038876 AGL        HCT116    0.098495212  0.07756699\n",
       "2      chr1 100037727 100038876 CDC14A     HCT116   -0.015964225  0.11022965\n",
       "3      chr1 100037727 100038876 DBT        HCT116   -0.002565129  0.10682571\n",
       "4      chr1 100037727 100038876 DPH5       HCT116   -0.073370467  0.10410205\n",
       "5      chr1 100037727 100038876 EXTL2      HCT116    0.016873189  0.08941751\n",
       "6      chr1 100037727 100038876 FRRS1      HCT116   -0.096242526  0.11834178\n",
       "7      chr1 100037727 100038876 MFSD14A    HCT116   -0.075018788  0.08634669\n",
       "8      chr1 100037727 100038876 RTCA       HCT116   -0.043496405  0.11029023\n",
       "9      chr1 100037727 100038876 SASS6      HCT116    0.069196280  0.08733370\n",
       "10     chr1 100037727 100038876 SLC30A7    HCT116   -0.078343392  0.05795982\n",
       "11     chr1 100037727 100038876 SLC35A3    HCT116   -0.004824444  0.07347766\n",
       "12     chr1 100037727 100038876 TRMT13     HCT116    0.019517116  0.10474690\n",
       "13     chr1 100132492 100133481 AGL        HCT116    0.021958736  0.07609225\n",
       "14     chr1 100132492 100133481 CDC14A     HCT116   -0.159306038  0.11054791\n",
       "15     chr1 100132492 100133481 DBT        HCT116    0.018750875  0.10138189\n",
       "16     chr1 100132492 100133481 DPH5       HCT116    0.034445842  0.09591523\n",
       "17     chr1 100132492 100133481 EXTL2      HCT116    0.059306764  0.08435768\n",
       "18     chr1 100132492 100133481 FRRS1      HCT116    0.050276054  0.10751556\n",
       "19     chr1 100132492 100133481 MFSD14A    HCT116    0.118826620  0.07738144\n",
       "20     chr1 100132492 100133481 RTCA       HCT116    0.198641936  0.09742170\n",
       "21     chr1 100132492 100133481 SASS6      HCT116    0.034835826  0.08449054\n",
       "22     chr1 100132492 100133481 SLC30A7    HCT116   -0.019361933  0.05425892\n",
       "23     chr1 100132492 100133481 SLC35A3    HCT116    0.057085992  0.06883688\n",
       "24     chr1 100132492 100133481 TRMT13     HCT116    0.016563669  0.10025353\n",
       "25     chr1   1001789   1002120 AGRN       HCT116    0.019230947  0.20396405\n",
       "26     chr1   1001789   1002120 ATAD3A     HCT116    0.510113302  0.18293713\n",
       "27     chr1   1001789   1002120 ATAD3B     HCT116    0.003819859  0.20387731\n",
       "28     chr1   1001789   1002120 AURKAIP1   HCT116    0.028283216  0.12620618\n",
       "29     chr1   1001789   1002120 C1orf159   HCT116    0.050057470  0.13808810\n",
       "30     chr1   1001789   1002120 CCNL2      HCT116    0.084255484  0.07147467\n",
       "⋮      ⋮    ⋮         ⋮         ⋮          ⋮        ⋮             ⋮         \n",
       "280719 chrX 77899143  77899612  MAGT1      HCT116   -0.0977956415 0.09571992\n",
       "280720 chrX 77899143  77899612  PGK1       HCT116    0.0213752429 0.07408639\n",
       "280721 chrX 78103716  78104358  ATP7A      HCT116    0.0650493068 0.12006233\n",
       "280722 chrX 78103716  78104358  ATRX       HCT116   -0.0005756069 0.03164492\n",
       "280723 chrX 78103716  78104358  COX7B      HCT116    0.0114029683 0.06321273\n",
       "280724 chrX 78103716  78104358  MAGT1      HCT116    0.0156743980 0.06017007\n",
       "280725 chrX 78103716  78104358  PGK1       HCT116    0.0458083273 0.04844507\n",
       "280726 chrX 78139106  78140054  ATP7A      HCT116   -0.1813291649 0.17879834\n",
       "280727 chrX 78139106  78140054  ATRX       HCT116    0.0758978149 0.04138062\n",
       "280728 chrX 78139106  78140054  COX7B      HCT116   -0.2103075315 0.09530923\n",
       "280729 chrX 78139106  78140054  MAGT1      HCT116   -0.0422113179 0.08351968\n",
       "280730 chrX 78139106  78140054  PGK1       HCT116   -0.1191931418 0.07018039\n",
       "280731 chrX  7927003   7927919  PUDP       HCT116    0.2377136507 0.10653944\n",
       "280732 chrX 80809509  80810260  BRWD3      HCT116    0.0775047365 0.05822098\n",
       "280733 chrX 80809509  80810260  HMGN5      HCT116   -0.4349760879 0.19453357\n",
       "280734 chrX 80809509  80810260  SH3BGRL    HCT116    0.2931259029 0.09324915\n",
       "280735 chrX 81121490  81122152  BRWD3      HCT116   -0.0258044032 0.08686864\n",
       "280736 chrX 81121490  81122152  HMGN5      HCT116    0.2015629623 0.21573946\n",
       "280737 chrX 81121490  81122152  SH3BGRL    HCT116   -0.0335870962 0.15148436\n",
       "280738 chrX 85003033  85004208  APOOL      HCT116   -0.2616689710 0.15875881\n",
       "280739 chrX 85003033  85004208  ZNF711     HCT116   -0.2436477858 0.23591599\n",
       "280740 chrX  9462920   9463443  TBL1X      HCT116    0.1168548765 0.05874127\n",
       "280741 chrX  9462920   9463443  WWC3       HCT116    0.1032443317 0.22112438\n",
       "280742 chrX  9464706   9465504  TBL1X      HCT116    0.0697810791 0.06204770\n",
       "280743 chrX  9464706   9465504  WWC3       HCT116    0.0841297325 0.22637515\n",
       "280744 chrX 96684197  96685323  DIAPH2     HCT116    0.1354262483 0.05136825\n",
       "280745 chrX  9785558   9787129  TBL1X      HCT116    0.1326436330 0.05707828\n",
       "280746 chrX  9785558   9787129  WWC3       HCT116   -0.2736458140 0.24453650\n",
       "280747 chrX  9865589   9867054  TBL1X      HCT116    0.0827967651 0.06080624\n",
       "280748 chrX  9865589   9867054  WWC3       HCT116   -0.1214087360 0.23755512\n",
       "       z           p           boot_basic_p boot_basic_p.log10 sign\n",
       "1       1.26980839 0.204152892 0.220        0.657577319         1  \n",
       "2      -0.14482697 0.884847492 0.780        0.107905397        -1  \n",
       "3      -0.02401228 0.980842812 0.860        0.065501549        -1  \n",
       "4      -0.70479369 0.480938637 0.620        0.207608311        -1  \n",
       "5       0.18870118 0.850327027 0.800        0.096910013         1  \n",
       "6      -0.81325910 0.416069519 0.540        0.267606240        -1  \n",
       "7      -0.86880912 0.384951544 0.360        0.443697499        -1  \n",
       "8      -0.39438131 0.693299538 0.660        0.180456064        -1  \n",
       "9       0.79232049 0.428173828 0.580        0.236572006         1  \n",
       "10     -1.35168462 0.176476226 0.200        0.698970004        -1  \n",
       "11     -0.06565865 0.947649594 0.900        0.045757491        -1  \n",
       "12      0.18632643 0.852188783 0.780        0.107905397         1  \n",
       "13      0.28858046 0.772902453 0.660        0.180456064         1  \n",
       "14     -1.44105886 0.149568055 0.280        0.552841969        -1  \n",
       "15      0.18495290 0.853265978 0.960        0.017728767         1  \n",
       "16      0.35912796 0.719499365 0.680        0.167491087         1  \n",
       "17      0.70303928 0.482031268 0.520        0.283996656         1  \n",
       "18      0.46761656 0.640058824 0.700        0.154901960         1  \n",
       "19      1.53559578 0.124637550 0.180        0.744727495         1  \n",
       "20      2.03899062 0.041450964 0.028        1.552841969         1  \n",
       "21      0.41230447 0.680116274 0.820        0.086186148         1  \n",
       "22     -0.35684333 0.721209094 0.840        0.075720714        -1  \n",
       "23      0.82929369 0.406938241 0.320        0.494850022         1  \n",
       "24      0.16521780 0.868772553 0.980        0.008773924         1  \n",
       "25      0.09428596 0.924882001 0.920        0.036212173         1  \n",
       "26      2.78846244 0.005295889 0.004        2.397940009         1  \n",
       "27      0.01873606 0.985051658 0.820        0.086186148         1  \n",
       "28      0.22410326 0.822676959 0.840        0.075720714         1  \n",
       "29      0.36250387 0.716975536 0.640        0.193820026         1  \n",
       "30      1.17881603 0.238471441 0.320        0.494850022         1  \n",
       "⋮      ⋮           ⋮           ⋮            ⋮                  ⋮   \n",
       "280719 -1.02168535 0.306929848 0.340        0.468521083        -1  \n",
       "280720  0.28851781 0.772950399 0.680        0.167491087         1  \n",
       "280721  0.54179614 0.587958948 0.620        0.207608311         1  \n",
       "280722 -0.01818955 0.985487637 0.980        0.008773924        -1  \n",
       "280723  0.18039038 0.856846104 0.820        0.086186148         1  \n",
       "280724  0.26050157 0.794476907 0.800        0.096910013         1  \n",
       "280725  0.94557248 0.344366688 0.220        0.657577319         1  \n",
       "280726 -1.01415465 0.310508966 0.420        0.376750710        -1  \n",
       "280727  1.83413930 0.066633318 0.080        1.096910013         1  \n",
       "280728 -2.20658106 0.027343341 0.024        1.619788758        -1  \n",
       "280729 -0.50540566 0.613273943 0.600        0.221848750        -1  \n",
       "280730 -1.69838251 0.089435592 0.120        0.920818754        -1  \n",
       "280731  2.23122685 0.025666107 0.004        2.397940009         1  \n",
       "280732  1.33121667 0.183117729 0.220        0.657577319         1  \n",
       "280733 -2.23599498 0.025352100 0.040        1.397940009        -1  \n",
       "280734  3.14346989 0.001669576 0.004        2.397940009         1  \n",
       "280735 -0.29705083 0.766427700 0.720        0.142667504        -1  \n",
       "280736  0.93428881 0.350154937 0.300        0.522878745         1  \n",
       "280737 -0.22171989 0.824531942 0.860        0.065501549        -1  \n",
       "280738 -1.64821703 0.099308143 0.120        0.920818754        -1  \n",
       "280739 -1.03277351 0.301709903 0.360        0.443697499        -1  \n",
       "280740  1.98931493 0.046666453 0.068        1.167491087         1  \n",
       "280741  0.46690614 0.640567029 0.660        0.180456064         1  \n",
       "280742  1.12463595 0.260743335 0.360        0.443697499         1  \n",
       "280743  0.37163856 0.710161978 0.700        0.154901960         1  \n",
       "280744  2.63638048 0.008379571 0.016        1.795880017         1  \n",
       "280745  2.32388970 0.020131406 0.036        1.443697499         1  \n",
       "280746 -1.11903872 0.263123621 0.240        0.619788758        -1  \n",
       "280747  1.36164922 0.173308613 0.120        0.920818754         1  \n",
       "280748 -0.51107606 0.609297799 0.980        0.008773924        -1  \n",
       "       boot_basic_p.log10.signed FDR      \n",
       "1       0.657577319              0.8711626\n",
       "2      -0.107905397              0.9778535\n",
       "3      -0.065501549              0.9829952\n",
       "4      -0.207608311              0.9624599\n",
       "5       0.096910013              0.9793976\n",
       "6      -0.267606240              0.9528006\n",
       "7      -0.443697499              0.9189369\n",
       "8      -0.180456064              0.9664605\n",
       "9       0.236572006              0.9568105\n",
       "10     -0.698970004              0.8604511\n",
       "11     -0.045757491              0.9854534\n",
       "12      0.107905397              0.9778535\n",
       "13      0.180456064              0.9664605\n",
       "14     -0.552841969              0.8968459\n",
       "15      0.017728767              0.9886327\n",
       "16      0.167491087              0.9684698\n",
       "17      0.283996656              0.9491698\n",
       "18      0.154901960              0.9713743\n",
       "19      0.744727495              0.8519850\n",
       "20      1.552841969              0.6954126\n",
       "21      0.086186148              0.9805326\n",
       "22     -0.075720714              0.9816159\n",
       "23      0.494850022              0.9108448\n",
       "24      0.008773924              0.9895946\n",
       "25      0.036212173              0.9861940\n",
       "26      2.397940009              0.3135098\n",
       "27      0.086186148              0.9805326\n",
       "28      0.075720714              0.9816159\n",
       "29      0.193820026              0.9647749\n",
       "30      0.494850022              0.9108448\n",
       "⋮      ⋮                         ⋮        \n",
       "280719 -0.468521083              0.9154007\n",
       "280720  0.167491087              0.9684698\n",
       "280721  0.207608311              0.9624599\n",
       "280722 -0.008773924              0.9895946\n",
       "280723  0.086186148              0.9805326\n",
       "280724  0.096910013              0.9793976\n",
       "280725  0.657577319              0.8711626\n",
       "280726 -0.376750710              0.9316490\n",
       "280727  1.096910013              0.8387691\n",
       "280728 -1.619788758              0.6699097\n",
       "280729 -0.221848750              0.9592429\n",
       "280730 -0.920818754              0.8387691\n",
       "280731  2.397940009              0.3135098\n",
       "280732  0.657577319              0.8711626\n",
       "280733 -1.397940009              0.7641481\n",
       "280734  2.397940009              0.3135098\n",
       "280735 -0.142667504              0.9733502\n",
       "280736  0.522878745              0.9041124\n",
       "280737 -0.065501549              0.9829952\n",
       "280738 -0.920818754              0.8387691\n",
       "280739 -0.443697499              0.9189369\n",
       "280740  1.167491087              0.8387691\n",
       "280741  0.180456064              0.9664605\n",
       "280742  0.443697499              0.9189369\n",
       "280743  0.154901960              0.9713743\n",
       "280744  1.795880017              0.5892651\n",
       "280745  1.443697499              0.7405971\n",
       "280746 -0.619788758              0.8798579\n",
       "280747  0.920818754              0.8387691\n",
       "280748 -0.008773924              0.9895946"
      ]
     },
     "metadata": {},
     "output_type": "display_data"
    }
   ],
   "source": [
    "df.output = as.data.frame(pairs.E2G.res,row.names = NULL)\n",
    "colnames(df.output)[1] = \"chr\"\n",
    "df.output[,\"CellType\"] = celltype\n",
    "df.output = df.output[,c(\"chr\",\n",
    "                         \"start\",\n",
    "                         \"end\",\n",
    "                         \"TargetGene\",\n",
    "                         \"CellType\",\n",
    "                         \"beta\",\"se\",\"z\",\"p\",\"boot_basic_p\",\n",
    "                         \"boot_basic_p.log10\",\n",
    "                         \"sign\",\n",
    "                         \"boot_basic_p.log10.signed\")]\n",
    "df.output[,\"FDR\"] = p.adjust(df.output$boot_basic_p, method = \"BH\")\n",
    "data.table::fwrite(df.output,\n",
    "                   file = paste(dir.output,\"pairs.E2G.res.tsv.gz\",sep = \"/\"),\n",
    "                   row.names = F,\n",
    "                   quote = F,\n",
    "                   sep = \"\\t\")\n",
    "df.output"
   ]
  },
  {
   "cell_type": "code",
   "execution_count": 24,
   "id": "4d77c58e-215a-408d-8495-c68c72f559c3",
   "metadata": {},
   "outputs": [
    {
     "data": {
      "text/plain": [
       "R version 4.3.3 (2024-02-29)\n",
       "Platform: x86_64-conda-linux-gnu (64-bit)\n",
       "Running under: Red Hat Enterprise Linux 8.10 (Ootpa)\n",
       "\n",
       "Matrix products: default\n",
       "BLAS/LAPACK: /maps/projects/ralab/people/lpm537/software/anaconda3/envs/Notebook_E2G_240505/lib/libopenblasp-r0.3.27.so;  LAPACK version 3.12.0\n",
       "\n",
       "locale:\n",
       " [1] LC_CTYPE=en_US.UTF-8       LC_NUMERIC=C              \n",
       " [3] LC_TIME=en_US.UTF-8        LC_COLLATE=en_US.UTF-8    \n",
       " [5] LC_MONETARY=en_US.UTF-8    LC_MESSAGES=en_US.UTF-8   \n",
       " [7] LC_PAPER=en_US.UTF-8       LC_NAME=C                 \n",
       " [9] LC_ADDRESS=C               LC_TELEPHONE=C            \n",
       "[11] LC_MEASUREMENT=en_US.UTF-8 LC_IDENTIFICATION=C       \n",
       "\n",
       "time zone: Europe/Copenhagen\n",
       "tzcode source: system (glibc)\n",
       "\n",
       "attached base packages:\n",
       " [1] parallel  stats4    grid      stats     graphics  grDevices utils    \n",
       " [8] datasets  methods   base     \n",
       "\n",
       "other attached packages:\n",
       " [1] dplyr_1.1.4          data.table_1.15.2    Matrix_1.6-5        \n",
       " [4] GenomicRanges_1.54.1 GenomeInfoDb_1.38.1  IRanges_2.36.0      \n",
       " [7] S4Vectors_0.40.2     BiocGenerics_0.48.1  genomation_1.34.0   \n",
       "[10] Signac_1.13.0        SCENT_1.0.0         \n",
       "\n",
       "loaded via a namespace (and not attached):\n",
       "  [1] rstudioapi_0.16.0           jsonlite_1.8.8             \n",
       "  [3] magrittr_2.0.3              nloptr_2.0.3               \n",
       "  [5] rmarkdown_2.26              BiocIO_1.10.0              \n",
       "  [7] zlibbioc_1.48.0             vctrs_0.6.5                \n",
       "  [9] minqa_1.2.6                 Rsamtools_2.18.0           \n",
       " [11] RCurl_1.98-1.14             base64enc_0.1-3            \n",
       " [13] RcppRoll_0.3.0              htmltools_0.5.8.1          \n",
       " [15] S4Arrays_1.2.1              plotrix_3.8-4              \n",
       " [17] Formula_1.2-5               parallelly_1.37.1          \n",
       " [19] KernSmooth_2.23-22          htmlwidgets_1.6.4          \n",
       " [21] plyr_1.8.9                  impute_1.76.0              \n",
       " [23] uuid_1.2-0                  GenomicAlignments_1.36.0   \n",
       " [25] lifecycle_1.0.4             pkgconfig_2.0.3            \n",
       " [27] R6_2.5.1                    fastmap_1.1.1              \n",
       " [29] GenomeInfoDbData_1.2.11     MatrixGenerics_1.12.3      \n",
       " [31] future_1.33.2               digest_0.6.35              \n",
       " [33] colorspace_2.1-0            patchwork_1.2.0            \n",
       " [35] irlba_2.3.5.1               Hmisc_5.1-2                \n",
       " [37] progressr_0.14.0            fansi_1.0.6                \n",
       " [39] abind_1.4-5                 compiler_4.3.3             \n",
       " [41] withr_3.0.0                 bit64_4.0.5                \n",
       " [43] htmlTable_2.4.2             backports_1.4.1            \n",
       " [45] BiocParallel_1.36.0         R.utils_2.12.3             \n",
       " [47] MASS_7.3-60                 DelayedArray_0.26.7        \n",
       " [49] rjson_0.2.21                tools_4.3.3                \n",
       " [51] foreign_0.8-86              future.apply_1.11.2        \n",
       " [53] nnet_7.3-19                 R.oo_1.26.0                \n",
       " [55] glue_1.7.0                  restfulr_0.0.15            \n",
       " [57] nlme_3.1-164                pbdZMQ_0.3-11              \n",
       " [59] checkmate_2.3.1             gridBase_0.4-7             \n",
       " [61] cluster_2.1.6               reshape2_1.4.4             \n",
       " [63] generics_0.1.3              gtable_0.3.5               \n",
       " [65] BSgenome_1.68.0             tzdb_0.4.0                 \n",
       " [67] R.methodsS3_1.8.2           tidyr_1.3.1                \n",
       " [69] seqPattern_1.34.0           hms_1.1.3                  \n",
       " [71] sp_2.1-4                    utf8_1.2.4                 \n",
       " [73] XVector_0.42.0              pillar_1.9.0               \n",
       " [75] stringr_1.5.1               vroom_1.6.5                \n",
       " [77] spam_2.10-0                 IRdisplay_1.1              \n",
       " [79] splines_4.3.3               lattice_0.22-6             \n",
       " [81] bit_4.0.5                   rtracklayer_1.60.1         \n",
       " [83] tidyselect_1.2.1            Biostrings_2.70.1          \n",
       " [85] pbapply_1.7-2               knitr_1.46                 \n",
       " [87] gridExtra_2.3               SummarizedExperiment_1.30.2\n",
       " [89] RhpcBLASctl_0.23-42         xfun_0.43                  \n",
       " [91] Biobase_2.60.0              matrixStats_1.3.0          \n",
       " [93] stringi_1.8.3               yaml_2.3.8                 \n",
       " [95] boot_1.3-30                 evaluate_0.23              \n",
       " [97] codetools_0.2-20            tibble_3.2.1               \n",
       " [99] cli_3.6.2                   IRkernel_1.3.2             \n",
       "[101] rpart_4.1.23                repr_1.1.7                 \n",
       "[103] munsell_0.5.1               Rcpp_1.0.12                \n",
       "[105] globals_0.16.3              XML_3.99-0.16.1            \n",
       "[107] ggplot2_3.5.1               readr_2.1.5                \n",
       "[109] dotCall64_1.1-1             bitops_1.0-7               \n",
       "[111] lme4_1.1-35.3               listenv_0.9.1              \n",
       "[113] scales_1.3.0                SeuratObject_5.0.1         \n",
       "[115] purrr_1.0.2                 crayon_1.5.2               \n",
       "[117] rlang_1.1.3                 fastmatch_1.1-4            "
      ]
     },
     "metadata": {},
     "output_type": "display_data"
    }
   ],
   "source": [
    "sessionInfo()"
   ]
  },
  {
   "cell_type": "code",
   "execution_count": null,
   "id": "3c1a0283-11d6-4df1-bbd8-7b47e9e8ead8",
   "metadata": {},
   "outputs": [],
   "source": []
  }
 ],
 "metadata": {
  "kernelspec": {
   "display_name": "R",
   "language": "R",
   "name": "ir"
  },
  "language_info": {
   "codemirror_mode": "r",
   "file_extension": ".r",
   "mimetype": "text/x-r-source",
   "name": "R",
   "pygments_lexer": "r",
   "version": "4.3.3"
  }
 },
 "nbformat": 4,
 "nbformat_minor": 5
}
