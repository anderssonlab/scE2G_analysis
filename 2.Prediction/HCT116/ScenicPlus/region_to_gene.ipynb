{
 "cells": [
  {
   "cell_type": "code",
   "execution_count": 1,
   "id": "131db1b9-2cfc-4f9f-8c22-daef4ba457fd",
   "metadata": {},
   "outputs": [
    {
     "name": "stdout",
     "output_type": "stream",
     "text": [
      "2025-03-27 20:47:16,195 SCENIC+      INFO     Reading cisTopic object.\n",
      "2025-03-27 20:47:17,002 SCENIC+      INFO     Reading gene expression AnnData.\n",
      "2025-03-27 20:47:17,611 Ingesting multiome data INFO     Found 4825 multiome cells.\n",
      "2025-03-27 20:47:17,737 cisTopic     INFO     Imputing region accessibility\n",
      "2025-03-27 20:47:17,737 cisTopic     INFO     Impute region accessibility for regions 0-20000\n",
      "2025-03-27 20:47:18,275 cisTopic     INFO     Impute region accessibility for regions 20000-40000\n",
      "2025-03-27 20:47:18,811 cisTopic     INFO     Impute region accessibility for regions 40000-60000\n",
      "2025-03-27 20:47:19,364 cisTopic     INFO     Impute region accessibility for regions 60000-80000\n",
      "2025-03-27 20:47:19,899 cisTopic     INFO     Impute region accessibility for regions 80000-100000\n",
      "2025-03-27 20:47:20,435 cisTopic     INFO     Impute region accessibility for regions 100000-120000\n",
      "2025-03-27 20:47:20,953 cisTopic     INFO     Impute region accessibility for regions 120000-140000\n",
      "2025-03-27 20:47:21,486 cisTopic     INFO     Impute region accessibility for regions 140000-160000\n",
      "2025-03-27 20:47:21,843 cisTopic     INFO     Done!\n",
      "... storing 'sample_id' as categorical\n",
      "... storing 'Chromosome' as categorical\n",
      "\u001b[0m"
     ]
    }
   ],
   "source": [
    "!scenicplus prepare_data prepare_GEX_ACC \\\n",
    "    --cisTopic_obj_fname outs/cistopic_obj.pkl \\\n",
    "    --GEX_anndata_fname adata.250327.h5ad \\\n",
    "    --out_file outs/ACC_GEX.250327.h5mu \\\n",
    "    --bc_transform_func \"lambda x: f'{x}___cisTopic'\""
   ]
  },
  {
   "cell_type": "markdown",
   "id": "8ed90f12-ab62-4d02-8886-769370174d19",
   "metadata": {},
   "source": [
    "Replace first '-' with ':' in region names"
   ]
  },
  {
   "cell_type": "code",
   "execution_count": 2,
   "id": "d6fb2954-60d8-4a31-a185-bedc0ccab689",
   "metadata": {},
   "outputs": [
    {
     "name": "stderr",
     "output_type": "stream",
     "text": [
      "/maps/projects/ralab/people/lpm537/software/anaconda3/envs/scenicplus_240606/lib/python3.11/site-packages/anndata/_core/anndata.py:522: FutureWarning: The dtype argument is deprecated and will be removed in late 2024.\n",
      "  warnings.warn(\n",
      "/maps/projects/ralab/people/lpm537/software/anaconda3/envs/scenicplus_240606/lib/python3.11/site-packages/anndata/_core/anndata.py:522: FutureWarning: The dtype argument is deprecated and will be removed in late 2024.\n",
      "  warnings.warn(\n"
     ]
    }
   ],
   "source": [
    "import mudata\n",
    "mdata = mudata.read('outs/ACC_GEX.250327.h5mu')\n",
    "mdata[\"scATAC\"].var_names = mdata[\"scATAC\"].var_names.str.replace('-', ':', n=1)\n",
    "mdata.write(\"outs/ACC_GEX.rename.250327.h5mu\")"
   ]
  },
  {
   "cell_type": "code",
   "execution_count": 7,
   "id": "9a4f9541-d111-4170-bf01-40d3c376f5ad",
   "metadata": {},
   "outputs": [
    {
     "name": "stdout",
     "output_type": "stream",
     "text": [
      "2025-03-27 20:54:19,367 SCENIC+      INFO     Reading data\n",
      "/maps/projects/ralab/people/lpm537/software/anaconda3/envs/scenicplus_240606/lib/python3.11/site-packages/anndata/_core/anndata.py:522: FutureWarning: The dtype argument is deprecated and will be removed in late 2024.\n",
      "  warnings.warn(\n",
      "/maps/projects/ralab/people/lpm537/software/anaconda3/envs/scenicplus_240606/lib/python3.11/site-packages/anndata/_core/anndata.py:522: FutureWarning: The dtype argument is deprecated and will be removed in late 2024.\n",
      "  warnings.warn(\n",
      "2025-03-27 20:54:24,748 Get search space INFO     Extending promoter annotation to 10 bp upstream and 10 downstream\n",
      "2025-03-27 20:54:25,033 Get search space INFO     Extending search space to:\n",
      "            \t\t\t\t\t\t1000000 bp downstream of the end of the gene.\n",
      "            \t\t\t\t\t\t1000000 bp upstream of the start of the gene.\n",
      "2025-03-27 20:54:26,256 Get search space INFO     Intersecting with regions.\n",
      "2025-03-27 20:54:35,062 Get search space INFO     Calculating distances from region to gene\n",
      "2025-03-27 21:00:31,525 Get search space INFO     Imploding multiple entries per region and gene\n",
      "2025-03-27 21:09:00,948 SCENIC+      INFO     Writing search space to: outs/search_space.1000000.250327.tsv\n",
      "\u001b[0m"
     ]
    }
   ],
   "source": [
    "!scenicplus prepare_data search_spance \\\n",
    "    --multiome_mudata_fname outs/ACC_GEX.rename.250327.h5mu \\\n",
    "    --gene_annotation_fname /maps/projects/ralab_nnfc-AUDIT/people/lpm537/software/scenicplus_240606/genome_annotation.abc.tsv \\\n",
    "    --chromsizes_fname /maps/projects/ralab_nnfc-AUDIT/people/lpm537/software/scenicplus_240606/chromsizes.tsv\\\n",
    "    --out_fname outs/search_space.1000000.250327.tsv\\\n",
    "    --upstream 1000 1000000 \\\n",
    "    --downstream 1000 1000000\\\n",
    "    --extend_tss 10 10"
   ]
  },
  {
   "cell_type": "code",
   "execution_count": 8,
   "id": "223f9126-94e0-4e18-8296-f7155d6a8702",
   "metadata": {},
   "outputs": [],
   "source": [
    "!mkdir -p temp_dir"
   ]
  },
  {
   "cell_type": "code",
   "execution_count": 9,
   "id": "a946a47a-e267-45b8-aaf0-5ae36097977c",
   "metadata": {},
   "outputs": [
    {
     "name": "stdout",
     "output_type": "stream",
     "text": [
      "2025-03-27 21:09:27,386 SCENIC+      INFO     Reading multiome MuData.\n",
      "/maps/projects/ralab/people/lpm537/software/anaconda3/envs/scenicplus_240606/lib/python3.11/site-packages/anndata/_core/anndata.py:522: FutureWarning: The dtype argument is deprecated and will be removed in late 2024.\n",
      "  warnings.warn(\n",
      "/maps/projects/ralab/people/lpm537/software/anaconda3/envs/scenicplus_240606/lib/python3.11/site-packages/anndata/_core/anndata.py:522: FutureWarning: The dtype argument is deprecated and will be removed in late 2024.\n",
      "  warnings.warn(\n",
      "2025-03-27 21:09:31,810 SCENIC+      INFO     Reading search space\n",
      "2025-03-27 21:09:34,535 R2G          INFO     Calculating region to gene importances, using GBM method\n",
      "Running using 16 cores: 100%|███████████| 19611/19611 [1:07:15<00:00,  4.86it/s]\n",
      "2025-03-27 22:18:30,248 R2G          INFO     Calculating region to gene correlation, using SR method\n",
      "Running using 16 cores:   0%|                | 19/19611 [00:00<05:26, 59.96it/s]/maps/projects/ralab/people/lpm537/software/anaconda3/envs/scenicplus_240606/lib/python3.11/site-packages/scenicplus/enhancer_to_gene.py:158: ConstantInputWarning: An input array is constant; the correlation coefficient is not defined.\n",
      "  correlation_result = np.array([correlator(x, exp) for x in acc.T])\n",
      "Running using 16 cores:   0%|                | 32/19611 [00:00<05:50, 55.91it/s]/maps/projects/ralab/people/lpm537/software/anaconda3/envs/scenicplus_240606/lib/python3.11/site-packages/scenicplus/enhancer_to_gene.py:158: ConstantInputWarning: An input array is constant; the correlation coefficient is not defined.\n",
      "  correlation_result = np.array([correlator(x, exp) for x in acc.T])\n",
      "Running using 16 cores:   1%|               | 113/19611 [00:03<09:17, 35.00it/s]/maps/projects/ralab/people/lpm537/software/anaconda3/envs/scenicplus_240606/lib/python3.11/site-packages/scenicplus/enhancer_to_gene.py:158: ConstantInputWarning: An input array is constant; the correlation coefficient is not defined.\n",
      "  correlation_result = np.array([correlator(x, exp) for x in acc.T])\n",
      "Running using 16 cores:   1%|▏              | 224/19611 [00:06<09:40, 33.37it/s]/maps/projects/ralab/people/lpm537/software/anaconda3/envs/scenicplus_240606/lib/python3.11/site-packages/scenicplus/enhancer_to_gene.py:158: ConstantInputWarning: An input array is constant; the correlation coefficient is not defined.\n",
      "  correlation_result = np.array([correlator(x, exp) for x in acc.T])\n",
      "/maps/projects/ralab/people/lpm537/software/anaconda3/envs/scenicplus_240606/lib/python3.11/site-packages/scenicplus/enhancer_to_gene.py:158: ConstantInputWarning: An input array is constant; the correlation coefficient is not defined.\n",
      "  correlation_result = np.array([correlator(x, exp) for x in acc.T])\n",
      "Running using 16 cores:   1%|▏              | 237/19611 [00:06<06:46, 47.63it/s]/maps/projects/ralab/people/lpm537/software/anaconda3/envs/scenicplus_240606/lib/python3.11/site-packages/scenicplus/enhancer_to_gene.py:158: ConstantInputWarning: An input array is constant; the correlation coefficient is not defined.\n",
      "  correlation_result = np.array([correlator(x, exp) for x in acc.T])\n",
      "/maps/projects/ralab/people/lpm537/software/anaconda3/envs/scenicplus_240606/lib/python3.11/site-packages/scenicplus/enhancer_to_gene.py:158: ConstantInputWarning: An input array is constant; the correlation coefficient is not defined.\n",
      "  correlation_result = np.array([correlator(x, exp) for x in acc.T])\n",
      "Running using 16 cores:   1%|▏              | 256/19611 [00:07<08:55, 36.12it/s]/maps/projects/ralab/people/lpm537/software/anaconda3/envs/scenicplus_240606/lib/python3.11/site-packages/scenicplus/enhancer_to_gene.py:158: ConstantInputWarning: An input array is constant; the correlation coefficient is not defined.\n",
      "  correlation_result = np.array([correlator(x, exp) for x in acc.T])\n",
      "Running using 16 cores:   1%|▏              | 266/19611 [00:07<07:12, 44.74it/s]/maps/projects/ralab/people/lpm537/software/anaconda3/envs/scenicplus_240606/lib/python3.11/site-packages/scenicplus/enhancer_to_gene.py:158: ConstantInputWarning: An input array is constant; the correlation coefficient is not defined.\n",
      "  correlation_result = np.array([correlator(x, exp) for x in acc.T])\n",
      "Running using 16 cores:   1%|▏              | 286/19611 [00:07<06:22, 50.48it/s]/maps/projects/ralab/people/lpm537/software/anaconda3/envs/scenicplus_240606/lib/python3.11/site-packages/scenicplus/enhancer_to_gene.py:158: ConstantInputWarning: An input array is constant; the correlation coefficient is not defined.\n",
      "  correlation_result = np.array([correlator(x, exp) for x in acc.T])\n",
      "Running using 16 cores:   2%|▎              | 368/19611 [00:09<07:59, 40.09it/s]/maps/projects/ralab/people/lpm537/software/anaconda3/envs/scenicplus_240606/lib/python3.11/site-packages/scenicplus/enhancer_to_gene.py:158: ConstantInputWarning: An input array is constant; the correlation coefficient is not defined.\n",
      "  correlation_result = np.array([correlator(x, exp) for x in acc.T])\n",
      "Running using 16 cores:   2%|▎              | 459/19611 [00:12<08:24, 37.99it/s]/maps/projects/ralab/people/lpm537/software/anaconda3/envs/scenicplus_240606/lib/python3.11/site-packages/scenicplus/enhancer_to_gene.py:158: ConstantInputWarning: An input array is constant; the correlation coefficient is not defined.\n",
      "  correlation_result = np.array([correlator(x, exp) for x in acc.T])\n",
      "Running using 16 cores:   3%|▍              | 512/19611 [00:13<10:03, 31.65it/s]/maps/projects/ralab/people/lpm537/software/anaconda3/envs/scenicplus_240606/lib/python3.11/site-packages/scenicplus/enhancer_to_gene.py:158: ConstantInputWarning: An input array is constant; the correlation coefficient is not defined.\n",
      "  correlation_result = np.array([correlator(x, exp) for x in acc.T])\n",
      "Running using 16 cores:   3%|▍              | 611/19611 [00:16<08:42, 36.38it/s]/maps/projects/ralab/people/lpm537/software/anaconda3/envs/scenicplus_240606/lib/python3.11/site-packages/scenicplus/enhancer_to_gene.py:158: ConstantInputWarning: An input array is constant; the correlation coefficient is not defined.\n",
      "  correlation_result = np.array([correlator(x, exp) for x in acc.T])\n",
      "Running using 16 cores:   3%|▌              | 683/19611 [00:18<08:30, 37.07it/s]/maps/projects/ralab/people/lpm537/software/anaconda3/envs/scenicplus_240606/lib/python3.11/site-packages/scenicplus/enhancer_to_gene.py:158: ConstantInputWarning: An input array is constant; the correlation coefficient is not defined.\n",
      "  correlation_result = np.array([correlator(x, exp) for x in acc.T])\n",
      "Running using 16 cores:   9%|█▏            | 1678/19611 [00:48<08:13, 36.37it/s]/maps/projects/ralab/people/lpm537/software/anaconda3/envs/scenicplus_240606/lib/python3.11/site-packages/scenicplus/enhancer_to_gene.py:158: ConstantInputWarning: An input array is constant; the correlation coefficient is not defined.\n",
      "  correlation_result = np.array([correlator(x, exp) for x in acc.T])\n",
      "Running using 16 cores:  29%|████          | 5728/19611 [02:38<06:07, 37.73it/s]"
     ]
    },
    {
     "name": "stderr",
     "output_type": "stream",
     "text": [
      "IOPub message rate exceeded.\n",
      "The Jupyter server will temporarily stop sending output\n",
      "to the client in order to avoid crashing it.\n",
      "To change this limit, set the config variable\n",
      "`--ServerApp.iopub_msg_rate_limit`.\n",
      "\n",
      "Current values:\n",
      "ServerApp.iopub_msg_rate_limit=1000.0 (msgs/sec)\n",
      "ServerApp.rate_limit_window=3.0 (secs)\n",
      "\n"
     ]
    }
   ],
   "source": [
    "!scenicplus grn_inference region_to_gene \\\n",
    "    --multiome_mudata_fname outs/ACC_GEX.rename.250327.h5mu \\\n",
    "    --search_space_fname outs/search_space.1000000.250327.tsv \\\n",
    "    --out_region_to_gene_adjacencies outs/region_to_gene_adj.1000000.250327.tsv \\\n",
    "    --importance_scoring_method GBM \\\n",
    "    --correlation_scoring_method SR \\\n",
    "    --n_cpu 16 \\\n",
    "    --temp_dir temp_dir"
   ]
  },
  {
   "cell_type": "code",
   "execution_count": null,
   "id": "67b00fc9-43ff-4465-bcd4-ec67eb3fa260",
   "metadata": {},
   "outputs": [],
   "source": []
  }
 ],
 "metadata": {
  "kernelspec": {
   "display_name": "Python 3 (ipykernel)",
   "language": "python",
   "name": "python3"
  },
  "language_info": {
   "codemirror_mode": {
    "name": "ipython",
    "version": 3
   },
   "file_extension": ".py",
   "mimetype": "text/x-python",
   "name": "python",
   "nbconvert_exporter": "python",
   "pygments_lexer": "ipython3",
   "version": "3.11.8"
  }
 },
 "nbformat": 4,
 "nbformat_minor": 5
}
