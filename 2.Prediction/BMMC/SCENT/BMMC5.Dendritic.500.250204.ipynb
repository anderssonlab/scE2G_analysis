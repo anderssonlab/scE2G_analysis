{
 "cells": [
  {
   "cell_type": "code",
   "execution_count": 1,
   "id": "3a1e63f9-7479-4a30-83ea-381f1ecdbe50",
   "metadata": {},
   "outputs": [
    {
     "name": "stderr",
     "output_type": "stream",
     "text": [
      "Warning message:\n",
      "“replacing previous import ‘Hmisc::capitalize’ by ‘R.utils::capitalize’ when loading ‘SCENT’”\n",
      "Loading required package: grid\n",
      "\n",
      "Warning message:\n",
      "“replacing previous import ‘Biostrings::pattern’ by ‘grid::pattern’ when loading ‘genomation’”\n",
      "Loading required package: stats4\n",
      "\n",
      "Loading required package: BiocGenerics\n",
      "\n",
      "\n",
      "Attaching package: ‘BiocGenerics’\n",
      "\n",
      "\n",
      "The following objects are masked from ‘package:stats’:\n",
      "\n",
      "    IQR, mad, sd, var, xtabs\n",
      "\n",
      "\n",
      "The following objects are masked from ‘package:base’:\n",
      "\n",
      "    anyDuplicated, aperm, append, as.data.frame, basename, cbind,\n",
      "    colnames, dirname, do.call, duplicated, eval, evalq, Filter, Find,\n",
      "    get, grep, grepl, intersect, is.unsorted, lapply, Map, mapply,\n",
      "    match, mget, order, paste, pmax, pmax.int, pmin, pmin.int,\n",
      "    Position, rank, rbind, Reduce, rownames, sapply, setdiff, sort,\n",
      "    table, tapply, union, unique, unsplit, which.max, which.min\n",
      "\n",
      "\n",
      "Loading required package: S4Vectors\n",
      "\n",
      "\n",
      "Attaching package: ‘S4Vectors’\n",
      "\n",
      "\n",
      "The following object is masked from ‘package:utils’:\n",
      "\n",
      "    findMatches\n",
      "\n",
      "\n",
      "The following objects are masked from ‘package:base’:\n",
      "\n",
      "    expand.grid, I, unname\n",
      "\n",
      "\n",
      "Loading required package: IRanges\n",
      "\n",
      "Loading required package: GenomeInfoDb\n",
      "\n",
      "\n",
      "Attaching package: ‘Matrix’\n",
      "\n",
      "\n",
      "The following object is masked from ‘package:S4Vectors’:\n",
      "\n",
      "    expand\n",
      "\n",
      "\n",
      "\n",
      "Attaching package: ‘data.table’\n",
      "\n",
      "\n",
      "The following object is masked from ‘package:GenomicRanges’:\n",
      "\n",
      "    shift\n",
      "\n",
      "\n",
      "The following object is masked from ‘package:IRanges’:\n",
      "\n",
      "    shift\n",
      "\n",
      "\n",
      "The following objects are masked from ‘package:S4Vectors’:\n",
      "\n",
      "    first, second\n",
      "\n",
      "\n",
      "\n",
      "Attaching package: ‘dplyr’\n",
      "\n",
      "\n",
      "The following objects are masked from ‘package:data.table’:\n",
      "\n",
      "    between, first, last\n",
      "\n",
      "\n",
      "The following objects are masked from ‘package:GenomicRanges’:\n",
      "\n",
      "    intersect, setdiff, union\n",
      "\n",
      "\n",
      "The following object is masked from ‘package:GenomeInfoDb’:\n",
      "\n",
      "    intersect\n",
      "\n",
      "\n",
      "The following objects are masked from ‘package:IRanges’:\n",
      "\n",
      "    collapse, desc, intersect, setdiff, slice, union\n",
      "\n",
      "\n",
      "The following objects are masked from ‘package:S4Vectors’:\n",
      "\n",
      "    first, intersect, rename, setdiff, setequal, union\n",
      "\n",
      "\n",
      "The following objects are masked from ‘package:BiocGenerics’:\n",
      "\n",
      "    combine, intersect, setdiff, union\n",
      "\n",
      "\n",
      "The following objects are masked from ‘package:stats’:\n",
      "\n",
      "    filter, lag\n",
      "\n",
      "\n",
      "The following objects are masked from ‘package:base’:\n",
      "\n",
      "    intersect, setdiff, setequal, union\n",
      "\n",
      "\n"
     ]
    }
   ],
   "source": [
    "library(SCENT)\n",
    "library(Signac)\n",
    "library(genomation)\n",
    "library(GenomicRanges)\n",
    "library(Matrix)\n",
    "library(parallel)\n",
    "library(data.table)\n",
    "library(dplyr)"
   ]
  },
  {
   "cell_type": "markdown",
   "id": "d53f3774-52c3-4baa-b707-5b3a0450b130",
   "metadata": {},
   "source": [
    "Specify file path"
   ]
  },
  {
   "cell_type": "code",
   "execution_count": 2,
   "id": "0785f3fc-9913-428a-bea7-5710120c9328",
   "metadata": {},
   "outputs": [],
   "source": [
    "gene_gtf_path = \"/maps/projects/ralab/data/genome/hg38/gencode.v43.chr_patch_hapl_scaff.annotation.gtf\"\n",
    "abc_genes_path = \"/maps/projects/ralab_nnfc-AUDIT/people/lpm537/software/scE2G_pipeline/241203/scE2G/ENCODE_rE2G/ABC/reference/hg38/CollapsedGeneBounds.hg38.TSS500bp.bed\"\n",
    "path.pairs.E2G = \"/maps/projects/ralab_nnfc-AUDIT/people/lpm537/software/scE2G_pipeline/240508/sc-E2G/test/results_BMMC5/Dendritic/Kendall/Pairs.tsv.gz\"\n",
    "path.pairs.ABC = \"/maps/projects/ralab_nnfc-AUDIT/people/lpm537/software/scE2G_pipeline/240508/sc-E2G/test/results_BMMC5/Dendritic/Predictions/EnhancerPredictionsAllPutative.tsv.gz\"\n",
    "path.matrix.atac_count = \"/maps/projects/ralab_nnfc-AUDIT/people/lpm537/software/scE2G_pipeline/240508/sc-E2G/test/results_BMMC5/Dendritic/Kendall/atac_matrix.rds\"\n",
    "path.matrix.rna_count = \"/maps/projects/ralab_nnfc-AUDIT/people/lpm537/project/E2G/analysis/E2G_240503/data/BMMC/1.prepare_data/3.merge_cell_type.240522/RNA_count_matrix/Dendritic.rna_count_matrix.csv.gz\"\n",
    "dir.output = \"/maps/projects/ralab_nnfc-AUDIT/people/lpm537/project/E2G/analysis/E2G_240503/data/BMMC/2.Genome_wide_prediction/SCENT/BMMC5.Dendritic.500.250204/\""
   ]
  },
  {
   "cell_type": "code",
   "execution_count": 3,
   "id": "500ba317-011f-4cab-834c-de750cb7f503",
   "metadata": {},
   "outputs": [],
   "source": [
    "n.cores = 4"
   ]
  },
  {
   "cell_type": "markdown",
   "id": "9c9cdab1-486b-4539-99d3-3cd5d1d99795",
   "metadata": {},
   "source": [
    "Import candidate E-G pairs"
   ]
  },
  {
   "cell_type": "code",
   "execution_count": 4,
   "id": "f5852d15-7e3f-412b-b137-7d29a6fb47b1",
   "metadata": {},
   "outputs": [],
   "source": [
    "pairs.E2G = readGeneric(path.pairs.E2G,\n",
    "                        header = T,\n",
    "                        keep.all.metadata = T)"
   ]
  },
  {
   "cell_type": "markdown",
   "id": "4b3c69d6-986b-4e10-9597-01c66d230c5c",
   "metadata": {},
   "source": [
    "Import ABC results"
   ]
  },
  {
   "cell_type": "code",
   "execution_count": 5,
   "id": "1fdcc2db-187f-45ee-89b4-288e8be29ee9",
   "metadata": {},
   "outputs": [],
   "source": [
    "pairs.ABC = readGeneric(path.pairs.ABC,\n",
    "                        header = T,\n",
    "                        keep.all.metadata = T)"
   ]
  },
  {
   "cell_type": "markdown",
   "id": "10424833-4e11-4191-a970-940bcc814764",
   "metadata": {},
   "source": [
    "Filter ABC results which distance < 1M"
   ]
  },
  {
   "cell_type": "code",
   "execution_count": 6,
   "id": "f08d2dec-83da-425a-aa70-aacb2d1c01a9",
   "metadata": {},
   "outputs": [],
   "source": [
    "pairs.ABC.1M = pairs.ABC[pairs.ABC$distance < 10^6]"
   ]
  },
  {
   "cell_type": "markdown",
   "id": "1ab4f035-0f58-4f32-9770-6765575f08a4",
   "metadata": {},
   "source": [
    "Filter E-G pairs overlaping with pairs.ABC.1M"
   ]
  },
  {
   "cell_type": "code",
   "execution_count": 7,
   "id": "46f640bb-a049-4bae-8362-485ec0d30858",
   "metadata": {},
   "outputs": [
    {
     "data": {
      "text/plain": [
       "GRanges object with 2894315 ranges and 3 metadata columns:\n",
       "            seqnames              ranges strand |  TargetGene\n",
       "               <Rle>           <IRanges>  <Rle> | <character>\n",
       "        [1]     chr1 100015450-100016026      * |         AGL\n",
       "        [2]     chr1 100015450-100016026      * |      CDC14A\n",
       "        [3]     chr1 100015450-100016026      * |         DBT\n",
       "        [4]     chr1 100015450-100016026      * |       EXTL2\n",
       "        [5]     chr1 100015450-100016026      * |     MFSD14A\n",
       "        ...      ...                 ...    ... .         ...\n",
       "  [2894311]     chrX     9995660-9996208      * |       TBL1X\n",
       "  [2894312]     chrX     9995660-9996208      * |        WWC3\n",
       "  [2894313]     chrX     9997579-9998101      * |       CLCN4\n",
       "  [2894314]     chrX     9997579-9998101      * |       TBL1X\n",
       "  [2894315]     chrX     9997579-9998101      * |        WWC3\n",
       "                          PeakName               PairName\n",
       "                       <character>            <character>\n",
       "        [1] chr1-100015450-10001.. chr1-100015450-10001..\n",
       "        [2] chr1-100015450-10001.. chr1-100015450-10001..\n",
       "        [3] chr1-100015450-10001.. chr1-100015450-10001..\n",
       "        [4] chr1-100015450-10001.. chr1-100015450-10001..\n",
       "        [5] chr1-100015450-10001.. chr1-100015450-10001..\n",
       "        ...                    ...                    ...\n",
       "  [2894311]   chrX-9995660-9996208 chrX-9995660-9996208..\n",
       "  [2894312]   chrX-9995660-9996208 chrX-9995660-9996208..\n",
       "  [2894313]   chrX-9997579-9998101 chrX-9997579-9998101..\n",
       "  [2894314]   chrX-9997579-9998101 chrX-9997579-9998101..\n",
       "  [2894315]   chrX-9997579-9998101 chrX-9997579-9998101..\n",
       "  -------\n",
       "  seqinfo: 23 sequences from an unspecified genome; no seqlengths"
      ]
     },
     "metadata": {},
     "output_type": "display_data"
    }
   ],
   "source": [
    "df.pairs.E2G.chr_rename = as.data.frame(pairs.E2G)[,1:3]\n",
    "df.pairs.E2G.chr_rename[,\"seqnames\"] = paste(seqnames(pairs.E2G),\n",
    "                                             mcols(pairs.E2G)[,\"TargetGene\"],\n",
    "                                             sep = \"_\")\n",
    "pairs.E2G.chr_rename = GRanges(df.pairs.E2G.chr_rename)\n",
    "rm(df.pairs.E2G.chr_rename)\n",
    "\n",
    "df.pairs.ABC.1M.chr_rename = as.data.frame(pairs.ABC.1M)[,1:3]\n",
    "df.pairs.ABC.1M.chr_rename[,\"seqnames\"] = paste(seqnames(pairs.ABC.1M),\n",
    "                                                mcols(pairs.ABC.1M)[,\"TargetGene\"],\n",
    "                                                sep = \"_\")\n",
    "pairs.ABC.1M.chr_rename = GRanges(df.pairs.ABC.1M.chr_rename)\n",
    "rm(df.pairs.ABC.1M.chr_rename)\n",
    "\n",
    "pairs.E2G.filter = pairs.E2G[countOverlaps(pairs.E2G.chr_rename,\n",
    "                                           pairs.ABC.1M.chr_rename) > 0]\n",
    "rm(pairs.E2G.chr_rename)\n",
    "rm(pairs.ABC.1M.chr_rename)\n",
    "pairs.E2G.filter"
   ]
  },
  {
   "cell_type": "markdown",
   "id": "bcdfac67-ce32-4d9a-8f4d-65dab644ec63",
   "metadata": {},
   "source": [
    "Import ATAC matrix"
   ]
  },
  {
   "cell_type": "code",
   "execution_count": 8,
   "id": "bd59feb4-3e33-4ebe-a107-f3b6d347a68e",
   "metadata": {},
   "outputs": [],
   "source": [
    "matrix.atac = readRDS(path.matrix.atac_count)\n",
    "matrix.atac = BinarizeCounts(matrix.atac)"
   ]
  },
  {
   "cell_type": "markdown",
   "id": "a0c5cb96-2fc4-42c4-a421-fe9a5ca537da",
   "metadata": {},
   "source": [
    "Import RNA matrix"
   ]
  },
  {
   "cell_type": "code",
   "execution_count": 9,
   "id": "96e10e90-9400-4cfe-bc7b-46a7eaee1fcd",
   "metadata": {},
   "outputs": [],
   "source": [
    "matrix.rna = read.csv(path.matrix.rna_count,\n",
    "                      row.names = 1,\n",
    "                      check.names = F)\n",
    "matrix.rna = Matrix(as.matrix(matrix.rna), sparse = TRUE)\n",
    "matrix.rna = matrix.rna[,colnames(matrix.atac)]\n",
    "matrix.rna = matrix.rna[rowSums(matrix.rna) > 0,]"
   ]
  },
  {
   "cell_type": "markdown",
   "id": "62718ef8-a3bd-4755-a95f-be216f16517b",
   "metadata": {},
   "source": [
    "Map gene names"
   ]
  },
  {
   "cell_type": "code",
   "execution_count": 10,
   "id": "0f255a65-03a4-4255-967e-0c644bfe66cd",
   "metadata": {},
   "outputs": [],
   "source": [
    "extract_attributes <- function(gtf_attributes, att_of_interest){\n",
    "  att <- unlist(strsplit(gtf_attributes, \" \"))\n",
    "  if(att_of_interest %in% att){\n",
    "    return(gsub(\"\\\"|;\",\"\", att[which(att %in% att_of_interest)+1]))\n",
    "  } else {\n",
    "    return(NA)}\n",
    "}\n",
    "map_gene_names <- function(rna_matrix, gene_gtf_path, abc_genes_path){\n",
    "\tgene_ref <- fread(gene_gtf_path, header = FALSE, sep = \"\\t\") %>%\n",
    "\t\tsetNames(c(\"chr\",\"source\",\"type\",\"start\",\"end\",\"score\",\"strand\",\"phase\",\"attributes\")) %>%\n",
    "\t\tdplyr::filter(type == \"gene\")\n",
    "\tgene_ref$gene_ref_name <- unlist(lapply(gene_ref$attributes, extract_attributes, \"gene_name\"))\n",
    "\tgene_ref$Ensembl_ID <- unlist(lapply(gene_ref$attributes, extract_attributes, \"gene_id\"))\n",
    "\tgene_ref <- dplyr::select(gene_ref, gene_ref_name, Ensembl_ID) %>%\n",
    "\t\tmutate(Ensembl_ID = sub(\"\\\\.\\\\d+$\", \"\", Ensembl_ID)) %>% # remove decimal digits \n",
    "\t\tdistinct()\n",
    "\t\n",
    "\tabc_genes <- fread(abc_genes_path, col.names = c(\"chr\", \"start\", \"end\", \"name\", \"score\", \"strand\", \"Ensembl_ID\", \"gene_type\")) %>%\n",
    "\t\tdplyr::select(name, Ensembl_ID) %>%\n",
    "\t\trename(abc_name = name) %>%\n",
    "\t\tleft_join(gene_ref, by = \"Ensembl_ID\") %>%\n",
    "\t\tgroup_by(Ensembl_ID) %>% # remove cases where multiple genes map to one ensembl ID\n",
    "\t\tfilter(n() == 1) %>%\n",
    "\t\tungroup()\n",
    "\n",
    "\tgene_key <- abc_genes$abc_name\n",
    "\tnames(gene_key) <- abc_genes$gene_ref_name\n",
    "\n",
    "\t# remove genes not in our gene universe\t\n",
    "\trow_sub <- intersect(rownames(rna_matrix), names(gene_key)) # gene ref names\n",
    "\trna_matrix_filt <- rna_matrix[row_sub,] # still gene ref names\n",
    "\trownames(rna_matrix_filt) <- gene_key[row_sub] # converted to abc names\n",
    "\n",
    "\treturn(rna_matrix_filt)\n",
    "}"
   ]
  },
  {
   "cell_type": "code",
   "execution_count": 11,
   "id": "ca760678-9db9-418e-b7ac-29984eddad7e",
   "metadata": {},
   "outputs": [],
   "source": [
    "matrix.rna.rename = map_gene_names(matrix.rna,gene_gtf_path, abc_genes_path)"
   ]
  },
  {
   "cell_type": "code",
   "execution_count": 12,
   "id": "0c8225d7-5216-4cc1-827e-bbb22c53f9fc",
   "metadata": {},
   "outputs": [],
   "source": [
    "pairs.E2G.filter2 = pairs.E2G.filter[pairs.E2G.filter$TargetGene %in% rownames(matrix.rna.rename) &\n",
    "                                     pairs.E2G.filter$PeakName %in% rownames(matrix.atac)]"
   ]
  },
  {
   "cell_type": "markdown",
   "id": "b16f7d5b-eabd-4e93-b8cd-f19a54df21f2",
   "metadata": {},
   "source": [
    "Prepare SCENT meta data"
   ]
  },
  {
   "cell_type": "code",
   "execution_count": 13,
   "id": "827059dd-6885-441e-973e-d7c49e5fd534",
   "metadata": {},
   "outputs": [
    {
     "data": {
      "text/html": [
       "<table class=\"dataframe\">\n",
       "<caption>A data.frame: 2050 × 6</caption>\n",
       "<thead>\n",
       "\t<tr><th></th><th scope=col>cell</th><th scope=col>nUMI</th><th scope=col>nMito</th><th scope=col>celltype</th><th scope=col>log.nUMI</th><th scope=col>percent.mito</th></tr>\n",
       "\t<tr><th></th><th scope=col>&lt;chr&gt;</th><th scope=col>&lt;dbl&gt;</th><th scope=col>&lt;dbl&gt;</th><th scope=col>&lt;chr&gt;</th><th scope=col>&lt;dbl&gt;</th><th scope=col>&lt;dbl&gt;</th></tr>\n",
       "</thead>\n",
       "<tbody>\n",
       "\t<tr><th scope=row>s1d1_CGGGCTTAGTTGGGCC-1</th><td>s1d1_CGGGCTTAGTTGGGCC-1</td><td> 4108</td><td> 69</td><td>K562</td><td>8.320692</td><td>0.016796495</td></tr>\n",
       "\t<tr><th scope=row>s1d1_GCGCCTTGTGCATTAG-1</th><td>s1d1_GCGCCTTGTGCATTAG-1</td><td> 4749</td><td> 99</td><td>K562</td><td>8.465689</td><td>0.020846494</td></tr>\n",
       "\t<tr><th scope=row>s1d1_AACCGGCTCAACCAAC-1</th><td>s1d1_AACCGGCTCAACCAAC-1</td><td> 3337</td><td> 42</td><td>K562</td><td>8.112827</td><td>0.012586155</td></tr>\n",
       "\t<tr><th scope=row>s1d1_GCTCTGTTCTTGTCTG-1</th><td>s1d1_GCTCTGTTCTTGTCTG-1</td><td> 3464</td><td>367</td><td>K562</td><td>8.150179</td><td>0.105946882</td></tr>\n",
       "\t<tr><th scope=row>s1d1_GCGCTTGCAACAGCCT-1</th><td>s1d1_GCGCTTGCAACAGCCT-1</td><td> 7028</td><td>249</td><td>K562</td><td>8.857657</td><td>0.035429710</td></tr>\n",
       "\t<tr><th scope=row>s1d1_CCTAAAGGTTTACCGT-1</th><td>s1d1_CCTAAAGGTTTACCGT-1</td><td> 3765</td><td> 68</td><td>K562</td><td>8.233503</td><td>0.018061089</td></tr>\n",
       "\t<tr><th scope=row>s1d1_CAGGCTGGTCTAACAG-1</th><td>s1d1_CAGGCTGGTCTAACAG-1</td><td> 3205</td><td> 57</td><td>K562</td><td>8.072467</td><td>0.017784711</td></tr>\n",
       "\t<tr><th scope=row>s1d1_CGCTCCATCGCCTGTT-1</th><td>s1d1_CGCTCCATCGCCTGTT-1</td><td>10145</td><td>243</td><td>K562</td><td>9.224736</td><td>0.023952686</td></tr>\n",
       "\t<tr><th scope=row>s1d1_CGATTTGCACTGGCTG-1</th><td>s1d1_CGATTTGCACTGGCTG-1</td><td> 3281</td><td> 38</td><td>K562</td><td>8.095904</td><td>0.011581835</td></tr>\n",
       "\t<tr><th scope=row>s1d1_ATTCACTTCGACAAAG-1</th><td>s1d1_ATTCACTTCGACAAAG-1</td><td> 4339</td><td> 75</td><td>K562</td><td>8.375399</td><td>0.017285089</td></tr>\n",
       "\t<tr><th scope=row>s1d1_ACCTGGTCAAATTCGT-1</th><td>s1d1_ACCTGGTCAAATTCGT-1</td><td> 6141</td><td>102</td><td>K562</td><td>8.722743</td><td>0.016609673</td></tr>\n",
       "\t<tr><th scope=row>s1d1_CTGCTCCCATCCATCT-1</th><td>s1d1_CTGCTCCCATCCATCT-1</td><td> 8352</td><td> 88</td><td>K562</td><td>9.030256</td><td>0.010536398</td></tr>\n",
       "\t<tr><th scope=row>s1d1_AACCGCTCATGTCAAT-1</th><td>s1d1_AACCGCTCATGTCAAT-1</td><td> 4097</td><td> 65</td><td>K562</td><td>8.318010</td><td>0.015865267</td></tr>\n",
       "\t<tr><th scope=row>s1d1_GTACAATGTCGTAATG-1</th><td>s1d1_GTACAATGTCGTAATG-1</td><td> 4703</td><td> 89</td><td>K562</td><td>8.455956</td><td>0.018924091</td></tr>\n",
       "\t<tr><th scope=row>s1d1_AGCGGATAGGCGAATA-1</th><td>s1d1_AGCGGATAGGCGAATA-1</td><td> 4036</td><td>168</td><td>K562</td><td>8.303009</td><td>0.041625372</td></tr>\n",
       "\t<tr><th scope=row>s1d1_GGTCAGGAGAAGGTGC-1</th><td>s1d1_GGTCAGGAGAAGGTGC-1</td><td> 2959</td><td>105</td><td>K562</td><td>7.992607</td><td>0.035484961</td></tr>\n",
       "\t<tr><th scope=row>s1d1_TGGCTATAGAAGCTAG-1</th><td>s1d1_TGGCTATAGAAGCTAG-1</td><td> 4628</td><td> 86</td><td>K562</td><td>8.439880</td><td>0.018582541</td></tr>\n",
       "\t<tr><th scope=row>s1d1_GCTTAAATCCGCCAAA-1</th><td>s1d1_GCTTAAATCCGCCAAA-1</td><td> 7160</td><td>284</td><td>K562</td><td>8.876265</td><td>0.039664804</td></tr>\n",
       "\t<tr><th scope=row>s1d1_GTGCTCAAGAATGACG-1</th><td>s1d1_GTGCTCAAGAATGACG-1</td><td> 3757</td><td> 21</td><td>K562</td><td>8.231376</td><td>0.005589566</td></tr>\n",
       "\t<tr><th scope=row>s1d1_TAGTGAGAGCGCATTG-1</th><td>s1d1_TAGTGAGAGCGCATTG-1</td><td> 5796</td><td>185</td><td>K562</td><td>8.664923</td><td>0.031918565</td></tr>\n",
       "\t<tr><th scope=row>s1d1_GAGGAGGCATGGCCTG-1</th><td>s1d1_GAGGAGGCATGGCCTG-1</td><td> 8988</td><td>103</td><td>K562</td><td>9.103646</td><td>0.011459724</td></tr>\n",
       "\t<tr><th scope=row>s1d1_ACTTACTTCCTCCTAA-1</th><td>s1d1_ACTTACTTCCTCCTAA-1</td><td> 7657</td><td>130</td><td>K562</td><td>8.943376</td><td>0.016977929</td></tr>\n",
       "\t<tr><th scope=row>s1d1_GATTACGGTCCCGAAG-1</th><td>s1d1_GATTACGGTCCCGAAG-1</td><td> 4452</td><td> 81</td><td>K562</td><td>8.401109</td><td>0.018194070</td></tr>\n",
       "\t<tr><th scope=row>s1d1_CTTCACTCAAGCTTAT-1</th><td>s1d1_CTTCACTCAAGCTTAT-1</td><td>14509</td><td>574</td><td>K562</td><td>9.582524</td><td>0.039561651</td></tr>\n",
       "\t<tr><th scope=row>s1d1_GGTGAGTAGGTCCGTA-1</th><td>s1d1_GGTGAGTAGGTCCGTA-1</td><td> 3108</td><td> 55</td><td>K562</td><td>8.041735</td><td>0.017696268</td></tr>\n",
       "\t<tr><th scope=row>s1d1_TACGTTAAGACAACAG-1</th><td>s1d1_TACGTTAAGACAACAG-1</td><td> 4384</td><td> 76</td><td>K562</td><td>8.385717</td><td>0.017335766</td></tr>\n",
       "\t<tr><th scope=row>s1d1_GCATCCTTCGCTCACT-1</th><td>s1d1_GCATCCTTCGCTCACT-1</td><td>11279</td><td>301</td><td>K562</td><td>9.330698</td><td>0.026686763</td></tr>\n",
       "\t<tr><th scope=row>s1d1_CGTCAATAGTTCCCGT-1</th><td>s1d1_CGTCAATAGTTCCCGT-1</td><td> 4903</td><td>157</td><td>K562</td><td>8.497603</td><td>0.032021212</td></tr>\n",
       "\t<tr><th scope=row>s1d1_GATGCTTAGGATAAAC-1</th><td>s1d1_GATGCTTAGGATAAAC-1</td><td> 7071</td><td>261</td><td>K562</td><td>8.863757</td><td>0.036911328</td></tr>\n",
       "\t<tr><th scope=row>s1d1_TGTGGCGGTCGTAATG-1</th><td>s1d1_TGTGGCGGTCGTAATG-1</td><td> 3209</td><td> 81</td><td>K562</td><td>8.073715</td><td>0.025241508</td></tr>\n",
       "\t<tr><th scope=row>⋮</th><td>⋮</td><td>⋮</td><td>⋮</td><td>⋮</td><td>⋮</td><td>⋮</td></tr>\n",
       "\t<tr><th scope=row>s4d9_GTGATGAAGGTCCGTA-1</th><td>s4d9_GTGATGAAGGTCCGTA-1</td><td>2284</td><td>272</td><td>K562</td><td>7.733684</td><td>0.11908932</td></tr>\n",
       "\t<tr><th scope=row>s4d9_GATCAAGAGCGCCTTT-1</th><td>s4d9_GATCAAGAGCGCCTTT-1</td><td>2346</td><td>440</td><td>K562</td><td>7.760467</td><td>0.18755328</td></tr>\n",
       "\t<tr><th scope=row>s4d9_GTACGTAGTGTGCAAC-1</th><td>s4d9_GTACGTAGTGTGCAAC-1</td><td>1658</td><td>171</td><td>K562</td><td>7.413367</td><td>0.10313631</td></tr>\n",
       "\t<tr><th scope=row>s4d9_TTGGGTTAGGCTGTGC-1</th><td>s4d9_TTGGGTTAGGCTGTGC-1</td><td>3334</td><td>317</td><td>K562</td><td>8.111928</td><td>0.09508098</td></tr>\n",
       "\t<tr><th scope=row>s4d9_TAAACAGCAAAGCGGC-1</th><td>s4d9_TAAACAGCAAAGCGGC-1</td><td>1383</td><td>116</td><td>K562</td><td>7.232010</td><td>0.08387563</td></tr>\n",
       "\t<tr><th scope=row>s4d9_GATTTGCAGTAGAGGC-1</th><td>s4d9_GATTTGCAGTAGAGGC-1</td><td>1169</td><td>109</td><td>K562</td><td>7.063904</td><td>0.09324209</td></tr>\n",
       "\t<tr><th scope=row>s4d9_TAGGAGGGTCCTAATC-1</th><td>s4d9_TAGGAGGGTCCTAATC-1</td><td>1298</td><td>162</td><td>K562</td><td>7.168580</td><td>0.12480740</td></tr>\n",
       "\t<tr><th scope=row>s4d9_TCTCGCCCATGTTGTG-1</th><td>s4d9_TCTCGCCCATGTTGTG-1</td><td> 933</td><td>145</td><td>K562</td><td>6.838405</td><td>0.15541265</td></tr>\n",
       "\t<tr><th scope=row>s4d9_GTTTATCTCTGTGCCT-1</th><td>s4d9_GTTTATCTCTGTGCCT-1</td><td>2083</td><td>188</td><td>K562</td><td>7.641564</td><td>0.09025444</td></tr>\n",
       "\t<tr><th scope=row>s4d9_GTTGGCGGTGTTTGAG-1</th><td>s4d9_GTTGGCGGTGTTTGAG-1</td><td>2055</td><td>140</td><td>K562</td><td>7.628031</td><td>0.06812652</td></tr>\n",
       "\t<tr><th scope=row>s4d9_ACATCATCAACTGGCT-1</th><td>s4d9_ACATCATCAACTGGCT-1</td><td>3003</td><td>351</td><td>K562</td><td>8.007367</td><td>0.11688312</td></tr>\n",
       "\t<tr><th scope=row>s4d9_AGAACCAAGGTATTGC-1</th><td>s4d9_AGAACCAAGGTATTGC-1</td><td>3663</td><td>419</td><td>K562</td><td>8.206038</td><td>0.11438711</td></tr>\n",
       "\t<tr><th scope=row>s4d9_TGTGTTAAGCTCCTTA-1</th><td>s4d9_TGTGTTAAGCTCCTTA-1</td><td>3313</td><td> 68</td><td>K562</td><td>8.105609</td><td>0.02052520</td></tr>\n",
       "\t<tr><th scope=row>s4d9_GATCGAGCAGGAATCG-1</th><td>s4d9_GATCGAGCAGGAATCG-1</td><td> 589</td><td> 39</td><td>K562</td><td>6.378426</td><td>0.06621392</td></tr>\n",
       "\t<tr><th scope=row>s4d9_ATTGTCCGTAATGGAA-1</th><td>s4d9_ATTGTCCGTAATGGAA-1</td><td>1407</td><td> 97</td><td>K562</td><td>7.249215</td><td>0.06894101</td></tr>\n",
       "\t<tr><th scope=row>s4d9_AGTGCCGGTAATGACT-1</th><td>s4d9_AGTGCCGGTAATGACT-1</td><td>3003</td><td>381</td><td>K562</td><td>8.007367</td><td>0.12687313</td></tr>\n",
       "\t<tr><th scope=row>s4d9_TATAACCCATTAAAGG-1</th><td>s4d9_TATAACCCATTAAAGG-1</td><td>3255</td><td>322</td><td>K562</td><td>8.087948</td><td>0.09892473</td></tr>\n",
       "\t<tr><th scope=row>s4d9_CGTGCTTTCCTTTACG-1</th><td>s4d9_CGTGCTTTCCTTTACG-1</td><td>2620</td><td>196</td><td>K562</td><td>7.870930</td><td>0.07480916</td></tr>\n",
       "\t<tr><th scope=row>s4d9_ACAGGATCATTGTTGG-1</th><td>s4d9_ACAGGATCATTGTTGG-1</td><td>1967</td><td>210</td><td>K562</td><td>7.584265</td><td>0.10676157</td></tr>\n",
       "\t<tr><th scope=row>s4d9_GTCAATATCTAACTGA-1</th><td>s4d9_GTCAATATCTAACTGA-1</td><td>5153</td><td>587</td><td>K562</td><td>8.547334</td><td>0.11391422</td></tr>\n",
       "\t<tr><th scope=row>s4d9_GTAAGCAAGGACGTAA-1</th><td>s4d9_GTAAGCAAGGACGTAA-1</td><td>2138</td><td>154</td><td>K562</td><td>7.667626</td><td>0.07202993</td></tr>\n",
       "\t<tr><th scope=row>s4d9_CCCGCTTCACAACAAA-1</th><td>s4d9_CCCGCTTCACAACAAA-1</td><td>3031</td><td>167</td><td>K562</td><td>8.016648</td><td>0.05509733</td></tr>\n",
       "\t<tr><th scope=row>s4d9_AAACCGAAGGACCTTG-1</th><td>s4d9_AAACCGAAGGACCTTG-1</td><td>4558</td><td>769</td><td>K562</td><td>8.424639</td><td>0.16871435</td></tr>\n",
       "\t<tr><th scope=row>s4d9_ACCTCACTCTAAGTCA-1</th><td>s4d9_ACCTCACTCTAAGTCA-1</td><td>2718</td><td>379</td><td>K562</td><td>7.907652</td><td>0.13944077</td></tr>\n",
       "\t<tr><th scope=row>s4d9_GAAGCTAAGGCAACAA-1</th><td>s4d9_GAAGCTAAGGCAACAA-1</td><td>3665</td><td>256</td><td>K562</td><td>8.206584</td><td>0.06984993</td></tr>\n",
       "\t<tr><th scope=row>s4d9_CACTGACCAAATACCT-1</th><td>s4d9_CACTGACCAAATACCT-1</td><td>3396</td><td>168</td><td>K562</td><td>8.130354</td><td>0.04946996</td></tr>\n",
       "\t<tr><th scope=row>s4d9_CCTGTATGTGCAATGC-1</th><td>s4d9_CCTGTATGTGCAATGC-1</td><td>1999</td><td>182</td><td>K562</td><td>7.600402</td><td>0.09104552</td></tr>\n",
       "\t<tr><th scope=row>s4d9_GTGTGTTAGAAAGCAT-1</th><td>s4d9_GTGTGTTAGAAAGCAT-1</td><td> 844</td><td> 41</td><td>K562</td><td>6.738152</td><td>0.04857820</td></tr>\n",
       "\t<tr><th scope=row>s4d9_GGCTATTAGCTTACTT-1</th><td>s4d9_GGCTATTAGCTTACTT-1</td><td>2912</td><td>356</td><td>K562</td><td>7.976595</td><td>0.12225275</td></tr>\n",
       "\t<tr><th scope=row>s4d9_ACACTTGCAACTAGAA-1</th><td>s4d9_ACACTTGCAACTAGAA-1</td><td>1449</td><td> 94</td><td>K562</td><td>7.278629</td><td>0.06487233</td></tr>\n",
       "</tbody>\n",
       "</table>\n"
      ],
      "text/latex": [
       "A data.frame: 2050 × 6\n",
       "\\begin{tabular}{r|llllll}\n",
       "  & cell & nUMI & nMito & celltype & log.nUMI & percent.mito\\\\\n",
       "  & <chr> & <dbl> & <dbl> & <chr> & <dbl> & <dbl>\\\\\n",
       "\\hline\n",
       "\ts1d1\\_CGGGCTTAGTTGGGCC-1 & s1d1\\_CGGGCTTAGTTGGGCC-1 &  4108 &  69 & K562 & 8.320692 & 0.016796495\\\\\n",
       "\ts1d1\\_GCGCCTTGTGCATTAG-1 & s1d1\\_GCGCCTTGTGCATTAG-1 &  4749 &  99 & K562 & 8.465689 & 0.020846494\\\\\n",
       "\ts1d1\\_AACCGGCTCAACCAAC-1 & s1d1\\_AACCGGCTCAACCAAC-1 &  3337 &  42 & K562 & 8.112827 & 0.012586155\\\\\n",
       "\ts1d1\\_GCTCTGTTCTTGTCTG-1 & s1d1\\_GCTCTGTTCTTGTCTG-1 &  3464 & 367 & K562 & 8.150179 & 0.105946882\\\\\n",
       "\ts1d1\\_GCGCTTGCAACAGCCT-1 & s1d1\\_GCGCTTGCAACAGCCT-1 &  7028 & 249 & K562 & 8.857657 & 0.035429710\\\\\n",
       "\ts1d1\\_CCTAAAGGTTTACCGT-1 & s1d1\\_CCTAAAGGTTTACCGT-1 &  3765 &  68 & K562 & 8.233503 & 0.018061089\\\\\n",
       "\ts1d1\\_CAGGCTGGTCTAACAG-1 & s1d1\\_CAGGCTGGTCTAACAG-1 &  3205 &  57 & K562 & 8.072467 & 0.017784711\\\\\n",
       "\ts1d1\\_CGCTCCATCGCCTGTT-1 & s1d1\\_CGCTCCATCGCCTGTT-1 & 10145 & 243 & K562 & 9.224736 & 0.023952686\\\\\n",
       "\ts1d1\\_CGATTTGCACTGGCTG-1 & s1d1\\_CGATTTGCACTGGCTG-1 &  3281 &  38 & K562 & 8.095904 & 0.011581835\\\\\n",
       "\ts1d1\\_ATTCACTTCGACAAAG-1 & s1d1\\_ATTCACTTCGACAAAG-1 &  4339 &  75 & K562 & 8.375399 & 0.017285089\\\\\n",
       "\ts1d1\\_ACCTGGTCAAATTCGT-1 & s1d1\\_ACCTGGTCAAATTCGT-1 &  6141 & 102 & K562 & 8.722743 & 0.016609673\\\\\n",
       "\ts1d1\\_CTGCTCCCATCCATCT-1 & s1d1\\_CTGCTCCCATCCATCT-1 &  8352 &  88 & K562 & 9.030256 & 0.010536398\\\\\n",
       "\ts1d1\\_AACCGCTCATGTCAAT-1 & s1d1\\_AACCGCTCATGTCAAT-1 &  4097 &  65 & K562 & 8.318010 & 0.015865267\\\\\n",
       "\ts1d1\\_GTACAATGTCGTAATG-1 & s1d1\\_GTACAATGTCGTAATG-1 &  4703 &  89 & K562 & 8.455956 & 0.018924091\\\\\n",
       "\ts1d1\\_AGCGGATAGGCGAATA-1 & s1d1\\_AGCGGATAGGCGAATA-1 &  4036 & 168 & K562 & 8.303009 & 0.041625372\\\\\n",
       "\ts1d1\\_GGTCAGGAGAAGGTGC-1 & s1d1\\_GGTCAGGAGAAGGTGC-1 &  2959 & 105 & K562 & 7.992607 & 0.035484961\\\\\n",
       "\ts1d1\\_TGGCTATAGAAGCTAG-1 & s1d1\\_TGGCTATAGAAGCTAG-1 &  4628 &  86 & K562 & 8.439880 & 0.018582541\\\\\n",
       "\ts1d1\\_GCTTAAATCCGCCAAA-1 & s1d1\\_GCTTAAATCCGCCAAA-1 &  7160 & 284 & K562 & 8.876265 & 0.039664804\\\\\n",
       "\ts1d1\\_GTGCTCAAGAATGACG-1 & s1d1\\_GTGCTCAAGAATGACG-1 &  3757 &  21 & K562 & 8.231376 & 0.005589566\\\\\n",
       "\ts1d1\\_TAGTGAGAGCGCATTG-1 & s1d1\\_TAGTGAGAGCGCATTG-1 &  5796 & 185 & K562 & 8.664923 & 0.031918565\\\\\n",
       "\ts1d1\\_GAGGAGGCATGGCCTG-1 & s1d1\\_GAGGAGGCATGGCCTG-1 &  8988 & 103 & K562 & 9.103646 & 0.011459724\\\\\n",
       "\ts1d1\\_ACTTACTTCCTCCTAA-1 & s1d1\\_ACTTACTTCCTCCTAA-1 &  7657 & 130 & K562 & 8.943376 & 0.016977929\\\\\n",
       "\ts1d1\\_GATTACGGTCCCGAAG-1 & s1d1\\_GATTACGGTCCCGAAG-1 &  4452 &  81 & K562 & 8.401109 & 0.018194070\\\\\n",
       "\ts1d1\\_CTTCACTCAAGCTTAT-1 & s1d1\\_CTTCACTCAAGCTTAT-1 & 14509 & 574 & K562 & 9.582524 & 0.039561651\\\\\n",
       "\ts1d1\\_GGTGAGTAGGTCCGTA-1 & s1d1\\_GGTGAGTAGGTCCGTA-1 &  3108 &  55 & K562 & 8.041735 & 0.017696268\\\\\n",
       "\ts1d1\\_TACGTTAAGACAACAG-1 & s1d1\\_TACGTTAAGACAACAG-1 &  4384 &  76 & K562 & 8.385717 & 0.017335766\\\\\n",
       "\ts1d1\\_GCATCCTTCGCTCACT-1 & s1d1\\_GCATCCTTCGCTCACT-1 & 11279 & 301 & K562 & 9.330698 & 0.026686763\\\\\n",
       "\ts1d1\\_CGTCAATAGTTCCCGT-1 & s1d1\\_CGTCAATAGTTCCCGT-1 &  4903 & 157 & K562 & 8.497603 & 0.032021212\\\\\n",
       "\ts1d1\\_GATGCTTAGGATAAAC-1 & s1d1\\_GATGCTTAGGATAAAC-1 &  7071 & 261 & K562 & 8.863757 & 0.036911328\\\\\n",
       "\ts1d1\\_TGTGGCGGTCGTAATG-1 & s1d1\\_TGTGGCGGTCGTAATG-1 &  3209 &  81 & K562 & 8.073715 & 0.025241508\\\\\n",
       "\t⋮ & ⋮ & ⋮ & ⋮ & ⋮ & ⋮ & ⋮\\\\\n",
       "\ts4d9\\_GTGATGAAGGTCCGTA-1 & s4d9\\_GTGATGAAGGTCCGTA-1 & 2284 & 272 & K562 & 7.733684 & 0.11908932\\\\\n",
       "\ts4d9\\_GATCAAGAGCGCCTTT-1 & s4d9\\_GATCAAGAGCGCCTTT-1 & 2346 & 440 & K562 & 7.760467 & 0.18755328\\\\\n",
       "\ts4d9\\_GTACGTAGTGTGCAAC-1 & s4d9\\_GTACGTAGTGTGCAAC-1 & 1658 & 171 & K562 & 7.413367 & 0.10313631\\\\\n",
       "\ts4d9\\_TTGGGTTAGGCTGTGC-1 & s4d9\\_TTGGGTTAGGCTGTGC-1 & 3334 & 317 & K562 & 8.111928 & 0.09508098\\\\\n",
       "\ts4d9\\_TAAACAGCAAAGCGGC-1 & s4d9\\_TAAACAGCAAAGCGGC-1 & 1383 & 116 & K562 & 7.232010 & 0.08387563\\\\\n",
       "\ts4d9\\_GATTTGCAGTAGAGGC-1 & s4d9\\_GATTTGCAGTAGAGGC-1 & 1169 & 109 & K562 & 7.063904 & 0.09324209\\\\\n",
       "\ts4d9\\_TAGGAGGGTCCTAATC-1 & s4d9\\_TAGGAGGGTCCTAATC-1 & 1298 & 162 & K562 & 7.168580 & 0.12480740\\\\\n",
       "\ts4d9\\_TCTCGCCCATGTTGTG-1 & s4d9\\_TCTCGCCCATGTTGTG-1 &  933 & 145 & K562 & 6.838405 & 0.15541265\\\\\n",
       "\ts4d9\\_GTTTATCTCTGTGCCT-1 & s4d9\\_GTTTATCTCTGTGCCT-1 & 2083 & 188 & K562 & 7.641564 & 0.09025444\\\\\n",
       "\ts4d9\\_GTTGGCGGTGTTTGAG-1 & s4d9\\_GTTGGCGGTGTTTGAG-1 & 2055 & 140 & K562 & 7.628031 & 0.06812652\\\\\n",
       "\ts4d9\\_ACATCATCAACTGGCT-1 & s4d9\\_ACATCATCAACTGGCT-1 & 3003 & 351 & K562 & 8.007367 & 0.11688312\\\\\n",
       "\ts4d9\\_AGAACCAAGGTATTGC-1 & s4d9\\_AGAACCAAGGTATTGC-1 & 3663 & 419 & K562 & 8.206038 & 0.11438711\\\\\n",
       "\ts4d9\\_TGTGTTAAGCTCCTTA-1 & s4d9\\_TGTGTTAAGCTCCTTA-1 & 3313 &  68 & K562 & 8.105609 & 0.02052520\\\\\n",
       "\ts4d9\\_GATCGAGCAGGAATCG-1 & s4d9\\_GATCGAGCAGGAATCG-1 &  589 &  39 & K562 & 6.378426 & 0.06621392\\\\\n",
       "\ts4d9\\_ATTGTCCGTAATGGAA-1 & s4d9\\_ATTGTCCGTAATGGAA-1 & 1407 &  97 & K562 & 7.249215 & 0.06894101\\\\\n",
       "\ts4d9\\_AGTGCCGGTAATGACT-1 & s4d9\\_AGTGCCGGTAATGACT-1 & 3003 & 381 & K562 & 8.007367 & 0.12687313\\\\\n",
       "\ts4d9\\_TATAACCCATTAAAGG-1 & s4d9\\_TATAACCCATTAAAGG-1 & 3255 & 322 & K562 & 8.087948 & 0.09892473\\\\\n",
       "\ts4d9\\_CGTGCTTTCCTTTACG-1 & s4d9\\_CGTGCTTTCCTTTACG-1 & 2620 & 196 & K562 & 7.870930 & 0.07480916\\\\\n",
       "\ts4d9\\_ACAGGATCATTGTTGG-1 & s4d9\\_ACAGGATCATTGTTGG-1 & 1967 & 210 & K562 & 7.584265 & 0.10676157\\\\\n",
       "\ts4d9\\_GTCAATATCTAACTGA-1 & s4d9\\_GTCAATATCTAACTGA-1 & 5153 & 587 & K562 & 8.547334 & 0.11391422\\\\\n",
       "\ts4d9\\_GTAAGCAAGGACGTAA-1 & s4d9\\_GTAAGCAAGGACGTAA-1 & 2138 & 154 & K562 & 7.667626 & 0.07202993\\\\\n",
       "\ts4d9\\_CCCGCTTCACAACAAA-1 & s4d9\\_CCCGCTTCACAACAAA-1 & 3031 & 167 & K562 & 8.016648 & 0.05509733\\\\\n",
       "\ts4d9\\_AAACCGAAGGACCTTG-1 & s4d9\\_AAACCGAAGGACCTTG-1 & 4558 & 769 & K562 & 8.424639 & 0.16871435\\\\\n",
       "\ts4d9\\_ACCTCACTCTAAGTCA-1 & s4d9\\_ACCTCACTCTAAGTCA-1 & 2718 & 379 & K562 & 7.907652 & 0.13944077\\\\\n",
       "\ts4d9\\_GAAGCTAAGGCAACAA-1 & s4d9\\_GAAGCTAAGGCAACAA-1 & 3665 & 256 & K562 & 8.206584 & 0.06984993\\\\\n",
       "\ts4d9\\_CACTGACCAAATACCT-1 & s4d9\\_CACTGACCAAATACCT-1 & 3396 & 168 & K562 & 8.130354 & 0.04946996\\\\\n",
       "\ts4d9\\_CCTGTATGTGCAATGC-1 & s4d9\\_CCTGTATGTGCAATGC-1 & 1999 & 182 & K562 & 7.600402 & 0.09104552\\\\\n",
       "\ts4d9\\_GTGTGTTAGAAAGCAT-1 & s4d9\\_GTGTGTTAGAAAGCAT-1 &  844 &  41 & K562 & 6.738152 & 0.04857820\\\\\n",
       "\ts4d9\\_GGCTATTAGCTTACTT-1 & s4d9\\_GGCTATTAGCTTACTT-1 & 2912 & 356 & K562 & 7.976595 & 0.12225275\\\\\n",
       "\ts4d9\\_ACACTTGCAACTAGAA-1 & s4d9\\_ACACTTGCAACTAGAA-1 & 1449 &  94 & K562 & 7.278629 & 0.06487233\\\\\n",
       "\\end{tabular}\n"
      ],
      "text/markdown": [
       "\n",
       "A data.frame: 2050 × 6\n",
       "\n",
       "| <!--/--> | cell &lt;chr&gt; | nUMI &lt;dbl&gt; | nMito &lt;dbl&gt; | celltype &lt;chr&gt; | log.nUMI &lt;dbl&gt; | percent.mito &lt;dbl&gt; |\n",
       "|---|---|---|---|---|---|---|\n",
       "| s1d1_CGGGCTTAGTTGGGCC-1 | s1d1_CGGGCTTAGTTGGGCC-1 |  4108 |  69 | K562 | 8.320692 | 0.016796495 |\n",
       "| s1d1_GCGCCTTGTGCATTAG-1 | s1d1_GCGCCTTGTGCATTAG-1 |  4749 |  99 | K562 | 8.465689 | 0.020846494 |\n",
       "| s1d1_AACCGGCTCAACCAAC-1 | s1d1_AACCGGCTCAACCAAC-1 |  3337 |  42 | K562 | 8.112827 | 0.012586155 |\n",
       "| s1d1_GCTCTGTTCTTGTCTG-1 | s1d1_GCTCTGTTCTTGTCTG-1 |  3464 | 367 | K562 | 8.150179 | 0.105946882 |\n",
       "| s1d1_GCGCTTGCAACAGCCT-1 | s1d1_GCGCTTGCAACAGCCT-1 |  7028 | 249 | K562 | 8.857657 | 0.035429710 |\n",
       "| s1d1_CCTAAAGGTTTACCGT-1 | s1d1_CCTAAAGGTTTACCGT-1 |  3765 |  68 | K562 | 8.233503 | 0.018061089 |\n",
       "| s1d1_CAGGCTGGTCTAACAG-1 | s1d1_CAGGCTGGTCTAACAG-1 |  3205 |  57 | K562 | 8.072467 | 0.017784711 |\n",
       "| s1d1_CGCTCCATCGCCTGTT-1 | s1d1_CGCTCCATCGCCTGTT-1 | 10145 | 243 | K562 | 9.224736 | 0.023952686 |\n",
       "| s1d1_CGATTTGCACTGGCTG-1 | s1d1_CGATTTGCACTGGCTG-1 |  3281 |  38 | K562 | 8.095904 | 0.011581835 |\n",
       "| s1d1_ATTCACTTCGACAAAG-1 | s1d1_ATTCACTTCGACAAAG-1 |  4339 |  75 | K562 | 8.375399 | 0.017285089 |\n",
       "| s1d1_ACCTGGTCAAATTCGT-1 | s1d1_ACCTGGTCAAATTCGT-1 |  6141 | 102 | K562 | 8.722743 | 0.016609673 |\n",
       "| s1d1_CTGCTCCCATCCATCT-1 | s1d1_CTGCTCCCATCCATCT-1 |  8352 |  88 | K562 | 9.030256 | 0.010536398 |\n",
       "| s1d1_AACCGCTCATGTCAAT-1 | s1d1_AACCGCTCATGTCAAT-1 |  4097 |  65 | K562 | 8.318010 | 0.015865267 |\n",
       "| s1d1_GTACAATGTCGTAATG-1 | s1d1_GTACAATGTCGTAATG-1 |  4703 |  89 | K562 | 8.455956 | 0.018924091 |\n",
       "| s1d1_AGCGGATAGGCGAATA-1 | s1d1_AGCGGATAGGCGAATA-1 |  4036 | 168 | K562 | 8.303009 | 0.041625372 |\n",
       "| s1d1_GGTCAGGAGAAGGTGC-1 | s1d1_GGTCAGGAGAAGGTGC-1 |  2959 | 105 | K562 | 7.992607 | 0.035484961 |\n",
       "| s1d1_TGGCTATAGAAGCTAG-1 | s1d1_TGGCTATAGAAGCTAG-1 |  4628 |  86 | K562 | 8.439880 | 0.018582541 |\n",
       "| s1d1_GCTTAAATCCGCCAAA-1 | s1d1_GCTTAAATCCGCCAAA-1 |  7160 | 284 | K562 | 8.876265 | 0.039664804 |\n",
       "| s1d1_GTGCTCAAGAATGACG-1 | s1d1_GTGCTCAAGAATGACG-1 |  3757 |  21 | K562 | 8.231376 | 0.005589566 |\n",
       "| s1d1_TAGTGAGAGCGCATTG-1 | s1d1_TAGTGAGAGCGCATTG-1 |  5796 | 185 | K562 | 8.664923 | 0.031918565 |\n",
       "| s1d1_GAGGAGGCATGGCCTG-1 | s1d1_GAGGAGGCATGGCCTG-1 |  8988 | 103 | K562 | 9.103646 | 0.011459724 |\n",
       "| s1d1_ACTTACTTCCTCCTAA-1 | s1d1_ACTTACTTCCTCCTAA-1 |  7657 | 130 | K562 | 8.943376 | 0.016977929 |\n",
       "| s1d1_GATTACGGTCCCGAAG-1 | s1d1_GATTACGGTCCCGAAG-1 |  4452 |  81 | K562 | 8.401109 | 0.018194070 |\n",
       "| s1d1_CTTCACTCAAGCTTAT-1 | s1d1_CTTCACTCAAGCTTAT-1 | 14509 | 574 | K562 | 9.582524 | 0.039561651 |\n",
       "| s1d1_GGTGAGTAGGTCCGTA-1 | s1d1_GGTGAGTAGGTCCGTA-1 |  3108 |  55 | K562 | 8.041735 | 0.017696268 |\n",
       "| s1d1_TACGTTAAGACAACAG-1 | s1d1_TACGTTAAGACAACAG-1 |  4384 |  76 | K562 | 8.385717 | 0.017335766 |\n",
       "| s1d1_GCATCCTTCGCTCACT-1 | s1d1_GCATCCTTCGCTCACT-1 | 11279 | 301 | K562 | 9.330698 | 0.026686763 |\n",
       "| s1d1_CGTCAATAGTTCCCGT-1 | s1d1_CGTCAATAGTTCCCGT-1 |  4903 | 157 | K562 | 8.497603 | 0.032021212 |\n",
       "| s1d1_GATGCTTAGGATAAAC-1 | s1d1_GATGCTTAGGATAAAC-1 |  7071 | 261 | K562 | 8.863757 | 0.036911328 |\n",
       "| s1d1_TGTGGCGGTCGTAATG-1 | s1d1_TGTGGCGGTCGTAATG-1 |  3209 |  81 | K562 | 8.073715 | 0.025241508 |\n",
       "| ⋮ | ⋮ | ⋮ | ⋮ | ⋮ | ⋮ | ⋮ |\n",
       "| s4d9_GTGATGAAGGTCCGTA-1 | s4d9_GTGATGAAGGTCCGTA-1 | 2284 | 272 | K562 | 7.733684 | 0.11908932 |\n",
       "| s4d9_GATCAAGAGCGCCTTT-1 | s4d9_GATCAAGAGCGCCTTT-1 | 2346 | 440 | K562 | 7.760467 | 0.18755328 |\n",
       "| s4d9_GTACGTAGTGTGCAAC-1 | s4d9_GTACGTAGTGTGCAAC-1 | 1658 | 171 | K562 | 7.413367 | 0.10313631 |\n",
       "| s4d9_TTGGGTTAGGCTGTGC-1 | s4d9_TTGGGTTAGGCTGTGC-1 | 3334 | 317 | K562 | 8.111928 | 0.09508098 |\n",
       "| s4d9_TAAACAGCAAAGCGGC-1 | s4d9_TAAACAGCAAAGCGGC-1 | 1383 | 116 | K562 | 7.232010 | 0.08387563 |\n",
       "| s4d9_GATTTGCAGTAGAGGC-1 | s4d9_GATTTGCAGTAGAGGC-1 | 1169 | 109 | K562 | 7.063904 | 0.09324209 |\n",
       "| s4d9_TAGGAGGGTCCTAATC-1 | s4d9_TAGGAGGGTCCTAATC-1 | 1298 | 162 | K562 | 7.168580 | 0.12480740 |\n",
       "| s4d9_TCTCGCCCATGTTGTG-1 | s4d9_TCTCGCCCATGTTGTG-1 |  933 | 145 | K562 | 6.838405 | 0.15541265 |\n",
       "| s4d9_GTTTATCTCTGTGCCT-1 | s4d9_GTTTATCTCTGTGCCT-1 | 2083 | 188 | K562 | 7.641564 | 0.09025444 |\n",
       "| s4d9_GTTGGCGGTGTTTGAG-1 | s4d9_GTTGGCGGTGTTTGAG-1 | 2055 | 140 | K562 | 7.628031 | 0.06812652 |\n",
       "| s4d9_ACATCATCAACTGGCT-1 | s4d9_ACATCATCAACTGGCT-1 | 3003 | 351 | K562 | 8.007367 | 0.11688312 |\n",
       "| s4d9_AGAACCAAGGTATTGC-1 | s4d9_AGAACCAAGGTATTGC-1 | 3663 | 419 | K562 | 8.206038 | 0.11438711 |\n",
       "| s4d9_TGTGTTAAGCTCCTTA-1 | s4d9_TGTGTTAAGCTCCTTA-1 | 3313 |  68 | K562 | 8.105609 | 0.02052520 |\n",
       "| s4d9_GATCGAGCAGGAATCG-1 | s4d9_GATCGAGCAGGAATCG-1 |  589 |  39 | K562 | 6.378426 | 0.06621392 |\n",
       "| s4d9_ATTGTCCGTAATGGAA-1 | s4d9_ATTGTCCGTAATGGAA-1 | 1407 |  97 | K562 | 7.249215 | 0.06894101 |\n",
       "| s4d9_AGTGCCGGTAATGACT-1 | s4d9_AGTGCCGGTAATGACT-1 | 3003 | 381 | K562 | 8.007367 | 0.12687313 |\n",
       "| s4d9_TATAACCCATTAAAGG-1 | s4d9_TATAACCCATTAAAGG-1 | 3255 | 322 | K562 | 8.087948 | 0.09892473 |\n",
       "| s4d9_CGTGCTTTCCTTTACG-1 | s4d9_CGTGCTTTCCTTTACG-1 | 2620 | 196 | K562 | 7.870930 | 0.07480916 |\n",
       "| s4d9_ACAGGATCATTGTTGG-1 | s4d9_ACAGGATCATTGTTGG-1 | 1967 | 210 | K562 | 7.584265 | 0.10676157 |\n",
       "| s4d9_GTCAATATCTAACTGA-1 | s4d9_GTCAATATCTAACTGA-1 | 5153 | 587 | K562 | 8.547334 | 0.11391422 |\n",
       "| s4d9_GTAAGCAAGGACGTAA-1 | s4d9_GTAAGCAAGGACGTAA-1 | 2138 | 154 | K562 | 7.667626 | 0.07202993 |\n",
       "| s4d9_CCCGCTTCACAACAAA-1 | s4d9_CCCGCTTCACAACAAA-1 | 3031 | 167 | K562 | 8.016648 | 0.05509733 |\n",
       "| s4d9_AAACCGAAGGACCTTG-1 | s4d9_AAACCGAAGGACCTTG-1 | 4558 | 769 | K562 | 8.424639 | 0.16871435 |\n",
       "| s4d9_ACCTCACTCTAAGTCA-1 | s4d9_ACCTCACTCTAAGTCA-1 | 2718 | 379 | K562 | 7.907652 | 0.13944077 |\n",
       "| s4d9_GAAGCTAAGGCAACAA-1 | s4d9_GAAGCTAAGGCAACAA-1 | 3665 | 256 | K562 | 8.206584 | 0.06984993 |\n",
       "| s4d9_CACTGACCAAATACCT-1 | s4d9_CACTGACCAAATACCT-1 | 3396 | 168 | K562 | 8.130354 | 0.04946996 |\n",
       "| s4d9_CCTGTATGTGCAATGC-1 | s4d9_CCTGTATGTGCAATGC-1 | 1999 | 182 | K562 | 7.600402 | 0.09104552 |\n",
       "| s4d9_GTGTGTTAGAAAGCAT-1 | s4d9_GTGTGTTAGAAAGCAT-1 |  844 |  41 | K562 | 6.738152 | 0.04857820 |\n",
       "| s4d9_GGCTATTAGCTTACTT-1 | s4d9_GGCTATTAGCTTACTT-1 | 2912 | 356 | K562 | 7.976595 | 0.12225275 |\n",
       "| s4d9_ACACTTGCAACTAGAA-1 | s4d9_ACACTTGCAACTAGAA-1 | 1449 |  94 | K562 | 7.278629 | 0.06487233 |\n",
       "\n"
      ],
      "text/plain": [
       "                        cell                    nUMI  nMito celltype log.nUMI\n",
       "s1d1_CGGGCTTAGTTGGGCC-1 s1d1_CGGGCTTAGTTGGGCC-1  4108  69   K562     8.320692\n",
       "s1d1_GCGCCTTGTGCATTAG-1 s1d1_GCGCCTTGTGCATTAG-1  4749  99   K562     8.465689\n",
       "s1d1_AACCGGCTCAACCAAC-1 s1d1_AACCGGCTCAACCAAC-1  3337  42   K562     8.112827\n",
       "s1d1_GCTCTGTTCTTGTCTG-1 s1d1_GCTCTGTTCTTGTCTG-1  3464 367   K562     8.150179\n",
       "s1d1_GCGCTTGCAACAGCCT-1 s1d1_GCGCTTGCAACAGCCT-1  7028 249   K562     8.857657\n",
       "s1d1_CCTAAAGGTTTACCGT-1 s1d1_CCTAAAGGTTTACCGT-1  3765  68   K562     8.233503\n",
       "s1d1_CAGGCTGGTCTAACAG-1 s1d1_CAGGCTGGTCTAACAG-1  3205  57   K562     8.072467\n",
       "s1d1_CGCTCCATCGCCTGTT-1 s1d1_CGCTCCATCGCCTGTT-1 10145 243   K562     9.224736\n",
       "s1d1_CGATTTGCACTGGCTG-1 s1d1_CGATTTGCACTGGCTG-1  3281  38   K562     8.095904\n",
       "s1d1_ATTCACTTCGACAAAG-1 s1d1_ATTCACTTCGACAAAG-1  4339  75   K562     8.375399\n",
       "s1d1_ACCTGGTCAAATTCGT-1 s1d1_ACCTGGTCAAATTCGT-1  6141 102   K562     8.722743\n",
       "s1d1_CTGCTCCCATCCATCT-1 s1d1_CTGCTCCCATCCATCT-1  8352  88   K562     9.030256\n",
       "s1d1_AACCGCTCATGTCAAT-1 s1d1_AACCGCTCATGTCAAT-1  4097  65   K562     8.318010\n",
       "s1d1_GTACAATGTCGTAATG-1 s1d1_GTACAATGTCGTAATG-1  4703  89   K562     8.455956\n",
       "s1d1_AGCGGATAGGCGAATA-1 s1d1_AGCGGATAGGCGAATA-1  4036 168   K562     8.303009\n",
       "s1d1_GGTCAGGAGAAGGTGC-1 s1d1_GGTCAGGAGAAGGTGC-1  2959 105   K562     7.992607\n",
       "s1d1_TGGCTATAGAAGCTAG-1 s1d1_TGGCTATAGAAGCTAG-1  4628  86   K562     8.439880\n",
       "s1d1_GCTTAAATCCGCCAAA-1 s1d1_GCTTAAATCCGCCAAA-1  7160 284   K562     8.876265\n",
       "s1d1_GTGCTCAAGAATGACG-1 s1d1_GTGCTCAAGAATGACG-1  3757  21   K562     8.231376\n",
       "s1d1_TAGTGAGAGCGCATTG-1 s1d1_TAGTGAGAGCGCATTG-1  5796 185   K562     8.664923\n",
       "s1d1_GAGGAGGCATGGCCTG-1 s1d1_GAGGAGGCATGGCCTG-1  8988 103   K562     9.103646\n",
       "s1d1_ACTTACTTCCTCCTAA-1 s1d1_ACTTACTTCCTCCTAA-1  7657 130   K562     8.943376\n",
       "s1d1_GATTACGGTCCCGAAG-1 s1d1_GATTACGGTCCCGAAG-1  4452  81   K562     8.401109\n",
       "s1d1_CTTCACTCAAGCTTAT-1 s1d1_CTTCACTCAAGCTTAT-1 14509 574   K562     9.582524\n",
       "s1d1_GGTGAGTAGGTCCGTA-1 s1d1_GGTGAGTAGGTCCGTA-1  3108  55   K562     8.041735\n",
       "s1d1_TACGTTAAGACAACAG-1 s1d1_TACGTTAAGACAACAG-1  4384  76   K562     8.385717\n",
       "s1d1_GCATCCTTCGCTCACT-1 s1d1_GCATCCTTCGCTCACT-1 11279 301   K562     9.330698\n",
       "s1d1_CGTCAATAGTTCCCGT-1 s1d1_CGTCAATAGTTCCCGT-1  4903 157   K562     8.497603\n",
       "s1d1_GATGCTTAGGATAAAC-1 s1d1_GATGCTTAGGATAAAC-1  7071 261   K562     8.863757\n",
       "s1d1_TGTGGCGGTCGTAATG-1 s1d1_TGTGGCGGTCGTAATG-1  3209  81   K562     8.073715\n",
       "⋮                       ⋮                       ⋮     ⋮     ⋮        ⋮       \n",
       "s4d9_GTGATGAAGGTCCGTA-1 s4d9_GTGATGAAGGTCCGTA-1 2284  272   K562     7.733684\n",
       "s4d9_GATCAAGAGCGCCTTT-1 s4d9_GATCAAGAGCGCCTTT-1 2346  440   K562     7.760467\n",
       "s4d9_GTACGTAGTGTGCAAC-1 s4d9_GTACGTAGTGTGCAAC-1 1658  171   K562     7.413367\n",
       "s4d9_TTGGGTTAGGCTGTGC-1 s4d9_TTGGGTTAGGCTGTGC-1 3334  317   K562     8.111928\n",
       "s4d9_TAAACAGCAAAGCGGC-1 s4d9_TAAACAGCAAAGCGGC-1 1383  116   K562     7.232010\n",
       "s4d9_GATTTGCAGTAGAGGC-1 s4d9_GATTTGCAGTAGAGGC-1 1169  109   K562     7.063904\n",
       "s4d9_TAGGAGGGTCCTAATC-1 s4d9_TAGGAGGGTCCTAATC-1 1298  162   K562     7.168580\n",
       "s4d9_TCTCGCCCATGTTGTG-1 s4d9_TCTCGCCCATGTTGTG-1  933  145   K562     6.838405\n",
       "s4d9_GTTTATCTCTGTGCCT-1 s4d9_GTTTATCTCTGTGCCT-1 2083  188   K562     7.641564\n",
       "s4d9_GTTGGCGGTGTTTGAG-1 s4d9_GTTGGCGGTGTTTGAG-1 2055  140   K562     7.628031\n",
       "s4d9_ACATCATCAACTGGCT-1 s4d9_ACATCATCAACTGGCT-1 3003  351   K562     8.007367\n",
       "s4d9_AGAACCAAGGTATTGC-1 s4d9_AGAACCAAGGTATTGC-1 3663  419   K562     8.206038\n",
       "s4d9_TGTGTTAAGCTCCTTA-1 s4d9_TGTGTTAAGCTCCTTA-1 3313   68   K562     8.105609\n",
       "s4d9_GATCGAGCAGGAATCG-1 s4d9_GATCGAGCAGGAATCG-1  589   39   K562     6.378426\n",
       "s4d9_ATTGTCCGTAATGGAA-1 s4d9_ATTGTCCGTAATGGAA-1 1407   97   K562     7.249215\n",
       "s4d9_AGTGCCGGTAATGACT-1 s4d9_AGTGCCGGTAATGACT-1 3003  381   K562     8.007367\n",
       "s4d9_TATAACCCATTAAAGG-1 s4d9_TATAACCCATTAAAGG-1 3255  322   K562     8.087948\n",
       "s4d9_CGTGCTTTCCTTTACG-1 s4d9_CGTGCTTTCCTTTACG-1 2620  196   K562     7.870930\n",
       "s4d9_ACAGGATCATTGTTGG-1 s4d9_ACAGGATCATTGTTGG-1 1967  210   K562     7.584265\n",
       "s4d9_GTCAATATCTAACTGA-1 s4d9_GTCAATATCTAACTGA-1 5153  587   K562     8.547334\n",
       "s4d9_GTAAGCAAGGACGTAA-1 s4d9_GTAAGCAAGGACGTAA-1 2138  154   K562     7.667626\n",
       "s4d9_CCCGCTTCACAACAAA-1 s4d9_CCCGCTTCACAACAAA-1 3031  167   K562     8.016648\n",
       "s4d9_AAACCGAAGGACCTTG-1 s4d9_AAACCGAAGGACCTTG-1 4558  769   K562     8.424639\n",
       "s4d9_ACCTCACTCTAAGTCA-1 s4d9_ACCTCACTCTAAGTCA-1 2718  379   K562     7.907652\n",
       "s4d9_GAAGCTAAGGCAACAA-1 s4d9_GAAGCTAAGGCAACAA-1 3665  256   K562     8.206584\n",
       "s4d9_CACTGACCAAATACCT-1 s4d9_CACTGACCAAATACCT-1 3396  168   K562     8.130354\n",
       "s4d9_CCTGTATGTGCAATGC-1 s4d9_CCTGTATGTGCAATGC-1 1999  182   K562     7.600402\n",
       "s4d9_GTGTGTTAGAAAGCAT-1 s4d9_GTGTGTTAGAAAGCAT-1  844   41   K562     6.738152\n",
       "s4d9_GGCTATTAGCTTACTT-1 s4d9_GGCTATTAGCTTACTT-1 2912  356   K562     7.976595\n",
       "s4d9_ACACTTGCAACTAGAA-1 s4d9_ACACTTGCAACTAGAA-1 1449   94   K562     7.278629\n",
       "                        percent.mito\n",
       "s1d1_CGGGCTTAGTTGGGCC-1 0.016796495 \n",
       "s1d1_GCGCCTTGTGCATTAG-1 0.020846494 \n",
       "s1d1_AACCGGCTCAACCAAC-1 0.012586155 \n",
       "s1d1_GCTCTGTTCTTGTCTG-1 0.105946882 \n",
       "s1d1_GCGCTTGCAACAGCCT-1 0.035429710 \n",
       "s1d1_CCTAAAGGTTTACCGT-1 0.018061089 \n",
       "s1d1_CAGGCTGGTCTAACAG-1 0.017784711 \n",
       "s1d1_CGCTCCATCGCCTGTT-1 0.023952686 \n",
       "s1d1_CGATTTGCACTGGCTG-1 0.011581835 \n",
       "s1d1_ATTCACTTCGACAAAG-1 0.017285089 \n",
       "s1d1_ACCTGGTCAAATTCGT-1 0.016609673 \n",
       "s1d1_CTGCTCCCATCCATCT-1 0.010536398 \n",
       "s1d1_AACCGCTCATGTCAAT-1 0.015865267 \n",
       "s1d1_GTACAATGTCGTAATG-1 0.018924091 \n",
       "s1d1_AGCGGATAGGCGAATA-1 0.041625372 \n",
       "s1d1_GGTCAGGAGAAGGTGC-1 0.035484961 \n",
       "s1d1_TGGCTATAGAAGCTAG-1 0.018582541 \n",
       "s1d1_GCTTAAATCCGCCAAA-1 0.039664804 \n",
       "s1d1_GTGCTCAAGAATGACG-1 0.005589566 \n",
       "s1d1_TAGTGAGAGCGCATTG-1 0.031918565 \n",
       "s1d1_GAGGAGGCATGGCCTG-1 0.011459724 \n",
       "s1d1_ACTTACTTCCTCCTAA-1 0.016977929 \n",
       "s1d1_GATTACGGTCCCGAAG-1 0.018194070 \n",
       "s1d1_CTTCACTCAAGCTTAT-1 0.039561651 \n",
       "s1d1_GGTGAGTAGGTCCGTA-1 0.017696268 \n",
       "s1d1_TACGTTAAGACAACAG-1 0.017335766 \n",
       "s1d1_GCATCCTTCGCTCACT-1 0.026686763 \n",
       "s1d1_CGTCAATAGTTCCCGT-1 0.032021212 \n",
       "s1d1_GATGCTTAGGATAAAC-1 0.036911328 \n",
       "s1d1_TGTGGCGGTCGTAATG-1 0.025241508 \n",
       "⋮                       ⋮           \n",
       "s4d9_GTGATGAAGGTCCGTA-1 0.11908932  \n",
       "s4d9_GATCAAGAGCGCCTTT-1 0.18755328  \n",
       "s4d9_GTACGTAGTGTGCAAC-1 0.10313631  \n",
       "s4d9_TTGGGTTAGGCTGTGC-1 0.09508098  \n",
       "s4d9_TAAACAGCAAAGCGGC-1 0.08387563  \n",
       "s4d9_GATTTGCAGTAGAGGC-1 0.09324209  \n",
       "s4d9_TAGGAGGGTCCTAATC-1 0.12480740  \n",
       "s4d9_TCTCGCCCATGTTGTG-1 0.15541265  \n",
       "s4d9_GTTTATCTCTGTGCCT-1 0.09025444  \n",
       "s4d9_GTTGGCGGTGTTTGAG-1 0.06812652  \n",
       "s4d9_ACATCATCAACTGGCT-1 0.11688312  \n",
       "s4d9_AGAACCAAGGTATTGC-1 0.11438711  \n",
       "s4d9_TGTGTTAAGCTCCTTA-1 0.02052520  \n",
       "s4d9_GATCGAGCAGGAATCG-1 0.06621392  \n",
       "s4d9_ATTGTCCGTAATGGAA-1 0.06894101  \n",
       "s4d9_AGTGCCGGTAATGACT-1 0.12687313  \n",
       "s4d9_TATAACCCATTAAAGG-1 0.09892473  \n",
       "s4d9_CGTGCTTTCCTTTACG-1 0.07480916  \n",
       "s4d9_ACAGGATCATTGTTGG-1 0.10676157  \n",
       "s4d9_GTCAATATCTAACTGA-1 0.11391422  \n",
       "s4d9_GTAAGCAAGGACGTAA-1 0.07202993  \n",
       "s4d9_CCCGCTTCACAACAAA-1 0.05509733  \n",
       "s4d9_AAACCGAAGGACCTTG-1 0.16871435  \n",
       "s4d9_ACCTCACTCTAAGTCA-1 0.13944077  \n",
       "s4d9_GAAGCTAAGGCAACAA-1 0.06984993  \n",
       "s4d9_CACTGACCAAATACCT-1 0.04946996  \n",
       "s4d9_CCTGTATGTGCAATGC-1 0.09104552  \n",
       "s4d9_GTGTGTTAGAAAGCAT-1 0.04857820  \n",
       "s4d9_GGCTATTAGCTTACTT-1 0.12225275  \n",
       "s4d9_ACACTTGCAACTAGAA-1 0.06487233  "
      ]
     },
     "metadata": {},
     "output_type": "display_data"
    }
   ],
   "source": [
    "meta.data = data.frame(cell = colnames(matrix.rna),\n",
    "                       nUMI = colSums(matrix.rna),\n",
    "                       nMito = colSums(matrix.rna[grep(\"MT-\",rownames(matrix.rna)),]),\n",
    "                       celltype = \"K562\")\n",
    "meta.data[,\"log.nUMI\"] = log(meta.data[,\"nUMI\"])\n",
    "meta.data[,\"percent.mito\"] = meta.data[,\"nMito\"] / meta.data[,\"nUMI\"]\n",
    "meta.data"
   ]
  },
  {
   "cell_type": "markdown",
   "id": "b823cb4a-3ce6-40b1-9a0d-d5d1e4aa3912",
   "metadata": {},
   "source": [
    "RUN SCENT prediction"
   ]
  },
  {
   "cell_type": "code",
   "execution_count": 14,
   "id": "f46765dc-9de5-4411-9288-40b59435f9fb",
   "metadata": {},
   "outputs": [],
   "source": [
    "RhpcBLASctl::blas_set_num_threads(1)\n",
    "SCENT_algorithm.modified = function (object, \n",
    "                                     # celltype, \n",
    "                                     # ncores, \n",
    "                                     # regr = \"poisson\", \n",
    "                                     # bin = TRUE) \n",
    "                                     regr = \"poisson\") {\n",
    "    res <- data.frame()\n",
    "    for (n in 1:nrow(object@peak.info)) {        \n",
    "        gene <- object@peak.info[n, 1]\n",
    "        this_peak <- object@peak.info[n, 2]\n",
    "        atac_target <- data.frame(cell = colnames(object@atac), \n",
    "            atac = object@atac[this_peak, ])\n",
    "        # if (bin) {\n",
    "        #     atac_target[atac_target$atac > 0, ]$atac <- 1\n",
    "        # }\n",
    "        mrna_target <- object@rna[gene, ]\n",
    "        df <- data.frame(cell = names(mrna_target), exprs = as.numeric(mrna_target))\n",
    "        df <- merge(df, atac_target, by = \"cell\")\n",
    "        df <- merge(df, object@meta.data, by = \"cell\")\n",
    "        # df2 <- df[df[[object@celltypes]] == celltype, ]\n",
    "        df2 <- df\n",
    "        nonzero_m <- length(df2$exprs[df2$exprs > 0])/length(df2$exprs)\n",
    "        nonzero_a <- length(df2$atac[df2$atac > 0])/length(df2$atac)\n",
    "        if (nonzero_m > 0.05 & nonzero_a > 0.05) {\n",
    "            res_var <- \"exprs\"\n",
    "            pred_var <- c(\"atac\", object@covariates)\n",
    "            formula <- as.formula(paste(res_var, paste(pred_var, \n",
    "                collapse = \"+\"), sep = \"~\"))\n",
    "            if (regr == \"poisson\") {\n",
    "                base = glm(formula, family = \"poisson\", data = df2)\n",
    "                coefs <- summary(base)$coefficients[\"atac\", ]\n",
    "                # assoc <- assoc_poisson\n",
    "                assoc <- SCENT::assoc_poisson\n",
    "            }\n",
    "            else if (regr == \"negbin\") {\n",
    "                base = glm.nb(formula, data = df2)\n",
    "                coefs <- summary(base)$coefficients[\"atac\", ]\n",
    "                # assoc <- assoc_negbin\n",
    "                assoc <- SCENT::assoc_negbin\n",
    "            }\n",
    "            bs = boot::boot(df2, assoc, R = 100, formula = formula, \n",
    "                stype = \"i\", parallel = \"no\", ncpus = 1)\n",
    "            # p0 = basic_p(bs$t0[1], bs$t[, 1])\n",
    "            p0 = SCENT::basic_p(bs$t0[1], bs$t[, 1])\n",
    "            if (p0 < 0.1) {\n",
    "                bs = boot::boot(df2, assoc, R = 500, formula = formula, \n",
    "                  stype = \"i\", \n",
    "                  # parallel = \"multicore\", ncpus = ncores)\n",
    "                  parallel = \"no\", ncpus = 1)\n",
    "                # p0 = basic_p(bs$t0[1], bs$t[, 1])\n",
    "                p0 = SCENT::basic_p(bs$t0[1], bs$t[, 1])\n",
    "            }\n",
    "            # if (p0 < 0.05) {\n",
    "            #     bs = boot::boot(df2, assoc, R = 2500, formula = formula, \n",
    "            #       stype = \"i\", \n",
    "            #       # parallel = \"multicore\", ncpus = ncores)\n",
    "            #       parallel = \"no\", ncpus = 1)\n",
    "            #     # p0 = basic_p(bs$t0[1], bs$t[, 1])\n",
    "            #     p0 = SCENT::basic_p(bs$t0[1], bs$t[, 1])\n",
    "            # }\n",
    "            # if (p0 < 0.01) {\n",
    "            #     bs = boot::boot(df2, assoc, R = 25000, formula = formula, \n",
    "            #       stype = \"i\", \n",
    "            #       # parallel = \"multicore\", ncpus = ncores)\n",
    "            #       parallel = \"no\", ncpus = 1)\n",
    "            #     # p0 = basic_p(bs$t0[1], bs$t[, 1])\n",
    "            #     p0 = SCENT::basic_p(bs$t0[1], bs$t[, 1])\n",
    "            # }\n",
    "            # if (p0 < 0.001) {\n",
    "            #     bs = boot::boot(df2, assoc, R = 50000, formula = formula, \n",
    "            #       stype = \"i\", \n",
    "            #       # parallel = \"multicore\", ncpus = ncores)\n",
    "            #       parallel = \"no\", ncpus = 1)\n",
    "            #     # p0 = basic_p(bs$t0[1], bs$t[, 1])\n",
    "            #     p0 = SCENT::basic_p(bs$t0[1], bs$t[, 1])\n",
    "            # }\n",
    "            out <- data.frame(gene = gene, peak = this_peak, \n",
    "                beta = coefs[1], se = coefs[2], z = coefs[3], \n",
    "                p = coefs[4], boot_basic_p = p0)           \n",
    "            res <- rbind(res, out)\n",
    "        }\n",
    "    }\n",
    "    object@SCENT.result <- res\n",
    "    return(object)\n",
    "}"
   ]
  },
  {
   "cell_type": "code",
   "execution_count": 15,
   "id": "563771b9-b96a-44d5-a5fe-fa30a7b9851b",
   "metadata": {},
   "outputs": [
    {
     "name": "stderr",
     "output_type": "stream",
     "text": [
      "Warning message in dir.create(paste(dir.output, \"chr\", sep = \"/\"), recursive = T):\n",
      "“'/maps/projects/ralab_nnfc-AUDIT/people/lpm537/project/E2G/analysis/E2G_240503/data/BMMC/2.Genome_wide_prediction/SCENT/BMMC5.Dendritic.500.250204//chr' already exists”\n"
     ]
    }
   ],
   "source": [
    "dir.create(paste(dir.output,\"chr\",sep = \"/\"),recursive = T)"
   ]
  },
  {
   "cell_type": "code",
   "execution_count": 16,
   "id": "0d2266ce-b92d-40d2-9b78-f39bd33a5079",
   "metadata": {},
   "outputs": [],
   "source": [
    "chr.done = dir(paste(dir.output,\"chr\",sep = \"/\"))\n",
    "chr.run = as.character(unique(seqnames(pairs.E2G)))\n",
    "chr.run = chr.run[!chr.run %in% chr.done]"
   ]
  },
  {
   "cell_type": "code",
   "execution_count": 17,
   "id": "3223d5bc-59ca-47f9-a2ec-7cd2726b40ba",
   "metadata": {},
   "outputs": [],
   "source": [
    "Sys.setenv(OPENBLAS_NUM_THREADS=1)"
   ]
  },
  {
   "cell_type": "code",
   "execution_count": null,
   "id": "2d41238d-e833-4e0e-add5-bb56bb615c1a",
   "metadata": {},
   "outputs": [
    {
     "name": "stdout",
     "output_type": "stream",
     "text": [
      "[1] \"chr1\"\n",
      "[1] \"chr10\"\n"
     ]
    },
    {
     "name": "stderr",
     "output_type": "stream",
     "text": [
      "Warning message in split.default(x = seq_len(nrow(x)), f = f, drop = drop, ...):\n",
      "“data length is not a multiple of split variable”\n"
     ]
    },
    {
     "name": "stdout",
     "output_type": "stream",
     "text": [
      "[1] \"chr11\"\n"
     ]
    },
    {
     "name": "stderr",
     "output_type": "stream",
     "text": [
      "Warning message in split.default(x = seq_len(nrow(x)), f = f, drop = drop, ...):\n",
      "“data length is not a multiple of split variable”\n"
     ]
    },
    {
     "name": "stdout",
     "output_type": "stream",
     "text": [
      "[1] \"chr12\"\n",
      "[1] \"chr13\"\n"
     ]
    },
    {
     "name": "stderr",
     "output_type": "stream",
     "text": [
      "Warning message in split.default(x = seq_len(nrow(x)), f = f, drop = drop, ...):\n",
      "“data length is not a multiple of split variable”\n"
     ]
    },
    {
     "name": "stdout",
     "output_type": "stream",
     "text": [
      "[1] \"chr14\"\n"
     ]
    },
    {
     "name": "stderr",
     "output_type": "stream",
     "text": [
      "Warning message in split.default(x = seq_len(nrow(x)), f = f, drop = drop, ...):\n",
      "“data length is not a multiple of split variable”\n"
     ]
    },
    {
     "name": "stdout",
     "output_type": "stream",
     "text": [
      "[1] \"chr15\"\n"
     ]
    },
    {
     "name": "stderr",
     "output_type": "stream",
     "text": [
      "Warning message in split.default(x = seq_len(nrow(x)), f = f, drop = drop, ...):\n",
      "“data length is not a multiple of split variable”\n"
     ]
    },
    {
     "name": "stdout",
     "output_type": "stream",
     "text": [
      "[1] \"chr16\"\n"
     ]
    },
    {
     "name": "stderr",
     "output_type": "stream",
     "text": [
      "Warning message in split.default(x = seq_len(nrow(x)), f = f, drop = drop, ...):\n",
      "“data length is not a multiple of split variable”\n"
     ]
    },
    {
     "name": "stdout",
     "output_type": "stream",
     "text": [
      "[1] \"chr17\"\n"
     ]
    },
    {
     "name": "stderr",
     "output_type": "stream",
     "text": [
      "Warning message in split.default(x = seq_len(nrow(x)), f = f, drop = drop, ...):\n",
      "“data length is not a multiple of split variable”\n"
     ]
    },
    {
     "name": "stdout",
     "output_type": "stream",
     "text": [
      "[1] \"chr18\"\n"
     ]
    },
    {
     "name": "stderr",
     "output_type": "stream",
     "text": [
      "Warning message in split.default(x = seq_len(nrow(x)), f = f, drop = drop, ...):\n",
      "“data length is not a multiple of split variable”\n"
     ]
    },
    {
     "name": "stdout",
     "output_type": "stream",
     "text": [
      "[1] \"chr19\"\n",
      "[1] \"chr2\"\n"
     ]
    },
    {
     "name": "stderr",
     "output_type": "stream",
     "text": [
      "Warning message in split.default(x = seq_len(nrow(x)), f = f, drop = drop, ...):\n",
      "“data length is not a multiple of split variable”\n"
     ]
    },
    {
     "name": "stdout",
     "output_type": "stream",
     "text": [
      "[1] \"chr20\"\n"
     ]
    },
    {
     "name": "stderr",
     "output_type": "stream",
     "text": [
      "Warning message in split.default(x = seq_len(nrow(x)), f = f, drop = drop, ...):\n",
      "“data length is not a multiple of split variable”\n"
     ]
    },
    {
     "name": "stdout",
     "output_type": "stream",
     "text": [
      "[1] \"chr21\"\n"
     ]
    },
    {
     "name": "stderr",
     "output_type": "stream",
     "text": [
      "Warning message in split.default(x = seq_len(nrow(x)), f = f, drop = drop, ...):\n",
      "“data length is not a multiple of split variable”\n"
     ]
    },
    {
     "name": "stdout",
     "output_type": "stream",
     "text": [
      "[1] \"chr22\"\n",
      "[1] \"chr3\"\n"
     ]
    },
    {
     "name": "stderr",
     "output_type": "stream",
     "text": [
      "Warning message in split.default(x = seq_len(nrow(x)), f = f, drop = drop, ...):\n",
      "“data length is not a multiple of split variable”\n"
     ]
    }
   ],
   "source": [
    "for(chr.tmp in chr.run){\n",
    "  print(chr.tmp)\n",
    "  pairs.E2G.chr.res = pairs.E2G.filter2[seqnames(pairs.E2G.filter2) == chr.tmp]\n",
    "  gene_peak.chr = as.data.frame(mcols(pairs.E2G.chr.res)[,c(\"TargetGene\",\"PeakName\")])\n",
    "  list.gene_peak.chr <- split(gene_peak.chr, seq_len(n.cores))\n",
    "  \n",
    "  list.obj.SCENT.chr <- lapply(list.gene_peak.chr, function(gene_peak.tmp) {\n",
    "    obj.SCENT.tmp <- CreateSCENTObj(\n",
    "      rna = matrix.rna.rename[rownames(matrix.rna.rename) %in% gene_peak.tmp$TargetGene,],\n",
    "      atac = matrix.atac[rownames(matrix.atac) %in% gene_peak.tmp$PeakName,], \n",
    "      meta.data = meta.data,\n",
    "      peak.info = gene_peak.tmp,\n",
    "      covariates = c(\"log.nUMI\",\"percent.mito\"), \n",
    "      celltypes = \"celltype\"\n",
    "    )\n",
    "  })\n",
    "  \n",
    "  cl <- makeCluster(n.cores)\n",
    "  clusterExport(cl, varlist=c(\"SCENT_algorithm.modified\"))\n",
    "  list.SCENT.result.chr <- parLapply(cl, list.obj.SCENT.chr, function(obj.SCENT.tmp) {\n",
    "    obj.SCENT.tmp <- SCENT_algorithm.modified(object = obj.SCENT.tmp)\n",
    "    return(obj.SCENT.tmp@SCENT.result)\n",
    "  })\n",
    "  stopCluster(cl)\n",
    "  \n",
    "  \n",
    "  df.SCENT.result.chr = do.call(rbind,list.SCENT.result.chr)\n",
    "  rownames(df.SCENT.result.chr) = paste(df.SCENT.result.chr$peak,\n",
    "                                        df.SCENT.result.chr$gene,\n",
    "                                        sep = \"_\")\n",
    "\n",
    "  pairs.E2G.chr.res = pairs.E2G.chr.res[pairs.E2G.chr.res$PairName %in% rownames(df.SCENT.result.chr)]\n",
    "  mcols(pairs.E2G.chr.res)[,c(\"beta\",\"se\",\"z\",\"p\",\"boot_basic_p\")] = \n",
    "    df.SCENT.result.chr[pairs.E2G.chr.res$PairName,c(\"beta\",\"se\",\"z\",\"p\",\"boot_basic_p\")]\n",
    "  pairs.E2G.chr.res$boot_basic_p.log10 = -log10(pairs.E2G.chr.res$boot_basic_p)\n",
    "  pairs.E2G.chr.res$sign = 1\n",
    "  pairs.E2G.chr.res$sign[pairs.E2G.chr.res$beta < 0] = -1\n",
    "  pairs.E2G.chr.res$boot_basic_p.log10.signed = pairs.E2G.chr.res$boot_basic_p.log10 * pairs.E2G.chr.res$sign\n",
    "  saveRDS(pairs.E2G.chr.res,\n",
    "          paste(dir.output,\"chr\",chr.tmp,sep = \"/\"))\n",
    "  rm (pairs.E2G.chr.res)\n",
    "}"
   ]
  },
  {
   "cell_type": "markdown",
   "id": "da9d1451-54e0-49e0-ae8b-cd0158115820",
   "metadata": {},
   "source": [
    "Merge results"
   ]
  },
  {
   "cell_type": "code",
   "execution_count": null,
   "id": "6b4278f1-7d9d-402f-95c6-f274a6befea3",
   "metadata": {},
   "outputs": [],
   "source": [
    "chr.merge = as.character(unique(seqnames(pairs.E2G)))\n",
    "list.res = list()\n",
    "for(chr.tmp in chr.merge){\n",
    "    list.res[[chr.tmp]] = readRDS(paste(dir.output,\"chr\",chr.tmp,sep = \"/\"))\n",
    "}\n",
    "pairs.E2G.res = unlist(as(list.res, \"GRangesList\"))"
   ]
  },
  {
   "cell_type": "markdown",
   "id": "00278bea-8baf-4ed0-93d5-1289f05fa36a",
   "metadata": {},
   "source": [
    "Save results"
   ]
  },
  {
   "cell_type": "code",
   "execution_count": null,
   "id": "48824f05-aedd-476c-88d6-ae58d1833fc9",
   "metadata": {},
   "outputs": [],
   "source": [
    "saveRDS(pairs.E2G.res,\n",
    "        paste(dir.output,\"pairs.E2G.res.rds\",sep = \"/\"))\n",
    "pairs.E2G.res"
   ]
  },
  {
   "cell_type": "code",
   "execution_count": null,
   "id": "2297128a-9ed6-42b8-90c7-459969fb5afd",
   "metadata": {},
   "outputs": [],
   "source": [
    "df.output = as.data.frame(pairs.E2G.res,row.names = NULL)\n",
    "colnames(df.output)[1] = \"chr\"\n",
    "df.output[,\"CellType\"] = \"K562\"\n",
    "df.output = df.output[,c(\"chr\",\n",
    "                         \"start\",\n",
    "                         \"end\",\n",
    "                         \"TargetGene\",\n",
    "                         \"CellType\",\n",
    "                         \"beta\",\"se\",\"z\",\"p\",\"boot_basic_p\",\n",
    "                         \"boot_basic_p.log10\",\n",
    "                         \"sign\",\n",
    "                         \"boot_basic_p.log10.signed\")]\n",
    "data.table::fwrite(df.output,\n",
    "                   file = paste(dir.output,\"pairs.E2G.res.tsv.gz\",sep = \"/\"),\n",
    "                   row.names = F,\n",
    "                   quote = F,\n",
    "                   sep = \"\\t\")\n",
    "df.output"
   ]
  },
  {
   "cell_type": "code",
   "execution_count": null,
   "id": "4d77c58e-215a-408d-8495-c68c72f559c3",
   "metadata": {},
   "outputs": [],
   "source": [
    "sessionInfo()"
   ]
  },
  {
   "cell_type": "code",
   "execution_count": null,
   "id": "3c1a0283-11d6-4df1-bbd8-7b47e9e8ead8",
   "metadata": {},
   "outputs": [],
   "source": []
  }
 ],
 "metadata": {
  "kernelspec": {
   "display_name": "R",
   "language": "R",
   "name": "ir"
  },
  "language_info": {
   "codemirror_mode": "r",
   "file_extension": ".r",
   "mimetype": "text/x-r-source",
   "name": "R",
   "pygments_lexer": "r",
   "version": "4.3.3"
  }
 },
 "nbformat": 4,
 "nbformat_minor": 5
}
