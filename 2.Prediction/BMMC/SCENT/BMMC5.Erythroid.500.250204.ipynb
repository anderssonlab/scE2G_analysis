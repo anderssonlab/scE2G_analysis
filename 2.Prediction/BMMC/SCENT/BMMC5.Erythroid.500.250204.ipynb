{
 "cells": [
  {
   "cell_type": "code",
   "execution_count": 1,
   "id": "3a1e63f9-7479-4a30-83ea-381f1ecdbe50",
   "metadata": {},
   "outputs": [
    {
     "name": "stderr",
     "output_type": "stream",
     "text": [
      "Warning message:\n",
      "“replacing previous import ‘Hmisc::capitalize’ by ‘R.utils::capitalize’ when loading ‘SCENT’”\n",
      "Loading required package: grid\n",
      "\n",
      "Warning message:\n",
      "“replacing previous import ‘Biostrings::pattern’ by ‘grid::pattern’ when loading ‘genomation’”\n",
      "Loading required package: stats4\n",
      "\n",
      "Loading required package: BiocGenerics\n",
      "\n",
      "\n",
      "Attaching package: ‘BiocGenerics’\n",
      "\n",
      "\n",
      "The following objects are masked from ‘package:stats’:\n",
      "\n",
      "    IQR, mad, sd, var, xtabs\n",
      "\n",
      "\n",
      "The following objects are masked from ‘package:base’:\n",
      "\n",
      "    anyDuplicated, aperm, append, as.data.frame, basename, cbind,\n",
      "    colnames, dirname, do.call, duplicated, eval, evalq, Filter, Find,\n",
      "    get, grep, grepl, intersect, is.unsorted, lapply, Map, mapply,\n",
      "    match, mget, order, paste, pmax, pmax.int, pmin, pmin.int,\n",
      "    Position, rank, rbind, Reduce, rownames, sapply, setdiff, sort,\n",
      "    table, tapply, union, unique, unsplit, which.max, which.min\n",
      "\n",
      "\n",
      "Loading required package: S4Vectors\n",
      "\n",
      "\n",
      "Attaching package: ‘S4Vectors’\n",
      "\n",
      "\n",
      "The following object is masked from ‘package:utils’:\n",
      "\n",
      "    findMatches\n",
      "\n",
      "\n",
      "The following objects are masked from ‘package:base’:\n",
      "\n",
      "    expand.grid, I, unname\n",
      "\n",
      "\n",
      "Loading required package: IRanges\n",
      "\n",
      "Loading required package: GenomeInfoDb\n",
      "\n",
      "\n",
      "Attaching package: ‘Matrix’\n",
      "\n",
      "\n",
      "The following object is masked from ‘package:S4Vectors’:\n",
      "\n",
      "    expand\n",
      "\n",
      "\n",
      "\n",
      "Attaching package: ‘data.table’\n",
      "\n",
      "\n",
      "The following object is masked from ‘package:GenomicRanges’:\n",
      "\n",
      "    shift\n",
      "\n",
      "\n",
      "The following object is masked from ‘package:IRanges’:\n",
      "\n",
      "    shift\n",
      "\n",
      "\n",
      "The following objects are masked from ‘package:S4Vectors’:\n",
      "\n",
      "    first, second\n",
      "\n",
      "\n",
      "\n",
      "Attaching package: ‘dplyr’\n",
      "\n",
      "\n",
      "The following objects are masked from ‘package:data.table’:\n",
      "\n",
      "    between, first, last\n",
      "\n",
      "\n",
      "The following objects are masked from ‘package:GenomicRanges’:\n",
      "\n",
      "    intersect, setdiff, union\n",
      "\n",
      "\n",
      "The following object is masked from ‘package:GenomeInfoDb’:\n",
      "\n",
      "    intersect\n",
      "\n",
      "\n",
      "The following objects are masked from ‘package:IRanges’:\n",
      "\n",
      "    collapse, desc, intersect, setdiff, slice, union\n",
      "\n",
      "\n",
      "The following objects are masked from ‘package:S4Vectors’:\n",
      "\n",
      "    first, intersect, rename, setdiff, setequal, union\n",
      "\n",
      "\n",
      "The following objects are masked from ‘package:BiocGenerics’:\n",
      "\n",
      "    combine, intersect, setdiff, union\n",
      "\n",
      "\n",
      "The following objects are masked from ‘package:stats’:\n",
      "\n",
      "    filter, lag\n",
      "\n",
      "\n",
      "The following objects are masked from ‘package:base’:\n",
      "\n",
      "    intersect, setdiff, setequal, union\n",
      "\n",
      "\n"
     ]
    }
   ],
   "source": [
    "library(SCENT)\n",
    "library(Signac)\n",
    "library(genomation)\n",
    "library(GenomicRanges)\n",
    "library(Matrix)\n",
    "library(parallel)\n",
    "library(data.table)\n",
    "library(dplyr)"
   ]
  },
  {
   "cell_type": "markdown",
   "id": "d53f3774-52c3-4baa-b707-5b3a0450b130",
   "metadata": {},
   "source": [
    "Specify file path"
   ]
  },
  {
   "cell_type": "code",
   "execution_count": 2,
   "id": "0785f3fc-9913-428a-bea7-5710120c9328",
   "metadata": {},
   "outputs": [],
   "source": [
    "gene_gtf_path = \"/maps/projects/ralab/data/genome/hg38/gencode.v43.chr_patch_hapl_scaff.annotation.gtf\"\n",
    "abc_genes_path = \"/maps/projects/ralab_nnfc-AUDIT/people/lpm537/software/scE2G_pipeline/241203/scE2G/ENCODE_rE2G/ABC/reference/hg38/CollapsedGeneBounds.hg38.TSS500bp.bed\"\n",
    "path.pairs.E2G = \"/maps/projects/ralab_nnfc-AUDIT/people/lpm537/software/scE2G_pipeline/240508/sc-E2G/test/results_BMMC5/Erythroid/Kendall/Pairs.tsv.gz\"\n",
    "path.pairs.ABC = \"/maps/projects/ralab_nnfc-AUDIT/people/lpm537/software/scE2G_pipeline/240508/sc-E2G/test/results_BMMC5/Erythroid/Predictions/EnhancerPredictionsAllPutative.tsv.gz\"\n",
    "path.matrix.atac_count = \"/maps/projects/ralab_nnfc-AUDIT/people/lpm537/software/scE2G_pipeline/240508/sc-E2G/test/results_BMMC5/Erythroid/Kendall/atac_matrix.rds\"\n",
    "path.matrix.rna_count = \"/maps/projects/ralab_nnfc-AUDIT/people/lpm537/project/E2G/analysis/E2G_240503/data/BMMC/1.prepare_data/3.merge_cell_type.240522/RNA_count_matrix/Erythroid.rna_count_matrix.csv.gz\"\n",
    "dir.output = \"/maps/projects/ralab_nnfc-AUDIT/people/lpm537/project/E2G/analysis/E2G_240503/data/BMMC/2.Genome_wide_prediction/SCENT/BMMC5.Erythroid.500.250204/\""
   ]
  },
  {
   "cell_type": "code",
   "execution_count": 3,
   "id": "500ba317-011f-4cab-834c-de750cb7f503",
   "metadata": {},
   "outputs": [],
   "source": [
    "n.cores = 8"
   ]
  },
  {
   "cell_type": "markdown",
   "id": "9c9cdab1-486b-4539-99d3-3cd5d1d99795",
   "metadata": {},
   "source": [
    "Import candidate E-G pairs"
   ]
  },
  {
   "cell_type": "code",
   "execution_count": 4,
   "id": "f5852d15-7e3f-412b-b137-7d29a6fb47b1",
   "metadata": {},
   "outputs": [],
   "source": [
    "pairs.E2G = readGeneric(path.pairs.E2G,\n",
    "                        header = T,\n",
    "                        keep.all.metadata = T)"
   ]
  },
  {
   "cell_type": "markdown",
   "id": "4b3c69d6-986b-4e10-9597-01c66d230c5c",
   "metadata": {},
   "source": [
    "Import ABC results"
   ]
  },
  {
   "cell_type": "code",
   "execution_count": 5,
   "id": "1fdcc2db-187f-45ee-89b4-288e8be29ee9",
   "metadata": {},
   "outputs": [],
   "source": [
    "pairs.ABC = readGeneric(path.pairs.ABC,\n",
    "                        header = T,\n",
    "                        keep.all.metadata = T)"
   ]
  },
  {
   "cell_type": "markdown",
   "id": "10424833-4e11-4191-a970-940bcc814764",
   "metadata": {},
   "source": [
    "Filter ABC results which distance < 1M"
   ]
  },
  {
   "cell_type": "code",
   "execution_count": 6,
   "id": "f08d2dec-83da-425a-aa70-aacb2d1c01a9",
   "metadata": {},
   "outputs": [],
   "source": [
    "pairs.ABC.1M = pairs.ABC[pairs.ABC$distance < 10^6]"
   ]
  },
  {
   "cell_type": "markdown",
   "id": "1ab4f035-0f58-4f32-9770-6765575f08a4",
   "metadata": {},
   "source": [
    "Filter E-G pairs overlaping with pairs.ABC.1M"
   ]
  },
  {
   "cell_type": "code",
   "execution_count": 7,
   "id": "46f640bb-a049-4bae-8362-485ec0d30858",
   "metadata": {},
   "outputs": [
    {
     "data": {
      "text/plain": [
       "GRanges object with 3173255 ranges and 3 metadata columns:\n",
       "            seqnames              ranges strand |  TargetGene\n",
       "               <Rle>           <IRanges>  <Rle> | <character>\n",
       "        [1]     chr1 100028400-100029241      * |         AGL\n",
       "        [2]     chr1 100028400-100029241      * |      CDC14A\n",
       "        [3]     chr1 100028400-100029241      * |         DBT\n",
       "        [4]     chr1 100028400-100029241      * |        DPH5\n",
       "        [5]     chr1 100028400-100029241      * |       EXTL2\n",
       "        ...      ...                 ...    ... .         ...\n",
       "  [3173251]     chrX     9988851-9989079      * |       TBL1X\n",
       "  [3173252]     chrX     9988851-9989079      * |        WWC3\n",
       "  [3173253]     chrX     9995651-9996434      * |       CLCN4\n",
       "  [3173254]     chrX     9995651-9996434      * |       TBL1X\n",
       "  [3173255]     chrX     9995651-9996434      * |        WWC3\n",
       "                          PeakName               PairName\n",
       "                       <character>            <character>\n",
       "        [1] chr1-100028400-10002.. chr1-100028400-10002..\n",
       "        [2] chr1-100028400-10002.. chr1-100028400-10002..\n",
       "        [3] chr1-100028400-10002.. chr1-100028400-10002..\n",
       "        [4] chr1-100028400-10002.. chr1-100028400-10002..\n",
       "        [5] chr1-100028400-10002.. chr1-100028400-10002..\n",
       "        ...                    ...                    ...\n",
       "  [3173251]   chrX-9988851-9989079 chrX-9988851-9989079..\n",
       "  [3173252]   chrX-9988851-9989079 chrX-9988851-9989079..\n",
       "  [3173253]   chrX-9995651-9996434 chrX-9995651-9996434..\n",
       "  [3173254]   chrX-9995651-9996434 chrX-9995651-9996434..\n",
       "  [3173255]   chrX-9995651-9996434 chrX-9995651-9996434..\n",
       "  -------\n",
       "  seqinfo: 23 sequences from an unspecified genome; no seqlengths"
      ]
     },
     "metadata": {},
     "output_type": "display_data"
    }
   ],
   "source": [
    "df.pairs.E2G.chr_rename = as.data.frame(pairs.E2G)[,1:3]\n",
    "df.pairs.E2G.chr_rename[,\"seqnames\"] = paste(seqnames(pairs.E2G),\n",
    "                                             mcols(pairs.E2G)[,\"TargetGene\"],\n",
    "                                             sep = \"_\")\n",
    "pairs.E2G.chr_rename = GRanges(df.pairs.E2G.chr_rename)\n",
    "rm(df.pairs.E2G.chr_rename)\n",
    "\n",
    "df.pairs.ABC.1M.chr_rename = as.data.frame(pairs.ABC.1M)[,1:3]\n",
    "df.pairs.ABC.1M.chr_rename[,\"seqnames\"] = paste(seqnames(pairs.ABC.1M),\n",
    "                                                mcols(pairs.ABC.1M)[,\"TargetGene\"],\n",
    "                                                sep = \"_\")\n",
    "pairs.ABC.1M.chr_rename = GRanges(df.pairs.ABC.1M.chr_rename)\n",
    "rm(df.pairs.ABC.1M.chr_rename)\n",
    "\n",
    "pairs.E2G.filter = pairs.E2G[countOverlaps(pairs.E2G.chr_rename,\n",
    "                                           pairs.ABC.1M.chr_rename) > 0]\n",
    "rm(pairs.E2G.chr_rename)\n",
    "rm(pairs.ABC.1M.chr_rename)\n",
    "pairs.E2G.filter"
   ]
  },
  {
   "cell_type": "markdown",
   "id": "bcdfac67-ce32-4d9a-8f4d-65dab644ec63",
   "metadata": {},
   "source": [
    "Import ATAC matrix"
   ]
  },
  {
   "cell_type": "code",
   "execution_count": 8,
   "id": "bd59feb4-3e33-4ebe-a107-f3b6d347a68e",
   "metadata": {},
   "outputs": [],
   "source": [
    "matrix.atac = readRDS(path.matrix.atac_count)\n",
    "matrix.atac = BinarizeCounts(matrix.atac)"
   ]
  },
  {
   "cell_type": "markdown",
   "id": "a0c5cb96-2fc4-42c4-a421-fe9a5ca537da",
   "metadata": {},
   "source": [
    "Import RNA matrix"
   ]
  },
  {
   "cell_type": "code",
   "execution_count": 9,
   "id": "96e10e90-9400-4cfe-bc7b-46a7eaee1fcd",
   "metadata": {},
   "outputs": [],
   "source": [
    "matrix.rna = read.csv(path.matrix.rna_count,\n",
    "                      row.names = 1,\n",
    "                      check.names = F)\n",
    "matrix.rna = Matrix(as.matrix(matrix.rna), sparse = TRUE)\n",
    "matrix.rna = matrix.rna[,colnames(matrix.atac)]\n",
    "matrix.rna = matrix.rna[rowSums(matrix.rna) > 0,]"
   ]
  },
  {
   "cell_type": "markdown",
   "id": "62718ef8-a3bd-4755-a95f-be216f16517b",
   "metadata": {},
   "source": [
    "Map gene names"
   ]
  },
  {
   "cell_type": "code",
   "execution_count": 10,
   "id": "0f255a65-03a4-4255-967e-0c644bfe66cd",
   "metadata": {},
   "outputs": [],
   "source": [
    "extract_attributes <- function(gtf_attributes, att_of_interest){\n",
    "  att <- unlist(strsplit(gtf_attributes, \" \"))\n",
    "  if(att_of_interest %in% att){\n",
    "    return(gsub(\"\\\"|;\",\"\", att[which(att %in% att_of_interest)+1]))\n",
    "  } else {\n",
    "    return(NA)}\n",
    "}\n",
    "map_gene_names <- function(rna_matrix, gene_gtf_path, abc_genes_path){\n",
    "\tgene_ref <- fread(gene_gtf_path, header = FALSE, sep = \"\\t\") %>%\n",
    "\t\tsetNames(c(\"chr\",\"source\",\"type\",\"start\",\"end\",\"score\",\"strand\",\"phase\",\"attributes\")) %>%\n",
    "\t\tdplyr::filter(type == \"gene\")\n",
    "\tgene_ref$gene_ref_name <- unlist(lapply(gene_ref$attributes, extract_attributes, \"gene_name\"))\n",
    "\tgene_ref$Ensembl_ID <- unlist(lapply(gene_ref$attributes, extract_attributes, \"gene_id\"))\n",
    "\tgene_ref <- dplyr::select(gene_ref, gene_ref_name, Ensembl_ID) %>%\n",
    "\t\tmutate(Ensembl_ID = sub(\"\\\\.\\\\d+$\", \"\", Ensembl_ID)) %>% # remove decimal digits \n",
    "\t\tdistinct()\n",
    "\t\n",
    "\tabc_genes <- fread(abc_genes_path, col.names = c(\"chr\", \"start\", \"end\", \"name\", \"score\", \"strand\", \"Ensembl_ID\", \"gene_type\")) %>%\n",
    "\t\tdplyr::select(name, Ensembl_ID) %>%\n",
    "\t\trename(abc_name = name) %>%\n",
    "\t\tleft_join(gene_ref, by = \"Ensembl_ID\") %>%\n",
    "\t\tgroup_by(Ensembl_ID) %>% # remove cases where multiple genes map to one ensembl ID\n",
    "\t\tfilter(n() == 1) %>%\n",
    "\t\tungroup()\n",
    "\n",
    "\tgene_key <- abc_genes$abc_name\n",
    "\tnames(gene_key) <- abc_genes$gene_ref_name\n",
    "\n",
    "\t# remove genes not in our gene universe\t\n",
    "\trow_sub <- intersect(rownames(rna_matrix), names(gene_key)) # gene ref names\n",
    "\trna_matrix_filt <- rna_matrix[row_sub,] # still gene ref names\n",
    "\trownames(rna_matrix_filt) <- gene_key[row_sub] # converted to abc names\n",
    "\n",
    "\treturn(rna_matrix_filt)\n",
    "}"
   ]
  },
  {
   "cell_type": "code",
   "execution_count": 11,
   "id": "ca760678-9db9-418e-b7ac-29984eddad7e",
   "metadata": {},
   "outputs": [],
   "source": [
    "matrix.rna.rename = map_gene_names(matrix.rna,gene_gtf_path, abc_genes_path)"
   ]
  },
  {
   "cell_type": "code",
   "execution_count": 12,
   "id": "0c8225d7-5216-4cc1-827e-bbb22c53f9fc",
   "metadata": {},
   "outputs": [],
   "source": [
    "pairs.E2G.filter2 = pairs.E2G.filter[pairs.E2G.filter$TargetGene %in% rownames(matrix.rna.rename) &\n",
    "                                     pairs.E2G.filter$PeakName %in% rownames(matrix.atac)]"
   ]
  },
  {
   "cell_type": "markdown",
   "id": "b16f7d5b-eabd-4e93-b8cd-f19a54df21f2",
   "metadata": {},
   "source": [
    "Prepare SCENT meta data"
   ]
  },
  {
   "cell_type": "code",
   "execution_count": 13,
   "id": "827059dd-6885-441e-973e-d7c49e5fd534",
   "metadata": {},
   "outputs": [
    {
     "data": {
      "text/html": [
       "<table class=\"dataframe\">\n",
       "<caption>A data.frame: 8996 × 6</caption>\n",
       "<thead>\n",
       "\t<tr><th></th><th scope=col>cell</th><th scope=col>nUMI</th><th scope=col>nMito</th><th scope=col>celltype</th><th scope=col>log.nUMI</th><th scope=col>percent.mito</th></tr>\n",
       "\t<tr><th></th><th scope=col>&lt;chr&gt;</th><th scope=col>&lt;dbl&gt;</th><th scope=col>&lt;dbl&gt;</th><th scope=col>&lt;chr&gt;</th><th scope=col>&lt;dbl&gt;</th><th scope=col>&lt;dbl&gt;</th></tr>\n",
       "</thead>\n",
       "<tbody>\n",
       "\t<tr><th scope=row>s1d1_AGCGCCTAGATGGACA-1</th><td>s1d1_AGCGCCTAGATGGACA-1</td><td> 2307</td><td> 77</td><td>K562</td><td> 7.743703</td><td>0.033376680</td></tr>\n",
       "\t<tr><th scope=row>s1d1_CCTGAATAGCTTGCTC-1</th><td>s1d1_CCTGAATAGCTTGCTC-1</td><td> 3907</td><td> 53</td><td>K562</td><td> 8.270525</td><td>0.013565395</td></tr>\n",
       "\t<tr><th scope=row>s1d1_GGCTGAGAGTATTGCA-1</th><td>s1d1_GGCTGAGAGTATTGCA-1</td><td> 2159</td><td> 38</td><td>K562</td><td> 7.677400</td><td>0.017600741</td></tr>\n",
       "\t<tr><th scope=row>s1d1_GGCAATCGTTAGGACC-1</th><td>s1d1_GGCAATCGTTAGGACC-1</td><td> 1154</td><td> 30</td><td>K562</td><td> 7.050989</td><td>0.025996534</td></tr>\n",
       "\t<tr><th scope=row>s1d1_AGTTATGTCTCACTCA-1</th><td>s1d1_AGTTATGTCTCACTCA-1</td><td> 1534</td><td> 23</td><td>K562</td><td> 7.335634</td><td>0.014993481</td></tr>\n",
       "\t<tr><th scope=row>s1d1_GTTTGTCGTGAATCGC-1</th><td>s1d1_GTTTGTCGTGAATCGC-1</td><td> 6050</td><td>100</td><td>K562</td><td> 8.707814</td><td>0.016528926</td></tr>\n",
       "\t<tr><th scope=row>s1d1_CGCAAATTCTACTAAG-1</th><td>s1d1_CGCAAATTCTACTAAG-1</td><td> 4517</td><td>106</td><td>K562</td><td> 8.415603</td><td>0.023466903</td></tr>\n",
       "\t<tr><th scope=row>s1d1_GGTTTCCTCTTGGACG-1</th><td>s1d1_GGTTTCCTCTTGGACG-1</td><td> 2323</td><td> 64</td><td>K562</td><td> 7.750615</td><td>0.027550581</td></tr>\n",
       "\t<tr><th scope=row>s1d1_AATCAGGAGCTGAGGG-1</th><td>s1d1_AATCAGGAGCTGAGGG-1</td><td> 1067</td><td> 36</td><td>K562</td><td> 6.972606</td><td>0.033739456</td></tr>\n",
       "\t<tr><th scope=row>s1d1_TGAGTGAAGTTAGTGC-1</th><td>s1d1_TGAGTGAAGTTAGTGC-1</td><td> 1908</td><td> 18</td><td>K562</td><td> 7.553811</td><td>0.009433962</td></tr>\n",
       "\t<tr><th scope=row>s1d1_CTTAGTTTCCTTGCGT-1</th><td>s1d1_CTTAGTTTCCTTGCGT-1</td><td> 5758</td><td> 55</td><td>K562</td><td> 8.658345</td><td>0.009551928</td></tr>\n",
       "\t<tr><th scope=row>s1d1_GCCTATTGTTAGGTGC-1</th><td>s1d1_GCCTATTGTTAGGTGC-1</td><td> 1429</td><td> 25</td><td>K562</td><td> 7.264730</td><td>0.017494752</td></tr>\n",
       "\t<tr><th scope=row>s1d1_ATTAACCCATTAGCCA-1</th><td>s1d1_ATTAACCCATTAGCCA-1</td><td>16645</td><td>104</td><td>K562</td><td> 9.719865</td><td>0.006248123</td></tr>\n",
       "\t<tr><th scope=row>s1d1_GTTAACCAGTTATTCC-1</th><td>s1d1_GTTAACCAGTTATTCC-1</td><td> 1017</td><td> 52</td><td>K562</td><td> 6.924612</td><td>0.051130777</td></tr>\n",
       "\t<tr><th scope=row>s1d1_GTTTCAGCAGCACGTT-1</th><td>s1d1_GTTTCAGCAGCACGTT-1</td><td> 1314</td><td> 71</td><td>K562</td><td> 7.180831</td><td>0.054033486</td></tr>\n",
       "\t<tr><th scope=row>s1d1_AATAACCGTCATTGAG-1</th><td>s1d1_AATAACCGTCATTGAG-1</td><td>  904</td><td> 38</td><td>K562</td><td> 6.806829</td><td>0.042035398</td></tr>\n",
       "\t<tr><th scope=row>s1d1_TAGGCTAGTGTAACCA-1</th><td>s1d1_TAGGCTAGTGTAACCA-1</td><td> 1399</td><td> 26</td><td>K562</td><td> 7.243513</td><td>0.018584703</td></tr>\n",
       "\t<tr><th scope=row>s1d1_CTTCGCGTCGAGCAAA-1</th><td>s1d1_CTTCGCGTCGAGCAAA-1</td><td> 2079</td><td> 39</td><td>K562</td><td> 7.639642</td><td>0.018759019</td></tr>\n",
       "\t<tr><th scope=row>s1d1_TCAGGTCCAAACTCAT-1</th><td>s1d1_TCAGGTCCAAACTCAT-1</td><td> 1072</td><td> 17</td><td>K562</td><td> 6.977281</td><td>0.015858209</td></tr>\n",
       "\t<tr><th scope=row>s1d1_ATTTGCAAGGCATTAC-1</th><td>s1d1_ATTTGCAAGGCATTAC-1</td><td> 8812</td><td>107</td><td>K562</td><td> 9.083870</td><td>0.012142533</td></tr>\n",
       "\t<tr><th scope=row>s1d1_CTGGATGTCATAACTG-1</th><td>s1d1_CTGGATGTCATAACTG-1</td><td> 5023</td><td> 46</td><td>K562</td><td> 8.521783</td><td>0.009157874</td></tr>\n",
       "\t<tr><th scope=row>s1d1_TCATCCATCCTCATCA-1</th><td>s1d1_TCATCCATCCTCATCA-1</td><td> 1969</td><td> 77</td><td>K562</td><td> 7.585281</td><td>0.039106145</td></tr>\n",
       "\t<tr><th scope=row>s1d1_TGCTTAAAGCCGCTAA-1</th><td>s1d1_TGCTTAAAGCCGCTAA-1</td><td> 1828</td><td> 59</td><td>K562</td><td> 7.510978</td><td>0.032275711</td></tr>\n",
       "\t<tr><th scope=row>s1d1_CAGCCTTTCCTGTTCA-1</th><td>s1d1_CAGCCTTTCCTGTTCA-1</td><td> 1547</td><td> 51</td><td>K562</td><td> 7.344073</td><td>0.032967033</td></tr>\n",
       "\t<tr><th scope=row>s1d1_ACGACTTAGCTACTGG-1</th><td>s1d1_ACGACTTAGCTACTGG-1</td><td> 3573</td><td> 77</td><td>K562</td><td> 8.181161</td><td>0.021550518</td></tr>\n",
       "\t<tr><th scope=row>s1d1_CCAGCCTGTTAGGACC-1</th><td>s1d1_CCAGCCTGTTAGGACC-1</td><td>22831</td><td>693</td><td>K562</td><td>10.035875</td><td>0.030353467</td></tr>\n",
       "\t<tr><th scope=row>s1d1_CTCTGTTCAAACTGTT-1</th><td>s1d1_CTCTGTTCAAACTGTT-1</td><td> 2923</td><td> 95</td><td>K562</td><td> 7.980366</td><td>0.032500855</td></tr>\n",
       "\t<tr><th scope=row>s1d1_GTTTCTAGTCATCATC-1</th><td>s1d1_GTTTCTAGTCATCATC-1</td><td> 3606</td><td> 38</td><td>K562</td><td> 8.190354</td><td>0.010537992</td></tr>\n",
       "\t<tr><th scope=row>s1d1_TGATGATGTGCAACTA-1</th><td>s1d1_TGATGATGTGCAACTA-1</td><td>  992</td><td> 45</td><td>K562</td><td> 6.899723</td><td>0.045362903</td></tr>\n",
       "\t<tr><th scope=row>s1d1_GCGCTTGCAATCCCTT-1</th><td>s1d1_GCGCTTGCAATCCCTT-1</td><td> 2594</td><td> 55</td><td>K562</td><td> 7.860956</td><td>0.021202776</td></tr>\n",
       "\t<tr><th scope=row>⋮</th><td>⋮</td><td>⋮</td><td>⋮</td><td>⋮</td><td>⋮</td><td>⋮</td></tr>\n",
       "\t<tr><th scope=row>s4d9_ATTTGTGAGGCGCACT-1</th><td>s4d9_ATTTGTGAGGCGCACT-1</td><td>2371</td><td> 233</td><td>K562</td><td>7.771067</td><td>0.098270772</td></tr>\n",
       "\t<tr><th scope=row>s4d9_GGTTAATGTGCAACTA-1</th><td>s4d9_GGTTAATGTGCAACTA-1</td><td> 849</td><td>   1</td><td>K562</td><td>6.744059</td><td>0.001177856</td></tr>\n",
       "\t<tr><th scope=row>s4d9_TATTCGTTCAATGTCA-1</th><td>s4d9_TATTCGTTCAATGTCA-1</td><td>1183</td><td>  35</td><td>K562</td><td>7.075809</td><td>0.029585799</td></tr>\n",
       "\t<tr><th scope=row>s4d9_CGGAGTCTCCAGGTTG-1</th><td>s4d9_CGGAGTCTCCAGGTTG-1</td><td> 682</td><td>  42</td><td>K562</td><td>6.525030</td><td>0.061583578</td></tr>\n",
       "\t<tr><th scope=row>s4d9_ATGGCTTAGGAGGCAT-1</th><td>s4d9_ATGGCTTAGGAGGCAT-1</td><td>2095</td><td>   6</td><td>K562</td><td>7.647309</td><td>0.002863962</td></tr>\n",
       "\t<tr><th scope=row>s4d9_GGCTATTAGCACGTTG-1</th><td>s4d9_GGCTATTAGCACGTTG-1</td><td>5457</td><td> 821</td><td>K562</td><td>8.604654</td><td>0.150448965</td></tr>\n",
       "\t<tr><th scope=row>s4d9_CTCCTAATCGCTAAGT-1</th><td>s4d9_CTCCTAATCGCTAAGT-1</td><td> 599</td><td>  36</td><td>K562</td><td>6.395262</td><td>0.060100167</td></tr>\n",
       "\t<tr><th scope=row>s4d9_GGTTGCATCTGTAATG-1</th><td>s4d9_GGTTGCATCTGTAATG-1</td><td>6871</td><td>1099</td><td>K562</td><td>8.835065</td><td>0.159947606</td></tr>\n",
       "\t<tr><th scope=row>s4d9_TTAGCAGGTGAATCGC-1</th><td>s4d9_TTAGCAGGTGAATCGC-1</td><td>2949</td><td> 279</td><td>K562</td><td>7.989221</td><td>0.094608342</td></tr>\n",
       "\t<tr><th scope=row>s4d9_CTGGTTACACCACAAC-1</th><td>s4d9_CTGGTTACACCACAAC-1</td><td> 588</td><td>  27</td><td>K562</td><td>6.376727</td><td>0.045918367</td></tr>\n",
       "\t<tr><th scope=row>s4d9_GTCGGTTCACGAATTT-1</th><td>s4d9_GTCGGTTCACGAATTT-1</td><td>1340</td><td> 168</td><td>K562</td><td>7.200425</td><td>0.125373134</td></tr>\n",
       "\t<tr><th scope=row>s4d9_GTGGTTAGTAACTACG-1</th><td>s4d9_GTGGTTAGTAACTACG-1</td><td> 871</td><td>  36</td><td>K562</td><td>6.769642</td><td>0.041331803</td></tr>\n",
       "\t<tr><th scope=row>s4d9_AAGCCTTAGTAAACCC-1</th><td>s4d9_AAGCCTTAGTAAACCC-1</td><td>1807</td><td> 125</td><td>K562</td><td>7.499423</td><td>0.069175429</td></tr>\n",
       "\t<tr><th scope=row>s4d9_ACCCGTAAGCAATAGG-1</th><td>s4d9_ACCCGTAAGCAATAGG-1</td><td>3997</td><td> 520</td><td>K562</td><td>8.293299</td><td>0.130097573</td></tr>\n",
       "\t<tr><th scope=row>s4d9_CTCATGACAGCCGCTA-1</th><td>s4d9_CTCATGACAGCCGCTA-1</td><td>3113</td><td> 330</td><td>K562</td><td>8.043342</td><td>0.106007067</td></tr>\n",
       "\t<tr><th scope=row>s4d9_AAGGCCCTCTAGCGTG-1</th><td>s4d9_AAGGCCCTCTAGCGTG-1</td><td>2045</td><td> 145</td><td>K562</td><td>7.623153</td><td>0.070904645</td></tr>\n",
       "\t<tr><th scope=row>s4d9_TCTAGCCTCTTTAAGG-1</th><td>s4d9_TCTAGCCTCTTTAAGG-1</td><td> 638</td><td>  76</td><td>K562</td><td>6.458338</td><td>0.119122257</td></tr>\n",
       "\t<tr><th scope=row>s4d9_GCTAAGCGTCTCAGCC-1</th><td>s4d9_GCTAAGCGTCTCAGCC-1</td><td>1949</td><td>  80</td><td>K562</td><td>7.575072</td><td>0.041046691</td></tr>\n",
       "\t<tr><th scope=row>s4d9_AGTAAGTAGTAAACCC-1</th><td>s4d9_AGTAAGTAGTAAACCC-1</td><td>1694</td><td>  59</td><td>K562</td><td>7.434848</td><td>0.034828808</td></tr>\n",
       "\t<tr><th scope=row>s4d9_TCCAGGATCACCATTT-1</th><td>s4d9_TCCAGGATCACCATTT-1</td><td> 746</td><td>  67</td><td>K562</td><td>6.614726</td><td>0.089812332</td></tr>\n",
       "\t<tr><th scope=row>s4d9_TAGAGCCGTGAGGTAG-1</th><td>s4d9_TAGAGCCGTGAGGTAG-1</td><td>1032</td><td>  91</td><td>K562</td><td>6.939254</td><td>0.088178295</td></tr>\n",
       "\t<tr><th scope=row>s4d9_CTCATCATCAATCTCT-1</th><td>s4d9_CTCATCATCAATCTCT-1</td><td> 622</td><td>  20</td><td>K562</td><td>6.432940</td><td>0.032154341</td></tr>\n",
       "\t<tr><th scope=row>s4d9_AGGACGTAGTGCACGC-1</th><td>s4d9_AGGACGTAGTGCACGC-1</td><td>1142</td><td> 117</td><td>K562</td><td>7.040536</td><td>0.102451839</td></tr>\n",
       "\t<tr><th scope=row>s4d9_TGCTTGCTCATTGTCT-1</th><td>s4d9_TGCTTGCTCATTGTCT-1</td><td>1897</td><td> 129</td><td>K562</td><td>7.548029</td><td>0.068002109</td></tr>\n",
       "\t<tr><th scope=row>s4d9_TGTAAGCTCGCTAAGT-1</th><td>s4d9_TGTAAGCTCGCTAAGT-1</td><td>2575</td><td> 423</td><td>K562</td><td>7.853605</td><td>0.164271845</td></tr>\n",
       "\t<tr><th scope=row>s4d9_TATGAAGCATTGTGGC-1</th><td>s4d9_TATGAAGCATTGTGGC-1</td><td>1430</td><td>  29</td><td>K562</td><td>7.265430</td><td>0.020279720</td></tr>\n",
       "\t<tr><th scope=row>s4d9_CTCACACTCGGGACCT-1</th><td>s4d9_CTCACACTCGGGACCT-1</td><td>5029</td><td> 919</td><td>K562</td><td>8.522976</td><td>0.182740107</td></tr>\n",
       "\t<tr><th scope=row>s4d9_TCCATCATCGCATTAA-1</th><td>s4d9_TCCATCATCGCATTAA-1</td><td>1341</td><td>  59</td><td>K562</td><td>7.201171</td><td>0.043997017</td></tr>\n",
       "\t<tr><th scope=row>s4d9_CCAGGATGTATTCGTC-1</th><td>s4d9_CCAGGATGTATTCGTC-1</td><td> 802</td><td>  40</td><td>K562</td><td>6.687109</td><td>0.049875312</td></tr>\n",
       "\t<tr><th scope=row>s4d9_TAGCCGGGTAATAGCT-1</th><td>s4d9_TAGCCGGGTAATAGCT-1</td><td>2699</td><td> 455</td><td>K562</td><td>7.900637</td><td>0.168580956</td></tr>\n",
       "</tbody>\n",
       "</table>\n"
      ],
      "text/latex": [
       "A data.frame: 8996 × 6\n",
       "\\begin{tabular}{r|llllll}\n",
       "  & cell & nUMI & nMito & celltype & log.nUMI & percent.mito\\\\\n",
       "  & <chr> & <dbl> & <dbl> & <chr> & <dbl> & <dbl>\\\\\n",
       "\\hline\n",
       "\ts1d1\\_AGCGCCTAGATGGACA-1 & s1d1\\_AGCGCCTAGATGGACA-1 &  2307 &  77 & K562 &  7.743703 & 0.033376680\\\\\n",
       "\ts1d1\\_CCTGAATAGCTTGCTC-1 & s1d1\\_CCTGAATAGCTTGCTC-1 &  3907 &  53 & K562 &  8.270525 & 0.013565395\\\\\n",
       "\ts1d1\\_GGCTGAGAGTATTGCA-1 & s1d1\\_GGCTGAGAGTATTGCA-1 &  2159 &  38 & K562 &  7.677400 & 0.017600741\\\\\n",
       "\ts1d1\\_GGCAATCGTTAGGACC-1 & s1d1\\_GGCAATCGTTAGGACC-1 &  1154 &  30 & K562 &  7.050989 & 0.025996534\\\\\n",
       "\ts1d1\\_AGTTATGTCTCACTCA-1 & s1d1\\_AGTTATGTCTCACTCA-1 &  1534 &  23 & K562 &  7.335634 & 0.014993481\\\\\n",
       "\ts1d1\\_GTTTGTCGTGAATCGC-1 & s1d1\\_GTTTGTCGTGAATCGC-1 &  6050 & 100 & K562 &  8.707814 & 0.016528926\\\\\n",
       "\ts1d1\\_CGCAAATTCTACTAAG-1 & s1d1\\_CGCAAATTCTACTAAG-1 &  4517 & 106 & K562 &  8.415603 & 0.023466903\\\\\n",
       "\ts1d1\\_GGTTTCCTCTTGGACG-1 & s1d1\\_GGTTTCCTCTTGGACG-1 &  2323 &  64 & K562 &  7.750615 & 0.027550581\\\\\n",
       "\ts1d1\\_AATCAGGAGCTGAGGG-1 & s1d1\\_AATCAGGAGCTGAGGG-1 &  1067 &  36 & K562 &  6.972606 & 0.033739456\\\\\n",
       "\ts1d1\\_TGAGTGAAGTTAGTGC-1 & s1d1\\_TGAGTGAAGTTAGTGC-1 &  1908 &  18 & K562 &  7.553811 & 0.009433962\\\\\n",
       "\ts1d1\\_CTTAGTTTCCTTGCGT-1 & s1d1\\_CTTAGTTTCCTTGCGT-1 &  5758 &  55 & K562 &  8.658345 & 0.009551928\\\\\n",
       "\ts1d1\\_GCCTATTGTTAGGTGC-1 & s1d1\\_GCCTATTGTTAGGTGC-1 &  1429 &  25 & K562 &  7.264730 & 0.017494752\\\\\n",
       "\ts1d1\\_ATTAACCCATTAGCCA-1 & s1d1\\_ATTAACCCATTAGCCA-1 & 16645 & 104 & K562 &  9.719865 & 0.006248123\\\\\n",
       "\ts1d1\\_GTTAACCAGTTATTCC-1 & s1d1\\_GTTAACCAGTTATTCC-1 &  1017 &  52 & K562 &  6.924612 & 0.051130777\\\\\n",
       "\ts1d1\\_GTTTCAGCAGCACGTT-1 & s1d1\\_GTTTCAGCAGCACGTT-1 &  1314 &  71 & K562 &  7.180831 & 0.054033486\\\\\n",
       "\ts1d1\\_AATAACCGTCATTGAG-1 & s1d1\\_AATAACCGTCATTGAG-1 &   904 &  38 & K562 &  6.806829 & 0.042035398\\\\\n",
       "\ts1d1\\_TAGGCTAGTGTAACCA-1 & s1d1\\_TAGGCTAGTGTAACCA-1 &  1399 &  26 & K562 &  7.243513 & 0.018584703\\\\\n",
       "\ts1d1\\_CTTCGCGTCGAGCAAA-1 & s1d1\\_CTTCGCGTCGAGCAAA-1 &  2079 &  39 & K562 &  7.639642 & 0.018759019\\\\\n",
       "\ts1d1\\_TCAGGTCCAAACTCAT-1 & s1d1\\_TCAGGTCCAAACTCAT-1 &  1072 &  17 & K562 &  6.977281 & 0.015858209\\\\\n",
       "\ts1d1\\_ATTTGCAAGGCATTAC-1 & s1d1\\_ATTTGCAAGGCATTAC-1 &  8812 & 107 & K562 &  9.083870 & 0.012142533\\\\\n",
       "\ts1d1\\_CTGGATGTCATAACTG-1 & s1d1\\_CTGGATGTCATAACTG-1 &  5023 &  46 & K562 &  8.521783 & 0.009157874\\\\\n",
       "\ts1d1\\_TCATCCATCCTCATCA-1 & s1d1\\_TCATCCATCCTCATCA-1 &  1969 &  77 & K562 &  7.585281 & 0.039106145\\\\\n",
       "\ts1d1\\_TGCTTAAAGCCGCTAA-1 & s1d1\\_TGCTTAAAGCCGCTAA-1 &  1828 &  59 & K562 &  7.510978 & 0.032275711\\\\\n",
       "\ts1d1\\_CAGCCTTTCCTGTTCA-1 & s1d1\\_CAGCCTTTCCTGTTCA-1 &  1547 &  51 & K562 &  7.344073 & 0.032967033\\\\\n",
       "\ts1d1\\_ACGACTTAGCTACTGG-1 & s1d1\\_ACGACTTAGCTACTGG-1 &  3573 &  77 & K562 &  8.181161 & 0.021550518\\\\\n",
       "\ts1d1\\_CCAGCCTGTTAGGACC-1 & s1d1\\_CCAGCCTGTTAGGACC-1 & 22831 & 693 & K562 & 10.035875 & 0.030353467\\\\\n",
       "\ts1d1\\_CTCTGTTCAAACTGTT-1 & s1d1\\_CTCTGTTCAAACTGTT-1 &  2923 &  95 & K562 &  7.980366 & 0.032500855\\\\\n",
       "\ts1d1\\_GTTTCTAGTCATCATC-1 & s1d1\\_GTTTCTAGTCATCATC-1 &  3606 &  38 & K562 &  8.190354 & 0.010537992\\\\\n",
       "\ts1d1\\_TGATGATGTGCAACTA-1 & s1d1\\_TGATGATGTGCAACTA-1 &   992 &  45 & K562 &  6.899723 & 0.045362903\\\\\n",
       "\ts1d1\\_GCGCTTGCAATCCCTT-1 & s1d1\\_GCGCTTGCAATCCCTT-1 &  2594 &  55 & K562 &  7.860956 & 0.021202776\\\\\n",
       "\t⋮ & ⋮ & ⋮ & ⋮ & ⋮ & ⋮ & ⋮\\\\\n",
       "\ts4d9\\_ATTTGTGAGGCGCACT-1 & s4d9\\_ATTTGTGAGGCGCACT-1 & 2371 &  233 & K562 & 7.771067 & 0.098270772\\\\\n",
       "\ts4d9\\_GGTTAATGTGCAACTA-1 & s4d9\\_GGTTAATGTGCAACTA-1 &  849 &    1 & K562 & 6.744059 & 0.001177856\\\\\n",
       "\ts4d9\\_TATTCGTTCAATGTCA-1 & s4d9\\_TATTCGTTCAATGTCA-1 & 1183 &   35 & K562 & 7.075809 & 0.029585799\\\\\n",
       "\ts4d9\\_CGGAGTCTCCAGGTTG-1 & s4d9\\_CGGAGTCTCCAGGTTG-1 &  682 &   42 & K562 & 6.525030 & 0.061583578\\\\\n",
       "\ts4d9\\_ATGGCTTAGGAGGCAT-1 & s4d9\\_ATGGCTTAGGAGGCAT-1 & 2095 &    6 & K562 & 7.647309 & 0.002863962\\\\\n",
       "\ts4d9\\_GGCTATTAGCACGTTG-1 & s4d9\\_GGCTATTAGCACGTTG-1 & 5457 &  821 & K562 & 8.604654 & 0.150448965\\\\\n",
       "\ts4d9\\_CTCCTAATCGCTAAGT-1 & s4d9\\_CTCCTAATCGCTAAGT-1 &  599 &   36 & K562 & 6.395262 & 0.060100167\\\\\n",
       "\ts4d9\\_GGTTGCATCTGTAATG-1 & s4d9\\_GGTTGCATCTGTAATG-1 & 6871 & 1099 & K562 & 8.835065 & 0.159947606\\\\\n",
       "\ts4d9\\_TTAGCAGGTGAATCGC-1 & s4d9\\_TTAGCAGGTGAATCGC-1 & 2949 &  279 & K562 & 7.989221 & 0.094608342\\\\\n",
       "\ts4d9\\_CTGGTTACACCACAAC-1 & s4d9\\_CTGGTTACACCACAAC-1 &  588 &   27 & K562 & 6.376727 & 0.045918367\\\\\n",
       "\ts4d9\\_GTCGGTTCACGAATTT-1 & s4d9\\_GTCGGTTCACGAATTT-1 & 1340 &  168 & K562 & 7.200425 & 0.125373134\\\\\n",
       "\ts4d9\\_GTGGTTAGTAACTACG-1 & s4d9\\_GTGGTTAGTAACTACG-1 &  871 &   36 & K562 & 6.769642 & 0.041331803\\\\\n",
       "\ts4d9\\_AAGCCTTAGTAAACCC-1 & s4d9\\_AAGCCTTAGTAAACCC-1 & 1807 &  125 & K562 & 7.499423 & 0.069175429\\\\\n",
       "\ts4d9\\_ACCCGTAAGCAATAGG-1 & s4d9\\_ACCCGTAAGCAATAGG-1 & 3997 &  520 & K562 & 8.293299 & 0.130097573\\\\\n",
       "\ts4d9\\_CTCATGACAGCCGCTA-1 & s4d9\\_CTCATGACAGCCGCTA-1 & 3113 &  330 & K562 & 8.043342 & 0.106007067\\\\\n",
       "\ts4d9\\_AAGGCCCTCTAGCGTG-1 & s4d9\\_AAGGCCCTCTAGCGTG-1 & 2045 &  145 & K562 & 7.623153 & 0.070904645\\\\\n",
       "\ts4d9\\_TCTAGCCTCTTTAAGG-1 & s4d9\\_TCTAGCCTCTTTAAGG-1 &  638 &   76 & K562 & 6.458338 & 0.119122257\\\\\n",
       "\ts4d9\\_GCTAAGCGTCTCAGCC-1 & s4d9\\_GCTAAGCGTCTCAGCC-1 & 1949 &   80 & K562 & 7.575072 & 0.041046691\\\\\n",
       "\ts4d9\\_AGTAAGTAGTAAACCC-1 & s4d9\\_AGTAAGTAGTAAACCC-1 & 1694 &   59 & K562 & 7.434848 & 0.034828808\\\\\n",
       "\ts4d9\\_TCCAGGATCACCATTT-1 & s4d9\\_TCCAGGATCACCATTT-1 &  746 &   67 & K562 & 6.614726 & 0.089812332\\\\\n",
       "\ts4d9\\_TAGAGCCGTGAGGTAG-1 & s4d9\\_TAGAGCCGTGAGGTAG-1 & 1032 &   91 & K562 & 6.939254 & 0.088178295\\\\\n",
       "\ts4d9\\_CTCATCATCAATCTCT-1 & s4d9\\_CTCATCATCAATCTCT-1 &  622 &   20 & K562 & 6.432940 & 0.032154341\\\\\n",
       "\ts4d9\\_AGGACGTAGTGCACGC-1 & s4d9\\_AGGACGTAGTGCACGC-1 & 1142 &  117 & K562 & 7.040536 & 0.102451839\\\\\n",
       "\ts4d9\\_TGCTTGCTCATTGTCT-1 & s4d9\\_TGCTTGCTCATTGTCT-1 & 1897 &  129 & K562 & 7.548029 & 0.068002109\\\\\n",
       "\ts4d9\\_TGTAAGCTCGCTAAGT-1 & s4d9\\_TGTAAGCTCGCTAAGT-1 & 2575 &  423 & K562 & 7.853605 & 0.164271845\\\\\n",
       "\ts4d9\\_TATGAAGCATTGTGGC-1 & s4d9\\_TATGAAGCATTGTGGC-1 & 1430 &   29 & K562 & 7.265430 & 0.020279720\\\\\n",
       "\ts4d9\\_CTCACACTCGGGACCT-1 & s4d9\\_CTCACACTCGGGACCT-1 & 5029 &  919 & K562 & 8.522976 & 0.182740107\\\\\n",
       "\ts4d9\\_TCCATCATCGCATTAA-1 & s4d9\\_TCCATCATCGCATTAA-1 & 1341 &   59 & K562 & 7.201171 & 0.043997017\\\\\n",
       "\ts4d9\\_CCAGGATGTATTCGTC-1 & s4d9\\_CCAGGATGTATTCGTC-1 &  802 &   40 & K562 & 6.687109 & 0.049875312\\\\\n",
       "\ts4d9\\_TAGCCGGGTAATAGCT-1 & s4d9\\_TAGCCGGGTAATAGCT-1 & 2699 &  455 & K562 & 7.900637 & 0.168580956\\\\\n",
       "\\end{tabular}\n"
      ],
      "text/markdown": [
       "\n",
       "A data.frame: 8996 × 6\n",
       "\n",
       "| <!--/--> | cell &lt;chr&gt; | nUMI &lt;dbl&gt; | nMito &lt;dbl&gt; | celltype &lt;chr&gt; | log.nUMI &lt;dbl&gt; | percent.mito &lt;dbl&gt; |\n",
       "|---|---|---|---|---|---|---|\n",
       "| s1d1_AGCGCCTAGATGGACA-1 | s1d1_AGCGCCTAGATGGACA-1 |  2307 |  77 | K562 |  7.743703 | 0.033376680 |\n",
       "| s1d1_CCTGAATAGCTTGCTC-1 | s1d1_CCTGAATAGCTTGCTC-1 |  3907 |  53 | K562 |  8.270525 | 0.013565395 |\n",
       "| s1d1_GGCTGAGAGTATTGCA-1 | s1d1_GGCTGAGAGTATTGCA-1 |  2159 |  38 | K562 |  7.677400 | 0.017600741 |\n",
       "| s1d1_GGCAATCGTTAGGACC-1 | s1d1_GGCAATCGTTAGGACC-1 |  1154 |  30 | K562 |  7.050989 | 0.025996534 |\n",
       "| s1d1_AGTTATGTCTCACTCA-1 | s1d1_AGTTATGTCTCACTCA-1 |  1534 |  23 | K562 |  7.335634 | 0.014993481 |\n",
       "| s1d1_GTTTGTCGTGAATCGC-1 | s1d1_GTTTGTCGTGAATCGC-1 |  6050 | 100 | K562 |  8.707814 | 0.016528926 |\n",
       "| s1d1_CGCAAATTCTACTAAG-1 | s1d1_CGCAAATTCTACTAAG-1 |  4517 | 106 | K562 |  8.415603 | 0.023466903 |\n",
       "| s1d1_GGTTTCCTCTTGGACG-1 | s1d1_GGTTTCCTCTTGGACG-1 |  2323 |  64 | K562 |  7.750615 | 0.027550581 |\n",
       "| s1d1_AATCAGGAGCTGAGGG-1 | s1d1_AATCAGGAGCTGAGGG-1 |  1067 |  36 | K562 |  6.972606 | 0.033739456 |\n",
       "| s1d1_TGAGTGAAGTTAGTGC-1 | s1d1_TGAGTGAAGTTAGTGC-1 |  1908 |  18 | K562 |  7.553811 | 0.009433962 |\n",
       "| s1d1_CTTAGTTTCCTTGCGT-1 | s1d1_CTTAGTTTCCTTGCGT-1 |  5758 |  55 | K562 |  8.658345 | 0.009551928 |\n",
       "| s1d1_GCCTATTGTTAGGTGC-1 | s1d1_GCCTATTGTTAGGTGC-1 |  1429 |  25 | K562 |  7.264730 | 0.017494752 |\n",
       "| s1d1_ATTAACCCATTAGCCA-1 | s1d1_ATTAACCCATTAGCCA-1 | 16645 | 104 | K562 |  9.719865 | 0.006248123 |\n",
       "| s1d1_GTTAACCAGTTATTCC-1 | s1d1_GTTAACCAGTTATTCC-1 |  1017 |  52 | K562 |  6.924612 | 0.051130777 |\n",
       "| s1d1_GTTTCAGCAGCACGTT-1 | s1d1_GTTTCAGCAGCACGTT-1 |  1314 |  71 | K562 |  7.180831 | 0.054033486 |\n",
       "| s1d1_AATAACCGTCATTGAG-1 | s1d1_AATAACCGTCATTGAG-1 |   904 |  38 | K562 |  6.806829 | 0.042035398 |\n",
       "| s1d1_TAGGCTAGTGTAACCA-1 | s1d1_TAGGCTAGTGTAACCA-1 |  1399 |  26 | K562 |  7.243513 | 0.018584703 |\n",
       "| s1d1_CTTCGCGTCGAGCAAA-1 | s1d1_CTTCGCGTCGAGCAAA-1 |  2079 |  39 | K562 |  7.639642 | 0.018759019 |\n",
       "| s1d1_TCAGGTCCAAACTCAT-1 | s1d1_TCAGGTCCAAACTCAT-1 |  1072 |  17 | K562 |  6.977281 | 0.015858209 |\n",
       "| s1d1_ATTTGCAAGGCATTAC-1 | s1d1_ATTTGCAAGGCATTAC-1 |  8812 | 107 | K562 |  9.083870 | 0.012142533 |\n",
       "| s1d1_CTGGATGTCATAACTG-1 | s1d1_CTGGATGTCATAACTG-1 |  5023 |  46 | K562 |  8.521783 | 0.009157874 |\n",
       "| s1d1_TCATCCATCCTCATCA-1 | s1d1_TCATCCATCCTCATCA-1 |  1969 |  77 | K562 |  7.585281 | 0.039106145 |\n",
       "| s1d1_TGCTTAAAGCCGCTAA-1 | s1d1_TGCTTAAAGCCGCTAA-1 |  1828 |  59 | K562 |  7.510978 | 0.032275711 |\n",
       "| s1d1_CAGCCTTTCCTGTTCA-1 | s1d1_CAGCCTTTCCTGTTCA-1 |  1547 |  51 | K562 |  7.344073 | 0.032967033 |\n",
       "| s1d1_ACGACTTAGCTACTGG-1 | s1d1_ACGACTTAGCTACTGG-1 |  3573 |  77 | K562 |  8.181161 | 0.021550518 |\n",
       "| s1d1_CCAGCCTGTTAGGACC-1 | s1d1_CCAGCCTGTTAGGACC-1 | 22831 | 693 | K562 | 10.035875 | 0.030353467 |\n",
       "| s1d1_CTCTGTTCAAACTGTT-1 | s1d1_CTCTGTTCAAACTGTT-1 |  2923 |  95 | K562 |  7.980366 | 0.032500855 |\n",
       "| s1d1_GTTTCTAGTCATCATC-1 | s1d1_GTTTCTAGTCATCATC-1 |  3606 |  38 | K562 |  8.190354 | 0.010537992 |\n",
       "| s1d1_TGATGATGTGCAACTA-1 | s1d1_TGATGATGTGCAACTA-1 |   992 |  45 | K562 |  6.899723 | 0.045362903 |\n",
       "| s1d1_GCGCTTGCAATCCCTT-1 | s1d1_GCGCTTGCAATCCCTT-1 |  2594 |  55 | K562 |  7.860956 | 0.021202776 |\n",
       "| ⋮ | ⋮ | ⋮ | ⋮ | ⋮ | ⋮ | ⋮ |\n",
       "| s4d9_ATTTGTGAGGCGCACT-1 | s4d9_ATTTGTGAGGCGCACT-1 | 2371 |  233 | K562 | 7.771067 | 0.098270772 |\n",
       "| s4d9_GGTTAATGTGCAACTA-1 | s4d9_GGTTAATGTGCAACTA-1 |  849 |    1 | K562 | 6.744059 | 0.001177856 |\n",
       "| s4d9_TATTCGTTCAATGTCA-1 | s4d9_TATTCGTTCAATGTCA-1 | 1183 |   35 | K562 | 7.075809 | 0.029585799 |\n",
       "| s4d9_CGGAGTCTCCAGGTTG-1 | s4d9_CGGAGTCTCCAGGTTG-1 |  682 |   42 | K562 | 6.525030 | 0.061583578 |\n",
       "| s4d9_ATGGCTTAGGAGGCAT-1 | s4d9_ATGGCTTAGGAGGCAT-1 | 2095 |    6 | K562 | 7.647309 | 0.002863962 |\n",
       "| s4d9_GGCTATTAGCACGTTG-1 | s4d9_GGCTATTAGCACGTTG-1 | 5457 |  821 | K562 | 8.604654 | 0.150448965 |\n",
       "| s4d9_CTCCTAATCGCTAAGT-1 | s4d9_CTCCTAATCGCTAAGT-1 |  599 |   36 | K562 | 6.395262 | 0.060100167 |\n",
       "| s4d9_GGTTGCATCTGTAATG-1 | s4d9_GGTTGCATCTGTAATG-1 | 6871 | 1099 | K562 | 8.835065 | 0.159947606 |\n",
       "| s4d9_TTAGCAGGTGAATCGC-1 | s4d9_TTAGCAGGTGAATCGC-1 | 2949 |  279 | K562 | 7.989221 | 0.094608342 |\n",
       "| s4d9_CTGGTTACACCACAAC-1 | s4d9_CTGGTTACACCACAAC-1 |  588 |   27 | K562 | 6.376727 | 0.045918367 |\n",
       "| s4d9_GTCGGTTCACGAATTT-1 | s4d9_GTCGGTTCACGAATTT-1 | 1340 |  168 | K562 | 7.200425 | 0.125373134 |\n",
       "| s4d9_GTGGTTAGTAACTACG-1 | s4d9_GTGGTTAGTAACTACG-1 |  871 |   36 | K562 | 6.769642 | 0.041331803 |\n",
       "| s4d9_AAGCCTTAGTAAACCC-1 | s4d9_AAGCCTTAGTAAACCC-1 | 1807 |  125 | K562 | 7.499423 | 0.069175429 |\n",
       "| s4d9_ACCCGTAAGCAATAGG-1 | s4d9_ACCCGTAAGCAATAGG-1 | 3997 |  520 | K562 | 8.293299 | 0.130097573 |\n",
       "| s4d9_CTCATGACAGCCGCTA-1 | s4d9_CTCATGACAGCCGCTA-1 | 3113 |  330 | K562 | 8.043342 | 0.106007067 |\n",
       "| s4d9_AAGGCCCTCTAGCGTG-1 | s4d9_AAGGCCCTCTAGCGTG-1 | 2045 |  145 | K562 | 7.623153 | 0.070904645 |\n",
       "| s4d9_TCTAGCCTCTTTAAGG-1 | s4d9_TCTAGCCTCTTTAAGG-1 |  638 |   76 | K562 | 6.458338 | 0.119122257 |\n",
       "| s4d9_GCTAAGCGTCTCAGCC-1 | s4d9_GCTAAGCGTCTCAGCC-1 | 1949 |   80 | K562 | 7.575072 | 0.041046691 |\n",
       "| s4d9_AGTAAGTAGTAAACCC-1 | s4d9_AGTAAGTAGTAAACCC-1 | 1694 |   59 | K562 | 7.434848 | 0.034828808 |\n",
       "| s4d9_TCCAGGATCACCATTT-1 | s4d9_TCCAGGATCACCATTT-1 |  746 |   67 | K562 | 6.614726 | 0.089812332 |\n",
       "| s4d9_TAGAGCCGTGAGGTAG-1 | s4d9_TAGAGCCGTGAGGTAG-1 | 1032 |   91 | K562 | 6.939254 | 0.088178295 |\n",
       "| s4d9_CTCATCATCAATCTCT-1 | s4d9_CTCATCATCAATCTCT-1 |  622 |   20 | K562 | 6.432940 | 0.032154341 |\n",
       "| s4d9_AGGACGTAGTGCACGC-1 | s4d9_AGGACGTAGTGCACGC-1 | 1142 |  117 | K562 | 7.040536 | 0.102451839 |\n",
       "| s4d9_TGCTTGCTCATTGTCT-1 | s4d9_TGCTTGCTCATTGTCT-1 | 1897 |  129 | K562 | 7.548029 | 0.068002109 |\n",
       "| s4d9_TGTAAGCTCGCTAAGT-1 | s4d9_TGTAAGCTCGCTAAGT-1 | 2575 |  423 | K562 | 7.853605 | 0.164271845 |\n",
       "| s4d9_TATGAAGCATTGTGGC-1 | s4d9_TATGAAGCATTGTGGC-1 | 1430 |   29 | K562 | 7.265430 | 0.020279720 |\n",
       "| s4d9_CTCACACTCGGGACCT-1 | s4d9_CTCACACTCGGGACCT-1 | 5029 |  919 | K562 | 8.522976 | 0.182740107 |\n",
       "| s4d9_TCCATCATCGCATTAA-1 | s4d9_TCCATCATCGCATTAA-1 | 1341 |   59 | K562 | 7.201171 | 0.043997017 |\n",
       "| s4d9_CCAGGATGTATTCGTC-1 | s4d9_CCAGGATGTATTCGTC-1 |  802 |   40 | K562 | 6.687109 | 0.049875312 |\n",
       "| s4d9_TAGCCGGGTAATAGCT-1 | s4d9_TAGCCGGGTAATAGCT-1 | 2699 |  455 | K562 | 7.900637 | 0.168580956 |\n",
       "\n"
      ],
      "text/plain": [
       "                        cell                    nUMI  nMito celltype log.nUMI \n",
       "s1d1_AGCGCCTAGATGGACA-1 s1d1_AGCGCCTAGATGGACA-1  2307  77   K562      7.743703\n",
       "s1d1_CCTGAATAGCTTGCTC-1 s1d1_CCTGAATAGCTTGCTC-1  3907  53   K562      8.270525\n",
       "s1d1_GGCTGAGAGTATTGCA-1 s1d1_GGCTGAGAGTATTGCA-1  2159  38   K562      7.677400\n",
       "s1d1_GGCAATCGTTAGGACC-1 s1d1_GGCAATCGTTAGGACC-1  1154  30   K562      7.050989\n",
       "s1d1_AGTTATGTCTCACTCA-1 s1d1_AGTTATGTCTCACTCA-1  1534  23   K562      7.335634\n",
       "s1d1_GTTTGTCGTGAATCGC-1 s1d1_GTTTGTCGTGAATCGC-1  6050 100   K562      8.707814\n",
       "s1d1_CGCAAATTCTACTAAG-1 s1d1_CGCAAATTCTACTAAG-1  4517 106   K562      8.415603\n",
       "s1d1_GGTTTCCTCTTGGACG-1 s1d1_GGTTTCCTCTTGGACG-1  2323  64   K562      7.750615\n",
       "s1d1_AATCAGGAGCTGAGGG-1 s1d1_AATCAGGAGCTGAGGG-1  1067  36   K562      6.972606\n",
       "s1d1_TGAGTGAAGTTAGTGC-1 s1d1_TGAGTGAAGTTAGTGC-1  1908  18   K562      7.553811\n",
       "s1d1_CTTAGTTTCCTTGCGT-1 s1d1_CTTAGTTTCCTTGCGT-1  5758  55   K562      8.658345\n",
       "s1d1_GCCTATTGTTAGGTGC-1 s1d1_GCCTATTGTTAGGTGC-1  1429  25   K562      7.264730\n",
       "s1d1_ATTAACCCATTAGCCA-1 s1d1_ATTAACCCATTAGCCA-1 16645 104   K562      9.719865\n",
       "s1d1_GTTAACCAGTTATTCC-1 s1d1_GTTAACCAGTTATTCC-1  1017  52   K562      6.924612\n",
       "s1d1_GTTTCAGCAGCACGTT-1 s1d1_GTTTCAGCAGCACGTT-1  1314  71   K562      7.180831\n",
       "s1d1_AATAACCGTCATTGAG-1 s1d1_AATAACCGTCATTGAG-1   904  38   K562      6.806829\n",
       "s1d1_TAGGCTAGTGTAACCA-1 s1d1_TAGGCTAGTGTAACCA-1  1399  26   K562      7.243513\n",
       "s1d1_CTTCGCGTCGAGCAAA-1 s1d1_CTTCGCGTCGAGCAAA-1  2079  39   K562      7.639642\n",
       "s1d1_TCAGGTCCAAACTCAT-1 s1d1_TCAGGTCCAAACTCAT-1  1072  17   K562      6.977281\n",
       "s1d1_ATTTGCAAGGCATTAC-1 s1d1_ATTTGCAAGGCATTAC-1  8812 107   K562      9.083870\n",
       "s1d1_CTGGATGTCATAACTG-1 s1d1_CTGGATGTCATAACTG-1  5023  46   K562      8.521783\n",
       "s1d1_TCATCCATCCTCATCA-1 s1d1_TCATCCATCCTCATCA-1  1969  77   K562      7.585281\n",
       "s1d1_TGCTTAAAGCCGCTAA-1 s1d1_TGCTTAAAGCCGCTAA-1  1828  59   K562      7.510978\n",
       "s1d1_CAGCCTTTCCTGTTCA-1 s1d1_CAGCCTTTCCTGTTCA-1  1547  51   K562      7.344073\n",
       "s1d1_ACGACTTAGCTACTGG-1 s1d1_ACGACTTAGCTACTGG-1  3573  77   K562      8.181161\n",
       "s1d1_CCAGCCTGTTAGGACC-1 s1d1_CCAGCCTGTTAGGACC-1 22831 693   K562     10.035875\n",
       "s1d1_CTCTGTTCAAACTGTT-1 s1d1_CTCTGTTCAAACTGTT-1  2923  95   K562      7.980366\n",
       "s1d1_GTTTCTAGTCATCATC-1 s1d1_GTTTCTAGTCATCATC-1  3606  38   K562      8.190354\n",
       "s1d1_TGATGATGTGCAACTA-1 s1d1_TGATGATGTGCAACTA-1   992  45   K562      6.899723\n",
       "s1d1_GCGCTTGCAATCCCTT-1 s1d1_GCGCTTGCAATCCCTT-1  2594  55   K562      7.860956\n",
       "⋮                       ⋮                       ⋮     ⋮     ⋮        ⋮        \n",
       "s4d9_ATTTGTGAGGCGCACT-1 s4d9_ATTTGTGAGGCGCACT-1 2371   233  K562     7.771067 \n",
       "s4d9_GGTTAATGTGCAACTA-1 s4d9_GGTTAATGTGCAACTA-1  849     1  K562     6.744059 \n",
       "s4d9_TATTCGTTCAATGTCA-1 s4d9_TATTCGTTCAATGTCA-1 1183    35  K562     7.075809 \n",
       "s4d9_CGGAGTCTCCAGGTTG-1 s4d9_CGGAGTCTCCAGGTTG-1  682    42  K562     6.525030 \n",
       "s4d9_ATGGCTTAGGAGGCAT-1 s4d9_ATGGCTTAGGAGGCAT-1 2095     6  K562     7.647309 \n",
       "s4d9_GGCTATTAGCACGTTG-1 s4d9_GGCTATTAGCACGTTG-1 5457   821  K562     8.604654 \n",
       "s4d9_CTCCTAATCGCTAAGT-1 s4d9_CTCCTAATCGCTAAGT-1  599    36  K562     6.395262 \n",
       "s4d9_GGTTGCATCTGTAATG-1 s4d9_GGTTGCATCTGTAATG-1 6871  1099  K562     8.835065 \n",
       "s4d9_TTAGCAGGTGAATCGC-1 s4d9_TTAGCAGGTGAATCGC-1 2949   279  K562     7.989221 \n",
       "s4d9_CTGGTTACACCACAAC-1 s4d9_CTGGTTACACCACAAC-1  588    27  K562     6.376727 \n",
       "s4d9_GTCGGTTCACGAATTT-1 s4d9_GTCGGTTCACGAATTT-1 1340   168  K562     7.200425 \n",
       "s4d9_GTGGTTAGTAACTACG-1 s4d9_GTGGTTAGTAACTACG-1  871    36  K562     6.769642 \n",
       "s4d9_AAGCCTTAGTAAACCC-1 s4d9_AAGCCTTAGTAAACCC-1 1807   125  K562     7.499423 \n",
       "s4d9_ACCCGTAAGCAATAGG-1 s4d9_ACCCGTAAGCAATAGG-1 3997   520  K562     8.293299 \n",
       "s4d9_CTCATGACAGCCGCTA-1 s4d9_CTCATGACAGCCGCTA-1 3113   330  K562     8.043342 \n",
       "s4d9_AAGGCCCTCTAGCGTG-1 s4d9_AAGGCCCTCTAGCGTG-1 2045   145  K562     7.623153 \n",
       "s4d9_TCTAGCCTCTTTAAGG-1 s4d9_TCTAGCCTCTTTAAGG-1  638    76  K562     6.458338 \n",
       "s4d9_GCTAAGCGTCTCAGCC-1 s4d9_GCTAAGCGTCTCAGCC-1 1949    80  K562     7.575072 \n",
       "s4d9_AGTAAGTAGTAAACCC-1 s4d9_AGTAAGTAGTAAACCC-1 1694    59  K562     7.434848 \n",
       "s4d9_TCCAGGATCACCATTT-1 s4d9_TCCAGGATCACCATTT-1  746    67  K562     6.614726 \n",
       "s4d9_TAGAGCCGTGAGGTAG-1 s4d9_TAGAGCCGTGAGGTAG-1 1032    91  K562     6.939254 \n",
       "s4d9_CTCATCATCAATCTCT-1 s4d9_CTCATCATCAATCTCT-1  622    20  K562     6.432940 \n",
       "s4d9_AGGACGTAGTGCACGC-1 s4d9_AGGACGTAGTGCACGC-1 1142   117  K562     7.040536 \n",
       "s4d9_TGCTTGCTCATTGTCT-1 s4d9_TGCTTGCTCATTGTCT-1 1897   129  K562     7.548029 \n",
       "s4d9_TGTAAGCTCGCTAAGT-1 s4d9_TGTAAGCTCGCTAAGT-1 2575   423  K562     7.853605 \n",
       "s4d9_TATGAAGCATTGTGGC-1 s4d9_TATGAAGCATTGTGGC-1 1430    29  K562     7.265430 \n",
       "s4d9_CTCACACTCGGGACCT-1 s4d9_CTCACACTCGGGACCT-1 5029   919  K562     8.522976 \n",
       "s4d9_TCCATCATCGCATTAA-1 s4d9_TCCATCATCGCATTAA-1 1341    59  K562     7.201171 \n",
       "s4d9_CCAGGATGTATTCGTC-1 s4d9_CCAGGATGTATTCGTC-1  802    40  K562     6.687109 \n",
       "s4d9_TAGCCGGGTAATAGCT-1 s4d9_TAGCCGGGTAATAGCT-1 2699   455  K562     7.900637 \n",
       "                        percent.mito\n",
       "s1d1_AGCGCCTAGATGGACA-1 0.033376680 \n",
       "s1d1_CCTGAATAGCTTGCTC-1 0.013565395 \n",
       "s1d1_GGCTGAGAGTATTGCA-1 0.017600741 \n",
       "s1d1_GGCAATCGTTAGGACC-1 0.025996534 \n",
       "s1d1_AGTTATGTCTCACTCA-1 0.014993481 \n",
       "s1d1_GTTTGTCGTGAATCGC-1 0.016528926 \n",
       "s1d1_CGCAAATTCTACTAAG-1 0.023466903 \n",
       "s1d1_GGTTTCCTCTTGGACG-1 0.027550581 \n",
       "s1d1_AATCAGGAGCTGAGGG-1 0.033739456 \n",
       "s1d1_TGAGTGAAGTTAGTGC-1 0.009433962 \n",
       "s1d1_CTTAGTTTCCTTGCGT-1 0.009551928 \n",
       "s1d1_GCCTATTGTTAGGTGC-1 0.017494752 \n",
       "s1d1_ATTAACCCATTAGCCA-1 0.006248123 \n",
       "s1d1_GTTAACCAGTTATTCC-1 0.051130777 \n",
       "s1d1_GTTTCAGCAGCACGTT-1 0.054033486 \n",
       "s1d1_AATAACCGTCATTGAG-1 0.042035398 \n",
       "s1d1_TAGGCTAGTGTAACCA-1 0.018584703 \n",
       "s1d1_CTTCGCGTCGAGCAAA-1 0.018759019 \n",
       "s1d1_TCAGGTCCAAACTCAT-1 0.015858209 \n",
       "s1d1_ATTTGCAAGGCATTAC-1 0.012142533 \n",
       "s1d1_CTGGATGTCATAACTG-1 0.009157874 \n",
       "s1d1_TCATCCATCCTCATCA-1 0.039106145 \n",
       "s1d1_TGCTTAAAGCCGCTAA-1 0.032275711 \n",
       "s1d1_CAGCCTTTCCTGTTCA-1 0.032967033 \n",
       "s1d1_ACGACTTAGCTACTGG-1 0.021550518 \n",
       "s1d1_CCAGCCTGTTAGGACC-1 0.030353467 \n",
       "s1d1_CTCTGTTCAAACTGTT-1 0.032500855 \n",
       "s1d1_GTTTCTAGTCATCATC-1 0.010537992 \n",
       "s1d1_TGATGATGTGCAACTA-1 0.045362903 \n",
       "s1d1_GCGCTTGCAATCCCTT-1 0.021202776 \n",
       "⋮                       ⋮           \n",
       "s4d9_ATTTGTGAGGCGCACT-1 0.098270772 \n",
       "s4d9_GGTTAATGTGCAACTA-1 0.001177856 \n",
       "s4d9_TATTCGTTCAATGTCA-1 0.029585799 \n",
       "s4d9_CGGAGTCTCCAGGTTG-1 0.061583578 \n",
       "s4d9_ATGGCTTAGGAGGCAT-1 0.002863962 \n",
       "s4d9_GGCTATTAGCACGTTG-1 0.150448965 \n",
       "s4d9_CTCCTAATCGCTAAGT-1 0.060100167 \n",
       "s4d9_GGTTGCATCTGTAATG-1 0.159947606 \n",
       "s4d9_TTAGCAGGTGAATCGC-1 0.094608342 \n",
       "s4d9_CTGGTTACACCACAAC-1 0.045918367 \n",
       "s4d9_GTCGGTTCACGAATTT-1 0.125373134 \n",
       "s4d9_GTGGTTAGTAACTACG-1 0.041331803 \n",
       "s4d9_AAGCCTTAGTAAACCC-1 0.069175429 \n",
       "s4d9_ACCCGTAAGCAATAGG-1 0.130097573 \n",
       "s4d9_CTCATGACAGCCGCTA-1 0.106007067 \n",
       "s4d9_AAGGCCCTCTAGCGTG-1 0.070904645 \n",
       "s4d9_TCTAGCCTCTTTAAGG-1 0.119122257 \n",
       "s4d9_GCTAAGCGTCTCAGCC-1 0.041046691 \n",
       "s4d9_AGTAAGTAGTAAACCC-1 0.034828808 \n",
       "s4d9_TCCAGGATCACCATTT-1 0.089812332 \n",
       "s4d9_TAGAGCCGTGAGGTAG-1 0.088178295 \n",
       "s4d9_CTCATCATCAATCTCT-1 0.032154341 \n",
       "s4d9_AGGACGTAGTGCACGC-1 0.102451839 \n",
       "s4d9_TGCTTGCTCATTGTCT-1 0.068002109 \n",
       "s4d9_TGTAAGCTCGCTAAGT-1 0.164271845 \n",
       "s4d9_TATGAAGCATTGTGGC-1 0.020279720 \n",
       "s4d9_CTCACACTCGGGACCT-1 0.182740107 \n",
       "s4d9_TCCATCATCGCATTAA-1 0.043997017 \n",
       "s4d9_CCAGGATGTATTCGTC-1 0.049875312 \n",
       "s4d9_TAGCCGGGTAATAGCT-1 0.168580956 "
      ]
     },
     "metadata": {},
     "output_type": "display_data"
    }
   ],
   "source": [
    "meta.data = data.frame(cell = colnames(matrix.rna),\n",
    "                       nUMI = colSums(matrix.rna),\n",
    "                       nMito = colSums(matrix.rna[grep(\"MT-\",rownames(matrix.rna)),]),\n",
    "                       celltype = \"K562\")\n",
    "meta.data[,\"log.nUMI\"] = log(meta.data[,\"nUMI\"])\n",
    "meta.data[,\"percent.mito\"] = meta.data[,\"nMito\"] / meta.data[,\"nUMI\"]\n",
    "meta.data"
   ]
  },
  {
   "cell_type": "markdown",
   "id": "b823cb4a-3ce6-40b1-9a0d-d5d1e4aa3912",
   "metadata": {},
   "source": [
    "RUN SCENT prediction"
   ]
  },
  {
   "cell_type": "code",
   "execution_count": 14,
   "id": "f46765dc-9de5-4411-9288-40b59435f9fb",
   "metadata": {},
   "outputs": [],
   "source": [
    "RhpcBLASctl::blas_set_num_threads(1)\n",
    "SCENT_algorithm.modified = function (object, \n",
    "                                     # celltype, \n",
    "                                     # ncores, \n",
    "                                     # regr = \"poisson\", \n",
    "                                     # bin = TRUE) \n",
    "                                     regr = \"poisson\") {\n",
    "    res <- data.frame()\n",
    "    for (n in 1:nrow(object@peak.info)) {        \n",
    "        gene <- object@peak.info[n, 1]\n",
    "        this_peak <- object@peak.info[n, 2]\n",
    "        atac_target <- data.frame(cell = colnames(object@atac), \n",
    "            atac = object@atac[this_peak, ])\n",
    "        # if (bin) {\n",
    "        #     atac_target[atac_target$atac > 0, ]$atac <- 1\n",
    "        # }\n",
    "        mrna_target <- object@rna[gene, ]\n",
    "        df <- data.frame(cell = names(mrna_target), exprs = as.numeric(mrna_target))\n",
    "        df <- merge(df, atac_target, by = \"cell\")\n",
    "        df <- merge(df, object@meta.data, by = \"cell\")\n",
    "        # df2 <- df[df[[object@celltypes]] == celltype, ]\n",
    "        df2 <- df\n",
    "        nonzero_m <- length(df2$exprs[df2$exprs > 0])/length(df2$exprs)\n",
    "        nonzero_a <- length(df2$atac[df2$atac > 0])/length(df2$atac)\n",
    "        if (nonzero_m > 0.05 & nonzero_a > 0.05) {\n",
    "            res_var <- \"exprs\"\n",
    "            pred_var <- c(\"atac\", object@covariates)\n",
    "            formula <- as.formula(paste(res_var, paste(pred_var, \n",
    "                collapse = \"+\"), sep = \"~\"))\n",
    "            if (regr == \"poisson\") {\n",
    "                base = glm(formula, family = \"poisson\", data = df2)\n",
    "                coefs <- summary(base)$coefficients[\"atac\", ]\n",
    "                # assoc <- assoc_poisson\n",
    "                assoc <- SCENT::assoc_poisson\n",
    "            }\n",
    "            else if (regr == \"negbin\") {\n",
    "                base = glm.nb(formula, data = df2)\n",
    "                coefs <- summary(base)$coefficients[\"atac\", ]\n",
    "                # assoc <- assoc_negbin\n",
    "                assoc <- SCENT::assoc_negbin\n",
    "            }\n",
    "            bs = boot::boot(df2, assoc, R = 100, formula = formula, \n",
    "                stype = \"i\", parallel = \"no\", ncpus = 1)\n",
    "            # p0 = basic_p(bs$t0[1], bs$t[, 1])\n",
    "            p0 = SCENT::basic_p(bs$t0[1], bs$t[, 1])\n",
    "            if (p0 < 0.1) {\n",
    "                bs = boot::boot(df2, assoc, R = 500, formula = formula, \n",
    "                  stype = \"i\", \n",
    "                  # parallel = \"multicore\", ncpus = ncores)\n",
    "                  parallel = \"no\", ncpus = 1)\n",
    "                # p0 = basic_p(bs$t0[1], bs$t[, 1])\n",
    "                p0 = SCENT::basic_p(bs$t0[1], bs$t[, 1])\n",
    "            }\n",
    "            # if (p0 < 0.05) {\n",
    "            #     bs = boot::boot(df2, assoc, R = 2500, formula = formula, \n",
    "            #       stype = \"i\", \n",
    "            #       # parallel = \"multicore\", ncpus = ncores)\n",
    "            #       parallel = \"no\", ncpus = 1)\n",
    "            #     # p0 = basic_p(bs$t0[1], bs$t[, 1])\n",
    "            #     p0 = SCENT::basic_p(bs$t0[1], bs$t[, 1])\n",
    "            # }\n",
    "            # if (p0 < 0.01) {\n",
    "            #     bs = boot::boot(df2, assoc, R = 25000, formula = formula, \n",
    "            #       stype = \"i\", \n",
    "            #       # parallel = \"multicore\", ncpus = ncores)\n",
    "            #       parallel = \"no\", ncpus = 1)\n",
    "            #     # p0 = basic_p(bs$t0[1], bs$t[, 1])\n",
    "            #     p0 = SCENT::basic_p(bs$t0[1], bs$t[, 1])\n",
    "            # }\n",
    "            # if (p0 < 0.001) {\n",
    "            #     bs = boot::boot(df2, assoc, R = 50000, formula = formula, \n",
    "            #       stype = \"i\", \n",
    "            #       # parallel = \"multicore\", ncpus = ncores)\n",
    "            #       parallel = \"no\", ncpus = 1)\n",
    "            #     # p0 = basic_p(bs$t0[1], bs$t[, 1])\n",
    "            #     p0 = SCENT::basic_p(bs$t0[1], bs$t[, 1])\n",
    "            # }\n",
    "            out <- data.frame(gene = gene, peak = this_peak, \n",
    "                beta = coefs[1], se = coefs[2], z = coefs[3], \n",
    "                p = coefs[4], boot_basic_p = p0)           \n",
    "            res <- rbind(res, out)\n",
    "        }\n",
    "    }\n",
    "    object@SCENT.result <- res\n",
    "    return(object)\n",
    "}"
   ]
  },
  {
   "cell_type": "code",
   "execution_count": 15,
   "id": "563771b9-b96a-44d5-a5fe-fa30a7b9851b",
   "metadata": {},
   "outputs": [
    {
     "name": "stderr",
     "output_type": "stream",
     "text": [
      "Warning message in dir.create(paste(dir.output, \"chr\", sep = \"/\"), recursive = T):\n",
      "“'/maps/projects/ralab_nnfc-AUDIT/people/lpm537/project/E2G/analysis/E2G_240503/data/BMMC/2.Genome_wide_prediction/SCENT/BMMC5.Erythroid.500.250204//chr' already exists”\n"
     ]
    }
   ],
   "source": [
    "dir.create(paste(dir.output,\"chr\",sep = \"/\"),recursive = T)"
   ]
  },
  {
   "cell_type": "code",
   "execution_count": 16,
   "id": "0d2266ce-b92d-40d2-9b78-f39bd33a5079",
   "metadata": {},
   "outputs": [],
   "source": [
    "chr.done = dir(paste(dir.output,\"chr\",sep = \"/\"))\n",
    "chr.run = as.character(unique(seqnames(pairs.E2G)))\n",
    "chr.run = chr.run[!chr.run %in% chr.done]"
   ]
  },
  {
   "cell_type": "code",
   "execution_count": 17,
   "id": "af32cb23-0035-4f81-9cfb-4f6c2aa86373",
   "metadata": {},
   "outputs": [],
   "source": [
    "Sys.setenv(OPENBLAS_NUM_THREADS=1)"
   ]
  },
  {
   "cell_type": "code",
   "execution_count": null,
   "id": "2d41238d-e833-4e0e-add5-bb56bb615c1a",
   "metadata": {},
   "outputs": [
    {
     "name": "stdout",
     "output_type": "stream",
     "text": [
      "[1] \"chr11\"\n"
     ]
    },
    {
     "name": "stderr",
     "output_type": "stream",
     "text": [
      "Warning message in split.default(x = seq_len(nrow(x)), f = f, drop = drop, ...):\n",
      "“data length is not a multiple of split variable”\n"
     ]
    },
    {
     "name": "stdout",
     "output_type": "stream",
     "text": [
      "[1] \"chr12\"\n"
     ]
    },
    {
     "name": "stderr",
     "output_type": "stream",
     "text": [
      "Warning message in split.default(x = seq_len(nrow(x)), f = f, drop = drop, ...):\n",
      "“data length is not a multiple of split variable”\n"
     ]
    },
    {
     "name": "stdout",
     "output_type": "stream",
     "text": [
      "[1] \"chr13\"\n",
      "[1] \"chr14\"\n"
     ]
    },
    {
     "name": "stderr",
     "output_type": "stream",
     "text": [
      "Warning message in split.default(x = seq_len(nrow(x)), f = f, drop = drop, ...):\n",
      "“data length is not a multiple of split variable”\n"
     ]
    },
    {
     "name": "stdout",
     "output_type": "stream",
     "text": [
      "[1] \"chr15\"\n"
     ]
    },
    {
     "name": "stderr",
     "output_type": "stream",
     "text": [
      "Warning message in split.default(x = seq_len(nrow(x)), f = f, drop = drop, ...):\n",
      "“data length is not a multiple of split variable”\n"
     ]
    },
    {
     "name": "stdout",
     "output_type": "stream",
     "text": [
      "[1] \"chr16\"\n"
     ]
    },
    {
     "name": "stderr",
     "output_type": "stream",
     "text": [
      "Warning message in split.default(x = seq_len(nrow(x)), f = f, drop = drop, ...):\n",
      "“data length is not a multiple of split variable”\n"
     ]
    },
    {
     "name": "stdout",
     "output_type": "stream",
     "text": [
      "[1] \"chr17\"\n"
     ]
    },
    {
     "name": "stderr",
     "output_type": "stream",
     "text": [
      "Warning message in split.default(x = seq_len(nrow(x)), f = f, drop = drop, ...):\n",
      "“data length is not a multiple of split variable”\n"
     ]
    },
    {
     "name": "stdout",
     "output_type": "stream",
     "text": [
      "[1] \"chr18\"\n"
     ]
    },
    {
     "name": "stderr",
     "output_type": "stream",
     "text": [
      "Warning message in split.default(x = seq_len(nrow(x)), f = f, drop = drop, ...):\n",
      "“data length is not a multiple of split variable”\n"
     ]
    }
   ],
   "source": [
    "for(chr.tmp in chr.run){\n",
    "  print(chr.tmp)\n",
    "  pairs.E2G.chr.res = pairs.E2G.filter2[seqnames(pairs.E2G.filter2) == chr.tmp]\n",
    "  gene_peak.chr = as.data.frame(mcols(pairs.E2G.chr.res)[,c(\"TargetGene\",\"PeakName\")])\n",
    "  list.gene_peak.chr <- split(gene_peak.chr, seq_len(n.cores))\n",
    "  \n",
    "  list.obj.SCENT.chr <- lapply(list.gene_peak.chr, function(gene_peak.tmp) {\n",
    "    obj.SCENT.tmp <- CreateSCENTObj(\n",
    "      rna = matrix.rna.rename[rownames(matrix.rna.rename) %in% gene_peak.tmp$TargetGene,],\n",
    "      atac = matrix.atac[rownames(matrix.atac) %in% gene_peak.tmp$PeakName,], \n",
    "      meta.data = meta.data,\n",
    "      peak.info = gene_peak.tmp,\n",
    "      covariates = c(\"log.nUMI\",\"percent.mito\"), \n",
    "      celltypes = \"celltype\"\n",
    "    )\n",
    "  })\n",
    "  \n",
    "  cl <- makeCluster(n.cores)\n",
    "  clusterExport(cl, varlist=c(\"SCENT_algorithm.modified\"))\n",
    "  list.SCENT.result.chr <- parLapply(cl, list.obj.SCENT.chr, function(obj.SCENT.tmp) {\n",
    "    obj.SCENT.tmp <- SCENT_algorithm.modified(object = obj.SCENT.tmp)\n",
    "    return(obj.SCENT.tmp@SCENT.result)\n",
    "  })\n",
    "  stopCluster(cl)\n",
    "  \n",
    "  \n",
    "  df.SCENT.result.chr = do.call(rbind,list.SCENT.result.chr)\n",
    "  rownames(df.SCENT.result.chr) = paste(df.SCENT.result.chr$peak,\n",
    "                                        df.SCENT.result.chr$gene,\n",
    "                                        sep = \"_\")\n",
    "\n",
    "  pairs.E2G.chr.res = pairs.E2G.chr.res[pairs.E2G.chr.res$PairName %in% rownames(df.SCENT.result.chr)]\n",
    "  mcols(pairs.E2G.chr.res)[,c(\"beta\",\"se\",\"z\",\"p\",\"boot_basic_p\")] = \n",
    "    df.SCENT.result.chr[pairs.E2G.chr.res$PairName,c(\"beta\",\"se\",\"z\",\"p\",\"boot_basic_p\")]\n",
    "  pairs.E2G.chr.res$boot_basic_p.log10 = -log10(pairs.E2G.chr.res$boot_basic_p)\n",
    "  pairs.E2G.chr.res$sign = 1\n",
    "  pairs.E2G.chr.res$sign[pairs.E2G.chr.res$beta < 0] = -1\n",
    "  pairs.E2G.chr.res$boot_basic_p.log10.signed = pairs.E2G.chr.res$boot_basic_p.log10 * pairs.E2G.chr.res$sign\n",
    "  saveRDS(pairs.E2G.chr.res,\n",
    "          paste(dir.output,\"chr\",chr.tmp,sep = \"/\"))\n",
    "  rm (pairs.E2G.chr.res)\n",
    "}"
   ]
  },
  {
   "cell_type": "markdown",
   "id": "da9d1451-54e0-49e0-ae8b-cd0158115820",
   "metadata": {},
   "source": [
    "Merge results"
   ]
  },
  {
   "cell_type": "code",
   "execution_count": null,
   "id": "6b4278f1-7d9d-402f-95c6-f274a6befea3",
   "metadata": {},
   "outputs": [],
   "source": [
    "chr.merge = as.character(unique(seqnames(pairs.E2G)))\n",
    "list.res = list()\n",
    "for(chr.tmp in chr.merge){\n",
    "    list.res[[chr.tmp]] = readRDS(paste(dir.output,\"chr\",chr.tmp,sep = \"/\"))\n",
    "}\n",
    "pairs.E2G.res = unlist(as(list.res, \"GRangesList\"))"
   ]
  },
  {
   "cell_type": "markdown",
   "id": "00278bea-8baf-4ed0-93d5-1289f05fa36a",
   "metadata": {},
   "source": [
    "Save results"
   ]
  },
  {
   "cell_type": "code",
   "execution_count": null,
   "id": "48824f05-aedd-476c-88d6-ae58d1833fc9",
   "metadata": {},
   "outputs": [],
   "source": [
    "saveRDS(pairs.E2G.res,\n",
    "        paste(dir.output,\"pairs.E2G.res.rds\",sep = \"/\"))\n",
    "pairs.E2G.res"
   ]
  },
  {
   "cell_type": "code",
   "execution_count": null,
   "id": "2297128a-9ed6-42b8-90c7-459969fb5afd",
   "metadata": {},
   "outputs": [],
   "source": [
    "df.output = as.data.frame(pairs.E2G.res,row.names = NULL)\n",
    "colnames(df.output)[1] = \"chr\"\n",
    "df.output[,\"CellType\"] = \"K562\"\n",
    "df.output = df.output[,c(\"chr\",\n",
    "                         \"start\",\n",
    "                         \"end\",\n",
    "                         \"TargetGene\",\n",
    "                         \"CellType\",\n",
    "                         \"beta\",\"se\",\"z\",\"p\",\"boot_basic_p\",\n",
    "                         \"boot_basic_p.log10\",\n",
    "                         \"sign\",\n",
    "                         \"boot_basic_p.log10.signed\")]\n",
    "data.table::fwrite(df.output,\n",
    "                   file = paste(dir.output,\"pairs.E2G.res.tsv.gz\",sep = \"/\"),\n",
    "                   row.names = F,\n",
    "                   quote = F,\n",
    "                   sep = \"\\t\")\n",
    "df.output"
   ]
  },
  {
   "cell_type": "code",
   "execution_count": null,
   "id": "4d77c58e-215a-408d-8495-c68c72f559c3",
   "metadata": {},
   "outputs": [],
   "source": [
    "sessionInfo()"
   ]
  },
  {
   "cell_type": "code",
   "execution_count": null,
   "id": "3c1a0283-11d6-4df1-bbd8-7b47e9e8ead8",
   "metadata": {},
   "outputs": [],
   "source": []
  }
 ],
 "metadata": {
  "kernelspec": {
   "display_name": "R",
   "language": "R",
   "name": "ir"
  },
  "language_info": {
   "codemirror_mode": "r",
   "file_extension": ".r",
   "mimetype": "text/x-r-source",
   "name": "R",
   "pygments_lexer": "r",
   "version": "4.3.3"
  }
 },
 "nbformat": 4,
 "nbformat_minor": 5
}
