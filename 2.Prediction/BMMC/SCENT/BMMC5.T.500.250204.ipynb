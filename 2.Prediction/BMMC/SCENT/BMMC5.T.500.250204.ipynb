{
 "cells": [
  {
   "cell_type": "code",
   "execution_count": 1,
   "id": "3a1e63f9-7479-4a30-83ea-381f1ecdbe50",
   "metadata": {},
   "outputs": [
    {
     "name": "stderr",
     "output_type": "stream",
     "text": [
      "Warning message:\n",
      "“replacing previous import ‘Hmisc::capitalize’ by ‘R.utils::capitalize’ when loading ‘SCENT’”\n",
      "Loading required package: grid\n",
      "\n",
      "Warning message:\n",
      "“replacing previous import ‘Biostrings::pattern’ by ‘grid::pattern’ when loading ‘genomation’”\n",
      "Loading required package: stats4\n",
      "\n",
      "Loading required package: BiocGenerics\n",
      "\n",
      "\n",
      "Attaching package: ‘BiocGenerics’\n",
      "\n",
      "\n",
      "The following objects are masked from ‘package:stats’:\n",
      "\n",
      "    IQR, mad, sd, var, xtabs\n",
      "\n",
      "\n",
      "The following objects are masked from ‘package:base’:\n",
      "\n",
      "    anyDuplicated, aperm, append, as.data.frame, basename, cbind,\n",
      "    colnames, dirname, do.call, duplicated, eval, evalq, Filter, Find,\n",
      "    get, grep, grepl, intersect, is.unsorted, lapply, Map, mapply,\n",
      "    match, mget, order, paste, pmax, pmax.int, pmin, pmin.int,\n",
      "    Position, rank, rbind, Reduce, rownames, sapply, setdiff, sort,\n",
      "    table, tapply, union, unique, unsplit, which.max, which.min\n",
      "\n",
      "\n",
      "Loading required package: S4Vectors\n",
      "\n",
      "\n",
      "Attaching package: ‘S4Vectors’\n",
      "\n",
      "\n",
      "The following object is masked from ‘package:utils’:\n",
      "\n",
      "    findMatches\n",
      "\n",
      "\n",
      "The following objects are masked from ‘package:base’:\n",
      "\n",
      "    expand.grid, I, unname\n",
      "\n",
      "\n",
      "Loading required package: IRanges\n",
      "\n",
      "Loading required package: GenomeInfoDb\n",
      "\n",
      "\n",
      "Attaching package: ‘Matrix’\n",
      "\n",
      "\n",
      "The following object is masked from ‘package:S4Vectors’:\n",
      "\n",
      "    expand\n",
      "\n",
      "\n",
      "\n",
      "Attaching package: ‘data.table’\n",
      "\n",
      "\n",
      "The following object is masked from ‘package:GenomicRanges’:\n",
      "\n",
      "    shift\n",
      "\n",
      "\n",
      "The following object is masked from ‘package:IRanges’:\n",
      "\n",
      "    shift\n",
      "\n",
      "\n",
      "The following objects are masked from ‘package:S4Vectors’:\n",
      "\n",
      "    first, second\n",
      "\n",
      "\n",
      "\n",
      "Attaching package: ‘dplyr’\n",
      "\n",
      "\n",
      "The following objects are masked from ‘package:data.table’:\n",
      "\n",
      "    between, first, last\n",
      "\n",
      "\n",
      "The following objects are masked from ‘package:GenomicRanges’:\n",
      "\n",
      "    intersect, setdiff, union\n",
      "\n",
      "\n",
      "The following object is masked from ‘package:GenomeInfoDb’:\n",
      "\n",
      "    intersect\n",
      "\n",
      "\n",
      "The following objects are masked from ‘package:IRanges’:\n",
      "\n",
      "    collapse, desc, intersect, setdiff, slice, union\n",
      "\n",
      "\n",
      "The following objects are masked from ‘package:S4Vectors’:\n",
      "\n",
      "    first, intersect, rename, setdiff, setequal, union\n",
      "\n",
      "\n",
      "The following objects are masked from ‘package:BiocGenerics’:\n",
      "\n",
      "    combine, intersect, setdiff, union\n",
      "\n",
      "\n",
      "The following objects are masked from ‘package:stats’:\n",
      "\n",
      "    filter, lag\n",
      "\n",
      "\n",
      "The following objects are masked from ‘package:base’:\n",
      "\n",
      "    intersect, setdiff, setequal, union\n",
      "\n",
      "\n"
     ]
    }
   ],
   "source": [
    "library(SCENT)\n",
    "library(Signac)\n",
    "library(genomation)\n",
    "library(GenomicRanges)\n",
    "library(Matrix)\n",
    "library(parallel)\n",
    "library(data.table)\n",
    "library(dplyr)"
   ]
  },
  {
   "cell_type": "markdown",
   "id": "d53f3774-52c3-4baa-b707-5b3a0450b130",
   "metadata": {},
   "source": [
    "Specify file path"
   ]
  },
  {
   "cell_type": "code",
   "execution_count": 2,
   "id": "0785f3fc-9913-428a-bea7-5710120c9328",
   "metadata": {},
   "outputs": [],
   "source": [
    "gene_gtf_path = \"/maps/projects/ralab/data/genome/hg38/gencode.v43.chr_patch_hapl_scaff.annotation.gtf\"\n",
    "abc_genes_path = \"/maps/projects/ralab_nnfc-AUDIT/people/lpm537/software/scE2G_pipeline/241203/scE2G/ENCODE_rE2G/ABC/reference/hg38/CollapsedGeneBounds.hg38.TSS500bp.bed\"\n",
    "path.pairs.E2G = \"/maps/projects/ralab_nnfc-AUDIT/people/lpm537/software/scE2G_pipeline/240508/sc-E2G/test/results_BMMC5/T/Kendall/Pairs.tsv.gz\"\n",
    "path.pairs.ABC = \"/maps/projects/ralab_nnfc-AUDIT/people/lpm537/software/scE2G_pipeline/240508/sc-E2G/test/results_BMMC5/T/Predictions/EnhancerPredictionsAllPutative.tsv.gz\"\n",
    "path.matrix.atac_count = \"/maps/projects/ralab_nnfc-AUDIT/people/lpm537/software/scE2G_pipeline/240508/sc-E2G/test/results_BMMC5/T/Kendall/atac_matrix.rds\"\n",
    "path.matrix.rna_count = \"/maps/projects/ralab_nnfc-AUDIT/people/lpm537/project/E2G/analysis/E2G_240503/data/BMMC/1.prepare_data/3.merge_cell_type.240522/RNA_count_matrix/T.rna_count_matrix.csv.gz\"\n",
    "dir.output = \"/maps/projects/ralab_nnfc-AUDIT/people/lpm537/project/E2G/analysis/E2G_240503/data/BMMC/2.Genome_wide_prediction/SCENT/BMMC5.T.500.250204/\""
   ]
  },
  {
   "cell_type": "code",
   "execution_count": 3,
   "id": "500ba317-011f-4cab-834c-de750cb7f503",
   "metadata": {},
   "outputs": [],
   "source": [
    "n.cores = 16"
   ]
  },
  {
   "cell_type": "markdown",
   "id": "9c9cdab1-486b-4539-99d3-3cd5d1d99795",
   "metadata": {},
   "source": [
    "Import candidate E-G pairs"
   ]
  },
  {
   "cell_type": "code",
   "execution_count": 4,
   "id": "f5852d15-7e3f-412b-b137-7d29a6fb47b1",
   "metadata": {},
   "outputs": [],
   "source": [
    "pairs.E2G = readGeneric(path.pairs.E2G,\n",
    "                        header = T,\n",
    "                        keep.all.metadata = T)"
   ]
  },
  {
   "cell_type": "markdown",
   "id": "4b3c69d6-986b-4e10-9597-01c66d230c5c",
   "metadata": {},
   "source": [
    "Import ABC results"
   ]
  },
  {
   "cell_type": "code",
   "execution_count": 5,
   "id": "1fdcc2db-187f-45ee-89b4-288e8be29ee9",
   "metadata": {},
   "outputs": [],
   "source": [
    "pairs.ABC = readGeneric(path.pairs.ABC,\n",
    "                        header = T,\n",
    "                        keep.all.metadata = T)"
   ]
  },
  {
   "cell_type": "markdown",
   "id": "10424833-4e11-4191-a970-940bcc814764",
   "metadata": {},
   "source": [
    "Filter ABC results which distance < 1M"
   ]
  },
  {
   "cell_type": "code",
   "execution_count": 6,
   "id": "f08d2dec-83da-425a-aa70-aacb2d1c01a9",
   "metadata": {},
   "outputs": [],
   "source": [
    "pairs.ABC.1M = pairs.ABC[pairs.ABC$distance < 10^6]"
   ]
  },
  {
   "cell_type": "markdown",
   "id": "1ab4f035-0f58-4f32-9770-6765575f08a4",
   "metadata": {},
   "source": [
    "Filter E-G pairs overlaping with pairs.ABC.1M"
   ]
  },
  {
   "cell_type": "code",
   "execution_count": 7,
   "id": "46f640bb-a049-4bae-8362-485ec0d30858",
   "metadata": {},
   "outputs": [
    {
     "data": {
      "text/plain": [
       "GRanges object with 2982002 ranges and 3 metadata columns:\n",
       "            seqnames              ranges strand |  TargetGene\n",
       "               <Rle>           <IRanges>  <Rle> | <character>\n",
       "        [1]     chr1 100028395-100029373      * |         AGL\n",
       "        [2]     chr1 100028395-100029373      * |      CDC14A\n",
       "        [3]     chr1 100028395-100029373      * |         DBT\n",
       "        [4]     chr1 100028395-100029373      * |        DPH5\n",
       "        [5]     chr1 100028395-100029373      * |       EXTL2\n",
       "        ...      ...                 ...    ... .         ...\n",
       "  [2981998]     chrX     9995632-9996377      * |       TBL1X\n",
       "  [2981999]     chrX     9995632-9996377      * |        WWC3\n",
       "  [2982000]     chrX     9997424-9997929      * |       CLCN4\n",
       "  [2982001]     chrX     9997424-9997929      * |       TBL1X\n",
       "  [2982002]     chrX     9997424-9997929      * |        WWC3\n",
       "                          PeakName               PairName\n",
       "                       <character>            <character>\n",
       "        [1] chr1-100028395-10002.. chr1-100028395-10002..\n",
       "        [2] chr1-100028395-10002.. chr1-100028395-10002..\n",
       "        [3] chr1-100028395-10002.. chr1-100028395-10002..\n",
       "        [4] chr1-100028395-10002.. chr1-100028395-10002..\n",
       "        [5] chr1-100028395-10002.. chr1-100028395-10002..\n",
       "        ...                    ...                    ...\n",
       "  [2981998]   chrX-9995632-9996377 chrX-9995632-9996377..\n",
       "  [2981999]   chrX-9995632-9996377 chrX-9995632-9996377..\n",
       "  [2982000]   chrX-9997424-9997929 chrX-9997424-9997929..\n",
       "  [2982001]   chrX-9997424-9997929 chrX-9997424-9997929..\n",
       "  [2982002]   chrX-9997424-9997929 chrX-9997424-9997929..\n",
       "  -------\n",
       "  seqinfo: 23 sequences from an unspecified genome; no seqlengths"
      ]
     },
     "metadata": {},
     "output_type": "display_data"
    }
   ],
   "source": [
    "df.pairs.E2G.chr_rename = as.data.frame(pairs.E2G)[,1:3]\n",
    "df.pairs.E2G.chr_rename[,\"seqnames\"] = paste(seqnames(pairs.E2G),\n",
    "                                             mcols(pairs.E2G)[,\"TargetGene\"],\n",
    "                                             sep = \"_\")\n",
    "pairs.E2G.chr_rename = GRanges(df.pairs.E2G.chr_rename)\n",
    "rm(df.pairs.E2G.chr_rename)\n",
    "\n",
    "df.pairs.ABC.1M.chr_rename = as.data.frame(pairs.ABC.1M)[,1:3]\n",
    "df.pairs.ABC.1M.chr_rename[,\"seqnames\"] = paste(seqnames(pairs.ABC.1M),\n",
    "                                                mcols(pairs.ABC.1M)[,\"TargetGene\"],\n",
    "                                                sep = \"_\")\n",
    "pairs.ABC.1M.chr_rename = GRanges(df.pairs.ABC.1M.chr_rename)\n",
    "rm(df.pairs.ABC.1M.chr_rename)\n",
    "\n",
    "pairs.E2G.filter = pairs.E2G[countOverlaps(pairs.E2G.chr_rename,\n",
    "                                           pairs.ABC.1M.chr_rename) > 0]\n",
    "rm(pairs.E2G.chr_rename)\n",
    "rm(pairs.ABC.1M.chr_rename)\n",
    "pairs.E2G.filter"
   ]
  },
  {
   "cell_type": "markdown",
   "id": "bcdfac67-ce32-4d9a-8f4d-65dab644ec63",
   "metadata": {},
   "source": [
    "Import ATAC matrix"
   ]
  },
  {
   "cell_type": "code",
   "execution_count": 8,
   "id": "bd59feb4-3e33-4ebe-a107-f3b6d347a68e",
   "metadata": {},
   "outputs": [],
   "source": [
    "matrix.atac = readRDS(path.matrix.atac_count)\n",
    "matrix.atac = BinarizeCounts(matrix.atac)"
   ]
  },
  {
   "cell_type": "markdown",
   "id": "a0c5cb96-2fc4-42c4-a421-fe9a5ca537da",
   "metadata": {},
   "source": [
    "Import RNA matrix"
   ]
  },
  {
   "cell_type": "code",
   "execution_count": 9,
   "id": "96e10e90-9400-4cfe-bc7b-46a7eaee1fcd",
   "metadata": {},
   "outputs": [],
   "source": [
    "matrix.rna = read.csv(path.matrix.rna_count,\n",
    "                      row.names = 1,\n",
    "                      check.names = F)\n",
    "matrix.rna = Matrix(as.matrix(matrix.rna), sparse = TRUE)\n",
    "matrix.rna = matrix.rna[,colnames(matrix.atac)]\n",
    "matrix.rna = matrix.rna[rowSums(matrix.rna) > 0,]"
   ]
  },
  {
   "cell_type": "markdown",
   "id": "62718ef8-a3bd-4755-a95f-be216f16517b",
   "metadata": {},
   "source": [
    "Map gene names"
   ]
  },
  {
   "cell_type": "code",
   "execution_count": 10,
   "id": "0f255a65-03a4-4255-967e-0c644bfe66cd",
   "metadata": {},
   "outputs": [],
   "source": [
    "extract_attributes <- function(gtf_attributes, att_of_interest){\n",
    "  att <- unlist(strsplit(gtf_attributes, \" \"))\n",
    "  if(att_of_interest %in% att){\n",
    "    return(gsub(\"\\\"|;\",\"\", att[which(att %in% att_of_interest)+1]))\n",
    "  } else {\n",
    "    return(NA)}\n",
    "}\n",
    "map_gene_names <- function(rna_matrix, gene_gtf_path, abc_genes_path){\n",
    "\tgene_ref <- fread(gene_gtf_path, header = FALSE, sep = \"\\t\") %>%\n",
    "\t\tsetNames(c(\"chr\",\"source\",\"type\",\"start\",\"end\",\"score\",\"strand\",\"phase\",\"attributes\")) %>%\n",
    "\t\tdplyr::filter(type == \"gene\")\n",
    "\tgene_ref$gene_ref_name <- unlist(lapply(gene_ref$attributes, extract_attributes, \"gene_name\"))\n",
    "\tgene_ref$Ensembl_ID <- unlist(lapply(gene_ref$attributes, extract_attributes, \"gene_id\"))\n",
    "\tgene_ref <- dplyr::select(gene_ref, gene_ref_name, Ensembl_ID) %>%\n",
    "\t\tmutate(Ensembl_ID = sub(\"\\\\.\\\\d+$\", \"\", Ensembl_ID)) %>% # remove decimal digits \n",
    "\t\tdistinct()\n",
    "\t\n",
    "\tabc_genes <- fread(abc_genes_path, col.names = c(\"chr\", \"start\", \"end\", \"name\", \"score\", \"strand\", \"Ensembl_ID\", \"gene_type\")) %>%\n",
    "\t\tdplyr::select(name, Ensembl_ID) %>%\n",
    "\t\trename(abc_name = name) %>%\n",
    "\t\tleft_join(gene_ref, by = \"Ensembl_ID\") %>%\n",
    "\t\tgroup_by(Ensembl_ID) %>% # remove cases where multiple genes map to one ensembl ID\n",
    "\t\tfilter(n() == 1) %>%\n",
    "\t\tungroup()\n",
    "\n",
    "\tgene_key <- abc_genes$abc_name\n",
    "\tnames(gene_key) <- abc_genes$gene_ref_name\n",
    "\n",
    "\t# remove genes not in our gene universe\t\n",
    "\trow_sub <- intersect(rownames(rna_matrix), names(gene_key)) # gene ref names\n",
    "\trna_matrix_filt <- rna_matrix[row_sub,] # still gene ref names\n",
    "\trownames(rna_matrix_filt) <- gene_key[row_sub] # converted to abc names\n",
    "\n",
    "\treturn(rna_matrix_filt)\n",
    "}"
   ]
  },
  {
   "cell_type": "code",
   "execution_count": 11,
   "id": "ca760678-9db9-418e-b7ac-29984eddad7e",
   "metadata": {},
   "outputs": [],
   "source": [
    "matrix.rna.rename = map_gene_names(matrix.rna,gene_gtf_path, abc_genes_path)"
   ]
  },
  {
   "cell_type": "code",
   "execution_count": 12,
   "id": "0c8225d7-5216-4cc1-827e-bbb22c53f9fc",
   "metadata": {},
   "outputs": [],
   "source": [
    "pairs.E2G.filter2 = pairs.E2G.filter[pairs.E2G.filter$TargetGene %in% rownames(matrix.rna.rename) &\n",
    "                                     pairs.E2G.filter$PeakName %in% rownames(matrix.atac)]"
   ]
  },
  {
   "cell_type": "markdown",
   "id": "b16f7d5b-eabd-4e93-b8cd-f19a54df21f2",
   "metadata": {},
   "source": [
    "Prepare SCENT meta data"
   ]
  },
  {
   "cell_type": "code",
   "execution_count": 13,
   "id": "827059dd-6885-441e-973e-d7c49e5fd534",
   "metadata": {},
   "outputs": [
    {
     "data": {
      "text/html": [
       "<table class=\"dataframe\">\n",
       "<caption>A data.frame: 22525 × 6</caption>\n",
       "<thead>\n",
       "\t<tr><th></th><th scope=col>cell</th><th scope=col>nUMI</th><th scope=col>nMito</th><th scope=col>celltype</th><th scope=col>log.nUMI</th><th scope=col>percent.mito</th></tr>\n",
       "\t<tr><th></th><th scope=col>&lt;chr&gt;</th><th scope=col>&lt;dbl&gt;</th><th scope=col>&lt;dbl&gt;</th><th scope=col>&lt;chr&gt;</th><th scope=col>&lt;dbl&gt;</th><th scope=col>&lt;dbl&gt;</th></tr>\n",
       "</thead>\n",
       "<tbody>\n",
       "\t<tr><th scope=row>s1d1_CCGCACACAGGTTAAA-1</th><td>s1d1_CCGCACACAGGTTAAA-1</td><td> 8311</td><td>115</td><td>K562</td><td>9.025335</td><td>0.013837083</td></tr>\n",
       "\t<tr><th scope=row>s1d1_TCATTTGGTAATGGAA-1</th><td>s1d1_TCATTTGGTAATGGAA-1</td><td> 1291</td><td> 20</td><td>K562</td><td>7.163172</td><td>0.015491867</td></tr>\n",
       "\t<tr><th scope=row>s1d1_GACTTAGGTTGCGCGA-1</th><td>s1d1_GACTTAGGTTGCGCGA-1</td><td> 1182</td><td> 17</td><td>K562</td><td>7.074963</td><td>0.014382403</td></tr>\n",
       "\t<tr><th scope=row>s1d1_GCCTTACTCGTTACAA-1</th><td>s1d1_GCCTTACTCGTTACAA-1</td><td>10154</td><td> 98</td><td>K562</td><td>9.225623</td><td>0.009651369</td></tr>\n",
       "\t<tr><th scope=row>s1d1_TGTCCTGGTCAATGTG-1</th><td>s1d1_TGTCCTGGTCAATGTG-1</td><td> 1844</td><td> 21</td><td>K562</td><td>7.519692</td><td>0.011388286</td></tr>\n",
       "\t<tr><th scope=row>s1d1_AGAATCGAGAAAGGAA-1</th><td>s1d1_AGAATCGAGAAAGGAA-1</td><td> 4293</td><td> 78</td><td>K562</td><td>8.364741</td><td>0.018169113</td></tr>\n",
       "\t<tr><th scope=row>s1d1_ATGTGAGAGGCGAAAC-1</th><td>s1d1_ATGTGAGAGGCGAAAC-1</td><td> 1126</td><td> 19</td><td>K562</td><td>7.026427</td><td>0.016873890</td></tr>\n",
       "\t<tr><th scope=row>s1d1_CGCTTCTAGTGACCTG-1</th><td>s1d1_CGCTTCTAGTGACCTG-1</td><td> 1697</td><td> 18</td><td>K562</td><td>7.436617</td><td>0.010606953</td></tr>\n",
       "\t<tr><th scope=row>s1d1_GAGCTGCTCTTGTCCA-1</th><td>s1d1_GAGCTGCTCTTGTCCA-1</td><td> 2229</td><td> 37</td><td>K562</td><td>7.709308</td><td>0.016599372</td></tr>\n",
       "\t<tr><th scope=row>s1d1_TAGTCAATCGTGCTTC-1</th><td>s1d1_TAGTCAATCGTGCTTC-1</td><td> 1613</td><td> 39</td><td>K562</td><td>7.385851</td><td>0.024178549</td></tr>\n",
       "\t<tr><th scope=row>s1d1_GTTACTAAGGTGAAGC-1</th><td>s1d1_GTTACTAAGGTGAAGC-1</td><td> 1472</td><td> 30</td><td>K562</td><td>7.294377</td><td>0.020380435</td></tr>\n",
       "\t<tr><th scope=row>s1d1_AGGAACGGTTTGTCTA-1</th><td>s1d1_AGGAACGGTTTGTCTA-1</td><td> 2665</td><td> 24</td><td>K562</td><td>7.887959</td><td>0.009005629</td></tr>\n",
       "\t<tr><th scope=row>s1d1_CTAGTAATCGTGCTAG-1</th><td>s1d1_CTAGTAATCGTGCTAG-1</td><td> 2157</td><td> 36</td><td>K562</td><td>7.676474</td><td>0.016689847</td></tr>\n",
       "\t<tr><th scope=row>s1d1_GCCTTAGAGCTAAGTC-1</th><td>s1d1_GCCTTAGAGCTAAGTC-1</td><td> 1626</td><td> 39</td><td>K562</td><td>7.393878</td><td>0.023985240</td></tr>\n",
       "\t<tr><th scope=row>s1d1_TAGCGCGGTTGCAATG-1</th><td>s1d1_TAGCGCGGTTGCAATG-1</td><td> 1799</td><td> 26</td><td>K562</td><td>7.494986</td><td>0.014452474</td></tr>\n",
       "\t<tr><th scope=row>s1d1_AGCAAATAGAATGACG-1</th><td>s1d1_AGCAAATAGAATGACG-1</td><td> 3431</td><td> 45</td><td>K562</td><td>8.140607</td><td>0.013115710</td></tr>\n",
       "\t<tr><th scope=row>s1d1_AAGCCTCCAGGAATCG-1</th><td>s1d1_AAGCCTCCAGGAATCG-1</td><td> 2557</td><td> 27</td><td>K562</td><td>7.846590</td><td>0.010559249</td></tr>\n",
       "\t<tr><th scope=row>s1d1_GTCAATATCTGGCAAT-1</th><td>s1d1_GTCAATATCTGGCAAT-1</td><td> 1444</td><td> 21</td><td>K562</td><td>7.275172</td><td>0.014542936</td></tr>\n",
       "\t<tr><th scope=row>s1d1_CCGGTTAAGGTAACGA-1</th><td>s1d1_CCGGTTAAGGTAACGA-1</td><td> 2398</td><td> 37</td><td>K562</td><td>7.782390</td><td>0.015429525</td></tr>\n",
       "\t<tr><th scope=row>s1d1_TGTTGCACAGTCTATG-1</th><td>s1d1_TGTTGCACAGTCTATG-1</td><td> 1802</td><td> 21</td><td>K562</td><td>7.496652</td><td>0.011653718</td></tr>\n",
       "\t<tr><th scope=row>s1d1_GTATGTTCAGCATGAG-1</th><td>s1d1_GTATGTTCAGCATGAG-1</td><td> 2288</td><td> 31</td><td>K562</td><td>7.735433</td><td>0.013548951</td></tr>\n",
       "\t<tr><th scope=row>s1d1_GTTTAGCAGCTTCCCG-1</th><td>s1d1_GTTTAGCAGCTTCCCG-1</td><td> 2008</td><td> 43</td><td>K562</td><td>7.604894</td><td>0.021414343</td></tr>\n",
       "\t<tr><th scope=row>s1d1_CTTGTAAAGATAAAGC-1</th><td>s1d1_CTTGTAAAGATAAAGC-1</td><td> 2168</td><td> 38</td><td>K562</td><td>7.681560</td><td>0.017527675</td></tr>\n",
       "\t<tr><th scope=row>s1d1_TAGTCAATCAGCACGC-1</th><td>s1d1_TAGTCAATCAGCACGC-1</td><td> 5199</td><td> 42</td><td>K562</td><td>8.556222</td><td>0.008078477</td></tr>\n",
       "\t<tr><th scope=row>s1d1_GGTGAGCCAATATACC-1</th><td>s1d1_GGTGAGCCAATATACC-1</td><td> 2804</td><td> 69</td><td>K562</td><td>7.938802</td><td>0.024607703</td></tr>\n",
       "\t<tr><th scope=row>s1d1_CCGCTAGCATCTTGAG-1</th><td>s1d1_CCGCTAGCATCTTGAG-1</td><td> 2683</td><td> 37</td><td>K562</td><td>7.894691</td><td>0.013790533</td></tr>\n",
       "\t<tr><th scope=row>s1d1_ACGCTTGAGTCATCCC-1</th><td>s1d1_ACGCTTGAGTCATCCC-1</td><td> 1624</td><td> 39</td><td>K562</td><td>7.392648</td><td>0.024014778</td></tr>\n",
       "\t<tr><th scope=row>s1d1_TCTTGTCCAATCGCAC-1</th><td>s1d1_TCTTGTCCAATCGCAC-1</td><td> 2671</td><td> 25</td><td>K562</td><td>7.890208</td><td>0.009359790</td></tr>\n",
       "\t<tr><th scope=row>s1d1_TAGCGCGGTCAATACG-1</th><td>s1d1_TAGCGCGGTCAATACG-1</td><td> 1732</td><td> 46</td><td>K562</td><td>7.457032</td><td>0.026558891</td></tr>\n",
       "\t<tr><th scope=row>s1d1_CAGCTATAGACAAACG-1</th><td>s1d1_CAGCTATAGACAAACG-1</td><td> 2415</td><td> 21</td><td>K562</td><td>7.789455</td><td>0.008695652</td></tr>\n",
       "\t<tr><th scope=row>⋮</th><td>⋮</td><td>⋮</td><td>⋮</td><td>⋮</td><td>⋮</td><td>⋮</td></tr>\n",
       "\t<tr><th scope=row>s4d9_AACTGTTCAAATTCGT-1</th><td>s4d9_AACTGTTCAAATTCGT-1</td><td>1147</td><td> 93</td><td>K562</td><td>7.044905</td><td>0.08108108</td></tr>\n",
       "\t<tr><th scope=row>s4d9_CTATGTTTCAATGAGG-1</th><td>s4d9_CTATGTTTCAATGAGG-1</td><td> 905</td><td> 63</td><td>K562</td><td>6.807935</td><td>0.06961326</td></tr>\n",
       "\t<tr><th scope=row>s4d9_AGGTCTTAGCGCCTAA-1</th><td>s4d9_AGGTCTTAGCGCCTAA-1</td><td> 970</td><td> 65</td><td>K562</td><td>6.877296</td><td>0.06701031</td></tr>\n",
       "\t<tr><th scope=row>s4d9_TACTGGCCAGCAACAG-1</th><td>s4d9_TACTGGCCAGCAACAG-1</td><td>1235</td><td>126</td><td>K562</td><td>7.118826</td><td>0.10202429</td></tr>\n",
       "\t<tr><th scope=row>s4d9_CTGCTACTCAGGTCCA-1</th><td>s4d9_CTGCTACTCAGGTCCA-1</td><td>1234</td><td> 55</td><td>K562</td><td>7.118016</td><td>0.04457050</td></tr>\n",
       "\t<tr><th scope=row>s4d9_CTGTGTGAGGGCTTAT-1</th><td>s4d9_CTGTGTGAGGGCTTAT-1</td><td> 783</td><td> 72</td><td>K562</td><td>6.663133</td><td>0.09195402</td></tr>\n",
       "\t<tr><th scope=row>s4d9_GCTTACCTCTCTAGCC-1</th><td>s4d9_GCTTACCTCTCTAGCC-1</td><td>1002</td><td> 51</td><td>K562</td><td>6.909753</td><td>0.05089820</td></tr>\n",
       "\t<tr><th scope=row>s4d9_AGCATCCCAATCGCAC-1</th><td>s4d9_AGCATCCCAATCGCAC-1</td><td> 722</td><td> 26</td><td>K562</td><td>6.582025</td><td>0.03601108</td></tr>\n",
       "\t<tr><th scope=row>s4d9_ATCCTGACAATAGTCT-1</th><td>s4d9_ATCCTGACAATAGTCT-1</td><td>1212</td><td> 55</td><td>K562</td><td>7.100027</td><td>0.04537954</td></tr>\n",
       "\t<tr><th scope=row>s4d9_TTGCTCTCAGTACCGT-1</th><td>s4d9_TTGCTCTCAGTACCGT-1</td><td>1238</td><td>141</td><td>K562</td><td>7.121252</td><td>0.11389338</td></tr>\n",
       "\t<tr><th scope=row>s4d9_GGGTCAACAACTAACT-1</th><td>s4d9_GGGTCAACAACTAACT-1</td><td>2372</td><td>200</td><td>K562</td><td>7.771489</td><td>0.08431703</td></tr>\n",
       "\t<tr><th scope=row>s4d9_GGTAATTGTACGGTAC-1</th><td>s4d9_GGTAATTGTACGGTAC-1</td><td>1005</td><td> 83</td><td>K562</td><td>6.912743</td><td>0.08258706</td></tr>\n",
       "\t<tr><th scope=row>s4d9_TTTGTGGCATAAAGCA-1</th><td>s4d9_TTTGTGGCATAAAGCA-1</td><td> 941</td><td> 78</td><td>K562</td><td>6.846943</td><td>0.08289054</td></tr>\n",
       "\t<tr><th scope=row>s4d9_CATCCCAGTCTCACTG-1</th><td>s4d9_CATCCCAGTCTCACTG-1</td><td>1285</td><td> 91</td><td>K562</td><td>7.158514</td><td>0.07081712</td></tr>\n",
       "\t<tr><th scope=row>s4d9_CCTTAGTGTCAGGAAG-1</th><td>s4d9_CCTTAGTGTCAGGAAG-1</td><td> 858</td><td> 83</td><td>K562</td><td>6.754604</td><td>0.09673660</td></tr>\n",
       "\t<tr><th scope=row>s4d9_CCAATATCAATTGAGA-1</th><td>s4d9_CCAATATCAATTGAGA-1</td><td>3861</td><td>266</td><td>K562</td><td>8.258681</td><td>0.06889407</td></tr>\n",
       "\t<tr><th scope=row>s4d9_GACAATACATAATTGC-1</th><td>s4d9_GACAATACATAATTGC-1</td><td> 684</td><td> 29</td><td>K562</td><td>6.527958</td><td>0.04239766</td></tr>\n",
       "\t<tr><th scope=row>s4d9_AGTCAATGTTCGCGCT-1</th><td>s4d9_AGTCAATGTTCGCGCT-1</td><td> 926</td><td> 85</td><td>K562</td><td>6.830874</td><td>0.09179266</td></tr>\n",
       "\t<tr><th scope=row>s4d9_TCTAGCGAGCCACATG-1</th><td>s4d9_TCTAGCGAGCCACATG-1</td><td>1710</td><td>138</td><td>K562</td><td>7.444249</td><td>0.08070175</td></tr>\n",
       "\t<tr><th scope=row>s4d9_ACGAAGTCACGAACAG-1</th><td>s4d9_ACGAAGTCACGAACAG-1</td><td> 795</td><td> 63</td><td>K562</td><td>6.678342</td><td>0.07924528</td></tr>\n",
       "\t<tr><th scope=row>s4d9_GGTCCGTAGCACAGAA-1</th><td>s4d9_GGTCCGTAGCACAGAA-1</td><td>1239</td><td> 78</td><td>K562</td><td>7.122060</td><td>0.06295400</td></tr>\n",
       "\t<tr><th scope=row>s4d9_ATGACAACATGAATAG-1</th><td>s4d9_ATGACAACATGAATAG-1</td><td>1590</td><td>148</td><td>K562</td><td>7.371489</td><td>0.09308176</td></tr>\n",
       "\t<tr><th scope=row>s4d9_TACCTCATCATGCGTG-1</th><td>s4d9_TACCTCATCATGCGTG-1</td><td> 995</td><td>105</td><td>K562</td><td>6.902743</td><td>0.10552764</td></tr>\n",
       "\t<tr><th scope=row>s4d9_TATGGCCCAGGCTACT-1</th><td>s4d9_TATGGCCCAGGCTACT-1</td><td>1122</td><td>161</td><td>K562</td><td>7.022868</td><td>0.14349376</td></tr>\n",
       "\t<tr><th scope=row>s4d9_TGTGGAGCAGAAATGC-1</th><td>s4d9_TGTGGAGCAGAAATGC-1</td><td> 569</td><td> 24</td><td>K562</td><td>6.343880</td><td>0.04217926</td></tr>\n",
       "\t<tr><th scope=row>s4d9_ATTGAAGCACATTGCA-1</th><td>s4d9_ATTGAAGCACATTGCA-1</td><td> 607</td><td> 49</td><td>K562</td><td>6.408529</td><td>0.08072488</td></tr>\n",
       "\t<tr><th scope=row>s4d9_TGAACAACAGTGAACG-1</th><td>s4d9_TGAACAACAGTGAACG-1</td><td> 705</td><td> 60</td><td>K562</td><td>6.558198</td><td>0.08510638</td></tr>\n",
       "\t<tr><th scope=row>s4d9_CGATTCCTCCTGGCTT-1</th><td>s4d9_CGATTCCTCCTGGCTT-1</td><td> 884</td><td> 37</td><td>K562</td><td>6.784457</td><td>0.04185520</td></tr>\n",
       "\t<tr><th scope=row>s4d9_AAACCGCGTTTGAGGC-1</th><td>s4d9_AAACCGCGTTTGAGGC-1</td><td> 777</td><td> 80</td><td>K562</td><td>6.655440</td><td>0.10296010</td></tr>\n",
       "\t<tr><th scope=row>s4d9_GCTGTACCACCGTTCC-1</th><td>s4d9_GCTGTACCACCGTTCC-1</td><td> 740</td><td> 98</td><td>K562</td><td>6.606650</td><td>0.13243243</td></tr>\n",
       "</tbody>\n",
       "</table>\n"
      ],
      "text/latex": [
       "A data.frame: 22525 × 6\n",
       "\\begin{tabular}{r|llllll}\n",
       "  & cell & nUMI & nMito & celltype & log.nUMI & percent.mito\\\\\n",
       "  & <chr> & <dbl> & <dbl> & <chr> & <dbl> & <dbl>\\\\\n",
       "\\hline\n",
       "\ts1d1\\_CCGCACACAGGTTAAA-1 & s1d1\\_CCGCACACAGGTTAAA-1 &  8311 & 115 & K562 & 9.025335 & 0.013837083\\\\\n",
       "\ts1d1\\_TCATTTGGTAATGGAA-1 & s1d1\\_TCATTTGGTAATGGAA-1 &  1291 &  20 & K562 & 7.163172 & 0.015491867\\\\\n",
       "\ts1d1\\_GACTTAGGTTGCGCGA-1 & s1d1\\_GACTTAGGTTGCGCGA-1 &  1182 &  17 & K562 & 7.074963 & 0.014382403\\\\\n",
       "\ts1d1\\_GCCTTACTCGTTACAA-1 & s1d1\\_GCCTTACTCGTTACAA-1 & 10154 &  98 & K562 & 9.225623 & 0.009651369\\\\\n",
       "\ts1d1\\_TGTCCTGGTCAATGTG-1 & s1d1\\_TGTCCTGGTCAATGTG-1 &  1844 &  21 & K562 & 7.519692 & 0.011388286\\\\\n",
       "\ts1d1\\_AGAATCGAGAAAGGAA-1 & s1d1\\_AGAATCGAGAAAGGAA-1 &  4293 &  78 & K562 & 8.364741 & 0.018169113\\\\\n",
       "\ts1d1\\_ATGTGAGAGGCGAAAC-1 & s1d1\\_ATGTGAGAGGCGAAAC-1 &  1126 &  19 & K562 & 7.026427 & 0.016873890\\\\\n",
       "\ts1d1\\_CGCTTCTAGTGACCTG-1 & s1d1\\_CGCTTCTAGTGACCTG-1 &  1697 &  18 & K562 & 7.436617 & 0.010606953\\\\\n",
       "\ts1d1\\_GAGCTGCTCTTGTCCA-1 & s1d1\\_GAGCTGCTCTTGTCCA-1 &  2229 &  37 & K562 & 7.709308 & 0.016599372\\\\\n",
       "\ts1d1\\_TAGTCAATCGTGCTTC-1 & s1d1\\_TAGTCAATCGTGCTTC-1 &  1613 &  39 & K562 & 7.385851 & 0.024178549\\\\\n",
       "\ts1d1\\_GTTACTAAGGTGAAGC-1 & s1d1\\_GTTACTAAGGTGAAGC-1 &  1472 &  30 & K562 & 7.294377 & 0.020380435\\\\\n",
       "\ts1d1\\_AGGAACGGTTTGTCTA-1 & s1d1\\_AGGAACGGTTTGTCTA-1 &  2665 &  24 & K562 & 7.887959 & 0.009005629\\\\\n",
       "\ts1d1\\_CTAGTAATCGTGCTAG-1 & s1d1\\_CTAGTAATCGTGCTAG-1 &  2157 &  36 & K562 & 7.676474 & 0.016689847\\\\\n",
       "\ts1d1\\_GCCTTAGAGCTAAGTC-1 & s1d1\\_GCCTTAGAGCTAAGTC-1 &  1626 &  39 & K562 & 7.393878 & 0.023985240\\\\\n",
       "\ts1d1\\_TAGCGCGGTTGCAATG-1 & s1d1\\_TAGCGCGGTTGCAATG-1 &  1799 &  26 & K562 & 7.494986 & 0.014452474\\\\\n",
       "\ts1d1\\_AGCAAATAGAATGACG-1 & s1d1\\_AGCAAATAGAATGACG-1 &  3431 &  45 & K562 & 8.140607 & 0.013115710\\\\\n",
       "\ts1d1\\_AAGCCTCCAGGAATCG-1 & s1d1\\_AAGCCTCCAGGAATCG-1 &  2557 &  27 & K562 & 7.846590 & 0.010559249\\\\\n",
       "\ts1d1\\_GTCAATATCTGGCAAT-1 & s1d1\\_GTCAATATCTGGCAAT-1 &  1444 &  21 & K562 & 7.275172 & 0.014542936\\\\\n",
       "\ts1d1\\_CCGGTTAAGGTAACGA-1 & s1d1\\_CCGGTTAAGGTAACGA-1 &  2398 &  37 & K562 & 7.782390 & 0.015429525\\\\\n",
       "\ts1d1\\_TGTTGCACAGTCTATG-1 & s1d1\\_TGTTGCACAGTCTATG-1 &  1802 &  21 & K562 & 7.496652 & 0.011653718\\\\\n",
       "\ts1d1\\_GTATGTTCAGCATGAG-1 & s1d1\\_GTATGTTCAGCATGAG-1 &  2288 &  31 & K562 & 7.735433 & 0.013548951\\\\\n",
       "\ts1d1\\_GTTTAGCAGCTTCCCG-1 & s1d1\\_GTTTAGCAGCTTCCCG-1 &  2008 &  43 & K562 & 7.604894 & 0.021414343\\\\\n",
       "\ts1d1\\_CTTGTAAAGATAAAGC-1 & s1d1\\_CTTGTAAAGATAAAGC-1 &  2168 &  38 & K562 & 7.681560 & 0.017527675\\\\\n",
       "\ts1d1\\_TAGTCAATCAGCACGC-1 & s1d1\\_TAGTCAATCAGCACGC-1 &  5199 &  42 & K562 & 8.556222 & 0.008078477\\\\\n",
       "\ts1d1\\_GGTGAGCCAATATACC-1 & s1d1\\_GGTGAGCCAATATACC-1 &  2804 &  69 & K562 & 7.938802 & 0.024607703\\\\\n",
       "\ts1d1\\_CCGCTAGCATCTTGAG-1 & s1d1\\_CCGCTAGCATCTTGAG-1 &  2683 &  37 & K562 & 7.894691 & 0.013790533\\\\\n",
       "\ts1d1\\_ACGCTTGAGTCATCCC-1 & s1d1\\_ACGCTTGAGTCATCCC-1 &  1624 &  39 & K562 & 7.392648 & 0.024014778\\\\\n",
       "\ts1d1\\_TCTTGTCCAATCGCAC-1 & s1d1\\_TCTTGTCCAATCGCAC-1 &  2671 &  25 & K562 & 7.890208 & 0.009359790\\\\\n",
       "\ts1d1\\_TAGCGCGGTCAATACG-1 & s1d1\\_TAGCGCGGTCAATACG-1 &  1732 &  46 & K562 & 7.457032 & 0.026558891\\\\\n",
       "\ts1d1\\_CAGCTATAGACAAACG-1 & s1d1\\_CAGCTATAGACAAACG-1 &  2415 &  21 & K562 & 7.789455 & 0.008695652\\\\\n",
       "\t⋮ & ⋮ & ⋮ & ⋮ & ⋮ & ⋮ & ⋮\\\\\n",
       "\ts4d9\\_AACTGTTCAAATTCGT-1 & s4d9\\_AACTGTTCAAATTCGT-1 & 1147 &  93 & K562 & 7.044905 & 0.08108108\\\\\n",
       "\ts4d9\\_CTATGTTTCAATGAGG-1 & s4d9\\_CTATGTTTCAATGAGG-1 &  905 &  63 & K562 & 6.807935 & 0.06961326\\\\\n",
       "\ts4d9\\_AGGTCTTAGCGCCTAA-1 & s4d9\\_AGGTCTTAGCGCCTAA-1 &  970 &  65 & K562 & 6.877296 & 0.06701031\\\\\n",
       "\ts4d9\\_TACTGGCCAGCAACAG-1 & s4d9\\_TACTGGCCAGCAACAG-1 & 1235 & 126 & K562 & 7.118826 & 0.10202429\\\\\n",
       "\ts4d9\\_CTGCTACTCAGGTCCA-1 & s4d9\\_CTGCTACTCAGGTCCA-1 & 1234 &  55 & K562 & 7.118016 & 0.04457050\\\\\n",
       "\ts4d9\\_CTGTGTGAGGGCTTAT-1 & s4d9\\_CTGTGTGAGGGCTTAT-1 &  783 &  72 & K562 & 6.663133 & 0.09195402\\\\\n",
       "\ts4d9\\_GCTTACCTCTCTAGCC-1 & s4d9\\_GCTTACCTCTCTAGCC-1 & 1002 &  51 & K562 & 6.909753 & 0.05089820\\\\\n",
       "\ts4d9\\_AGCATCCCAATCGCAC-1 & s4d9\\_AGCATCCCAATCGCAC-1 &  722 &  26 & K562 & 6.582025 & 0.03601108\\\\\n",
       "\ts4d9\\_ATCCTGACAATAGTCT-1 & s4d9\\_ATCCTGACAATAGTCT-1 & 1212 &  55 & K562 & 7.100027 & 0.04537954\\\\\n",
       "\ts4d9\\_TTGCTCTCAGTACCGT-1 & s4d9\\_TTGCTCTCAGTACCGT-1 & 1238 & 141 & K562 & 7.121252 & 0.11389338\\\\\n",
       "\ts4d9\\_GGGTCAACAACTAACT-1 & s4d9\\_GGGTCAACAACTAACT-1 & 2372 & 200 & K562 & 7.771489 & 0.08431703\\\\\n",
       "\ts4d9\\_GGTAATTGTACGGTAC-1 & s4d9\\_GGTAATTGTACGGTAC-1 & 1005 &  83 & K562 & 6.912743 & 0.08258706\\\\\n",
       "\ts4d9\\_TTTGTGGCATAAAGCA-1 & s4d9\\_TTTGTGGCATAAAGCA-1 &  941 &  78 & K562 & 6.846943 & 0.08289054\\\\\n",
       "\ts4d9\\_CATCCCAGTCTCACTG-1 & s4d9\\_CATCCCAGTCTCACTG-1 & 1285 &  91 & K562 & 7.158514 & 0.07081712\\\\\n",
       "\ts4d9\\_CCTTAGTGTCAGGAAG-1 & s4d9\\_CCTTAGTGTCAGGAAG-1 &  858 &  83 & K562 & 6.754604 & 0.09673660\\\\\n",
       "\ts4d9\\_CCAATATCAATTGAGA-1 & s4d9\\_CCAATATCAATTGAGA-1 & 3861 & 266 & K562 & 8.258681 & 0.06889407\\\\\n",
       "\ts4d9\\_GACAATACATAATTGC-1 & s4d9\\_GACAATACATAATTGC-1 &  684 &  29 & K562 & 6.527958 & 0.04239766\\\\\n",
       "\ts4d9\\_AGTCAATGTTCGCGCT-1 & s4d9\\_AGTCAATGTTCGCGCT-1 &  926 &  85 & K562 & 6.830874 & 0.09179266\\\\\n",
       "\ts4d9\\_TCTAGCGAGCCACATG-1 & s4d9\\_TCTAGCGAGCCACATG-1 & 1710 & 138 & K562 & 7.444249 & 0.08070175\\\\\n",
       "\ts4d9\\_ACGAAGTCACGAACAG-1 & s4d9\\_ACGAAGTCACGAACAG-1 &  795 &  63 & K562 & 6.678342 & 0.07924528\\\\\n",
       "\ts4d9\\_GGTCCGTAGCACAGAA-1 & s4d9\\_GGTCCGTAGCACAGAA-1 & 1239 &  78 & K562 & 7.122060 & 0.06295400\\\\\n",
       "\ts4d9\\_ATGACAACATGAATAG-1 & s4d9\\_ATGACAACATGAATAG-1 & 1590 & 148 & K562 & 7.371489 & 0.09308176\\\\\n",
       "\ts4d9\\_TACCTCATCATGCGTG-1 & s4d9\\_TACCTCATCATGCGTG-1 &  995 & 105 & K562 & 6.902743 & 0.10552764\\\\\n",
       "\ts4d9\\_TATGGCCCAGGCTACT-1 & s4d9\\_TATGGCCCAGGCTACT-1 & 1122 & 161 & K562 & 7.022868 & 0.14349376\\\\\n",
       "\ts4d9\\_TGTGGAGCAGAAATGC-1 & s4d9\\_TGTGGAGCAGAAATGC-1 &  569 &  24 & K562 & 6.343880 & 0.04217926\\\\\n",
       "\ts4d9\\_ATTGAAGCACATTGCA-1 & s4d9\\_ATTGAAGCACATTGCA-1 &  607 &  49 & K562 & 6.408529 & 0.08072488\\\\\n",
       "\ts4d9\\_TGAACAACAGTGAACG-1 & s4d9\\_TGAACAACAGTGAACG-1 &  705 &  60 & K562 & 6.558198 & 0.08510638\\\\\n",
       "\ts4d9\\_CGATTCCTCCTGGCTT-1 & s4d9\\_CGATTCCTCCTGGCTT-1 &  884 &  37 & K562 & 6.784457 & 0.04185520\\\\\n",
       "\ts4d9\\_AAACCGCGTTTGAGGC-1 & s4d9\\_AAACCGCGTTTGAGGC-1 &  777 &  80 & K562 & 6.655440 & 0.10296010\\\\\n",
       "\ts4d9\\_GCTGTACCACCGTTCC-1 & s4d9\\_GCTGTACCACCGTTCC-1 &  740 &  98 & K562 & 6.606650 & 0.13243243\\\\\n",
       "\\end{tabular}\n"
      ],
      "text/markdown": [
       "\n",
       "A data.frame: 22525 × 6\n",
       "\n",
       "| <!--/--> | cell &lt;chr&gt; | nUMI &lt;dbl&gt; | nMito &lt;dbl&gt; | celltype &lt;chr&gt; | log.nUMI &lt;dbl&gt; | percent.mito &lt;dbl&gt; |\n",
       "|---|---|---|---|---|---|---|\n",
       "| s1d1_CCGCACACAGGTTAAA-1 | s1d1_CCGCACACAGGTTAAA-1 |  8311 | 115 | K562 | 9.025335 | 0.013837083 |\n",
       "| s1d1_TCATTTGGTAATGGAA-1 | s1d1_TCATTTGGTAATGGAA-1 |  1291 |  20 | K562 | 7.163172 | 0.015491867 |\n",
       "| s1d1_GACTTAGGTTGCGCGA-1 | s1d1_GACTTAGGTTGCGCGA-1 |  1182 |  17 | K562 | 7.074963 | 0.014382403 |\n",
       "| s1d1_GCCTTACTCGTTACAA-1 | s1d1_GCCTTACTCGTTACAA-1 | 10154 |  98 | K562 | 9.225623 | 0.009651369 |\n",
       "| s1d1_TGTCCTGGTCAATGTG-1 | s1d1_TGTCCTGGTCAATGTG-1 |  1844 |  21 | K562 | 7.519692 | 0.011388286 |\n",
       "| s1d1_AGAATCGAGAAAGGAA-1 | s1d1_AGAATCGAGAAAGGAA-1 |  4293 |  78 | K562 | 8.364741 | 0.018169113 |\n",
       "| s1d1_ATGTGAGAGGCGAAAC-1 | s1d1_ATGTGAGAGGCGAAAC-1 |  1126 |  19 | K562 | 7.026427 | 0.016873890 |\n",
       "| s1d1_CGCTTCTAGTGACCTG-1 | s1d1_CGCTTCTAGTGACCTG-1 |  1697 |  18 | K562 | 7.436617 | 0.010606953 |\n",
       "| s1d1_GAGCTGCTCTTGTCCA-1 | s1d1_GAGCTGCTCTTGTCCA-1 |  2229 |  37 | K562 | 7.709308 | 0.016599372 |\n",
       "| s1d1_TAGTCAATCGTGCTTC-1 | s1d1_TAGTCAATCGTGCTTC-1 |  1613 |  39 | K562 | 7.385851 | 0.024178549 |\n",
       "| s1d1_GTTACTAAGGTGAAGC-1 | s1d1_GTTACTAAGGTGAAGC-1 |  1472 |  30 | K562 | 7.294377 | 0.020380435 |\n",
       "| s1d1_AGGAACGGTTTGTCTA-1 | s1d1_AGGAACGGTTTGTCTA-1 |  2665 |  24 | K562 | 7.887959 | 0.009005629 |\n",
       "| s1d1_CTAGTAATCGTGCTAG-1 | s1d1_CTAGTAATCGTGCTAG-1 |  2157 |  36 | K562 | 7.676474 | 0.016689847 |\n",
       "| s1d1_GCCTTAGAGCTAAGTC-1 | s1d1_GCCTTAGAGCTAAGTC-1 |  1626 |  39 | K562 | 7.393878 | 0.023985240 |\n",
       "| s1d1_TAGCGCGGTTGCAATG-1 | s1d1_TAGCGCGGTTGCAATG-1 |  1799 |  26 | K562 | 7.494986 | 0.014452474 |\n",
       "| s1d1_AGCAAATAGAATGACG-1 | s1d1_AGCAAATAGAATGACG-1 |  3431 |  45 | K562 | 8.140607 | 0.013115710 |\n",
       "| s1d1_AAGCCTCCAGGAATCG-1 | s1d1_AAGCCTCCAGGAATCG-1 |  2557 |  27 | K562 | 7.846590 | 0.010559249 |\n",
       "| s1d1_GTCAATATCTGGCAAT-1 | s1d1_GTCAATATCTGGCAAT-1 |  1444 |  21 | K562 | 7.275172 | 0.014542936 |\n",
       "| s1d1_CCGGTTAAGGTAACGA-1 | s1d1_CCGGTTAAGGTAACGA-1 |  2398 |  37 | K562 | 7.782390 | 0.015429525 |\n",
       "| s1d1_TGTTGCACAGTCTATG-1 | s1d1_TGTTGCACAGTCTATG-1 |  1802 |  21 | K562 | 7.496652 | 0.011653718 |\n",
       "| s1d1_GTATGTTCAGCATGAG-1 | s1d1_GTATGTTCAGCATGAG-1 |  2288 |  31 | K562 | 7.735433 | 0.013548951 |\n",
       "| s1d1_GTTTAGCAGCTTCCCG-1 | s1d1_GTTTAGCAGCTTCCCG-1 |  2008 |  43 | K562 | 7.604894 | 0.021414343 |\n",
       "| s1d1_CTTGTAAAGATAAAGC-1 | s1d1_CTTGTAAAGATAAAGC-1 |  2168 |  38 | K562 | 7.681560 | 0.017527675 |\n",
       "| s1d1_TAGTCAATCAGCACGC-1 | s1d1_TAGTCAATCAGCACGC-1 |  5199 |  42 | K562 | 8.556222 | 0.008078477 |\n",
       "| s1d1_GGTGAGCCAATATACC-1 | s1d1_GGTGAGCCAATATACC-1 |  2804 |  69 | K562 | 7.938802 | 0.024607703 |\n",
       "| s1d1_CCGCTAGCATCTTGAG-1 | s1d1_CCGCTAGCATCTTGAG-1 |  2683 |  37 | K562 | 7.894691 | 0.013790533 |\n",
       "| s1d1_ACGCTTGAGTCATCCC-1 | s1d1_ACGCTTGAGTCATCCC-1 |  1624 |  39 | K562 | 7.392648 | 0.024014778 |\n",
       "| s1d1_TCTTGTCCAATCGCAC-1 | s1d1_TCTTGTCCAATCGCAC-1 |  2671 |  25 | K562 | 7.890208 | 0.009359790 |\n",
       "| s1d1_TAGCGCGGTCAATACG-1 | s1d1_TAGCGCGGTCAATACG-1 |  1732 |  46 | K562 | 7.457032 | 0.026558891 |\n",
       "| s1d1_CAGCTATAGACAAACG-1 | s1d1_CAGCTATAGACAAACG-1 |  2415 |  21 | K562 | 7.789455 | 0.008695652 |\n",
       "| ⋮ | ⋮ | ⋮ | ⋮ | ⋮ | ⋮ | ⋮ |\n",
       "| s4d9_AACTGTTCAAATTCGT-1 | s4d9_AACTGTTCAAATTCGT-1 | 1147 |  93 | K562 | 7.044905 | 0.08108108 |\n",
       "| s4d9_CTATGTTTCAATGAGG-1 | s4d9_CTATGTTTCAATGAGG-1 |  905 |  63 | K562 | 6.807935 | 0.06961326 |\n",
       "| s4d9_AGGTCTTAGCGCCTAA-1 | s4d9_AGGTCTTAGCGCCTAA-1 |  970 |  65 | K562 | 6.877296 | 0.06701031 |\n",
       "| s4d9_TACTGGCCAGCAACAG-1 | s4d9_TACTGGCCAGCAACAG-1 | 1235 | 126 | K562 | 7.118826 | 0.10202429 |\n",
       "| s4d9_CTGCTACTCAGGTCCA-1 | s4d9_CTGCTACTCAGGTCCA-1 | 1234 |  55 | K562 | 7.118016 | 0.04457050 |\n",
       "| s4d9_CTGTGTGAGGGCTTAT-1 | s4d9_CTGTGTGAGGGCTTAT-1 |  783 |  72 | K562 | 6.663133 | 0.09195402 |\n",
       "| s4d9_GCTTACCTCTCTAGCC-1 | s4d9_GCTTACCTCTCTAGCC-1 | 1002 |  51 | K562 | 6.909753 | 0.05089820 |\n",
       "| s4d9_AGCATCCCAATCGCAC-1 | s4d9_AGCATCCCAATCGCAC-1 |  722 |  26 | K562 | 6.582025 | 0.03601108 |\n",
       "| s4d9_ATCCTGACAATAGTCT-1 | s4d9_ATCCTGACAATAGTCT-1 | 1212 |  55 | K562 | 7.100027 | 0.04537954 |\n",
       "| s4d9_TTGCTCTCAGTACCGT-1 | s4d9_TTGCTCTCAGTACCGT-1 | 1238 | 141 | K562 | 7.121252 | 0.11389338 |\n",
       "| s4d9_GGGTCAACAACTAACT-1 | s4d9_GGGTCAACAACTAACT-1 | 2372 | 200 | K562 | 7.771489 | 0.08431703 |\n",
       "| s4d9_GGTAATTGTACGGTAC-1 | s4d9_GGTAATTGTACGGTAC-1 | 1005 |  83 | K562 | 6.912743 | 0.08258706 |\n",
       "| s4d9_TTTGTGGCATAAAGCA-1 | s4d9_TTTGTGGCATAAAGCA-1 |  941 |  78 | K562 | 6.846943 | 0.08289054 |\n",
       "| s4d9_CATCCCAGTCTCACTG-1 | s4d9_CATCCCAGTCTCACTG-1 | 1285 |  91 | K562 | 7.158514 | 0.07081712 |\n",
       "| s4d9_CCTTAGTGTCAGGAAG-1 | s4d9_CCTTAGTGTCAGGAAG-1 |  858 |  83 | K562 | 6.754604 | 0.09673660 |\n",
       "| s4d9_CCAATATCAATTGAGA-1 | s4d9_CCAATATCAATTGAGA-1 | 3861 | 266 | K562 | 8.258681 | 0.06889407 |\n",
       "| s4d9_GACAATACATAATTGC-1 | s4d9_GACAATACATAATTGC-1 |  684 |  29 | K562 | 6.527958 | 0.04239766 |\n",
       "| s4d9_AGTCAATGTTCGCGCT-1 | s4d9_AGTCAATGTTCGCGCT-1 |  926 |  85 | K562 | 6.830874 | 0.09179266 |\n",
       "| s4d9_TCTAGCGAGCCACATG-1 | s4d9_TCTAGCGAGCCACATG-1 | 1710 | 138 | K562 | 7.444249 | 0.08070175 |\n",
       "| s4d9_ACGAAGTCACGAACAG-1 | s4d9_ACGAAGTCACGAACAG-1 |  795 |  63 | K562 | 6.678342 | 0.07924528 |\n",
       "| s4d9_GGTCCGTAGCACAGAA-1 | s4d9_GGTCCGTAGCACAGAA-1 | 1239 |  78 | K562 | 7.122060 | 0.06295400 |\n",
       "| s4d9_ATGACAACATGAATAG-1 | s4d9_ATGACAACATGAATAG-1 | 1590 | 148 | K562 | 7.371489 | 0.09308176 |\n",
       "| s4d9_TACCTCATCATGCGTG-1 | s4d9_TACCTCATCATGCGTG-1 |  995 | 105 | K562 | 6.902743 | 0.10552764 |\n",
       "| s4d9_TATGGCCCAGGCTACT-1 | s4d9_TATGGCCCAGGCTACT-1 | 1122 | 161 | K562 | 7.022868 | 0.14349376 |\n",
       "| s4d9_TGTGGAGCAGAAATGC-1 | s4d9_TGTGGAGCAGAAATGC-1 |  569 |  24 | K562 | 6.343880 | 0.04217926 |\n",
       "| s4d9_ATTGAAGCACATTGCA-1 | s4d9_ATTGAAGCACATTGCA-1 |  607 |  49 | K562 | 6.408529 | 0.08072488 |\n",
       "| s4d9_TGAACAACAGTGAACG-1 | s4d9_TGAACAACAGTGAACG-1 |  705 |  60 | K562 | 6.558198 | 0.08510638 |\n",
       "| s4d9_CGATTCCTCCTGGCTT-1 | s4d9_CGATTCCTCCTGGCTT-1 |  884 |  37 | K562 | 6.784457 | 0.04185520 |\n",
       "| s4d9_AAACCGCGTTTGAGGC-1 | s4d9_AAACCGCGTTTGAGGC-1 |  777 |  80 | K562 | 6.655440 | 0.10296010 |\n",
       "| s4d9_GCTGTACCACCGTTCC-1 | s4d9_GCTGTACCACCGTTCC-1 |  740 |  98 | K562 | 6.606650 | 0.13243243 |\n",
       "\n"
      ],
      "text/plain": [
       "                        cell                    nUMI  nMito celltype log.nUMI\n",
       "s1d1_CCGCACACAGGTTAAA-1 s1d1_CCGCACACAGGTTAAA-1  8311 115   K562     9.025335\n",
       "s1d1_TCATTTGGTAATGGAA-1 s1d1_TCATTTGGTAATGGAA-1  1291  20   K562     7.163172\n",
       "s1d1_GACTTAGGTTGCGCGA-1 s1d1_GACTTAGGTTGCGCGA-1  1182  17   K562     7.074963\n",
       "s1d1_GCCTTACTCGTTACAA-1 s1d1_GCCTTACTCGTTACAA-1 10154  98   K562     9.225623\n",
       "s1d1_TGTCCTGGTCAATGTG-1 s1d1_TGTCCTGGTCAATGTG-1  1844  21   K562     7.519692\n",
       "s1d1_AGAATCGAGAAAGGAA-1 s1d1_AGAATCGAGAAAGGAA-1  4293  78   K562     8.364741\n",
       "s1d1_ATGTGAGAGGCGAAAC-1 s1d1_ATGTGAGAGGCGAAAC-1  1126  19   K562     7.026427\n",
       "s1d1_CGCTTCTAGTGACCTG-1 s1d1_CGCTTCTAGTGACCTG-1  1697  18   K562     7.436617\n",
       "s1d1_GAGCTGCTCTTGTCCA-1 s1d1_GAGCTGCTCTTGTCCA-1  2229  37   K562     7.709308\n",
       "s1d1_TAGTCAATCGTGCTTC-1 s1d1_TAGTCAATCGTGCTTC-1  1613  39   K562     7.385851\n",
       "s1d1_GTTACTAAGGTGAAGC-1 s1d1_GTTACTAAGGTGAAGC-1  1472  30   K562     7.294377\n",
       "s1d1_AGGAACGGTTTGTCTA-1 s1d1_AGGAACGGTTTGTCTA-1  2665  24   K562     7.887959\n",
       "s1d1_CTAGTAATCGTGCTAG-1 s1d1_CTAGTAATCGTGCTAG-1  2157  36   K562     7.676474\n",
       "s1d1_GCCTTAGAGCTAAGTC-1 s1d1_GCCTTAGAGCTAAGTC-1  1626  39   K562     7.393878\n",
       "s1d1_TAGCGCGGTTGCAATG-1 s1d1_TAGCGCGGTTGCAATG-1  1799  26   K562     7.494986\n",
       "s1d1_AGCAAATAGAATGACG-1 s1d1_AGCAAATAGAATGACG-1  3431  45   K562     8.140607\n",
       "s1d1_AAGCCTCCAGGAATCG-1 s1d1_AAGCCTCCAGGAATCG-1  2557  27   K562     7.846590\n",
       "s1d1_GTCAATATCTGGCAAT-1 s1d1_GTCAATATCTGGCAAT-1  1444  21   K562     7.275172\n",
       "s1d1_CCGGTTAAGGTAACGA-1 s1d1_CCGGTTAAGGTAACGA-1  2398  37   K562     7.782390\n",
       "s1d1_TGTTGCACAGTCTATG-1 s1d1_TGTTGCACAGTCTATG-1  1802  21   K562     7.496652\n",
       "s1d1_GTATGTTCAGCATGAG-1 s1d1_GTATGTTCAGCATGAG-1  2288  31   K562     7.735433\n",
       "s1d1_GTTTAGCAGCTTCCCG-1 s1d1_GTTTAGCAGCTTCCCG-1  2008  43   K562     7.604894\n",
       "s1d1_CTTGTAAAGATAAAGC-1 s1d1_CTTGTAAAGATAAAGC-1  2168  38   K562     7.681560\n",
       "s1d1_TAGTCAATCAGCACGC-1 s1d1_TAGTCAATCAGCACGC-1  5199  42   K562     8.556222\n",
       "s1d1_GGTGAGCCAATATACC-1 s1d1_GGTGAGCCAATATACC-1  2804  69   K562     7.938802\n",
       "s1d1_CCGCTAGCATCTTGAG-1 s1d1_CCGCTAGCATCTTGAG-1  2683  37   K562     7.894691\n",
       "s1d1_ACGCTTGAGTCATCCC-1 s1d1_ACGCTTGAGTCATCCC-1  1624  39   K562     7.392648\n",
       "s1d1_TCTTGTCCAATCGCAC-1 s1d1_TCTTGTCCAATCGCAC-1  2671  25   K562     7.890208\n",
       "s1d1_TAGCGCGGTCAATACG-1 s1d1_TAGCGCGGTCAATACG-1  1732  46   K562     7.457032\n",
       "s1d1_CAGCTATAGACAAACG-1 s1d1_CAGCTATAGACAAACG-1  2415  21   K562     7.789455\n",
       "⋮                       ⋮                       ⋮     ⋮     ⋮        ⋮       \n",
       "s4d9_AACTGTTCAAATTCGT-1 s4d9_AACTGTTCAAATTCGT-1 1147   93   K562     7.044905\n",
       "s4d9_CTATGTTTCAATGAGG-1 s4d9_CTATGTTTCAATGAGG-1  905   63   K562     6.807935\n",
       "s4d9_AGGTCTTAGCGCCTAA-1 s4d9_AGGTCTTAGCGCCTAA-1  970   65   K562     6.877296\n",
       "s4d9_TACTGGCCAGCAACAG-1 s4d9_TACTGGCCAGCAACAG-1 1235  126   K562     7.118826\n",
       "s4d9_CTGCTACTCAGGTCCA-1 s4d9_CTGCTACTCAGGTCCA-1 1234   55   K562     7.118016\n",
       "s4d9_CTGTGTGAGGGCTTAT-1 s4d9_CTGTGTGAGGGCTTAT-1  783   72   K562     6.663133\n",
       "s4d9_GCTTACCTCTCTAGCC-1 s4d9_GCTTACCTCTCTAGCC-1 1002   51   K562     6.909753\n",
       "s4d9_AGCATCCCAATCGCAC-1 s4d9_AGCATCCCAATCGCAC-1  722   26   K562     6.582025\n",
       "s4d9_ATCCTGACAATAGTCT-1 s4d9_ATCCTGACAATAGTCT-1 1212   55   K562     7.100027\n",
       "s4d9_TTGCTCTCAGTACCGT-1 s4d9_TTGCTCTCAGTACCGT-1 1238  141   K562     7.121252\n",
       "s4d9_GGGTCAACAACTAACT-1 s4d9_GGGTCAACAACTAACT-1 2372  200   K562     7.771489\n",
       "s4d9_GGTAATTGTACGGTAC-1 s4d9_GGTAATTGTACGGTAC-1 1005   83   K562     6.912743\n",
       "s4d9_TTTGTGGCATAAAGCA-1 s4d9_TTTGTGGCATAAAGCA-1  941   78   K562     6.846943\n",
       "s4d9_CATCCCAGTCTCACTG-1 s4d9_CATCCCAGTCTCACTG-1 1285   91   K562     7.158514\n",
       "s4d9_CCTTAGTGTCAGGAAG-1 s4d9_CCTTAGTGTCAGGAAG-1  858   83   K562     6.754604\n",
       "s4d9_CCAATATCAATTGAGA-1 s4d9_CCAATATCAATTGAGA-1 3861  266   K562     8.258681\n",
       "s4d9_GACAATACATAATTGC-1 s4d9_GACAATACATAATTGC-1  684   29   K562     6.527958\n",
       "s4d9_AGTCAATGTTCGCGCT-1 s4d9_AGTCAATGTTCGCGCT-1  926   85   K562     6.830874\n",
       "s4d9_TCTAGCGAGCCACATG-1 s4d9_TCTAGCGAGCCACATG-1 1710  138   K562     7.444249\n",
       "s4d9_ACGAAGTCACGAACAG-1 s4d9_ACGAAGTCACGAACAG-1  795   63   K562     6.678342\n",
       "s4d9_GGTCCGTAGCACAGAA-1 s4d9_GGTCCGTAGCACAGAA-1 1239   78   K562     7.122060\n",
       "s4d9_ATGACAACATGAATAG-1 s4d9_ATGACAACATGAATAG-1 1590  148   K562     7.371489\n",
       "s4d9_TACCTCATCATGCGTG-1 s4d9_TACCTCATCATGCGTG-1  995  105   K562     6.902743\n",
       "s4d9_TATGGCCCAGGCTACT-1 s4d9_TATGGCCCAGGCTACT-1 1122  161   K562     7.022868\n",
       "s4d9_TGTGGAGCAGAAATGC-1 s4d9_TGTGGAGCAGAAATGC-1  569   24   K562     6.343880\n",
       "s4d9_ATTGAAGCACATTGCA-1 s4d9_ATTGAAGCACATTGCA-1  607   49   K562     6.408529\n",
       "s4d9_TGAACAACAGTGAACG-1 s4d9_TGAACAACAGTGAACG-1  705   60   K562     6.558198\n",
       "s4d9_CGATTCCTCCTGGCTT-1 s4d9_CGATTCCTCCTGGCTT-1  884   37   K562     6.784457\n",
       "s4d9_AAACCGCGTTTGAGGC-1 s4d9_AAACCGCGTTTGAGGC-1  777   80   K562     6.655440\n",
       "s4d9_GCTGTACCACCGTTCC-1 s4d9_GCTGTACCACCGTTCC-1  740   98   K562     6.606650\n",
       "                        percent.mito\n",
       "s1d1_CCGCACACAGGTTAAA-1 0.013837083 \n",
       "s1d1_TCATTTGGTAATGGAA-1 0.015491867 \n",
       "s1d1_GACTTAGGTTGCGCGA-1 0.014382403 \n",
       "s1d1_GCCTTACTCGTTACAA-1 0.009651369 \n",
       "s1d1_TGTCCTGGTCAATGTG-1 0.011388286 \n",
       "s1d1_AGAATCGAGAAAGGAA-1 0.018169113 \n",
       "s1d1_ATGTGAGAGGCGAAAC-1 0.016873890 \n",
       "s1d1_CGCTTCTAGTGACCTG-1 0.010606953 \n",
       "s1d1_GAGCTGCTCTTGTCCA-1 0.016599372 \n",
       "s1d1_TAGTCAATCGTGCTTC-1 0.024178549 \n",
       "s1d1_GTTACTAAGGTGAAGC-1 0.020380435 \n",
       "s1d1_AGGAACGGTTTGTCTA-1 0.009005629 \n",
       "s1d1_CTAGTAATCGTGCTAG-1 0.016689847 \n",
       "s1d1_GCCTTAGAGCTAAGTC-1 0.023985240 \n",
       "s1d1_TAGCGCGGTTGCAATG-1 0.014452474 \n",
       "s1d1_AGCAAATAGAATGACG-1 0.013115710 \n",
       "s1d1_AAGCCTCCAGGAATCG-1 0.010559249 \n",
       "s1d1_GTCAATATCTGGCAAT-1 0.014542936 \n",
       "s1d1_CCGGTTAAGGTAACGA-1 0.015429525 \n",
       "s1d1_TGTTGCACAGTCTATG-1 0.011653718 \n",
       "s1d1_GTATGTTCAGCATGAG-1 0.013548951 \n",
       "s1d1_GTTTAGCAGCTTCCCG-1 0.021414343 \n",
       "s1d1_CTTGTAAAGATAAAGC-1 0.017527675 \n",
       "s1d1_TAGTCAATCAGCACGC-1 0.008078477 \n",
       "s1d1_GGTGAGCCAATATACC-1 0.024607703 \n",
       "s1d1_CCGCTAGCATCTTGAG-1 0.013790533 \n",
       "s1d1_ACGCTTGAGTCATCCC-1 0.024014778 \n",
       "s1d1_TCTTGTCCAATCGCAC-1 0.009359790 \n",
       "s1d1_TAGCGCGGTCAATACG-1 0.026558891 \n",
       "s1d1_CAGCTATAGACAAACG-1 0.008695652 \n",
       "⋮                       ⋮           \n",
       "s4d9_AACTGTTCAAATTCGT-1 0.08108108  \n",
       "s4d9_CTATGTTTCAATGAGG-1 0.06961326  \n",
       "s4d9_AGGTCTTAGCGCCTAA-1 0.06701031  \n",
       "s4d9_TACTGGCCAGCAACAG-1 0.10202429  \n",
       "s4d9_CTGCTACTCAGGTCCA-1 0.04457050  \n",
       "s4d9_CTGTGTGAGGGCTTAT-1 0.09195402  \n",
       "s4d9_GCTTACCTCTCTAGCC-1 0.05089820  \n",
       "s4d9_AGCATCCCAATCGCAC-1 0.03601108  \n",
       "s4d9_ATCCTGACAATAGTCT-1 0.04537954  \n",
       "s4d9_TTGCTCTCAGTACCGT-1 0.11389338  \n",
       "s4d9_GGGTCAACAACTAACT-1 0.08431703  \n",
       "s4d9_GGTAATTGTACGGTAC-1 0.08258706  \n",
       "s4d9_TTTGTGGCATAAAGCA-1 0.08289054  \n",
       "s4d9_CATCCCAGTCTCACTG-1 0.07081712  \n",
       "s4d9_CCTTAGTGTCAGGAAG-1 0.09673660  \n",
       "s4d9_CCAATATCAATTGAGA-1 0.06889407  \n",
       "s4d9_GACAATACATAATTGC-1 0.04239766  \n",
       "s4d9_AGTCAATGTTCGCGCT-1 0.09179266  \n",
       "s4d9_TCTAGCGAGCCACATG-1 0.08070175  \n",
       "s4d9_ACGAAGTCACGAACAG-1 0.07924528  \n",
       "s4d9_GGTCCGTAGCACAGAA-1 0.06295400  \n",
       "s4d9_ATGACAACATGAATAG-1 0.09308176  \n",
       "s4d9_TACCTCATCATGCGTG-1 0.10552764  \n",
       "s4d9_TATGGCCCAGGCTACT-1 0.14349376  \n",
       "s4d9_TGTGGAGCAGAAATGC-1 0.04217926  \n",
       "s4d9_ATTGAAGCACATTGCA-1 0.08072488  \n",
       "s4d9_TGAACAACAGTGAACG-1 0.08510638  \n",
       "s4d9_CGATTCCTCCTGGCTT-1 0.04185520  \n",
       "s4d9_AAACCGCGTTTGAGGC-1 0.10296010  \n",
       "s4d9_GCTGTACCACCGTTCC-1 0.13243243  "
      ]
     },
     "metadata": {},
     "output_type": "display_data"
    }
   ],
   "source": [
    "meta.data = data.frame(cell = colnames(matrix.rna),\n",
    "                       nUMI = colSums(matrix.rna),\n",
    "                       nMito = colSums(matrix.rna[grep(\"MT-\",rownames(matrix.rna)),]),\n",
    "                       celltype = \"K562\")\n",
    "meta.data[,\"log.nUMI\"] = log(meta.data[,\"nUMI\"])\n",
    "meta.data[,\"percent.mito\"] = meta.data[,\"nMito\"] / meta.data[,\"nUMI\"]\n",
    "meta.data"
   ]
  },
  {
   "cell_type": "markdown",
   "id": "b823cb4a-3ce6-40b1-9a0d-d5d1e4aa3912",
   "metadata": {},
   "source": [
    "RUN SCENT prediction"
   ]
  },
  {
   "cell_type": "code",
   "execution_count": 14,
   "id": "f46765dc-9de5-4411-9288-40b59435f9fb",
   "metadata": {},
   "outputs": [],
   "source": [
    "RhpcBLASctl::blas_set_num_threads(1)\n",
    "SCENT_algorithm.modified = function (object, \n",
    "                                     # celltype, \n",
    "                                     # ncores, \n",
    "                                     # regr = \"poisson\", \n",
    "                                     # bin = TRUE) \n",
    "                                     regr = \"poisson\") {\n",
    "    res <- data.frame()\n",
    "    for (n in 1:nrow(object@peak.info)) {        \n",
    "        gene <- object@peak.info[n, 1]\n",
    "        this_peak <- object@peak.info[n, 2]\n",
    "        atac_target <- data.frame(cell = colnames(object@atac), \n",
    "            atac = object@atac[this_peak, ])\n",
    "        # if (bin) {\n",
    "        #     atac_target[atac_target$atac > 0, ]$atac <- 1\n",
    "        # }\n",
    "        mrna_target <- object@rna[gene, ]\n",
    "        df <- data.frame(cell = names(mrna_target), exprs = as.numeric(mrna_target))\n",
    "        df <- merge(df, atac_target, by = \"cell\")\n",
    "        df <- merge(df, object@meta.data, by = \"cell\")\n",
    "        # df2 <- df[df[[object@celltypes]] == celltype, ]\n",
    "        df2 <- df\n",
    "        nonzero_m <- length(df2$exprs[df2$exprs > 0])/length(df2$exprs)\n",
    "        nonzero_a <- length(df2$atac[df2$atac > 0])/length(df2$atac)\n",
    "        if (nonzero_m > 0.05 & nonzero_a > 0.05) {\n",
    "            res_var <- \"exprs\"\n",
    "            pred_var <- c(\"atac\", object@covariates)\n",
    "            formula <- as.formula(paste(res_var, paste(pred_var, \n",
    "                collapse = \"+\"), sep = \"~\"))\n",
    "            if (regr == \"poisson\") {\n",
    "                base = glm(formula, family = \"poisson\", data = df2)\n",
    "                coefs <- summary(base)$coefficients[\"atac\", ]\n",
    "                # assoc <- assoc_poisson\n",
    "                assoc <- SCENT::assoc_poisson\n",
    "            }\n",
    "            else if (regr == \"negbin\") {\n",
    "                base = glm.nb(formula, data = df2)\n",
    "                coefs <- summary(base)$coefficients[\"atac\", ]\n",
    "                # assoc <- assoc_negbin\n",
    "                assoc <- SCENT::assoc_negbin\n",
    "            }\n",
    "            bs = boot::boot(df2, assoc, R = 100, formula = formula, \n",
    "                stype = \"i\", parallel = \"no\", ncpus = 1)\n",
    "            # p0 = basic_p(bs$t0[1], bs$t[, 1])\n",
    "            p0 = SCENT::basic_p(bs$t0[1], bs$t[, 1])\n",
    "            if (p0 < 0.1) {\n",
    "                bs = boot::boot(df2, assoc, R = 500, formula = formula, \n",
    "                  stype = \"i\", \n",
    "                  # parallel = \"multicore\", ncpus = ncores)\n",
    "                  parallel = \"no\", ncpus = 1)\n",
    "                # p0 = basic_p(bs$t0[1], bs$t[, 1])\n",
    "                p0 = SCENT::basic_p(bs$t0[1], bs$t[, 1])\n",
    "            }\n",
    "            # if (p0 < 0.05) {\n",
    "            #     bs = boot::boot(df2, assoc, R = 2500, formula = formula, \n",
    "            #       stype = \"i\", \n",
    "            #       # parallel = \"multicore\", ncpus = ncores)\n",
    "            #       parallel = \"no\", ncpus = 1)\n",
    "            #     # p0 = basic_p(bs$t0[1], bs$t[, 1])\n",
    "            #     p0 = SCENT::basic_p(bs$t0[1], bs$t[, 1])\n",
    "            # }\n",
    "            # if (p0 < 0.01) {\n",
    "            #     bs = boot::boot(df2, assoc, R = 25000, formula = formula, \n",
    "            #       stype = \"i\", \n",
    "            #       # parallel = \"multicore\", ncpus = ncores)\n",
    "            #       parallel = \"no\", ncpus = 1)\n",
    "            #     # p0 = basic_p(bs$t0[1], bs$t[, 1])\n",
    "            #     p0 = SCENT::basic_p(bs$t0[1], bs$t[, 1])\n",
    "            # }\n",
    "            # if (p0 < 0.001) {\n",
    "            #     bs = boot::boot(df2, assoc, R = 50000, formula = formula, \n",
    "            #       stype = \"i\", \n",
    "            #       # parallel = \"multicore\", ncpus = ncores)\n",
    "            #       parallel = \"no\", ncpus = 1)\n",
    "            #     # p0 = basic_p(bs$t0[1], bs$t[, 1])\n",
    "            #     p0 = SCENT::basic_p(bs$t0[1], bs$t[, 1])\n",
    "            # }\n",
    "            out <- data.frame(gene = gene, peak = this_peak, \n",
    "                beta = coefs[1], se = coefs[2], z = coefs[3], \n",
    "                p = coefs[4], boot_basic_p = p0)           \n",
    "            res <- rbind(res, out)\n",
    "        }\n",
    "    }\n",
    "    object@SCENT.result <- res\n",
    "    return(object)\n",
    "}"
   ]
  },
  {
   "cell_type": "code",
   "execution_count": 15,
   "id": "563771b9-b96a-44d5-a5fe-fa30a7b9851b",
   "metadata": {},
   "outputs": [
    {
     "name": "stderr",
     "output_type": "stream",
     "text": [
      "Warning message in dir.create(paste(dir.output, \"chr\", sep = \"/\"), recursive = T):\n",
      "“'/maps/projects/ralab_nnfc-AUDIT/people/lpm537/project/E2G/analysis/E2G_240503/data/BMMC/2.Genome_wide_prediction/SCENT/BMMC5.T.500.250204//chr' already exists”\n"
     ]
    }
   ],
   "source": [
    "dir.create(paste(dir.output,\"chr\",sep = \"/\"),recursive = T)"
   ]
  },
  {
   "cell_type": "code",
   "execution_count": 16,
   "id": "0d2266ce-b92d-40d2-9b78-f39bd33a5079",
   "metadata": {},
   "outputs": [],
   "source": [
    "chr.done = dir(paste(dir.output,\"chr\",sep = \"/\"))\n",
    "chr.run = as.character(unique(seqnames(pairs.E2G)))\n",
    "chr.run = chr.run[!chr.run %in% chr.done]"
   ]
  },
  {
   "cell_type": "code",
   "execution_count": 17,
   "id": "0db33d28-1041-49a8-afa6-384783986028",
   "metadata": {},
   "outputs": [],
   "source": [
    "Sys.setenv(OPENBLAS_NUM_THREADS=1)"
   ]
  },
  {
   "cell_type": "code",
   "execution_count": null,
   "id": "2d41238d-e833-4e0e-add5-bb56bb615c1a",
   "metadata": {},
   "outputs": [
    {
     "name": "stdout",
     "output_type": "stream",
     "text": [
      "[1] \"chr1\"\n"
     ]
    },
    {
     "name": "stderr",
     "output_type": "stream",
     "text": [
      "Warning message in split.default(x = seq_len(nrow(x)), f = f, drop = drop, ...):\n",
      "“data length is not a multiple of split variable”\n"
     ]
    },
    {
     "name": "stdout",
     "output_type": "stream",
     "text": [
      "[1] \"chr10\"\n"
     ]
    },
    {
     "name": "stderr",
     "output_type": "stream",
     "text": [
      "Warning message in split.default(x = seq_len(nrow(x)), f = f, drop = drop, ...):\n",
      "“data length is not a multiple of split variable”\n"
     ]
    },
    {
     "name": "stdout",
     "output_type": "stream",
     "text": [
      "[1] \"chr11\"\n"
     ]
    },
    {
     "name": "stderr",
     "output_type": "stream",
     "text": [
      "Warning message in split.default(x = seq_len(nrow(x)), f = f, drop = drop, ...):\n",
      "“data length is not a multiple of split variable”\n"
     ]
    },
    {
     "name": "stdout",
     "output_type": "stream",
     "text": [
      "[1] \"chr12\"\n"
     ]
    },
    {
     "name": "stderr",
     "output_type": "stream",
     "text": [
      "Warning message in split.default(x = seq_len(nrow(x)), f = f, drop = drop, ...):\n",
      "“data length is not a multiple of split variable”\n"
     ]
    },
    {
     "name": "stdout",
     "output_type": "stream",
     "text": [
      "[1] \"chr13\"\n"
     ]
    },
    {
     "name": "stderr",
     "output_type": "stream",
     "text": [
      "Warning message in split.default(x = seq_len(nrow(x)), f = f, drop = drop, ...):\n",
      "“data length is not a multiple of split variable”\n"
     ]
    },
    {
     "name": "stdout",
     "output_type": "stream",
     "text": [
      "[1] \"chr14\"\n"
     ]
    },
    {
     "name": "stderr",
     "output_type": "stream",
     "text": [
      "Warning message in split.default(x = seq_len(nrow(x)), f = f, drop = drop, ...):\n",
      "“data length is not a multiple of split variable”\n"
     ]
    },
    {
     "name": "stdout",
     "output_type": "stream",
     "text": [
      "[1] \"chr15\"\n"
     ]
    },
    {
     "name": "stderr",
     "output_type": "stream",
     "text": [
      "Warning message in split.default(x = seq_len(nrow(x)), f = f, drop = drop, ...):\n",
      "“data length is not a multiple of split variable”\n"
     ]
    },
    {
     "name": "stdout",
     "output_type": "stream",
     "text": [
      "[1] \"chr16\"\n"
     ]
    },
    {
     "name": "stderr",
     "output_type": "stream",
     "text": [
      "Warning message in split.default(x = seq_len(nrow(x)), f = f, drop = drop, ...):\n",
      "“data length is not a multiple of split variable”\n"
     ]
    }
   ],
   "source": [
    "for(chr.tmp in chr.run){\n",
    "  print(chr.tmp)\n",
    "  pairs.E2G.chr.res = pairs.E2G.filter2[seqnames(pairs.E2G.filter2) == chr.tmp]\n",
    "  gene_peak.chr = as.data.frame(mcols(pairs.E2G.chr.res)[,c(\"TargetGene\",\"PeakName\")])\n",
    "  list.gene_peak.chr <- split(gene_peak.chr, seq_len(n.cores))\n",
    "  \n",
    "  list.obj.SCENT.chr <- lapply(list.gene_peak.chr, function(gene_peak.tmp) {\n",
    "    obj.SCENT.tmp <- CreateSCENTObj(\n",
    "      rna = matrix.rna.rename[rownames(matrix.rna.rename) %in% gene_peak.tmp$TargetGene,],\n",
    "      atac = matrix.atac[rownames(matrix.atac) %in% gene_peak.tmp$PeakName,], \n",
    "      meta.data = meta.data,\n",
    "      peak.info = gene_peak.tmp,\n",
    "      covariates = c(\"log.nUMI\",\"percent.mito\"), \n",
    "      celltypes = \"celltype\"\n",
    "    )\n",
    "  })\n",
    "  \n",
    "  cl <- makeCluster(n.cores)\n",
    "  clusterExport(cl, varlist=c(\"SCENT_algorithm.modified\"))\n",
    "  list.SCENT.result.chr <- parLapply(cl, list.obj.SCENT.chr, function(obj.SCENT.tmp) {\n",
    "    obj.SCENT.tmp <- SCENT_algorithm.modified(object = obj.SCENT.tmp)\n",
    "    return(obj.SCENT.tmp@SCENT.result)\n",
    "  })\n",
    "  stopCluster(cl)\n",
    "  \n",
    "  \n",
    "  df.SCENT.result.chr = do.call(rbind,list.SCENT.result.chr)\n",
    "  rownames(df.SCENT.result.chr) = paste(df.SCENT.result.chr$peak,\n",
    "                                        df.SCENT.result.chr$gene,\n",
    "                                        sep = \"_\")\n",
    "\n",
    "  pairs.E2G.chr.res = pairs.E2G.chr.res[pairs.E2G.chr.res$PairName %in% rownames(df.SCENT.result.chr)]\n",
    "  mcols(pairs.E2G.chr.res)[,c(\"beta\",\"se\",\"z\",\"p\",\"boot_basic_p\")] = \n",
    "    df.SCENT.result.chr[pairs.E2G.chr.res$PairName,c(\"beta\",\"se\",\"z\",\"p\",\"boot_basic_p\")]\n",
    "  pairs.E2G.chr.res$boot_basic_p.log10 = -log10(pairs.E2G.chr.res$boot_basic_p)\n",
    "  pairs.E2G.chr.res$sign = 1\n",
    "  pairs.E2G.chr.res$sign[pairs.E2G.chr.res$beta < 0] = -1\n",
    "  pairs.E2G.chr.res$boot_basic_p.log10.signed = pairs.E2G.chr.res$boot_basic_p.log10 * pairs.E2G.chr.res$sign\n",
    "  saveRDS(pairs.E2G.chr.res,\n",
    "          paste(dir.output,\"chr\",chr.tmp,sep = \"/\"))\n",
    "  rm (pairs.E2G.chr.res)\n",
    "}"
   ]
  },
  {
   "cell_type": "markdown",
   "id": "da9d1451-54e0-49e0-ae8b-cd0158115820",
   "metadata": {},
   "source": [
    "Merge results"
   ]
  },
  {
   "cell_type": "code",
   "execution_count": null,
   "id": "6b4278f1-7d9d-402f-95c6-f274a6befea3",
   "metadata": {},
   "outputs": [],
   "source": [
    "chr.merge = as.character(unique(seqnames(pairs.E2G)))\n",
    "list.res = list()\n",
    "for(chr.tmp in chr.merge){\n",
    "    list.res[[chr.tmp]] = readRDS(paste(dir.output,\"chr\",chr.tmp,sep = \"/\"))\n",
    "}\n",
    "pairs.E2G.res = unlist(as(list.res, \"GRangesList\"))"
   ]
  },
  {
   "cell_type": "markdown",
   "id": "00278bea-8baf-4ed0-93d5-1289f05fa36a",
   "metadata": {},
   "source": [
    "Save results"
   ]
  },
  {
   "cell_type": "code",
   "execution_count": null,
   "id": "48824f05-aedd-476c-88d6-ae58d1833fc9",
   "metadata": {},
   "outputs": [],
   "source": [
    "saveRDS(pairs.E2G.res,\n",
    "        paste(dir.output,\"pairs.E2G.res.rds\",sep = \"/\"))\n",
    "pairs.E2G.res"
   ]
  },
  {
   "cell_type": "code",
   "execution_count": null,
   "id": "2297128a-9ed6-42b8-90c7-459969fb5afd",
   "metadata": {},
   "outputs": [],
   "source": [
    "df.output = as.data.frame(pairs.E2G.res,row.names = NULL)\n",
    "colnames(df.output)[1] = \"chr\"\n",
    "df.output[,\"CellType\"] = \"K562\"\n",
    "df.output = df.output[,c(\"chr\",\n",
    "                         \"start\",\n",
    "                         \"end\",\n",
    "                         \"TargetGene\",\n",
    "                         \"CellType\",\n",
    "                         \"beta\",\"se\",\"z\",\"p\",\"boot_basic_p\",\n",
    "                         \"boot_basic_p.log10\",\n",
    "                         \"sign\",\n",
    "                         \"boot_basic_p.log10.signed\")]\n",
    "data.table::fwrite(df.output,\n",
    "                   file = paste(dir.output,\"pairs.E2G.res.tsv.gz\",sep = \"/\"),\n",
    "                   row.names = F,\n",
    "                   quote = F,\n",
    "                   sep = \"\\t\")\n",
    "df.output"
   ]
  },
  {
   "cell_type": "code",
   "execution_count": null,
   "id": "4d77c58e-215a-408d-8495-c68c72f559c3",
   "metadata": {},
   "outputs": [],
   "source": [
    "sessionInfo()"
   ]
  },
  {
   "cell_type": "code",
   "execution_count": null,
   "id": "3c1a0283-11d6-4df1-bbd8-7b47e9e8ead8",
   "metadata": {},
   "outputs": [],
   "source": []
  }
 ],
 "metadata": {
  "kernelspec": {
   "display_name": "R",
   "language": "R",
   "name": "ir"
  },
  "language_info": {
   "codemirror_mode": "r",
   "file_extension": ".r",
   "mimetype": "text/x-r-source",
   "name": "R",
   "pygments_lexer": "r",
   "version": "4.3.3"
  }
 },
 "nbformat": 4,
 "nbformat_minor": 5
}
