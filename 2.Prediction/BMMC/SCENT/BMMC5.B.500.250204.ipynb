{
 "cells": [
  {
   "cell_type": "code",
   "execution_count": 1,
   "id": "3a1e63f9-7479-4a30-83ea-381f1ecdbe50",
   "metadata": {},
   "outputs": [
    {
     "name": "stderr",
     "output_type": "stream",
     "text": [
      "Warning message:\n",
      "“replacing previous import ‘Hmisc::capitalize’ by ‘R.utils::capitalize’ when loading ‘SCENT’”\n",
      "Loading required package: grid\n",
      "\n",
      "Warning message:\n",
      "“replacing previous import ‘Biostrings::pattern’ by ‘grid::pattern’ when loading ‘genomation’”\n",
      "Loading required package: stats4\n",
      "\n",
      "Loading required package: BiocGenerics\n",
      "\n",
      "\n",
      "Attaching package: ‘BiocGenerics’\n",
      "\n",
      "\n",
      "The following objects are masked from ‘package:stats’:\n",
      "\n",
      "    IQR, mad, sd, var, xtabs\n",
      "\n",
      "\n",
      "The following objects are masked from ‘package:base’:\n",
      "\n",
      "    anyDuplicated, aperm, append, as.data.frame, basename, cbind,\n",
      "    colnames, dirname, do.call, duplicated, eval, evalq, Filter, Find,\n",
      "    get, grep, grepl, intersect, is.unsorted, lapply, Map, mapply,\n",
      "    match, mget, order, paste, pmax, pmax.int, pmin, pmin.int,\n",
      "    Position, rank, rbind, Reduce, rownames, sapply, setdiff, sort,\n",
      "    table, tapply, union, unique, unsplit, which.max, which.min\n",
      "\n",
      "\n",
      "Loading required package: S4Vectors\n",
      "\n",
      "\n",
      "Attaching package: ‘S4Vectors’\n",
      "\n",
      "\n",
      "The following object is masked from ‘package:utils’:\n",
      "\n",
      "    findMatches\n",
      "\n",
      "\n",
      "The following objects are masked from ‘package:base’:\n",
      "\n",
      "    expand.grid, I, unname\n",
      "\n",
      "\n",
      "Loading required package: IRanges\n",
      "\n",
      "Loading required package: GenomeInfoDb\n",
      "\n",
      "\n",
      "Attaching package: ‘Matrix’\n",
      "\n",
      "\n",
      "The following object is masked from ‘package:S4Vectors’:\n",
      "\n",
      "    expand\n",
      "\n",
      "\n",
      "\n",
      "Attaching package: ‘data.table’\n",
      "\n",
      "\n",
      "The following object is masked from ‘package:GenomicRanges’:\n",
      "\n",
      "    shift\n",
      "\n",
      "\n",
      "The following object is masked from ‘package:IRanges’:\n",
      "\n",
      "    shift\n",
      "\n",
      "\n",
      "The following objects are masked from ‘package:S4Vectors’:\n",
      "\n",
      "    first, second\n",
      "\n",
      "\n",
      "\n",
      "Attaching package: ‘dplyr’\n",
      "\n",
      "\n",
      "The following objects are masked from ‘package:data.table’:\n",
      "\n",
      "    between, first, last\n",
      "\n",
      "\n",
      "The following objects are masked from ‘package:GenomicRanges’:\n",
      "\n",
      "    intersect, setdiff, union\n",
      "\n",
      "\n",
      "The following object is masked from ‘package:GenomeInfoDb’:\n",
      "\n",
      "    intersect\n",
      "\n",
      "\n",
      "The following objects are masked from ‘package:IRanges’:\n",
      "\n",
      "    collapse, desc, intersect, setdiff, slice, union\n",
      "\n",
      "\n",
      "The following objects are masked from ‘package:S4Vectors’:\n",
      "\n",
      "    first, intersect, rename, setdiff, setequal, union\n",
      "\n",
      "\n",
      "The following objects are masked from ‘package:BiocGenerics’:\n",
      "\n",
      "    combine, intersect, setdiff, union\n",
      "\n",
      "\n",
      "The following objects are masked from ‘package:stats’:\n",
      "\n",
      "    filter, lag\n",
      "\n",
      "\n",
      "The following objects are masked from ‘package:base’:\n",
      "\n",
      "    intersect, setdiff, setequal, union\n",
      "\n",
      "\n"
     ]
    }
   ],
   "source": [
    "library(SCENT)\n",
    "library(Signac)\n",
    "library(genomation)\n",
    "library(GenomicRanges)\n",
    "library(Matrix)\n",
    "library(parallel)\n",
    "library(data.table)\n",
    "library(dplyr)"
   ]
  },
  {
   "cell_type": "markdown",
   "id": "d53f3774-52c3-4baa-b707-5b3a0450b130",
   "metadata": {},
   "source": [
    "Specify file path"
   ]
  },
  {
   "cell_type": "code",
   "execution_count": 2,
   "id": "0785f3fc-9913-428a-bea7-5710120c9328",
   "metadata": {},
   "outputs": [],
   "source": [
    "gene_gtf_path = \"/maps/projects/ralab/data/genome/hg38/gencode.v43.chr_patch_hapl_scaff.annotation.gtf\"\n",
    "abc_genes_path = \"/maps/projects/ralab_nnfc-AUDIT/people/lpm537/software/scE2G_pipeline/241203/scE2G/ENCODE_rE2G/ABC/reference/hg38/CollapsedGeneBounds.hg38.TSS500bp.bed\"\n",
    "path.pairs.E2G = \"/maps/projects/ralab_nnfc-AUDIT/people/lpm537/software/scE2G_pipeline/240508/sc-E2G/test/results_BMMC5/B/Kendall/Pairs.tsv.gz\"\n",
    "path.pairs.ABC = \"/maps/projects/ralab_nnfc-AUDIT/people/lpm537/software/scE2G_pipeline/240508/sc-E2G/test/results_BMMC5/B/Predictions/EnhancerPredictionsAllPutative.tsv.gz\"\n",
    "path.matrix.atac_count = \"/maps/projects/ralab_nnfc-AUDIT/people/lpm537/software/scE2G_pipeline/240508/sc-E2G/test/results_BMMC5/B/Kendall/atac_matrix.rds\"\n",
    "path.matrix.rna_count = \"/maps/projects/ralab_nnfc-AUDIT/people/lpm537/project/E2G/analysis/E2G_240503/data/BMMC/1.prepare_data/3.merge_cell_type.240522/RNA_count_matrix/B.rna_count_matrix.csv.gz\"\n",
    "dir.output = \"/maps/projects/ralab_nnfc-AUDIT/people/lpm537/project/E2G/analysis/E2G_240503/data/BMMC/2.Genome_wide_prediction/SCENT/BMMC5.B.500.250204/\""
   ]
  },
  {
   "cell_type": "code",
   "execution_count": 3,
   "id": "500ba317-011f-4cab-834c-de750cb7f503",
   "metadata": {},
   "outputs": [],
   "source": [
    "n.cores = 8"
   ]
  },
  {
   "cell_type": "markdown",
   "id": "9c9cdab1-486b-4539-99d3-3cd5d1d99795",
   "metadata": {},
   "source": [
    "Import candidate E-G pairs"
   ]
  },
  {
   "cell_type": "code",
   "execution_count": 4,
   "id": "f5852d15-7e3f-412b-b137-7d29a6fb47b1",
   "metadata": {},
   "outputs": [],
   "source": [
    "pairs.E2G = readGeneric(path.pairs.E2G,\n",
    "                        header = T,\n",
    "                        keep.all.metadata = T)"
   ]
  },
  {
   "cell_type": "markdown",
   "id": "4b3c69d6-986b-4e10-9597-01c66d230c5c",
   "metadata": {},
   "source": [
    "Import ABC results"
   ]
  },
  {
   "cell_type": "code",
   "execution_count": 5,
   "id": "1fdcc2db-187f-45ee-89b4-288e8be29ee9",
   "metadata": {},
   "outputs": [],
   "source": [
    "pairs.ABC = readGeneric(path.pairs.ABC,\n",
    "                        header = T,\n",
    "                        keep.all.metadata = T)"
   ]
  },
  {
   "cell_type": "markdown",
   "id": "10424833-4e11-4191-a970-940bcc814764",
   "metadata": {},
   "source": [
    "Filter ABC results which distance < 1M"
   ]
  },
  {
   "cell_type": "code",
   "execution_count": 6,
   "id": "f08d2dec-83da-425a-aa70-aacb2d1c01a9",
   "metadata": {},
   "outputs": [],
   "source": [
    "pairs.ABC.1M = pairs.ABC[pairs.ABC$distance < 10^6]"
   ]
  },
  {
   "cell_type": "markdown",
   "id": "1ab4f035-0f58-4f32-9770-6765575f08a4",
   "metadata": {},
   "source": [
    "Filter E-G pairs overlaping with pairs.ABC.1M"
   ]
  },
  {
   "cell_type": "code",
   "execution_count": 7,
   "id": "46f640bb-a049-4bae-8362-485ec0d30858",
   "metadata": {},
   "outputs": [
    {
     "data": {
      "text/plain": [
       "GRanges object with 2928800 ranges and 3 metadata columns:\n",
       "            seqnames              ranges strand |  TargetGene\n",
       "               <Rle>           <IRanges>  <Rle> | <character>\n",
       "        [1]     chr1 100028745-100029132      * |         AGL\n",
       "        [2]     chr1 100028745-100029132      * |      CDC14A\n",
       "        [3]     chr1 100028745-100029132      * |         DBT\n",
       "        [4]     chr1 100028745-100029132      * |        DPH5\n",
       "        [5]     chr1 100028745-100029132      * |       EXTL2\n",
       "        ...      ...                 ...    ... .         ...\n",
       "  [2928796]     chrX     9995615-9996424      * |        WWC3\n",
       "  [2928797]     chrX     9997383-9997912      * |       CLCN4\n",
       "  [2928798]     chrX     9997383-9997912      * |     SHROOM2\n",
       "  [2928799]     chrX     9997383-9997912      * |       TBL1X\n",
       "  [2928800]     chrX     9997383-9997912      * |        WWC3\n",
       "                          PeakName               PairName\n",
       "                       <character>            <character>\n",
       "        [1] chr1-100028745-10002.. chr1-100028745-10002..\n",
       "        [2] chr1-100028745-10002.. chr1-100028745-10002..\n",
       "        [3] chr1-100028745-10002.. chr1-100028745-10002..\n",
       "        [4] chr1-100028745-10002.. chr1-100028745-10002..\n",
       "        [5] chr1-100028745-10002.. chr1-100028745-10002..\n",
       "        ...                    ...                    ...\n",
       "  [2928796]   chrX-9995615-9996424 chrX-9995615-9996424..\n",
       "  [2928797]   chrX-9997383-9997912 chrX-9997383-9997912..\n",
       "  [2928798]   chrX-9997383-9997912 chrX-9997383-9997912..\n",
       "  [2928799]   chrX-9997383-9997912 chrX-9997383-9997912..\n",
       "  [2928800]   chrX-9997383-9997912 chrX-9997383-9997912..\n",
       "  -------\n",
       "  seqinfo: 23 sequences from an unspecified genome; no seqlengths"
      ]
     },
     "metadata": {},
     "output_type": "display_data"
    }
   ],
   "source": [
    "df.pairs.E2G.chr_rename = as.data.frame(pairs.E2G)[,1:3]\n",
    "df.pairs.E2G.chr_rename[,\"seqnames\"] = paste(seqnames(pairs.E2G),\n",
    "                                             mcols(pairs.E2G)[,\"TargetGene\"],\n",
    "                                             sep = \"_\")\n",
    "pairs.E2G.chr_rename = GRanges(df.pairs.E2G.chr_rename)\n",
    "rm(df.pairs.E2G.chr_rename)\n",
    "\n",
    "df.pairs.ABC.1M.chr_rename = as.data.frame(pairs.ABC.1M)[,1:3]\n",
    "df.pairs.ABC.1M.chr_rename[,\"seqnames\"] = paste(seqnames(pairs.ABC.1M),\n",
    "                                                mcols(pairs.ABC.1M)[,\"TargetGene\"],\n",
    "                                                sep = \"_\")\n",
    "pairs.ABC.1M.chr_rename = GRanges(df.pairs.ABC.1M.chr_rename)\n",
    "rm(df.pairs.ABC.1M.chr_rename)\n",
    "\n",
    "pairs.E2G.filter = pairs.E2G[countOverlaps(pairs.E2G.chr_rename,\n",
    "                                           pairs.ABC.1M.chr_rename) > 0]\n",
    "rm(pairs.E2G.chr_rename)\n",
    "rm(pairs.ABC.1M.chr_rename)\n",
    "pairs.E2G.filter"
   ]
  },
  {
   "cell_type": "markdown",
   "id": "bcdfac67-ce32-4d9a-8f4d-65dab644ec63",
   "metadata": {},
   "source": [
    "Import ATAC matrix"
   ]
  },
  {
   "cell_type": "code",
   "execution_count": 8,
   "id": "bd59feb4-3e33-4ebe-a107-f3b6d347a68e",
   "metadata": {},
   "outputs": [],
   "source": [
    "matrix.atac = readRDS(path.matrix.atac_count)\n",
    "matrix.atac = BinarizeCounts(matrix.atac)"
   ]
  },
  {
   "cell_type": "markdown",
   "id": "a0c5cb96-2fc4-42c4-a421-fe9a5ca537da",
   "metadata": {},
   "source": [
    "Import RNA matrix"
   ]
  },
  {
   "cell_type": "code",
   "execution_count": 9,
   "id": "96e10e90-9400-4cfe-bc7b-46a7eaee1fcd",
   "metadata": {},
   "outputs": [],
   "source": [
    "matrix.rna = read.csv(path.matrix.rna_count,\n",
    "                      row.names = 1,\n",
    "                      check.names = F)\n",
    "matrix.rna = Matrix(as.matrix(matrix.rna), sparse = TRUE)\n",
    "matrix.rna = matrix.rna[,colnames(matrix.atac)]\n",
    "matrix.rna = matrix.rna[rowSums(matrix.rna) > 0,]"
   ]
  },
  {
   "cell_type": "markdown",
   "id": "62718ef8-a3bd-4755-a95f-be216f16517b",
   "metadata": {},
   "source": [
    "Map gene names"
   ]
  },
  {
   "cell_type": "code",
   "execution_count": 10,
   "id": "0f255a65-03a4-4255-967e-0c644bfe66cd",
   "metadata": {},
   "outputs": [],
   "source": [
    "extract_attributes <- function(gtf_attributes, att_of_interest){\n",
    "  att <- unlist(strsplit(gtf_attributes, \" \"))\n",
    "  if(att_of_interest %in% att){\n",
    "    return(gsub(\"\\\"|;\",\"\", att[which(att %in% att_of_interest)+1]))\n",
    "  } else {\n",
    "    return(NA)}\n",
    "}\n",
    "map_gene_names <- function(rna_matrix, gene_gtf_path, abc_genes_path){\n",
    "\tgene_ref <- fread(gene_gtf_path, header = FALSE, sep = \"\\t\") %>%\n",
    "\t\tsetNames(c(\"chr\",\"source\",\"type\",\"start\",\"end\",\"score\",\"strand\",\"phase\",\"attributes\")) %>%\n",
    "\t\tdplyr::filter(type == \"gene\")\n",
    "\tgene_ref$gene_ref_name <- unlist(lapply(gene_ref$attributes, extract_attributes, \"gene_name\"))\n",
    "\tgene_ref$Ensembl_ID <- unlist(lapply(gene_ref$attributes, extract_attributes, \"gene_id\"))\n",
    "\tgene_ref <- dplyr::select(gene_ref, gene_ref_name, Ensembl_ID) %>%\n",
    "\t\tmutate(Ensembl_ID = sub(\"\\\\.\\\\d+$\", \"\", Ensembl_ID)) %>% # remove decimal digits \n",
    "\t\tdistinct()\n",
    "\t\n",
    "\tabc_genes <- fread(abc_genes_path, col.names = c(\"chr\", \"start\", \"end\", \"name\", \"score\", \"strand\", \"Ensembl_ID\", \"gene_type\")) %>%\n",
    "\t\tdplyr::select(name, Ensembl_ID) %>%\n",
    "\t\trename(abc_name = name) %>%\n",
    "\t\tleft_join(gene_ref, by = \"Ensembl_ID\") %>%\n",
    "\t\tgroup_by(Ensembl_ID) %>% # remove cases where multiple genes map to one ensembl ID\n",
    "\t\tfilter(n() == 1) %>%\n",
    "\t\tungroup()\n",
    "\n",
    "\tgene_key <- abc_genes$abc_name\n",
    "\tnames(gene_key) <- abc_genes$gene_ref_name\n",
    "\n",
    "\t# remove genes not in our gene universe\t\n",
    "\trow_sub <- intersect(rownames(rna_matrix), names(gene_key)) # gene ref names\n",
    "\trna_matrix_filt <- rna_matrix[row_sub,] # still gene ref names\n",
    "\trownames(rna_matrix_filt) <- gene_key[row_sub] # converted to abc names\n",
    "\n",
    "\treturn(rna_matrix_filt)\n",
    "}"
   ]
  },
  {
   "cell_type": "code",
   "execution_count": 11,
   "id": "ca760678-9db9-418e-b7ac-29984eddad7e",
   "metadata": {},
   "outputs": [],
   "source": [
    "matrix.rna.rename = map_gene_names(matrix.rna,gene_gtf_path, abc_genes_path)"
   ]
  },
  {
   "cell_type": "code",
   "execution_count": 12,
   "id": "0c8225d7-5216-4cc1-827e-bbb22c53f9fc",
   "metadata": {},
   "outputs": [],
   "source": [
    "pairs.E2G.filter2 = pairs.E2G.filter[pairs.E2G.filter$TargetGene %in% rownames(matrix.rna.rename) &\n",
    "                                     pairs.E2G.filter$PeakName %in% rownames(matrix.atac)]"
   ]
  },
  {
   "cell_type": "markdown",
   "id": "b16f7d5b-eabd-4e93-b8cd-f19a54df21f2",
   "metadata": {},
   "source": [
    "Prepare SCENT meta data"
   ]
  },
  {
   "cell_type": "code",
   "execution_count": 13,
   "id": "827059dd-6885-441e-973e-d7c49e5fd534",
   "metadata": {},
   "outputs": [
    {
     "data": {
      "text/html": [
       "<table class=\"dataframe\">\n",
       "<caption>A data.frame: 9752 × 6</caption>\n",
       "<thead>\n",
       "\t<tr><th></th><th scope=col>cell</th><th scope=col>nUMI</th><th scope=col>nMito</th><th scope=col>celltype</th><th scope=col>log.nUMI</th><th scope=col>percent.mito</th></tr>\n",
       "\t<tr><th></th><th scope=col>&lt;chr&gt;</th><th scope=col>&lt;dbl&gt;</th><th scope=col>&lt;dbl&gt;</th><th scope=col>&lt;chr&gt;</th><th scope=col>&lt;dbl&gt;</th><th scope=col>&lt;dbl&gt;</th></tr>\n",
       "</thead>\n",
       "<tbody>\n",
       "\t<tr><th scope=row>s1d1_TAGTTGTCACCCTCAC-1</th><td>s1d1_TAGTTGTCACCCTCAC-1</td><td> 1701</td><td> 31</td><td>K562</td><td>7.438972</td><td>0.018224574</td></tr>\n",
       "\t<tr><th scope=row>s1d1_TGGATTGGTTTGCGAA-1</th><td>s1d1_TGGATTGGTTTGCGAA-1</td><td>16740</td><td>295</td><td>K562</td><td>9.725556</td><td>0.017622461</td></tr>\n",
       "\t<tr><th scope=row>s1d1_GTAAGGTCAATAACCT-1</th><td>s1d1_GTAAGGTCAATAACCT-1</td><td> 2041</td><td> 52</td><td>K562</td><td>7.621195</td><td>0.025477707</td></tr>\n",
       "\t<tr><th scope=row>s1d1_GGATTATGTTACATCC-1</th><td>s1d1_GGATTATGTTACATCC-1</td><td> 5014</td><td> 78</td><td>K562</td><td>8.519989</td><td>0.015556442</td></tr>\n",
       "\t<tr><th scope=row>s1d1_AACGACAAGTTGTCAA-1</th><td>s1d1_AACGACAAGTTGTCAA-1</td><td> 1477</td><td> 21</td><td>K562</td><td>7.297768</td><td>0.014218009</td></tr>\n",
       "\t<tr><th scope=row>s1d1_AGCAATACAATATGGA-1</th><td>s1d1_AGCAATACAATATGGA-1</td><td> 2295</td><td> 42</td><td>K562</td><td>7.738488</td><td>0.018300654</td></tr>\n",
       "\t<tr><th scope=row>s1d1_GGGAGTAGTGATTTGG-1</th><td>s1d1_GGGAGTAGTGATTTGG-1</td><td> 2708</td><td>106</td><td>K562</td><td>7.903966</td><td>0.039143279</td></tr>\n",
       "\t<tr><th scope=row>s1d1_CCATAATCATGTCAGC-1</th><td>s1d1_CCATAATCATGTCAGC-1</td><td> 2064</td><td> 26</td><td>K562</td><td>7.632401</td><td>0.012596899</td></tr>\n",
       "\t<tr><th scope=row>s1d1_ATCAGGTTCATGACCG-1</th><td>s1d1_ATCAGGTTCATGACCG-1</td><td> 1802</td><td> 27</td><td>K562</td><td>7.496652</td><td>0.014983352</td></tr>\n",
       "\t<tr><th scope=row>s1d1_CAGGTCCAGGCTAATC-1</th><td>s1d1_CAGGTCCAGGCTAATC-1</td><td> 1592</td><td> 33</td><td>K562</td><td>7.372746</td><td>0.020728643</td></tr>\n",
       "\t<tr><th scope=row>s1d1_TCAGTGAGTGCTCCGT-1</th><td>s1d1_TCAGTGAGTGCTCCGT-1</td><td> 1898</td><td> 22</td><td>K562</td><td>7.548556</td><td>0.011591149</td></tr>\n",
       "\t<tr><th scope=row>s1d1_CAAACAACAATAACGA-1</th><td>s1d1_CAAACAACAATAACGA-1</td><td> 1336</td><td> 24</td><td>K562</td><td>7.197435</td><td>0.017964072</td></tr>\n",
       "\t<tr><th scope=row>s1d1_ACGCAAGCAATAAGCA-1</th><td>s1d1_ACGCAAGCAATAAGCA-1</td><td> 3027</td><td> 63</td><td>K562</td><td>8.015327</td><td>0.020812686</td></tr>\n",
       "\t<tr><th scope=row>s1d1_CATAATCCAGCAGGTA-1</th><td>s1d1_CATAATCCAGCAGGTA-1</td><td> 2195</td><td> 56</td><td>K562</td><td>7.693937</td><td>0.025512528</td></tr>\n",
       "\t<tr><th scope=row>s1d1_AAGTCTATCGAGGAGT-1</th><td>s1d1_AAGTCTATCGAGGAGT-1</td><td> 1964</td><td> 62</td><td>K562</td><td>7.582738</td><td>0.031568228</td></tr>\n",
       "\t<tr><th scope=row>s1d1_CCTGTTGGTAACAGGG-1</th><td>s1d1_CCTGTTGGTAACAGGG-1</td><td> 2032</td><td> 52</td><td>K562</td><td>7.616776</td><td>0.025590551</td></tr>\n",
       "\t<tr><th scope=row>s1d1_CTAGGCGGTGGGAACA-1</th><td>s1d1_CTAGGCGGTGGGAACA-1</td><td> 1969</td><td> 43</td><td>K562</td><td>7.585281</td><td>0.021838497</td></tr>\n",
       "\t<tr><th scope=row>s1d1_GGAACCACAGGAACTG-1</th><td>s1d1_GGAACCACAGGAACTG-1</td><td> 1759</td><td> 46</td><td>K562</td><td>7.472501</td><td>0.026151222</td></tr>\n",
       "\t<tr><th scope=row>s1d1_GCCTGAGGTTAAGGCC-1</th><td>s1d1_GCCTGAGGTTAAGGCC-1</td><td> 1702</td><td> 43</td><td>K562</td><td>7.439559</td><td>0.025264395</td></tr>\n",
       "\t<tr><th scope=row>s1d1_TAGCCTGAGGTTTGCG-1</th><td>s1d1_TAGCCTGAGGTTTGCG-1</td><td> 1634</td><td> 26</td><td>K562</td><td>7.398786</td><td>0.015911873</td></tr>\n",
       "\t<tr><th scope=row>s1d1_CCCTGTTAGGATCACT-1</th><td>s1d1_CCCTGTTAGGATCACT-1</td><td> 8507</td><td>117</td><td>K562</td><td>9.048645</td><td>0.013753380</td></tr>\n",
       "\t<tr><th scope=row>s1d1_CCATAATCAAACTAAG-1</th><td>s1d1_CCATAATCAAACTAAG-1</td><td> 1762</td><td> 41</td><td>K562</td><td>7.474205</td><td>0.023269012</td></tr>\n",
       "\t<tr><th scope=row>s1d1_TCTGTGACAAATTCGT-1</th><td>s1d1_TCTGTGACAAATTCGT-1</td><td> 1980</td><td> 38</td><td>K562</td><td>7.590852</td><td>0.019191919</td></tr>\n",
       "\t<tr><th scope=row>s1d1_AGGGTTGCACATAACT-1</th><td>s1d1_AGGGTTGCACATAACT-1</td><td> 1739</td><td> 25</td><td>K562</td><td>7.461066</td><td>0.014376078</td></tr>\n",
       "\t<tr><th scope=row>s1d1_CGTCAATAGTATTGCA-1</th><td>s1d1_CGTCAATAGTATTGCA-1</td><td> 1794</td><td> 33</td><td>K562</td><td>7.492203</td><td>0.018394649</td></tr>\n",
       "\t<tr><th scope=row>s1d1_GTCAGGCTCGTGCTTC-1</th><td>s1d1_GTCAGGCTCGTGCTTC-1</td><td> 3914</td><td> 36</td><td>K562</td><td>8.272315</td><td>0.009197752</td></tr>\n",
       "\t<tr><th scope=row>s1d1_ACATCAATCGTTTCTG-1</th><td>s1d1_ACATCAATCGTTTCTG-1</td><td> 2695</td><td> 62</td><td>K562</td><td>7.899153</td><td>0.023005566</td></tr>\n",
       "\t<tr><th scope=row>s1d1_CTATTACTCCTAAGTA-1</th><td>s1d1_CTATTACTCCTAAGTA-1</td><td> 3200</td><td> 67</td><td>K562</td><td>8.070906</td><td>0.020937500</td></tr>\n",
       "\t<tr><th scope=row>s1d1_CCCAATTGTATTGGAT-1</th><td>s1d1_CCCAATTGTATTGGAT-1</td><td> 3783</td><td> 77</td><td>K562</td><td>8.238273</td><td>0.020354216</td></tr>\n",
       "\t<tr><th scope=row>s1d1_CGCAATAGTCACACCC-1</th><td>s1d1_CGCAATAGTCACACCC-1</td><td> 6974</td><td>221</td><td>K562</td><td>8.849944</td><td>0.031689131</td></tr>\n",
       "\t<tr><th scope=row>⋮</th><td>⋮</td><td>⋮</td><td>⋮</td><td>⋮</td><td>⋮</td><td>⋮</td></tr>\n",
       "\t<tr><th scope=row>s4d9_GCTAGCTCATCGCTCC-1</th><td>s4d9_GCTAGCTCATCGCTCC-1</td><td> 891</td><td> 78</td><td>K562</td><td>6.792344</td><td>0.08754209</td></tr>\n",
       "\t<tr><th scope=row>s4d9_GCTTGACCAATTAACC-1</th><td>s4d9_GCTTGACCAATTAACC-1</td><td>4931</td><td>395</td><td>K562</td><td>8.503297</td><td>0.08010546</td></tr>\n",
       "\t<tr><th scope=row>s4d9_TTAAGGACAGTTAGCC-1</th><td>s4d9_TTAAGGACAGTTAGCC-1</td><td>1833</td><td>129</td><td>K562</td><td>7.513709</td><td>0.07037643</td></tr>\n",
       "\t<tr><th scope=row>s4d9_TAGCCTCTCATGTTTC-1</th><td>s4d9_TAGCCTCTCATGTTTC-1</td><td>1958</td><td>170</td><td>K562</td><td>7.579679</td><td>0.08682329</td></tr>\n",
       "\t<tr><th scope=row>s4d9_ACTTTGTTCTCCATGC-1</th><td>s4d9_ACTTTGTTCTCCATGC-1</td><td> 905</td><td> 24</td><td>K562</td><td>6.807935</td><td>0.02651934</td></tr>\n",
       "\t<tr><th scope=row>s4d9_TCTCAATTCATCCTGC-1</th><td>s4d9_TCTCAATTCATCCTGC-1</td><td>1368</td><td>136</td><td>K562</td><td>7.221105</td><td>0.09941520</td></tr>\n",
       "\t<tr><th scope=row>s4d9_CTATAACCATAGCGAG-1</th><td>s4d9_CTATAACCATAGCGAG-1</td><td> 580</td><td> 43</td><td>K562</td><td>6.363028</td><td>0.07413793</td></tr>\n",
       "\t<tr><th scope=row>s4d9_TTTACGAAGGACGTAA-1</th><td>s4d9_TTTACGAAGGACGTAA-1</td><td> 591</td><td> 41</td><td>K562</td><td>6.381816</td><td>0.06937394</td></tr>\n",
       "\t<tr><th scope=row>s4d9_TCTCGCCCAAACATAG-1</th><td>s4d9_TCTCGCCCAAACATAG-1</td><td> 795</td><td> 58</td><td>K562</td><td>6.678342</td><td>0.07295597</td></tr>\n",
       "\t<tr><th scope=row>s4d9_GGTTCTTGTGAACAAA-1</th><td>s4d9_GGTTCTTGTGAACAAA-1</td><td> 935</td><td> 76</td><td>K562</td><td>6.840547</td><td>0.08128342</td></tr>\n",
       "\t<tr><th scope=row>s4d9_GATGGACAGCGGCTGT-1</th><td>s4d9_GATGGACAGCGGCTGT-1</td><td> 512</td><td> 30</td><td>K562</td><td>6.238325</td><td>0.05859375</td></tr>\n",
       "\t<tr><th scope=row>s4d9_GAAGTCAAGTGAAGTG-1</th><td>s4d9_GAAGTCAAGTGAAGTG-1</td><td> 988</td><td> 57</td><td>K562</td><td>6.895683</td><td>0.05769231</td></tr>\n",
       "\t<tr><th scope=row>s4d9_GATTCATCACCTAATG-1</th><td>s4d9_GATTCATCACCTAATG-1</td><td> 867</td><td> 67</td><td>K562</td><td>6.765039</td><td>0.07727797</td></tr>\n",
       "\t<tr><th scope=row>s4d9_AGTAAACAGCCTGGTA-1</th><td>s4d9_AGTAAACAGCCTGGTA-1</td><td> 863</td><td> 50</td><td>K562</td><td>6.760415</td><td>0.05793743</td></tr>\n",
       "\t<tr><th scope=row>s4d9_TTGTTCCCAGGGAGCT-1</th><td>s4d9_TTGTTCCCAGGGAGCT-1</td><td> 734</td><td> 57</td><td>K562</td><td>6.598509</td><td>0.07765668</td></tr>\n",
       "\t<tr><th scope=row>s4d9_GCGAAGTAGCTGTACG-1</th><td>s4d9_GCGAAGTAGCTGTACG-1</td><td> 562</td><td> 25</td><td>K562</td><td>6.331502</td><td>0.04448399</td></tr>\n",
       "\t<tr><th scope=row>s4d9_CACAAGCGTTTCGCCA-1</th><td>s4d9_CACAAGCGTTTCGCCA-1</td><td>1615</td><td>147</td><td>K562</td><td>7.387090</td><td>0.09102167</td></tr>\n",
       "\t<tr><th scope=row>s4d9_AAACAGCCAAAGGCCA-1</th><td>s4d9_AAACAGCCAAAGGCCA-1</td><td>1610</td><td> 90</td><td>K562</td><td>7.383989</td><td>0.05590062</td></tr>\n",
       "\t<tr><th scope=row>s4d9_TCGCTAACACACTAAT-1</th><td>s4d9_TCGCTAACACACTAAT-1</td><td>1003</td><td> 61</td><td>K562</td><td>6.910751</td><td>0.06081755</td></tr>\n",
       "\t<tr><th scope=row>s4d9_GTCGAAGCACATAACT-1</th><td>s4d9_GTCGAAGCACATAACT-1</td><td> 813</td><td> 31</td><td>K562</td><td>6.700731</td><td>0.03813038</td></tr>\n",
       "\t<tr><th scope=row>s4d9_ATGTTCAAGTTATTCC-1</th><td>s4d9_ATGTTCAAGTTATTCC-1</td><td> 869</td><td> 22</td><td>K562</td><td>6.767343</td><td>0.02531646</td></tr>\n",
       "\t<tr><th scope=row>s4d9_CTTCAAGCAAAGCGCA-1</th><td>s4d9_CTTCAAGCAAAGCGCA-1</td><td> 793</td><td> 49</td><td>K562</td><td>6.675823</td><td>0.06179067</td></tr>\n",
       "\t<tr><th scope=row>s4d9_GCTTTACGTATTCGCT-1</th><td>s4d9_GCTTTACGTATTCGCT-1</td><td> 905</td><td> 65</td><td>K562</td><td>6.807935</td><td>0.07182320</td></tr>\n",
       "\t<tr><th scope=row>s4d9_TCAAGCTAGCACCACA-1</th><td>s4d9_TCAAGCTAGCACCACA-1</td><td> 822</td><td> 23</td><td>K562</td><td>6.711740</td><td>0.02798054</td></tr>\n",
       "\t<tr><th scope=row>s4d9_GGTCAATTCGATTATG-1</th><td>s4d9_GGTCAATTCGATTATG-1</td><td>1553</td><td>111</td><td>K562</td><td>7.347944</td><td>0.07147457</td></tr>\n",
       "\t<tr><th scope=row>s4d9_GGTTTAATCTATGACA-1</th><td>s4d9_GGTTTAATCTATGACA-1</td><td>3206</td><td>243</td><td>K562</td><td>8.072779</td><td>0.07579538</td></tr>\n",
       "\t<tr><th scope=row>s4d9_ACTAATCCAGCAAGAT-1</th><td>s4d9_ACTAATCCAGCAAGAT-1</td><td>1003</td><td> 53</td><td>K562</td><td>6.910751</td><td>0.05284148</td></tr>\n",
       "\t<tr><th scope=row>s4d9_AGCATCCCACAGAACG-1</th><td>s4d9_AGCATCCCACAGAACG-1</td><td> 895</td><td> 71</td><td>K562</td><td>6.796824</td><td>0.07932961</td></tr>\n",
       "\t<tr><th scope=row>s4d9_CTATTCAGTTGTGATG-1</th><td>s4d9_CTATTCAGTTGTGATG-1</td><td>1018</td><td> 50</td><td>K562</td><td>6.925595</td><td>0.04911591</td></tr>\n",
       "\t<tr><th scope=row>s4d9_CACTTAAAGTCTGGGC-1</th><td>s4d9_CACTTAAAGTCTGGGC-1</td><td> 889</td><td> 42</td><td>K562</td><td>6.790097</td><td>0.04724409</td></tr>\n",
       "</tbody>\n",
       "</table>\n"
      ],
      "text/latex": [
       "A data.frame: 9752 × 6\n",
       "\\begin{tabular}{r|llllll}\n",
       "  & cell & nUMI & nMito & celltype & log.nUMI & percent.mito\\\\\n",
       "  & <chr> & <dbl> & <dbl> & <chr> & <dbl> & <dbl>\\\\\n",
       "\\hline\n",
       "\ts1d1\\_TAGTTGTCACCCTCAC-1 & s1d1\\_TAGTTGTCACCCTCAC-1 &  1701 &  31 & K562 & 7.438972 & 0.018224574\\\\\n",
       "\ts1d1\\_TGGATTGGTTTGCGAA-1 & s1d1\\_TGGATTGGTTTGCGAA-1 & 16740 & 295 & K562 & 9.725556 & 0.017622461\\\\\n",
       "\ts1d1\\_GTAAGGTCAATAACCT-1 & s1d1\\_GTAAGGTCAATAACCT-1 &  2041 &  52 & K562 & 7.621195 & 0.025477707\\\\\n",
       "\ts1d1\\_GGATTATGTTACATCC-1 & s1d1\\_GGATTATGTTACATCC-1 &  5014 &  78 & K562 & 8.519989 & 0.015556442\\\\\n",
       "\ts1d1\\_AACGACAAGTTGTCAA-1 & s1d1\\_AACGACAAGTTGTCAA-1 &  1477 &  21 & K562 & 7.297768 & 0.014218009\\\\\n",
       "\ts1d1\\_AGCAATACAATATGGA-1 & s1d1\\_AGCAATACAATATGGA-1 &  2295 &  42 & K562 & 7.738488 & 0.018300654\\\\\n",
       "\ts1d1\\_GGGAGTAGTGATTTGG-1 & s1d1\\_GGGAGTAGTGATTTGG-1 &  2708 & 106 & K562 & 7.903966 & 0.039143279\\\\\n",
       "\ts1d1\\_CCATAATCATGTCAGC-1 & s1d1\\_CCATAATCATGTCAGC-1 &  2064 &  26 & K562 & 7.632401 & 0.012596899\\\\\n",
       "\ts1d1\\_ATCAGGTTCATGACCG-1 & s1d1\\_ATCAGGTTCATGACCG-1 &  1802 &  27 & K562 & 7.496652 & 0.014983352\\\\\n",
       "\ts1d1\\_CAGGTCCAGGCTAATC-1 & s1d1\\_CAGGTCCAGGCTAATC-1 &  1592 &  33 & K562 & 7.372746 & 0.020728643\\\\\n",
       "\ts1d1\\_TCAGTGAGTGCTCCGT-1 & s1d1\\_TCAGTGAGTGCTCCGT-1 &  1898 &  22 & K562 & 7.548556 & 0.011591149\\\\\n",
       "\ts1d1\\_CAAACAACAATAACGA-1 & s1d1\\_CAAACAACAATAACGA-1 &  1336 &  24 & K562 & 7.197435 & 0.017964072\\\\\n",
       "\ts1d1\\_ACGCAAGCAATAAGCA-1 & s1d1\\_ACGCAAGCAATAAGCA-1 &  3027 &  63 & K562 & 8.015327 & 0.020812686\\\\\n",
       "\ts1d1\\_CATAATCCAGCAGGTA-1 & s1d1\\_CATAATCCAGCAGGTA-1 &  2195 &  56 & K562 & 7.693937 & 0.025512528\\\\\n",
       "\ts1d1\\_AAGTCTATCGAGGAGT-1 & s1d1\\_AAGTCTATCGAGGAGT-1 &  1964 &  62 & K562 & 7.582738 & 0.031568228\\\\\n",
       "\ts1d1\\_CCTGTTGGTAACAGGG-1 & s1d1\\_CCTGTTGGTAACAGGG-1 &  2032 &  52 & K562 & 7.616776 & 0.025590551\\\\\n",
       "\ts1d1\\_CTAGGCGGTGGGAACA-1 & s1d1\\_CTAGGCGGTGGGAACA-1 &  1969 &  43 & K562 & 7.585281 & 0.021838497\\\\\n",
       "\ts1d1\\_GGAACCACAGGAACTG-1 & s1d1\\_GGAACCACAGGAACTG-1 &  1759 &  46 & K562 & 7.472501 & 0.026151222\\\\\n",
       "\ts1d1\\_GCCTGAGGTTAAGGCC-1 & s1d1\\_GCCTGAGGTTAAGGCC-1 &  1702 &  43 & K562 & 7.439559 & 0.025264395\\\\\n",
       "\ts1d1\\_TAGCCTGAGGTTTGCG-1 & s1d1\\_TAGCCTGAGGTTTGCG-1 &  1634 &  26 & K562 & 7.398786 & 0.015911873\\\\\n",
       "\ts1d1\\_CCCTGTTAGGATCACT-1 & s1d1\\_CCCTGTTAGGATCACT-1 &  8507 & 117 & K562 & 9.048645 & 0.013753380\\\\\n",
       "\ts1d1\\_CCATAATCAAACTAAG-1 & s1d1\\_CCATAATCAAACTAAG-1 &  1762 &  41 & K562 & 7.474205 & 0.023269012\\\\\n",
       "\ts1d1\\_TCTGTGACAAATTCGT-1 & s1d1\\_TCTGTGACAAATTCGT-1 &  1980 &  38 & K562 & 7.590852 & 0.019191919\\\\\n",
       "\ts1d1\\_AGGGTTGCACATAACT-1 & s1d1\\_AGGGTTGCACATAACT-1 &  1739 &  25 & K562 & 7.461066 & 0.014376078\\\\\n",
       "\ts1d1\\_CGTCAATAGTATTGCA-1 & s1d1\\_CGTCAATAGTATTGCA-1 &  1794 &  33 & K562 & 7.492203 & 0.018394649\\\\\n",
       "\ts1d1\\_GTCAGGCTCGTGCTTC-1 & s1d1\\_GTCAGGCTCGTGCTTC-1 &  3914 &  36 & K562 & 8.272315 & 0.009197752\\\\\n",
       "\ts1d1\\_ACATCAATCGTTTCTG-1 & s1d1\\_ACATCAATCGTTTCTG-1 &  2695 &  62 & K562 & 7.899153 & 0.023005566\\\\\n",
       "\ts1d1\\_CTATTACTCCTAAGTA-1 & s1d1\\_CTATTACTCCTAAGTA-1 &  3200 &  67 & K562 & 8.070906 & 0.020937500\\\\\n",
       "\ts1d1\\_CCCAATTGTATTGGAT-1 & s1d1\\_CCCAATTGTATTGGAT-1 &  3783 &  77 & K562 & 8.238273 & 0.020354216\\\\\n",
       "\ts1d1\\_CGCAATAGTCACACCC-1 & s1d1\\_CGCAATAGTCACACCC-1 &  6974 & 221 & K562 & 8.849944 & 0.031689131\\\\\n",
       "\t⋮ & ⋮ & ⋮ & ⋮ & ⋮ & ⋮ & ⋮\\\\\n",
       "\ts4d9\\_GCTAGCTCATCGCTCC-1 & s4d9\\_GCTAGCTCATCGCTCC-1 &  891 &  78 & K562 & 6.792344 & 0.08754209\\\\\n",
       "\ts4d9\\_GCTTGACCAATTAACC-1 & s4d9\\_GCTTGACCAATTAACC-1 & 4931 & 395 & K562 & 8.503297 & 0.08010546\\\\\n",
       "\ts4d9\\_TTAAGGACAGTTAGCC-1 & s4d9\\_TTAAGGACAGTTAGCC-1 & 1833 & 129 & K562 & 7.513709 & 0.07037643\\\\\n",
       "\ts4d9\\_TAGCCTCTCATGTTTC-1 & s4d9\\_TAGCCTCTCATGTTTC-1 & 1958 & 170 & K562 & 7.579679 & 0.08682329\\\\\n",
       "\ts4d9\\_ACTTTGTTCTCCATGC-1 & s4d9\\_ACTTTGTTCTCCATGC-1 &  905 &  24 & K562 & 6.807935 & 0.02651934\\\\\n",
       "\ts4d9\\_TCTCAATTCATCCTGC-1 & s4d9\\_TCTCAATTCATCCTGC-1 & 1368 & 136 & K562 & 7.221105 & 0.09941520\\\\\n",
       "\ts4d9\\_CTATAACCATAGCGAG-1 & s4d9\\_CTATAACCATAGCGAG-1 &  580 &  43 & K562 & 6.363028 & 0.07413793\\\\\n",
       "\ts4d9\\_TTTACGAAGGACGTAA-1 & s4d9\\_TTTACGAAGGACGTAA-1 &  591 &  41 & K562 & 6.381816 & 0.06937394\\\\\n",
       "\ts4d9\\_TCTCGCCCAAACATAG-1 & s4d9\\_TCTCGCCCAAACATAG-1 &  795 &  58 & K562 & 6.678342 & 0.07295597\\\\\n",
       "\ts4d9\\_GGTTCTTGTGAACAAA-1 & s4d9\\_GGTTCTTGTGAACAAA-1 &  935 &  76 & K562 & 6.840547 & 0.08128342\\\\\n",
       "\ts4d9\\_GATGGACAGCGGCTGT-1 & s4d9\\_GATGGACAGCGGCTGT-1 &  512 &  30 & K562 & 6.238325 & 0.05859375\\\\\n",
       "\ts4d9\\_GAAGTCAAGTGAAGTG-1 & s4d9\\_GAAGTCAAGTGAAGTG-1 &  988 &  57 & K562 & 6.895683 & 0.05769231\\\\\n",
       "\ts4d9\\_GATTCATCACCTAATG-1 & s4d9\\_GATTCATCACCTAATG-1 &  867 &  67 & K562 & 6.765039 & 0.07727797\\\\\n",
       "\ts4d9\\_AGTAAACAGCCTGGTA-1 & s4d9\\_AGTAAACAGCCTGGTA-1 &  863 &  50 & K562 & 6.760415 & 0.05793743\\\\\n",
       "\ts4d9\\_TTGTTCCCAGGGAGCT-1 & s4d9\\_TTGTTCCCAGGGAGCT-1 &  734 &  57 & K562 & 6.598509 & 0.07765668\\\\\n",
       "\ts4d9\\_GCGAAGTAGCTGTACG-1 & s4d9\\_GCGAAGTAGCTGTACG-1 &  562 &  25 & K562 & 6.331502 & 0.04448399\\\\\n",
       "\ts4d9\\_CACAAGCGTTTCGCCA-1 & s4d9\\_CACAAGCGTTTCGCCA-1 & 1615 & 147 & K562 & 7.387090 & 0.09102167\\\\\n",
       "\ts4d9\\_AAACAGCCAAAGGCCA-1 & s4d9\\_AAACAGCCAAAGGCCA-1 & 1610 &  90 & K562 & 7.383989 & 0.05590062\\\\\n",
       "\ts4d9\\_TCGCTAACACACTAAT-1 & s4d9\\_TCGCTAACACACTAAT-1 & 1003 &  61 & K562 & 6.910751 & 0.06081755\\\\\n",
       "\ts4d9\\_GTCGAAGCACATAACT-1 & s4d9\\_GTCGAAGCACATAACT-1 &  813 &  31 & K562 & 6.700731 & 0.03813038\\\\\n",
       "\ts4d9\\_ATGTTCAAGTTATTCC-1 & s4d9\\_ATGTTCAAGTTATTCC-1 &  869 &  22 & K562 & 6.767343 & 0.02531646\\\\\n",
       "\ts4d9\\_CTTCAAGCAAAGCGCA-1 & s4d9\\_CTTCAAGCAAAGCGCA-1 &  793 &  49 & K562 & 6.675823 & 0.06179067\\\\\n",
       "\ts4d9\\_GCTTTACGTATTCGCT-1 & s4d9\\_GCTTTACGTATTCGCT-1 &  905 &  65 & K562 & 6.807935 & 0.07182320\\\\\n",
       "\ts4d9\\_TCAAGCTAGCACCACA-1 & s4d9\\_TCAAGCTAGCACCACA-1 &  822 &  23 & K562 & 6.711740 & 0.02798054\\\\\n",
       "\ts4d9\\_GGTCAATTCGATTATG-1 & s4d9\\_GGTCAATTCGATTATG-1 & 1553 & 111 & K562 & 7.347944 & 0.07147457\\\\\n",
       "\ts4d9\\_GGTTTAATCTATGACA-1 & s4d9\\_GGTTTAATCTATGACA-1 & 3206 & 243 & K562 & 8.072779 & 0.07579538\\\\\n",
       "\ts4d9\\_ACTAATCCAGCAAGAT-1 & s4d9\\_ACTAATCCAGCAAGAT-1 & 1003 &  53 & K562 & 6.910751 & 0.05284148\\\\\n",
       "\ts4d9\\_AGCATCCCACAGAACG-1 & s4d9\\_AGCATCCCACAGAACG-1 &  895 &  71 & K562 & 6.796824 & 0.07932961\\\\\n",
       "\ts4d9\\_CTATTCAGTTGTGATG-1 & s4d9\\_CTATTCAGTTGTGATG-1 & 1018 &  50 & K562 & 6.925595 & 0.04911591\\\\\n",
       "\ts4d9\\_CACTTAAAGTCTGGGC-1 & s4d9\\_CACTTAAAGTCTGGGC-1 &  889 &  42 & K562 & 6.790097 & 0.04724409\\\\\n",
       "\\end{tabular}\n"
      ],
      "text/markdown": [
       "\n",
       "A data.frame: 9752 × 6\n",
       "\n",
       "| <!--/--> | cell &lt;chr&gt; | nUMI &lt;dbl&gt; | nMito &lt;dbl&gt; | celltype &lt;chr&gt; | log.nUMI &lt;dbl&gt; | percent.mito &lt;dbl&gt; |\n",
       "|---|---|---|---|---|---|---|\n",
       "| s1d1_TAGTTGTCACCCTCAC-1 | s1d1_TAGTTGTCACCCTCAC-1 |  1701 |  31 | K562 | 7.438972 | 0.018224574 |\n",
       "| s1d1_TGGATTGGTTTGCGAA-1 | s1d1_TGGATTGGTTTGCGAA-1 | 16740 | 295 | K562 | 9.725556 | 0.017622461 |\n",
       "| s1d1_GTAAGGTCAATAACCT-1 | s1d1_GTAAGGTCAATAACCT-1 |  2041 |  52 | K562 | 7.621195 | 0.025477707 |\n",
       "| s1d1_GGATTATGTTACATCC-1 | s1d1_GGATTATGTTACATCC-1 |  5014 |  78 | K562 | 8.519989 | 0.015556442 |\n",
       "| s1d1_AACGACAAGTTGTCAA-1 | s1d1_AACGACAAGTTGTCAA-1 |  1477 |  21 | K562 | 7.297768 | 0.014218009 |\n",
       "| s1d1_AGCAATACAATATGGA-1 | s1d1_AGCAATACAATATGGA-1 |  2295 |  42 | K562 | 7.738488 | 0.018300654 |\n",
       "| s1d1_GGGAGTAGTGATTTGG-1 | s1d1_GGGAGTAGTGATTTGG-1 |  2708 | 106 | K562 | 7.903966 | 0.039143279 |\n",
       "| s1d1_CCATAATCATGTCAGC-1 | s1d1_CCATAATCATGTCAGC-1 |  2064 |  26 | K562 | 7.632401 | 0.012596899 |\n",
       "| s1d1_ATCAGGTTCATGACCG-1 | s1d1_ATCAGGTTCATGACCG-1 |  1802 |  27 | K562 | 7.496652 | 0.014983352 |\n",
       "| s1d1_CAGGTCCAGGCTAATC-1 | s1d1_CAGGTCCAGGCTAATC-1 |  1592 |  33 | K562 | 7.372746 | 0.020728643 |\n",
       "| s1d1_TCAGTGAGTGCTCCGT-1 | s1d1_TCAGTGAGTGCTCCGT-1 |  1898 |  22 | K562 | 7.548556 | 0.011591149 |\n",
       "| s1d1_CAAACAACAATAACGA-1 | s1d1_CAAACAACAATAACGA-1 |  1336 |  24 | K562 | 7.197435 | 0.017964072 |\n",
       "| s1d1_ACGCAAGCAATAAGCA-1 | s1d1_ACGCAAGCAATAAGCA-1 |  3027 |  63 | K562 | 8.015327 | 0.020812686 |\n",
       "| s1d1_CATAATCCAGCAGGTA-1 | s1d1_CATAATCCAGCAGGTA-1 |  2195 |  56 | K562 | 7.693937 | 0.025512528 |\n",
       "| s1d1_AAGTCTATCGAGGAGT-1 | s1d1_AAGTCTATCGAGGAGT-1 |  1964 |  62 | K562 | 7.582738 | 0.031568228 |\n",
       "| s1d1_CCTGTTGGTAACAGGG-1 | s1d1_CCTGTTGGTAACAGGG-1 |  2032 |  52 | K562 | 7.616776 | 0.025590551 |\n",
       "| s1d1_CTAGGCGGTGGGAACA-1 | s1d1_CTAGGCGGTGGGAACA-1 |  1969 |  43 | K562 | 7.585281 | 0.021838497 |\n",
       "| s1d1_GGAACCACAGGAACTG-1 | s1d1_GGAACCACAGGAACTG-1 |  1759 |  46 | K562 | 7.472501 | 0.026151222 |\n",
       "| s1d1_GCCTGAGGTTAAGGCC-1 | s1d1_GCCTGAGGTTAAGGCC-1 |  1702 |  43 | K562 | 7.439559 | 0.025264395 |\n",
       "| s1d1_TAGCCTGAGGTTTGCG-1 | s1d1_TAGCCTGAGGTTTGCG-1 |  1634 |  26 | K562 | 7.398786 | 0.015911873 |\n",
       "| s1d1_CCCTGTTAGGATCACT-1 | s1d1_CCCTGTTAGGATCACT-1 |  8507 | 117 | K562 | 9.048645 | 0.013753380 |\n",
       "| s1d1_CCATAATCAAACTAAG-1 | s1d1_CCATAATCAAACTAAG-1 |  1762 |  41 | K562 | 7.474205 | 0.023269012 |\n",
       "| s1d1_TCTGTGACAAATTCGT-1 | s1d1_TCTGTGACAAATTCGT-1 |  1980 |  38 | K562 | 7.590852 | 0.019191919 |\n",
       "| s1d1_AGGGTTGCACATAACT-1 | s1d1_AGGGTTGCACATAACT-1 |  1739 |  25 | K562 | 7.461066 | 0.014376078 |\n",
       "| s1d1_CGTCAATAGTATTGCA-1 | s1d1_CGTCAATAGTATTGCA-1 |  1794 |  33 | K562 | 7.492203 | 0.018394649 |\n",
       "| s1d1_GTCAGGCTCGTGCTTC-1 | s1d1_GTCAGGCTCGTGCTTC-1 |  3914 |  36 | K562 | 8.272315 | 0.009197752 |\n",
       "| s1d1_ACATCAATCGTTTCTG-1 | s1d1_ACATCAATCGTTTCTG-1 |  2695 |  62 | K562 | 7.899153 | 0.023005566 |\n",
       "| s1d1_CTATTACTCCTAAGTA-1 | s1d1_CTATTACTCCTAAGTA-1 |  3200 |  67 | K562 | 8.070906 | 0.020937500 |\n",
       "| s1d1_CCCAATTGTATTGGAT-1 | s1d1_CCCAATTGTATTGGAT-1 |  3783 |  77 | K562 | 8.238273 | 0.020354216 |\n",
       "| s1d1_CGCAATAGTCACACCC-1 | s1d1_CGCAATAGTCACACCC-1 |  6974 | 221 | K562 | 8.849944 | 0.031689131 |\n",
       "| ⋮ | ⋮ | ⋮ | ⋮ | ⋮ | ⋮ | ⋮ |\n",
       "| s4d9_GCTAGCTCATCGCTCC-1 | s4d9_GCTAGCTCATCGCTCC-1 |  891 |  78 | K562 | 6.792344 | 0.08754209 |\n",
       "| s4d9_GCTTGACCAATTAACC-1 | s4d9_GCTTGACCAATTAACC-1 | 4931 | 395 | K562 | 8.503297 | 0.08010546 |\n",
       "| s4d9_TTAAGGACAGTTAGCC-1 | s4d9_TTAAGGACAGTTAGCC-1 | 1833 | 129 | K562 | 7.513709 | 0.07037643 |\n",
       "| s4d9_TAGCCTCTCATGTTTC-1 | s4d9_TAGCCTCTCATGTTTC-1 | 1958 | 170 | K562 | 7.579679 | 0.08682329 |\n",
       "| s4d9_ACTTTGTTCTCCATGC-1 | s4d9_ACTTTGTTCTCCATGC-1 |  905 |  24 | K562 | 6.807935 | 0.02651934 |\n",
       "| s4d9_TCTCAATTCATCCTGC-1 | s4d9_TCTCAATTCATCCTGC-1 | 1368 | 136 | K562 | 7.221105 | 0.09941520 |\n",
       "| s4d9_CTATAACCATAGCGAG-1 | s4d9_CTATAACCATAGCGAG-1 |  580 |  43 | K562 | 6.363028 | 0.07413793 |\n",
       "| s4d9_TTTACGAAGGACGTAA-1 | s4d9_TTTACGAAGGACGTAA-1 |  591 |  41 | K562 | 6.381816 | 0.06937394 |\n",
       "| s4d9_TCTCGCCCAAACATAG-1 | s4d9_TCTCGCCCAAACATAG-1 |  795 |  58 | K562 | 6.678342 | 0.07295597 |\n",
       "| s4d9_GGTTCTTGTGAACAAA-1 | s4d9_GGTTCTTGTGAACAAA-1 |  935 |  76 | K562 | 6.840547 | 0.08128342 |\n",
       "| s4d9_GATGGACAGCGGCTGT-1 | s4d9_GATGGACAGCGGCTGT-1 |  512 |  30 | K562 | 6.238325 | 0.05859375 |\n",
       "| s4d9_GAAGTCAAGTGAAGTG-1 | s4d9_GAAGTCAAGTGAAGTG-1 |  988 |  57 | K562 | 6.895683 | 0.05769231 |\n",
       "| s4d9_GATTCATCACCTAATG-1 | s4d9_GATTCATCACCTAATG-1 |  867 |  67 | K562 | 6.765039 | 0.07727797 |\n",
       "| s4d9_AGTAAACAGCCTGGTA-1 | s4d9_AGTAAACAGCCTGGTA-1 |  863 |  50 | K562 | 6.760415 | 0.05793743 |\n",
       "| s4d9_TTGTTCCCAGGGAGCT-1 | s4d9_TTGTTCCCAGGGAGCT-1 |  734 |  57 | K562 | 6.598509 | 0.07765668 |\n",
       "| s4d9_GCGAAGTAGCTGTACG-1 | s4d9_GCGAAGTAGCTGTACG-1 |  562 |  25 | K562 | 6.331502 | 0.04448399 |\n",
       "| s4d9_CACAAGCGTTTCGCCA-1 | s4d9_CACAAGCGTTTCGCCA-1 | 1615 | 147 | K562 | 7.387090 | 0.09102167 |\n",
       "| s4d9_AAACAGCCAAAGGCCA-1 | s4d9_AAACAGCCAAAGGCCA-1 | 1610 |  90 | K562 | 7.383989 | 0.05590062 |\n",
       "| s4d9_TCGCTAACACACTAAT-1 | s4d9_TCGCTAACACACTAAT-1 | 1003 |  61 | K562 | 6.910751 | 0.06081755 |\n",
       "| s4d9_GTCGAAGCACATAACT-1 | s4d9_GTCGAAGCACATAACT-1 |  813 |  31 | K562 | 6.700731 | 0.03813038 |\n",
       "| s4d9_ATGTTCAAGTTATTCC-1 | s4d9_ATGTTCAAGTTATTCC-1 |  869 |  22 | K562 | 6.767343 | 0.02531646 |\n",
       "| s4d9_CTTCAAGCAAAGCGCA-1 | s4d9_CTTCAAGCAAAGCGCA-1 |  793 |  49 | K562 | 6.675823 | 0.06179067 |\n",
       "| s4d9_GCTTTACGTATTCGCT-1 | s4d9_GCTTTACGTATTCGCT-1 |  905 |  65 | K562 | 6.807935 | 0.07182320 |\n",
       "| s4d9_TCAAGCTAGCACCACA-1 | s4d9_TCAAGCTAGCACCACA-1 |  822 |  23 | K562 | 6.711740 | 0.02798054 |\n",
       "| s4d9_GGTCAATTCGATTATG-1 | s4d9_GGTCAATTCGATTATG-1 | 1553 | 111 | K562 | 7.347944 | 0.07147457 |\n",
       "| s4d9_GGTTTAATCTATGACA-1 | s4d9_GGTTTAATCTATGACA-1 | 3206 | 243 | K562 | 8.072779 | 0.07579538 |\n",
       "| s4d9_ACTAATCCAGCAAGAT-1 | s4d9_ACTAATCCAGCAAGAT-1 | 1003 |  53 | K562 | 6.910751 | 0.05284148 |\n",
       "| s4d9_AGCATCCCACAGAACG-1 | s4d9_AGCATCCCACAGAACG-1 |  895 |  71 | K562 | 6.796824 | 0.07932961 |\n",
       "| s4d9_CTATTCAGTTGTGATG-1 | s4d9_CTATTCAGTTGTGATG-1 | 1018 |  50 | K562 | 6.925595 | 0.04911591 |\n",
       "| s4d9_CACTTAAAGTCTGGGC-1 | s4d9_CACTTAAAGTCTGGGC-1 |  889 |  42 | K562 | 6.790097 | 0.04724409 |\n",
       "\n"
      ],
      "text/plain": [
       "                        cell                    nUMI  nMito celltype log.nUMI\n",
       "s1d1_TAGTTGTCACCCTCAC-1 s1d1_TAGTTGTCACCCTCAC-1  1701  31   K562     7.438972\n",
       "s1d1_TGGATTGGTTTGCGAA-1 s1d1_TGGATTGGTTTGCGAA-1 16740 295   K562     9.725556\n",
       "s1d1_GTAAGGTCAATAACCT-1 s1d1_GTAAGGTCAATAACCT-1  2041  52   K562     7.621195\n",
       "s1d1_GGATTATGTTACATCC-1 s1d1_GGATTATGTTACATCC-1  5014  78   K562     8.519989\n",
       "s1d1_AACGACAAGTTGTCAA-1 s1d1_AACGACAAGTTGTCAA-1  1477  21   K562     7.297768\n",
       "s1d1_AGCAATACAATATGGA-1 s1d1_AGCAATACAATATGGA-1  2295  42   K562     7.738488\n",
       "s1d1_GGGAGTAGTGATTTGG-1 s1d1_GGGAGTAGTGATTTGG-1  2708 106   K562     7.903966\n",
       "s1d1_CCATAATCATGTCAGC-1 s1d1_CCATAATCATGTCAGC-1  2064  26   K562     7.632401\n",
       "s1d1_ATCAGGTTCATGACCG-1 s1d1_ATCAGGTTCATGACCG-1  1802  27   K562     7.496652\n",
       "s1d1_CAGGTCCAGGCTAATC-1 s1d1_CAGGTCCAGGCTAATC-1  1592  33   K562     7.372746\n",
       "s1d1_TCAGTGAGTGCTCCGT-1 s1d1_TCAGTGAGTGCTCCGT-1  1898  22   K562     7.548556\n",
       "s1d1_CAAACAACAATAACGA-1 s1d1_CAAACAACAATAACGA-1  1336  24   K562     7.197435\n",
       "s1d1_ACGCAAGCAATAAGCA-1 s1d1_ACGCAAGCAATAAGCA-1  3027  63   K562     8.015327\n",
       "s1d1_CATAATCCAGCAGGTA-1 s1d1_CATAATCCAGCAGGTA-1  2195  56   K562     7.693937\n",
       "s1d1_AAGTCTATCGAGGAGT-1 s1d1_AAGTCTATCGAGGAGT-1  1964  62   K562     7.582738\n",
       "s1d1_CCTGTTGGTAACAGGG-1 s1d1_CCTGTTGGTAACAGGG-1  2032  52   K562     7.616776\n",
       "s1d1_CTAGGCGGTGGGAACA-1 s1d1_CTAGGCGGTGGGAACA-1  1969  43   K562     7.585281\n",
       "s1d1_GGAACCACAGGAACTG-1 s1d1_GGAACCACAGGAACTG-1  1759  46   K562     7.472501\n",
       "s1d1_GCCTGAGGTTAAGGCC-1 s1d1_GCCTGAGGTTAAGGCC-1  1702  43   K562     7.439559\n",
       "s1d1_TAGCCTGAGGTTTGCG-1 s1d1_TAGCCTGAGGTTTGCG-1  1634  26   K562     7.398786\n",
       "s1d1_CCCTGTTAGGATCACT-1 s1d1_CCCTGTTAGGATCACT-1  8507 117   K562     9.048645\n",
       "s1d1_CCATAATCAAACTAAG-1 s1d1_CCATAATCAAACTAAG-1  1762  41   K562     7.474205\n",
       "s1d1_TCTGTGACAAATTCGT-1 s1d1_TCTGTGACAAATTCGT-1  1980  38   K562     7.590852\n",
       "s1d1_AGGGTTGCACATAACT-1 s1d1_AGGGTTGCACATAACT-1  1739  25   K562     7.461066\n",
       "s1d1_CGTCAATAGTATTGCA-1 s1d1_CGTCAATAGTATTGCA-1  1794  33   K562     7.492203\n",
       "s1d1_GTCAGGCTCGTGCTTC-1 s1d1_GTCAGGCTCGTGCTTC-1  3914  36   K562     8.272315\n",
       "s1d1_ACATCAATCGTTTCTG-1 s1d1_ACATCAATCGTTTCTG-1  2695  62   K562     7.899153\n",
       "s1d1_CTATTACTCCTAAGTA-1 s1d1_CTATTACTCCTAAGTA-1  3200  67   K562     8.070906\n",
       "s1d1_CCCAATTGTATTGGAT-1 s1d1_CCCAATTGTATTGGAT-1  3783  77   K562     8.238273\n",
       "s1d1_CGCAATAGTCACACCC-1 s1d1_CGCAATAGTCACACCC-1  6974 221   K562     8.849944\n",
       "⋮                       ⋮                       ⋮     ⋮     ⋮        ⋮       \n",
       "s4d9_GCTAGCTCATCGCTCC-1 s4d9_GCTAGCTCATCGCTCC-1  891   78   K562     6.792344\n",
       "s4d9_GCTTGACCAATTAACC-1 s4d9_GCTTGACCAATTAACC-1 4931  395   K562     8.503297\n",
       "s4d9_TTAAGGACAGTTAGCC-1 s4d9_TTAAGGACAGTTAGCC-1 1833  129   K562     7.513709\n",
       "s4d9_TAGCCTCTCATGTTTC-1 s4d9_TAGCCTCTCATGTTTC-1 1958  170   K562     7.579679\n",
       "s4d9_ACTTTGTTCTCCATGC-1 s4d9_ACTTTGTTCTCCATGC-1  905   24   K562     6.807935\n",
       "s4d9_TCTCAATTCATCCTGC-1 s4d9_TCTCAATTCATCCTGC-1 1368  136   K562     7.221105\n",
       "s4d9_CTATAACCATAGCGAG-1 s4d9_CTATAACCATAGCGAG-1  580   43   K562     6.363028\n",
       "s4d9_TTTACGAAGGACGTAA-1 s4d9_TTTACGAAGGACGTAA-1  591   41   K562     6.381816\n",
       "s4d9_TCTCGCCCAAACATAG-1 s4d9_TCTCGCCCAAACATAG-1  795   58   K562     6.678342\n",
       "s4d9_GGTTCTTGTGAACAAA-1 s4d9_GGTTCTTGTGAACAAA-1  935   76   K562     6.840547\n",
       "s4d9_GATGGACAGCGGCTGT-1 s4d9_GATGGACAGCGGCTGT-1  512   30   K562     6.238325\n",
       "s4d9_GAAGTCAAGTGAAGTG-1 s4d9_GAAGTCAAGTGAAGTG-1  988   57   K562     6.895683\n",
       "s4d9_GATTCATCACCTAATG-1 s4d9_GATTCATCACCTAATG-1  867   67   K562     6.765039\n",
       "s4d9_AGTAAACAGCCTGGTA-1 s4d9_AGTAAACAGCCTGGTA-1  863   50   K562     6.760415\n",
       "s4d9_TTGTTCCCAGGGAGCT-1 s4d9_TTGTTCCCAGGGAGCT-1  734   57   K562     6.598509\n",
       "s4d9_GCGAAGTAGCTGTACG-1 s4d9_GCGAAGTAGCTGTACG-1  562   25   K562     6.331502\n",
       "s4d9_CACAAGCGTTTCGCCA-1 s4d9_CACAAGCGTTTCGCCA-1 1615  147   K562     7.387090\n",
       "s4d9_AAACAGCCAAAGGCCA-1 s4d9_AAACAGCCAAAGGCCA-1 1610   90   K562     7.383989\n",
       "s4d9_TCGCTAACACACTAAT-1 s4d9_TCGCTAACACACTAAT-1 1003   61   K562     6.910751\n",
       "s4d9_GTCGAAGCACATAACT-1 s4d9_GTCGAAGCACATAACT-1  813   31   K562     6.700731\n",
       "s4d9_ATGTTCAAGTTATTCC-1 s4d9_ATGTTCAAGTTATTCC-1  869   22   K562     6.767343\n",
       "s4d9_CTTCAAGCAAAGCGCA-1 s4d9_CTTCAAGCAAAGCGCA-1  793   49   K562     6.675823\n",
       "s4d9_GCTTTACGTATTCGCT-1 s4d9_GCTTTACGTATTCGCT-1  905   65   K562     6.807935\n",
       "s4d9_TCAAGCTAGCACCACA-1 s4d9_TCAAGCTAGCACCACA-1  822   23   K562     6.711740\n",
       "s4d9_GGTCAATTCGATTATG-1 s4d9_GGTCAATTCGATTATG-1 1553  111   K562     7.347944\n",
       "s4d9_GGTTTAATCTATGACA-1 s4d9_GGTTTAATCTATGACA-1 3206  243   K562     8.072779\n",
       "s4d9_ACTAATCCAGCAAGAT-1 s4d9_ACTAATCCAGCAAGAT-1 1003   53   K562     6.910751\n",
       "s4d9_AGCATCCCACAGAACG-1 s4d9_AGCATCCCACAGAACG-1  895   71   K562     6.796824\n",
       "s4d9_CTATTCAGTTGTGATG-1 s4d9_CTATTCAGTTGTGATG-1 1018   50   K562     6.925595\n",
       "s4d9_CACTTAAAGTCTGGGC-1 s4d9_CACTTAAAGTCTGGGC-1  889   42   K562     6.790097\n",
       "                        percent.mito\n",
       "s1d1_TAGTTGTCACCCTCAC-1 0.018224574 \n",
       "s1d1_TGGATTGGTTTGCGAA-1 0.017622461 \n",
       "s1d1_GTAAGGTCAATAACCT-1 0.025477707 \n",
       "s1d1_GGATTATGTTACATCC-1 0.015556442 \n",
       "s1d1_AACGACAAGTTGTCAA-1 0.014218009 \n",
       "s1d1_AGCAATACAATATGGA-1 0.018300654 \n",
       "s1d1_GGGAGTAGTGATTTGG-1 0.039143279 \n",
       "s1d1_CCATAATCATGTCAGC-1 0.012596899 \n",
       "s1d1_ATCAGGTTCATGACCG-1 0.014983352 \n",
       "s1d1_CAGGTCCAGGCTAATC-1 0.020728643 \n",
       "s1d1_TCAGTGAGTGCTCCGT-1 0.011591149 \n",
       "s1d1_CAAACAACAATAACGA-1 0.017964072 \n",
       "s1d1_ACGCAAGCAATAAGCA-1 0.020812686 \n",
       "s1d1_CATAATCCAGCAGGTA-1 0.025512528 \n",
       "s1d1_AAGTCTATCGAGGAGT-1 0.031568228 \n",
       "s1d1_CCTGTTGGTAACAGGG-1 0.025590551 \n",
       "s1d1_CTAGGCGGTGGGAACA-1 0.021838497 \n",
       "s1d1_GGAACCACAGGAACTG-1 0.026151222 \n",
       "s1d1_GCCTGAGGTTAAGGCC-1 0.025264395 \n",
       "s1d1_TAGCCTGAGGTTTGCG-1 0.015911873 \n",
       "s1d1_CCCTGTTAGGATCACT-1 0.013753380 \n",
       "s1d1_CCATAATCAAACTAAG-1 0.023269012 \n",
       "s1d1_TCTGTGACAAATTCGT-1 0.019191919 \n",
       "s1d1_AGGGTTGCACATAACT-1 0.014376078 \n",
       "s1d1_CGTCAATAGTATTGCA-1 0.018394649 \n",
       "s1d1_GTCAGGCTCGTGCTTC-1 0.009197752 \n",
       "s1d1_ACATCAATCGTTTCTG-1 0.023005566 \n",
       "s1d1_CTATTACTCCTAAGTA-1 0.020937500 \n",
       "s1d1_CCCAATTGTATTGGAT-1 0.020354216 \n",
       "s1d1_CGCAATAGTCACACCC-1 0.031689131 \n",
       "⋮                       ⋮           \n",
       "s4d9_GCTAGCTCATCGCTCC-1 0.08754209  \n",
       "s4d9_GCTTGACCAATTAACC-1 0.08010546  \n",
       "s4d9_TTAAGGACAGTTAGCC-1 0.07037643  \n",
       "s4d9_TAGCCTCTCATGTTTC-1 0.08682329  \n",
       "s4d9_ACTTTGTTCTCCATGC-1 0.02651934  \n",
       "s4d9_TCTCAATTCATCCTGC-1 0.09941520  \n",
       "s4d9_CTATAACCATAGCGAG-1 0.07413793  \n",
       "s4d9_TTTACGAAGGACGTAA-1 0.06937394  \n",
       "s4d9_TCTCGCCCAAACATAG-1 0.07295597  \n",
       "s4d9_GGTTCTTGTGAACAAA-1 0.08128342  \n",
       "s4d9_GATGGACAGCGGCTGT-1 0.05859375  \n",
       "s4d9_GAAGTCAAGTGAAGTG-1 0.05769231  \n",
       "s4d9_GATTCATCACCTAATG-1 0.07727797  \n",
       "s4d9_AGTAAACAGCCTGGTA-1 0.05793743  \n",
       "s4d9_TTGTTCCCAGGGAGCT-1 0.07765668  \n",
       "s4d9_GCGAAGTAGCTGTACG-1 0.04448399  \n",
       "s4d9_CACAAGCGTTTCGCCA-1 0.09102167  \n",
       "s4d9_AAACAGCCAAAGGCCA-1 0.05590062  \n",
       "s4d9_TCGCTAACACACTAAT-1 0.06081755  \n",
       "s4d9_GTCGAAGCACATAACT-1 0.03813038  \n",
       "s4d9_ATGTTCAAGTTATTCC-1 0.02531646  \n",
       "s4d9_CTTCAAGCAAAGCGCA-1 0.06179067  \n",
       "s4d9_GCTTTACGTATTCGCT-1 0.07182320  \n",
       "s4d9_TCAAGCTAGCACCACA-1 0.02798054  \n",
       "s4d9_GGTCAATTCGATTATG-1 0.07147457  \n",
       "s4d9_GGTTTAATCTATGACA-1 0.07579538  \n",
       "s4d9_ACTAATCCAGCAAGAT-1 0.05284148  \n",
       "s4d9_AGCATCCCACAGAACG-1 0.07932961  \n",
       "s4d9_CTATTCAGTTGTGATG-1 0.04911591  \n",
       "s4d9_CACTTAAAGTCTGGGC-1 0.04724409  "
      ]
     },
     "metadata": {},
     "output_type": "display_data"
    }
   ],
   "source": [
    "meta.data = data.frame(cell = colnames(matrix.rna),\n",
    "                       nUMI = colSums(matrix.rna),\n",
    "                       nMito = colSums(matrix.rna[grep(\"MT-\",rownames(matrix.rna)),]),\n",
    "                       celltype = \"K562\")\n",
    "meta.data[,\"log.nUMI\"] = log(meta.data[,\"nUMI\"])\n",
    "meta.data[,\"percent.mito\"] = meta.data[,\"nMito\"] / meta.data[,\"nUMI\"]\n",
    "meta.data"
   ]
  },
  {
   "cell_type": "markdown",
   "id": "b823cb4a-3ce6-40b1-9a0d-d5d1e4aa3912",
   "metadata": {},
   "source": [
    "RUN SCENT prediction"
   ]
  },
  {
   "cell_type": "code",
   "execution_count": 14,
   "id": "f46765dc-9de5-4411-9288-40b59435f9fb",
   "metadata": {},
   "outputs": [],
   "source": [
    "RhpcBLASctl::blas_set_num_threads(1)\n",
    "SCENT_algorithm.modified = function (object, \n",
    "                                     # celltype, \n",
    "                                     # ncores, \n",
    "                                     # regr = \"poisson\", \n",
    "                                     # bin = TRUE) \n",
    "                                     regr = \"poisson\") {\n",
    "    res <- data.frame()\n",
    "    for (n in 1:nrow(object@peak.info)) {        \n",
    "        gene <- object@peak.info[n, 1]\n",
    "        this_peak <- object@peak.info[n, 2]\n",
    "        atac_target <- data.frame(cell = colnames(object@atac), \n",
    "            atac = object@atac[this_peak, ])\n",
    "        # if (bin) {\n",
    "        #     atac_target[atac_target$atac > 0, ]$atac <- 1\n",
    "        # }\n",
    "        mrna_target <- object@rna[gene, ]\n",
    "        df <- data.frame(cell = names(mrna_target), exprs = as.numeric(mrna_target))\n",
    "        df <- merge(df, atac_target, by = \"cell\")\n",
    "        df <- merge(df, object@meta.data, by = \"cell\")\n",
    "        # df2 <- df[df[[object@celltypes]] == celltype, ]\n",
    "        df2 <- df\n",
    "        nonzero_m <- length(df2$exprs[df2$exprs > 0])/length(df2$exprs)\n",
    "        nonzero_a <- length(df2$atac[df2$atac > 0])/length(df2$atac)\n",
    "        if (nonzero_m > 0.05 & nonzero_a > 0.05) {\n",
    "            res_var <- \"exprs\"\n",
    "            pred_var <- c(\"atac\", object@covariates)\n",
    "            formula <- as.formula(paste(res_var, paste(pred_var, \n",
    "                collapse = \"+\"), sep = \"~\"))\n",
    "            if (regr == \"poisson\") {\n",
    "                base = glm(formula, family = \"poisson\", data = df2)\n",
    "                coefs <- summary(base)$coefficients[\"atac\", ]\n",
    "                # assoc <- assoc_poisson\n",
    "                assoc <- SCENT::assoc_poisson\n",
    "            }\n",
    "            else if (regr == \"negbin\") {\n",
    "                base = glm.nb(formula, data = df2)\n",
    "                coefs <- summary(base)$coefficients[\"atac\", ]\n",
    "                # assoc <- assoc_negbin\n",
    "                assoc <- SCENT::assoc_negbin\n",
    "            }\n",
    "            bs = boot::boot(df2, assoc, R = 100, formula = formula, \n",
    "                stype = \"i\", parallel = \"no\", ncpus = 1)\n",
    "            # p0 = basic_p(bs$t0[1], bs$t[, 1])\n",
    "            p0 = SCENT::basic_p(bs$t0[1], bs$t[, 1])\n",
    "            if (p0 < 0.1) {\n",
    "                bs = boot::boot(df2, assoc, R = 500, formula = formula, \n",
    "                  stype = \"i\", \n",
    "                  # parallel = \"multicore\", ncpus = ncores)\n",
    "                  parallel = \"no\", ncpus = 1)\n",
    "                # p0 = basic_p(bs$t0[1], bs$t[, 1])\n",
    "                p0 = SCENT::basic_p(bs$t0[1], bs$t[, 1])\n",
    "            }\n",
    "            # if (p0 < 0.05) {\n",
    "            #     bs = boot::boot(df2, assoc, R = 2500, formula = formula, \n",
    "            #       stype = \"i\", \n",
    "            #       # parallel = \"multicore\", ncpus = ncores)\n",
    "            #       parallel = \"no\", ncpus = 1)\n",
    "            #     # p0 = basic_p(bs$t0[1], bs$t[, 1])\n",
    "            #     p0 = SCENT::basic_p(bs$t0[1], bs$t[, 1])\n",
    "            # }\n",
    "            # if (p0 < 0.01) {\n",
    "            #     bs = boot::boot(df2, assoc, R = 25000, formula = formula, \n",
    "            #       stype = \"i\", \n",
    "            #       # parallel = \"multicore\", ncpus = ncores)\n",
    "            #       parallel = \"no\", ncpus = 1)\n",
    "            #     # p0 = basic_p(bs$t0[1], bs$t[, 1])\n",
    "            #     p0 = SCENT::basic_p(bs$t0[1], bs$t[, 1])\n",
    "            # }\n",
    "            # if (p0 < 0.001) {\n",
    "            #     bs = boot::boot(df2, assoc, R = 50000, formula = formula, \n",
    "            #       stype = \"i\", \n",
    "            #       # parallel = \"multicore\", ncpus = ncores)\n",
    "            #       parallel = \"no\", ncpus = 1)\n",
    "            #     # p0 = basic_p(bs$t0[1], bs$t[, 1])\n",
    "            #     p0 = SCENT::basic_p(bs$t0[1], bs$t[, 1])\n",
    "            # }\n",
    "            out <- data.frame(gene = gene, peak = this_peak, \n",
    "                beta = coefs[1], se = coefs[2], z = coefs[3], \n",
    "                p = coefs[4], boot_basic_p = p0)           \n",
    "            res <- rbind(res, out)\n",
    "        }\n",
    "    }\n",
    "    object@SCENT.result <- res\n",
    "    return(object)\n",
    "}"
   ]
  },
  {
   "cell_type": "code",
   "execution_count": 15,
   "id": "563771b9-b96a-44d5-a5fe-fa30a7b9851b",
   "metadata": {},
   "outputs": [
    {
     "name": "stderr",
     "output_type": "stream",
     "text": [
      "Warning message in dir.create(paste(dir.output, \"chr\", sep = \"/\"), recursive = T):\n",
      "“'/maps/projects/ralab_nnfc-AUDIT/people/lpm537/project/E2G/analysis/E2G_240503/data/BMMC/2.Genome_wide_prediction/SCENT/BMMC5.B.500.250204//chr' already exists”\n"
     ]
    }
   ],
   "source": [
    "dir.create(paste(dir.output,\"chr\",sep = \"/\"),recursive = T)"
   ]
  },
  {
   "cell_type": "code",
   "execution_count": 16,
   "id": "0d2266ce-b92d-40d2-9b78-f39bd33a5079",
   "metadata": {},
   "outputs": [],
   "source": [
    "chr.done = dir(paste(dir.output,\"chr\",sep = \"/\"))\n",
    "chr.run = as.character(unique(seqnames(pairs.E2G)))\n",
    "chr.run = chr.run[!chr.run %in% chr.done]"
   ]
  },
  {
   "cell_type": "code",
   "execution_count": 17,
   "id": "b25ff7bc-5b2b-41de-9c8f-b51c52c1f113",
   "metadata": {},
   "outputs": [],
   "source": [
    "Sys.setenv(OPENBLAS_NUM_THREADS=1)"
   ]
  },
  {
   "cell_type": "code",
   "execution_count": null,
   "id": "2d41238d-e833-4e0e-add5-bb56bb615c1a",
   "metadata": {},
   "outputs": [
    {
     "name": "stdout",
     "output_type": "stream",
     "text": [
      "[1] \"chr12\"\n"
     ]
    },
    {
     "name": "stderr",
     "output_type": "stream",
     "text": [
      "Warning message in split.default(x = seq_len(nrow(x)), f = f, drop = drop, ...):\n",
      "“data length is not a multiple of split variable”\n"
     ]
    },
    {
     "name": "stdout",
     "output_type": "stream",
     "text": [
      "[1] \"chr13\"\n"
     ]
    },
    {
     "name": "stderr",
     "output_type": "stream",
     "text": [
      "Warning message in split.default(x = seq_len(nrow(x)), f = f, drop = drop, ...):\n",
      "“data length is not a multiple of split variable”\n"
     ]
    },
    {
     "name": "stdout",
     "output_type": "stream",
     "text": [
      "[1] \"chr14\"\n"
     ]
    },
    {
     "name": "stderr",
     "output_type": "stream",
     "text": [
      "Warning message in split.default(x = seq_len(nrow(x)), f = f, drop = drop, ...):\n",
      "“data length is not a multiple of split variable”\n"
     ]
    },
    {
     "name": "stdout",
     "output_type": "stream",
     "text": [
      "[1] \"chr15\"\n"
     ]
    },
    {
     "name": "stderr",
     "output_type": "stream",
     "text": [
      "Warning message in split.default(x = seq_len(nrow(x)), f = f, drop = drop, ...):\n",
      "“data length is not a multiple of split variable”\n"
     ]
    },
    {
     "name": "stdout",
     "output_type": "stream",
     "text": [
      "[1] \"chr16\"\n",
      "[1] \"chr17\"\n"
     ]
    },
    {
     "name": "stderr",
     "output_type": "stream",
     "text": [
      "Warning message in split.default(x = seq_len(nrow(x)), f = f, drop = drop, ...):\n",
      "“data length is not a multiple of split variable”\n"
     ]
    },
    {
     "name": "stdout",
     "output_type": "stream",
     "text": [
      "[1] \"chr18\"\n"
     ]
    },
    {
     "name": "stderr",
     "output_type": "stream",
     "text": [
      "Warning message in split.default(x = seq_len(nrow(x)), f = f, drop = drop, ...):\n",
      "“data length is not a multiple of split variable”\n"
     ]
    },
    {
     "name": "stdout",
     "output_type": "stream",
     "text": [
      "[1] \"chr19\"\n"
     ]
    },
    {
     "name": "stderr",
     "output_type": "stream",
     "text": [
      "Warning message in split.default(x = seq_len(nrow(x)), f = f, drop = drop, ...):\n",
      "“data length is not a multiple of split variable”\n"
     ]
    },
    {
     "name": "stdout",
     "output_type": "stream",
     "text": [
      "[1] \"chr2\"\n"
     ]
    },
    {
     "name": "stderr",
     "output_type": "stream",
     "text": [
      "Warning message in split.default(x = seq_len(nrow(x)), f = f, drop = drop, ...):\n",
      "“data length is not a multiple of split variable”\n"
     ]
    },
    {
     "name": "stdout",
     "output_type": "stream",
     "text": [
      "[1] \"chr20\"\n",
      "[1] \"chr21\"\n"
     ]
    },
    {
     "name": "stderr",
     "output_type": "stream",
     "text": [
      "Warning message in split.default(x = seq_len(nrow(x)), f = f, drop = drop, ...):\n",
      "“data length is not a multiple of split variable”\n"
     ]
    },
    {
     "name": "stdout",
     "output_type": "stream",
     "text": [
      "[1] \"chr22\"\n"
     ]
    },
    {
     "name": "stderr",
     "output_type": "stream",
     "text": [
      "Warning message in split.default(x = seq_len(nrow(x)), f = f, drop = drop, ...):\n",
      "“data length is not a multiple of split variable”\n"
     ]
    }
   ],
   "source": [
    "for(chr.tmp in chr.run){\n",
    "  print(chr.tmp)\n",
    "  pairs.E2G.chr.res = pairs.E2G.filter2[seqnames(pairs.E2G.filter2) == chr.tmp]\n",
    "  gene_peak.chr = as.data.frame(mcols(pairs.E2G.chr.res)[,c(\"TargetGene\",\"PeakName\")])\n",
    "  list.gene_peak.chr <- split(gene_peak.chr, seq_len(n.cores))\n",
    "  \n",
    "  list.obj.SCENT.chr <- lapply(list.gene_peak.chr, function(gene_peak.tmp) {\n",
    "    obj.SCENT.tmp <- CreateSCENTObj(\n",
    "      rna = matrix.rna.rename[rownames(matrix.rna.rename) %in% gene_peak.tmp$TargetGene,],\n",
    "      atac = matrix.atac[rownames(matrix.atac) %in% gene_peak.tmp$PeakName,], \n",
    "      meta.data = meta.data,\n",
    "      peak.info = gene_peak.tmp,\n",
    "      covariates = c(\"log.nUMI\",\"percent.mito\"), \n",
    "      celltypes = \"celltype\"\n",
    "    )\n",
    "  })\n",
    "  \n",
    "  cl <- makeCluster(n.cores)\n",
    "  clusterExport(cl, varlist=c(\"SCENT_algorithm.modified\"))\n",
    "  list.SCENT.result.chr <- parLapply(cl, list.obj.SCENT.chr, function(obj.SCENT.tmp) {\n",
    "    obj.SCENT.tmp <- SCENT_algorithm.modified(object = obj.SCENT.tmp)\n",
    "    return(obj.SCENT.tmp@SCENT.result)\n",
    "  })\n",
    "  stopCluster(cl)\n",
    "  \n",
    "  \n",
    "  df.SCENT.result.chr = do.call(rbind,list.SCENT.result.chr)\n",
    "  rownames(df.SCENT.result.chr) = paste(df.SCENT.result.chr$peak,\n",
    "                                        df.SCENT.result.chr$gene,\n",
    "                                        sep = \"_\")\n",
    "\n",
    "  pairs.E2G.chr.res = pairs.E2G.chr.res[pairs.E2G.chr.res$PairName %in% rownames(df.SCENT.result.chr)]\n",
    "  mcols(pairs.E2G.chr.res)[,c(\"beta\",\"se\",\"z\",\"p\",\"boot_basic_p\")] = \n",
    "    df.SCENT.result.chr[pairs.E2G.chr.res$PairName,c(\"beta\",\"se\",\"z\",\"p\",\"boot_basic_p\")]\n",
    "  pairs.E2G.chr.res$boot_basic_p.log10 = -log10(pairs.E2G.chr.res$boot_basic_p)\n",
    "  pairs.E2G.chr.res$sign = 1\n",
    "  pairs.E2G.chr.res$sign[pairs.E2G.chr.res$beta < 0] = -1\n",
    "  pairs.E2G.chr.res$boot_basic_p.log10.signed = pairs.E2G.chr.res$boot_basic_p.log10 * pairs.E2G.chr.res$sign\n",
    "  saveRDS(pairs.E2G.chr.res,\n",
    "          paste(dir.output,\"chr\",chr.tmp,sep = \"/\"))\n",
    "  rm (pairs.E2G.chr.res)\n",
    "}"
   ]
  },
  {
   "cell_type": "markdown",
   "id": "da9d1451-54e0-49e0-ae8b-cd0158115820",
   "metadata": {},
   "source": [
    "Merge results"
   ]
  },
  {
   "cell_type": "code",
   "execution_count": null,
   "id": "6b4278f1-7d9d-402f-95c6-f274a6befea3",
   "metadata": {},
   "outputs": [],
   "source": [
    "chr.merge = as.character(unique(seqnames(pairs.E2G)))\n",
    "list.res = list()\n",
    "for(chr.tmp in chr.merge){\n",
    "    list.res[[chr.tmp]] = readRDS(paste(dir.output,\"chr\",chr.tmp,sep = \"/\"))\n",
    "}\n",
    "pairs.E2G.res = unlist(as(list.res, \"GRangesList\"))"
   ]
  },
  {
   "cell_type": "markdown",
   "id": "00278bea-8baf-4ed0-93d5-1289f05fa36a",
   "metadata": {},
   "source": [
    "Save results"
   ]
  },
  {
   "cell_type": "code",
   "execution_count": null,
   "id": "48824f05-aedd-476c-88d6-ae58d1833fc9",
   "metadata": {},
   "outputs": [],
   "source": [
    "saveRDS(pairs.E2G.res,\n",
    "        paste(dir.output,\"pairs.E2G.res.rds\",sep = \"/\"))\n",
    "pairs.E2G.res"
   ]
  },
  {
   "cell_type": "code",
   "execution_count": null,
   "id": "2297128a-9ed6-42b8-90c7-459969fb5afd",
   "metadata": {},
   "outputs": [],
   "source": [
    "df.output = as.data.frame(pairs.E2G.res,row.names = NULL)\n",
    "colnames(df.output)[1] = \"chr\"\n",
    "df.output[,\"CellType\"] = \"K562\"\n",
    "df.output = df.output[,c(\"chr\",\n",
    "                         \"start\",\n",
    "                         \"end\",\n",
    "                         \"TargetGene\",\n",
    "                         \"CellType\",\n",
    "                         \"beta\",\"se\",\"z\",\"p\",\"boot_basic_p\",\n",
    "                         \"boot_basic_p.log10\",\n",
    "                         \"sign\",\n",
    "                         \"boot_basic_p.log10.signed\")]\n",
    "data.table::fwrite(df.output,\n",
    "                   file = paste(dir.output,\"pairs.E2G.res.tsv.gz\",sep = \"/\"),\n",
    "                   row.names = F,\n",
    "                   quote = F,\n",
    "                   sep = \"\\t\")\n",
    "df.output"
   ]
  },
  {
   "cell_type": "code",
   "execution_count": null,
   "id": "4d77c58e-215a-408d-8495-c68c72f559c3",
   "metadata": {},
   "outputs": [],
   "source": [
    "sessionInfo()"
   ]
  },
  {
   "cell_type": "code",
   "execution_count": null,
   "id": "3c1a0283-11d6-4df1-bbd8-7b47e9e8ead8",
   "metadata": {},
   "outputs": [],
   "source": []
  }
 ],
 "metadata": {
  "kernelspec": {
   "display_name": "R",
   "language": "R",
   "name": "ir"
  },
  "language_info": {
   "codemirror_mode": "r",
   "file_extension": ".r",
   "mimetype": "text/x-r-source",
   "name": "R",
   "pygments_lexer": "r",
   "version": "4.3.3"
  }
 },
 "nbformat": 4,
 "nbformat_minor": 5
}
