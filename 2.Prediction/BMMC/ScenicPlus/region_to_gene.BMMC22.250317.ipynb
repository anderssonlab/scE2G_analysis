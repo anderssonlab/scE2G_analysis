{
 "cells": [
  {
   "cell_type": "code",
   "execution_count": 1,
   "id": "131db1b9-2cfc-4f9f-8c22-daef4ba457fd",
   "metadata": {},
   "outputs": [
    {
     "name": "stdout",
     "output_type": "stream",
     "text": [
      "2025-03-17 19:53:43,741 SCENIC+      INFO     Reading cisTopic object.\n",
      "2025-03-17 19:54:30,560 SCENIC+      INFO     Reading gene expression AnnData.\n",
      "2025-03-17 19:54:51,504 Ingesting multiome data INFO     Found 69249 multiome cells.\n",
      "2025-03-17 19:54:51,828 cisTopic     INFO     Imputing region accessibility\n",
      "2025-03-17 19:54:51,828 cisTopic     INFO     Impute region accessibility for regions 0-20000\n",
      "2025-03-17 19:54:55,659 cisTopic     INFO     Impute region accessibility for regions 20000-40000\n",
      "2025-03-17 19:55:00,266 cisTopic     INFO     Impute region accessibility for regions 40000-60000\n",
      "2025-03-17 19:55:04,087 cisTopic     INFO     Impute region accessibility for regions 60000-80000\n",
      "2025-03-17 19:55:07,905 cisTopic     INFO     Impute region accessibility for regions 80000-100000\n",
      "2025-03-17 19:55:11,924 cisTopic     INFO     Impute region accessibility for regions 100000-120000\n",
      "2025-03-17 19:55:16,024 cisTopic     INFO     Impute region accessibility for regions 120000-140000\n",
      "2025-03-17 19:55:20,274 cisTopic     INFO     Impute region accessibility for regions 140000-160000\n",
      "2025-03-17 19:55:24,769 cisTopic     INFO     Impute region accessibility for regions 160000-180000\n",
      "2025-03-17 19:55:29,882 cisTopic     INFO     Impute region accessibility for regions 180000-200000\n",
      "2025-03-17 19:55:34,747 cisTopic     INFO     Impute region accessibility for regions 200000-220000\n",
      "2025-03-17 19:55:39,003 cisTopic     INFO     Impute region accessibility for regions 220000-240000\n",
      "2025-03-17 19:55:49,050 cisTopic     INFO     Impute region accessibility for regions 240000-260000\n",
      "2025-03-17 19:55:53,421 cisTopic     INFO     Impute region accessibility for regions 260000-280000\n",
      "2025-03-17 19:55:57,827 cisTopic     INFO     Impute region accessibility for regions 280000-300000\n",
      "2025-03-17 19:56:02,146 cisTopic     INFO     Impute region accessibility for regions 300000-320000\n",
      "2025-03-17 19:56:08,267 cisTopic     INFO     Impute region accessibility for regions 320000-340000\n",
      "2025-03-17 19:56:19,340 cisTopic     INFO     Impute region accessibility for regions 340000-360000\n",
      "2025-03-17 19:56:28,641 cisTopic     INFO     Impute region accessibility for regions 360000-380000\n",
      "2025-03-17 19:56:36,175 cisTopic     INFO     Impute region accessibility for regions 380000-400000\n",
      "2025-03-17 19:56:44,346 cisTopic     INFO     Impute region accessibility for regions 400000-420000\n",
      "2025-03-17 19:56:58,966 cisTopic     INFO     Impute region accessibility for regions 420000-440000\n",
      "2025-03-17 19:57:10,796 cisTopic     INFO     Impute region accessibility for regions 440000-460000\n",
      "2025-03-17 19:57:22,126 cisTopic     INFO     Impute region accessibility for regions 460000-480000\n",
      "2025-03-17 19:57:37,025 cisTopic     INFO     Impute region accessibility for regions 480000-500000\n",
      "2025-03-17 19:57:54,318 cisTopic     INFO     Impute region accessibility for regions 500000-520000\n",
      "2025-03-17 19:58:09,130 cisTopic     INFO     Impute region accessibility for regions 520000-540000\n",
      "2025-03-17 19:58:15,035 cisTopic     INFO     Impute region accessibility for regions 540000-560000\n",
      "2025-03-17 19:58:15,155 cisTopic     INFO     Done!\n",
      "... storing 'sample_id' as categorical\n",
      "... storing 'Chromosome' as categorical\n",
      "\u001b[0m"
     ]
    }
   ],
   "source": [
    "!scenicplus prepare_data prepare_GEX_ACC \\\n",
    "    --cisTopic_obj_fname outs_BMMC22/cistopic_obj.pkl \\\n",
    "    --GEX_anndata_fname adata.250317.h5ad \\\n",
    "    --out_file outs_BMMC22/ACC_GEX.250317.h5mu \\\n",
    "    --bc_transform_func \"lambda x: f'{x}___cisTopic'\""
   ]
  },
  {
   "cell_type": "markdown",
   "id": "8ed90f12-ab62-4d02-8886-769370174d19",
   "metadata": {},
   "source": [
    "Replace first '-' with ':' in region names"
   ]
  },
  {
   "cell_type": "code",
   "execution_count": 2,
   "id": "d6fb2954-60d8-4a31-a185-bedc0ccab689",
   "metadata": {},
   "outputs": [
    {
     "name": "stderr",
     "output_type": "stream",
     "text": [
      "/maps/projects/ralab/people/lpm537/software/anaconda3/envs/scenicplus_240606/lib/python3.11/site-packages/anndata/_core/anndata.py:522: FutureWarning: The dtype argument is deprecated and will be removed in late 2024.\n",
      "  warnings.warn(\n",
      "/maps/projects/ralab/people/lpm537/software/anaconda3/envs/scenicplus_240606/lib/python3.11/site-packages/anndata/_core/anndata.py:522: FutureWarning: The dtype argument is deprecated and will be removed in late 2024.\n",
      "  warnings.warn(\n"
     ]
    }
   ],
   "source": [
    "import mudata\n",
    "mdata = mudata.read('outs_BMMC22/ACC_GEX.250317.h5mu')\n",
    "mdata[\"scATAC\"].var_names = mdata[\"scATAC\"].var_names.str.replace('-', ':', n=1)\n",
    "mdata.write(\"outs_BMMC22/ACC_GEX.rename.250317.h5mu\")"
   ]
  },
  {
   "cell_type": "code",
   "execution_count": 3,
   "id": "9a4f9541-d111-4170-bf01-40d3c376f5ad",
   "metadata": {},
   "outputs": [
    {
     "name": "stdout",
     "output_type": "stream",
     "text": [
      "2025-03-17 20:14:51,330 SCENIC+      INFO     Reading data\n",
      "/maps/projects/ralab/people/lpm537/software/anaconda3/envs/scenicplus_240606/lib/python3.11/site-packages/anndata/_core/anndata.py:522: FutureWarning: The dtype argument is deprecated and will be removed in late 2024.\n",
      "  warnings.warn(\n",
      "/maps/projects/ralab/people/lpm537/software/anaconda3/envs/scenicplus_240606/lib/python3.11/site-packages/anndata/_core/anndata.py:522: FutureWarning: The dtype argument is deprecated and will be removed in late 2024.\n",
      "  warnings.warn(\n",
      "2025-03-17 20:18:01,168 Get search space INFO     Extending promoter annotation to 10 bp upstream and 10 downstream\n",
      "2025-03-17 20:18:01,334 Get search space INFO     Extending search space to:\n",
      "            \t\t\t\t\t\t1000000 bp downstream of the end of the gene.\n",
      "            \t\t\t\t\t\t1000000 bp upstream of the start of the gene.\n",
      "2025-03-17 20:18:02,076 Get search space INFO     Intersecting with regions.\n",
      "2025-03-17 20:18:17,248 Get search space INFO     Calculating distances from region to gene\n",
      "2025-03-17 20:27:23,977 Get search space INFO     Imploding multiple entries per region and gene\n",
      "2025-03-17 20:45:47,041 SCENIC+      INFO     Writing search space to: outs_BMMC22/search_space.1000000.250317.tsv\n",
      "\u001b[0m"
     ]
    }
   ],
   "source": [
    "!scenicplus prepare_data search_spance \\\n",
    "    --multiome_mudata_fname outs_BMMC22/ACC_GEX.rename.h5mu \\\n",
    "    --gene_annotation_fname /maps/projects/ralab_nnfc-AUDIT/people/lpm537/software/scenicplus_240606/genome_annotation.abc.tsv \\\n",
    "    --chromsizes_fname /maps/projects/ralab_nnfc-AUDIT/people/lpm537/software/scenicplus_240606/chromsizes.tsv\\\n",
    "    --out_fname outs_BMMC22/search_space.1000000.250317.tsv\\\n",
    "    --upstream 1000 1000000 \\\n",
    "    --downstream 1000 1000000\\\n",
    "    --extend_tss 10 10"
   ]
  },
  {
   "cell_type": "code",
   "execution_count": 4,
   "id": "223f9126-94e0-4e18-8296-f7155d6a8702",
   "metadata": {},
   "outputs": [],
   "source": [
    "!mkdir -p temp_dir"
   ]
  },
  {
   "cell_type": "code",
   "execution_count": 5,
   "id": "a946a47a-e267-45b8-aaf0-5ae36097977c",
   "metadata": {},
   "outputs": [
    {
     "name": "stdout",
     "output_type": "stream",
     "text": [
      "2025-03-17 20:46:42,261 SCENIC+      INFO     Reading multiome MuData.\n",
      "/maps/projects/ralab/people/lpm537/software/anaconda3/envs/scenicplus_240606/lib/python3.11/site-packages/anndata/_core/anndata.py:522: FutureWarning: The dtype argument is deprecated and will be removed in late 2024.\n",
      "  warnings.warn(\n",
      "/maps/projects/ralab/people/lpm537/software/anaconda3/envs/scenicplus_240606/lib/python3.11/site-packages/anndata/_core/anndata.py:522: FutureWarning: The dtype argument is deprecated and will be removed in late 2024.\n",
      "  warnings.warn(\n",
      "2025-03-17 20:48:38,271 SCENIC+      INFO     Reading search space\n",
      "2025-03-17 20:48:43,698 R2G          INFO     Calculating region to gene importances, using GBM method\n",
      "Running using 16 cores:  16%|█▍       | 3200/19525 [3:05:14<53:40:35, 11.84s/it]"
     ]
    },
    {
     "name": "stderr",
     "output_type": "stream",
     "text": [
      "IOPub message rate exceeded.\n",
      "The Jupyter server will temporarily stop sending output\n",
      "to the client in order to avoid crashing it.\n",
      "To change this limit, set the config variable\n",
      "`--ServerApp.iopub_msg_rate_limit`.\n",
      "\n",
      "Current values:\n",
      "ServerApp.iopub_msg_rate_limit=1000.0 (msgs/sec)\n",
      "ServerApp.rate_limit_window=3.0 (secs)\n",
      "\n"
     ]
    },
    {
     "name": "stdout",
     "output_type": "stream",
     "text": [
      "Running using 16 cores: 100%|██████████| 19525/19525 [17:21:56<00:00,  3.20s/it]\n",
      "\u001b[0m\u001b[0m\u001b[0m\u001b[0m\u001b[0m\u001b[0m\u001b[0m\u001b[0m\u001b[0m\u001b[0m\u001b[0m\u001b[0m\u001b[0m\u001b[0m\u001b[0m\u001b[0m2025-03-18 14:18:40,186 R2G          INFO     Calculating region to gene correlation, using SR method\n",
      "Running using 16 cores:   1%|▏            | 227/19525 [03:47<2:26:19,  2.20it/s]/maps/projects/ralab/people/lpm537/software/anaconda3/envs/scenicplus_240606/lib/python3.11/site-packages/scenicplus/enhancer_to_gene.py:158: ConstantInputWarning: An input array is constant; the correlation coefficient is not defined.\n",
      "  correlation_result = np.array([correlator(x, exp) for x in acc.T])\n",
      "Running using 16 cores:   1%|▏            | 239/19525 [03:52<2:17:34,  2.34it/s]/maps/projects/ralab/people/lpm537/software/anaconda3/envs/scenicplus_240606/lib/python3.11/site-packages/scenicplus/enhancer_to_gene.py:158: ConstantInputWarning: An input array is constant; the correlation coefficient is not defined.\n",
      "  correlation_result = np.array([correlator(x, exp) for x in acc.T])\n",
      "Running using 16 cores:   1%|▏            | 245/19525 [04:01<4:29:59,  1.19it/s]/maps/projects/ralab/people/lpm537/software/anaconda3/envs/scenicplus_240606/lib/python3.11/site-packages/scenicplus/enhancer_to_gene.py:158: ConstantInputWarning: An input array is constant; the correlation coefficient is not defined.\n",
      "  correlation_result = np.array([correlator(x, exp) for x in acc.T])\n",
      "Running using 16 cores:   1%|▏            | 248/19525 [04:02<2:19:46,  2.30it/s]/maps/projects/ralab/people/lpm537/software/anaconda3/envs/scenicplus_240606/lib/python3.11/site-packages/scenicplus/enhancer_to_gene.py:158: ConstantInputWarning: An input array is constant; the correlation coefficient is not defined.\n",
      "  correlation_result = np.array([correlator(x, exp) for x in acc.T])\n",
      "Running using 16 cores:   2%|▎            | 403/19525 [05:38<5:02:50,  1.05it/s]/maps/projects/ralab/people/lpm537/software/anaconda3/envs/scenicplus_240606/lib/python3.11/site-packages/scenicplus/enhancer_to_gene.py:158: ConstantInputWarning: An input array is constant; the correlation coefficient is not defined.\n",
      "  correlation_result = np.array([correlator(x, exp) for x in acc.T])\n",
      "Running using 16 cores:   2%|▎            | 463/19525 [06:20<2:04:15,  2.56it/s]/maps/projects/ralab/people/lpm537/software/anaconda3/envs/scenicplus_240606/lib/python3.11/site-packages/scenicplus/enhancer_to_gene.py:158: ConstantInputWarning: An input array is constant; the correlation coefficient is not defined.\n",
      "  correlation_result = np.array([correlator(x, exp) for x in acc.T])\n",
      "Running using 16 cores:   4%|▌            | 850/19525 [10:35<5:52:30,  1.13s/it]/maps/projects/ralab/people/lpm537/software/anaconda3/envs/scenicplus_240606/lib/python3.11/site-packages/scenicplus/enhancer_to_gene.py:158: ConstantInputWarning: An input array is constant; the correlation coefficient is not defined.\n",
      "  correlation_result = np.array([correlator(x, exp) for x in acc.T])\n",
      "Running using 16 cores:   5%|▌            | 879/19525 [10:51<2:01:41,  2.55it/s]/maps/projects/ralab/people/lpm537/software/anaconda3/envs/scenicplus_240606/lib/python3.11/site-packages/scenicplus/enhancer_to_gene.py:158: ConstantInputWarning: An input array is constant; the correlation coefficient is not defined.\n",
      "  correlation_result = np.array([correlator(x, exp) for x in acc.T])\n",
      "/maps/projects/ralab/people/lpm537/software/anaconda3/envs/scenicplus_240606/lib/python3.11/site-packages/scenicplus/enhancer_to_gene.py:158: ConstantInputWarning: An input array is constant; the correlation coefficient is not defined.\n",
      "  correlation_result = np.array([correlator(x, exp) for x in acc.T])\n",
      "/maps/projects/ralab/people/lpm537/software/anaconda3/envs/scenicplus_240606/lib/python3.11/site-packages/scenicplus/enhancer_to_gene.py:158: ConstantInputWarning: An input array is constant; the correlation coefficient is not defined.\n",
      "  correlation_result = np.array([correlator(x, exp) for x in acc.T])\n",
      "Running using 16 cores:   6%|▋           | 1215/19525 [14:44<2:14:41,  2.27it/s]/maps/projects/ralab/people/lpm537/software/anaconda3/envs/scenicplus_240606/lib/python3.11/site-packages/scenicplus/enhancer_to_gene.py:158: ConstantInputWarning: An input array is constant; the correlation coefficient is not defined.\n",
      "  correlation_result = np.array([correlator(x, exp) for x in acc.T])\n",
      "Running using 16 cores:   8%|▉           | 1602/19525 [19:13<5:31:33,  1.11s/it]/maps/projects/ralab/people/lpm537/software/anaconda3/envs/scenicplus_240606/lib/python3.11/site-packages/scenicplus/enhancer_to_gene.py:158: ConstantInputWarning: An input array is constant; the correlation coefficient is not defined.\n",
      "  correlation_result = np.array([correlator(x, exp) for x in acc.T])\n",
      "Running using 16 cores:   8%|▉           | 1612/19525 [19:16<1:20:01,  3.73it/s]/maps/projects/ralab/people/lpm537/software/anaconda3/envs/scenicplus_240606/lib/python3.11/site-packages/scenicplus/enhancer_to_gene.py:158: ConstantInputWarning: An input array is constant; the correlation coefficient is not defined.\n",
      "  correlation_result = np.array([correlator(x, exp) for x in acc.T])\n",
      "Running using 16 cores:   9%|█           | 1695/19525 [20:17<1:27:45,  3.39it/s]/maps/projects/ralab/people/lpm537/software/anaconda3/envs/scenicplus_240606/lib/python3.11/site-packages/scenicplus/enhancer_to_gene.py:158: ConstantInputWarning: An input array is constant; the correlation coefficient is not defined.\n",
      "  correlation_result = np.array([correlator(x, exp) for x in acc.T])\n",
      "Running using 16 cores:  12%|█▍          | 2313/19525 [27:15<2:09:06,  2.22it/s]/maps/projects/ralab/people/lpm537/software/anaconda3/envs/scenicplus_240606/lib/python3.11/site-packages/scenicplus/enhancer_to_gene.py:158: ConstantInputWarning: An input array is constant; the correlation coefficient is not defined.\n",
      "  correlation_result = np.array([correlator(x, exp) for x in acc.T])\n",
      "Running using 16 cores:  12%|█▍          | 2399/19525 [28:05<1:14:40,  3.82it/s]/maps/projects/ralab/people/lpm537/software/anaconda3/envs/scenicplus_240606/lib/python3.11/site-packages/scenicplus/enhancer_to_gene.py:158: ConstantInputWarning: An input array is constant; the correlation coefficient is not defined.\n",
      "  correlation_result = np.array([correlator(x, exp) for x in acc.T])\n",
      "Running using 16 cores: 100%|███████████| 19525/19525 [3:56:32<00:00,  1.38it/s]\n",
      "\u001b[0m\u001b[0m\u001b[0m\u001b[0m\u001b[0m\u001b[0m\u001b[0m\u001b[0m\u001b[0m\u001b[0m\u001b[0m\u001b[0m\u001b[0m\u001b[0m\u001b[0m\u001b[0m2025-03-18 18:23:22,095 R2G          INFO     Done!\n",
      "2025-03-18 18:23:22,880 SCENIC+      INFO     Saving region to gene adjacencies to outs_BMMC22/region_to_gene_adj.1000000.250317.tsv\n",
      "\u001b[0m"
     ]
    }
   ],
   "source": [
    "!scenicplus grn_inference region_to_gene \\\n",
    "    --multiome_mudata_fname outs_BMMC22/ACC_GEX.rename.250317.h5mu \\\n",
    "    --search_space_fname outs_BMMC22/search_space.1000000.250317.tsv \\\n",
    "    --out_region_to_gene_adjacencies outs_BMMC22/region_to_gene_adj.1000000.250317.tsv \\\n",
    "    --importance_scoring_method GBM \\\n",
    "    --correlation_scoring_method SR \\\n",
    "    --n_cpu 16 \\\n",
    "    --temp_dir temp_dir"
   ]
  }
 ],
 "metadata": {
  "kernelspec": {
   "display_name": "Python 3 (ipykernel)",
   "language": "python",
   "name": "python3"
  },
  "language_info": {
   "codemirror_mode": {
    "name": "ipython",
    "version": 3
   },
   "file_extension": ".py",
   "mimetype": "text/x-python",
   "name": "python",
   "nbconvert_exporter": "python",
   "pygments_lexer": "ipython3",
   "version": "3.11.8"
  }
 },
 "nbformat": 4,
 "nbformat_minor": 5
}
