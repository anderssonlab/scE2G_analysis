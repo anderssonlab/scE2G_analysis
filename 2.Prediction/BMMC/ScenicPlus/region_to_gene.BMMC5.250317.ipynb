{
 "cells": [
  {
   "cell_type": "code",
   "execution_count": 1,
   "id": "131db1b9-2cfc-4f9f-8c22-daef4ba457fd",
   "metadata": {},
   "outputs": [
    {
     "name": "stdout",
     "output_type": "stream",
     "text": [
      "2025-03-17 18:22:48,077 SCENIC+      INFO     Reading cisTopic object.\n",
      "2025-03-17 18:23:08,535 SCENIC+      INFO     Reading gene expression AnnData.\n",
      "2025-03-17 18:23:19,318 Ingesting multiome data INFO     Found 57371 multiome cells.\n",
      "2025-03-17 18:23:19,577 cisTopic     INFO     Imputing region accessibility\n",
      "2025-03-17 18:23:19,577 cisTopic     INFO     Impute region accessibility for regions 0-20000\n",
      "2025-03-17 18:23:33,206 cisTopic     INFO     Impute region accessibility for regions 20000-40000\n",
      "2025-03-17 18:23:40,346 cisTopic     INFO     Impute region accessibility for regions 40000-60000\n",
      "2025-03-17 18:23:48,261 cisTopic     INFO     Impute region accessibility for regions 60000-80000\n",
      "2025-03-17 18:23:55,712 cisTopic     INFO     Impute region accessibility for regions 80000-100000\n",
      "2025-03-17 18:24:04,076 cisTopic     INFO     Impute region accessibility for regions 100000-120000\n",
      "2025-03-17 18:24:14,830 cisTopic     INFO     Impute region accessibility for regions 120000-140000\n",
      "2025-03-17 18:24:22,511 cisTopic     INFO     Impute region accessibility for regions 140000-160000\n",
      "2025-03-17 18:24:32,623 cisTopic     INFO     Impute region accessibility for regions 160000-180000\n",
      "2025-03-17 18:24:38,311 cisTopic     INFO     Impute region accessibility for regions 180000-200000\n",
      "2025-03-17 18:24:47,156 cisTopic     INFO     Impute region accessibility for regions 200000-220000\n",
      "2025-03-17 18:24:55,563 cisTopic     INFO     Impute region accessibility for regions 220000-240000\n",
      "2025-03-17 18:25:07,423 cisTopic     INFO     Impute region accessibility for regions 240000-260000\n",
      "2025-03-17 18:25:17,946 cisTopic     INFO     Impute region accessibility for regions 260000-280000\n",
      "2025-03-17 18:25:26,408 cisTopic     INFO     Impute region accessibility for regions 280000-300000\n",
      "2025-03-17 18:25:39,273 cisTopic     INFO     Impute region accessibility for regions 300000-320000\n",
      "2025-03-17 18:25:40,169 cisTopic     INFO     Done!\n",
      "... storing 'sample_id' as categorical\n",
      "... storing 'Chromosome' as categorical\n",
      "\u001b[0m"
     ]
    }
   ],
   "source": [
    "!scenicplus prepare_data prepare_GEX_ACC \\\n",
    "    --cisTopic_obj_fname outs_BMMC5/cistopic_obj.pkl \\\n",
    "    --GEX_anndata_fname adata.250317.h5ad \\\n",
    "    --out_file outs_BMMC5/ACC_GEX.250317.h5mu \\\n",
    "    --bc_transform_func \"lambda x: f'{x}___cisTopic'\""
   ]
  },
  {
   "cell_type": "markdown",
   "id": "8ed90f12-ab62-4d02-8886-769370174d19",
   "metadata": {},
   "source": [
    "Replace first '-' with ':' in region names"
   ]
  },
  {
   "cell_type": "code",
   "execution_count": 2,
   "id": "d6fb2954-60d8-4a31-a185-bedc0ccab689",
   "metadata": {},
   "outputs": [
    {
     "name": "stderr",
     "output_type": "stream",
     "text": [
      "/maps/projects/ralab/people/lpm537/software/anaconda3/envs/scenicplus_240606/lib/python3.11/site-packages/anndata/_core/anndata.py:522: FutureWarning: The dtype argument is deprecated and will be removed in late 2024.\n",
      "  warnings.warn(\n",
      "/maps/projects/ralab/people/lpm537/software/anaconda3/envs/scenicplus_240606/lib/python3.11/site-packages/anndata/_core/anndata.py:522: FutureWarning: The dtype argument is deprecated and will be removed in late 2024.\n",
      "  warnings.warn(\n"
     ]
    }
   ],
   "source": [
    "import mudata\n",
    "mdata = mudata.read('outs_BMMC5/ACC_GEX.250317.h5mu')\n",
    "mdata[\"scATAC\"].var_names = mdata[\"scATAC\"].var_names.str.replace('-', ':', n=1)\n",
    "mdata.write(\"outs_BMMC5/ACC_GEX.rename.250317.h5mu\")"
   ]
  },
  {
   "cell_type": "code",
   "execution_count": 3,
   "id": "9a4f9541-d111-4170-bf01-40d3c376f5ad",
   "metadata": {},
   "outputs": [
    {
     "name": "stdout",
     "output_type": "stream",
     "text": [
      "2025-03-17 18:34:30,648 SCENIC+      INFO     Reading data\n",
      "/maps/projects/ralab/people/lpm537/software/anaconda3/envs/scenicplus_240606/lib/python3.11/site-packages/anndata/_core/anndata.py:522: FutureWarning: The dtype argument is deprecated and will be removed in late 2024.\n",
      "  warnings.warn(\n",
      "/maps/projects/ralab/people/lpm537/software/anaconda3/envs/scenicplus_240606/lib/python3.11/site-packages/anndata/_core/anndata.py:522: FutureWarning: The dtype argument is deprecated and will be removed in late 2024.\n",
      "  warnings.warn(\n",
      "2025-03-17 18:38:57,806 Get search space INFO     Extending promoter annotation to 10 bp upstream and 10 downstream\n",
      "2025-03-17 18:38:57,955 Get search space INFO     Extending search space to:\n",
      "            \t\t\t\t\t\t1000000 bp downstream of the end of the gene.\n",
      "            \t\t\t\t\t\t1000000 bp upstream of the start of the gene.\n",
      "2025-03-17 18:38:58,645 Get search space INFO     Intersecting with regions.\n",
      "2025-03-17 18:39:07,466 Get search space INFO     Calculating distances from region to gene\n",
      "2025-03-17 18:45:35,613 Get search space INFO     Imploding multiple entries per region and gene\n",
      "2025-03-17 18:57:57,422 SCENIC+      INFO     Writing search space to: outs_BMMC5/search_space.1000000.250317.tsv\n",
      "\u001b[0m"
     ]
    }
   ],
   "source": [
    "!scenicplus prepare_data search_spance \\\n",
    "    --multiome_mudata_fname outs_BMMC5/ACC_GEX.rename.h5mu \\\n",
    "    --gene_annotation_fname /maps/projects/ralab_nnfc-AUDIT/people/lpm537/software/scenicplus_240606/genome_annotation.abc.tsv \\\n",
    "    --chromsizes_fname /maps/projects/ralab_nnfc-AUDIT/people/lpm537/software/scenicplus_240606/chromsizes.tsv\\\n",
    "    --out_fname outs_BMMC5/search_space.1000000.250317.tsv\\\n",
    "    --upstream 1000 1000000 \\\n",
    "    --downstream 1000 1000000\\\n",
    "    --extend_tss 10 10"
   ]
  },
  {
   "cell_type": "code",
   "execution_count": 4,
   "id": "223f9126-94e0-4e18-8296-f7155d6a8702",
   "metadata": {},
   "outputs": [],
   "source": [
    "!mkdir -p temp_dir"
   ]
  },
  {
   "cell_type": "code",
   "execution_count": 5,
   "id": "a946a47a-e267-45b8-aaf0-5ae36097977c",
   "metadata": {},
   "outputs": [
    {
     "name": "stdout",
     "output_type": "stream",
     "text": [
      "2025-03-17 18:58:28,651 SCENIC+      INFO     Reading multiome MuData.\n",
      "/maps/projects/ralab/people/lpm537/software/anaconda3/envs/scenicplus_240606/lib/python3.11/site-packages/anndata/_core/anndata.py:522: FutureWarning: The dtype argument is deprecated and will be removed in late 2024.\n",
      "  warnings.warn(\n",
      "/maps/projects/ralab/people/lpm537/software/anaconda3/envs/scenicplus_240606/lib/python3.11/site-packages/anndata/_core/anndata.py:522: FutureWarning: The dtype argument is deprecated and will be removed in late 2024.\n",
      "  warnings.warn(\n",
      "2025-03-17 18:59:31,485 SCENIC+      INFO     Reading search space\n",
      "2025-03-17 18:59:35,221 R2G          INFO     Calculating region to gene importances, using GBM method\n",
      "Running using 16 cores:  32%|███▏      | 6170/19448 [4:14:11<3:46:52,  1.03s/it]"
     ]
    },
    {
     "name": "stderr",
     "output_type": "stream",
     "text": [
      "IOPub message rate exceeded.\n",
      "The Jupyter server will temporarily stop sending output\n",
      "to the client in order to avoid crashing it.\n",
      "To change this limit, set the config variable\n",
      "`--ServerApp.iopub_msg_rate_limit`.\n",
      "\n",
      "Current values:\n",
      "ServerApp.iopub_msg_rate_limit=1000.0 (msgs/sec)\n",
      "ServerApp.rate_limit_window=3.0 (secs)\n",
      "\n"
     ]
    }
   ],
   "source": [
    "!scenicplus grn_inference region_to_gene \\\n",
    "    --multiome_mudata_fname outs_BMMC5/ACC_GEX.rename.250317.h5mu \\\n",
    "    --search_space_fname outs_BMMC5/search_space.1000000.250317.tsv \\\n",
    "    --out_region_to_gene_adjacencies outs_BMMC5/region_to_gene_adj.1000000.250317.tsv \\\n",
    "    --importance_scoring_method GBM \\\n",
    "    --correlation_scoring_method SR \\\n",
    "    --n_cpu 16 \\\n",
    "    --temp_dir temp_dir"
   ]
  }
 ],
 "metadata": {
  "kernelspec": {
   "display_name": "Python 3 (ipykernel)",
   "language": "python",
   "name": "python3"
  },
  "language_info": {
   "codemirror_mode": {
    "name": "ipython",
    "version": 3
   },
   "file_extension": ".py",
   "mimetype": "text/x-python",
   "name": "python",
   "nbconvert_exporter": "python",
   "pygments_lexer": "ipython3",
   "version": "3.11.8"
  }
 },
 "nbformat": 4,
 "nbformat_minor": 5
}
