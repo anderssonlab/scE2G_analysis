{
 "cells": [
  {
   "cell_type": "code",
   "execution_count": 1,
   "id": "131db1b9-2cfc-4f9f-8c22-daef4ba457fd",
   "metadata": {},
   "outputs": [
    {
     "name": "stdout",
     "output_type": "stream",
     "text": [
      "2024-06-09 13:17:00,883 SCENIC+      INFO     Reading cisTopic object.\n",
      "2024-06-09 13:17:13,462 SCENIC+      INFO     Reading gene expression AnnData.\n",
      "2024-06-09 13:18:03,885 Ingesting multiome data INFO     Found 69249 multiome cells.\n",
      "2024-06-09 13:18:04,237 cisTopic     INFO     Imputing region accessibility\n",
      "2024-06-09 13:18:04,237 cisTopic     INFO     Impute region accessibility for regions 0-20000\n",
      "2024-06-09 13:18:09,649 cisTopic     INFO     Impute region accessibility for regions 20000-40000\n",
      "2024-06-09 13:18:15,046 cisTopic     INFO     Impute region accessibility for regions 40000-60000\n",
      "2024-06-09 13:18:21,325 cisTopic     INFO     Impute region accessibility for regions 60000-80000\n",
      "2024-06-09 13:18:26,631 cisTopic     INFO     Impute region accessibility for regions 80000-100000\n",
      "2024-06-09 13:18:31,932 cisTopic     INFO     Impute region accessibility for regions 100000-120000\n",
      "2024-06-09 13:18:37,269 cisTopic     INFO     Impute region accessibility for regions 120000-140000\n",
      "2024-06-09 13:18:42,565 cisTopic     INFO     Impute region accessibility for regions 140000-160000\n",
      "2024-06-09 13:18:47,836 cisTopic     INFO     Impute region accessibility for regions 160000-180000\n",
      "2024-06-09 13:18:53,119 cisTopic     INFO     Impute region accessibility for regions 180000-200000\n",
      "2024-06-09 13:18:58,406 cisTopic     INFO     Impute region accessibility for regions 200000-220000\n",
      "2024-06-09 13:19:03,706 cisTopic     INFO     Impute region accessibility for regions 220000-240000\n",
      "2024-06-09 13:19:08,961 cisTopic     INFO     Impute region accessibility for regions 240000-260000\n",
      "2024-06-09 13:19:14,266 cisTopic     INFO     Impute region accessibility for regions 260000-280000\n",
      "2024-06-09 13:19:19,525 cisTopic     INFO     Impute region accessibility for regions 280000-300000\n",
      "2024-06-09 13:19:24,862 cisTopic     INFO     Impute region accessibility for regions 300000-320000\n",
      "2024-06-09 13:19:30,201 cisTopic     INFO     Impute region accessibility for regions 320000-340000\n",
      "2024-06-09 13:19:35,579 cisTopic     INFO     Impute region accessibility for regions 340000-360000\n",
      "2024-06-09 13:19:40,912 cisTopic     INFO     Impute region accessibility for regions 360000-380000\n",
      "2024-06-09 13:19:46,263 cisTopic     INFO     Impute region accessibility for regions 380000-400000\n",
      "2024-06-09 13:19:51,586 cisTopic     INFO     Impute region accessibility for regions 400000-420000\n",
      "2024-06-09 13:19:56,917 cisTopic     INFO     Impute region accessibility for regions 420000-440000\n",
      "2024-06-09 13:20:02,247 cisTopic     INFO     Impute region accessibility for regions 440000-460000\n",
      "2024-06-09 13:20:07,588 cisTopic     INFO     Impute region accessibility for regions 460000-480000\n",
      "2024-06-09 13:20:12,916 cisTopic     INFO     Impute region accessibility for regions 480000-500000\n",
      "2024-06-09 13:20:18,198 cisTopic     INFO     Impute region accessibility for regions 500000-520000\n",
      "2024-06-09 13:20:23,528 cisTopic     INFO     Impute region accessibility for regions 520000-540000\n",
      "2024-06-09 13:20:28,523 cisTopic     INFO     Impute region accessibility for regions 540000-560000\n",
      "2024-06-09 13:20:28,645 cisTopic     INFO     Done!\n",
      "... storing 'sample_id' as categorical\n",
      "... storing 'Chromosome' as categorical\n",
      "\u001b[0m"
     ]
    }
   ],
   "source": [
    "!scenicplus prepare_data prepare_GEX_ACC \\\n",
    "    --cisTopic_obj_fname outs_BMMC22/cistopic_obj.pkl \\\n",
    "    --GEX_anndata_fname adata.h5ad \\\n",
    "    --out_file outs_BMMC22/ACC_GEX.h5mu \\\n",
    "    --bc_transform_func \"lambda x: f'{x}___cisTopic'\""
   ]
  },
  {
   "cell_type": "markdown",
   "id": "8ed90f12-ab62-4d02-8886-769370174d19",
   "metadata": {},
   "source": [
    "Replace first '-' with ':' in region names"
   ]
  },
  {
   "cell_type": "code",
   "execution_count": 2,
   "id": "d6fb2954-60d8-4a31-a185-bedc0ccab689",
   "metadata": {},
   "outputs": [
    {
     "name": "stderr",
     "output_type": "stream",
     "text": [
      "/maps/projects/ralab/people/lpm537/software/anaconda3/envs/scenicplus_240606/lib/python3.11/site-packages/anndata/_core/anndata.py:522: FutureWarning: The dtype argument is deprecated and will be removed in late 2024.\n",
      "  warnings.warn(\n",
      "/maps/projects/ralab/people/lpm537/software/anaconda3/envs/scenicplus_240606/lib/python3.11/site-packages/anndata/_core/anndata.py:522: FutureWarning: The dtype argument is deprecated and will be removed in late 2024.\n",
      "  warnings.warn(\n"
     ]
    }
   ],
   "source": [
    "import mudata\n",
    "mdata = mudata.read('outs_BMMC22/ACC_GEX.h5mu')\n",
    "mdata[\"scATAC\"].var_names = mdata[\"scATAC\"].var_names.str.replace('-', ':', n=1)\n",
    "mdata.write(\"outs_BMMC22/ACC_GEX.rename.h5mu\")"
   ]
  },
  {
   "cell_type": "code",
   "execution_count": 3,
   "id": "9a4f9541-d111-4170-bf01-40d3c376f5ad",
   "metadata": {},
   "outputs": [
    {
     "name": "stdout",
     "output_type": "stream",
     "text": [
      "2024-06-09 13:54:32,219 SCENIC+      INFO     Reading data\n",
      "/maps/projects/ralab/people/lpm537/software/anaconda3/envs/scenicplus_240606/lib/python3.11/site-packages/anndata/_core/anndata.py:522: FutureWarning: The dtype argument is deprecated and will be removed in late 2024.\n",
      "  warnings.warn(\n",
      "/maps/projects/ralab/people/lpm537/software/anaconda3/envs/scenicplus_240606/lib/python3.11/site-packages/anndata/_core/anndata.py:522: FutureWarning: The dtype argument is deprecated and will be removed in late 2024.\n",
      "  warnings.warn(\n",
      "2024-06-09 13:58:47,849 Get search space INFO     Extending promoter annotation to 10 bp upstream and 10 downstream\n",
      "2024-06-09 13:58:48,042 Get search space INFO     Extending search space to:\n",
      "            \t\t\t\t\t\t1000000 bp downstream of the end of the gene.\n",
      "            \t\t\t\t\t\t1000000 bp upstream of the start of the gene.\n",
      "2024-06-09 13:58:48,737 Get search space INFO     Intersecting with regions.\n",
      "2024-06-09 13:59:00,890 Get search space INFO     Calculating distances from region to gene\n",
      "2024-06-09 14:08:06,126 Get search space INFO     Imploding multiple entries per region and gene\n",
      "2024-06-09 14:24:59,122 SCENIC+      INFO     Writing search space to: outs_BMMC22/search_space.1000000.tsv\n",
      "\u001b[0m"
     ]
    }
   ],
   "source": [
    "!scenicplus prepare_data search_spance \\\n",
    "    --multiome_mudata_fname outs_BMMC22/ACC_GEX.rename.h5mu \\\n",
    "    --gene_annotation_fname /maps/projects/ralab_nnfc-AUDIT/people/lpm537/software/scenicplus_240606/genome_annotation.tsv \\\n",
    "    --chromsizes_fname /maps/projects/ralab_nnfc-AUDIT/people/lpm537/software/scenicplus_240606/chromsizes.tsv\\\n",
    "    --out_fname outs_BMMC22/search_space.1000000.tsv\\\n",
    "    --upstream 1000 1000000 \\\n",
    "    --downstream 1000 1000000\\\n",
    "    --extend_tss 10 10"
   ]
  },
  {
   "cell_type": "code",
   "execution_count": 4,
   "id": "223f9126-94e0-4e18-8296-f7155d6a8702",
   "metadata": {},
   "outputs": [],
   "source": [
    "!mkdir -p temp_dir"
   ]
  },
  {
   "cell_type": "code",
   "execution_count": null,
   "id": "a946a47a-e267-45b8-aaf0-5ae36097977c",
   "metadata": {},
   "outputs": [
    {
     "name": "stdout",
     "output_type": "stream",
     "text": [
      "2024-06-09 14:25:55,401 SCENIC+      INFO     Reading multiome MuData.\n",
      "/maps/projects/ralab/people/lpm537/software/anaconda3/envs/scenicplus_240606/lib/python3.11/site-packages/anndata/_core/anndata.py:522: FutureWarning: The dtype argument is deprecated and will be removed in late 2024.\n",
      "  warnings.warn(\n",
      "/maps/projects/ralab/people/lpm537/software/anaconda3/envs/scenicplus_240606/lib/python3.11/site-packages/anndata/_core/anndata.py:522: FutureWarning: The dtype argument is deprecated and will be removed in late 2024.\n",
      "  warnings.warn(\n",
      "2024-06-09 14:30:11,922 SCENIC+      INFO     Reading search space\n",
      "2024-06-09 14:30:16,539 R2G          INFO     Calculating region to gene importances, using GBM method\n",
      "Running using 32 cores:  31%|███▋        | 5951/19133 [3:30:15<54:54,  4.00it/s]"
     ]
    }
   ],
   "source": [
    "!scenicplus grn_inference region_to_gene \\\n",
    "    --multiome_mudata_fname outs_BMMC22/ACC_GEX.rename.h5mu \\\n",
    "    --search_space_fname outs_BMMC22/search_space.1000000.tsv \\\n",
    "    --out_region_to_gene_adjacencies outs_BMMC22/region_to_gene_adj.1000000.tsv \\\n",
    "    --importance_scoring_method GBM \\\n",
    "    --correlation_scoring_method SR \\\n",
    "    --n_cpu 32 \\\n",
    "    --temp_dir temp_dir"
   ]
  }
 ],
 "metadata": {
  "kernelspec": {
   "display_name": "Python 3 (ipykernel)",
   "language": "python",
   "name": "python3"
  },
  "language_info": {
   "codemirror_mode": {
    "name": "ipython",
    "version": 3
   },
   "file_extension": ".py",
   "mimetype": "text/x-python",
   "name": "python",
   "nbconvert_exporter": "python",
   "pygments_lexer": "ipython3",
   "version": "3.11.8"
  }
 },
 "nbformat": 4,
 "nbformat_minor": 5
}
