{
 "cells": [
  {
   "cell_type": "code",
   "execution_count": 1,
   "id": "c8466b35-cae5-4f62-8138-37b2de484a74",
   "metadata": {},
   "outputs": [
    {
     "name": "stderr",
     "output_type": "stream",
     "text": [
      "\n",
      "                                                   / |\n",
      "                                                 /    \\\n",
      "            .                                  /      |.\n",
      "            \\\\\\                              /        |.\n",
      "              \\\\\\                          /           `|.\n",
      "                \\\\\\                      /              |.\n",
      "                  \\                    /                |\\\n",
      "                  \\\\#####\\           /                  ||\n",
      "                ==###########>      /                   ||\n",
      "                 \\\\##==......\\    /                     ||\n",
      "            ______ =       =|__ /__                     ||      \\\\\\\n",
      "        ,--' ,----`-,__ ___/'  --,-`-===================##========>\n",
      "       \\               '        ##_______ _____ ,--,__,=##,__   ///\n",
      "        ,    __==    ___,-,__,--'#'  ==='      `-'    | ##,-/\n",
      "        -,____,---'       \\\\####\\\\________________,--\\\\_##,/\n",
      "           ___      .______        ______  __    __  .______      \n",
      "          /   \\     |   _  \\      /      ||  |  |  | |   _  \\     \n",
      "         /  ^  \\    |  |_)  |    |  ,----'|  |__|  | |  |_)  |    \n",
      "        /  /_\\  \\   |      /     |  |     |   __   | |      /     \n",
      "       /  _____  \\  |  |\\  \\\\___ |  `----.|  |  |  | |  |\\  \\\\___.\n",
      "      /__/     \\__\\ | _| `._____| \\______||__|  |__| | _| `._____|\n",
      "    \n",
      "\n",
      "ArchR : Version 1.0.2\n",
      "For more information see our website : www.ArchRProject.com\n",
      "If you encounter a bug please report : https://github.com/GreenleafLab/ArchR/issues\n",
      "\n",
      "Loading Required Packages...\n",
      "\n",
      "\tLoading Package : grid v4.3.3\n",
      "\n",
      "\tLoading Package : gridExtra v2.3\n",
      "\n",
      "\tLoading Package : gtools v3.9.5\n",
      "\n",
      "\tLoading Package : gtable v0.3.5\n",
      "\n",
      "\tLoading Package : ggplot2 v3.5.1\n",
      "\n",
      "\tLoading Package : magrittr v2.0.3\n",
      "\n",
      "\tLoading Package : plyr v1.8.9\n",
      "\n",
      "\tLoading Package : stringr v1.5.1\n",
      "\n",
      "\tLoading Package : data.table v1.15.2\n",
      "\n",
      "\tLoading Package : matrixStats v1.3.0\n",
      "\n",
      "\tLoading Package : S4Vectors v0.40.2\n",
      "\n",
      "\tLoading Package : GenomicRanges v1.54.1\n",
      "\n",
      "\tLoading Package : BiocGenerics v0.48.1\n",
      "\n",
      "\tLoading Package : Matrix v1.6.5\n",
      "\n",
      "\tLoading Package : Rcpp v1.0.12\n",
      "\n",
      "\tLoading Package : SummarizedExperiment v1.30.2\n",
      "\n",
      "\tLoading Package : rhdf5 v2.44.0\n",
      "\n",
      "Loading required package: SeuratObject\n",
      "\n",
      "Loading required package: sp\n",
      "\n",
      "\n",
      "Attaching package: ‘sp’\n",
      "\n",
      "\n",
      "The following object is masked from ‘package:IRanges’:\n",
      "\n",
      "    %over%\n",
      "\n",
      "\n",
      "‘SeuratObject’ was built under R 4.3.2 but the current version is\n",
      "4.3.3; it is recomended that you reinstall ‘SeuratObject’ as the ABI\n",
      "for R may have changed\n",
      "\n",
      "‘SeuratObject’ was built with package ‘Matrix’ 1.6.3 but the current\n",
      "version is 1.6.5; it is recomended that you reinstall ‘SeuratObject’ as\n",
      "the ABI for ‘Matrix’ may have changed\n",
      "\n",
      "\n",
      "Attaching package: ‘SeuratObject’\n",
      "\n",
      "\n",
      "The following object is masked from ‘package:SummarizedExperiment’:\n",
      "\n",
      "    Assays\n",
      "\n",
      "\n",
      "The following object is masked from ‘package:GenomicRanges’:\n",
      "\n",
      "    intersect\n",
      "\n",
      "\n",
      "The following object is masked from ‘package:GenomeInfoDb’:\n",
      "\n",
      "    intersect\n",
      "\n",
      "\n",
      "The following object is masked from ‘package:IRanges’:\n",
      "\n",
      "    intersect\n",
      "\n",
      "\n",
      "The following object is masked from ‘package:S4Vectors’:\n",
      "\n",
      "    intersect\n",
      "\n",
      "\n",
      "The following object is masked from ‘package:BiocGenerics’:\n",
      "\n",
      "    intersect\n",
      "\n",
      "\n",
      "The following object is masked from ‘package:base’:\n",
      "\n",
      "    intersect\n",
      "\n",
      "\n",
      "\n",
      "Attaching package: ‘Seurat’\n",
      "\n",
      "\n",
      "The following object is masked from ‘package:SummarizedExperiment’:\n",
      "\n",
      "    Assays\n",
      "\n",
      "\n",
      "Warning message:\n",
      "“replacing previous import ‘Biostrings::pattern’ by ‘grid::pattern’ when loading ‘genomation’”\n"
     ]
    }
   ],
   "source": [
    "library(ArchR)\n",
    "library(Seurat)\n",
    "library(Signac)\n",
    "library(magrittr)\n",
    "library(genomation)\n",
    "library(GenomicRanges)\n",
    "library(Matrix)\n",
    "library(ggplot2)"
   ]
  },
  {
   "cell_type": "markdown",
   "id": "e85020d7-d358-492d-9358-c81270f4b624",
   "metadata": {},
   "source": [
    "Specify file path"
   ]
  },
  {
   "cell_type": "code",
   "execution_count": 2,
   "id": "1bec6690-52ec-450d-bba7-7d4528a185cd",
   "metadata": {},
   "outputs": [],
   "source": [
    "path.seurat = \"/maps/projects/ralab_nnfc-AUDIT/people/lpm537/project/E2G/analysis/E2G_240503/data/K562_Xu/1.prepare_data/1.seurat_pipeline.240507/obj.seurat.qc.rds\"\n",
    "path.pairs.E2G = \"/maps/projects/ralab_nnfc-AUDIT/people/lpm537/software/scE2G_pipeline/240508/sc-E2G/test/results_K562_Xu/K562/Kendall/Pairs.tsv.gz\"\n",
    "dir.output = \"/maps/projects/ralab_nnfc-AUDIT/people/lpm537/project/E2G/analysis/E2G_240503/data/K562_Xu/3.Genome_wide_prediction/ArchR/ArchR.240527/\""
   ]
  },
  {
   "cell_type": "code",
   "execution_count": 3,
   "id": "60b75d89-aa5d-485e-b1a3-ec1988eb7a3b",
   "metadata": {},
   "outputs": [],
   "source": [
    "inputFiles = c(\"/maps/projects/ralab_nnfc-AUDIT/people/lpm537/project/E2G/processed/10x_multiome_230720/ArrayExpress/cellranger_res/EMTAB11264_01/outs/atac_fragments.tsv.gz\")\n",
    "names(inputFiles) = c(\"K562_Xu\")"
   ]
  },
  {
   "cell_type": "code",
   "execution_count": 4,
   "id": "340dac32-44ac-4231-b964-b5f3b9e2dbde",
   "metadata": {},
   "outputs": [],
   "source": [
    "n.cores = 16\n",
    "maxDist = 1000000"
   ]
  },
  {
   "cell_type": "code",
   "execution_count": 5,
   "id": "da973385-4c81-4b1c-9669-cf5933b23a39",
   "metadata": {},
   "outputs": [
    {
     "name": "stderr",
     "output_type": "stream",
     "text": [
      "Setting default number of Parallel threads to 16.\n",
      "\n",
      "Setting default genome to Hg38.\n",
      "\n"
     ]
    }
   ],
   "source": [
    "addArchRThreads(threads = n.cores) \n",
    "addArchRGenome(\"hg38\")"
   ]
  },
  {
   "cell_type": "markdown",
   "id": "eeb26496-d3b9-4778-92ed-9c63a5018aef",
   "metadata": {},
   "source": [
    "Import seurat object"
   ]
  },
  {
   "cell_type": "code",
   "execution_count": 6,
   "id": "c9b19a09-be95-4d9a-bdc3-0530980d4757",
   "metadata": {},
   "outputs": [],
   "source": [
    "obj.seurat = readRDS(path.seurat)"
   ]
  },
  {
   "cell_type": "markdown",
   "id": "86be3e66-c954-4620-9e64-c6a1c0fcb84c",
   "metadata": {},
   "source": [
    "Import candidate E-G pairs"
   ]
  },
  {
   "cell_type": "code",
   "execution_count": 7,
   "id": "6f363969-bf0b-45ce-858c-a8cb64cc210a",
   "metadata": {},
   "outputs": [],
   "source": [
    "pairs.E2G = readGeneric(path.pairs.E2G,\n",
    "                        header = T,\n",
    "                        keep.all.metadata = T)"
   ]
  },
  {
   "cell_type": "markdown",
   "id": "3538ffdc-4fed-48eb-9c9d-86805a91cf06",
   "metadata": {},
   "source": [
    "Create an ArchRProject"
   ]
  },
  {
   "cell_type": "code",
   "execution_count": 8,
   "id": "0300f485-fafa-4cef-b9d0-534108ec6f95",
   "metadata": {},
   "outputs": [
    {
     "name": "stdout",
     "output_type": "stream",
     "text": [
      "List of 1\n",
      " $ :Formal class 'Fragment' [package \"Signac\"] with 3 slots\n",
      "  .. ..@ path : chr \"/maps/projects/ralab_nnfc-AUDIT/people/lpm537/project/E2G/processed/10x_multiome_230720/ArrayExpress/cellranger\"| __truncated__\n",
      "  .. ..@ hash : chr [1:2] \"c8366071805c37835af9f47f43ae7435\" \"af5268737bf82cc3e7978e6407c893ea\"\n",
      "  .. ..@ cells: Named chr [1:7821] \"AAACAGCCAAGCGATG-1\" \"AAACAGCCACATGCTA-1\" \"AAACAGCCACGGTACT-1\" \"AAACAGCCATAAAGCA-1\" ...\n",
      "  .. .. ..- attr(*, \"names\")= chr [1:7821] \"K562_Xu_AAACAGCCAAGCGATG-1\" \"K562_Xu_AAACAGCCACATGCTA-1\" \"K562_Xu_AAACAGCCACGGTACT-1\" \"K562_Xu_AAACAGCCATAAAGCA-1\" ...\n"
     ]
    }
   ],
   "source": [
    "str(Fragments(obj.seurat))"
   ]
  },
  {
   "cell_type": "code",
   "execution_count": 9,
   "id": "1753ffaa-89e2-43bf-bcf6-19937782d63a",
   "metadata": {},
   "outputs": [
    {
     "name": "stderr",
     "output_type": "stream",
     "text": [
      "Using GeneAnnotation set by addArchRGenome(Hg38)!\n",
      "\n",
      "Using GeneAnnotation set by addArchRGenome(Hg38)!\n",
      "\n",
      "ArchR logging to : ArchRLogs/ArchR-createArrows-3b662a773aeaae-Date-2024-05-28_Time-18-00-29.013764.log\n",
      "If there is an issue, please report to github with logFile!\n",
      "\n",
      "Cleaning Temporary Files\n",
      "\n",
      "2024-05-28 18:00:30.844397 : Batch Execution w/ safelapply!, 0 mins elapsed.\n",
      "\n",
      "(K562_Xu : 1 of 1) Determining Arrow Method to use!\n",
      "\n",
      "2024-05-28 18:00:31.0243 : (K562_Xu : 1 of 1) Reading In Fragments from inputFiles (readMethod = tabix), 0.003 mins elapsed.\n",
      "\n",
      "2024-05-28 18:00:31.045829 : (K562_Xu : 1 of 1) Tabix Bed To Temporary File, 0.003 mins elapsed.\n",
      "\n",
      "2024-05-28 18:03:04.780012 : (K562_Xu : 1 of 1) Successful creation of Temporary File, 2.566 mins elapsed.\n",
      "\n",
      "2024-05-28 18:03:04.788317 : (K562_Xu : 1 of 1) Creating ArrowFile From Temporary File, 2.566 mins elapsed.\n",
      "\n",
      "2024-05-28 18:05:29.034997 : (K562_Xu : 1 of 1) Successful creation of Arrow File, 4.97 mins elapsed.\n",
      "\n",
      "2024-05-28 18:08:02.802891 : Continuing through after error ggplot for Fragment Size Distribution, 7.533 mins elapsed.\n",
      "\n",
      "\n",
      "\n",
      "\n",
      "2024-05-28 18:10:05.668981 : (K562_Xu : 1 of 1) CellStats : Number of Cells Pass Filter = 7699 , 9.58 mins elapsed.\n",
      "\n",
      "2024-05-28 18:10:05.682117 : (K562_Xu : 1 of 1) CellStats : Median Frags = 31472 , 9.581 mins elapsed.\n",
      "\n",
      "2024-05-28 18:10:05.692547 : (K562_Xu : 1 of 1) CellStats : Median TSS Enrichment = 9.17 , 9.581 mins elapsed.\n",
      "\n",
      "2024-05-28 18:10:06.68143 : Continuing through after error ggplot for TSS by Frags, 9.597 mins elapsed.\n",
      "\n",
      "\n",
      "\n",
      "\n",
      "2024-05-28 18:10:09.719875 : (K562_Xu : 1 of 1) Adding Additional Feature Counts!, 9.648 mins elapsed.\n",
      "\n",
      "2024-05-28 18:11:53.167872 : (K562_Xu : 1 of 1) Removing Fragments from Filtered Cells, 11.372 mins elapsed.\n",
      "\n",
      "2024-05-28 18:11:53.196707 : (K562_Xu : 1 of 1) Creating Filtered Arrow File, 11.373 mins elapsed.\n",
      "\n",
      "2024-05-28 18:15:29.905915 : (K562_Xu : 1 of 1) Finished Constructing Filtered Arrow File!, 14.984 mins elapsed.\n",
      "\n",
      "2024-05-28 18:15:30.286379 : (K562_Xu : 1 of 1) Adding TileMatrix!, 14.991 mins elapsed.\n",
      "\n",
      "2024-05-28 18:31:42.876489 : (K562_Xu : 1 of 1) Finished Creating Arrow File, 31.201 mins elapsed.\n",
      "\n",
      "ArchR logging successful to : ArchRLogs/ArchR-createArrows-3b662a773aeaae-Date-2024-05-28_Time-18-00-29.013764.log\n",
      "\n"
     ]
    }
   ],
   "source": [
    "ArrowFiles <- createArrowFiles(\n",
    "  inputFiles = c(Fragments(obj.seurat)[[1]]@path),\n",
    "  sampleNames = c(\"K562_Xu\"),\n",
    "  validBarcodes = list(K562_Xu = unname(Fragments(obj.seurat)[[1]]@cells)),\n",
    "  addTileMat = T,\n",
    "  addGeneScoreMat = F,\n",
    "  force = T\n",
    ")"
   ]
  },
  {
   "cell_type": "code",
   "execution_count": 10,
   "id": "ada3db45-d050-4659-a7cf-2891e04b1249",
   "metadata": {},
   "outputs": [
    {
     "data": {
      "text/html": [
       "'K562_Xu.arrow'"
      ],
      "text/latex": [
       "'K562\\_Xu.arrow'"
      ],
      "text/markdown": [
       "'K562_Xu.arrow'"
      ],
      "text/plain": [
       "[1] \"K562_Xu.arrow\""
      ]
     },
     "metadata": {},
     "output_type": "display_data"
    }
   ],
   "source": [
    "ArrowFiles"
   ]
  },
  {
   "cell_type": "code",
   "execution_count": 11,
   "id": "5ba28283-d488-4982-8d4c-745fc3f59365",
   "metadata": {},
   "outputs": [],
   "source": [
    "dir.create(paste(dir.output,\"ArchR\",sep=\"/\"),recursive = T)"
   ]
  },
  {
   "cell_type": "code",
   "execution_count": 12,
   "id": "aa217507-8323-43bf-b23c-0ec25ee33c85",
   "metadata": {},
   "outputs": [
    {
     "name": "stderr",
     "output_type": "stream",
     "text": [
      "Using GeneAnnotation set by addArchRGenome(Hg38)!\n",
      "\n",
      "Using GeneAnnotation set by addArchRGenome(Hg38)!\n",
      "\n",
      "Validating Arrows...\n",
      "\n",
      "Getting SampleNames...\n",
      "\n",
      "1 \n",
      "\n",
      "\n",
      "Copying ArrowFiles to Ouptut Directory! If you want to save disk space set copyArrows = FALSE\n",
      "\n",
      "1 \n",
      "\n",
      "\n",
      "Getting Cell Metadata...\n",
      "\n",
      "1 \n",
      "\n",
      "\n",
      "Merging Cell Metadata...\n",
      "\n",
      "Initializing ArchRProject...\n",
      "\n",
      "\n",
      "                                                   / |\n",
      "                                                 /    \\\n",
      "            .                                  /      |.\n",
      "            \\\\\\                              /        |.\n",
      "              \\\\\\                          /           `|.\n",
      "                \\\\\\                      /              |.\n",
      "                  \\                    /                |\\\n",
      "                  \\\\#####\\           /                  ||\n",
      "                ==###########>      /                   ||\n",
      "                 \\\\##==......\\    /                     ||\n",
      "            ______ =       =|__ /__                     ||      \\\\\\\n",
      "        ,--' ,----`-,__ ___/'  --,-`-===================##========>\n",
      "       \\               '        ##_______ _____ ,--,__,=##,__   ///\n",
      "        ,    __==    ___,-,__,--'#'  ==='      `-'    | ##,-/\n",
      "        -,____,---'       \\\\####\\\\________________,--\\\\_##,/\n",
      "           ___      .______        ______  __    __  .______      \n",
      "          /   \\     |   _  \\      /      ||  |  |  | |   _  \\     \n",
      "         /  ^  \\    |  |_)  |    |  ,----'|  |__|  | |  |_)  |    \n",
      "        /  /_\\  \\   |      /     |  |     |   __   | |      /     \n",
      "       /  _____  \\  |  |\\  \\\\___ |  `----.|  |  |  | |  |\\  \\\\___.\n",
      "      /__/     \\__\\ | _| `._____| \\______||__|  |__| | _| `._____|\n",
      "    \n",
      "\n"
     ]
    }
   ],
   "source": [
    "obj.ArchR <- ArchRProject(\n",
    "  ArrowFiles = ArrowFiles, \n",
    "  outputDirectory = paste(dir.output,\"ArchR\",sep=\"/\"),\n",
    "  copyArrows = TRUE \n",
    ")"
   ]
  },
  {
   "cell_type": "code",
   "execution_count": 13,
   "id": "f9795403-545f-4385-aa38-2c70b1b2fb21",
   "metadata": {},
   "outputs": [
    {
     "name": "stderr",
     "output_type": "stream",
     "text": [
      "\n",
      "           ___      .______        ______  __    __  .______      \n",
      "          /   \\     |   _  \\      /      ||  |  |  | |   _  \\     \n",
      "         /  ^  \\    |  |_)  |    |  ,----'|  |__|  | |  |_)  |    \n",
      "        /  /_\\  \\   |      /     |  |     |   __   | |      /     \n",
      "       /  _____  \\  |  |\\  \\\\___ |  `----.|  |  |  | |  |\\  \\\\___.\n",
      "      /__/     \\__\\ | _| `._____| \\______||__|  |__| | _| `._____|\n",
      "    \n",
      "\n"
     ]
    },
    {
     "data": {
      "text/plain": [
       "class: ArchRProject \n",
       "outputDirectory: /maps/projects/ralab_nnfc-AUDIT/people/lpm537/project/E2G/analysis/E2G_240503/data/K562_Xu/3.Genome_wide_prediction/ArchR/ArchR.240527/ArchR \n",
       "samples(1): K562_Xu\n",
       "sampleColData names(1): ArrowFiles\n",
       "cellColData names(13): Sample TSSEnrichment ... nDiFrags BlacklistRatio\n",
       "numberOfCells(1): 7699\n",
       "medianTSS(1): 9.17\n",
       "medianFrags(1): 31472"
      ]
     },
     "metadata": {},
     "output_type": "display_data"
    }
   ],
   "source": [
    "obj.ArchR"
   ]
  },
  {
   "cell_type": "code",
   "execution_count": null,
   "id": "ee876dd5-0b22-46fd-9015-7e22144c5024",
   "metadata": {},
   "outputs": [
    {
     "name": "stderr",
     "output_type": "stream",
     "text": [
      "Checking Inputs...\n",
      "\n",
      "ArchR logging to : ArchRLogs/ArchR-addIterativeLSI-3b662a1f4bdac8-Date-2024-05-28_Time-18-32-09.582469.log\n",
      "If there is an issue, please report to github with logFile!\n",
      "\n",
      "2024-05-28 18:32:10.068048 : Computing Total Across All Features, 0 mins elapsed.\n",
      "\n",
      "2024-05-28 18:32:11.820052 : Computing Top Features, 0.03 mins elapsed.\n",
      "\n",
      "###########\n",
      "2024-05-28 18:32:18.120699 : Running LSI (1 of 2) on Top Features, 0.135 mins elapsed.\n",
      "###########\n",
      "\n",
      "2024-05-28 18:32:18.159313 : Creating Partial Matrix, 0.135 mins elapsed.\n",
      "\n",
      "2024-05-28 18:33:44.488224 : Computing LSI, 1.574 mins elapsed.\n",
      "\n",
      "2024-05-28 18:35:31.192318 : Identifying Clusters, 3.352 mins elapsed.\n",
      "\n",
      "Warning message:\n",
      "“Data is of class matrix. Coercing to dgCMatrix.”\n",
      "2024-05-28 18:35:43.931159 : Identified 6 Clusters, 3.565 mins elapsed.\n",
      "\n",
      "2024-05-28 18:35:43.950799 : Saving LSI Iteration, 3.565 mins elapsed.\n",
      "\n",
      "Found more than one class \"dist\" in cache; using the first, from namespace 'BiocGenerics'\n",
      "\n",
      "Also defined by ‘spam’\n",
      "\n",
      "Found more than one class \"dist\" in cache; using the first, from namespace 'BiocGenerics'\n",
      "\n",
      "Also defined by ‘spam’\n",
      "\n"
     ]
    },
    {
     "name": "stdout",
     "output_type": "stream",
     "text": [
      "\n",
      "************************************************************\n",
      "2024-05-28 18:36:04.882752 : ERROR Found in .saveIteration for  \n",
      "LogFile = ArchRLogs/ArchR-addIterativeLSI-3b662a1f4bdac8-Date-2024-05-28_Time-18-32-09.582469.log\n",
      "\n",
      "<simpleError in g$grobs[[legend]]: no such index at level 2\n",
      ">\n",
      "\n",
      "************************************************************\n",
      "\n"
     ]
    },
    {
     "name": "stderr",
     "output_type": "stream",
     "text": [
      "2024-05-28 18:36:04.886696 : Creating Cluster Matrix on the total Group Features, 3.914 mins elapsed.\n",
      "\n"
     ]
    }
   ],
   "source": [
    "obj.ArchR = addIterativeLSI(\n",
    "    ArchRProj = obj.ArchR,\n",
    "    useMatrix = \"TileMatrix\", \n",
    "    name = \"IterativeLSI\"\n",
    ")"
   ]
  },
  {
   "cell_type": "code",
   "execution_count": null,
   "id": "2c1d334b-7fd7-425a-bb8d-7be4cbedd3e4",
   "metadata": {},
   "outputs": [],
   "source": [
    "obj.ArchR = addPeakSet(obj.ArchR,\n",
    "                       peakSet = reduce(pairs.E2G))"
   ]
  },
  {
   "cell_type": "code",
   "execution_count": null,
   "id": "e25c14db-eb4e-4b94-8862-eb34246a365c",
   "metadata": {},
   "outputs": [],
   "source": [
    "obj.ArchR = addPeakMatrix(obj.ArchR)"
   ]
  },
  {
   "cell_type": "code",
   "execution_count": null,
   "id": "3b913333-8823-435e-a677-42fa6d8777ba",
   "metadata": {},
   "outputs": [],
   "source": [
    "seRNA = import10xFeatureMatrix(c(\"/maps/projects/ralab_nnfc-AUDIT/people/lpm537/project/E2G/processed/10x_multiome_230720/ArrayExpress/cellranger_res/EMTAB11264_01/outs/filtered_feature_bc_matrix.h5\"),\n",
    "                               c(\"K562_Xu\"))"
   ]
  },
  {
   "cell_type": "code",
   "execution_count": null,
   "id": "895234f3-e668-4e83-adf0-562024a6711b",
   "metadata": {},
   "outputs": [],
   "source": [
    "seRNA = seRNA[,rownames(obj.ArchR@cellColData)]"
   ]
  },
  {
   "cell_type": "code",
   "execution_count": null,
   "id": "4656d98c-a9cc-486a-afaa-fe59ca6ef055",
   "metadata": {},
   "outputs": [],
   "source": [
    "seRNA"
   ]
  },
  {
   "cell_type": "code",
   "execution_count": null,
   "id": "65cb2097-9075-4ee4-9e54-dd288dc50736",
   "metadata": {},
   "outputs": [],
   "source": [
    "obj.ArchR = addGeneExpressionMatrix(obj.ArchR,\n",
    "                                    seRNA = seRNA,\n",
    "                                    strictMatch = T)"
   ]
  },
  {
   "cell_type": "markdown",
   "id": "e4318703-a143-40c0-b159-274d05033bbc",
   "metadata": {},
   "source": [
    "Run ArchR prediction"
   ]
  },
  {
   "cell_type": "code",
   "execution_count": null,
   "id": "47c8fd5f-19ec-46e6-af87-57502c1e1ff9",
   "metadata": {},
   "outputs": [],
   "source": [
    "start_time <- Sys.time()\n",
    "obj.ArchR = addPeak2GeneLinks(\n",
    "    ArchRProj = obj.ArchR,\n",
    "    reducedDims = \"IterativeLSI\",\n",
    "    useMatrix = \"GeneExpressionMatrix\",\n",
    "    maxDist = maxDist,\n",
    "    threads = n.cores\n",
    ")\n",
    "end_time <- Sys.time()\n",
    "execution_time <- end_time - start_time"
   ]
  },
  {
   "cell_type": "code",
   "execution_count": null,
   "id": "128d0065-5f22-495b-b00d-743fc9843337",
   "metadata": {},
   "outputs": [],
   "source": [
    "execution_time"
   ]
  },
  {
   "cell_type": "code",
   "execution_count": null,
   "id": "36bd2df2-6b32-4b81-bd4f-39ef8913b3c3",
   "metadata": {},
   "outputs": [],
   "source": [
    "p2g = metadata(obj.ArchR@peakSet)$Peak2GeneLinks"
   ]
  },
  {
   "cell_type": "code",
   "execution_count": null,
   "id": "e7730413-8fd4-4952-bb13-0df7a3b15b6f",
   "metadata": {},
   "outputs": [],
   "source": [
    "metadata(p2g)[[1]]$PeakName = paste(seqnames(metadata(p2g)[[1]]),\n",
    "                                    ranges(metadata(p2g)[[1]]),sep=\"-\")"
   ]
  },
  {
   "cell_type": "code",
   "execution_count": null,
   "id": "aeea3810-6735-4aff-9bd7-1697bef979d2",
   "metadata": {},
   "outputs": [],
   "source": [
    "p2g$PairName = paste(metadata(p2g)[[1]][p2g$idxATAC]$PeakName,\n",
    "                     metadata(p2g)[[2]][p2g$idxRNA]$name,\n",
    "                     sep = \"_\")"
   ]
  },
  {
   "cell_type": "code",
   "execution_count": null,
   "id": "87f975ec-6ba4-4696-ad6c-2af65da7aa54",
   "metadata": {},
   "outputs": [],
   "source": [
    "rownames(p2g) = p2g$PairName\n",
    "p2g"
   ]
  },
  {
   "cell_type": "code",
   "execution_count": null,
   "id": "c7209a32-3904-4734-93af-9c22049f652a",
   "metadata": {},
   "outputs": [],
   "source": [
    "pairs.E2G.res = pairs.E2G[pairs.E2G$PairName %in% p2g$PairName]\n",
    "mcols(pairs.E2G.res)[,c(\"Correlation\",\"FDR\",\"VarQATAC\",\"VarQRNA\")] = p2g[pairs.E2G.res$PairName,c(\"Correlation\",\"FDR\",\"VarQATAC\",\"VarQRNA\")]"
   ]
  },
  {
   "cell_type": "code",
   "execution_count": null,
   "id": "1ab4ed70-ce9e-4857-bd1b-63a81d27a401",
   "metadata": {},
   "outputs": [],
   "source": [
    "pairs.E2G.res"
   ]
  },
  {
   "cell_type": "markdown",
   "id": "46485351-50d7-461a-bf09-d795d5bdab84",
   "metadata": {},
   "source": [
    "Save results"
   ]
  },
  {
   "cell_type": "code",
   "execution_count": null,
   "id": "6d424e21-6a41-4422-b76c-6f1c0bda2222",
   "metadata": {},
   "outputs": [],
   "source": [
    "saveRDS(obj.ArchR,\n",
    "        paste(dir.output,\"obj.ArchR.rds\",sep = \"/\"))\n",
    "saveRDS(pairs.E2G.res,\n",
    "        paste(dir.output,\"pairs.E2G.res.rds\",sep = \"/\"))\n",
    "df.output = as.data.frame(pairs.E2G.res,row.names = NULL)\n",
    "colnames(df.output)[1] = \"chr\"\n",
    "df.output[,\"CellType\"] = \"K562\"\n",
    "df.output = df.output[,c(\"chr\",\n",
    "                         \"start\",\n",
    "                         \"end\",\n",
    "                         \"TargetGene\",\n",
    "                         \"CellType\",\n",
    "                         \"Correlation\",\n",
    "                         \"FDR\",\n",
    "                         \"VarQATAC\",\n",
    "                         \"VarQRNA\")]\n",
    "data.table::fwrite(df.output,\n",
    "                   file = paste(dir.output,\"pairs.E2G.res.tsv.gz\",sep = \"/\"),\n",
    "                   row.names = F,\n",
    "                   quote = F,\n",
    "                   sep = \"\\t\")\n",
    "pairs.E2G.res\n",
    "df.output"
   ]
  },
  {
   "cell_type": "code",
   "execution_count": null,
   "id": "4c909ed5-7321-4e69-8208-1544b371da6d",
   "metadata": {},
   "outputs": [],
   "source": [
    "sessionInfo()"
   ]
  },
  {
   "cell_type": "code",
   "execution_count": null,
   "id": "b54012ba-20d1-4787-8d0d-d851ef1744c4",
   "metadata": {},
   "outputs": [],
   "source": []
  }
 ],
 "metadata": {
  "kernelspec": {
   "display_name": "R",
   "language": "R",
   "name": "ir"
  },
  "language_info": {
   "codemirror_mode": "r",
   "file_extension": ".r",
   "mimetype": "text/x-r-source",
   "name": "R",
   "pygments_lexer": "r",
   "version": "4.3.3"
  }
 },
 "nbformat": 4,
 "nbformat_minor": 5
}
