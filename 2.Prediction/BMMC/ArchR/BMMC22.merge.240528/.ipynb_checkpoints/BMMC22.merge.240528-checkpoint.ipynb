{
 "cells": [
  {
   "cell_type": "code",
   "execution_count": 1,
   "id": "c8466b35-cae5-4f62-8138-37b2de484a74",
   "metadata": {},
   "outputs": [
    {
     "name": "stderr",
     "output_type": "stream",
     "text": [
      "\n",
      "                                                   / |\n",
      "                                                 /    \\\n",
      "            .                                  /      |.\n",
      "            \\\\\\                              /        |.\n",
      "              \\\\\\                          /           `|.\n",
      "                \\\\\\                      /              |.\n",
      "                  \\                    /                |\\\n",
      "                  \\\\#####\\           /                  ||\n",
      "                ==###########>      /                   ||\n",
      "                 \\\\##==......\\    /                     ||\n",
      "            ______ =       =|__ /__                     ||      \\\\\\\n",
      "        ,--' ,----`-,__ ___/'  --,-`-===================##========>\n",
      "       \\               '        ##_______ _____ ,--,__,=##,__   ///\n",
      "        ,    __==    ___,-,__,--'#'  ==='      `-'    | ##,-/\n",
      "        -,____,---'       \\\\####\\\\________________,--\\\\_##,/\n",
      "           ___      .______        ______  __    __  .______      \n",
      "          /   \\     |   _  \\      /      ||  |  |  | |   _  \\     \n",
      "         /  ^  \\    |  |_)  |    |  ,----'|  |__|  | |  |_)  |    \n",
      "        /  /_\\  \\   |      /     |  |     |   __   | |      /     \n",
      "       /  _____  \\  |  |\\  \\\\___ |  `----.|  |  |  | |  |\\  \\\\___.\n",
      "      /__/     \\__\\ | _| `._____| \\______||__|  |__| | _| `._____|\n",
      "    \n",
      "\n",
      "ArchR : Version 1.0.2\n",
      "For more information see our website : www.ArchRProject.com\n",
      "If you encounter a bug please report : https://github.com/GreenleafLab/ArchR/issues\n",
      "\n",
      "Loading Required Packages...\n",
      "\n",
      "\tLoading Package : grid v4.3.3\n",
      "\n",
      "\tLoading Package : gridExtra v2.3\n",
      "\n",
      "\tLoading Package : gtools v3.9.5\n",
      "\n",
      "\tLoading Package : gtable v0.3.5\n",
      "\n",
      "\tLoading Package : ggplot2 v3.5.1\n",
      "\n",
      "\tLoading Package : magrittr v2.0.3\n",
      "\n",
      "\tLoading Package : plyr v1.8.9\n",
      "\n",
      "\tLoading Package : stringr v1.5.1\n",
      "\n",
      "\tLoading Package : data.table v1.15.2\n",
      "\n",
      "\tLoading Package : matrixStats v1.3.0\n",
      "\n",
      "\tLoading Package : S4Vectors v0.40.2\n",
      "\n",
      "\tLoading Package : GenomicRanges v1.54.1\n",
      "\n",
      "\tLoading Package : BiocGenerics v0.48.1\n",
      "\n",
      "\tLoading Package : Matrix v1.6.5\n",
      "\n",
      "\tLoading Package : Rcpp v1.0.12\n",
      "\n",
      "\tLoading Package : SummarizedExperiment v1.30.2\n",
      "\n",
      "\tLoading Package : rhdf5 v2.44.0\n",
      "\n",
      "Loading required package: SeuratObject\n",
      "\n",
      "Loading required package: sp\n",
      "\n",
      "\n",
      "Attaching package: ‘sp’\n",
      "\n",
      "\n",
      "The following object is masked from ‘package:IRanges’:\n",
      "\n",
      "    %over%\n",
      "\n",
      "\n",
      "‘SeuratObject’ was built under R 4.3.2 but the current version is\n",
      "4.3.3; it is recomended that you reinstall ‘SeuratObject’ as the ABI\n",
      "for R may have changed\n",
      "\n",
      "‘SeuratObject’ was built with package ‘Matrix’ 1.6.3 but the current\n",
      "version is 1.6.5; it is recomended that you reinstall ‘SeuratObject’ as\n",
      "the ABI for ‘Matrix’ may have changed\n",
      "\n",
      "\n",
      "Attaching package: ‘SeuratObject’\n",
      "\n",
      "\n",
      "The following object is masked from ‘package:SummarizedExperiment’:\n",
      "\n",
      "    Assays\n",
      "\n",
      "\n",
      "The following object is masked from ‘package:GenomicRanges’:\n",
      "\n",
      "    intersect\n",
      "\n",
      "\n",
      "The following object is masked from ‘package:GenomeInfoDb’:\n",
      "\n",
      "    intersect\n",
      "\n",
      "\n",
      "The following object is masked from ‘package:IRanges’:\n",
      "\n",
      "    intersect\n",
      "\n",
      "\n",
      "The following object is masked from ‘package:S4Vectors’:\n",
      "\n",
      "    intersect\n",
      "\n",
      "\n",
      "The following object is masked from ‘package:BiocGenerics’:\n",
      "\n",
      "    intersect\n",
      "\n",
      "\n",
      "The following object is masked from ‘package:base’:\n",
      "\n",
      "    intersect\n",
      "\n",
      "\n",
      "\n",
      "Attaching package: ‘Seurat’\n",
      "\n",
      "\n",
      "The following object is masked from ‘package:SummarizedExperiment’:\n",
      "\n",
      "    Assays\n",
      "\n",
      "\n",
      "Warning message:\n",
      "“replacing previous import ‘Biostrings::pattern’ by ‘grid::pattern’ when loading ‘genomation’”\n"
     ]
    }
   ],
   "source": [
    "library(ArchR)\n",
    "library(Seurat)\n",
    "library(Signac)\n",
    "library(magrittr)\n",
    "library(genomation)\n",
    "library(GenomicRanges)\n",
    "library(Matrix)\n",
    "library(ggplot2)"
   ]
  },
  {
   "cell_type": "markdown",
   "id": "e85020d7-d358-492d-9358-c81270f4b624",
   "metadata": {},
   "source": [
    "Specify file path"
   ]
  },
  {
   "cell_type": "code",
   "execution_count": 2,
   "id": "1bec6690-52ec-450d-bba7-7d4528a185cd",
   "metadata": {},
   "outputs": [],
   "source": [
    "path.seurat = \"/maps/projects/ralab_nnfc-AUDIT/people/lpm537/project/E2G/analysis/E2G_240503/data/BMMC/1.prepare_data/5.merge_peaks_from_5_super_groups.240524/obj.seurat.rds\"\n",
    "path.pairs.E2G = \"/maps/projects/ralab_nnfc-AUDIT/people/lpm537/project/E2G/analysis/E2G_240503/data/BMMC/1.prepare_data/5.merge_peaks_from_5_super_groups.240524/pairs.rds\"\n",
    "dir.output = \"/maps/projects/ralab_nnfc-AUDIT/people/lpm537/project/E2G/analysis/E2G_240503/data/BMMC/2.Genome_wide_prediction/ArchR/BMMC5.merge.240528/\""
   ]
  },
  {
   "cell_type": "code",
   "execution_count": 3,
   "id": "340dac32-44ac-4231-b964-b5f3b9e2dbde",
   "metadata": {},
   "outputs": [],
   "source": [
    "n.cores = 16\n",
    "maxDist = 1000000"
   ]
  },
  {
   "cell_type": "code",
   "execution_count": 4,
   "id": "da973385-4c81-4b1c-9669-cf5933b23a39",
   "metadata": {},
   "outputs": [
    {
     "name": "stderr",
     "output_type": "stream",
     "text": [
      "Setting default number of Parallel threads to 16.\n",
      "\n",
      "Setting default genome to Hg38.\n",
      "\n"
     ]
    }
   ],
   "source": [
    "addArchRThreads(threads = n.cores) \n",
    "addArchRGenome(\"hg38\")"
   ]
  },
  {
   "cell_type": "markdown",
   "id": "eeb26496-d3b9-4778-92ed-9c63a5018aef",
   "metadata": {},
   "source": [
    "Import seurat object"
   ]
  },
  {
   "cell_type": "code",
   "execution_count": 5,
   "id": "c9b19a09-be95-4d9a-bdc3-0530980d4757",
   "metadata": {},
   "outputs": [],
   "source": [
    "obj.seurat = readRDS(path.seurat)"
   ]
  },
  {
   "cell_type": "code",
   "execution_count": 6,
   "id": "9ed4b927-8c9e-4270-a6a2-f7cfca6fc95c",
   "metadata": {},
   "outputs": [],
   "source": [
    "obj.seurat = subset(obj.seurat,\n",
    "                    cells = colnames(obj.seurat)[!is.na(obj.seurat$cell_type.merged)])"
   ]
  },
  {
   "cell_type": "markdown",
   "id": "86be3e66-c954-4620-9e64-c6a1c0fcb84c",
   "metadata": {},
   "source": [
    "Import candidate E-G pairs"
   ]
  },
  {
   "cell_type": "code",
   "execution_count": 7,
   "id": "6f363969-bf0b-45ce-858c-a8cb64cc210a",
   "metadata": {},
   "outputs": [],
   "source": [
    "pairs.E2G = readRDS(path.pairs.E2G)"
   ]
  },
  {
   "cell_type": "markdown",
   "id": "3538ffdc-4fed-48eb-9c9d-86805a91cf06",
   "metadata": {},
   "source": [
    "Create an ArchRProject"
   ]
  },
  {
   "cell_type": "code",
   "execution_count": 8,
   "id": "0300f485-fafa-4cef-b9d0-534108ec6f95",
   "metadata": {},
   "outputs": [
    {
     "name": "stdout",
     "output_type": "stream",
     "text": [
      "List of 13\n",
      " $ :Formal class 'Fragment' [package \"Signac\"] with 3 slots\n",
      "  .. ..@ path : chr \"/maps/projects/ralab_nnfc-AUDIT/people/lpm537/project/E2G/processed/10x_multiome_240430/neurips2021_BMMC/cellra\"| __truncated__\n",
      "  .. ..@ hash : chr [1:2] \"86350e844e0a3a1991e9c650ccac7f43\" \"555000121b665f095f13712669597ac8\"\n",
      "  .. ..@ cells: Named chr [1:5315] \"TAGTTGTCACCCTCAC-1\" \"CTATGGCCATAACGGG-1\" \"CCGCACACAGGTTAAA-1\" \"TCATTTGGTAATGGAA-1\" ...\n",
      "  .. .. ..- attr(*, \"names\")= chr [1:5315] \"s1d1_TAGTTGTCACCCTCAC-1\" \"s1d1_CTATGGCCATAACGGG-1\" \"s1d1_CCGCACACAGGTTAAA-1\" \"s1d1_TCATTTGGTAATGGAA-1\" ...\n",
      " $ :Formal class 'Fragment' [package \"Signac\"] with 3 slots\n",
      "  .. ..@ path : chr \"/maps/projects/ralab_nnfc-AUDIT/people/lpm537/project/E2G/processed/10x_multiome_240430/neurips2021_BMMC/cellra\"| __truncated__\n",
      "  .. ..@ hash : chr [1:2] \"3ee058ae058031e3f233c68b0db9e6b9\" \"1039e761a9da92608ebabb952d11b3c8\"\n",
      "  .. ..@ cells: Named chr [1:5246] \"GATGCAGCAGCAACAG-1\" \"TGAGTGAAGAGGAAGG-1\" \"CCGCTAAAGGACCGCT-1\" \"CTAACCACAGTTTGGC-1\" ...\n",
      "  .. .. ..- attr(*, \"names\")= chr [1:5246] \"s1d2_GATGCAGCAGCAACAG-1\" \"s1d2_TGAGTGAAGAGGAAGG-1\" \"s1d2_CCGCTAAAGGACCGCT-1\" \"s1d2_CTAACCACAGTTTGGC-1\" ...\n",
      " $ :Formal class 'Fragment' [package \"Signac\"] with 3 slots\n",
      "  .. ..@ path : chr \"/maps/projects/ralab_nnfc-AUDIT/people/lpm537/project/E2G/processed/10x_multiome_240430/neurips2021_BMMC/cellra\"| __truncated__\n",
      "  .. ..@ hash : chr [1:2] \"2276352420919cf89b8bb75ac819824c\" \"75537e8fd45162781c38e6a7db2c86cf\"\n",
      "  .. ..@ cells: Named chr [1:3354] \"TCACCTGGTTAGGTTG-1\" \"CGTTAACAGGTGTCCA-1\" \"GGACCGAAGTGAGGTA-1\" \"AGTGCGGAGTAAGGGC-1\" ...\n",
      "  .. .. ..- attr(*, \"names\")= chr [1:3354] \"s1d3_TCACCTGGTTAGGTTG-1\" \"s1d3_CGTTAACAGGTGTCCA-1\" \"s1d3_GGACCGAAGTGAGGTA-1\" \"s1d3_AGTGCGGAGTAAGGGC-1\" ...\n",
      " $ :Formal class 'Fragment' [package \"Signac\"] with 3 slots\n",
      "  .. ..@ path : chr \"/maps/projects/ralab_nnfc-AUDIT/people/lpm537/project/E2G/processed/10x_multiome_240430/neurips2021_BMMC/cellra\"| __truncated__\n",
      "  .. ..@ hash : chr [1:2] \"1fc4f6dc8e1c53094db34b5c7a766a87\" \"b8c37340d7a1d3941d55772be354bd9a\"\n",
      "  .. ..@ cells: Named chr [1:3665] \"ACGTTACAGGCATTAC-1\" \"GGTGATTTCGCTAGAT-1\" \"ACAGGATCACTAAGAA-1\" \"CGCTACTTCATCCACC-1\" ...\n",
      "  .. .. ..- attr(*, \"names\")= chr [1:3665] \"s2d1_ACGTTACAGGCATTAC-1\" \"s2d1_GGTGATTTCGCTAGAT-1\" \"s2d1_ACAGGATCACTAAGAA-1\" \"s2d1_CGCTACTTCATCCACC-1\" ...\n",
      " $ :Formal class 'Fragment' [package \"Signac\"] with 3 slots\n",
      "  .. ..@ path : chr \"/maps/projects/ralab_nnfc-AUDIT/people/lpm537/project/E2G/processed/10x_multiome_240430/neurips2021_BMMC/cellra\"| __truncated__\n",
      "  .. ..@ hash : chr [1:2] \"a2acfe30c69e24ee4fd35cd8b067c630\" \"9ffc0908f69ebc6daf04984782449572\"\n",
      "  .. ..@ cells: Named chr [1:5556] \"TAATGGTGTTAGCGTA-1\" \"TCTAACTTCGTTTCGC-1\" \"GGCGCTAGTTTAGCTC-1\" \"AAAGCACCACTAAGCC-1\" ...\n",
      "  .. .. ..- attr(*, \"names\")= chr [1:5556] \"s2d4_TAATGGTGTTAGCGTA-1\" \"s2d4_TCTAACTTCGTTTCGC-1\" \"s2d4_GGCGCTAGTTTAGCTC-1\" \"s2d4_AAAGCACCACTAAGCC-1\" ...\n",
      " $ :Formal class 'Fragment' [package \"Signac\"] with 3 slots\n",
      "  .. ..@ path : chr \"/maps/projects/ralab_nnfc-AUDIT/people/lpm537/project/E2G/processed/10x_multiome_240430/neurips2021_BMMC/cellra\"| __truncated__\n",
      "  .. ..@ hash : chr [1:2] \"2176bbdb8bb8100786137c9f2a51b3ca\" \"90506bed3c58854bc99c88adb8d34e91\"\n",
      "  .. ..@ cells: Named chr [1:3916] \"GCTTGACCATCTAGCA-1\" \"GATTCAATCTAATCTC-1\" \"TAAGGACCAAAGCGCA-1\" \"AGCGTGCTCATTGCAA-1\" ...\n",
      "  .. .. ..- attr(*, \"names\")= chr [1:3916] \"s2d5_GCTTGACCATCTAGCA-1\" \"s2d5_GATTCAATCTAATCTC-1\" \"s2d5_TAAGGACCAAAGCGCA-1\" \"s2d5_AGCGTGCTCATTGCAA-1\" ...\n",
      " $ :Formal class 'Fragment' [package \"Signac\"] with 3 slots\n",
      "  .. ..@ path : chr \"/maps/projects/ralab_nnfc-AUDIT/people/lpm537/project/E2G/processed/10x_multiome_240430/neurips2021_BMMC/cellra\"| __truncated__\n",
      "  .. ..@ hash : chr [1:2] \"2a5bab58fd0b28bc8ef3723ed57e6c08\" \"238b44ce8ad4cb929abf90c361c5d9f1\"\n",
      "  .. ..@ cells: Named chr [1:5447] \"AGGAGCTAGACAAGTG-1\" \"GCGTAACGTCATAGAT-1\" \"CGATCCTTCGAGGTGG-1\" \"GATTCGCCAAATACCT-1\" ...\n",
      "  .. .. ..- attr(*, \"names\")= chr [1:5447] \"s3d10_AGGAGCTAGACAAGTG-1\" \"s3d10_GCGTAACGTCATAGAT-1\" \"s3d10_CGATCCTTCGAGGTGG-1\" \"s3d10_GATTCGCCAAATACCT-1\" ...\n",
      " $ :Formal class 'Fragment' [package \"Signac\"] with 3 slots\n",
      "  .. ..@ path : chr \"/maps/projects/ralab_nnfc-AUDIT/people/lpm537/project/E2G/processed/10x_multiome_240430/neurips2021_BMMC/cellra\"| __truncated__\n",
      "  .. ..@ hash : chr [1:2] \"983f45aef00cf12883d18d626d839a36\" \"72f5dc7b926b9533af5db0f68b5b69f6\"\n",
      "  .. ..@ cells: Named chr [1:3553] \"AGTCGCATCTCACTAT-1\" \"ATGTCATCAATCTCTC-1\" \"ATTGACTCAGGAATCG-1\" \"CTAATGTCACAACAGG-1\" ...\n",
      "  .. .. ..- attr(*, \"names\")= chr [1:3553] \"s3d3_AGTCGCATCTCACTAT-1\" \"s3d3_ATGTCATCAATCTCTC-1\" \"s3d3_ATTGACTCAGGAATCG-1\" \"s3d3_CTAATGTCACAACAGG-1\" ...\n",
      " $ :Formal class 'Fragment' [package \"Signac\"] with 3 slots\n",
      "  .. ..@ path : chr \"/maps/projects/ralab_nnfc-AUDIT/people/lpm537/project/E2G/processed/10x_multiome_240430/neurips2021_BMMC/cellra\"| __truncated__\n",
      "  .. ..@ hash : chr [1:2] \"5d837fe9f6aafc00db7add9a9fe3ef29\" \"b296ae5676ca1413959c46f7df802834\"\n",
      "  .. ..@ cells: Named chr [1:1452] \"GTACAATGTTCCATTA-1\" \"TGTGGCGGTGTTGCAA-1\" \"GCGGTTATCGACCTGA-1\" \"CCTGTAACAGGCTTCG-1\" ...\n",
      "  .. .. ..- attr(*, \"names\")= chr [1:1452] \"s3d6_GTACAATGTTCCATTA-1\" \"s3d6_TGTGGCGGTGTTGCAA-1\" \"s3d6_GCGGTTATCGACCTGA-1\" \"s3d6_CCTGTAACAGGCTTCG-1\" ...\n",
      " $ :Formal class 'Fragment' [package \"Signac\"] with 3 slots\n",
      "  .. ..@ path : chr \"/maps/projects/ralab_nnfc-AUDIT/people/lpm537/project/E2G/processed/10x_multiome_240430/neurips2021_BMMC/cellra\"| __truncated__\n",
      "  .. ..@ hash : chr [1:2] \"4f4da183ea8734759ddc8987b29aac25\" \"d9b91a39dbf76399e9f01458cf21e627\"\n",
      "  .. ..@ cells: Named chr [1:1450] \"CCAAACCCACTAGCGT-1\" \"TTAACTGAGAAACTGG-1\" \"GGAGCGATCACAGCCA-1\" \"CGCTGTGCAGGCATGA-1\" ...\n",
      "  .. .. ..- attr(*, \"names\")= chr [1:1450] \"s3d7_CCAAACCCACTAGCGT-1\" \"s3d7_TTAACTGAGAAACTGG-1\" \"s3d7_GGAGCGATCACAGCCA-1\" \"s3d7_CGCTGTGCAGGCATGA-1\" ...\n",
      " $ :Formal class 'Fragment' [package \"Signac\"] with 3 slots\n",
      "  .. ..@ path : chr \"/maps/projects/ralab_nnfc-AUDIT/people/lpm537/project/E2G/processed/10x_multiome_240430/neurips2021_BMMC/cellra\"| __truncated__\n",
      "  .. ..@ hash : chr [1:2] \"c1bcab73870a86531668a7e4c5fd9f82\" \"fb36f28f535f141bf0a4af04c17d5bd9\"\n",
      "  .. ..@ cells: Named chr [1:6117] \"AGCGATTTCATCCTGC-1\" \"TTGACTAAGGTCAAAG-1\" \"AGGAACGGTGAGGTGA-1\" \"TAGGGTTTCCGTGACA-1\" ...\n",
      "  .. .. ..- attr(*, \"names\")= chr [1:6117] \"s4d1_AGCGATTTCATCCTGC-1\" \"s4d1_TTGACTAAGGTCAAAG-1\" \"s4d1_AGGAACGGTGAGGTGA-1\" \"s4d1_TAGGGTTTCCGTGACA-1\" ...\n",
      " $ :Formal class 'Fragment' [package \"Signac\"] with 3 slots\n",
      "  .. ..@ path : chr \"/maps/projects/ralab_nnfc-AUDIT/people/lpm537/project/E2G/processed/10x_multiome_240430/neurips2021_BMMC/cellra\"| __truncated__\n",
      "  .. ..@ hash : chr [1:2] \"65a18b88a6a8f2e1b7282c2c08da1067\" \"cc03488d12a1f1e49ae43613e0c61606\"\n",
      "  .. ..@ cells: Named chr [1:8874] \"TATCCAGCAATTGAGA-1\" \"ACTCGCGCAAACTGTT-1\" \"GACTATTCATGTCGCG-1\" \"CTAATGTCATTGTTGG-1\" ...\n",
      "  .. .. ..- attr(*, \"names\")= chr [1:8874] \"s4d8_TATCCAGCAATTGAGA-1\" \"s4d8_ACTCGCGCAAACTGTT-1\" \"s4d8_GACTATTCATGTCGCG-1\" \"s4d8_CTAATGTCATTGTTGG-1\" ...\n",
      " $ :Formal class 'Fragment' [package \"Signac\"] with 3 slots\n",
      "  .. ..@ path : chr \"/maps/projects/ralab_nnfc-AUDIT/people/lpm537/project/E2G/processed/10x_multiome_240430/neurips2021_BMMC/cellra\"| __truncated__\n",
      "  .. ..@ hash : chr [1:2] \"10d377a58a8fbc07927e8d3a4ec79e73\" \"e3dbabb04370289ef70c67216288b530\"\n",
      "  .. ..@ cells: Named chr [1:3426] \"TGTCCTTCAGGCTAGA-1\" \"AATACCGGTAAGGTCC-1\" \"TGTAAAGCACTTGTTC-1\" \"CAGTATGGTTCGCTCA-1\" ...\n",
      "  .. .. ..- attr(*, \"names\")= chr [1:3426] \"s4d9_TGTCCTTCAGGCTAGA-1\" \"s4d9_AATACCGGTAAGGTCC-1\" \"s4d9_TGTAAAGCACTTGTTC-1\" \"s4d9_CAGTATGGTTCGCTCA-1\" ...\n"
     ]
    }
   ],
   "source": [
    "str(Fragments(obj.seurat))"
   ]
  },
  {
   "cell_type": "code",
   "execution_count": null,
   "id": "1753ffaa-89e2-43bf-bcf6-19937782d63a",
   "metadata": {},
   "outputs": [
    {
     "name": "stderr",
     "output_type": "stream",
     "text": [
      "Using GeneAnnotation set by addArchRGenome(Hg38)!\n",
      "\n",
      "Using GeneAnnotation set by addArchRGenome(Hg38)!\n",
      "\n",
      "ArchR logging to : ArchRLogs/ArchR-createArrows-1d7ae64c4bf5a3-Date-2024-05-28_Time-19-19-25.530049.log\n",
      "If there is an issue, please report to github with logFile!\n",
      "\n",
      "Cleaning Temporary Files\n",
      "\n",
      "2024-05-28 19:19:28.207413 : Batch Execution w/ safelapply!, 0 mins elapsed.\n",
      "\n"
     ]
    }
   ],
   "source": [
    "ArrowFiles <- createArrowFiles(\n",
    "  inputFiles = c(Fragments(obj.seurat)[[1]]@path,\n",
    "                 Fragments(obj.seurat)[[2]]@path,\n",
    "                 Fragments(obj.seurat)[[3]]@path,\n",
    "                 Fragments(obj.seurat)[[4]]@path,\n",
    "                 Fragments(obj.seurat)[[5]]@path,\n",
    "                 Fragments(obj.seurat)[[6]]@path,\n",
    "                 Fragments(obj.seurat)[[7]]@path,\n",
    "                 Fragments(obj.seurat)[[8]]@path,\n",
    "                 Fragments(obj.seurat)[[9]]@path,\n",
    "                 Fragments(obj.seurat)[[10]]@path,\n",
    "                 Fragments(obj.seurat)[[11]]@path,\n",
    "                 Fragments(obj.seurat)[[12]]@path,\n",
    "                 Fragments(obj.seurat)[[13]]@path),\n",
    "  sampleNames = c(\"s1d1\",\n",
    "                  \"s1d2\",\n",
    "                  \"s1d3\",\n",
    "                  \"s2d1\",\n",
    "                  \"s2d4\",\n",
    "                  \"s2d5\",\n",
    "                  \"s3d10\",\n",
    "                  \"s3d3\",\n",
    "                  \"s3d6\",\n",
    "                  \"s3d7\",\n",
    "                  \"s4d1\",\n",
    "                  \"s4d8\",\n",
    "                  \"s4d9\"),\n",
    "  validBarcodes = list(s1d1 = unname(Fragments(obj.seurat)[[1]]@cells),\n",
    "                       s1d2 = unname(Fragments(obj.seurat)[[2]]@cells),\n",
    "                       s1d3 = unname(Fragments(obj.seurat)[[3]]@cells),\n",
    "                       s2d1 = unname(Fragments(obj.seurat)[[4]]@cells),\n",
    "                       s2d4 = unname(Fragments(obj.seurat)[[5]]@cells),\n",
    "                       s2d5 = unname(Fragments(obj.seurat)[[6]]@cells),\n",
    "                       s3d10 = unname(Fragments(obj.seurat)[[7]]@cells),\n",
    "                       s3d3 = unname(Fragments(obj.seurat)[[8]]@cells),\n",
    "                       s3d6 = unname(Fragments(obj.seurat)[[9]]@cells),\n",
    "                       s3d7 = unname(Fragments(obj.seurat)[[10]]@cells),\n",
    "                       s4d1 = unname(Fragments(obj.seurat)[[11]]@cells),\n",
    "                       s4d8 = unname(Fragments(obj.seurat)[[12]]@cells),\n",
    "                       s4d9 = unname(Fragments(obj.seurat)[[13]]@cells)),\n",
    "  addTileMat = T,\n",
    "  addGeneScoreMat = F,\n",
    "  force = T\n",
    ")"
   ]
  },
  {
   "cell_type": "code",
   "execution_count": null,
   "id": "ada3db45-d050-4659-a7cf-2891e04b1249",
   "metadata": {},
   "outputs": [],
   "source": [
    "ArrowFiles"
   ]
  },
  {
   "cell_type": "code",
   "execution_count": null,
   "id": "5ba28283-d488-4982-8d4c-745fc3f59365",
   "metadata": {},
   "outputs": [],
   "source": [
    "dir.create(paste(dir.output,\"ArchR\",sep=\"/\"),recursive = T)"
   ]
  },
  {
   "cell_type": "code",
   "execution_count": null,
   "id": "aa217507-8323-43bf-b23c-0ec25ee33c85",
   "metadata": {},
   "outputs": [],
   "source": [
    "obj.ArchR <- ArchRProject(\n",
    "  ArrowFiles = ArrowFiles, \n",
    "  outputDirectory = paste(dir.output,\"ArchR\",sep=\"/\"),\n",
    "  copyArrows = TRUE \n",
    ")"
   ]
  },
  {
   "cell_type": "code",
   "execution_count": null,
   "id": "f9795403-545f-4385-aa38-2c70b1b2fb21",
   "metadata": {},
   "outputs": [],
   "source": [
    "obj.ArchR"
   ]
  },
  {
   "cell_type": "code",
   "execution_count": null,
   "id": "ee876dd5-0b22-46fd-9015-7e22144c5024",
   "metadata": {},
   "outputs": [],
   "source": [
    "obj.ArchR = addIterativeLSI(\n",
    "    ArchRProj = obj.ArchR,\n",
    "    useMatrix = \"TileMatrix\", \n",
    "    name = \"IterativeLSI\"\n",
    ")"
   ]
  },
  {
   "cell_type": "code",
   "execution_count": null,
   "id": "2c1d334b-7fd7-425a-bb8d-7be4cbedd3e4",
   "metadata": {},
   "outputs": [],
   "source": [
    "obj.ArchR = addPeakSet(obj.ArchR,\n",
    "                       peakSet = reduce(pairs.E2G))"
   ]
  },
  {
   "cell_type": "code",
   "execution_count": null,
   "id": "e25c14db-eb4e-4b94-8862-eb34246a365c",
   "metadata": {},
   "outputs": [],
   "source": [
    "obj.ArchR = addPeakMatrix(obj.ArchR)"
   ]
  },
  {
   "cell_type": "code",
   "execution_count": null,
   "id": "3b913333-8823-435e-a677-42fa6d8777ba",
   "metadata": {},
   "outputs": [],
   "source": [
    "seRNA = import10xFeatureMatrix(c(\"/maps/projects/ralab_nnfc-AUDIT/people/lpm537/project/E2G/processed/10x_multiome_240430/neurips2021_BMMC/cellranger_res/site1_donor1/outs/filtered_feature_bc_matrix.h5\",\n",
    "                                 \"/maps/projects/ralab_nnfc-AUDIT/people/lpm537/project/E2G/processed/10x_multiome_240430/neurips2021_BMMC/cellranger_res/site1_donor2/outs/filtered_feature_bc_matrix.h5\",\n",
    "                                 \"/maps/projects/ralab_nnfc-AUDIT/people/lpm537/project/E2G/processed/10x_multiome_240430/neurips2021_BMMC/cellranger_res/site1_donor3/outs/filtered_feature_bc_matrix.h5\",\n",
    "                                 \"/maps/projects/ralab_nnfc-AUDIT/people/lpm537/project/E2G/processed/10x_multiome_240430/neurips2021_BMMC/cellranger_res/site2_donor1/outs/filtered_feature_bc_matrix.h5\",\n",
    "                                 \"/maps/projects/ralab_nnfc-AUDIT/people/lpm537/project/E2G/processed/10x_multiome_240430/neurips2021_BMMC/cellranger_res/site2_donor4/outs/filtered_feature_bc_matrix.h5\",\n",
    "                                 \"/maps/projects/ralab_nnfc-AUDIT/people/lpm537/project/E2G/processed/10x_multiome_240430/neurips2021_BMMC/cellranger_res/site2_donor5/outs/filtered_feature_bc_matrix.h5\",\n",
    "                                 \"/maps/projects/ralab_nnfc-AUDIT/people/lpm537/project/E2G/processed/10x_multiome_240430/neurips2021_BMMC/cellranger_res/site3_donor10/outs/filtered_feature_bc_matrix.h5\",\n",
    "                                 \"/maps/projects/ralab_nnfc-AUDIT/people/lpm537/project/E2G/processed/10x_multiome_240430/neurips2021_BMMC/cellranger_res/site3_donor3/outs/filtered_feature_bc_matrix.h5\",\n",
    "                                 \"/maps/projects/ralab_nnfc-AUDIT/people/lpm537/project/E2G/processed/10x_multiome_240430/neurips2021_BMMC/cellranger_res/site3_donor6/outs/filtered_feature_bc_matrix.h5\",\n",
    "                                 \"/maps/projects/ralab_nnfc-AUDIT/people/lpm537/project/E2G/processed/10x_multiome_240430/neurips2021_BMMC/cellranger_res/site3_donor7/outs/filtered_feature_bc_matrix.h5\",\n",
    "                                 \"/maps/projects/ralab_nnfc-AUDIT/people/lpm537/project/E2G/processed/10x_multiome_240430/neurips2021_BMMC/cellranger_res/site4_donor1/outs/filtered_feature_bc_matrix.h5\",\n",
    "                                 \"/maps/projects/ralab_nnfc-AUDIT/people/lpm537/project/E2G/processed/10x_multiome_240430/neurips2021_BMMC/cellranger_res/site4_donor8/outs/filtered_feature_bc_matrix.h5\",\n",
    "                                 \"/maps/projects/ralab_nnfc-AUDIT/people/lpm537/project/E2G/processed/10x_multiome_240430/neurips2021_BMMC/cellranger_res/site4_donor9/outs/filtered_feature_bc_matrix.h5\"),\n",
    "                               c(\"s1d1\",\n",
    "                                 \"s1d2\",\n",
    "                                 \"s1d3\",\n",
    "                                 \"s2d1\",\n",
    "                                 \"s2d4\",\n",
    "                                 \"s2d5\",\n",
    "                                 \"s3d10\",\n",
    "                                 \"s3d3\",\n",
    "                                 \"s3d6\",\n",
    "                                 \"s3d7\",\n",
    "                                 \"s4d1\",\n",
    "                                 \"s4d8\",\n",
    "                                 \"s4d9\"))"
   ]
  },
  {
   "cell_type": "code",
   "execution_count": null,
   "id": "895234f3-e668-4e83-adf0-562024a6711b",
   "metadata": {},
   "outputs": [],
   "source": [
    "seRNA = seRNA[,rownames(obj.ArchR@cellColData)]"
   ]
  },
  {
   "cell_type": "code",
   "execution_count": null,
   "id": "4656d98c-a9cc-486a-afaa-fe59ca6ef055",
   "metadata": {},
   "outputs": [],
   "source": [
    "seRNA"
   ]
  },
  {
   "cell_type": "code",
   "execution_count": null,
   "id": "65cb2097-9075-4ee4-9e54-dd288dc50736",
   "metadata": {},
   "outputs": [],
   "source": [
    "obj.ArchR = addGeneExpressionMatrix(obj.ArchR,\n",
    "                                    seRNA = seRNA,\n",
    "                                    strictMatch = T)"
   ]
  },
  {
   "cell_type": "markdown",
   "id": "e4318703-a143-40c0-b159-274d05033bbc",
   "metadata": {},
   "source": [
    "Run ArchR prediction"
   ]
  },
  {
   "cell_type": "code",
   "execution_count": null,
   "id": "47c8fd5f-19ec-46e6-af87-57502c1e1ff9",
   "metadata": {},
   "outputs": [],
   "source": [
    "start_time <- Sys.time()\n",
    "obj.ArchR = addPeak2GeneLinks(\n",
    "    ArchRProj = obj.ArchR,\n",
    "    reducedDims = \"IterativeLSI\",\n",
    "    useMatrix = \"GeneExpressionMatrix\",\n",
    "    maxDist = maxDist,\n",
    "    threads = n.cores\n",
    ")\n",
    "end_time <- Sys.time()\n",
    "execution_time <- end_time - start_time"
   ]
  },
  {
   "cell_type": "code",
   "execution_count": null,
   "id": "128d0065-5f22-495b-b00d-743fc9843337",
   "metadata": {},
   "outputs": [],
   "source": [
    "execution_time"
   ]
  },
  {
   "cell_type": "code",
   "execution_count": null,
   "id": "36bd2df2-6b32-4b81-bd4f-39ef8913b3c3",
   "metadata": {},
   "outputs": [],
   "source": [
    "p2g = metadata(obj.ArchR@peakSet)$Peak2GeneLinks"
   ]
  },
  {
   "cell_type": "code",
   "execution_count": null,
   "id": "e7730413-8fd4-4952-bb13-0df7a3b15b6f",
   "metadata": {},
   "outputs": [],
   "source": [
    "metadata(p2g)[[1]]$PeakName = paste(seqnames(metadata(p2g)[[1]]),\n",
    "                                    ranges(metadata(p2g)[[1]]),sep=\"-\")"
   ]
  },
  {
   "cell_type": "code",
   "execution_count": null,
   "id": "aeea3810-6735-4aff-9bd7-1697bef979d2",
   "metadata": {},
   "outputs": [],
   "source": [
    "p2g$PairName = paste(metadata(p2g)[[1]][p2g$idxATAC]$PeakName,\n",
    "                     metadata(p2g)[[2]][p2g$idxRNA]$name,\n",
    "                     sep = \"_\")"
   ]
  },
  {
   "cell_type": "code",
   "execution_count": null,
   "id": "87f975ec-6ba4-4696-ad6c-2af65da7aa54",
   "metadata": {},
   "outputs": [],
   "source": [
    "rownames(p2g) = p2g$PairName\n",
    "p2g"
   ]
  },
  {
   "cell_type": "code",
   "execution_count": null,
   "id": "c7209a32-3904-4734-93af-9c22049f652a",
   "metadata": {},
   "outputs": [],
   "source": [
    "pairs.E2G.res = pairs.E2G[pairs.E2G$PairName %in% p2g$PairName]\n",
    "mcols(pairs.E2G.res)[,c(\"Correlation\",\"FDR\",\"VarQATAC\",\"VarQRNA\")] = p2g[pairs.E2G.res$PairName,c(\"Correlation\",\"FDR\",\"VarQATAC\",\"VarQRNA\")]"
   ]
  },
  {
   "cell_type": "code",
   "execution_count": null,
   "id": "1ab4ed70-ce9e-4857-bd1b-63a81d27a401",
   "metadata": {},
   "outputs": [],
   "source": [
    "pairs.E2G.res"
   ]
  },
  {
   "cell_type": "markdown",
   "id": "46485351-50d7-461a-bf09-d795d5bdab84",
   "metadata": {},
   "source": [
    "Save results"
   ]
  },
  {
   "cell_type": "code",
   "execution_count": null,
   "id": "6d424e21-6a41-4422-b76c-6f1c0bda2222",
   "metadata": {},
   "outputs": [],
   "source": [
    "saveRDS(obj.ArchR,\n",
    "        paste(dir.output,\"obj.ArchR.rds\",sep = \"/\"))\n",
    "saveRDS(pairs.E2G.res,\n",
    "        paste(dir.output,\"pairs.E2G.res.rds\",sep = \"/\"))\n",
    "df.output = as.data.frame(pairs.E2G.res,row.names = NULL)\n",
    "colnames(df.output)[1] = \"chr\"\n",
    "df.output[,\"CellType\"] = \"K562\"\n",
    "df.output = df.output[,c(\"chr\",\n",
    "                         \"start\",\n",
    "                         \"end\",\n",
    "                         \"TargetGene\",\n",
    "                         \"CellType\",\n",
    "                         \"Correlation\",\n",
    "                         \"FDR\",\n",
    "                         \"VarQATAC\",\n",
    "                         \"VarQRNA\")]\n",
    "data.table::fwrite(df.output,\n",
    "                   file = paste(dir.output,\"pairs.E2G.res.tsv.gz\",sep = \"/\"),\n",
    "                   row.names = F,\n",
    "                   quote = F,\n",
    "                   sep = \"\\t\")\n",
    "pairs.E2G.res\n",
    "df.output"
   ]
  },
  {
   "cell_type": "code",
   "execution_count": null,
   "id": "4c909ed5-7321-4e69-8208-1544b371da6d",
   "metadata": {},
   "outputs": [],
   "source": [
    "sessionInfo()"
   ]
  },
  {
   "cell_type": "code",
   "execution_count": null,
   "id": "b54012ba-20d1-4787-8d0d-d851ef1744c4",
   "metadata": {},
   "outputs": [],
   "source": []
  }
 ],
 "metadata": {
  "kernelspec": {
   "display_name": "R",
   "language": "R",
   "name": "ir"
  },
  "language_info": {
   "codemirror_mode": "r",
   "file_extension": ".r",
   "mimetype": "text/x-r-source",
   "name": "R",
   "pygments_lexer": "r",
   "version": "4.3.3"
  }
 },
 "nbformat": 4,
 "nbformat_minor": 5
}
