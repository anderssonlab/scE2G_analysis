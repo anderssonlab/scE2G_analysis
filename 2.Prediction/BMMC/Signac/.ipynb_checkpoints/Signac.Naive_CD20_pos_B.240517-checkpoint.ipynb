{
 "cells": [
  {
   "cell_type": "code",
   "execution_count": null,
   "id": "dc89309f-ebd0-4f9c-a1f1-5d354337fd99",
   "metadata": {},
   "outputs": [
    {
     "name": "stderr",
     "output_type": "stream",
     "text": [
      "Loading required package: SeuratObject\n",
      "\n",
      "Loading required package: sp\n",
      "\n",
      "‘SeuratObject’ was built under R 4.3.2 but the current version is\n",
      "4.3.3; it is recomended that you reinstall ‘SeuratObject’ as the ABI\n",
      "for R may have changed\n",
      "\n",
      "‘SeuratObject’ was built with package ‘Matrix’ 1.6.3 but the current\n",
      "version is 1.6.5; it is recomended that you reinstall ‘SeuratObject’ as\n",
      "the ABI for ‘Matrix’ may have changed\n",
      "\n",
      "\n",
      "Attaching package: ‘SeuratObject’\n",
      "\n",
      "\n",
      "The following object is masked from ‘package:base’:\n",
      "\n",
      "    intersect\n",
      "\n",
      "\n"
     ]
    }
   ],
   "source": [
    "library(Seurat)\n",
    "library(Signac)\n",
    "library(genomation)\n",
    "library(GenomicRanges)\n",
    "library(BSgenome.Hsapiens.UCSC.hg38)\n",
    "library(Matrix)\n",
    "library(parallel)\n",
    "library(foreach)"
   ]
  },
  {
   "cell_type": "markdown",
   "id": "d9817830-01bd-4fe7-bee7-45b48c6d680a",
   "metadata": {},
   "source": [
    "Specify file path"
   ]
  },
  {
   "cell_type": "code",
   "execution_count": null,
   "id": "83e2e91c-dce2-468e-826e-26a7fcd2e2e7",
   "metadata": {},
   "outputs": [],
   "source": [
    "path.pairs.E2G = \"/maps/projects/ralab_nnfc-AUDIT/people/lpm537/software/scE2G_pipeline/240508/sc-E2G/test/results_BMMC/CD8_pos_T/Kendall/Pairs.tsv.gz\"\n",
    "path.matrix.atac_count = \"/maps/projects/ralab_nnfc-AUDIT/people/lpm537/software/scE2G_pipeline/240508/sc-E2G/test/results_BMMC/CD8_pos_T/Kendall/atac_matrix.csv.gz\"\n",
    "path.matrix.rna_count = \"/maps/projects/ralab_nnfc-AUDIT/people/lpm537/project/E2G/analysis/E2G_240503/data/BMMC/1.prepare_data/2.seurat_pipeline.240506/RNA_count_matrix/CD8_pos_T.rna_count_matrix.csv.gz\"\n",
    "dir.output = \"/maps/projects/ralab_nnfc-AUDIT/people/lpm537/project/E2G/analysis/E2G_240503/data/BMMC/2.Genome_wide_prediction/Signac/Signac.CD8_pos_T.240517/\""
   ]
  },
  {
   "cell_type": "markdown",
   "id": "ebef0252-8532-4e6c-97c4-60ba27300877",
   "metadata": {},
   "source": [
    "Import candidate E-G pairs"
   ]
  },
  {
   "cell_type": "code",
   "execution_count": null,
   "id": "e3c47e14-f866-4d2b-934a-032c46d537f5",
   "metadata": {},
   "outputs": [],
   "source": [
    "pairs.E2G = readGeneric(path.pairs.E2G,\n",
    "                        header = T,\n",
    "                        keep.all.metadata = T)"
   ]
  },
  {
   "cell_type": "markdown",
   "id": "4b37042e-23d6-4cd8-8110-9b6a0a1b51e8",
   "metadata": {},
   "source": [
    "Import ATAC matrix"
   ]
  },
  {
   "cell_type": "code",
   "execution_count": null,
   "id": "0b752808-a40f-40fe-b92a-5c404763fe8b",
   "metadata": {},
   "outputs": [],
   "source": [
    "matrix.atac = read.csv(path.matrix.atac_count,\n",
    "                       row.names = 1,\n",
    "                       check.names = F)\n",
    "matrix.atac = Matrix(as.matrix(matrix.atac), sparse = TRUE)"
   ]
  },
  {
   "cell_type": "markdown",
   "id": "deda5367-2072-4a08-8c2f-b7b1077c8964",
   "metadata": {},
   "source": [
    "Import RNA matrix"
   ]
  },
  {
   "cell_type": "code",
   "execution_count": null,
   "id": "8c3df281-40e5-4514-802e-0cb9c4178dab",
   "metadata": {},
   "outputs": [],
   "source": [
    "matrix.rna_count = read.csv(path.matrix.rna_count,\n",
    "                            row.names = 1,\n",
    "                            check.names = F)\n",
    "matrix.rna_count = Matrix(as.matrix(matrix.rna_count), sparse = TRUE)\n",
    "matrix.rna_count = matrix.rna_count[,colnames(matrix.atac)]\n",
    "matrix.rna = NormalizeData(matrix.rna_count)\n",
    "rm(matrix.rna_count)"
   ]
  },
  {
   "cell_type": "markdown",
   "id": "c8fed8ea-0592-4f54-b8ab-968c851c7364",
   "metadata": {},
   "source": [
    "Prepare background data"
   ]
  },
  {
   "cell_type": "code",
   "execution_count": null,
   "id": "182b731c-f3dd-4961-908d-687fcd85f320",
   "metadata": {},
   "outputs": [],
   "source": [
    "bed.peak = pairs.E2G\n",
    "mcols(bed.peak) = NULL\n",
    "bed.peak = unique(bed.peak)\n",
    "bed.peak = bed.peak[seqnames(bed.peak) %in% paste(\"chr\",c(1:22,\"X\",\"Y\"), sep = \"\")]\n",
    "bed.peak"
   ]
  },
  {
   "cell_type": "code",
   "execution_count": null,
   "id": "72d4d7f7-8d2b-465b-ae40-65e1529fdc05",
   "metadata": {},
   "outputs": [],
   "source": [
    "meta.features = RegionStats(bed.peak,\n",
    "                            genome = BSgenome.Hsapiens.UCSC.hg38)\n",
    "rownames(meta.features) = paste(bed.peak@seqnames,bed.peak@ranges,sep = \"-\")\n",
    "meta.features$seqnames = as.character(bed.peak@seqnames)\n",
    "meta.features = cbind(meta.features,\n",
    "                      FindTopFeatures(matrix.atac)[rownames(meta.features),])\n",
    "meta.features"
   ]
  },
  {
   "cell_type": "markdown",
   "id": "3e64b3ad-165a-43c0-95f0-d791726d2269",
   "metadata": {},
   "source": [
    "Run Signac prediction"
   ]
  },
  {
   "cell_type": "code",
   "execution_count": null,
   "id": "ee9b9bc9-8627-4fc2-a56e-0e1e6640fb2f",
   "metadata": {},
   "outputs": [],
   "source": [
    "PredictionSignac = function(pairs.E2G,\n",
    "                            data.RNA,\n",
    "                            data.ATAC,\n",
    "                            meta.features,\n",
    "                            n_sample = 200,\n",
    "                            cor_method = qlcMatrix::corSparse,\n",
    "                            n.core = 16){\n",
    "  \n",
    "  \n",
    "  my.cluster <- parallel::makeCluster(\n",
    "    n.core,\n",
    "    type = \"PSOCK\"\n",
    "  )\n",
    "  doParallel::registerDoParallel(cl = my.cluster)\n",
    "  \n",
    "  pairs.E2G =  \n",
    "    foreach (gene.tmp = unique(pairs.E2G$TargetGene),\n",
    "             .combine = 'c',\n",
    "             .packages = c(\"Signac\",\n",
    "                           \"Matrix\")) %dopar% {\n",
    "                             \n",
    "                             pairs.E2G.tmp = pairs.E2G[pairs.E2G$TargetGene == gene.tmp]\n",
    "                             \n",
    "                             data.RNA.tmp.t = t(data.RNA[gene.tmp, \n",
    "                                                         , drop = FALSE])\n",
    "                             data.ATAC.tmp.t = t(data.ATAC[pairs.E2G.tmp$PeakName, \n",
    "                                                           , drop = FALSE])\n",
    "                             \n",
    "                             coef.result <- cor_method(X = data.ATAC.tmp.t, \n",
    "                                                       Y = data.RNA.tmp.t)\n",
    "                             \n",
    "                             \n",
    "                             meta.features.bg <- meta.features[!meta.features$seqnames %in% as.character(seqnames(pairs.E2G.tmp)), ]\n",
    "                             meta.features.peaks <- meta.features[pairs.E2G.tmp$PeakName, ]\n",
    "                             bg.peaks <- lapply(X = seq_len(length.out = nrow(x = meta.features.peaks)), \n",
    "                                                FUN = function(x) {\n",
    "                                                  MatchRegionStats(meta.feature = meta.features.bg, \n",
    "                                                                   query.feature = meta.features.peaks[x, , drop = FALSE], \n",
    "                                                                   features.match = c(\"GC.percent\", \"count\", \"sequence.length\"), \n",
    "                                                                   n = n_sample, \n",
    "                                                                   verbose = FALSE)\n",
    "                                                })\n",
    "                             data.ATAC.bg.t <- t(data.ATAC[unlist(x = bg.peaks),, \n",
    "                                                           drop = FALSE])\n",
    "                             bg.coef <- cor_method(X = data.ATAC.bg.t, Y = data.RNA.tmp.t)\n",
    "                             rownames(bg.coef) <- colnames(data.ATAC.bg.t)\n",
    "                             for (j in seq(length(pairs.E2G.tmp))) {\n",
    "                               coef.use <- bg.coef[(((j - 1) * n_sample) + \n",
    "                                                      1):(j * n_sample), ]\n",
    "                               z <- (coef.result[j] - mean(x = coef.use))/sd(x = coef.use)\n",
    "                               pairs.E2G.tmp[j]$zscore <- z\n",
    "                             }\n",
    "                             pairs.E2G.tmp$pvalue = 1 - pnorm(pairs.E2G.tmp$zscore)\n",
    "                             pairs.E2G.tmp\n",
    "                           }\n",
    "  \n",
    "  parallel::stopCluster(cl = my.cluster)\n",
    "  \n",
    "  return(pairs.E2G)\n",
    "}"
   ]
  },
  {
   "cell_type": "code",
   "execution_count": null,
   "id": "bf793c7b-1c1e-48d2-8407-77cc3bbc2c10",
   "metadata": {},
   "outputs": [],
   "source": [
    "pairs.E2G.filter = pairs.E2G[pairs.E2G$TargetGene %in% rownames(matrix.rna) &\n",
    "                             pairs.E2G$PeakName %in% rownames(matrix.atac)]\n",
    "mcols(pairs.E2G.filter)[,c(\"zscore\",\"pvalue\")] = NA\n",
    "pairs.E2G.filter"
   ]
  },
  {
   "cell_type": "code",
   "execution_count": null,
   "id": "2593bcdf-0fa6-4b5e-bb38-0e05021672e0",
   "metadata": {},
   "outputs": [],
   "source": [
    "start_time <- Sys.time()\n",
    "pairs.E2G.res = PredictionSignac(pairs.E2G.filter,\n",
    "                                 matrix.rna,\n",
    "                                 matrix.atac,\n",
    "                                 meta.features,\n",
    "                                 16)\n",
    "end_time <- Sys.time()\n",
    "execution_time <- end_time - start_time\n",
    "execution_time"
   ]
  },
  {
   "cell_type": "markdown",
   "id": "8df0f6c8-01aa-4bd0-b9c0-6b9b42a66b5f",
   "metadata": {},
   "source": [
    "Save results"
   ]
  },
  {
   "cell_type": "code",
   "execution_count": null,
   "id": "4e4a0749-b3d9-4a4d-817d-ae0684654896",
   "metadata": {},
   "outputs": [],
   "source": [
    "dir.create(dir.output,recursive = T)\n",
    "saveRDS(pairs.E2G.res,\n",
    "        paste(dir.output,\"pairs.E2G.res.rds\",sep = \"/\"))\n",
    "pairs.E2G.res"
   ]
  },
  {
   "cell_type": "code",
   "execution_count": null,
   "id": "00a8aa6e-70fc-4c0a-add3-e501dd37f3e3",
   "metadata": {},
   "outputs": [],
   "source": [
    "df.output = as.data.frame(pairs.E2G.res)\n",
    "colnames(df.output)[1] = \"chr\"\n",
    "df.output[,\"CellType\"] = \"K562\"\n",
    "data.table::fwrite(df.output,\n",
    "                   file = paste(dir.output,\"pairs.E2G.res.tsv.gz\",sep = \"/\"),\n",
    "                   row.names = F,\n",
    "                   quote = F,\n",
    "                   sep = \"\\t\")\n",
    "df.output"
   ]
  },
  {
   "cell_type": "code",
   "execution_count": null,
   "id": "1932e7b2-e909-4df3-8097-650f387c9ea2",
   "metadata": {},
   "outputs": [],
   "source": [
    "sessionInfo()"
   ]
  },
  {
   "cell_type": "code",
   "execution_count": null,
   "id": "b1c849d6-1307-4b9e-a1b2-2d1ae9445932",
   "metadata": {},
   "outputs": [],
   "source": []
  }
 ],
 "metadata": {
  "kernelspec": {
   "display_name": "R",
   "language": "R",
   "name": "ir"
  },
  "language_info": {
   "codemirror_mode": "r",
   "file_extension": ".r",
   "mimetype": "text/x-r-source",
   "name": "R",
   "pygments_lexer": "r",
   "version": "4.3.3"
  }
 },
 "nbformat": 4,
 "nbformat_minor": 5
}
