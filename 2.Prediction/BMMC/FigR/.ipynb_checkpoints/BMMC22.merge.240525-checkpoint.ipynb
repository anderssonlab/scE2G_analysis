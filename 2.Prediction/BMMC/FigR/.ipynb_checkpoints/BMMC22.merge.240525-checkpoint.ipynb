{
 "cells": [
  {
   "cell_type": "code",
   "execution_count": 1,
   "id": "3a1e63f9-7479-4a30-83ea-381f1ecdbe50",
   "metadata": {},
   "outputs": [
    {
     "name": "stderr",
     "output_type": "stream",
     "text": [
      "Loading required package: Matrix\n",
      "\n",
      "Loading required package: SummarizedExperiment\n",
      "\n",
      "Loading required package: MatrixGenerics\n",
      "\n",
      "Loading required package: matrixStats\n",
      "\n",
      "\n",
      "Attaching package: ‘MatrixGenerics’\n",
      "\n",
      "\n",
      "The following objects are masked from ‘package:matrixStats’:\n",
      "\n",
      "    colAlls, colAnyNAs, colAnys, colAvgsPerRowSet, colCollapse,\n",
      "    colCounts, colCummaxs, colCummins, colCumprods, colCumsums,\n",
      "    colDiffs, colIQRDiffs, colIQRs, colLogSumExps, colMadDiffs,\n",
      "    colMads, colMaxs, colMeans2, colMedians, colMins, colOrderStats,\n",
      "    colProds, colQuantiles, colRanges, colRanks, colSdDiffs, colSds,\n",
      "    colSums2, colTabulates, colVarDiffs, colVars, colWeightedMads,\n",
      "    colWeightedMeans, colWeightedMedians, colWeightedSds,\n",
      "    colWeightedVars, rowAlls, rowAnyNAs, rowAnys, rowAvgsPerColSet,\n",
      "    rowCollapse, rowCounts, rowCummaxs, rowCummins, rowCumprods,\n",
      "    rowCumsums, rowDiffs, rowIQRDiffs, rowIQRs, rowLogSumExps,\n",
      "    rowMadDiffs, rowMads, rowMaxs, rowMeans2, rowMedians, rowMins,\n",
      "    rowOrderStats, rowProds, rowQuantiles, rowRanges, rowRanks,\n",
      "    rowSdDiffs, rowSds, rowSums2, rowTabulates, rowVarDiffs, rowVars,\n",
      "    rowWeightedMads, rowWeightedMeans, rowWeightedMedians,\n",
      "    rowWeightedSds, rowWeightedVars\n",
      "\n",
      "\n",
      "Loading required package: GenomicRanges\n",
      "\n",
      "Loading required package: stats4\n",
      "\n",
      "Loading required package: BiocGenerics\n",
      "\n",
      "\n",
      "Attaching package: ‘BiocGenerics’\n",
      "\n",
      "\n",
      "The following objects are masked from ‘package:stats’:\n",
      "\n",
      "    IQR, mad, sd, var, xtabs\n",
      "\n",
      "\n",
      "The following objects are masked from ‘package:base’:\n",
      "\n",
      "    anyDuplicated, aperm, append, as.data.frame, basename, cbind,\n",
      "    colnames, dirname, do.call, duplicated, eval, evalq, Filter, Find,\n",
      "    get, grep, grepl, intersect, is.unsorted, lapply, Map, mapply,\n",
      "    match, mget, order, paste, pmax, pmax.int, pmin, pmin.int,\n",
      "    Position, rank, rbind, Reduce, rownames, sapply, setdiff, sort,\n",
      "    table, tapply, union, unique, unsplit, which.max, which.min\n",
      "\n",
      "\n",
      "Loading required package: S4Vectors\n",
      "\n",
      "\n",
      "Attaching package: ‘S4Vectors’\n",
      "\n",
      "\n",
      "The following objects are masked from ‘package:Matrix’:\n",
      "\n",
      "    expand, unname\n",
      "\n",
      "\n",
      "The following object is masked from ‘package:utils’:\n",
      "\n",
      "    findMatches\n",
      "\n",
      "\n",
      "The following objects are masked from ‘package:base’:\n",
      "\n",
      "    expand.grid, I, unname\n",
      "\n",
      "\n",
      "Loading required package: IRanges\n",
      "\n",
      "Loading required package: GenomeInfoDb\n",
      "\n"
     ]
    }
   ],
   "source": [
    "library(FigR)\n",
    "library(Seurat)\n",
    "library(genomation)\n",
    "library(GenomicRanges)\n",
    "library(BSgenome.Hsapiens.UCSC.hg38)\n",
    "library(foreach)"
   ]
  },
  {
   "cell_type": "markdown",
   "id": "d53f3774-52c3-4baa-b707-5b3a0450b130",
   "metadata": {},
   "source": [
    "Specify file path"
   ]
  },
  {
   "cell_type": "code",
   "execution_count": null,
   "id": "0785f3fc-9913-428a-bea7-5710120c9328",
   "metadata": {},
   "outputs": [],
   "source": [
    "path.pairs.E2G = \"/maps/projects/ralab_nnfc-AUDIT/people/lpm537/project/E2G/analysis/E2G_240503/data/BMMC/1.prepare_data/4.merge_peaks_from_22_cell_types.240523/pairs.rds\"\n",
    "path.matrix.atac_count = \"/maps/projects/ralab_nnfc-AUDIT/people/lpm537/project/E2G/analysis/E2G_240503/data/BMMC/1.prepare_data/4.merge_peaks_from_22_cell_types.240523/matrix.atac.rds\"\n",
    "path.matrix.rna_count = \"/maps/projects/ralab_nnfc-AUDIT/people/lpm537/project/E2G/analysis/E2G_240503/data/BMMC/1.prepare_data/4.merge_peaks_from_22_cell_types.240523/matrix.rna.rds\"\n",
    "dir.output = \"/maps/projects/ralab_nnfc-AUDIT/people/lpm537/project/E2G/analysis/E2G_240503/data/BMMC/2.Genome_wide_prediction/FigR/BMMC22.merge.240525/\""
   ]
  },
  {
   "cell_type": "code",
   "execution_count": null,
   "id": "500ba317-011f-4cab-834c-de750cb7f503",
   "metadata": {},
   "outputs": [],
   "source": [
    "n.cores = 16"
   ]
  },
  {
   "cell_type": "markdown",
   "id": "9c9cdab1-486b-4539-99d3-3cd5d1d99795",
   "metadata": {},
   "source": [
    "Import candidate E-G pairs"
   ]
  },
  {
   "cell_type": "code",
   "execution_count": null,
   "id": "f5852d15-7e3f-412b-b137-7d29a6fb47b1",
   "metadata": {},
   "outputs": [],
   "source": [
    "pairs.E2G = readRDS(path.pairs.E2G)"
   ]
  },
  {
   "cell_type": "markdown",
   "id": "bcdfac67-ce32-4d9a-8f4d-65dab644ec63",
   "metadata": {},
   "source": [
    "Import ATAC matrix"
   ]
  },
  {
   "cell_type": "code",
   "execution_count": null,
   "id": "bd59feb4-3e33-4ebe-a107-f3b6d347a68e",
   "metadata": {},
   "outputs": [],
   "source": [
    "matrix.atac_count = readRDS(path.matrix.atac_count)\n",
    "matrix.atac = centerCounts(matrix.atac_count)"
   ]
  },
  {
   "cell_type": "markdown",
   "id": "a0c5cb96-2fc4-42c4-a421-fe9a5ca537da",
   "metadata": {},
   "source": [
    "Import RNA matrix"
   ]
  },
  {
   "cell_type": "code",
   "execution_count": null,
   "id": "96e10e90-9400-4cfe-bc7b-46a7eaee1fcd",
   "metadata": {},
   "outputs": [],
   "source": [
    "matrix.rna_count = readRDS(path.matrix.rna_count)\n",
    "matrix.rna_count = matrix.rna_count[,colnames(matrix.atac)]\n",
    "matrix.rna = matrix.rna_count[rowSums(matrix.rna_count) > 0,]\n",
    "matrix.rna = NormalizeData(matrix.rna)\n",
    "rm(matrix.rna_count)"
   ]
  },
  {
   "cell_type": "code",
   "execution_count": null,
   "id": "ad0f51bc-6e09-4b83-be71-560130dd0fa6",
   "metadata": {},
   "outputs": [],
   "source": [
    "pairs.E2G.filter = pairs.E2G[pairs.E2G$TargetGene %in% rownames(matrix.rna) &\n",
    "                              pairs.E2G$PeakName %in% rownames(matrix.atac)]"
   ]
  },
  {
   "cell_type": "markdown",
   "id": "b16f7d5b-eabd-4e93-b8cd-f19a54df21f2",
   "metadata": {},
   "source": [
    "Prepare FigR input data"
   ]
  },
  {
   "cell_type": "code",
   "execution_count": null,
   "id": "49c6d711-b870-4bab-869e-fd88f2f58100",
   "metadata": {},
   "outputs": [],
   "source": [
    "bed.peak = pairs.E2G\n",
    "mcols(bed.peak) = NULL\n",
    "bed.peak = unique(bed.peak)\n",
    "bed.peak$PeakName = paste(seqnames(bed.peak),\n",
    "                          start(bed.peak),\n",
    "                          end(bed.peak),\n",
    "                          sep = \"-\")\n",
    "names(bed.peak) = bed.peak$PeakName\n",
    "bed.peak = bed.peak[rownames(matrix.atac)]"
   ]
  },
  {
   "cell_type": "code",
   "execution_count": null,
   "id": "c828f792-f8d7-4054-930d-4495d04a6c97",
   "metadata": {},
   "outputs": [],
   "source": [
    "ATAC.se = SummarizedExperiment(assays = SimpleList(counts = matrix.atac_count),\n",
    "                               rowRanges = bed.peak)\n",
    "rm(matrix.atac_count)\n",
    "ATAC.se <- chromVAR::addGCBias(ATAC.se, genome = BSgenome.Hsapiens.UCSC.hg38)\n",
    "ATAC.se"
   ]
  },
  {
   "cell_type": "code",
   "execution_count": null,
   "id": "79c8b86b-7706-475a-a501-c52c7d98beb2",
   "metadata": {},
   "outputs": [],
   "source": [
    "bg <- chromVAR::getBackgroundPeaks(ATAC.se, niterations = 100)"
   ]
  },
  {
   "cell_type": "code",
   "execution_count": null,
   "id": "ff93bd06-be5a-41cc-a9bb-3372df4270b7",
   "metadata": {},
   "outputs": [],
   "source": [
    "index.gene = data.frame(gene_name = rownames(matrix.rna),\n",
    "                       index = 1:nrow(matrix.rna))\n",
    "rownames(index.gene) = index.gene$gene_name\n",
    "\n",
    "index.peak = data.frame(peak_name = rownames(matrix.atac),\n",
    "                       index = 1:nrow(matrix.atac))\n",
    "rownames(index.peak) = index.peak$peak_name"
   ]
  },
  {
   "cell_type": "markdown",
   "id": "126b2dcf-5fe7-42a4-8d71-bff93d330cc2",
   "metadata": {},
   "source": [
    "Run FigR prediction"
   ]
  },
  {
   "cell_type": "code",
   "execution_count": null,
   "id": "f6909129-c4bd-48a5-8d0d-cea5d8306efc",
   "metadata": {},
   "outputs": [],
   "source": [
    "PeakGeneCor.modified = function (ATAC, RNA, OV, ncores = 4, chunkSize = 200, metric = \"spearman\", \n",
    "    bg = NULL) \n",
    "{\n",
    "    stopifnot(ncol(ATAC) == ncol(RNA))\n",
    "    if (chunkSize > 1000) \n",
    "        stop(\"Do not specify very large chunk sizes. Please use chunkSize < 1000\")\n",
    "    # n <- length(OV)\n",
    "    n <- nrow(OV) # import OV as a dataframe instead of Hits object\n",
    "    starts <- seq(1, n, chunkSize)\n",
    "    ends <- starts + chunkSize - 1\n",
    "    ends[length(ends)] <- n\n",
    "    # OVd <- OV %>% as.data.frame() %>% dplyr::rename(Gene = \"queryHits\", \n",
    "    #     Peak = \"subjectHits\")\n",
    "    OVd <- OV %>% dplyr::rename(Gene = \"queryHits\", Peak = \"subjectHits\")\n",
    "    chunkList <- mapply(c, starts, ends, SIMPLIFY = FALSE)\n",
    "    time_elapsed <- Sys.time()\n",
    "    cat(\"Running in parallel using \", ncores, \"cores ..\\n\")\n",
    "    cat(\"Computing observed correlations ..\\n\")\n",
    "    corList <- pbmcapply::pbmclapply(X = chunkList, FUN = function(x) {\n",
    "        FigR::chunkCore(chunk = x, A = ATAC, R = RNA, O = OVd, \n",
    "            met = metric)\n",
    "    }, mc.cores = ncores)\n",
    "    if (any(unlist(sapply(corList, is.null)))) {\n",
    "        message(\"One or more of the chunk processes failed unexpectedly (returned NULL) ..\")\n",
    "        message(\"Please check to see you have enough cores/memory allocated\")\n",
    "        message(\"Also make sure you have filtered down to non-zero peaks/genes\")\n",
    "    }\n",
    "    OVd$rObs <- unlist(corList)\n",
    "    cat(\"Finished!\\n\")\n",
    "    time_elapsed <- Sys.time() - time_elapsed\n",
    "    cat(paste(\"\\nTime Elapsed: \", time_elapsed, units(time_elapsed)), \n",
    "        \"\\n\\n\")\n",
    "    if (!is.null(bg)) {\n",
    "        n_iter <- ncol(bg)\n",
    "        cat(\"Computing background correlations ..\\n\")\n",
    "        time_elapsed <- Sys.time()\n",
    "        bgCor <- foreach(i = 1:n_iter, .combine = \"cbind\", .export = c(\"chunkCore\", \n",
    "            \"t\"), .packages = c(\"pbmcapply\", \"FigR\", \"Matrix\")) %do% \n",
    "            {\n",
    "                OVdBg <- OVd[, 1:2]\n",
    "                OVdBg$Peak <- bg[OVdBg$Peak, i]\n",
    "                bgCorList <- pbmcapply::pbmclapply(X = chunkList, \n",
    "                  FUN = function(x) {\n",
    "                    chunkCore(chunk = x, A = ATAC, R = RNA, O = OVdBg, \n",
    "                      met = metric)\n",
    "                  }, mc.cores = ncores)\n",
    "                unlist(bgCorList)\n",
    "            }\n",
    "        if (sum(is.null(bgCor)) != 0 | sum(is.na(bgCor)) != 0) \n",
    "            stop(\"One or more of the chunk processes failed unexpectedly (returned NULL) .. Please check to see you have enough cores/m\\n           emory allocated\")\n",
    "        time_elapsed <- Sys.time() - time_elapsed\n",
    "        cat(paste(\"\\nTime Elapsed: \", time_elapsed, units(time_elapsed)), \n",
    "            \"\\n\\n\")\n",
    "        colnames(bgCor) <- paste0(\"rBg\", 1:ncol(bgCor))\n",
    "        OVd <- cbind(OVd, bgCor)\n",
    "    }\n",
    "    return(OVd)\n",
    "}"
   ]
  },
  {
   "cell_type": "code",
   "execution_count": null,
   "id": "2024aa79-81fb-480d-8523-36bc72fbc65b",
   "metadata": {},
   "outputs": [],
   "source": [
    "dir.create(paste(dir.output,\"chr\",sep = \"/\"),recursive = T)"
   ]
  },
  {
   "cell_type": "code",
   "execution_count": null,
   "id": "926aa663-820b-4a81-b814-58945f5aa364",
   "metadata": {},
   "outputs": [],
   "source": [
    "chr.done = dir(paste(dir.output,\"chr\",sep = \"/\"))\n",
    "chr.run = as.character(unique(seqnames(pairs.E2G.filter)))\n",
    "chr.run = chr.run[!chr.run %in% chr.done]"
   ]
  },
  {
   "cell_type": "code",
   "execution_count": null,
   "id": "17822bf5-e813-4429-9527-30ed50efbc2f",
   "metadata": {},
   "outputs": [],
   "source": [
    "for(chr.tmp in chr.run){\n",
    "  print(chr.tmp)\n",
    "  pairs.E2G.chr.res = pairs.E2G.filter[seqnames(pairs.E2G.filter) == chr.tmp]\n",
    "  genePeakOv.chr <- data.frame(queryHits = index.gene[pairs.E2G.chr.res$TargetGene, \"index\"],\n",
    "                               subjectHits = index.peak[pairs.E2G.chr.res$PeakName, \"index\"])\n",
    "  ObsCor.chr = PeakGeneCor.modified(ATAC = matrix.atac, \n",
    "                                    RNA = matrix.rna,\n",
    "                                    OV = genePeakOv.chr, \n",
    "                                    chunkSize = 500,\n",
    "                                    ncores = n.cores, \n",
    "                                    bg = bg)\n",
    "  pairs.E2G.chr.res$rObs = ObsCor.chr[,\"rObs\"]\n",
    "  pairs.E2G.chr.res$rBgSD <- matrixStats::rowSds(as.matrix(ObsCor.chr[, 4:103]))\n",
    "  pairs.E2G.chr.res$rBgMean <- rowMeans(ObsCor.chr[, 4:103])\n",
    "  pairs.E2G.chr.res$pvalZ <- 1 - stats::pnorm(q = pairs.E2G.chr.res$rObs, \n",
    "                                              mean = pairs.E2G.chr.res$rBgMean,\n",
    "                                              sd = pairs.E2G.chr.res$rBgSD)\n",
    "  saveRDS(pairs.E2G.chr.res,\n",
    "          paste(dir.output,\"chr\",chr.tmp,sep = \"/\"))\n",
    "  rm (pairs.E2G.chr.res)\n",
    "}"
   ]
  },
  {
   "cell_type": "markdown",
   "id": "da9d1451-54e0-49e0-ae8b-cd0158115820",
   "metadata": {},
   "source": [
    "Merge results"
   ]
  },
  {
   "cell_type": "code",
   "execution_count": null,
   "id": "6b4278f1-7d9d-402f-95c6-f274a6befea3",
   "metadata": {},
   "outputs": [],
   "source": [
    "chr.merge = as.character(unique(seqnames(pairs.E2G.filter)))\n",
    "list.res = list()\n",
    "for(chr.tmp in chr.merge){\n",
    "    list.res[[chr.tmp]] = readRDS(paste(dir.output,\"chr\",chr.tmp,sep = \"/\"))\n",
    "}\n",
    "pairs.E2G.res = unlist(as(list.res, \"GRangesList\"))"
   ]
  },
  {
   "cell_type": "markdown",
   "id": "b387943f-773e-4f6a-8938-b6e7d91181ac",
   "metadata": {},
   "source": [
    "Save results"
   ]
  },
  {
   "cell_type": "code",
   "execution_count": null,
   "id": "48824f05-aedd-476c-88d6-ae58d1833fc9",
   "metadata": {},
   "outputs": [],
   "source": [
    "saveRDS(pairs.E2G.res,\n",
    "        paste(dir.output,\"pairs.E2G.res.rds\",sep = \"/\"))\n",
    "pairs.E2G.res"
   ]
  },
  {
   "cell_type": "code",
   "execution_count": null,
   "id": "2297128a-9ed6-42b8-90c7-459969fb5afd",
   "metadata": {},
   "outputs": [],
   "source": [
    "df.output = as.data.frame(pairs.E2G.res,row.names = NULL)\n",
    "colnames(df.output)[1] = \"chr\"\n",
    "df.output[,\"CellType\"] = \"K562\"\n",
    "df.output = df.output[,c(\"chr\",\n",
    "                         \"start\",\n",
    "                         \"end\",\n",
    "                         \"TargetGene\",\n",
    "                         \"CellType\",\n",
    "                         \"rObs\",\n",
    "                         \"rBgSD\",\n",
    "                         \"rBgMean\",\n",
    "                         \"pvalZ\")]\n",
    "data.table::fwrite(df.output,\n",
    "                   file = paste(dir.output,\"pairs.E2G.res.tsv.gz\",sep = \"/\"),\n",
    "                   row.names = F,\n",
    "                   quote = F,\n",
    "                   sep = \"\\t\")\n",
    "df.output"
   ]
  },
  {
   "cell_type": "code",
   "execution_count": null,
   "id": "4d77c58e-215a-408d-8495-c68c72f559c3",
   "metadata": {},
   "outputs": [],
   "source": [
    "sessionInfo()"
   ]
  },
  {
   "cell_type": "code",
   "execution_count": null,
   "id": "3c1a0283-11d6-4df1-bbd8-7b47e9e8ead8",
   "metadata": {},
   "outputs": [],
   "source": []
  }
 ],
 "metadata": {
  "kernelspec": {
   "display_name": "R",
   "language": "R",
   "name": "ir"
  },
  "language_info": {
   "codemirror_mode": "r",
   "file_extension": ".r",
   "mimetype": "text/x-r-source",
   "name": "R",
   "pygments_lexer": "r",
   "version": "4.3.3"
  }
 },
 "nbformat": 4,
 "nbformat_minor": 5
}
