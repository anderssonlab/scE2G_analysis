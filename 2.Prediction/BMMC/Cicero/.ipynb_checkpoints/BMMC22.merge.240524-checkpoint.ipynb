{
 "cells": [
  {
   "cell_type": "code",
   "execution_count": null,
   "id": "06be0d64-02fe-42dc-accf-e8ad50645518",
   "metadata": {},
   "outputs": [
    {
     "name": "stderr",
     "output_type": "stream",
     "text": [
      "Loading required package: monocle3\n",
      "\n",
      "Loading required package: Biobase\n",
      "\n",
      "Loading required package: BiocGenerics\n",
      "\n",
      "\n",
      "Attaching package: ‘BiocGenerics’\n",
      "\n",
      "\n",
      "The following objects are masked from ‘package:stats’:\n",
      "\n",
      "    IQR, mad, sd, var, xtabs\n",
      "\n",
      "\n",
      "The following objects are masked from ‘package:base’:\n",
      "\n",
      "    anyDuplicated, aperm, append, as.data.frame, basename, cbind,\n",
      "    colnames, dirname, do.call, duplicated, eval, evalq, Filter, Find,\n",
      "    get, grep, grepl, intersect, is.unsorted, lapply, Map, mapply,\n",
      "    match, mget, order, paste, pmax, pmax.int, pmin, pmin.int,\n",
      "    Position, rank, rbind, Reduce, rownames, sapply, setdiff, sort,\n",
      "    table, tapply, union, unique, unsplit, which.max, which.min\n",
      "\n",
      "\n",
      "Welcome to Bioconductor\n",
      "\n",
      "    Vignettes contain introductory material; view with\n",
      "    'browseVignettes()'. To cite Bioconductor, see\n",
      "    'citation(\"Biobase\")', and for packages 'citation(\"pkgname\")'.\n",
      "\n",
      "\n",
      "Loading required package: SingleCellExperiment\n",
      "\n",
      "Loading required package: SummarizedExperiment\n",
      "\n",
      "Loading required package: MatrixGenerics\n",
      "\n",
      "Loading required package: matrixStats\n",
      "\n",
      "\n",
      "Attaching package: ‘matrixStats’\n",
      "\n",
      "\n",
      "The following objects are masked from ‘package:Biobase’:\n",
      "\n",
      "    anyMissing, rowMedians\n",
      "\n",
      "\n",
      "\n",
      "Attaching package: ‘MatrixGenerics’\n",
      "\n",
      "\n",
      "The following objects are masked from ‘package:matrixStats’:\n",
      "\n",
      "    colAlls, colAnyNAs, colAnys, colAvgsPerRowSet, colCollapse,\n",
      "    colCounts, colCummaxs, colCummins, colCumprods, colCumsums,\n",
      "    colDiffs, colIQRDiffs, colIQRs, colLogSumExps, colMadDiffs,\n",
      "    colMads, colMaxs, colMeans2, colMedians, colMins, colOrderStats,\n",
      "    colProds, colQuantiles, colRanges, colRanks, colSdDiffs, colSds,\n",
      "    colSums2, colTabulates, colVarDiffs, colVars, colWeightedMads,\n",
      "    colWeightedMeans, colWeightedMedians, colWeightedSds,\n",
      "    colWeightedVars, rowAlls, rowAnyNAs, rowAnys, rowAvgsPerColSet,\n",
      "    rowCollapse, rowCounts, rowCummaxs, rowCummins, rowCumprods,\n",
      "    rowCumsums, rowDiffs, rowIQRDiffs, rowIQRs, rowLogSumExps,\n",
      "    rowMadDiffs, rowMads, rowMaxs, rowMeans2, rowMedians, rowMins,\n",
      "    rowOrderStats, rowProds, rowQuantiles, rowRanges, rowRanks,\n",
      "    rowSdDiffs, rowSds, rowSums2, rowTabulates, rowVarDiffs, rowVars,\n",
      "    rowWeightedMads, rowWeightedMeans, rowWeightedMedians,\n",
      "    rowWeightedSds, rowWeightedVars\n",
      "\n",
      "\n",
      "The following object is masked from ‘package:Biobase’:\n",
      "\n",
      "    rowMedians\n",
      "\n",
      "\n",
      "Loading required package: GenomicRanges\n",
      "\n",
      "Loading required package: stats4\n",
      "\n",
      "Loading required package: S4Vectors\n",
      "\n"
     ]
    }
   ],
   "source": [
    "library(cicero)\n",
    "library(Seurat)\n",
    "library(Signac)\n",
    "library(magrittr)\n",
    "library(genomation)\n",
    "library(GenomicRanges)\n",
    "library(Matrix)\n",
    "library(ggplot2)"
   ]
  },
  {
   "cell_type": "markdown",
   "id": "baed675d-a8d6-42c8-b52b-e173cafe8ff4",
   "metadata": {},
   "source": [
    "Specify file path"
   ]
  },
  {
   "cell_type": "code",
   "execution_count": null,
   "id": "1ecc5bfc-cf84-44da-a8f7-7004556ce882",
   "metadata": {},
   "outputs": [],
   "source": [
    "path.seurat = \"/maps/projects/ralab_nnfc-AUDIT/people/lpm537/project/E2G/analysis/E2G_240503/data/BMMC/1.prepare_data/5.merge_peaks_from_5_super_groups.240524/obj.seurat.rds\"\n",
    "path.matrix.atac_count = \"/maps/projects/ralab_nnfc-AUDIT/people/lpm537/project/E2G/analysis/E2G_240503/data/BMMC/1.prepare_data/5.merge_peaks_from_5_super_groups.240524/matrix.atac.5_super_groups.rds\"\n",
    "path.pairs.E2G = \"/maps/projects/ralab_nnfc-AUDIT/people/lpm537/project/E2G/analysis/E2G_240503/data/BMMC/1.prepare_data/5.merge_peaks_from_5_super_groups.240524/pairs.rds\"\n",
    "path.TSS1kb = \"/maps/projects/ralab_nnfc-AUDIT/people/lpm537/software/scE2G_pipeline/240508/sc-E2G/test/results_K562_Xu/K562/Neighborhoods/GeneList.TSS1kb.bed\"\n",
    "path.chrom.sizes = \"/maps/projects/ralab_nnfc-AUDIT/people/lpm537/software/scE2G_pipeline/240508/sc-E2G/ENCODE_rE2G/ABC/reference/hg38/GRCh38_EBV.chrom.sizes.tsv\"\n",
    "dir.output = \"/maps/projects/ralab_nnfc-AUDIT/people/lpm537/project/E2G/analysis/E2G_240503/data/BMMC/2.Genome_wide_prediction/Cicero/BMMC5.merge.240524/\""
   ]
  },
  {
   "cell_type": "code",
   "execution_count": null,
   "id": "ed754f0e-2b80-4dc1-bb51-2fe1971909d3",
   "metadata": {},
   "outputs": [],
   "source": [
    "distance_constraint = 5000000 # same as ABC\n",
    "window = 10000000 # twice of distance_constraint"
   ]
  },
  {
   "cell_type": "markdown",
   "id": "d04b9609-d385-4580-885c-13beaa8f47db",
   "metadata": {},
   "source": [
    "Import seurat object"
   ]
  },
  {
   "cell_type": "code",
   "execution_count": null,
   "id": "6381f69a-d7db-4c17-a2d1-7181dff2d5e5",
   "metadata": {},
   "outputs": [],
   "source": [
    "obj.seurat = readRDS(path.seurat)"
   ]
  },
  {
   "cell_type": "markdown",
   "id": "cf60b346-63ea-4cc8-8956-aa2f6c38ba2e",
   "metadata": {},
   "source": [
    "Import ATAC matrix"
   ]
  },
  {
   "cell_type": "code",
   "execution_count": null,
   "id": "4415be7e-bacb-4943-9d6c-7b49a4ada664",
   "metadata": {},
   "outputs": [],
   "source": [
    "matrix.atac_count = readRDS(path.matrix.atac_count)\n",
    "matrix.atac = BinarizeCounts(matrix.atac_count)\n",
    "rm(matrix.atac_count)"
   ]
  },
  {
   "cell_type": "markdown",
   "id": "dff59502-d075-46af-84bb-843ddda7a233",
   "metadata": {},
   "source": [
    "Import candidate E-G pairs"
   ]
  },
  {
   "cell_type": "code",
   "execution_count": null,
   "id": "32518afa-23c1-4803-85be-999cc933d0bf",
   "metadata": {},
   "outputs": [],
   "source": [
    "pairs.E2G = readRDS(path.pairs.E2G"
   ]
  },
  {
   "cell_type": "markdown",
   "id": "6d637b15-6f62-4a99-a418-308391e3ec64",
   "metadata": {},
   "source": [
    "Import TSS1kb regions"
   ]
  },
  {
   "cell_type": "code",
   "execution_count": null,
   "id": "f21986b5-907c-4844-b0d6-e9dc0e099007",
   "metadata": {},
   "outputs": [],
   "source": [
    "bed.TSS1kb = readGeneric(path.TSS1kb,\n",
    "                         header = F,\n",
    "                         keep.all.metadata = T)\n",
    "bed.TSS1kb"
   ]
  },
  {
   "cell_type": "markdown",
   "id": "d9f3eb9b-7f11-4bfa-b6cf-0174d658dfc2",
   "metadata": {},
   "source": [
    "Create a Cicero CDS"
   ]
  },
  {
   "cell_type": "code",
   "execution_count": null,
   "id": "1e39eb7e-e6ad-4b79-a347-04a12fcde710",
   "metadata": {},
   "outputs": [],
   "source": [
    "cellinfo = obj.seurat@meta.data\n",
    "cellinfo[,\"cell\"] = cellinfo[,\"sample_barcode\"]\n",
    "cellinfo"
   ]
  },
  {
   "cell_type": "code",
   "execution_count": null,
   "id": "f4042580-2907-4d6d-9f9c-76bceeb7953a",
   "metadata": {},
   "outputs": [],
   "source": [
    "peakinfo = do.call(rbind,\n",
    "                   strsplit(rownames(matrix.atac),\"-\"))\n",
    "peakinfo = as.data.frame(peakinfo)\n",
    "names(peakinfo) <- c(\"chr\", \"bp1\", \"bp2\")\n",
    "peakinfo$site_name <- paste(peakinfo$chr, peakinfo$bp1, peakinfo$bp2, sep=\"-\")\n",
    "row.names(peakinfo) <- peakinfo$site_name                   \n",
    "peakinfo"
   ]
  },
  {
   "cell_type": "code",
   "execution_count": null,
   "id": "9005021a-e933-49d4-9f58-4783a31a9cf5",
   "metadata": {},
   "outputs": [],
   "source": [
    "input_cds <-  suppressWarnings(new_cell_data_set(matrix.atac,\n",
    "                               cell_metadata = cellinfo,\n",
    "                               gene_metadata = peakinfo))"
   ]
  },
  {
   "cell_type": "code",
   "execution_count": null,
   "id": "dc611bb0-5d54-472e-8925-0b732f0ac526",
   "metadata": {},
   "outputs": [],
   "source": [
    "input_cds <- monocle3::detect_genes(input_cds)\n",
    "#Ensure there are no peaks included with zero reads\n",
    "input_cds <- input_cds[Matrix::rowSums(exprs(input_cds)) != 0,] "
   ]
  },
  {
   "cell_type": "code",
   "execution_count": null,
   "id": "9f4e88bd-5e2f-4107-8b6d-2113d9da389a",
   "metadata": {},
   "outputs": [],
   "source": [
    "set.seed(2017)\n",
    "input_cds <- detect_genes(input_cds)\n",
    "input_cds <- estimate_size_factors(input_cds)\n",
    "input_cds <- preprocess_cds(input_cds, method = \"LSI\")\n",
    "input_cds <- reduce_dimension(input_cds, reduction_method = 'UMAP', \n",
    "                              preprocess_method = \"LSI\")"
   ]
  },
  {
   "cell_type": "code",
   "execution_count": null,
   "id": "e3842a84-727e-4f60-a93e-249df5354bde",
   "metadata": {},
   "outputs": [],
   "source": [
    "plot_cells(input_cds)"
   ]
  },
  {
   "cell_type": "code",
   "execution_count": null,
   "id": "e2ab67fa-676c-40c3-a849-20d76d81af2c",
   "metadata": {},
   "outputs": [],
   "source": [
    "umap_coords <- reducedDims(input_cds)$UMAP\n",
    "cicero_cds <- make_cicero_cds(input_cds, reduced_coordinates = umap_coords)"
   ]
  },
  {
   "cell_type": "markdown",
   "id": "7c5d3e62-0d5f-4d1a-ad05-dd1e118ad9b0",
   "metadata": {},
   "source": [
    "Run Cicero"
   ]
  },
  {
   "cell_type": "code",
   "execution_count": null,
   "id": "8b2abb40-1a8b-4b07-9987-6f85fcfa9236",
   "metadata": {},
   "outputs": [],
   "source": [
    "human.hg38.genome = read.table(path.chrom.sizes,\n",
    "                               header = F)\n",
    "human.hg38.genome"
   ]
  },
  {
   "cell_type": "code",
   "execution_count": null,
   "id": "b4d1d3ca-04e3-4c2b-9a99-143a327499bc",
   "metadata": {},
   "outputs": [],
   "source": [
    "start_time <- Sys.time()\n",
    "distance_parameters <- estimate_distance_parameter(cicero_cds, \n",
    "                                                   window = window, \n",
    "                                                   maxit = 100, \n",
    "                                                   sample_num = 100, \n",
    "                                                   distance_constraint = distance_constraint,\n",
    "                                                   distance_parameter_convergence = 1e-22, \n",
    "                                                   genomic_coords = human.hg38.genome)\n",
    "mean_distance_parameter <- mean(unlist(distance_parameters))\n",
    "end_time <- Sys.time()\n",
    "execution_time1 <- end_time - start_time"
   ]
  },
  {
   "cell_type": "code",
   "execution_count": null,
   "id": "d8319c10-092b-4bb8-ad38-34e56c44ddcd",
   "metadata": {},
   "outputs": [],
   "source": [
    "execution_time1"
   ]
  },
  {
   "cell_type": "code",
   "execution_count": null,
   "id": "5a8e2daa-41e1-490e-a825-377bc609c86f",
   "metadata": {},
   "outputs": [],
   "source": [
    "start_time <- Sys.time()\n",
    "cicero_out <- generate_cicero_models(cicero_cds, \n",
    "                                     distance_parameter = mean_distance_parameter, \n",
    "                                     window = window, \n",
    "                                     genomic_coords = human.hg38.genome)\n",
    "end_time <- Sys.time()\n",
    "execution_time2 <- end_time - start_time"
   ]
  },
  {
   "cell_type": "code",
   "execution_count": null,
   "id": "3fb3b7d0-87ef-4914-af97-f6967f523206",
   "metadata": {},
   "outputs": [],
   "source": [
    "execution_time2"
   ]
  },
  {
   "cell_type": "code",
   "execution_count": null,
   "id": "67b6984b-63dc-4f32-bfe1-3a9da389ff53",
   "metadata": {},
   "outputs": [],
   "source": [
    "start_time <- Sys.time()\n",
    "all_cons <- assemble_connections(cicero_out, \n",
    "                                 silent = FALSE)\n",
    "end_time <- Sys.time()\n",
    "execution_time3 <- end_time - start_time"
   ]
  },
  {
   "cell_type": "code",
   "execution_count": null,
   "id": "aab38e7d-08f5-42d9-ab22-d78c2ca903a6",
   "metadata": {},
   "outputs": [],
   "source": [
    "execution_time3"
   ]
  },
  {
   "cell_type": "code",
   "execution_count": null,
   "id": "cd8303f4-3821-4242-ab05-782e65e10b0f",
   "metadata": {},
   "outputs": [],
   "source": [
    "all_cons"
   ]
  },
  {
   "cell_type": "code",
   "execution_count": null,
   "id": "7f0f24ce-44f5-40e6-bd7f-3dc136f5eef1",
   "metadata": {},
   "outputs": [],
   "source": [
    "cicero_out"
   ]
  },
  {
   "cell_type": "code",
   "execution_count": null,
   "id": "0239386b-757a-40bf-9d1c-caaee15e58ca",
   "metadata": {},
   "outputs": [],
   "source": []
  }
 ],
 "metadata": {
  "kernelspec": {
   "display_name": "R",
   "language": "R",
   "name": "ir"
  },
  "language_info": {
   "codemirror_mode": "r",
   "file_extension": ".r",
   "mimetype": "text/x-r-source",
   "name": "R",
   "pygments_lexer": "r",
   "version": "4.3.3"
  }
 },
 "nbformat": 4,
 "nbformat_minor": 5
}
