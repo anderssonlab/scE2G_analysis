{
 "cells": [
  {
   "cell_type": "code",
   "execution_count": 1,
   "id": "131db1b9-2cfc-4f9f-8c22-daef4ba457fd",
   "metadata": {},
   "outputs": [
    {
     "name": "stdout",
     "output_type": "stream",
     "text": [
      "2025-03-17 17:26:46,466 SCENIC+      INFO     Reading cisTopic object.\n",
      "2025-03-17 17:26:47,320 SCENIC+      INFO     Reading gene expression AnnData.\n",
      "2025-03-17 17:26:48,201 Ingesting multiome data INFO     Found 7821 multiome cells.\n",
      "2025-03-17 17:26:48,265 cisTopic     INFO     Imputing region accessibility\n",
      "2025-03-17 17:26:48,265 cisTopic     INFO     Impute region accessibility for regions 0-20000\n",
      "2025-03-17 17:26:49,150 cisTopic     INFO     Impute region accessibility for regions 20000-40000\n",
      "2025-03-17 17:26:50,148 cisTopic     INFO     Impute region accessibility for regions 40000-60000\n",
      "2025-03-17 17:26:51,185 cisTopic     INFO     Impute region accessibility for regions 60000-80000\n",
      "2025-03-17 17:26:52,270 cisTopic     INFO     Impute region accessibility for regions 80000-100000\n",
      "2025-03-17 17:26:53,254 cisTopic     INFO     Impute region accessibility for regions 100000-120000\n",
      "2025-03-17 17:26:54,325 cisTopic     INFO     Impute region accessibility for regions 120000-140000\n",
      "2025-03-17 17:26:55,571 cisTopic     INFO     Impute region accessibility for regions 140000-160000\n",
      "2025-03-17 17:26:56,282 cisTopic     INFO     Done!\n",
      "... storing 'sample_id' as categorical\n",
      "... storing 'Chromosome' as categorical\n",
      "\u001b[0m"
     ]
    }
   ],
   "source": [
    "!scenicplus prepare_data prepare_GEX_ACC \\\n",
    "    --cisTopic_obj_fname outs/cistopic_obj.pkl \\\n",
    "    --GEX_anndata_fname adata.250317.h5ad \\\n",
    "    --out_file outs/ACC_GEX.250317.h5mu \\\n",
    "    --bc_transform_func \"lambda x: f'{x}___cisTopic'\""
   ]
  },
  {
   "cell_type": "markdown",
   "id": "8ed90f12-ab62-4d02-8886-769370174d19",
   "metadata": {},
   "source": [
    "Replace first '-' with ':' in region names"
   ]
  },
  {
   "cell_type": "code",
   "execution_count": 2,
   "id": "d6fb2954-60d8-4a31-a185-bedc0ccab689",
   "metadata": {},
   "outputs": [
    {
     "name": "stderr",
     "output_type": "stream",
     "text": [
      "/maps/projects/ralab/people/lpm537/software/anaconda3/envs/scenicplus_240606/lib/python3.11/site-packages/anndata/_core/anndata.py:522: FutureWarning: The dtype argument is deprecated and will be removed in late 2024.\n",
      "  warnings.warn(\n",
      "/maps/projects/ralab/people/lpm537/software/anaconda3/envs/scenicplus_240606/lib/python3.11/site-packages/anndata/_core/anndata.py:522: FutureWarning: The dtype argument is deprecated and will be removed in late 2024.\n",
      "  warnings.warn(\n"
     ]
    }
   ],
   "source": [
    "import mudata\n",
    "mdata = mudata.read('outs/ACC_GEX.250317.h5mu')\n",
    "mdata[\"scATAC\"].var_names = mdata[\"scATAC\"].var_names.str.replace('-', ':', n=1)\n",
    "mdata.write(\"outs/ACC_GEX.rename.250317.h5mu\")"
   ]
  },
  {
   "cell_type": "code",
   "execution_count": 3,
   "id": "9a4f9541-d111-4170-bf01-40d3c376f5ad",
   "metadata": {},
   "outputs": [
    {
     "name": "stdout",
     "output_type": "stream",
     "text": [
      "2025-03-17 17:28:00,187 SCENIC+      INFO     Reading data\n",
      "/maps/projects/ralab/people/lpm537/software/anaconda3/envs/scenicplus_240606/lib/python3.11/site-packages/anndata/_core/anndata.py:522: FutureWarning: The dtype argument is deprecated and will be removed in late 2024.\n",
      "  warnings.warn(\n",
      "/maps/projects/ralab/people/lpm537/software/anaconda3/envs/scenicplus_240606/lib/python3.11/site-packages/anndata/_core/anndata.py:522: FutureWarning: The dtype argument is deprecated and will be removed in late 2024.\n",
      "  warnings.warn(\n",
      "2025-03-17 17:28:09,063 Get search space INFO     Extending promoter annotation to 10 bp upstream and 10 downstream\n",
      "2025-03-17 17:28:09,198 Get search space INFO     Extending search space to:\n",
      "            \t\t\t\t\t\t1000000 bp downstream of the end of the gene.\n",
      "            \t\t\t\t\t\t1000000 bp upstream of the start of the gene.\n",
      "2025-03-17 17:28:09,829 Get search space INFO     Intersecting with regions.\n",
      "2025-03-17 17:28:14,557 Get search space INFO     Calculating distances from region to gene\n",
      "2025-03-17 17:31:30,221 Get search space INFO     Imploding multiple entries per region and gene\n",
      "2025-03-17 17:37:46,507 SCENIC+      INFO     Writing search space to: outs/search_space.1000000.250317.tsv\n",
      "\u001b[0m"
     ]
    }
   ],
   "source": [
    "!scenicplus prepare_data search_spance \\\n",
    "    --multiome_mudata_fname outs/ACC_GEX.rename.h5mu \\\n",
    "    --gene_annotation_fname /maps/projects/ralab_nnfc-AUDIT/people/lpm537/software/scenicplus_240606/genome_annotation.abc.tsv \\\n",
    "    --chromsizes_fname /maps/projects/ralab_nnfc-AUDIT/people/lpm537/software/scenicplus_240606/chromsizes.tsv\\\n",
    "    --out_fname outs/search_space.1000000.250317.tsv\\\n",
    "    --upstream 1000 1000000 \\\n",
    "    --downstream 1000 1000000\\\n",
    "    --extend_tss 10 10"
   ]
  },
  {
   "cell_type": "code",
   "execution_count": 4,
   "id": "223f9126-94e0-4e18-8296-f7155d6a8702",
   "metadata": {},
   "outputs": [],
   "source": [
    "!mkdir -p temp_dir"
   ]
  },
  {
   "cell_type": "code",
   "execution_count": 5,
   "id": "a946a47a-e267-45b8-aaf0-5ae36097977c",
   "metadata": {},
   "outputs": [
    {
     "name": "stdout",
     "output_type": "stream",
     "text": [
      "2025-03-17 17:38:11,098 SCENIC+      INFO     Reading multiome MuData.\n",
      "/maps/projects/ralab/people/lpm537/software/anaconda3/envs/scenicplus_240606/lib/python3.11/site-packages/anndata/_core/anndata.py:522: FutureWarning: The dtype argument is deprecated and will be removed in late 2024.\n",
      "  warnings.warn(\n",
      "/maps/projects/ralab/people/lpm537/software/anaconda3/envs/scenicplus_240606/lib/python3.11/site-packages/anndata/_core/anndata.py:522: FutureWarning: The dtype argument is deprecated and will be removed in late 2024.\n",
      "  warnings.warn(\n",
      "2025-03-17 17:38:17,918 SCENIC+      INFO     Reading search space\n",
      "2025-03-17 17:38:19,758 R2G          INFO     Calculating region to gene importances, using GBM method\n",
      "Running using 16 cores: 100%|███████████| 19450/19450 [1:12:19<00:00,  4.48it/s]\n",
      "2025-03-17 18:53:42,907 R2G          INFO     Calculating region to gene correlation, using SR method\n",
      "Running using 16 cores:   0%|                | 37/19450 [00:00<04:23, 73.56it/s]/maps/projects/ralab/people/lpm537/software/anaconda3/envs/scenicplus_240606/lib/python3.11/site-packages/scenicplus/enhancer_to_gene.py:158: ConstantInputWarning: An input array is constant; the correlation coefficient is not defined.\n",
      "  correlation_result = np.array([correlator(x, exp) for x in acc.T])\n",
      "/maps/projects/ralab/people/lpm537/software/anaconda3/envs/scenicplus_240606/lib/python3.11/site-packages/scenicplus/enhancer_to_gene.py:158: ConstantInputWarning: An input array is constant; the correlation coefficient is not defined.\n",
      "  correlation_result = np.array([correlator(x, exp) for x in acc.T])\n",
      "Running using 16 cores:   0%|                | 57/19450 [00:00<03:50, 84.12it/s]/maps/projects/ralab/people/lpm537/software/anaconda3/envs/scenicplus_240606/lib/python3.11/site-packages/scenicplus/enhancer_to_gene.py:158: ConstantInputWarning: An input array is constant; the correlation coefficient is not defined.\n",
      "  correlation_result = np.array([correlator(x, exp) for x in acc.T])\n",
      "Running using 16 cores:   1%|▏              | 175/19450 [00:08<23:54, 13.44it/s]/maps/projects/ralab/people/lpm537/software/anaconda3/envs/scenicplus_240606/lib/python3.11/site-packages/scenicplus/enhancer_to_gene.py:158: ConstantInputWarning: An input array is constant; the correlation coefficient is not defined.\n",
      "  correlation_result = np.array([correlator(x, exp) for x in acc.T])\n",
      "Running using 16 cores:   1%|▏              | 182/19450 [00:09<26:57, 11.92it/s]/maps/projects/ralab/people/lpm537/software/anaconda3/envs/scenicplus_240606/lib/python3.11/site-packages/scenicplus/enhancer_to_gene.py:158: ConstantInputWarning: An input array is constant; the correlation coefficient is not defined.\n",
      "  correlation_result = np.array([correlator(x, exp) for x in acc.T])\n",
      "Running using 16 cores:   1%|▏              | 236/19450 [00:11<14:15, 22.46it/s]/maps/projects/ralab/people/lpm537/software/anaconda3/envs/scenicplus_240606/lib/python3.11/site-packages/scenicplus/enhancer_to_gene.py:158: ConstantInputWarning: An input array is constant; the correlation coefficient is not defined.\n",
      "  correlation_result = np.array([correlator(x, exp) for x in acc.T])\n",
      "Running using 16 cores:   1%|▏              | 262/19450 [00:13<20:40, 15.47it/s]/maps/projects/ralab/people/lpm537/software/anaconda3/envs/scenicplus_240606/lib/python3.11/site-packages/scenicplus/enhancer_to_gene.py:158: ConstantInputWarning: An input array is constant; the correlation coefficient is not defined.\n",
      "  correlation_result = np.array([correlator(x, exp) for x in acc.T])\n",
      "Running using 16 cores:   1%|▏              | 285/19450 [00:14<16:46, 19.04it/s]/maps/projects/ralab/people/lpm537/software/anaconda3/envs/scenicplus_240606/lib/python3.11/site-packages/scenicplus/enhancer_to_gene.py:158: ConstantInputWarning: An input array is constant; the correlation coefficient is not defined.\n",
      "  correlation_result = np.array([correlator(x, exp) for x in acc.T])\n",
      "Running using 16 cores:   2%|▏              | 301/19450 [00:15<14:59, 21.29it/s]/maps/projects/ralab/people/lpm537/software/anaconda3/envs/scenicplus_240606/lib/python3.11/site-packages/scenicplus/enhancer_to_gene.py:158: ConstantInputWarning: An input array is constant; the correlation coefficient is not defined.\n",
      "  correlation_result = np.array([correlator(x, exp) for x in acc.T])\n",
      "Running using 16 cores:   2%|▎              | 336/19450 [00:18<22:54, 13.90it/s]/maps/projects/ralab/people/lpm537/software/anaconda3/envs/scenicplus_240606/lib/python3.11/site-packages/scenicplus/enhancer_to_gene.py:158: ConstantInputWarning: An input array is constant; the correlation coefficient is not defined.\n",
      "  correlation_result = np.array([correlator(x, exp) for x in acc.T])\n",
      "Running using 16 cores:   2%|▎              | 368/19450 [00:20<20:01, 15.89it/s]/maps/projects/ralab/people/lpm537/software/anaconda3/envs/scenicplus_240606/lib/python3.11/site-packages/scenicplus/enhancer_to_gene.py:158: ConstantInputWarning: An input array is constant; the correlation coefficient is not defined.\n",
      "  correlation_result = np.array([correlator(x, exp) for x in acc.T])\n",
      "Running using 16 cores:   2%|▎              | 387/19450 [00:20<17:55, 17.73it/s]/maps/projects/ralab/people/lpm537/software/anaconda3/envs/scenicplus_240606/lib/python3.11/site-packages/scenicplus/enhancer_to_gene.py:158: ConstantInputWarning: An input array is constant; the correlation coefficient is not defined.\n",
      "  correlation_result = np.array([correlator(x, exp) for x in acc.T])\n",
      "Running using 16 cores:   2%|▎              | 458/19450 [00:24<18:54, 16.74it/s]/maps/projects/ralab/people/lpm537/software/anaconda3/envs/scenicplus_240606/lib/python3.11/site-packages/scenicplus/enhancer_to_gene.py:158: ConstantInputWarning: An input array is constant; the correlation coefficient is not defined.\n",
      "  correlation_result = np.array([correlator(x, exp) for x in acc.T])\n",
      "Running using 16 cores:   3%|▍              | 608/19450 [00:34<20:52, 15.05it/s]/maps/projects/ralab/people/lpm537/software/anaconda3/envs/scenicplus_240606/lib/python3.11/site-packages/scenicplus/enhancer_to_gene.py:158: ConstantInputWarning: An input array is constant; the correlation coefficient is not defined.\n",
      "  correlation_result = np.array([correlator(x, exp) for x in acc.T])\n",
      "Running using 16 cores:   3%|▌              | 672/19450 [00:38<24:01, 13.03it/s]/maps/projects/ralab/people/lpm537/software/anaconda3/envs/scenicplus_240606/lib/python3.11/site-packages/scenicplus/enhancer_to_gene.py:158: ConstantInputWarning: An input array is constant; the correlation coefficient is not defined.\n",
      "  correlation_result = np.array([correlator(x, exp) for x in acc.T])\n",
      "Running using 16 cores:   4%|▌              | 797/19450 [00:47<22:36, 13.75it/s]/maps/projects/ralab/people/lpm537/software/anaconda3/envs/scenicplus_240606/lib/python3.11/site-packages/scenicplus/enhancer_to_gene.py:158: ConstantInputWarning: An input array is constant; the correlation coefficient is not defined.\n",
      "  correlation_result = np.array([correlator(x, exp) for x in acc.T])\n",
      "Running using 16 cores: 100%|█████████████| 19450/19450 [17:26<00:00, 18.59it/s]\n",
      "2025-03-17 19:13:48,137 R2G          INFO     Done!\n",
      "2025-03-17 19:13:48,597 SCENIC+      INFO     Saving region to gene adjacencies to outs/region_to_gene_adj.1000000.250317.tsv\n",
      "\u001b[0m\u001b[0m\u001b[0m\u001b[0m\u001b[0m\u001b[0m\u001b[0m\u001b[0m\u001b[0m\u001b[0m\u001b[0m\u001b[0m\u001b[0m\u001b[0m\u001b[0m\u001b[0m\u001b[0m"
     ]
    }
   ],
   "source": [
    "!scenicplus grn_inference region_to_gene \\\n",
    "    --multiome_mudata_fname outs/ACC_GEX.rename.250317.h5mu \\\n",
    "    --search_space_fname outs/search_space.1000000.250317.tsv \\\n",
    "    --out_region_to_gene_adjacencies outs/region_to_gene_adj.1000000.250317.tsv \\\n",
    "    --importance_scoring_method GBM \\\n",
    "    --correlation_scoring_method SR \\\n",
    "    --n_cpu 16 \\\n",
    "    --temp_dir temp_dir"
   ]
  },
  {
   "cell_type": "markdown",
   "id": "54172aa1-ed6f-43b9-9e52-ef9cd94c3299",
   "metadata": {},
   "source": [
    "Using default TSS distance = 150000 setting"
   ]
  },
  {
   "cell_type": "code",
   "execution_count": 6,
   "id": "8b6f74a9-9103-4fd0-b193-56fa359b3378",
   "metadata": {},
   "outputs": [
    {
     "name": "stdout",
     "output_type": "stream",
     "text": [
      "2025-03-17 19:14:27,295 SCENIC+      INFO     Reading data\n",
      "/maps/projects/ralab/people/lpm537/software/anaconda3/envs/scenicplus_240606/lib/python3.11/site-packages/anndata/_core/anndata.py:522: FutureWarning: The dtype argument is deprecated and will be removed in late 2024.\n",
      "  warnings.warn(\n",
      "/maps/projects/ralab/people/lpm537/software/anaconda3/envs/scenicplus_240606/lib/python3.11/site-packages/anndata/_core/anndata.py:522: FutureWarning: The dtype argument is deprecated and will be removed in late 2024.\n",
      "  warnings.warn(\n",
      "2025-03-17 19:14:34,421 Get search space INFO     Extending promoter annotation to 10 bp upstream and 10 downstream\n",
      "2025-03-17 19:14:34,565 Get search space INFO     Extending search space to:\n",
      "            \t\t\t\t\t\t150000 bp downstream of the end of the gene.\n",
      "            \t\t\t\t\t\t150000 bp upstream of the start of the gene.\n",
      "2025-03-17 19:14:35,232 Get search space INFO     Intersecting with regions.\n",
      "2025-03-17 19:14:36,387 Get search space INFO     Calculating distances from region to gene\n",
      "2025-03-17 19:15:23,194 Get search space INFO     Imploding multiple entries per region and gene\n",
      "2025-03-17 19:16:40,473 SCENIC+      INFO     Writing search space to: outs/search_space.150000.250317.tsv\n",
      "\u001b[0m"
     ]
    }
   ],
   "source": [
    "!scenicplus prepare_data search_spance \\\n",
    "    --multiome_mudata_fname outs/ACC_GEX.rename.250317.h5mu \\\n",
    "    --gene_annotation_fname /maps/projects/ralab_nnfc-AUDIT/people/lpm537/software/scenicplus_240606/genome_annotation.abc.tsv \\\n",
    "    --chromsizes_fname /maps/projects/ralab_nnfc-AUDIT/people/lpm537/software/scenicplus_240606/chromsizes.tsv\\\n",
    "    --out_fname outs/search_space.150000.250317.tsv\\\n",
    "    --upstream 1000 150000 \\\n",
    "    --downstream 1000 150000\\\n",
    "    --extend_tss 10 10"
   ]
  },
  {
   "cell_type": "code",
   "execution_count": 7,
   "id": "f6b5384e-1990-4eb9-b82c-c5808be5be8c",
   "metadata": {},
   "outputs": [
    {
     "name": "stdout",
     "output_type": "stream",
     "text": [
      "2025-03-17 19:17:02,790 SCENIC+      INFO     Reading multiome MuData.\n",
      "/maps/projects/ralab/people/lpm537/software/anaconda3/envs/scenicplus_240606/lib/python3.11/site-packages/anndata/_core/anndata.py:522: FutureWarning: The dtype argument is deprecated and will be removed in late 2024.\n",
      "  warnings.warn(\n",
      "/maps/projects/ralab/people/lpm537/software/anaconda3/envs/scenicplus_240606/lib/python3.11/site-packages/anndata/_core/anndata.py:522: FutureWarning: The dtype argument is deprecated and will be removed in late 2024.\n",
      "  warnings.warn(\n",
      "2025-03-17 19:17:11,150 SCENIC+      INFO     Reading search space\n",
      "2025-03-17 19:17:11,616 R2G          INFO     Calculating region to gene importances, using GBM method\n",
      "Running using 16 cores: 100%|█████████████| 19811/19811 [21:05<00:00, 15.66it/s]\n",
      "2025-03-17 19:39:06,807 R2G          INFO     Calculating region to gene correlation, using SR method\n",
      "Running using 16 cores:   0%|               | 29/19811 [00:00<01:08, 289.95it/s]/maps/projects/ralab/people/lpm537/software/anaconda3/envs/scenicplus_240606/lib/python3.11/site-packages/scenicplus/enhancer_to_gene.py:158: ConstantInputWarning: An input array is constant; the correlation coefficient is not defined.\n",
      "  correlation_result = np.array([correlator(x, exp) for x in acc.T])\n",
      "/maps/projects/ralab/people/lpm537/software/anaconda3/envs/scenicplus_240606/lib/python3.11/site-packages/scenicplus/enhancer_to_gene.py:158: ConstantInputWarning: An input array is constant; the correlation coefficient is not defined.\n",
      "  correlation_result = np.array([correlator(x, exp) for x in acc.T])\n",
      "/maps/projects/ralab/people/lpm537/software/anaconda3/envs/scenicplus_240606/lib/python3.11/site-packages/scenicplus/enhancer_to_gene.py:158: ConstantInputWarning: An input array is constant; the correlation coefficient is not defined.\n",
      "  correlation_result = np.array([correlator(x, exp) for x in acc.T])\n",
      "Running using 16 cores:   1%|▏              | 192/19811 [00:01<03:58, 82.21it/s]/maps/projects/ralab/people/lpm537/software/anaconda3/envs/scenicplus_240606/lib/python3.11/site-packages/scenicplus/enhancer_to_gene.py:158: ConstantInputWarning: An input array is constant; the correlation coefficient is not defined.\n",
      "  correlation_result = np.array([correlator(x, exp) for x in acc.T])\n",
      "/maps/projects/ralab/people/lpm537/software/anaconda3/envs/scenicplus_240606/lib/python3.11/site-packages/scenicplus/enhancer_to_gene.py:158: ConstantInputWarning: An input array is constant; the correlation coefficient is not defined.\n",
      "  correlation_result = np.array([correlator(x, exp) for x in acc.T])\n",
      "Running using 16 cores:   1%|▏              | 256/19811 [00:02<03:47, 86.11it/s]/maps/projects/ralab/people/lpm537/software/anaconda3/envs/scenicplus_240606/lib/python3.11/site-packages/scenicplus/enhancer_to_gene.py:158: ConstantInputWarning: An input array is constant; the correlation coefficient is not defined.\n",
      "  correlation_result = np.array([correlator(x, exp) for x in acc.T])\n",
      "Running using 16 cores:   1%|▏              | 288/19811 [00:02<03:38, 89.29it/s]/maps/projects/ralab/people/lpm537/software/anaconda3/envs/scenicplus_240606/lib/python3.11/site-packages/scenicplus/enhancer_to_gene.py:158: ConstantInputWarning: An input array is constant; the correlation coefficient is not defined.\n",
      "  correlation_result = np.array([correlator(x, exp) for x in acc.T])\n",
      "/maps/projects/ralab/people/lpm537/software/anaconda3/envs/scenicplus_240606/lib/python3.11/site-packages/scenicplus/enhancer_to_gene.py:158: ConstantInputWarning: An input array is constant; the correlation coefficient is not defined.\n",
      "  correlation_result = np.array([correlator(x, exp) for x in acc.T])\n",
      "/maps/projects/ralab/people/lpm537/software/anaconda3/envs/scenicplus_240606/lib/python3.11/site-packages/scenicplus/enhancer_to_gene.py:158: ConstantInputWarning: An input array is constant; the correlation coefficient is not defined.\n",
      "  correlation_result = np.array([correlator(x, exp) for x in acc.T])\n",
      "Running using 16 cores:   2%|▏              | 320/19811 [00:03<03:30, 92.67it/s]/maps/projects/ralab/people/lpm537/software/anaconda3/envs/scenicplus_240606/lib/python3.11/site-packages/scenicplus/enhancer_to_gene.py:158: ConstantInputWarning: An input array is constant; the correlation coefficient is not defined.\n",
      "  correlation_result = np.array([correlator(x, exp) for x in acc.T])\n",
      "Running using 16 cores:   2%|▎              | 352/19811 [00:03<03:34, 90.83it/s]/maps/projects/ralab/people/lpm537/software/anaconda3/envs/scenicplus_240606/lib/python3.11/site-packages/scenicplus/enhancer_to_gene.py:158: ConstantInputWarning: An input array is constant; the correlation coefficient is not defined.\n",
      "  correlation_result = np.array([correlator(x, exp) for x in acc.T])\n",
      "Running using 16 cores:   3%|▍              | 576/19811 [00:06<03:36, 88.67it/s]/maps/projects/ralab/people/lpm537/software/anaconda3/envs/scenicplus_240606/lib/python3.11/site-packages/scenicplus/enhancer_to_gene.py:158: ConstantInputWarning: An input array is constant; the correlation coefficient is not defined.\n",
      "  correlation_result = np.array([correlator(x, exp) for x in acc.T])\n",
      "Running using 16 cores:   3%|▌              | 672/19811 [00:07<03:31, 90.55it/s]/maps/projects/ralab/people/lpm537/software/anaconda3/envs/scenicplus_240606/lib/python3.11/site-packages/scenicplus/enhancer_to_gene.py:158: ConstantInputWarning: An input array is constant; the correlation coefficient is not defined.\n",
      "  correlation_result = np.array([correlator(x, exp) for x in acc.T])\n",
      "Running using 16 cores:   4%|▌              | 704/19811 [00:07<03:19, 95.84it/s]/maps/projects/ralab/people/lpm537/software/anaconda3/envs/scenicplus_240606/lib/python3.11/site-packages/scenicplus/enhancer_to_gene.py:158: ConstantInputWarning: An input array is constant; the correlation coefficient is not defined.\n",
      "  correlation_result = np.array([correlator(x, exp) for x in acc.T])\n",
      "Running using 16 cores:   4%|▌             | 796/19811 [00:08<02:39, 119.51it/s]/maps/projects/ralab/people/lpm537/software/anaconda3/envs/scenicplus_240606/lib/python3.11/site-packages/scenicplus/enhancer_to_gene.py:158: ConstantInputWarning: An input array is constant; the correlation coefficient is not defined.\n",
      "  correlation_result = np.array([correlator(x, exp) for x in acc.T])\n",
      "Running using 16 cores:   4%|▋              | 864/19811 [00:09<04:14, 74.38it/s]/maps/projects/ralab/people/lpm537/software/anaconda3/envs/scenicplus_240606/lib/python3.11/site-packages/scenicplus/enhancer_to_gene.py:158: ConstantInputWarning: An input array is constant; the correlation coefficient is not defined.\n",
      "  correlation_result = np.array([correlator(x, exp) for x in acc.T])\n",
      "Running using 16 cores: 100%|█████████████| 19811/19811 [04:06<00:00, 80.37it/s]\n",
      "2025-03-17 19:44:10,891 R2G          INFO     Done!\n",
      "2025-03-17 19:44:11,039 SCENIC+      INFO     Saving region to gene adjacencies to outs/region_to_gene_adj.150000.250317.tsv\n",
      "\u001b[0m\u001b[0m\u001b[0m\u001b[0m\u001b[0m\u001b[0m\u001b[0m\u001b[0m\u001b[0m\u001b[0m\u001b[0m\u001b[0m\u001b[0m\u001b[0m\u001b[0m\u001b[0m\u001b[0m"
     ]
    }
   ],
   "source": [
    "!scenicplus grn_inference region_to_gene \\\n",
    "    --multiome_mudata_fname outs/ACC_GEX.rename.250317.h5mu \\\n",
    "    --search_space_fname outs/search_space.150000.250317.tsv \\\n",
    "    --out_region_to_gene_adjacencies outs/region_to_gene_adj.150000.250317.tsv \\\n",
    "    --importance_scoring_method GBM \\\n",
    "    --correlation_scoring_method SR \\\n",
    "    --n_cpu 16 \\\n",
    "    --temp_dir temp_dir"
   ]
  }
 ],
 "metadata": {
  "kernelspec": {
   "display_name": "Python 3 (ipykernel)",
   "language": "python",
   "name": "python3"
  },
  "language_info": {
   "codemirror_mode": {
    "name": "ipython",
    "version": 3
   },
   "file_extension": ".py",
   "mimetype": "text/x-python",
   "name": "python",
   "nbconvert_exporter": "python",
   "pygments_lexer": "ipython3",
   "version": "3.11.8"
  }
 },
 "nbformat": 4,
 "nbformat_minor": 5
}
