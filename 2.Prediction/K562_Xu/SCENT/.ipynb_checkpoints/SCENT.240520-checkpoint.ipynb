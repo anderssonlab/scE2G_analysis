{
 "cells": [
  {
   "cell_type": "code",
   "execution_count": 1,
   "id": "a95d5199-2025-40dd-b7ed-9413093dd21e",
   "metadata": {},
   "outputs": [
    {
     "name": "stderr",
     "output_type": "stream",
     "text": [
      "Warning message:\n",
      "“replacing previous import ‘Hmisc::capitalize’ by ‘R.utils::capitalize’ when loading ‘SCENT’”\n",
      "Loading required package: grid\n",
      "\n",
      "Warning message:\n",
      "“replacing previous import ‘Biostrings::pattern’ by ‘grid::pattern’ when loading ‘genomation’”\n",
      "Loading required package: stats4\n",
      "\n",
      "Loading required package: BiocGenerics\n",
      "\n",
      "\n",
      "Attaching package: ‘BiocGenerics’\n",
      "\n",
      "\n",
      "The following objects are masked from ‘package:stats’:\n",
      "\n",
      "    IQR, mad, sd, var, xtabs\n",
      "\n",
      "\n",
      "The following objects are masked from ‘package:base’:\n",
      "\n",
      "    anyDuplicated, aperm, append, as.data.frame, basename, cbind,\n",
      "    colnames, dirname, do.call, duplicated, eval, evalq, Filter, Find,\n",
      "    get, grep, grepl, intersect, is.unsorted, lapply, Map, mapply,\n",
      "    match, mget, order, paste, pmax, pmax.int, pmin, pmin.int,\n",
      "    Position, rank, rbind, Reduce, rownames, sapply, setdiff, sort,\n",
      "    table, tapply, union, unique, unsplit, which.max, which.min\n",
      "\n",
      "\n",
      "Loading required package: S4Vectors\n",
      "\n",
      "\n",
      "Attaching package: ‘S4Vectors’\n",
      "\n",
      "\n",
      "The following object is masked from ‘package:utils’:\n",
      "\n",
      "    findMatches\n",
      "\n",
      "\n",
      "The following objects are masked from ‘package:base’:\n",
      "\n",
      "    expand.grid, I, unname\n",
      "\n",
      "\n",
      "Loading required package: IRanges\n",
      "\n",
      "Loading required package: GenomeInfoDb\n",
      "\n",
      "\n",
      "Attaching package: ‘Matrix’\n",
      "\n",
      "\n",
      "The following object is masked from ‘package:S4Vectors’:\n",
      "\n",
      "    expand\n",
      "\n",
      "\n"
     ]
    }
   ],
   "source": [
    "library(SCENT)\n",
    "library(Signac)\n",
    "library(genomation)\n",
    "library(GenomicRanges)\n",
    "library(Matrix)\n",
    "library(parallel)"
   ]
  },
  {
   "cell_type": "markdown",
   "id": "58764b5a-b5b3-4c2f-b257-9ed27fda79bd",
   "metadata": {},
   "source": [
    "Specify file path"
   ]
  },
  {
   "cell_type": "code",
   "execution_count": 2,
   "id": "8d7d3c05-4451-4c1b-9741-b37a4ff9a676",
   "metadata": {},
   "outputs": [],
   "source": [
    "path.pairs.E2G = \"/maps/projects/ralab_nnfc-AUDIT/people/lpm537/software/scE2G_pipeline/240508/sc-E2G/test/results_K562_Xu/K562/Kendall/Pairs.tsv.gz\"\n",
    "path.pairs.CRISPR = \"/maps/projects/ralab_nnfc-AUDIT/people/lpm537/software/CRISPR_comparison_pipeline/240506/CRISPR_comparison/resources/crispr_data/EPCrisprBenchmark_ensemble_data_GRCh38.tsv.gz\"\n",
    "path.matrix.atac_count = \"/maps/projects/ralab_nnfc-AUDIT/people/lpm537/software/scE2G_pipeline/240508/sc-E2G/test/results_K562_Xu/K562/Kendall/atac_matrix.csv.gz\"\n",
    "path.matrix.rna_count = \"/maps/projects/ralab_nnfc-AUDIT/people/lpm537/project/E2G/analysis/E2G_240503/data/K562_Xu/1.prepare_data/1.seurat_pipeline.240507/rna_count_matrix.csv.gz\"\n",
    "dir.output = \"/maps/projects/ralab_nnfc-AUDIT/people/lpm537/project/E2G/analysis/E2G_240503/data/K562_Xu/2.CRISPR_benchmarking/SCENT/SCENT.240518/\""
   ]
  },
  {
   "cell_type": "markdown",
   "id": "f08fb032-2ae2-4aac-9876-568b1cddbfdc",
   "metadata": {},
   "source": [
    "Import candidate E-G pairs"
   ]
  },
  {
   "cell_type": "code",
   "execution_count": 3,
   "id": "1cf085d9-8ca0-4697-8dd0-23012c7b83d5",
   "metadata": {},
   "outputs": [],
   "source": [
    "pairs.E2G = readGeneric(path.pairs.E2G,\n",
    "                        header = T,\n",
    "                        keep.all.metadata = T)"
   ]
  },
  {
   "cell_type": "markdown",
   "id": "c12ae7a1-7669-43ec-9e9b-f4d0609aa1b1",
   "metadata": {},
   "source": [
    "Import CRISPR validated E-G pairs"
   ]
  },
  {
   "cell_type": "code",
   "execution_count": 4,
   "id": "5f254d35-a474-4322-8b30-5b2892158ada",
   "metadata": {},
   "outputs": [],
   "source": [
    "pairs.CRISPR = readGeneric(path.pairs.CRISPR,\n",
    "                           header = T,\n",
    "                           keep.all.metadata = T)"
   ]
  },
  {
   "cell_type": "markdown",
   "id": "49701b25-9455-4038-8d0e-c748022aee80",
   "metadata": {},
   "source": [
    "Filter E-G pairs overlaping with CRISPR validated E-G pairs"
   ]
  },
  {
   "cell_type": "code",
   "execution_count": 5,
   "id": "5c7e285f-4a1e-416f-9509-1a3b8b755676",
   "metadata": {},
   "outputs": [
    {
     "name": "stderr",
     "output_type": "stream",
     "text": [
      "Warning message in .merge_two_Seqinfo_objects(x, y):\n",
      "“Each of the 2 combined objects has sequence levels not in the other:\n",
      "  - in 'x': chr1_A3GALT2, chr1_ABCD3, chr1_ABL2, chr1_ACADM, chr1_ACAP3, chr1_ACBD6, chr1_ACKR1, chr1_ACOT11, chr1_ACOT7, chr1_ACP6, chr1_ACTA1, chr1_ACTL8, chr1_ACTN2, chr1_ADAM15, chr1_ADAMTS4, chr1_ADAMTSL4, chr1_ADAMTSL4-AS1, chr1_ADCY10, chr1_ADGRB2, chr1_ADORA1, chr1_ADORA3, chr1_ADPRHL2, chr1_ADSS, chr1_AGBL4, chr1_AGL, chr1_AGO1, chr1_AGO3, chr1_AGO4, chr1_AGRN, chr1_AGT, chr1_AHCTF1, chr1_AHDC1, chr1_AIDA, chr1_AIM1L, chr1_AIM2, chr1_AK4, chr1_ALDH4A1, chr1_ALDH9A1, chr1_ALG14, chr1_ALG6, chr1_ALPL, chr1_ALX3, chr1_AMIGO1, chr1_AMPD2, chr1_ANGEL2, chr1_ANKRD13C, chr1_ANKRD34A, chr1_ANKRD35, chr1_ANKRD45, chr1_ANKRD65, chr1_ANXA9, chr1_AP4B1, chr1_APITD1-CORT, chr1_APOA2, chr1_AQP10, chr1_ARHGAP29, chr1_ARHGEF10L, chr1_ARHGEF11, chr1_ARHGEF16, chr1_ARHGEF19, chr1_ARHGEF2, chr1_ARL8A, chr1_ARNT, chr1_ARPC5, chr1_ARTN, chr1_ASAP3, chr1_ASCL5, chr1_ASH1L, chr1_ASPM, chr1_ATAD3A, chr1_ATAD3B, chr1_ATF3, chr1_ATG4C, chr1_ATP13A2, chr1_ATP1A1-AS1, chr1_ATP1B1, chr1_ATP2B4, chr1_ATP8B2, chr1_ATPAF1, chr1_ATXN7L2, chr1_AUNIP, chr1_AURKAIP1, chr1_AVPR1B, chr1_AXDND1, chr1_AZIN2, chr1_B3GALNT2, chr1_B3GALT2, chr1_B3GALT6, chr1_B4GALT2, chr1_BARHL2, chr1_BATF3, chr1_BCAN, chr1_BCAR3, chr1_BCL10, chr1_BCL2L15, chr1_BCL9, chr1_BECN2, chr1_BEST4, chr1_BGLAP, chr1_BLACAT1, chr1_BLZF1, chr1_BMP8A, chr1_BMP8B, chr1_BPNT1, chr1_BRINP3, chr1_BSND, chr1_BTBD19, chr1_BTBD8, chr1_BTG2, chr1_C1QTNF12, chr1_C1orf100, chr1_C1orf106, chr1_C1orf109, chr1_C1orf112, chr1_C1orf116, chr1_C1orf123, chr1_C1orf132, chr1_C1orf137, chr1_C1orf159, chr1_C1orf167, chr1_C1orf174, chr1_C1orf186, chr1_C1orf189, chr1_C1orf194, chr1_C1orf195, chr1_C1orf198, chr1_C1orf204, chr1_C1orf21, chr1_C1orf210, chr1_C1orf216, chr1_C1orf220, chr1_C1orf226, chr1_C1orf228, chr1_C1orf229, chr1_C1orf27, chr1_C1orf50, chr1_C1orf53, chr1_C1orf54, chr1_C1orf56, chr1_C1orf61, chr1_C1orf74, chr1_CA14, chr1_CACNA1S, chr1_CACYBP, chr1_CALML6, chr1_CAMK2N1, chr1_CAMSAP2, chr1_CAMTA1, chr1_CAPN2, chr1_CAPN9, chr1_CASP9, chr1_CASZ1, chr1_CATSPER4, chr1_CC2D1B, chr1_CCDC163, chr1_CCDC17, chr1_CCDC18, chr1_CCDC18-AS1, chr1_CCDC24, chr1_CCDC27, chr1_CCDC28B, chr1_CCNL2, chr1_CD164L2, chr1_CD247, chr1_CD52, chr1_CD53, chr1_CD84, chr1_CDA, chr1_CDC14A, chr1_CDC20, chr1_CDC42BPA, chr1_CDC42SE1, chr1_CDC7, chr1_CDC73, chr1_CDCA8, chr1_CDK11A, chr1_CDK11B, chr1_CDK18, chr1_CELA2A, chr1_CELA2B, chr1_CELA3A, chr1_CELA3B, chr1_CELF3, chr1_CELSR2, chr1_CENPF, chr1_CENPL, chr1_CENPS, chr1_CEP170, chr1_CEP85, chr1_CEPT1, chr1_CFAP126, chr1_CFAP45, chr1_CFAP57, chr1_CFAP74, chr1_CFH, chr1_CGN, chr1_CHD1L, chr1_CHD5, chr1_CHI3L1, chr1_CHRNB2, chr1_CIART, chr1_CITED4, chr1_CLCC1, chr1_CLCN6, chr1_CLCNKA, chr1_CLCNKB, chr1_CLDN19, chr1_CLIC4, chr1_CLK2, chr1_CLSTN1, chr1_CNIH3, chr1_CNKSR1, chr1_CNN3, chr1_CNR2, chr1_CNST, chr1_CNTN2, chr1_COA7, chr1_COG2, chr1_COL16A1, chr1_COL8A2, chr1_COL9A2, chr1_COLGALT2, chr1_COPA, chr1_COQ8A, chr1_CORT, chr1_CPT2, chr1_CPTP, chr1_CR1, chr1_CR1L, chr1_CR2, chr1_CRABP2, chr1_CREB3L4, chr1_CROCC, chr1_CRTC2, chr1_CRYZ, chr1_CSF1, chr1_CSF3R, chr1_CSRP1, chr1_CTBS, chr1_CTH, chr1_CTNNBIP1, chr1_CTPS1, chr1_CTRC, chr1_CTSE, chr1_CTSS, chr1_CTTNBP2NL, chr1_CYB561D1, chr1_CYB5RL, chr1_CYMP-AS1, chr1_CYR61, chr1_DAB1, chr1_DARS2, chr1_DBT, chr1_DCAF6, chr1_DCAF8, chr1_DCDC2B, chr1_DCLRE1B, chr1_DCST1, chr1_DCST2, chr1_DDI2, chr1_DDOST, chr1_DDR2, chr1_DDX20, chr1_DDX59, chr1_DEDD, chr1_DEGS1, chr1_DENND1B, chr1_DENND2C, chr1_DENND2D, chr1_DENND4B, chr1_DEPDC1, chr1_DESI2, chr1_DFFB, chr1_DHCR24, chr1_DHDDS, chr1_DHRS3, chr1_DIEXF, chr1_DIO1, chr1_DIRAS3, chr1_DISC1, chr1_DISP1, chr1_DISP3, chr1_DLGAP3, chr1_DMAP1, chr1_DMBX1, chr1_DMRTA2, chr1_DNAJB4, chr1_DNAJC11, chr1_DNAJC16, chr1_DNALI1, chr1_DNM3, chr1_DNTTIP2, chr1_DOCK7, chr1_DPH5, chr1_DPM3, chr1_DPYD, chr1_DR1, chr1_DRAXIN, chr1_DSTYK, chr1_DTL, chr1_DUSP10, chr1_DVL1, chr1_DYRK3, chr1_E2F2, chr1_ECE1, chr1_ECM1, chr1_EDARADD, chr1_EDEM3, chr1_EDN2, chr1_EFCAB14, chr1_EFCAB2, chr1_EFCAB7, chr1_EFHD2, chr1_EFNA1, chr1_EFNA3, chr1_EFNA4, chr1_EIF2D, chr1_EIF4G3, chr1_ELK4, chr1_ELOVL1, chr1_EMC1, chr1_ENAH, chr1_EPHA10, chr1_EPHA2, chr1_EPHA8, chr1_EPHB2, chr1_EPHX1, chr1_EPS8L3, chr1_ERI3, chr1_ERO1B, chr1_ERRFI1, chr1_ESPN, chr1_ETNK2, chr1_ETV3, chr1_EVA1B, chr1_EVI5, chr1_EXO1, chr1_EXO5, chr1_EXOC8, chr1_EXOSC10, chr1_EXTL1, chr1_EXTL2, chr1_EYA3, chr1_F11R, chr1_F3, chr1_F5, chr1_FAAP20, chr1_FABP3, chr1_FALEC, chr1_FAM110D, chr1_FAM129A, chr1_FAM131C, chr1_FAM151A, chr1_FAM167B, chr1_FAM177B, chr1_FAM183A, chr1_FAM189B, chr1_FAM19A3, chr1_FAM20B, chr1_FAM212B, chr1_FAM213B, chr1_FAM229A, chr1_FAM41C, chr1_FAM43B, chr1_FAM46B, chr1_FAM46C, chr1_FAM69A, chr1_FAM72A, chr1_FAM76A, chr1_FAM78B, chr1_FAM87B, chr1_FASLG, chr1_FBLIM1, chr1_FBXO2, chr1_FBXO28, chr1_FBXO42, chr1_FBXO44, chr1_FBXO6, chr1_FCER1G, chr1_FCMR, chr1_FCRLA, chr1_FCRLB, chr1_FGGY, chr1_FGR, chr1_FH, chr1_FHAD1, chr1_FLVCR1, chr1_FLVCR1-AS1, chr1_FMN2, chr1_FMO4, chr1_FMO5, chr1_FMOD, chr1_FNBP1L, chr1_FNDC10, chr1_FNDC5, chr1_FOXD2, chr1_FOXD2-AS1, chr1_FOXD3, chr1_FOXJ3, chr1_FOXO6, chr1_FPGT, chr1_FPGT-TNNI3K, chr1_FRRS1, chr1_FUBP1, chr1_FUCA1, chr1_G0S2, chr1_GABPB2, chr1_GABRD, chr1_GALNT2, chr1_GAS5, chr1_GATAD2B, chr1_GBA, chr1_GBP2, chr1_GCLM, chr1_GCSAML-AS1, chr1_GDAP2, chr1_GFI1, chr1_GJA4, chr1_GJB3, chr1_GJC2, chr1_GLMN, chr1_GLMP, chr1_GMEB1, chr1_GNAT2, chr1_GNB1, chr1_GNG12, chr1_GOLPH3L, chr1_GOLT1A, chr1_GON4L, chr1_GORAB, chr1_GPATCH2, chr1_GPATCH3, chr1_GPN2, chr1_GPR137B, chr1_GPR153, chr1_GPR157, chr1_GPR161, chr1_GPR25, chr1_GPR3, chr1_GPR37L1, chr1_GPR61, chr1_GPR89A, chr1_GPR89B, chr1_GPSM2, chr1_GRHL3, chr1_GRIK3, chr1_GSTM2, chr1_GSTM3, chr1_GSTM4, chr1_GTF2B, chr1_GUCA2A, chr1_H6PD, chr1_HAPLN2, chr1_HCN3, chr1_HCRTR1, chr1_HEATR1, chr1_HECTD3, chr1_HES2, chr1_HES3, chr1_HES4, chr1_HES5, chr1_HEYL, chr1_HFE2, chr1_HFM1, chr1_HHIPL2, chr1_HHLA3, chr1_HIPK1, chr1_HIST2H2AB, chr1_HIST2H2AC, chr1_HIST2H2BE, chr1_HIST2H2BF, chr1_HIST2H3D, chr1_HIST3H2A, chr1_HIST3H2BB, chr1_HIST3H3, chr1_HIVEP3, chr1_HLX, chr1_HMCN1, chr1_HMGCL, chr1_HPCA, chr1_HPCAL4, chr1_HPDL, chr1_HS2ST1, chr1_HSD17B7, chr1_HSD52, chr1_HSPA6, chr1_HSPB7, chr1_HSPG2, chr1_HTR6, chr1_HYI, chr1_IARS2, chr1_IBA57, chr1_IBA57-AS1, chr1_ICMT, chr1_ID3, chr1_IER5, chr1_IFFO2, chr1_IFI16, chr1_IFI6, chr1_IFNLR1, chr1_IGSF3, chr1_IGSF8, chr1_IGSF9, chr1_IKBKE, chr1_IL10, chr1_IL20, chr1_IL22RA1, chr1_IL6R, chr1_ILDR2, chr1_INPP5B, chr1_INSRR, chr1_INTS11, chr1_INTS3, chr1_INTS7, chr1_IPO13, chr1_IPO9, chr1_IPP, chr1_IQCC, chr1_IQGAP3, chr1_IRF6, chr1_ISG15, chr1_ITGA10, chr1_ITGB3BP, chr1_ITLN1, chr1_ITLN2, chr1_IVNS1ABP, chr1_JAK1, chr1_JMJD4, chr1_JUN, chr1_KAZN, chr1_KCNA2, chr1_KCNAB2, chr1_KCNC4, chr1_KCNH1, chr1_KCNJ10, chr1_KCNN3, chr1_KCNQ4, chr1_KCNT2, chr1_KCTD3, chr1_KDF1, chr1_KDM1A, chr1_KDM4A, chr1_KIAA0040, chr1_KIAA0319L, chr1_KIAA0754, chr1_KIAA1324, chr1_KIAA1522, chr1_KIAA2013, chr1_KIF14, chr1_KIF17, chr1_KIF1B, chr1_KIF21B, chr1_KIF26B, chr1_KIF2C, chr1_KIFAP3, chr1_KISS1, chr1_KLHDC7A, chr1_KLHDC9, chr1_KLHL12, chr1_KLHL17, chr1_KLHL20, chr1_KLHL21, chr1_KMO, chr1_KNCN, chr1_KPNA6, chr1_KTI12, chr1_KYAT3, chr1_LAD1, chr1_LAMB3, chr1_LAMC1, chr1_LAMTOR5-AS1, chr1_LAPTM5, chr1_LAX1, chr1_LCK, chr1_LDLRAD1, chr1_LDLRAD2, chr1_LDLRAP1, chr1_LEFTY1, chr1_LEFTY2, chr1_LENEP, chr1_LEPR, chr1_LGALS8, chr1_LGR6, chr1_LHX4, chr1_LHX9, chr1_LIN9, chr1_LINC00115, chr1_LINC00337, chr1_LINC00339, chr1_LINC00466, chr1_LINC00467, chr1_LINC00970, chr1_LINC01128, chr1_LINC01132, chr1_LINC01133, chr1_LINC01134, chr1_LINC01135, chr1_LINC01136, chr1_LINC01140, chr1_LINC01144, chr1_LINC01341, chr1_LINC01342, chr1_LINC01343, chr1_LINC01351, chr1_LINC01353, chr1_LINC01354, chr1_LINC01358, chr1_LINC01398, chr1_LINC01555, chr1_LINC01635, chr1_LINC01647, chr1_LINC01672, chr1_LINC01686, chr1_LINC01693, chr1_LINC01719, chr1_LINC01725, chr1_LINC01732, chr1_LINC01736, chr1_LINC01750, chr1_LINC01756, chr1_LINC01759, chr1_LINC01770, chr1_LINC01771, chr1_LIX1L, chr1_LMO4, chr1_LMOD1, chr1_LPGAT1, chr1_LRIG2, chr1_LRP8, chr1_LRRC40, chr1_LRRC41, chr1_LRRC42, chr1_LRRC71, chr1_LRRC8C, chr1_LRRC8D, chr1_LRRIQ3, ch”\n"
     ]
    },
    {
     "data": {
      "text/plain": [
       "GRanges object with 9107 ranges and 3 metadata columns:\n",
       "         seqnames              ranges strand |  TargetGene\n",
       "            <Rle>           <IRanges>  <Rle> | <character>\n",
       "     [1]     chr1   10387590-10388615      * |        DFFA\n",
       "     [2]     chr1 108533444-108534532      * |     FAM102B\n",
       "     [3]     chr1 108533444-108534532      * |     PRPF38B\n",
       "     [4]     chr1 108533444-108534532      * |        SARS\n",
       "     [5]     chr1 108533444-108534532      * |    TMEM167B\n",
       "     ...      ...                 ...    ... .         ...\n",
       "  [9103]     chrX   66009220-66009749      * |         MSN\n",
       "  [9104]     chrX   68584138-68584628      * |       YIPF6\n",
       "  [9105]     chrX   70969484-70970910      * |        NONO\n",
       "  [9106]     chrX   70969484-70970910      * |      PDZD11\n",
       "  [9107]     chrX   71179005-71179247      * |        NONO\n",
       "                       PeakName               PairName\n",
       "                    <character>            <character>\n",
       "     [1] chr1-10387590-10388615 chr1-10387590-103886..\n",
       "     [2] chr1-108533444-10853.. chr1-108533444-10853..\n",
       "     [3] chr1-108533444-10853.. chr1-108533444-10853..\n",
       "     [4] chr1-108533444-10853.. chr1-108533444-10853..\n",
       "     [5] chr1-108533444-10853.. chr1-108533444-10853..\n",
       "     ...                    ...                    ...\n",
       "  [9103] chrX-66009220-66009749 chrX-66009220-660097..\n",
       "  [9104] chrX-68584138-68584628 chrX-68584138-685846..\n",
       "  [9105] chrX-70969484-70970910 chrX-70969484-709709..\n",
       "  [9106] chrX-70969484-70970910 chrX-70969484-709709..\n",
       "  [9107] chrX-71179005-71179247 chrX-71179005-711792..\n",
       "  -------\n",
       "  seqinfo: 23 sequences from an unspecified genome; no seqlengths"
      ]
     },
     "metadata": {},
     "output_type": "display_data"
    }
   ],
   "source": [
    "df.pairs.E2G.chr_rename = as.data.frame(pairs.E2G)[,1:3]\n",
    "df.pairs.E2G.chr_rename[,\"seqnames\"] = paste(seqnames(pairs.E2G),\n",
    "                                          mcols(pairs.E2G)[,\"TargetGene\"],\n",
    "                                          sep = \"_\")\n",
    "pairs.E2G.chr_rename = GRanges(df.pairs.E2G.chr_rename)\n",
    "rm(df.pairs.E2G.chr_rename)\n",
    "\n",
    "df.pairs.CRISPR.chr_rename = as.data.frame(pairs.CRISPR)[,1:3]\n",
    "df.pairs.CRISPR.chr_rename[,\"seqnames\"] = paste(seqnames(pairs.CRISPR),\n",
    "                                             mcols(pairs.CRISPR)[,\"measuredGeneSymbol\"],\n",
    "                                             sep = \"_\")\n",
    "pairs.CRISPR.chr_rename = GRanges(df.pairs.CRISPR.chr_rename)\n",
    "rm(df.pairs.CRISPR.chr_rename)\n",
    "\n",
    "pairs.E2G.filter = pairs.E2G[countOverlaps(pairs.E2G.chr_rename,\n",
    "                                           pairs.CRISPR.chr_rename) > 0]\n",
    "rm(pairs.E2G.chr_rename)\n",
    "rm(pairs.CRISPR.chr_rename)\n",
    "pairs.E2G.filter"
   ]
  },
  {
   "cell_type": "markdown",
   "id": "46cd9d45-c743-4bdf-9949-ead956184a48",
   "metadata": {},
   "source": [
    "Import ATAC matrix"
   ]
  },
  {
   "cell_type": "code",
   "execution_count": 6,
   "id": "4916626b-e24e-4c35-a8b7-7ff7ea919e3f",
   "metadata": {},
   "outputs": [],
   "source": [
    "matrix.atac = read.csv(path.matrix.atac_count,\n",
    "                       row.names = 1,\n",
    "                       check.names = F)\n",
    "matrix.atac = Matrix(as.matrix(matrix.atac), sparse = TRUE)\n",
    "matrix.atac = BinarizeCounts(matrix.atac)"
   ]
  },
  {
   "cell_type": "markdown",
   "id": "7fe68436-5bc2-4b7b-8905-31bb158937ae",
   "metadata": {},
   "source": [
    "Import RNA matrix"
   ]
  },
  {
   "cell_type": "code",
   "execution_count": null,
   "id": "f09b522b-25eb-4261-b6ff-503cee699f9d",
   "metadata": {},
   "outputs": [],
   "source": [
    "matrix.rna = read.csv(path.matrix.rna_count,\n",
    "                      row.names = 1,\n",
    "                      check.names = F)\n",
    "matrix.rna = Matrix(as.matrix(matrix.rna), sparse = TRUE)\n",
    "matrix.rna = matrix.rna[,colnames(matrix.atac)]\n",
    "matrix.rna = matrix.rna[rowSums(matrix.rna) > 0,]"
   ]
  },
  {
   "cell_type": "code",
   "execution_count": null,
   "id": "ebe4037c-18d2-4b87-b2a7-0680e03f84d9",
   "metadata": {},
   "outputs": [],
   "source": [
    "pairs.E2G.filter2 = pairs.E2G.filter[pairs.E2G.filter$TargetGene %in% rownames(matrix.rna) &\n",
    "                                     pairs.E2G.filter$PeakName %in% rownames(matrix.atac)]"
   ]
  },
  {
   "cell_type": "markdown",
   "id": "d5e4fee1-4724-48b7-af77-3774c101466a",
   "metadata": {},
   "source": [
    "Create SCENT object"
   ]
  },
  {
   "cell_type": "code",
   "execution_count": null,
   "id": "47d6762d-cb19-405d-8da0-539b3938c593",
   "metadata": {},
   "outputs": [],
   "source": [
    "meta.data = data.frame(cell = colnames(matrix.rna),\n",
    "                       nUMI = colSums(matrix.rna),\n",
    "                       nMito = colSums(matrix.rna[grep(\"MT-\",rownames(matrix.rna)),]),\n",
    "                       celltype = \"K562\")\n",
    "meta.data[,\"log.nUMI\"] = log(meta.data[,\"nUMI\"])\n",
    "meta.data[,\"percent.mito\"] = meta.data[,\"nMito\"] / meta.data[,\"nUMI\"]\n",
    "meta.data"
   ]
  },
  {
   "cell_type": "code",
   "execution_count": null,
   "id": "8847b928-03b8-4d1a-9924-5fba940d23bc",
   "metadata": {},
   "outputs": [],
   "source": [
    "gene_peak = as.data.frame(mcols(pairs.E2G.filter2)[,c(\"TargetGene\",\"PeakName\")])\n",
    "gene_peak"
   ]
  },
  {
   "cell_type": "markdown",
   "id": "f3ffb6fb-ffff-41cb-a466-eee2adff0bcf",
   "metadata": {},
   "source": [
    "RUN SCENT prediction"
   ]
  },
  {
   "cell_type": "code",
   "execution_count": null,
   "id": "a3ac2082-53f3-415b-9da7-f1955ed7a1fe",
   "metadata": {},
   "outputs": [],
   "source": [
    "SCENT_algorithm.modified = function (object, \n",
    "                                     # celltype, \n",
    "                                     # ncores, \n",
    "                                     # regr = \"poisson\", \n",
    "                                     # bin = TRUE) \n",
    "                                     regr = \"poisson\") {\n",
    "    res <- data.frame()\n",
    "    for (n in 1:nrow(object@peak.info)) {        \n",
    "        gene <- object@peak.info[n, 1]\n",
    "        this_peak <- object@peak.info[n, 2]\n",
    "        atac_target <- data.frame(cell = colnames(object@atac), \n",
    "            atac = object@atac[this_peak, ])\n",
    "        # if (bin) {\n",
    "        #     atac_target[atac_target$atac > 0, ]$atac <- 1\n",
    "        # }\n",
    "        mrna_target <- object@rna[gene, ]\n",
    "        df <- data.frame(cell = names(mrna_target), exprs = as.numeric(mrna_target))\n",
    "        df <- merge(df, atac_target, by = \"cell\")\n",
    "        df <- merge(df, object@meta.data, by = \"cell\")\n",
    "        # df2 <- df[df[[object@celltypes]] == celltype, ]\n",
    "        df2 <- df\n",
    "        # nonzero_m <- length(df2$exprs[df2$exprs > 0])/length(df2$exprs)\n",
    "        # nonzero_a <- length(df2$atac[df2$atac > 0])/length(df2$atac)\n",
    "        # if (nonzero_m > 0.05 & nonzero_a > 0.05) {\n",
    "        if (1) {\n",
    "            res_var <- \"exprs\"\n",
    "            pred_var <- c(\"atac\", object@covariates)\n",
    "            formula <- as.formula(paste(res_var, paste(pred_var, \n",
    "                collapse = \"+\"), sep = \"~\"))\n",
    "            if (regr == \"poisson\") {\n",
    "                base = glm(formula, family = \"poisson\", data = df2)\n",
    "                coefs <- summary(base)$coefficients[\"atac\", ]\n",
    "                # assoc <- assoc_poisson\n",
    "                assoc <- SCENT::assoc_poisson\n",
    "            }\n",
    "            else if (regr == \"negbin\") {\n",
    "                base = glm.nb(formula, data = df2)\n",
    "                coefs <- summary(base)$coefficients[\"atac\", ]\n",
    "                # assoc <- assoc_negbin\n",
    "                assoc <- SCENT::assoc_negbin\n",
    "            }\n",
    "            bs = boot::boot(df2, assoc, R = 100, formula = formula, \n",
    "                stype = \"i\", parallel = \"no\", ncpus = 1)\n",
    "            # p0 = basic_p(bs$t0[1], bs$t[, 1])\n",
    "            p0 = SCENT::basic_p(bs$t0[1], bs$t[, 1])\n",
    "            if (p0 < 0.1) {\n",
    "                bs = boot::boot(df2, assoc, R = 500, formula = formula, \n",
    "                  stype = \"i\", \n",
    "                  # parallel = \"multicore\", ncpus = ncores)\n",
    "                  parallel = \"no\", ncpus = 1)\n",
    "                # p0 = basic_p(bs$t0[1], bs$t[, 1])\n",
    "                p0 = SCENT::basic_p(bs$t0[1], bs$t[, 1])\n",
    "            }\n",
    "            if (p0 < 0.05) {\n",
    "                bs = boot::boot(df2, assoc, R = 2500, formula = formula, \n",
    "                  stype = \"i\", \n",
    "                  # parallel = \"multicore\", ncpus = ncores)\n",
    "                  parallel = \"no\", ncpus = 1)\n",
    "                # p0 = basic_p(bs$t0[1], bs$t[, 1])\n",
    "                p0 = SCENT::basic_p(bs$t0[1], bs$t[, 1])\n",
    "            }\n",
    "            if (p0 < 0.01) {\n",
    "                bs = boot::boot(df2, assoc, R = 25000, formula = formula, \n",
    "                  stype = \"i\", \n",
    "                  # parallel = \"multicore\", ncpus = ncores)\n",
    "                  parallel = \"no\", ncpus = 1)\n",
    "                # p0 = basic_p(bs$t0[1], bs$t[, 1])\n",
    "                p0 = SCENT::basic_p(bs$t0[1], bs$t[, 1])\n",
    "            }\n",
    "            if (p0 < 0.001) {\n",
    "                bs = boot::boot(df2, assoc, R = 50000, formula = formula, \n",
    "                  stype = \"i\", \n",
    "                  # parallel = \"multicore\", ncpus = ncores)\n",
    "                  parallel = \"no\", ncpus = 1)\n",
    "                # p0 = basic_p(bs$t0[1], bs$t[, 1])\n",
    "                p0 = SCENT::basic_p(bs$t0[1], bs$t[, 1])\n",
    "            }\n",
    "            out <- data.frame(gene = gene, peak = this_peak, \n",
    "                beta = coefs[1], se = coefs[2], z = coefs[3], \n",
    "                p = coefs[4], boot_basic_p = p0)           \n",
    "            res <- rbind(res, out)\n",
    "        }\n",
    "    }\n",
    "    object@SCENT.result <- res\n",
    "    return(object)\n",
    "}"
   ]
  },
  {
   "cell_type": "code",
   "execution_count": null,
   "id": "d1ad6769-1d20-41b0-8b3b-4cd06fa6b3c7",
   "metadata": {},
   "outputs": [],
   "source": [
    "n.cores = 16\n",
    "list.gene_peak <- split(gene_peak, seq_len(n.cores))"
   ]
  },
  {
   "cell_type": "code",
   "execution_count": null,
   "id": "6ebc8111-b73e-4a52-bddb-67b36ee15001",
   "metadata": {},
   "outputs": [],
   "source": [
    "list.obj.SCENT <- lapply(list.gene_peak, function(gene_peak.tmp) {\n",
    "  obj.SCENT.tmp <- CreateSCENTObj(\n",
    "    rna = matrix.rna[rownames(matrix.rna) %in% gene_peak.tmp$TargetGene,],\n",
    "    atac = matrix.atac[rownames(matrix.atac) %in% gene_peak.tmp$PeakName,], \n",
    "    meta.data = meta.data,\n",
    "    peak.info = gene_peak.tmp,\n",
    "    covariates = c(\"log.nUMI\",\"percent.mito\"), \n",
    "    celltypes = \"celltype\"\n",
    "  )\n",
    "})"
   ]
  },
  {
   "cell_type": "code",
   "execution_count": null,
   "id": "7e52cae9-13d2-421f-bcf9-88e2d022f97e",
   "metadata": {},
   "outputs": [],
   "source": [
    "rm(matrix.rna)\n",
    "rm(matrix.atac)\n",
    "rm(meta.data)\n",
    "rm(gene_peak)\n",
    "rm(list.gene_peak)\n",
    "gc()"
   ]
  },
  {
   "cell_type": "code",
   "execution_count": null,
   "id": "7f9aac11-1bf3-4da5-8efb-e6dd94096c8e",
   "metadata": {},
   "outputs": [],
   "source": [
    "start_time <- Sys.time()\n",
    "cl <- makeCluster(n.cores)\n",
    "clusterExport(cl, varlist=c(\"SCENT_algorithm.modified\"))\n",
    "list.SCENT.result <- parLapply(cl, list.obj.SCENT, function(obj.SCENT.tmp) {\n",
    "  obj.SCENT.tmp <- SCENT_algorithm.modified(object = obj.SCENT.tmp)\n",
    "  return(obj.SCENT.tmp@SCENT.result)\n",
    "})\n",
    "stopCluster(cl)\n",
    "end_time <- Sys.time()\n",
    "execution_time <- end_time - start_time"
   ]
  },
  {
   "cell_type": "code",
   "execution_count": null,
   "id": "c7f5b893-7ba7-4e41-8d2b-ca92a3ad3de7",
   "metadata": {},
   "outputs": [],
   "source": [
    "execution_time"
   ]
  },
  {
   "cell_type": "code",
   "execution_count": null,
   "id": "2c8fc831-ae8b-4c5c-a8c2-7154208ec899",
   "metadata": {},
   "outputs": [],
   "source": [
    "list.SCENT.result[[1]]"
   ]
  },
  {
   "cell_type": "markdown",
   "id": "84c9f3aa-ea0e-477b-878d-e9c3648b1762",
   "metadata": {},
   "source": [
    "Save results"
   ]
  },
  {
   "cell_type": "code",
   "execution_count": null,
   "id": "aa4f777c-b307-4735-b606-a54d45bbe895",
   "metadata": {},
   "outputs": [],
   "source": [
    "dir.create(dir.output,recursive = T)\n",
    "saveRDS(list.SCENT.result,\n",
    "        paste(dir.output,\"list.SCENT.result.rds\",sep = \"/\"))"
   ]
  },
  {
   "cell_type": "code",
   "execution_count": null,
   "id": "82756934-8314-4347-a3b7-cac33ca9f13d",
   "metadata": {},
   "outputs": [],
   "source": [
    "df.SCENT.result = do.call(rbind,list.SCENT.result)\n",
    "rownames(df.SCENT.result) = paste(df.SCENT.result$peak,\n",
    "                                  df.SCENT.result$gene,\n",
    "                                  sep = \"_\")\n",
    "df.SCENT.result"
   ]
  },
  {
   "cell_type": "code",
   "execution_count": null,
   "id": "0e39ca28-82bb-4620-b1f9-051b0229d028",
   "metadata": {},
   "outputs": [],
   "source": [
    "names(pairs.E2G.filter2) = pairs.E2G.filter2$PairName\n",
    "pairs.E2G.res = pairs.E2G.filter2[rownames(df.SCENT.result)]\n",
    "mcols(pairs.E2G.res)[,c(\"beta\",\"se\",\"z\",\"p\",\"boot_basic_p\")] = df.SCENT.result[,c(\"beta\",\"se\",\"z\",\"p\",\"boot_basic_p\")]\n",
    "pairs.E2G.res$boot_basic_p.log10 = -log10(pairs.E2G.res$boot_basic_p)\n",
    "pairs.E2G.res$sign = 1\n",
    "pairs.E2G.res$sign[pairs.E2G.res$beta < 0] = -1\n",
    "pairs.E2G.res$boot_basic_p.log10.signed = pairs.E2G.res$boot_basic_p.log10 * pairs.E2G.res$sign\n",
    "saveRDS(pairs.E2G.res,\n",
    "        paste(dir.output,\"pairs.E2G.res.rds\",sep = \"/\"))\n",
    "pairs.E2G.res"
   ]
  },
  {
   "cell_type": "code",
   "execution_count": null,
   "id": "e99cc1bd-00ae-4c91-a9b8-3f19339f5c44",
   "metadata": {},
   "outputs": [],
   "source": [
    "df.output = as.data.frame(pairs.E2G.res)\n",
    "colnames(df.output)[1] = \"chr\"\n",
    "df.output[,\"CellType\"] = \"K562\"\n",
    "data.table::fwrite(df.output,\n",
    "                   file = paste(dir.output,\"pairs.E2G.res.tsv.gz\",sep = \"/\"),\n",
    "                   row.names = F,\n",
    "                   quote = F,\n",
    "                   sep = \"\\t\")\n",
    "df.output"
   ]
  },
  {
   "cell_type": "code",
   "execution_count": null,
   "id": "8dffc193-69a1-4dec-a751-e3764f035002",
   "metadata": {},
   "outputs": [],
   "source": [
    "sessionInfo()"
   ]
  },
  {
   "cell_type": "code",
   "execution_count": null,
   "id": "8d979da3-08d0-4f79-9fcf-d0f093e6fba6",
   "metadata": {},
   "outputs": [],
   "source": []
  }
 ],
 "metadata": {
  "kernelspec": {
   "display_name": "R",
   "language": "R",
   "name": "ir"
  },
  "language_info": {
   "codemirror_mode": "r",
   "file_extension": ".r",
   "mimetype": "text/x-r-source",
   "name": "R",
   "pygments_lexer": "r",
   "version": "4.3.3"
  }
 },
 "nbformat": 4,
 "nbformat_minor": 5
}
