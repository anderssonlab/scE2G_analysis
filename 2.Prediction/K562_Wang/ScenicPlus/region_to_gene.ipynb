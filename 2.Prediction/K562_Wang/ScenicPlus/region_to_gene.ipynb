{
 "cells": [
  {
   "cell_type": "code",
   "execution_count": 1,
   "id": "131db1b9-2cfc-4f9f-8c22-daef4ba457fd",
   "metadata": {},
   "outputs": [
    {
     "name": "stdout",
     "output_type": "stream",
     "text": [
      "2024-06-07 13:03:59,596 SCENIC+      INFO     Reading cisTopic object.\n",
      "2024-06-07 13:04:01,439 SCENIC+      INFO     Reading gene expression AnnData.\n",
      "2024-06-07 13:04:05,172 Ingesting multiome data INFO     Found 4574 multiome cells.\n",
      "2024-06-07 13:04:05,270 cisTopic     INFO     Imputing region accessibility\n",
      "2024-06-07 13:04:05,270 cisTopic     INFO     Impute region accessibility for regions 0-20000\n",
      "2024-06-07 13:04:05,711 cisTopic     INFO     Impute region accessibility for regions 20000-40000\n",
      "2024-06-07 13:04:06,113 cisTopic     INFO     Impute region accessibility for regions 40000-60000\n",
      "2024-06-07 13:04:06,531 cisTopic     INFO     Impute region accessibility for regions 60000-80000\n",
      "2024-06-07 13:04:06,925 cisTopic     INFO     Impute region accessibility for regions 80000-100000\n",
      "2024-06-07 13:04:07,271 cisTopic     INFO     Impute region accessibility for regions 100000-120000\n",
      "2024-06-07 13:04:07,603 cisTopic     INFO     Impute region accessibility for regions 120000-140000\n",
      "2024-06-07 13:04:07,931 cisTopic     INFO     Impute region accessibility for regions 140000-160000\n",
      "2024-06-07 13:04:08,156 cisTopic     INFO     Done!\n",
      "... storing 'sample_id' as categorical\n",
      "... storing 'Chromosome' as categorical\n",
      "\u001b[0m"
     ]
    }
   ],
   "source": [
    "!scenicplus prepare_data prepare_GEX_ACC \\\n",
    "    --cisTopic_obj_fname outs/cistopic_obj.pkl \\\n",
    "    --GEX_anndata_fname adata.h5ad \\\n",
    "    --out_file outs/ACC_GEX.h5mu \\\n",
    "    --bc_transform_func \"lambda x: f'{x}___cisTopic'\""
   ]
  },
  {
   "cell_type": "markdown",
   "id": "8ed90f12-ab62-4d02-8886-769370174d19",
   "metadata": {},
   "source": [
    "Replace first '-' with ':' in region names"
   ]
  },
  {
   "cell_type": "code",
   "execution_count": 2,
   "id": "d6fb2954-60d8-4a31-a185-bedc0ccab689",
   "metadata": {},
   "outputs": [
    {
     "name": "stderr",
     "output_type": "stream",
     "text": [
      "/maps/projects/ralab/people/lpm537/software/anaconda3/envs/scenicplus_240606/lib/python3.11/site-packages/anndata/_core/anndata.py:522: FutureWarning: The dtype argument is deprecated and will be removed in late 2024.\n",
      "  warnings.warn(\n",
      "/maps/projects/ralab/people/lpm537/software/anaconda3/envs/scenicplus_240606/lib/python3.11/site-packages/anndata/_core/anndata.py:522: FutureWarning: The dtype argument is deprecated and will be removed in late 2024.\n",
      "  warnings.warn(\n"
     ]
    }
   ],
   "source": [
    "import mudata\n",
    "mdata = mudata.read('outs/ACC_GEX.h5mu')\n",
    "mdata[\"scATAC\"].var_names = mdata[\"scATAC\"].var_names.str.replace('-', ':', n=1)\n",
    "mdata.write(\"outs/ACC_GEX.rename.h5mu\")"
   ]
  },
  {
   "cell_type": "code",
   "execution_count": 3,
   "id": "9a4f9541-d111-4170-bf01-40d3c376f5ad",
   "metadata": {},
   "outputs": [
    {
     "name": "stdout",
     "output_type": "stream",
     "text": [
      "2024-06-07 13:05:09,348 SCENIC+      INFO     Reading data\n",
      "/maps/projects/ralab/people/lpm537/software/anaconda3/envs/scenicplus_240606/lib/python3.11/site-packages/anndata/_core/anndata.py:522: FutureWarning: The dtype argument is deprecated and will be removed in late 2024.\n",
      "  warnings.warn(\n",
      "/maps/projects/ralab/people/lpm537/software/anaconda3/envs/scenicplus_240606/lib/python3.11/site-packages/anndata/_core/anndata.py:522: FutureWarning: The dtype argument is deprecated and will be removed in late 2024.\n",
      "  warnings.warn(\n",
      "2024-06-07 13:05:13,598 Get search space INFO     Extending promoter annotation to 10 bp upstream and 10 downstream\n",
      "2024-06-07 13:05:13,779 Get search space INFO     Extending search space to:\n",
      "            \t\t\t\t\t\t1000000 bp downstream of the end of the gene.\n",
      "            \t\t\t\t\t\t1000000 bp upstream of the start of the gene.\n",
      "2024-06-07 13:05:14,531 Get search space INFO     Intersecting with regions.\n",
      "2024-06-07 13:05:18,812 Get search space INFO     Calculating distances from region to gene\n",
      "2024-06-07 13:08:21,953 Get search space INFO     Imploding multiple entries per region and gene\n",
      "2024-06-07 13:14:35,282 SCENIC+      INFO     Writing search space to: outs/search_space.1000000.tsv\n",
      "\u001b[0m"
     ]
    }
   ],
   "source": [
    "!scenicplus prepare_data search_spance \\\n",
    "    --multiome_mudata_fname outs/ACC_GEX.rename.h5mu \\\n",
    "    --gene_annotation_fname /maps/projects/ralab_nnfc-AUDIT/people/lpm537/software/scenicplus_240606/genome_annotation.tsv \\\n",
    "    --chromsizes_fname /maps/projects/ralab_nnfc-AUDIT/people/lpm537/software/scenicplus_240606/chromsizes.tsv\\\n",
    "    --out_fname outs/search_space.1000000.tsv\\\n",
    "    --upstream 1000 1000000 \\\n",
    "    --downstream 1000 1000000\\\n",
    "    --extend_tss 10 10"
   ]
  },
  {
   "cell_type": "code",
   "execution_count": 4,
   "id": "223f9126-94e0-4e18-8296-f7155d6a8702",
   "metadata": {},
   "outputs": [],
   "source": [
    "!mkdir -p temp_dir"
   ]
  },
  {
   "cell_type": "code",
   "execution_count": 5,
   "id": "a946a47a-e267-45b8-aaf0-5ae36097977c",
   "metadata": {},
   "outputs": [
    {
     "name": "stdout",
     "output_type": "stream",
     "text": [
      "2024-06-07 13:14:56,966 SCENIC+      INFO     Reading multiome MuData.\n",
      "/maps/projects/ralab/people/lpm537/software/anaconda3/envs/scenicplus_240606/lib/python3.11/site-packages/anndata/_core/anndata.py:522: FutureWarning: The dtype argument is deprecated and will be removed in late 2024.\n",
      "  warnings.warn(\n",
      "/maps/projects/ralab/people/lpm537/software/anaconda3/envs/scenicplus_240606/lib/python3.11/site-packages/anndata/_core/anndata.py:522: FutureWarning: The dtype argument is deprecated and will be removed in late 2024.\n",
      "  warnings.warn(\n",
      "2024-06-07 13:15:00,823 SCENIC+      INFO     Reading search space\n",
      "2024-06-07 13:15:02,636 R2G          INFO     Calculating region to gene importances, using GBM method\n",
      "Running using 16 cores: 100%|█████████████| 19110/19110 [53:04<00:00,  6.00it/s]\n",
      "2024-06-07 14:11:03,796 R2G          INFO     Calculating region to gene correlation, using SR method\n",
      "Running using 16 cores:   0%|               | 32/19110 [00:00<02:57, 107.22it/s]/maps/projects/ralab/people/lpm537/software/anaconda3/envs/scenicplus_240606/lib/python3.11/site-packages/scenicplus/enhancer_to_gene.py:158: ConstantInputWarning: An input array is constant; the correlation coefficient is not defined.\n",
      "  correlation_result = np.array([correlator(x, exp) for x in acc.T])\n",
      "/maps/projects/ralab/people/lpm537/software/anaconda3/envs/scenicplus_240606/lib/python3.11/site-packages/scenicplus/enhancer_to_gene.py:158: ConstantInputWarning: An input array is constant; the correlation coefficient is not defined.\n",
      "  correlation_result = np.array([correlator(x, exp) for x in acc.T])\n",
      "Running using 16 cores:   1%|▏              | 176/19110 [00:05<12:30, 25.21it/s]/maps/projects/ralab/people/lpm537/software/anaconda3/envs/scenicplus_240606/lib/python3.11/site-packages/scenicplus/enhancer_to_gene.py:158: ConstantInputWarning: An input array is constant; the correlation coefficient is not defined.\n",
      "  correlation_result = np.array([correlator(x, exp) for x in acc.T])\n",
      "/maps/projects/ralab/people/lpm537/software/anaconda3/envs/scenicplus_240606/lib/python3.11/site-packages/scenicplus/enhancer_to_gene.py:158: ConstantInputWarning: An input array is constant; the correlation coefficient is not defined.\n",
      "  correlation_result = np.array([correlator(x, exp) for x in acc.T])\n",
      "/maps/projects/ralab/people/lpm537/software/anaconda3/envs/scenicplus_240606/lib/python3.11/site-packages/scenicplus/enhancer_to_gene.py:158: ConstantInputWarning: An input array is constant; the correlation coefficient is not defined.\n",
      "  correlation_result = np.array([correlator(x, exp) for x in acc.T])\n",
      "Running using 16 cores:   1%|▏              | 208/19110 [00:06<12:00, 26.23it/s]/maps/projects/ralab/people/lpm537/software/anaconda3/envs/scenicplus_240606/lib/python3.11/site-packages/scenicplus/enhancer_to_gene.py:158: ConstantInputWarning: An input array is constant; the correlation coefficient is not defined.\n",
      "  correlation_result = np.array([correlator(x, exp) for x in acc.T])\n",
      "Running using 16 cores:   1%|▏              | 240/19110 [00:08<14:00, 22.46it/s]/maps/projects/ralab/people/lpm537/software/anaconda3/envs/scenicplus_240606/lib/python3.11/site-packages/scenicplus/enhancer_to_gene.py:158: ConstantInputWarning: An input array is constant; the correlation coefficient is not defined.\n",
      "  correlation_result = np.array([correlator(x, exp) for x in acc.T])\n",
      "Running using 16 cores:   1%|▏              | 256/19110 [00:09<13:39, 23.01it/s]/maps/projects/ralab/people/lpm537/software/anaconda3/envs/scenicplus_240606/lib/python3.11/site-packages/scenicplus/enhancer_to_gene.py:158: ConstantInputWarning: An input array is constant; the correlation coefficient is not defined.\n",
      "  correlation_result = np.array([correlator(x, exp) for x in acc.T])\n",
      "/maps/projects/ralab/people/lpm537/software/anaconda3/envs/scenicplus_240606/lib/python3.11/site-packages/scenicplus/enhancer_to_gene.py:158: ConstantInputWarning: An input array is constant; the correlation coefficient is not defined.\n",
      "  correlation_result = np.array([correlator(x, exp) for x in acc.T])\n",
      "Running using 16 cores:   2%|▏              | 288/19110 [00:10<12:07, 25.86it/s]/maps/projects/ralab/people/lpm537/software/anaconda3/envs/scenicplus_240606/lib/python3.11/site-packages/scenicplus/enhancer_to_gene.py:158: ConstantInputWarning: An input array is constant; the correlation coefficient is not defined.\n",
      "  correlation_result = np.array([correlator(x, exp) for x in acc.T])\n",
      "Running using 16 cores:   2%|▏              | 304/19110 [00:10<10:42, 29.28it/s]/maps/projects/ralab/people/lpm537/software/anaconda3/envs/scenicplus_240606/lib/python3.11/site-packages/scenicplus/enhancer_to_gene.py:158: ConstantInputWarning: An input array is constant; the correlation coefficient is not defined.\n",
      "  correlation_result = np.array([correlator(x, exp) for x in acc.T])\n",
      "Running using 16 cores:   2%|▎              | 368/19110 [00:12<11:29, 27.17it/s]/maps/projects/ralab/people/lpm537/software/anaconda3/envs/scenicplus_240606/lib/python3.11/site-packages/scenicplus/enhancer_to_gene.py:158: ConstantInputWarning: An input array is constant; the correlation coefficient is not defined.\n",
      "  correlation_result = np.array([correlator(x, exp) for x in acc.T])\n",
      "/maps/projects/ralab/people/lpm537/software/anaconda3/envs/scenicplus_240606/lib/python3.11/site-packages/scenicplus/enhancer_to_gene.py:158: ConstantInputWarning: An input array is constant; the correlation coefficient is not defined.\n",
      "  correlation_result = np.array([correlator(x, exp) for x in acc.T])\n",
      "Running using 16 cores:   2%|▎              | 400/19110 [00:13<10:22, 30.04it/s]/maps/projects/ralab/people/lpm537/software/anaconda3/envs/scenicplus_240606/lib/python3.11/site-packages/scenicplus/enhancer_to_gene.py:158: ConstantInputWarning: An input array is constant; the correlation coefficient is not defined.\n",
      "  correlation_result = np.array([correlator(x, exp) for x in acc.T])\n",
      "Running using 16 cores:   3%|▍              | 592/19110 [00:22<15:04, 20.47it/s]/maps/projects/ralab/people/lpm537/software/anaconda3/envs/scenicplus_240606/lib/python3.11/site-packages/scenicplus/enhancer_to_gene.py:158: ConstantInputWarning: An input array is constant; the correlation coefficient is not defined.\n",
      "  correlation_result = np.array([correlator(x, exp) for x in acc.T])\n",
      "Running using 16 cores:   3%|▌              | 656/19110 [00:28<25:46, 11.93it/s]/maps/projects/ralab/people/lpm537/software/anaconda3/envs/scenicplus_240606/lib/python3.11/site-packages/scenicplus/enhancer_to_gene.py:158: ConstantInputWarning: An input array is constant; the correlation coefficient is not defined.\n",
      "  correlation_result = np.array([correlator(x, exp) for x in acc.T])\n",
      "Running using 16 cores: 100%|█████████████| 19110/19110 [14:19<00:00, 22.23it/s]\n",
      "2024-06-07 14:28:44,980 R2G          INFO     Done!\n",
      "2024-06-07 14:28:45,277 SCENIC+      INFO     Saving region to gene adjacencies to outs/region_to_gene_adj.1000000.tsv\n",
      "\u001b[0m\u001b[0m\u001b[0m\u001b[0m\u001b[0m\u001b[0m\u001b[0m\u001b[0m\u001b[0m\u001b[0m\u001b[0m\u001b[0m\u001b[0m\u001b[0m\u001b[0m\u001b[0m\u001b[0m"
     ]
    }
   ],
   "source": [
    "!scenicplus grn_inference region_to_gene \\\n",
    "    --multiome_mudata_fname outs/ACC_GEX.rename.h5mu \\\n",
    "    --search_space_fname outs/search_space.1000000.tsv \\\n",
    "    --out_region_to_gene_adjacencies outs/region_to_gene_adj.1000000.tsv \\\n",
    "    --importance_scoring_method GBM \\\n",
    "    --correlation_scoring_method SR \\\n",
    "    --n_cpu 16 \\\n",
    "    --temp_dir temp_dir"
   ]
  }
 ],
 "metadata": {
  "kernelspec": {
   "display_name": "Python 3 (ipykernel)",
   "language": "python",
   "name": "python3"
  },
  "language_info": {
   "codemirror_mode": {
    "name": "ipython",
    "version": 3
   },
   "file_extension": ".py",
   "mimetype": "text/x-python",
   "name": "python",
   "nbconvert_exporter": "python",
   "pygments_lexer": "ipython3",
   "version": "3.11.8"
  }
 },
 "nbformat": 4,
 "nbformat_minor": 5
}
