{
 "cells": [
  {
   "cell_type": "code",
   "execution_count": 1,
   "id": "a95d5199-2025-40dd-b7ed-9413093dd21e",
   "metadata": {},
   "outputs": [
    {
     "name": "stderr",
     "output_type": "stream",
     "text": [
      "Warning message:\n",
      "“replacing previous import ‘Hmisc::capitalize’ by ‘R.utils::capitalize’ when loading ‘SCENT’”\n",
      "Loading required package: grid\n",
      "\n",
      "Warning message:\n",
      "“replacing previous import ‘Biostrings::pattern’ by ‘grid::pattern’ when loading ‘genomation’”\n",
      "Loading required package: stats4\n",
      "\n",
      "Loading required package: BiocGenerics\n",
      "\n",
      "\n",
      "Attaching package: ‘BiocGenerics’\n",
      "\n",
      "\n",
      "The following objects are masked from ‘package:stats’:\n",
      "\n",
      "    IQR, mad, sd, var, xtabs\n",
      "\n",
      "\n",
      "The following objects are masked from ‘package:base’:\n",
      "\n",
      "    anyDuplicated, aperm, append, as.data.frame, basename, cbind,\n",
      "    colnames, dirname, do.call, duplicated, eval, evalq, Filter, Find,\n",
      "    get, grep, grepl, intersect, is.unsorted, lapply, Map, mapply,\n",
      "    match, mget, order, paste, pmax, pmax.int, pmin, pmin.int,\n",
      "    Position, rank, rbind, Reduce, rownames, sapply, setdiff, sort,\n",
      "    table, tapply, union, unique, unsplit, which.max, which.min\n",
      "\n",
      "\n",
      "Loading required package: S4Vectors\n",
      "\n",
      "\n",
      "Attaching package: ‘S4Vectors’\n",
      "\n",
      "\n",
      "The following object is masked from ‘package:utils’:\n",
      "\n",
      "    findMatches\n",
      "\n",
      "\n",
      "The following objects are masked from ‘package:base’:\n",
      "\n",
      "    expand.grid, I, unname\n",
      "\n",
      "\n",
      "Loading required package: IRanges\n",
      "\n",
      "Loading required package: GenomeInfoDb\n",
      "\n",
      "\n",
      "Attaching package: ‘Matrix’\n",
      "\n",
      "\n",
      "The following object is masked from ‘package:S4Vectors’:\n",
      "\n",
      "    expand\n",
      "\n",
      "\n"
     ]
    }
   ],
   "source": [
    "library(SCENT)\n",
    "library(Signac)\n",
    "library(genomation)\n",
    "library(GenomicRanges)\n",
    "library(Matrix)\n",
    "library(parallel)"
   ]
  },
  {
   "cell_type": "markdown",
   "id": "58764b5a-b5b3-4c2f-b257-9ed27fda79bd",
   "metadata": {},
   "source": [
    "Specify file path"
   ]
  },
  {
   "cell_type": "code",
   "execution_count": 2,
   "id": "8d7d3c05-4451-4c1b-9741-b37a4ff9a676",
   "metadata": {},
   "outputs": [],
   "source": [
    "path.pairs.E2G = \"/maps/projects/ralab_nnfc-AUDIT/people/lpm537/software/scE2G_pipeline/240508/sc-E2G/test/results_K562_Xu/K562/Kendall/Pairs.tsv.gz\"\n",
    "path.matrix.atac_count = \"/maps/projects/ralab_nnfc-AUDIT/people/lpm537/software/scE2G_pipeline/240508/sc-E2G/test/results_K562_Xu/K562/Kendall/atac_matrix.csv.gz\"\n",
    "path.matrix.rna_count = \"/maps/projects/ralab_nnfc-AUDIT/people/lpm537/project/E2G/analysis/E2G_240503/data/K562_Xu/1.prepare_data/1.seurat_pipeline.240507/rna_count_matrix.csv.gz\"\n",
    "dir.output = \"/maps/projects/ralab_nnfc-AUDIT/people/lpm537/project/E2G/analysis/E2G_240503/data/K562_Xu/3.Genome_wide_prediction/SCENT/SCENT.240520/\""
   ]
  },
  {
   "cell_type": "code",
   "execution_count": 3,
   "id": "93f9d657-219c-4c58-b7e8-40ccf66e9e7d",
   "metadata": {},
   "outputs": [],
   "source": [
    "n.cores = 64"
   ]
  },
  {
   "cell_type": "markdown",
   "id": "f08fb032-2ae2-4aac-9876-568b1cddbfdc",
   "metadata": {},
   "source": [
    "Import candidate E-G pairs"
   ]
  },
  {
   "cell_type": "code",
   "execution_count": null,
   "id": "1cf085d9-8ca0-4697-8dd0-23012c7b83d5",
   "metadata": {},
   "outputs": [],
   "source": [
    "pairs.E2G = readGeneric(path.pairs.E2G,\n",
    "                        header = T,\n",
    "                        keep.all.metadata = T)"
   ]
  },
  {
   "cell_type": "markdown",
   "id": "46cd9d45-c743-4bdf-9949-ead956184a48",
   "metadata": {},
   "source": [
    "Import ATAC matrix"
   ]
  },
  {
   "cell_type": "code",
   "execution_count": null,
   "id": "4916626b-e24e-4c35-a8b7-7ff7ea919e3f",
   "metadata": {},
   "outputs": [],
   "source": [
    "matrix.atac = read.csv(path.matrix.atac_count,\n",
    "                       row.names = 1,\n",
    "                       check.names = F)\n",
    "matrix.atac = Matrix(as.matrix(matrix.atac), sparse = TRUE)\n",
    "matrix.atac = BinarizeCounts(matrix.atac)"
   ]
  },
  {
   "cell_type": "markdown",
   "id": "7fe68436-5bc2-4b7b-8905-31bb158937ae",
   "metadata": {},
   "source": [
    "Import RNA matrix"
   ]
  },
  {
   "cell_type": "code",
   "execution_count": null,
   "id": "f09b522b-25eb-4261-b6ff-503cee699f9d",
   "metadata": {},
   "outputs": [],
   "source": [
    "matrix.rna = read.csv(path.matrix.rna_count,\n",
    "                      row.names = 1,\n",
    "                      check.names = F)\n",
    "matrix.rna = Matrix(as.matrix(matrix.rna), sparse = TRUE)\n",
    "matrix.rna = matrix.rna[,colnames(matrix.atac)]\n",
    "matrix.rna = matrix.rna[rowSums(matrix.rna) > 0,]"
   ]
  },
  {
   "cell_type": "code",
   "execution_count": null,
   "id": "ebe4037c-18d2-4b87-b2a7-0680e03f84d9",
   "metadata": {},
   "outputs": [],
   "source": [
    "pairs.E2G.filter = pairs.E2G[pairs.E2G$TargetGene %in% rownames(matrix.rna) &\n",
    "                             pairs.E2G$PeakName %in% rownames(matrix.atac)]"
   ]
  },
  {
   "cell_type": "markdown",
   "id": "d5e4fee1-4724-48b7-af77-3774c101466a",
   "metadata": {},
   "source": [
    "Create SCENT object"
   ]
  },
  {
   "cell_type": "code",
   "execution_count": null,
   "id": "47d6762d-cb19-405d-8da0-539b3938c593",
   "metadata": {},
   "outputs": [],
   "source": [
    "meta.data = data.frame(cell = colnames(matrix.rna),\n",
    "                       nUMI = colSums(matrix.rna),\n",
    "                       nMito = colSums(matrix.rna[grep(\"MT-\",rownames(matrix.rna)),]),\n",
    "                       celltype = \"K562\")\n",
    "meta.data[,\"log.nUMI\"] = log(meta.data[,\"nUMI\"])\n",
    "meta.data[,\"percent.mito\"] = meta.data[,\"nMito\"] / meta.data[,\"nUMI\"]\n",
    "meta.data"
   ]
  },
  {
   "cell_type": "code",
   "execution_count": null,
   "id": "8847b928-03b8-4d1a-9924-5fba940d23bc",
   "metadata": {},
   "outputs": [],
   "source": [
    "gene_peak = as.data.frame(mcols(pairs.E2G.filter)[,c(\"TargetGene\",\"PeakName\")])\n",
    "gene_peak"
   ]
  },
  {
   "cell_type": "code",
   "execution_count": null,
   "id": "f3276722-6646-4b80-9622-6cc39984bc18",
   "metadata": {},
   "outputs": [],
   "source": [
    "list.gene_peak <- split(gene_peak, seq_len(n.cores))"
   ]
  },
  {
   "cell_type": "code",
   "execution_count": null,
   "id": "6ebc8111-b73e-4a52-bddb-67b36ee15001",
   "metadata": {},
   "outputs": [],
   "source": [
    "list.obj.SCENT <- lapply(list.gene_peak, function(gene_peak.tmp) {\n",
    "  obj.SCENT.tmp <- CreateSCENTObj(\n",
    "    rna = matrix.rna[rownames(matrix.rna) %in% gene_peak.tmp$TargetGene,],\n",
    "    atac = matrix.atac[rownames(matrix.atac) %in% gene_peak.tmp$PeakName,], \n",
    "    meta.data = meta.data,\n",
    "    peak.info = gene_peak.tmp,\n",
    "    covariates = c(\"log.nUMI\",\"percent.mito\"), \n",
    "    celltypes = \"celltype\"\n",
    "  )\n",
    "})"
   ]
  },
  {
   "cell_type": "code",
   "execution_count": null,
   "id": "7e52cae9-13d2-421f-bcf9-88e2d022f97e",
   "metadata": {},
   "outputs": [],
   "source": [
    "rm(matrix.rna)\n",
    "rm(matrix.atac)\n",
    "rm(meta.data)\n",
    "rm(gene_peak)\n",
    "rm(list.gene_peak)\n",
    "gc()"
   ]
  },
  {
   "cell_type": "markdown",
   "id": "f3ffb6fb-ffff-41cb-a466-eee2adff0bcf",
   "metadata": {},
   "source": [
    "RUN SCENT prediction"
   ]
  },
  {
   "cell_type": "code",
   "execution_count": null,
   "id": "a3ac2082-53f3-415b-9da7-f1955ed7a1fe",
   "metadata": {},
   "outputs": [],
   "source": [
    "SCENT_algorithm.modified = function (object, \n",
    "                                     # celltype, \n",
    "                                     # ncores, \n",
    "                                     # regr = \"poisson\", \n",
    "                                     # bin = TRUE) \n",
    "                                     regr = \"poisson\") {\n",
    "    res <- data.frame()\n",
    "    for (n in 1:nrow(object@peak.info)) {        \n",
    "        gene <- object@peak.info[n, 1]\n",
    "        this_peak <- object@peak.info[n, 2]\n",
    "        atac_target <- data.frame(cell = colnames(object@atac), \n",
    "            atac = object@atac[this_peak, ])\n",
    "        # if (bin) {\n",
    "        #     atac_target[atac_target$atac > 0, ]$atac <- 1\n",
    "        # }\n",
    "        mrna_target <- object@rna[gene, ]\n",
    "        df <- data.frame(cell = names(mrna_target), exprs = as.numeric(mrna_target))\n",
    "        df <- merge(df, atac_target, by = \"cell\")\n",
    "        df <- merge(df, object@meta.data, by = \"cell\")\n",
    "        # df2 <- df[df[[object@celltypes]] == celltype, ]\n",
    "        df2 <- df\n",
    "        # nonzero_m <- length(df2$exprs[df2$exprs > 0])/length(df2$exprs)\n",
    "        # nonzero_a <- length(df2$atac[df2$atac > 0])/length(df2$atac)\n",
    "        # if (nonzero_m > 0.05 & nonzero_a > 0.05) {\n",
    "        if (1) {\n",
    "            res_var <- \"exprs\"\n",
    "            pred_var <- c(\"atac\", object@covariates)\n",
    "            formula <- as.formula(paste(res_var, paste(pred_var, \n",
    "                collapse = \"+\"), sep = \"~\"))\n",
    "            if (regr == \"poisson\") {\n",
    "                base = glm(formula, family = \"poisson\", data = df2)\n",
    "                coefs <- summary(base)$coefficients[\"atac\", ]\n",
    "                # assoc <- assoc_poisson\n",
    "                assoc <- SCENT::assoc_poisson\n",
    "            }\n",
    "            else if (regr == \"negbin\") {\n",
    "                base = glm.nb(formula, data = df2)\n",
    "                coefs <- summary(base)$coefficients[\"atac\", ]\n",
    "                # assoc <- assoc_negbin\n",
    "                assoc <- SCENT::assoc_negbin\n",
    "            }\n",
    "            bs = boot::boot(df2, assoc, R = 100, formula = formula, \n",
    "                stype = \"i\", parallel = \"no\", ncpus = 1)\n",
    "            # p0 = basic_p(bs$t0[1], bs$t[, 1])\n",
    "            p0 = SCENT::basic_p(bs$t0[1], bs$t[, 1])\n",
    "            # if (p0 < 0.1) {\n",
    "            if (p0 < 0.1 & bs$t0[1] > 0) {\n",
    "                bs = boot::boot(df2, assoc, R = 500, formula = formula, \n",
    "                  stype = \"i\", \n",
    "                  # parallel = \"multicore\", ncpus = ncores)\n",
    "                  parallel = \"no\", ncpus = 1)\n",
    "                # p0 = basic_p(bs$t0[1], bs$t[, 1])\n",
    "                p0 = SCENT::basic_p(bs$t0[1], bs$t[, 1])\n",
    "            }\n",
    "            # if (p0 < 0.05) {\n",
    "            #     bs = boot::boot(df2, assoc, R = 2500, formula = formula, \n",
    "            #       stype = \"i\", \n",
    "            #       # parallel = \"multicore\", ncpus = ncores)\n",
    "            #       parallel = \"no\", ncpus = 1)\n",
    "            #     # p0 = basic_p(bs$t0[1], bs$t[, 1])\n",
    "            #     p0 = SCENT::basic_p(bs$t0[1], bs$t[, 1])\n",
    "            # }\n",
    "            # if (p0 < 0.01) {\n",
    "            #     bs = boot::boot(df2, assoc, R = 25000, formula = formula, \n",
    "            #       stype = \"i\", \n",
    "            #       # parallel = \"multicore\", ncpus = ncores)\n",
    "            #       parallel = \"no\", ncpus = 1)\n",
    "            #     # p0 = basic_p(bs$t0[1], bs$t[, 1])\n",
    "            #     p0 = SCENT::basic_p(bs$t0[1], bs$t[, 1])\n",
    "            # }\n",
    "            # if (p0 < 0.001) {\n",
    "            #     bs = boot::boot(df2, assoc, R = 50000, formula = formula, \n",
    "            #       stype = \"i\", \n",
    "            #       # parallel = \"multicore\", ncpus = ncores)\n",
    "            #       parallel = \"no\", ncpus = 1)\n",
    "            #     # p0 = basic_p(bs$t0[1], bs$t[, 1])\n",
    "            #     p0 = SCENT::basic_p(bs$t0[1], bs$t[, 1])\n",
    "            # }\n",
    "            out <- data.frame(gene = gene, peak = this_peak, \n",
    "                beta = coefs[1], se = coefs[2], z = coefs[3], \n",
    "                p = coefs[4], boot_basic_p = p0)           \n",
    "            res <- rbind(res, out)\n",
    "        }\n",
    "    }\n",
    "    object@SCENT.result <- res\n",
    "    return(object)\n",
    "}"
   ]
  },
  {
   "cell_type": "code",
   "execution_count": null,
   "id": "7f9aac11-1bf3-4da5-8efb-e6dd94096c8e",
   "metadata": {},
   "outputs": [],
   "source": [
    "start_time <- Sys.time()\n",
    "cl <- makeCluster(n.cores)\n",
    "clusterExport(cl, varlist=c(\"SCENT_algorithm.modified\"))\n",
    "list.SCENT.result <- parLapply(cl, list.obj.SCENT, function(obj.SCENT.tmp) {\n",
    "  obj.SCENT.tmp <- SCENT_algorithm.modified(object = obj.SCENT.tmp)\n",
    "  return(obj.SCENT.tmp@SCENT.result)\n",
    "})\n",
    "stopCluster(cl)\n",
    "end_time <- Sys.time()\n",
    "execution_time <- end_time - start_time"
   ]
  },
  {
   "cell_type": "code",
   "execution_count": null,
   "id": "c7f5b893-7ba7-4e41-8d2b-ca92a3ad3de7",
   "metadata": {},
   "outputs": [],
   "source": [
    "execution_time"
   ]
  },
  {
   "cell_type": "code",
   "execution_count": null,
   "id": "2c8fc831-ae8b-4c5c-a8c2-7154208ec899",
   "metadata": {},
   "outputs": [],
   "source": [
    "list.SCENT.result[[1]]"
   ]
  },
  {
   "cell_type": "markdown",
   "id": "84c9f3aa-ea0e-477b-878d-e9c3648b1762",
   "metadata": {},
   "source": [
    "Save results"
   ]
  },
  {
   "cell_type": "code",
   "execution_count": null,
   "id": "aa4f777c-b307-4735-b606-a54d45bbe895",
   "metadata": {},
   "outputs": [],
   "source": [
    "dir.create(dir.output,recursive = T)\n",
    "saveRDS(list.SCENT.result,\n",
    "        paste(dir.output,\"list.SCENT.result.rds\",sep = \"/\"))"
   ]
  },
  {
   "cell_type": "code",
   "execution_count": null,
   "id": "82756934-8314-4347-a3b7-cac33ca9f13d",
   "metadata": {},
   "outputs": [],
   "source": [
    "df.SCENT.result = do.call(rbind,list.SCENT.result)\n",
    "rownames(df.SCENT.result) = paste(df.SCENT.result$peak,\n",
    "                                  df.SCENT.result$gene,\n",
    "                                  sep = \"_\")\n",
    "df.SCENT.result"
   ]
  },
  {
   "cell_type": "code",
   "execution_count": null,
   "id": "0e39ca28-82bb-4620-b1f9-051b0229d028",
   "metadata": {},
   "outputs": [],
   "source": [
    "names(pairs.E2G.filter2) = pairs.E2G.filter2$PairName\n",
    "pairs.E2G.res = pairs.E2G.filter2[rownames(df.SCENT.result)]\n",
    "mcols(pairs.E2G.res)[,c(\"beta\",\"se\",\"z\",\"p\",\"boot_basic_p\")] = df.SCENT.result[,c(\"beta\",\"se\",\"z\",\"p\",\"boot_basic_p\")]\n",
    "pairs.E2G.res$boot_basic_p.log10 = -log10(pairs.E2G.res$boot_basic_p)\n",
    "pairs.E2G.res$sign = 1\n",
    "pairs.E2G.res$sign[pairs.E2G.res$beta < 0] = -1\n",
    "pairs.E2G.res$boot_basic_p.log10.signed = pairs.E2G.res$boot_basic_p.log10 * pairs.E2G.res$sign\n",
    "saveRDS(pairs.E2G.res,\n",
    "        paste(dir.output,\"pairs.E2G.res.rds\",sep = \"/\"))\n",
    "pairs.E2G.res"
   ]
  },
  {
   "cell_type": "code",
   "execution_count": null,
   "id": "e99cc1bd-00ae-4c91-a9b8-3f19339f5c44",
   "metadata": {},
   "outputs": [],
   "source": [
    "df.output = as.data.frame(pairs.E2G.res)\n",
    "colnames(df.output)[1] = \"chr\"\n",
    "df.output[,\"CellType\"] = \"K562\"\n",
    "data.table::fwrite(df.output,\n",
    "                   file = paste(dir.output,\"pairs.E2G.res.tsv.gz\",sep = \"/\"),\n",
    "                   row.names = F,\n",
    "                   quote = F,\n",
    "                   sep = \"\\t\")\n",
    "df.output"
   ]
  },
  {
   "cell_type": "code",
   "execution_count": null,
   "id": "8dffc193-69a1-4dec-a751-e3764f035002",
   "metadata": {},
   "outputs": [],
   "source": [
    "sessionInfo()"
   ]
  },
  {
   "cell_type": "code",
   "execution_count": null,
   "id": "8d979da3-08d0-4f79-9fcf-d0f093e6fba6",
   "metadata": {},
   "outputs": [],
   "source": []
  }
 ],
 "metadata": {
  "kernelspec": {
   "display_name": "R",
   "language": "R",
   "name": "ir"
  },
  "language_info": {
   "codemirror_mode": "r",
   "file_extension": ".r",
   "mimetype": "text/x-r-source",
   "name": "R",
   "pygments_lexer": "r",
   "version": "4.3.3"
  }
 },
 "nbformat": 4,
 "nbformat_minor": 5
}
