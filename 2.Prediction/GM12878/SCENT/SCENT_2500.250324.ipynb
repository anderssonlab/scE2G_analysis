{
 "cells": [
  {
   "cell_type": "code",
   "execution_count": 1,
   "id": "3a1e63f9-7479-4a30-83ea-381f1ecdbe50",
   "metadata": {},
   "outputs": [
    {
     "name": "stderr",
     "output_type": "stream",
     "text": [
      "Warning message:\n",
      "“replacing previous import ‘Hmisc::capitalize’ by ‘R.utils::capitalize’ when loading ‘SCENT’”\n",
      "Loading required package: grid\n",
      "\n",
      "Warning message:\n",
      "“replacing previous import ‘Biostrings::pattern’ by ‘grid::pattern’ when loading ‘genomation’”\n",
      "Loading required package: stats4\n",
      "\n",
      "Loading required package: BiocGenerics\n",
      "\n",
      "\n",
      "Attaching package: ‘BiocGenerics’\n",
      "\n",
      "\n",
      "The following objects are masked from ‘package:stats’:\n",
      "\n",
      "    IQR, mad, sd, var, xtabs\n",
      "\n",
      "\n",
      "The following objects are masked from ‘package:base’:\n",
      "\n",
      "    anyDuplicated, aperm, append, as.data.frame, basename, cbind,\n",
      "    colnames, dirname, do.call, duplicated, eval, evalq, Filter, Find,\n",
      "    get, grep, grepl, intersect, is.unsorted, lapply, Map, mapply,\n",
      "    match, mget, order, paste, pmax, pmax.int, pmin, pmin.int,\n",
      "    Position, rank, rbind, Reduce, rownames, sapply, setdiff, sort,\n",
      "    table, tapply, union, unique, unsplit, which.max, which.min\n",
      "\n",
      "\n",
      "Loading required package: S4Vectors\n",
      "\n",
      "\n",
      "Attaching package: ‘S4Vectors’\n",
      "\n",
      "\n",
      "The following object is masked from ‘package:utils’:\n",
      "\n",
      "    findMatches\n",
      "\n",
      "\n",
      "The following objects are masked from ‘package:base’:\n",
      "\n",
      "    expand.grid, I, unname\n",
      "\n",
      "\n",
      "Loading required package: IRanges\n",
      "\n",
      "Loading required package: GenomeInfoDb\n",
      "\n",
      "\n",
      "Attaching package: ‘Matrix’\n",
      "\n",
      "\n",
      "The following object is masked from ‘package:S4Vectors’:\n",
      "\n",
      "    expand\n",
      "\n",
      "\n",
      "\n",
      "Attaching package: ‘data.table’\n",
      "\n",
      "\n",
      "The following object is masked from ‘package:GenomicRanges’:\n",
      "\n",
      "    shift\n",
      "\n",
      "\n",
      "The following object is masked from ‘package:IRanges’:\n",
      "\n",
      "    shift\n",
      "\n",
      "\n",
      "The following objects are masked from ‘package:S4Vectors’:\n",
      "\n",
      "    first, second\n",
      "\n",
      "\n",
      "\n",
      "Attaching package: ‘dplyr’\n",
      "\n",
      "\n",
      "The following objects are masked from ‘package:data.table’:\n",
      "\n",
      "    between, first, last\n",
      "\n",
      "\n",
      "The following objects are masked from ‘package:GenomicRanges’:\n",
      "\n",
      "    intersect, setdiff, union\n",
      "\n",
      "\n",
      "The following object is masked from ‘package:GenomeInfoDb’:\n",
      "\n",
      "    intersect\n",
      "\n",
      "\n",
      "The following objects are masked from ‘package:IRanges’:\n",
      "\n",
      "    collapse, desc, intersect, setdiff, slice, union\n",
      "\n",
      "\n",
      "The following objects are masked from ‘package:S4Vectors’:\n",
      "\n",
      "    first, intersect, rename, setdiff, setequal, union\n",
      "\n",
      "\n",
      "The following objects are masked from ‘package:BiocGenerics’:\n",
      "\n",
      "    combine, intersect, setdiff, union\n",
      "\n",
      "\n",
      "The following objects are masked from ‘package:stats’:\n",
      "\n",
      "    filter, lag\n",
      "\n",
      "\n",
      "The following objects are masked from ‘package:base’:\n",
      "\n",
      "    intersect, setdiff, setequal, union\n",
      "\n",
      "\n"
     ]
    }
   ],
   "source": [
    "library(SCENT)\n",
    "library(Signac)\n",
    "library(genomation)\n",
    "library(GenomicRanges)\n",
    "library(Matrix)\n",
    "library(parallel)\n",
    "library(data.table)\n",
    "library(dplyr)"
   ]
  },
  {
   "cell_type": "markdown",
   "id": "d53f3774-52c3-4baa-b707-5b3a0450b130",
   "metadata": {},
   "source": [
    "Specify file path"
   ]
  },
  {
   "cell_type": "code",
   "execution_count": 2,
   "id": "0785f3fc-9913-428a-bea7-5710120c9328",
   "metadata": {},
   "outputs": [],
   "source": [
    "gene_gtf_path = \"/maps/projects/ralab/data/genome/hg38/gencode.v43.chr_patch_hapl_scaff.annotation.gtf\"\n",
    "abc_genes_path = \"/maps/projects/ralab_nnfc-AUDIT/people/lpm537/software/scE2G_pipeline/241203/scE2G/ENCODE_rE2G/ABC/reference/hg38/CollapsedGeneBounds.hg38.TSS500bp.bed\"\n",
    "path.pairs.E2G = \"/maps/projects/ralab_nnfc-AUDIT/people/lpm537/project/E2G/analysis/E2G_240503/data/GM12878/2.Genome_wide_prediction/SCENT/SCENT_500.250204/pairs.E2G.res.rds\"\n",
    "path.matrix.atac_count = \"/maps/projects/ralab_nnfc-AUDIT/people/lpm537/software/scE2G_pipeline/240617/sc-E2G/test/results/GM12878/GM12878.multiome_7features/Kendall/atac_matrix.rds\"\n",
    "path.matrix.rna_count = \"/maps/projects/ralab_nnfc-AUDIT/people/lpm537/project/E2G/analysis/E2G_240503/data/GM12878/1.prepare_data/1.seurat_pipeline.240615/rna_count_matrix.csv.gz\"\n",
    "dir.output = \"/maps/projects/ralab_nnfc-AUDIT/people/lpm537/project/E2G/analysis/E2G_240503/data/GM12878/2.Genome_wide_prediction/SCENT/SCENT_2500.250324/\"\n",
    "celltype = \"GM12878\""
   ]
  },
  {
   "cell_type": "code",
   "execution_count": 3,
   "id": "500ba317-011f-4cab-834c-de750cb7f503",
   "metadata": {},
   "outputs": [],
   "source": [
    "n.cores = 16"
   ]
  },
  {
   "cell_type": "markdown",
   "id": "9c9cdab1-486b-4539-99d3-3cd5d1d99795",
   "metadata": {},
   "source": [
    "Import candidate E-G pairs"
   ]
  },
  {
   "cell_type": "code",
   "execution_count": 4,
   "id": "f5852d15-7e3f-412b-b137-7d29a6fb47b1",
   "metadata": {},
   "outputs": [],
   "source": [
    "pairs.E2G = readRDS(path.pairs.E2G)"
   ]
  },
  {
   "cell_type": "markdown",
   "id": "bcdfac67-ce32-4d9a-8f4d-65dab644ec63",
   "metadata": {},
   "source": [
    "Import ATAC matrix"
   ]
  },
  {
   "cell_type": "code",
   "execution_count": 5,
   "id": "bd59feb4-3e33-4ebe-a107-f3b6d347a68e",
   "metadata": {},
   "outputs": [],
   "source": [
    "matrix.atac = readRDS(path.matrix.atac_count)\n",
    "matrix.atac = BinarizeCounts(matrix.atac)"
   ]
  },
  {
   "cell_type": "markdown",
   "id": "a0c5cb96-2fc4-42c4-a421-fe9a5ca537da",
   "metadata": {},
   "source": [
    "Import RNA matrix"
   ]
  },
  {
   "cell_type": "code",
   "execution_count": 6,
   "id": "96e10e90-9400-4cfe-bc7b-46a7eaee1fcd",
   "metadata": {},
   "outputs": [],
   "source": [
    "matrix.rna = read.csv(path.matrix.rna_count,\n",
    "                      row.names = 1,\n",
    "                      check.names = F)\n",
    "matrix.rna = Matrix(as.matrix(matrix.rna), sparse = TRUE)\n",
    "matrix.rna = matrix.rna[,colnames(matrix.atac)]\n",
    "matrix.rna = matrix.rna[rowSums(matrix.rna) > 0,]"
   ]
  },
  {
   "cell_type": "markdown",
   "id": "62718ef8-a3bd-4755-a95f-be216f16517b",
   "metadata": {},
   "source": [
    "Map gene names"
   ]
  },
  {
   "cell_type": "code",
   "execution_count": 7,
   "id": "0f255a65-03a4-4255-967e-0c644bfe66cd",
   "metadata": {},
   "outputs": [],
   "source": [
    "extract_attributes <- function(gtf_attributes, att_of_interest){\n",
    "  att <- unlist(strsplit(gtf_attributes, \" \"))\n",
    "  if(att_of_interest %in% att){\n",
    "    return(gsub(\"\\\"|;\",\"\", att[which(att %in% att_of_interest)+1]))\n",
    "  } else {\n",
    "    return(NA)}\n",
    "}\n",
    "map_gene_names <- function(rna_matrix, gene_gtf_path, abc_genes_path){\n",
    "\tgene_ref <- fread(gene_gtf_path, header = FALSE, sep = \"\\t\") %>%\n",
    "\t\tsetNames(c(\"chr\",\"source\",\"type\",\"start\",\"end\",\"score\",\"strand\",\"phase\",\"attributes\")) %>%\n",
    "\t\tdplyr::filter(type == \"gene\")\n",
    "\tgene_ref$gene_ref_name <- unlist(lapply(gene_ref$attributes, extract_attributes, \"gene_name\"))\n",
    "\tgene_ref$Ensembl_ID <- unlist(lapply(gene_ref$attributes, extract_attributes, \"gene_id\"))\n",
    "\tgene_ref <- dplyr::select(gene_ref, gene_ref_name, Ensembl_ID) %>%\n",
    "\t\tmutate(Ensembl_ID = sub(\"\\\\.\\\\d+$\", \"\", Ensembl_ID)) %>% # remove decimal digits \n",
    "\t\tdistinct()\n",
    "\t\n",
    "\tabc_genes <- fread(abc_genes_path, col.names = c(\"chr\", \"start\", \"end\", \"name\", \"score\", \"strand\", \"Ensembl_ID\", \"gene_type\")) %>%\n",
    "\t\tdplyr::select(name, Ensembl_ID) %>%\n",
    "\t\trename(abc_name = name) %>%\n",
    "\t\tleft_join(gene_ref, by = \"Ensembl_ID\") %>%\n",
    "\t\tgroup_by(Ensembl_ID) %>% # remove cases where multiple genes map to one ensembl ID\n",
    "\t\tfilter(n() == 1) %>%\n",
    "\t\tungroup()\n",
    "\n",
    "\tgene_key <- abc_genes$abc_name\n",
    "\tnames(gene_key) <- abc_genes$gene_ref_name\n",
    "\n",
    "\t# remove genes not in our gene universe\t\n",
    "\trow_sub <- intersect(rownames(rna_matrix), names(gene_key)) # gene ref names\n",
    "\trna_matrix_filt <- rna_matrix[row_sub,] # still gene ref names\n",
    "\trownames(rna_matrix_filt) <- gene_key[row_sub] # converted to abc names\n",
    "\n",
    "\treturn(rna_matrix_filt)\n",
    "}"
   ]
  },
  {
   "cell_type": "code",
   "execution_count": 8,
   "id": "ca760678-9db9-418e-b7ac-29984eddad7e",
   "metadata": {},
   "outputs": [],
   "source": [
    "matrix.rna.rename = map_gene_names(matrix.rna,gene_gtf_path, abc_genes_path)"
   ]
  },
  {
   "cell_type": "markdown",
   "id": "b16f7d5b-eabd-4e93-b8cd-f19a54df21f2",
   "metadata": {},
   "source": [
    "Prepare SCENT meta data"
   ]
  },
  {
   "cell_type": "code",
   "execution_count": 9,
   "id": "827059dd-6885-441e-973e-d7c49e5fd534",
   "metadata": {},
   "outputs": [
    {
     "data": {
      "text/html": [
       "<table class=\"dataframe\">\n",
       "<caption>A data.frame: 3050 × 6</caption>\n",
       "<thead>\n",
       "\t<tr><th></th><th scope=col>cell</th><th scope=col>nUMI</th><th scope=col>nMito</th><th scope=col>celltype</th><th scope=col>log.nUMI</th><th scope=col>percent.mito</th></tr>\n",
       "\t<tr><th></th><th scope=col>&lt;chr&gt;</th><th scope=col>&lt;dbl&gt;</th><th scope=col>&lt;dbl&gt;</th><th scope=col>&lt;chr&gt;</th><th scope=col>&lt;dbl&gt;</th><th scope=col>&lt;dbl&gt;</th></tr>\n",
       "</thead>\n",
       "<tbody>\n",
       "\t<tr><th scope=row>GM12878_AAACAGCCACTAAGAA-1</th><td>GM12878_AAACAGCCACTAAGAA-1</td><td>12231</td><td> 2282</td><td>GM12878</td><td> 9.411729</td><td>0.18657510</td></tr>\n",
       "\t<tr><th scope=row>GM12878_AAACAGCCATAATCAC-1</th><td>GM12878_AAACAGCCATAATCAC-1</td><td> 7295</td><td> 1201</td><td>GM12878</td><td> 8.894944</td><td>0.16463331</td></tr>\n",
       "\t<tr><th scope=row>GM12878_AAACATGCACTTGTTC-1</th><td>GM12878_AAACATGCACTTGTTC-1</td><td>41269</td><td> 8494</td><td>GM12878</td><td>10.627867</td><td>0.20582035</td></tr>\n",
       "\t<tr><th scope=row>GM12878_AAACATGCATAATCAC-1</th><td>GM12878_AAACATGCATAATCAC-1</td><td>20273</td><td> 2434</td><td>GM12878</td><td> 9.917045</td><td>0.12006117</td></tr>\n",
       "\t<tr><th scope=row>GM12878_AAACCAACATTAGCGC-1</th><td>GM12878_AAACCAACATTAGCGC-1</td><td>14614</td><td> 2538</td><td>GM12878</td><td> 9.589735</td><td>0.17366908</td></tr>\n",
       "\t<tr><th scope=row>GM12878_AAACCGAAGCAAGGAC-1</th><td>GM12878_AAACCGAAGCAAGGAC-1</td><td>10407</td><td> 1670</td><td>GM12878</td><td> 9.250234</td><td>0.16046892</td></tr>\n",
       "\t<tr><th scope=row>GM12878_AAACCGCGTAACTACG-1</th><td>GM12878_AAACCGCGTAACTACG-1</td><td>40454</td><td> 8623</td><td>GM12878</td><td>10.607921</td><td>0.21315568</td></tr>\n",
       "\t<tr><th scope=row>GM12878_AAACCGGCAGTAAGTA-1</th><td>GM12878_AAACCGGCAGTAAGTA-1</td><td> 7334</td><td> 1757</td><td>GM12878</td><td> 8.900276</td><td>0.23956913</td></tr>\n",
       "\t<tr><th scope=row>GM12878_AAACCGGCATTAAACC-1</th><td>GM12878_AAACCGGCATTAAACC-1</td><td>20950</td><td> 2776</td><td>GM12878</td><td> 9.949894</td><td>0.13250597</td></tr>\n",
       "\t<tr><th scope=row>GM12878_AAACGGATCTGTAATG-1</th><td>GM12878_AAACGGATCTGTAATG-1</td><td>24078</td><td> 1488</td><td>GM12878</td><td>10.089054</td><td>0.06179915</td></tr>\n",
       "\t<tr><th scope=row>GM12878_AAAGCAAGTCATGCAA-1</th><td>GM12878_AAAGCAAGTCATGCAA-1</td><td>27877</td><td> 6930</td><td>GM12878</td><td>10.235557</td><td>0.24859203</td></tr>\n",
       "\t<tr><th scope=row>GM12878_AAAGCAAGTTGTTGGA-1</th><td>GM12878_AAAGCAAGTTGTTGGA-1</td><td>15236</td><td> 2732</td><td>GM12878</td><td> 9.631416</td><td>0.17931216</td></tr>\n",
       "\t<tr><th scope=row>GM12878_AAAGCACCAAACAACA-1</th><td>GM12878_AAAGCACCAAACAACA-1</td><td>12756</td><td> 1160</td><td>GM12878</td><td> 9.453757</td><td>0.09093760</td></tr>\n",
       "\t<tr><th scope=row>GM12878_AAAGCACCAATAATGG-1</th><td>GM12878_AAAGCACCAATAATGG-1</td><td>14808</td><td> 2775</td><td>GM12878</td><td> 9.602923</td><td>0.18739870</td></tr>\n",
       "\t<tr><th scope=row>GM12878_AAAGCACCACCTAATG-1</th><td>GM12878_AAAGCACCACCTAATG-1</td><td>30289</td><td> 4379</td><td>GM12878</td><td>10.318540</td><td>0.14457394</td></tr>\n",
       "\t<tr><th scope=row>GM12878_AAAGCCCGTATTTGGG-1</th><td>GM12878_AAAGCCCGTATTTGGG-1</td><td>19116</td><td> 3909</td><td>GM12878</td><td> 9.858281</td><td>0.20448839</td></tr>\n",
       "\t<tr><th scope=row>GM12878_AAAGCCCGTTTCAGGA-1</th><td>GM12878_AAAGCCCGTTTCAGGA-1</td><td> 5586</td><td>  505</td><td>GM12878</td><td> 8.628019</td><td>0.09040458</td></tr>\n",
       "\t<tr><th scope=row>GM12878_AAAGCCGCAGGAACAT-1</th><td>GM12878_AAAGCCGCAGGAACAT-1</td><td> 5968</td><td>  112</td><td>GM12878</td><td> 8.694167</td><td>0.01876676</td></tr>\n",
       "\t<tr><th scope=row>GM12878_AAAGCCGCATTGTGCA-1</th><td>GM12878_AAAGCCGCATTGTGCA-1</td><td> 5332</td><td>  140</td><td>GM12878</td><td> 8.581482</td><td>0.02625656</td></tr>\n",
       "\t<tr><th scope=row>GM12878_AAAGCGGGTAACGTGC-1</th><td>GM12878_AAAGCGGGTAACGTGC-1</td><td>17303</td><td> 2070</td><td>GM12878</td><td> 9.758635</td><td>0.11963243</td></tr>\n",
       "\t<tr><th scope=row>GM12878_AAAGCGGGTCAAAGGG-1</th><td>GM12878_AAAGCGGGTCAAAGGG-1</td><td> 5885</td><td>  288</td><td>GM12878</td><td> 8.680162</td><td>0.04893798</td></tr>\n",
       "\t<tr><th scope=row>GM12878_AAAGCGGGTTCGCTCA-1</th><td>GM12878_AAAGCGGGTTCGCTCA-1</td><td>16029</td><td> 1554</td><td>GM12878</td><td> 9.682155</td><td>0.09694928</td></tr>\n",
       "\t<tr><th scope=row>GM12878_AAAGCTTGTACGGTAC-1</th><td>GM12878_AAAGCTTGTACGGTAC-1</td><td>24931</td><td> 3652</td><td>GM12878</td><td>10.123867</td><td>0.14648430</td></tr>\n",
       "\t<tr><th scope=row>GM12878_AAAGCTTGTTAAGGTT-1</th><td>GM12878_AAAGCTTGTTAAGGTT-1</td><td>33596</td><td> 8537</td><td>GM12878</td><td>10.422162</td><td>0.25410763</td></tr>\n",
       "\t<tr><th scope=row>GM12878_AAAGGACGTTAAGCGC-1</th><td>GM12878_AAAGGACGTTAAGCGC-1</td><td>13597</td><td> 1644</td><td>GM12878</td><td> 9.517604</td><td>0.12090902</td></tr>\n",
       "\t<tr><th scope=row>GM12878_AAAGGAGCAAGGTATA-1</th><td>GM12878_AAAGGAGCAAGGTATA-1</td><td> 7298</td><td> 1024</td><td>GM12878</td><td> 8.895356</td><td>0.14031241</td></tr>\n",
       "\t<tr><th scope=row>GM12878_AAAGGAGCAATAAGCA-1</th><td>GM12878_AAAGGAGCAATAAGCA-1</td><td>24390</td><td> 3393</td><td>GM12878</td><td>10.101928</td><td>0.13911439</td></tr>\n",
       "\t<tr><th scope=row>GM12878_AAAGGCTCAAGGATTA-1</th><td>GM12878_AAAGGCTCAAGGATTA-1</td><td>19970</td><td> 2871</td><td>GM12878</td><td> 9.901986</td><td>0.14376565</td></tr>\n",
       "\t<tr><th scope=row>GM12878_AAAGGCTCAGGCTTCG-1</th><td>GM12878_AAAGGCTCAGGCTTCG-1</td><td>16615</td><td> 3014</td><td>GM12878</td><td> 9.718061</td><td>0.18140235</td></tr>\n",
       "\t<tr><th scope=row>GM12878_AAAGGCTCATAAGTCT-1</th><td>GM12878_AAAGGCTCATAAGTCT-1</td><td>49112</td><td>10206</td><td>GM12878</td><td>10.801859</td><td>0.20781072</td></tr>\n",
       "\t<tr><th scope=row>⋮</th><td>⋮</td><td>⋮</td><td>⋮</td><td>⋮</td><td>⋮</td><td>⋮</td></tr>\n",
       "\t<tr><th scope=row>GM12878_TTTGACTTCAAGACTC-1</th><td>GM12878_TTTGACTTCAAGACTC-1</td><td>  7823</td><td>  403</td><td>GM12878</td><td> 8.964823</td><td>0.051514764</td></tr>\n",
       "\t<tr><th scope=row>GM12878_TTTGACTTCATTACAG-1</th><td>GM12878_TTTGACTTCATTACAG-1</td><td> 18743</td><td>  159</td><td>GM12878</td><td> 9.838576</td><td>0.008483167</td></tr>\n",
       "\t<tr><th scope=row>GM12878_TTTGACTTCTCAATGA-1</th><td>GM12878_TTTGACTTCTCAATGA-1</td><td>105555</td><td>26097</td><td>GM12878</td><td>11.566987</td><td>0.247236038</td></tr>\n",
       "\t<tr><th scope=row>GM12878_TTTGAGTCATCCTAGA-1</th><td>GM12878_TTTGAGTCATCCTAGA-1</td><td> 12166</td><td> 1998</td><td>GM12878</td><td> 9.406400</td><td>0.164228177</td></tr>\n",
       "\t<tr><th scope=row>GM12878_TTTGAGTCATGCTATG-1</th><td>GM12878_TTTGAGTCATGCTATG-1</td><td> 15790</td><td> 2611</td><td>GM12878</td><td> 9.667132</td><td>0.165357821</td></tr>\n",
       "\t<tr><th scope=row>GM12878_TTTGCATTCAATGAGG-1</th><td>GM12878_TTTGCATTCAATGAGG-1</td><td> 25877</td><td> 3841</td><td>GM12878</td><td>10.161110</td><td>0.148432971</td></tr>\n",
       "\t<tr><th scope=row>GM12878_TTTGCATTCATAACTG-1</th><td>GM12878_TTTGCATTCATAACTG-1</td><td> 66451</td><td>12580</td><td>GM12878</td><td>11.104220</td><td>0.189312426</td></tr>\n",
       "\t<tr><th scope=row>GM12878_TTTGCATTCCTAAGAC-1</th><td>GM12878_TTTGCATTCCTAAGAC-1</td><td> 11981</td><td> 1520</td><td>GM12878</td><td> 9.391077</td><td>0.126867540</td></tr>\n",
       "\t<tr><th scope=row>GM12878_TTTGCATTCGCTAAGT-1</th><td>GM12878_TTTGCATTCGCTAAGT-1</td><td>  6852</td><td>   89</td><td>GM12878</td><td> 8.832296</td><td>0.012988908</td></tr>\n",
       "\t<tr><th scope=row>GM12878_TTTGCATTCTAGCGTG-1</th><td>GM12878_TTTGCATTCTAGCGTG-1</td><td>  9531</td><td> 1070</td><td>GM12878</td><td> 9.162305</td><td>0.112265240</td></tr>\n",
       "\t<tr><th scope=row>GM12878_TTTGCGACACAGAAAC-1</th><td>GM12878_TTTGCGACACAGAAAC-1</td><td> 10584</td><td> 2013</td><td>GM12878</td><td> 9.267099</td><td>0.190192744</td></tr>\n",
       "\t<tr><th scope=row>GM12878_TTTGCGACACCTATAG-1</th><td>GM12878_TTTGCGACACCTATAG-1</td><td> 12526</td><td>  916</td><td>GM12878</td><td> 9.435562</td><td>0.073127894</td></tr>\n",
       "\t<tr><th scope=row>GM12878_TTTGCGACACGTGCTG-1</th><td>GM12878_TTTGCGACACGTGCTG-1</td><td> 21549</td><td> 2697</td><td>GM12878</td><td> 9.978085</td><td>0.125156620</td></tr>\n",
       "\t<tr><th scope=row>GM12878_TTTGCGACAGGGAGCT-1</th><td>GM12878_TTTGCGACAGGGAGCT-1</td><td>  9638</td><td> 1314</td><td>GM12878</td><td> 9.173469</td><td>0.136335339</td></tr>\n",
       "\t<tr><th scope=row>GM12878_TTTGCGGAGTGCACGC-1</th><td>GM12878_TTTGCGGAGTGCACGC-1</td><td>  7814</td><td>   19</td><td>GM12878</td><td> 8.963672</td><td>0.002431533</td></tr>\n",
       "\t<tr><th scope=row>GM12878_TTTGGCTGTCCTAACT-1</th><td>GM12878_TTTGGCTGTCCTAACT-1</td><td> 18983</td><td> 3361</td><td>GM12878</td><td> 9.851299</td><td>0.177053153</td></tr>\n",
       "\t<tr><th scope=row>GM12878_TTTGGCTGTTGGCCGA-1</th><td>GM12878_TTTGGCTGTTGGCCGA-1</td><td> 10957</td><td>  955</td><td>GM12878</td><td> 9.301734</td><td>0.087158894</td></tr>\n",
       "\t<tr><th scope=row>GM12878_TTTGTCCCACATAGCC-1</th><td>GM12878_TTTGTCCCACATAGCC-1</td><td> 21573</td><td> 3060</td><td>GM12878</td><td> 9.979198</td><td>0.141843972</td></tr>\n",
       "\t<tr><th scope=row>GM12878_TTTGTGAAGCGCATTG-1</th><td>GM12878_TTTGTGAAGCGCATTG-1</td><td>  8913</td><td>  123</td><td>GM12878</td><td> 9.095266</td><td>0.013800067</td></tr>\n",
       "\t<tr><th scope=row>GM12878_TTTGTGAAGCTTTGTT-1</th><td>GM12878_TTTGTGAAGCTTTGTT-1</td><td> 17678</td><td> 2941</td><td>GM12878</td><td> 9.780076</td><td>0.166364973</td></tr>\n",
       "\t<tr><th scope=row>GM12878_TTTGTGGCAAACCTAT-1</th><td>GM12878_TTTGTGGCAAACCTAT-1</td><td> 21927</td><td> 4168</td><td>GM12878</td><td> 9.995474</td><td>0.190085283</td></tr>\n",
       "\t<tr><th scope=row>GM12878_TTTGTGGCAAAGGTAC-1</th><td>GM12878_TTTGTGGCAAAGGTAC-1</td><td>  7312</td><td>  599</td><td>GM12878</td><td> 8.897272</td><td>0.081920131</td></tr>\n",
       "\t<tr><th scope=row>GM12878_TTTGTGGCAAGGACCA-1</th><td>GM12878_TTTGTGGCAAGGACCA-1</td><td> 17793</td><td> 2588</td><td>GM12878</td><td> 9.786560</td><td>0.145450458</td></tr>\n",
       "\t<tr><th scope=row>GM12878_TTTGTGGCACTTAACG-1</th><td>GM12878_TTTGTGGCACTTAACG-1</td><td> 11882</td><td>  598</td><td>GM12878</td><td> 9.382780</td><td>0.050328228</td></tr>\n",
       "\t<tr><th scope=row>GM12878_TTTGTGTTCCAAACAC-1</th><td>GM12878_TTTGTGTTCCAAACAC-1</td><td> 11987</td><td> 1440</td><td>GM12878</td><td> 9.391578</td><td>0.120130141</td></tr>\n",
       "\t<tr><th scope=row>GM12878_TTTGTGTTCCAAGTTA-1</th><td>GM12878_TTTGTGTTCCAAGTTA-1</td><td> 27044</td><td> 2222</td><td>GM12878</td><td>10.205220</td><td>0.082162402</td></tr>\n",
       "\t<tr><th scope=row>GM12878_TTTGTGTTCCTCAGCT-1</th><td>GM12878_TTTGTGTTCCTCAGCT-1</td><td> 37531</td><td> 3515</td><td>GM12878</td><td>10.532923</td><td>0.093655911</td></tr>\n",
       "\t<tr><th scope=row>GM12878_TTTGTGTTCGCCTAAG-1</th><td>GM12878_TTTGTGTTCGCCTAAG-1</td><td> 24189</td><td> 3039</td><td>GM12878</td><td>10.093653</td><td>0.125635619</td></tr>\n",
       "\t<tr><th scope=row>GM12878_TTTGTTGGTCACAAAT-1</th><td>GM12878_TTTGTTGGTCACAAAT-1</td><td> 11429</td><td> 2155</td><td>GM12878</td><td> 9.343909</td><td>0.188555429</td></tr>\n",
       "\t<tr><th scope=row>GM12878_TTTGTTGGTTGGTGAC-1</th><td>GM12878_TTTGTTGGTTGGTGAC-1</td><td> 31774</td><td>  479</td><td>GM12878</td><td>10.366404</td><td>0.015075219</td></tr>\n",
       "</tbody>\n",
       "</table>\n"
      ],
      "text/latex": [
       "A data.frame: 3050 × 6\n",
       "\\begin{tabular}{r|llllll}\n",
       "  & cell & nUMI & nMito & celltype & log.nUMI & percent.mito\\\\\n",
       "  & <chr> & <dbl> & <dbl> & <chr> & <dbl> & <dbl>\\\\\n",
       "\\hline\n",
       "\tGM12878\\_AAACAGCCACTAAGAA-1 & GM12878\\_AAACAGCCACTAAGAA-1 & 12231 &  2282 & GM12878 &  9.411729 & 0.18657510\\\\\n",
       "\tGM12878\\_AAACAGCCATAATCAC-1 & GM12878\\_AAACAGCCATAATCAC-1 &  7295 &  1201 & GM12878 &  8.894944 & 0.16463331\\\\\n",
       "\tGM12878\\_AAACATGCACTTGTTC-1 & GM12878\\_AAACATGCACTTGTTC-1 & 41269 &  8494 & GM12878 & 10.627867 & 0.20582035\\\\\n",
       "\tGM12878\\_AAACATGCATAATCAC-1 & GM12878\\_AAACATGCATAATCAC-1 & 20273 &  2434 & GM12878 &  9.917045 & 0.12006117\\\\\n",
       "\tGM12878\\_AAACCAACATTAGCGC-1 & GM12878\\_AAACCAACATTAGCGC-1 & 14614 &  2538 & GM12878 &  9.589735 & 0.17366908\\\\\n",
       "\tGM12878\\_AAACCGAAGCAAGGAC-1 & GM12878\\_AAACCGAAGCAAGGAC-1 & 10407 &  1670 & GM12878 &  9.250234 & 0.16046892\\\\\n",
       "\tGM12878\\_AAACCGCGTAACTACG-1 & GM12878\\_AAACCGCGTAACTACG-1 & 40454 &  8623 & GM12878 & 10.607921 & 0.21315568\\\\\n",
       "\tGM12878\\_AAACCGGCAGTAAGTA-1 & GM12878\\_AAACCGGCAGTAAGTA-1 &  7334 &  1757 & GM12878 &  8.900276 & 0.23956913\\\\\n",
       "\tGM12878\\_AAACCGGCATTAAACC-1 & GM12878\\_AAACCGGCATTAAACC-1 & 20950 &  2776 & GM12878 &  9.949894 & 0.13250597\\\\\n",
       "\tGM12878\\_AAACGGATCTGTAATG-1 & GM12878\\_AAACGGATCTGTAATG-1 & 24078 &  1488 & GM12878 & 10.089054 & 0.06179915\\\\\n",
       "\tGM12878\\_AAAGCAAGTCATGCAA-1 & GM12878\\_AAAGCAAGTCATGCAA-1 & 27877 &  6930 & GM12878 & 10.235557 & 0.24859203\\\\\n",
       "\tGM12878\\_AAAGCAAGTTGTTGGA-1 & GM12878\\_AAAGCAAGTTGTTGGA-1 & 15236 &  2732 & GM12878 &  9.631416 & 0.17931216\\\\\n",
       "\tGM12878\\_AAAGCACCAAACAACA-1 & GM12878\\_AAAGCACCAAACAACA-1 & 12756 &  1160 & GM12878 &  9.453757 & 0.09093760\\\\\n",
       "\tGM12878\\_AAAGCACCAATAATGG-1 & GM12878\\_AAAGCACCAATAATGG-1 & 14808 &  2775 & GM12878 &  9.602923 & 0.18739870\\\\\n",
       "\tGM12878\\_AAAGCACCACCTAATG-1 & GM12878\\_AAAGCACCACCTAATG-1 & 30289 &  4379 & GM12878 & 10.318540 & 0.14457394\\\\\n",
       "\tGM12878\\_AAAGCCCGTATTTGGG-1 & GM12878\\_AAAGCCCGTATTTGGG-1 & 19116 &  3909 & GM12878 &  9.858281 & 0.20448839\\\\\n",
       "\tGM12878\\_AAAGCCCGTTTCAGGA-1 & GM12878\\_AAAGCCCGTTTCAGGA-1 &  5586 &   505 & GM12878 &  8.628019 & 0.09040458\\\\\n",
       "\tGM12878\\_AAAGCCGCAGGAACAT-1 & GM12878\\_AAAGCCGCAGGAACAT-1 &  5968 &   112 & GM12878 &  8.694167 & 0.01876676\\\\\n",
       "\tGM12878\\_AAAGCCGCATTGTGCA-1 & GM12878\\_AAAGCCGCATTGTGCA-1 &  5332 &   140 & GM12878 &  8.581482 & 0.02625656\\\\\n",
       "\tGM12878\\_AAAGCGGGTAACGTGC-1 & GM12878\\_AAAGCGGGTAACGTGC-1 & 17303 &  2070 & GM12878 &  9.758635 & 0.11963243\\\\\n",
       "\tGM12878\\_AAAGCGGGTCAAAGGG-1 & GM12878\\_AAAGCGGGTCAAAGGG-1 &  5885 &   288 & GM12878 &  8.680162 & 0.04893798\\\\\n",
       "\tGM12878\\_AAAGCGGGTTCGCTCA-1 & GM12878\\_AAAGCGGGTTCGCTCA-1 & 16029 &  1554 & GM12878 &  9.682155 & 0.09694928\\\\\n",
       "\tGM12878\\_AAAGCTTGTACGGTAC-1 & GM12878\\_AAAGCTTGTACGGTAC-1 & 24931 &  3652 & GM12878 & 10.123867 & 0.14648430\\\\\n",
       "\tGM12878\\_AAAGCTTGTTAAGGTT-1 & GM12878\\_AAAGCTTGTTAAGGTT-1 & 33596 &  8537 & GM12878 & 10.422162 & 0.25410763\\\\\n",
       "\tGM12878\\_AAAGGACGTTAAGCGC-1 & GM12878\\_AAAGGACGTTAAGCGC-1 & 13597 &  1644 & GM12878 &  9.517604 & 0.12090902\\\\\n",
       "\tGM12878\\_AAAGGAGCAAGGTATA-1 & GM12878\\_AAAGGAGCAAGGTATA-1 &  7298 &  1024 & GM12878 &  8.895356 & 0.14031241\\\\\n",
       "\tGM12878\\_AAAGGAGCAATAAGCA-1 & GM12878\\_AAAGGAGCAATAAGCA-1 & 24390 &  3393 & GM12878 & 10.101928 & 0.13911439\\\\\n",
       "\tGM12878\\_AAAGGCTCAAGGATTA-1 & GM12878\\_AAAGGCTCAAGGATTA-1 & 19970 &  2871 & GM12878 &  9.901986 & 0.14376565\\\\\n",
       "\tGM12878\\_AAAGGCTCAGGCTTCG-1 & GM12878\\_AAAGGCTCAGGCTTCG-1 & 16615 &  3014 & GM12878 &  9.718061 & 0.18140235\\\\\n",
       "\tGM12878\\_AAAGGCTCATAAGTCT-1 & GM12878\\_AAAGGCTCATAAGTCT-1 & 49112 & 10206 & GM12878 & 10.801859 & 0.20781072\\\\\n",
       "\t⋮ & ⋮ & ⋮ & ⋮ & ⋮ & ⋮ & ⋮\\\\\n",
       "\tGM12878\\_TTTGACTTCAAGACTC-1 & GM12878\\_TTTGACTTCAAGACTC-1 &   7823 &   403 & GM12878 &  8.964823 & 0.051514764\\\\\n",
       "\tGM12878\\_TTTGACTTCATTACAG-1 & GM12878\\_TTTGACTTCATTACAG-1 &  18743 &   159 & GM12878 &  9.838576 & 0.008483167\\\\\n",
       "\tGM12878\\_TTTGACTTCTCAATGA-1 & GM12878\\_TTTGACTTCTCAATGA-1 & 105555 & 26097 & GM12878 & 11.566987 & 0.247236038\\\\\n",
       "\tGM12878\\_TTTGAGTCATCCTAGA-1 & GM12878\\_TTTGAGTCATCCTAGA-1 &  12166 &  1998 & GM12878 &  9.406400 & 0.164228177\\\\\n",
       "\tGM12878\\_TTTGAGTCATGCTATG-1 & GM12878\\_TTTGAGTCATGCTATG-1 &  15790 &  2611 & GM12878 &  9.667132 & 0.165357821\\\\\n",
       "\tGM12878\\_TTTGCATTCAATGAGG-1 & GM12878\\_TTTGCATTCAATGAGG-1 &  25877 &  3841 & GM12878 & 10.161110 & 0.148432971\\\\\n",
       "\tGM12878\\_TTTGCATTCATAACTG-1 & GM12878\\_TTTGCATTCATAACTG-1 &  66451 & 12580 & GM12878 & 11.104220 & 0.189312426\\\\\n",
       "\tGM12878\\_TTTGCATTCCTAAGAC-1 & GM12878\\_TTTGCATTCCTAAGAC-1 &  11981 &  1520 & GM12878 &  9.391077 & 0.126867540\\\\\n",
       "\tGM12878\\_TTTGCATTCGCTAAGT-1 & GM12878\\_TTTGCATTCGCTAAGT-1 &   6852 &    89 & GM12878 &  8.832296 & 0.012988908\\\\\n",
       "\tGM12878\\_TTTGCATTCTAGCGTG-1 & GM12878\\_TTTGCATTCTAGCGTG-1 &   9531 &  1070 & GM12878 &  9.162305 & 0.112265240\\\\\n",
       "\tGM12878\\_TTTGCGACACAGAAAC-1 & GM12878\\_TTTGCGACACAGAAAC-1 &  10584 &  2013 & GM12878 &  9.267099 & 0.190192744\\\\\n",
       "\tGM12878\\_TTTGCGACACCTATAG-1 & GM12878\\_TTTGCGACACCTATAG-1 &  12526 &   916 & GM12878 &  9.435562 & 0.073127894\\\\\n",
       "\tGM12878\\_TTTGCGACACGTGCTG-1 & GM12878\\_TTTGCGACACGTGCTG-1 &  21549 &  2697 & GM12878 &  9.978085 & 0.125156620\\\\\n",
       "\tGM12878\\_TTTGCGACAGGGAGCT-1 & GM12878\\_TTTGCGACAGGGAGCT-1 &   9638 &  1314 & GM12878 &  9.173469 & 0.136335339\\\\\n",
       "\tGM12878\\_TTTGCGGAGTGCACGC-1 & GM12878\\_TTTGCGGAGTGCACGC-1 &   7814 &    19 & GM12878 &  8.963672 & 0.002431533\\\\\n",
       "\tGM12878\\_TTTGGCTGTCCTAACT-1 & GM12878\\_TTTGGCTGTCCTAACT-1 &  18983 &  3361 & GM12878 &  9.851299 & 0.177053153\\\\\n",
       "\tGM12878\\_TTTGGCTGTTGGCCGA-1 & GM12878\\_TTTGGCTGTTGGCCGA-1 &  10957 &   955 & GM12878 &  9.301734 & 0.087158894\\\\\n",
       "\tGM12878\\_TTTGTCCCACATAGCC-1 & GM12878\\_TTTGTCCCACATAGCC-1 &  21573 &  3060 & GM12878 &  9.979198 & 0.141843972\\\\\n",
       "\tGM12878\\_TTTGTGAAGCGCATTG-1 & GM12878\\_TTTGTGAAGCGCATTG-1 &   8913 &   123 & GM12878 &  9.095266 & 0.013800067\\\\\n",
       "\tGM12878\\_TTTGTGAAGCTTTGTT-1 & GM12878\\_TTTGTGAAGCTTTGTT-1 &  17678 &  2941 & GM12878 &  9.780076 & 0.166364973\\\\\n",
       "\tGM12878\\_TTTGTGGCAAACCTAT-1 & GM12878\\_TTTGTGGCAAACCTAT-1 &  21927 &  4168 & GM12878 &  9.995474 & 0.190085283\\\\\n",
       "\tGM12878\\_TTTGTGGCAAAGGTAC-1 & GM12878\\_TTTGTGGCAAAGGTAC-1 &   7312 &   599 & GM12878 &  8.897272 & 0.081920131\\\\\n",
       "\tGM12878\\_TTTGTGGCAAGGACCA-1 & GM12878\\_TTTGTGGCAAGGACCA-1 &  17793 &  2588 & GM12878 &  9.786560 & 0.145450458\\\\\n",
       "\tGM12878\\_TTTGTGGCACTTAACG-1 & GM12878\\_TTTGTGGCACTTAACG-1 &  11882 &   598 & GM12878 &  9.382780 & 0.050328228\\\\\n",
       "\tGM12878\\_TTTGTGTTCCAAACAC-1 & GM12878\\_TTTGTGTTCCAAACAC-1 &  11987 &  1440 & GM12878 &  9.391578 & 0.120130141\\\\\n",
       "\tGM12878\\_TTTGTGTTCCAAGTTA-1 & GM12878\\_TTTGTGTTCCAAGTTA-1 &  27044 &  2222 & GM12878 & 10.205220 & 0.082162402\\\\\n",
       "\tGM12878\\_TTTGTGTTCCTCAGCT-1 & GM12878\\_TTTGTGTTCCTCAGCT-1 &  37531 &  3515 & GM12878 & 10.532923 & 0.093655911\\\\\n",
       "\tGM12878\\_TTTGTGTTCGCCTAAG-1 & GM12878\\_TTTGTGTTCGCCTAAG-1 &  24189 &  3039 & GM12878 & 10.093653 & 0.125635619\\\\\n",
       "\tGM12878\\_TTTGTTGGTCACAAAT-1 & GM12878\\_TTTGTTGGTCACAAAT-1 &  11429 &  2155 & GM12878 &  9.343909 & 0.188555429\\\\\n",
       "\tGM12878\\_TTTGTTGGTTGGTGAC-1 & GM12878\\_TTTGTTGGTTGGTGAC-1 &  31774 &   479 & GM12878 & 10.366404 & 0.015075219\\\\\n",
       "\\end{tabular}\n"
      ],
      "text/markdown": [
       "\n",
       "A data.frame: 3050 × 6\n",
       "\n",
       "| <!--/--> | cell &lt;chr&gt; | nUMI &lt;dbl&gt; | nMito &lt;dbl&gt; | celltype &lt;chr&gt; | log.nUMI &lt;dbl&gt; | percent.mito &lt;dbl&gt; |\n",
       "|---|---|---|---|---|---|---|\n",
       "| GM12878_AAACAGCCACTAAGAA-1 | GM12878_AAACAGCCACTAAGAA-1 | 12231 |  2282 | GM12878 |  9.411729 | 0.18657510 |\n",
       "| GM12878_AAACAGCCATAATCAC-1 | GM12878_AAACAGCCATAATCAC-1 |  7295 |  1201 | GM12878 |  8.894944 | 0.16463331 |\n",
       "| GM12878_AAACATGCACTTGTTC-1 | GM12878_AAACATGCACTTGTTC-1 | 41269 |  8494 | GM12878 | 10.627867 | 0.20582035 |\n",
       "| GM12878_AAACATGCATAATCAC-1 | GM12878_AAACATGCATAATCAC-1 | 20273 |  2434 | GM12878 |  9.917045 | 0.12006117 |\n",
       "| GM12878_AAACCAACATTAGCGC-1 | GM12878_AAACCAACATTAGCGC-1 | 14614 |  2538 | GM12878 |  9.589735 | 0.17366908 |\n",
       "| GM12878_AAACCGAAGCAAGGAC-1 | GM12878_AAACCGAAGCAAGGAC-1 | 10407 |  1670 | GM12878 |  9.250234 | 0.16046892 |\n",
       "| GM12878_AAACCGCGTAACTACG-1 | GM12878_AAACCGCGTAACTACG-1 | 40454 |  8623 | GM12878 | 10.607921 | 0.21315568 |\n",
       "| GM12878_AAACCGGCAGTAAGTA-1 | GM12878_AAACCGGCAGTAAGTA-1 |  7334 |  1757 | GM12878 |  8.900276 | 0.23956913 |\n",
       "| GM12878_AAACCGGCATTAAACC-1 | GM12878_AAACCGGCATTAAACC-1 | 20950 |  2776 | GM12878 |  9.949894 | 0.13250597 |\n",
       "| GM12878_AAACGGATCTGTAATG-1 | GM12878_AAACGGATCTGTAATG-1 | 24078 |  1488 | GM12878 | 10.089054 | 0.06179915 |\n",
       "| GM12878_AAAGCAAGTCATGCAA-1 | GM12878_AAAGCAAGTCATGCAA-1 | 27877 |  6930 | GM12878 | 10.235557 | 0.24859203 |\n",
       "| GM12878_AAAGCAAGTTGTTGGA-1 | GM12878_AAAGCAAGTTGTTGGA-1 | 15236 |  2732 | GM12878 |  9.631416 | 0.17931216 |\n",
       "| GM12878_AAAGCACCAAACAACA-1 | GM12878_AAAGCACCAAACAACA-1 | 12756 |  1160 | GM12878 |  9.453757 | 0.09093760 |\n",
       "| GM12878_AAAGCACCAATAATGG-1 | GM12878_AAAGCACCAATAATGG-1 | 14808 |  2775 | GM12878 |  9.602923 | 0.18739870 |\n",
       "| GM12878_AAAGCACCACCTAATG-1 | GM12878_AAAGCACCACCTAATG-1 | 30289 |  4379 | GM12878 | 10.318540 | 0.14457394 |\n",
       "| GM12878_AAAGCCCGTATTTGGG-1 | GM12878_AAAGCCCGTATTTGGG-1 | 19116 |  3909 | GM12878 |  9.858281 | 0.20448839 |\n",
       "| GM12878_AAAGCCCGTTTCAGGA-1 | GM12878_AAAGCCCGTTTCAGGA-1 |  5586 |   505 | GM12878 |  8.628019 | 0.09040458 |\n",
       "| GM12878_AAAGCCGCAGGAACAT-1 | GM12878_AAAGCCGCAGGAACAT-1 |  5968 |   112 | GM12878 |  8.694167 | 0.01876676 |\n",
       "| GM12878_AAAGCCGCATTGTGCA-1 | GM12878_AAAGCCGCATTGTGCA-1 |  5332 |   140 | GM12878 |  8.581482 | 0.02625656 |\n",
       "| GM12878_AAAGCGGGTAACGTGC-1 | GM12878_AAAGCGGGTAACGTGC-1 | 17303 |  2070 | GM12878 |  9.758635 | 0.11963243 |\n",
       "| GM12878_AAAGCGGGTCAAAGGG-1 | GM12878_AAAGCGGGTCAAAGGG-1 |  5885 |   288 | GM12878 |  8.680162 | 0.04893798 |\n",
       "| GM12878_AAAGCGGGTTCGCTCA-1 | GM12878_AAAGCGGGTTCGCTCA-1 | 16029 |  1554 | GM12878 |  9.682155 | 0.09694928 |\n",
       "| GM12878_AAAGCTTGTACGGTAC-1 | GM12878_AAAGCTTGTACGGTAC-1 | 24931 |  3652 | GM12878 | 10.123867 | 0.14648430 |\n",
       "| GM12878_AAAGCTTGTTAAGGTT-1 | GM12878_AAAGCTTGTTAAGGTT-1 | 33596 |  8537 | GM12878 | 10.422162 | 0.25410763 |\n",
       "| GM12878_AAAGGACGTTAAGCGC-1 | GM12878_AAAGGACGTTAAGCGC-1 | 13597 |  1644 | GM12878 |  9.517604 | 0.12090902 |\n",
       "| GM12878_AAAGGAGCAAGGTATA-1 | GM12878_AAAGGAGCAAGGTATA-1 |  7298 |  1024 | GM12878 |  8.895356 | 0.14031241 |\n",
       "| GM12878_AAAGGAGCAATAAGCA-1 | GM12878_AAAGGAGCAATAAGCA-1 | 24390 |  3393 | GM12878 | 10.101928 | 0.13911439 |\n",
       "| GM12878_AAAGGCTCAAGGATTA-1 | GM12878_AAAGGCTCAAGGATTA-1 | 19970 |  2871 | GM12878 |  9.901986 | 0.14376565 |\n",
       "| GM12878_AAAGGCTCAGGCTTCG-1 | GM12878_AAAGGCTCAGGCTTCG-1 | 16615 |  3014 | GM12878 |  9.718061 | 0.18140235 |\n",
       "| GM12878_AAAGGCTCATAAGTCT-1 | GM12878_AAAGGCTCATAAGTCT-1 | 49112 | 10206 | GM12878 | 10.801859 | 0.20781072 |\n",
       "| ⋮ | ⋮ | ⋮ | ⋮ | ⋮ | ⋮ | ⋮ |\n",
       "| GM12878_TTTGACTTCAAGACTC-1 | GM12878_TTTGACTTCAAGACTC-1 |   7823 |   403 | GM12878 |  8.964823 | 0.051514764 |\n",
       "| GM12878_TTTGACTTCATTACAG-1 | GM12878_TTTGACTTCATTACAG-1 |  18743 |   159 | GM12878 |  9.838576 | 0.008483167 |\n",
       "| GM12878_TTTGACTTCTCAATGA-1 | GM12878_TTTGACTTCTCAATGA-1 | 105555 | 26097 | GM12878 | 11.566987 | 0.247236038 |\n",
       "| GM12878_TTTGAGTCATCCTAGA-1 | GM12878_TTTGAGTCATCCTAGA-1 |  12166 |  1998 | GM12878 |  9.406400 | 0.164228177 |\n",
       "| GM12878_TTTGAGTCATGCTATG-1 | GM12878_TTTGAGTCATGCTATG-1 |  15790 |  2611 | GM12878 |  9.667132 | 0.165357821 |\n",
       "| GM12878_TTTGCATTCAATGAGG-1 | GM12878_TTTGCATTCAATGAGG-1 |  25877 |  3841 | GM12878 | 10.161110 | 0.148432971 |\n",
       "| GM12878_TTTGCATTCATAACTG-1 | GM12878_TTTGCATTCATAACTG-1 |  66451 | 12580 | GM12878 | 11.104220 | 0.189312426 |\n",
       "| GM12878_TTTGCATTCCTAAGAC-1 | GM12878_TTTGCATTCCTAAGAC-1 |  11981 |  1520 | GM12878 |  9.391077 | 0.126867540 |\n",
       "| GM12878_TTTGCATTCGCTAAGT-1 | GM12878_TTTGCATTCGCTAAGT-1 |   6852 |    89 | GM12878 |  8.832296 | 0.012988908 |\n",
       "| GM12878_TTTGCATTCTAGCGTG-1 | GM12878_TTTGCATTCTAGCGTG-1 |   9531 |  1070 | GM12878 |  9.162305 | 0.112265240 |\n",
       "| GM12878_TTTGCGACACAGAAAC-1 | GM12878_TTTGCGACACAGAAAC-1 |  10584 |  2013 | GM12878 |  9.267099 | 0.190192744 |\n",
       "| GM12878_TTTGCGACACCTATAG-1 | GM12878_TTTGCGACACCTATAG-1 |  12526 |   916 | GM12878 |  9.435562 | 0.073127894 |\n",
       "| GM12878_TTTGCGACACGTGCTG-1 | GM12878_TTTGCGACACGTGCTG-1 |  21549 |  2697 | GM12878 |  9.978085 | 0.125156620 |\n",
       "| GM12878_TTTGCGACAGGGAGCT-1 | GM12878_TTTGCGACAGGGAGCT-1 |   9638 |  1314 | GM12878 |  9.173469 | 0.136335339 |\n",
       "| GM12878_TTTGCGGAGTGCACGC-1 | GM12878_TTTGCGGAGTGCACGC-1 |   7814 |    19 | GM12878 |  8.963672 | 0.002431533 |\n",
       "| GM12878_TTTGGCTGTCCTAACT-1 | GM12878_TTTGGCTGTCCTAACT-1 |  18983 |  3361 | GM12878 |  9.851299 | 0.177053153 |\n",
       "| GM12878_TTTGGCTGTTGGCCGA-1 | GM12878_TTTGGCTGTTGGCCGA-1 |  10957 |   955 | GM12878 |  9.301734 | 0.087158894 |\n",
       "| GM12878_TTTGTCCCACATAGCC-1 | GM12878_TTTGTCCCACATAGCC-1 |  21573 |  3060 | GM12878 |  9.979198 | 0.141843972 |\n",
       "| GM12878_TTTGTGAAGCGCATTG-1 | GM12878_TTTGTGAAGCGCATTG-1 |   8913 |   123 | GM12878 |  9.095266 | 0.013800067 |\n",
       "| GM12878_TTTGTGAAGCTTTGTT-1 | GM12878_TTTGTGAAGCTTTGTT-1 |  17678 |  2941 | GM12878 |  9.780076 | 0.166364973 |\n",
       "| GM12878_TTTGTGGCAAACCTAT-1 | GM12878_TTTGTGGCAAACCTAT-1 |  21927 |  4168 | GM12878 |  9.995474 | 0.190085283 |\n",
       "| GM12878_TTTGTGGCAAAGGTAC-1 | GM12878_TTTGTGGCAAAGGTAC-1 |   7312 |   599 | GM12878 |  8.897272 | 0.081920131 |\n",
       "| GM12878_TTTGTGGCAAGGACCA-1 | GM12878_TTTGTGGCAAGGACCA-1 |  17793 |  2588 | GM12878 |  9.786560 | 0.145450458 |\n",
       "| GM12878_TTTGTGGCACTTAACG-1 | GM12878_TTTGTGGCACTTAACG-1 |  11882 |   598 | GM12878 |  9.382780 | 0.050328228 |\n",
       "| GM12878_TTTGTGTTCCAAACAC-1 | GM12878_TTTGTGTTCCAAACAC-1 |  11987 |  1440 | GM12878 |  9.391578 | 0.120130141 |\n",
       "| GM12878_TTTGTGTTCCAAGTTA-1 | GM12878_TTTGTGTTCCAAGTTA-1 |  27044 |  2222 | GM12878 | 10.205220 | 0.082162402 |\n",
       "| GM12878_TTTGTGTTCCTCAGCT-1 | GM12878_TTTGTGTTCCTCAGCT-1 |  37531 |  3515 | GM12878 | 10.532923 | 0.093655911 |\n",
       "| GM12878_TTTGTGTTCGCCTAAG-1 | GM12878_TTTGTGTTCGCCTAAG-1 |  24189 |  3039 | GM12878 | 10.093653 | 0.125635619 |\n",
       "| GM12878_TTTGTTGGTCACAAAT-1 | GM12878_TTTGTTGGTCACAAAT-1 |  11429 |  2155 | GM12878 |  9.343909 | 0.188555429 |\n",
       "| GM12878_TTTGTTGGTTGGTGAC-1 | GM12878_TTTGTTGGTTGGTGAC-1 |  31774 |   479 | GM12878 | 10.366404 | 0.015075219 |\n",
       "\n"
      ],
      "text/plain": [
       "                           cell                       nUMI   nMito celltype\n",
       "GM12878_AAACAGCCACTAAGAA-1 GM12878_AAACAGCCACTAAGAA-1 12231   2282 GM12878 \n",
       "GM12878_AAACAGCCATAATCAC-1 GM12878_AAACAGCCATAATCAC-1  7295   1201 GM12878 \n",
       "GM12878_AAACATGCACTTGTTC-1 GM12878_AAACATGCACTTGTTC-1 41269   8494 GM12878 \n",
       "GM12878_AAACATGCATAATCAC-1 GM12878_AAACATGCATAATCAC-1 20273   2434 GM12878 \n",
       "GM12878_AAACCAACATTAGCGC-1 GM12878_AAACCAACATTAGCGC-1 14614   2538 GM12878 \n",
       "GM12878_AAACCGAAGCAAGGAC-1 GM12878_AAACCGAAGCAAGGAC-1 10407   1670 GM12878 \n",
       "GM12878_AAACCGCGTAACTACG-1 GM12878_AAACCGCGTAACTACG-1 40454   8623 GM12878 \n",
       "GM12878_AAACCGGCAGTAAGTA-1 GM12878_AAACCGGCAGTAAGTA-1  7334   1757 GM12878 \n",
       "GM12878_AAACCGGCATTAAACC-1 GM12878_AAACCGGCATTAAACC-1 20950   2776 GM12878 \n",
       "GM12878_AAACGGATCTGTAATG-1 GM12878_AAACGGATCTGTAATG-1 24078   1488 GM12878 \n",
       "GM12878_AAAGCAAGTCATGCAA-1 GM12878_AAAGCAAGTCATGCAA-1 27877   6930 GM12878 \n",
       "GM12878_AAAGCAAGTTGTTGGA-1 GM12878_AAAGCAAGTTGTTGGA-1 15236   2732 GM12878 \n",
       "GM12878_AAAGCACCAAACAACA-1 GM12878_AAAGCACCAAACAACA-1 12756   1160 GM12878 \n",
       "GM12878_AAAGCACCAATAATGG-1 GM12878_AAAGCACCAATAATGG-1 14808   2775 GM12878 \n",
       "GM12878_AAAGCACCACCTAATG-1 GM12878_AAAGCACCACCTAATG-1 30289   4379 GM12878 \n",
       "GM12878_AAAGCCCGTATTTGGG-1 GM12878_AAAGCCCGTATTTGGG-1 19116   3909 GM12878 \n",
       "GM12878_AAAGCCCGTTTCAGGA-1 GM12878_AAAGCCCGTTTCAGGA-1  5586    505 GM12878 \n",
       "GM12878_AAAGCCGCAGGAACAT-1 GM12878_AAAGCCGCAGGAACAT-1  5968    112 GM12878 \n",
       "GM12878_AAAGCCGCATTGTGCA-1 GM12878_AAAGCCGCATTGTGCA-1  5332    140 GM12878 \n",
       "GM12878_AAAGCGGGTAACGTGC-1 GM12878_AAAGCGGGTAACGTGC-1 17303   2070 GM12878 \n",
       "GM12878_AAAGCGGGTCAAAGGG-1 GM12878_AAAGCGGGTCAAAGGG-1  5885    288 GM12878 \n",
       "GM12878_AAAGCGGGTTCGCTCA-1 GM12878_AAAGCGGGTTCGCTCA-1 16029   1554 GM12878 \n",
       "GM12878_AAAGCTTGTACGGTAC-1 GM12878_AAAGCTTGTACGGTAC-1 24931   3652 GM12878 \n",
       "GM12878_AAAGCTTGTTAAGGTT-1 GM12878_AAAGCTTGTTAAGGTT-1 33596   8537 GM12878 \n",
       "GM12878_AAAGGACGTTAAGCGC-1 GM12878_AAAGGACGTTAAGCGC-1 13597   1644 GM12878 \n",
       "GM12878_AAAGGAGCAAGGTATA-1 GM12878_AAAGGAGCAAGGTATA-1  7298   1024 GM12878 \n",
       "GM12878_AAAGGAGCAATAAGCA-1 GM12878_AAAGGAGCAATAAGCA-1 24390   3393 GM12878 \n",
       "GM12878_AAAGGCTCAAGGATTA-1 GM12878_AAAGGCTCAAGGATTA-1 19970   2871 GM12878 \n",
       "GM12878_AAAGGCTCAGGCTTCG-1 GM12878_AAAGGCTCAGGCTTCG-1 16615   3014 GM12878 \n",
       "GM12878_AAAGGCTCATAAGTCT-1 GM12878_AAAGGCTCATAAGTCT-1 49112  10206 GM12878 \n",
       "⋮                          ⋮                          ⋮      ⋮     ⋮       \n",
       "GM12878_TTTGACTTCAAGACTC-1 GM12878_TTTGACTTCAAGACTC-1   7823   403 GM12878 \n",
       "GM12878_TTTGACTTCATTACAG-1 GM12878_TTTGACTTCATTACAG-1  18743   159 GM12878 \n",
       "GM12878_TTTGACTTCTCAATGA-1 GM12878_TTTGACTTCTCAATGA-1 105555 26097 GM12878 \n",
       "GM12878_TTTGAGTCATCCTAGA-1 GM12878_TTTGAGTCATCCTAGA-1  12166  1998 GM12878 \n",
       "GM12878_TTTGAGTCATGCTATG-1 GM12878_TTTGAGTCATGCTATG-1  15790  2611 GM12878 \n",
       "GM12878_TTTGCATTCAATGAGG-1 GM12878_TTTGCATTCAATGAGG-1  25877  3841 GM12878 \n",
       "GM12878_TTTGCATTCATAACTG-1 GM12878_TTTGCATTCATAACTG-1  66451 12580 GM12878 \n",
       "GM12878_TTTGCATTCCTAAGAC-1 GM12878_TTTGCATTCCTAAGAC-1  11981  1520 GM12878 \n",
       "GM12878_TTTGCATTCGCTAAGT-1 GM12878_TTTGCATTCGCTAAGT-1   6852    89 GM12878 \n",
       "GM12878_TTTGCATTCTAGCGTG-1 GM12878_TTTGCATTCTAGCGTG-1   9531  1070 GM12878 \n",
       "GM12878_TTTGCGACACAGAAAC-1 GM12878_TTTGCGACACAGAAAC-1  10584  2013 GM12878 \n",
       "GM12878_TTTGCGACACCTATAG-1 GM12878_TTTGCGACACCTATAG-1  12526   916 GM12878 \n",
       "GM12878_TTTGCGACACGTGCTG-1 GM12878_TTTGCGACACGTGCTG-1  21549  2697 GM12878 \n",
       "GM12878_TTTGCGACAGGGAGCT-1 GM12878_TTTGCGACAGGGAGCT-1   9638  1314 GM12878 \n",
       "GM12878_TTTGCGGAGTGCACGC-1 GM12878_TTTGCGGAGTGCACGC-1   7814    19 GM12878 \n",
       "GM12878_TTTGGCTGTCCTAACT-1 GM12878_TTTGGCTGTCCTAACT-1  18983  3361 GM12878 \n",
       "GM12878_TTTGGCTGTTGGCCGA-1 GM12878_TTTGGCTGTTGGCCGA-1  10957   955 GM12878 \n",
       "GM12878_TTTGTCCCACATAGCC-1 GM12878_TTTGTCCCACATAGCC-1  21573  3060 GM12878 \n",
       "GM12878_TTTGTGAAGCGCATTG-1 GM12878_TTTGTGAAGCGCATTG-1   8913   123 GM12878 \n",
       "GM12878_TTTGTGAAGCTTTGTT-1 GM12878_TTTGTGAAGCTTTGTT-1  17678  2941 GM12878 \n",
       "GM12878_TTTGTGGCAAACCTAT-1 GM12878_TTTGTGGCAAACCTAT-1  21927  4168 GM12878 \n",
       "GM12878_TTTGTGGCAAAGGTAC-1 GM12878_TTTGTGGCAAAGGTAC-1   7312   599 GM12878 \n",
       "GM12878_TTTGTGGCAAGGACCA-1 GM12878_TTTGTGGCAAGGACCA-1  17793  2588 GM12878 \n",
       "GM12878_TTTGTGGCACTTAACG-1 GM12878_TTTGTGGCACTTAACG-1  11882   598 GM12878 \n",
       "GM12878_TTTGTGTTCCAAACAC-1 GM12878_TTTGTGTTCCAAACAC-1  11987  1440 GM12878 \n",
       "GM12878_TTTGTGTTCCAAGTTA-1 GM12878_TTTGTGTTCCAAGTTA-1  27044  2222 GM12878 \n",
       "GM12878_TTTGTGTTCCTCAGCT-1 GM12878_TTTGTGTTCCTCAGCT-1  37531  3515 GM12878 \n",
       "GM12878_TTTGTGTTCGCCTAAG-1 GM12878_TTTGTGTTCGCCTAAG-1  24189  3039 GM12878 \n",
       "GM12878_TTTGTTGGTCACAAAT-1 GM12878_TTTGTTGGTCACAAAT-1  11429  2155 GM12878 \n",
       "GM12878_TTTGTTGGTTGGTGAC-1 GM12878_TTTGTTGGTTGGTGAC-1  31774   479 GM12878 \n",
       "                           log.nUMI  percent.mito\n",
       "GM12878_AAACAGCCACTAAGAA-1  9.411729 0.18657510  \n",
       "GM12878_AAACAGCCATAATCAC-1  8.894944 0.16463331  \n",
       "GM12878_AAACATGCACTTGTTC-1 10.627867 0.20582035  \n",
       "GM12878_AAACATGCATAATCAC-1  9.917045 0.12006117  \n",
       "GM12878_AAACCAACATTAGCGC-1  9.589735 0.17366908  \n",
       "GM12878_AAACCGAAGCAAGGAC-1  9.250234 0.16046892  \n",
       "GM12878_AAACCGCGTAACTACG-1 10.607921 0.21315568  \n",
       "GM12878_AAACCGGCAGTAAGTA-1  8.900276 0.23956913  \n",
       "GM12878_AAACCGGCATTAAACC-1  9.949894 0.13250597  \n",
       "GM12878_AAACGGATCTGTAATG-1 10.089054 0.06179915  \n",
       "GM12878_AAAGCAAGTCATGCAA-1 10.235557 0.24859203  \n",
       "GM12878_AAAGCAAGTTGTTGGA-1  9.631416 0.17931216  \n",
       "GM12878_AAAGCACCAAACAACA-1  9.453757 0.09093760  \n",
       "GM12878_AAAGCACCAATAATGG-1  9.602923 0.18739870  \n",
       "GM12878_AAAGCACCACCTAATG-1 10.318540 0.14457394  \n",
       "GM12878_AAAGCCCGTATTTGGG-1  9.858281 0.20448839  \n",
       "GM12878_AAAGCCCGTTTCAGGA-1  8.628019 0.09040458  \n",
       "GM12878_AAAGCCGCAGGAACAT-1  8.694167 0.01876676  \n",
       "GM12878_AAAGCCGCATTGTGCA-1  8.581482 0.02625656  \n",
       "GM12878_AAAGCGGGTAACGTGC-1  9.758635 0.11963243  \n",
       "GM12878_AAAGCGGGTCAAAGGG-1  8.680162 0.04893798  \n",
       "GM12878_AAAGCGGGTTCGCTCA-1  9.682155 0.09694928  \n",
       "GM12878_AAAGCTTGTACGGTAC-1 10.123867 0.14648430  \n",
       "GM12878_AAAGCTTGTTAAGGTT-1 10.422162 0.25410763  \n",
       "GM12878_AAAGGACGTTAAGCGC-1  9.517604 0.12090902  \n",
       "GM12878_AAAGGAGCAAGGTATA-1  8.895356 0.14031241  \n",
       "GM12878_AAAGGAGCAATAAGCA-1 10.101928 0.13911439  \n",
       "GM12878_AAAGGCTCAAGGATTA-1  9.901986 0.14376565  \n",
       "GM12878_AAAGGCTCAGGCTTCG-1  9.718061 0.18140235  \n",
       "GM12878_AAAGGCTCATAAGTCT-1 10.801859 0.20781072  \n",
       "⋮                          ⋮         ⋮           \n",
       "GM12878_TTTGACTTCAAGACTC-1  8.964823 0.051514764 \n",
       "GM12878_TTTGACTTCATTACAG-1  9.838576 0.008483167 \n",
       "GM12878_TTTGACTTCTCAATGA-1 11.566987 0.247236038 \n",
       "GM12878_TTTGAGTCATCCTAGA-1  9.406400 0.164228177 \n",
       "GM12878_TTTGAGTCATGCTATG-1  9.667132 0.165357821 \n",
       "GM12878_TTTGCATTCAATGAGG-1 10.161110 0.148432971 \n",
       "GM12878_TTTGCATTCATAACTG-1 11.104220 0.189312426 \n",
       "GM12878_TTTGCATTCCTAAGAC-1  9.391077 0.126867540 \n",
       "GM12878_TTTGCATTCGCTAAGT-1  8.832296 0.012988908 \n",
       "GM12878_TTTGCATTCTAGCGTG-1  9.162305 0.112265240 \n",
       "GM12878_TTTGCGACACAGAAAC-1  9.267099 0.190192744 \n",
       "GM12878_TTTGCGACACCTATAG-1  9.435562 0.073127894 \n",
       "GM12878_TTTGCGACACGTGCTG-1  9.978085 0.125156620 \n",
       "GM12878_TTTGCGACAGGGAGCT-1  9.173469 0.136335339 \n",
       "GM12878_TTTGCGGAGTGCACGC-1  8.963672 0.002431533 \n",
       "GM12878_TTTGGCTGTCCTAACT-1  9.851299 0.177053153 \n",
       "GM12878_TTTGGCTGTTGGCCGA-1  9.301734 0.087158894 \n",
       "GM12878_TTTGTCCCACATAGCC-1  9.979198 0.141843972 \n",
       "GM12878_TTTGTGAAGCGCATTG-1  9.095266 0.013800067 \n",
       "GM12878_TTTGTGAAGCTTTGTT-1  9.780076 0.166364973 \n",
       "GM12878_TTTGTGGCAAACCTAT-1  9.995474 0.190085283 \n",
       "GM12878_TTTGTGGCAAAGGTAC-1  8.897272 0.081920131 \n",
       "GM12878_TTTGTGGCAAGGACCA-1  9.786560 0.145450458 \n",
       "GM12878_TTTGTGGCACTTAACG-1  9.382780 0.050328228 \n",
       "GM12878_TTTGTGTTCCAAACAC-1  9.391578 0.120130141 \n",
       "GM12878_TTTGTGTTCCAAGTTA-1 10.205220 0.082162402 \n",
       "GM12878_TTTGTGTTCCTCAGCT-1 10.532923 0.093655911 \n",
       "GM12878_TTTGTGTTCGCCTAAG-1 10.093653 0.125635619 \n",
       "GM12878_TTTGTTGGTCACAAAT-1  9.343909 0.188555429 \n",
       "GM12878_TTTGTTGGTTGGTGAC-1 10.366404 0.015075219 "
      ]
     },
     "metadata": {},
     "output_type": "display_data"
    }
   ],
   "source": [
    "meta.data = data.frame(cell = colnames(matrix.rna),\n",
    "                       nUMI = colSums(matrix.rna),\n",
    "                       nMito = colSums(matrix.rna[grep(\"MT-\",rownames(matrix.rna)),]),\n",
    "                       celltype = celltype)\n",
    "meta.data[,\"log.nUMI\"] = log(meta.data[,\"nUMI\"])\n",
    "meta.data[,\"percent.mito\"] = meta.data[,\"nMito\"] / meta.data[,\"nUMI\"]\n",
    "meta.data"
   ]
  },
  {
   "cell_type": "markdown",
   "id": "b823cb4a-3ce6-40b1-9a0d-d5d1e4aa3912",
   "metadata": {},
   "source": [
    "RUN SCENT prediction"
   ]
  },
  {
   "cell_type": "code",
   "execution_count": 10,
   "id": "f46765dc-9de5-4411-9288-40b59435f9fb",
   "metadata": {},
   "outputs": [],
   "source": [
    "RhpcBLASctl::blas_set_num_threads(1)\n",
    "Sys.setenv(OPENBLAS_NUM_THREADS=1)\n",
    "SCENT_algorithm.modified = function (object, \n",
    "                                     # celltype, \n",
    "                                     # ncores, \n",
    "                                     # regr = \"poisson\", \n",
    "                                     # bin = TRUE) \n",
    "                                     regr = \"poisson\") {\n",
    "    res <- data.frame()\n",
    "    for (n in 1:nrow(object@peak.info)) {        \n",
    "        gene <- object@peak.info[n, 1]\n",
    "        this_peak <- object@peak.info[n, 2]\n",
    "        atac_target <- data.frame(cell = colnames(object@atac), \n",
    "            atac = object@atac[this_peak, ])\n",
    "        # if (bin) {\n",
    "        #     atac_target[atac_target$atac > 0, ]$atac <- 1\n",
    "        # }\n",
    "        mrna_target <- object@rna[gene, ]\n",
    "        df <- data.frame(cell = names(mrna_target), exprs = as.numeric(mrna_target))\n",
    "        df <- merge(df, atac_target, by = \"cell\")\n",
    "        df <- merge(df, object@meta.data, by = \"cell\")\n",
    "        # df2 <- df[df[[object@celltypes]] == celltype, ]\n",
    "        df2 <- df\n",
    "        # nonzero_m <- length(df2$exprs[df2$exprs > 0])/length(df2$exprs)\n",
    "        # nonzero_a <- length(df2$atac[df2$atac > 0])/length(df2$atac)\n",
    "        # if (nonzero_m > 0.05 & nonzero_a > 0.05) {\n",
    "            res_var <- \"exprs\"\n",
    "            pred_var <- c(\"atac\", object@covariates)\n",
    "            formula <- as.formula(paste(res_var, paste(pred_var, \n",
    "                collapse = \"+\"), sep = \"~\"))\n",
    "            if (regr == \"poisson\") {\n",
    "                base = glm(formula, family = \"poisson\", data = df2)\n",
    "                coefs <- summary(base)$coefficients[\"atac\", ]\n",
    "                # assoc <- assoc_poisson\n",
    "                assoc <- SCENT::assoc_poisson\n",
    "            }\n",
    "            else if (regr == \"negbin\") {\n",
    "                base = glm.nb(formula, data = df2)\n",
    "                coefs <- summary(base)$coefficients[\"atac\", ]\n",
    "                # assoc <- assoc_negbin\n",
    "                assoc <- SCENT::assoc_negbin\n",
    "            }\n",
    "            # bs = boot::boot(df2, assoc, R = 100, formula = formula, \n",
    "            #     stype = \"i\", parallel = \"no\", ncpus = 1)\n",
    "            # p0 = basic_p(bs$t0[1], bs$t[, 1])\n",
    "            # p0 = SCENT::basic_p(bs$t0[1], bs$t[, 1])\n",
    "            # if (p0 < 0.1) {\n",
    "            #     bs = boot::boot(df2, assoc, R = 500, formula = formula, \n",
    "            #       stype = \"i\", \n",
    "            #       # parallel = \"multicore\", ncpus = ncores)\n",
    "            #       parallel = \"no\", ncpus = 1)\n",
    "            #     # p0 = basic_p(bs$t0[1], bs$t[, 1])\n",
    "            #     p0 = SCENT::basic_p(bs$t0[1], bs$t[, 1])\n",
    "            # }\n",
    "            # if (p0 < 0.05) {\n",
    "                bs = boot::boot(df2, assoc, R = 2500, formula = formula, \n",
    "                  stype = \"i\", \n",
    "                  # parallel = \"multicore\", ncpus = ncores)\n",
    "                  parallel = \"no\", ncpus = 1)\n",
    "                # p0 = basic_p(bs$t0[1], bs$t[, 1])\n",
    "                p0 = SCENT::basic_p(bs$t0[1], bs$t[, 1])\n",
    "            # }\n",
    "            # if (p0 < 0.01) {\n",
    "            #     bs = boot::boot(df2, assoc, R = 25000, formula = formula, \n",
    "            #       stype = \"i\", \n",
    "            #       # parallel = \"multicore\", ncpus = ncores)\n",
    "            #       parallel = \"no\", ncpus = 1)\n",
    "            #     # p0 = basic_p(bs$t0[1], bs$t[, 1])\n",
    "            #     p0 = SCENT::basic_p(bs$t0[1], bs$t[, 1])\n",
    "            # }\n",
    "            # if (p0 < 0.001) {\n",
    "            #     bs = boot::boot(df2, assoc, R = 50000, formula = formula, \n",
    "            #       stype = \"i\", \n",
    "            #       # parallel = \"multicore\", ncpus = ncores)\n",
    "            #       parallel = \"no\", ncpus = 1)\n",
    "            #     # p0 = basic_p(bs$t0[1], bs$t[, 1])\n",
    "            #     p0 = SCENT::basic_p(bs$t0[1], bs$t[, 1])\n",
    "            # }\n",
    "            out <- data.frame(gene = gene, peak = this_peak, \n",
    "                beta = coefs[1], se = coefs[2], z = coefs[3], \n",
    "                p = coefs[4], boot_basic_p = p0)           \n",
    "            res <- rbind(res, out)\n",
    "        # }\n",
    "    }\n",
    "    object@SCENT.result <- res\n",
    "    return(object)\n",
    "}"
   ]
  },
  {
   "cell_type": "code",
   "execution_count": 11,
   "id": "563771b9-b96a-44d5-a5fe-fa30a7b9851b",
   "metadata": {},
   "outputs": [],
   "source": [
    "dir.create(paste(dir.output,\"chr\",sep = \"/\"),recursive = T)"
   ]
  },
  {
   "cell_type": "code",
   "execution_count": 12,
   "id": "0d2266ce-b92d-40d2-9b78-f39bd33a5079",
   "metadata": {},
   "outputs": [],
   "source": [
    "chr.done = dir(paste(dir.output,\"chr\",sep = \"/\"))\n",
    "chr.run = as.character(unique(seqnames(pairs.E2G)))\n",
    "chr.run = chr.run[!chr.run %in% chr.done]"
   ]
  },
  {
   "cell_type": "code",
   "execution_count": null,
   "id": "2d41238d-e833-4e0e-add5-bb56bb615c1a",
   "metadata": {},
   "outputs": [
    {
     "name": "stdout",
     "output_type": "stream",
     "text": [
      "[1] \"chr1\"\n"
     ]
    },
    {
     "name": "stderr",
     "output_type": "stream",
     "text": [
      "Warning message in split.default(x = seq_len(nrow(x)), f = f, drop = drop, ...):\n",
      "“data length is not a multiple of split variable”\n"
     ]
    },
    {
     "name": "stdout",
     "output_type": "stream",
     "text": [
      "[1] \"chr10\"\n"
     ]
    },
    {
     "name": "stderr",
     "output_type": "stream",
     "text": [
      "Warning message in split.default(x = seq_len(nrow(x)), f = f, drop = drop, ...):\n",
      "“data length is not a multiple of split variable”\n"
     ]
    },
    {
     "name": "stdout",
     "output_type": "stream",
     "text": [
      "[1] \"chr11\"\n"
     ]
    },
    {
     "name": "stderr",
     "output_type": "stream",
     "text": [
      "Warning message in split.default(x = seq_len(nrow(x)), f = f, drop = drop, ...):\n",
      "“data length is not a multiple of split variable”\n"
     ]
    },
    {
     "name": "stdout",
     "output_type": "stream",
     "text": [
      "[1] \"chr12\"\n"
     ]
    },
    {
     "name": "stderr",
     "output_type": "stream",
     "text": [
      "Warning message in split.default(x = seq_len(nrow(x)), f = f, drop = drop, ...):\n",
      "“data length is not a multiple of split variable”\n"
     ]
    },
    {
     "name": "stdout",
     "output_type": "stream",
     "text": [
      "[1] \"chr13\"\n"
     ]
    },
    {
     "name": "stderr",
     "output_type": "stream",
     "text": [
      "Warning message in split.default(x = seq_len(nrow(x)), f = f, drop = drop, ...):\n",
      "“data length is not a multiple of split variable”\n"
     ]
    },
    {
     "name": "stdout",
     "output_type": "stream",
     "text": [
      "[1] \"chr14\"\n"
     ]
    },
    {
     "name": "stderr",
     "output_type": "stream",
     "text": [
      "Warning message in split.default(x = seq_len(nrow(x)), f = f, drop = drop, ...):\n",
      "“data length is not a multiple of split variable”\n"
     ]
    },
    {
     "name": "stdout",
     "output_type": "stream",
     "text": [
      "[1] \"chr15\"\n"
     ]
    },
    {
     "name": "stderr",
     "output_type": "stream",
     "text": [
      "Warning message in split.default(x = seq_len(nrow(x)), f = f, drop = drop, ...):\n",
      "“data length is not a multiple of split variable”\n"
     ]
    },
    {
     "name": "stdout",
     "output_type": "stream",
     "text": [
      "[1] \"chr16\"\n"
     ]
    },
    {
     "name": "stderr",
     "output_type": "stream",
     "text": [
      "Warning message in split.default(x = seq_len(nrow(x)), f = f, drop = drop, ...):\n",
      "“data length is not a multiple of split variable”\n"
     ]
    },
    {
     "name": "stdout",
     "output_type": "stream",
     "text": [
      "[1] \"chr17\"\n"
     ]
    },
    {
     "name": "stderr",
     "output_type": "stream",
     "text": [
      "Warning message in split.default(x = seq_len(nrow(x)), f = f, drop = drop, ...):\n",
      "“data length is not a multiple of split variable”\n"
     ]
    },
    {
     "name": "stdout",
     "output_type": "stream",
     "text": [
      "[1] \"chr18\"\n"
     ]
    },
    {
     "name": "stderr",
     "output_type": "stream",
     "text": [
      "Warning message in split.default(x = seq_len(nrow(x)), f = f, drop = drop, ...):\n",
      "“data length is not a multiple of split variable”\n"
     ]
    },
    {
     "name": "stdout",
     "output_type": "stream",
     "text": [
      "[1] \"chr19\"\n"
     ]
    },
    {
     "name": "stderr",
     "output_type": "stream",
     "text": [
      "Warning message in split.default(x = seq_len(nrow(x)), f = f, drop = drop, ...):\n",
      "“data length is not a multiple of split variable”\n"
     ]
    },
    {
     "name": "stdout",
     "output_type": "stream",
     "text": [
      "[1] \"chr2\"\n"
     ]
    },
    {
     "name": "stderr",
     "output_type": "stream",
     "text": [
      "Warning message in split.default(x = seq_len(nrow(x)), f = f, drop = drop, ...):\n",
      "“data length is not a multiple of split variable”\n"
     ]
    },
    {
     "name": "stdout",
     "output_type": "stream",
     "text": [
      "[1] \"chr20\"\n"
     ]
    },
    {
     "name": "stderr",
     "output_type": "stream",
     "text": [
      "Warning message in split.default(x = seq_len(nrow(x)), f = f, drop = drop, ...):\n",
      "“data length is not a multiple of split variable”\n"
     ]
    },
    {
     "name": "stdout",
     "output_type": "stream",
     "text": [
      "[1] \"chr21\"\n"
     ]
    },
    {
     "name": "stderr",
     "output_type": "stream",
     "text": [
      "Warning message in split.default(x = seq_len(nrow(x)), f = f, drop = drop, ...):\n",
      "“data length is not a multiple of split variable”\n"
     ]
    },
    {
     "name": "stdout",
     "output_type": "stream",
     "text": [
      "[1] \"chr22\"\n"
     ]
    },
    {
     "name": "stderr",
     "output_type": "stream",
     "text": [
      "Warning message in split.default(x = seq_len(nrow(x)), f = f, drop = drop, ...):\n",
      "“data length is not a multiple of split variable”\n"
     ]
    },
    {
     "name": "stdout",
     "output_type": "stream",
     "text": [
      "[1] \"chr3\"\n"
     ]
    },
    {
     "name": "stderr",
     "output_type": "stream",
     "text": [
      "Warning message in split.default(x = seq_len(nrow(x)), f = f, drop = drop, ...):\n",
      "“data length is not a multiple of split variable”\n"
     ]
    }
   ],
   "source": [
    "for(chr.tmp in chr.run){\n",
    "  print(chr.tmp)\n",
    "  pairs.E2G.chr = pairs.E2G[seqnames(pairs.E2G) == chr.tmp]\n",
    "  pairs.E2G.chr.res = pairs.E2G.chr[!is.na(pairs.E2G.chr$boot_basic_p) & pairs.E2G.chr$boot_basic_p < 0.05]\n",
    "  pairs.E2G.chr.keep = pairs.E2G.chr[!pairs.E2G.chr$PairName %in% pairs.E2G.chr.res$PairName]\n",
    "  gene_peak.chr = as.data.frame(mcols(pairs.E2G.chr.res)[,c(\"TargetGene\",\"PeakName\")])\n",
    "  list.gene_peak.chr <- split(gene_peak.chr, seq_len(n.cores))\n",
    "  \n",
    "  list.obj.SCENT.chr <- lapply(list.gene_peak.chr, function(gene_peak.tmp) {\n",
    "    obj.SCENT.tmp <- CreateSCENTObj(\n",
    "      rna = matrix.rna.rename[rownames(matrix.rna.rename) %in% gene_peak.tmp$TargetGene,],\n",
    "      atac = matrix.atac[rownames(matrix.atac) %in% gene_peak.tmp$PeakName,], \n",
    "      meta.data = meta.data,\n",
    "      peak.info = gene_peak.tmp,\n",
    "      covariates = c(\"log.nUMI\",\"percent.mito\"), \n",
    "      celltypes = \"celltype\"\n",
    "    )\n",
    "  })\n",
    "  \n",
    "  cl <- makeCluster(n.cores)\n",
    "  clusterExport(cl, varlist=c(\"SCENT_algorithm.modified\"))\n",
    "  list.SCENT.result.chr <- parLapply(cl, list.obj.SCENT.chr, function(obj.SCENT.tmp) {\n",
    "    obj.SCENT.tmp <- SCENT_algorithm.modified(object = obj.SCENT.tmp)\n",
    "    return(obj.SCENT.tmp@SCENT.result)\n",
    "  })\n",
    "  stopCluster(cl)\n",
    "  \n",
    "  \n",
    "  df.SCENT.result.chr = do.call(rbind,list.SCENT.result.chr)\n",
    "  rownames(df.SCENT.result.chr) = paste(df.SCENT.result.chr$peak,\n",
    "                                        df.SCENT.result.chr$gene,\n",
    "                                        sep = \"_\")\n",
    "\n",
    "  pairs.E2G.chr.res = pairs.E2G.chr.res[pairs.E2G.chr.res$PairName %in% rownames(df.SCENT.result.chr)]\n",
    "  mcols(pairs.E2G.chr.res)[,c(\"beta\",\"se\",\"z\",\"p\",\"boot_basic_p\")] = \n",
    "    df.SCENT.result.chr[pairs.E2G.chr.res$PairName,c(\"beta\",\"se\",\"z\",\"p\",\"boot_basic_p\")]\n",
    "  pairs.E2G.chr.res$boot_basic_p.log10 = -log10(pairs.E2G.chr.res$boot_basic_p)\n",
    "  pairs.E2G.chr.res$sign = 1\n",
    "  pairs.E2G.chr.res$sign[pairs.E2G.chr.res$beta < 0] = -1\n",
    "  pairs.E2G.chr.res$boot_basic_p.log10.signed = pairs.E2G.chr.res$boot_basic_p.log10 * pairs.E2G.chr.res$sign\n",
    "  pairs.E2G.chr.merge = c(pairs.E2G.chr.res,\n",
    "                          pairs.E2G.chr.keep)\n",
    "  saveRDS(pairs.E2G.chr.merge,\n",
    "          paste(dir.output,\"chr\",chr.tmp,sep = \"/\"))\n",
    "  rm (pairs.E2G.chr.merge)\n",
    "}"
   ]
  },
  {
   "cell_type": "markdown",
   "id": "da9d1451-54e0-49e0-ae8b-cd0158115820",
   "metadata": {},
   "source": [
    "Merge results"
   ]
  },
  {
   "cell_type": "code",
   "execution_count": null,
   "id": "6b4278f1-7d9d-402f-95c6-f274a6befea3",
   "metadata": {},
   "outputs": [],
   "source": [
    "chr.merge = as.character(unique(seqnames(pairs.E2G)))\n",
    "list.res = list()\n",
    "for(chr.tmp in chr.merge){\n",
    "    list.res[[chr.tmp]] = readRDS(paste(dir.output,\"chr\",chr.tmp,sep = \"/\"))\n",
    "}\n",
    "pairs.E2G.res = unlist(as(list.res, \"GRangesList\"))"
   ]
  },
  {
   "cell_type": "markdown",
   "id": "00278bea-8baf-4ed0-93d5-1289f05fa36a",
   "metadata": {},
   "source": [
    "Save results"
   ]
  },
  {
   "cell_type": "code",
   "execution_count": null,
   "id": "48824f05-aedd-476c-88d6-ae58d1833fc9",
   "metadata": {},
   "outputs": [],
   "source": [
    "saveRDS(pairs.E2G.res,\n",
    "        paste(dir.output,\"pairs.E2G.res.rds\",sep = \"/\"))\n",
    "pairs.E2G.res"
   ]
  },
  {
   "cell_type": "code",
   "execution_count": null,
   "id": "2297128a-9ed6-42b8-90c7-459969fb5afd",
   "metadata": {},
   "outputs": [],
   "source": [
    "df.output = as.data.frame(pairs.E2G.res,row.names = NULL)\n",
    "colnames(df.output)[1] = \"chr\"\n",
    "df.output[,\"CellType\"] = celltype\n",
    "df.output = df.output[,c(\"chr\",\n",
    "                         \"start\",\n",
    "                         \"end\",\n",
    "                         \"TargetGene\",\n",
    "                         \"CellType\",\n",
    "                         \"beta\",\"se\",\"z\",\"p\",\"boot_basic_p\",\n",
    "                         \"boot_basic_p.log10\",\n",
    "                         \"sign\",\n",
    "                         \"boot_basic_p.log10.signed\")]\n",
    "df.output[,\"FDR\"] = p.adjust(df.output$boot_basic_p, method = \"BH\")\n",
    "data.table::fwrite(df.output,\n",
    "                   file = paste(dir.output,\"pairs.E2G.res.tsv.gz\",sep = \"/\"),\n",
    "                   row.names = F,\n",
    "                   quote = F,\n",
    "                   sep = \"\\t\")\n",
    "df.output"
   ]
  },
  {
   "cell_type": "code",
   "execution_count": null,
   "id": "4d77c58e-215a-408d-8495-c68c72f559c3",
   "metadata": {},
   "outputs": [],
   "source": [
    "sessionInfo()"
   ]
  },
  {
   "cell_type": "code",
   "execution_count": null,
   "id": "3c1a0283-11d6-4df1-bbd8-7b47e9e8ead8",
   "metadata": {},
   "outputs": [],
   "source": []
  }
 ],
 "metadata": {
  "kernelspec": {
   "display_name": "R",
   "language": "R",
   "name": "ir"
  },
  "language_info": {
   "codemirror_mode": "r",
   "file_extension": ".r",
   "mimetype": "text/x-r-source",
   "name": "R",
   "pygments_lexer": "r",
   "version": "4.3.3"
  }
 },
 "nbformat": 4,
 "nbformat_minor": 5
}
