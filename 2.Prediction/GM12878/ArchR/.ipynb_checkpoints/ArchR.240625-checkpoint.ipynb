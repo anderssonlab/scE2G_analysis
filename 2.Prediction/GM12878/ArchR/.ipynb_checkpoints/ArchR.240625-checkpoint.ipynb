{
 "cells": [
  {
   "cell_type": "code",
   "execution_count": 1,
   "id": "c8466b35-cae5-4f62-8138-37b2de484a74",
   "metadata": {},
   "outputs": [
    {
     "name": "stderr",
     "output_type": "stream",
     "text": [
      "\n",
      "                                                   / |\n",
      "                                                 /    \\\n",
      "            .                                  /      |.\n",
      "            \\\\\\                              /        |.\n",
      "              \\\\\\                          /           `|.\n",
      "                \\\\\\                      /              |.\n",
      "                  \\                    /                |\\\n",
      "                  \\\\#####\\           /                  ||\n",
      "                ==###########>      /                   ||\n",
      "                 \\\\##==......\\    /                     ||\n",
      "            ______ =       =|__ /__                     ||      \\\\\\\n",
      "        ,--' ,----`-,__ ___/'  --,-`-===================##========>\n",
      "       \\               '        ##_______ _____ ,--,__,=##,__   ///\n",
      "        ,    __==    ___,-,__,--'#'  ==='      `-'    | ##,-/\n",
      "        -,____,---'       \\\\####\\\\________________,--\\\\_##,/\n",
      "           ___      .______        ______  __    __  .______      \n",
      "          /   \\     |   _  \\      /      ||  |  |  | |   _  \\     \n",
      "         /  ^  \\    |  |_)  |    |  ,----'|  |__|  | |  |_)  |    \n",
      "        /  /_\\  \\   |      /     |  |     |   __   | |      /     \n",
      "       /  _____  \\  |  |\\  \\\\___ |  `----.|  |  |  | |  |\\  \\\\___.\n",
      "      /__/     \\__\\ | _| `._____| \\______||__|  |__| | _| `._____|\n",
      "    \n",
      "\n",
      "ArchR : Version 1.0.2\n",
      "For more information see our website : www.ArchRProject.com\n",
      "If you encounter a bug please report : https://github.com/GreenleafLab/ArchR/issues\n",
      "\n",
      "Loading Required Packages...\n",
      "\n",
      "\tLoading Package : grid v4.3.3\n",
      "\n",
      "\tLoading Package : gridExtra v2.3\n",
      "\n",
      "\tLoading Package : gtools v3.9.5\n",
      "\n",
      "\tLoading Package : gtable v0.3.5\n",
      "\n",
      "\tLoading Package : ggplot2 v3.5.1\n",
      "\n",
      "\tLoading Package : magrittr v2.0.3\n",
      "\n",
      "\tLoading Package : plyr v1.8.9\n",
      "\n",
      "\tLoading Package : stringr v1.5.1\n",
      "\n",
      "\tLoading Package : data.table v1.15.2\n",
      "\n",
      "\tLoading Package : matrixStats v1.3.0\n",
      "\n",
      "\tLoading Package : S4Vectors v0.40.2\n",
      "\n",
      "\tLoading Package : GenomicRanges v1.54.1\n",
      "\n",
      "\tLoading Package : BiocGenerics v0.48.1\n",
      "\n",
      "\tLoading Package : Matrix v1.6.5\n",
      "\n",
      "\tLoading Package : Rcpp v1.0.12\n",
      "\n",
      "\tLoading Package : SummarizedExperiment v1.30.2\n",
      "\n",
      "\tLoading Package : rhdf5 v2.44.0\n",
      "\n",
      "Loading required package: SeuratObject\n",
      "\n",
      "Loading required package: sp\n",
      "\n",
      "\n",
      "Attaching package: ‘sp’\n",
      "\n",
      "\n",
      "The following object is masked from ‘package:IRanges’:\n",
      "\n",
      "    %over%\n",
      "\n",
      "\n",
      "‘SeuratObject’ was built under R 4.3.2 but the current version is\n",
      "4.3.3; it is recomended that you reinstall ‘SeuratObject’ as the ABI\n",
      "for R may have changed\n",
      "\n",
      "‘SeuratObject’ was built with package ‘Matrix’ 1.6.3 but the current\n",
      "version is 1.6.5; it is recomended that you reinstall ‘SeuratObject’ as\n",
      "the ABI for ‘Matrix’ may have changed\n",
      "\n",
      "\n",
      "Attaching package: ‘SeuratObject’\n",
      "\n",
      "\n",
      "The following object is masked from ‘package:SummarizedExperiment’:\n",
      "\n",
      "    Assays\n",
      "\n",
      "\n",
      "The following object is masked from ‘package:GenomicRanges’:\n",
      "\n",
      "    intersect\n",
      "\n",
      "\n",
      "The following object is masked from ‘package:GenomeInfoDb’:\n",
      "\n",
      "    intersect\n",
      "\n",
      "\n",
      "The following object is masked from ‘package:IRanges’:\n",
      "\n",
      "    intersect\n",
      "\n",
      "\n",
      "The following object is masked from ‘package:S4Vectors’:\n",
      "\n",
      "    intersect\n",
      "\n",
      "\n",
      "The following object is masked from ‘package:BiocGenerics’:\n",
      "\n",
      "    intersect\n",
      "\n",
      "\n",
      "The following object is masked from ‘package:base’:\n",
      "\n",
      "    intersect\n",
      "\n",
      "\n",
      "\n",
      "Attaching package: ‘Seurat’\n",
      "\n",
      "\n",
      "The following object is masked from ‘package:SummarizedExperiment’:\n",
      "\n",
      "    Assays\n",
      "\n",
      "\n",
      "Warning message:\n",
      "“replacing previous import ‘Biostrings::pattern’ by ‘grid::pattern’ when loading ‘genomation’”\n"
     ]
    }
   ],
   "source": [
    "library(ArchR)\n",
    "library(Seurat)\n",
    "library(Signac)\n",
    "library(magrittr)\n",
    "library(genomation)\n",
    "library(GenomicRanges)\n",
    "library(Matrix)\n",
    "library(ggplot2)"
   ]
  },
  {
   "cell_type": "markdown",
   "id": "e85020d7-d358-492d-9358-c81270f4b624",
   "metadata": {},
   "source": [
    "Specify file path"
   ]
  },
  {
   "cell_type": "code",
   "execution_count": 2,
   "id": "1bec6690-52ec-450d-bba7-7d4528a185cd",
   "metadata": {},
   "outputs": [],
   "source": [
    "path.seurat = \"/maps/projects/ralab_nnfc-AUDIT/people/lpm537/project/E2G/analysis/E2G_240503/data/K562_IGVF/1.prepare_data/2.Filter_out_low_quality_cells.240614/obj.seurat.qc.rds\"\n",
    "path.pairs.E2G = \"/maps/projects/ralab_nnfc-AUDIT/people/lpm537/software/scE2G_pipeline/240610/sc-E2G/test/results/K562_IGVF_filter/K562/Kendall/Pairs.tsv.gz\"\n",
    "dir.output = \"/maps/projects/ralab_nnfc-AUDIT/people/lpm537/project/E2G/analysis/E2G_240503/data/K562_IGVF/3.Genome_wide_prediction/ArchR/ArchR.240615/ArchR.240615/\""
   ]
  },
  {
   "cell_type": "code",
   "execution_count": 3,
   "id": "340dac32-44ac-4231-b964-b5f3b9e2dbde",
   "metadata": {},
   "outputs": [],
   "source": [
    "n.cores = 16\n",
    "maxDist = 1000000"
   ]
  },
  {
   "cell_type": "code",
   "execution_count": 4,
   "id": "da973385-4c81-4b1c-9669-cf5933b23a39",
   "metadata": {},
   "outputs": [
    {
     "name": "stderr",
     "output_type": "stream",
     "text": [
      "Setting default number of Parallel threads to 16.\n",
      "\n",
      "Setting default genome to Hg38.\n",
      "\n"
     ]
    }
   ],
   "source": [
    "addArchRThreads(threads = n.cores) \n",
    "addArchRGenome(\"hg38\")"
   ]
  },
  {
   "cell_type": "markdown",
   "id": "eeb26496-d3b9-4778-92ed-9c63a5018aef",
   "metadata": {},
   "source": [
    "Import seurat object"
   ]
  },
  {
   "cell_type": "code",
   "execution_count": 5,
   "id": "c9b19a09-be95-4d9a-bdc3-0530980d4757",
   "metadata": {},
   "outputs": [],
   "source": [
    "obj.seurat = readRDS(path.seurat)"
   ]
  },
  {
   "cell_type": "markdown",
   "id": "86be3e66-c954-4620-9e64-c6a1c0fcb84c",
   "metadata": {},
   "source": [
    "Import candidate E-G pairs"
   ]
  },
  {
   "cell_type": "code",
   "execution_count": 6,
   "id": "6f363969-bf0b-45ce-858c-a8cb64cc210a",
   "metadata": {},
   "outputs": [],
   "source": [
    "pairs.E2G = readGeneric(path.pairs.E2G,\n",
    "                        header = T,\n",
    "                        keep.all.metadata = T)"
   ]
  },
  {
   "cell_type": "markdown",
   "id": "3538ffdc-4fed-48eb-9c9d-86805a91cf06",
   "metadata": {},
   "source": [
    "Create an ArchRProject"
   ]
  },
  {
   "cell_type": "code",
   "execution_count": 7,
   "id": "0300f485-fafa-4cef-b9d0-534108ec6f95",
   "metadata": {},
   "outputs": [
    {
     "name": "stdout",
     "output_type": "stream",
     "text": [
      "List of 2\n",
      " $ :Formal class 'Fragment' [package \"Signac\"] with 3 slots\n",
      "  .. ..@ path : chr \"/maps/projects/ralab_nnfc-AUDIT/people/lpm537/project/E2G/processed/IGVF_240503/230707_IGVF10_McGinnis/ATAC/CEL\"| __truncated__\n",
      "  .. ..@ hash : chr [1:2] \"c69fb4ea81ca5efb0834a597ffe6e12c\" \"abb247b297226d16f586a20ae0771d0a\"\n",
      "  .. ..@ cells: Named chr [1:2371] \"AAACCAGGTCACAGGG-1\" \"AAACCGCCAAGGAATA-1\" \"AAACCGCCAGCCGGTA-1\" \"AAACCGGTCAAGGAAG-1\" ...\n",
      "  .. .. ..- attr(*, \"names\")= chr [1:2371] \"e10l1_AAACCAGGTCACAGGG-1\" \"e10l1_AAACCGCCAAGGAATA-1\" \"e10l1_AAACCGCCAGCCGGTA-1\" \"e10l1_AAACCGGTCAAGGAAG-1\" ...\n",
      " $ :Formal class 'Fragment' [package \"Signac\"] with 3 slots\n",
      "  .. ..@ path : chr \"/maps/projects/ralab_nnfc-AUDIT/people/lpm537/project/E2G/processed/IGVF_240503/230707_IGVF10_McGinnis/ATAC/CEL\"| __truncated__\n",
      "  .. ..@ hash : chr [1:2] \"2f8b867830dcf7eb020d0be82d029441\" \"dcdf4989f54c370141b644b44292d116\"\n",
      "  .. ..@ cells: Named chr [1:2088] \"AAACAAGCATGAGGGA-1\" \"AAACGAACATCAATCC-1\" \"AAACGGGCATTTCGCG-1\" \"AAACGGTTCCTAGTGC-1\" ...\n",
      "  .. .. ..- attr(*, \"names\")= chr [1:2088] \"e10l2_AAACAAGCATGAGGGA-1\" \"e10l2_AAACGAACATCAATCC-1\" \"e10l2_AAACGGGCATTTCGCG-1\" \"e10l2_AAACGGTTCCTAGTGC-1\" ...\n"
     ]
    }
   ],
   "source": [
    "str(Fragments(obj.seurat))"
   ]
  },
  {
   "cell_type": "code",
   "execution_count": 8,
   "id": "1753ffaa-89e2-43bf-bcf6-19937782d63a",
   "metadata": {},
   "outputs": [
    {
     "name": "stderr",
     "output_type": "stream",
     "text": [
      "Using GeneAnnotation set by addArchRGenome(Hg38)!\n",
      "\n",
      "Using GeneAnnotation set by addArchRGenome(Hg38)!\n",
      "\n",
      "ArchR logging to : ArchRLogs/ArchR-createArrows-5df6649baff7e-Date-2024-06-15_Time-11-53-38.894757.log\n",
      "If there is an issue, please report to github with logFile!\n",
      "\n",
      "Cleaning Temporary Files\n",
      "\n",
      "2024-06-15 11:53:44.017603 : Batch Execution w/ safelapply!, 0 mins elapsed.\n",
      "\n",
      "ArchR logging successful to : ArchRLogs/ArchR-createArrows-5df6649baff7e-Date-2024-06-15_Time-11-53-38.894757.log\n",
      "\n"
     ]
    }
   ],
   "source": [
    "ArrowFiles <- createArrowFiles(\n",
    "  inputFiles = c(Fragments(obj.seurat)[[1]]@path,\n",
    "                Fragments(obj.seurat)[[2]]@path),\n",
    "  sampleNames = c(\"e10l1\",\n",
    "                  \"e10l2\"),\n",
    "  validBarcodes = list(e10l1 = unname(Fragments(obj.seurat)[[1]]@cells),\n",
    "                       e10l2 = unname(Fragments(obj.seurat)[[2]]@cells)),\n",
    "  addTileMat = T,\n",
    "  addGeneScoreMat = F,\n",
    "  force = T\n",
    ")"
   ]
  },
  {
   "cell_type": "code",
   "execution_count": 9,
   "id": "ada3db45-d050-4659-a7cf-2891e04b1249",
   "metadata": {},
   "outputs": [
    {
     "data": {
      "text/html": [
       "<style>\n",
       ".list-inline {list-style: none; margin:0; padding: 0}\n",
       ".list-inline>li {display: inline-block}\n",
       ".list-inline>li:not(:last-child)::after {content: \"\\00b7\"; padding: 0 .5ex}\n",
       "</style>\n",
       "<ol class=list-inline><li>'e10l2.arrow'</li><li>'e10l1.arrow'</li></ol>\n"
      ],
      "text/latex": [
       "\\begin{enumerate*}\n",
       "\\item 'e10l2.arrow'\n",
       "\\item 'e10l1.arrow'\n",
       "\\end{enumerate*}\n"
      ],
      "text/markdown": [
       "1. 'e10l2.arrow'\n",
       "2. 'e10l1.arrow'\n",
       "\n",
       "\n"
      ],
      "text/plain": [
       "[1] \"e10l2.arrow\" \"e10l1.arrow\""
      ]
     },
     "metadata": {},
     "output_type": "display_data"
    }
   ],
   "source": [
    "ArrowFiles"
   ]
  },
  {
   "cell_type": "code",
   "execution_count": 10,
   "id": "5ba28283-d488-4982-8d4c-745fc3f59365",
   "metadata": {},
   "outputs": [],
   "source": [
    "dir.create(paste(dir.output,\"ArchR\",sep=\"/\"),recursive = T)"
   ]
  },
  {
   "cell_type": "code",
   "execution_count": 11,
   "id": "aa217507-8323-43bf-b23c-0ec25ee33c85",
   "metadata": {},
   "outputs": [
    {
     "name": "stderr",
     "output_type": "stream",
     "text": [
      "Using GeneAnnotation set by addArchRGenome(Hg38)!\n",
      "\n",
      "Using GeneAnnotation set by addArchRGenome(Hg38)!\n",
      "\n",
      "Validating Arrows...\n",
      "\n",
      "Getting SampleNames...\n",
      "\n",
      "\n",
      "\n",
      "Copying ArrowFiles to Ouptut Directory! If you want to save disk space set copyArrows = FALSE\n",
      "\n",
      "1 \n",
      "2 \n",
      "\n",
      "\n",
      "Getting Cell Metadata...\n",
      "\n",
      "\n",
      "\n",
      "Merging Cell Metadata...\n",
      "\n",
      "Initializing ArchRProject...\n",
      "\n",
      "\n",
      "                                                   / |\n",
      "                                                 /    \\\n",
      "            .                                  /      |.\n",
      "            \\\\\\                              /        |.\n",
      "              \\\\\\                          /           `|.\n",
      "                \\\\\\                      /              |.\n",
      "                  \\                    /                |\\\n",
      "                  \\\\#####\\           /                  ||\n",
      "                ==###########>      /                   ||\n",
      "                 \\\\##==......\\    /                     ||\n",
      "            ______ =       =|__ /__                     ||      \\\\\\\n",
      "        ,--' ,----`-,__ ___/'  --,-`-===================##========>\n",
      "       \\               '        ##_______ _____ ,--,__,=##,__   ///\n",
      "        ,    __==    ___,-,__,--'#'  ==='      `-'    | ##,-/\n",
      "        -,____,---'       \\\\####\\\\________________,--\\\\_##,/\n",
      "           ___      .______        ______  __    __  .______      \n",
      "          /   \\     |   _  \\      /      ||  |  |  | |   _  \\     \n",
      "         /  ^  \\    |  |_)  |    |  ,----'|  |__|  | |  |_)  |    \n",
      "        /  /_\\  \\   |      /     |  |     |   __   | |      /     \n",
      "       /  _____  \\  |  |\\  \\\\___ |  `----.|  |  |  | |  |\\  \\\\___.\n",
      "      /__/     \\__\\ | _| `._____| \\______||__|  |__| | _| `._____|\n",
      "    \n",
      "\n"
     ]
    }
   ],
   "source": [
    "obj.ArchR <- ArchRProject(\n",
    "  ArrowFiles = ArrowFiles, \n",
    "  outputDirectory = paste(dir.output,\"ArchR\",sep=\"/\"),\n",
    "  copyArrows = TRUE \n",
    ")"
   ]
  },
  {
   "cell_type": "code",
   "execution_count": 12,
   "id": "f9795403-545f-4385-aa38-2c70b1b2fb21",
   "metadata": {},
   "outputs": [
    {
     "name": "stderr",
     "output_type": "stream",
     "text": [
      "\n",
      "           ___      .______        ______  __    __  .______      \n",
      "          /   \\     |   _  \\      /      ||  |  |  | |   _  \\     \n",
      "         /  ^  \\    |  |_)  |    |  ,----'|  |__|  | |  |_)  |    \n",
      "        /  /_\\  \\   |      /     |  |     |   __   | |      /     \n",
      "       /  _____  \\  |  |\\  \\\\___ |  `----.|  |  |  | |  |\\  \\\\___.\n",
      "      /__/     \\__\\ | _| `._____| \\______||__|  |__| | _| `._____|\n",
      "    \n",
      "\n"
     ]
    },
    {
     "data": {
      "text/plain": [
       "class: ArchRProject \n",
       "outputDirectory: /maps/projects/ralab_nnfc-AUDIT/people/lpm537/project/E2G/analysis/E2G_240503/data/K562_IGVF/3.Genome_wide_prediction/ArchR/ArchR.240615/ArchR.240615/ArchR \n",
       "samples(2): e10l2 e10l1\n",
       "sampleColData names(1): ArrowFiles\n",
       "cellColData names(13): Sample TSSEnrichment ... nDiFrags BlacklistRatio\n",
       "numberOfCells(1): 4452\n",
       "medianTSS(1): 13.8465\n",
       "medianFrags(1): 14880.5"
      ]
     },
     "metadata": {},
     "output_type": "display_data"
    }
   ],
   "source": [
    "obj.ArchR"
   ]
  },
  {
   "cell_type": "code",
   "execution_count": 13,
   "id": "ee876dd5-0b22-46fd-9015-7e22144c5024",
   "metadata": {},
   "outputs": [
    {
     "name": "stderr",
     "output_type": "stream",
     "text": [
      "Checking Inputs...\n",
      "\n",
      "ArchR logging to : ArchRLogs/ArchR-addIterativeLSI-5df6641254ae-Date-2024-06-15_Time-12-23-24.245914.log\n",
      "If there is an issue, please report to github with logFile!\n",
      "\n",
      "2024-06-15 12:23:48.477652 : Computing Total Across All Features, 0.116 mins elapsed.\n",
      "\n",
      "2024-06-15 12:24:17.244691 : Computing Top Features, 0.595 mins elapsed.\n",
      "\n",
      "###########\n",
      "2024-06-15 12:24:22.64828 : Running LSI (1 of 2) on Top Features, 0.686 mins elapsed.\n",
      "###########\n",
      "\n",
      "2024-06-15 12:24:22.670716 : Creating Partial Matrix, 0.686 mins elapsed.\n",
      "\n",
      "2024-06-15 12:24:50.040271 : Computing LSI, 1.142 mins elapsed.\n",
      "\n",
      "2024-06-15 12:26:05.600519 : Identifying Clusters, 2.401 mins elapsed.\n",
      "\n",
      "Warning message:\n",
      "“Data is of class matrix. Coercing to dgCMatrix.”\n",
      "2024-06-15 12:26:22.973021 : Identified 6 Clusters, 2.691 mins elapsed.\n",
      "\n",
      "2024-06-15 12:26:24.109919 : Saving LSI Iteration, 2.71 mins elapsed.\n",
      "\n",
      "Found more than one class \"dist\" in cache; using the first, from namespace 'BiocGenerics'\n",
      "\n",
      "Also defined by ‘spam’\n",
      "\n",
      "Found more than one class \"dist\" in cache; using the first, from namespace 'BiocGenerics'\n",
      "\n",
      "Also defined by ‘spam’\n",
      "\n"
     ]
    },
    {
     "name": "stdout",
     "output_type": "stream",
     "text": [
      "\n",
      "************************************************************\n",
      "2024-06-15 12:26:42.464516 : ERROR Found in .saveIteration for  \n",
      "LogFile = ArchRLogs/ArchR-addIterativeLSI-5df6641254ae-Date-2024-06-15_Time-12-23-24.245914.log\n",
      "\n",
      "<simpleError in g$grobs[[legend]]: no such index at level 2\n",
      ">\n",
      "\n",
      "************************************************************\n",
      "\n"
     ]
    },
    {
     "name": "stderr",
     "output_type": "stream",
     "text": [
      "2024-06-15 12:26:42.468719 : Creating Cluster Matrix on the total Group Features, 3.016 mins elapsed.\n",
      "\n",
      "2024-06-15 12:27:08.837255 : Computing Variable Features, 3.455 mins elapsed.\n",
      "\n",
      "###########\n",
      "2024-06-15 12:27:09.115792 : Running LSI (2 of 2) on Variable Features, 3.46 mins elapsed.\n",
      "###########\n",
      "\n",
      "2024-06-15 12:27:09.152827 : Creating Partial Matrix, 3.461 mins elapsed.\n",
      "\n",
      "2024-06-15 12:27:36.530074 : Computing LSI, 3.917 mins elapsed.\n",
      "\n",
      "2024-06-15 12:28:31.671015 : Finished Running IterativeLSI, 4.836 mins elapsed.\n",
      "\n"
     ]
    }
   ],
   "source": [
    "obj.ArchR = addIterativeLSI(\n",
    "    ArchRProj = obj.ArchR,\n",
    "    useMatrix = \"TileMatrix\", \n",
    "    name = \"IterativeLSI\"\n",
    ")"
   ]
  },
  {
   "cell_type": "code",
   "execution_count": 14,
   "id": "2c1d334b-7fd7-425a-bb8d-7be4cbedd3e4",
   "metadata": {},
   "outputs": [],
   "source": [
    "obj.ArchR = addPeakSet(obj.ArchR,\n",
    "                       peakSet = reduce(pairs.E2G))"
   ]
  },
  {
   "cell_type": "code",
   "execution_count": 15,
   "id": "e25c14db-eb4e-4b94-8862-eb34246a365c",
   "metadata": {},
   "outputs": [
    {
     "name": "stderr",
     "output_type": "stream",
     "text": [
      "ArchR logging to : ArchRLogs/ArchR-addPeakMatrix-5df6627721e9f-Date-2024-06-15_Time-12-28-38.176342.log\n",
      "If there is an issue, please report to github with logFile!\n",
      "\n",
      "2024-06-15 12:28:41.778021 : Batch Execution w/ safelapply!, 0 mins elapsed.\n",
      "\n",
      "ArchR logging successful to : ArchRLogs/ArchR-addPeakMatrix-5df6627721e9f-Date-2024-06-15_Time-12-28-38.176342.log\n",
      "\n"
     ]
    }
   ],
   "source": [
    "obj.ArchR = addPeakMatrix(obj.ArchR)"
   ]
  },
  {
   "cell_type": "code",
   "execution_count": 16,
   "id": "aa6d686e-4205-4eda-8d76-ed4d9e3e30e7",
   "metadata": {},
   "outputs": [],
   "source": [
    "seRNA.Xu = ArchR:::.importFM(featureMatrix = \"/maps/projects/ralab_nnfc-AUDIT/people/lpm537/project/E2G/processed/10x_multiome_230720/ArrayExpress/cellranger_res/EMTAB11264_01/outs/filtered_feature_bc_matrix.h5\",\n",
    "                             name = \"K562_Xu\",\n",
    "                             featureType = \"Gene Expression\")\n",
    "rowdata.Xu = rowData(seRNA.Xu)"
   ]
  },
  {
   "cell_type": "code",
   "execution_count": 17,
   "id": "d843eb16-9fed-4146-b76e-0fb053f1557f",
   "metadata": {},
   "outputs": [],
   "source": [
    "gene.intersect = intersect(rownames(obj.seurat@assays$RNA$counts),\n",
    "                           rowdata.Xu$name)\n",
    "rowdata.intersect = rowdata.Xu[gene.intersect,]"
   ]
  },
  {
   "cell_type": "code",
   "execution_count": 18,
   "id": "fdf69211-b595-4599-ac8d-1c832875c062",
   "metadata": {},
   "outputs": [],
   "source": [
    "rr = GRanges(paste0(rowdata.intersect$interval))\n",
    "mcols(rr) <- rowdata.intersect"
   ]
  },
  {
   "cell_type": "code",
   "execution_count": 19,
   "id": "1e8f8d64-f6be-43c2-8e76-ea1cf4ad0453",
   "metadata": {},
   "outputs": [],
   "source": [
    "count.rna = obj.seurat@assays$RNA$counts[gene.intersect,]\n",
    "colnames(count.rna) = gsub(\"e10l1_\",\"e10l1#\",colnames(count.rna))\n",
    "colnames(count.rna) = gsub(\"e10l2_\",\"e10l2#\",colnames(count.rna))"
   ]
  },
  {
   "cell_type": "code",
   "execution_count": 20,
   "id": "174a97a2-ab68-478a-9085-8e8fbc3bac29",
   "metadata": {},
   "outputs": [],
   "source": [
    "seRNA <- SummarizedExperiment(assays = SimpleList(counts = count.rna), \n",
    "                              rowRanges = rr)\n",
    "seRNA = sort.GenomicRanges(sortSeqlevels(seRNA), \n",
    "                           ignore.strand = TRUE)"
   ]
  },
  {
   "cell_type": "code",
   "execution_count": 21,
   "id": "4656d98c-a9cc-486a-afaa-fe59ca6ef055",
   "metadata": {},
   "outputs": [
    {
     "data": {
      "text/plain": [
       "class: RangedSummarizedExperiment \n",
       "dim: 39032 4459 \n",
       "metadata(0):\n",
       "assays(1): counts\n",
       "rownames(39032): MIR1302-2HG WASH7P ... CTBP2P1 PRODH\n",
       "rowData names(5): feature_type genome id interval name\n",
       "colnames(4459): e10l1#AAACCAGGTCACAGGG-1 e10l1#AAACCGCCAAGGAATA-1 ...\n",
       "  e10l2#TTTGTGAGTTAGCGTT-1 e10l2#TTTGTGAGTTCCGGAC-1\n",
       "colData names(0):"
      ]
     },
     "metadata": {},
     "output_type": "display_data"
    }
   ],
   "source": [
    "seRNA"
   ]
  },
  {
   "cell_type": "code",
   "execution_count": 22,
   "id": "65cb2097-9075-4ee4-9e54-dd288dc50736",
   "metadata": {},
   "outputs": [
    {
     "name": "stderr",
     "output_type": "stream",
     "text": [
      "ArchR logging to : ArchRLogs/ArchR-addGeneExpressionMatrix-5df6663816ede-Date-2024-06-15_Time-12-35-54.494895.log\n",
      "If there is an issue, please report to github with logFile!\n",
      "\n",
      "Overlap w/ scATAC = 1\n",
      "\n",
      "2024-06-15 12:36:05.557732 : \n",
      "\n",
      "Overlap Per Sample w/ scATAC : e10l1=2367,e10l2=2085\n",
      "\n",
      "2024-06-15 12:36:05.583666 : \n",
      "\n",
      "2024-06-15 12:36:08.70859 : Batch Execution w/ safelapply!, 0 mins elapsed.\n",
      "\n",
      "ArchR logging successful to : ArchRLogs/ArchR-addGeneExpressionMatrix-5df6663816ede-Date-2024-06-15_Time-12-35-54.494895.log\n",
      "\n"
     ]
    }
   ],
   "source": [
    "obj.ArchR = addGeneExpressionMatrix(obj.ArchR,\n",
    "                                    seRNA = seRNA,\n",
    "                                    strictMatch = T)"
   ]
  },
  {
   "cell_type": "markdown",
   "id": "e4318703-a143-40c0-b159-274d05033bbc",
   "metadata": {},
   "source": [
    "Run ArchR prediction"
   ]
  },
  {
   "cell_type": "code",
   "execution_count": 23,
   "id": "47c8fd5f-19ec-46e6-af87-57502c1e1ff9",
   "metadata": {},
   "outputs": [
    {
     "name": "stderr",
     "output_type": "stream",
     "text": [
      "ArchR logging to : ArchRLogs/ArchR-addPeak2GeneLinks-5df66396cb247-Date-2024-06-15_Time-12-40-30.520407.log\n",
      "If there is an issue, please report to github with logFile!\n",
      "\n",
      "2024-06-15 12:40:30.827545 : Getting Available Matrices, 0.005 mins elapsed.\n",
      "\n",
      "2024-06-15 12:40:34.917455 : Filtered Low Prediction Score Cells (0 of 4452, 0), 0.006 mins elapsed.\n",
      "\n",
      "2024-06-15 12:40:35.541313 : Computing KNN, 0.017 mins elapsed.\n",
      "\n",
      "2024-06-15 12:40:36.083932 : Identifying Non-Overlapping KNN pairs, 0.026 mins elapsed.\n",
      "\n",
      "2024-06-15 12:40:39.318261 : Identified 500 Groupings!, 0.08 mins elapsed.\n",
      "\n",
      "2024-06-15 12:40:39.418129 : Getting Group RNA Matrix, 0.081 mins elapsed.\n",
      "\n",
      "2024-06-15 12:41:31.030267 : Getting Group ATAC Matrix, 0.942 mins elapsed.\n",
      "\n",
      "2024-06-15 12:42:17.440757 : Normalizing Group Matrices, 1.715 mins elapsed.\n",
      "\n",
      "2024-06-15 12:42:34.62198 : Finding Peak Gene Pairings, 2.001 mins elapsed.\n",
      "\n",
      "2024-06-15 12:42:37.880661 : Computing Correlations, 2.056 mins elapsed.\n",
      "\n",
      "2024-06-15 12:43:41.391409 : Completed Peak2Gene Correlations!, 3.114 mins elapsed.\n",
      "\n",
      "ArchR logging successful to : ArchRLogs/ArchR-addPeak2GeneLinks-5df66396cb247-Date-2024-06-15_Time-12-40-30.520407.log\n",
      "\n"
     ]
    }
   ],
   "source": [
    "start_time <- Sys.time()\n",
    "obj.ArchR = addPeak2GeneLinks(\n",
    "    ArchRProj = obj.ArchR,\n",
    "    reducedDims = \"IterativeLSI\",\n",
    "    useMatrix = \"GeneExpressionMatrix\",\n",
    "    maxDist = maxDist,\n",
    "    threads = n.cores\n",
    ")\n",
    "end_time <- Sys.time()\n",
    "execution_time <- end_time - start_time"
   ]
  },
  {
   "cell_type": "code",
   "execution_count": 24,
   "id": "128d0065-5f22-495b-b00d-743fc9843337",
   "metadata": {},
   "outputs": [
    {
     "data": {
      "text/plain": [
       "Time difference of 3.182479 mins"
      ]
     },
     "metadata": {},
     "output_type": "display_data"
    }
   ],
   "source": [
    "execution_time"
   ]
  },
  {
   "cell_type": "code",
   "execution_count": 25,
   "id": "36bd2df2-6b32-4b81-bd4f-39ef8913b3c3",
   "metadata": {},
   "outputs": [],
   "source": [
    "p2g = metadata(obj.ArchR@peakSet)$Peak2GeneLinks"
   ]
  },
  {
   "cell_type": "code",
   "execution_count": 26,
   "id": "e7730413-8fd4-4952-bb13-0df7a3b15b6f",
   "metadata": {},
   "outputs": [],
   "source": [
    "metadata(p2g)[[1]]$PeakName = paste(seqnames(metadata(p2g)[[1]]),\n",
    "                                    ranges(metadata(p2g)[[1]]),sep=\"-\")"
   ]
  },
  {
   "cell_type": "code",
   "execution_count": 27,
   "id": "aeea3810-6735-4aff-9bd7-1697bef979d2",
   "metadata": {},
   "outputs": [],
   "source": [
    "p2g$PairName = paste(metadata(p2g)[[1]][p2g$idxATAC]$PeakName,\n",
    "                     metadata(p2g)[[2]][p2g$idxRNA]$name,\n",
    "                     sep = \"_\")"
   ]
  },
  {
   "cell_type": "code",
   "execution_count": 28,
   "id": "87f975ec-6ba4-4696-ad6c-2af65da7aa54",
   "metadata": {},
   "outputs": [
    {
     "data": {
      "text/plain": [
       "DataFrame with 6587265 rows and 7 columns\n",
       "                                  idxATAC    idxRNA Correlation         FDR\n",
       "                                <integer> <integer>   <numeric>   <numeric>\n",
       "chr1-10028-10438_MIR1302-2HG            1         1  -0.0749167 0.208393432\n",
       "chr1-115520-115916_MIR1302-2HG          2         1   0.0291799 0.672526305\n",
       "chr1-138922-139279_MIR1302-2HG          3         1  -0.1137008 0.040826298\n",
       "chr1-180739-181862_MIR1302-2HG          4         1   0.0823833 0.159795307\n",
       "chr1-267886-268152_MIR1302-2HG          5         1   0.1779762 0.000604249\n",
       "...                                   ...       ...         ...         ...\n",
       "chrX-156002463-156003206_WASH6P    153218     38942   0.0665265    0.273457\n",
       "chrX-156016528-156016739_WASH6P    153219     38942   0.0460098    0.475940\n",
       "chrX-156019809-156020136_WASH6P    153220     38942   0.0174028    0.812644\n",
       "chrX-156029672-156030380_WASH6P    153221     38942   0.0172180    0.814814\n",
       "chrX-156030503-156030824_WASH6P    153222     38942  -0.0312712    0.647461\n",
       "                                 VarQATAC   VarQRNA               PairName\n",
       "                                <numeric> <numeric>            <character>\n",
       "chr1-10028-10438_MIR1302-2HG     0.523404  0.438216 chr1-10028-10438_MIR..\n",
       "chr1-115520-115916_MIR1302-2HG   0.676267  0.438216 chr1-115520-115916_M..\n",
       "chr1-138922-139279_MIR1302-2HG   0.240187  0.438216 chr1-138922-139279_M..\n",
       "chr1-180739-181862_MIR1302-2HG   0.769857  0.438216 chr1-180739-181862_M..\n",
       "chr1-267886-268152_MIR1302-2HG   0.576092  0.438216 chr1-267886-268152_M..\n",
       "...                                   ...       ...                    ...\n",
       "chrX-156002463-156003206_WASH6P 0.8013014  0.434903 chrX-156002463-15600..\n",
       "chrX-156016528-156016739_WASH6P 0.0921996  0.434903 chrX-156016528-15601..\n",
       "chrX-156019809-156020136_WASH6P 0.0535954  0.434903 chrX-156019809-15602..\n",
       "chrX-156029672-156030380_WASH6P 0.5866455  0.434903 chrX-156029672-15603..\n",
       "chrX-156030503-156030824_WASH6P 0.2213455  0.434903 chrX-156030503-15603.."
      ]
     },
     "metadata": {},
     "output_type": "display_data"
    }
   ],
   "source": [
    "rownames(p2g) = p2g$PairName\n",
    "p2g"
   ]
  },
  {
   "cell_type": "code",
   "execution_count": 29,
   "id": "c7209a32-3904-4734-93af-9c22049f652a",
   "metadata": {},
   "outputs": [],
   "source": [
    "pairs.E2G.res = pairs.E2G[pairs.E2G$PairName %in% p2g$PairName]\n",
    "mcols(pairs.E2G.res)[,c(\"Correlation\",\"FDR\",\"VarQATAC\",\"VarQRNA\")] = p2g[pairs.E2G.res$PairName,c(\"Correlation\",\"FDR\",\"VarQATAC\",\"VarQRNA\")]"
   ]
  },
  {
   "cell_type": "code",
   "execution_count": 30,
   "id": "1ab4ed70-ce9e-4857-bd1b-63a81d27a401",
   "metadata": {},
   "outputs": [
    {
     "data": {
      "text/plain": [
       "GRanges object with 2710836 ranges and 7 metadata columns:\n",
       "            seqnames            ranges strand |  TargetGene\n",
       "               <Rle>         <IRanges>  <Rle> | <character>\n",
       "        [1]     chr1 10002642-10003186      * |       CASZ1\n",
       "        [2]     chr1 10002642-10003186      * |      CLSTN1\n",
       "        [3]     chr1 10002642-10003186      * |    CTNNBIP1\n",
       "        [4]     chr1 10002642-10003186      * |        DFFA\n",
       "        [5]     chr1 10002642-10003186      * |      GPR157\n",
       "        ...      ...               ...    ... .         ...\n",
       "  [2710832]     chrX   9995829-9996183      * |       CLCN4\n",
       "  [2710833]     chrX   9995829-9996183      * |      CLDN34\n",
       "  [2710834]     chrX   9995829-9996183      * |       FAM9B\n",
       "  [2710835]     chrX   9995829-9996183      * |       TBL1X\n",
       "  [2710836]     chrX   9995829-9996183      * |        WWC3\n",
       "                          PeakName               PairName Correlation       FDR\n",
       "                       <character>            <character>   <numeric> <numeric>\n",
       "        [1] chr1-10002642-10003186 chr1-10002642-100031..  0.09859547 0.0830483\n",
       "        [2] chr1-10002642-10003186 chr1-10002642-100031..  0.00711493 0.9277761\n",
       "        [3] chr1-10002642-10003186 chr1-10002642-100031.. -0.00996287 0.8969259\n",
       "        [4] chr1-10002642-10003186 chr1-10002642-100031.. -0.07959085 0.1769468\n",
       "        [5] chr1-10002642-10003186 chr1-10002642-100031..  0.02483744 0.7245648\n",
       "        ...                    ...                    ...         ...       ...\n",
       "  [2710832]   chrX-9995829-9996183 chrX-9995829-9996183..  -0.0443288  0.494737\n",
       "  [2710833]   chrX-9995829-9996183 chrX-9995829-9996183..         NaN       NaN\n",
       "  [2710834]   chrX-9995829-9996183 chrX-9995829-9996183..  -0.0372352  0.576488\n",
       "  [2710835]   chrX-9995829-9996183 chrX-9995829-9996183..   0.0226603  0.750667\n",
       "  [2710836]   chrX-9995829-9996183 chrX-9995829-9996183..  -0.0764515  0.197667\n",
       "             VarQATAC   VarQRNA\n",
       "            <numeric> <numeric>\n",
       "        [1]  0.158215  0.565919\n",
       "        [2]  0.158215  0.884110\n",
       "        [3]  0.158215  0.835550\n",
       "        [4]  0.158215  0.887320\n",
       "        [5]  0.158215  0.552874\n",
       "        ...       ...       ...\n",
       "  [2710832]  0.419568 0.8584048\n",
       "  [2710833]  0.419568 0.0716964\n",
       "  [2710834]  0.419568 0.6998613\n",
       "  [2710835]  0.419568 0.9759129\n",
       "  [2710836]  0.419568 0.7349905\n",
       "  -------\n",
       "  seqinfo: 23 sequences from an unspecified genome; no seqlengths"
      ]
     },
     "metadata": {},
     "output_type": "display_data"
    }
   ],
   "source": [
    "pairs.E2G.res"
   ]
  },
  {
   "cell_type": "markdown",
   "id": "46485351-50d7-461a-bf09-d795d5bdab84",
   "metadata": {},
   "source": [
    "Save results"
   ]
  },
  {
   "cell_type": "code",
   "execution_count": 31,
   "id": "6d424e21-6a41-4422-b76c-6f1c0bda2222",
   "metadata": {},
   "outputs": [
    {
     "data": {
      "text/plain": [
       "GRanges object with 2710836 ranges and 7 metadata columns:\n",
       "            seqnames            ranges strand |  TargetGene\n",
       "               <Rle>         <IRanges>  <Rle> | <character>\n",
       "        [1]     chr1 10002642-10003186      * |       CASZ1\n",
       "        [2]     chr1 10002642-10003186      * |      CLSTN1\n",
       "        [3]     chr1 10002642-10003186      * |    CTNNBIP1\n",
       "        [4]     chr1 10002642-10003186      * |        DFFA\n",
       "        [5]     chr1 10002642-10003186      * |      GPR157\n",
       "        ...      ...               ...    ... .         ...\n",
       "  [2710832]     chrX   9995829-9996183      * |       CLCN4\n",
       "  [2710833]     chrX   9995829-9996183      * |      CLDN34\n",
       "  [2710834]     chrX   9995829-9996183      * |       FAM9B\n",
       "  [2710835]     chrX   9995829-9996183      * |       TBL1X\n",
       "  [2710836]     chrX   9995829-9996183      * |        WWC3\n",
       "                          PeakName               PairName Correlation       FDR\n",
       "                       <character>            <character>   <numeric> <numeric>\n",
       "        [1] chr1-10002642-10003186 chr1-10002642-100031..  0.09859547 0.0830483\n",
       "        [2] chr1-10002642-10003186 chr1-10002642-100031..  0.00711493 0.9277761\n",
       "        [3] chr1-10002642-10003186 chr1-10002642-100031.. -0.00996287 0.8969259\n",
       "        [4] chr1-10002642-10003186 chr1-10002642-100031.. -0.07959085 0.1769468\n",
       "        [5] chr1-10002642-10003186 chr1-10002642-100031..  0.02483744 0.7245648\n",
       "        ...                    ...                    ...         ...       ...\n",
       "  [2710832]   chrX-9995829-9996183 chrX-9995829-9996183..  -0.0443288  0.494737\n",
       "  [2710833]   chrX-9995829-9996183 chrX-9995829-9996183..         NaN       NaN\n",
       "  [2710834]   chrX-9995829-9996183 chrX-9995829-9996183..  -0.0372352  0.576488\n",
       "  [2710835]   chrX-9995829-9996183 chrX-9995829-9996183..   0.0226603  0.750667\n",
       "  [2710836]   chrX-9995829-9996183 chrX-9995829-9996183..  -0.0764515  0.197667\n",
       "             VarQATAC   VarQRNA\n",
       "            <numeric> <numeric>\n",
       "        [1]  0.158215  0.565919\n",
       "        [2]  0.158215  0.884110\n",
       "        [3]  0.158215  0.835550\n",
       "        [4]  0.158215  0.887320\n",
       "        [5]  0.158215  0.552874\n",
       "        ...       ...       ...\n",
       "  [2710832]  0.419568 0.8584048\n",
       "  [2710833]  0.419568 0.0716964\n",
       "  [2710834]  0.419568 0.6998613\n",
       "  [2710835]  0.419568 0.9759129\n",
       "  [2710836]  0.419568 0.7349905\n",
       "  -------\n",
       "  seqinfo: 23 sequences from an unspecified genome; no seqlengths"
      ]
     },
     "metadata": {},
     "output_type": "display_data"
    },
    {
     "data": {
      "text/html": [
       "<table class=\"dataframe\">\n",
       "<caption>A data.frame: 2710836 × 9</caption>\n",
       "<thead>\n",
       "\t<tr><th scope=col>chr</th><th scope=col>start</th><th scope=col>end</th><th scope=col>TargetGene</th><th scope=col>CellType</th><th scope=col>Correlation</th><th scope=col>FDR</th><th scope=col>VarQATAC</th><th scope=col>VarQRNA</th></tr>\n",
       "\t<tr><th scope=col>&lt;fct&gt;</th><th scope=col>&lt;int&gt;</th><th scope=col>&lt;int&gt;</th><th scope=col>&lt;chr&gt;</th><th scope=col>&lt;chr&gt;</th><th scope=col>&lt;dbl&gt;</th><th scope=col>&lt;dbl&gt;</th><th scope=col>&lt;dbl&gt;</th><th scope=col>&lt;dbl&gt;</th></tr>\n",
       "</thead>\n",
       "<tbody>\n",
       "\t<tr><td>chr1</td><td> 10002642</td><td> 10003186</td><td>CASZ1   </td><td>K562</td><td> 0.098595470</td><td>8.304828e-02</td><td>0.1582149</td><td>0.5659185</td></tr>\n",
       "\t<tr><td>chr1</td><td> 10002642</td><td> 10003186</td><td>CLSTN1  </td><td>K562</td><td> 0.007114934</td><td>9.277761e-01</td><td>0.1582149</td><td>0.8841097</td></tr>\n",
       "\t<tr><td>chr1</td><td> 10002642</td><td> 10003186</td><td>CTNNBIP1</td><td>K562</td><td>-0.009962871</td><td>8.969259e-01</td><td>0.1582149</td><td>0.8355503</td></tr>\n",
       "\t<tr><td>chr1</td><td> 10002642</td><td> 10003186</td><td>DFFA    </td><td>K562</td><td>-0.079590853</td><td>1.769468e-01</td><td>0.1582149</td><td>0.8873196</td></tr>\n",
       "\t<tr><td>chr1</td><td> 10002642</td><td> 10003186</td><td>GPR157  </td><td>K562</td><td> 0.024837436</td><td>7.245648e-01</td><td>0.1582149</td><td>0.5528735</td></tr>\n",
       "\t<tr><td>chr1</td><td> 10002642</td><td> 10003186</td><td>H6PD    </td><td>K562</td><td> 0.049376646</td><td>4.390902e-01</td><td>0.1582149</td><td>0.7783113</td></tr>\n",
       "\t<tr><td>chr1</td><td> 10002642</td><td> 10003186</td><td>KIF1B   </td><td>K562</td><td>-0.019834084</td><td>7.841260e-01</td><td>0.1582149</td><td>0.9124339</td></tr>\n",
       "\t<tr><td>chr1</td><td> 10002642</td><td> 10003186</td><td>LZIC    </td><td>K562</td><td> 0.060456484</td><td>3.273719e-01</td><td>0.1582149</td><td>0.8082019</td></tr>\n",
       "\t<tr><td>chr1</td><td> 10002642</td><td> 10003186</td><td>MIR34AHG</td><td>K562</td><td> 0.047441258</td><td>4.601204e-01</td><td>0.1582149</td><td>0.5465821</td></tr>\n",
       "\t<tr><td>chr1</td><td> 10002642</td><td> 10003186</td><td>NMNAT1  </td><td>K562</td><td> 0.106530967</td><td>5.791043e-02</td><td>0.1582149</td><td>0.8339068</td></tr>\n",
       "\t<tr><td>chr1</td><td> 10002642</td><td> 10003186</td><td>PEX14   </td><td>K562</td><td>-0.025835315</td><td>7.126640e-01</td><td>0.1582149</td><td>0.8443583</td></tr>\n",
       "\t<tr><td>chr1</td><td> 10002642</td><td> 10003186</td><td>PGD     </td><td>K562</td><td> 0.104613494</td><td>6.332970e-02</td><td>0.1582149</td><td>0.9470751</td></tr>\n",
       "\t<tr><td>chr1</td><td> 10002642</td><td> 10003186</td><td>PIK3CD  </td><td>K562</td><td> 0.015700404</td><td>8.323614e-01</td><td>0.1582149</td><td>0.7783370</td></tr>\n",
       "\t<tr><td>chr1</td><td> 10002642</td><td> 10003186</td><td>SLC25A33</td><td>K562</td><td>-0.039616382</td><td>5.486954e-01</td><td>0.1582149</td><td>0.9595296</td></tr>\n",
       "\t<tr><td>chr1</td><td> 10002642</td><td> 10003186</td><td>SLC2A5  </td><td>K562</td><td>-0.097480151</td><td>8.717431e-02</td><td>0.1582149</td><td>0.5815058</td></tr>\n",
       "\t<tr><td>chr1</td><td> 10002642</td><td> 10003186</td><td>SPSB1   </td><td>K562</td><td>-0.045665716</td><td>4.797667e-01</td><td>0.1582149</td><td>0.5614504</td></tr>\n",
       "\t<tr><td>chr1</td><td> 10002642</td><td> 10003186</td><td>TMEM201 </td><td>K562</td><td>-0.015495590</td><td>8.347126e-01</td><td>0.1582149</td><td>0.7068461</td></tr>\n",
       "\t<tr><td>chr1</td><td> 10002642</td><td> 10003186</td><td>UBE4B   </td><td>K562</td><td> 0.067222054</td><td>2.676186e-01</td><td>0.1582149</td><td>0.9032921</td></tr>\n",
       "\t<tr><td>chr1</td><td>100028297</td><td>100029654</td><td>AGL     </td><td>K562</td><td> 0.136351293</td><td>1.160108e-02</td><td>0.5591234</td><td>0.8926609</td></tr>\n",
       "\t<tr><td>chr1</td><td>100028297</td><td>100029654</td><td>CDC14A  </td><td>K562</td><td> 0.082357752</td><td>1.599464e-01</td><td>0.5591234</td><td>0.9124852</td></tr>\n",
       "\t<tr><td>chr1</td><td>100028297</td><td>100029654</td><td>DBT     </td><td>K562</td><td> 0.069350719</td><td>2.503007e-01</td><td>0.5591234</td><td>0.8896821</td></tr>\n",
       "\t<tr><td>chr1</td><td>100028297</td><td>100029654</td><td>DPH5    </td><td>K562</td><td> 0.120126394</td><td>2.926880e-02</td><td>0.5591234</td><td>0.8850342</td></tr>\n",
       "\t<tr><td>chr1</td><td>100028297</td><td>100029654</td><td>EXTL2   </td><td>K562</td><td>-0.041478795</td><td>5.271628e-01</td><td>0.5591234</td><td>0.9083509</td></tr>\n",
       "\t<tr><td>chr1</td><td>100028297</td><td>100029654</td><td>FRRS1   </td><td>K562</td><td>-0.225906135</td><td>6.599557e-06</td><td>0.5591234</td><td>0.9892147</td></tr>\n",
       "\t<tr><td>chr1</td><td>100028297</td><td>100029654</td><td>LRRC39  </td><td>K562</td><td>-0.009863367</td><td>8.980098e-01</td><td>0.5591234</td><td>0.8489035</td></tr>\n",
       "\t<tr><td>chr1</td><td>100028297</td><td>100029654</td><td>MFSD14A </td><td>K562</td><td> 0.049419993</td><td>4.386211e-01</td><td>0.5591234</td><td>0.3152380</td></tr>\n",
       "\t<tr><td>chr1</td><td>100028297</td><td>100029654</td><td>PALMD   </td><td>K562</td><td>-0.078387048</td><td>1.846986e-01</td><td>0.5591234</td><td>0.8415592</td></tr>\n",
       "\t<tr><td>chr1</td><td>100028297</td><td>100029654</td><td>PLPPR4  </td><td>K562</td><td> 0.070703249</td><td>2.396713e-01</td><td>0.5591234</td><td>0.4080941</td></tr>\n",
       "\t<tr><td>chr1</td><td>100028297</td><td>100029654</td><td>RTCA    </td><td>K562</td><td>-0.132677591</td><td>1.446026e-02</td><td>0.5591234</td><td>0.9274049</td></tr>\n",
       "\t<tr><td>chr1</td><td>100028297</td><td>100029654</td><td>RTCA-AS1</td><td>K562</td><td> 0.193670958</td><td>1.578587e-04</td><td>0.5591234</td><td>0.8244826</td></tr>\n",
       "\t<tr><td>⋮</td><td>⋮</td><td>⋮</td><td>⋮</td><td>⋮</td><td>⋮</td><td>⋮</td><td>⋮</td><td>⋮</td></tr>\n",
       "\t<tr><td>chrX</td><td>9894528</td><td>9895196</td><td>CLDN34   </td><td>K562</td><td>        NaN</td><td>         NaN</td><td>0.15595019</td><td>0.07169637</td></tr>\n",
       "\t<tr><td>chrX</td><td>9894528</td><td>9895196</td><td>FAM9B    </td><td>K562</td><td> 0.02437874</td><td>7.300728e-01</td><td>0.15595019</td><td>0.69986133</td></tr>\n",
       "\t<tr><td>chrX</td><td>9894528</td><td>9895196</td><td>TBL1X    </td><td>K562</td><td>-0.13774395</td><td>1.065451e-02</td><td>0.15595019</td><td>0.97591290</td></tr>\n",
       "\t<tr><td>chrX</td><td>9894528</td><td>9895196</td><td>WWC3     </td><td>K562</td><td> 0.23076885</td><td>3.885042e-06</td><td>0.15595019</td><td>0.73499050</td></tr>\n",
       "\t<tr><td>chrX</td><td> 989766</td><td> 990603</td><td>AKAP17A  </td><td>K562</td><td> 0.04386263</td><td>5.000044e-01</td><td>0.90466774</td><td>0.92293668</td></tr>\n",
       "\t<tr><td>chrX</td><td> 989766</td><td> 990603</td><td>ASMTL    </td><td>K562</td><td>-0.13477714</td><td>1.275923e-02</td><td>0.90466774</td><td>0.74816394</td></tr>\n",
       "\t<tr><td>chrX</td><td> 989766</td><td> 990603</td><td>CSF2RA   </td><td>K562</td><td>-0.16393286</td><td>1.802353e-03</td><td>0.90466774</td><td>0.53353706</td></tr>\n",
       "\t<tr><td>chrX</td><td> 989766</td><td> 990603</td><td>GTPBP6   </td><td>K562</td><td> 0.11654660</td><td>3.531027e-02</td><td>0.90466774</td><td>0.73683940</td></tr>\n",
       "\t<tr><td>chrX</td><td> 989766</td><td> 990603</td><td>IL3RA    </td><td>K562</td><td> 0.21228471</td><td>2.706101e-05</td><td>0.90466774</td><td>0.67387397</td></tr>\n",
       "\t<tr><td>chrX</td><td> 989766</td><td> 990603</td><td>LINC00106</td><td>K562</td><td>-0.10229683</td><td>7.042662e-02</td><td>0.90466774</td><td>0.68463356</td></tr>\n",
       "\t<tr><td>chrX</td><td> 989766</td><td> 990603</td><td>P2RY8    </td><td>K562</td><td> 0.02029809</td><td>7.786702e-01</td><td>0.90466774</td><td>0.64647424</td></tr>\n",
       "\t<tr><td>chrX</td><td> 989766</td><td> 990603</td><td>PLCXD1   </td><td>K562</td><td>-0.04929731</td><td>4.399405e-01</td><td>0.90466774</td><td>0.80036978</td></tr>\n",
       "\t<tr><td>chrX</td><td> 989766</td><td> 990603</td><td>PPP2R3B  </td><td>K562</td><td> 0.09501732</td><td>9.685730e-02</td><td>0.90466774</td><td>0.76336603</td></tr>\n",
       "\t<tr><td>chrX</td><td> 989766</td><td> 990603</td><td>SHOX     </td><td>K562</td><td> 0.00564795</td><td>9.432368e-01</td><td>0.90466774</td><td>0.54861075</td></tr>\n",
       "\t<tr><td>chrX</td><td> 989766</td><td> 990603</td><td>SLC25A6  </td><td>K562</td><td>-0.14184364</td><td>8.249571e-03</td><td>0.90466774</td><td>0.93531406</td></tr>\n",
       "\t<tr><td>chrX</td><td>9940388</td><td>9940708</td><td>CLCN4    </td><td>K562</td><td>-0.35006883</td><td>9.714038e-14</td><td>0.04084270</td><td>0.85840481</td></tr>\n",
       "\t<tr><td>chrX</td><td>9940388</td><td>9940708</td><td>CLDN34   </td><td>K562</td><td>        NaN</td><td>         NaN</td><td>0.04084270</td><td>0.07169637</td></tr>\n",
       "\t<tr><td>chrX</td><td>9940388</td><td>9940708</td><td>FAM9B    </td><td>K562</td><td> 0.09640523</td><td>9.130728e-02</td><td>0.04084270</td><td>0.69986133</td></tr>\n",
       "\t<tr><td>chrX</td><td>9940388</td><td>9940708</td><td>TBL1X    </td><td>K562</td><td> 0.38979790</td><td>3.294295e-17</td><td>0.04084270</td><td>0.97591290</td></tr>\n",
       "\t<tr><td>chrX</td><td>9940388</td><td>9940708</td><td>WWC3     </td><td>K562</td><td>-0.23167595</td><td>3.514769e-06</td><td>0.04084270</td><td>0.73499050</td></tr>\n",
       "\t<tr><td>chrX</td><td>9966874</td><td>9967060</td><td>CLCN4    </td><td>K562</td><td>-0.28169087</td><td>6.653402e-09</td><td>0.03111172</td><td>0.85840481</td></tr>\n",
       "\t<tr><td>chrX</td><td>9966874</td><td>9967060</td><td>CLDN34   </td><td>K562</td><td>        NaN</td><td>         NaN</td><td>0.03111172</td><td>0.07169637</td></tr>\n",
       "\t<tr><td>chrX</td><td>9966874</td><td>9967060</td><td>FAM9B    </td><td>K562</td><td> 0.11389014</td><td>4.043865e-02</td><td>0.03111172</td><td>0.69986133</td></tr>\n",
       "\t<tr><td>chrX</td><td>9966874</td><td>9967060</td><td>TBL1X    </td><td>K562</td><td> 0.36735657</td><td>3.479264e-15</td><td>0.03111172</td><td>0.97591290</td></tr>\n",
       "\t<tr><td>chrX</td><td>9966874</td><td>9967060</td><td>WWC3     </td><td>K562</td><td>-0.22686012</td><td>5.953065e-06</td><td>0.03111172</td><td>0.73499050</td></tr>\n",
       "\t<tr><td>chrX</td><td>9995829</td><td>9996183</td><td>CLCN4    </td><td>K562</td><td>-0.04432883</td><td>4.947370e-01</td><td>0.41956769</td><td>0.85840481</td></tr>\n",
       "\t<tr><td>chrX</td><td>9995829</td><td>9996183</td><td>CLDN34   </td><td>K562</td><td>        NaN</td><td>         NaN</td><td>0.41956769</td><td>0.07169637</td></tr>\n",
       "\t<tr><td>chrX</td><td>9995829</td><td>9996183</td><td>FAM9B    </td><td>K562</td><td>-0.03723516</td><td>5.764885e-01</td><td>0.41956769</td><td>0.69986133</td></tr>\n",
       "\t<tr><td>chrX</td><td>9995829</td><td>9996183</td><td>TBL1X    </td><td>K562</td><td> 0.02266027</td><td>7.506674e-01</td><td>0.41956769</td><td>0.97591290</td></tr>\n",
       "\t<tr><td>chrX</td><td>9995829</td><td>9996183</td><td>WWC3     </td><td>K562</td><td>-0.07645146</td><td>1.976671e-01</td><td>0.41956769</td><td>0.73499050</td></tr>\n",
       "</tbody>\n",
       "</table>\n"
      ],
      "text/latex": [
       "A data.frame: 2710836 × 9\n",
       "\\begin{tabular}{lllllllll}\n",
       " chr & start & end & TargetGene & CellType & Correlation & FDR & VarQATAC & VarQRNA\\\\\n",
       " <fct> & <int> & <int> & <chr> & <chr> & <dbl> & <dbl> & <dbl> & <dbl>\\\\\n",
       "\\hline\n",
       "\t chr1 &  10002642 &  10003186 & CASZ1    & K562 &  0.098595470 & 8.304828e-02 & 0.1582149 & 0.5659185\\\\\n",
       "\t chr1 &  10002642 &  10003186 & CLSTN1   & K562 &  0.007114934 & 9.277761e-01 & 0.1582149 & 0.8841097\\\\\n",
       "\t chr1 &  10002642 &  10003186 & CTNNBIP1 & K562 & -0.009962871 & 8.969259e-01 & 0.1582149 & 0.8355503\\\\\n",
       "\t chr1 &  10002642 &  10003186 & DFFA     & K562 & -0.079590853 & 1.769468e-01 & 0.1582149 & 0.8873196\\\\\n",
       "\t chr1 &  10002642 &  10003186 & GPR157   & K562 &  0.024837436 & 7.245648e-01 & 0.1582149 & 0.5528735\\\\\n",
       "\t chr1 &  10002642 &  10003186 & H6PD     & K562 &  0.049376646 & 4.390902e-01 & 0.1582149 & 0.7783113\\\\\n",
       "\t chr1 &  10002642 &  10003186 & KIF1B    & K562 & -0.019834084 & 7.841260e-01 & 0.1582149 & 0.9124339\\\\\n",
       "\t chr1 &  10002642 &  10003186 & LZIC     & K562 &  0.060456484 & 3.273719e-01 & 0.1582149 & 0.8082019\\\\\n",
       "\t chr1 &  10002642 &  10003186 & MIR34AHG & K562 &  0.047441258 & 4.601204e-01 & 0.1582149 & 0.5465821\\\\\n",
       "\t chr1 &  10002642 &  10003186 & NMNAT1   & K562 &  0.106530967 & 5.791043e-02 & 0.1582149 & 0.8339068\\\\\n",
       "\t chr1 &  10002642 &  10003186 & PEX14    & K562 & -0.025835315 & 7.126640e-01 & 0.1582149 & 0.8443583\\\\\n",
       "\t chr1 &  10002642 &  10003186 & PGD      & K562 &  0.104613494 & 6.332970e-02 & 0.1582149 & 0.9470751\\\\\n",
       "\t chr1 &  10002642 &  10003186 & PIK3CD   & K562 &  0.015700404 & 8.323614e-01 & 0.1582149 & 0.7783370\\\\\n",
       "\t chr1 &  10002642 &  10003186 & SLC25A33 & K562 & -0.039616382 & 5.486954e-01 & 0.1582149 & 0.9595296\\\\\n",
       "\t chr1 &  10002642 &  10003186 & SLC2A5   & K562 & -0.097480151 & 8.717431e-02 & 0.1582149 & 0.5815058\\\\\n",
       "\t chr1 &  10002642 &  10003186 & SPSB1    & K562 & -0.045665716 & 4.797667e-01 & 0.1582149 & 0.5614504\\\\\n",
       "\t chr1 &  10002642 &  10003186 & TMEM201  & K562 & -0.015495590 & 8.347126e-01 & 0.1582149 & 0.7068461\\\\\n",
       "\t chr1 &  10002642 &  10003186 & UBE4B    & K562 &  0.067222054 & 2.676186e-01 & 0.1582149 & 0.9032921\\\\\n",
       "\t chr1 & 100028297 & 100029654 & AGL      & K562 &  0.136351293 & 1.160108e-02 & 0.5591234 & 0.8926609\\\\\n",
       "\t chr1 & 100028297 & 100029654 & CDC14A   & K562 &  0.082357752 & 1.599464e-01 & 0.5591234 & 0.9124852\\\\\n",
       "\t chr1 & 100028297 & 100029654 & DBT      & K562 &  0.069350719 & 2.503007e-01 & 0.5591234 & 0.8896821\\\\\n",
       "\t chr1 & 100028297 & 100029654 & DPH5     & K562 &  0.120126394 & 2.926880e-02 & 0.5591234 & 0.8850342\\\\\n",
       "\t chr1 & 100028297 & 100029654 & EXTL2    & K562 & -0.041478795 & 5.271628e-01 & 0.5591234 & 0.9083509\\\\\n",
       "\t chr1 & 100028297 & 100029654 & FRRS1    & K562 & -0.225906135 & 6.599557e-06 & 0.5591234 & 0.9892147\\\\\n",
       "\t chr1 & 100028297 & 100029654 & LRRC39   & K562 & -0.009863367 & 8.980098e-01 & 0.5591234 & 0.8489035\\\\\n",
       "\t chr1 & 100028297 & 100029654 & MFSD14A  & K562 &  0.049419993 & 4.386211e-01 & 0.5591234 & 0.3152380\\\\\n",
       "\t chr1 & 100028297 & 100029654 & PALMD    & K562 & -0.078387048 & 1.846986e-01 & 0.5591234 & 0.8415592\\\\\n",
       "\t chr1 & 100028297 & 100029654 & PLPPR4   & K562 &  0.070703249 & 2.396713e-01 & 0.5591234 & 0.4080941\\\\\n",
       "\t chr1 & 100028297 & 100029654 & RTCA     & K562 & -0.132677591 & 1.446026e-02 & 0.5591234 & 0.9274049\\\\\n",
       "\t chr1 & 100028297 & 100029654 & RTCA-AS1 & K562 &  0.193670958 & 1.578587e-04 & 0.5591234 & 0.8244826\\\\\n",
       "\t ⋮ & ⋮ & ⋮ & ⋮ & ⋮ & ⋮ & ⋮ & ⋮ & ⋮\\\\\n",
       "\t chrX & 9894528 & 9895196 & CLDN34    & K562 &         NaN &          NaN & 0.15595019 & 0.07169637\\\\\n",
       "\t chrX & 9894528 & 9895196 & FAM9B     & K562 &  0.02437874 & 7.300728e-01 & 0.15595019 & 0.69986133\\\\\n",
       "\t chrX & 9894528 & 9895196 & TBL1X     & K562 & -0.13774395 & 1.065451e-02 & 0.15595019 & 0.97591290\\\\\n",
       "\t chrX & 9894528 & 9895196 & WWC3      & K562 &  0.23076885 & 3.885042e-06 & 0.15595019 & 0.73499050\\\\\n",
       "\t chrX &  989766 &  990603 & AKAP17A   & K562 &  0.04386263 & 5.000044e-01 & 0.90466774 & 0.92293668\\\\\n",
       "\t chrX &  989766 &  990603 & ASMTL     & K562 & -0.13477714 & 1.275923e-02 & 0.90466774 & 0.74816394\\\\\n",
       "\t chrX &  989766 &  990603 & CSF2RA    & K562 & -0.16393286 & 1.802353e-03 & 0.90466774 & 0.53353706\\\\\n",
       "\t chrX &  989766 &  990603 & GTPBP6    & K562 &  0.11654660 & 3.531027e-02 & 0.90466774 & 0.73683940\\\\\n",
       "\t chrX &  989766 &  990603 & IL3RA     & K562 &  0.21228471 & 2.706101e-05 & 0.90466774 & 0.67387397\\\\\n",
       "\t chrX &  989766 &  990603 & LINC00106 & K562 & -0.10229683 & 7.042662e-02 & 0.90466774 & 0.68463356\\\\\n",
       "\t chrX &  989766 &  990603 & P2RY8     & K562 &  0.02029809 & 7.786702e-01 & 0.90466774 & 0.64647424\\\\\n",
       "\t chrX &  989766 &  990603 & PLCXD1    & K562 & -0.04929731 & 4.399405e-01 & 0.90466774 & 0.80036978\\\\\n",
       "\t chrX &  989766 &  990603 & PPP2R3B   & K562 &  0.09501732 & 9.685730e-02 & 0.90466774 & 0.76336603\\\\\n",
       "\t chrX &  989766 &  990603 & SHOX      & K562 &  0.00564795 & 9.432368e-01 & 0.90466774 & 0.54861075\\\\\n",
       "\t chrX &  989766 &  990603 & SLC25A6   & K562 & -0.14184364 & 8.249571e-03 & 0.90466774 & 0.93531406\\\\\n",
       "\t chrX & 9940388 & 9940708 & CLCN4     & K562 & -0.35006883 & 9.714038e-14 & 0.04084270 & 0.85840481\\\\\n",
       "\t chrX & 9940388 & 9940708 & CLDN34    & K562 &         NaN &          NaN & 0.04084270 & 0.07169637\\\\\n",
       "\t chrX & 9940388 & 9940708 & FAM9B     & K562 &  0.09640523 & 9.130728e-02 & 0.04084270 & 0.69986133\\\\\n",
       "\t chrX & 9940388 & 9940708 & TBL1X     & K562 &  0.38979790 & 3.294295e-17 & 0.04084270 & 0.97591290\\\\\n",
       "\t chrX & 9940388 & 9940708 & WWC3      & K562 & -0.23167595 & 3.514769e-06 & 0.04084270 & 0.73499050\\\\\n",
       "\t chrX & 9966874 & 9967060 & CLCN4     & K562 & -0.28169087 & 6.653402e-09 & 0.03111172 & 0.85840481\\\\\n",
       "\t chrX & 9966874 & 9967060 & CLDN34    & K562 &         NaN &          NaN & 0.03111172 & 0.07169637\\\\\n",
       "\t chrX & 9966874 & 9967060 & FAM9B     & K562 &  0.11389014 & 4.043865e-02 & 0.03111172 & 0.69986133\\\\\n",
       "\t chrX & 9966874 & 9967060 & TBL1X     & K562 &  0.36735657 & 3.479264e-15 & 0.03111172 & 0.97591290\\\\\n",
       "\t chrX & 9966874 & 9967060 & WWC3      & K562 & -0.22686012 & 5.953065e-06 & 0.03111172 & 0.73499050\\\\\n",
       "\t chrX & 9995829 & 9996183 & CLCN4     & K562 & -0.04432883 & 4.947370e-01 & 0.41956769 & 0.85840481\\\\\n",
       "\t chrX & 9995829 & 9996183 & CLDN34    & K562 &         NaN &          NaN & 0.41956769 & 0.07169637\\\\\n",
       "\t chrX & 9995829 & 9996183 & FAM9B     & K562 & -0.03723516 & 5.764885e-01 & 0.41956769 & 0.69986133\\\\\n",
       "\t chrX & 9995829 & 9996183 & TBL1X     & K562 &  0.02266027 & 7.506674e-01 & 0.41956769 & 0.97591290\\\\\n",
       "\t chrX & 9995829 & 9996183 & WWC3      & K562 & -0.07645146 & 1.976671e-01 & 0.41956769 & 0.73499050\\\\\n",
       "\\end{tabular}\n"
      ],
      "text/markdown": [
       "\n",
       "A data.frame: 2710836 × 9\n",
       "\n",
       "| chr &lt;fct&gt; | start &lt;int&gt; | end &lt;int&gt; | TargetGene &lt;chr&gt; | CellType &lt;chr&gt; | Correlation &lt;dbl&gt; | FDR &lt;dbl&gt; | VarQATAC &lt;dbl&gt; | VarQRNA &lt;dbl&gt; |\n",
       "|---|---|---|---|---|---|---|---|---|\n",
       "| chr1 |  10002642 |  10003186 | CASZ1    | K562 |  0.098595470 | 8.304828e-02 | 0.1582149 | 0.5659185 |\n",
       "| chr1 |  10002642 |  10003186 | CLSTN1   | K562 |  0.007114934 | 9.277761e-01 | 0.1582149 | 0.8841097 |\n",
       "| chr1 |  10002642 |  10003186 | CTNNBIP1 | K562 | -0.009962871 | 8.969259e-01 | 0.1582149 | 0.8355503 |\n",
       "| chr1 |  10002642 |  10003186 | DFFA     | K562 | -0.079590853 | 1.769468e-01 | 0.1582149 | 0.8873196 |\n",
       "| chr1 |  10002642 |  10003186 | GPR157   | K562 |  0.024837436 | 7.245648e-01 | 0.1582149 | 0.5528735 |\n",
       "| chr1 |  10002642 |  10003186 | H6PD     | K562 |  0.049376646 | 4.390902e-01 | 0.1582149 | 0.7783113 |\n",
       "| chr1 |  10002642 |  10003186 | KIF1B    | K562 | -0.019834084 | 7.841260e-01 | 0.1582149 | 0.9124339 |\n",
       "| chr1 |  10002642 |  10003186 | LZIC     | K562 |  0.060456484 | 3.273719e-01 | 0.1582149 | 0.8082019 |\n",
       "| chr1 |  10002642 |  10003186 | MIR34AHG | K562 |  0.047441258 | 4.601204e-01 | 0.1582149 | 0.5465821 |\n",
       "| chr1 |  10002642 |  10003186 | NMNAT1   | K562 |  0.106530967 | 5.791043e-02 | 0.1582149 | 0.8339068 |\n",
       "| chr1 |  10002642 |  10003186 | PEX14    | K562 | -0.025835315 | 7.126640e-01 | 0.1582149 | 0.8443583 |\n",
       "| chr1 |  10002642 |  10003186 | PGD      | K562 |  0.104613494 | 6.332970e-02 | 0.1582149 | 0.9470751 |\n",
       "| chr1 |  10002642 |  10003186 | PIK3CD   | K562 |  0.015700404 | 8.323614e-01 | 0.1582149 | 0.7783370 |\n",
       "| chr1 |  10002642 |  10003186 | SLC25A33 | K562 | -0.039616382 | 5.486954e-01 | 0.1582149 | 0.9595296 |\n",
       "| chr1 |  10002642 |  10003186 | SLC2A5   | K562 | -0.097480151 | 8.717431e-02 | 0.1582149 | 0.5815058 |\n",
       "| chr1 |  10002642 |  10003186 | SPSB1    | K562 | -0.045665716 | 4.797667e-01 | 0.1582149 | 0.5614504 |\n",
       "| chr1 |  10002642 |  10003186 | TMEM201  | K562 | -0.015495590 | 8.347126e-01 | 0.1582149 | 0.7068461 |\n",
       "| chr1 |  10002642 |  10003186 | UBE4B    | K562 |  0.067222054 | 2.676186e-01 | 0.1582149 | 0.9032921 |\n",
       "| chr1 | 100028297 | 100029654 | AGL      | K562 |  0.136351293 | 1.160108e-02 | 0.5591234 | 0.8926609 |\n",
       "| chr1 | 100028297 | 100029654 | CDC14A   | K562 |  0.082357752 | 1.599464e-01 | 0.5591234 | 0.9124852 |\n",
       "| chr1 | 100028297 | 100029654 | DBT      | K562 |  0.069350719 | 2.503007e-01 | 0.5591234 | 0.8896821 |\n",
       "| chr1 | 100028297 | 100029654 | DPH5     | K562 |  0.120126394 | 2.926880e-02 | 0.5591234 | 0.8850342 |\n",
       "| chr1 | 100028297 | 100029654 | EXTL2    | K562 | -0.041478795 | 5.271628e-01 | 0.5591234 | 0.9083509 |\n",
       "| chr1 | 100028297 | 100029654 | FRRS1    | K562 | -0.225906135 | 6.599557e-06 | 0.5591234 | 0.9892147 |\n",
       "| chr1 | 100028297 | 100029654 | LRRC39   | K562 | -0.009863367 | 8.980098e-01 | 0.5591234 | 0.8489035 |\n",
       "| chr1 | 100028297 | 100029654 | MFSD14A  | K562 |  0.049419993 | 4.386211e-01 | 0.5591234 | 0.3152380 |\n",
       "| chr1 | 100028297 | 100029654 | PALMD    | K562 | -0.078387048 | 1.846986e-01 | 0.5591234 | 0.8415592 |\n",
       "| chr1 | 100028297 | 100029654 | PLPPR4   | K562 |  0.070703249 | 2.396713e-01 | 0.5591234 | 0.4080941 |\n",
       "| chr1 | 100028297 | 100029654 | RTCA     | K562 | -0.132677591 | 1.446026e-02 | 0.5591234 | 0.9274049 |\n",
       "| chr1 | 100028297 | 100029654 | RTCA-AS1 | K562 |  0.193670958 | 1.578587e-04 | 0.5591234 | 0.8244826 |\n",
       "| ⋮ | ⋮ | ⋮ | ⋮ | ⋮ | ⋮ | ⋮ | ⋮ | ⋮ |\n",
       "| chrX | 9894528 | 9895196 | CLDN34    | K562 |         NaN |          NaN | 0.15595019 | 0.07169637 |\n",
       "| chrX | 9894528 | 9895196 | FAM9B     | K562 |  0.02437874 | 7.300728e-01 | 0.15595019 | 0.69986133 |\n",
       "| chrX | 9894528 | 9895196 | TBL1X     | K562 | -0.13774395 | 1.065451e-02 | 0.15595019 | 0.97591290 |\n",
       "| chrX | 9894528 | 9895196 | WWC3      | K562 |  0.23076885 | 3.885042e-06 | 0.15595019 | 0.73499050 |\n",
       "| chrX |  989766 |  990603 | AKAP17A   | K562 |  0.04386263 | 5.000044e-01 | 0.90466774 | 0.92293668 |\n",
       "| chrX |  989766 |  990603 | ASMTL     | K562 | -0.13477714 | 1.275923e-02 | 0.90466774 | 0.74816394 |\n",
       "| chrX |  989766 |  990603 | CSF2RA    | K562 | -0.16393286 | 1.802353e-03 | 0.90466774 | 0.53353706 |\n",
       "| chrX |  989766 |  990603 | GTPBP6    | K562 |  0.11654660 | 3.531027e-02 | 0.90466774 | 0.73683940 |\n",
       "| chrX |  989766 |  990603 | IL3RA     | K562 |  0.21228471 | 2.706101e-05 | 0.90466774 | 0.67387397 |\n",
       "| chrX |  989766 |  990603 | LINC00106 | K562 | -0.10229683 | 7.042662e-02 | 0.90466774 | 0.68463356 |\n",
       "| chrX |  989766 |  990603 | P2RY8     | K562 |  0.02029809 | 7.786702e-01 | 0.90466774 | 0.64647424 |\n",
       "| chrX |  989766 |  990603 | PLCXD1    | K562 | -0.04929731 | 4.399405e-01 | 0.90466774 | 0.80036978 |\n",
       "| chrX |  989766 |  990603 | PPP2R3B   | K562 |  0.09501732 | 9.685730e-02 | 0.90466774 | 0.76336603 |\n",
       "| chrX |  989766 |  990603 | SHOX      | K562 |  0.00564795 | 9.432368e-01 | 0.90466774 | 0.54861075 |\n",
       "| chrX |  989766 |  990603 | SLC25A6   | K562 | -0.14184364 | 8.249571e-03 | 0.90466774 | 0.93531406 |\n",
       "| chrX | 9940388 | 9940708 | CLCN4     | K562 | -0.35006883 | 9.714038e-14 | 0.04084270 | 0.85840481 |\n",
       "| chrX | 9940388 | 9940708 | CLDN34    | K562 |         NaN |          NaN | 0.04084270 | 0.07169637 |\n",
       "| chrX | 9940388 | 9940708 | FAM9B     | K562 |  0.09640523 | 9.130728e-02 | 0.04084270 | 0.69986133 |\n",
       "| chrX | 9940388 | 9940708 | TBL1X     | K562 |  0.38979790 | 3.294295e-17 | 0.04084270 | 0.97591290 |\n",
       "| chrX | 9940388 | 9940708 | WWC3      | K562 | -0.23167595 | 3.514769e-06 | 0.04084270 | 0.73499050 |\n",
       "| chrX | 9966874 | 9967060 | CLCN4     | K562 | -0.28169087 | 6.653402e-09 | 0.03111172 | 0.85840481 |\n",
       "| chrX | 9966874 | 9967060 | CLDN34    | K562 |         NaN |          NaN | 0.03111172 | 0.07169637 |\n",
       "| chrX | 9966874 | 9967060 | FAM9B     | K562 |  0.11389014 | 4.043865e-02 | 0.03111172 | 0.69986133 |\n",
       "| chrX | 9966874 | 9967060 | TBL1X     | K562 |  0.36735657 | 3.479264e-15 | 0.03111172 | 0.97591290 |\n",
       "| chrX | 9966874 | 9967060 | WWC3      | K562 | -0.22686012 | 5.953065e-06 | 0.03111172 | 0.73499050 |\n",
       "| chrX | 9995829 | 9996183 | CLCN4     | K562 | -0.04432883 | 4.947370e-01 | 0.41956769 | 0.85840481 |\n",
       "| chrX | 9995829 | 9996183 | CLDN34    | K562 |         NaN |          NaN | 0.41956769 | 0.07169637 |\n",
       "| chrX | 9995829 | 9996183 | FAM9B     | K562 | -0.03723516 | 5.764885e-01 | 0.41956769 | 0.69986133 |\n",
       "| chrX | 9995829 | 9996183 | TBL1X     | K562 |  0.02266027 | 7.506674e-01 | 0.41956769 | 0.97591290 |\n",
       "| chrX | 9995829 | 9996183 | WWC3      | K562 | -0.07645146 | 1.976671e-01 | 0.41956769 | 0.73499050 |\n",
       "\n"
      ],
      "text/plain": [
       "        chr  start     end       TargetGene CellType Correlation  FDR         \n",
       "1       chr1  10002642  10003186 CASZ1      K562      0.098595470 8.304828e-02\n",
       "2       chr1  10002642  10003186 CLSTN1     K562      0.007114934 9.277761e-01\n",
       "3       chr1  10002642  10003186 CTNNBIP1   K562     -0.009962871 8.969259e-01\n",
       "4       chr1  10002642  10003186 DFFA       K562     -0.079590853 1.769468e-01\n",
       "5       chr1  10002642  10003186 GPR157     K562      0.024837436 7.245648e-01\n",
       "6       chr1  10002642  10003186 H6PD       K562      0.049376646 4.390902e-01\n",
       "7       chr1  10002642  10003186 KIF1B      K562     -0.019834084 7.841260e-01\n",
       "8       chr1  10002642  10003186 LZIC       K562      0.060456484 3.273719e-01\n",
       "9       chr1  10002642  10003186 MIR34AHG   K562      0.047441258 4.601204e-01\n",
       "10      chr1  10002642  10003186 NMNAT1     K562      0.106530967 5.791043e-02\n",
       "11      chr1  10002642  10003186 PEX14      K562     -0.025835315 7.126640e-01\n",
       "12      chr1  10002642  10003186 PGD        K562      0.104613494 6.332970e-02\n",
       "13      chr1  10002642  10003186 PIK3CD     K562      0.015700404 8.323614e-01\n",
       "14      chr1  10002642  10003186 SLC25A33   K562     -0.039616382 5.486954e-01\n",
       "15      chr1  10002642  10003186 SLC2A5     K562     -0.097480151 8.717431e-02\n",
       "16      chr1  10002642  10003186 SPSB1      K562     -0.045665716 4.797667e-01\n",
       "17      chr1  10002642  10003186 TMEM201    K562     -0.015495590 8.347126e-01\n",
       "18      chr1  10002642  10003186 UBE4B      K562      0.067222054 2.676186e-01\n",
       "19      chr1 100028297 100029654 AGL        K562      0.136351293 1.160108e-02\n",
       "20      chr1 100028297 100029654 CDC14A     K562      0.082357752 1.599464e-01\n",
       "21      chr1 100028297 100029654 DBT        K562      0.069350719 2.503007e-01\n",
       "22      chr1 100028297 100029654 DPH5       K562      0.120126394 2.926880e-02\n",
       "23      chr1 100028297 100029654 EXTL2      K562     -0.041478795 5.271628e-01\n",
       "24      chr1 100028297 100029654 FRRS1      K562     -0.225906135 6.599557e-06\n",
       "25      chr1 100028297 100029654 LRRC39     K562     -0.009863367 8.980098e-01\n",
       "26      chr1 100028297 100029654 MFSD14A    K562      0.049419993 4.386211e-01\n",
       "27      chr1 100028297 100029654 PALMD      K562     -0.078387048 1.846986e-01\n",
       "28      chr1 100028297 100029654 PLPPR4     K562      0.070703249 2.396713e-01\n",
       "29      chr1 100028297 100029654 RTCA       K562     -0.132677591 1.446026e-02\n",
       "30      chr1 100028297 100029654 RTCA-AS1   K562      0.193670958 1.578587e-04\n",
       "⋮       ⋮    ⋮         ⋮         ⋮          ⋮        ⋮            ⋮           \n",
       "2710807 chrX 9894528   9895196   CLDN34     K562             NaN           NaN\n",
       "2710808 chrX 9894528   9895196   FAM9B      K562      0.02437874  7.300728e-01\n",
       "2710809 chrX 9894528   9895196   TBL1X      K562     -0.13774395  1.065451e-02\n",
       "2710810 chrX 9894528   9895196   WWC3       K562      0.23076885  3.885042e-06\n",
       "2710811 chrX  989766    990603   AKAP17A    K562      0.04386263  5.000044e-01\n",
       "2710812 chrX  989766    990603   ASMTL      K562     -0.13477714  1.275923e-02\n",
       "2710813 chrX  989766    990603   CSF2RA     K562     -0.16393286  1.802353e-03\n",
       "2710814 chrX  989766    990603   GTPBP6     K562      0.11654660  3.531027e-02\n",
       "2710815 chrX  989766    990603   IL3RA      K562      0.21228471  2.706101e-05\n",
       "2710816 chrX  989766    990603   LINC00106  K562     -0.10229683  7.042662e-02\n",
       "2710817 chrX  989766    990603   P2RY8      K562      0.02029809  7.786702e-01\n",
       "2710818 chrX  989766    990603   PLCXD1     K562     -0.04929731  4.399405e-01\n",
       "2710819 chrX  989766    990603   PPP2R3B    K562      0.09501732  9.685730e-02\n",
       "2710820 chrX  989766    990603   SHOX       K562      0.00564795  9.432368e-01\n",
       "2710821 chrX  989766    990603   SLC25A6    K562     -0.14184364  8.249571e-03\n",
       "2710822 chrX 9940388   9940708   CLCN4      K562     -0.35006883  9.714038e-14\n",
       "2710823 chrX 9940388   9940708   CLDN34     K562             NaN           NaN\n",
       "2710824 chrX 9940388   9940708   FAM9B      K562      0.09640523  9.130728e-02\n",
       "2710825 chrX 9940388   9940708   TBL1X      K562      0.38979790  3.294295e-17\n",
       "2710826 chrX 9940388   9940708   WWC3       K562     -0.23167595  3.514769e-06\n",
       "2710827 chrX 9966874   9967060   CLCN4      K562     -0.28169087  6.653402e-09\n",
       "2710828 chrX 9966874   9967060   CLDN34     K562             NaN           NaN\n",
       "2710829 chrX 9966874   9967060   FAM9B      K562      0.11389014  4.043865e-02\n",
       "2710830 chrX 9966874   9967060   TBL1X      K562      0.36735657  3.479264e-15\n",
       "2710831 chrX 9966874   9967060   WWC3       K562     -0.22686012  5.953065e-06\n",
       "2710832 chrX 9995829   9996183   CLCN4      K562     -0.04432883  4.947370e-01\n",
       "2710833 chrX 9995829   9996183   CLDN34     K562             NaN           NaN\n",
       "2710834 chrX 9995829   9996183   FAM9B      K562     -0.03723516  5.764885e-01\n",
       "2710835 chrX 9995829   9996183   TBL1X      K562      0.02266027  7.506674e-01\n",
       "2710836 chrX 9995829   9996183   WWC3       K562     -0.07645146  1.976671e-01\n",
       "        VarQATAC   VarQRNA   \n",
       "1       0.1582149  0.5659185 \n",
       "2       0.1582149  0.8841097 \n",
       "3       0.1582149  0.8355503 \n",
       "4       0.1582149  0.8873196 \n",
       "5       0.1582149  0.5528735 \n",
       "6       0.1582149  0.7783113 \n",
       "7       0.1582149  0.9124339 \n",
       "8       0.1582149  0.8082019 \n",
       "9       0.1582149  0.5465821 \n",
       "10      0.1582149  0.8339068 \n",
       "11      0.1582149  0.8443583 \n",
       "12      0.1582149  0.9470751 \n",
       "13      0.1582149  0.7783370 \n",
       "14      0.1582149  0.9595296 \n",
       "15      0.1582149  0.5815058 \n",
       "16      0.1582149  0.5614504 \n",
       "17      0.1582149  0.7068461 \n",
       "18      0.1582149  0.9032921 \n",
       "19      0.5591234  0.8926609 \n",
       "20      0.5591234  0.9124852 \n",
       "21      0.5591234  0.8896821 \n",
       "22      0.5591234  0.8850342 \n",
       "23      0.5591234  0.9083509 \n",
       "24      0.5591234  0.9892147 \n",
       "25      0.5591234  0.8489035 \n",
       "26      0.5591234  0.3152380 \n",
       "27      0.5591234  0.8415592 \n",
       "28      0.5591234  0.4080941 \n",
       "29      0.5591234  0.9274049 \n",
       "30      0.5591234  0.8244826 \n",
       "⋮       ⋮          ⋮         \n",
       "2710807 0.15595019 0.07169637\n",
       "2710808 0.15595019 0.69986133\n",
       "2710809 0.15595019 0.97591290\n",
       "2710810 0.15595019 0.73499050\n",
       "2710811 0.90466774 0.92293668\n",
       "2710812 0.90466774 0.74816394\n",
       "2710813 0.90466774 0.53353706\n",
       "2710814 0.90466774 0.73683940\n",
       "2710815 0.90466774 0.67387397\n",
       "2710816 0.90466774 0.68463356\n",
       "2710817 0.90466774 0.64647424\n",
       "2710818 0.90466774 0.80036978\n",
       "2710819 0.90466774 0.76336603\n",
       "2710820 0.90466774 0.54861075\n",
       "2710821 0.90466774 0.93531406\n",
       "2710822 0.04084270 0.85840481\n",
       "2710823 0.04084270 0.07169637\n",
       "2710824 0.04084270 0.69986133\n",
       "2710825 0.04084270 0.97591290\n",
       "2710826 0.04084270 0.73499050\n",
       "2710827 0.03111172 0.85840481\n",
       "2710828 0.03111172 0.07169637\n",
       "2710829 0.03111172 0.69986133\n",
       "2710830 0.03111172 0.97591290\n",
       "2710831 0.03111172 0.73499050\n",
       "2710832 0.41956769 0.85840481\n",
       "2710833 0.41956769 0.07169637\n",
       "2710834 0.41956769 0.69986133\n",
       "2710835 0.41956769 0.97591290\n",
       "2710836 0.41956769 0.73499050"
      ]
     },
     "metadata": {},
     "output_type": "display_data"
    }
   ],
   "source": [
    "saveRDS(obj.ArchR,\n",
    "        paste(dir.output,\"obj.ArchR.rds\",sep = \"/\"))\n",
    "saveRDS(pairs.E2G.res,\n",
    "        paste(dir.output,\"pairs.E2G.res.rds\",sep = \"/\"))\n",
    "df.output = as.data.frame(pairs.E2G.res,row.names = NULL)\n",
    "colnames(df.output)[1] = \"chr\"\n",
    "df.output[,\"CellType\"] = \"K562\"\n",
    "df.output = df.output[,c(\"chr\",\n",
    "                         \"start\",\n",
    "                         \"end\",\n",
    "                         \"TargetGene\",\n",
    "                         \"CellType\",\n",
    "                         \"Correlation\",\n",
    "                         \"FDR\",\n",
    "                         \"VarQATAC\",\n",
    "                         \"VarQRNA\")]\n",
    "data.table::fwrite(df.output,\n",
    "                   file = paste(dir.output,\"pairs.E2G.res.tsv.gz\",sep = \"/\"),\n",
    "                   row.names = F,\n",
    "                   quote = F,\n",
    "                   sep = \"\\t\")\n",
    "pairs.E2G.res\n",
    "df.output"
   ]
  },
  {
   "cell_type": "code",
   "execution_count": 32,
   "id": "4c909ed5-7321-4e69-8208-1544b371da6d",
   "metadata": {},
   "outputs": [
    {
     "data": {
      "text/plain": [
       "R version 4.3.3 (2024-02-29)\n",
       "Platform: x86_64-conda-linux-gnu (64-bit)\n",
       "Running under: Red Hat Enterprise Linux 8.9 (Ootpa)\n",
       "\n",
       "Matrix products: default\n",
       "BLAS/LAPACK: /maps/projects/ralab/people/lpm537/software/anaconda3/envs/Notebook_E2G_240505/lib/libopenblasp-r0.3.27.so;  LAPACK version 3.12.0\n",
       "\n",
       "Random number generation:\n",
       " RNG:     L'Ecuyer-CMRG \n",
       " Normal:  Inversion \n",
       " Sample:  Rejection \n",
       " \n",
       "locale:\n",
       " [1] LC_CTYPE=en_US.UTF-8       LC_NUMERIC=C              \n",
       " [3] LC_TIME=en_US.UTF-8        LC_COLLATE=en_US.UTF-8    \n",
       " [5] LC_MONETARY=en_US.UTF-8    LC_MESSAGES=en_US.UTF-8   \n",
       " [7] LC_PAPER=en_US.UTF-8       LC_NAME=C                 \n",
       " [9] LC_ADDRESS=C               LC_TELEPHONE=C            \n",
       "[11] LC_MEASUREMENT=en_US.UTF-8 LC_IDENTIFICATION=C       \n",
       "\n",
       "time zone: Europe/Copenhagen\n",
       "tzcode source: system (glibc)\n",
       "\n",
       "attached base packages:\n",
       " [1] parallel  stats4    grid      stats     graphics  grDevices utils    \n",
       " [8] datasets  methods   base     \n",
       "\n",
       "other attached packages:\n",
       " [1] nabor_0.5.0                       uwot_0.1.16                      \n",
       " [3] BSgenome.Hsapiens.UCSC.hg38_1.4.5 BSgenome_1.68.0                  \n",
       " [5] rtracklayer_1.60.1                Biostrings_2.70.1                \n",
       " [7] XVector_0.42.0                    genomation_1.34.0                \n",
       " [9] Signac_1.13.0                     Seurat_5.0.3                     \n",
       "[11] SeuratObject_5.0.1                sp_2.1-4                         \n",
       "[13] rhdf5_2.44.0                      SummarizedExperiment_1.30.2      \n",
       "[15] Biobase_2.60.0                    MatrixGenerics_1.12.3            \n",
       "[17] Rcpp_1.0.12                       Matrix_1.6-5                     \n",
       "[19] GenomicRanges_1.54.1              GenomeInfoDb_1.38.1              \n",
       "[21] IRanges_2.36.0                    S4Vectors_0.40.2                 \n",
       "[23] BiocGenerics_0.48.1               matrixStats_1.3.0                \n",
       "[25] data.table_1.15.2                 stringr_1.5.1                    \n",
       "[27] plyr_1.8.9                        magrittr_2.0.3                   \n",
       "[29] ggplot2_3.5.1                     gtable_0.3.5                     \n",
       "[31] gtools_3.9.5                      gridExtra_2.3                    \n",
       "[33] ArchR_1.0.2                      \n",
       "\n",
       "loaded via a namespace (and not attached):\n",
       "  [1] RcppAnnoy_0.0.22         splines_4.3.3            later_1.3.2             \n",
       "  [4] pbdZMQ_0.3-11            BiocIO_1.10.0            bitops_1.0-7            \n",
       "  [7] tibble_3.2.1             polyclip_1.10-6          XML_3.99-0.16.1         \n",
       " [10] fastDummies_1.7.3        lifecycle_1.0.4          vroom_1.6.5             \n",
       " [13] globals_0.16.3           lattice_0.22-6           MASS_7.3-60             \n",
       " [16] plotly_4.10.4            plotrix_3.8-4            yaml_2.3.8              \n",
       " [19] httpuv_1.6.15            sctransform_0.4.1        spam_2.10-0             \n",
       " [22] spatstat.sparse_3.0-3    reticulate_1.36.1        cowplot_1.1.3           \n",
       " [25] pbapply_1.7-2            RColorBrewer_1.1-3       abind_1.4-5             \n",
       " [28] zlibbioc_1.48.0          Rtsne_0.17               purrr_1.0.2             \n",
       " [31] RCurl_1.98-1.14          GenomeInfoDbData_1.2.11  ggrepel_0.9.5           \n",
       " [34] irlba_2.3.5.1            listenv_0.9.1            spatstat.utils_3.0-4    \n",
       " [37] goftest_1.2-3            RSpectra_0.16-1          spatstat.random_3.2-3   \n",
       " [40] fitdistrplus_1.1-11      parallelly_1.37.1        leiden_0.4.3.1          \n",
       " [43] codetools_0.2-20         DelayedArray_0.26.7      RcppRoll_0.3.0          \n",
       " [46] tidyselect_1.2.1         farver_2.1.1             base64enc_0.1-3         \n",
       " [49] spatstat.explore_3.2-6   GenomicAlignments_1.36.0 jsonlite_1.8.8          \n",
       " [52] progressr_0.14.0         ggridges_0.5.6           survival_3.6-4          \n",
       " [55] tools_4.3.3              ica_1.0-3                glue_1.7.0              \n",
       " [58] IRdisplay_1.1            dplyr_1.1.4              withr_3.0.0             \n",
       " [61] fastmap_1.1.1            rhdf5filters_1.12.1      fansi_1.0.6             \n",
       " [64] digest_0.6.35            R6_2.5.1                 mime_0.12               \n",
       " [67] seqPattern_1.34.0        colorspace_2.1-0         Cairo_1.6-2             \n",
       " [70] scattermore_1.2          tensor_1.5               spatstat.data_3.0-4     \n",
       " [73] utf8_1.2.4               tidyr_1.3.1              generics_0.1.3          \n",
       " [76] httr_1.4.7               htmlwidgets_1.6.4        S4Arrays_1.2.1          \n",
       " [79] pkgconfig_2.0.3          impute_1.76.0            lmtest_0.9-40           \n",
       " [82] htmltools_0.5.8.1        dotCall64_1.1-1          scales_1.3.0            \n",
       " [85] png_0.1-8                tzdb_0.4.0               reshape2_1.4.4          \n",
       " [88] rjson_0.2.21             uuid_1.2-0               nlme_3.1-164            \n",
       " [91] repr_1.1.7               zoo_1.8-12               KernSmooth_2.23-22      \n",
       " [94] miniUI_0.1.1.1           restfulr_0.0.15          pillar_1.9.0            \n",
       " [97] vctrs_0.6.5              RANN_2.6.1               promises_1.3.0          \n",
       "[100] xtable_1.8-4             cluster_2.1.6            evaluate_0.23           \n",
       "[103] readr_2.1.5              cli_3.6.2                compiler_4.3.3          \n",
       "[106] Rsamtools_2.18.0         rlang_1.1.3              crayon_1.5.2            \n",
       "[109] future.apply_1.11.2      labeling_0.4.3           stringi_1.8.3           \n",
       "[112] gridBase_0.4-7           viridisLite_0.4.2        deldir_2.0-4            \n",
       "[115] BiocParallel_1.36.0      munsell_0.5.1            lazyeval_0.2.2          \n",
       "[118] spatstat.geom_3.2-9      IRkernel_1.3.2           RcppHNSW_0.6.0          \n",
       "[121] hms_1.1.3                patchwork_1.2.0          bit64_4.0.5             \n",
       "[124] future_1.33.2            Rhdf5lib_1.22.1          shiny_1.8.1.1           \n",
       "[127] ROCR_1.0-11              igraph_2.0.3             fastmatch_1.1-4         \n",
       "[130] bit_4.0.5               "
      ]
     },
     "metadata": {},
     "output_type": "display_data"
    }
   ],
   "source": [
    "sessionInfo()"
   ]
  },
  {
   "cell_type": "code",
   "execution_count": null,
   "id": "d7690cee-49f1-4886-ae66-0b63a43ce524",
   "metadata": {},
   "outputs": [],
   "source": []
  }
 ],
 "metadata": {
  "kernelspec": {
   "display_name": "R",
   "language": "R",
   "name": "ir"
  },
  "language_info": {
   "codemirror_mode": "r",
   "file_extension": ".r",
   "mimetype": "text/x-r-source",
   "name": "R",
   "pygments_lexer": "r",
   "version": "4.3.3"
  }
 },
 "nbformat": 4,
 "nbformat_minor": 5
}
