{
 "cells": [
  {
   "cell_type": "code",
   "execution_count": 1,
   "id": "3a1e63f9-7479-4a30-83ea-381f1ecdbe50",
   "metadata": {},
   "outputs": [
    {
     "name": "stderr",
     "output_type": "stream",
     "text": [
      "Warning message:\n",
      "“replacing previous import ‘Hmisc::capitalize’ by ‘R.utils::capitalize’ when loading ‘SCENT’”\n",
      "Loading required package: grid\n",
      "\n",
      "Warning message:\n",
      "“replacing previous import ‘Biostrings::pattern’ by ‘grid::pattern’ when loading ‘genomation’”\n",
      "Loading required package: stats4\n",
      "\n",
      "Loading required package: BiocGenerics\n",
      "\n",
      "\n",
      "Attaching package: ‘BiocGenerics’\n",
      "\n",
      "\n",
      "The following objects are masked from ‘package:stats’:\n",
      "\n",
      "    IQR, mad, sd, var, xtabs\n",
      "\n",
      "\n",
      "The following objects are masked from ‘package:base’:\n",
      "\n",
      "    anyDuplicated, aperm, append, as.data.frame, basename, cbind,\n",
      "    colnames, dirname, do.call, duplicated, eval, evalq, Filter, Find,\n",
      "    get, grep, grepl, intersect, is.unsorted, lapply, Map, mapply,\n",
      "    match, mget, order, paste, pmax, pmax.int, pmin, pmin.int,\n",
      "    Position, rank, rbind, Reduce, rownames, sapply, setdiff, sort,\n",
      "    table, tapply, union, unique, unsplit, which.max, which.min\n",
      "\n",
      "\n",
      "Loading required package: S4Vectors\n",
      "\n",
      "\n",
      "Attaching package: ‘S4Vectors’\n",
      "\n",
      "\n",
      "The following object is masked from ‘package:utils’:\n",
      "\n",
      "    findMatches\n",
      "\n",
      "\n",
      "The following objects are masked from ‘package:base’:\n",
      "\n",
      "    expand.grid, I, unname\n",
      "\n",
      "\n",
      "Loading required package: IRanges\n",
      "\n",
      "Loading required package: GenomeInfoDb\n",
      "\n",
      "\n",
      "Attaching package: ‘Matrix’\n",
      "\n",
      "\n",
      "The following object is masked from ‘package:S4Vectors’:\n",
      "\n",
      "    expand\n",
      "\n",
      "\n"
     ]
    }
   ],
   "source": [
    "library(SCENT)\n",
    "library(Signac)\n",
    "library(genomation)\n",
    "library(GenomicRanges)\n",
    "library(Matrix)\n",
    "library(parallel)"
   ]
  },
  {
   "cell_type": "markdown",
   "id": "d53f3774-52c3-4baa-b707-5b3a0450b130",
   "metadata": {},
   "source": [
    "Specify file path"
   ]
  },
  {
   "cell_type": "code",
   "execution_count": 2,
   "id": "0785f3fc-9913-428a-bea7-5710120c9328",
   "metadata": {},
   "outputs": [],
   "source": [
    "path.pairs.E2G = \"/maps/projects/ralab_nnfc-AUDIT/people/lpm537/software/scE2G_pipeline/240617/sc-E2G/test/results/PBMC9/24_CD8.CM.multiome_7features/Kendall/Pairs.tsv.gz\"\n",
    "path.pairs.ABC = \"/maps/projects/ralab_nnfc-AUDIT/people/lpm537/software/scE2G_pipeline/240617/sc-E2G/test/results/PBMC9/24_CD8.CM.multiome_7features/Predictions/EnhancerPredictionsAllPutative.tsv.gz\"\n",
    "path.matrix.atac_count = \"/maps/projects/ralab_nnfc-AUDIT/people/lpm537/software/scE2G_pipeline/240617/sc-E2G/test/results/PBMC9/24_CD8.CM.multiome_7features/Kendall/atac_matrix.rds\"\n",
    "path.matrix.rna_count = \"/maps/projects/ralab_nnfc-AUDIT/people/lpm537/project/E2G/analysis/E2G_240503/data/PBMC/1.prepare_data/3.annotate_cell_type/RNA_count_matrix/24_CD8.CM.rna_count_matrix.csv.gz\"\n",
    "dir.output = \"/maps/projects/ralab_nnfc-AUDIT/people/lpm537/project/E2G/analysis/E2G_240503/data/PBMC/2.Genome_wide_prediction/SCENT/PBMC9.24_CD8.CM.100.240702/\""
   ]
  },
  {
   "cell_type": "code",
   "execution_count": 3,
   "id": "500ba317-011f-4cab-834c-de750cb7f503",
   "metadata": {},
   "outputs": [],
   "source": [
    "n.cores = 16"
   ]
  },
  {
   "cell_type": "markdown",
   "id": "9c9cdab1-486b-4539-99d3-3cd5d1d99795",
   "metadata": {},
   "source": [
    "Import candidate E-G pairs"
   ]
  },
  {
   "cell_type": "code",
   "execution_count": 4,
   "id": "f5852d15-7e3f-412b-b137-7d29a6fb47b1",
   "metadata": {},
   "outputs": [],
   "source": [
    "pairs.E2G = readGeneric(path.pairs.E2G,\n",
    "                        header = T,\n",
    "                        keep.all.metadata = T)"
   ]
  },
  {
   "cell_type": "markdown",
   "id": "e79f3220-9bc6-4496-9e9a-a2dcc6e7f751",
   "metadata": {},
   "source": [
    "Import ABC results"
   ]
  },
  {
   "cell_type": "code",
   "execution_count": 5,
   "id": "6bc3f6ba-5e9a-488c-ba26-e0c84007ef4d",
   "metadata": {},
   "outputs": [],
   "source": [
    "pairs.ABC = readGeneric(path.pairs.ABC,\n",
    "                        header = T,\n",
    "                        keep.all.metadata = T)"
   ]
  },
  {
   "cell_type": "markdown",
   "id": "7d660489-4656-4b85-a3df-381acf0aa4a1",
   "metadata": {},
   "source": [
    "Filter ABC results which distance < 1M"
   ]
  },
  {
   "cell_type": "code",
   "execution_count": 6,
   "id": "31b4d7f1-0feb-428b-934a-9c32cb2a4f68",
   "metadata": {},
   "outputs": [],
   "source": [
    "pairs.ABC.1M = pairs.ABC[pairs.ABC$distance < 10^6]"
   ]
  },
  {
   "cell_type": "markdown",
   "id": "639699dd-5bf9-4b19-9178-82dbbf2c62d0",
   "metadata": {},
   "source": [
    "Filter E-G pairs overlaping with pairs.ABC.1M"
   ]
  },
  {
   "cell_type": "code",
   "execution_count": 7,
   "id": "d7db8c1b-5245-49e1-862e-979d9f1de142",
   "metadata": {},
   "outputs": [
    {
     "data": {
      "text/plain": [
       "GRanges object with 2785962 ranges and 3 metadata columns:\n",
       "            seqnames              ranges strand |  TargetGene\n",
       "               <Rle>           <IRanges>  <Rle> | <character>\n",
       "        [1]     chr1 100023650-100023819      * |         AGL\n",
       "        [2]     chr1 100023650-100023819      * |      CDC14A\n",
       "        [3]     chr1 100023650-100023819      * |         DBT\n",
       "        [4]     chr1 100023650-100023819      * |       EXTL2\n",
       "        [5]     chr1 100023650-100023819      * |       GPR88\n",
       "        ...      ...                 ...    ... .         ...\n",
       "  [2785958]     chrX     9995710-9996296      * |       TBL1X\n",
       "  [2785959]     chrX     9995710-9996296      * |        WWC3\n",
       "  [2785960]     chrX     9997548-9997887      * |       CLCN4\n",
       "  [2785961]     chrX     9997548-9997887      * |       TBL1X\n",
       "  [2785962]     chrX     9997548-9997887      * |        WWC3\n",
       "                          PeakName               PairName\n",
       "                       <character>            <character>\n",
       "        [1] chr1-100023650-10002.. chr1-100023650-10002..\n",
       "        [2] chr1-100023650-10002.. chr1-100023650-10002..\n",
       "        [3] chr1-100023650-10002.. chr1-100023650-10002..\n",
       "        [4] chr1-100023650-10002.. chr1-100023650-10002..\n",
       "        [5] chr1-100023650-10002.. chr1-100023650-10002..\n",
       "        ...                    ...                    ...\n",
       "  [2785958]   chrX-9995710-9996296 chrX-9995710-9996296..\n",
       "  [2785959]   chrX-9995710-9996296 chrX-9995710-9996296..\n",
       "  [2785960]   chrX-9997548-9997887 chrX-9997548-9997887..\n",
       "  [2785961]   chrX-9997548-9997887 chrX-9997548-9997887..\n",
       "  [2785962]   chrX-9997548-9997887 chrX-9997548-9997887..\n",
       "  -------\n",
       "  seqinfo: 23 sequences from an unspecified genome; no seqlengths"
      ]
     },
     "metadata": {},
     "output_type": "display_data"
    }
   ],
   "source": [
    "df.pairs.E2G.chr_rename = as.data.frame(pairs.E2G)[,1:3]\n",
    "df.pairs.E2G.chr_rename[,\"seqnames\"] = paste(seqnames(pairs.E2G),\n",
    "                                             mcols(pairs.E2G)[,\"TargetGene\"],\n",
    "                                             sep = \"_\")\n",
    "pairs.E2G.chr_rename = GRanges(df.pairs.E2G.chr_rename)\n",
    "rm(df.pairs.E2G.chr_rename)\n",
    "\n",
    "df.pairs.ABC.1M.chr_rename = as.data.frame(pairs.ABC.1M)[,1:3]\n",
    "df.pairs.ABC.1M.chr_rename[,\"seqnames\"] = paste(seqnames(pairs.ABC.1M),\n",
    "                                                mcols(pairs.ABC.1M)[,\"TargetGene\"],\n",
    "                                                sep = \"_\")\n",
    "pairs.ABC.1M.chr_rename = GRanges(df.pairs.ABC.1M.chr_rename)\n",
    "rm(df.pairs.ABC.1M.chr_rename)\n",
    "\n",
    "pairs.E2G.filter = pairs.E2G[countOverlaps(pairs.E2G.chr_rename,\n",
    "                                           pairs.ABC.1M.chr_rename) > 0]\n",
    "rm(pairs.E2G.chr_rename)\n",
    "rm(pairs.ABC.1M.chr_rename)\n",
    "pairs.E2G.filter"
   ]
  },
  {
   "cell_type": "markdown",
   "id": "bcdfac67-ce32-4d9a-8f4d-65dab644ec63",
   "metadata": {},
   "source": [
    "Import ATAC matrix"
   ]
  },
  {
   "cell_type": "code",
   "execution_count": 8,
   "id": "bd59feb4-3e33-4ebe-a107-f3b6d347a68e",
   "metadata": {},
   "outputs": [],
   "source": [
    "matrix.atac = readRDS(path.matrix.atac_count)\n",
    "matrix.atac = BinarizeCounts(matrix.atac)"
   ]
  },
  {
   "cell_type": "markdown",
   "id": "a0c5cb96-2fc4-42c4-a421-fe9a5ca537da",
   "metadata": {},
   "source": [
    "Import RNA matrix"
   ]
  },
  {
   "cell_type": "code",
   "execution_count": 9,
   "id": "96e10e90-9400-4cfe-bc7b-46a7eaee1fcd",
   "metadata": {},
   "outputs": [],
   "source": [
    "matrix.rna = read.csv(path.matrix.rna_count,\n",
    "                      row.names = 1,\n",
    "                      check.names = F)\n",
    "matrix.rna = Matrix(as.matrix(matrix.rna), sparse = TRUE)\n",
    "matrix.rna = matrix.rna[,colnames(matrix.atac)]\n",
    "matrix.rna = matrix.rna[rowSums(matrix.rna) > 0,]"
   ]
  },
  {
   "cell_type": "code",
   "execution_count": 10,
   "id": "ad0f51bc-6e09-4b83-be71-560130dd0fa6",
   "metadata": {},
   "outputs": [],
   "source": [
    "pairs.E2G.filter2 = pairs.E2G.filter[pairs.E2G.filter$TargetGene %in% rownames(matrix.rna) &\n",
    "                                     pairs.E2G.filter$PeakName %in% rownames(matrix.atac)]"
   ]
  },
  {
   "cell_type": "markdown",
   "id": "b16f7d5b-eabd-4e93-b8cd-f19a54df21f2",
   "metadata": {},
   "source": [
    "Prepare SCENT meta data"
   ]
  },
  {
   "cell_type": "code",
   "execution_count": 11,
   "id": "827059dd-6885-441e-973e-d7c49e5fd534",
   "metadata": {},
   "outputs": [
    {
     "data": {
      "text/html": [
       "<table class=\"dataframe\">\n",
       "<caption>A data.frame: 2129 × 6</caption>\n",
       "<thead>\n",
       "\t<tr><th></th><th scope=col>cell</th><th scope=col>nUMI</th><th scope=col>nMito</th><th scope=col>celltype</th><th scope=col>log.nUMI</th><th scope=col>percent.mito</th></tr>\n",
       "\t<tr><th></th><th scope=col>&lt;chr&gt;</th><th scope=col>&lt;dbl&gt;</th><th scope=col>&lt;dbl&gt;</th><th scope=col>&lt;chr&gt;</th><th scope=col>&lt;dbl&gt;</th><th scope=col>&lt;dbl&gt;</th></tr>\n",
       "</thead>\n",
       "<tbody>\n",
       "\t<tr><th scope=row>Multiome10x_05_AAACATGCATGCATAT-1</th><td>Multiome10x_05_AAACATGCATGCATAT-1</td><td>1331</td><td>171</td><td>K562</td><td>7.193686</td><td>0.12847483</td></tr>\n",
       "\t<tr><th scope=row>Multiome10x_05_AAACCGAAGCTGGCTA-1</th><td>Multiome10x_05_AAACCGAAGCTGGCTA-1</td><td>1802</td><td>196</td><td>K562</td><td>7.496652</td><td>0.10876804</td></tr>\n",
       "\t<tr><th scope=row>Multiome10x_05_AAACCGCGTTGCGCGA-1</th><td>Multiome10x_05_AAACCGCGTTGCGCGA-1</td><td>2296</td><td>305</td><td>K562</td><td>7.738924</td><td>0.13283972</td></tr>\n",
       "\t<tr><th scope=row>Multiome10x_05_AAACGGATCTAATTGG-1</th><td>Multiome10x_05_AAACGGATCTAATTGG-1</td><td>2007</td><td>186</td><td>K562</td><td>7.604396</td><td>0.09267564</td></tr>\n",
       "\t<tr><th scope=row>Multiome10x_05_AAAGCAAGTACCGTAA-1</th><td>Multiome10x_05_AAAGCAAGTACCGTAA-1</td><td>1207</td><td>230</td><td>K562</td><td>7.095893</td><td>0.19055510</td></tr>\n",
       "\t<tr><th scope=row>Multiome10x_05_AAAGCAAGTGAGGTAG-1</th><td>Multiome10x_05_AAAGCAAGTGAGGTAG-1</td><td>6917</td><td>523</td><td>K562</td><td>8.841737</td><td>0.07561081</td></tr>\n",
       "\t<tr><th scope=row>Multiome10x_05_AAAGCCCGTTTCAGGA-1</th><td>Multiome10x_05_AAAGCCCGTTTCAGGA-1</td><td>1852</td><td>423</td><td>K562</td><td>7.524021</td><td>0.22840173</td></tr>\n",
       "\t<tr><th scope=row>Multiome10x_05_AAAGGAGCATGAGCAG-1</th><td>Multiome10x_05_AAAGGAGCATGAGCAG-1</td><td>1871</td><td>252</td><td>K562</td><td>7.534228</td><td>0.13468733</td></tr>\n",
       "\t<tr><th scope=row>Multiome10x_05_AAAGGTTAGGACAATG-1</th><td>Multiome10x_05_AAAGGTTAGGACAATG-1</td><td>1409</td><td>117</td><td>K562</td><td>7.250636</td><td>0.08303762</td></tr>\n",
       "\t<tr><th scope=row>Multiome10x_05_AAATCCGGTACAAAGA-1</th><td>Multiome10x_05_AAATCCGGTACAAAGA-1</td><td>3851</td><td>292</td><td>K562</td><td>8.256088</td><td>0.07582446</td></tr>\n",
       "\t<tr><th scope=row>Multiome10x_05_AAATCCGGTCCAAATG-1</th><td>Multiome10x_05_AAATCCGGTCCAAATG-1</td><td>2729</td><td>194</td><td>K562</td><td>7.911691</td><td>0.07108831</td></tr>\n",
       "\t<tr><th scope=row>Multiome10x_05_AAATCCGGTGGGTACT-1</th><td>Multiome10x_05_AAATCCGGTGGGTACT-1</td><td>2210</td><td>178</td><td>K562</td><td>7.700748</td><td>0.08054299</td></tr>\n",
       "\t<tr><th scope=row>Multiome10x_05_AAATGGCCAGTTAGCC-1</th><td>Multiome10x_05_AAATGGCCAGTTAGCC-1</td><td>2715</td><td>260</td><td>K562</td><td>7.906547</td><td>0.09576427</td></tr>\n",
       "\t<tr><th scope=row>Multiome10x_05_AACAAAGGTAACCTAG-1</th><td>Multiome10x_05_AACAAAGGTAACCTAG-1</td><td>1984</td><td>125</td><td>K562</td><td>7.592870</td><td>0.06300403</td></tr>\n",
       "\t<tr><th scope=row>Multiome10x_05_AACAAGCCAACTGGGA-1</th><td>Multiome10x_05_AACAAGCCAACTGGGA-1</td><td>1078</td><td> 95</td><td>K562</td><td>6.982863</td><td>0.08812616</td></tr>\n",
       "\t<tr><th scope=row>Multiome10x_05_AACAGATAGATGCCTG-1</th><td>Multiome10x_05_AACAGATAGATGCCTG-1</td><td>2519</td><td>189</td><td>K562</td><td>7.831617</td><td>0.07502977</td></tr>\n",
       "\t<tr><th scope=row>Multiome10x_05_AACAGATAGTAACGAG-1</th><td>Multiome10x_05_AACAGATAGTAACGAG-1</td><td>2428</td><td>210</td><td>K562</td><td>7.794823</td><td>0.08649094</td></tr>\n",
       "\t<tr><th scope=row>Multiome10x_05_AACATAGCATAATGAG-1</th><td>Multiome10x_05_AACATAGCATAATGAG-1</td><td>2831</td><td>335</td><td>K562</td><td>7.948385</td><td>0.11833274</td></tr>\n",
       "\t<tr><th scope=row>Multiome10x_05_AACATCATCATGACCG-1</th><td>Multiome10x_05_AACATCATCATGACCG-1</td><td>2018</td><td>146</td><td>K562</td><td>7.609862</td><td>0.07234886</td></tr>\n",
       "\t<tr><th scope=row>Multiome10x_05_AACATCATCCGGGACT-1</th><td>Multiome10x_05_AACATCATCCGGGACT-1</td><td>2947</td><td>262</td><td>K562</td><td>7.988543</td><td>0.08890397</td></tr>\n",
       "\t<tr><th scope=row>Multiome10x_05_AACATTGTCCTCACAC-1</th><td>Multiome10x_05_AACATTGTCCTCACAC-1</td><td>1981</td><td>201</td><td>K562</td><td>7.591357</td><td>0.10146391</td></tr>\n",
       "\t<tr><th scope=row>Multiome10x_05_AACCCGCAGAAGCTAG-1</th><td>Multiome10x_05_AACCCGCAGAAGCTAG-1</td><td>2465</td><td>203</td><td>K562</td><td>7.809947</td><td>0.08235294</td></tr>\n",
       "\t<tr><th scope=row>Multiome10x_05_AACCGGCTCAATGACC-1</th><td>Multiome10x_05_AACCGGCTCAATGACC-1</td><td>2497</td><td>284</td><td>K562</td><td>7.822845</td><td>0.11373648</td></tr>\n",
       "\t<tr><th scope=row>Multiome10x_05_AACCTCCTCCTGGTCT-1</th><td>Multiome10x_05_AACCTCCTCCTGGTCT-1</td><td>2185</td><td>212</td><td>K562</td><td>7.689371</td><td>0.09702517</td></tr>\n",
       "\t<tr><th scope=row>Multiome10x_05_AACCTTAAGCACGTTG-1</th><td>Multiome10x_05_AACCTTAAGCACGTTG-1</td><td>2044</td><td>195</td><td>K562</td><td>7.622664</td><td>0.09540117</td></tr>\n",
       "\t<tr><th scope=row>Multiome10x_05_AACCTTGCAGTTATCG-1</th><td>Multiome10x_05_AACCTTGCAGTTATCG-1</td><td>1556</td><td>105</td><td>K562</td><td>7.349874</td><td>0.06748072</td></tr>\n",
       "\t<tr><th scope=row>Multiome10x_05_AACGACAAGATGCCTG-1</th><td>Multiome10x_05_AACGACAAGATGCCTG-1</td><td>2505</td><td>229</td><td>K562</td><td>7.826044</td><td>0.09141717</td></tr>\n",
       "\t<tr><th scope=row>Multiome10x_05_AACGCCCAGGAGTAAT-1</th><td>Multiome10x_05_AACGCCCAGGAGTAAT-1</td><td>2106</td><td>224</td><td>K562</td><td>7.652546</td><td>0.10636277</td></tr>\n",
       "\t<tr><th scope=row>Multiome10x_05_AACGCTAGTTCCTGAT-1</th><td>Multiome10x_05_AACGCTAGTTCCTGAT-1</td><td>2354</td><td>252</td><td>K562</td><td>7.763871</td><td>0.10705183</td></tr>\n",
       "\t<tr><th scope=row>Multiome10x_05_AACGGTAAGGTGAAAT-1</th><td>Multiome10x_05_AACGGTAAGGTGAAAT-1</td><td>2048</td><td>175</td><td>K562</td><td>7.624619</td><td>0.08544922</td></tr>\n",
       "\t<tr><th scope=row>⋮</th><td>⋮</td><td>⋮</td><td>⋮</td><td>⋮</td><td>⋮</td><td>⋮</td></tr>\n",
       "\t<tr><th scope=row>Multiome10x_06_TTGTGTGCAATGAAGC-1</th><td>Multiome10x_06_TTGTGTGCAATGAAGC-1</td><td>1921</td><td>127</td><td>K562</td><td>7.560601</td><td>0.06611140</td></tr>\n",
       "\t<tr><th scope=row>Multiome10x_06_TTGTTCCCAAGGTATA-1</th><td>Multiome10x_06_TTGTTCCCAAGGTATA-1</td><td>3460</td><td>273</td><td>K562</td><td>8.149024</td><td>0.07890173</td></tr>\n",
       "\t<tr><th scope=row>Multiome10x_06_TTGTTGCGTAATGGAA-1</th><td>Multiome10x_06_TTGTTGCGTAATGGAA-1</td><td>2259</td><td>140</td><td>K562</td><td>7.722678</td><td>0.06197432</td></tr>\n",
       "\t<tr><th scope=row>Multiome10x_06_TTGTTGCGTTGAGCCG-1</th><td>Multiome10x_06_TTGTTGCGTTGAGCCG-1</td><td>5453</td><td>471</td><td>K562</td><td>8.603921</td><td>0.08637447</td></tr>\n",
       "\t<tr><th scope=row>Multiome10x_06_TTGTTGTTCTAACTGA-1</th><td>Multiome10x_06_TTGTTGTTCTAACTGA-1</td><td>3139</td><td>237</td><td>K562</td><td>8.051660</td><td>0.07550175</td></tr>\n",
       "\t<tr><th scope=row>Multiome10x_06_TTTAAGCCAAGTGTTT-1</th><td>Multiome10x_06_TTTAAGCCAAGTGTTT-1</td><td>1246</td><td>131</td><td>K562</td><td>7.127694</td><td>0.10513644</td></tr>\n",
       "\t<tr><th scope=row>Multiome10x_06_TTTACGAAGAGAGGCT-1</th><td>Multiome10x_06_TTTACGAAGAGAGGCT-1</td><td>2027</td><td>198</td><td>K562</td><td>7.614312</td><td>0.09768130</td></tr>\n",
       "\t<tr><th scope=row>Multiome10x_06_TTTACGAAGGCTAAGA-1</th><td>Multiome10x_06_TTTACGAAGGCTAAGA-1</td><td>2681</td><td>185</td><td>K562</td><td>7.893945</td><td>0.06900410</td></tr>\n",
       "\t<tr><th scope=row>Multiome10x_06_TTTACGCGTCCGTGAG-1</th><td>Multiome10x_06_TTTACGCGTCCGTGAG-1</td><td>3239</td><td>191</td><td>K562</td><td>8.083020</td><td>0.05896882</td></tr>\n",
       "\t<tr><th scope=row>Multiome10x_06_TTTAGCAAGGGTTATC-1</th><td>Multiome10x_06_TTTAGCAAGGGTTATC-1</td><td>2099</td><td>219</td><td>K562</td><td>7.649216</td><td>0.10433540</td></tr>\n",
       "\t<tr><th scope=row>Multiome10x_06_TTTAGGATCCAGGTTG-1</th><td>Multiome10x_06_TTTAGGATCCAGGTTG-1</td><td>2486</td><td>236</td><td>K562</td><td>7.818430</td><td>0.09493162</td></tr>\n",
       "\t<tr><th scope=row>Multiome10x_06_TTTAGGATCTCGCCCA-1</th><td>Multiome10x_06_TTTAGGATCTCGCCCA-1</td><td>2012</td><td>235</td><td>K562</td><td>7.606885</td><td>0.11679920</td></tr>\n",
       "\t<tr><th scope=row>Multiome10x_06_TTTCACCCACAGAAAC-1</th><td>Multiome10x_06_TTTCACCCACAGAAAC-1</td><td>2058</td><td>239</td><td>K562</td><td>7.629490</td><td>0.11613217</td></tr>\n",
       "\t<tr><th scope=row>Multiome10x_06_TTTCACCCAGGTTAAA-1</th><td>Multiome10x_06_TTTCACCCAGGTTAAA-1</td><td>2062</td><td>178</td><td>K562</td><td>7.631432</td><td>0.08632396</td></tr>\n",
       "\t<tr><th scope=row>Multiome10x_06_TTTCCACCAATTGACT-1</th><td>Multiome10x_06_TTTCCACCAATTGACT-1</td><td>2507</td><td>223</td><td>K562</td><td>7.826842</td><td>0.08895094</td></tr>\n",
       "\t<tr><th scope=row>Multiome10x_06_TTTCCGGGTACGTTTC-1</th><td>Multiome10x_06_TTTCCGGGTACGTTTC-1</td><td>2278</td><td>169</td><td>K562</td><td>7.731053</td><td>0.07418788</td></tr>\n",
       "\t<tr><th scope=row>Multiome10x_06_TTTCTCACAAGCGATG-1</th><td>Multiome10x_06_TTTCTCACAAGCGATG-1</td><td>1853</td><td>173</td><td>K562</td><td>7.524561</td><td>0.09336212</td></tr>\n",
       "\t<tr><th scope=row>Multiome10x_06_TTTCTCACAAGCTTAT-1</th><td>Multiome10x_06_TTTCTCACAAGCTTAT-1</td><td>2472</td><td>313</td><td>K562</td><td>7.812783</td><td>0.12661812</td></tr>\n",
       "\t<tr><th scope=row>Multiome10x_06_TTTCTTGCAATAACCT-1</th><td>Multiome10x_06_TTTCTTGCAATAACCT-1</td><td>2904</td><td>399</td><td>K562</td><td>7.973844</td><td>0.13739669</td></tr>\n",
       "\t<tr><th scope=row>Multiome10x_06_TTTCTTGCAATTGACT-1</th><td>Multiome10x_06_TTTCTTGCAATTGACT-1</td><td>2905</td><td>156</td><td>K562</td><td>7.974189</td><td>0.05370052</td></tr>\n",
       "\t<tr><th scope=row>Multiome10x_06_TTTCTTGCAGGCCATT-1</th><td>Multiome10x_06_TTTCTTGCAGGCCATT-1</td><td>2778</td><td>339</td><td>K562</td><td>7.929487</td><td>0.12203024</td></tr>\n",
       "\t<tr><th scope=row>Multiome10x_06_TTTGAGTCACTGGCTG-1</th><td>Multiome10x_06_TTTGAGTCACTGGCTG-1</td><td>3161</td><td>228</td><td>K562</td><td>8.058644</td><td>0.07212907</td></tr>\n",
       "\t<tr><th scope=row>Multiome10x_06_TTTGCGACATTGCGGT-1</th><td>Multiome10x_06_TTTGCGACATTGCGGT-1</td><td>2676</td><td>169</td><td>K562</td><td>7.892078</td><td>0.06315396</td></tr>\n",
       "\t<tr><th scope=row>Multiome10x_06_TTTGGCTGTAGTTGGC-1</th><td>Multiome10x_06_TTTGGCTGTAGTTGGC-1</td><td>2535</td><td>174</td><td>K562</td><td>7.837949</td><td>0.06863905</td></tr>\n",
       "\t<tr><th scope=row>Multiome10x_06_TTTGGTAAGCCTGATG-1</th><td>Multiome10x_06_TTTGGTAAGCCTGATG-1</td><td>3241</td><td>346</td><td>K562</td><td>8.083637</td><td>0.10675717</td></tr>\n",
       "\t<tr><th scope=row>Multiome10x_06_TTTGTGAAGAGAGGCT-1</th><td>Multiome10x_06_TTTGTGAAGAGAGGCT-1</td><td>3709</td><td>628</td><td>K562</td><td>8.218518</td><td>0.16931788</td></tr>\n",
       "\t<tr><th scope=row>Multiome10x_06_TTTGTGAAGCATTTCT-1</th><td>Multiome10x_06_TTTGTGAAGCATTTCT-1</td><td>2936</td><td>241</td><td>K562</td><td>7.984803</td><td>0.08208447</td></tr>\n",
       "\t<tr><th scope=row>Multiome10x_06_TTTGTGAAGTGAACGA-1</th><td>Multiome10x_06_TTTGTGAAGTGAACGA-1</td><td>2254</td><td>124</td><td>K562</td><td>7.720462</td><td>0.05501331</td></tr>\n",
       "\t<tr><th scope=row>Multiome10x_06_TTTGTGGCAGTTTGTG-1</th><td>Multiome10x_06_TTTGTGGCAGTTTGTG-1</td><td>2818</td><td>300</td><td>K562</td><td>7.943783</td><td>0.10645848</td></tr>\n",
       "\t<tr><th scope=row>Multiome10x_06_TTTGTGGCATTGCGTA-1</th><td>Multiome10x_06_TTTGTGGCATTGCGTA-1</td><td>1743</td><td>101</td><td>K562</td><td>7.463363</td><td>0.05794607</td></tr>\n",
       "</tbody>\n",
       "</table>\n"
      ],
      "text/latex": [
       "A data.frame: 2129 × 6\n",
       "\\begin{tabular}{r|llllll}\n",
       "  & cell & nUMI & nMito & celltype & log.nUMI & percent.mito\\\\\n",
       "  & <chr> & <dbl> & <dbl> & <chr> & <dbl> & <dbl>\\\\\n",
       "\\hline\n",
       "\tMultiome10x\\_05\\_AAACATGCATGCATAT-1 & Multiome10x\\_05\\_AAACATGCATGCATAT-1 & 1331 & 171 & K562 & 7.193686 & 0.12847483\\\\\n",
       "\tMultiome10x\\_05\\_AAACCGAAGCTGGCTA-1 & Multiome10x\\_05\\_AAACCGAAGCTGGCTA-1 & 1802 & 196 & K562 & 7.496652 & 0.10876804\\\\\n",
       "\tMultiome10x\\_05\\_AAACCGCGTTGCGCGA-1 & Multiome10x\\_05\\_AAACCGCGTTGCGCGA-1 & 2296 & 305 & K562 & 7.738924 & 0.13283972\\\\\n",
       "\tMultiome10x\\_05\\_AAACGGATCTAATTGG-1 & Multiome10x\\_05\\_AAACGGATCTAATTGG-1 & 2007 & 186 & K562 & 7.604396 & 0.09267564\\\\\n",
       "\tMultiome10x\\_05\\_AAAGCAAGTACCGTAA-1 & Multiome10x\\_05\\_AAAGCAAGTACCGTAA-1 & 1207 & 230 & K562 & 7.095893 & 0.19055510\\\\\n",
       "\tMultiome10x\\_05\\_AAAGCAAGTGAGGTAG-1 & Multiome10x\\_05\\_AAAGCAAGTGAGGTAG-1 & 6917 & 523 & K562 & 8.841737 & 0.07561081\\\\\n",
       "\tMultiome10x\\_05\\_AAAGCCCGTTTCAGGA-1 & Multiome10x\\_05\\_AAAGCCCGTTTCAGGA-1 & 1852 & 423 & K562 & 7.524021 & 0.22840173\\\\\n",
       "\tMultiome10x\\_05\\_AAAGGAGCATGAGCAG-1 & Multiome10x\\_05\\_AAAGGAGCATGAGCAG-1 & 1871 & 252 & K562 & 7.534228 & 0.13468733\\\\\n",
       "\tMultiome10x\\_05\\_AAAGGTTAGGACAATG-1 & Multiome10x\\_05\\_AAAGGTTAGGACAATG-1 & 1409 & 117 & K562 & 7.250636 & 0.08303762\\\\\n",
       "\tMultiome10x\\_05\\_AAATCCGGTACAAAGA-1 & Multiome10x\\_05\\_AAATCCGGTACAAAGA-1 & 3851 & 292 & K562 & 8.256088 & 0.07582446\\\\\n",
       "\tMultiome10x\\_05\\_AAATCCGGTCCAAATG-1 & Multiome10x\\_05\\_AAATCCGGTCCAAATG-1 & 2729 & 194 & K562 & 7.911691 & 0.07108831\\\\\n",
       "\tMultiome10x\\_05\\_AAATCCGGTGGGTACT-1 & Multiome10x\\_05\\_AAATCCGGTGGGTACT-1 & 2210 & 178 & K562 & 7.700748 & 0.08054299\\\\\n",
       "\tMultiome10x\\_05\\_AAATGGCCAGTTAGCC-1 & Multiome10x\\_05\\_AAATGGCCAGTTAGCC-1 & 2715 & 260 & K562 & 7.906547 & 0.09576427\\\\\n",
       "\tMultiome10x\\_05\\_AACAAAGGTAACCTAG-1 & Multiome10x\\_05\\_AACAAAGGTAACCTAG-1 & 1984 & 125 & K562 & 7.592870 & 0.06300403\\\\\n",
       "\tMultiome10x\\_05\\_AACAAGCCAACTGGGA-1 & Multiome10x\\_05\\_AACAAGCCAACTGGGA-1 & 1078 &  95 & K562 & 6.982863 & 0.08812616\\\\\n",
       "\tMultiome10x\\_05\\_AACAGATAGATGCCTG-1 & Multiome10x\\_05\\_AACAGATAGATGCCTG-1 & 2519 & 189 & K562 & 7.831617 & 0.07502977\\\\\n",
       "\tMultiome10x\\_05\\_AACAGATAGTAACGAG-1 & Multiome10x\\_05\\_AACAGATAGTAACGAG-1 & 2428 & 210 & K562 & 7.794823 & 0.08649094\\\\\n",
       "\tMultiome10x\\_05\\_AACATAGCATAATGAG-1 & Multiome10x\\_05\\_AACATAGCATAATGAG-1 & 2831 & 335 & K562 & 7.948385 & 0.11833274\\\\\n",
       "\tMultiome10x\\_05\\_AACATCATCATGACCG-1 & Multiome10x\\_05\\_AACATCATCATGACCG-1 & 2018 & 146 & K562 & 7.609862 & 0.07234886\\\\\n",
       "\tMultiome10x\\_05\\_AACATCATCCGGGACT-1 & Multiome10x\\_05\\_AACATCATCCGGGACT-1 & 2947 & 262 & K562 & 7.988543 & 0.08890397\\\\\n",
       "\tMultiome10x\\_05\\_AACATTGTCCTCACAC-1 & Multiome10x\\_05\\_AACATTGTCCTCACAC-1 & 1981 & 201 & K562 & 7.591357 & 0.10146391\\\\\n",
       "\tMultiome10x\\_05\\_AACCCGCAGAAGCTAG-1 & Multiome10x\\_05\\_AACCCGCAGAAGCTAG-1 & 2465 & 203 & K562 & 7.809947 & 0.08235294\\\\\n",
       "\tMultiome10x\\_05\\_AACCGGCTCAATGACC-1 & Multiome10x\\_05\\_AACCGGCTCAATGACC-1 & 2497 & 284 & K562 & 7.822845 & 0.11373648\\\\\n",
       "\tMultiome10x\\_05\\_AACCTCCTCCTGGTCT-1 & Multiome10x\\_05\\_AACCTCCTCCTGGTCT-1 & 2185 & 212 & K562 & 7.689371 & 0.09702517\\\\\n",
       "\tMultiome10x\\_05\\_AACCTTAAGCACGTTG-1 & Multiome10x\\_05\\_AACCTTAAGCACGTTG-1 & 2044 & 195 & K562 & 7.622664 & 0.09540117\\\\\n",
       "\tMultiome10x\\_05\\_AACCTTGCAGTTATCG-1 & Multiome10x\\_05\\_AACCTTGCAGTTATCG-1 & 1556 & 105 & K562 & 7.349874 & 0.06748072\\\\\n",
       "\tMultiome10x\\_05\\_AACGACAAGATGCCTG-1 & Multiome10x\\_05\\_AACGACAAGATGCCTG-1 & 2505 & 229 & K562 & 7.826044 & 0.09141717\\\\\n",
       "\tMultiome10x\\_05\\_AACGCCCAGGAGTAAT-1 & Multiome10x\\_05\\_AACGCCCAGGAGTAAT-1 & 2106 & 224 & K562 & 7.652546 & 0.10636277\\\\\n",
       "\tMultiome10x\\_05\\_AACGCTAGTTCCTGAT-1 & Multiome10x\\_05\\_AACGCTAGTTCCTGAT-1 & 2354 & 252 & K562 & 7.763871 & 0.10705183\\\\\n",
       "\tMultiome10x\\_05\\_AACGGTAAGGTGAAAT-1 & Multiome10x\\_05\\_AACGGTAAGGTGAAAT-1 & 2048 & 175 & K562 & 7.624619 & 0.08544922\\\\\n",
       "\t⋮ & ⋮ & ⋮ & ⋮ & ⋮ & ⋮ & ⋮\\\\\n",
       "\tMultiome10x\\_06\\_TTGTGTGCAATGAAGC-1 & Multiome10x\\_06\\_TTGTGTGCAATGAAGC-1 & 1921 & 127 & K562 & 7.560601 & 0.06611140\\\\\n",
       "\tMultiome10x\\_06\\_TTGTTCCCAAGGTATA-1 & Multiome10x\\_06\\_TTGTTCCCAAGGTATA-1 & 3460 & 273 & K562 & 8.149024 & 0.07890173\\\\\n",
       "\tMultiome10x\\_06\\_TTGTTGCGTAATGGAA-1 & Multiome10x\\_06\\_TTGTTGCGTAATGGAA-1 & 2259 & 140 & K562 & 7.722678 & 0.06197432\\\\\n",
       "\tMultiome10x\\_06\\_TTGTTGCGTTGAGCCG-1 & Multiome10x\\_06\\_TTGTTGCGTTGAGCCG-1 & 5453 & 471 & K562 & 8.603921 & 0.08637447\\\\\n",
       "\tMultiome10x\\_06\\_TTGTTGTTCTAACTGA-1 & Multiome10x\\_06\\_TTGTTGTTCTAACTGA-1 & 3139 & 237 & K562 & 8.051660 & 0.07550175\\\\\n",
       "\tMultiome10x\\_06\\_TTTAAGCCAAGTGTTT-1 & Multiome10x\\_06\\_TTTAAGCCAAGTGTTT-1 & 1246 & 131 & K562 & 7.127694 & 0.10513644\\\\\n",
       "\tMultiome10x\\_06\\_TTTACGAAGAGAGGCT-1 & Multiome10x\\_06\\_TTTACGAAGAGAGGCT-1 & 2027 & 198 & K562 & 7.614312 & 0.09768130\\\\\n",
       "\tMultiome10x\\_06\\_TTTACGAAGGCTAAGA-1 & Multiome10x\\_06\\_TTTACGAAGGCTAAGA-1 & 2681 & 185 & K562 & 7.893945 & 0.06900410\\\\\n",
       "\tMultiome10x\\_06\\_TTTACGCGTCCGTGAG-1 & Multiome10x\\_06\\_TTTACGCGTCCGTGAG-1 & 3239 & 191 & K562 & 8.083020 & 0.05896882\\\\\n",
       "\tMultiome10x\\_06\\_TTTAGCAAGGGTTATC-1 & Multiome10x\\_06\\_TTTAGCAAGGGTTATC-1 & 2099 & 219 & K562 & 7.649216 & 0.10433540\\\\\n",
       "\tMultiome10x\\_06\\_TTTAGGATCCAGGTTG-1 & Multiome10x\\_06\\_TTTAGGATCCAGGTTG-1 & 2486 & 236 & K562 & 7.818430 & 0.09493162\\\\\n",
       "\tMultiome10x\\_06\\_TTTAGGATCTCGCCCA-1 & Multiome10x\\_06\\_TTTAGGATCTCGCCCA-1 & 2012 & 235 & K562 & 7.606885 & 0.11679920\\\\\n",
       "\tMultiome10x\\_06\\_TTTCACCCACAGAAAC-1 & Multiome10x\\_06\\_TTTCACCCACAGAAAC-1 & 2058 & 239 & K562 & 7.629490 & 0.11613217\\\\\n",
       "\tMultiome10x\\_06\\_TTTCACCCAGGTTAAA-1 & Multiome10x\\_06\\_TTTCACCCAGGTTAAA-1 & 2062 & 178 & K562 & 7.631432 & 0.08632396\\\\\n",
       "\tMultiome10x\\_06\\_TTTCCACCAATTGACT-1 & Multiome10x\\_06\\_TTTCCACCAATTGACT-1 & 2507 & 223 & K562 & 7.826842 & 0.08895094\\\\\n",
       "\tMultiome10x\\_06\\_TTTCCGGGTACGTTTC-1 & Multiome10x\\_06\\_TTTCCGGGTACGTTTC-1 & 2278 & 169 & K562 & 7.731053 & 0.07418788\\\\\n",
       "\tMultiome10x\\_06\\_TTTCTCACAAGCGATG-1 & Multiome10x\\_06\\_TTTCTCACAAGCGATG-1 & 1853 & 173 & K562 & 7.524561 & 0.09336212\\\\\n",
       "\tMultiome10x\\_06\\_TTTCTCACAAGCTTAT-1 & Multiome10x\\_06\\_TTTCTCACAAGCTTAT-1 & 2472 & 313 & K562 & 7.812783 & 0.12661812\\\\\n",
       "\tMultiome10x\\_06\\_TTTCTTGCAATAACCT-1 & Multiome10x\\_06\\_TTTCTTGCAATAACCT-1 & 2904 & 399 & K562 & 7.973844 & 0.13739669\\\\\n",
       "\tMultiome10x\\_06\\_TTTCTTGCAATTGACT-1 & Multiome10x\\_06\\_TTTCTTGCAATTGACT-1 & 2905 & 156 & K562 & 7.974189 & 0.05370052\\\\\n",
       "\tMultiome10x\\_06\\_TTTCTTGCAGGCCATT-1 & Multiome10x\\_06\\_TTTCTTGCAGGCCATT-1 & 2778 & 339 & K562 & 7.929487 & 0.12203024\\\\\n",
       "\tMultiome10x\\_06\\_TTTGAGTCACTGGCTG-1 & Multiome10x\\_06\\_TTTGAGTCACTGGCTG-1 & 3161 & 228 & K562 & 8.058644 & 0.07212907\\\\\n",
       "\tMultiome10x\\_06\\_TTTGCGACATTGCGGT-1 & Multiome10x\\_06\\_TTTGCGACATTGCGGT-1 & 2676 & 169 & K562 & 7.892078 & 0.06315396\\\\\n",
       "\tMultiome10x\\_06\\_TTTGGCTGTAGTTGGC-1 & Multiome10x\\_06\\_TTTGGCTGTAGTTGGC-1 & 2535 & 174 & K562 & 7.837949 & 0.06863905\\\\\n",
       "\tMultiome10x\\_06\\_TTTGGTAAGCCTGATG-1 & Multiome10x\\_06\\_TTTGGTAAGCCTGATG-1 & 3241 & 346 & K562 & 8.083637 & 0.10675717\\\\\n",
       "\tMultiome10x\\_06\\_TTTGTGAAGAGAGGCT-1 & Multiome10x\\_06\\_TTTGTGAAGAGAGGCT-1 & 3709 & 628 & K562 & 8.218518 & 0.16931788\\\\\n",
       "\tMultiome10x\\_06\\_TTTGTGAAGCATTTCT-1 & Multiome10x\\_06\\_TTTGTGAAGCATTTCT-1 & 2936 & 241 & K562 & 7.984803 & 0.08208447\\\\\n",
       "\tMultiome10x\\_06\\_TTTGTGAAGTGAACGA-1 & Multiome10x\\_06\\_TTTGTGAAGTGAACGA-1 & 2254 & 124 & K562 & 7.720462 & 0.05501331\\\\\n",
       "\tMultiome10x\\_06\\_TTTGTGGCAGTTTGTG-1 & Multiome10x\\_06\\_TTTGTGGCAGTTTGTG-1 & 2818 & 300 & K562 & 7.943783 & 0.10645848\\\\\n",
       "\tMultiome10x\\_06\\_TTTGTGGCATTGCGTA-1 & Multiome10x\\_06\\_TTTGTGGCATTGCGTA-1 & 1743 & 101 & K562 & 7.463363 & 0.05794607\\\\\n",
       "\\end{tabular}\n"
      ],
      "text/markdown": [
       "\n",
       "A data.frame: 2129 × 6\n",
       "\n",
       "| <!--/--> | cell &lt;chr&gt; | nUMI &lt;dbl&gt; | nMito &lt;dbl&gt; | celltype &lt;chr&gt; | log.nUMI &lt;dbl&gt; | percent.mito &lt;dbl&gt; |\n",
       "|---|---|---|---|---|---|---|\n",
       "| Multiome10x_05_AAACATGCATGCATAT-1 | Multiome10x_05_AAACATGCATGCATAT-1 | 1331 | 171 | K562 | 7.193686 | 0.12847483 |\n",
       "| Multiome10x_05_AAACCGAAGCTGGCTA-1 | Multiome10x_05_AAACCGAAGCTGGCTA-1 | 1802 | 196 | K562 | 7.496652 | 0.10876804 |\n",
       "| Multiome10x_05_AAACCGCGTTGCGCGA-1 | Multiome10x_05_AAACCGCGTTGCGCGA-1 | 2296 | 305 | K562 | 7.738924 | 0.13283972 |\n",
       "| Multiome10x_05_AAACGGATCTAATTGG-1 | Multiome10x_05_AAACGGATCTAATTGG-1 | 2007 | 186 | K562 | 7.604396 | 0.09267564 |\n",
       "| Multiome10x_05_AAAGCAAGTACCGTAA-1 | Multiome10x_05_AAAGCAAGTACCGTAA-1 | 1207 | 230 | K562 | 7.095893 | 0.19055510 |\n",
       "| Multiome10x_05_AAAGCAAGTGAGGTAG-1 | Multiome10x_05_AAAGCAAGTGAGGTAG-1 | 6917 | 523 | K562 | 8.841737 | 0.07561081 |\n",
       "| Multiome10x_05_AAAGCCCGTTTCAGGA-1 | Multiome10x_05_AAAGCCCGTTTCAGGA-1 | 1852 | 423 | K562 | 7.524021 | 0.22840173 |\n",
       "| Multiome10x_05_AAAGGAGCATGAGCAG-1 | Multiome10x_05_AAAGGAGCATGAGCAG-1 | 1871 | 252 | K562 | 7.534228 | 0.13468733 |\n",
       "| Multiome10x_05_AAAGGTTAGGACAATG-1 | Multiome10x_05_AAAGGTTAGGACAATG-1 | 1409 | 117 | K562 | 7.250636 | 0.08303762 |\n",
       "| Multiome10x_05_AAATCCGGTACAAAGA-1 | Multiome10x_05_AAATCCGGTACAAAGA-1 | 3851 | 292 | K562 | 8.256088 | 0.07582446 |\n",
       "| Multiome10x_05_AAATCCGGTCCAAATG-1 | Multiome10x_05_AAATCCGGTCCAAATG-1 | 2729 | 194 | K562 | 7.911691 | 0.07108831 |\n",
       "| Multiome10x_05_AAATCCGGTGGGTACT-1 | Multiome10x_05_AAATCCGGTGGGTACT-1 | 2210 | 178 | K562 | 7.700748 | 0.08054299 |\n",
       "| Multiome10x_05_AAATGGCCAGTTAGCC-1 | Multiome10x_05_AAATGGCCAGTTAGCC-1 | 2715 | 260 | K562 | 7.906547 | 0.09576427 |\n",
       "| Multiome10x_05_AACAAAGGTAACCTAG-1 | Multiome10x_05_AACAAAGGTAACCTAG-1 | 1984 | 125 | K562 | 7.592870 | 0.06300403 |\n",
       "| Multiome10x_05_AACAAGCCAACTGGGA-1 | Multiome10x_05_AACAAGCCAACTGGGA-1 | 1078 |  95 | K562 | 6.982863 | 0.08812616 |\n",
       "| Multiome10x_05_AACAGATAGATGCCTG-1 | Multiome10x_05_AACAGATAGATGCCTG-1 | 2519 | 189 | K562 | 7.831617 | 0.07502977 |\n",
       "| Multiome10x_05_AACAGATAGTAACGAG-1 | Multiome10x_05_AACAGATAGTAACGAG-1 | 2428 | 210 | K562 | 7.794823 | 0.08649094 |\n",
       "| Multiome10x_05_AACATAGCATAATGAG-1 | Multiome10x_05_AACATAGCATAATGAG-1 | 2831 | 335 | K562 | 7.948385 | 0.11833274 |\n",
       "| Multiome10x_05_AACATCATCATGACCG-1 | Multiome10x_05_AACATCATCATGACCG-1 | 2018 | 146 | K562 | 7.609862 | 0.07234886 |\n",
       "| Multiome10x_05_AACATCATCCGGGACT-1 | Multiome10x_05_AACATCATCCGGGACT-1 | 2947 | 262 | K562 | 7.988543 | 0.08890397 |\n",
       "| Multiome10x_05_AACATTGTCCTCACAC-1 | Multiome10x_05_AACATTGTCCTCACAC-1 | 1981 | 201 | K562 | 7.591357 | 0.10146391 |\n",
       "| Multiome10x_05_AACCCGCAGAAGCTAG-1 | Multiome10x_05_AACCCGCAGAAGCTAG-1 | 2465 | 203 | K562 | 7.809947 | 0.08235294 |\n",
       "| Multiome10x_05_AACCGGCTCAATGACC-1 | Multiome10x_05_AACCGGCTCAATGACC-1 | 2497 | 284 | K562 | 7.822845 | 0.11373648 |\n",
       "| Multiome10x_05_AACCTCCTCCTGGTCT-1 | Multiome10x_05_AACCTCCTCCTGGTCT-1 | 2185 | 212 | K562 | 7.689371 | 0.09702517 |\n",
       "| Multiome10x_05_AACCTTAAGCACGTTG-1 | Multiome10x_05_AACCTTAAGCACGTTG-1 | 2044 | 195 | K562 | 7.622664 | 0.09540117 |\n",
       "| Multiome10x_05_AACCTTGCAGTTATCG-1 | Multiome10x_05_AACCTTGCAGTTATCG-1 | 1556 | 105 | K562 | 7.349874 | 0.06748072 |\n",
       "| Multiome10x_05_AACGACAAGATGCCTG-1 | Multiome10x_05_AACGACAAGATGCCTG-1 | 2505 | 229 | K562 | 7.826044 | 0.09141717 |\n",
       "| Multiome10x_05_AACGCCCAGGAGTAAT-1 | Multiome10x_05_AACGCCCAGGAGTAAT-1 | 2106 | 224 | K562 | 7.652546 | 0.10636277 |\n",
       "| Multiome10x_05_AACGCTAGTTCCTGAT-1 | Multiome10x_05_AACGCTAGTTCCTGAT-1 | 2354 | 252 | K562 | 7.763871 | 0.10705183 |\n",
       "| Multiome10x_05_AACGGTAAGGTGAAAT-1 | Multiome10x_05_AACGGTAAGGTGAAAT-1 | 2048 | 175 | K562 | 7.624619 | 0.08544922 |\n",
       "| ⋮ | ⋮ | ⋮ | ⋮ | ⋮ | ⋮ | ⋮ |\n",
       "| Multiome10x_06_TTGTGTGCAATGAAGC-1 | Multiome10x_06_TTGTGTGCAATGAAGC-1 | 1921 | 127 | K562 | 7.560601 | 0.06611140 |\n",
       "| Multiome10x_06_TTGTTCCCAAGGTATA-1 | Multiome10x_06_TTGTTCCCAAGGTATA-1 | 3460 | 273 | K562 | 8.149024 | 0.07890173 |\n",
       "| Multiome10x_06_TTGTTGCGTAATGGAA-1 | Multiome10x_06_TTGTTGCGTAATGGAA-1 | 2259 | 140 | K562 | 7.722678 | 0.06197432 |\n",
       "| Multiome10x_06_TTGTTGCGTTGAGCCG-1 | Multiome10x_06_TTGTTGCGTTGAGCCG-1 | 5453 | 471 | K562 | 8.603921 | 0.08637447 |\n",
       "| Multiome10x_06_TTGTTGTTCTAACTGA-1 | Multiome10x_06_TTGTTGTTCTAACTGA-1 | 3139 | 237 | K562 | 8.051660 | 0.07550175 |\n",
       "| Multiome10x_06_TTTAAGCCAAGTGTTT-1 | Multiome10x_06_TTTAAGCCAAGTGTTT-1 | 1246 | 131 | K562 | 7.127694 | 0.10513644 |\n",
       "| Multiome10x_06_TTTACGAAGAGAGGCT-1 | Multiome10x_06_TTTACGAAGAGAGGCT-1 | 2027 | 198 | K562 | 7.614312 | 0.09768130 |\n",
       "| Multiome10x_06_TTTACGAAGGCTAAGA-1 | Multiome10x_06_TTTACGAAGGCTAAGA-1 | 2681 | 185 | K562 | 7.893945 | 0.06900410 |\n",
       "| Multiome10x_06_TTTACGCGTCCGTGAG-1 | Multiome10x_06_TTTACGCGTCCGTGAG-1 | 3239 | 191 | K562 | 8.083020 | 0.05896882 |\n",
       "| Multiome10x_06_TTTAGCAAGGGTTATC-1 | Multiome10x_06_TTTAGCAAGGGTTATC-1 | 2099 | 219 | K562 | 7.649216 | 0.10433540 |\n",
       "| Multiome10x_06_TTTAGGATCCAGGTTG-1 | Multiome10x_06_TTTAGGATCCAGGTTG-1 | 2486 | 236 | K562 | 7.818430 | 0.09493162 |\n",
       "| Multiome10x_06_TTTAGGATCTCGCCCA-1 | Multiome10x_06_TTTAGGATCTCGCCCA-1 | 2012 | 235 | K562 | 7.606885 | 0.11679920 |\n",
       "| Multiome10x_06_TTTCACCCACAGAAAC-1 | Multiome10x_06_TTTCACCCACAGAAAC-1 | 2058 | 239 | K562 | 7.629490 | 0.11613217 |\n",
       "| Multiome10x_06_TTTCACCCAGGTTAAA-1 | Multiome10x_06_TTTCACCCAGGTTAAA-1 | 2062 | 178 | K562 | 7.631432 | 0.08632396 |\n",
       "| Multiome10x_06_TTTCCACCAATTGACT-1 | Multiome10x_06_TTTCCACCAATTGACT-1 | 2507 | 223 | K562 | 7.826842 | 0.08895094 |\n",
       "| Multiome10x_06_TTTCCGGGTACGTTTC-1 | Multiome10x_06_TTTCCGGGTACGTTTC-1 | 2278 | 169 | K562 | 7.731053 | 0.07418788 |\n",
       "| Multiome10x_06_TTTCTCACAAGCGATG-1 | Multiome10x_06_TTTCTCACAAGCGATG-1 | 1853 | 173 | K562 | 7.524561 | 0.09336212 |\n",
       "| Multiome10x_06_TTTCTCACAAGCTTAT-1 | Multiome10x_06_TTTCTCACAAGCTTAT-1 | 2472 | 313 | K562 | 7.812783 | 0.12661812 |\n",
       "| Multiome10x_06_TTTCTTGCAATAACCT-1 | Multiome10x_06_TTTCTTGCAATAACCT-1 | 2904 | 399 | K562 | 7.973844 | 0.13739669 |\n",
       "| Multiome10x_06_TTTCTTGCAATTGACT-1 | Multiome10x_06_TTTCTTGCAATTGACT-1 | 2905 | 156 | K562 | 7.974189 | 0.05370052 |\n",
       "| Multiome10x_06_TTTCTTGCAGGCCATT-1 | Multiome10x_06_TTTCTTGCAGGCCATT-1 | 2778 | 339 | K562 | 7.929487 | 0.12203024 |\n",
       "| Multiome10x_06_TTTGAGTCACTGGCTG-1 | Multiome10x_06_TTTGAGTCACTGGCTG-1 | 3161 | 228 | K562 | 8.058644 | 0.07212907 |\n",
       "| Multiome10x_06_TTTGCGACATTGCGGT-1 | Multiome10x_06_TTTGCGACATTGCGGT-1 | 2676 | 169 | K562 | 7.892078 | 0.06315396 |\n",
       "| Multiome10x_06_TTTGGCTGTAGTTGGC-1 | Multiome10x_06_TTTGGCTGTAGTTGGC-1 | 2535 | 174 | K562 | 7.837949 | 0.06863905 |\n",
       "| Multiome10x_06_TTTGGTAAGCCTGATG-1 | Multiome10x_06_TTTGGTAAGCCTGATG-1 | 3241 | 346 | K562 | 8.083637 | 0.10675717 |\n",
       "| Multiome10x_06_TTTGTGAAGAGAGGCT-1 | Multiome10x_06_TTTGTGAAGAGAGGCT-1 | 3709 | 628 | K562 | 8.218518 | 0.16931788 |\n",
       "| Multiome10x_06_TTTGTGAAGCATTTCT-1 | Multiome10x_06_TTTGTGAAGCATTTCT-1 | 2936 | 241 | K562 | 7.984803 | 0.08208447 |\n",
       "| Multiome10x_06_TTTGTGAAGTGAACGA-1 | Multiome10x_06_TTTGTGAAGTGAACGA-1 | 2254 | 124 | K562 | 7.720462 | 0.05501331 |\n",
       "| Multiome10x_06_TTTGTGGCAGTTTGTG-1 | Multiome10x_06_TTTGTGGCAGTTTGTG-1 | 2818 | 300 | K562 | 7.943783 | 0.10645848 |\n",
       "| Multiome10x_06_TTTGTGGCATTGCGTA-1 | Multiome10x_06_TTTGTGGCATTGCGTA-1 | 1743 | 101 | K562 | 7.463363 | 0.05794607 |\n",
       "\n"
      ],
      "text/plain": [
       "                                  cell                              nUMI nMito\n",
       "Multiome10x_05_AAACATGCATGCATAT-1 Multiome10x_05_AAACATGCATGCATAT-1 1331 171  \n",
       "Multiome10x_05_AAACCGAAGCTGGCTA-1 Multiome10x_05_AAACCGAAGCTGGCTA-1 1802 196  \n",
       "Multiome10x_05_AAACCGCGTTGCGCGA-1 Multiome10x_05_AAACCGCGTTGCGCGA-1 2296 305  \n",
       "Multiome10x_05_AAACGGATCTAATTGG-1 Multiome10x_05_AAACGGATCTAATTGG-1 2007 186  \n",
       "Multiome10x_05_AAAGCAAGTACCGTAA-1 Multiome10x_05_AAAGCAAGTACCGTAA-1 1207 230  \n",
       "Multiome10x_05_AAAGCAAGTGAGGTAG-1 Multiome10x_05_AAAGCAAGTGAGGTAG-1 6917 523  \n",
       "Multiome10x_05_AAAGCCCGTTTCAGGA-1 Multiome10x_05_AAAGCCCGTTTCAGGA-1 1852 423  \n",
       "Multiome10x_05_AAAGGAGCATGAGCAG-1 Multiome10x_05_AAAGGAGCATGAGCAG-1 1871 252  \n",
       "Multiome10x_05_AAAGGTTAGGACAATG-1 Multiome10x_05_AAAGGTTAGGACAATG-1 1409 117  \n",
       "Multiome10x_05_AAATCCGGTACAAAGA-1 Multiome10x_05_AAATCCGGTACAAAGA-1 3851 292  \n",
       "Multiome10x_05_AAATCCGGTCCAAATG-1 Multiome10x_05_AAATCCGGTCCAAATG-1 2729 194  \n",
       "Multiome10x_05_AAATCCGGTGGGTACT-1 Multiome10x_05_AAATCCGGTGGGTACT-1 2210 178  \n",
       "Multiome10x_05_AAATGGCCAGTTAGCC-1 Multiome10x_05_AAATGGCCAGTTAGCC-1 2715 260  \n",
       "Multiome10x_05_AACAAAGGTAACCTAG-1 Multiome10x_05_AACAAAGGTAACCTAG-1 1984 125  \n",
       "Multiome10x_05_AACAAGCCAACTGGGA-1 Multiome10x_05_AACAAGCCAACTGGGA-1 1078  95  \n",
       "Multiome10x_05_AACAGATAGATGCCTG-1 Multiome10x_05_AACAGATAGATGCCTG-1 2519 189  \n",
       "Multiome10x_05_AACAGATAGTAACGAG-1 Multiome10x_05_AACAGATAGTAACGAG-1 2428 210  \n",
       "Multiome10x_05_AACATAGCATAATGAG-1 Multiome10x_05_AACATAGCATAATGAG-1 2831 335  \n",
       "Multiome10x_05_AACATCATCATGACCG-1 Multiome10x_05_AACATCATCATGACCG-1 2018 146  \n",
       "Multiome10x_05_AACATCATCCGGGACT-1 Multiome10x_05_AACATCATCCGGGACT-1 2947 262  \n",
       "Multiome10x_05_AACATTGTCCTCACAC-1 Multiome10x_05_AACATTGTCCTCACAC-1 1981 201  \n",
       "Multiome10x_05_AACCCGCAGAAGCTAG-1 Multiome10x_05_AACCCGCAGAAGCTAG-1 2465 203  \n",
       "Multiome10x_05_AACCGGCTCAATGACC-1 Multiome10x_05_AACCGGCTCAATGACC-1 2497 284  \n",
       "Multiome10x_05_AACCTCCTCCTGGTCT-1 Multiome10x_05_AACCTCCTCCTGGTCT-1 2185 212  \n",
       "Multiome10x_05_AACCTTAAGCACGTTG-1 Multiome10x_05_AACCTTAAGCACGTTG-1 2044 195  \n",
       "Multiome10x_05_AACCTTGCAGTTATCG-1 Multiome10x_05_AACCTTGCAGTTATCG-1 1556 105  \n",
       "Multiome10x_05_AACGACAAGATGCCTG-1 Multiome10x_05_AACGACAAGATGCCTG-1 2505 229  \n",
       "Multiome10x_05_AACGCCCAGGAGTAAT-1 Multiome10x_05_AACGCCCAGGAGTAAT-1 2106 224  \n",
       "Multiome10x_05_AACGCTAGTTCCTGAT-1 Multiome10x_05_AACGCTAGTTCCTGAT-1 2354 252  \n",
       "Multiome10x_05_AACGGTAAGGTGAAAT-1 Multiome10x_05_AACGGTAAGGTGAAAT-1 2048 175  \n",
       "⋮                                 ⋮                                 ⋮    ⋮    \n",
       "Multiome10x_06_TTGTGTGCAATGAAGC-1 Multiome10x_06_TTGTGTGCAATGAAGC-1 1921 127  \n",
       "Multiome10x_06_TTGTTCCCAAGGTATA-1 Multiome10x_06_TTGTTCCCAAGGTATA-1 3460 273  \n",
       "Multiome10x_06_TTGTTGCGTAATGGAA-1 Multiome10x_06_TTGTTGCGTAATGGAA-1 2259 140  \n",
       "Multiome10x_06_TTGTTGCGTTGAGCCG-1 Multiome10x_06_TTGTTGCGTTGAGCCG-1 5453 471  \n",
       "Multiome10x_06_TTGTTGTTCTAACTGA-1 Multiome10x_06_TTGTTGTTCTAACTGA-1 3139 237  \n",
       "Multiome10x_06_TTTAAGCCAAGTGTTT-1 Multiome10x_06_TTTAAGCCAAGTGTTT-1 1246 131  \n",
       "Multiome10x_06_TTTACGAAGAGAGGCT-1 Multiome10x_06_TTTACGAAGAGAGGCT-1 2027 198  \n",
       "Multiome10x_06_TTTACGAAGGCTAAGA-1 Multiome10x_06_TTTACGAAGGCTAAGA-1 2681 185  \n",
       "Multiome10x_06_TTTACGCGTCCGTGAG-1 Multiome10x_06_TTTACGCGTCCGTGAG-1 3239 191  \n",
       "Multiome10x_06_TTTAGCAAGGGTTATC-1 Multiome10x_06_TTTAGCAAGGGTTATC-1 2099 219  \n",
       "Multiome10x_06_TTTAGGATCCAGGTTG-1 Multiome10x_06_TTTAGGATCCAGGTTG-1 2486 236  \n",
       "Multiome10x_06_TTTAGGATCTCGCCCA-1 Multiome10x_06_TTTAGGATCTCGCCCA-1 2012 235  \n",
       "Multiome10x_06_TTTCACCCACAGAAAC-1 Multiome10x_06_TTTCACCCACAGAAAC-1 2058 239  \n",
       "Multiome10x_06_TTTCACCCAGGTTAAA-1 Multiome10x_06_TTTCACCCAGGTTAAA-1 2062 178  \n",
       "Multiome10x_06_TTTCCACCAATTGACT-1 Multiome10x_06_TTTCCACCAATTGACT-1 2507 223  \n",
       "Multiome10x_06_TTTCCGGGTACGTTTC-1 Multiome10x_06_TTTCCGGGTACGTTTC-1 2278 169  \n",
       "Multiome10x_06_TTTCTCACAAGCGATG-1 Multiome10x_06_TTTCTCACAAGCGATG-1 1853 173  \n",
       "Multiome10x_06_TTTCTCACAAGCTTAT-1 Multiome10x_06_TTTCTCACAAGCTTAT-1 2472 313  \n",
       "Multiome10x_06_TTTCTTGCAATAACCT-1 Multiome10x_06_TTTCTTGCAATAACCT-1 2904 399  \n",
       "Multiome10x_06_TTTCTTGCAATTGACT-1 Multiome10x_06_TTTCTTGCAATTGACT-1 2905 156  \n",
       "Multiome10x_06_TTTCTTGCAGGCCATT-1 Multiome10x_06_TTTCTTGCAGGCCATT-1 2778 339  \n",
       "Multiome10x_06_TTTGAGTCACTGGCTG-1 Multiome10x_06_TTTGAGTCACTGGCTG-1 3161 228  \n",
       "Multiome10x_06_TTTGCGACATTGCGGT-1 Multiome10x_06_TTTGCGACATTGCGGT-1 2676 169  \n",
       "Multiome10x_06_TTTGGCTGTAGTTGGC-1 Multiome10x_06_TTTGGCTGTAGTTGGC-1 2535 174  \n",
       "Multiome10x_06_TTTGGTAAGCCTGATG-1 Multiome10x_06_TTTGGTAAGCCTGATG-1 3241 346  \n",
       "Multiome10x_06_TTTGTGAAGAGAGGCT-1 Multiome10x_06_TTTGTGAAGAGAGGCT-1 3709 628  \n",
       "Multiome10x_06_TTTGTGAAGCATTTCT-1 Multiome10x_06_TTTGTGAAGCATTTCT-1 2936 241  \n",
       "Multiome10x_06_TTTGTGAAGTGAACGA-1 Multiome10x_06_TTTGTGAAGTGAACGA-1 2254 124  \n",
       "Multiome10x_06_TTTGTGGCAGTTTGTG-1 Multiome10x_06_TTTGTGGCAGTTTGTG-1 2818 300  \n",
       "Multiome10x_06_TTTGTGGCATTGCGTA-1 Multiome10x_06_TTTGTGGCATTGCGTA-1 1743 101  \n",
       "                                  celltype log.nUMI percent.mito\n",
       "Multiome10x_05_AAACATGCATGCATAT-1 K562     7.193686 0.12847483  \n",
       "Multiome10x_05_AAACCGAAGCTGGCTA-1 K562     7.496652 0.10876804  \n",
       "Multiome10x_05_AAACCGCGTTGCGCGA-1 K562     7.738924 0.13283972  \n",
       "Multiome10x_05_AAACGGATCTAATTGG-1 K562     7.604396 0.09267564  \n",
       "Multiome10x_05_AAAGCAAGTACCGTAA-1 K562     7.095893 0.19055510  \n",
       "Multiome10x_05_AAAGCAAGTGAGGTAG-1 K562     8.841737 0.07561081  \n",
       "Multiome10x_05_AAAGCCCGTTTCAGGA-1 K562     7.524021 0.22840173  \n",
       "Multiome10x_05_AAAGGAGCATGAGCAG-1 K562     7.534228 0.13468733  \n",
       "Multiome10x_05_AAAGGTTAGGACAATG-1 K562     7.250636 0.08303762  \n",
       "Multiome10x_05_AAATCCGGTACAAAGA-1 K562     8.256088 0.07582446  \n",
       "Multiome10x_05_AAATCCGGTCCAAATG-1 K562     7.911691 0.07108831  \n",
       "Multiome10x_05_AAATCCGGTGGGTACT-1 K562     7.700748 0.08054299  \n",
       "Multiome10x_05_AAATGGCCAGTTAGCC-1 K562     7.906547 0.09576427  \n",
       "Multiome10x_05_AACAAAGGTAACCTAG-1 K562     7.592870 0.06300403  \n",
       "Multiome10x_05_AACAAGCCAACTGGGA-1 K562     6.982863 0.08812616  \n",
       "Multiome10x_05_AACAGATAGATGCCTG-1 K562     7.831617 0.07502977  \n",
       "Multiome10x_05_AACAGATAGTAACGAG-1 K562     7.794823 0.08649094  \n",
       "Multiome10x_05_AACATAGCATAATGAG-1 K562     7.948385 0.11833274  \n",
       "Multiome10x_05_AACATCATCATGACCG-1 K562     7.609862 0.07234886  \n",
       "Multiome10x_05_AACATCATCCGGGACT-1 K562     7.988543 0.08890397  \n",
       "Multiome10x_05_AACATTGTCCTCACAC-1 K562     7.591357 0.10146391  \n",
       "Multiome10x_05_AACCCGCAGAAGCTAG-1 K562     7.809947 0.08235294  \n",
       "Multiome10x_05_AACCGGCTCAATGACC-1 K562     7.822845 0.11373648  \n",
       "Multiome10x_05_AACCTCCTCCTGGTCT-1 K562     7.689371 0.09702517  \n",
       "Multiome10x_05_AACCTTAAGCACGTTG-1 K562     7.622664 0.09540117  \n",
       "Multiome10x_05_AACCTTGCAGTTATCG-1 K562     7.349874 0.06748072  \n",
       "Multiome10x_05_AACGACAAGATGCCTG-1 K562     7.826044 0.09141717  \n",
       "Multiome10x_05_AACGCCCAGGAGTAAT-1 K562     7.652546 0.10636277  \n",
       "Multiome10x_05_AACGCTAGTTCCTGAT-1 K562     7.763871 0.10705183  \n",
       "Multiome10x_05_AACGGTAAGGTGAAAT-1 K562     7.624619 0.08544922  \n",
       "⋮                                 ⋮        ⋮        ⋮           \n",
       "Multiome10x_06_TTGTGTGCAATGAAGC-1 K562     7.560601 0.06611140  \n",
       "Multiome10x_06_TTGTTCCCAAGGTATA-1 K562     8.149024 0.07890173  \n",
       "Multiome10x_06_TTGTTGCGTAATGGAA-1 K562     7.722678 0.06197432  \n",
       "Multiome10x_06_TTGTTGCGTTGAGCCG-1 K562     8.603921 0.08637447  \n",
       "Multiome10x_06_TTGTTGTTCTAACTGA-1 K562     8.051660 0.07550175  \n",
       "Multiome10x_06_TTTAAGCCAAGTGTTT-1 K562     7.127694 0.10513644  \n",
       "Multiome10x_06_TTTACGAAGAGAGGCT-1 K562     7.614312 0.09768130  \n",
       "Multiome10x_06_TTTACGAAGGCTAAGA-1 K562     7.893945 0.06900410  \n",
       "Multiome10x_06_TTTACGCGTCCGTGAG-1 K562     8.083020 0.05896882  \n",
       "Multiome10x_06_TTTAGCAAGGGTTATC-1 K562     7.649216 0.10433540  \n",
       "Multiome10x_06_TTTAGGATCCAGGTTG-1 K562     7.818430 0.09493162  \n",
       "Multiome10x_06_TTTAGGATCTCGCCCA-1 K562     7.606885 0.11679920  \n",
       "Multiome10x_06_TTTCACCCACAGAAAC-1 K562     7.629490 0.11613217  \n",
       "Multiome10x_06_TTTCACCCAGGTTAAA-1 K562     7.631432 0.08632396  \n",
       "Multiome10x_06_TTTCCACCAATTGACT-1 K562     7.826842 0.08895094  \n",
       "Multiome10x_06_TTTCCGGGTACGTTTC-1 K562     7.731053 0.07418788  \n",
       "Multiome10x_06_TTTCTCACAAGCGATG-1 K562     7.524561 0.09336212  \n",
       "Multiome10x_06_TTTCTCACAAGCTTAT-1 K562     7.812783 0.12661812  \n",
       "Multiome10x_06_TTTCTTGCAATAACCT-1 K562     7.973844 0.13739669  \n",
       "Multiome10x_06_TTTCTTGCAATTGACT-1 K562     7.974189 0.05370052  \n",
       "Multiome10x_06_TTTCTTGCAGGCCATT-1 K562     7.929487 0.12203024  \n",
       "Multiome10x_06_TTTGAGTCACTGGCTG-1 K562     8.058644 0.07212907  \n",
       "Multiome10x_06_TTTGCGACATTGCGGT-1 K562     7.892078 0.06315396  \n",
       "Multiome10x_06_TTTGGCTGTAGTTGGC-1 K562     7.837949 0.06863905  \n",
       "Multiome10x_06_TTTGGTAAGCCTGATG-1 K562     8.083637 0.10675717  \n",
       "Multiome10x_06_TTTGTGAAGAGAGGCT-1 K562     8.218518 0.16931788  \n",
       "Multiome10x_06_TTTGTGAAGCATTTCT-1 K562     7.984803 0.08208447  \n",
       "Multiome10x_06_TTTGTGAAGTGAACGA-1 K562     7.720462 0.05501331  \n",
       "Multiome10x_06_TTTGTGGCAGTTTGTG-1 K562     7.943783 0.10645848  \n",
       "Multiome10x_06_TTTGTGGCATTGCGTA-1 K562     7.463363 0.05794607  "
      ]
     },
     "metadata": {},
     "output_type": "display_data"
    }
   ],
   "source": [
    "meta.data = data.frame(cell = colnames(matrix.rna),\n",
    "                       nUMI = colSums(matrix.rna),\n",
    "                       nMito = colSums(matrix.rna[grep(\"MT-\",rownames(matrix.rna)),]),\n",
    "                       celltype = \"K562\")\n",
    "meta.data[,\"log.nUMI\"] = log(meta.data[,\"nUMI\"])\n",
    "meta.data[,\"percent.mito\"] = meta.data[,\"nMito\"] / meta.data[,\"nUMI\"]\n",
    "meta.data"
   ]
  },
  {
   "cell_type": "markdown",
   "id": "b823cb4a-3ce6-40b1-9a0d-d5d1e4aa3912",
   "metadata": {},
   "source": [
    "RUN SCENT prediction"
   ]
  },
  {
   "cell_type": "code",
   "execution_count": 12,
   "id": "f46765dc-9de5-4411-9288-40b59435f9fb",
   "metadata": {},
   "outputs": [],
   "source": [
    "SCENT_algorithm.modified = function (object, \n",
    "                                     # celltype, \n",
    "                                     # ncores, \n",
    "                                     # regr = \"poisson\", \n",
    "                                     # bin = TRUE) \n",
    "                                     regr = \"poisson\") {\n",
    "    res <- data.frame()\n",
    "    for (n in 1:nrow(object@peak.info)) {        \n",
    "        gene <- object@peak.info[n, 1]\n",
    "        this_peak <- object@peak.info[n, 2]\n",
    "        atac_target <- data.frame(cell = colnames(object@atac), \n",
    "            atac = object@atac[this_peak, ])\n",
    "        # if (bin) {\n",
    "        #     atac_target[atac_target$atac > 0, ]$atac <- 1\n",
    "        # }\n",
    "        mrna_target <- object@rna[gene, ]\n",
    "        df <- data.frame(cell = names(mrna_target), exprs = as.numeric(mrna_target))\n",
    "        df <- merge(df, atac_target, by = \"cell\")\n",
    "        df <- merge(df, object@meta.data, by = \"cell\")\n",
    "        # df2 <- df[df[[object@celltypes]] == celltype, ]\n",
    "        df2 <- df\n",
    "        nonzero_m <- length(df2$exprs[df2$exprs > 0])/length(df2$exprs)\n",
    "        nonzero_a <- length(df2$atac[df2$atac > 0])/length(df2$atac)\n",
    "        if (nonzero_m > 0.05 & nonzero_a > 0.05) {\n",
    "            res_var <- \"exprs\"\n",
    "            pred_var <- c(\"atac\", object@covariates)\n",
    "            formula <- as.formula(paste(res_var, paste(pred_var, \n",
    "                collapse = \"+\"), sep = \"~\"))\n",
    "            if (regr == \"poisson\") {\n",
    "                base = glm(formula, family = \"poisson\", data = df2)\n",
    "                coefs <- summary(base)$coefficients[\"atac\", ]\n",
    "                # assoc <- assoc_poisson\n",
    "                assoc <- SCENT::assoc_poisson\n",
    "            }\n",
    "            else if (regr == \"negbin\") {\n",
    "                base = glm.nb(formula, data = df2)\n",
    "                coefs <- summary(base)$coefficients[\"atac\", ]\n",
    "                # assoc <- assoc_negbin\n",
    "                assoc <- SCENT::assoc_negbin\n",
    "            }\n",
    "            bs = boot::boot(df2, assoc, R = 100, formula = formula, \n",
    "                stype = \"i\", parallel = \"no\", ncpus = 1)\n",
    "            # p0 = basic_p(bs$t0[1], bs$t[, 1])\n",
    "            p0 = SCENT::basic_p(bs$t0[1], bs$t[, 1])\n",
    "            # if (p0 < 0.1) {\n",
    "            #     bs = boot::boot(df2, assoc, R = 500, formula = formula, \n",
    "            #       stype = \"i\", \n",
    "            #       # parallel = \"multicore\", ncpus = ncores)\n",
    "            #       parallel = \"no\", ncpus = 1)\n",
    "            #     # p0 = basic_p(bs$t0[1], bs$t[, 1])\n",
    "            #     p0 = SCENT::basic_p(bs$t0[1], bs$t[, 1])\n",
    "            # }\n",
    "            # if (p0 < 0.05) {\n",
    "            #     bs = boot::boot(df2, assoc, R = 2500, formula = formula, \n",
    "            #       stype = \"i\", \n",
    "            #       # parallel = \"multicore\", ncpus = ncores)\n",
    "            #       parallel = \"no\", ncpus = 1)\n",
    "            #     # p0 = basic_p(bs$t0[1], bs$t[, 1])\n",
    "            #     p0 = SCENT::basic_p(bs$t0[1], bs$t[, 1])\n",
    "            # }\n",
    "            # if (p0 < 0.01) {\n",
    "            #     bs = boot::boot(df2, assoc, R = 25000, formula = formula, \n",
    "            #       stype = \"i\", \n",
    "            #       # parallel = \"multicore\", ncpus = ncores)\n",
    "            #       parallel = \"no\", ncpus = 1)\n",
    "            #     # p0 = basic_p(bs$t0[1], bs$t[, 1])\n",
    "            #     p0 = SCENT::basic_p(bs$t0[1], bs$t[, 1])\n",
    "            # }\n",
    "            # if (p0 < 0.001) {\n",
    "            #     bs = boot::boot(df2, assoc, R = 50000, formula = formula, \n",
    "            #       stype = \"i\", \n",
    "            #       # parallel = \"multicore\", ncpus = ncores)\n",
    "            #       parallel = \"no\", ncpus = 1)\n",
    "            #     # p0 = basic_p(bs$t0[1], bs$t[, 1])\n",
    "            #     p0 = SCENT::basic_p(bs$t0[1], bs$t[, 1])\n",
    "            # }\n",
    "            out <- data.frame(gene = gene, peak = this_peak, \n",
    "                beta = coefs[1], se = coefs[2], z = coefs[3], \n",
    "                p = coefs[4], boot_basic_p = p0)           \n",
    "            res <- rbind(res, out)\n",
    "        }\n",
    "    }\n",
    "    object@SCENT.result <- res\n",
    "    return(object)\n",
    "}"
   ]
  },
  {
   "cell_type": "code",
   "execution_count": 13,
   "id": "563771b9-b96a-44d5-a5fe-fa30a7b9851b",
   "metadata": {},
   "outputs": [],
   "source": [
    "dir.create(paste(dir.output,\"chr\",sep = \"/\"),recursive = T)"
   ]
  },
  {
   "cell_type": "code",
   "execution_count": 14,
   "id": "0d2266ce-b92d-40d2-9b78-f39bd33a5079",
   "metadata": {},
   "outputs": [],
   "source": [
    "chr.done = dir(paste(dir.output,\"chr\",sep = \"/\"))\n",
    "chr.run = as.character(unique(seqnames(pairs.E2G.filter2)))\n",
    "chr.run = chr.run[!chr.run %in% chr.done]"
   ]
  },
  {
   "cell_type": "code",
   "execution_count": 15,
   "id": "2d41238d-e833-4e0e-add5-bb56bb615c1a",
   "metadata": {},
   "outputs": [
    {
     "name": "stdout",
     "output_type": "stream",
     "text": [
      "[1] \"chr1\"\n"
     ]
    },
    {
     "name": "stderr",
     "output_type": "stream",
     "text": [
      "Warning message in split.default(x = seq_len(nrow(x)), f = f, drop = drop, ...):\n",
      "“data length is not a multiple of split variable”\n"
     ]
    },
    {
     "name": "stdout",
     "output_type": "stream",
     "text": [
      "[1] \"chr10\"\n"
     ]
    },
    {
     "name": "stderr",
     "output_type": "stream",
     "text": [
      "Warning message in split.default(x = seq_len(nrow(x)), f = f, drop = drop, ...):\n",
      "“data length is not a multiple of split variable”\n"
     ]
    },
    {
     "name": "stdout",
     "output_type": "stream",
     "text": [
      "[1] \"chr11\"\n"
     ]
    },
    {
     "name": "stderr",
     "output_type": "stream",
     "text": [
      "Warning message in split.default(x = seq_len(nrow(x)), f = f, drop = drop, ...):\n",
      "“data length is not a multiple of split variable”\n"
     ]
    },
    {
     "name": "stdout",
     "output_type": "stream",
     "text": [
      "[1] \"chr12\"\n"
     ]
    },
    {
     "name": "stderr",
     "output_type": "stream",
     "text": [
      "Warning message in split.default(x = seq_len(nrow(x)), f = f, drop = drop, ...):\n",
      "“data length is not a multiple of split variable”\n"
     ]
    },
    {
     "name": "stdout",
     "output_type": "stream",
     "text": [
      "[1] \"chr13\"\n"
     ]
    },
    {
     "name": "stderr",
     "output_type": "stream",
     "text": [
      "Warning message in split.default(x = seq_len(nrow(x)), f = f, drop = drop, ...):\n",
      "“data length is not a multiple of split variable”\n"
     ]
    },
    {
     "name": "stdout",
     "output_type": "stream",
     "text": [
      "[1] \"chr14\"\n"
     ]
    },
    {
     "name": "stderr",
     "output_type": "stream",
     "text": [
      "Warning message in split.default(x = seq_len(nrow(x)), f = f, drop = drop, ...):\n",
      "“data length is not a multiple of split variable”\n"
     ]
    },
    {
     "name": "stdout",
     "output_type": "stream",
     "text": [
      "[1] \"chr15\"\n"
     ]
    },
    {
     "name": "stderr",
     "output_type": "stream",
     "text": [
      "Warning message in split.default(x = seq_len(nrow(x)), f = f, drop = drop, ...):\n",
      "“data length is not a multiple of split variable”\n"
     ]
    },
    {
     "name": "stdout",
     "output_type": "stream",
     "text": [
      "[1] \"chr16\"\n"
     ]
    },
    {
     "name": "stderr",
     "output_type": "stream",
     "text": [
      "Warning message in split.default(x = seq_len(nrow(x)), f = f, drop = drop, ...):\n",
      "“data length is not a multiple of split variable”\n"
     ]
    },
    {
     "name": "stdout",
     "output_type": "stream",
     "text": [
      "[1] \"chr17\"\n"
     ]
    },
    {
     "name": "stderr",
     "output_type": "stream",
     "text": [
      "Warning message in split.default(x = seq_len(nrow(x)), f = f, drop = drop, ...):\n",
      "“data length is not a multiple of split variable”\n"
     ]
    },
    {
     "name": "stdout",
     "output_type": "stream",
     "text": [
      "[1] \"chr18\"\n"
     ]
    },
    {
     "name": "stderr",
     "output_type": "stream",
     "text": [
      "Warning message in split.default(x = seq_len(nrow(x)), f = f, drop = drop, ...):\n",
      "“data length is not a multiple of split variable”\n"
     ]
    },
    {
     "name": "stdout",
     "output_type": "stream",
     "text": [
      "[1] \"chr19\"\n"
     ]
    },
    {
     "name": "stderr",
     "output_type": "stream",
     "text": [
      "Warning message in split.default(x = seq_len(nrow(x)), f = f, drop = drop, ...):\n",
      "“data length is not a multiple of split variable”\n"
     ]
    },
    {
     "name": "stdout",
     "output_type": "stream",
     "text": [
      "[1] \"chr2\"\n"
     ]
    },
    {
     "name": "stderr",
     "output_type": "stream",
     "text": [
      "Warning message in split.default(x = seq_len(nrow(x)), f = f, drop = drop, ...):\n",
      "“data length is not a multiple of split variable”\n"
     ]
    },
    {
     "name": "stdout",
     "output_type": "stream",
     "text": [
      "[1] \"chr20\"\n"
     ]
    },
    {
     "name": "stderr",
     "output_type": "stream",
     "text": [
      "Warning message in split.default(x = seq_len(nrow(x)), f = f, drop = drop, ...):\n",
      "“data length is not a multiple of split variable”\n"
     ]
    },
    {
     "name": "stdout",
     "output_type": "stream",
     "text": [
      "[1] \"chr21\"\n"
     ]
    },
    {
     "name": "stderr",
     "output_type": "stream",
     "text": [
      "Warning message in split.default(x = seq_len(nrow(x)), f = f, drop = drop, ...):\n",
      "“data length is not a multiple of split variable”\n"
     ]
    },
    {
     "name": "stdout",
     "output_type": "stream",
     "text": [
      "[1] \"chr22\"\n"
     ]
    },
    {
     "name": "stderr",
     "output_type": "stream",
     "text": [
      "Warning message in split.default(x = seq_len(nrow(x)), f = f, drop = drop, ...):\n",
      "“data length is not a multiple of split variable”\n"
     ]
    },
    {
     "name": "stdout",
     "output_type": "stream",
     "text": [
      "[1] \"chr3\"\n"
     ]
    },
    {
     "name": "stderr",
     "output_type": "stream",
     "text": [
      "Warning message in split.default(x = seq_len(nrow(x)), f = f, drop = drop, ...):\n",
      "“data length is not a multiple of split variable”\n"
     ]
    },
    {
     "name": "stdout",
     "output_type": "stream",
     "text": [
      "[1] \"chr4\"\n"
     ]
    },
    {
     "name": "stderr",
     "output_type": "stream",
     "text": [
      "Warning message in split.default(x = seq_len(nrow(x)), f = f, drop = drop, ...):\n",
      "“data length is not a multiple of split variable”\n"
     ]
    },
    {
     "name": "stdout",
     "output_type": "stream",
     "text": [
      "[1] \"chr5\"\n"
     ]
    },
    {
     "name": "stderr",
     "output_type": "stream",
     "text": [
      "Warning message in split.default(x = seq_len(nrow(x)), f = f, drop = drop, ...):\n",
      "“data length is not a multiple of split variable”\n"
     ]
    },
    {
     "name": "stdout",
     "output_type": "stream",
     "text": [
      "[1] \"chr6\"\n"
     ]
    },
    {
     "name": "stderr",
     "output_type": "stream",
     "text": [
      "Warning message in split.default(x = seq_len(nrow(x)), f = f, drop = drop, ...):\n",
      "“data length is not a multiple of split variable”\n"
     ]
    },
    {
     "name": "stdout",
     "output_type": "stream",
     "text": [
      "[1] \"chr7\"\n"
     ]
    },
    {
     "name": "stderr",
     "output_type": "stream",
     "text": [
      "Warning message in split.default(x = seq_len(nrow(x)), f = f, drop = drop, ...):\n",
      "“data length is not a multiple of split variable”\n"
     ]
    },
    {
     "name": "stdout",
     "output_type": "stream",
     "text": [
      "[1] \"chr8\"\n"
     ]
    },
    {
     "name": "stderr",
     "output_type": "stream",
     "text": [
      "Warning message in split.default(x = seq_len(nrow(x)), f = f, drop = drop, ...):\n",
      "“data length is not a multiple of split variable”\n"
     ]
    },
    {
     "name": "stdout",
     "output_type": "stream",
     "text": [
      "[1] \"chr9\"\n"
     ]
    },
    {
     "name": "stderr",
     "output_type": "stream",
     "text": [
      "Warning message in split.default(x = seq_len(nrow(x)), f = f, drop = drop, ...):\n",
      "“data length is not a multiple of split variable”\n"
     ]
    },
    {
     "name": "stdout",
     "output_type": "stream",
     "text": [
      "[1] \"chrX\"\n"
     ]
    },
    {
     "name": "stderr",
     "output_type": "stream",
     "text": [
      "Warning message in split.default(x = seq_len(nrow(x)), f = f, drop = drop, ...):\n",
      "“data length is not a multiple of split variable”\n"
     ]
    }
   ],
   "source": [
    "for(chr.tmp in chr.run){\n",
    "  print(chr.tmp)\n",
    "  pairs.E2G.chr.res = pairs.E2G.filter2[seqnames(pairs.E2G.filter2) == chr.tmp]\n",
    "  gene_peak.chr = as.data.frame(mcols(pairs.E2G.chr.res)[,c(\"TargetGene\",\"PeakName\")])\n",
    "  list.gene_peak.chr <- split(gene_peak.chr, seq_len(n.cores))\n",
    "  \n",
    "  list.obj.SCENT.chr <- lapply(list.gene_peak.chr, function(gene_peak.tmp) {\n",
    "    obj.SCENT.tmp <- CreateSCENTObj(\n",
    "      rna = matrix.rna[rownames(matrix.rna) %in% gene_peak.tmp$TargetGene,],\n",
    "      atac = matrix.atac[rownames(matrix.atac) %in% gene_peak.tmp$PeakName,], \n",
    "      meta.data = meta.data,\n",
    "      peak.info = gene_peak.tmp,\n",
    "      covariates = c(\"log.nUMI\",\"percent.mito\"), \n",
    "      celltypes = \"celltype\"\n",
    "    )\n",
    "  })\n",
    "  \n",
    "  cl <- makeCluster(n.cores)\n",
    "  clusterExport(cl, varlist=c(\"SCENT_algorithm.modified\"))\n",
    "  list.SCENT.result.chr <- parLapply(cl, list.obj.SCENT.chr, function(obj.SCENT.tmp) {\n",
    "    obj.SCENT.tmp <- SCENT_algorithm.modified(object = obj.SCENT.tmp)\n",
    "    return(obj.SCENT.tmp@SCENT.result)\n",
    "  })\n",
    "  stopCluster(cl)\n",
    "  \n",
    "  \n",
    "  df.SCENT.result.chr = do.call(rbind,list.SCENT.result.chr)\n",
    "  rownames(df.SCENT.result.chr) = paste(df.SCENT.result.chr$peak,\n",
    "                                        df.SCENT.result.chr$gene,\n",
    "                                        sep = \"_\")\n",
    "\n",
    "  pairs.E2G.chr.res = pairs.E2G.chr.res[pairs.E2G.chr.res$PairName %in% rownames(df.SCENT.result.chr)]\n",
    "  mcols(pairs.E2G.chr.res)[,c(\"beta\",\"se\",\"z\",\"p\",\"boot_basic_p\")] = \n",
    "    df.SCENT.result.chr[pairs.E2G.chr.res$PairName,c(\"beta\",\"se\",\"z\",\"p\",\"boot_basic_p\")]\n",
    "  pairs.E2G.chr.res$boot_basic_p.log10 = -log10(pairs.E2G.chr.res$boot_basic_p)\n",
    "  pairs.E2G.chr.res$sign = 1\n",
    "  pairs.E2G.chr.res$sign[pairs.E2G.chr.res$beta < 0] = -1\n",
    "  pairs.E2G.chr.res$boot_basic_p.log10.signed = pairs.E2G.chr.res$boot_basic_p.log10 * pairs.E2G.chr.res$sign\n",
    "  saveRDS(pairs.E2G.chr.res,\n",
    "          paste(dir.output,\"chr\",chr.tmp,sep = \"/\"))\n",
    "  rm (pairs.E2G.chr.res)\n",
    "}"
   ]
  },
  {
   "cell_type": "markdown",
   "id": "da9d1451-54e0-49e0-ae8b-cd0158115820",
   "metadata": {},
   "source": [
    "Merge results"
   ]
  },
  {
   "cell_type": "code",
   "execution_count": 16,
   "id": "6b4278f1-7d9d-402f-95c6-f274a6befea3",
   "metadata": {},
   "outputs": [],
   "source": [
    "chr.merge = as.character(unique(seqnames(pairs.E2G.filter2)))\n",
    "list.res = list()\n",
    "for(chr.tmp in chr.merge){\n",
    "    list.res[[chr.tmp]] = readRDS(paste(dir.output,\"chr\",chr.tmp,sep = \"/\"))\n",
    "}\n",
    "pairs.E2G.res = unlist(as(list.res, \"GRangesList\"))"
   ]
  },
  {
   "cell_type": "markdown",
   "id": "6ef1617e-3e2f-44f1-9245-007d569ca84d",
   "metadata": {},
   "source": [
    "Save results"
   ]
  },
  {
   "cell_type": "code",
   "execution_count": 17,
   "id": "48824f05-aedd-476c-88d6-ae58d1833fc9",
   "metadata": {},
   "outputs": [
    {
     "data": {
      "text/plain": [
       "GRanges object with 251226 ranges and 11 metadata columns:\n",
       "       seqnames              ranges strand |  TargetGene               PeakName\n",
       "          <Rle>           <IRanges>  <Rle> | <character>            <character>\n",
       "  chr1     chr1 100028525-100029358      * |         AGL chr1-100028525-10002..\n",
       "  chr1     chr1 100028525-100029358      * |      CDC14A chr1-100028525-10002..\n",
       "  chr1     chr1 100028525-100029358      * |        DPH5 chr1-100028525-10002..\n",
       "  chr1     chr1 100028525-100029358      * |        RTCA chr1-100028525-10002..\n",
       "  chr1     chr1 100028525-100029358      * |     SLC30A7 chr1-100028525-10002..\n",
       "   ...      ...                 ...    ... .         ...                    ...\n",
       "  chrX     chrX       989894-990618      * |      GTPBP6     chrX-989894-990618\n",
       "  chrX     chrX       989894-990618      * |       P2RY8     chrX-989894-990618\n",
       "  chrX     chrX       989894-990618      * |     SLC25A6     chrX-989894-990618\n",
       "  chrX     chrX     9995710-9996296      * |       TBL1X   chrX-9995710-9996296\n",
       "  chrX     chrX     9995710-9996296      * |        WWC3   chrX-9995710-9996296\n",
       "                     PairName       beta        se         z         p\n",
       "                  <character>  <numeric> <numeric> <numeric> <numeric>\n",
       "  chr1 chr1-100028525-10002..  0.0959736 0.2459078  0.390283  0.696328\n",
       "  chr1 chr1-100028525-10002.. -0.1340061 0.0692686 -1.934587  0.053041\n",
       "  chr1 chr1-100028525-10002..  0.3505138 0.2449436  1.430998  0.152431\n",
       "  chr1 chr1-100028525-10002..  0.2326602 0.2043407  1.138589  0.254874\n",
       "  chr1 chr1-100028525-10002..  0.1693778 0.1602870  1.056716  0.290641\n",
       "   ...                    ...        ...       ...       ...       ...\n",
       "  chrX chrX-989894-990618_G.. -0.0850070 0.1922124 -0.442255 0.6583044\n",
       "  chrX chrX-989894-990618_P..  0.0705837 0.0706066  0.999676 0.3174674\n",
       "  chrX chrX-989894-990618_S.. -0.0495133 0.0730515 -0.677786 0.4979073\n",
       "  chrX chrX-9995710-9996296.. -0.0479422 0.1498232 -0.319992 0.7489746\n",
       "  chrX chrX-9995710-9996296..  0.4154529 0.2312256  1.796743 0.0723765\n",
       "       boot_basic_p boot_basic_p.log10      sign boot_basic_p.log10.signed\n",
       "          <numeric>          <numeric> <numeric>                 <numeric>\n",
       "  chr1         0.70           0.154902         1                  0.154902\n",
       "  chr1         0.14           0.853872        -1                 -0.853872\n",
       "  chr1         0.22           0.657577         1                  0.657577\n",
       "  chr1         0.30           0.522879         1                  0.522879\n",
       "  chr1         0.36           0.443697         1                  0.443697\n",
       "   ...          ...                ...       ...                       ...\n",
       "  chrX         0.68           0.167491        -1                 -0.167491\n",
       "  chrX         0.48           0.318759         1                  0.318759\n",
       "  chrX         0.60           0.221849        -1                 -0.221849\n",
       "  chrX         1.00           0.000000        -1                  0.000000\n",
       "  chrX         0.06           1.221849         1                  1.221849\n",
       "  -------\n",
       "  seqinfo: 23 sequences from an unspecified genome; no seqlengths"
      ]
     },
     "metadata": {},
     "output_type": "display_data"
    }
   ],
   "source": [
    "saveRDS(pairs.E2G.res,\n",
    "        paste(dir.output,\"pairs.E2G.res.rds\",sep = \"/\"))\n",
    "pairs.E2G.res"
   ]
  },
  {
   "cell_type": "code",
   "execution_count": 18,
   "id": "2297128a-9ed6-42b8-90c7-459969fb5afd",
   "metadata": {},
   "outputs": [
    {
     "data": {
      "text/html": [
       "<table class=\"dataframe\">\n",
       "<caption>A data.frame: 251226 × 13</caption>\n",
       "<thead>\n",
       "\t<tr><th scope=col>chr</th><th scope=col>start</th><th scope=col>end</th><th scope=col>TargetGene</th><th scope=col>CellType</th><th scope=col>beta</th><th scope=col>se</th><th scope=col>z</th><th scope=col>p</th><th scope=col>boot_basic_p</th><th scope=col>boot_basic_p.log10</th><th scope=col>sign</th><th scope=col>boot_basic_p.log10.signed</th></tr>\n",
       "\t<tr><th scope=col>&lt;fct&gt;</th><th scope=col>&lt;int&gt;</th><th scope=col>&lt;int&gt;</th><th scope=col>&lt;chr&gt;</th><th scope=col>&lt;chr&gt;</th><th scope=col>&lt;dbl&gt;</th><th scope=col>&lt;dbl&gt;</th><th scope=col>&lt;dbl&gt;</th><th scope=col>&lt;dbl&gt;</th><th scope=col>&lt;dbl&gt;</th><th scope=col>&lt;dbl&gt;</th><th scope=col>&lt;dbl&gt;</th><th scope=col>&lt;dbl&gt;</th></tr>\n",
       "</thead>\n",
       "<tbody>\n",
       "\t<tr><td>chr1</td><td>100028525</td><td>100029358</td><td>AGL     </td><td>K562</td><td> 0.09597357</td><td>0.24590784</td><td> 0.3902827</td><td>0.696327544</td><td>0.70</td><td>0.154901960</td><td> 1</td><td> 0.154901960</td></tr>\n",
       "\t<tr><td>chr1</td><td>100028525</td><td>100029358</td><td>CDC14A  </td><td>K562</td><td>-0.13400606</td><td>0.06926855</td><td>-1.9345872</td><td>0.053040970</td><td>0.14</td><td>0.853871964</td><td>-1</td><td>-0.853871964</td></tr>\n",
       "\t<tr><td>chr1</td><td>100028525</td><td>100029358</td><td>DPH5    </td><td>K562</td><td> 0.35051380</td><td>0.24494358</td><td> 1.4309981</td><td>0.152430753</td><td>0.22</td><td>0.657577319</td><td> 1</td><td> 0.657577319</td></tr>\n",
       "\t<tr><td>chr1</td><td>100028525</td><td>100029358</td><td>RTCA    </td><td>K562</td><td> 0.23266017</td><td>0.20434073</td><td> 1.1385893</td><td>0.254874484</td><td>0.30</td><td>0.522878745</td><td> 1</td><td> 0.522878745</td></tr>\n",
       "\t<tr><td>chr1</td><td>100028525</td><td>100029358</td><td>SLC30A7 </td><td>K562</td><td> 0.16937778</td><td>0.16028701</td><td> 1.0567156</td><td>0.290641416</td><td>0.36</td><td>0.443697499</td><td> 1</td><td> 0.443697499</td></tr>\n",
       "\t<tr><td>chr1</td><td>100028525</td><td>100029358</td><td>SLC35A3 </td><td>K562</td><td>-0.19681296</td><td>0.30386673</td><td>-0.6476950</td><td>0.517182235</td><td>0.68</td><td>0.167491087</td><td>-1</td><td>-0.167491087</td></tr>\n",
       "\t<tr><td>chr1</td><td>100028525</td><td>100029358</td><td>TRMT13  </td><td>K562</td><td> 0.11750007</td><td>0.22861351</td><td> 0.5139682</td><td>0.607274223</td><td>0.52</td><td>0.283996656</td><td> 1</td><td> 0.283996656</td></tr>\n",
       "\t<tr><td>chr1</td><td>100037727</td><td>100039288</td><td>AGL     </td><td>K562</td><td> 0.05090582</td><td>0.17270510</td><td> 0.2947557</td><td>0.768180500</td><td>0.86</td><td>0.065501549</td><td> 1</td><td> 0.065501549</td></tr>\n",
       "\t<tr><td>chr1</td><td>100037727</td><td>100039288</td><td>CDC14A  </td><td>K562</td><td> 0.07732619</td><td>0.04465625</td><td> 1.7315870</td><td>0.083347116</td><td>0.32</td><td>0.494850022</td><td> 1</td><td> 0.494850022</td></tr>\n",
       "\t<tr><td>chr1</td><td>100037727</td><td>100039288</td><td>DPH5    </td><td>K562</td><td>-0.22332976</td><td>0.18456480</td><td>-1.2100344</td><td>0.226265688</td><td>0.44</td><td>0.356547324</td><td>-1</td><td>-0.356547324</td></tr>\n",
       "\t<tr><td>chr1</td><td>100037727</td><td>100039288</td><td>RTCA    </td><td>K562</td><td> 0.07303535</td><td>0.15070761</td><td> 0.4846162</td><td>0.627948603</td><td>0.68</td><td>0.167491087</td><td> 1</td><td> 0.167491087</td></tr>\n",
       "\t<tr><td>chr1</td><td>100037727</td><td>100039288</td><td>SLC30A7 </td><td>K562</td><td> 0.04401888</td><td>0.11407725</td><td> 0.3858690</td><td>0.699593685</td><td>0.70</td><td>0.154901960</td><td> 1</td><td> 0.154901960</td></tr>\n",
       "\t<tr><td>chr1</td><td>100037727</td><td>100039288</td><td>SLC35A3 </td><td>K562</td><td> 0.14138539</td><td>0.19035925</td><td> 0.7427293</td><td>0.457645582</td><td>0.40</td><td>0.397940009</td><td> 1</td><td> 0.397940009</td></tr>\n",
       "\t<tr><td>chr1</td><td>100037727</td><td>100039288</td><td>TRMT13  </td><td>K562</td><td> 0.06263253</td><td>0.16096512</td><td> 0.3891062</td><td>0.697197550</td><td>0.76</td><td>0.119186408</td><td> 1</td><td> 0.119186408</td></tr>\n",
       "\t<tr><td>chr1</td><td>100132479</td><td>100133489</td><td>AGL     </td><td>K562</td><td>-0.16461596</td><td>0.16910912</td><td>-0.9734304</td><td>0.330339418</td><td>0.42</td><td>0.376750710</td><td>-1</td><td>-0.376750710</td></tr>\n",
       "\t<tr><td>chr1</td><td>100132479</td><td>100133489</td><td>CDC14A  </td><td>K562</td><td> 0.06886131</td><td>0.04265355</td><td> 1.6144334</td><td>0.106433459</td><td>0.24</td><td>0.619788758</td><td> 1</td><td> 0.619788758</td></tr>\n",
       "\t<tr><td>chr1</td><td>100132479</td><td>100133489</td><td>DPH5    </td><td>K562</td><td> 0.21671836</td><td>0.18153495</td><td> 1.1938107</td><td>0.232552022</td><td>0.28</td><td>0.552841969</td><td> 1</td><td> 0.552841969</td></tr>\n",
       "\t<tr><td>chr1</td><td>100132479</td><td>100133489</td><td>RTCA    </td><td>K562</td><td>-0.27097187</td><td>0.14941343</td><td>-1.8135710</td><td>0.069743797</td><td>0.10</td><td>1.000000000</td><td>-1</td><td>-1.000000000</td></tr>\n",
       "\t<tr><td>chr1</td><td>100132479</td><td>100133489</td><td>SLC30A7 </td><td>K562</td><td> 0.18187738</td><td>0.10957634</td><td> 1.6598235</td><td>0.096949968</td><td>0.16</td><td>0.795880017</td><td> 1</td><td> 0.795880017</td></tr>\n",
       "\t<tr><td>chr1</td><td>100132479</td><td>100133489</td><td>SLC35A3 </td><td>K562</td><td> 0.47886780</td><td>0.18027155</td><td> 2.6563692</td><td>0.007898708</td><td>0.02</td><td>1.698970004</td><td> 1</td><td> 1.698970004</td></tr>\n",
       "\t<tr><td>chr1</td><td>100132479</td><td>100133489</td><td>TRMT13  </td><td>K562</td><td>-0.01938218</td><td>0.15562726</td><td>-0.1245423</td><td>0.900885884</td><td>0.98</td><td>0.008773924</td><td>-1</td><td>-0.008773924</td></tr>\n",
       "\t<tr><td>chr1</td><td>  1001739</td><td>  1002126</td><td>AURKAIP1</td><td>K562</td><td>-0.13212639</td><td>0.19064848</td><td>-0.6930367</td><td>0.488286534</td><td>0.54</td><td>0.267606240</td><td>-1</td><td>-0.267606240</td></tr>\n",
       "\t<tr><td>chr1</td><td>  1001739</td><td>  1002126</td><td>CCNL2   </td><td>K562</td><td>-0.30798430</td><td>0.17048110</td><td>-1.8065598</td><td>0.070830939</td><td>0.06</td><td>1.221848750</td><td>-1</td><td>-1.221848750</td></tr>\n",
       "\t<tr><td>chr1</td><td>  1001739</td><td>  1002126</td><td>CDK11A  </td><td>K562</td><td>-0.56399279</td><td>0.32955863</td><td>-1.7113580</td><td>0.087015048</td><td>0.16</td><td>0.795880017</td><td>-1</td><td>-0.795880017</td></tr>\n",
       "\t<tr><td>chr1</td><td>  1001739</td><td>  1002126</td><td>CDK11B  </td><td>K562</td><td>-0.23257326</td><td>0.15105026</td><td>-1.5397078</td><td>0.123631603</td><td>0.14</td><td>0.853871964</td><td>-1</td><td>-0.853871964</td></tr>\n",
       "\t<tr><td>chr1</td><td>  1001739</td><td>  1002126</td><td>GNB1    </td><td>K562</td><td> 0.09706263</td><td>0.09712810</td><td> 0.9993259</td><td>0.317636828</td><td>0.34</td><td>0.468521083</td><td> 1</td><td> 0.468521083</td></tr>\n",
       "\t<tr><td>chr1</td><td>  1001739</td><td>  1002126</td><td>INTS11  </td><td>K562</td><td>-0.16545161</td><td>0.22609654</td><td>-0.7317742</td><td>0.464306411</td><td>0.64</td><td>0.193820026</td><td>-1</td><td>-0.193820026</td></tr>\n",
       "\t<tr><td>chr1</td><td>  1001739</td><td>  1002126</td><td>ISG15   </td><td>K562</td><td>-0.04887109</td><td>0.15299279</td><td>-0.3194339</td><td>0.749397488</td><td>0.90</td><td>0.045757491</td><td>-1</td><td>-0.045757491</td></tr>\n",
       "\t<tr><td>chr1</td><td>  1001739</td><td>  1002126</td><td>MIB2    </td><td>K562</td><td>-0.14744087</td><td>0.22100653</td><td>-0.6671336</td><td>0.504686830</td><td>0.56</td><td>0.251811973</td><td>-1</td><td>-0.251811973</td></tr>\n",
       "\t<tr><td>chr1</td><td>  1001739</td><td>  1002126</td><td>MRPL20  </td><td>K562</td><td>-0.35867297</td><td>0.18558753</td><td>-1.9326350</td><td>0.053281172</td><td>0.12</td><td>0.920818754</td><td>-1</td><td>-0.920818754</td></tr>\n",
       "\t<tr><td>⋮</td><td>⋮</td><td>⋮</td><td>⋮</td><td>⋮</td><td>⋮</td><td>⋮</td><td>⋮</td><td>⋮</td><td>⋮</td><td>⋮</td><td>⋮</td><td>⋮</td></tr>\n",
       "\t<tr><td>chrX</td><td>80808024</td><td>80808536</td><td>SH3BGRL</td><td>K562</td><td> 0.020151607</td><td>0.10699634</td><td> 0.18833923</td><td>0.85061074</td><td>0.82</td><td>0.08618615</td><td> 1</td><td> 0.08618615</td></tr>\n",
       "\t<tr><td>chrX</td><td>80809264</td><td>80810353</td><td>BRWD3  </td><td>K562</td><td>-0.007479048</td><td>0.12179539</td><td>-0.06140666</td><td>0.95103535</td><td>0.88</td><td>0.05551733</td><td>-1</td><td>-0.05551733</td></tr>\n",
       "\t<tr><td>chrX</td><td>80809264</td><td>80810353</td><td>SH3BGRL</td><td>K562</td><td>-0.093170894</td><td>0.08476515</td><td>-1.09916510</td><td>0.27169606</td><td>0.28</td><td>0.55284197</td><td>-1</td><td>-0.55284197</td></tr>\n",
       "\t<tr><td>chrX</td><td>81120690</td><td>81122326</td><td>BRWD3  </td><td>K562</td><td>-0.177055267</td><td>0.18255132</td><td>-0.96989310</td><td>0.33209978</td><td>0.36</td><td>0.44369750</td><td>-1</td><td>-0.44369750</td></tr>\n",
       "\t<tr><td>chrX</td><td>81120690</td><td>81122326</td><td>SH3BGRL</td><td>K562</td><td>-0.222117097</td><td>0.12627448</td><td>-1.75900221</td><td>0.07857713</td><td>0.16</td><td>0.79588002</td><td>-1</td><td>-0.79588002</td></tr>\n",
       "\t<tr><td>chrX</td><td>81201609</td><td>81202369</td><td>BRWD3  </td><td>K562</td><td> 0.138152438</td><td>0.16497696</td><td> 0.83740443</td><td>0.40236527</td><td>0.42</td><td>0.37675071</td><td> 1</td><td> 0.37675071</td></tr>\n",
       "\t<tr><td>chrX</td><td>81201609</td><td>81202369</td><td>SH3BGRL</td><td>K562</td><td> 0.045166815</td><td>0.11614405</td><td> 0.38888617</td><td>0.69736035</td><td>0.78</td><td>0.10790540</td><td> 1</td><td> 0.10790540</td></tr>\n",
       "\t<tr><td>chrX</td><td>86047076</td><td>86047963</td><td>CHM    </td><td>K562</td><td> 0.008938182</td><td>0.22928684</td><td> 0.03898254</td><td>0.96890431</td><td>0.94</td><td>0.02687215</td><td> 1</td><td> 0.02687215</td></tr>\n",
       "\t<tr><td>chrX</td><td> 9340691</td><td> 9342282</td><td>TBL1X  </td><td>K562</td><td> 0.014021279</td><td>0.11134588</td><td> 0.12592543</td><td>0.89979095</td><td>0.82</td><td>0.08618615</td><td> 1</td><td> 0.08618615</td></tr>\n",
       "\t<tr><td>chrX</td><td> 9340691</td><td> 9342282</td><td>WWC3   </td><td>K562</td><td>-0.165367562</td><td>0.22235168</td><td>-0.74372078</td><td>0.45704541</td><td>0.80</td><td>0.09691001</td><td>-1</td><td>-0.09691001</td></tr>\n",
       "\t<tr><td>chrX</td><td> 9342416</td><td> 9343028</td><td>TBL1X  </td><td>K562</td><td> 0.071482311</td><td>0.15284138</td><td> 0.46768951</td><td>0.64000664</td><td>0.64</td><td>0.19382003</td><td> 1</td><td> 0.19382003</td></tr>\n",
       "\t<tr><td>chrX</td><td> 9342416</td><td> 9343028</td><td>WWC3   </td><td>K562</td><td>-0.027369929</td><td>0.29821459</td><td>-0.09177931</td><td>0.92687338</td><td>0.92</td><td>0.03621217</td><td>-1</td><td>-0.03621217</td></tr>\n",
       "\t<tr><td>chrX</td><td> 9351199</td><td> 9352215</td><td>TBL1X  </td><td>K562</td><td>-0.071390807</td><td>0.12473661</td><td>-0.57233242</td><td>0.56709679</td><td>0.46</td><td>0.33724217</td><td>-1</td><td>-0.33724217</td></tr>\n",
       "\t<tr><td>chrX</td><td> 9351199</td><td> 9352215</td><td>WWC3   </td><td>K562</td><td>-0.111633692</td><td>0.23618840</td><td>-0.47264681</td><td>0.63646518</td><td>0.72</td><td>0.14266750</td><td>-1</td><td>-0.14266750</td></tr>\n",
       "\t<tr><td>chrX</td><td> 9456198</td><td> 9457116</td><td>TBL1X  </td><td>K562</td><td>-0.128369920</td><td>0.13455125</td><td>-0.95405964</td><td>0.34005346</td><td>0.38</td><td>0.42021640</td><td>-1</td><td>-0.42021640</td></tr>\n",
       "\t<tr><td>chrX</td><td> 9456198</td><td> 9457116</td><td>WWC3   </td><td>K562</td><td>-0.152432038</td><td>0.25438038</td><td>-0.59922876</td><td>0.54902035</td><td>0.46</td><td>0.33724217</td><td>-1</td><td>-0.33724217</td></tr>\n",
       "\t<tr><td>chrX</td><td> 9462827</td><td> 9463506</td><td>TBL1X  </td><td>K562</td><td> 0.097326509</td><td>0.09272940</td><td> 1.04957548</td><td>0.29391334</td><td>0.46</td><td>0.33724217</td><td> 1</td><td> 0.33724217</td></tr>\n",
       "\t<tr><td>chrX</td><td> 9462827</td><td> 9463506</td><td>WWC3   </td><td>K562</td><td>-0.026244363</td><td>0.17937539</td><td>-0.14630972</td><td>0.88367689</td><td>0.94</td><td>0.02687215</td><td>-1</td><td>-0.02687215</td></tr>\n",
       "\t<tr><td>chrX</td><td> 9464749</td><td> 9466131</td><td>TBL1X  </td><td>K562</td><td>-0.087047380</td><td>0.10407045</td><td>-0.83642746</td><td>0.40291447</td><td>0.60</td><td>0.22184875</td><td>-1</td><td>-0.22184875</td></tr>\n",
       "\t<tr><td>chrX</td><td> 9464749</td><td> 9466131</td><td>WWC3   </td><td>K562</td><td>-0.153398441</td><td>0.19895119</td><td>-0.77103554</td><td>0.44068586</td><td>0.50</td><td>0.30103000</td><td>-1</td><td>-0.30103000</td></tr>\n",
       "\t<tr><td>chrX</td><td> 9530517</td><td> 9531433</td><td>TBL1X  </td><td>K562</td><td>-0.474606490</td><td>0.21267136</td><td>-2.23164273</td><td>0.02563858</td><td>0.10</td><td>1.00000000</td><td>-1</td><td>-1.00000000</td></tr>\n",
       "\t<tr><td>chrX</td><td> 9530517</td><td> 9531433</td><td>WWC3   </td><td>K562</td><td>-0.261217681</td><td>0.36191739</td><td>-0.72176050</td><td>0.47044174</td><td>0.46</td><td>0.33724217</td><td>-1</td><td>-0.33724217</td></tr>\n",
       "\t<tr><td>chrX</td><td>96684342</td><td>96685558</td><td>DIAPH2 </td><td>K562</td><td>-0.022669671</td><td>0.09035477</td><td>-0.25089622</td><td>0.80189435</td><td>0.88</td><td>0.05551733</td><td>-1</td><td>-0.05551733</td></tr>\n",
       "\t<tr><td>chrX</td><td>  989894</td><td>  990618</td><td>AKAP17A</td><td>K562</td><td>-0.124733934</td><td>0.15446743</td><td>-0.80750960</td><td>0.41937295</td><td>0.48</td><td>0.31875876</td><td>-1</td><td>-0.31875876</td></tr>\n",
       "\t<tr><td>chrX</td><td>  989894</td><td>  990618</td><td>ASMTL  </td><td>K562</td><td> 0.026329784</td><td>0.19072758</td><td> 0.13804917</td><td>0.89020156</td><td>1.00</td><td>0.00000000</td><td> 1</td><td> 0.00000000</td></tr>\n",
       "\t<tr><td>chrX</td><td>  989894</td><td>  990618</td><td>GTPBP6 </td><td>K562</td><td>-0.085006962</td><td>0.19221239</td><td>-0.44225537</td><td>0.65830442</td><td>0.68</td><td>0.16749109</td><td>-1</td><td>-0.16749109</td></tr>\n",
       "\t<tr><td>chrX</td><td>  989894</td><td>  990618</td><td>P2RY8  </td><td>K562</td><td> 0.070583661</td><td>0.07060655</td><td> 0.99967582</td><td>0.31746742</td><td>0.48</td><td>0.31875876</td><td> 1</td><td> 0.31875876</td></tr>\n",
       "\t<tr><td>chrX</td><td>  989894</td><td>  990618</td><td>SLC25A6</td><td>K562</td><td>-0.049513275</td><td>0.07305147</td><td>-0.67778612</td><td>0.49790731</td><td>0.60</td><td>0.22184875</td><td>-1</td><td>-0.22184875</td></tr>\n",
       "\t<tr><td>chrX</td><td> 9995710</td><td> 9996296</td><td>TBL1X  </td><td>K562</td><td>-0.047942194</td><td>0.14982324</td><td>-0.31999171</td><td>0.74897461</td><td>1.00</td><td>0.00000000</td><td>-1</td><td> 0.00000000</td></tr>\n",
       "\t<tr><td>chrX</td><td> 9995710</td><td> 9996296</td><td>WWC3   </td><td>K562</td><td> 0.415452902</td><td>0.23122559</td><td> 1.79674275</td><td>0.07237647</td><td>0.06</td><td>1.22184875</td><td> 1</td><td> 1.22184875</td></tr>\n",
       "</tbody>\n",
       "</table>\n"
      ],
      "text/latex": [
       "A data.frame: 251226 × 13\n",
       "\\begin{tabular}{lllllllllllll}\n",
       " chr & start & end & TargetGene & CellType & beta & se & z & p & boot\\_basic\\_p & boot\\_basic\\_p.log10 & sign & boot\\_basic\\_p.log10.signed\\\\\n",
       " <fct> & <int> & <int> & <chr> & <chr> & <dbl> & <dbl> & <dbl> & <dbl> & <dbl> & <dbl> & <dbl> & <dbl>\\\\\n",
       "\\hline\n",
       "\t chr1 & 100028525 & 100029358 & AGL      & K562 &  0.09597357 & 0.24590784 &  0.3902827 & 0.696327544 & 0.70 & 0.154901960 &  1 &  0.154901960\\\\\n",
       "\t chr1 & 100028525 & 100029358 & CDC14A   & K562 & -0.13400606 & 0.06926855 & -1.9345872 & 0.053040970 & 0.14 & 0.853871964 & -1 & -0.853871964\\\\\n",
       "\t chr1 & 100028525 & 100029358 & DPH5     & K562 &  0.35051380 & 0.24494358 &  1.4309981 & 0.152430753 & 0.22 & 0.657577319 &  1 &  0.657577319\\\\\n",
       "\t chr1 & 100028525 & 100029358 & RTCA     & K562 &  0.23266017 & 0.20434073 &  1.1385893 & 0.254874484 & 0.30 & 0.522878745 &  1 &  0.522878745\\\\\n",
       "\t chr1 & 100028525 & 100029358 & SLC30A7  & K562 &  0.16937778 & 0.16028701 &  1.0567156 & 0.290641416 & 0.36 & 0.443697499 &  1 &  0.443697499\\\\\n",
       "\t chr1 & 100028525 & 100029358 & SLC35A3  & K562 & -0.19681296 & 0.30386673 & -0.6476950 & 0.517182235 & 0.68 & 0.167491087 & -1 & -0.167491087\\\\\n",
       "\t chr1 & 100028525 & 100029358 & TRMT13   & K562 &  0.11750007 & 0.22861351 &  0.5139682 & 0.607274223 & 0.52 & 0.283996656 &  1 &  0.283996656\\\\\n",
       "\t chr1 & 100037727 & 100039288 & AGL      & K562 &  0.05090582 & 0.17270510 &  0.2947557 & 0.768180500 & 0.86 & 0.065501549 &  1 &  0.065501549\\\\\n",
       "\t chr1 & 100037727 & 100039288 & CDC14A   & K562 &  0.07732619 & 0.04465625 &  1.7315870 & 0.083347116 & 0.32 & 0.494850022 &  1 &  0.494850022\\\\\n",
       "\t chr1 & 100037727 & 100039288 & DPH5     & K562 & -0.22332976 & 0.18456480 & -1.2100344 & 0.226265688 & 0.44 & 0.356547324 & -1 & -0.356547324\\\\\n",
       "\t chr1 & 100037727 & 100039288 & RTCA     & K562 &  0.07303535 & 0.15070761 &  0.4846162 & 0.627948603 & 0.68 & 0.167491087 &  1 &  0.167491087\\\\\n",
       "\t chr1 & 100037727 & 100039288 & SLC30A7  & K562 &  0.04401888 & 0.11407725 &  0.3858690 & 0.699593685 & 0.70 & 0.154901960 &  1 &  0.154901960\\\\\n",
       "\t chr1 & 100037727 & 100039288 & SLC35A3  & K562 &  0.14138539 & 0.19035925 &  0.7427293 & 0.457645582 & 0.40 & 0.397940009 &  1 &  0.397940009\\\\\n",
       "\t chr1 & 100037727 & 100039288 & TRMT13   & K562 &  0.06263253 & 0.16096512 &  0.3891062 & 0.697197550 & 0.76 & 0.119186408 &  1 &  0.119186408\\\\\n",
       "\t chr1 & 100132479 & 100133489 & AGL      & K562 & -0.16461596 & 0.16910912 & -0.9734304 & 0.330339418 & 0.42 & 0.376750710 & -1 & -0.376750710\\\\\n",
       "\t chr1 & 100132479 & 100133489 & CDC14A   & K562 &  0.06886131 & 0.04265355 &  1.6144334 & 0.106433459 & 0.24 & 0.619788758 &  1 &  0.619788758\\\\\n",
       "\t chr1 & 100132479 & 100133489 & DPH5     & K562 &  0.21671836 & 0.18153495 &  1.1938107 & 0.232552022 & 0.28 & 0.552841969 &  1 &  0.552841969\\\\\n",
       "\t chr1 & 100132479 & 100133489 & RTCA     & K562 & -0.27097187 & 0.14941343 & -1.8135710 & 0.069743797 & 0.10 & 1.000000000 & -1 & -1.000000000\\\\\n",
       "\t chr1 & 100132479 & 100133489 & SLC30A7  & K562 &  0.18187738 & 0.10957634 &  1.6598235 & 0.096949968 & 0.16 & 0.795880017 &  1 &  0.795880017\\\\\n",
       "\t chr1 & 100132479 & 100133489 & SLC35A3  & K562 &  0.47886780 & 0.18027155 &  2.6563692 & 0.007898708 & 0.02 & 1.698970004 &  1 &  1.698970004\\\\\n",
       "\t chr1 & 100132479 & 100133489 & TRMT13   & K562 & -0.01938218 & 0.15562726 & -0.1245423 & 0.900885884 & 0.98 & 0.008773924 & -1 & -0.008773924\\\\\n",
       "\t chr1 &   1001739 &   1002126 & AURKAIP1 & K562 & -0.13212639 & 0.19064848 & -0.6930367 & 0.488286534 & 0.54 & 0.267606240 & -1 & -0.267606240\\\\\n",
       "\t chr1 &   1001739 &   1002126 & CCNL2    & K562 & -0.30798430 & 0.17048110 & -1.8065598 & 0.070830939 & 0.06 & 1.221848750 & -1 & -1.221848750\\\\\n",
       "\t chr1 &   1001739 &   1002126 & CDK11A   & K562 & -0.56399279 & 0.32955863 & -1.7113580 & 0.087015048 & 0.16 & 0.795880017 & -1 & -0.795880017\\\\\n",
       "\t chr1 &   1001739 &   1002126 & CDK11B   & K562 & -0.23257326 & 0.15105026 & -1.5397078 & 0.123631603 & 0.14 & 0.853871964 & -1 & -0.853871964\\\\\n",
       "\t chr1 &   1001739 &   1002126 & GNB1     & K562 &  0.09706263 & 0.09712810 &  0.9993259 & 0.317636828 & 0.34 & 0.468521083 &  1 &  0.468521083\\\\\n",
       "\t chr1 &   1001739 &   1002126 & INTS11   & K562 & -0.16545161 & 0.22609654 & -0.7317742 & 0.464306411 & 0.64 & 0.193820026 & -1 & -0.193820026\\\\\n",
       "\t chr1 &   1001739 &   1002126 & ISG15    & K562 & -0.04887109 & 0.15299279 & -0.3194339 & 0.749397488 & 0.90 & 0.045757491 & -1 & -0.045757491\\\\\n",
       "\t chr1 &   1001739 &   1002126 & MIB2     & K562 & -0.14744087 & 0.22100653 & -0.6671336 & 0.504686830 & 0.56 & 0.251811973 & -1 & -0.251811973\\\\\n",
       "\t chr1 &   1001739 &   1002126 & MRPL20   & K562 & -0.35867297 & 0.18558753 & -1.9326350 & 0.053281172 & 0.12 & 0.920818754 & -1 & -0.920818754\\\\\n",
       "\t ⋮ & ⋮ & ⋮ & ⋮ & ⋮ & ⋮ & ⋮ & ⋮ & ⋮ & ⋮ & ⋮ & ⋮ & ⋮\\\\\n",
       "\t chrX & 80808024 & 80808536 & SH3BGRL & K562 &  0.020151607 & 0.10699634 &  0.18833923 & 0.85061074 & 0.82 & 0.08618615 &  1 &  0.08618615\\\\\n",
       "\t chrX & 80809264 & 80810353 & BRWD3   & K562 & -0.007479048 & 0.12179539 & -0.06140666 & 0.95103535 & 0.88 & 0.05551733 & -1 & -0.05551733\\\\\n",
       "\t chrX & 80809264 & 80810353 & SH3BGRL & K562 & -0.093170894 & 0.08476515 & -1.09916510 & 0.27169606 & 0.28 & 0.55284197 & -1 & -0.55284197\\\\\n",
       "\t chrX & 81120690 & 81122326 & BRWD3   & K562 & -0.177055267 & 0.18255132 & -0.96989310 & 0.33209978 & 0.36 & 0.44369750 & -1 & -0.44369750\\\\\n",
       "\t chrX & 81120690 & 81122326 & SH3BGRL & K562 & -0.222117097 & 0.12627448 & -1.75900221 & 0.07857713 & 0.16 & 0.79588002 & -1 & -0.79588002\\\\\n",
       "\t chrX & 81201609 & 81202369 & BRWD3   & K562 &  0.138152438 & 0.16497696 &  0.83740443 & 0.40236527 & 0.42 & 0.37675071 &  1 &  0.37675071\\\\\n",
       "\t chrX & 81201609 & 81202369 & SH3BGRL & K562 &  0.045166815 & 0.11614405 &  0.38888617 & 0.69736035 & 0.78 & 0.10790540 &  1 &  0.10790540\\\\\n",
       "\t chrX & 86047076 & 86047963 & CHM     & K562 &  0.008938182 & 0.22928684 &  0.03898254 & 0.96890431 & 0.94 & 0.02687215 &  1 &  0.02687215\\\\\n",
       "\t chrX &  9340691 &  9342282 & TBL1X   & K562 &  0.014021279 & 0.11134588 &  0.12592543 & 0.89979095 & 0.82 & 0.08618615 &  1 &  0.08618615\\\\\n",
       "\t chrX &  9340691 &  9342282 & WWC3    & K562 & -0.165367562 & 0.22235168 & -0.74372078 & 0.45704541 & 0.80 & 0.09691001 & -1 & -0.09691001\\\\\n",
       "\t chrX &  9342416 &  9343028 & TBL1X   & K562 &  0.071482311 & 0.15284138 &  0.46768951 & 0.64000664 & 0.64 & 0.19382003 &  1 &  0.19382003\\\\\n",
       "\t chrX &  9342416 &  9343028 & WWC3    & K562 & -0.027369929 & 0.29821459 & -0.09177931 & 0.92687338 & 0.92 & 0.03621217 & -1 & -0.03621217\\\\\n",
       "\t chrX &  9351199 &  9352215 & TBL1X   & K562 & -0.071390807 & 0.12473661 & -0.57233242 & 0.56709679 & 0.46 & 0.33724217 & -1 & -0.33724217\\\\\n",
       "\t chrX &  9351199 &  9352215 & WWC3    & K562 & -0.111633692 & 0.23618840 & -0.47264681 & 0.63646518 & 0.72 & 0.14266750 & -1 & -0.14266750\\\\\n",
       "\t chrX &  9456198 &  9457116 & TBL1X   & K562 & -0.128369920 & 0.13455125 & -0.95405964 & 0.34005346 & 0.38 & 0.42021640 & -1 & -0.42021640\\\\\n",
       "\t chrX &  9456198 &  9457116 & WWC3    & K562 & -0.152432038 & 0.25438038 & -0.59922876 & 0.54902035 & 0.46 & 0.33724217 & -1 & -0.33724217\\\\\n",
       "\t chrX &  9462827 &  9463506 & TBL1X   & K562 &  0.097326509 & 0.09272940 &  1.04957548 & 0.29391334 & 0.46 & 0.33724217 &  1 &  0.33724217\\\\\n",
       "\t chrX &  9462827 &  9463506 & WWC3    & K562 & -0.026244363 & 0.17937539 & -0.14630972 & 0.88367689 & 0.94 & 0.02687215 & -1 & -0.02687215\\\\\n",
       "\t chrX &  9464749 &  9466131 & TBL1X   & K562 & -0.087047380 & 0.10407045 & -0.83642746 & 0.40291447 & 0.60 & 0.22184875 & -1 & -0.22184875\\\\\n",
       "\t chrX &  9464749 &  9466131 & WWC3    & K562 & -0.153398441 & 0.19895119 & -0.77103554 & 0.44068586 & 0.50 & 0.30103000 & -1 & -0.30103000\\\\\n",
       "\t chrX &  9530517 &  9531433 & TBL1X   & K562 & -0.474606490 & 0.21267136 & -2.23164273 & 0.02563858 & 0.10 & 1.00000000 & -1 & -1.00000000\\\\\n",
       "\t chrX &  9530517 &  9531433 & WWC3    & K562 & -0.261217681 & 0.36191739 & -0.72176050 & 0.47044174 & 0.46 & 0.33724217 & -1 & -0.33724217\\\\\n",
       "\t chrX & 96684342 & 96685558 & DIAPH2  & K562 & -0.022669671 & 0.09035477 & -0.25089622 & 0.80189435 & 0.88 & 0.05551733 & -1 & -0.05551733\\\\\n",
       "\t chrX &   989894 &   990618 & AKAP17A & K562 & -0.124733934 & 0.15446743 & -0.80750960 & 0.41937295 & 0.48 & 0.31875876 & -1 & -0.31875876\\\\\n",
       "\t chrX &   989894 &   990618 & ASMTL   & K562 &  0.026329784 & 0.19072758 &  0.13804917 & 0.89020156 & 1.00 & 0.00000000 &  1 &  0.00000000\\\\\n",
       "\t chrX &   989894 &   990618 & GTPBP6  & K562 & -0.085006962 & 0.19221239 & -0.44225537 & 0.65830442 & 0.68 & 0.16749109 & -1 & -0.16749109\\\\\n",
       "\t chrX &   989894 &   990618 & P2RY8   & K562 &  0.070583661 & 0.07060655 &  0.99967582 & 0.31746742 & 0.48 & 0.31875876 &  1 &  0.31875876\\\\\n",
       "\t chrX &   989894 &   990618 & SLC25A6 & K562 & -0.049513275 & 0.07305147 & -0.67778612 & 0.49790731 & 0.60 & 0.22184875 & -1 & -0.22184875\\\\\n",
       "\t chrX &  9995710 &  9996296 & TBL1X   & K562 & -0.047942194 & 0.14982324 & -0.31999171 & 0.74897461 & 1.00 & 0.00000000 & -1 &  0.00000000\\\\\n",
       "\t chrX &  9995710 &  9996296 & WWC3    & K562 &  0.415452902 & 0.23122559 &  1.79674275 & 0.07237647 & 0.06 & 1.22184875 &  1 &  1.22184875\\\\\n",
       "\\end{tabular}\n"
      ],
      "text/markdown": [
       "\n",
       "A data.frame: 251226 × 13\n",
       "\n",
       "| chr &lt;fct&gt; | start &lt;int&gt; | end &lt;int&gt; | TargetGene &lt;chr&gt; | CellType &lt;chr&gt; | beta &lt;dbl&gt; | se &lt;dbl&gt; | z &lt;dbl&gt; | p &lt;dbl&gt; | boot_basic_p &lt;dbl&gt; | boot_basic_p.log10 &lt;dbl&gt; | sign &lt;dbl&gt; | boot_basic_p.log10.signed &lt;dbl&gt; |\n",
       "|---|---|---|---|---|---|---|---|---|---|---|---|---|\n",
       "| chr1 | 100028525 | 100029358 | AGL      | K562 |  0.09597357 | 0.24590784 |  0.3902827 | 0.696327544 | 0.70 | 0.154901960 |  1 |  0.154901960 |\n",
       "| chr1 | 100028525 | 100029358 | CDC14A   | K562 | -0.13400606 | 0.06926855 | -1.9345872 | 0.053040970 | 0.14 | 0.853871964 | -1 | -0.853871964 |\n",
       "| chr1 | 100028525 | 100029358 | DPH5     | K562 |  0.35051380 | 0.24494358 |  1.4309981 | 0.152430753 | 0.22 | 0.657577319 |  1 |  0.657577319 |\n",
       "| chr1 | 100028525 | 100029358 | RTCA     | K562 |  0.23266017 | 0.20434073 |  1.1385893 | 0.254874484 | 0.30 | 0.522878745 |  1 |  0.522878745 |\n",
       "| chr1 | 100028525 | 100029358 | SLC30A7  | K562 |  0.16937778 | 0.16028701 |  1.0567156 | 0.290641416 | 0.36 | 0.443697499 |  1 |  0.443697499 |\n",
       "| chr1 | 100028525 | 100029358 | SLC35A3  | K562 | -0.19681296 | 0.30386673 | -0.6476950 | 0.517182235 | 0.68 | 0.167491087 | -1 | -0.167491087 |\n",
       "| chr1 | 100028525 | 100029358 | TRMT13   | K562 |  0.11750007 | 0.22861351 |  0.5139682 | 0.607274223 | 0.52 | 0.283996656 |  1 |  0.283996656 |\n",
       "| chr1 | 100037727 | 100039288 | AGL      | K562 |  0.05090582 | 0.17270510 |  0.2947557 | 0.768180500 | 0.86 | 0.065501549 |  1 |  0.065501549 |\n",
       "| chr1 | 100037727 | 100039288 | CDC14A   | K562 |  0.07732619 | 0.04465625 |  1.7315870 | 0.083347116 | 0.32 | 0.494850022 |  1 |  0.494850022 |\n",
       "| chr1 | 100037727 | 100039288 | DPH5     | K562 | -0.22332976 | 0.18456480 | -1.2100344 | 0.226265688 | 0.44 | 0.356547324 | -1 | -0.356547324 |\n",
       "| chr1 | 100037727 | 100039288 | RTCA     | K562 |  0.07303535 | 0.15070761 |  0.4846162 | 0.627948603 | 0.68 | 0.167491087 |  1 |  0.167491087 |\n",
       "| chr1 | 100037727 | 100039288 | SLC30A7  | K562 |  0.04401888 | 0.11407725 |  0.3858690 | 0.699593685 | 0.70 | 0.154901960 |  1 |  0.154901960 |\n",
       "| chr1 | 100037727 | 100039288 | SLC35A3  | K562 |  0.14138539 | 0.19035925 |  0.7427293 | 0.457645582 | 0.40 | 0.397940009 |  1 |  0.397940009 |\n",
       "| chr1 | 100037727 | 100039288 | TRMT13   | K562 |  0.06263253 | 0.16096512 |  0.3891062 | 0.697197550 | 0.76 | 0.119186408 |  1 |  0.119186408 |\n",
       "| chr1 | 100132479 | 100133489 | AGL      | K562 | -0.16461596 | 0.16910912 | -0.9734304 | 0.330339418 | 0.42 | 0.376750710 | -1 | -0.376750710 |\n",
       "| chr1 | 100132479 | 100133489 | CDC14A   | K562 |  0.06886131 | 0.04265355 |  1.6144334 | 0.106433459 | 0.24 | 0.619788758 |  1 |  0.619788758 |\n",
       "| chr1 | 100132479 | 100133489 | DPH5     | K562 |  0.21671836 | 0.18153495 |  1.1938107 | 0.232552022 | 0.28 | 0.552841969 |  1 |  0.552841969 |\n",
       "| chr1 | 100132479 | 100133489 | RTCA     | K562 | -0.27097187 | 0.14941343 | -1.8135710 | 0.069743797 | 0.10 | 1.000000000 | -1 | -1.000000000 |\n",
       "| chr1 | 100132479 | 100133489 | SLC30A7  | K562 |  0.18187738 | 0.10957634 |  1.6598235 | 0.096949968 | 0.16 | 0.795880017 |  1 |  0.795880017 |\n",
       "| chr1 | 100132479 | 100133489 | SLC35A3  | K562 |  0.47886780 | 0.18027155 |  2.6563692 | 0.007898708 | 0.02 | 1.698970004 |  1 |  1.698970004 |\n",
       "| chr1 | 100132479 | 100133489 | TRMT13   | K562 | -0.01938218 | 0.15562726 | -0.1245423 | 0.900885884 | 0.98 | 0.008773924 | -1 | -0.008773924 |\n",
       "| chr1 |   1001739 |   1002126 | AURKAIP1 | K562 | -0.13212639 | 0.19064848 | -0.6930367 | 0.488286534 | 0.54 | 0.267606240 | -1 | -0.267606240 |\n",
       "| chr1 |   1001739 |   1002126 | CCNL2    | K562 | -0.30798430 | 0.17048110 | -1.8065598 | 0.070830939 | 0.06 | 1.221848750 | -1 | -1.221848750 |\n",
       "| chr1 |   1001739 |   1002126 | CDK11A   | K562 | -0.56399279 | 0.32955863 | -1.7113580 | 0.087015048 | 0.16 | 0.795880017 | -1 | -0.795880017 |\n",
       "| chr1 |   1001739 |   1002126 | CDK11B   | K562 | -0.23257326 | 0.15105026 | -1.5397078 | 0.123631603 | 0.14 | 0.853871964 | -1 | -0.853871964 |\n",
       "| chr1 |   1001739 |   1002126 | GNB1     | K562 |  0.09706263 | 0.09712810 |  0.9993259 | 0.317636828 | 0.34 | 0.468521083 |  1 |  0.468521083 |\n",
       "| chr1 |   1001739 |   1002126 | INTS11   | K562 | -0.16545161 | 0.22609654 | -0.7317742 | 0.464306411 | 0.64 | 0.193820026 | -1 | -0.193820026 |\n",
       "| chr1 |   1001739 |   1002126 | ISG15    | K562 | -0.04887109 | 0.15299279 | -0.3194339 | 0.749397488 | 0.90 | 0.045757491 | -1 | -0.045757491 |\n",
       "| chr1 |   1001739 |   1002126 | MIB2     | K562 | -0.14744087 | 0.22100653 | -0.6671336 | 0.504686830 | 0.56 | 0.251811973 | -1 | -0.251811973 |\n",
       "| chr1 |   1001739 |   1002126 | MRPL20   | K562 | -0.35867297 | 0.18558753 | -1.9326350 | 0.053281172 | 0.12 | 0.920818754 | -1 | -0.920818754 |\n",
       "| ⋮ | ⋮ | ⋮ | ⋮ | ⋮ | ⋮ | ⋮ | ⋮ | ⋮ | ⋮ | ⋮ | ⋮ | ⋮ |\n",
       "| chrX | 80808024 | 80808536 | SH3BGRL | K562 |  0.020151607 | 0.10699634 |  0.18833923 | 0.85061074 | 0.82 | 0.08618615 |  1 |  0.08618615 |\n",
       "| chrX | 80809264 | 80810353 | BRWD3   | K562 | -0.007479048 | 0.12179539 | -0.06140666 | 0.95103535 | 0.88 | 0.05551733 | -1 | -0.05551733 |\n",
       "| chrX | 80809264 | 80810353 | SH3BGRL | K562 | -0.093170894 | 0.08476515 | -1.09916510 | 0.27169606 | 0.28 | 0.55284197 | -1 | -0.55284197 |\n",
       "| chrX | 81120690 | 81122326 | BRWD3   | K562 | -0.177055267 | 0.18255132 | -0.96989310 | 0.33209978 | 0.36 | 0.44369750 | -1 | -0.44369750 |\n",
       "| chrX | 81120690 | 81122326 | SH3BGRL | K562 | -0.222117097 | 0.12627448 | -1.75900221 | 0.07857713 | 0.16 | 0.79588002 | -1 | -0.79588002 |\n",
       "| chrX | 81201609 | 81202369 | BRWD3   | K562 |  0.138152438 | 0.16497696 |  0.83740443 | 0.40236527 | 0.42 | 0.37675071 |  1 |  0.37675071 |\n",
       "| chrX | 81201609 | 81202369 | SH3BGRL | K562 |  0.045166815 | 0.11614405 |  0.38888617 | 0.69736035 | 0.78 | 0.10790540 |  1 |  0.10790540 |\n",
       "| chrX | 86047076 | 86047963 | CHM     | K562 |  0.008938182 | 0.22928684 |  0.03898254 | 0.96890431 | 0.94 | 0.02687215 |  1 |  0.02687215 |\n",
       "| chrX |  9340691 |  9342282 | TBL1X   | K562 |  0.014021279 | 0.11134588 |  0.12592543 | 0.89979095 | 0.82 | 0.08618615 |  1 |  0.08618615 |\n",
       "| chrX |  9340691 |  9342282 | WWC3    | K562 | -0.165367562 | 0.22235168 | -0.74372078 | 0.45704541 | 0.80 | 0.09691001 | -1 | -0.09691001 |\n",
       "| chrX |  9342416 |  9343028 | TBL1X   | K562 |  0.071482311 | 0.15284138 |  0.46768951 | 0.64000664 | 0.64 | 0.19382003 |  1 |  0.19382003 |\n",
       "| chrX |  9342416 |  9343028 | WWC3    | K562 | -0.027369929 | 0.29821459 | -0.09177931 | 0.92687338 | 0.92 | 0.03621217 | -1 | -0.03621217 |\n",
       "| chrX |  9351199 |  9352215 | TBL1X   | K562 | -0.071390807 | 0.12473661 | -0.57233242 | 0.56709679 | 0.46 | 0.33724217 | -1 | -0.33724217 |\n",
       "| chrX |  9351199 |  9352215 | WWC3    | K562 | -0.111633692 | 0.23618840 | -0.47264681 | 0.63646518 | 0.72 | 0.14266750 | -1 | -0.14266750 |\n",
       "| chrX |  9456198 |  9457116 | TBL1X   | K562 | -0.128369920 | 0.13455125 | -0.95405964 | 0.34005346 | 0.38 | 0.42021640 | -1 | -0.42021640 |\n",
       "| chrX |  9456198 |  9457116 | WWC3    | K562 | -0.152432038 | 0.25438038 | -0.59922876 | 0.54902035 | 0.46 | 0.33724217 | -1 | -0.33724217 |\n",
       "| chrX |  9462827 |  9463506 | TBL1X   | K562 |  0.097326509 | 0.09272940 |  1.04957548 | 0.29391334 | 0.46 | 0.33724217 |  1 |  0.33724217 |\n",
       "| chrX |  9462827 |  9463506 | WWC3    | K562 | -0.026244363 | 0.17937539 | -0.14630972 | 0.88367689 | 0.94 | 0.02687215 | -1 | -0.02687215 |\n",
       "| chrX |  9464749 |  9466131 | TBL1X   | K562 | -0.087047380 | 0.10407045 | -0.83642746 | 0.40291447 | 0.60 | 0.22184875 | -1 | -0.22184875 |\n",
       "| chrX |  9464749 |  9466131 | WWC3    | K562 | -0.153398441 | 0.19895119 | -0.77103554 | 0.44068586 | 0.50 | 0.30103000 | -1 | -0.30103000 |\n",
       "| chrX |  9530517 |  9531433 | TBL1X   | K562 | -0.474606490 | 0.21267136 | -2.23164273 | 0.02563858 | 0.10 | 1.00000000 | -1 | -1.00000000 |\n",
       "| chrX |  9530517 |  9531433 | WWC3    | K562 | -0.261217681 | 0.36191739 | -0.72176050 | 0.47044174 | 0.46 | 0.33724217 | -1 | -0.33724217 |\n",
       "| chrX | 96684342 | 96685558 | DIAPH2  | K562 | -0.022669671 | 0.09035477 | -0.25089622 | 0.80189435 | 0.88 | 0.05551733 | -1 | -0.05551733 |\n",
       "| chrX |   989894 |   990618 | AKAP17A | K562 | -0.124733934 | 0.15446743 | -0.80750960 | 0.41937295 | 0.48 | 0.31875876 | -1 | -0.31875876 |\n",
       "| chrX |   989894 |   990618 | ASMTL   | K562 |  0.026329784 | 0.19072758 |  0.13804917 | 0.89020156 | 1.00 | 0.00000000 |  1 |  0.00000000 |\n",
       "| chrX |   989894 |   990618 | GTPBP6  | K562 | -0.085006962 | 0.19221239 | -0.44225537 | 0.65830442 | 0.68 | 0.16749109 | -1 | -0.16749109 |\n",
       "| chrX |   989894 |   990618 | P2RY8   | K562 |  0.070583661 | 0.07060655 |  0.99967582 | 0.31746742 | 0.48 | 0.31875876 |  1 |  0.31875876 |\n",
       "| chrX |   989894 |   990618 | SLC25A6 | K562 | -0.049513275 | 0.07305147 | -0.67778612 | 0.49790731 | 0.60 | 0.22184875 | -1 | -0.22184875 |\n",
       "| chrX |  9995710 |  9996296 | TBL1X   | K562 | -0.047942194 | 0.14982324 | -0.31999171 | 0.74897461 | 1.00 | 0.00000000 | -1 |  0.00000000 |\n",
       "| chrX |  9995710 |  9996296 | WWC3    | K562 |  0.415452902 | 0.23122559 |  1.79674275 | 0.07237647 | 0.06 | 1.22184875 |  1 |  1.22184875 |\n",
       "\n"
      ],
      "text/plain": [
       "       chr  start     end       TargetGene CellType beta         se        \n",
       "1      chr1 100028525 100029358 AGL        K562      0.09597357  0.24590784\n",
       "2      chr1 100028525 100029358 CDC14A     K562     -0.13400606  0.06926855\n",
       "3      chr1 100028525 100029358 DPH5       K562      0.35051380  0.24494358\n",
       "4      chr1 100028525 100029358 RTCA       K562      0.23266017  0.20434073\n",
       "5      chr1 100028525 100029358 SLC30A7    K562      0.16937778  0.16028701\n",
       "6      chr1 100028525 100029358 SLC35A3    K562     -0.19681296  0.30386673\n",
       "7      chr1 100028525 100029358 TRMT13     K562      0.11750007  0.22861351\n",
       "8      chr1 100037727 100039288 AGL        K562      0.05090582  0.17270510\n",
       "9      chr1 100037727 100039288 CDC14A     K562      0.07732619  0.04465625\n",
       "10     chr1 100037727 100039288 DPH5       K562     -0.22332976  0.18456480\n",
       "11     chr1 100037727 100039288 RTCA       K562      0.07303535  0.15070761\n",
       "12     chr1 100037727 100039288 SLC30A7    K562      0.04401888  0.11407725\n",
       "13     chr1 100037727 100039288 SLC35A3    K562      0.14138539  0.19035925\n",
       "14     chr1 100037727 100039288 TRMT13     K562      0.06263253  0.16096512\n",
       "15     chr1 100132479 100133489 AGL        K562     -0.16461596  0.16910912\n",
       "16     chr1 100132479 100133489 CDC14A     K562      0.06886131  0.04265355\n",
       "17     chr1 100132479 100133489 DPH5       K562      0.21671836  0.18153495\n",
       "18     chr1 100132479 100133489 RTCA       K562     -0.27097187  0.14941343\n",
       "19     chr1 100132479 100133489 SLC30A7    K562      0.18187738  0.10957634\n",
       "20     chr1 100132479 100133489 SLC35A3    K562      0.47886780  0.18027155\n",
       "21     chr1 100132479 100133489 TRMT13     K562     -0.01938218  0.15562726\n",
       "22     chr1   1001739   1002126 AURKAIP1   K562     -0.13212639  0.19064848\n",
       "23     chr1   1001739   1002126 CCNL2      K562     -0.30798430  0.17048110\n",
       "24     chr1   1001739   1002126 CDK11A     K562     -0.56399279  0.32955863\n",
       "25     chr1   1001739   1002126 CDK11B     K562     -0.23257326  0.15105026\n",
       "26     chr1   1001739   1002126 GNB1       K562      0.09706263  0.09712810\n",
       "27     chr1   1001739   1002126 INTS11     K562     -0.16545161  0.22609654\n",
       "28     chr1   1001739   1002126 ISG15      K562     -0.04887109  0.15299279\n",
       "29     chr1   1001739   1002126 MIB2       K562     -0.14744087  0.22100653\n",
       "30     chr1   1001739   1002126 MRPL20     K562     -0.35867297  0.18558753\n",
       "⋮      ⋮    ⋮         ⋮         ⋮          ⋮        ⋮            ⋮         \n",
       "251197 chrX 80808024  80808536  SH3BGRL    K562      0.020151607 0.10699634\n",
       "251198 chrX 80809264  80810353  BRWD3      K562     -0.007479048 0.12179539\n",
       "251199 chrX 80809264  80810353  SH3BGRL    K562     -0.093170894 0.08476515\n",
       "251200 chrX 81120690  81122326  BRWD3      K562     -0.177055267 0.18255132\n",
       "251201 chrX 81120690  81122326  SH3BGRL    K562     -0.222117097 0.12627448\n",
       "251202 chrX 81201609  81202369  BRWD3      K562      0.138152438 0.16497696\n",
       "251203 chrX 81201609  81202369  SH3BGRL    K562      0.045166815 0.11614405\n",
       "251204 chrX 86047076  86047963  CHM        K562      0.008938182 0.22928684\n",
       "251205 chrX  9340691   9342282  TBL1X      K562      0.014021279 0.11134588\n",
       "251206 chrX  9340691   9342282  WWC3       K562     -0.165367562 0.22235168\n",
       "251207 chrX  9342416   9343028  TBL1X      K562      0.071482311 0.15284138\n",
       "251208 chrX  9342416   9343028  WWC3       K562     -0.027369929 0.29821459\n",
       "251209 chrX  9351199   9352215  TBL1X      K562     -0.071390807 0.12473661\n",
       "251210 chrX  9351199   9352215  WWC3       K562     -0.111633692 0.23618840\n",
       "251211 chrX  9456198   9457116  TBL1X      K562     -0.128369920 0.13455125\n",
       "251212 chrX  9456198   9457116  WWC3       K562     -0.152432038 0.25438038\n",
       "251213 chrX  9462827   9463506  TBL1X      K562      0.097326509 0.09272940\n",
       "251214 chrX  9462827   9463506  WWC3       K562     -0.026244363 0.17937539\n",
       "251215 chrX  9464749   9466131  TBL1X      K562     -0.087047380 0.10407045\n",
       "251216 chrX  9464749   9466131  WWC3       K562     -0.153398441 0.19895119\n",
       "251217 chrX  9530517   9531433  TBL1X      K562     -0.474606490 0.21267136\n",
       "251218 chrX  9530517   9531433  WWC3       K562     -0.261217681 0.36191739\n",
       "251219 chrX 96684342  96685558  DIAPH2     K562     -0.022669671 0.09035477\n",
       "251220 chrX   989894    990618  AKAP17A    K562     -0.124733934 0.15446743\n",
       "251221 chrX   989894    990618  ASMTL      K562      0.026329784 0.19072758\n",
       "251222 chrX   989894    990618  GTPBP6     K562     -0.085006962 0.19221239\n",
       "251223 chrX   989894    990618  P2RY8      K562      0.070583661 0.07060655\n",
       "251224 chrX   989894    990618  SLC25A6    K562     -0.049513275 0.07305147\n",
       "251225 chrX  9995710   9996296  TBL1X      K562     -0.047942194 0.14982324\n",
       "251226 chrX  9995710   9996296  WWC3       K562      0.415452902 0.23122559\n",
       "       z           p           boot_basic_p boot_basic_p.log10 sign\n",
       "1       0.3902827  0.696327544 0.70         0.154901960         1  \n",
       "2      -1.9345872  0.053040970 0.14         0.853871964        -1  \n",
       "3       1.4309981  0.152430753 0.22         0.657577319         1  \n",
       "4       1.1385893  0.254874484 0.30         0.522878745         1  \n",
       "5       1.0567156  0.290641416 0.36         0.443697499         1  \n",
       "6      -0.6476950  0.517182235 0.68         0.167491087        -1  \n",
       "7       0.5139682  0.607274223 0.52         0.283996656         1  \n",
       "8       0.2947557  0.768180500 0.86         0.065501549         1  \n",
       "9       1.7315870  0.083347116 0.32         0.494850022         1  \n",
       "10     -1.2100344  0.226265688 0.44         0.356547324        -1  \n",
       "11      0.4846162  0.627948603 0.68         0.167491087         1  \n",
       "12      0.3858690  0.699593685 0.70         0.154901960         1  \n",
       "13      0.7427293  0.457645582 0.40         0.397940009         1  \n",
       "14      0.3891062  0.697197550 0.76         0.119186408         1  \n",
       "15     -0.9734304  0.330339418 0.42         0.376750710        -1  \n",
       "16      1.6144334  0.106433459 0.24         0.619788758         1  \n",
       "17      1.1938107  0.232552022 0.28         0.552841969         1  \n",
       "18     -1.8135710  0.069743797 0.10         1.000000000        -1  \n",
       "19      1.6598235  0.096949968 0.16         0.795880017         1  \n",
       "20      2.6563692  0.007898708 0.02         1.698970004         1  \n",
       "21     -0.1245423  0.900885884 0.98         0.008773924        -1  \n",
       "22     -0.6930367  0.488286534 0.54         0.267606240        -1  \n",
       "23     -1.8065598  0.070830939 0.06         1.221848750        -1  \n",
       "24     -1.7113580  0.087015048 0.16         0.795880017        -1  \n",
       "25     -1.5397078  0.123631603 0.14         0.853871964        -1  \n",
       "26      0.9993259  0.317636828 0.34         0.468521083         1  \n",
       "27     -0.7317742  0.464306411 0.64         0.193820026        -1  \n",
       "28     -0.3194339  0.749397488 0.90         0.045757491        -1  \n",
       "29     -0.6671336  0.504686830 0.56         0.251811973        -1  \n",
       "30     -1.9326350  0.053281172 0.12         0.920818754        -1  \n",
       "⋮      ⋮           ⋮           ⋮            ⋮                  ⋮   \n",
       "251197  0.18833923 0.85061074  0.82         0.08618615          1  \n",
       "251198 -0.06140666 0.95103535  0.88         0.05551733         -1  \n",
       "251199 -1.09916510 0.27169606  0.28         0.55284197         -1  \n",
       "251200 -0.96989310 0.33209978  0.36         0.44369750         -1  \n",
       "251201 -1.75900221 0.07857713  0.16         0.79588002         -1  \n",
       "251202  0.83740443 0.40236527  0.42         0.37675071          1  \n",
       "251203  0.38888617 0.69736035  0.78         0.10790540          1  \n",
       "251204  0.03898254 0.96890431  0.94         0.02687215          1  \n",
       "251205  0.12592543 0.89979095  0.82         0.08618615          1  \n",
       "251206 -0.74372078 0.45704541  0.80         0.09691001         -1  \n",
       "251207  0.46768951 0.64000664  0.64         0.19382003          1  \n",
       "251208 -0.09177931 0.92687338  0.92         0.03621217         -1  \n",
       "251209 -0.57233242 0.56709679  0.46         0.33724217         -1  \n",
       "251210 -0.47264681 0.63646518  0.72         0.14266750         -1  \n",
       "251211 -0.95405964 0.34005346  0.38         0.42021640         -1  \n",
       "251212 -0.59922876 0.54902035  0.46         0.33724217         -1  \n",
       "251213  1.04957548 0.29391334  0.46         0.33724217          1  \n",
       "251214 -0.14630972 0.88367689  0.94         0.02687215         -1  \n",
       "251215 -0.83642746 0.40291447  0.60         0.22184875         -1  \n",
       "251216 -0.77103554 0.44068586  0.50         0.30103000         -1  \n",
       "251217 -2.23164273 0.02563858  0.10         1.00000000         -1  \n",
       "251218 -0.72176050 0.47044174  0.46         0.33724217         -1  \n",
       "251219 -0.25089622 0.80189435  0.88         0.05551733         -1  \n",
       "251220 -0.80750960 0.41937295  0.48         0.31875876         -1  \n",
       "251221  0.13804917 0.89020156  1.00         0.00000000          1  \n",
       "251222 -0.44225537 0.65830442  0.68         0.16749109         -1  \n",
       "251223  0.99967582 0.31746742  0.48         0.31875876          1  \n",
       "251224 -0.67778612 0.49790731  0.60         0.22184875         -1  \n",
       "251225 -0.31999171 0.74897461  1.00         0.00000000         -1  \n",
       "251226  1.79674275 0.07237647  0.06         1.22184875          1  \n",
       "       boot_basic_p.log10.signed\n",
       "1       0.154901960             \n",
       "2      -0.853871964             \n",
       "3       0.657577319             \n",
       "4       0.522878745             \n",
       "5       0.443697499             \n",
       "6      -0.167491087             \n",
       "7       0.283996656             \n",
       "8       0.065501549             \n",
       "9       0.494850022             \n",
       "10     -0.356547324             \n",
       "11      0.167491087             \n",
       "12      0.154901960             \n",
       "13      0.397940009             \n",
       "14      0.119186408             \n",
       "15     -0.376750710             \n",
       "16      0.619788758             \n",
       "17      0.552841969             \n",
       "18     -1.000000000             \n",
       "19      0.795880017             \n",
       "20      1.698970004             \n",
       "21     -0.008773924             \n",
       "22     -0.267606240             \n",
       "23     -1.221848750             \n",
       "24     -0.795880017             \n",
       "25     -0.853871964             \n",
       "26      0.468521083             \n",
       "27     -0.193820026             \n",
       "28     -0.045757491             \n",
       "29     -0.251811973             \n",
       "30     -0.920818754             \n",
       "⋮      ⋮                        \n",
       "251197  0.08618615              \n",
       "251198 -0.05551733              \n",
       "251199 -0.55284197              \n",
       "251200 -0.44369750              \n",
       "251201 -0.79588002              \n",
       "251202  0.37675071              \n",
       "251203  0.10790540              \n",
       "251204  0.02687215              \n",
       "251205  0.08618615              \n",
       "251206 -0.09691001              \n",
       "251207  0.19382003              \n",
       "251208 -0.03621217              \n",
       "251209 -0.33724217              \n",
       "251210 -0.14266750              \n",
       "251211 -0.42021640              \n",
       "251212 -0.33724217              \n",
       "251213  0.33724217              \n",
       "251214 -0.02687215              \n",
       "251215 -0.22184875              \n",
       "251216 -0.30103000              \n",
       "251217 -1.00000000              \n",
       "251218 -0.33724217              \n",
       "251219 -0.05551733              \n",
       "251220 -0.31875876              \n",
       "251221  0.00000000              \n",
       "251222 -0.16749109              \n",
       "251223  0.31875876              \n",
       "251224 -0.22184875              \n",
       "251225  0.00000000              \n",
       "251226  1.22184875              "
      ]
     },
     "metadata": {},
     "output_type": "display_data"
    }
   ],
   "source": [
    "df.output = as.data.frame(pairs.E2G.res,row.names = NULL)\n",
    "colnames(df.output)[1] = \"chr\"\n",
    "df.output[,\"CellType\"] = \"K562\"\n",
    "df.output = df.output[,c(\"chr\",\n",
    "                         \"start\",\n",
    "                         \"end\",\n",
    "                         \"TargetGene\",\n",
    "                         \"CellType\",\n",
    "                         \"beta\",\"se\",\"z\",\"p\",\"boot_basic_p\",\n",
    "                         \"boot_basic_p.log10\",\n",
    "                         \"sign\",\n",
    "                         \"boot_basic_p.log10.signed\")]\n",
    "data.table::fwrite(df.output,\n",
    "                   file = paste(dir.output,\"pairs.E2G.res.tsv.gz\",sep = \"/\"),\n",
    "                   row.names = F,\n",
    "                   quote = F,\n",
    "                   sep = \"\\t\")\n",
    "df.output"
   ]
  },
  {
   "cell_type": "code",
   "execution_count": 19,
   "id": "4d77c58e-215a-408d-8495-c68c72f559c3",
   "metadata": {},
   "outputs": [
    {
     "data": {
      "text/plain": [
       "R version 4.3.3 (2024-02-29)\n",
       "Platform: x86_64-conda-linux-gnu (64-bit)\n",
       "Running under: Red Hat Enterprise Linux 8.10 (Ootpa)\n",
       "\n",
       "Matrix products: default\n",
       "BLAS/LAPACK: /maps/projects/ralab/people/lpm537/software/anaconda3/envs/Notebook_E2G_240505/lib/libopenblasp-r0.3.27.so;  LAPACK version 3.12.0\n",
       "\n",
       "locale:\n",
       " [1] LC_CTYPE=en_US.UTF-8       LC_NUMERIC=C              \n",
       " [3] LC_TIME=en_US.UTF-8        LC_COLLATE=en_US.UTF-8    \n",
       " [5] LC_MONETARY=en_US.UTF-8    LC_MESSAGES=en_US.UTF-8   \n",
       " [7] LC_PAPER=en_US.UTF-8       LC_NAME=C                 \n",
       " [9] LC_ADDRESS=C               LC_TELEPHONE=C            \n",
       "[11] LC_MEASUREMENT=en_US.UTF-8 LC_IDENTIFICATION=C       \n",
       "\n",
       "time zone: Europe/Copenhagen\n",
       "tzcode source: system (glibc)\n",
       "\n",
       "attached base packages:\n",
       " [1] parallel  stats4    grid      stats     graphics  grDevices utils    \n",
       " [8] datasets  methods   base     \n",
       "\n",
       "other attached packages:\n",
       "[1] Matrix_1.6-5         GenomicRanges_1.54.1 GenomeInfoDb_1.38.1 \n",
       "[4] IRanges_2.36.0       S4Vectors_0.40.2     BiocGenerics_0.48.1 \n",
       "[7] genomation_1.34.0    Signac_1.13.0        SCENT_1.0.0         \n",
       "\n",
       "loaded via a namespace (and not attached):\n",
       "  [1] rstudioapi_0.16.0           jsonlite_1.8.8             \n",
       "  [3] magrittr_2.0.3              nloptr_2.0.3               \n",
       "  [5] rmarkdown_2.26              BiocIO_1.10.0              \n",
       "  [7] zlibbioc_1.48.0             vctrs_0.6.5                \n",
       "  [9] minqa_1.2.6                 Rsamtools_2.18.0           \n",
       " [11] RCurl_1.98-1.14             base64enc_0.1-3            \n",
       " [13] RcppRoll_0.3.0              htmltools_0.5.8.1          \n",
       " [15] S4Arrays_1.2.1              plotrix_3.8-4              \n",
       " [17] Formula_1.2-5               parallelly_1.37.1          \n",
       " [19] KernSmooth_2.23-22          htmlwidgets_1.6.4          \n",
       " [21] plyr_1.8.9                  impute_1.76.0              \n",
       " [23] uuid_1.2-0                  GenomicAlignments_1.36.0   \n",
       " [25] lifecycle_1.0.4             pkgconfig_2.0.3            \n",
       " [27] R6_2.5.1                    fastmap_1.1.1              \n",
       " [29] GenomeInfoDbData_1.2.11     MatrixGenerics_1.12.3      \n",
       " [31] future_1.33.2               digest_0.6.35              \n",
       " [33] colorspace_2.1-0            patchwork_1.2.0            \n",
       " [35] irlba_2.3.5.1               Hmisc_5.1-2                \n",
       " [37] progressr_0.14.0            fansi_1.0.6                \n",
       " [39] abind_1.4-5                 compiler_4.3.3             \n",
       " [41] bit64_4.0.5                 htmlTable_2.4.2            \n",
       " [43] backports_1.4.1             BiocParallel_1.36.0        \n",
       " [45] R.utils_2.12.3              MASS_7.3-60                \n",
       " [47] DelayedArray_0.26.7         rjson_0.2.21               \n",
       " [49] tools_4.3.3                 foreign_0.8-86             \n",
       " [51] future.apply_1.11.2         nnet_7.3-19                \n",
       " [53] R.oo_1.26.0                 glue_1.7.0                 \n",
       " [55] restfulr_0.0.15             nlme_3.1-164               \n",
       " [57] pbdZMQ_0.3-11               checkmate_2.3.1            \n",
       " [59] gridBase_0.4-7              cluster_2.1.6              \n",
       " [61] reshape2_1.4.4              generics_0.1.3             \n",
       " [63] gtable_0.3.5                BSgenome_1.68.0            \n",
       " [65] tzdb_0.4.0                  R.methodsS3_1.8.2          \n",
       " [67] tidyr_1.3.1                 seqPattern_1.34.0          \n",
       " [69] data.table_1.15.2           hms_1.1.3                  \n",
       " [71] sp_2.1-4                    utf8_1.2.4                 \n",
       " [73] XVector_0.42.0              pillar_1.9.0               \n",
       " [75] stringr_1.5.1               vroom_1.6.5                \n",
       " [77] spam_2.10-0                 IRdisplay_1.1              \n",
       " [79] splines_4.3.3               dplyr_1.1.4                \n",
       " [81] lattice_0.22-6              bit_4.0.5                  \n",
       " [83] rtracklayer_1.60.1          tidyselect_1.2.1           \n",
       " [85] Biostrings_2.70.1           pbapply_1.7-2              \n",
       " [87] knitr_1.46                  gridExtra_2.3              \n",
       " [89] SummarizedExperiment_1.30.2 xfun_0.43                  \n",
       " [91] Biobase_2.60.0              matrixStats_1.3.0          \n",
       " [93] stringi_1.8.3               yaml_2.3.8                 \n",
       " [95] boot_1.3-30                 evaluate_0.23              \n",
       " [97] codetools_0.2-20            tibble_3.2.1               \n",
       " [99] cli_3.6.2                   IRkernel_1.3.2             \n",
       "[101] rpart_4.1.23                repr_1.1.7                 \n",
       "[103] munsell_0.5.1               Rcpp_1.0.12                \n",
       "[105] globals_0.16.3              XML_3.99-0.16.1            \n",
       "[107] ggplot2_3.5.1               readr_2.1.5                \n",
       "[109] dotCall64_1.1-1             bitops_1.0-7               \n",
       "[111] lme4_1.1-35.3               listenv_0.9.1              \n",
       "[113] scales_1.3.0                SeuratObject_5.0.1         \n",
       "[115] purrr_1.0.2                 crayon_1.5.2               \n",
       "[117] rlang_1.1.3                 fastmatch_1.1-4            "
      ]
     },
     "metadata": {},
     "output_type": "display_data"
    }
   ],
   "source": [
    "sessionInfo()"
   ]
  },
  {
   "cell_type": "code",
   "execution_count": null,
   "id": "3c1a0283-11d6-4df1-bbd8-7b47e9e8ead8",
   "metadata": {},
   "outputs": [],
   "source": []
  }
 ],
 "metadata": {
  "kernelspec": {
   "display_name": "R",
   "language": "R",
   "name": "ir"
  },
  "language_info": {
   "codemirror_mode": "r",
   "file_extension": ".r",
   "mimetype": "text/x-r-source",
   "name": "R",
   "pygments_lexer": "r",
   "version": "4.3.3"
  }
 },
 "nbformat": 4,
 "nbformat_minor": 5
}
