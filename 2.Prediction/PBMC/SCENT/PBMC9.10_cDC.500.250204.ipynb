{
 "cells": [
  {
   "cell_type": "code",
   "execution_count": 1,
   "id": "3a1e63f9-7479-4a30-83ea-381f1ecdbe50",
   "metadata": {},
   "outputs": [
    {
     "name": "stderr",
     "output_type": "stream",
     "text": [
      "Warning message:\n",
      "“replacing previous import ‘Hmisc::capitalize’ by ‘R.utils::capitalize’ when loading ‘SCENT’”\n",
      "Loading required package: grid\n",
      "\n",
      "Warning message:\n",
      "“replacing previous import ‘Biostrings::pattern’ by ‘grid::pattern’ when loading ‘genomation’”\n",
      "Loading required package: stats4\n",
      "\n",
      "Loading required package: BiocGenerics\n",
      "\n",
      "\n",
      "Attaching package: ‘BiocGenerics’\n",
      "\n",
      "\n",
      "The following objects are masked from ‘package:stats’:\n",
      "\n",
      "    IQR, mad, sd, var, xtabs\n",
      "\n",
      "\n",
      "The following objects are masked from ‘package:base’:\n",
      "\n",
      "    anyDuplicated, aperm, append, as.data.frame, basename, cbind,\n",
      "    colnames, dirname, do.call, duplicated, eval, evalq, Filter, Find,\n",
      "    get, grep, grepl, intersect, is.unsorted, lapply, Map, mapply,\n",
      "    match, mget, order, paste, pmax, pmax.int, pmin, pmin.int,\n",
      "    Position, rank, rbind, Reduce, rownames, sapply, setdiff, sort,\n",
      "    table, tapply, union, unique, unsplit, which.max, which.min\n",
      "\n",
      "\n",
      "Loading required package: S4Vectors\n",
      "\n",
      "\n",
      "Attaching package: ‘S4Vectors’\n",
      "\n",
      "\n",
      "The following object is masked from ‘package:utils’:\n",
      "\n",
      "    findMatches\n",
      "\n",
      "\n",
      "The following objects are masked from ‘package:base’:\n",
      "\n",
      "    expand.grid, I, unname\n",
      "\n",
      "\n",
      "Loading required package: IRanges\n",
      "\n",
      "Loading required package: GenomeInfoDb\n",
      "\n",
      "\n",
      "Attaching package: ‘Matrix’\n",
      "\n",
      "\n",
      "The following object is masked from ‘package:S4Vectors’:\n",
      "\n",
      "    expand\n",
      "\n",
      "\n",
      "\n",
      "Attaching package: ‘data.table’\n",
      "\n",
      "\n",
      "The following object is masked from ‘package:GenomicRanges’:\n",
      "\n",
      "    shift\n",
      "\n",
      "\n",
      "The following object is masked from ‘package:IRanges’:\n",
      "\n",
      "    shift\n",
      "\n",
      "\n",
      "The following objects are masked from ‘package:S4Vectors’:\n",
      "\n",
      "    first, second\n",
      "\n",
      "\n",
      "\n",
      "Attaching package: ‘dplyr’\n",
      "\n",
      "\n",
      "The following objects are masked from ‘package:data.table’:\n",
      "\n",
      "    between, first, last\n",
      "\n",
      "\n",
      "The following objects are masked from ‘package:GenomicRanges’:\n",
      "\n",
      "    intersect, setdiff, union\n",
      "\n",
      "\n",
      "The following object is masked from ‘package:GenomeInfoDb’:\n",
      "\n",
      "    intersect\n",
      "\n",
      "\n",
      "The following objects are masked from ‘package:IRanges’:\n",
      "\n",
      "    collapse, desc, intersect, setdiff, slice, union\n",
      "\n",
      "\n",
      "The following objects are masked from ‘package:S4Vectors’:\n",
      "\n",
      "    first, intersect, rename, setdiff, setequal, union\n",
      "\n",
      "\n",
      "The following objects are masked from ‘package:BiocGenerics’:\n",
      "\n",
      "    combine, intersect, setdiff, union\n",
      "\n",
      "\n",
      "The following objects are masked from ‘package:stats’:\n",
      "\n",
      "    filter, lag\n",
      "\n",
      "\n",
      "The following objects are masked from ‘package:base’:\n",
      "\n",
      "    intersect, setdiff, setequal, union\n",
      "\n",
      "\n"
     ]
    }
   ],
   "source": [
    "library(SCENT)\n",
    "library(Signac)\n",
    "library(genomation)\n",
    "library(GenomicRanges)\n",
    "library(Matrix)\n",
    "library(parallel)\n",
    "library(data.table)\n",
    "library(dplyr)"
   ]
  },
  {
   "cell_type": "markdown",
   "id": "d53f3774-52c3-4baa-b707-5b3a0450b130",
   "metadata": {},
   "source": [
    "Specify file path"
   ]
  },
  {
   "cell_type": "code",
   "execution_count": 2,
   "id": "0785f3fc-9913-428a-bea7-5710120c9328",
   "metadata": {},
   "outputs": [],
   "source": [
    "gene_gtf_path = \"/maps/projects/ralab/data/genome/hg38/gencode.v43.chr_patch_hapl_scaff.annotation.gtf\"\n",
    "abc_genes_path = \"/maps/projects/ralab_nnfc-AUDIT/people/lpm537/software/scE2G_pipeline/241203/scE2G/ENCODE_rE2G/ABC/reference/hg38/CollapsedGeneBounds.hg38.TSS500bp.bed\"\n",
    "path.pairs.E2G = \"/maps/projects/ralab_nnfc-AUDIT/people/lpm537/software/scE2G_pipeline/240617/sc-E2G/test/results/PBMC9/10_cDC.multiome_7features/Kendall/Pairs.tsv.gz\"\n",
    "path.pairs.ABC = \"/maps/projects/ralab_nnfc-AUDIT/people/lpm537/software/scE2G_pipeline/240617/sc-E2G/test/results/PBMC9/10_cDC.multiome_7features/Predictions/EnhancerPredictionsAllPutative.tsv.gz\"\n",
    "path.matrix.atac_count = \"/maps/projects/ralab_nnfc-AUDIT/people/lpm537/software/scE2G_pipeline/240617/sc-E2G/test/results/PBMC9/10_cDC.multiome_7features/Kendall/atac_matrix.rds\"\n",
    "path.matrix.rna_count = \"/maps/projects/ralab_nnfc-AUDIT/people/lpm537/project/E2G/analysis/E2G_240503/data/PBMC/1.prepare_data/3.annotate_cell_type/RNA_count_matrix/10_cDC.rna_count_matrix.csv.gz\"\n",
    "dir.output = \"/maps/projects/ralab_nnfc-AUDIT/people/lpm537/project/E2G/analysis/E2G_240503/data/PBMC/2.Genome_wide_prediction/SCENT/PBMC9.10_cDC.500.250204/\""
   ]
  },
  {
   "cell_type": "code",
   "execution_count": 3,
   "id": "500ba317-011f-4cab-834c-de750cb7f503",
   "metadata": {},
   "outputs": [],
   "source": [
    "n.cores = 4"
   ]
  },
  {
   "cell_type": "markdown",
   "id": "9c9cdab1-486b-4539-99d3-3cd5d1d99795",
   "metadata": {},
   "source": [
    "Import candidate E-G pairs"
   ]
  },
  {
   "cell_type": "code",
   "execution_count": 4,
   "id": "f5852d15-7e3f-412b-b137-7d29a6fb47b1",
   "metadata": {},
   "outputs": [],
   "source": [
    "pairs.E2G = readGeneric(path.pairs.E2G,\n",
    "                        header = T,\n",
    "                        keep.all.metadata = T)"
   ]
  },
  {
   "cell_type": "markdown",
   "id": "4b3c69d6-986b-4e10-9597-01c66d230c5c",
   "metadata": {},
   "source": [
    "Import ABC results"
   ]
  },
  {
   "cell_type": "code",
   "execution_count": 5,
   "id": "1fdcc2db-187f-45ee-89b4-288e8be29ee9",
   "metadata": {},
   "outputs": [],
   "source": [
    "pairs.ABC = readGeneric(path.pairs.ABC,\n",
    "                        header = T,\n",
    "                        keep.all.metadata = T)"
   ]
  },
  {
   "cell_type": "markdown",
   "id": "10424833-4e11-4191-a970-940bcc814764",
   "metadata": {},
   "source": [
    "Filter ABC results which distance < 1M"
   ]
  },
  {
   "cell_type": "code",
   "execution_count": 6,
   "id": "f08d2dec-83da-425a-aa70-aacb2d1c01a9",
   "metadata": {},
   "outputs": [],
   "source": [
    "pairs.ABC.1M = pairs.ABC[pairs.ABC$distance < 10^6]"
   ]
  },
  {
   "cell_type": "markdown",
   "id": "1ab4f035-0f58-4f32-9770-6765575f08a4",
   "metadata": {},
   "source": [
    "Filter E-G pairs overlaping with pairs.ABC.1M"
   ]
  },
  {
   "cell_type": "code",
   "execution_count": 7,
   "id": "46f640bb-a049-4bae-8362-485ec0d30858",
   "metadata": {},
   "outputs": [
    {
     "data": {
      "text/plain": [
       "GRanges object with 2959371 ranges and 3 metadata columns:\n",
       "            seqnames              ranges strand |  TargetGene\n",
       "               <Rle>           <IRanges>  <Rle> | <character>\n",
       "        [1]     chr1 100028859-100029170      * |         AGL\n",
       "        [2]     chr1 100028859-100029170      * |      CDC14A\n",
       "        [3]     chr1 100028859-100029170      * |         DBT\n",
       "        [4]     chr1 100028859-100029170      * |        DPH5\n",
       "        [5]     chr1 100028859-100029170      * |       EXTL2\n",
       "        ...      ...                 ...    ... .         ...\n",
       "  [2959367]     chrX     9995795-9996120      * |       TBL1X\n",
       "  [2959368]     chrX     9995795-9996120      * |        WWC3\n",
       "  [2959369]     chrX     9997584-9997830      * |       CLCN4\n",
       "  [2959370]     chrX     9997584-9997830      * |       TBL1X\n",
       "  [2959371]     chrX     9997584-9997830      * |        WWC3\n",
       "                          PeakName               PairName\n",
       "                       <character>            <character>\n",
       "        [1] chr1-100028859-10002.. chr1-100028859-10002..\n",
       "        [2] chr1-100028859-10002.. chr1-100028859-10002..\n",
       "        [3] chr1-100028859-10002.. chr1-100028859-10002..\n",
       "        [4] chr1-100028859-10002.. chr1-100028859-10002..\n",
       "        [5] chr1-100028859-10002.. chr1-100028859-10002..\n",
       "        ...                    ...                    ...\n",
       "  [2959367]   chrX-9995795-9996120 chrX-9995795-9996120..\n",
       "  [2959368]   chrX-9995795-9996120 chrX-9995795-9996120..\n",
       "  [2959369]   chrX-9997584-9997830 chrX-9997584-9997830..\n",
       "  [2959370]   chrX-9997584-9997830 chrX-9997584-9997830..\n",
       "  [2959371]   chrX-9997584-9997830 chrX-9997584-9997830..\n",
       "  -------\n",
       "  seqinfo: 23 sequences from an unspecified genome; no seqlengths"
      ]
     },
     "metadata": {},
     "output_type": "display_data"
    }
   ],
   "source": [
    "df.pairs.E2G.chr_rename = as.data.frame(pairs.E2G)[,1:3]\n",
    "df.pairs.E2G.chr_rename[,\"seqnames\"] = paste(seqnames(pairs.E2G),\n",
    "                                             mcols(pairs.E2G)[,\"TargetGene\"],\n",
    "                                             sep = \"_\")\n",
    "pairs.E2G.chr_rename = GRanges(df.pairs.E2G.chr_rename)\n",
    "rm(df.pairs.E2G.chr_rename)\n",
    "\n",
    "df.pairs.ABC.1M.chr_rename = as.data.frame(pairs.ABC.1M)[,1:3]\n",
    "df.pairs.ABC.1M.chr_rename[,\"seqnames\"] = paste(seqnames(pairs.ABC.1M),\n",
    "                                                mcols(pairs.ABC.1M)[,\"TargetGene\"],\n",
    "                                                sep = \"_\")\n",
    "pairs.ABC.1M.chr_rename = GRanges(df.pairs.ABC.1M.chr_rename)\n",
    "rm(df.pairs.ABC.1M.chr_rename)\n",
    "\n",
    "pairs.E2G.filter = pairs.E2G[countOverlaps(pairs.E2G.chr_rename,\n",
    "                                           pairs.ABC.1M.chr_rename) > 0]\n",
    "rm(pairs.E2G.chr_rename)\n",
    "rm(pairs.ABC.1M.chr_rename)\n",
    "pairs.E2G.filter"
   ]
  },
  {
   "cell_type": "markdown",
   "id": "bcdfac67-ce32-4d9a-8f4d-65dab644ec63",
   "metadata": {},
   "source": [
    "Import ATAC matrix"
   ]
  },
  {
   "cell_type": "code",
   "execution_count": 8,
   "id": "bd59feb4-3e33-4ebe-a107-f3b6d347a68e",
   "metadata": {},
   "outputs": [],
   "source": [
    "matrix.atac = readRDS(path.matrix.atac_count)\n",
    "matrix.atac = BinarizeCounts(matrix.atac)"
   ]
  },
  {
   "cell_type": "markdown",
   "id": "a0c5cb96-2fc4-42c4-a421-fe9a5ca537da",
   "metadata": {},
   "source": [
    "Import RNA matrix"
   ]
  },
  {
   "cell_type": "code",
   "execution_count": 9,
   "id": "96e10e90-9400-4cfe-bc7b-46a7eaee1fcd",
   "metadata": {},
   "outputs": [],
   "source": [
    "matrix.rna = read.csv(path.matrix.rna_count,\n",
    "                      row.names = 1,\n",
    "                      check.names = F)\n",
    "matrix.rna = Matrix(as.matrix(matrix.rna), sparse = TRUE)\n",
    "matrix.rna = matrix.rna[,colnames(matrix.atac)]\n",
    "matrix.rna = matrix.rna[rowSums(matrix.rna) > 0,]"
   ]
  },
  {
   "cell_type": "markdown",
   "id": "62718ef8-a3bd-4755-a95f-be216f16517b",
   "metadata": {},
   "source": [
    "Map gene names"
   ]
  },
  {
   "cell_type": "code",
   "execution_count": 10,
   "id": "0f255a65-03a4-4255-967e-0c644bfe66cd",
   "metadata": {},
   "outputs": [],
   "source": [
    "extract_attributes <- function(gtf_attributes, att_of_interest){\n",
    "  att <- unlist(strsplit(gtf_attributes, \" \"))\n",
    "  if(att_of_interest %in% att){\n",
    "    return(gsub(\"\\\"|;\",\"\", att[which(att %in% att_of_interest)+1]))\n",
    "  } else {\n",
    "    return(NA)}\n",
    "}\n",
    "map_gene_names <- function(rna_matrix, gene_gtf_path, abc_genes_path){\n",
    "\tgene_ref <- fread(gene_gtf_path, header = FALSE, sep = \"\\t\") %>%\n",
    "\t\tsetNames(c(\"chr\",\"source\",\"type\",\"start\",\"end\",\"score\",\"strand\",\"phase\",\"attributes\")) %>%\n",
    "\t\tdplyr::filter(type == \"gene\")\n",
    "\tgene_ref$gene_ref_name <- unlist(lapply(gene_ref$attributes, extract_attributes, \"gene_name\"))\n",
    "\tgene_ref$Ensembl_ID <- unlist(lapply(gene_ref$attributes, extract_attributes, \"gene_id\"))\n",
    "\tgene_ref <- dplyr::select(gene_ref, gene_ref_name, Ensembl_ID) %>%\n",
    "\t\tmutate(Ensembl_ID = sub(\"\\\\.\\\\d+$\", \"\", Ensembl_ID)) %>% # remove decimal digits \n",
    "\t\tdistinct()\n",
    "\t\n",
    "\tabc_genes <- fread(abc_genes_path, col.names = c(\"chr\", \"start\", \"end\", \"name\", \"score\", \"strand\", \"Ensembl_ID\", \"gene_type\")) %>%\n",
    "\t\tdplyr::select(name, Ensembl_ID) %>%\n",
    "\t\trename(abc_name = name) %>%\n",
    "\t\tleft_join(gene_ref, by = \"Ensembl_ID\") %>%\n",
    "\t\tgroup_by(Ensembl_ID) %>% # remove cases where multiple genes map to one ensembl ID\n",
    "\t\tfilter(n() == 1) %>%\n",
    "\t\tungroup()\n",
    "\n",
    "\tgene_key <- abc_genes$abc_name\n",
    "\tnames(gene_key) <- abc_genes$gene_ref_name\n",
    "\n",
    "\t# remove genes not in our gene universe\t\n",
    "\trow_sub <- intersect(rownames(rna_matrix), names(gene_key)) # gene ref names\n",
    "\trna_matrix_filt <- rna_matrix[row_sub,] # still gene ref names\n",
    "\trownames(rna_matrix_filt) <- gene_key[row_sub] # converted to abc names\n",
    "\n",
    "\treturn(rna_matrix_filt)\n",
    "}"
   ]
  },
  {
   "cell_type": "code",
   "execution_count": 11,
   "id": "ca760678-9db9-418e-b7ac-29984eddad7e",
   "metadata": {},
   "outputs": [],
   "source": [
    "matrix.rna.rename = map_gene_names(matrix.rna,gene_gtf_path, abc_genes_path)"
   ]
  },
  {
   "cell_type": "code",
   "execution_count": 12,
   "id": "0c8225d7-5216-4cc1-827e-bbb22c53f9fc",
   "metadata": {},
   "outputs": [],
   "source": [
    "pairs.E2G.filter2 = pairs.E2G.filter[pairs.E2G.filter$TargetGene %in% rownames(matrix.rna.rename) &\n",
    "                                     pairs.E2G.filter$PeakName %in% rownames(matrix.atac)]"
   ]
  },
  {
   "cell_type": "markdown",
   "id": "b16f7d5b-eabd-4e93-b8cd-f19a54df21f2",
   "metadata": {},
   "source": [
    "Prepare SCENT meta data"
   ]
  },
  {
   "cell_type": "code",
   "execution_count": 13,
   "id": "827059dd-6885-441e-973e-d7c49e5fd534",
   "metadata": {},
   "outputs": [
    {
     "data": {
      "text/html": [
       "<table class=\"dataframe\">\n",
       "<caption>A data.frame: 333 × 6</caption>\n",
       "<thead>\n",
       "\t<tr><th></th><th scope=col>cell</th><th scope=col>nUMI</th><th scope=col>nMito</th><th scope=col>celltype</th><th scope=col>log.nUMI</th><th scope=col>percent.mito</th></tr>\n",
       "\t<tr><th></th><th scope=col>&lt;chr&gt;</th><th scope=col>&lt;dbl&gt;</th><th scope=col>&lt;dbl&gt;</th><th scope=col>&lt;chr&gt;</th><th scope=col>&lt;dbl&gt;</th><th scope=col>&lt;dbl&gt;</th></tr>\n",
       "</thead>\n",
       "<tbody>\n",
       "\t<tr><th scope=row>Multiome10x_05_AAATGCCTCCAATTAG-1</th><td>Multiome10x_05_AAATGCCTCCAATTAG-1</td><td> 4022</td><td> 739</td><td>K562</td><td>8.299535</td><td>0.18373943</td></tr>\n",
       "\t<tr><th scope=row>Multiome10x_05_AACTACTCACTATGGC-1</th><td>Multiome10x_05_AACTACTCACTATGGC-1</td><td> 9856</td><td>1270</td><td>K562</td><td>9.195836</td><td>0.12885552</td></tr>\n",
       "\t<tr><th scope=row>Multiome10x_05_AACTGTTCAGGCTTGT-1</th><td>Multiome10x_05_AACTGTTCAGGCTTGT-1</td><td> 4715</td><td> 656</td><td>K562</td><td>8.458504</td><td>0.13913043</td></tr>\n",
       "\t<tr><th scope=row>Multiome10x_05_AAGCGTTTCCTGGTGA-1</th><td>Multiome10x_05_AAGCGTTTCCTGGTGA-1</td><td> 7466</td><td> 929</td><td>K562</td><td>8.918115</td><td>0.12443075</td></tr>\n",
       "\t<tr><th scope=row>Multiome10x_05_AAGCTAGAGGTAAGCA-1</th><td>Multiome10x_05_AAGCTAGAGGTAAGCA-1</td><td> 6014</td><td> 532</td><td>K562</td><td>8.701845</td><td>0.08846026</td></tr>\n",
       "\t<tr><th scope=row>Multiome10x_05_AATAACCGTCACCAAA-1</th><td>Multiome10x_05_AATAACCGTCACCAAA-1</td><td> 5772</td><td> 823</td><td>K562</td><td>8.660774</td><td>0.14258489</td></tr>\n",
       "\t<tr><th scope=row>Multiome10x_05_AATAACCGTTGGCCGA-1</th><td>Multiome10x_05_AATAACCGTTGGCCGA-1</td><td> 6314</td><td> 799</td><td>K562</td><td>8.750525</td><td>0.12654419</td></tr>\n",
       "\t<tr><th scope=row>Multiome10x_05_AATATCCCAACCTGGT-1</th><td>Multiome10x_05_AATATCCCAACCTGGT-1</td><td>11613</td><td>1633</td><td>K562</td><td>9.359880</td><td>0.14061827</td></tr>\n",
       "\t<tr><th scope=row>Multiome10x_05_AATCCGTAGCTACTGG-1</th><td>Multiome10x_05_AATCCGTAGCTACTGG-1</td><td> 7714</td><td>1092</td><td>K562</td><td>8.950792</td><td>0.14156080</td></tr>\n",
       "\t<tr><th scope=row>Multiome10x_05_AATTACCCATAGCGGA-1</th><td>Multiome10x_05_AATTACCCATAGCGGA-1</td><td> 6445</td><td> 823</td><td>K562</td><td>8.771060</td><td>0.12769589</td></tr>\n",
       "\t<tr><th scope=row>Multiome10x_05_AATTGCCAGCGGATAA-1</th><td>Multiome10x_05_AATTGCCAGCGGATAA-1</td><td> 6824</td><td> 992</td><td>K562</td><td>8.828201</td><td>0.14536928</td></tr>\n",
       "\t<tr><th scope=row>Multiome10x_05_ACATTAGTCTACTAAG-1</th><td>Multiome10x_05_ACATTAGTCTACTAAG-1</td><td> 4018</td><td> 848</td><td>K562</td><td>8.298540</td><td>0.21105027</td></tr>\n",
       "\t<tr><th scope=row>Multiome10x_05_ACCACACCAGGCATCT-1</th><td>Multiome10x_05_ACCACACCAGGCATCT-1</td><td> 7391</td><td> 896</td><td>K562</td><td>8.908018</td><td>0.12122852</td></tr>\n",
       "\t<tr><th scope=row>Multiome10x_05_ACCGGTTCAACACCTA-1</th><td>Multiome10x_05_ACCGGTTCAACACCTA-1</td><td> 8680</td><td>1065</td><td>K562</td><td>9.068777</td><td>0.12269585</td></tr>\n",
       "\t<tr><th scope=row>Multiome10x_05_ACCTAAATCAAGTGAG-1</th><td>Multiome10x_05_ACCTAAATCAAGTGAG-1</td><td> 5579</td><td> 583</td><td>K562</td><td>8.626765</td><td>0.10449901</td></tr>\n",
       "\t<tr><th scope=row>Multiome10x_05_ACCTGTTGTCTAACCT-1</th><td>Multiome10x_05_ACCTGTTGTCTAACCT-1</td><td> 7376</td><td>1029</td><td>K562</td><td>8.905987</td><td>0.13950651</td></tr>\n",
       "\t<tr><th scope=row>Multiome10x_05_ACGAGTAAGGGTCTAT-1</th><td>Multiome10x_05_ACGAGTAAGGGTCTAT-1</td><td> 6259</td><td> 772</td><td>K562</td><td>8.741776</td><td>0.12334239</td></tr>\n",
       "\t<tr><th scope=row>Multiome10x_05_ACGCTTGAGTTGGATC-1</th><td>Multiome10x_05_ACGCTTGAGTTGGATC-1</td><td> 5743</td><td> 743</td><td>K562</td><td>8.655737</td><td>0.12937489</td></tr>\n",
       "\t<tr><th scope=row>Multiome10x_05_ACGTACCCAGCATTAT-1</th><td>Multiome10x_05_ACGTACCCAGCATTAT-1</td><td> 8238</td><td>1029</td><td>K562</td><td>9.016513</td><td>0.12490896</td></tr>\n",
       "\t<tr><th scope=row>Multiome10x_05_ACGTCCAAGCATGTTA-1</th><td>Multiome10x_05_ACGTCCAAGCATGTTA-1</td><td> 9100</td><td>1177</td><td>K562</td><td>9.116030</td><td>0.12934066</td></tr>\n",
       "\t<tr><th scope=row>Multiome10x_05_ACTAAAGCATAAGTTC-1</th><td>Multiome10x_05_ACTAAAGCATAAGTTC-1</td><td> 9281</td><td>1391</td><td>K562</td><td>9.135725</td><td>0.14987609</td></tr>\n",
       "\t<tr><th scope=row>Multiome10x_05_ACTTAGGGTAACCACA-1</th><td>Multiome10x_05_ACTTAGGGTAACCACA-1</td><td> 6274</td><td> 649</td><td>K562</td><td>8.744169</td><td>0.10344278</td></tr>\n",
       "\t<tr><th scope=row>Multiome10x_05_AGAAAGGCAGTTAGCC-1</th><td>Multiome10x_05_AGAAAGGCAGTTAGCC-1</td><td> 6434</td><td> 624</td><td>K562</td><td>8.769352</td><td>0.09698477</td></tr>\n",
       "\t<tr><th scope=row>Multiome10x_05_AGACAATAGTTACCGG-1</th><td>Multiome10x_05_AGACAATAGTTACCGG-1</td><td> 7969</td><td> 767</td><td>K562</td><td>8.983314</td><td>0.09624796</td></tr>\n",
       "\t<tr><th scope=row>Multiome10x_05_AGAGAGGAGCATTAGC-1</th><td>Multiome10x_05_AGAGAGGAGCATTAGC-1</td><td> 5569</td><td> 469</td><td>K562</td><td>8.624971</td><td>0.08421620</td></tr>\n",
       "\t<tr><th scope=row>Multiome10x_05_AGCCTGGGTACGGTAC-1</th><td>Multiome10x_05_AGCCTGGGTACGGTAC-1</td><td> 7612</td><td> 836</td><td>K562</td><td>8.937481</td><td>0.10982659</td></tr>\n",
       "\t<tr><th scope=row>Multiome10x_05_AGCGGATAGTAAGGGC-1</th><td>Multiome10x_05_AGCGGATAGTAAGGGC-1</td><td> 3129</td><td> 618</td><td>K562</td><td>8.048469</td><td>0.19750719</td></tr>\n",
       "\t<tr><th scope=row>Multiome10x_05_AGCTACTAGTTATGTG-1</th><td>Multiome10x_05_AGCTACTAGTTATGTG-1</td><td> 7157</td><td> 891</td><td>K562</td><td>8.875846</td><td>0.12449350</td></tr>\n",
       "\t<tr><th scope=row>Multiome10x_05_AGCTAGTTCAAGCCTG-1</th><td>Multiome10x_05_AGCTAGTTCAAGCCTG-1</td><td> 6466</td><td> 808</td><td>K562</td><td>8.774313</td><td>0.12496134</td></tr>\n",
       "\t<tr><th scope=row>Multiome10x_05_AGGAAACGTCACAAAT-1</th><td>Multiome10x_05_AGGAAACGTCACAAAT-1</td><td> 6386</td><td> 834</td><td>K562</td><td>8.761863</td><td>0.13059818</td></tr>\n",
       "\t<tr><th scope=row>⋮</th><td>⋮</td><td>⋮</td><td>⋮</td><td>⋮</td><td>⋮</td><td>⋮</td></tr>\n",
       "\t<tr><th scope=row>Multiome10x_06_TCAAGAACACTATGGC-1</th><td>Multiome10x_06_TCAAGAACACTATGGC-1</td><td>10730</td><td>1295</td><td>K562</td><td>9.280799</td><td>0.12068966</td></tr>\n",
       "\t<tr><th scope=row>Multiome10x_06_TCAAGAACAGTAAGTA-1</th><td>Multiome10x_06_TCAAGAACAGTAAGTA-1</td><td> 6724</td><td> 918</td><td>K562</td><td>8.813438</td><td>0.13652588</td></tr>\n",
       "\t<tr><th scope=row>Multiome10x_06_TCAAGAACATTGTTGG-1</th><td>Multiome10x_06_TCAAGAACATTGTTGG-1</td><td> 4472</td><td> 705</td><td>K562</td><td>8.405591</td><td>0.15764758</td></tr>\n",
       "\t<tr><th scope=row>Multiome10x_06_TCAAGTATCGGGCCAT-1</th><td>Multiome10x_06_TCAAGTATCGGGCCAT-1</td><td> 4278</td><td> 880</td><td>K562</td><td>8.361241</td><td>0.20570360</td></tr>\n",
       "\t<tr><th scope=row>Multiome10x_06_TCAGTAGGTATTGTGG-1</th><td>Multiome10x_06_TCAGTAGGTATTGTGG-1</td><td> 8104</td><td> 928</td><td>K562</td><td>9.000113</td><td>0.11451135</td></tr>\n",
       "\t<tr><th scope=row>Multiome10x_06_TCCGCCATCTTAATGG-1</th><td>Multiome10x_06_TCCGCCATCTTAATGG-1</td><td> 8195</td><td> 902</td><td>K562</td><td>9.011279</td><td>0.11006711</td></tr>\n",
       "\t<tr><th scope=row>Multiome10x_06_TCCTTCAAGGCGGATG-1</th><td>Multiome10x_06_TCCTTCAAGGCGGATG-1</td><td> 4999</td><td> 625</td><td>K562</td><td>8.516993</td><td>0.12502501</td></tr>\n",
       "\t<tr><th scope=row>Multiome10x_06_TCGCCCATCTCACATT-1</th><td>Multiome10x_06_TCGCCCATCTCACATT-1</td><td> 6875</td><td> 934</td><td>K562</td><td>8.835647</td><td>0.13585455</td></tr>\n",
       "\t<tr><th scope=row>Multiome10x_06_TCTAGCACAATTGAAG-1</th><td>Multiome10x_06_TCTAGCACAATTGAAG-1</td><td>13179</td><td>1633</td><td>K562</td><td>9.486380</td><td>0.12390925</td></tr>\n",
       "\t<tr><th scope=row>Multiome10x_06_TGAGGGCCAGTTATGT-1</th><td>Multiome10x_06_TGAGGGCCAGTTATGT-1</td><td> 6005</td><td> 753</td><td>K562</td><td>8.700348</td><td>0.12539550</td></tr>\n",
       "\t<tr><th scope=row>Multiome10x_06_TGATTCAAGTCACTCC-1</th><td>Multiome10x_06_TGATTCAAGTCACTCC-1</td><td> 6641</td><td> 856</td><td>K562</td><td>8.801018</td><td>0.12889625</td></tr>\n",
       "\t<tr><th scope=row>Multiome10x_06_TGCATCCTCTTGGATA-1</th><td>Multiome10x_06_TGCATCCTCTTGGATA-1</td><td> 6217</td><td> 712</td><td>K562</td><td>8.735043</td><td>0.11452469</td></tr>\n",
       "\t<tr><th scope=row>Multiome10x_06_TGCTCTCAGGCATGTT-1</th><td>Multiome10x_06_TGCTCTCAGGCATGTT-1</td><td> 6527</td><td> 811</td><td>K562</td><td>8.783703</td><td>0.12425310</td></tr>\n",
       "\t<tr><th scope=row>Multiome10x_06_TGCTTAAAGGTGCGGA-1</th><td>Multiome10x_06_TGCTTAAAGGTGCGGA-1</td><td> 6855</td><td> 826</td><td>K562</td><td>8.832734</td><td>0.12049599</td></tr>\n",
       "\t<tr><th scope=row>Multiome10x_06_TGCTTGTGTCGTTACT-1</th><td>Multiome10x_06_TGCTTGTGTCGTTACT-1</td><td> 4461</td><td> 354</td><td>K562</td><td>8.403128</td><td>0.07935440</td></tr>\n",
       "\t<tr><th scope=row>Multiome10x_06_TGGATTCAGACTTACA-1</th><td>Multiome10x_06_TGGATTCAGACTTACA-1</td><td> 6306</td><td>1156</td><td>K562</td><td>8.749257</td><td>0.18331748</td></tr>\n",
       "\t<tr><th scope=row>Multiome10x_06_TGGATTCAGTTATGGC-1</th><td>Multiome10x_06_TGGATTCAGTTATGGC-1</td><td> 6283</td><td>1178</td><td>K562</td><td>8.745603</td><td>0.18749005</td></tr>\n",
       "\t<tr><th scope=row>Multiome10x_06_TGGTCCTTCTGGTCCT-1</th><td>Multiome10x_06_TGGTCCTTCTGGTCCT-1</td><td> 7428</td><td>1005</td><td>K562</td><td>8.913012</td><td>0.13529887</td></tr>\n",
       "\t<tr><th scope=row>Multiome10x_06_TGGTTAATCACGCCAA-1</th><td>Multiome10x_06_TGGTTAATCACGCCAA-1</td><td> 2400</td><td> 253</td><td>K562</td><td>7.783224</td><td>0.10541667</td></tr>\n",
       "\t<tr><th scope=row>Multiome10x_06_TGGTTGAGTTGTCCAT-1</th><td>Multiome10x_06_TGGTTGAGTTGTCCAT-1</td><td> 6233</td><td> 723</td><td>K562</td><td>8.737613</td><td>0.11599551</td></tr>\n",
       "\t<tr><th scope=row>Multiome10x_06_TTACCTGTCATAGACC-1</th><td>Multiome10x_06_TTACCTGTCATAGACC-1</td><td> 4864</td><td> 553</td><td>K562</td><td>8.489616</td><td>0.11369243</td></tr>\n",
       "\t<tr><th scope=row>Multiome10x_06_TTAGGCTAGCGCAATT-1</th><td>Multiome10x_06_TTAGGCTAGCGCAATT-1</td><td> 8514</td><td>1195</td><td>K562</td><td>9.049467</td><td>0.14035706</td></tr>\n",
       "\t<tr><th scope=row>Multiome10x_06_TTCAACCGTTTGGCGG-1</th><td>Multiome10x_06_TTCAACCGTTTGGCGG-1</td><td> 6733</td><td> 756</td><td>K562</td><td>8.814776</td><td>0.11228279</td></tr>\n",
       "\t<tr><th scope=row>Multiome10x_06_TTGCCCGTCTCCATAT-1</th><td>Multiome10x_06_TTGCCCGTCTCCATAT-1</td><td> 6294</td><td> 727</td><td>K562</td><td>8.747352</td><td>0.11550683</td></tr>\n",
       "\t<tr><th scope=row>Multiome10x_06_TTGGATCAGTCTCACC-1</th><td>Multiome10x_06_TTGGATCAGTCTCACC-1</td><td> 7532</td><td> 661</td><td>K562</td><td>8.926916</td><td>0.08775890</td></tr>\n",
       "\t<tr><th scope=row>Multiome10x_06_TTGTGCCTCGGTAACT-1</th><td>Multiome10x_06_TTGTGCCTCGGTAACT-1</td><td> 7416</td><td> 941</td><td>K562</td><td>8.911395</td><td>0.12688781</td></tr>\n",
       "\t<tr><th scope=row>Multiome10x_06_TTTAGCAAGGGTGGAT-1</th><td>Multiome10x_06_TTTAGCAAGGGTGGAT-1</td><td>16830</td><td>2192</td><td>K562</td><td>9.730918</td><td>0.13024361</td></tr>\n",
       "\t<tr><th scope=row>Multiome10x_06_TTTCCGGGTTAGTTGG-1</th><td>Multiome10x_06_TTTCCGGGTTAGTTGG-1</td><td> 3377</td><td> 328</td><td>K562</td><td>8.124743</td><td>0.09712763</td></tr>\n",
       "\t<tr><th scope=row>Multiome10x_06_TTTCTCACAATCTCTC-1</th><td>Multiome10x_06_TTTCTCACAATCTCTC-1</td><td> 3044</td><td>  34</td><td>K562</td><td>8.020928</td><td>0.01116951</td></tr>\n",
       "\t<tr><th scope=row>Multiome10x_06_TTTCTTGCAGTTTACG-1</th><td>Multiome10x_06_TTTCTTGCAGTTTACG-1</td><td> 5663</td><td> 746</td><td>K562</td><td>8.641709</td><td>0.13173230</td></tr>\n",
       "</tbody>\n",
       "</table>\n"
      ],
      "text/latex": [
       "A data.frame: 333 × 6\n",
       "\\begin{tabular}{r|llllll}\n",
       "  & cell & nUMI & nMito & celltype & log.nUMI & percent.mito\\\\\n",
       "  & <chr> & <dbl> & <dbl> & <chr> & <dbl> & <dbl>\\\\\n",
       "\\hline\n",
       "\tMultiome10x\\_05\\_AAATGCCTCCAATTAG-1 & Multiome10x\\_05\\_AAATGCCTCCAATTAG-1 &  4022 &  739 & K562 & 8.299535 & 0.18373943\\\\\n",
       "\tMultiome10x\\_05\\_AACTACTCACTATGGC-1 & Multiome10x\\_05\\_AACTACTCACTATGGC-1 &  9856 & 1270 & K562 & 9.195836 & 0.12885552\\\\\n",
       "\tMultiome10x\\_05\\_AACTGTTCAGGCTTGT-1 & Multiome10x\\_05\\_AACTGTTCAGGCTTGT-1 &  4715 &  656 & K562 & 8.458504 & 0.13913043\\\\\n",
       "\tMultiome10x\\_05\\_AAGCGTTTCCTGGTGA-1 & Multiome10x\\_05\\_AAGCGTTTCCTGGTGA-1 &  7466 &  929 & K562 & 8.918115 & 0.12443075\\\\\n",
       "\tMultiome10x\\_05\\_AAGCTAGAGGTAAGCA-1 & Multiome10x\\_05\\_AAGCTAGAGGTAAGCA-1 &  6014 &  532 & K562 & 8.701845 & 0.08846026\\\\\n",
       "\tMultiome10x\\_05\\_AATAACCGTCACCAAA-1 & Multiome10x\\_05\\_AATAACCGTCACCAAA-1 &  5772 &  823 & K562 & 8.660774 & 0.14258489\\\\\n",
       "\tMultiome10x\\_05\\_AATAACCGTTGGCCGA-1 & Multiome10x\\_05\\_AATAACCGTTGGCCGA-1 &  6314 &  799 & K562 & 8.750525 & 0.12654419\\\\\n",
       "\tMultiome10x\\_05\\_AATATCCCAACCTGGT-1 & Multiome10x\\_05\\_AATATCCCAACCTGGT-1 & 11613 & 1633 & K562 & 9.359880 & 0.14061827\\\\\n",
       "\tMultiome10x\\_05\\_AATCCGTAGCTACTGG-1 & Multiome10x\\_05\\_AATCCGTAGCTACTGG-1 &  7714 & 1092 & K562 & 8.950792 & 0.14156080\\\\\n",
       "\tMultiome10x\\_05\\_AATTACCCATAGCGGA-1 & Multiome10x\\_05\\_AATTACCCATAGCGGA-1 &  6445 &  823 & K562 & 8.771060 & 0.12769589\\\\\n",
       "\tMultiome10x\\_05\\_AATTGCCAGCGGATAA-1 & Multiome10x\\_05\\_AATTGCCAGCGGATAA-1 &  6824 &  992 & K562 & 8.828201 & 0.14536928\\\\\n",
       "\tMultiome10x\\_05\\_ACATTAGTCTACTAAG-1 & Multiome10x\\_05\\_ACATTAGTCTACTAAG-1 &  4018 &  848 & K562 & 8.298540 & 0.21105027\\\\\n",
       "\tMultiome10x\\_05\\_ACCACACCAGGCATCT-1 & Multiome10x\\_05\\_ACCACACCAGGCATCT-1 &  7391 &  896 & K562 & 8.908018 & 0.12122852\\\\\n",
       "\tMultiome10x\\_05\\_ACCGGTTCAACACCTA-1 & Multiome10x\\_05\\_ACCGGTTCAACACCTA-1 &  8680 & 1065 & K562 & 9.068777 & 0.12269585\\\\\n",
       "\tMultiome10x\\_05\\_ACCTAAATCAAGTGAG-1 & Multiome10x\\_05\\_ACCTAAATCAAGTGAG-1 &  5579 &  583 & K562 & 8.626765 & 0.10449901\\\\\n",
       "\tMultiome10x\\_05\\_ACCTGTTGTCTAACCT-1 & Multiome10x\\_05\\_ACCTGTTGTCTAACCT-1 &  7376 & 1029 & K562 & 8.905987 & 0.13950651\\\\\n",
       "\tMultiome10x\\_05\\_ACGAGTAAGGGTCTAT-1 & Multiome10x\\_05\\_ACGAGTAAGGGTCTAT-1 &  6259 &  772 & K562 & 8.741776 & 0.12334239\\\\\n",
       "\tMultiome10x\\_05\\_ACGCTTGAGTTGGATC-1 & Multiome10x\\_05\\_ACGCTTGAGTTGGATC-1 &  5743 &  743 & K562 & 8.655737 & 0.12937489\\\\\n",
       "\tMultiome10x\\_05\\_ACGTACCCAGCATTAT-1 & Multiome10x\\_05\\_ACGTACCCAGCATTAT-1 &  8238 & 1029 & K562 & 9.016513 & 0.12490896\\\\\n",
       "\tMultiome10x\\_05\\_ACGTCCAAGCATGTTA-1 & Multiome10x\\_05\\_ACGTCCAAGCATGTTA-1 &  9100 & 1177 & K562 & 9.116030 & 0.12934066\\\\\n",
       "\tMultiome10x\\_05\\_ACTAAAGCATAAGTTC-1 & Multiome10x\\_05\\_ACTAAAGCATAAGTTC-1 &  9281 & 1391 & K562 & 9.135725 & 0.14987609\\\\\n",
       "\tMultiome10x\\_05\\_ACTTAGGGTAACCACA-1 & Multiome10x\\_05\\_ACTTAGGGTAACCACA-1 &  6274 &  649 & K562 & 8.744169 & 0.10344278\\\\\n",
       "\tMultiome10x\\_05\\_AGAAAGGCAGTTAGCC-1 & Multiome10x\\_05\\_AGAAAGGCAGTTAGCC-1 &  6434 &  624 & K562 & 8.769352 & 0.09698477\\\\\n",
       "\tMultiome10x\\_05\\_AGACAATAGTTACCGG-1 & Multiome10x\\_05\\_AGACAATAGTTACCGG-1 &  7969 &  767 & K562 & 8.983314 & 0.09624796\\\\\n",
       "\tMultiome10x\\_05\\_AGAGAGGAGCATTAGC-1 & Multiome10x\\_05\\_AGAGAGGAGCATTAGC-1 &  5569 &  469 & K562 & 8.624971 & 0.08421620\\\\\n",
       "\tMultiome10x\\_05\\_AGCCTGGGTACGGTAC-1 & Multiome10x\\_05\\_AGCCTGGGTACGGTAC-1 &  7612 &  836 & K562 & 8.937481 & 0.10982659\\\\\n",
       "\tMultiome10x\\_05\\_AGCGGATAGTAAGGGC-1 & Multiome10x\\_05\\_AGCGGATAGTAAGGGC-1 &  3129 &  618 & K562 & 8.048469 & 0.19750719\\\\\n",
       "\tMultiome10x\\_05\\_AGCTACTAGTTATGTG-1 & Multiome10x\\_05\\_AGCTACTAGTTATGTG-1 &  7157 &  891 & K562 & 8.875846 & 0.12449350\\\\\n",
       "\tMultiome10x\\_05\\_AGCTAGTTCAAGCCTG-1 & Multiome10x\\_05\\_AGCTAGTTCAAGCCTG-1 &  6466 &  808 & K562 & 8.774313 & 0.12496134\\\\\n",
       "\tMultiome10x\\_05\\_AGGAAACGTCACAAAT-1 & Multiome10x\\_05\\_AGGAAACGTCACAAAT-1 &  6386 &  834 & K562 & 8.761863 & 0.13059818\\\\\n",
       "\t⋮ & ⋮ & ⋮ & ⋮ & ⋮ & ⋮ & ⋮\\\\\n",
       "\tMultiome10x\\_06\\_TCAAGAACACTATGGC-1 & Multiome10x\\_06\\_TCAAGAACACTATGGC-1 & 10730 & 1295 & K562 & 9.280799 & 0.12068966\\\\\n",
       "\tMultiome10x\\_06\\_TCAAGAACAGTAAGTA-1 & Multiome10x\\_06\\_TCAAGAACAGTAAGTA-1 &  6724 &  918 & K562 & 8.813438 & 0.13652588\\\\\n",
       "\tMultiome10x\\_06\\_TCAAGAACATTGTTGG-1 & Multiome10x\\_06\\_TCAAGAACATTGTTGG-1 &  4472 &  705 & K562 & 8.405591 & 0.15764758\\\\\n",
       "\tMultiome10x\\_06\\_TCAAGTATCGGGCCAT-1 & Multiome10x\\_06\\_TCAAGTATCGGGCCAT-1 &  4278 &  880 & K562 & 8.361241 & 0.20570360\\\\\n",
       "\tMultiome10x\\_06\\_TCAGTAGGTATTGTGG-1 & Multiome10x\\_06\\_TCAGTAGGTATTGTGG-1 &  8104 &  928 & K562 & 9.000113 & 0.11451135\\\\\n",
       "\tMultiome10x\\_06\\_TCCGCCATCTTAATGG-1 & Multiome10x\\_06\\_TCCGCCATCTTAATGG-1 &  8195 &  902 & K562 & 9.011279 & 0.11006711\\\\\n",
       "\tMultiome10x\\_06\\_TCCTTCAAGGCGGATG-1 & Multiome10x\\_06\\_TCCTTCAAGGCGGATG-1 &  4999 &  625 & K562 & 8.516993 & 0.12502501\\\\\n",
       "\tMultiome10x\\_06\\_TCGCCCATCTCACATT-1 & Multiome10x\\_06\\_TCGCCCATCTCACATT-1 &  6875 &  934 & K562 & 8.835647 & 0.13585455\\\\\n",
       "\tMultiome10x\\_06\\_TCTAGCACAATTGAAG-1 & Multiome10x\\_06\\_TCTAGCACAATTGAAG-1 & 13179 & 1633 & K562 & 9.486380 & 0.12390925\\\\\n",
       "\tMultiome10x\\_06\\_TGAGGGCCAGTTATGT-1 & Multiome10x\\_06\\_TGAGGGCCAGTTATGT-1 &  6005 &  753 & K562 & 8.700348 & 0.12539550\\\\\n",
       "\tMultiome10x\\_06\\_TGATTCAAGTCACTCC-1 & Multiome10x\\_06\\_TGATTCAAGTCACTCC-1 &  6641 &  856 & K562 & 8.801018 & 0.12889625\\\\\n",
       "\tMultiome10x\\_06\\_TGCATCCTCTTGGATA-1 & Multiome10x\\_06\\_TGCATCCTCTTGGATA-1 &  6217 &  712 & K562 & 8.735043 & 0.11452469\\\\\n",
       "\tMultiome10x\\_06\\_TGCTCTCAGGCATGTT-1 & Multiome10x\\_06\\_TGCTCTCAGGCATGTT-1 &  6527 &  811 & K562 & 8.783703 & 0.12425310\\\\\n",
       "\tMultiome10x\\_06\\_TGCTTAAAGGTGCGGA-1 & Multiome10x\\_06\\_TGCTTAAAGGTGCGGA-1 &  6855 &  826 & K562 & 8.832734 & 0.12049599\\\\\n",
       "\tMultiome10x\\_06\\_TGCTTGTGTCGTTACT-1 & Multiome10x\\_06\\_TGCTTGTGTCGTTACT-1 &  4461 &  354 & K562 & 8.403128 & 0.07935440\\\\\n",
       "\tMultiome10x\\_06\\_TGGATTCAGACTTACA-1 & Multiome10x\\_06\\_TGGATTCAGACTTACA-1 &  6306 & 1156 & K562 & 8.749257 & 0.18331748\\\\\n",
       "\tMultiome10x\\_06\\_TGGATTCAGTTATGGC-1 & Multiome10x\\_06\\_TGGATTCAGTTATGGC-1 &  6283 & 1178 & K562 & 8.745603 & 0.18749005\\\\\n",
       "\tMultiome10x\\_06\\_TGGTCCTTCTGGTCCT-1 & Multiome10x\\_06\\_TGGTCCTTCTGGTCCT-1 &  7428 & 1005 & K562 & 8.913012 & 0.13529887\\\\\n",
       "\tMultiome10x\\_06\\_TGGTTAATCACGCCAA-1 & Multiome10x\\_06\\_TGGTTAATCACGCCAA-1 &  2400 &  253 & K562 & 7.783224 & 0.10541667\\\\\n",
       "\tMultiome10x\\_06\\_TGGTTGAGTTGTCCAT-1 & Multiome10x\\_06\\_TGGTTGAGTTGTCCAT-1 &  6233 &  723 & K562 & 8.737613 & 0.11599551\\\\\n",
       "\tMultiome10x\\_06\\_TTACCTGTCATAGACC-1 & Multiome10x\\_06\\_TTACCTGTCATAGACC-1 &  4864 &  553 & K562 & 8.489616 & 0.11369243\\\\\n",
       "\tMultiome10x\\_06\\_TTAGGCTAGCGCAATT-1 & Multiome10x\\_06\\_TTAGGCTAGCGCAATT-1 &  8514 & 1195 & K562 & 9.049467 & 0.14035706\\\\\n",
       "\tMultiome10x\\_06\\_TTCAACCGTTTGGCGG-1 & Multiome10x\\_06\\_TTCAACCGTTTGGCGG-1 &  6733 &  756 & K562 & 8.814776 & 0.11228279\\\\\n",
       "\tMultiome10x\\_06\\_TTGCCCGTCTCCATAT-1 & Multiome10x\\_06\\_TTGCCCGTCTCCATAT-1 &  6294 &  727 & K562 & 8.747352 & 0.11550683\\\\\n",
       "\tMultiome10x\\_06\\_TTGGATCAGTCTCACC-1 & Multiome10x\\_06\\_TTGGATCAGTCTCACC-1 &  7532 &  661 & K562 & 8.926916 & 0.08775890\\\\\n",
       "\tMultiome10x\\_06\\_TTGTGCCTCGGTAACT-1 & Multiome10x\\_06\\_TTGTGCCTCGGTAACT-1 &  7416 &  941 & K562 & 8.911395 & 0.12688781\\\\\n",
       "\tMultiome10x\\_06\\_TTTAGCAAGGGTGGAT-1 & Multiome10x\\_06\\_TTTAGCAAGGGTGGAT-1 & 16830 & 2192 & K562 & 9.730918 & 0.13024361\\\\\n",
       "\tMultiome10x\\_06\\_TTTCCGGGTTAGTTGG-1 & Multiome10x\\_06\\_TTTCCGGGTTAGTTGG-1 &  3377 &  328 & K562 & 8.124743 & 0.09712763\\\\\n",
       "\tMultiome10x\\_06\\_TTTCTCACAATCTCTC-1 & Multiome10x\\_06\\_TTTCTCACAATCTCTC-1 &  3044 &   34 & K562 & 8.020928 & 0.01116951\\\\\n",
       "\tMultiome10x\\_06\\_TTTCTTGCAGTTTACG-1 & Multiome10x\\_06\\_TTTCTTGCAGTTTACG-1 &  5663 &  746 & K562 & 8.641709 & 0.13173230\\\\\n",
       "\\end{tabular}\n"
      ],
      "text/markdown": [
       "\n",
       "A data.frame: 333 × 6\n",
       "\n",
       "| <!--/--> | cell &lt;chr&gt; | nUMI &lt;dbl&gt; | nMito &lt;dbl&gt; | celltype &lt;chr&gt; | log.nUMI &lt;dbl&gt; | percent.mito &lt;dbl&gt; |\n",
       "|---|---|---|---|---|---|---|\n",
       "| Multiome10x_05_AAATGCCTCCAATTAG-1 | Multiome10x_05_AAATGCCTCCAATTAG-1 |  4022 |  739 | K562 | 8.299535 | 0.18373943 |\n",
       "| Multiome10x_05_AACTACTCACTATGGC-1 | Multiome10x_05_AACTACTCACTATGGC-1 |  9856 | 1270 | K562 | 9.195836 | 0.12885552 |\n",
       "| Multiome10x_05_AACTGTTCAGGCTTGT-1 | Multiome10x_05_AACTGTTCAGGCTTGT-1 |  4715 |  656 | K562 | 8.458504 | 0.13913043 |\n",
       "| Multiome10x_05_AAGCGTTTCCTGGTGA-1 | Multiome10x_05_AAGCGTTTCCTGGTGA-1 |  7466 |  929 | K562 | 8.918115 | 0.12443075 |\n",
       "| Multiome10x_05_AAGCTAGAGGTAAGCA-1 | Multiome10x_05_AAGCTAGAGGTAAGCA-1 |  6014 |  532 | K562 | 8.701845 | 0.08846026 |\n",
       "| Multiome10x_05_AATAACCGTCACCAAA-1 | Multiome10x_05_AATAACCGTCACCAAA-1 |  5772 |  823 | K562 | 8.660774 | 0.14258489 |\n",
       "| Multiome10x_05_AATAACCGTTGGCCGA-1 | Multiome10x_05_AATAACCGTTGGCCGA-1 |  6314 |  799 | K562 | 8.750525 | 0.12654419 |\n",
       "| Multiome10x_05_AATATCCCAACCTGGT-1 | Multiome10x_05_AATATCCCAACCTGGT-1 | 11613 | 1633 | K562 | 9.359880 | 0.14061827 |\n",
       "| Multiome10x_05_AATCCGTAGCTACTGG-1 | Multiome10x_05_AATCCGTAGCTACTGG-1 |  7714 | 1092 | K562 | 8.950792 | 0.14156080 |\n",
       "| Multiome10x_05_AATTACCCATAGCGGA-1 | Multiome10x_05_AATTACCCATAGCGGA-1 |  6445 |  823 | K562 | 8.771060 | 0.12769589 |\n",
       "| Multiome10x_05_AATTGCCAGCGGATAA-1 | Multiome10x_05_AATTGCCAGCGGATAA-1 |  6824 |  992 | K562 | 8.828201 | 0.14536928 |\n",
       "| Multiome10x_05_ACATTAGTCTACTAAG-1 | Multiome10x_05_ACATTAGTCTACTAAG-1 |  4018 |  848 | K562 | 8.298540 | 0.21105027 |\n",
       "| Multiome10x_05_ACCACACCAGGCATCT-1 | Multiome10x_05_ACCACACCAGGCATCT-1 |  7391 |  896 | K562 | 8.908018 | 0.12122852 |\n",
       "| Multiome10x_05_ACCGGTTCAACACCTA-1 | Multiome10x_05_ACCGGTTCAACACCTA-1 |  8680 | 1065 | K562 | 9.068777 | 0.12269585 |\n",
       "| Multiome10x_05_ACCTAAATCAAGTGAG-1 | Multiome10x_05_ACCTAAATCAAGTGAG-1 |  5579 |  583 | K562 | 8.626765 | 0.10449901 |\n",
       "| Multiome10x_05_ACCTGTTGTCTAACCT-1 | Multiome10x_05_ACCTGTTGTCTAACCT-1 |  7376 | 1029 | K562 | 8.905987 | 0.13950651 |\n",
       "| Multiome10x_05_ACGAGTAAGGGTCTAT-1 | Multiome10x_05_ACGAGTAAGGGTCTAT-1 |  6259 |  772 | K562 | 8.741776 | 0.12334239 |\n",
       "| Multiome10x_05_ACGCTTGAGTTGGATC-1 | Multiome10x_05_ACGCTTGAGTTGGATC-1 |  5743 |  743 | K562 | 8.655737 | 0.12937489 |\n",
       "| Multiome10x_05_ACGTACCCAGCATTAT-1 | Multiome10x_05_ACGTACCCAGCATTAT-1 |  8238 | 1029 | K562 | 9.016513 | 0.12490896 |\n",
       "| Multiome10x_05_ACGTCCAAGCATGTTA-1 | Multiome10x_05_ACGTCCAAGCATGTTA-1 |  9100 | 1177 | K562 | 9.116030 | 0.12934066 |\n",
       "| Multiome10x_05_ACTAAAGCATAAGTTC-1 | Multiome10x_05_ACTAAAGCATAAGTTC-1 |  9281 | 1391 | K562 | 9.135725 | 0.14987609 |\n",
       "| Multiome10x_05_ACTTAGGGTAACCACA-1 | Multiome10x_05_ACTTAGGGTAACCACA-1 |  6274 |  649 | K562 | 8.744169 | 0.10344278 |\n",
       "| Multiome10x_05_AGAAAGGCAGTTAGCC-1 | Multiome10x_05_AGAAAGGCAGTTAGCC-1 |  6434 |  624 | K562 | 8.769352 | 0.09698477 |\n",
       "| Multiome10x_05_AGACAATAGTTACCGG-1 | Multiome10x_05_AGACAATAGTTACCGG-1 |  7969 |  767 | K562 | 8.983314 | 0.09624796 |\n",
       "| Multiome10x_05_AGAGAGGAGCATTAGC-1 | Multiome10x_05_AGAGAGGAGCATTAGC-1 |  5569 |  469 | K562 | 8.624971 | 0.08421620 |\n",
       "| Multiome10x_05_AGCCTGGGTACGGTAC-1 | Multiome10x_05_AGCCTGGGTACGGTAC-1 |  7612 |  836 | K562 | 8.937481 | 0.10982659 |\n",
       "| Multiome10x_05_AGCGGATAGTAAGGGC-1 | Multiome10x_05_AGCGGATAGTAAGGGC-1 |  3129 |  618 | K562 | 8.048469 | 0.19750719 |\n",
       "| Multiome10x_05_AGCTACTAGTTATGTG-1 | Multiome10x_05_AGCTACTAGTTATGTG-1 |  7157 |  891 | K562 | 8.875846 | 0.12449350 |\n",
       "| Multiome10x_05_AGCTAGTTCAAGCCTG-1 | Multiome10x_05_AGCTAGTTCAAGCCTG-1 |  6466 |  808 | K562 | 8.774313 | 0.12496134 |\n",
       "| Multiome10x_05_AGGAAACGTCACAAAT-1 | Multiome10x_05_AGGAAACGTCACAAAT-1 |  6386 |  834 | K562 | 8.761863 | 0.13059818 |\n",
       "| ⋮ | ⋮ | ⋮ | ⋮ | ⋮ | ⋮ | ⋮ |\n",
       "| Multiome10x_06_TCAAGAACACTATGGC-1 | Multiome10x_06_TCAAGAACACTATGGC-1 | 10730 | 1295 | K562 | 9.280799 | 0.12068966 |\n",
       "| Multiome10x_06_TCAAGAACAGTAAGTA-1 | Multiome10x_06_TCAAGAACAGTAAGTA-1 |  6724 |  918 | K562 | 8.813438 | 0.13652588 |\n",
       "| Multiome10x_06_TCAAGAACATTGTTGG-1 | Multiome10x_06_TCAAGAACATTGTTGG-1 |  4472 |  705 | K562 | 8.405591 | 0.15764758 |\n",
       "| Multiome10x_06_TCAAGTATCGGGCCAT-1 | Multiome10x_06_TCAAGTATCGGGCCAT-1 |  4278 |  880 | K562 | 8.361241 | 0.20570360 |\n",
       "| Multiome10x_06_TCAGTAGGTATTGTGG-1 | Multiome10x_06_TCAGTAGGTATTGTGG-1 |  8104 |  928 | K562 | 9.000113 | 0.11451135 |\n",
       "| Multiome10x_06_TCCGCCATCTTAATGG-1 | Multiome10x_06_TCCGCCATCTTAATGG-1 |  8195 |  902 | K562 | 9.011279 | 0.11006711 |\n",
       "| Multiome10x_06_TCCTTCAAGGCGGATG-1 | Multiome10x_06_TCCTTCAAGGCGGATG-1 |  4999 |  625 | K562 | 8.516993 | 0.12502501 |\n",
       "| Multiome10x_06_TCGCCCATCTCACATT-1 | Multiome10x_06_TCGCCCATCTCACATT-1 |  6875 |  934 | K562 | 8.835647 | 0.13585455 |\n",
       "| Multiome10x_06_TCTAGCACAATTGAAG-1 | Multiome10x_06_TCTAGCACAATTGAAG-1 | 13179 | 1633 | K562 | 9.486380 | 0.12390925 |\n",
       "| Multiome10x_06_TGAGGGCCAGTTATGT-1 | Multiome10x_06_TGAGGGCCAGTTATGT-1 |  6005 |  753 | K562 | 8.700348 | 0.12539550 |\n",
       "| Multiome10x_06_TGATTCAAGTCACTCC-1 | Multiome10x_06_TGATTCAAGTCACTCC-1 |  6641 |  856 | K562 | 8.801018 | 0.12889625 |\n",
       "| Multiome10x_06_TGCATCCTCTTGGATA-1 | Multiome10x_06_TGCATCCTCTTGGATA-1 |  6217 |  712 | K562 | 8.735043 | 0.11452469 |\n",
       "| Multiome10x_06_TGCTCTCAGGCATGTT-1 | Multiome10x_06_TGCTCTCAGGCATGTT-1 |  6527 |  811 | K562 | 8.783703 | 0.12425310 |\n",
       "| Multiome10x_06_TGCTTAAAGGTGCGGA-1 | Multiome10x_06_TGCTTAAAGGTGCGGA-1 |  6855 |  826 | K562 | 8.832734 | 0.12049599 |\n",
       "| Multiome10x_06_TGCTTGTGTCGTTACT-1 | Multiome10x_06_TGCTTGTGTCGTTACT-1 |  4461 |  354 | K562 | 8.403128 | 0.07935440 |\n",
       "| Multiome10x_06_TGGATTCAGACTTACA-1 | Multiome10x_06_TGGATTCAGACTTACA-1 |  6306 | 1156 | K562 | 8.749257 | 0.18331748 |\n",
       "| Multiome10x_06_TGGATTCAGTTATGGC-1 | Multiome10x_06_TGGATTCAGTTATGGC-1 |  6283 | 1178 | K562 | 8.745603 | 0.18749005 |\n",
       "| Multiome10x_06_TGGTCCTTCTGGTCCT-1 | Multiome10x_06_TGGTCCTTCTGGTCCT-1 |  7428 | 1005 | K562 | 8.913012 | 0.13529887 |\n",
       "| Multiome10x_06_TGGTTAATCACGCCAA-1 | Multiome10x_06_TGGTTAATCACGCCAA-1 |  2400 |  253 | K562 | 7.783224 | 0.10541667 |\n",
       "| Multiome10x_06_TGGTTGAGTTGTCCAT-1 | Multiome10x_06_TGGTTGAGTTGTCCAT-1 |  6233 |  723 | K562 | 8.737613 | 0.11599551 |\n",
       "| Multiome10x_06_TTACCTGTCATAGACC-1 | Multiome10x_06_TTACCTGTCATAGACC-1 |  4864 |  553 | K562 | 8.489616 | 0.11369243 |\n",
       "| Multiome10x_06_TTAGGCTAGCGCAATT-1 | Multiome10x_06_TTAGGCTAGCGCAATT-1 |  8514 | 1195 | K562 | 9.049467 | 0.14035706 |\n",
       "| Multiome10x_06_TTCAACCGTTTGGCGG-1 | Multiome10x_06_TTCAACCGTTTGGCGG-1 |  6733 |  756 | K562 | 8.814776 | 0.11228279 |\n",
       "| Multiome10x_06_TTGCCCGTCTCCATAT-1 | Multiome10x_06_TTGCCCGTCTCCATAT-1 |  6294 |  727 | K562 | 8.747352 | 0.11550683 |\n",
       "| Multiome10x_06_TTGGATCAGTCTCACC-1 | Multiome10x_06_TTGGATCAGTCTCACC-1 |  7532 |  661 | K562 | 8.926916 | 0.08775890 |\n",
       "| Multiome10x_06_TTGTGCCTCGGTAACT-1 | Multiome10x_06_TTGTGCCTCGGTAACT-1 |  7416 |  941 | K562 | 8.911395 | 0.12688781 |\n",
       "| Multiome10x_06_TTTAGCAAGGGTGGAT-1 | Multiome10x_06_TTTAGCAAGGGTGGAT-1 | 16830 | 2192 | K562 | 9.730918 | 0.13024361 |\n",
       "| Multiome10x_06_TTTCCGGGTTAGTTGG-1 | Multiome10x_06_TTTCCGGGTTAGTTGG-1 |  3377 |  328 | K562 | 8.124743 | 0.09712763 |\n",
       "| Multiome10x_06_TTTCTCACAATCTCTC-1 | Multiome10x_06_TTTCTCACAATCTCTC-1 |  3044 |   34 | K562 | 8.020928 | 0.01116951 |\n",
       "| Multiome10x_06_TTTCTTGCAGTTTACG-1 | Multiome10x_06_TTTCTTGCAGTTTACG-1 |  5663 |  746 | K562 | 8.641709 | 0.13173230 |\n",
       "\n"
      ],
      "text/plain": [
       "                                  cell                              nUMI  nMito\n",
       "Multiome10x_05_AAATGCCTCCAATTAG-1 Multiome10x_05_AAATGCCTCCAATTAG-1  4022  739 \n",
       "Multiome10x_05_AACTACTCACTATGGC-1 Multiome10x_05_AACTACTCACTATGGC-1  9856 1270 \n",
       "Multiome10x_05_AACTGTTCAGGCTTGT-1 Multiome10x_05_AACTGTTCAGGCTTGT-1  4715  656 \n",
       "Multiome10x_05_AAGCGTTTCCTGGTGA-1 Multiome10x_05_AAGCGTTTCCTGGTGA-1  7466  929 \n",
       "Multiome10x_05_AAGCTAGAGGTAAGCA-1 Multiome10x_05_AAGCTAGAGGTAAGCA-1  6014  532 \n",
       "Multiome10x_05_AATAACCGTCACCAAA-1 Multiome10x_05_AATAACCGTCACCAAA-1  5772  823 \n",
       "Multiome10x_05_AATAACCGTTGGCCGA-1 Multiome10x_05_AATAACCGTTGGCCGA-1  6314  799 \n",
       "Multiome10x_05_AATATCCCAACCTGGT-1 Multiome10x_05_AATATCCCAACCTGGT-1 11613 1633 \n",
       "Multiome10x_05_AATCCGTAGCTACTGG-1 Multiome10x_05_AATCCGTAGCTACTGG-1  7714 1092 \n",
       "Multiome10x_05_AATTACCCATAGCGGA-1 Multiome10x_05_AATTACCCATAGCGGA-1  6445  823 \n",
       "Multiome10x_05_AATTGCCAGCGGATAA-1 Multiome10x_05_AATTGCCAGCGGATAA-1  6824  992 \n",
       "Multiome10x_05_ACATTAGTCTACTAAG-1 Multiome10x_05_ACATTAGTCTACTAAG-1  4018  848 \n",
       "Multiome10x_05_ACCACACCAGGCATCT-1 Multiome10x_05_ACCACACCAGGCATCT-1  7391  896 \n",
       "Multiome10x_05_ACCGGTTCAACACCTA-1 Multiome10x_05_ACCGGTTCAACACCTA-1  8680 1065 \n",
       "Multiome10x_05_ACCTAAATCAAGTGAG-1 Multiome10x_05_ACCTAAATCAAGTGAG-1  5579  583 \n",
       "Multiome10x_05_ACCTGTTGTCTAACCT-1 Multiome10x_05_ACCTGTTGTCTAACCT-1  7376 1029 \n",
       "Multiome10x_05_ACGAGTAAGGGTCTAT-1 Multiome10x_05_ACGAGTAAGGGTCTAT-1  6259  772 \n",
       "Multiome10x_05_ACGCTTGAGTTGGATC-1 Multiome10x_05_ACGCTTGAGTTGGATC-1  5743  743 \n",
       "Multiome10x_05_ACGTACCCAGCATTAT-1 Multiome10x_05_ACGTACCCAGCATTAT-1  8238 1029 \n",
       "Multiome10x_05_ACGTCCAAGCATGTTA-1 Multiome10x_05_ACGTCCAAGCATGTTA-1  9100 1177 \n",
       "Multiome10x_05_ACTAAAGCATAAGTTC-1 Multiome10x_05_ACTAAAGCATAAGTTC-1  9281 1391 \n",
       "Multiome10x_05_ACTTAGGGTAACCACA-1 Multiome10x_05_ACTTAGGGTAACCACA-1  6274  649 \n",
       "Multiome10x_05_AGAAAGGCAGTTAGCC-1 Multiome10x_05_AGAAAGGCAGTTAGCC-1  6434  624 \n",
       "Multiome10x_05_AGACAATAGTTACCGG-1 Multiome10x_05_AGACAATAGTTACCGG-1  7969  767 \n",
       "Multiome10x_05_AGAGAGGAGCATTAGC-1 Multiome10x_05_AGAGAGGAGCATTAGC-1  5569  469 \n",
       "Multiome10x_05_AGCCTGGGTACGGTAC-1 Multiome10x_05_AGCCTGGGTACGGTAC-1  7612  836 \n",
       "Multiome10x_05_AGCGGATAGTAAGGGC-1 Multiome10x_05_AGCGGATAGTAAGGGC-1  3129  618 \n",
       "Multiome10x_05_AGCTACTAGTTATGTG-1 Multiome10x_05_AGCTACTAGTTATGTG-1  7157  891 \n",
       "Multiome10x_05_AGCTAGTTCAAGCCTG-1 Multiome10x_05_AGCTAGTTCAAGCCTG-1  6466  808 \n",
       "Multiome10x_05_AGGAAACGTCACAAAT-1 Multiome10x_05_AGGAAACGTCACAAAT-1  6386  834 \n",
       "⋮                                 ⋮                                 ⋮     ⋮    \n",
       "Multiome10x_06_TCAAGAACACTATGGC-1 Multiome10x_06_TCAAGAACACTATGGC-1 10730 1295 \n",
       "Multiome10x_06_TCAAGAACAGTAAGTA-1 Multiome10x_06_TCAAGAACAGTAAGTA-1  6724  918 \n",
       "Multiome10x_06_TCAAGAACATTGTTGG-1 Multiome10x_06_TCAAGAACATTGTTGG-1  4472  705 \n",
       "Multiome10x_06_TCAAGTATCGGGCCAT-1 Multiome10x_06_TCAAGTATCGGGCCAT-1  4278  880 \n",
       "Multiome10x_06_TCAGTAGGTATTGTGG-1 Multiome10x_06_TCAGTAGGTATTGTGG-1  8104  928 \n",
       "Multiome10x_06_TCCGCCATCTTAATGG-1 Multiome10x_06_TCCGCCATCTTAATGG-1  8195  902 \n",
       "Multiome10x_06_TCCTTCAAGGCGGATG-1 Multiome10x_06_TCCTTCAAGGCGGATG-1  4999  625 \n",
       "Multiome10x_06_TCGCCCATCTCACATT-1 Multiome10x_06_TCGCCCATCTCACATT-1  6875  934 \n",
       "Multiome10x_06_TCTAGCACAATTGAAG-1 Multiome10x_06_TCTAGCACAATTGAAG-1 13179 1633 \n",
       "Multiome10x_06_TGAGGGCCAGTTATGT-1 Multiome10x_06_TGAGGGCCAGTTATGT-1  6005  753 \n",
       "Multiome10x_06_TGATTCAAGTCACTCC-1 Multiome10x_06_TGATTCAAGTCACTCC-1  6641  856 \n",
       "Multiome10x_06_TGCATCCTCTTGGATA-1 Multiome10x_06_TGCATCCTCTTGGATA-1  6217  712 \n",
       "Multiome10x_06_TGCTCTCAGGCATGTT-1 Multiome10x_06_TGCTCTCAGGCATGTT-1  6527  811 \n",
       "Multiome10x_06_TGCTTAAAGGTGCGGA-1 Multiome10x_06_TGCTTAAAGGTGCGGA-1  6855  826 \n",
       "Multiome10x_06_TGCTTGTGTCGTTACT-1 Multiome10x_06_TGCTTGTGTCGTTACT-1  4461  354 \n",
       "Multiome10x_06_TGGATTCAGACTTACA-1 Multiome10x_06_TGGATTCAGACTTACA-1  6306 1156 \n",
       "Multiome10x_06_TGGATTCAGTTATGGC-1 Multiome10x_06_TGGATTCAGTTATGGC-1  6283 1178 \n",
       "Multiome10x_06_TGGTCCTTCTGGTCCT-1 Multiome10x_06_TGGTCCTTCTGGTCCT-1  7428 1005 \n",
       "Multiome10x_06_TGGTTAATCACGCCAA-1 Multiome10x_06_TGGTTAATCACGCCAA-1  2400  253 \n",
       "Multiome10x_06_TGGTTGAGTTGTCCAT-1 Multiome10x_06_TGGTTGAGTTGTCCAT-1  6233  723 \n",
       "Multiome10x_06_TTACCTGTCATAGACC-1 Multiome10x_06_TTACCTGTCATAGACC-1  4864  553 \n",
       "Multiome10x_06_TTAGGCTAGCGCAATT-1 Multiome10x_06_TTAGGCTAGCGCAATT-1  8514 1195 \n",
       "Multiome10x_06_TTCAACCGTTTGGCGG-1 Multiome10x_06_TTCAACCGTTTGGCGG-1  6733  756 \n",
       "Multiome10x_06_TTGCCCGTCTCCATAT-1 Multiome10x_06_TTGCCCGTCTCCATAT-1  6294  727 \n",
       "Multiome10x_06_TTGGATCAGTCTCACC-1 Multiome10x_06_TTGGATCAGTCTCACC-1  7532  661 \n",
       "Multiome10x_06_TTGTGCCTCGGTAACT-1 Multiome10x_06_TTGTGCCTCGGTAACT-1  7416  941 \n",
       "Multiome10x_06_TTTAGCAAGGGTGGAT-1 Multiome10x_06_TTTAGCAAGGGTGGAT-1 16830 2192 \n",
       "Multiome10x_06_TTTCCGGGTTAGTTGG-1 Multiome10x_06_TTTCCGGGTTAGTTGG-1  3377  328 \n",
       "Multiome10x_06_TTTCTCACAATCTCTC-1 Multiome10x_06_TTTCTCACAATCTCTC-1  3044   34 \n",
       "Multiome10x_06_TTTCTTGCAGTTTACG-1 Multiome10x_06_TTTCTTGCAGTTTACG-1  5663  746 \n",
       "                                  celltype log.nUMI percent.mito\n",
       "Multiome10x_05_AAATGCCTCCAATTAG-1 K562     8.299535 0.18373943  \n",
       "Multiome10x_05_AACTACTCACTATGGC-1 K562     9.195836 0.12885552  \n",
       "Multiome10x_05_AACTGTTCAGGCTTGT-1 K562     8.458504 0.13913043  \n",
       "Multiome10x_05_AAGCGTTTCCTGGTGA-1 K562     8.918115 0.12443075  \n",
       "Multiome10x_05_AAGCTAGAGGTAAGCA-1 K562     8.701845 0.08846026  \n",
       "Multiome10x_05_AATAACCGTCACCAAA-1 K562     8.660774 0.14258489  \n",
       "Multiome10x_05_AATAACCGTTGGCCGA-1 K562     8.750525 0.12654419  \n",
       "Multiome10x_05_AATATCCCAACCTGGT-1 K562     9.359880 0.14061827  \n",
       "Multiome10x_05_AATCCGTAGCTACTGG-1 K562     8.950792 0.14156080  \n",
       "Multiome10x_05_AATTACCCATAGCGGA-1 K562     8.771060 0.12769589  \n",
       "Multiome10x_05_AATTGCCAGCGGATAA-1 K562     8.828201 0.14536928  \n",
       "Multiome10x_05_ACATTAGTCTACTAAG-1 K562     8.298540 0.21105027  \n",
       "Multiome10x_05_ACCACACCAGGCATCT-1 K562     8.908018 0.12122852  \n",
       "Multiome10x_05_ACCGGTTCAACACCTA-1 K562     9.068777 0.12269585  \n",
       "Multiome10x_05_ACCTAAATCAAGTGAG-1 K562     8.626765 0.10449901  \n",
       "Multiome10x_05_ACCTGTTGTCTAACCT-1 K562     8.905987 0.13950651  \n",
       "Multiome10x_05_ACGAGTAAGGGTCTAT-1 K562     8.741776 0.12334239  \n",
       "Multiome10x_05_ACGCTTGAGTTGGATC-1 K562     8.655737 0.12937489  \n",
       "Multiome10x_05_ACGTACCCAGCATTAT-1 K562     9.016513 0.12490896  \n",
       "Multiome10x_05_ACGTCCAAGCATGTTA-1 K562     9.116030 0.12934066  \n",
       "Multiome10x_05_ACTAAAGCATAAGTTC-1 K562     9.135725 0.14987609  \n",
       "Multiome10x_05_ACTTAGGGTAACCACA-1 K562     8.744169 0.10344278  \n",
       "Multiome10x_05_AGAAAGGCAGTTAGCC-1 K562     8.769352 0.09698477  \n",
       "Multiome10x_05_AGACAATAGTTACCGG-1 K562     8.983314 0.09624796  \n",
       "Multiome10x_05_AGAGAGGAGCATTAGC-1 K562     8.624971 0.08421620  \n",
       "Multiome10x_05_AGCCTGGGTACGGTAC-1 K562     8.937481 0.10982659  \n",
       "Multiome10x_05_AGCGGATAGTAAGGGC-1 K562     8.048469 0.19750719  \n",
       "Multiome10x_05_AGCTACTAGTTATGTG-1 K562     8.875846 0.12449350  \n",
       "Multiome10x_05_AGCTAGTTCAAGCCTG-1 K562     8.774313 0.12496134  \n",
       "Multiome10x_05_AGGAAACGTCACAAAT-1 K562     8.761863 0.13059818  \n",
       "⋮                                 ⋮        ⋮        ⋮           \n",
       "Multiome10x_06_TCAAGAACACTATGGC-1 K562     9.280799 0.12068966  \n",
       "Multiome10x_06_TCAAGAACAGTAAGTA-1 K562     8.813438 0.13652588  \n",
       "Multiome10x_06_TCAAGAACATTGTTGG-1 K562     8.405591 0.15764758  \n",
       "Multiome10x_06_TCAAGTATCGGGCCAT-1 K562     8.361241 0.20570360  \n",
       "Multiome10x_06_TCAGTAGGTATTGTGG-1 K562     9.000113 0.11451135  \n",
       "Multiome10x_06_TCCGCCATCTTAATGG-1 K562     9.011279 0.11006711  \n",
       "Multiome10x_06_TCCTTCAAGGCGGATG-1 K562     8.516993 0.12502501  \n",
       "Multiome10x_06_TCGCCCATCTCACATT-1 K562     8.835647 0.13585455  \n",
       "Multiome10x_06_TCTAGCACAATTGAAG-1 K562     9.486380 0.12390925  \n",
       "Multiome10x_06_TGAGGGCCAGTTATGT-1 K562     8.700348 0.12539550  \n",
       "Multiome10x_06_TGATTCAAGTCACTCC-1 K562     8.801018 0.12889625  \n",
       "Multiome10x_06_TGCATCCTCTTGGATA-1 K562     8.735043 0.11452469  \n",
       "Multiome10x_06_TGCTCTCAGGCATGTT-1 K562     8.783703 0.12425310  \n",
       "Multiome10x_06_TGCTTAAAGGTGCGGA-1 K562     8.832734 0.12049599  \n",
       "Multiome10x_06_TGCTTGTGTCGTTACT-1 K562     8.403128 0.07935440  \n",
       "Multiome10x_06_TGGATTCAGACTTACA-1 K562     8.749257 0.18331748  \n",
       "Multiome10x_06_TGGATTCAGTTATGGC-1 K562     8.745603 0.18749005  \n",
       "Multiome10x_06_TGGTCCTTCTGGTCCT-1 K562     8.913012 0.13529887  \n",
       "Multiome10x_06_TGGTTAATCACGCCAA-1 K562     7.783224 0.10541667  \n",
       "Multiome10x_06_TGGTTGAGTTGTCCAT-1 K562     8.737613 0.11599551  \n",
       "Multiome10x_06_TTACCTGTCATAGACC-1 K562     8.489616 0.11369243  \n",
       "Multiome10x_06_TTAGGCTAGCGCAATT-1 K562     9.049467 0.14035706  \n",
       "Multiome10x_06_TTCAACCGTTTGGCGG-1 K562     8.814776 0.11228279  \n",
       "Multiome10x_06_TTGCCCGTCTCCATAT-1 K562     8.747352 0.11550683  \n",
       "Multiome10x_06_TTGGATCAGTCTCACC-1 K562     8.926916 0.08775890  \n",
       "Multiome10x_06_TTGTGCCTCGGTAACT-1 K562     8.911395 0.12688781  \n",
       "Multiome10x_06_TTTAGCAAGGGTGGAT-1 K562     9.730918 0.13024361  \n",
       "Multiome10x_06_TTTCCGGGTTAGTTGG-1 K562     8.124743 0.09712763  \n",
       "Multiome10x_06_TTTCTCACAATCTCTC-1 K562     8.020928 0.01116951  \n",
       "Multiome10x_06_TTTCTTGCAGTTTACG-1 K562     8.641709 0.13173230  "
      ]
     },
     "metadata": {},
     "output_type": "display_data"
    }
   ],
   "source": [
    "meta.data = data.frame(cell = colnames(matrix.rna),\n",
    "                       nUMI = colSums(matrix.rna),\n",
    "                       nMito = colSums(matrix.rna[grep(\"MT-\",rownames(matrix.rna)),]),\n",
    "                       celltype = \"K562\")\n",
    "meta.data[,\"log.nUMI\"] = log(meta.data[,\"nUMI\"])\n",
    "meta.data[,\"percent.mito\"] = meta.data[,\"nMito\"] / meta.data[,\"nUMI\"]\n",
    "meta.data"
   ]
  },
  {
   "cell_type": "markdown",
   "id": "b823cb4a-3ce6-40b1-9a0d-d5d1e4aa3912",
   "metadata": {},
   "source": [
    "RUN SCENT prediction"
   ]
  },
  {
   "cell_type": "code",
   "execution_count": 14,
   "id": "f46765dc-9de5-4411-9288-40b59435f9fb",
   "metadata": {},
   "outputs": [],
   "source": [
    "RhpcBLASctl::blas_set_num_threads(1)\n",
    "SCENT_algorithm.modified = function (object, \n",
    "                                     # celltype, \n",
    "                                     # ncores, \n",
    "                                     # regr = \"poisson\", \n",
    "                                     # bin = TRUE) \n",
    "                                     regr = \"poisson\") {\n",
    "    res <- data.frame()\n",
    "    for (n in 1:nrow(object@peak.info)) {        \n",
    "        gene <- object@peak.info[n, 1]\n",
    "        this_peak <- object@peak.info[n, 2]\n",
    "        atac_target <- data.frame(cell = colnames(object@atac), \n",
    "            atac = object@atac[this_peak, ])\n",
    "        # if (bin) {\n",
    "        #     atac_target[atac_target$atac > 0, ]$atac <- 1\n",
    "        # }\n",
    "        mrna_target <- object@rna[gene, ]\n",
    "        df <- data.frame(cell = names(mrna_target), exprs = as.numeric(mrna_target))\n",
    "        df <- merge(df, atac_target, by = \"cell\")\n",
    "        df <- merge(df, object@meta.data, by = \"cell\")\n",
    "        # df2 <- df[df[[object@celltypes]] == celltype, ]\n",
    "        df2 <- df\n",
    "        nonzero_m <- length(df2$exprs[df2$exprs > 0])/length(df2$exprs)\n",
    "        nonzero_a <- length(df2$atac[df2$atac > 0])/length(df2$atac)\n",
    "        if (nonzero_m > 0.05 & nonzero_a > 0.05) {\n",
    "            res_var <- \"exprs\"\n",
    "            pred_var <- c(\"atac\", object@covariates)\n",
    "            formula <- as.formula(paste(res_var, paste(pred_var, \n",
    "                collapse = \"+\"), sep = \"~\"))\n",
    "            if (regr == \"poisson\") {\n",
    "                base = glm(formula, family = \"poisson\", data = df2)\n",
    "                coefs <- summary(base)$coefficients[\"atac\", ]\n",
    "                # assoc <- assoc_poisson\n",
    "                assoc <- SCENT::assoc_poisson\n",
    "            }\n",
    "            else if (regr == \"negbin\") {\n",
    "                base = glm.nb(formula, data = df2)\n",
    "                coefs <- summary(base)$coefficients[\"atac\", ]\n",
    "                # assoc <- assoc_negbin\n",
    "                assoc <- SCENT::assoc_negbin\n",
    "            }\n",
    "            bs = boot::boot(df2, assoc, R = 100, formula = formula, \n",
    "                stype = \"i\", parallel = \"no\", ncpus = 1)\n",
    "            # p0 = basic_p(bs$t0[1], bs$t[, 1])\n",
    "            p0 = SCENT::basic_p(bs$t0[1], bs$t[, 1])\n",
    "            if (p0 < 0.1) {\n",
    "                bs = boot::boot(df2, assoc, R = 500, formula = formula, \n",
    "                  stype = \"i\", \n",
    "                  # parallel = \"multicore\", ncpus = ncores)\n",
    "                  parallel = \"no\", ncpus = 1)\n",
    "                # p0 = basic_p(bs$t0[1], bs$t[, 1])\n",
    "                p0 = SCENT::basic_p(bs$t0[1], bs$t[, 1])\n",
    "            }\n",
    "            # if (p0 < 0.05) {\n",
    "            #     bs = boot::boot(df2, assoc, R = 2500, formula = formula, \n",
    "            #       stype = \"i\", \n",
    "            #       # parallel = \"multicore\", ncpus = ncores)\n",
    "            #       parallel = \"no\", ncpus = 1)\n",
    "            #     # p0 = basic_p(bs$t0[1], bs$t[, 1])\n",
    "            #     p0 = SCENT::basic_p(bs$t0[1], bs$t[, 1])\n",
    "            # }\n",
    "            # if (p0 < 0.01) {\n",
    "            #     bs = boot::boot(df2, assoc, R = 25000, formula = formula, \n",
    "            #       stype = \"i\", \n",
    "            #       # parallel = \"multicore\", ncpus = ncores)\n",
    "            #       parallel = \"no\", ncpus = 1)\n",
    "            #     # p0 = basic_p(bs$t0[1], bs$t[, 1])\n",
    "            #     p0 = SCENT::basic_p(bs$t0[1], bs$t[, 1])\n",
    "            # }\n",
    "            # if (p0 < 0.001) {\n",
    "            #     bs = boot::boot(df2, assoc, R = 50000, formula = formula, \n",
    "            #       stype = \"i\", \n",
    "            #       # parallel = \"multicore\", ncpus = ncores)\n",
    "            #       parallel = \"no\", ncpus = 1)\n",
    "            #     # p0 = basic_p(bs$t0[1], bs$t[, 1])\n",
    "            #     p0 = SCENT::basic_p(bs$t0[1], bs$t[, 1])\n",
    "            # }\n",
    "            out <- data.frame(gene = gene, peak = this_peak, \n",
    "                beta = coefs[1], se = coefs[2], z = coefs[3], \n",
    "                p = coefs[4], boot_basic_p = p0)           \n",
    "            res <- rbind(res, out)\n",
    "        }\n",
    "    }\n",
    "    object@SCENT.result <- res\n",
    "    return(object)\n",
    "}"
   ]
  },
  {
   "cell_type": "code",
   "execution_count": 15,
   "id": "563771b9-b96a-44d5-a5fe-fa30a7b9851b",
   "metadata": {},
   "outputs": [
    {
     "name": "stderr",
     "output_type": "stream",
     "text": [
      "Warning message in dir.create(paste(dir.output, \"chr\", sep = \"/\"), recursive = T):\n",
      "“'/maps/projects/ralab_nnfc-AUDIT/people/lpm537/project/E2G/analysis/E2G_240503/data/PBMC/2.Genome_wide_prediction/SCENT/PBMC9.10_cDC.500.250204//chr' already exists”\n"
     ]
    }
   ],
   "source": [
    "dir.create(paste(dir.output,\"chr\",sep = \"/\"),recursive = T)"
   ]
  },
  {
   "cell_type": "code",
   "execution_count": 16,
   "id": "0d2266ce-b92d-40d2-9b78-f39bd33a5079",
   "metadata": {},
   "outputs": [],
   "source": [
    "chr.done = dir(paste(dir.output,\"chr\",sep = \"/\"))\n",
    "chr.run = as.character(unique(seqnames(pairs.E2G)))\n",
    "chr.run = chr.run[!chr.run %in% chr.done]"
   ]
  },
  {
   "cell_type": "code",
   "execution_count": null,
   "id": "2d41238d-e833-4e0e-add5-bb56bb615c1a",
   "metadata": {},
   "outputs": [
    {
     "name": "stdout",
     "output_type": "stream",
     "text": [
      "[1] \"chr1\"\n"
     ]
    },
    {
     "name": "stderr",
     "output_type": "stream",
     "text": [
      "Warning message in split.default(x = seq_len(nrow(x)), f = f, drop = drop, ...):\n",
      "“data length is not a multiple of split variable”\n"
     ]
    },
    {
     "name": "stdout",
     "output_type": "stream",
     "text": [
      "[1] \"chr10\"\n"
     ]
    },
    {
     "name": "stderr",
     "output_type": "stream",
     "text": [
      "Warning message in split.default(x = seq_len(nrow(x)), f = f, drop = drop, ...):\n",
      "“data length is not a multiple of split variable”\n"
     ]
    },
    {
     "name": "stdout",
     "output_type": "stream",
     "text": [
      "[1] \"chr11\"\n",
      "[1] \"chr12\"\n"
     ]
    },
    {
     "name": "stderr",
     "output_type": "stream",
     "text": [
      "Warning message in split.default(x = seq_len(nrow(x)), f = f, drop = drop, ...):\n",
      "“data length is not a multiple of split variable”\n"
     ]
    },
    {
     "name": "stdout",
     "output_type": "stream",
     "text": [
      "[1] \"chr13\"\n"
     ]
    },
    {
     "name": "stderr",
     "output_type": "stream",
     "text": [
      "Warning message in split.default(x = seq_len(nrow(x)), f = f, drop = drop, ...):\n",
      "“data length is not a multiple of split variable”\n"
     ]
    },
    {
     "name": "stdout",
     "output_type": "stream",
     "text": [
      "[1] \"chr14\"\n"
     ]
    },
    {
     "name": "stderr",
     "output_type": "stream",
     "text": [
      "Warning message in split.default(x = seq_len(nrow(x)), f = f, drop = drop, ...):\n",
      "“data length is not a multiple of split variable”\n"
     ]
    },
    {
     "name": "stdout",
     "output_type": "stream",
     "text": [
      "[1] \"chr15\"\n",
      "[1] \"chr16\"\n"
     ]
    },
    {
     "name": "stderr",
     "output_type": "stream",
     "text": [
      "Warning message in split.default(x = seq_len(nrow(x)), f = f, drop = drop, ...):\n",
      "“data length is not a multiple of split variable”\n"
     ]
    },
    {
     "name": "stdout",
     "output_type": "stream",
     "text": [
      "[1] \"chr17\"\n"
     ]
    },
    {
     "name": "stderr",
     "output_type": "stream",
     "text": [
      "Warning message in split.default(x = seq_len(nrow(x)), f = f, drop = drop, ...):\n",
      "“data length is not a multiple of split variable”\n"
     ]
    },
    {
     "name": "stdout",
     "output_type": "stream",
     "text": [
      "[1] \"chr18\"\n"
     ]
    },
    {
     "name": "stderr",
     "output_type": "stream",
     "text": [
      "Warning message in split.default(x = seq_len(nrow(x)), f = f, drop = drop, ...):\n",
      "“data length is not a multiple of split variable”\n"
     ]
    },
    {
     "name": "stdout",
     "output_type": "stream",
     "text": [
      "[1] \"chr19\"\n"
     ]
    },
    {
     "name": "stderr",
     "output_type": "stream",
     "text": [
      "Warning message in split.default(x = seq_len(nrow(x)), f = f, drop = drop, ...):\n",
      "“data length is not a multiple of split variable”\n"
     ]
    },
    {
     "name": "stdout",
     "output_type": "stream",
     "text": [
      "[1] \"chr2\"\n",
      "[1] \"chr20\"\n"
     ]
    },
    {
     "name": "stderr",
     "output_type": "stream",
     "text": [
      "Warning message in split.default(x = seq_len(nrow(x)), f = f, drop = drop, ...):\n",
      "“data length is not a multiple of split variable”\n"
     ]
    },
    {
     "name": "stdout",
     "output_type": "stream",
     "text": [
      "[1] \"chr21\"\n"
     ]
    },
    {
     "name": "stderr",
     "output_type": "stream",
     "text": [
      "Warning message in split.default(x = seq_len(nrow(x)), f = f, drop = drop, ...):\n",
      "“data length is not a multiple of split variable”\n"
     ]
    },
    {
     "name": "stdout",
     "output_type": "stream",
     "text": [
      "[1] \"chr22\"\n"
     ]
    },
    {
     "name": "stderr",
     "output_type": "stream",
     "text": [
      "Warning message in split.default(x = seq_len(nrow(x)), f = f, drop = drop, ...):\n",
      "“data length is not a multiple of split variable”\n"
     ]
    },
    {
     "name": "stdout",
     "output_type": "stream",
     "text": [
      "[1] \"chr3\"\n",
      "[1] \"chr4\"\n"
     ]
    },
    {
     "name": "stderr",
     "output_type": "stream",
     "text": [
      "Warning message in split.default(x = seq_len(nrow(x)), f = f, drop = drop, ...):\n",
      "“data length is not a multiple of split variable”\n"
     ]
    },
    {
     "name": "stdout",
     "output_type": "stream",
     "text": [
      "[1] \"chr5\"\n"
     ]
    },
    {
     "name": "stderr",
     "output_type": "stream",
     "text": [
      "Warning message in split.default(x = seq_len(nrow(x)), f = f, drop = drop, ...):\n",
      "“data length is not a multiple of split variable”\n"
     ]
    },
    {
     "name": "stdout",
     "output_type": "stream",
     "text": [
      "[1] \"chr6\"\n"
     ]
    },
    {
     "name": "stderr",
     "output_type": "stream",
     "text": [
      "Warning message in split.default(x = seq_len(nrow(x)), f = f, drop = drop, ...):\n",
      "“data length is not a multiple of split variable”\n"
     ]
    }
   ],
   "source": [
    "for(chr.tmp in chr.run){\n",
    "  print(chr.tmp)\n",
    "  pairs.E2G.chr.res = pairs.E2G.filter2[seqnames(pairs.E2G.filter2) == chr.tmp]\n",
    "  gene_peak.chr = as.data.frame(mcols(pairs.E2G.chr.res)[,c(\"TargetGene\",\"PeakName\")])\n",
    "  list.gene_peak.chr <- split(gene_peak.chr, seq_len(n.cores))\n",
    "  \n",
    "  list.obj.SCENT.chr <- lapply(list.gene_peak.chr, function(gene_peak.tmp) {\n",
    "    obj.SCENT.tmp <- CreateSCENTObj(\n",
    "      rna = matrix.rna.rename[rownames(matrix.rna.rename) %in% gene_peak.tmp$TargetGene,],\n",
    "      atac = matrix.atac[rownames(matrix.atac) %in% gene_peak.tmp$PeakName,], \n",
    "      meta.data = meta.data,\n",
    "      peak.info = gene_peak.tmp,\n",
    "      covariates = c(\"log.nUMI\",\"percent.mito\"), \n",
    "      celltypes = \"celltype\"\n",
    "    )\n",
    "  })\n",
    "  \n",
    "  cl <- makeCluster(n.cores)\n",
    "  clusterExport(cl, varlist=c(\"SCENT_algorithm.modified\"))\n",
    "  list.SCENT.result.chr <- parLapply(cl, list.obj.SCENT.chr, function(obj.SCENT.tmp) {\n",
    "    obj.SCENT.tmp <- SCENT_algorithm.modified(object = obj.SCENT.tmp)\n",
    "    return(obj.SCENT.tmp@SCENT.result)\n",
    "  })\n",
    "  stopCluster(cl)\n",
    "  \n",
    "  \n",
    "  df.SCENT.result.chr = do.call(rbind,list.SCENT.result.chr)\n",
    "  rownames(df.SCENT.result.chr) = paste(df.SCENT.result.chr$peak,\n",
    "                                        df.SCENT.result.chr$gene,\n",
    "                                        sep = \"_\")\n",
    "\n",
    "  pairs.E2G.chr.res = pairs.E2G.chr.res[pairs.E2G.chr.res$PairName %in% rownames(df.SCENT.result.chr)]\n",
    "  mcols(pairs.E2G.chr.res)[,c(\"beta\",\"se\",\"z\",\"p\",\"boot_basic_p\")] = \n",
    "    df.SCENT.result.chr[pairs.E2G.chr.res$PairName,c(\"beta\",\"se\",\"z\",\"p\",\"boot_basic_p\")]\n",
    "  pairs.E2G.chr.res$boot_basic_p.log10 = -log10(pairs.E2G.chr.res$boot_basic_p)\n",
    "  pairs.E2G.chr.res$sign = 1\n",
    "  pairs.E2G.chr.res$sign[pairs.E2G.chr.res$beta < 0] = -1\n",
    "  pairs.E2G.chr.res$boot_basic_p.log10.signed = pairs.E2G.chr.res$boot_basic_p.log10 * pairs.E2G.chr.res$sign\n",
    "  saveRDS(pairs.E2G.chr.res,\n",
    "          paste(dir.output,\"chr\",chr.tmp,sep = \"/\"))\n",
    "  rm (pairs.E2G.chr.res)\n",
    "}"
   ]
  },
  {
   "cell_type": "markdown",
   "id": "da9d1451-54e0-49e0-ae8b-cd0158115820",
   "metadata": {},
   "source": [
    "Merge results"
   ]
  },
  {
   "cell_type": "code",
   "execution_count": null,
   "id": "6b4278f1-7d9d-402f-95c6-f274a6befea3",
   "metadata": {},
   "outputs": [],
   "source": [
    "chr.merge = as.character(unique(seqnames(pairs.E2G)))\n",
    "list.res = list()\n",
    "for(chr.tmp in chr.merge){\n",
    "    list.res[[chr.tmp]] = readRDS(paste(dir.output,\"chr\",chr.tmp,sep = \"/\"))\n",
    "}\n",
    "pairs.E2G.res = unlist(as(list.res, \"GRangesList\"))"
   ]
  },
  {
   "cell_type": "markdown",
   "id": "00278bea-8baf-4ed0-93d5-1289f05fa36a",
   "metadata": {},
   "source": [
    "Save results"
   ]
  },
  {
   "cell_type": "code",
   "execution_count": null,
   "id": "48824f05-aedd-476c-88d6-ae58d1833fc9",
   "metadata": {},
   "outputs": [],
   "source": [
    "saveRDS(pairs.E2G.res,\n",
    "        paste(dir.output,\"pairs.E2G.res.rds\",sep = \"/\"))\n",
    "pairs.E2G.res"
   ]
  },
  {
   "cell_type": "code",
   "execution_count": null,
   "id": "2297128a-9ed6-42b8-90c7-459969fb5afd",
   "metadata": {},
   "outputs": [],
   "source": [
    "df.output = as.data.frame(pairs.E2G.res,row.names = NULL)\n",
    "colnames(df.output)[1] = \"chr\"\n",
    "df.output[,\"CellType\"] = \"K562\"\n",
    "df.output = df.output[,c(\"chr\",\n",
    "                         \"start\",\n",
    "                         \"end\",\n",
    "                         \"TargetGene\",\n",
    "                         \"CellType\",\n",
    "                         \"beta\",\"se\",\"z\",\"p\",\"boot_basic_p\",\n",
    "                         \"boot_basic_p.log10\",\n",
    "                         \"sign\",\n",
    "                         \"boot_basic_p.log10.signed\")]\n",
    "data.table::fwrite(df.output,\n",
    "                   file = paste(dir.output,\"pairs.E2G.res.tsv.gz\",sep = \"/\"),\n",
    "                   row.names = F,\n",
    "                   quote = F,\n",
    "                   sep = \"\\t\")\n",
    "df.output"
   ]
  },
  {
   "cell_type": "code",
   "execution_count": null,
   "id": "4d77c58e-215a-408d-8495-c68c72f559c3",
   "metadata": {},
   "outputs": [],
   "source": [
    "sessionInfo()"
   ]
  },
  {
   "cell_type": "code",
   "execution_count": null,
   "id": "3c1a0283-11d6-4df1-bbd8-7b47e9e8ead8",
   "metadata": {},
   "outputs": [],
   "source": []
  }
 ],
 "metadata": {
  "kernelspec": {
   "display_name": "R",
   "language": "R",
   "name": "ir"
  },
  "language_info": {
   "codemirror_mode": "r",
   "file_extension": ".r",
   "mimetype": "text/x-r-source",
   "name": "R",
   "pygments_lexer": "r",
   "version": "4.3.3"
  }
 },
 "nbformat": 4,
 "nbformat_minor": 5
}
