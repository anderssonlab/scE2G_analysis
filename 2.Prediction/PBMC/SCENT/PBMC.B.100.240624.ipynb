{
 "cells": [
  {
   "cell_type": "code",
   "execution_count": 1,
   "id": "3a1e63f9-7479-4a30-83ea-381f1ecdbe50",
   "metadata": {},
   "outputs": [
    {
     "name": "stderr",
     "output_type": "stream",
     "text": [
      "Warning message:\n",
      "“replacing previous import ‘Hmisc::capitalize’ by ‘R.utils::capitalize’ when loading ‘SCENT’”\n",
      "Loading required package: grid\n",
      "\n",
      "Warning message:\n",
      "“replacing previous import ‘Biostrings::pattern’ by ‘grid::pattern’ when loading ‘genomation’”\n",
      "Loading required package: stats4\n",
      "\n",
      "Loading required package: BiocGenerics\n",
      "\n",
      "\n",
      "Attaching package: ‘BiocGenerics’\n",
      "\n",
      "\n",
      "The following objects are masked from ‘package:stats’:\n",
      "\n",
      "    IQR, mad, sd, var, xtabs\n",
      "\n",
      "\n",
      "The following objects are masked from ‘package:base’:\n",
      "\n",
      "    anyDuplicated, aperm, append, as.data.frame, basename, cbind,\n",
      "    colnames, dirname, do.call, duplicated, eval, evalq, Filter, Find,\n",
      "    get, grep, grepl, intersect, is.unsorted, lapply, Map, mapply,\n",
      "    match, mget, order, paste, pmax, pmax.int, pmin, pmin.int,\n",
      "    Position, rank, rbind, Reduce, rownames, sapply, setdiff, sort,\n",
      "    table, tapply, union, unique, unsplit, which.max, which.min\n",
      "\n",
      "\n",
      "Loading required package: S4Vectors\n",
      "\n",
      "\n",
      "Attaching package: ‘S4Vectors’\n",
      "\n",
      "\n",
      "The following object is masked from ‘package:utils’:\n",
      "\n",
      "    findMatches\n",
      "\n",
      "\n",
      "The following objects are masked from ‘package:base’:\n",
      "\n",
      "    expand.grid, I, unname\n",
      "\n",
      "\n",
      "Loading required package: IRanges\n",
      "\n",
      "Loading required package: GenomeInfoDb\n",
      "\n",
      "\n",
      "Attaching package: ‘Matrix’\n",
      "\n",
      "\n",
      "The following object is masked from ‘package:S4Vectors’:\n",
      "\n",
      "    expand\n",
      "\n",
      "\n"
     ]
    }
   ],
   "source": [
    "library(SCENT)\n",
    "library(Signac)\n",
    "library(genomation)\n",
    "library(GenomicRanges)\n",
    "library(Matrix)\n",
    "library(parallel)"
   ]
  },
  {
   "cell_type": "markdown",
   "id": "d53f3774-52c3-4baa-b707-5b3a0450b130",
   "metadata": {},
   "source": [
    "Specify file path"
   ]
  },
  {
   "cell_type": "code",
   "execution_count": 2,
   "id": "0785f3fc-9913-428a-bea7-5710120c9328",
   "metadata": {},
   "outputs": [],
   "source": [
    "path.pairs.E2G = \"/maps/projects/ralab_nnfc-AUDIT/people/lpm537/software/scE2G_pipeline/240617/sc-E2G/test/results/PBMC/B.multiome_7features/Kendall/Pairs.tsv.gz\"\n",
    "path.pairs.ABC = \"/maps/projects/ralab_nnfc-AUDIT/people/lpm537/software/scE2G_pipeline/240617/sc-E2G/test/results/PBMC/B.multiome_7features/Predictions/EnhancerPredictionsAllPutative.tsv.gz\"\n",
    "path.matrix.atac_count = \"/maps/projects/ralab_nnfc-AUDIT/people/lpm537/software/scE2G_pipeline/240617/sc-E2G/test/results/PBMC/B.multiome_7features/Kendall/atac_matrix.rds\"\n",
    "path.matrix.rna_count = \"/maps/projects/ralab_nnfc-AUDIT/people/lpm537/project/E2G/analysis/E2G_240503/data/PBMC/1.prepare_data/1.seurat_pipeline.240620/RNA_count_matrix/B.rna_count_matrix.csv.gz\"\n",
    "dir.output = \"/maps/projects/ralab_nnfc-AUDIT/people/lpm537/project/E2G/analysis/E2G_240503/data/PBMC/2.Genome_wide_prediction/SCENT/PBMC.B.100.240624/\""
   ]
  },
  {
   "cell_type": "code",
   "execution_count": 3,
   "id": "500ba317-011f-4cab-834c-de750cb7f503",
   "metadata": {},
   "outputs": [],
   "source": [
    "n.cores = 16"
   ]
  },
  {
   "cell_type": "markdown",
   "id": "9c9cdab1-486b-4539-99d3-3cd5d1d99795",
   "metadata": {},
   "source": [
    "Import candidate E-G pairs"
   ]
  },
  {
   "cell_type": "code",
   "execution_count": 4,
   "id": "f5852d15-7e3f-412b-b137-7d29a6fb47b1",
   "metadata": {},
   "outputs": [],
   "source": [
    "pairs.E2G = readGeneric(path.pairs.E2G,\n",
    "                        header = T,\n",
    "                        keep.all.metadata = T)"
   ]
  },
  {
   "cell_type": "markdown",
   "id": "e79f3220-9bc6-4496-9e9a-a2dcc6e7f751",
   "metadata": {},
   "source": [
    "Import ABC results"
   ]
  },
  {
   "cell_type": "code",
   "execution_count": 5,
   "id": "6bc3f6ba-5e9a-488c-ba26-e0c84007ef4d",
   "metadata": {},
   "outputs": [],
   "source": [
    "pairs.ABC = readGeneric(path.pairs.ABC,\n",
    "                        header = T,\n",
    "                        keep.all.metadata = T)"
   ]
  },
  {
   "cell_type": "markdown",
   "id": "7d660489-4656-4b85-a3df-381acf0aa4a1",
   "metadata": {},
   "source": [
    "Filter ABC results which distance < 1M"
   ]
  },
  {
   "cell_type": "code",
   "execution_count": 6,
   "id": "31b4d7f1-0feb-428b-934a-9c32cb2a4f68",
   "metadata": {},
   "outputs": [],
   "source": [
    "pairs.ABC.1M = pairs.ABC[pairs.ABC$distance < 10^6]"
   ]
  },
  {
   "cell_type": "markdown",
   "id": "639699dd-5bf9-4b19-9178-82dbbf2c62d0",
   "metadata": {},
   "source": [
    "Filter E-G pairs overlaping with pairs.ABC.1M"
   ]
  },
  {
   "cell_type": "code",
   "execution_count": 7,
   "id": "d7db8c1b-5245-49e1-862e-979d9f1de142",
   "metadata": {},
   "outputs": [
    {
     "data": {
      "text/plain": [
       "GRanges object with 2969686 ranges and 3 metadata columns:\n",
       "            seqnames              ranges strand |  TargetGene\n",
       "               <Rle>           <IRanges>  <Rle> | <character>\n",
       "        [1]     chr1 100028673-100029072      * |         AGL\n",
       "        [2]     chr1 100028673-100029072      * |      CDC14A\n",
       "        [3]     chr1 100028673-100029072      * |         DBT\n",
       "        [4]     chr1 100028673-100029072      * |        DPH5\n",
       "        [5]     chr1 100028673-100029072      * |       EXTL2\n",
       "        ...      ...                 ...    ... .         ...\n",
       "  [2969682]     chrX     9995654-9996243      * |       TBL1X\n",
       "  [2969683]     chrX     9995654-9996243      * |        WWC3\n",
       "  [2969684]     chrX     9997595-9997862      * |       CLCN4\n",
       "  [2969685]     chrX     9997595-9997862      * |       TBL1X\n",
       "  [2969686]     chrX     9997595-9997862      * |        WWC3\n",
       "                          PeakName               PairName\n",
       "                       <character>            <character>\n",
       "        [1] chr1-100028673-10002.. chr1-100028673-10002..\n",
       "        [2] chr1-100028673-10002.. chr1-100028673-10002..\n",
       "        [3] chr1-100028673-10002.. chr1-100028673-10002..\n",
       "        [4] chr1-100028673-10002.. chr1-100028673-10002..\n",
       "        [5] chr1-100028673-10002.. chr1-100028673-10002..\n",
       "        ...                    ...                    ...\n",
       "  [2969682]   chrX-9995654-9996243 chrX-9995654-9996243..\n",
       "  [2969683]   chrX-9995654-9996243 chrX-9995654-9996243..\n",
       "  [2969684]   chrX-9997595-9997862 chrX-9997595-9997862..\n",
       "  [2969685]   chrX-9997595-9997862 chrX-9997595-9997862..\n",
       "  [2969686]   chrX-9997595-9997862 chrX-9997595-9997862..\n",
       "  -------\n",
       "  seqinfo: 23 sequences from an unspecified genome; no seqlengths"
      ]
     },
     "metadata": {},
     "output_type": "display_data"
    }
   ],
   "source": [
    "df.pairs.E2G.chr_rename = as.data.frame(pairs.E2G)[,1:3]\n",
    "df.pairs.E2G.chr_rename[,\"seqnames\"] = paste(seqnames(pairs.E2G),\n",
    "                                             mcols(pairs.E2G)[,\"TargetGene\"],\n",
    "                                             sep = \"_\")\n",
    "pairs.E2G.chr_rename = GRanges(df.pairs.E2G.chr_rename)\n",
    "rm(df.pairs.E2G.chr_rename)\n",
    "\n",
    "df.pairs.ABC.1M.chr_rename = as.data.frame(pairs.ABC.1M)[,1:3]\n",
    "df.pairs.ABC.1M.chr_rename[,\"seqnames\"] = paste(seqnames(pairs.ABC.1M),\n",
    "                                                mcols(pairs.ABC.1M)[,\"TargetGene\"],\n",
    "                                                sep = \"_\")\n",
    "pairs.ABC.1M.chr_rename = GRanges(df.pairs.ABC.1M.chr_rename)\n",
    "rm(df.pairs.ABC.1M.chr_rename)\n",
    "\n",
    "pairs.E2G.filter = pairs.E2G[countOverlaps(pairs.E2G.chr_rename,\n",
    "                                           pairs.ABC.1M.chr_rename) > 0]\n",
    "rm(pairs.E2G.chr_rename)\n",
    "rm(pairs.ABC.1M.chr_rename)\n",
    "pairs.E2G.filter"
   ]
  },
  {
   "cell_type": "markdown",
   "id": "bcdfac67-ce32-4d9a-8f4d-65dab644ec63",
   "metadata": {},
   "source": [
    "Import ATAC matrix"
   ]
  },
  {
   "cell_type": "code",
   "execution_count": 8,
   "id": "bd59feb4-3e33-4ebe-a107-f3b6d347a68e",
   "metadata": {},
   "outputs": [],
   "source": [
    "matrix.atac = readRDS(path.matrix.atac_count)\n",
    "matrix.atac = BinarizeCounts(matrix.atac)"
   ]
  },
  {
   "cell_type": "markdown",
   "id": "a0c5cb96-2fc4-42c4-a421-fe9a5ca537da",
   "metadata": {},
   "source": [
    "Import RNA matrix"
   ]
  },
  {
   "cell_type": "code",
   "execution_count": 9,
   "id": "96e10e90-9400-4cfe-bc7b-46a7eaee1fcd",
   "metadata": {},
   "outputs": [],
   "source": [
    "matrix.rna = read.csv(path.matrix.rna_count,\n",
    "                      row.names = 1,\n",
    "                      check.names = F)\n",
    "matrix.rna = Matrix(as.matrix(matrix.rna), sparse = TRUE)\n",
    "matrix.rna = matrix.rna[,colnames(matrix.atac)]\n",
    "matrix.rna = matrix.rna[rowSums(matrix.rna) > 0,]"
   ]
  },
  {
   "cell_type": "code",
   "execution_count": 10,
   "id": "ad0f51bc-6e09-4b83-be71-560130dd0fa6",
   "metadata": {},
   "outputs": [],
   "source": [
    "pairs.E2G.filter2 = pairs.E2G.filter[pairs.E2G.filter$TargetGene %in% rownames(matrix.rna) &\n",
    "                                     pairs.E2G.filter$PeakName %in% rownames(matrix.atac)]"
   ]
  },
  {
   "cell_type": "markdown",
   "id": "b16f7d5b-eabd-4e93-b8cd-f19a54df21f2",
   "metadata": {},
   "source": [
    "Prepare SCENT meta data"
   ]
  },
  {
   "cell_type": "code",
   "execution_count": 11,
   "id": "827059dd-6885-441e-973e-d7c49e5fd534",
   "metadata": {},
   "outputs": [
    {
     "data": {
      "text/html": [
       "<table class=\"dataframe\">\n",
       "<caption>A data.frame: 1109 × 6</caption>\n",
       "<thead>\n",
       "\t<tr><th></th><th scope=col>cell</th><th scope=col>nUMI</th><th scope=col>nMito</th><th scope=col>celltype</th><th scope=col>log.nUMI</th><th scope=col>percent.mito</th></tr>\n",
       "\t<tr><th></th><th scope=col>&lt;chr&gt;</th><th scope=col>&lt;dbl&gt;</th><th scope=col>&lt;dbl&gt;</th><th scope=col>&lt;chr&gt;</th><th scope=col>&lt;dbl&gt;</th><th scope=col>&lt;dbl&gt;</th></tr>\n",
       "</thead>\n",
       "<tbody>\n",
       "\t<tr><th scope=row>Multiome10x_05_AAACGGATCTGTAATG-1</th><td>Multiome10x_05_AAACGGATCTGTAATG-1</td><td> 2042</td><td> 239</td><td>K562</td><td>7.621685</td><td>0.11704212</td></tr>\n",
       "\t<tr><th scope=row>Multiome10x_05_AAAGCCCGTCCGTAGG-1</th><td>Multiome10x_05_AAAGCCCGTCCGTAGG-1</td><td> 2174</td><td> 290</td><td>K562</td><td>7.684324</td><td>0.13339466</td></tr>\n",
       "\t<tr><th scope=row>Multiome10x_05_AAAGCGGGTTAGTACG-1</th><td>Multiome10x_05_AAAGCGGGTTAGTACG-1</td><td> 2597</td><td> 337</td><td>K562</td><td>7.862112</td><td>0.12976511</td></tr>\n",
       "\t<tr><th scope=row>Multiome10x_05_AAAGGAGCATAAACCT-1</th><td>Multiome10x_05_AAAGGAGCATAAACCT-1</td><td> 5124</td><td> 491</td><td>K562</td><td>8.541691</td><td>0.09582358</td></tr>\n",
       "\t<tr><th scope=row>Multiome10x_05_AAAGGAGCATAATTGC-1</th><td>Multiome10x_05_AAAGGAGCATAATTGC-1</td><td> 6249</td><td> 492</td><td>K562</td><td>8.740177</td><td>0.07873260</td></tr>\n",
       "\t<tr><th scope=row>Multiome10x_05_AAAGGTTAGTTAACCA-1</th><td>Multiome10x_05_AAAGGTTAGTTAACCA-1</td><td> 4185</td><td> 403</td><td>K562</td><td>8.339262</td><td>0.09629630</td></tr>\n",
       "\t<tr><th scope=row>Multiome10x_05_AACAAAGGTCAATAGT-1</th><td>Multiome10x_05_AACAAAGGTCAATAGT-1</td><td> 1879</td><td> 119</td><td>K562</td><td>7.538495</td><td>0.06333156</td></tr>\n",
       "\t<tr><th scope=row>Multiome10x_05_AACAGGATCTTGACCC-1</th><td>Multiome10x_05_AACAGGATCTTGACCC-1</td><td> 4499</td><td> 525</td><td>K562</td><td>8.411610</td><td>0.11669260</td></tr>\n",
       "\t<tr><th scope=row>Multiome10x_05_AACATTGTCAGCACCA-1</th><td>Multiome10x_05_AACATTGTCAGCACCA-1</td><td> 1200</td><td> 289</td><td>K562</td><td>7.090077</td><td>0.24083333</td></tr>\n",
       "\t<tr><th scope=row>Multiome10x_05_AACATTGTCCGCATGA-1</th><td>Multiome10x_05_AACATTGTCCGCATGA-1</td><td> 4690</td><td> 578</td><td>K562</td><td>8.453188</td><td>0.12324094</td></tr>\n",
       "\t<tr><th scope=row>Multiome10x_05_AACCCGCAGTCACCAG-1</th><td>Multiome10x_05_AACCCGCAGTCACCAG-1</td><td> 8198</td><td>1024</td><td>K562</td><td>9.011646</td><td>0.12490851</td></tr>\n",
       "\t<tr><th scope=row>Multiome10x_05_AACCCGCAGTTATTCC-1</th><td>Multiome10x_05_AACCCGCAGTTATTCC-1</td><td> 3137</td><td> 332</td><td>K562</td><td>8.051022</td><td>0.10583360</td></tr>\n",
       "\t<tr><th scope=row>Multiome10x_05_AACGCCCAGCAAACCT-1</th><td>Multiome10x_05_AACGCCCAGCAAACCT-1</td><td> 6422</td><td> 685</td><td>K562</td><td>8.767485</td><td>0.10666459</td></tr>\n",
       "\t<tr><th scope=row>Multiome10x_05_AACTAGTGTAATCCCT-1</th><td>Multiome10x_05_AACTAGTGTAATCCCT-1</td><td> 2465</td><td> 262</td><td>K562</td><td>7.809947</td><td>0.10628803</td></tr>\n",
       "\t<tr><th scope=row>Multiome10x_05_AAGACATAGAGAGGCT-1</th><td>Multiome10x_05_AAGACATAGAGAGGCT-1</td><td> 2392</td><td> 231</td><td>K562</td><td>7.779885</td><td>0.09657191</td></tr>\n",
       "\t<tr><th scope=row>Multiome10x_05_AAGCCACGTTAGGATT-1</th><td>Multiome10x_05_AAGCCACGTTAGGATT-1</td><td> 1337</td><td>  97</td><td>K562</td><td>7.198184</td><td>0.07255049</td></tr>\n",
       "\t<tr><th scope=row>Multiome10x_05_AAGCCTGTCCTAATAG-1</th><td>Multiome10x_05_AAGCCTGTCCTAATAG-1</td><td> 3374</td><td> 289</td><td>K562</td><td>8.123854</td><td>0.08565501</td></tr>\n",
       "\t<tr><th scope=row>Multiome10x_05_AAGCTCCCAGGACCAA-1</th><td>Multiome10x_05_AAGCTCCCAGGACCAA-1</td><td> 2677</td><td> 303</td><td>K562</td><td>7.892452</td><td>0.11318640</td></tr>\n",
       "\t<tr><th scope=row>Multiome10x_05_AAGGTATAGCGATACT-1</th><td>Multiome10x_05_AAGGTATAGCGATACT-1</td><td> 3052</td><td> 225</td><td>K562</td><td>8.023552</td><td>0.07372215</td></tr>\n",
       "\t<tr><th scope=row>Multiome10x_05_AAGGTCAAGCATGTCG-1</th><td>Multiome10x_05_AAGGTCAAGCATGTCG-1</td><td> 2359</td><td> 301</td><td>K562</td><td>7.765993</td><td>0.12759644</td></tr>\n",
       "\t<tr><th scope=row>Multiome10x_05_AAGTAGCCACCGGTAT-1</th><td>Multiome10x_05_AAGTAGCCACCGGTAT-1</td><td>11959</td><td> 934</td><td>K562</td><td>9.389239</td><td>0.07810018</td></tr>\n",
       "\t<tr><th scope=row>Multiome10x_05_AAGTAGCCAGTAAGTA-1</th><td>Multiome10x_05_AAGTAGCCAGTAAGTA-1</td><td> 3226</td><td> 481</td><td>K562</td><td>8.078998</td><td>0.14910105</td></tr>\n",
       "\t<tr><th scope=row>Multiome10x_05_AAGTCTATCAGCTAAC-1</th><td>Multiome10x_05_AAGTCTATCAGCTAAC-1</td><td> 5533</td><td> 827</td><td>K562</td><td>8.618485</td><td>0.14946684</td></tr>\n",
       "\t<tr><th scope=row>Multiome10x_05_AAGTTAGCAACGTGCT-1</th><td>Multiome10x_05_AAGTTAGCAACGTGCT-1</td><td> 2500</td><td> 274</td><td>K562</td><td>7.824046</td><td>0.10960000</td></tr>\n",
       "\t<tr><th scope=row>Multiome10x_05_AATCATGTCTTAGCCC-1</th><td>Multiome10x_05_AATCATGTCTTAGCCC-1</td><td> 3545</td><td> 398</td><td>K562</td><td>8.173293</td><td>0.11227080</td></tr>\n",
       "\t<tr><th scope=row>Multiome10x_05_AATCGCCCAGGCGAGT-1</th><td>Multiome10x_05_AATCGCCCAGGCGAGT-1</td><td> 2593</td><td> 343</td><td>K562</td><td>7.860571</td><td>0.13227921</td></tr>\n",
       "\t<tr><th scope=row>Multiome10x_05_AATCTCAAGTAGAGGC-1</th><td>Multiome10x_05_AATCTCAAGTAGAGGC-1</td><td> 2967</td><td> 391</td><td>K562</td><td>7.995307</td><td>0.13178295</td></tr>\n",
       "\t<tr><th scope=row>Multiome10x_05_AATGTCCAGAAGGTGC-1</th><td>Multiome10x_05_AATGTCCAGAAGGTGC-1</td><td> 2160</td><td> 214</td><td>K562</td><td>7.677864</td><td>0.09907407</td></tr>\n",
       "\t<tr><th scope=row>Multiome10x_05_AATTAGCGTTTGAGCA-1</th><td>Multiome10x_05_AATTAGCGTTTGAGCA-1</td><td> 2325</td><td> 241</td><td>K562</td><td>7.751475</td><td>0.10365591</td></tr>\n",
       "\t<tr><th scope=row>Multiome10x_05_AATTGCCAGTGAAGTG-1</th><td>Multiome10x_05_AATTGCCAGTGAAGTG-1</td><td> 2577</td><td> 214</td><td>K562</td><td>7.854381</td><td>0.08304230</td></tr>\n",
       "\t<tr><th scope=row>⋮</th><td>⋮</td><td>⋮</td><td>⋮</td><td>⋮</td><td>⋮</td><td>⋮</td></tr>\n",
       "\t<tr><th scope=row>Multiome10x_06_TTCCACGGTGTTGCTT-1</th><td>Multiome10x_06_TTCCACGGTGTTGCTT-1</td><td> 3279</td><td> 427</td><td>K562</td><td>8.095294</td><td>0.13022263</td></tr>\n",
       "\t<tr><th scope=row>Multiome10x_06_TTCCTCAAGCTCATAA-1</th><td>Multiome10x_06_TTCCTCAAGCTCATAA-1</td><td> 1815</td><td> 122</td><td>K562</td><td>7.503841</td><td>0.06721763</td></tr>\n",
       "\t<tr><th scope=row>Multiome10x_06_TTGAGGCGTATTGAGT-1</th><td>Multiome10x_06_TTGAGGCGTATTGAGT-1</td><td> 5704</td><td> 595</td><td>K562</td><td>8.648923</td><td>0.10431276</td></tr>\n",
       "\t<tr><th scope=row>Multiome10x_06_TTGCAACAGCCTGTTC-1</th><td>Multiome10x_06_TTGCAACAGCCTGTTC-1</td><td> 2671</td><td> 262</td><td>K562</td><td>7.890208</td><td>0.09809060</td></tr>\n",
       "\t<tr><th scope=row>Multiome10x_06_TTGCAACAGGACCGCT-1</th><td>Multiome10x_06_TTGCAACAGGACCGCT-1</td><td> 4867</td><td> 544</td><td>K562</td><td>8.490233</td><td>0.11177317</td></tr>\n",
       "\t<tr><th scope=row>Multiome10x_06_TTGCAACAGGCCCAGT-1</th><td>Multiome10x_06_TTGCAACAGGCCCAGT-1</td><td> 6293</td><td> 564</td><td>K562</td><td>8.747193</td><td>0.08962339</td></tr>\n",
       "\t<tr><th scope=row>Multiome10x_06_TTGCACACAGTAATAG-1</th><td>Multiome10x_06_TTGCACACAGTAATAG-1</td><td> 6357</td><td> 611</td><td>K562</td><td>8.757312</td><td>0.09611452</td></tr>\n",
       "\t<tr><th scope=row>Multiome10x_06_TTGCTTAGTAGCTGGT-1</th><td>Multiome10x_06_TTGCTTAGTAGCTGGT-1</td><td> 4054</td><td> 358</td><td>K562</td><td>8.307459</td><td>0.08830784</td></tr>\n",
       "\t<tr><th scope=row>Multiome10x_06_TTGGATCAGTCTCACC-1</th><td>Multiome10x_06_TTGGATCAGTCTCACC-1</td><td> 7532</td><td> 661</td><td>K562</td><td>8.926916</td><td>0.08775890</td></tr>\n",
       "\t<tr><th scope=row>Multiome10x_06_TTGGGCGGTGATCAGC-1</th><td>Multiome10x_06_TTGGGCGGTGATCAGC-1</td><td> 5294</td><td> 685</td><td>K562</td><td>8.574329</td><td>0.12939176</td></tr>\n",
       "\t<tr><th scope=row>Multiome10x_06_TTGTAAGTCCTTGCGT-1</th><td>Multiome10x_06_TTGTAAGTCCTTGCGT-1</td><td> 2976</td><td> 316</td><td>K562</td><td>7.998335</td><td>0.10618280</td></tr>\n",
       "\t<tr><th scope=row>Multiome10x_06_TTGTCCATCCACCCTG-1</th><td>Multiome10x_06_TTGTCCATCCACCCTG-1</td><td> 2500</td><td>  61</td><td>K562</td><td>7.824046</td><td>0.02440000</td></tr>\n",
       "\t<tr><th scope=row>Multiome10x_06_TTGTGCCTCCCTGGAA-1</th><td>Multiome10x_06_TTGTGCCTCCCTGGAA-1</td><td> 3632</td><td> 506</td><td>K562</td><td>8.197539</td><td>0.13931718</td></tr>\n",
       "\t<tr><th scope=row>Multiome10x_06_TTGTTCCCAGGTTATT-1</th><td>Multiome10x_06_TTGTTCCCAGGTTATT-1</td><td> 1635</td><td> 200</td><td>K562</td><td>7.399398</td><td>0.12232416</td></tr>\n",
       "\t<tr><th scope=row>Multiome10x_06_TTGTTTGGTTTGGCTT-1</th><td>Multiome10x_06_TTGTTTGGTTTGGCTT-1</td><td> 1903</td><td> 194</td><td>K562</td><td>7.551187</td><td>0.10194430</td></tr>\n",
       "\t<tr><th scope=row>Multiome10x_06_TTTAAGCCAGTGAACG-1</th><td>Multiome10x_06_TTTAAGCCAGTGAACG-1</td><td>10350</td><td>1161</td><td>K562</td><td>9.244742</td><td>0.11217391</td></tr>\n",
       "\t<tr><th scope=row>Multiome10x_06_TTTAAGGTCACTCAAA-1</th><td>Multiome10x_06_TTTAAGGTCACTCAAA-1</td><td> 1774</td><td> 171</td><td>K562</td><td>7.480992</td><td>0.09639233</td></tr>\n",
       "\t<tr><th scope=row>Multiome10x_06_TTTACGAAGAACAAGT-1</th><td>Multiome10x_06_TTTACGAAGAACAAGT-1</td><td> 2738</td><td> 326</td><td>K562</td><td>7.914983</td><td>0.11906501</td></tr>\n",
       "\t<tr><th scope=row>Multiome10x_06_TTTACGAAGGAACACA-1</th><td>Multiome10x_06_TTTACGAAGGAACACA-1</td><td> 4415</td><td> 625</td><td>K562</td><td>8.392763</td><td>0.14156285</td></tr>\n",
       "\t<tr><th scope=row>Multiome10x_06_TTTAGCAAGGCTTAAC-1</th><td>Multiome10x_06_TTTAGCAAGGCTTAAC-1</td><td> 2430</td><td> 263</td><td>K562</td><td>7.795647</td><td>0.10823045</td></tr>\n",
       "\t<tr><th scope=row>Multiome10x_06_TTTAGGATCAGCACCA-1</th><td>Multiome10x_06_TTTAGGATCAGCACCA-1</td><td> 8345</td><td> 741</td><td>K562</td><td>9.029418</td><td>0.08879569</td></tr>\n",
       "\t<tr><th scope=row>Multiome10x_06_TTTCACCCAAACCCTA-1</th><td>Multiome10x_06_TTTCACCCAAACCCTA-1</td><td> 1551</td><td> 195</td><td>K562</td><td>7.346655</td><td>0.12572534</td></tr>\n",
       "\t<tr><th scope=row>Multiome10x_06_TTTCCGGGTTAGTTGG-1</th><td>Multiome10x_06_TTTCCGGGTTAGTTGG-1</td><td> 3377</td><td> 328</td><td>K562</td><td>8.124743</td><td>0.09712763</td></tr>\n",
       "\t<tr><th scope=row>Multiome10x_06_TTTCTTGCAGTTTACG-1</th><td>Multiome10x_06_TTTCTTGCAGTTTACG-1</td><td> 5663</td><td> 746</td><td>K562</td><td>8.641709</td><td>0.13173230</td></tr>\n",
       "\t<tr><th scope=row>Multiome10x_06_TTTGCGACAAAGCTCC-1</th><td>Multiome10x_06_TTTGCGACAAAGCTCC-1</td><td> 2690</td><td> 143</td><td>K562</td><td>7.897296</td><td>0.05315985</td></tr>\n",
       "\t<tr><th scope=row>Multiome10x_06_TTTGCGGAGTTCCCGT-1</th><td>Multiome10x_06_TTTGCGGAGTTCCCGT-1</td><td> 1704</td><td> 207</td><td>K562</td><td>7.440734</td><td>0.12147887</td></tr>\n",
       "\t<tr><th scope=row>Multiome10x_06_TTTGGTGCATTAAGCT-1</th><td>Multiome10x_06_TTTGGTGCATTAAGCT-1</td><td> 2137</td><td>  87</td><td>K562</td><td>7.667158</td><td>0.04071128</td></tr>\n",
       "\t<tr><th scope=row>Multiome10x_06_TTTGTCCCATACCCGG-1</th><td>Multiome10x_06_TTTGTCCCATACCCGG-1</td><td> 2795</td><td> 225</td><td>K562</td><td>7.935587</td><td>0.08050089</td></tr>\n",
       "\t<tr><th scope=row>Multiome10x_06_TTTGTCTAGGCAGGTG-1</th><td>Multiome10x_06_TTTGTCTAGGCAGGTG-1</td><td> 2578</td><td> 210</td><td>K562</td><td>7.854769</td><td>0.08145849</td></tr>\n",
       "\t<tr><th scope=row>Multiome10x_06_TTTGTCTAGGTAAGCA-1</th><td>Multiome10x_06_TTTGTCTAGGTAAGCA-1</td><td> 3266</td><td> 279</td><td>K562</td><td>8.091321</td><td>0.08542560</td></tr>\n",
       "</tbody>\n",
       "</table>\n"
      ],
      "text/latex": [
       "A data.frame: 1109 × 6\n",
       "\\begin{tabular}{r|llllll}\n",
       "  & cell & nUMI & nMito & celltype & log.nUMI & percent.mito\\\\\n",
       "  & <chr> & <dbl> & <dbl> & <chr> & <dbl> & <dbl>\\\\\n",
       "\\hline\n",
       "\tMultiome10x\\_05\\_AAACGGATCTGTAATG-1 & Multiome10x\\_05\\_AAACGGATCTGTAATG-1 &  2042 &  239 & K562 & 7.621685 & 0.11704212\\\\\n",
       "\tMultiome10x\\_05\\_AAAGCCCGTCCGTAGG-1 & Multiome10x\\_05\\_AAAGCCCGTCCGTAGG-1 &  2174 &  290 & K562 & 7.684324 & 0.13339466\\\\\n",
       "\tMultiome10x\\_05\\_AAAGCGGGTTAGTACG-1 & Multiome10x\\_05\\_AAAGCGGGTTAGTACG-1 &  2597 &  337 & K562 & 7.862112 & 0.12976511\\\\\n",
       "\tMultiome10x\\_05\\_AAAGGAGCATAAACCT-1 & Multiome10x\\_05\\_AAAGGAGCATAAACCT-1 &  5124 &  491 & K562 & 8.541691 & 0.09582358\\\\\n",
       "\tMultiome10x\\_05\\_AAAGGAGCATAATTGC-1 & Multiome10x\\_05\\_AAAGGAGCATAATTGC-1 &  6249 &  492 & K562 & 8.740177 & 0.07873260\\\\\n",
       "\tMultiome10x\\_05\\_AAAGGTTAGTTAACCA-1 & Multiome10x\\_05\\_AAAGGTTAGTTAACCA-1 &  4185 &  403 & K562 & 8.339262 & 0.09629630\\\\\n",
       "\tMultiome10x\\_05\\_AACAAAGGTCAATAGT-1 & Multiome10x\\_05\\_AACAAAGGTCAATAGT-1 &  1879 &  119 & K562 & 7.538495 & 0.06333156\\\\\n",
       "\tMultiome10x\\_05\\_AACAGGATCTTGACCC-1 & Multiome10x\\_05\\_AACAGGATCTTGACCC-1 &  4499 &  525 & K562 & 8.411610 & 0.11669260\\\\\n",
       "\tMultiome10x\\_05\\_AACATTGTCAGCACCA-1 & Multiome10x\\_05\\_AACATTGTCAGCACCA-1 &  1200 &  289 & K562 & 7.090077 & 0.24083333\\\\\n",
       "\tMultiome10x\\_05\\_AACATTGTCCGCATGA-1 & Multiome10x\\_05\\_AACATTGTCCGCATGA-1 &  4690 &  578 & K562 & 8.453188 & 0.12324094\\\\\n",
       "\tMultiome10x\\_05\\_AACCCGCAGTCACCAG-1 & Multiome10x\\_05\\_AACCCGCAGTCACCAG-1 &  8198 & 1024 & K562 & 9.011646 & 0.12490851\\\\\n",
       "\tMultiome10x\\_05\\_AACCCGCAGTTATTCC-1 & Multiome10x\\_05\\_AACCCGCAGTTATTCC-1 &  3137 &  332 & K562 & 8.051022 & 0.10583360\\\\\n",
       "\tMultiome10x\\_05\\_AACGCCCAGCAAACCT-1 & Multiome10x\\_05\\_AACGCCCAGCAAACCT-1 &  6422 &  685 & K562 & 8.767485 & 0.10666459\\\\\n",
       "\tMultiome10x\\_05\\_AACTAGTGTAATCCCT-1 & Multiome10x\\_05\\_AACTAGTGTAATCCCT-1 &  2465 &  262 & K562 & 7.809947 & 0.10628803\\\\\n",
       "\tMultiome10x\\_05\\_AAGACATAGAGAGGCT-1 & Multiome10x\\_05\\_AAGACATAGAGAGGCT-1 &  2392 &  231 & K562 & 7.779885 & 0.09657191\\\\\n",
       "\tMultiome10x\\_05\\_AAGCCACGTTAGGATT-1 & Multiome10x\\_05\\_AAGCCACGTTAGGATT-1 &  1337 &   97 & K562 & 7.198184 & 0.07255049\\\\\n",
       "\tMultiome10x\\_05\\_AAGCCTGTCCTAATAG-1 & Multiome10x\\_05\\_AAGCCTGTCCTAATAG-1 &  3374 &  289 & K562 & 8.123854 & 0.08565501\\\\\n",
       "\tMultiome10x\\_05\\_AAGCTCCCAGGACCAA-1 & Multiome10x\\_05\\_AAGCTCCCAGGACCAA-1 &  2677 &  303 & K562 & 7.892452 & 0.11318640\\\\\n",
       "\tMultiome10x\\_05\\_AAGGTATAGCGATACT-1 & Multiome10x\\_05\\_AAGGTATAGCGATACT-1 &  3052 &  225 & K562 & 8.023552 & 0.07372215\\\\\n",
       "\tMultiome10x\\_05\\_AAGGTCAAGCATGTCG-1 & Multiome10x\\_05\\_AAGGTCAAGCATGTCG-1 &  2359 &  301 & K562 & 7.765993 & 0.12759644\\\\\n",
       "\tMultiome10x\\_05\\_AAGTAGCCACCGGTAT-1 & Multiome10x\\_05\\_AAGTAGCCACCGGTAT-1 & 11959 &  934 & K562 & 9.389239 & 0.07810018\\\\\n",
       "\tMultiome10x\\_05\\_AAGTAGCCAGTAAGTA-1 & Multiome10x\\_05\\_AAGTAGCCAGTAAGTA-1 &  3226 &  481 & K562 & 8.078998 & 0.14910105\\\\\n",
       "\tMultiome10x\\_05\\_AAGTCTATCAGCTAAC-1 & Multiome10x\\_05\\_AAGTCTATCAGCTAAC-1 &  5533 &  827 & K562 & 8.618485 & 0.14946684\\\\\n",
       "\tMultiome10x\\_05\\_AAGTTAGCAACGTGCT-1 & Multiome10x\\_05\\_AAGTTAGCAACGTGCT-1 &  2500 &  274 & K562 & 7.824046 & 0.10960000\\\\\n",
       "\tMultiome10x\\_05\\_AATCATGTCTTAGCCC-1 & Multiome10x\\_05\\_AATCATGTCTTAGCCC-1 &  3545 &  398 & K562 & 8.173293 & 0.11227080\\\\\n",
       "\tMultiome10x\\_05\\_AATCGCCCAGGCGAGT-1 & Multiome10x\\_05\\_AATCGCCCAGGCGAGT-1 &  2593 &  343 & K562 & 7.860571 & 0.13227921\\\\\n",
       "\tMultiome10x\\_05\\_AATCTCAAGTAGAGGC-1 & Multiome10x\\_05\\_AATCTCAAGTAGAGGC-1 &  2967 &  391 & K562 & 7.995307 & 0.13178295\\\\\n",
       "\tMultiome10x\\_05\\_AATGTCCAGAAGGTGC-1 & Multiome10x\\_05\\_AATGTCCAGAAGGTGC-1 &  2160 &  214 & K562 & 7.677864 & 0.09907407\\\\\n",
       "\tMultiome10x\\_05\\_AATTAGCGTTTGAGCA-1 & Multiome10x\\_05\\_AATTAGCGTTTGAGCA-1 &  2325 &  241 & K562 & 7.751475 & 0.10365591\\\\\n",
       "\tMultiome10x\\_05\\_AATTGCCAGTGAAGTG-1 & Multiome10x\\_05\\_AATTGCCAGTGAAGTG-1 &  2577 &  214 & K562 & 7.854381 & 0.08304230\\\\\n",
       "\t⋮ & ⋮ & ⋮ & ⋮ & ⋮ & ⋮ & ⋮\\\\\n",
       "\tMultiome10x\\_06\\_TTCCACGGTGTTGCTT-1 & Multiome10x\\_06\\_TTCCACGGTGTTGCTT-1 &  3279 &  427 & K562 & 8.095294 & 0.13022263\\\\\n",
       "\tMultiome10x\\_06\\_TTCCTCAAGCTCATAA-1 & Multiome10x\\_06\\_TTCCTCAAGCTCATAA-1 &  1815 &  122 & K562 & 7.503841 & 0.06721763\\\\\n",
       "\tMultiome10x\\_06\\_TTGAGGCGTATTGAGT-1 & Multiome10x\\_06\\_TTGAGGCGTATTGAGT-1 &  5704 &  595 & K562 & 8.648923 & 0.10431276\\\\\n",
       "\tMultiome10x\\_06\\_TTGCAACAGCCTGTTC-1 & Multiome10x\\_06\\_TTGCAACAGCCTGTTC-1 &  2671 &  262 & K562 & 7.890208 & 0.09809060\\\\\n",
       "\tMultiome10x\\_06\\_TTGCAACAGGACCGCT-1 & Multiome10x\\_06\\_TTGCAACAGGACCGCT-1 &  4867 &  544 & K562 & 8.490233 & 0.11177317\\\\\n",
       "\tMultiome10x\\_06\\_TTGCAACAGGCCCAGT-1 & Multiome10x\\_06\\_TTGCAACAGGCCCAGT-1 &  6293 &  564 & K562 & 8.747193 & 0.08962339\\\\\n",
       "\tMultiome10x\\_06\\_TTGCACACAGTAATAG-1 & Multiome10x\\_06\\_TTGCACACAGTAATAG-1 &  6357 &  611 & K562 & 8.757312 & 0.09611452\\\\\n",
       "\tMultiome10x\\_06\\_TTGCTTAGTAGCTGGT-1 & Multiome10x\\_06\\_TTGCTTAGTAGCTGGT-1 &  4054 &  358 & K562 & 8.307459 & 0.08830784\\\\\n",
       "\tMultiome10x\\_06\\_TTGGATCAGTCTCACC-1 & Multiome10x\\_06\\_TTGGATCAGTCTCACC-1 &  7532 &  661 & K562 & 8.926916 & 0.08775890\\\\\n",
       "\tMultiome10x\\_06\\_TTGGGCGGTGATCAGC-1 & Multiome10x\\_06\\_TTGGGCGGTGATCAGC-1 &  5294 &  685 & K562 & 8.574329 & 0.12939176\\\\\n",
       "\tMultiome10x\\_06\\_TTGTAAGTCCTTGCGT-1 & Multiome10x\\_06\\_TTGTAAGTCCTTGCGT-1 &  2976 &  316 & K562 & 7.998335 & 0.10618280\\\\\n",
       "\tMultiome10x\\_06\\_TTGTCCATCCACCCTG-1 & Multiome10x\\_06\\_TTGTCCATCCACCCTG-1 &  2500 &   61 & K562 & 7.824046 & 0.02440000\\\\\n",
       "\tMultiome10x\\_06\\_TTGTGCCTCCCTGGAA-1 & Multiome10x\\_06\\_TTGTGCCTCCCTGGAA-1 &  3632 &  506 & K562 & 8.197539 & 0.13931718\\\\\n",
       "\tMultiome10x\\_06\\_TTGTTCCCAGGTTATT-1 & Multiome10x\\_06\\_TTGTTCCCAGGTTATT-1 &  1635 &  200 & K562 & 7.399398 & 0.12232416\\\\\n",
       "\tMultiome10x\\_06\\_TTGTTTGGTTTGGCTT-1 & Multiome10x\\_06\\_TTGTTTGGTTTGGCTT-1 &  1903 &  194 & K562 & 7.551187 & 0.10194430\\\\\n",
       "\tMultiome10x\\_06\\_TTTAAGCCAGTGAACG-1 & Multiome10x\\_06\\_TTTAAGCCAGTGAACG-1 & 10350 & 1161 & K562 & 9.244742 & 0.11217391\\\\\n",
       "\tMultiome10x\\_06\\_TTTAAGGTCACTCAAA-1 & Multiome10x\\_06\\_TTTAAGGTCACTCAAA-1 &  1774 &  171 & K562 & 7.480992 & 0.09639233\\\\\n",
       "\tMultiome10x\\_06\\_TTTACGAAGAACAAGT-1 & Multiome10x\\_06\\_TTTACGAAGAACAAGT-1 &  2738 &  326 & K562 & 7.914983 & 0.11906501\\\\\n",
       "\tMultiome10x\\_06\\_TTTACGAAGGAACACA-1 & Multiome10x\\_06\\_TTTACGAAGGAACACA-1 &  4415 &  625 & K562 & 8.392763 & 0.14156285\\\\\n",
       "\tMultiome10x\\_06\\_TTTAGCAAGGCTTAAC-1 & Multiome10x\\_06\\_TTTAGCAAGGCTTAAC-1 &  2430 &  263 & K562 & 7.795647 & 0.10823045\\\\\n",
       "\tMultiome10x\\_06\\_TTTAGGATCAGCACCA-1 & Multiome10x\\_06\\_TTTAGGATCAGCACCA-1 &  8345 &  741 & K562 & 9.029418 & 0.08879569\\\\\n",
       "\tMultiome10x\\_06\\_TTTCACCCAAACCCTA-1 & Multiome10x\\_06\\_TTTCACCCAAACCCTA-1 &  1551 &  195 & K562 & 7.346655 & 0.12572534\\\\\n",
       "\tMultiome10x\\_06\\_TTTCCGGGTTAGTTGG-1 & Multiome10x\\_06\\_TTTCCGGGTTAGTTGG-1 &  3377 &  328 & K562 & 8.124743 & 0.09712763\\\\\n",
       "\tMultiome10x\\_06\\_TTTCTTGCAGTTTACG-1 & Multiome10x\\_06\\_TTTCTTGCAGTTTACG-1 &  5663 &  746 & K562 & 8.641709 & 0.13173230\\\\\n",
       "\tMultiome10x\\_06\\_TTTGCGACAAAGCTCC-1 & Multiome10x\\_06\\_TTTGCGACAAAGCTCC-1 &  2690 &  143 & K562 & 7.897296 & 0.05315985\\\\\n",
       "\tMultiome10x\\_06\\_TTTGCGGAGTTCCCGT-1 & Multiome10x\\_06\\_TTTGCGGAGTTCCCGT-1 &  1704 &  207 & K562 & 7.440734 & 0.12147887\\\\\n",
       "\tMultiome10x\\_06\\_TTTGGTGCATTAAGCT-1 & Multiome10x\\_06\\_TTTGGTGCATTAAGCT-1 &  2137 &   87 & K562 & 7.667158 & 0.04071128\\\\\n",
       "\tMultiome10x\\_06\\_TTTGTCCCATACCCGG-1 & Multiome10x\\_06\\_TTTGTCCCATACCCGG-1 &  2795 &  225 & K562 & 7.935587 & 0.08050089\\\\\n",
       "\tMultiome10x\\_06\\_TTTGTCTAGGCAGGTG-1 & Multiome10x\\_06\\_TTTGTCTAGGCAGGTG-1 &  2578 &  210 & K562 & 7.854769 & 0.08145849\\\\\n",
       "\tMultiome10x\\_06\\_TTTGTCTAGGTAAGCA-1 & Multiome10x\\_06\\_TTTGTCTAGGTAAGCA-1 &  3266 &  279 & K562 & 8.091321 & 0.08542560\\\\\n",
       "\\end{tabular}\n"
      ],
      "text/markdown": [
       "\n",
       "A data.frame: 1109 × 6\n",
       "\n",
       "| <!--/--> | cell &lt;chr&gt; | nUMI &lt;dbl&gt; | nMito &lt;dbl&gt; | celltype &lt;chr&gt; | log.nUMI &lt;dbl&gt; | percent.mito &lt;dbl&gt; |\n",
       "|---|---|---|---|---|---|---|\n",
       "| Multiome10x_05_AAACGGATCTGTAATG-1 | Multiome10x_05_AAACGGATCTGTAATG-1 |  2042 |  239 | K562 | 7.621685 | 0.11704212 |\n",
       "| Multiome10x_05_AAAGCCCGTCCGTAGG-1 | Multiome10x_05_AAAGCCCGTCCGTAGG-1 |  2174 |  290 | K562 | 7.684324 | 0.13339466 |\n",
       "| Multiome10x_05_AAAGCGGGTTAGTACG-1 | Multiome10x_05_AAAGCGGGTTAGTACG-1 |  2597 |  337 | K562 | 7.862112 | 0.12976511 |\n",
       "| Multiome10x_05_AAAGGAGCATAAACCT-1 | Multiome10x_05_AAAGGAGCATAAACCT-1 |  5124 |  491 | K562 | 8.541691 | 0.09582358 |\n",
       "| Multiome10x_05_AAAGGAGCATAATTGC-1 | Multiome10x_05_AAAGGAGCATAATTGC-1 |  6249 |  492 | K562 | 8.740177 | 0.07873260 |\n",
       "| Multiome10x_05_AAAGGTTAGTTAACCA-1 | Multiome10x_05_AAAGGTTAGTTAACCA-1 |  4185 |  403 | K562 | 8.339262 | 0.09629630 |\n",
       "| Multiome10x_05_AACAAAGGTCAATAGT-1 | Multiome10x_05_AACAAAGGTCAATAGT-1 |  1879 |  119 | K562 | 7.538495 | 0.06333156 |\n",
       "| Multiome10x_05_AACAGGATCTTGACCC-1 | Multiome10x_05_AACAGGATCTTGACCC-1 |  4499 |  525 | K562 | 8.411610 | 0.11669260 |\n",
       "| Multiome10x_05_AACATTGTCAGCACCA-1 | Multiome10x_05_AACATTGTCAGCACCA-1 |  1200 |  289 | K562 | 7.090077 | 0.24083333 |\n",
       "| Multiome10x_05_AACATTGTCCGCATGA-1 | Multiome10x_05_AACATTGTCCGCATGA-1 |  4690 |  578 | K562 | 8.453188 | 0.12324094 |\n",
       "| Multiome10x_05_AACCCGCAGTCACCAG-1 | Multiome10x_05_AACCCGCAGTCACCAG-1 |  8198 | 1024 | K562 | 9.011646 | 0.12490851 |\n",
       "| Multiome10x_05_AACCCGCAGTTATTCC-1 | Multiome10x_05_AACCCGCAGTTATTCC-1 |  3137 |  332 | K562 | 8.051022 | 0.10583360 |\n",
       "| Multiome10x_05_AACGCCCAGCAAACCT-1 | Multiome10x_05_AACGCCCAGCAAACCT-1 |  6422 |  685 | K562 | 8.767485 | 0.10666459 |\n",
       "| Multiome10x_05_AACTAGTGTAATCCCT-1 | Multiome10x_05_AACTAGTGTAATCCCT-1 |  2465 |  262 | K562 | 7.809947 | 0.10628803 |\n",
       "| Multiome10x_05_AAGACATAGAGAGGCT-1 | Multiome10x_05_AAGACATAGAGAGGCT-1 |  2392 |  231 | K562 | 7.779885 | 0.09657191 |\n",
       "| Multiome10x_05_AAGCCACGTTAGGATT-1 | Multiome10x_05_AAGCCACGTTAGGATT-1 |  1337 |   97 | K562 | 7.198184 | 0.07255049 |\n",
       "| Multiome10x_05_AAGCCTGTCCTAATAG-1 | Multiome10x_05_AAGCCTGTCCTAATAG-1 |  3374 |  289 | K562 | 8.123854 | 0.08565501 |\n",
       "| Multiome10x_05_AAGCTCCCAGGACCAA-1 | Multiome10x_05_AAGCTCCCAGGACCAA-1 |  2677 |  303 | K562 | 7.892452 | 0.11318640 |\n",
       "| Multiome10x_05_AAGGTATAGCGATACT-1 | Multiome10x_05_AAGGTATAGCGATACT-1 |  3052 |  225 | K562 | 8.023552 | 0.07372215 |\n",
       "| Multiome10x_05_AAGGTCAAGCATGTCG-1 | Multiome10x_05_AAGGTCAAGCATGTCG-1 |  2359 |  301 | K562 | 7.765993 | 0.12759644 |\n",
       "| Multiome10x_05_AAGTAGCCACCGGTAT-1 | Multiome10x_05_AAGTAGCCACCGGTAT-1 | 11959 |  934 | K562 | 9.389239 | 0.07810018 |\n",
       "| Multiome10x_05_AAGTAGCCAGTAAGTA-1 | Multiome10x_05_AAGTAGCCAGTAAGTA-1 |  3226 |  481 | K562 | 8.078998 | 0.14910105 |\n",
       "| Multiome10x_05_AAGTCTATCAGCTAAC-1 | Multiome10x_05_AAGTCTATCAGCTAAC-1 |  5533 |  827 | K562 | 8.618485 | 0.14946684 |\n",
       "| Multiome10x_05_AAGTTAGCAACGTGCT-1 | Multiome10x_05_AAGTTAGCAACGTGCT-1 |  2500 |  274 | K562 | 7.824046 | 0.10960000 |\n",
       "| Multiome10x_05_AATCATGTCTTAGCCC-1 | Multiome10x_05_AATCATGTCTTAGCCC-1 |  3545 |  398 | K562 | 8.173293 | 0.11227080 |\n",
       "| Multiome10x_05_AATCGCCCAGGCGAGT-1 | Multiome10x_05_AATCGCCCAGGCGAGT-1 |  2593 |  343 | K562 | 7.860571 | 0.13227921 |\n",
       "| Multiome10x_05_AATCTCAAGTAGAGGC-1 | Multiome10x_05_AATCTCAAGTAGAGGC-1 |  2967 |  391 | K562 | 7.995307 | 0.13178295 |\n",
       "| Multiome10x_05_AATGTCCAGAAGGTGC-1 | Multiome10x_05_AATGTCCAGAAGGTGC-1 |  2160 |  214 | K562 | 7.677864 | 0.09907407 |\n",
       "| Multiome10x_05_AATTAGCGTTTGAGCA-1 | Multiome10x_05_AATTAGCGTTTGAGCA-1 |  2325 |  241 | K562 | 7.751475 | 0.10365591 |\n",
       "| Multiome10x_05_AATTGCCAGTGAAGTG-1 | Multiome10x_05_AATTGCCAGTGAAGTG-1 |  2577 |  214 | K562 | 7.854381 | 0.08304230 |\n",
       "| ⋮ | ⋮ | ⋮ | ⋮ | ⋮ | ⋮ | ⋮ |\n",
       "| Multiome10x_06_TTCCACGGTGTTGCTT-1 | Multiome10x_06_TTCCACGGTGTTGCTT-1 |  3279 |  427 | K562 | 8.095294 | 0.13022263 |\n",
       "| Multiome10x_06_TTCCTCAAGCTCATAA-1 | Multiome10x_06_TTCCTCAAGCTCATAA-1 |  1815 |  122 | K562 | 7.503841 | 0.06721763 |\n",
       "| Multiome10x_06_TTGAGGCGTATTGAGT-1 | Multiome10x_06_TTGAGGCGTATTGAGT-1 |  5704 |  595 | K562 | 8.648923 | 0.10431276 |\n",
       "| Multiome10x_06_TTGCAACAGCCTGTTC-1 | Multiome10x_06_TTGCAACAGCCTGTTC-1 |  2671 |  262 | K562 | 7.890208 | 0.09809060 |\n",
       "| Multiome10x_06_TTGCAACAGGACCGCT-1 | Multiome10x_06_TTGCAACAGGACCGCT-1 |  4867 |  544 | K562 | 8.490233 | 0.11177317 |\n",
       "| Multiome10x_06_TTGCAACAGGCCCAGT-1 | Multiome10x_06_TTGCAACAGGCCCAGT-1 |  6293 |  564 | K562 | 8.747193 | 0.08962339 |\n",
       "| Multiome10x_06_TTGCACACAGTAATAG-1 | Multiome10x_06_TTGCACACAGTAATAG-1 |  6357 |  611 | K562 | 8.757312 | 0.09611452 |\n",
       "| Multiome10x_06_TTGCTTAGTAGCTGGT-1 | Multiome10x_06_TTGCTTAGTAGCTGGT-1 |  4054 |  358 | K562 | 8.307459 | 0.08830784 |\n",
       "| Multiome10x_06_TTGGATCAGTCTCACC-1 | Multiome10x_06_TTGGATCAGTCTCACC-1 |  7532 |  661 | K562 | 8.926916 | 0.08775890 |\n",
       "| Multiome10x_06_TTGGGCGGTGATCAGC-1 | Multiome10x_06_TTGGGCGGTGATCAGC-1 |  5294 |  685 | K562 | 8.574329 | 0.12939176 |\n",
       "| Multiome10x_06_TTGTAAGTCCTTGCGT-1 | Multiome10x_06_TTGTAAGTCCTTGCGT-1 |  2976 |  316 | K562 | 7.998335 | 0.10618280 |\n",
       "| Multiome10x_06_TTGTCCATCCACCCTG-1 | Multiome10x_06_TTGTCCATCCACCCTG-1 |  2500 |   61 | K562 | 7.824046 | 0.02440000 |\n",
       "| Multiome10x_06_TTGTGCCTCCCTGGAA-1 | Multiome10x_06_TTGTGCCTCCCTGGAA-1 |  3632 |  506 | K562 | 8.197539 | 0.13931718 |\n",
       "| Multiome10x_06_TTGTTCCCAGGTTATT-1 | Multiome10x_06_TTGTTCCCAGGTTATT-1 |  1635 |  200 | K562 | 7.399398 | 0.12232416 |\n",
       "| Multiome10x_06_TTGTTTGGTTTGGCTT-1 | Multiome10x_06_TTGTTTGGTTTGGCTT-1 |  1903 |  194 | K562 | 7.551187 | 0.10194430 |\n",
       "| Multiome10x_06_TTTAAGCCAGTGAACG-1 | Multiome10x_06_TTTAAGCCAGTGAACG-1 | 10350 | 1161 | K562 | 9.244742 | 0.11217391 |\n",
       "| Multiome10x_06_TTTAAGGTCACTCAAA-1 | Multiome10x_06_TTTAAGGTCACTCAAA-1 |  1774 |  171 | K562 | 7.480992 | 0.09639233 |\n",
       "| Multiome10x_06_TTTACGAAGAACAAGT-1 | Multiome10x_06_TTTACGAAGAACAAGT-1 |  2738 |  326 | K562 | 7.914983 | 0.11906501 |\n",
       "| Multiome10x_06_TTTACGAAGGAACACA-1 | Multiome10x_06_TTTACGAAGGAACACA-1 |  4415 |  625 | K562 | 8.392763 | 0.14156285 |\n",
       "| Multiome10x_06_TTTAGCAAGGCTTAAC-1 | Multiome10x_06_TTTAGCAAGGCTTAAC-1 |  2430 |  263 | K562 | 7.795647 | 0.10823045 |\n",
       "| Multiome10x_06_TTTAGGATCAGCACCA-1 | Multiome10x_06_TTTAGGATCAGCACCA-1 |  8345 |  741 | K562 | 9.029418 | 0.08879569 |\n",
       "| Multiome10x_06_TTTCACCCAAACCCTA-1 | Multiome10x_06_TTTCACCCAAACCCTA-1 |  1551 |  195 | K562 | 7.346655 | 0.12572534 |\n",
       "| Multiome10x_06_TTTCCGGGTTAGTTGG-1 | Multiome10x_06_TTTCCGGGTTAGTTGG-1 |  3377 |  328 | K562 | 8.124743 | 0.09712763 |\n",
       "| Multiome10x_06_TTTCTTGCAGTTTACG-1 | Multiome10x_06_TTTCTTGCAGTTTACG-1 |  5663 |  746 | K562 | 8.641709 | 0.13173230 |\n",
       "| Multiome10x_06_TTTGCGACAAAGCTCC-1 | Multiome10x_06_TTTGCGACAAAGCTCC-1 |  2690 |  143 | K562 | 7.897296 | 0.05315985 |\n",
       "| Multiome10x_06_TTTGCGGAGTTCCCGT-1 | Multiome10x_06_TTTGCGGAGTTCCCGT-1 |  1704 |  207 | K562 | 7.440734 | 0.12147887 |\n",
       "| Multiome10x_06_TTTGGTGCATTAAGCT-1 | Multiome10x_06_TTTGGTGCATTAAGCT-1 |  2137 |   87 | K562 | 7.667158 | 0.04071128 |\n",
       "| Multiome10x_06_TTTGTCCCATACCCGG-1 | Multiome10x_06_TTTGTCCCATACCCGG-1 |  2795 |  225 | K562 | 7.935587 | 0.08050089 |\n",
       "| Multiome10x_06_TTTGTCTAGGCAGGTG-1 | Multiome10x_06_TTTGTCTAGGCAGGTG-1 |  2578 |  210 | K562 | 7.854769 | 0.08145849 |\n",
       "| Multiome10x_06_TTTGTCTAGGTAAGCA-1 | Multiome10x_06_TTTGTCTAGGTAAGCA-1 |  3266 |  279 | K562 | 8.091321 | 0.08542560 |\n",
       "\n"
      ],
      "text/plain": [
       "                                  cell                              nUMI  nMito\n",
       "Multiome10x_05_AAACGGATCTGTAATG-1 Multiome10x_05_AAACGGATCTGTAATG-1  2042  239 \n",
       "Multiome10x_05_AAAGCCCGTCCGTAGG-1 Multiome10x_05_AAAGCCCGTCCGTAGG-1  2174  290 \n",
       "Multiome10x_05_AAAGCGGGTTAGTACG-1 Multiome10x_05_AAAGCGGGTTAGTACG-1  2597  337 \n",
       "Multiome10x_05_AAAGGAGCATAAACCT-1 Multiome10x_05_AAAGGAGCATAAACCT-1  5124  491 \n",
       "Multiome10x_05_AAAGGAGCATAATTGC-1 Multiome10x_05_AAAGGAGCATAATTGC-1  6249  492 \n",
       "Multiome10x_05_AAAGGTTAGTTAACCA-1 Multiome10x_05_AAAGGTTAGTTAACCA-1  4185  403 \n",
       "Multiome10x_05_AACAAAGGTCAATAGT-1 Multiome10x_05_AACAAAGGTCAATAGT-1  1879  119 \n",
       "Multiome10x_05_AACAGGATCTTGACCC-1 Multiome10x_05_AACAGGATCTTGACCC-1  4499  525 \n",
       "Multiome10x_05_AACATTGTCAGCACCA-1 Multiome10x_05_AACATTGTCAGCACCA-1  1200  289 \n",
       "Multiome10x_05_AACATTGTCCGCATGA-1 Multiome10x_05_AACATTGTCCGCATGA-1  4690  578 \n",
       "Multiome10x_05_AACCCGCAGTCACCAG-1 Multiome10x_05_AACCCGCAGTCACCAG-1  8198 1024 \n",
       "Multiome10x_05_AACCCGCAGTTATTCC-1 Multiome10x_05_AACCCGCAGTTATTCC-1  3137  332 \n",
       "Multiome10x_05_AACGCCCAGCAAACCT-1 Multiome10x_05_AACGCCCAGCAAACCT-1  6422  685 \n",
       "Multiome10x_05_AACTAGTGTAATCCCT-1 Multiome10x_05_AACTAGTGTAATCCCT-1  2465  262 \n",
       "Multiome10x_05_AAGACATAGAGAGGCT-1 Multiome10x_05_AAGACATAGAGAGGCT-1  2392  231 \n",
       "Multiome10x_05_AAGCCACGTTAGGATT-1 Multiome10x_05_AAGCCACGTTAGGATT-1  1337   97 \n",
       "Multiome10x_05_AAGCCTGTCCTAATAG-1 Multiome10x_05_AAGCCTGTCCTAATAG-1  3374  289 \n",
       "Multiome10x_05_AAGCTCCCAGGACCAA-1 Multiome10x_05_AAGCTCCCAGGACCAA-1  2677  303 \n",
       "Multiome10x_05_AAGGTATAGCGATACT-1 Multiome10x_05_AAGGTATAGCGATACT-1  3052  225 \n",
       "Multiome10x_05_AAGGTCAAGCATGTCG-1 Multiome10x_05_AAGGTCAAGCATGTCG-1  2359  301 \n",
       "Multiome10x_05_AAGTAGCCACCGGTAT-1 Multiome10x_05_AAGTAGCCACCGGTAT-1 11959  934 \n",
       "Multiome10x_05_AAGTAGCCAGTAAGTA-1 Multiome10x_05_AAGTAGCCAGTAAGTA-1  3226  481 \n",
       "Multiome10x_05_AAGTCTATCAGCTAAC-1 Multiome10x_05_AAGTCTATCAGCTAAC-1  5533  827 \n",
       "Multiome10x_05_AAGTTAGCAACGTGCT-1 Multiome10x_05_AAGTTAGCAACGTGCT-1  2500  274 \n",
       "Multiome10x_05_AATCATGTCTTAGCCC-1 Multiome10x_05_AATCATGTCTTAGCCC-1  3545  398 \n",
       "Multiome10x_05_AATCGCCCAGGCGAGT-1 Multiome10x_05_AATCGCCCAGGCGAGT-1  2593  343 \n",
       "Multiome10x_05_AATCTCAAGTAGAGGC-1 Multiome10x_05_AATCTCAAGTAGAGGC-1  2967  391 \n",
       "Multiome10x_05_AATGTCCAGAAGGTGC-1 Multiome10x_05_AATGTCCAGAAGGTGC-1  2160  214 \n",
       "Multiome10x_05_AATTAGCGTTTGAGCA-1 Multiome10x_05_AATTAGCGTTTGAGCA-1  2325  241 \n",
       "Multiome10x_05_AATTGCCAGTGAAGTG-1 Multiome10x_05_AATTGCCAGTGAAGTG-1  2577  214 \n",
       "⋮                                 ⋮                                 ⋮     ⋮    \n",
       "Multiome10x_06_TTCCACGGTGTTGCTT-1 Multiome10x_06_TTCCACGGTGTTGCTT-1  3279  427 \n",
       "Multiome10x_06_TTCCTCAAGCTCATAA-1 Multiome10x_06_TTCCTCAAGCTCATAA-1  1815  122 \n",
       "Multiome10x_06_TTGAGGCGTATTGAGT-1 Multiome10x_06_TTGAGGCGTATTGAGT-1  5704  595 \n",
       "Multiome10x_06_TTGCAACAGCCTGTTC-1 Multiome10x_06_TTGCAACAGCCTGTTC-1  2671  262 \n",
       "Multiome10x_06_TTGCAACAGGACCGCT-1 Multiome10x_06_TTGCAACAGGACCGCT-1  4867  544 \n",
       "Multiome10x_06_TTGCAACAGGCCCAGT-1 Multiome10x_06_TTGCAACAGGCCCAGT-1  6293  564 \n",
       "Multiome10x_06_TTGCACACAGTAATAG-1 Multiome10x_06_TTGCACACAGTAATAG-1  6357  611 \n",
       "Multiome10x_06_TTGCTTAGTAGCTGGT-1 Multiome10x_06_TTGCTTAGTAGCTGGT-1  4054  358 \n",
       "Multiome10x_06_TTGGATCAGTCTCACC-1 Multiome10x_06_TTGGATCAGTCTCACC-1  7532  661 \n",
       "Multiome10x_06_TTGGGCGGTGATCAGC-1 Multiome10x_06_TTGGGCGGTGATCAGC-1  5294  685 \n",
       "Multiome10x_06_TTGTAAGTCCTTGCGT-1 Multiome10x_06_TTGTAAGTCCTTGCGT-1  2976  316 \n",
       "Multiome10x_06_TTGTCCATCCACCCTG-1 Multiome10x_06_TTGTCCATCCACCCTG-1  2500   61 \n",
       "Multiome10x_06_TTGTGCCTCCCTGGAA-1 Multiome10x_06_TTGTGCCTCCCTGGAA-1  3632  506 \n",
       "Multiome10x_06_TTGTTCCCAGGTTATT-1 Multiome10x_06_TTGTTCCCAGGTTATT-1  1635  200 \n",
       "Multiome10x_06_TTGTTTGGTTTGGCTT-1 Multiome10x_06_TTGTTTGGTTTGGCTT-1  1903  194 \n",
       "Multiome10x_06_TTTAAGCCAGTGAACG-1 Multiome10x_06_TTTAAGCCAGTGAACG-1 10350 1161 \n",
       "Multiome10x_06_TTTAAGGTCACTCAAA-1 Multiome10x_06_TTTAAGGTCACTCAAA-1  1774  171 \n",
       "Multiome10x_06_TTTACGAAGAACAAGT-1 Multiome10x_06_TTTACGAAGAACAAGT-1  2738  326 \n",
       "Multiome10x_06_TTTACGAAGGAACACA-1 Multiome10x_06_TTTACGAAGGAACACA-1  4415  625 \n",
       "Multiome10x_06_TTTAGCAAGGCTTAAC-1 Multiome10x_06_TTTAGCAAGGCTTAAC-1  2430  263 \n",
       "Multiome10x_06_TTTAGGATCAGCACCA-1 Multiome10x_06_TTTAGGATCAGCACCA-1  8345  741 \n",
       "Multiome10x_06_TTTCACCCAAACCCTA-1 Multiome10x_06_TTTCACCCAAACCCTA-1  1551  195 \n",
       "Multiome10x_06_TTTCCGGGTTAGTTGG-1 Multiome10x_06_TTTCCGGGTTAGTTGG-1  3377  328 \n",
       "Multiome10x_06_TTTCTTGCAGTTTACG-1 Multiome10x_06_TTTCTTGCAGTTTACG-1  5663  746 \n",
       "Multiome10x_06_TTTGCGACAAAGCTCC-1 Multiome10x_06_TTTGCGACAAAGCTCC-1  2690  143 \n",
       "Multiome10x_06_TTTGCGGAGTTCCCGT-1 Multiome10x_06_TTTGCGGAGTTCCCGT-1  1704  207 \n",
       "Multiome10x_06_TTTGGTGCATTAAGCT-1 Multiome10x_06_TTTGGTGCATTAAGCT-1  2137   87 \n",
       "Multiome10x_06_TTTGTCCCATACCCGG-1 Multiome10x_06_TTTGTCCCATACCCGG-1  2795  225 \n",
       "Multiome10x_06_TTTGTCTAGGCAGGTG-1 Multiome10x_06_TTTGTCTAGGCAGGTG-1  2578  210 \n",
       "Multiome10x_06_TTTGTCTAGGTAAGCA-1 Multiome10x_06_TTTGTCTAGGTAAGCA-1  3266  279 \n",
       "                                  celltype log.nUMI percent.mito\n",
       "Multiome10x_05_AAACGGATCTGTAATG-1 K562     7.621685 0.11704212  \n",
       "Multiome10x_05_AAAGCCCGTCCGTAGG-1 K562     7.684324 0.13339466  \n",
       "Multiome10x_05_AAAGCGGGTTAGTACG-1 K562     7.862112 0.12976511  \n",
       "Multiome10x_05_AAAGGAGCATAAACCT-1 K562     8.541691 0.09582358  \n",
       "Multiome10x_05_AAAGGAGCATAATTGC-1 K562     8.740177 0.07873260  \n",
       "Multiome10x_05_AAAGGTTAGTTAACCA-1 K562     8.339262 0.09629630  \n",
       "Multiome10x_05_AACAAAGGTCAATAGT-1 K562     7.538495 0.06333156  \n",
       "Multiome10x_05_AACAGGATCTTGACCC-1 K562     8.411610 0.11669260  \n",
       "Multiome10x_05_AACATTGTCAGCACCA-1 K562     7.090077 0.24083333  \n",
       "Multiome10x_05_AACATTGTCCGCATGA-1 K562     8.453188 0.12324094  \n",
       "Multiome10x_05_AACCCGCAGTCACCAG-1 K562     9.011646 0.12490851  \n",
       "Multiome10x_05_AACCCGCAGTTATTCC-1 K562     8.051022 0.10583360  \n",
       "Multiome10x_05_AACGCCCAGCAAACCT-1 K562     8.767485 0.10666459  \n",
       "Multiome10x_05_AACTAGTGTAATCCCT-1 K562     7.809947 0.10628803  \n",
       "Multiome10x_05_AAGACATAGAGAGGCT-1 K562     7.779885 0.09657191  \n",
       "Multiome10x_05_AAGCCACGTTAGGATT-1 K562     7.198184 0.07255049  \n",
       "Multiome10x_05_AAGCCTGTCCTAATAG-1 K562     8.123854 0.08565501  \n",
       "Multiome10x_05_AAGCTCCCAGGACCAA-1 K562     7.892452 0.11318640  \n",
       "Multiome10x_05_AAGGTATAGCGATACT-1 K562     8.023552 0.07372215  \n",
       "Multiome10x_05_AAGGTCAAGCATGTCG-1 K562     7.765993 0.12759644  \n",
       "Multiome10x_05_AAGTAGCCACCGGTAT-1 K562     9.389239 0.07810018  \n",
       "Multiome10x_05_AAGTAGCCAGTAAGTA-1 K562     8.078998 0.14910105  \n",
       "Multiome10x_05_AAGTCTATCAGCTAAC-1 K562     8.618485 0.14946684  \n",
       "Multiome10x_05_AAGTTAGCAACGTGCT-1 K562     7.824046 0.10960000  \n",
       "Multiome10x_05_AATCATGTCTTAGCCC-1 K562     8.173293 0.11227080  \n",
       "Multiome10x_05_AATCGCCCAGGCGAGT-1 K562     7.860571 0.13227921  \n",
       "Multiome10x_05_AATCTCAAGTAGAGGC-1 K562     7.995307 0.13178295  \n",
       "Multiome10x_05_AATGTCCAGAAGGTGC-1 K562     7.677864 0.09907407  \n",
       "Multiome10x_05_AATTAGCGTTTGAGCA-1 K562     7.751475 0.10365591  \n",
       "Multiome10x_05_AATTGCCAGTGAAGTG-1 K562     7.854381 0.08304230  \n",
       "⋮                                 ⋮        ⋮        ⋮           \n",
       "Multiome10x_06_TTCCACGGTGTTGCTT-1 K562     8.095294 0.13022263  \n",
       "Multiome10x_06_TTCCTCAAGCTCATAA-1 K562     7.503841 0.06721763  \n",
       "Multiome10x_06_TTGAGGCGTATTGAGT-1 K562     8.648923 0.10431276  \n",
       "Multiome10x_06_TTGCAACAGCCTGTTC-1 K562     7.890208 0.09809060  \n",
       "Multiome10x_06_TTGCAACAGGACCGCT-1 K562     8.490233 0.11177317  \n",
       "Multiome10x_06_TTGCAACAGGCCCAGT-1 K562     8.747193 0.08962339  \n",
       "Multiome10x_06_TTGCACACAGTAATAG-1 K562     8.757312 0.09611452  \n",
       "Multiome10x_06_TTGCTTAGTAGCTGGT-1 K562     8.307459 0.08830784  \n",
       "Multiome10x_06_TTGGATCAGTCTCACC-1 K562     8.926916 0.08775890  \n",
       "Multiome10x_06_TTGGGCGGTGATCAGC-1 K562     8.574329 0.12939176  \n",
       "Multiome10x_06_TTGTAAGTCCTTGCGT-1 K562     7.998335 0.10618280  \n",
       "Multiome10x_06_TTGTCCATCCACCCTG-1 K562     7.824046 0.02440000  \n",
       "Multiome10x_06_TTGTGCCTCCCTGGAA-1 K562     8.197539 0.13931718  \n",
       "Multiome10x_06_TTGTTCCCAGGTTATT-1 K562     7.399398 0.12232416  \n",
       "Multiome10x_06_TTGTTTGGTTTGGCTT-1 K562     7.551187 0.10194430  \n",
       "Multiome10x_06_TTTAAGCCAGTGAACG-1 K562     9.244742 0.11217391  \n",
       "Multiome10x_06_TTTAAGGTCACTCAAA-1 K562     7.480992 0.09639233  \n",
       "Multiome10x_06_TTTACGAAGAACAAGT-1 K562     7.914983 0.11906501  \n",
       "Multiome10x_06_TTTACGAAGGAACACA-1 K562     8.392763 0.14156285  \n",
       "Multiome10x_06_TTTAGCAAGGCTTAAC-1 K562     7.795647 0.10823045  \n",
       "Multiome10x_06_TTTAGGATCAGCACCA-1 K562     9.029418 0.08879569  \n",
       "Multiome10x_06_TTTCACCCAAACCCTA-1 K562     7.346655 0.12572534  \n",
       "Multiome10x_06_TTTCCGGGTTAGTTGG-1 K562     8.124743 0.09712763  \n",
       "Multiome10x_06_TTTCTTGCAGTTTACG-1 K562     8.641709 0.13173230  \n",
       "Multiome10x_06_TTTGCGACAAAGCTCC-1 K562     7.897296 0.05315985  \n",
       "Multiome10x_06_TTTGCGGAGTTCCCGT-1 K562     7.440734 0.12147887  \n",
       "Multiome10x_06_TTTGGTGCATTAAGCT-1 K562     7.667158 0.04071128  \n",
       "Multiome10x_06_TTTGTCCCATACCCGG-1 K562     7.935587 0.08050089  \n",
       "Multiome10x_06_TTTGTCTAGGCAGGTG-1 K562     7.854769 0.08145849  \n",
       "Multiome10x_06_TTTGTCTAGGTAAGCA-1 K562     8.091321 0.08542560  "
      ]
     },
     "metadata": {},
     "output_type": "display_data"
    }
   ],
   "source": [
    "meta.data = data.frame(cell = colnames(matrix.rna),\n",
    "                       nUMI = colSums(matrix.rna),\n",
    "                       nMito = colSums(matrix.rna[grep(\"MT-\",rownames(matrix.rna)),]),\n",
    "                       celltype = \"K562\")\n",
    "meta.data[,\"log.nUMI\"] = log(meta.data[,\"nUMI\"])\n",
    "meta.data[,\"percent.mito\"] = meta.data[,\"nMito\"] / meta.data[,\"nUMI\"]\n",
    "meta.data"
   ]
  },
  {
   "cell_type": "markdown",
   "id": "b823cb4a-3ce6-40b1-9a0d-d5d1e4aa3912",
   "metadata": {},
   "source": [
    "RUN SCENT prediction"
   ]
  },
  {
   "cell_type": "code",
   "execution_count": 12,
   "id": "f46765dc-9de5-4411-9288-40b59435f9fb",
   "metadata": {},
   "outputs": [],
   "source": [
    "SCENT_algorithm.modified = function (object, \n",
    "                                     # celltype, \n",
    "                                     # ncores, \n",
    "                                     # regr = \"poisson\", \n",
    "                                     # bin = TRUE) \n",
    "                                     regr = \"poisson\") {\n",
    "    res <- data.frame()\n",
    "    for (n in 1:nrow(object@peak.info)) {        \n",
    "        gene <- object@peak.info[n, 1]\n",
    "        this_peak <- object@peak.info[n, 2]\n",
    "        atac_target <- data.frame(cell = colnames(object@atac), \n",
    "            atac = object@atac[this_peak, ])\n",
    "        # if (bin) {\n",
    "        #     atac_target[atac_target$atac > 0, ]$atac <- 1\n",
    "        # }\n",
    "        mrna_target <- object@rna[gene, ]\n",
    "        df <- data.frame(cell = names(mrna_target), exprs = as.numeric(mrna_target))\n",
    "        df <- merge(df, atac_target, by = \"cell\")\n",
    "        df <- merge(df, object@meta.data, by = \"cell\")\n",
    "        # df2 <- df[df[[object@celltypes]] == celltype, ]\n",
    "        df2 <- df\n",
    "        nonzero_m <- length(df2$exprs[df2$exprs > 0])/length(df2$exprs)\n",
    "        nonzero_a <- length(df2$atac[df2$atac > 0])/length(df2$atac)\n",
    "        if (nonzero_m > 0.05 & nonzero_a > 0.05) {\n",
    "            res_var <- \"exprs\"\n",
    "            pred_var <- c(\"atac\", object@covariates)\n",
    "            formula <- as.formula(paste(res_var, paste(pred_var, \n",
    "                collapse = \"+\"), sep = \"~\"))\n",
    "            if (regr == \"poisson\") {\n",
    "                base = glm(formula, family = \"poisson\", data = df2)\n",
    "                coefs <- summary(base)$coefficients[\"atac\", ]\n",
    "                # assoc <- assoc_poisson\n",
    "                assoc <- SCENT::assoc_poisson\n",
    "            }\n",
    "            else if (regr == \"negbin\") {\n",
    "                base = glm.nb(formula, data = df2)\n",
    "                coefs <- summary(base)$coefficients[\"atac\", ]\n",
    "                # assoc <- assoc_negbin\n",
    "                assoc <- SCENT::assoc_negbin\n",
    "            }\n",
    "            bs = boot::boot(df2, assoc, R = 100, formula = formula, \n",
    "                stype = \"i\", parallel = \"no\", ncpus = 1)\n",
    "            # p0 = basic_p(bs$t0[1], bs$t[, 1])\n",
    "            p0 = SCENT::basic_p(bs$t0[1], bs$t[, 1])\n",
    "            # if (p0 < 0.1) {\n",
    "            #     bs = boot::boot(df2, assoc, R = 500, formula = formula, \n",
    "            #       stype = \"i\", \n",
    "            #       # parallel = \"multicore\", ncpus = ncores)\n",
    "            #       parallel = \"no\", ncpus = 1)\n",
    "            #     # p0 = basic_p(bs$t0[1], bs$t[, 1])\n",
    "            #     p0 = SCENT::basic_p(bs$t0[1], bs$t[, 1])\n",
    "            # }\n",
    "            # if (p0 < 0.05) {\n",
    "            #     bs = boot::boot(df2, assoc, R = 2500, formula = formula, \n",
    "            #       stype = \"i\", \n",
    "            #       # parallel = \"multicore\", ncpus = ncores)\n",
    "            #       parallel = \"no\", ncpus = 1)\n",
    "            #     # p0 = basic_p(bs$t0[1], bs$t[, 1])\n",
    "            #     p0 = SCENT::basic_p(bs$t0[1], bs$t[, 1])\n",
    "            # }\n",
    "            # if (p0 < 0.01) {\n",
    "            #     bs = boot::boot(df2, assoc, R = 25000, formula = formula, \n",
    "            #       stype = \"i\", \n",
    "            #       # parallel = \"multicore\", ncpus = ncores)\n",
    "            #       parallel = \"no\", ncpus = 1)\n",
    "            #     # p0 = basic_p(bs$t0[1], bs$t[, 1])\n",
    "            #     p0 = SCENT::basic_p(bs$t0[1], bs$t[, 1])\n",
    "            # }\n",
    "            # if (p0 < 0.001) {\n",
    "            #     bs = boot::boot(df2, assoc, R = 50000, formula = formula, \n",
    "            #       stype = \"i\", \n",
    "            #       # parallel = \"multicore\", ncpus = ncores)\n",
    "            #       parallel = \"no\", ncpus = 1)\n",
    "            #     # p0 = basic_p(bs$t0[1], bs$t[, 1])\n",
    "            #     p0 = SCENT::basic_p(bs$t0[1], bs$t[, 1])\n",
    "            # }\n",
    "            out <- data.frame(gene = gene, peak = this_peak, \n",
    "                beta = coefs[1], se = coefs[2], z = coefs[3], \n",
    "                p = coefs[4], boot_basic_p = p0)           \n",
    "            res <- rbind(res, out)\n",
    "        }\n",
    "    }\n",
    "    object@SCENT.result <- res\n",
    "    return(object)\n",
    "}"
   ]
  },
  {
   "cell_type": "code",
   "execution_count": 13,
   "id": "563771b9-b96a-44d5-a5fe-fa30a7b9851b",
   "metadata": {},
   "outputs": [],
   "source": [
    "dir.create(paste(dir.output,\"chr\",sep = \"/\"),recursive = T)"
   ]
  },
  {
   "cell_type": "code",
   "execution_count": 14,
   "id": "0d2266ce-b92d-40d2-9b78-f39bd33a5079",
   "metadata": {},
   "outputs": [],
   "source": [
    "chr.done = dir(paste(dir.output,\"chr\",sep = \"/\"))\n",
    "chr.run = as.character(unique(seqnames(pairs.E2G.filter2)))\n",
    "chr.run = chr.run[!chr.run %in% chr.done]"
   ]
  },
  {
   "cell_type": "code",
   "execution_count": null,
   "id": "2d41238d-e833-4e0e-add5-bb56bb615c1a",
   "metadata": {},
   "outputs": [
    {
     "name": "stdout",
     "output_type": "stream",
     "text": [
      "[1] \"chr1\"\n"
     ]
    },
    {
     "name": "stderr",
     "output_type": "stream",
     "text": [
      "Warning message in split.default(x = seq_len(nrow(x)), f = f, drop = drop, ...):\n",
      "“data length is not a multiple of split variable”\n"
     ]
    },
    {
     "name": "stdout",
     "output_type": "stream",
     "text": [
      "[1] \"chr10\"\n"
     ]
    },
    {
     "name": "stderr",
     "output_type": "stream",
     "text": [
      "Warning message in split.default(x = seq_len(nrow(x)), f = f, drop = drop, ...):\n",
      "“data length is not a multiple of split variable”\n"
     ]
    },
    {
     "name": "stdout",
     "output_type": "stream",
     "text": [
      "[1] \"chr11\"\n"
     ]
    },
    {
     "name": "stderr",
     "output_type": "stream",
     "text": [
      "Warning message in split.default(x = seq_len(nrow(x)), f = f, drop = drop, ...):\n",
      "“data length is not a multiple of split variable”\n"
     ]
    },
    {
     "name": "stdout",
     "output_type": "stream",
     "text": [
      "[1] \"chr12\"\n"
     ]
    },
    {
     "name": "stderr",
     "output_type": "stream",
     "text": [
      "Warning message in split.default(x = seq_len(nrow(x)), f = f, drop = drop, ...):\n",
      "“data length is not a multiple of split variable”\n"
     ]
    },
    {
     "name": "stdout",
     "output_type": "stream",
     "text": [
      "[1] \"chr13\"\n"
     ]
    },
    {
     "name": "stderr",
     "output_type": "stream",
     "text": [
      "Warning message in split.default(x = seq_len(nrow(x)), f = f, drop = drop, ...):\n",
      "“data length is not a multiple of split variable”\n"
     ]
    },
    {
     "name": "stdout",
     "output_type": "stream",
     "text": [
      "[1] \"chr14\"\n"
     ]
    },
    {
     "name": "stderr",
     "output_type": "stream",
     "text": [
      "Warning message in split.default(x = seq_len(nrow(x)), f = f, drop = drop, ...):\n",
      "“data length is not a multiple of split variable”\n"
     ]
    },
    {
     "name": "stdout",
     "output_type": "stream",
     "text": [
      "[1] \"chr15\"\n"
     ]
    },
    {
     "name": "stderr",
     "output_type": "stream",
     "text": [
      "Warning message in split.default(x = seq_len(nrow(x)), f = f, drop = drop, ...):\n",
      "“data length is not a multiple of split variable”\n"
     ]
    },
    {
     "name": "stdout",
     "output_type": "stream",
     "text": [
      "[1] \"chr16\"\n"
     ]
    },
    {
     "name": "stderr",
     "output_type": "stream",
     "text": [
      "Warning message in split.default(x = seq_len(nrow(x)), f = f, drop = drop, ...):\n",
      "“data length is not a multiple of split variable”\n"
     ]
    },
    {
     "name": "stdout",
     "output_type": "stream",
     "text": [
      "[1] \"chr17\"\n"
     ]
    },
    {
     "name": "stderr",
     "output_type": "stream",
     "text": [
      "Warning message in split.default(x = seq_len(nrow(x)), f = f, drop = drop, ...):\n",
      "“data length is not a multiple of split variable”\n"
     ]
    },
    {
     "name": "stdout",
     "output_type": "stream",
     "text": [
      "[1] \"chr18\"\n",
      "[1] \"chr19\"\n"
     ]
    },
    {
     "name": "stderr",
     "output_type": "stream",
     "text": [
      "Warning message in split.default(x = seq_len(nrow(x)), f = f, drop = drop, ...):\n",
      "“data length is not a multiple of split variable”\n"
     ]
    },
    {
     "name": "stdout",
     "output_type": "stream",
     "text": [
      "[1] \"chr2\"\n"
     ]
    },
    {
     "name": "stderr",
     "output_type": "stream",
     "text": [
      "Warning message in split.default(x = seq_len(nrow(x)), f = f, drop = drop, ...):\n",
      "“data length is not a multiple of split variable”\n"
     ]
    },
    {
     "name": "stdout",
     "output_type": "stream",
     "text": [
      "[1] \"chr20\"\n"
     ]
    },
    {
     "name": "stderr",
     "output_type": "stream",
     "text": [
      "Warning message in split.default(x = seq_len(nrow(x)), f = f, drop = drop, ...):\n",
      "“data length is not a multiple of split variable”\n"
     ]
    },
    {
     "name": "stdout",
     "output_type": "stream",
     "text": [
      "[1] \"chr21\"\n"
     ]
    },
    {
     "name": "stderr",
     "output_type": "stream",
     "text": [
      "Warning message in split.default(x = seq_len(nrow(x)), f = f, drop = drop, ...):\n",
      "“data length is not a multiple of split variable”\n"
     ]
    },
    {
     "name": "stdout",
     "output_type": "stream",
     "text": [
      "[1] \"chr22\"\n"
     ]
    },
    {
     "name": "stderr",
     "output_type": "stream",
     "text": [
      "Warning message in split.default(x = seq_len(nrow(x)), f = f, drop = drop, ...):\n",
      "“data length is not a multiple of split variable”\n"
     ]
    },
    {
     "name": "stdout",
     "output_type": "stream",
     "text": [
      "[1] \"chr3\"\n"
     ]
    },
    {
     "name": "stderr",
     "output_type": "stream",
     "text": [
      "Warning message in split.default(x = seq_len(nrow(x)), f = f, drop = drop, ...):\n",
      "“data length is not a multiple of split variable”\n"
     ]
    },
    {
     "name": "stdout",
     "output_type": "stream",
     "text": [
      "[1] \"chr4\"\n"
     ]
    },
    {
     "name": "stderr",
     "output_type": "stream",
     "text": [
      "Warning message in split.default(x = seq_len(nrow(x)), f = f, drop = drop, ...):\n",
      "“data length is not a multiple of split variable”\n"
     ]
    },
    {
     "name": "stdout",
     "output_type": "stream",
     "text": [
      "[1] \"chr5\"\n"
     ]
    },
    {
     "name": "stderr",
     "output_type": "stream",
     "text": [
      "Warning message in split.default(x = seq_len(nrow(x)), f = f, drop = drop, ...):\n",
      "“data length is not a multiple of split variable”\n"
     ]
    },
    {
     "name": "stdout",
     "output_type": "stream",
     "text": [
      "[1] \"chr6\"\n"
     ]
    },
    {
     "name": "stderr",
     "output_type": "stream",
     "text": [
      "Warning message in split.default(x = seq_len(nrow(x)), f = f, drop = drop, ...):\n",
      "“data length is not a multiple of split variable”\n"
     ]
    },
    {
     "name": "stdout",
     "output_type": "stream",
     "text": [
      "[1] \"chr7\"\n"
     ]
    },
    {
     "name": "stderr",
     "output_type": "stream",
     "text": [
      "Warning message in split.default(x = seq_len(nrow(x)), f = f, drop = drop, ...):\n",
      "“data length is not a multiple of split variable”\n"
     ]
    },
    {
     "name": "stdout",
     "output_type": "stream",
     "text": [
      "[1] \"chr8\"\n"
     ]
    },
    {
     "name": "stderr",
     "output_type": "stream",
     "text": [
      "Warning message in split.default(x = seq_len(nrow(x)), f = f, drop = drop, ...):\n",
      "“data length is not a multiple of split variable”\n"
     ]
    },
    {
     "name": "stdout",
     "output_type": "stream",
     "text": [
      "[1] \"chr9\"\n"
     ]
    },
    {
     "name": "stderr",
     "output_type": "stream",
     "text": [
      "Warning message in split.default(x = seq_len(nrow(x)), f = f, drop = drop, ...):\n",
      "“data length is not a multiple of split variable”\n"
     ]
    },
    {
     "name": "stdout",
     "output_type": "stream",
     "text": [
      "[1] \"chrX\"\n"
     ]
    },
    {
     "name": "stderr",
     "output_type": "stream",
     "text": [
      "Warning message in split.default(x = seq_len(nrow(x)), f = f, drop = drop, ...):\n",
      "“data length is not a multiple of split variable”\n"
     ]
    }
   ],
   "source": [
    "for(chr.tmp in chr.run){\n",
    "  print(chr.tmp)\n",
    "  pairs.E2G.chr.res = pairs.E2G.filter2[seqnames(pairs.E2G.filter2) == chr.tmp]\n",
    "  gene_peak.chr = as.data.frame(mcols(pairs.E2G.chr.res)[,c(\"TargetGene\",\"PeakName\")])\n",
    "  list.gene_peak.chr <- split(gene_peak.chr, seq_len(n.cores))\n",
    "  \n",
    "  list.obj.SCENT.chr <- lapply(list.gene_peak.chr, function(gene_peak.tmp) {\n",
    "    obj.SCENT.tmp <- CreateSCENTObj(\n",
    "      rna = matrix.rna[rownames(matrix.rna) %in% gene_peak.tmp$TargetGene,],\n",
    "      atac = matrix.atac[rownames(matrix.atac) %in% gene_peak.tmp$PeakName,], \n",
    "      meta.data = meta.data,\n",
    "      peak.info = gene_peak.tmp,\n",
    "      covariates = c(\"log.nUMI\",\"percent.mito\"), \n",
    "      celltypes = \"celltype\"\n",
    "    )\n",
    "  })\n",
    "  \n",
    "  cl <- makeCluster(n.cores)\n",
    "  clusterExport(cl, varlist=c(\"SCENT_algorithm.modified\"))\n",
    "  list.SCENT.result.chr <- parLapply(cl, list.obj.SCENT.chr, function(obj.SCENT.tmp) {\n",
    "    obj.SCENT.tmp <- SCENT_algorithm.modified(object = obj.SCENT.tmp)\n",
    "    return(obj.SCENT.tmp@SCENT.result)\n",
    "  })\n",
    "  stopCluster(cl)\n",
    "  \n",
    "  \n",
    "  df.SCENT.result.chr = do.call(rbind,list.SCENT.result.chr)\n",
    "  rownames(df.SCENT.result.chr) = paste(df.SCENT.result.chr$peak,\n",
    "                                        df.SCENT.result.chr$gene,\n",
    "                                        sep = \"_\")\n",
    "\n",
    "  pairs.E2G.chr.res = pairs.E2G.chr.res[pairs.E2G.chr.res$PairName %in% rownames(df.SCENT.result.chr)]\n",
    "  mcols(pairs.E2G.chr.res)[,c(\"beta\",\"se\",\"z\",\"p\",\"boot_basic_p\")] = \n",
    "    df.SCENT.result.chr[pairs.E2G.chr.res$PairName,c(\"beta\",\"se\",\"z\",\"p\",\"boot_basic_p\")]\n",
    "  pairs.E2G.chr.res$boot_basic_p.log10 = -log10(pairs.E2G.chr.res$boot_basic_p)\n",
    "  pairs.E2G.chr.res$sign = 1\n",
    "  pairs.E2G.chr.res$sign[pairs.E2G.chr.res$beta < 0] = -1\n",
    "  pairs.E2G.chr.res$boot_basic_p.log10.signed = pairs.E2G.chr.res$boot_basic_p.log10 * pairs.E2G.chr.res$sign\n",
    "  saveRDS(pairs.E2G.chr.res,\n",
    "          paste(dir.output,\"chr\",chr.tmp,sep = \"/\"))\n",
    "  rm (pairs.E2G.chr.res)\n",
    "}"
   ]
  },
  {
   "cell_type": "markdown",
   "id": "da9d1451-54e0-49e0-ae8b-cd0158115820",
   "metadata": {},
   "source": [
    "Merge results"
   ]
  },
  {
   "cell_type": "code",
   "execution_count": null,
   "id": "6b4278f1-7d9d-402f-95c6-f274a6befea3",
   "metadata": {},
   "outputs": [],
   "source": [
    "chr.merge = as.character(unique(seqnames(pairs.E2G.filter2)))\n",
    "list.res = list()\n",
    "for(chr.tmp in chr.merge){\n",
    "    list.res[[chr.tmp]] = readRDS(paste(dir.output,\"chr\",chr.tmp,sep = \"/\"))\n",
    "}\n",
    "pairs.E2G.res = unlist(as(list.res, \"GRangesList\"))"
   ]
  },
  {
   "cell_type": "markdown",
   "id": "6ef1617e-3e2f-44f1-9245-007d569ca84d",
   "metadata": {},
   "source": [
    "Save results"
   ]
  },
  {
   "cell_type": "code",
   "execution_count": null,
   "id": "48824f05-aedd-476c-88d6-ae58d1833fc9",
   "metadata": {},
   "outputs": [],
   "source": [
    "saveRDS(pairs.E2G.res,\n",
    "        paste(dir.output,\"pairs.E2G.res.rds\",sep = \"/\"))\n",
    "pairs.E2G.res"
   ]
  },
  {
   "cell_type": "code",
   "execution_count": null,
   "id": "2297128a-9ed6-42b8-90c7-459969fb5afd",
   "metadata": {},
   "outputs": [],
   "source": [
    "df.output = as.data.frame(pairs.E2G.res,row.names = NULL)\n",
    "colnames(df.output)[1] = \"chr\"\n",
    "df.output[,\"CellType\"] = \"K562\"\n",
    "df.output = df.output[,c(\"chr\",\n",
    "                         \"start\",\n",
    "                         \"end\",\n",
    "                         \"TargetGene\",\n",
    "                         \"CellType\",\n",
    "                         \"beta\",\"se\",\"z\",\"p\",\"boot_basic_p\",\n",
    "                         \"boot_basic_p.log10\",\n",
    "                         \"sign\",\n",
    "                         \"boot_basic_p.log10.signed\")]\n",
    "data.table::fwrite(df.output,\n",
    "                   file = paste(dir.output,\"pairs.E2G.res.tsv.gz\",sep = \"/\"),\n",
    "                   row.names = F,\n",
    "                   quote = F,\n",
    "                   sep = \"\\t\")\n",
    "df.output"
   ]
  },
  {
   "cell_type": "code",
   "execution_count": 20,
   "id": "4d77c58e-215a-408d-8495-c68c72f559c3",
   "metadata": {},
   "outputs": [
    {
     "data": {
      "text/plain": [
       "R version 4.3.3 (2024-02-29)\n",
       "Platform: x86_64-conda-linux-gnu (64-bit)\n",
       "Running under: Red Hat Enterprise Linux 8.10 (Ootpa)\n",
       "\n",
       "Matrix products: default\n",
       "BLAS/LAPACK: /maps/projects/ralab/people/lpm537/software/anaconda3/envs/Notebook_E2G_240505/lib/libopenblasp-r0.3.27.so;  LAPACK version 3.12.0\n",
       "\n",
       "locale:\n",
       " [1] LC_CTYPE=en_US.UTF-8       LC_NUMERIC=C              \n",
       " [3] LC_TIME=en_US.UTF-8        LC_COLLATE=en_US.UTF-8    \n",
       " [5] LC_MONETARY=en_US.UTF-8    LC_MESSAGES=en_US.UTF-8   \n",
       " [7] LC_PAPER=en_US.UTF-8       LC_NAME=C                 \n",
       " [9] LC_ADDRESS=C               LC_TELEPHONE=C            \n",
       "[11] LC_MEASUREMENT=en_US.UTF-8 LC_IDENTIFICATION=C       \n",
       "\n",
       "time zone: Europe/Copenhagen\n",
       "tzcode source: system (glibc)\n",
       "\n",
       "attached base packages:\n",
       " [1] parallel  stats4    grid      stats     graphics  grDevices utils    \n",
       " [8] datasets  methods   base     \n",
       "\n",
       "other attached packages:\n",
       "[1] Matrix_1.6-5         GenomicRanges_1.54.1 GenomeInfoDb_1.38.1 \n",
       "[4] IRanges_2.36.0       S4Vectors_0.40.2     BiocGenerics_0.48.1 \n",
       "[7] genomation_1.34.0    Signac_1.13.0        SCENT_1.0.0         \n",
       "\n",
       "loaded via a namespace (and not attached):\n",
       "  [1] rstudioapi_0.16.0           jsonlite_1.8.8             \n",
       "  [3] magrittr_2.0.3              nloptr_2.0.3               \n",
       "  [5] rmarkdown_2.26              BiocIO_1.10.0              \n",
       "  [7] zlibbioc_1.48.0             vctrs_0.6.5                \n",
       "  [9] minqa_1.2.6                 Rsamtools_2.18.0           \n",
       " [11] RCurl_1.98-1.14             base64enc_0.1-3            \n",
       " [13] RcppRoll_0.3.0              htmltools_0.5.8.1          \n",
       " [15] S4Arrays_1.2.1              plotrix_3.8-4              \n",
       " [17] Formula_1.2-5               parallelly_1.37.1          \n",
       " [19] KernSmooth_2.23-22          htmlwidgets_1.6.4          \n",
       " [21] plyr_1.8.9                  impute_1.76.0              \n",
       " [23] uuid_1.2-0                  GenomicAlignments_1.36.0   \n",
       " [25] lifecycle_1.0.4             pkgconfig_2.0.3            \n",
       " [27] R6_2.5.1                    fastmap_1.1.1              \n",
       " [29] GenomeInfoDbData_1.2.11     MatrixGenerics_1.12.3      \n",
       " [31] future_1.33.2               digest_0.6.35              \n",
       " [33] colorspace_2.1-0            patchwork_1.2.0            \n",
       " [35] irlba_2.3.5.1               Hmisc_5.1-2                \n",
       " [37] progressr_0.14.0            fansi_1.0.6                \n",
       " [39] abind_1.4-5                 compiler_4.3.3             \n",
       " [41] bit64_4.0.5                 htmlTable_2.4.2            \n",
       " [43] backports_1.4.1             BiocParallel_1.36.0        \n",
       " [45] R.utils_2.12.3              MASS_7.3-60                \n",
       " [47] DelayedArray_0.26.7         rjson_0.2.21               \n",
       " [49] tools_4.3.3                 foreign_0.8-86             \n",
       " [51] future.apply_1.11.2         nnet_7.3-19                \n",
       " [53] R.oo_1.26.0                 glue_1.7.0                 \n",
       " [55] restfulr_0.0.15             nlme_3.1-164               \n",
       " [57] pbdZMQ_0.3-11               checkmate_2.3.1            \n",
       " [59] gridBase_0.4-7              cluster_2.1.6              \n",
       " [61] reshape2_1.4.4              generics_0.1.3             \n",
       " [63] gtable_0.3.5                BSgenome_1.68.0            \n",
       " [65] tzdb_0.4.0                  R.methodsS3_1.8.2          \n",
       " [67] tidyr_1.3.1                 seqPattern_1.34.0          \n",
       " [69] data.table_1.15.2           hms_1.1.3                  \n",
       " [71] sp_2.1-4                    utf8_1.2.4                 \n",
       " [73] XVector_0.42.0              pillar_1.9.0               \n",
       " [75] stringr_1.5.1               vroom_1.6.5                \n",
       " [77] spam_2.10-0                 IRdisplay_1.1              \n",
       " [79] splines_4.3.3               dplyr_1.1.4                \n",
       " [81] lattice_0.22-6              bit_4.0.5                  \n",
       " [83] rtracklayer_1.60.1          tidyselect_1.2.1           \n",
       " [85] Biostrings_2.70.1           pbapply_1.7-2              \n",
       " [87] knitr_1.46                  gridExtra_2.3              \n",
       " [89] SummarizedExperiment_1.30.2 xfun_0.43                  \n",
       " [91] Biobase_2.60.0              matrixStats_1.3.0          \n",
       " [93] stringi_1.8.3               yaml_2.3.8                 \n",
       " [95] boot_1.3-30                 evaluate_0.23              \n",
       " [97] codetools_0.2-20            tibble_3.2.1               \n",
       " [99] cli_3.6.2                   IRkernel_1.3.2             \n",
       "[101] rpart_4.1.23                repr_1.1.7                 \n",
       "[103] munsell_0.5.1               Rcpp_1.0.12                \n",
       "[105] globals_0.16.3              XML_3.99-0.16.1            \n",
       "[107] ggplot2_3.5.1               readr_2.1.5                \n",
       "[109] dotCall64_1.1-1             bitops_1.0-7               \n",
       "[111] lme4_1.1-35.3               listenv_0.9.1              \n",
       "[113] scales_1.3.0                SeuratObject_5.0.1         \n",
       "[115] purrr_1.0.2                 crayon_1.5.2               \n",
       "[117] rlang_1.1.3                 fastmatch_1.1-4            "
      ]
     },
     "metadata": {},
     "output_type": "display_data"
    }
   ],
   "source": [
    "sessionInfo()"
   ]
  },
  {
   "cell_type": "code",
   "execution_count": null,
   "id": "3c1a0283-11d6-4df1-bbd8-7b47e9e8ead8",
   "metadata": {},
   "outputs": [],
   "source": []
  }
 ],
 "metadata": {
  "kernelspec": {
   "display_name": "R",
   "language": "R",
   "name": "ir"
  },
  "language_info": {
   "codemirror_mode": "r",
   "file_extension": ".r",
   "mimetype": "text/x-r-source",
   "name": "R",
   "pygments_lexer": "r",
   "version": "4.3.3"
  }
 },
 "nbformat": 4,
 "nbformat_minor": 5
}
