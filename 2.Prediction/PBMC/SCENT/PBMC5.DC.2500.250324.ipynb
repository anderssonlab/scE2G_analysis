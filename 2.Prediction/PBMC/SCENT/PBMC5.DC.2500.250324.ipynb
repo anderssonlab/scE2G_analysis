{
 "cells": [
  {
   "cell_type": "code",
   "execution_count": 1,
   "id": "3a1e63f9-7479-4a30-83ea-381f1ecdbe50",
   "metadata": {},
   "outputs": [
    {
     "name": "stderr",
     "output_type": "stream",
     "text": [
      "Warning message:\n",
      "“replacing previous import ‘Hmisc::capitalize’ by ‘R.utils::capitalize’ when loading ‘SCENT’”\n",
      "Loading required package: grid\n",
      "\n",
      "Warning message:\n",
      "“replacing previous import ‘Biostrings::pattern’ by ‘grid::pattern’ when loading ‘genomation’”\n",
      "Loading required package: stats4\n",
      "\n",
      "Loading required package: BiocGenerics\n",
      "\n",
      "\n",
      "Attaching package: ‘BiocGenerics’\n",
      "\n",
      "\n",
      "The following objects are masked from ‘package:stats’:\n",
      "\n",
      "    IQR, mad, sd, var, xtabs\n",
      "\n",
      "\n",
      "The following objects are masked from ‘package:base’:\n",
      "\n",
      "    anyDuplicated, aperm, append, as.data.frame, basename, cbind,\n",
      "    colnames, dirname, do.call, duplicated, eval, evalq, Filter, Find,\n",
      "    get, grep, grepl, intersect, is.unsorted, lapply, Map, mapply,\n",
      "    match, mget, order, paste, pmax, pmax.int, pmin, pmin.int,\n",
      "    Position, rank, rbind, Reduce, rownames, sapply, setdiff, sort,\n",
      "    table, tapply, union, unique, unsplit, which.max, which.min\n",
      "\n",
      "\n",
      "Loading required package: S4Vectors\n",
      "\n",
      "\n",
      "Attaching package: ‘S4Vectors’\n",
      "\n",
      "\n",
      "The following object is masked from ‘package:utils’:\n",
      "\n",
      "    findMatches\n",
      "\n",
      "\n",
      "The following objects are masked from ‘package:base’:\n",
      "\n",
      "    expand.grid, I, unname\n",
      "\n",
      "\n",
      "Loading required package: IRanges\n",
      "\n",
      "Loading required package: GenomeInfoDb\n",
      "\n",
      "\n",
      "Attaching package: ‘Matrix’\n",
      "\n",
      "\n",
      "The following object is masked from ‘package:S4Vectors’:\n",
      "\n",
      "    expand\n",
      "\n",
      "\n",
      "\n",
      "Attaching package: ‘data.table’\n",
      "\n",
      "\n",
      "The following object is masked from ‘package:GenomicRanges’:\n",
      "\n",
      "    shift\n",
      "\n",
      "\n",
      "The following object is masked from ‘package:IRanges’:\n",
      "\n",
      "    shift\n",
      "\n",
      "\n",
      "The following objects are masked from ‘package:S4Vectors’:\n",
      "\n",
      "    first, second\n",
      "\n",
      "\n",
      "\n",
      "Attaching package: ‘dplyr’\n",
      "\n",
      "\n",
      "The following objects are masked from ‘package:data.table’:\n",
      "\n",
      "    between, first, last\n",
      "\n",
      "\n",
      "The following objects are masked from ‘package:GenomicRanges’:\n",
      "\n",
      "    intersect, setdiff, union\n",
      "\n",
      "\n",
      "The following object is masked from ‘package:GenomeInfoDb’:\n",
      "\n",
      "    intersect\n",
      "\n",
      "\n",
      "The following objects are masked from ‘package:IRanges’:\n",
      "\n",
      "    collapse, desc, intersect, setdiff, slice, union\n",
      "\n",
      "\n",
      "The following objects are masked from ‘package:S4Vectors’:\n",
      "\n",
      "    first, intersect, rename, setdiff, setequal, union\n",
      "\n",
      "\n",
      "The following objects are masked from ‘package:BiocGenerics’:\n",
      "\n",
      "    combine, intersect, setdiff, union\n",
      "\n",
      "\n",
      "The following objects are masked from ‘package:stats’:\n",
      "\n",
      "    filter, lag\n",
      "\n",
      "\n",
      "The following objects are masked from ‘package:base’:\n",
      "\n",
      "    intersect, setdiff, setequal, union\n",
      "\n",
      "\n"
     ]
    }
   ],
   "source": [
    "library(SCENT)\n",
    "library(Signac)\n",
    "library(genomation)\n",
    "library(GenomicRanges)\n",
    "library(Matrix)\n",
    "library(parallel)\n",
    "library(data.table)\n",
    "library(dplyr)"
   ]
  },
  {
   "cell_type": "markdown",
   "id": "d53f3774-52c3-4baa-b707-5b3a0450b130",
   "metadata": {},
   "source": [
    "Specify file path"
   ]
  },
  {
   "cell_type": "code",
   "execution_count": 2,
   "id": "0785f3fc-9913-428a-bea7-5710120c9328",
   "metadata": {},
   "outputs": [],
   "source": [
    "gene_gtf_path = \"/maps/projects/ralab/data/genome/hg38/gencode.v43.chr_patch_hapl_scaff.annotation.gtf\"\n",
    "abc_genes_path = \"/maps/projects/ralab_nnfc-AUDIT/people/lpm537/software/scE2G_pipeline/241203/scE2G/ENCODE_rE2G/ABC/reference/hg38/CollapsedGeneBounds.hg38.TSS500bp.bed\"\n",
    "path.pairs.E2G = \"/maps/projects/ralab_nnfc-AUDIT/people/lpm537/project/E2G/analysis/E2G_240503/data/PBMC/2.Genome_wide_prediction/SCENT/PBMC5.DC.500.250317/pairs.E2G.res.rds\"\n",
    "path.matrix.atac_count = \"/maps/projects/ralab_nnfc-AUDIT/people/lpm537/software/scE2G_pipeline/240617/sc-E2G/test/results/PBMC/DC.multiome_7features/Kendall/atac_matrix.rds\"\n",
    "path.matrix.rna_count = \"/maps/projects/ralab_nnfc-AUDIT/people/lpm537/project/E2G/analysis/E2G_240503/data/PBMC/1.prepare_data/1.seurat_pipeline.240620/RNA_count_matrix/DC.rna_count_matrix.csv.gz\"\n",
    "dir.output = \"/maps/projects/ralab_nnfc-AUDIT/people/lpm537/project/E2G/analysis/E2G_240503/data/PBMC/2.Genome_wide_prediction/SCENT/PBMC5.DC.2500.250324/\"\n",
    "celltype = \"DC\""
   ]
  },
  {
   "cell_type": "code",
   "execution_count": 3,
   "id": "500ba317-011f-4cab-834c-de750cb7f503",
   "metadata": {},
   "outputs": [],
   "source": [
    "n.cores = 8"
   ]
  },
  {
   "cell_type": "markdown",
   "id": "9c9cdab1-486b-4539-99d3-3cd5d1d99795",
   "metadata": {},
   "source": [
    "Import candidate E-G pairs"
   ]
  },
  {
   "cell_type": "code",
   "execution_count": 4,
   "id": "f5852d15-7e3f-412b-b137-7d29a6fb47b1",
   "metadata": {},
   "outputs": [],
   "source": [
    "pairs.E2G = readRDS(path.pairs.E2G)"
   ]
  },
  {
   "cell_type": "markdown",
   "id": "bcdfac67-ce32-4d9a-8f4d-65dab644ec63",
   "metadata": {},
   "source": [
    "Import ATAC matrix"
   ]
  },
  {
   "cell_type": "code",
   "execution_count": 5,
   "id": "bd59feb4-3e33-4ebe-a107-f3b6d347a68e",
   "metadata": {},
   "outputs": [],
   "source": [
    "matrix.atac = readRDS(path.matrix.atac_count)\n",
    "matrix.atac = BinarizeCounts(matrix.atac)"
   ]
  },
  {
   "cell_type": "markdown",
   "id": "a0c5cb96-2fc4-42c4-a421-fe9a5ca537da",
   "metadata": {},
   "source": [
    "Import RNA matrix"
   ]
  },
  {
   "cell_type": "code",
   "execution_count": 6,
   "id": "96e10e90-9400-4cfe-bc7b-46a7eaee1fcd",
   "metadata": {},
   "outputs": [],
   "source": [
    "matrix.rna = read.csv(path.matrix.rna_count,\n",
    "                      row.names = 1,\n",
    "                      check.names = F)\n",
    "matrix.rna = Matrix(as.matrix(matrix.rna), sparse = TRUE)\n",
    "matrix.rna = matrix.rna[,colnames(matrix.atac)]\n",
    "matrix.rna = matrix.rna[rowSums(matrix.rna) > 0,]"
   ]
  },
  {
   "cell_type": "markdown",
   "id": "62718ef8-a3bd-4755-a95f-be216f16517b",
   "metadata": {},
   "source": [
    "Map gene names"
   ]
  },
  {
   "cell_type": "code",
   "execution_count": 7,
   "id": "0f255a65-03a4-4255-967e-0c644bfe66cd",
   "metadata": {},
   "outputs": [],
   "source": [
    "extract_attributes <- function(gtf_attributes, att_of_interest){\n",
    "  att <- unlist(strsplit(gtf_attributes, \" \"))\n",
    "  if(att_of_interest %in% att){\n",
    "    return(gsub(\"\\\"|;\",\"\", att[which(att %in% att_of_interest)+1]))\n",
    "  } else {\n",
    "    return(NA)}\n",
    "}\n",
    "map_gene_names <- function(rna_matrix, gene_gtf_path, abc_genes_path){\n",
    "\tgene_ref <- fread(gene_gtf_path, header = FALSE, sep = \"\\t\") %>%\n",
    "\t\tsetNames(c(\"chr\",\"source\",\"type\",\"start\",\"end\",\"score\",\"strand\",\"phase\",\"attributes\")) %>%\n",
    "\t\tdplyr::filter(type == \"gene\")\n",
    "\tgene_ref$gene_ref_name <- unlist(lapply(gene_ref$attributes, extract_attributes, \"gene_name\"))\n",
    "\tgene_ref$Ensembl_ID <- unlist(lapply(gene_ref$attributes, extract_attributes, \"gene_id\"))\n",
    "\tgene_ref <- dplyr::select(gene_ref, gene_ref_name, Ensembl_ID) %>%\n",
    "\t\tmutate(Ensembl_ID = sub(\"\\\\.\\\\d+$\", \"\", Ensembl_ID)) %>% # remove decimal digits \n",
    "\t\tdistinct()\n",
    "\t\n",
    "\tabc_genes <- fread(abc_genes_path, col.names = c(\"chr\", \"start\", \"end\", \"name\", \"score\", \"strand\", \"Ensembl_ID\", \"gene_type\")) %>%\n",
    "\t\tdplyr::select(name, Ensembl_ID) %>%\n",
    "\t\trename(abc_name = name) %>%\n",
    "\t\tleft_join(gene_ref, by = \"Ensembl_ID\") %>%\n",
    "\t\tgroup_by(Ensembl_ID) %>% # remove cases where multiple genes map to one ensembl ID\n",
    "\t\tfilter(n() == 1) %>%\n",
    "\t\tungroup()\n",
    "\n",
    "\tgene_key <- abc_genes$abc_name\n",
    "\tnames(gene_key) <- abc_genes$gene_ref_name\n",
    "\n",
    "\t# remove genes not in our gene universe\t\n",
    "\trow_sub <- intersect(rownames(rna_matrix), names(gene_key)) # gene ref names\n",
    "\trna_matrix_filt <- rna_matrix[row_sub,] # still gene ref names\n",
    "\trownames(rna_matrix_filt) <- gene_key[row_sub] # converted to abc names\n",
    "\n",
    "\treturn(rna_matrix_filt)\n",
    "}"
   ]
  },
  {
   "cell_type": "code",
   "execution_count": 8,
   "id": "ca760678-9db9-418e-b7ac-29984eddad7e",
   "metadata": {},
   "outputs": [],
   "source": [
    "matrix.rna.rename = map_gene_names(matrix.rna,gene_gtf_path, abc_genes_path)"
   ]
  },
  {
   "cell_type": "markdown",
   "id": "b16f7d5b-eabd-4e93-b8cd-f19a54df21f2",
   "metadata": {},
   "source": [
    "Prepare SCENT meta data"
   ]
  },
  {
   "cell_type": "code",
   "execution_count": 9,
   "id": "827059dd-6885-441e-973e-d7c49e5fd534",
   "metadata": {},
   "outputs": [
    {
     "data": {
      "text/html": [
       "<table class=\"dataframe\">\n",
       "<caption>A data.frame: 302 × 6</caption>\n",
       "<thead>\n",
       "\t<tr><th></th><th scope=col>cell</th><th scope=col>nUMI</th><th scope=col>nMito</th><th scope=col>celltype</th><th scope=col>log.nUMI</th><th scope=col>percent.mito</th></tr>\n",
       "\t<tr><th></th><th scope=col>&lt;chr&gt;</th><th scope=col>&lt;dbl&gt;</th><th scope=col>&lt;dbl&gt;</th><th scope=col>&lt;chr&gt;</th><th scope=col>&lt;dbl&gt;</th><th scope=col>&lt;dbl&gt;</th></tr>\n",
       "</thead>\n",
       "<tbody>\n",
       "\t<tr><th scope=row>Multiome10x_05_AAATGCCTCCAATTAG-1</th><td>Multiome10x_05_AAATGCCTCCAATTAG-1</td><td> 4022</td><td> 739</td><td>DC</td><td>8.299535</td><td>0.18373943</td></tr>\n",
       "\t<tr><th scope=row>Multiome10x_05_AACTACTCACTATGGC-1</th><td>Multiome10x_05_AACTACTCACTATGGC-1</td><td> 9856</td><td>1270</td><td>DC</td><td>9.195836</td><td>0.12885552</td></tr>\n",
       "\t<tr><th scope=row>Multiome10x_05_AACTGTTCAGGCTTGT-1</th><td>Multiome10x_05_AACTGTTCAGGCTTGT-1</td><td> 4715</td><td> 656</td><td>DC</td><td>8.458504</td><td>0.13913043</td></tr>\n",
       "\t<tr><th scope=row>Multiome10x_05_AAGCGTTTCCTGGTGA-1</th><td>Multiome10x_05_AAGCGTTTCCTGGTGA-1</td><td> 7466</td><td> 929</td><td>DC</td><td>8.918115</td><td>0.12443075</td></tr>\n",
       "\t<tr><th scope=row>Multiome10x_05_AAGCTAGAGGTAAGCA-1</th><td>Multiome10x_05_AAGCTAGAGGTAAGCA-1</td><td> 6014</td><td> 532</td><td>DC</td><td>8.701845</td><td>0.08846026</td></tr>\n",
       "\t<tr><th scope=row>Multiome10x_05_AATAACCGTCACCAAA-1</th><td>Multiome10x_05_AATAACCGTCACCAAA-1</td><td> 5772</td><td> 823</td><td>DC</td><td>8.660774</td><td>0.14258489</td></tr>\n",
       "\t<tr><th scope=row>Multiome10x_05_AATAACCGTTGGCCGA-1</th><td>Multiome10x_05_AATAACCGTTGGCCGA-1</td><td> 6314</td><td> 799</td><td>DC</td><td>8.750525</td><td>0.12654419</td></tr>\n",
       "\t<tr><th scope=row>Multiome10x_05_AATATCCCAACCTGGT-1</th><td>Multiome10x_05_AATATCCCAACCTGGT-1</td><td>11613</td><td>1633</td><td>DC</td><td>9.359880</td><td>0.14061827</td></tr>\n",
       "\t<tr><th scope=row>Multiome10x_05_AATCCGTAGCTACTGG-1</th><td>Multiome10x_05_AATCCGTAGCTACTGG-1</td><td> 7714</td><td>1092</td><td>DC</td><td>8.950792</td><td>0.14156080</td></tr>\n",
       "\t<tr><th scope=row>Multiome10x_05_AATTACCCATAGCGGA-1</th><td>Multiome10x_05_AATTACCCATAGCGGA-1</td><td> 6445</td><td> 823</td><td>DC</td><td>8.771060</td><td>0.12769589</td></tr>\n",
       "\t<tr><th scope=row>Multiome10x_05_AATTAGGCATTGCGTA-1</th><td>Multiome10x_05_AATTAGGCATTGCGTA-1</td><td> 2604</td><td> 438</td><td>DC</td><td>7.864804</td><td>0.16820276</td></tr>\n",
       "\t<tr><th scope=row>Multiome10x_05_AATTGCCAGCGGATAA-1</th><td>Multiome10x_05_AATTGCCAGCGGATAA-1</td><td> 6824</td><td> 992</td><td>DC</td><td>8.828201</td><td>0.14536928</td></tr>\n",
       "\t<tr><th scope=row>Multiome10x_05_ACATTAGTCTACTAAG-1</th><td>Multiome10x_05_ACATTAGTCTACTAAG-1</td><td> 4018</td><td> 848</td><td>DC</td><td>8.298540</td><td>0.21105027</td></tr>\n",
       "\t<tr><th scope=row>Multiome10x_05_ACCACACCAGGCATCT-1</th><td>Multiome10x_05_ACCACACCAGGCATCT-1</td><td> 7391</td><td> 896</td><td>DC</td><td>8.908018</td><td>0.12122852</td></tr>\n",
       "\t<tr><th scope=row>Multiome10x_05_ACCTAAATCAAGTGAG-1</th><td>Multiome10x_05_ACCTAAATCAAGTGAG-1</td><td> 5579</td><td> 583</td><td>DC</td><td>8.626765</td><td>0.10449901</td></tr>\n",
       "\t<tr><th scope=row>Multiome10x_05_ACGAGTAAGGGTCTAT-1</th><td>Multiome10x_05_ACGAGTAAGGGTCTAT-1</td><td> 6259</td><td> 772</td><td>DC</td><td>8.741776</td><td>0.12334239</td></tr>\n",
       "\t<tr><th scope=row>Multiome10x_05_ACGCTTGAGTTGGATC-1</th><td>Multiome10x_05_ACGCTTGAGTTGGATC-1</td><td> 5743</td><td> 743</td><td>DC</td><td>8.655737</td><td>0.12937489</td></tr>\n",
       "\t<tr><th scope=row>Multiome10x_05_ACGTACCCAGCATTAT-1</th><td>Multiome10x_05_ACGTACCCAGCATTAT-1</td><td> 8238</td><td>1029</td><td>DC</td><td>9.016513</td><td>0.12490896</td></tr>\n",
       "\t<tr><th scope=row>Multiome10x_05_ACGTCCAAGCATGTTA-1</th><td>Multiome10x_05_ACGTCCAAGCATGTTA-1</td><td> 9100</td><td>1177</td><td>DC</td><td>9.116030</td><td>0.12934066</td></tr>\n",
       "\t<tr><th scope=row>Multiome10x_05_ACTAAAGCATAAGTTC-1</th><td>Multiome10x_05_ACTAAAGCATAAGTTC-1</td><td> 9281</td><td>1391</td><td>DC</td><td>9.135725</td><td>0.14987609</td></tr>\n",
       "\t<tr><th scope=row>Multiome10x_05_ACTTAGGGTAACCACA-1</th><td>Multiome10x_05_ACTTAGGGTAACCACA-1</td><td> 6274</td><td> 649</td><td>DC</td><td>8.744169</td><td>0.10344278</td></tr>\n",
       "\t<tr><th scope=row>Multiome10x_05_AGAAAGGCAGTTAGCC-1</th><td>Multiome10x_05_AGAAAGGCAGTTAGCC-1</td><td> 6434</td><td> 624</td><td>DC</td><td>8.769352</td><td>0.09698477</td></tr>\n",
       "\t<tr><th scope=row>Multiome10x_05_AGACAATAGTTACCGG-1</th><td>Multiome10x_05_AGACAATAGTTACCGG-1</td><td> 7969</td><td> 767</td><td>DC</td><td>8.983314</td><td>0.09624796</td></tr>\n",
       "\t<tr><th scope=row>Multiome10x_05_AGCCTAGTCGTTAGCG-1</th><td>Multiome10x_05_AGCCTAGTCGTTAGCG-1</td><td> 5326</td><td> 766</td><td>DC</td><td>8.580356</td><td>0.14382276</td></tr>\n",
       "\t<tr><th scope=row>Multiome10x_05_AGCCTGGGTACGGTAC-1</th><td>Multiome10x_05_AGCCTGGGTACGGTAC-1</td><td> 7612</td><td> 836</td><td>DC</td><td>8.937481</td><td>0.10982659</td></tr>\n",
       "\t<tr><th scope=row>Multiome10x_05_AGCGGATAGTAAGGGC-1</th><td>Multiome10x_05_AGCGGATAGTAAGGGC-1</td><td> 3129</td><td> 618</td><td>DC</td><td>8.048469</td><td>0.19750719</td></tr>\n",
       "\t<tr><th scope=row>Multiome10x_05_AGCTACTAGTTATGTG-1</th><td>Multiome10x_05_AGCTACTAGTTATGTG-1</td><td> 7157</td><td> 891</td><td>DC</td><td>8.875846</td><td>0.12449350</td></tr>\n",
       "\t<tr><th scope=row>Multiome10x_05_AGGAAACGTCACAAAT-1</th><td>Multiome10x_05_AGGAAACGTCACAAAT-1</td><td> 6386</td><td> 834</td><td>DC</td><td>8.761863</td><td>0.13059818</td></tr>\n",
       "\t<tr><th scope=row>Multiome10x_05_AGGACTAAGTGAACGA-1</th><td>Multiome10x_05_AGGACTAAGTGAACGA-1</td><td> 3041</td><td> 337</td><td>DC</td><td>8.019942</td><td>0.11081881</td></tr>\n",
       "\t<tr><th scope=row>Multiome10x_05_AGTCCTGAGACTTATG-1</th><td>Multiome10x_05_AGTCCTGAGACTTATG-1</td><td>17082</td><td>1658</td><td>DC</td><td>9.745781</td><td>0.09706123</td></tr>\n",
       "\t<tr><th scope=row>⋮</th><td>⋮</td><td>⋮</td><td>⋮</td><td>⋮</td><td>⋮</td><td>⋮</td></tr>\n",
       "\t<tr><th scope=row>Multiome10x_06_TACAAGCTCCAGGAAA-1</th><td>Multiome10x_06_TACAAGCTCCAGGAAA-1</td><td> 7162</td><td> 850</td><td>DC</td><td>8.876545</td><td>0.11868193</td></tr>\n",
       "\t<tr><th scope=row>Multiome10x_06_TACATCAAGGGCCATC-1</th><td>Multiome10x_06_TACATCAAGGGCCATC-1</td><td> 6158</td><td> 536</td><td>DC</td><td>8.725507</td><td>0.08704125</td></tr>\n",
       "\t<tr><th scope=row>Multiome10x_06_TACTAAGTCATGAAGG-1</th><td>Multiome10x_06_TACTAAGTCATGAAGG-1</td><td> 6193</td><td> 905</td><td>DC</td><td>8.731175</td><td>0.14613273</td></tr>\n",
       "\t<tr><th scope=row>Multiome10x_06_TACTAAGTCGAGGAGT-1</th><td>Multiome10x_06_TACTAAGTCGAGGAGT-1</td><td> 3727</td><td> 782</td><td>DC</td><td>8.223359</td><td>0.20982023</td></tr>\n",
       "\t<tr><th scope=row>Multiome10x_06_TACTCAAAGACTTATG-1</th><td>Multiome10x_06_TACTCAAAGACTTATG-1</td><td> 5050</td><td> 700</td><td>DC</td><td>8.527144</td><td>0.13861386</td></tr>\n",
       "\t<tr><th scope=row>Multiome10x_06_TAGCTTGCACTTAGGC-1</th><td>Multiome10x_06_TAGCTTGCACTTAGGC-1</td><td> 7275</td><td> 958</td><td>DC</td><td>8.892199</td><td>0.13168385</td></tr>\n",
       "\t<tr><th scope=row>Multiome10x_06_TAGTACGGTGCAATGC-1</th><td>Multiome10x_06_TAGTACGGTGCAATGC-1</td><td> 7052</td><td> 881</td><td>DC</td><td>8.861067</td><td>0.12492910</td></tr>\n",
       "\t<tr><th scope=row>Multiome10x_06_TATCGCACAAGCTACC-1</th><td>Multiome10x_06_TATCGCACAAGCTACC-1</td><td> 8262</td><td>1334</td><td>DC</td><td>9.019422</td><td>0.16146212</td></tr>\n",
       "\t<tr><th scope=row>Multiome10x_06_TCAAGAACACTATGGC-1</th><td>Multiome10x_06_TCAAGAACACTATGGC-1</td><td>10730</td><td>1295</td><td>DC</td><td>9.280799</td><td>0.12068966</td></tr>\n",
       "\t<tr><th scope=row>Multiome10x_06_TCAAGAACAGTAAGTA-1</th><td>Multiome10x_06_TCAAGAACAGTAAGTA-1</td><td> 6724</td><td> 918</td><td>DC</td><td>8.813438</td><td>0.13652588</td></tr>\n",
       "\t<tr><th scope=row>Multiome10x_06_TCACCGGCAATCCTGA-1</th><td>Multiome10x_06_TCACCGGCAATCCTGA-1</td><td> 4329</td><td> 381</td><td>DC</td><td>8.373092</td><td>0.08801109</td></tr>\n",
       "\t<tr><th scope=row>Multiome10x_06_TCAGTAGGTATTGTGG-1</th><td>Multiome10x_06_TCAGTAGGTATTGTGG-1</td><td> 8104</td><td> 928</td><td>DC</td><td>9.000113</td><td>0.11451135</td></tr>\n",
       "\t<tr><th scope=row>Multiome10x_06_TCGCCCATCTCACATT-1</th><td>Multiome10x_06_TCGCCCATCTCACATT-1</td><td> 6875</td><td> 934</td><td>DC</td><td>8.835647</td><td>0.13585455</td></tr>\n",
       "\t<tr><th scope=row>Multiome10x_06_TCTAGCACAATTGAAG-1</th><td>Multiome10x_06_TCTAGCACAATTGAAG-1</td><td>13179</td><td>1633</td><td>DC</td><td>9.486380</td><td>0.12390925</td></tr>\n",
       "\t<tr><th scope=row>Multiome10x_06_TGAAGGATCACTTCAT-1</th><td>Multiome10x_06_TGAAGGATCACTTCAT-1</td><td>10284</td><td>1940</td><td>DC</td><td>9.238345</td><td>0.18864255</td></tr>\n",
       "\t<tr><th scope=row>Multiome10x_06_TGATTCAAGTCACTCC-1</th><td>Multiome10x_06_TGATTCAAGTCACTCC-1</td><td> 6641</td><td> 856</td><td>DC</td><td>8.801018</td><td>0.12889625</td></tr>\n",
       "\t<tr><th scope=row>Multiome10x_06_TGCATCCTCTTGGATA-1</th><td>Multiome10x_06_TGCATCCTCTTGGATA-1</td><td> 6217</td><td> 712</td><td>DC</td><td>8.735043</td><td>0.11452469</td></tr>\n",
       "\t<tr><th scope=row>Multiome10x_06_TGCTCTCAGGCATGTT-1</th><td>Multiome10x_06_TGCTCTCAGGCATGTT-1</td><td> 6527</td><td> 811</td><td>DC</td><td>8.783703</td><td>0.12425310</td></tr>\n",
       "\t<tr><th scope=row>Multiome10x_06_TGCTTAAAGGTGCGGA-1</th><td>Multiome10x_06_TGCTTAAAGGTGCGGA-1</td><td> 6855</td><td> 826</td><td>DC</td><td>8.832734</td><td>0.12049599</td></tr>\n",
       "\t<tr><th scope=row>Multiome10x_06_TGCTTGTGTCGTTACT-1</th><td>Multiome10x_06_TGCTTGTGTCGTTACT-1</td><td> 4461</td><td> 354</td><td>DC</td><td>8.403128</td><td>0.07935440</td></tr>\n",
       "\t<tr><th scope=row>Multiome10x_06_TGGATTCAGACTTACA-1</th><td>Multiome10x_06_TGGATTCAGACTTACA-1</td><td> 6306</td><td>1156</td><td>DC</td><td>8.749257</td><td>0.18331748</td></tr>\n",
       "\t<tr><th scope=row>Multiome10x_06_TGGATTCAGTTATGGC-1</th><td>Multiome10x_06_TGGATTCAGTTATGGC-1</td><td> 6283</td><td>1178</td><td>DC</td><td>8.745603</td><td>0.18749005</td></tr>\n",
       "\t<tr><th scope=row>Multiome10x_06_TGGTCCTTCTGGTCCT-1</th><td>Multiome10x_06_TGGTCCTTCTGGTCCT-1</td><td> 7428</td><td>1005</td><td>DC</td><td>8.913012</td><td>0.13529887</td></tr>\n",
       "\t<tr><th scope=row>Multiome10x_06_TGGTTGAGTTGTCCAT-1</th><td>Multiome10x_06_TGGTTGAGTTGTCCAT-1</td><td> 6233</td><td> 723</td><td>DC</td><td>8.737613</td><td>0.11599551</td></tr>\n",
       "\t<tr><th scope=row>Multiome10x_06_TTACCTGTCATAGACC-1</th><td>Multiome10x_06_TTACCTGTCATAGACC-1</td><td> 4864</td><td> 553</td><td>DC</td><td>8.489616</td><td>0.11369243</td></tr>\n",
       "\t<tr><th scope=row>Multiome10x_06_TTCAACCGTTTGGCGG-1</th><td>Multiome10x_06_TTCAACCGTTTGGCGG-1</td><td> 6733</td><td> 756</td><td>DC</td><td>8.814776</td><td>0.11228279</td></tr>\n",
       "\t<tr><th scope=row>Multiome10x_06_TTGCCCGTCTCCATAT-1</th><td>Multiome10x_06_TTGCCCGTCTCCATAT-1</td><td> 6294</td><td> 727</td><td>DC</td><td>8.747352</td><td>0.11550683</td></tr>\n",
       "\t<tr><th scope=row>Multiome10x_06_TTGTGCCTCGGTAACT-1</th><td>Multiome10x_06_TTGTGCCTCGGTAACT-1</td><td> 7416</td><td> 941</td><td>DC</td><td>8.911395</td><td>0.12688781</td></tr>\n",
       "\t<tr><th scope=row>Multiome10x_06_TTTAGCAAGGGTGGAT-1</th><td>Multiome10x_06_TTTAGCAAGGGTGGAT-1</td><td>16830</td><td>2192</td><td>DC</td><td>9.730918</td><td>0.13024361</td></tr>\n",
       "\t<tr><th scope=row>Multiome10x_06_TTTCTCACAATCTCTC-1</th><td>Multiome10x_06_TTTCTCACAATCTCTC-1</td><td> 3044</td><td>  34</td><td>DC</td><td>8.020928</td><td>0.01116951</td></tr>\n",
       "</tbody>\n",
       "</table>\n"
      ],
      "text/latex": [
       "A data.frame: 302 × 6\n",
       "\\begin{tabular}{r|llllll}\n",
       "  & cell & nUMI & nMito & celltype & log.nUMI & percent.mito\\\\\n",
       "  & <chr> & <dbl> & <dbl> & <chr> & <dbl> & <dbl>\\\\\n",
       "\\hline\n",
       "\tMultiome10x\\_05\\_AAATGCCTCCAATTAG-1 & Multiome10x\\_05\\_AAATGCCTCCAATTAG-1 &  4022 &  739 & DC & 8.299535 & 0.18373943\\\\\n",
       "\tMultiome10x\\_05\\_AACTACTCACTATGGC-1 & Multiome10x\\_05\\_AACTACTCACTATGGC-1 &  9856 & 1270 & DC & 9.195836 & 0.12885552\\\\\n",
       "\tMultiome10x\\_05\\_AACTGTTCAGGCTTGT-1 & Multiome10x\\_05\\_AACTGTTCAGGCTTGT-1 &  4715 &  656 & DC & 8.458504 & 0.13913043\\\\\n",
       "\tMultiome10x\\_05\\_AAGCGTTTCCTGGTGA-1 & Multiome10x\\_05\\_AAGCGTTTCCTGGTGA-1 &  7466 &  929 & DC & 8.918115 & 0.12443075\\\\\n",
       "\tMultiome10x\\_05\\_AAGCTAGAGGTAAGCA-1 & Multiome10x\\_05\\_AAGCTAGAGGTAAGCA-1 &  6014 &  532 & DC & 8.701845 & 0.08846026\\\\\n",
       "\tMultiome10x\\_05\\_AATAACCGTCACCAAA-1 & Multiome10x\\_05\\_AATAACCGTCACCAAA-1 &  5772 &  823 & DC & 8.660774 & 0.14258489\\\\\n",
       "\tMultiome10x\\_05\\_AATAACCGTTGGCCGA-1 & Multiome10x\\_05\\_AATAACCGTTGGCCGA-1 &  6314 &  799 & DC & 8.750525 & 0.12654419\\\\\n",
       "\tMultiome10x\\_05\\_AATATCCCAACCTGGT-1 & Multiome10x\\_05\\_AATATCCCAACCTGGT-1 & 11613 & 1633 & DC & 9.359880 & 0.14061827\\\\\n",
       "\tMultiome10x\\_05\\_AATCCGTAGCTACTGG-1 & Multiome10x\\_05\\_AATCCGTAGCTACTGG-1 &  7714 & 1092 & DC & 8.950792 & 0.14156080\\\\\n",
       "\tMultiome10x\\_05\\_AATTACCCATAGCGGA-1 & Multiome10x\\_05\\_AATTACCCATAGCGGA-1 &  6445 &  823 & DC & 8.771060 & 0.12769589\\\\\n",
       "\tMultiome10x\\_05\\_AATTAGGCATTGCGTA-1 & Multiome10x\\_05\\_AATTAGGCATTGCGTA-1 &  2604 &  438 & DC & 7.864804 & 0.16820276\\\\\n",
       "\tMultiome10x\\_05\\_AATTGCCAGCGGATAA-1 & Multiome10x\\_05\\_AATTGCCAGCGGATAA-1 &  6824 &  992 & DC & 8.828201 & 0.14536928\\\\\n",
       "\tMultiome10x\\_05\\_ACATTAGTCTACTAAG-1 & Multiome10x\\_05\\_ACATTAGTCTACTAAG-1 &  4018 &  848 & DC & 8.298540 & 0.21105027\\\\\n",
       "\tMultiome10x\\_05\\_ACCACACCAGGCATCT-1 & Multiome10x\\_05\\_ACCACACCAGGCATCT-1 &  7391 &  896 & DC & 8.908018 & 0.12122852\\\\\n",
       "\tMultiome10x\\_05\\_ACCTAAATCAAGTGAG-1 & Multiome10x\\_05\\_ACCTAAATCAAGTGAG-1 &  5579 &  583 & DC & 8.626765 & 0.10449901\\\\\n",
       "\tMultiome10x\\_05\\_ACGAGTAAGGGTCTAT-1 & Multiome10x\\_05\\_ACGAGTAAGGGTCTAT-1 &  6259 &  772 & DC & 8.741776 & 0.12334239\\\\\n",
       "\tMultiome10x\\_05\\_ACGCTTGAGTTGGATC-1 & Multiome10x\\_05\\_ACGCTTGAGTTGGATC-1 &  5743 &  743 & DC & 8.655737 & 0.12937489\\\\\n",
       "\tMultiome10x\\_05\\_ACGTACCCAGCATTAT-1 & Multiome10x\\_05\\_ACGTACCCAGCATTAT-1 &  8238 & 1029 & DC & 9.016513 & 0.12490896\\\\\n",
       "\tMultiome10x\\_05\\_ACGTCCAAGCATGTTA-1 & Multiome10x\\_05\\_ACGTCCAAGCATGTTA-1 &  9100 & 1177 & DC & 9.116030 & 0.12934066\\\\\n",
       "\tMultiome10x\\_05\\_ACTAAAGCATAAGTTC-1 & Multiome10x\\_05\\_ACTAAAGCATAAGTTC-1 &  9281 & 1391 & DC & 9.135725 & 0.14987609\\\\\n",
       "\tMultiome10x\\_05\\_ACTTAGGGTAACCACA-1 & Multiome10x\\_05\\_ACTTAGGGTAACCACA-1 &  6274 &  649 & DC & 8.744169 & 0.10344278\\\\\n",
       "\tMultiome10x\\_05\\_AGAAAGGCAGTTAGCC-1 & Multiome10x\\_05\\_AGAAAGGCAGTTAGCC-1 &  6434 &  624 & DC & 8.769352 & 0.09698477\\\\\n",
       "\tMultiome10x\\_05\\_AGACAATAGTTACCGG-1 & Multiome10x\\_05\\_AGACAATAGTTACCGG-1 &  7969 &  767 & DC & 8.983314 & 0.09624796\\\\\n",
       "\tMultiome10x\\_05\\_AGCCTAGTCGTTAGCG-1 & Multiome10x\\_05\\_AGCCTAGTCGTTAGCG-1 &  5326 &  766 & DC & 8.580356 & 0.14382276\\\\\n",
       "\tMultiome10x\\_05\\_AGCCTGGGTACGGTAC-1 & Multiome10x\\_05\\_AGCCTGGGTACGGTAC-1 &  7612 &  836 & DC & 8.937481 & 0.10982659\\\\\n",
       "\tMultiome10x\\_05\\_AGCGGATAGTAAGGGC-1 & Multiome10x\\_05\\_AGCGGATAGTAAGGGC-1 &  3129 &  618 & DC & 8.048469 & 0.19750719\\\\\n",
       "\tMultiome10x\\_05\\_AGCTACTAGTTATGTG-1 & Multiome10x\\_05\\_AGCTACTAGTTATGTG-1 &  7157 &  891 & DC & 8.875846 & 0.12449350\\\\\n",
       "\tMultiome10x\\_05\\_AGGAAACGTCACAAAT-1 & Multiome10x\\_05\\_AGGAAACGTCACAAAT-1 &  6386 &  834 & DC & 8.761863 & 0.13059818\\\\\n",
       "\tMultiome10x\\_05\\_AGGACTAAGTGAACGA-1 & Multiome10x\\_05\\_AGGACTAAGTGAACGA-1 &  3041 &  337 & DC & 8.019942 & 0.11081881\\\\\n",
       "\tMultiome10x\\_05\\_AGTCCTGAGACTTATG-1 & Multiome10x\\_05\\_AGTCCTGAGACTTATG-1 & 17082 & 1658 & DC & 9.745781 & 0.09706123\\\\\n",
       "\t⋮ & ⋮ & ⋮ & ⋮ & ⋮ & ⋮ & ⋮\\\\\n",
       "\tMultiome10x\\_06\\_TACAAGCTCCAGGAAA-1 & Multiome10x\\_06\\_TACAAGCTCCAGGAAA-1 &  7162 &  850 & DC & 8.876545 & 0.11868193\\\\\n",
       "\tMultiome10x\\_06\\_TACATCAAGGGCCATC-1 & Multiome10x\\_06\\_TACATCAAGGGCCATC-1 &  6158 &  536 & DC & 8.725507 & 0.08704125\\\\\n",
       "\tMultiome10x\\_06\\_TACTAAGTCATGAAGG-1 & Multiome10x\\_06\\_TACTAAGTCATGAAGG-1 &  6193 &  905 & DC & 8.731175 & 0.14613273\\\\\n",
       "\tMultiome10x\\_06\\_TACTAAGTCGAGGAGT-1 & Multiome10x\\_06\\_TACTAAGTCGAGGAGT-1 &  3727 &  782 & DC & 8.223359 & 0.20982023\\\\\n",
       "\tMultiome10x\\_06\\_TACTCAAAGACTTATG-1 & Multiome10x\\_06\\_TACTCAAAGACTTATG-1 &  5050 &  700 & DC & 8.527144 & 0.13861386\\\\\n",
       "\tMultiome10x\\_06\\_TAGCTTGCACTTAGGC-1 & Multiome10x\\_06\\_TAGCTTGCACTTAGGC-1 &  7275 &  958 & DC & 8.892199 & 0.13168385\\\\\n",
       "\tMultiome10x\\_06\\_TAGTACGGTGCAATGC-1 & Multiome10x\\_06\\_TAGTACGGTGCAATGC-1 &  7052 &  881 & DC & 8.861067 & 0.12492910\\\\\n",
       "\tMultiome10x\\_06\\_TATCGCACAAGCTACC-1 & Multiome10x\\_06\\_TATCGCACAAGCTACC-1 &  8262 & 1334 & DC & 9.019422 & 0.16146212\\\\\n",
       "\tMultiome10x\\_06\\_TCAAGAACACTATGGC-1 & Multiome10x\\_06\\_TCAAGAACACTATGGC-1 & 10730 & 1295 & DC & 9.280799 & 0.12068966\\\\\n",
       "\tMultiome10x\\_06\\_TCAAGAACAGTAAGTA-1 & Multiome10x\\_06\\_TCAAGAACAGTAAGTA-1 &  6724 &  918 & DC & 8.813438 & 0.13652588\\\\\n",
       "\tMultiome10x\\_06\\_TCACCGGCAATCCTGA-1 & Multiome10x\\_06\\_TCACCGGCAATCCTGA-1 &  4329 &  381 & DC & 8.373092 & 0.08801109\\\\\n",
       "\tMultiome10x\\_06\\_TCAGTAGGTATTGTGG-1 & Multiome10x\\_06\\_TCAGTAGGTATTGTGG-1 &  8104 &  928 & DC & 9.000113 & 0.11451135\\\\\n",
       "\tMultiome10x\\_06\\_TCGCCCATCTCACATT-1 & Multiome10x\\_06\\_TCGCCCATCTCACATT-1 &  6875 &  934 & DC & 8.835647 & 0.13585455\\\\\n",
       "\tMultiome10x\\_06\\_TCTAGCACAATTGAAG-1 & Multiome10x\\_06\\_TCTAGCACAATTGAAG-1 & 13179 & 1633 & DC & 9.486380 & 0.12390925\\\\\n",
       "\tMultiome10x\\_06\\_TGAAGGATCACTTCAT-1 & Multiome10x\\_06\\_TGAAGGATCACTTCAT-1 & 10284 & 1940 & DC & 9.238345 & 0.18864255\\\\\n",
       "\tMultiome10x\\_06\\_TGATTCAAGTCACTCC-1 & Multiome10x\\_06\\_TGATTCAAGTCACTCC-1 &  6641 &  856 & DC & 8.801018 & 0.12889625\\\\\n",
       "\tMultiome10x\\_06\\_TGCATCCTCTTGGATA-1 & Multiome10x\\_06\\_TGCATCCTCTTGGATA-1 &  6217 &  712 & DC & 8.735043 & 0.11452469\\\\\n",
       "\tMultiome10x\\_06\\_TGCTCTCAGGCATGTT-1 & Multiome10x\\_06\\_TGCTCTCAGGCATGTT-1 &  6527 &  811 & DC & 8.783703 & 0.12425310\\\\\n",
       "\tMultiome10x\\_06\\_TGCTTAAAGGTGCGGA-1 & Multiome10x\\_06\\_TGCTTAAAGGTGCGGA-1 &  6855 &  826 & DC & 8.832734 & 0.12049599\\\\\n",
       "\tMultiome10x\\_06\\_TGCTTGTGTCGTTACT-1 & Multiome10x\\_06\\_TGCTTGTGTCGTTACT-1 &  4461 &  354 & DC & 8.403128 & 0.07935440\\\\\n",
       "\tMultiome10x\\_06\\_TGGATTCAGACTTACA-1 & Multiome10x\\_06\\_TGGATTCAGACTTACA-1 &  6306 & 1156 & DC & 8.749257 & 0.18331748\\\\\n",
       "\tMultiome10x\\_06\\_TGGATTCAGTTATGGC-1 & Multiome10x\\_06\\_TGGATTCAGTTATGGC-1 &  6283 & 1178 & DC & 8.745603 & 0.18749005\\\\\n",
       "\tMultiome10x\\_06\\_TGGTCCTTCTGGTCCT-1 & Multiome10x\\_06\\_TGGTCCTTCTGGTCCT-1 &  7428 & 1005 & DC & 8.913012 & 0.13529887\\\\\n",
       "\tMultiome10x\\_06\\_TGGTTGAGTTGTCCAT-1 & Multiome10x\\_06\\_TGGTTGAGTTGTCCAT-1 &  6233 &  723 & DC & 8.737613 & 0.11599551\\\\\n",
       "\tMultiome10x\\_06\\_TTACCTGTCATAGACC-1 & Multiome10x\\_06\\_TTACCTGTCATAGACC-1 &  4864 &  553 & DC & 8.489616 & 0.11369243\\\\\n",
       "\tMultiome10x\\_06\\_TTCAACCGTTTGGCGG-1 & Multiome10x\\_06\\_TTCAACCGTTTGGCGG-1 &  6733 &  756 & DC & 8.814776 & 0.11228279\\\\\n",
       "\tMultiome10x\\_06\\_TTGCCCGTCTCCATAT-1 & Multiome10x\\_06\\_TTGCCCGTCTCCATAT-1 &  6294 &  727 & DC & 8.747352 & 0.11550683\\\\\n",
       "\tMultiome10x\\_06\\_TTGTGCCTCGGTAACT-1 & Multiome10x\\_06\\_TTGTGCCTCGGTAACT-1 &  7416 &  941 & DC & 8.911395 & 0.12688781\\\\\n",
       "\tMultiome10x\\_06\\_TTTAGCAAGGGTGGAT-1 & Multiome10x\\_06\\_TTTAGCAAGGGTGGAT-1 & 16830 & 2192 & DC & 9.730918 & 0.13024361\\\\\n",
       "\tMultiome10x\\_06\\_TTTCTCACAATCTCTC-1 & Multiome10x\\_06\\_TTTCTCACAATCTCTC-1 &  3044 &   34 & DC & 8.020928 & 0.01116951\\\\\n",
       "\\end{tabular}\n"
      ],
      "text/markdown": [
       "\n",
       "A data.frame: 302 × 6\n",
       "\n",
       "| <!--/--> | cell &lt;chr&gt; | nUMI &lt;dbl&gt; | nMito &lt;dbl&gt; | celltype &lt;chr&gt; | log.nUMI &lt;dbl&gt; | percent.mito &lt;dbl&gt; |\n",
       "|---|---|---|---|---|---|---|\n",
       "| Multiome10x_05_AAATGCCTCCAATTAG-1 | Multiome10x_05_AAATGCCTCCAATTAG-1 |  4022 |  739 | DC | 8.299535 | 0.18373943 |\n",
       "| Multiome10x_05_AACTACTCACTATGGC-1 | Multiome10x_05_AACTACTCACTATGGC-1 |  9856 | 1270 | DC | 9.195836 | 0.12885552 |\n",
       "| Multiome10x_05_AACTGTTCAGGCTTGT-1 | Multiome10x_05_AACTGTTCAGGCTTGT-1 |  4715 |  656 | DC | 8.458504 | 0.13913043 |\n",
       "| Multiome10x_05_AAGCGTTTCCTGGTGA-1 | Multiome10x_05_AAGCGTTTCCTGGTGA-1 |  7466 |  929 | DC | 8.918115 | 0.12443075 |\n",
       "| Multiome10x_05_AAGCTAGAGGTAAGCA-1 | Multiome10x_05_AAGCTAGAGGTAAGCA-1 |  6014 |  532 | DC | 8.701845 | 0.08846026 |\n",
       "| Multiome10x_05_AATAACCGTCACCAAA-1 | Multiome10x_05_AATAACCGTCACCAAA-1 |  5772 |  823 | DC | 8.660774 | 0.14258489 |\n",
       "| Multiome10x_05_AATAACCGTTGGCCGA-1 | Multiome10x_05_AATAACCGTTGGCCGA-1 |  6314 |  799 | DC | 8.750525 | 0.12654419 |\n",
       "| Multiome10x_05_AATATCCCAACCTGGT-1 | Multiome10x_05_AATATCCCAACCTGGT-1 | 11613 | 1633 | DC | 9.359880 | 0.14061827 |\n",
       "| Multiome10x_05_AATCCGTAGCTACTGG-1 | Multiome10x_05_AATCCGTAGCTACTGG-1 |  7714 | 1092 | DC | 8.950792 | 0.14156080 |\n",
       "| Multiome10x_05_AATTACCCATAGCGGA-1 | Multiome10x_05_AATTACCCATAGCGGA-1 |  6445 |  823 | DC | 8.771060 | 0.12769589 |\n",
       "| Multiome10x_05_AATTAGGCATTGCGTA-1 | Multiome10x_05_AATTAGGCATTGCGTA-1 |  2604 |  438 | DC | 7.864804 | 0.16820276 |\n",
       "| Multiome10x_05_AATTGCCAGCGGATAA-1 | Multiome10x_05_AATTGCCAGCGGATAA-1 |  6824 |  992 | DC | 8.828201 | 0.14536928 |\n",
       "| Multiome10x_05_ACATTAGTCTACTAAG-1 | Multiome10x_05_ACATTAGTCTACTAAG-1 |  4018 |  848 | DC | 8.298540 | 0.21105027 |\n",
       "| Multiome10x_05_ACCACACCAGGCATCT-1 | Multiome10x_05_ACCACACCAGGCATCT-1 |  7391 |  896 | DC | 8.908018 | 0.12122852 |\n",
       "| Multiome10x_05_ACCTAAATCAAGTGAG-1 | Multiome10x_05_ACCTAAATCAAGTGAG-1 |  5579 |  583 | DC | 8.626765 | 0.10449901 |\n",
       "| Multiome10x_05_ACGAGTAAGGGTCTAT-1 | Multiome10x_05_ACGAGTAAGGGTCTAT-1 |  6259 |  772 | DC | 8.741776 | 0.12334239 |\n",
       "| Multiome10x_05_ACGCTTGAGTTGGATC-1 | Multiome10x_05_ACGCTTGAGTTGGATC-1 |  5743 |  743 | DC | 8.655737 | 0.12937489 |\n",
       "| Multiome10x_05_ACGTACCCAGCATTAT-1 | Multiome10x_05_ACGTACCCAGCATTAT-1 |  8238 | 1029 | DC | 9.016513 | 0.12490896 |\n",
       "| Multiome10x_05_ACGTCCAAGCATGTTA-1 | Multiome10x_05_ACGTCCAAGCATGTTA-1 |  9100 | 1177 | DC | 9.116030 | 0.12934066 |\n",
       "| Multiome10x_05_ACTAAAGCATAAGTTC-1 | Multiome10x_05_ACTAAAGCATAAGTTC-1 |  9281 | 1391 | DC | 9.135725 | 0.14987609 |\n",
       "| Multiome10x_05_ACTTAGGGTAACCACA-1 | Multiome10x_05_ACTTAGGGTAACCACA-1 |  6274 |  649 | DC | 8.744169 | 0.10344278 |\n",
       "| Multiome10x_05_AGAAAGGCAGTTAGCC-1 | Multiome10x_05_AGAAAGGCAGTTAGCC-1 |  6434 |  624 | DC | 8.769352 | 0.09698477 |\n",
       "| Multiome10x_05_AGACAATAGTTACCGG-1 | Multiome10x_05_AGACAATAGTTACCGG-1 |  7969 |  767 | DC | 8.983314 | 0.09624796 |\n",
       "| Multiome10x_05_AGCCTAGTCGTTAGCG-1 | Multiome10x_05_AGCCTAGTCGTTAGCG-1 |  5326 |  766 | DC | 8.580356 | 0.14382276 |\n",
       "| Multiome10x_05_AGCCTGGGTACGGTAC-1 | Multiome10x_05_AGCCTGGGTACGGTAC-1 |  7612 |  836 | DC | 8.937481 | 0.10982659 |\n",
       "| Multiome10x_05_AGCGGATAGTAAGGGC-1 | Multiome10x_05_AGCGGATAGTAAGGGC-1 |  3129 |  618 | DC | 8.048469 | 0.19750719 |\n",
       "| Multiome10x_05_AGCTACTAGTTATGTG-1 | Multiome10x_05_AGCTACTAGTTATGTG-1 |  7157 |  891 | DC | 8.875846 | 0.12449350 |\n",
       "| Multiome10x_05_AGGAAACGTCACAAAT-1 | Multiome10x_05_AGGAAACGTCACAAAT-1 |  6386 |  834 | DC | 8.761863 | 0.13059818 |\n",
       "| Multiome10x_05_AGGACTAAGTGAACGA-1 | Multiome10x_05_AGGACTAAGTGAACGA-1 |  3041 |  337 | DC | 8.019942 | 0.11081881 |\n",
       "| Multiome10x_05_AGTCCTGAGACTTATG-1 | Multiome10x_05_AGTCCTGAGACTTATG-1 | 17082 | 1658 | DC | 9.745781 | 0.09706123 |\n",
       "| ⋮ | ⋮ | ⋮ | ⋮ | ⋮ | ⋮ | ⋮ |\n",
       "| Multiome10x_06_TACAAGCTCCAGGAAA-1 | Multiome10x_06_TACAAGCTCCAGGAAA-1 |  7162 |  850 | DC | 8.876545 | 0.11868193 |\n",
       "| Multiome10x_06_TACATCAAGGGCCATC-1 | Multiome10x_06_TACATCAAGGGCCATC-1 |  6158 |  536 | DC | 8.725507 | 0.08704125 |\n",
       "| Multiome10x_06_TACTAAGTCATGAAGG-1 | Multiome10x_06_TACTAAGTCATGAAGG-1 |  6193 |  905 | DC | 8.731175 | 0.14613273 |\n",
       "| Multiome10x_06_TACTAAGTCGAGGAGT-1 | Multiome10x_06_TACTAAGTCGAGGAGT-1 |  3727 |  782 | DC | 8.223359 | 0.20982023 |\n",
       "| Multiome10x_06_TACTCAAAGACTTATG-1 | Multiome10x_06_TACTCAAAGACTTATG-1 |  5050 |  700 | DC | 8.527144 | 0.13861386 |\n",
       "| Multiome10x_06_TAGCTTGCACTTAGGC-1 | Multiome10x_06_TAGCTTGCACTTAGGC-1 |  7275 |  958 | DC | 8.892199 | 0.13168385 |\n",
       "| Multiome10x_06_TAGTACGGTGCAATGC-1 | Multiome10x_06_TAGTACGGTGCAATGC-1 |  7052 |  881 | DC | 8.861067 | 0.12492910 |\n",
       "| Multiome10x_06_TATCGCACAAGCTACC-1 | Multiome10x_06_TATCGCACAAGCTACC-1 |  8262 | 1334 | DC | 9.019422 | 0.16146212 |\n",
       "| Multiome10x_06_TCAAGAACACTATGGC-1 | Multiome10x_06_TCAAGAACACTATGGC-1 | 10730 | 1295 | DC | 9.280799 | 0.12068966 |\n",
       "| Multiome10x_06_TCAAGAACAGTAAGTA-1 | Multiome10x_06_TCAAGAACAGTAAGTA-1 |  6724 |  918 | DC | 8.813438 | 0.13652588 |\n",
       "| Multiome10x_06_TCACCGGCAATCCTGA-1 | Multiome10x_06_TCACCGGCAATCCTGA-1 |  4329 |  381 | DC | 8.373092 | 0.08801109 |\n",
       "| Multiome10x_06_TCAGTAGGTATTGTGG-1 | Multiome10x_06_TCAGTAGGTATTGTGG-1 |  8104 |  928 | DC | 9.000113 | 0.11451135 |\n",
       "| Multiome10x_06_TCGCCCATCTCACATT-1 | Multiome10x_06_TCGCCCATCTCACATT-1 |  6875 |  934 | DC | 8.835647 | 0.13585455 |\n",
       "| Multiome10x_06_TCTAGCACAATTGAAG-1 | Multiome10x_06_TCTAGCACAATTGAAG-1 | 13179 | 1633 | DC | 9.486380 | 0.12390925 |\n",
       "| Multiome10x_06_TGAAGGATCACTTCAT-1 | Multiome10x_06_TGAAGGATCACTTCAT-1 | 10284 | 1940 | DC | 9.238345 | 0.18864255 |\n",
       "| Multiome10x_06_TGATTCAAGTCACTCC-1 | Multiome10x_06_TGATTCAAGTCACTCC-1 |  6641 |  856 | DC | 8.801018 | 0.12889625 |\n",
       "| Multiome10x_06_TGCATCCTCTTGGATA-1 | Multiome10x_06_TGCATCCTCTTGGATA-1 |  6217 |  712 | DC | 8.735043 | 0.11452469 |\n",
       "| Multiome10x_06_TGCTCTCAGGCATGTT-1 | Multiome10x_06_TGCTCTCAGGCATGTT-1 |  6527 |  811 | DC | 8.783703 | 0.12425310 |\n",
       "| Multiome10x_06_TGCTTAAAGGTGCGGA-1 | Multiome10x_06_TGCTTAAAGGTGCGGA-1 |  6855 |  826 | DC | 8.832734 | 0.12049599 |\n",
       "| Multiome10x_06_TGCTTGTGTCGTTACT-1 | Multiome10x_06_TGCTTGTGTCGTTACT-1 |  4461 |  354 | DC | 8.403128 | 0.07935440 |\n",
       "| Multiome10x_06_TGGATTCAGACTTACA-1 | Multiome10x_06_TGGATTCAGACTTACA-1 |  6306 | 1156 | DC | 8.749257 | 0.18331748 |\n",
       "| Multiome10x_06_TGGATTCAGTTATGGC-1 | Multiome10x_06_TGGATTCAGTTATGGC-1 |  6283 | 1178 | DC | 8.745603 | 0.18749005 |\n",
       "| Multiome10x_06_TGGTCCTTCTGGTCCT-1 | Multiome10x_06_TGGTCCTTCTGGTCCT-1 |  7428 | 1005 | DC | 8.913012 | 0.13529887 |\n",
       "| Multiome10x_06_TGGTTGAGTTGTCCAT-1 | Multiome10x_06_TGGTTGAGTTGTCCAT-1 |  6233 |  723 | DC | 8.737613 | 0.11599551 |\n",
       "| Multiome10x_06_TTACCTGTCATAGACC-1 | Multiome10x_06_TTACCTGTCATAGACC-1 |  4864 |  553 | DC | 8.489616 | 0.11369243 |\n",
       "| Multiome10x_06_TTCAACCGTTTGGCGG-1 | Multiome10x_06_TTCAACCGTTTGGCGG-1 |  6733 |  756 | DC | 8.814776 | 0.11228279 |\n",
       "| Multiome10x_06_TTGCCCGTCTCCATAT-1 | Multiome10x_06_TTGCCCGTCTCCATAT-1 |  6294 |  727 | DC | 8.747352 | 0.11550683 |\n",
       "| Multiome10x_06_TTGTGCCTCGGTAACT-1 | Multiome10x_06_TTGTGCCTCGGTAACT-1 |  7416 |  941 | DC | 8.911395 | 0.12688781 |\n",
       "| Multiome10x_06_TTTAGCAAGGGTGGAT-1 | Multiome10x_06_TTTAGCAAGGGTGGAT-1 | 16830 | 2192 | DC | 9.730918 | 0.13024361 |\n",
       "| Multiome10x_06_TTTCTCACAATCTCTC-1 | Multiome10x_06_TTTCTCACAATCTCTC-1 |  3044 |   34 | DC | 8.020928 | 0.01116951 |\n",
       "\n"
      ],
      "text/plain": [
       "                                  cell                              nUMI  nMito\n",
       "Multiome10x_05_AAATGCCTCCAATTAG-1 Multiome10x_05_AAATGCCTCCAATTAG-1  4022  739 \n",
       "Multiome10x_05_AACTACTCACTATGGC-1 Multiome10x_05_AACTACTCACTATGGC-1  9856 1270 \n",
       "Multiome10x_05_AACTGTTCAGGCTTGT-1 Multiome10x_05_AACTGTTCAGGCTTGT-1  4715  656 \n",
       "Multiome10x_05_AAGCGTTTCCTGGTGA-1 Multiome10x_05_AAGCGTTTCCTGGTGA-1  7466  929 \n",
       "Multiome10x_05_AAGCTAGAGGTAAGCA-1 Multiome10x_05_AAGCTAGAGGTAAGCA-1  6014  532 \n",
       "Multiome10x_05_AATAACCGTCACCAAA-1 Multiome10x_05_AATAACCGTCACCAAA-1  5772  823 \n",
       "Multiome10x_05_AATAACCGTTGGCCGA-1 Multiome10x_05_AATAACCGTTGGCCGA-1  6314  799 \n",
       "Multiome10x_05_AATATCCCAACCTGGT-1 Multiome10x_05_AATATCCCAACCTGGT-1 11613 1633 \n",
       "Multiome10x_05_AATCCGTAGCTACTGG-1 Multiome10x_05_AATCCGTAGCTACTGG-1  7714 1092 \n",
       "Multiome10x_05_AATTACCCATAGCGGA-1 Multiome10x_05_AATTACCCATAGCGGA-1  6445  823 \n",
       "Multiome10x_05_AATTAGGCATTGCGTA-1 Multiome10x_05_AATTAGGCATTGCGTA-1  2604  438 \n",
       "Multiome10x_05_AATTGCCAGCGGATAA-1 Multiome10x_05_AATTGCCAGCGGATAA-1  6824  992 \n",
       "Multiome10x_05_ACATTAGTCTACTAAG-1 Multiome10x_05_ACATTAGTCTACTAAG-1  4018  848 \n",
       "Multiome10x_05_ACCACACCAGGCATCT-1 Multiome10x_05_ACCACACCAGGCATCT-1  7391  896 \n",
       "Multiome10x_05_ACCTAAATCAAGTGAG-1 Multiome10x_05_ACCTAAATCAAGTGAG-1  5579  583 \n",
       "Multiome10x_05_ACGAGTAAGGGTCTAT-1 Multiome10x_05_ACGAGTAAGGGTCTAT-1  6259  772 \n",
       "Multiome10x_05_ACGCTTGAGTTGGATC-1 Multiome10x_05_ACGCTTGAGTTGGATC-1  5743  743 \n",
       "Multiome10x_05_ACGTACCCAGCATTAT-1 Multiome10x_05_ACGTACCCAGCATTAT-1  8238 1029 \n",
       "Multiome10x_05_ACGTCCAAGCATGTTA-1 Multiome10x_05_ACGTCCAAGCATGTTA-1  9100 1177 \n",
       "Multiome10x_05_ACTAAAGCATAAGTTC-1 Multiome10x_05_ACTAAAGCATAAGTTC-1  9281 1391 \n",
       "Multiome10x_05_ACTTAGGGTAACCACA-1 Multiome10x_05_ACTTAGGGTAACCACA-1  6274  649 \n",
       "Multiome10x_05_AGAAAGGCAGTTAGCC-1 Multiome10x_05_AGAAAGGCAGTTAGCC-1  6434  624 \n",
       "Multiome10x_05_AGACAATAGTTACCGG-1 Multiome10x_05_AGACAATAGTTACCGG-1  7969  767 \n",
       "Multiome10x_05_AGCCTAGTCGTTAGCG-1 Multiome10x_05_AGCCTAGTCGTTAGCG-1  5326  766 \n",
       "Multiome10x_05_AGCCTGGGTACGGTAC-1 Multiome10x_05_AGCCTGGGTACGGTAC-1  7612  836 \n",
       "Multiome10x_05_AGCGGATAGTAAGGGC-1 Multiome10x_05_AGCGGATAGTAAGGGC-1  3129  618 \n",
       "Multiome10x_05_AGCTACTAGTTATGTG-1 Multiome10x_05_AGCTACTAGTTATGTG-1  7157  891 \n",
       "Multiome10x_05_AGGAAACGTCACAAAT-1 Multiome10x_05_AGGAAACGTCACAAAT-1  6386  834 \n",
       "Multiome10x_05_AGGACTAAGTGAACGA-1 Multiome10x_05_AGGACTAAGTGAACGA-1  3041  337 \n",
       "Multiome10x_05_AGTCCTGAGACTTATG-1 Multiome10x_05_AGTCCTGAGACTTATG-1 17082 1658 \n",
       "⋮                                 ⋮                                 ⋮     ⋮    \n",
       "Multiome10x_06_TACAAGCTCCAGGAAA-1 Multiome10x_06_TACAAGCTCCAGGAAA-1  7162  850 \n",
       "Multiome10x_06_TACATCAAGGGCCATC-1 Multiome10x_06_TACATCAAGGGCCATC-1  6158  536 \n",
       "Multiome10x_06_TACTAAGTCATGAAGG-1 Multiome10x_06_TACTAAGTCATGAAGG-1  6193  905 \n",
       "Multiome10x_06_TACTAAGTCGAGGAGT-1 Multiome10x_06_TACTAAGTCGAGGAGT-1  3727  782 \n",
       "Multiome10x_06_TACTCAAAGACTTATG-1 Multiome10x_06_TACTCAAAGACTTATG-1  5050  700 \n",
       "Multiome10x_06_TAGCTTGCACTTAGGC-1 Multiome10x_06_TAGCTTGCACTTAGGC-1  7275  958 \n",
       "Multiome10x_06_TAGTACGGTGCAATGC-1 Multiome10x_06_TAGTACGGTGCAATGC-1  7052  881 \n",
       "Multiome10x_06_TATCGCACAAGCTACC-1 Multiome10x_06_TATCGCACAAGCTACC-1  8262 1334 \n",
       "Multiome10x_06_TCAAGAACACTATGGC-1 Multiome10x_06_TCAAGAACACTATGGC-1 10730 1295 \n",
       "Multiome10x_06_TCAAGAACAGTAAGTA-1 Multiome10x_06_TCAAGAACAGTAAGTA-1  6724  918 \n",
       "Multiome10x_06_TCACCGGCAATCCTGA-1 Multiome10x_06_TCACCGGCAATCCTGA-1  4329  381 \n",
       "Multiome10x_06_TCAGTAGGTATTGTGG-1 Multiome10x_06_TCAGTAGGTATTGTGG-1  8104  928 \n",
       "Multiome10x_06_TCGCCCATCTCACATT-1 Multiome10x_06_TCGCCCATCTCACATT-1  6875  934 \n",
       "Multiome10x_06_TCTAGCACAATTGAAG-1 Multiome10x_06_TCTAGCACAATTGAAG-1 13179 1633 \n",
       "Multiome10x_06_TGAAGGATCACTTCAT-1 Multiome10x_06_TGAAGGATCACTTCAT-1 10284 1940 \n",
       "Multiome10x_06_TGATTCAAGTCACTCC-1 Multiome10x_06_TGATTCAAGTCACTCC-1  6641  856 \n",
       "Multiome10x_06_TGCATCCTCTTGGATA-1 Multiome10x_06_TGCATCCTCTTGGATA-1  6217  712 \n",
       "Multiome10x_06_TGCTCTCAGGCATGTT-1 Multiome10x_06_TGCTCTCAGGCATGTT-1  6527  811 \n",
       "Multiome10x_06_TGCTTAAAGGTGCGGA-1 Multiome10x_06_TGCTTAAAGGTGCGGA-1  6855  826 \n",
       "Multiome10x_06_TGCTTGTGTCGTTACT-1 Multiome10x_06_TGCTTGTGTCGTTACT-1  4461  354 \n",
       "Multiome10x_06_TGGATTCAGACTTACA-1 Multiome10x_06_TGGATTCAGACTTACA-1  6306 1156 \n",
       "Multiome10x_06_TGGATTCAGTTATGGC-1 Multiome10x_06_TGGATTCAGTTATGGC-1  6283 1178 \n",
       "Multiome10x_06_TGGTCCTTCTGGTCCT-1 Multiome10x_06_TGGTCCTTCTGGTCCT-1  7428 1005 \n",
       "Multiome10x_06_TGGTTGAGTTGTCCAT-1 Multiome10x_06_TGGTTGAGTTGTCCAT-1  6233  723 \n",
       "Multiome10x_06_TTACCTGTCATAGACC-1 Multiome10x_06_TTACCTGTCATAGACC-1  4864  553 \n",
       "Multiome10x_06_TTCAACCGTTTGGCGG-1 Multiome10x_06_TTCAACCGTTTGGCGG-1  6733  756 \n",
       "Multiome10x_06_TTGCCCGTCTCCATAT-1 Multiome10x_06_TTGCCCGTCTCCATAT-1  6294  727 \n",
       "Multiome10x_06_TTGTGCCTCGGTAACT-1 Multiome10x_06_TTGTGCCTCGGTAACT-1  7416  941 \n",
       "Multiome10x_06_TTTAGCAAGGGTGGAT-1 Multiome10x_06_TTTAGCAAGGGTGGAT-1 16830 2192 \n",
       "Multiome10x_06_TTTCTCACAATCTCTC-1 Multiome10x_06_TTTCTCACAATCTCTC-1  3044   34 \n",
       "                                  celltype log.nUMI percent.mito\n",
       "Multiome10x_05_AAATGCCTCCAATTAG-1 DC       8.299535 0.18373943  \n",
       "Multiome10x_05_AACTACTCACTATGGC-1 DC       9.195836 0.12885552  \n",
       "Multiome10x_05_AACTGTTCAGGCTTGT-1 DC       8.458504 0.13913043  \n",
       "Multiome10x_05_AAGCGTTTCCTGGTGA-1 DC       8.918115 0.12443075  \n",
       "Multiome10x_05_AAGCTAGAGGTAAGCA-1 DC       8.701845 0.08846026  \n",
       "Multiome10x_05_AATAACCGTCACCAAA-1 DC       8.660774 0.14258489  \n",
       "Multiome10x_05_AATAACCGTTGGCCGA-1 DC       8.750525 0.12654419  \n",
       "Multiome10x_05_AATATCCCAACCTGGT-1 DC       9.359880 0.14061827  \n",
       "Multiome10x_05_AATCCGTAGCTACTGG-1 DC       8.950792 0.14156080  \n",
       "Multiome10x_05_AATTACCCATAGCGGA-1 DC       8.771060 0.12769589  \n",
       "Multiome10x_05_AATTAGGCATTGCGTA-1 DC       7.864804 0.16820276  \n",
       "Multiome10x_05_AATTGCCAGCGGATAA-1 DC       8.828201 0.14536928  \n",
       "Multiome10x_05_ACATTAGTCTACTAAG-1 DC       8.298540 0.21105027  \n",
       "Multiome10x_05_ACCACACCAGGCATCT-1 DC       8.908018 0.12122852  \n",
       "Multiome10x_05_ACCTAAATCAAGTGAG-1 DC       8.626765 0.10449901  \n",
       "Multiome10x_05_ACGAGTAAGGGTCTAT-1 DC       8.741776 0.12334239  \n",
       "Multiome10x_05_ACGCTTGAGTTGGATC-1 DC       8.655737 0.12937489  \n",
       "Multiome10x_05_ACGTACCCAGCATTAT-1 DC       9.016513 0.12490896  \n",
       "Multiome10x_05_ACGTCCAAGCATGTTA-1 DC       9.116030 0.12934066  \n",
       "Multiome10x_05_ACTAAAGCATAAGTTC-1 DC       9.135725 0.14987609  \n",
       "Multiome10x_05_ACTTAGGGTAACCACA-1 DC       8.744169 0.10344278  \n",
       "Multiome10x_05_AGAAAGGCAGTTAGCC-1 DC       8.769352 0.09698477  \n",
       "Multiome10x_05_AGACAATAGTTACCGG-1 DC       8.983314 0.09624796  \n",
       "Multiome10x_05_AGCCTAGTCGTTAGCG-1 DC       8.580356 0.14382276  \n",
       "Multiome10x_05_AGCCTGGGTACGGTAC-1 DC       8.937481 0.10982659  \n",
       "Multiome10x_05_AGCGGATAGTAAGGGC-1 DC       8.048469 0.19750719  \n",
       "Multiome10x_05_AGCTACTAGTTATGTG-1 DC       8.875846 0.12449350  \n",
       "Multiome10x_05_AGGAAACGTCACAAAT-1 DC       8.761863 0.13059818  \n",
       "Multiome10x_05_AGGACTAAGTGAACGA-1 DC       8.019942 0.11081881  \n",
       "Multiome10x_05_AGTCCTGAGACTTATG-1 DC       9.745781 0.09706123  \n",
       "⋮                                 ⋮        ⋮        ⋮           \n",
       "Multiome10x_06_TACAAGCTCCAGGAAA-1 DC       8.876545 0.11868193  \n",
       "Multiome10x_06_TACATCAAGGGCCATC-1 DC       8.725507 0.08704125  \n",
       "Multiome10x_06_TACTAAGTCATGAAGG-1 DC       8.731175 0.14613273  \n",
       "Multiome10x_06_TACTAAGTCGAGGAGT-1 DC       8.223359 0.20982023  \n",
       "Multiome10x_06_TACTCAAAGACTTATG-1 DC       8.527144 0.13861386  \n",
       "Multiome10x_06_TAGCTTGCACTTAGGC-1 DC       8.892199 0.13168385  \n",
       "Multiome10x_06_TAGTACGGTGCAATGC-1 DC       8.861067 0.12492910  \n",
       "Multiome10x_06_TATCGCACAAGCTACC-1 DC       9.019422 0.16146212  \n",
       "Multiome10x_06_TCAAGAACACTATGGC-1 DC       9.280799 0.12068966  \n",
       "Multiome10x_06_TCAAGAACAGTAAGTA-1 DC       8.813438 0.13652588  \n",
       "Multiome10x_06_TCACCGGCAATCCTGA-1 DC       8.373092 0.08801109  \n",
       "Multiome10x_06_TCAGTAGGTATTGTGG-1 DC       9.000113 0.11451135  \n",
       "Multiome10x_06_TCGCCCATCTCACATT-1 DC       8.835647 0.13585455  \n",
       "Multiome10x_06_TCTAGCACAATTGAAG-1 DC       9.486380 0.12390925  \n",
       "Multiome10x_06_TGAAGGATCACTTCAT-1 DC       9.238345 0.18864255  \n",
       "Multiome10x_06_TGATTCAAGTCACTCC-1 DC       8.801018 0.12889625  \n",
       "Multiome10x_06_TGCATCCTCTTGGATA-1 DC       8.735043 0.11452469  \n",
       "Multiome10x_06_TGCTCTCAGGCATGTT-1 DC       8.783703 0.12425310  \n",
       "Multiome10x_06_TGCTTAAAGGTGCGGA-1 DC       8.832734 0.12049599  \n",
       "Multiome10x_06_TGCTTGTGTCGTTACT-1 DC       8.403128 0.07935440  \n",
       "Multiome10x_06_TGGATTCAGACTTACA-1 DC       8.749257 0.18331748  \n",
       "Multiome10x_06_TGGATTCAGTTATGGC-1 DC       8.745603 0.18749005  \n",
       "Multiome10x_06_TGGTCCTTCTGGTCCT-1 DC       8.913012 0.13529887  \n",
       "Multiome10x_06_TGGTTGAGTTGTCCAT-1 DC       8.737613 0.11599551  \n",
       "Multiome10x_06_TTACCTGTCATAGACC-1 DC       8.489616 0.11369243  \n",
       "Multiome10x_06_TTCAACCGTTTGGCGG-1 DC       8.814776 0.11228279  \n",
       "Multiome10x_06_TTGCCCGTCTCCATAT-1 DC       8.747352 0.11550683  \n",
       "Multiome10x_06_TTGTGCCTCGGTAACT-1 DC       8.911395 0.12688781  \n",
       "Multiome10x_06_TTTAGCAAGGGTGGAT-1 DC       9.730918 0.13024361  \n",
       "Multiome10x_06_TTTCTCACAATCTCTC-1 DC       8.020928 0.01116951  "
      ]
     },
     "metadata": {},
     "output_type": "display_data"
    }
   ],
   "source": [
    "meta.data = data.frame(cell = colnames(matrix.rna),\n",
    "                       nUMI = colSums(matrix.rna),\n",
    "                       nMito = colSums(matrix.rna[grep(\"MT-\",rownames(matrix.rna)),]),\n",
    "                       celltype = celltype)\n",
    "meta.data[,\"log.nUMI\"] = log(meta.data[,\"nUMI\"])\n",
    "meta.data[,\"percent.mito\"] = meta.data[,\"nMito\"] / meta.data[,\"nUMI\"]\n",
    "meta.data"
   ]
  },
  {
   "cell_type": "markdown",
   "id": "b823cb4a-3ce6-40b1-9a0d-d5d1e4aa3912",
   "metadata": {},
   "source": [
    "RUN SCENT prediction"
   ]
  },
  {
   "cell_type": "code",
   "execution_count": 10,
   "id": "f46765dc-9de5-4411-9288-40b59435f9fb",
   "metadata": {},
   "outputs": [],
   "source": [
    "RhpcBLASctl::blas_set_num_threads(1)\n",
    "Sys.setenv(OPENBLAS_NUM_THREADS=1)\n",
    "SCENT_algorithm.modified = function (object, \n",
    "                                     # celltype, \n",
    "                                     # ncores, \n",
    "                                     # regr = \"poisson\", \n",
    "                                     # bin = TRUE) \n",
    "                                     regr = \"poisson\") {\n",
    "    res <- data.frame()\n",
    "    for (n in 1:nrow(object@peak.info)) {        \n",
    "        gene <- object@peak.info[n, 1]\n",
    "        this_peak <- object@peak.info[n, 2]\n",
    "        atac_target <- data.frame(cell = colnames(object@atac), \n",
    "            atac = object@atac[this_peak, ])\n",
    "        # if (bin) {\n",
    "        #     atac_target[atac_target$atac > 0, ]$atac <- 1\n",
    "        # }\n",
    "        mrna_target <- object@rna[gene, ]\n",
    "        df <- data.frame(cell = names(mrna_target), exprs = as.numeric(mrna_target))\n",
    "        df <- merge(df, atac_target, by = \"cell\")\n",
    "        df <- merge(df, object@meta.data, by = \"cell\")\n",
    "        # df2 <- df[df[[object@celltypes]] == celltype, ]\n",
    "        df2 <- df\n",
    "        # nonzero_m <- length(df2$exprs[df2$exprs > 0])/length(df2$exprs)\n",
    "        # nonzero_a <- length(df2$atac[df2$atac > 0])/length(df2$atac)\n",
    "        # if (nonzero_m > 0.05 & nonzero_a > 0.05) {\n",
    "            res_var <- \"exprs\"\n",
    "            pred_var <- c(\"atac\", object@covariates)\n",
    "            formula <- as.formula(paste(res_var, paste(pred_var, \n",
    "                collapse = \"+\"), sep = \"~\"))\n",
    "            if (regr == \"poisson\") {\n",
    "                base = glm(formula, family = \"poisson\", data = df2)\n",
    "                coefs <- summary(base)$coefficients[\"atac\", ]\n",
    "                # assoc <- assoc_poisson\n",
    "                assoc <- SCENT::assoc_poisson\n",
    "            }\n",
    "            else if (regr == \"negbin\") {\n",
    "                base = glm.nb(formula, data = df2)\n",
    "                coefs <- summary(base)$coefficients[\"atac\", ]\n",
    "                # assoc <- assoc_negbin\n",
    "                assoc <- SCENT::assoc_negbin\n",
    "            }\n",
    "            # bs = boot::boot(df2, assoc, R = 100, formula = formula, \n",
    "            #     stype = \"i\", parallel = \"no\", ncpus = 1)\n",
    "            # p0 = basic_p(bs$t0[1], bs$t[, 1])\n",
    "            # p0 = SCENT::basic_p(bs$t0[1], bs$t[, 1])\n",
    "            # if (p0 < 0.1) {\n",
    "            #     bs = boot::boot(df2, assoc, R = 500, formula = formula, \n",
    "            #       stype = \"i\", \n",
    "            #       # parallel = \"multicore\", ncpus = ncores)\n",
    "            #       parallel = \"no\", ncpus = 1)\n",
    "            #     # p0 = basic_p(bs$t0[1], bs$t[, 1])\n",
    "            #     p0 = SCENT::basic_p(bs$t0[1], bs$t[, 1])\n",
    "            # }\n",
    "            # if (p0 < 0.05) {\n",
    "                bs = boot::boot(df2, assoc, R = 2500, formula = formula, \n",
    "                  stype = \"i\", \n",
    "                  # parallel = \"multicore\", ncpus = ncores)\n",
    "                  parallel = \"no\", ncpus = 1)\n",
    "                # p0 = basic_p(bs$t0[1], bs$t[, 1])\n",
    "                p0 = SCENT::basic_p(bs$t0[1], bs$t[, 1])\n",
    "            # }\n",
    "            # if (p0 < 0.01) {\n",
    "            #     bs = boot::boot(df2, assoc, R = 25000, formula = formula, \n",
    "            #       stype = \"i\", \n",
    "            #       # parallel = \"multicore\", ncpus = ncores)\n",
    "            #       parallel = \"no\", ncpus = 1)\n",
    "            #     # p0 = basic_p(bs$t0[1], bs$t[, 1])\n",
    "            #     p0 = SCENT::basic_p(bs$t0[1], bs$t[, 1])\n",
    "            # }\n",
    "            # if (p0 < 0.001) {\n",
    "            #     bs = boot::boot(df2, assoc, R = 50000, formula = formula, \n",
    "            #       stype = \"i\", \n",
    "            #       # parallel = \"multicore\", ncpus = ncores)\n",
    "            #       parallel = \"no\", ncpus = 1)\n",
    "            #     # p0 = basic_p(bs$t0[1], bs$t[, 1])\n",
    "            #     p0 = SCENT::basic_p(bs$t0[1], bs$t[, 1])\n",
    "            # }\n",
    "            out <- data.frame(gene = gene, peak = this_peak, \n",
    "                beta = coefs[1], se = coefs[2], z = coefs[3], \n",
    "                p = coefs[4], boot_basic_p = p0)           \n",
    "            res <- rbind(res, out)\n",
    "        # }\n",
    "    }\n",
    "    object@SCENT.result <- res\n",
    "    return(object)\n",
    "}"
   ]
  },
  {
   "cell_type": "code",
   "execution_count": 11,
   "id": "563771b9-b96a-44d5-a5fe-fa30a7b9851b",
   "metadata": {},
   "outputs": [],
   "source": [
    "dir.create(paste(dir.output,\"chr\",sep = \"/\"),recursive = T)"
   ]
  },
  {
   "cell_type": "code",
   "execution_count": 12,
   "id": "0d2266ce-b92d-40d2-9b78-f39bd33a5079",
   "metadata": {},
   "outputs": [],
   "source": [
    "chr.done = dir(paste(dir.output,\"chr\",sep = \"/\"))\n",
    "chr.run = as.character(unique(seqnames(pairs.E2G)))\n",
    "chr.run = chr.run[!chr.run %in% chr.done]"
   ]
  },
  {
   "cell_type": "code",
   "execution_count": null,
   "id": "2d41238d-e833-4e0e-add5-bb56bb615c1a",
   "metadata": {},
   "outputs": [
    {
     "name": "stdout",
     "output_type": "stream",
     "text": [
      "[1] \"chr1\"\n"
     ]
    },
    {
     "name": "stderr",
     "output_type": "stream",
     "text": [
      "Warning message in split.default(x = seq_len(nrow(x)), f = f, drop = drop, ...):\n",
      "“data length is not a multiple of split variable”\n"
     ]
    },
    {
     "name": "stdout",
     "output_type": "stream",
     "text": [
      "[1] \"chr10\"\n"
     ]
    },
    {
     "name": "stderr",
     "output_type": "stream",
     "text": [
      "Warning message in split.default(x = seq_len(nrow(x)), f = f, drop = drop, ...):\n",
      "“data length is not a multiple of split variable”\n"
     ]
    },
    {
     "name": "stdout",
     "output_type": "stream",
     "text": [
      "[1] \"chr11\"\n"
     ]
    },
    {
     "name": "stderr",
     "output_type": "stream",
     "text": [
      "Warning message in split.default(x = seq_len(nrow(x)), f = f, drop = drop, ...):\n",
      "“data length is not a multiple of split variable”\n"
     ]
    },
    {
     "name": "stdout",
     "output_type": "stream",
     "text": [
      "[1] \"chr12\"\n"
     ]
    },
    {
     "name": "stderr",
     "output_type": "stream",
     "text": [
      "Warning message in split.default(x = seq_len(nrow(x)), f = f, drop = drop, ...):\n",
      "“data length is not a multiple of split variable”\n"
     ]
    },
    {
     "name": "stdout",
     "output_type": "stream",
     "text": [
      "[1] \"chr13\"\n",
      "[1] \"chr14\"\n"
     ]
    },
    {
     "name": "stderr",
     "output_type": "stream",
     "text": [
      "Warning message in split.default(x = seq_len(nrow(x)), f = f, drop = drop, ...):\n",
      "“data length is not a multiple of split variable”\n"
     ]
    },
    {
     "name": "stdout",
     "output_type": "stream",
     "text": [
      "[1] \"chr15\"\n"
     ]
    },
    {
     "name": "stderr",
     "output_type": "stream",
     "text": [
      "Warning message in split.default(x = seq_len(nrow(x)), f = f, drop = drop, ...):\n",
      "“data length is not a multiple of split variable”\n"
     ]
    },
    {
     "name": "stdout",
     "output_type": "stream",
     "text": [
      "[1] \"chr16\"\n"
     ]
    },
    {
     "name": "stderr",
     "output_type": "stream",
     "text": [
      "Warning message in split.default(x = seq_len(nrow(x)), f = f, drop = drop, ...):\n",
      "“data length is not a multiple of split variable”\n"
     ]
    },
    {
     "name": "stdout",
     "output_type": "stream",
     "text": [
      "[1] \"chr17\"\n"
     ]
    },
    {
     "name": "stderr",
     "output_type": "stream",
     "text": [
      "Warning message in split.default(x = seq_len(nrow(x)), f = f, drop = drop, ...):\n",
      "“data length is not a multiple of split variable”\n"
     ]
    },
    {
     "name": "stdout",
     "output_type": "stream",
     "text": [
      "[1] \"chr18\"\n"
     ]
    },
    {
     "name": "stderr",
     "output_type": "stream",
     "text": [
      "Warning message in split.default(x = seq_len(nrow(x)), f = f, drop = drop, ...):\n",
      "“data length is not a multiple of split variable”\n"
     ]
    },
    {
     "name": "stdout",
     "output_type": "stream",
     "text": [
      "[1] \"chr19\"\n"
     ]
    },
    {
     "name": "stderr",
     "output_type": "stream",
     "text": [
      "Warning message in split.default(x = seq_len(nrow(x)), f = f, drop = drop, ...):\n",
      "“data length is not a multiple of split variable”\n"
     ]
    },
    {
     "name": "stdout",
     "output_type": "stream",
     "text": [
      "[1] \"chr2\"\n"
     ]
    },
    {
     "name": "stderr",
     "output_type": "stream",
     "text": [
      "Warning message in split.default(x = seq_len(nrow(x)), f = f, drop = drop, ...):\n",
      "“data length is not a multiple of split variable”\n"
     ]
    },
    {
     "name": "stdout",
     "output_type": "stream",
     "text": [
      "[1] \"chr20\"\n"
     ]
    },
    {
     "name": "stderr",
     "output_type": "stream",
     "text": [
      "Warning message in split.default(x = seq_len(nrow(x)), f = f, drop = drop, ...):\n",
      "“data length is not a multiple of split variable”\n"
     ]
    },
    {
     "name": "stdout",
     "output_type": "stream",
     "text": [
      "[1] \"chr21\"\n"
     ]
    },
    {
     "name": "stderr",
     "output_type": "stream",
     "text": [
      "Warning message in split.default(x = seq_len(nrow(x)), f = f, drop = drop, ...):\n",
      "“data length is not a multiple of split variable”\n"
     ]
    },
    {
     "name": "stdout",
     "output_type": "stream",
     "text": [
      "[1] \"chr22\"\n"
     ]
    },
    {
     "name": "stderr",
     "output_type": "stream",
     "text": [
      "Warning message in split.default(x = seq_len(nrow(x)), f = f, drop = drop, ...):\n",
      "“data length is not a multiple of split variable”\n"
     ]
    }
   ],
   "source": [
    "for(chr.tmp in chr.run){\n",
    "  print(chr.tmp)\n",
    "  pairs.E2G.chr = pairs.E2G[seqnames(pairs.E2G) == chr.tmp]\n",
    "  pairs.E2G.chr.res = pairs.E2G.chr[!is.na(pairs.E2G.chr$boot_basic_p) & pairs.E2G.chr$boot_basic_p < 0.05]\n",
    "  pairs.E2G.chr.keep = pairs.E2G.chr[!pairs.E2G.chr$PairName %in% pairs.E2G.chr.res$PairName]\n",
    "  gene_peak.chr = as.data.frame(mcols(pairs.E2G.chr.res)[,c(\"TargetGene\",\"PeakName\")])\n",
    "  list.gene_peak.chr <- split(gene_peak.chr, seq_len(n.cores))\n",
    "  \n",
    "  list.obj.SCENT.chr <- lapply(list.gene_peak.chr, function(gene_peak.tmp) {\n",
    "    obj.SCENT.tmp <- CreateSCENTObj(\n",
    "      rna = matrix.rna.rename[rownames(matrix.rna.rename) %in% gene_peak.tmp$TargetGene,],\n",
    "      atac = matrix.atac[rownames(matrix.atac) %in% gene_peak.tmp$PeakName,], \n",
    "      meta.data = meta.data,\n",
    "      peak.info = gene_peak.tmp,\n",
    "      covariates = c(\"log.nUMI\",\"percent.mito\"), \n",
    "      celltypes = \"celltype\"\n",
    "    )\n",
    "  })\n",
    "  \n",
    "  cl <- makeCluster(n.cores)\n",
    "  clusterExport(cl, varlist=c(\"SCENT_algorithm.modified\"))\n",
    "  list.SCENT.result.chr <- parLapply(cl, list.obj.SCENT.chr, function(obj.SCENT.tmp) {\n",
    "    obj.SCENT.tmp <- SCENT_algorithm.modified(object = obj.SCENT.tmp)\n",
    "    return(obj.SCENT.tmp@SCENT.result)\n",
    "  })\n",
    "  stopCluster(cl)\n",
    "  \n",
    "  \n",
    "  df.SCENT.result.chr = do.call(rbind,list.SCENT.result.chr)\n",
    "  rownames(df.SCENT.result.chr) = paste(df.SCENT.result.chr$peak,\n",
    "                                        df.SCENT.result.chr$gene,\n",
    "                                        sep = \"_\")\n",
    "\n",
    "  pairs.E2G.chr.res = pairs.E2G.chr.res[pairs.E2G.chr.res$PairName %in% rownames(df.SCENT.result.chr)]\n",
    "  mcols(pairs.E2G.chr.res)[,c(\"beta\",\"se\",\"z\",\"p\",\"boot_basic_p\")] = \n",
    "    df.SCENT.result.chr[pairs.E2G.chr.res$PairName,c(\"beta\",\"se\",\"z\",\"p\",\"boot_basic_p\")]\n",
    "  pairs.E2G.chr.res$boot_basic_p.log10 = -log10(pairs.E2G.chr.res$boot_basic_p)\n",
    "  pairs.E2G.chr.res$sign = 1\n",
    "  pairs.E2G.chr.res$sign[pairs.E2G.chr.res$beta < 0] = -1\n",
    "  pairs.E2G.chr.res$boot_basic_p.log10.signed = pairs.E2G.chr.res$boot_basic_p.log10 * pairs.E2G.chr.res$sign\n",
    "  pairs.E2G.chr.merge = c(pairs.E2G.chr.res,\n",
    "                          pairs.E2G.chr.keep)\n",
    "  saveRDS(pairs.E2G.chr.merge,\n",
    "          paste(dir.output,\"chr\",chr.tmp,sep = \"/\"))\n",
    "  rm (pairs.E2G.chr.merge)\n",
    "}"
   ]
  },
  {
   "cell_type": "markdown",
   "id": "da9d1451-54e0-49e0-ae8b-cd0158115820",
   "metadata": {},
   "source": [
    "Merge results"
   ]
  },
  {
   "cell_type": "code",
   "execution_count": null,
   "id": "6b4278f1-7d9d-402f-95c6-f274a6befea3",
   "metadata": {},
   "outputs": [],
   "source": [
    "chr.merge = as.character(unique(seqnames(pairs.E2G)))\n",
    "list.res = list()\n",
    "for(chr.tmp in chr.merge){\n",
    "    list.res[[chr.tmp]] = readRDS(paste(dir.output,\"chr\",chr.tmp,sep = \"/\"))\n",
    "}\n",
    "pairs.E2G.res = unlist(as(list.res, \"GRangesList\"))"
   ]
  },
  {
   "cell_type": "markdown",
   "id": "00278bea-8baf-4ed0-93d5-1289f05fa36a",
   "metadata": {},
   "source": [
    "Save results"
   ]
  },
  {
   "cell_type": "code",
   "execution_count": null,
   "id": "48824f05-aedd-476c-88d6-ae58d1833fc9",
   "metadata": {},
   "outputs": [],
   "source": [
    "saveRDS(pairs.E2G.res,\n",
    "        paste(dir.output,\"pairs.E2G.res.rds\",sep = \"/\"))\n",
    "pairs.E2G.res"
   ]
  },
  {
   "cell_type": "code",
   "execution_count": null,
   "id": "2297128a-9ed6-42b8-90c7-459969fb5afd",
   "metadata": {},
   "outputs": [],
   "source": [
    "df.output = as.data.frame(pairs.E2G.res,row.names = NULL)\n",
    "colnames(df.output)[1] = \"chr\"\n",
    "df.output[,\"CellType\"] = celltype\n",
    "df.output = df.output[,c(\"chr\",\n",
    "                         \"start\",\n",
    "                         \"end\",\n",
    "                         \"TargetGene\",\n",
    "                         \"CellType\",\n",
    "                         \"beta\",\"se\",\"z\",\"p\",\"boot_basic_p\",\n",
    "                         \"boot_basic_p.log10\",\n",
    "                         \"sign\",\n",
    "                         \"boot_basic_p.log10.signed\")]\n",
    "df.output[,\"FDR\"] = p.adjust(df.output$boot_basic_p, method = \"BH\")\n",
    "data.table::fwrite(df.output,\n",
    "                   file = paste(dir.output,\"pairs.E2G.res.tsv.gz\",sep = \"/\"),\n",
    "                   row.names = F,\n",
    "                   quote = F,\n",
    "                   sep = \"\\t\")\n",
    "df.output"
   ]
  },
  {
   "cell_type": "code",
   "execution_count": null,
   "id": "4d77c58e-215a-408d-8495-c68c72f559c3",
   "metadata": {},
   "outputs": [],
   "source": [
    "sessionInfo()"
   ]
  },
  {
   "cell_type": "code",
   "execution_count": null,
   "id": "3c1a0283-11d6-4df1-bbd8-7b47e9e8ead8",
   "metadata": {},
   "outputs": [],
   "source": []
  }
 ],
 "metadata": {
  "kernelspec": {
   "display_name": "R",
   "language": "R",
   "name": "ir"
  },
  "language_info": {
   "codemirror_mode": "r",
   "file_extension": ".r",
   "mimetype": "text/x-r-source",
   "name": "R",
   "pygments_lexer": "r",
   "version": "4.3.3"
  }
 },
 "nbformat": 4,
 "nbformat_minor": 5
}
