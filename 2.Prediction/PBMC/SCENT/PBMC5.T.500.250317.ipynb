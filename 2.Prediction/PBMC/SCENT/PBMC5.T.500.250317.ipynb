{
 "cells": [
  {
   "cell_type": "code",
   "execution_count": 1,
   "id": "3a1e63f9-7479-4a30-83ea-381f1ecdbe50",
   "metadata": {},
   "outputs": [
    {
     "name": "stderr",
     "output_type": "stream",
     "text": [
      "Warning message:\n",
      "“replacing previous import ‘Hmisc::capitalize’ by ‘R.utils::capitalize’ when loading ‘SCENT’”\n",
      "Loading required package: grid\n",
      "\n",
      "Warning message:\n",
      "“replacing previous import ‘Biostrings::pattern’ by ‘grid::pattern’ when loading ‘genomation’”\n",
      "Loading required package: stats4\n",
      "\n",
      "Loading required package: BiocGenerics\n",
      "\n",
      "\n",
      "Attaching package: ‘BiocGenerics’\n",
      "\n",
      "\n",
      "The following objects are masked from ‘package:stats’:\n",
      "\n",
      "    IQR, mad, sd, var, xtabs\n",
      "\n",
      "\n",
      "The following objects are masked from ‘package:base’:\n",
      "\n",
      "    anyDuplicated, aperm, append, as.data.frame, basename, cbind,\n",
      "    colnames, dirname, do.call, duplicated, eval, evalq, Filter, Find,\n",
      "    get, grep, grepl, intersect, is.unsorted, lapply, Map, mapply,\n",
      "    match, mget, order, paste, pmax, pmax.int, pmin, pmin.int,\n",
      "    Position, rank, rbind, Reduce, rownames, sapply, setdiff, sort,\n",
      "    table, tapply, union, unique, unsplit, which.max, which.min\n",
      "\n",
      "\n",
      "Loading required package: S4Vectors\n",
      "\n",
      "\n",
      "Attaching package: ‘S4Vectors’\n",
      "\n",
      "\n",
      "The following object is masked from ‘package:utils’:\n",
      "\n",
      "    findMatches\n",
      "\n",
      "\n",
      "The following objects are masked from ‘package:base’:\n",
      "\n",
      "    expand.grid, I, unname\n",
      "\n",
      "\n",
      "Loading required package: IRanges\n",
      "\n",
      "Loading required package: GenomeInfoDb\n",
      "\n",
      "\n",
      "Attaching package: ‘Matrix’\n",
      "\n",
      "\n",
      "The following object is masked from ‘package:S4Vectors’:\n",
      "\n",
      "    expand\n",
      "\n",
      "\n",
      "\n",
      "Attaching package: ‘data.table’\n",
      "\n",
      "\n",
      "The following object is masked from ‘package:GenomicRanges’:\n",
      "\n",
      "    shift\n",
      "\n",
      "\n",
      "The following object is masked from ‘package:IRanges’:\n",
      "\n",
      "    shift\n",
      "\n",
      "\n",
      "The following objects are masked from ‘package:S4Vectors’:\n",
      "\n",
      "    first, second\n",
      "\n",
      "\n",
      "\n",
      "Attaching package: ‘dplyr’\n",
      "\n",
      "\n",
      "The following objects are masked from ‘package:data.table’:\n",
      "\n",
      "    between, first, last\n",
      "\n",
      "\n",
      "The following objects are masked from ‘package:GenomicRanges’:\n",
      "\n",
      "    intersect, setdiff, union\n",
      "\n",
      "\n",
      "The following object is masked from ‘package:GenomeInfoDb’:\n",
      "\n",
      "    intersect\n",
      "\n",
      "\n",
      "The following objects are masked from ‘package:IRanges’:\n",
      "\n",
      "    collapse, desc, intersect, setdiff, slice, union\n",
      "\n",
      "\n",
      "The following objects are masked from ‘package:S4Vectors’:\n",
      "\n",
      "    first, intersect, rename, setdiff, setequal, union\n",
      "\n",
      "\n",
      "The following objects are masked from ‘package:BiocGenerics’:\n",
      "\n",
      "    combine, intersect, setdiff, union\n",
      "\n",
      "\n",
      "The following objects are masked from ‘package:stats’:\n",
      "\n",
      "    filter, lag\n",
      "\n",
      "\n",
      "The following objects are masked from ‘package:base’:\n",
      "\n",
      "    intersect, setdiff, setequal, union\n",
      "\n",
      "\n"
     ]
    }
   ],
   "source": [
    "library(SCENT)\n",
    "library(Signac)\n",
    "library(genomation)\n",
    "library(GenomicRanges)\n",
    "library(Matrix)\n",
    "library(parallel)\n",
    "library(data.table)\n",
    "library(dplyr)"
   ]
  },
  {
   "cell_type": "markdown",
   "id": "d53f3774-52c3-4baa-b707-5b3a0450b130",
   "metadata": {},
   "source": [
    "Specify file path"
   ]
  },
  {
   "cell_type": "code",
   "execution_count": 2,
   "id": "0785f3fc-9913-428a-bea7-5710120c9328",
   "metadata": {},
   "outputs": [],
   "source": [
    "gene_gtf_path = \"/maps/projects/ralab/data/genome/hg38/gencode.v43.chr_patch_hapl_scaff.annotation.gtf\"\n",
    "abc_genes_path = \"/maps/projects/ralab_nnfc-AUDIT/people/lpm537/software/scE2G_pipeline/241203/scE2G/ENCODE_rE2G/ABC/reference/hg38/CollapsedGeneBounds.hg38.TSS500bp.bed\"\n",
    "path.pairs.E2G = \"/maps/projects/ralab_nnfc-AUDIT/people/lpm537/software/scE2G_pipeline/240617/sc-E2G/test/results/PBMC/T.multiome_7features/Kendall/Pairs.tsv.gz\"\n",
    "path.pairs.ABC = \"/maps/projects/ralab_nnfc-AUDIT/people/lpm537/software/scE2G_pipeline/240617/sc-E2G/test/results/PBMC/T.multiome_7features/Predictions/EnhancerPredictionsAllPutative.tsv.gz\"\n",
    "path.matrix.atac_count = \"/maps/projects/ralab_nnfc-AUDIT/people/lpm537/software/scE2G_pipeline/240617/sc-E2G/test/results/PBMC/T.multiome_7features/Kendall/atac_matrix.rds\"\n",
    "path.matrix.rna_count = \"/maps/projects/ralab_nnfc-AUDIT/people/lpm537/project/E2G/analysis/E2G_240503/data/PBMC/1.prepare_data/1.seurat_pipeline.240620/RNA_count_matrix/T.rna_count_matrix.csv.gz\"\n",
    "dir.output = \"/maps/projects/ralab_nnfc-AUDIT/people/lpm537/project/E2G/analysis/E2G_240503/data/PBMC/2.Genome_wide_prediction/SCENT/PBMC5.T.500.250317/\""
   ]
  },
  {
   "cell_type": "code",
   "execution_count": 3,
   "id": "500ba317-011f-4cab-834c-de750cb7f503",
   "metadata": {},
   "outputs": [],
   "source": [
    "n.cores = 16"
   ]
  },
  {
   "cell_type": "markdown",
   "id": "9c9cdab1-486b-4539-99d3-3cd5d1d99795",
   "metadata": {},
   "source": [
    "Import candidate E-G pairs"
   ]
  },
  {
   "cell_type": "code",
   "execution_count": 4,
   "id": "f5852d15-7e3f-412b-b137-7d29a6fb47b1",
   "metadata": {},
   "outputs": [],
   "source": [
    "pairs.E2G = readGeneric(path.pairs.E2G,\n",
    "                        header = T,\n",
    "                        keep.all.metadata = T)"
   ]
  },
  {
   "cell_type": "markdown",
   "id": "4b3c69d6-986b-4e10-9597-01c66d230c5c",
   "metadata": {},
   "source": [
    "Import ABC results"
   ]
  },
  {
   "cell_type": "code",
   "execution_count": 5,
   "id": "1fdcc2db-187f-45ee-89b4-288e8be29ee9",
   "metadata": {},
   "outputs": [],
   "source": [
    "pairs.ABC = readGeneric(path.pairs.ABC,\n",
    "                        header = T,\n",
    "                        keep.all.metadata = T)"
   ]
  },
  {
   "cell_type": "markdown",
   "id": "10424833-4e11-4191-a970-940bcc814764",
   "metadata": {},
   "source": [
    "Filter ABC results which distance < 1M"
   ]
  },
  {
   "cell_type": "code",
   "execution_count": 6,
   "id": "f08d2dec-83da-425a-aa70-aacb2d1c01a9",
   "metadata": {},
   "outputs": [],
   "source": [
    "pairs.ABC.1M = pairs.ABC[pairs.ABC$distance < 10^6]"
   ]
  },
  {
   "cell_type": "markdown",
   "id": "1ab4f035-0f58-4f32-9770-6765575f08a4",
   "metadata": {},
   "source": [
    "Filter E-G pairs overlaping with pairs.ABC.1M"
   ]
  },
  {
   "cell_type": "code",
   "execution_count": 7,
   "id": "46f640bb-a049-4bae-8362-485ec0d30858",
   "metadata": {},
   "outputs": [
    {
     "data": {
      "text/plain": [
       "GRanges object with 2715554 ranges and 3 metadata columns:\n",
       "            seqnames              ranges strand |  TargetGene\n",
       "               <Rle>           <IRanges>  <Rle> | <character>\n",
       "        [1]     chr1 100028350-100029533      * |         AGL\n",
       "        [2]     chr1 100028350-100029533      * |      CDC14A\n",
       "        [3]     chr1 100028350-100029533      * |         DBT\n",
       "        [4]     chr1 100028350-100029533      * |        DPH5\n",
       "        [5]     chr1 100028350-100029533      * |       EXTL2\n",
       "        ...      ...                 ...    ... .         ...\n",
       "  [2715550]     chrX     9995654-9996424      * |       TBL1X\n",
       "  [2715551]     chrX     9995654-9996424      * |        WWC3\n",
       "  [2715552]     chrX     9997597-9997892      * |       CLCN4\n",
       "  [2715553]     chrX     9997597-9997892      * |       TBL1X\n",
       "  [2715554]     chrX     9997597-9997892      * |        WWC3\n",
       "                          PeakName               PairName\n",
       "                       <character>            <character>\n",
       "        [1] chr1-100028350-10002.. chr1-100028350-10002..\n",
       "        [2] chr1-100028350-10002.. chr1-100028350-10002..\n",
       "        [3] chr1-100028350-10002.. chr1-100028350-10002..\n",
       "        [4] chr1-100028350-10002.. chr1-100028350-10002..\n",
       "        [5] chr1-100028350-10002.. chr1-100028350-10002..\n",
       "        ...                    ...                    ...\n",
       "  [2715550]   chrX-9995654-9996424 chrX-9995654-9996424..\n",
       "  [2715551]   chrX-9995654-9996424 chrX-9995654-9996424..\n",
       "  [2715552]   chrX-9997597-9997892 chrX-9997597-9997892..\n",
       "  [2715553]   chrX-9997597-9997892 chrX-9997597-9997892..\n",
       "  [2715554]   chrX-9997597-9997892 chrX-9997597-9997892..\n",
       "  -------\n",
       "  seqinfo: 23 sequences from an unspecified genome; no seqlengths"
      ]
     },
     "metadata": {},
     "output_type": "display_data"
    }
   ],
   "source": [
    "df.pairs.E2G.chr_rename = as.data.frame(pairs.E2G)[,1:3]\n",
    "df.pairs.E2G.chr_rename[,\"seqnames\"] = paste(seqnames(pairs.E2G),\n",
    "                                             mcols(pairs.E2G)[,\"TargetGene\"],\n",
    "                                             sep = \"_\")\n",
    "pairs.E2G.chr_rename = GRanges(df.pairs.E2G.chr_rename)\n",
    "rm(df.pairs.E2G.chr_rename)\n",
    "\n",
    "df.pairs.ABC.1M.chr_rename = as.data.frame(pairs.ABC.1M)[,1:3]\n",
    "df.pairs.ABC.1M.chr_rename[,\"seqnames\"] = paste(seqnames(pairs.ABC.1M),\n",
    "                                                mcols(pairs.ABC.1M)[,\"TargetGene\"],\n",
    "                                                sep = \"_\")\n",
    "pairs.ABC.1M.chr_rename = GRanges(df.pairs.ABC.1M.chr_rename)\n",
    "rm(df.pairs.ABC.1M.chr_rename)\n",
    "\n",
    "pairs.E2G.filter = pairs.E2G[countOverlaps(pairs.E2G.chr_rename,\n",
    "                                           pairs.ABC.1M.chr_rename) > 0]\n",
    "rm(pairs.E2G.chr_rename)\n",
    "rm(pairs.ABC.1M.chr_rename)\n",
    "pairs.E2G.filter"
   ]
  },
  {
   "cell_type": "markdown",
   "id": "bcdfac67-ce32-4d9a-8f4d-65dab644ec63",
   "metadata": {},
   "source": [
    "Import ATAC matrix"
   ]
  },
  {
   "cell_type": "code",
   "execution_count": 8,
   "id": "bd59feb4-3e33-4ebe-a107-f3b6d347a68e",
   "metadata": {},
   "outputs": [],
   "source": [
    "matrix.atac = readRDS(path.matrix.atac_count)\n",
    "matrix.atac = BinarizeCounts(matrix.atac)"
   ]
  },
  {
   "cell_type": "markdown",
   "id": "a0c5cb96-2fc4-42c4-a421-fe9a5ca537da",
   "metadata": {},
   "source": [
    "Import RNA matrix"
   ]
  },
  {
   "cell_type": "code",
   "execution_count": 9,
   "id": "96e10e90-9400-4cfe-bc7b-46a7eaee1fcd",
   "metadata": {},
   "outputs": [],
   "source": [
    "matrix.rna = read.csv(path.matrix.rna_count,\n",
    "                      row.names = 1,\n",
    "                      check.names = F)\n",
    "matrix.rna = Matrix(as.matrix(matrix.rna), sparse = TRUE)\n",
    "matrix.rna = matrix.rna[,colnames(matrix.atac)]\n",
    "matrix.rna = matrix.rna[rowSums(matrix.rna) > 0,]"
   ]
  },
  {
   "cell_type": "markdown",
   "id": "62718ef8-a3bd-4755-a95f-be216f16517b",
   "metadata": {},
   "source": [
    "Map gene names"
   ]
  },
  {
   "cell_type": "code",
   "execution_count": 10,
   "id": "0f255a65-03a4-4255-967e-0c644bfe66cd",
   "metadata": {},
   "outputs": [],
   "source": [
    "extract_attributes <- function(gtf_attributes, att_of_interest){\n",
    "  att <- unlist(strsplit(gtf_attributes, \" \"))\n",
    "  if(att_of_interest %in% att){\n",
    "    return(gsub(\"\\\"|;\",\"\", att[which(att %in% att_of_interest)+1]))\n",
    "  } else {\n",
    "    return(NA)}\n",
    "}\n",
    "map_gene_names <- function(rna_matrix, gene_gtf_path, abc_genes_path){\n",
    "\tgene_ref <- fread(gene_gtf_path, header = FALSE, sep = \"\\t\") %>%\n",
    "\t\tsetNames(c(\"chr\",\"source\",\"type\",\"start\",\"end\",\"score\",\"strand\",\"phase\",\"attributes\")) %>%\n",
    "\t\tdplyr::filter(type == \"gene\")\n",
    "\tgene_ref$gene_ref_name <- unlist(lapply(gene_ref$attributes, extract_attributes, \"gene_name\"))\n",
    "\tgene_ref$Ensembl_ID <- unlist(lapply(gene_ref$attributes, extract_attributes, \"gene_id\"))\n",
    "\tgene_ref <- dplyr::select(gene_ref, gene_ref_name, Ensembl_ID) %>%\n",
    "\t\tmutate(Ensembl_ID = sub(\"\\\\.\\\\d+$\", \"\", Ensembl_ID)) %>% # remove decimal digits \n",
    "\t\tdistinct()\n",
    "\t\n",
    "\tabc_genes <- fread(abc_genes_path, col.names = c(\"chr\", \"start\", \"end\", \"name\", \"score\", \"strand\", \"Ensembl_ID\", \"gene_type\")) %>%\n",
    "\t\tdplyr::select(name, Ensembl_ID) %>%\n",
    "\t\trename(abc_name = name) %>%\n",
    "\t\tleft_join(gene_ref, by = \"Ensembl_ID\") %>%\n",
    "\t\tgroup_by(Ensembl_ID) %>% # remove cases where multiple genes map to one ensembl ID\n",
    "\t\tfilter(n() == 1) %>%\n",
    "\t\tungroup()\n",
    "\n",
    "\tgene_key <- abc_genes$abc_name\n",
    "\tnames(gene_key) <- abc_genes$gene_ref_name\n",
    "\n",
    "\t# remove genes not in our gene universe\t\n",
    "\trow_sub <- intersect(rownames(rna_matrix), names(gene_key)) # gene ref names\n",
    "\trna_matrix_filt <- rna_matrix[row_sub,] # still gene ref names\n",
    "\trownames(rna_matrix_filt) <- gene_key[row_sub] # converted to abc names\n",
    "\n",
    "\treturn(rna_matrix_filt)\n",
    "}"
   ]
  },
  {
   "cell_type": "code",
   "execution_count": 11,
   "id": "ca760678-9db9-418e-b7ac-29984eddad7e",
   "metadata": {},
   "outputs": [],
   "source": [
    "matrix.rna.rename = map_gene_names(matrix.rna,gene_gtf_path, abc_genes_path)"
   ]
  },
  {
   "cell_type": "code",
   "execution_count": 12,
   "id": "0c8225d7-5216-4cc1-827e-bbb22c53f9fc",
   "metadata": {},
   "outputs": [],
   "source": [
    "pairs.E2G.filter2 = pairs.E2G.filter[pairs.E2G.filter$TargetGene %in% rownames(matrix.rna.rename) &\n",
    "                                     pairs.E2G.filter$PeakName %in% rownames(matrix.atac)]"
   ]
  },
  {
   "cell_type": "markdown",
   "id": "b16f7d5b-eabd-4e93-b8cd-f19a54df21f2",
   "metadata": {},
   "source": [
    "Prepare SCENT meta data"
   ]
  },
  {
   "cell_type": "code",
   "execution_count": 13,
   "id": "827059dd-6885-441e-973e-d7c49e5fd534",
   "metadata": {},
   "outputs": [
    {
     "data": {
      "text/html": [
       "<table class=\"dataframe\">\n",
       "<caption>A data.frame: 11045 × 6</caption>\n",
       "<thead>\n",
       "\t<tr><th></th><th scope=col>cell</th><th scope=col>nUMI</th><th scope=col>nMito</th><th scope=col>celltype</th><th scope=col>log.nUMI</th><th scope=col>percent.mito</th></tr>\n",
       "\t<tr><th></th><th scope=col>&lt;chr&gt;</th><th scope=col>&lt;dbl&gt;</th><th scope=col>&lt;dbl&gt;</th><th scope=col>&lt;chr&gt;</th><th scope=col>&lt;dbl&gt;</th><th scope=col>&lt;dbl&gt;</th></tr>\n",
       "</thead>\n",
       "<tbody>\n",
       "\t<tr><th scope=row>Multiome10x_05_AAACAGCCAGGACACA-1</th><td>Multiome10x_05_AAACAGCCAGGACACA-1</td><td>1134</td><td>139</td><td>K562</td><td>7.033506</td><td>0.12257496</td></tr>\n",
       "\t<tr><th scope=row>Multiome10x_05_AAACATGCACTTGTTC-1</th><td>Multiome10x_05_AAACATGCACTTGTTC-1</td><td>2814</td><td>235</td><td>K562</td><td>7.942362</td><td>0.08351102</td></tr>\n",
       "\t<tr><th scope=row>Multiome10x_05_AAACATGCAGGCTTGT-1</th><td>Multiome10x_05_AAACATGCAGGCTTGT-1</td><td>7020</td><td>693</td><td>K562</td><td>8.856518</td><td>0.09871795</td></tr>\n",
       "\t<tr><th scope=row>Multiome10x_05_AAACATGCAGGTTACC-1</th><td>Multiome10x_05_AAACATGCAGGTTACC-1</td><td>3459</td><td>278</td><td>K562</td><td>8.148735</td><td>0.08037005</td></tr>\n",
       "\t<tr><th scope=row>Multiome10x_05_AAACATGCATGAATAG-1</th><td>Multiome10x_05_AAACATGCATGAATAG-1</td><td>1901</td><td>122</td><td>K562</td><td>7.550135</td><td>0.06417675</td></tr>\n",
       "\t<tr><th scope=row>Multiome10x_05_AAACATGCATGCATAT-1</th><td>Multiome10x_05_AAACATGCATGCATAT-1</td><td>1331</td><td>171</td><td>K562</td><td>7.193686</td><td>0.12847483</td></tr>\n",
       "\t<tr><th scope=row>Multiome10x_05_AAACATGCATTGTTGG-1</th><td>Multiome10x_05_AAACATGCATTGTTGG-1</td><td>2695</td><td>163</td><td>K562</td><td>7.899153</td><td>0.06048237</td></tr>\n",
       "\t<tr><th scope=row>Multiome10x_05_AAACCAACATGTCAAT-1</th><td>Multiome10x_05_AAACCAACATGTCAAT-1</td><td>2019</td><td>122</td><td>K562</td><td>7.610358</td><td>0.06042595</td></tr>\n",
       "\t<tr><th scope=row>Multiome10x_05_AAACCGAAGAGAAGGG-1</th><td>Multiome10x_05_AAACCGAAGAGAAGGG-1</td><td>1582</td><td> 24</td><td>K562</td><td>7.366445</td><td>0.01517067</td></tr>\n",
       "\t<tr><th scope=row>Multiome10x_05_AAACCGAAGCACTTGG-1</th><td>Multiome10x_05_AAACCGAAGCACTTGG-1</td><td>3449</td><td>229</td><td>K562</td><td>8.145840</td><td>0.06639606</td></tr>\n",
       "\t<tr><th scope=row>Multiome10x_05_AAACCGAAGCCAAATC-1</th><td>Multiome10x_05_AAACCGAAGCCAAATC-1</td><td>3135</td><td>360</td><td>K562</td><td>8.050384</td><td>0.11483254</td></tr>\n",
       "\t<tr><th scope=row>Multiome10x_05_AAACCGAAGCTGGCTA-1</th><td>Multiome10x_05_AAACCGAAGCTGGCTA-1</td><td>1802</td><td>196</td><td>K562</td><td>7.496652</td><td>0.10876804</td></tr>\n",
       "\t<tr><th scope=row>Multiome10x_05_AAACCGAAGGACCGCT-1</th><td>Multiome10x_05_AAACCGAAGGACCGCT-1</td><td>2147</td><td>162</td><td>K562</td><td>7.671827</td><td>0.07545412</td></tr>\n",
       "\t<tr><th scope=row>Multiome10x_05_AAACCGAAGTAATCCA-1</th><td>Multiome10x_05_AAACCGAAGTAATCCA-1</td><td>1872</td><td>192</td><td>K562</td><td>7.534763</td><td>0.10256410</td></tr>\n",
       "\t<tr><th scope=row>Multiome10x_05_AAACCGCGTAAAGCGG-1</th><td>Multiome10x_05_AAACCGCGTAAAGCGG-1</td><td>2141</td><td>222</td><td>K562</td><td>7.669028</td><td>0.10368986</td></tr>\n",
       "\t<tr><th scope=row>Multiome10x_05_AAACCGCGTAATCGCA-1</th><td>Multiome10x_05_AAACCGCGTAATCGCA-1</td><td>2118</td><td>214</td><td>K562</td><td>7.658228</td><td>0.10103872</td></tr>\n",
       "\t<tr><th scope=row>Multiome10x_05_AAACCGCGTGCATCGG-1</th><td>Multiome10x_05_AAACCGCGTGCATCGG-1</td><td>2322</td><td>209</td><td>K562</td><td>7.750184</td><td>0.09000861</td></tr>\n",
       "\t<tr><th scope=row>Multiome10x_05_AAACCGCGTGCTAGAC-1</th><td>Multiome10x_05_AAACCGCGTGCTAGAC-1</td><td>3509</td><td>310</td><td>K562</td><td>8.163086</td><td>0.08834426</td></tr>\n",
       "\t<tr><th scope=row>Multiome10x_05_AAACCGCGTTGCGCGA-1</th><td>Multiome10x_05_AAACCGCGTTGCGCGA-1</td><td>2296</td><td>305</td><td>K562</td><td>7.738924</td><td>0.13283972</td></tr>\n",
       "\t<tr><th scope=row>Multiome10x_05_AAACCGCGTTTCGCGC-1</th><td>Multiome10x_05_AAACCGCGTTTCGCGC-1</td><td>2241</td><td>273</td><td>K562</td><td>7.714677</td><td>0.12182062</td></tr>\n",
       "\t<tr><th scope=row>Multiome10x_05_AAACCGGCACTAAGCC-1</th><td>Multiome10x_05_AAACCGGCACTAAGCC-1</td><td>3183</td><td>375</td><td>K562</td><td>8.065579</td><td>0.11781338</td></tr>\n",
       "\t<tr><th scope=row>Multiome10x_05_AAACCGGCAGCTTAAT-1</th><td>Multiome10x_05_AAACCGGCAGCTTAAT-1</td><td>2336</td><td>222</td><td>K562</td><td>7.756195</td><td>0.09503425</td></tr>\n",
       "\t<tr><th scope=row>Multiome10x_05_AAACCGGCATTGTTGG-1</th><td>Multiome10x_05_AAACCGGCATTGTTGG-1</td><td>3309</td><td>352</td><td>K562</td><td>8.104401</td><td>0.10637655</td></tr>\n",
       "\t<tr><th scope=row>Multiome10x_05_AAACGCGCATGCTTAG-1</th><td>Multiome10x_05_AAACGCGCATGCTTAG-1</td><td>2150</td><td>131</td><td>K562</td><td>7.673223</td><td>0.06093023</td></tr>\n",
       "\t<tr><th scope=row>Multiome10x_05_AAACGCGCATTCCTGT-1</th><td>Multiome10x_05_AAACGCGCATTCCTGT-1</td><td>2956</td><td>157</td><td>K562</td><td>7.991592</td><td>0.05311231</td></tr>\n",
       "\t<tr><th scope=row>Multiome10x_05_AAACGGATCAAAGGCA-1</th><td>Multiome10x_05_AAACGGATCAAAGGCA-1</td><td>2588</td><td>237</td><td>K562</td><td>7.858641</td><td>0.09157651</td></tr>\n",
       "\t<tr><th scope=row>Multiome10x_05_AAACGGATCCGTCCAT-1</th><td>Multiome10x_05_AAACGGATCCGTCCAT-1</td><td>3075</td><td>359</td><td>K562</td><td>8.031060</td><td>0.11674797</td></tr>\n",
       "\t<tr><th scope=row>Multiome10x_05_AAACGGATCCTCATCA-1</th><td>Multiome10x_05_AAACGGATCCTCATCA-1</td><td>2464</td><td>182</td><td>K562</td><td>7.809541</td><td>0.07386364</td></tr>\n",
       "\t<tr><th scope=row>Multiome10x_05_AAACGGATCGCTAGAT-1</th><td>Multiome10x_05_AAACGGATCGCTAGAT-1</td><td>1694</td><td>149</td><td>K562</td><td>7.434848</td><td>0.08795750</td></tr>\n",
       "\t<tr><th scope=row>Multiome10x_05_AAACGGATCGCTATGG-1</th><td>Multiome10x_05_AAACGGATCGCTATGG-1</td><td>1790</td><td>143</td><td>K562</td><td>7.489971</td><td>0.07988827</td></tr>\n",
       "\t<tr><th scope=row>⋮</th><td>⋮</td><td>⋮</td><td>⋮</td><td>⋮</td><td>⋮</td><td>⋮</td></tr>\n",
       "\t<tr><th scope=row>Multiome10x_06_TTTGCATTCGGTCAGC-1</th><td>Multiome10x_06_TTTGCATTCGGTCAGC-1</td><td>4927</td><td>438</td><td>K562</td><td>8.502486</td><td>0.08889791</td></tr>\n",
       "\t<tr><th scope=row>Multiome10x_06_TTTGCGACATTGCGGT-1</th><td>Multiome10x_06_TTTGCGACATTGCGGT-1</td><td>2676</td><td>169</td><td>K562</td><td>7.892078</td><td>0.06315396</td></tr>\n",
       "\t<tr><th scope=row>Multiome10x_06_TTTGCGACATTGTGTG-1</th><td>Multiome10x_06_TTTGCGACATTGTGTG-1</td><td>3133</td><td>342</td><td>K562</td><td>8.049746</td><td>0.10916055</td></tr>\n",
       "\t<tr><th scope=row>Multiome10x_06_TTTGCGGAGAAACTGG-1</th><td>Multiome10x_06_TTTGCGGAGAAACTGG-1</td><td>3097</td><td>382</td><td>K562</td><td>8.038189</td><td>0.12334517</td></tr>\n",
       "\t<tr><th scope=row>Multiome10x_06_TTTGCGGAGCATGTTA-1</th><td>Multiome10x_06_TTTGCGGAGCATGTTA-1</td><td>2728</td><td>159</td><td>K562</td><td>7.911324</td><td>0.05828446</td></tr>\n",
       "\t<tr><th scope=row>Multiome10x_06_TTTGCGGAGCCTGGTA-1</th><td>Multiome10x_06_TTTGCGGAGCCTGGTA-1</td><td>2543</td><td>249</td><td>K562</td><td>7.841100</td><td>0.09791585</td></tr>\n",
       "\t<tr><th scope=row>Multiome10x_06_TTTGCGGAGGAACCAA-1</th><td>Multiome10x_06_TTTGCGGAGGAACCAA-1</td><td>2383</td><td>261</td><td>K562</td><td>7.776115</td><td>0.10952581</td></tr>\n",
       "\t<tr><th scope=row>Multiome10x_06_TTTGGCTGTAGTTGGC-1</th><td>Multiome10x_06_TTTGGCTGTAGTTGGC-1</td><td>2535</td><td>174</td><td>K562</td><td>7.837949</td><td>0.06863905</td></tr>\n",
       "\t<tr><th scope=row>Multiome10x_06_TTTGGTAAGAACCTAC-1</th><td>Multiome10x_06_TTTGGTAAGAACCTAC-1</td><td>8255</td><td>890</td><td>K562</td><td>9.018574</td><td>0.10781345</td></tr>\n",
       "\t<tr><th scope=row>Multiome10x_06_TTTGGTAAGCCTGATG-1</th><td>Multiome10x_06_TTTGGTAAGCCTGATG-1</td><td>3241</td><td>346</td><td>K562</td><td>8.083637</td><td>0.10675717</td></tr>\n",
       "\t<tr><th scope=row>Multiome10x_06_TTTGGTAAGGAGCAAC-1</th><td>Multiome10x_06_TTTGGTAAGGAGCAAC-1</td><td>4406</td><td>393</td><td>K562</td><td>8.390723</td><td>0.08919655</td></tr>\n",
       "\t<tr><th scope=row>Multiome10x_06_TTTGGTGCAAAGGTAC-1</th><td>Multiome10x_06_TTTGGTGCAAAGGTAC-1</td><td>3716</td><td>487</td><td>K562</td><td>8.220403</td><td>0.13105490</td></tr>\n",
       "\t<tr><th scope=row>Multiome10x_06_TTTGGTGCACAATTAC-1</th><td>Multiome10x_06_TTTGGTGCACAATTAC-1</td><td>2341</td><td>187</td><td>K562</td><td>7.758333</td><td>0.07988039</td></tr>\n",
       "\t<tr><th scope=row>Multiome10x_06_TTTGGTGCACAGACTC-1</th><td>Multiome10x_06_TTTGGTGCACAGACTC-1</td><td>3014</td><td>204</td><td>K562</td><td>8.011023</td><td>0.06768414</td></tr>\n",
       "\t<tr><th scope=row>Multiome10x_06_TTTGTCCCATCCATCT-1</th><td>Multiome10x_06_TTTGTCCCATCCATCT-1</td><td>4782</td><td>395</td><td>K562</td><td>8.472614</td><td>0.08260142</td></tr>\n",
       "\t<tr><th scope=row>Multiome10x_06_TTTGTCCCATGCATAT-1</th><td>Multiome10x_06_TTTGTCCCATGCATAT-1</td><td>2481</td><td>175</td><td>K562</td><td>7.816417</td><td>0.07053607</td></tr>\n",
       "\t<tr><th scope=row>Multiome10x_06_TTTGTCTAGACTTACA-1</th><td>Multiome10x_06_TTTGTCTAGACTTACA-1</td><td>3043</td><td>159</td><td>K562</td><td>8.020599</td><td>0.05225107</td></tr>\n",
       "\t<tr><th scope=row>Multiome10x_06_TTTGTCTAGGTAACGA-1</th><td>Multiome10x_06_TTTGTCTAGGTAACGA-1</td><td>3187</td><td>168</td><td>K562</td><td>8.066835</td><td>0.05271415</td></tr>\n",
       "\t<tr><th scope=row>Multiome10x_06_TTTGTGAAGAGAGGCT-1</th><td>Multiome10x_06_TTTGTGAAGAGAGGCT-1</td><td>3709</td><td>628</td><td>K562</td><td>8.218518</td><td>0.16931788</td></tr>\n",
       "\t<tr><th scope=row>Multiome10x_06_TTTGTGAAGCAAGACA-1</th><td>Multiome10x_06_TTTGTGAAGCAAGACA-1</td><td>2986</td><td>274</td><td>K562</td><td>8.001690</td><td>0.09176155</td></tr>\n",
       "\t<tr><th scope=row>Multiome10x_06_TTTGTGAAGCATTTCT-1</th><td>Multiome10x_06_TTTGTGAAGCATTTCT-1</td><td>2936</td><td>241</td><td>K562</td><td>7.984803</td><td>0.08208447</td></tr>\n",
       "\t<tr><th scope=row>Multiome10x_06_TTTGTGAAGCTATGAC-1</th><td>Multiome10x_06_TTTGTGAAGCTATGAC-1</td><td>4037</td><td>295</td><td>K562</td><td>8.303257</td><td>0.07307406</td></tr>\n",
       "\t<tr><th scope=row>Multiome10x_06_TTTGTGAAGTGAACGA-1</th><td>Multiome10x_06_TTTGTGAAGTGAACGA-1</td><td>2254</td><td>124</td><td>K562</td><td>7.720462</td><td>0.05501331</td></tr>\n",
       "\t<tr><th scope=row>Multiome10x_06_TTTGTGAAGTTGCCTC-1</th><td>Multiome10x_06_TTTGTGAAGTTGCCTC-1</td><td>2889</td><td>191</td><td>K562</td><td>7.968666</td><td>0.06611284</td></tr>\n",
       "\t<tr><th scope=row>Multiome10x_06_TTTGTGGCACGAACAG-1</th><td>Multiome10x_06_TTTGTGGCACGAACAG-1</td><td>2386</td><td>222</td><td>K562</td><td>7.777374</td><td>0.09304275</td></tr>\n",
       "\t<tr><th scope=row>Multiome10x_06_TTTGTGGCAGTTTGTG-1</th><td>Multiome10x_06_TTTGTGGCAGTTTGTG-1</td><td>2818</td><td>300</td><td>K562</td><td>7.943783</td><td>0.10645848</td></tr>\n",
       "\t<tr><th scope=row>Multiome10x_06_TTTGTGGCATTAAACC-1</th><td>Multiome10x_06_TTTGTGGCATTAAACC-1</td><td>2844</td><td>166</td><td>K562</td><td>7.952967</td><td>0.05836850</td></tr>\n",
       "\t<tr><th scope=row>Multiome10x_06_TTTGTGGCATTGCGTA-1</th><td>Multiome10x_06_TTTGTGGCATTGCGTA-1</td><td>1743</td><td>101</td><td>K562</td><td>7.463363</td><td>0.05794607</td></tr>\n",
       "\t<tr><th scope=row>Multiome10x_06_TTTGTGTTCAAGCGCC-1</th><td>Multiome10x_06_TTTGTGTTCAAGCGCC-1</td><td>2158</td><td>153</td><td>K562</td><td>7.676937</td><td>0.07089898</td></tr>\n",
       "\t<tr><th scope=row>Multiome10x_06_TTTGTTGGTACCCACC-1</th><td>Multiome10x_06_TTTGTTGGTACCCACC-1</td><td>3316</td><td>337</td><td>K562</td><td>8.106515</td><td>0.10162847</td></tr>\n",
       "</tbody>\n",
       "</table>\n"
      ],
      "text/latex": [
       "A data.frame: 11045 × 6\n",
       "\\begin{tabular}{r|llllll}\n",
       "  & cell & nUMI & nMito & celltype & log.nUMI & percent.mito\\\\\n",
       "  & <chr> & <dbl> & <dbl> & <chr> & <dbl> & <dbl>\\\\\n",
       "\\hline\n",
       "\tMultiome10x\\_05\\_AAACAGCCAGGACACA-1 & Multiome10x\\_05\\_AAACAGCCAGGACACA-1 & 1134 & 139 & K562 & 7.033506 & 0.12257496\\\\\n",
       "\tMultiome10x\\_05\\_AAACATGCACTTGTTC-1 & Multiome10x\\_05\\_AAACATGCACTTGTTC-1 & 2814 & 235 & K562 & 7.942362 & 0.08351102\\\\\n",
       "\tMultiome10x\\_05\\_AAACATGCAGGCTTGT-1 & Multiome10x\\_05\\_AAACATGCAGGCTTGT-1 & 7020 & 693 & K562 & 8.856518 & 0.09871795\\\\\n",
       "\tMultiome10x\\_05\\_AAACATGCAGGTTACC-1 & Multiome10x\\_05\\_AAACATGCAGGTTACC-1 & 3459 & 278 & K562 & 8.148735 & 0.08037005\\\\\n",
       "\tMultiome10x\\_05\\_AAACATGCATGAATAG-1 & Multiome10x\\_05\\_AAACATGCATGAATAG-1 & 1901 & 122 & K562 & 7.550135 & 0.06417675\\\\\n",
       "\tMultiome10x\\_05\\_AAACATGCATGCATAT-1 & Multiome10x\\_05\\_AAACATGCATGCATAT-1 & 1331 & 171 & K562 & 7.193686 & 0.12847483\\\\\n",
       "\tMultiome10x\\_05\\_AAACATGCATTGTTGG-1 & Multiome10x\\_05\\_AAACATGCATTGTTGG-1 & 2695 & 163 & K562 & 7.899153 & 0.06048237\\\\\n",
       "\tMultiome10x\\_05\\_AAACCAACATGTCAAT-1 & Multiome10x\\_05\\_AAACCAACATGTCAAT-1 & 2019 & 122 & K562 & 7.610358 & 0.06042595\\\\\n",
       "\tMultiome10x\\_05\\_AAACCGAAGAGAAGGG-1 & Multiome10x\\_05\\_AAACCGAAGAGAAGGG-1 & 1582 &  24 & K562 & 7.366445 & 0.01517067\\\\\n",
       "\tMultiome10x\\_05\\_AAACCGAAGCACTTGG-1 & Multiome10x\\_05\\_AAACCGAAGCACTTGG-1 & 3449 & 229 & K562 & 8.145840 & 0.06639606\\\\\n",
       "\tMultiome10x\\_05\\_AAACCGAAGCCAAATC-1 & Multiome10x\\_05\\_AAACCGAAGCCAAATC-1 & 3135 & 360 & K562 & 8.050384 & 0.11483254\\\\\n",
       "\tMultiome10x\\_05\\_AAACCGAAGCTGGCTA-1 & Multiome10x\\_05\\_AAACCGAAGCTGGCTA-1 & 1802 & 196 & K562 & 7.496652 & 0.10876804\\\\\n",
       "\tMultiome10x\\_05\\_AAACCGAAGGACCGCT-1 & Multiome10x\\_05\\_AAACCGAAGGACCGCT-1 & 2147 & 162 & K562 & 7.671827 & 0.07545412\\\\\n",
       "\tMultiome10x\\_05\\_AAACCGAAGTAATCCA-1 & Multiome10x\\_05\\_AAACCGAAGTAATCCA-1 & 1872 & 192 & K562 & 7.534763 & 0.10256410\\\\\n",
       "\tMultiome10x\\_05\\_AAACCGCGTAAAGCGG-1 & Multiome10x\\_05\\_AAACCGCGTAAAGCGG-1 & 2141 & 222 & K562 & 7.669028 & 0.10368986\\\\\n",
       "\tMultiome10x\\_05\\_AAACCGCGTAATCGCA-1 & Multiome10x\\_05\\_AAACCGCGTAATCGCA-1 & 2118 & 214 & K562 & 7.658228 & 0.10103872\\\\\n",
       "\tMultiome10x\\_05\\_AAACCGCGTGCATCGG-1 & Multiome10x\\_05\\_AAACCGCGTGCATCGG-1 & 2322 & 209 & K562 & 7.750184 & 0.09000861\\\\\n",
       "\tMultiome10x\\_05\\_AAACCGCGTGCTAGAC-1 & Multiome10x\\_05\\_AAACCGCGTGCTAGAC-1 & 3509 & 310 & K562 & 8.163086 & 0.08834426\\\\\n",
       "\tMultiome10x\\_05\\_AAACCGCGTTGCGCGA-1 & Multiome10x\\_05\\_AAACCGCGTTGCGCGA-1 & 2296 & 305 & K562 & 7.738924 & 0.13283972\\\\\n",
       "\tMultiome10x\\_05\\_AAACCGCGTTTCGCGC-1 & Multiome10x\\_05\\_AAACCGCGTTTCGCGC-1 & 2241 & 273 & K562 & 7.714677 & 0.12182062\\\\\n",
       "\tMultiome10x\\_05\\_AAACCGGCACTAAGCC-1 & Multiome10x\\_05\\_AAACCGGCACTAAGCC-1 & 3183 & 375 & K562 & 8.065579 & 0.11781338\\\\\n",
       "\tMultiome10x\\_05\\_AAACCGGCAGCTTAAT-1 & Multiome10x\\_05\\_AAACCGGCAGCTTAAT-1 & 2336 & 222 & K562 & 7.756195 & 0.09503425\\\\\n",
       "\tMultiome10x\\_05\\_AAACCGGCATTGTTGG-1 & Multiome10x\\_05\\_AAACCGGCATTGTTGG-1 & 3309 & 352 & K562 & 8.104401 & 0.10637655\\\\\n",
       "\tMultiome10x\\_05\\_AAACGCGCATGCTTAG-1 & Multiome10x\\_05\\_AAACGCGCATGCTTAG-1 & 2150 & 131 & K562 & 7.673223 & 0.06093023\\\\\n",
       "\tMultiome10x\\_05\\_AAACGCGCATTCCTGT-1 & Multiome10x\\_05\\_AAACGCGCATTCCTGT-1 & 2956 & 157 & K562 & 7.991592 & 0.05311231\\\\\n",
       "\tMultiome10x\\_05\\_AAACGGATCAAAGGCA-1 & Multiome10x\\_05\\_AAACGGATCAAAGGCA-1 & 2588 & 237 & K562 & 7.858641 & 0.09157651\\\\\n",
       "\tMultiome10x\\_05\\_AAACGGATCCGTCCAT-1 & Multiome10x\\_05\\_AAACGGATCCGTCCAT-1 & 3075 & 359 & K562 & 8.031060 & 0.11674797\\\\\n",
       "\tMultiome10x\\_05\\_AAACGGATCCTCATCA-1 & Multiome10x\\_05\\_AAACGGATCCTCATCA-1 & 2464 & 182 & K562 & 7.809541 & 0.07386364\\\\\n",
       "\tMultiome10x\\_05\\_AAACGGATCGCTAGAT-1 & Multiome10x\\_05\\_AAACGGATCGCTAGAT-1 & 1694 & 149 & K562 & 7.434848 & 0.08795750\\\\\n",
       "\tMultiome10x\\_05\\_AAACGGATCGCTATGG-1 & Multiome10x\\_05\\_AAACGGATCGCTATGG-1 & 1790 & 143 & K562 & 7.489971 & 0.07988827\\\\\n",
       "\t⋮ & ⋮ & ⋮ & ⋮ & ⋮ & ⋮ & ⋮\\\\\n",
       "\tMultiome10x\\_06\\_TTTGCATTCGGTCAGC-1 & Multiome10x\\_06\\_TTTGCATTCGGTCAGC-1 & 4927 & 438 & K562 & 8.502486 & 0.08889791\\\\\n",
       "\tMultiome10x\\_06\\_TTTGCGACATTGCGGT-1 & Multiome10x\\_06\\_TTTGCGACATTGCGGT-1 & 2676 & 169 & K562 & 7.892078 & 0.06315396\\\\\n",
       "\tMultiome10x\\_06\\_TTTGCGACATTGTGTG-1 & Multiome10x\\_06\\_TTTGCGACATTGTGTG-1 & 3133 & 342 & K562 & 8.049746 & 0.10916055\\\\\n",
       "\tMultiome10x\\_06\\_TTTGCGGAGAAACTGG-1 & Multiome10x\\_06\\_TTTGCGGAGAAACTGG-1 & 3097 & 382 & K562 & 8.038189 & 0.12334517\\\\\n",
       "\tMultiome10x\\_06\\_TTTGCGGAGCATGTTA-1 & Multiome10x\\_06\\_TTTGCGGAGCATGTTA-1 & 2728 & 159 & K562 & 7.911324 & 0.05828446\\\\\n",
       "\tMultiome10x\\_06\\_TTTGCGGAGCCTGGTA-1 & Multiome10x\\_06\\_TTTGCGGAGCCTGGTA-1 & 2543 & 249 & K562 & 7.841100 & 0.09791585\\\\\n",
       "\tMultiome10x\\_06\\_TTTGCGGAGGAACCAA-1 & Multiome10x\\_06\\_TTTGCGGAGGAACCAA-1 & 2383 & 261 & K562 & 7.776115 & 0.10952581\\\\\n",
       "\tMultiome10x\\_06\\_TTTGGCTGTAGTTGGC-1 & Multiome10x\\_06\\_TTTGGCTGTAGTTGGC-1 & 2535 & 174 & K562 & 7.837949 & 0.06863905\\\\\n",
       "\tMultiome10x\\_06\\_TTTGGTAAGAACCTAC-1 & Multiome10x\\_06\\_TTTGGTAAGAACCTAC-1 & 8255 & 890 & K562 & 9.018574 & 0.10781345\\\\\n",
       "\tMultiome10x\\_06\\_TTTGGTAAGCCTGATG-1 & Multiome10x\\_06\\_TTTGGTAAGCCTGATG-1 & 3241 & 346 & K562 & 8.083637 & 0.10675717\\\\\n",
       "\tMultiome10x\\_06\\_TTTGGTAAGGAGCAAC-1 & Multiome10x\\_06\\_TTTGGTAAGGAGCAAC-1 & 4406 & 393 & K562 & 8.390723 & 0.08919655\\\\\n",
       "\tMultiome10x\\_06\\_TTTGGTGCAAAGGTAC-1 & Multiome10x\\_06\\_TTTGGTGCAAAGGTAC-1 & 3716 & 487 & K562 & 8.220403 & 0.13105490\\\\\n",
       "\tMultiome10x\\_06\\_TTTGGTGCACAATTAC-1 & Multiome10x\\_06\\_TTTGGTGCACAATTAC-1 & 2341 & 187 & K562 & 7.758333 & 0.07988039\\\\\n",
       "\tMultiome10x\\_06\\_TTTGGTGCACAGACTC-1 & Multiome10x\\_06\\_TTTGGTGCACAGACTC-1 & 3014 & 204 & K562 & 8.011023 & 0.06768414\\\\\n",
       "\tMultiome10x\\_06\\_TTTGTCCCATCCATCT-1 & Multiome10x\\_06\\_TTTGTCCCATCCATCT-1 & 4782 & 395 & K562 & 8.472614 & 0.08260142\\\\\n",
       "\tMultiome10x\\_06\\_TTTGTCCCATGCATAT-1 & Multiome10x\\_06\\_TTTGTCCCATGCATAT-1 & 2481 & 175 & K562 & 7.816417 & 0.07053607\\\\\n",
       "\tMultiome10x\\_06\\_TTTGTCTAGACTTACA-1 & Multiome10x\\_06\\_TTTGTCTAGACTTACA-1 & 3043 & 159 & K562 & 8.020599 & 0.05225107\\\\\n",
       "\tMultiome10x\\_06\\_TTTGTCTAGGTAACGA-1 & Multiome10x\\_06\\_TTTGTCTAGGTAACGA-1 & 3187 & 168 & K562 & 8.066835 & 0.05271415\\\\\n",
       "\tMultiome10x\\_06\\_TTTGTGAAGAGAGGCT-1 & Multiome10x\\_06\\_TTTGTGAAGAGAGGCT-1 & 3709 & 628 & K562 & 8.218518 & 0.16931788\\\\\n",
       "\tMultiome10x\\_06\\_TTTGTGAAGCAAGACA-1 & Multiome10x\\_06\\_TTTGTGAAGCAAGACA-1 & 2986 & 274 & K562 & 8.001690 & 0.09176155\\\\\n",
       "\tMultiome10x\\_06\\_TTTGTGAAGCATTTCT-1 & Multiome10x\\_06\\_TTTGTGAAGCATTTCT-1 & 2936 & 241 & K562 & 7.984803 & 0.08208447\\\\\n",
       "\tMultiome10x\\_06\\_TTTGTGAAGCTATGAC-1 & Multiome10x\\_06\\_TTTGTGAAGCTATGAC-1 & 4037 & 295 & K562 & 8.303257 & 0.07307406\\\\\n",
       "\tMultiome10x\\_06\\_TTTGTGAAGTGAACGA-1 & Multiome10x\\_06\\_TTTGTGAAGTGAACGA-1 & 2254 & 124 & K562 & 7.720462 & 0.05501331\\\\\n",
       "\tMultiome10x\\_06\\_TTTGTGAAGTTGCCTC-1 & Multiome10x\\_06\\_TTTGTGAAGTTGCCTC-1 & 2889 & 191 & K562 & 7.968666 & 0.06611284\\\\\n",
       "\tMultiome10x\\_06\\_TTTGTGGCACGAACAG-1 & Multiome10x\\_06\\_TTTGTGGCACGAACAG-1 & 2386 & 222 & K562 & 7.777374 & 0.09304275\\\\\n",
       "\tMultiome10x\\_06\\_TTTGTGGCAGTTTGTG-1 & Multiome10x\\_06\\_TTTGTGGCAGTTTGTG-1 & 2818 & 300 & K562 & 7.943783 & 0.10645848\\\\\n",
       "\tMultiome10x\\_06\\_TTTGTGGCATTAAACC-1 & Multiome10x\\_06\\_TTTGTGGCATTAAACC-1 & 2844 & 166 & K562 & 7.952967 & 0.05836850\\\\\n",
       "\tMultiome10x\\_06\\_TTTGTGGCATTGCGTA-1 & Multiome10x\\_06\\_TTTGTGGCATTGCGTA-1 & 1743 & 101 & K562 & 7.463363 & 0.05794607\\\\\n",
       "\tMultiome10x\\_06\\_TTTGTGTTCAAGCGCC-1 & Multiome10x\\_06\\_TTTGTGTTCAAGCGCC-1 & 2158 & 153 & K562 & 7.676937 & 0.07089898\\\\\n",
       "\tMultiome10x\\_06\\_TTTGTTGGTACCCACC-1 & Multiome10x\\_06\\_TTTGTTGGTACCCACC-1 & 3316 & 337 & K562 & 8.106515 & 0.10162847\\\\\n",
       "\\end{tabular}\n"
      ],
      "text/markdown": [
       "\n",
       "A data.frame: 11045 × 6\n",
       "\n",
       "| <!--/--> | cell &lt;chr&gt; | nUMI &lt;dbl&gt; | nMito &lt;dbl&gt; | celltype &lt;chr&gt; | log.nUMI &lt;dbl&gt; | percent.mito &lt;dbl&gt; |\n",
       "|---|---|---|---|---|---|---|\n",
       "| Multiome10x_05_AAACAGCCAGGACACA-1 | Multiome10x_05_AAACAGCCAGGACACA-1 | 1134 | 139 | K562 | 7.033506 | 0.12257496 |\n",
       "| Multiome10x_05_AAACATGCACTTGTTC-1 | Multiome10x_05_AAACATGCACTTGTTC-1 | 2814 | 235 | K562 | 7.942362 | 0.08351102 |\n",
       "| Multiome10x_05_AAACATGCAGGCTTGT-1 | Multiome10x_05_AAACATGCAGGCTTGT-1 | 7020 | 693 | K562 | 8.856518 | 0.09871795 |\n",
       "| Multiome10x_05_AAACATGCAGGTTACC-1 | Multiome10x_05_AAACATGCAGGTTACC-1 | 3459 | 278 | K562 | 8.148735 | 0.08037005 |\n",
       "| Multiome10x_05_AAACATGCATGAATAG-1 | Multiome10x_05_AAACATGCATGAATAG-1 | 1901 | 122 | K562 | 7.550135 | 0.06417675 |\n",
       "| Multiome10x_05_AAACATGCATGCATAT-1 | Multiome10x_05_AAACATGCATGCATAT-1 | 1331 | 171 | K562 | 7.193686 | 0.12847483 |\n",
       "| Multiome10x_05_AAACATGCATTGTTGG-1 | Multiome10x_05_AAACATGCATTGTTGG-1 | 2695 | 163 | K562 | 7.899153 | 0.06048237 |\n",
       "| Multiome10x_05_AAACCAACATGTCAAT-1 | Multiome10x_05_AAACCAACATGTCAAT-1 | 2019 | 122 | K562 | 7.610358 | 0.06042595 |\n",
       "| Multiome10x_05_AAACCGAAGAGAAGGG-1 | Multiome10x_05_AAACCGAAGAGAAGGG-1 | 1582 |  24 | K562 | 7.366445 | 0.01517067 |\n",
       "| Multiome10x_05_AAACCGAAGCACTTGG-1 | Multiome10x_05_AAACCGAAGCACTTGG-1 | 3449 | 229 | K562 | 8.145840 | 0.06639606 |\n",
       "| Multiome10x_05_AAACCGAAGCCAAATC-1 | Multiome10x_05_AAACCGAAGCCAAATC-1 | 3135 | 360 | K562 | 8.050384 | 0.11483254 |\n",
       "| Multiome10x_05_AAACCGAAGCTGGCTA-1 | Multiome10x_05_AAACCGAAGCTGGCTA-1 | 1802 | 196 | K562 | 7.496652 | 0.10876804 |\n",
       "| Multiome10x_05_AAACCGAAGGACCGCT-1 | Multiome10x_05_AAACCGAAGGACCGCT-1 | 2147 | 162 | K562 | 7.671827 | 0.07545412 |\n",
       "| Multiome10x_05_AAACCGAAGTAATCCA-1 | Multiome10x_05_AAACCGAAGTAATCCA-1 | 1872 | 192 | K562 | 7.534763 | 0.10256410 |\n",
       "| Multiome10x_05_AAACCGCGTAAAGCGG-1 | Multiome10x_05_AAACCGCGTAAAGCGG-1 | 2141 | 222 | K562 | 7.669028 | 0.10368986 |\n",
       "| Multiome10x_05_AAACCGCGTAATCGCA-1 | Multiome10x_05_AAACCGCGTAATCGCA-1 | 2118 | 214 | K562 | 7.658228 | 0.10103872 |\n",
       "| Multiome10x_05_AAACCGCGTGCATCGG-1 | Multiome10x_05_AAACCGCGTGCATCGG-1 | 2322 | 209 | K562 | 7.750184 | 0.09000861 |\n",
       "| Multiome10x_05_AAACCGCGTGCTAGAC-1 | Multiome10x_05_AAACCGCGTGCTAGAC-1 | 3509 | 310 | K562 | 8.163086 | 0.08834426 |\n",
       "| Multiome10x_05_AAACCGCGTTGCGCGA-1 | Multiome10x_05_AAACCGCGTTGCGCGA-1 | 2296 | 305 | K562 | 7.738924 | 0.13283972 |\n",
       "| Multiome10x_05_AAACCGCGTTTCGCGC-1 | Multiome10x_05_AAACCGCGTTTCGCGC-1 | 2241 | 273 | K562 | 7.714677 | 0.12182062 |\n",
       "| Multiome10x_05_AAACCGGCACTAAGCC-1 | Multiome10x_05_AAACCGGCACTAAGCC-1 | 3183 | 375 | K562 | 8.065579 | 0.11781338 |\n",
       "| Multiome10x_05_AAACCGGCAGCTTAAT-1 | Multiome10x_05_AAACCGGCAGCTTAAT-1 | 2336 | 222 | K562 | 7.756195 | 0.09503425 |\n",
       "| Multiome10x_05_AAACCGGCATTGTTGG-1 | Multiome10x_05_AAACCGGCATTGTTGG-1 | 3309 | 352 | K562 | 8.104401 | 0.10637655 |\n",
       "| Multiome10x_05_AAACGCGCATGCTTAG-1 | Multiome10x_05_AAACGCGCATGCTTAG-1 | 2150 | 131 | K562 | 7.673223 | 0.06093023 |\n",
       "| Multiome10x_05_AAACGCGCATTCCTGT-1 | Multiome10x_05_AAACGCGCATTCCTGT-1 | 2956 | 157 | K562 | 7.991592 | 0.05311231 |\n",
       "| Multiome10x_05_AAACGGATCAAAGGCA-1 | Multiome10x_05_AAACGGATCAAAGGCA-1 | 2588 | 237 | K562 | 7.858641 | 0.09157651 |\n",
       "| Multiome10x_05_AAACGGATCCGTCCAT-1 | Multiome10x_05_AAACGGATCCGTCCAT-1 | 3075 | 359 | K562 | 8.031060 | 0.11674797 |\n",
       "| Multiome10x_05_AAACGGATCCTCATCA-1 | Multiome10x_05_AAACGGATCCTCATCA-1 | 2464 | 182 | K562 | 7.809541 | 0.07386364 |\n",
       "| Multiome10x_05_AAACGGATCGCTAGAT-1 | Multiome10x_05_AAACGGATCGCTAGAT-1 | 1694 | 149 | K562 | 7.434848 | 0.08795750 |\n",
       "| Multiome10x_05_AAACGGATCGCTATGG-1 | Multiome10x_05_AAACGGATCGCTATGG-1 | 1790 | 143 | K562 | 7.489971 | 0.07988827 |\n",
       "| ⋮ | ⋮ | ⋮ | ⋮ | ⋮ | ⋮ | ⋮ |\n",
       "| Multiome10x_06_TTTGCATTCGGTCAGC-1 | Multiome10x_06_TTTGCATTCGGTCAGC-1 | 4927 | 438 | K562 | 8.502486 | 0.08889791 |\n",
       "| Multiome10x_06_TTTGCGACATTGCGGT-1 | Multiome10x_06_TTTGCGACATTGCGGT-1 | 2676 | 169 | K562 | 7.892078 | 0.06315396 |\n",
       "| Multiome10x_06_TTTGCGACATTGTGTG-1 | Multiome10x_06_TTTGCGACATTGTGTG-1 | 3133 | 342 | K562 | 8.049746 | 0.10916055 |\n",
       "| Multiome10x_06_TTTGCGGAGAAACTGG-1 | Multiome10x_06_TTTGCGGAGAAACTGG-1 | 3097 | 382 | K562 | 8.038189 | 0.12334517 |\n",
       "| Multiome10x_06_TTTGCGGAGCATGTTA-1 | Multiome10x_06_TTTGCGGAGCATGTTA-1 | 2728 | 159 | K562 | 7.911324 | 0.05828446 |\n",
       "| Multiome10x_06_TTTGCGGAGCCTGGTA-1 | Multiome10x_06_TTTGCGGAGCCTGGTA-1 | 2543 | 249 | K562 | 7.841100 | 0.09791585 |\n",
       "| Multiome10x_06_TTTGCGGAGGAACCAA-1 | Multiome10x_06_TTTGCGGAGGAACCAA-1 | 2383 | 261 | K562 | 7.776115 | 0.10952581 |\n",
       "| Multiome10x_06_TTTGGCTGTAGTTGGC-1 | Multiome10x_06_TTTGGCTGTAGTTGGC-1 | 2535 | 174 | K562 | 7.837949 | 0.06863905 |\n",
       "| Multiome10x_06_TTTGGTAAGAACCTAC-1 | Multiome10x_06_TTTGGTAAGAACCTAC-1 | 8255 | 890 | K562 | 9.018574 | 0.10781345 |\n",
       "| Multiome10x_06_TTTGGTAAGCCTGATG-1 | Multiome10x_06_TTTGGTAAGCCTGATG-1 | 3241 | 346 | K562 | 8.083637 | 0.10675717 |\n",
       "| Multiome10x_06_TTTGGTAAGGAGCAAC-1 | Multiome10x_06_TTTGGTAAGGAGCAAC-1 | 4406 | 393 | K562 | 8.390723 | 0.08919655 |\n",
       "| Multiome10x_06_TTTGGTGCAAAGGTAC-1 | Multiome10x_06_TTTGGTGCAAAGGTAC-1 | 3716 | 487 | K562 | 8.220403 | 0.13105490 |\n",
       "| Multiome10x_06_TTTGGTGCACAATTAC-1 | Multiome10x_06_TTTGGTGCACAATTAC-1 | 2341 | 187 | K562 | 7.758333 | 0.07988039 |\n",
       "| Multiome10x_06_TTTGGTGCACAGACTC-1 | Multiome10x_06_TTTGGTGCACAGACTC-1 | 3014 | 204 | K562 | 8.011023 | 0.06768414 |\n",
       "| Multiome10x_06_TTTGTCCCATCCATCT-1 | Multiome10x_06_TTTGTCCCATCCATCT-1 | 4782 | 395 | K562 | 8.472614 | 0.08260142 |\n",
       "| Multiome10x_06_TTTGTCCCATGCATAT-1 | Multiome10x_06_TTTGTCCCATGCATAT-1 | 2481 | 175 | K562 | 7.816417 | 0.07053607 |\n",
       "| Multiome10x_06_TTTGTCTAGACTTACA-1 | Multiome10x_06_TTTGTCTAGACTTACA-1 | 3043 | 159 | K562 | 8.020599 | 0.05225107 |\n",
       "| Multiome10x_06_TTTGTCTAGGTAACGA-1 | Multiome10x_06_TTTGTCTAGGTAACGA-1 | 3187 | 168 | K562 | 8.066835 | 0.05271415 |\n",
       "| Multiome10x_06_TTTGTGAAGAGAGGCT-1 | Multiome10x_06_TTTGTGAAGAGAGGCT-1 | 3709 | 628 | K562 | 8.218518 | 0.16931788 |\n",
       "| Multiome10x_06_TTTGTGAAGCAAGACA-1 | Multiome10x_06_TTTGTGAAGCAAGACA-1 | 2986 | 274 | K562 | 8.001690 | 0.09176155 |\n",
       "| Multiome10x_06_TTTGTGAAGCATTTCT-1 | Multiome10x_06_TTTGTGAAGCATTTCT-1 | 2936 | 241 | K562 | 7.984803 | 0.08208447 |\n",
       "| Multiome10x_06_TTTGTGAAGCTATGAC-1 | Multiome10x_06_TTTGTGAAGCTATGAC-1 | 4037 | 295 | K562 | 8.303257 | 0.07307406 |\n",
       "| Multiome10x_06_TTTGTGAAGTGAACGA-1 | Multiome10x_06_TTTGTGAAGTGAACGA-1 | 2254 | 124 | K562 | 7.720462 | 0.05501331 |\n",
       "| Multiome10x_06_TTTGTGAAGTTGCCTC-1 | Multiome10x_06_TTTGTGAAGTTGCCTC-1 | 2889 | 191 | K562 | 7.968666 | 0.06611284 |\n",
       "| Multiome10x_06_TTTGTGGCACGAACAG-1 | Multiome10x_06_TTTGTGGCACGAACAG-1 | 2386 | 222 | K562 | 7.777374 | 0.09304275 |\n",
       "| Multiome10x_06_TTTGTGGCAGTTTGTG-1 | Multiome10x_06_TTTGTGGCAGTTTGTG-1 | 2818 | 300 | K562 | 7.943783 | 0.10645848 |\n",
       "| Multiome10x_06_TTTGTGGCATTAAACC-1 | Multiome10x_06_TTTGTGGCATTAAACC-1 | 2844 | 166 | K562 | 7.952967 | 0.05836850 |\n",
       "| Multiome10x_06_TTTGTGGCATTGCGTA-1 | Multiome10x_06_TTTGTGGCATTGCGTA-1 | 1743 | 101 | K562 | 7.463363 | 0.05794607 |\n",
       "| Multiome10x_06_TTTGTGTTCAAGCGCC-1 | Multiome10x_06_TTTGTGTTCAAGCGCC-1 | 2158 | 153 | K562 | 7.676937 | 0.07089898 |\n",
       "| Multiome10x_06_TTTGTTGGTACCCACC-1 | Multiome10x_06_TTTGTTGGTACCCACC-1 | 3316 | 337 | K562 | 8.106515 | 0.10162847 |\n",
       "\n"
      ],
      "text/plain": [
       "                                  cell                              nUMI nMito\n",
       "Multiome10x_05_AAACAGCCAGGACACA-1 Multiome10x_05_AAACAGCCAGGACACA-1 1134 139  \n",
       "Multiome10x_05_AAACATGCACTTGTTC-1 Multiome10x_05_AAACATGCACTTGTTC-1 2814 235  \n",
       "Multiome10x_05_AAACATGCAGGCTTGT-1 Multiome10x_05_AAACATGCAGGCTTGT-1 7020 693  \n",
       "Multiome10x_05_AAACATGCAGGTTACC-1 Multiome10x_05_AAACATGCAGGTTACC-1 3459 278  \n",
       "Multiome10x_05_AAACATGCATGAATAG-1 Multiome10x_05_AAACATGCATGAATAG-1 1901 122  \n",
       "Multiome10x_05_AAACATGCATGCATAT-1 Multiome10x_05_AAACATGCATGCATAT-1 1331 171  \n",
       "Multiome10x_05_AAACATGCATTGTTGG-1 Multiome10x_05_AAACATGCATTGTTGG-1 2695 163  \n",
       "Multiome10x_05_AAACCAACATGTCAAT-1 Multiome10x_05_AAACCAACATGTCAAT-1 2019 122  \n",
       "Multiome10x_05_AAACCGAAGAGAAGGG-1 Multiome10x_05_AAACCGAAGAGAAGGG-1 1582  24  \n",
       "Multiome10x_05_AAACCGAAGCACTTGG-1 Multiome10x_05_AAACCGAAGCACTTGG-1 3449 229  \n",
       "Multiome10x_05_AAACCGAAGCCAAATC-1 Multiome10x_05_AAACCGAAGCCAAATC-1 3135 360  \n",
       "Multiome10x_05_AAACCGAAGCTGGCTA-1 Multiome10x_05_AAACCGAAGCTGGCTA-1 1802 196  \n",
       "Multiome10x_05_AAACCGAAGGACCGCT-1 Multiome10x_05_AAACCGAAGGACCGCT-1 2147 162  \n",
       "Multiome10x_05_AAACCGAAGTAATCCA-1 Multiome10x_05_AAACCGAAGTAATCCA-1 1872 192  \n",
       "Multiome10x_05_AAACCGCGTAAAGCGG-1 Multiome10x_05_AAACCGCGTAAAGCGG-1 2141 222  \n",
       "Multiome10x_05_AAACCGCGTAATCGCA-1 Multiome10x_05_AAACCGCGTAATCGCA-1 2118 214  \n",
       "Multiome10x_05_AAACCGCGTGCATCGG-1 Multiome10x_05_AAACCGCGTGCATCGG-1 2322 209  \n",
       "Multiome10x_05_AAACCGCGTGCTAGAC-1 Multiome10x_05_AAACCGCGTGCTAGAC-1 3509 310  \n",
       "Multiome10x_05_AAACCGCGTTGCGCGA-1 Multiome10x_05_AAACCGCGTTGCGCGA-1 2296 305  \n",
       "Multiome10x_05_AAACCGCGTTTCGCGC-1 Multiome10x_05_AAACCGCGTTTCGCGC-1 2241 273  \n",
       "Multiome10x_05_AAACCGGCACTAAGCC-1 Multiome10x_05_AAACCGGCACTAAGCC-1 3183 375  \n",
       "Multiome10x_05_AAACCGGCAGCTTAAT-1 Multiome10x_05_AAACCGGCAGCTTAAT-1 2336 222  \n",
       "Multiome10x_05_AAACCGGCATTGTTGG-1 Multiome10x_05_AAACCGGCATTGTTGG-1 3309 352  \n",
       "Multiome10x_05_AAACGCGCATGCTTAG-1 Multiome10x_05_AAACGCGCATGCTTAG-1 2150 131  \n",
       "Multiome10x_05_AAACGCGCATTCCTGT-1 Multiome10x_05_AAACGCGCATTCCTGT-1 2956 157  \n",
       "Multiome10x_05_AAACGGATCAAAGGCA-1 Multiome10x_05_AAACGGATCAAAGGCA-1 2588 237  \n",
       "Multiome10x_05_AAACGGATCCGTCCAT-1 Multiome10x_05_AAACGGATCCGTCCAT-1 3075 359  \n",
       "Multiome10x_05_AAACGGATCCTCATCA-1 Multiome10x_05_AAACGGATCCTCATCA-1 2464 182  \n",
       "Multiome10x_05_AAACGGATCGCTAGAT-1 Multiome10x_05_AAACGGATCGCTAGAT-1 1694 149  \n",
       "Multiome10x_05_AAACGGATCGCTATGG-1 Multiome10x_05_AAACGGATCGCTATGG-1 1790 143  \n",
       "⋮                                 ⋮                                 ⋮    ⋮    \n",
       "Multiome10x_06_TTTGCATTCGGTCAGC-1 Multiome10x_06_TTTGCATTCGGTCAGC-1 4927 438  \n",
       "Multiome10x_06_TTTGCGACATTGCGGT-1 Multiome10x_06_TTTGCGACATTGCGGT-1 2676 169  \n",
       "Multiome10x_06_TTTGCGACATTGTGTG-1 Multiome10x_06_TTTGCGACATTGTGTG-1 3133 342  \n",
       "Multiome10x_06_TTTGCGGAGAAACTGG-1 Multiome10x_06_TTTGCGGAGAAACTGG-1 3097 382  \n",
       "Multiome10x_06_TTTGCGGAGCATGTTA-1 Multiome10x_06_TTTGCGGAGCATGTTA-1 2728 159  \n",
       "Multiome10x_06_TTTGCGGAGCCTGGTA-1 Multiome10x_06_TTTGCGGAGCCTGGTA-1 2543 249  \n",
       "Multiome10x_06_TTTGCGGAGGAACCAA-1 Multiome10x_06_TTTGCGGAGGAACCAA-1 2383 261  \n",
       "Multiome10x_06_TTTGGCTGTAGTTGGC-1 Multiome10x_06_TTTGGCTGTAGTTGGC-1 2535 174  \n",
       "Multiome10x_06_TTTGGTAAGAACCTAC-1 Multiome10x_06_TTTGGTAAGAACCTAC-1 8255 890  \n",
       "Multiome10x_06_TTTGGTAAGCCTGATG-1 Multiome10x_06_TTTGGTAAGCCTGATG-1 3241 346  \n",
       "Multiome10x_06_TTTGGTAAGGAGCAAC-1 Multiome10x_06_TTTGGTAAGGAGCAAC-1 4406 393  \n",
       "Multiome10x_06_TTTGGTGCAAAGGTAC-1 Multiome10x_06_TTTGGTGCAAAGGTAC-1 3716 487  \n",
       "Multiome10x_06_TTTGGTGCACAATTAC-1 Multiome10x_06_TTTGGTGCACAATTAC-1 2341 187  \n",
       "Multiome10x_06_TTTGGTGCACAGACTC-1 Multiome10x_06_TTTGGTGCACAGACTC-1 3014 204  \n",
       "Multiome10x_06_TTTGTCCCATCCATCT-1 Multiome10x_06_TTTGTCCCATCCATCT-1 4782 395  \n",
       "Multiome10x_06_TTTGTCCCATGCATAT-1 Multiome10x_06_TTTGTCCCATGCATAT-1 2481 175  \n",
       "Multiome10x_06_TTTGTCTAGACTTACA-1 Multiome10x_06_TTTGTCTAGACTTACA-1 3043 159  \n",
       "Multiome10x_06_TTTGTCTAGGTAACGA-1 Multiome10x_06_TTTGTCTAGGTAACGA-1 3187 168  \n",
       "Multiome10x_06_TTTGTGAAGAGAGGCT-1 Multiome10x_06_TTTGTGAAGAGAGGCT-1 3709 628  \n",
       "Multiome10x_06_TTTGTGAAGCAAGACA-1 Multiome10x_06_TTTGTGAAGCAAGACA-1 2986 274  \n",
       "Multiome10x_06_TTTGTGAAGCATTTCT-1 Multiome10x_06_TTTGTGAAGCATTTCT-1 2936 241  \n",
       "Multiome10x_06_TTTGTGAAGCTATGAC-1 Multiome10x_06_TTTGTGAAGCTATGAC-1 4037 295  \n",
       "Multiome10x_06_TTTGTGAAGTGAACGA-1 Multiome10x_06_TTTGTGAAGTGAACGA-1 2254 124  \n",
       "Multiome10x_06_TTTGTGAAGTTGCCTC-1 Multiome10x_06_TTTGTGAAGTTGCCTC-1 2889 191  \n",
       "Multiome10x_06_TTTGTGGCACGAACAG-1 Multiome10x_06_TTTGTGGCACGAACAG-1 2386 222  \n",
       "Multiome10x_06_TTTGTGGCAGTTTGTG-1 Multiome10x_06_TTTGTGGCAGTTTGTG-1 2818 300  \n",
       "Multiome10x_06_TTTGTGGCATTAAACC-1 Multiome10x_06_TTTGTGGCATTAAACC-1 2844 166  \n",
       "Multiome10x_06_TTTGTGGCATTGCGTA-1 Multiome10x_06_TTTGTGGCATTGCGTA-1 1743 101  \n",
       "Multiome10x_06_TTTGTGTTCAAGCGCC-1 Multiome10x_06_TTTGTGTTCAAGCGCC-1 2158 153  \n",
       "Multiome10x_06_TTTGTTGGTACCCACC-1 Multiome10x_06_TTTGTTGGTACCCACC-1 3316 337  \n",
       "                                  celltype log.nUMI percent.mito\n",
       "Multiome10x_05_AAACAGCCAGGACACA-1 K562     7.033506 0.12257496  \n",
       "Multiome10x_05_AAACATGCACTTGTTC-1 K562     7.942362 0.08351102  \n",
       "Multiome10x_05_AAACATGCAGGCTTGT-1 K562     8.856518 0.09871795  \n",
       "Multiome10x_05_AAACATGCAGGTTACC-1 K562     8.148735 0.08037005  \n",
       "Multiome10x_05_AAACATGCATGAATAG-1 K562     7.550135 0.06417675  \n",
       "Multiome10x_05_AAACATGCATGCATAT-1 K562     7.193686 0.12847483  \n",
       "Multiome10x_05_AAACATGCATTGTTGG-1 K562     7.899153 0.06048237  \n",
       "Multiome10x_05_AAACCAACATGTCAAT-1 K562     7.610358 0.06042595  \n",
       "Multiome10x_05_AAACCGAAGAGAAGGG-1 K562     7.366445 0.01517067  \n",
       "Multiome10x_05_AAACCGAAGCACTTGG-1 K562     8.145840 0.06639606  \n",
       "Multiome10x_05_AAACCGAAGCCAAATC-1 K562     8.050384 0.11483254  \n",
       "Multiome10x_05_AAACCGAAGCTGGCTA-1 K562     7.496652 0.10876804  \n",
       "Multiome10x_05_AAACCGAAGGACCGCT-1 K562     7.671827 0.07545412  \n",
       "Multiome10x_05_AAACCGAAGTAATCCA-1 K562     7.534763 0.10256410  \n",
       "Multiome10x_05_AAACCGCGTAAAGCGG-1 K562     7.669028 0.10368986  \n",
       "Multiome10x_05_AAACCGCGTAATCGCA-1 K562     7.658228 0.10103872  \n",
       "Multiome10x_05_AAACCGCGTGCATCGG-1 K562     7.750184 0.09000861  \n",
       "Multiome10x_05_AAACCGCGTGCTAGAC-1 K562     8.163086 0.08834426  \n",
       "Multiome10x_05_AAACCGCGTTGCGCGA-1 K562     7.738924 0.13283972  \n",
       "Multiome10x_05_AAACCGCGTTTCGCGC-1 K562     7.714677 0.12182062  \n",
       "Multiome10x_05_AAACCGGCACTAAGCC-1 K562     8.065579 0.11781338  \n",
       "Multiome10x_05_AAACCGGCAGCTTAAT-1 K562     7.756195 0.09503425  \n",
       "Multiome10x_05_AAACCGGCATTGTTGG-1 K562     8.104401 0.10637655  \n",
       "Multiome10x_05_AAACGCGCATGCTTAG-1 K562     7.673223 0.06093023  \n",
       "Multiome10x_05_AAACGCGCATTCCTGT-1 K562     7.991592 0.05311231  \n",
       "Multiome10x_05_AAACGGATCAAAGGCA-1 K562     7.858641 0.09157651  \n",
       "Multiome10x_05_AAACGGATCCGTCCAT-1 K562     8.031060 0.11674797  \n",
       "Multiome10x_05_AAACGGATCCTCATCA-1 K562     7.809541 0.07386364  \n",
       "Multiome10x_05_AAACGGATCGCTAGAT-1 K562     7.434848 0.08795750  \n",
       "Multiome10x_05_AAACGGATCGCTATGG-1 K562     7.489971 0.07988827  \n",
       "⋮                                 ⋮        ⋮        ⋮           \n",
       "Multiome10x_06_TTTGCATTCGGTCAGC-1 K562     8.502486 0.08889791  \n",
       "Multiome10x_06_TTTGCGACATTGCGGT-1 K562     7.892078 0.06315396  \n",
       "Multiome10x_06_TTTGCGACATTGTGTG-1 K562     8.049746 0.10916055  \n",
       "Multiome10x_06_TTTGCGGAGAAACTGG-1 K562     8.038189 0.12334517  \n",
       "Multiome10x_06_TTTGCGGAGCATGTTA-1 K562     7.911324 0.05828446  \n",
       "Multiome10x_06_TTTGCGGAGCCTGGTA-1 K562     7.841100 0.09791585  \n",
       "Multiome10x_06_TTTGCGGAGGAACCAA-1 K562     7.776115 0.10952581  \n",
       "Multiome10x_06_TTTGGCTGTAGTTGGC-1 K562     7.837949 0.06863905  \n",
       "Multiome10x_06_TTTGGTAAGAACCTAC-1 K562     9.018574 0.10781345  \n",
       "Multiome10x_06_TTTGGTAAGCCTGATG-1 K562     8.083637 0.10675717  \n",
       "Multiome10x_06_TTTGGTAAGGAGCAAC-1 K562     8.390723 0.08919655  \n",
       "Multiome10x_06_TTTGGTGCAAAGGTAC-1 K562     8.220403 0.13105490  \n",
       "Multiome10x_06_TTTGGTGCACAATTAC-1 K562     7.758333 0.07988039  \n",
       "Multiome10x_06_TTTGGTGCACAGACTC-1 K562     8.011023 0.06768414  \n",
       "Multiome10x_06_TTTGTCCCATCCATCT-1 K562     8.472614 0.08260142  \n",
       "Multiome10x_06_TTTGTCCCATGCATAT-1 K562     7.816417 0.07053607  \n",
       "Multiome10x_06_TTTGTCTAGACTTACA-1 K562     8.020599 0.05225107  \n",
       "Multiome10x_06_TTTGTCTAGGTAACGA-1 K562     8.066835 0.05271415  \n",
       "Multiome10x_06_TTTGTGAAGAGAGGCT-1 K562     8.218518 0.16931788  \n",
       "Multiome10x_06_TTTGTGAAGCAAGACA-1 K562     8.001690 0.09176155  \n",
       "Multiome10x_06_TTTGTGAAGCATTTCT-1 K562     7.984803 0.08208447  \n",
       "Multiome10x_06_TTTGTGAAGCTATGAC-1 K562     8.303257 0.07307406  \n",
       "Multiome10x_06_TTTGTGAAGTGAACGA-1 K562     7.720462 0.05501331  \n",
       "Multiome10x_06_TTTGTGAAGTTGCCTC-1 K562     7.968666 0.06611284  \n",
       "Multiome10x_06_TTTGTGGCACGAACAG-1 K562     7.777374 0.09304275  \n",
       "Multiome10x_06_TTTGTGGCAGTTTGTG-1 K562     7.943783 0.10645848  \n",
       "Multiome10x_06_TTTGTGGCATTAAACC-1 K562     7.952967 0.05836850  \n",
       "Multiome10x_06_TTTGTGGCATTGCGTA-1 K562     7.463363 0.05794607  \n",
       "Multiome10x_06_TTTGTGTTCAAGCGCC-1 K562     7.676937 0.07089898  \n",
       "Multiome10x_06_TTTGTTGGTACCCACC-1 K562     8.106515 0.10162847  "
      ]
     },
     "metadata": {},
     "output_type": "display_data"
    }
   ],
   "source": [
    "meta.data = data.frame(cell = colnames(matrix.rna),\n",
    "                       nUMI = colSums(matrix.rna),\n",
    "                       nMito = colSums(matrix.rna[grep(\"MT-\",rownames(matrix.rna)),]),\n",
    "                       celltype = \"K562\")\n",
    "meta.data[,\"log.nUMI\"] = log(meta.data[,\"nUMI\"])\n",
    "meta.data[,\"percent.mito\"] = meta.data[,\"nMito\"] / meta.data[,\"nUMI\"]\n",
    "meta.data"
   ]
  },
  {
   "cell_type": "markdown",
   "id": "b823cb4a-3ce6-40b1-9a0d-d5d1e4aa3912",
   "metadata": {},
   "source": [
    "RUN SCENT prediction"
   ]
  },
  {
   "cell_type": "code",
   "execution_count": 14,
   "id": "f46765dc-9de5-4411-9288-40b59435f9fb",
   "metadata": {},
   "outputs": [],
   "source": [
    "RhpcBLASctl::blas_set_num_threads(1)\n",
    "Sys.setenv(OPENBLAS_NUM_THREADS=1)\n",
    "SCENT_algorithm.modified = function (object, \n",
    "                                     # celltype, \n",
    "                                     # ncores, \n",
    "                                     # regr = \"poisson\", \n",
    "                                     # bin = TRUE) \n",
    "                                     regr = \"poisson\") {\n",
    "    res <- data.frame()\n",
    "    for (n in 1:nrow(object@peak.info)) {        \n",
    "        gene <- object@peak.info[n, 1]\n",
    "        this_peak <- object@peak.info[n, 2]\n",
    "        atac_target <- data.frame(cell = colnames(object@atac), \n",
    "            atac = object@atac[this_peak, ])\n",
    "        # if (bin) {\n",
    "        #     atac_target[atac_target$atac > 0, ]$atac <- 1\n",
    "        # }\n",
    "        mrna_target <- object@rna[gene, ]\n",
    "        df <- data.frame(cell = names(mrna_target), exprs = as.numeric(mrna_target))\n",
    "        df <- merge(df, atac_target, by = \"cell\")\n",
    "        df <- merge(df, object@meta.data, by = \"cell\")\n",
    "        # df2 <- df[df[[object@celltypes]] == celltype, ]\n",
    "        df2 <- df\n",
    "        nonzero_m <- length(df2$exprs[df2$exprs > 0])/length(df2$exprs)\n",
    "        nonzero_a <- length(df2$atac[df2$atac > 0])/length(df2$atac)\n",
    "        if (nonzero_m > 0.05 & nonzero_a > 0.05) {\n",
    "            res_var <- \"exprs\"\n",
    "            pred_var <- c(\"atac\", object@covariates)\n",
    "            formula <- as.formula(paste(res_var, paste(pred_var, \n",
    "                collapse = \"+\"), sep = \"~\"))\n",
    "            if (regr == \"poisson\") {\n",
    "                base = glm(formula, family = \"poisson\", data = df2)\n",
    "                coefs <- summary(base)$coefficients[\"atac\", ]\n",
    "                # assoc <- assoc_poisson\n",
    "                assoc <- SCENT::assoc_poisson\n",
    "            }\n",
    "            else if (regr == \"negbin\") {\n",
    "                base = glm.nb(formula, data = df2)\n",
    "                coefs <- summary(base)$coefficients[\"atac\", ]\n",
    "                # assoc <- assoc_negbin\n",
    "                assoc <- SCENT::assoc_negbin\n",
    "            }\n",
    "            bs = boot::boot(df2, assoc, R = 100, formula = formula, \n",
    "                stype = \"i\", parallel = \"no\", ncpus = 1)\n",
    "            # p0 = basic_p(bs$t0[1], bs$t[, 1])\n",
    "            p0 = SCENT::basic_p(bs$t0[1], bs$t[, 1])\n",
    "            if (p0 < 0.1) {\n",
    "                bs = boot::boot(df2, assoc, R = 500, formula = formula, \n",
    "                  stype = \"i\", \n",
    "                  # parallel = \"multicore\", ncpus = ncores)\n",
    "                  parallel = \"no\", ncpus = 1)\n",
    "                # p0 = basic_p(bs$t0[1], bs$t[, 1])\n",
    "                p0 = SCENT::basic_p(bs$t0[1], bs$t[, 1])\n",
    "            }\n",
    "            # if (p0 < 0.05) {\n",
    "            #     bs = boot::boot(df2, assoc, R = 2500, formula = formula, \n",
    "            #       stype = \"i\", \n",
    "            #       # parallel = \"multicore\", ncpus = ncores)\n",
    "            #       parallel = \"no\", ncpus = 1)\n",
    "            #     # p0 = basic_p(bs$t0[1], bs$t[, 1])\n",
    "            #     p0 = SCENT::basic_p(bs$t0[1], bs$t[, 1])\n",
    "            # }\n",
    "            # if (p0 < 0.01) {\n",
    "            #     bs = boot::boot(df2, assoc, R = 25000, formula = formula, \n",
    "            #       stype = \"i\", \n",
    "            #       # parallel = \"multicore\", ncpus = ncores)\n",
    "            #       parallel = \"no\", ncpus = 1)\n",
    "            #     # p0 = basic_p(bs$t0[1], bs$t[, 1])\n",
    "            #     p0 = SCENT::basic_p(bs$t0[1], bs$t[, 1])\n",
    "            # }\n",
    "            # if (p0 < 0.001) {\n",
    "            #     bs = boot::boot(df2, assoc, R = 50000, formula = formula, \n",
    "            #       stype = \"i\", \n",
    "            #       # parallel = \"multicore\", ncpus = ncores)\n",
    "            #       parallel = \"no\", ncpus = 1)\n",
    "            #     # p0 = basic_p(bs$t0[1], bs$t[, 1])\n",
    "            #     p0 = SCENT::basic_p(bs$t0[1], bs$t[, 1])\n",
    "            # }\n",
    "            out <- data.frame(gene = gene, peak = this_peak, \n",
    "                beta = coefs[1], se = coefs[2], z = coefs[3], \n",
    "                p = coefs[4], boot_basic_p = p0)           \n",
    "            res <- rbind(res, out)\n",
    "        }\n",
    "    }\n",
    "    object@SCENT.result <- res\n",
    "    return(object)\n",
    "}"
   ]
  },
  {
   "cell_type": "code",
   "execution_count": 15,
   "id": "563771b9-b96a-44d5-a5fe-fa30a7b9851b",
   "metadata": {},
   "outputs": [
    {
     "name": "stderr",
     "output_type": "stream",
     "text": [
      "Warning message in dir.create(paste(dir.output, \"chr\", sep = \"/\"), recursive = T):\n",
      "“'/maps/projects/ralab_nnfc-AUDIT/people/lpm537/project/E2G/analysis/E2G_240503/data/PBMC/2.Genome_wide_prediction/SCENT/PBMC5.T.500.250317//chr' already exists”\n"
     ]
    }
   ],
   "source": [
    "dir.create(paste(dir.output,\"chr\",sep = \"/\"),recursive = T)"
   ]
  },
  {
   "cell_type": "code",
   "execution_count": 16,
   "id": "0d2266ce-b92d-40d2-9b78-f39bd33a5079",
   "metadata": {},
   "outputs": [],
   "source": [
    "chr.done = dir(paste(dir.output,\"chr\",sep = \"/\"))\n",
    "chr.run = as.character(unique(seqnames(pairs.E2G)))\n",
    "chr.run = chr.run[!chr.run %in% chr.done]"
   ]
  },
  {
   "cell_type": "code",
   "execution_count": null,
   "id": "2d41238d-e833-4e0e-add5-bb56bb615c1a",
   "metadata": {},
   "outputs": [
    {
     "name": "stdout",
     "output_type": "stream",
     "text": [
      "[1] \"chr1\"\n"
     ]
    },
    {
     "name": "stderr",
     "output_type": "stream",
     "text": [
      "Warning message in split.default(x = seq_len(nrow(x)), f = f, drop = drop, ...):\n",
      "“data length is not a multiple of split variable”\n"
     ]
    },
    {
     "name": "stdout",
     "output_type": "stream",
     "text": [
      "[1] \"chr10\"\n"
     ]
    },
    {
     "name": "stderr",
     "output_type": "stream",
     "text": [
      "Warning message in split.default(x = seq_len(nrow(x)), f = f, drop = drop, ...):\n",
      "“data length is not a multiple of split variable”\n"
     ]
    },
    {
     "name": "stdout",
     "output_type": "stream",
     "text": [
      "[1] \"chr11\"\n"
     ]
    },
    {
     "name": "stderr",
     "output_type": "stream",
     "text": [
      "Warning message in split.default(x = seq_len(nrow(x)), f = f, drop = drop, ...):\n",
      "“data length is not a multiple of split variable”\n"
     ]
    },
    {
     "name": "stdout",
     "output_type": "stream",
     "text": [
      "[1] \"chr12\"\n"
     ]
    },
    {
     "name": "stderr",
     "output_type": "stream",
     "text": [
      "Warning message in split.default(x = seq_len(nrow(x)), f = f, drop = drop, ...):\n",
      "“data length is not a multiple of split variable”\n"
     ]
    },
    {
     "name": "stdout",
     "output_type": "stream",
     "text": [
      "[1] \"chr13\"\n"
     ]
    },
    {
     "name": "stderr",
     "output_type": "stream",
     "text": [
      "Warning message in split.default(x = seq_len(nrow(x)), f = f, drop = drop, ...):\n",
      "“data length is not a multiple of split variable”\n"
     ]
    },
    {
     "name": "stdout",
     "output_type": "stream",
     "text": [
      "[1] \"chr14\"\n"
     ]
    },
    {
     "name": "stderr",
     "output_type": "stream",
     "text": [
      "Warning message in split.default(x = seq_len(nrow(x)), f = f, drop = drop, ...):\n",
      "“data length is not a multiple of split variable”\n"
     ]
    },
    {
     "name": "stdout",
     "output_type": "stream",
     "text": [
      "[1] \"chr15\"\n"
     ]
    },
    {
     "name": "stderr",
     "output_type": "stream",
     "text": [
      "Warning message in split.default(x = seq_len(nrow(x)), f = f, drop = drop, ...):\n",
      "“data length is not a multiple of split variable”\n"
     ]
    },
    {
     "name": "stdout",
     "output_type": "stream",
     "text": [
      "[1] \"chr16\"\n"
     ]
    },
    {
     "name": "stderr",
     "output_type": "stream",
     "text": [
      "Warning message in split.default(x = seq_len(nrow(x)), f = f, drop = drop, ...):\n",
      "“data length is not a multiple of split variable”\n"
     ]
    },
    {
     "name": "stdout",
     "output_type": "stream",
     "text": [
      "[1] \"chr17\"\n"
     ]
    },
    {
     "name": "stderr",
     "output_type": "stream",
     "text": [
      "Warning message in split.default(x = seq_len(nrow(x)), f = f, drop = drop, ...):\n",
      "“data length is not a multiple of split variable”\n"
     ]
    },
    {
     "name": "stdout",
     "output_type": "stream",
     "text": [
      "[1] \"chr18\"\n"
     ]
    },
    {
     "name": "stderr",
     "output_type": "stream",
     "text": [
      "Warning message in split.default(x = seq_len(nrow(x)), f = f, drop = drop, ...):\n",
      "“data length is not a multiple of split variable”\n"
     ]
    },
    {
     "name": "stdout",
     "output_type": "stream",
     "text": [
      "[1] \"chr19\"\n"
     ]
    },
    {
     "name": "stderr",
     "output_type": "stream",
     "text": [
      "Warning message in split.default(x = seq_len(nrow(x)), f = f, drop = drop, ...):\n",
      "“data length is not a multiple of split variable”\n"
     ]
    },
    {
     "name": "stdout",
     "output_type": "stream",
     "text": [
      "[1] \"chr2\"\n"
     ]
    },
    {
     "name": "stderr",
     "output_type": "stream",
     "text": [
      "Warning message in split.default(x = seq_len(nrow(x)), f = f, drop = drop, ...):\n",
      "“data length is not a multiple of split variable”\n"
     ]
    },
    {
     "name": "stdout",
     "output_type": "stream",
     "text": [
      "[1] \"chr20\"\n"
     ]
    },
    {
     "name": "stderr",
     "output_type": "stream",
     "text": [
      "Warning message in split.default(x = seq_len(nrow(x)), f = f, drop = drop, ...):\n",
      "“data length is not a multiple of split variable”\n"
     ]
    },
    {
     "name": "stdout",
     "output_type": "stream",
     "text": [
      "[1] \"chr21\"\n"
     ]
    },
    {
     "name": "stderr",
     "output_type": "stream",
     "text": [
      "Warning message in split.default(x = seq_len(nrow(x)), f = f, drop = drop, ...):\n",
      "“data length is not a multiple of split variable”\n"
     ]
    },
    {
     "name": "stdout",
     "output_type": "stream",
     "text": [
      "[1] \"chr22\"\n"
     ]
    },
    {
     "name": "stderr",
     "output_type": "stream",
     "text": [
      "Warning message in split.default(x = seq_len(nrow(x)), f = f, drop = drop, ...):\n",
      "“data length is not a multiple of split variable”\n"
     ]
    }
   ],
   "source": [
    "for(chr.tmp in chr.run){\n",
    "  print(chr.tmp)\n",
    "  pairs.E2G.chr.res = pairs.E2G.filter2[seqnames(pairs.E2G.filter2) == chr.tmp]\n",
    "  gene_peak.chr = as.data.frame(mcols(pairs.E2G.chr.res)[,c(\"TargetGene\",\"PeakName\")])\n",
    "  list.gene_peak.chr <- split(gene_peak.chr, seq_len(n.cores))\n",
    "  \n",
    "  list.obj.SCENT.chr <- lapply(list.gene_peak.chr, function(gene_peak.tmp) {\n",
    "    obj.SCENT.tmp <- CreateSCENTObj(\n",
    "      rna = matrix.rna.rename[rownames(matrix.rna.rename) %in% gene_peak.tmp$TargetGene,],\n",
    "      atac = matrix.atac[rownames(matrix.atac) %in% gene_peak.tmp$PeakName,], \n",
    "      meta.data = meta.data,\n",
    "      peak.info = gene_peak.tmp,\n",
    "      covariates = c(\"log.nUMI\",\"percent.mito\"), \n",
    "      celltypes = \"celltype\"\n",
    "    )\n",
    "  })\n",
    "  \n",
    "  cl <- makeCluster(n.cores)\n",
    "  clusterExport(cl, varlist=c(\"SCENT_algorithm.modified\"))\n",
    "  list.SCENT.result.chr <- parLapply(cl, list.obj.SCENT.chr, function(obj.SCENT.tmp) {\n",
    "    obj.SCENT.tmp <- SCENT_algorithm.modified(object = obj.SCENT.tmp)\n",
    "    return(obj.SCENT.tmp@SCENT.result)\n",
    "  })\n",
    "  stopCluster(cl)\n",
    "  \n",
    "  \n",
    "  df.SCENT.result.chr = do.call(rbind,list.SCENT.result.chr)\n",
    "  rownames(df.SCENT.result.chr) = paste(df.SCENT.result.chr$peak,\n",
    "                                        df.SCENT.result.chr$gene,\n",
    "                                        sep = \"_\")\n",
    "\n",
    "  pairs.E2G.chr.res = pairs.E2G.chr.res[pairs.E2G.chr.res$PairName %in% rownames(df.SCENT.result.chr)]\n",
    "  mcols(pairs.E2G.chr.res)[,c(\"beta\",\"se\",\"z\",\"p\",\"boot_basic_p\")] = \n",
    "    df.SCENT.result.chr[pairs.E2G.chr.res$PairName,c(\"beta\",\"se\",\"z\",\"p\",\"boot_basic_p\")]\n",
    "  pairs.E2G.chr.res$boot_basic_p.log10 = -log10(pairs.E2G.chr.res$boot_basic_p)\n",
    "  pairs.E2G.chr.res$sign = 1\n",
    "  pairs.E2G.chr.res$sign[pairs.E2G.chr.res$beta < 0] = -1\n",
    "  pairs.E2G.chr.res$boot_basic_p.log10.signed = pairs.E2G.chr.res$boot_basic_p.log10 * pairs.E2G.chr.res$sign\n",
    "  saveRDS(pairs.E2G.chr.res,\n",
    "          paste(dir.output,\"chr\",chr.tmp,sep = \"/\"))\n",
    "  rm (pairs.E2G.chr.res)\n",
    "}"
   ]
  },
  {
   "cell_type": "markdown",
   "id": "da9d1451-54e0-49e0-ae8b-cd0158115820",
   "metadata": {},
   "source": [
    "Merge results"
   ]
  },
  {
   "cell_type": "code",
   "execution_count": null,
   "id": "6b4278f1-7d9d-402f-95c6-f274a6befea3",
   "metadata": {},
   "outputs": [],
   "source": [
    "chr.merge = as.character(unique(seqnames(pairs.E2G)))\n",
    "list.res = list()\n",
    "for(chr.tmp in chr.merge){\n",
    "    list.res[[chr.tmp]] = readRDS(paste(dir.output,\"chr\",chr.tmp,sep = \"/\"))\n",
    "}\n",
    "pairs.E2G.res = unlist(as(list.res, \"GRangesList\"))"
   ]
  },
  {
   "cell_type": "markdown",
   "id": "00278bea-8baf-4ed0-93d5-1289f05fa36a",
   "metadata": {},
   "source": [
    "Save results"
   ]
  },
  {
   "cell_type": "code",
   "execution_count": null,
   "id": "48824f05-aedd-476c-88d6-ae58d1833fc9",
   "metadata": {},
   "outputs": [],
   "source": [
    "saveRDS(pairs.E2G.res,\n",
    "        paste(dir.output,\"pairs.E2G.res.rds\",sep = \"/\"))\n",
    "pairs.E2G.res"
   ]
  },
  {
   "cell_type": "code",
   "execution_count": null,
   "id": "2297128a-9ed6-42b8-90c7-459969fb5afd",
   "metadata": {},
   "outputs": [],
   "source": [
    "df.output = as.data.frame(pairs.E2G.res,row.names = NULL)\n",
    "colnames(df.output)[1] = \"chr\"\n",
    "df.output[,\"CellType\"] = \"K562\"\n",
    "df.output = df.output[,c(\"chr\",\n",
    "                         \"start\",\n",
    "                         \"end\",\n",
    "                         \"TargetGene\",\n",
    "                         \"CellType\",\n",
    "                         \"beta\",\"se\",\"z\",\"p\",\"boot_basic_p\",\n",
    "                         \"boot_basic_p.log10\",\n",
    "                         \"sign\",\n",
    "                         \"boot_basic_p.log10.signed\")]\n",
    "data.table::fwrite(df.output,\n",
    "                   file = paste(dir.output,\"pairs.E2G.res.tsv.gz\",sep = \"/\"),\n",
    "                   row.names = F,\n",
    "                   quote = F,\n",
    "                   sep = \"\\t\")\n",
    "df.output"
   ]
  },
  {
   "cell_type": "code",
   "execution_count": null,
   "id": "4d77c58e-215a-408d-8495-c68c72f559c3",
   "metadata": {},
   "outputs": [],
   "source": [
    "sessionInfo()"
   ]
  },
  {
   "cell_type": "code",
   "execution_count": null,
   "id": "3c1a0283-11d6-4df1-bbd8-7b47e9e8ead8",
   "metadata": {},
   "outputs": [],
   "source": []
  }
 ],
 "metadata": {
  "kernelspec": {
   "display_name": "R",
   "language": "R",
   "name": "ir"
  },
  "language_info": {
   "codemirror_mode": "r",
   "file_extension": ".r",
   "mimetype": "text/x-r-source",
   "name": "R",
   "pygments_lexer": "r",
   "version": "4.3.3"
  }
 },
 "nbformat": 4,
 "nbformat_minor": 5
}
