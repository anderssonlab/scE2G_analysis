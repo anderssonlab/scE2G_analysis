{
 "cells": [
  {
   "cell_type": "code",
   "execution_count": 1,
   "id": "3a1e63f9-7479-4a30-83ea-381f1ecdbe50",
   "metadata": {},
   "outputs": [
    {
     "name": "stderr",
     "output_type": "stream",
     "text": [
      "Warning message:\n",
      "“replacing previous import ‘Hmisc::capitalize’ by ‘R.utils::capitalize’ when loading ‘SCENT’”\n",
      "Loading required package: grid\n",
      "\n",
      "Warning message:\n",
      "“replacing previous import ‘Biostrings::pattern’ by ‘grid::pattern’ when loading ‘genomation’”\n",
      "Loading required package: stats4\n",
      "\n",
      "Loading required package: BiocGenerics\n",
      "\n",
      "\n",
      "Attaching package: ‘BiocGenerics’\n",
      "\n",
      "\n",
      "The following objects are masked from ‘package:stats’:\n",
      "\n",
      "    IQR, mad, sd, var, xtabs\n",
      "\n",
      "\n",
      "The following objects are masked from ‘package:base’:\n",
      "\n",
      "    anyDuplicated, aperm, append, as.data.frame, basename, cbind,\n",
      "    colnames, dirname, do.call, duplicated, eval, evalq, Filter, Find,\n",
      "    get, grep, grepl, intersect, is.unsorted, lapply, Map, mapply,\n",
      "    match, mget, order, paste, pmax, pmax.int, pmin, pmin.int,\n",
      "    Position, rank, rbind, Reduce, rownames, sapply, setdiff, sort,\n",
      "    table, tapply, union, unique, unsplit, which.max, which.min\n",
      "\n",
      "\n",
      "Loading required package: S4Vectors\n",
      "\n",
      "\n",
      "Attaching package: ‘S4Vectors’\n",
      "\n",
      "\n",
      "The following object is masked from ‘package:utils’:\n",
      "\n",
      "    findMatches\n",
      "\n",
      "\n",
      "The following objects are masked from ‘package:base’:\n",
      "\n",
      "    expand.grid, I, unname\n",
      "\n",
      "\n",
      "Loading required package: IRanges\n",
      "\n",
      "Loading required package: GenomeInfoDb\n",
      "\n",
      "\n",
      "Attaching package: ‘Matrix’\n",
      "\n",
      "\n",
      "The following object is masked from ‘package:S4Vectors’:\n",
      "\n",
      "    expand\n",
      "\n",
      "\n"
     ]
    }
   ],
   "source": [
    "library(SCENT)\n",
    "library(Signac)\n",
    "library(genomation)\n",
    "library(GenomicRanges)\n",
    "library(Matrix)\n",
    "library(parallel)"
   ]
  },
  {
   "cell_type": "markdown",
   "id": "d53f3774-52c3-4baa-b707-5b3a0450b130",
   "metadata": {},
   "source": [
    "Specify file path"
   ]
  },
  {
   "cell_type": "code",
   "execution_count": 2,
   "id": "0785f3fc-9913-428a-bea7-5710120c9328",
   "metadata": {},
   "outputs": [],
   "source": [
    "path.pairs.E2G = \"/maps/projects/ralab_nnfc-AUDIT/people/lpm537/software/scE2G_pipeline/240617/sc-E2G/test/results/PBMC9/13_CD16.Mono.multiome_7features/Kendall/Pairs.tsv.gz\"\n",
    "path.pairs.ABC = \"/maps/projects/ralab_nnfc-AUDIT/people/lpm537/software/scE2G_pipeline/240617/sc-E2G/test/results/PBMC9/13_CD16.Mono.multiome_7features/Predictions/EnhancerPredictionsAllPutative.tsv.gz\"\n",
    "path.matrix.atac_count = \"/maps/projects/ralab_nnfc-AUDIT/people/lpm537/software/scE2G_pipeline/240617/sc-E2G/test/results/PBMC9/13_CD16.Mono.multiome_7features/Kendall/atac_matrix.rds\"\n",
    "path.matrix.rna_count = \"/maps/projects/ralab_nnfc-AUDIT/people/lpm537/project/E2G/analysis/E2G_240503/data/PBMC/1.prepare_data/3.annotate_cell_type/RNA_count_matrix/13_CD16.Mono.rna_count_matrix.csv.gz\"\n",
    "dir.output = \"/maps/projects/ralab_nnfc-AUDIT/people/lpm537/project/E2G/analysis/E2G_240503/data/PBMC/2.Genome_wide_prediction/SCENT/PBMC9.13_CD16.Mono.100.240702/\""
   ]
  },
  {
   "cell_type": "code",
   "execution_count": 3,
   "id": "500ba317-011f-4cab-834c-de750cb7f503",
   "metadata": {},
   "outputs": [],
   "source": [
    "n.cores = 16"
   ]
  },
  {
   "cell_type": "markdown",
   "id": "9c9cdab1-486b-4539-99d3-3cd5d1d99795",
   "metadata": {},
   "source": [
    "Import candidate E-G pairs"
   ]
  },
  {
   "cell_type": "code",
   "execution_count": 4,
   "id": "f5852d15-7e3f-412b-b137-7d29a6fb47b1",
   "metadata": {},
   "outputs": [],
   "source": [
    "pairs.E2G = readGeneric(path.pairs.E2G,\n",
    "                        header = T,\n",
    "                        keep.all.metadata = T)"
   ]
  },
  {
   "cell_type": "markdown",
   "id": "e79f3220-9bc6-4496-9e9a-a2dcc6e7f751",
   "metadata": {},
   "source": [
    "Import ABC results"
   ]
  },
  {
   "cell_type": "code",
   "execution_count": 5,
   "id": "6bc3f6ba-5e9a-488c-ba26-e0c84007ef4d",
   "metadata": {},
   "outputs": [],
   "source": [
    "pairs.ABC = readGeneric(path.pairs.ABC,\n",
    "                        header = T,\n",
    "                        keep.all.metadata = T)"
   ]
  },
  {
   "cell_type": "markdown",
   "id": "7d660489-4656-4b85-a3df-381acf0aa4a1",
   "metadata": {},
   "source": [
    "Filter ABC results which distance < 1M"
   ]
  },
  {
   "cell_type": "code",
   "execution_count": 6,
   "id": "31b4d7f1-0feb-428b-934a-9c32cb2a4f68",
   "metadata": {},
   "outputs": [],
   "source": [
    "pairs.ABC.1M = pairs.ABC[pairs.ABC$distance < 10^6]"
   ]
  },
  {
   "cell_type": "markdown",
   "id": "639699dd-5bf9-4b19-9178-82dbbf2c62d0",
   "metadata": {},
   "source": [
    "Filter E-G pairs overlaping with pairs.ABC.1M"
   ]
  },
  {
   "cell_type": "code",
   "execution_count": 7,
   "id": "d7db8c1b-5245-49e1-862e-979d9f1de142",
   "metadata": {},
   "outputs": [
    {
     "data": {
      "text/plain": [
       "GRanges object with 2877480 ranges and 3 metadata columns:\n",
       "            seqnames              ranges strand |  TargetGene\n",
       "               <Rle>           <IRanges>  <Rle> | <character>\n",
       "        [1]     chr1 100028687-100029058      * |         AGL\n",
       "        [2]     chr1 100028687-100029058      * |      CDC14A\n",
       "        [3]     chr1 100028687-100029058      * |         DBT\n",
       "        [4]     chr1 100028687-100029058      * |        DPH5\n",
       "        [5]     chr1 100028687-100029058      * |       EXTL2\n",
       "        ...      ...                 ...    ... .         ...\n",
       "  [2877476]     chrX     9986716-9987132      * |       TBL1X\n",
       "  [2877477]     chrX     9986716-9987132      * |        WWC3\n",
       "  [2877478]     chrX     9995716-9996196      * |       CLCN4\n",
       "  [2877479]     chrX     9995716-9996196      * |       TBL1X\n",
       "  [2877480]     chrX     9995716-9996196      * |        WWC3\n",
       "                          PeakName               PairName\n",
       "                       <character>            <character>\n",
       "        [1] chr1-100028687-10002.. chr1-100028687-10002..\n",
       "        [2] chr1-100028687-10002.. chr1-100028687-10002..\n",
       "        [3] chr1-100028687-10002.. chr1-100028687-10002..\n",
       "        [4] chr1-100028687-10002.. chr1-100028687-10002..\n",
       "        [5] chr1-100028687-10002.. chr1-100028687-10002..\n",
       "        ...                    ...                    ...\n",
       "  [2877476]   chrX-9986716-9987132 chrX-9986716-9987132..\n",
       "  [2877477]   chrX-9986716-9987132 chrX-9986716-9987132..\n",
       "  [2877478]   chrX-9995716-9996196 chrX-9995716-9996196..\n",
       "  [2877479]   chrX-9995716-9996196 chrX-9995716-9996196..\n",
       "  [2877480]   chrX-9995716-9996196 chrX-9995716-9996196..\n",
       "  -------\n",
       "  seqinfo: 23 sequences from an unspecified genome; no seqlengths"
      ]
     },
     "metadata": {},
     "output_type": "display_data"
    }
   ],
   "source": [
    "df.pairs.E2G.chr_rename = as.data.frame(pairs.E2G)[,1:3]\n",
    "df.pairs.E2G.chr_rename[,\"seqnames\"] = paste(seqnames(pairs.E2G),\n",
    "                                             mcols(pairs.E2G)[,\"TargetGene\"],\n",
    "                                             sep = \"_\")\n",
    "pairs.E2G.chr_rename = GRanges(df.pairs.E2G.chr_rename)\n",
    "rm(df.pairs.E2G.chr_rename)\n",
    "\n",
    "df.pairs.ABC.1M.chr_rename = as.data.frame(pairs.ABC.1M)[,1:3]\n",
    "df.pairs.ABC.1M.chr_rename[,\"seqnames\"] = paste(seqnames(pairs.ABC.1M),\n",
    "                                                mcols(pairs.ABC.1M)[,\"TargetGene\"],\n",
    "                                                sep = \"_\")\n",
    "pairs.ABC.1M.chr_rename = GRanges(df.pairs.ABC.1M.chr_rename)\n",
    "rm(df.pairs.ABC.1M.chr_rename)\n",
    "\n",
    "pairs.E2G.filter = pairs.E2G[countOverlaps(pairs.E2G.chr_rename,\n",
    "                                           pairs.ABC.1M.chr_rename) > 0]\n",
    "rm(pairs.E2G.chr_rename)\n",
    "rm(pairs.ABC.1M.chr_rename)\n",
    "pairs.E2G.filter"
   ]
  },
  {
   "cell_type": "markdown",
   "id": "bcdfac67-ce32-4d9a-8f4d-65dab644ec63",
   "metadata": {},
   "source": [
    "Import ATAC matrix"
   ]
  },
  {
   "cell_type": "code",
   "execution_count": 8,
   "id": "bd59feb4-3e33-4ebe-a107-f3b6d347a68e",
   "metadata": {},
   "outputs": [],
   "source": [
    "matrix.atac = readRDS(path.matrix.atac_count)\n",
    "matrix.atac = BinarizeCounts(matrix.atac)"
   ]
  },
  {
   "cell_type": "markdown",
   "id": "a0c5cb96-2fc4-42c4-a421-fe9a5ca537da",
   "metadata": {},
   "source": [
    "Import RNA matrix"
   ]
  },
  {
   "cell_type": "code",
   "execution_count": 9,
   "id": "96e10e90-9400-4cfe-bc7b-46a7eaee1fcd",
   "metadata": {},
   "outputs": [],
   "source": [
    "matrix.rna = read.csv(path.matrix.rna_count,\n",
    "                      row.names = 1,\n",
    "                      check.names = F)\n",
    "matrix.rna = Matrix(as.matrix(matrix.rna), sparse = TRUE)\n",
    "matrix.rna = matrix.rna[,colnames(matrix.atac)]\n",
    "matrix.rna = matrix.rna[rowSums(matrix.rna) > 0,]"
   ]
  },
  {
   "cell_type": "code",
   "execution_count": 10,
   "id": "ad0f51bc-6e09-4b83-be71-560130dd0fa6",
   "metadata": {},
   "outputs": [],
   "source": [
    "pairs.E2G.filter2 = pairs.E2G.filter[pairs.E2G.filter$TargetGene %in% rownames(matrix.rna) &\n",
    "                                     pairs.E2G.filter$PeakName %in% rownames(matrix.atac)]"
   ]
  },
  {
   "cell_type": "markdown",
   "id": "b16f7d5b-eabd-4e93-b8cd-f19a54df21f2",
   "metadata": {},
   "source": [
    "Prepare SCENT meta data"
   ]
  },
  {
   "cell_type": "code",
   "execution_count": 11,
   "id": "827059dd-6885-441e-973e-d7c49e5fd534",
   "metadata": {},
   "outputs": [
    {
     "data": {
      "text/html": [
       "<table class=\"dataframe\">\n",
       "<caption>A data.frame: 593 × 6</caption>\n",
       "<thead>\n",
       "\t<tr><th></th><th scope=col>cell</th><th scope=col>nUMI</th><th scope=col>nMito</th><th scope=col>celltype</th><th scope=col>log.nUMI</th><th scope=col>percent.mito</th></tr>\n",
       "\t<tr><th></th><th scope=col>&lt;chr&gt;</th><th scope=col>&lt;dbl&gt;</th><th scope=col>&lt;dbl&gt;</th><th scope=col>&lt;chr&gt;</th><th scope=col>&lt;dbl&gt;</th><th scope=col>&lt;dbl&gt;</th></tr>\n",
       "</thead>\n",
       "<tbody>\n",
       "\t<tr><th scope=row>Multiome10x_05_AAACCGGCAATTTAGC-1</th><td>Multiome10x_05_AAACCGGCAATTTAGC-1</td><td>4658</td><td> 541</td><td>K562</td><td>8.446341</td><td>0.1161443</td></tr>\n",
       "\t<tr><th scope=row>Multiome10x_05_AAAGCTTGTACCCACC-1</th><td>Multiome10x_05_AAAGCTTGTACCCACC-1</td><td>6157</td><td> 749</td><td>K562</td><td>8.725345</td><td>0.1216502</td></tr>\n",
       "\t<tr><th scope=row>Multiome10x_05_AACATAGCATGTTGTG-1</th><td>Multiome10x_05_AACATAGCATGTTGTG-1</td><td>5224</td><td> 821</td><td>K562</td><td>8.561019</td><td>0.1571593</td></tr>\n",
       "\t<tr><th scope=row>Multiome10x_05_AACGACAAGACTTACA-1</th><td>Multiome10x_05_AACGACAAGACTTACA-1</td><td>6710</td><td> 998</td><td>K562</td><td>8.811354</td><td>0.1487332</td></tr>\n",
       "\t<tr><th scope=row>Multiome10x_05_AACTAGTGTTGAATCG-1</th><td>Multiome10x_05_AACTAGTGTTGAATCG-1</td><td>4725</td><td> 698</td><td>K562</td><td>8.460623</td><td>0.1477249</td></tr>\n",
       "\t<tr><th scope=row>Multiome10x_05_AAGAATCAGGCGGGTA-1</th><td>Multiome10x_05_AAGAATCAGGCGGGTA-1</td><td>5059</td><td> 965</td><td>K562</td><td>8.528924</td><td>0.1907492</td></tr>\n",
       "\t<tr><th scope=row>Multiome10x_05_AAGACAAGTCCTTAGT-1</th><td>Multiome10x_05_AAGACAAGTCCTTAGT-1</td><td>5980</td><td> 685</td><td>K562</td><td>8.696176</td><td>0.1145485</td></tr>\n",
       "\t<tr><th scope=row>Multiome10x_05_AAGCATGAGCGAGGTG-1</th><td>Multiome10x_05_AAGCATGAGCGAGGTG-1</td><td>3846</td><td> 484</td><td>K562</td><td>8.254789</td><td>0.1258450</td></tr>\n",
       "\t<tr><th scope=row>Multiome10x_05_AAGCCTGTCCCTCAAC-1</th><td>Multiome10x_05_AAGCCTGTCCCTCAAC-1</td><td>3979</td><td> 585</td><td>K562</td><td>8.288786</td><td>0.1470219</td></tr>\n",
       "\t<tr><th scope=row>Multiome10x_05_AAGCGAATCATAACTG-1</th><td>Multiome10x_05_AAGCGAATCATAACTG-1</td><td>4596</td><td> 652</td><td>K562</td><td>8.432942</td><td>0.1418625</td></tr>\n",
       "\t<tr><th scope=row>Multiome10x_05_AAGCGGGTCATGGCCA-1</th><td>Multiome10x_05_AAGCGGGTCATGGCCA-1</td><td>8265</td><td> 912</td><td>K562</td><td>9.019785</td><td>0.1103448</td></tr>\n",
       "\t<tr><th scope=row>Multiome10x_05_AAGCGGGTCCTCCTAA-1</th><td>Multiome10x_05_AAGCGGGTCCTCCTAA-1</td><td>4589</td><td> 591</td><td>K562</td><td>8.431417</td><td>0.1287862</td></tr>\n",
       "\t<tr><th scope=row>Multiome10x_05_AAGCGGGTCTACCTAT-1</th><td>Multiome10x_05_AAGCGGGTCTACCTAT-1</td><td>3752</td><td> 515</td><td>K562</td><td>8.230044</td><td>0.1372601</td></tr>\n",
       "\t<tr><th scope=row>Multiome10x_05_AAGGATGTCTGTTCAT-1</th><td>Multiome10x_05_AAGGATGTCTGTTCAT-1</td><td>3489</td><td> 619</td><td>K562</td><td>8.157370</td><td>0.1774147</td></tr>\n",
       "\t<tr><th scope=row>Multiome10x_05_AAGGTCAAGCGTGCGT-1</th><td>Multiome10x_05_AAGGTCAAGCGTGCGT-1</td><td>3326</td><td> 564</td><td>K562</td><td>8.109526</td><td>0.1695731</td></tr>\n",
       "\t<tr><th scope=row>Multiome10x_05_AATACCGGTATTGGAT-1</th><td>Multiome10x_05_AATACCGGTATTGGAT-1</td><td>3110</td><td> 406</td><td>K562</td><td>8.042378</td><td>0.1305466</td></tr>\n",
       "\t<tr><th scope=row>Multiome10x_05_AATCAGGAGTCATTAG-1</th><td>Multiome10x_05_AATCAGGAGTCATTAG-1</td><td>5080</td><td> 600</td><td>K562</td><td>8.533067</td><td>0.1181102</td></tr>\n",
       "\t<tr><th scope=row>Multiome10x_05_AATCCCTGTGAGCGAA-1</th><td>Multiome10x_05_AATCCCTGTGAGCGAA-1</td><td>5262</td><td> 727</td><td>K562</td><td>8.568266</td><td>0.1381604</td></tr>\n",
       "\t<tr><th scope=row>Multiome10x_05_ACATCATCATTGGGAG-1</th><td>Multiome10x_05_ACATCATCATTGGGAG-1</td><td>5087</td><td> 745</td><td>K562</td><td>8.534444</td><td>0.1464517</td></tr>\n",
       "\t<tr><th scope=row>Multiome10x_05_ACCAAGCGTACCGTAA-1</th><td>Multiome10x_05_ACCAAGCGTACCGTAA-1</td><td>6255</td><td> 720</td><td>K562</td><td>8.741136</td><td>0.1151079</td></tr>\n",
       "\t<tr><th scope=row>Multiome10x_05_ACCCAGGGTGTTTCAC-1</th><td>Multiome10x_05_ACCCAGGGTGTTTCAC-1</td><td>5777</td><td> 638</td><td>K562</td><td>8.661640</td><td>0.1104379</td></tr>\n",
       "\t<tr><th scope=row>Multiome10x_05_ACCGGCTAGCCTGACA-1</th><td>Multiome10x_05_ACCGGCTAGCCTGACA-1</td><td>5406</td><td> 804</td><td>K562</td><td>8.595265</td><td>0.1487236</td></tr>\n",
       "\t<tr><th scope=row>Multiome10x_05_ACCTAAGGTCCGTGAG-1</th><td>Multiome10x_05_ACCTAAGGTCCGTGAG-1</td><td>5121</td><td> 674</td><td>K562</td><td>8.541105</td><td>0.1316149</td></tr>\n",
       "\t<tr><th scope=row>Multiome10x_05_ACCTAAGGTTTACGTC-1</th><td>Multiome10x_05_ACCTAAGGTTTACGTC-1</td><td>6282</td><td> 820</td><td>K562</td><td>8.745444</td><td>0.1305317</td></tr>\n",
       "\t<tr><th scope=row>Multiome10x_05_ACGACAAAGAGAGGAG-1</th><td>Multiome10x_05_ACGACAAAGAGAGGAG-1</td><td>5249</td><td> 663</td><td>K562</td><td>8.565793</td><td>0.1263098</td></tr>\n",
       "\t<tr><th scope=row>Multiome10x_05_ACGATTCAGCCGGTAC-1</th><td>Multiome10x_05_ACGATTCAGCCGGTAC-1</td><td>5293</td><td> 779</td><td>K562</td><td>8.574140</td><td>0.1471755</td></tr>\n",
       "\t<tr><th scope=row>Multiome10x_05_ACGCACGGTTTAGCTC-1</th><td>Multiome10x_05_ACGCACGGTTTAGCTC-1</td><td>6027</td><td> 867</td><td>K562</td><td>8.704005</td><td>0.1438527</td></tr>\n",
       "\t<tr><th scope=row>Multiome10x_05_ACGTCCTTCAATAGCC-1</th><td>Multiome10x_05_ACGTCCTTCAATAGCC-1</td><td>8363</td><td>1184</td><td>K562</td><td>9.031572</td><td>0.1415760</td></tr>\n",
       "\t<tr><th scope=row>Multiome10x_05_ACTCCTCAGCGCAATT-1</th><td>Multiome10x_05_ACTCCTCAGCGCAATT-1</td><td>9144</td><td> 947</td><td>K562</td><td>9.120853</td><td>0.1035652</td></tr>\n",
       "\t<tr><th scope=row>Multiome10x_05_ACTTGTCGTGCTTTAC-1</th><td>Multiome10x_05_ACTTGTCGTGCTTTAC-1</td><td>4069</td><td> 562</td><td>K562</td><td>8.311153</td><td>0.1381175</td></tr>\n",
       "\t<tr><th scope=row>⋮</th><td>⋮</td><td>⋮</td><td>⋮</td><td>⋮</td><td>⋮</td><td>⋮</td></tr>\n",
       "\t<tr><th scope=row>Multiome10x_06_TGATTCAAGACTATTG-1</th><td>Multiome10x_06_TGATTCAAGACTATTG-1</td><td>4282</td><td> 534</td><td>K562</td><td>8.362175</td><td>0.12470808</td></tr>\n",
       "\t<tr><th scope=row>Multiome10x_06_TGCCGGTAGTCAATTG-1</th><td>Multiome10x_06_TGCCGGTAGTCAATTG-1</td><td>4428</td><td> 598</td><td>K562</td><td>8.395703</td><td>0.13504968</td></tr>\n",
       "\t<tr><th scope=row>Multiome10x_06_TGCTAACAGTCACTCC-1</th><td>Multiome10x_06_TGCTAACAGTCACTCC-1</td><td>7037</td><td> 933</td><td>K562</td><td>8.858937</td><td>0.13258491</td></tr>\n",
       "\t<tr><th scope=row>Multiome10x_06_TGCTAACAGTTTAACG-1</th><td>Multiome10x_06_TGCTAACAGTTTAACG-1</td><td>4883</td><td> 697</td><td>K562</td><td>8.493515</td><td>0.14274012</td></tr>\n",
       "\t<tr><th scope=row>Multiome10x_06_TGCTCACTCGGCCATA-1</th><td>Multiome10x_06_TGCTCACTCGGCCATA-1</td><td>4181</td><td> 862</td><td>K562</td><td>8.338306</td><td>0.20617077</td></tr>\n",
       "\t<tr><th scope=row>Multiome10x_06_TGCTTAAAGATTCCTT-1</th><td>Multiome10x_06_TGCTTAAAGATTCCTT-1</td><td>5269</td><td> 529</td><td>K562</td><td>8.569596</td><td>0.10039856</td></tr>\n",
       "\t<tr><th scope=row>Multiome10x_06_TGCTTGTGTCCTTCTC-1</th><td>Multiome10x_06_TGCTTGTGTCCTTCTC-1</td><td>3256</td><td> 394</td><td>K562</td><td>8.088255</td><td>0.12100737</td></tr>\n",
       "\t<tr><th scope=row>Multiome10x_06_TGCTTGTGTTGCTGGG-1</th><td>Multiome10x_06_TGCTTGTGTTGCTGGG-1</td><td>5654</td><td>1122</td><td>K562</td><td>8.640119</td><td>0.19844358</td></tr>\n",
       "\t<tr><th scope=row>Multiome10x_06_TGGACGGAGGCTGGCT-1</th><td>Multiome10x_06_TGGACGGAGGCTGGCT-1</td><td>4130</td><td> 638</td><td>K562</td><td>8.326033</td><td>0.15447942</td></tr>\n",
       "\t<tr><th scope=row>Multiome10x_06_TGGACTAGTTTAGCTC-1</th><td>Multiome10x_06_TGGACTAGTTTAGCTC-1</td><td>4927</td><td> 671</td><td>K562</td><td>8.502486</td><td>0.13618835</td></tr>\n",
       "\t<tr><th scope=row>Multiome10x_06_TGGTCAAGTGAGAAAC-1</th><td>Multiome10x_06_TGGTCAAGTGAGAAAC-1</td><td>5150</td><td> 587</td><td>K562</td><td>8.546752</td><td>0.11398058</td></tr>\n",
       "\t<tr><th scope=row>Multiome10x_06_TGTAAGTGTCACAGCG-1</th><td>Multiome10x_06_TGTAAGTGTCACAGCG-1</td><td>4793</td><td> 557</td><td>K562</td><td>8.474912</td><td>0.11621114</td></tr>\n",
       "\t<tr><th scope=row>Multiome10x_06_TGTCATAAGAGCAAGC-1</th><td>Multiome10x_06_TGTCATAAGAGCAAGC-1</td><td>4857</td><td> 803</td><td>K562</td><td>8.488176</td><td>0.16532839</td></tr>\n",
       "\t<tr><th scope=row>Multiome10x_06_TTAATCGAGTATGTGC-1</th><td>Multiome10x_06_TTAATCGAGTATGTGC-1</td><td>5230</td><td> 635</td><td>K562</td><td>8.562167</td><td>0.12141491</td></tr>\n",
       "\t<tr><th scope=row>Multiome10x_06_TTACACCGTTAGCATG-1</th><td>Multiome10x_06_TTACACCGTTAGCATG-1</td><td>6368</td><td> 737</td><td>K562</td><td>8.759041</td><td>0.11573492</td></tr>\n",
       "\t<tr><th scope=row>Multiome10x_06_TTACCTGTCACTAATG-1</th><td>Multiome10x_06_TTACCTGTCACTAATG-1</td><td>5343</td><td> 554</td><td>K562</td><td>8.583543</td><td>0.10368707</td></tr>\n",
       "\t<tr><th scope=row>Multiome10x_06_TTAGAAGCAAACGCGA-1</th><td>Multiome10x_06_TTAGAAGCAAACGCGA-1</td><td>7828</td><td>1139</td><td>K562</td><td>8.965462</td><td>0.14550332</td></tr>\n",
       "\t<tr><th scope=row>Multiome10x_06_TTAGACTCATCCTGAA-1</th><td>Multiome10x_06_TTAGACTCATCCTGAA-1</td><td>5335</td><td> 710</td><td>K562</td><td>8.582044</td><td>0.13308341</td></tr>\n",
       "\t<tr><th scope=row>Multiome10x_06_TTAGCTGCACCTCAGG-1</th><td>Multiome10x_06_TTAGCTGCACCTCAGG-1</td><td>6256</td><td> 686</td><td>K562</td><td>8.741296</td><td>0.10965473</td></tr>\n",
       "\t<tr><th scope=row>Multiome10x_06_TTCATCCCAGTACCGT-1</th><td>Multiome10x_06_TTCATCCCAGTACCGT-1</td><td>4846</td><td> 563</td><td>K562</td><td>8.485909</td><td>0.11617829</td></tr>\n",
       "\t<tr><th scope=row>Multiome10x_06_TTCCTTCTCGATTTAG-1</th><td>Multiome10x_06_TTCCTTCTCGATTTAG-1</td><td>5637</td><td> 912</td><td>K562</td><td>8.637107</td><td>0.16178819</td></tr>\n",
       "\t<tr><th scope=row>Multiome10x_06_TTCGGTACAGTTTGTG-1</th><td>Multiome10x_06_TTCGGTACAGTTTGTG-1</td><td>4471</td><td> 399</td><td>K562</td><td>8.405367</td><td>0.08924178</td></tr>\n",
       "\t<tr><th scope=row>Multiome10x_06_TTGGATATCCTAAGTA-1</th><td>Multiome10x_06_TTGGATATCCTAAGTA-1</td><td>8063</td><td>1034</td><td>K562</td><td>8.995041</td><td>0.12824011</td></tr>\n",
       "\t<tr><th scope=row>Multiome10x_06_TTGGGCGGTGAAACAA-1</th><td>Multiome10x_06_TTGGGCGGTGAAACAA-1</td><td>4322</td><td> 657</td><td>K562</td><td>8.371474</td><td>0.15201296</td></tr>\n",
       "\t<tr><th scope=row>Multiome10x_06_TTGTTCCCAGGCCAAA-1</th><td>Multiome10x_06_TTGTTCCCAGGCCAAA-1</td><td>6745</td><td> 849</td><td>K562</td><td>8.816557</td><td>0.12587102</td></tr>\n",
       "\t<tr><th scope=row>Multiome10x_06_TTTAACCTCCAACTGG-1</th><td>Multiome10x_06_TTTAACCTCCAACTGG-1</td><td>4535</td><td> 691</td><td>K562</td><td>8.419580</td><td>0.15237045</td></tr>\n",
       "\t<tr><th scope=row>Multiome10x_06_TTTAGGATCCGTTAAA-1</th><td>Multiome10x_06_TTTAGGATCCGTTAAA-1</td><td>6323</td><td> 874</td><td>K562</td><td>8.751949</td><td>0.13822553</td></tr>\n",
       "\t<tr><th scope=row>Multiome10x_06_TTTAGGATCGCTATAA-1</th><td>Multiome10x_06_TTTAGGATCGCTATAA-1</td><td>6014</td><td> 697</td><td>K562</td><td>8.701845</td><td>0.11589624</td></tr>\n",
       "\t<tr><th scope=row>Multiome10x_06_TTTCATCAGTCATTAG-1</th><td>Multiome10x_06_TTTCATCAGTCATTAG-1</td><td>6012</td><td> 852</td><td>K562</td><td>8.701513</td><td>0.14171657</td></tr>\n",
       "\t<tr><th scope=row>Multiome10x_06_TTTGGTGCACGTTACA-1</th><td>Multiome10x_06_TTTGGTGCACGTTACA-1</td><td>9683</td><td>1307</td><td>K562</td><td>9.178127</td><td>0.13497883</td></tr>\n",
       "</tbody>\n",
       "</table>\n"
      ],
      "text/latex": [
       "A data.frame: 593 × 6\n",
       "\\begin{tabular}{r|llllll}\n",
       "  & cell & nUMI & nMito & celltype & log.nUMI & percent.mito\\\\\n",
       "  & <chr> & <dbl> & <dbl> & <chr> & <dbl> & <dbl>\\\\\n",
       "\\hline\n",
       "\tMultiome10x\\_05\\_AAACCGGCAATTTAGC-1 & Multiome10x\\_05\\_AAACCGGCAATTTAGC-1 & 4658 &  541 & K562 & 8.446341 & 0.1161443\\\\\n",
       "\tMultiome10x\\_05\\_AAAGCTTGTACCCACC-1 & Multiome10x\\_05\\_AAAGCTTGTACCCACC-1 & 6157 &  749 & K562 & 8.725345 & 0.1216502\\\\\n",
       "\tMultiome10x\\_05\\_AACATAGCATGTTGTG-1 & Multiome10x\\_05\\_AACATAGCATGTTGTG-1 & 5224 &  821 & K562 & 8.561019 & 0.1571593\\\\\n",
       "\tMultiome10x\\_05\\_AACGACAAGACTTACA-1 & Multiome10x\\_05\\_AACGACAAGACTTACA-1 & 6710 &  998 & K562 & 8.811354 & 0.1487332\\\\\n",
       "\tMultiome10x\\_05\\_AACTAGTGTTGAATCG-1 & Multiome10x\\_05\\_AACTAGTGTTGAATCG-1 & 4725 &  698 & K562 & 8.460623 & 0.1477249\\\\\n",
       "\tMultiome10x\\_05\\_AAGAATCAGGCGGGTA-1 & Multiome10x\\_05\\_AAGAATCAGGCGGGTA-1 & 5059 &  965 & K562 & 8.528924 & 0.1907492\\\\\n",
       "\tMultiome10x\\_05\\_AAGACAAGTCCTTAGT-1 & Multiome10x\\_05\\_AAGACAAGTCCTTAGT-1 & 5980 &  685 & K562 & 8.696176 & 0.1145485\\\\\n",
       "\tMultiome10x\\_05\\_AAGCATGAGCGAGGTG-1 & Multiome10x\\_05\\_AAGCATGAGCGAGGTG-1 & 3846 &  484 & K562 & 8.254789 & 0.1258450\\\\\n",
       "\tMultiome10x\\_05\\_AAGCCTGTCCCTCAAC-1 & Multiome10x\\_05\\_AAGCCTGTCCCTCAAC-1 & 3979 &  585 & K562 & 8.288786 & 0.1470219\\\\\n",
       "\tMultiome10x\\_05\\_AAGCGAATCATAACTG-1 & Multiome10x\\_05\\_AAGCGAATCATAACTG-1 & 4596 &  652 & K562 & 8.432942 & 0.1418625\\\\\n",
       "\tMultiome10x\\_05\\_AAGCGGGTCATGGCCA-1 & Multiome10x\\_05\\_AAGCGGGTCATGGCCA-1 & 8265 &  912 & K562 & 9.019785 & 0.1103448\\\\\n",
       "\tMultiome10x\\_05\\_AAGCGGGTCCTCCTAA-1 & Multiome10x\\_05\\_AAGCGGGTCCTCCTAA-1 & 4589 &  591 & K562 & 8.431417 & 0.1287862\\\\\n",
       "\tMultiome10x\\_05\\_AAGCGGGTCTACCTAT-1 & Multiome10x\\_05\\_AAGCGGGTCTACCTAT-1 & 3752 &  515 & K562 & 8.230044 & 0.1372601\\\\\n",
       "\tMultiome10x\\_05\\_AAGGATGTCTGTTCAT-1 & Multiome10x\\_05\\_AAGGATGTCTGTTCAT-1 & 3489 &  619 & K562 & 8.157370 & 0.1774147\\\\\n",
       "\tMultiome10x\\_05\\_AAGGTCAAGCGTGCGT-1 & Multiome10x\\_05\\_AAGGTCAAGCGTGCGT-1 & 3326 &  564 & K562 & 8.109526 & 0.1695731\\\\\n",
       "\tMultiome10x\\_05\\_AATACCGGTATTGGAT-1 & Multiome10x\\_05\\_AATACCGGTATTGGAT-1 & 3110 &  406 & K562 & 8.042378 & 0.1305466\\\\\n",
       "\tMultiome10x\\_05\\_AATCAGGAGTCATTAG-1 & Multiome10x\\_05\\_AATCAGGAGTCATTAG-1 & 5080 &  600 & K562 & 8.533067 & 0.1181102\\\\\n",
       "\tMultiome10x\\_05\\_AATCCCTGTGAGCGAA-1 & Multiome10x\\_05\\_AATCCCTGTGAGCGAA-1 & 5262 &  727 & K562 & 8.568266 & 0.1381604\\\\\n",
       "\tMultiome10x\\_05\\_ACATCATCATTGGGAG-1 & Multiome10x\\_05\\_ACATCATCATTGGGAG-1 & 5087 &  745 & K562 & 8.534444 & 0.1464517\\\\\n",
       "\tMultiome10x\\_05\\_ACCAAGCGTACCGTAA-1 & Multiome10x\\_05\\_ACCAAGCGTACCGTAA-1 & 6255 &  720 & K562 & 8.741136 & 0.1151079\\\\\n",
       "\tMultiome10x\\_05\\_ACCCAGGGTGTTTCAC-1 & Multiome10x\\_05\\_ACCCAGGGTGTTTCAC-1 & 5777 &  638 & K562 & 8.661640 & 0.1104379\\\\\n",
       "\tMultiome10x\\_05\\_ACCGGCTAGCCTGACA-1 & Multiome10x\\_05\\_ACCGGCTAGCCTGACA-1 & 5406 &  804 & K562 & 8.595265 & 0.1487236\\\\\n",
       "\tMultiome10x\\_05\\_ACCTAAGGTCCGTGAG-1 & Multiome10x\\_05\\_ACCTAAGGTCCGTGAG-1 & 5121 &  674 & K562 & 8.541105 & 0.1316149\\\\\n",
       "\tMultiome10x\\_05\\_ACCTAAGGTTTACGTC-1 & Multiome10x\\_05\\_ACCTAAGGTTTACGTC-1 & 6282 &  820 & K562 & 8.745444 & 0.1305317\\\\\n",
       "\tMultiome10x\\_05\\_ACGACAAAGAGAGGAG-1 & Multiome10x\\_05\\_ACGACAAAGAGAGGAG-1 & 5249 &  663 & K562 & 8.565793 & 0.1263098\\\\\n",
       "\tMultiome10x\\_05\\_ACGATTCAGCCGGTAC-1 & Multiome10x\\_05\\_ACGATTCAGCCGGTAC-1 & 5293 &  779 & K562 & 8.574140 & 0.1471755\\\\\n",
       "\tMultiome10x\\_05\\_ACGCACGGTTTAGCTC-1 & Multiome10x\\_05\\_ACGCACGGTTTAGCTC-1 & 6027 &  867 & K562 & 8.704005 & 0.1438527\\\\\n",
       "\tMultiome10x\\_05\\_ACGTCCTTCAATAGCC-1 & Multiome10x\\_05\\_ACGTCCTTCAATAGCC-1 & 8363 & 1184 & K562 & 9.031572 & 0.1415760\\\\\n",
       "\tMultiome10x\\_05\\_ACTCCTCAGCGCAATT-1 & Multiome10x\\_05\\_ACTCCTCAGCGCAATT-1 & 9144 &  947 & K562 & 9.120853 & 0.1035652\\\\\n",
       "\tMultiome10x\\_05\\_ACTTGTCGTGCTTTAC-1 & Multiome10x\\_05\\_ACTTGTCGTGCTTTAC-1 & 4069 &  562 & K562 & 8.311153 & 0.1381175\\\\\n",
       "\t⋮ & ⋮ & ⋮ & ⋮ & ⋮ & ⋮ & ⋮\\\\\n",
       "\tMultiome10x\\_06\\_TGATTCAAGACTATTG-1 & Multiome10x\\_06\\_TGATTCAAGACTATTG-1 & 4282 &  534 & K562 & 8.362175 & 0.12470808\\\\\n",
       "\tMultiome10x\\_06\\_TGCCGGTAGTCAATTG-1 & Multiome10x\\_06\\_TGCCGGTAGTCAATTG-1 & 4428 &  598 & K562 & 8.395703 & 0.13504968\\\\\n",
       "\tMultiome10x\\_06\\_TGCTAACAGTCACTCC-1 & Multiome10x\\_06\\_TGCTAACAGTCACTCC-1 & 7037 &  933 & K562 & 8.858937 & 0.13258491\\\\\n",
       "\tMultiome10x\\_06\\_TGCTAACAGTTTAACG-1 & Multiome10x\\_06\\_TGCTAACAGTTTAACG-1 & 4883 &  697 & K562 & 8.493515 & 0.14274012\\\\\n",
       "\tMultiome10x\\_06\\_TGCTCACTCGGCCATA-1 & Multiome10x\\_06\\_TGCTCACTCGGCCATA-1 & 4181 &  862 & K562 & 8.338306 & 0.20617077\\\\\n",
       "\tMultiome10x\\_06\\_TGCTTAAAGATTCCTT-1 & Multiome10x\\_06\\_TGCTTAAAGATTCCTT-1 & 5269 &  529 & K562 & 8.569596 & 0.10039856\\\\\n",
       "\tMultiome10x\\_06\\_TGCTTGTGTCCTTCTC-1 & Multiome10x\\_06\\_TGCTTGTGTCCTTCTC-1 & 3256 &  394 & K562 & 8.088255 & 0.12100737\\\\\n",
       "\tMultiome10x\\_06\\_TGCTTGTGTTGCTGGG-1 & Multiome10x\\_06\\_TGCTTGTGTTGCTGGG-1 & 5654 & 1122 & K562 & 8.640119 & 0.19844358\\\\\n",
       "\tMultiome10x\\_06\\_TGGACGGAGGCTGGCT-1 & Multiome10x\\_06\\_TGGACGGAGGCTGGCT-1 & 4130 &  638 & K562 & 8.326033 & 0.15447942\\\\\n",
       "\tMultiome10x\\_06\\_TGGACTAGTTTAGCTC-1 & Multiome10x\\_06\\_TGGACTAGTTTAGCTC-1 & 4927 &  671 & K562 & 8.502486 & 0.13618835\\\\\n",
       "\tMultiome10x\\_06\\_TGGTCAAGTGAGAAAC-1 & Multiome10x\\_06\\_TGGTCAAGTGAGAAAC-1 & 5150 &  587 & K562 & 8.546752 & 0.11398058\\\\\n",
       "\tMultiome10x\\_06\\_TGTAAGTGTCACAGCG-1 & Multiome10x\\_06\\_TGTAAGTGTCACAGCG-1 & 4793 &  557 & K562 & 8.474912 & 0.11621114\\\\\n",
       "\tMultiome10x\\_06\\_TGTCATAAGAGCAAGC-1 & Multiome10x\\_06\\_TGTCATAAGAGCAAGC-1 & 4857 &  803 & K562 & 8.488176 & 0.16532839\\\\\n",
       "\tMultiome10x\\_06\\_TTAATCGAGTATGTGC-1 & Multiome10x\\_06\\_TTAATCGAGTATGTGC-1 & 5230 &  635 & K562 & 8.562167 & 0.12141491\\\\\n",
       "\tMultiome10x\\_06\\_TTACACCGTTAGCATG-1 & Multiome10x\\_06\\_TTACACCGTTAGCATG-1 & 6368 &  737 & K562 & 8.759041 & 0.11573492\\\\\n",
       "\tMultiome10x\\_06\\_TTACCTGTCACTAATG-1 & Multiome10x\\_06\\_TTACCTGTCACTAATG-1 & 5343 &  554 & K562 & 8.583543 & 0.10368707\\\\\n",
       "\tMultiome10x\\_06\\_TTAGAAGCAAACGCGA-1 & Multiome10x\\_06\\_TTAGAAGCAAACGCGA-1 & 7828 & 1139 & K562 & 8.965462 & 0.14550332\\\\\n",
       "\tMultiome10x\\_06\\_TTAGACTCATCCTGAA-1 & Multiome10x\\_06\\_TTAGACTCATCCTGAA-1 & 5335 &  710 & K562 & 8.582044 & 0.13308341\\\\\n",
       "\tMultiome10x\\_06\\_TTAGCTGCACCTCAGG-1 & Multiome10x\\_06\\_TTAGCTGCACCTCAGG-1 & 6256 &  686 & K562 & 8.741296 & 0.10965473\\\\\n",
       "\tMultiome10x\\_06\\_TTCATCCCAGTACCGT-1 & Multiome10x\\_06\\_TTCATCCCAGTACCGT-1 & 4846 &  563 & K562 & 8.485909 & 0.11617829\\\\\n",
       "\tMultiome10x\\_06\\_TTCCTTCTCGATTTAG-1 & Multiome10x\\_06\\_TTCCTTCTCGATTTAG-1 & 5637 &  912 & K562 & 8.637107 & 0.16178819\\\\\n",
       "\tMultiome10x\\_06\\_TTCGGTACAGTTTGTG-1 & Multiome10x\\_06\\_TTCGGTACAGTTTGTG-1 & 4471 &  399 & K562 & 8.405367 & 0.08924178\\\\\n",
       "\tMultiome10x\\_06\\_TTGGATATCCTAAGTA-1 & Multiome10x\\_06\\_TTGGATATCCTAAGTA-1 & 8063 & 1034 & K562 & 8.995041 & 0.12824011\\\\\n",
       "\tMultiome10x\\_06\\_TTGGGCGGTGAAACAA-1 & Multiome10x\\_06\\_TTGGGCGGTGAAACAA-1 & 4322 &  657 & K562 & 8.371474 & 0.15201296\\\\\n",
       "\tMultiome10x\\_06\\_TTGTTCCCAGGCCAAA-1 & Multiome10x\\_06\\_TTGTTCCCAGGCCAAA-1 & 6745 &  849 & K562 & 8.816557 & 0.12587102\\\\\n",
       "\tMultiome10x\\_06\\_TTTAACCTCCAACTGG-1 & Multiome10x\\_06\\_TTTAACCTCCAACTGG-1 & 4535 &  691 & K562 & 8.419580 & 0.15237045\\\\\n",
       "\tMultiome10x\\_06\\_TTTAGGATCCGTTAAA-1 & Multiome10x\\_06\\_TTTAGGATCCGTTAAA-1 & 6323 &  874 & K562 & 8.751949 & 0.13822553\\\\\n",
       "\tMultiome10x\\_06\\_TTTAGGATCGCTATAA-1 & Multiome10x\\_06\\_TTTAGGATCGCTATAA-1 & 6014 &  697 & K562 & 8.701845 & 0.11589624\\\\\n",
       "\tMultiome10x\\_06\\_TTTCATCAGTCATTAG-1 & Multiome10x\\_06\\_TTTCATCAGTCATTAG-1 & 6012 &  852 & K562 & 8.701513 & 0.14171657\\\\\n",
       "\tMultiome10x\\_06\\_TTTGGTGCACGTTACA-1 & Multiome10x\\_06\\_TTTGGTGCACGTTACA-1 & 9683 & 1307 & K562 & 9.178127 & 0.13497883\\\\\n",
       "\\end{tabular}\n"
      ],
      "text/markdown": [
       "\n",
       "A data.frame: 593 × 6\n",
       "\n",
       "| <!--/--> | cell &lt;chr&gt; | nUMI &lt;dbl&gt; | nMito &lt;dbl&gt; | celltype &lt;chr&gt; | log.nUMI &lt;dbl&gt; | percent.mito &lt;dbl&gt; |\n",
       "|---|---|---|---|---|---|---|\n",
       "| Multiome10x_05_AAACCGGCAATTTAGC-1 | Multiome10x_05_AAACCGGCAATTTAGC-1 | 4658 |  541 | K562 | 8.446341 | 0.1161443 |\n",
       "| Multiome10x_05_AAAGCTTGTACCCACC-1 | Multiome10x_05_AAAGCTTGTACCCACC-1 | 6157 |  749 | K562 | 8.725345 | 0.1216502 |\n",
       "| Multiome10x_05_AACATAGCATGTTGTG-1 | Multiome10x_05_AACATAGCATGTTGTG-1 | 5224 |  821 | K562 | 8.561019 | 0.1571593 |\n",
       "| Multiome10x_05_AACGACAAGACTTACA-1 | Multiome10x_05_AACGACAAGACTTACA-1 | 6710 |  998 | K562 | 8.811354 | 0.1487332 |\n",
       "| Multiome10x_05_AACTAGTGTTGAATCG-1 | Multiome10x_05_AACTAGTGTTGAATCG-1 | 4725 |  698 | K562 | 8.460623 | 0.1477249 |\n",
       "| Multiome10x_05_AAGAATCAGGCGGGTA-1 | Multiome10x_05_AAGAATCAGGCGGGTA-1 | 5059 |  965 | K562 | 8.528924 | 0.1907492 |\n",
       "| Multiome10x_05_AAGACAAGTCCTTAGT-1 | Multiome10x_05_AAGACAAGTCCTTAGT-1 | 5980 |  685 | K562 | 8.696176 | 0.1145485 |\n",
       "| Multiome10x_05_AAGCATGAGCGAGGTG-1 | Multiome10x_05_AAGCATGAGCGAGGTG-1 | 3846 |  484 | K562 | 8.254789 | 0.1258450 |\n",
       "| Multiome10x_05_AAGCCTGTCCCTCAAC-1 | Multiome10x_05_AAGCCTGTCCCTCAAC-1 | 3979 |  585 | K562 | 8.288786 | 0.1470219 |\n",
       "| Multiome10x_05_AAGCGAATCATAACTG-1 | Multiome10x_05_AAGCGAATCATAACTG-1 | 4596 |  652 | K562 | 8.432942 | 0.1418625 |\n",
       "| Multiome10x_05_AAGCGGGTCATGGCCA-1 | Multiome10x_05_AAGCGGGTCATGGCCA-1 | 8265 |  912 | K562 | 9.019785 | 0.1103448 |\n",
       "| Multiome10x_05_AAGCGGGTCCTCCTAA-1 | Multiome10x_05_AAGCGGGTCCTCCTAA-1 | 4589 |  591 | K562 | 8.431417 | 0.1287862 |\n",
       "| Multiome10x_05_AAGCGGGTCTACCTAT-1 | Multiome10x_05_AAGCGGGTCTACCTAT-1 | 3752 |  515 | K562 | 8.230044 | 0.1372601 |\n",
       "| Multiome10x_05_AAGGATGTCTGTTCAT-1 | Multiome10x_05_AAGGATGTCTGTTCAT-1 | 3489 |  619 | K562 | 8.157370 | 0.1774147 |\n",
       "| Multiome10x_05_AAGGTCAAGCGTGCGT-1 | Multiome10x_05_AAGGTCAAGCGTGCGT-1 | 3326 |  564 | K562 | 8.109526 | 0.1695731 |\n",
       "| Multiome10x_05_AATACCGGTATTGGAT-1 | Multiome10x_05_AATACCGGTATTGGAT-1 | 3110 |  406 | K562 | 8.042378 | 0.1305466 |\n",
       "| Multiome10x_05_AATCAGGAGTCATTAG-1 | Multiome10x_05_AATCAGGAGTCATTAG-1 | 5080 |  600 | K562 | 8.533067 | 0.1181102 |\n",
       "| Multiome10x_05_AATCCCTGTGAGCGAA-1 | Multiome10x_05_AATCCCTGTGAGCGAA-1 | 5262 |  727 | K562 | 8.568266 | 0.1381604 |\n",
       "| Multiome10x_05_ACATCATCATTGGGAG-1 | Multiome10x_05_ACATCATCATTGGGAG-1 | 5087 |  745 | K562 | 8.534444 | 0.1464517 |\n",
       "| Multiome10x_05_ACCAAGCGTACCGTAA-1 | Multiome10x_05_ACCAAGCGTACCGTAA-1 | 6255 |  720 | K562 | 8.741136 | 0.1151079 |\n",
       "| Multiome10x_05_ACCCAGGGTGTTTCAC-1 | Multiome10x_05_ACCCAGGGTGTTTCAC-1 | 5777 |  638 | K562 | 8.661640 | 0.1104379 |\n",
       "| Multiome10x_05_ACCGGCTAGCCTGACA-1 | Multiome10x_05_ACCGGCTAGCCTGACA-1 | 5406 |  804 | K562 | 8.595265 | 0.1487236 |\n",
       "| Multiome10x_05_ACCTAAGGTCCGTGAG-1 | Multiome10x_05_ACCTAAGGTCCGTGAG-1 | 5121 |  674 | K562 | 8.541105 | 0.1316149 |\n",
       "| Multiome10x_05_ACCTAAGGTTTACGTC-1 | Multiome10x_05_ACCTAAGGTTTACGTC-1 | 6282 |  820 | K562 | 8.745444 | 0.1305317 |\n",
       "| Multiome10x_05_ACGACAAAGAGAGGAG-1 | Multiome10x_05_ACGACAAAGAGAGGAG-1 | 5249 |  663 | K562 | 8.565793 | 0.1263098 |\n",
       "| Multiome10x_05_ACGATTCAGCCGGTAC-1 | Multiome10x_05_ACGATTCAGCCGGTAC-1 | 5293 |  779 | K562 | 8.574140 | 0.1471755 |\n",
       "| Multiome10x_05_ACGCACGGTTTAGCTC-1 | Multiome10x_05_ACGCACGGTTTAGCTC-1 | 6027 |  867 | K562 | 8.704005 | 0.1438527 |\n",
       "| Multiome10x_05_ACGTCCTTCAATAGCC-1 | Multiome10x_05_ACGTCCTTCAATAGCC-1 | 8363 | 1184 | K562 | 9.031572 | 0.1415760 |\n",
       "| Multiome10x_05_ACTCCTCAGCGCAATT-1 | Multiome10x_05_ACTCCTCAGCGCAATT-1 | 9144 |  947 | K562 | 9.120853 | 0.1035652 |\n",
       "| Multiome10x_05_ACTTGTCGTGCTTTAC-1 | Multiome10x_05_ACTTGTCGTGCTTTAC-1 | 4069 |  562 | K562 | 8.311153 | 0.1381175 |\n",
       "| ⋮ | ⋮ | ⋮ | ⋮ | ⋮ | ⋮ | ⋮ |\n",
       "| Multiome10x_06_TGATTCAAGACTATTG-1 | Multiome10x_06_TGATTCAAGACTATTG-1 | 4282 |  534 | K562 | 8.362175 | 0.12470808 |\n",
       "| Multiome10x_06_TGCCGGTAGTCAATTG-1 | Multiome10x_06_TGCCGGTAGTCAATTG-1 | 4428 |  598 | K562 | 8.395703 | 0.13504968 |\n",
       "| Multiome10x_06_TGCTAACAGTCACTCC-1 | Multiome10x_06_TGCTAACAGTCACTCC-1 | 7037 |  933 | K562 | 8.858937 | 0.13258491 |\n",
       "| Multiome10x_06_TGCTAACAGTTTAACG-1 | Multiome10x_06_TGCTAACAGTTTAACG-1 | 4883 |  697 | K562 | 8.493515 | 0.14274012 |\n",
       "| Multiome10x_06_TGCTCACTCGGCCATA-1 | Multiome10x_06_TGCTCACTCGGCCATA-1 | 4181 |  862 | K562 | 8.338306 | 0.20617077 |\n",
       "| Multiome10x_06_TGCTTAAAGATTCCTT-1 | Multiome10x_06_TGCTTAAAGATTCCTT-1 | 5269 |  529 | K562 | 8.569596 | 0.10039856 |\n",
       "| Multiome10x_06_TGCTTGTGTCCTTCTC-1 | Multiome10x_06_TGCTTGTGTCCTTCTC-1 | 3256 |  394 | K562 | 8.088255 | 0.12100737 |\n",
       "| Multiome10x_06_TGCTTGTGTTGCTGGG-1 | Multiome10x_06_TGCTTGTGTTGCTGGG-1 | 5654 | 1122 | K562 | 8.640119 | 0.19844358 |\n",
       "| Multiome10x_06_TGGACGGAGGCTGGCT-1 | Multiome10x_06_TGGACGGAGGCTGGCT-1 | 4130 |  638 | K562 | 8.326033 | 0.15447942 |\n",
       "| Multiome10x_06_TGGACTAGTTTAGCTC-1 | Multiome10x_06_TGGACTAGTTTAGCTC-1 | 4927 |  671 | K562 | 8.502486 | 0.13618835 |\n",
       "| Multiome10x_06_TGGTCAAGTGAGAAAC-1 | Multiome10x_06_TGGTCAAGTGAGAAAC-1 | 5150 |  587 | K562 | 8.546752 | 0.11398058 |\n",
       "| Multiome10x_06_TGTAAGTGTCACAGCG-1 | Multiome10x_06_TGTAAGTGTCACAGCG-1 | 4793 |  557 | K562 | 8.474912 | 0.11621114 |\n",
       "| Multiome10x_06_TGTCATAAGAGCAAGC-1 | Multiome10x_06_TGTCATAAGAGCAAGC-1 | 4857 |  803 | K562 | 8.488176 | 0.16532839 |\n",
       "| Multiome10x_06_TTAATCGAGTATGTGC-1 | Multiome10x_06_TTAATCGAGTATGTGC-1 | 5230 |  635 | K562 | 8.562167 | 0.12141491 |\n",
       "| Multiome10x_06_TTACACCGTTAGCATG-1 | Multiome10x_06_TTACACCGTTAGCATG-1 | 6368 |  737 | K562 | 8.759041 | 0.11573492 |\n",
       "| Multiome10x_06_TTACCTGTCACTAATG-1 | Multiome10x_06_TTACCTGTCACTAATG-1 | 5343 |  554 | K562 | 8.583543 | 0.10368707 |\n",
       "| Multiome10x_06_TTAGAAGCAAACGCGA-1 | Multiome10x_06_TTAGAAGCAAACGCGA-1 | 7828 | 1139 | K562 | 8.965462 | 0.14550332 |\n",
       "| Multiome10x_06_TTAGACTCATCCTGAA-1 | Multiome10x_06_TTAGACTCATCCTGAA-1 | 5335 |  710 | K562 | 8.582044 | 0.13308341 |\n",
       "| Multiome10x_06_TTAGCTGCACCTCAGG-1 | Multiome10x_06_TTAGCTGCACCTCAGG-1 | 6256 |  686 | K562 | 8.741296 | 0.10965473 |\n",
       "| Multiome10x_06_TTCATCCCAGTACCGT-1 | Multiome10x_06_TTCATCCCAGTACCGT-1 | 4846 |  563 | K562 | 8.485909 | 0.11617829 |\n",
       "| Multiome10x_06_TTCCTTCTCGATTTAG-1 | Multiome10x_06_TTCCTTCTCGATTTAG-1 | 5637 |  912 | K562 | 8.637107 | 0.16178819 |\n",
       "| Multiome10x_06_TTCGGTACAGTTTGTG-1 | Multiome10x_06_TTCGGTACAGTTTGTG-1 | 4471 |  399 | K562 | 8.405367 | 0.08924178 |\n",
       "| Multiome10x_06_TTGGATATCCTAAGTA-1 | Multiome10x_06_TTGGATATCCTAAGTA-1 | 8063 | 1034 | K562 | 8.995041 | 0.12824011 |\n",
       "| Multiome10x_06_TTGGGCGGTGAAACAA-1 | Multiome10x_06_TTGGGCGGTGAAACAA-1 | 4322 |  657 | K562 | 8.371474 | 0.15201296 |\n",
       "| Multiome10x_06_TTGTTCCCAGGCCAAA-1 | Multiome10x_06_TTGTTCCCAGGCCAAA-1 | 6745 |  849 | K562 | 8.816557 | 0.12587102 |\n",
       "| Multiome10x_06_TTTAACCTCCAACTGG-1 | Multiome10x_06_TTTAACCTCCAACTGG-1 | 4535 |  691 | K562 | 8.419580 | 0.15237045 |\n",
       "| Multiome10x_06_TTTAGGATCCGTTAAA-1 | Multiome10x_06_TTTAGGATCCGTTAAA-1 | 6323 |  874 | K562 | 8.751949 | 0.13822553 |\n",
       "| Multiome10x_06_TTTAGGATCGCTATAA-1 | Multiome10x_06_TTTAGGATCGCTATAA-1 | 6014 |  697 | K562 | 8.701845 | 0.11589624 |\n",
       "| Multiome10x_06_TTTCATCAGTCATTAG-1 | Multiome10x_06_TTTCATCAGTCATTAG-1 | 6012 |  852 | K562 | 8.701513 | 0.14171657 |\n",
       "| Multiome10x_06_TTTGGTGCACGTTACA-1 | Multiome10x_06_TTTGGTGCACGTTACA-1 | 9683 | 1307 | K562 | 9.178127 | 0.13497883 |\n",
       "\n"
      ],
      "text/plain": [
       "                                  cell                              nUMI nMito\n",
       "Multiome10x_05_AAACCGGCAATTTAGC-1 Multiome10x_05_AAACCGGCAATTTAGC-1 4658  541 \n",
       "Multiome10x_05_AAAGCTTGTACCCACC-1 Multiome10x_05_AAAGCTTGTACCCACC-1 6157  749 \n",
       "Multiome10x_05_AACATAGCATGTTGTG-1 Multiome10x_05_AACATAGCATGTTGTG-1 5224  821 \n",
       "Multiome10x_05_AACGACAAGACTTACA-1 Multiome10x_05_AACGACAAGACTTACA-1 6710  998 \n",
       "Multiome10x_05_AACTAGTGTTGAATCG-1 Multiome10x_05_AACTAGTGTTGAATCG-1 4725  698 \n",
       "Multiome10x_05_AAGAATCAGGCGGGTA-1 Multiome10x_05_AAGAATCAGGCGGGTA-1 5059  965 \n",
       "Multiome10x_05_AAGACAAGTCCTTAGT-1 Multiome10x_05_AAGACAAGTCCTTAGT-1 5980  685 \n",
       "Multiome10x_05_AAGCATGAGCGAGGTG-1 Multiome10x_05_AAGCATGAGCGAGGTG-1 3846  484 \n",
       "Multiome10x_05_AAGCCTGTCCCTCAAC-1 Multiome10x_05_AAGCCTGTCCCTCAAC-1 3979  585 \n",
       "Multiome10x_05_AAGCGAATCATAACTG-1 Multiome10x_05_AAGCGAATCATAACTG-1 4596  652 \n",
       "Multiome10x_05_AAGCGGGTCATGGCCA-1 Multiome10x_05_AAGCGGGTCATGGCCA-1 8265  912 \n",
       "Multiome10x_05_AAGCGGGTCCTCCTAA-1 Multiome10x_05_AAGCGGGTCCTCCTAA-1 4589  591 \n",
       "Multiome10x_05_AAGCGGGTCTACCTAT-1 Multiome10x_05_AAGCGGGTCTACCTAT-1 3752  515 \n",
       "Multiome10x_05_AAGGATGTCTGTTCAT-1 Multiome10x_05_AAGGATGTCTGTTCAT-1 3489  619 \n",
       "Multiome10x_05_AAGGTCAAGCGTGCGT-1 Multiome10x_05_AAGGTCAAGCGTGCGT-1 3326  564 \n",
       "Multiome10x_05_AATACCGGTATTGGAT-1 Multiome10x_05_AATACCGGTATTGGAT-1 3110  406 \n",
       "Multiome10x_05_AATCAGGAGTCATTAG-1 Multiome10x_05_AATCAGGAGTCATTAG-1 5080  600 \n",
       "Multiome10x_05_AATCCCTGTGAGCGAA-1 Multiome10x_05_AATCCCTGTGAGCGAA-1 5262  727 \n",
       "Multiome10x_05_ACATCATCATTGGGAG-1 Multiome10x_05_ACATCATCATTGGGAG-1 5087  745 \n",
       "Multiome10x_05_ACCAAGCGTACCGTAA-1 Multiome10x_05_ACCAAGCGTACCGTAA-1 6255  720 \n",
       "Multiome10x_05_ACCCAGGGTGTTTCAC-1 Multiome10x_05_ACCCAGGGTGTTTCAC-1 5777  638 \n",
       "Multiome10x_05_ACCGGCTAGCCTGACA-1 Multiome10x_05_ACCGGCTAGCCTGACA-1 5406  804 \n",
       "Multiome10x_05_ACCTAAGGTCCGTGAG-1 Multiome10x_05_ACCTAAGGTCCGTGAG-1 5121  674 \n",
       "Multiome10x_05_ACCTAAGGTTTACGTC-1 Multiome10x_05_ACCTAAGGTTTACGTC-1 6282  820 \n",
       "Multiome10x_05_ACGACAAAGAGAGGAG-1 Multiome10x_05_ACGACAAAGAGAGGAG-1 5249  663 \n",
       "Multiome10x_05_ACGATTCAGCCGGTAC-1 Multiome10x_05_ACGATTCAGCCGGTAC-1 5293  779 \n",
       "Multiome10x_05_ACGCACGGTTTAGCTC-1 Multiome10x_05_ACGCACGGTTTAGCTC-1 6027  867 \n",
       "Multiome10x_05_ACGTCCTTCAATAGCC-1 Multiome10x_05_ACGTCCTTCAATAGCC-1 8363 1184 \n",
       "Multiome10x_05_ACTCCTCAGCGCAATT-1 Multiome10x_05_ACTCCTCAGCGCAATT-1 9144  947 \n",
       "Multiome10x_05_ACTTGTCGTGCTTTAC-1 Multiome10x_05_ACTTGTCGTGCTTTAC-1 4069  562 \n",
       "⋮                                 ⋮                                 ⋮    ⋮    \n",
       "Multiome10x_06_TGATTCAAGACTATTG-1 Multiome10x_06_TGATTCAAGACTATTG-1 4282  534 \n",
       "Multiome10x_06_TGCCGGTAGTCAATTG-1 Multiome10x_06_TGCCGGTAGTCAATTG-1 4428  598 \n",
       "Multiome10x_06_TGCTAACAGTCACTCC-1 Multiome10x_06_TGCTAACAGTCACTCC-1 7037  933 \n",
       "Multiome10x_06_TGCTAACAGTTTAACG-1 Multiome10x_06_TGCTAACAGTTTAACG-1 4883  697 \n",
       "Multiome10x_06_TGCTCACTCGGCCATA-1 Multiome10x_06_TGCTCACTCGGCCATA-1 4181  862 \n",
       "Multiome10x_06_TGCTTAAAGATTCCTT-1 Multiome10x_06_TGCTTAAAGATTCCTT-1 5269  529 \n",
       "Multiome10x_06_TGCTTGTGTCCTTCTC-1 Multiome10x_06_TGCTTGTGTCCTTCTC-1 3256  394 \n",
       "Multiome10x_06_TGCTTGTGTTGCTGGG-1 Multiome10x_06_TGCTTGTGTTGCTGGG-1 5654 1122 \n",
       "Multiome10x_06_TGGACGGAGGCTGGCT-1 Multiome10x_06_TGGACGGAGGCTGGCT-1 4130  638 \n",
       "Multiome10x_06_TGGACTAGTTTAGCTC-1 Multiome10x_06_TGGACTAGTTTAGCTC-1 4927  671 \n",
       "Multiome10x_06_TGGTCAAGTGAGAAAC-1 Multiome10x_06_TGGTCAAGTGAGAAAC-1 5150  587 \n",
       "Multiome10x_06_TGTAAGTGTCACAGCG-1 Multiome10x_06_TGTAAGTGTCACAGCG-1 4793  557 \n",
       "Multiome10x_06_TGTCATAAGAGCAAGC-1 Multiome10x_06_TGTCATAAGAGCAAGC-1 4857  803 \n",
       "Multiome10x_06_TTAATCGAGTATGTGC-1 Multiome10x_06_TTAATCGAGTATGTGC-1 5230  635 \n",
       "Multiome10x_06_TTACACCGTTAGCATG-1 Multiome10x_06_TTACACCGTTAGCATG-1 6368  737 \n",
       "Multiome10x_06_TTACCTGTCACTAATG-1 Multiome10x_06_TTACCTGTCACTAATG-1 5343  554 \n",
       "Multiome10x_06_TTAGAAGCAAACGCGA-1 Multiome10x_06_TTAGAAGCAAACGCGA-1 7828 1139 \n",
       "Multiome10x_06_TTAGACTCATCCTGAA-1 Multiome10x_06_TTAGACTCATCCTGAA-1 5335  710 \n",
       "Multiome10x_06_TTAGCTGCACCTCAGG-1 Multiome10x_06_TTAGCTGCACCTCAGG-1 6256  686 \n",
       "Multiome10x_06_TTCATCCCAGTACCGT-1 Multiome10x_06_TTCATCCCAGTACCGT-1 4846  563 \n",
       "Multiome10x_06_TTCCTTCTCGATTTAG-1 Multiome10x_06_TTCCTTCTCGATTTAG-1 5637  912 \n",
       "Multiome10x_06_TTCGGTACAGTTTGTG-1 Multiome10x_06_TTCGGTACAGTTTGTG-1 4471  399 \n",
       "Multiome10x_06_TTGGATATCCTAAGTA-1 Multiome10x_06_TTGGATATCCTAAGTA-1 8063 1034 \n",
       "Multiome10x_06_TTGGGCGGTGAAACAA-1 Multiome10x_06_TTGGGCGGTGAAACAA-1 4322  657 \n",
       "Multiome10x_06_TTGTTCCCAGGCCAAA-1 Multiome10x_06_TTGTTCCCAGGCCAAA-1 6745  849 \n",
       "Multiome10x_06_TTTAACCTCCAACTGG-1 Multiome10x_06_TTTAACCTCCAACTGG-1 4535  691 \n",
       "Multiome10x_06_TTTAGGATCCGTTAAA-1 Multiome10x_06_TTTAGGATCCGTTAAA-1 6323  874 \n",
       "Multiome10x_06_TTTAGGATCGCTATAA-1 Multiome10x_06_TTTAGGATCGCTATAA-1 6014  697 \n",
       "Multiome10x_06_TTTCATCAGTCATTAG-1 Multiome10x_06_TTTCATCAGTCATTAG-1 6012  852 \n",
       "Multiome10x_06_TTTGGTGCACGTTACA-1 Multiome10x_06_TTTGGTGCACGTTACA-1 9683 1307 \n",
       "                                  celltype log.nUMI percent.mito\n",
       "Multiome10x_05_AAACCGGCAATTTAGC-1 K562     8.446341 0.1161443   \n",
       "Multiome10x_05_AAAGCTTGTACCCACC-1 K562     8.725345 0.1216502   \n",
       "Multiome10x_05_AACATAGCATGTTGTG-1 K562     8.561019 0.1571593   \n",
       "Multiome10x_05_AACGACAAGACTTACA-1 K562     8.811354 0.1487332   \n",
       "Multiome10x_05_AACTAGTGTTGAATCG-1 K562     8.460623 0.1477249   \n",
       "Multiome10x_05_AAGAATCAGGCGGGTA-1 K562     8.528924 0.1907492   \n",
       "Multiome10x_05_AAGACAAGTCCTTAGT-1 K562     8.696176 0.1145485   \n",
       "Multiome10x_05_AAGCATGAGCGAGGTG-1 K562     8.254789 0.1258450   \n",
       "Multiome10x_05_AAGCCTGTCCCTCAAC-1 K562     8.288786 0.1470219   \n",
       "Multiome10x_05_AAGCGAATCATAACTG-1 K562     8.432942 0.1418625   \n",
       "Multiome10x_05_AAGCGGGTCATGGCCA-1 K562     9.019785 0.1103448   \n",
       "Multiome10x_05_AAGCGGGTCCTCCTAA-1 K562     8.431417 0.1287862   \n",
       "Multiome10x_05_AAGCGGGTCTACCTAT-1 K562     8.230044 0.1372601   \n",
       "Multiome10x_05_AAGGATGTCTGTTCAT-1 K562     8.157370 0.1774147   \n",
       "Multiome10x_05_AAGGTCAAGCGTGCGT-1 K562     8.109526 0.1695731   \n",
       "Multiome10x_05_AATACCGGTATTGGAT-1 K562     8.042378 0.1305466   \n",
       "Multiome10x_05_AATCAGGAGTCATTAG-1 K562     8.533067 0.1181102   \n",
       "Multiome10x_05_AATCCCTGTGAGCGAA-1 K562     8.568266 0.1381604   \n",
       "Multiome10x_05_ACATCATCATTGGGAG-1 K562     8.534444 0.1464517   \n",
       "Multiome10x_05_ACCAAGCGTACCGTAA-1 K562     8.741136 0.1151079   \n",
       "Multiome10x_05_ACCCAGGGTGTTTCAC-1 K562     8.661640 0.1104379   \n",
       "Multiome10x_05_ACCGGCTAGCCTGACA-1 K562     8.595265 0.1487236   \n",
       "Multiome10x_05_ACCTAAGGTCCGTGAG-1 K562     8.541105 0.1316149   \n",
       "Multiome10x_05_ACCTAAGGTTTACGTC-1 K562     8.745444 0.1305317   \n",
       "Multiome10x_05_ACGACAAAGAGAGGAG-1 K562     8.565793 0.1263098   \n",
       "Multiome10x_05_ACGATTCAGCCGGTAC-1 K562     8.574140 0.1471755   \n",
       "Multiome10x_05_ACGCACGGTTTAGCTC-1 K562     8.704005 0.1438527   \n",
       "Multiome10x_05_ACGTCCTTCAATAGCC-1 K562     9.031572 0.1415760   \n",
       "Multiome10x_05_ACTCCTCAGCGCAATT-1 K562     9.120853 0.1035652   \n",
       "Multiome10x_05_ACTTGTCGTGCTTTAC-1 K562     8.311153 0.1381175   \n",
       "⋮                                 ⋮        ⋮        ⋮           \n",
       "Multiome10x_06_TGATTCAAGACTATTG-1 K562     8.362175 0.12470808  \n",
       "Multiome10x_06_TGCCGGTAGTCAATTG-1 K562     8.395703 0.13504968  \n",
       "Multiome10x_06_TGCTAACAGTCACTCC-1 K562     8.858937 0.13258491  \n",
       "Multiome10x_06_TGCTAACAGTTTAACG-1 K562     8.493515 0.14274012  \n",
       "Multiome10x_06_TGCTCACTCGGCCATA-1 K562     8.338306 0.20617077  \n",
       "Multiome10x_06_TGCTTAAAGATTCCTT-1 K562     8.569596 0.10039856  \n",
       "Multiome10x_06_TGCTTGTGTCCTTCTC-1 K562     8.088255 0.12100737  \n",
       "Multiome10x_06_TGCTTGTGTTGCTGGG-1 K562     8.640119 0.19844358  \n",
       "Multiome10x_06_TGGACGGAGGCTGGCT-1 K562     8.326033 0.15447942  \n",
       "Multiome10x_06_TGGACTAGTTTAGCTC-1 K562     8.502486 0.13618835  \n",
       "Multiome10x_06_TGGTCAAGTGAGAAAC-1 K562     8.546752 0.11398058  \n",
       "Multiome10x_06_TGTAAGTGTCACAGCG-1 K562     8.474912 0.11621114  \n",
       "Multiome10x_06_TGTCATAAGAGCAAGC-1 K562     8.488176 0.16532839  \n",
       "Multiome10x_06_TTAATCGAGTATGTGC-1 K562     8.562167 0.12141491  \n",
       "Multiome10x_06_TTACACCGTTAGCATG-1 K562     8.759041 0.11573492  \n",
       "Multiome10x_06_TTACCTGTCACTAATG-1 K562     8.583543 0.10368707  \n",
       "Multiome10x_06_TTAGAAGCAAACGCGA-1 K562     8.965462 0.14550332  \n",
       "Multiome10x_06_TTAGACTCATCCTGAA-1 K562     8.582044 0.13308341  \n",
       "Multiome10x_06_TTAGCTGCACCTCAGG-1 K562     8.741296 0.10965473  \n",
       "Multiome10x_06_TTCATCCCAGTACCGT-1 K562     8.485909 0.11617829  \n",
       "Multiome10x_06_TTCCTTCTCGATTTAG-1 K562     8.637107 0.16178819  \n",
       "Multiome10x_06_TTCGGTACAGTTTGTG-1 K562     8.405367 0.08924178  \n",
       "Multiome10x_06_TTGGATATCCTAAGTA-1 K562     8.995041 0.12824011  \n",
       "Multiome10x_06_TTGGGCGGTGAAACAA-1 K562     8.371474 0.15201296  \n",
       "Multiome10x_06_TTGTTCCCAGGCCAAA-1 K562     8.816557 0.12587102  \n",
       "Multiome10x_06_TTTAACCTCCAACTGG-1 K562     8.419580 0.15237045  \n",
       "Multiome10x_06_TTTAGGATCCGTTAAA-1 K562     8.751949 0.13822553  \n",
       "Multiome10x_06_TTTAGGATCGCTATAA-1 K562     8.701845 0.11589624  \n",
       "Multiome10x_06_TTTCATCAGTCATTAG-1 K562     8.701513 0.14171657  \n",
       "Multiome10x_06_TTTGGTGCACGTTACA-1 K562     9.178127 0.13497883  "
      ]
     },
     "metadata": {},
     "output_type": "display_data"
    }
   ],
   "source": [
    "meta.data = data.frame(cell = colnames(matrix.rna),\n",
    "                       nUMI = colSums(matrix.rna),\n",
    "                       nMito = colSums(matrix.rna[grep(\"MT-\",rownames(matrix.rna)),]),\n",
    "                       celltype = \"K562\")\n",
    "meta.data[,\"log.nUMI\"] = log(meta.data[,\"nUMI\"])\n",
    "meta.data[,\"percent.mito\"] = meta.data[,\"nMito\"] / meta.data[,\"nUMI\"]\n",
    "meta.data"
   ]
  },
  {
   "cell_type": "markdown",
   "id": "b823cb4a-3ce6-40b1-9a0d-d5d1e4aa3912",
   "metadata": {},
   "source": [
    "RUN SCENT prediction"
   ]
  },
  {
   "cell_type": "code",
   "execution_count": 12,
   "id": "f46765dc-9de5-4411-9288-40b59435f9fb",
   "metadata": {},
   "outputs": [],
   "source": [
    "SCENT_algorithm.modified = function (object, \n",
    "                                     # celltype, \n",
    "                                     # ncores, \n",
    "                                     # regr = \"poisson\", \n",
    "                                     # bin = TRUE) \n",
    "                                     regr = \"poisson\") {\n",
    "    res <- data.frame()\n",
    "    for (n in 1:nrow(object@peak.info)) {        \n",
    "        gene <- object@peak.info[n, 1]\n",
    "        this_peak <- object@peak.info[n, 2]\n",
    "        atac_target <- data.frame(cell = colnames(object@atac), \n",
    "            atac = object@atac[this_peak, ])\n",
    "        # if (bin) {\n",
    "        #     atac_target[atac_target$atac > 0, ]$atac <- 1\n",
    "        # }\n",
    "        mrna_target <- object@rna[gene, ]\n",
    "        df <- data.frame(cell = names(mrna_target), exprs = as.numeric(mrna_target))\n",
    "        df <- merge(df, atac_target, by = \"cell\")\n",
    "        df <- merge(df, object@meta.data, by = \"cell\")\n",
    "        # df2 <- df[df[[object@celltypes]] == celltype, ]\n",
    "        df2 <- df\n",
    "        nonzero_m <- length(df2$exprs[df2$exprs > 0])/length(df2$exprs)\n",
    "        nonzero_a <- length(df2$atac[df2$atac > 0])/length(df2$atac)\n",
    "        if (nonzero_m > 0.05 & nonzero_a > 0.05) {\n",
    "            res_var <- \"exprs\"\n",
    "            pred_var <- c(\"atac\", object@covariates)\n",
    "            formula <- as.formula(paste(res_var, paste(pred_var, \n",
    "                collapse = \"+\"), sep = \"~\"))\n",
    "            if (regr == \"poisson\") {\n",
    "                base = glm(formula, family = \"poisson\", data = df2)\n",
    "                coefs <- summary(base)$coefficients[\"atac\", ]\n",
    "                # assoc <- assoc_poisson\n",
    "                assoc <- SCENT::assoc_poisson\n",
    "            }\n",
    "            else if (regr == \"negbin\") {\n",
    "                base = glm.nb(formula, data = df2)\n",
    "                coefs <- summary(base)$coefficients[\"atac\", ]\n",
    "                # assoc <- assoc_negbin\n",
    "                assoc <- SCENT::assoc_negbin\n",
    "            }\n",
    "            bs = boot::boot(df2, assoc, R = 100, formula = formula, \n",
    "                stype = \"i\", parallel = \"no\", ncpus = 1)\n",
    "            # p0 = basic_p(bs$t0[1], bs$t[, 1])\n",
    "            p0 = SCENT::basic_p(bs$t0[1], bs$t[, 1])\n",
    "            # if (p0 < 0.1) {\n",
    "            #     bs = boot::boot(df2, assoc, R = 500, formula = formula, \n",
    "            #       stype = \"i\", \n",
    "            #       # parallel = \"multicore\", ncpus = ncores)\n",
    "            #       parallel = \"no\", ncpus = 1)\n",
    "            #     # p0 = basic_p(bs$t0[1], bs$t[, 1])\n",
    "            #     p0 = SCENT::basic_p(bs$t0[1], bs$t[, 1])\n",
    "            # }\n",
    "            # if (p0 < 0.05) {\n",
    "            #     bs = boot::boot(df2, assoc, R = 2500, formula = formula, \n",
    "            #       stype = \"i\", \n",
    "            #       # parallel = \"multicore\", ncpus = ncores)\n",
    "            #       parallel = \"no\", ncpus = 1)\n",
    "            #     # p0 = basic_p(bs$t0[1], bs$t[, 1])\n",
    "            #     p0 = SCENT::basic_p(bs$t0[1], bs$t[, 1])\n",
    "            # }\n",
    "            # if (p0 < 0.01) {\n",
    "            #     bs = boot::boot(df2, assoc, R = 25000, formula = formula, \n",
    "            #       stype = \"i\", \n",
    "            #       # parallel = \"multicore\", ncpus = ncores)\n",
    "            #       parallel = \"no\", ncpus = 1)\n",
    "            #     # p0 = basic_p(bs$t0[1], bs$t[, 1])\n",
    "            #     p0 = SCENT::basic_p(bs$t0[1], bs$t[, 1])\n",
    "            # }\n",
    "            # if (p0 < 0.001) {\n",
    "            #     bs = boot::boot(df2, assoc, R = 50000, formula = formula, \n",
    "            #       stype = \"i\", \n",
    "            #       # parallel = \"multicore\", ncpus = ncores)\n",
    "            #       parallel = \"no\", ncpus = 1)\n",
    "            #     # p0 = basic_p(bs$t0[1], bs$t[, 1])\n",
    "            #     p0 = SCENT::basic_p(bs$t0[1], bs$t[, 1])\n",
    "            # }\n",
    "            out <- data.frame(gene = gene, peak = this_peak, \n",
    "                beta = coefs[1], se = coefs[2], z = coefs[3], \n",
    "                p = coefs[4], boot_basic_p = p0)           \n",
    "            res <- rbind(res, out)\n",
    "        }\n",
    "    }\n",
    "    object@SCENT.result <- res\n",
    "    return(object)\n",
    "}"
   ]
  },
  {
   "cell_type": "code",
   "execution_count": 13,
   "id": "563771b9-b96a-44d5-a5fe-fa30a7b9851b",
   "metadata": {},
   "outputs": [],
   "source": [
    "dir.create(paste(dir.output,\"chr\",sep = \"/\"),recursive = T)"
   ]
  },
  {
   "cell_type": "code",
   "execution_count": 14,
   "id": "0d2266ce-b92d-40d2-9b78-f39bd33a5079",
   "metadata": {},
   "outputs": [],
   "source": [
    "chr.done = dir(paste(dir.output,\"chr\",sep = \"/\"))\n",
    "chr.run = as.character(unique(seqnames(pairs.E2G.filter2)))\n",
    "chr.run = chr.run[!chr.run %in% chr.done]"
   ]
  },
  {
   "cell_type": "code",
   "execution_count": 15,
   "id": "2d41238d-e833-4e0e-add5-bb56bb615c1a",
   "metadata": {},
   "outputs": [
    {
     "name": "stdout",
     "output_type": "stream",
     "text": [
      "[1] \"chr1\"\n"
     ]
    },
    {
     "name": "stderr",
     "output_type": "stream",
     "text": [
      "Warning message in split.default(x = seq_len(nrow(x)), f = f, drop = drop, ...):\n",
      "“data length is not a multiple of split variable”\n"
     ]
    },
    {
     "name": "stdout",
     "output_type": "stream",
     "text": [
      "[1] \"chr10\"\n"
     ]
    },
    {
     "name": "stderr",
     "output_type": "stream",
     "text": [
      "Warning message in split.default(x = seq_len(nrow(x)), f = f, drop = drop, ...):\n",
      "“data length is not a multiple of split variable”\n"
     ]
    },
    {
     "name": "stdout",
     "output_type": "stream",
     "text": [
      "[1] \"chr11\"\n"
     ]
    },
    {
     "name": "stderr",
     "output_type": "stream",
     "text": [
      "Warning message in split.default(x = seq_len(nrow(x)), f = f, drop = drop, ...):\n",
      "“data length is not a multiple of split variable”\n"
     ]
    },
    {
     "name": "stdout",
     "output_type": "stream",
     "text": [
      "[1] \"chr12\"\n"
     ]
    },
    {
     "name": "stderr",
     "output_type": "stream",
     "text": [
      "Warning message in split.default(x = seq_len(nrow(x)), f = f, drop = drop, ...):\n",
      "“data length is not a multiple of split variable”\n"
     ]
    },
    {
     "name": "stdout",
     "output_type": "stream",
     "text": [
      "[1] \"chr13\"\n"
     ]
    },
    {
     "name": "stderr",
     "output_type": "stream",
     "text": [
      "Warning message in split.default(x = seq_len(nrow(x)), f = f, drop = drop, ...):\n",
      "“data length is not a multiple of split variable”\n"
     ]
    },
    {
     "name": "stdout",
     "output_type": "stream",
     "text": [
      "[1] \"chr14\"\n"
     ]
    },
    {
     "name": "stderr",
     "output_type": "stream",
     "text": [
      "Warning message in split.default(x = seq_len(nrow(x)), f = f, drop = drop, ...):\n",
      "“data length is not a multiple of split variable”\n"
     ]
    },
    {
     "name": "stdout",
     "output_type": "stream",
     "text": [
      "[1] \"chr15\"\n"
     ]
    },
    {
     "name": "stderr",
     "output_type": "stream",
     "text": [
      "Warning message in split.default(x = seq_len(nrow(x)), f = f, drop = drop, ...):\n",
      "“data length is not a multiple of split variable”\n"
     ]
    },
    {
     "name": "stdout",
     "output_type": "stream",
     "text": [
      "[1] \"chr16\"\n"
     ]
    },
    {
     "name": "stderr",
     "output_type": "stream",
     "text": [
      "Warning message in split.default(x = seq_len(nrow(x)), f = f, drop = drop, ...):\n",
      "“data length is not a multiple of split variable”\n"
     ]
    },
    {
     "name": "stdout",
     "output_type": "stream",
     "text": [
      "[1] \"chr17\"\n"
     ]
    },
    {
     "name": "stderr",
     "output_type": "stream",
     "text": [
      "Warning message in split.default(x = seq_len(nrow(x)), f = f, drop = drop, ...):\n",
      "“data length is not a multiple of split variable”\n"
     ]
    },
    {
     "name": "stdout",
     "output_type": "stream",
     "text": [
      "[1] \"chr18\"\n"
     ]
    },
    {
     "name": "stderr",
     "output_type": "stream",
     "text": [
      "Warning message in split.default(x = seq_len(nrow(x)), f = f, drop = drop, ...):\n",
      "“data length is not a multiple of split variable”\n"
     ]
    },
    {
     "name": "stdout",
     "output_type": "stream",
     "text": [
      "[1] \"chr19\"\n"
     ]
    },
    {
     "name": "stderr",
     "output_type": "stream",
     "text": [
      "Warning message in split.default(x = seq_len(nrow(x)), f = f, drop = drop, ...):\n",
      "“data length is not a multiple of split variable”\n"
     ]
    },
    {
     "name": "stdout",
     "output_type": "stream",
     "text": [
      "[1] \"chr2\"\n"
     ]
    },
    {
     "name": "stderr",
     "output_type": "stream",
     "text": [
      "Warning message in split.default(x = seq_len(nrow(x)), f = f, drop = drop, ...):\n",
      "“data length is not a multiple of split variable”\n"
     ]
    },
    {
     "name": "stdout",
     "output_type": "stream",
     "text": [
      "[1] \"chr20\"\n"
     ]
    },
    {
     "name": "stderr",
     "output_type": "stream",
     "text": [
      "Warning message in split.default(x = seq_len(nrow(x)), f = f, drop = drop, ...):\n",
      "“data length is not a multiple of split variable”\n"
     ]
    },
    {
     "name": "stdout",
     "output_type": "stream",
     "text": [
      "[1] \"chr21\"\n",
      "[1] \"chr22\"\n"
     ]
    },
    {
     "name": "stderr",
     "output_type": "stream",
     "text": [
      "Warning message in split.default(x = seq_len(nrow(x)), f = f, drop = drop, ...):\n",
      "“data length is not a multiple of split variable”\n"
     ]
    },
    {
     "name": "stdout",
     "output_type": "stream",
     "text": [
      "[1] \"chr3\"\n"
     ]
    },
    {
     "name": "stderr",
     "output_type": "stream",
     "text": [
      "Warning message in split.default(x = seq_len(nrow(x)), f = f, drop = drop, ...):\n",
      "“data length is not a multiple of split variable”\n"
     ]
    },
    {
     "name": "stdout",
     "output_type": "stream",
     "text": [
      "[1] \"chr4\"\n"
     ]
    },
    {
     "name": "stderr",
     "output_type": "stream",
     "text": [
      "Warning message in split.default(x = seq_len(nrow(x)), f = f, drop = drop, ...):\n",
      "“data length is not a multiple of split variable”\n"
     ]
    },
    {
     "name": "stdout",
     "output_type": "stream",
     "text": [
      "[1] \"chr5\"\n"
     ]
    },
    {
     "name": "stderr",
     "output_type": "stream",
     "text": [
      "Warning message in split.default(x = seq_len(nrow(x)), f = f, drop = drop, ...):\n",
      "“data length is not a multiple of split variable”\n"
     ]
    },
    {
     "name": "stdout",
     "output_type": "stream",
     "text": [
      "[1] \"chr6\"\n"
     ]
    },
    {
     "name": "stderr",
     "output_type": "stream",
     "text": [
      "Warning message in split.default(x = seq_len(nrow(x)), f = f, drop = drop, ...):\n",
      "“data length is not a multiple of split variable”\n"
     ]
    },
    {
     "name": "stdout",
     "output_type": "stream",
     "text": [
      "[1] \"chr7\"\n"
     ]
    },
    {
     "name": "stderr",
     "output_type": "stream",
     "text": [
      "Warning message in split.default(x = seq_len(nrow(x)), f = f, drop = drop, ...):\n",
      "“data length is not a multiple of split variable”\n"
     ]
    },
    {
     "name": "stdout",
     "output_type": "stream",
     "text": [
      "[1] \"chr8\"\n"
     ]
    },
    {
     "name": "stderr",
     "output_type": "stream",
     "text": [
      "Warning message in split.default(x = seq_len(nrow(x)), f = f, drop = drop, ...):\n",
      "“data length is not a multiple of split variable”\n"
     ]
    },
    {
     "name": "stdout",
     "output_type": "stream",
     "text": [
      "[1] \"chr9\"\n"
     ]
    },
    {
     "name": "stderr",
     "output_type": "stream",
     "text": [
      "Warning message in split.default(x = seq_len(nrow(x)), f = f, drop = drop, ...):\n",
      "“data length is not a multiple of split variable”\n"
     ]
    },
    {
     "name": "stdout",
     "output_type": "stream",
     "text": [
      "[1] \"chrX\"\n"
     ]
    },
    {
     "name": "stderr",
     "output_type": "stream",
     "text": [
      "Warning message in split.default(x = seq_len(nrow(x)), f = f, drop = drop, ...):\n",
      "“data length is not a multiple of split variable”\n"
     ]
    }
   ],
   "source": [
    "for(chr.tmp in chr.run){\n",
    "  print(chr.tmp)\n",
    "  pairs.E2G.chr.res = pairs.E2G.filter2[seqnames(pairs.E2G.filter2) == chr.tmp]\n",
    "  gene_peak.chr = as.data.frame(mcols(pairs.E2G.chr.res)[,c(\"TargetGene\",\"PeakName\")])\n",
    "  list.gene_peak.chr <- split(gene_peak.chr, seq_len(n.cores))\n",
    "  \n",
    "  list.obj.SCENT.chr <- lapply(list.gene_peak.chr, function(gene_peak.tmp) {\n",
    "    obj.SCENT.tmp <- CreateSCENTObj(\n",
    "      rna = matrix.rna[rownames(matrix.rna) %in% gene_peak.tmp$TargetGene,],\n",
    "      atac = matrix.atac[rownames(matrix.atac) %in% gene_peak.tmp$PeakName,], \n",
    "      meta.data = meta.data,\n",
    "      peak.info = gene_peak.tmp,\n",
    "      covariates = c(\"log.nUMI\",\"percent.mito\"), \n",
    "      celltypes = \"celltype\"\n",
    "    )\n",
    "  })\n",
    "  \n",
    "  cl <- makeCluster(n.cores)\n",
    "  clusterExport(cl, varlist=c(\"SCENT_algorithm.modified\"))\n",
    "  list.SCENT.result.chr <- parLapply(cl, list.obj.SCENT.chr, function(obj.SCENT.tmp) {\n",
    "    obj.SCENT.tmp <- SCENT_algorithm.modified(object = obj.SCENT.tmp)\n",
    "    return(obj.SCENT.tmp@SCENT.result)\n",
    "  })\n",
    "  stopCluster(cl)\n",
    "  \n",
    "  \n",
    "  df.SCENT.result.chr = do.call(rbind,list.SCENT.result.chr)\n",
    "  rownames(df.SCENT.result.chr) = paste(df.SCENT.result.chr$peak,\n",
    "                                        df.SCENT.result.chr$gene,\n",
    "                                        sep = \"_\")\n",
    "\n",
    "  pairs.E2G.chr.res = pairs.E2G.chr.res[pairs.E2G.chr.res$PairName %in% rownames(df.SCENT.result.chr)]\n",
    "  mcols(pairs.E2G.chr.res)[,c(\"beta\",\"se\",\"z\",\"p\",\"boot_basic_p\")] = \n",
    "    df.SCENT.result.chr[pairs.E2G.chr.res$PairName,c(\"beta\",\"se\",\"z\",\"p\",\"boot_basic_p\")]\n",
    "  pairs.E2G.chr.res$boot_basic_p.log10 = -log10(pairs.E2G.chr.res$boot_basic_p)\n",
    "  pairs.E2G.chr.res$sign = 1\n",
    "  pairs.E2G.chr.res$sign[pairs.E2G.chr.res$beta < 0] = -1\n",
    "  pairs.E2G.chr.res$boot_basic_p.log10.signed = pairs.E2G.chr.res$boot_basic_p.log10 * pairs.E2G.chr.res$sign\n",
    "  saveRDS(pairs.E2G.chr.res,\n",
    "          paste(dir.output,\"chr\",chr.tmp,sep = \"/\"))\n",
    "  rm (pairs.E2G.chr.res)\n",
    "}"
   ]
  },
  {
   "cell_type": "markdown",
   "id": "da9d1451-54e0-49e0-ae8b-cd0158115820",
   "metadata": {},
   "source": [
    "Merge results"
   ]
  },
  {
   "cell_type": "code",
   "execution_count": 16,
   "id": "6b4278f1-7d9d-402f-95c6-f274a6befea3",
   "metadata": {},
   "outputs": [],
   "source": [
    "chr.merge = as.character(unique(seqnames(pairs.E2G.filter2)))\n",
    "list.res = list()\n",
    "for(chr.tmp in chr.merge){\n",
    "    list.res[[chr.tmp]] = readRDS(paste(dir.output,\"chr\",chr.tmp,sep = \"/\"))\n",
    "}\n",
    "pairs.E2G.res = unlist(as(list.res, \"GRangesList\"))"
   ]
  },
  {
   "cell_type": "markdown",
   "id": "6ef1617e-3e2f-44f1-9245-007d569ca84d",
   "metadata": {},
   "source": [
    "Save results"
   ]
  },
  {
   "cell_type": "code",
   "execution_count": 17,
   "id": "48824f05-aedd-476c-88d6-ae58d1833fc9",
   "metadata": {},
   "outputs": [
    {
     "data": {
      "text/plain": [
       "GRanges object with 581699 ranges and 11 metadata columns:\n",
       "       seqnames              ranges strand |  TargetGene               PeakName\n",
       "          <Rle>           <IRanges>  <Rle> | <character>            <character>\n",
       "  chr1     chr1 100037744-100039259      * |         AGL chr1-100037744-10003..\n",
       "  chr1     chr1 100037744-100039259      * |      CDC14A chr1-100037744-10003..\n",
       "  chr1     chr1 100037744-100039259      * |         DBT chr1-100037744-10003..\n",
       "  chr1     chr1 100037744-100039259      * |        RTCA chr1-100037744-10003..\n",
       "  chr1     chr1 100037744-100039259      * |     SLC30A7 chr1-100037744-10003..\n",
       "   ...      ...                 ...    ... .         ...                    ...\n",
       "  chrX     chrX     9981332-9982005      * |        WWC3   chrX-9981332-9982005\n",
       "  chrX     chrX     9986716-9987132      * |       TBL1X   chrX-9986716-9987132\n",
       "  chrX     chrX     9986716-9987132      * |        WWC3   chrX-9986716-9987132\n",
       "  chrX     chrX     9995716-9996196      * |       TBL1X   chrX-9995716-9996196\n",
       "  chrX     chrX     9995716-9996196      * |        WWC3   chrX-9995716-9996196\n",
       "                     PairName       beta        se         z         p\n",
       "                  <character>  <numeric> <numeric> <numeric> <numeric>\n",
       "  chr1 chr1-100037744-10003.. 0.14894751  0.326279 0.4565032  0.648028\n",
       "  chr1 chr1-100037744-10003.. 0.00115577  0.104115 0.0111009  0.991143\n",
       "  chr1 chr1-100037744-10003.. 0.13447513  0.307332 0.4375565  0.661708\n",
       "  chr1 chr1-100037744-10003.. 0.02322364  0.210984 0.1100728  0.912352\n",
       "  chr1 chr1-100037744-10003.. 0.11009447  0.155588 0.7076039  0.479191\n",
       "   ...                    ...        ...       ...       ...       ...\n",
       "  chrX chrX-9981332-9982005..  0.0702029  0.352153  0.199353  0.841986\n",
       "  chrX chrX-9986716-9987132.. -0.1186190  0.132618 -0.894439  0.371087\n",
       "  chrX chrX-9986716-9987132..  0.1018724  0.314098  0.324333  0.745686\n",
       "  chrX chrX-9995716-9996196.. -0.1128221  0.160427 -0.703261  0.481893\n",
       "  chrX chrX-9995716-9996196..  0.3908387  0.336867  1.160215  0.245961\n",
       "       boot_basic_p boot_basic_p.log10      sign boot_basic_p.log10.signed\n",
       "          <numeric>          <numeric> <numeric>                 <numeric>\n",
       "  chr1         0.54         0.26760624         1                0.26760624\n",
       "  chr1         0.98         0.00877392         1                0.00877392\n",
       "  chr1         0.80         0.09691001         1                0.09691001\n",
       "  chr1         0.90         0.04575749         1                0.04575749\n",
       "  chr1         0.46         0.33724217         1                0.33724217\n",
       "   ...          ...                ...       ...                       ...\n",
       "  chrX         0.82         0.08618615         1                0.08618615\n",
       "  chrX         0.60         0.22184875        -1               -0.22184875\n",
       "  chrX         0.98         0.00877392         1                0.00877392\n",
       "  chrX         0.62         0.20760831        -1               -0.20760831\n",
       "  chrX         0.30         0.52287875         1                0.52287875\n",
       "  -------\n",
       "  seqinfo: 23 sequences from an unspecified genome; no seqlengths"
      ]
     },
     "metadata": {},
     "output_type": "display_data"
    }
   ],
   "source": [
    "saveRDS(pairs.E2G.res,\n",
    "        paste(dir.output,\"pairs.E2G.res.rds\",sep = \"/\"))\n",
    "pairs.E2G.res"
   ]
  },
  {
   "cell_type": "code",
   "execution_count": 18,
   "id": "2297128a-9ed6-42b8-90c7-459969fb5afd",
   "metadata": {},
   "outputs": [
    {
     "data": {
      "text/html": [
       "<table class=\"dataframe\">\n",
       "<caption>A data.frame: 581699 × 13</caption>\n",
       "<thead>\n",
       "\t<tr><th scope=col>chr</th><th scope=col>start</th><th scope=col>end</th><th scope=col>TargetGene</th><th scope=col>CellType</th><th scope=col>beta</th><th scope=col>se</th><th scope=col>z</th><th scope=col>p</th><th scope=col>boot_basic_p</th><th scope=col>boot_basic_p.log10</th><th scope=col>sign</th><th scope=col>boot_basic_p.log10.signed</th></tr>\n",
       "\t<tr><th scope=col>&lt;fct&gt;</th><th scope=col>&lt;int&gt;</th><th scope=col>&lt;int&gt;</th><th scope=col>&lt;chr&gt;</th><th scope=col>&lt;chr&gt;</th><th scope=col>&lt;dbl&gt;</th><th scope=col>&lt;dbl&gt;</th><th scope=col>&lt;dbl&gt;</th><th scope=col>&lt;dbl&gt;</th><th scope=col>&lt;dbl&gt;</th><th scope=col>&lt;dbl&gt;</th><th scope=col>&lt;dbl&gt;</th><th scope=col>&lt;dbl&gt;</th></tr>\n",
       "</thead>\n",
       "<tbody>\n",
       "\t<tr><td>chr1</td><td>100037744</td><td>100039259</td><td>AGL     </td><td>K562</td><td> 0.148947509</td><td>0.32627922</td><td> 0.45650321</td><td>0.6480282</td><td>0.54</td><td>0.267606240</td><td> 1</td><td> 0.267606240</td></tr>\n",
       "\t<tr><td>chr1</td><td>100037744</td><td>100039259</td><td>CDC14A  </td><td>K562</td><td> 0.001155769</td><td>0.10411488</td><td> 0.01110090</td><td>0.9911429</td><td>0.98</td><td>0.008773924</td><td> 1</td><td> 0.008773924</td></tr>\n",
       "\t<tr><td>chr1</td><td>100037744</td><td>100039259</td><td>DBT     </td><td>K562</td><td> 0.134475125</td><td>0.30733205</td><td> 0.43755646</td><td>0.6617078</td><td>0.80</td><td>0.096910013</td><td> 1</td><td> 0.096910013</td></tr>\n",
       "\t<tr><td>chr1</td><td>100037744</td><td>100039259</td><td>RTCA    </td><td>K562</td><td> 0.023223645</td><td>0.21098438</td><td> 0.11007282</td><td>0.9123516</td><td>0.90</td><td>0.045757491</td><td> 1</td><td> 0.045757491</td></tr>\n",
       "\t<tr><td>chr1</td><td>100037744</td><td>100039259</td><td>SLC30A7 </td><td>K562</td><td> 0.110094470</td><td>0.15558770</td><td> 0.70760392</td><td>0.4791913</td><td>0.46</td><td>0.337242168</td><td> 1</td><td> 0.337242168</td></tr>\n",
       "\t<tr><td>chr1</td><td>100037744</td><td>100039259</td><td>SLC35A3 </td><td>K562</td><td> 0.304889758</td><td>0.26892111</td><td> 1.13375166</td><td>0.2568987</td><td>0.18</td><td>0.744727495</td><td> 1</td><td> 0.744727495</td></tr>\n",
       "\t<tr><td>chr1</td><td>100037744</td><td>100039259</td><td>TRMT13  </td><td>K562</td><td>-0.012675443</td><td>0.27345702</td><td>-0.04635260</td><td>0.9630292</td><td>0.92</td><td>0.036212173</td><td>-1</td><td>-0.036212173</td></tr>\n",
       "\t<tr><td>chr1</td><td>100046669</td><td>100047239</td><td>AGL     </td><td>K562</td><td> 0.394132110</td><td>0.39909532</td><td> 0.98756385</td><td>0.3233663</td><td>0.30</td><td>0.522878745</td><td> 1</td><td> 0.522878745</td></tr>\n",
       "\t<tr><td>chr1</td><td>100046669</td><td>100047239</td><td>CDC14A  </td><td>K562</td><td> 0.189687556</td><td>0.13403030</td><td> 1.41525875</td><td>0.1569926</td><td>0.30</td><td>0.522878745</td><td> 1</td><td> 0.522878745</td></tr>\n",
       "\t<tr><td>chr1</td><td>100046669</td><td>100047239</td><td>DBT     </td><td>K562</td><td>-0.025683445</td><td>0.44166516</td><td>-0.05815139</td><td>0.9536280</td><td>0.94</td><td>0.026872146</td><td>-1</td><td>-0.026872146</td></tr>\n",
       "\t<tr><td>chr1</td><td>100046669</td><td>100047239</td><td>RTCA    </td><td>K562</td><td>-0.359626532</td><td>0.35194817</td><td>-1.02181675</td><td>0.3068676</td><td>0.38</td><td>0.420216403</td><td>-1</td><td>-0.420216403</td></tr>\n",
       "\t<tr><td>chr1</td><td>100046669</td><td>100047239</td><td>SLC30A7 </td><td>K562</td><td>-0.060565514</td><td>0.22525604</td><td>-0.26887410</td><td>0.7880266</td><td>0.78</td><td>0.107905397</td><td>-1</td><td>-0.107905397</td></tr>\n",
       "\t<tr><td>chr1</td><td>100046669</td><td>100047239</td><td>SLC35A3 </td><td>K562</td><td> 0.222932961</td><td>0.34920197</td><td> 0.63840694</td><td>0.5232088</td><td>0.46</td><td>0.337242168</td><td> 1</td><td> 0.337242168</td></tr>\n",
       "\t<tr><td>chr1</td><td>100046669</td><td>100047239</td><td>TRMT13  </td><td>K562</td><td>-0.008571960</td><td>0.38476538</td><td>-0.02227841</td><td>0.9822259</td><td>0.94</td><td>0.026872146</td><td>-1</td><td>-0.026872146</td></tr>\n",
       "\t<tr><td>chr1</td><td>100132473</td><td>100133482</td><td>AGL     </td><td>K562</td><td> 0.144345440</td><td>0.32603607</td><td> 0.44272844</td><td>0.6579622</td><td>0.68</td><td>0.167491087</td><td> 1</td><td> 0.167491087</td></tr>\n",
       "\t<tr><td>chr1</td><td>100132473</td><td>100133482</td><td>CDC14A  </td><td>K562</td><td> 0.008719240</td><td>0.10400357</td><td> 0.08383597</td><td>0.9331869</td><td>0.86</td><td>0.065501549</td><td> 1</td><td> 0.065501549</td></tr>\n",
       "\t<tr><td>chr1</td><td>100132473</td><td>100133482</td><td>DBT     </td><td>K562</td><td>-0.161891122</td><td>0.30819219</td><td>-0.52529275</td><td>0.5993797</td><td>0.64</td><td>0.193820026</td><td>-1</td><td>-0.193820026</td></tr>\n",
       "\t<tr><td>chr1</td><td>100132473</td><td>100133482</td><td>RTCA    </td><td>K562</td><td> 0.258626585</td><td>0.21410687</td><td> 1.20793223</td><td>0.2270733</td><td>0.24</td><td>0.619788758</td><td> 1</td><td> 0.619788758</td></tr>\n",
       "\t<tr><td>chr1</td><td>100132473</td><td>100133482</td><td>SLC30A7 </td><td>K562</td><td> 0.074992970</td><td>0.15605106</td><td> 0.48056686</td><td>0.6308244</td><td>0.64</td><td>0.193820026</td><td> 1</td><td> 0.193820026</td></tr>\n",
       "\t<tr><td>chr1</td><td>100132473</td><td>100133482</td><td>SLC35A3 </td><td>K562</td><td>-0.272526897</td><td>0.26663918</td><td>-1.02208123</td><td>0.3067425</td><td>0.40</td><td>0.397940009</td><td>-1</td><td>-0.397940009</td></tr>\n",
       "\t<tr><td>chr1</td><td>100132473</td><td>100133482</td><td>TRMT13  </td><td>K562</td><td> 0.135599215</td><td>0.27504723</td><td> 0.49300338</td><td>0.6220102</td><td>0.78</td><td>0.107905397</td><td> 1</td><td> 0.107905397</td></tr>\n",
       "\t<tr><td>chr1</td><td>  1001879</td><td>  1002126</td><td>ACAP3   </td><td>K562</td><td>-0.220129573</td><td>0.31250853</td><td>-0.70439540</td><td>0.4811866</td><td>0.78</td><td>0.107905397</td><td>-1</td><td>-0.107905397</td></tr>\n",
       "\t<tr><td>chr1</td><td>  1001879</td><td>  1002126</td><td>ATAD3A  </td><td>K562</td><td> 0.212321251</td><td>0.35827444</td><td> 0.59262182</td><td>0.5534343</td><td>0.64</td><td>0.193820026</td><td> 1</td><td> 0.193820026</td></tr>\n",
       "\t<tr><td>chr1</td><td>  1001879</td><td>  1002126</td><td>AURKAIP1</td><td>K562</td><td>-0.057974117</td><td>0.14764983</td><td>-0.39264601</td><td>0.6945810</td><td>0.72</td><td>0.142667504</td><td>-1</td><td>-0.142667504</td></tr>\n",
       "\t<tr><td>chr1</td><td>  1001879</td><td>  1002126</td><td>C1orf159</td><td>K562</td><td>-0.260916903</td><td>0.33726059</td><td>-0.77363592</td><td>0.4391461</td><td>0.56</td><td>0.251811973</td><td>-1</td><td>-0.251811973</td></tr>\n",
       "\t<tr><td>chr1</td><td>  1001879</td><td>  1002126</td><td>CCNL2   </td><td>K562</td><td>-0.066853224</td><td>0.18090402</td><td>-0.36955078</td><td>0.7117172</td><td>0.86</td><td>0.065501549</td><td>-1</td><td>-0.065501549</td></tr>\n",
       "\t<tr><td>chr1</td><td>  1001879</td><td>  1002126</td><td>CDK11A  </td><td>K562</td><td>-0.181106782</td><td>0.35683211</td><td>-0.50754059</td><td>0.6117756</td><td>0.70</td><td>0.154901960</td><td>-1</td><td>-0.154901960</td></tr>\n",
       "\t<tr><td>chr1</td><td>  1001879</td><td>  1002126</td><td>CDK11B  </td><td>K562</td><td> 0.117378419</td><td>0.16089514</td><td> 0.72953366</td><td>0.4656753</td><td>0.44</td><td>0.356547324</td><td> 1</td><td> 0.356547324</td></tr>\n",
       "\t<tr><td>chr1</td><td>  1001879</td><td>  1002126</td><td>GNB1    </td><td>K562</td><td> 0.062212238</td><td>0.08391992</td><td> 0.74132860</td><td>0.4584942</td><td>0.58</td><td>0.236572006</td><td> 1</td><td> 0.236572006</td></tr>\n",
       "\t<tr><td>chr1</td><td>  1001879</td><td>  1002126</td><td>HES4    </td><td>K562</td><td> 0.027197037</td><td>0.08398372</td><td> 0.32383701</td><td>0.7460614</td><td>0.78</td><td>0.107905397</td><td> 1</td><td> 0.107905397</td></tr>\n",
       "\t<tr><td>⋮</td><td>⋮</td><td>⋮</td><td>⋮</td><td>⋮</td><td>⋮</td><td>⋮</td><td>⋮</td><td>⋮</td><td>⋮</td><td>⋮</td><td>⋮</td><td>⋮</td></tr>\n",
       "\t<tr><td>chrX</td><td> 9465565</td><td> 9466160</td><td>TBL1X    </td><td>K562</td><td>-0.031208034</td><td>0.12388866</td><td>-0.251903881</td><td>0.80111536</td><td>0.96</td><td>0.017728767</td><td>-1</td><td>-0.017728767</td></tr>\n",
       "\t<tr><td>chrX</td><td> 9465565</td><td> 9466160</td><td>WWC3     </td><td>K562</td><td> 0.052901626</td><td>0.31148930</td><td> 0.169834492</td><td>0.86514030</td><td>0.80</td><td>0.096910013</td><td> 1</td><td> 0.096910013</td></tr>\n",
       "\t<tr><td>chrX</td><td> 9466241</td><td> 9466450</td><td>TBL1X    </td><td>K562</td><td>-0.049838847</td><td>0.18213659</td><td>-0.273634458</td><td>0.78436555</td><td>0.90</td><td>0.045757491</td><td>-1</td><td>-0.045757491</td></tr>\n",
       "\t<tr><td>chrX</td><td> 9466241</td><td> 9466450</td><td>WWC3     </td><td>K562</td><td>-0.001680141</td><td>0.46156917</td><td>-0.003640064</td><td>0.99709566</td><td>1.00</td><td>0.000000000</td><td>-1</td><td> 0.000000000</td></tr>\n",
       "\t<tr><td>chrX</td><td>96424841</td><td>96425742</td><td>DIAPH2   </td><td>K562</td><td> 0.201182842</td><td>0.09717823</td><td> 2.070245913</td><td>0.03842932</td><td>0.10</td><td>1.000000000</td><td> 1</td><td> 1.000000000</td></tr>\n",
       "\t<tr><td>chrX</td><td>96684263</td><td>96685583</td><td>DIAPH2   </td><td>K562</td><td>-0.050023424</td><td>0.06265590</td><td>-0.798383281</td><td>0.42464810</td><td>0.50</td><td>0.301029996</td><td>-1</td><td>-0.301029996</td></tr>\n",
       "\t<tr><td>chrX</td><td>96685740</td><td>96686173</td><td>DIAPH2   </td><td>K562</td><td> 0.028993192</td><td>0.09519712</td><td> 0.304559559</td><td>0.76070162</td><td>0.82</td><td>0.086186148</td><td> 1</td><td> 0.086186148</td></tr>\n",
       "\t<tr><td>chrX</td><td> 9672081</td><td> 9672956</td><td>TBL1X    </td><td>K562</td><td>-0.256926139</td><td>0.16360667</td><td>-1.570389168</td><td>0.11632460</td><td>0.32</td><td>0.494850022</td><td>-1</td><td>-0.494850022</td></tr>\n",
       "\t<tr><td>chrX</td><td> 9672081</td><td> 9672956</td><td>WWC3     </td><td>K562</td><td>-1.441327687</td><td>0.71809386</td><td>-2.007157784</td><td>0.04473287</td><td>0.22</td><td>0.657577319</td><td>-1</td><td>-0.657577319</td></tr>\n",
       "\t<tr><td>chrX</td><td>96722775</td><td>96723197</td><td>DIAPH2   </td><td>K562</td><td> 0.093639005</td><td>0.09498829</td><td> 0.985795285</td><td>0.32423358</td><td>0.52</td><td>0.283996656</td><td> 1</td><td> 0.283996656</td></tr>\n",
       "\t<tr><td>chrX</td><td> 9676971</td><td> 9677802</td><td>TBL1X    </td><td>K562</td><td> 0.204512365</td><td>0.10341504</td><td> 1.977588159</td><td>0.04797519</td><td>0.14</td><td>0.853871964</td><td> 1</td><td> 0.853871964</td></tr>\n",
       "\t<tr><td>chrX</td><td> 9676971</td><td> 9677802</td><td>WWC3     </td><td>K562</td><td> 0.031327772</td><td>0.28091166</td><td> 0.111521793</td><td>0.91120258</td><td>0.86</td><td>0.065501549</td><td> 1</td><td> 0.065501549</td></tr>\n",
       "\t<tr><td>chrX</td><td> 9708781</td><td> 9709307</td><td>TBL1X    </td><td>K562</td><td>-0.013976464</td><td>0.17335884</td><td>-0.080621587</td><td>0.93574290</td><td>0.76</td><td>0.119186408</td><td>-1</td><td>-0.119186408</td></tr>\n",
       "\t<tr><td>chrX</td><td> 9708781</td><td> 9709307</td><td>WWC3     </td><td>K562</td><td>-0.108928808</td><td>0.46422508</td><td>-0.234646539</td><td>0.81448308</td><td>0.88</td><td>0.055517328</td><td>-1</td><td>-0.055517328</td></tr>\n",
       "\t<tr><td>chrX</td><td>97563508</td><td>97564038</td><td>DIAPH2   </td><td>K562</td><td> 0.005871681</td><td>0.09220707</td><td> 0.063679292</td><td>0.94922559</td><td>0.90</td><td>0.045757491</td><td> 1</td><td> 0.045757491</td></tr>\n",
       "\t<tr><td>chrX</td><td>  989946</td><td>  990586</td><td>AKAP17A  </td><td>K562</td><td> 0.070491620</td><td>0.19918650</td><td> 0.353897574</td><td>0.72341565</td><td>0.66</td><td>0.180456064</td><td> 1</td><td> 0.180456064</td></tr>\n",
       "\t<tr><td>chrX</td><td>  989946</td><td>  990586</td><td>ASMTL    </td><td>K562</td><td>-0.105839849</td><td>0.25265268</td><td>-0.418914413</td><td>0.67527868</td><td>0.84</td><td>0.075720714</td><td>-1</td><td>-0.075720714</td></tr>\n",
       "\t<tr><td>chrX</td><td>  989946</td><td>  990586</td><td>CSF2RA   </td><td>K562</td><td>-0.088291599</td><td>0.15166018</td><td>-0.582167297</td><td>0.56045400</td><td>0.66</td><td>0.180456064</td><td>-1</td><td>-0.180456064</td></tr>\n",
       "\t<tr><td>chrX</td><td>  989946</td><td>  990586</td><td>GTPBP6   </td><td>K562</td><td> 0.256138848</td><td>0.28133552</td><td> 0.910439060</td><td>0.36259101</td><td>0.40</td><td>0.397940009</td><td> 1</td><td> 0.397940009</td></tr>\n",
       "\t<tr><td>chrX</td><td>  989946</td><td>  990586</td><td>IL3RA    </td><td>K562</td><td> 0.029161873</td><td>0.11807020</td><td> 0.246987574</td><td>0.80491784</td><td>0.80</td><td>0.096910013</td><td> 1</td><td> 0.096910013</td></tr>\n",
       "\t<tr><td>chrX</td><td>  989946</td><td>  990586</td><td>LINC00106</td><td>K562</td><td>-0.011536969</td><td>0.48193541</td><td>-0.023938828</td><td>0.98090140</td><td>0.96</td><td>0.017728767</td><td>-1</td><td>-0.017728767</td></tr>\n",
       "\t<tr><td>chrX</td><td>  989946</td><td>  990586</td><td>P2RY8    </td><td>K562</td><td>-0.061769891</td><td>0.16222336</td><td>-0.380770620</td><td>0.70337346</td><td>0.74</td><td>0.130768280</td><td>-1</td><td>-0.130768280</td></tr>\n",
       "\t<tr><td>chrX</td><td>  989946</td><td>  990586</td><td>PLCXD1   </td><td>K562</td><td>-0.005608815</td><td>0.33912740</td><td>-0.016538963</td><td>0.98680442</td><td>0.86</td><td>0.065501549</td><td>-1</td><td>-0.065501549</td></tr>\n",
       "\t<tr><td>chrX</td><td>  989946</td><td>  990586</td><td>SLC25A6  </td><td>K562</td><td>-0.017673995</td><td>0.07066421</td><td>-0.250112390</td><td>0.80250043</td><td>0.84</td><td>0.075720714</td><td>-1</td><td>-0.075720714</td></tr>\n",
       "\t<tr><td>chrX</td><td> 9981332</td><td> 9982005</td><td>TBL1X    </td><td>K562</td><td>-0.222522823</td><td>0.15364001</td><td>-1.448339034</td><td>0.14752226</td><td>0.26</td><td>0.585026652</td><td>-1</td><td>-0.585026652</td></tr>\n",
       "\t<tr><td>chrX</td><td> 9981332</td><td> 9982005</td><td>WWC3     </td><td>K562</td><td> 0.070202865</td><td>0.35215316</td><td> 0.199353214</td><td>0.84198646</td><td>0.82</td><td>0.086186148</td><td> 1</td><td> 0.086186148</td></tr>\n",
       "\t<tr><td>chrX</td><td> 9986716</td><td> 9987132</td><td>TBL1X    </td><td>K562</td><td>-0.118619004</td><td>0.13261832</td><td>-0.894439053</td><td>0.37108703</td><td>0.60</td><td>0.221848750</td><td>-1</td><td>-0.221848750</td></tr>\n",
       "\t<tr><td>chrX</td><td> 9986716</td><td> 9987132</td><td>WWC3     </td><td>K562</td><td> 0.101872423</td><td>0.31409818</td><td> 0.324333060</td><td>0.74568589</td><td>0.98</td><td>0.008773924</td><td> 1</td><td> 0.008773924</td></tr>\n",
       "\t<tr><td>chrX</td><td> 9995716</td><td> 9996196</td><td>TBL1X    </td><td>K562</td><td>-0.112822150</td><td>0.16042705</td><td>-0.703261371</td><td>0.48189288</td><td>0.62</td><td>0.207608311</td><td>-1</td><td>-0.207608311</td></tr>\n",
       "\t<tr><td>chrX</td><td> 9995716</td><td> 9996196</td><td>WWC3     </td><td>K562</td><td> 0.390838745</td><td>0.33686750</td><td> 1.160215065</td><td>0.24596125</td><td>0.30</td><td>0.522878745</td><td> 1</td><td> 0.522878745</td></tr>\n",
       "</tbody>\n",
       "</table>\n"
      ],
      "text/latex": [
       "A data.frame: 581699 × 13\n",
       "\\begin{tabular}{lllllllllllll}\n",
       " chr & start & end & TargetGene & CellType & beta & se & z & p & boot\\_basic\\_p & boot\\_basic\\_p.log10 & sign & boot\\_basic\\_p.log10.signed\\\\\n",
       " <fct> & <int> & <int> & <chr> & <chr> & <dbl> & <dbl> & <dbl> & <dbl> & <dbl> & <dbl> & <dbl> & <dbl>\\\\\n",
       "\\hline\n",
       "\t chr1 & 100037744 & 100039259 & AGL      & K562 &  0.148947509 & 0.32627922 &  0.45650321 & 0.6480282 & 0.54 & 0.267606240 &  1 &  0.267606240\\\\\n",
       "\t chr1 & 100037744 & 100039259 & CDC14A   & K562 &  0.001155769 & 0.10411488 &  0.01110090 & 0.9911429 & 0.98 & 0.008773924 &  1 &  0.008773924\\\\\n",
       "\t chr1 & 100037744 & 100039259 & DBT      & K562 &  0.134475125 & 0.30733205 &  0.43755646 & 0.6617078 & 0.80 & 0.096910013 &  1 &  0.096910013\\\\\n",
       "\t chr1 & 100037744 & 100039259 & RTCA     & K562 &  0.023223645 & 0.21098438 &  0.11007282 & 0.9123516 & 0.90 & 0.045757491 &  1 &  0.045757491\\\\\n",
       "\t chr1 & 100037744 & 100039259 & SLC30A7  & K562 &  0.110094470 & 0.15558770 &  0.70760392 & 0.4791913 & 0.46 & 0.337242168 &  1 &  0.337242168\\\\\n",
       "\t chr1 & 100037744 & 100039259 & SLC35A3  & K562 &  0.304889758 & 0.26892111 &  1.13375166 & 0.2568987 & 0.18 & 0.744727495 &  1 &  0.744727495\\\\\n",
       "\t chr1 & 100037744 & 100039259 & TRMT13   & K562 & -0.012675443 & 0.27345702 & -0.04635260 & 0.9630292 & 0.92 & 0.036212173 & -1 & -0.036212173\\\\\n",
       "\t chr1 & 100046669 & 100047239 & AGL      & K562 &  0.394132110 & 0.39909532 &  0.98756385 & 0.3233663 & 0.30 & 0.522878745 &  1 &  0.522878745\\\\\n",
       "\t chr1 & 100046669 & 100047239 & CDC14A   & K562 &  0.189687556 & 0.13403030 &  1.41525875 & 0.1569926 & 0.30 & 0.522878745 &  1 &  0.522878745\\\\\n",
       "\t chr1 & 100046669 & 100047239 & DBT      & K562 & -0.025683445 & 0.44166516 & -0.05815139 & 0.9536280 & 0.94 & 0.026872146 & -1 & -0.026872146\\\\\n",
       "\t chr1 & 100046669 & 100047239 & RTCA     & K562 & -0.359626532 & 0.35194817 & -1.02181675 & 0.3068676 & 0.38 & 0.420216403 & -1 & -0.420216403\\\\\n",
       "\t chr1 & 100046669 & 100047239 & SLC30A7  & K562 & -0.060565514 & 0.22525604 & -0.26887410 & 0.7880266 & 0.78 & 0.107905397 & -1 & -0.107905397\\\\\n",
       "\t chr1 & 100046669 & 100047239 & SLC35A3  & K562 &  0.222932961 & 0.34920197 &  0.63840694 & 0.5232088 & 0.46 & 0.337242168 &  1 &  0.337242168\\\\\n",
       "\t chr1 & 100046669 & 100047239 & TRMT13   & K562 & -0.008571960 & 0.38476538 & -0.02227841 & 0.9822259 & 0.94 & 0.026872146 & -1 & -0.026872146\\\\\n",
       "\t chr1 & 100132473 & 100133482 & AGL      & K562 &  0.144345440 & 0.32603607 &  0.44272844 & 0.6579622 & 0.68 & 0.167491087 &  1 &  0.167491087\\\\\n",
       "\t chr1 & 100132473 & 100133482 & CDC14A   & K562 &  0.008719240 & 0.10400357 &  0.08383597 & 0.9331869 & 0.86 & 0.065501549 &  1 &  0.065501549\\\\\n",
       "\t chr1 & 100132473 & 100133482 & DBT      & K562 & -0.161891122 & 0.30819219 & -0.52529275 & 0.5993797 & 0.64 & 0.193820026 & -1 & -0.193820026\\\\\n",
       "\t chr1 & 100132473 & 100133482 & RTCA     & K562 &  0.258626585 & 0.21410687 &  1.20793223 & 0.2270733 & 0.24 & 0.619788758 &  1 &  0.619788758\\\\\n",
       "\t chr1 & 100132473 & 100133482 & SLC30A7  & K562 &  0.074992970 & 0.15605106 &  0.48056686 & 0.6308244 & 0.64 & 0.193820026 &  1 &  0.193820026\\\\\n",
       "\t chr1 & 100132473 & 100133482 & SLC35A3  & K562 & -0.272526897 & 0.26663918 & -1.02208123 & 0.3067425 & 0.40 & 0.397940009 & -1 & -0.397940009\\\\\n",
       "\t chr1 & 100132473 & 100133482 & TRMT13   & K562 &  0.135599215 & 0.27504723 &  0.49300338 & 0.6220102 & 0.78 & 0.107905397 &  1 &  0.107905397\\\\\n",
       "\t chr1 &   1001879 &   1002126 & ACAP3    & K562 & -0.220129573 & 0.31250853 & -0.70439540 & 0.4811866 & 0.78 & 0.107905397 & -1 & -0.107905397\\\\\n",
       "\t chr1 &   1001879 &   1002126 & ATAD3A   & K562 &  0.212321251 & 0.35827444 &  0.59262182 & 0.5534343 & 0.64 & 0.193820026 &  1 &  0.193820026\\\\\n",
       "\t chr1 &   1001879 &   1002126 & AURKAIP1 & K562 & -0.057974117 & 0.14764983 & -0.39264601 & 0.6945810 & 0.72 & 0.142667504 & -1 & -0.142667504\\\\\n",
       "\t chr1 &   1001879 &   1002126 & C1orf159 & K562 & -0.260916903 & 0.33726059 & -0.77363592 & 0.4391461 & 0.56 & 0.251811973 & -1 & -0.251811973\\\\\n",
       "\t chr1 &   1001879 &   1002126 & CCNL2    & K562 & -0.066853224 & 0.18090402 & -0.36955078 & 0.7117172 & 0.86 & 0.065501549 & -1 & -0.065501549\\\\\n",
       "\t chr1 &   1001879 &   1002126 & CDK11A   & K562 & -0.181106782 & 0.35683211 & -0.50754059 & 0.6117756 & 0.70 & 0.154901960 & -1 & -0.154901960\\\\\n",
       "\t chr1 &   1001879 &   1002126 & CDK11B   & K562 &  0.117378419 & 0.16089514 &  0.72953366 & 0.4656753 & 0.44 & 0.356547324 &  1 &  0.356547324\\\\\n",
       "\t chr1 &   1001879 &   1002126 & GNB1     & K562 &  0.062212238 & 0.08391992 &  0.74132860 & 0.4584942 & 0.58 & 0.236572006 &  1 &  0.236572006\\\\\n",
       "\t chr1 &   1001879 &   1002126 & HES4     & K562 &  0.027197037 & 0.08398372 &  0.32383701 & 0.7460614 & 0.78 & 0.107905397 &  1 &  0.107905397\\\\\n",
       "\t ⋮ & ⋮ & ⋮ & ⋮ & ⋮ & ⋮ & ⋮ & ⋮ & ⋮ & ⋮ & ⋮ & ⋮ & ⋮\\\\\n",
       "\t chrX &  9465565 &  9466160 & TBL1X     & K562 & -0.031208034 & 0.12388866 & -0.251903881 & 0.80111536 & 0.96 & 0.017728767 & -1 & -0.017728767\\\\\n",
       "\t chrX &  9465565 &  9466160 & WWC3      & K562 &  0.052901626 & 0.31148930 &  0.169834492 & 0.86514030 & 0.80 & 0.096910013 &  1 &  0.096910013\\\\\n",
       "\t chrX &  9466241 &  9466450 & TBL1X     & K562 & -0.049838847 & 0.18213659 & -0.273634458 & 0.78436555 & 0.90 & 0.045757491 & -1 & -0.045757491\\\\\n",
       "\t chrX &  9466241 &  9466450 & WWC3      & K562 & -0.001680141 & 0.46156917 & -0.003640064 & 0.99709566 & 1.00 & 0.000000000 & -1 &  0.000000000\\\\\n",
       "\t chrX & 96424841 & 96425742 & DIAPH2    & K562 &  0.201182842 & 0.09717823 &  2.070245913 & 0.03842932 & 0.10 & 1.000000000 &  1 &  1.000000000\\\\\n",
       "\t chrX & 96684263 & 96685583 & DIAPH2    & K562 & -0.050023424 & 0.06265590 & -0.798383281 & 0.42464810 & 0.50 & 0.301029996 & -1 & -0.301029996\\\\\n",
       "\t chrX & 96685740 & 96686173 & DIAPH2    & K562 &  0.028993192 & 0.09519712 &  0.304559559 & 0.76070162 & 0.82 & 0.086186148 &  1 &  0.086186148\\\\\n",
       "\t chrX &  9672081 &  9672956 & TBL1X     & K562 & -0.256926139 & 0.16360667 & -1.570389168 & 0.11632460 & 0.32 & 0.494850022 & -1 & -0.494850022\\\\\n",
       "\t chrX &  9672081 &  9672956 & WWC3      & K562 & -1.441327687 & 0.71809386 & -2.007157784 & 0.04473287 & 0.22 & 0.657577319 & -1 & -0.657577319\\\\\n",
       "\t chrX & 96722775 & 96723197 & DIAPH2    & K562 &  0.093639005 & 0.09498829 &  0.985795285 & 0.32423358 & 0.52 & 0.283996656 &  1 &  0.283996656\\\\\n",
       "\t chrX &  9676971 &  9677802 & TBL1X     & K562 &  0.204512365 & 0.10341504 &  1.977588159 & 0.04797519 & 0.14 & 0.853871964 &  1 &  0.853871964\\\\\n",
       "\t chrX &  9676971 &  9677802 & WWC3      & K562 &  0.031327772 & 0.28091166 &  0.111521793 & 0.91120258 & 0.86 & 0.065501549 &  1 &  0.065501549\\\\\n",
       "\t chrX &  9708781 &  9709307 & TBL1X     & K562 & -0.013976464 & 0.17335884 & -0.080621587 & 0.93574290 & 0.76 & 0.119186408 & -1 & -0.119186408\\\\\n",
       "\t chrX &  9708781 &  9709307 & WWC3      & K562 & -0.108928808 & 0.46422508 & -0.234646539 & 0.81448308 & 0.88 & 0.055517328 & -1 & -0.055517328\\\\\n",
       "\t chrX & 97563508 & 97564038 & DIAPH2    & K562 &  0.005871681 & 0.09220707 &  0.063679292 & 0.94922559 & 0.90 & 0.045757491 &  1 &  0.045757491\\\\\n",
       "\t chrX &   989946 &   990586 & AKAP17A   & K562 &  0.070491620 & 0.19918650 &  0.353897574 & 0.72341565 & 0.66 & 0.180456064 &  1 &  0.180456064\\\\\n",
       "\t chrX &   989946 &   990586 & ASMTL     & K562 & -0.105839849 & 0.25265268 & -0.418914413 & 0.67527868 & 0.84 & 0.075720714 & -1 & -0.075720714\\\\\n",
       "\t chrX &   989946 &   990586 & CSF2RA    & K562 & -0.088291599 & 0.15166018 & -0.582167297 & 0.56045400 & 0.66 & 0.180456064 & -1 & -0.180456064\\\\\n",
       "\t chrX &   989946 &   990586 & GTPBP6    & K562 &  0.256138848 & 0.28133552 &  0.910439060 & 0.36259101 & 0.40 & 0.397940009 &  1 &  0.397940009\\\\\n",
       "\t chrX &   989946 &   990586 & IL3RA     & K562 &  0.029161873 & 0.11807020 &  0.246987574 & 0.80491784 & 0.80 & 0.096910013 &  1 &  0.096910013\\\\\n",
       "\t chrX &   989946 &   990586 & LINC00106 & K562 & -0.011536969 & 0.48193541 & -0.023938828 & 0.98090140 & 0.96 & 0.017728767 & -1 & -0.017728767\\\\\n",
       "\t chrX &   989946 &   990586 & P2RY8     & K562 & -0.061769891 & 0.16222336 & -0.380770620 & 0.70337346 & 0.74 & 0.130768280 & -1 & -0.130768280\\\\\n",
       "\t chrX &   989946 &   990586 & PLCXD1    & K562 & -0.005608815 & 0.33912740 & -0.016538963 & 0.98680442 & 0.86 & 0.065501549 & -1 & -0.065501549\\\\\n",
       "\t chrX &   989946 &   990586 & SLC25A6   & K562 & -0.017673995 & 0.07066421 & -0.250112390 & 0.80250043 & 0.84 & 0.075720714 & -1 & -0.075720714\\\\\n",
       "\t chrX &  9981332 &  9982005 & TBL1X     & K562 & -0.222522823 & 0.15364001 & -1.448339034 & 0.14752226 & 0.26 & 0.585026652 & -1 & -0.585026652\\\\\n",
       "\t chrX &  9981332 &  9982005 & WWC3      & K562 &  0.070202865 & 0.35215316 &  0.199353214 & 0.84198646 & 0.82 & 0.086186148 &  1 &  0.086186148\\\\\n",
       "\t chrX &  9986716 &  9987132 & TBL1X     & K562 & -0.118619004 & 0.13261832 & -0.894439053 & 0.37108703 & 0.60 & 0.221848750 & -1 & -0.221848750\\\\\n",
       "\t chrX &  9986716 &  9987132 & WWC3      & K562 &  0.101872423 & 0.31409818 &  0.324333060 & 0.74568589 & 0.98 & 0.008773924 &  1 &  0.008773924\\\\\n",
       "\t chrX &  9995716 &  9996196 & TBL1X     & K562 & -0.112822150 & 0.16042705 & -0.703261371 & 0.48189288 & 0.62 & 0.207608311 & -1 & -0.207608311\\\\\n",
       "\t chrX &  9995716 &  9996196 & WWC3      & K562 &  0.390838745 & 0.33686750 &  1.160215065 & 0.24596125 & 0.30 & 0.522878745 &  1 &  0.522878745\\\\\n",
       "\\end{tabular}\n"
      ],
      "text/markdown": [
       "\n",
       "A data.frame: 581699 × 13\n",
       "\n",
       "| chr &lt;fct&gt; | start &lt;int&gt; | end &lt;int&gt; | TargetGene &lt;chr&gt; | CellType &lt;chr&gt; | beta &lt;dbl&gt; | se &lt;dbl&gt; | z &lt;dbl&gt; | p &lt;dbl&gt; | boot_basic_p &lt;dbl&gt; | boot_basic_p.log10 &lt;dbl&gt; | sign &lt;dbl&gt; | boot_basic_p.log10.signed &lt;dbl&gt; |\n",
       "|---|---|---|---|---|---|---|---|---|---|---|---|---|\n",
       "| chr1 | 100037744 | 100039259 | AGL      | K562 |  0.148947509 | 0.32627922 |  0.45650321 | 0.6480282 | 0.54 | 0.267606240 |  1 |  0.267606240 |\n",
       "| chr1 | 100037744 | 100039259 | CDC14A   | K562 |  0.001155769 | 0.10411488 |  0.01110090 | 0.9911429 | 0.98 | 0.008773924 |  1 |  0.008773924 |\n",
       "| chr1 | 100037744 | 100039259 | DBT      | K562 |  0.134475125 | 0.30733205 |  0.43755646 | 0.6617078 | 0.80 | 0.096910013 |  1 |  0.096910013 |\n",
       "| chr1 | 100037744 | 100039259 | RTCA     | K562 |  0.023223645 | 0.21098438 |  0.11007282 | 0.9123516 | 0.90 | 0.045757491 |  1 |  0.045757491 |\n",
       "| chr1 | 100037744 | 100039259 | SLC30A7  | K562 |  0.110094470 | 0.15558770 |  0.70760392 | 0.4791913 | 0.46 | 0.337242168 |  1 |  0.337242168 |\n",
       "| chr1 | 100037744 | 100039259 | SLC35A3  | K562 |  0.304889758 | 0.26892111 |  1.13375166 | 0.2568987 | 0.18 | 0.744727495 |  1 |  0.744727495 |\n",
       "| chr1 | 100037744 | 100039259 | TRMT13   | K562 | -0.012675443 | 0.27345702 | -0.04635260 | 0.9630292 | 0.92 | 0.036212173 | -1 | -0.036212173 |\n",
       "| chr1 | 100046669 | 100047239 | AGL      | K562 |  0.394132110 | 0.39909532 |  0.98756385 | 0.3233663 | 0.30 | 0.522878745 |  1 |  0.522878745 |\n",
       "| chr1 | 100046669 | 100047239 | CDC14A   | K562 |  0.189687556 | 0.13403030 |  1.41525875 | 0.1569926 | 0.30 | 0.522878745 |  1 |  0.522878745 |\n",
       "| chr1 | 100046669 | 100047239 | DBT      | K562 | -0.025683445 | 0.44166516 | -0.05815139 | 0.9536280 | 0.94 | 0.026872146 | -1 | -0.026872146 |\n",
       "| chr1 | 100046669 | 100047239 | RTCA     | K562 | -0.359626532 | 0.35194817 | -1.02181675 | 0.3068676 | 0.38 | 0.420216403 | -1 | -0.420216403 |\n",
       "| chr1 | 100046669 | 100047239 | SLC30A7  | K562 | -0.060565514 | 0.22525604 | -0.26887410 | 0.7880266 | 0.78 | 0.107905397 | -1 | -0.107905397 |\n",
       "| chr1 | 100046669 | 100047239 | SLC35A3  | K562 |  0.222932961 | 0.34920197 |  0.63840694 | 0.5232088 | 0.46 | 0.337242168 |  1 |  0.337242168 |\n",
       "| chr1 | 100046669 | 100047239 | TRMT13   | K562 | -0.008571960 | 0.38476538 | -0.02227841 | 0.9822259 | 0.94 | 0.026872146 | -1 | -0.026872146 |\n",
       "| chr1 | 100132473 | 100133482 | AGL      | K562 |  0.144345440 | 0.32603607 |  0.44272844 | 0.6579622 | 0.68 | 0.167491087 |  1 |  0.167491087 |\n",
       "| chr1 | 100132473 | 100133482 | CDC14A   | K562 |  0.008719240 | 0.10400357 |  0.08383597 | 0.9331869 | 0.86 | 0.065501549 |  1 |  0.065501549 |\n",
       "| chr1 | 100132473 | 100133482 | DBT      | K562 | -0.161891122 | 0.30819219 | -0.52529275 | 0.5993797 | 0.64 | 0.193820026 | -1 | -0.193820026 |\n",
       "| chr1 | 100132473 | 100133482 | RTCA     | K562 |  0.258626585 | 0.21410687 |  1.20793223 | 0.2270733 | 0.24 | 0.619788758 |  1 |  0.619788758 |\n",
       "| chr1 | 100132473 | 100133482 | SLC30A7  | K562 |  0.074992970 | 0.15605106 |  0.48056686 | 0.6308244 | 0.64 | 0.193820026 |  1 |  0.193820026 |\n",
       "| chr1 | 100132473 | 100133482 | SLC35A3  | K562 | -0.272526897 | 0.26663918 | -1.02208123 | 0.3067425 | 0.40 | 0.397940009 | -1 | -0.397940009 |\n",
       "| chr1 | 100132473 | 100133482 | TRMT13   | K562 |  0.135599215 | 0.27504723 |  0.49300338 | 0.6220102 | 0.78 | 0.107905397 |  1 |  0.107905397 |\n",
       "| chr1 |   1001879 |   1002126 | ACAP3    | K562 | -0.220129573 | 0.31250853 | -0.70439540 | 0.4811866 | 0.78 | 0.107905397 | -1 | -0.107905397 |\n",
       "| chr1 |   1001879 |   1002126 | ATAD3A   | K562 |  0.212321251 | 0.35827444 |  0.59262182 | 0.5534343 | 0.64 | 0.193820026 |  1 |  0.193820026 |\n",
       "| chr1 |   1001879 |   1002126 | AURKAIP1 | K562 | -0.057974117 | 0.14764983 | -0.39264601 | 0.6945810 | 0.72 | 0.142667504 | -1 | -0.142667504 |\n",
       "| chr1 |   1001879 |   1002126 | C1orf159 | K562 | -0.260916903 | 0.33726059 | -0.77363592 | 0.4391461 | 0.56 | 0.251811973 | -1 | -0.251811973 |\n",
       "| chr1 |   1001879 |   1002126 | CCNL2    | K562 | -0.066853224 | 0.18090402 | -0.36955078 | 0.7117172 | 0.86 | 0.065501549 | -1 | -0.065501549 |\n",
       "| chr1 |   1001879 |   1002126 | CDK11A   | K562 | -0.181106782 | 0.35683211 | -0.50754059 | 0.6117756 | 0.70 | 0.154901960 | -1 | -0.154901960 |\n",
       "| chr1 |   1001879 |   1002126 | CDK11B   | K562 |  0.117378419 | 0.16089514 |  0.72953366 | 0.4656753 | 0.44 | 0.356547324 |  1 |  0.356547324 |\n",
       "| chr1 |   1001879 |   1002126 | GNB1     | K562 |  0.062212238 | 0.08391992 |  0.74132860 | 0.4584942 | 0.58 | 0.236572006 |  1 |  0.236572006 |\n",
       "| chr1 |   1001879 |   1002126 | HES4     | K562 |  0.027197037 | 0.08398372 |  0.32383701 | 0.7460614 | 0.78 | 0.107905397 |  1 |  0.107905397 |\n",
       "| ⋮ | ⋮ | ⋮ | ⋮ | ⋮ | ⋮ | ⋮ | ⋮ | ⋮ | ⋮ | ⋮ | ⋮ | ⋮ |\n",
       "| chrX |  9465565 |  9466160 | TBL1X     | K562 | -0.031208034 | 0.12388866 | -0.251903881 | 0.80111536 | 0.96 | 0.017728767 | -1 | -0.017728767 |\n",
       "| chrX |  9465565 |  9466160 | WWC3      | K562 |  0.052901626 | 0.31148930 |  0.169834492 | 0.86514030 | 0.80 | 0.096910013 |  1 |  0.096910013 |\n",
       "| chrX |  9466241 |  9466450 | TBL1X     | K562 | -0.049838847 | 0.18213659 | -0.273634458 | 0.78436555 | 0.90 | 0.045757491 | -1 | -0.045757491 |\n",
       "| chrX |  9466241 |  9466450 | WWC3      | K562 | -0.001680141 | 0.46156917 | -0.003640064 | 0.99709566 | 1.00 | 0.000000000 | -1 |  0.000000000 |\n",
       "| chrX | 96424841 | 96425742 | DIAPH2    | K562 |  0.201182842 | 0.09717823 |  2.070245913 | 0.03842932 | 0.10 | 1.000000000 |  1 |  1.000000000 |\n",
       "| chrX | 96684263 | 96685583 | DIAPH2    | K562 | -0.050023424 | 0.06265590 | -0.798383281 | 0.42464810 | 0.50 | 0.301029996 | -1 | -0.301029996 |\n",
       "| chrX | 96685740 | 96686173 | DIAPH2    | K562 |  0.028993192 | 0.09519712 |  0.304559559 | 0.76070162 | 0.82 | 0.086186148 |  1 |  0.086186148 |\n",
       "| chrX |  9672081 |  9672956 | TBL1X     | K562 | -0.256926139 | 0.16360667 | -1.570389168 | 0.11632460 | 0.32 | 0.494850022 | -1 | -0.494850022 |\n",
       "| chrX |  9672081 |  9672956 | WWC3      | K562 | -1.441327687 | 0.71809386 | -2.007157784 | 0.04473287 | 0.22 | 0.657577319 | -1 | -0.657577319 |\n",
       "| chrX | 96722775 | 96723197 | DIAPH2    | K562 |  0.093639005 | 0.09498829 |  0.985795285 | 0.32423358 | 0.52 | 0.283996656 |  1 |  0.283996656 |\n",
       "| chrX |  9676971 |  9677802 | TBL1X     | K562 |  0.204512365 | 0.10341504 |  1.977588159 | 0.04797519 | 0.14 | 0.853871964 |  1 |  0.853871964 |\n",
       "| chrX |  9676971 |  9677802 | WWC3      | K562 |  0.031327772 | 0.28091166 |  0.111521793 | 0.91120258 | 0.86 | 0.065501549 |  1 |  0.065501549 |\n",
       "| chrX |  9708781 |  9709307 | TBL1X     | K562 | -0.013976464 | 0.17335884 | -0.080621587 | 0.93574290 | 0.76 | 0.119186408 | -1 | -0.119186408 |\n",
       "| chrX |  9708781 |  9709307 | WWC3      | K562 | -0.108928808 | 0.46422508 | -0.234646539 | 0.81448308 | 0.88 | 0.055517328 | -1 | -0.055517328 |\n",
       "| chrX | 97563508 | 97564038 | DIAPH2    | K562 |  0.005871681 | 0.09220707 |  0.063679292 | 0.94922559 | 0.90 | 0.045757491 |  1 |  0.045757491 |\n",
       "| chrX |   989946 |   990586 | AKAP17A   | K562 |  0.070491620 | 0.19918650 |  0.353897574 | 0.72341565 | 0.66 | 0.180456064 |  1 |  0.180456064 |\n",
       "| chrX |   989946 |   990586 | ASMTL     | K562 | -0.105839849 | 0.25265268 | -0.418914413 | 0.67527868 | 0.84 | 0.075720714 | -1 | -0.075720714 |\n",
       "| chrX |   989946 |   990586 | CSF2RA    | K562 | -0.088291599 | 0.15166018 | -0.582167297 | 0.56045400 | 0.66 | 0.180456064 | -1 | -0.180456064 |\n",
       "| chrX |   989946 |   990586 | GTPBP6    | K562 |  0.256138848 | 0.28133552 |  0.910439060 | 0.36259101 | 0.40 | 0.397940009 |  1 |  0.397940009 |\n",
       "| chrX |   989946 |   990586 | IL3RA     | K562 |  0.029161873 | 0.11807020 |  0.246987574 | 0.80491784 | 0.80 | 0.096910013 |  1 |  0.096910013 |\n",
       "| chrX |   989946 |   990586 | LINC00106 | K562 | -0.011536969 | 0.48193541 | -0.023938828 | 0.98090140 | 0.96 | 0.017728767 | -1 | -0.017728767 |\n",
       "| chrX |   989946 |   990586 | P2RY8     | K562 | -0.061769891 | 0.16222336 | -0.380770620 | 0.70337346 | 0.74 | 0.130768280 | -1 | -0.130768280 |\n",
       "| chrX |   989946 |   990586 | PLCXD1    | K562 | -0.005608815 | 0.33912740 | -0.016538963 | 0.98680442 | 0.86 | 0.065501549 | -1 | -0.065501549 |\n",
       "| chrX |   989946 |   990586 | SLC25A6   | K562 | -0.017673995 | 0.07066421 | -0.250112390 | 0.80250043 | 0.84 | 0.075720714 | -1 | -0.075720714 |\n",
       "| chrX |  9981332 |  9982005 | TBL1X     | K562 | -0.222522823 | 0.15364001 | -1.448339034 | 0.14752226 | 0.26 | 0.585026652 | -1 | -0.585026652 |\n",
       "| chrX |  9981332 |  9982005 | WWC3      | K562 |  0.070202865 | 0.35215316 |  0.199353214 | 0.84198646 | 0.82 | 0.086186148 |  1 |  0.086186148 |\n",
       "| chrX |  9986716 |  9987132 | TBL1X     | K562 | -0.118619004 | 0.13261832 | -0.894439053 | 0.37108703 | 0.60 | 0.221848750 | -1 | -0.221848750 |\n",
       "| chrX |  9986716 |  9987132 | WWC3      | K562 |  0.101872423 | 0.31409818 |  0.324333060 | 0.74568589 | 0.98 | 0.008773924 |  1 |  0.008773924 |\n",
       "| chrX |  9995716 |  9996196 | TBL1X     | K562 | -0.112822150 | 0.16042705 | -0.703261371 | 0.48189288 | 0.62 | 0.207608311 | -1 | -0.207608311 |\n",
       "| chrX |  9995716 |  9996196 | WWC3      | K562 |  0.390838745 | 0.33686750 |  1.160215065 | 0.24596125 | 0.30 | 0.522878745 |  1 |  0.522878745 |\n",
       "\n"
      ],
      "text/plain": [
       "       chr  start     end       TargetGene CellType beta         se        \n",
       "1      chr1 100037744 100039259 AGL        K562      0.148947509 0.32627922\n",
       "2      chr1 100037744 100039259 CDC14A     K562      0.001155769 0.10411488\n",
       "3      chr1 100037744 100039259 DBT        K562      0.134475125 0.30733205\n",
       "4      chr1 100037744 100039259 RTCA       K562      0.023223645 0.21098438\n",
       "5      chr1 100037744 100039259 SLC30A7    K562      0.110094470 0.15558770\n",
       "6      chr1 100037744 100039259 SLC35A3    K562      0.304889758 0.26892111\n",
       "7      chr1 100037744 100039259 TRMT13     K562     -0.012675443 0.27345702\n",
       "8      chr1 100046669 100047239 AGL        K562      0.394132110 0.39909532\n",
       "9      chr1 100046669 100047239 CDC14A     K562      0.189687556 0.13403030\n",
       "10     chr1 100046669 100047239 DBT        K562     -0.025683445 0.44166516\n",
       "11     chr1 100046669 100047239 RTCA       K562     -0.359626532 0.35194817\n",
       "12     chr1 100046669 100047239 SLC30A7    K562     -0.060565514 0.22525604\n",
       "13     chr1 100046669 100047239 SLC35A3    K562      0.222932961 0.34920197\n",
       "14     chr1 100046669 100047239 TRMT13     K562     -0.008571960 0.38476538\n",
       "15     chr1 100132473 100133482 AGL        K562      0.144345440 0.32603607\n",
       "16     chr1 100132473 100133482 CDC14A     K562      0.008719240 0.10400357\n",
       "17     chr1 100132473 100133482 DBT        K562     -0.161891122 0.30819219\n",
       "18     chr1 100132473 100133482 RTCA       K562      0.258626585 0.21410687\n",
       "19     chr1 100132473 100133482 SLC30A7    K562      0.074992970 0.15605106\n",
       "20     chr1 100132473 100133482 SLC35A3    K562     -0.272526897 0.26663918\n",
       "21     chr1 100132473 100133482 TRMT13     K562      0.135599215 0.27504723\n",
       "22     chr1   1001879   1002126 ACAP3      K562     -0.220129573 0.31250853\n",
       "23     chr1   1001879   1002126 ATAD3A     K562      0.212321251 0.35827444\n",
       "24     chr1   1001879   1002126 AURKAIP1   K562     -0.057974117 0.14764983\n",
       "25     chr1   1001879   1002126 C1orf159   K562     -0.260916903 0.33726059\n",
       "26     chr1   1001879   1002126 CCNL2      K562     -0.066853224 0.18090402\n",
       "27     chr1   1001879   1002126 CDK11A     K562     -0.181106782 0.35683211\n",
       "28     chr1   1001879   1002126 CDK11B     K562      0.117378419 0.16089514\n",
       "29     chr1   1001879   1002126 GNB1       K562      0.062212238 0.08391992\n",
       "30     chr1   1001879   1002126 HES4       K562      0.027197037 0.08398372\n",
       "⋮      ⋮    ⋮         ⋮         ⋮          ⋮        ⋮            ⋮         \n",
       "581670 chrX  9465565   9466160  TBL1X      K562     -0.031208034 0.12388866\n",
       "581671 chrX  9465565   9466160  WWC3       K562      0.052901626 0.31148930\n",
       "581672 chrX  9466241   9466450  TBL1X      K562     -0.049838847 0.18213659\n",
       "581673 chrX  9466241   9466450  WWC3       K562     -0.001680141 0.46156917\n",
       "581674 chrX 96424841  96425742  DIAPH2     K562      0.201182842 0.09717823\n",
       "581675 chrX 96684263  96685583  DIAPH2     K562     -0.050023424 0.06265590\n",
       "581676 chrX 96685740  96686173  DIAPH2     K562      0.028993192 0.09519712\n",
       "581677 chrX  9672081   9672956  TBL1X      K562     -0.256926139 0.16360667\n",
       "581678 chrX  9672081   9672956  WWC3       K562     -1.441327687 0.71809386\n",
       "581679 chrX 96722775  96723197  DIAPH2     K562      0.093639005 0.09498829\n",
       "581680 chrX  9676971   9677802  TBL1X      K562      0.204512365 0.10341504\n",
       "581681 chrX  9676971   9677802  WWC3       K562      0.031327772 0.28091166\n",
       "581682 chrX  9708781   9709307  TBL1X      K562     -0.013976464 0.17335884\n",
       "581683 chrX  9708781   9709307  WWC3       K562     -0.108928808 0.46422508\n",
       "581684 chrX 97563508  97564038  DIAPH2     K562      0.005871681 0.09220707\n",
       "581685 chrX   989946    990586  AKAP17A    K562      0.070491620 0.19918650\n",
       "581686 chrX   989946    990586  ASMTL      K562     -0.105839849 0.25265268\n",
       "581687 chrX   989946    990586  CSF2RA     K562     -0.088291599 0.15166018\n",
       "581688 chrX   989946    990586  GTPBP6     K562      0.256138848 0.28133552\n",
       "581689 chrX   989946    990586  IL3RA      K562      0.029161873 0.11807020\n",
       "581690 chrX   989946    990586  LINC00106  K562     -0.011536969 0.48193541\n",
       "581691 chrX   989946    990586  P2RY8      K562     -0.061769891 0.16222336\n",
       "581692 chrX   989946    990586  PLCXD1     K562     -0.005608815 0.33912740\n",
       "581693 chrX   989946    990586  SLC25A6    K562     -0.017673995 0.07066421\n",
       "581694 chrX  9981332   9982005  TBL1X      K562     -0.222522823 0.15364001\n",
       "581695 chrX  9981332   9982005  WWC3       K562      0.070202865 0.35215316\n",
       "581696 chrX  9986716   9987132  TBL1X      K562     -0.118619004 0.13261832\n",
       "581697 chrX  9986716   9987132  WWC3       K562      0.101872423 0.31409818\n",
       "581698 chrX  9995716   9996196  TBL1X      K562     -0.112822150 0.16042705\n",
       "581699 chrX  9995716   9996196  WWC3       K562      0.390838745 0.33686750\n",
       "       z            p          boot_basic_p boot_basic_p.log10 sign\n",
       "1       0.45650321  0.6480282  0.54         0.267606240         1  \n",
       "2       0.01110090  0.9911429  0.98         0.008773924         1  \n",
       "3       0.43755646  0.6617078  0.80         0.096910013         1  \n",
       "4       0.11007282  0.9123516  0.90         0.045757491         1  \n",
       "5       0.70760392  0.4791913  0.46         0.337242168         1  \n",
       "6       1.13375166  0.2568987  0.18         0.744727495         1  \n",
       "7      -0.04635260  0.9630292  0.92         0.036212173        -1  \n",
       "8       0.98756385  0.3233663  0.30         0.522878745         1  \n",
       "9       1.41525875  0.1569926  0.30         0.522878745         1  \n",
       "10     -0.05815139  0.9536280  0.94         0.026872146        -1  \n",
       "11     -1.02181675  0.3068676  0.38         0.420216403        -1  \n",
       "12     -0.26887410  0.7880266  0.78         0.107905397        -1  \n",
       "13      0.63840694  0.5232088  0.46         0.337242168         1  \n",
       "14     -0.02227841  0.9822259  0.94         0.026872146        -1  \n",
       "15      0.44272844  0.6579622  0.68         0.167491087         1  \n",
       "16      0.08383597  0.9331869  0.86         0.065501549         1  \n",
       "17     -0.52529275  0.5993797  0.64         0.193820026        -1  \n",
       "18      1.20793223  0.2270733  0.24         0.619788758         1  \n",
       "19      0.48056686  0.6308244  0.64         0.193820026         1  \n",
       "20     -1.02208123  0.3067425  0.40         0.397940009        -1  \n",
       "21      0.49300338  0.6220102  0.78         0.107905397         1  \n",
       "22     -0.70439540  0.4811866  0.78         0.107905397        -1  \n",
       "23      0.59262182  0.5534343  0.64         0.193820026         1  \n",
       "24     -0.39264601  0.6945810  0.72         0.142667504        -1  \n",
       "25     -0.77363592  0.4391461  0.56         0.251811973        -1  \n",
       "26     -0.36955078  0.7117172  0.86         0.065501549        -1  \n",
       "27     -0.50754059  0.6117756  0.70         0.154901960        -1  \n",
       "28      0.72953366  0.4656753  0.44         0.356547324         1  \n",
       "29      0.74132860  0.4584942  0.58         0.236572006         1  \n",
       "30      0.32383701  0.7460614  0.78         0.107905397         1  \n",
       "⋮      ⋮            ⋮          ⋮            ⋮                  ⋮   \n",
       "581670 -0.251903881 0.80111536 0.96         0.017728767        -1  \n",
       "581671  0.169834492 0.86514030 0.80         0.096910013         1  \n",
       "581672 -0.273634458 0.78436555 0.90         0.045757491        -1  \n",
       "581673 -0.003640064 0.99709566 1.00         0.000000000        -1  \n",
       "581674  2.070245913 0.03842932 0.10         1.000000000         1  \n",
       "581675 -0.798383281 0.42464810 0.50         0.301029996        -1  \n",
       "581676  0.304559559 0.76070162 0.82         0.086186148         1  \n",
       "581677 -1.570389168 0.11632460 0.32         0.494850022        -1  \n",
       "581678 -2.007157784 0.04473287 0.22         0.657577319        -1  \n",
       "581679  0.985795285 0.32423358 0.52         0.283996656         1  \n",
       "581680  1.977588159 0.04797519 0.14         0.853871964         1  \n",
       "581681  0.111521793 0.91120258 0.86         0.065501549         1  \n",
       "581682 -0.080621587 0.93574290 0.76         0.119186408        -1  \n",
       "581683 -0.234646539 0.81448308 0.88         0.055517328        -1  \n",
       "581684  0.063679292 0.94922559 0.90         0.045757491         1  \n",
       "581685  0.353897574 0.72341565 0.66         0.180456064         1  \n",
       "581686 -0.418914413 0.67527868 0.84         0.075720714        -1  \n",
       "581687 -0.582167297 0.56045400 0.66         0.180456064        -1  \n",
       "581688  0.910439060 0.36259101 0.40         0.397940009         1  \n",
       "581689  0.246987574 0.80491784 0.80         0.096910013         1  \n",
       "581690 -0.023938828 0.98090140 0.96         0.017728767        -1  \n",
       "581691 -0.380770620 0.70337346 0.74         0.130768280        -1  \n",
       "581692 -0.016538963 0.98680442 0.86         0.065501549        -1  \n",
       "581693 -0.250112390 0.80250043 0.84         0.075720714        -1  \n",
       "581694 -1.448339034 0.14752226 0.26         0.585026652        -1  \n",
       "581695  0.199353214 0.84198646 0.82         0.086186148         1  \n",
       "581696 -0.894439053 0.37108703 0.60         0.221848750        -1  \n",
       "581697  0.324333060 0.74568589 0.98         0.008773924         1  \n",
       "581698 -0.703261371 0.48189288 0.62         0.207608311        -1  \n",
       "581699  1.160215065 0.24596125 0.30         0.522878745         1  \n",
       "       boot_basic_p.log10.signed\n",
       "1       0.267606240             \n",
       "2       0.008773924             \n",
       "3       0.096910013             \n",
       "4       0.045757491             \n",
       "5       0.337242168             \n",
       "6       0.744727495             \n",
       "7      -0.036212173             \n",
       "8       0.522878745             \n",
       "9       0.522878745             \n",
       "10     -0.026872146             \n",
       "11     -0.420216403             \n",
       "12     -0.107905397             \n",
       "13      0.337242168             \n",
       "14     -0.026872146             \n",
       "15      0.167491087             \n",
       "16      0.065501549             \n",
       "17     -0.193820026             \n",
       "18      0.619788758             \n",
       "19      0.193820026             \n",
       "20     -0.397940009             \n",
       "21      0.107905397             \n",
       "22     -0.107905397             \n",
       "23      0.193820026             \n",
       "24     -0.142667504             \n",
       "25     -0.251811973             \n",
       "26     -0.065501549             \n",
       "27     -0.154901960             \n",
       "28      0.356547324             \n",
       "29      0.236572006             \n",
       "30      0.107905397             \n",
       "⋮      ⋮                        \n",
       "581670 -0.017728767             \n",
       "581671  0.096910013             \n",
       "581672 -0.045757491             \n",
       "581673  0.000000000             \n",
       "581674  1.000000000             \n",
       "581675 -0.301029996             \n",
       "581676  0.086186148             \n",
       "581677 -0.494850022             \n",
       "581678 -0.657577319             \n",
       "581679  0.283996656             \n",
       "581680  0.853871964             \n",
       "581681  0.065501549             \n",
       "581682 -0.119186408             \n",
       "581683 -0.055517328             \n",
       "581684  0.045757491             \n",
       "581685  0.180456064             \n",
       "581686 -0.075720714             \n",
       "581687 -0.180456064             \n",
       "581688  0.397940009             \n",
       "581689  0.096910013             \n",
       "581690 -0.017728767             \n",
       "581691 -0.130768280             \n",
       "581692 -0.065501549             \n",
       "581693 -0.075720714             \n",
       "581694 -0.585026652             \n",
       "581695  0.086186148             \n",
       "581696 -0.221848750             \n",
       "581697  0.008773924             \n",
       "581698 -0.207608311             \n",
       "581699  0.522878745             "
      ]
     },
     "metadata": {},
     "output_type": "display_data"
    }
   ],
   "source": [
    "df.output = as.data.frame(pairs.E2G.res,row.names = NULL)\n",
    "colnames(df.output)[1] = \"chr\"\n",
    "df.output[,\"CellType\"] = \"K562\"\n",
    "df.output = df.output[,c(\"chr\",\n",
    "                         \"start\",\n",
    "                         \"end\",\n",
    "                         \"TargetGene\",\n",
    "                         \"CellType\",\n",
    "                         \"beta\",\"se\",\"z\",\"p\",\"boot_basic_p\",\n",
    "                         \"boot_basic_p.log10\",\n",
    "                         \"sign\",\n",
    "                         \"boot_basic_p.log10.signed\")]\n",
    "data.table::fwrite(df.output,\n",
    "                   file = paste(dir.output,\"pairs.E2G.res.tsv.gz\",sep = \"/\"),\n",
    "                   row.names = F,\n",
    "                   quote = F,\n",
    "                   sep = \"\\t\")\n",
    "df.output"
   ]
  },
  {
   "cell_type": "code",
   "execution_count": 19,
   "id": "4d77c58e-215a-408d-8495-c68c72f559c3",
   "metadata": {},
   "outputs": [
    {
     "data": {
      "text/plain": [
       "R version 4.3.3 (2024-02-29)\n",
       "Platform: x86_64-conda-linux-gnu (64-bit)\n",
       "Running under: Red Hat Enterprise Linux 8.10 (Ootpa)\n",
       "\n",
       "Matrix products: default\n",
       "BLAS/LAPACK: /maps/projects/ralab/people/lpm537/software/anaconda3/envs/Notebook_E2G_240505/lib/libopenblasp-r0.3.27.so;  LAPACK version 3.12.0\n",
       "\n",
       "locale:\n",
       " [1] LC_CTYPE=en_US.UTF-8       LC_NUMERIC=C              \n",
       " [3] LC_TIME=en_US.UTF-8        LC_COLLATE=en_US.UTF-8    \n",
       " [5] LC_MONETARY=en_US.UTF-8    LC_MESSAGES=en_US.UTF-8   \n",
       " [7] LC_PAPER=en_US.UTF-8       LC_NAME=C                 \n",
       " [9] LC_ADDRESS=C               LC_TELEPHONE=C            \n",
       "[11] LC_MEASUREMENT=en_US.UTF-8 LC_IDENTIFICATION=C       \n",
       "\n",
       "time zone: Europe/Copenhagen\n",
       "tzcode source: system (glibc)\n",
       "\n",
       "attached base packages:\n",
       " [1] parallel  stats4    grid      stats     graphics  grDevices utils    \n",
       " [8] datasets  methods   base     \n",
       "\n",
       "other attached packages:\n",
       "[1] Matrix_1.6-5         GenomicRanges_1.54.1 GenomeInfoDb_1.38.1 \n",
       "[4] IRanges_2.36.0       S4Vectors_0.40.2     BiocGenerics_0.48.1 \n",
       "[7] genomation_1.34.0    Signac_1.13.0        SCENT_1.0.0         \n",
       "\n",
       "loaded via a namespace (and not attached):\n",
       "  [1] rstudioapi_0.16.0           jsonlite_1.8.8             \n",
       "  [3] magrittr_2.0.3              nloptr_2.0.3               \n",
       "  [5] rmarkdown_2.26              BiocIO_1.10.0              \n",
       "  [7] zlibbioc_1.48.0             vctrs_0.6.5                \n",
       "  [9] minqa_1.2.6                 Rsamtools_2.18.0           \n",
       " [11] RCurl_1.98-1.14             base64enc_0.1-3            \n",
       " [13] RcppRoll_0.3.0              htmltools_0.5.8.1          \n",
       " [15] S4Arrays_1.2.1              plotrix_3.8-4              \n",
       " [17] Formula_1.2-5               parallelly_1.37.1          \n",
       " [19] KernSmooth_2.23-22          htmlwidgets_1.6.4          \n",
       " [21] plyr_1.8.9                  impute_1.76.0              \n",
       " [23] uuid_1.2-0                  GenomicAlignments_1.36.0   \n",
       " [25] lifecycle_1.0.4             pkgconfig_2.0.3            \n",
       " [27] R6_2.5.1                    fastmap_1.1.1              \n",
       " [29] GenomeInfoDbData_1.2.11     MatrixGenerics_1.12.3      \n",
       " [31] future_1.33.2               digest_0.6.35              \n",
       " [33] colorspace_2.1-0            patchwork_1.2.0            \n",
       " [35] irlba_2.3.5.1               Hmisc_5.1-2                \n",
       " [37] progressr_0.14.0            fansi_1.0.6                \n",
       " [39] abind_1.4-5                 compiler_4.3.3             \n",
       " [41] bit64_4.0.5                 htmlTable_2.4.2            \n",
       " [43] backports_1.4.1             BiocParallel_1.36.0        \n",
       " [45] R.utils_2.12.3              MASS_7.3-60                \n",
       " [47] DelayedArray_0.26.7         rjson_0.2.21               \n",
       " [49] tools_4.3.3                 foreign_0.8-86             \n",
       " [51] future.apply_1.11.2         nnet_7.3-19                \n",
       " [53] R.oo_1.26.0                 glue_1.7.0                 \n",
       " [55] restfulr_0.0.15             nlme_3.1-164               \n",
       " [57] pbdZMQ_0.3-11               checkmate_2.3.1            \n",
       " [59] gridBase_0.4-7              cluster_2.1.6              \n",
       " [61] reshape2_1.4.4              generics_0.1.3             \n",
       " [63] gtable_0.3.5                BSgenome_1.68.0            \n",
       " [65] tzdb_0.4.0                  R.methodsS3_1.8.2          \n",
       " [67] tidyr_1.3.1                 seqPattern_1.34.0          \n",
       " [69] data.table_1.15.2           hms_1.1.3                  \n",
       " [71] sp_2.1-4                    utf8_1.2.4                 \n",
       " [73] XVector_0.42.0              pillar_1.9.0               \n",
       " [75] stringr_1.5.1               vroom_1.6.5                \n",
       " [77] spam_2.10-0                 IRdisplay_1.1              \n",
       " [79] splines_4.3.3               dplyr_1.1.4                \n",
       " [81] lattice_0.22-6              bit_4.0.5                  \n",
       " [83] rtracklayer_1.60.1          tidyselect_1.2.1           \n",
       " [85] Biostrings_2.70.1           pbapply_1.7-2              \n",
       " [87] knitr_1.46                  gridExtra_2.3              \n",
       " [89] SummarizedExperiment_1.30.2 xfun_0.43                  \n",
       " [91] Biobase_2.60.0              matrixStats_1.3.0          \n",
       " [93] stringi_1.8.3               yaml_2.3.8                 \n",
       " [95] boot_1.3-30                 evaluate_0.23              \n",
       " [97] codetools_0.2-20            tibble_3.2.1               \n",
       " [99] cli_3.6.2                   IRkernel_1.3.2             \n",
       "[101] rpart_4.1.23                repr_1.1.7                 \n",
       "[103] munsell_0.5.1               Rcpp_1.0.12                \n",
       "[105] globals_0.16.3              XML_3.99-0.16.1            \n",
       "[107] ggplot2_3.5.1               readr_2.1.5                \n",
       "[109] dotCall64_1.1-1             bitops_1.0-7               \n",
       "[111] lme4_1.1-35.3               listenv_0.9.1              \n",
       "[113] scales_1.3.0                SeuratObject_5.0.1         \n",
       "[115] purrr_1.0.2                 crayon_1.5.2               \n",
       "[117] rlang_1.1.3                 fastmatch_1.1-4            "
      ]
     },
     "metadata": {},
     "output_type": "display_data"
    }
   ],
   "source": [
    "sessionInfo()"
   ]
  },
  {
   "cell_type": "code",
   "execution_count": null,
   "id": "3c1a0283-11d6-4df1-bbd8-7b47e9e8ead8",
   "metadata": {},
   "outputs": [],
   "source": []
  }
 ],
 "metadata": {
  "kernelspec": {
   "display_name": "R",
   "language": "R",
   "name": "ir"
  },
  "language_info": {
   "codemirror_mode": "r",
   "file_extension": ".r",
   "mimetype": "text/x-r-source",
   "name": "R",
   "pygments_lexer": "r",
   "version": "4.3.3"
  }
 },
 "nbformat": 4,
 "nbformat_minor": 5
}
