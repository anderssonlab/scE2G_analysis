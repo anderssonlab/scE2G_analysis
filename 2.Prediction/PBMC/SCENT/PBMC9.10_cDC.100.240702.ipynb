{
 "cells": [
  {
   "cell_type": "code",
   "execution_count": 1,
   "id": "3a1e63f9-7479-4a30-83ea-381f1ecdbe50",
   "metadata": {},
   "outputs": [
    {
     "name": "stderr",
     "output_type": "stream",
     "text": [
      "Warning message:\n",
      "“replacing previous import ‘Hmisc::capitalize’ by ‘R.utils::capitalize’ when loading ‘SCENT’”\n",
      "Loading required package: grid\n",
      "\n",
      "Warning message:\n",
      "“replacing previous import ‘Biostrings::pattern’ by ‘grid::pattern’ when loading ‘genomation’”\n",
      "Loading required package: stats4\n",
      "\n",
      "Loading required package: BiocGenerics\n",
      "\n",
      "\n",
      "Attaching package: ‘BiocGenerics’\n",
      "\n",
      "\n",
      "The following objects are masked from ‘package:stats’:\n",
      "\n",
      "    IQR, mad, sd, var, xtabs\n",
      "\n",
      "\n",
      "The following objects are masked from ‘package:base’:\n",
      "\n",
      "    anyDuplicated, aperm, append, as.data.frame, basename, cbind,\n",
      "    colnames, dirname, do.call, duplicated, eval, evalq, Filter, Find,\n",
      "    get, grep, grepl, intersect, is.unsorted, lapply, Map, mapply,\n",
      "    match, mget, order, paste, pmax, pmax.int, pmin, pmin.int,\n",
      "    Position, rank, rbind, Reduce, rownames, sapply, setdiff, sort,\n",
      "    table, tapply, union, unique, unsplit, which.max, which.min\n",
      "\n",
      "\n",
      "Loading required package: S4Vectors\n",
      "\n",
      "\n",
      "Attaching package: ‘S4Vectors’\n",
      "\n",
      "\n",
      "The following object is masked from ‘package:utils’:\n",
      "\n",
      "    findMatches\n",
      "\n",
      "\n",
      "The following objects are masked from ‘package:base’:\n",
      "\n",
      "    expand.grid, I, unname\n",
      "\n",
      "\n",
      "Loading required package: IRanges\n",
      "\n",
      "Loading required package: GenomeInfoDb\n",
      "\n",
      "\n",
      "Attaching package: ‘Matrix’\n",
      "\n",
      "\n",
      "The following object is masked from ‘package:S4Vectors’:\n",
      "\n",
      "    expand\n",
      "\n",
      "\n"
     ]
    }
   ],
   "source": [
    "library(SCENT)\n",
    "library(Signac)\n",
    "library(genomation)\n",
    "library(GenomicRanges)\n",
    "library(Matrix)\n",
    "library(parallel)"
   ]
  },
  {
   "cell_type": "markdown",
   "id": "d53f3774-52c3-4baa-b707-5b3a0450b130",
   "metadata": {},
   "source": [
    "Specify file path"
   ]
  },
  {
   "cell_type": "code",
   "execution_count": 2,
   "id": "0785f3fc-9913-428a-bea7-5710120c9328",
   "metadata": {},
   "outputs": [],
   "source": [
    "path.pairs.E2G = \"/maps/projects/ralab_nnfc-AUDIT/people/lpm537/software/scE2G_pipeline/240617/sc-E2G/test/results/PBMC9/10_cDC.multiome_7features/Kendall/Pairs.tsv.gz\"\n",
    "path.pairs.ABC = \"/maps/projects/ralab_nnfc-AUDIT/people/lpm537/software/scE2G_pipeline/240617/sc-E2G/test/results/PBMC9/10_cDC.multiome_7features/Predictions/EnhancerPredictionsAllPutative.tsv.gz\"\n",
    "path.matrix.atac_count = \"/maps/projects/ralab_nnfc-AUDIT/people/lpm537/software/scE2G_pipeline/240617/sc-E2G/test/results/PBMC9/10_cDC.multiome_7features/Kendall/atac_matrix.rds\"\n",
    "path.matrix.rna_count = \"/maps/projects/ralab_nnfc-AUDIT/people/lpm537/project/E2G/analysis/E2G_240503/data/PBMC/1.prepare_data/3.annotate_cell_type/RNA_count_matrix/10_cDC.rna_count_matrix.csv.gz\"\n",
    "dir.output = \"/maps/projects/ralab_nnfc-AUDIT/people/lpm537/project/E2G/analysis/E2G_240503/data/PBMC/2.Genome_wide_prediction/SCENT/PBMC9.10_cDC.100.240702/\""
   ]
  },
  {
   "cell_type": "code",
   "execution_count": 3,
   "id": "500ba317-011f-4cab-834c-de750cb7f503",
   "metadata": {},
   "outputs": [],
   "source": [
    "n.cores = 16"
   ]
  },
  {
   "cell_type": "markdown",
   "id": "9c9cdab1-486b-4539-99d3-3cd5d1d99795",
   "metadata": {},
   "source": [
    "Import candidate E-G pairs"
   ]
  },
  {
   "cell_type": "code",
   "execution_count": 4,
   "id": "f5852d15-7e3f-412b-b137-7d29a6fb47b1",
   "metadata": {},
   "outputs": [],
   "source": [
    "pairs.E2G = readGeneric(path.pairs.E2G,\n",
    "                        header = T,\n",
    "                        keep.all.metadata = T)"
   ]
  },
  {
   "cell_type": "markdown",
   "id": "e79f3220-9bc6-4496-9e9a-a2dcc6e7f751",
   "metadata": {},
   "source": [
    "Import ABC results"
   ]
  },
  {
   "cell_type": "code",
   "execution_count": 5,
   "id": "6bc3f6ba-5e9a-488c-ba26-e0c84007ef4d",
   "metadata": {},
   "outputs": [],
   "source": [
    "pairs.ABC = readGeneric(path.pairs.ABC,\n",
    "                        header = T,\n",
    "                        keep.all.metadata = T)"
   ]
  },
  {
   "cell_type": "markdown",
   "id": "7d660489-4656-4b85-a3df-381acf0aa4a1",
   "metadata": {},
   "source": [
    "Filter ABC results which distance < 1M"
   ]
  },
  {
   "cell_type": "code",
   "execution_count": 6,
   "id": "31b4d7f1-0feb-428b-934a-9c32cb2a4f68",
   "metadata": {},
   "outputs": [],
   "source": [
    "pairs.ABC.1M = pairs.ABC[pairs.ABC$distance < 10^6]"
   ]
  },
  {
   "cell_type": "markdown",
   "id": "639699dd-5bf9-4b19-9178-82dbbf2c62d0",
   "metadata": {},
   "source": [
    "Filter E-G pairs overlaping with pairs.ABC.1M"
   ]
  },
  {
   "cell_type": "code",
   "execution_count": 7,
   "id": "d7db8c1b-5245-49e1-862e-979d9f1de142",
   "metadata": {},
   "outputs": [
    {
     "data": {
      "text/plain": [
       "GRanges object with 2959371 ranges and 3 metadata columns:\n",
       "            seqnames              ranges strand |  TargetGene\n",
       "               <Rle>           <IRanges>  <Rle> | <character>\n",
       "        [1]     chr1 100028859-100029170      * |         AGL\n",
       "        [2]     chr1 100028859-100029170      * |      CDC14A\n",
       "        [3]     chr1 100028859-100029170      * |         DBT\n",
       "        [4]     chr1 100028859-100029170      * |        DPH5\n",
       "        [5]     chr1 100028859-100029170      * |       EXTL2\n",
       "        ...      ...                 ...    ... .         ...\n",
       "  [2959367]     chrX     9995795-9996120      * |       TBL1X\n",
       "  [2959368]     chrX     9995795-9996120      * |        WWC3\n",
       "  [2959369]     chrX     9997584-9997830      * |       CLCN4\n",
       "  [2959370]     chrX     9997584-9997830      * |       TBL1X\n",
       "  [2959371]     chrX     9997584-9997830      * |        WWC3\n",
       "                          PeakName               PairName\n",
       "                       <character>            <character>\n",
       "        [1] chr1-100028859-10002.. chr1-100028859-10002..\n",
       "        [2] chr1-100028859-10002.. chr1-100028859-10002..\n",
       "        [3] chr1-100028859-10002.. chr1-100028859-10002..\n",
       "        [4] chr1-100028859-10002.. chr1-100028859-10002..\n",
       "        [5] chr1-100028859-10002.. chr1-100028859-10002..\n",
       "        ...                    ...                    ...\n",
       "  [2959367]   chrX-9995795-9996120 chrX-9995795-9996120..\n",
       "  [2959368]   chrX-9995795-9996120 chrX-9995795-9996120..\n",
       "  [2959369]   chrX-9997584-9997830 chrX-9997584-9997830..\n",
       "  [2959370]   chrX-9997584-9997830 chrX-9997584-9997830..\n",
       "  [2959371]   chrX-9997584-9997830 chrX-9997584-9997830..\n",
       "  -------\n",
       "  seqinfo: 23 sequences from an unspecified genome; no seqlengths"
      ]
     },
     "metadata": {},
     "output_type": "display_data"
    }
   ],
   "source": [
    "df.pairs.E2G.chr_rename = as.data.frame(pairs.E2G)[,1:3]\n",
    "df.pairs.E2G.chr_rename[,\"seqnames\"] = paste(seqnames(pairs.E2G),\n",
    "                                             mcols(pairs.E2G)[,\"TargetGene\"],\n",
    "                                             sep = \"_\")\n",
    "pairs.E2G.chr_rename = GRanges(df.pairs.E2G.chr_rename)\n",
    "rm(df.pairs.E2G.chr_rename)\n",
    "\n",
    "df.pairs.ABC.1M.chr_rename = as.data.frame(pairs.ABC.1M)[,1:3]\n",
    "df.pairs.ABC.1M.chr_rename[,\"seqnames\"] = paste(seqnames(pairs.ABC.1M),\n",
    "                                                mcols(pairs.ABC.1M)[,\"TargetGene\"],\n",
    "                                                sep = \"_\")\n",
    "pairs.ABC.1M.chr_rename = GRanges(df.pairs.ABC.1M.chr_rename)\n",
    "rm(df.pairs.ABC.1M.chr_rename)\n",
    "\n",
    "pairs.E2G.filter = pairs.E2G[countOverlaps(pairs.E2G.chr_rename,\n",
    "                                           pairs.ABC.1M.chr_rename) > 0]\n",
    "rm(pairs.E2G.chr_rename)\n",
    "rm(pairs.ABC.1M.chr_rename)\n",
    "pairs.E2G.filter"
   ]
  },
  {
   "cell_type": "markdown",
   "id": "bcdfac67-ce32-4d9a-8f4d-65dab644ec63",
   "metadata": {},
   "source": [
    "Import ATAC matrix"
   ]
  },
  {
   "cell_type": "code",
   "execution_count": 8,
   "id": "bd59feb4-3e33-4ebe-a107-f3b6d347a68e",
   "metadata": {},
   "outputs": [],
   "source": [
    "matrix.atac = readRDS(path.matrix.atac_count)\n",
    "matrix.atac = BinarizeCounts(matrix.atac)"
   ]
  },
  {
   "cell_type": "markdown",
   "id": "a0c5cb96-2fc4-42c4-a421-fe9a5ca537da",
   "metadata": {},
   "source": [
    "Import RNA matrix"
   ]
  },
  {
   "cell_type": "code",
   "execution_count": 9,
   "id": "96e10e90-9400-4cfe-bc7b-46a7eaee1fcd",
   "metadata": {},
   "outputs": [],
   "source": [
    "matrix.rna = read.csv(path.matrix.rna_count,\n",
    "                      row.names = 1,\n",
    "                      check.names = F)\n",
    "matrix.rna = Matrix(as.matrix(matrix.rna), sparse = TRUE)\n",
    "matrix.rna = matrix.rna[,colnames(matrix.atac)]\n",
    "matrix.rna = matrix.rna[rowSums(matrix.rna) > 0,]"
   ]
  },
  {
   "cell_type": "code",
   "execution_count": 10,
   "id": "ad0f51bc-6e09-4b83-be71-560130dd0fa6",
   "metadata": {},
   "outputs": [],
   "source": [
    "pairs.E2G.filter2 = pairs.E2G.filter[pairs.E2G.filter$TargetGene %in% rownames(matrix.rna) &\n",
    "                                     pairs.E2G.filter$PeakName %in% rownames(matrix.atac)]"
   ]
  },
  {
   "cell_type": "markdown",
   "id": "b16f7d5b-eabd-4e93-b8cd-f19a54df21f2",
   "metadata": {},
   "source": [
    "Prepare SCENT meta data"
   ]
  },
  {
   "cell_type": "code",
   "execution_count": 11,
   "id": "827059dd-6885-441e-973e-d7c49e5fd534",
   "metadata": {},
   "outputs": [
    {
     "data": {
      "text/html": [
       "<table class=\"dataframe\">\n",
       "<caption>A data.frame: 333 × 6</caption>\n",
       "<thead>\n",
       "\t<tr><th></th><th scope=col>cell</th><th scope=col>nUMI</th><th scope=col>nMito</th><th scope=col>celltype</th><th scope=col>log.nUMI</th><th scope=col>percent.mito</th></tr>\n",
       "\t<tr><th></th><th scope=col>&lt;chr&gt;</th><th scope=col>&lt;dbl&gt;</th><th scope=col>&lt;dbl&gt;</th><th scope=col>&lt;chr&gt;</th><th scope=col>&lt;dbl&gt;</th><th scope=col>&lt;dbl&gt;</th></tr>\n",
       "</thead>\n",
       "<tbody>\n",
       "\t<tr><th scope=row>Multiome10x_05_AAATGCCTCCAATTAG-1</th><td>Multiome10x_05_AAATGCCTCCAATTAG-1</td><td> 4022</td><td> 739</td><td>K562</td><td>8.299535</td><td>0.18373943</td></tr>\n",
       "\t<tr><th scope=row>Multiome10x_05_AACTACTCACTATGGC-1</th><td>Multiome10x_05_AACTACTCACTATGGC-1</td><td> 9856</td><td>1270</td><td>K562</td><td>9.195836</td><td>0.12885552</td></tr>\n",
       "\t<tr><th scope=row>Multiome10x_05_AACTGTTCAGGCTTGT-1</th><td>Multiome10x_05_AACTGTTCAGGCTTGT-1</td><td> 4715</td><td> 656</td><td>K562</td><td>8.458504</td><td>0.13913043</td></tr>\n",
       "\t<tr><th scope=row>Multiome10x_05_AAGCGTTTCCTGGTGA-1</th><td>Multiome10x_05_AAGCGTTTCCTGGTGA-1</td><td> 7466</td><td> 929</td><td>K562</td><td>8.918115</td><td>0.12443075</td></tr>\n",
       "\t<tr><th scope=row>Multiome10x_05_AAGCTAGAGGTAAGCA-1</th><td>Multiome10x_05_AAGCTAGAGGTAAGCA-1</td><td> 6014</td><td> 532</td><td>K562</td><td>8.701845</td><td>0.08846026</td></tr>\n",
       "\t<tr><th scope=row>Multiome10x_05_AATAACCGTCACCAAA-1</th><td>Multiome10x_05_AATAACCGTCACCAAA-1</td><td> 5772</td><td> 823</td><td>K562</td><td>8.660774</td><td>0.14258489</td></tr>\n",
       "\t<tr><th scope=row>Multiome10x_05_AATAACCGTTGGCCGA-1</th><td>Multiome10x_05_AATAACCGTTGGCCGA-1</td><td> 6314</td><td> 799</td><td>K562</td><td>8.750525</td><td>0.12654419</td></tr>\n",
       "\t<tr><th scope=row>Multiome10x_05_AATATCCCAACCTGGT-1</th><td>Multiome10x_05_AATATCCCAACCTGGT-1</td><td>11613</td><td>1633</td><td>K562</td><td>9.359880</td><td>0.14061827</td></tr>\n",
       "\t<tr><th scope=row>Multiome10x_05_AATCCGTAGCTACTGG-1</th><td>Multiome10x_05_AATCCGTAGCTACTGG-1</td><td> 7714</td><td>1092</td><td>K562</td><td>8.950792</td><td>0.14156080</td></tr>\n",
       "\t<tr><th scope=row>Multiome10x_05_AATTACCCATAGCGGA-1</th><td>Multiome10x_05_AATTACCCATAGCGGA-1</td><td> 6445</td><td> 823</td><td>K562</td><td>8.771060</td><td>0.12769589</td></tr>\n",
       "\t<tr><th scope=row>Multiome10x_05_AATTGCCAGCGGATAA-1</th><td>Multiome10x_05_AATTGCCAGCGGATAA-1</td><td> 6824</td><td> 992</td><td>K562</td><td>8.828201</td><td>0.14536928</td></tr>\n",
       "\t<tr><th scope=row>Multiome10x_05_ACATTAGTCTACTAAG-1</th><td>Multiome10x_05_ACATTAGTCTACTAAG-1</td><td> 4018</td><td> 848</td><td>K562</td><td>8.298540</td><td>0.21105027</td></tr>\n",
       "\t<tr><th scope=row>Multiome10x_05_ACCACACCAGGCATCT-1</th><td>Multiome10x_05_ACCACACCAGGCATCT-1</td><td> 7391</td><td> 896</td><td>K562</td><td>8.908018</td><td>0.12122852</td></tr>\n",
       "\t<tr><th scope=row>Multiome10x_05_ACCGGTTCAACACCTA-1</th><td>Multiome10x_05_ACCGGTTCAACACCTA-1</td><td> 8680</td><td>1065</td><td>K562</td><td>9.068777</td><td>0.12269585</td></tr>\n",
       "\t<tr><th scope=row>Multiome10x_05_ACCTAAATCAAGTGAG-1</th><td>Multiome10x_05_ACCTAAATCAAGTGAG-1</td><td> 5579</td><td> 583</td><td>K562</td><td>8.626765</td><td>0.10449901</td></tr>\n",
       "\t<tr><th scope=row>Multiome10x_05_ACCTGTTGTCTAACCT-1</th><td>Multiome10x_05_ACCTGTTGTCTAACCT-1</td><td> 7376</td><td>1029</td><td>K562</td><td>8.905987</td><td>0.13950651</td></tr>\n",
       "\t<tr><th scope=row>Multiome10x_05_ACGAGTAAGGGTCTAT-1</th><td>Multiome10x_05_ACGAGTAAGGGTCTAT-1</td><td> 6259</td><td> 772</td><td>K562</td><td>8.741776</td><td>0.12334239</td></tr>\n",
       "\t<tr><th scope=row>Multiome10x_05_ACGCTTGAGTTGGATC-1</th><td>Multiome10x_05_ACGCTTGAGTTGGATC-1</td><td> 5743</td><td> 743</td><td>K562</td><td>8.655737</td><td>0.12937489</td></tr>\n",
       "\t<tr><th scope=row>Multiome10x_05_ACGTACCCAGCATTAT-1</th><td>Multiome10x_05_ACGTACCCAGCATTAT-1</td><td> 8238</td><td>1029</td><td>K562</td><td>9.016513</td><td>0.12490896</td></tr>\n",
       "\t<tr><th scope=row>Multiome10x_05_ACGTCCAAGCATGTTA-1</th><td>Multiome10x_05_ACGTCCAAGCATGTTA-1</td><td> 9100</td><td>1177</td><td>K562</td><td>9.116030</td><td>0.12934066</td></tr>\n",
       "\t<tr><th scope=row>Multiome10x_05_ACTAAAGCATAAGTTC-1</th><td>Multiome10x_05_ACTAAAGCATAAGTTC-1</td><td> 9281</td><td>1391</td><td>K562</td><td>9.135725</td><td>0.14987609</td></tr>\n",
       "\t<tr><th scope=row>Multiome10x_05_ACTTAGGGTAACCACA-1</th><td>Multiome10x_05_ACTTAGGGTAACCACA-1</td><td> 6274</td><td> 649</td><td>K562</td><td>8.744169</td><td>0.10344278</td></tr>\n",
       "\t<tr><th scope=row>Multiome10x_05_AGAAAGGCAGTTAGCC-1</th><td>Multiome10x_05_AGAAAGGCAGTTAGCC-1</td><td> 6434</td><td> 624</td><td>K562</td><td>8.769352</td><td>0.09698477</td></tr>\n",
       "\t<tr><th scope=row>Multiome10x_05_AGACAATAGTTACCGG-1</th><td>Multiome10x_05_AGACAATAGTTACCGG-1</td><td> 7969</td><td> 767</td><td>K562</td><td>8.983314</td><td>0.09624796</td></tr>\n",
       "\t<tr><th scope=row>Multiome10x_05_AGAGAGGAGCATTAGC-1</th><td>Multiome10x_05_AGAGAGGAGCATTAGC-1</td><td> 5569</td><td> 469</td><td>K562</td><td>8.624971</td><td>0.08421620</td></tr>\n",
       "\t<tr><th scope=row>Multiome10x_05_AGCCTGGGTACGGTAC-1</th><td>Multiome10x_05_AGCCTGGGTACGGTAC-1</td><td> 7612</td><td> 836</td><td>K562</td><td>8.937481</td><td>0.10982659</td></tr>\n",
       "\t<tr><th scope=row>Multiome10x_05_AGCGGATAGTAAGGGC-1</th><td>Multiome10x_05_AGCGGATAGTAAGGGC-1</td><td> 3129</td><td> 618</td><td>K562</td><td>8.048469</td><td>0.19750719</td></tr>\n",
       "\t<tr><th scope=row>Multiome10x_05_AGCTACTAGTTATGTG-1</th><td>Multiome10x_05_AGCTACTAGTTATGTG-1</td><td> 7157</td><td> 891</td><td>K562</td><td>8.875846</td><td>0.12449350</td></tr>\n",
       "\t<tr><th scope=row>Multiome10x_05_AGCTAGTTCAAGCCTG-1</th><td>Multiome10x_05_AGCTAGTTCAAGCCTG-1</td><td> 6466</td><td> 808</td><td>K562</td><td>8.774313</td><td>0.12496134</td></tr>\n",
       "\t<tr><th scope=row>Multiome10x_05_AGGAAACGTCACAAAT-1</th><td>Multiome10x_05_AGGAAACGTCACAAAT-1</td><td> 6386</td><td> 834</td><td>K562</td><td>8.761863</td><td>0.13059818</td></tr>\n",
       "\t<tr><th scope=row>⋮</th><td>⋮</td><td>⋮</td><td>⋮</td><td>⋮</td><td>⋮</td><td>⋮</td></tr>\n",
       "\t<tr><th scope=row>Multiome10x_06_TCAAGAACACTATGGC-1</th><td>Multiome10x_06_TCAAGAACACTATGGC-1</td><td>10730</td><td>1295</td><td>K562</td><td>9.280799</td><td>0.12068966</td></tr>\n",
       "\t<tr><th scope=row>Multiome10x_06_TCAAGAACAGTAAGTA-1</th><td>Multiome10x_06_TCAAGAACAGTAAGTA-1</td><td> 6724</td><td> 918</td><td>K562</td><td>8.813438</td><td>0.13652588</td></tr>\n",
       "\t<tr><th scope=row>Multiome10x_06_TCAAGAACATTGTTGG-1</th><td>Multiome10x_06_TCAAGAACATTGTTGG-1</td><td> 4472</td><td> 705</td><td>K562</td><td>8.405591</td><td>0.15764758</td></tr>\n",
       "\t<tr><th scope=row>Multiome10x_06_TCAAGTATCGGGCCAT-1</th><td>Multiome10x_06_TCAAGTATCGGGCCAT-1</td><td> 4278</td><td> 880</td><td>K562</td><td>8.361241</td><td>0.20570360</td></tr>\n",
       "\t<tr><th scope=row>Multiome10x_06_TCAGTAGGTATTGTGG-1</th><td>Multiome10x_06_TCAGTAGGTATTGTGG-1</td><td> 8104</td><td> 928</td><td>K562</td><td>9.000113</td><td>0.11451135</td></tr>\n",
       "\t<tr><th scope=row>Multiome10x_06_TCCGCCATCTTAATGG-1</th><td>Multiome10x_06_TCCGCCATCTTAATGG-1</td><td> 8195</td><td> 902</td><td>K562</td><td>9.011279</td><td>0.11006711</td></tr>\n",
       "\t<tr><th scope=row>Multiome10x_06_TCCTTCAAGGCGGATG-1</th><td>Multiome10x_06_TCCTTCAAGGCGGATG-1</td><td> 4999</td><td> 625</td><td>K562</td><td>8.516993</td><td>0.12502501</td></tr>\n",
       "\t<tr><th scope=row>Multiome10x_06_TCGCCCATCTCACATT-1</th><td>Multiome10x_06_TCGCCCATCTCACATT-1</td><td> 6875</td><td> 934</td><td>K562</td><td>8.835647</td><td>0.13585455</td></tr>\n",
       "\t<tr><th scope=row>Multiome10x_06_TCTAGCACAATTGAAG-1</th><td>Multiome10x_06_TCTAGCACAATTGAAG-1</td><td>13179</td><td>1633</td><td>K562</td><td>9.486380</td><td>0.12390925</td></tr>\n",
       "\t<tr><th scope=row>Multiome10x_06_TGAGGGCCAGTTATGT-1</th><td>Multiome10x_06_TGAGGGCCAGTTATGT-1</td><td> 6005</td><td> 753</td><td>K562</td><td>8.700348</td><td>0.12539550</td></tr>\n",
       "\t<tr><th scope=row>Multiome10x_06_TGATTCAAGTCACTCC-1</th><td>Multiome10x_06_TGATTCAAGTCACTCC-1</td><td> 6641</td><td> 856</td><td>K562</td><td>8.801018</td><td>0.12889625</td></tr>\n",
       "\t<tr><th scope=row>Multiome10x_06_TGCATCCTCTTGGATA-1</th><td>Multiome10x_06_TGCATCCTCTTGGATA-1</td><td> 6217</td><td> 712</td><td>K562</td><td>8.735043</td><td>0.11452469</td></tr>\n",
       "\t<tr><th scope=row>Multiome10x_06_TGCTCTCAGGCATGTT-1</th><td>Multiome10x_06_TGCTCTCAGGCATGTT-1</td><td> 6527</td><td> 811</td><td>K562</td><td>8.783703</td><td>0.12425310</td></tr>\n",
       "\t<tr><th scope=row>Multiome10x_06_TGCTTAAAGGTGCGGA-1</th><td>Multiome10x_06_TGCTTAAAGGTGCGGA-1</td><td> 6855</td><td> 826</td><td>K562</td><td>8.832734</td><td>0.12049599</td></tr>\n",
       "\t<tr><th scope=row>Multiome10x_06_TGCTTGTGTCGTTACT-1</th><td>Multiome10x_06_TGCTTGTGTCGTTACT-1</td><td> 4461</td><td> 354</td><td>K562</td><td>8.403128</td><td>0.07935440</td></tr>\n",
       "\t<tr><th scope=row>Multiome10x_06_TGGATTCAGACTTACA-1</th><td>Multiome10x_06_TGGATTCAGACTTACA-1</td><td> 6306</td><td>1156</td><td>K562</td><td>8.749257</td><td>0.18331748</td></tr>\n",
       "\t<tr><th scope=row>Multiome10x_06_TGGATTCAGTTATGGC-1</th><td>Multiome10x_06_TGGATTCAGTTATGGC-1</td><td> 6283</td><td>1178</td><td>K562</td><td>8.745603</td><td>0.18749005</td></tr>\n",
       "\t<tr><th scope=row>Multiome10x_06_TGGTCCTTCTGGTCCT-1</th><td>Multiome10x_06_TGGTCCTTCTGGTCCT-1</td><td> 7428</td><td>1005</td><td>K562</td><td>8.913012</td><td>0.13529887</td></tr>\n",
       "\t<tr><th scope=row>Multiome10x_06_TGGTTAATCACGCCAA-1</th><td>Multiome10x_06_TGGTTAATCACGCCAA-1</td><td> 2400</td><td> 253</td><td>K562</td><td>7.783224</td><td>0.10541667</td></tr>\n",
       "\t<tr><th scope=row>Multiome10x_06_TGGTTGAGTTGTCCAT-1</th><td>Multiome10x_06_TGGTTGAGTTGTCCAT-1</td><td> 6233</td><td> 723</td><td>K562</td><td>8.737613</td><td>0.11599551</td></tr>\n",
       "\t<tr><th scope=row>Multiome10x_06_TTACCTGTCATAGACC-1</th><td>Multiome10x_06_TTACCTGTCATAGACC-1</td><td> 4864</td><td> 553</td><td>K562</td><td>8.489616</td><td>0.11369243</td></tr>\n",
       "\t<tr><th scope=row>Multiome10x_06_TTAGGCTAGCGCAATT-1</th><td>Multiome10x_06_TTAGGCTAGCGCAATT-1</td><td> 8514</td><td>1195</td><td>K562</td><td>9.049467</td><td>0.14035706</td></tr>\n",
       "\t<tr><th scope=row>Multiome10x_06_TTCAACCGTTTGGCGG-1</th><td>Multiome10x_06_TTCAACCGTTTGGCGG-1</td><td> 6733</td><td> 756</td><td>K562</td><td>8.814776</td><td>0.11228279</td></tr>\n",
       "\t<tr><th scope=row>Multiome10x_06_TTGCCCGTCTCCATAT-1</th><td>Multiome10x_06_TTGCCCGTCTCCATAT-1</td><td> 6294</td><td> 727</td><td>K562</td><td>8.747352</td><td>0.11550683</td></tr>\n",
       "\t<tr><th scope=row>Multiome10x_06_TTGGATCAGTCTCACC-1</th><td>Multiome10x_06_TTGGATCAGTCTCACC-1</td><td> 7532</td><td> 661</td><td>K562</td><td>8.926916</td><td>0.08775890</td></tr>\n",
       "\t<tr><th scope=row>Multiome10x_06_TTGTGCCTCGGTAACT-1</th><td>Multiome10x_06_TTGTGCCTCGGTAACT-1</td><td> 7416</td><td> 941</td><td>K562</td><td>8.911395</td><td>0.12688781</td></tr>\n",
       "\t<tr><th scope=row>Multiome10x_06_TTTAGCAAGGGTGGAT-1</th><td>Multiome10x_06_TTTAGCAAGGGTGGAT-1</td><td>16830</td><td>2192</td><td>K562</td><td>9.730918</td><td>0.13024361</td></tr>\n",
       "\t<tr><th scope=row>Multiome10x_06_TTTCCGGGTTAGTTGG-1</th><td>Multiome10x_06_TTTCCGGGTTAGTTGG-1</td><td> 3377</td><td> 328</td><td>K562</td><td>8.124743</td><td>0.09712763</td></tr>\n",
       "\t<tr><th scope=row>Multiome10x_06_TTTCTCACAATCTCTC-1</th><td>Multiome10x_06_TTTCTCACAATCTCTC-1</td><td> 3044</td><td>  34</td><td>K562</td><td>8.020928</td><td>0.01116951</td></tr>\n",
       "\t<tr><th scope=row>Multiome10x_06_TTTCTTGCAGTTTACG-1</th><td>Multiome10x_06_TTTCTTGCAGTTTACG-1</td><td> 5663</td><td> 746</td><td>K562</td><td>8.641709</td><td>0.13173230</td></tr>\n",
       "</tbody>\n",
       "</table>\n"
      ],
      "text/latex": [
       "A data.frame: 333 × 6\n",
       "\\begin{tabular}{r|llllll}\n",
       "  & cell & nUMI & nMito & celltype & log.nUMI & percent.mito\\\\\n",
       "  & <chr> & <dbl> & <dbl> & <chr> & <dbl> & <dbl>\\\\\n",
       "\\hline\n",
       "\tMultiome10x\\_05\\_AAATGCCTCCAATTAG-1 & Multiome10x\\_05\\_AAATGCCTCCAATTAG-1 &  4022 &  739 & K562 & 8.299535 & 0.18373943\\\\\n",
       "\tMultiome10x\\_05\\_AACTACTCACTATGGC-1 & Multiome10x\\_05\\_AACTACTCACTATGGC-1 &  9856 & 1270 & K562 & 9.195836 & 0.12885552\\\\\n",
       "\tMultiome10x\\_05\\_AACTGTTCAGGCTTGT-1 & Multiome10x\\_05\\_AACTGTTCAGGCTTGT-1 &  4715 &  656 & K562 & 8.458504 & 0.13913043\\\\\n",
       "\tMultiome10x\\_05\\_AAGCGTTTCCTGGTGA-1 & Multiome10x\\_05\\_AAGCGTTTCCTGGTGA-1 &  7466 &  929 & K562 & 8.918115 & 0.12443075\\\\\n",
       "\tMultiome10x\\_05\\_AAGCTAGAGGTAAGCA-1 & Multiome10x\\_05\\_AAGCTAGAGGTAAGCA-1 &  6014 &  532 & K562 & 8.701845 & 0.08846026\\\\\n",
       "\tMultiome10x\\_05\\_AATAACCGTCACCAAA-1 & Multiome10x\\_05\\_AATAACCGTCACCAAA-1 &  5772 &  823 & K562 & 8.660774 & 0.14258489\\\\\n",
       "\tMultiome10x\\_05\\_AATAACCGTTGGCCGA-1 & Multiome10x\\_05\\_AATAACCGTTGGCCGA-1 &  6314 &  799 & K562 & 8.750525 & 0.12654419\\\\\n",
       "\tMultiome10x\\_05\\_AATATCCCAACCTGGT-1 & Multiome10x\\_05\\_AATATCCCAACCTGGT-1 & 11613 & 1633 & K562 & 9.359880 & 0.14061827\\\\\n",
       "\tMultiome10x\\_05\\_AATCCGTAGCTACTGG-1 & Multiome10x\\_05\\_AATCCGTAGCTACTGG-1 &  7714 & 1092 & K562 & 8.950792 & 0.14156080\\\\\n",
       "\tMultiome10x\\_05\\_AATTACCCATAGCGGA-1 & Multiome10x\\_05\\_AATTACCCATAGCGGA-1 &  6445 &  823 & K562 & 8.771060 & 0.12769589\\\\\n",
       "\tMultiome10x\\_05\\_AATTGCCAGCGGATAA-1 & Multiome10x\\_05\\_AATTGCCAGCGGATAA-1 &  6824 &  992 & K562 & 8.828201 & 0.14536928\\\\\n",
       "\tMultiome10x\\_05\\_ACATTAGTCTACTAAG-1 & Multiome10x\\_05\\_ACATTAGTCTACTAAG-1 &  4018 &  848 & K562 & 8.298540 & 0.21105027\\\\\n",
       "\tMultiome10x\\_05\\_ACCACACCAGGCATCT-1 & Multiome10x\\_05\\_ACCACACCAGGCATCT-1 &  7391 &  896 & K562 & 8.908018 & 0.12122852\\\\\n",
       "\tMultiome10x\\_05\\_ACCGGTTCAACACCTA-1 & Multiome10x\\_05\\_ACCGGTTCAACACCTA-1 &  8680 & 1065 & K562 & 9.068777 & 0.12269585\\\\\n",
       "\tMultiome10x\\_05\\_ACCTAAATCAAGTGAG-1 & Multiome10x\\_05\\_ACCTAAATCAAGTGAG-1 &  5579 &  583 & K562 & 8.626765 & 0.10449901\\\\\n",
       "\tMultiome10x\\_05\\_ACCTGTTGTCTAACCT-1 & Multiome10x\\_05\\_ACCTGTTGTCTAACCT-1 &  7376 & 1029 & K562 & 8.905987 & 0.13950651\\\\\n",
       "\tMultiome10x\\_05\\_ACGAGTAAGGGTCTAT-1 & Multiome10x\\_05\\_ACGAGTAAGGGTCTAT-1 &  6259 &  772 & K562 & 8.741776 & 0.12334239\\\\\n",
       "\tMultiome10x\\_05\\_ACGCTTGAGTTGGATC-1 & Multiome10x\\_05\\_ACGCTTGAGTTGGATC-1 &  5743 &  743 & K562 & 8.655737 & 0.12937489\\\\\n",
       "\tMultiome10x\\_05\\_ACGTACCCAGCATTAT-1 & Multiome10x\\_05\\_ACGTACCCAGCATTAT-1 &  8238 & 1029 & K562 & 9.016513 & 0.12490896\\\\\n",
       "\tMultiome10x\\_05\\_ACGTCCAAGCATGTTA-1 & Multiome10x\\_05\\_ACGTCCAAGCATGTTA-1 &  9100 & 1177 & K562 & 9.116030 & 0.12934066\\\\\n",
       "\tMultiome10x\\_05\\_ACTAAAGCATAAGTTC-1 & Multiome10x\\_05\\_ACTAAAGCATAAGTTC-1 &  9281 & 1391 & K562 & 9.135725 & 0.14987609\\\\\n",
       "\tMultiome10x\\_05\\_ACTTAGGGTAACCACA-1 & Multiome10x\\_05\\_ACTTAGGGTAACCACA-1 &  6274 &  649 & K562 & 8.744169 & 0.10344278\\\\\n",
       "\tMultiome10x\\_05\\_AGAAAGGCAGTTAGCC-1 & Multiome10x\\_05\\_AGAAAGGCAGTTAGCC-1 &  6434 &  624 & K562 & 8.769352 & 0.09698477\\\\\n",
       "\tMultiome10x\\_05\\_AGACAATAGTTACCGG-1 & Multiome10x\\_05\\_AGACAATAGTTACCGG-1 &  7969 &  767 & K562 & 8.983314 & 0.09624796\\\\\n",
       "\tMultiome10x\\_05\\_AGAGAGGAGCATTAGC-1 & Multiome10x\\_05\\_AGAGAGGAGCATTAGC-1 &  5569 &  469 & K562 & 8.624971 & 0.08421620\\\\\n",
       "\tMultiome10x\\_05\\_AGCCTGGGTACGGTAC-1 & Multiome10x\\_05\\_AGCCTGGGTACGGTAC-1 &  7612 &  836 & K562 & 8.937481 & 0.10982659\\\\\n",
       "\tMultiome10x\\_05\\_AGCGGATAGTAAGGGC-1 & Multiome10x\\_05\\_AGCGGATAGTAAGGGC-1 &  3129 &  618 & K562 & 8.048469 & 0.19750719\\\\\n",
       "\tMultiome10x\\_05\\_AGCTACTAGTTATGTG-1 & Multiome10x\\_05\\_AGCTACTAGTTATGTG-1 &  7157 &  891 & K562 & 8.875846 & 0.12449350\\\\\n",
       "\tMultiome10x\\_05\\_AGCTAGTTCAAGCCTG-1 & Multiome10x\\_05\\_AGCTAGTTCAAGCCTG-1 &  6466 &  808 & K562 & 8.774313 & 0.12496134\\\\\n",
       "\tMultiome10x\\_05\\_AGGAAACGTCACAAAT-1 & Multiome10x\\_05\\_AGGAAACGTCACAAAT-1 &  6386 &  834 & K562 & 8.761863 & 0.13059818\\\\\n",
       "\t⋮ & ⋮ & ⋮ & ⋮ & ⋮ & ⋮ & ⋮\\\\\n",
       "\tMultiome10x\\_06\\_TCAAGAACACTATGGC-1 & Multiome10x\\_06\\_TCAAGAACACTATGGC-1 & 10730 & 1295 & K562 & 9.280799 & 0.12068966\\\\\n",
       "\tMultiome10x\\_06\\_TCAAGAACAGTAAGTA-1 & Multiome10x\\_06\\_TCAAGAACAGTAAGTA-1 &  6724 &  918 & K562 & 8.813438 & 0.13652588\\\\\n",
       "\tMultiome10x\\_06\\_TCAAGAACATTGTTGG-1 & Multiome10x\\_06\\_TCAAGAACATTGTTGG-1 &  4472 &  705 & K562 & 8.405591 & 0.15764758\\\\\n",
       "\tMultiome10x\\_06\\_TCAAGTATCGGGCCAT-1 & Multiome10x\\_06\\_TCAAGTATCGGGCCAT-1 &  4278 &  880 & K562 & 8.361241 & 0.20570360\\\\\n",
       "\tMultiome10x\\_06\\_TCAGTAGGTATTGTGG-1 & Multiome10x\\_06\\_TCAGTAGGTATTGTGG-1 &  8104 &  928 & K562 & 9.000113 & 0.11451135\\\\\n",
       "\tMultiome10x\\_06\\_TCCGCCATCTTAATGG-1 & Multiome10x\\_06\\_TCCGCCATCTTAATGG-1 &  8195 &  902 & K562 & 9.011279 & 0.11006711\\\\\n",
       "\tMultiome10x\\_06\\_TCCTTCAAGGCGGATG-1 & Multiome10x\\_06\\_TCCTTCAAGGCGGATG-1 &  4999 &  625 & K562 & 8.516993 & 0.12502501\\\\\n",
       "\tMultiome10x\\_06\\_TCGCCCATCTCACATT-1 & Multiome10x\\_06\\_TCGCCCATCTCACATT-1 &  6875 &  934 & K562 & 8.835647 & 0.13585455\\\\\n",
       "\tMultiome10x\\_06\\_TCTAGCACAATTGAAG-1 & Multiome10x\\_06\\_TCTAGCACAATTGAAG-1 & 13179 & 1633 & K562 & 9.486380 & 0.12390925\\\\\n",
       "\tMultiome10x\\_06\\_TGAGGGCCAGTTATGT-1 & Multiome10x\\_06\\_TGAGGGCCAGTTATGT-1 &  6005 &  753 & K562 & 8.700348 & 0.12539550\\\\\n",
       "\tMultiome10x\\_06\\_TGATTCAAGTCACTCC-1 & Multiome10x\\_06\\_TGATTCAAGTCACTCC-1 &  6641 &  856 & K562 & 8.801018 & 0.12889625\\\\\n",
       "\tMultiome10x\\_06\\_TGCATCCTCTTGGATA-1 & Multiome10x\\_06\\_TGCATCCTCTTGGATA-1 &  6217 &  712 & K562 & 8.735043 & 0.11452469\\\\\n",
       "\tMultiome10x\\_06\\_TGCTCTCAGGCATGTT-1 & Multiome10x\\_06\\_TGCTCTCAGGCATGTT-1 &  6527 &  811 & K562 & 8.783703 & 0.12425310\\\\\n",
       "\tMultiome10x\\_06\\_TGCTTAAAGGTGCGGA-1 & Multiome10x\\_06\\_TGCTTAAAGGTGCGGA-1 &  6855 &  826 & K562 & 8.832734 & 0.12049599\\\\\n",
       "\tMultiome10x\\_06\\_TGCTTGTGTCGTTACT-1 & Multiome10x\\_06\\_TGCTTGTGTCGTTACT-1 &  4461 &  354 & K562 & 8.403128 & 0.07935440\\\\\n",
       "\tMultiome10x\\_06\\_TGGATTCAGACTTACA-1 & Multiome10x\\_06\\_TGGATTCAGACTTACA-1 &  6306 & 1156 & K562 & 8.749257 & 0.18331748\\\\\n",
       "\tMultiome10x\\_06\\_TGGATTCAGTTATGGC-1 & Multiome10x\\_06\\_TGGATTCAGTTATGGC-1 &  6283 & 1178 & K562 & 8.745603 & 0.18749005\\\\\n",
       "\tMultiome10x\\_06\\_TGGTCCTTCTGGTCCT-1 & Multiome10x\\_06\\_TGGTCCTTCTGGTCCT-1 &  7428 & 1005 & K562 & 8.913012 & 0.13529887\\\\\n",
       "\tMultiome10x\\_06\\_TGGTTAATCACGCCAA-1 & Multiome10x\\_06\\_TGGTTAATCACGCCAA-1 &  2400 &  253 & K562 & 7.783224 & 0.10541667\\\\\n",
       "\tMultiome10x\\_06\\_TGGTTGAGTTGTCCAT-1 & Multiome10x\\_06\\_TGGTTGAGTTGTCCAT-1 &  6233 &  723 & K562 & 8.737613 & 0.11599551\\\\\n",
       "\tMultiome10x\\_06\\_TTACCTGTCATAGACC-1 & Multiome10x\\_06\\_TTACCTGTCATAGACC-1 &  4864 &  553 & K562 & 8.489616 & 0.11369243\\\\\n",
       "\tMultiome10x\\_06\\_TTAGGCTAGCGCAATT-1 & Multiome10x\\_06\\_TTAGGCTAGCGCAATT-1 &  8514 & 1195 & K562 & 9.049467 & 0.14035706\\\\\n",
       "\tMultiome10x\\_06\\_TTCAACCGTTTGGCGG-1 & Multiome10x\\_06\\_TTCAACCGTTTGGCGG-1 &  6733 &  756 & K562 & 8.814776 & 0.11228279\\\\\n",
       "\tMultiome10x\\_06\\_TTGCCCGTCTCCATAT-1 & Multiome10x\\_06\\_TTGCCCGTCTCCATAT-1 &  6294 &  727 & K562 & 8.747352 & 0.11550683\\\\\n",
       "\tMultiome10x\\_06\\_TTGGATCAGTCTCACC-1 & Multiome10x\\_06\\_TTGGATCAGTCTCACC-1 &  7532 &  661 & K562 & 8.926916 & 0.08775890\\\\\n",
       "\tMultiome10x\\_06\\_TTGTGCCTCGGTAACT-1 & Multiome10x\\_06\\_TTGTGCCTCGGTAACT-1 &  7416 &  941 & K562 & 8.911395 & 0.12688781\\\\\n",
       "\tMultiome10x\\_06\\_TTTAGCAAGGGTGGAT-1 & Multiome10x\\_06\\_TTTAGCAAGGGTGGAT-1 & 16830 & 2192 & K562 & 9.730918 & 0.13024361\\\\\n",
       "\tMultiome10x\\_06\\_TTTCCGGGTTAGTTGG-1 & Multiome10x\\_06\\_TTTCCGGGTTAGTTGG-1 &  3377 &  328 & K562 & 8.124743 & 0.09712763\\\\\n",
       "\tMultiome10x\\_06\\_TTTCTCACAATCTCTC-1 & Multiome10x\\_06\\_TTTCTCACAATCTCTC-1 &  3044 &   34 & K562 & 8.020928 & 0.01116951\\\\\n",
       "\tMultiome10x\\_06\\_TTTCTTGCAGTTTACG-1 & Multiome10x\\_06\\_TTTCTTGCAGTTTACG-1 &  5663 &  746 & K562 & 8.641709 & 0.13173230\\\\\n",
       "\\end{tabular}\n"
      ],
      "text/markdown": [
       "\n",
       "A data.frame: 333 × 6\n",
       "\n",
       "| <!--/--> | cell &lt;chr&gt; | nUMI &lt;dbl&gt; | nMito &lt;dbl&gt; | celltype &lt;chr&gt; | log.nUMI &lt;dbl&gt; | percent.mito &lt;dbl&gt; |\n",
       "|---|---|---|---|---|---|---|\n",
       "| Multiome10x_05_AAATGCCTCCAATTAG-1 | Multiome10x_05_AAATGCCTCCAATTAG-1 |  4022 |  739 | K562 | 8.299535 | 0.18373943 |\n",
       "| Multiome10x_05_AACTACTCACTATGGC-1 | Multiome10x_05_AACTACTCACTATGGC-1 |  9856 | 1270 | K562 | 9.195836 | 0.12885552 |\n",
       "| Multiome10x_05_AACTGTTCAGGCTTGT-1 | Multiome10x_05_AACTGTTCAGGCTTGT-1 |  4715 |  656 | K562 | 8.458504 | 0.13913043 |\n",
       "| Multiome10x_05_AAGCGTTTCCTGGTGA-1 | Multiome10x_05_AAGCGTTTCCTGGTGA-1 |  7466 |  929 | K562 | 8.918115 | 0.12443075 |\n",
       "| Multiome10x_05_AAGCTAGAGGTAAGCA-1 | Multiome10x_05_AAGCTAGAGGTAAGCA-1 |  6014 |  532 | K562 | 8.701845 | 0.08846026 |\n",
       "| Multiome10x_05_AATAACCGTCACCAAA-1 | Multiome10x_05_AATAACCGTCACCAAA-1 |  5772 |  823 | K562 | 8.660774 | 0.14258489 |\n",
       "| Multiome10x_05_AATAACCGTTGGCCGA-1 | Multiome10x_05_AATAACCGTTGGCCGA-1 |  6314 |  799 | K562 | 8.750525 | 0.12654419 |\n",
       "| Multiome10x_05_AATATCCCAACCTGGT-1 | Multiome10x_05_AATATCCCAACCTGGT-1 | 11613 | 1633 | K562 | 9.359880 | 0.14061827 |\n",
       "| Multiome10x_05_AATCCGTAGCTACTGG-1 | Multiome10x_05_AATCCGTAGCTACTGG-1 |  7714 | 1092 | K562 | 8.950792 | 0.14156080 |\n",
       "| Multiome10x_05_AATTACCCATAGCGGA-1 | Multiome10x_05_AATTACCCATAGCGGA-1 |  6445 |  823 | K562 | 8.771060 | 0.12769589 |\n",
       "| Multiome10x_05_AATTGCCAGCGGATAA-1 | Multiome10x_05_AATTGCCAGCGGATAA-1 |  6824 |  992 | K562 | 8.828201 | 0.14536928 |\n",
       "| Multiome10x_05_ACATTAGTCTACTAAG-1 | Multiome10x_05_ACATTAGTCTACTAAG-1 |  4018 |  848 | K562 | 8.298540 | 0.21105027 |\n",
       "| Multiome10x_05_ACCACACCAGGCATCT-1 | Multiome10x_05_ACCACACCAGGCATCT-1 |  7391 |  896 | K562 | 8.908018 | 0.12122852 |\n",
       "| Multiome10x_05_ACCGGTTCAACACCTA-1 | Multiome10x_05_ACCGGTTCAACACCTA-1 |  8680 | 1065 | K562 | 9.068777 | 0.12269585 |\n",
       "| Multiome10x_05_ACCTAAATCAAGTGAG-1 | Multiome10x_05_ACCTAAATCAAGTGAG-1 |  5579 |  583 | K562 | 8.626765 | 0.10449901 |\n",
       "| Multiome10x_05_ACCTGTTGTCTAACCT-1 | Multiome10x_05_ACCTGTTGTCTAACCT-1 |  7376 | 1029 | K562 | 8.905987 | 0.13950651 |\n",
       "| Multiome10x_05_ACGAGTAAGGGTCTAT-1 | Multiome10x_05_ACGAGTAAGGGTCTAT-1 |  6259 |  772 | K562 | 8.741776 | 0.12334239 |\n",
       "| Multiome10x_05_ACGCTTGAGTTGGATC-1 | Multiome10x_05_ACGCTTGAGTTGGATC-1 |  5743 |  743 | K562 | 8.655737 | 0.12937489 |\n",
       "| Multiome10x_05_ACGTACCCAGCATTAT-1 | Multiome10x_05_ACGTACCCAGCATTAT-1 |  8238 | 1029 | K562 | 9.016513 | 0.12490896 |\n",
       "| Multiome10x_05_ACGTCCAAGCATGTTA-1 | Multiome10x_05_ACGTCCAAGCATGTTA-1 |  9100 | 1177 | K562 | 9.116030 | 0.12934066 |\n",
       "| Multiome10x_05_ACTAAAGCATAAGTTC-1 | Multiome10x_05_ACTAAAGCATAAGTTC-1 |  9281 | 1391 | K562 | 9.135725 | 0.14987609 |\n",
       "| Multiome10x_05_ACTTAGGGTAACCACA-1 | Multiome10x_05_ACTTAGGGTAACCACA-1 |  6274 |  649 | K562 | 8.744169 | 0.10344278 |\n",
       "| Multiome10x_05_AGAAAGGCAGTTAGCC-1 | Multiome10x_05_AGAAAGGCAGTTAGCC-1 |  6434 |  624 | K562 | 8.769352 | 0.09698477 |\n",
       "| Multiome10x_05_AGACAATAGTTACCGG-1 | Multiome10x_05_AGACAATAGTTACCGG-1 |  7969 |  767 | K562 | 8.983314 | 0.09624796 |\n",
       "| Multiome10x_05_AGAGAGGAGCATTAGC-1 | Multiome10x_05_AGAGAGGAGCATTAGC-1 |  5569 |  469 | K562 | 8.624971 | 0.08421620 |\n",
       "| Multiome10x_05_AGCCTGGGTACGGTAC-1 | Multiome10x_05_AGCCTGGGTACGGTAC-1 |  7612 |  836 | K562 | 8.937481 | 0.10982659 |\n",
       "| Multiome10x_05_AGCGGATAGTAAGGGC-1 | Multiome10x_05_AGCGGATAGTAAGGGC-1 |  3129 |  618 | K562 | 8.048469 | 0.19750719 |\n",
       "| Multiome10x_05_AGCTACTAGTTATGTG-1 | Multiome10x_05_AGCTACTAGTTATGTG-1 |  7157 |  891 | K562 | 8.875846 | 0.12449350 |\n",
       "| Multiome10x_05_AGCTAGTTCAAGCCTG-1 | Multiome10x_05_AGCTAGTTCAAGCCTG-1 |  6466 |  808 | K562 | 8.774313 | 0.12496134 |\n",
       "| Multiome10x_05_AGGAAACGTCACAAAT-1 | Multiome10x_05_AGGAAACGTCACAAAT-1 |  6386 |  834 | K562 | 8.761863 | 0.13059818 |\n",
       "| ⋮ | ⋮ | ⋮ | ⋮ | ⋮ | ⋮ | ⋮ |\n",
       "| Multiome10x_06_TCAAGAACACTATGGC-1 | Multiome10x_06_TCAAGAACACTATGGC-1 | 10730 | 1295 | K562 | 9.280799 | 0.12068966 |\n",
       "| Multiome10x_06_TCAAGAACAGTAAGTA-1 | Multiome10x_06_TCAAGAACAGTAAGTA-1 |  6724 |  918 | K562 | 8.813438 | 0.13652588 |\n",
       "| Multiome10x_06_TCAAGAACATTGTTGG-1 | Multiome10x_06_TCAAGAACATTGTTGG-1 |  4472 |  705 | K562 | 8.405591 | 0.15764758 |\n",
       "| Multiome10x_06_TCAAGTATCGGGCCAT-1 | Multiome10x_06_TCAAGTATCGGGCCAT-1 |  4278 |  880 | K562 | 8.361241 | 0.20570360 |\n",
       "| Multiome10x_06_TCAGTAGGTATTGTGG-1 | Multiome10x_06_TCAGTAGGTATTGTGG-1 |  8104 |  928 | K562 | 9.000113 | 0.11451135 |\n",
       "| Multiome10x_06_TCCGCCATCTTAATGG-1 | Multiome10x_06_TCCGCCATCTTAATGG-1 |  8195 |  902 | K562 | 9.011279 | 0.11006711 |\n",
       "| Multiome10x_06_TCCTTCAAGGCGGATG-1 | Multiome10x_06_TCCTTCAAGGCGGATG-1 |  4999 |  625 | K562 | 8.516993 | 0.12502501 |\n",
       "| Multiome10x_06_TCGCCCATCTCACATT-1 | Multiome10x_06_TCGCCCATCTCACATT-1 |  6875 |  934 | K562 | 8.835647 | 0.13585455 |\n",
       "| Multiome10x_06_TCTAGCACAATTGAAG-1 | Multiome10x_06_TCTAGCACAATTGAAG-1 | 13179 | 1633 | K562 | 9.486380 | 0.12390925 |\n",
       "| Multiome10x_06_TGAGGGCCAGTTATGT-1 | Multiome10x_06_TGAGGGCCAGTTATGT-1 |  6005 |  753 | K562 | 8.700348 | 0.12539550 |\n",
       "| Multiome10x_06_TGATTCAAGTCACTCC-1 | Multiome10x_06_TGATTCAAGTCACTCC-1 |  6641 |  856 | K562 | 8.801018 | 0.12889625 |\n",
       "| Multiome10x_06_TGCATCCTCTTGGATA-1 | Multiome10x_06_TGCATCCTCTTGGATA-1 |  6217 |  712 | K562 | 8.735043 | 0.11452469 |\n",
       "| Multiome10x_06_TGCTCTCAGGCATGTT-1 | Multiome10x_06_TGCTCTCAGGCATGTT-1 |  6527 |  811 | K562 | 8.783703 | 0.12425310 |\n",
       "| Multiome10x_06_TGCTTAAAGGTGCGGA-1 | Multiome10x_06_TGCTTAAAGGTGCGGA-1 |  6855 |  826 | K562 | 8.832734 | 0.12049599 |\n",
       "| Multiome10x_06_TGCTTGTGTCGTTACT-1 | Multiome10x_06_TGCTTGTGTCGTTACT-1 |  4461 |  354 | K562 | 8.403128 | 0.07935440 |\n",
       "| Multiome10x_06_TGGATTCAGACTTACA-1 | Multiome10x_06_TGGATTCAGACTTACA-1 |  6306 | 1156 | K562 | 8.749257 | 0.18331748 |\n",
       "| Multiome10x_06_TGGATTCAGTTATGGC-1 | Multiome10x_06_TGGATTCAGTTATGGC-1 |  6283 | 1178 | K562 | 8.745603 | 0.18749005 |\n",
       "| Multiome10x_06_TGGTCCTTCTGGTCCT-1 | Multiome10x_06_TGGTCCTTCTGGTCCT-1 |  7428 | 1005 | K562 | 8.913012 | 0.13529887 |\n",
       "| Multiome10x_06_TGGTTAATCACGCCAA-1 | Multiome10x_06_TGGTTAATCACGCCAA-1 |  2400 |  253 | K562 | 7.783224 | 0.10541667 |\n",
       "| Multiome10x_06_TGGTTGAGTTGTCCAT-1 | Multiome10x_06_TGGTTGAGTTGTCCAT-1 |  6233 |  723 | K562 | 8.737613 | 0.11599551 |\n",
       "| Multiome10x_06_TTACCTGTCATAGACC-1 | Multiome10x_06_TTACCTGTCATAGACC-1 |  4864 |  553 | K562 | 8.489616 | 0.11369243 |\n",
       "| Multiome10x_06_TTAGGCTAGCGCAATT-1 | Multiome10x_06_TTAGGCTAGCGCAATT-1 |  8514 | 1195 | K562 | 9.049467 | 0.14035706 |\n",
       "| Multiome10x_06_TTCAACCGTTTGGCGG-1 | Multiome10x_06_TTCAACCGTTTGGCGG-1 |  6733 |  756 | K562 | 8.814776 | 0.11228279 |\n",
       "| Multiome10x_06_TTGCCCGTCTCCATAT-1 | Multiome10x_06_TTGCCCGTCTCCATAT-1 |  6294 |  727 | K562 | 8.747352 | 0.11550683 |\n",
       "| Multiome10x_06_TTGGATCAGTCTCACC-1 | Multiome10x_06_TTGGATCAGTCTCACC-1 |  7532 |  661 | K562 | 8.926916 | 0.08775890 |\n",
       "| Multiome10x_06_TTGTGCCTCGGTAACT-1 | Multiome10x_06_TTGTGCCTCGGTAACT-1 |  7416 |  941 | K562 | 8.911395 | 0.12688781 |\n",
       "| Multiome10x_06_TTTAGCAAGGGTGGAT-1 | Multiome10x_06_TTTAGCAAGGGTGGAT-1 | 16830 | 2192 | K562 | 9.730918 | 0.13024361 |\n",
       "| Multiome10x_06_TTTCCGGGTTAGTTGG-1 | Multiome10x_06_TTTCCGGGTTAGTTGG-1 |  3377 |  328 | K562 | 8.124743 | 0.09712763 |\n",
       "| Multiome10x_06_TTTCTCACAATCTCTC-1 | Multiome10x_06_TTTCTCACAATCTCTC-1 |  3044 |   34 | K562 | 8.020928 | 0.01116951 |\n",
       "| Multiome10x_06_TTTCTTGCAGTTTACG-1 | Multiome10x_06_TTTCTTGCAGTTTACG-1 |  5663 |  746 | K562 | 8.641709 | 0.13173230 |\n",
       "\n"
      ],
      "text/plain": [
       "                                  cell                              nUMI  nMito\n",
       "Multiome10x_05_AAATGCCTCCAATTAG-1 Multiome10x_05_AAATGCCTCCAATTAG-1  4022  739 \n",
       "Multiome10x_05_AACTACTCACTATGGC-1 Multiome10x_05_AACTACTCACTATGGC-1  9856 1270 \n",
       "Multiome10x_05_AACTGTTCAGGCTTGT-1 Multiome10x_05_AACTGTTCAGGCTTGT-1  4715  656 \n",
       "Multiome10x_05_AAGCGTTTCCTGGTGA-1 Multiome10x_05_AAGCGTTTCCTGGTGA-1  7466  929 \n",
       "Multiome10x_05_AAGCTAGAGGTAAGCA-1 Multiome10x_05_AAGCTAGAGGTAAGCA-1  6014  532 \n",
       "Multiome10x_05_AATAACCGTCACCAAA-1 Multiome10x_05_AATAACCGTCACCAAA-1  5772  823 \n",
       "Multiome10x_05_AATAACCGTTGGCCGA-1 Multiome10x_05_AATAACCGTTGGCCGA-1  6314  799 \n",
       "Multiome10x_05_AATATCCCAACCTGGT-1 Multiome10x_05_AATATCCCAACCTGGT-1 11613 1633 \n",
       "Multiome10x_05_AATCCGTAGCTACTGG-1 Multiome10x_05_AATCCGTAGCTACTGG-1  7714 1092 \n",
       "Multiome10x_05_AATTACCCATAGCGGA-1 Multiome10x_05_AATTACCCATAGCGGA-1  6445  823 \n",
       "Multiome10x_05_AATTGCCAGCGGATAA-1 Multiome10x_05_AATTGCCAGCGGATAA-1  6824  992 \n",
       "Multiome10x_05_ACATTAGTCTACTAAG-1 Multiome10x_05_ACATTAGTCTACTAAG-1  4018  848 \n",
       "Multiome10x_05_ACCACACCAGGCATCT-1 Multiome10x_05_ACCACACCAGGCATCT-1  7391  896 \n",
       "Multiome10x_05_ACCGGTTCAACACCTA-1 Multiome10x_05_ACCGGTTCAACACCTA-1  8680 1065 \n",
       "Multiome10x_05_ACCTAAATCAAGTGAG-1 Multiome10x_05_ACCTAAATCAAGTGAG-1  5579  583 \n",
       "Multiome10x_05_ACCTGTTGTCTAACCT-1 Multiome10x_05_ACCTGTTGTCTAACCT-1  7376 1029 \n",
       "Multiome10x_05_ACGAGTAAGGGTCTAT-1 Multiome10x_05_ACGAGTAAGGGTCTAT-1  6259  772 \n",
       "Multiome10x_05_ACGCTTGAGTTGGATC-1 Multiome10x_05_ACGCTTGAGTTGGATC-1  5743  743 \n",
       "Multiome10x_05_ACGTACCCAGCATTAT-1 Multiome10x_05_ACGTACCCAGCATTAT-1  8238 1029 \n",
       "Multiome10x_05_ACGTCCAAGCATGTTA-1 Multiome10x_05_ACGTCCAAGCATGTTA-1  9100 1177 \n",
       "Multiome10x_05_ACTAAAGCATAAGTTC-1 Multiome10x_05_ACTAAAGCATAAGTTC-1  9281 1391 \n",
       "Multiome10x_05_ACTTAGGGTAACCACA-1 Multiome10x_05_ACTTAGGGTAACCACA-1  6274  649 \n",
       "Multiome10x_05_AGAAAGGCAGTTAGCC-1 Multiome10x_05_AGAAAGGCAGTTAGCC-1  6434  624 \n",
       "Multiome10x_05_AGACAATAGTTACCGG-1 Multiome10x_05_AGACAATAGTTACCGG-1  7969  767 \n",
       "Multiome10x_05_AGAGAGGAGCATTAGC-1 Multiome10x_05_AGAGAGGAGCATTAGC-1  5569  469 \n",
       "Multiome10x_05_AGCCTGGGTACGGTAC-1 Multiome10x_05_AGCCTGGGTACGGTAC-1  7612  836 \n",
       "Multiome10x_05_AGCGGATAGTAAGGGC-1 Multiome10x_05_AGCGGATAGTAAGGGC-1  3129  618 \n",
       "Multiome10x_05_AGCTACTAGTTATGTG-1 Multiome10x_05_AGCTACTAGTTATGTG-1  7157  891 \n",
       "Multiome10x_05_AGCTAGTTCAAGCCTG-1 Multiome10x_05_AGCTAGTTCAAGCCTG-1  6466  808 \n",
       "Multiome10x_05_AGGAAACGTCACAAAT-1 Multiome10x_05_AGGAAACGTCACAAAT-1  6386  834 \n",
       "⋮                                 ⋮                                 ⋮     ⋮    \n",
       "Multiome10x_06_TCAAGAACACTATGGC-1 Multiome10x_06_TCAAGAACACTATGGC-1 10730 1295 \n",
       "Multiome10x_06_TCAAGAACAGTAAGTA-1 Multiome10x_06_TCAAGAACAGTAAGTA-1  6724  918 \n",
       "Multiome10x_06_TCAAGAACATTGTTGG-1 Multiome10x_06_TCAAGAACATTGTTGG-1  4472  705 \n",
       "Multiome10x_06_TCAAGTATCGGGCCAT-1 Multiome10x_06_TCAAGTATCGGGCCAT-1  4278  880 \n",
       "Multiome10x_06_TCAGTAGGTATTGTGG-1 Multiome10x_06_TCAGTAGGTATTGTGG-1  8104  928 \n",
       "Multiome10x_06_TCCGCCATCTTAATGG-1 Multiome10x_06_TCCGCCATCTTAATGG-1  8195  902 \n",
       "Multiome10x_06_TCCTTCAAGGCGGATG-1 Multiome10x_06_TCCTTCAAGGCGGATG-1  4999  625 \n",
       "Multiome10x_06_TCGCCCATCTCACATT-1 Multiome10x_06_TCGCCCATCTCACATT-1  6875  934 \n",
       "Multiome10x_06_TCTAGCACAATTGAAG-1 Multiome10x_06_TCTAGCACAATTGAAG-1 13179 1633 \n",
       "Multiome10x_06_TGAGGGCCAGTTATGT-1 Multiome10x_06_TGAGGGCCAGTTATGT-1  6005  753 \n",
       "Multiome10x_06_TGATTCAAGTCACTCC-1 Multiome10x_06_TGATTCAAGTCACTCC-1  6641  856 \n",
       "Multiome10x_06_TGCATCCTCTTGGATA-1 Multiome10x_06_TGCATCCTCTTGGATA-1  6217  712 \n",
       "Multiome10x_06_TGCTCTCAGGCATGTT-1 Multiome10x_06_TGCTCTCAGGCATGTT-1  6527  811 \n",
       "Multiome10x_06_TGCTTAAAGGTGCGGA-1 Multiome10x_06_TGCTTAAAGGTGCGGA-1  6855  826 \n",
       "Multiome10x_06_TGCTTGTGTCGTTACT-1 Multiome10x_06_TGCTTGTGTCGTTACT-1  4461  354 \n",
       "Multiome10x_06_TGGATTCAGACTTACA-1 Multiome10x_06_TGGATTCAGACTTACA-1  6306 1156 \n",
       "Multiome10x_06_TGGATTCAGTTATGGC-1 Multiome10x_06_TGGATTCAGTTATGGC-1  6283 1178 \n",
       "Multiome10x_06_TGGTCCTTCTGGTCCT-1 Multiome10x_06_TGGTCCTTCTGGTCCT-1  7428 1005 \n",
       "Multiome10x_06_TGGTTAATCACGCCAA-1 Multiome10x_06_TGGTTAATCACGCCAA-1  2400  253 \n",
       "Multiome10x_06_TGGTTGAGTTGTCCAT-1 Multiome10x_06_TGGTTGAGTTGTCCAT-1  6233  723 \n",
       "Multiome10x_06_TTACCTGTCATAGACC-1 Multiome10x_06_TTACCTGTCATAGACC-1  4864  553 \n",
       "Multiome10x_06_TTAGGCTAGCGCAATT-1 Multiome10x_06_TTAGGCTAGCGCAATT-1  8514 1195 \n",
       "Multiome10x_06_TTCAACCGTTTGGCGG-1 Multiome10x_06_TTCAACCGTTTGGCGG-1  6733  756 \n",
       "Multiome10x_06_TTGCCCGTCTCCATAT-1 Multiome10x_06_TTGCCCGTCTCCATAT-1  6294  727 \n",
       "Multiome10x_06_TTGGATCAGTCTCACC-1 Multiome10x_06_TTGGATCAGTCTCACC-1  7532  661 \n",
       "Multiome10x_06_TTGTGCCTCGGTAACT-1 Multiome10x_06_TTGTGCCTCGGTAACT-1  7416  941 \n",
       "Multiome10x_06_TTTAGCAAGGGTGGAT-1 Multiome10x_06_TTTAGCAAGGGTGGAT-1 16830 2192 \n",
       "Multiome10x_06_TTTCCGGGTTAGTTGG-1 Multiome10x_06_TTTCCGGGTTAGTTGG-1  3377  328 \n",
       "Multiome10x_06_TTTCTCACAATCTCTC-1 Multiome10x_06_TTTCTCACAATCTCTC-1  3044   34 \n",
       "Multiome10x_06_TTTCTTGCAGTTTACG-1 Multiome10x_06_TTTCTTGCAGTTTACG-1  5663  746 \n",
       "                                  celltype log.nUMI percent.mito\n",
       "Multiome10x_05_AAATGCCTCCAATTAG-1 K562     8.299535 0.18373943  \n",
       "Multiome10x_05_AACTACTCACTATGGC-1 K562     9.195836 0.12885552  \n",
       "Multiome10x_05_AACTGTTCAGGCTTGT-1 K562     8.458504 0.13913043  \n",
       "Multiome10x_05_AAGCGTTTCCTGGTGA-1 K562     8.918115 0.12443075  \n",
       "Multiome10x_05_AAGCTAGAGGTAAGCA-1 K562     8.701845 0.08846026  \n",
       "Multiome10x_05_AATAACCGTCACCAAA-1 K562     8.660774 0.14258489  \n",
       "Multiome10x_05_AATAACCGTTGGCCGA-1 K562     8.750525 0.12654419  \n",
       "Multiome10x_05_AATATCCCAACCTGGT-1 K562     9.359880 0.14061827  \n",
       "Multiome10x_05_AATCCGTAGCTACTGG-1 K562     8.950792 0.14156080  \n",
       "Multiome10x_05_AATTACCCATAGCGGA-1 K562     8.771060 0.12769589  \n",
       "Multiome10x_05_AATTGCCAGCGGATAA-1 K562     8.828201 0.14536928  \n",
       "Multiome10x_05_ACATTAGTCTACTAAG-1 K562     8.298540 0.21105027  \n",
       "Multiome10x_05_ACCACACCAGGCATCT-1 K562     8.908018 0.12122852  \n",
       "Multiome10x_05_ACCGGTTCAACACCTA-1 K562     9.068777 0.12269585  \n",
       "Multiome10x_05_ACCTAAATCAAGTGAG-1 K562     8.626765 0.10449901  \n",
       "Multiome10x_05_ACCTGTTGTCTAACCT-1 K562     8.905987 0.13950651  \n",
       "Multiome10x_05_ACGAGTAAGGGTCTAT-1 K562     8.741776 0.12334239  \n",
       "Multiome10x_05_ACGCTTGAGTTGGATC-1 K562     8.655737 0.12937489  \n",
       "Multiome10x_05_ACGTACCCAGCATTAT-1 K562     9.016513 0.12490896  \n",
       "Multiome10x_05_ACGTCCAAGCATGTTA-1 K562     9.116030 0.12934066  \n",
       "Multiome10x_05_ACTAAAGCATAAGTTC-1 K562     9.135725 0.14987609  \n",
       "Multiome10x_05_ACTTAGGGTAACCACA-1 K562     8.744169 0.10344278  \n",
       "Multiome10x_05_AGAAAGGCAGTTAGCC-1 K562     8.769352 0.09698477  \n",
       "Multiome10x_05_AGACAATAGTTACCGG-1 K562     8.983314 0.09624796  \n",
       "Multiome10x_05_AGAGAGGAGCATTAGC-1 K562     8.624971 0.08421620  \n",
       "Multiome10x_05_AGCCTGGGTACGGTAC-1 K562     8.937481 0.10982659  \n",
       "Multiome10x_05_AGCGGATAGTAAGGGC-1 K562     8.048469 0.19750719  \n",
       "Multiome10x_05_AGCTACTAGTTATGTG-1 K562     8.875846 0.12449350  \n",
       "Multiome10x_05_AGCTAGTTCAAGCCTG-1 K562     8.774313 0.12496134  \n",
       "Multiome10x_05_AGGAAACGTCACAAAT-1 K562     8.761863 0.13059818  \n",
       "⋮                                 ⋮        ⋮        ⋮           \n",
       "Multiome10x_06_TCAAGAACACTATGGC-1 K562     9.280799 0.12068966  \n",
       "Multiome10x_06_TCAAGAACAGTAAGTA-1 K562     8.813438 0.13652588  \n",
       "Multiome10x_06_TCAAGAACATTGTTGG-1 K562     8.405591 0.15764758  \n",
       "Multiome10x_06_TCAAGTATCGGGCCAT-1 K562     8.361241 0.20570360  \n",
       "Multiome10x_06_TCAGTAGGTATTGTGG-1 K562     9.000113 0.11451135  \n",
       "Multiome10x_06_TCCGCCATCTTAATGG-1 K562     9.011279 0.11006711  \n",
       "Multiome10x_06_TCCTTCAAGGCGGATG-1 K562     8.516993 0.12502501  \n",
       "Multiome10x_06_TCGCCCATCTCACATT-1 K562     8.835647 0.13585455  \n",
       "Multiome10x_06_TCTAGCACAATTGAAG-1 K562     9.486380 0.12390925  \n",
       "Multiome10x_06_TGAGGGCCAGTTATGT-1 K562     8.700348 0.12539550  \n",
       "Multiome10x_06_TGATTCAAGTCACTCC-1 K562     8.801018 0.12889625  \n",
       "Multiome10x_06_TGCATCCTCTTGGATA-1 K562     8.735043 0.11452469  \n",
       "Multiome10x_06_TGCTCTCAGGCATGTT-1 K562     8.783703 0.12425310  \n",
       "Multiome10x_06_TGCTTAAAGGTGCGGA-1 K562     8.832734 0.12049599  \n",
       "Multiome10x_06_TGCTTGTGTCGTTACT-1 K562     8.403128 0.07935440  \n",
       "Multiome10x_06_TGGATTCAGACTTACA-1 K562     8.749257 0.18331748  \n",
       "Multiome10x_06_TGGATTCAGTTATGGC-1 K562     8.745603 0.18749005  \n",
       "Multiome10x_06_TGGTCCTTCTGGTCCT-1 K562     8.913012 0.13529887  \n",
       "Multiome10x_06_TGGTTAATCACGCCAA-1 K562     7.783224 0.10541667  \n",
       "Multiome10x_06_TGGTTGAGTTGTCCAT-1 K562     8.737613 0.11599551  \n",
       "Multiome10x_06_TTACCTGTCATAGACC-1 K562     8.489616 0.11369243  \n",
       "Multiome10x_06_TTAGGCTAGCGCAATT-1 K562     9.049467 0.14035706  \n",
       "Multiome10x_06_TTCAACCGTTTGGCGG-1 K562     8.814776 0.11228279  \n",
       "Multiome10x_06_TTGCCCGTCTCCATAT-1 K562     8.747352 0.11550683  \n",
       "Multiome10x_06_TTGGATCAGTCTCACC-1 K562     8.926916 0.08775890  \n",
       "Multiome10x_06_TTGTGCCTCGGTAACT-1 K562     8.911395 0.12688781  \n",
       "Multiome10x_06_TTTAGCAAGGGTGGAT-1 K562     9.730918 0.13024361  \n",
       "Multiome10x_06_TTTCCGGGTTAGTTGG-1 K562     8.124743 0.09712763  \n",
       "Multiome10x_06_TTTCTCACAATCTCTC-1 K562     8.020928 0.01116951  \n",
       "Multiome10x_06_TTTCTTGCAGTTTACG-1 K562     8.641709 0.13173230  "
      ]
     },
     "metadata": {},
     "output_type": "display_data"
    }
   ],
   "source": [
    "meta.data = data.frame(cell = colnames(matrix.rna),\n",
    "                       nUMI = colSums(matrix.rna),\n",
    "                       nMito = colSums(matrix.rna[grep(\"MT-\",rownames(matrix.rna)),]),\n",
    "                       celltype = \"K562\")\n",
    "meta.data[,\"log.nUMI\"] = log(meta.data[,\"nUMI\"])\n",
    "meta.data[,\"percent.mito\"] = meta.data[,\"nMito\"] / meta.data[,\"nUMI\"]\n",
    "meta.data"
   ]
  },
  {
   "cell_type": "markdown",
   "id": "b823cb4a-3ce6-40b1-9a0d-d5d1e4aa3912",
   "metadata": {},
   "source": [
    "RUN SCENT prediction"
   ]
  },
  {
   "cell_type": "code",
   "execution_count": 12,
   "id": "f46765dc-9de5-4411-9288-40b59435f9fb",
   "metadata": {},
   "outputs": [],
   "source": [
    "SCENT_algorithm.modified = function (object, \n",
    "                                     # celltype, \n",
    "                                     # ncores, \n",
    "                                     # regr = \"poisson\", \n",
    "                                     # bin = TRUE) \n",
    "                                     regr = \"poisson\") {\n",
    "    res <- data.frame()\n",
    "    for (n in 1:nrow(object@peak.info)) {        \n",
    "        gene <- object@peak.info[n, 1]\n",
    "        this_peak <- object@peak.info[n, 2]\n",
    "        atac_target <- data.frame(cell = colnames(object@atac), \n",
    "            atac = object@atac[this_peak, ])\n",
    "        # if (bin) {\n",
    "        #     atac_target[atac_target$atac > 0, ]$atac <- 1\n",
    "        # }\n",
    "        mrna_target <- object@rna[gene, ]\n",
    "        df <- data.frame(cell = names(mrna_target), exprs = as.numeric(mrna_target))\n",
    "        df <- merge(df, atac_target, by = \"cell\")\n",
    "        df <- merge(df, object@meta.data, by = \"cell\")\n",
    "        # df2 <- df[df[[object@celltypes]] == celltype, ]\n",
    "        df2 <- df\n",
    "        nonzero_m <- length(df2$exprs[df2$exprs > 0])/length(df2$exprs)\n",
    "        nonzero_a <- length(df2$atac[df2$atac > 0])/length(df2$atac)\n",
    "        if (nonzero_m > 0.05 & nonzero_a > 0.05) {\n",
    "            res_var <- \"exprs\"\n",
    "            pred_var <- c(\"atac\", object@covariates)\n",
    "            formula <- as.formula(paste(res_var, paste(pred_var, \n",
    "                collapse = \"+\"), sep = \"~\"))\n",
    "            if (regr == \"poisson\") {\n",
    "                base = glm(formula, family = \"poisson\", data = df2)\n",
    "                coefs <- summary(base)$coefficients[\"atac\", ]\n",
    "                # assoc <- assoc_poisson\n",
    "                assoc <- SCENT::assoc_poisson\n",
    "            }\n",
    "            else if (regr == \"negbin\") {\n",
    "                base = glm.nb(formula, data = df2)\n",
    "                coefs <- summary(base)$coefficients[\"atac\", ]\n",
    "                # assoc <- assoc_negbin\n",
    "                assoc <- SCENT::assoc_negbin\n",
    "            }\n",
    "            bs = boot::boot(df2, assoc, R = 100, formula = formula, \n",
    "                stype = \"i\", parallel = \"no\", ncpus = 1)\n",
    "            # p0 = basic_p(bs$t0[1], bs$t[, 1])\n",
    "            p0 = SCENT::basic_p(bs$t0[1], bs$t[, 1])\n",
    "            # if (p0 < 0.1) {\n",
    "            #     bs = boot::boot(df2, assoc, R = 500, formula = formula, \n",
    "            #       stype = \"i\", \n",
    "            #       # parallel = \"multicore\", ncpus = ncores)\n",
    "            #       parallel = \"no\", ncpus = 1)\n",
    "            #     # p0 = basic_p(bs$t0[1], bs$t[, 1])\n",
    "            #     p0 = SCENT::basic_p(bs$t0[1], bs$t[, 1])\n",
    "            # }\n",
    "            # if (p0 < 0.05) {\n",
    "            #     bs = boot::boot(df2, assoc, R = 2500, formula = formula, \n",
    "            #       stype = \"i\", \n",
    "            #       # parallel = \"multicore\", ncpus = ncores)\n",
    "            #       parallel = \"no\", ncpus = 1)\n",
    "            #     # p0 = basic_p(bs$t0[1], bs$t[, 1])\n",
    "            #     p0 = SCENT::basic_p(bs$t0[1], bs$t[, 1])\n",
    "            # }\n",
    "            # if (p0 < 0.01) {\n",
    "            #     bs = boot::boot(df2, assoc, R = 25000, formula = formula, \n",
    "            #       stype = \"i\", \n",
    "            #       # parallel = \"multicore\", ncpus = ncores)\n",
    "            #       parallel = \"no\", ncpus = 1)\n",
    "            #     # p0 = basic_p(bs$t0[1], bs$t[, 1])\n",
    "            #     p0 = SCENT::basic_p(bs$t0[1], bs$t[, 1])\n",
    "            # }\n",
    "            # if (p0 < 0.001) {\n",
    "            #     bs = boot::boot(df2, assoc, R = 50000, formula = formula, \n",
    "            #       stype = \"i\", \n",
    "            #       # parallel = \"multicore\", ncpus = ncores)\n",
    "            #       parallel = \"no\", ncpus = 1)\n",
    "            #     # p0 = basic_p(bs$t0[1], bs$t[, 1])\n",
    "            #     p0 = SCENT::basic_p(bs$t0[1], bs$t[, 1])\n",
    "            # }\n",
    "            out <- data.frame(gene = gene, peak = this_peak, \n",
    "                beta = coefs[1], se = coefs[2], z = coefs[3], \n",
    "                p = coefs[4], boot_basic_p = p0)           \n",
    "            res <- rbind(res, out)\n",
    "        }\n",
    "    }\n",
    "    object@SCENT.result <- res\n",
    "    return(object)\n",
    "}"
   ]
  },
  {
   "cell_type": "code",
   "execution_count": 13,
   "id": "563771b9-b96a-44d5-a5fe-fa30a7b9851b",
   "metadata": {},
   "outputs": [],
   "source": [
    "dir.create(paste(dir.output,\"chr\",sep = \"/\"),recursive = T)"
   ]
  },
  {
   "cell_type": "code",
   "execution_count": 14,
   "id": "0d2266ce-b92d-40d2-9b78-f39bd33a5079",
   "metadata": {},
   "outputs": [],
   "source": [
    "chr.done = dir(paste(dir.output,\"chr\",sep = \"/\"))\n",
    "chr.run = as.character(unique(seqnames(pairs.E2G.filter2)))\n",
    "chr.run = chr.run[!chr.run %in% chr.done]"
   ]
  },
  {
   "cell_type": "code",
   "execution_count": 15,
   "id": "2d41238d-e833-4e0e-add5-bb56bb615c1a",
   "metadata": {},
   "outputs": [
    {
     "name": "stdout",
     "output_type": "stream",
     "text": [
      "[1] \"chr1\"\n"
     ]
    },
    {
     "name": "stderr",
     "output_type": "stream",
     "text": [
      "Warning message in split.default(x = seq_len(nrow(x)), f = f, drop = drop, ...):\n",
      "“data length is not a multiple of split variable”\n"
     ]
    },
    {
     "name": "stdout",
     "output_type": "stream",
     "text": [
      "[1] \"chr10\"\n"
     ]
    },
    {
     "name": "stderr",
     "output_type": "stream",
     "text": [
      "Warning message in split.default(x = seq_len(nrow(x)), f = f, drop = drop, ...):\n",
      "“data length is not a multiple of split variable”\n"
     ]
    },
    {
     "name": "stdout",
     "output_type": "stream",
     "text": [
      "[1] \"chr11\"\n"
     ]
    },
    {
     "name": "stderr",
     "output_type": "stream",
     "text": [
      "Warning message in split.default(x = seq_len(nrow(x)), f = f, drop = drop, ...):\n",
      "“data length is not a multiple of split variable”\n"
     ]
    },
    {
     "name": "stdout",
     "output_type": "stream",
     "text": [
      "[1] \"chr12\"\n"
     ]
    },
    {
     "name": "stderr",
     "output_type": "stream",
     "text": [
      "Warning message in split.default(x = seq_len(nrow(x)), f = f, drop = drop, ...):\n",
      "“data length is not a multiple of split variable”\n"
     ]
    },
    {
     "name": "stdout",
     "output_type": "stream",
     "text": [
      "[1] \"chr13\"\n"
     ]
    },
    {
     "name": "stderr",
     "output_type": "stream",
     "text": [
      "Warning message in split.default(x = seq_len(nrow(x)), f = f, drop = drop, ...):\n",
      "“data length is not a multiple of split variable”\n"
     ]
    },
    {
     "name": "stdout",
     "output_type": "stream",
     "text": [
      "[1] \"chr14\"\n"
     ]
    },
    {
     "name": "stderr",
     "output_type": "stream",
     "text": [
      "Warning message in split.default(x = seq_len(nrow(x)), f = f, drop = drop, ...):\n",
      "“data length is not a multiple of split variable”\n"
     ]
    },
    {
     "name": "stdout",
     "output_type": "stream",
     "text": [
      "[1] \"chr15\"\n"
     ]
    },
    {
     "name": "stderr",
     "output_type": "stream",
     "text": [
      "Warning message in split.default(x = seq_len(nrow(x)), f = f, drop = drop, ...):\n",
      "“data length is not a multiple of split variable”\n"
     ]
    },
    {
     "name": "stdout",
     "output_type": "stream",
     "text": [
      "[1] \"chr16\"\n"
     ]
    },
    {
     "name": "stderr",
     "output_type": "stream",
     "text": [
      "Warning message in split.default(x = seq_len(nrow(x)), f = f, drop = drop, ...):\n",
      "“data length is not a multiple of split variable”\n"
     ]
    },
    {
     "name": "stdout",
     "output_type": "stream",
     "text": [
      "[1] \"chr17\"\n"
     ]
    },
    {
     "name": "stderr",
     "output_type": "stream",
     "text": [
      "Warning message in split.default(x = seq_len(nrow(x)), f = f, drop = drop, ...):\n",
      "“data length is not a multiple of split variable”\n"
     ]
    },
    {
     "name": "stdout",
     "output_type": "stream",
     "text": [
      "[1] \"chr18\"\n"
     ]
    },
    {
     "name": "stderr",
     "output_type": "stream",
     "text": [
      "Warning message in split.default(x = seq_len(nrow(x)), f = f, drop = drop, ...):\n",
      "“data length is not a multiple of split variable”\n"
     ]
    },
    {
     "name": "stdout",
     "output_type": "stream",
     "text": [
      "[1] \"chr19\"\n"
     ]
    },
    {
     "name": "stderr",
     "output_type": "stream",
     "text": [
      "Warning message in split.default(x = seq_len(nrow(x)), f = f, drop = drop, ...):\n",
      "“data length is not a multiple of split variable”\n"
     ]
    },
    {
     "name": "stdout",
     "output_type": "stream",
     "text": [
      "[1] \"chr2\"\n"
     ]
    },
    {
     "name": "stderr",
     "output_type": "stream",
     "text": [
      "Warning message in split.default(x = seq_len(nrow(x)), f = f, drop = drop, ...):\n",
      "“data length is not a multiple of split variable”\n"
     ]
    },
    {
     "name": "stdout",
     "output_type": "stream",
     "text": [
      "[1] \"chr20\"\n"
     ]
    },
    {
     "name": "stderr",
     "output_type": "stream",
     "text": [
      "Warning message in split.default(x = seq_len(nrow(x)), f = f, drop = drop, ...):\n",
      "“data length is not a multiple of split variable”\n"
     ]
    },
    {
     "name": "stdout",
     "output_type": "stream",
     "text": [
      "[1] \"chr21\"\n"
     ]
    },
    {
     "name": "stderr",
     "output_type": "stream",
     "text": [
      "Warning message in split.default(x = seq_len(nrow(x)), f = f, drop = drop, ...):\n",
      "“data length is not a multiple of split variable”\n"
     ]
    },
    {
     "name": "stdout",
     "output_type": "stream",
     "text": [
      "[1] \"chr22\"\n",
      "[1] \"chr3\"\n"
     ]
    },
    {
     "name": "stderr",
     "output_type": "stream",
     "text": [
      "Warning message in split.default(x = seq_len(nrow(x)), f = f, drop = drop, ...):\n",
      "“data length is not a multiple of split variable”\n"
     ]
    },
    {
     "name": "stdout",
     "output_type": "stream",
     "text": [
      "[1] \"chr4\"\n"
     ]
    },
    {
     "name": "stderr",
     "output_type": "stream",
     "text": [
      "Warning message in split.default(x = seq_len(nrow(x)), f = f, drop = drop, ...):\n",
      "“data length is not a multiple of split variable”\n"
     ]
    },
    {
     "name": "stdout",
     "output_type": "stream",
     "text": [
      "[1] \"chr5\"\n"
     ]
    },
    {
     "name": "stderr",
     "output_type": "stream",
     "text": [
      "Warning message in split.default(x = seq_len(nrow(x)), f = f, drop = drop, ...):\n",
      "“data length is not a multiple of split variable”\n"
     ]
    },
    {
     "name": "stdout",
     "output_type": "stream",
     "text": [
      "[1] \"chr6\"\n"
     ]
    },
    {
     "name": "stderr",
     "output_type": "stream",
     "text": [
      "Warning message in split.default(x = seq_len(nrow(x)), f = f, drop = drop, ...):\n",
      "“data length is not a multiple of split variable”\n"
     ]
    },
    {
     "name": "stdout",
     "output_type": "stream",
     "text": [
      "[1] \"chr7\"\n"
     ]
    },
    {
     "name": "stderr",
     "output_type": "stream",
     "text": [
      "Warning message in split.default(x = seq_len(nrow(x)), f = f, drop = drop, ...):\n",
      "“data length is not a multiple of split variable”\n"
     ]
    },
    {
     "name": "stdout",
     "output_type": "stream",
     "text": [
      "[1] \"chr8\"\n"
     ]
    },
    {
     "name": "stderr",
     "output_type": "stream",
     "text": [
      "Warning message in split.default(x = seq_len(nrow(x)), f = f, drop = drop, ...):\n",
      "“data length is not a multiple of split variable”\n"
     ]
    },
    {
     "name": "stdout",
     "output_type": "stream",
     "text": [
      "[1] \"chr9\"\n"
     ]
    },
    {
     "name": "stderr",
     "output_type": "stream",
     "text": [
      "Warning message in split.default(x = seq_len(nrow(x)), f = f, drop = drop, ...):\n",
      "“data length is not a multiple of split variable”\n"
     ]
    },
    {
     "name": "stdout",
     "output_type": "stream",
     "text": [
      "[1] \"chrX\"\n"
     ]
    },
    {
     "name": "stderr",
     "output_type": "stream",
     "text": [
      "Warning message in split.default(x = seq_len(nrow(x)), f = f, drop = drop, ...):\n",
      "“data length is not a multiple of split variable”\n"
     ]
    }
   ],
   "source": [
    "for(chr.tmp in chr.run){\n",
    "  print(chr.tmp)\n",
    "  pairs.E2G.chr.res = pairs.E2G.filter2[seqnames(pairs.E2G.filter2) == chr.tmp]\n",
    "  gene_peak.chr = as.data.frame(mcols(pairs.E2G.chr.res)[,c(\"TargetGene\",\"PeakName\")])\n",
    "  list.gene_peak.chr <- split(gene_peak.chr, seq_len(n.cores))\n",
    "  \n",
    "  list.obj.SCENT.chr <- lapply(list.gene_peak.chr, function(gene_peak.tmp) {\n",
    "    obj.SCENT.tmp <- CreateSCENTObj(\n",
    "      rna = matrix.rna[rownames(matrix.rna) %in% gene_peak.tmp$TargetGene,],\n",
    "      atac = matrix.atac[rownames(matrix.atac) %in% gene_peak.tmp$PeakName,], \n",
    "      meta.data = meta.data,\n",
    "      peak.info = gene_peak.tmp,\n",
    "      covariates = c(\"log.nUMI\",\"percent.mito\"), \n",
    "      celltypes = \"celltype\"\n",
    "    )\n",
    "  })\n",
    "  \n",
    "  cl <- makeCluster(n.cores)\n",
    "  clusterExport(cl, varlist=c(\"SCENT_algorithm.modified\"))\n",
    "  list.SCENT.result.chr <- parLapply(cl, list.obj.SCENT.chr, function(obj.SCENT.tmp) {\n",
    "    obj.SCENT.tmp <- SCENT_algorithm.modified(object = obj.SCENT.tmp)\n",
    "    return(obj.SCENT.tmp@SCENT.result)\n",
    "  })\n",
    "  stopCluster(cl)\n",
    "  \n",
    "  \n",
    "  df.SCENT.result.chr = do.call(rbind,list.SCENT.result.chr)\n",
    "  rownames(df.SCENT.result.chr) = paste(df.SCENT.result.chr$peak,\n",
    "                                        df.SCENT.result.chr$gene,\n",
    "                                        sep = \"_\")\n",
    "\n",
    "  pairs.E2G.chr.res = pairs.E2G.chr.res[pairs.E2G.chr.res$PairName %in% rownames(df.SCENT.result.chr)]\n",
    "  mcols(pairs.E2G.chr.res)[,c(\"beta\",\"se\",\"z\",\"p\",\"boot_basic_p\")] = \n",
    "    df.SCENT.result.chr[pairs.E2G.chr.res$PairName,c(\"beta\",\"se\",\"z\",\"p\",\"boot_basic_p\")]\n",
    "  pairs.E2G.chr.res$boot_basic_p.log10 = -log10(pairs.E2G.chr.res$boot_basic_p)\n",
    "  pairs.E2G.chr.res$sign = 1\n",
    "  pairs.E2G.chr.res$sign[pairs.E2G.chr.res$beta < 0] = -1\n",
    "  pairs.E2G.chr.res$boot_basic_p.log10.signed = pairs.E2G.chr.res$boot_basic_p.log10 * pairs.E2G.chr.res$sign\n",
    "  saveRDS(pairs.E2G.chr.res,\n",
    "          paste(dir.output,\"chr\",chr.tmp,sep = \"/\"))\n",
    "  rm (pairs.E2G.chr.res)\n",
    "}"
   ]
  },
  {
   "cell_type": "markdown",
   "id": "da9d1451-54e0-49e0-ae8b-cd0158115820",
   "metadata": {},
   "source": [
    "Merge results"
   ]
  },
  {
   "cell_type": "code",
   "execution_count": 16,
   "id": "6b4278f1-7d9d-402f-95c6-f274a6befea3",
   "metadata": {},
   "outputs": [],
   "source": [
    "chr.merge = as.character(unique(seqnames(pairs.E2G.filter2)))\n",
    "list.res = list()\n",
    "for(chr.tmp in chr.merge){\n",
    "    list.res[[chr.tmp]] = readRDS(paste(dir.output,\"chr\",chr.tmp,sep = \"/\"))\n",
    "}\n",
    "pairs.E2G.res = unlist(as(list.res, \"GRangesList\"))"
   ]
  },
  {
   "cell_type": "markdown",
   "id": "6ef1617e-3e2f-44f1-9245-007d569ca84d",
   "metadata": {},
   "source": [
    "Save results"
   ]
  },
  {
   "cell_type": "code",
   "execution_count": 17,
   "id": "48824f05-aedd-476c-88d6-ae58d1833fc9",
   "metadata": {},
   "outputs": [
    {
     "data": {
      "text/plain": [
       "GRanges object with 816811 ranges and 11 metadata columns:\n",
       "       seqnames              ranges strand |  TargetGene               PeakName\n",
       "          <Rle>           <IRanges>  <Rle> | <character>            <character>\n",
       "  chr1     chr1 100037721-100039177      * |         AGL chr1-100037721-10003..\n",
       "  chr1     chr1 100037721-100039177      * |      CDC14A chr1-100037721-10003..\n",
       "  chr1     chr1 100037721-100039177      * |         DBT chr1-100037721-10003..\n",
       "  chr1     chr1 100037721-100039177      * |        DPH5 chr1-100037721-10003..\n",
       "  chr1     chr1 100037721-100039177      * |        RTCA chr1-100037721-10003..\n",
       "   ...      ...                 ...    ... .         ...                    ...\n",
       "  chrX     chrX     9981502-9981856      * |        WWC3   chrX-9981502-9981856\n",
       "  chrX     chrX     9986716-9987289      * |       TBL1X   chrX-9986716-9987289\n",
       "  chrX     chrX     9986716-9987289      * |        WWC3   chrX-9986716-9987289\n",
       "  chrX     chrX     9995795-9996120      * |       TBL1X   chrX-9995795-9996120\n",
       "  chrX     chrX     9995795-9996120      * |        WWC3   chrX-9995795-9996120\n",
       "                     PairName       beta        se         z         p\n",
       "                  <character>  <numeric> <numeric> <numeric> <numeric>\n",
       "  chr1 chr1-100037721-10003.. -0.0739309  0.391138 -0.189015 0.8500813\n",
       "  chr1 chr1-100037721-10003..  0.2744281  0.151209  1.814892 0.0695405\n",
       "  chr1 chr1-100037721-10003..  0.4898037  0.536410  0.913114 0.3611824\n",
       "  chr1 chr1-100037721-10003.. -0.0886867  0.439206 -0.201925 0.8399754\n",
       "  chr1 chr1-100037721-10003.. -0.2603619  0.323604 -0.804570 0.4210677\n",
       "   ...                    ...        ...       ...       ...       ...\n",
       "  chrX chrX-9981502-9981856.. -0.3509891  0.596172 -0.588738  0.556037\n",
       "  chrX chrX-9986716-9987289.. -0.0189629  0.143931 -0.131749  0.895183\n",
       "  chrX chrX-9986716-9987289.. -0.0984316  0.430940 -0.228411  0.819327\n",
       "  chrX chrX-9995795-9996120..  0.1547865  0.145063  1.067031  0.285958\n",
       "  chrX chrX-9995795-9996120.. -0.7013872  0.598093 -1.172705  0.240914\n",
       "       boot_basic_p boot_basic_p.log10      sign boot_basic_p.log10.signed\n",
       "          <numeric>          <numeric> <numeric>                 <numeric>\n",
       "  chr1         0.72          0.1426675        -1                -0.1426675\n",
       "  chr1         0.08          1.0969100         1                 1.0969100\n",
       "  chr1         0.48          0.3187588         1                 0.3187588\n",
       "  chr1         0.88          0.0555173        -1                -0.0555173\n",
       "  chr1         0.42          0.3767507        -1                -0.3767507\n",
       "   ...          ...                ...       ...                       ...\n",
       "  chrX         0.82          0.0861861        -1                -0.0861861\n",
       "  chrX         0.94          0.0268721        -1                -0.0268721\n",
       "  chrX         0.86          0.0655015        -1                -0.0655015\n",
       "  chrX         0.34          0.4685211         1                 0.4685211\n",
       "  chrX         0.50          0.3010300        -1                -0.3010300\n",
       "  -------\n",
       "  seqinfo: 23 sequences from an unspecified genome; no seqlengths"
      ]
     },
     "metadata": {},
     "output_type": "display_data"
    }
   ],
   "source": [
    "saveRDS(pairs.E2G.res,\n",
    "        paste(dir.output,\"pairs.E2G.res.rds\",sep = \"/\"))\n",
    "pairs.E2G.res"
   ]
  },
  {
   "cell_type": "code",
   "execution_count": 18,
   "id": "2297128a-9ed6-42b8-90c7-459969fb5afd",
   "metadata": {},
   "outputs": [
    {
     "data": {
      "text/html": [
       "<table class=\"dataframe\">\n",
       "<caption>A data.frame: 816811 × 13</caption>\n",
       "<thead>\n",
       "\t<tr><th scope=col>chr</th><th scope=col>start</th><th scope=col>end</th><th scope=col>TargetGene</th><th scope=col>CellType</th><th scope=col>beta</th><th scope=col>se</th><th scope=col>z</th><th scope=col>p</th><th scope=col>boot_basic_p</th><th scope=col>boot_basic_p.log10</th><th scope=col>sign</th><th scope=col>boot_basic_p.log10.signed</th></tr>\n",
       "\t<tr><th scope=col>&lt;fct&gt;</th><th scope=col>&lt;int&gt;</th><th scope=col>&lt;int&gt;</th><th scope=col>&lt;chr&gt;</th><th scope=col>&lt;chr&gt;</th><th scope=col>&lt;dbl&gt;</th><th scope=col>&lt;dbl&gt;</th><th scope=col>&lt;dbl&gt;</th><th scope=col>&lt;dbl&gt;</th><th scope=col>&lt;dbl&gt;</th><th scope=col>&lt;dbl&gt;</th><th scope=col>&lt;dbl&gt;</th><th scope=col>&lt;dbl&gt;</th></tr>\n",
       "</thead>\n",
       "<tbody>\n",
       "\t<tr><td>chr1</td><td>100037721</td><td>100039177</td><td>AGL     </td><td>K562</td><td>-0.073930851</td><td>0.3911381</td><td>-0.18901469</td><td>0.85008130</td><td>0.72</td><td>0.14266750</td><td>-1</td><td>-0.14266750</td></tr>\n",
       "\t<tr><td>chr1</td><td>100037721</td><td>100039177</td><td>CDC14A  </td><td>K562</td><td> 0.274428075</td><td>0.1512090</td><td> 1.81489203</td><td>0.06954050</td><td>0.08</td><td>1.09691001</td><td> 1</td><td> 1.09691001</td></tr>\n",
       "\t<tr><td>chr1</td><td>100037721</td><td>100039177</td><td>DBT     </td><td>K562</td><td> 0.489803738</td><td>0.5364101</td><td> 0.91311429</td><td>0.36118244</td><td>0.48</td><td>0.31875876</td><td> 1</td><td> 0.31875876</td></tr>\n",
       "\t<tr><td>chr1</td><td>100037721</td><td>100039177</td><td>DPH5    </td><td>K562</td><td>-0.088686731</td><td>0.4392065</td><td>-0.20192493</td><td>0.83997542</td><td>0.88</td><td>0.05551733</td><td>-1</td><td>-0.05551733</td></tr>\n",
       "\t<tr><td>chr1</td><td>100037721</td><td>100039177</td><td>RTCA    </td><td>K562</td><td>-0.260361914</td><td>0.3236037</td><td>-0.80457034</td><td>0.42106766</td><td>0.42</td><td>0.37675071</td><td>-1</td><td>-0.37675071</td></tr>\n",
       "\t<tr><td>chr1</td><td>100037721</td><td>100039177</td><td>SLC30A7 </td><td>K562</td><td> 0.314301315</td><td>0.2532028</td><td> 1.24130256</td><td>0.21449400</td><td>0.42</td><td>0.37675071</td><td> 1</td><td> 0.37675071</td></tr>\n",
       "\t<tr><td>chr1</td><td>100037721</td><td>100039177</td><td>SLC35A3 </td><td>K562</td><td> 0.581886572</td><td>0.3938316</td><td> 1.47750112</td><td>0.13954136</td><td>0.08</td><td>1.09691001</td><td> 1</td><td> 1.09691001</td></tr>\n",
       "\t<tr><td>chr1</td><td>100037721</td><td>100039177</td><td>TRMT13  </td><td>K562</td><td> 0.160718677</td><td>0.3009745</td><td> 0.53399430</td><td>0.59334548</td><td>0.68</td><td>0.16749109</td><td> 1</td><td> 0.16749109</td></tr>\n",
       "\t<tr><td>chr1</td><td>100046482</td><td>100047184</td><td>AGL     </td><td>K562</td><td>-0.059847783</td><td>0.5173138</td><td>-0.11568951</td><td>0.90789862</td><td>0.84</td><td>0.07572071</td><td>-1</td><td>-0.07572071</td></tr>\n",
       "\t<tr><td>chr1</td><td>100046482</td><td>100047184</td><td>CDC14A  </td><td>K562</td><td>-0.208819737</td><td>0.2009240</td><td>-1.03929694</td><td>0.29866666</td><td>0.40</td><td>0.39794001</td><td>-1</td><td>-0.39794001</td></tr>\n",
       "\t<tr><td>chr1</td><td>100046482</td><td>100047184</td><td>DBT     </td><td>K562</td><td>-0.327890568</td><td>0.7698527</td><td>-0.42591339</td><td>0.67017096</td><td>0.70</td><td>0.15490196</td><td>-1</td><td>-0.15490196</td></tr>\n",
       "\t<tr><td>chr1</td><td>100046482</td><td>100047184</td><td>DPH5    </td><td>K562</td><td>-0.819071644</td><td>0.7673455</td><td>-1.06740918</td><td>0.28578711</td><td>0.72</td><td>0.14266750</td><td>-1</td><td>-0.14266750</td></tr>\n",
       "\t<tr><td>chr1</td><td>100046482</td><td>100047184</td><td>RTCA    </td><td>K562</td><td> 0.803594046</td><td>0.3543857</td><td> 2.26756903</td><td>0.02335549</td><td>0.02</td><td>1.69897000</td><td> 1</td><td> 1.69897000</td></tr>\n",
       "\t<tr><td>chr1</td><td>100046482</td><td>100047184</td><td>SLC30A7 </td><td>K562</td><td>-0.183100903</td><td>0.3391500</td><td>-0.53988174</td><td>0.58927859</td><td>0.72</td><td>0.14266750</td><td>-1</td><td>-0.14266750</td></tr>\n",
       "\t<tr><td>chr1</td><td>100046482</td><td>100047184</td><td>SLC35A3 </td><td>K562</td><td> 0.229018591</td><td>0.4911687</td><td> 0.46627274</td><td>0.64102029</td><td>0.60</td><td>0.22184875</td><td> 1</td><td> 0.22184875</td></tr>\n",
       "\t<tr><td>chr1</td><td>100046482</td><td>100047184</td><td>TRMT13  </td><td>K562</td><td> 0.473286415</td><td>0.3739595</td><td> 1.26560865</td><td>0.20565323</td><td>0.24</td><td>0.61978876</td><td> 1</td><td> 0.61978876</td></tr>\n",
       "\t<tr><td>chr1</td><td>100132479</td><td>100133449</td><td>AGL     </td><td>K562</td><td>-0.630172283</td><td>0.3727884</td><td>-1.69042877</td><td>0.09094595</td><td>0.12</td><td>0.92081875</td><td>-1</td><td>-0.92081875</td></tr>\n",
       "\t<tr><td>chr1</td><td>100132479</td><td>100133449</td><td>CDC14A  </td><td>K562</td><td> 0.044497290</td><td>0.1356456</td><td> 0.32804084</td><td>0.74288078</td><td>0.94</td><td>0.02687215</td><td> 1</td><td> 0.02687215</td></tr>\n",
       "\t<tr><td>chr1</td><td>100132479</td><td>100133449</td><td>DBT     </td><td>K562</td><td> 0.109891510</td><td>0.4744863</td><td> 0.23160102</td><td>0.81684792</td><td>0.82</td><td>0.08618615</td><td> 1</td><td> 0.08618615</td></tr>\n",
       "\t<tr><td>chr1</td><td>100132479</td><td>100133449</td><td>DPH5    </td><td>K562</td><td>-0.832189764</td><td>0.4313580</td><td>-1.92923215</td><td>0.05370205</td><td>0.02</td><td>1.69897000</td><td>-1</td><td>-1.69897000</td></tr>\n",
       "\t<tr><td>chr1</td><td>100132479</td><td>100133449</td><td>RTCA    </td><td>K562</td><td>-0.061728673</td><td>0.3161269</td><td>-0.19526551</td><td>0.84518509</td><td>0.80</td><td>0.09691001</td><td>-1</td><td>-0.09691001</td></tr>\n",
       "\t<tr><td>chr1</td><td>100132479</td><td>100133449</td><td>SLC30A7 </td><td>K562</td><td> 0.107358490</td><td>0.2270240</td><td> 0.47289488</td><td>0.63628818</td><td>0.76</td><td>0.11918641</td><td> 1</td><td> 0.11918641</td></tr>\n",
       "\t<tr><td>chr1</td><td>100132479</td><td>100133449</td><td>SLC35A3 </td><td>K562</td><td>-0.114603532</td><td>0.3393188</td><td>-0.33774591</td><td>0.73555467</td><td>0.70</td><td>0.15490196</td><td>-1</td><td>-0.15490196</td></tr>\n",
       "\t<tr><td>chr1</td><td>100132479</td><td>100133449</td><td>TRMT13  </td><td>K562</td><td>-0.004672276</td><td>0.2834918</td><td>-0.01648117</td><td>0.98685052</td><td>0.94</td><td>0.02687215</td><td>-1</td><td>-0.02687215</td></tr>\n",
       "\t<tr><td>chr1</td><td>  1001849</td><td>  1002126</td><td>ACAP3   </td><td>K562</td><td>-0.074656636</td><td>0.3402454</td><td>-0.21941998</td><td>0.82632291</td><td>0.88</td><td>0.05551733</td><td>-1</td><td>-0.05551733</td></tr>\n",
       "\t<tr><td>chr1</td><td>  1001849</td><td>  1002126</td><td>ATAD3A  </td><td>K562</td><td>-0.323585232</td><td>0.4753274</td><td>-0.68076279</td><td>0.49602160</td><td>0.68</td><td>0.16749109</td><td>-1</td><td>-0.16749109</td></tr>\n",
       "\t<tr><td>chr1</td><td>  1001849</td><td>  1002126</td><td>ATAD3B  </td><td>K562</td><td> 0.151918622</td><td>0.4102021</td><td> 0.37035063</td><td>0.71112125</td><td>0.58</td><td>0.23657201</td><td> 1</td><td> 0.23657201</td></tr>\n",
       "\t<tr><td>chr1</td><td>  1001849</td><td>  1002126</td><td>AURKAIP1</td><td>K562</td><td> 0.286270193</td><td>0.1694212</td><td> 1.68969493</td><td>0.09108633</td><td>0.14</td><td>0.85387196</td><td> 1</td><td> 0.85387196</td></tr>\n",
       "\t<tr><td>chr1</td><td>  1001849</td><td>  1002126</td><td>B3GALT6 </td><td>K562</td><td> 0.238684589</td><td>0.3835643</td><td> 0.62228044</td><td>0.53375748</td><td>0.62</td><td>0.20760831</td><td> 1</td><td> 0.20760831</td></tr>\n",
       "\t<tr><td>chr1</td><td>  1001849</td><td>  1002126</td><td>C1orf159</td><td>K562</td><td> 0.215841530</td><td>0.4427297</td><td> 0.48752444</td><td>0.62588673</td><td>0.70</td><td>0.15490196</td><td> 1</td><td> 0.15490196</td></tr>\n",
       "\t<tr><td>⋮</td><td>⋮</td><td>⋮</td><td>⋮</td><td>⋮</td><td>⋮</td><td>⋮</td><td>⋮</td><td>⋮</td><td>⋮</td><td>⋮</td><td>⋮</td><td>⋮</td></tr>\n",
       "\t<tr><td>chrX</td><td> 9465874</td><td> 9466224</td><td>TBL1X    </td><td>K562</td><td> 0.28915470</td><td>0.14065098</td><td> 2.0558315</td><td>3.979876e-02</td><td>0.10</td><td>1.00000000</td><td> 1</td><td> 1.00000000</td></tr>\n",
       "\t<tr><td>chrX</td><td> 9465874</td><td> 9466224</td><td>WWC3     </td><td>K562</td><td>-0.78042893</td><td>0.61031802</td><td>-1.2787250</td><td>2.009939e-01</td><td>0.50</td><td>0.30103000</td><td>-1</td><td>-0.30103000</td></tr>\n",
       "\t<tr><td>chrX</td><td> 9466246</td><td> 9466443</td><td>TBL1X    </td><td>K562</td><td>-0.19420744</td><td>0.20334218</td><td>-0.9550770</td><td>3.395387e-01</td><td>0.60</td><td>0.22184875</td><td>-1</td><td>-0.22184875</td></tr>\n",
       "\t<tr><td>chrX</td><td> 9466246</td><td> 9466443</td><td>WWC3     </td><td>K562</td><td> 0.86672662</td><td>0.40335879</td><td> 2.1487733</td><td>3.165237e-02</td><td>0.06</td><td>1.22184875</td><td> 1</td><td> 1.22184875</td></tr>\n",
       "\t<tr><td>chrX</td><td>96425180</td><td>96425584</td><td>DIAPH2   </td><td>K562</td><td> 0.02455700</td><td>0.14537826</td><td> 0.1689179</td><td>8.658612e-01</td><td>0.80</td><td>0.09691001</td><td> 1</td><td> 0.09691001</td></tr>\n",
       "\t<tr><td>chrX</td><td>96684465</td><td>96685296</td><td>DIAPH2   </td><td>K562</td><td> 0.30529311</td><td>0.08207902</td><td> 3.7195024</td><td>1.996157e-04</td><td>0.02</td><td>1.69897000</td><td> 1</td><td> 1.69897000</td></tr>\n",
       "\t<tr><td>chrX</td><td>96685331</td><td>96685571</td><td>DIAPH2   </td><td>K562</td><td> 0.51541010</td><td>0.12867121</td><td> 4.0056364</td><td>6.185073e-05</td><td>0.02</td><td>1.69897000</td><td> 1</td><td> 1.69897000</td></tr>\n",
       "\t<tr><td>chrX</td><td>96685746</td><td>96686144</td><td>DIAPH2   </td><td>K562</td><td> 0.35272072</td><td>0.10507699</td><td> 3.3567835</td><td>7.885483e-04</td><td>0.08</td><td>1.09691001</td><td> 1</td><td> 1.09691001</td></tr>\n",
       "\t<tr><td>chrX</td><td>96722728</td><td>96723140</td><td>DIAPH2   </td><td>K562</td><td> 0.61643439</td><td>0.12399305</td><td> 4.9715236</td><td>6.642878e-07</td><td>0.02</td><td>1.69897000</td><td> 1</td><td> 1.69897000</td></tr>\n",
       "\t<tr><td>chrX</td><td> 9677146</td><td> 9677827</td><td>TBL1X    </td><td>K562</td><td>-0.12346647</td><td>0.11337107</td><td>-1.0890474</td><td>2.761330e-01</td><td>0.38</td><td>0.42021640</td><td>-1</td><td>-0.42021640</td></tr>\n",
       "\t<tr><td>chrX</td><td> 9677146</td><td> 9677827</td><td>WWC3     </td><td>K562</td><td> 0.08028208</td><td>0.31841077</td><td> 0.2521337</td><td>8.009377e-01</td><td>0.84</td><td>0.07572071</td><td> 1</td><td> 0.07572071</td></tr>\n",
       "\t<tr><td>chrX</td><td> 9708968</td><td> 9709477</td><td>TBL1X    </td><td>K562</td><td>-0.25757408</td><td>0.17343541</td><td>-1.4851297</td><td>1.375095e-01</td><td>0.36</td><td>0.44369750</td><td>-1</td><td>-0.44369750</td></tr>\n",
       "\t<tr><td>chrX</td><td> 9708968</td><td> 9709477</td><td>WWC3     </td><td>K562</td><td>-0.63835904</td><td>0.59951311</td><td>-1.0647958</td><td>2.869683e-01</td><td>0.44</td><td>0.35654732</td><td>-1</td><td>-0.35654732</td></tr>\n",
       "\t<tr><td>chrX</td><td>97563441</td><td>97563992</td><td>DIAPH2   </td><td>K562</td><td> 0.12013509</td><td>0.10464024</td><td> 1.1480774</td><td>2.509366e-01</td><td>0.38</td><td>0.42021640</td><td> 1</td><td> 0.42021640</td></tr>\n",
       "\t<tr><td>chrX</td><td>97564404</td><td>97564921</td><td>DIAPH2   </td><td>K562</td><td> 0.17854094</td><td>0.14619046</td><td> 1.2212900</td><td>2.219763e-01</td><td>0.20</td><td>0.69897000</td><td> 1</td><td> 0.69897000</td></tr>\n",
       "\t<tr><td>chrX</td><td>  989856</td><td>  990571</td><td>AKAP17A  </td><td>K562</td><td>-0.36652644</td><td>0.21470546</td><td>-1.7071129</td><td>8.780108e-02</td><td>0.08</td><td>1.09691001</td><td>-1</td><td>-1.09691001</td></tr>\n",
       "\t<tr><td>chrX</td><td>  989856</td><td>  990571</td><td>ASMTL    </td><td>K562</td><td>-0.68327662</td><td>0.33141001</td><td>-2.0617259</td><td>3.923383e-02</td><td>0.12</td><td>0.92081875</td><td>-1</td><td>-0.92081875</td></tr>\n",
       "\t<tr><td>chrX</td><td>  989856</td><td>  990571</td><td>CSF2RA   </td><td>K562</td><td>-0.19462084</td><td>0.11326034</td><td>-1.7183494</td><td>8.573290e-02</td><td>0.28</td><td>0.55284197</td><td>-1</td><td>-0.55284197</td></tr>\n",
       "\t<tr><td>chrX</td><td>  989856</td><td>  990571</td><td>GTPBP6   </td><td>K562</td><td> 0.17029688</td><td>0.27316909</td><td> 0.6234120</td><td>5.330138e-01</td><td>0.46</td><td>0.33724217</td><td> 1</td><td> 0.33724217</td></tr>\n",
       "\t<tr><td>chrX</td><td>  989856</td><td>  990571</td><td>IL3RA    </td><td>K562</td><td> 0.13843430</td><td>0.20146060</td><td> 0.6871532</td><td>4.919862e-01</td><td>0.46</td><td>0.33724217</td><td> 1</td><td> 0.33724217</td></tr>\n",
       "\t<tr><td>chrX</td><td>  989856</td><td>  990571</td><td>LINC00106</td><td>K562</td><td> 0.69864644</td><td>0.43269584</td><td> 1.6146364</td><td>1.063895e-01</td><td>0.04</td><td>1.39794001</td><td> 1</td><td> 1.39794001</td></tr>\n",
       "\t<tr><td>chrX</td><td>  989856</td><td>  990571</td><td>P2RY8    </td><td>K562</td><td>-0.18361762</td><td>0.15221914</td><td>-1.2062716</td><td>2.277128e-01</td><td>0.38</td><td>0.42021640</td><td>-1</td><td>-0.42021640</td></tr>\n",
       "\t<tr><td>chrX</td><td>  989856</td><td>  990571</td><td>PLCXD1   </td><td>K562</td><td> 0.30121949</td><td>0.38768175</td><td> 0.7769762</td><td>4.371728e-01</td><td>0.46</td><td>0.33724217</td><td> 1</td><td> 0.33724217</td></tr>\n",
       "\t<tr><td>chrX</td><td>  989856</td><td>  990571</td><td>SLC25A6  </td><td>K562</td><td>-0.13440353</td><td>0.07395645</td><td>-1.8173336</td><td>6.916606e-02</td><td>0.06</td><td>1.22184875</td><td>-1</td><td>-1.22184875</td></tr>\n",
       "\t<tr><td>chrX</td><td> 9981502</td><td> 9981856</td><td>TBL1X    </td><td>K562</td><td> 0.22390301</td><td>0.15775176</td><td> 1.4193376</td><td>1.558006e-01</td><td>0.22</td><td>0.65757732</td><td> 1</td><td> 0.65757732</td></tr>\n",
       "\t<tr><td>chrX</td><td> 9981502</td><td> 9981856</td><td>WWC3     </td><td>K562</td><td>-0.35098914</td><td>0.59617211</td><td>-0.5887379</td><td>5.560371e-01</td><td>0.82</td><td>0.08618615</td><td>-1</td><td>-0.08618615</td></tr>\n",
       "\t<tr><td>chrX</td><td> 9986716</td><td> 9987289</td><td>TBL1X    </td><td>K562</td><td>-0.01896287</td><td>0.14393142</td><td>-0.1317494</td><td>8.951825e-01</td><td>0.94</td><td>0.02687215</td><td>-1</td><td>-0.02687215</td></tr>\n",
       "\t<tr><td>chrX</td><td> 9986716</td><td> 9987289</td><td>WWC3     </td><td>K562</td><td>-0.09843157</td><td>0.43094003</td><td>-0.2284113</td><td>8.193265e-01</td><td>0.86</td><td>0.06550155</td><td>-1</td><td>-0.06550155</td></tr>\n",
       "\t<tr><td>chrX</td><td> 9995795</td><td> 9996120</td><td>TBL1X    </td><td>K562</td><td> 0.15478654</td><td>0.14506289</td><td> 1.0670306</td><td>2.859580e-01</td><td>0.34</td><td>0.46852108</td><td> 1</td><td> 0.46852108</td></tr>\n",
       "\t<tr><td>chrX</td><td> 9995795</td><td> 9996120</td><td>WWC3     </td><td>K562</td><td>-0.70138720</td><td>0.59809327</td><td>-1.1727054</td><td>2.409140e-01</td><td>0.50</td><td>0.30103000</td><td>-1</td><td>-0.30103000</td></tr>\n",
       "</tbody>\n",
       "</table>\n"
      ],
      "text/latex": [
       "A data.frame: 816811 × 13\n",
       "\\begin{tabular}{lllllllllllll}\n",
       " chr & start & end & TargetGene & CellType & beta & se & z & p & boot\\_basic\\_p & boot\\_basic\\_p.log10 & sign & boot\\_basic\\_p.log10.signed\\\\\n",
       " <fct> & <int> & <int> & <chr> & <chr> & <dbl> & <dbl> & <dbl> & <dbl> & <dbl> & <dbl> & <dbl> & <dbl>\\\\\n",
       "\\hline\n",
       "\t chr1 & 100037721 & 100039177 & AGL      & K562 & -0.073930851 & 0.3911381 & -0.18901469 & 0.85008130 & 0.72 & 0.14266750 & -1 & -0.14266750\\\\\n",
       "\t chr1 & 100037721 & 100039177 & CDC14A   & K562 &  0.274428075 & 0.1512090 &  1.81489203 & 0.06954050 & 0.08 & 1.09691001 &  1 &  1.09691001\\\\\n",
       "\t chr1 & 100037721 & 100039177 & DBT      & K562 &  0.489803738 & 0.5364101 &  0.91311429 & 0.36118244 & 0.48 & 0.31875876 &  1 &  0.31875876\\\\\n",
       "\t chr1 & 100037721 & 100039177 & DPH5     & K562 & -0.088686731 & 0.4392065 & -0.20192493 & 0.83997542 & 0.88 & 0.05551733 & -1 & -0.05551733\\\\\n",
       "\t chr1 & 100037721 & 100039177 & RTCA     & K562 & -0.260361914 & 0.3236037 & -0.80457034 & 0.42106766 & 0.42 & 0.37675071 & -1 & -0.37675071\\\\\n",
       "\t chr1 & 100037721 & 100039177 & SLC30A7  & K562 &  0.314301315 & 0.2532028 &  1.24130256 & 0.21449400 & 0.42 & 0.37675071 &  1 &  0.37675071\\\\\n",
       "\t chr1 & 100037721 & 100039177 & SLC35A3  & K562 &  0.581886572 & 0.3938316 &  1.47750112 & 0.13954136 & 0.08 & 1.09691001 &  1 &  1.09691001\\\\\n",
       "\t chr1 & 100037721 & 100039177 & TRMT13   & K562 &  0.160718677 & 0.3009745 &  0.53399430 & 0.59334548 & 0.68 & 0.16749109 &  1 &  0.16749109\\\\\n",
       "\t chr1 & 100046482 & 100047184 & AGL      & K562 & -0.059847783 & 0.5173138 & -0.11568951 & 0.90789862 & 0.84 & 0.07572071 & -1 & -0.07572071\\\\\n",
       "\t chr1 & 100046482 & 100047184 & CDC14A   & K562 & -0.208819737 & 0.2009240 & -1.03929694 & 0.29866666 & 0.40 & 0.39794001 & -1 & -0.39794001\\\\\n",
       "\t chr1 & 100046482 & 100047184 & DBT      & K562 & -0.327890568 & 0.7698527 & -0.42591339 & 0.67017096 & 0.70 & 0.15490196 & -1 & -0.15490196\\\\\n",
       "\t chr1 & 100046482 & 100047184 & DPH5     & K562 & -0.819071644 & 0.7673455 & -1.06740918 & 0.28578711 & 0.72 & 0.14266750 & -1 & -0.14266750\\\\\n",
       "\t chr1 & 100046482 & 100047184 & RTCA     & K562 &  0.803594046 & 0.3543857 &  2.26756903 & 0.02335549 & 0.02 & 1.69897000 &  1 &  1.69897000\\\\\n",
       "\t chr1 & 100046482 & 100047184 & SLC30A7  & K562 & -0.183100903 & 0.3391500 & -0.53988174 & 0.58927859 & 0.72 & 0.14266750 & -1 & -0.14266750\\\\\n",
       "\t chr1 & 100046482 & 100047184 & SLC35A3  & K562 &  0.229018591 & 0.4911687 &  0.46627274 & 0.64102029 & 0.60 & 0.22184875 &  1 &  0.22184875\\\\\n",
       "\t chr1 & 100046482 & 100047184 & TRMT13   & K562 &  0.473286415 & 0.3739595 &  1.26560865 & 0.20565323 & 0.24 & 0.61978876 &  1 &  0.61978876\\\\\n",
       "\t chr1 & 100132479 & 100133449 & AGL      & K562 & -0.630172283 & 0.3727884 & -1.69042877 & 0.09094595 & 0.12 & 0.92081875 & -1 & -0.92081875\\\\\n",
       "\t chr1 & 100132479 & 100133449 & CDC14A   & K562 &  0.044497290 & 0.1356456 &  0.32804084 & 0.74288078 & 0.94 & 0.02687215 &  1 &  0.02687215\\\\\n",
       "\t chr1 & 100132479 & 100133449 & DBT      & K562 &  0.109891510 & 0.4744863 &  0.23160102 & 0.81684792 & 0.82 & 0.08618615 &  1 &  0.08618615\\\\\n",
       "\t chr1 & 100132479 & 100133449 & DPH5     & K562 & -0.832189764 & 0.4313580 & -1.92923215 & 0.05370205 & 0.02 & 1.69897000 & -1 & -1.69897000\\\\\n",
       "\t chr1 & 100132479 & 100133449 & RTCA     & K562 & -0.061728673 & 0.3161269 & -0.19526551 & 0.84518509 & 0.80 & 0.09691001 & -1 & -0.09691001\\\\\n",
       "\t chr1 & 100132479 & 100133449 & SLC30A7  & K562 &  0.107358490 & 0.2270240 &  0.47289488 & 0.63628818 & 0.76 & 0.11918641 &  1 &  0.11918641\\\\\n",
       "\t chr1 & 100132479 & 100133449 & SLC35A3  & K562 & -0.114603532 & 0.3393188 & -0.33774591 & 0.73555467 & 0.70 & 0.15490196 & -1 & -0.15490196\\\\\n",
       "\t chr1 & 100132479 & 100133449 & TRMT13   & K562 & -0.004672276 & 0.2834918 & -0.01648117 & 0.98685052 & 0.94 & 0.02687215 & -1 & -0.02687215\\\\\n",
       "\t chr1 &   1001849 &   1002126 & ACAP3    & K562 & -0.074656636 & 0.3402454 & -0.21941998 & 0.82632291 & 0.88 & 0.05551733 & -1 & -0.05551733\\\\\n",
       "\t chr1 &   1001849 &   1002126 & ATAD3A   & K562 & -0.323585232 & 0.4753274 & -0.68076279 & 0.49602160 & 0.68 & 0.16749109 & -1 & -0.16749109\\\\\n",
       "\t chr1 &   1001849 &   1002126 & ATAD3B   & K562 &  0.151918622 & 0.4102021 &  0.37035063 & 0.71112125 & 0.58 & 0.23657201 &  1 &  0.23657201\\\\\n",
       "\t chr1 &   1001849 &   1002126 & AURKAIP1 & K562 &  0.286270193 & 0.1694212 &  1.68969493 & 0.09108633 & 0.14 & 0.85387196 &  1 &  0.85387196\\\\\n",
       "\t chr1 &   1001849 &   1002126 & B3GALT6  & K562 &  0.238684589 & 0.3835643 &  0.62228044 & 0.53375748 & 0.62 & 0.20760831 &  1 &  0.20760831\\\\\n",
       "\t chr1 &   1001849 &   1002126 & C1orf159 & K562 &  0.215841530 & 0.4427297 &  0.48752444 & 0.62588673 & 0.70 & 0.15490196 &  1 &  0.15490196\\\\\n",
       "\t ⋮ & ⋮ & ⋮ & ⋮ & ⋮ & ⋮ & ⋮ & ⋮ & ⋮ & ⋮ & ⋮ & ⋮ & ⋮\\\\\n",
       "\t chrX &  9465874 &  9466224 & TBL1X     & K562 &  0.28915470 & 0.14065098 &  2.0558315 & 3.979876e-02 & 0.10 & 1.00000000 &  1 &  1.00000000\\\\\n",
       "\t chrX &  9465874 &  9466224 & WWC3      & K562 & -0.78042893 & 0.61031802 & -1.2787250 & 2.009939e-01 & 0.50 & 0.30103000 & -1 & -0.30103000\\\\\n",
       "\t chrX &  9466246 &  9466443 & TBL1X     & K562 & -0.19420744 & 0.20334218 & -0.9550770 & 3.395387e-01 & 0.60 & 0.22184875 & -1 & -0.22184875\\\\\n",
       "\t chrX &  9466246 &  9466443 & WWC3      & K562 &  0.86672662 & 0.40335879 &  2.1487733 & 3.165237e-02 & 0.06 & 1.22184875 &  1 &  1.22184875\\\\\n",
       "\t chrX & 96425180 & 96425584 & DIAPH2    & K562 &  0.02455700 & 0.14537826 &  0.1689179 & 8.658612e-01 & 0.80 & 0.09691001 &  1 &  0.09691001\\\\\n",
       "\t chrX & 96684465 & 96685296 & DIAPH2    & K562 &  0.30529311 & 0.08207902 &  3.7195024 & 1.996157e-04 & 0.02 & 1.69897000 &  1 &  1.69897000\\\\\n",
       "\t chrX & 96685331 & 96685571 & DIAPH2    & K562 &  0.51541010 & 0.12867121 &  4.0056364 & 6.185073e-05 & 0.02 & 1.69897000 &  1 &  1.69897000\\\\\n",
       "\t chrX & 96685746 & 96686144 & DIAPH2    & K562 &  0.35272072 & 0.10507699 &  3.3567835 & 7.885483e-04 & 0.08 & 1.09691001 &  1 &  1.09691001\\\\\n",
       "\t chrX & 96722728 & 96723140 & DIAPH2    & K562 &  0.61643439 & 0.12399305 &  4.9715236 & 6.642878e-07 & 0.02 & 1.69897000 &  1 &  1.69897000\\\\\n",
       "\t chrX &  9677146 &  9677827 & TBL1X     & K562 & -0.12346647 & 0.11337107 & -1.0890474 & 2.761330e-01 & 0.38 & 0.42021640 & -1 & -0.42021640\\\\\n",
       "\t chrX &  9677146 &  9677827 & WWC3      & K562 &  0.08028208 & 0.31841077 &  0.2521337 & 8.009377e-01 & 0.84 & 0.07572071 &  1 &  0.07572071\\\\\n",
       "\t chrX &  9708968 &  9709477 & TBL1X     & K562 & -0.25757408 & 0.17343541 & -1.4851297 & 1.375095e-01 & 0.36 & 0.44369750 & -1 & -0.44369750\\\\\n",
       "\t chrX &  9708968 &  9709477 & WWC3      & K562 & -0.63835904 & 0.59951311 & -1.0647958 & 2.869683e-01 & 0.44 & 0.35654732 & -1 & -0.35654732\\\\\n",
       "\t chrX & 97563441 & 97563992 & DIAPH2    & K562 &  0.12013509 & 0.10464024 &  1.1480774 & 2.509366e-01 & 0.38 & 0.42021640 &  1 &  0.42021640\\\\\n",
       "\t chrX & 97564404 & 97564921 & DIAPH2    & K562 &  0.17854094 & 0.14619046 &  1.2212900 & 2.219763e-01 & 0.20 & 0.69897000 &  1 &  0.69897000\\\\\n",
       "\t chrX &   989856 &   990571 & AKAP17A   & K562 & -0.36652644 & 0.21470546 & -1.7071129 & 8.780108e-02 & 0.08 & 1.09691001 & -1 & -1.09691001\\\\\n",
       "\t chrX &   989856 &   990571 & ASMTL     & K562 & -0.68327662 & 0.33141001 & -2.0617259 & 3.923383e-02 & 0.12 & 0.92081875 & -1 & -0.92081875\\\\\n",
       "\t chrX &   989856 &   990571 & CSF2RA    & K562 & -0.19462084 & 0.11326034 & -1.7183494 & 8.573290e-02 & 0.28 & 0.55284197 & -1 & -0.55284197\\\\\n",
       "\t chrX &   989856 &   990571 & GTPBP6    & K562 &  0.17029688 & 0.27316909 &  0.6234120 & 5.330138e-01 & 0.46 & 0.33724217 &  1 &  0.33724217\\\\\n",
       "\t chrX &   989856 &   990571 & IL3RA     & K562 &  0.13843430 & 0.20146060 &  0.6871532 & 4.919862e-01 & 0.46 & 0.33724217 &  1 &  0.33724217\\\\\n",
       "\t chrX &   989856 &   990571 & LINC00106 & K562 &  0.69864644 & 0.43269584 &  1.6146364 & 1.063895e-01 & 0.04 & 1.39794001 &  1 &  1.39794001\\\\\n",
       "\t chrX &   989856 &   990571 & P2RY8     & K562 & -0.18361762 & 0.15221914 & -1.2062716 & 2.277128e-01 & 0.38 & 0.42021640 & -1 & -0.42021640\\\\\n",
       "\t chrX &   989856 &   990571 & PLCXD1    & K562 &  0.30121949 & 0.38768175 &  0.7769762 & 4.371728e-01 & 0.46 & 0.33724217 &  1 &  0.33724217\\\\\n",
       "\t chrX &   989856 &   990571 & SLC25A6   & K562 & -0.13440353 & 0.07395645 & -1.8173336 & 6.916606e-02 & 0.06 & 1.22184875 & -1 & -1.22184875\\\\\n",
       "\t chrX &  9981502 &  9981856 & TBL1X     & K562 &  0.22390301 & 0.15775176 &  1.4193376 & 1.558006e-01 & 0.22 & 0.65757732 &  1 &  0.65757732\\\\\n",
       "\t chrX &  9981502 &  9981856 & WWC3      & K562 & -0.35098914 & 0.59617211 & -0.5887379 & 5.560371e-01 & 0.82 & 0.08618615 & -1 & -0.08618615\\\\\n",
       "\t chrX &  9986716 &  9987289 & TBL1X     & K562 & -0.01896287 & 0.14393142 & -0.1317494 & 8.951825e-01 & 0.94 & 0.02687215 & -1 & -0.02687215\\\\\n",
       "\t chrX &  9986716 &  9987289 & WWC3      & K562 & -0.09843157 & 0.43094003 & -0.2284113 & 8.193265e-01 & 0.86 & 0.06550155 & -1 & -0.06550155\\\\\n",
       "\t chrX &  9995795 &  9996120 & TBL1X     & K562 &  0.15478654 & 0.14506289 &  1.0670306 & 2.859580e-01 & 0.34 & 0.46852108 &  1 &  0.46852108\\\\\n",
       "\t chrX &  9995795 &  9996120 & WWC3      & K562 & -0.70138720 & 0.59809327 & -1.1727054 & 2.409140e-01 & 0.50 & 0.30103000 & -1 & -0.30103000\\\\\n",
       "\\end{tabular}\n"
      ],
      "text/markdown": [
       "\n",
       "A data.frame: 816811 × 13\n",
       "\n",
       "| chr &lt;fct&gt; | start &lt;int&gt; | end &lt;int&gt; | TargetGene &lt;chr&gt; | CellType &lt;chr&gt; | beta &lt;dbl&gt; | se &lt;dbl&gt; | z &lt;dbl&gt; | p &lt;dbl&gt; | boot_basic_p &lt;dbl&gt; | boot_basic_p.log10 &lt;dbl&gt; | sign &lt;dbl&gt; | boot_basic_p.log10.signed &lt;dbl&gt; |\n",
       "|---|---|---|---|---|---|---|---|---|---|---|---|---|\n",
       "| chr1 | 100037721 | 100039177 | AGL      | K562 | -0.073930851 | 0.3911381 | -0.18901469 | 0.85008130 | 0.72 | 0.14266750 | -1 | -0.14266750 |\n",
       "| chr1 | 100037721 | 100039177 | CDC14A   | K562 |  0.274428075 | 0.1512090 |  1.81489203 | 0.06954050 | 0.08 | 1.09691001 |  1 |  1.09691001 |\n",
       "| chr1 | 100037721 | 100039177 | DBT      | K562 |  0.489803738 | 0.5364101 |  0.91311429 | 0.36118244 | 0.48 | 0.31875876 |  1 |  0.31875876 |\n",
       "| chr1 | 100037721 | 100039177 | DPH5     | K562 | -0.088686731 | 0.4392065 | -0.20192493 | 0.83997542 | 0.88 | 0.05551733 | -1 | -0.05551733 |\n",
       "| chr1 | 100037721 | 100039177 | RTCA     | K562 | -0.260361914 | 0.3236037 | -0.80457034 | 0.42106766 | 0.42 | 0.37675071 | -1 | -0.37675071 |\n",
       "| chr1 | 100037721 | 100039177 | SLC30A7  | K562 |  0.314301315 | 0.2532028 |  1.24130256 | 0.21449400 | 0.42 | 0.37675071 |  1 |  0.37675071 |\n",
       "| chr1 | 100037721 | 100039177 | SLC35A3  | K562 |  0.581886572 | 0.3938316 |  1.47750112 | 0.13954136 | 0.08 | 1.09691001 |  1 |  1.09691001 |\n",
       "| chr1 | 100037721 | 100039177 | TRMT13   | K562 |  0.160718677 | 0.3009745 |  0.53399430 | 0.59334548 | 0.68 | 0.16749109 |  1 |  0.16749109 |\n",
       "| chr1 | 100046482 | 100047184 | AGL      | K562 | -0.059847783 | 0.5173138 | -0.11568951 | 0.90789862 | 0.84 | 0.07572071 | -1 | -0.07572071 |\n",
       "| chr1 | 100046482 | 100047184 | CDC14A   | K562 | -0.208819737 | 0.2009240 | -1.03929694 | 0.29866666 | 0.40 | 0.39794001 | -1 | -0.39794001 |\n",
       "| chr1 | 100046482 | 100047184 | DBT      | K562 | -0.327890568 | 0.7698527 | -0.42591339 | 0.67017096 | 0.70 | 0.15490196 | -1 | -0.15490196 |\n",
       "| chr1 | 100046482 | 100047184 | DPH5     | K562 | -0.819071644 | 0.7673455 | -1.06740918 | 0.28578711 | 0.72 | 0.14266750 | -1 | -0.14266750 |\n",
       "| chr1 | 100046482 | 100047184 | RTCA     | K562 |  0.803594046 | 0.3543857 |  2.26756903 | 0.02335549 | 0.02 | 1.69897000 |  1 |  1.69897000 |\n",
       "| chr1 | 100046482 | 100047184 | SLC30A7  | K562 | -0.183100903 | 0.3391500 | -0.53988174 | 0.58927859 | 0.72 | 0.14266750 | -1 | -0.14266750 |\n",
       "| chr1 | 100046482 | 100047184 | SLC35A3  | K562 |  0.229018591 | 0.4911687 |  0.46627274 | 0.64102029 | 0.60 | 0.22184875 |  1 |  0.22184875 |\n",
       "| chr1 | 100046482 | 100047184 | TRMT13   | K562 |  0.473286415 | 0.3739595 |  1.26560865 | 0.20565323 | 0.24 | 0.61978876 |  1 |  0.61978876 |\n",
       "| chr1 | 100132479 | 100133449 | AGL      | K562 | -0.630172283 | 0.3727884 | -1.69042877 | 0.09094595 | 0.12 | 0.92081875 | -1 | -0.92081875 |\n",
       "| chr1 | 100132479 | 100133449 | CDC14A   | K562 |  0.044497290 | 0.1356456 |  0.32804084 | 0.74288078 | 0.94 | 0.02687215 |  1 |  0.02687215 |\n",
       "| chr1 | 100132479 | 100133449 | DBT      | K562 |  0.109891510 | 0.4744863 |  0.23160102 | 0.81684792 | 0.82 | 0.08618615 |  1 |  0.08618615 |\n",
       "| chr1 | 100132479 | 100133449 | DPH5     | K562 | -0.832189764 | 0.4313580 | -1.92923215 | 0.05370205 | 0.02 | 1.69897000 | -1 | -1.69897000 |\n",
       "| chr1 | 100132479 | 100133449 | RTCA     | K562 | -0.061728673 | 0.3161269 | -0.19526551 | 0.84518509 | 0.80 | 0.09691001 | -1 | -0.09691001 |\n",
       "| chr1 | 100132479 | 100133449 | SLC30A7  | K562 |  0.107358490 | 0.2270240 |  0.47289488 | 0.63628818 | 0.76 | 0.11918641 |  1 |  0.11918641 |\n",
       "| chr1 | 100132479 | 100133449 | SLC35A3  | K562 | -0.114603532 | 0.3393188 | -0.33774591 | 0.73555467 | 0.70 | 0.15490196 | -1 | -0.15490196 |\n",
       "| chr1 | 100132479 | 100133449 | TRMT13   | K562 | -0.004672276 | 0.2834918 | -0.01648117 | 0.98685052 | 0.94 | 0.02687215 | -1 | -0.02687215 |\n",
       "| chr1 |   1001849 |   1002126 | ACAP3    | K562 | -0.074656636 | 0.3402454 | -0.21941998 | 0.82632291 | 0.88 | 0.05551733 | -1 | -0.05551733 |\n",
       "| chr1 |   1001849 |   1002126 | ATAD3A   | K562 | -0.323585232 | 0.4753274 | -0.68076279 | 0.49602160 | 0.68 | 0.16749109 | -1 | -0.16749109 |\n",
       "| chr1 |   1001849 |   1002126 | ATAD3B   | K562 |  0.151918622 | 0.4102021 |  0.37035063 | 0.71112125 | 0.58 | 0.23657201 |  1 |  0.23657201 |\n",
       "| chr1 |   1001849 |   1002126 | AURKAIP1 | K562 |  0.286270193 | 0.1694212 |  1.68969493 | 0.09108633 | 0.14 | 0.85387196 |  1 |  0.85387196 |\n",
       "| chr1 |   1001849 |   1002126 | B3GALT6  | K562 |  0.238684589 | 0.3835643 |  0.62228044 | 0.53375748 | 0.62 | 0.20760831 |  1 |  0.20760831 |\n",
       "| chr1 |   1001849 |   1002126 | C1orf159 | K562 |  0.215841530 | 0.4427297 |  0.48752444 | 0.62588673 | 0.70 | 0.15490196 |  1 |  0.15490196 |\n",
       "| ⋮ | ⋮ | ⋮ | ⋮ | ⋮ | ⋮ | ⋮ | ⋮ | ⋮ | ⋮ | ⋮ | ⋮ | ⋮ |\n",
       "| chrX |  9465874 |  9466224 | TBL1X     | K562 |  0.28915470 | 0.14065098 |  2.0558315 | 3.979876e-02 | 0.10 | 1.00000000 |  1 |  1.00000000 |\n",
       "| chrX |  9465874 |  9466224 | WWC3      | K562 | -0.78042893 | 0.61031802 | -1.2787250 | 2.009939e-01 | 0.50 | 0.30103000 | -1 | -0.30103000 |\n",
       "| chrX |  9466246 |  9466443 | TBL1X     | K562 | -0.19420744 | 0.20334218 | -0.9550770 | 3.395387e-01 | 0.60 | 0.22184875 | -1 | -0.22184875 |\n",
       "| chrX |  9466246 |  9466443 | WWC3      | K562 |  0.86672662 | 0.40335879 |  2.1487733 | 3.165237e-02 | 0.06 | 1.22184875 |  1 |  1.22184875 |\n",
       "| chrX | 96425180 | 96425584 | DIAPH2    | K562 |  0.02455700 | 0.14537826 |  0.1689179 | 8.658612e-01 | 0.80 | 0.09691001 |  1 |  0.09691001 |\n",
       "| chrX | 96684465 | 96685296 | DIAPH2    | K562 |  0.30529311 | 0.08207902 |  3.7195024 | 1.996157e-04 | 0.02 | 1.69897000 |  1 |  1.69897000 |\n",
       "| chrX | 96685331 | 96685571 | DIAPH2    | K562 |  0.51541010 | 0.12867121 |  4.0056364 | 6.185073e-05 | 0.02 | 1.69897000 |  1 |  1.69897000 |\n",
       "| chrX | 96685746 | 96686144 | DIAPH2    | K562 |  0.35272072 | 0.10507699 |  3.3567835 | 7.885483e-04 | 0.08 | 1.09691001 |  1 |  1.09691001 |\n",
       "| chrX | 96722728 | 96723140 | DIAPH2    | K562 |  0.61643439 | 0.12399305 |  4.9715236 | 6.642878e-07 | 0.02 | 1.69897000 |  1 |  1.69897000 |\n",
       "| chrX |  9677146 |  9677827 | TBL1X     | K562 | -0.12346647 | 0.11337107 | -1.0890474 | 2.761330e-01 | 0.38 | 0.42021640 | -1 | -0.42021640 |\n",
       "| chrX |  9677146 |  9677827 | WWC3      | K562 |  0.08028208 | 0.31841077 |  0.2521337 | 8.009377e-01 | 0.84 | 0.07572071 |  1 |  0.07572071 |\n",
       "| chrX |  9708968 |  9709477 | TBL1X     | K562 | -0.25757408 | 0.17343541 | -1.4851297 | 1.375095e-01 | 0.36 | 0.44369750 | -1 | -0.44369750 |\n",
       "| chrX |  9708968 |  9709477 | WWC3      | K562 | -0.63835904 | 0.59951311 | -1.0647958 | 2.869683e-01 | 0.44 | 0.35654732 | -1 | -0.35654732 |\n",
       "| chrX | 97563441 | 97563992 | DIAPH2    | K562 |  0.12013509 | 0.10464024 |  1.1480774 | 2.509366e-01 | 0.38 | 0.42021640 |  1 |  0.42021640 |\n",
       "| chrX | 97564404 | 97564921 | DIAPH2    | K562 |  0.17854094 | 0.14619046 |  1.2212900 | 2.219763e-01 | 0.20 | 0.69897000 |  1 |  0.69897000 |\n",
       "| chrX |   989856 |   990571 | AKAP17A   | K562 | -0.36652644 | 0.21470546 | -1.7071129 | 8.780108e-02 | 0.08 | 1.09691001 | -1 | -1.09691001 |\n",
       "| chrX |   989856 |   990571 | ASMTL     | K562 | -0.68327662 | 0.33141001 | -2.0617259 | 3.923383e-02 | 0.12 | 0.92081875 | -1 | -0.92081875 |\n",
       "| chrX |   989856 |   990571 | CSF2RA    | K562 | -0.19462084 | 0.11326034 | -1.7183494 | 8.573290e-02 | 0.28 | 0.55284197 | -1 | -0.55284197 |\n",
       "| chrX |   989856 |   990571 | GTPBP6    | K562 |  0.17029688 | 0.27316909 |  0.6234120 | 5.330138e-01 | 0.46 | 0.33724217 |  1 |  0.33724217 |\n",
       "| chrX |   989856 |   990571 | IL3RA     | K562 |  0.13843430 | 0.20146060 |  0.6871532 | 4.919862e-01 | 0.46 | 0.33724217 |  1 |  0.33724217 |\n",
       "| chrX |   989856 |   990571 | LINC00106 | K562 |  0.69864644 | 0.43269584 |  1.6146364 | 1.063895e-01 | 0.04 | 1.39794001 |  1 |  1.39794001 |\n",
       "| chrX |   989856 |   990571 | P2RY8     | K562 | -0.18361762 | 0.15221914 | -1.2062716 | 2.277128e-01 | 0.38 | 0.42021640 | -1 | -0.42021640 |\n",
       "| chrX |   989856 |   990571 | PLCXD1    | K562 |  0.30121949 | 0.38768175 |  0.7769762 | 4.371728e-01 | 0.46 | 0.33724217 |  1 |  0.33724217 |\n",
       "| chrX |   989856 |   990571 | SLC25A6   | K562 | -0.13440353 | 0.07395645 | -1.8173336 | 6.916606e-02 | 0.06 | 1.22184875 | -1 | -1.22184875 |\n",
       "| chrX |  9981502 |  9981856 | TBL1X     | K562 |  0.22390301 | 0.15775176 |  1.4193376 | 1.558006e-01 | 0.22 | 0.65757732 |  1 |  0.65757732 |\n",
       "| chrX |  9981502 |  9981856 | WWC3      | K562 | -0.35098914 | 0.59617211 | -0.5887379 | 5.560371e-01 | 0.82 | 0.08618615 | -1 | -0.08618615 |\n",
       "| chrX |  9986716 |  9987289 | TBL1X     | K562 | -0.01896287 | 0.14393142 | -0.1317494 | 8.951825e-01 | 0.94 | 0.02687215 | -1 | -0.02687215 |\n",
       "| chrX |  9986716 |  9987289 | WWC3      | K562 | -0.09843157 | 0.43094003 | -0.2284113 | 8.193265e-01 | 0.86 | 0.06550155 | -1 | -0.06550155 |\n",
       "| chrX |  9995795 |  9996120 | TBL1X     | K562 |  0.15478654 | 0.14506289 |  1.0670306 | 2.859580e-01 | 0.34 | 0.46852108 |  1 |  0.46852108 |\n",
       "| chrX |  9995795 |  9996120 | WWC3      | K562 | -0.70138720 | 0.59809327 | -1.1727054 | 2.409140e-01 | 0.50 | 0.30103000 | -1 | -0.30103000 |\n",
       "\n"
      ],
      "text/plain": [
       "       chr  start     end       TargetGene CellType beta         se        \n",
       "1      chr1 100037721 100039177 AGL        K562     -0.073930851 0.3911381 \n",
       "2      chr1 100037721 100039177 CDC14A     K562      0.274428075 0.1512090 \n",
       "3      chr1 100037721 100039177 DBT        K562      0.489803738 0.5364101 \n",
       "4      chr1 100037721 100039177 DPH5       K562     -0.088686731 0.4392065 \n",
       "5      chr1 100037721 100039177 RTCA       K562     -0.260361914 0.3236037 \n",
       "6      chr1 100037721 100039177 SLC30A7    K562      0.314301315 0.2532028 \n",
       "7      chr1 100037721 100039177 SLC35A3    K562      0.581886572 0.3938316 \n",
       "8      chr1 100037721 100039177 TRMT13     K562      0.160718677 0.3009745 \n",
       "9      chr1 100046482 100047184 AGL        K562     -0.059847783 0.5173138 \n",
       "10     chr1 100046482 100047184 CDC14A     K562     -0.208819737 0.2009240 \n",
       "11     chr1 100046482 100047184 DBT        K562     -0.327890568 0.7698527 \n",
       "12     chr1 100046482 100047184 DPH5       K562     -0.819071644 0.7673455 \n",
       "13     chr1 100046482 100047184 RTCA       K562      0.803594046 0.3543857 \n",
       "14     chr1 100046482 100047184 SLC30A7    K562     -0.183100903 0.3391500 \n",
       "15     chr1 100046482 100047184 SLC35A3    K562      0.229018591 0.4911687 \n",
       "16     chr1 100046482 100047184 TRMT13     K562      0.473286415 0.3739595 \n",
       "17     chr1 100132479 100133449 AGL        K562     -0.630172283 0.3727884 \n",
       "18     chr1 100132479 100133449 CDC14A     K562      0.044497290 0.1356456 \n",
       "19     chr1 100132479 100133449 DBT        K562      0.109891510 0.4744863 \n",
       "20     chr1 100132479 100133449 DPH5       K562     -0.832189764 0.4313580 \n",
       "21     chr1 100132479 100133449 RTCA       K562     -0.061728673 0.3161269 \n",
       "22     chr1 100132479 100133449 SLC30A7    K562      0.107358490 0.2270240 \n",
       "23     chr1 100132479 100133449 SLC35A3    K562     -0.114603532 0.3393188 \n",
       "24     chr1 100132479 100133449 TRMT13     K562     -0.004672276 0.2834918 \n",
       "25     chr1   1001849   1002126 ACAP3      K562     -0.074656636 0.3402454 \n",
       "26     chr1   1001849   1002126 ATAD3A     K562     -0.323585232 0.4753274 \n",
       "27     chr1   1001849   1002126 ATAD3B     K562      0.151918622 0.4102021 \n",
       "28     chr1   1001849   1002126 AURKAIP1   K562      0.286270193 0.1694212 \n",
       "29     chr1   1001849   1002126 B3GALT6    K562      0.238684589 0.3835643 \n",
       "30     chr1   1001849   1002126 C1orf159   K562      0.215841530 0.4427297 \n",
       "⋮      ⋮    ⋮         ⋮         ⋮          ⋮        ⋮            ⋮         \n",
       "816782 chrX  9465874   9466224  TBL1X      K562      0.28915470  0.14065098\n",
       "816783 chrX  9465874   9466224  WWC3       K562     -0.78042893  0.61031802\n",
       "816784 chrX  9466246   9466443  TBL1X      K562     -0.19420744  0.20334218\n",
       "816785 chrX  9466246   9466443  WWC3       K562      0.86672662  0.40335879\n",
       "816786 chrX 96425180  96425584  DIAPH2     K562      0.02455700  0.14537826\n",
       "816787 chrX 96684465  96685296  DIAPH2     K562      0.30529311  0.08207902\n",
       "816788 chrX 96685331  96685571  DIAPH2     K562      0.51541010  0.12867121\n",
       "816789 chrX 96685746  96686144  DIAPH2     K562      0.35272072  0.10507699\n",
       "816790 chrX 96722728  96723140  DIAPH2     K562      0.61643439  0.12399305\n",
       "816791 chrX  9677146   9677827  TBL1X      K562     -0.12346647  0.11337107\n",
       "816792 chrX  9677146   9677827  WWC3       K562      0.08028208  0.31841077\n",
       "816793 chrX  9708968   9709477  TBL1X      K562     -0.25757408  0.17343541\n",
       "816794 chrX  9708968   9709477  WWC3       K562     -0.63835904  0.59951311\n",
       "816795 chrX 97563441  97563992  DIAPH2     K562      0.12013509  0.10464024\n",
       "816796 chrX 97564404  97564921  DIAPH2     K562      0.17854094  0.14619046\n",
       "816797 chrX   989856    990571  AKAP17A    K562     -0.36652644  0.21470546\n",
       "816798 chrX   989856    990571  ASMTL      K562     -0.68327662  0.33141001\n",
       "816799 chrX   989856    990571  CSF2RA     K562     -0.19462084  0.11326034\n",
       "816800 chrX   989856    990571  GTPBP6     K562      0.17029688  0.27316909\n",
       "816801 chrX   989856    990571  IL3RA      K562      0.13843430  0.20146060\n",
       "816802 chrX   989856    990571  LINC00106  K562      0.69864644  0.43269584\n",
       "816803 chrX   989856    990571  P2RY8      K562     -0.18361762  0.15221914\n",
       "816804 chrX   989856    990571  PLCXD1     K562      0.30121949  0.38768175\n",
       "816805 chrX   989856    990571  SLC25A6    K562     -0.13440353  0.07395645\n",
       "816806 chrX  9981502   9981856  TBL1X      K562      0.22390301  0.15775176\n",
       "816807 chrX  9981502   9981856  WWC3       K562     -0.35098914  0.59617211\n",
       "816808 chrX  9986716   9987289  TBL1X      K562     -0.01896287  0.14393142\n",
       "816809 chrX  9986716   9987289  WWC3       K562     -0.09843157  0.43094003\n",
       "816810 chrX  9995795   9996120  TBL1X      K562      0.15478654  0.14506289\n",
       "816811 chrX  9995795   9996120  WWC3       K562     -0.70138720  0.59809327\n",
       "       z           p            boot_basic_p boot_basic_p.log10 sign\n",
       "1      -0.18901469 0.85008130   0.72         0.14266750         -1  \n",
       "2       1.81489203 0.06954050   0.08         1.09691001          1  \n",
       "3       0.91311429 0.36118244   0.48         0.31875876          1  \n",
       "4      -0.20192493 0.83997542   0.88         0.05551733         -1  \n",
       "5      -0.80457034 0.42106766   0.42         0.37675071         -1  \n",
       "6       1.24130256 0.21449400   0.42         0.37675071          1  \n",
       "7       1.47750112 0.13954136   0.08         1.09691001          1  \n",
       "8       0.53399430 0.59334548   0.68         0.16749109          1  \n",
       "9      -0.11568951 0.90789862   0.84         0.07572071         -1  \n",
       "10     -1.03929694 0.29866666   0.40         0.39794001         -1  \n",
       "11     -0.42591339 0.67017096   0.70         0.15490196         -1  \n",
       "12     -1.06740918 0.28578711   0.72         0.14266750         -1  \n",
       "13      2.26756903 0.02335549   0.02         1.69897000          1  \n",
       "14     -0.53988174 0.58927859   0.72         0.14266750         -1  \n",
       "15      0.46627274 0.64102029   0.60         0.22184875          1  \n",
       "16      1.26560865 0.20565323   0.24         0.61978876          1  \n",
       "17     -1.69042877 0.09094595   0.12         0.92081875         -1  \n",
       "18      0.32804084 0.74288078   0.94         0.02687215          1  \n",
       "19      0.23160102 0.81684792   0.82         0.08618615          1  \n",
       "20     -1.92923215 0.05370205   0.02         1.69897000         -1  \n",
       "21     -0.19526551 0.84518509   0.80         0.09691001         -1  \n",
       "22      0.47289488 0.63628818   0.76         0.11918641          1  \n",
       "23     -0.33774591 0.73555467   0.70         0.15490196         -1  \n",
       "24     -0.01648117 0.98685052   0.94         0.02687215         -1  \n",
       "25     -0.21941998 0.82632291   0.88         0.05551733         -1  \n",
       "26     -0.68076279 0.49602160   0.68         0.16749109         -1  \n",
       "27      0.37035063 0.71112125   0.58         0.23657201          1  \n",
       "28      1.68969493 0.09108633   0.14         0.85387196          1  \n",
       "29      0.62228044 0.53375748   0.62         0.20760831          1  \n",
       "30      0.48752444 0.62588673   0.70         0.15490196          1  \n",
       "⋮      ⋮           ⋮            ⋮            ⋮                  ⋮   \n",
       "816782  2.0558315  3.979876e-02 0.10         1.00000000          1  \n",
       "816783 -1.2787250  2.009939e-01 0.50         0.30103000         -1  \n",
       "816784 -0.9550770  3.395387e-01 0.60         0.22184875         -1  \n",
       "816785  2.1487733  3.165237e-02 0.06         1.22184875          1  \n",
       "816786  0.1689179  8.658612e-01 0.80         0.09691001          1  \n",
       "816787  3.7195024  1.996157e-04 0.02         1.69897000          1  \n",
       "816788  4.0056364  6.185073e-05 0.02         1.69897000          1  \n",
       "816789  3.3567835  7.885483e-04 0.08         1.09691001          1  \n",
       "816790  4.9715236  6.642878e-07 0.02         1.69897000          1  \n",
       "816791 -1.0890474  2.761330e-01 0.38         0.42021640         -1  \n",
       "816792  0.2521337  8.009377e-01 0.84         0.07572071          1  \n",
       "816793 -1.4851297  1.375095e-01 0.36         0.44369750         -1  \n",
       "816794 -1.0647958  2.869683e-01 0.44         0.35654732         -1  \n",
       "816795  1.1480774  2.509366e-01 0.38         0.42021640          1  \n",
       "816796  1.2212900  2.219763e-01 0.20         0.69897000          1  \n",
       "816797 -1.7071129  8.780108e-02 0.08         1.09691001         -1  \n",
       "816798 -2.0617259  3.923383e-02 0.12         0.92081875         -1  \n",
       "816799 -1.7183494  8.573290e-02 0.28         0.55284197         -1  \n",
       "816800  0.6234120  5.330138e-01 0.46         0.33724217          1  \n",
       "816801  0.6871532  4.919862e-01 0.46         0.33724217          1  \n",
       "816802  1.6146364  1.063895e-01 0.04         1.39794001          1  \n",
       "816803 -1.2062716  2.277128e-01 0.38         0.42021640         -1  \n",
       "816804  0.7769762  4.371728e-01 0.46         0.33724217          1  \n",
       "816805 -1.8173336  6.916606e-02 0.06         1.22184875         -1  \n",
       "816806  1.4193376  1.558006e-01 0.22         0.65757732          1  \n",
       "816807 -0.5887379  5.560371e-01 0.82         0.08618615         -1  \n",
       "816808 -0.1317494  8.951825e-01 0.94         0.02687215         -1  \n",
       "816809 -0.2284113  8.193265e-01 0.86         0.06550155         -1  \n",
       "816810  1.0670306  2.859580e-01 0.34         0.46852108          1  \n",
       "816811 -1.1727054  2.409140e-01 0.50         0.30103000         -1  \n",
       "       boot_basic_p.log10.signed\n",
       "1      -0.14266750              \n",
       "2       1.09691001              \n",
       "3       0.31875876              \n",
       "4      -0.05551733              \n",
       "5      -0.37675071              \n",
       "6       0.37675071              \n",
       "7       1.09691001              \n",
       "8       0.16749109              \n",
       "9      -0.07572071              \n",
       "10     -0.39794001              \n",
       "11     -0.15490196              \n",
       "12     -0.14266750              \n",
       "13      1.69897000              \n",
       "14     -0.14266750              \n",
       "15      0.22184875              \n",
       "16      0.61978876              \n",
       "17     -0.92081875              \n",
       "18      0.02687215              \n",
       "19      0.08618615              \n",
       "20     -1.69897000              \n",
       "21     -0.09691001              \n",
       "22      0.11918641              \n",
       "23     -0.15490196              \n",
       "24     -0.02687215              \n",
       "25     -0.05551733              \n",
       "26     -0.16749109              \n",
       "27      0.23657201              \n",
       "28      0.85387196              \n",
       "29      0.20760831              \n",
       "30      0.15490196              \n",
       "⋮      ⋮                        \n",
       "816782  1.00000000              \n",
       "816783 -0.30103000              \n",
       "816784 -0.22184875              \n",
       "816785  1.22184875              \n",
       "816786  0.09691001              \n",
       "816787  1.69897000              \n",
       "816788  1.69897000              \n",
       "816789  1.09691001              \n",
       "816790  1.69897000              \n",
       "816791 -0.42021640              \n",
       "816792  0.07572071              \n",
       "816793 -0.44369750              \n",
       "816794 -0.35654732              \n",
       "816795  0.42021640              \n",
       "816796  0.69897000              \n",
       "816797 -1.09691001              \n",
       "816798 -0.92081875              \n",
       "816799 -0.55284197              \n",
       "816800  0.33724217              \n",
       "816801  0.33724217              \n",
       "816802  1.39794001              \n",
       "816803 -0.42021640              \n",
       "816804  0.33724217              \n",
       "816805 -1.22184875              \n",
       "816806  0.65757732              \n",
       "816807 -0.08618615              \n",
       "816808 -0.02687215              \n",
       "816809 -0.06550155              \n",
       "816810  0.46852108              \n",
       "816811 -0.30103000              "
      ]
     },
     "metadata": {},
     "output_type": "display_data"
    }
   ],
   "source": [
    "df.output = as.data.frame(pairs.E2G.res,row.names = NULL)\n",
    "colnames(df.output)[1] = \"chr\"\n",
    "df.output[,\"CellType\"] = \"K562\"\n",
    "df.output = df.output[,c(\"chr\",\n",
    "                         \"start\",\n",
    "                         \"end\",\n",
    "                         \"TargetGene\",\n",
    "                         \"CellType\",\n",
    "                         \"beta\",\"se\",\"z\",\"p\",\"boot_basic_p\",\n",
    "                         \"boot_basic_p.log10\",\n",
    "                         \"sign\",\n",
    "                         \"boot_basic_p.log10.signed\")]\n",
    "data.table::fwrite(df.output,\n",
    "                   file = paste(dir.output,\"pairs.E2G.res.tsv.gz\",sep = \"/\"),\n",
    "                   row.names = F,\n",
    "                   quote = F,\n",
    "                   sep = \"\\t\")\n",
    "df.output"
   ]
  },
  {
   "cell_type": "code",
   "execution_count": 19,
   "id": "4d77c58e-215a-408d-8495-c68c72f559c3",
   "metadata": {},
   "outputs": [
    {
     "data": {
      "text/plain": [
       "R version 4.3.3 (2024-02-29)\n",
       "Platform: x86_64-conda-linux-gnu (64-bit)\n",
       "Running under: Red Hat Enterprise Linux 8.10 (Ootpa)\n",
       "\n",
       "Matrix products: default\n",
       "BLAS/LAPACK: /maps/projects/ralab/people/lpm537/software/anaconda3/envs/Notebook_E2G_240505/lib/libopenblasp-r0.3.27.so;  LAPACK version 3.12.0\n",
       "\n",
       "locale:\n",
       " [1] LC_CTYPE=en_US.UTF-8       LC_NUMERIC=C              \n",
       " [3] LC_TIME=en_US.UTF-8        LC_COLLATE=en_US.UTF-8    \n",
       " [5] LC_MONETARY=en_US.UTF-8    LC_MESSAGES=en_US.UTF-8   \n",
       " [7] LC_PAPER=en_US.UTF-8       LC_NAME=C                 \n",
       " [9] LC_ADDRESS=C               LC_TELEPHONE=C            \n",
       "[11] LC_MEASUREMENT=en_US.UTF-8 LC_IDENTIFICATION=C       \n",
       "\n",
       "time zone: Europe/Copenhagen\n",
       "tzcode source: system (glibc)\n",
       "\n",
       "attached base packages:\n",
       " [1] parallel  stats4    grid      stats     graphics  grDevices utils    \n",
       " [8] datasets  methods   base     \n",
       "\n",
       "other attached packages:\n",
       "[1] Matrix_1.6-5         GenomicRanges_1.54.1 GenomeInfoDb_1.38.1 \n",
       "[4] IRanges_2.36.0       S4Vectors_0.40.2     BiocGenerics_0.48.1 \n",
       "[7] genomation_1.34.0    Signac_1.13.0        SCENT_1.0.0         \n",
       "\n",
       "loaded via a namespace (and not attached):\n",
       "  [1] rstudioapi_0.16.0           jsonlite_1.8.8             \n",
       "  [3] magrittr_2.0.3              nloptr_2.0.3               \n",
       "  [5] rmarkdown_2.26              BiocIO_1.10.0              \n",
       "  [7] zlibbioc_1.48.0             vctrs_0.6.5                \n",
       "  [9] minqa_1.2.6                 Rsamtools_2.18.0           \n",
       " [11] RCurl_1.98-1.14             base64enc_0.1-3            \n",
       " [13] RcppRoll_0.3.0              htmltools_0.5.8.1          \n",
       " [15] S4Arrays_1.2.1              plotrix_3.8-4              \n",
       " [17] Formula_1.2-5               parallelly_1.37.1          \n",
       " [19] KernSmooth_2.23-22          htmlwidgets_1.6.4          \n",
       " [21] plyr_1.8.9                  impute_1.76.0              \n",
       " [23] uuid_1.2-0                  GenomicAlignments_1.36.0   \n",
       " [25] lifecycle_1.0.4             pkgconfig_2.0.3            \n",
       " [27] R6_2.5.1                    fastmap_1.1.1              \n",
       " [29] GenomeInfoDbData_1.2.11     MatrixGenerics_1.12.3      \n",
       " [31] future_1.33.2               digest_0.6.35              \n",
       " [33] colorspace_2.1-0            patchwork_1.2.0            \n",
       " [35] irlba_2.3.5.1               Hmisc_5.1-2                \n",
       " [37] progressr_0.14.0            fansi_1.0.6                \n",
       " [39] abind_1.4-5                 compiler_4.3.3             \n",
       " [41] bit64_4.0.5                 htmlTable_2.4.2            \n",
       " [43] backports_1.4.1             BiocParallel_1.36.0        \n",
       " [45] R.utils_2.12.3              MASS_7.3-60                \n",
       " [47] DelayedArray_0.26.7         rjson_0.2.21               \n",
       " [49] tools_4.3.3                 foreign_0.8-86             \n",
       " [51] future.apply_1.11.2         nnet_7.3-19                \n",
       " [53] R.oo_1.26.0                 glue_1.7.0                 \n",
       " [55] restfulr_0.0.15             nlme_3.1-164               \n",
       " [57] pbdZMQ_0.3-11               checkmate_2.3.1            \n",
       " [59] gridBase_0.4-7              cluster_2.1.6              \n",
       " [61] reshape2_1.4.4              generics_0.1.3             \n",
       " [63] gtable_0.3.5                BSgenome_1.68.0            \n",
       " [65] tzdb_0.4.0                  R.methodsS3_1.8.2          \n",
       " [67] tidyr_1.3.1                 seqPattern_1.34.0          \n",
       " [69] data.table_1.15.2           hms_1.1.3                  \n",
       " [71] sp_2.1-4                    utf8_1.2.4                 \n",
       " [73] XVector_0.42.0              pillar_1.9.0               \n",
       " [75] stringr_1.5.1               vroom_1.6.5                \n",
       " [77] spam_2.10-0                 IRdisplay_1.1              \n",
       " [79] splines_4.3.3               dplyr_1.1.4                \n",
       " [81] lattice_0.22-6              bit_4.0.5                  \n",
       " [83] rtracklayer_1.60.1          tidyselect_1.2.1           \n",
       " [85] Biostrings_2.70.1           pbapply_1.7-2              \n",
       " [87] knitr_1.46                  gridExtra_2.3              \n",
       " [89] SummarizedExperiment_1.30.2 xfun_0.43                  \n",
       " [91] Biobase_2.60.0              matrixStats_1.3.0          \n",
       " [93] stringi_1.8.3               yaml_2.3.8                 \n",
       " [95] boot_1.3-30                 evaluate_0.23              \n",
       " [97] codetools_0.2-20            tibble_3.2.1               \n",
       " [99] cli_3.6.2                   IRkernel_1.3.2             \n",
       "[101] rpart_4.1.23                repr_1.1.7                 \n",
       "[103] munsell_0.5.1               Rcpp_1.0.12                \n",
       "[105] globals_0.16.3              XML_3.99-0.16.1            \n",
       "[107] ggplot2_3.5.1               readr_2.1.5                \n",
       "[109] dotCall64_1.1-1             bitops_1.0-7               \n",
       "[111] lme4_1.1-35.3               listenv_0.9.1              \n",
       "[113] scales_1.3.0                SeuratObject_5.0.1         \n",
       "[115] purrr_1.0.2                 crayon_1.5.2               \n",
       "[117] rlang_1.1.3                 fastmatch_1.1-4            "
      ]
     },
     "metadata": {},
     "output_type": "display_data"
    }
   ],
   "source": [
    "sessionInfo()"
   ]
  },
  {
   "cell_type": "code",
   "execution_count": null,
   "id": "3c1a0283-11d6-4df1-bbd8-7b47e9e8ead8",
   "metadata": {},
   "outputs": [],
   "source": []
  }
 ],
 "metadata": {
  "kernelspec": {
   "display_name": "R",
   "language": "R",
   "name": "ir"
  },
  "language_info": {
   "codemirror_mode": "r",
   "file_extension": ".r",
   "mimetype": "text/x-r-source",
   "name": "R",
   "pygments_lexer": "r",
   "version": "4.3.3"
  }
 },
 "nbformat": 4,
 "nbformat_minor": 5
}
