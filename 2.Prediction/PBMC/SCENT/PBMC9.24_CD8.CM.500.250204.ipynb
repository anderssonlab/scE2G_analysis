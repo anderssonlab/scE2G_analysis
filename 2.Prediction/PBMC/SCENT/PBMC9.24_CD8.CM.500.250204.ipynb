{
 "cells": [
  {
   "cell_type": "code",
   "execution_count": 1,
   "id": "3a1e63f9-7479-4a30-83ea-381f1ecdbe50",
   "metadata": {},
   "outputs": [
    {
     "name": "stderr",
     "output_type": "stream",
     "text": [
      "Warning message:\n",
      "“replacing previous import ‘Hmisc::capitalize’ by ‘R.utils::capitalize’ when loading ‘SCENT’”\n",
      "Loading required package: grid\n",
      "\n",
      "Warning message:\n",
      "“replacing previous import ‘Biostrings::pattern’ by ‘grid::pattern’ when loading ‘genomation’”\n",
      "Loading required package: stats4\n",
      "\n",
      "Loading required package: BiocGenerics\n",
      "\n",
      "\n",
      "Attaching package: ‘BiocGenerics’\n",
      "\n",
      "\n",
      "The following objects are masked from ‘package:stats’:\n",
      "\n",
      "    IQR, mad, sd, var, xtabs\n",
      "\n",
      "\n",
      "The following objects are masked from ‘package:base’:\n",
      "\n",
      "    anyDuplicated, aperm, append, as.data.frame, basename, cbind,\n",
      "    colnames, dirname, do.call, duplicated, eval, evalq, Filter, Find,\n",
      "    get, grep, grepl, intersect, is.unsorted, lapply, Map, mapply,\n",
      "    match, mget, order, paste, pmax, pmax.int, pmin, pmin.int,\n",
      "    Position, rank, rbind, Reduce, rownames, sapply, setdiff, sort,\n",
      "    table, tapply, union, unique, unsplit, which.max, which.min\n",
      "\n",
      "\n",
      "Loading required package: S4Vectors\n",
      "\n",
      "\n",
      "Attaching package: ‘S4Vectors’\n",
      "\n",
      "\n",
      "The following object is masked from ‘package:utils’:\n",
      "\n",
      "    findMatches\n",
      "\n",
      "\n",
      "The following objects are masked from ‘package:base’:\n",
      "\n",
      "    expand.grid, I, unname\n",
      "\n",
      "\n",
      "Loading required package: IRanges\n",
      "\n",
      "Loading required package: GenomeInfoDb\n",
      "\n",
      "\n",
      "Attaching package: ‘Matrix’\n",
      "\n",
      "\n",
      "The following object is masked from ‘package:S4Vectors’:\n",
      "\n",
      "    expand\n",
      "\n",
      "\n",
      "\n",
      "Attaching package: ‘data.table’\n",
      "\n",
      "\n",
      "The following object is masked from ‘package:GenomicRanges’:\n",
      "\n",
      "    shift\n",
      "\n",
      "\n",
      "The following object is masked from ‘package:IRanges’:\n",
      "\n",
      "    shift\n",
      "\n",
      "\n",
      "The following objects are masked from ‘package:S4Vectors’:\n",
      "\n",
      "    first, second\n",
      "\n",
      "\n",
      "\n",
      "Attaching package: ‘dplyr’\n",
      "\n",
      "\n",
      "The following objects are masked from ‘package:data.table’:\n",
      "\n",
      "    between, first, last\n",
      "\n",
      "\n",
      "The following objects are masked from ‘package:GenomicRanges’:\n",
      "\n",
      "    intersect, setdiff, union\n",
      "\n",
      "\n",
      "The following object is masked from ‘package:GenomeInfoDb’:\n",
      "\n",
      "    intersect\n",
      "\n",
      "\n",
      "The following objects are masked from ‘package:IRanges’:\n",
      "\n",
      "    collapse, desc, intersect, setdiff, slice, union\n",
      "\n",
      "\n",
      "The following objects are masked from ‘package:S4Vectors’:\n",
      "\n",
      "    first, intersect, rename, setdiff, setequal, union\n",
      "\n",
      "\n",
      "The following objects are masked from ‘package:BiocGenerics’:\n",
      "\n",
      "    combine, intersect, setdiff, union\n",
      "\n",
      "\n",
      "The following objects are masked from ‘package:stats’:\n",
      "\n",
      "    filter, lag\n",
      "\n",
      "\n",
      "The following objects are masked from ‘package:base’:\n",
      "\n",
      "    intersect, setdiff, setequal, union\n",
      "\n",
      "\n"
     ]
    }
   ],
   "source": [
    "library(SCENT)\n",
    "library(Signac)\n",
    "library(genomation)\n",
    "library(GenomicRanges)\n",
    "library(Matrix)\n",
    "library(parallel)\n",
    "library(data.table)\n",
    "library(dplyr)"
   ]
  },
  {
   "cell_type": "markdown",
   "id": "d53f3774-52c3-4baa-b707-5b3a0450b130",
   "metadata": {},
   "source": [
    "Specify file path"
   ]
  },
  {
   "cell_type": "code",
   "execution_count": 2,
   "id": "0785f3fc-9913-428a-bea7-5710120c9328",
   "metadata": {},
   "outputs": [],
   "source": [
    "gene_gtf_path = \"/maps/projects/ralab/data/genome/hg38/gencode.v43.chr_patch_hapl_scaff.annotation.gtf\"\n",
    "abc_genes_path = \"/maps/projects/ralab_nnfc-AUDIT/people/lpm537/software/scE2G_pipeline/241203/scE2G/ENCODE_rE2G/ABC/reference/hg38/CollapsedGeneBounds.hg38.TSS500bp.bed\"\n",
    "path.pairs.E2G = \"/maps/projects/ralab_nnfc-AUDIT/people/lpm537/software/scE2G_pipeline/240617/sc-E2G/test/results/PBMC9/24_CD8.CM.multiome_7features/Kendall/Pairs.tsv.gz\"\n",
    "path.pairs.ABC = \"/maps/projects/ralab_nnfc-AUDIT/people/lpm537/software/scE2G_pipeline/240617/sc-E2G/test/results/PBMC9/24_CD8.CM.multiome_7features/Predictions/EnhancerPredictionsAllPutative.tsv.gz\"\n",
    "path.matrix.atac_count = \"/maps/projects/ralab_nnfc-AUDIT/people/lpm537/software/scE2G_pipeline/240617/sc-E2G/test/results/PBMC9/24_CD8.CM.multiome_7features/Kendall/atac_matrix.rds\"\n",
    "path.matrix.rna_count = \"/maps/projects/ralab_nnfc-AUDIT/people/lpm537/project/E2G/analysis/E2G_240503/data/PBMC/1.prepare_data/3.annotate_cell_type/RNA_count_matrix/24_CD8.CM.rna_count_matrix.csv.gz\"\n",
    "dir.output = \"/maps/projects/ralab_nnfc-AUDIT/people/lpm537/project/E2G/analysis/E2G_240503/data/PBMC/2.Genome_wide_prediction/SCENT/PBMC9.24_CD8.CM.500.250204/\""
   ]
  },
  {
   "cell_type": "code",
   "execution_count": 3,
   "id": "500ba317-011f-4cab-834c-de750cb7f503",
   "metadata": {},
   "outputs": [],
   "source": [
    "n.cores = 4"
   ]
  },
  {
   "cell_type": "markdown",
   "id": "9c9cdab1-486b-4539-99d3-3cd5d1d99795",
   "metadata": {},
   "source": [
    "Import candidate E-G pairs"
   ]
  },
  {
   "cell_type": "code",
   "execution_count": 4,
   "id": "f5852d15-7e3f-412b-b137-7d29a6fb47b1",
   "metadata": {},
   "outputs": [],
   "source": [
    "pairs.E2G = readGeneric(path.pairs.E2G,\n",
    "                        header = T,\n",
    "                        keep.all.metadata = T)"
   ]
  },
  {
   "cell_type": "markdown",
   "id": "4b3c69d6-986b-4e10-9597-01c66d230c5c",
   "metadata": {},
   "source": [
    "Import ABC results"
   ]
  },
  {
   "cell_type": "code",
   "execution_count": 5,
   "id": "1fdcc2db-187f-45ee-89b4-288e8be29ee9",
   "metadata": {},
   "outputs": [],
   "source": [
    "pairs.ABC = readGeneric(path.pairs.ABC,\n",
    "                        header = T,\n",
    "                        keep.all.metadata = T)"
   ]
  },
  {
   "cell_type": "markdown",
   "id": "10424833-4e11-4191-a970-940bcc814764",
   "metadata": {},
   "source": [
    "Filter ABC results which distance < 1M"
   ]
  },
  {
   "cell_type": "code",
   "execution_count": 6,
   "id": "f08d2dec-83da-425a-aa70-aacb2d1c01a9",
   "metadata": {},
   "outputs": [],
   "source": [
    "pairs.ABC.1M = pairs.ABC[pairs.ABC$distance < 10^6]"
   ]
  },
  {
   "cell_type": "markdown",
   "id": "1ab4f035-0f58-4f32-9770-6765575f08a4",
   "metadata": {},
   "source": [
    "Filter E-G pairs overlaping with pairs.ABC.1M"
   ]
  },
  {
   "cell_type": "code",
   "execution_count": 7,
   "id": "46f640bb-a049-4bae-8362-485ec0d30858",
   "metadata": {},
   "outputs": [
    {
     "data": {
      "text/plain": [
       "GRanges object with 2785962 ranges and 3 metadata columns:\n",
       "            seqnames              ranges strand |  TargetGene\n",
       "               <Rle>           <IRanges>  <Rle> | <character>\n",
       "        [1]     chr1 100023650-100023819      * |         AGL\n",
       "        [2]     chr1 100023650-100023819      * |      CDC14A\n",
       "        [3]     chr1 100023650-100023819      * |         DBT\n",
       "        [4]     chr1 100023650-100023819      * |       EXTL2\n",
       "        [5]     chr1 100023650-100023819      * |       GPR88\n",
       "        ...      ...                 ...    ... .         ...\n",
       "  [2785958]     chrX     9995710-9996296      * |       TBL1X\n",
       "  [2785959]     chrX     9995710-9996296      * |        WWC3\n",
       "  [2785960]     chrX     9997548-9997887      * |       CLCN4\n",
       "  [2785961]     chrX     9997548-9997887      * |       TBL1X\n",
       "  [2785962]     chrX     9997548-9997887      * |        WWC3\n",
       "                          PeakName               PairName\n",
       "                       <character>            <character>\n",
       "        [1] chr1-100023650-10002.. chr1-100023650-10002..\n",
       "        [2] chr1-100023650-10002.. chr1-100023650-10002..\n",
       "        [3] chr1-100023650-10002.. chr1-100023650-10002..\n",
       "        [4] chr1-100023650-10002.. chr1-100023650-10002..\n",
       "        [5] chr1-100023650-10002.. chr1-100023650-10002..\n",
       "        ...                    ...                    ...\n",
       "  [2785958]   chrX-9995710-9996296 chrX-9995710-9996296..\n",
       "  [2785959]   chrX-9995710-9996296 chrX-9995710-9996296..\n",
       "  [2785960]   chrX-9997548-9997887 chrX-9997548-9997887..\n",
       "  [2785961]   chrX-9997548-9997887 chrX-9997548-9997887..\n",
       "  [2785962]   chrX-9997548-9997887 chrX-9997548-9997887..\n",
       "  -------\n",
       "  seqinfo: 23 sequences from an unspecified genome; no seqlengths"
      ]
     },
     "metadata": {},
     "output_type": "display_data"
    }
   ],
   "source": [
    "df.pairs.E2G.chr_rename = as.data.frame(pairs.E2G)[,1:3]\n",
    "df.pairs.E2G.chr_rename[,\"seqnames\"] = paste(seqnames(pairs.E2G),\n",
    "                                             mcols(pairs.E2G)[,\"TargetGene\"],\n",
    "                                             sep = \"_\")\n",
    "pairs.E2G.chr_rename = GRanges(df.pairs.E2G.chr_rename)\n",
    "rm(df.pairs.E2G.chr_rename)\n",
    "\n",
    "df.pairs.ABC.1M.chr_rename = as.data.frame(pairs.ABC.1M)[,1:3]\n",
    "df.pairs.ABC.1M.chr_rename[,\"seqnames\"] = paste(seqnames(pairs.ABC.1M),\n",
    "                                                mcols(pairs.ABC.1M)[,\"TargetGene\"],\n",
    "                                                sep = \"_\")\n",
    "pairs.ABC.1M.chr_rename = GRanges(df.pairs.ABC.1M.chr_rename)\n",
    "rm(df.pairs.ABC.1M.chr_rename)\n",
    "\n",
    "pairs.E2G.filter = pairs.E2G[countOverlaps(pairs.E2G.chr_rename,\n",
    "                                           pairs.ABC.1M.chr_rename) > 0]\n",
    "rm(pairs.E2G.chr_rename)\n",
    "rm(pairs.ABC.1M.chr_rename)\n",
    "pairs.E2G.filter"
   ]
  },
  {
   "cell_type": "markdown",
   "id": "bcdfac67-ce32-4d9a-8f4d-65dab644ec63",
   "metadata": {},
   "source": [
    "Import ATAC matrix"
   ]
  },
  {
   "cell_type": "code",
   "execution_count": 8,
   "id": "bd59feb4-3e33-4ebe-a107-f3b6d347a68e",
   "metadata": {},
   "outputs": [],
   "source": [
    "matrix.atac = readRDS(path.matrix.atac_count)\n",
    "matrix.atac = BinarizeCounts(matrix.atac)"
   ]
  },
  {
   "cell_type": "markdown",
   "id": "a0c5cb96-2fc4-42c4-a421-fe9a5ca537da",
   "metadata": {},
   "source": [
    "Import RNA matrix"
   ]
  },
  {
   "cell_type": "code",
   "execution_count": 9,
   "id": "96e10e90-9400-4cfe-bc7b-46a7eaee1fcd",
   "metadata": {},
   "outputs": [],
   "source": [
    "matrix.rna = read.csv(path.matrix.rna_count,\n",
    "                      row.names = 1,\n",
    "                      check.names = F)\n",
    "matrix.rna = Matrix(as.matrix(matrix.rna), sparse = TRUE)\n",
    "matrix.rna = matrix.rna[,colnames(matrix.atac)]\n",
    "matrix.rna = matrix.rna[rowSums(matrix.rna) > 0,]"
   ]
  },
  {
   "cell_type": "markdown",
   "id": "62718ef8-a3bd-4755-a95f-be216f16517b",
   "metadata": {},
   "source": [
    "Map gene names"
   ]
  },
  {
   "cell_type": "code",
   "execution_count": 10,
   "id": "0f255a65-03a4-4255-967e-0c644bfe66cd",
   "metadata": {},
   "outputs": [],
   "source": [
    "extract_attributes <- function(gtf_attributes, att_of_interest){\n",
    "  att <- unlist(strsplit(gtf_attributes, \" \"))\n",
    "  if(att_of_interest %in% att){\n",
    "    return(gsub(\"\\\"|;\",\"\", att[which(att %in% att_of_interest)+1]))\n",
    "  } else {\n",
    "    return(NA)}\n",
    "}\n",
    "map_gene_names <- function(rna_matrix, gene_gtf_path, abc_genes_path){\n",
    "\tgene_ref <- fread(gene_gtf_path, header = FALSE, sep = \"\\t\") %>%\n",
    "\t\tsetNames(c(\"chr\",\"source\",\"type\",\"start\",\"end\",\"score\",\"strand\",\"phase\",\"attributes\")) %>%\n",
    "\t\tdplyr::filter(type == \"gene\")\n",
    "\tgene_ref$gene_ref_name <- unlist(lapply(gene_ref$attributes, extract_attributes, \"gene_name\"))\n",
    "\tgene_ref$Ensembl_ID <- unlist(lapply(gene_ref$attributes, extract_attributes, \"gene_id\"))\n",
    "\tgene_ref <- dplyr::select(gene_ref, gene_ref_name, Ensembl_ID) %>%\n",
    "\t\tmutate(Ensembl_ID = sub(\"\\\\.\\\\d+$\", \"\", Ensembl_ID)) %>% # remove decimal digits \n",
    "\t\tdistinct()\n",
    "\t\n",
    "\tabc_genes <- fread(abc_genes_path, col.names = c(\"chr\", \"start\", \"end\", \"name\", \"score\", \"strand\", \"Ensembl_ID\", \"gene_type\")) %>%\n",
    "\t\tdplyr::select(name, Ensembl_ID) %>%\n",
    "\t\trename(abc_name = name) %>%\n",
    "\t\tleft_join(gene_ref, by = \"Ensembl_ID\") %>%\n",
    "\t\tgroup_by(Ensembl_ID) %>% # remove cases where multiple genes map to one ensembl ID\n",
    "\t\tfilter(n() == 1) %>%\n",
    "\t\tungroup()\n",
    "\n",
    "\tgene_key <- abc_genes$abc_name\n",
    "\tnames(gene_key) <- abc_genes$gene_ref_name\n",
    "\n",
    "\t# remove genes not in our gene universe\t\n",
    "\trow_sub <- intersect(rownames(rna_matrix), names(gene_key)) # gene ref names\n",
    "\trna_matrix_filt <- rna_matrix[row_sub,] # still gene ref names\n",
    "\trownames(rna_matrix_filt) <- gene_key[row_sub] # converted to abc names\n",
    "\n",
    "\treturn(rna_matrix_filt)\n",
    "}"
   ]
  },
  {
   "cell_type": "code",
   "execution_count": 11,
   "id": "ca760678-9db9-418e-b7ac-29984eddad7e",
   "metadata": {},
   "outputs": [],
   "source": [
    "matrix.rna.rename = map_gene_names(matrix.rna,gene_gtf_path, abc_genes_path)"
   ]
  },
  {
   "cell_type": "code",
   "execution_count": 12,
   "id": "0c8225d7-5216-4cc1-827e-bbb22c53f9fc",
   "metadata": {},
   "outputs": [],
   "source": [
    "pairs.E2G.filter2 = pairs.E2G.filter[pairs.E2G.filter$TargetGene %in% rownames(matrix.rna.rename) &\n",
    "                                     pairs.E2G.filter$PeakName %in% rownames(matrix.atac)]"
   ]
  },
  {
   "cell_type": "markdown",
   "id": "b16f7d5b-eabd-4e93-b8cd-f19a54df21f2",
   "metadata": {},
   "source": [
    "Prepare SCENT meta data"
   ]
  },
  {
   "cell_type": "code",
   "execution_count": 13,
   "id": "827059dd-6885-441e-973e-d7c49e5fd534",
   "metadata": {},
   "outputs": [
    {
     "data": {
      "text/html": [
       "<table class=\"dataframe\">\n",
       "<caption>A data.frame: 2129 × 6</caption>\n",
       "<thead>\n",
       "\t<tr><th></th><th scope=col>cell</th><th scope=col>nUMI</th><th scope=col>nMito</th><th scope=col>celltype</th><th scope=col>log.nUMI</th><th scope=col>percent.mito</th></tr>\n",
       "\t<tr><th></th><th scope=col>&lt;chr&gt;</th><th scope=col>&lt;dbl&gt;</th><th scope=col>&lt;dbl&gt;</th><th scope=col>&lt;chr&gt;</th><th scope=col>&lt;dbl&gt;</th><th scope=col>&lt;dbl&gt;</th></tr>\n",
       "</thead>\n",
       "<tbody>\n",
       "\t<tr><th scope=row>Multiome10x_05_AAACATGCATGCATAT-1</th><td>Multiome10x_05_AAACATGCATGCATAT-1</td><td>1331</td><td>171</td><td>K562</td><td>7.193686</td><td>0.12847483</td></tr>\n",
       "\t<tr><th scope=row>Multiome10x_05_AAACCGAAGCTGGCTA-1</th><td>Multiome10x_05_AAACCGAAGCTGGCTA-1</td><td>1802</td><td>196</td><td>K562</td><td>7.496652</td><td>0.10876804</td></tr>\n",
       "\t<tr><th scope=row>Multiome10x_05_AAACCGCGTTGCGCGA-1</th><td>Multiome10x_05_AAACCGCGTTGCGCGA-1</td><td>2296</td><td>305</td><td>K562</td><td>7.738924</td><td>0.13283972</td></tr>\n",
       "\t<tr><th scope=row>Multiome10x_05_AAACGGATCTAATTGG-1</th><td>Multiome10x_05_AAACGGATCTAATTGG-1</td><td>2007</td><td>186</td><td>K562</td><td>7.604396</td><td>0.09267564</td></tr>\n",
       "\t<tr><th scope=row>Multiome10x_05_AAAGCAAGTACCGTAA-1</th><td>Multiome10x_05_AAAGCAAGTACCGTAA-1</td><td>1207</td><td>230</td><td>K562</td><td>7.095893</td><td>0.19055510</td></tr>\n",
       "\t<tr><th scope=row>Multiome10x_05_AAAGCAAGTGAGGTAG-1</th><td>Multiome10x_05_AAAGCAAGTGAGGTAG-1</td><td>6917</td><td>523</td><td>K562</td><td>8.841737</td><td>0.07561081</td></tr>\n",
       "\t<tr><th scope=row>Multiome10x_05_AAAGCCCGTTTCAGGA-1</th><td>Multiome10x_05_AAAGCCCGTTTCAGGA-1</td><td>1852</td><td>423</td><td>K562</td><td>7.524021</td><td>0.22840173</td></tr>\n",
       "\t<tr><th scope=row>Multiome10x_05_AAAGGAGCATGAGCAG-1</th><td>Multiome10x_05_AAAGGAGCATGAGCAG-1</td><td>1871</td><td>252</td><td>K562</td><td>7.534228</td><td>0.13468733</td></tr>\n",
       "\t<tr><th scope=row>Multiome10x_05_AAAGGTTAGGACAATG-1</th><td>Multiome10x_05_AAAGGTTAGGACAATG-1</td><td>1409</td><td>117</td><td>K562</td><td>7.250636</td><td>0.08303762</td></tr>\n",
       "\t<tr><th scope=row>Multiome10x_05_AAATCCGGTACAAAGA-1</th><td>Multiome10x_05_AAATCCGGTACAAAGA-1</td><td>3851</td><td>292</td><td>K562</td><td>8.256088</td><td>0.07582446</td></tr>\n",
       "\t<tr><th scope=row>Multiome10x_05_AAATCCGGTCCAAATG-1</th><td>Multiome10x_05_AAATCCGGTCCAAATG-1</td><td>2729</td><td>194</td><td>K562</td><td>7.911691</td><td>0.07108831</td></tr>\n",
       "\t<tr><th scope=row>Multiome10x_05_AAATCCGGTGGGTACT-1</th><td>Multiome10x_05_AAATCCGGTGGGTACT-1</td><td>2210</td><td>178</td><td>K562</td><td>7.700748</td><td>0.08054299</td></tr>\n",
       "\t<tr><th scope=row>Multiome10x_05_AAATGGCCAGTTAGCC-1</th><td>Multiome10x_05_AAATGGCCAGTTAGCC-1</td><td>2715</td><td>260</td><td>K562</td><td>7.906547</td><td>0.09576427</td></tr>\n",
       "\t<tr><th scope=row>Multiome10x_05_AACAAAGGTAACCTAG-1</th><td>Multiome10x_05_AACAAAGGTAACCTAG-1</td><td>1984</td><td>125</td><td>K562</td><td>7.592870</td><td>0.06300403</td></tr>\n",
       "\t<tr><th scope=row>Multiome10x_05_AACAAGCCAACTGGGA-1</th><td>Multiome10x_05_AACAAGCCAACTGGGA-1</td><td>1078</td><td> 95</td><td>K562</td><td>6.982863</td><td>0.08812616</td></tr>\n",
       "\t<tr><th scope=row>Multiome10x_05_AACAGATAGATGCCTG-1</th><td>Multiome10x_05_AACAGATAGATGCCTG-1</td><td>2519</td><td>189</td><td>K562</td><td>7.831617</td><td>0.07502977</td></tr>\n",
       "\t<tr><th scope=row>Multiome10x_05_AACAGATAGTAACGAG-1</th><td>Multiome10x_05_AACAGATAGTAACGAG-1</td><td>2428</td><td>210</td><td>K562</td><td>7.794823</td><td>0.08649094</td></tr>\n",
       "\t<tr><th scope=row>Multiome10x_05_AACATAGCATAATGAG-1</th><td>Multiome10x_05_AACATAGCATAATGAG-1</td><td>2831</td><td>335</td><td>K562</td><td>7.948385</td><td>0.11833274</td></tr>\n",
       "\t<tr><th scope=row>Multiome10x_05_AACATCATCATGACCG-1</th><td>Multiome10x_05_AACATCATCATGACCG-1</td><td>2018</td><td>146</td><td>K562</td><td>7.609862</td><td>0.07234886</td></tr>\n",
       "\t<tr><th scope=row>Multiome10x_05_AACATCATCCGGGACT-1</th><td>Multiome10x_05_AACATCATCCGGGACT-1</td><td>2947</td><td>262</td><td>K562</td><td>7.988543</td><td>0.08890397</td></tr>\n",
       "\t<tr><th scope=row>Multiome10x_05_AACATTGTCCTCACAC-1</th><td>Multiome10x_05_AACATTGTCCTCACAC-1</td><td>1981</td><td>201</td><td>K562</td><td>7.591357</td><td>0.10146391</td></tr>\n",
       "\t<tr><th scope=row>Multiome10x_05_AACCCGCAGAAGCTAG-1</th><td>Multiome10x_05_AACCCGCAGAAGCTAG-1</td><td>2465</td><td>203</td><td>K562</td><td>7.809947</td><td>0.08235294</td></tr>\n",
       "\t<tr><th scope=row>Multiome10x_05_AACCGGCTCAATGACC-1</th><td>Multiome10x_05_AACCGGCTCAATGACC-1</td><td>2497</td><td>284</td><td>K562</td><td>7.822845</td><td>0.11373648</td></tr>\n",
       "\t<tr><th scope=row>Multiome10x_05_AACCTCCTCCTGGTCT-1</th><td>Multiome10x_05_AACCTCCTCCTGGTCT-1</td><td>2185</td><td>212</td><td>K562</td><td>7.689371</td><td>0.09702517</td></tr>\n",
       "\t<tr><th scope=row>Multiome10x_05_AACCTTAAGCACGTTG-1</th><td>Multiome10x_05_AACCTTAAGCACGTTG-1</td><td>2044</td><td>195</td><td>K562</td><td>7.622664</td><td>0.09540117</td></tr>\n",
       "\t<tr><th scope=row>Multiome10x_05_AACCTTGCAGTTATCG-1</th><td>Multiome10x_05_AACCTTGCAGTTATCG-1</td><td>1556</td><td>105</td><td>K562</td><td>7.349874</td><td>0.06748072</td></tr>\n",
       "\t<tr><th scope=row>Multiome10x_05_AACGACAAGATGCCTG-1</th><td>Multiome10x_05_AACGACAAGATGCCTG-1</td><td>2505</td><td>229</td><td>K562</td><td>7.826044</td><td>0.09141717</td></tr>\n",
       "\t<tr><th scope=row>Multiome10x_05_AACGCCCAGGAGTAAT-1</th><td>Multiome10x_05_AACGCCCAGGAGTAAT-1</td><td>2106</td><td>224</td><td>K562</td><td>7.652546</td><td>0.10636277</td></tr>\n",
       "\t<tr><th scope=row>Multiome10x_05_AACGCTAGTTCCTGAT-1</th><td>Multiome10x_05_AACGCTAGTTCCTGAT-1</td><td>2354</td><td>252</td><td>K562</td><td>7.763871</td><td>0.10705183</td></tr>\n",
       "\t<tr><th scope=row>Multiome10x_05_AACGGTAAGGTGAAAT-1</th><td>Multiome10x_05_AACGGTAAGGTGAAAT-1</td><td>2048</td><td>175</td><td>K562</td><td>7.624619</td><td>0.08544922</td></tr>\n",
       "\t<tr><th scope=row>⋮</th><td>⋮</td><td>⋮</td><td>⋮</td><td>⋮</td><td>⋮</td><td>⋮</td></tr>\n",
       "\t<tr><th scope=row>Multiome10x_06_TTGTGTGCAATGAAGC-1</th><td>Multiome10x_06_TTGTGTGCAATGAAGC-1</td><td>1921</td><td>127</td><td>K562</td><td>7.560601</td><td>0.06611140</td></tr>\n",
       "\t<tr><th scope=row>Multiome10x_06_TTGTTCCCAAGGTATA-1</th><td>Multiome10x_06_TTGTTCCCAAGGTATA-1</td><td>3460</td><td>273</td><td>K562</td><td>8.149024</td><td>0.07890173</td></tr>\n",
       "\t<tr><th scope=row>Multiome10x_06_TTGTTGCGTAATGGAA-1</th><td>Multiome10x_06_TTGTTGCGTAATGGAA-1</td><td>2259</td><td>140</td><td>K562</td><td>7.722678</td><td>0.06197432</td></tr>\n",
       "\t<tr><th scope=row>Multiome10x_06_TTGTTGCGTTGAGCCG-1</th><td>Multiome10x_06_TTGTTGCGTTGAGCCG-1</td><td>5453</td><td>471</td><td>K562</td><td>8.603921</td><td>0.08637447</td></tr>\n",
       "\t<tr><th scope=row>Multiome10x_06_TTGTTGTTCTAACTGA-1</th><td>Multiome10x_06_TTGTTGTTCTAACTGA-1</td><td>3139</td><td>237</td><td>K562</td><td>8.051660</td><td>0.07550175</td></tr>\n",
       "\t<tr><th scope=row>Multiome10x_06_TTTAAGCCAAGTGTTT-1</th><td>Multiome10x_06_TTTAAGCCAAGTGTTT-1</td><td>1246</td><td>131</td><td>K562</td><td>7.127694</td><td>0.10513644</td></tr>\n",
       "\t<tr><th scope=row>Multiome10x_06_TTTACGAAGAGAGGCT-1</th><td>Multiome10x_06_TTTACGAAGAGAGGCT-1</td><td>2027</td><td>198</td><td>K562</td><td>7.614312</td><td>0.09768130</td></tr>\n",
       "\t<tr><th scope=row>Multiome10x_06_TTTACGAAGGCTAAGA-1</th><td>Multiome10x_06_TTTACGAAGGCTAAGA-1</td><td>2681</td><td>185</td><td>K562</td><td>7.893945</td><td>0.06900410</td></tr>\n",
       "\t<tr><th scope=row>Multiome10x_06_TTTACGCGTCCGTGAG-1</th><td>Multiome10x_06_TTTACGCGTCCGTGAG-1</td><td>3239</td><td>191</td><td>K562</td><td>8.083020</td><td>0.05896882</td></tr>\n",
       "\t<tr><th scope=row>Multiome10x_06_TTTAGCAAGGGTTATC-1</th><td>Multiome10x_06_TTTAGCAAGGGTTATC-1</td><td>2099</td><td>219</td><td>K562</td><td>7.649216</td><td>0.10433540</td></tr>\n",
       "\t<tr><th scope=row>Multiome10x_06_TTTAGGATCCAGGTTG-1</th><td>Multiome10x_06_TTTAGGATCCAGGTTG-1</td><td>2486</td><td>236</td><td>K562</td><td>7.818430</td><td>0.09493162</td></tr>\n",
       "\t<tr><th scope=row>Multiome10x_06_TTTAGGATCTCGCCCA-1</th><td>Multiome10x_06_TTTAGGATCTCGCCCA-1</td><td>2012</td><td>235</td><td>K562</td><td>7.606885</td><td>0.11679920</td></tr>\n",
       "\t<tr><th scope=row>Multiome10x_06_TTTCACCCACAGAAAC-1</th><td>Multiome10x_06_TTTCACCCACAGAAAC-1</td><td>2058</td><td>239</td><td>K562</td><td>7.629490</td><td>0.11613217</td></tr>\n",
       "\t<tr><th scope=row>Multiome10x_06_TTTCACCCAGGTTAAA-1</th><td>Multiome10x_06_TTTCACCCAGGTTAAA-1</td><td>2062</td><td>178</td><td>K562</td><td>7.631432</td><td>0.08632396</td></tr>\n",
       "\t<tr><th scope=row>Multiome10x_06_TTTCCACCAATTGACT-1</th><td>Multiome10x_06_TTTCCACCAATTGACT-1</td><td>2507</td><td>223</td><td>K562</td><td>7.826842</td><td>0.08895094</td></tr>\n",
       "\t<tr><th scope=row>Multiome10x_06_TTTCCGGGTACGTTTC-1</th><td>Multiome10x_06_TTTCCGGGTACGTTTC-1</td><td>2278</td><td>169</td><td>K562</td><td>7.731053</td><td>0.07418788</td></tr>\n",
       "\t<tr><th scope=row>Multiome10x_06_TTTCTCACAAGCGATG-1</th><td>Multiome10x_06_TTTCTCACAAGCGATG-1</td><td>1853</td><td>173</td><td>K562</td><td>7.524561</td><td>0.09336212</td></tr>\n",
       "\t<tr><th scope=row>Multiome10x_06_TTTCTCACAAGCTTAT-1</th><td>Multiome10x_06_TTTCTCACAAGCTTAT-1</td><td>2472</td><td>313</td><td>K562</td><td>7.812783</td><td>0.12661812</td></tr>\n",
       "\t<tr><th scope=row>Multiome10x_06_TTTCTTGCAATAACCT-1</th><td>Multiome10x_06_TTTCTTGCAATAACCT-1</td><td>2904</td><td>399</td><td>K562</td><td>7.973844</td><td>0.13739669</td></tr>\n",
       "\t<tr><th scope=row>Multiome10x_06_TTTCTTGCAATTGACT-1</th><td>Multiome10x_06_TTTCTTGCAATTGACT-1</td><td>2905</td><td>156</td><td>K562</td><td>7.974189</td><td>0.05370052</td></tr>\n",
       "\t<tr><th scope=row>Multiome10x_06_TTTCTTGCAGGCCATT-1</th><td>Multiome10x_06_TTTCTTGCAGGCCATT-1</td><td>2778</td><td>339</td><td>K562</td><td>7.929487</td><td>0.12203024</td></tr>\n",
       "\t<tr><th scope=row>Multiome10x_06_TTTGAGTCACTGGCTG-1</th><td>Multiome10x_06_TTTGAGTCACTGGCTG-1</td><td>3161</td><td>228</td><td>K562</td><td>8.058644</td><td>0.07212907</td></tr>\n",
       "\t<tr><th scope=row>Multiome10x_06_TTTGCGACATTGCGGT-1</th><td>Multiome10x_06_TTTGCGACATTGCGGT-1</td><td>2676</td><td>169</td><td>K562</td><td>7.892078</td><td>0.06315396</td></tr>\n",
       "\t<tr><th scope=row>Multiome10x_06_TTTGGCTGTAGTTGGC-1</th><td>Multiome10x_06_TTTGGCTGTAGTTGGC-1</td><td>2535</td><td>174</td><td>K562</td><td>7.837949</td><td>0.06863905</td></tr>\n",
       "\t<tr><th scope=row>Multiome10x_06_TTTGGTAAGCCTGATG-1</th><td>Multiome10x_06_TTTGGTAAGCCTGATG-1</td><td>3241</td><td>346</td><td>K562</td><td>8.083637</td><td>0.10675717</td></tr>\n",
       "\t<tr><th scope=row>Multiome10x_06_TTTGTGAAGAGAGGCT-1</th><td>Multiome10x_06_TTTGTGAAGAGAGGCT-1</td><td>3709</td><td>628</td><td>K562</td><td>8.218518</td><td>0.16931788</td></tr>\n",
       "\t<tr><th scope=row>Multiome10x_06_TTTGTGAAGCATTTCT-1</th><td>Multiome10x_06_TTTGTGAAGCATTTCT-1</td><td>2936</td><td>241</td><td>K562</td><td>7.984803</td><td>0.08208447</td></tr>\n",
       "\t<tr><th scope=row>Multiome10x_06_TTTGTGAAGTGAACGA-1</th><td>Multiome10x_06_TTTGTGAAGTGAACGA-1</td><td>2254</td><td>124</td><td>K562</td><td>7.720462</td><td>0.05501331</td></tr>\n",
       "\t<tr><th scope=row>Multiome10x_06_TTTGTGGCAGTTTGTG-1</th><td>Multiome10x_06_TTTGTGGCAGTTTGTG-1</td><td>2818</td><td>300</td><td>K562</td><td>7.943783</td><td>0.10645848</td></tr>\n",
       "\t<tr><th scope=row>Multiome10x_06_TTTGTGGCATTGCGTA-1</th><td>Multiome10x_06_TTTGTGGCATTGCGTA-1</td><td>1743</td><td>101</td><td>K562</td><td>7.463363</td><td>0.05794607</td></tr>\n",
       "</tbody>\n",
       "</table>\n"
      ],
      "text/latex": [
       "A data.frame: 2129 × 6\n",
       "\\begin{tabular}{r|llllll}\n",
       "  & cell & nUMI & nMito & celltype & log.nUMI & percent.mito\\\\\n",
       "  & <chr> & <dbl> & <dbl> & <chr> & <dbl> & <dbl>\\\\\n",
       "\\hline\n",
       "\tMultiome10x\\_05\\_AAACATGCATGCATAT-1 & Multiome10x\\_05\\_AAACATGCATGCATAT-1 & 1331 & 171 & K562 & 7.193686 & 0.12847483\\\\\n",
       "\tMultiome10x\\_05\\_AAACCGAAGCTGGCTA-1 & Multiome10x\\_05\\_AAACCGAAGCTGGCTA-1 & 1802 & 196 & K562 & 7.496652 & 0.10876804\\\\\n",
       "\tMultiome10x\\_05\\_AAACCGCGTTGCGCGA-1 & Multiome10x\\_05\\_AAACCGCGTTGCGCGA-1 & 2296 & 305 & K562 & 7.738924 & 0.13283972\\\\\n",
       "\tMultiome10x\\_05\\_AAACGGATCTAATTGG-1 & Multiome10x\\_05\\_AAACGGATCTAATTGG-1 & 2007 & 186 & K562 & 7.604396 & 0.09267564\\\\\n",
       "\tMultiome10x\\_05\\_AAAGCAAGTACCGTAA-1 & Multiome10x\\_05\\_AAAGCAAGTACCGTAA-1 & 1207 & 230 & K562 & 7.095893 & 0.19055510\\\\\n",
       "\tMultiome10x\\_05\\_AAAGCAAGTGAGGTAG-1 & Multiome10x\\_05\\_AAAGCAAGTGAGGTAG-1 & 6917 & 523 & K562 & 8.841737 & 0.07561081\\\\\n",
       "\tMultiome10x\\_05\\_AAAGCCCGTTTCAGGA-1 & Multiome10x\\_05\\_AAAGCCCGTTTCAGGA-1 & 1852 & 423 & K562 & 7.524021 & 0.22840173\\\\\n",
       "\tMultiome10x\\_05\\_AAAGGAGCATGAGCAG-1 & Multiome10x\\_05\\_AAAGGAGCATGAGCAG-1 & 1871 & 252 & K562 & 7.534228 & 0.13468733\\\\\n",
       "\tMultiome10x\\_05\\_AAAGGTTAGGACAATG-1 & Multiome10x\\_05\\_AAAGGTTAGGACAATG-1 & 1409 & 117 & K562 & 7.250636 & 0.08303762\\\\\n",
       "\tMultiome10x\\_05\\_AAATCCGGTACAAAGA-1 & Multiome10x\\_05\\_AAATCCGGTACAAAGA-1 & 3851 & 292 & K562 & 8.256088 & 0.07582446\\\\\n",
       "\tMultiome10x\\_05\\_AAATCCGGTCCAAATG-1 & Multiome10x\\_05\\_AAATCCGGTCCAAATG-1 & 2729 & 194 & K562 & 7.911691 & 0.07108831\\\\\n",
       "\tMultiome10x\\_05\\_AAATCCGGTGGGTACT-1 & Multiome10x\\_05\\_AAATCCGGTGGGTACT-1 & 2210 & 178 & K562 & 7.700748 & 0.08054299\\\\\n",
       "\tMultiome10x\\_05\\_AAATGGCCAGTTAGCC-1 & Multiome10x\\_05\\_AAATGGCCAGTTAGCC-1 & 2715 & 260 & K562 & 7.906547 & 0.09576427\\\\\n",
       "\tMultiome10x\\_05\\_AACAAAGGTAACCTAG-1 & Multiome10x\\_05\\_AACAAAGGTAACCTAG-1 & 1984 & 125 & K562 & 7.592870 & 0.06300403\\\\\n",
       "\tMultiome10x\\_05\\_AACAAGCCAACTGGGA-1 & Multiome10x\\_05\\_AACAAGCCAACTGGGA-1 & 1078 &  95 & K562 & 6.982863 & 0.08812616\\\\\n",
       "\tMultiome10x\\_05\\_AACAGATAGATGCCTG-1 & Multiome10x\\_05\\_AACAGATAGATGCCTG-1 & 2519 & 189 & K562 & 7.831617 & 0.07502977\\\\\n",
       "\tMultiome10x\\_05\\_AACAGATAGTAACGAG-1 & Multiome10x\\_05\\_AACAGATAGTAACGAG-1 & 2428 & 210 & K562 & 7.794823 & 0.08649094\\\\\n",
       "\tMultiome10x\\_05\\_AACATAGCATAATGAG-1 & Multiome10x\\_05\\_AACATAGCATAATGAG-1 & 2831 & 335 & K562 & 7.948385 & 0.11833274\\\\\n",
       "\tMultiome10x\\_05\\_AACATCATCATGACCG-1 & Multiome10x\\_05\\_AACATCATCATGACCG-1 & 2018 & 146 & K562 & 7.609862 & 0.07234886\\\\\n",
       "\tMultiome10x\\_05\\_AACATCATCCGGGACT-1 & Multiome10x\\_05\\_AACATCATCCGGGACT-1 & 2947 & 262 & K562 & 7.988543 & 0.08890397\\\\\n",
       "\tMultiome10x\\_05\\_AACATTGTCCTCACAC-1 & Multiome10x\\_05\\_AACATTGTCCTCACAC-1 & 1981 & 201 & K562 & 7.591357 & 0.10146391\\\\\n",
       "\tMultiome10x\\_05\\_AACCCGCAGAAGCTAG-1 & Multiome10x\\_05\\_AACCCGCAGAAGCTAG-1 & 2465 & 203 & K562 & 7.809947 & 0.08235294\\\\\n",
       "\tMultiome10x\\_05\\_AACCGGCTCAATGACC-1 & Multiome10x\\_05\\_AACCGGCTCAATGACC-1 & 2497 & 284 & K562 & 7.822845 & 0.11373648\\\\\n",
       "\tMultiome10x\\_05\\_AACCTCCTCCTGGTCT-1 & Multiome10x\\_05\\_AACCTCCTCCTGGTCT-1 & 2185 & 212 & K562 & 7.689371 & 0.09702517\\\\\n",
       "\tMultiome10x\\_05\\_AACCTTAAGCACGTTG-1 & Multiome10x\\_05\\_AACCTTAAGCACGTTG-1 & 2044 & 195 & K562 & 7.622664 & 0.09540117\\\\\n",
       "\tMultiome10x\\_05\\_AACCTTGCAGTTATCG-1 & Multiome10x\\_05\\_AACCTTGCAGTTATCG-1 & 1556 & 105 & K562 & 7.349874 & 0.06748072\\\\\n",
       "\tMultiome10x\\_05\\_AACGACAAGATGCCTG-1 & Multiome10x\\_05\\_AACGACAAGATGCCTG-1 & 2505 & 229 & K562 & 7.826044 & 0.09141717\\\\\n",
       "\tMultiome10x\\_05\\_AACGCCCAGGAGTAAT-1 & Multiome10x\\_05\\_AACGCCCAGGAGTAAT-1 & 2106 & 224 & K562 & 7.652546 & 0.10636277\\\\\n",
       "\tMultiome10x\\_05\\_AACGCTAGTTCCTGAT-1 & Multiome10x\\_05\\_AACGCTAGTTCCTGAT-1 & 2354 & 252 & K562 & 7.763871 & 0.10705183\\\\\n",
       "\tMultiome10x\\_05\\_AACGGTAAGGTGAAAT-1 & Multiome10x\\_05\\_AACGGTAAGGTGAAAT-1 & 2048 & 175 & K562 & 7.624619 & 0.08544922\\\\\n",
       "\t⋮ & ⋮ & ⋮ & ⋮ & ⋮ & ⋮ & ⋮\\\\\n",
       "\tMultiome10x\\_06\\_TTGTGTGCAATGAAGC-1 & Multiome10x\\_06\\_TTGTGTGCAATGAAGC-1 & 1921 & 127 & K562 & 7.560601 & 0.06611140\\\\\n",
       "\tMultiome10x\\_06\\_TTGTTCCCAAGGTATA-1 & Multiome10x\\_06\\_TTGTTCCCAAGGTATA-1 & 3460 & 273 & K562 & 8.149024 & 0.07890173\\\\\n",
       "\tMultiome10x\\_06\\_TTGTTGCGTAATGGAA-1 & Multiome10x\\_06\\_TTGTTGCGTAATGGAA-1 & 2259 & 140 & K562 & 7.722678 & 0.06197432\\\\\n",
       "\tMultiome10x\\_06\\_TTGTTGCGTTGAGCCG-1 & Multiome10x\\_06\\_TTGTTGCGTTGAGCCG-1 & 5453 & 471 & K562 & 8.603921 & 0.08637447\\\\\n",
       "\tMultiome10x\\_06\\_TTGTTGTTCTAACTGA-1 & Multiome10x\\_06\\_TTGTTGTTCTAACTGA-1 & 3139 & 237 & K562 & 8.051660 & 0.07550175\\\\\n",
       "\tMultiome10x\\_06\\_TTTAAGCCAAGTGTTT-1 & Multiome10x\\_06\\_TTTAAGCCAAGTGTTT-1 & 1246 & 131 & K562 & 7.127694 & 0.10513644\\\\\n",
       "\tMultiome10x\\_06\\_TTTACGAAGAGAGGCT-1 & Multiome10x\\_06\\_TTTACGAAGAGAGGCT-1 & 2027 & 198 & K562 & 7.614312 & 0.09768130\\\\\n",
       "\tMultiome10x\\_06\\_TTTACGAAGGCTAAGA-1 & Multiome10x\\_06\\_TTTACGAAGGCTAAGA-1 & 2681 & 185 & K562 & 7.893945 & 0.06900410\\\\\n",
       "\tMultiome10x\\_06\\_TTTACGCGTCCGTGAG-1 & Multiome10x\\_06\\_TTTACGCGTCCGTGAG-1 & 3239 & 191 & K562 & 8.083020 & 0.05896882\\\\\n",
       "\tMultiome10x\\_06\\_TTTAGCAAGGGTTATC-1 & Multiome10x\\_06\\_TTTAGCAAGGGTTATC-1 & 2099 & 219 & K562 & 7.649216 & 0.10433540\\\\\n",
       "\tMultiome10x\\_06\\_TTTAGGATCCAGGTTG-1 & Multiome10x\\_06\\_TTTAGGATCCAGGTTG-1 & 2486 & 236 & K562 & 7.818430 & 0.09493162\\\\\n",
       "\tMultiome10x\\_06\\_TTTAGGATCTCGCCCA-1 & Multiome10x\\_06\\_TTTAGGATCTCGCCCA-1 & 2012 & 235 & K562 & 7.606885 & 0.11679920\\\\\n",
       "\tMultiome10x\\_06\\_TTTCACCCACAGAAAC-1 & Multiome10x\\_06\\_TTTCACCCACAGAAAC-1 & 2058 & 239 & K562 & 7.629490 & 0.11613217\\\\\n",
       "\tMultiome10x\\_06\\_TTTCACCCAGGTTAAA-1 & Multiome10x\\_06\\_TTTCACCCAGGTTAAA-1 & 2062 & 178 & K562 & 7.631432 & 0.08632396\\\\\n",
       "\tMultiome10x\\_06\\_TTTCCACCAATTGACT-1 & Multiome10x\\_06\\_TTTCCACCAATTGACT-1 & 2507 & 223 & K562 & 7.826842 & 0.08895094\\\\\n",
       "\tMultiome10x\\_06\\_TTTCCGGGTACGTTTC-1 & Multiome10x\\_06\\_TTTCCGGGTACGTTTC-1 & 2278 & 169 & K562 & 7.731053 & 0.07418788\\\\\n",
       "\tMultiome10x\\_06\\_TTTCTCACAAGCGATG-1 & Multiome10x\\_06\\_TTTCTCACAAGCGATG-1 & 1853 & 173 & K562 & 7.524561 & 0.09336212\\\\\n",
       "\tMultiome10x\\_06\\_TTTCTCACAAGCTTAT-1 & Multiome10x\\_06\\_TTTCTCACAAGCTTAT-1 & 2472 & 313 & K562 & 7.812783 & 0.12661812\\\\\n",
       "\tMultiome10x\\_06\\_TTTCTTGCAATAACCT-1 & Multiome10x\\_06\\_TTTCTTGCAATAACCT-1 & 2904 & 399 & K562 & 7.973844 & 0.13739669\\\\\n",
       "\tMultiome10x\\_06\\_TTTCTTGCAATTGACT-1 & Multiome10x\\_06\\_TTTCTTGCAATTGACT-1 & 2905 & 156 & K562 & 7.974189 & 0.05370052\\\\\n",
       "\tMultiome10x\\_06\\_TTTCTTGCAGGCCATT-1 & Multiome10x\\_06\\_TTTCTTGCAGGCCATT-1 & 2778 & 339 & K562 & 7.929487 & 0.12203024\\\\\n",
       "\tMultiome10x\\_06\\_TTTGAGTCACTGGCTG-1 & Multiome10x\\_06\\_TTTGAGTCACTGGCTG-1 & 3161 & 228 & K562 & 8.058644 & 0.07212907\\\\\n",
       "\tMultiome10x\\_06\\_TTTGCGACATTGCGGT-1 & Multiome10x\\_06\\_TTTGCGACATTGCGGT-1 & 2676 & 169 & K562 & 7.892078 & 0.06315396\\\\\n",
       "\tMultiome10x\\_06\\_TTTGGCTGTAGTTGGC-1 & Multiome10x\\_06\\_TTTGGCTGTAGTTGGC-1 & 2535 & 174 & K562 & 7.837949 & 0.06863905\\\\\n",
       "\tMultiome10x\\_06\\_TTTGGTAAGCCTGATG-1 & Multiome10x\\_06\\_TTTGGTAAGCCTGATG-1 & 3241 & 346 & K562 & 8.083637 & 0.10675717\\\\\n",
       "\tMultiome10x\\_06\\_TTTGTGAAGAGAGGCT-1 & Multiome10x\\_06\\_TTTGTGAAGAGAGGCT-1 & 3709 & 628 & K562 & 8.218518 & 0.16931788\\\\\n",
       "\tMultiome10x\\_06\\_TTTGTGAAGCATTTCT-1 & Multiome10x\\_06\\_TTTGTGAAGCATTTCT-1 & 2936 & 241 & K562 & 7.984803 & 0.08208447\\\\\n",
       "\tMultiome10x\\_06\\_TTTGTGAAGTGAACGA-1 & Multiome10x\\_06\\_TTTGTGAAGTGAACGA-1 & 2254 & 124 & K562 & 7.720462 & 0.05501331\\\\\n",
       "\tMultiome10x\\_06\\_TTTGTGGCAGTTTGTG-1 & Multiome10x\\_06\\_TTTGTGGCAGTTTGTG-1 & 2818 & 300 & K562 & 7.943783 & 0.10645848\\\\\n",
       "\tMultiome10x\\_06\\_TTTGTGGCATTGCGTA-1 & Multiome10x\\_06\\_TTTGTGGCATTGCGTA-1 & 1743 & 101 & K562 & 7.463363 & 0.05794607\\\\\n",
       "\\end{tabular}\n"
      ],
      "text/markdown": [
       "\n",
       "A data.frame: 2129 × 6\n",
       "\n",
       "| <!--/--> | cell &lt;chr&gt; | nUMI &lt;dbl&gt; | nMito &lt;dbl&gt; | celltype &lt;chr&gt; | log.nUMI &lt;dbl&gt; | percent.mito &lt;dbl&gt; |\n",
       "|---|---|---|---|---|---|---|\n",
       "| Multiome10x_05_AAACATGCATGCATAT-1 | Multiome10x_05_AAACATGCATGCATAT-1 | 1331 | 171 | K562 | 7.193686 | 0.12847483 |\n",
       "| Multiome10x_05_AAACCGAAGCTGGCTA-1 | Multiome10x_05_AAACCGAAGCTGGCTA-1 | 1802 | 196 | K562 | 7.496652 | 0.10876804 |\n",
       "| Multiome10x_05_AAACCGCGTTGCGCGA-1 | Multiome10x_05_AAACCGCGTTGCGCGA-1 | 2296 | 305 | K562 | 7.738924 | 0.13283972 |\n",
       "| Multiome10x_05_AAACGGATCTAATTGG-1 | Multiome10x_05_AAACGGATCTAATTGG-1 | 2007 | 186 | K562 | 7.604396 | 0.09267564 |\n",
       "| Multiome10x_05_AAAGCAAGTACCGTAA-1 | Multiome10x_05_AAAGCAAGTACCGTAA-1 | 1207 | 230 | K562 | 7.095893 | 0.19055510 |\n",
       "| Multiome10x_05_AAAGCAAGTGAGGTAG-1 | Multiome10x_05_AAAGCAAGTGAGGTAG-1 | 6917 | 523 | K562 | 8.841737 | 0.07561081 |\n",
       "| Multiome10x_05_AAAGCCCGTTTCAGGA-1 | Multiome10x_05_AAAGCCCGTTTCAGGA-1 | 1852 | 423 | K562 | 7.524021 | 0.22840173 |\n",
       "| Multiome10x_05_AAAGGAGCATGAGCAG-1 | Multiome10x_05_AAAGGAGCATGAGCAG-1 | 1871 | 252 | K562 | 7.534228 | 0.13468733 |\n",
       "| Multiome10x_05_AAAGGTTAGGACAATG-1 | Multiome10x_05_AAAGGTTAGGACAATG-1 | 1409 | 117 | K562 | 7.250636 | 0.08303762 |\n",
       "| Multiome10x_05_AAATCCGGTACAAAGA-1 | Multiome10x_05_AAATCCGGTACAAAGA-1 | 3851 | 292 | K562 | 8.256088 | 0.07582446 |\n",
       "| Multiome10x_05_AAATCCGGTCCAAATG-1 | Multiome10x_05_AAATCCGGTCCAAATG-1 | 2729 | 194 | K562 | 7.911691 | 0.07108831 |\n",
       "| Multiome10x_05_AAATCCGGTGGGTACT-1 | Multiome10x_05_AAATCCGGTGGGTACT-1 | 2210 | 178 | K562 | 7.700748 | 0.08054299 |\n",
       "| Multiome10x_05_AAATGGCCAGTTAGCC-1 | Multiome10x_05_AAATGGCCAGTTAGCC-1 | 2715 | 260 | K562 | 7.906547 | 0.09576427 |\n",
       "| Multiome10x_05_AACAAAGGTAACCTAG-1 | Multiome10x_05_AACAAAGGTAACCTAG-1 | 1984 | 125 | K562 | 7.592870 | 0.06300403 |\n",
       "| Multiome10x_05_AACAAGCCAACTGGGA-1 | Multiome10x_05_AACAAGCCAACTGGGA-1 | 1078 |  95 | K562 | 6.982863 | 0.08812616 |\n",
       "| Multiome10x_05_AACAGATAGATGCCTG-1 | Multiome10x_05_AACAGATAGATGCCTG-1 | 2519 | 189 | K562 | 7.831617 | 0.07502977 |\n",
       "| Multiome10x_05_AACAGATAGTAACGAG-1 | Multiome10x_05_AACAGATAGTAACGAG-1 | 2428 | 210 | K562 | 7.794823 | 0.08649094 |\n",
       "| Multiome10x_05_AACATAGCATAATGAG-1 | Multiome10x_05_AACATAGCATAATGAG-1 | 2831 | 335 | K562 | 7.948385 | 0.11833274 |\n",
       "| Multiome10x_05_AACATCATCATGACCG-1 | Multiome10x_05_AACATCATCATGACCG-1 | 2018 | 146 | K562 | 7.609862 | 0.07234886 |\n",
       "| Multiome10x_05_AACATCATCCGGGACT-1 | Multiome10x_05_AACATCATCCGGGACT-1 | 2947 | 262 | K562 | 7.988543 | 0.08890397 |\n",
       "| Multiome10x_05_AACATTGTCCTCACAC-1 | Multiome10x_05_AACATTGTCCTCACAC-1 | 1981 | 201 | K562 | 7.591357 | 0.10146391 |\n",
       "| Multiome10x_05_AACCCGCAGAAGCTAG-1 | Multiome10x_05_AACCCGCAGAAGCTAG-1 | 2465 | 203 | K562 | 7.809947 | 0.08235294 |\n",
       "| Multiome10x_05_AACCGGCTCAATGACC-1 | Multiome10x_05_AACCGGCTCAATGACC-1 | 2497 | 284 | K562 | 7.822845 | 0.11373648 |\n",
       "| Multiome10x_05_AACCTCCTCCTGGTCT-1 | Multiome10x_05_AACCTCCTCCTGGTCT-1 | 2185 | 212 | K562 | 7.689371 | 0.09702517 |\n",
       "| Multiome10x_05_AACCTTAAGCACGTTG-1 | Multiome10x_05_AACCTTAAGCACGTTG-1 | 2044 | 195 | K562 | 7.622664 | 0.09540117 |\n",
       "| Multiome10x_05_AACCTTGCAGTTATCG-1 | Multiome10x_05_AACCTTGCAGTTATCG-1 | 1556 | 105 | K562 | 7.349874 | 0.06748072 |\n",
       "| Multiome10x_05_AACGACAAGATGCCTG-1 | Multiome10x_05_AACGACAAGATGCCTG-1 | 2505 | 229 | K562 | 7.826044 | 0.09141717 |\n",
       "| Multiome10x_05_AACGCCCAGGAGTAAT-1 | Multiome10x_05_AACGCCCAGGAGTAAT-1 | 2106 | 224 | K562 | 7.652546 | 0.10636277 |\n",
       "| Multiome10x_05_AACGCTAGTTCCTGAT-1 | Multiome10x_05_AACGCTAGTTCCTGAT-1 | 2354 | 252 | K562 | 7.763871 | 0.10705183 |\n",
       "| Multiome10x_05_AACGGTAAGGTGAAAT-1 | Multiome10x_05_AACGGTAAGGTGAAAT-1 | 2048 | 175 | K562 | 7.624619 | 0.08544922 |\n",
       "| ⋮ | ⋮ | ⋮ | ⋮ | ⋮ | ⋮ | ⋮ |\n",
       "| Multiome10x_06_TTGTGTGCAATGAAGC-1 | Multiome10x_06_TTGTGTGCAATGAAGC-1 | 1921 | 127 | K562 | 7.560601 | 0.06611140 |\n",
       "| Multiome10x_06_TTGTTCCCAAGGTATA-1 | Multiome10x_06_TTGTTCCCAAGGTATA-1 | 3460 | 273 | K562 | 8.149024 | 0.07890173 |\n",
       "| Multiome10x_06_TTGTTGCGTAATGGAA-1 | Multiome10x_06_TTGTTGCGTAATGGAA-1 | 2259 | 140 | K562 | 7.722678 | 0.06197432 |\n",
       "| Multiome10x_06_TTGTTGCGTTGAGCCG-1 | Multiome10x_06_TTGTTGCGTTGAGCCG-1 | 5453 | 471 | K562 | 8.603921 | 0.08637447 |\n",
       "| Multiome10x_06_TTGTTGTTCTAACTGA-1 | Multiome10x_06_TTGTTGTTCTAACTGA-1 | 3139 | 237 | K562 | 8.051660 | 0.07550175 |\n",
       "| Multiome10x_06_TTTAAGCCAAGTGTTT-1 | Multiome10x_06_TTTAAGCCAAGTGTTT-1 | 1246 | 131 | K562 | 7.127694 | 0.10513644 |\n",
       "| Multiome10x_06_TTTACGAAGAGAGGCT-1 | Multiome10x_06_TTTACGAAGAGAGGCT-1 | 2027 | 198 | K562 | 7.614312 | 0.09768130 |\n",
       "| Multiome10x_06_TTTACGAAGGCTAAGA-1 | Multiome10x_06_TTTACGAAGGCTAAGA-1 | 2681 | 185 | K562 | 7.893945 | 0.06900410 |\n",
       "| Multiome10x_06_TTTACGCGTCCGTGAG-1 | Multiome10x_06_TTTACGCGTCCGTGAG-1 | 3239 | 191 | K562 | 8.083020 | 0.05896882 |\n",
       "| Multiome10x_06_TTTAGCAAGGGTTATC-1 | Multiome10x_06_TTTAGCAAGGGTTATC-1 | 2099 | 219 | K562 | 7.649216 | 0.10433540 |\n",
       "| Multiome10x_06_TTTAGGATCCAGGTTG-1 | Multiome10x_06_TTTAGGATCCAGGTTG-1 | 2486 | 236 | K562 | 7.818430 | 0.09493162 |\n",
       "| Multiome10x_06_TTTAGGATCTCGCCCA-1 | Multiome10x_06_TTTAGGATCTCGCCCA-1 | 2012 | 235 | K562 | 7.606885 | 0.11679920 |\n",
       "| Multiome10x_06_TTTCACCCACAGAAAC-1 | Multiome10x_06_TTTCACCCACAGAAAC-1 | 2058 | 239 | K562 | 7.629490 | 0.11613217 |\n",
       "| Multiome10x_06_TTTCACCCAGGTTAAA-1 | Multiome10x_06_TTTCACCCAGGTTAAA-1 | 2062 | 178 | K562 | 7.631432 | 0.08632396 |\n",
       "| Multiome10x_06_TTTCCACCAATTGACT-1 | Multiome10x_06_TTTCCACCAATTGACT-1 | 2507 | 223 | K562 | 7.826842 | 0.08895094 |\n",
       "| Multiome10x_06_TTTCCGGGTACGTTTC-1 | Multiome10x_06_TTTCCGGGTACGTTTC-1 | 2278 | 169 | K562 | 7.731053 | 0.07418788 |\n",
       "| Multiome10x_06_TTTCTCACAAGCGATG-1 | Multiome10x_06_TTTCTCACAAGCGATG-1 | 1853 | 173 | K562 | 7.524561 | 0.09336212 |\n",
       "| Multiome10x_06_TTTCTCACAAGCTTAT-1 | Multiome10x_06_TTTCTCACAAGCTTAT-1 | 2472 | 313 | K562 | 7.812783 | 0.12661812 |\n",
       "| Multiome10x_06_TTTCTTGCAATAACCT-1 | Multiome10x_06_TTTCTTGCAATAACCT-1 | 2904 | 399 | K562 | 7.973844 | 0.13739669 |\n",
       "| Multiome10x_06_TTTCTTGCAATTGACT-1 | Multiome10x_06_TTTCTTGCAATTGACT-1 | 2905 | 156 | K562 | 7.974189 | 0.05370052 |\n",
       "| Multiome10x_06_TTTCTTGCAGGCCATT-1 | Multiome10x_06_TTTCTTGCAGGCCATT-1 | 2778 | 339 | K562 | 7.929487 | 0.12203024 |\n",
       "| Multiome10x_06_TTTGAGTCACTGGCTG-1 | Multiome10x_06_TTTGAGTCACTGGCTG-1 | 3161 | 228 | K562 | 8.058644 | 0.07212907 |\n",
       "| Multiome10x_06_TTTGCGACATTGCGGT-1 | Multiome10x_06_TTTGCGACATTGCGGT-1 | 2676 | 169 | K562 | 7.892078 | 0.06315396 |\n",
       "| Multiome10x_06_TTTGGCTGTAGTTGGC-1 | Multiome10x_06_TTTGGCTGTAGTTGGC-1 | 2535 | 174 | K562 | 7.837949 | 0.06863905 |\n",
       "| Multiome10x_06_TTTGGTAAGCCTGATG-1 | Multiome10x_06_TTTGGTAAGCCTGATG-1 | 3241 | 346 | K562 | 8.083637 | 0.10675717 |\n",
       "| Multiome10x_06_TTTGTGAAGAGAGGCT-1 | Multiome10x_06_TTTGTGAAGAGAGGCT-1 | 3709 | 628 | K562 | 8.218518 | 0.16931788 |\n",
       "| Multiome10x_06_TTTGTGAAGCATTTCT-1 | Multiome10x_06_TTTGTGAAGCATTTCT-1 | 2936 | 241 | K562 | 7.984803 | 0.08208447 |\n",
       "| Multiome10x_06_TTTGTGAAGTGAACGA-1 | Multiome10x_06_TTTGTGAAGTGAACGA-1 | 2254 | 124 | K562 | 7.720462 | 0.05501331 |\n",
       "| Multiome10x_06_TTTGTGGCAGTTTGTG-1 | Multiome10x_06_TTTGTGGCAGTTTGTG-1 | 2818 | 300 | K562 | 7.943783 | 0.10645848 |\n",
       "| Multiome10x_06_TTTGTGGCATTGCGTA-1 | Multiome10x_06_TTTGTGGCATTGCGTA-1 | 1743 | 101 | K562 | 7.463363 | 0.05794607 |\n",
       "\n"
      ],
      "text/plain": [
       "                                  cell                              nUMI nMito\n",
       "Multiome10x_05_AAACATGCATGCATAT-1 Multiome10x_05_AAACATGCATGCATAT-1 1331 171  \n",
       "Multiome10x_05_AAACCGAAGCTGGCTA-1 Multiome10x_05_AAACCGAAGCTGGCTA-1 1802 196  \n",
       "Multiome10x_05_AAACCGCGTTGCGCGA-1 Multiome10x_05_AAACCGCGTTGCGCGA-1 2296 305  \n",
       "Multiome10x_05_AAACGGATCTAATTGG-1 Multiome10x_05_AAACGGATCTAATTGG-1 2007 186  \n",
       "Multiome10x_05_AAAGCAAGTACCGTAA-1 Multiome10x_05_AAAGCAAGTACCGTAA-1 1207 230  \n",
       "Multiome10x_05_AAAGCAAGTGAGGTAG-1 Multiome10x_05_AAAGCAAGTGAGGTAG-1 6917 523  \n",
       "Multiome10x_05_AAAGCCCGTTTCAGGA-1 Multiome10x_05_AAAGCCCGTTTCAGGA-1 1852 423  \n",
       "Multiome10x_05_AAAGGAGCATGAGCAG-1 Multiome10x_05_AAAGGAGCATGAGCAG-1 1871 252  \n",
       "Multiome10x_05_AAAGGTTAGGACAATG-1 Multiome10x_05_AAAGGTTAGGACAATG-1 1409 117  \n",
       "Multiome10x_05_AAATCCGGTACAAAGA-1 Multiome10x_05_AAATCCGGTACAAAGA-1 3851 292  \n",
       "Multiome10x_05_AAATCCGGTCCAAATG-1 Multiome10x_05_AAATCCGGTCCAAATG-1 2729 194  \n",
       "Multiome10x_05_AAATCCGGTGGGTACT-1 Multiome10x_05_AAATCCGGTGGGTACT-1 2210 178  \n",
       "Multiome10x_05_AAATGGCCAGTTAGCC-1 Multiome10x_05_AAATGGCCAGTTAGCC-1 2715 260  \n",
       "Multiome10x_05_AACAAAGGTAACCTAG-1 Multiome10x_05_AACAAAGGTAACCTAG-1 1984 125  \n",
       "Multiome10x_05_AACAAGCCAACTGGGA-1 Multiome10x_05_AACAAGCCAACTGGGA-1 1078  95  \n",
       "Multiome10x_05_AACAGATAGATGCCTG-1 Multiome10x_05_AACAGATAGATGCCTG-1 2519 189  \n",
       "Multiome10x_05_AACAGATAGTAACGAG-1 Multiome10x_05_AACAGATAGTAACGAG-1 2428 210  \n",
       "Multiome10x_05_AACATAGCATAATGAG-1 Multiome10x_05_AACATAGCATAATGAG-1 2831 335  \n",
       "Multiome10x_05_AACATCATCATGACCG-1 Multiome10x_05_AACATCATCATGACCG-1 2018 146  \n",
       "Multiome10x_05_AACATCATCCGGGACT-1 Multiome10x_05_AACATCATCCGGGACT-1 2947 262  \n",
       "Multiome10x_05_AACATTGTCCTCACAC-1 Multiome10x_05_AACATTGTCCTCACAC-1 1981 201  \n",
       "Multiome10x_05_AACCCGCAGAAGCTAG-1 Multiome10x_05_AACCCGCAGAAGCTAG-1 2465 203  \n",
       "Multiome10x_05_AACCGGCTCAATGACC-1 Multiome10x_05_AACCGGCTCAATGACC-1 2497 284  \n",
       "Multiome10x_05_AACCTCCTCCTGGTCT-1 Multiome10x_05_AACCTCCTCCTGGTCT-1 2185 212  \n",
       "Multiome10x_05_AACCTTAAGCACGTTG-1 Multiome10x_05_AACCTTAAGCACGTTG-1 2044 195  \n",
       "Multiome10x_05_AACCTTGCAGTTATCG-1 Multiome10x_05_AACCTTGCAGTTATCG-1 1556 105  \n",
       "Multiome10x_05_AACGACAAGATGCCTG-1 Multiome10x_05_AACGACAAGATGCCTG-1 2505 229  \n",
       "Multiome10x_05_AACGCCCAGGAGTAAT-1 Multiome10x_05_AACGCCCAGGAGTAAT-1 2106 224  \n",
       "Multiome10x_05_AACGCTAGTTCCTGAT-1 Multiome10x_05_AACGCTAGTTCCTGAT-1 2354 252  \n",
       "Multiome10x_05_AACGGTAAGGTGAAAT-1 Multiome10x_05_AACGGTAAGGTGAAAT-1 2048 175  \n",
       "⋮                                 ⋮                                 ⋮    ⋮    \n",
       "Multiome10x_06_TTGTGTGCAATGAAGC-1 Multiome10x_06_TTGTGTGCAATGAAGC-1 1921 127  \n",
       "Multiome10x_06_TTGTTCCCAAGGTATA-1 Multiome10x_06_TTGTTCCCAAGGTATA-1 3460 273  \n",
       "Multiome10x_06_TTGTTGCGTAATGGAA-1 Multiome10x_06_TTGTTGCGTAATGGAA-1 2259 140  \n",
       "Multiome10x_06_TTGTTGCGTTGAGCCG-1 Multiome10x_06_TTGTTGCGTTGAGCCG-1 5453 471  \n",
       "Multiome10x_06_TTGTTGTTCTAACTGA-1 Multiome10x_06_TTGTTGTTCTAACTGA-1 3139 237  \n",
       "Multiome10x_06_TTTAAGCCAAGTGTTT-1 Multiome10x_06_TTTAAGCCAAGTGTTT-1 1246 131  \n",
       "Multiome10x_06_TTTACGAAGAGAGGCT-1 Multiome10x_06_TTTACGAAGAGAGGCT-1 2027 198  \n",
       "Multiome10x_06_TTTACGAAGGCTAAGA-1 Multiome10x_06_TTTACGAAGGCTAAGA-1 2681 185  \n",
       "Multiome10x_06_TTTACGCGTCCGTGAG-1 Multiome10x_06_TTTACGCGTCCGTGAG-1 3239 191  \n",
       "Multiome10x_06_TTTAGCAAGGGTTATC-1 Multiome10x_06_TTTAGCAAGGGTTATC-1 2099 219  \n",
       "Multiome10x_06_TTTAGGATCCAGGTTG-1 Multiome10x_06_TTTAGGATCCAGGTTG-1 2486 236  \n",
       "Multiome10x_06_TTTAGGATCTCGCCCA-1 Multiome10x_06_TTTAGGATCTCGCCCA-1 2012 235  \n",
       "Multiome10x_06_TTTCACCCACAGAAAC-1 Multiome10x_06_TTTCACCCACAGAAAC-1 2058 239  \n",
       "Multiome10x_06_TTTCACCCAGGTTAAA-1 Multiome10x_06_TTTCACCCAGGTTAAA-1 2062 178  \n",
       "Multiome10x_06_TTTCCACCAATTGACT-1 Multiome10x_06_TTTCCACCAATTGACT-1 2507 223  \n",
       "Multiome10x_06_TTTCCGGGTACGTTTC-1 Multiome10x_06_TTTCCGGGTACGTTTC-1 2278 169  \n",
       "Multiome10x_06_TTTCTCACAAGCGATG-1 Multiome10x_06_TTTCTCACAAGCGATG-1 1853 173  \n",
       "Multiome10x_06_TTTCTCACAAGCTTAT-1 Multiome10x_06_TTTCTCACAAGCTTAT-1 2472 313  \n",
       "Multiome10x_06_TTTCTTGCAATAACCT-1 Multiome10x_06_TTTCTTGCAATAACCT-1 2904 399  \n",
       "Multiome10x_06_TTTCTTGCAATTGACT-1 Multiome10x_06_TTTCTTGCAATTGACT-1 2905 156  \n",
       "Multiome10x_06_TTTCTTGCAGGCCATT-1 Multiome10x_06_TTTCTTGCAGGCCATT-1 2778 339  \n",
       "Multiome10x_06_TTTGAGTCACTGGCTG-1 Multiome10x_06_TTTGAGTCACTGGCTG-1 3161 228  \n",
       "Multiome10x_06_TTTGCGACATTGCGGT-1 Multiome10x_06_TTTGCGACATTGCGGT-1 2676 169  \n",
       "Multiome10x_06_TTTGGCTGTAGTTGGC-1 Multiome10x_06_TTTGGCTGTAGTTGGC-1 2535 174  \n",
       "Multiome10x_06_TTTGGTAAGCCTGATG-1 Multiome10x_06_TTTGGTAAGCCTGATG-1 3241 346  \n",
       "Multiome10x_06_TTTGTGAAGAGAGGCT-1 Multiome10x_06_TTTGTGAAGAGAGGCT-1 3709 628  \n",
       "Multiome10x_06_TTTGTGAAGCATTTCT-1 Multiome10x_06_TTTGTGAAGCATTTCT-1 2936 241  \n",
       "Multiome10x_06_TTTGTGAAGTGAACGA-1 Multiome10x_06_TTTGTGAAGTGAACGA-1 2254 124  \n",
       "Multiome10x_06_TTTGTGGCAGTTTGTG-1 Multiome10x_06_TTTGTGGCAGTTTGTG-1 2818 300  \n",
       "Multiome10x_06_TTTGTGGCATTGCGTA-1 Multiome10x_06_TTTGTGGCATTGCGTA-1 1743 101  \n",
       "                                  celltype log.nUMI percent.mito\n",
       "Multiome10x_05_AAACATGCATGCATAT-1 K562     7.193686 0.12847483  \n",
       "Multiome10x_05_AAACCGAAGCTGGCTA-1 K562     7.496652 0.10876804  \n",
       "Multiome10x_05_AAACCGCGTTGCGCGA-1 K562     7.738924 0.13283972  \n",
       "Multiome10x_05_AAACGGATCTAATTGG-1 K562     7.604396 0.09267564  \n",
       "Multiome10x_05_AAAGCAAGTACCGTAA-1 K562     7.095893 0.19055510  \n",
       "Multiome10x_05_AAAGCAAGTGAGGTAG-1 K562     8.841737 0.07561081  \n",
       "Multiome10x_05_AAAGCCCGTTTCAGGA-1 K562     7.524021 0.22840173  \n",
       "Multiome10x_05_AAAGGAGCATGAGCAG-1 K562     7.534228 0.13468733  \n",
       "Multiome10x_05_AAAGGTTAGGACAATG-1 K562     7.250636 0.08303762  \n",
       "Multiome10x_05_AAATCCGGTACAAAGA-1 K562     8.256088 0.07582446  \n",
       "Multiome10x_05_AAATCCGGTCCAAATG-1 K562     7.911691 0.07108831  \n",
       "Multiome10x_05_AAATCCGGTGGGTACT-1 K562     7.700748 0.08054299  \n",
       "Multiome10x_05_AAATGGCCAGTTAGCC-1 K562     7.906547 0.09576427  \n",
       "Multiome10x_05_AACAAAGGTAACCTAG-1 K562     7.592870 0.06300403  \n",
       "Multiome10x_05_AACAAGCCAACTGGGA-1 K562     6.982863 0.08812616  \n",
       "Multiome10x_05_AACAGATAGATGCCTG-1 K562     7.831617 0.07502977  \n",
       "Multiome10x_05_AACAGATAGTAACGAG-1 K562     7.794823 0.08649094  \n",
       "Multiome10x_05_AACATAGCATAATGAG-1 K562     7.948385 0.11833274  \n",
       "Multiome10x_05_AACATCATCATGACCG-1 K562     7.609862 0.07234886  \n",
       "Multiome10x_05_AACATCATCCGGGACT-1 K562     7.988543 0.08890397  \n",
       "Multiome10x_05_AACATTGTCCTCACAC-1 K562     7.591357 0.10146391  \n",
       "Multiome10x_05_AACCCGCAGAAGCTAG-1 K562     7.809947 0.08235294  \n",
       "Multiome10x_05_AACCGGCTCAATGACC-1 K562     7.822845 0.11373648  \n",
       "Multiome10x_05_AACCTCCTCCTGGTCT-1 K562     7.689371 0.09702517  \n",
       "Multiome10x_05_AACCTTAAGCACGTTG-1 K562     7.622664 0.09540117  \n",
       "Multiome10x_05_AACCTTGCAGTTATCG-1 K562     7.349874 0.06748072  \n",
       "Multiome10x_05_AACGACAAGATGCCTG-1 K562     7.826044 0.09141717  \n",
       "Multiome10x_05_AACGCCCAGGAGTAAT-1 K562     7.652546 0.10636277  \n",
       "Multiome10x_05_AACGCTAGTTCCTGAT-1 K562     7.763871 0.10705183  \n",
       "Multiome10x_05_AACGGTAAGGTGAAAT-1 K562     7.624619 0.08544922  \n",
       "⋮                                 ⋮        ⋮        ⋮           \n",
       "Multiome10x_06_TTGTGTGCAATGAAGC-1 K562     7.560601 0.06611140  \n",
       "Multiome10x_06_TTGTTCCCAAGGTATA-1 K562     8.149024 0.07890173  \n",
       "Multiome10x_06_TTGTTGCGTAATGGAA-1 K562     7.722678 0.06197432  \n",
       "Multiome10x_06_TTGTTGCGTTGAGCCG-1 K562     8.603921 0.08637447  \n",
       "Multiome10x_06_TTGTTGTTCTAACTGA-1 K562     8.051660 0.07550175  \n",
       "Multiome10x_06_TTTAAGCCAAGTGTTT-1 K562     7.127694 0.10513644  \n",
       "Multiome10x_06_TTTACGAAGAGAGGCT-1 K562     7.614312 0.09768130  \n",
       "Multiome10x_06_TTTACGAAGGCTAAGA-1 K562     7.893945 0.06900410  \n",
       "Multiome10x_06_TTTACGCGTCCGTGAG-1 K562     8.083020 0.05896882  \n",
       "Multiome10x_06_TTTAGCAAGGGTTATC-1 K562     7.649216 0.10433540  \n",
       "Multiome10x_06_TTTAGGATCCAGGTTG-1 K562     7.818430 0.09493162  \n",
       "Multiome10x_06_TTTAGGATCTCGCCCA-1 K562     7.606885 0.11679920  \n",
       "Multiome10x_06_TTTCACCCACAGAAAC-1 K562     7.629490 0.11613217  \n",
       "Multiome10x_06_TTTCACCCAGGTTAAA-1 K562     7.631432 0.08632396  \n",
       "Multiome10x_06_TTTCCACCAATTGACT-1 K562     7.826842 0.08895094  \n",
       "Multiome10x_06_TTTCCGGGTACGTTTC-1 K562     7.731053 0.07418788  \n",
       "Multiome10x_06_TTTCTCACAAGCGATG-1 K562     7.524561 0.09336212  \n",
       "Multiome10x_06_TTTCTCACAAGCTTAT-1 K562     7.812783 0.12661812  \n",
       "Multiome10x_06_TTTCTTGCAATAACCT-1 K562     7.973844 0.13739669  \n",
       "Multiome10x_06_TTTCTTGCAATTGACT-1 K562     7.974189 0.05370052  \n",
       "Multiome10x_06_TTTCTTGCAGGCCATT-1 K562     7.929487 0.12203024  \n",
       "Multiome10x_06_TTTGAGTCACTGGCTG-1 K562     8.058644 0.07212907  \n",
       "Multiome10x_06_TTTGCGACATTGCGGT-1 K562     7.892078 0.06315396  \n",
       "Multiome10x_06_TTTGGCTGTAGTTGGC-1 K562     7.837949 0.06863905  \n",
       "Multiome10x_06_TTTGGTAAGCCTGATG-1 K562     8.083637 0.10675717  \n",
       "Multiome10x_06_TTTGTGAAGAGAGGCT-1 K562     8.218518 0.16931788  \n",
       "Multiome10x_06_TTTGTGAAGCATTTCT-1 K562     7.984803 0.08208447  \n",
       "Multiome10x_06_TTTGTGAAGTGAACGA-1 K562     7.720462 0.05501331  \n",
       "Multiome10x_06_TTTGTGGCAGTTTGTG-1 K562     7.943783 0.10645848  \n",
       "Multiome10x_06_TTTGTGGCATTGCGTA-1 K562     7.463363 0.05794607  "
      ]
     },
     "metadata": {},
     "output_type": "display_data"
    }
   ],
   "source": [
    "meta.data = data.frame(cell = colnames(matrix.rna),\n",
    "                       nUMI = colSums(matrix.rna),\n",
    "                       nMito = colSums(matrix.rna[grep(\"MT-\",rownames(matrix.rna)),]),\n",
    "                       celltype = \"K562\")\n",
    "meta.data[,\"log.nUMI\"] = log(meta.data[,\"nUMI\"])\n",
    "meta.data[,\"percent.mito\"] = meta.data[,\"nMito\"] / meta.data[,\"nUMI\"]\n",
    "meta.data"
   ]
  },
  {
   "cell_type": "markdown",
   "id": "b823cb4a-3ce6-40b1-9a0d-d5d1e4aa3912",
   "metadata": {},
   "source": [
    "RUN SCENT prediction"
   ]
  },
  {
   "cell_type": "code",
   "execution_count": 14,
   "id": "f46765dc-9de5-4411-9288-40b59435f9fb",
   "metadata": {},
   "outputs": [],
   "source": [
    "RhpcBLASctl::blas_set_num_threads(1)\n",
    "SCENT_algorithm.modified = function (object, \n",
    "                                     # celltype, \n",
    "                                     # ncores, \n",
    "                                     # regr = \"poisson\", \n",
    "                                     # bin = TRUE) \n",
    "                                     regr = \"poisson\") {\n",
    "    res <- data.frame()\n",
    "    for (n in 1:nrow(object@peak.info)) {        \n",
    "        gene <- object@peak.info[n, 1]\n",
    "        this_peak <- object@peak.info[n, 2]\n",
    "        atac_target <- data.frame(cell = colnames(object@atac), \n",
    "            atac = object@atac[this_peak, ])\n",
    "        # if (bin) {\n",
    "        #     atac_target[atac_target$atac > 0, ]$atac <- 1\n",
    "        # }\n",
    "        mrna_target <- object@rna[gene, ]\n",
    "        df <- data.frame(cell = names(mrna_target), exprs = as.numeric(mrna_target))\n",
    "        df <- merge(df, atac_target, by = \"cell\")\n",
    "        df <- merge(df, object@meta.data, by = \"cell\")\n",
    "        # df2 <- df[df[[object@celltypes]] == celltype, ]\n",
    "        df2 <- df\n",
    "        nonzero_m <- length(df2$exprs[df2$exprs > 0])/length(df2$exprs)\n",
    "        nonzero_a <- length(df2$atac[df2$atac > 0])/length(df2$atac)\n",
    "        if (nonzero_m > 0.05 & nonzero_a > 0.05) {\n",
    "            res_var <- \"exprs\"\n",
    "            pred_var <- c(\"atac\", object@covariates)\n",
    "            formula <- as.formula(paste(res_var, paste(pred_var, \n",
    "                collapse = \"+\"), sep = \"~\"))\n",
    "            if (regr == \"poisson\") {\n",
    "                base = glm(formula, family = \"poisson\", data = df2)\n",
    "                coefs <- summary(base)$coefficients[\"atac\", ]\n",
    "                # assoc <- assoc_poisson\n",
    "                assoc <- SCENT::assoc_poisson\n",
    "            }\n",
    "            else if (regr == \"negbin\") {\n",
    "                base = glm.nb(formula, data = df2)\n",
    "                coefs <- summary(base)$coefficients[\"atac\", ]\n",
    "                # assoc <- assoc_negbin\n",
    "                assoc <- SCENT::assoc_negbin\n",
    "            }\n",
    "            bs = boot::boot(df2, assoc, R = 100, formula = formula, \n",
    "                stype = \"i\", parallel = \"no\", ncpus = 1)\n",
    "            # p0 = basic_p(bs$t0[1], bs$t[, 1])\n",
    "            p0 = SCENT::basic_p(bs$t0[1], bs$t[, 1])\n",
    "            if (p0 < 0.1) {\n",
    "                bs = boot::boot(df2, assoc, R = 500, formula = formula, \n",
    "                  stype = \"i\", \n",
    "                  # parallel = \"multicore\", ncpus = ncores)\n",
    "                  parallel = \"no\", ncpus = 1)\n",
    "                # p0 = basic_p(bs$t0[1], bs$t[, 1])\n",
    "                p0 = SCENT::basic_p(bs$t0[1], bs$t[, 1])\n",
    "            }\n",
    "            # if (p0 < 0.05) {\n",
    "            #     bs = boot::boot(df2, assoc, R = 2500, formula = formula, \n",
    "            #       stype = \"i\", \n",
    "            #       # parallel = \"multicore\", ncpus = ncores)\n",
    "            #       parallel = \"no\", ncpus = 1)\n",
    "            #     # p0 = basic_p(bs$t0[1], bs$t[, 1])\n",
    "            #     p0 = SCENT::basic_p(bs$t0[1], bs$t[, 1])\n",
    "            # }\n",
    "            # if (p0 < 0.01) {\n",
    "            #     bs = boot::boot(df2, assoc, R = 25000, formula = formula, \n",
    "            #       stype = \"i\", \n",
    "            #       # parallel = \"multicore\", ncpus = ncores)\n",
    "            #       parallel = \"no\", ncpus = 1)\n",
    "            #     # p0 = basic_p(bs$t0[1], bs$t[, 1])\n",
    "            #     p0 = SCENT::basic_p(bs$t0[1], bs$t[, 1])\n",
    "            # }\n",
    "            # if (p0 < 0.001) {\n",
    "            #     bs = boot::boot(df2, assoc, R = 50000, formula = formula, \n",
    "            #       stype = \"i\", \n",
    "            #       # parallel = \"multicore\", ncpus = ncores)\n",
    "            #       parallel = \"no\", ncpus = 1)\n",
    "            #     # p0 = basic_p(bs$t0[1], bs$t[, 1])\n",
    "            #     p0 = SCENT::basic_p(bs$t0[1], bs$t[, 1])\n",
    "            # }\n",
    "            out <- data.frame(gene = gene, peak = this_peak, \n",
    "                beta = coefs[1], se = coefs[2], z = coefs[3], \n",
    "                p = coefs[4], boot_basic_p = p0)           \n",
    "            res <- rbind(res, out)\n",
    "        }\n",
    "    }\n",
    "    object@SCENT.result <- res\n",
    "    return(object)\n",
    "}"
   ]
  },
  {
   "cell_type": "code",
   "execution_count": 15,
   "id": "563771b9-b96a-44d5-a5fe-fa30a7b9851b",
   "metadata": {},
   "outputs": [
    {
     "name": "stderr",
     "output_type": "stream",
     "text": [
      "Warning message in dir.create(paste(dir.output, \"chr\", sep = \"/\"), recursive = T):\n",
      "“'/maps/projects/ralab_nnfc-AUDIT/people/lpm537/project/E2G/analysis/E2G_240503/data/PBMC/2.Genome_wide_prediction/SCENT/PBMC9.24_CD8.CM.500.250204//chr' already exists”\n"
     ]
    }
   ],
   "source": [
    "dir.create(paste(dir.output,\"chr\",sep = \"/\"),recursive = T)"
   ]
  },
  {
   "cell_type": "code",
   "execution_count": 16,
   "id": "0d2266ce-b92d-40d2-9b78-f39bd33a5079",
   "metadata": {},
   "outputs": [],
   "source": [
    "chr.done = dir(paste(dir.output,\"chr\",sep = \"/\"))\n",
    "chr.run = as.character(unique(seqnames(pairs.E2G)))\n",
    "chr.run = chr.run[!chr.run %in% chr.done]"
   ]
  },
  {
   "cell_type": "code",
   "execution_count": null,
   "id": "2d41238d-e833-4e0e-add5-bb56bb615c1a",
   "metadata": {},
   "outputs": [
    {
     "name": "stdout",
     "output_type": "stream",
     "text": [
      "[1] \"chr1\"\n"
     ]
    },
    {
     "name": "stderr",
     "output_type": "stream",
     "text": [
      "Warning message in split.default(x = seq_len(nrow(x)), f = f, drop = drop, ...):\n",
      "“data length is not a multiple of split variable”\n"
     ]
    },
    {
     "name": "stdout",
     "output_type": "stream",
     "text": [
      "[1] \"chr10\"\n"
     ]
    },
    {
     "name": "stderr",
     "output_type": "stream",
     "text": [
      "Warning message in split.default(x = seq_len(nrow(x)), f = f, drop = drop, ...):\n",
      "“data length is not a multiple of split variable”\n"
     ]
    },
    {
     "name": "stdout",
     "output_type": "stream",
     "text": [
      "[1] \"chr11\"\n",
      "[1] \"chr12\"\n"
     ]
    },
    {
     "name": "stderr",
     "output_type": "stream",
     "text": [
      "Warning message in split.default(x = seq_len(nrow(x)), f = f, drop = drop, ...):\n",
      "“data length is not a multiple of split variable”\n"
     ]
    },
    {
     "name": "stdout",
     "output_type": "stream",
     "text": [
      "[1] \"chr13\"\n"
     ]
    },
    {
     "name": "stderr",
     "output_type": "stream",
     "text": [
      "Warning message in split.default(x = seq_len(nrow(x)), f = f, drop = drop, ...):\n",
      "“data length is not a multiple of split variable”\n"
     ]
    },
    {
     "name": "stdout",
     "output_type": "stream",
     "text": [
      "[1] \"chr14\"\n"
     ]
    },
    {
     "name": "stderr",
     "output_type": "stream",
     "text": [
      "Warning message in split.default(x = seq_len(nrow(x)), f = f, drop = drop, ...):\n",
      "“data length is not a multiple of split variable”\n"
     ]
    },
    {
     "name": "stdout",
     "output_type": "stream",
     "text": [
      "[1] \"chr15\"\n",
      "[1] \"chr16\"\n"
     ]
    },
    {
     "name": "stderr",
     "output_type": "stream",
     "text": [
      "Warning message in split.default(x = seq_len(nrow(x)), f = f, drop = drop, ...):\n",
      "“data length is not a multiple of split variable”\n"
     ]
    },
    {
     "name": "stdout",
     "output_type": "stream",
     "text": [
      "[1] \"chr17\"\n"
     ]
    },
    {
     "name": "stderr",
     "output_type": "stream",
     "text": [
      "Warning message in split.default(x = seq_len(nrow(x)), f = f, drop = drop, ...):\n",
      "“data length is not a multiple of split variable”\n"
     ]
    },
    {
     "name": "stdout",
     "output_type": "stream",
     "text": [
      "[1] \"chr18\"\n"
     ]
    },
    {
     "name": "stderr",
     "output_type": "stream",
     "text": [
      "Warning message in split.default(x = seq_len(nrow(x)), f = f, drop = drop, ...):\n",
      "“data length is not a multiple of split variable”\n"
     ]
    },
    {
     "name": "stdout",
     "output_type": "stream",
     "text": [
      "[1] \"chr19\"\n"
     ]
    },
    {
     "name": "stderr",
     "output_type": "stream",
     "text": [
      "Warning message in split.default(x = seq_len(nrow(x)), f = f, drop = drop, ...):\n",
      "“data length is not a multiple of split variable”\n"
     ]
    },
    {
     "name": "stdout",
     "output_type": "stream",
     "text": [
      "[1] \"chr2\"\n"
     ]
    },
    {
     "name": "stderr",
     "output_type": "stream",
     "text": [
      "Warning message in split.default(x = seq_len(nrow(x)), f = f, drop = drop, ...):\n",
      "“data length is not a multiple of split variable”\n"
     ]
    },
    {
     "name": "stdout",
     "output_type": "stream",
     "text": [
      "[1] \"chr20\"\n"
     ]
    },
    {
     "name": "stderr",
     "output_type": "stream",
     "text": [
      "Warning message in split.default(x = seq_len(nrow(x)), f = f, drop = drop, ...):\n",
      "“data length is not a multiple of split variable”\n"
     ]
    },
    {
     "name": "stdout",
     "output_type": "stream",
     "text": [
      "[1] \"chr21\"\n"
     ]
    },
    {
     "name": "stderr",
     "output_type": "stream",
     "text": [
      "Warning message in split.default(x = seq_len(nrow(x)), f = f, drop = drop, ...):\n",
      "“data length is not a multiple of split variable”\n"
     ]
    },
    {
     "name": "stdout",
     "output_type": "stream",
     "text": [
      "[1] \"chr22\"\n",
      "[1] \"chr3\"\n"
     ]
    },
    {
     "name": "stderr",
     "output_type": "stream",
     "text": [
      "Warning message in split.default(x = seq_len(nrow(x)), f = f, drop = drop, ...):\n",
      "“data length is not a multiple of split variable”\n"
     ]
    },
    {
     "name": "stdout",
     "output_type": "stream",
     "text": [
      "[1] \"chr4\"\n"
     ]
    },
    {
     "name": "stderr",
     "output_type": "stream",
     "text": [
      "Warning message in split.default(x = seq_len(nrow(x)), f = f, drop = drop, ...):\n",
      "“data length is not a multiple of split variable”\n"
     ]
    },
    {
     "name": "stdout",
     "output_type": "stream",
     "text": [
      "[1] \"chr5\"\n"
     ]
    },
    {
     "name": "stderr",
     "output_type": "stream",
     "text": [
      "Warning message in split.default(x = seq_len(nrow(x)), f = f, drop = drop, ...):\n",
      "“data length is not a multiple of split variable”\n"
     ]
    },
    {
     "name": "stdout",
     "output_type": "stream",
     "text": [
      "[1] \"chr6\"\n"
     ]
    },
    {
     "name": "stderr",
     "output_type": "stream",
     "text": [
      "Warning message in split.default(x = seq_len(nrow(x)), f = f, drop = drop, ...):\n",
      "“data length is not a multiple of split variable”\n"
     ]
    }
   ],
   "source": [
    "for(chr.tmp in chr.run){\n",
    "  print(chr.tmp)\n",
    "  pairs.E2G.chr.res = pairs.E2G.filter2[seqnames(pairs.E2G.filter2) == chr.tmp]\n",
    "  gene_peak.chr = as.data.frame(mcols(pairs.E2G.chr.res)[,c(\"TargetGene\",\"PeakName\")])\n",
    "  list.gene_peak.chr <- split(gene_peak.chr, seq_len(n.cores))\n",
    "  \n",
    "  list.obj.SCENT.chr <- lapply(list.gene_peak.chr, function(gene_peak.tmp) {\n",
    "    obj.SCENT.tmp <- CreateSCENTObj(\n",
    "      rna = matrix.rna.rename[rownames(matrix.rna.rename) %in% gene_peak.tmp$TargetGene,],\n",
    "      atac = matrix.atac[rownames(matrix.atac) %in% gene_peak.tmp$PeakName,], \n",
    "      meta.data = meta.data,\n",
    "      peak.info = gene_peak.tmp,\n",
    "      covariates = c(\"log.nUMI\",\"percent.mito\"), \n",
    "      celltypes = \"celltype\"\n",
    "    )\n",
    "  })\n",
    "  \n",
    "  cl <- makeCluster(n.cores)\n",
    "  clusterExport(cl, varlist=c(\"SCENT_algorithm.modified\"))\n",
    "  list.SCENT.result.chr <- parLapply(cl, list.obj.SCENT.chr, function(obj.SCENT.tmp) {\n",
    "    obj.SCENT.tmp <- SCENT_algorithm.modified(object = obj.SCENT.tmp)\n",
    "    return(obj.SCENT.tmp@SCENT.result)\n",
    "  })\n",
    "  stopCluster(cl)\n",
    "  \n",
    "  \n",
    "  df.SCENT.result.chr = do.call(rbind,list.SCENT.result.chr)\n",
    "  rownames(df.SCENT.result.chr) = paste(df.SCENT.result.chr$peak,\n",
    "                                        df.SCENT.result.chr$gene,\n",
    "                                        sep = \"_\")\n",
    "\n",
    "  pairs.E2G.chr.res = pairs.E2G.chr.res[pairs.E2G.chr.res$PairName %in% rownames(df.SCENT.result.chr)]\n",
    "  mcols(pairs.E2G.chr.res)[,c(\"beta\",\"se\",\"z\",\"p\",\"boot_basic_p\")] = \n",
    "    df.SCENT.result.chr[pairs.E2G.chr.res$PairName,c(\"beta\",\"se\",\"z\",\"p\",\"boot_basic_p\")]\n",
    "  pairs.E2G.chr.res$boot_basic_p.log10 = -log10(pairs.E2G.chr.res$boot_basic_p)\n",
    "  pairs.E2G.chr.res$sign = 1\n",
    "  pairs.E2G.chr.res$sign[pairs.E2G.chr.res$beta < 0] = -1\n",
    "  pairs.E2G.chr.res$boot_basic_p.log10.signed = pairs.E2G.chr.res$boot_basic_p.log10 * pairs.E2G.chr.res$sign\n",
    "  saveRDS(pairs.E2G.chr.res,\n",
    "          paste(dir.output,\"chr\",chr.tmp,sep = \"/\"))\n",
    "  rm (pairs.E2G.chr.res)\n",
    "}"
   ]
  },
  {
   "cell_type": "markdown",
   "id": "da9d1451-54e0-49e0-ae8b-cd0158115820",
   "metadata": {},
   "source": [
    "Merge results"
   ]
  },
  {
   "cell_type": "code",
   "execution_count": null,
   "id": "6b4278f1-7d9d-402f-95c6-f274a6befea3",
   "metadata": {},
   "outputs": [],
   "source": [
    "chr.merge = as.character(unique(seqnames(pairs.E2G)))\n",
    "list.res = list()\n",
    "for(chr.tmp in chr.merge){\n",
    "    list.res[[chr.tmp]] = readRDS(paste(dir.output,\"chr\",chr.tmp,sep = \"/\"))\n",
    "}\n",
    "pairs.E2G.res = unlist(as(list.res, \"GRangesList\"))"
   ]
  },
  {
   "cell_type": "markdown",
   "id": "00278bea-8baf-4ed0-93d5-1289f05fa36a",
   "metadata": {},
   "source": [
    "Save results"
   ]
  },
  {
   "cell_type": "code",
   "execution_count": null,
   "id": "48824f05-aedd-476c-88d6-ae58d1833fc9",
   "metadata": {},
   "outputs": [],
   "source": [
    "saveRDS(pairs.E2G.res,\n",
    "        paste(dir.output,\"pairs.E2G.res.rds\",sep = \"/\"))\n",
    "pairs.E2G.res"
   ]
  },
  {
   "cell_type": "code",
   "execution_count": null,
   "id": "2297128a-9ed6-42b8-90c7-459969fb5afd",
   "metadata": {},
   "outputs": [],
   "source": [
    "df.output = as.data.frame(pairs.E2G.res,row.names = NULL)\n",
    "colnames(df.output)[1] = \"chr\"\n",
    "df.output[,\"CellType\"] = \"K562\"\n",
    "df.output = df.output[,c(\"chr\",\n",
    "                         \"start\",\n",
    "                         \"end\",\n",
    "                         \"TargetGene\",\n",
    "                         \"CellType\",\n",
    "                         \"beta\",\"se\",\"z\",\"p\",\"boot_basic_p\",\n",
    "                         \"boot_basic_p.log10\",\n",
    "                         \"sign\",\n",
    "                         \"boot_basic_p.log10.signed\")]\n",
    "data.table::fwrite(df.output,\n",
    "                   file = paste(dir.output,\"pairs.E2G.res.tsv.gz\",sep = \"/\"),\n",
    "                   row.names = F,\n",
    "                   quote = F,\n",
    "                   sep = \"\\t\")\n",
    "df.output"
   ]
  },
  {
   "cell_type": "code",
   "execution_count": null,
   "id": "4d77c58e-215a-408d-8495-c68c72f559c3",
   "metadata": {},
   "outputs": [],
   "source": [
    "sessionInfo()"
   ]
  },
  {
   "cell_type": "code",
   "execution_count": null,
   "id": "3c1a0283-11d6-4df1-bbd8-7b47e9e8ead8",
   "metadata": {},
   "outputs": [],
   "source": []
  }
 ],
 "metadata": {
  "kernelspec": {
   "display_name": "R",
   "language": "R",
   "name": "ir"
  },
  "language_info": {
   "codemirror_mode": "r",
   "file_extension": ".r",
   "mimetype": "text/x-r-source",
   "name": "R",
   "pygments_lexer": "r",
   "version": "4.3.3"
  }
 },
 "nbformat": 4,
 "nbformat_minor": 5
}
