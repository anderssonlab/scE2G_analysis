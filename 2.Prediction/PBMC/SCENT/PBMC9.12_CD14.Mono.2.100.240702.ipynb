{
 "cells": [
  {
   "cell_type": "code",
   "execution_count": 1,
   "id": "3a1e63f9-7479-4a30-83ea-381f1ecdbe50",
   "metadata": {},
   "outputs": [
    {
     "name": "stderr",
     "output_type": "stream",
     "text": [
      "Warning message:\n",
      "“replacing previous import ‘Hmisc::capitalize’ by ‘R.utils::capitalize’ when loading ‘SCENT’”\n",
      "Loading required package: grid\n",
      "\n",
      "Warning message:\n",
      "“replacing previous import ‘Biostrings::pattern’ by ‘grid::pattern’ when loading ‘genomation’”\n",
      "Loading required package: stats4\n",
      "\n",
      "Loading required package: BiocGenerics\n",
      "\n",
      "\n",
      "Attaching package: ‘BiocGenerics’\n",
      "\n",
      "\n",
      "The following objects are masked from ‘package:stats’:\n",
      "\n",
      "    IQR, mad, sd, var, xtabs\n",
      "\n",
      "\n",
      "The following objects are masked from ‘package:base’:\n",
      "\n",
      "    anyDuplicated, aperm, append, as.data.frame, basename, cbind,\n",
      "    colnames, dirname, do.call, duplicated, eval, evalq, Filter, Find,\n",
      "    get, grep, grepl, intersect, is.unsorted, lapply, Map, mapply,\n",
      "    match, mget, order, paste, pmax, pmax.int, pmin, pmin.int,\n",
      "    Position, rank, rbind, Reduce, rownames, sapply, setdiff, sort,\n",
      "    table, tapply, union, unique, unsplit, which.max, which.min\n",
      "\n",
      "\n",
      "Loading required package: S4Vectors\n",
      "\n",
      "\n",
      "Attaching package: ‘S4Vectors’\n",
      "\n",
      "\n",
      "The following object is masked from ‘package:utils’:\n",
      "\n",
      "    findMatches\n",
      "\n",
      "\n",
      "The following objects are masked from ‘package:base’:\n",
      "\n",
      "    expand.grid, I, unname\n",
      "\n",
      "\n",
      "Loading required package: IRanges\n",
      "\n",
      "Loading required package: GenomeInfoDb\n",
      "\n",
      "\n",
      "Attaching package: ‘Matrix’\n",
      "\n",
      "\n",
      "The following object is masked from ‘package:S4Vectors’:\n",
      "\n",
      "    expand\n",
      "\n",
      "\n"
     ]
    }
   ],
   "source": [
    "library(SCENT)\n",
    "library(Signac)\n",
    "library(genomation)\n",
    "library(GenomicRanges)\n",
    "library(Matrix)\n",
    "library(parallel)"
   ]
  },
  {
   "cell_type": "markdown",
   "id": "d53f3774-52c3-4baa-b707-5b3a0450b130",
   "metadata": {},
   "source": [
    "Specify file path"
   ]
  },
  {
   "cell_type": "code",
   "execution_count": 2,
   "id": "0785f3fc-9913-428a-bea7-5710120c9328",
   "metadata": {},
   "outputs": [],
   "source": [
    "path.pairs.E2G = \"/maps/projects/ralab_nnfc-AUDIT/people/lpm537/software/scE2G_pipeline/240617/sc-E2G/test/results/PBMC9/12_CD14.Mono.2.multiome_7features/Kendall/Pairs.tsv.gz\"\n",
    "path.pairs.ABC = \"/maps/projects/ralab_nnfc-AUDIT/people/lpm537/software/scE2G_pipeline/240617/sc-E2G/test/results/PBMC9/12_CD14.Mono.2.multiome_7features/Predictions/EnhancerPredictionsAllPutative.tsv.gz\"\n",
    "path.matrix.atac_count = \"/maps/projects/ralab_nnfc-AUDIT/people/lpm537/software/scE2G_pipeline/240617/sc-E2G/test/results/PBMC9/12_CD14.Mono.2.multiome_7features/Kendall/atac_matrix.rds\"\n",
    "path.matrix.rna_count = \"/maps/projects/ralab_nnfc-AUDIT/people/lpm537/project/E2G/analysis/E2G_240503/data/PBMC/1.prepare_data/3.annotate_cell_type/RNA_count_matrix/12_CD14.Mono.2.rna_count_matrix.csv.gz\"\n",
    "dir.output = \"/maps/projects/ralab_nnfc-AUDIT/people/lpm537/project/E2G/analysis/E2G_240503/data/PBMC/2.Genome_wide_prediction/SCENT/PBMC9.12_CD14.Mono.2.100.240702/\""
   ]
  },
  {
   "cell_type": "code",
   "execution_count": 3,
   "id": "500ba317-011f-4cab-834c-de750cb7f503",
   "metadata": {},
   "outputs": [],
   "source": [
    "n.cores = 16"
   ]
  },
  {
   "cell_type": "markdown",
   "id": "9c9cdab1-486b-4539-99d3-3cd5d1d99795",
   "metadata": {},
   "source": [
    "Import candidate E-G pairs"
   ]
  },
  {
   "cell_type": "code",
   "execution_count": 4,
   "id": "f5852d15-7e3f-412b-b137-7d29a6fb47b1",
   "metadata": {},
   "outputs": [],
   "source": [
    "pairs.E2G = readGeneric(path.pairs.E2G,\n",
    "                        header = T,\n",
    "                        keep.all.metadata = T)"
   ]
  },
  {
   "cell_type": "markdown",
   "id": "e79f3220-9bc6-4496-9e9a-a2dcc6e7f751",
   "metadata": {},
   "source": [
    "Import ABC results"
   ]
  },
  {
   "cell_type": "code",
   "execution_count": 5,
   "id": "6bc3f6ba-5e9a-488c-ba26-e0c84007ef4d",
   "metadata": {},
   "outputs": [],
   "source": [
    "pairs.ABC = readGeneric(path.pairs.ABC,\n",
    "                        header = T,\n",
    "                        keep.all.metadata = T)"
   ]
  },
  {
   "cell_type": "markdown",
   "id": "7d660489-4656-4b85-a3df-381acf0aa4a1",
   "metadata": {},
   "source": [
    "Filter ABC results which distance < 1M"
   ]
  },
  {
   "cell_type": "code",
   "execution_count": 6,
   "id": "31b4d7f1-0feb-428b-934a-9c32cb2a4f68",
   "metadata": {},
   "outputs": [],
   "source": [
    "pairs.ABC.1M = pairs.ABC[pairs.ABC$distance < 10^6]"
   ]
  },
  {
   "cell_type": "markdown",
   "id": "639699dd-5bf9-4b19-9178-82dbbf2c62d0",
   "metadata": {},
   "source": [
    "Filter E-G pairs overlaping with pairs.ABC.1M"
   ]
  },
  {
   "cell_type": "code",
   "execution_count": 7,
   "id": "d7db8c1b-5245-49e1-862e-979d9f1de142",
   "metadata": {},
   "outputs": [
    {
     "data": {
      "text/plain": [
       "GRanges object with 2906945 ranges and 3 metadata columns:\n",
       "            seqnames              ranges strand |  TargetGene\n",
       "               <Rle>           <IRanges>  <Rle> | <character>\n",
       "        [1]     chr1 100028774-100029108      * |         AGL\n",
       "        [2]     chr1 100028774-100029108      * |      CDC14A\n",
       "        [3]     chr1 100028774-100029108      * |         DBT\n",
       "        [4]     chr1 100028774-100029108      * |        DPH5\n",
       "        [5]     chr1 100028774-100029108      * |       EXTL2\n",
       "        ...      ...                 ...    ... .         ...\n",
       "  [2906941]     chrX     9986627-9987289      * |       TBL1X\n",
       "  [2906942]     chrX     9986627-9987289      * |        WWC3\n",
       "  [2906943]     chrX     9995789-9996213      * |       CLCN4\n",
       "  [2906944]     chrX     9995789-9996213      * |       TBL1X\n",
       "  [2906945]     chrX     9995789-9996213      * |        WWC3\n",
       "                          PeakName               PairName\n",
       "                       <character>            <character>\n",
       "        [1] chr1-100028774-10002.. chr1-100028774-10002..\n",
       "        [2] chr1-100028774-10002.. chr1-100028774-10002..\n",
       "        [3] chr1-100028774-10002.. chr1-100028774-10002..\n",
       "        [4] chr1-100028774-10002.. chr1-100028774-10002..\n",
       "        [5] chr1-100028774-10002.. chr1-100028774-10002..\n",
       "        ...                    ...                    ...\n",
       "  [2906941]   chrX-9986627-9987289 chrX-9986627-9987289..\n",
       "  [2906942]   chrX-9986627-9987289 chrX-9986627-9987289..\n",
       "  [2906943]   chrX-9995789-9996213 chrX-9995789-9996213..\n",
       "  [2906944]   chrX-9995789-9996213 chrX-9995789-9996213..\n",
       "  [2906945]   chrX-9995789-9996213 chrX-9995789-9996213..\n",
       "  -------\n",
       "  seqinfo: 23 sequences from an unspecified genome; no seqlengths"
      ]
     },
     "metadata": {},
     "output_type": "display_data"
    }
   ],
   "source": [
    "df.pairs.E2G.chr_rename = as.data.frame(pairs.E2G)[,1:3]\n",
    "df.pairs.E2G.chr_rename[,\"seqnames\"] = paste(seqnames(pairs.E2G),\n",
    "                                             mcols(pairs.E2G)[,\"TargetGene\"],\n",
    "                                             sep = \"_\")\n",
    "pairs.E2G.chr_rename = GRanges(df.pairs.E2G.chr_rename)\n",
    "rm(df.pairs.E2G.chr_rename)\n",
    "\n",
    "df.pairs.ABC.1M.chr_rename = as.data.frame(pairs.ABC.1M)[,1:3]\n",
    "df.pairs.ABC.1M.chr_rename[,\"seqnames\"] = paste(seqnames(pairs.ABC.1M),\n",
    "                                                mcols(pairs.ABC.1M)[,\"TargetGene\"],\n",
    "                                                sep = \"_\")\n",
    "pairs.ABC.1M.chr_rename = GRanges(df.pairs.ABC.1M.chr_rename)\n",
    "rm(df.pairs.ABC.1M.chr_rename)\n",
    "\n",
    "pairs.E2G.filter = pairs.E2G[countOverlaps(pairs.E2G.chr_rename,\n",
    "                                           pairs.ABC.1M.chr_rename) > 0]\n",
    "rm(pairs.E2G.chr_rename)\n",
    "rm(pairs.ABC.1M.chr_rename)\n",
    "pairs.E2G.filter"
   ]
  },
  {
   "cell_type": "markdown",
   "id": "bcdfac67-ce32-4d9a-8f4d-65dab644ec63",
   "metadata": {},
   "source": [
    "Import ATAC matrix"
   ]
  },
  {
   "cell_type": "code",
   "execution_count": 8,
   "id": "bd59feb4-3e33-4ebe-a107-f3b6d347a68e",
   "metadata": {},
   "outputs": [],
   "source": [
    "matrix.atac = readRDS(path.matrix.atac_count)\n",
    "matrix.atac = BinarizeCounts(matrix.atac)"
   ]
  },
  {
   "cell_type": "markdown",
   "id": "a0c5cb96-2fc4-42c4-a421-fe9a5ca537da",
   "metadata": {},
   "source": [
    "Import RNA matrix"
   ]
  },
  {
   "cell_type": "code",
   "execution_count": 9,
   "id": "96e10e90-9400-4cfe-bc7b-46a7eaee1fcd",
   "metadata": {},
   "outputs": [],
   "source": [
    "matrix.rna = read.csv(path.matrix.rna_count,\n",
    "                      row.names = 1,\n",
    "                      check.names = F)\n",
    "matrix.rna = Matrix(as.matrix(matrix.rna), sparse = TRUE)\n",
    "matrix.rna = matrix.rna[,colnames(matrix.atac)]\n",
    "matrix.rna = matrix.rna[rowSums(matrix.rna) > 0,]"
   ]
  },
  {
   "cell_type": "code",
   "execution_count": 10,
   "id": "ad0f51bc-6e09-4b83-be71-560130dd0fa6",
   "metadata": {},
   "outputs": [],
   "source": [
    "pairs.E2G.filter2 = pairs.E2G.filter[pairs.E2G.filter$TargetGene %in% rownames(matrix.rna) &\n",
    "                                     pairs.E2G.filter$PeakName %in% rownames(matrix.atac)]"
   ]
  },
  {
   "cell_type": "markdown",
   "id": "b16f7d5b-eabd-4e93-b8cd-f19a54df21f2",
   "metadata": {},
   "source": [
    "Prepare SCENT meta data"
   ]
  },
  {
   "cell_type": "code",
   "execution_count": 11,
   "id": "827059dd-6885-441e-973e-d7c49e5fd534",
   "metadata": {},
   "outputs": [
    {
     "data": {
      "text/html": [
       "<table class=\"dataframe\">\n",
       "<caption>A data.frame: 2713 × 6</caption>\n",
       "<thead>\n",
       "\t<tr><th></th><th scope=col>cell</th><th scope=col>nUMI</th><th scope=col>nMito</th><th scope=col>celltype</th><th scope=col>log.nUMI</th><th scope=col>percent.mito</th></tr>\n",
       "\t<tr><th></th><th scope=col>&lt;chr&gt;</th><th scope=col>&lt;dbl&gt;</th><th scope=col>&lt;dbl&gt;</th><th scope=col>&lt;chr&gt;</th><th scope=col>&lt;dbl&gt;</th><th scope=col>&lt;dbl&gt;</th></tr>\n",
       "</thead>\n",
       "<tbody>\n",
       "\t<tr><th scope=row>Multiome10x_05_AAACAGCCAACAACAA-1</th><td>Multiome10x_05_AAACAGCCAACAACAA-1</td><td>2924</td><td>530</td><td>K562</td><td>7.980708</td><td>0.18125855</td></tr>\n",
       "\t<tr><th scope=row>Multiome10x_05_AAACAGCCATCCTAGA-1</th><td>Multiome10x_05_AAACAGCCATCCTAGA-1</td><td>4553</td><td>608</td><td>K562</td><td>8.423542</td><td>0.13353833</td></tr>\n",
       "\t<tr><th scope=row>Multiome10x_05_AAACATGCAAAGGTAC-1</th><td>Multiome10x_05_AAACATGCAAAGGTAC-1</td><td>3957</td><td>547</td><td>K562</td><td>8.283241</td><td>0.13823604</td></tr>\n",
       "\t<tr><th scope=row>Multiome10x_05_AAACATGCAGGACCAA-1</th><td>Multiome10x_05_AAACATGCAGGACCAA-1</td><td>2856</td><td>404</td><td>K562</td><td>7.957177</td><td>0.14145658</td></tr>\n",
       "\t<tr><th scope=row>Multiome10x_05_AAACCAACAACTAACT-1</th><td>Multiome10x_05_AAACCAACAACTAACT-1</td><td>4542</td><td>513</td><td>K562</td><td>8.421123</td><td>0.11294584</td></tr>\n",
       "\t<tr><th scope=row>Multiome10x_05_AAACCAACATGTTTGG-1</th><td>Multiome10x_05_AAACCAACATGTTTGG-1</td><td>3298</td><td>447</td><td>K562</td><td>8.101072</td><td>0.13553669</td></tr>\n",
       "\t<tr><th scope=row>Multiome10x_05_AAACGGATCGTTAACA-1</th><td>Multiome10x_05_AAACGGATCGTTAACA-1</td><td>3043</td><td>425</td><td>K562</td><td>8.020599</td><td>0.13966480</td></tr>\n",
       "\t<tr><th scope=row>Multiome10x_05_AAACGTACACTAGGTC-1</th><td>Multiome10x_05_AAACGTACACTAGGTC-1</td><td>3781</td><td>569</td><td>K562</td><td>8.237744</td><td>0.15048929</td></tr>\n",
       "\t<tr><th scope=row>Multiome10x_05_AAAGCACCAGCTTAAT-1</th><td>Multiome10x_05_AAAGCACCAGCTTAAT-1</td><td>4365</td><td>627</td><td>K562</td><td>8.381373</td><td>0.14364261</td></tr>\n",
       "\t<tr><th scope=row>Multiome10x_05_AAAGCCCGTCCTTTAA-1</th><td>Multiome10x_05_AAAGCCCGTCCTTTAA-1</td><td>1768</td><td>270</td><td>K562</td><td>7.477604</td><td>0.15271493</td></tr>\n",
       "\t<tr><th scope=row>Multiome10x_05_AAAGCTTGTTAAGGTT-1</th><td>Multiome10x_05_AAAGCTTGTTAAGGTT-1</td><td>5286</td><td>809</td><td>K562</td><td>8.572817</td><td>0.15304578</td></tr>\n",
       "\t<tr><th scope=row>Multiome10x_05_AAAGGACGTTGGGTTA-1</th><td>Multiome10x_05_AAAGGACGTTGGGTTA-1</td><td>3836</td><td>393</td><td>K562</td><td>8.252185</td><td>0.10245047</td></tr>\n",
       "\t<tr><th scope=row>Multiome10x_05_AAAGGCTCACCAACCG-1</th><td>Multiome10x_05_AAAGGCTCACCAACCG-1</td><td>3266</td><td>384</td><td>K562</td><td>8.091321</td><td>0.11757502</td></tr>\n",
       "\t<tr><th scope=row>Multiome10x_05_AAATCCGGTTACAACG-1</th><td>Multiome10x_05_AAATCCGGTTACAACG-1</td><td>3893</td><td>350</td><td>K562</td><td>8.266935</td><td>0.08990496</td></tr>\n",
       "\t<tr><th scope=row>Multiome10x_05_AAATGCCTCACTAGGT-1</th><td>Multiome10x_05_AAATGCCTCACTAGGT-1</td><td>3456</td><td>497</td><td>K562</td><td>8.147867</td><td>0.14380787</td></tr>\n",
       "\t<tr><th scope=row>Multiome10x_05_AAATGCCTCATGGCTG-1</th><td>Multiome10x_05_AAATGCCTCATGGCTG-1</td><td>3272</td><td>421</td><td>K562</td><td>8.093157</td><td>0.12866748</td></tr>\n",
       "\t<tr><th scope=row>Multiome10x_05_AAATGCCTCCCGCCTA-1</th><td>Multiome10x_05_AAATGCCTCCCGCCTA-1</td><td>6446</td><td>733</td><td>K562</td><td>8.771215</td><td>0.11371393</td></tr>\n",
       "\t<tr><th scope=row>Multiome10x_05_AAATGGCCACGTAAGG-1</th><td>Multiome10x_05_AAATGGCCACGTAAGG-1</td><td>4382</td><td>502</td><td>K562</td><td>8.385261</td><td>0.11455956</td></tr>\n",
       "\t<tr><th scope=row>Multiome10x_05_AACAAGCCATATTGAC-1</th><td>Multiome10x_05_AACAAGCCATATTGAC-1</td><td>4811</td><td>627</td><td>K562</td><td>8.478660</td><td>0.13032634</td></tr>\n",
       "\t<tr><th scope=row>Multiome10x_05_AACAGATAGCAAGATG-1</th><td>Multiome10x_05_AACAGATAGCAAGATG-1</td><td>4675</td><td>567</td><td>K562</td><td>8.449984</td><td>0.12128342</td></tr>\n",
       "\t<tr><th scope=row>Multiome10x_05_AACAGATAGGACCTTG-1</th><td>Multiome10x_05_AACAGATAGGACCTTG-1</td><td>3628</td><td>433</td><td>K562</td><td>8.196437</td><td>0.11934950</td></tr>\n",
       "\t<tr><th scope=row>Multiome10x_05_AACATCATCACCGGTA-1</th><td>Multiome10x_05_AACATCATCACCGGTA-1</td><td>3972</td><td>467</td><td>K562</td><td>8.287025</td><td>0.11757301</td></tr>\n",
       "\t<tr><th scope=row>Multiome10x_05_AACCGGCTCGGTTTCC-1</th><td>Multiome10x_05_AACCGGCTCGGTTTCC-1</td><td>5138</td><td>671</td><td>K562</td><td>8.544419</td><td>0.13059556</td></tr>\n",
       "\t<tr><th scope=row>Multiome10x_05_AACCGGCTCTAACCTT-1</th><td>Multiome10x_05_AACCGGCTCTAACCTT-1</td><td>9551</td><td>958</td><td>K562</td><td>9.164401</td><td>0.10030363</td></tr>\n",
       "\t<tr><th scope=row>Multiome10x_05_AACCTAATCTTAGCCC-1</th><td>Multiome10x_05_AACCTAATCTTAGCCC-1</td><td>5063</td><td>859</td><td>K562</td><td>8.529714</td><td>0.16966226</td></tr>\n",
       "\t<tr><th scope=row>Multiome10x_05_AACCTCCTCCTAAATG-1</th><td>Multiome10x_05_AACCTCCTCCTAAATG-1</td><td>3345</td><td>483</td><td>K562</td><td>8.115222</td><td>0.14439462</td></tr>\n",
       "\t<tr><th scope=row>Multiome10x_05_AACGGTAAGCGAGTAA-1</th><td>Multiome10x_05_AACGGTAAGCGAGTAA-1</td><td>5751</td><td>704</td><td>K562</td><td>8.657129</td><td>0.12241349</td></tr>\n",
       "\t<tr><th scope=row>Multiome10x_05_AACGGTAAGCGGATAA-1</th><td>Multiome10x_05_AACGGTAAGCGGATAA-1</td><td>4715</td><td>379</td><td>K562</td><td>8.458504</td><td>0.08038176</td></tr>\n",
       "\t<tr><th scope=row>Multiome10x_05_AACGGTAAGCTCCTTA-1</th><td>Multiome10x_05_AACGGTAAGCTCCTTA-1</td><td>3867</td><td>495</td><td>K562</td><td>8.260234</td><td>0.12800621</td></tr>\n",
       "\t<tr><th scope=row>Multiome10x_05_AACTAGTGTTTGGCGG-1</th><td>Multiome10x_05_AACTAGTGTTTGGCGG-1</td><td>2448</td><td>422</td><td>K562</td><td>7.803027</td><td>0.17238562</td></tr>\n",
       "\t<tr><th scope=row>⋮</th><td>⋮</td><td>⋮</td><td>⋮</td><td>⋮</td><td>⋮</td><td>⋮</td></tr>\n",
       "\t<tr><th scope=row>Multiome10x_06_TTGTGCCTCGTTAAGC-1</th><td>Multiome10x_06_TTGTGCCTCGTTAAGC-1</td><td>3798</td><td> 614</td><td>K562</td><td>8.242230</td><td>0.16166403</td></tr>\n",
       "\t<tr><th scope=row>Multiome10x_06_TTGTGTGCAGGAATCG-1</th><td>Multiome10x_06_TTGTGTGCAGGAATCG-1</td><td>3527</td><td> 541</td><td>K562</td><td>8.168203</td><td>0.15338815</td></tr>\n",
       "\t<tr><th scope=row>Multiome10x_06_TTGTTCCCAAGGTCCT-1</th><td>Multiome10x_06_TTGTTCCCAAGGTCCT-1</td><td>3252</td><td> 385</td><td>K562</td><td>8.087025</td><td>0.11838868</td></tr>\n",
       "\t<tr><th scope=row>Multiome10x_06_TTGTTGCGTTGCCTCA-1</th><td>Multiome10x_06_TTGTTGCGTTGCCTCA-1</td><td>3011</td><td> 392</td><td>K562</td><td>8.010028</td><td>0.13018931</td></tr>\n",
       "\t<tr><th scope=row>Multiome10x_06_TTGTTGTTCATGCTCC-1</th><td>Multiome10x_06_TTGTTGTTCATGCTCC-1</td><td>4002</td><td> 628</td><td>K562</td><td>8.294550</td><td>0.15692154</td></tr>\n",
       "\t<tr><th scope=row>Multiome10x_06_TTGTTTGGTAGCAGCT-1</th><td>Multiome10x_06_TTGTTTGGTAGCAGCT-1</td><td>2990</td><td> 342</td><td>K562</td><td>8.003029</td><td>0.11438127</td></tr>\n",
       "\t<tr><th scope=row>Multiome10x_06_TTTAACCTCGAAGCGG-1</th><td>Multiome10x_06_TTTAACCTCGAAGCGG-1</td><td>3052</td><td> 524</td><td>K562</td><td>8.023552</td><td>0.17169069</td></tr>\n",
       "\t<tr><th scope=row>Multiome10x_06_TTTACGAAGGAACGCG-1</th><td>Multiome10x_06_TTTACGAAGGAACGCG-1</td><td>5966</td><td> 662</td><td>K562</td><td>8.693832</td><td>0.11096212</td></tr>\n",
       "\t<tr><th scope=row>Multiome10x_06_TTTAGCAAGGTAACGA-1</th><td>Multiome10x_06_TTTAGCAAGGTAACGA-1</td><td>4010</td><td> 525</td><td>K562</td><td>8.296547</td><td>0.13092269</td></tr>\n",
       "\t<tr><th scope=row>Multiome10x_06_TTTATGGAGGGCTAAA-1</th><td>Multiome10x_06_TTTATGGAGGGCTAAA-1</td><td>2822</td><td> 301</td><td>K562</td><td>7.945201</td><td>0.10666194</td></tr>\n",
       "\t<tr><th scope=row>Multiome10x_06_TTTCCACCAAATTGCT-1</th><td>Multiome10x_06_TTTCCACCAAATTGCT-1</td><td>2985</td><td> 341</td><td>K562</td><td>8.001355</td><td>0.11423786</td></tr>\n",
       "\t<tr><th scope=row>Multiome10x_06_TTTCCACCAAGCTAAA-1</th><td>Multiome10x_06_TTTCCACCAAGCTAAA-1</td><td>2251</td><td> 287</td><td>K562</td><td>7.719130</td><td>0.12749889</td></tr>\n",
       "\t<tr><th scope=row>Multiome10x_06_TTTCCACCAGATTCAT-1</th><td>Multiome10x_06_TTTCCACCAGATTCAT-1</td><td>2102</td><td> 316</td><td>K562</td><td>7.650645</td><td>0.15033302</td></tr>\n",
       "\t<tr><th scope=row>Multiome10x_06_TTTCCACCATCATGGC-1</th><td>Multiome10x_06_TTTCCACCATCATGGC-1</td><td>8027</td><td>1078</td><td>K562</td><td>8.990566</td><td>0.13429675</td></tr>\n",
       "\t<tr><th scope=row>Multiome10x_06_TTTCCGGGTTGTCCAT-1</th><td>Multiome10x_06_TTTCCGGGTTGTCCAT-1</td><td>3188</td><td> 449</td><td>K562</td><td>8.067149</td><td>0.14084065</td></tr>\n",
       "\t<tr><th scope=row>Multiome10x_06_TTTCCGGGTTTGCGAA-1</th><td>Multiome10x_06_TTTCCGGGTTTGCGAA-1</td><td>4065</td><td> 500</td><td>K562</td><td>8.310169</td><td>0.12300123</td></tr>\n",
       "\t<tr><th scope=row>Multiome10x_06_TTTCTTGCAGCAAGTG-1</th><td>Multiome10x_06_TTTCTTGCAGCAAGTG-1</td><td>4173</td><td> 633</td><td>K562</td><td>8.336390</td><td>0.15168943</td></tr>\n",
       "\t<tr><th scope=row>Multiome10x_06_TTTGAGTCATGAGTTT-1</th><td>Multiome10x_06_TTTGAGTCATGAGTTT-1</td><td>4864</td><td> 513</td><td>K562</td><td>8.489616</td><td>0.10546875</td></tr>\n",
       "\t<tr><th scope=row>Multiome10x_06_TTTGCATTCAGGAACA-1</th><td>Multiome10x_06_TTTGCATTCAGGAACA-1</td><td>5340</td><td> 864</td><td>K562</td><td>8.582981</td><td>0.16179775</td></tr>\n",
       "\t<tr><th scope=row>Multiome10x_06_TTTGCATTCCCGCATT-1</th><td>Multiome10x_06_TTTGCATTCCCGCATT-1</td><td>4743</td><td> 467</td><td>K562</td><td>8.464425</td><td>0.09846089</td></tr>\n",
       "\t<tr><th scope=row>Multiome10x_06_TTTGCATTCGCCTGTT-1</th><td>Multiome10x_06_TTTGCATTCGCCTGTT-1</td><td>5497</td><td> 893</td><td>K562</td><td>8.611958</td><td>0.16245225</td></tr>\n",
       "\t<tr><th scope=row>Multiome10x_06_TTTGGCTGTTAGAGCC-1</th><td>Multiome10x_06_TTTGGCTGTTAGAGCC-1</td><td>6082</td><td> 683</td><td>K562</td><td>8.713089</td><td>0.11229859</td></tr>\n",
       "\t<tr><th scope=row>Multiome10x_06_TTTGGCTGTTAGGTGC-1</th><td>Multiome10x_06_TTTGGCTGTTAGGTGC-1</td><td>7732</td><td>1260</td><td>K562</td><td>8.953123</td><td>0.16295913</td></tr>\n",
       "\t<tr><th scope=row>Multiome10x_06_TTTGGTAAGCTAAAGG-1</th><td>Multiome10x_06_TTTGGTAAGCTAAAGG-1</td><td>3357</td><td> 527</td><td>K562</td><td>8.118803</td><td>0.15698540</td></tr>\n",
       "\t<tr><th scope=row>Multiome10x_06_TTTGGTGCACTTCATC-1</th><td>Multiome10x_06_TTTGGTGCACTTCATC-1</td><td>4649</td><td> 514</td><td>K562</td><td>8.444407</td><td>0.11056141</td></tr>\n",
       "\t<tr><th scope=row>Multiome10x_06_TTTGTCCCAAGCTACC-1</th><td>Multiome10x_06_TTTGTCCCAAGCTACC-1</td><td>4890</td><td> 623</td><td>K562</td><td>8.494948</td><td>0.12740286</td></tr>\n",
       "\t<tr><th scope=row>Multiome10x_06_TTTGTCCCAGGACCAA-1</th><td>Multiome10x_06_TTTGTCCCAGGACCAA-1</td><td>4616</td><td> 523</td><td>K562</td><td>8.437284</td><td>0.11330156</td></tr>\n",
       "\t<tr><th scope=row>Multiome10x_06_TTTGTCTAGCCTCTGT-1</th><td>Multiome10x_06_TTTGTCTAGCCTCTGT-1</td><td>4488</td><td> 663</td><td>K562</td><td>8.409162</td><td>0.14772727</td></tr>\n",
       "\t<tr><th scope=row>Multiome10x_06_TTTGTGTTCGTTTCCA-1</th><td>Multiome10x_06_TTTGTGTTCGTTTCCA-1</td><td>4462</td><td> 557</td><td>K562</td><td>8.403352</td><td>0.12483191</td></tr>\n",
       "\t<tr><th scope=row>Multiome10x_06_TTTGTTGGTACCGAAC-1</th><td>Multiome10x_06_TTTGTTGGTACCGAAC-1</td><td>1606</td><td> 181</td><td>K562</td><td>7.381502</td><td>0.11270237</td></tr>\n",
       "</tbody>\n",
       "</table>\n"
      ],
      "text/latex": [
       "A data.frame: 2713 × 6\n",
       "\\begin{tabular}{r|llllll}\n",
       "  & cell & nUMI & nMito & celltype & log.nUMI & percent.mito\\\\\n",
       "  & <chr> & <dbl> & <dbl> & <chr> & <dbl> & <dbl>\\\\\n",
       "\\hline\n",
       "\tMultiome10x\\_05\\_AAACAGCCAACAACAA-1 & Multiome10x\\_05\\_AAACAGCCAACAACAA-1 & 2924 & 530 & K562 & 7.980708 & 0.18125855\\\\\n",
       "\tMultiome10x\\_05\\_AAACAGCCATCCTAGA-1 & Multiome10x\\_05\\_AAACAGCCATCCTAGA-1 & 4553 & 608 & K562 & 8.423542 & 0.13353833\\\\\n",
       "\tMultiome10x\\_05\\_AAACATGCAAAGGTAC-1 & Multiome10x\\_05\\_AAACATGCAAAGGTAC-1 & 3957 & 547 & K562 & 8.283241 & 0.13823604\\\\\n",
       "\tMultiome10x\\_05\\_AAACATGCAGGACCAA-1 & Multiome10x\\_05\\_AAACATGCAGGACCAA-1 & 2856 & 404 & K562 & 7.957177 & 0.14145658\\\\\n",
       "\tMultiome10x\\_05\\_AAACCAACAACTAACT-1 & Multiome10x\\_05\\_AAACCAACAACTAACT-1 & 4542 & 513 & K562 & 8.421123 & 0.11294584\\\\\n",
       "\tMultiome10x\\_05\\_AAACCAACATGTTTGG-1 & Multiome10x\\_05\\_AAACCAACATGTTTGG-1 & 3298 & 447 & K562 & 8.101072 & 0.13553669\\\\\n",
       "\tMultiome10x\\_05\\_AAACGGATCGTTAACA-1 & Multiome10x\\_05\\_AAACGGATCGTTAACA-1 & 3043 & 425 & K562 & 8.020599 & 0.13966480\\\\\n",
       "\tMultiome10x\\_05\\_AAACGTACACTAGGTC-1 & Multiome10x\\_05\\_AAACGTACACTAGGTC-1 & 3781 & 569 & K562 & 8.237744 & 0.15048929\\\\\n",
       "\tMultiome10x\\_05\\_AAAGCACCAGCTTAAT-1 & Multiome10x\\_05\\_AAAGCACCAGCTTAAT-1 & 4365 & 627 & K562 & 8.381373 & 0.14364261\\\\\n",
       "\tMultiome10x\\_05\\_AAAGCCCGTCCTTTAA-1 & Multiome10x\\_05\\_AAAGCCCGTCCTTTAA-1 & 1768 & 270 & K562 & 7.477604 & 0.15271493\\\\\n",
       "\tMultiome10x\\_05\\_AAAGCTTGTTAAGGTT-1 & Multiome10x\\_05\\_AAAGCTTGTTAAGGTT-1 & 5286 & 809 & K562 & 8.572817 & 0.15304578\\\\\n",
       "\tMultiome10x\\_05\\_AAAGGACGTTGGGTTA-1 & Multiome10x\\_05\\_AAAGGACGTTGGGTTA-1 & 3836 & 393 & K562 & 8.252185 & 0.10245047\\\\\n",
       "\tMultiome10x\\_05\\_AAAGGCTCACCAACCG-1 & Multiome10x\\_05\\_AAAGGCTCACCAACCG-1 & 3266 & 384 & K562 & 8.091321 & 0.11757502\\\\\n",
       "\tMultiome10x\\_05\\_AAATCCGGTTACAACG-1 & Multiome10x\\_05\\_AAATCCGGTTACAACG-1 & 3893 & 350 & K562 & 8.266935 & 0.08990496\\\\\n",
       "\tMultiome10x\\_05\\_AAATGCCTCACTAGGT-1 & Multiome10x\\_05\\_AAATGCCTCACTAGGT-1 & 3456 & 497 & K562 & 8.147867 & 0.14380787\\\\\n",
       "\tMultiome10x\\_05\\_AAATGCCTCATGGCTG-1 & Multiome10x\\_05\\_AAATGCCTCATGGCTG-1 & 3272 & 421 & K562 & 8.093157 & 0.12866748\\\\\n",
       "\tMultiome10x\\_05\\_AAATGCCTCCCGCCTA-1 & Multiome10x\\_05\\_AAATGCCTCCCGCCTA-1 & 6446 & 733 & K562 & 8.771215 & 0.11371393\\\\\n",
       "\tMultiome10x\\_05\\_AAATGGCCACGTAAGG-1 & Multiome10x\\_05\\_AAATGGCCACGTAAGG-1 & 4382 & 502 & K562 & 8.385261 & 0.11455956\\\\\n",
       "\tMultiome10x\\_05\\_AACAAGCCATATTGAC-1 & Multiome10x\\_05\\_AACAAGCCATATTGAC-1 & 4811 & 627 & K562 & 8.478660 & 0.13032634\\\\\n",
       "\tMultiome10x\\_05\\_AACAGATAGCAAGATG-1 & Multiome10x\\_05\\_AACAGATAGCAAGATG-1 & 4675 & 567 & K562 & 8.449984 & 0.12128342\\\\\n",
       "\tMultiome10x\\_05\\_AACAGATAGGACCTTG-1 & Multiome10x\\_05\\_AACAGATAGGACCTTG-1 & 3628 & 433 & K562 & 8.196437 & 0.11934950\\\\\n",
       "\tMultiome10x\\_05\\_AACATCATCACCGGTA-1 & Multiome10x\\_05\\_AACATCATCACCGGTA-1 & 3972 & 467 & K562 & 8.287025 & 0.11757301\\\\\n",
       "\tMultiome10x\\_05\\_AACCGGCTCGGTTTCC-1 & Multiome10x\\_05\\_AACCGGCTCGGTTTCC-1 & 5138 & 671 & K562 & 8.544419 & 0.13059556\\\\\n",
       "\tMultiome10x\\_05\\_AACCGGCTCTAACCTT-1 & Multiome10x\\_05\\_AACCGGCTCTAACCTT-1 & 9551 & 958 & K562 & 9.164401 & 0.10030363\\\\\n",
       "\tMultiome10x\\_05\\_AACCTAATCTTAGCCC-1 & Multiome10x\\_05\\_AACCTAATCTTAGCCC-1 & 5063 & 859 & K562 & 8.529714 & 0.16966226\\\\\n",
       "\tMultiome10x\\_05\\_AACCTCCTCCTAAATG-1 & Multiome10x\\_05\\_AACCTCCTCCTAAATG-1 & 3345 & 483 & K562 & 8.115222 & 0.14439462\\\\\n",
       "\tMultiome10x\\_05\\_AACGGTAAGCGAGTAA-1 & Multiome10x\\_05\\_AACGGTAAGCGAGTAA-1 & 5751 & 704 & K562 & 8.657129 & 0.12241349\\\\\n",
       "\tMultiome10x\\_05\\_AACGGTAAGCGGATAA-1 & Multiome10x\\_05\\_AACGGTAAGCGGATAA-1 & 4715 & 379 & K562 & 8.458504 & 0.08038176\\\\\n",
       "\tMultiome10x\\_05\\_AACGGTAAGCTCCTTA-1 & Multiome10x\\_05\\_AACGGTAAGCTCCTTA-1 & 3867 & 495 & K562 & 8.260234 & 0.12800621\\\\\n",
       "\tMultiome10x\\_05\\_AACTAGTGTTTGGCGG-1 & Multiome10x\\_05\\_AACTAGTGTTTGGCGG-1 & 2448 & 422 & K562 & 7.803027 & 0.17238562\\\\\n",
       "\t⋮ & ⋮ & ⋮ & ⋮ & ⋮ & ⋮ & ⋮\\\\\n",
       "\tMultiome10x\\_06\\_TTGTGCCTCGTTAAGC-1 & Multiome10x\\_06\\_TTGTGCCTCGTTAAGC-1 & 3798 &  614 & K562 & 8.242230 & 0.16166403\\\\\n",
       "\tMultiome10x\\_06\\_TTGTGTGCAGGAATCG-1 & Multiome10x\\_06\\_TTGTGTGCAGGAATCG-1 & 3527 &  541 & K562 & 8.168203 & 0.15338815\\\\\n",
       "\tMultiome10x\\_06\\_TTGTTCCCAAGGTCCT-1 & Multiome10x\\_06\\_TTGTTCCCAAGGTCCT-1 & 3252 &  385 & K562 & 8.087025 & 0.11838868\\\\\n",
       "\tMultiome10x\\_06\\_TTGTTGCGTTGCCTCA-1 & Multiome10x\\_06\\_TTGTTGCGTTGCCTCA-1 & 3011 &  392 & K562 & 8.010028 & 0.13018931\\\\\n",
       "\tMultiome10x\\_06\\_TTGTTGTTCATGCTCC-1 & Multiome10x\\_06\\_TTGTTGTTCATGCTCC-1 & 4002 &  628 & K562 & 8.294550 & 0.15692154\\\\\n",
       "\tMultiome10x\\_06\\_TTGTTTGGTAGCAGCT-1 & Multiome10x\\_06\\_TTGTTTGGTAGCAGCT-1 & 2990 &  342 & K562 & 8.003029 & 0.11438127\\\\\n",
       "\tMultiome10x\\_06\\_TTTAACCTCGAAGCGG-1 & Multiome10x\\_06\\_TTTAACCTCGAAGCGG-1 & 3052 &  524 & K562 & 8.023552 & 0.17169069\\\\\n",
       "\tMultiome10x\\_06\\_TTTACGAAGGAACGCG-1 & Multiome10x\\_06\\_TTTACGAAGGAACGCG-1 & 5966 &  662 & K562 & 8.693832 & 0.11096212\\\\\n",
       "\tMultiome10x\\_06\\_TTTAGCAAGGTAACGA-1 & Multiome10x\\_06\\_TTTAGCAAGGTAACGA-1 & 4010 &  525 & K562 & 8.296547 & 0.13092269\\\\\n",
       "\tMultiome10x\\_06\\_TTTATGGAGGGCTAAA-1 & Multiome10x\\_06\\_TTTATGGAGGGCTAAA-1 & 2822 &  301 & K562 & 7.945201 & 0.10666194\\\\\n",
       "\tMultiome10x\\_06\\_TTTCCACCAAATTGCT-1 & Multiome10x\\_06\\_TTTCCACCAAATTGCT-1 & 2985 &  341 & K562 & 8.001355 & 0.11423786\\\\\n",
       "\tMultiome10x\\_06\\_TTTCCACCAAGCTAAA-1 & Multiome10x\\_06\\_TTTCCACCAAGCTAAA-1 & 2251 &  287 & K562 & 7.719130 & 0.12749889\\\\\n",
       "\tMultiome10x\\_06\\_TTTCCACCAGATTCAT-1 & Multiome10x\\_06\\_TTTCCACCAGATTCAT-1 & 2102 &  316 & K562 & 7.650645 & 0.15033302\\\\\n",
       "\tMultiome10x\\_06\\_TTTCCACCATCATGGC-1 & Multiome10x\\_06\\_TTTCCACCATCATGGC-1 & 8027 & 1078 & K562 & 8.990566 & 0.13429675\\\\\n",
       "\tMultiome10x\\_06\\_TTTCCGGGTTGTCCAT-1 & Multiome10x\\_06\\_TTTCCGGGTTGTCCAT-1 & 3188 &  449 & K562 & 8.067149 & 0.14084065\\\\\n",
       "\tMultiome10x\\_06\\_TTTCCGGGTTTGCGAA-1 & Multiome10x\\_06\\_TTTCCGGGTTTGCGAA-1 & 4065 &  500 & K562 & 8.310169 & 0.12300123\\\\\n",
       "\tMultiome10x\\_06\\_TTTCTTGCAGCAAGTG-1 & Multiome10x\\_06\\_TTTCTTGCAGCAAGTG-1 & 4173 &  633 & K562 & 8.336390 & 0.15168943\\\\\n",
       "\tMultiome10x\\_06\\_TTTGAGTCATGAGTTT-1 & Multiome10x\\_06\\_TTTGAGTCATGAGTTT-1 & 4864 &  513 & K562 & 8.489616 & 0.10546875\\\\\n",
       "\tMultiome10x\\_06\\_TTTGCATTCAGGAACA-1 & Multiome10x\\_06\\_TTTGCATTCAGGAACA-1 & 5340 &  864 & K562 & 8.582981 & 0.16179775\\\\\n",
       "\tMultiome10x\\_06\\_TTTGCATTCCCGCATT-1 & Multiome10x\\_06\\_TTTGCATTCCCGCATT-1 & 4743 &  467 & K562 & 8.464425 & 0.09846089\\\\\n",
       "\tMultiome10x\\_06\\_TTTGCATTCGCCTGTT-1 & Multiome10x\\_06\\_TTTGCATTCGCCTGTT-1 & 5497 &  893 & K562 & 8.611958 & 0.16245225\\\\\n",
       "\tMultiome10x\\_06\\_TTTGGCTGTTAGAGCC-1 & Multiome10x\\_06\\_TTTGGCTGTTAGAGCC-1 & 6082 &  683 & K562 & 8.713089 & 0.11229859\\\\\n",
       "\tMultiome10x\\_06\\_TTTGGCTGTTAGGTGC-1 & Multiome10x\\_06\\_TTTGGCTGTTAGGTGC-1 & 7732 & 1260 & K562 & 8.953123 & 0.16295913\\\\\n",
       "\tMultiome10x\\_06\\_TTTGGTAAGCTAAAGG-1 & Multiome10x\\_06\\_TTTGGTAAGCTAAAGG-1 & 3357 &  527 & K562 & 8.118803 & 0.15698540\\\\\n",
       "\tMultiome10x\\_06\\_TTTGGTGCACTTCATC-1 & Multiome10x\\_06\\_TTTGGTGCACTTCATC-1 & 4649 &  514 & K562 & 8.444407 & 0.11056141\\\\\n",
       "\tMultiome10x\\_06\\_TTTGTCCCAAGCTACC-1 & Multiome10x\\_06\\_TTTGTCCCAAGCTACC-1 & 4890 &  623 & K562 & 8.494948 & 0.12740286\\\\\n",
       "\tMultiome10x\\_06\\_TTTGTCCCAGGACCAA-1 & Multiome10x\\_06\\_TTTGTCCCAGGACCAA-1 & 4616 &  523 & K562 & 8.437284 & 0.11330156\\\\\n",
       "\tMultiome10x\\_06\\_TTTGTCTAGCCTCTGT-1 & Multiome10x\\_06\\_TTTGTCTAGCCTCTGT-1 & 4488 &  663 & K562 & 8.409162 & 0.14772727\\\\\n",
       "\tMultiome10x\\_06\\_TTTGTGTTCGTTTCCA-1 & Multiome10x\\_06\\_TTTGTGTTCGTTTCCA-1 & 4462 &  557 & K562 & 8.403352 & 0.12483191\\\\\n",
       "\tMultiome10x\\_06\\_TTTGTTGGTACCGAAC-1 & Multiome10x\\_06\\_TTTGTTGGTACCGAAC-1 & 1606 &  181 & K562 & 7.381502 & 0.11270237\\\\\n",
       "\\end{tabular}\n"
      ],
      "text/markdown": [
       "\n",
       "A data.frame: 2713 × 6\n",
       "\n",
       "| <!--/--> | cell &lt;chr&gt; | nUMI &lt;dbl&gt; | nMito &lt;dbl&gt; | celltype &lt;chr&gt; | log.nUMI &lt;dbl&gt; | percent.mito &lt;dbl&gt; |\n",
       "|---|---|---|---|---|---|---|\n",
       "| Multiome10x_05_AAACAGCCAACAACAA-1 | Multiome10x_05_AAACAGCCAACAACAA-1 | 2924 | 530 | K562 | 7.980708 | 0.18125855 |\n",
       "| Multiome10x_05_AAACAGCCATCCTAGA-1 | Multiome10x_05_AAACAGCCATCCTAGA-1 | 4553 | 608 | K562 | 8.423542 | 0.13353833 |\n",
       "| Multiome10x_05_AAACATGCAAAGGTAC-1 | Multiome10x_05_AAACATGCAAAGGTAC-1 | 3957 | 547 | K562 | 8.283241 | 0.13823604 |\n",
       "| Multiome10x_05_AAACATGCAGGACCAA-1 | Multiome10x_05_AAACATGCAGGACCAA-1 | 2856 | 404 | K562 | 7.957177 | 0.14145658 |\n",
       "| Multiome10x_05_AAACCAACAACTAACT-1 | Multiome10x_05_AAACCAACAACTAACT-1 | 4542 | 513 | K562 | 8.421123 | 0.11294584 |\n",
       "| Multiome10x_05_AAACCAACATGTTTGG-1 | Multiome10x_05_AAACCAACATGTTTGG-1 | 3298 | 447 | K562 | 8.101072 | 0.13553669 |\n",
       "| Multiome10x_05_AAACGGATCGTTAACA-1 | Multiome10x_05_AAACGGATCGTTAACA-1 | 3043 | 425 | K562 | 8.020599 | 0.13966480 |\n",
       "| Multiome10x_05_AAACGTACACTAGGTC-1 | Multiome10x_05_AAACGTACACTAGGTC-1 | 3781 | 569 | K562 | 8.237744 | 0.15048929 |\n",
       "| Multiome10x_05_AAAGCACCAGCTTAAT-1 | Multiome10x_05_AAAGCACCAGCTTAAT-1 | 4365 | 627 | K562 | 8.381373 | 0.14364261 |\n",
       "| Multiome10x_05_AAAGCCCGTCCTTTAA-1 | Multiome10x_05_AAAGCCCGTCCTTTAA-1 | 1768 | 270 | K562 | 7.477604 | 0.15271493 |\n",
       "| Multiome10x_05_AAAGCTTGTTAAGGTT-1 | Multiome10x_05_AAAGCTTGTTAAGGTT-1 | 5286 | 809 | K562 | 8.572817 | 0.15304578 |\n",
       "| Multiome10x_05_AAAGGACGTTGGGTTA-1 | Multiome10x_05_AAAGGACGTTGGGTTA-1 | 3836 | 393 | K562 | 8.252185 | 0.10245047 |\n",
       "| Multiome10x_05_AAAGGCTCACCAACCG-1 | Multiome10x_05_AAAGGCTCACCAACCG-1 | 3266 | 384 | K562 | 8.091321 | 0.11757502 |\n",
       "| Multiome10x_05_AAATCCGGTTACAACG-1 | Multiome10x_05_AAATCCGGTTACAACG-1 | 3893 | 350 | K562 | 8.266935 | 0.08990496 |\n",
       "| Multiome10x_05_AAATGCCTCACTAGGT-1 | Multiome10x_05_AAATGCCTCACTAGGT-1 | 3456 | 497 | K562 | 8.147867 | 0.14380787 |\n",
       "| Multiome10x_05_AAATGCCTCATGGCTG-1 | Multiome10x_05_AAATGCCTCATGGCTG-1 | 3272 | 421 | K562 | 8.093157 | 0.12866748 |\n",
       "| Multiome10x_05_AAATGCCTCCCGCCTA-1 | Multiome10x_05_AAATGCCTCCCGCCTA-1 | 6446 | 733 | K562 | 8.771215 | 0.11371393 |\n",
       "| Multiome10x_05_AAATGGCCACGTAAGG-1 | Multiome10x_05_AAATGGCCACGTAAGG-1 | 4382 | 502 | K562 | 8.385261 | 0.11455956 |\n",
       "| Multiome10x_05_AACAAGCCATATTGAC-1 | Multiome10x_05_AACAAGCCATATTGAC-1 | 4811 | 627 | K562 | 8.478660 | 0.13032634 |\n",
       "| Multiome10x_05_AACAGATAGCAAGATG-1 | Multiome10x_05_AACAGATAGCAAGATG-1 | 4675 | 567 | K562 | 8.449984 | 0.12128342 |\n",
       "| Multiome10x_05_AACAGATAGGACCTTG-1 | Multiome10x_05_AACAGATAGGACCTTG-1 | 3628 | 433 | K562 | 8.196437 | 0.11934950 |\n",
       "| Multiome10x_05_AACATCATCACCGGTA-1 | Multiome10x_05_AACATCATCACCGGTA-1 | 3972 | 467 | K562 | 8.287025 | 0.11757301 |\n",
       "| Multiome10x_05_AACCGGCTCGGTTTCC-1 | Multiome10x_05_AACCGGCTCGGTTTCC-1 | 5138 | 671 | K562 | 8.544419 | 0.13059556 |\n",
       "| Multiome10x_05_AACCGGCTCTAACCTT-1 | Multiome10x_05_AACCGGCTCTAACCTT-1 | 9551 | 958 | K562 | 9.164401 | 0.10030363 |\n",
       "| Multiome10x_05_AACCTAATCTTAGCCC-1 | Multiome10x_05_AACCTAATCTTAGCCC-1 | 5063 | 859 | K562 | 8.529714 | 0.16966226 |\n",
       "| Multiome10x_05_AACCTCCTCCTAAATG-1 | Multiome10x_05_AACCTCCTCCTAAATG-1 | 3345 | 483 | K562 | 8.115222 | 0.14439462 |\n",
       "| Multiome10x_05_AACGGTAAGCGAGTAA-1 | Multiome10x_05_AACGGTAAGCGAGTAA-1 | 5751 | 704 | K562 | 8.657129 | 0.12241349 |\n",
       "| Multiome10x_05_AACGGTAAGCGGATAA-1 | Multiome10x_05_AACGGTAAGCGGATAA-1 | 4715 | 379 | K562 | 8.458504 | 0.08038176 |\n",
       "| Multiome10x_05_AACGGTAAGCTCCTTA-1 | Multiome10x_05_AACGGTAAGCTCCTTA-1 | 3867 | 495 | K562 | 8.260234 | 0.12800621 |\n",
       "| Multiome10x_05_AACTAGTGTTTGGCGG-1 | Multiome10x_05_AACTAGTGTTTGGCGG-1 | 2448 | 422 | K562 | 7.803027 | 0.17238562 |\n",
       "| ⋮ | ⋮ | ⋮ | ⋮ | ⋮ | ⋮ | ⋮ |\n",
       "| Multiome10x_06_TTGTGCCTCGTTAAGC-1 | Multiome10x_06_TTGTGCCTCGTTAAGC-1 | 3798 |  614 | K562 | 8.242230 | 0.16166403 |\n",
       "| Multiome10x_06_TTGTGTGCAGGAATCG-1 | Multiome10x_06_TTGTGTGCAGGAATCG-1 | 3527 |  541 | K562 | 8.168203 | 0.15338815 |\n",
       "| Multiome10x_06_TTGTTCCCAAGGTCCT-1 | Multiome10x_06_TTGTTCCCAAGGTCCT-1 | 3252 |  385 | K562 | 8.087025 | 0.11838868 |\n",
       "| Multiome10x_06_TTGTTGCGTTGCCTCA-1 | Multiome10x_06_TTGTTGCGTTGCCTCA-1 | 3011 |  392 | K562 | 8.010028 | 0.13018931 |\n",
       "| Multiome10x_06_TTGTTGTTCATGCTCC-1 | Multiome10x_06_TTGTTGTTCATGCTCC-1 | 4002 |  628 | K562 | 8.294550 | 0.15692154 |\n",
       "| Multiome10x_06_TTGTTTGGTAGCAGCT-1 | Multiome10x_06_TTGTTTGGTAGCAGCT-1 | 2990 |  342 | K562 | 8.003029 | 0.11438127 |\n",
       "| Multiome10x_06_TTTAACCTCGAAGCGG-1 | Multiome10x_06_TTTAACCTCGAAGCGG-1 | 3052 |  524 | K562 | 8.023552 | 0.17169069 |\n",
       "| Multiome10x_06_TTTACGAAGGAACGCG-1 | Multiome10x_06_TTTACGAAGGAACGCG-1 | 5966 |  662 | K562 | 8.693832 | 0.11096212 |\n",
       "| Multiome10x_06_TTTAGCAAGGTAACGA-1 | Multiome10x_06_TTTAGCAAGGTAACGA-1 | 4010 |  525 | K562 | 8.296547 | 0.13092269 |\n",
       "| Multiome10x_06_TTTATGGAGGGCTAAA-1 | Multiome10x_06_TTTATGGAGGGCTAAA-1 | 2822 |  301 | K562 | 7.945201 | 0.10666194 |\n",
       "| Multiome10x_06_TTTCCACCAAATTGCT-1 | Multiome10x_06_TTTCCACCAAATTGCT-1 | 2985 |  341 | K562 | 8.001355 | 0.11423786 |\n",
       "| Multiome10x_06_TTTCCACCAAGCTAAA-1 | Multiome10x_06_TTTCCACCAAGCTAAA-1 | 2251 |  287 | K562 | 7.719130 | 0.12749889 |\n",
       "| Multiome10x_06_TTTCCACCAGATTCAT-1 | Multiome10x_06_TTTCCACCAGATTCAT-1 | 2102 |  316 | K562 | 7.650645 | 0.15033302 |\n",
       "| Multiome10x_06_TTTCCACCATCATGGC-1 | Multiome10x_06_TTTCCACCATCATGGC-1 | 8027 | 1078 | K562 | 8.990566 | 0.13429675 |\n",
       "| Multiome10x_06_TTTCCGGGTTGTCCAT-1 | Multiome10x_06_TTTCCGGGTTGTCCAT-1 | 3188 |  449 | K562 | 8.067149 | 0.14084065 |\n",
       "| Multiome10x_06_TTTCCGGGTTTGCGAA-1 | Multiome10x_06_TTTCCGGGTTTGCGAA-1 | 4065 |  500 | K562 | 8.310169 | 0.12300123 |\n",
       "| Multiome10x_06_TTTCTTGCAGCAAGTG-1 | Multiome10x_06_TTTCTTGCAGCAAGTG-1 | 4173 |  633 | K562 | 8.336390 | 0.15168943 |\n",
       "| Multiome10x_06_TTTGAGTCATGAGTTT-1 | Multiome10x_06_TTTGAGTCATGAGTTT-1 | 4864 |  513 | K562 | 8.489616 | 0.10546875 |\n",
       "| Multiome10x_06_TTTGCATTCAGGAACA-1 | Multiome10x_06_TTTGCATTCAGGAACA-1 | 5340 |  864 | K562 | 8.582981 | 0.16179775 |\n",
       "| Multiome10x_06_TTTGCATTCCCGCATT-1 | Multiome10x_06_TTTGCATTCCCGCATT-1 | 4743 |  467 | K562 | 8.464425 | 0.09846089 |\n",
       "| Multiome10x_06_TTTGCATTCGCCTGTT-1 | Multiome10x_06_TTTGCATTCGCCTGTT-1 | 5497 |  893 | K562 | 8.611958 | 0.16245225 |\n",
       "| Multiome10x_06_TTTGGCTGTTAGAGCC-1 | Multiome10x_06_TTTGGCTGTTAGAGCC-1 | 6082 |  683 | K562 | 8.713089 | 0.11229859 |\n",
       "| Multiome10x_06_TTTGGCTGTTAGGTGC-1 | Multiome10x_06_TTTGGCTGTTAGGTGC-1 | 7732 | 1260 | K562 | 8.953123 | 0.16295913 |\n",
       "| Multiome10x_06_TTTGGTAAGCTAAAGG-1 | Multiome10x_06_TTTGGTAAGCTAAAGG-1 | 3357 |  527 | K562 | 8.118803 | 0.15698540 |\n",
       "| Multiome10x_06_TTTGGTGCACTTCATC-1 | Multiome10x_06_TTTGGTGCACTTCATC-1 | 4649 |  514 | K562 | 8.444407 | 0.11056141 |\n",
       "| Multiome10x_06_TTTGTCCCAAGCTACC-1 | Multiome10x_06_TTTGTCCCAAGCTACC-1 | 4890 |  623 | K562 | 8.494948 | 0.12740286 |\n",
       "| Multiome10x_06_TTTGTCCCAGGACCAA-1 | Multiome10x_06_TTTGTCCCAGGACCAA-1 | 4616 |  523 | K562 | 8.437284 | 0.11330156 |\n",
       "| Multiome10x_06_TTTGTCTAGCCTCTGT-1 | Multiome10x_06_TTTGTCTAGCCTCTGT-1 | 4488 |  663 | K562 | 8.409162 | 0.14772727 |\n",
       "| Multiome10x_06_TTTGTGTTCGTTTCCA-1 | Multiome10x_06_TTTGTGTTCGTTTCCA-1 | 4462 |  557 | K562 | 8.403352 | 0.12483191 |\n",
       "| Multiome10x_06_TTTGTTGGTACCGAAC-1 | Multiome10x_06_TTTGTTGGTACCGAAC-1 | 1606 |  181 | K562 | 7.381502 | 0.11270237 |\n",
       "\n"
      ],
      "text/plain": [
       "                                  cell                              nUMI nMito\n",
       "Multiome10x_05_AAACAGCCAACAACAA-1 Multiome10x_05_AAACAGCCAACAACAA-1 2924 530  \n",
       "Multiome10x_05_AAACAGCCATCCTAGA-1 Multiome10x_05_AAACAGCCATCCTAGA-1 4553 608  \n",
       "Multiome10x_05_AAACATGCAAAGGTAC-1 Multiome10x_05_AAACATGCAAAGGTAC-1 3957 547  \n",
       "Multiome10x_05_AAACATGCAGGACCAA-1 Multiome10x_05_AAACATGCAGGACCAA-1 2856 404  \n",
       "Multiome10x_05_AAACCAACAACTAACT-1 Multiome10x_05_AAACCAACAACTAACT-1 4542 513  \n",
       "Multiome10x_05_AAACCAACATGTTTGG-1 Multiome10x_05_AAACCAACATGTTTGG-1 3298 447  \n",
       "Multiome10x_05_AAACGGATCGTTAACA-1 Multiome10x_05_AAACGGATCGTTAACA-1 3043 425  \n",
       "Multiome10x_05_AAACGTACACTAGGTC-1 Multiome10x_05_AAACGTACACTAGGTC-1 3781 569  \n",
       "Multiome10x_05_AAAGCACCAGCTTAAT-1 Multiome10x_05_AAAGCACCAGCTTAAT-1 4365 627  \n",
       "Multiome10x_05_AAAGCCCGTCCTTTAA-1 Multiome10x_05_AAAGCCCGTCCTTTAA-1 1768 270  \n",
       "Multiome10x_05_AAAGCTTGTTAAGGTT-1 Multiome10x_05_AAAGCTTGTTAAGGTT-1 5286 809  \n",
       "Multiome10x_05_AAAGGACGTTGGGTTA-1 Multiome10x_05_AAAGGACGTTGGGTTA-1 3836 393  \n",
       "Multiome10x_05_AAAGGCTCACCAACCG-1 Multiome10x_05_AAAGGCTCACCAACCG-1 3266 384  \n",
       "Multiome10x_05_AAATCCGGTTACAACG-1 Multiome10x_05_AAATCCGGTTACAACG-1 3893 350  \n",
       "Multiome10x_05_AAATGCCTCACTAGGT-1 Multiome10x_05_AAATGCCTCACTAGGT-1 3456 497  \n",
       "Multiome10x_05_AAATGCCTCATGGCTG-1 Multiome10x_05_AAATGCCTCATGGCTG-1 3272 421  \n",
       "Multiome10x_05_AAATGCCTCCCGCCTA-1 Multiome10x_05_AAATGCCTCCCGCCTA-1 6446 733  \n",
       "Multiome10x_05_AAATGGCCACGTAAGG-1 Multiome10x_05_AAATGGCCACGTAAGG-1 4382 502  \n",
       "Multiome10x_05_AACAAGCCATATTGAC-1 Multiome10x_05_AACAAGCCATATTGAC-1 4811 627  \n",
       "Multiome10x_05_AACAGATAGCAAGATG-1 Multiome10x_05_AACAGATAGCAAGATG-1 4675 567  \n",
       "Multiome10x_05_AACAGATAGGACCTTG-1 Multiome10x_05_AACAGATAGGACCTTG-1 3628 433  \n",
       "Multiome10x_05_AACATCATCACCGGTA-1 Multiome10x_05_AACATCATCACCGGTA-1 3972 467  \n",
       "Multiome10x_05_AACCGGCTCGGTTTCC-1 Multiome10x_05_AACCGGCTCGGTTTCC-1 5138 671  \n",
       "Multiome10x_05_AACCGGCTCTAACCTT-1 Multiome10x_05_AACCGGCTCTAACCTT-1 9551 958  \n",
       "Multiome10x_05_AACCTAATCTTAGCCC-1 Multiome10x_05_AACCTAATCTTAGCCC-1 5063 859  \n",
       "Multiome10x_05_AACCTCCTCCTAAATG-1 Multiome10x_05_AACCTCCTCCTAAATG-1 3345 483  \n",
       "Multiome10x_05_AACGGTAAGCGAGTAA-1 Multiome10x_05_AACGGTAAGCGAGTAA-1 5751 704  \n",
       "Multiome10x_05_AACGGTAAGCGGATAA-1 Multiome10x_05_AACGGTAAGCGGATAA-1 4715 379  \n",
       "Multiome10x_05_AACGGTAAGCTCCTTA-1 Multiome10x_05_AACGGTAAGCTCCTTA-1 3867 495  \n",
       "Multiome10x_05_AACTAGTGTTTGGCGG-1 Multiome10x_05_AACTAGTGTTTGGCGG-1 2448 422  \n",
       "⋮                                 ⋮                                 ⋮    ⋮    \n",
       "Multiome10x_06_TTGTGCCTCGTTAAGC-1 Multiome10x_06_TTGTGCCTCGTTAAGC-1 3798  614 \n",
       "Multiome10x_06_TTGTGTGCAGGAATCG-1 Multiome10x_06_TTGTGTGCAGGAATCG-1 3527  541 \n",
       "Multiome10x_06_TTGTTCCCAAGGTCCT-1 Multiome10x_06_TTGTTCCCAAGGTCCT-1 3252  385 \n",
       "Multiome10x_06_TTGTTGCGTTGCCTCA-1 Multiome10x_06_TTGTTGCGTTGCCTCA-1 3011  392 \n",
       "Multiome10x_06_TTGTTGTTCATGCTCC-1 Multiome10x_06_TTGTTGTTCATGCTCC-1 4002  628 \n",
       "Multiome10x_06_TTGTTTGGTAGCAGCT-1 Multiome10x_06_TTGTTTGGTAGCAGCT-1 2990  342 \n",
       "Multiome10x_06_TTTAACCTCGAAGCGG-1 Multiome10x_06_TTTAACCTCGAAGCGG-1 3052  524 \n",
       "Multiome10x_06_TTTACGAAGGAACGCG-1 Multiome10x_06_TTTACGAAGGAACGCG-1 5966  662 \n",
       "Multiome10x_06_TTTAGCAAGGTAACGA-1 Multiome10x_06_TTTAGCAAGGTAACGA-1 4010  525 \n",
       "Multiome10x_06_TTTATGGAGGGCTAAA-1 Multiome10x_06_TTTATGGAGGGCTAAA-1 2822  301 \n",
       "Multiome10x_06_TTTCCACCAAATTGCT-1 Multiome10x_06_TTTCCACCAAATTGCT-1 2985  341 \n",
       "Multiome10x_06_TTTCCACCAAGCTAAA-1 Multiome10x_06_TTTCCACCAAGCTAAA-1 2251  287 \n",
       "Multiome10x_06_TTTCCACCAGATTCAT-1 Multiome10x_06_TTTCCACCAGATTCAT-1 2102  316 \n",
       "Multiome10x_06_TTTCCACCATCATGGC-1 Multiome10x_06_TTTCCACCATCATGGC-1 8027 1078 \n",
       "Multiome10x_06_TTTCCGGGTTGTCCAT-1 Multiome10x_06_TTTCCGGGTTGTCCAT-1 3188  449 \n",
       "Multiome10x_06_TTTCCGGGTTTGCGAA-1 Multiome10x_06_TTTCCGGGTTTGCGAA-1 4065  500 \n",
       "Multiome10x_06_TTTCTTGCAGCAAGTG-1 Multiome10x_06_TTTCTTGCAGCAAGTG-1 4173  633 \n",
       "Multiome10x_06_TTTGAGTCATGAGTTT-1 Multiome10x_06_TTTGAGTCATGAGTTT-1 4864  513 \n",
       "Multiome10x_06_TTTGCATTCAGGAACA-1 Multiome10x_06_TTTGCATTCAGGAACA-1 5340  864 \n",
       "Multiome10x_06_TTTGCATTCCCGCATT-1 Multiome10x_06_TTTGCATTCCCGCATT-1 4743  467 \n",
       "Multiome10x_06_TTTGCATTCGCCTGTT-1 Multiome10x_06_TTTGCATTCGCCTGTT-1 5497  893 \n",
       "Multiome10x_06_TTTGGCTGTTAGAGCC-1 Multiome10x_06_TTTGGCTGTTAGAGCC-1 6082  683 \n",
       "Multiome10x_06_TTTGGCTGTTAGGTGC-1 Multiome10x_06_TTTGGCTGTTAGGTGC-1 7732 1260 \n",
       "Multiome10x_06_TTTGGTAAGCTAAAGG-1 Multiome10x_06_TTTGGTAAGCTAAAGG-1 3357  527 \n",
       "Multiome10x_06_TTTGGTGCACTTCATC-1 Multiome10x_06_TTTGGTGCACTTCATC-1 4649  514 \n",
       "Multiome10x_06_TTTGTCCCAAGCTACC-1 Multiome10x_06_TTTGTCCCAAGCTACC-1 4890  623 \n",
       "Multiome10x_06_TTTGTCCCAGGACCAA-1 Multiome10x_06_TTTGTCCCAGGACCAA-1 4616  523 \n",
       "Multiome10x_06_TTTGTCTAGCCTCTGT-1 Multiome10x_06_TTTGTCTAGCCTCTGT-1 4488  663 \n",
       "Multiome10x_06_TTTGTGTTCGTTTCCA-1 Multiome10x_06_TTTGTGTTCGTTTCCA-1 4462  557 \n",
       "Multiome10x_06_TTTGTTGGTACCGAAC-1 Multiome10x_06_TTTGTTGGTACCGAAC-1 1606  181 \n",
       "                                  celltype log.nUMI percent.mito\n",
       "Multiome10x_05_AAACAGCCAACAACAA-1 K562     7.980708 0.18125855  \n",
       "Multiome10x_05_AAACAGCCATCCTAGA-1 K562     8.423542 0.13353833  \n",
       "Multiome10x_05_AAACATGCAAAGGTAC-1 K562     8.283241 0.13823604  \n",
       "Multiome10x_05_AAACATGCAGGACCAA-1 K562     7.957177 0.14145658  \n",
       "Multiome10x_05_AAACCAACAACTAACT-1 K562     8.421123 0.11294584  \n",
       "Multiome10x_05_AAACCAACATGTTTGG-1 K562     8.101072 0.13553669  \n",
       "Multiome10x_05_AAACGGATCGTTAACA-1 K562     8.020599 0.13966480  \n",
       "Multiome10x_05_AAACGTACACTAGGTC-1 K562     8.237744 0.15048929  \n",
       "Multiome10x_05_AAAGCACCAGCTTAAT-1 K562     8.381373 0.14364261  \n",
       "Multiome10x_05_AAAGCCCGTCCTTTAA-1 K562     7.477604 0.15271493  \n",
       "Multiome10x_05_AAAGCTTGTTAAGGTT-1 K562     8.572817 0.15304578  \n",
       "Multiome10x_05_AAAGGACGTTGGGTTA-1 K562     8.252185 0.10245047  \n",
       "Multiome10x_05_AAAGGCTCACCAACCG-1 K562     8.091321 0.11757502  \n",
       "Multiome10x_05_AAATCCGGTTACAACG-1 K562     8.266935 0.08990496  \n",
       "Multiome10x_05_AAATGCCTCACTAGGT-1 K562     8.147867 0.14380787  \n",
       "Multiome10x_05_AAATGCCTCATGGCTG-1 K562     8.093157 0.12866748  \n",
       "Multiome10x_05_AAATGCCTCCCGCCTA-1 K562     8.771215 0.11371393  \n",
       "Multiome10x_05_AAATGGCCACGTAAGG-1 K562     8.385261 0.11455956  \n",
       "Multiome10x_05_AACAAGCCATATTGAC-1 K562     8.478660 0.13032634  \n",
       "Multiome10x_05_AACAGATAGCAAGATG-1 K562     8.449984 0.12128342  \n",
       "Multiome10x_05_AACAGATAGGACCTTG-1 K562     8.196437 0.11934950  \n",
       "Multiome10x_05_AACATCATCACCGGTA-1 K562     8.287025 0.11757301  \n",
       "Multiome10x_05_AACCGGCTCGGTTTCC-1 K562     8.544419 0.13059556  \n",
       "Multiome10x_05_AACCGGCTCTAACCTT-1 K562     9.164401 0.10030363  \n",
       "Multiome10x_05_AACCTAATCTTAGCCC-1 K562     8.529714 0.16966226  \n",
       "Multiome10x_05_AACCTCCTCCTAAATG-1 K562     8.115222 0.14439462  \n",
       "Multiome10x_05_AACGGTAAGCGAGTAA-1 K562     8.657129 0.12241349  \n",
       "Multiome10x_05_AACGGTAAGCGGATAA-1 K562     8.458504 0.08038176  \n",
       "Multiome10x_05_AACGGTAAGCTCCTTA-1 K562     8.260234 0.12800621  \n",
       "Multiome10x_05_AACTAGTGTTTGGCGG-1 K562     7.803027 0.17238562  \n",
       "⋮                                 ⋮        ⋮        ⋮           \n",
       "Multiome10x_06_TTGTGCCTCGTTAAGC-1 K562     8.242230 0.16166403  \n",
       "Multiome10x_06_TTGTGTGCAGGAATCG-1 K562     8.168203 0.15338815  \n",
       "Multiome10x_06_TTGTTCCCAAGGTCCT-1 K562     8.087025 0.11838868  \n",
       "Multiome10x_06_TTGTTGCGTTGCCTCA-1 K562     8.010028 0.13018931  \n",
       "Multiome10x_06_TTGTTGTTCATGCTCC-1 K562     8.294550 0.15692154  \n",
       "Multiome10x_06_TTGTTTGGTAGCAGCT-1 K562     8.003029 0.11438127  \n",
       "Multiome10x_06_TTTAACCTCGAAGCGG-1 K562     8.023552 0.17169069  \n",
       "Multiome10x_06_TTTACGAAGGAACGCG-1 K562     8.693832 0.11096212  \n",
       "Multiome10x_06_TTTAGCAAGGTAACGA-1 K562     8.296547 0.13092269  \n",
       "Multiome10x_06_TTTATGGAGGGCTAAA-1 K562     7.945201 0.10666194  \n",
       "Multiome10x_06_TTTCCACCAAATTGCT-1 K562     8.001355 0.11423786  \n",
       "Multiome10x_06_TTTCCACCAAGCTAAA-1 K562     7.719130 0.12749889  \n",
       "Multiome10x_06_TTTCCACCAGATTCAT-1 K562     7.650645 0.15033302  \n",
       "Multiome10x_06_TTTCCACCATCATGGC-1 K562     8.990566 0.13429675  \n",
       "Multiome10x_06_TTTCCGGGTTGTCCAT-1 K562     8.067149 0.14084065  \n",
       "Multiome10x_06_TTTCCGGGTTTGCGAA-1 K562     8.310169 0.12300123  \n",
       "Multiome10x_06_TTTCTTGCAGCAAGTG-1 K562     8.336390 0.15168943  \n",
       "Multiome10x_06_TTTGAGTCATGAGTTT-1 K562     8.489616 0.10546875  \n",
       "Multiome10x_06_TTTGCATTCAGGAACA-1 K562     8.582981 0.16179775  \n",
       "Multiome10x_06_TTTGCATTCCCGCATT-1 K562     8.464425 0.09846089  \n",
       "Multiome10x_06_TTTGCATTCGCCTGTT-1 K562     8.611958 0.16245225  \n",
       "Multiome10x_06_TTTGGCTGTTAGAGCC-1 K562     8.713089 0.11229859  \n",
       "Multiome10x_06_TTTGGCTGTTAGGTGC-1 K562     8.953123 0.16295913  \n",
       "Multiome10x_06_TTTGGTAAGCTAAAGG-1 K562     8.118803 0.15698540  \n",
       "Multiome10x_06_TTTGGTGCACTTCATC-1 K562     8.444407 0.11056141  \n",
       "Multiome10x_06_TTTGTCCCAAGCTACC-1 K562     8.494948 0.12740286  \n",
       "Multiome10x_06_TTTGTCCCAGGACCAA-1 K562     8.437284 0.11330156  \n",
       "Multiome10x_06_TTTGTCTAGCCTCTGT-1 K562     8.409162 0.14772727  \n",
       "Multiome10x_06_TTTGTGTTCGTTTCCA-1 K562     8.403352 0.12483191  \n",
       "Multiome10x_06_TTTGTTGGTACCGAAC-1 K562     7.381502 0.11270237  "
      ]
     },
     "metadata": {},
     "output_type": "display_data"
    }
   ],
   "source": [
    "meta.data = data.frame(cell = colnames(matrix.rna),\n",
    "                       nUMI = colSums(matrix.rna),\n",
    "                       nMito = colSums(matrix.rna[grep(\"MT-\",rownames(matrix.rna)),]),\n",
    "                       celltype = \"K562\")\n",
    "meta.data[,\"log.nUMI\"] = log(meta.data[,\"nUMI\"])\n",
    "meta.data[,\"percent.mito\"] = meta.data[,\"nMito\"] / meta.data[,\"nUMI\"]\n",
    "meta.data"
   ]
  },
  {
   "cell_type": "markdown",
   "id": "b823cb4a-3ce6-40b1-9a0d-d5d1e4aa3912",
   "metadata": {},
   "source": [
    "RUN SCENT prediction"
   ]
  },
  {
   "cell_type": "code",
   "execution_count": 12,
   "id": "f46765dc-9de5-4411-9288-40b59435f9fb",
   "metadata": {},
   "outputs": [],
   "source": [
    "SCENT_algorithm.modified = function (object, \n",
    "                                     # celltype, \n",
    "                                     # ncores, \n",
    "                                     # regr = \"poisson\", \n",
    "                                     # bin = TRUE) \n",
    "                                     regr = \"poisson\") {\n",
    "    res <- data.frame()\n",
    "    for (n in 1:nrow(object@peak.info)) {        \n",
    "        gene <- object@peak.info[n, 1]\n",
    "        this_peak <- object@peak.info[n, 2]\n",
    "        atac_target <- data.frame(cell = colnames(object@atac), \n",
    "            atac = object@atac[this_peak, ])\n",
    "        # if (bin) {\n",
    "        #     atac_target[atac_target$atac > 0, ]$atac <- 1\n",
    "        # }\n",
    "        mrna_target <- object@rna[gene, ]\n",
    "        df <- data.frame(cell = names(mrna_target), exprs = as.numeric(mrna_target))\n",
    "        df <- merge(df, atac_target, by = \"cell\")\n",
    "        df <- merge(df, object@meta.data, by = \"cell\")\n",
    "        # df2 <- df[df[[object@celltypes]] == celltype, ]\n",
    "        df2 <- df\n",
    "        nonzero_m <- length(df2$exprs[df2$exprs > 0])/length(df2$exprs)\n",
    "        nonzero_a <- length(df2$atac[df2$atac > 0])/length(df2$atac)\n",
    "        if (nonzero_m > 0.05 & nonzero_a > 0.05) {\n",
    "            res_var <- \"exprs\"\n",
    "            pred_var <- c(\"atac\", object@covariates)\n",
    "            formula <- as.formula(paste(res_var, paste(pred_var, \n",
    "                collapse = \"+\"), sep = \"~\"))\n",
    "            if (regr == \"poisson\") {\n",
    "                base = glm(formula, family = \"poisson\", data = df2)\n",
    "                coefs <- summary(base)$coefficients[\"atac\", ]\n",
    "                # assoc <- assoc_poisson\n",
    "                assoc <- SCENT::assoc_poisson\n",
    "            }\n",
    "            else if (regr == \"negbin\") {\n",
    "                base = glm.nb(formula, data = df2)\n",
    "                coefs <- summary(base)$coefficients[\"atac\", ]\n",
    "                # assoc <- assoc_negbin\n",
    "                assoc <- SCENT::assoc_negbin\n",
    "            }\n",
    "            bs = boot::boot(df2, assoc, R = 100, formula = formula, \n",
    "                stype = \"i\", parallel = \"no\", ncpus = 1)\n",
    "            # p0 = basic_p(bs$t0[1], bs$t[, 1])\n",
    "            p0 = SCENT::basic_p(bs$t0[1], bs$t[, 1])\n",
    "            # if (p0 < 0.1) {\n",
    "            #     bs = boot::boot(df2, assoc, R = 500, formula = formula, \n",
    "            #       stype = \"i\", \n",
    "            #       # parallel = \"multicore\", ncpus = ncores)\n",
    "            #       parallel = \"no\", ncpus = 1)\n",
    "            #     # p0 = basic_p(bs$t0[1], bs$t[, 1])\n",
    "            #     p0 = SCENT::basic_p(bs$t0[1], bs$t[, 1])\n",
    "            # }\n",
    "            # if (p0 < 0.05) {\n",
    "            #     bs = boot::boot(df2, assoc, R = 2500, formula = formula, \n",
    "            #       stype = \"i\", \n",
    "            #       # parallel = \"multicore\", ncpus = ncores)\n",
    "            #       parallel = \"no\", ncpus = 1)\n",
    "            #     # p0 = basic_p(bs$t0[1], bs$t[, 1])\n",
    "            #     p0 = SCENT::basic_p(bs$t0[1], bs$t[, 1])\n",
    "            # }\n",
    "            # if (p0 < 0.01) {\n",
    "            #     bs = boot::boot(df2, assoc, R = 25000, formula = formula, \n",
    "            #       stype = \"i\", \n",
    "            #       # parallel = \"multicore\", ncpus = ncores)\n",
    "            #       parallel = \"no\", ncpus = 1)\n",
    "            #     # p0 = basic_p(bs$t0[1], bs$t[, 1])\n",
    "            #     p0 = SCENT::basic_p(bs$t0[1], bs$t[, 1])\n",
    "            # }\n",
    "            # if (p0 < 0.001) {\n",
    "            #     bs = boot::boot(df2, assoc, R = 50000, formula = formula, \n",
    "            #       stype = \"i\", \n",
    "            #       # parallel = \"multicore\", ncpus = ncores)\n",
    "            #       parallel = \"no\", ncpus = 1)\n",
    "            #     # p0 = basic_p(bs$t0[1], bs$t[, 1])\n",
    "            #     p0 = SCENT::basic_p(bs$t0[1], bs$t[, 1])\n",
    "            # }\n",
    "            out <- data.frame(gene = gene, peak = this_peak, \n",
    "                beta = coefs[1], se = coefs[2], z = coefs[3], \n",
    "                p = coefs[4], boot_basic_p = p0)           \n",
    "            res <- rbind(res, out)\n",
    "        }\n",
    "    }\n",
    "    object@SCENT.result <- res\n",
    "    return(object)\n",
    "}"
   ]
  },
  {
   "cell_type": "code",
   "execution_count": 13,
   "id": "563771b9-b96a-44d5-a5fe-fa30a7b9851b",
   "metadata": {},
   "outputs": [],
   "source": [
    "dir.create(paste(dir.output,\"chr\",sep = \"/\"),recursive = T)"
   ]
  },
  {
   "cell_type": "code",
   "execution_count": 14,
   "id": "0d2266ce-b92d-40d2-9b78-f39bd33a5079",
   "metadata": {},
   "outputs": [],
   "source": [
    "chr.done = dir(paste(dir.output,\"chr\",sep = \"/\"))\n",
    "chr.run = as.character(unique(seqnames(pairs.E2G.filter2)))\n",
    "chr.run = chr.run[!chr.run %in% chr.done]"
   ]
  },
  {
   "cell_type": "code",
   "execution_count": 15,
   "id": "2d41238d-e833-4e0e-add5-bb56bb615c1a",
   "metadata": {},
   "outputs": [
    {
     "name": "stdout",
     "output_type": "stream",
     "text": [
      "[1] \"chr1\"\n"
     ]
    },
    {
     "name": "stderr",
     "output_type": "stream",
     "text": [
      "Warning message in split.default(x = seq_len(nrow(x)), f = f, drop = drop, ...):\n",
      "“data length is not a multiple of split variable”\n"
     ]
    },
    {
     "name": "stdout",
     "output_type": "stream",
     "text": [
      "[1] \"chr10\"\n"
     ]
    },
    {
     "name": "stderr",
     "output_type": "stream",
     "text": [
      "Warning message in split.default(x = seq_len(nrow(x)), f = f, drop = drop, ...):\n",
      "“data length is not a multiple of split variable”\n"
     ]
    },
    {
     "name": "stdout",
     "output_type": "stream",
     "text": [
      "[1] \"chr11\"\n"
     ]
    },
    {
     "name": "stderr",
     "output_type": "stream",
     "text": [
      "Warning message in split.default(x = seq_len(nrow(x)), f = f, drop = drop, ...):\n",
      "“data length is not a multiple of split variable”\n"
     ]
    },
    {
     "name": "stdout",
     "output_type": "stream",
     "text": [
      "[1] \"chr12\"\n"
     ]
    },
    {
     "name": "stderr",
     "output_type": "stream",
     "text": [
      "Warning message in split.default(x = seq_len(nrow(x)), f = f, drop = drop, ...):\n",
      "“data length is not a multiple of split variable”\n"
     ]
    },
    {
     "name": "stdout",
     "output_type": "stream",
     "text": [
      "[1] \"chr13\"\n"
     ]
    },
    {
     "name": "stderr",
     "output_type": "stream",
     "text": [
      "Warning message in split.default(x = seq_len(nrow(x)), f = f, drop = drop, ...):\n",
      "“data length is not a multiple of split variable”\n"
     ]
    },
    {
     "name": "stdout",
     "output_type": "stream",
     "text": [
      "[1] \"chr14\"\n"
     ]
    },
    {
     "name": "stderr",
     "output_type": "stream",
     "text": [
      "Warning message in split.default(x = seq_len(nrow(x)), f = f, drop = drop, ...):\n",
      "“data length is not a multiple of split variable”\n"
     ]
    },
    {
     "name": "stdout",
     "output_type": "stream",
     "text": [
      "[1] \"chr15\"\n"
     ]
    },
    {
     "name": "stderr",
     "output_type": "stream",
     "text": [
      "Warning message in split.default(x = seq_len(nrow(x)), f = f, drop = drop, ...):\n",
      "“data length is not a multiple of split variable”\n"
     ]
    },
    {
     "name": "stdout",
     "output_type": "stream",
     "text": [
      "[1] \"chr16\"\n"
     ]
    },
    {
     "name": "stderr",
     "output_type": "stream",
     "text": [
      "Warning message in split.default(x = seq_len(nrow(x)), f = f, drop = drop, ...):\n",
      "“data length is not a multiple of split variable”\n"
     ]
    },
    {
     "name": "stdout",
     "output_type": "stream",
     "text": [
      "[1] \"chr17\"\n"
     ]
    },
    {
     "name": "stderr",
     "output_type": "stream",
     "text": [
      "Warning message in split.default(x = seq_len(nrow(x)), f = f, drop = drop, ...):\n",
      "“data length is not a multiple of split variable”\n"
     ]
    },
    {
     "name": "stdout",
     "output_type": "stream",
     "text": [
      "[1] \"chr18\"\n"
     ]
    },
    {
     "name": "stderr",
     "output_type": "stream",
     "text": [
      "Warning message in split.default(x = seq_len(nrow(x)), f = f, drop = drop, ...):\n",
      "“data length is not a multiple of split variable”\n"
     ]
    },
    {
     "name": "stdout",
     "output_type": "stream",
     "text": [
      "[1] \"chr19\"\n"
     ]
    },
    {
     "name": "stderr",
     "output_type": "stream",
     "text": [
      "Warning message in split.default(x = seq_len(nrow(x)), f = f, drop = drop, ...):\n",
      "“data length is not a multiple of split variable”\n"
     ]
    },
    {
     "name": "stdout",
     "output_type": "stream",
     "text": [
      "[1] \"chr2\"\n"
     ]
    },
    {
     "name": "stderr",
     "output_type": "stream",
     "text": [
      "Warning message in split.default(x = seq_len(nrow(x)), f = f, drop = drop, ...):\n",
      "“data length is not a multiple of split variable”\n"
     ]
    },
    {
     "name": "stdout",
     "output_type": "stream",
     "text": [
      "[1] \"chr20\"\n"
     ]
    },
    {
     "name": "stderr",
     "output_type": "stream",
     "text": [
      "Warning message in split.default(x = seq_len(nrow(x)), f = f, drop = drop, ...):\n",
      "“data length is not a multiple of split variable”\n"
     ]
    },
    {
     "name": "stdout",
     "output_type": "stream",
     "text": [
      "[1] \"chr21\"\n"
     ]
    },
    {
     "name": "stderr",
     "output_type": "stream",
     "text": [
      "Warning message in split.default(x = seq_len(nrow(x)), f = f, drop = drop, ...):\n",
      "“data length is not a multiple of split variable”\n"
     ]
    },
    {
     "name": "stdout",
     "output_type": "stream",
     "text": [
      "[1] \"chr22\"\n"
     ]
    },
    {
     "name": "stderr",
     "output_type": "stream",
     "text": [
      "Warning message in split.default(x = seq_len(nrow(x)), f = f, drop = drop, ...):\n",
      "“data length is not a multiple of split variable”\n"
     ]
    },
    {
     "name": "stdout",
     "output_type": "stream",
     "text": [
      "[1] \"chr3\"\n"
     ]
    },
    {
     "name": "stderr",
     "output_type": "stream",
     "text": [
      "Warning message in split.default(x = seq_len(nrow(x)), f = f, drop = drop, ...):\n",
      "“data length is not a multiple of split variable”\n"
     ]
    },
    {
     "name": "stdout",
     "output_type": "stream",
     "text": [
      "[1] \"chr4\"\n"
     ]
    },
    {
     "name": "stderr",
     "output_type": "stream",
     "text": [
      "Warning message in split.default(x = seq_len(nrow(x)), f = f, drop = drop, ...):\n",
      "“data length is not a multiple of split variable”\n"
     ]
    },
    {
     "name": "stdout",
     "output_type": "stream",
     "text": [
      "[1] \"chr5\"\n"
     ]
    },
    {
     "name": "stderr",
     "output_type": "stream",
     "text": [
      "Warning message in split.default(x = seq_len(nrow(x)), f = f, drop = drop, ...):\n",
      "“data length is not a multiple of split variable”\n"
     ]
    },
    {
     "name": "stdout",
     "output_type": "stream",
     "text": [
      "[1] \"chr6\"\n"
     ]
    },
    {
     "name": "stderr",
     "output_type": "stream",
     "text": [
      "Warning message in split.default(x = seq_len(nrow(x)), f = f, drop = drop, ...):\n",
      "“data length is not a multiple of split variable”\n"
     ]
    },
    {
     "name": "stdout",
     "output_type": "stream",
     "text": [
      "[1] \"chr7\"\n"
     ]
    },
    {
     "name": "stderr",
     "output_type": "stream",
     "text": [
      "Warning message in split.default(x = seq_len(nrow(x)), f = f, drop = drop, ...):\n",
      "“data length is not a multiple of split variable”\n"
     ]
    },
    {
     "name": "stdout",
     "output_type": "stream",
     "text": [
      "[1] \"chr8\"\n"
     ]
    },
    {
     "name": "stderr",
     "output_type": "stream",
     "text": [
      "Warning message in split.default(x = seq_len(nrow(x)), f = f, drop = drop, ...):\n",
      "“data length is not a multiple of split variable”\n"
     ]
    },
    {
     "name": "stdout",
     "output_type": "stream",
     "text": [
      "[1] \"chr9\"\n"
     ]
    },
    {
     "name": "stderr",
     "output_type": "stream",
     "text": [
      "Warning message in split.default(x = seq_len(nrow(x)), f = f, drop = drop, ...):\n",
      "“data length is not a multiple of split variable”\n"
     ]
    },
    {
     "name": "stdout",
     "output_type": "stream",
     "text": [
      "[1] \"chrX\"\n"
     ]
    },
    {
     "name": "stderr",
     "output_type": "stream",
     "text": [
      "Warning message in split.default(x = seq_len(nrow(x)), f = f, drop = drop, ...):\n",
      "“data length is not a multiple of split variable”\n"
     ]
    }
   ],
   "source": [
    "for(chr.tmp in chr.run){\n",
    "  print(chr.tmp)\n",
    "  pairs.E2G.chr.res = pairs.E2G.filter2[seqnames(pairs.E2G.filter2) == chr.tmp]\n",
    "  gene_peak.chr = as.data.frame(mcols(pairs.E2G.chr.res)[,c(\"TargetGene\",\"PeakName\")])\n",
    "  list.gene_peak.chr <- split(gene_peak.chr, seq_len(n.cores))\n",
    "  \n",
    "  list.obj.SCENT.chr <- lapply(list.gene_peak.chr, function(gene_peak.tmp) {\n",
    "    obj.SCENT.tmp <- CreateSCENTObj(\n",
    "      rna = matrix.rna[rownames(matrix.rna) %in% gene_peak.tmp$TargetGene,],\n",
    "      atac = matrix.atac[rownames(matrix.atac) %in% gene_peak.tmp$PeakName,], \n",
    "      meta.data = meta.data,\n",
    "      peak.info = gene_peak.tmp,\n",
    "      covariates = c(\"log.nUMI\",\"percent.mito\"), \n",
    "      celltypes = \"celltype\"\n",
    "    )\n",
    "  })\n",
    "  \n",
    "  cl <- makeCluster(n.cores)\n",
    "  clusterExport(cl, varlist=c(\"SCENT_algorithm.modified\"))\n",
    "  list.SCENT.result.chr <- parLapply(cl, list.obj.SCENT.chr, function(obj.SCENT.tmp) {\n",
    "    obj.SCENT.tmp <- SCENT_algorithm.modified(object = obj.SCENT.tmp)\n",
    "    return(obj.SCENT.tmp@SCENT.result)\n",
    "  })\n",
    "  stopCluster(cl)\n",
    "  \n",
    "  \n",
    "  df.SCENT.result.chr = do.call(rbind,list.SCENT.result.chr)\n",
    "  rownames(df.SCENT.result.chr) = paste(df.SCENT.result.chr$peak,\n",
    "                                        df.SCENT.result.chr$gene,\n",
    "                                        sep = \"_\")\n",
    "\n",
    "  pairs.E2G.chr.res = pairs.E2G.chr.res[pairs.E2G.chr.res$PairName %in% rownames(df.SCENT.result.chr)]\n",
    "  mcols(pairs.E2G.chr.res)[,c(\"beta\",\"se\",\"z\",\"p\",\"boot_basic_p\")] = \n",
    "    df.SCENT.result.chr[pairs.E2G.chr.res$PairName,c(\"beta\",\"se\",\"z\",\"p\",\"boot_basic_p\")]\n",
    "  pairs.E2G.chr.res$boot_basic_p.log10 = -log10(pairs.E2G.chr.res$boot_basic_p)\n",
    "  pairs.E2G.chr.res$sign = 1\n",
    "  pairs.E2G.chr.res$sign[pairs.E2G.chr.res$beta < 0] = -1\n",
    "  pairs.E2G.chr.res$boot_basic_p.log10.signed = pairs.E2G.chr.res$boot_basic_p.log10 * pairs.E2G.chr.res$sign\n",
    "  saveRDS(pairs.E2G.chr.res,\n",
    "          paste(dir.output,\"chr\",chr.tmp,sep = \"/\"))\n",
    "  rm (pairs.E2G.chr.res)\n",
    "}"
   ]
  },
  {
   "cell_type": "markdown",
   "id": "da9d1451-54e0-49e0-ae8b-cd0158115820",
   "metadata": {},
   "source": [
    "Merge results"
   ]
  },
  {
   "cell_type": "code",
   "execution_count": 16,
   "id": "6b4278f1-7d9d-402f-95c6-f274a6befea3",
   "metadata": {},
   "outputs": [],
   "source": [
    "chr.merge = as.character(unique(seqnames(pairs.E2G.filter2)))\n",
    "list.res = list()\n",
    "for(chr.tmp in chr.merge){\n",
    "    list.res[[chr.tmp]] = readRDS(paste(dir.output,\"chr\",chr.tmp,sep = \"/\"))\n",
    "}\n",
    "pairs.E2G.res = unlist(as(list.res, \"GRangesList\"))"
   ]
  },
  {
   "cell_type": "markdown",
   "id": "6ef1617e-3e2f-44f1-9245-007d569ca84d",
   "metadata": {},
   "source": [
    "Save results"
   ]
  },
  {
   "cell_type": "code",
   "execution_count": 17,
   "id": "48824f05-aedd-476c-88d6-ae58d1833fc9",
   "metadata": {},
   "outputs": [
    {
     "data": {
      "text/plain": [
       "GRanges object with 496679 ranges and 11 metadata columns:\n",
       "       seqnames              ranges strand |  TargetGene               PeakName\n",
       "          <Rle>           <IRanges>  <Rle> | <character>            <character>\n",
       "  chr1     chr1 100037723-100039165      * |      CDC14A chr1-100037723-10003..\n",
       "  chr1     chr1 100037723-100039165      * |        RTCA chr1-100037723-10003..\n",
       "  chr1     chr1 100037723-100039165      * |     SLC30A7 chr1-100037723-10003..\n",
       "  chr1     chr1 100037723-100039165      * |     SLC35A3 chr1-100037723-10003..\n",
       "  chr1     chr1 100037723-100039165      * |      TRMT13 chr1-100037723-10003..\n",
       "   ...      ...                 ...    ... .         ...                    ...\n",
       "  chrX     chrX     9981040-9982043      * |        WWC3   chrX-9981040-9982043\n",
       "  chrX     chrX     9986627-9987289      * |       TBL1X   chrX-9986627-9987289\n",
       "  chrX     chrX     9986627-9987289      * |        WWC3   chrX-9986627-9987289\n",
       "  chrX     chrX     9995789-9996213      * |       TBL1X   chrX-9995789-9996213\n",
       "  chrX     chrX     9995789-9996213      * |        WWC3   chrX-9995789-9996213\n",
       "                     PairName       beta        se         z         p\n",
       "                  <character>  <numeric> <numeric> <numeric> <numeric>\n",
       "  chr1 chr1-100037723-10003..  0.1306269 0.0612468   2.13280 0.0329415\n",
       "  chr1 chr1-100037723-10003..  0.0397018 0.1365073   0.29084 0.7711736\n",
       "  chr1 chr1-100037723-10003..  0.1120135 0.0748893   1.49572 0.1347266\n",
       "  chr1 chr1-100037723-10003..  0.1725435 0.1489663   1.15827 0.2467530\n",
       "  chr1 chr1-100037723-10003.. -0.2043553 0.1573089  -1.29907 0.1939198\n",
       "   ...                    ...        ...       ...       ...       ...\n",
       "  chrX chrX-9981040-9982043.. -0.4528618 0.2853215 -1.587198  0.112468\n",
       "  chrX chrX-9986627-9987289..  0.0536904 0.0511531  1.049602  0.293901\n",
       "  chrX chrX-9986627-9987289..  0.0727232 0.1925857  0.377615  0.705717\n",
       "  chrX chrX-9995789-9996213.. -0.0129197 0.0756101 -0.170873  0.864324\n",
       "  chrX chrX-9995789-9996213..  0.5014306 0.2288061  2.191509  0.028415\n",
       "       boot_basic_p boot_basic_p.log10      sign boot_basic_p.log10.signed\n",
       "          <numeric>          <numeric> <numeric>                 <numeric>\n",
       "  chr1         0.08           1.096910         1                  1.096910\n",
       "  chr1         0.58           0.236572         1                  0.236572\n",
       "  chr1         0.18           0.744727         1                  0.744727\n",
       "  chr1         0.22           0.657577         1                  0.657577\n",
       "  chr1         0.22           0.657577        -1                 -0.657577\n",
       "   ...          ...                ...       ...                       ...\n",
       "  chrX         0.22          0.6575773        -1                -0.6575773\n",
       "  chrX         0.38          0.4202164         1                 0.4202164\n",
       "  chrX         0.78          0.1079054         1                 0.1079054\n",
       "  chrX         0.92          0.0362122        -1                -0.0362122\n",
       "  chrX         0.06          1.2218487         1                 1.2218487\n",
       "  -------\n",
       "  seqinfo: 23 sequences from an unspecified genome; no seqlengths"
      ]
     },
     "metadata": {},
     "output_type": "display_data"
    }
   ],
   "source": [
    "saveRDS(pairs.E2G.res,\n",
    "        paste(dir.output,\"pairs.E2G.res.rds\",sep = \"/\"))\n",
    "pairs.E2G.res"
   ]
  },
  {
   "cell_type": "code",
   "execution_count": 18,
   "id": "2297128a-9ed6-42b8-90c7-459969fb5afd",
   "metadata": {},
   "outputs": [
    {
     "data": {
      "text/html": [
       "<table class=\"dataframe\">\n",
       "<caption>A data.frame: 496679 × 13</caption>\n",
       "<thead>\n",
       "\t<tr><th scope=col>chr</th><th scope=col>start</th><th scope=col>end</th><th scope=col>TargetGene</th><th scope=col>CellType</th><th scope=col>beta</th><th scope=col>se</th><th scope=col>z</th><th scope=col>p</th><th scope=col>boot_basic_p</th><th scope=col>boot_basic_p.log10</th><th scope=col>sign</th><th scope=col>boot_basic_p.log10.signed</th></tr>\n",
       "\t<tr><th scope=col>&lt;fct&gt;</th><th scope=col>&lt;int&gt;</th><th scope=col>&lt;int&gt;</th><th scope=col>&lt;chr&gt;</th><th scope=col>&lt;chr&gt;</th><th scope=col>&lt;dbl&gt;</th><th scope=col>&lt;dbl&gt;</th><th scope=col>&lt;dbl&gt;</th><th scope=col>&lt;dbl&gt;</th><th scope=col>&lt;dbl&gt;</th><th scope=col>&lt;dbl&gt;</th><th scope=col>&lt;dbl&gt;</th><th scope=col>&lt;dbl&gt;</th></tr>\n",
       "</thead>\n",
       "<tbody>\n",
       "\t<tr><td>chr1</td><td>100037723</td><td>100039165</td><td>CDC14A  </td><td>K562</td><td> 0.130626923</td><td>0.06124682</td><td> 2.13279523</td><td>0.03294153</td><td>0.08</td><td>1.09691001</td><td> 1</td><td> 1.09691001</td></tr>\n",
       "\t<tr><td>chr1</td><td>100037723</td><td>100039165</td><td>RTCA    </td><td>K562</td><td> 0.039701785</td><td>0.13650727</td><td> 0.29084008</td><td>0.77117363</td><td>0.58</td><td>0.23657201</td><td> 1</td><td> 0.23657201</td></tr>\n",
       "\t<tr><td>chr1</td><td>100037723</td><td>100039165</td><td>SLC30A7 </td><td>K562</td><td> 0.112013477</td><td>0.07488933</td><td> 1.49572008</td><td>0.13472662</td><td>0.18</td><td>0.74472749</td><td> 1</td><td> 0.74472749</td></tr>\n",
       "\t<tr><td>chr1</td><td>100037723</td><td>100039165</td><td>SLC35A3 </td><td>K562</td><td> 0.172543466</td><td>0.14896626</td><td> 1.15827213</td><td>0.24675300</td><td>0.22</td><td>0.65757732</td><td> 1</td><td> 0.65757732</td></tr>\n",
       "\t<tr><td>chr1</td><td>100037723</td><td>100039165</td><td>TRMT13  </td><td>K562</td><td>-0.204355281</td><td>0.15730888</td><td>-1.29907022</td><td>0.19391983</td><td>0.22</td><td>0.65757732</td><td>-1</td><td>-0.65757732</td></tr>\n",
       "\t<tr><td>chr1</td><td>100046417</td><td>100047254</td><td>CDC14A  </td><td>K562</td><td> 0.082390262</td><td>0.08379488</td><td> 0.98323746</td><td>0.32549058</td><td>0.32</td><td>0.49485002</td><td> 1</td><td> 0.49485002</td></tr>\n",
       "\t<tr><td>chr1</td><td>100046417</td><td>100047254</td><td>RTCA    </td><td>K562</td><td>-0.197819041</td><td>0.20579178</td><td>-0.96125821</td><td>0.33642235</td><td>0.22</td><td>0.65757732</td><td>-1</td><td>-0.65757732</td></tr>\n",
       "\t<tr><td>chr1</td><td>100046417</td><td>100047254</td><td>SLC30A7 </td><td>K562</td><td> 0.013535172</td><td>0.10520788</td><td> 0.12865170</td><td>0.89763326</td><td>0.92</td><td>0.03621217</td><td> 1</td><td> 0.03621217</td></tr>\n",
       "\t<tr><td>chr1</td><td>100046417</td><td>100047254</td><td>SLC35A3 </td><td>K562</td><td> 0.332845573</td><td>0.18809775</td><td> 1.76953509</td><td>0.07680462</td><td>0.14</td><td>0.85387196</td><td> 1</td><td> 0.85387196</td></tr>\n",
       "\t<tr><td>chr1</td><td>100046417</td><td>100047254</td><td>TRMT13  </td><td>K562</td><td>-0.103970299</td><td>0.22905190</td><td>-0.45391591</td><td>0.64988936</td><td>0.62</td><td>0.20760831</td><td>-1</td><td>-0.20760831</td></tr>\n",
       "\t<tr><td>chr1</td><td>100047374</td><td>100047651</td><td>CDC14A  </td><td>K562</td><td> 0.031430888</td><td>0.13182877</td><td> 0.23842208</td><td>0.81155375</td><td>0.78</td><td>0.10790540</td><td> 1</td><td> 0.10790540</td></tr>\n",
       "\t<tr><td>chr1</td><td>100047374</td><td>100047651</td><td>RTCA    </td><td>K562</td><td> 0.006287424</td><td>0.29702274</td><td> 0.02116816</td><td>0.98311152</td><td>0.94</td><td>0.02687215</td><td> 1</td><td> 0.02687215</td></tr>\n",
       "\t<tr><td>chr1</td><td>100047374</td><td>100047651</td><td>SLC30A7 </td><td>K562</td><td> 0.136742500</td><td>0.15397141</td><td> 0.88810320</td><td>0.37448524</td><td>0.38</td><td>0.42021640</td><td> 1</td><td> 0.42021640</td></tr>\n",
       "\t<tr><td>chr1</td><td>100047374</td><td>100047651</td><td>SLC35A3 </td><td>K562</td><td>-0.373851876</td><td>0.38545274</td><td>-0.96990328</td><td>0.33209471</td><td>0.60</td><td>0.22184875</td><td>-1</td><td>-0.22184875</td></tr>\n",
       "\t<tr><td>chr1</td><td>100047374</td><td>100047651</td><td>TRMT13  </td><td>K562</td><td>-0.133851495</td><td>0.36245774</td><td>-0.36928856</td><td>0.71191266</td><td>0.84</td><td>0.07572071</td><td>-1</td><td>-0.07572071</td></tr>\n",
       "\t<tr><td>chr1</td><td>100051462</td><td>100052009</td><td>CDC14A  </td><td>K562</td><td> 0.080645652</td><td>0.12905956</td><td> 0.62487158</td><td>0.53205535</td><td>0.58</td><td>0.23657201</td><td> 1</td><td> 0.23657201</td></tr>\n",
       "\t<tr><td>chr1</td><td>100051462</td><td>100052009</td><td>RTCA    </td><td>K562</td><td> 0.026623141</td><td>0.29737074</td><td> 0.08952845</td><td>0.92866195</td><td>0.92</td><td>0.03621217</td><td> 1</td><td> 0.03621217</td></tr>\n",
       "\t<tr><td>chr1</td><td>100051462</td><td>100052009</td><td>SLC30A7 </td><td>K562</td><td> 0.105772394</td><td>0.15581245</td><td> 0.67884431</td><td>0.49723651</td><td>0.42</td><td>0.37675071</td><td> 1</td><td> 0.37675071</td></tr>\n",
       "\t<tr><td>chr1</td><td>100051462</td><td>100052009</td><td>SLC35A3 </td><td>K562</td><td>-0.021072125</td><td>0.32569568</td><td>-0.06469882</td><td>0.94841381</td><td>0.92</td><td>0.03621217</td><td>-1</td><td>-0.03621217</td></tr>\n",
       "\t<tr><td>chr1</td><td>100051462</td><td>100052009</td><td>TRMT13  </td><td>K562</td><td> 0.294284963</td><td>0.30028140</td><td> 0.98003061</td><td>0.32707101</td><td>0.10</td><td>1.00000000</td><td> 1</td><td> 1.00000000</td></tr>\n",
       "\t<tr><td>chr1</td><td>100132479</td><td>100133471</td><td>CDC14A  </td><td>K562</td><td>-0.020864794</td><td>0.06216458</td><td>-0.33563797</td><td>0.73714389</td><td>0.68</td><td>0.16749109</td><td>-1</td><td>-0.16749109</td></tr>\n",
       "\t<tr><td>chr1</td><td>100132479</td><td>100133471</td><td>RTCA    </td><td>K562</td><td>-0.017626723</td><td>0.13841662</td><td>-0.12734543</td><td>0.89866701</td><td>0.92</td><td>0.03621217</td><td>-1</td><td>-0.03621217</td></tr>\n",
       "\t<tr><td>chr1</td><td>100132479</td><td>100133471</td><td>SLC30A7 </td><td>K562</td><td> 0.053981476</td><td>0.07566866</td><td> 0.71339283</td><td>0.47560271</td><td>0.30</td><td>0.52287875</td><td> 1</td><td> 0.52287875</td></tr>\n",
       "\t<tr><td>chr1</td><td>100132479</td><td>100133471</td><td>SLC35A3 </td><td>K562</td><td> 0.344079266</td><td>0.14883182</td><td> 2.31186624</td><td>0.02078506</td><td>0.06</td><td>1.22184875</td><td> 1</td><td> 1.22184875</td></tr>\n",
       "\t<tr><td>chr1</td><td>100132479</td><td>100133471</td><td>TRMT13  </td><td>K562</td><td>-0.207614390</td><td>0.16208046</td><td>-1.28093413</td><td>0.20021680</td><td>0.24</td><td>0.61978876</td><td>-1</td><td>-0.61978876</td></tr>\n",
       "\t<tr><td>chr1</td><td>  1001789</td><td>  1002126</td><td>ACAP3   </td><td>K562</td><td>-0.050666488</td><td>0.18623382</td><td>-0.27205847</td><td>0.78557706</td><td>0.76</td><td>0.11918641</td><td>-1</td><td>-0.11918641</td></tr>\n",
       "\t<tr><td>chr1</td><td>  1001789</td><td>  1002126</td><td>AURKAIP1</td><td>K562</td><td>-0.157981507</td><td>0.12153251</td><td>-1.29991151</td><td>0.19363130</td><td>0.20</td><td>0.69897000</td><td>-1</td><td>-0.69897000</td></tr>\n",
       "\t<tr><td>chr1</td><td>  1001789</td><td>  1002126</td><td>C1orf159</td><td>K562</td><td> 0.144131435</td><td>0.21239387</td><td> 0.67860448</td><td>0.49738850</td><td>0.40</td><td>0.39794001</td><td> 1</td><td> 0.39794001</td></tr>\n",
       "\t<tr><td>chr1</td><td>  1001789</td><td>  1002126</td><td>CCNL2   </td><td>K562</td><td> 0.121435168</td><td>0.11941114</td><td> 1.01695012</td><td>0.30917716</td><td>0.18</td><td>0.74472749</td><td> 1</td><td> 0.74472749</td></tr>\n",
       "\t<tr><td>chr1</td><td>  1001789</td><td>  1002126</td><td>CDK11A  </td><td>K562</td><td>-0.059666596</td><td>0.21805929</td><td>-0.27362557</td><td>0.78437238</td><td>0.90</td><td>0.04575749</td><td>-1</td><td>-0.04575749</td></tr>\n",
       "\t<tr><td>⋮</td><td>⋮</td><td>⋮</td><td>⋮</td><td>⋮</td><td>⋮</td><td>⋮</td><td>⋮</td><td>⋮</td><td>⋮</td><td>⋮</td><td>⋮</td><td>⋮</td></tr>\n",
       "\t<tr><td>chrX</td><td> 9378860</td><td> 9379617</td><td>WWC3   </td><td>K562</td><td> 0.058480897</td><td>0.19531354</td><td> 0.2994206</td><td>7.646191e-01</td><td>0.70</td><td>0.15490196</td><td> 1</td><td> 0.15490196</td></tr>\n",
       "\t<tr><td>chrX</td><td> 9454072</td><td> 9454721</td><td>TBL1X  </td><td>K562</td><td> 0.035961462</td><td>0.05737369</td><td> 0.6267936</td><td>5.307946e-01</td><td>0.60</td><td>0.22184875</td><td> 1</td><td> 0.22184875</td></tr>\n",
       "\t<tr><td>chrX</td><td> 9454072</td><td> 9454721</td><td>WWC3   </td><td>K562</td><td>-0.319985648</td><td>0.25171029</td><td>-1.2712458</td><td>2.036412e-01</td><td>0.32</td><td>0.49485002</td><td>-1</td><td>-0.49485002</td></tr>\n",
       "\t<tr><td>chrX</td><td> 9456378</td><td> 9457050</td><td>TBL1X  </td><td>K562</td><td> 0.057864842</td><td>0.04874710</td><td> 1.1870417</td><td>2.352112e-01</td><td>0.40</td><td>0.39794001</td><td> 1</td><td> 0.39794001</td></tr>\n",
       "\t<tr><td>chrX</td><td> 9456378</td><td> 9457050</td><td>WWC3   </td><td>K562</td><td>-0.024333997</td><td>0.19019661</td><td>-0.1279413</td><td>8.981954e-01</td><td>0.96</td><td>0.01772877</td><td>-1</td><td>-0.01772877</td></tr>\n",
       "\t<tr><td>chrX</td><td> 9462920</td><td> 9463764</td><td>TBL1X  </td><td>K562</td><td>-0.070674303</td><td>0.03916739</td><td>-1.8044172</td><td>7.116593e-02</td><td>0.20</td><td>0.69897000</td><td>-1</td><td>-0.69897000</td></tr>\n",
       "\t<tr><td>chrX</td><td> 9462920</td><td> 9463764</td><td>WWC3   </td><td>K562</td><td> 0.034719722</td><td>0.14489012</td><td> 0.2396279</td><td>8.106187e-01</td><td>0.94</td><td>0.02687215</td><td> 1</td><td> 0.02687215</td></tr>\n",
       "\t<tr><td>chrX</td><td> 9464712</td><td> 9466465</td><td>TBL1X  </td><td>K562</td><td> 0.103391576</td><td>0.03907009</td><td> 2.6463100</td><td>8.137520e-03</td><td>0.02</td><td>1.69897000</td><td> 1</td><td> 1.69897000</td></tr>\n",
       "\t<tr><td>chrX</td><td> 9464712</td><td> 9466465</td><td>WWC3   </td><td>K562</td><td>-0.188070444</td><td>0.16031890</td><td>-1.1731022</td><td>2.407548e-01</td><td>0.48</td><td>0.31875876</td><td>-1</td><td>-0.31875876</td></tr>\n",
       "\t<tr><td>chrX</td><td>96424809</td><td>96425804</td><td>DIAPH2 </td><td>K562</td><td> 0.015670994</td><td>0.04057797</td><td> 0.3861946</td><td>6.993526e-01</td><td>0.92</td><td>0.03621217</td><td> 1</td><td> 0.03621217</td></tr>\n",
       "\t<tr><td>chrX</td><td>96684333</td><td>96686193</td><td>DIAPH2 </td><td>K562</td><td> 0.038385474</td><td>0.02672465</td><td> 1.4363320</td><td>1.509079e-01</td><td>0.32</td><td>0.49485002</td><td> 1</td><td> 0.49485002</td></tr>\n",
       "\t<tr><td>chrX</td><td>96722606</td><td>96723511</td><td>DIAPH2 </td><td>K562</td><td> 0.051549232</td><td>0.04241709</td><td> 1.2152939</td><td>2.242540e-01</td><td>0.38</td><td>0.42021640</td><td> 1</td><td> 0.42021640</td></tr>\n",
       "\t<tr><td>chrX</td><td> 9676951</td><td> 9677791</td><td>TBL1X  </td><td>K562</td><td>-0.054581107</td><td>0.05888027</td><td>-0.9269847</td><td>3.539345e-01</td><td>0.66</td><td>0.18045606</td><td>-1</td><td>-0.18045606</td></tr>\n",
       "\t<tr><td>chrX</td><td> 9676951</td><td> 9677791</td><td>WWC3   </td><td>K562</td><td> 0.726094326</td><td>0.16758831</td><td> 4.3326073</td><td>1.473538e-05</td><td>0.02</td><td>1.69897000</td><td> 1</td><td> 1.69897000</td></tr>\n",
       "\t<tr><td>chrX</td><td>97563525</td><td>97564035</td><td>DIAPH2 </td><td>K562</td><td>-0.006504907</td><td>0.04630223</td><td>-0.1404880</td><td>8.882744e-01</td><td>0.90</td><td>0.04575749</td><td>-1</td><td>-0.04575749</td></tr>\n",
       "\t<tr><td>chrX</td><td>97564371</td><td>97564964</td><td>DIAPH2 </td><td>K562</td><td> 0.101078148</td><td>0.04738488</td><td> 2.1331308</td><td>3.291400e-02</td><td>0.10</td><td>1.00000000</td><td> 1</td><td> 1.00000000</td></tr>\n",
       "\t<tr><td>chrX</td><td>  989869</td><td>  990668</td><td>AKAP17A</td><td>K562</td><td>-0.174482705</td><td>0.12600943</td><td>-1.3846797</td><td>1.661504e-01</td><td>0.42</td><td>0.37675071</td><td>-1</td><td>-0.37675071</td></tr>\n",
       "\t<tr><td>chrX</td><td>  989869</td><td>  990668</td><td>ASMTL  </td><td>K562</td><td>-0.106764100</td><td>0.13774024</td><td>-0.7751119</td><td>4.382735e-01</td><td>0.52</td><td>0.28399666</td><td>-1</td><td>-0.28399666</td></tr>\n",
       "\t<tr><td>chrX</td><td>  989869</td><td>  990668</td><td>CSF2RA </td><td>K562</td><td>-0.045061453</td><td>0.05658452</td><td>-0.7963566</td><td>4.258248e-01</td><td>0.54</td><td>0.26760624</td><td>-1</td><td>-0.26760624</td></tr>\n",
       "\t<tr><td>chrX</td><td>  989869</td><td>  990668</td><td>GTPBP6 </td><td>K562</td><td>-0.029956406</td><td>0.17315254</td><td>-0.1730059</td><td>8.626468e-01</td><td>1.00</td><td>0.00000000</td><td>-1</td><td> 0.00000000</td></tr>\n",
       "\t<tr><td>chrX</td><td>  989869</td><td>  990668</td><td>IL3RA  </td><td>K562</td><td>-0.084901880</td><td>0.09503933</td><td>-0.8933342</td><td>3.716782e-01</td><td>0.26</td><td>0.58502665</td><td>-1</td><td>-0.58502665</td></tr>\n",
       "\t<tr><td>chrX</td><td>  989869</td><td>  990668</td><td>P2RY8  </td><td>K562</td><td> 0.138288137</td><td>0.07995248</td><td> 1.7296290</td><td>8.369657e-02</td><td>0.18</td><td>0.74472749</td><td> 1</td><td> 0.74472749</td></tr>\n",
       "\t<tr><td>chrX</td><td>  989869</td><td>  990668</td><td>PLCXD1 </td><td>K562</td><td> 0.379517197</td><td>0.19306144</td><td> 1.9657846</td><td>4.932350e-02</td><td>0.04</td><td>1.39794001</td><td> 1</td><td> 1.39794001</td></tr>\n",
       "\t<tr><td>chrX</td><td>  989869</td><td>  990668</td><td>SLC25A6</td><td>K562</td><td>-0.011841923</td><td>0.04858278</td><td>-0.2437474</td><td>8.074265e-01</td><td>0.80</td><td>0.09691001</td><td>-1</td><td>-0.09691001</td></tr>\n",
       "\t<tr><td>chrX</td><td> 9981040</td><td> 9982043</td><td>TBL1X  </td><td>K562</td><td> 0.094962252</td><td>0.05963559</td><td> 1.5923755</td><td>1.113004e-01</td><td>0.32</td><td>0.49485002</td><td> 1</td><td> 0.49485002</td></tr>\n",
       "\t<tr><td>chrX</td><td> 9981040</td><td> 9982043</td><td>WWC3   </td><td>K562</td><td>-0.452861760</td><td>0.28532154</td><td>-1.5871979</td><td>1.124678e-01</td><td>0.22</td><td>0.65757732</td><td>-1</td><td>-0.65757732</td></tr>\n",
       "\t<tr><td>chrX</td><td> 9986627</td><td> 9987289</td><td>TBL1X  </td><td>K562</td><td> 0.053690358</td><td>0.05115307</td><td> 1.0496018</td><td>2.939012e-01</td><td>0.38</td><td>0.42021640</td><td> 1</td><td> 0.42021640</td></tr>\n",
       "\t<tr><td>chrX</td><td> 9986627</td><td> 9987289</td><td>WWC3   </td><td>K562</td><td> 0.072723229</td><td>0.19258572</td><td> 0.3776149</td><td>7.057167e-01</td><td>0.78</td><td>0.10790540</td><td> 1</td><td> 0.10790540</td></tr>\n",
       "\t<tr><td>chrX</td><td> 9995789</td><td> 9996213</td><td>TBL1X  </td><td>K562</td><td>-0.012919738</td><td>0.07561013</td><td>-0.1708731</td><td>8.643235e-01</td><td>0.92</td><td>0.03621217</td><td>-1</td><td>-0.03621217</td></tr>\n",
       "\t<tr><td>chrX</td><td> 9995789</td><td> 9996213</td><td>WWC3   </td><td>K562</td><td> 0.501430631</td><td>0.22880608</td><td> 2.1915092</td><td>2.841496e-02</td><td>0.06</td><td>1.22184875</td><td> 1</td><td> 1.22184875</td></tr>\n",
       "</tbody>\n",
       "</table>\n"
      ],
      "text/latex": [
       "A data.frame: 496679 × 13\n",
       "\\begin{tabular}{lllllllllllll}\n",
       " chr & start & end & TargetGene & CellType & beta & se & z & p & boot\\_basic\\_p & boot\\_basic\\_p.log10 & sign & boot\\_basic\\_p.log10.signed\\\\\n",
       " <fct> & <int> & <int> & <chr> & <chr> & <dbl> & <dbl> & <dbl> & <dbl> & <dbl> & <dbl> & <dbl> & <dbl>\\\\\n",
       "\\hline\n",
       "\t chr1 & 100037723 & 100039165 & CDC14A   & K562 &  0.130626923 & 0.06124682 &  2.13279523 & 0.03294153 & 0.08 & 1.09691001 &  1 &  1.09691001\\\\\n",
       "\t chr1 & 100037723 & 100039165 & RTCA     & K562 &  0.039701785 & 0.13650727 &  0.29084008 & 0.77117363 & 0.58 & 0.23657201 &  1 &  0.23657201\\\\\n",
       "\t chr1 & 100037723 & 100039165 & SLC30A7  & K562 &  0.112013477 & 0.07488933 &  1.49572008 & 0.13472662 & 0.18 & 0.74472749 &  1 &  0.74472749\\\\\n",
       "\t chr1 & 100037723 & 100039165 & SLC35A3  & K562 &  0.172543466 & 0.14896626 &  1.15827213 & 0.24675300 & 0.22 & 0.65757732 &  1 &  0.65757732\\\\\n",
       "\t chr1 & 100037723 & 100039165 & TRMT13   & K562 & -0.204355281 & 0.15730888 & -1.29907022 & 0.19391983 & 0.22 & 0.65757732 & -1 & -0.65757732\\\\\n",
       "\t chr1 & 100046417 & 100047254 & CDC14A   & K562 &  0.082390262 & 0.08379488 &  0.98323746 & 0.32549058 & 0.32 & 0.49485002 &  1 &  0.49485002\\\\\n",
       "\t chr1 & 100046417 & 100047254 & RTCA     & K562 & -0.197819041 & 0.20579178 & -0.96125821 & 0.33642235 & 0.22 & 0.65757732 & -1 & -0.65757732\\\\\n",
       "\t chr1 & 100046417 & 100047254 & SLC30A7  & K562 &  0.013535172 & 0.10520788 &  0.12865170 & 0.89763326 & 0.92 & 0.03621217 &  1 &  0.03621217\\\\\n",
       "\t chr1 & 100046417 & 100047254 & SLC35A3  & K562 &  0.332845573 & 0.18809775 &  1.76953509 & 0.07680462 & 0.14 & 0.85387196 &  1 &  0.85387196\\\\\n",
       "\t chr1 & 100046417 & 100047254 & TRMT13   & K562 & -0.103970299 & 0.22905190 & -0.45391591 & 0.64988936 & 0.62 & 0.20760831 & -1 & -0.20760831\\\\\n",
       "\t chr1 & 100047374 & 100047651 & CDC14A   & K562 &  0.031430888 & 0.13182877 &  0.23842208 & 0.81155375 & 0.78 & 0.10790540 &  1 &  0.10790540\\\\\n",
       "\t chr1 & 100047374 & 100047651 & RTCA     & K562 &  0.006287424 & 0.29702274 &  0.02116816 & 0.98311152 & 0.94 & 0.02687215 &  1 &  0.02687215\\\\\n",
       "\t chr1 & 100047374 & 100047651 & SLC30A7  & K562 &  0.136742500 & 0.15397141 &  0.88810320 & 0.37448524 & 0.38 & 0.42021640 &  1 &  0.42021640\\\\\n",
       "\t chr1 & 100047374 & 100047651 & SLC35A3  & K562 & -0.373851876 & 0.38545274 & -0.96990328 & 0.33209471 & 0.60 & 0.22184875 & -1 & -0.22184875\\\\\n",
       "\t chr1 & 100047374 & 100047651 & TRMT13   & K562 & -0.133851495 & 0.36245774 & -0.36928856 & 0.71191266 & 0.84 & 0.07572071 & -1 & -0.07572071\\\\\n",
       "\t chr1 & 100051462 & 100052009 & CDC14A   & K562 &  0.080645652 & 0.12905956 &  0.62487158 & 0.53205535 & 0.58 & 0.23657201 &  1 &  0.23657201\\\\\n",
       "\t chr1 & 100051462 & 100052009 & RTCA     & K562 &  0.026623141 & 0.29737074 &  0.08952845 & 0.92866195 & 0.92 & 0.03621217 &  1 &  0.03621217\\\\\n",
       "\t chr1 & 100051462 & 100052009 & SLC30A7  & K562 &  0.105772394 & 0.15581245 &  0.67884431 & 0.49723651 & 0.42 & 0.37675071 &  1 &  0.37675071\\\\\n",
       "\t chr1 & 100051462 & 100052009 & SLC35A3  & K562 & -0.021072125 & 0.32569568 & -0.06469882 & 0.94841381 & 0.92 & 0.03621217 & -1 & -0.03621217\\\\\n",
       "\t chr1 & 100051462 & 100052009 & TRMT13   & K562 &  0.294284963 & 0.30028140 &  0.98003061 & 0.32707101 & 0.10 & 1.00000000 &  1 &  1.00000000\\\\\n",
       "\t chr1 & 100132479 & 100133471 & CDC14A   & K562 & -0.020864794 & 0.06216458 & -0.33563797 & 0.73714389 & 0.68 & 0.16749109 & -1 & -0.16749109\\\\\n",
       "\t chr1 & 100132479 & 100133471 & RTCA     & K562 & -0.017626723 & 0.13841662 & -0.12734543 & 0.89866701 & 0.92 & 0.03621217 & -1 & -0.03621217\\\\\n",
       "\t chr1 & 100132479 & 100133471 & SLC30A7  & K562 &  0.053981476 & 0.07566866 &  0.71339283 & 0.47560271 & 0.30 & 0.52287875 &  1 &  0.52287875\\\\\n",
       "\t chr1 & 100132479 & 100133471 & SLC35A3  & K562 &  0.344079266 & 0.14883182 &  2.31186624 & 0.02078506 & 0.06 & 1.22184875 &  1 &  1.22184875\\\\\n",
       "\t chr1 & 100132479 & 100133471 & TRMT13   & K562 & -0.207614390 & 0.16208046 & -1.28093413 & 0.20021680 & 0.24 & 0.61978876 & -1 & -0.61978876\\\\\n",
       "\t chr1 &   1001789 &   1002126 & ACAP3    & K562 & -0.050666488 & 0.18623382 & -0.27205847 & 0.78557706 & 0.76 & 0.11918641 & -1 & -0.11918641\\\\\n",
       "\t chr1 &   1001789 &   1002126 & AURKAIP1 & K562 & -0.157981507 & 0.12153251 & -1.29991151 & 0.19363130 & 0.20 & 0.69897000 & -1 & -0.69897000\\\\\n",
       "\t chr1 &   1001789 &   1002126 & C1orf159 & K562 &  0.144131435 & 0.21239387 &  0.67860448 & 0.49738850 & 0.40 & 0.39794001 &  1 &  0.39794001\\\\\n",
       "\t chr1 &   1001789 &   1002126 & CCNL2    & K562 &  0.121435168 & 0.11941114 &  1.01695012 & 0.30917716 & 0.18 & 0.74472749 &  1 &  0.74472749\\\\\n",
       "\t chr1 &   1001789 &   1002126 & CDK11A   & K562 & -0.059666596 & 0.21805929 & -0.27362557 & 0.78437238 & 0.90 & 0.04575749 & -1 & -0.04575749\\\\\n",
       "\t ⋮ & ⋮ & ⋮ & ⋮ & ⋮ & ⋮ & ⋮ & ⋮ & ⋮ & ⋮ & ⋮ & ⋮ & ⋮\\\\\n",
       "\t chrX &  9378860 &  9379617 & WWC3    & K562 &  0.058480897 & 0.19531354 &  0.2994206 & 7.646191e-01 & 0.70 & 0.15490196 &  1 &  0.15490196\\\\\n",
       "\t chrX &  9454072 &  9454721 & TBL1X   & K562 &  0.035961462 & 0.05737369 &  0.6267936 & 5.307946e-01 & 0.60 & 0.22184875 &  1 &  0.22184875\\\\\n",
       "\t chrX &  9454072 &  9454721 & WWC3    & K562 & -0.319985648 & 0.25171029 & -1.2712458 & 2.036412e-01 & 0.32 & 0.49485002 & -1 & -0.49485002\\\\\n",
       "\t chrX &  9456378 &  9457050 & TBL1X   & K562 &  0.057864842 & 0.04874710 &  1.1870417 & 2.352112e-01 & 0.40 & 0.39794001 &  1 &  0.39794001\\\\\n",
       "\t chrX &  9456378 &  9457050 & WWC3    & K562 & -0.024333997 & 0.19019661 & -0.1279413 & 8.981954e-01 & 0.96 & 0.01772877 & -1 & -0.01772877\\\\\n",
       "\t chrX &  9462920 &  9463764 & TBL1X   & K562 & -0.070674303 & 0.03916739 & -1.8044172 & 7.116593e-02 & 0.20 & 0.69897000 & -1 & -0.69897000\\\\\n",
       "\t chrX &  9462920 &  9463764 & WWC3    & K562 &  0.034719722 & 0.14489012 &  0.2396279 & 8.106187e-01 & 0.94 & 0.02687215 &  1 &  0.02687215\\\\\n",
       "\t chrX &  9464712 &  9466465 & TBL1X   & K562 &  0.103391576 & 0.03907009 &  2.6463100 & 8.137520e-03 & 0.02 & 1.69897000 &  1 &  1.69897000\\\\\n",
       "\t chrX &  9464712 &  9466465 & WWC3    & K562 & -0.188070444 & 0.16031890 & -1.1731022 & 2.407548e-01 & 0.48 & 0.31875876 & -1 & -0.31875876\\\\\n",
       "\t chrX & 96424809 & 96425804 & DIAPH2  & K562 &  0.015670994 & 0.04057797 &  0.3861946 & 6.993526e-01 & 0.92 & 0.03621217 &  1 &  0.03621217\\\\\n",
       "\t chrX & 96684333 & 96686193 & DIAPH2  & K562 &  0.038385474 & 0.02672465 &  1.4363320 & 1.509079e-01 & 0.32 & 0.49485002 &  1 &  0.49485002\\\\\n",
       "\t chrX & 96722606 & 96723511 & DIAPH2  & K562 &  0.051549232 & 0.04241709 &  1.2152939 & 2.242540e-01 & 0.38 & 0.42021640 &  1 &  0.42021640\\\\\n",
       "\t chrX &  9676951 &  9677791 & TBL1X   & K562 & -0.054581107 & 0.05888027 & -0.9269847 & 3.539345e-01 & 0.66 & 0.18045606 & -1 & -0.18045606\\\\\n",
       "\t chrX &  9676951 &  9677791 & WWC3    & K562 &  0.726094326 & 0.16758831 &  4.3326073 & 1.473538e-05 & 0.02 & 1.69897000 &  1 &  1.69897000\\\\\n",
       "\t chrX & 97563525 & 97564035 & DIAPH2  & K562 & -0.006504907 & 0.04630223 & -0.1404880 & 8.882744e-01 & 0.90 & 0.04575749 & -1 & -0.04575749\\\\\n",
       "\t chrX & 97564371 & 97564964 & DIAPH2  & K562 &  0.101078148 & 0.04738488 &  2.1331308 & 3.291400e-02 & 0.10 & 1.00000000 &  1 &  1.00000000\\\\\n",
       "\t chrX &   989869 &   990668 & AKAP17A & K562 & -0.174482705 & 0.12600943 & -1.3846797 & 1.661504e-01 & 0.42 & 0.37675071 & -1 & -0.37675071\\\\\n",
       "\t chrX &   989869 &   990668 & ASMTL   & K562 & -0.106764100 & 0.13774024 & -0.7751119 & 4.382735e-01 & 0.52 & 0.28399666 & -1 & -0.28399666\\\\\n",
       "\t chrX &   989869 &   990668 & CSF2RA  & K562 & -0.045061453 & 0.05658452 & -0.7963566 & 4.258248e-01 & 0.54 & 0.26760624 & -1 & -0.26760624\\\\\n",
       "\t chrX &   989869 &   990668 & GTPBP6  & K562 & -0.029956406 & 0.17315254 & -0.1730059 & 8.626468e-01 & 1.00 & 0.00000000 & -1 &  0.00000000\\\\\n",
       "\t chrX &   989869 &   990668 & IL3RA   & K562 & -0.084901880 & 0.09503933 & -0.8933342 & 3.716782e-01 & 0.26 & 0.58502665 & -1 & -0.58502665\\\\\n",
       "\t chrX &   989869 &   990668 & P2RY8   & K562 &  0.138288137 & 0.07995248 &  1.7296290 & 8.369657e-02 & 0.18 & 0.74472749 &  1 &  0.74472749\\\\\n",
       "\t chrX &   989869 &   990668 & PLCXD1  & K562 &  0.379517197 & 0.19306144 &  1.9657846 & 4.932350e-02 & 0.04 & 1.39794001 &  1 &  1.39794001\\\\\n",
       "\t chrX &   989869 &   990668 & SLC25A6 & K562 & -0.011841923 & 0.04858278 & -0.2437474 & 8.074265e-01 & 0.80 & 0.09691001 & -1 & -0.09691001\\\\\n",
       "\t chrX &  9981040 &  9982043 & TBL1X   & K562 &  0.094962252 & 0.05963559 &  1.5923755 & 1.113004e-01 & 0.32 & 0.49485002 &  1 &  0.49485002\\\\\n",
       "\t chrX &  9981040 &  9982043 & WWC3    & K562 & -0.452861760 & 0.28532154 & -1.5871979 & 1.124678e-01 & 0.22 & 0.65757732 & -1 & -0.65757732\\\\\n",
       "\t chrX &  9986627 &  9987289 & TBL1X   & K562 &  0.053690358 & 0.05115307 &  1.0496018 & 2.939012e-01 & 0.38 & 0.42021640 &  1 &  0.42021640\\\\\n",
       "\t chrX &  9986627 &  9987289 & WWC3    & K562 &  0.072723229 & 0.19258572 &  0.3776149 & 7.057167e-01 & 0.78 & 0.10790540 &  1 &  0.10790540\\\\\n",
       "\t chrX &  9995789 &  9996213 & TBL1X   & K562 & -0.012919738 & 0.07561013 & -0.1708731 & 8.643235e-01 & 0.92 & 0.03621217 & -1 & -0.03621217\\\\\n",
       "\t chrX &  9995789 &  9996213 & WWC3    & K562 &  0.501430631 & 0.22880608 &  2.1915092 & 2.841496e-02 & 0.06 & 1.22184875 &  1 &  1.22184875\\\\\n",
       "\\end{tabular}\n"
      ],
      "text/markdown": [
       "\n",
       "A data.frame: 496679 × 13\n",
       "\n",
       "| chr &lt;fct&gt; | start &lt;int&gt; | end &lt;int&gt; | TargetGene &lt;chr&gt; | CellType &lt;chr&gt; | beta &lt;dbl&gt; | se &lt;dbl&gt; | z &lt;dbl&gt; | p &lt;dbl&gt; | boot_basic_p &lt;dbl&gt; | boot_basic_p.log10 &lt;dbl&gt; | sign &lt;dbl&gt; | boot_basic_p.log10.signed &lt;dbl&gt; |\n",
       "|---|---|---|---|---|---|---|---|---|---|---|---|---|\n",
       "| chr1 | 100037723 | 100039165 | CDC14A   | K562 |  0.130626923 | 0.06124682 |  2.13279523 | 0.03294153 | 0.08 | 1.09691001 |  1 |  1.09691001 |\n",
       "| chr1 | 100037723 | 100039165 | RTCA     | K562 |  0.039701785 | 0.13650727 |  0.29084008 | 0.77117363 | 0.58 | 0.23657201 |  1 |  0.23657201 |\n",
       "| chr1 | 100037723 | 100039165 | SLC30A7  | K562 |  0.112013477 | 0.07488933 |  1.49572008 | 0.13472662 | 0.18 | 0.74472749 |  1 |  0.74472749 |\n",
       "| chr1 | 100037723 | 100039165 | SLC35A3  | K562 |  0.172543466 | 0.14896626 |  1.15827213 | 0.24675300 | 0.22 | 0.65757732 |  1 |  0.65757732 |\n",
       "| chr1 | 100037723 | 100039165 | TRMT13   | K562 | -0.204355281 | 0.15730888 | -1.29907022 | 0.19391983 | 0.22 | 0.65757732 | -1 | -0.65757732 |\n",
       "| chr1 | 100046417 | 100047254 | CDC14A   | K562 |  0.082390262 | 0.08379488 |  0.98323746 | 0.32549058 | 0.32 | 0.49485002 |  1 |  0.49485002 |\n",
       "| chr1 | 100046417 | 100047254 | RTCA     | K562 | -0.197819041 | 0.20579178 | -0.96125821 | 0.33642235 | 0.22 | 0.65757732 | -1 | -0.65757732 |\n",
       "| chr1 | 100046417 | 100047254 | SLC30A7  | K562 |  0.013535172 | 0.10520788 |  0.12865170 | 0.89763326 | 0.92 | 0.03621217 |  1 |  0.03621217 |\n",
       "| chr1 | 100046417 | 100047254 | SLC35A3  | K562 |  0.332845573 | 0.18809775 |  1.76953509 | 0.07680462 | 0.14 | 0.85387196 |  1 |  0.85387196 |\n",
       "| chr1 | 100046417 | 100047254 | TRMT13   | K562 | -0.103970299 | 0.22905190 | -0.45391591 | 0.64988936 | 0.62 | 0.20760831 | -1 | -0.20760831 |\n",
       "| chr1 | 100047374 | 100047651 | CDC14A   | K562 |  0.031430888 | 0.13182877 |  0.23842208 | 0.81155375 | 0.78 | 0.10790540 |  1 |  0.10790540 |\n",
       "| chr1 | 100047374 | 100047651 | RTCA     | K562 |  0.006287424 | 0.29702274 |  0.02116816 | 0.98311152 | 0.94 | 0.02687215 |  1 |  0.02687215 |\n",
       "| chr1 | 100047374 | 100047651 | SLC30A7  | K562 |  0.136742500 | 0.15397141 |  0.88810320 | 0.37448524 | 0.38 | 0.42021640 |  1 |  0.42021640 |\n",
       "| chr1 | 100047374 | 100047651 | SLC35A3  | K562 | -0.373851876 | 0.38545274 | -0.96990328 | 0.33209471 | 0.60 | 0.22184875 | -1 | -0.22184875 |\n",
       "| chr1 | 100047374 | 100047651 | TRMT13   | K562 | -0.133851495 | 0.36245774 | -0.36928856 | 0.71191266 | 0.84 | 0.07572071 | -1 | -0.07572071 |\n",
       "| chr1 | 100051462 | 100052009 | CDC14A   | K562 |  0.080645652 | 0.12905956 |  0.62487158 | 0.53205535 | 0.58 | 0.23657201 |  1 |  0.23657201 |\n",
       "| chr1 | 100051462 | 100052009 | RTCA     | K562 |  0.026623141 | 0.29737074 |  0.08952845 | 0.92866195 | 0.92 | 0.03621217 |  1 |  0.03621217 |\n",
       "| chr1 | 100051462 | 100052009 | SLC30A7  | K562 |  0.105772394 | 0.15581245 |  0.67884431 | 0.49723651 | 0.42 | 0.37675071 |  1 |  0.37675071 |\n",
       "| chr1 | 100051462 | 100052009 | SLC35A3  | K562 | -0.021072125 | 0.32569568 | -0.06469882 | 0.94841381 | 0.92 | 0.03621217 | -1 | -0.03621217 |\n",
       "| chr1 | 100051462 | 100052009 | TRMT13   | K562 |  0.294284963 | 0.30028140 |  0.98003061 | 0.32707101 | 0.10 | 1.00000000 |  1 |  1.00000000 |\n",
       "| chr1 | 100132479 | 100133471 | CDC14A   | K562 | -0.020864794 | 0.06216458 | -0.33563797 | 0.73714389 | 0.68 | 0.16749109 | -1 | -0.16749109 |\n",
       "| chr1 | 100132479 | 100133471 | RTCA     | K562 | -0.017626723 | 0.13841662 | -0.12734543 | 0.89866701 | 0.92 | 0.03621217 | -1 | -0.03621217 |\n",
       "| chr1 | 100132479 | 100133471 | SLC30A7  | K562 |  0.053981476 | 0.07566866 |  0.71339283 | 0.47560271 | 0.30 | 0.52287875 |  1 |  0.52287875 |\n",
       "| chr1 | 100132479 | 100133471 | SLC35A3  | K562 |  0.344079266 | 0.14883182 |  2.31186624 | 0.02078506 | 0.06 | 1.22184875 |  1 |  1.22184875 |\n",
       "| chr1 | 100132479 | 100133471 | TRMT13   | K562 | -0.207614390 | 0.16208046 | -1.28093413 | 0.20021680 | 0.24 | 0.61978876 | -1 | -0.61978876 |\n",
       "| chr1 |   1001789 |   1002126 | ACAP3    | K562 | -0.050666488 | 0.18623382 | -0.27205847 | 0.78557706 | 0.76 | 0.11918641 | -1 | -0.11918641 |\n",
       "| chr1 |   1001789 |   1002126 | AURKAIP1 | K562 | -0.157981507 | 0.12153251 | -1.29991151 | 0.19363130 | 0.20 | 0.69897000 | -1 | -0.69897000 |\n",
       "| chr1 |   1001789 |   1002126 | C1orf159 | K562 |  0.144131435 | 0.21239387 |  0.67860448 | 0.49738850 | 0.40 | 0.39794001 |  1 |  0.39794001 |\n",
       "| chr1 |   1001789 |   1002126 | CCNL2    | K562 |  0.121435168 | 0.11941114 |  1.01695012 | 0.30917716 | 0.18 | 0.74472749 |  1 |  0.74472749 |\n",
       "| chr1 |   1001789 |   1002126 | CDK11A   | K562 | -0.059666596 | 0.21805929 | -0.27362557 | 0.78437238 | 0.90 | 0.04575749 | -1 | -0.04575749 |\n",
       "| ⋮ | ⋮ | ⋮ | ⋮ | ⋮ | ⋮ | ⋮ | ⋮ | ⋮ | ⋮ | ⋮ | ⋮ | ⋮ |\n",
       "| chrX |  9378860 |  9379617 | WWC3    | K562 |  0.058480897 | 0.19531354 |  0.2994206 | 7.646191e-01 | 0.70 | 0.15490196 |  1 |  0.15490196 |\n",
       "| chrX |  9454072 |  9454721 | TBL1X   | K562 |  0.035961462 | 0.05737369 |  0.6267936 | 5.307946e-01 | 0.60 | 0.22184875 |  1 |  0.22184875 |\n",
       "| chrX |  9454072 |  9454721 | WWC3    | K562 | -0.319985648 | 0.25171029 | -1.2712458 | 2.036412e-01 | 0.32 | 0.49485002 | -1 | -0.49485002 |\n",
       "| chrX |  9456378 |  9457050 | TBL1X   | K562 |  0.057864842 | 0.04874710 |  1.1870417 | 2.352112e-01 | 0.40 | 0.39794001 |  1 |  0.39794001 |\n",
       "| chrX |  9456378 |  9457050 | WWC3    | K562 | -0.024333997 | 0.19019661 | -0.1279413 | 8.981954e-01 | 0.96 | 0.01772877 | -1 | -0.01772877 |\n",
       "| chrX |  9462920 |  9463764 | TBL1X   | K562 | -0.070674303 | 0.03916739 | -1.8044172 | 7.116593e-02 | 0.20 | 0.69897000 | -1 | -0.69897000 |\n",
       "| chrX |  9462920 |  9463764 | WWC3    | K562 |  0.034719722 | 0.14489012 |  0.2396279 | 8.106187e-01 | 0.94 | 0.02687215 |  1 |  0.02687215 |\n",
       "| chrX |  9464712 |  9466465 | TBL1X   | K562 |  0.103391576 | 0.03907009 |  2.6463100 | 8.137520e-03 | 0.02 | 1.69897000 |  1 |  1.69897000 |\n",
       "| chrX |  9464712 |  9466465 | WWC3    | K562 | -0.188070444 | 0.16031890 | -1.1731022 | 2.407548e-01 | 0.48 | 0.31875876 | -1 | -0.31875876 |\n",
       "| chrX | 96424809 | 96425804 | DIAPH2  | K562 |  0.015670994 | 0.04057797 |  0.3861946 | 6.993526e-01 | 0.92 | 0.03621217 |  1 |  0.03621217 |\n",
       "| chrX | 96684333 | 96686193 | DIAPH2  | K562 |  0.038385474 | 0.02672465 |  1.4363320 | 1.509079e-01 | 0.32 | 0.49485002 |  1 |  0.49485002 |\n",
       "| chrX | 96722606 | 96723511 | DIAPH2  | K562 |  0.051549232 | 0.04241709 |  1.2152939 | 2.242540e-01 | 0.38 | 0.42021640 |  1 |  0.42021640 |\n",
       "| chrX |  9676951 |  9677791 | TBL1X   | K562 | -0.054581107 | 0.05888027 | -0.9269847 | 3.539345e-01 | 0.66 | 0.18045606 | -1 | -0.18045606 |\n",
       "| chrX |  9676951 |  9677791 | WWC3    | K562 |  0.726094326 | 0.16758831 |  4.3326073 | 1.473538e-05 | 0.02 | 1.69897000 |  1 |  1.69897000 |\n",
       "| chrX | 97563525 | 97564035 | DIAPH2  | K562 | -0.006504907 | 0.04630223 | -0.1404880 | 8.882744e-01 | 0.90 | 0.04575749 | -1 | -0.04575749 |\n",
       "| chrX | 97564371 | 97564964 | DIAPH2  | K562 |  0.101078148 | 0.04738488 |  2.1331308 | 3.291400e-02 | 0.10 | 1.00000000 |  1 |  1.00000000 |\n",
       "| chrX |   989869 |   990668 | AKAP17A | K562 | -0.174482705 | 0.12600943 | -1.3846797 | 1.661504e-01 | 0.42 | 0.37675071 | -1 | -0.37675071 |\n",
       "| chrX |   989869 |   990668 | ASMTL   | K562 | -0.106764100 | 0.13774024 | -0.7751119 | 4.382735e-01 | 0.52 | 0.28399666 | -1 | -0.28399666 |\n",
       "| chrX |   989869 |   990668 | CSF2RA  | K562 | -0.045061453 | 0.05658452 | -0.7963566 | 4.258248e-01 | 0.54 | 0.26760624 | -1 | -0.26760624 |\n",
       "| chrX |   989869 |   990668 | GTPBP6  | K562 | -0.029956406 | 0.17315254 | -0.1730059 | 8.626468e-01 | 1.00 | 0.00000000 | -1 |  0.00000000 |\n",
       "| chrX |   989869 |   990668 | IL3RA   | K562 | -0.084901880 | 0.09503933 | -0.8933342 | 3.716782e-01 | 0.26 | 0.58502665 | -1 | -0.58502665 |\n",
       "| chrX |   989869 |   990668 | P2RY8   | K562 |  0.138288137 | 0.07995248 |  1.7296290 | 8.369657e-02 | 0.18 | 0.74472749 |  1 |  0.74472749 |\n",
       "| chrX |   989869 |   990668 | PLCXD1  | K562 |  0.379517197 | 0.19306144 |  1.9657846 | 4.932350e-02 | 0.04 | 1.39794001 |  1 |  1.39794001 |\n",
       "| chrX |   989869 |   990668 | SLC25A6 | K562 | -0.011841923 | 0.04858278 | -0.2437474 | 8.074265e-01 | 0.80 | 0.09691001 | -1 | -0.09691001 |\n",
       "| chrX |  9981040 |  9982043 | TBL1X   | K562 |  0.094962252 | 0.05963559 |  1.5923755 | 1.113004e-01 | 0.32 | 0.49485002 |  1 |  0.49485002 |\n",
       "| chrX |  9981040 |  9982043 | WWC3    | K562 | -0.452861760 | 0.28532154 | -1.5871979 | 1.124678e-01 | 0.22 | 0.65757732 | -1 | -0.65757732 |\n",
       "| chrX |  9986627 |  9987289 | TBL1X   | K562 |  0.053690358 | 0.05115307 |  1.0496018 | 2.939012e-01 | 0.38 | 0.42021640 |  1 |  0.42021640 |\n",
       "| chrX |  9986627 |  9987289 | WWC3    | K562 |  0.072723229 | 0.19258572 |  0.3776149 | 7.057167e-01 | 0.78 | 0.10790540 |  1 |  0.10790540 |\n",
       "| chrX |  9995789 |  9996213 | TBL1X   | K562 | -0.012919738 | 0.07561013 | -0.1708731 | 8.643235e-01 | 0.92 | 0.03621217 | -1 | -0.03621217 |\n",
       "| chrX |  9995789 |  9996213 | WWC3    | K562 |  0.501430631 | 0.22880608 |  2.1915092 | 2.841496e-02 | 0.06 | 1.22184875 |  1 |  1.22184875 |\n",
       "\n"
      ],
      "text/plain": [
       "       chr  start     end       TargetGene CellType beta         se        \n",
       "1      chr1 100037723 100039165 CDC14A     K562      0.130626923 0.06124682\n",
       "2      chr1 100037723 100039165 RTCA       K562      0.039701785 0.13650727\n",
       "3      chr1 100037723 100039165 SLC30A7    K562      0.112013477 0.07488933\n",
       "4      chr1 100037723 100039165 SLC35A3    K562      0.172543466 0.14896626\n",
       "5      chr1 100037723 100039165 TRMT13     K562     -0.204355281 0.15730888\n",
       "6      chr1 100046417 100047254 CDC14A     K562      0.082390262 0.08379488\n",
       "7      chr1 100046417 100047254 RTCA       K562     -0.197819041 0.20579178\n",
       "8      chr1 100046417 100047254 SLC30A7    K562      0.013535172 0.10520788\n",
       "9      chr1 100046417 100047254 SLC35A3    K562      0.332845573 0.18809775\n",
       "10     chr1 100046417 100047254 TRMT13     K562     -0.103970299 0.22905190\n",
       "11     chr1 100047374 100047651 CDC14A     K562      0.031430888 0.13182877\n",
       "12     chr1 100047374 100047651 RTCA       K562      0.006287424 0.29702274\n",
       "13     chr1 100047374 100047651 SLC30A7    K562      0.136742500 0.15397141\n",
       "14     chr1 100047374 100047651 SLC35A3    K562     -0.373851876 0.38545274\n",
       "15     chr1 100047374 100047651 TRMT13     K562     -0.133851495 0.36245774\n",
       "16     chr1 100051462 100052009 CDC14A     K562      0.080645652 0.12905956\n",
       "17     chr1 100051462 100052009 RTCA       K562      0.026623141 0.29737074\n",
       "18     chr1 100051462 100052009 SLC30A7    K562      0.105772394 0.15581245\n",
       "19     chr1 100051462 100052009 SLC35A3    K562     -0.021072125 0.32569568\n",
       "20     chr1 100051462 100052009 TRMT13     K562      0.294284963 0.30028140\n",
       "21     chr1 100132479 100133471 CDC14A     K562     -0.020864794 0.06216458\n",
       "22     chr1 100132479 100133471 RTCA       K562     -0.017626723 0.13841662\n",
       "23     chr1 100132479 100133471 SLC30A7    K562      0.053981476 0.07566866\n",
       "24     chr1 100132479 100133471 SLC35A3    K562      0.344079266 0.14883182\n",
       "25     chr1 100132479 100133471 TRMT13     K562     -0.207614390 0.16208046\n",
       "26     chr1   1001789   1002126 ACAP3      K562     -0.050666488 0.18623382\n",
       "27     chr1   1001789   1002126 AURKAIP1   K562     -0.157981507 0.12153251\n",
       "28     chr1   1001789   1002126 C1orf159   K562      0.144131435 0.21239387\n",
       "29     chr1   1001789   1002126 CCNL2      K562      0.121435168 0.11941114\n",
       "30     chr1   1001789   1002126 CDK11A     K562     -0.059666596 0.21805929\n",
       "⋮      ⋮    ⋮         ⋮         ⋮          ⋮        ⋮            ⋮         \n",
       "496650 chrX  9378860   9379617  WWC3       K562      0.058480897 0.19531354\n",
       "496651 chrX  9454072   9454721  TBL1X      K562      0.035961462 0.05737369\n",
       "496652 chrX  9454072   9454721  WWC3       K562     -0.319985648 0.25171029\n",
       "496653 chrX  9456378   9457050  TBL1X      K562      0.057864842 0.04874710\n",
       "496654 chrX  9456378   9457050  WWC3       K562     -0.024333997 0.19019661\n",
       "496655 chrX  9462920   9463764  TBL1X      K562     -0.070674303 0.03916739\n",
       "496656 chrX  9462920   9463764  WWC3       K562      0.034719722 0.14489012\n",
       "496657 chrX  9464712   9466465  TBL1X      K562      0.103391576 0.03907009\n",
       "496658 chrX  9464712   9466465  WWC3       K562     -0.188070444 0.16031890\n",
       "496659 chrX 96424809  96425804  DIAPH2     K562      0.015670994 0.04057797\n",
       "496660 chrX 96684333  96686193  DIAPH2     K562      0.038385474 0.02672465\n",
       "496661 chrX 96722606  96723511  DIAPH2     K562      0.051549232 0.04241709\n",
       "496662 chrX  9676951   9677791  TBL1X      K562     -0.054581107 0.05888027\n",
       "496663 chrX  9676951   9677791  WWC3       K562      0.726094326 0.16758831\n",
       "496664 chrX 97563525  97564035  DIAPH2     K562     -0.006504907 0.04630223\n",
       "496665 chrX 97564371  97564964  DIAPH2     K562      0.101078148 0.04738488\n",
       "496666 chrX   989869    990668  AKAP17A    K562     -0.174482705 0.12600943\n",
       "496667 chrX   989869    990668  ASMTL      K562     -0.106764100 0.13774024\n",
       "496668 chrX   989869    990668  CSF2RA     K562     -0.045061453 0.05658452\n",
       "496669 chrX   989869    990668  GTPBP6     K562     -0.029956406 0.17315254\n",
       "496670 chrX   989869    990668  IL3RA      K562     -0.084901880 0.09503933\n",
       "496671 chrX   989869    990668  P2RY8      K562      0.138288137 0.07995248\n",
       "496672 chrX   989869    990668  PLCXD1     K562      0.379517197 0.19306144\n",
       "496673 chrX   989869    990668  SLC25A6    K562     -0.011841923 0.04858278\n",
       "496674 chrX  9981040   9982043  TBL1X      K562      0.094962252 0.05963559\n",
       "496675 chrX  9981040   9982043  WWC3       K562     -0.452861760 0.28532154\n",
       "496676 chrX  9986627   9987289  TBL1X      K562      0.053690358 0.05115307\n",
       "496677 chrX  9986627   9987289  WWC3       K562      0.072723229 0.19258572\n",
       "496678 chrX  9995789   9996213  TBL1X      K562     -0.012919738 0.07561013\n",
       "496679 chrX  9995789   9996213  WWC3       K562      0.501430631 0.22880608\n",
       "       z           p            boot_basic_p boot_basic_p.log10 sign\n",
       "1       2.13279523 0.03294153   0.08         1.09691001          1  \n",
       "2       0.29084008 0.77117363   0.58         0.23657201          1  \n",
       "3       1.49572008 0.13472662   0.18         0.74472749          1  \n",
       "4       1.15827213 0.24675300   0.22         0.65757732          1  \n",
       "5      -1.29907022 0.19391983   0.22         0.65757732         -1  \n",
       "6       0.98323746 0.32549058   0.32         0.49485002          1  \n",
       "7      -0.96125821 0.33642235   0.22         0.65757732         -1  \n",
       "8       0.12865170 0.89763326   0.92         0.03621217          1  \n",
       "9       1.76953509 0.07680462   0.14         0.85387196          1  \n",
       "10     -0.45391591 0.64988936   0.62         0.20760831         -1  \n",
       "11      0.23842208 0.81155375   0.78         0.10790540          1  \n",
       "12      0.02116816 0.98311152   0.94         0.02687215          1  \n",
       "13      0.88810320 0.37448524   0.38         0.42021640          1  \n",
       "14     -0.96990328 0.33209471   0.60         0.22184875         -1  \n",
       "15     -0.36928856 0.71191266   0.84         0.07572071         -1  \n",
       "16      0.62487158 0.53205535   0.58         0.23657201          1  \n",
       "17      0.08952845 0.92866195   0.92         0.03621217          1  \n",
       "18      0.67884431 0.49723651   0.42         0.37675071          1  \n",
       "19     -0.06469882 0.94841381   0.92         0.03621217         -1  \n",
       "20      0.98003061 0.32707101   0.10         1.00000000          1  \n",
       "21     -0.33563797 0.73714389   0.68         0.16749109         -1  \n",
       "22     -0.12734543 0.89866701   0.92         0.03621217         -1  \n",
       "23      0.71339283 0.47560271   0.30         0.52287875          1  \n",
       "24      2.31186624 0.02078506   0.06         1.22184875          1  \n",
       "25     -1.28093413 0.20021680   0.24         0.61978876         -1  \n",
       "26     -0.27205847 0.78557706   0.76         0.11918641         -1  \n",
       "27     -1.29991151 0.19363130   0.20         0.69897000         -1  \n",
       "28      0.67860448 0.49738850   0.40         0.39794001          1  \n",
       "29      1.01695012 0.30917716   0.18         0.74472749          1  \n",
       "30     -0.27362557 0.78437238   0.90         0.04575749         -1  \n",
       "⋮      ⋮           ⋮            ⋮            ⋮                  ⋮   \n",
       "496650  0.2994206  7.646191e-01 0.70         0.15490196          1  \n",
       "496651  0.6267936  5.307946e-01 0.60         0.22184875          1  \n",
       "496652 -1.2712458  2.036412e-01 0.32         0.49485002         -1  \n",
       "496653  1.1870417  2.352112e-01 0.40         0.39794001          1  \n",
       "496654 -0.1279413  8.981954e-01 0.96         0.01772877         -1  \n",
       "496655 -1.8044172  7.116593e-02 0.20         0.69897000         -1  \n",
       "496656  0.2396279  8.106187e-01 0.94         0.02687215          1  \n",
       "496657  2.6463100  8.137520e-03 0.02         1.69897000          1  \n",
       "496658 -1.1731022  2.407548e-01 0.48         0.31875876         -1  \n",
       "496659  0.3861946  6.993526e-01 0.92         0.03621217          1  \n",
       "496660  1.4363320  1.509079e-01 0.32         0.49485002          1  \n",
       "496661  1.2152939  2.242540e-01 0.38         0.42021640          1  \n",
       "496662 -0.9269847  3.539345e-01 0.66         0.18045606         -1  \n",
       "496663  4.3326073  1.473538e-05 0.02         1.69897000          1  \n",
       "496664 -0.1404880  8.882744e-01 0.90         0.04575749         -1  \n",
       "496665  2.1331308  3.291400e-02 0.10         1.00000000          1  \n",
       "496666 -1.3846797  1.661504e-01 0.42         0.37675071         -1  \n",
       "496667 -0.7751119  4.382735e-01 0.52         0.28399666         -1  \n",
       "496668 -0.7963566  4.258248e-01 0.54         0.26760624         -1  \n",
       "496669 -0.1730059  8.626468e-01 1.00         0.00000000         -1  \n",
       "496670 -0.8933342  3.716782e-01 0.26         0.58502665         -1  \n",
       "496671  1.7296290  8.369657e-02 0.18         0.74472749          1  \n",
       "496672  1.9657846  4.932350e-02 0.04         1.39794001          1  \n",
       "496673 -0.2437474  8.074265e-01 0.80         0.09691001         -1  \n",
       "496674  1.5923755  1.113004e-01 0.32         0.49485002          1  \n",
       "496675 -1.5871979  1.124678e-01 0.22         0.65757732         -1  \n",
       "496676  1.0496018  2.939012e-01 0.38         0.42021640          1  \n",
       "496677  0.3776149  7.057167e-01 0.78         0.10790540          1  \n",
       "496678 -0.1708731  8.643235e-01 0.92         0.03621217         -1  \n",
       "496679  2.1915092  2.841496e-02 0.06         1.22184875          1  \n",
       "       boot_basic_p.log10.signed\n",
       "1       1.09691001              \n",
       "2       0.23657201              \n",
       "3       0.74472749              \n",
       "4       0.65757732              \n",
       "5      -0.65757732              \n",
       "6       0.49485002              \n",
       "7      -0.65757732              \n",
       "8       0.03621217              \n",
       "9       0.85387196              \n",
       "10     -0.20760831              \n",
       "11      0.10790540              \n",
       "12      0.02687215              \n",
       "13      0.42021640              \n",
       "14     -0.22184875              \n",
       "15     -0.07572071              \n",
       "16      0.23657201              \n",
       "17      0.03621217              \n",
       "18      0.37675071              \n",
       "19     -0.03621217              \n",
       "20      1.00000000              \n",
       "21     -0.16749109              \n",
       "22     -0.03621217              \n",
       "23      0.52287875              \n",
       "24      1.22184875              \n",
       "25     -0.61978876              \n",
       "26     -0.11918641              \n",
       "27     -0.69897000              \n",
       "28      0.39794001              \n",
       "29      0.74472749              \n",
       "30     -0.04575749              \n",
       "⋮      ⋮                        \n",
       "496650  0.15490196              \n",
       "496651  0.22184875              \n",
       "496652 -0.49485002              \n",
       "496653  0.39794001              \n",
       "496654 -0.01772877              \n",
       "496655 -0.69897000              \n",
       "496656  0.02687215              \n",
       "496657  1.69897000              \n",
       "496658 -0.31875876              \n",
       "496659  0.03621217              \n",
       "496660  0.49485002              \n",
       "496661  0.42021640              \n",
       "496662 -0.18045606              \n",
       "496663  1.69897000              \n",
       "496664 -0.04575749              \n",
       "496665  1.00000000              \n",
       "496666 -0.37675071              \n",
       "496667 -0.28399666              \n",
       "496668 -0.26760624              \n",
       "496669  0.00000000              \n",
       "496670 -0.58502665              \n",
       "496671  0.74472749              \n",
       "496672  1.39794001              \n",
       "496673 -0.09691001              \n",
       "496674  0.49485002              \n",
       "496675 -0.65757732              \n",
       "496676  0.42021640              \n",
       "496677  0.10790540              \n",
       "496678 -0.03621217              \n",
       "496679  1.22184875              "
      ]
     },
     "metadata": {},
     "output_type": "display_data"
    }
   ],
   "source": [
    "df.output = as.data.frame(pairs.E2G.res,row.names = NULL)\n",
    "colnames(df.output)[1] = \"chr\"\n",
    "df.output[,\"CellType\"] = \"K562\"\n",
    "df.output = df.output[,c(\"chr\",\n",
    "                         \"start\",\n",
    "                         \"end\",\n",
    "                         \"TargetGene\",\n",
    "                         \"CellType\",\n",
    "                         \"beta\",\"se\",\"z\",\"p\",\"boot_basic_p\",\n",
    "                         \"boot_basic_p.log10\",\n",
    "                         \"sign\",\n",
    "                         \"boot_basic_p.log10.signed\")]\n",
    "data.table::fwrite(df.output,\n",
    "                   file = paste(dir.output,\"pairs.E2G.res.tsv.gz\",sep = \"/\"),\n",
    "                   row.names = F,\n",
    "                   quote = F,\n",
    "                   sep = \"\\t\")\n",
    "df.output"
   ]
  },
  {
   "cell_type": "code",
   "execution_count": 19,
   "id": "4d77c58e-215a-408d-8495-c68c72f559c3",
   "metadata": {},
   "outputs": [
    {
     "data": {
      "text/plain": [
       "R version 4.3.3 (2024-02-29)\n",
       "Platform: x86_64-conda-linux-gnu (64-bit)\n",
       "Running under: Red Hat Enterprise Linux 8.10 (Ootpa)\n",
       "\n",
       "Matrix products: default\n",
       "BLAS/LAPACK: /maps/projects/ralab/people/lpm537/software/anaconda3/envs/Notebook_E2G_240505/lib/libopenblasp-r0.3.27.so;  LAPACK version 3.12.0\n",
       "\n",
       "locale:\n",
       " [1] LC_CTYPE=en_US.UTF-8       LC_NUMERIC=C              \n",
       " [3] LC_TIME=en_US.UTF-8        LC_COLLATE=en_US.UTF-8    \n",
       " [5] LC_MONETARY=en_US.UTF-8    LC_MESSAGES=en_US.UTF-8   \n",
       " [7] LC_PAPER=en_US.UTF-8       LC_NAME=C                 \n",
       " [9] LC_ADDRESS=C               LC_TELEPHONE=C            \n",
       "[11] LC_MEASUREMENT=en_US.UTF-8 LC_IDENTIFICATION=C       \n",
       "\n",
       "time zone: Europe/Copenhagen\n",
       "tzcode source: system (glibc)\n",
       "\n",
       "attached base packages:\n",
       " [1] parallel  stats4    grid      stats     graphics  grDevices utils    \n",
       " [8] datasets  methods   base     \n",
       "\n",
       "other attached packages:\n",
       "[1] Matrix_1.6-5         GenomicRanges_1.54.1 GenomeInfoDb_1.38.1 \n",
       "[4] IRanges_2.36.0       S4Vectors_0.40.2     BiocGenerics_0.48.1 \n",
       "[7] genomation_1.34.0    Signac_1.13.0        SCENT_1.0.0         \n",
       "\n",
       "loaded via a namespace (and not attached):\n",
       "  [1] rstudioapi_0.16.0           jsonlite_1.8.8             \n",
       "  [3] magrittr_2.0.3              nloptr_2.0.3               \n",
       "  [5] rmarkdown_2.26              BiocIO_1.10.0              \n",
       "  [7] zlibbioc_1.48.0             vctrs_0.6.5                \n",
       "  [9] minqa_1.2.6                 Rsamtools_2.18.0           \n",
       " [11] RCurl_1.98-1.14             base64enc_0.1-3            \n",
       " [13] RcppRoll_0.3.0              htmltools_0.5.8.1          \n",
       " [15] S4Arrays_1.2.1              plotrix_3.8-4              \n",
       " [17] Formula_1.2-5               parallelly_1.37.1          \n",
       " [19] KernSmooth_2.23-22          htmlwidgets_1.6.4          \n",
       " [21] plyr_1.8.9                  impute_1.76.0              \n",
       " [23] uuid_1.2-0                  GenomicAlignments_1.36.0   \n",
       " [25] lifecycle_1.0.4             pkgconfig_2.0.3            \n",
       " [27] R6_2.5.1                    fastmap_1.1.1              \n",
       " [29] GenomeInfoDbData_1.2.11     MatrixGenerics_1.12.3      \n",
       " [31] future_1.33.2               digest_0.6.35              \n",
       " [33] colorspace_2.1-0            patchwork_1.2.0            \n",
       " [35] irlba_2.3.5.1               Hmisc_5.1-2                \n",
       " [37] progressr_0.14.0            fansi_1.0.6                \n",
       " [39] abind_1.4-5                 compiler_4.3.3             \n",
       " [41] bit64_4.0.5                 htmlTable_2.4.2            \n",
       " [43] backports_1.4.1             BiocParallel_1.36.0        \n",
       " [45] R.utils_2.12.3              MASS_7.3-60                \n",
       " [47] DelayedArray_0.26.7         rjson_0.2.21               \n",
       " [49] tools_4.3.3                 foreign_0.8-86             \n",
       " [51] future.apply_1.11.2         nnet_7.3-19                \n",
       " [53] R.oo_1.26.0                 glue_1.7.0                 \n",
       " [55] restfulr_0.0.15             nlme_3.1-164               \n",
       " [57] pbdZMQ_0.3-11               checkmate_2.3.1            \n",
       " [59] gridBase_0.4-7              cluster_2.1.6              \n",
       " [61] reshape2_1.4.4              generics_0.1.3             \n",
       " [63] gtable_0.3.5                BSgenome_1.68.0            \n",
       " [65] tzdb_0.4.0                  R.methodsS3_1.8.2          \n",
       " [67] tidyr_1.3.1                 seqPattern_1.34.0          \n",
       " [69] data.table_1.15.2           hms_1.1.3                  \n",
       " [71] sp_2.1-4                    utf8_1.2.4                 \n",
       " [73] XVector_0.42.0              pillar_1.9.0               \n",
       " [75] stringr_1.5.1               vroom_1.6.5                \n",
       " [77] spam_2.10-0                 IRdisplay_1.1              \n",
       " [79] splines_4.3.3               dplyr_1.1.4                \n",
       " [81] lattice_0.22-6              bit_4.0.5                  \n",
       " [83] rtracklayer_1.60.1          tidyselect_1.2.1           \n",
       " [85] Biostrings_2.70.1           pbapply_1.7-2              \n",
       " [87] knitr_1.46                  gridExtra_2.3              \n",
       " [89] SummarizedExperiment_1.30.2 xfun_0.43                  \n",
       " [91] Biobase_2.60.0              matrixStats_1.3.0          \n",
       " [93] stringi_1.8.3               yaml_2.3.8                 \n",
       " [95] boot_1.3-30                 evaluate_0.23              \n",
       " [97] codetools_0.2-20            tibble_3.2.1               \n",
       " [99] cli_3.6.2                   IRkernel_1.3.2             \n",
       "[101] rpart_4.1.23                repr_1.1.7                 \n",
       "[103] munsell_0.5.1               Rcpp_1.0.12                \n",
       "[105] globals_0.16.3              XML_3.99-0.16.1            \n",
       "[107] ggplot2_3.5.1               readr_2.1.5                \n",
       "[109] dotCall64_1.1-1             bitops_1.0-7               \n",
       "[111] lme4_1.1-35.3               listenv_0.9.1              \n",
       "[113] scales_1.3.0                SeuratObject_5.0.1         \n",
       "[115] purrr_1.0.2                 crayon_1.5.2               \n",
       "[117] rlang_1.1.3                 fastmatch_1.1-4            "
      ]
     },
     "metadata": {},
     "output_type": "display_data"
    }
   ],
   "source": [
    "sessionInfo()"
   ]
  },
  {
   "cell_type": "code",
   "execution_count": null,
   "id": "3c1a0283-11d6-4df1-bbd8-7b47e9e8ead8",
   "metadata": {},
   "outputs": [],
   "source": []
  }
 ],
 "metadata": {
  "kernelspec": {
   "display_name": "R",
   "language": "R",
   "name": "ir"
  },
  "language_info": {
   "codemirror_mode": "r",
   "file_extension": ".r",
   "mimetype": "text/x-r-source",
   "name": "R",
   "pygments_lexer": "r",
   "version": "4.3.3"
  }
 },
 "nbformat": 4,
 "nbformat_minor": 5
}
