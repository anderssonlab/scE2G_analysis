{
 "cells": [
  {
   "cell_type": "code",
   "execution_count": 1,
   "id": "3a1e63f9-7479-4a30-83ea-381f1ecdbe50",
   "metadata": {},
   "outputs": [
    {
     "name": "stderr",
     "output_type": "stream",
     "text": [
      "Warning message:\n",
      "“replacing previous import ‘Hmisc::capitalize’ by ‘R.utils::capitalize’ when loading ‘SCENT’”\n",
      "Loading required package: grid\n",
      "\n",
      "Warning message:\n",
      "“replacing previous import ‘Biostrings::pattern’ by ‘grid::pattern’ when loading ‘genomation’”\n",
      "Loading required package: stats4\n",
      "\n",
      "Loading required package: BiocGenerics\n",
      "\n",
      "\n",
      "Attaching package: ‘BiocGenerics’\n",
      "\n",
      "\n",
      "The following objects are masked from ‘package:stats’:\n",
      "\n",
      "    IQR, mad, sd, var, xtabs\n",
      "\n",
      "\n",
      "The following objects are masked from ‘package:base’:\n",
      "\n",
      "    anyDuplicated, aperm, append, as.data.frame, basename, cbind,\n",
      "    colnames, dirname, do.call, duplicated, eval, evalq, Filter, Find,\n",
      "    get, grep, grepl, intersect, is.unsorted, lapply, Map, mapply,\n",
      "    match, mget, order, paste, pmax, pmax.int, pmin, pmin.int,\n",
      "    Position, rank, rbind, Reduce, rownames, sapply, setdiff, sort,\n",
      "    table, tapply, union, unique, unsplit, which.max, which.min\n",
      "\n",
      "\n",
      "Loading required package: S4Vectors\n",
      "\n",
      "\n",
      "Attaching package: ‘S4Vectors’\n",
      "\n",
      "\n",
      "The following object is masked from ‘package:utils’:\n",
      "\n",
      "    findMatches\n",
      "\n",
      "\n",
      "The following objects are masked from ‘package:base’:\n",
      "\n",
      "    expand.grid, I, unname\n",
      "\n",
      "\n",
      "Loading required package: IRanges\n",
      "\n",
      "Loading required package: GenomeInfoDb\n",
      "\n",
      "\n",
      "Attaching package: ‘Matrix’\n",
      "\n",
      "\n",
      "The following object is masked from ‘package:S4Vectors’:\n",
      "\n",
      "    expand\n",
      "\n",
      "\n"
     ]
    }
   ],
   "source": [
    "library(SCENT)\n",
    "library(Signac)\n",
    "library(genomation)\n",
    "library(GenomicRanges)\n",
    "library(Matrix)\n",
    "library(parallel)"
   ]
  },
  {
   "cell_type": "markdown",
   "id": "d53f3774-52c3-4baa-b707-5b3a0450b130",
   "metadata": {},
   "source": [
    "Specify file path"
   ]
  },
  {
   "cell_type": "code",
   "execution_count": 2,
   "id": "0785f3fc-9913-428a-bea7-5710120c9328",
   "metadata": {},
   "outputs": [],
   "source": [
    "path.pairs.E2G = \"/maps/projects/ralab_nnfc-AUDIT/people/lpm537/software/scE2G_pipeline/240617/sc-E2G/test/results/PBMC/DC.multiome_7features/Kendall/Pairs.tsv.gz\"\n",
    "path.pairs.ABC = \"/maps/projects/ralab_nnfc-AUDIT/people/lpm537/software/scE2G_pipeline/240617/sc-E2G/test/results/PBMC/DC.multiome_7features/Predictions/EnhancerPredictionsAllPutative.tsv.gz\"\n",
    "path.matrix.atac_count = \"/maps/projects/ralab_nnfc-AUDIT/people/lpm537/software/scE2G_pipeline/240617/sc-E2G/test/results/PBMC/DC.multiome_7features/Kendall/atac_matrix.rds\"\n",
    "path.matrix.rna_count = \"/maps/projects/ralab_nnfc-AUDIT/people/lpm537/project/E2G/analysis/E2G_240503/data/PBMC/1.prepare_data/1.seurat_pipeline.240620/RNA_count_matrix/DC.rna_count_matrix.csv.gz\"\n",
    "dir.output = \"/maps/projects/ralab_nnfc-AUDIT/people/lpm537/project/E2G/analysis/E2G_240503/data/PBMC/2.Genome_wide_prediction/SCENT/PBMC.DC.100.240624/\""
   ]
  },
  {
   "cell_type": "code",
   "execution_count": 3,
   "id": "500ba317-011f-4cab-834c-de750cb7f503",
   "metadata": {},
   "outputs": [],
   "source": [
    "n.cores = 16"
   ]
  },
  {
   "cell_type": "markdown",
   "id": "9c9cdab1-486b-4539-99d3-3cd5d1d99795",
   "metadata": {},
   "source": [
    "Import candidate E-G pairs"
   ]
  },
  {
   "cell_type": "code",
   "execution_count": 4,
   "id": "f5852d15-7e3f-412b-b137-7d29a6fb47b1",
   "metadata": {},
   "outputs": [],
   "source": [
    "pairs.E2G = readGeneric(path.pairs.E2G,\n",
    "                        header = T,\n",
    "                        keep.all.metadata = T)"
   ]
  },
  {
   "cell_type": "markdown",
   "id": "e79f3220-9bc6-4496-9e9a-a2dcc6e7f751",
   "metadata": {},
   "source": [
    "Import ABC results"
   ]
  },
  {
   "cell_type": "code",
   "execution_count": 5,
   "id": "6bc3f6ba-5e9a-488c-ba26-e0c84007ef4d",
   "metadata": {},
   "outputs": [],
   "source": [
    "pairs.ABC = readGeneric(path.pairs.ABC,\n",
    "                        header = T,\n",
    "                        keep.all.metadata = T)"
   ]
  },
  {
   "cell_type": "markdown",
   "id": "7d660489-4656-4b85-a3df-381acf0aa4a1",
   "metadata": {},
   "source": [
    "Filter ABC results which distance < 1M"
   ]
  },
  {
   "cell_type": "code",
   "execution_count": 6,
   "id": "31b4d7f1-0feb-428b-934a-9c32cb2a4f68",
   "metadata": {},
   "outputs": [],
   "source": [
    "pairs.ABC.1M = pairs.ABC[pairs.ABC$distance < 10^6]"
   ]
  },
  {
   "cell_type": "markdown",
   "id": "639699dd-5bf9-4b19-9178-82dbbf2c62d0",
   "metadata": {},
   "source": [
    "Filter E-G pairs overlaping with pairs.ABC.1M"
   ]
  },
  {
   "cell_type": "code",
   "execution_count": 7,
   "id": "d7db8c1b-5245-49e1-862e-979d9f1de142",
   "metadata": {},
   "outputs": [
    {
     "data": {
      "text/plain": [
       "GRanges object with 2953744 ranges and 3 metadata columns:\n",
       "            seqnames              ranges strand |  TargetGene\n",
       "               <Rle>           <IRanges>  <Rle> | <character>\n",
       "        [1]     chr1 100028692-100029169      * |         AGL\n",
       "        [2]     chr1 100028692-100029169      * |      CDC14A\n",
       "        [3]     chr1 100028692-100029169      * |         DBT\n",
       "        [4]     chr1 100028692-100029169      * |        DPH5\n",
       "        [5]     chr1 100028692-100029169      * |       EXTL2\n",
       "        ...      ...                 ...    ... .         ...\n",
       "  [2953740]     chrX     9995801-9996095      * |       TBL1X\n",
       "  [2953741]     chrX     9995801-9996095      * |        WWC3\n",
       "  [2953742]     chrX     9997584-9997734      * |       CLCN4\n",
       "  [2953743]     chrX     9997584-9997734      * |       TBL1X\n",
       "  [2953744]     chrX     9997584-9997734      * |        WWC3\n",
       "                          PeakName               PairName\n",
       "                       <character>            <character>\n",
       "        [1] chr1-100028692-10002.. chr1-100028692-10002..\n",
       "        [2] chr1-100028692-10002.. chr1-100028692-10002..\n",
       "        [3] chr1-100028692-10002.. chr1-100028692-10002..\n",
       "        [4] chr1-100028692-10002.. chr1-100028692-10002..\n",
       "        [5] chr1-100028692-10002.. chr1-100028692-10002..\n",
       "        ...                    ...                    ...\n",
       "  [2953740]   chrX-9995801-9996095 chrX-9995801-9996095..\n",
       "  [2953741]   chrX-9995801-9996095 chrX-9995801-9996095..\n",
       "  [2953742]   chrX-9997584-9997734 chrX-9997584-9997734..\n",
       "  [2953743]   chrX-9997584-9997734 chrX-9997584-9997734..\n",
       "  [2953744]   chrX-9997584-9997734 chrX-9997584-9997734..\n",
       "  -------\n",
       "  seqinfo: 23 sequences from an unspecified genome; no seqlengths"
      ]
     },
     "metadata": {},
     "output_type": "display_data"
    }
   ],
   "source": [
    "df.pairs.E2G.chr_rename = as.data.frame(pairs.E2G)[,1:3]\n",
    "df.pairs.E2G.chr_rename[,\"seqnames\"] = paste(seqnames(pairs.E2G),\n",
    "                                             mcols(pairs.E2G)[,\"TargetGene\"],\n",
    "                                             sep = \"_\")\n",
    "pairs.E2G.chr_rename = GRanges(df.pairs.E2G.chr_rename)\n",
    "rm(df.pairs.E2G.chr_rename)\n",
    "\n",
    "df.pairs.ABC.1M.chr_rename = as.data.frame(pairs.ABC.1M)[,1:3]\n",
    "df.pairs.ABC.1M.chr_rename[,\"seqnames\"] = paste(seqnames(pairs.ABC.1M),\n",
    "                                                mcols(pairs.ABC.1M)[,\"TargetGene\"],\n",
    "                                                sep = \"_\")\n",
    "pairs.ABC.1M.chr_rename = GRanges(df.pairs.ABC.1M.chr_rename)\n",
    "rm(df.pairs.ABC.1M.chr_rename)\n",
    "\n",
    "pairs.E2G.filter = pairs.E2G[countOverlaps(pairs.E2G.chr_rename,\n",
    "                                           pairs.ABC.1M.chr_rename) > 0]\n",
    "rm(pairs.E2G.chr_rename)\n",
    "rm(pairs.ABC.1M.chr_rename)\n",
    "pairs.E2G.filter"
   ]
  },
  {
   "cell_type": "markdown",
   "id": "bcdfac67-ce32-4d9a-8f4d-65dab644ec63",
   "metadata": {},
   "source": [
    "Import ATAC matrix"
   ]
  },
  {
   "cell_type": "code",
   "execution_count": 8,
   "id": "bd59feb4-3e33-4ebe-a107-f3b6d347a68e",
   "metadata": {},
   "outputs": [],
   "source": [
    "matrix.atac = readRDS(path.matrix.atac_count)\n",
    "matrix.atac = BinarizeCounts(matrix.atac)"
   ]
  },
  {
   "cell_type": "markdown",
   "id": "a0c5cb96-2fc4-42c4-a421-fe9a5ca537da",
   "metadata": {},
   "source": [
    "Import RNA matrix"
   ]
  },
  {
   "cell_type": "code",
   "execution_count": 9,
   "id": "96e10e90-9400-4cfe-bc7b-46a7eaee1fcd",
   "metadata": {},
   "outputs": [],
   "source": [
    "matrix.rna = read.csv(path.matrix.rna_count,\n",
    "                      row.names = 1,\n",
    "                      check.names = F)\n",
    "matrix.rna = Matrix(as.matrix(matrix.rna), sparse = TRUE)\n",
    "matrix.rna = matrix.rna[,colnames(matrix.atac)]\n",
    "matrix.rna = matrix.rna[rowSums(matrix.rna) > 0,]"
   ]
  },
  {
   "cell_type": "code",
   "execution_count": 10,
   "id": "ad0f51bc-6e09-4b83-be71-560130dd0fa6",
   "metadata": {},
   "outputs": [],
   "source": [
    "pairs.E2G.filter2 = pairs.E2G.filter[pairs.E2G.filter$TargetGene %in% rownames(matrix.rna) &\n",
    "                                     pairs.E2G.filter$PeakName %in% rownames(matrix.atac)]"
   ]
  },
  {
   "cell_type": "markdown",
   "id": "b16f7d5b-eabd-4e93-b8cd-f19a54df21f2",
   "metadata": {},
   "source": [
    "Prepare SCENT meta data"
   ]
  },
  {
   "cell_type": "code",
   "execution_count": 11,
   "id": "827059dd-6885-441e-973e-d7c49e5fd534",
   "metadata": {},
   "outputs": [
    {
     "data": {
      "text/html": [
       "<table class=\"dataframe\">\n",
       "<caption>A data.frame: 302 × 6</caption>\n",
       "<thead>\n",
       "\t<tr><th></th><th scope=col>cell</th><th scope=col>nUMI</th><th scope=col>nMito</th><th scope=col>celltype</th><th scope=col>log.nUMI</th><th scope=col>percent.mito</th></tr>\n",
       "\t<tr><th></th><th scope=col>&lt;chr&gt;</th><th scope=col>&lt;dbl&gt;</th><th scope=col>&lt;dbl&gt;</th><th scope=col>&lt;chr&gt;</th><th scope=col>&lt;dbl&gt;</th><th scope=col>&lt;dbl&gt;</th></tr>\n",
       "</thead>\n",
       "<tbody>\n",
       "\t<tr><th scope=row>Multiome10x_05_AAATGCCTCCAATTAG-1</th><td>Multiome10x_05_AAATGCCTCCAATTAG-1</td><td> 4022</td><td> 739</td><td>K562</td><td>8.299535</td><td>0.18373943</td></tr>\n",
       "\t<tr><th scope=row>Multiome10x_05_AACTACTCACTATGGC-1</th><td>Multiome10x_05_AACTACTCACTATGGC-1</td><td> 9856</td><td>1270</td><td>K562</td><td>9.195836</td><td>0.12885552</td></tr>\n",
       "\t<tr><th scope=row>Multiome10x_05_AACTGTTCAGGCTTGT-1</th><td>Multiome10x_05_AACTGTTCAGGCTTGT-1</td><td> 4715</td><td> 656</td><td>K562</td><td>8.458504</td><td>0.13913043</td></tr>\n",
       "\t<tr><th scope=row>Multiome10x_05_AAGCGTTTCCTGGTGA-1</th><td>Multiome10x_05_AAGCGTTTCCTGGTGA-1</td><td> 7466</td><td> 929</td><td>K562</td><td>8.918115</td><td>0.12443075</td></tr>\n",
       "\t<tr><th scope=row>Multiome10x_05_AAGCTAGAGGTAAGCA-1</th><td>Multiome10x_05_AAGCTAGAGGTAAGCA-1</td><td> 6014</td><td> 532</td><td>K562</td><td>8.701845</td><td>0.08846026</td></tr>\n",
       "\t<tr><th scope=row>Multiome10x_05_AATAACCGTCACCAAA-1</th><td>Multiome10x_05_AATAACCGTCACCAAA-1</td><td> 5772</td><td> 823</td><td>K562</td><td>8.660774</td><td>0.14258489</td></tr>\n",
       "\t<tr><th scope=row>Multiome10x_05_AATAACCGTTGGCCGA-1</th><td>Multiome10x_05_AATAACCGTTGGCCGA-1</td><td> 6314</td><td> 799</td><td>K562</td><td>8.750525</td><td>0.12654419</td></tr>\n",
       "\t<tr><th scope=row>Multiome10x_05_AATATCCCAACCTGGT-1</th><td>Multiome10x_05_AATATCCCAACCTGGT-1</td><td>11613</td><td>1633</td><td>K562</td><td>9.359880</td><td>0.14061827</td></tr>\n",
       "\t<tr><th scope=row>Multiome10x_05_AATCCGTAGCTACTGG-1</th><td>Multiome10x_05_AATCCGTAGCTACTGG-1</td><td> 7714</td><td>1092</td><td>K562</td><td>8.950792</td><td>0.14156080</td></tr>\n",
       "\t<tr><th scope=row>Multiome10x_05_AATTACCCATAGCGGA-1</th><td>Multiome10x_05_AATTACCCATAGCGGA-1</td><td> 6445</td><td> 823</td><td>K562</td><td>8.771060</td><td>0.12769589</td></tr>\n",
       "\t<tr><th scope=row>Multiome10x_05_AATTAGGCATTGCGTA-1</th><td>Multiome10x_05_AATTAGGCATTGCGTA-1</td><td> 2604</td><td> 438</td><td>K562</td><td>7.864804</td><td>0.16820276</td></tr>\n",
       "\t<tr><th scope=row>Multiome10x_05_AATTGCCAGCGGATAA-1</th><td>Multiome10x_05_AATTGCCAGCGGATAA-1</td><td> 6824</td><td> 992</td><td>K562</td><td>8.828201</td><td>0.14536928</td></tr>\n",
       "\t<tr><th scope=row>Multiome10x_05_ACATTAGTCTACTAAG-1</th><td>Multiome10x_05_ACATTAGTCTACTAAG-1</td><td> 4018</td><td> 848</td><td>K562</td><td>8.298540</td><td>0.21105027</td></tr>\n",
       "\t<tr><th scope=row>Multiome10x_05_ACCACACCAGGCATCT-1</th><td>Multiome10x_05_ACCACACCAGGCATCT-1</td><td> 7391</td><td> 896</td><td>K562</td><td>8.908018</td><td>0.12122852</td></tr>\n",
       "\t<tr><th scope=row>Multiome10x_05_ACCTAAATCAAGTGAG-1</th><td>Multiome10x_05_ACCTAAATCAAGTGAG-1</td><td> 5579</td><td> 583</td><td>K562</td><td>8.626765</td><td>0.10449901</td></tr>\n",
       "\t<tr><th scope=row>Multiome10x_05_ACGAGTAAGGGTCTAT-1</th><td>Multiome10x_05_ACGAGTAAGGGTCTAT-1</td><td> 6259</td><td> 772</td><td>K562</td><td>8.741776</td><td>0.12334239</td></tr>\n",
       "\t<tr><th scope=row>Multiome10x_05_ACGCTTGAGTTGGATC-1</th><td>Multiome10x_05_ACGCTTGAGTTGGATC-1</td><td> 5743</td><td> 743</td><td>K562</td><td>8.655737</td><td>0.12937489</td></tr>\n",
       "\t<tr><th scope=row>Multiome10x_05_ACGTACCCAGCATTAT-1</th><td>Multiome10x_05_ACGTACCCAGCATTAT-1</td><td> 8238</td><td>1029</td><td>K562</td><td>9.016513</td><td>0.12490896</td></tr>\n",
       "\t<tr><th scope=row>Multiome10x_05_ACGTCCAAGCATGTTA-1</th><td>Multiome10x_05_ACGTCCAAGCATGTTA-1</td><td> 9100</td><td>1177</td><td>K562</td><td>9.116030</td><td>0.12934066</td></tr>\n",
       "\t<tr><th scope=row>Multiome10x_05_ACTAAAGCATAAGTTC-1</th><td>Multiome10x_05_ACTAAAGCATAAGTTC-1</td><td> 9281</td><td>1391</td><td>K562</td><td>9.135725</td><td>0.14987609</td></tr>\n",
       "\t<tr><th scope=row>Multiome10x_05_ACTTAGGGTAACCACA-1</th><td>Multiome10x_05_ACTTAGGGTAACCACA-1</td><td> 6274</td><td> 649</td><td>K562</td><td>8.744169</td><td>0.10344278</td></tr>\n",
       "\t<tr><th scope=row>Multiome10x_05_AGAAAGGCAGTTAGCC-1</th><td>Multiome10x_05_AGAAAGGCAGTTAGCC-1</td><td> 6434</td><td> 624</td><td>K562</td><td>8.769352</td><td>0.09698477</td></tr>\n",
       "\t<tr><th scope=row>Multiome10x_05_AGACAATAGTTACCGG-1</th><td>Multiome10x_05_AGACAATAGTTACCGG-1</td><td> 7969</td><td> 767</td><td>K562</td><td>8.983314</td><td>0.09624796</td></tr>\n",
       "\t<tr><th scope=row>Multiome10x_05_AGCCTAGTCGTTAGCG-1</th><td>Multiome10x_05_AGCCTAGTCGTTAGCG-1</td><td> 5326</td><td> 766</td><td>K562</td><td>8.580356</td><td>0.14382276</td></tr>\n",
       "\t<tr><th scope=row>Multiome10x_05_AGCCTGGGTACGGTAC-1</th><td>Multiome10x_05_AGCCTGGGTACGGTAC-1</td><td> 7612</td><td> 836</td><td>K562</td><td>8.937481</td><td>0.10982659</td></tr>\n",
       "\t<tr><th scope=row>Multiome10x_05_AGCGGATAGTAAGGGC-1</th><td>Multiome10x_05_AGCGGATAGTAAGGGC-1</td><td> 3129</td><td> 618</td><td>K562</td><td>8.048469</td><td>0.19750719</td></tr>\n",
       "\t<tr><th scope=row>Multiome10x_05_AGCTACTAGTTATGTG-1</th><td>Multiome10x_05_AGCTACTAGTTATGTG-1</td><td> 7157</td><td> 891</td><td>K562</td><td>8.875846</td><td>0.12449350</td></tr>\n",
       "\t<tr><th scope=row>Multiome10x_05_AGGAAACGTCACAAAT-1</th><td>Multiome10x_05_AGGAAACGTCACAAAT-1</td><td> 6386</td><td> 834</td><td>K562</td><td>8.761863</td><td>0.13059818</td></tr>\n",
       "\t<tr><th scope=row>Multiome10x_05_AGGACTAAGTGAACGA-1</th><td>Multiome10x_05_AGGACTAAGTGAACGA-1</td><td> 3041</td><td> 337</td><td>K562</td><td>8.019942</td><td>0.11081881</td></tr>\n",
       "\t<tr><th scope=row>Multiome10x_05_AGTCCTGAGACTTATG-1</th><td>Multiome10x_05_AGTCCTGAGACTTATG-1</td><td>17082</td><td>1658</td><td>K562</td><td>9.745781</td><td>0.09706123</td></tr>\n",
       "\t<tr><th scope=row>⋮</th><td>⋮</td><td>⋮</td><td>⋮</td><td>⋮</td><td>⋮</td><td>⋮</td></tr>\n",
       "\t<tr><th scope=row>Multiome10x_06_TACAAGCTCCAGGAAA-1</th><td>Multiome10x_06_TACAAGCTCCAGGAAA-1</td><td> 7162</td><td> 850</td><td>K562</td><td>8.876545</td><td>0.11868193</td></tr>\n",
       "\t<tr><th scope=row>Multiome10x_06_TACATCAAGGGCCATC-1</th><td>Multiome10x_06_TACATCAAGGGCCATC-1</td><td> 6158</td><td> 536</td><td>K562</td><td>8.725507</td><td>0.08704125</td></tr>\n",
       "\t<tr><th scope=row>Multiome10x_06_TACTAAGTCATGAAGG-1</th><td>Multiome10x_06_TACTAAGTCATGAAGG-1</td><td> 6193</td><td> 905</td><td>K562</td><td>8.731175</td><td>0.14613273</td></tr>\n",
       "\t<tr><th scope=row>Multiome10x_06_TACTAAGTCGAGGAGT-1</th><td>Multiome10x_06_TACTAAGTCGAGGAGT-1</td><td> 3727</td><td> 782</td><td>K562</td><td>8.223359</td><td>0.20982023</td></tr>\n",
       "\t<tr><th scope=row>Multiome10x_06_TACTCAAAGACTTATG-1</th><td>Multiome10x_06_TACTCAAAGACTTATG-1</td><td> 5050</td><td> 700</td><td>K562</td><td>8.527144</td><td>0.13861386</td></tr>\n",
       "\t<tr><th scope=row>Multiome10x_06_TAGCTTGCACTTAGGC-1</th><td>Multiome10x_06_TAGCTTGCACTTAGGC-1</td><td> 7275</td><td> 958</td><td>K562</td><td>8.892199</td><td>0.13168385</td></tr>\n",
       "\t<tr><th scope=row>Multiome10x_06_TAGTACGGTGCAATGC-1</th><td>Multiome10x_06_TAGTACGGTGCAATGC-1</td><td> 7052</td><td> 881</td><td>K562</td><td>8.861067</td><td>0.12492910</td></tr>\n",
       "\t<tr><th scope=row>Multiome10x_06_TATCGCACAAGCTACC-1</th><td>Multiome10x_06_TATCGCACAAGCTACC-1</td><td> 8262</td><td>1334</td><td>K562</td><td>9.019422</td><td>0.16146212</td></tr>\n",
       "\t<tr><th scope=row>Multiome10x_06_TCAAGAACACTATGGC-1</th><td>Multiome10x_06_TCAAGAACACTATGGC-1</td><td>10730</td><td>1295</td><td>K562</td><td>9.280799</td><td>0.12068966</td></tr>\n",
       "\t<tr><th scope=row>Multiome10x_06_TCAAGAACAGTAAGTA-1</th><td>Multiome10x_06_TCAAGAACAGTAAGTA-1</td><td> 6724</td><td> 918</td><td>K562</td><td>8.813438</td><td>0.13652588</td></tr>\n",
       "\t<tr><th scope=row>Multiome10x_06_TCACCGGCAATCCTGA-1</th><td>Multiome10x_06_TCACCGGCAATCCTGA-1</td><td> 4329</td><td> 381</td><td>K562</td><td>8.373092</td><td>0.08801109</td></tr>\n",
       "\t<tr><th scope=row>Multiome10x_06_TCAGTAGGTATTGTGG-1</th><td>Multiome10x_06_TCAGTAGGTATTGTGG-1</td><td> 8104</td><td> 928</td><td>K562</td><td>9.000113</td><td>0.11451135</td></tr>\n",
       "\t<tr><th scope=row>Multiome10x_06_TCGCCCATCTCACATT-1</th><td>Multiome10x_06_TCGCCCATCTCACATT-1</td><td> 6875</td><td> 934</td><td>K562</td><td>8.835647</td><td>0.13585455</td></tr>\n",
       "\t<tr><th scope=row>Multiome10x_06_TCTAGCACAATTGAAG-1</th><td>Multiome10x_06_TCTAGCACAATTGAAG-1</td><td>13179</td><td>1633</td><td>K562</td><td>9.486380</td><td>0.12390925</td></tr>\n",
       "\t<tr><th scope=row>Multiome10x_06_TGAAGGATCACTTCAT-1</th><td>Multiome10x_06_TGAAGGATCACTTCAT-1</td><td>10284</td><td>1940</td><td>K562</td><td>9.238345</td><td>0.18864255</td></tr>\n",
       "\t<tr><th scope=row>Multiome10x_06_TGATTCAAGTCACTCC-1</th><td>Multiome10x_06_TGATTCAAGTCACTCC-1</td><td> 6641</td><td> 856</td><td>K562</td><td>8.801018</td><td>0.12889625</td></tr>\n",
       "\t<tr><th scope=row>Multiome10x_06_TGCATCCTCTTGGATA-1</th><td>Multiome10x_06_TGCATCCTCTTGGATA-1</td><td> 6217</td><td> 712</td><td>K562</td><td>8.735043</td><td>0.11452469</td></tr>\n",
       "\t<tr><th scope=row>Multiome10x_06_TGCTCTCAGGCATGTT-1</th><td>Multiome10x_06_TGCTCTCAGGCATGTT-1</td><td> 6527</td><td> 811</td><td>K562</td><td>8.783703</td><td>0.12425310</td></tr>\n",
       "\t<tr><th scope=row>Multiome10x_06_TGCTTAAAGGTGCGGA-1</th><td>Multiome10x_06_TGCTTAAAGGTGCGGA-1</td><td> 6855</td><td> 826</td><td>K562</td><td>8.832734</td><td>0.12049599</td></tr>\n",
       "\t<tr><th scope=row>Multiome10x_06_TGCTTGTGTCGTTACT-1</th><td>Multiome10x_06_TGCTTGTGTCGTTACT-1</td><td> 4461</td><td> 354</td><td>K562</td><td>8.403128</td><td>0.07935440</td></tr>\n",
       "\t<tr><th scope=row>Multiome10x_06_TGGATTCAGACTTACA-1</th><td>Multiome10x_06_TGGATTCAGACTTACA-1</td><td> 6306</td><td>1156</td><td>K562</td><td>8.749257</td><td>0.18331748</td></tr>\n",
       "\t<tr><th scope=row>Multiome10x_06_TGGATTCAGTTATGGC-1</th><td>Multiome10x_06_TGGATTCAGTTATGGC-1</td><td> 6283</td><td>1178</td><td>K562</td><td>8.745603</td><td>0.18749005</td></tr>\n",
       "\t<tr><th scope=row>Multiome10x_06_TGGTCCTTCTGGTCCT-1</th><td>Multiome10x_06_TGGTCCTTCTGGTCCT-1</td><td> 7428</td><td>1005</td><td>K562</td><td>8.913012</td><td>0.13529887</td></tr>\n",
       "\t<tr><th scope=row>Multiome10x_06_TGGTTGAGTTGTCCAT-1</th><td>Multiome10x_06_TGGTTGAGTTGTCCAT-1</td><td> 6233</td><td> 723</td><td>K562</td><td>8.737613</td><td>0.11599551</td></tr>\n",
       "\t<tr><th scope=row>Multiome10x_06_TTACCTGTCATAGACC-1</th><td>Multiome10x_06_TTACCTGTCATAGACC-1</td><td> 4864</td><td> 553</td><td>K562</td><td>8.489616</td><td>0.11369243</td></tr>\n",
       "\t<tr><th scope=row>Multiome10x_06_TTCAACCGTTTGGCGG-1</th><td>Multiome10x_06_TTCAACCGTTTGGCGG-1</td><td> 6733</td><td> 756</td><td>K562</td><td>8.814776</td><td>0.11228279</td></tr>\n",
       "\t<tr><th scope=row>Multiome10x_06_TTGCCCGTCTCCATAT-1</th><td>Multiome10x_06_TTGCCCGTCTCCATAT-1</td><td> 6294</td><td> 727</td><td>K562</td><td>8.747352</td><td>0.11550683</td></tr>\n",
       "\t<tr><th scope=row>Multiome10x_06_TTGTGCCTCGGTAACT-1</th><td>Multiome10x_06_TTGTGCCTCGGTAACT-1</td><td> 7416</td><td> 941</td><td>K562</td><td>8.911395</td><td>0.12688781</td></tr>\n",
       "\t<tr><th scope=row>Multiome10x_06_TTTAGCAAGGGTGGAT-1</th><td>Multiome10x_06_TTTAGCAAGGGTGGAT-1</td><td>16830</td><td>2192</td><td>K562</td><td>9.730918</td><td>0.13024361</td></tr>\n",
       "\t<tr><th scope=row>Multiome10x_06_TTTCTCACAATCTCTC-1</th><td>Multiome10x_06_TTTCTCACAATCTCTC-1</td><td> 3044</td><td>  34</td><td>K562</td><td>8.020928</td><td>0.01116951</td></tr>\n",
       "</tbody>\n",
       "</table>\n"
      ],
      "text/latex": [
       "A data.frame: 302 × 6\n",
       "\\begin{tabular}{r|llllll}\n",
       "  & cell & nUMI & nMito & celltype & log.nUMI & percent.mito\\\\\n",
       "  & <chr> & <dbl> & <dbl> & <chr> & <dbl> & <dbl>\\\\\n",
       "\\hline\n",
       "\tMultiome10x\\_05\\_AAATGCCTCCAATTAG-1 & Multiome10x\\_05\\_AAATGCCTCCAATTAG-1 &  4022 &  739 & K562 & 8.299535 & 0.18373943\\\\\n",
       "\tMultiome10x\\_05\\_AACTACTCACTATGGC-1 & Multiome10x\\_05\\_AACTACTCACTATGGC-1 &  9856 & 1270 & K562 & 9.195836 & 0.12885552\\\\\n",
       "\tMultiome10x\\_05\\_AACTGTTCAGGCTTGT-1 & Multiome10x\\_05\\_AACTGTTCAGGCTTGT-1 &  4715 &  656 & K562 & 8.458504 & 0.13913043\\\\\n",
       "\tMultiome10x\\_05\\_AAGCGTTTCCTGGTGA-1 & Multiome10x\\_05\\_AAGCGTTTCCTGGTGA-1 &  7466 &  929 & K562 & 8.918115 & 0.12443075\\\\\n",
       "\tMultiome10x\\_05\\_AAGCTAGAGGTAAGCA-1 & Multiome10x\\_05\\_AAGCTAGAGGTAAGCA-1 &  6014 &  532 & K562 & 8.701845 & 0.08846026\\\\\n",
       "\tMultiome10x\\_05\\_AATAACCGTCACCAAA-1 & Multiome10x\\_05\\_AATAACCGTCACCAAA-1 &  5772 &  823 & K562 & 8.660774 & 0.14258489\\\\\n",
       "\tMultiome10x\\_05\\_AATAACCGTTGGCCGA-1 & Multiome10x\\_05\\_AATAACCGTTGGCCGA-1 &  6314 &  799 & K562 & 8.750525 & 0.12654419\\\\\n",
       "\tMultiome10x\\_05\\_AATATCCCAACCTGGT-1 & Multiome10x\\_05\\_AATATCCCAACCTGGT-1 & 11613 & 1633 & K562 & 9.359880 & 0.14061827\\\\\n",
       "\tMultiome10x\\_05\\_AATCCGTAGCTACTGG-1 & Multiome10x\\_05\\_AATCCGTAGCTACTGG-1 &  7714 & 1092 & K562 & 8.950792 & 0.14156080\\\\\n",
       "\tMultiome10x\\_05\\_AATTACCCATAGCGGA-1 & Multiome10x\\_05\\_AATTACCCATAGCGGA-1 &  6445 &  823 & K562 & 8.771060 & 0.12769589\\\\\n",
       "\tMultiome10x\\_05\\_AATTAGGCATTGCGTA-1 & Multiome10x\\_05\\_AATTAGGCATTGCGTA-1 &  2604 &  438 & K562 & 7.864804 & 0.16820276\\\\\n",
       "\tMultiome10x\\_05\\_AATTGCCAGCGGATAA-1 & Multiome10x\\_05\\_AATTGCCAGCGGATAA-1 &  6824 &  992 & K562 & 8.828201 & 0.14536928\\\\\n",
       "\tMultiome10x\\_05\\_ACATTAGTCTACTAAG-1 & Multiome10x\\_05\\_ACATTAGTCTACTAAG-1 &  4018 &  848 & K562 & 8.298540 & 0.21105027\\\\\n",
       "\tMultiome10x\\_05\\_ACCACACCAGGCATCT-1 & Multiome10x\\_05\\_ACCACACCAGGCATCT-1 &  7391 &  896 & K562 & 8.908018 & 0.12122852\\\\\n",
       "\tMultiome10x\\_05\\_ACCTAAATCAAGTGAG-1 & Multiome10x\\_05\\_ACCTAAATCAAGTGAG-1 &  5579 &  583 & K562 & 8.626765 & 0.10449901\\\\\n",
       "\tMultiome10x\\_05\\_ACGAGTAAGGGTCTAT-1 & Multiome10x\\_05\\_ACGAGTAAGGGTCTAT-1 &  6259 &  772 & K562 & 8.741776 & 0.12334239\\\\\n",
       "\tMultiome10x\\_05\\_ACGCTTGAGTTGGATC-1 & Multiome10x\\_05\\_ACGCTTGAGTTGGATC-1 &  5743 &  743 & K562 & 8.655737 & 0.12937489\\\\\n",
       "\tMultiome10x\\_05\\_ACGTACCCAGCATTAT-1 & Multiome10x\\_05\\_ACGTACCCAGCATTAT-1 &  8238 & 1029 & K562 & 9.016513 & 0.12490896\\\\\n",
       "\tMultiome10x\\_05\\_ACGTCCAAGCATGTTA-1 & Multiome10x\\_05\\_ACGTCCAAGCATGTTA-1 &  9100 & 1177 & K562 & 9.116030 & 0.12934066\\\\\n",
       "\tMultiome10x\\_05\\_ACTAAAGCATAAGTTC-1 & Multiome10x\\_05\\_ACTAAAGCATAAGTTC-1 &  9281 & 1391 & K562 & 9.135725 & 0.14987609\\\\\n",
       "\tMultiome10x\\_05\\_ACTTAGGGTAACCACA-1 & Multiome10x\\_05\\_ACTTAGGGTAACCACA-1 &  6274 &  649 & K562 & 8.744169 & 0.10344278\\\\\n",
       "\tMultiome10x\\_05\\_AGAAAGGCAGTTAGCC-1 & Multiome10x\\_05\\_AGAAAGGCAGTTAGCC-1 &  6434 &  624 & K562 & 8.769352 & 0.09698477\\\\\n",
       "\tMultiome10x\\_05\\_AGACAATAGTTACCGG-1 & Multiome10x\\_05\\_AGACAATAGTTACCGG-1 &  7969 &  767 & K562 & 8.983314 & 0.09624796\\\\\n",
       "\tMultiome10x\\_05\\_AGCCTAGTCGTTAGCG-1 & Multiome10x\\_05\\_AGCCTAGTCGTTAGCG-1 &  5326 &  766 & K562 & 8.580356 & 0.14382276\\\\\n",
       "\tMultiome10x\\_05\\_AGCCTGGGTACGGTAC-1 & Multiome10x\\_05\\_AGCCTGGGTACGGTAC-1 &  7612 &  836 & K562 & 8.937481 & 0.10982659\\\\\n",
       "\tMultiome10x\\_05\\_AGCGGATAGTAAGGGC-1 & Multiome10x\\_05\\_AGCGGATAGTAAGGGC-1 &  3129 &  618 & K562 & 8.048469 & 0.19750719\\\\\n",
       "\tMultiome10x\\_05\\_AGCTACTAGTTATGTG-1 & Multiome10x\\_05\\_AGCTACTAGTTATGTG-1 &  7157 &  891 & K562 & 8.875846 & 0.12449350\\\\\n",
       "\tMultiome10x\\_05\\_AGGAAACGTCACAAAT-1 & Multiome10x\\_05\\_AGGAAACGTCACAAAT-1 &  6386 &  834 & K562 & 8.761863 & 0.13059818\\\\\n",
       "\tMultiome10x\\_05\\_AGGACTAAGTGAACGA-1 & Multiome10x\\_05\\_AGGACTAAGTGAACGA-1 &  3041 &  337 & K562 & 8.019942 & 0.11081881\\\\\n",
       "\tMultiome10x\\_05\\_AGTCCTGAGACTTATG-1 & Multiome10x\\_05\\_AGTCCTGAGACTTATG-1 & 17082 & 1658 & K562 & 9.745781 & 0.09706123\\\\\n",
       "\t⋮ & ⋮ & ⋮ & ⋮ & ⋮ & ⋮ & ⋮\\\\\n",
       "\tMultiome10x\\_06\\_TACAAGCTCCAGGAAA-1 & Multiome10x\\_06\\_TACAAGCTCCAGGAAA-1 &  7162 &  850 & K562 & 8.876545 & 0.11868193\\\\\n",
       "\tMultiome10x\\_06\\_TACATCAAGGGCCATC-1 & Multiome10x\\_06\\_TACATCAAGGGCCATC-1 &  6158 &  536 & K562 & 8.725507 & 0.08704125\\\\\n",
       "\tMultiome10x\\_06\\_TACTAAGTCATGAAGG-1 & Multiome10x\\_06\\_TACTAAGTCATGAAGG-1 &  6193 &  905 & K562 & 8.731175 & 0.14613273\\\\\n",
       "\tMultiome10x\\_06\\_TACTAAGTCGAGGAGT-1 & Multiome10x\\_06\\_TACTAAGTCGAGGAGT-1 &  3727 &  782 & K562 & 8.223359 & 0.20982023\\\\\n",
       "\tMultiome10x\\_06\\_TACTCAAAGACTTATG-1 & Multiome10x\\_06\\_TACTCAAAGACTTATG-1 &  5050 &  700 & K562 & 8.527144 & 0.13861386\\\\\n",
       "\tMultiome10x\\_06\\_TAGCTTGCACTTAGGC-1 & Multiome10x\\_06\\_TAGCTTGCACTTAGGC-1 &  7275 &  958 & K562 & 8.892199 & 0.13168385\\\\\n",
       "\tMultiome10x\\_06\\_TAGTACGGTGCAATGC-1 & Multiome10x\\_06\\_TAGTACGGTGCAATGC-1 &  7052 &  881 & K562 & 8.861067 & 0.12492910\\\\\n",
       "\tMultiome10x\\_06\\_TATCGCACAAGCTACC-1 & Multiome10x\\_06\\_TATCGCACAAGCTACC-1 &  8262 & 1334 & K562 & 9.019422 & 0.16146212\\\\\n",
       "\tMultiome10x\\_06\\_TCAAGAACACTATGGC-1 & Multiome10x\\_06\\_TCAAGAACACTATGGC-1 & 10730 & 1295 & K562 & 9.280799 & 0.12068966\\\\\n",
       "\tMultiome10x\\_06\\_TCAAGAACAGTAAGTA-1 & Multiome10x\\_06\\_TCAAGAACAGTAAGTA-1 &  6724 &  918 & K562 & 8.813438 & 0.13652588\\\\\n",
       "\tMultiome10x\\_06\\_TCACCGGCAATCCTGA-1 & Multiome10x\\_06\\_TCACCGGCAATCCTGA-1 &  4329 &  381 & K562 & 8.373092 & 0.08801109\\\\\n",
       "\tMultiome10x\\_06\\_TCAGTAGGTATTGTGG-1 & Multiome10x\\_06\\_TCAGTAGGTATTGTGG-1 &  8104 &  928 & K562 & 9.000113 & 0.11451135\\\\\n",
       "\tMultiome10x\\_06\\_TCGCCCATCTCACATT-1 & Multiome10x\\_06\\_TCGCCCATCTCACATT-1 &  6875 &  934 & K562 & 8.835647 & 0.13585455\\\\\n",
       "\tMultiome10x\\_06\\_TCTAGCACAATTGAAG-1 & Multiome10x\\_06\\_TCTAGCACAATTGAAG-1 & 13179 & 1633 & K562 & 9.486380 & 0.12390925\\\\\n",
       "\tMultiome10x\\_06\\_TGAAGGATCACTTCAT-1 & Multiome10x\\_06\\_TGAAGGATCACTTCAT-1 & 10284 & 1940 & K562 & 9.238345 & 0.18864255\\\\\n",
       "\tMultiome10x\\_06\\_TGATTCAAGTCACTCC-1 & Multiome10x\\_06\\_TGATTCAAGTCACTCC-1 &  6641 &  856 & K562 & 8.801018 & 0.12889625\\\\\n",
       "\tMultiome10x\\_06\\_TGCATCCTCTTGGATA-1 & Multiome10x\\_06\\_TGCATCCTCTTGGATA-1 &  6217 &  712 & K562 & 8.735043 & 0.11452469\\\\\n",
       "\tMultiome10x\\_06\\_TGCTCTCAGGCATGTT-1 & Multiome10x\\_06\\_TGCTCTCAGGCATGTT-1 &  6527 &  811 & K562 & 8.783703 & 0.12425310\\\\\n",
       "\tMultiome10x\\_06\\_TGCTTAAAGGTGCGGA-1 & Multiome10x\\_06\\_TGCTTAAAGGTGCGGA-1 &  6855 &  826 & K562 & 8.832734 & 0.12049599\\\\\n",
       "\tMultiome10x\\_06\\_TGCTTGTGTCGTTACT-1 & Multiome10x\\_06\\_TGCTTGTGTCGTTACT-1 &  4461 &  354 & K562 & 8.403128 & 0.07935440\\\\\n",
       "\tMultiome10x\\_06\\_TGGATTCAGACTTACA-1 & Multiome10x\\_06\\_TGGATTCAGACTTACA-1 &  6306 & 1156 & K562 & 8.749257 & 0.18331748\\\\\n",
       "\tMultiome10x\\_06\\_TGGATTCAGTTATGGC-1 & Multiome10x\\_06\\_TGGATTCAGTTATGGC-1 &  6283 & 1178 & K562 & 8.745603 & 0.18749005\\\\\n",
       "\tMultiome10x\\_06\\_TGGTCCTTCTGGTCCT-1 & Multiome10x\\_06\\_TGGTCCTTCTGGTCCT-1 &  7428 & 1005 & K562 & 8.913012 & 0.13529887\\\\\n",
       "\tMultiome10x\\_06\\_TGGTTGAGTTGTCCAT-1 & Multiome10x\\_06\\_TGGTTGAGTTGTCCAT-1 &  6233 &  723 & K562 & 8.737613 & 0.11599551\\\\\n",
       "\tMultiome10x\\_06\\_TTACCTGTCATAGACC-1 & Multiome10x\\_06\\_TTACCTGTCATAGACC-1 &  4864 &  553 & K562 & 8.489616 & 0.11369243\\\\\n",
       "\tMultiome10x\\_06\\_TTCAACCGTTTGGCGG-1 & Multiome10x\\_06\\_TTCAACCGTTTGGCGG-1 &  6733 &  756 & K562 & 8.814776 & 0.11228279\\\\\n",
       "\tMultiome10x\\_06\\_TTGCCCGTCTCCATAT-1 & Multiome10x\\_06\\_TTGCCCGTCTCCATAT-1 &  6294 &  727 & K562 & 8.747352 & 0.11550683\\\\\n",
       "\tMultiome10x\\_06\\_TTGTGCCTCGGTAACT-1 & Multiome10x\\_06\\_TTGTGCCTCGGTAACT-1 &  7416 &  941 & K562 & 8.911395 & 0.12688781\\\\\n",
       "\tMultiome10x\\_06\\_TTTAGCAAGGGTGGAT-1 & Multiome10x\\_06\\_TTTAGCAAGGGTGGAT-1 & 16830 & 2192 & K562 & 9.730918 & 0.13024361\\\\\n",
       "\tMultiome10x\\_06\\_TTTCTCACAATCTCTC-1 & Multiome10x\\_06\\_TTTCTCACAATCTCTC-1 &  3044 &   34 & K562 & 8.020928 & 0.01116951\\\\\n",
       "\\end{tabular}\n"
      ],
      "text/markdown": [
       "\n",
       "A data.frame: 302 × 6\n",
       "\n",
       "| <!--/--> | cell &lt;chr&gt; | nUMI &lt;dbl&gt; | nMito &lt;dbl&gt; | celltype &lt;chr&gt; | log.nUMI &lt;dbl&gt; | percent.mito &lt;dbl&gt; |\n",
       "|---|---|---|---|---|---|---|\n",
       "| Multiome10x_05_AAATGCCTCCAATTAG-1 | Multiome10x_05_AAATGCCTCCAATTAG-1 |  4022 |  739 | K562 | 8.299535 | 0.18373943 |\n",
       "| Multiome10x_05_AACTACTCACTATGGC-1 | Multiome10x_05_AACTACTCACTATGGC-1 |  9856 | 1270 | K562 | 9.195836 | 0.12885552 |\n",
       "| Multiome10x_05_AACTGTTCAGGCTTGT-1 | Multiome10x_05_AACTGTTCAGGCTTGT-1 |  4715 |  656 | K562 | 8.458504 | 0.13913043 |\n",
       "| Multiome10x_05_AAGCGTTTCCTGGTGA-1 | Multiome10x_05_AAGCGTTTCCTGGTGA-1 |  7466 |  929 | K562 | 8.918115 | 0.12443075 |\n",
       "| Multiome10x_05_AAGCTAGAGGTAAGCA-1 | Multiome10x_05_AAGCTAGAGGTAAGCA-1 |  6014 |  532 | K562 | 8.701845 | 0.08846026 |\n",
       "| Multiome10x_05_AATAACCGTCACCAAA-1 | Multiome10x_05_AATAACCGTCACCAAA-1 |  5772 |  823 | K562 | 8.660774 | 0.14258489 |\n",
       "| Multiome10x_05_AATAACCGTTGGCCGA-1 | Multiome10x_05_AATAACCGTTGGCCGA-1 |  6314 |  799 | K562 | 8.750525 | 0.12654419 |\n",
       "| Multiome10x_05_AATATCCCAACCTGGT-1 | Multiome10x_05_AATATCCCAACCTGGT-1 | 11613 | 1633 | K562 | 9.359880 | 0.14061827 |\n",
       "| Multiome10x_05_AATCCGTAGCTACTGG-1 | Multiome10x_05_AATCCGTAGCTACTGG-1 |  7714 | 1092 | K562 | 8.950792 | 0.14156080 |\n",
       "| Multiome10x_05_AATTACCCATAGCGGA-1 | Multiome10x_05_AATTACCCATAGCGGA-1 |  6445 |  823 | K562 | 8.771060 | 0.12769589 |\n",
       "| Multiome10x_05_AATTAGGCATTGCGTA-1 | Multiome10x_05_AATTAGGCATTGCGTA-1 |  2604 |  438 | K562 | 7.864804 | 0.16820276 |\n",
       "| Multiome10x_05_AATTGCCAGCGGATAA-1 | Multiome10x_05_AATTGCCAGCGGATAA-1 |  6824 |  992 | K562 | 8.828201 | 0.14536928 |\n",
       "| Multiome10x_05_ACATTAGTCTACTAAG-1 | Multiome10x_05_ACATTAGTCTACTAAG-1 |  4018 |  848 | K562 | 8.298540 | 0.21105027 |\n",
       "| Multiome10x_05_ACCACACCAGGCATCT-1 | Multiome10x_05_ACCACACCAGGCATCT-1 |  7391 |  896 | K562 | 8.908018 | 0.12122852 |\n",
       "| Multiome10x_05_ACCTAAATCAAGTGAG-1 | Multiome10x_05_ACCTAAATCAAGTGAG-1 |  5579 |  583 | K562 | 8.626765 | 0.10449901 |\n",
       "| Multiome10x_05_ACGAGTAAGGGTCTAT-1 | Multiome10x_05_ACGAGTAAGGGTCTAT-1 |  6259 |  772 | K562 | 8.741776 | 0.12334239 |\n",
       "| Multiome10x_05_ACGCTTGAGTTGGATC-1 | Multiome10x_05_ACGCTTGAGTTGGATC-1 |  5743 |  743 | K562 | 8.655737 | 0.12937489 |\n",
       "| Multiome10x_05_ACGTACCCAGCATTAT-1 | Multiome10x_05_ACGTACCCAGCATTAT-1 |  8238 | 1029 | K562 | 9.016513 | 0.12490896 |\n",
       "| Multiome10x_05_ACGTCCAAGCATGTTA-1 | Multiome10x_05_ACGTCCAAGCATGTTA-1 |  9100 | 1177 | K562 | 9.116030 | 0.12934066 |\n",
       "| Multiome10x_05_ACTAAAGCATAAGTTC-1 | Multiome10x_05_ACTAAAGCATAAGTTC-1 |  9281 | 1391 | K562 | 9.135725 | 0.14987609 |\n",
       "| Multiome10x_05_ACTTAGGGTAACCACA-1 | Multiome10x_05_ACTTAGGGTAACCACA-1 |  6274 |  649 | K562 | 8.744169 | 0.10344278 |\n",
       "| Multiome10x_05_AGAAAGGCAGTTAGCC-1 | Multiome10x_05_AGAAAGGCAGTTAGCC-1 |  6434 |  624 | K562 | 8.769352 | 0.09698477 |\n",
       "| Multiome10x_05_AGACAATAGTTACCGG-1 | Multiome10x_05_AGACAATAGTTACCGG-1 |  7969 |  767 | K562 | 8.983314 | 0.09624796 |\n",
       "| Multiome10x_05_AGCCTAGTCGTTAGCG-1 | Multiome10x_05_AGCCTAGTCGTTAGCG-1 |  5326 |  766 | K562 | 8.580356 | 0.14382276 |\n",
       "| Multiome10x_05_AGCCTGGGTACGGTAC-1 | Multiome10x_05_AGCCTGGGTACGGTAC-1 |  7612 |  836 | K562 | 8.937481 | 0.10982659 |\n",
       "| Multiome10x_05_AGCGGATAGTAAGGGC-1 | Multiome10x_05_AGCGGATAGTAAGGGC-1 |  3129 |  618 | K562 | 8.048469 | 0.19750719 |\n",
       "| Multiome10x_05_AGCTACTAGTTATGTG-1 | Multiome10x_05_AGCTACTAGTTATGTG-1 |  7157 |  891 | K562 | 8.875846 | 0.12449350 |\n",
       "| Multiome10x_05_AGGAAACGTCACAAAT-1 | Multiome10x_05_AGGAAACGTCACAAAT-1 |  6386 |  834 | K562 | 8.761863 | 0.13059818 |\n",
       "| Multiome10x_05_AGGACTAAGTGAACGA-1 | Multiome10x_05_AGGACTAAGTGAACGA-1 |  3041 |  337 | K562 | 8.019942 | 0.11081881 |\n",
       "| Multiome10x_05_AGTCCTGAGACTTATG-1 | Multiome10x_05_AGTCCTGAGACTTATG-1 | 17082 | 1658 | K562 | 9.745781 | 0.09706123 |\n",
       "| ⋮ | ⋮ | ⋮ | ⋮ | ⋮ | ⋮ | ⋮ |\n",
       "| Multiome10x_06_TACAAGCTCCAGGAAA-1 | Multiome10x_06_TACAAGCTCCAGGAAA-1 |  7162 |  850 | K562 | 8.876545 | 0.11868193 |\n",
       "| Multiome10x_06_TACATCAAGGGCCATC-1 | Multiome10x_06_TACATCAAGGGCCATC-1 |  6158 |  536 | K562 | 8.725507 | 0.08704125 |\n",
       "| Multiome10x_06_TACTAAGTCATGAAGG-1 | Multiome10x_06_TACTAAGTCATGAAGG-1 |  6193 |  905 | K562 | 8.731175 | 0.14613273 |\n",
       "| Multiome10x_06_TACTAAGTCGAGGAGT-1 | Multiome10x_06_TACTAAGTCGAGGAGT-1 |  3727 |  782 | K562 | 8.223359 | 0.20982023 |\n",
       "| Multiome10x_06_TACTCAAAGACTTATG-1 | Multiome10x_06_TACTCAAAGACTTATG-1 |  5050 |  700 | K562 | 8.527144 | 0.13861386 |\n",
       "| Multiome10x_06_TAGCTTGCACTTAGGC-1 | Multiome10x_06_TAGCTTGCACTTAGGC-1 |  7275 |  958 | K562 | 8.892199 | 0.13168385 |\n",
       "| Multiome10x_06_TAGTACGGTGCAATGC-1 | Multiome10x_06_TAGTACGGTGCAATGC-1 |  7052 |  881 | K562 | 8.861067 | 0.12492910 |\n",
       "| Multiome10x_06_TATCGCACAAGCTACC-1 | Multiome10x_06_TATCGCACAAGCTACC-1 |  8262 | 1334 | K562 | 9.019422 | 0.16146212 |\n",
       "| Multiome10x_06_TCAAGAACACTATGGC-1 | Multiome10x_06_TCAAGAACACTATGGC-1 | 10730 | 1295 | K562 | 9.280799 | 0.12068966 |\n",
       "| Multiome10x_06_TCAAGAACAGTAAGTA-1 | Multiome10x_06_TCAAGAACAGTAAGTA-1 |  6724 |  918 | K562 | 8.813438 | 0.13652588 |\n",
       "| Multiome10x_06_TCACCGGCAATCCTGA-1 | Multiome10x_06_TCACCGGCAATCCTGA-1 |  4329 |  381 | K562 | 8.373092 | 0.08801109 |\n",
       "| Multiome10x_06_TCAGTAGGTATTGTGG-1 | Multiome10x_06_TCAGTAGGTATTGTGG-1 |  8104 |  928 | K562 | 9.000113 | 0.11451135 |\n",
       "| Multiome10x_06_TCGCCCATCTCACATT-1 | Multiome10x_06_TCGCCCATCTCACATT-1 |  6875 |  934 | K562 | 8.835647 | 0.13585455 |\n",
       "| Multiome10x_06_TCTAGCACAATTGAAG-1 | Multiome10x_06_TCTAGCACAATTGAAG-1 | 13179 | 1633 | K562 | 9.486380 | 0.12390925 |\n",
       "| Multiome10x_06_TGAAGGATCACTTCAT-1 | Multiome10x_06_TGAAGGATCACTTCAT-1 | 10284 | 1940 | K562 | 9.238345 | 0.18864255 |\n",
       "| Multiome10x_06_TGATTCAAGTCACTCC-1 | Multiome10x_06_TGATTCAAGTCACTCC-1 |  6641 |  856 | K562 | 8.801018 | 0.12889625 |\n",
       "| Multiome10x_06_TGCATCCTCTTGGATA-1 | Multiome10x_06_TGCATCCTCTTGGATA-1 |  6217 |  712 | K562 | 8.735043 | 0.11452469 |\n",
       "| Multiome10x_06_TGCTCTCAGGCATGTT-1 | Multiome10x_06_TGCTCTCAGGCATGTT-1 |  6527 |  811 | K562 | 8.783703 | 0.12425310 |\n",
       "| Multiome10x_06_TGCTTAAAGGTGCGGA-1 | Multiome10x_06_TGCTTAAAGGTGCGGA-1 |  6855 |  826 | K562 | 8.832734 | 0.12049599 |\n",
       "| Multiome10x_06_TGCTTGTGTCGTTACT-1 | Multiome10x_06_TGCTTGTGTCGTTACT-1 |  4461 |  354 | K562 | 8.403128 | 0.07935440 |\n",
       "| Multiome10x_06_TGGATTCAGACTTACA-1 | Multiome10x_06_TGGATTCAGACTTACA-1 |  6306 | 1156 | K562 | 8.749257 | 0.18331748 |\n",
       "| Multiome10x_06_TGGATTCAGTTATGGC-1 | Multiome10x_06_TGGATTCAGTTATGGC-1 |  6283 | 1178 | K562 | 8.745603 | 0.18749005 |\n",
       "| Multiome10x_06_TGGTCCTTCTGGTCCT-1 | Multiome10x_06_TGGTCCTTCTGGTCCT-1 |  7428 | 1005 | K562 | 8.913012 | 0.13529887 |\n",
       "| Multiome10x_06_TGGTTGAGTTGTCCAT-1 | Multiome10x_06_TGGTTGAGTTGTCCAT-1 |  6233 |  723 | K562 | 8.737613 | 0.11599551 |\n",
       "| Multiome10x_06_TTACCTGTCATAGACC-1 | Multiome10x_06_TTACCTGTCATAGACC-1 |  4864 |  553 | K562 | 8.489616 | 0.11369243 |\n",
       "| Multiome10x_06_TTCAACCGTTTGGCGG-1 | Multiome10x_06_TTCAACCGTTTGGCGG-1 |  6733 |  756 | K562 | 8.814776 | 0.11228279 |\n",
       "| Multiome10x_06_TTGCCCGTCTCCATAT-1 | Multiome10x_06_TTGCCCGTCTCCATAT-1 |  6294 |  727 | K562 | 8.747352 | 0.11550683 |\n",
       "| Multiome10x_06_TTGTGCCTCGGTAACT-1 | Multiome10x_06_TTGTGCCTCGGTAACT-1 |  7416 |  941 | K562 | 8.911395 | 0.12688781 |\n",
       "| Multiome10x_06_TTTAGCAAGGGTGGAT-1 | Multiome10x_06_TTTAGCAAGGGTGGAT-1 | 16830 | 2192 | K562 | 9.730918 | 0.13024361 |\n",
       "| Multiome10x_06_TTTCTCACAATCTCTC-1 | Multiome10x_06_TTTCTCACAATCTCTC-1 |  3044 |   34 | K562 | 8.020928 | 0.01116951 |\n",
       "\n"
      ],
      "text/plain": [
       "                                  cell                              nUMI  nMito\n",
       "Multiome10x_05_AAATGCCTCCAATTAG-1 Multiome10x_05_AAATGCCTCCAATTAG-1  4022  739 \n",
       "Multiome10x_05_AACTACTCACTATGGC-1 Multiome10x_05_AACTACTCACTATGGC-1  9856 1270 \n",
       "Multiome10x_05_AACTGTTCAGGCTTGT-1 Multiome10x_05_AACTGTTCAGGCTTGT-1  4715  656 \n",
       "Multiome10x_05_AAGCGTTTCCTGGTGA-1 Multiome10x_05_AAGCGTTTCCTGGTGA-1  7466  929 \n",
       "Multiome10x_05_AAGCTAGAGGTAAGCA-1 Multiome10x_05_AAGCTAGAGGTAAGCA-1  6014  532 \n",
       "Multiome10x_05_AATAACCGTCACCAAA-1 Multiome10x_05_AATAACCGTCACCAAA-1  5772  823 \n",
       "Multiome10x_05_AATAACCGTTGGCCGA-1 Multiome10x_05_AATAACCGTTGGCCGA-1  6314  799 \n",
       "Multiome10x_05_AATATCCCAACCTGGT-1 Multiome10x_05_AATATCCCAACCTGGT-1 11613 1633 \n",
       "Multiome10x_05_AATCCGTAGCTACTGG-1 Multiome10x_05_AATCCGTAGCTACTGG-1  7714 1092 \n",
       "Multiome10x_05_AATTACCCATAGCGGA-1 Multiome10x_05_AATTACCCATAGCGGA-1  6445  823 \n",
       "Multiome10x_05_AATTAGGCATTGCGTA-1 Multiome10x_05_AATTAGGCATTGCGTA-1  2604  438 \n",
       "Multiome10x_05_AATTGCCAGCGGATAA-1 Multiome10x_05_AATTGCCAGCGGATAA-1  6824  992 \n",
       "Multiome10x_05_ACATTAGTCTACTAAG-1 Multiome10x_05_ACATTAGTCTACTAAG-1  4018  848 \n",
       "Multiome10x_05_ACCACACCAGGCATCT-1 Multiome10x_05_ACCACACCAGGCATCT-1  7391  896 \n",
       "Multiome10x_05_ACCTAAATCAAGTGAG-1 Multiome10x_05_ACCTAAATCAAGTGAG-1  5579  583 \n",
       "Multiome10x_05_ACGAGTAAGGGTCTAT-1 Multiome10x_05_ACGAGTAAGGGTCTAT-1  6259  772 \n",
       "Multiome10x_05_ACGCTTGAGTTGGATC-1 Multiome10x_05_ACGCTTGAGTTGGATC-1  5743  743 \n",
       "Multiome10x_05_ACGTACCCAGCATTAT-1 Multiome10x_05_ACGTACCCAGCATTAT-1  8238 1029 \n",
       "Multiome10x_05_ACGTCCAAGCATGTTA-1 Multiome10x_05_ACGTCCAAGCATGTTA-1  9100 1177 \n",
       "Multiome10x_05_ACTAAAGCATAAGTTC-1 Multiome10x_05_ACTAAAGCATAAGTTC-1  9281 1391 \n",
       "Multiome10x_05_ACTTAGGGTAACCACA-1 Multiome10x_05_ACTTAGGGTAACCACA-1  6274  649 \n",
       "Multiome10x_05_AGAAAGGCAGTTAGCC-1 Multiome10x_05_AGAAAGGCAGTTAGCC-1  6434  624 \n",
       "Multiome10x_05_AGACAATAGTTACCGG-1 Multiome10x_05_AGACAATAGTTACCGG-1  7969  767 \n",
       "Multiome10x_05_AGCCTAGTCGTTAGCG-1 Multiome10x_05_AGCCTAGTCGTTAGCG-1  5326  766 \n",
       "Multiome10x_05_AGCCTGGGTACGGTAC-1 Multiome10x_05_AGCCTGGGTACGGTAC-1  7612  836 \n",
       "Multiome10x_05_AGCGGATAGTAAGGGC-1 Multiome10x_05_AGCGGATAGTAAGGGC-1  3129  618 \n",
       "Multiome10x_05_AGCTACTAGTTATGTG-1 Multiome10x_05_AGCTACTAGTTATGTG-1  7157  891 \n",
       "Multiome10x_05_AGGAAACGTCACAAAT-1 Multiome10x_05_AGGAAACGTCACAAAT-1  6386  834 \n",
       "Multiome10x_05_AGGACTAAGTGAACGA-1 Multiome10x_05_AGGACTAAGTGAACGA-1  3041  337 \n",
       "Multiome10x_05_AGTCCTGAGACTTATG-1 Multiome10x_05_AGTCCTGAGACTTATG-1 17082 1658 \n",
       "⋮                                 ⋮                                 ⋮     ⋮    \n",
       "Multiome10x_06_TACAAGCTCCAGGAAA-1 Multiome10x_06_TACAAGCTCCAGGAAA-1  7162  850 \n",
       "Multiome10x_06_TACATCAAGGGCCATC-1 Multiome10x_06_TACATCAAGGGCCATC-1  6158  536 \n",
       "Multiome10x_06_TACTAAGTCATGAAGG-1 Multiome10x_06_TACTAAGTCATGAAGG-1  6193  905 \n",
       "Multiome10x_06_TACTAAGTCGAGGAGT-1 Multiome10x_06_TACTAAGTCGAGGAGT-1  3727  782 \n",
       "Multiome10x_06_TACTCAAAGACTTATG-1 Multiome10x_06_TACTCAAAGACTTATG-1  5050  700 \n",
       "Multiome10x_06_TAGCTTGCACTTAGGC-1 Multiome10x_06_TAGCTTGCACTTAGGC-1  7275  958 \n",
       "Multiome10x_06_TAGTACGGTGCAATGC-1 Multiome10x_06_TAGTACGGTGCAATGC-1  7052  881 \n",
       "Multiome10x_06_TATCGCACAAGCTACC-1 Multiome10x_06_TATCGCACAAGCTACC-1  8262 1334 \n",
       "Multiome10x_06_TCAAGAACACTATGGC-1 Multiome10x_06_TCAAGAACACTATGGC-1 10730 1295 \n",
       "Multiome10x_06_TCAAGAACAGTAAGTA-1 Multiome10x_06_TCAAGAACAGTAAGTA-1  6724  918 \n",
       "Multiome10x_06_TCACCGGCAATCCTGA-1 Multiome10x_06_TCACCGGCAATCCTGA-1  4329  381 \n",
       "Multiome10x_06_TCAGTAGGTATTGTGG-1 Multiome10x_06_TCAGTAGGTATTGTGG-1  8104  928 \n",
       "Multiome10x_06_TCGCCCATCTCACATT-1 Multiome10x_06_TCGCCCATCTCACATT-1  6875  934 \n",
       "Multiome10x_06_TCTAGCACAATTGAAG-1 Multiome10x_06_TCTAGCACAATTGAAG-1 13179 1633 \n",
       "Multiome10x_06_TGAAGGATCACTTCAT-1 Multiome10x_06_TGAAGGATCACTTCAT-1 10284 1940 \n",
       "Multiome10x_06_TGATTCAAGTCACTCC-1 Multiome10x_06_TGATTCAAGTCACTCC-1  6641  856 \n",
       "Multiome10x_06_TGCATCCTCTTGGATA-1 Multiome10x_06_TGCATCCTCTTGGATA-1  6217  712 \n",
       "Multiome10x_06_TGCTCTCAGGCATGTT-1 Multiome10x_06_TGCTCTCAGGCATGTT-1  6527  811 \n",
       "Multiome10x_06_TGCTTAAAGGTGCGGA-1 Multiome10x_06_TGCTTAAAGGTGCGGA-1  6855  826 \n",
       "Multiome10x_06_TGCTTGTGTCGTTACT-1 Multiome10x_06_TGCTTGTGTCGTTACT-1  4461  354 \n",
       "Multiome10x_06_TGGATTCAGACTTACA-1 Multiome10x_06_TGGATTCAGACTTACA-1  6306 1156 \n",
       "Multiome10x_06_TGGATTCAGTTATGGC-1 Multiome10x_06_TGGATTCAGTTATGGC-1  6283 1178 \n",
       "Multiome10x_06_TGGTCCTTCTGGTCCT-1 Multiome10x_06_TGGTCCTTCTGGTCCT-1  7428 1005 \n",
       "Multiome10x_06_TGGTTGAGTTGTCCAT-1 Multiome10x_06_TGGTTGAGTTGTCCAT-1  6233  723 \n",
       "Multiome10x_06_TTACCTGTCATAGACC-1 Multiome10x_06_TTACCTGTCATAGACC-1  4864  553 \n",
       "Multiome10x_06_TTCAACCGTTTGGCGG-1 Multiome10x_06_TTCAACCGTTTGGCGG-1  6733  756 \n",
       "Multiome10x_06_TTGCCCGTCTCCATAT-1 Multiome10x_06_TTGCCCGTCTCCATAT-1  6294  727 \n",
       "Multiome10x_06_TTGTGCCTCGGTAACT-1 Multiome10x_06_TTGTGCCTCGGTAACT-1  7416  941 \n",
       "Multiome10x_06_TTTAGCAAGGGTGGAT-1 Multiome10x_06_TTTAGCAAGGGTGGAT-1 16830 2192 \n",
       "Multiome10x_06_TTTCTCACAATCTCTC-1 Multiome10x_06_TTTCTCACAATCTCTC-1  3044   34 \n",
       "                                  celltype log.nUMI percent.mito\n",
       "Multiome10x_05_AAATGCCTCCAATTAG-1 K562     8.299535 0.18373943  \n",
       "Multiome10x_05_AACTACTCACTATGGC-1 K562     9.195836 0.12885552  \n",
       "Multiome10x_05_AACTGTTCAGGCTTGT-1 K562     8.458504 0.13913043  \n",
       "Multiome10x_05_AAGCGTTTCCTGGTGA-1 K562     8.918115 0.12443075  \n",
       "Multiome10x_05_AAGCTAGAGGTAAGCA-1 K562     8.701845 0.08846026  \n",
       "Multiome10x_05_AATAACCGTCACCAAA-1 K562     8.660774 0.14258489  \n",
       "Multiome10x_05_AATAACCGTTGGCCGA-1 K562     8.750525 0.12654419  \n",
       "Multiome10x_05_AATATCCCAACCTGGT-1 K562     9.359880 0.14061827  \n",
       "Multiome10x_05_AATCCGTAGCTACTGG-1 K562     8.950792 0.14156080  \n",
       "Multiome10x_05_AATTACCCATAGCGGA-1 K562     8.771060 0.12769589  \n",
       "Multiome10x_05_AATTAGGCATTGCGTA-1 K562     7.864804 0.16820276  \n",
       "Multiome10x_05_AATTGCCAGCGGATAA-1 K562     8.828201 0.14536928  \n",
       "Multiome10x_05_ACATTAGTCTACTAAG-1 K562     8.298540 0.21105027  \n",
       "Multiome10x_05_ACCACACCAGGCATCT-1 K562     8.908018 0.12122852  \n",
       "Multiome10x_05_ACCTAAATCAAGTGAG-1 K562     8.626765 0.10449901  \n",
       "Multiome10x_05_ACGAGTAAGGGTCTAT-1 K562     8.741776 0.12334239  \n",
       "Multiome10x_05_ACGCTTGAGTTGGATC-1 K562     8.655737 0.12937489  \n",
       "Multiome10x_05_ACGTACCCAGCATTAT-1 K562     9.016513 0.12490896  \n",
       "Multiome10x_05_ACGTCCAAGCATGTTA-1 K562     9.116030 0.12934066  \n",
       "Multiome10x_05_ACTAAAGCATAAGTTC-1 K562     9.135725 0.14987609  \n",
       "Multiome10x_05_ACTTAGGGTAACCACA-1 K562     8.744169 0.10344278  \n",
       "Multiome10x_05_AGAAAGGCAGTTAGCC-1 K562     8.769352 0.09698477  \n",
       "Multiome10x_05_AGACAATAGTTACCGG-1 K562     8.983314 0.09624796  \n",
       "Multiome10x_05_AGCCTAGTCGTTAGCG-1 K562     8.580356 0.14382276  \n",
       "Multiome10x_05_AGCCTGGGTACGGTAC-1 K562     8.937481 0.10982659  \n",
       "Multiome10x_05_AGCGGATAGTAAGGGC-1 K562     8.048469 0.19750719  \n",
       "Multiome10x_05_AGCTACTAGTTATGTG-1 K562     8.875846 0.12449350  \n",
       "Multiome10x_05_AGGAAACGTCACAAAT-1 K562     8.761863 0.13059818  \n",
       "Multiome10x_05_AGGACTAAGTGAACGA-1 K562     8.019942 0.11081881  \n",
       "Multiome10x_05_AGTCCTGAGACTTATG-1 K562     9.745781 0.09706123  \n",
       "⋮                                 ⋮        ⋮        ⋮           \n",
       "Multiome10x_06_TACAAGCTCCAGGAAA-1 K562     8.876545 0.11868193  \n",
       "Multiome10x_06_TACATCAAGGGCCATC-1 K562     8.725507 0.08704125  \n",
       "Multiome10x_06_TACTAAGTCATGAAGG-1 K562     8.731175 0.14613273  \n",
       "Multiome10x_06_TACTAAGTCGAGGAGT-1 K562     8.223359 0.20982023  \n",
       "Multiome10x_06_TACTCAAAGACTTATG-1 K562     8.527144 0.13861386  \n",
       "Multiome10x_06_TAGCTTGCACTTAGGC-1 K562     8.892199 0.13168385  \n",
       "Multiome10x_06_TAGTACGGTGCAATGC-1 K562     8.861067 0.12492910  \n",
       "Multiome10x_06_TATCGCACAAGCTACC-1 K562     9.019422 0.16146212  \n",
       "Multiome10x_06_TCAAGAACACTATGGC-1 K562     9.280799 0.12068966  \n",
       "Multiome10x_06_TCAAGAACAGTAAGTA-1 K562     8.813438 0.13652588  \n",
       "Multiome10x_06_TCACCGGCAATCCTGA-1 K562     8.373092 0.08801109  \n",
       "Multiome10x_06_TCAGTAGGTATTGTGG-1 K562     9.000113 0.11451135  \n",
       "Multiome10x_06_TCGCCCATCTCACATT-1 K562     8.835647 0.13585455  \n",
       "Multiome10x_06_TCTAGCACAATTGAAG-1 K562     9.486380 0.12390925  \n",
       "Multiome10x_06_TGAAGGATCACTTCAT-1 K562     9.238345 0.18864255  \n",
       "Multiome10x_06_TGATTCAAGTCACTCC-1 K562     8.801018 0.12889625  \n",
       "Multiome10x_06_TGCATCCTCTTGGATA-1 K562     8.735043 0.11452469  \n",
       "Multiome10x_06_TGCTCTCAGGCATGTT-1 K562     8.783703 0.12425310  \n",
       "Multiome10x_06_TGCTTAAAGGTGCGGA-1 K562     8.832734 0.12049599  \n",
       "Multiome10x_06_TGCTTGTGTCGTTACT-1 K562     8.403128 0.07935440  \n",
       "Multiome10x_06_TGGATTCAGACTTACA-1 K562     8.749257 0.18331748  \n",
       "Multiome10x_06_TGGATTCAGTTATGGC-1 K562     8.745603 0.18749005  \n",
       "Multiome10x_06_TGGTCCTTCTGGTCCT-1 K562     8.913012 0.13529887  \n",
       "Multiome10x_06_TGGTTGAGTTGTCCAT-1 K562     8.737613 0.11599551  \n",
       "Multiome10x_06_TTACCTGTCATAGACC-1 K562     8.489616 0.11369243  \n",
       "Multiome10x_06_TTCAACCGTTTGGCGG-1 K562     8.814776 0.11228279  \n",
       "Multiome10x_06_TTGCCCGTCTCCATAT-1 K562     8.747352 0.11550683  \n",
       "Multiome10x_06_TTGTGCCTCGGTAACT-1 K562     8.911395 0.12688781  \n",
       "Multiome10x_06_TTTAGCAAGGGTGGAT-1 K562     9.730918 0.13024361  \n",
       "Multiome10x_06_TTTCTCACAATCTCTC-1 K562     8.020928 0.01116951  "
      ]
     },
     "metadata": {},
     "output_type": "display_data"
    }
   ],
   "source": [
    "meta.data = data.frame(cell = colnames(matrix.rna),\n",
    "                       nUMI = colSums(matrix.rna),\n",
    "                       nMito = colSums(matrix.rna[grep(\"MT-\",rownames(matrix.rna)),]),\n",
    "                       celltype = \"K562\")\n",
    "meta.data[,\"log.nUMI\"] = log(meta.data[,\"nUMI\"])\n",
    "meta.data[,\"percent.mito\"] = meta.data[,\"nMito\"] / meta.data[,\"nUMI\"]\n",
    "meta.data"
   ]
  },
  {
   "cell_type": "markdown",
   "id": "b823cb4a-3ce6-40b1-9a0d-d5d1e4aa3912",
   "metadata": {},
   "source": [
    "RUN SCENT prediction"
   ]
  },
  {
   "cell_type": "code",
   "execution_count": 12,
   "id": "f46765dc-9de5-4411-9288-40b59435f9fb",
   "metadata": {},
   "outputs": [],
   "source": [
    "SCENT_algorithm.modified = function (object, \n",
    "                                     # celltype, \n",
    "                                     # ncores, \n",
    "                                     # regr = \"poisson\", \n",
    "                                     # bin = TRUE) \n",
    "                                     regr = \"poisson\") {\n",
    "    res <- data.frame()\n",
    "    for (n in 1:nrow(object@peak.info)) {        \n",
    "        gene <- object@peak.info[n, 1]\n",
    "        this_peak <- object@peak.info[n, 2]\n",
    "        atac_target <- data.frame(cell = colnames(object@atac), \n",
    "            atac = object@atac[this_peak, ])\n",
    "        # if (bin) {\n",
    "        #     atac_target[atac_target$atac > 0, ]$atac <- 1\n",
    "        # }\n",
    "        mrna_target <- object@rna[gene, ]\n",
    "        df <- data.frame(cell = names(mrna_target), exprs = as.numeric(mrna_target))\n",
    "        df <- merge(df, atac_target, by = \"cell\")\n",
    "        df <- merge(df, object@meta.data, by = \"cell\")\n",
    "        # df2 <- df[df[[object@celltypes]] == celltype, ]\n",
    "        df2 <- df\n",
    "        nonzero_m <- length(df2$exprs[df2$exprs > 0])/length(df2$exprs)\n",
    "        nonzero_a <- length(df2$atac[df2$atac > 0])/length(df2$atac)\n",
    "        if (nonzero_m > 0.05 & nonzero_a > 0.05) {\n",
    "            res_var <- \"exprs\"\n",
    "            pred_var <- c(\"atac\", object@covariates)\n",
    "            formula <- as.formula(paste(res_var, paste(pred_var, \n",
    "                collapse = \"+\"), sep = \"~\"))\n",
    "            if (regr == \"poisson\") {\n",
    "                base = glm(formula, family = \"poisson\", data = df2)\n",
    "                coefs <- summary(base)$coefficients[\"atac\", ]\n",
    "                # assoc <- assoc_poisson\n",
    "                assoc <- SCENT::assoc_poisson\n",
    "            }\n",
    "            else if (regr == \"negbin\") {\n",
    "                base = glm.nb(formula, data = df2)\n",
    "                coefs <- summary(base)$coefficients[\"atac\", ]\n",
    "                # assoc <- assoc_negbin\n",
    "                assoc <- SCENT::assoc_negbin\n",
    "            }\n",
    "            bs = boot::boot(df2, assoc, R = 100, formula = formula, \n",
    "                stype = \"i\", parallel = \"no\", ncpus = 1)\n",
    "            # p0 = basic_p(bs$t0[1], bs$t[, 1])\n",
    "            p0 = SCENT::basic_p(bs$t0[1], bs$t[, 1])\n",
    "            # if (p0 < 0.1) {\n",
    "            #     bs = boot::boot(df2, assoc, R = 500, formula = formula, \n",
    "            #       stype = \"i\", \n",
    "            #       # parallel = \"multicore\", ncpus = ncores)\n",
    "            #       parallel = \"no\", ncpus = 1)\n",
    "            #     # p0 = basic_p(bs$t0[1], bs$t[, 1])\n",
    "            #     p0 = SCENT::basic_p(bs$t0[1], bs$t[, 1])\n",
    "            # }\n",
    "            # if (p0 < 0.05) {\n",
    "            #     bs = boot::boot(df2, assoc, R = 2500, formula = formula, \n",
    "            #       stype = \"i\", \n",
    "            #       # parallel = \"multicore\", ncpus = ncores)\n",
    "            #       parallel = \"no\", ncpus = 1)\n",
    "            #     # p0 = basic_p(bs$t0[1], bs$t[, 1])\n",
    "            #     p0 = SCENT::basic_p(bs$t0[1], bs$t[, 1])\n",
    "            # }\n",
    "            # if (p0 < 0.01) {\n",
    "            #     bs = boot::boot(df2, assoc, R = 25000, formula = formula, \n",
    "            #       stype = \"i\", \n",
    "            #       # parallel = \"multicore\", ncpus = ncores)\n",
    "            #       parallel = \"no\", ncpus = 1)\n",
    "            #     # p0 = basic_p(bs$t0[1], bs$t[, 1])\n",
    "            #     p0 = SCENT::basic_p(bs$t0[1], bs$t[, 1])\n",
    "            # }\n",
    "            # if (p0 < 0.001) {\n",
    "            #     bs = boot::boot(df2, assoc, R = 50000, formula = formula, \n",
    "            #       stype = \"i\", \n",
    "            #       # parallel = \"multicore\", ncpus = ncores)\n",
    "            #       parallel = \"no\", ncpus = 1)\n",
    "            #     # p0 = basic_p(bs$t0[1], bs$t[, 1])\n",
    "            #     p0 = SCENT::basic_p(bs$t0[1], bs$t[, 1])\n",
    "            # }\n",
    "            out <- data.frame(gene = gene, peak = this_peak, \n",
    "                beta = coefs[1], se = coefs[2], z = coefs[3], \n",
    "                p = coefs[4], boot_basic_p = p0)           \n",
    "            res <- rbind(res, out)\n",
    "        }\n",
    "    }\n",
    "    object@SCENT.result <- res\n",
    "    return(object)\n",
    "}"
   ]
  },
  {
   "cell_type": "code",
   "execution_count": 13,
   "id": "563771b9-b96a-44d5-a5fe-fa30a7b9851b",
   "metadata": {},
   "outputs": [],
   "source": [
    "dir.create(paste(dir.output,\"chr\",sep = \"/\"),recursive = T)"
   ]
  },
  {
   "cell_type": "code",
   "execution_count": 14,
   "id": "0d2266ce-b92d-40d2-9b78-f39bd33a5079",
   "metadata": {},
   "outputs": [],
   "source": [
    "chr.done = dir(paste(dir.output,\"chr\",sep = \"/\"))\n",
    "chr.run = as.character(unique(seqnames(pairs.E2G.filter2)))\n",
    "chr.run = chr.run[!chr.run %in% chr.done]"
   ]
  },
  {
   "cell_type": "code",
   "execution_count": 15,
   "id": "2d41238d-e833-4e0e-add5-bb56bb615c1a",
   "metadata": {},
   "outputs": [
    {
     "name": "stdout",
     "output_type": "stream",
     "text": [
      "[1] \"chr1\"\n"
     ]
    },
    {
     "name": "stderr",
     "output_type": "stream",
     "text": [
      "Warning message in split.default(x = seq_len(nrow(x)), f = f, drop = drop, ...):\n",
      "“data length is not a multiple of split variable”\n"
     ]
    },
    {
     "name": "stdout",
     "output_type": "stream",
     "text": [
      "[1] \"chr10\"\n",
      "[1] \"chr11\"\n"
     ]
    },
    {
     "name": "stderr",
     "output_type": "stream",
     "text": [
      "Warning message in split.default(x = seq_len(nrow(x)), f = f, drop = drop, ...):\n",
      "“data length is not a multiple of split variable”\n"
     ]
    },
    {
     "name": "stdout",
     "output_type": "stream",
     "text": [
      "[1] \"chr12\"\n"
     ]
    },
    {
     "name": "stderr",
     "output_type": "stream",
     "text": [
      "Warning message in split.default(x = seq_len(nrow(x)), f = f, drop = drop, ...):\n",
      "“data length is not a multiple of split variable”\n"
     ]
    },
    {
     "name": "stdout",
     "output_type": "stream",
     "text": [
      "[1] \"chr13\"\n"
     ]
    },
    {
     "name": "stderr",
     "output_type": "stream",
     "text": [
      "Warning message in split.default(x = seq_len(nrow(x)), f = f, drop = drop, ...):\n",
      "“data length is not a multiple of split variable”\n"
     ]
    },
    {
     "name": "stdout",
     "output_type": "stream",
     "text": [
      "[1] \"chr14\"\n"
     ]
    },
    {
     "name": "stderr",
     "output_type": "stream",
     "text": [
      "Warning message in split.default(x = seq_len(nrow(x)), f = f, drop = drop, ...):\n",
      "“data length is not a multiple of split variable”\n"
     ]
    },
    {
     "name": "stdout",
     "output_type": "stream",
     "text": [
      "[1] \"chr15\"\n"
     ]
    },
    {
     "name": "stderr",
     "output_type": "stream",
     "text": [
      "Warning message in split.default(x = seq_len(nrow(x)), f = f, drop = drop, ...):\n",
      "“data length is not a multiple of split variable”\n"
     ]
    },
    {
     "name": "stdout",
     "output_type": "stream",
     "text": [
      "[1] \"chr16\"\n"
     ]
    },
    {
     "name": "stderr",
     "output_type": "stream",
     "text": [
      "Warning message in split.default(x = seq_len(nrow(x)), f = f, drop = drop, ...):\n",
      "“data length is not a multiple of split variable”\n"
     ]
    },
    {
     "name": "stdout",
     "output_type": "stream",
     "text": [
      "[1] \"chr17\"\n"
     ]
    },
    {
     "name": "stderr",
     "output_type": "stream",
     "text": [
      "Warning message in split.default(x = seq_len(nrow(x)), f = f, drop = drop, ...):\n",
      "“data length is not a multiple of split variable”\n"
     ]
    },
    {
     "name": "stdout",
     "output_type": "stream",
     "text": [
      "[1] \"chr18\"\n"
     ]
    },
    {
     "name": "stderr",
     "output_type": "stream",
     "text": [
      "Warning message in split.default(x = seq_len(nrow(x)), f = f, drop = drop, ...):\n",
      "“data length is not a multiple of split variable”\n"
     ]
    },
    {
     "name": "stdout",
     "output_type": "stream",
     "text": [
      "[1] \"chr19\"\n"
     ]
    },
    {
     "name": "stderr",
     "output_type": "stream",
     "text": [
      "Warning message in split.default(x = seq_len(nrow(x)), f = f, drop = drop, ...):\n",
      "“data length is not a multiple of split variable”\n"
     ]
    },
    {
     "name": "stdout",
     "output_type": "stream",
     "text": [
      "[1] \"chr2\"\n"
     ]
    },
    {
     "name": "stderr",
     "output_type": "stream",
     "text": [
      "Warning message in split.default(x = seq_len(nrow(x)), f = f, drop = drop, ...):\n",
      "“data length is not a multiple of split variable”\n"
     ]
    },
    {
     "name": "stdout",
     "output_type": "stream",
     "text": [
      "[1] \"chr20\"\n"
     ]
    },
    {
     "name": "stderr",
     "output_type": "stream",
     "text": [
      "Warning message in split.default(x = seq_len(nrow(x)), f = f, drop = drop, ...):\n",
      "“data length is not a multiple of split variable”\n"
     ]
    },
    {
     "name": "stdout",
     "output_type": "stream",
     "text": [
      "[1] \"chr21\"\n"
     ]
    },
    {
     "name": "stderr",
     "output_type": "stream",
     "text": [
      "Warning message in split.default(x = seq_len(nrow(x)), f = f, drop = drop, ...):\n",
      "“data length is not a multiple of split variable”\n"
     ]
    },
    {
     "name": "stdout",
     "output_type": "stream",
     "text": [
      "[1] \"chr22\"\n"
     ]
    },
    {
     "name": "stderr",
     "output_type": "stream",
     "text": [
      "Warning message in split.default(x = seq_len(nrow(x)), f = f, drop = drop, ...):\n",
      "“data length is not a multiple of split variable”\n"
     ]
    },
    {
     "name": "stdout",
     "output_type": "stream",
     "text": [
      "[1] \"chr3\"\n"
     ]
    },
    {
     "name": "stderr",
     "output_type": "stream",
     "text": [
      "Warning message in split.default(x = seq_len(nrow(x)), f = f, drop = drop, ...):\n",
      "“data length is not a multiple of split variable”\n"
     ]
    },
    {
     "name": "stdout",
     "output_type": "stream",
     "text": [
      "[1] \"chr4\"\n"
     ]
    },
    {
     "name": "stderr",
     "output_type": "stream",
     "text": [
      "Warning message in split.default(x = seq_len(nrow(x)), f = f, drop = drop, ...):\n",
      "“data length is not a multiple of split variable”\n"
     ]
    },
    {
     "name": "stdout",
     "output_type": "stream",
     "text": [
      "[1] \"chr5\"\n"
     ]
    },
    {
     "name": "stderr",
     "output_type": "stream",
     "text": [
      "Warning message in split.default(x = seq_len(nrow(x)), f = f, drop = drop, ...):\n",
      "“data length is not a multiple of split variable”\n"
     ]
    },
    {
     "name": "stdout",
     "output_type": "stream",
     "text": [
      "[1] \"chr6\"\n"
     ]
    },
    {
     "name": "stderr",
     "output_type": "stream",
     "text": [
      "Warning message in split.default(x = seq_len(nrow(x)), f = f, drop = drop, ...):\n",
      "“data length is not a multiple of split variable”\n"
     ]
    },
    {
     "name": "stdout",
     "output_type": "stream",
     "text": [
      "[1] \"chr7\"\n"
     ]
    },
    {
     "name": "stderr",
     "output_type": "stream",
     "text": [
      "Warning message in split.default(x = seq_len(nrow(x)), f = f, drop = drop, ...):\n",
      "“data length is not a multiple of split variable”\n"
     ]
    },
    {
     "name": "stdout",
     "output_type": "stream",
     "text": [
      "[1] \"chr8\"\n"
     ]
    },
    {
     "name": "stderr",
     "output_type": "stream",
     "text": [
      "Warning message in split.default(x = seq_len(nrow(x)), f = f, drop = drop, ...):\n",
      "“data length is not a multiple of split variable”\n"
     ]
    },
    {
     "name": "stdout",
     "output_type": "stream",
     "text": [
      "[1] \"chr9\"\n"
     ]
    },
    {
     "name": "stderr",
     "output_type": "stream",
     "text": [
      "Warning message in split.default(x = seq_len(nrow(x)), f = f, drop = drop, ...):\n",
      "“data length is not a multiple of split variable”\n"
     ]
    },
    {
     "name": "stdout",
     "output_type": "stream",
     "text": [
      "[1] \"chrX\"\n"
     ]
    },
    {
     "name": "stderr",
     "output_type": "stream",
     "text": [
      "Warning message in split.default(x = seq_len(nrow(x)), f = f, drop = drop, ...):\n",
      "“data length is not a multiple of split variable”\n"
     ]
    }
   ],
   "source": [
    "for(chr.tmp in chr.run){\n",
    "  print(chr.tmp)\n",
    "  pairs.E2G.chr.res = pairs.E2G.filter2[seqnames(pairs.E2G.filter2) == chr.tmp]\n",
    "  gene_peak.chr = as.data.frame(mcols(pairs.E2G.chr.res)[,c(\"TargetGene\",\"PeakName\")])\n",
    "  list.gene_peak.chr <- split(gene_peak.chr, seq_len(n.cores))\n",
    "  \n",
    "  list.obj.SCENT.chr <- lapply(list.gene_peak.chr, function(gene_peak.tmp) {\n",
    "    obj.SCENT.tmp <- CreateSCENTObj(\n",
    "      rna = matrix.rna[rownames(matrix.rna) %in% gene_peak.tmp$TargetGene,],\n",
    "      atac = matrix.atac[rownames(matrix.atac) %in% gene_peak.tmp$PeakName,], \n",
    "      meta.data = meta.data,\n",
    "      peak.info = gene_peak.tmp,\n",
    "      covariates = c(\"log.nUMI\",\"percent.mito\"), \n",
    "      celltypes = \"celltype\"\n",
    "    )\n",
    "  })\n",
    "  \n",
    "  cl <- makeCluster(n.cores)\n",
    "  clusterExport(cl, varlist=c(\"SCENT_algorithm.modified\"))\n",
    "  list.SCENT.result.chr <- parLapply(cl, list.obj.SCENT.chr, function(obj.SCENT.tmp) {\n",
    "    obj.SCENT.tmp <- SCENT_algorithm.modified(object = obj.SCENT.tmp)\n",
    "    return(obj.SCENT.tmp@SCENT.result)\n",
    "  })\n",
    "  stopCluster(cl)\n",
    "  \n",
    "  \n",
    "  df.SCENT.result.chr = do.call(rbind,list.SCENT.result.chr)\n",
    "  rownames(df.SCENT.result.chr) = paste(df.SCENT.result.chr$peak,\n",
    "                                        df.SCENT.result.chr$gene,\n",
    "                                        sep = \"_\")\n",
    "\n",
    "  pairs.E2G.chr.res = pairs.E2G.chr.res[pairs.E2G.chr.res$PairName %in% rownames(df.SCENT.result.chr)]\n",
    "  mcols(pairs.E2G.chr.res)[,c(\"beta\",\"se\",\"z\",\"p\",\"boot_basic_p\")] = \n",
    "    df.SCENT.result.chr[pairs.E2G.chr.res$PairName,c(\"beta\",\"se\",\"z\",\"p\",\"boot_basic_p\")]\n",
    "  pairs.E2G.chr.res$boot_basic_p.log10 = -log10(pairs.E2G.chr.res$boot_basic_p)\n",
    "  pairs.E2G.chr.res$sign = 1\n",
    "  pairs.E2G.chr.res$sign[pairs.E2G.chr.res$beta < 0] = -1\n",
    "  pairs.E2G.chr.res$boot_basic_p.log10.signed = pairs.E2G.chr.res$boot_basic_p.log10 * pairs.E2G.chr.res$sign\n",
    "  saveRDS(pairs.E2G.chr.res,\n",
    "          paste(dir.output,\"chr\",chr.tmp,sep = \"/\"))\n",
    "  rm (pairs.E2G.chr.res)\n",
    "}"
   ]
  },
  {
   "cell_type": "markdown",
   "id": "da9d1451-54e0-49e0-ae8b-cd0158115820",
   "metadata": {},
   "source": [
    "Merge results"
   ]
  },
  {
   "cell_type": "code",
   "execution_count": 16,
   "id": "6b4278f1-7d9d-402f-95c6-f274a6befea3",
   "metadata": {},
   "outputs": [],
   "source": [
    "chr.merge = as.character(unique(seqnames(pairs.E2G.filter2)))\n",
    "list.res = list()\n",
    "for(chr.tmp in chr.merge){\n",
    "    list.res[[chr.tmp]] = readRDS(paste(dir.output,\"chr\",chr.tmp,sep = \"/\"))\n",
    "}\n",
    "pairs.E2G.res = unlist(as(list.res, \"GRangesList\"))"
   ]
  },
  {
   "cell_type": "markdown",
   "id": "6ef1617e-3e2f-44f1-9245-007d569ca84d",
   "metadata": {},
   "source": [
    "Save results"
   ]
  },
  {
   "cell_type": "code",
   "execution_count": 17,
   "id": "48824f05-aedd-476c-88d6-ae58d1833fc9",
   "metadata": {},
   "outputs": [
    {
     "data": {
      "text/plain": [
       "GRanges object with 744304 ranges and 11 metadata columns:\n",
       "       seqnames              ranges strand |  TargetGene               PeakName\n",
       "          <Rle>           <IRanges>  <Rle> | <character>            <character>\n",
       "  chr1     chr1 100037737-100039177      * |         AGL chr1-100037737-10003..\n",
       "  chr1     chr1 100037737-100039177      * |      CDC14A chr1-100037737-10003..\n",
       "  chr1     chr1 100037737-100039177      * |         DBT chr1-100037737-10003..\n",
       "  chr1     chr1 100037737-100039177      * |        DPH5 chr1-100037737-10003..\n",
       "  chr1     chr1 100037737-100039177      * |        RTCA chr1-100037737-10003..\n",
       "   ...      ...                 ...    ... .         ...                    ...\n",
       "  chrX     chrX     9981279-9982047      * |        WWC3   chrX-9981279-9982047\n",
       "  chrX     chrX     9986695-9987318      * |       TBL1X   chrX-9986695-9987318\n",
       "  chrX     chrX     9986695-9987318      * |        WWC3   chrX-9986695-9987318\n",
       "  chrX     chrX     9995801-9996095      * |       TBL1X   chrX-9995801-9996095\n",
       "  chrX     chrX     9995801-9996095      * |        WWC3   chrX-9995801-9996095\n",
       "                     PairName       beta        se           z         p\n",
       "                  <character>  <numeric> <numeric>   <numeric> <numeric>\n",
       "  chr1 chr1-100037737-10003.. -0.0719442  0.467143   -0.154009  0.877603\n",
       "  chr1 chr1-100037737-10003..  0.2059281  0.149688    1.375719  0.168909\n",
       "  chr1 chr1-100037737-10003..  0.4442478  0.531346    0.836080  0.403110\n",
       "  chr1 chr1-100037737-10003..  0.6241298  0.529261    1.179247  0.238300\n",
       "  chr1 chr1-100037737-10003.. -0.1901090  0.368126   -0.516423  0.605559\n",
       "   ...                    ...        ...       ...         ...       ...\n",
       "  chrX chrX-9981279-9982047.. -1.2600792  1.016725 -1.23935164  0.215215\n",
       "  chrX chrX-9986695-9987318..  0.0507603  0.152041  0.33385945  0.738486\n",
       "  chrX chrX-9986695-9987318..  0.0010538  0.497725  0.00211723  0.998311\n",
       "  chrX chrX-9995801-9996095..  0.2085981  0.171802  1.21417961  0.224679\n",
       "  chrX chrX-9995801-9996095.. -0.4076520  0.730744 -0.55785906  0.576941\n",
       "       boot_basic_p boot_basic_p.log10      sign boot_basic_p.log10.signed\n",
       "          <numeric>          <numeric> <numeric>                 <numeric>\n",
       "  chr1         0.82          0.0861861        -1                -0.0861861\n",
       "  chr1         0.40          0.3979400         1                 0.3979400\n",
       "  chr1         0.66          0.1804561         1                 0.1804561\n",
       "  chr1         0.34          0.4685211         1                 0.4685211\n",
       "  chr1         0.52          0.2839967        -1                -0.2839967\n",
       "   ...          ...                ...       ...                       ...\n",
       "  chrX         0.76          0.1191864        -1                -0.1191864\n",
       "  chrX         0.86          0.0655015         1                 0.0655015\n",
       "  chrX         0.84          0.0757207         1                 0.0757207\n",
       "  chrX         0.34          0.4685211         1                 0.4685211\n",
       "  chrX         0.58          0.2365720        -1                -0.2365720\n",
       "  -------\n",
       "  seqinfo: 23 sequences from an unspecified genome; no seqlengths"
      ]
     },
     "metadata": {},
     "output_type": "display_data"
    }
   ],
   "source": [
    "saveRDS(pairs.E2G.res,\n",
    "        paste(dir.output,\"pairs.E2G.res.rds\",sep = \"/\"))\n",
    "pairs.E2G.res"
   ]
  },
  {
   "cell_type": "code",
   "execution_count": 18,
   "id": "2297128a-9ed6-42b8-90c7-459969fb5afd",
   "metadata": {},
   "outputs": [
    {
     "data": {
      "text/html": [
       "<table class=\"dataframe\">\n",
       "<caption>A data.frame: 744304 × 13</caption>\n",
       "<thead>\n",
       "\t<tr><th scope=col>chr</th><th scope=col>start</th><th scope=col>end</th><th scope=col>TargetGene</th><th scope=col>CellType</th><th scope=col>beta</th><th scope=col>se</th><th scope=col>z</th><th scope=col>p</th><th scope=col>boot_basic_p</th><th scope=col>boot_basic_p.log10</th><th scope=col>sign</th><th scope=col>boot_basic_p.log10.signed</th></tr>\n",
       "\t<tr><th scope=col>&lt;fct&gt;</th><th scope=col>&lt;int&gt;</th><th scope=col>&lt;int&gt;</th><th scope=col>&lt;chr&gt;</th><th scope=col>&lt;chr&gt;</th><th scope=col>&lt;dbl&gt;</th><th scope=col>&lt;dbl&gt;</th><th scope=col>&lt;dbl&gt;</th><th scope=col>&lt;dbl&gt;</th><th scope=col>&lt;dbl&gt;</th><th scope=col>&lt;dbl&gt;</th><th scope=col>&lt;dbl&gt;</th><th scope=col>&lt;dbl&gt;</th></tr>\n",
       "</thead>\n",
       "<tbody>\n",
       "\t<tr><td>chr1</td><td>100037737</td><td>100039177</td><td>AGL     </td><td>K562</td><td>-0.07194421</td><td>0.4671431</td><td>-0.15400893</td><td>0.87760270</td><td>0.82</td><td>0.086186148</td><td>-1</td><td>-0.086186148</td></tr>\n",
       "\t<tr><td>chr1</td><td>100037737</td><td>100039177</td><td>CDC14A  </td><td>K562</td><td> 0.20592808</td><td>0.1496876</td><td> 1.37571920</td><td>0.16890859</td><td>0.40</td><td>0.397940009</td><td> 1</td><td> 0.397940009</td></tr>\n",
       "\t<tr><td>chr1</td><td>100037737</td><td>100039177</td><td>DBT     </td><td>K562</td><td> 0.44424780</td><td>0.5313461</td><td> 0.83607998</td><td>0.40310991</td><td>0.66</td><td>0.180456064</td><td> 1</td><td> 0.180456064</td></tr>\n",
       "\t<tr><td>chr1</td><td>100037737</td><td>100039177</td><td>DPH5    </td><td>K562</td><td> 0.62412975</td><td>0.5292612</td><td> 1.17924720</td><td>0.23829976</td><td>0.34</td><td>0.468521083</td><td> 1</td><td> 0.468521083</td></tr>\n",
       "\t<tr><td>chr1</td><td>100037737</td><td>100039177</td><td>RTCA    </td><td>K562</td><td>-0.19010896</td><td>0.3681263</td><td>-0.51642325</td><td>0.60555883</td><td>0.52</td><td>0.283996656</td><td>-1</td><td>-0.283996656</td></tr>\n",
       "\t<tr><td>chr1</td><td>100037737</td><td>100039177</td><td>SLC30A7 </td><td>K562</td><td>-0.20161477</td><td>0.2580014</td><td>-0.78144825</td><td>0.43453890</td><td>0.46</td><td>0.337242168</td><td>-1</td><td>-0.337242168</td></tr>\n",
       "\t<tr><td>chr1</td><td>100037737</td><td>100039177</td><td>SLC35A3 </td><td>K562</td><td> 0.43659769</td><td>0.4053369</td><td> 1.07712293</td><td>0.28142535</td><td>0.32</td><td>0.494850022</td><td> 1</td><td> 0.494850022</td></tr>\n",
       "\t<tr><td>chr1</td><td>100037737</td><td>100039177</td><td>TRMT13  </td><td>K562</td><td>-0.10365772</td><td>0.3003746</td><td>-0.34509481</td><td>0.73002310</td><td>0.68</td><td>0.167491087</td><td>-1</td><td>-0.167491087</td></tr>\n",
       "\t<tr><td>chr1</td><td>100046506</td><td>100047207</td><td>AGL     </td><td>K562</td><td> 1.06748820</td><td>0.5697681</td><td> 1.87354855</td><td>0.06099268</td><td>0.04</td><td>1.397940009</td><td> 1</td><td> 1.397940009</td></tr>\n",
       "\t<tr><td>chr1</td><td>100046506</td><td>100047207</td><td>CDC14A  </td><td>K562</td><td>-0.07289384</td><td>0.2430136</td><td>-0.29995784</td><td>0.76420931</td><td>0.98</td><td>0.008773924</td><td>-1</td><td>-0.008773924</td></tr>\n",
       "\t<tr><td>chr1</td><td>100046506</td><td>100047207</td><td>DBT     </td><td>K562</td><td> 0.57088197</td><td>0.6425296</td><td> 0.88849125</td><td>0.37427656</td><td>0.48</td><td>0.318758763</td><td> 1</td><td> 0.318758763</td></tr>\n",
       "\t<tr><td>chr1</td><td>100046506</td><td>100047207</td><td>DPH5    </td><td>K562</td><td> 0.19777278</td><td>0.7551915</td><td> 0.26188428</td><td>0.79341066</td><td>0.68</td><td>0.167491087</td><td> 1</td><td> 0.167491087</td></tr>\n",
       "\t<tr><td>chr1</td><td>100046506</td><td>100047207</td><td>RTCA    </td><td>K562</td><td> 0.42497958</td><td>0.5425353</td><td> 0.78332153</td><td>0.43343833</td><td>0.36</td><td>0.443697499</td><td> 1</td><td> 0.443697499</td></tr>\n",
       "\t<tr><td>chr1</td><td>100046506</td><td>100047207</td><td>SLC30A7 </td><td>K562</td><td> 0.17071694</td><td>0.4053675</td><td> 0.42114116</td><td>0.67365200</td><td>0.70</td><td>0.154901960</td><td> 1</td><td> 0.154901960</td></tr>\n",
       "\t<tr><td>chr1</td><td>100046506</td><td>100047207</td><td>SLC35A3 </td><td>K562</td><td>-0.23694520</td><td>0.7366780</td><td>-0.32164013</td><td>0.74772534</td><td>0.78</td><td>0.107905397</td><td>-1</td><td>-0.107905397</td></tr>\n",
       "\t<tr><td>chr1</td><td>100046506</td><td>100047207</td><td>TRMT13  </td><td>K562</td><td> 0.10440207</td><td>0.4781931</td><td> 0.21832620</td><td>0.82717497</td><td>0.86</td><td>0.065501549</td><td> 1</td><td> 0.065501549</td></tr>\n",
       "\t<tr><td>chr1</td><td>100132497</td><td>100133460</td><td>AGL     </td><td>K562</td><td>-0.90436140</td><td>0.4950047</td><td>-1.82697556</td><td>0.06770344</td><td>0.16</td><td>0.795880017</td><td>-1</td><td>-0.795880017</td></tr>\n",
       "\t<tr><td>chr1</td><td>100132497</td><td>100133460</td><td>CDC14A  </td><td>K562</td><td> 0.02313951</td><td>0.1401654</td><td> 0.16508714</td><td>0.86887540</td><td>0.96</td><td>0.017728767</td><td> 1</td><td> 0.017728767</td></tr>\n",
       "\t<tr><td>chr1</td><td>100132497</td><td>100133460</td><td>DBT     </td><td>K562</td><td> 0.37502532</td><td>0.4855697</td><td> 0.77234094</td><td>0.43991252</td><td>0.46</td><td>0.337242168</td><td> 1</td><td> 0.337242168</td></tr>\n",
       "\t<tr><td>chr1</td><td>100132497</td><td>100133460</td><td>DPH5    </td><td>K562</td><td>-0.20915132</td><td>0.4653743</td><td>-0.44942600</td><td>0.65312438</td><td>0.60</td><td>0.221848750</td><td>-1</td><td>-0.221848750</td></tr>\n",
       "\t<tr><td>chr1</td><td>100132497</td><td>100133460</td><td>RTCA    </td><td>K562</td><td>-0.18015053</td><td>0.3630176</td><td>-0.49625843</td><td>0.61971209</td><td>0.70</td><td>0.154901960</td><td>-1</td><td>-0.154901960</td></tr>\n",
       "\t<tr><td>chr1</td><td>100132497</td><td>100133460</td><td>SLC30A7 </td><td>K562</td><td>-0.17233828</td><td>0.2528024</td><td>-0.68171132</td><td>0.49542151</td><td>0.44</td><td>0.356547324</td><td>-1</td><td>-0.356547324</td></tr>\n",
       "\t<tr><td>chr1</td><td>100132497</td><td>100133460</td><td>SLC35A3 </td><td>K562</td><td> 0.09041495</td><td>0.3712546</td><td> 0.24353892</td><td>0.80758794</td><td>0.68</td><td>0.167491087</td><td> 1</td><td> 0.167491087</td></tr>\n",
       "\t<tr><td>chr1</td><td>100132497</td><td>100133460</td><td>TRMT13  </td><td>K562</td><td>-0.18774586</td><td>0.2915562</td><td>-0.64394392</td><td>0.51961180</td><td>0.58</td><td>0.236572006</td><td>-1</td><td>-0.236572006</td></tr>\n",
       "\t<tr><td>chr1</td><td>  1001868</td><td>  1002126</td><td>ACAP3   </td><td>K562</td><td>-0.71280572</td><td>0.5244129</td><td>-1.35924519</td><td>0.17406891</td><td>0.38</td><td>0.420216403</td><td>-1</td><td>-0.420216403</td></tr>\n",
       "\t<tr><td>chr1</td><td>  1001868</td><td>  1002126</td><td>ATAD3A  </td><td>K562</td><td>-0.43023522</td><td>0.5389735</td><td>-0.79824930</td><td>0.42472583</td><td>0.44</td><td>0.356547324</td><td>-1</td><td>-0.356547324</td></tr>\n",
       "\t<tr><td>chr1</td><td>  1001868</td><td>  1002126</td><td>ATAD3B  </td><td>K562</td><td> 0.02803861</td><td>0.4920082</td><td> 0.05698809</td><td>0.95455468</td><td>0.80</td><td>0.096910013</td><td> 1</td><td> 0.096910013</td></tr>\n",
       "\t<tr><td>chr1</td><td>  1001868</td><td>  1002126</td><td>AURKAIP1</td><td>K562</td><td> 0.09281271</td><td>0.2054224</td><td> 0.45181393</td><td>0.65140304</td><td>0.62</td><td>0.207608311</td><td> 1</td><td> 0.207608311</td></tr>\n",
       "\t<tr><td>chr1</td><td>  1001868</td><td>  1002126</td><td>B3GALT6 </td><td>K562</td><td> 0.42619124</td><td>0.3818069</td><td> 1.11624828</td><td>0.26431587</td><td>0.22</td><td>0.657577319</td><td> 1</td><td> 0.657577319</td></tr>\n",
       "\t<tr><td>chr1</td><td>  1001868</td><td>  1002126</td><td>C1orf159</td><td>K562</td><td> 0.73277434</td><td>0.4000459</td><td> 1.83172569</td><td>0.06699230</td><td>0.16</td><td>0.795880017</td><td> 1</td><td> 0.795880017</td></tr>\n",
       "\t<tr><td>⋮</td><td>⋮</td><td>⋮</td><td>⋮</td><td>⋮</td><td>⋮</td><td>⋮</td><td>⋮</td><td>⋮</td><td>⋮</td><td>⋮</td><td>⋮</td><td>⋮</td></tr>\n",
       "\t<tr><td>chrX</td><td> 9462938</td><td> 9463351</td><td>TBL1X    </td><td>K562</td><td>-0.035964723</td><td>0.12728362</td><td>-0.282555772</td><td>0.77751739</td><td>0.88</td><td>0.05551733</td><td>-1</td><td>-0.05551733</td></tr>\n",
       "\t<tr><td>chrX</td><td> 9462938</td><td> 9463351</td><td>WWC3     </td><td>K562</td><td>-0.241803241</td><td>0.43891878</td><td>-0.550906571</td><td>0.58169772</td><td>0.58</td><td>0.23657201</td><td>-1</td><td>-0.23657201</td></tr>\n",
       "\t<tr><td>chrX</td><td> 9464587</td><td> 9465748</td><td>TBL1X    </td><td>K562</td><td> 0.078442816</td><td>0.12690713</td><td> 0.618111950</td><td>0.53650155</td><td>0.72</td><td>0.14266750</td><td> 1</td><td> 0.14266750</td></tr>\n",
       "\t<tr><td>chrX</td><td> 9464587</td><td> 9465748</td><td>WWC3     </td><td>K562</td><td>-0.433686224</td><td>0.48819060</td><td>-0.888354315</td><td>0.37435019</td><td>0.44</td><td>0.35654732</td><td>-1</td><td>-0.35654732</td></tr>\n",
       "\t<tr><td>chrX</td><td> 9465868</td><td> 9466455</td><td>TBL1X    </td><td>K562</td><td> 0.091460415</td><td>0.15324550</td><td> 0.596822858</td><td>0.55062566</td><td>0.68</td><td>0.16749109</td><td> 1</td><td> 0.16749109</td></tr>\n",
       "\t<tr><td>chrX</td><td> 9465868</td><td> 9466455</td><td>WWC3     </td><td>K562</td><td> 0.573300558</td><td>0.43073953</td><td> 1.330968064</td><td>0.18319952</td><td>0.40</td><td>0.39794001</td><td> 1</td><td> 0.39794001</td></tr>\n",
       "\t<tr><td>chrX</td><td>96424855</td><td>96425584</td><td>DIAPH2   </td><td>K562</td><td> 0.060750410</td><td>0.13398331</td><td> 0.453417745</td><td>0.65024796</td><td>0.94</td><td>0.02687215</td><td> 1</td><td> 0.02687215</td></tr>\n",
       "\t<tr><td>chrX</td><td>96684430</td><td>96685294</td><td>DIAPH2   </td><td>K562</td><td> 0.155012569</td><td>0.09035182</td><td> 1.715655183</td><td>0.08622517</td><td>0.12</td><td>0.92081875</td><td> 1</td><td> 0.92081875</td></tr>\n",
       "\t<tr><td>chrX</td><td>96685820</td><td>96686140</td><td>DIAPH2   </td><td>K562</td><td> 0.420084527</td><td>0.12868841</td><td> 3.264354042</td><td>0.00109714</td><td>0.02</td><td>1.69897000</td><td> 1</td><td> 1.69897000</td></tr>\n",
       "\t<tr><td>chrX</td><td> 9672046</td><td> 9672371</td><td>TBL1X    </td><td>K562</td><td> 0.099048202</td><td>0.22222632</td><td> 0.445708691</td><td>0.65580769</td><td>0.82</td><td>0.08618615</td><td> 1</td><td> 0.08618615</td></tr>\n",
       "\t<tr><td>chrX</td><td> 9672046</td><td> 9672371</td><td>WWC3     </td><td>K562</td><td>-0.023198753</td><td>0.73476761</td><td>-0.031572912</td><td>0.97481265</td><td>0.90</td><td>0.04575749</td><td>-1</td><td>-0.04575749</td></tr>\n",
       "\t<tr><td>chrX</td><td> 9677146</td><td> 9677844</td><td>TBL1X    </td><td>K562</td><td>-0.139831463</td><td>0.13003760</td><td>-1.075315607</td><td>0.28223345</td><td>0.44</td><td>0.35654732</td><td>-1</td><td>-0.35654732</td></tr>\n",
       "\t<tr><td>chrX</td><td> 9677146</td><td> 9677844</td><td>WWC3     </td><td>K562</td><td> 0.127066127</td><td>0.39796390</td><td> 0.319290586</td><td>0.74950617</td><td>0.72</td><td>0.14266750</td><td> 1</td><td> 0.14266750</td></tr>\n",
       "\t<tr><td>chrX</td><td> 9708969</td><td> 9709517</td><td>TBL1X    </td><td>K562</td><td>-0.093611095</td><td>0.18887162</td><td>-0.495633454</td><td>0.62015305</td><td>0.90</td><td>0.04575749</td><td>-1</td><td>-0.04575749</td></tr>\n",
       "\t<tr><td>chrX</td><td> 9708969</td><td> 9709517</td><td>WWC3     </td><td>K562</td><td>-1.168723624</td><td>1.01815180</td><td>-1.147887405</td><td>0.25101505</td><td>0.62</td><td>0.20760831</td><td>-1</td><td>-0.20760831</td></tr>\n",
       "\t<tr><td>chrX</td><td>97563489</td><td>97564004</td><td>DIAPH2   </td><td>K562</td><td> 0.038669702</td><td>0.11284331</td><td> 0.342684944</td><td>0.73183549</td><td>0.74</td><td>0.13076828</td><td> 1</td><td> 0.13076828</td></tr>\n",
       "\t<tr><td>chrX</td><td>  989923</td><td>  990602</td><td>AKAP17A  </td><td>K562</td><td> 0.129164218</td><td>0.21670181</td><td> 0.596045865</td><td>0.55114459</td><td>0.34</td><td>0.46852108</td><td> 1</td><td> 0.46852108</td></tr>\n",
       "\t<tr><td>chrX</td><td>  989923</td><td>  990602</td><td>ASMTL    </td><td>K562</td><td>-0.399978633</td><td>0.33778223</td><td>-1.184131644</td><td>0.23636096</td><td>0.20</td><td>0.69897000</td><td>-1</td><td>-0.69897000</td></tr>\n",
       "\t<tr><td>chrX</td><td>  989923</td><td>  990602</td><td>CSF2RA   </td><td>K562</td><td>-0.096260501</td><td>0.11115283</td><td>-0.866019306</td><td>0.38647957</td><td>0.80</td><td>0.09691001</td><td>-1</td><td>-0.09691001</td></tr>\n",
       "\t<tr><td>chrX</td><td>  989923</td><td>  990602</td><td>IL3RA    </td><td>K562</td><td> 0.186649507</td><td>0.21835347</td><td> 0.854804401</td><td>0.39265944</td><td>0.48</td><td>0.31875876</td><td> 1</td><td> 0.31875876</td></tr>\n",
       "\t<tr><td>chrX</td><td>  989923</td><td>  990602</td><td>LINC00106</td><td>K562</td><td>-0.121097500</td><td>0.55028339</td><td>-0.220063886</td><td>0.82582140</td><td>0.70</td><td>0.15490196</td><td>-1</td><td>-0.15490196</td></tr>\n",
       "\t<tr><td>chrX</td><td>  989923</td><td>  990602</td><td>P2RY8    </td><td>K562</td><td>-0.321795377</td><td>0.20801962</td><td>-1.546947279</td><td>0.12187596</td><td>0.18</td><td>0.74472749</td><td>-1</td><td>-0.74472749</td></tr>\n",
       "\t<tr><td>chrX</td><td>  989923</td><td>  990602</td><td>PLCXD1   </td><td>K562</td><td> 0.117475175</td><td>0.50196874</td><td> 0.234028866</td><td>0.81496257</td><td>0.84</td><td>0.07572071</td><td> 1</td><td> 0.07572071</td></tr>\n",
       "\t<tr><td>chrX</td><td>  989923</td><td>  990602</td><td>SLC25A6  </td><td>K562</td><td>-0.097939087</td><td>0.08241535</td><td>-1.188359849</td><td>0.23469167</td><td>0.28</td><td>0.55284197</td><td>-1</td><td>-0.55284197</td></tr>\n",
       "\t<tr><td>chrX</td><td> 9981279</td><td> 9982047</td><td>TBL1X    </td><td>K562</td><td> 0.283390540</td><td>0.16159595</td><td> 1.753698247</td><td>0.07948223</td><td>0.06</td><td>1.22184875</td><td> 1</td><td> 1.22184875</td></tr>\n",
       "\t<tr><td>chrX</td><td> 9981279</td><td> 9982047</td><td>WWC3     </td><td>K562</td><td>-1.260079204</td><td>1.01672452</td><td>-1.239351639</td><td>0.21521530</td><td>0.76</td><td>0.11918641</td><td>-1</td><td>-0.11918641</td></tr>\n",
       "\t<tr><td>chrX</td><td> 9986695</td><td> 9987318</td><td>TBL1X    </td><td>K562</td><td> 0.050760310</td><td>0.15204095</td><td> 0.333859451</td><td>0.73848562</td><td>0.86</td><td>0.06550155</td><td> 1</td><td> 0.06550155</td></tr>\n",
       "\t<tr><td>chrX</td><td> 9986695</td><td> 9987318</td><td>WWC3     </td><td>K562</td><td> 0.001053799</td><td>0.49772467</td><td> 0.002117233</td><td>0.99831069</td><td>0.84</td><td>0.07572071</td><td> 1</td><td> 0.07572071</td></tr>\n",
       "\t<tr><td>chrX</td><td> 9995801</td><td> 9996095</td><td>TBL1X    </td><td>K562</td><td> 0.208598133</td><td>0.17180171</td><td> 1.214179612</td><td>0.22467914</td><td>0.34</td><td>0.46852108</td><td> 1</td><td> 0.46852108</td></tr>\n",
       "\t<tr><td>chrX</td><td> 9995801</td><td> 9996095</td><td>WWC3     </td><td>K562</td><td>-0.407651981</td><td>0.73074368</td><td>-0.557859059</td><td>0.57694063</td><td>0.58</td><td>0.23657201</td><td>-1</td><td>-0.23657201</td></tr>\n",
       "</tbody>\n",
       "</table>\n"
      ],
      "text/latex": [
       "A data.frame: 744304 × 13\n",
       "\\begin{tabular}{lllllllllllll}\n",
       " chr & start & end & TargetGene & CellType & beta & se & z & p & boot\\_basic\\_p & boot\\_basic\\_p.log10 & sign & boot\\_basic\\_p.log10.signed\\\\\n",
       " <fct> & <int> & <int> & <chr> & <chr> & <dbl> & <dbl> & <dbl> & <dbl> & <dbl> & <dbl> & <dbl> & <dbl>\\\\\n",
       "\\hline\n",
       "\t chr1 & 100037737 & 100039177 & AGL      & K562 & -0.07194421 & 0.4671431 & -0.15400893 & 0.87760270 & 0.82 & 0.086186148 & -1 & -0.086186148\\\\\n",
       "\t chr1 & 100037737 & 100039177 & CDC14A   & K562 &  0.20592808 & 0.1496876 &  1.37571920 & 0.16890859 & 0.40 & 0.397940009 &  1 &  0.397940009\\\\\n",
       "\t chr1 & 100037737 & 100039177 & DBT      & K562 &  0.44424780 & 0.5313461 &  0.83607998 & 0.40310991 & 0.66 & 0.180456064 &  1 &  0.180456064\\\\\n",
       "\t chr1 & 100037737 & 100039177 & DPH5     & K562 &  0.62412975 & 0.5292612 &  1.17924720 & 0.23829976 & 0.34 & 0.468521083 &  1 &  0.468521083\\\\\n",
       "\t chr1 & 100037737 & 100039177 & RTCA     & K562 & -0.19010896 & 0.3681263 & -0.51642325 & 0.60555883 & 0.52 & 0.283996656 & -1 & -0.283996656\\\\\n",
       "\t chr1 & 100037737 & 100039177 & SLC30A7  & K562 & -0.20161477 & 0.2580014 & -0.78144825 & 0.43453890 & 0.46 & 0.337242168 & -1 & -0.337242168\\\\\n",
       "\t chr1 & 100037737 & 100039177 & SLC35A3  & K562 &  0.43659769 & 0.4053369 &  1.07712293 & 0.28142535 & 0.32 & 0.494850022 &  1 &  0.494850022\\\\\n",
       "\t chr1 & 100037737 & 100039177 & TRMT13   & K562 & -0.10365772 & 0.3003746 & -0.34509481 & 0.73002310 & 0.68 & 0.167491087 & -1 & -0.167491087\\\\\n",
       "\t chr1 & 100046506 & 100047207 & AGL      & K562 &  1.06748820 & 0.5697681 &  1.87354855 & 0.06099268 & 0.04 & 1.397940009 &  1 &  1.397940009\\\\\n",
       "\t chr1 & 100046506 & 100047207 & CDC14A   & K562 & -0.07289384 & 0.2430136 & -0.29995784 & 0.76420931 & 0.98 & 0.008773924 & -1 & -0.008773924\\\\\n",
       "\t chr1 & 100046506 & 100047207 & DBT      & K562 &  0.57088197 & 0.6425296 &  0.88849125 & 0.37427656 & 0.48 & 0.318758763 &  1 &  0.318758763\\\\\n",
       "\t chr1 & 100046506 & 100047207 & DPH5     & K562 &  0.19777278 & 0.7551915 &  0.26188428 & 0.79341066 & 0.68 & 0.167491087 &  1 &  0.167491087\\\\\n",
       "\t chr1 & 100046506 & 100047207 & RTCA     & K562 &  0.42497958 & 0.5425353 &  0.78332153 & 0.43343833 & 0.36 & 0.443697499 &  1 &  0.443697499\\\\\n",
       "\t chr1 & 100046506 & 100047207 & SLC30A7  & K562 &  0.17071694 & 0.4053675 &  0.42114116 & 0.67365200 & 0.70 & 0.154901960 &  1 &  0.154901960\\\\\n",
       "\t chr1 & 100046506 & 100047207 & SLC35A3  & K562 & -0.23694520 & 0.7366780 & -0.32164013 & 0.74772534 & 0.78 & 0.107905397 & -1 & -0.107905397\\\\\n",
       "\t chr1 & 100046506 & 100047207 & TRMT13   & K562 &  0.10440207 & 0.4781931 &  0.21832620 & 0.82717497 & 0.86 & 0.065501549 &  1 &  0.065501549\\\\\n",
       "\t chr1 & 100132497 & 100133460 & AGL      & K562 & -0.90436140 & 0.4950047 & -1.82697556 & 0.06770344 & 0.16 & 0.795880017 & -1 & -0.795880017\\\\\n",
       "\t chr1 & 100132497 & 100133460 & CDC14A   & K562 &  0.02313951 & 0.1401654 &  0.16508714 & 0.86887540 & 0.96 & 0.017728767 &  1 &  0.017728767\\\\\n",
       "\t chr1 & 100132497 & 100133460 & DBT      & K562 &  0.37502532 & 0.4855697 &  0.77234094 & 0.43991252 & 0.46 & 0.337242168 &  1 &  0.337242168\\\\\n",
       "\t chr1 & 100132497 & 100133460 & DPH5     & K562 & -0.20915132 & 0.4653743 & -0.44942600 & 0.65312438 & 0.60 & 0.221848750 & -1 & -0.221848750\\\\\n",
       "\t chr1 & 100132497 & 100133460 & RTCA     & K562 & -0.18015053 & 0.3630176 & -0.49625843 & 0.61971209 & 0.70 & 0.154901960 & -1 & -0.154901960\\\\\n",
       "\t chr1 & 100132497 & 100133460 & SLC30A7  & K562 & -0.17233828 & 0.2528024 & -0.68171132 & 0.49542151 & 0.44 & 0.356547324 & -1 & -0.356547324\\\\\n",
       "\t chr1 & 100132497 & 100133460 & SLC35A3  & K562 &  0.09041495 & 0.3712546 &  0.24353892 & 0.80758794 & 0.68 & 0.167491087 &  1 &  0.167491087\\\\\n",
       "\t chr1 & 100132497 & 100133460 & TRMT13   & K562 & -0.18774586 & 0.2915562 & -0.64394392 & 0.51961180 & 0.58 & 0.236572006 & -1 & -0.236572006\\\\\n",
       "\t chr1 &   1001868 &   1002126 & ACAP3    & K562 & -0.71280572 & 0.5244129 & -1.35924519 & 0.17406891 & 0.38 & 0.420216403 & -1 & -0.420216403\\\\\n",
       "\t chr1 &   1001868 &   1002126 & ATAD3A   & K562 & -0.43023522 & 0.5389735 & -0.79824930 & 0.42472583 & 0.44 & 0.356547324 & -1 & -0.356547324\\\\\n",
       "\t chr1 &   1001868 &   1002126 & ATAD3B   & K562 &  0.02803861 & 0.4920082 &  0.05698809 & 0.95455468 & 0.80 & 0.096910013 &  1 &  0.096910013\\\\\n",
       "\t chr1 &   1001868 &   1002126 & AURKAIP1 & K562 &  0.09281271 & 0.2054224 &  0.45181393 & 0.65140304 & 0.62 & 0.207608311 &  1 &  0.207608311\\\\\n",
       "\t chr1 &   1001868 &   1002126 & B3GALT6  & K562 &  0.42619124 & 0.3818069 &  1.11624828 & 0.26431587 & 0.22 & 0.657577319 &  1 &  0.657577319\\\\\n",
       "\t chr1 &   1001868 &   1002126 & C1orf159 & K562 &  0.73277434 & 0.4000459 &  1.83172569 & 0.06699230 & 0.16 & 0.795880017 &  1 &  0.795880017\\\\\n",
       "\t ⋮ & ⋮ & ⋮ & ⋮ & ⋮ & ⋮ & ⋮ & ⋮ & ⋮ & ⋮ & ⋮ & ⋮ & ⋮\\\\\n",
       "\t chrX &  9462938 &  9463351 & TBL1X     & K562 & -0.035964723 & 0.12728362 & -0.282555772 & 0.77751739 & 0.88 & 0.05551733 & -1 & -0.05551733\\\\\n",
       "\t chrX &  9462938 &  9463351 & WWC3      & K562 & -0.241803241 & 0.43891878 & -0.550906571 & 0.58169772 & 0.58 & 0.23657201 & -1 & -0.23657201\\\\\n",
       "\t chrX &  9464587 &  9465748 & TBL1X     & K562 &  0.078442816 & 0.12690713 &  0.618111950 & 0.53650155 & 0.72 & 0.14266750 &  1 &  0.14266750\\\\\n",
       "\t chrX &  9464587 &  9465748 & WWC3      & K562 & -0.433686224 & 0.48819060 & -0.888354315 & 0.37435019 & 0.44 & 0.35654732 & -1 & -0.35654732\\\\\n",
       "\t chrX &  9465868 &  9466455 & TBL1X     & K562 &  0.091460415 & 0.15324550 &  0.596822858 & 0.55062566 & 0.68 & 0.16749109 &  1 &  0.16749109\\\\\n",
       "\t chrX &  9465868 &  9466455 & WWC3      & K562 &  0.573300558 & 0.43073953 &  1.330968064 & 0.18319952 & 0.40 & 0.39794001 &  1 &  0.39794001\\\\\n",
       "\t chrX & 96424855 & 96425584 & DIAPH2    & K562 &  0.060750410 & 0.13398331 &  0.453417745 & 0.65024796 & 0.94 & 0.02687215 &  1 &  0.02687215\\\\\n",
       "\t chrX & 96684430 & 96685294 & DIAPH2    & K562 &  0.155012569 & 0.09035182 &  1.715655183 & 0.08622517 & 0.12 & 0.92081875 &  1 &  0.92081875\\\\\n",
       "\t chrX & 96685820 & 96686140 & DIAPH2    & K562 &  0.420084527 & 0.12868841 &  3.264354042 & 0.00109714 & 0.02 & 1.69897000 &  1 &  1.69897000\\\\\n",
       "\t chrX &  9672046 &  9672371 & TBL1X     & K562 &  0.099048202 & 0.22222632 &  0.445708691 & 0.65580769 & 0.82 & 0.08618615 &  1 &  0.08618615\\\\\n",
       "\t chrX &  9672046 &  9672371 & WWC3      & K562 & -0.023198753 & 0.73476761 & -0.031572912 & 0.97481265 & 0.90 & 0.04575749 & -1 & -0.04575749\\\\\n",
       "\t chrX &  9677146 &  9677844 & TBL1X     & K562 & -0.139831463 & 0.13003760 & -1.075315607 & 0.28223345 & 0.44 & 0.35654732 & -1 & -0.35654732\\\\\n",
       "\t chrX &  9677146 &  9677844 & WWC3      & K562 &  0.127066127 & 0.39796390 &  0.319290586 & 0.74950617 & 0.72 & 0.14266750 &  1 &  0.14266750\\\\\n",
       "\t chrX &  9708969 &  9709517 & TBL1X     & K562 & -0.093611095 & 0.18887162 & -0.495633454 & 0.62015305 & 0.90 & 0.04575749 & -1 & -0.04575749\\\\\n",
       "\t chrX &  9708969 &  9709517 & WWC3      & K562 & -1.168723624 & 1.01815180 & -1.147887405 & 0.25101505 & 0.62 & 0.20760831 & -1 & -0.20760831\\\\\n",
       "\t chrX & 97563489 & 97564004 & DIAPH2    & K562 &  0.038669702 & 0.11284331 &  0.342684944 & 0.73183549 & 0.74 & 0.13076828 &  1 &  0.13076828\\\\\n",
       "\t chrX &   989923 &   990602 & AKAP17A   & K562 &  0.129164218 & 0.21670181 &  0.596045865 & 0.55114459 & 0.34 & 0.46852108 &  1 &  0.46852108\\\\\n",
       "\t chrX &   989923 &   990602 & ASMTL     & K562 & -0.399978633 & 0.33778223 & -1.184131644 & 0.23636096 & 0.20 & 0.69897000 & -1 & -0.69897000\\\\\n",
       "\t chrX &   989923 &   990602 & CSF2RA    & K562 & -0.096260501 & 0.11115283 & -0.866019306 & 0.38647957 & 0.80 & 0.09691001 & -1 & -0.09691001\\\\\n",
       "\t chrX &   989923 &   990602 & IL3RA     & K562 &  0.186649507 & 0.21835347 &  0.854804401 & 0.39265944 & 0.48 & 0.31875876 &  1 &  0.31875876\\\\\n",
       "\t chrX &   989923 &   990602 & LINC00106 & K562 & -0.121097500 & 0.55028339 & -0.220063886 & 0.82582140 & 0.70 & 0.15490196 & -1 & -0.15490196\\\\\n",
       "\t chrX &   989923 &   990602 & P2RY8     & K562 & -0.321795377 & 0.20801962 & -1.546947279 & 0.12187596 & 0.18 & 0.74472749 & -1 & -0.74472749\\\\\n",
       "\t chrX &   989923 &   990602 & PLCXD1    & K562 &  0.117475175 & 0.50196874 &  0.234028866 & 0.81496257 & 0.84 & 0.07572071 &  1 &  0.07572071\\\\\n",
       "\t chrX &   989923 &   990602 & SLC25A6   & K562 & -0.097939087 & 0.08241535 & -1.188359849 & 0.23469167 & 0.28 & 0.55284197 & -1 & -0.55284197\\\\\n",
       "\t chrX &  9981279 &  9982047 & TBL1X     & K562 &  0.283390540 & 0.16159595 &  1.753698247 & 0.07948223 & 0.06 & 1.22184875 &  1 &  1.22184875\\\\\n",
       "\t chrX &  9981279 &  9982047 & WWC3      & K562 & -1.260079204 & 1.01672452 & -1.239351639 & 0.21521530 & 0.76 & 0.11918641 & -1 & -0.11918641\\\\\n",
       "\t chrX &  9986695 &  9987318 & TBL1X     & K562 &  0.050760310 & 0.15204095 &  0.333859451 & 0.73848562 & 0.86 & 0.06550155 &  1 &  0.06550155\\\\\n",
       "\t chrX &  9986695 &  9987318 & WWC3      & K562 &  0.001053799 & 0.49772467 &  0.002117233 & 0.99831069 & 0.84 & 0.07572071 &  1 &  0.07572071\\\\\n",
       "\t chrX &  9995801 &  9996095 & TBL1X     & K562 &  0.208598133 & 0.17180171 &  1.214179612 & 0.22467914 & 0.34 & 0.46852108 &  1 &  0.46852108\\\\\n",
       "\t chrX &  9995801 &  9996095 & WWC3      & K562 & -0.407651981 & 0.73074368 & -0.557859059 & 0.57694063 & 0.58 & 0.23657201 & -1 & -0.23657201\\\\\n",
       "\\end{tabular}\n"
      ],
      "text/markdown": [
       "\n",
       "A data.frame: 744304 × 13\n",
       "\n",
       "| chr &lt;fct&gt; | start &lt;int&gt; | end &lt;int&gt; | TargetGene &lt;chr&gt; | CellType &lt;chr&gt; | beta &lt;dbl&gt; | se &lt;dbl&gt; | z &lt;dbl&gt; | p &lt;dbl&gt; | boot_basic_p &lt;dbl&gt; | boot_basic_p.log10 &lt;dbl&gt; | sign &lt;dbl&gt; | boot_basic_p.log10.signed &lt;dbl&gt; |\n",
       "|---|---|---|---|---|---|---|---|---|---|---|---|---|\n",
       "| chr1 | 100037737 | 100039177 | AGL      | K562 | -0.07194421 | 0.4671431 | -0.15400893 | 0.87760270 | 0.82 | 0.086186148 | -1 | -0.086186148 |\n",
       "| chr1 | 100037737 | 100039177 | CDC14A   | K562 |  0.20592808 | 0.1496876 |  1.37571920 | 0.16890859 | 0.40 | 0.397940009 |  1 |  0.397940009 |\n",
       "| chr1 | 100037737 | 100039177 | DBT      | K562 |  0.44424780 | 0.5313461 |  0.83607998 | 0.40310991 | 0.66 | 0.180456064 |  1 |  0.180456064 |\n",
       "| chr1 | 100037737 | 100039177 | DPH5     | K562 |  0.62412975 | 0.5292612 |  1.17924720 | 0.23829976 | 0.34 | 0.468521083 |  1 |  0.468521083 |\n",
       "| chr1 | 100037737 | 100039177 | RTCA     | K562 | -0.19010896 | 0.3681263 | -0.51642325 | 0.60555883 | 0.52 | 0.283996656 | -1 | -0.283996656 |\n",
       "| chr1 | 100037737 | 100039177 | SLC30A7  | K562 | -0.20161477 | 0.2580014 | -0.78144825 | 0.43453890 | 0.46 | 0.337242168 | -1 | -0.337242168 |\n",
       "| chr1 | 100037737 | 100039177 | SLC35A3  | K562 |  0.43659769 | 0.4053369 |  1.07712293 | 0.28142535 | 0.32 | 0.494850022 |  1 |  0.494850022 |\n",
       "| chr1 | 100037737 | 100039177 | TRMT13   | K562 | -0.10365772 | 0.3003746 | -0.34509481 | 0.73002310 | 0.68 | 0.167491087 | -1 | -0.167491087 |\n",
       "| chr1 | 100046506 | 100047207 | AGL      | K562 |  1.06748820 | 0.5697681 |  1.87354855 | 0.06099268 | 0.04 | 1.397940009 |  1 |  1.397940009 |\n",
       "| chr1 | 100046506 | 100047207 | CDC14A   | K562 | -0.07289384 | 0.2430136 | -0.29995784 | 0.76420931 | 0.98 | 0.008773924 | -1 | -0.008773924 |\n",
       "| chr1 | 100046506 | 100047207 | DBT      | K562 |  0.57088197 | 0.6425296 |  0.88849125 | 0.37427656 | 0.48 | 0.318758763 |  1 |  0.318758763 |\n",
       "| chr1 | 100046506 | 100047207 | DPH5     | K562 |  0.19777278 | 0.7551915 |  0.26188428 | 0.79341066 | 0.68 | 0.167491087 |  1 |  0.167491087 |\n",
       "| chr1 | 100046506 | 100047207 | RTCA     | K562 |  0.42497958 | 0.5425353 |  0.78332153 | 0.43343833 | 0.36 | 0.443697499 |  1 |  0.443697499 |\n",
       "| chr1 | 100046506 | 100047207 | SLC30A7  | K562 |  0.17071694 | 0.4053675 |  0.42114116 | 0.67365200 | 0.70 | 0.154901960 |  1 |  0.154901960 |\n",
       "| chr1 | 100046506 | 100047207 | SLC35A3  | K562 | -0.23694520 | 0.7366780 | -0.32164013 | 0.74772534 | 0.78 | 0.107905397 | -1 | -0.107905397 |\n",
       "| chr1 | 100046506 | 100047207 | TRMT13   | K562 |  0.10440207 | 0.4781931 |  0.21832620 | 0.82717497 | 0.86 | 0.065501549 |  1 |  0.065501549 |\n",
       "| chr1 | 100132497 | 100133460 | AGL      | K562 | -0.90436140 | 0.4950047 | -1.82697556 | 0.06770344 | 0.16 | 0.795880017 | -1 | -0.795880017 |\n",
       "| chr1 | 100132497 | 100133460 | CDC14A   | K562 |  0.02313951 | 0.1401654 |  0.16508714 | 0.86887540 | 0.96 | 0.017728767 |  1 |  0.017728767 |\n",
       "| chr1 | 100132497 | 100133460 | DBT      | K562 |  0.37502532 | 0.4855697 |  0.77234094 | 0.43991252 | 0.46 | 0.337242168 |  1 |  0.337242168 |\n",
       "| chr1 | 100132497 | 100133460 | DPH5     | K562 | -0.20915132 | 0.4653743 | -0.44942600 | 0.65312438 | 0.60 | 0.221848750 | -1 | -0.221848750 |\n",
       "| chr1 | 100132497 | 100133460 | RTCA     | K562 | -0.18015053 | 0.3630176 | -0.49625843 | 0.61971209 | 0.70 | 0.154901960 | -1 | -0.154901960 |\n",
       "| chr1 | 100132497 | 100133460 | SLC30A7  | K562 | -0.17233828 | 0.2528024 | -0.68171132 | 0.49542151 | 0.44 | 0.356547324 | -1 | -0.356547324 |\n",
       "| chr1 | 100132497 | 100133460 | SLC35A3  | K562 |  0.09041495 | 0.3712546 |  0.24353892 | 0.80758794 | 0.68 | 0.167491087 |  1 |  0.167491087 |\n",
       "| chr1 | 100132497 | 100133460 | TRMT13   | K562 | -0.18774586 | 0.2915562 | -0.64394392 | 0.51961180 | 0.58 | 0.236572006 | -1 | -0.236572006 |\n",
       "| chr1 |   1001868 |   1002126 | ACAP3    | K562 | -0.71280572 | 0.5244129 | -1.35924519 | 0.17406891 | 0.38 | 0.420216403 | -1 | -0.420216403 |\n",
       "| chr1 |   1001868 |   1002126 | ATAD3A   | K562 | -0.43023522 | 0.5389735 | -0.79824930 | 0.42472583 | 0.44 | 0.356547324 | -1 | -0.356547324 |\n",
       "| chr1 |   1001868 |   1002126 | ATAD3B   | K562 |  0.02803861 | 0.4920082 |  0.05698809 | 0.95455468 | 0.80 | 0.096910013 |  1 |  0.096910013 |\n",
       "| chr1 |   1001868 |   1002126 | AURKAIP1 | K562 |  0.09281271 | 0.2054224 |  0.45181393 | 0.65140304 | 0.62 | 0.207608311 |  1 |  0.207608311 |\n",
       "| chr1 |   1001868 |   1002126 | B3GALT6  | K562 |  0.42619124 | 0.3818069 |  1.11624828 | 0.26431587 | 0.22 | 0.657577319 |  1 |  0.657577319 |\n",
       "| chr1 |   1001868 |   1002126 | C1orf159 | K562 |  0.73277434 | 0.4000459 |  1.83172569 | 0.06699230 | 0.16 | 0.795880017 |  1 |  0.795880017 |\n",
       "| ⋮ | ⋮ | ⋮ | ⋮ | ⋮ | ⋮ | ⋮ | ⋮ | ⋮ | ⋮ | ⋮ | ⋮ | ⋮ |\n",
       "| chrX |  9462938 |  9463351 | TBL1X     | K562 | -0.035964723 | 0.12728362 | -0.282555772 | 0.77751739 | 0.88 | 0.05551733 | -1 | -0.05551733 |\n",
       "| chrX |  9462938 |  9463351 | WWC3      | K562 | -0.241803241 | 0.43891878 | -0.550906571 | 0.58169772 | 0.58 | 0.23657201 | -1 | -0.23657201 |\n",
       "| chrX |  9464587 |  9465748 | TBL1X     | K562 |  0.078442816 | 0.12690713 |  0.618111950 | 0.53650155 | 0.72 | 0.14266750 |  1 |  0.14266750 |\n",
       "| chrX |  9464587 |  9465748 | WWC3      | K562 | -0.433686224 | 0.48819060 | -0.888354315 | 0.37435019 | 0.44 | 0.35654732 | -1 | -0.35654732 |\n",
       "| chrX |  9465868 |  9466455 | TBL1X     | K562 |  0.091460415 | 0.15324550 |  0.596822858 | 0.55062566 | 0.68 | 0.16749109 |  1 |  0.16749109 |\n",
       "| chrX |  9465868 |  9466455 | WWC3      | K562 |  0.573300558 | 0.43073953 |  1.330968064 | 0.18319952 | 0.40 | 0.39794001 |  1 |  0.39794001 |\n",
       "| chrX | 96424855 | 96425584 | DIAPH2    | K562 |  0.060750410 | 0.13398331 |  0.453417745 | 0.65024796 | 0.94 | 0.02687215 |  1 |  0.02687215 |\n",
       "| chrX | 96684430 | 96685294 | DIAPH2    | K562 |  0.155012569 | 0.09035182 |  1.715655183 | 0.08622517 | 0.12 | 0.92081875 |  1 |  0.92081875 |\n",
       "| chrX | 96685820 | 96686140 | DIAPH2    | K562 |  0.420084527 | 0.12868841 |  3.264354042 | 0.00109714 | 0.02 | 1.69897000 |  1 |  1.69897000 |\n",
       "| chrX |  9672046 |  9672371 | TBL1X     | K562 |  0.099048202 | 0.22222632 |  0.445708691 | 0.65580769 | 0.82 | 0.08618615 |  1 |  0.08618615 |\n",
       "| chrX |  9672046 |  9672371 | WWC3      | K562 | -0.023198753 | 0.73476761 | -0.031572912 | 0.97481265 | 0.90 | 0.04575749 | -1 | -0.04575749 |\n",
       "| chrX |  9677146 |  9677844 | TBL1X     | K562 | -0.139831463 | 0.13003760 | -1.075315607 | 0.28223345 | 0.44 | 0.35654732 | -1 | -0.35654732 |\n",
       "| chrX |  9677146 |  9677844 | WWC3      | K562 |  0.127066127 | 0.39796390 |  0.319290586 | 0.74950617 | 0.72 | 0.14266750 |  1 |  0.14266750 |\n",
       "| chrX |  9708969 |  9709517 | TBL1X     | K562 | -0.093611095 | 0.18887162 | -0.495633454 | 0.62015305 | 0.90 | 0.04575749 | -1 | -0.04575749 |\n",
       "| chrX |  9708969 |  9709517 | WWC3      | K562 | -1.168723624 | 1.01815180 | -1.147887405 | 0.25101505 | 0.62 | 0.20760831 | -1 | -0.20760831 |\n",
       "| chrX | 97563489 | 97564004 | DIAPH2    | K562 |  0.038669702 | 0.11284331 |  0.342684944 | 0.73183549 | 0.74 | 0.13076828 |  1 |  0.13076828 |\n",
       "| chrX |   989923 |   990602 | AKAP17A   | K562 |  0.129164218 | 0.21670181 |  0.596045865 | 0.55114459 | 0.34 | 0.46852108 |  1 |  0.46852108 |\n",
       "| chrX |   989923 |   990602 | ASMTL     | K562 | -0.399978633 | 0.33778223 | -1.184131644 | 0.23636096 | 0.20 | 0.69897000 | -1 | -0.69897000 |\n",
       "| chrX |   989923 |   990602 | CSF2RA    | K562 | -0.096260501 | 0.11115283 | -0.866019306 | 0.38647957 | 0.80 | 0.09691001 | -1 | -0.09691001 |\n",
       "| chrX |   989923 |   990602 | IL3RA     | K562 |  0.186649507 | 0.21835347 |  0.854804401 | 0.39265944 | 0.48 | 0.31875876 |  1 |  0.31875876 |\n",
       "| chrX |   989923 |   990602 | LINC00106 | K562 | -0.121097500 | 0.55028339 | -0.220063886 | 0.82582140 | 0.70 | 0.15490196 | -1 | -0.15490196 |\n",
       "| chrX |   989923 |   990602 | P2RY8     | K562 | -0.321795377 | 0.20801962 | -1.546947279 | 0.12187596 | 0.18 | 0.74472749 | -1 | -0.74472749 |\n",
       "| chrX |   989923 |   990602 | PLCXD1    | K562 |  0.117475175 | 0.50196874 |  0.234028866 | 0.81496257 | 0.84 | 0.07572071 |  1 |  0.07572071 |\n",
       "| chrX |   989923 |   990602 | SLC25A6   | K562 | -0.097939087 | 0.08241535 | -1.188359849 | 0.23469167 | 0.28 | 0.55284197 | -1 | -0.55284197 |\n",
       "| chrX |  9981279 |  9982047 | TBL1X     | K562 |  0.283390540 | 0.16159595 |  1.753698247 | 0.07948223 | 0.06 | 1.22184875 |  1 |  1.22184875 |\n",
       "| chrX |  9981279 |  9982047 | WWC3      | K562 | -1.260079204 | 1.01672452 | -1.239351639 | 0.21521530 | 0.76 | 0.11918641 | -1 | -0.11918641 |\n",
       "| chrX |  9986695 |  9987318 | TBL1X     | K562 |  0.050760310 | 0.15204095 |  0.333859451 | 0.73848562 | 0.86 | 0.06550155 |  1 |  0.06550155 |\n",
       "| chrX |  9986695 |  9987318 | WWC3      | K562 |  0.001053799 | 0.49772467 |  0.002117233 | 0.99831069 | 0.84 | 0.07572071 |  1 |  0.07572071 |\n",
       "| chrX |  9995801 |  9996095 | TBL1X     | K562 |  0.208598133 | 0.17180171 |  1.214179612 | 0.22467914 | 0.34 | 0.46852108 |  1 |  0.46852108 |\n",
       "| chrX |  9995801 |  9996095 | WWC3      | K562 | -0.407651981 | 0.73074368 | -0.557859059 | 0.57694063 | 0.58 | 0.23657201 | -1 | -0.23657201 |\n",
       "\n"
      ],
      "text/plain": [
       "       chr  start     end       TargetGene CellType beta         se        \n",
       "1      chr1 100037737 100039177 AGL        K562     -0.07194421  0.4671431 \n",
       "2      chr1 100037737 100039177 CDC14A     K562      0.20592808  0.1496876 \n",
       "3      chr1 100037737 100039177 DBT        K562      0.44424780  0.5313461 \n",
       "4      chr1 100037737 100039177 DPH5       K562      0.62412975  0.5292612 \n",
       "5      chr1 100037737 100039177 RTCA       K562     -0.19010896  0.3681263 \n",
       "6      chr1 100037737 100039177 SLC30A7    K562     -0.20161477  0.2580014 \n",
       "7      chr1 100037737 100039177 SLC35A3    K562      0.43659769  0.4053369 \n",
       "8      chr1 100037737 100039177 TRMT13     K562     -0.10365772  0.3003746 \n",
       "9      chr1 100046506 100047207 AGL        K562      1.06748820  0.5697681 \n",
       "10     chr1 100046506 100047207 CDC14A     K562     -0.07289384  0.2430136 \n",
       "11     chr1 100046506 100047207 DBT        K562      0.57088197  0.6425296 \n",
       "12     chr1 100046506 100047207 DPH5       K562      0.19777278  0.7551915 \n",
       "13     chr1 100046506 100047207 RTCA       K562      0.42497958  0.5425353 \n",
       "14     chr1 100046506 100047207 SLC30A7    K562      0.17071694  0.4053675 \n",
       "15     chr1 100046506 100047207 SLC35A3    K562     -0.23694520  0.7366780 \n",
       "16     chr1 100046506 100047207 TRMT13     K562      0.10440207  0.4781931 \n",
       "17     chr1 100132497 100133460 AGL        K562     -0.90436140  0.4950047 \n",
       "18     chr1 100132497 100133460 CDC14A     K562      0.02313951  0.1401654 \n",
       "19     chr1 100132497 100133460 DBT        K562      0.37502532  0.4855697 \n",
       "20     chr1 100132497 100133460 DPH5       K562     -0.20915132  0.4653743 \n",
       "21     chr1 100132497 100133460 RTCA       K562     -0.18015053  0.3630176 \n",
       "22     chr1 100132497 100133460 SLC30A7    K562     -0.17233828  0.2528024 \n",
       "23     chr1 100132497 100133460 SLC35A3    K562      0.09041495  0.3712546 \n",
       "24     chr1 100132497 100133460 TRMT13     K562     -0.18774586  0.2915562 \n",
       "25     chr1   1001868   1002126 ACAP3      K562     -0.71280572  0.5244129 \n",
       "26     chr1   1001868   1002126 ATAD3A     K562     -0.43023522  0.5389735 \n",
       "27     chr1   1001868   1002126 ATAD3B     K562      0.02803861  0.4920082 \n",
       "28     chr1   1001868   1002126 AURKAIP1   K562      0.09281271  0.2054224 \n",
       "29     chr1   1001868   1002126 B3GALT6    K562      0.42619124  0.3818069 \n",
       "30     chr1   1001868   1002126 C1orf159   K562      0.73277434  0.4000459 \n",
       "⋮      ⋮    ⋮         ⋮         ⋮          ⋮        ⋮            ⋮         \n",
       "744275 chrX  9462938   9463351  TBL1X      K562     -0.035964723 0.12728362\n",
       "744276 chrX  9462938   9463351  WWC3       K562     -0.241803241 0.43891878\n",
       "744277 chrX  9464587   9465748  TBL1X      K562      0.078442816 0.12690713\n",
       "744278 chrX  9464587   9465748  WWC3       K562     -0.433686224 0.48819060\n",
       "744279 chrX  9465868   9466455  TBL1X      K562      0.091460415 0.15324550\n",
       "744280 chrX  9465868   9466455  WWC3       K562      0.573300558 0.43073953\n",
       "744281 chrX 96424855  96425584  DIAPH2     K562      0.060750410 0.13398331\n",
       "744282 chrX 96684430  96685294  DIAPH2     K562      0.155012569 0.09035182\n",
       "744283 chrX 96685820  96686140  DIAPH2     K562      0.420084527 0.12868841\n",
       "744284 chrX  9672046   9672371  TBL1X      K562      0.099048202 0.22222632\n",
       "744285 chrX  9672046   9672371  WWC3       K562     -0.023198753 0.73476761\n",
       "744286 chrX  9677146   9677844  TBL1X      K562     -0.139831463 0.13003760\n",
       "744287 chrX  9677146   9677844  WWC3       K562      0.127066127 0.39796390\n",
       "744288 chrX  9708969   9709517  TBL1X      K562     -0.093611095 0.18887162\n",
       "744289 chrX  9708969   9709517  WWC3       K562     -1.168723624 1.01815180\n",
       "744290 chrX 97563489  97564004  DIAPH2     K562      0.038669702 0.11284331\n",
       "744291 chrX   989923    990602  AKAP17A    K562      0.129164218 0.21670181\n",
       "744292 chrX   989923    990602  ASMTL      K562     -0.399978633 0.33778223\n",
       "744293 chrX   989923    990602  CSF2RA     K562     -0.096260501 0.11115283\n",
       "744294 chrX   989923    990602  IL3RA      K562      0.186649507 0.21835347\n",
       "744295 chrX   989923    990602  LINC00106  K562     -0.121097500 0.55028339\n",
       "744296 chrX   989923    990602  P2RY8      K562     -0.321795377 0.20801962\n",
       "744297 chrX   989923    990602  PLCXD1     K562      0.117475175 0.50196874\n",
       "744298 chrX   989923    990602  SLC25A6    K562     -0.097939087 0.08241535\n",
       "744299 chrX  9981279   9982047  TBL1X      K562      0.283390540 0.16159595\n",
       "744300 chrX  9981279   9982047  WWC3       K562     -1.260079204 1.01672452\n",
       "744301 chrX  9986695   9987318  TBL1X      K562      0.050760310 0.15204095\n",
       "744302 chrX  9986695   9987318  WWC3       K562      0.001053799 0.49772467\n",
       "744303 chrX  9995801   9996095  TBL1X      K562      0.208598133 0.17180171\n",
       "744304 chrX  9995801   9996095  WWC3       K562     -0.407651981 0.73074368\n",
       "       z            p          boot_basic_p boot_basic_p.log10 sign\n",
       "1      -0.15400893  0.87760270 0.82         0.086186148        -1  \n",
       "2       1.37571920  0.16890859 0.40         0.397940009         1  \n",
       "3       0.83607998  0.40310991 0.66         0.180456064         1  \n",
       "4       1.17924720  0.23829976 0.34         0.468521083         1  \n",
       "5      -0.51642325  0.60555883 0.52         0.283996656        -1  \n",
       "6      -0.78144825  0.43453890 0.46         0.337242168        -1  \n",
       "7       1.07712293  0.28142535 0.32         0.494850022         1  \n",
       "8      -0.34509481  0.73002310 0.68         0.167491087        -1  \n",
       "9       1.87354855  0.06099268 0.04         1.397940009         1  \n",
       "10     -0.29995784  0.76420931 0.98         0.008773924        -1  \n",
       "11      0.88849125  0.37427656 0.48         0.318758763         1  \n",
       "12      0.26188428  0.79341066 0.68         0.167491087         1  \n",
       "13      0.78332153  0.43343833 0.36         0.443697499         1  \n",
       "14      0.42114116  0.67365200 0.70         0.154901960         1  \n",
       "15     -0.32164013  0.74772534 0.78         0.107905397        -1  \n",
       "16      0.21832620  0.82717497 0.86         0.065501549         1  \n",
       "17     -1.82697556  0.06770344 0.16         0.795880017        -1  \n",
       "18      0.16508714  0.86887540 0.96         0.017728767         1  \n",
       "19      0.77234094  0.43991252 0.46         0.337242168         1  \n",
       "20     -0.44942600  0.65312438 0.60         0.221848750        -1  \n",
       "21     -0.49625843  0.61971209 0.70         0.154901960        -1  \n",
       "22     -0.68171132  0.49542151 0.44         0.356547324        -1  \n",
       "23      0.24353892  0.80758794 0.68         0.167491087         1  \n",
       "24     -0.64394392  0.51961180 0.58         0.236572006        -1  \n",
       "25     -1.35924519  0.17406891 0.38         0.420216403        -1  \n",
       "26     -0.79824930  0.42472583 0.44         0.356547324        -1  \n",
       "27      0.05698809  0.95455468 0.80         0.096910013         1  \n",
       "28      0.45181393  0.65140304 0.62         0.207608311         1  \n",
       "29      1.11624828  0.26431587 0.22         0.657577319         1  \n",
       "30      1.83172569  0.06699230 0.16         0.795880017         1  \n",
       "⋮      ⋮            ⋮          ⋮            ⋮                  ⋮   \n",
       "744275 -0.282555772 0.77751739 0.88         0.05551733         -1  \n",
       "744276 -0.550906571 0.58169772 0.58         0.23657201         -1  \n",
       "744277  0.618111950 0.53650155 0.72         0.14266750          1  \n",
       "744278 -0.888354315 0.37435019 0.44         0.35654732         -1  \n",
       "744279  0.596822858 0.55062566 0.68         0.16749109          1  \n",
       "744280  1.330968064 0.18319952 0.40         0.39794001          1  \n",
       "744281  0.453417745 0.65024796 0.94         0.02687215          1  \n",
       "744282  1.715655183 0.08622517 0.12         0.92081875          1  \n",
       "744283  3.264354042 0.00109714 0.02         1.69897000          1  \n",
       "744284  0.445708691 0.65580769 0.82         0.08618615          1  \n",
       "744285 -0.031572912 0.97481265 0.90         0.04575749         -1  \n",
       "744286 -1.075315607 0.28223345 0.44         0.35654732         -1  \n",
       "744287  0.319290586 0.74950617 0.72         0.14266750          1  \n",
       "744288 -0.495633454 0.62015305 0.90         0.04575749         -1  \n",
       "744289 -1.147887405 0.25101505 0.62         0.20760831         -1  \n",
       "744290  0.342684944 0.73183549 0.74         0.13076828          1  \n",
       "744291  0.596045865 0.55114459 0.34         0.46852108          1  \n",
       "744292 -1.184131644 0.23636096 0.20         0.69897000         -1  \n",
       "744293 -0.866019306 0.38647957 0.80         0.09691001         -1  \n",
       "744294  0.854804401 0.39265944 0.48         0.31875876          1  \n",
       "744295 -0.220063886 0.82582140 0.70         0.15490196         -1  \n",
       "744296 -1.546947279 0.12187596 0.18         0.74472749         -1  \n",
       "744297  0.234028866 0.81496257 0.84         0.07572071          1  \n",
       "744298 -1.188359849 0.23469167 0.28         0.55284197         -1  \n",
       "744299  1.753698247 0.07948223 0.06         1.22184875          1  \n",
       "744300 -1.239351639 0.21521530 0.76         0.11918641         -1  \n",
       "744301  0.333859451 0.73848562 0.86         0.06550155          1  \n",
       "744302  0.002117233 0.99831069 0.84         0.07572071          1  \n",
       "744303  1.214179612 0.22467914 0.34         0.46852108          1  \n",
       "744304 -0.557859059 0.57694063 0.58         0.23657201         -1  \n",
       "       boot_basic_p.log10.signed\n",
       "1      -0.086186148             \n",
       "2       0.397940009             \n",
       "3       0.180456064             \n",
       "4       0.468521083             \n",
       "5      -0.283996656             \n",
       "6      -0.337242168             \n",
       "7       0.494850022             \n",
       "8      -0.167491087             \n",
       "9       1.397940009             \n",
       "10     -0.008773924             \n",
       "11      0.318758763             \n",
       "12      0.167491087             \n",
       "13      0.443697499             \n",
       "14      0.154901960             \n",
       "15     -0.107905397             \n",
       "16      0.065501549             \n",
       "17     -0.795880017             \n",
       "18      0.017728767             \n",
       "19      0.337242168             \n",
       "20     -0.221848750             \n",
       "21     -0.154901960             \n",
       "22     -0.356547324             \n",
       "23      0.167491087             \n",
       "24     -0.236572006             \n",
       "25     -0.420216403             \n",
       "26     -0.356547324             \n",
       "27      0.096910013             \n",
       "28      0.207608311             \n",
       "29      0.657577319             \n",
       "30      0.795880017             \n",
       "⋮      ⋮                        \n",
       "744275 -0.05551733              \n",
       "744276 -0.23657201              \n",
       "744277  0.14266750              \n",
       "744278 -0.35654732              \n",
       "744279  0.16749109              \n",
       "744280  0.39794001              \n",
       "744281  0.02687215              \n",
       "744282  0.92081875              \n",
       "744283  1.69897000              \n",
       "744284  0.08618615              \n",
       "744285 -0.04575749              \n",
       "744286 -0.35654732              \n",
       "744287  0.14266750              \n",
       "744288 -0.04575749              \n",
       "744289 -0.20760831              \n",
       "744290  0.13076828              \n",
       "744291  0.46852108              \n",
       "744292 -0.69897000              \n",
       "744293 -0.09691001              \n",
       "744294  0.31875876              \n",
       "744295 -0.15490196              \n",
       "744296 -0.74472749              \n",
       "744297  0.07572071              \n",
       "744298 -0.55284197              \n",
       "744299  1.22184875              \n",
       "744300 -0.11918641              \n",
       "744301  0.06550155              \n",
       "744302  0.07572071              \n",
       "744303  0.46852108              \n",
       "744304 -0.23657201              "
      ]
     },
     "metadata": {},
     "output_type": "display_data"
    }
   ],
   "source": [
    "df.output = as.data.frame(pairs.E2G.res,row.names = NULL)\n",
    "colnames(df.output)[1] = \"chr\"\n",
    "df.output[,\"CellType\"] = \"K562\"\n",
    "df.output = df.output[,c(\"chr\",\n",
    "                         \"start\",\n",
    "                         \"end\",\n",
    "                         \"TargetGene\",\n",
    "                         \"CellType\",\n",
    "                         \"beta\",\"se\",\"z\",\"p\",\"boot_basic_p\",\n",
    "                         \"boot_basic_p.log10\",\n",
    "                         \"sign\",\n",
    "                         \"boot_basic_p.log10.signed\")]\n",
    "data.table::fwrite(df.output,\n",
    "                   file = paste(dir.output,\"pairs.E2G.res.tsv.gz\",sep = \"/\"),\n",
    "                   row.names = F,\n",
    "                   quote = F,\n",
    "                   sep = \"\\t\")\n",
    "df.output"
   ]
  },
  {
   "cell_type": "code",
   "execution_count": 19,
   "id": "4d77c58e-215a-408d-8495-c68c72f559c3",
   "metadata": {},
   "outputs": [
    {
     "data": {
      "text/plain": [
       "R version 4.3.3 (2024-02-29)\n",
       "Platform: x86_64-conda-linux-gnu (64-bit)\n",
       "Running under: Red Hat Enterprise Linux 8.10 (Ootpa)\n",
       "\n",
       "Matrix products: default\n",
       "BLAS/LAPACK: /maps/projects/ralab/people/lpm537/software/anaconda3/envs/Notebook_E2G_240505/lib/libopenblasp-r0.3.27.so;  LAPACK version 3.12.0\n",
       "\n",
       "locale:\n",
       " [1] LC_CTYPE=en_US.UTF-8       LC_NUMERIC=C              \n",
       " [3] LC_TIME=en_US.UTF-8        LC_COLLATE=en_US.UTF-8    \n",
       " [5] LC_MONETARY=en_US.UTF-8    LC_MESSAGES=en_US.UTF-8   \n",
       " [7] LC_PAPER=en_US.UTF-8       LC_NAME=C                 \n",
       " [9] LC_ADDRESS=C               LC_TELEPHONE=C            \n",
       "[11] LC_MEASUREMENT=en_US.UTF-8 LC_IDENTIFICATION=C       \n",
       "\n",
       "time zone: Europe/Copenhagen\n",
       "tzcode source: system (glibc)\n",
       "\n",
       "attached base packages:\n",
       " [1] parallel  stats4    grid      stats     graphics  grDevices utils    \n",
       " [8] datasets  methods   base     \n",
       "\n",
       "other attached packages:\n",
       "[1] Matrix_1.6-5         GenomicRanges_1.54.1 GenomeInfoDb_1.38.1 \n",
       "[4] IRanges_2.36.0       S4Vectors_0.40.2     BiocGenerics_0.48.1 \n",
       "[7] genomation_1.34.0    Signac_1.13.0        SCENT_1.0.0         \n",
       "\n",
       "loaded via a namespace (and not attached):\n",
       "  [1] rstudioapi_0.16.0           jsonlite_1.8.8             \n",
       "  [3] magrittr_2.0.3              nloptr_2.0.3               \n",
       "  [5] rmarkdown_2.26              BiocIO_1.10.0              \n",
       "  [7] zlibbioc_1.48.0             vctrs_0.6.5                \n",
       "  [9] minqa_1.2.6                 Rsamtools_2.18.0           \n",
       " [11] RCurl_1.98-1.14             base64enc_0.1-3            \n",
       " [13] RcppRoll_0.3.0              htmltools_0.5.8.1          \n",
       " [15] S4Arrays_1.2.1              plotrix_3.8-4              \n",
       " [17] Formula_1.2-5               parallelly_1.37.1          \n",
       " [19] KernSmooth_2.23-22          htmlwidgets_1.6.4          \n",
       " [21] plyr_1.8.9                  impute_1.76.0              \n",
       " [23] uuid_1.2-0                  GenomicAlignments_1.36.0   \n",
       " [25] lifecycle_1.0.4             pkgconfig_2.0.3            \n",
       " [27] R6_2.5.1                    fastmap_1.1.1              \n",
       " [29] GenomeInfoDbData_1.2.11     MatrixGenerics_1.12.3      \n",
       " [31] future_1.33.2               digest_0.6.35              \n",
       " [33] colorspace_2.1-0            patchwork_1.2.0            \n",
       " [35] irlba_2.3.5.1               Hmisc_5.1-2                \n",
       " [37] progressr_0.14.0            fansi_1.0.6                \n",
       " [39] abind_1.4-5                 compiler_4.3.3             \n",
       " [41] bit64_4.0.5                 htmlTable_2.4.2            \n",
       " [43] backports_1.4.1             BiocParallel_1.36.0        \n",
       " [45] R.utils_2.12.3              MASS_7.3-60                \n",
       " [47] DelayedArray_0.26.7         rjson_0.2.21               \n",
       " [49] tools_4.3.3                 foreign_0.8-86             \n",
       " [51] future.apply_1.11.2         nnet_7.3-19                \n",
       " [53] R.oo_1.26.0                 glue_1.7.0                 \n",
       " [55] restfulr_0.0.15             nlme_3.1-164               \n",
       " [57] pbdZMQ_0.3-11               checkmate_2.3.1            \n",
       " [59] gridBase_0.4-7              cluster_2.1.6              \n",
       " [61] reshape2_1.4.4              generics_0.1.3             \n",
       " [63] gtable_0.3.5                BSgenome_1.68.0            \n",
       " [65] tzdb_0.4.0                  R.methodsS3_1.8.2          \n",
       " [67] tidyr_1.3.1                 seqPattern_1.34.0          \n",
       " [69] data.table_1.15.2           hms_1.1.3                  \n",
       " [71] sp_2.1-4                    utf8_1.2.4                 \n",
       " [73] XVector_0.42.0              pillar_1.9.0               \n",
       " [75] stringr_1.5.1               vroom_1.6.5                \n",
       " [77] spam_2.10-0                 IRdisplay_1.1              \n",
       " [79] splines_4.3.3               dplyr_1.1.4                \n",
       " [81] lattice_0.22-6              bit_4.0.5                  \n",
       " [83] rtracklayer_1.60.1          tidyselect_1.2.1           \n",
       " [85] Biostrings_2.70.1           pbapply_1.7-2              \n",
       " [87] knitr_1.46                  gridExtra_2.3              \n",
       " [89] SummarizedExperiment_1.30.2 xfun_0.43                  \n",
       " [91] Biobase_2.60.0              matrixStats_1.3.0          \n",
       " [93] stringi_1.8.3               yaml_2.3.8                 \n",
       " [95] boot_1.3-30                 evaluate_0.23              \n",
       " [97] codetools_0.2-20            tibble_3.2.1               \n",
       " [99] cli_3.6.2                   IRkernel_1.3.2             \n",
       "[101] rpart_4.1.23                repr_1.1.7                 \n",
       "[103] munsell_0.5.1               Rcpp_1.0.12                \n",
       "[105] globals_0.16.3              XML_3.99-0.16.1            \n",
       "[107] ggplot2_3.5.1               readr_2.1.5                \n",
       "[109] dotCall64_1.1-1             bitops_1.0-7               \n",
       "[111] lme4_1.1-35.3               listenv_0.9.1              \n",
       "[113] scales_1.3.0                SeuratObject_5.0.1         \n",
       "[115] purrr_1.0.2                 crayon_1.5.2               \n",
       "[117] rlang_1.1.3                 fastmatch_1.1-4            "
      ]
     },
     "metadata": {},
     "output_type": "display_data"
    }
   ],
   "source": [
    "sessionInfo()"
   ]
  },
  {
   "cell_type": "code",
   "execution_count": null,
   "id": "3c1a0283-11d6-4df1-bbd8-7b47e9e8ead8",
   "metadata": {},
   "outputs": [],
   "source": []
  }
 ],
 "metadata": {
  "kernelspec": {
   "display_name": "R",
   "language": "R",
   "name": "ir"
  },
  "language_info": {
   "codemirror_mode": "r",
   "file_extension": ".r",
   "mimetype": "text/x-r-source",
   "name": "R",
   "pygments_lexer": "r",
   "version": "4.3.3"
  }
 },
 "nbformat": 4,
 "nbformat_minor": 5
}
