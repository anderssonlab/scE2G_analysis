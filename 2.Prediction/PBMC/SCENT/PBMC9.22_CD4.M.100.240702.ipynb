{
 "cells": [
  {
   "cell_type": "code",
   "execution_count": 1,
   "id": "3a1e63f9-7479-4a30-83ea-381f1ecdbe50",
   "metadata": {},
   "outputs": [
    {
     "name": "stderr",
     "output_type": "stream",
     "text": [
      "Warning message:\n",
      "“replacing previous import ‘Hmisc::capitalize’ by ‘R.utils::capitalize’ when loading ‘SCENT’”\n",
      "Loading required package: grid\n",
      "\n",
      "Warning message:\n",
      "“replacing previous import ‘Biostrings::pattern’ by ‘grid::pattern’ when loading ‘genomation’”\n",
      "Loading required package: stats4\n",
      "\n",
      "Loading required package: BiocGenerics\n",
      "\n",
      "\n",
      "Attaching package: ‘BiocGenerics’\n",
      "\n",
      "\n",
      "The following objects are masked from ‘package:stats’:\n",
      "\n",
      "    IQR, mad, sd, var, xtabs\n",
      "\n",
      "\n",
      "The following objects are masked from ‘package:base’:\n",
      "\n",
      "    anyDuplicated, aperm, append, as.data.frame, basename, cbind,\n",
      "    colnames, dirname, do.call, duplicated, eval, evalq, Filter, Find,\n",
      "    get, grep, grepl, intersect, is.unsorted, lapply, Map, mapply,\n",
      "    match, mget, order, paste, pmax, pmax.int, pmin, pmin.int,\n",
      "    Position, rank, rbind, Reduce, rownames, sapply, setdiff, sort,\n",
      "    table, tapply, union, unique, unsplit, which.max, which.min\n",
      "\n",
      "\n",
      "Loading required package: S4Vectors\n",
      "\n",
      "\n",
      "Attaching package: ‘S4Vectors’\n",
      "\n",
      "\n",
      "The following object is masked from ‘package:utils’:\n",
      "\n",
      "    findMatches\n",
      "\n",
      "\n",
      "The following objects are masked from ‘package:base’:\n",
      "\n",
      "    expand.grid, I, unname\n",
      "\n",
      "\n",
      "Loading required package: IRanges\n",
      "\n",
      "Loading required package: GenomeInfoDb\n",
      "\n",
      "\n",
      "Attaching package: ‘Matrix’\n",
      "\n",
      "\n",
      "The following object is masked from ‘package:S4Vectors’:\n",
      "\n",
      "    expand\n",
      "\n",
      "\n"
     ]
    }
   ],
   "source": [
    "library(SCENT)\n",
    "library(Signac)\n",
    "library(genomation)\n",
    "library(GenomicRanges)\n",
    "library(Matrix)\n",
    "library(parallel)"
   ]
  },
  {
   "cell_type": "markdown",
   "id": "d53f3774-52c3-4baa-b707-5b3a0450b130",
   "metadata": {},
   "source": [
    "Specify file path"
   ]
  },
  {
   "cell_type": "code",
   "execution_count": 2,
   "id": "0785f3fc-9913-428a-bea7-5710120c9328",
   "metadata": {},
   "outputs": [],
   "source": [
    "path.pairs.E2G = \"/maps/projects/ralab_nnfc-AUDIT/people/lpm537/software/scE2G_pipeline/240617/sc-E2G/test/results/PBMC9/22_CD4.M.multiome_7features/Kendall/Pairs.tsv.gz\"\n",
    "path.pairs.ABC = \"/maps/projects/ralab_nnfc-AUDIT/people/lpm537/software/scE2G_pipeline/240617/sc-E2G/test/results/PBMC9/22_CD4.M.multiome_7features/Predictions/EnhancerPredictionsAllPutative.tsv.gz\"\n",
    "path.matrix.atac_count = \"/maps/projects/ralab_nnfc-AUDIT/people/lpm537/software/scE2G_pipeline/240617/sc-E2G/test/results/PBMC9/22_CD4.M.multiome_7features/Kendall/atac_matrix.rds\"\n",
    "path.matrix.rna_count = \"/maps/projects/ralab_nnfc-AUDIT/people/lpm537/project/E2G/analysis/E2G_240503/data/PBMC/1.prepare_data/3.annotate_cell_type/RNA_count_matrix/22_CD4.M.rna_count_matrix.csv.gz\"\n",
    "dir.output = \"/maps/projects/ralab_nnfc-AUDIT/people/lpm537/project/E2G/analysis/E2G_240503/data/PBMC/2.Genome_wide_prediction/SCENT/PBMC9.22_CD4.M.100.240702/\""
   ]
  },
  {
   "cell_type": "code",
   "execution_count": 3,
   "id": "500ba317-011f-4cab-834c-de750cb7f503",
   "metadata": {},
   "outputs": [],
   "source": [
    "n.cores = 16"
   ]
  },
  {
   "cell_type": "markdown",
   "id": "9c9cdab1-486b-4539-99d3-3cd5d1d99795",
   "metadata": {},
   "source": [
    "Import candidate E-G pairs"
   ]
  },
  {
   "cell_type": "code",
   "execution_count": 4,
   "id": "f5852d15-7e3f-412b-b137-7d29a6fb47b1",
   "metadata": {},
   "outputs": [],
   "source": [
    "pairs.E2G = readGeneric(path.pairs.E2G,\n",
    "                        header = T,\n",
    "                        keep.all.metadata = T)"
   ]
  },
  {
   "cell_type": "markdown",
   "id": "e79f3220-9bc6-4496-9e9a-a2dcc6e7f751",
   "metadata": {},
   "source": [
    "Import ABC results"
   ]
  },
  {
   "cell_type": "code",
   "execution_count": 5,
   "id": "6bc3f6ba-5e9a-488c-ba26-e0c84007ef4d",
   "metadata": {},
   "outputs": [],
   "source": [
    "pairs.ABC = readGeneric(path.pairs.ABC,\n",
    "                        header = T,\n",
    "                        keep.all.metadata = T)"
   ]
  },
  {
   "cell_type": "markdown",
   "id": "7d660489-4656-4b85-a3df-381acf0aa4a1",
   "metadata": {},
   "source": [
    "Filter ABC results which distance < 1M"
   ]
  },
  {
   "cell_type": "code",
   "execution_count": 6,
   "id": "31b4d7f1-0feb-428b-934a-9c32cb2a4f68",
   "metadata": {},
   "outputs": [],
   "source": [
    "pairs.ABC.1M = pairs.ABC[pairs.ABC$distance < 10^6]"
   ]
  },
  {
   "cell_type": "markdown",
   "id": "639699dd-5bf9-4b19-9178-82dbbf2c62d0",
   "metadata": {},
   "source": [
    "Filter E-G pairs overlaping with pairs.ABC.1M"
   ]
  },
  {
   "cell_type": "code",
   "execution_count": 7,
   "id": "d7db8c1b-5245-49e1-862e-979d9f1de142",
   "metadata": {},
   "outputs": [
    {
     "data": {
      "text/plain": [
       "GRanges object with 2749692 ranges and 3 metadata columns:\n",
       "            seqnames              ranges strand |  TargetGene\n",
       "               <Rle>           <IRanges>  <Rle> | <character>\n",
       "        [1]     chr1 100028575-100029240      * |         AGL\n",
       "        [2]     chr1 100028575-100029240      * |      CDC14A\n",
       "        [3]     chr1 100028575-100029240      * |         DBT\n",
       "        [4]     chr1 100028575-100029240      * |        DPH5\n",
       "        [5]     chr1 100028575-100029240      * |       EXTL2\n",
       "        ...      ...                 ...    ... .         ...\n",
       "  [2749688]     chrX     9995654-9996371      * |       TBL1X\n",
       "  [2749689]     chrX     9995654-9996371      * |        WWC3\n",
       "  [2749690]     chrX     9997629-9997887      * |       CLCN4\n",
       "  [2749691]     chrX     9997629-9997887      * |       TBL1X\n",
       "  [2749692]     chrX     9997629-9997887      * |        WWC3\n",
       "                          PeakName               PairName\n",
       "                       <character>            <character>\n",
       "        [1] chr1-100028575-10002.. chr1-100028575-10002..\n",
       "        [2] chr1-100028575-10002.. chr1-100028575-10002..\n",
       "        [3] chr1-100028575-10002.. chr1-100028575-10002..\n",
       "        [4] chr1-100028575-10002.. chr1-100028575-10002..\n",
       "        [5] chr1-100028575-10002.. chr1-100028575-10002..\n",
       "        ...                    ...                    ...\n",
       "  [2749688]   chrX-9995654-9996371 chrX-9995654-9996371..\n",
       "  [2749689]   chrX-9995654-9996371 chrX-9995654-9996371..\n",
       "  [2749690]   chrX-9997629-9997887 chrX-9997629-9997887..\n",
       "  [2749691]   chrX-9997629-9997887 chrX-9997629-9997887..\n",
       "  [2749692]   chrX-9997629-9997887 chrX-9997629-9997887..\n",
       "  -------\n",
       "  seqinfo: 23 sequences from an unspecified genome; no seqlengths"
      ]
     },
     "metadata": {},
     "output_type": "display_data"
    }
   ],
   "source": [
    "df.pairs.E2G.chr_rename = as.data.frame(pairs.E2G)[,1:3]\n",
    "df.pairs.E2G.chr_rename[,\"seqnames\"] = paste(seqnames(pairs.E2G),\n",
    "                                             mcols(pairs.E2G)[,\"TargetGene\"],\n",
    "                                             sep = \"_\")\n",
    "pairs.E2G.chr_rename = GRanges(df.pairs.E2G.chr_rename)\n",
    "rm(df.pairs.E2G.chr_rename)\n",
    "\n",
    "df.pairs.ABC.1M.chr_rename = as.data.frame(pairs.ABC.1M)[,1:3]\n",
    "df.pairs.ABC.1M.chr_rename[,\"seqnames\"] = paste(seqnames(pairs.ABC.1M),\n",
    "                                                mcols(pairs.ABC.1M)[,\"TargetGene\"],\n",
    "                                                sep = \"_\")\n",
    "pairs.ABC.1M.chr_rename = GRanges(df.pairs.ABC.1M.chr_rename)\n",
    "rm(df.pairs.ABC.1M.chr_rename)\n",
    "\n",
    "pairs.E2G.filter = pairs.E2G[countOverlaps(pairs.E2G.chr_rename,\n",
    "                                           pairs.ABC.1M.chr_rename) > 0]\n",
    "rm(pairs.E2G.chr_rename)\n",
    "rm(pairs.ABC.1M.chr_rename)\n",
    "pairs.E2G.filter"
   ]
  },
  {
   "cell_type": "markdown",
   "id": "bcdfac67-ce32-4d9a-8f4d-65dab644ec63",
   "metadata": {},
   "source": [
    "Import ATAC matrix"
   ]
  },
  {
   "cell_type": "code",
   "execution_count": 8,
   "id": "bd59feb4-3e33-4ebe-a107-f3b6d347a68e",
   "metadata": {},
   "outputs": [],
   "source": [
    "matrix.atac = readRDS(path.matrix.atac_count)\n",
    "matrix.atac = BinarizeCounts(matrix.atac)"
   ]
  },
  {
   "cell_type": "markdown",
   "id": "a0c5cb96-2fc4-42c4-a421-fe9a5ca537da",
   "metadata": {},
   "source": [
    "Import RNA matrix"
   ]
  },
  {
   "cell_type": "code",
   "execution_count": 9,
   "id": "96e10e90-9400-4cfe-bc7b-46a7eaee1fcd",
   "metadata": {},
   "outputs": [],
   "source": [
    "matrix.rna = read.csv(path.matrix.rna_count,\n",
    "                      row.names = 1,\n",
    "                      check.names = F)\n",
    "matrix.rna = Matrix(as.matrix(matrix.rna), sparse = TRUE)\n",
    "matrix.rna = matrix.rna[,colnames(matrix.atac)]\n",
    "matrix.rna = matrix.rna[rowSums(matrix.rna) > 0,]"
   ]
  },
  {
   "cell_type": "code",
   "execution_count": 10,
   "id": "ad0f51bc-6e09-4b83-be71-560130dd0fa6",
   "metadata": {},
   "outputs": [],
   "source": [
    "pairs.E2G.filter2 = pairs.E2G.filter[pairs.E2G.filter$TargetGene %in% rownames(matrix.rna) &\n",
    "                                     pairs.E2G.filter$PeakName %in% rownames(matrix.atac)]"
   ]
  },
  {
   "cell_type": "markdown",
   "id": "b16f7d5b-eabd-4e93-b8cd-f19a54df21f2",
   "metadata": {},
   "source": [
    "Prepare SCENT meta data"
   ]
  },
  {
   "cell_type": "code",
   "execution_count": 11,
   "id": "827059dd-6885-441e-973e-d7c49e5fd534",
   "metadata": {},
   "outputs": [
    {
     "data": {
      "text/html": [
       "<table class=\"dataframe\">\n",
       "<caption>A data.frame: 8006 × 6</caption>\n",
       "<thead>\n",
       "\t<tr><th></th><th scope=col>cell</th><th scope=col>nUMI</th><th scope=col>nMito</th><th scope=col>celltype</th><th scope=col>log.nUMI</th><th scope=col>percent.mito</th></tr>\n",
       "\t<tr><th></th><th scope=col>&lt;chr&gt;</th><th scope=col>&lt;dbl&gt;</th><th scope=col>&lt;dbl&gt;</th><th scope=col>&lt;chr&gt;</th><th scope=col>&lt;dbl&gt;</th><th scope=col>&lt;dbl&gt;</th></tr>\n",
       "</thead>\n",
       "<tbody>\n",
       "\t<tr><th scope=row>Multiome10x_05_AAACAGCCAGGACACA-1</th><td>Multiome10x_05_AAACAGCCAGGACACA-1</td><td>1134</td><td>139</td><td>K562</td><td>7.033506</td><td>0.12257496</td></tr>\n",
       "\t<tr><th scope=row>Multiome10x_05_AAACATGCACTTGTTC-1</th><td>Multiome10x_05_AAACATGCACTTGTTC-1</td><td>2814</td><td>235</td><td>K562</td><td>7.942362</td><td>0.08351102</td></tr>\n",
       "\t<tr><th scope=row>Multiome10x_05_AAACATGCAGGCTTGT-1</th><td>Multiome10x_05_AAACATGCAGGCTTGT-1</td><td>7020</td><td>693</td><td>K562</td><td>8.856518</td><td>0.09871795</td></tr>\n",
       "\t<tr><th scope=row>Multiome10x_05_AAACATGCAGGTTACC-1</th><td>Multiome10x_05_AAACATGCAGGTTACC-1</td><td>3459</td><td>278</td><td>K562</td><td>8.148735</td><td>0.08037005</td></tr>\n",
       "\t<tr><th scope=row>Multiome10x_05_AAACATGCATGAATAG-1</th><td>Multiome10x_05_AAACATGCATGAATAG-1</td><td>1901</td><td>122</td><td>K562</td><td>7.550135</td><td>0.06417675</td></tr>\n",
       "\t<tr><th scope=row>Multiome10x_05_AAACATGCATTGTTGG-1</th><td>Multiome10x_05_AAACATGCATTGTTGG-1</td><td>2695</td><td>163</td><td>K562</td><td>7.899153</td><td>0.06048237</td></tr>\n",
       "\t<tr><th scope=row>Multiome10x_05_AAACCGAAGCACTTGG-1</th><td>Multiome10x_05_AAACCGAAGCACTTGG-1</td><td>3449</td><td>229</td><td>K562</td><td>8.145840</td><td>0.06639606</td></tr>\n",
       "\t<tr><th scope=row>Multiome10x_05_AAACCGAAGCCAAATC-1</th><td>Multiome10x_05_AAACCGAAGCCAAATC-1</td><td>3135</td><td>360</td><td>K562</td><td>8.050384</td><td>0.11483254</td></tr>\n",
       "\t<tr><th scope=row>Multiome10x_05_AAACCGAAGGACCGCT-1</th><td>Multiome10x_05_AAACCGAAGGACCGCT-1</td><td>2147</td><td>162</td><td>K562</td><td>7.671827</td><td>0.07545412</td></tr>\n",
       "\t<tr><th scope=row>Multiome10x_05_AAACCGCGTAAAGCGG-1</th><td>Multiome10x_05_AAACCGCGTAAAGCGG-1</td><td>2141</td><td>222</td><td>K562</td><td>7.669028</td><td>0.10368986</td></tr>\n",
       "\t<tr><th scope=row>Multiome10x_05_AAACCGCGTAATCGCA-1</th><td>Multiome10x_05_AAACCGCGTAATCGCA-1</td><td>2118</td><td>214</td><td>K562</td><td>7.658228</td><td>0.10103872</td></tr>\n",
       "\t<tr><th scope=row>Multiome10x_05_AAACCGCGTGCATCGG-1</th><td>Multiome10x_05_AAACCGCGTGCATCGG-1</td><td>2322</td><td>209</td><td>K562</td><td>7.750184</td><td>0.09000861</td></tr>\n",
       "\t<tr><th scope=row>Multiome10x_05_AAACCGCGTGCTAGAC-1</th><td>Multiome10x_05_AAACCGCGTGCTAGAC-1</td><td>3509</td><td>310</td><td>K562</td><td>8.163086</td><td>0.08834426</td></tr>\n",
       "\t<tr><th scope=row>Multiome10x_05_AAACCGCGTTTCGCGC-1</th><td>Multiome10x_05_AAACCGCGTTTCGCGC-1</td><td>2241</td><td>273</td><td>K562</td><td>7.714677</td><td>0.12182062</td></tr>\n",
       "\t<tr><th scope=row>Multiome10x_05_AAACCGGCACTAAGCC-1</th><td>Multiome10x_05_AAACCGGCACTAAGCC-1</td><td>3183</td><td>375</td><td>K562</td><td>8.065579</td><td>0.11781338</td></tr>\n",
       "\t<tr><th scope=row>Multiome10x_05_AAACCGGCAGCTTAAT-1</th><td>Multiome10x_05_AAACCGGCAGCTTAAT-1</td><td>2336</td><td>222</td><td>K562</td><td>7.756195</td><td>0.09503425</td></tr>\n",
       "\t<tr><th scope=row>Multiome10x_05_AAACCGGCATTGTTGG-1</th><td>Multiome10x_05_AAACCGGCATTGTTGG-1</td><td>3309</td><td>352</td><td>K562</td><td>8.104401</td><td>0.10637655</td></tr>\n",
       "\t<tr><th scope=row>Multiome10x_05_AAACGCGCATGCTTAG-1</th><td>Multiome10x_05_AAACGCGCATGCTTAG-1</td><td>2150</td><td>131</td><td>K562</td><td>7.673223</td><td>0.06093023</td></tr>\n",
       "\t<tr><th scope=row>Multiome10x_05_AAACGCGCATTCCTGT-1</th><td>Multiome10x_05_AAACGCGCATTCCTGT-1</td><td>2956</td><td>157</td><td>K562</td><td>7.991592</td><td>0.05311231</td></tr>\n",
       "\t<tr><th scope=row>Multiome10x_05_AAACGGATCAAAGGCA-1</th><td>Multiome10x_05_AAACGGATCAAAGGCA-1</td><td>2588</td><td>237</td><td>K562</td><td>7.858641</td><td>0.09157651</td></tr>\n",
       "\t<tr><th scope=row>Multiome10x_05_AAACGGATCCGTCCAT-1</th><td>Multiome10x_05_AAACGGATCCGTCCAT-1</td><td>3075</td><td>359</td><td>K562</td><td>8.031060</td><td>0.11674797</td></tr>\n",
       "\t<tr><th scope=row>Multiome10x_05_AAACGGATCCTCATCA-1</th><td>Multiome10x_05_AAACGGATCCTCATCA-1</td><td>2464</td><td>182</td><td>K562</td><td>7.809541</td><td>0.07386364</td></tr>\n",
       "\t<tr><th scope=row>Multiome10x_05_AAACGGATCGCTAGAT-1</th><td>Multiome10x_05_AAACGGATCGCTAGAT-1</td><td>1694</td><td>149</td><td>K562</td><td>7.434848</td><td>0.08795750</td></tr>\n",
       "\t<tr><th scope=row>Multiome10x_05_AAACGGATCGCTATGG-1</th><td>Multiome10x_05_AAACGGATCGCTATGG-1</td><td>1790</td><td>143</td><td>K562</td><td>7.489971</td><td>0.07988827</td></tr>\n",
       "\t<tr><th scope=row>Multiome10x_05_AAACGTACAAATACCT-1</th><td>Multiome10x_05_AAACGTACAAATACCT-1</td><td>3206</td><td>345</td><td>K562</td><td>8.072779</td><td>0.10761073</td></tr>\n",
       "\t<tr><th scope=row>Multiome10x_05_AAACGTACAGCACGAA-1</th><td>Multiome10x_05_AAACGTACAGCACGAA-1</td><td>1707</td><td> 99</td><td>K562</td><td>7.442493</td><td>0.05799649</td></tr>\n",
       "\t<tr><th scope=row>Multiome10x_05_AAAGCAAGTTCATCTA-1</th><td>Multiome10x_05_AAAGCAAGTTCATCTA-1</td><td>2408</td><td>109</td><td>K562</td><td>7.786552</td><td>0.04526578</td></tr>\n",
       "\t<tr><th scope=row>Multiome10x_05_AAAGCACCAAGATTCT-1</th><td>Multiome10x_05_AAAGCACCAAGATTCT-1</td><td>7447</td><td>757</td><td>K562</td><td>8.915567</td><td>0.10165167</td></tr>\n",
       "\t<tr><th scope=row>Multiome10x_05_AAAGCACCAAGTGAAC-1</th><td>Multiome10x_05_AAAGCACCAAGTGAAC-1</td><td>2947</td><td>125</td><td>K562</td><td>7.988543</td><td>0.04241602</td></tr>\n",
       "\t<tr><th scope=row>Multiome10x_05_AAAGCACCATAGACTT-1</th><td>Multiome10x_05_AAAGCACCATAGACTT-1</td><td>3356</td><td>229</td><td>K562</td><td>8.118505</td><td>0.06823600</td></tr>\n",
       "\t<tr><th scope=row>⋮</th><td>⋮</td><td>⋮</td><td>⋮</td><td>⋮</td><td>⋮</td><td>⋮</td></tr>\n",
       "\t<tr><th scope=row>Multiome10x_06_TTTGACCGTACAATGT-1</th><td>Multiome10x_06_TTTGACCGTACAATGT-1</td><td>3149</td><td>217</td><td>K562</td><td>8.054840</td><td>0.06891077</td></tr>\n",
       "\t<tr><th scope=row>Multiome10x_06_TTTGACCGTGCCTCAC-1</th><td>Multiome10x_06_TTTGACCGTGCCTCAC-1</td><td>1497</td><td>156</td><td>K562</td><td>7.311218</td><td>0.10420842</td></tr>\n",
       "\t<tr><th scope=row>Multiome10x_06_TTTGACCGTTTACCGT-1</th><td>Multiome10x_06_TTTGACCGTTTACCGT-1</td><td>3081</td><td>243</td><td>K562</td><td>8.033009</td><td>0.07887050</td></tr>\n",
       "\t<tr><th scope=row>Multiome10x_06_TTTGACTTCGTTATCT-1</th><td>Multiome10x_06_TTTGACTTCGTTATCT-1</td><td>3447</td><td>137</td><td>K562</td><td>8.145260</td><td>0.03974471</td></tr>\n",
       "\t<tr><th scope=row>Multiome10x_06_TTTGAGTCAATAATGG-1</th><td>Multiome10x_06_TTTGAGTCAATAATGG-1</td><td>2936</td><td>186</td><td>K562</td><td>7.984803</td><td>0.06335150</td></tr>\n",
       "\t<tr><th scope=row>Multiome10x_06_TTTGAGTCAATTTAGC-1</th><td>Multiome10x_06_TTTGAGTCAATTTAGC-1</td><td>1974</td><td>200</td><td>K562</td><td>7.587817</td><td>0.10131712</td></tr>\n",
       "\t<tr><th scope=row>Multiome10x_06_TTTGAGTCAGCTACGT-1</th><td>Multiome10x_06_TTTGAGTCAGCTACGT-1</td><td>2185</td><td>142</td><td>K562</td><td>7.689371</td><td>0.06498856</td></tr>\n",
       "\t<tr><th scope=row>Multiome10x_06_TTTGCATTCAATCTAG-1</th><td>Multiome10x_06_TTTGCATTCAATCTAG-1</td><td>3118</td><td>117</td><td>K562</td><td>8.044947</td><td>0.03752405</td></tr>\n",
       "\t<tr><th scope=row>Multiome10x_06_TTTGCATTCATCCTCA-1</th><td>Multiome10x_06_TTTGCATTCATCCTCA-1</td><td>1490</td><td> 70</td><td>K562</td><td>7.306531</td><td>0.04697987</td></tr>\n",
       "\t<tr><th scope=row>Multiome10x_06_TTTGCATTCGGTCAGC-1</th><td>Multiome10x_06_TTTGCATTCGGTCAGC-1</td><td>4927</td><td>438</td><td>K562</td><td>8.502486</td><td>0.08889791</td></tr>\n",
       "\t<tr><th scope=row>Multiome10x_06_TTTGCGACATTGTGTG-1</th><td>Multiome10x_06_TTTGCGACATTGTGTG-1</td><td>3133</td><td>342</td><td>K562</td><td>8.049746</td><td>0.10916055</td></tr>\n",
       "\t<tr><th scope=row>Multiome10x_06_TTTGCGGAGAAACTGG-1</th><td>Multiome10x_06_TTTGCGGAGAAACTGG-1</td><td>3097</td><td>382</td><td>K562</td><td>8.038189</td><td>0.12334517</td></tr>\n",
       "\t<tr><th scope=row>Multiome10x_06_TTTGCGGAGCATGTTA-1</th><td>Multiome10x_06_TTTGCGGAGCATGTTA-1</td><td>2728</td><td>159</td><td>K562</td><td>7.911324</td><td>0.05828446</td></tr>\n",
       "\t<tr><th scope=row>Multiome10x_06_TTTGCGGAGGAACCAA-1</th><td>Multiome10x_06_TTTGCGGAGGAACCAA-1</td><td>2383</td><td>261</td><td>K562</td><td>7.776115</td><td>0.10952581</td></tr>\n",
       "\t<tr><th scope=row>Multiome10x_06_TTTGGTAAGAACCTAC-1</th><td>Multiome10x_06_TTTGGTAAGAACCTAC-1</td><td>8255</td><td>890</td><td>K562</td><td>9.018574</td><td>0.10781345</td></tr>\n",
       "\t<tr><th scope=row>Multiome10x_06_TTTGGTAAGGAGCAAC-1</th><td>Multiome10x_06_TTTGGTAAGGAGCAAC-1</td><td>4406</td><td>393</td><td>K562</td><td>8.390723</td><td>0.08919655</td></tr>\n",
       "\t<tr><th scope=row>Multiome10x_06_TTTGGTGCAAAGGTAC-1</th><td>Multiome10x_06_TTTGGTGCAAAGGTAC-1</td><td>3716</td><td>487</td><td>K562</td><td>8.220403</td><td>0.13105490</td></tr>\n",
       "\t<tr><th scope=row>Multiome10x_06_TTTGGTGCACAATTAC-1</th><td>Multiome10x_06_TTTGGTGCACAATTAC-1</td><td>2341</td><td>187</td><td>K562</td><td>7.758333</td><td>0.07988039</td></tr>\n",
       "\t<tr><th scope=row>Multiome10x_06_TTTGGTGCACAGACTC-1</th><td>Multiome10x_06_TTTGGTGCACAGACTC-1</td><td>3014</td><td>204</td><td>K562</td><td>8.011023</td><td>0.06768414</td></tr>\n",
       "\t<tr><th scope=row>Multiome10x_06_TTTGTCCCATCCATCT-1</th><td>Multiome10x_06_TTTGTCCCATCCATCT-1</td><td>4782</td><td>395</td><td>K562</td><td>8.472614</td><td>0.08260142</td></tr>\n",
       "\t<tr><th scope=row>Multiome10x_06_TTTGTCCCATGCATAT-1</th><td>Multiome10x_06_TTTGTCCCATGCATAT-1</td><td>2481</td><td>175</td><td>K562</td><td>7.816417</td><td>0.07053607</td></tr>\n",
       "\t<tr><th scope=row>Multiome10x_06_TTTGTCTAGACTTACA-1</th><td>Multiome10x_06_TTTGTCTAGACTTACA-1</td><td>3043</td><td>159</td><td>K562</td><td>8.020599</td><td>0.05225107</td></tr>\n",
       "\t<tr><th scope=row>Multiome10x_06_TTTGTCTAGGTAACGA-1</th><td>Multiome10x_06_TTTGTCTAGGTAACGA-1</td><td>3187</td><td>168</td><td>K562</td><td>8.066835</td><td>0.05271415</td></tr>\n",
       "\t<tr><th scope=row>Multiome10x_06_TTTGTGAAGCAAGACA-1</th><td>Multiome10x_06_TTTGTGAAGCAAGACA-1</td><td>2986</td><td>274</td><td>K562</td><td>8.001690</td><td>0.09176155</td></tr>\n",
       "\t<tr><th scope=row>Multiome10x_06_TTTGTGAAGCTATGAC-1</th><td>Multiome10x_06_TTTGTGAAGCTATGAC-1</td><td>4037</td><td>295</td><td>K562</td><td>8.303257</td><td>0.07307406</td></tr>\n",
       "\t<tr><th scope=row>Multiome10x_06_TTTGTGAAGTTGCCTC-1</th><td>Multiome10x_06_TTTGTGAAGTTGCCTC-1</td><td>2889</td><td>191</td><td>K562</td><td>7.968666</td><td>0.06611284</td></tr>\n",
       "\t<tr><th scope=row>Multiome10x_06_TTTGTGGCACGAACAG-1</th><td>Multiome10x_06_TTTGTGGCACGAACAG-1</td><td>2386</td><td>222</td><td>K562</td><td>7.777374</td><td>0.09304275</td></tr>\n",
       "\t<tr><th scope=row>Multiome10x_06_TTTGTGGCATTAAACC-1</th><td>Multiome10x_06_TTTGTGGCATTAAACC-1</td><td>2844</td><td>166</td><td>K562</td><td>7.952967</td><td>0.05836850</td></tr>\n",
       "\t<tr><th scope=row>Multiome10x_06_TTTGTGTTCAAGCGCC-1</th><td>Multiome10x_06_TTTGTGTTCAAGCGCC-1</td><td>2158</td><td>153</td><td>K562</td><td>7.676937</td><td>0.07089898</td></tr>\n",
       "\t<tr><th scope=row>Multiome10x_06_TTTGTTGGTACCCACC-1</th><td>Multiome10x_06_TTTGTTGGTACCCACC-1</td><td>3316</td><td>337</td><td>K562</td><td>8.106515</td><td>0.10162847</td></tr>\n",
       "</tbody>\n",
       "</table>\n"
      ],
      "text/latex": [
       "A data.frame: 8006 × 6\n",
       "\\begin{tabular}{r|llllll}\n",
       "  & cell & nUMI & nMito & celltype & log.nUMI & percent.mito\\\\\n",
       "  & <chr> & <dbl> & <dbl> & <chr> & <dbl> & <dbl>\\\\\n",
       "\\hline\n",
       "\tMultiome10x\\_05\\_AAACAGCCAGGACACA-1 & Multiome10x\\_05\\_AAACAGCCAGGACACA-1 & 1134 & 139 & K562 & 7.033506 & 0.12257496\\\\\n",
       "\tMultiome10x\\_05\\_AAACATGCACTTGTTC-1 & Multiome10x\\_05\\_AAACATGCACTTGTTC-1 & 2814 & 235 & K562 & 7.942362 & 0.08351102\\\\\n",
       "\tMultiome10x\\_05\\_AAACATGCAGGCTTGT-1 & Multiome10x\\_05\\_AAACATGCAGGCTTGT-1 & 7020 & 693 & K562 & 8.856518 & 0.09871795\\\\\n",
       "\tMultiome10x\\_05\\_AAACATGCAGGTTACC-1 & Multiome10x\\_05\\_AAACATGCAGGTTACC-1 & 3459 & 278 & K562 & 8.148735 & 0.08037005\\\\\n",
       "\tMultiome10x\\_05\\_AAACATGCATGAATAG-1 & Multiome10x\\_05\\_AAACATGCATGAATAG-1 & 1901 & 122 & K562 & 7.550135 & 0.06417675\\\\\n",
       "\tMultiome10x\\_05\\_AAACATGCATTGTTGG-1 & Multiome10x\\_05\\_AAACATGCATTGTTGG-1 & 2695 & 163 & K562 & 7.899153 & 0.06048237\\\\\n",
       "\tMultiome10x\\_05\\_AAACCGAAGCACTTGG-1 & Multiome10x\\_05\\_AAACCGAAGCACTTGG-1 & 3449 & 229 & K562 & 8.145840 & 0.06639606\\\\\n",
       "\tMultiome10x\\_05\\_AAACCGAAGCCAAATC-1 & Multiome10x\\_05\\_AAACCGAAGCCAAATC-1 & 3135 & 360 & K562 & 8.050384 & 0.11483254\\\\\n",
       "\tMultiome10x\\_05\\_AAACCGAAGGACCGCT-1 & Multiome10x\\_05\\_AAACCGAAGGACCGCT-1 & 2147 & 162 & K562 & 7.671827 & 0.07545412\\\\\n",
       "\tMultiome10x\\_05\\_AAACCGCGTAAAGCGG-1 & Multiome10x\\_05\\_AAACCGCGTAAAGCGG-1 & 2141 & 222 & K562 & 7.669028 & 0.10368986\\\\\n",
       "\tMultiome10x\\_05\\_AAACCGCGTAATCGCA-1 & Multiome10x\\_05\\_AAACCGCGTAATCGCA-1 & 2118 & 214 & K562 & 7.658228 & 0.10103872\\\\\n",
       "\tMultiome10x\\_05\\_AAACCGCGTGCATCGG-1 & Multiome10x\\_05\\_AAACCGCGTGCATCGG-1 & 2322 & 209 & K562 & 7.750184 & 0.09000861\\\\\n",
       "\tMultiome10x\\_05\\_AAACCGCGTGCTAGAC-1 & Multiome10x\\_05\\_AAACCGCGTGCTAGAC-1 & 3509 & 310 & K562 & 8.163086 & 0.08834426\\\\\n",
       "\tMultiome10x\\_05\\_AAACCGCGTTTCGCGC-1 & Multiome10x\\_05\\_AAACCGCGTTTCGCGC-1 & 2241 & 273 & K562 & 7.714677 & 0.12182062\\\\\n",
       "\tMultiome10x\\_05\\_AAACCGGCACTAAGCC-1 & Multiome10x\\_05\\_AAACCGGCACTAAGCC-1 & 3183 & 375 & K562 & 8.065579 & 0.11781338\\\\\n",
       "\tMultiome10x\\_05\\_AAACCGGCAGCTTAAT-1 & Multiome10x\\_05\\_AAACCGGCAGCTTAAT-1 & 2336 & 222 & K562 & 7.756195 & 0.09503425\\\\\n",
       "\tMultiome10x\\_05\\_AAACCGGCATTGTTGG-1 & Multiome10x\\_05\\_AAACCGGCATTGTTGG-1 & 3309 & 352 & K562 & 8.104401 & 0.10637655\\\\\n",
       "\tMultiome10x\\_05\\_AAACGCGCATGCTTAG-1 & Multiome10x\\_05\\_AAACGCGCATGCTTAG-1 & 2150 & 131 & K562 & 7.673223 & 0.06093023\\\\\n",
       "\tMultiome10x\\_05\\_AAACGCGCATTCCTGT-1 & Multiome10x\\_05\\_AAACGCGCATTCCTGT-1 & 2956 & 157 & K562 & 7.991592 & 0.05311231\\\\\n",
       "\tMultiome10x\\_05\\_AAACGGATCAAAGGCA-1 & Multiome10x\\_05\\_AAACGGATCAAAGGCA-1 & 2588 & 237 & K562 & 7.858641 & 0.09157651\\\\\n",
       "\tMultiome10x\\_05\\_AAACGGATCCGTCCAT-1 & Multiome10x\\_05\\_AAACGGATCCGTCCAT-1 & 3075 & 359 & K562 & 8.031060 & 0.11674797\\\\\n",
       "\tMultiome10x\\_05\\_AAACGGATCCTCATCA-1 & Multiome10x\\_05\\_AAACGGATCCTCATCA-1 & 2464 & 182 & K562 & 7.809541 & 0.07386364\\\\\n",
       "\tMultiome10x\\_05\\_AAACGGATCGCTAGAT-1 & Multiome10x\\_05\\_AAACGGATCGCTAGAT-1 & 1694 & 149 & K562 & 7.434848 & 0.08795750\\\\\n",
       "\tMultiome10x\\_05\\_AAACGGATCGCTATGG-1 & Multiome10x\\_05\\_AAACGGATCGCTATGG-1 & 1790 & 143 & K562 & 7.489971 & 0.07988827\\\\\n",
       "\tMultiome10x\\_05\\_AAACGTACAAATACCT-1 & Multiome10x\\_05\\_AAACGTACAAATACCT-1 & 3206 & 345 & K562 & 8.072779 & 0.10761073\\\\\n",
       "\tMultiome10x\\_05\\_AAACGTACAGCACGAA-1 & Multiome10x\\_05\\_AAACGTACAGCACGAA-1 & 1707 &  99 & K562 & 7.442493 & 0.05799649\\\\\n",
       "\tMultiome10x\\_05\\_AAAGCAAGTTCATCTA-1 & Multiome10x\\_05\\_AAAGCAAGTTCATCTA-1 & 2408 & 109 & K562 & 7.786552 & 0.04526578\\\\\n",
       "\tMultiome10x\\_05\\_AAAGCACCAAGATTCT-1 & Multiome10x\\_05\\_AAAGCACCAAGATTCT-1 & 7447 & 757 & K562 & 8.915567 & 0.10165167\\\\\n",
       "\tMultiome10x\\_05\\_AAAGCACCAAGTGAAC-1 & Multiome10x\\_05\\_AAAGCACCAAGTGAAC-1 & 2947 & 125 & K562 & 7.988543 & 0.04241602\\\\\n",
       "\tMultiome10x\\_05\\_AAAGCACCATAGACTT-1 & Multiome10x\\_05\\_AAAGCACCATAGACTT-1 & 3356 & 229 & K562 & 8.118505 & 0.06823600\\\\\n",
       "\t⋮ & ⋮ & ⋮ & ⋮ & ⋮ & ⋮ & ⋮\\\\\n",
       "\tMultiome10x\\_06\\_TTTGACCGTACAATGT-1 & Multiome10x\\_06\\_TTTGACCGTACAATGT-1 & 3149 & 217 & K562 & 8.054840 & 0.06891077\\\\\n",
       "\tMultiome10x\\_06\\_TTTGACCGTGCCTCAC-1 & Multiome10x\\_06\\_TTTGACCGTGCCTCAC-1 & 1497 & 156 & K562 & 7.311218 & 0.10420842\\\\\n",
       "\tMultiome10x\\_06\\_TTTGACCGTTTACCGT-1 & Multiome10x\\_06\\_TTTGACCGTTTACCGT-1 & 3081 & 243 & K562 & 8.033009 & 0.07887050\\\\\n",
       "\tMultiome10x\\_06\\_TTTGACTTCGTTATCT-1 & Multiome10x\\_06\\_TTTGACTTCGTTATCT-1 & 3447 & 137 & K562 & 8.145260 & 0.03974471\\\\\n",
       "\tMultiome10x\\_06\\_TTTGAGTCAATAATGG-1 & Multiome10x\\_06\\_TTTGAGTCAATAATGG-1 & 2936 & 186 & K562 & 7.984803 & 0.06335150\\\\\n",
       "\tMultiome10x\\_06\\_TTTGAGTCAATTTAGC-1 & Multiome10x\\_06\\_TTTGAGTCAATTTAGC-1 & 1974 & 200 & K562 & 7.587817 & 0.10131712\\\\\n",
       "\tMultiome10x\\_06\\_TTTGAGTCAGCTACGT-1 & Multiome10x\\_06\\_TTTGAGTCAGCTACGT-1 & 2185 & 142 & K562 & 7.689371 & 0.06498856\\\\\n",
       "\tMultiome10x\\_06\\_TTTGCATTCAATCTAG-1 & Multiome10x\\_06\\_TTTGCATTCAATCTAG-1 & 3118 & 117 & K562 & 8.044947 & 0.03752405\\\\\n",
       "\tMultiome10x\\_06\\_TTTGCATTCATCCTCA-1 & Multiome10x\\_06\\_TTTGCATTCATCCTCA-1 & 1490 &  70 & K562 & 7.306531 & 0.04697987\\\\\n",
       "\tMultiome10x\\_06\\_TTTGCATTCGGTCAGC-1 & Multiome10x\\_06\\_TTTGCATTCGGTCAGC-1 & 4927 & 438 & K562 & 8.502486 & 0.08889791\\\\\n",
       "\tMultiome10x\\_06\\_TTTGCGACATTGTGTG-1 & Multiome10x\\_06\\_TTTGCGACATTGTGTG-1 & 3133 & 342 & K562 & 8.049746 & 0.10916055\\\\\n",
       "\tMultiome10x\\_06\\_TTTGCGGAGAAACTGG-1 & Multiome10x\\_06\\_TTTGCGGAGAAACTGG-1 & 3097 & 382 & K562 & 8.038189 & 0.12334517\\\\\n",
       "\tMultiome10x\\_06\\_TTTGCGGAGCATGTTA-1 & Multiome10x\\_06\\_TTTGCGGAGCATGTTA-1 & 2728 & 159 & K562 & 7.911324 & 0.05828446\\\\\n",
       "\tMultiome10x\\_06\\_TTTGCGGAGGAACCAA-1 & Multiome10x\\_06\\_TTTGCGGAGGAACCAA-1 & 2383 & 261 & K562 & 7.776115 & 0.10952581\\\\\n",
       "\tMultiome10x\\_06\\_TTTGGTAAGAACCTAC-1 & Multiome10x\\_06\\_TTTGGTAAGAACCTAC-1 & 8255 & 890 & K562 & 9.018574 & 0.10781345\\\\\n",
       "\tMultiome10x\\_06\\_TTTGGTAAGGAGCAAC-1 & Multiome10x\\_06\\_TTTGGTAAGGAGCAAC-1 & 4406 & 393 & K562 & 8.390723 & 0.08919655\\\\\n",
       "\tMultiome10x\\_06\\_TTTGGTGCAAAGGTAC-1 & Multiome10x\\_06\\_TTTGGTGCAAAGGTAC-1 & 3716 & 487 & K562 & 8.220403 & 0.13105490\\\\\n",
       "\tMultiome10x\\_06\\_TTTGGTGCACAATTAC-1 & Multiome10x\\_06\\_TTTGGTGCACAATTAC-1 & 2341 & 187 & K562 & 7.758333 & 0.07988039\\\\\n",
       "\tMultiome10x\\_06\\_TTTGGTGCACAGACTC-1 & Multiome10x\\_06\\_TTTGGTGCACAGACTC-1 & 3014 & 204 & K562 & 8.011023 & 0.06768414\\\\\n",
       "\tMultiome10x\\_06\\_TTTGTCCCATCCATCT-1 & Multiome10x\\_06\\_TTTGTCCCATCCATCT-1 & 4782 & 395 & K562 & 8.472614 & 0.08260142\\\\\n",
       "\tMultiome10x\\_06\\_TTTGTCCCATGCATAT-1 & Multiome10x\\_06\\_TTTGTCCCATGCATAT-1 & 2481 & 175 & K562 & 7.816417 & 0.07053607\\\\\n",
       "\tMultiome10x\\_06\\_TTTGTCTAGACTTACA-1 & Multiome10x\\_06\\_TTTGTCTAGACTTACA-1 & 3043 & 159 & K562 & 8.020599 & 0.05225107\\\\\n",
       "\tMultiome10x\\_06\\_TTTGTCTAGGTAACGA-1 & Multiome10x\\_06\\_TTTGTCTAGGTAACGA-1 & 3187 & 168 & K562 & 8.066835 & 0.05271415\\\\\n",
       "\tMultiome10x\\_06\\_TTTGTGAAGCAAGACA-1 & Multiome10x\\_06\\_TTTGTGAAGCAAGACA-1 & 2986 & 274 & K562 & 8.001690 & 0.09176155\\\\\n",
       "\tMultiome10x\\_06\\_TTTGTGAAGCTATGAC-1 & Multiome10x\\_06\\_TTTGTGAAGCTATGAC-1 & 4037 & 295 & K562 & 8.303257 & 0.07307406\\\\\n",
       "\tMultiome10x\\_06\\_TTTGTGAAGTTGCCTC-1 & Multiome10x\\_06\\_TTTGTGAAGTTGCCTC-1 & 2889 & 191 & K562 & 7.968666 & 0.06611284\\\\\n",
       "\tMultiome10x\\_06\\_TTTGTGGCACGAACAG-1 & Multiome10x\\_06\\_TTTGTGGCACGAACAG-1 & 2386 & 222 & K562 & 7.777374 & 0.09304275\\\\\n",
       "\tMultiome10x\\_06\\_TTTGTGGCATTAAACC-1 & Multiome10x\\_06\\_TTTGTGGCATTAAACC-1 & 2844 & 166 & K562 & 7.952967 & 0.05836850\\\\\n",
       "\tMultiome10x\\_06\\_TTTGTGTTCAAGCGCC-1 & Multiome10x\\_06\\_TTTGTGTTCAAGCGCC-1 & 2158 & 153 & K562 & 7.676937 & 0.07089898\\\\\n",
       "\tMultiome10x\\_06\\_TTTGTTGGTACCCACC-1 & Multiome10x\\_06\\_TTTGTTGGTACCCACC-1 & 3316 & 337 & K562 & 8.106515 & 0.10162847\\\\\n",
       "\\end{tabular}\n"
      ],
      "text/markdown": [
       "\n",
       "A data.frame: 8006 × 6\n",
       "\n",
       "| <!--/--> | cell &lt;chr&gt; | nUMI &lt;dbl&gt; | nMito &lt;dbl&gt; | celltype &lt;chr&gt; | log.nUMI &lt;dbl&gt; | percent.mito &lt;dbl&gt; |\n",
       "|---|---|---|---|---|---|---|\n",
       "| Multiome10x_05_AAACAGCCAGGACACA-1 | Multiome10x_05_AAACAGCCAGGACACA-1 | 1134 | 139 | K562 | 7.033506 | 0.12257496 |\n",
       "| Multiome10x_05_AAACATGCACTTGTTC-1 | Multiome10x_05_AAACATGCACTTGTTC-1 | 2814 | 235 | K562 | 7.942362 | 0.08351102 |\n",
       "| Multiome10x_05_AAACATGCAGGCTTGT-1 | Multiome10x_05_AAACATGCAGGCTTGT-1 | 7020 | 693 | K562 | 8.856518 | 0.09871795 |\n",
       "| Multiome10x_05_AAACATGCAGGTTACC-1 | Multiome10x_05_AAACATGCAGGTTACC-1 | 3459 | 278 | K562 | 8.148735 | 0.08037005 |\n",
       "| Multiome10x_05_AAACATGCATGAATAG-1 | Multiome10x_05_AAACATGCATGAATAG-1 | 1901 | 122 | K562 | 7.550135 | 0.06417675 |\n",
       "| Multiome10x_05_AAACATGCATTGTTGG-1 | Multiome10x_05_AAACATGCATTGTTGG-1 | 2695 | 163 | K562 | 7.899153 | 0.06048237 |\n",
       "| Multiome10x_05_AAACCGAAGCACTTGG-1 | Multiome10x_05_AAACCGAAGCACTTGG-1 | 3449 | 229 | K562 | 8.145840 | 0.06639606 |\n",
       "| Multiome10x_05_AAACCGAAGCCAAATC-1 | Multiome10x_05_AAACCGAAGCCAAATC-1 | 3135 | 360 | K562 | 8.050384 | 0.11483254 |\n",
       "| Multiome10x_05_AAACCGAAGGACCGCT-1 | Multiome10x_05_AAACCGAAGGACCGCT-1 | 2147 | 162 | K562 | 7.671827 | 0.07545412 |\n",
       "| Multiome10x_05_AAACCGCGTAAAGCGG-1 | Multiome10x_05_AAACCGCGTAAAGCGG-1 | 2141 | 222 | K562 | 7.669028 | 0.10368986 |\n",
       "| Multiome10x_05_AAACCGCGTAATCGCA-1 | Multiome10x_05_AAACCGCGTAATCGCA-1 | 2118 | 214 | K562 | 7.658228 | 0.10103872 |\n",
       "| Multiome10x_05_AAACCGCGTGCATCGG-1 | Multiome10x_05_AAACCGCGTGCATCGG-1 | 2322 | 209 | K562 | 7.750184 | 0.09000861 |\n",
       "| Multiome10x_05_AAACCGCGTGCTAGAC-1 | Multiome10x_05_AAACCGCGTGCTAGAC-1 | 3509 | 310 | K562 | 8.163086 | 0.08834426 |\n",
       "| Multiome10x_05_AAACCGCGTTTCGCGC-1 | Multiome10x_05_AAACCGCGTTTCGCGC-1 | 2241 | 273 | K562 | 7.714677 | 0.12182062 |\n",
       "| Multiome10x_05_AAACCGGCACTAAGCC-1 | Multiome10x_05_AAACCGGCACTAAGCC-1 | 3183 | 375 | K562 | 8.065579 | 0.11781338 |\n",
       "| Multiome10x_05_AAACCGGCAGCTTAAT-1 | Multiome10x_05_AAACCGGCAGCTTAAT-1 | 2336 | 222 | K562 | 7.756195 | 0.09503425 |\n",
       "| Multiome10x_05_AAACCGGCATTGTTGG-1 | Multiome10x_05_AAACCGGCATTGTTGG-1 | 3309 | 352 | K562 | 8.104401 | 0.10637655 |\n",
       "| Multiome10x_05_AAACGCGCATGCTTAG-1 | Multiome10x_05_AAACGCGCATGCTTAG-1 | 2150 | 131 | K562 | 7.673223 | 0.06093023 |\n",
       "| Multiome10x_05_AAACGCGCATTCCTGT-1 | Multiome10x_05_AAACGCGCATTCCTGT-1 | 2956 | 157 | K562 | 7.991592 | 0.05311231 |\n",
       "| Multiome10x_05_AAACGGATCAAAGGCA-1 | Multiome10x_05_AAACGGATCAAAGGCA-1 | 2588 | 237 | K562 | 7.858641 | 0.09157651 |\n",
       "| Multiome10x_05_AAACGGATCCGTCCAT-1 | Multiome10x_05_AAACGGATCCGTCCAT-1 | 3075 | 359 | K562 | 8.031060 | 0.11674797 |\n",
       "| Multiome10x_05_AAACGGATCCTCATCA-1 | Multiome10x_05_AAACGGATCCTCATCA-1 | 2464 | 182 | K562 | 7.809541 | 0.07386364 |\n",
       "| Multiome10x_05_AAACGGATCGCTAGAT-1 | Multiome10x_05_AAACGGATCGCTAGAT-1 | 1694 | 149 | K562 | 7.434848 | 0.08795750 |\n",
       "| Multiome10x_05_AAACGGATCGCTATGG-1 | Multiome10x_05_AAACGGATCGCTATGG-1 | 1790 | 143 | K562 | 7.489971 | 0.07988827 |\n",
       "| Multiome10x_05_AAACGTACAAATACCT-1 | Multiome10x_05_AAACGTACAAATACCT-1 | 3206 | 345 | K562 | 8.072779 | 0.10761073 |\n",
       "| Multiome10x_05_AAACGTACAGCACGAA-1 | Multiome10x_05_AAACGTACAGCACGAA-1 | 1707 |  99 | K562 | 7.442493 | 0.05799649 |\n",
       "| Multiome10x_05_AAAGCAAGTTCATCTA-1 | Multiome10x_05_AAAGCAAGTTCATCTA-1 | 2408 | 109 | K562 | 7.786552 | 0.04526578 |\n",
       "| Multiome10x_05_AAAGCACCAAGATTCT-1 | Multiome10x_05_AAAGCACCAAGATTCT-1 | 7447 | 757 | K562 | 8.915567 | 0.10165167 |\n",
       "| Multiome10x_05_AAAGCACCAAGTGAAC-1 | Multiome10x_05_AAAGCACCAAGTGAAC-1 | 2947 | 125 | K562 | 7.988543 | 0.04241602 |\n",
       "| Multiome10x_05_AAAGCACCATAGACTT-1 | Multiome10x_05_AAAGCACCATAGACTT-1 | 3356 | 229 | K562 | 8.118505 | 0.06823600 |\n",
       "| ⋮ | ⋮ | ⋮ | ⋮ | ⋮ | ⋮ | ⋮ |\n",
       "| Multiome10x_06_TTTGACCGTACAATGT-1 | Multiome10x_06_TTTGACCGTACAATGT-1 | 3149 | 217 | K562 | 8.054840 | 0.06891077 |\n",
       "| Multiome10x_06_TTTGACCGTGCCTCAC-1 | Multiome10x_06_TTTGACCGTGCCTCAC-1 | 1497 | 156 | K562 | 7.311218 | 0.10420842 |\n",
       "| Multiome10x_06_TTTGACCGTTTACCGT-1 | Multiome10x_06_TTTGACCGTTTACCGT-1 | 3081 | 243 | K562 | 8.033009 | 0.07887050 |\n",
       "| Multiome10x_06_TTTGACTTCGTTATCT-1 | Multiome10x_06_TTTGACTTCGTTATCT-1 | 3447 | 137 | K562 | 8.145260 | 0.03974471 |\n",
       "| Multiome10x_06_TTTGAGTCAATAATGG-1 | Multiome10x_06_TTTGAGTCAATAATGG-1 | 2936 | 186 | K562 | 7.984803 | 0.06335150 |\n",
       "| Multiome10x_06_TTTGAGTCAATTTAGC-1 | Multiome10x_06_TTTGAGTCAATTTAGC-1 | 1974 | 200 | K562 | 7.587817 | 0.10131712 |\n",
       "| Multiome10x_06_TTTGAGTCAGCTACGT-1 | Multiome10x_06_TTTGAGTCAGCTACGT-1 | 2185 | 142 | K562 | 7.689371 | 0.06498856 |\n",
       "| Multiome10x_06_TTTGCATTCAATCTAG-1 | Multiome10x_06_TTTGCATTCAATCTAG-1 | 3118 | 117 | K562 | 8.044947 | 0.03752405 |\n",
       "| Multiome10x_06_TTTGCATTCATCCTCA-1 | Multiome10x_06_TTTGCATTCATCCTCA-1 | 1490 |  70 | K562 | 7.306531 | 0.04697987 |\n",
       "| Multiome10x_06_TTTGCATTCGGTCAGC-1 | Multiome10x_06_TTTGCATTCGGTCAGC-1 | 4927 | 438 | K562 | 8.502486 | 0.08889791 |\n",
       "| Multiome10x_06_TTTGCGACATTGTGTG-1 | Multiome10x_06_TTTGCGACATTGTGTG-1 | 3133 | 342 | K562 | 8.049746 | 0.10916055 |\n",
       "| Multiome10x_06_TTTGCGGAGAAACTGG-1 | Multiome10x_06_TTTGCGGAGAAACTGG-1 | 3097 | 382 | K562 | 8.038189 | 0.12334517 |\n",
       "| Multiome10x_06_TTTGCGGAGCATGTTA-1 | Multiome10x_06_TTTGCGGAGCATGTTA-1 | 2728 | 159 | K562 | 7.911324 | 0.05828446 |\n",
       "| Multiome10x_06_TTTGCGGAGGAACCAA-1 | Multiome10x_06_TTTGCGGAGGAACCAA-1 | 2383 | 261 | K562 | 7.776115 | 0.10952581 |\n",
       "| Multiome10x_06_TTTGGTAAGAACCTAC-1 | Multiome10x_06_TTTGGTAAGAACCTAC-1 | 8255 | 890 | K562 | 9.018574 | 0.10781345 |\n",
       "| Multiome10x_06_TTTGGTAAGGAGCAAC-1 | Multiome10x_06_TTTGGTAAGGAGCAAC-1 | 4406 | 393 | K562 | 8.390723 | 0.08919655 |\n",
       "| Multiome10x_06_TTTGGTGCAAAGGTAC-1 | Multiome10x_06_TTTGGTGCAAAGGTAC-1 | 3716 | 487 | K562 | 8.220403 | 0.13105490 |\n",
       "| Multiome10x_06_TTTGGTGCACAATTAC-1 | Multiome10x_06_TTTGGTGCACAATTAC-1 | 2341 | 187 | K562 | 7.758333 | 0.07988039 |\n",
       "| Multiome10x_06_TTTGGTGCACAGACTC-1 | Multiome10x_06_TTTGGTGCACAGACTC-1 | 3014 | 204 | K562 | 8.011023 | 0.06768414 |\n",
       "| Multiome10x_06_TTTGTCCCATCCATCT-1 | Multiome10x_06_TTTGTCCCATCCATCT-1 | 4782 | 395 | K562 | 8.472614 | 0.08260142 |\n",
       "| Multiome10x_06_TTTGTCCCATGCATAT-1 | Multiome10x_06_TTTGTCCCATGCATAT-1 | 2481 | 175 | K562 | 7.816417 | 0.07053607 |\n",
       "| Multiome10x_06_TTTGTCTAGACTTACA-1 | Multiome10x_06_TTTGTCTAGACTTACA-1 | 3043 | 159 | K562 | 8.020599 | 0.05225107 |\n",
       "| Multiome10x_06_TTTGTCTAGGTAACGA-1 | Multiome10x_06_TTTGTCTAGGTAACGA-1 | 3187 | 168 | K562 | 8.066835 | 0.05271415 |\n",
       "| Multiome10x_06_TTTGTGAAGCAAGACA-1 | Multiome10x_06_TTTGTGAAGCAAGACA-1 | 2986 | 274 | K562 | 8.001690 | 0.09176155 |\n",
       "| Multiome10x_06_TTTGTGAAGCTATGAC-1 | Multiome10x_06_TTTGTGAAGCTATGAC-1 | 4037 | 295 | K562 | 8.303257 | 0.07307406 |\n",
       "| Multiome10x_06_TTTGTGAAGTTGCCTC-1 | Multiome10x_06_TTTGTGAAGTTGCCTC-1 | 2889 | 191 | K562 | 7.968666 | 0.06611284 |\n",
       "| Multiome10x_06_TTTGTGGCACGAACAG-1 | Multiome10x_06_TTTGTGGCACGAACAG-1 | 2386 | 222 | K562 | 7.777374 | 0.09304275 |\n",
       "| Multiome10x_06_TTTGTGGCATTAAACC-1 | Multiome10x_06_TTTGTGGCATTAAACC-1 | 2844 | 166 | K562 | 7.952967 | 0.05836850 |\n",
       "| Multiome10x_06_TTTGTGTTCAAGCGCC-1 | Multiome10x_06_TTTGTGTTCAAGCGCC-1 | 2158 | 153 | K562 | 7.676937 | 0.07089898 |\n",
       "| Multiome10x_06_TTTGTTGGTACCCACC-1 | Multiome10x_06_TTTGTTGGTACCCACC-1 | 3316 | 337 | K562 | 8.106515 | 0.10162847 |\n",
       "\n"
      ],
      "text/plain": [
       "                                  cell                              nUMI nMito\n",
       "Multiome10x_05_AAACAGCCAGGACACA-1 Multiome10x_05_AAACAGCCAGGACACA-1 1134 139  \n",
       "Multiome10x_05_AAACATGCACTTGTTC-1 Multiome10x_05_AAACATGCACTTGTTC-1 2814 235  \n",
       "Multiome10x_05_AAACATGCAGGCTTGT-1 Multiome10x_05_AAACATGCAGGCTTGT-1 7020 693  \n",
       "Multiome10x_05_AAACATGCAGGTTACC-1 Multiome10x_05_AAACATGCAGGTTACC-1 3459 278  \n",
       "Multiome10x_05_AAACATGCATGAATAG-1 Multiome10x_05_AAACATGCATGAATAG-1 1901 122  \n",
       "Multiome10x_05_AAACATGCATTGTTGG-1 Multiome10x_05_AAACATGCATTGTTGG-1 2695 163  \n",
       "Multiome10x_05_AAACCGAAGCACTTGG-1 Multiome10x_05_AAACCGAAGCACTTGG-1 3449 229  \n",
       "Multiome10x_05_AAACCGAAGCCAAATC-1 Multiome10x_05_AAACCGAAGCCAAATC-1 3135 360  \n",
       "Multiome10x_05_AAACCGAAGGACCGCT-1 Multiome10x_05_AAACCGAAGGACCGCT-1 2147 162  \n",
       "Multiome10x_05_AAACCGCGTAAAGCGG-1 Multiome10x_05_AAACCGCGTAAAGCGG-1 2141 222  \n",
       "Multiome10x_05_AAACCGCGTAATCGCA-1 Multiome10x_05_AAACCGCGTAATCGCA-1 2118 214  \n",
       "Multiome10x_05_AAACCGCGTGCATCGG-1 Multiome10x_05_AAACCGCGTGCATCGG-1 2322 209  \n",
       "Multiome10x_05_AAACCGCGTGCTAGAC-1 Multiome10x_05_AAACCGCGTGCTAGAC-1 3509 310  \n",
       "Multiome10x_05_AAACCGCGTTTCGCGC-1 Multiome10x_05_AAACCGCGTTTCGCGC-1 2241 273  \n",
       "Multiome10x_05_AAACCGGCACTAAGCC-1 Multiome10x_05_AAACCGGCACTAAGCC-1 3183 375  \n",
       "Multiome10x_05_AAACCGGCAGCTTAAT-1 Multiome10x_05_AAACCGGCAGCTTAAT-1 2336 222  \n",
       "Multiome10x_05_AAACCGGCATTGTTGG-1 Multiome10x_05_AAACCGGCATTGTTGG-1 3309 352  \n",
       "Multiome10x_05_AAACGCGCATGCTTAG-1 Multiome10x_05_AAACGCGCATGCTTAG-1 2150 131  \n",
       "Multiome10x_05_AAACGCGCATTCCTGT-1 Multiome10x_05_AAACGCGCATTCCTGT-1 2956 157  \n",
       "Multiome10x_05_AAACGGATCAAAGGCA-1 Multiome10x_05_AAACGGATCAAAGGCA-1 2588 237  \n",
       "Multiome10x_05_AAACGGATCCGTCCAT-1 Multiome10x_05_AAACGGATCCGTCCAT-1 3075 359  \n",
       "Multiome10x_05_AAACGGATCCTCATCA-1 Multiome10x_05_AAACGGATCCTCATCA-1 2464 182  \n",
       "Multiome10x_05_AAACGGATCGCTAGAT-1 Multiome10x_05_AAACGGATCGCTAGAT-1 1694 149  \n",
       "Multiome10x_05_AAACGGATCGCTATGG-1 Multiome10x_05_AAACGGATCGCTATGG-1 1790 143  \n",
       "Multiome10x_05_AAACGTACAAATACCT-1 Multiome10x_05_AAACGTACAAATACCT-1 3206 345  \n",
       "Multiome10x_05_AAACGTACAGCACGAA-1 Multiome10x_05_AAACGTACAGCACGAA-1 1707  99  \n",
       "Multiome10x_05_AAAGCAAGTTCATCTA-1 Multiome10x_05_AAAGCAAGTTCATCTA-1 2408 109  \n",
       "Multiome10x_05_AAAGCACCAAGATTCT-1 Multiome10x_05_AAAGCACCAAGATTCT-1 7447 757  \n",
       "Multiome10x_05_AAAGCACCAAGTGAAC-1 Multiome10x_05_AAAGCACCAAGTGAAC-1 2947 125  \n",
       "Multiome10x_05_AAAGCACCATAGACTT-1 Multiome10x_05_AAAGCACCATAGACTT-1 3356 229  \n",
       "⋮                                 ⋮                                 ⋮    ⋮    \n",
       "Multiome10x_06_TTTGACCGTACAATGT-1 Multiome10x_06_TTTGACCGTACAATGT-1 3149 217  \n",
       "Multiome10x_06_TTTGACCGTGCCTCAC-1 Multiome10x_06_TTTGACCGTGCCTCAC-1 1497 156  \n",
       "Multiome10x_06_TTTGACCGTTTACCGT-1 Multiome10x_06_TTTGACCGTTTACCGT-1 3081 243  \n",
       "Multiome10x_06_TTTGACTTCGTTATCT-1 Multiome10x_06_TTTGACTTCGTTATCT-1 3447 137  \n",
       "Multiome10x_06_TTTGAGTCAATAATGG-1 Multiome10x_06_TTTGAGTCAATAATGG-1 2936 186  \n",
       "Multiome10x_06_TTTGAGTCAATTTAGC-1 Multiome10x_06_TTTGAGTCAATTTAGC-1 1974 200  \n",
       "Multiome10x_06_TTTGAGTCAGCTACGT-1 Multiome10x_06_TTTGAGTCAGCTACGT-1 2185 142  \n",
       "Multiome10x_06_TTTGCATTCAATCTAG-1 Multiome10x_06_TTTGCATTCAATCTAG-1 3118 117  \n",
       "Multiome10x_06_TTTGCATTCATCCTCA-1 Multiome10x_06_TTTGCATTCATCCTCA-1 1490  70  \n",
       "Multiome10x_06_TTTGCATTCGGTCAGC-1 Multiome10x_06_TTTGCATTCGGTCAGC-1 4927 438  \n",
       "Multiome10x_06_TTTGCGACATTGTGTG-1 Multiome10x_06_TTTGCGACATTGTGTG-1 3133 342  \n",
       "Multiome10x_06_TTTGCGGAGAAACTGG-1 Multiome10x_06_TTTGCGGAGAAACTGG-1 3097 382  \n",
       "Multiome10x_06_TTTGCGGAGCATGTTA-1 Multiome10x_06_TTTGCGGAGCATGTTA-1 2728 159  \n",
       "Multiome10x_06_TTTGCGGAGGAACCAA-1 Multiome10x_06_TTTGCGGAGGAACCAA-1 2383 261  \n",
       "Multiome10x_06_TTTGGTAAGAACCTAC-1 Multiome10x_06_TTTGGTAAGAACCTAC-1 8255 890  \n",
       "Multiome10x_06_TTTGGTAAGGAGCAAC-1 Multiome10x_06_TTTGGTAAGGAGCAAC-1 4406 393  \n",
       "Multiome10x_06_TTTGGTGCAAAGGTAC-1 Multiome10x_06_TTTGGTGCAAAGGTAC-1 3716 487  \n",
       "Multiome10x_06_TTTGGTGCACAATTAC-1 Multiome10x_06_TTTGGTGCACAATTAC-1 2341 187  \n",
       "Multiome10x_06_TTTGGTGCACAGACTC-1 Multiome10x_06_TTTGGTGCACAGACTC-1 3014 204  \n",
       "Multiome10x_06_TTTGTCCCATCCATCT-1 Multiome10x_06_TTTGTCCCATCCATCT-1 4782 395  \n",
       "Multiome10x_06_TTTGTCCCATGCATAT-1 Multiome10x_06_TTTGTCCCATGCATAT-1 2481 175  \n",
       "Multiome10x_06_TTTGTCTAGACTTACA-1 Multiome10x_06_TTTGTCTAGACTTACA-1 3043 159  \n",
       "Multiome10x_06_TTTGTCTAGGTAACGA-1 Multiome10x_06_TTTGTCTAGGTAACGA-1 3187 168  \n",
       "Multiome10x_06_TTTGTGAAGCAAGACA-1 Multiome10x_06_TTTGTGAAGCAAGACA-1 2986 274  \n",
       "Multiome10x_06_TTTGTGAAGCTATGAC-1 Multiome10x_06_TTTGTGAAGCTATGAC-1 4037 295  \n",
       "Multiome10x_06_TTTGTGAAGTTGCCTC-1 Multiome10x_06_TTTGTGAAGTTGCCTC-1 2889 191  \n",
       "Multiome10x_06_TTTGTGGCACGAACAG-1 Multiome10x_06_TTTGTGGCACGAACAG-1 2386 222  \n",
       "Multiome10x_06_TTTGTGGCATTAAACC-1 Multiome10x_06_TTTGTGGCATTAAACC-1 2844 166  \n",
       "Multiome10x_06_TTTGTGTTCAAGCGCC-1 Multiome10x_06_TTTGTGTTCAAGCGCC-1 2158 153  \n",
       "Multiome10x_06_TTTGTTGGTACCCACC-1 Multiome10x_06_TTTGTTGGTACCCACC-1 3316 337  \n",
       "                                  celltype log.nUMI percent.mito\n",
       "Multiome10x_05_AAACAGCCAGGACACA-1 K562     7.033506 0.12257496  \n",
       "Multiome10x_05_AAACATGCACTTGTTC-1 K562     7.942362 0.08351102  \n",
       "Multiome10x_05_AAACATGCAGGCTTGT-1 K562     8.856518 0.09871795  \n",
       "Multiome10x_05_AAACATGCAGGTTACC-1 K562     8.148735 0.08037005  \n",
       "Multiome10x_05_AAACATGCATGAATAG-1 K562     7.550135 0.06417675  \n",
       "Multiome10x_05_AAACATGCATTGTTGG-1 K562     7.899153 0.06048237  \n",
       "Multiome10x_05_AAACCGAAGCACTTGG-1 K562     8.145840 0.06639606  \n",
       "Multiome10x_05_AAACCGAAGCCAAATC-1 K562     8.050384 0.11483254  \n",
       "Multiome10x_05_AAACCGAAGGACCGCT-1 K562     7.671827 0.07545412  \n",
       "Multiome10x_05_AAACCGCGTAAAGCGG-1 K562     7.669028 0.10368986  \n",
       "Multiome10x_05_AAACCGCGTAATCGCA-1 K562     7.658228 0.10103872  \n",
       "Multiome10x_05_AAACCGCGTGCATCGG-1 K562     7.750184 0.09000861  \n",
       "Multiome10x_05_AAACCGCGTGCTAGAC-1 K562     8.163086 0.08834426  \n",
       "Multiome10x_05_AAACCGCGTTTCGCGC-1 K562     7.714677 0.12182062  \n",
       "Multiome10x_05_AAACCGGCACTAAGCC-1 K562     8.065579 0.11781338  \n",
       "Multiome10x_05_AAACCGGCAGCTTAAT-1 K562     7.756195 0.09503425  \n",
       "Multiome10x_05_AAACCGGCATTGTTGG-1 K562     8.104401 0.10637655  \n",
       "Multiome10x_05_AAACGCGCATGCTTAG-1 K562     7.673223 0.06093023  \n",
       "Multiome10x_05_AAACGCGCATTCCTGT-1 K562     7.991592 0.05311231  \n",
       "Multiome10x_05_AAACGGATCAAAGGCA-1 K562     7.858641 0.09157651  \n",
       "Multiome10x_05_AAACGGATCCGTCCAT-1 K562     8.031060 0.11674797  \n",
       "Multiome10x_05_AAACGGATCCTCATCA-1 K562     7.809541 0.07386364  \n",
       "Multiome10x_05_AAACGGATCGCTAGAT-1 K562     7.434848 0.08795750  \n",
       "Multiome10x_05_AAACGGATCGCTATGG-1 K562     7.489971 0.07988827  \n",
       "Multiome10x_05_AAACGTACAAATACCT-1 K562     8.072779 0.10761073  \n",
       "Multiome10x_05_AAACGTACAGCACGAA-1 K562     7.442493 0.05799649  \n",
       "Multiome10x_05_AAAGCAAGTTCATCTA-1 K562     7.786552 0.04526578  \n",
       "Multiome10x_05_AAAGCACCAAGATTCT-1 K562     8.915567 0.10165167  \n",
       "Multiome10x_05_AAAGCACCAAGTGAAC-1 K562     7.988543 0.04241602  \n",
       "Multiome10x_05_AAAGCACCATAGACTT-1 K562     8.118505 0.06823600  \n",
       "⋮                                 ⋮        ⋮        ⋮           \n",
       "Multiome10x_06_TTTGACCGTACAATGT-1 K562     8.054840 0.06891077  \n",
       "Multiome10x_06_TTTGACCGTGCCTCAC-1 K562     7.311218 0.10420842  \n",
       "Multiome10x_06_TTTGACCGTTTACCGT-1 K562     8.033009 0.07887050  \n",
       "Multiome10x_06_TTTGACTTCGTTATCT-1 K562     8.145260 0.03974471  \n",
       "Multiome10x_06_TTTGAGTCAATAATGG-1 K562     7.984803 0.06335150  \n",
       "Multiome10x_06_TTTGAGTCAATTTAGC-1 K562     7.587817 0.10131712  \n",
       "Multiome10x_06_TTTGAGTCAGCTACGT-1 K562     7.689371 0.06498856  \n",
       "Multiome10x_06_TTTGCATTCAATCTAG-1 K562     8.044947 0.03752405  \n",
       "Multiome10x_06_TTTGCATTCATCCTCA-1 K562     7.306531 0.04697987  \n",
       "Multiome10x_06_TTTGCATTCGGTCAGC-1 K562     8.502486 0.08889791  \n",
       "Multiome10x_06_TTTGCGACATTGTGTG-1 K562     8.049746 0.10916055  \n",
       "Multiome10x_06_TTTGCGGAGAAACTGG-1 K562     8.038189 0.12334517  \n",
       "Multiome10x_06_TTTGCGGAGCATGTTA-1 K562     7.911324 0.05828446  \n",
       "Multiome10x_06_TTTGCGGAGGAACCAA-1 K562     7.776115 0.10952581  \n",
       "Multiome10x_06_TTTGGTAAGAACCTAC-1 K562     9.018574 0.10781345  \n",
       "Multiome10x_06_TTTGGTAAGGAGCAAC-1 K562     8.390723 0.08919655  \n",
       "Multiome10x_06_TTTGGTGCAAAGGTAC-1 K562     8.220403 0.13105490  \n",
       "Multiome10x_06_TTTGGTGCACAATTAC-1 K562     7.758333 0.07988039  \n",
       "Multiome10x_06_TTTGGTGCACAGACTC-1 K562     8.011023 0.06768414  \n",
       "Multiome10x_06_TTTGTCCCATCCATCT-1 K562     8.472614 0.08260142  \n",
       "Multiome10x_06_TTTGTCCCATGCATAT-1 K562     7.816417 0.07053607  \n",
       "Multiome10x_06_TTTGTCTAGACTTACA-1 K562     8.020599 0.05225107  \n",
       "Multiome10x_06_TTTGTCTAGGTAACGA-1 K562     8.066835 0.05271415  \n",
       "Multiome10x_06_TTTGTGAAGCAAGACA-1 K562     8.001690 0.09176155  \n",
       "Multiome10x_06_TTTGTGAAGCTATGAC-1 K562     8.303257 0.07307406  \n",
       "Multiome10x_06_TTTGTGAAGTTGCCTC-1 K562     7.968666 0.06611284  \n",
       "Multiome10x_06_TTTGTGGCACGAACAG-1 K562     7.777374 0.09304275  \n",
       "Multiome10x_06_TTTGTGGCATTAAACC-1 K562     7.952967 0.05836850  \n",
       "Multiome10x_06_TTTGTGTTCAAGCGCC-1 K562     7.676937 0.07089898  \n",
       "Multiome10x_06_TTTGTTGGTACCCACC-1 K562     8.106515 0.10162847  "
      ]
     },
     "metadata": {},
     "output_type": "display_data"
    }
   ],
   "source": [
    "meta.data = data.frame(cell = colnames(matrix.rna),\n",
    "                       nUMI = colSums(matrix.rna),\n",
    "                       nMito = colSums(matrix.rna[grep(\"MT-\",rownames(matrix.rna)),]),\n",
    "                       celltype = \"K562\")\n",
    "meta.data[,\"log.nUMI\"] = log(meta.data[,\"nUMI\"])\n",
    "meta.data[,\"percent.mito\"] = meta.data[,\"nMito\"] / meta.data[,\"nUMI\"]\n",
    "meta.data"
   ]
  },
  {
   "cell_type": "markdown",
   "id": "b823cb4a-3ce6-40b1-9a0d-d5d1e4aa3912",
   "metadata": {},
   "source": [
    "RUN SCENT prediction"
   ]
  },
  {
   "cell_type": "code",
   "execution_count": 12,
   "id": "f46765dc-9de5-4411-9288-40b59435f9fb",
   "metadata": {},
   "outputs": [],
   "source": [
    "SCENT_algorithm.modified = function (object, \n",
    "                                     # celltype, \n",
    "                                     # ncores, \n",
    "                                     # regr = \"poisson\", \n",
    "                                     # bin = TRUE) \n",
    "                                     regr = \"poisson\") {\n",
    "    res <- data.frame()\n",
    "    for (n in 1:nrow(object@peak.info)) {        \n",
    "        gene <- object@peak.info[n, 1]\n",
    "        this_peak <- object@peak.info[n, 2]\n",
    "        atac_target <- data.frame(cell = colnames(object@atac), \n",
    "            atac = object@atac[this_peak, ])\n",
    "        # if (bin) {\n",
    "        #     atac_target[atac_target$atac > 0, ]$atac <- 1\n",
    "        # }\n",
    "        mrna_target <- object@rna[gene, ]\n",
    "        df <- data.frame(cell = names(mrna_target), exprs = as.numeric(mrna_target))\n",
    "        df <- merge(df, atac_target, by = \"cell\")\n",
    "        df <- merge(df, object@meta.data, by = \"cell\")\n",
    "        # df2 <- df[df[[object@celltypes]] == celltype, ]\n",
    "        df2 <- df\n",
    "        nonzero_m <- length(df2$exprs[df2$exprs > 0])/length(df2$exprs)\n",
    "        nonzero_a <- length(df2$atac[df2$atac > 0])/length(df2$atac)\n",
    "        if (nonzero_m > 0.05 & nonzero_a > 0.05) {\n",
    "            res_var <- \"exprs\"\n",
    "            pred_var <- c(\"atac\", object@covariates)\n",
    "            formula <- as.formula(paste(res_var, paste(pred_var, \n",
    "                collapse = \"+\"), sep = \"~\"))\n",
    "            if (regr == \"poisson\") {\n",
    "                base = glm(formula, family = \"poisson\", data = df2)\n",
    "                coefs <- summary(base)$coefficients[\"atac\", ]\n",
    "                # assoc <- assoc_poisson\n",
    "                assoc <- SCENT::assoc_poisson\n",
    "            }\n",
    "            else if (regr == \"negbin\") {\n",
    "                base = glm.nb(formula, data = df2)\n",
    "                coefs <- summary(base)$coefficients[\"atac\", ]\n",
    "                # assoc <- assoc_negbin\n",
    "                assoc <- SCENT::assoc_negbin\n",
    "            }\n",
    "            bs = boot::boot(df2, assoc, R = 100, formula = formula, \n",
    "                stype = \"i\", parallel = \"no\", ncpus = 1)\n",
    "            # p0 = basic_p(bs$t0[1], bs$t[, 1])\n",
    "            p0 = SCENT::basic_p(bs$t0[1], bs$t[, 1])\n",
    "            # if (p0 < 0.1) {\n",
    "            #     bs = boot::boot(df2, assoc, R = 500, formula = formula, \n",
    "            #       stype = \"i\", \n",
    "            #       # parallel = \"multicore\", ncpus = ncores)\n",
    "            #       parallel = \"no\", ncpus = 1)\n",
    "            #     # p0 = basic_p(bs$t0[1], bs$t[, 1])\n",
    "            #     p0 = SCENT::basic_p(bs$t0[1], bs$t[, 1])\n",
    "            # }\n",
    "            # if (p0 < 0.05) {\n",
    "            #     bs = boot::boot(df2, assoc, R = 2500, formula = formula, \n",
    "            #       stype = \"i\", \n",
    "            #       # parallel = \"multicore\", ncpus = ncores)\n",
    "            #       parallel = \"no\", ncpus = 1)\n",
    "            #     # p0 = basic_p(bs$t0[1], bs$t[, 1])\n",
    "            #     p0 = SCENT::basic_p(bs$t0[1], bs$t[, 1])\n",
    "            # }\n",
    "            # if (p0 < 0.01) {\n",
    "            #     bs = boot::boot(df2, assoc, R = 25000, formula = formula, \n",
    "            #       stype = \"i\", \n",
    "            #       # parallel = \"multicore\", ncpus = ncores)\n",
    "            #       parallel = \"no\", ncpus = 1)\n",
    "            #     # p0 = basic_p(bs$t0[1], bs$t[, 1])\n",
    "            #     p0 = SCENT::basic_p(bs$t0[1], bs$t[, 1])\n",
    "            # }\n",
    "            # if (p0 < 0.001) {\n",
    "            #     bs = boot::boot(df2, assoc, R = 50000, formula = formula, \n",
    "            #       stype = \"i\", \n",
    "            #       # parallel = \"multicore\", ncpus = ncores)\n",
    "            #       parallel = \"no\", ncpus = 1)\n",
    "            #     # p0 = basic_p(bs$t0[1], bs$t[, 1])\n",
    "            #     p0 = SCENT::basic_p(bs$t0[1], bs$t[, 1])\n",
    "            # }\n",
    "            out <- data.frame(gene = gene, peak = this_peak, \n",
    "                beta = coefs[1], se = coefs[2], z = coefs[3], \n",
    "                p = coefs[4], boot_basic_p = p0)           \n",
    "            res <- rbind(res, out)\n",
    "        }\n",
    "    }\n",
    "    object@SCENT.result <- res\n",
    "    return(object)\n",
    "}"
   ]
  },
  {
   "cell_type": "code",
   "execution_count": 13,
   "id": "563771b9-b96a-44d5-a5fe-fa30a7b9851b",
   "metadata": {},
   "outputs": [],
   "source": [
    "dir.create(paste(dir.output,\"chr\",sep = \"/\"),recursive = T)"
   ]
  },
  {
   "cell_type": "code",
   "execution_count": 14,
   "id": "0d2266ce-b92d-40d2-9b78-f39bd33a5079",
   "metadata": {},
   "outputs": [],
   "source": [
    "chr.done = dir(paste(dir.output,\"chr\",sep = \"/\"))\n",
    "chr.run = as.character(unique(seqnames(pairs.E2G.filter2)))\n",
    "chr.run = chr.run[!chr.run %in% chr.done]"
   ]
  },
  {
   "cell_type": "code",
   "execution_count": 15,
   "id": "2d41238d-e833-4e0e-add5-bb56bb615c1a",
   "metadata": {},
   "outputs": [
    {
     "name": "stdout",
     "output_type": "stream",
     "text": [
      "[1] \"chr1\"\n"
     ]
    },
    {
     "name": "stderr",
     "output_type": "stream",
     "text": [
      "Warning message in split.default(x = seq_len(nrow(x)), f = f, drop = drop, ...):\n",
      "“data length is not a multiple of split variable”\n"
     ]
    },
    {
     "name": "stdout",
     "output_type": "stream",
     "text": [
      "[1] \"chr10\"\n"
     ]
    },
    {
     "name": "stderr",
     "output_type": "stream",
     "text": [
      "Warning message in split.default(x = seq_len(nrow(x)), f = f, drop = drop, ...):\n",
      "“data length is not a multiple of split variable”\n"
     ]
    },
    {
     "name": "stdout",
     "output_type": "stream",
     "text": [
      "[1] \"chr11\"\n"
     ]
    },
    {
     "name": "stderr",
     "output_type": "stream",
     "text": [
      "Warning message in split.default(x = seq_len(nrow(x)), f = f, drop = drop, ...):\n",
      "“data length is not a multiple of split variable”\n"
     ]
    },
    {
     "name": "stdout",
     "output_type": "stream",
     "text": [
      "[1] \"chr12\"\n"
     ]
    },
    {
     "name": "stderr",
     "output_type": "stream",
     "text": [
      "Warning message in split.default(x = seq_len(nrow(x)), f = f, drop = drop, ...):\n",
      "“data length is not a multiple of split variable”\n"
     ]
    },
    {
     "name": "stdout",
     "output_type": "stream",
     "text": [
      "[1] \"chr13\"\n"
     ]
    },
    {
     "name": "stderr",
     "output_type": "stream",
     "text": [
      "Warning message in split.default(x = seq_len(nrow(x)), f = f, drop = drop, ...):\n",
      "“data length is not a multiple of split variable”\n"
     ]
    },
    {
     "name": "stdout",
     "output_type": "stream",
     "text": [
      "[1] \"chr14\"\n"
     ]
    },
    {
     "name": "stderr",
     "output_type": "stream",
     "text": [
      "Warning message in split.default(x = seq_len(nrow(x)), f = f, drop = drop, ...):\n",
      "“data length is not a multiple of split variable”\n"
     ]
    },
    {
     "name": "stdout",
     "output_type": "stream",
     "text": [
      "[1] \"chr15\"\n"
     ]
    },
    {
     "name": "stderr",
     "output_type": "stream",
     "text": [
      "Warning message in split.default(x = seq_len(nrow(x)), f = f, drop = drop, ...):\n",
      "“data length is not a multiple of split variable”\n"
     ]
    },
    {
     "name": "stdout",
     "output_type": "stream",
     "text": [
      "[1] \"chr16\"\n"
     ]
    },
    {
     "name": "stderr",
     "output_type": "stream",
     "text": [
      "Warning message in split.default(x = seq_len(nrow(x)), f = f, drop = drop, ...):\n",
      "“data length is not a multiple of split variable”\n"
     ]
    },
    {
     "name": "stdout",
     "output_type": "stream",
     "text": [
      "[1] \"chr17\"\n"
     ]
    },
    {
     "name": "stderr",
     "output_type": "stream",
     "text": [
      "Warning message in split.default(x = seq_len(nrow(x)), f = f, drop = drop, ...):\n",
      "“data length is not a multiple of split variable”\n"
     ]
    },
    {
     "name": "stdout",
     "output_type": "stream",
     "text": [
      "[1] \"chr18\"\n"
     ]
    },
    {
     "name": "stderr",
     "output_type": "stream",
     "text": [
      "Warning message in split.default(x = seq_len(nrow(x)), f = f, drop = drop, ...):\n",
      "“data length is not a multiple of split variable”\n"
     ]
    },
    {
     "name": "stdout",
     "output_type": "stream",
     "text": [
      "[1] \"chr19\"\n"
     ]
    },
    {
     "name": "stderr",
     "output_type": "stream",
     "text": [
      "Warning message in split.default(x = seq_len(nrow(x)), f = f, drop = drop, ...):\n",
      "“data length is not a multiple of split variable”\n"
     ]
    },
    {
     "name": "stdout",
     "output_type": "stream",
     "text": [
      "[1] \"chr2\"\n"
     ]
    },
    {
     "name": "stderr",
     "output_type": "stream",
     "text": [
      "Warning message in split.default(x = seq_len(nrow(x)), f = f, drop = drop, ...):\n",
      "“data length is not a multiple of split variable”\n"
     ]
    },
    {
     "name": "stdout",
     "output_type": "stream",
     "text": [
      "[1] \"chr20\"\n"
     ]
    },
    {
     "name": "stderr",
     "output_type": "stream",
     "text": [
      "Warning message in split.default(x = seq_len(nrow(x)), f = f, drop = drop, ...):\n",
      "“data length is not a multiple of split variable”\n"
     ]
    },
    {
     "name": "stdout",
     "output_type": "stream",
     "text": [
      "[1] \"chr21\"\n"
     ]
    },
    {
     "name": "stderr",
     "output_type": "stream",
     "text": [
      "Warning message in split.default(x = seq_len(nrow(x)), f = f, drop = drop, ...):\n",
      "“data length is not a multiple of split variable”\n"
     ]
    },
    {
     "name": "stdout",
     "output_type": "stream",
     "text": [
      "[1] \"chr22\"\n"
     ]
    },
    {
     "name": "stderr",
     "output_type": "stream",
     "text": [
      "Warning message in split.default(x = seq_len(nrow(x)), f = f, drop = drop, ...):\n",
      "“data length is not a multiple of split variable”\n"
     ]
    },
    {
     "name": "stdout",
     "output_type": "stream",
     "text": [
      "[1] \"chr3\"\n"
     ]
    },
    {
     "name": "stderr",
     "output_type": "stream",
     "text": [
      "Warning message in split.default(x = seq_len(nrow(x)), f = f, drop = drop, ...):\n",
      "“data length is not a multiple of split variable”\n"
     ]
    },
    {
     "name": "stdout",
     "output_type": "stream",
     "text": [
      "[1] \"chr4\"\n"
     ]
    },
    {
     "name": "stderr",
     "output_type": "stream",
     "text": [
      "Warning message in split.default(x = seq_len(nrow(x)), f = f, drop = drop, ...):\n",
      "“data length is not a multiple of split variable”\n"
     ]
    },
    {
     "name": "stdout",
     "output_type": "stream",
     "text": [
      "[1] \"chr5\"\n"
     ]
    },
    {
     "name": "stderr",
     "output_type": "stream",
     "text": [
      "Warning message in split.default(x = seq_len(nrow(x)), f = f, drop = drop, ...):\n",
      "“data length is not a multiple of split variable”\n"
     ]
    },
    {
     "name": "stdout",
     "output_type": "stream",
     "text": [
      "[1] \"chr6\"\n"
     ]
    },
    {
     "name": "stderr",
     "output_type": "stream",
     "text": [
      "Warning message in split.default(x = seq_len(nrow(x)), f = f, drop = drop, ...):\n",
      "“data length is not a multiple of split variable”\n"
     ]
    },
    {
     "name": "stdout",
     "output_type": "stream",
     "text": [
      "[1] \"chr7\"\n"
     ]
    },
    {
     "name": "stderr",
     "output_type": "stream",
     "text": [
      "Warning message in split.default(x = seq_len(nrow(x)), f = f, drop = drop, ...):\n",
      "“data length is not a multiple of split variable”\n"
     ]
    },
    {
     "name": "stdout",
     "output_type": "stream",
     "text": [
      "[1] \"chr8\"\n"
     ]
    },
    {
     "name": "stderr",
     "output_type": "stream",
     "text": [
      "Warning message in split.default(x = seq_len(nrow(x)), f = f, drop = drop, ...):\n",
      "“data length is not a multiple of split variable”\n"
     ]
    },
    {
     "name": "stdout",
     "output_type": "stream",
     "text": [
      "[1] \"chr9\"\n"
     ]
    },
    {
     "name": "stderr",
     "output_type": "stream",
     "text": [
      "Warning message in split.default(x = seq_len(nrow(x)), f = f, drop = drop, ...):\n",
      "“data length is not a multiple of split variable”\n"
     ]
    },
    {
     "name": "stdout",
     "output_type": "stream",
     "text": [
      "[1] \"chrX\"\n"
     ]
    },
    {
     "name": "stderr",
     "output_type": "stream",
     "text": [
      "Warning message in split.default(x = seq_len(nrow(x)), f = f, drop = drop, ...):\n",
      "“data length is not a multiple of split variable”\n"
     ]
    }
   ],
   "source": [
    "for(chr.tmp in chr.run){\n",
    "  print(chr.tmp)\n",
    "  pairs.E2G.chr.res = pairs.E2G.filter2[seqnames(pairs.E2G.filter2) == chr.tmp]\n",
    "  gene_peak.chr = as.data.frame(mcols(pairs.E2G.chr.res)[,c(\"TargetGene\",\"PeakName\")])\n",
    "  list.gene_peak.chr <- split(gene_peak.chr, seq_len(n.cores))\n",
    "  \n",
    "  list.obj.SCENT.chr <- lapply(list.gene_peak.chr, function(gene_peak.tmp) {\n",
    "    obj.SCENT.tmp <- CreateSCENTObj(\n",
    "      rna = matrix.rna[rownames(matrix.rna) %in% gene_peak.tmp$TargetGene,],\n",
    "      atac = matrix.atac[rownames(matrix.atac) %in% gene_peak.tmp$PeakName,], \n",
    "      meta.data = meta.data,\n",
    "      peak.info = gene_peak.tmp,\n",
    "      covariates = c(\"log.nUMI\",\"percent.mito\"), \n",
    "      celltypes = \"celltype\"\n",
    "    )\n",
    "  })\n",
    "  \n",
    "  cl <- makeCluster(n.cores)\n",
    "  clusterExport(cl, varlist=c(\"SCENT_algorithm.modified\"))\n",
    "  list.SCENT.result.chr <- parLapply(cl, list.obj.SCENT.chr, function(obj.SCENT.tmp) {\n",
    "    obj.SCENT.tmp <- SCENT_algorithm.modified(object = obj.SCENT.tmp)\n",
    "    return(obj.SCENT.tmp@SCENT.result)\n",
    "  })\n",
    "  stopCluster(cl)\n",
    "  \n",
    "  \n",
    "  df.SCENT.result.chr = do.call(rbind,list.SCENT.result.chr)\n",
    "  rownames(df.SCENT.result.chr) = paste(df.SCENT.result.chr$peak,\n",
    "                                        df.SCENT.result.chr$gene,\n",
    "                                        sep = \"_\")\n",
    "\n",
    "  pairs.E2G.chr.res = pairs.E2G.chr.res[pairs.E2G.chr.res$PairName %in% rownames(df.SCENT.result.chr)]\n",
    "  mcols(pairs.E2G.chr.res)[,c(\"beta\",\"se\",\"z\",\"p\",\"boot_basic_p\")] = \n",
    "    df.SCENT.result.chr[pairs.E2G.chr.res$PairName,c(\"beta\",\"se\",\"z\",\"p\",\"boot_basic_p\")]\n",
    "  pairs.E2G.chr.res$boot_basic_p.log10 = -log10(pairs.E2G.chr.res$boot_basic_p)\n",
    "  pairs.E2G.chr.res$sign = 1\n",
    "  pairs.E2G.chr.res$sign[pairs.E2G.chr.res$beta < 0] = -1\n",
    "  pairs.E2G.chr.res$boot_basic_p.log10.signed = pairs.E2G.chr.res$boot_basic_p.log10 * pairs.E2G.chr.res$sign\n",
    "  saveRDS(pairs.E2G.chr.res,\n",
    "          paste(dir.output,\"chr\",chr.tmp,sep = \"/\"))\n",
    "  rm (pairs.E2G.chr.res)\n",
    "}"
   ]
  },
  {
   "cell_type": "markdown",
   "id": "da9d1451-54e0-49e0-ae8b-cd0158115820",
   "metadata": {},
   "source": [
    "Merge results"
   ]
  },
  {
   "cell_type": "code",
   "execution_count": 16,
   "id": "6b4278f1-7d9d-402f-95c6-f274a6befea3",
   "metadata": {},
   "outputs": [],
   "source": [
    "chr.merge = as.character(unique(seqnames(pairs.E2G.filter2)))\n",
    "list.res = list()\n",
    "for(chr.tmp in chr.merge){\n",
    "    list.res[[chr.tmp]] = readRDS(paste(dir.output,\"chr\",chr.tmp,sep = \"/\"))\n",
    "}\n",
    "pairs.E2G.res = unlist(as(list.res, \"GRangesList\"))"
   ]
  },
  {
   "cell_type": "markdown",
   "id": "6ef1617e-3e2f-44f1-9245-007d569ca84d",
   "metadata": {},
   "source": [
    "Save results"
   ]
  },
  {
   "cell_type": "code",
   "execution_count": 17,
   "id": "48824f05-aedd-476c-88d6-ae58d1833fc9",
   "metadata": {},
   "outputs": [
    {
     "data": {
      "text/plain": [
       "GRanges object with 294559 ranges and 11 metadata columns:\n",
       "       seqnames              ranges strand |  TargetGene               PeakName\n",
       "          <Rle>           <IRanges>  <Rle> | <character>            <character>\n",
       "  chr1     chr1 100037727-100039301      * |         AGL chr1-100037727-10003..\n",
       "  chr1     chr1 100037727-100039301      * |      CDC14A chr1-100037727-10003..\n",
       "  chr1     chr1 100037727-100039301      * |        DPH5 chr1-100037727-10003..\n",
       "  chr1     chr1 100037727-100039301      * |        RTCA chr1-100037727-10003..\n",
       "  chr1     chr1 100037727-100039301      * |     SLC30A7 chr1-100037727-10003..\n",
       "   ...      ...                 ...    ... .         ...                    ...\n",
       "  chrX     chrX       989869-990634      * |       IL3RA     chrX-989869-990634\n",
       "  chrX     chrX       989869-990634      * |       P2RY8     chrX-989869-990634\n",
       "  chrX     chrX       989869-990634      * |     SLC25A6     chrX-989869-990634\n",
       "  chrX     chrX     9995654-9996371      * |       TBL1X   chrX-9995654-9996371\n",
       "  chrX     chrX     9995654-9996371      * |        WWC3   chrX-9995654-9996371\n",
       "                     PairName       beta        se         z         p\n",
       "                  <character>  <numeric> <numeric> <numeric> <numeric>\n",
       "  chr1 chr1-100037727-10003.. -0.0180283 0.0770466 -0.233993 0.8149906\n",
       "  chr1 chr1-100037727-10003.. -0.0263863 0.0173099 -1.524346 0.1274224\n",
       "  chr1 chr1-100037727-10003.. -0.0442705 0.0858889 -0.515439 0.6062465\n",
       "  chr1 chr1-100037727-10003.. -0.1458527 0.0822383 -1.773538 0.0761395\n",
       "  chr1 chr1-100037727-10003..  0.1284474 0.0536861  2.392564 0.0167311\n",
       "   ...                    ...        ...       ...       ...       ...\n",
       "  chrX chrX-989869-990634_I..  0.1153787 0.0939654  1.227885 0.2194902\n",
       "  chrX chrX-989869-990634_P..  0.0647190 0.0309407  2.091712 0.0364643\n",
       "  chrX chrX-989869-990634_S.. -0.0277900 0.0293610 -0.946492 0.3438977\n",
       "  chrX chrX-9995654-9996371..  0.0795286 0.0557667  1.426094 0.1538411\n",
       "  chrX chrX-9995654-9996371.. -0.2459845 0.1497402 -1.642742 0.1004363\n",
       "       boot_basic_p boot_basic_p.log10      sign boot_basic_p.log10.signed\n",
       "          <numeric>          <numeric> <numeric>                 <numeric>\n",
       "  chr1         0.90          0.0457575        -1                -0.0457575\n",
       "  chr1         0.36          0.4436975        -1                -0.4436975\n",
       "  chr1         0.54          0.2676062        -1                -0.2676062\n",
       "  chr1         0.04          1.3979400        -1                -1.3979400\n",
       "  chr1         0.02          1.6989700         1                 1.6989700\n",
       "   ...          ...                ...       ...                       ...\n",
       "  chrX         0.24           0.619789         1                  0.619789\n",
       "  chrX         0.08           1.096910         1                  1.096910\n",
       "  chrX         0.48           0.318759        -1                 -0.318759\n",
       "  chrX         0.26           0.585027         1                  0.585027\n",
       "  chrX         0.12           0.920819        -1                 -0.920819\n",
       "  -------\n",
       "  seqinfo: 23 sequences from an unspecified genome; no seqlengths"
      ]
     },
     "metadata": {},
     "output_type": "display_data"
    }
   ],
   "source": [
    "saveRDS(pairs.E2G.res,\n",
    "        paste(dir.output,\"pairs.E2G.res.rds\",sep = \"/\"))\n",
    "pairs.E2G.res"
   ]
  },
  {
   "cell_type": "code",
   "execution_count": 18,
   "id": "2297128a-9ed6-42b8-90c7-459969fb5afd",
   "metadata": {},
   "outputs": [
    {
     "data": {
      "text/html": [
       "<table class=\"dataframe\">\n",
       "<caption>A data.frame: 294559 × 13</caption>\n",
       "<thead>\n",
       "\t<tr><th scope=col>chr</th><th scope=col>start</th><th scope=col>end</th><th scope=col>TargetGene</th><th scope=col>CellType</th><th scope=col>beta</th><th scope=col>se</th><th scope=col>z</th><th scope=col>p</th><th scope=col>boot_basic_p</th><th scope=col>boot_basic_p.log10</th><th scope=col>sign</th><th scope=col>boot_basic_p.log10.signed</th></tr>\n",
       "\t<tr><th scope=col>&lt;fct&gt;</th><th scope=col>&lt;int&gt;</th><th scope=col>&lt;int&gt;</th><th scope=col>&lt;chr&gt;</th><th scope=col>&lt;chr&gt;</th><th scope=col>&lt;dbl&gt;</th><th scope=col>&lt;dbl&gt;</th><th scope=col>&lt;dbl&gt;</th><th scope=col>&lt;dbl&gt;</th><th scope=col>&lt;dbl&gt;</th><th scope=col>&lt;dbl&gt;</th><th scope=col>&lt;dbl&gt;</th><th scope=col>&lt;dbl&gt;</th></tr>\n",
       "</thead>\n",
       "<tbody>\n",
       "\t<tr><td>chr1</td><td>100037727</td><td>100039301</td><td>AGL      </td><td>K562</td><td>-0.018028345</td><td>0.07704658</td><td>-0.23399281</td><td>0.81499056</td><td>0.90</td><td>0.04575749</td><td>-1</td><td>-0.04575749</td></tr>\n",
       "\t<tr><td>chr1</td><td>100037727</td><td>100039301</td><td>CDC14A   </td><td>K562</td><td>-0.026386266</td><td>0.01730990</td><td>-1.52434560</td><td>0.12742240</td><td>0.36</td><td>0.44369750</td><td>-1</td><td>-0.44369750</td></tr>\n",
       "\t<tr><td>chr1</td><td>100037727</td><td>100039301</td><td>DPH5     </td><td>K562</td><td>-0.044270455</td><td>0.08588889</td><td>-0.51543867</td><td>0.60624652</td><td>0.54</td><td>0.26760624</td><td>-1</td><td>-0.26760624</td></tr>\n",
       "\t<tr><td>chr1</td><td>100037727</td><td>100039301</td><td>RTCA     </td><td>K562</td><td>-0.145852737</td><td>0.08223827</td><td>-1.77353848</td><td>0.07613952</td><td>0.04</td><td>1.39794001</td><td>-1</td><td>-1.39794001</td></tr>\n",
       "\t<tr><td>chr1</td><td>100037727</td><td>100039301</td><td>SLC30A7  </td><td>K562</td><td> 0.128447441</td><td>0.05368611</td><td> 2.39256371</td><td>0.01673112</td><td>0.02</td><td>1.69897000</td><td> 1</td><td> 1.69897000</td></tr>\n",
       "\t<tr><td>chr1</td><td>100037727</td><td>100039301</td><td>SLC35A3  </td><td>K562</td><td> 0.118390906</td><td>0.09448021</td><td> 1.25307628</td><td>0.21017795</td><td>0.14</td><td>0.85387196</td><td> 1</td><td> 0.85387196</td></tr>\n",
       "\t<tr><td>chr1</td><td>100037727</td><td>100039301</td><td>TRMT13   </td><td>K562</td><td>-0.069877083</td><td>0.07139430</td><td>-0.97874880</td><td>0.32770412</td><td>0.32</td><td>0.49485002</td><td>-1</td><td>-0.49485002</td></tr>\n",
       "\t<tr><td>chr1</td><td>100046087</td><td>100047257</td><td>AGL      </td><td>K562</td><td>-0.043129167</td><td>0.15605640</td><td>-0.27636909</td><td>0.78226459</td><td>0.72</td><td>0.14266750</td><td>-1</td><td>-0.14266750</td></tr>\n",
       "\t<tr><td>chr1</td><td>100046087</td><td>100047257</td><td>CDC14A   </td><td>K562</td><td>-0.039446550</td><td>0.03483769</td><td>-1.13229511</td><td>0.25751039</td><td>0.46</td><td>0.33724217</td><td>-1</td><td>-0.33724217</td></tr>\n",
       "\t<tr><td>chr1</td><td>100046087</td><td>100047257</td><td>DPH5     </td><td>K562</td><td> 0.160204611</td><td>0.15910374</td><td> 1.00691921</td><td>0.31397360</td><td>0.22</td><td>0.65757732</td><td> 1</td><td> 0.65757732</td></tr>\n",
       "\t<tr><td>chr1</td><td>100046087</td><td>100047257</td><td>RTCA     </td><td>K562</td><td> 0.142361211</td><td>0.15237834</td><td> 0.93426145</td><td>0.35016904</td><td>0.26</td><td>0.58502665</td><td> 1</td><td> 0.58502665</td></tr>\n",
       "\t<tr><td>chr1</td><td>100046087</td><td>100047257</td><td>SLC30A7  </td><td>K562</td><td>-0.001785006</td><td>0.10370290</td><td>-0.01721269</td><td>0.98626694</td><td>0.96</td><td>0.01772877</td><td>-1</td><td>-0.01772877</td></tr>\n",
       "\t<tr><td>chr1</td><td>100046087</td><td>100047257</td><td>SLC35A3  </td><td>K562</td><td> 0.248056669</td><td>0.16734114</td><td> 1.48234123</td><td>0.13824952</td><td>0.10</td><td>1.00000000</td><td> 1</td><td> 1.00000000</td></tr>\n",
       "\t<tr><td>chr1</td><td>100046087</td><td>100047257</td><td>TRMT13   </td><td>K562</td><td>-0.013985442</td><td>0.14370239</td><td>-0.09732226</td><td>0.92247048</td><td>0.94</td><td>0.02687215</td><td>-1</td><td>-0.02687215</td></tr>\n",
       "\t<tr><td>chr1</td><td>100132480</td><td>100133482</td><td>AGL      </td><td>K562</td><td>-0.124107210</td><td>0.07325936</td><td>-1.69407980</td><td>0.09025012</td><td>0.10</td><td>1.00000000</td><td>-1</td><td>-1.00000000</td></tr>\n",
       "\t<tr><td>chr1</td><td>100132480</td><td>100133482</td><td>CDC14A   </td><td>K562</td><td> 0.014766139</td><td>0.01638375</td><td> 0.90126709</td><td>0.36744633</td><td>0.66</td><td>0.18045606</td><td> 1</td><td> 0.18045606</td></tr>\n",
       "\t<tr><td>chr1</td><td>100132480</td><td>100133482</td><td>DPH5     </td><td>K562</td><td> 0.091290678</td><td>0.08144519</td><td> 1.12088480</td><td>0.26233690</td><td>0.26</td><td>0.58502665</td><td> 1</td><td> 0.58502665</td></tr>\n",
       "\t<tr><td>chr1</td><td>100132480</td><td>100133482</td><td>RTCA     </td><td>K562</td><td>-0.133126807</td><td>0.07909927</td><td>-1.68303458</td><td>0.09236840</td><td>0.10</td><td>1.00000000</td><td>-1</td><td>-1.00000000</td></tr>\n",
       "\t<tr><td>chr1</td><td>100132480</td><td>100133482</td><td>SLC30A7  </td><td>K562</td><td>-0.007933834</td><td>0.04955354</td><td>-0.16010631</td><td>0.87279733</td><td>0.78</td><td>0.10790540</td><td>-1</td><td>-0.10790540</td></tr>\n",
       "\t<tr><td>chr1</td><td>100132480</td><td>100133482</td><td>SLC35A3  </td><td>K562</td><td> 0.109899627</td><td>0.08757005</td><td> 1.25499100</td><td>0.20948203</td><td>0.30</td><td>0.52287875</td><td> 1</td><td> 0.52287875</td></tr>\n",
       "\t<tr><td>chr1</td><td>100132480</td><td>100133482</td><td>TRMT13   </td><td>K562</td><td> 0.010655300</td><td>0.06805933</td><td> 0.15655898</td><td>0.87559243</td><td>0.80</td><td>0.09691001</td><td> 1</td><td> 0.09691001</td></tr>\n",
       "\t<tr><td>chr1</td><td>  1001781</td><td>  1002124</td><td>AURKAIP1 </td><td>K562</td><td> 0.010255977</td><td>0.07793504</td><td> 0.13159648</td><td>0.89530347</td><td>0.94</td><td>0.02687215</td><td> 1</td><td> 0.02687215</td></tr>\n",
       "\t<tr><td>chr1</td><td>  1001781</td><td>  1002124</td><td>C1orf159 </td><td>K562</td><td> 0.124451204</td><td>0.12067339</td><td> 1.03130607</td><td>0.30239731</td><td>0.48</td><td>0.31875876</td><td> 1</td><td> 0.31875876</td></tr>\n",
       "\t<tr><td>chr1</td><td>  1001781</td><td>  1002124</td><td>CCNL2    </td><td>K562</td><td> 0.037081092</td><td>0.06190709</td><td> 0.59897968</td><td>0.54918643</td><td>0.60</td><td>0.22184875</td><td> 1</td><td> 0.22184875</td></tr>\n",
       "\t<tr><td>chr1</td><td>  1001781</td><td>  1002124</td><td>CDK11A   </td><td>K562</td><td> 0.183286425</td><td>0.11028478</td><td> 1.66193754</td><td>0.09652530</td><td>0.04</td><td>1.39794001</td><td> 1</td><td> 1.39794001</td></tr>\n",
       "\t<tr><td>chr1</td><td>  1001781</td><td>  1002124</td><td>CDK11B   </td><td>K562</td><td> 0.132742012</td><td>0.05935039</td><td> 2.23658202</td><td>0.02531367</td><td>0.02</td><td>1.69897000</td><td> 1</td><td> 1.69897000</td></tr>\n",
       "\t<tr><td>chr1</td><td>  1001781</td><td>  1002124</td><td>GNB1     </td><td>K562</td><td> 0.004536512</td><td>0.04524559</td><td> 0.10026419</td><td>0.92013458</td><td>0.80</td><td>0.09691001</td><td> 1</td><td> 0.09691001</td></tr>\n",
       "\t<tr><td>chr1</td><td>  1001781</td><td>  1002124</td><td>INTS11   </td><td>K562</td><td>-0.137622049</td><td>0.09782783</td><td>-1.40677812</td><td>0.15949319</td><td>0.26</td><td>0.58502665</td><td>-1</td><td>-0.58502665</td></tr>\n",
       "\t<tr><td>chr1</td><td>  1001781</td><td>  1002124</td><td>ISG15    </td><td>K562</td><td>-0.091660683</td><td>0.07124537</td><td>-1.28654940</td><td>0.19825139</td><td>0.26</td><td>0.58502665</td><td>-1</td><td>-0.58502665</td></tr>\n",
       "\t<tr><td>chr1</td><td>  1001781</td><td>  1002124</td><td>LINC01128</td><td>K562</td><td>-0.105528025</td><td>0.13092107</td><td>-0.80604312</td><td>0.42021799</td><td>0.34</td><td>0.46852108</td><td>-1</td><td>-0.46852108</td></tr>\n",
       "\t<tr><td>⋮</td><td>⋮</td><td>⋮</td><td>⋮</td><td>⋮</td><td>⋮</td><td>⋮</td><td>⋮</td><td>⋮</td><td>⋮</td><td>⋮</td><td>⋮</td><td>⋮</td></tr>\n",
       "\t<tr><td>chrX</td><td>81120673</td><td>81122490</td><td>SH3BGRL</td><td>K562</td><td>-0.039693798</td><td>0.04899653</td><td>-0.81013489</td><td>0.41786266</td><td>0.38</td><td>0.420216403</td><td>-1</td><td>-0.420216403</td></tr>\n",
       "\t<tr><td>chrX</td><td>81201560</td><td>81202959</td><td>BRWD3  </td><td>K562</td><td>-0.002879841</td><td>0.07375386</td><td>-0.03904665</td><td>0.96885319</td><td>0.92</td><td>0.036212173</td><td>-1</td><td>-0.036212173</td></tr>\n",
       "\t<tr><td>chrX</td><td>81201560</td><td>81202959</td><td>SH3BGRL</td><td>K562</td><td> 0.023909950</td><td>0.05056707</td><td> 0.47283639</td><td>0.63632991</td><td>0.58</td><td>0.236572006</td><td> 1</td><td> 0.236572006</td></tr>\n",
       "\t<tr><td>chrX</td><td>86047030</td><td>86048042</td><td>CHM    </td><td>K562</td><td> 0.028352005</td><td>0.09226765</td><td> 0.30728003</td><td>0.75863023</td><td>0.84</td><td>0.075720714</td><td> 1</td><td> 0.075720714</td></tr>\n",
       "\t<tr><td>chrX</td><td> 8987445</td><td> 8988879</td><td>TBL1X  </td><td>K562</td><td> 0.110469976</td><td>0.04542392</td><td> 2.43197799</td><td>0.01501662</td><td>0.10</td><td>1.000000000</td><td> 1</td><td> 1.000000000</td></tr>\n",
       "\t<tr><td>chrX</td><td> 9165682</td><td> 9166533</td><td>TBL1X  </td><td>K562</td><td>-0.002427509</td><td>0.07056889</td><td>-0.03439913</td><td>0.97255887</td><td>0.92</td><td>0.036212173</td><td>-1</td><td>-0.036212173</td></tr>\n",
       "\t<tr><td>chrX</td><td> 9165682</td><td> 9166533</td><td>WWC3   </td><td>K562</td><td>-0.137766851</td><td>0.17698495</td><td>-0.77840999</td><td>0.43632735</td><td>0.50</td><td>0.301029996</td><td>-1</td><td>-0.301029996</td></tr>\n",
       "\t<tr><td>chrX</td><td> 9340723</td><td> 9342264</td><td>TBL1X  </td><td>K562</td><td>-0.024044941</td><td>0.04478178</td><td>-0.53693583</td><td>0.59131194</td><td>0.66</td><td>0.180456064</td><td>-1</td><td>-0.180456064</td></tr>\n",
       "\t<tr><td>chrX</td><td> 9340723</td><td> 9342264</td><td>WWC3   </td><td>K562</td><td> 0.039053433</td><td>0.10319192</td><td> 0.37845438</td><td>0.70509308</td><td>0.62</td><td>0.207608311</td><td> 1</td><td> 0.207608311</td></tr>\n",
       "\t<tr><td>chrX</td><td> 9342388</td><td> 9343001</td><td>TBL1X  </td><td>K562</td><td>-0.034240626</td><td>0.06694391</td><td>-0.51148231</td><td>0.60901337</td><td>0.60</td><td>0.221848750</td><td>-1</td><td>-0.221848750</td></tr>\n",
       "\t<tr><td>chrX</td><td> 9342388</td><td> 9343001</td><td>WWC3   </td><td>K562</td><td> 0.051321636</td><td>0.15172674</td><td> 0.33825043</td><td>0.73517448</td><td>0.80</td><td>0.096910013</td><td> 1</td><td> 0.096910013</td></tr>\n",
       "\t<tr><td>chrX</td><td> 9351346</td><td> 9353059</td><td>TBL1X  </td><td>K562</td><td>-0.059995513</td><td>0.05594679</td><td>-1.07236736</td><td>0.28355506</td><td>0.50</td><td>0.301029996</td><td>-1</td><td>-0.301029996</td></tr>\n",
       "\t<tr><td>chrX</td><td> 9351346</td><td> 9353059</td><td>WWC3   </td><td>K562</td><td>-0.164737537</td><td>0.13725105</td><td>-1.20026433</td><td>0.23003670</td><td>0.22</td><td>0.657577319</td><td>-1</td><td>-0.657577319</td></tr>\n",
       "\t<tr><td>chrX</td><td> 9456197</td><td> 9457169</td><td>TBL1X  </td><td>K562</td><td> 0.040903420</td><td>0.04118282</td><td> 0.99321567</td><td>0.32060486</td><td>0.38</td><td>0.420216403</td><td> 1</td><td> 0.420216403</td></tr>\n",
       "\t<tr><td>chrX</td><td> 9456197</td><td> 9457169</td><td>WWC3   </td><td>K562</td><td>-0.066133897</td><td>0.10003724</td><td>-0.66109281</td><td>0.50855280</td><td>0.50</td><td>0.301029996</td><td>-1</td><td>-0.301029996</td></tr>\n",
       "\t<tr><td>chrX</td><td> 9462847</td><td> 9463506</td><td>TBL1X  </td><td>K562</td><td> 0.067223616</td><td>0.03806086</td><td> 1.76621362</td><td>0.07736002</td><td>0.20</td><td>0.698970004</td><td> 1</td><td> 0.698970004</td></tr>\n",
       "\t<tr><td>chrX</td><td> 9462847</td><td> 9463506</td><td>WWC3   </td><td>K562</td><td> 0.201124834</td><td>0.08681232</td><td> 2.31677744</td><td>0.02051586</td><td>0.04</td><td>1.397940009</td><td> 1</td><td> 1.397940009</td></tr>\n",
       "\t<tr><td>chrX</td><td> 9464706</td><td> 9466486</td><td>TBL1X  </td><td>K562</td><td> 0.072358151</td><td>0.03714697</td><td> 1.94788814</td><td>0.05142835</td><td>0.16</td><td>0.795880017</td><td> 1</td><td> 0.795880017</td></tr>\n",
       "\t<tr><td>chrX</td><td> 9464706</td><td> 9466486</td><td>WWC3   </td><td>K562</td><td> 0.019839998</td><td>0.08840882</td><td> 0.22441197</td><td>0.82243676</td><td>0.54</td><td>0.267606240</td><td> 1</td><td> 0.267606240</td></tr>\n",
       "\t<tr><td>chrX</td><td>96684339</td><td>96685600</td><td>DIAPH2 </td><td>K562</td><td> 0.089617408</td><td>0.04003304</td><td> 2.23858614</td><td>0.02518286</td><td>0.04</td><td>1.397940009</td><td> 1</td><td> 1.397940009</td></tr>\n",
       "\t<tr><td>chrX</td><td> 9708596</td><td> 9709470</td><td>TBL1X  </td><td>K562</td><td>-0.119609018</td><td>0.07335235</td><td>-1.63060925</td><td>0.10297280</td><td>0.26</td><td>0.585026652</td><td>-1</td><td>-0.585026652</td></tr>\n",
       "\t<tr><td>chrX</td><td> 9708596</td><td> 9709470</td><td>WWC3   </td><td>K562</td><td>-0.172290306</td><td>0.17671787</td><td>-0.97494560</td><td>0.32958725</td><td>0.46</td><td>0.337242168</td><td>-1</td><td>-0.337242168</td></tr>\n",
       "\t<tr><td>chrX</td><td>  989869</td><td>  990634</td><td>AKAP17A</td><td>K562</td><td>-0.004972893</td><td>0.05775609</td><td>-0.08610163</td><td>0.93138562</td><td>0.98</td><td>0.008773924</td><td>-1</td><td>-0.008773924</td></tr>\n",
       "\t<tr><td>chrX</td><td>  989869</td><td>  990634</td><td>ASMTL  </td><td>K562</td><td> 0.063090039</td><td>0.08123953</td><td> 0.77659282</td><td>0.43739904</td><td>0.48</td><td>0.318758763</td><td> 1</td><td> 0.318758763</td></tr>\n",
       "\t<tr><td>chrX</td><td>  989869</td><td>  990634</td><td>GTPBP6 </td><td>K562</td><td>-0.112919551</td><td>0.08193668</td><td>-1.37813180</td><td>0.16816260</td><td>0.22</td><td>0.657577319</td><td>-1</td><td>-0.657577319</td></tr>\n",
       "\t<tr><td>chrX</td><td>  989869</td><td>  990634</td><td>IL3RA  </td><td>K562</td><td> 0.115378676</td><td>0.09396539</td><td> 1.22788475</td><td>0.21949023</td><td>0.24</td><td>0.619788758</td><td> 1</td><td> 0.619788758</td></tr>\n",
       "\t<tr><td>chrX</td><td>  989869</td><td>  990634</td><td>P2RY8  </td><td>K562</td><td> 0.064718954</td><td>0.03094067</td><td> 2.09171177</td><td>0.03646431</td><td>0.08</td><td>1.096910013</td><td> 1</td><td> 1.096910013</td></tr>\n",
       "\t<tr><td>chrX</td><td>  989869</td><td>  990634</td><td>SLC25A6</td><td>K562</td><td>-0.027789986</td><td>0.02936103</td><td>-0.94649203</td><td>0.34389768</td><td>0.48</td><td>0.318758763</td><td>-1</td><td>-0.318758763</td></tr>\n",
       "\t<tr><td>chrX</td><td> 9995654</td><td> 9996371</td><td>TBL1X  </td><td>K562</td><td> 0.079528621</td><td>0.05576674</td><td> 1.42609426</td><td>0.15384113</td><td>0.26</td><td>0.585026652</td><td> 1</td><td> 0.585026652</td></tr>\n",
       "\t<tr><td>chrX</td><td> 9995654</td><td> 9996371</td><td>WWC3   </td><td>K562</td><td>-0.245984545</td><td>0.14974020</td><td>-1.64274222</td><td>0.10043628</td><td>0.12</td><td>0.920818754</td><td>-1</td><td>-0.920818754</td></tr>\n",
       "</tbody>\n",
       "</table>\n"
      ],
      "text/latex": [
       "A data.frame: 294559 × 13\n",
       "\\begin{tabular}{lllllllllllll}\n",
       " chr & start & end & TargetGene & CellType & beta & se & z & p & boot\\_basic\\_p & boot\\_basic\\_p.log10 & sign & boot\\_basic\\_p.log10.signed\\\\\n",
       " <fct> & <int> & <int> & <chr> & <chr> & <dbl> & <dbl> & <dbl> & <dbl> & <dbl> & <dbl> & <dbl> & <dbl>\\\\\n",
       "\\hline\n",
       "\t chr1 & 100037727 & 100039301 & AGL       & K562 & -0.018028345 & 0.07704658 & -0.23399281 & 0.81499056 & 0.90 & 0.04575749 & -1 & -0.04575749\\\\\n",
       "\t chr1 & 100037727 & 100039301 & CDC14A    & K562 & -0.026386266 & 0.01730990 & -1.52434560 & 0.12742240 & 0.36 & 0.44369750 & -1 & -0.44369750\\\\\n",
       "\t chr1 & 100037727 & 100039301 & DPH5      & K562 & -0.044270455 & 0.08588889 & -0.51543867 & 0.60624652 & 0.54 & 0.26760624 & -1 & -0.26760624\\\\\n",
       "\t chr1 & 100037727 & 100039301 & RTCA      & K562 & -0.145852737 & 0.08223827 & -1.77353848 & 0.07613952 & 0.04 & 1.39794001 & -1 & -1.39794001\\\\\n",
       "\t chr1 & 100037727 & 100039301 & SLC30A7   & K562 &  0.128447441 & 0.05368611 &  2.39256371 & 0.01673112 & 0.02 & 1.69897000 &  1 &  1.69897000\\\\\n",
       "\t chr1 & 100037727 & 100039301 & SLC35A3   & K562 &  0.118390906 & 0.09448021 &  1.25307628 & 0.21017795 & 0.14 & 0.85387196 &  1 &  0.85387196\\\\\n",
       "\t chr1 & 100037727 & 100039301 & TRMT13    & K562 & -0.069877083 & 0.07139430 & -0.97874880 & 0.32770412 & 0.32 & 0.49485002 & -1 & -0.49485002\\\\\n",
       "\t chr1 & 100046087 & 100047257 & AGL       & K562 & -0.043129167 & 0.15605640 & -0.27636909 & 0.78226459 & 0.72 & 0.14266750 & -1 & -0.14266750\\\\\n",
       "\t chr1 & 100046087 & 100047257 & CDC14A    & K562 & -0.039446550 & 0.03483769 & -1.13229511 & 0.25751039 & 0.46 & 0.33724217 & -1 & -0.33724217\\\\\n",
       "\t chr1 & 100046087 & 100047257 & DPH5      & K562 &  0.160204611 & 0.15910374 &  1.00691921 & 0.31397360 & 0.22 & 0.65757732 &  1 &  0.65757732\\\\\n",
       "\t chr1 & 100046087 & 100047257 & RTCA      & K562 &  0.142361211 & 0.15237834 &  0.93426145 & 0.35016904 & 0.26 & 0.58502665 &  1 &  0.58502665\\\\\n",
       "\t chr1 & 100046087 & 100047257 & SLC30A7   & K562 & -0.001785006 & 0.10370290 & -0.01721269 & 0.98626694 & 0.96 & 0.01772877 & -1 & -0.01772877\\\\\n",
       "\t chr1 & 100046087 & 100047257 & SLC35A3   & K562 &  0.248056669 & 0.16734114 &  1.48234123 & 0.13824952 & 0.10 & 1.00000000 &  1 &  1.00000000\\\\\n",
       "\t chr1 & 100046087 & 100047257 & TRMT13    & K562 & -0.013985442 & 0.14370239 & -0.09732226 & 0.92247048 & 0.94 & 0.02687215 & -1 & -0.02687215\\\\\n",
       "\t chr1 & 100132480 & 100133482 & AGL       & K562 & -0.124107210 & 0.07325936 & -1.69407980 & 0.09025012 & 0.10 & 1.00000000 & -1 & -1.00000000\\\\\n",
       "\t chr1 & 100132480 & 100133482 & CDC14A    & K562 &  0.014766139 & 0.01638375 &  0.90126709 & 0.36744633 & 0.66 & 0.18045606 &  1 &  0.18045606\\\\\n",
       "\t chr1 & 100132480 & 100133482 & DPH5      & K562 &  0.091290678 & 0.08144519 &  1.12088480 & 0.26233690 & 0.26 & 0.58502665 &  1 &  0.58502665\\\\\n",
       "\t chr1 & 100132480 & 100133482 & RTCA      & K562 & -0.133126807 & 0.07909927 & -1.68303458 & 0.09236840 & 0.10 & 1.00000000 & -1 & -1.00000000\\\\\n",
       "\t chr1 & 100132480 & 100133482 & SLC30A7   & K562 & -0.007933834 & 0.04955354 & -0.16010631 & 0.87279733 & 0.78 & 0.10790540 & -1 & -0.10790540\\\\\n",
       "\t chr1 & 100132480 & 100133482 & SLC35A3   & K562 &  0.109899627 & 0.08757005 &  1.25499100 & 0.20948203 & 0.30 & 0.52287875 &  1 &  0.52287875\\\\\n",
       "\t chr1 & 100132480 & 100133482 & TRMT13    & K562 &  0.010655300 & 0.06805933 &  0.15655898 & 0.87559243 & 0.80 & 0.09691001 &  1 &  0.09691001\\\\\n",
       "\t chr1 &   1001781 &   1002124 & AURKAIP1  & K562 &  0.010255977 & 0.07793504 &  0.13159648 & 0.89530347 & 0.94 & 0.02687215 &  1 &  0.02687215\\\\\n",
       "\t chr1 &   1001781 &   1002124 & C1orf159  & K562 &  0.124451204 & 0.12067339 &  1.03130607 & 0.30239731 & 0.48 & 0.31875876 &  1 &  0.31875876\\\\\n",
       "\t chr1 &   1001781 &   1002124 & CCNL2     & K562 &  0.037081092 & 0.06190709 &  0.59897968 & 0.54918643 & 0.60 & 0.22184875 &  1 &  0.22184875\\\\\n",
       "\t chr1 &   1001781 &   1002124 & CDK11A    & K562 &  0.183286425 & 0.11028478 &  1.66193754 & 0.09652530 & 0.04 & 1.39794001 &  1 &  1.39794001\\\\\n",
       "\t chr1 &   1001781 &   1002124 & CDK11B    & K562 &  0.132742012 & 0.05935039 &  2.23658202 & 0.02531367 & 0.02 & 1.69897000 &  1 &  1.69897000\\\\\n",
       "\t chr1 &   1001781 &   1002124 & GNB1      & K562 &  0.004536512 & 0.04524559 &  0.10026419 & 0.92013458 & 0.80 & 0.09691001 &  1 &  0.09691001\\\\\n",
       "\t chr1 &   1001781 &   1002124 & INTS11    & K562 & -0.137622049 & 0.09782783 & -1.40677812 & 0.15949319 & 0.26 & 0.58502665 & -1 & -0.58502665\\\\\n",
       "\t chr1 &   1001781 &   1002124 & ISG15     & K562 & -0.091660683 & 0.07124537 & -1.28654940 & 0.19825139 & 0.26 & 0.58502665 & -1 & -0.58502665\\\\\n",
       "\t chr1 &   1001781 &   1002124 & LINC01128 & K562 & -0.105528025 & 0.13092107 & -0.80604312 & 0.42021799 & 0.34 & 0.46852108 & -1 & -0.46852108\\\\\n",
       "\t ⋮ & ⋮ & ⋮ & ⋮ & ⋮ & ⋮ & ⋮ & ⋮ & ⋮ & ⋮ & ⋮ & ⋮ & ⋮\\\\\n",
       "\t chrX & 81120673 & 81122490 & SH3BGRL & K562 & -0.039693798 & 0.04899653 & -0.81013489 & 0.41786266 & 0.38 & 0.420216403 & -1 & -0.420216403\\\\\n",
       "\t chrX & 81201560 & 81202959 & BRWD3   & K562 & -0.002879841 & 0.07375386 & -0.03904665 & 0.96885319 & 0.92 & 0.036212173 & -1 & -0.036212173\\\\\n",
       "\t chrX & 81201560 & 81202959 & SH3BGRL & K562 &  0.023909950 & 0.05056707 &  0.47283639 & 0.63632991 & 0.58 & 0.236572006 &  1 &  0.236572006\\\\\n",
       "\t chrX & 86047030 & 86048042 & CHM     & K562 &  0.028352005 & 0.09226765 &  0.30728003 & 0.75863023 & 0.84 & 0.075720714 &  1 &  0.075720714\\\\\n",
       "\t chrX &  8987445 &  8988879 & TBL1X   & K562 &  0.110469976 & 0.04542392 &  2.43197799 & 0.01501662 & 0.10 & 1.000000000 &  1 &  1.000000000\\\\\n",
       "\t chrX &  9165682 &  9166533 & TBL1X   & K562 & -0.002427509 & 0.07056889 & -0.03439913 & 0.97255887 & 0.92 & 0.036212173 & -1 & -0.036212173\\\\\n",
       "\t chrX &  9165682 &  9166533 & WWC3    & K562 & -0.137766851 & 0.17698495 & -0.77840999 & 0.43632735 & 0.50 & 0.301029996 & -1 & -0.301029996\\\\\n",
       "\t chrX &  9340723 &  9342264 & TBL1X   & K562 & -0.024044941 & 0.04478178 & -0.53693583 & 0.59131194 & 0.66 & 0.180456064 & -1 & -0.180456064\\\\\n",
       "\t chrX &  9340723 &  9342264 & WWC3    & K562 &  0.039053433 & 0.10319192 &  0.37845438 & 0.70509308 & 0.62 & 0.207608311 &  1 &  0.207608311\\\\\n",
       "\t chrX &  9342388 &  9343001 & TBL1X   & K562 & -0.034240626 & 0.06694391 & -0.51148231 & 0.60901337 & 0.60 & 0.221848750 & -1 & -0.221848750\\\\\n",
       "\t chrX &  9342388 &  9343001 & WWC3    & K562 &  0.051321636 & 0.15172674 &  0.33825043 & 0.73517448 & 0.80 & 0.096910013 &  1 &  0.096910013\\\\\n",
       "\t chrX &  9351346 &  9353059 & TBL1X   & K562 & -0.059995513 & 0.05594679 & -1.07236736 & 0.28355506 & 0.50 & 0.301029996 & -1 & -0.301029996\\\\\n",
       "\t chrX &  9351346 &  9353059 & WWC3    & K562 & -0.164737537 & 0.13725105 & -1.20026433 & 0.23003670 & 0.22 & 0.657577319 & -1 & -0.657577319\\\\\n",
       "\t chrX &  9456197 &  9457169 & TBL1X   & K562 &  0.040903420 & 0.04118282 &  0.99321567 & 0.32060486 & 0.38 & 0.420216403 &  1 &  0.420216403\\\\\n",
       "\t chrX &  9456197 &  9457169 & WWC3    & K562 & -0.066133897 & 0.10003724 & -0.66109281 & 0.50855280 & 0.50 & 0.301029996 & -1 & -0.301029996\\\\\n",
       "\t chrX &  9462847 &  9463506 & TBL1X   & K562 &  0.067223616 & 0.03806086 &  1.76621362 & 0.07736002 & 0.20 & 0.698970004 &  1 &  0.698970004\\\\\n",
       "\t chrX &  9462847 &  9463506 & WWC3    & K562 &  0.201124834 & 0.08681232 &  2.31677744 & 0.02051586 & 0.04 & 1.397940009 &  1 &  1.397940009\\\\\n",
       "\t chrX &  9464706 &  9466486 & TBL1X   & K562 &  0.072358151 & 0.03714697 &  1.94788814 & 0.05142835 & 0.16 & 0.795880017 &  1 &  0.795880017\\\\\n",
       "\t chrX &  9464706 &  9466486 & WWC3    & K562 &  0.019839998 & 0.08840882 &  0.22441197 & 0.82243676 & 0.54 & 0.267606240 &  1 &  0.267606240\\\\\n",
       "\t chrX & 96684339 & 96685600 & DIAPH2  & K562 &  0.089617408 & 0.04003304 &  2.23858614 & 0.02518286 & 0.04 & 1.397940009 &  1 &  1.397940009\\\\\n",
       "\t chrX &  9708596 &  9709470 & TBL1X   & K562 & -0.119609018 & 0.07335235 & -1.63060925 & 0.10297280 & 0.26 & 0.585026652 & -1 & -0.585026652\\\\\n",
       "\t chrX &  9708596 &  9709470 & WWC3    & K562 & -0.172290306 & 0.17671787 & -0.97494560 & 0.32958725 & 0.46 & 0.337242168 & -1 & -0.337242168\\\\\n",
       "\t chrX &   989869 &   990634 & AKAP17A & K562 & -0.004972893 & 0.05775609 & -0.08610163 & 0.93138562 & 0.98 & 0.008773924 & -1 & -0.008773924\\\\\n",
       "\t chrX &   989869 &   990634 & ASMTL   & K562 &  0.063090039 & 0.08123953 &  0.77659282 & 0.43739904 & 0.48 & 0.318758763 &  1 &  0.318758763\\\\\n",
       "\t chrX &   989869 &   990634 & GTPBP6  & K562 & -0.112919551 & 0.08193668 & -1.37813180 & 0.16816260 & 0.22 & 0.657577319 & -1 & -0.657577319\\\\\n",
       "\t chrX &   989869 &   990634 & IL3RA   & K562 &  0.115378676 & 0.09396539 &  1.22788475 & 0.21949023 & 0.24 & 0.619788758 &  1 &  0.619788758\\\\\n",
       "\t chrX &   989869 &   990634 & P2RY8   & K562 &  0.064718954 & 0.03094067 &  2.09171177 & 0.03646431 & 0.08 & 1.096910013 &  1 &  1.096910013\\\\\n",
       "\t chrX &   989869 &   990634 & SLC25A6 & K562 & -0.027789986 & 0.02936103 & -0.94649203 & 0.34389768 & 0.48 & 0.318758763 & -1 & -0.318758763\\\\\n",
       "\t chrX &  9995654 &  9996371 & TBL1X   & K562 &  0.079528621 & 0.05576674 &  1.42609426 & 0.15384113 & 0.26 & 0.585026652 &  1 &  0.585026652\\\\\n",
       "\t chrX &  9995654 &  9996371 & WWC3    & K562 & -0.245984545 & 0.14974020 & -1.64274222 & 0.10043628 & 0.12 & 0.920818754 & -1 & -0.920818754\\\\\n",
       "\\end{tabular}\n"
      ],
      "text/markdown": [
       "\n",
       "A data.frame: 294559 × 13\n",
       "\n",
       "| chr &lt;fct&gt; | start &lt;int&gt; | end &lt;int&gt; | TargetGene &lt;chr&gt; | CellType &lt;chr&gt; | beta &lt;dbl&gt; | se &lt;dbl&gt; | z &lt;dbl&gt; | p &lt;dbl&gt; | boot_basic_p &lt;dbl&gt; | boot_basic_p.log10 &lt;dbl&gt; | sign &lt;dbl&gt; | boot_basic_p.log10.signed &lt;dbl&gt; |\n",
       "|---|---|---|---|---|---|---|---|---|---|---|---|---|\n",
       "| chr1 | 100037727 | 100039301 | AGL       | K562 | -0.018028345 | 0.07704658 | -0.23399281 | 0.81499056 | 0.90 | 0.04575749 | -1 | -0.04575749 |\n",
       "| chr1 | 100037727 | 100039301 | CDC14A    | K562 | -0.026386266 | 0.01730990 | -1.52434560 | 0.12742240 | 0.36 | 0.44369750 | -1 | -0.44369750 |\n",
       "| chr1 | 100037727 | 100039301 | DPH5      | K562 | -0.044270455 | 0.08588889 | -0.51543867 | 0.60624652 | 0.54 | 0.26760624 | -1 | -0.26760624 |\n",
       "| chr1 | 100037727 | 100039301 | RTCA      | K562 | -0.145852737 | 0.08223827 | -1.77353848 | 0.07613952 | 0.04 | 1.39794001 | -1 | -1.39794001 |\n",
       "| chr1 | 100037727 | 100039301 | SLC30A7   | K562 |  0.128447441 | 0.05368611 |  2.39256371 | 0.01673112 | 0.02 | 1.69897000 |  1 |  1.69897000 |\n",
       "| chr1 | 100037727 | 100039301 | SLC35A3   | K562 |  0.118390906 | 0.09448021 |  1.25307628 | 0.21017795 | 0.14 | 0.85387196 |  1 |  0.85387196 |\n",
       "| chr1 | 100037727 | 100039301 | TRMT13    | K562 | -0.069877083 | 0.07139430 | -0.97874880 | 0.32770412 | 0.32 | 0.49485002 | -1 | -0.49485002 |\n",
       "| chr1 | 100046087 | 100047257 | AGL       | K562 | -0.043129167 | 0.15605640 | -0.27636909 | 0.78226459 | 0.72 | 0.14266750 | -1 | -0.14266750 |\n",
       "| chr1 | 100046087 | 100047257 | CDC14A    | K562 | -0.039446550 | 0.03483769 | -1.13229511 | 0.25751039 | 0.46 | 0.33724217 | -1 | -0.33724217 |\n",
       "| chr1 | 100046087 | 100047257 | DPH5      | K562 |  0.160204611 | 0.15910374 |  1.00691921 | 0.31397360 | 0.22 | 0.65757732 |  1 |  0.65757732 |\n",
       "| chr1 | 100046087 | 100047257 | RTCA      | K562 |  0.142361211 | 0.15237834 |  0.93426145 | 0.35016904 | 0.26 | 0.58502665 |  1 |  0.58502665 |\n",
       "| chr1 | 100046087 | 100047257 | SLC30A7   | K562 | -0.001785006 | 0.10370290 | -0.01721269 | 0.98626694 | 0.96 | 0.01772877 | -1 | -0.01772877 |\n",
       "| chr1 | 100046087 | 100047257 | SLC35A3   | K562 |  0.248056669 | 0.16734114 |  1.48234123 | 0.13824952 | 0.10 | 1.00000000 |  1 |  1.00000000 |\n",
       "| chr1 | 100046087 | 100047257 | TRMT13    | K562 | -0.013985442 | 0.14370239 | -0.09732226 | 0.92247048 | 0.94 | 0.02687215 | -1 | -0.02687215 |\n",
       "| chr1 | 100132480 | 100133482 | AGL       | K562 | -0.124107210 | 0.07325936 | -1.69407980 | 0.09025012 | 0.10 | 1.00000000 | -1 | -1.00000000 |\n",
       "| chr1 | 100132480 | 100133482 | CDC14A    | K562 |  0.014766139 | 0.01638375 |  0.90126709 | 0.36744633 | 0.66 | 0.18045606 |  1 |  0.18045606 |\n",
       "| chr1 | 100132480 | 100133482 | DPH5      | K562 |  0.091290678 | 0.08144519 |  1.12088480 | 0.26233690 | 0.26 | 0.58502665 |  1 |  0.58502665 |\n",
       "| chr1 | 100132480 | 100133482 | RTCA      | K562 | -0.133126807 | 0.07909927 | -1.68303458 | 0.09236840 | 0.10 | 1.00000000 | -1 | -1.00000000 |\n",
       "| chr1 | 100132480 | 100133482 | SLC30A7   | K562 | -0.007933834 | 0.04955354 | -0.16010631 | 0.87279733 | 0.78 | 0.10790540 | -1 | -0.10790540 |\n",
       "| chr1 | 100132480 | 100133482 | SLC35A3   | K562 |  0.109899627 | 0.08757005 |  1.25499100 | 0.20948203 | 0.30 | 0.52287875 |  1 |  0.52287875 |\n",
       "| chr1 | 100132480 | 100133482 | TRMT13    | K562 |  0.010655300 | 0.06805933 |  0.15655898 | 0.87559243 | 0.80 | 0.09691001 |  1 |  0.09691001 |\n",
       "| chr1 |   1001781 |   1002124 | AURKAIP1  | K562 |  0.010255977 | 0.07793504 |  0.13159648 | 0.89530347 | 0.94 | 0.02687215 |  1 |  0.02687215 |\n",
       "| chr1 |   1001781 |   1002124 | C1orf159  | K562 |  0.124451204 | 0.12067339 |  1.03130607 | 0.30239731 | 0.48 | 0.31875876 |  1 |  0.31875876 |\n",
       "| chr1 |   1001781 |   1002124 | CCNL2     | K562 |  0.037081092 | 0.06190709 |  0.59897968 | 0.54918643 | 0.60 | 0.22184875 |  1 |  0.22184875 |\n",
       "| chr1 |   1001781 |   1002124 | CDK11A    | K562 |  0.183286425 | 0.11028478 |  1.66193754 | 0.09652530 | 0.04 | 1.39794001 |  1 |  1.39794001 |\n",
       "| chr1 |   1001781 |   1002124 | CDK11B    | K562 |  0.132742012 | 0.05935039 |  2.23658202 | 0.02531367 | 0.02 | 1.69897000 |  1 |  1.69897000 |\n",
       "| chr1 |   1001781 |   1002124 | GNB1      | K562 |  0.004536512 | 0.04524559 |  0.10026419 | 0.92013458 | 0.80 | 0.09691001 |  1 |  0.09691001 |\n",
       "| chr1 |   1001781 |   1002124 | INTS11    | K562 | -0.137622049 | 0.09782783 | -1.40677812 | 0.15949319 | 0.26 | 0.58502665 | -1 | -0.58502665 |\n",
       "| chr1 |   1001781 |   1002124 | ISG15     | K562 | -0.091660683 | 0.07124537 | -1.28654940 | 0.19825139 | 0.26 | 0.58502665 | -1 | -0.58502665 |\n",
       "| chr1 |   1001781 |   1002124 | LINC01128 | K562 | -0.105528025 | 0.13092107 | -0.80604312 | 0.42021799 | 0.34 | 0.46852108 | -1 | -0.46852108 |\n",
       "| ⋮ | ⋮ | ⋮ | ⋮ | ⋮ | ⋮ | ⋮ | ⋮ | ⋮ | ⋮ | ⋮ | ⋮ | ⋮ |\n",
       "| chrX | 81120673 | 81122490 | SH3BGRL | K562 | -0.039693798 | 0.04899653 | -0.81013489 | 0.41786266 | 0.38 | 0.420216403 | -1 | -0.420216403 |\n",
       "| chrX | 81201560 | 81202959 | BRWD3   | K562 | -0.002879841 | 0.07375386 | -0.03904665 | 0.96885319 | 0.92 | 0.036212173 | -1 | -0.036212173 |\n",
       "| chrX | 81201560 | 81202959 | SH3BGRL | K562 |  0.023909950 | 0.05056707 |  0.47283639 | 0.63632991 | 0.58 | 0.236572006 |  1 |  0.236572006 |\n",
       "| chrX | 86047030 | 86048042 | CHM     | K562 |  0.028352005 | 0.09226765 |  0.30728003 | 0.75863023 | 0.84 | 0.075720714 |  1 |  0.075720714 |\n",
       "| chrX |  8987445 |  8988879 | TBL1X   | K562 |  0.110469976 | 0.04542392 |  2.43197799 | 0.01501662 | 0.10 | 1.000000000 |  1 |  1.000000000 |\n",
       "| chrX |  9165682 |  9166533 | TBL1X   | K562 | -0.002427509 | 0.07056889 | -0.03439913 | 0.97255887 | 0.92 | 0.036212173 | -1 | -0.036212173 |\n",
       "| chrX |  9165682 |  9166533 | WWC3    | K562 | -0.137766851 | 0.17698495 | -0.77840999 | 0.43632735 | 0.50 | 0.301029996 | -1 | -0.301029996 |\n",
       "| chrX |  9340723 |  9342264 | TBL1X   | K562 | -0.024044941 | 0.04478178 | -0.53693583 | 0.59131194 | 0.66 | 0.180456064 | -1 | -0.180456064 |\n",
       "| chrX |  9340723 |  9342264 | WWC3    | K562 |  0.039053433 | 0.10319192 |  0.37845438 | 0.70509308 | 0.62 | 0.207608311 |  1 |  0.207608311 |\n",
       "| chrX |  9342388 |  9343001 | TBL1X   | K562 | -0.034240626 | 0.06694391 | -0.51148231 | 0.60901337 | 0.60 | 0.221848750 | -1 | -0.221848750 |\n",
       "| chrX |  9342388 |  9343001 | WWC3    | K562 |  0.051321636 | 0.15172674 |  0.33825043 | 0.73517448 | 0.80 | 0.096910013 |  1 |  0.096910013 |\n",
       "| chrX |  9351346 |  9353059 | TBL1X   | K562 | -0.059995513 | 0.05594679 | -1.07236736 | 0.28355506 | 0.50 | 0.301029996 | -1 | -0.301029996 |\n",
       "| chrX |  9351346 |  9353059 | WWC3    | K562 | -0.164737537 | 0.13725105 | -1.20026433 | 0.23003670 | 0.22 | 0.657577319 | -1 | -0.657577319 |\n",
       "| chrX |  9456197 |  9457169 | TBL1X   | K562 |  0.040903420 | 0.04118282 |  0.99321567 | 0.32060486 | 0.38 | 0.420216403 |  1 |  0.420216403 |\n",
       "| chrX |  9456197 |  9457169 | WWC3    | K562 | -0.066133897 | 0.10003724 | -0.66109281 | 0.50855280 | 0.50 | 0.301029996 | -1 | -0.301029996 |\n",
       "| chrX |  9462847 |  9463506 | TBL1X   | K562 |  0.067223616 | 0.03806086 |  1.76621362 | 0.07736002 | 0.20 | 0.698970004 |  1 |  0.698970004 |\n",
       "| chrX |  9462847 |  9463506 | WWC3    | K562 |  0.201124834 | 0.08681232 |  2.31677744 | 0.02051586 | 0.04 | 1.397940009 |  1 |  1.397940009 |\n",
       "| chrX |  9464706 |  9466486 | TBL1X   | K562 |  0.072358151 | 0.03714697 |  1.94788814 | 0.05142835 | 0.16 | 0.795880017 |  1 |  0.795880017 |\n",
       "| chrX |  9464706 |  9466486 | WWC3    | K562 |  0.019839998 | 0.08840882 |  0.22441197 | 0.82243676 | 0.54 | 0.267606240 |  1 |  0.267606240 |\n",
       "| chrX | 96684339 | 96685600 | DIAPH2  | K562 |  0.089617408 | 0.04003304 |  2.23858614 | 0.02518286 | 0.04 | 1.397940009 |  1 |  1.397940009 |\n",
       "| chrX |  9708596 |  9709470 | TBL1X   | K562 | -0.119609018 | 0.07335235 | -1.63060925 | 0.10297280 | 0.26 | 0.585026652 | -1 | -0.585026652 |\n",
       "| chrX |  9708596 |  9709470 | WWC3    | K562 | -0.172290306 | 0.17671787 | -0.97494560 | 0.32958725 | 0.46 | 0.337242168 | -1 | -0.337242168 |\n",
       "| chrX |   989869 |   990634 | AKAP17A | K562 | -0.004972893 | 0.05775609 | -0.08610163 | 0.93138562 | 0.98 | 0.008773924 | -1 | -0.008773924 |\n",
       "| chrX |   989869 |   990634 | ASMTL   | K562 |  0.063090039 | 0.08123953 |  0.77659282 | 0.43739904 | 0.48 | 0.318758763 |  1 |  0.318758763 |\n",
       "| chrX |   989869 |   990634 | GTPBP6  | K562 | -0.112919551 | 0.08193668 | -1.37813180 | 0.16816260 | 0.22 | 0.657577319 | -1 | -0.657577319 |\n",
       "| chrX |   989869 |   990634 | IL3RA   | K562 |  0.115378676 | 0.09396539 |  1.22788475 | 0.21949023 | 0.24 | 0.619788758 |  1 |  0.619788758 |\n",
       "| chrX |   989869 |   990634 | P2RY8   | K562 |  0.064718954 | 0.03094067 |  2.09171177 | 0.03646431 | 0.08 | 1.096910013 |  1 |  1.096910013 |\n",
       "| chrX |   989869 |   990634 | SLC25A6 | K562 | -0.027789986 | 0.02936103 | -0.94649203 | 0.34389768 | 0.48 | 0.318758763 | -1 | -0.318758763 |\n",
       "| chrX |  9995654 |  9996371 | TBL1X   | K562 |  0.079528621 | 0.05576674 |  1.42609426 | 0.15384113 | 0.26 | 0.585026652 |  1 |  0.585026652 |\n",
       "| chrX |  9995654 |  9996371 | WWC3    | K562 | -0.245984545 | 0.14974020 | -1.64274222 | 0.10043628 | 0.12 | 0.920818754 | -1 | -0.920818754 |\n",
       "\n"
      ],
      "text/plain": [
       "       chr  start     end       TargetGene CellType beta         se        \n",
       "1      chr1 100037727 100039301 AGL        K562     -0.018028345 0.07704658\n",
       "2      chr1 100037727 100039301 CDC14A     K562     -0.026386266 0.01730990\n",
       "3      chr1 100037727 100039301 DPH5       K562     -0.044270455 0.08588889\n",
       "4      chr1 100037727 100039301 RTCA       K562     -0.145852737 0.08223827\n",
       "5      chr1 100037727 100039301 SLC30A7    K562      0.128447441 0.05368611\n",
       "6      chr1 100037727 100039301 SLC35A3    K562      0.118390906 0.09448021\n",
       "7      chr1 100037727 100039301 TRMT13     K562     -0.069877083 0.07139430\n",
       "8      chr1 100046087 100047257 AGL        K562     -0.043129167 0.15605640\n",
       "9      chr1 100046087 100047257 CDC14A     K562     -0.039446550 0.03483769\n",
       "10     chr1 100046087 100047257 DPH5       K562      0.160204611 0.15910374\n",
       "11     chr1 100046087 100047257 RTCA       K562      0.142361211 0.15237834\n",
       "12     chr1 100046087 100047257 SLC30A7    K562     -0.001785006 0.10370290\n",
       "13     chr1 100046087 100047257 SLC35A3    K562      0.248056669 0.16734114\n",
       "14     chr1 100046087 100047257 TRMT13     K562     -0.013985442 0.14370239\n",
       "15     chr1 100132480 100133482 AGL        K562     -0.124107210 0.07325936\n",
       "16     chr1 100132480 100133482 CDC14A     K562      0.014766139 0.01638375\n",
       "17     chr1 100132480 100133482 DPH5       K562      0.091290678 0.08144519\n",
       "18     chr1 100132480 100133482 RTCA       K562     -0.133126807 0.07909927\n",
       "19     chr1 100132480 100133482 SLC30A7    K562     -0.007933834 0.04955354\n",
       "20     chr1 100132480 100133482 SLC35A3    K562      0.109899627 0.08757005\n",
       "21     chr1 100132480 100133482 TRMT13     K562      0.010655300 0.06805933\n",
       "22     chr1   1001781   1002124 AURKAIP1   K562      0.010255977 0.07793504\n",
       "23     chr1   1001781   1002124 C1orf159   K562      0.124451204 0.12067339\n",
       "24     chr1   1001781   1002124 CCNL2      K562      0.037081092 0.06190709\n",
       "25     chr1   1001781   1002124 CDK11A     K562      0.183286425 0.11028478\n",
       "26     chr1   1001781   1002124 CDK11B     K562      0.132742012 0.05935039\n",
       "27     chr1   1001781   1002124 GNB1       K562      0.004536512 0.04524559\n",
       "28     chr1   1001781   1002124 INTS11     K562     -0.137622049 0.09782783\n",
       "29     chr1   1001781   1002124 ISG15      K562     -0.091660683 0.07124537\n",
       "30     chr1   1001781   1002124 LINC01128  K562     -0.105528025 0.13092107\n",
       "⋮      ⋮    ⋮         ⋮         ⋮          ⋮        ⋮            ⋮         \n",
       "294530 chrX 81120673  81122490  SH3BGRL    K562     -0.039693798 0.04899653\n",
       "294531 chrX 81201560  81202959  BRWD3      K562     -0.002879841 0.07375386\n",
       "294532 chrX 81201560  81202959  SH3BGRL    K562      0.023909950 0.05056707\n",
       "294533 chrX 86047030  86048042  CHM        K562      0.028352005 0.09226765\n",
       "294534 chrX  8987445   8988879  TBL1X      K562      0.110469976 0.04542392\n",
       "294535 chrX  9165682   9166533  TBL1X      K562     -0.002427509 0.07056889\n",
       "294536 chrX  9165682   9166533  WWC3       K562     -0.137766851 0.17698495\n",
       "294537 chrX  9340723   9342264  TBL1X      K562     -0.024044941 0.04478178\n",
       "294538 chrX  9340723   9342264  WWC3       K562      0.039053433 0.10319192\n",
       "294539 chrX  9342388   9343001  TBL1X      K562     -0.034240626 0.06694391\n",
       "294540 chrX  9342388   9343001  WWC3       K562      0.051321636 0.15172674\n",
       "294541 chrX  9351346   9353059  TBL1X      K562     -0.059995513 0.05594679\n",
       "294542 chrX  9351346   9353059  WWC3       K562     -0.164737537 0.13725105\n",
       "294543 chrX  9456197   9457169  TBL1X      K562      0.040903420 0.04118282\n",
       "294544 chrX  9456197   9457169  WWC3       K562     -0.066133897 0.10003724\n",
       "294545 chrX  9462847   9463506  TBL1X      K562      0.067223616 0.03806086\n",
       "294546 chrX  9462847   9463506  WWC3       K562      0.201124834 0.08681232\n",
       "294547 chrX  9464706   9466486  TBL1X      K562      0.072358151 0.03714697\n",
       "294548 chrX  9464706   9466486  WWC3       K562      0.019839998 0.08840882\n",
       "294549 chrX 96684339  96685600  DIAPH2     K562      0.089617408 0.04003304\n",
       "294550 chrX  9708596   9709470  TBL1X      K562     -0.119609018 0.07335235\n",
       "294551 chrX  9708596   9709470  WWC3       K562     -0.172290306 0.17671787\n",
       "294552 chrX   989869    990634  AKAP17A    K562     -0.004972893 0.05775609\n",
       "294553 chrX   989869    990634  ASMTL      K562      0.063090039 0.08123953\n",
       "294554 chrX   989869    990634  GTPBP6     K562     -0.112919551 0.08193668\n",
       "294555 chrX   989869    990634  IL3RA      K562      0.115378676 0.09396539\n",
       "294556 chrX   989869    990634  P2RY8      K562      0.064718954 0.03094067\n",
       "294557 chrX   989869    990634  SLC25A6    K562     -0.027789986 0.02936103\n",
       "294558 chrX  9995654   9996371  TBL1X      K562      0.079528621 0.05576674\n",
       "294559 chrX  9995654   9996371  WWC3       K562     -0.245984545 0.14974020\n",
       "       z           p          boot_basic_p boot_basic_p.log10 sign\n",
       "1      -0.23399281 0.81499056 0.90         0.04575749         -1  \n",
       "2      -1.52434560 0.12742240 0.36         0.44369750         -1  \n",
       "3      -0.51543867 0.60624652 0.54         0.26760624         -1  \n",
       "4      -1.77353848 0.07613952 0.04         1.39794001         -1  \n",
       "5       2.39256371 0.01673112 0.02         1.69897000          1  \n",
       "6       1.25307628 0.21017795 0.14         0.85387196          1  \n",
       "7      -0.97874880 0.32770412 0.32         0.49485002         -1  \n",
       "8      -0.27636909 0.78226459 0.72         0.14266750         -1  \n",
       "9      -1.13229511 0.25751039 0.46         0.33724217         -1  \n",
       "10      1.00691921 0.31397360 0.22         0.65757732          1  \n",
       "11      0.93426145 0.35016904 0.26         0.58502665          1  \n",
       "12     -0.01721269 0.98626694 0.96         0.01772877         -1  \n",
       "13      1.48234123 0.13824952 0.10         1.00000000          1  \n",
       "14     -0.09732226 0.92247048 0.94         0.02687215         -1  \n",
       "15     -1.69407980 0.09025012 0.10         1.00000000         -1  \n",
       "16      0.90126709 0.36744633 0.66         0.18045606          1  \n",
       "17      1.12088480 0.26233690 0.26         0.58502665          1  \n",
       "18     -1.68303458 0.09236840 0.10         1.00000000         -1  \n",
       "19     -0.16010631 0.87279733 0.78         0.10790540         -1  \n",
       "20      1.25499100 0.20948203 0.30         0.52287875          1  \n",
       "21      0.15655898 0.87559243 0.80         0.09691001          1  \n",
       "22      0.13159648 0.89530347 0.94         0.02687215          1  \n",
       "23      1.03130607 0.30239731 0.48         0.31875876          1  \n",
       "24      0.59897968 0.54918643 0.60         0.22184875          1  \n",
       "25      1.66193754 0.09652530 0.04         1.39794001          1  \n",
       "26      2.23658202 0.02531367 0.02         1.69897000          1  \n",
       "27      0.10026419 0.92013458 0.80         0.09691001          1  \n",
       "28     -1.40677812 0.15949319 0.26         0.58502665         -1  \n",
       "29     -1.28654940 0.19825139 0.26         0.58502665         -1  \n",
       "30     -0.80604312 0.42021799 0.34         0.46852108         -1  \n",
       "⋮      ⋮           ⋮          ⋮            ⋮                  ⋮   \n",
       "294530 -0.81013489 0.41786266 0.38         0.420216403        -1  \n",
       "294531 -0.03904665 0.96885319 0.92         0.036212173        -1  \n",
       "294532  0.47283639 0.63632991 0.58         0.236572006         1  \n",
       "294533  0.30728003 0.75863023 0.84         0.075720714         1  \n",
       "294534  2.43197799 0.01501662 0.10         1.000000000         1  \n",
       "294535 -0.03439913 0.97255887 0.92         0.036212173        -1  \n",
       "294536 -0.77840999 0.43632735 0.50         0.301029996        -1  \n",
       "294537 -0.53693583 0.59131194 0.66         0.180456064        -1  \n",
       "294538  0.37845438 0.70509308 0.62         0.207608311         1  \n",
       "294539 -0.51148231 0.60901337 0.60         0.221848750        -1  \n",
       "294540  0.33825043 0.73517448 0.80         0.096910013         1  \n",
       "294541 -1.07236736 0.28355506 0.50         0.301029996        -1  \n",
       "294542 -1.20026433 0.23003670 0.22         0.657577319        -1  \n",
       "294543  0.99321567 0.32060486 0.38         0.420216403         1  \n",
       "294544 -0.66109281 0.50855280 0.50         0.301029996        -1  \n",
       "294545  1.76621362 0.07736002 0.20         0.698970004         1  \n",
       "294546  2.31677744 0.02051586 0.04         1.397940009         1  \n",
       "294547  1.94788814 0.05142835 0.16         0.795880017         1  \n",
       "294548  0.22441197 0.82243676 0.54         0.267606240         1  \n",
       "294549  2.23858614 0.02518286 0.04         1.397940009         1  \n",
       "294550 -1.63060925 0.10297280 0.26         0.585026652        -1  \n",
       "294551 -0.97494560 0.32958725 0.46         0.337242168        -1  \n",
       "294552 -0.08610163 0.93138562 0.98         0.008773924        -1  \n",
       "294553  0.77659282 0.43739904 0.48         0.318758763         1  \n",
       "294554 -1.37813180 0.16816260 0.22         0.657577319        -1  \n",
       "294555  1.22788475 0.21949023 0.24         0.619788758         1  \n",
       "294556  2.09171177 0.03646431 0.08         1.096910013         1  \n",
       "294557 -0.94649203 0.34389768 0.48         0.318758763        -1  \n",
       "294558  1.42609426 0.15384113 0.26         0.585026652         1  \n",
       "294559 -1.64274222 0.10043628 0.12         0.920818754        -1  \n",
       "       boot_basic_p.log10.signed\n",
       "1      -0.04575749              \n",
       "2      -0.44369750              \n",
       "3      -0.26760624              \n",
       "4      -1.39794001              \n",
       "5       1.69897000              \n",
       "6       0.85387196              \n",
       "7      -0.49485002              \n",
       "8      -0.14266750              \n",
       "9      -0.33724217              \n",
       "10      0.65757732              \n",
       "11      0.58502665              \n",
       "12     -0.01772877              \n",
       "13      1.00000000              \n",
       "14     -0.02687215              \n",
       "15     -1.00000000              \n",
       "16      0.18045606              \n",
       "17      0.58502665              \n",
       "18     -1.00000000              \n",
       "19     -0.10790540              \n",
       "20      0.52287875              \n",
       "21      0.09691001              \n",
       "22      0.02687215              \n",
       "23      0.31875876              \n",
       "24      0.22184875              \n",
       "25      1.39794001              \n",
       "26      1.69897000              \n",
       "27      0.09691001              \n",
       "28     -0.58502665              \n",
       "29     -0.58502665              \n",
       "30     -0.46852108              \n",
       "⋮      ⋮                        \n",
       "294530 -0.420216403             \n",
       "294531 -0.036212173             \n",
       "294532  0.236572006             \n",
       "294533  0.075720714             \n",
       "294534  1.000000000             \n",
       "294535 -0.036212173             \n",
       "294536 -0.301029996             \n",
       "294537 -0.180456064             \n",
       "294538  0.207608311             \n",
       "294539 -0.221848750             \n",
       "294540  0.096910013             \n",
       "294541 -0.301029996             \n",
       "294542 -0.657577319             \n",
       "294543  0.420216403             \n",
       "294544 -0.301029996             \n",
       "294545  0.698970004             \n",
       "294546  1.397940009             \n",
       "294547  0.795880017             \n",
       "294548  0.267606240             \n",
       "294549  1.397940009             \n",
       "294550 -0.585026652             \n",
       "294551 -0.337242168             \n",
       "294552 -0.008773924             \n",
       "294553  0.318758763             \n",
       "294554 -0.657577319             \n",
       "294555  0.619788758             \n",
       "294556  1.096910013             \n",
       "294557 -0.318758763             \n",
       "294558  0.585026652             \n",
       "294559 -0.920818754             "
      ]
     },
     "metadata": {},
     "output_type": "display_data"
    }
   ],
   "source": [
    "df.output = as.data.frame(pairs.E2G.res,row.names = NULL)\n",
    "colnames(df.output)[1] = \"chr\"\n",
    "df.output[,\"CellType\"] = \"K562\"\n",
    "df.output = df.output[,c(\"chr\",\n",
    "                         \"start\",\n",
    "                         \"end\",\n",
    "                         \"TargetGene\",\n",
    "                         \"CellType\",\n",
    "                         \"beta\",\"se\",\"z\",\"p\",\"boot_basic_p\",\n",
    "                         \"boot_basic_p.log10\",\n",
    "                         \"sign\",\n",
    "                         \"boot_basic_p.log10.signed\")]\n",
    "data.table::fwrite(df.output,\n",
    "                   file = paste(dir.output,\"pairs.E2G.res.tsv.gz\",sep = \"/\"),\n",
    "                   row.names = F,\n",
    "                   quote = F,\n",
    "                   sep = \"\\t\")\n",
    "df.output"
   ]
  },
  {
   "cell_type": "code",
   "execution_count": 19,
   "id": "4d77c58e-215a-408d-8495-c68c72f559c3",
   "metadata": {},
   "outputs": [
    {
     "data": {
      "text/plain": [
       "R version 4.3.3 (2024-02-29)\n",
       "Platform: x86_64-conda-linux-gnu (64-bit)\n",
       "Running under: Red Hat Enterprise Linux 8.10 (Ootpa)\n",
       "\n",
       "Matrix products: default\n",
       "BLAS/LAPACK: /maps/projects/ralab/people/lpm537/software/anaconda3/envs/Notebook_E2G_240505/lib/libopenblasp-r0.3.27.so;  LAPACK version 3.12.0\n",
       "\n",
       "locale:\n",
       " [1] LC_CTYPE=en_US.UTF-8       LC_NUMERIC=C              \n",
       " [3] LC_TIME=en_US.UTF-8        LC_COLLATE=en_US.UTF-8    \n",
       " [5] LC_MONETARY=en_US.UTF-8    LC_MESSAGES=en_US.UTF-8   \n",
       " [7] LC_PAPER=en_US.UTF-8       LC_NAME=C                 \n",
       " [9] LC_ADDRESS=C               LC_TELEPHONE=C            \n",
       "[11] LC_MEASUREMENT=en_US.UTF-8 LC_IDENTIFICATION=C       \n",
       "\n",
       "time zone: Europe/Copenhagen\n",
       "tzcode source: system (glibc)\n",
       "\n",
       "attached base packages:\n",
       " [1] parallel  stats4    grid      stats     graphics  grDevices utils    \n",
       " [8] datasets  methods   base     \n",
       "\n",
       "other attached packages:\n",
       "[1] Matrix_1.6-5         GenomicRanges_1.54.1 GenomeInfoDb_1.38.1 \n",
       "[4] IRanges_2.36.0       S4Vectors_0.40.2     BiocGenerics_0.48.1 \n",
       "[7] genomation_1.34.0    Signac_1.13.0        SCENT_1.0.0         \n",
       "\n",
       "loaded via a namespace (and not attached):\n",
       "  [1] rstudioapi_0.16.0           jsonlite_1.8.8             \n",
       "  [3] magrittr_2.0.3              nloptr_2.0.3               \n",
       "  [5] rmarkdown_2.26              BiocIO_1.10.0              \n",
       "  [7] zlibbioc_1.48.0             vctrs_0.6.5                \n",
       "  [9] minqa_1.2.6                 Rsamtools_2.18.0           \n",
       " [11] RCurl_1.98-1.14             base64enc_0.1-3            \n",
       " [13] RcppRoll_0.3.0              htmltools_0.5.8.1          \n",
       " [15] S4Arrays_1.2.1              plotrix_3.8-4              \n",
       " [17] Formula_1.2-5               parallelly_1.37.1          \n",
       " [19] KernSmooth_2.23-22          htmlwidgets_1.6.4          \n",
       " [21] plyr_1.8.9                  impute_1.76.0              \n",
       " [23] uuid_1.2-0                  GenomicAlignments_1.36.0   \n",
       " [25] lifecycle_1.0.4             pkgconfig_2.0.3            \n",
       " [27] R6_2.5.1                    fastmap_1.1.1              \n",
       " [29] GenomeInfoDbData_1.2.11     MatrixGenerics_1.12.3      \n",
       " [31] future_1.33.2               digest_0.6.35              \n",
       " [33] colorspace_2.1-0            patchwork_1.2.0            \n",
       " [35] irlba_2.3.5.1               Hmisc_5.1-2                \n",
       " [37] progressr_0.14.0            fansi_1.0.6                \n",
       " [39] abind_1.4-5                 compiler_4.3.3             \n",
       " [41] bit64_4.0.5                 htmlTable_2.4.2            \n",
       " [43] backports_1.4.1             BiocParallel_1.36.0        \n",
       " [45] R.utils_2.12.3              MASS_7.3-60                \n",
       " [47] DelayedArray_0.26.7         rjson_0.2.21               \n",
       " [49] tools_4.3.3                 foreign_0.8-86             \n",
       " [51] future.apply_1.11.2         nnet_7.3-19                \n",
       " [53] R.oo_1.26.0                 glue_1.7.0                 \n",
       " [55] restfulr_0.0.15             nlme_3.1-164               \n",
       " [57] pbdZMQ_0.3-11               checkmate_2.3.1            \n",
       " [59] gridBase_0.4-7              cluster_2.1.6              \n",
       " [61] reshape2_1.4.4              generics_0.1.3             \n",
       " [63] gtable_0.3.5                BSgenome_1.68.0            \n",
       " [65] tzdb_0.4.0                  R.methodsS3_1.8.2          \n",
       " [67] tidyr_1.3.1                 seqPattern_1.34.0          \n",
       " [69] data.table_1.15.2           hms_1.1.3                  \n",
       " [71] sp_2.1-4                    utf8_1.2.4                 \n",
       " [73] XVector_0.42.0              pillar_1.9.0               \n",
       " [75] stringr_1.5.1               vroom_1.6.5                \n",
       " [77] spam_2.10-0                 IRdisplay_1.1              \n",
       " [79] splines_4.3.3               dplyr_1.1.4                \n",
       " [81] lattice_0.22-6              bit_4.0.5                  \n",
       " [83] rtracklayer_1.60.1          tidyselect_1.2.1           \n",
       " [85] Biostrings_2.70.1           pbapply_1.7-2              \n",
       " [87] knitr_1.46                  gridExtra_2.3              \n",
       " [89] SummarizedExperiment_1.30.2 xfun_0.43                  \n",
       " [91] Biobase_2.60.0              matrixStats_1.3.0          \n",
       " [93] stringi_1.8.3               yaml_2.3.8                 \n",
       " [95] boot_1.3-30                 evaluate_0.23              \n",
       " [97] codetools_0.2-20            tibble_3.2.1               \n",
       " [99] cli_3.6.2                   IRkernel_1.3.2             \n",
       "[101] rpart_4.1.23                repr_1.1.7                 \n",
       "[103] munsell_0.5.1               Rcpp_1.0.12                \n",
       "[105] globals_0.16.3              XML_3.99-0.16.1            \n",
       "[107] ggplot2_3.5.1               readr_2.1.5                \n",
       "[109] dotCall64_1.1-1             bitops_1.0-7               \n",
       "[111] lme4_1.1-35.3               listenv_0.9.1              \n",
       "[113] scales_1.3.0                SeuratObject_5.0.1         \n",
       "[115] purrr_1.0.2                 crayon_1.5.2               \n",
       "[117] rlang_1.1.3                 fastmatch_1.1-4            "
      ]
     },
     "metadata": {},
     "output_type": "display_data"
    }
   ],
   "source": [
    "sessionInfo()"
   ]
  },
  {
   "cell_type": "code",
   "execution_count": null,
   "id": "3c1a0283-11d6-4df1-bbd8-7b47e9e8ead8",
   "metadata": {},
   "outputs": [],
   "source": []
  }
 ],
 "metadata": {
  "kernelspec": {
   "display_name": "R",
   "language": "R",
   "name": "ir"
  },
  "language_info": {
   "codemirror_mode": "r",
   "file_extension": ".r",
   "mimetype": "text/x-r-source",
   "name": "R",
   "pygments_lexer": "r",
   "version": "4.3.3"
  }
 },
 "nbformat": 4,
 "nbformat_minor": 5
}
