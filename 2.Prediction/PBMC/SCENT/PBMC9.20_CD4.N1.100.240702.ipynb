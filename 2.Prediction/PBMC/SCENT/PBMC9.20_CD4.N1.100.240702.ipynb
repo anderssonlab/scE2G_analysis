{
 "cells": [
  {
   "cell_type": "code",
   "execution_count": 1,
   "id": "3a1e63f9-7479-4a30-83ea-381f1ecdbe50",
   "metadata": {},
   "outputs": [
    {
     "name": "stderr",
     "output_type": "stream",
     "text": [
      "Warning message:\n",
      "“replacing previous import ‘Hmisc::capitalize’ by ‘R.utils::capitalize’ when loading ‘SCENT’”\n",
      "Loading required package: grid\n",
      "\n",
      "Warning message:\n",
      "“replacing previous import ‘Biostrings::pattern’ by ‘grid::pattern’ when loading ‘genomation’”\n",
      "Loading required package: stats4\n",
      "\n",
      "Loading required package: BiocGenerics\n",
      "\n",
      "\n",
      "Attaching package: ‘BiocGenerics’\n",
      "\n",
      "\n",
      "The following objects are masked from ‘package:stats’:\n",
      "\n",
      "    IQR, mad, sd, var, xtabs\n",
      "\n",
      "\n",
      "The following objects are masked from ‘package:base’:\n",
      "\n",
      "    anyDuplicated, aperm, append, as.data.frame, basename, cbind,\n",
      "    colnames, dirname, do.call, duplicated, eval, evalq, Filter, Find,\n",
      "    get, grep, grepl, intersect, is.unsorted, lapply, Map, mapply,\n",
      "    match, mget, order, paste, pmax, pmax.int, pmin, pmin.int,\n",
      "    Position, rank, rbind, Reduce, rownames, sapply, setdiff, sort,\n",
      "    table, tapply, union, unique, unsplit, which.max, which.min\n",
      "\n",
      "\n",
      "Loading required package: S4Vectors\n",
      "\n",
      "\n",
      "Attaching package: ‘S4Vectors’\n",
      "\n",
      "\n",
      "The following object is masked from ‘package:utils’:\n",
      "\n",
      "    findMatches\n",
      "\n",
      "\n",
      "The following objects are masked from ‘package:base’:\n",
      "\n",
      "    expand.grid, I, unname\n",
      "\n",
      "\n",
      "Loading required package: IRanges\n",
      "\n",
      "Loading required package: GenomeInfoDb\n",
      "\n",
      "\n",
      "Attaching package: ‘Matrix’\n",
      "\n",
      "\n",
      "The following object is masked from ‘package:S4Vectors’:\n",
      "\n",
      "    expand\n",
      "\n",
      "\n"
     ]
    }
   ],
   "source": [
    "library(SCENT)\n",
    "library(Signac)\n",
    "library(genomation)\n",
    "library(GenomicRanges)\n",
    "library(Matrix)\n",
    "library(parallel)"
   ]
  },
  {
   "cell_type": "markdown",
   "id": "d53f3774-52c3-4baa-b707-5b3a0450b130",
   "metadata": {},
   "source": [
    "Specify file path"
   ]
  },
  {
   "cell_type": "code",
   "execution_count": 2,
   "id": "0785f3fc-9913-428a-bea7-5710120c9328",
   "metadata": {},
   "outputs": [],
   "source": [
    "path.pairs.E2G = \"/maps/projects/ralab_nnfc-AUDIT/people/lpm537/software/scE2G_pipeline/240617/sc-E2G/test/results/PBMC9/20_CD4.N1.multiome_7features/Kendall/Pairs.tsv.gz\"\n",
    "path.pairs.ABC = \"/maps/projects/ralab_nnfc-AUDIT/people/lpm537/software/scE2G_pipeline/240617/sc-E2G/test/results/PBMC9/20_CD4.N1.multiome_7features/Predictions/EnhancerPredictionsAllPutative.tsv.gz\"\n",
    "path.matrix.atac_count = \"/maps/projects/ralab_nnfc-AUDIT/people/lpm537/software/scE2G_pipeline/240617/sc-E2G/test/results/PBMC9/20_CD4.N1.multiome_7features/Kendall/atac_matrix.rds\"\n",
    "path.matrix.rna_count = \"/maps/projects/ralab_nnfc-AUDIT/people/lpm537/project/E2G/analysis/E2G_240503/data/PBMC/1.prepare_data/3.annotate_cell_type/RNA_count_matrix/20_CD4.N1.rna_count_matrix.csv.gz\"\n",
    "dir.output = \"/maps/projects/ralab_nnfc-AUDIT/people/lpm537/project/E2G/analysis/E2G_240503/data/PBMC/2.Genome_wide_prediction/SCENT/PBMC9.20_CD4.N1.100.240702/\""
   ]
  },
  {
   "cell_type": "code",
   "execution_count": 3,
   "id": "500ba317-011f-4cab-834c-de750cb7f503",
   "metadata": {},
   "outputs": [],
   "source": [
    "n.cores = 16"
   ]
  },
  {
   "cell_type": "markdown",
   "id": "9c9cdab1-486b-4539-99d3-3cd5d1d99795",
   "metadata": {},
   "source": [
    "Import candidate E-G pairs"
   ]
  },
  {
   "cell_type": "code",
   "execution_count": 4,
   "id": "f5852d15-7e3f-412b-b137-7d29a6fb47b1",
   "metadata": {},
   "outputs": [],
   "source": [
    "pairs.E2G = readGeneric(path.pairs.E2G,\n",
    "                        header = T,\n",
    "                        keep.all.metadata = T)"
   ]
  },
  {
   "cell_type": "markdown",
   "id": "e79f3220-9bc6-4496-9e9a-a2dcc6e7f751",
   "metadata": {},
   "source": [
    "Import ABC results"
   ]
  },
  {
   "cell_type": "code",
   "execution_count": 5,
   "id": "6bc3f6ba-5e9a-488c-ba26-e0c84007ef4d",
   "metadata": {},
   "outputs": [],
   "source": [
    "pairs.ABC = readGeneric(path.pairs.ABC,\n",
    "                        header = T,\n",
    "                        keep.all.metadata = T)"
   ]
  },
  {
   "cell_type": "markdown",
   "id": "7d660489-4656-4b85-a3df-381acf0aa4a1",
   "metadata": {},
   "source": [
    "Filter ABC results which distance < 1M"
   ]
  },
  {
   "cell_type": "code",
   "execution_count": 6,
   "id": "31b4d7f1-0feb-428b-934a-9c32cb2a4f68",
   "metadata": {},
   "outputs": [],
   "source": [
    "pairs.ABC.1M = pairs.ABC[pairs.ABC$distance < 10^6]"
   ]
  },
  {
   "cell_type": "markdown",
   "id": "639699dd-5bf9-4b19-9178-82dbbf2c62d0",
   "metadata": {},
   "source": [
    "Filter E-G pairs overlaping with pairs.ABC.1M"
   ]
  },
  {
   "cell_type": "code",
   "execution_count": 7,
   "id": "d7db8c1b-5245-49e1-862e-979d9f1de142",
   "metadata": {},
   "outputs": [
    {
     "data": {
      "text/plain": [
       "GRanges object with 3010202 ranges and 3 metadata columns:\n",
       "            seqnames              ranges strand |  TargetGene\n",
       "               <Rle>           <IRanges>  <Rle> | <character>\n",
       "        [1]     chr1 100028333-100029067      * |         AGL\n",
       "        [2]     chr1 100028333-100029067      * |      CDC14A\n",
       "        [3]     chr1 100028333-100029067      * |         DBT\n",
       "        [4]     chr1 100028333-100029067      * |        DPH5\n",
       "        [5]     chr1 100028333-100029067      * |       EXTL2\n",
       "        ...      ...                 ...    ... .         ...\n",
       "  [3010198]     chrX     9995794-9996120      * |        WWC3\n",
       "  [3010199]     chrX     9996281-9996581      * |       TBL1X\n",
       "  [3010200]     chrX     9996281-9996581      * |        WWC3\n",
       "  [3010201]     chrX     9997522-9997830      * |       TBL1X\n",
       "  [3010202]     chrX     9997522-9997830      * |        WWC3\n",
       "                          PeakName               PairName\n",
       "                       <character>            <character>\n",
       "        [1] chr1-100028333-10002.. chr1-100028333-10002..\n",
       "        [2] chr1-100028333-10002.. chr1-100028333-10002..\n",
       "        [3] chr1-100028333-10002.. chr1-100028333-10002..\n",
       "        [4] chr1-100028333-10002.. chr1-100028333-10002..\n",
       "        [5] chr1-100028333-10002.. chr1-100028333-10002..\n",
       "        ...                    ...                    ...\n",
       "  [3010198]   chrX-9995794-9996120 chrX-9995794-9996120..\n",
       "  [3010199]   chrX-9996281-9996581 chrX-9996281-9996581..\n",
       "  [3010200]   chrX-9996281-9996581 chrX-9996281-9996581..\n",
       "  [3010201]   chrX-9997522-9997830 chrX-9997522-9997830..\n",
       "  [3010202]   chrX-9997522-9997830 chrX-9997522-9997830..\n",
       "  -------\n",
       "  seqinfo: 23 sequences from an unspecified genome; no seqlengths"
      ]
     },
     "metadata": {},
     "output_type": "display_data"
    }
   ],
   "source": [
    "df.pairs.E2G.chr_rename = as.data.frame(pairs.E2G)[,1:3]\n",
    "df.pairs.E2G.chr_rename[,\"seqnames\"] = paste(seqnames(pairs.E2G),\n",
    "                                             mcols(pairs.E2G)[,\"TargetGene\"],\n",
    "                                             sep = \"_\")\n",
    "pairs.E2G.chr_rename = GRanges(df.pairs.E2G.chr_rename)\n",
    "rm(df.pairs.E2G.chr_rename)\n",
    "\n",
    "df.pairs.ABC.1M.chr_rename = as.data.frame(pairs.ABC.1M)[,1:3]\n",
    "df.pairs.ABC.1M.chr_rename[,\"seqnames\"] = paste(seqnames(pairs.ABC.1M),\n",
    "                                                mcols(pairs.ABC.1M)[,\"TargetGene\"],\n",
    "                                                sep = \"_\")\n",
    "pairs.ABC.1M.chr_rename = GRanges(df.pairs.ABC.1M.chr_rename)\n",
    "rm(df.pairs.ABC.1M.chr_rename)\n",
    "\n",
    "pairs.E2G.filter = pairs.E2G[countOverlaps(pairs.E2G.chr_rename,\n",
    "                                           pairs.ABC.1M.chr_rename) > 0]\n",
    "rm(pairs.E2G.chr_rename)\n",
    "rm(pairs.ABC.1M.chr_rename)\n",
    "pairs.E2G.filter"
   ]
  },
  {
   "cell_type": "markdown",
   "id": "bcdfac67-ce32-4d9a-8f4d-65dab644ec63",
   "metadata": {},
   "source": [
    "Import ATAC matrix"
   ]
  },
  {
   "cell_type": "code",
   "execution_count": 8,
   "id": "bd59feb4-3e33-4ebe-a107-f3b6d347a68e",
   "metadata": {},
   "outputs": [],
   "source": [
    "matrix.atac = readRDS(path.matrix.atac_count)\n",
    "matrix.atac = BinarizeCounts(matrix.atac)"
   ]
  },
  {
   "cell_type": "markdown",
   "id": "a0c5cb96-2fc4-42c4-a421-fe9a5ca537da",
   "metadata": {},
   "source": [
    "Import RNA matrix"
   ]
  },
  {
   "cell_type": "code",
   "execution_count": 9,
   "id": "96e10e90-9400-4cfe-bc7b-46a7eaee1fcd",
   "metadata": {},
   "outputs": [],
   "source": [
    "matrix.rna = read.csv(path.matrix.rna_count,\n",
    "                      row.names = 1,\n",
    "                      check.names = F)\n",
    "matrix.rna = Matrix(as.matrix(matrix.rna), sparse = TRUE)\n",
    "matrix.rna = matrix.rna[,colnames(matrix.atac)]\n",
    "matrix.rna = matrix.rna[rowSums(matrix.rna) > 0,]"
   ]
  },
  {
   "cell_type": "code",
   "execution_count": 10,
   "id": "ad0f51bc-6e09-4b83-be71-560130dd0fa6",
   "metadata": {},
   "outputs": [],
   "source": [
    "pairs.E2G.filter2 = pairs.E2G.filter[pairs.E2G.filter$TargetGene %in% rownames(matrix.rna) &\n",
    "                                     pairs.E2G.filter$PeakName %in% rownames(matrix.atac)]"
   ]
  },
  {
   "cell_type": "markdown",
   "id": "b16f7d5b-eabd-4e93-b8cd-f19a54df21f2",
   "metadata": {},
   "source": [
    "Prepare SCENT meta data"
   ]
  },
  {
   "cell_type": "code",
   "execution_count": 11,
   "id": "827059dd-6885-441e-973e-d7c49e5fd534",
   "metadata": {},
   "outputs": [
    {
     "data": {
      "text/html": [
       "<table class=\"dataframe\">\n",
       "<caption>A data.frame: 773 × 6</caption>\n",
       "<thead>\n",
       "\t<tr><th></th><th scope=col>cell</th><th scope=col>nUMI</th><th scope=col>nMito</th><th scope=col>celltype</th><th scope=col>log.nUMI</th><th scope=col>percent.mito</th></tr>\n",
       "\t<tr><th></th><th scope=col>&lt;chr&gt;</th><th scope=col>&lt;dbl&gt;</th><th scope=col>&lt;dbl&gt;</th><th scope=col>&lt;chr&gt;</th><th scope=col>&lt;dbl&gt;</th><th scope=col>&lt;dbl&gt;</th></tr>\n",
       "</thead>\n",
       "<tbody>\n",
       "\t<tr><th scope=row>Multiome10x_05_AAACCGAAGTAATCCA-1</th><td>Multiome10x_05_AAACCGAAGTAATCCA-1</td><td>1872</td><td>192</td><td>K562</td><td>7.534763</td><td>0.10256410</td></tr>\n",
       "\t<tr><th scope=row>Multiome10x_05_AAAGCCCGTGAGGTAG-1</th><td>Multiome10x_05_AAAGCCCGTGAGGTAG-1</td><td>2376</td><td>214</td><td>K562</td><td>7.773174</td><td>0.09006734</td></tr>\n",
       "\t<tr><th scope=row>Multiome10x_05_AAAGCCGCAGGCATGA-1</th><td>Multiome10x_05_AAAGCCGCAGGCATGA-1</td><td>2530</td><td>203</td><td>K562</td><td>7.835975</td><td>0.08023715</td></tr>\n",
       "\t<tr><th scope=row>Multiome10x_05_AAAGCCGCATAGCGAG-1</th><td>Multiome10x_05_AAAGCCGCATAGCGAG-1</td><td>1417</td><td> 77</td><td>K562</td><td>7.256297</td><td>0.05434016</td></tr>\n",
       "\t<tr><th scope=row>Multiome10x_05_AACATAGCATTAGGCC-1</th><td>Multiome10x_05_AACATAGCATTAGGCC-1</td><td>2337</td><td>235</td><td>K562</td><td>7.756623</td><td>0.10055627</td></tr>\n",
       "\t<tr><th scope=row>Multiome10x_05_AAGAACAGTCAAGTAT-1</th><td>Multiome10x_05_AAGAACAGTCAAGTAT-1</td><td>1073</td><td> 35</td><td>K562</td><td>6.978214</td><td>0.03261883</td></tr>\n",
       "\t<tr><th scope=row>Multiome10x_05_AAGACATAGGCTAAGA-1</th><td>Multiome10x_05_AAGACATAGGCTAAGA-1</td><td>1291</td><td>115</td><td>K562</td><td>7.163172</td><td>0.08907823</td></tr>\n",
       "\t<tr><th scope=row>Multiome10x_05_AAGCCTGTCCCTGTTA-1</th><td>Multiome10x_05_AAGCCTGTCCCTGTTA-1</td><td>2486</td><td>163</td><td>K562</td><td>7.818430</td><td>0.06556718</td></tr>\n",
       "\t<tr><th scope=row>Multiome10x_05_AAGCGAGGTTAGGTGC-1</th><td>Multiome10x_05_AAGCGAGGTTAGGTGC-1</td><td>1114</td><td>208</td><td>K562</td><td>7.015712</td><td>0.18671454</td></tr>\n",
       "\t<tr><th scope=row>Multiome10x_05_AAGCGTTTCGCGACAC-1</th><td>Multiome10x_05_AAGCGTTTCGCGACAC-1</td><td>2465</td><td>214</td><td>K562</td><td>7.809947</td><td>0.08681542</td></tr>\n",
       "\t<tr><th scope=row>Multiome10x_05_AAGGATCCAATTAACC-1</th><td>Multiome10x_05_AAGGATCCAATTAACC-1</td><td>1521</td><td>148</td><td>K562</td><td>7.327123</td><td>0.09730440</td></tr>\n",
       "\t<tr><th scope=row>Multiome10x_05_AAGGCCCTCACCTGCT-1</th><td>Multiome10x_05_AAGGCCCTCACCTGCT-1</td><td>2764</td><td>217</td><td>K562</td><td>7.924434</td><td>0.07850941</td></tr>\n",
       "\t<tr><th scope=row>Multiome10x_05_AAGTCTATCTTTAAGG-1</th><td>Multiome10x_05_AAGTCTATCTTTAAGG-1</td><td>2073</td><td>220</td><td>K562</td><td>7.636752</td><td>0.10612639</td></tr>\n",
       "\t<tr><th scope=row>Multiome10x_05_AAGTGAAGTAGCCATA-1</th><td>Multiome10x_05_AAGTGAAGTAGCCATA-1</td><td>2504</td><td>176</td><td>K562</td><td>7.825645</td><td>0.07028754</td></tr>\n",
       "\t<tr><th scope=row>Multiome10x_05_AATCCATCAAGGTAAC-1</th><td>Multiome10x_05_AATCCATCAAGGTAAC-1</td><td>2210</td><td>216</td><td>K562</td><td>7.700748</td><td>0.09773756</td></tr>\n",
       "\t<tr><th scope=row>Multiome10x_05_ACAACAACACCGGCTA-1</th><td>Multiome10x_05_ACAACAACACCGGCTA-1</td><td>2092</td><td>144</td><td>K562</td><td>7.645876</td><td>0.06883365</td></tr>\n",
       "\t<tr><th scope=row>Multiome10x_05_ACAACAGAGCCTGACA-1</th><td>Multiome10x_05_ACAACAGAGCCTGACA-1</td><td>1622</td><td> 91</td><td>K562</td><td>7.391415</td><td>0.05610358</td></tr>\n",
       "\t<tr><th scope=row>Multiome10x_05_ACACTAGGTTGTTGCT-1</th><td>Multiome10x_05_ACACTAGGTTGTTGCT-1</td><td>2281</td><td>133</td><td>K562</td><td>7.732369</td><td>0.05830776</td></tr>\n",
       "\t<tr><th scope=row>Multiome10x_05_ACAGGATCATAGGCGA-1</th><td>Multiome10x_05_ACAGGATCATAGGCGA-1</td><td>1721</td><td>109</td><td>K562</td><td>7.450661</td><td>0.06333527</td></tr>\n",
       "\t<tr><th scope=row>Multiome10x_05_ACAGTATGTTAGGCGT-1</th><td>Multiome10x_05_ACAGTATGTTAGGCGT-1</td><td>1787</td><td> 97</td><td>K562</td><td>7.488294</td><td>0.05428092</td></tr>\n",
       "\t<tr><th scope=row>Multiome10x_05_ACAGTATGTTTGTGGA-1</th><td>Multiome10x_05_ACAGTATGTTTGTGGA-1</td><td>2273</td><td>129</td><td>K562</td><td>7.728856</td><td>0.05675319</td></tr>\n",
       "\t<tr><th scope=row>Multiome10x_05_ACATAGCTCCGCCAAA-1</th><td>Multiome10x_05_ACATAGCTCCGCCAAA-1</td><td>1942</td><td>239</td><td>K562</td><td>7.571474</td><td>0.12306900</td></tr>\n",
       "\t<tr><th scope=row>Multiome10x_05_ACCAAACTCGCCTAAG-1</th><td>Multiome10x_05_ACCAAACTCGCCTAAG-1</td><td>1403</td><td>150</td><td>K562</td><td>7.246368</td><td>0.10691376</td></tr>\n",
       "\t<tr><th scope=row>Multiome10x_05_ACCAAGCGTGTGCACG-1</th><td>Multiome10x_05_ACCAAGCGTGTGCACG-1</td><td>1250</td><td>122</td><td>K562</td><td>7.130899</td><td>0.09760000</td></tr>\n",
       "\t<tr><th scope=row>Multiome10x_05_ACCAGGCTCGGTTTGG-1</th><td>Multiome10x_05_ACCAGGCTCGGTTTGG-1</td><td>1026</td><td>118</td><td>K562</td><td>6.933423</td><td>0.11500975</td></tr>\n",
       "\t<tr><th scope=row>Multiome10x_05_ACCAGGGAGTTTCCGC-1</th><td>Multiome10x_05_ACCAGGGAGTTTCCGC-1</td><td>1962</td><td>121</td><td>K562</td><td>7.581720</td><td>0.06167176</td></tr>\n",
       "\t<tr><th scope=row>Multiome10x_05_ACGACAAAGGTACCGC-1</th><td>Multiome10x_05_ACGACAAAGGTACCGC-1</td><td>1784</td><td>117</td><td>K562</td><td>7.486613</td><td>0.06558296</td></tr>\n",
       "\t<tr><th scope=row>Multiome10x_05_ACGTTGTAGTTTCCGC-1</th><td>Multiome10x_05_ACGTTGTAGTTTCCGC-1</td><td>2235</td><td>268</td><td>K562</td><td>7.711997</td><td>0.11991051</td></tr>\n",
       "\t<tr><th scope=row>Multiome10x_05_ACTAAAGCAGCAAGAT-1</th><td>Multiome10x_05_ACTAAAGCAGCAAGAT-1</td><td>1651</td><td>171</td><td>K562</td><td>7.409136</td><td>0.10357359</td></tr>\n",
       "\t<tr><th scope=row>Multiome10x_05_ACTCACTGTTAATGCG-1</th><td>Multiome10x_05_ACTCACTGTTAATGCG-1</td><td>1010</td><td>218</td><td>K562</td><td>6.917706</td><td>0.21584158</td></tr>\n",
       "\t<tr><th scope=row>⋮</th><td>⋮</td><td>⋮</td><td>⋮</td><td>⋮</td><td>⋮</td><td>⋮</td></tr>\n",
       "\t<tr><th scope=row>Multiome10x_06_TGTGTGAGTTTGTGGA-1</th><td>Multiome10x_06_TGTGTGAGTTTGTGGA-1</td><td>1884</td><td>158</td><td>K562</td><td>7.541152</td><td>0.08386412</td></tr>\n",
       "\t<tr><th scope=row>Multiome10x_06_TGTGTTAAGTCATTGA-1</th><td>Multiome10x_06_TGTGTTAAGTCATTGA-1</td><td>1139</td><td>144</td><td>K562</td><td>7.037906</td><td>0.12642669</td></tr>\n",
       "\t<tr><th scope=row>Multiome10x_06_TGTTCATTCTGCAACG-1</th><td>Multiome10x_06_TGTTCATTCTGCAACG-1</td><td>2620</td><td>226</td><td>K562</td><td>7.870930</td><td>0.08625954</td></tr>\n",
       "\t<tr><th scope=row>Multiome10x_06_TGTTGTTTCCTGAATA-1</th><td>Multiome10x_06_TGTTGTTTCCTGAATA-1</td><td>2251</td><td>176</td><td>K562</td><td>7.719130</td><td>0.07818747</td></tr>\n",
       "\t<tr><th scope=row>Multiome10x_06_TTAATCGAGACACTTA-1</th><td>Multiome10x_06_TTAATCGAGACACTTA-1</td><td>1290</td><td> 87</td><td>K562</td><td>7.162397</td><td>0.06744186</td></tr>\n",
       "\t<tr><th scope=row>Multiome10x_06_TTAGAAGCACCCACAG-1</th><td>Multiome10x_06_TTAGAAGCACCCACAG-1</td><td>1039</td><td>119</td><td>K562</td><td>6.946014</td><td>0.11453321</td></tr>\n",
       "\t<tr><th scope=row>Multiome10x_06_TTAGAAGCATAGTCAT-1</th><td>Multiome10x_06_TTAGAAGCATAGTCAT-1</td><td>1683</td><td>102</td><td>K562</td><td>7.428333</td><td>0.06060606</td></tr>\n",
       "\t<tr><th scope=row>Multiome10x_06_TTAGCAGGTCCTTTAA-1</th><td>Multiome10x_06_TTAGCAGGTCCTTTAA-1</td><td>3142</td><td>182</td><td>K562</td><td>8.052615</td><td>0.05792489</td></tr>\n",
       "\t<tr><th scope=row>Multiome10x_06_TTAGCCTGTTATAGCG-1</th><td>Multiome10x_06_TTAGCCTGTTATAGCG-1</td><td>1689</td><td>317</td><td>K562</td><td>7.431892</td><td>0.18768502</td></tr>\n",
       "\t<tr><th scope=row>Multiome10x_06_TTATAGCCAGTTAAAG-1</th><td>Multiome10x_06_TTATAGCCAGTTAAAG-1</td><td>1583</td><td>106</td><td>K562</td><td>7.367077</td><td>0.06696147</td></tr>\n",
       "\t<tr><th scope=row>Multiome10x_06_TTATGACCACCAAAGG-1</th><td>Multiome10x_06_TTATGACCACCAAAGG-1</td><td>2042</td><td> 85</td><td>K562</td><td>7.621685</td><td>0.04162586</td></tr>\n",
       "\t<tr><th scope=row>Multiome10x_06_TTATTGCTCTTAATGG-1</th><td>Multiome10x_06_TTATTGCTCTTAATGG-1</td><td>1549</td><td>102</td><td>K562</td><td>7.345365</td><td>0.06584893</td></tr>\n",
       "\t<tr><th scope=row>Multiome10x_06_TTCAGGTAGGAATAAC-1</th><td>Multiome10x_06_TTCAGGTAGGAATAAC-1</td><td>2472</td><td>160</td><td>K562</td><td>7.812783</td><td>0.06472492</td></tr>\n",
       "\t<tr><th scope=row>Multiome10x_06_TTCAGGTAGGTCGAGG-1</th><td>Multiome10x_06_TTCAGGTAGGTCGAGG-1</td><td>2185</td><td>245</td><td>K562</td><td>7.689371</td><td>0.11212815</td></tr>\n",
       "\t<tr><th scope=row>Multiome10x_06_TTCATCCCACAAGCCT-1</th><td>Multiome10x_06_TTCATCCCACAAGCCT-1</td><td>1681</td><td>207</td><td>K562</td><td>7.427144</td><td>0.12314099</td></tr>\n",
       "\t<tr><th scope=row>Multiome10x_06_TTCCACGGTAATGGCC-1</th><td>Multiome10x_06_TTCCACGGTAATGGCC-1</td><td>1584</td><td>145</td><td>K562</td><td>7.367709</td><td>0.09154040</td></tr>\n",
       "\t<tr><th scope=row>Multiome10x_06_TTCGGTACAGAAATGC-1</th><td>Multiome10x_06_TTCGGTACAGAAATGC-1</td><td>2344</td><td>158</td><td>K562</td><td>7.759614</td><td>0.06740614</td></tr>\n",
       "\t<tr><th scope=row>Multiome10x_06_TTCGTGCTCGCTTGCT-1</th><td>Multiome10x_06_TTCGTGCTCGCTTGCT-1</td><td>1315</td><td>239</td><td>K562</td><td>7.181592</td><td>0.18174905</td></tr>\n",
       "\t<tr><th scope=row>Multiome10x_06_TTGACGTAGCGATACT-1</th><td>Multiome10x_06_TTGACGTAGCGATACT-1</td><td>1881</td><td>143</td><td>K562</td><td>7.539559</td><td>0.07602339</td></tr>\n",
       "\t<tr><th scope=row>Multiome10x_06_TTGACGTAGCTTATGA-1</th><td>Multiome10x_06_TTGACGTAGCTTATGA-1</td><td>2180</td><td>120</td><td>K562</td><td>7.687080</td><td>0.05504587</td></tr>\n",
       "\t<tr><th scope=row>Multiome10x_06_TTGACTAAGACTCGCA-1</th><td>Multiome10x_06_TTGACTAAGACTCGCA-1</td><td>2021</td><td>143</td><td>K562</td><td>7.611348</td><td>0.07075705</td></tr>\n",
       "\t<tr><th scope=row>Multiome10x_06_TTGGCGGGTACCTTAC-1</th><td>Multiome10x_06_TTGGCGGGTACCTTAC-1</td><td>1829</td><td> 56</td><td>K562</td><td>7.511525</td><td>0.03061782</td></tr>\n",
       "\t<tr><th scope=row>Multiome10x_06_TTGGCGGGTTTATGGG-1</th><td>Multiome10x_06_TTGGCGGGTTTATGGG-1</td><td>1400</td><td>173</td><td>K562</td><td>7.244228</td><td>0.12357143</td></tr>\n",
       "\t<tr><th scope=row>Multiome10x_06_TTGGGCGGTAATCGCA-1</th><td>Multiome10x_06_TTGGGCGGTAATCGCA-1</td><td>1532</td><td> 86</td><td>K562</td><td>7.334329</td><td>0.05613577</td></tr>\n",
       "\t<tr><th scope=row>Multiome10x_06_TTGGGTTAGCAGGTGG-1</th><td>Multiome10x_06_TTGGGTTAGCAGGTGG-1</td><td>1342</td><td>239</td><td>K562</td><td>7.201916</td><td>0.17809240</td></tr>\n",
       "\t<tr><th scope=row>Multiome10x_06_TTGGGTTAGGCCTTAG-1</th><td>Multiome10x_06_TTGGGTTAGGCCTTAG-1</td><td>1747</td><td>239</td><td>K562</td><td>7.465655</td><td>0.13680595</td></tr>\n",
       "\t<tr><th scope=row>Multiome10x_06_TTGTAAGTCGTTACAA-1</th><td>Multiome10x_06_TTGTAAGTCGTTACAA-1</td><td>1999</td><td>147</td><td>K562</td><td>7.600402</td><td>0.07353677</td></tr>\n",
       "\t<tr><th scope=row>Multiome10x_06_TTGTCCGGTTTATCTG-1</th><td>Multiome10x_06_TTGTCCGGTTTATCTG-1</td><td>1990</td><td>334</td><td>K562</td><td>7.595890</td><td>0.16783920</td></tr>\n",
       "\t<tr><th scope=row>Multiome10x_06_TTTGAGTCAGCTTACA-1</th><td>Multiome10x_06_TTTGAGTCAGCTTACA-1</td><td>1814</td><td>131</td><td>K562</td><td>7.503290</td><td>0.07221610</td></tr>\n",
       "\t<tr><th scope=row>Multiome10x_06_TTTGCGGAGCCTGGTA-1</th><td>Multiome10x_06_TTTGCGGAGCCTGGTA-1</td><td>2543</td><td>249</td><td>K562</td><td>7.841100</td><td>0.09791585</td></tr>\n",
       "</tbody>\n",
       "</table>\n"
      ],
      "text/latex": [
       "A data.frame: 773 × 6\n",
       "\\begin{tabular}{r|llllll}\n",
       "  & cell & nUMI & nMito & celltype & log.nUMI & percent.mito\\\\\n",
       "  & <chr> & <dbl> & <dbl> & <chr> & <dbl> & <dbl>\\\\\n",
       "\\hline\n",
       "\tMultiome10x\\_05\\_AAACCGAAGTAATCCA-1 & Multiome10x\\_05\\_AAACCGAAGTAATCCA-1 & 1872 & 192 & K562 & 7.534763 & 0.10256410\\\\\n",
       "\tMultiome10x\\_05\\_AAAGCCCGTGAGGTAG-1 & Multiome10x\\_05\\_AAAGCCCGTGAGGTAG-1 & 2376 & 214 & K562 & 7.773174 & 0.09006734\\\\\n",
       "\tMultiome10x\\_05\\_AAAGCCGCAGGCATGA-1 & Multiome10x\\_05\\_AAAGCCGCAGGCATGA-1 & 2530 & 203 & K562 & 7.835975 & 0.08023715\\\\\n",
       "\tMultiome10x\\_05\\_AAAGCCGCATAGCGAG-1 & Multiome10x\\_05\\_AAAGCCGCATAGCGAG-1 & 1417 &  77 & K562 & 7.256297 & 0.05434016\\\\\n",
       "\tMultiome10x\\_05\\_AACATAGCATTAGGCC-1 & Multiome10x\\_05\\_AACATAGCATTAGGCC-1 & 2337 & 235 & K562 & 7.756623 & 0.10055627\\\\\n",
       "\tMultiome10x\\_05\\_AAGAACAGTCAAGTAT-1 & Multiome10x\\_05\\_AAGAACAGTCAAGTAT-1 & 1073 &  35 & K562 & 6.978214 & 0.03261883\\\\\n",
       "\tMultiome10x\\_05\\_AAGACATAGGCTAAGA-1 & Multiome10x\\_05\\_AAGACATAGGCTAAGA-1 & 1291 & 115 & K562 & 7.163172 & 0.08907823\\\\\n",
       "\tMultiome10x\\_05\\_AAGCCTGTCCCTGTTA-1 & Multiome10x\\_05\\_AAGCCTGTCCCTGTTA-1 & 2486 & 163 & K562 & 7.818430 & 0.06556718\\\\\n",
       "\tMultiome10x\\_05\\_AAGCGAGGTTAGGTGC-1 & Multiome10x\\_05\\_AAGCGAGGTTAGGTGC-1 & 1114 & 208 & K562 & 7.015712 & 0.18671454\\\\\n",
       "\tMultiome10x\\_05\\_AAGCGTTTCGCGACAC-1 & Multiome10x\\_05\\_AAGCGTTTCGCGACAC-1 & 2465 & 214 & K562 & 7.809947 & 0.08681542\\\\\n",
       "\tMultiome10x\\_05\\_AAGGATCCAATTAACC-1 & Multiome10x\\_05\\_AAGGATCCAATTAACC-1 & 1521 & 148 & K562 & 7.327123 & 0.09730440\\\\\n",
       "\tMultiome10x\\_05\\_AAGGCCCTCACCTGCT-1 & Multiome10x\\_05\\_AAGGCCCTCACCTGCT-1 & 2764 & 217 & K562 & 7.924434 & 0.07850941\\\\\n",
       "\tMultiome10x\\_05\\_AAGTCTATCTTTAAGG-1 & Multiome10x\\_05\\_AAGTCTATCTTTAAGG-1 & 2073 & 220 & K562 & 7.636752 & 0.10612639\\\\\n",
       "\tMultiome10x\\_05\\_AAGTGAAGTAGCCATA-1 & Multiome10x\\_05\\_AAGTGAAGTAGCCATA-1 & 2504 & 176 & K562 & 7.825645 & 0.07028754\\\\\n",
       "\tMultiome10x\\_05\\_AATCCATCAAGGTAAC-1 & Multiome10x\\_05\\_AATCCATCAAGGTAAC-1 & 2210 & 216 & K562 & 7.700748 & 0.09773756\\\\\n",
       "\tMultiome10x\\_05\\_ACAACAACACCGGCTA-1 & Multiome10x\\_05\\_ACAACAACACCGGCTA-1 & 2092 & 144 & K562 & 7.645876 & 0.06883365\\\\\n",
       "\tMultiome10x\\_05\\_ACAACAGAGCCTGACA-1 & Multiome10x\\_05\\_ACAACAGAGCCTGACA-1 & 1622 &  91 & K562 & 7.391415 & 0.05610358\\\\\n",
       "\tMultiome10x\\_05\\_ACACTAGGTTGTTGCT-1 & Multiome10x\\_05\\_ACACTAGGTTGTTGCT-1 & 2281 & 133 & K562 & 7.732369 & 0.05830776\\\\\n",
       "\tMultiome10x\\_05\\_ACAGGATCATAGGCGA-1 & Multiome10x\\_05\\_ACAGGATCATAGGCGA-1 & 1721 & 109 & K562 & 7.450661 & 0.06333527\\\\\n",
       "\tMultiome10x\\_05\\_ACAGTATGTTAGGCGT-1 & Multiome10x\\_05\\_ACAGTATGTTAGGCGT-1 & 1787 &  97 & K562 & 7.488294 & 0.05428092\\\\\n",
       "\tMultiome10x\\_05\\_ACAGTATGTTTGTGGA-1 & Multiome10x\\_05\\_ACAGTATGTTTGTGGA-1 & 2273 & 129 & K562 & 7.728856 & 0.05675319\\\\\n",
       "\tMultiome10x\\_05\\_ACATAGCTCCGCCAAA-1 & Multiome10x\\_05\\_ACATAGCTCCGCCAAA-1 & 1942 & 239 & K562 & 7.571474 & 0.12306900\\\\\n",
       "\tMultiome10x\\_05\\_ACCAAACTCGCCTAAG-1 & Multiome10x\\_05\\_ACCAAACTCGCCTAAG-1 & 1403 & 150 & K562 & 7.246368 & 0.10691376\\\\\n",
       "\tMultiome10x\\_05\\_ACCAAGCGTGTGCACG-1 & Multiome10x\\_05\\_ACCAAGCGTGTGCACG-1 & 1250 & 122 & K562 & 7.130899 & 0.09760000\\\\\n",
       "\tMultiome10x\\_05\\_ACCAGGCTCGGTTTGG-1 & Multiome10x\\_05\\_ACCAGGCTCGGTTTGG-1 & 1026 & 118 & K562 & 6.933423 & 0.11500975\\\\\n",
       "\tMultiome10x\\_05\\_ACCAGGGAGTTTCCGC-1 & Multiome10x\\_05\\_ACCAGGGAGTTTCCGC-1 & 1962 & 121 & K562 & 7.581720 & 0.06167176\\\\\n",
       "\tMultiome10x\\_05\\_ACGACAAAGGTACCGC-1 & Multiome10x\\_05\\_ACGACAAAGGTACCGC-1 & 1784 & 117 & K562 & 7.486613 & 0.06558296\\\\\n",
       "\tMultiome10x\\_05\\_ACGTTGTAGTTTCCGC-1 & Multiome10x\\_05\\_ACGTTGTAGTTTCCGC-1 & 2235 & 268 & K562 & 7.711997 & 0.11991051\\\\\n",
       "\tMultiome10x\\_05\\_ACTAAAGCAGCAAGAT-1 & Multiome10x\\_05\\_ACTAAAGCAGCAAGAT-1 & 1651 & 171 & K562 & 7.409136 & 0.10357359\\\\\n",
       "\tMultiome10x\\_05\\_ACTCACTGTTAATGCG-1 & Multiome10x\\_05\\_ACTCACTGTTAATGCG-1 & 1010 & 218 & K562 & 6.917706 & 0.21584158\\\\\n",
       "\t⋮ & ⋮ & ⋮ & ⋮ & ⋮ & ⋮ & ⋮\\\\\n",
       "\tMultiome10x\\_06\\_TGTGTGAGTTTGTGGA-1 & Multiome10x\\_06\\_TGTGTGAGTTTGTGGA-1 & 1884 & 158 & K562 & 7.541152 & 0.08386412\\\\\n",
       "\tMultiome10x\\_06\\_TGTGTTAAGTCATTGA-1 & Multiome10x\\_06\\_TGTGTTAAGTCATTGA-1 & 1139 & 144 & K562 & 7.037906 & 0.12642669\\\\\n",
       "\tMultiome10x\\_06\\_TGTTCATTCTGCAACG-1 & Multiome10x\\_06\\_TGTTCATTCTGCAACG-1 & 2620 & 226 & K562 & 7.870930 & 0.08625954\\\\\n",
       "\tMultiome10x\\_06\\_TGTTGTTTCCTGAATA-1 & Multiome10x\\_06\\_TGTTGTTTCCTGAATA-1 & 2251 & 176 & K562 & 7.719130 & 0.07818747\\\\\n",
       "\tMultiome10x\\_06\\_TTAATCGAGACACTTA-1 & Multiome10x\\_06\\_TTAATCGAGACACTTA-1 & 1290 &  87 & K562 & 7.162397 & 0.06744186\\\\\n",
       "\tMultiome10x\\_06\\_TTAGAAGCACCCACAG-1 & Multiome10x\\_06\\_TTAGAAGCACCCACAG-1 & 1039 & 119 & K562 & 6.946014 & 0.11453321\\\\\n",
       "\tMultiome10x\\_06\\_TTAGAAGCATAGTCAT-1 & Multiome10x\\_06\\_TTAGAAGCATAGTCAT-1 & 1683 & 102 & K562 & 7.428333 & 0.06060606\\\\\n",
       "\tMultiome10x\\_06\\_TTAGCAGGTCCTTTAA-1 & Multiome10x\\_06\\_TTAGCAGGTCCTTTAA-1 & 3142 & 182 & K562 & 8.052615 & 0.05792489\\\\\n",
       "\tMultiome10x\\_06\\_TTAGCCTGTTATAGCG-1 & Multiome10x\\_06\\_TTAGCCTGTTATAGCG-1 & 1689 & 317 & K562 & 7.431892 & 0.18768502\\\\\n",
       "\tMultiome10x\\_06\\_TTATAGCCAGTTAAAG-1 & Multiome10x\\_06\\_TTATAGCCAGTTAAAG-1 & 1583 & 106 & K562 & 7.367077 & 0.06696147\\\\\n",
       "\tMultiome10x\\_06\\_TTATGACCACCAAAGG-1 & Multiome10x\\_06\\_TTATGACCACCAAAGG-1 & 2042 &  85 & K562 & 7.621685 & 0.04162586\\\\\n",
       "\tMultiome10x\\_06\\_TTATTGCTCTTAATGG-1 & Multiome10x\\_06\\_TTATTGCTCTTAATGG-1 & 1549 & 102 & K562 & 7.345365 & 0.06584893\\\\\n",
       "\tMultiome10x\\_06\\_TTCAGGTAGGAATAAC-1 & Multiome10x\\_06\\_TTCAGGTAGGAATAAC-1 & 2472 & 160 & K562 & 7.812783 & 0.06472492\\\\\n",
       "\tMultiome10x\\_06\\_TTCAGGTAGGTCGAGG-1 & Multiome10x\\_06\\_TTCAGGTAGGTCGAGG-1 & 2185 & 245 & K562 & 7.689371 & 0.11212815\\\\\n",
       "\tMultiome10x\\_06\\_TTCATCCCACAAGCCT-1 & Multiome10x\\_06\\_TTCATCCCACAAGCCT-1 & 1681 & 207 & K562 & 7.427144 & 0.12314099\\\\\n",
       "\tMultiome10x\\_06\\_TTCCACGGTAATGGCC-1 & Multiome10x\\_06\\_TTCCACGGTAATGGCC-1 & 1584 & 145 & K562 & 7.367709 & 0.09154040\\\\\n",
       "\tMultiome10x\\_06\\_TTCGGTACAGAAATGC-1 & Multiome10x\\_06\\_TTCGGTACAGAAATGC-1 & 2344 & 158 & K562 & 7.759614 & 0.06740614\\\\\n",
       "\tMultiome10x\\_06\\_TTCGTGCTCGCTTGCT-1 & Multiome10x\\_06\\_TTCGTGCTCGCTTGCT-1 & 1315 & 239 & K562 & 7.181592 & 0.18174905\\\\\n",
       "\tMultiome10x\\_06\\_TTGACGTAGCGATACT-1 & Multiome10x\\_06\\_TTGACGTAGCGATACT-1 & 1881 & 143 & K562 & 7.539559 & 0.07602339\\\\\n",
       "\tMultiome10x\\_06\\_TTGACGTAGCTTATGA-1 & Multiome10x\\_06\\_TTGACGTAGCTTATGA-1 & 2180 & 120 & K562 & 7.687080 & 0.05504587\\\\\n",
       "\tMultiome10x\\_06\\_TTGACTAAGACTCGCA-1 & Multiome10x\\_06\\_TTGACTAAGACTCGCA-1 & 2021 & 143 & K562 & 7.611348 & 0.07075705\\\\\n",
       "\tMultiome10x\\_06\\_TTGGCGGGTACCTTAC-1 & Multiome10x\\_06\\_TTGGCGGGTACCTTAC-1 & 1829 &  56 & K562 & 7.511525 & 0.03061782\\\\\n",
       "\tMultiome10x\\_06\\_TTGGCGGGTTTATGGG-1 & Multiome10x\\_06\\_TTGGCGGGTTTATGGG-1 & 1400 & 173 & K562 & 7.244228 & 0.12357143\\\\\n",
       "\tMultiome10x\\_06\\_TTGGGCGGTAATCGCA-1 & Multiome10x\\_06\\_TTGGGCGGTAATCGCA-1 & 1532 &  86 & K562 & 7.334329 & 0.05613577\\\\\n",
       "\tMultiome10x\\_06\\_TTGGGTTAGCAGGTGG-1 & Multiome10x\\_06\\_TTGGGTTAGCAGGTGG-1 & 1342 & 239 & K562 & 7.201916 & 0.17809240\\\\\n",
       "\tMultiome10x\\_06\\_TTGGGTTAGGCCTTAG-1 & Multiome10x\\_06\\_TTGGGTTAGGCCTTAG-1 & 1747 & 239 & K562 & 7.465655 & 0.13680595\\\\\n",
       "\tMultiome10x\\_06\\_TTGTAAGTCGTTACAA-1 & Multiome10x\\_06\\_TTGTAAGTCGTTACAA-1 & 1999 & 147 & K562 & 7.600402 & 0.07353677\\\\\n",
       "\tMultiome10x\\_06\\_TTGTCCGGTTTATCTG-1 & Multiome10x\\_06\\_TTGTCCGGTTTATCTG-1 & 1990 & 334 & K562 & 7.595890 & 0.16783920\\\\\n",
       "\tMultiome10x\\_06\\_TTTGAGTCAGCTTACA-1 & Multiome10x\\_06\\_TTTGAGTCAGCTTACA-1 & 1814 & 131 & K562 & 7.503290 & 0.07221610\\\\\n",
       "\tMultiome10x\\_06\\_TTTGCGGAGCCTGGTA-1 & Multiome10x\\_06\\_TTTGCGGAGCCTGGTA-1 & 2543 & 249 & K562 & 7.841100 & 0.09791585\\\\\n",
       "\\end{tabular}\n"
      ],
      "text/markdown": [
       "\n",
       "A data.frame: 773 × 6\n",
       "\n",
       "| <!--/--> | cell &lt;chr&gt; | nUMI &lt;dbl&gt; | nMito &lt;dbl&gt; | celltype &lt;chr&gt; | log.nUMI &lt;dbl&gt; | percent.mito &lt;dbl&gt; |\n",
       "|---|---|---|---|---|---|---|\n",
       "| Multiome10x_05_AAACCGAAGTAATCCA-1 | Multiome10x_05_AAACCGAAGTAATCCA-1 | 1872 | 192 | K562 | 7.534763 | 0.10256410 |\n",
       "| Multiome10x_05_AAAGCCCGTGAGGTAG-1 | Multiome10x_05_AAAGCCCGTGAGGTAG-1 | 2376 | 214 | K562 | 7.773174 | 0.09006734 |\n",
       "| Multiome10x_05_AAAGCCGCAGGCATGA-1 | Multiome10x_05_AAAGCCGCAGGCATGA-1 | 2530 | 203 | K562 | 7.835975 | 0.08023715 |\n",
       "| Multiome10x_05_AAAGCCGCATAGCGAG-1 | Multiome10x_05_AAAGCCGCATAGCGAG-1 | 1417 |  77 | K562 | 7.256297 | 0.05434016 |\n",
       "| Multiome10x_05_AACATAGCATTAGGCC-1 | Multiome10x_05_AACATAGCATTAGGCC-1 | 2337 | 235 | K562 | 7.756623 | 0.10055627 |\n",
       "| Multiome10x_05_AAGAACAGTCAAGTAT-1 | Multiome10x_05_AAGAACAGTCAAGTAT-1 | 1073 |  35 | K562 | 6.978214 | 0.03261883 |\n",
       "| Multiome10x_05_AAGACATAGGCTAAGA-1 | Multiome10x_05_AAGACATAGGCTAAGA-1 | 1291 | 115 | K562 | 7.163172 | 0.08907823 |\n",
       "| Multiome10x_05_AAGCCTGTCCCTGTTA-1 | Multiome10x_05_AAGCCTGTCCCTGTTA-1 | 2486 | 163 | K562 | 7.818430 | 0.06556718 |\n",
       "| Multiome10x_05_AAGCGAGGTTAGGTGC-1 | Multiome10x_05_AAGCGAGGTTAGGTGC-1 | 1114 | 208 | K562 | 7.015712 | 0.18671454 |\n",
       "| Multiome10x_05_AAGCGTTTCGCGACAC-1 | Multiome10x_05_AAGCGTTTCGCGACAC-1 | 2465 | 214 | K562 | 7.809947 | 0.08681542 |\n",
       "| Multiome10x_05_AAGGATCCAATTAACC-1 | Multiome10x_05_AAGGATCCAATTAACC-1 | 1521 | 148 | K562 | 7.327123 | 0.09730440 |\n",
       "| Multiome10x_05_AAGGCCCTCACCTGCT-1 | Multiome10x_05_AAGGCCCTCACCTGCT-1 | 2764 | 217 | K562 | 7.924434 | 0.07850941 |\n",
       "| Multiome10x_05_AAGTCTATCTTTAAGG-1 | Multiome10x_05_AAGTCTATCTTTAAGG-1 | 2073 | 220 | K562 | 7.636752 | 0.10612639 |\n",
       "| Multiome10x_05_AAGTGAAGTAGCCATA-1 | Multiome10x_05_AAGTGAAGTAGCCATA-1 | 2504 | 176 | K562 | 7.825645 | 0.07028754 |\n",
       "| Multiome10x_05_AATCCATCAAGGTAAC-1 | Multiome10x_05_AATCCATCAAGGTAAC-1 | 2210 | 216 | K562 | 7.700748 | 0.09773756 |\n",
       "| Multiome10x_05_ACAACAACACCGGCTA-1 | Multiome10x_05_ACAACAACACCGGCTA-1 | 2092 | 144 | K562 | 7.645876 | 0.06883365 |\n",
       "| Multiome10x_05_ACAACAGAGCCTGACA-1 | Multiome10x_05_ACAACAGAGCCTGACA-1 | 1622 |  91 | K562 | 7.391415 | 0.05610358 |\n",
       "| Multiome10x_05_ACACTAGGTTGTTGCT-1 | Multiome10x_05_ACACTAGGTTGTTGCT-1 | 2281 | 133 | K562 | 7.732369 | 0.05830776 |\n",
       "| Multiome10x_05_ACAGGATCATAGGCGA-1 | Multiome10x_05_ACAGGATCATAGGCGA-1 | 1721 | 109 | K562 | 7.450661 | 0.06333527 |\n",
       "| Multiome10x_05_ACAGTATGTTAGGCGT-1 | Multiome10x_05_ACAGTATGTTAGGCGT-1 | 1787 |  97 | K562 | 7.488294 | 0.05428092 |\n",
       "| Multiome10x_05_ACAGTATGTTTGTGGA-1 | Multiome10x_05_ACAGTATGTTTGTGGA-1 | 2273 | 129 | K562 | 7.728856 | 0.05675319 |\n",
       "| Multiome10x_05_ACATAGCTCCGCCAAA-1 | Multiome10x_05_ACATAGCTCCGCCAAA-1 | 1942 | 239 | K562 | 7.571474 | 0.12306900 |\n",
       "| Multiome10x_05_ACCAAACTCGCCTAAG-1 | Multiome10x_05_ACCAAACTCGCCTAAG-1 | 1403 | 150 | K562 | 7.246368 | 0.10691376 |\n",
       "| Multiome10x_05_ACCAAGCGTGTGCACG-1 | Multiome10x_05_ACCAAGCGTGTGCACG-1 | 1250 | 122 | K562 | 7.130899 | 0.09760000 |\n",
       "| Multiome10x_05_ACCAGGCTCGGTTTGG-1 | Multiome10x_05_ACCAGGCTCGGTTTGG-1 | 1026 | 118 | K562 | 6.933423 | 0.11500975 |\n",
       "| Multiome10x_05_ACCAGGGAGTTTCCGC-1 | Multiome10x_05_ACCAGGGAGTTTCCGC-1 | 1962 | 121 | K562 | 7.581720 | 0.06167176 |\n",
       "| Multiome10x_05_ACGACAAAGGTACCGC-1 | Multiome10x_05_ACGACAAAGGTACCGC-1 | 1784 | 117 | K562 | 7.486613 | 0.06558296 |\n",
       "| Multiome10x_05_ACGTTGTAGTTTCCGC-1 | Multiome10x_05_ACGTTGTAGTTTCCGC-1 | 2235 | 268 | K562 | 7.711997 | 0.11991051 |\n",
       "| Multiome10x_05_ACTAAAGCAGCAAGAT-1 | Multiome10x_05_ACTAAAGCAGCAAGAT-1 | 1651 | 171 | K562 | 7.409136 | 0.10357359 |\n",
       "| Multiome10x_05_ACTCACTGTTAATGCG-1 | Multiome10x_05_ACTCACTGTTAATGCG-1 | 1010 | 218 | K562 | 6.917706 | 0.21584158 |\n",
       "| ⋮ | ⋮ | ⋮ | ⋮ | ⋮ | ⋮ | ⋮ |\n",
       "| Multiome10x_06_TGTGTGAGTTTGTGGA-1 | Multiome10x_06_TGTGTGAGTTTGTGGA-1 | 1884 | 158 | K562 | 7.541152 | 0.08386412 |\n",
       "| Multiome10x_06_TGTGTTAAGTCATTGA-1 | Multiome10x_06_TGTGTTAAGTCATTGA-1 | 1139 | 144 | K562 | 7.037906 | 0.12642669 |\n",
       "| Multiome10x_06_TGTTCATTCTGCAACG-1 | Multiome10x_06_TGTTCATTCTGCAACG-1 | 2620 | 226 | K562 | 7.870930 | 0.08625954 |\n",
       "| Multiome10x_06_TGTTGTTTCCTGAATA-1 | Multiome10x_06_TGTTGTTTCCTGAATA-1 | 2251 | 176 | K562 | 7.719130 | 0.07818747 |\n",
       "| Multiome10x_06_TTAATCGAGACACTTA-1 | Multiome10x_06_TTAATCGAGACACTTA-1 | 1290 |  87 | K562 | 7.162397 | 0.06744186 |\n",
       "| Multiome10x_06_TTAGAAGCACCCACAG-1 | Multiome10x_06_TTAGAAGCACCCACAG-1 | 1039 | 119 | K562 | 6.946014 | 0.11453321 |\n",
       "| Multiome10x_06_TTAGAAGCATAGTCAT-1 | Multiome10x_06_TTAGAAGCATAGTCAT-1 | 1683 | 102 | K562 | 7.428333 | 0.06060606 |\n",
       "| Multiome10x_06_TTAGCAGGTCCTTTAA-1 | Multiome10x_06_TTAGCAGGTCCTTTAA-1 | 3142 | 182 | K562 | 8.052615 | 0.05792489 |\n",
       "| Multiome10x_06_TTAGCCTGTTATAGCG-1 | Multiome10x_06_TTAGCCTGTTATAGCG-1 | 1689 | 317 | K562 | 7.431892 | 0.18768502 |\n",
       "| Multiome10x_06_TTATAGCCAGTTAAAG-1 | Multiome10x_06_TTATAGCCAGTTAAAG-1 | 1583 | 106 | K562 | 7.367077 | 0.06696147 |\n",
       "| Multiome10x_06_TTATGACCACCAAAGG-1 | Multiome10x_06_TTATGACCACCAAAGG-1 | 2042 |  85 | K562 | 7.621685 | 0.04162586 |\n",
       "| Multiome10x_06_TTATTGCTCTTAATGG-1 | Multiome10x_06_TTATTGCTCTTAATGG-1 | 1549 | 102 | K562 | 7.345365 | 0.06584893 |\n",
       "| Multiome10x_06_TTCAGGTAGGAATAAC-1 | Multiome10x_06_TTCAGGTAGGAATAAC-1 | 2472 | 160 | K562 | 7.812783 | 0.06472492 |\n",
       "| Multiome10x_06_TTCAGGTAGGTCGAGG-1 | Multiome10x_06_TTCAGGTAGGTCGAGG-1 | 2185 | 245 | K562 | 7.689371 | 0.11212815 |\n",
       "| Multiome10x_06_TTCATCCCACAAGCCT-1 | Multiome10x_06_TTCATCCCACAAGCCT-1 | 1681 | 207 | K562 | 7.427144 | 0.12314099 |\n",
       "| Multiome10x_06_TTCCACGGTAATGGCC-1 | Multiome10x_06_TTCCACGGTAATGGCC-1 | 1584 | 145 | K562 | 7.367709 | 0.09154040 |\n",
       "| Multiome10x_06_TTCGGTACAGAAATGC-1 | Multiome10x_06_TTCGGTACAGAAATGC-1 | 2344 | 158 | K562 | 7.759614 | 0.06740614 |\n",
       "| Multiome10x_06_TTCGTGCTCGCTTGCT-1 | Multiome10x_06_TTCGTGCTCGCTTGCT-1 | 1315 | 239 | K562 | 7.181592 | 0.18174905 |\n",
       "| Multiome10x_06_TTGACGTAGCGATACT-1 | Multiome10x_06_TTGACGTAGCGATACT-1 | 1881 | 143 | K562 | 7.539559 | 0.07602339 |\n",
       "| Multiome10x_06_TTGACGTAGCTTATGA-1 | Multiome10x_06_TTGACGTAGCTTATGA-1 | 2180 | 120 | K562 | 7.687080 | 0.05504587 |\n",
       "| Multiome10x_06_TTGACTAAGACTCGCA-1 | Multiome10x_06_TTGACTAAGACTCGCA-1 | 2021 | 143 | K562 | 7.611348 | 0.07075705 |\n",
       "| Multiome10x_06_TTGGCGGGTACCTTAC-1 | Multiome10x_06_TTGGCGGGTACCTTAC-1 | 1829 |  56 | K562 | 7.511525 | 0.03061782 |\n",
       "| Multiome10x_06_TTGGCGGGTTTATGGG-1 | Multiome10x_06_TTGGCGGGTTTATGGG-1 | 1400 | 173 | K562 | 7.244228 | 0.12357143 |\n",
       "| Multiome10x_06_TTGGGCGGTAATCGCA-1 | Multiome10x_06_TTGGGCGGTAATCGCA-1 | 1532 |  86 | K562 | 7.334329 | 0.05613577 |\n",
       "| Multiome10x_06_TTGGGTTAGCAGGTGG-1 | Multiome10x_06_TTGGGTTAGCAGGTGG-1 | 1342 | 239 | K562 | 7.201916 | 0.17809240 |\n",
       "| Multiome10x_06_TTGGGTTAGGCCTTAG-1 | Multiome10x_06_TTGGGTTAGGCCTTAG-1 | 1747 | 239 | K562 | 7.465655 | 0.13680595 |\n",
       "| Multiome10x_06_TTGTAAGTCGTTACAA-1 | Multiome10x_06_TTGTAAGTCGTTACAA-1 | 1999 | 147 | K562 | 7.600402 | 0.07353677 |\n",
       "| Multiome10x_06_TTGTCCGGTTTATCTG-1 | Multiome10x_06_TTGTCCGGTTTATCTG-1 | 1990 | 334 | K562 | 7.595890 | 0.16783920 |\n",
       "| Multiome10x_06_TTTGAGTCAGCTTACA-1 | Multiome10x_06_TTTGAGTCAGCTTACA-1 | 1814 | 131 | K562 | 7.503290 | 0.07221610 |\n",
       "| Multiome10x_06_TTTGCGGAGCCTGGTA-1 | Multiome10x_06_TTTGCGGAGCCTGGTA-1 | 2543 | 249 | K562 | 7.841100 | 0.09791585 |\n",
       "\n"
      ],
      "text/plain": [
       "                                  cell                              nUMI nMito\n",
       "Multiome10x_05_AAACCGAAGTAATCCA-1 Multiome10x_05_AAACCGAAGTAATCCA-1 1872 192  \n",
       "Multiome10x_05_AAAGCCCGTGAGGTAG-1 Multiome10x_05_AAAGCCCGTGAGGTAG-1 2376 214  \n",
       "Multiome10x_05_AAAGCCGCAGGCATGA-1 Multiome10x_05_AAAGCCGCAGGCATGA-1 2530 203  \n",
       "Multiome10x_05_AAAGCCGCATAGCGAG-1 Multiome10x_05_AAAGCCGCATAGCGAG-1 1417  77  \n",
       "Multiome10x_05_AACATAGCATTAGGCC-1 Multiome10x_05_AACATAGCATTAGGCC-1 2337 235  \n",
       "Multiome10x_05_AAGAACAGTCAAGTAT-1 Multiome10x_05_AAGAACAGTCAAGTAT-1 1073  35  \n",
       "Multiome10x_05_AAGACATAGGCTAAGA-1 Multiome10x_05_AAGACATAGGCTAAGA-1 1291 115  \n",
       "Multiome10x_05_AAGCCTGTCCCTGTTA-1 Multiome10x_05_AAGCCTGTCCCTGTTA-1 2486 163  \n",
       "Multiome10x_05_AAGCGAGGTTAGGTGC-1 Multiome10x_05_AAGCGAGGTTAGGTGC-1 1114 208  \n",
       "Multiome10x_05_AAGCGTTTCGCGACAC-1 Multiome10x_05_AAGCGTTTCGCGACAC-1 2465 214  \n",
       "Multiome10x_05_AAGGATCCAATTAACC-1 Multiome10x_05_AAGGATCCAATTAACC-1 1521 148  \n",
       "Multiome10x_05_AAGGCCCTCACCTGCT-1 Multiome10x_05_AAGGCCCTCACCTGCT-1 2764 217  \n",
       "Multiome10x_05_AAGTCTATCTTTAAGG-1 Multiome10x_05_AAGTCTATCTTTAAGG-1 2073 220  \n",
       "Multiome10x_05_AAGTGAAGTAGCCATA-1 Multiome10x_05_AAGTGAAGTAGCCATA-1 2504 176  \n",
       "Multiome10x_05_AATCCATCAAGGTAAC-1 Multiome10x_05_AATCCATCAAGGTAAC-1 2210 216  \n",
       "Multiome10x_05_ACAACAACACCGGCTA-1 Multiome10x_05_ACAACAACACCGGCTA-1 2092 144  \n",
       "Multiome10x_05_ACAACAGAGCCTGACA-1 Multiome10x_05_ACAACAGAGCCTGACA-1 1622  91  \n",
       "Multiome10x_05_ACACTAGGTTGTTGCT-1 Multiome10x_05_ACACTAGGTTGTTGCT-1 2281 133  \n",
       "Multiome10x_05_ACAGGATCATAGGCGA-1 Multiome10x_05_ACAGGATCATAGGCGA-1 1721 109  \n",
       "Multiome10x_05_ACAGTATGTTAGGCGT-1 Multiome10x_05_ACAGTATGTTAGGCGT-1 1787  97  \n",
       "Multiome10x_05_ACAGTATGTTTGTGGA-1 Multiome10x_05_ACAGTATGTTTGTGGA-1 2273 129  \n",
       "Multiome10x_05_ACATAGCTCCGCCAAA-1 Multiome10x_05_ACATAGCTCCGCCAAA-1 1942 239  \n",
       "Multiome10x_05_ACCAAACTCGCCTAAG-1 Multiome10x_05_ACCAAACTCGCCTAAG-1 1403 150  \n",
       "Multiome10x_05_ACCAAGCGTGTGCACG-1 Multiome10x_05_ACCAAGCGTGTGCACG-1 1250 122  \n",
       "Multiome10x_05_ACCAGGCTCGGTTTGG-1 Multiome10x_05_ACCAGGCTCGGTTTGG-1 1026 118  \n",
       "Multiome10x_05_ACCAGGGAGTTTCCGC-1 Multiome10x_05_ACCAGGGAGTTTCCGC-1 1962 121  \n",
       "Multiome10x_05_ACGACAAAGGTACCGC-1 Multiome10x_05_ACGACAAAGGTACCGC-1 1784 117  \n",
       "Multiome10x_05_ACGTTGTAGTTTCCGC-1 Multiome10x_05_ACGTTGTAGTTTCCGC-1 2235 268  \n",
       "Multiome10x_05_ACTAAAGCAGCAAGAT-1 Multiome10x_05_ACTAAAGCAGCAAGAT-1 1651 171  \n",
       "Multiome10x_05_ACTCACTGTTAATGCG-1 Multiome10x_05_ACTCACTGTTAATGCG-1 1010 218  \n",
       "⋮                                 ⋮                                 ⋮    ⋮    \n",
       "Multiome10x_06_TGTGTGAGTTTGTGGA-1 Multiome10x_06_TGTGTGAGTTTGTGGA-1 1884 158  \n",
       "Multiome10x_06_TGTGTTAAGTCATTGA-1 Multiome10x_06_TGTGTTAAGTCATTGA-1 1139 144  \n",
       "Multiome10x_06_TGTTCATTCTGCAACG-1 Multiome10x_06_TGTTCATTCTGCAACG-1 2620 226  \n",
       "Multiome10x_06_TGTTGTTTCCTGAATA-1 Multiome10x_06_TGTTGTTTCCTGAATA-1 2251 176  \n",
       "Multiome10x_06_TTAATCGAGACACTTA-1 Multiome10x_06_TTAATCGAGACACTTA-1 1290  87  \n",
       "Multiome10x_06_TTAGAAGCACCCACAG-1 Multiome10x_06_TTAGAAGCACCCACAG-1 1039 119  \n",
       "Multiome10x_06_TTAGAAGCATAGTCAT-1 Multiome10x_06_TTAGAAGCATAGTCAT-1 1683 102  \n",
       "Multiome10x_06_TTAGCAGGTCCTTTAA-1 Multiome10x_06_TTAGCAGGTCCTTTAA-1 3142 182  \n",
       "Multiome10x_06_TTAGCCTGTTATAGCG-1 Multiome10x_06_TTAGCCTGTTATAGCG-1 1689 317  \n",
       "Multiome10x_06_TTATAGCCAGTTAAAG-1 Multiome10x_06_TTATAGCCAGTTAAAG-1 1583 106  \n",
       "Multiome10x_06_TTATGACCACCAAAGG-1 Multiome10x_06_TTATGACCACCAAAGG-1 2042  85  \n",
       "Multiome10x_06_TTATTGCTCTTAATGG-1 Multiome10x_06_TTATTGCTCTTAATGG-1 1549 102  \n",
       "Multiome10x_06_TTCAGGTAGGAATAAC-1 Multiome10x_06_TTCAGGTAGGAATAAC-1 2472 160  \n",
       "Multiome10x_06_TTCAGGTAGGTCGAGG-1 Multiome10x_06_TTCAGGTAGGTCGAGG-1 2185 245  \n",
       "Multiome10x_06_TTCATCCCACAAGCCT-1 Multiome10x_06_TTCATCCCACAAGCCT-1 1681 207  \n",
       "Multiome10x_06_TTCCACGGTAATGGCC-1 Multiome10x_06_TTCCACGGTAATGGCC-1 1584 145  \n",
       "Multiome10x_06_TTCGGTACAGAAATGC-1 Multiome10x_06_TTCGGTACAGAAATGC-1 2344 158  \n",
       "Multiome10x_06_TTCGTGCTCGCTTGCT-1 Multiome10x_06_TTCGTGCTCGCTTGCT-1 1315 239  \n",
       "Multiome10x_06_TTGACGTAGCGATACT-1 Multiome10x_06_TTGACGTAGCGATACT-1 1881 143  \n",
       "Multiome10x_06_TTGACGTAGCTTATGA-1 Multiome10x_06_TTGACGTAGCTTATGA-1 2180 120  \n",
       "Multiome10x_06_TTGACTAAGACTCGCA-1 Multiome10x_06_TTGACTAAGACTCGCA-1 2021 143  \n",
       "Multiome10x_06_TTGGCGGGTACCTTAC-1 Multiome10x_06_TTGGCGGGTACCTTAC-1 1829  56  \n",
       "Multiome10x_06_TTGGCGGGTTTATGGG-1 Multiome10x_06_TTGGCGGGTTTATGGG-1 1400 173  \n",
       "Multiome10x_06_TTGGGCGGTAATCGCA-1 Multiome10x_06_TTGGGCGGTAATCGCA-1 1532  86  \n",
       "Multiome10x_06_TTGGGTTAGCAGGTGG-1 Multiome10x_06_TTGGGTTAGCAGGTGG-1 1342 239  \n",
       "Multiome10x_06_TTGGGTTAGGCCTTAG-1 Multiome10x_06_TTGGGTTAGGCCTTAG-1 1747 239  \n",
       "Multiome10x_06_TTGTAAGTCGTTACAA-1 Multiome10x_06_TTGTAAGTCGTTACAA-1 1999 147  \n",
       "Multiome10x_06_TTGTCCGGTTTATCTG-1 Multiome10x_06_TTGTCCGGTTTATCTG-1 1990 334  \n",
       "Multiome10x_06_TTTGAGTCAGCTTACA-1 Multiome10x_06_TTTGAGTCAGCTTACA-1 1814 131  \n",
       "Multiome10x_06_TTTGCGGAGCCTGGTA-1 Multiome10x_06_TTTGCGGAGCCTGGTA-1 2543 249  \n",
       "                                  celltype log.nUMI percent.mito\n",
       "Multiome10x_05_AAACCGAAGTAATCCA-1 K562     7.534763 0.10256410  \n",
       "Multiome10x_05_AAAGCCCGTGAGGTAG-1 K562     7.773174 0.09006734  \n",
       "Multiome10x_05_AAAGCCGCAGGCATGA-1 K562     7.835975 0.08023715  \n",
       "Multiome10x_05_AAAGCCGCATAGCGAG-1 K562     7.256297 0.05434016  \n",
       "Multiome10x_05_AACATAGCATTAGGCC-1 K562     7.756623 0.10055627  \n",
       "Multiome10x_05_AAGAACAGTCAAGTAT-1 K562     6.978214 0.03261883  \n",
       "Multiome10x_05_AAGACATAGGCTAAGA-1 K562     7.163172 0.08907823  \n",
       "Multiome10x_05_AAGCCTGTCCCTGTTA-1 K562     7.818430 0.06556718  \n",
       "Multiome10x_05_AAGCGAGGTTAGGTGC-1 K562     7.015712 0.18671454  \n",
       "Multiome10x_05_AAGCGTTTCGCGACAC-1 K562     7.809947 0.08681542  \n",
       "Multiome10x_05_AAGGATCCAATTAACC-1 K562     7.327123 0.09730440  \n",
       "Multiome10x_05_AAGGCCCTCACCTGCT-1 K562     7.924434 0.07850941  \n",
       "Multiome10x_05_AAGTCTATCTTTAAGG-1 K562     7.636752 0.10612639  \n",
       "Multiome10x_05_AAGTGAAGTAGCCATA-1 K562     7.825645 0.07028754  \n",
       "Multiome10x_05_AATCCATCAAGGTAAC-1 K562     7.700748 0.09773756  \n",
       "Multiome10x_05_ACAACAACACCGGCTA-1 K562     7.645876 0.06883365  \n",
       "Multiome10x_05_ACAACAGAGCCTGACA-1 K562     7.391415 0.05610358  \n",
       "Multiome10x_05_ACACTAGGTTGTTGCT-1 K562     7.732369 0.05830776  \n",
       "Multiome10x_05_ACAGGATCATAGGCGA-1 K562     7.450661 0.06333527  \n",
       "Multiome10x_05_ACAGTATGTTAGGCGT-1 K562     7.488294 0.05428092  \n",
       "Multiome10x_05_ACAGTATGTTTGTGGA-1 K562     7.728856 0.05675319  \n",
       "Multiome10x_05_ACATAGCTCCGCCAAA-1 K562     7.571474 0.12306900  \n",
       "Multiome10x_05_ACCAAACTCGCCTAAG-1 K562     7.246368 0.10691376  \n",
       "Multiome10x_05_ACCAAGCGTGTGCACG-1 K562     7.130899 0.09760000  \n",
       "Multiome10x_05_ACCAGGCTCGGTTTGG-1 K562     6.933423 0.11500975  \n",
       "Multiome10x_05_ACCAGGGAGTTTCCGC-1 K562     7.581720 0.06167176  \n",
       "Multiome10x_05_ACGACAAAGGTACCGC-1 K562     7.486613 0.06558296  \n",
       "Multiome10x_05_ACGTTGTAGTTTCCGC-1 K562     7.711997 0.11991051  \n",
       "Multiome10x_05_ACTAAAGCAGCAAGAT-1 K562     7.409136 0.10357359  \n",
       "Multiome10x_05_ACTCACTGTTAATGCG-1 K562     6.917706 0.21584158  \n",
       "⋮                                 ⋮        ⋮        ⋮           \n",
       "Multiome10x_06_TGTGTGAGTTTGTGGA-1 K562     7.541152 0.08386412  \n",
       "Multiome10x_06_TGTGTTAAGTCATTGA-1 K562     7.037906 0.12642669  \n",
       "Multiome10x_06_TGTTCATTCTGCAACG-1 K562     7.870930 0.08625954  \n",
       "Multiome10x_06_TGTTGTTTCCTGAATA-1 K562     7.719130 0.07818747  \n",
       "Multiome10x_06_TTAATCGAGACACTTA-1 K562     7.162397 0.06744186  \n",
       "Multiome10x_06_TTAGAAGCACCCACAG-1 K562     6.946014 0.11453321  \n",
       "Multiome10x_06_TTAGAAGCATAGTCAT-1 K562     7.428333 0.06060606  \n",
       "Multiome10x_06_TTAGCAGGTCCTTTAA-1 K562     8.052615 0.05792489  \n",
       "Multiome10x_06_TTAGCCTGTTATAGCG-1 K562     7.431892 0.18768502  \n",
       "Multiome10x_06_TTATAGCCAGTTAAAG-1 K562     7.367077 0.06696147  \n",
       "Multiome10x_06_TTATGACCACCAAAGG-1 K562     7.621685 0.04162586  \n",
       "Multiome10x_06_TTATTGCTCTTAATGG-1 K562     7.345365 0.06584893  \n",
       "Multiome10x_06_TTCAGGTAGGAATAAC-1 K562     7.812783 0.06472492  \n",
       "Multiome10x_06_TTCAGGTAGGTCGAGG-1 K562     7.689371 0.11212815  \n",
       "Multiome10x_06_TTCATCCCACAAGCCT-1 K562     7.427144 0.12314099  \n",
       "Multiome10x_06_TTCCACGGTAATGGCC-1 K562     7.367709 0.09154040  \n",
       "Multiome10x_06_TTCGGTACAGAAATGC-1 K562     7.759614 0.06740614  \n",
       "Multiome10x_06_TTCGTGCTCGCTTGCT-1 K562     7.181592 0.18174905  \n",
       "Multiome10x_06_TTGACGTAGCGATACT-1 K562     7.539559 0.07602339  \n",
       "Multiome10x_06_TTGACGTAGCTTATGA-1 K562     7.687080 0.05504587  \n",
       "Multiome10x_06_TTGACTAAGACTCGCA-1 K562     7.611348 0.07075705  \n",
       "Multiome10x_06_TTGGCGGGTACCTTAC-1 K562     7.511525 0.03061782  \n",
       "Multiome10x_06_TTGGCGGGTTTATGGG-1 K562     7.244228 0.12357143  \n",
       "Multiome10x_06_TTGGGCGGTAATCGCA-1 K562     7.334329 0.05613577  \n",
       "Multiome10x_06_TTGGGTTAGCAGGTGG-1 K562     7.201916 0.17809240  \n",
       "Multiome10x_06_TTGGGTTAGGCCTTAG-1 K562     7.465655 0.13680595  \n",
       "Multiome10x_06_TTGTAAGTCGTTACAA-1 K562     7.600402 0.07353677  \n",
       "Multiome10x_06_TTGTCCGGTTTATCTG-1 K562     7.595890 0.16783920  \n",
       "Multiome10x_06_TTTGAGTCAGCTTACA-1 K562     7.503290 0.07221610  \n",
       "Multiome10x_06_TTTGCGGAGCCTGGTA-1 K562     7.841100 0.09791585  "
      ]
     },
     "metadata": {},
     "output_type": "display_data"
    }
   ],
   "source": [
    "meta.data = data.frame(cell = colnames(matrix.rna),\n",
    "                       nUMI = colSums(matrix.rna),\n",
    "                       nMito = colSums(matrix.rna[grep(\"MT-\",rownames(matrix.rna)),]),\n",
    "                       celltype = \"K562\")\n",
    "meta.data[,\"log.nUMI\"] = log(meta.data[,\"nUMI\"])\n",
    "meta.data[,\"percent.mito\"] = meta.data[,\"nMito\"] / meta.data[,\"nUMI\"]\n",
    "meta.data"
   ]
  },
  {
   "cell_type": "markdown",
   "id": "b823cb4a-3ce6-40b1-9a0d-d5d1e4aa3912",
   "metadata": {},
   "source": [
    "RUN SCENT prediction"
   ]
  },
  {
   "cell_type": "code",
   "execution_count": 12,
   "id": "f46765dc-9de5-4411-9288-40b59435f9fb",
   "metadata": {},
   "outputs": [],
   "source": [
    "SCENT_algorithm.modified = function (object, \n",
    "                                     # celltype, \n",
    "                                     # ncores, \n",
    "                                     # regr = \"poisson\", \n",
    "                                     # bin = TRUE) \n",
    "                                     regr = \"poisson\") {\n",
    "    res <- data.frame()\n",
    "    for (n in 1:nrow(object@peak.info)) {        \n",
    "        gene <- object@peak.info[n, 1]\n",
    "        this_peak <- object@peak.info[n, 2]\n",
    "        atac_target <- data.frame(cell = colnames(object@atac), \n",
    "            atac = object@atac[this_peak, ])\n",
    "        # if (bin) {\n",
    "        #     atac_target[atac_target$atac > 0, ]$atac <- 1\n",
    "        # }\n",
    "        mrna_target <- object@rna[gene, ]\n",
    "        df <- data.frame(cell = names(mrna_target), exprs = as.numeric(mrna_target))\n",
    "        df <- merge(df, atac_target, by = \"cell\")\n",
    "        df <- merge(df, object@meta.data, by = \"cell\")\n",
    "        # df2 <- df[df[[object@celltypes]] == celltype, ]\n",
    "        df2 <- df\n",
    "        nonzero_m <- length(df2$exprs[df2$exprs > 0])/length(df2$exprs)\n",
    "        nonzero_a <- length(df2$atac[df2$atac > 0])/length(df2$atac)\n",
    "        if (nonzero_m > 0.05 & nonzero_a > 0.05) {\n",
    "            res_var <- \"exprs\"\n",
    "            pred_var <- c(\"atac\", object@covariates)\n",
    "            formula <- as.formula(paste(res_var, paste(pred_var, \n",
    "                collapse = \"+\"), sep = \"~\"))\n",
    "            if (regr == \"poisson\") {\n",
    "                base = glm(formula, family = \"poisson\", data = df2)\n",
    "                coefs <- summary(base)$coefficients[\"atac\", ]\n",
    "                # assoc <- assoc_poisson\n",
    "                assoc <- SCENT::assoc_poisson\n",
    "            }\n",
    "            else if (regr == \"negbin\") {\n",
    "                base = glm.nb(formula, data = df2)\n",
    "                coefs <- summary(base)$coefficients[\"atac\", ]\n",
    "                # assoc <- assoc_negbin\n",
    "                assoc <- SCENT::assoc_negbin\n",
    "            }\n",
    "            bs = boot::boot(df2, assoc, R = 100, formula = formula, \n",
    "                stype = \"i\", parallel = \"no\", ncpus = 1)\n",
    "            # p0 = basic_p(bs$t0[1], bs$t[, 1])\n",
    "            p0 = SCENT::basic_p(bs$t0[1], bs$t[, 1])\n",
    "            # if (p0 < 0.1) {\n",
    "            #     bs = boot::boot(df2, assoc, R = 500, formula = formula, \n",
    "            #       stype = \"i\", \n",
    "            #       # parallel = \"multicore\", ncpus = ncores)\n",
    "            #       parallel = \"no\", ncpus = 1)\n",
    "            #     # p0 = basic_p(bs$t0[1], bs$t[, 1])\n",
    "            #     p0 = SCENT::basic_p(bs$t0[1], bs$t[, 1])\n",
    "            # }\n",
    "            # if (p0 < 0.05) {\n",
    "            #     bs = boot::boot(df2, assoc, R = 2500, formula = formula, \n",
    "            #       stype = \"i\", \n",
    "            #       # parallel = \"multicore\", ncpus = ncores)\n",
    "            #       parallel = \"no\", ncpus = 1)\n",
    "            #     # p0 = basic_p(bs$t0[1], bs$t[, 1])\n",
    "            #     p0 = SCENT::basic_p(bs$t0[1], bs$t[, 1])\n",
    "            # }\n",
    "            # if (p0 < 0.01) {\n",
    "            #     bs = boot::boot(df2, assoc, R = 25000, formula = formula, \n",
    "            #       stype = \"i\", \n",
    "            #       # parallel = \"multicore\", ncpus = ncores)\n",
    "            #       parallel = \"no\", ncpus = 1)\n",
    "            #     # p0 = basic_p(bs$t0[1], bs$t[, 1])\n",
    "            #     p0 = SCENT::basic_p(bs$t0[1], bs$t[, 1])\n",
    "            # }\n",
    "            # if (p0 < 0.001) {\n",
    "            #     bs = boot::boot(df2, assoc, R = 50000, formula = formula, \n",
    "            #       stype = \"i\", \n",
    "            #       # parallel = \"multicore\", ncpus = ncores)\n",
    "            #       parallel = \"no\", ncpus = 1)\n",
    "            #     # p0 = basic_p(bs$t0[1], bs$t[, 1])\n",
    "            #     p0 = SCENT::basic_p(bs$t0[1], bs$t[, 1])\n",
    "            # }\n",
    "            out <- data.frame(gene = gene, peak = this_peak, \n",
    "                beta = coefs[1], se = coefs[2], z = coefs[3], \n",
    "                p = coefs[4], boot_basic_p = p0)           \n",
    "            res <- rbind(res, out)\n",
    "        }\n",
    "    }\n",
    "    object@SCENT.result <- res\n",
    "    return(object)\n",
    "}"
   ]
  },
  {
   "cell_type": "code",
   "execution_count": 13,
   "id": "563771b9-b96a-44d5-a5fe-fa30a7b9851b",
   "metadata": {},
   "outputs": [],
   "source": [
    "dir.create(paste(dir.output,\"chr\",sep = \"/\"),recursive = T)"
   ]
  },
  {
   "cell_type": "code",
   "execution_count": 14,
   "id": "0d2266ce-b92d-40d2-9b78-f39bd33a5079",
   "metadata": {},
   "outputs": [],
   "source": [
    "chr.done = dir(paste(dir.output,\"chr\",sep = \"/\"))\n",
    "chr.run = as.character(unique(seqnames(pairs.E2G.filter2)))\n",
    "chr.run = chr.run[!chr.run %in% chr.done]"
   ]
  },
  {
   "cell_type": "code",
   "execution_count": 15,
   "id": "2d41238d-e833-4e0e-add5-bb56bb615c1a",
   "metadata": {},
   "outputs": [
    {
     "name": "stdout",
     "output_type": "stream",
     "text": [
      "[1] \"chr1\"\n"
     ]
    },
    {
     "name": "stderr",
     "output_type": "stream",
     "text": [
      "Warning message in split.default(x = seq_len(nrow(x)), f = f, drop = drop, ...):\n",
      "“data length is not a multiple of split variable”\n"
     ]
    },
    {
     "name": "stdout",
     "output_type": "stream",
     "text": [
      "[1] \"chr10\"\n"
     ]
    },
    {
     "name": "stderr",
     "output_type": "stream",
     "text": [
      "Warning message in split.default(x = seq_len(nrow(x)), f = f, drop = drop, ...):\n",
      "“data length is not a multiple of split variable”\n"
     ]
    },
    {
     "name": "stdout",
     "output_type": "stream",
     "text": [
      "[1] \"chr11\"\n"
     ]
    },
    {
     "name": "stderr",
     "output_type": "stream",
     "text": [
      "Warning message in split.default(x = seq_len(nrow(x)), f = f, drop = drop, ...):\n",
      "“data length is not a multiple of split variable”\n"
     ]
    },
    {
     "name": "stdout",
     "output_type": "stream",
     "text": [
      "[1] \"chr12\"\n"
     ]
    },
    {
     "name": "stderr",
     "output_type": "stream",
     "text": [
      "Warning message in split.default(x = seq_len(nrow(x)), f = f, drop = drop, ...):\n",
      "“data length is not a multiple of split variable”\n"
     ]
    },
    {
     "name": "stdout",
     "output_type": "stream",
     "text": [
      "[1] \"chr13\"\n"
     ]
    },
    {
     "name": "stderr",
     "output_type": "stream",
     "text": [
      "Warning message in split.default(x = seq_len(nrow(x)), f = f, drop = drop, ...):\n",
      "“data length is not a multiple of split variable”\n"
     ]
    },
    {
     "name": "stdout",
     "output_type": "stream",
     "text": [
      "[1] \"chr14\"\n",
      "[1] \"chr15\"\n"
     ]
    },
    {
     "name": "stderr",
     "output_type": "stream",
     "text": [
      "Warning message in split.default(x = seq_len(nrow(x)), f = f, drop = drop, ...):\n",
      "“data length is not a multiple of split variable”\n"
     ]
    },
    {
     "name": "stdout",
     "output_type": "stream",
     "text": [
      "[1] \"chr16\"\n"
     ]
    },
    {
     "name": "stderr",
     "output_type": "stream",
     "text": [
      "Warning message in split.default(x = seq_len(nrow(x)), f = f, drop = drop, ...):\n",
      "“data length is not a multiple of split variable”\n"
     ]
    },
    {
     "name": "stdout",
     "output_type": "stream",
     "text": [
      "[1] \"chr17\"\n"
     ]
    },
    {
     "name": "stderr",
     "output_type": "stream",
     "text": [
      "Warning message in split.default(x = seq_len(nrow(x)), f = f, drop = drop, ...):\n",
      "“data length is not a multiple of split variable”\n"
     ]
    },
    {
     "name": "stdout",
     "output_type": "stream",
     "text": [
      "[1] \"chr18\"\n"
     ]
    },
    {
     "name": "stderr",
     "output_type": "stream",
     "text": [
      "Warning message in split.default(x = seq_len(nrow(x)), f = f, drop = drop, ...):\n",
      "“data length is not a multiple of split variable”\n"
     ]
    },
    {
     "name": "stdout",
     "output_type": "stream",
     "text": [
      "[1] \"chr19\"\n"
     ]
    },
    {
     "name": "stderr",
     "output_type": "stream",
     "text": [
      "Warning message in split.default(x = seq_len(nrow(x)), f = f, drop = drop, ...):\n",
      "“data length is not a multiple of split variable”\n"
     ]
    },
    {
     "name": "stdout",
     "output_type": "stream",
     "text": [
      "[1] \"chr2\"\n"
     ]
    },
    {
     "name": "stderr",
     "output_type": "stream",
     "text": [
      "Warning message in split.default(x = seq_len(nrow(x)), f = f, drop = drop, ...):\n",
      "“data length is not a multiple of split variable”\n"
     ]
    },
    {
     "name": "stdout",
     "output_type": "stream",
     "text": [
      "[1] \"chr20\"\n"
     ]
    },
    {
     "name": "stderr",
     "output_type": "stream",
     "text": [
      "Warning message in split.default(x = seq_len(nrow(x)), f = f, drop = drop, ...):\n",
      "“data length is not a multiple of split variable”\n"
     ]
    },
    {
     "name": "stdout",
     "output_type": "stream",
     "text": [
      "[1] \"chr21\"\n"
     ]
    },
    {
     "name": "stderr",
     "output_type": "stream",
     "text": [
      "Warning message in split.default(x = seq_len(nrow(x)), f = f, drop = drop, ...):\n",
      "“data length is not a multiple of split variable”\n"
     ]
    },
    {
     "name": "stdout",
     "output_type": "stream",
     "text": [
      "[1] \"chr22\"\n"
     ]
    },
    {
     "name": "stderr",
     "output_type": "stream",
     "text": [
      "Warning message in split.default(x = seq_len(nrow(x)), f = f, drop = drop, ...):\n",
      "“data length is not a multiple of split variable”\n"
     ]
    },
    {
     "name": "stdout",
     "output_type": "stream",
     "text": [
      "[1] \"chr3\"\n"
     ]
    },
    {
     "name": "stderr",
     "output_type": "stream",
     "text": [
      "Warning message in split.default(x = seq_len(nrow(x)), f = f, drop = drop, ...):\n",
      "“data length is not a multiple of split variable”\n"
     ]
    },
    {
     "name": "stdout",
     "output_type": "stream",
     "text": [
      "[1] \"chr4\"\n"
     ]
    },
    {
     "name": "stderr",
     "output_type": "stream",
     "text": [
      "Warning message in split.default(x = seq_len(nrow(x)), f = f, drop = drop, ...):\n",
      "“data length is not a multiple of split variable”\n"
     ]
    },
    {
     "name": "stdout",
     "output_type": "stream",
     "text": [
      "[1] \"chr5\"\n"
     ]
    },
    {
     "name": "stderr",
     "output_type": "stream",
     "text": [
      "Warning message in split.default(x = seq_len(nrow(x)), f = f, drop = drop, ...):\n",
      "“data length is not a multiple of split variable”\n"
     ]
    },
    {
     "name": "stdout",
     "output_type": "stream",
     "text": [
      "[1] \"chr6\"\n"
     ]
    },
    {
     "name": "stderr",
     "output_type": "stream",
     "text": [
      "Warning message in split.default(x = seq_len(nrow(x)), f = f, drop = drop, ...):\n",
      "“data length is not a multiple of split variable”\n"
     ]
    },
    {
     "name": "stdout",
     "output_type": "stream",
     "text": [
      "[1] \"chr7\"\n"
     ]
    },
    {
     "name": "stderr",
     "output_type": "stream",
     "text": [
      "Warning message in split.default(x = seq_len(nrow(x)), f = f, drop = drop, ...):\n",
      "“data length is not a multiple of split variable”\n"
     ]
    },
    {
     "name": "stdout",
     "output_type": "stream",
     "text": [
      "[1] \"chr8\"\n"
     ]
    },
    {
     "name": "stderr",
     "output_type": "stream",
     "text": [
      "Warning message in split.default(x = seq_len(nrow(x)), f = f, drop = drop, ...):\n",
      "“data length is not a multiple of split variable”\n"
     ]
    },
    {
     "name": "stdout",
     "output_type": "stream",
     "text": [
      "[1] \"chr9\"\n"
     ]
    },
    {
     "name": "stderr",
     "output_type": "stream",
     "text": [
      "Warning message in split.default(x = seq_len(nrow(x)), f = f, drop = drop, ...):\n",
      "“data length is not a multiple of split variable”\n"
     ]
    },
    {
     "name": "stdout",
     "output_type": "stream",
     "text": [
      "[1] \"chrX\"\n"
     ]
    },
    {
     "name": "stderr",
     "output_type": "stream",
     "text": [
      "Warning message in split.default(x = seq_len(nrow(x)), f = f, drop = drop, ...):\n",
      "“data length is not a multiple of split variable”\n"
     ]
    }
   ],
   "source": [
    "for(chr.tmp in chr.run){\n",
    "  print(chr.tmp)\n",
    "  pairs.E2G.chr.res = pairs.E2G.filter2[seqnames(pairs.E2G.filter2) == chr.tmp]\n",
    "  gene_peak.chr = as.data.frame(mcols(pairs.E2G.chr.res)[,c(\"TargetGene\",\"PeakName\")])\n",
    "  list.gene_peak.chr <- split(gene_peak.chr, seq_len(n.cores))\n",
    "  \n",
    "  list.obj.SCENT.chr <- lapply(list.gene_peak.chr, function(gene_peak.tmp) {\n",
    "    obj.SCENT.tmp <- CreateSCENTObj(\n",
    "      rna = matrix.rna[rownames(matrix.rna) %in% gene_peak.tmp$TargetGene,],\n",
    "      atac = matrix.atac[rownames(matrix.atac) %in% gene_peak.tmp$PeakName,], \n",
    "      meta.data = meta.data,\n",
    "      peak.info = gene_peak.tmp,\n",
    "      covariates = c(\"log.nUMI\",\"percent.mito\"), \n",
    "      celltypes = \"celltype\"\n",
    "    )\n",
    "  })\n",
    "  \n",
    "  cl <- makeCluster(n.cores)\n",
    "  clusterExport(cl, varlist=c(\"SCENT_algorithm.modified\"))\n",
    "  list.SCENT.result.chr <- parLapply(cl, list.obj.SCENT.chr, function(obj.SCENT.tmp) {\n",
    "    obj.SCENT.tmp <- SCENT_algorithm.modified(object = obj.SCENT.tmp)\n",
    "    return(obj.SCENT.tmp@SCENT.result)\n",
    "  })\n",
    "  stopCluster(cl)\n",
    "  \n",
    "  \n",
    "  df.SCENT.result.chr = do.call(rbind,list.SCENT.result.chr)\n",
    "  rownames(df.SCENT.result.chr) = paste(df.SCENT.result.chr$peak,\n",
    "                                        df.SCENT.result.chr$gene,\n",
    "                                        sep = \"_\")\n",
    "\n",
    "  pairs.E2G.chr.res = pairs.E2G.chr.res[pairs.E2G.chr.res$PairName %in% rownames(df.SCENT.result.chr)]\n",
    "  mcols(pairs.E2G.chr.res)[,c(\"beta\",\"se\",\"z\",\"p\",\"boot_basic_p\")] = \n",
    "    df.SCENT.result.chr[pairs.E2G.chr.res$PairName,c(\"beta\",\"se\",\"z\",\"p\",\"boot_basic_p\")]\n",
    "  pairs.E2G.chr.res$boot_basic_p.log10 = -log10(pairs.E2G.chr.res$boot_basic_p)\n",
    "  pairs.E2G.chr.res$sign = 1\n",
    "  pairs.E2G.chr.res$sign[pairs.E2G.chr.res$beta < 0] = -1\n",
    "  pairs.E2G.chr.res$boot_basic_p.log10.signed = pairs.E2G.chr.res$boot_basic_p.log10 * pairs.E2G.chr.res$sign\n",
    "  saveRDS(pairs.E2G.chr.res,\n",
    "          paste(dir.output,\"chr\",chr.tmp,sep = \"/\"))\n",
    "  rm (pairs.E2G.chr.res)\n",
    "}"
   ]
  },
  {
   "cell_type": "markdown",
   "id": "da9d1451-54e0-49e0-ae8b-cd0158115820",
   "metadata": {},
   "source": [
    "Merge results"
   ]
  },
  {
   "cell_type": "code",
   "execution_count": 16,
   "id": "6b4278f1-7d9d-402f-95c6-f274a6befea3",
   "metadata": {},
   "outputs": [],
   "source": [
    "chr.merge = as.character(unique(seqnames(pairs.E2G.filter2)))\n",
    "list.res = list()\n",
    "for(chr.tmp in chr.merge){\n",
    "    list.res[[chr.tmp]] = readRDS(paste(dir.output,\"chr\",chr.tmp,sep = \"/\"))\n",
    "}\n",
    "pairs.E2G.res = unlist(as(list.res, \"GRangesList\"))"
   ]
  },
  {
   "cell_type": "markdown",
   "id": "6ef1617e-3e2f-44f1-9245-007d569ca84d",
   "metadata": {},
   "source": [
    "Save results"
   ]
  },
  {
   "cell_type": "code",
   "execution_count": 17,
   "id": "48824f05-aedd-476c-88d6-ae58d1833fc9",
   "metadata": {},
   "outputs": [
    {
     "data": {
      "text/plain": [
       "GRanges object with 181581 ranges and 11 metadata columns:\n",
       "       seqnames              ranges strand |  TargetGene               PeakName\n",
       "          <Rle>           <IRanges>  <Rle> | <character>            <character>\n",
       "  chr1     chr1 100037810-100039315      * |      CDC14A chr1-100037810-10003..\n",
       "  chr1     chr1 100037810-100039315      * |        DPH5 chr1-100037810-10003..\n",
       "  chr1     chr1 100037810-100039315      * |     SLC30A7 chr1-100037810-10003..\n",
       "  chr1     chr1 100037810-100039315      * |      TRMT13 chr1-100037810-10003..\n",
       "  chr1     chr1 100132494-100133449      * |      CDC14A chr1-100132494-10013..\n",
       "   ...      ...                 ...    ... .         ...                    ...\n",
       "  chrX     chrX       989980-990596      * |       IL3RA     chrX-989980-990596\n",
       "  chrX     chrX       989980-990596      * |       P2RY8     chrX-989980-990596\n",
       "  chrX     chrX       989980-990596      * |     SLC25A6     chrX-989980-990596\n",
       "  chrX     chrX     9995794-9996120      * |       TBL1X   chrX-9995794-9996120\n",
       "  chrX     chrX     9995794-9996120      * |        WWC3   chrX-9995794-9996120\n",
       "                     PairName       beta        se         z          p\n",
       "                  <character>  <numeric> <numeric> <numeric>  <numeric>\n",
       "  chr1 chr1-100037810-10003..  0.2136309 0.0775308  2.755433 0.00586146\n",
       "  chr1 chr1-100037810-10003.. -0.0491431 0.2870104 -0.171224 0.86404741\n",
       "  chr1 chr1-100037810-10003.. -0.1114179 0.1977141 -0.563530 0.57307400\n",
       "  chr1 chr1-100037810-10003..  0.1575116 0.2894841  0.544111 0.58636483\n",
       "  chr1 chr1-100132494-10013..  0.0264171 0.0780238  0.338578 0.73492794\n",
       "   ...                    ...        ...       ...       ...        ...\n",
       "  chrX chrX-989980-990596_I..  0.4094559  0.329025  1.244453   0.213333\n",
       "  chrX chrX-989980-990596_P.. -0.0443388  0.149777 -0.296032   0.767206\n",
       "  chrX chrX-989980-990596_S..  0.0429723  0.122587  0.350546   0.725929\n",
       "  chrX chrX-9995794-9996120.. -0.5707795  0.454556 -1.255685   0.209230\n",
       "  chrX chrX-9995794-9996120.. -0.8700751  1.012757 -0.859115   0.390277\n",
       "       boot_basic_p boot_basic_p.log10      sign boot_basic_p.log10.signed\n",
       "          <numeric>          <numeric> <numeric>                 <numeric>\n",
       "  chr1         0.02          1.6989700         1                 1.6989700\n",
       "  chr1         0.94          0.0268721        -1                -0.0268721\n",
       "  chr1         0.72          0.1426675        -1                -0.1426675\n",
       "  chr1         0.76          0.1191864         1                 0.1191864\n",
       "  chr1         0.86          0.0655015         1                 0.0655015\n",
       "   ...          ...                ...       ...                       ...\n",
       "  chrX         0.18           0.744727         1                  0.744727\n",
       "  chrX         0.72           0.142668        -1                 -0.142668\n",
       "  chrX         0.64           0.193820         1                  0.193820\n",
       "  chrX         0.28           0.552842        -1                 -0.552842\n",
       "  chrX         0.74           0.130768        -1                 -0.130768\n",
       "  -------\n",
       "  seqinfo: 23 sequences from an unspecified genome; no seqlengths"
      ]
     },
     "metadata": {},
     "output_type": "display_data"
    }
   ],
   "source": [
    "saveRDS(pairs.E2G.res,\n",
    "        paste(dir.output,\"pairs.E2G.res.rds\",sep = \"/\"))\n",
    "pairs.E2G.res"
   ]
  },
  {
   "cell_type": "code",
   "execution_count": 18,
   "id": "2297128a-9ed6-42b8-90c7-459969fb5afd",
   "metadata": {},
   "outputs": [
    {
     "data": {
      "text/html": [
       "<table class=\"dataframe\">\n",
       "<caption>A data.frame: 181581 × 13</caption>\n",
       "<thead>\n",
       "\t<tr><th scope=col>chr</th><th scope=col>start</th><th scope=col>end</th><th scope=col>TargetGene</th><th scope=col>CellType</th><th scope=col>beta</th><th scope=col>se</th><th scope=col>z</th><th scope=col>p</th><th scope=col>boot_basic_p</th><th scope=col>boot_basic_p.log10</th><th scope=col>sign</th><th scope=col>boot_basic_p.log10.signed</th></tr>\n",
       "\t<tr><th scope=col>&lt;fct&gt;</th><th scope=col>&lt;int&gt;</th><th scope=col>&lt;int&gt;</th><th scope=col>&lt;chr&gt;</th><th scope=col>&lt;chr&gt;</th><th scope=col>&lt;dbl&gt;</th><th scope=col>&lt;dbl&gt;</th><th scope=col>&lt;dbl&gt;</th><th scope=col>&lt;dbl&gt;</th><th scope=col>&lt;dbl&gt;</th><th scope=col>&lt;dbl&gt;</th><th scope=col>&lt;dbl&gt;</th><th scope=col>&lt;dbl&gt;</th></tr>\n",
       "</thead>\n",
       "<tbody>\n",
       "\t<tr><td>chr1</td><td>100037810</td><td>100039315</td><td>CDC14A  </td><td>K562</td><td> 0.213630866</td><td>0.07753079</td><td> 2.75543274</td><td>0.005861455</td><td>0.02</td><td>1.698970004</td><td> 1</td><td> 1.698970004</td></tr>\n",
       "\t<tr><td>chr1</td><td>100037810</td><td>100039315</td><td>DPH5    </td><td>K562</td><td>-0.049143147</td><td>0.28701037</td><td>-0.17122429</td><td>0.864047408</td><td>0.94</td><td>0.026872146</td><td>-1</td><td>-0.026872146</td></tr>\n",
       "\t<tr><td>chr1</td><td>100037810</td><td>100039315</td><td>SLC30A7 </td><td>K562</td><td>-0.111417866</td><td>0.19771415</td><td>-0.56353006</td><td>0.573073997</td><td>0.72</td><td>0.142667504</td><td>-1</td><td>-0.142667504</td></tr>\n",
       "\t<tr><td>chr1</td><td>100037810</td><td>100039315</td><td>TRMT13  </td><td>K562</td><td> 0.157511577</td><td>0.28948407</td><td> 0.54411139</td><td>0.586364825</td><td>0.76</td><td>0.119186408</td><td> 1</td><td> 0.119186408</td></tr>\n",
       "\t<tr><td>chr1</td><td>100132494</td><td>100133449</td><td>CDC14A  </td><td>K562</td><td> 0.026417123</td><td>0.07802383</td><td> 0.33857762</td><td>0.734927942</td><td>0.86</td><td>0.065501549</td><td> 1</td><td> 0.065501549</td></tr>\n",
       "\t<tr><td>chr1</td><td>100132494</td><td>100133449</td><td>DPH5    </td><td>K562</td><td>-0.534790383</td><td>0.32477359</td><td>-1.64665601</td><td>0.099628771</td><td>0.18</td><td>0.744727495</td><td>-1</td><td>-0.744727495</td></tr>\n",
       "\t<tr><td>chr1</td><td>100132494</td><td>100133449</td><td>SLC30A7 </td><td>K562</td><td> 0.347278968</td><td>0.19883478</td><td> 1.74657053</td><td>0.080711863</td><td>0.16</td><td>0.795880017</td><td> 1</td><td> 0.795880017</td></tr>\n",
       "\t<tr><td>chr1</td><td>100132494</td><td>100133449</td><td>TRMT13  </td><td>K562</td><td> 0.124727472</td><td>0.29123660</td><td> 0.42826853</td><td>0.668455628</td><td>0.72</td><td>0.142667504</td><td> 1</td><td> 0.142667504</td></tr>\n",
       "\t<tr><td>chr1</td><td>  1001600</td><td>  1002286</td><td>AURKAIP1</td><td>K562</td><td>-0.620664218</td><td>0.42564917</td><td>-1.45815912</td><td>0.144796688</td><td>0.26</td><td>0.585026652</td><td>-1</td><td>-0.585026652</td></tr>\n",
       "\t<tr><td>chr1</td><td>  1001600</td><td>  1002286</td><td>CCNL2   </td><td>K562</td><td> 0.092424228</td><td>0.26347300</td><td> 0.35079203</td><td>0.725744378</td><td>0.62</td><td>0.207608311</td><td> 1</td><td> 0.207608311</td></tr>\n",
       "\t<tr><td>chr1</td><td>  1001600</td><td>  1002286</td><td>CDK11B  </td><td>K562</td><td>-0.086653021</td><td>0.29757860</td><td>-0.29119372</td><td>0.770903162</td><td>0.92</td><td>0.036212173</td><td>-1</td><td>-0.036212173</td></tr>\n",
       "\t<tr><td>chr1</td><td>  1001600</td><td>  1002286</td><td>GNB1    </td><td>K562</td><td>-0.363283493</td><td>0.24228791</td><td>-1.49938762</td><td>0.133773103</td><td>0.14</td><td>0.853871964</td><td>-1</td><td>-0.853871964</td></tr>\n",
       "\t<tr><td>chr1</td><td>  1001600</td><td>  1002286</td><td>INTS11  </td><td>K562</td><td>-0.314685455</td><td>0.43250583</td><td>-0.72758662</td><td>0.466866671</td><td>0.56</td><td>0.251811973</td><td>-1</td><td>-0.251811973</td></tr>\n",
       "\t<tr><td>chr1</td><td>  1001600</td><td>  1002286</td><td>ISG15   </td><td>K562</td><td>-0.164322660</td><td>0.35564700</td><td>-0.46203865</td><td>0.644053606</td><td>0.74</td><td>0.130768280</td><td>-1</td><td>-0.130768280</td></tr>\n",
       "\t<tr><td>chr1</td><td>  1001600</td><td>  1002286</td><td>MRPL20  </td><td>K562</td><td> 0.160734118</td><td>0.27254685</td><td> 0.58974858</td><td>0.555359219</td><td>0.54</td><td>0.267606240</td><td> 1</td><td> 0.267606240</td></tr>\n",
       "\t<tr><td>chr1</td><td>  1001600</td><td>  1002286</td><td>SDF4    </td><td>K562</td><td>-0.247533451</td><td>0.40202067</td><td>-0.61572319</td><td>0.538077226</td><td>0.56</td><td>0.251811973</td><td>-1</td><td>-0.251811973</td></tr>\n",
       "\t<tr><td>chr1</td><td>  1001600</td><td>  1002286</td><td>SLC35E2B</td><td>K562</td><td>-0.225334363</td><td>0.37626732</td><td>-0.59886775</td><td>0.549261080</td><td>0.66</td><td>0.180456064</td><td>-1</td><td>-0.180456064</td></tr>\n",
       "\t<tr><td>chr1</td><td>  1001600</td><td>  1002286</td><td>SSU72   </td><td>K562</td><td>-0.074852180</td><td>0.32354309</td><td>-0.23135150</td><td>0.817041738</td><td>0.98</td><td>0.008773924</td><td>-1</td><td>-0.008773924</td></tr>\n",
       "\t<tr><td>chr1</td><td>  1001600</td><td>  1002286</td><td>UBE2J2  </td><td>K562</td><td>-0.372626716</td><td>0.43105251</td><td>-0.86445783</td><td>0.387336438</td><td>0.46</td><td>0.337242168</td><td>-1</td><td>-0.337242168</td></tr>\n",
       "\t<tr><td>chr1</td><td>100249481</td><td>100250308</td><td>CDC14A  </td><td>K562</td><td>-0.064362569</td><td>0.08474757</td><td>-0.75946208</td><td>0.447576191</td><td>0.72</td><td>0.142667504</td><td>-1</td><td>-0.142667504</td></tr>\n",
       "\t<tr><td>chr1</td><td>100249481</td><td>100250308</td><td>DPH5    </td><td>K562</td><td>-0.132905235</td><td>0.32380579</td><td>-0.41044737</td><td>0.681477802</td><td>0.74</td><td>0.130768280</td><td>-1</td><td>-0.130768280</td></tr>\n",
       "\t<tr><td>chr1</td><td>100249481</td><td>100250308</td><td>S1PR1   </td><td>K562</td><td>-0.005249964</td><td>0.28788032</td><td>-0.01823662</td><td>0.985450088</td><td>0.84</td><td>0.075720714</td><td>-1</td><td>-0.075720714</td></tr>\n",
       "\t<tr><td>chr1</td><td>100249481</td><td>100250308</td><td>SLC30A7 </td><td>K562</td><td> 0.086256251</td><td>0.21529018</td><td> 0.40065112</td><td>0.688677005</td><td>0.74</td><td>0.130768280</td><td> 1</td><td> 0.130768280</td></tr>\n",
       "\t<tr><td>chr1</td><td>100249481</td><td>100250308</td><td>TRMT13  </td><td>K562</td><td>-0.182189016</td><td>0.33304766</td><td>-0.54703586</td><td>0.584354095</td><td>0.54</td><td>0.267606240</td><td>-1</td><td>-0.267606240</td></tr>\n",
       "\t<tr><td>chr1</td><td>100265698</td><td>100266586</td><td>CDC14A  </td><td>K562</td><td>-0.041113570</td><td>0.08056133</td><td>-0.51033875</td><td>0.609814156</td><td>0.48</td><td>0.318758763</td><td>-1</td><td>-0.318758763</td></tr>\n",
       "\t<tr><td>chr1</td><td>100265698</td><td>100266586</td><td>DPH5    </td><td>K562</td><td>-0.185071134</td><td>0.31132813</td><td>-0.59445682</td><td>0.552206612</td><td>0.62</td><td>0.207608311</td><td>-1</td><td>-0.207608311</td></tr>\n",
       "\t<tr><td>chr1</td><td>100265698</td><td>100266586</td><td>S1PR1   </td><td>K562</td><td>-0.349404599</td><td>0.29411219</td><td>-1.18799769</td><td>0.234834319</td><td>0.32</td><td>0.494850022</td><td>-1</td><td>-0.494850022</td></tr>\n",
       "\t<tr><td>chr1</td><td>100265698</td><td>100266586</td><td>SLC30A7 </td><td>K562</td><td>-0.115169651</td><td>0.21403218</td><td>-0.53809501</td><td>0.590511454</td><td>0.54</td><td>0.267606240</td><td>-1</td><td>-0.267606240</td></tr>\n",
       "\t<tr><td>chr1</td><td>100265698</td><td>100266586</td><td>TRMT13  </td><td>K562</td><td> 0.139885695</td><td>0.29742350</td><td> 0.47032496</td><td>0.638122865</td><td>0.58</td><td>0.236572006</td><td> 1</td><td> 0.236572006</td></tr>\n",
       "\t<tr><td>chr1</td><td> 10032550</td><td> 10033434</td><td>CLSTN1  </td><td>K562</td><td> 0.163627440</td><td>0.21359848</td><td> 0.76605153</td><td>0.443645641</td><td>0.42</td><td>0.376750710</td><td> 1</td><td> 0.376750710</td></tr>\n",
       "\t<tr><td>⋮</td><td>⋮</td><td>⋮</td><td>⋮</td><td>⋮</td><td>⋮</td><td>⋮</td><td>⋮</td><td>⋮</td><td>⋮</td><td>⋮</td><td>⋮</td><td>⋮</td></tr>\n",
       "\t<tr><td>chrX</td><td>79366488</td><td>79367926</td><td>P2RY10 </td><td>K562</td><td>-0.15955088</td><td>0.2882652</td><td>-0.5534865</td><td>0.57993029</td><td>0.66</td><td>0.180456064</td><td>-1</td><td>-0.180456064</td></tr>\n",
       "\t<tr><td>chrX</td><td>80808003</td><td>80808528</td><td>BRWD3  </td><td>K562</td><td>-0.93234334</td><td>0.4614096</td><td>-2.0206413</td><td>0.04331691</td><td>0.26</td><td>0.585026652</td><td>-1</td><td>-0.585026652</td></tr>\n",
       "\t<tr><td>chrX</td><td>80808003</td><td>80808528</td><td>SH3BGRL</td><td>K562</td><td>-0.07790126</td><td>0.2065735</td><td>-0.3771116</td><td>0.70609065</td><td>0.82</td><td>0.086186148</td><td>-1</td><td>-0.086186148</td></tr>\n",
       "\t<tr><td>chrX</td><td>80809348</td><td>80810354</td><td>BRWD3  </td><td>K562</td><td> 0.18451880</td><td>0.2370839</td><td> 0.7782849</td><td>0.43640107</td><td>0.38</td><td>0.420216403</td><td> 1</td><td> 0.420216403</td></tr>\n",
       "\t<tr><td>chrX</td><td>80809348</td><td>80810354</td><td>SH3BGRL</td><td>K562</td><td>-0.06766084</td><td>0.1586119</td><td>-0.4265811</td><td>0.66968447</td><td>0.56</td><td>0.251811973</td><td>-1</td><td>-0.251811973</td></tr>\n",
       "\t<tr><td>chrX</td><td>81121526</td><td>81122288</td><td>BRWD3  </td><td>K562</td><td>-0.09668610</td><td>0.3533184</td><td>-0.2736515</td><td>0.78435248</td><td>0.80</td><td>0.096910013</td><td>-1</td><td>-0.096910013</td></tr>\n",
       "\t<tr><td>chrX</td><td>81121526</td><td>81122288</td><td>SH3BGRL</td><td>K562</td><td> 0.14390951</td><td>0.2034733</td><td> 0.7072648</td><td>0.47940196</td><td>0.58</td><td>0.236572006</td><td> 1</td><td> 0.236572006</td></tr>\n",
       "\t<tr><td>chrX</td><td>81201620</td><td>81202305</td><td>BRWD3  </td><td>K562</td><td> 0.10641099</td><td>0.3376446</td><td> 0.3151568</td><td>0.75264262</td><td>0.62</td><td>0.207608311</td><td> 1</td><td> 0.207608311</td></tr>\n",
       "\t<tr><td>chrX</td><td>81201620</td><td>81202305</td><td>SH3BGRL</td><td>K562</td><td>-0.11392072</td><td>0.2356060</td><td>-0.4835222</td><td>0.62872501</td><td>0.74</td><td>0.130768280</td><td>-1</td><td>-0.130768280</td></tr>\n",
       "\t<tr><td>chrX</td><td>86047196</td><td>86047895</td><td>CHM    </td><td>K562</td><td>-0.59851898</td><td>0.5972142</td><td>-1.0021848</td><td>0.31625435</td><td>0.52</td><td>0.283996656</td><td>-1</td><td>-0.283996656</td></tr>\n",
       "\t<tr><td>chrX</td><td> 8987625</td><td> 8988441</td><td>TBL1X  </td><td>K562</td><td>-0.23615998</td><td>0.3443524</td><td>-0.6858090</td><td>0.49283353</td><td>0.60</td><td>0.221848750</td><td>-1</td><td>-0.221848750</td></tr>\n",
       "\t<tr><td>chrX</td><td> 9340742</td><td> 9341361</td><td>TBL1X  </td><td>K562</td><td>-0.04801734</td><td>0.3628830</td><td>-0.1323218</td><td>0.89472974</td><td>0.98</td><td>0.008773924</td><td>-1</td><td>-0.008773924</td></tr>\n",
       "\t<tr><td>chrX</td><td> 9340742</td><td> 9341361</td><td>WWC3   </td><td>K562</td><td> 0.38868088</td><td>0.6007497</td><td> 0.6469931</td><td>0.51763644</td><td>0.48</td><td>0.318758763</td><td> 1</td><td> 0.318758763</td></tr>\n",
       "\t<tr><td>chrX</td><td> 9341504</td><td> 9342250</td><td>TBL1X  </td><td>K562</td><td> 0.16381779</td><td>0.3126453</td><td> 0.5239734</td><td>0.60029707</td><td>0.60</td><td>0.221848750</td><td> 1</td><td> 0.221848750</td></tr>\n",
       "\t<tr><td>chrX</td><td> 9341504</td><td> 9342250</td><td>WWC3   </td><td>K562</td><td>-0.24540270</td><td>0.7256741</td><td>-0.3381721</td><td>0.73523352</td><td>0.92</td><td>0.036212173</td><td>-1</td><td>-0.036212173</td></tr>\n",
       "\t<tr><td>chrX</td><td> 9456233</td><td> 9457050</td><td>TBL1X  </td><td>K562</td><td> 0.17349437</td><td>0.2250812</td><td> 0.7708081</td><td>0.44082071</td><td>0.44</td><td>0.356547324</td><td> 1</td><td> 0.356547324</td></tr>\n",
       "\t<tr><td>chrX</td><td> 9456233</td><td> 9457050</td><td>WWC3   </td><td>K562</td><td> 0.21237623</td><td>0.4419270</td><td> 0.4805686</td><td>0.63082313</td><td>0.46</td><td>0.337242168</td><td> 1</td><td> 0.337242168</td></tr>\n",
       "\t<tr><td>chrX</td><td> 9462835</td><td> 9463506</td><td>TBL1X  </td><td>K562</td><td> 0.06108523</td><td>0.2007952</td><td> 0.3042165</td><td>0.76096294</td><td>0.82</td><td>0.086186148</td><td> 1</td><td> 0.086186148</td></tr>\n",
       "\t<tr><td>chrX</td><td> 9462835</td><td> 9463506</td><td>WWC3   </td><td>K562</td><td>-0.16331922</td><td>0.4175468</td><td>-0.3911400</td><td>0.69569378</td><td>0.70</td><td>0.154901960</td><td>-1</td><td>-0.154901960</td></tr>\n",
       "\t<tr><td>chrX</td><td> 9464712</td><td> 9465712</td><td>TBL1X  </td><td>K562</td><td>-0.04615776</td><td>0.2220637</td><td>-0.2078581</td><td>0.83533973</td><td>0.74</td><td>0.130768280</td><td>-1</td><td>-0.130768280</td></tr>\n",
       "\t<tr><td>chrX</td><td> 9464712</td><td> 9465712</td><td>WWC3   </td><td>K562</td><td> 0.23958820</td><td>0.3957242</td><td> 0.6054424</td><td>0.54488508</td><td>0.58</td><td>0.236572006</td><td> 1</td><td> 0.236572006</td></tr>\n",
       "\t<tr><td>chrX</td><td>96684450</td><td>96685117</td><td>DIAPH2 </td><td>K562</td><td> 0.13830059</td><td>0.2042750</td><td> 0.6770315</td><td>0.49838598</td><td>0.44</td><td>0.356547324</td><td> 1</td><td> 0.356547324</td></tr>\n",
       "\t<tr><td>chrX</td><td>  989980</td><td>  990596</td><td>AKAP17A</td><td>K562</td><td>-0.17194488</td><td>0.2886071</td><td>-0.5957750</td><td>0.55132552</td><td>0.42</td><td>0.376750710</td><td>-1</td><td>-0.376750710</td></tr>\n",
       "\t<tr><td>chrX</td><td>  989980</td><td>  990596</td><td>ASMTL  </td><td>K562</td><td>-0.35731713</td><td>0.4358919</td><td>-0.8197380</td><td>0.41236551</td><td>0.54</td><td>0.267606240</td><td>-1</td><td>-0.267606240</td></tr>\n",
       "\t<tr><td>chrX</td><td>  989980</td><td>  990596</td><td>GTPBP6 </td><td>K562</td><td>-0.20452419</td><td>0.3815692</td><td>-0.5360081</td><td>0.59195295</td><td>0.50</td><td>0.301029996</td><td>-1</td><td>-0.301029996</td></tr>\n",
       "\t<tr><td>chrX</td><td>  989980</td><td>  990596</td><td>IL3RA  </td><td>K562</td><td> 0.40945587</td><td>0.3290249</td><td> 1.2444526</td><td>0.21333304</td><td>0.18</td><td>0.744727495</td><td> 1</td><td> 0.744727495</td></tr>\n",
       "\t<tr><td>chrX</td><td>  989980</td><td>  990596</td><td>P2RY8  </td><td>K562</td><td>-0.04433883</td><td>0.1497771</td><td>-0.2960320</td><td>0.76720562</td><td>0.72</td><td>0.142667504</td><td>-1</td><td>-0.142667504</td></tr>\n",
       "\t<tr><td>chrX</td><td>  989980</td><td>  990596</td><td>SLC25A6</td><td>K562</td><td> 0.04297231</td><td>0.1225867</td><td> 0.3505463</td><td>0.72592872</td><td>0.64</td><td>0.193820026</td><td> 1</td><td> 0.193820026</td></tr>\n",
       "\t<tr><td>chrX</td><td> 9995794</td><td> 9996120</td><td>TBL1X  </td><td>K562</td><td>-0.57077951</td><td>0.4545563</td><td>-1.2556850</td><td>0.20923022</td><td>0.28</td><td>0.552841969</td><td>-1</td><td>-0.552841969</td></tr>\n",
       "\t<tr><td>chrX</td><td> 9995794</td><td> 9996120</td><td>WWC3   </td><td>K562</td><td>-0.87007506</td><td>1.0127571</td><td>-0.8591153</td><td>0.39027692</td><td>0.74</td><td>0.130768280</td><td>-1</td><td>-0.130768280</td></tr>\n",
       "</tbody>\n",
       "</table>\n"
      ],
      "text/latex": [
       "A data.frame: 181581 × 13\n",
       "\\begin{tabular}{lllllllllllll}\n",
       " chr & start & end & TargetGene & CellType & beta & se & z & p & boot\\_basic\\_p & boot\\_basic\\_p.log10 & sign & boot\\_basic\\_p.log10.signed\\\\\n",
       " <fct> & <int> & <int> & <chr> & <chr> & <dbl> & <dbl> & <dbl> & <dbl> & <dbl> & <dbl> & <dbl> & <dbl>\\\\\n",
       "\\hline\n",
       "\t chr1 & 100037810 & 100039315 & CDC14A   & K562 &  0.213630866 & 0.07753079 &  2.75543274 & 0.005861455 & 0.02 & 1.698970004 &  1 &  1.698970004\\\\\n",
       "\t chr1 & 100037810 & 100039315 & DPH5     & K562 & -0.049143147 & 0.28701037 & -0.17122429 & 0.864047408 & 0.94 & 0.026872146 & -1 & -0.026872146\\\\\n",
       "\t chr1 & 100037810 & 100039315 & SLC30A7  & K562 & -0.111417866 & 0.19771415 & -0.56353006 & 0.573073997 & 0.72 & 0.142667504 & -1 & -0.142667504\\\\\n",
       "\t chr1 & 100037810 & 100039315 & TRMT13   & K562 &  0.157511577 & 0.28948407 &  0.54411139 & 0.586364825 & 0.76 & 0.119186408 &  1 &  0.119186408\\\\\n",
       "\t chr1 & 100132494 & 100133449 & CDC14A   & K562 &  0.026417123 & 0.07802383 &  0.33857762 & 0.734927942 & 0.86 & 0.065501549 &  1 &  0.065501549\\\\\n",
       "\t chr1 & 100132494 & 100133449 & DPH5     & K562 & -0.534790383 & 0.32477359 & -1.64665601 & 0.099628771 & 0.18 & 0.744727495 & -1 & -0.744727495\\\\\n",
       "\t chr1 & 100132494 & 100133449 & SLC30A7  & K562 &  0.347278968 & 0.19883478 &  1.74657053 & 0.080711863 & 0.16 & 0.795880017 &  1 &  0.795880017\\\\\n",
       "\t chr1 & 100132494 & 100133449 & TRMT13   & K562 &  0.124727472 & 0.29123660 &  0.42826853 & 0.668455628 & 0.72 & 0.142667504 &  1 &  0.142667504\\\\\n",
       "\t chr1 &   1001600 &   1002286 & AURKAIP1 & K562 & -0.620664218 & 0.42564917 & -1.45815912 & 0.144796688 & 0.26 & 0.585026652 & -1 & -0.585026652\\\\\n",
       "\t chr1 &   1001600 &   1002286 & CCNL2    & K562 &  0.092424228 & 0.26347300 &  0.35079203 & 0.725744378 & 0.62 & 0.207608311 &  1 &  0.207608311\\\\\n",
       "\t chr1 &   1001600 &   1002286 & CDK11B   & K562 & -0.086653021 & 0.29757860 & -0.29119372 & 0.770903162 & 0.92 & 0.036212173 & -1 & -0.036212173\\\\\n",
       "\t chr1 &   1001600 &   1002286 & GNB1     & K562 & -0.363283493 & 0.24228791 & -1.49938762 & 0.133773103 & 0.14 & 0.853871964 & -1 & -0.853871964\\\\\n",
       "\t chr1 &   1001600 &   1002286 & INTS11   & K562 & -0.314685455 & 0.43250583 & -0.72758662 & 0.466866671 & 0.56 & 0.251811973 & -1 & -0.251811973\\\\\n",
       "\t chr1 &   1001600 &   1002286 & ISG15    & K562 & -0.164322660 & 0.35564700 & -0.46203865 & 0.644053606 & 0.74 & 0.130768280 & -1 & -0.130768280\\\\\n",
       "\t chr1 &   1001600 &   1002286 & MRPL20   & K562 &  0.160734118 & 0.27254685 &  0.58974858 & 0.555359219 & 0.54 & 0.267606240 &  1 &  0.267606240\\\\\n",
       "\t chr1 &   1001600 &   1002286 & SDF4     & K562 & -0.247533451 & 0.40202067 & -0.61572319 & 0.538077226 & 0.56 & 0.251811973 & -1 & -0.251811973\\\\\n",
       "\t chr1 &   1001600 &   1002286 & SLC35E2B & K562 & -0.225334363 & 0.37626732 & -0.59886775 & 0.549261080 & 0.66 & 0.180456064 & -1 & -0.180456064\\\\\n",
       "\t chr1 &   1001600 &   1002286 & SSU72    & K562 & -0.074852180 & 0.32354309 & -0.23135150 & 0.817041738 & 0.98 & 0.008773924 & -1 & -0.008773924\\\\\n",
       "\t chr1 &   1001600 &   1002286 & UBE2J2   & K562 & -0.372626716 & 0.43105251 & -0.86445783 & 0.387336438 & 0.46 & 0.337242168 & -1 & -0.337242168\\\\\n",
       "\t chr1 & 100249481 & 100250308 & CDC14A   & K562 & -0.064362569 & 0.08474757 & -0.75946208 & 0.447576191 & 0.72 & 0.142667504 & -1 & -0.142667504\\\\\n",
       "\t chr1 & 100249481 & 100250308 & DPH5     & K562 & -0.132905235 & 0.32380579 & -0.41044737 & 0.681477802 & 0.74 & 0.130768280 & -1 & -0.130768280\\\\\n",
       "\t chr1 & 100249481 & 100250308 & S1PR1    & K562 & -0.005249964 & 0.28788032 & -0.01823662 & 0.985450088 & 0.84 & 0.075720714 & -1 & -0.075720714\\\\\n",
       "\t chr1 & 100249481 & 100250308 & SLC30A7  & K562 &  0.086256251 & 0.21529018 &  0.40065112 & 0.688677005 & 0.74 & 0.130768280 &  1 &  0.130768280\\\\\n",
       "\t chr1 & 100249481 & 100250308 & TRMT13   & K562 & -0.182189016 & 0.33304766 & -0.54703586 & 0.584354095 & 0.54 & 0.267606240 & -1 & -0.267606240\\\\\n",
       "\t chr1 & 100265698 & 100266586 & CDC14A   & K562 & -0.041113570 & 0.08056133 & -0.51033875 & 0.609814156 & 0.48 & 0.318758763 & -1 & -0.318758763\\\\\n",
       "\t chr1 & 100265698 & 100266586 & DPH5     & K562 & -0.185071134 & 0.31132813 & -0.59445682 & 0.552206612 & 0.62 & 0.207608311 & -1 & -0.207608311\\\\\n",
       "\t chr1 & 100265698 & 100266586 & S1PR1    & K562 & -0.349404599 & 0.29411219 & -1.18799769 & 0.234834319 & 0.32 & 0.494850022 & -1 & -0.494850022\\\\\n",
       "\t chr1 & 100265698 & 100266586 & SLC30A7  & K562 & -0.115169651 & 0.21403218 & -0.53809501 & 0.590511454 & 0.54 & 0.267606240 & -1 & -0.267606240\\\\\n",
       "\t chr1 & 100265698 & 100266586 & TRMT13   & K562 &  0.139885695 & 0.29742350 &  0.47032496 & 0.638122865 & 0.58 & 0.236572006 &  1 &  0.236572006\\\\\n",
       "\t chr1 &  10032550 &  10033434 & CLSTN1   & K562 &  0.163627440 & 0.21359848 &  0.76605153 & 0.443645641 & 0.42 & 0.376750710 &  1 &  0.376750710\\\\\n",
       "\t ⋮ & ⋮ & ⋮ & ⋮ & ⋮ & ⋮ & ⋮ & ⋮ & ⋮ & ⋮ & ⋮ & ⋮ & ⋮\\\\\n",
       "\t chrX & 79366488 & 79367926 & P2RY10  & K562 & -0.15955088 & 0.2882652 & -0.5534865 & 0.57993029 & 0.66 & 0.180456064 & -1 & -0.180456064\\\\\n",
       "\t chrX & 80808003 & 80808528 & BRWD3   & K562 & -0.93234334 & 0.4614096 & -2.0206413 & 0.04331691 & 0.26 & 0.585026652 & -1 & -0.585026652\\\\\n",
       "\t chrX & 80808003 & 80808528 & SH3BGRL & K562 & -0.07790126 & 0.2065735 & -0.3771116 & 0.70609065 & 0.82 & 0.086186148 & -1 & -0.086186148\\\\\n",
       "\t chrX & 80809348 & 80810354 & BRWD3   & K562 &  0.18451880 & 0.2370839 &  0.7782849 & 0.43640107 & 0.38 & 0.420216403 &  1 &  0.420216403\\\\\n",
       "\t chrX & 80809348 & 80810354 & SH3BGRL & K562 & -0.06766084 & 0.1586119 & -0.4265811 & 0.66968447 & 0.56 & 0.251811973 & -1 & -0.251811973\\\\\n",
       "\t chrX & 81121526 & 81122288 & BRWD3   & K562 & -0.09668610 & 0.3533184 & -0.2736515 & 0.78435248 & 0.80 & 0.096910013 & -1 & -0.096910013\\\\\n",
       "\t chrX & 81121526 & 81122288 & SH3BGRL & K562 &  0.14390951 & 0.2034733 &  0.7072648 & 0.47940196 & 0.58 & 0.236572006 &  1 &  0.236572006\\\\\n",
       "\t chrX & 81201620 & 81202305 & BRWD3   & K562 &  0.10641099 & 0.3376446 &  0.3151568 & 0.75264262 & 0.62 & 0.207608311 &  1 &  0.207608311\\\\\n",
       "\t chrX & 81201620 & 81202305 & SH3BGRL & K562 & -0.11392072 & 0.2356060 & -0.4835222 & 0.62872501 & 0.74 & 0.130768280 & -1 & -0.130768280\\\\\n",
       "\t chrX & 86047196 & 86047895 & CHM     & K562 & -0.59851898 & 0.5972142 & -1.0021848 & 0.31625435 & 0.52 & 0.283996656 & -1 & -0.283996656\\\\\n",
       "\t chrX &  8987625 &  8988441 & TBL1X   & K562 & -0.23615998 & 0.3443524 & -0.6858090 & 0.49283353 & 0.60 & 0.221848750 & -1 & -0.221848750\\\\\n",
       "\t chrX &  9340742 &  9341361 & TBL1X   & K562 & -0.04801734 & 0.3628830 & -0.1323218 & 0.89472974 & 0.98 & 0.008773924 & -1 & -0.008773924\\\\\n",
       "\t chrX &  9340742 &  9341361 & WWC3    & K562 &  0.38868088 & 0.6007497 &  0.6469931 & 0.51763644 & 0.48 & 0.318758763 &  1 &  0.318758763\\\\\n",
       "\t chrX &  9341504 &  9342250 & TBL1X   & K562 &  0.16381779 & 0.3126453 &  0.5239734 & 0.60029707 & 0.60 & 0.221848750 &  1 &  0.221848750\\\\\n",
       "\t chrX &  9341504 &  9342250 & WWC3    & K562 & -0.24540270 & 0.7256741 & -0.3381721 & 0.73523352 & 0.92 & 0.036212173 & -1 & -0.036212173\\\\\n",
       "\t chrX &  9456233 &  9457050 & TBL1X   & K562 &  0.17349437 & 0.2250812 &  0.7708081 & 0.44082071 & 0.44 & 0.356547324 &  1 &  0.356547324\\\\\n",
       "\t chrX &  9456233 &  9457050 & WWC3    & K562 &  0.21237623 & 0.4419270 &  0.4805686 & 0.63082313 & 0.46 & 0.337242168 &  1 &  0.337242168\\\\\n",
       "\t chrX &  9462835 &  9463506 & TBL1X   & K562 &  0.06108523 & 0.2007952 &  0.3042165 & 0.76096294 & 0.82 & 0.086186148 &  1 &  0.086186148\\\\\n",
       "\t chrX &  9462835 &  9463506 & WWC3    & K562 & -0.16331922 & 0.4175468 & -0.3911400 & 0.69569378 & 0.70 & 0.154901960 & -1 & -0.154901960\\\\\n",
       "\t chrX &  9464712 &  9465712 & TBL1X   & K562 & -0.04615776 & 0.2220637 & -0.2078581 & 0.83533973 & 0.74 & 0.130768280 & -1 & -0.130768280\\\\\n",
       "\t chrX &  9464712 &  9465712 & WWC3    & K562 &  0.23958820 & 0.3957242 &  0.6054424 & 0.54488508 & 0.58 & 0.236572006 &  1 &  0.236572006\\\\\n",
       "\t chrX & 96684450 & 96685117 & DIAPH2  & K562 &  0.13830059 & 0.2042750 &  0.6770315 & 0.49838598 & 0.44 & 0.356547324 &  1 &  0.356547324\\\\\n",
       "\t chrX &   989980 &   990596 & AKAP17A & K562 & -0.17194488 & 0.2886071 & -0.5957750 & 0.55132552 & 0.42 & 0.376750710 & -1 & -0.376750710\\\\\n",
       "\t chrX &   989980 &   990596 & ASMTL   & K562 & -0.35731713 & 0.4358919 & -0.8197380 & 0.41236551 & 0.54 & 0.267606240 & -1 & -0.267606240\\\\\n",
       "\t chrX &   989980 &   990596 & GTPBP6  & K562 & -0.20452419 & 0.3815692 & -0.5360081 & 0.59195295 & 0.50 & 0.301029996 & -1 & -0.301029996\\\\\n",
       "\t chrX &   989980 &   990596 & IL3RA   & K562 &  0.40945587 & 0.3290249 &  1.2444526 & 0.21333304 & 0.18 & 0.744727495 &  1 &  0.744727495\\\\\n",
       "\t chrX &   989980 &   990596 & P2RY8   & K562 & -0.04433883 & 0.1497771 & -0.2960320 & 0.76720562 & 0.72 & 0.142667504 & -1 & -0.142667504\\\\\n",
       "\t chrX &   989980 &   990596 & SLC25A6 & K562 &  0.04297231 & 0.1225867 &  0.3505463 & 0.72592872 & 0.64 & 0.193820026 &  1 &  0.193820026\\\\\n",
       "\t chrX &  9995794 &  9996120 & TBL1X   & K562 & -0.57077951 & 0.4545563 & -1.2556850 & 0.20923022 & 0.28 & 0.552841969 & -1 & -0.552841969\\\\\n",
       "\t chrX &  9995794 &  9996120 & WWC3    & K562 & -0.87007506 & 1.0127571 & -0.8591153 & 0.39027692 & 0.74 & 0.130768280 & -1 & -0.130768280\\\\\n",
       "\\end{tabular}\n"
      ],
      "text/markdown": [
       "\n",
       "A data.frame: 181581 × 13\n",
       "\n",
       "| chr &lt;fct&gt; | start &lt;int&gt; | end &lt;int&gt; | TargetGene &lt;chr&gt; | CellType &lt;chr&gt; | beta &lt;dbl&gt; | se &lt;dbl&gt; | z &lt;dbl&gt; | p &lt;dbl&gt; | boot_basic_p &lt;dbl&gt; | boot_basic_p.log10 &lt;dbl&gt; | sign &lt;dbl&gt; | boot_basic_p.log10.signed &lt;dbl&gt; |\n",
       "|---|---|---|---|---|---|---|---|---|---|---|---|---|\n",
       "| chr1 | 100037810 | 100039315 | CDC14A   | K562 |  0.213630866 | 0.07753079 |  2.75543274 | 0.005861455 | 0.02 | 1.698970004 |  1 |  1.698970004 |\n",
       "| chr1 | 100037810 | 100039315 | DPH5     | K562 | -0.049143147 | 0.28701037 | -0.17122429 | 0.864047408 | 0.94 | 0.026872146 | -1 | -0.026872146 |\n",
       "| chr1 | 100037810 | 100039315 | SLC30A7  | K562 | -0.111417866 | 0.19771415 | -0.56353006 | 0.573073997 | 0.72 | 0.142667504 | -1 | -0.142667504 |\n",
       "| chr1 | 100037810 | 100039315 | TRMT13   | K562 |  0.157511577 | 0.28948407 |  0.54411139 | 0.586364825 | 0.76 | 0.119186408 |  1 |  0.119186408 |\n",
       "| chr1 | 100132494 | 100133449 | CDC14A   | K562 |  0.026417123 | 0.07802383 |  0.33857762 | 0.734927942 | 0.86 | 0.065501549 |  1 |  0.065501549 |\n",
       "| chr1 | 100132494 | 100133449 | DPH5     | K562 | -0.534790383 | 0.32477359 | -1.64665601 | 0.099628771 | 0.18 | 0.744727495 | -1 | -0.744727495 |\n",
       "| chr1 | 100132494 | 100133449 | SLC30A7  | K562 |  0.347278968 | 0.19883478 |  1.74657053 | 0.080711863 | 0.16 | 0.795880017 |  1 |  0.795880017 |\n",
       "| chr1 | 100132494 | 100133449 | TRMT13   | K562 |  0.124727472 | 0.29123660 |  0.42826853 | 0.668455628 | 0.72 | 0.142667504 |  1 |  0.142667504 |\n",
       "| chr1 |   1001600 |   1002286 | AURKAIP1 | K562 | -0.620664218 | 0.42564917 | -1.45815912 | 0.144796688 | 0.26 | 0.585026652 | -1 | -0.585026652 |\n",
       "| chr1 |   1001600 |   1002286 | CCNL2    | K562 |  0.092424228 | 0.26347300 |  0.35079203 | 0.725744378 | 0.62 | 0.207608311 |  1 |  0.207608311 |\n",
       "| chr1 |   1001600 |   1002286 | CDK11B   | K562 | -0.086653021 | 0.29757860 | -0.29119372 | 0.770903162 | 0.92 | 0.036212173 | -1 | -0.036212173 |\n",
       "| chr1 |   1001600 |   1002286 | GNB1     | K562 | -0.363283493 | 0.24228791 | -1.49938762 | 0.133773103 | 0.14 | 0.853871964 | -1 | -0.853871964 |\n",
       "| chr1 |   1001600 |   1002286 | INTS11   | K562 | -0.314685455 | 0.43250583 | -0.72758662 | 0.466866671 | 0.56 | 0.251811973 | -1 | -0.251811973 |\n",
       "| chr1 |   1001600 |   1002286 | ISG15    | K562 | -0.164322660 | 0.35564700 | -0.46203865 | 0.644053606 | 0.74 | 0.130768280 | -1 | -0.130768280 |\n",
       "| chr1 |   1001600 |   1002286 | MRPL20   | K562 |  0.160734118 | 0.27254685 |  0.58974858 | 0.555359219 | 0.54 | 0.267606240 |  1 |  0.267606240 |\n",
       "| chr1 |   1001600 |   1002286 | SDF4     | K562 | -0.247533451 | 0.40202067 | -0.61572319 | 0.538077226 | 0.56 | 0.251811973 | -1 | -0.251811973 |\n",
       "| chr1 |   1001600 |   1002286 | SLC35E2B | K562 | -0.225334363 | 0.37626732 | -0.59886775 | 0.549261080 | 0.66 | 0.180456064 | -1 | -0.180456064 |\n",
       "| chr1 |   1001600 |   1002286 | SSU72    | K562 | -0.074852180 | 0.32354309 | -0.23135150 | 0.817041738 | 0.98 | 0.008773924 | -1 | -0.008773924 |\n",
       "| chr1 |   1001600 |   1002286 | UBE2J2   | K562 | -0.372626716 | 0.43105251 | -0.86445783 | 0.387336438 | 0.46 | 0.337242168 | -1 | -0.337242168 |\n",
       "| chr1 | 100249481 | 100250308 | CDC14A   | K562 | -0.064362569 | 0.08474757 | -0.75946208 | 0.447576191 | 0.72 | 0.142667504 | -1 | -0.142667504 |\n",
       "| chr1 | 100249481 | 100250308 | DPH5     | K562 | -0.132905235 | 0.32380579 | -0.41044737 | 0.681477802 | 0.74 | 0.130768280 | -1 | -0.130768280 |\n",
       "| chr1 | 100249481 | 100250308 | S1PR1    | K562 | -0.005249964 | 0.28788032 | -0.01823662 | 0.985450088 | 0.84 | 0.075720714 | -1 | -0.075720714 |\n",
       "| chr1 | 100249481 | 100250308 | SLC30A7  | K562 |  0.086256251 | 0.21529018 |  0.40065112 | 0.688677005 | 0.74 | 0.130768280 |  1 |  0.130768280 |\n",
       "| chr1 | 100249481 | 100250308 | TRMT13   | K562 | -0.182189016 | 0.33304766 | -0.54703586 | 0.584354095 | 0.54 | 0.267606240 | -1 | -0.267606240 |\n",
       "| chr1 | 100265698 | 100266586 | CDC14A   | K562 | -0.041113570 | 0.08056133 | -0.51033875 | 0.609814156 | 0.48 | 0.318758763 | -1 | -0.318758763 |\n",
       "| chr1 | 100265698 | 100266586 | DPH5     | K562 | -0.185071134 | 0.31132813 | -0.59445682 | 0.552206612 | 0.62 | 0.207608311 | -1 | -0.207608311 |\n",
       "| chr1 | 100265698 | 100266586 | S1PR1    | K562 | -0.349404599 | 0.29411219 | -1.18799769 | 0.234834319 | 0.32 | 0.494850022 | -1 | -0.494850022 |\n",
       "| chr1 | 100265698 | 100266586 | SLC30A7  | K562 | -0.115169651 | 0.21403218 | -0.53809501 | 0.590511454 | 0.54 | 0.267606240 | -1 | -0.267606240 |\n",
       "| chr1 | 100265698 | 100266586 | TRMT13   | K562 |  0.139885695 | 0.29742350 |  0.47032496 | 0.638122865 | 0.58 | 0.236572006 |  1 |  0.236572006 |\n",
       "| chr1 |  10032550 |  10033434 | CLSTN1   | K562 |  0.163627440 | 0.21359848 |  0.76605153 | 0.443645641 | 0.42 | 0.376750710 |  1 |  0.376750710 |\n",
       "| ⋮ | ⋮ | ⋮ | ⋮ | ⋮ | ⋮ | ⋮ | ⋮ | ⋮ | ⋮ | ⋮ | ⋮ | ⋮ |\n",
       "| chrX | 79366488 | 79367926 | P2RY10  | K562 | -0.15955088 | 0.2882652 | -0.5534865 | 0.57993029 | 0.66 | 0.180456064 | -1 | -0.180456064 |\n",
       "| chrX | 80808003 | 80808528 | BRWD3   | K562 | -0.93234334 | 0.4614096 | -2.0206413 | 0.04331691 | 0.26 | 0.585026652 | -1 | -0.585026652 |\n",
       "| chrX | 80808003 | 80808528 | SH3BGRL | K562 | -0.07790126 | 0.2065735 | -0.3771116 | 0.70609065 | 0.82 | 0.086186148 | -1 | -0.086186148 |\n",
       "| chrX | 80809348 | 80810354 | BRWD3   | K562 |  0.18451880 | 0.2370839 |  0.7782849 | 0.43640107 | 0.38 | 0.420216403 |  1 |  0.420216403 |\n",
       "| chrX | 80809348 | 80810354 | SH3BGRL | K562 | -0.06766084 | 0.1586119 | -0.4265811 | 0.66968447 | 0.56 | 0.251811973 | -1 | -0.251811973 |\n",
       "| chrX | 81121526 | 81122288 | BRWD3   | K562 | -0.09668610 | 0.3533184 | -0.2736515 | 0.78435248 | 0.80 | 0.096910013 | -1 | -0.096910013 |\n",
       "| chrX | 81121526 | 81122288 | SH3BGRL | K562 |  0.14390951 | 0.2034733 |  0.7072648 | 0.47940196 | 0.58 | 0.236572006 |  1 |  0.236572006 |\n",
       "| chrX | 81201620 | 81202305 | BRWD3   | K562 |  0.10641099 | 0.3376446 |  0.3151568 | 0.75264262 | 0.62 | 0.207608311 |  1 |  0.207608311 |\n",
       "| chrX | 81201620 | 81202305 | SH3BGRL | K562 | -0.11392072 | 0.2356060 | -0.4835222 | 0.62872501 | 0.74 | 0.130768280 | -1 | -0.130768280 |\n",
       "| chrX | 86047196 | 86047895 | CHM     | K562 | -0.59851898 | 0.5972142 | -1.0021848 | 0.31625435 | 0.52 | 0.283996656 | -1 | -0.283996656 |\n",
       "| chrX |  8987625 |  8988441 | TBL1X   | K562 | -0.23615998 | 0.3443524 | -0.6858090 | 0.49283353 | 0.60 | 0.221848750 | -1 | -0.221848750 |\n",
       "| chrX |  9340742 |  9341361 | TBL1X   | K562 | -0.04801734 | 0.3628830 | -0.1323218 | 0.89472974 | 0.98 | 0.008773924 | -1 | -0.008773924 |\n",
       "| chrX |  9340742 |  9341361 | WWC3    | K562 |  0.38868088 | 0.6007497 |  0.6469931 | 0.51763644 | 0.48 | 0.318758763 |  1 |  0.318758763 |\n",
       "| chrX |  9341504 |  9342250 | TBL1X   | K562 |  0.16381779 | 0.3126453 |  0.5239734 | 0.60029707 | 0.60 | 0.221848750 |  1 |  0.221848750 |\n",
       "| chrX |  9341504 |  9342250 | WWC3    | K562 | -0.24540270 | 0.7256741 | -0.3381721 | 0.73523352 | 0.92 | 0.036212173 | -1 | -0.036212173 |\n",
       "| chrX |  9456233 |  9457050 | TBL1X   | K562 |  0.17349437 | 0.2250812 |  0.7708081 | 0.44082071 | 0.44 | 0.356547324 |  1 |  0.356547324 |\n",
       "| chrX |  9456233 |  9457050 | WWC3    | K562 |  0.21237623 | 0.4419270 |  0.4805686 | 0.63082313 | 0.46 | 0.337242168 |  1 |  0.337242168 |\n",
       "| chrX |  9462835 |  9463506 | TBL1X   | K562 |  0.06108523 | 0.2007952 |  0.3042165 | 0.76096294 | 0.82 | 0.086186148 |  1 |  0.086186148 |\n",
       "| chrX |  9462835 |  9463506 | WWC3    | K562 | -0.16331922 | 0.4175468 | -0.3911400 | 0.69569378 | 0.70 | 0.154901960 | -1 | -0.154901960 |\n",
       "| chrX |  9464712 |  9465712 | TBL1X   | K562 | -0.04615776 | 0.2220637 | -0.2078581 | 0.83533973 | 0.74 | 0.130768280 | -1 | -0.130768280 |\n",
       "| chrX |  9464712 |  9465712 | WWC3    | K562 |  0.23958820 | 0.3957242 |  0.6054424 | 0.54488508 | 0.58 | 0.236572006 |  1 |  0.236572006 |\n",
       "| chrX | 96684450 | 96685117 | DIAPH2  | K562 |  0.13830059 | 0.2042750 |  0.6770315 | 0.49838598 | 0.44 | 0.356547324 |  1 |  0.356547324 |\n",
       "| chrX |   989980 |   990596 | AKAP17A | K562 | -0.17194488 | 0.2886071 | -0.5957750 | 0.55132552 | 0.42 | 0.376750710 | -1 | -0.376750710 |\n",
       "| chrX |   989980 |   990596 | ASMTL   | K562 | -0.35731713 | 0.4358919 | -0.8197380 | 0.41236551 | 0.54 | 0.267606240 | -1 | -0.267606240 |\n",
       "| chrX |   989980 |   990596 | GTPBP6  | K562 | -0.20452419 | 0.3815692 | -0.5360081 | 0.59195295 | 0.50 | 0.301029996 | -1 | -0.301029996 |\n",
       "| chrX |   989980 |   990596 | IL3RA   | K562 |  0.40945587 | 0.3290249 |  1.2444526 | 0.21333304 | 0.18 | 0.744727495 |  1 |  0.744727495 |\n",
       "| chrX |   989980 |   990596 | P2RY8   | K562 | -0.04433883 | 0.1497771 | -0.2960320 | 0.76720562 | 0.72 | 0.142667504 | -1 | -0.142667504 |\n",
       "| chrX |   989980 |   990596 | SLC25A6 | K562 |  0.04297231 | 0.1225867 |  0.3505463 | 0.72592872 | 0.64 | 0.193820026 |  1 |  0.193820026 |\n",
       "| chrX |  9995794 |  9996120 | TBL1X   | K562 | -0.57077951 | 0.4545563 | -1.2556850 | 0.20923022 | 0.28 | 0.552841969 | -1 | -0.552841969 |\n",
       "| chrX |  9995794 |  9996120 | WWC3    | K562 | -0.87007506 | 1.0127571 | -0.8591153 | 0.39027692 | 0.74 | 0.130768280 | -1 | -0.130768280 |\n",
       "\n"
      ],
      "text/plain": [
       "       chr  start     end       TargetGene CellType beta         se        \n",
       "1      chr1 100037810 100039315 CDC14A     K562      0.213630866 0.07753079\n",
       "2      chr1 100037810 100039315 DPH5       K562     -0.049143147 0.28701037\n",
       "3      chr1 100037810 100039315 SLC30A7    K562     -0.111417866 0.19771415\n",
       "4      chr1 100037810 100039315 TRMT13     K562      0.157511577 0.28948407\n",
       "5      chr1 100132494 100133449 CDC14A     K562      0.026417123 0.07802383\n",
       "6      chr1 100132494 100133449 DPH5       K562     -0.534790383 0.32477359\n",
       "7      chr1 100132494 100133449 SLC30A7    K562      0.347278968 0.19883478\n",
       "8      chr1 100132494 100133449 TRMT13     K562      0.124727472 0.29123660\n",
       "9      chr1   1001600   1002286 AURKAIP1   K562     -0.620664218 0.42564917\n",
       "10     chr1   1001600   1002286 CCNL2      K562      0.092424228 0.26347300\n",
       "11     chr1   1001600   1002286 CDK11B     K562     -0.086653021 0.29757860\n",
       "12     chr1   1001600   1002286 GNB1       K562     -0.363283493 0.24228791\n",
       "13     chr1   1001600   1002286 INTS11     K562     -0.314685455 0.43250583\n",
       "14     chr1   1001600   1002286 ISG15      K562     -0.164322660 0.35564700\n",
       "15     chr1   1001600   1002286 MRPL20     K562      0.160734118 0.27254685\n",
       "16     chr1   1001600   1002286 SDF4       K562     -0.247533451 0.40202067\n",
       "17     chr1   1001600   1002286 SLC35E2B   K562     -0.225334363 0.37626732\n",
       "18     chr1   1001600   1002286 SSU72      K562     -0.074852180 0.32354309\n",
       "19     chr1   1001600   1002286 UBE2J2     K562     -0.372626716 0.43105251\n",
       "20     chr1 100249481 100250308 CDC14A     K562     -0.064362569 0.08474757\n",
       "21     chr1 100249481 100250308 DPH5       K562     -0.132905235 0.32380579\n",
       "22     chr1 100249481 100250308 S1PR1      K562     -0.005249964 0.28788032\n",
       "23     chr1 100249481 100250308 SLC30A7    K562      0.086256251 0.21529018\n",
       "24     chr1 100249481 100250308 TRMT13     K562     -0.182189016 0.33304766\n",
       "25     chr1 100265698 100266586 CDC14A     K562     -0.041113570 0.08056133\n",
       "26     chr1 100265698 100266586 DPH5       K562     -0.185071134 0.31132813\n",
       "27     chr1 100265698 100266586 S1PR1      K562     -0.349404599 0.29411219\n",
       "28     chr1 100265698 100266586 SLC30A7    K562     -0.115169651 0.21403218\n",
       "29     chr1 100265698 100266586 TRMT13     K562      0.139885695 0.29742350\n",
       "30     chr1  10032550  10033434 CLSTN1     K562      0.163627440 0.21359848\n",
       "⋮      ⋮    ⋮         ⋮         ⋮          ⋮        ⋮            ⋮         \n",
       "181552 chrX 79366488  79367926  P2RY10     K562     -0.15955088  0.2882652 \n",
       "181553 chrX 80808003  80808528  BRWD3      K562     -0.93234334  0.4614096 \n",
       "181554 chrX 80808003  80808528  SH3BGRL    K562     -0.07790126  0.2065735 \n",
       "181555 chrX 80809348  80810354  BRWD3      K562      0.18451880  0.2370839 \n",
       "181556 chrX 80809348  80810354  SH3BGRL    K562     -0.06766084  0.1586119 \n",
       "181557 chrX 81121526  81122288  BRWD3      K562     -0.09668610  0.3533184 \n",
       "181558 chrX 81121526  81122288  SH3BGRL    K562      0.14390951  0.2034733 \n",
       "181559 chrX 81201620  81202305  BRWD3      K562      0.10641099  0.3376446 \n",
       "181560 chrX 81201620  81202305  SH3BGRL    K562     -0.11392072  0.2356060 \n",
       "181561 chrX 86047196  86047895  CHM        K562     -0.59851898  0.5972142 \n",
       "181562 chrX  8987625   8988441  TBL1X      K562     -0.23615998  0.3443524 \n",
       "181563 chrX  9340742   9341361  TBL1X      K562     -0.04801734  0.3628830 \n",
       "181564 chrX  9340742   9341361  WWC3       K562      0.38868088  0.6007497 \n",
       "181565 chrX  9341504   9342250  TBL1X      K562      0.16381779  0.3126453 \n",
       "181566 chrX  9341504   9342250  WWC3       K562     -0.24540270  0.7256741 \n",
       "181567 chrX  9456233   9457050  TBL1X      K562      0.17349437  0.2250812 \n",
       "181568 chrX  9456233   9457050  WWC3       K562      0.21237623  0.4419270 \n",
       "181569 chrX  9462835   9463506  TBL1X      K562      0.06108523  0.2007952 \n",
       "181570 chrX  9462835   9463506  WWC3       K562     -0.16331922  0.4175468 \n",
       "181571 chrX  9464712   9465712  TBL1X      K562     -0.04615776  0.2220637 \n",
       "181572 chrX  9464712   9465712  WWC3       K562      0.23958820  0.3957242 \n",
       "181573 chrX 96684450  96685117  DIAPH2     K562      0.13830059  0.2042750 \n",
       "181574 chrX   989980    990596  AKAP17A    K562     -0.17194488  0.2886071 \n",
       "181575 chrX   989980    990596  ASMTL      K562     -0.35731713  0.4358919 \n",
       "181576 chrX   989980    990596  GTPBP6     K562     -0.20452419  0.3815692 \n",
       "181577 chrX   989980    990596  IL3RA      K562      0.40945587  0.3290249 \n",
       "181578 chrX   989980    990596  P2RY8      K562     -0.04433883  0.1497771 \n",
       "181579 chrX   989980    990596  SLC25A6    K562      0.04297231  0.1225867 \n",
       "181580 chrX  9995794   9996120  TBL1X      K562     -0.57077951  0.4545563 \n",
       "181581 chrX  9995794   9996120  WWC3       K562     -0.87007506  1.0127571 \n",
       "       z           p           boot_basic_p boot_basic_p.log10 sign\n",
       "1       2.75543274 0.005861455 0.02         1.698970004         1  \n",
       "2      -0.17122429 0.864047408 0.94         0.026872146        -1  \n",
       "3      -0.56353006 0.573073997 0.72         0.142667504        -1  \n",
       "4       0.54411139 0.586364825 0.76         0.119186408         1  \n",
       "5       0.33857762 0.734927942 0.86         0.065501549         1  \n",
       "6      -1.64665601 0.099628771 0.18         0.744727495        -1  \n",
       "7       1.74657053 0.080711863 0.16         0.795880017         1  \n",
       "8       0.42826853 0.668455628 0.72         0.142667504         1  \n",
       "9      -1.45815912 0.144796688 0.26         0.585026652        -1  \n",
       "10      0.35079203 0.725744378 0.62         0.207608311         1  \n",
       "11     -0.29119372 0.770903162 0.92         0.036212173        -1  \n",
       "12     -1.49938762 0.133773103 0.14         0.853871964        -1  \n",
       "13     -0.72758662 0.466866671 0.56         0.251811973        -1  \n",
       "14     -0.46203865 0.644053606 0.74         0.130768280        -1  \n",
       "15      0.58974858 0.555359219 0.54         0.267606240         1  \n",
       "16     -0.61572319 0.538077226 0.56         0.251811973        -1  \n",
       "17     -0.59886775 0.549261080 0.66         0.180456064        -1  \n",
       "18     -0.23135150 0.817041738 0.98         0.008773924        -1  \n",
       "19     -0.86445783 0.387336438 0.46         0.337242168        -1  \n",
       "20     -0.75946208 0.447576191 0.72         0.142667504        -1  \n",
       "21     -0.41044737 0.681477802 0.74         0.130768280        -1  \n",
       "22     -0.01823662 0.985450088 0.84         0.075720714        -1  \n",
       "23      0.40065112 0.688677005 0.74         0.130768280         1  \n",
       "24     -0.54703586 0.584354095 0.54         0.267606240        -1  \n",
       "25     -0.51033875 0.609814156 0.48         0.318758763        -1  \n",
       "26     -0.59445682 0.552206612 0.62         0.207608311        -1  \n",
       "27     -1.18799769 0.234834319 0.32         0.494850022        -1  \n",
       "28     -0.53809501 0.590511454 0.54         0.267606240        -1  \n",
       "29      0.47032496 0.638122865 0.58         0.236572006         1  \n",
       "30      0.76605153 0.443645641 0.42         0.376750710         1  \n",
       "⋮      ⋮           ⋮           ⋮            ⋮                  ⋮   \n",
       "181552 -0.5534865  0.57993029  0.66         0.180456064        -1  \n",
       "181553 -2.0206413  0.04331691  0.26         0.585026652        -1  \n",
       "181554 -0.3771116  0.70609065  0.82         0.086186148        -1  \n",
       "181555  0.7782849  0.43640107  0.38         0.420216403         1  \n",
       "181556 -0.4265811  0.66968447  0.56         0.251811973        -1  \n",
       "181557 -0.2736515  0.78435248  0.80         0.096910013        -1  \n",
       "181558  0.7072648  0.47940196  0.58         0.236572006         1  \n",
       "181559  0.3151568  0.75264262  0.62         0.207608311         1  \n",
       "181560 -0.4835222  0.62872501  0.74         0.130768280        -1  \n",
       "181561 -1.0021848  0.31625435  0.52         0.283996656        -1  \n",
       "181562 -0.6858090  0.49283353  0.60         0.221848750        -1  \n",
       "181563 -0.1323218  0.89472974  0.98         0.008773924        -1  \n",
       "181564  0.6469931  0.51763644  0.48         0.318758763         1  \n",
       "181565  0.5239734  0.60029707  0.60         0.221848750         1  \n",
       "181566 -0.3381721  0.73523352  0.92         0.036212173        -1  \n",
       "181567  0.7708081  0.44082071  0.44         0.356547324         1  \n",
       "181568  0.4805686  0.63082313  0.46         0.337242168         1  \n",
       "181569  0.3042165  0.76096294  0.82         0.086186148         1  \n",
       "181570 -0.3911400  0.69569378  0.70         0.154901960        -1  \n",
       "181571 -0.2078581  0.83533973  0.74         0.130768280        -1  \n",
       "181572  0.6054424  0.54488508  0.58         0.236572006         1  \n",
       "181573  0.6770315  0.49838598  0.44         0.356547324         1  \n",
       "181574 -0.5957750  0.55132552  0.42         0.376750710        -1  \n",
       "181575 -0.8197380  0.41236551  0.54         0.267606240        -1  \n",
       "181576 -0.5360081  0.59195295  0.50         0.301029996        -1  \n",
       "181577  1.2444526  0.21333304  0.18         0.744727495         1  \n",
       "181578 -0.2960320  0.76720562  0.72         0.142667504        -1  \n",
       "181579  0.3505463  0.72592872  0.64         0.193820026         1  \n",
       "181580 -1.2556850  0.20923022  0.28         0.552841969        -1  \n",
       "181581 -0.8591153  0.39027692  0.74         0.130768280        -1  \n",
       "       boot_basic_p.log10.signed\n",
       "1       1.698970004             \n",
       "2      -0.026872146             \n",
       "3      -0.142667504             \n",
       "4       0.119186408             \n",
       "5       0.065501549             \n",
       "6      -0.744727495             \n",
       "7       0.795880017             \n",
       "8       0.142667504             \n",
       "9      -0.585026652             \n",
       "10      0.207608311             \n",
       "11     -0.036212173             \n",
       "12     -0.853871964             \n",
       "13     -0.251811973             \n",
       "14     -0.130768280             \n",
       "15      0.267606240             \n",
       "16     -0.251811973             \n",
       "17     -0.180456064             \n",
       "18     -0.008773924             \n",
       "19     -0.337242168             \n",
       "20     -0.142667504             \n",
       "21     -0.130768280             \n",
       "22     -0.075720714             \n",
       "23      0.130768280             \n",
       "24     -0.267606240             \n",
       "25     -0.318758763             \n",
       "26     -0.207608311             \n",
       "27     -0.494850022             \n",
       "28     -0.267606240             \n",
       "29      0.236572006             \n",
       "30      0.376750710             \n",
       "⋮      ⋮                        \n",
       "181552 -0.180456064             \n",
       "181553 -0.585026652             \n",
       "181554 -0.086186148             \n",
       "181555  0.420216403             \n",
       "181556 -0.251811973             \n",
       "181557 -0.096910013             \n",
       "181558  0.236572006             \n",
       "181559  0.207608311             \n",
       "181560 -0.130768280             \n",
       "181561 -0.283996656             \n",
       "181562 -0.221848750             \n",
       "181563 -0.008773924             \n",
       "181564  0.318758763             \n",
       "181565  0.221848750             \n",
       "181566 -0.036212173             \n",
       "181567  0.356547324             \n",
       "181568  0.337242168             \n",
       "181569  0.086186148             \n",
       "181570 -0.154901960             \n",
       "181571 -0.130768280             \n",
       "181572  0.236572006             \n",
       "181573  0.356547324             \n",
       "181574 -0.376750710             \n",
       "181575 -0.267606240             \n",
       "181576 -0.301029996             \n",
       "181577  0.744727495             \n",
       "181578 -0.142667504             \n",
       "181579  0.193820026             \n",
       "181580 -0.552841969             \n",
       "181581 -0.130768280             "
      ]
     },
     "metadata": {},
     "output_type": "display_data"
    }
   ],
   "source": [
    "df.output = as.data.frame(pairs.E2G.res,row.names = NULL)\n",
    "colnames(df.output)[1] = \"chr\"\n",
    "df.output[,\"CellType\"] = \"K562\"\n",
    "df.output = df.output[,c(\"chr\",\n",
    "                         \"start\",\n",
    "                         \"end\",\n",
    "                         \"TargetGene\",\n",
    "                         \"CellType\",\n",
    "                         \"beta\",\"se\",\"z\",\"p\",\"boot_basic_p\",\n",
    "                         \"boot_basic_p.log10\",\n",
    "                         \"sign\",\n",
    "                         \"boot_basic_p.log10.signed\")]\n",
    "data.table::fwrite(df.output,\n",
    "                   file = paste(dir.output,\"pairs.E2G.res.tsv.gz\",sep = \"/\"),\n",
    "                   row.names = F,\n",
    "                   quote = F,\n",
    "                   sep = \"\\t\")\n",
    "df.output"
   ]
  },
  {
   "cell_type": "code",
   "execution_count": 19,
   "id": "4d77c58e-215a-408d-8495-c68c72f559c3",
   "metadata": {},
   "outputs": [
    {
     "data": {
      "text/plain": [
       "R version 4.3.3 (2024-02-29)\n",
       "Platform: x86_64-conda-linux-gnu (64-bit)\n",
       "Running under: Red Hat Enterprise Linux 8.10 (Ootpa)\n",
       "\n",
       "Matrix products: default\n",
       "BLAS/LAPACK: /maps/projects/ralab/people/lpm537/software/anaconda3/envs/Notebook_E2G_240505/lib/libopenblasp-r0.3.27.so;  LAPACK version 3.12.0\n",
       "\n",
       "locale:\n",
       " [1] LC_CTYPE=en_US.UTF-8       LC_NUMERIC=C              \n",
       " [3] LC_TIME=en_US.UTF-8        LC_COLLATE=en_US.UTF-8    \n",
       " [5] LC_MONETARY=en_US.UTF-8    LC_MESSAGES=en_US.UTF-8   \n",
       " [7] LC_PAPER=en_US.UTF-8       LC_NAME=C                 \n",
       " [9] LC_ADDRESS=C               LC_TELEPHONE=C            \n",
       "[11] LC_MEASUREMENT=en_US.UTF-8 LC_IDENTIFICATION=C       \n",
       "\n",
       "time zone: Europe/Copenhagen\n",
       "tzcode source: system (glibc)\n",
       "\n",
       "attached base packages:\n",
       " [1] parallel  stats4    grid      stats     graphics  grDevices utils    \n",
       " [8] datasets  methods   base     \n",
       "\n",
       "other attached packages:\n",
       "[1] Matrix_1.6-5         GenomicRanges_1.54.1 GenomeInfoDb_1.38.1 \n",
       "[4] IRanges_2.36.0       S4Vectors_0.40.2     BiocGenerics_0.48.1 \n",
       "[7] genomation_1.34.0    Signac_1.13.0        SCENT_1.0.0         \n",
       "\n",
       "loaded via a namespace (and not attached):\n",
       "  [1] rstudioapi_0.16.0           jsonlite_1.8.8             \n",
       "  [3] magrittr_2.0.3              nloptr_2.0.3               \n",
       "  [5] rmarkdown_2.26              BiocIO_1.10.0              \n",
       "  [7] zlibbioc_1.48.0             vctrs_0.6.5                \n",
       "  [9] minqa_1.2.6                 Rsamtools_2.18.0           \n",
       " [11] RCurl_1.98-1.14             base64enc_0.1-3            \n",
       " [13] RcppRoll_0.3.0              htmltools_0.5.8.1          \n",
       " [15] S4Arrays_1.2.1              plotrix_3.8-4              \n",
       " [17] Formula_1.2-5               parallelly_1.37.1          \n",
       " [19] KernSmooth_2.23-22          htmlwidgets_1.6.4          \n",
       " [21] plyr_1.8.9                  impute_1.76.0              \n",
       " [23] uuid_1.2-0                  GenomicAlignments_1.36.0   \n",
       " [25] lifecycle_1.0.4             pkgconfig_2.0.3            \n",
       " [27] R6_2.5.1                    fastmap_1.1.1              \n",
       " [29] GenomeInfoDbData_1.2.11     MatrixGenerics_1.12.3      \n",
       " [31] future_1.33.2               digest_0.6.35              \n",
       " [33] colorspace_2.1-0            patchwork_1.2.0            \n",
       " [35] irlba_2.3.5.1               Hmisc_5.1-2                \n",
       " [37] progressr_0.14.0            fansi_1.0.6                \n",
       " [39] abind_1.4-5                 compiler_4.3.3             \n",
       " [41] bit64_4.0.5                 htmlTable_2.4.2            \n",
       " [43] backports_1.4.1             BiocParallel_1.36.0        \n",
       " [45] R.utils_2.12.3              MASS_7.3-60                \n",
       " [47] DelayedArray_0.26.7         rjson_0.2.21               \n",
       " [49] tools_4.3.3                 foreign_0.8-86             \n",
       " [51] future.apply_1.11.2         nnet_7.3-19                \n",
       " [53] R.oo_1.26.0                 glue_1.7.0                 \n",
       " [55] restfulr_0.0.15             nlme_3.1-164               \n",
       " [57] pbdZMQ_0.3-11               checkmate_2.3.1            \n",
       " [59] gridBase_0.4-7              cluster_2.1.6              \n",
       " [61] reshape2_1.4.4              generics_0.1.3             \n",
       " [63] gtable_0.3.5                BSgenome_1.68.0            \n",
       " [65] tzdb_0.4.0                  R.methodsS3_1.8.2          \n",
       " [67] tidyr_1.3.1                 seqPattern_1.34.0          \n",
       " [69] data.table_1.15.2           hms_1.1.3                  \n",
       " [71] sp_2.1-4                    utf8_1.2.4                 \n",
       " [73] XVector_0.42.0              pillar_1.9.0               \n",
       " [75] stringr_1.5.1               vroom_1.6.5                \n",
       " [77] spam_2.10-0                 IRdisplay_1.1              \n",
       " [79] splines_4.3.3               dplyr_1.1.4                \n",
       " [81] lattice_0.22-6              bit_4.0.5                  \n",
       " [83] rtracklayer_1.60.1          tidyselect_1.2.1           \n",
       " [85] Biostrings_2.70.1           pbapply_1.7-2              \n",
       " [87] knitr_1.46                  gridExtra_2.3              \n",
       " [89] SummarizedExperiment_1.30.2 xfun_0.43                  \n",
       " [91] Biobase_2.60.0              matrixStats_1.3.0          \n",
       " [93] stringi_1.8.3               yaml_2.3.8                 \n",
       " [95] boot_1.3-30                 evaluate_0.23              \n",
       " [97] codetools_0.2-20            tibble_3.2.1               \n",
       " [99] cli_3.6.2                   IRkernel_1.3.2             \n",
       "[101] rpart_4.1.23                repr_1.1.7                 \n",
       "[103] munsell_0.5.1               Rcpp_1.0.12                \n",
       "[105] globals_0.16.3              XML_3.99-0.16.1            \n",
       "[107] ggplot2_3.5.1               readr_2.1.5                \n",
       "[109] dotCall64_1.1-1             bitops_1.0-7               \n",
       "[111] lme4_1.1-35.3               listenv_0.9.1              \n",
       "[113] scales_1.3.0                SeuratObject_5.0.1         \n",
       "[115] purrr_1.0.2                 crayon_1.5.2               \n",
       "[117] rlang_1.1.3                 fastmatch_1.1-4            "
      ]
     },
     "metadata": {},
     "output_type": "display_data"
    }
   ],
   "source": [
    "sessionInfo()"
   ]
  },
  {
   "cell_type": "code",
   "execution_count": null,
   "id": "3c1a0283-11d6-4df1-bbd8-7b47e9e8ead8",
   "metadata": {},
   "outputs": [],
   "source": []
  }
 ],
 "metadata": {
  "kernelspec": {
   "display_name": "R",
   "language": "R",
   "name": "ir"
  },
  "language_info": {
   "codemirror_mode": "r",
   "file_extension": ".r",
   "mimetype": "text/x-r-source",
   "name": "R",
   "pygments_lexer": "r",
   "version": "4.3.3"
  }
 },
 "nbformat": 4,
 "nbformat_minor": 5
}
