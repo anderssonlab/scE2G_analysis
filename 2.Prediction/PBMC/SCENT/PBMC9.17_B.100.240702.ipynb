{
 "cells": [
  {
   "cell_type": "code",
   "execution_count": 1,
   "id": "3a1e63f9-7479-4a30-83ea-381f1ecdbe50",
   "metadata": {},
   "outputs": [
    {
     "name": "stderr",
     "output_type": "stream",
     "text": [
      "Warning message:\n",
      "“replacing previous import ‘Hmisc::capitalize’ by ‘R.utils::capitalize’ when loading ‘SCENT’”\n",
      "Loading required package: grid\n",
      "\n",
      "Warning message:\n",
      "“replacing previous import ‘Biostrings::pattern’ by ‘grid::pattern’ when loading ‘genomation’”\n",
      "Loading required package: stats4\n",
      "\n",
      "Loading required package: BiocGenerics\n",
      "\n",
      "\n",
      "Attaching package: ‘BiocGenerics’\n",
      "\n",
      "\n",
      "The following objects are masked from ‘package:stats’:\n",
      "\n",
      "    IQR, mad, sd, var, xtabs\n",
      "\n",
      "\n",
      "The following objects are masked from ‘package:base’:\n",
      "\n",
      "    anyDuplicated, aperm, append, as.data.frame, basename, cbind,\n",
      "    colnames, dirname, do.call, duplicated, eval, evalq, Filter, Find,\n",
      "    get, grep, grepl, intersect, is.unsorted, lapply, Map, mapply,\n",
      "    match, mget, order, paste, pmax, pmax.int, pmin, pmin.int,\n",
      "    Position, rank, rbind, Reduce, rownames, sapply, setdiff, sort,\n",
      "    table, tapply, union, unique, unsplit, which.max, which.min\n",
      "\n",
      "\n",
      "Loading required package: S4Vectors\n",
      "\n",
      "\n",
      "Attaching package: ‘S4Vectors’\n",
      "\n",
      "\n",
      "The following object is masked from ‘package:utils’:\n",
      "\n",
      "    findMatches\n",
      "\n",
      "\n",
      "The following objects are masked from ‘package:base’:\n",
      "\n",
      "    expand.grid, I, unname\n",
      "\n",
      "\n",
      "Loading required package: IRanges\n",
      "\n",
      "Loading required package: GenomeInfoDb\n",
      "\n",
      "\n",
      "Attaching package: ‘Matrix’\n",
      "\n",
      "\n",
      "The following object is masked from ‘package:S4Vectors’:\n",
      "\n",
      "    expand\n",
      "\n",
      "\n"
     ]
    }
   ],
   "source": [
    "library(SCENT)\n",
    "library(Signac)\n",
    "library(genomation)\n",
    "library(GenomicRanges)\n",
    "library(Matrix)\n",
    "library(parallel)"
   ]
  },
  {
   "cell_type": "markdown",
   "id": "d53f3774-52c3-4baa-b707-5b3a0450b130",
   "metadata": {},
   "source": [
    "Specify file path"
   ]
  },
  {
   "cell_type": "code",
   "execution_count": 2,
   "id": "0785f3fc-9913-428a-bea7-5710120c9328",
   "metadata": {},
   "outputs": [],
   "source": [
    "path.pairs.E2G = \"/maps/projects/ralab_nnfc-AUDIT/people/lpm537/software/scE2G_pipeline/240617/sc-E2G/test/results/PBMC9/17_B.multiome_7features/Kendall/Pairs.tsv.gz\"\n",
    "path.pairs.ABC = \"/maps/projects/ralab_nnfc-AUDIT/people/lpm537/software/scE2G_pipeline/240617/sc-E2G/test/results/PBMC9/17_B.multiome_7features/Predictions/EnhancerPredictionsAllPutative.tsv.gz\"\n",
    "path.matrix.atac_count = \"/maps/projects/ralab_nnfc-AUDIT/people/lpm537/software/scE2G_pipeline/240617/sc-E2G/test/results/PBMC9/17_B.multiome_7features/Kendall/atac_matrix.rds\"\n",
    "path.matrix.rna_count = \"/maps/projects/ralab_nnfc-AUDIT/people/lpm537/project/E2G/analysis/E2G_240503/data/PBMC/1.prepare_data/3.annotate_cell_type/RNA_count_matrix/17_B.rna_count_matrix.csv.gz\"\n",
    "dir.output = \"/maps/projects/ralab_nnfc-AUDIT/people/lpm537/project/E2G/analysis/E2G_240503/data/PBMC/2.Genome_wide_prediction/SCENT/PBMC9.17_B.100.240702/\""
   ]
  },
  {
   "cell_type": "code",
   "execution_count": 3,
   "id": "500ba317-011f-4cab-834c-de750cb7f503",
   "metadata": {},
   "outputs": [],
   "source": [
    "n.cores = 16"
   ]
  },
  {
   "cell_type": "markdown",
   "id": "9c9cdab1-486b-4539-99d3-3cd5d1d99795",
   "metadata": {},
   "source": [
    "Import candidate E-G pairs"
   ]
  },
  {
   "cell_type": "code",
   "execution_count": 4,
   "id": "f5852d15-7e3f-412b-b137-7d29a6fb47b1",
   "metadata": {},
   "outputs": [],
   "source": [
    "pairs.E2G = readGeneric(path.pairs.E2G,\n",
    "                        header = T,\n",
    "                        keep.all.metadata = T)"
   ]
  },
  {
   "cell_type": "markdown",
   "id": "e79f3220-9bc6-4496-9e9a-a2dcc6e7f751",
   "metadata": {},
   "source": [
    "Import ABC results"
   ]
  },
  {
   "cell_type": "code",
   "execution_count": 5,
   "id": "6bc3f6ba-5e9a-488c-ba26-e0c84007ef4d",
   "metadata": {},
   "outputs": [],
   "source": [
    "pairs.ABC = readGeneric(path.pairs.ABC,\n",
    "                        header = T,\n",
    "                        keep.all.metadata = T)"
   ]
  },
  {
   "cell_type": "markdown",
   "id": "7d660489-4656-4b85-a3df-381acf0aa4a1",
   "metadata": {},
   "source": [
    "Filter ABC results which distance < 1M"
   ]
  },
  {
   "cell_type": "code",
   "execution_count": 6,
   "id": "31b4d7f1-0feb-428b-934a-9c32cb2a4f68",
   "metadata": {},
   "outputs": [],
   "source": [
    "pairs.ABC.1M = pairs.ABC[pairs.ABC$distance < 10^6]"
   ]
  },
  {
   "cell_type": "markdown",
   "id": "639699dd-5bf9-4b19-9178-82dbbf2c62d0",
   "metadata": {},
   "source": [
    "Filter E-G pairs overlaping with pairs.ABC.1M"
   ]
  },
  {
   "cell_type": "code",
   "execution_count": 7,
   "id": "d7db8c1b-5245-49e1-862e-979d9f1de142",
   "metadata": {},
   "outputs": [
    {
     "data": {
      "text/plain": [
       "GRanges object with 3022914 ranges and 3 metadata columns:\n",
       "            seqnames              ranges strand |  TargetGene\n",
       "               <Rle>           <IRanges>  <Rle> | <character>\n",
       "        [1]     chr1 100028922-100029097      * |         AGL\n",
       "        [2]     chr1 100028922-100029097      * |      CDC14A\n",
       "        [3]     chr1 100028922-100029097      * |         DBT\n",
       "        [4]     chr1 100028922-100029097      * |        DPH5\n",
       "        [5]     chr1 100028922-100029097      * |       EXTL2\n",
       "        ...      ...                 ...    ... .         ...\n",
       "  [3022910]     chrX     9995644-9996243      * |        WWC3\n",
       "  [3022911]     chrX     9997579-9997806      * |       CLCN4\n",
       "  [3022912]     chrX     9997579-9997806      * |      GPR143\n",
       "  [3022913]     chrX     9997579-9997806      * |       TBL1X\n",
       "  [3022914]     chrX     9997579-9997806      * |        WWC3\n",
       "                          PeakName               PairName\n",
       "                       <character>            <character>\n",
       "        [1] chr1-100028922-10002.. chr1-100028922-10002..\n",
       "        [2] chr1-100028922-10002.. chr1-100028922-10002..\n",
       "        [3] chr1-100028922-10002.. chr1-100028922-10002..\n",
       "        [4] chr1-100028922-10002.. chr1-100028922-10002..\n",
       "        [5] chr1-100028922-10002.. chr1-100028922-10002..\n",
       "        ...                    ...                    ...\n",
       "  [3022910]   chrX-9995644-9996243 chrX-9995644-9996243..\n",
       "  [3022911]   chrX-9997579-9997806 chrX-9997579-9997806..\n",
       "  [3022912]   chrX-9997579-9997806 chrX-9997579-9997806..\n",
       "  [3022913]   chrX-9997579-9997806 chrX-9997579-9997806..\n",
       "  [3022914]   chrX-9997579-9997806 chrX-9997579-9997806..\n",
       "  -------\n",
       "  seqinfo: 23 sequences from an unspecified genome; no seqlengths"
      ]
     },
     "metadata": {},
     "output_type": "display_data"
    }
   ],
   "source": [
    "df.pairs.E2G.chr_rename = as.data.frame(pairs.E2G)[,1:3]\n",
    "df.pairs.E2G.chr_rename[,\"seqnames\"] = paste(seqnames(pairs.E2G),\n",
    "                                             mcols(pairs.E2G)[,\"TargetGene\"],\n",
    "                                             sep = \"_\")\n",
    "pairs.E2G.chr_rename = GRanges(df.pairs.E2G.chr_rename)\n",
    "rm(df.pairs.E2G.chr_rename)\n",
    "\n",
    "df.pairs.ABC.1M.chr_rename = as.data.frame(pairs.ABC.1M)[,1:3]\n",
    "df.pairs.ABC.1M.chr_rename[,\"seqnames\"] = paste(seqnames(pairs.ABC.1M),\n",
    "                                                mcols(pairs.ABC.1M)[,\"TargetGene\"],\n",
    "                                                sep = \"_\")\n",
    "pairs.ABC.1M.chr_rename = GRanges(df.pairs.ABC.1M.chr_rename)\n",
    "rm(df.pairs.ABC.1M.chr_rename)\n",
    "\n",
    "pairs.E2G.filter = pairs.E2G[countOverlaps(pairs.E2G.chr_rename,\n",
    "                                           pairs.ABC.1M.chr_rename) > 0]\n",
    "rm(pairs.E2G.chr_rename)\n",
    "rm(pairs.ABC.1M.chr_rename)\n",
    "pairs.E2G.filter"
   ]
  },
  {
   "cell_type": "markdown",
   "id": "bcdfac67-ce32-4d9a-8f4d-65dab644ec63",
   "metadata": {},
   "source": [
    "Import ATAC matrix"
   ]
  },
  {
   "cell_type": "code",
   "execution_count": 8,
   "id": "bd59feb4-3e33-4ebe-a107-f3b6d347a68e",
   "metadata": {},
   "outputs": [],
   "source": [
    "matrix.atac = readRDS(path.matrix.atac_count)\n",
    "matrix.atac = BinarizeCounts(matrix.atac)"
   ]
  },
  {
   "cell_type": "markdown",
   "id": "a0c5cb96-2fc4-42c4-a421-fe9a5ca537da",
   "metadata": {},
   "source": [
    "Import RNA matrix"
   ]
  },
  {
   "cell_type": "code",
   "execution_count": 9,
   "id": "96e10e90-9400-4cfe-bc7b-46a7eaee1fcd",
   "metadata": {},
   "outputs": [],
   "source": [
    "matrix.rna = read.csv(path.matrix.rna_count,\n",
    "                      row.names = 1,\n",
    "                      check.names = F)\n",
    "matrix.rna = Matrix(as.matrix(matrix.rna), sparse = TRUE)\n",
    "matrix.rna = matrix.rna[,colnames(matrix.atac)]\n",
    "matrix.rna = matrix.rna[rowSums(matrix.rna) > 0,]"
   ]
  },
  {
   "cell_type": "code",
   "execution_count": 10,
   "id": "ad0f51bc-6e09-4b83-be71-560130dd0fa6",
   "metadata": {},
   "outputs": [],
   "source": [
    "pairs.E2G.filter2 = pairs.E2G.filter[pairs.E2G.filter$TargetGene %in% rownames(matrix.rna) &\n",
    "                                     pairs.E2G.filter$PeakName %in% rownames(matrix.atac)]"
   ]
  },
  {
   "cell_type": "markdown",
   "id": "b16f7d5b-eabd-4e93-b8cd-f19a54df21f2",
   "metadata": {},
   "source": [
    "Prepare SCENT meta data"
   ]
  },
  {
   "cell_type": "code",
   "execution_count": 11,
   "id": "827059dd-6885-441e-973e-d7c49e5fd534",
   "metadata": {},
   "outputs": [
    {
     "data": {
      "text/html": [
       "<table class=\"dataframe\">\n",
       "<caption>A data.frame: 882 × 6</caption>\n",
       "<thead>\n",
       "\t<tr><th></th><th scope=col>cell</th><th scope=col>nUMI</th><th scope=col>nMito</th><th scope=col>celltype</th><th scope=col>log.nUMI</th><th scope=col>percent.mito</th></tr>\n",
       "\t<tr><th></th><th scope=col>&lt;chr&gt;</th><th scope=col>&lt;dbl&gt;</th><th scope=col>&lt;dbl&gt;</th><th scope=col>&lt;chr&gt;</th><th scope=col>&lt;dbl&gt;</th><th scope=col>&lt;dbl&gt;</th></tr>\n",
       "</thead>\n",
       "<tbody>\n",
       "\t<tr><th scope=row>Multiome10x_05_AAACGGATCTGTAATG-1</th><td>Multiome10x_05_AAACGGATCTGTAATG-1</td><td> 2042</td><td>239</td><td>K562</td><td>7.621685</td><td>0.11704212</td></tr>\n",
       "\t<tr><th scope=row>Multiome10x_05_AAAGCCCGTCCGTAGG-1</th><td>Multiome10x_05_AAAGCCCGTCCGTAGG-1</td><td> 2174</td><td>290</td><td>K562</td><td>7.684324</td><td>0.13339466</td></tr>\n",
       "\t<tr><th scope=row>Multiome10x_05_AAAGCGGGTTAGTACG-1</th><td>Multiome10x_05_AAAGCGGGTTAGTACG-1</td><td> 2597</td><td>337</td><td>K562</td><td>7.862112</td><td>0.12976511</td></tr>\n",
       "\t<tr><th scope=row>Multiome10x_05_AAAGGTTAGTTAACCA-1</th><td>Multiome10x_05_AAAGGTTAGTTAACCA-1</td><td> 4185</td><td>403</td><td>K562</td><td>8.339262</td><td>0.09629630</td></tr>\n",
       "\t<tr><th scope=row>Multiome10x_05_AACAAAGGTCAATAGT-1</th><td>Multiome10x_05_AACAAAGGTCAATAGT-1</td><td> 1879</td><td>119</td><td>K562</td><td>7.538495</td><td>0.06333156</td></tr>\n",
       "\t<tr><th scope=row>Multiome10x_05_AACATTGTCAGCACCA-1</th><td>Multiome10x_05_AACATTGTCAGCACCA-1</td><td> 1200</td><td>289</td><td>K562</td><td>7.090077</td><td>0.24083333</td></tr>\n",
       "\t<tr><th scope=row>Multiome10x_05_AACATTGTCCGCATGA-1</th><td>Multiome10x_05_AACATTGTCCGCATGA-1</td><td> 4690</td><td>578</td><td>K562</td><td>8.453188</td><td>0.12324094</td></tr>\n",
       "\t<tr><th scope=row>Multiome10x_05_AACCCGCAGTTATTCC-1</th><td>Multiome10x_05_AACCCGCAGTTATTCC-1</td><td> 3137</td><td>332</td><td>K562</td><td>8.051022</td><td>0.10583360</td></tr>\n",
       "\t<tr><th scope=row>Multiome10x_05_AACGCCCAGCAAACCT-1</th><td>Multiome10x_05_AACGCCCAGCAAACCT-1</td><td> 6422</td><td>685</td><td>K562</td><td>8.767485</td><td>0.10666459</td></tr>\n",
       "\t<tr><th scope=row>Multiome10x_05_AACTAGTGTAATCCCT-1</th><td>Multiome10x_05_AACTAGTGTAATCCCT-1</td><td> 2465</td><td>262</td><td>K562</td><td>7.809947</td><td>0.10628803</td></tr>\n",
       "\t<tr><th scope=row>Multiome10x_05_AAGACATAGAGAGGCT-1</th><td>Multiome10x_05_AAGACATAGAGAGGCT-1</td><td> 2392</td><td>231</td><td>K562</td><td>7.779885</td><td>0.09657191</td></tr>\n",
       "\t<tr><th scope=row>Multiome10x_05_AAGCCACGTTAGGATT-1</th><td>Multiome10x_05_AAGCCACGTTAGGATT-1</td><td> 1337</td><td> 97</td><td>K562</td><td>7.198184</td><td>0.07255049</td></tr>\n",
       "\t<tr><th scope=row>Multiome10x_05_AAGCCTGTCCTAATAG-1</th><td>Multiome10x_05_AAGCCTGTCCTAATAG-1</td><td> 3374</td><td>289</td><td>K562</td><td>8.123854</td><td>0.08565501</td></tr>\n",
       "\t<tr><th scope=row>Multiome10x_05_AAGCTCCCAGGACCAA-1</th><td>Multiome10x_05_AAGCTCCCAGGACCAA-1</td><td> 2677</td><td>303</td><td>K562</td><td>7.892452</td><td>0.11318640</td></tr>\n",
       "\t<tr><th scope=row>Multiome10x_05_AAGGTATAGCGATACT-1</th><td>Multiome10x_05_AAGGTATAGCGATACT-1</td><td> 3052</td><td>225</td><td>K562</td><td>8.023552</td><td>0.07372215</td></tr>\n",
       "\t<tr><th scope=row>Multiome10x_05_AAGGTCAAGCATGTCG-1</th><td>Multiome10x_05_AAGGTCAAGCATGTCG-1</td><td> 2359</td><td>301</td><td>K562</td><td>7.765993</td><td>0.12759644</td></tr>\n",
       "\t<tr><th scope=row>Multiome10x_05_AAGTAGCCACCGGTAT-1</th><td>Multiome10x_05_AAGTAGCCACCGGTAT-1</td><td>11959</td><td>934</td><td>K562</td><td>9.389239</td><td>0.07810018</td></tr>\n",
       "\t<tr><th scope=row>Multiome10x_05_AAGTAGCCAGTAAGTA-1</th><td>Multiome10x_05_AAGTAGCCAGTAAGTA-1</td><td> 3226</td><td>481</td><td>K562</td><td>8.078998</td><td>0.14910105</td></tr>\n",
       "\t<tr><th scope=row>Multiome10x_05_AAGTCTATCAGCTAAC-1</th><td>Multiome10x_05_AAGTCTATCAGCTAAC-1</td><td> 5533</td><td>827</td><td>K562</td><td>8.618485</td><td>0.14946684</td></tr>\n",
       "\t<tr><th scope=row>Multiome10x_05_AAGTTAGCAACGTGCT-1</th><td>Multiome10x_05_AAGTTAGCAACGTGCT-1</td><td> 2500</td><td>274</td><td>K562</td><td>7.824046</td><td>0.10960000</td></tr>\n",
       "\t<tr><th scope=row>Multiome10x_05_AATCATGTCTTAGCCC-1</th><td>Multiome10x_05_AATCATGTCTTAGCCC-1</td><td> 3545</td><td>398</td><td>K562</td><td>8.173293</td><td>0.11227080</td></tr>\n",
       "\t<tr><th scope=row>Multiome10x_05_AATCGCCCAGGCGAGT-1</th><td>Multiome10x_05_AATCGCCCAGGCGAGT-1</td><td> 2593</td><td>343</td><td>K562</td><td>7.860571</td><td>0.13227921</td></tr>\n",
       "\t<tr><th scope=row>Multiome10x_05_AATCTCAAGTAGAGGC-1</th><td>Multiome10x_05_AATCTCAAGTAGAGGC-1</td><td> 2967</td><td>391</td><td>K562</td><td>7.995307</td><td>0.13178295</td></tr>\n",
       "\t<tr><th scope=row>Multiome10x_05_AATGTCCAGAAGGTGC-1</th><td>Multiome10x_05_AATGTCCAGAAGGTGC-1</td><td> 2160</td><td>214</td><td>K562</td><td>7.677864</td><td>0.09907407</td></tr>\n",
       "\t<tr><th scope=row>Multiome10x_05_AATTAGCGTTTGAGCA-1</th><td>Multiome10x_05_AATTAGCGTTTGAGCA-1</td><td> 2325</td><td>241</td><td>K562</td><td>7.751475</td><td>0.10365591</td></tr>\n",
       "\t<tr><th scope=row>Multiome10x_05_AATTGCCAGTGAAGTG-1</th><td>Multiome10x_05_AATTGCCAGTGAAGTG-1</td><td> 2577</td><td>214</td><td>K562</td><td>7.854381</td><td>0.08304230</td></tr>\n",
       "\t<tr><th scope=row>Multiome10x_05_AATTTGCCATGTCGCG-1</th><td>Multiome10x_05_AATTTGCCATGTCGCG-1</td><td> 1922</td><td>207</td><td>K562</td><td>7.561122</td><td>0.10770031</td></tr>\n",
       "\t<tr><th scope=row>Multiome10x_05_ACACCTTGTCCTTCTC-1</th><td>Multiome10x_05_ACACCTTGTCCTTCTC-1</td><td> 2319</td><td>240</td><td>K562</td><td>7.748891</td><td>0.10349288</td></tr>\n",
       "\t<tr><th scope=row>Multiome10x_05_ACACCTTGTTTGTGGA-1</th><td>Multiome10x_05_ACACCTTGTTTGTGGA-1</td><td> 2115</td><td>249</td><td>K562</td><td>7.656810</td><td>0.11773050</td></tr>\n",
       "\t<tr><th scope=row>Multiome10x_05_ACACTAATCTCCATGC-1</th><td>Multiome10x_05_ACACTAATCTCCATGC-1</td><td> 2367</td><td>244</td><td>K562</td><td>7.769379</td><td>0.10308407</td></tr>\n",
       "\t<tr><th scope=row>⋮</th><td>⋮</td><td>⋮</td><td>⋮</td><td>⋮</td><td>⋮</td><td>⋮</td></tr>\n",
       "\t<tr><th scope=row>Multiome10x_06_TTAACTGAGTCGCAAT-1</th><td>Multiome10x_06_TTAACTGAGTCGCAAT-1</td><td> 2154</td><td> 215</td><td>K562</td><td>7.675082</td><td>0.09981430</td></tr>\n",
       "\t<tr><th scope=row>Multiome10x_06_TTAGCAATCACAGCCA-1</th><td>Multiome10x_06_TTAGCAATCACAGCCA-1</td><td> 6818</td><td>1051</td><td>K562</td><td>8.827321</td><td>0.15415078</td></tr>\n",
       "\t<tr><th scope=row>Multiome10x_06_TTAGCAGGTGTCCTGC-1</th><td>Multiome10x_06_TTAGCAGGTGTCCTGC-1</td><td> 3790</td><td> 625</td><td>K562</td><td>8.240121</td><td>0.16490765</td></tr>\n",
       "\t<tr><th scope=row>Multiome10x_06_TTAGGATGTTAATGAC-1</th><td>Multiome10x_06_TTAGGATGTTAATGAC-1</td><td> 2885</td><td> 420</td><td>K562</td><td>7.967280</td><td>0.14558059</td></tr>\n",
       "\t<tr><th scope=row>Multiome10x_06_TTATAGCCATAGACCC-1</th><td>Multiome10x_06_TTATAGCCATAGACCC-1</td><td> 2165</td><td> 277</td><td>K562</td><td>7.680176</td><td>0.12794457</td></tr>\n",
       "\t<tr><th scope=row>Multiome10x_06_TTCATCCCAAGATTCT-1</th><td>Multiome10x_06_TTCATCCCAAGATTCT-1</td><td> 3128</td><td> 313</td><td>K562</td><td>8.048149</td><td>0.10006394</td></tr>\n",
       "\t<tr><th scope=row>Multiome10x_06_TTCATTCAGTCACCTC-1</th><td>Multiome10x_06_TTCATTCAGTCACCTC-1</td><td> 4707</td><td> 566</td><td>K562</td><td>8.456806</td><td>0.12024644</td></tr>\n",
       "\t<tr><th scope=row>Multiome10x_06_TTCCACGGTGTTGCTT-1</th><td>Multiome10x_06_TTCCACGGTGTTGCTT-1</td><td> 3279</td><td> 427</td><td>K562</td><td>8.095294</td><td>0.13022263</td></tr>\n",
       "\t<tr><th scope=row>Multiome10x_06_TTCCTCAAGCTCATAA-1</th><td>Multiome10x_06_TTCCTCAAGCTCATAA-1</td><td> 1815</td><td> 122</td><td>K562</td><td>7.503841</td><td>0.06721763</td></tr>\n",
       "\t<tr><th scope=row>Multiome10x_06_TTGCAACAGCCTGTTC-1</th><td>Multiome10x_06_TTGCAACAGCCTGTTC-1</td><td> 2671</td><td> 262</td><td>K562</td><td>7.890208</td><td>0.09809060</td></tr>\n",
       "\t<tr><th scope=row>Multiome10x_06_TTGCAACAGGCCCAGT-1</th><td>Multiome10x_06_TTGCAACAGGCCCAGT-1</td><td> 6293</td><td> 564</td><td>K562</td><td>8.747193</td><td>0.08962339</td></tr>\n",
       "\t<tr><th scope=row>Multiome10x_06_TTGCTTAGTAGCTGGT-1</th><td>Multiome10x_06_TTGCTTAGTAGCTGGT-1</td><td> 4054</td><td> 358</td><td>K562</td><td>8.307459</td><td>0.08830784</td></tr>\n",
       "\t<tr><th scope=row>Multiome10x_06_TTGGGCGGTGATCAGC-1</th><td>Multiome10x_06_TTGGGCGGTGATCAGC-1</td><td> 5294</td><td> 685</td><td>K562</td><td>8.574329</td><td>0.12939176</td></tr>\n",
       "\t<tr><th scope=row>Multiome10x_06_TTGTAAGTCCTTGCGT-1</th><td>Multiome10x_06_TTGTAAGTCCTTGCGT-1</td><td> 2976</td><td> 316</td><td>K562</td><td>7.998335</td><td>0.10618280</td></tr>\n",
       "\t<tr><th scope=row>Multiome10x_06_TTGTCCATCCACCCTG-1</th><td>Multiome10x_06_TTGTCCATCCACCCTG-1</td><td> 2500</td><td>  61</td><td>K562</td><td>7.824046</td><td>0.02440000</td></tr>\n",
       "\t<tr><th scope=row>Multiome10x_06_TTGTGCCTCCCTGGAA-1</th><td>Multiome10x_06_TTGTGCCTCCCTGGAA-1</td><td> 3632</td><td> 506</td><td>K562</td><td>8.197539</td><td>0.13931718</td></tr>\n",
       "\t<tr><th scope=row>Multiome10x_06_TTGTTCCCAGGTTATT-1</th><td>Multiome10x_06_TTGTTCCCAGGTTATT-1</td><td> 1635</td><td> 200</td><td>K562</td><td>7.399398</td><td>0.12232416</td></tr>\n",
       "\t<tr><th scope=row>Multiome10x_06_TTGTTTGGTTTGGCTT-1</th><td>Multiome10x_06_TTGTTTGGTTTGGCTT-1</td><td> 1903</td><td> 194</td><td>K562</td><td>7.551187</td><td>0.10194430</td></tr>\n",
       "\t<tr><th scope=row>Multiome10x_06_TTTAAGCCAGTGAACG-1</th><td>Multiome10x_06_TTTAAGCCAGTGAACG-1</td><td>10350</td><td>1161</td><td>K562</td><td>9.244742</td><td>0.11217391</td></tr>\n",
       "\t<tr><th scope=row>Multiome10x_06_TTTAAGGTCACTCAAA-1</th><td>Multiome10x_06_TTTAAGGTCACTCAAA-1</td><td> 1774</td><td> 171</td><td>K562</td><td>7.480992</td><td>0.09639233</td></tr>\n",
       "\t<tr><th scope=row>Multiome10x_06_TTTACGAAGAACAAGT-1</th><td>Multiome10x_06_TTTACGAAGAACAAGT-1</td><td> 2738</td><td> 326</td><td>K562</td><td>7.914983</td><td>0.11906501</td></tr>\n",
       "\t<tr><th scope=row>Multiome10x_06_TTTACGAAGGAACACA-1</th><td>Multiome10x_06_TTTACGAAGGAACACA-1</td><td> 4415</td><td> 625</td><td>K562</td><td>8.392763</td><td>0.14156285</td></tr>\n",
       "\t<tr><th scope=row>Multiome10x_06_TTTAGCAAGGCTTAAC-1</th><td>Multiome10x_06_TTTAGCAAGGCTTAAC-1</td><td> 2430</td><td> 263</td><td>K562</td><td>7.795647</td><td>0.10823045</td></tr>\n",
       "\t<tr><th scope=row>Multiome10x_06_TTTCACCCAAACCCTA-1</th><td>Multiome10x_06_TTTCACCCAAACCCTA-1</td><td> 1551</td><td> 195</td><td>K562</td><td>7.346655</td><td>0.12572534</td></tr>\n",
       "\t<tr><th scope=row>Multiome10x_06_TTTGCGACAAAGCTCC-1</th><td>Multiome10x_06_TTTGCGACAAAGCTCC-1</td><td> 2690</td><td> 143</td><td>K562</td><td>7.897296</td><td>0.05315985</td></tr>\n",
       "\t<tr><th scope=row>Multiome10x_06_TTTGCGGAGTTCCCGT-1</th><td>Multiome10x_06_TTTGCGGAGTTCCCGT-1</td><td> 1704</td><td> 207</td><td>K562</td><td>7.440734</td><td>0.12147887</td></tr>\n",
       "\t<tr><th scope=row>Multiome10x_06_TTTGGTGCATTAAGCT-1</th><td>Multiome10x_06_TTTGGTGCATTAAGCT-1</td><td> 2137</td><td>  87</td><td>K562</td><td>7.667158</td><td>0.04071128</td></tr>\n",
       "\t<tr><th scope=row>Multiome10x_06_TTTGTCCCATACCCGG-1</th><td>Multiome10x_06_TTTGTCCCATACCCGG-1</td><td> 2795</td><td> 225</td><td>K562</td><td>7.935587</td><td>0.08050089</td></tr>\n",
       "\t<tr><th scope=row>Multiome10x_06_TTTGTCTAGGCAGGTG-1</th><td>Multiome10x_06_TTTGTCTAGGCAGGTG-1</td><td> 2578</td><td> 210</td><td>K562</td><td>7.854769</td><td>0.08145849</td></tr>\n",
       "\t<tr><th scope=row>Multiome10x_06_TTTGTCTAGGTAAGCA-1</th><td>Multiome10x_06_TTTGTCTAGGTAAGCA-1</td><td> 3266</td><td> 279</td><td>K562</td><td>8.091321</td><td>0.08542560</td></tr>\n",
       "</tbody>\n",
       "</table>\n"
      ],
      "text/latex": [
       "A data.frame: 882 × 6\n",
       "\\begin{tabular}{r|llllll}\n",
       "  & cell & nUMI & nMito & celltype & log.nUMI & percent.mito\\\\\n",
       "  & <chr> & <dbl> & <dbl> & <chr> & <dbl> & <dbl>\\\\\n",
       "\\hline\n",
       "\tMultiome10x\\_05\\_AAACGGATCTGTAATG-1 & Multiome10x\\_05\\_AAACGGATCTGTAATG-1 &  2042 & 239 & K562 & 7.621685 & 0.11704212\\\\\n",
       "\tMultiome10x\\_05\\_AAAGCCCGTCCGTAGG-1 & Multiome10x\\_05\\_AAAGCCCGTCCGTAGG-1 &  2174 & 290 & K562 & 7.684324 & 0.13339466\\\\\n",
       "\tMultiome10x\\_05\\_AAAGCGGGTTAGTACG-1 & Multiome10x\\_05\\_AAAGCGGGTTAGTACG-1 &  2597 & 337 & K562 & 7.862112 & 0.12976511\\\\\n",
       "\tMultiome10x\\_05\\_AAAGGTTAGTTAACCA-1 & Multiome10x\\_05\\_AAAGGTTAGTTAACCA-1 &  4185 & 403 & K562 & 8.339262 & 0.09629630\\\\\n",
       "\tMultiome10x\\_05\\_AACAAAGGTCAATAGT-1 & Multiome10x\\_05\\_AACAAAGGTCAATAGT-1 &  1879 & 119 & K562 & 7.538495 & 0.06333156\\\\\n",
       "\tMultiome10x\\_05\\_AACATTGTCAGCACCA-1 & Multiome10x\\_05\\_AACATTGTCAGCACCA-1 &  1200 & 289 & K562 & 7.090077 & 0.24083333\\\\\n",
       "\tMultiome10x\\_05\\_AACATTGTCCGCATGA-1 & Multiome10x\\_05\\_AACATTGTCCGCATGA-1 &  4690 & 578 & K562 & 8.453188 & 0.12324094\\\\\n",
       "\tMultiome10x\\_05\\_AACCCGCAGTTATTCC-1 & Multiome10x\\_05\\_AACCCGCAGTTATTCC-1 &  3137 & 332 & K562 & 8.051022 & 0.10583360\\\\\n",
       "\tMultiome10x\\_05\\_AACGCCCAGCAAACCT-1 & Multiome10x\\_05\\_AACGCCCAGCAAACCT-1 &  6422 & 685 & K562 & 8.767485 & 0.10666459\\\\\n",
       "\tMultiome10x\\_05\\_AACTAGTGTAATCCCT-1 & Multiome10x\\_05\\_AACTAGTGTAATCCCT-1 &  2465 & 262 & K562 & 7.809947 & 0.10628803\\\\\n",
       "\tMultiome10x\\_05\\_AAGACATAGAGAGGCT-1 & Multiome10x\\_05\\_AAGACATAGAGAGGCT-1 &  2392 & 231 & K562 & 7.779885 & 0.09657191\\\\\n",
       "\tMultiome10x\\_05\\_AAGCCACGTTAGGATT-1 & Multiome10x\\_05\\_AAGCCACGTTAGGATT-1 &  1337 &  97 & K562 & 7.198184 & 0.07255049\\\\\n",
       "\tMultiome10x\\_05\\_AAGCCTGTCCTAATAG-1 & Multiome10x\\_05\\_AAGCCTGTCCTAATAG-1 &  3374 & 289 & K562 & 8.123854 & 0.08565501\\\\\n",
       "\tMultiome10x\\_05\\_AAGCTCCCAGGACCAA-1 & Multiome10x\\_05\\_AAGCTCCCAGGACCAA-1 &  2677 & 303 & K562 & 7.892452 & 0.11318640\\\\\n",
       "\tMultiome10x\\_05\\_AAGGTATAGCGATACT-1 & Multiome10x\\_05\\_AAGGTATAGCGATACT-1 &  3052 & 225 & K562 & 8.023552 & 0.07372215\\\\\n",
       "\tMultiome10x\\_05\\_AAGGTCAAGCATGTCG-1 & Multiome10x\\_05\\_AAGGTCAAGCATGTCG-1 &  2359 & 301 & K562 & 7.765993 & 0.12759644\\\\\n",
       "\tMultiome10x\\_05\\_AAGTAGCCACCGGTAT-1 & Multiome10x\\_05\\_AAGTAGCCACCGGTAT-1 & 11959 & 934 & K562 & 9.389239 & 0.07810018\\\\\n",
       "\tMultiome10x\\_05\\_AAGTAGCCAGTAAGTA-1 & Multiome10x\\_05\\_AAGTAGCCAGTAAGTA-1 &  3226 & 481 & K562 & 8.078998 & 0.14910105\\\\\n",
       "\tMultiome10x\\_05\\_AAGTCTATCAGCTAAC-1 & Multiome10x\\_05\\_AAGTCTATCAGCTAAC-1 &  5533 & 827 & K562 & 8.618485 & 0.14946684\\\\\n",
       "\tMultiome10x\\_05\\_AAGTTAGCAACGTGCT-1 & Multiome10x\\_05\\_AAGTTAGCAACGTGCT-1 &  2500 & 274 & K562 & 7.824046 & 0.10960000\\\\\n",
       "\tMultiome10x\\_05\\_AATCATGTCTTAGCCC-1 & Multiome10x\\_05\\_AATCATGTCTTAGCCC-1 &  3545 & 398 & K562 & 8.173293 & 0.11227080\\\\\n",
       "\tMultiome10x\\_05\\_AATCGCCCAGGCGAGT-1 & Multiome10x\\_05\\_AATCGCCCAGGCGAGT-1 &  2593 & 343 & K562 & 7.860571 & 0.13227921\\\\\n",
       "\tMultiome10x\\_05\\_AATCTCAAGTAGAGGC-1 & Multiome10x\\_05\\_AATCTCAAGTAGAGGC-1 &  2967 & 391 & K562 & 7.995307 & 0.13178295\\\\\n",
       "\tMultiome10x\\_05\\_AATGTCCAGAAGGTGC-1 & Multiome10x\\_05\\_AATGTCCAGAAGGTGC-1 &  2160 & 214 & K562 & 7.677864 & 0.09907407\\\\\n",
       "\tMultiome10x\\_05\\_AATTAGCGTTTGAGCA-1 & Multiome10x\\_05\\_AATTAGCGTTTGAGCA-1 &  2325 & 241 & K562 & 7.751475 & 0.10365591\\\\\n",
       "\tMultiome10x\\_05\\_AATTGCCAGTGAAGTG-1 & Multiome10x\\_05\\_AATTGCCAGTGAAGTG-1 &  2577 & 214 & K562 & 7.854381 & 0.08304230\\\\\n",
       "\tMultiome10x\\_05\\_AATTTGCCATGTCGCG-1 & Multiome10x\\_05\\_AATTTGCCATGTCGCG-1 &  1922 & 207 & K562 & 7.561122 & 0.10770031\\\\\n",
       "\tMultiome10x\\_05\\_ACACCTTGTCCTTCTC-1 & Multiome10x\\_05\\_ACACCTTGTCCTTCTC-1 &  2319 & 240 & K562 & 7.748891 & 0.10349288\\\\\n",
       "\tMultiome10x\\_05\\_ACACCTTGTTTGTGGA-1 & Multiome10x\\_05\\_ACACCTTGTTTGTGGA-1 &  2115 & 249 & K562 & 7.656810 & 0.11773050\\\\\n",
       "\tMultiome10x\\_05\\_ACACTAATCTCCATGC-1 & Multiome10x\\_05\\_ACACTAATCTCCATGC-1 &  2367 & 244 & K562 & 7.769379 & 0.10308407\\\\\n",
       "\t⋮ & ⋮ & ⋮ & ⋮ & ⋮ & ⋮ & ⋮\\\\\n",
       "\tMultiome10x\\_06\\_TTAACTGAGTCGCAAT-1 & Multiome10x\\_06\\_TTAACTGAGTCGCAAT-1 &  2154 &  215 & K562 & 7.675082 & 0.09981430\\\\\n",
       "\tMultiome10x\\_06\\_TTAGCAATCACAGCCA-1 & Multiome10x\\_06\\_TTAGCAATCACAGCCA-1 &  6818 & 1051 & K562 & 8.827321 & 0.15415078\\\\\n",
       "\tMultiome10x\\_06\\_TTAGCAGGTGTCCTGC-1 & Multiome10x\\_06\\_TTAGCAGGTGTCCTGC-1 &  3790 &  625 & K562 & 8.240121 & 0.16490765\\\\\n",
       "\tMultiome10x\\_06\\_TTAGGATGTTAATGAC-1 & Multiome10x\\_06\\_TTAGGATGTTAATGAC-1 &  2885 &  420 & K562 & 7.967280 & 0.14558059\\\\\n",
       "\tMultiome10x\\_06\\_TTATAGCCATAGACCC-1 & Multiome10x\\_06\\_TTATAGCCATAGACCC-1 &  2165 &  277 & K562 & 7.680176 & 0.12794457\\\\\n",
       "\tMultiome10x\\_06\\_TTCATCCCAAGATTCT-1 & Multiome10x\\_06\\_TTCATCCCAAGATTCT-1 &  3128 &  313 & K562 & 8.048149 & 0.10006394\\\\\n",
       "\tMultiome10x\\_06\\_TTCATTCAGTCACCTC-1 & Multiome10x\\_06\\_TTCATTCAGTCACCTC-1 &  4707 &  566 & K562 & 8.456806 & 0.12024644\\\\\n",
       "\tMultiome10x\\_06\\_TTCCACGGTGTTGCTT-1 & Multiome10x\\_06\\_TTCCACGGTGTTGCTT-1 &  3279 &  427 & K562 & 8.095294 & 0.13022263\\\\\n",
       "\tMultiome10x\\_06\\_TTCCTCAAGCTCATAA-1 & Multiome10x\\_06\\_TTCCTCAAGCTCATAA-1 &  1815 &  122 & K562 & 7.503841 & 0.06721763\\\\\n",
       "\tMultiome10x\\_06\\_TTGCAACAGCCTGTTC-1 & Multiome10x\\_06\\_TTGCAACAGCCTGTTC-1 &  2671 &  262 & K562 & 7.890208 & 0.09809060\\\\\n",
       "\tMultiome10x\\_06\\_TTGCAACAGGCCCAGT-1 & Multiome10x\\_06\\_TTGCAACAGGCCCAGT-1 &  6293 &  564 & K562 & 8.747193 & 0.08962339\\\\\n",
       "\tMultiome10x\\_06\\_TTGCTTAGTAGCTGGT-1 & Multiome10x\\_06\\_TTGCTTAGTAGCTGGT-1 &  4054 &  358 & K562 & 8.307459 & 0.08830784\\\\\n",
       "\tMultiome10x\\_06\\_TTGGGCGGTGATCAGC-1 & Multiome10x\\_06\\_TTGGGCGGTGATCAGC-1 &  5294 &  685 & K562 & 8.574329 & 0.12939176\\\\\n",
       "\tMultiome10x\\_06\\_TTGTAAGTCCTTGCGT-1 & Multiome10x\\_06\\_TTGTAAGTCCTTGCGT-1 &  2976 &  316 & K562 & 7.998335 & 0.10618280\\\\\n",
       "\tMultiome10x\\_06\\_TTGTCCATCCACCCTG-1 & Multiome10x\\_06\\_TTGTCCATCCACCCTG-1 &  2500 &   61 & K562 & 7.824046 & 0.02440000\\\\\n",
       "\tMultiome10x\\_06\\_TTGTGCCTCCCTGGAA-1 & Multiome10x\\_06\\_TTGTGCCTCCCTGGAA-1 &  3632 &  506 & K562 & 8.197539 & 0.13931718\\\\\n",
       "\tMultiome10x\\_06\\_TTGTTCCCAGGTTATT-1 & Multiome10x\\_06\\_TTGTTCCCAGGTTATT-1 &  1635 &  200 & K562 & 7.399398 & 0.12232416\\\\\n",
       "\tMultiome10x\\_06\\_TTGTTTGGTTTGGCTT-1 & Multiome10x\\_06\\_TTGTTTGGTTTGGCTT-1 &  1903 &  194 & K562 & 7.551187 & 0.10194430\\\\\n",
       "\tMultiome10x\\_06\\_TTTAAGCCAGTGAACG-1 & Multiome10x\\_06\\_TTTAAGCCAGTGAACG-1 & 10350 & 1161 & K562 & 9.244742 & 0.11217391\\\\\n",
       "\tMultiome10x\\_06\\_TTTAAGGTCACTCAAA-1 & Multiome10x\\_06\\_TTTAAGGTCACTCAAA-1 &  1774 &  171 & K562 & 7.480992 & 0.09639233\\\\\n",
       "\tMultiome10x\\_06\\_TTTACGAAGAACAAGT-1 & Multiome10x\\_06\\_TTTACGAAGAACAAGT-1 &  2738 &  326 & K562 & 7.914983 & 0.11906501\\\\\n",
       "\tMultiome10x\\_06\\_TTTACGAAGGAACACA-1 & Multiome10x\\_06\\_TTTACGAAGGAACACA-1 &  4415 &  625 & K562 & 8.392763 & 0.14156285\\\\\n",
       "\tMultiome10x\\_06\\_TTTAGCAAGGCTTAAC-1 & Multiome10x\\_06\\_TTTAGCAAGGCTTAAC-1 &  2430 &  263 & K562 & 7.795647 & 0.10823045\\\\\n",
       "\tMultiome10x\\_06\\_TTTCACCCAAACCCTA-1 & Multiome10x\\_06\\_TTTCACCCAAACCCTA-1 &  1551 &  195 & K562 & 7.346655 & 0.12572534\\\\\n",
       "\tMultiome10x\\_06\\_TTTGCGACAAAGCTCC-1 & Multiome10x\\_06\\_TTTGCGACAAAGCTCC-1 &  2690 &  143 & K562 & 7.897296 & 0.05315985\\\\\n",
       "\tMultiome10x\\_06\\_TTTGCGGAGTTCCCGT-1 & Multiome10x\\_06\\_TTTGCGGAGTTCCCGT-1 &  1704 &  207 & K562 & 7.440734 & 0.12147887\\\\\n",
       "\tMultiome10x\\_06\\_TTTGGTGCATTAAGCT-1 & Multiome10x\\_06\\_TTTGGTGCATTAAGCT-1 &  2137 &   87 & K562 & 7.667158 & 0.04071128\\\\\n",
       "\tMultiome10x\\_06\\_TTTGTCCCATACCCGG-1 & Multiome10x\\_06\\_TTTGTCCCATACCCGG-1 &  2795 &  225 & K562 & 7.935587 & 0.08050089\\\\\n",
       "\tMultiome10x\\_06\\_TTTGTCTAGGCAGGTG-1 & Multiome10x\\_06\\_TTTGTCTAGGCAGGTG-1 &  2578 &  210 & K562 & 7.854769 & 0.08145849\\\\\n",
       "\tMultiome10x\\_06\\_TTTGTCTAGGTAAGCA-1 & Multiome10x\\_06\\_TTTGTCTAGGTAAGCA-1 &  3266 &  279 & K562 & 8.091321 & 0.08542560\\\\\n",
       "\\end{tabular}\n"
      ],
      "text/markdown": [
       "\n",
       "A data.frame: 882 × 6\n",
       "\n",
       "| <!--/--> | cell &lt;chr&gt; | nUMI &lt;dbl&gt; | nMito &lt;dbl&gt; | celltype &lt;chr&gt; | log.nUMI &lt;dbl&gt; | percent.mito &lt;dbl&gt; |\n",
       "|---|---|---|---|---|---|---|\n",
       "| Multiome10x_05_AAACGGATCTGTAATG-1 | Multiome10x_05_AAACGGATCTGTAATG-1 |  2042 | 239 | K562 | 7.621685 | 0.11704212 |\n",
       "| Multiome10x_05_AAAGCCCGTCCGTAGG-1 | Multiome10x_05_AAAGCCCGTCCGTAGG-1 |  2174 | 290 | K562 | 7.684324 | 0.13339466 |\n",
       "| Multiome10x_05_AAAGCGGGTTAGTACG-1 | Multiome10x_05_AAAGCGGGTTAGTACG-1 |  2597 | 337 | K562 | 7.862112 | 0.12976511 |\n",
       "| Multiome10x_05_AAAGGTTAGTTAACCA-1 | Multiome10x_05_AAAGGTTAGTTAACCA-1 |  4185 | 403 | K562 | 8.339262 | 0.09629630 |\n",
       "| Multiome10x_05_AACAAAGGTCAATAGT-1 | Multiome10x_05_AACAAAGGTCAATAGT-1 |  1879 | 119 | K562 | 7.538495 | 0.06333156 |\n",
       "| Multiome10x_05_AACATTGTCAGCACCA-1 | Multiome10x_05_AACATTGTCAGCACCA-1 |  1200 | 289 | K562 | 7.090077 | 0.24083333 |\n",
       "| Multiome10x_05_AACATTGTCCGCATGA-1 | Multiome10x_05_AACATTGTCCGCATGA-1 |  4690 | 578 | K562 | 8.453188 | 0.12324094 |\n",
       "| Multiome10x_05_AACCCGCAGTTATTCC-1 | Multiome10x_05_AACCCGCAGTTATTCC-1 |  3137 | 332 | K562 | 8.051022 | 0.10583360 |\n",
       "| Multiome10x_05_AACGCCCAGCAAACCT-1 | Multiome10x_05_AACGCCCAGCAAACCT-1 |  6422 | 685 | K562 | 8.767485 | 0.10666459 |\n",
       "| Multiome10x_05_AACTAGTGTAATCCCT-1 | Multiome10x_05_AACTAGTGTAATCCCT-1 |  2465 | 262 | K562 | 7.809947 | 0.10628803 |\n",
       "| Multiome10x_05_AAGACATAGAGAGGCT-1 | Multiome10x_05_AAGACATAGAGAGGCT-1 |  2392 | 231 | K562 | 7.779885 | 0.09657191 |\n",
       "| Multiome10x_05_AAGCCACGTTAGGATT-1 | Multiome10x_05_AAGCCACGTTAGGATT-1 |  1337 |  97 | K562 | 7.198184 | 0.07255049 |\n",
       "| Multiome10x_05_AAGCCTGTCCTAATAG-1 | Multiome10x_05_AAGCCTGTCCTAATAG-1 |  3374 | 289 | K562 | 8.123854 | 0.08565501 |\n",
       "| Multiome10x_05_AAGCTCCCAGGACCAA-1 | Multiome10x_05_AAGCTCCCAGGACCAA-1 |  2677 | 303 | K562 | 7.892452 | 0.11318640 |\n",
       "| Multiome10x_05_AAGGTATAGCGATACT-1 | Multiome10x_05_AAGGTATAGCGATACT-1 |  3052 | 225 | K562 | 8.023552 | 0.07372215 |\n",
       "| Multiome10x_05_AAGGTCAAGCATGTCG-1 | Multiome10x_05_AAGGTCAAGCATGTCG-1 |  2359 | 301 | K562 | 7.765993 | 0.12759644 |\n",
       "| Multiome10x_05_AAGTAGCCACCGGTAT-1 | Multiome10x_05_AAGTAGCCACCGGTAT-1 | 11959 | 934 | K562 | 9.389239 | 0.07810018 |\n",
       "| Multiome10x_05_AAGTAGCCAGTAAGTA-1 | Multiome10x_05_AAGTAGCCAGTAAGTA-1 |  3226 | 481 | K562 | 8.078998 | 0.14910105 |\n",
       "| Multiome10x_05_AAGTCTATCAGCTAAC-1 | Multiome10x_05_AAGTCTATCAGCTAAC-1 |  5533 | 827 | K562 | 8.618485 | 0.14946684 |\n",
       "| Multiome10x_05_AAGTTAGCAACGTGCT-1 | Multiome10x_05_AAGTTAGCAACGTGCT-1 |  2500 | 274 | K562 | 7.824046 | 0.10960000 |\n",
       "| Multiome10x_05_AATCATGTCTTAGCCC-1 | Multiome10x_05_AATCATGTCTTAGCCC-1 |  3545 | 398 | K562 | 8.173293 | 0.11227080 |\n",
       "| Multiome10x_05_AATCGCCCAGGCGAGT-1 | Multiome10x_05_AATCGCCCAGGCGAGT-1 |  2593 | 343 | K562 | 7.860571 | 0.13227921 |\n",
       "| Multiome10x_05_AATCTCAAGTAGAGGC-1 | Multiome10x_05_AATCTCAAGTAGAGGC-1 |  2967 | 391 | K562 | 7.995307 | 0.13178295 |\n",
       "| Multiome10x_05_AATGTCCAGAAGGTGC-1 | Multiome10x_05_AATGTCCAGAAGGTGC-1 |  2160 | 214 | K562 | 7.677864 | 0.09907407 |\n",
       "| Multiome10x_05_AATTAGCGTTTGAGCA-1 | Multiome10x_05_AATTAGCGTTTGAGCA-1 |  2325 | 241 | K562 | 7.751475 | 0.10365591 |\n",
       "| Multiome10x_05_AATTGCCAGTGAAGTG-1 | Multiome10x_05_AATTGCCAGTGAAGTG-1 |  2577 | 214 | K562 | 7.854381 | 0.08304230 |\n",
       "| Multiome10x_05_AATTTGCCATGTCGCG-1 | Multiome10x_05_AATTTGCCATGTCGCG-1 |  1922 | 207 | K562 | 7.561122 | 0.10770031 |\n",
       "| Multiome10x_05_ACACCTTGTCCTTCTC-1 | Multiome10x_05_ACACCTTGTCCTTCTC-1 |  2319 | 240 | K562 | 7.748891 | 0.10349288 |\n",
       "| Multiome10x_05_ACACCTTGTTTGTGGA-1 | Multiome10x_05_ACACCTTGTTTGTGGA-1 |  2115 | 249 | K562 | 7.656810 | 0.11773050 |\n",
       "| Multiome10x_05_ACACTAATCTCCATGC-1 | Multiome10x_05_ACACTAATCTCCATGC-1 |  2367 | 244 | K562 | 7.769379 | 0.10308407 |\n",
       "| ⋮ | ⋮ | ⋮ | ⋮ | ⋮ | ⋮ | ⋮ |\n",
       "| Multiome10x_06_TTAACTGAGTCGCAAT-1 | Multiome10x_06_TTAACTGAGTCGCAAT-1 |  2154 |  215 | K562 | 7.675082 | 0.09981430 |\n",
       "| Multiome10x_06_TTAGCAATCACAGCCA-1 | Multiome10x_06_TTAGCAATCACAGCCA-1 |  6818 | 1051 | K562 | 8.827321 | 0.15415078 |\n",
       "| Multiome10x_06_TTAGCAGGTGTCCTGC-1 | Multiome10x_06_TTAGCAGGTGTCCTGC-1 |  3790 |  625 | K562 | 8.240121 | 0.16490765 |\n",
       "| Multiome10x_06_TTAGGATGTTAATGAC-1 | Multiome10x_06_TTAGGATGTTAATGAC-1 |  2885 |  420 | K562 | 7.967280 | 0.14558059 |\n",
       "| Multiome10x_06_TTATAGCCATAGACCC-1 | Multiome10x_06_TTATAGCCATAGACCC-1 |  2165 |  277 | K562 | 7.680176 | 0.12794457 |\n",
       "| Multiome10x_06_TTCATCCCAAGATTCT-1 | Multiome10x_06_TTCATCCCAAGATTCT-1 |  3128 |  313 | K562 | 8.048149 | 0.10006394 |\n",
       "| Multiome10x_06_TTCATTCAGTCACCTC-1 | Multiome10x_06_TTCATTCAGTCACCTC-1 |  4707 |  566 | K562 | 8.456806 | 0.12024644 |\n",
       "| Multiome10x_06_TTCCACGGTGTTGCTT-1 | Multiome10x_06_TTCCACGGTGTTGCTT-1 |  3279 |  427 | K562 | 8.095294 | 0.13022263 |\n",
       "| Multiome10x_06_TTCCTCAAGCTCATAA-1 | Multiome10x_06_TTCCTCAAGCTCATAA-1 |  1815 |  122 | K562 | 7.503841 | 0.06721763 |\n",
       "| Multiome10x_06_TTGCAACAGCCTGTTC-1 | Multiome10x_06_TTGCAACAGCCTGTTC-1 |  2671 |  262 | K562 | 7.890208 | 0.09809060 |\n",
       "| Multiome10x_06_TTGCAACAGGCCCAGT-1 | Multiome10x_06_TTGCAACAGGCCCAGT-1 |  6293 |  564 | K562 | 8.747193 | 0.08962339 |\n",
       "| Multiome10x_06_TTGCTTAGTAGCTGGT-1 | Multiome10x_06_TTGCTTAGTAGCTGGT-1 |  4054 |  358 | K562 | 8.307459 | 0.08830784 |\n",
       "| Multiome10x_06_TTGGGCGGTGATCAGC-1 | Multiome10x_06_TTGGGCGGTGATCAGC-1 |  5294 |  685 | K562 | 8.574329 | 0.12939176 |\n",
       "| Multiome10x_06_TTGTAAGTCCTTGCGT-1 | Multiome10x_06_TTGTAAGTCCTTGCGT-1 |  2976 |  316 | K562 | 7.998335 | 0.10618280 |\n",
       "| Multiome10x_06_TTGTCCATCCACCCTG-1 | Multiome10x_06_TTGTCCATCCACCCTG-1 |  2500 |   61 | K562 | 7.824046 | 0.02440000 |\n",
       "| Multiome10x_06_TTGTGCCTCCCTGGAA-1 | Multiome10x_06_TTGTGCCTCCCTGGAA-1 |  3632 |  506 | K562 | 8.197539 | 0.13931718 |\n",
       "| Multiome10x_06_TTGTTCCCAGGTTATT-1 | Multiome10x_06_TTGTTCCCAGGTTATT-1 |  1635 |  200 | K562 | 7.399398 | 0.12232416 |\n",
       "| Multiome10x_06_TTGTTTGGTTTGGCTT-1 | Multiome10x_06_TTGTTTGGTTTGGCTT-1 |  1903 |  194 | K562 | 7.551187 | 0.10194430 |\n",
       "| Multiome10x_06_TTTAAGCCAGTGAACG-1 | Multiome10x_06_TTTAAGCCAGTGAACG-1 | 10350 | 1161 | K562 | 9.244742 | 0.11217391 |\n",
       "| Multiome10x_06_TTTAAGGTCACTCAAA-1 | Multiome10x_06_TTTAAGGTCACTCAAA-1 |  1774 |  171 | K562 | 7.480992 | 0.09639233 |\n",
       "| Multiome10x_06_TTTACGAAGAACAAGT-1 | Multiome10x_06_TTTACGAAGAACAAGT-1 |  2738 |  326 | K562 | 7.914983 | 0.11906501 |\n",
       "| Multiome10x_06_TTTACGAAGGAACACA-1 | Multiome10x_06_TTTACGAAGGAACACA-1 |  4415 |  625 | K562 | 8.392763 | 0.14156285 |\n",
       "| Multiome10x_06_TTTAGCAAGGCTTAAC-1 | Multiome10x_06_TTTAGCAAGGCTTAAC-1 |  2430 |  263 | K562 | 7.795647 | 0.10823045 |\n",
       "| Multiome10x_06_TTTCACCCAAACCCTA-1 | Multiome10x_06_TTTCACCCAAACCCTA-1 |  1551 |  195 | K562 | 7.346655 | 0.12572534 |\n",
       "| Multiome10x_06_TTTGCGACAAAGCTCC-1 | Multiome10x_06_TTTGCGACAAAGCTCC-1 |  2690 |  143 | K562 | 7.897296 | 0.05315985 |\n",
       "| Multiome10x_06_TTTGCGGAGTTCCCGT-1 | Multiome10x_06_TTTGCGGAGTTCCCGT-1 |  1704 |  207 | K562 | 7.440734 | 0.12147887 |\n",
       "| Multiome10x_06_TTTGGTGCATTAAGCT-1 | Multiome10x_06_TTTGGTGCATTAAGCT-1 |  2137 |   87 | K562 | 7.667158 | 0.04071128 |\n",
       "| Multiome10x_06_TTTGTCCCATACCCGG-1 | Multiome10x_06_TTTGTCCCATACCCGG-1 |  2795 |  225 | K562 | 7.935587 | 0.08050089 |\n",
       "| Multiome10x_06_TTTGTCTAGGCAGGTG-1 | Multiome10x_06_TTTGTCTAGGCAGGTG-1 |  2578 |  210 | K562 | 7.854769 | 0.08145849 |\n",
       "| Multiome10x_06_TTTGTCTAGGTAAGCA-1 | Multiome10x_06_TTTGTCTAGGTAAGCA-1 |  3266 |  279 | K562 | 8.091321 | 0.08542560 |\n",
       "\n"
      ],
      "text/plain": [
       "                                  cell                              nUMI  nMito\n",
       "Multiome10x_05_AAACGGATCTGTAATG-1 Multiome10x_05_AAACGGATCTGTAATG-1  2042 239  \n",
       "Multiome10x_05_AAAGCCCGTCCGTAGG-1 Multiome10x_05_AAAGCCCGTCCGTAGG-1  2174 290  \n",
       "Multiome10x_05_AAAGCGGGTTAGTACG-1 Multiome10x_05_AAAGCGGGTTAGTACG-1  2597 337  \n",
       "Multiome10x_05_AAAGGTTAGTTAACCA-1 Multiome10x_05_AAAGGTTAGTTAACCA-1  4185 403  \n",
       "Multiome10x_05_AACAAAGGTCAATAGT-1 Multiome10x_05_AACAAAGGTCAATAGT-1  1879 119  \n",
       "Multiome10x_05_AACATTGTCAGCACCA-1 Multiome10x_05_AACATTGTCAGCACCA-1  1200 289  \n",
       "Multiome10x_05_AACATTGTCCGCATGA-1 Multiome10x_05_AACATTGTCCGCATGA-1  4690 578  \n",
       "Multiome10x_05_AACCCGCAGTTATTCC-1 Multiome10x_05_AACCCGCAGTTATTCC-1  3137 332  \n",
       "Multiome10x_05_AACGCCCAGCAAACCT-1 Multiome10x_05_AACGCCCAGCAAACCT-1  6422 685  \n",
       "Multiome10x_05_AACTAGTGTAATCCCT-1 Multiome10x_05_AACTAGTGTAATCCCT-1  2465 262  \n",
       "Multiome10x_05_AAGACATAGAGAGGCT-1 Multiome10x_05_AAGACATAGAGAGGCT-1  2392 231  \n",
       "Multiome10x_05_AAGCCACGTTAGGATT-1 Multiome10x_05_AAGCCACGTTAGGATT-1  1337  97  \n",
       "Multiome10x_05_AAGCCTGTCCTAATAG-1 Multiome10x_05_AAGCCTGTCCTAATAG-1  3374 289  \n",
       "Multiome10x_05_AAGCTCCCAGGACCAA-1 Multiome10x_05_AAGCTCCCAGGACCAA-1  2677 303  \n",
       "Multiome10x_05_AAGGTATAGCGATACT-1 Multiome10x_05_AAGGTATAGCGATACT-1  3052 225  \n",
       "Multiome10x_05_AAGGTCAAGCATGTCG-1 Multiome10x_05_AAGGTCAAGCATGTCG-1  2359 301  \n",
       "Multiome10x_05_AAGTAGCCACCGGTAT-1 Multiome10x_05_AAGTAGCCACCGGTAT-1 11959 934  \n",
       "Multiome10x_05_AAGTAGCCAGTAAGTA-1 Multiome10x_05_AAGTAGCCAGTAAGTA-1  3226 481  \n",
       "Multiome10x_05_AAGTCTATCAGCTAAC-1 Multiome10x_05_AAGTCTATCAGCTAAC-1  5533 827  \n",
       "Multiome10x_05_AAGTTAGCAACGTGCT-1 Multiome10x_05_AAGTTAGCAACGTGCT-1  2500 274  \n",
       "Multiome10x_05_AATCATGTCTTAGCCC-1 Multiome10x_05_AATCATGTCTTAGCCC-1  3545 398  \n",
       "Multiome10x_05_AATCGCCCAGGCGAGT-1 Multiome10x_05_AATCGCCCAGGCGAGT-1  2593 343  \n",
       "Multiome10x_05_AATCTCAAGTAGAGGC-1 Multiome10x_05_AATCTCAAGTAGAGGC-1  2967 391  \n",
       "Multiome10x_05_AATGTCCAGAAGGTGC-1 Multiome10x_05_AATGTCCAGAAGGTGC-1  2160 214  \n",
       "Multiome10x_05_AATTAGCGTTTGAGCA-1 Multiome10x_05_AATTAGCGTTTGAGCA-1  2325 241  \n",
       "Multiome10x_05_AATTGCCAGTGAAGTG-1 Multiome10x_05_AATTGCCAGTGAAGTG-1  2577 214  \n",
       "Multiome10x_05_AATTTGCCATGTCGCG-1 Multiome10x_05_AATTTGCCATGTCGCG-1  1922 207  \n",
       "Multiome10x_05_ACACCTTGTCCTTCTC-1 Multiome10x_05_ACACCTTGTCCTTCTC-1  2319 240  \n",
       "Multiome10x_05_ACACCTTGTTTGTGGA-1 Multiome10x_05_ACACCTTGTTTGTGGA-1  2115 249  \n",
       "Multiome10x_05_ACACTAATCTCCATGC-1 Multiome10x_05_ACACTAATCTCCATGC-1  2367 244  \n",
       "⋮                                 ⋮                                 ⋮     ⋮    \n",
       "Multiome10x_06_TTAACTGAGTCGCAAT-1 Multiome10x_06_TTAACTGAGTCGCAAT-1  2154  215 \n",
       "Multiome10x_06_TTAGCAATCACAGCCA-1 Multiome10x_06_TTAGCAATCACAGCCA-1  6818 1051 \n",
       "Multiome10x_06_TTAGCAGGTGTCCTGC-1 Multiome10x_06_TTAGCAGGTGTCCTGC-1  3790  625 \n",
       "Multiome10x_06_TTAGGATGTTAATGAC-1 Multiome10x_06_TTAGGATGTTAATGAC-1  2885  420 \n",
       "Multiome10x_06_TTATAGCCATAGACCC-1 Multiome10x_06_TTATAGCCATAGACCC-1  2165  277 \n",
       "Multiome10x_06_TTCATCCCAAGATTCT-1 Multiome10x_06_TTCATCCCAAGATTCT-1  3128  313 \n",
       "Multiome10x_06_TTCATTCAGTCACCTC-1 Multiome10x_06_TTCATTCAGTCACCTC-1  4707  566 \n",
       "Multiome10x_06_TTCCACGGTGTTGCTT-1 Multiome10x_06_TTCCACGGTGTTGCTT-1  3279  427 \n",
       "Multiome10x_06_TTCCTCAAGCTCATAA-1 Multiome10x_06_TTCCTCAAGCTCATAA-1  1815  122 \n",
       "Multiome10x_06_TTGCAACAGCCTGTTC-1 Multiome10x_06_TTGCAACAGCCTGTTC-1  2671  262 \n",
       "Multiome10x_06_TTGCAACAGGCCCAGT-1 Multiome10x_06_TTGCAACAGGCCCAGT-1  6293  564 \n",
       "Multiome10x_06_TTGCTTAGTAGCTGGT-1 Multiome10x_06_TTGCTTAGTAGCTGGT-1  4054  358 \n",
       "Multiome10x_06_TTGGGCGGTGATCAGC-1 Multiome10x_06_TTGGGCGGTGATCAGC-1  5294  685 \n",
       "Multiome10x_06_TTGTAAGTCCTTGCGT-1 Multiome10x_06_TTGTAAGTCCTTGCGT-1  2976  316 \n",
       "Multiome10x_06_TTGTCCATCCACCCTG-1 Multiome10x_06_TTGTCCATCCACCCTG-1  2500   61 \n",
       "Multiome10x_06_TTGTGCCTCCCTGGAA-1 Multiome10x_06_TTGTGCCTCCCTGGAA-1  3632  506 \n",
       "Multiome10x_06_TTGTTCCCAGGTTATT-1 Multiome10x_06_TTGTTCCCAGGTTATT-1  1635  200 \n",
       "Multiome10x_06_TTGTTTGGTTTGGCTT-1 Multiome10x_06_TTGTTTGGTTTGGCTT-1  1903  194 \n",
       "Multiome10x_06_TTTAAGCCAGTGAACG-1 Multiome10x_06_TTTAAGCCAGTGAACG-1 10350 1161 \n",
       "Multiome10x_06_TTTAAGGTCACTCAAA-1 Multiome10x_06_TTTAAGGTCACTCAAA-1  1774  171 \n",
       "Multiome10x_06_TTTACGAAGAACAAGT-1 Multiome10x_06_TTTACGAAGAACAAGT-1  2738  326 \n",
       "Multiome10x_06_TTTACGAAGGAACACA-1 Multiome10x_06_TTTACGAAGGAACACA-1  4415  625 \n",
       "Multiome10x_06_TTTAGCAAGGCTTAAC-1 Multiome10x_06_TTTAGCAAGGCTTAAC-1  2430  263 \n",
       "Multiome10x_06_TTTCACCCAAACCCTA-1 Multiome10x_06_TTTCACCCAAACCCTA-1  1551  195 \n",
       "Multiome10x_06_TTTGCGACAAAGCTCC-1 Multiome10x_06_TTTGCGACAAAGCTCC-1  2690  143 \n",
       "Multiome10x_06_TTTGCGGAGTTCCCGT-1 Multiome10x_06_TTTGCGGAGTTCCCGT-1  1704  207 \n",
       "Multiome10x_06_TTTGGTGCATTAAGCT-1 Multiome10x_06_TTTGGTGCATTAAGCT-1  2137   87 \n",
       "Multiome10x_06_TTTGTCCCATACCCGG-1 Multiome10x_06_TTTGTCCCATACCCGG-1  2795  225 \n",
       "Multiome10x_06_TTTGTCTAGGCAGGTG-1 Multiome10x_06_TTTGTCTAGGCAGGTG-1  2578  210 \n",
       "Multiome10x_06_TTTGTCTAGGTAAGCA-1 Multiome10x_06_TTTGTCTAGGTAAGCA-1  3266  279 \n",
       "                                  celltype log.nUMI percent.mito\n",
       "Multiome10x_05_AAACGGATCTGTAATG-1 K562     7.621685 0.11704212  \n",
       "Multiome10x_05_AAAGCCCGTCCGTAGG-1 K562     7.684324 0.13339466  \n",
       "Multiome10x_05_AAAGCGGGTTAGTACG-1 K562     7.862112 0.12976511  \n",
       "Multiome10x_05_AAAGGTTAGTTAACCA-1 K562     8.339262 0.09629630  \n",
       "Multiome10x_05_AACAAAGGTCAATAGT-1 K562     7.538495 0.06333156  \n",
       "Multiome10x_05_AACATTGTCAGCACCA-1 K562     7.090077 0.24083333  \n",
       "Multiome10x_05_AACATTGTCCGCATGA-1 K562     8.453188 0.12324094  \n",
       "Multiome10x_05_AACCCGCAGTTATTCC-1 K562     8.051022 0.10583360  \n",
       "Multiome10x_05_AACGCCCAGCAAACCT-1 K562     8.767485 0.10666459  \n",
       "Multiome10x_05_AACTAGTGTAATCCCT-1 K562     7.809947 0.10628803  \n",
       "Multiome10x_05_AAGACATAGAGAGGCT-1 K562     7.779885 0.09657191  \n",
       "Multiome10x_05_AAGCCACGTTAGGATT-1 K562     7.198184 0.07255049  \n",
       "Multiome10x_05_AAGCCTGTCCTAATAG-1 K562     8.123854 0.08565501  \n",
       "Multiome10x_05_AAGCTCCCAGGACCAA-1 K562     7.892452 0.11318640  \n",
       "Multiome10x_05_AAGGTATAGCGATACT-1 K562     8.023552 0.07372215  \n",
       "Multiome10x_05_AAGGTCAAGCATGTCG-1 K562     7.765993 0.12759644  \n",
       "Multiome10x_05_AAGTAGCCACCGGTAT-1 K562     9.389239 0.07810018  \n",
       "Multiome10x_05_AAGTAGCCAGTAAGTA-1 K562     8.078998 0.14910105  \n",
       "Multiome10x_05_AAGTCTATCAGCTAAC-1 K562     8.618485 0.14946684  \n",
       "Multiome10x_05_AAGTTAGCAACGTGCT-1 K562     7.824046 0.10960000  \n",
       "Multiome10x_05_AATCATGTCTTAGCCC-1 K562     8.173293 0.11227080  \n",
       "Multiome10x_05_AATCGCCCAGGCGAGT-1 K562     7.860571 0.13227921  \n",
       "Multiome10x_05_AATCTCAAGTAGAGGC-1 K562     7.995307 0.13178295  \n",
       "Multiome10x_05_AATGTCCAGAAGGTGC-1 K562     7.677864 0.09907407  \n",
       "Multiome10x_05_AATTAGCGTTTGAGCA-1 K562     7.751475 0.10365591  \n",
       "Multiome10x_05_AATTGCCAGTGAAGTG-1 K562     7.854381 0.08304230  \n",
       "Multiome10x_05_AATTTGCCATGTCGCG-1 K562     7.561122 0.10770031  \n",
       "Multiome10x_05_ACACCTTGTCCTTCTC-1 K562     7.748891 0.10349288  \n",
       "Multiome10x_05_ACACCTTGTTTGTGGA-1 K562     7.656810 0.11773050  \n",
       "Multiome10x_05_ACACTAATCTCCATGC-1 K562     7.769379 0.10308407  \n",
       "⋮                                 ⋮        ⋮        ⋮           \n",
       "Multiome10x_06_TTAACTGAGTCGCAAT-1 K562     7.675082 0.09981430  \n",
       "Multiome10x_06_TTAGCAATCACAGCCA-1 K562     8.827321 0.15415078  \n",
       "Multiome10x_06_TTAGCAGGTGTCCTGC-1 K562     8.240121 0.16490765  \n",
       "Multiome10x_06_TTAGGATGTTAATGAC-1 K562     7.967280 0.14558059  \n",
       "Multiome10x_06_TTATAGCCATAGACCC-1 K562     7.680176 0.12794457  \n",
       "Multiome10x_06_TTCATCCCAAGATTCT-1 K562     8.048149 0.10006394  \n",
       "Multiome10x_06_TTCATTCAGTCACCTC-1 K562     8.456806 0.12024644  \n",
       "Multiome10x_06_TTCCACGGTGTTGCTT-1 K562     8.095294 0.13022263  \n",
       "Multiome10x_06_TTCCTCAAGCTCATAA-1 K562     7.503841 0.06721763  \n",
       "Multiome10x_06_TTGCAACAGCCTGTTC-1 K562     7.890208 0.09809060  \n",
       "Multiome10x_06_TTGCAACAGGCCCAGT-1 K562     8.747193 0.08962339  \n",
       "Multiome10x_06_TTGCTTAGTAGCTGGT-1 K562     8.307459 0.08830784  \n",
       "Multiome10x_06_TTGGGCGGTGATCAGC-1 K562     8.574329 0.12939176  \n",
       "Multiome10x_06_TTGTAAGTCCTTGCGT-1 K562     7.998335 0.10618280  \n",
       "Multiome10x_06_TTGTCCATCCACCCTG-1 K562     7.824046 0.02440000  \n",
       "Multiome10x_06_TTGTGCCTCCCTGGAA-1 K562     8.197539 0.13931718  \n",
       "Multiome10x_06_TTGTTCCCAGGTTATT-1 K562     7.399398 0.12232416  \n",
       "Multiome10x_06_TTGTTTGGTTTGGCTT-1 K562     7.551187 0.10194430  \n",
       "Multiome10x_06_TTTAAGCCAGTGAACG-1 K562     9.244742 0.11217391  \n",
       "Multiome10x_06_TTTAAGGTCACTCAAA-1 K562     7.480992 0.09639233  \n",
       "Multiome10x_06_TTTACGAAGAACAAGT-1 K562     7.914983 0.11906501  \n",
       "Multiome10x_06_TTTACGAAGGAACACA-1 K562     8.392763 0.14156285  \n",
       "Multiome10x_06_TTTAGCAAGGCTTAAC-1 K562     7.795647 0.10823045  \n",
       "Multiome10x_06_TTTCACCCAAACCCTA-1 K562     7.346655 0.12572534  \n",
       "Multiome10x_06_TTTGCGACAAAGCTCC-1 K562     7.897296 0.05315985  \n",
       "Multiome10x_06_TTTGCGGAGTTCCCGT-1 K562     7.440734 0.12147887  \n",
       "Multiome10x_06_TTTGGTGCATTAAGCT-1 K562     7.667158 0.04071128  \n",
       "Multiome10x_06_TTTGTCCCATACCCGG-1 K562     7.935587 0.08050089  \n",
       "Multiome10x_06_TTTGTCTAGGCAGGTG-1 K562     7.854769 0.08145849  \n",
       "Multiome10x_06_TTTGTCTAGGTAAGCA-1 K562     8.091321 0.08542560  "
      ]
     },
     "metadata": {},
     "output_type": "display_data"
    }
   ],
   "source": [
    "meta.data = data.frame(cell = colnames(matrix.rna),\n",
    "                       nUMI = colSums(matrix.rna),\n",
    "                       nMito = colSums(matrix.rna[grep(\"MT-\",rownames(matrix.rna)),]),\n",
    "                       celltype = \"K562\")\n",
    "meta.data[,\"log.nUMI\"] = log(meta.data[,\"nUMI\"])\n",
    "meta.data[,\"percent.mito\"] = meta.data[,\"nMito\"] / meta.data[,\"nUMI\"]\n",
    "meta.data"
   ]
  },
  {
   "cell_type": "markdown",
   "id": "b823cb4a-3ce6-40b1-9a0d-d5d1e4aa3912",
   "metadata": {},
   "source": [
    "RUN SCENT prediction"
   ]
  },
  {
   "cell_type": "code",
   "execution_count": 12,
   "id": "f46765dc-9de5-4411-9288-40b59435f9fb",
   "metadata": {},
   "outputs": [],
   "source": [
    "SCENT_algorithm.modified = function (object, \n",
    "                                     # celltype, \n",
    "                                     # ncores, \n",
    "                                     # regr = \"poisson\", \n",
    "                                     # bin = TRUE) \n",
    "                                     regr = \"poisson\") {\n",
    "    res <- data.frame()\n",
    "    for (n in 1:nrow(object@peak.info)) {        \n",
    "        gene <- object@peak.info[n, 1]\n",
    "        this_peak <- object@peak.info[n, 2]\n",
    "        atac_target <- data.frame(cell = colnames(object@atac), \n",
    "            atac = object@atac[this_peak, ])\n",
    "        # if (bin) {\n",
    "        #     atac_target[atac_target$atac > 0, ]$atac <- 1\n",
    "        # }\n",
    "        mrna_target <- object@rna[gene, ]\n",
    "        df <- data.frame(cell = names(mrna_target), exprs = as.numeric(mrna_target))\n",
    "        df <- merge(df, atac_target, by = \"cell\")\n",
    "        df <- merge(df, object@meta.data, by = \"cell\")\n",
    "        # df2 <- df[df[[object@celltypes]] == celltype, ]\n",
    "        df2 <- df\n",
    "        nonzero_m <- length(df2$exprs[df2$exprs > 0])/length(df2$exprs)\n",
    "        nonzero_a <- length(df2$atac[df2$atac > 0])/length(df2$atac)\n",
    "        if (nonzero_m > 0.05 & nonzero_a > 0.05) {\n",
    "            res_var <- \"exprs\"\n",
    "            pred_var <- c(\"atac\", object@covariates)\n",
    "            formula <- as.formula(paste(res_var, paste(pred_var, \n",
    "                collapse = \"+\"), sep = \"~\"))\n",
    "            if (regr == \"poisson\") {\n",
    "                base = glm(formula, family = \"poisson\", data = df2)\n",
    "                coefs <- summary(base)$coefficients[\"atac\", ]\n",
    "                # assoc <- assoc_poisson\n",
    "                assoc <- SCENT::assoc_poisson\n",
    "            }\n",
    "            else if (regr == \"negbin\") {\n",
    "                base = glm.nb(formula, data = df2)\n",
    "                coefs <- summary(base)$coefficients[\"atac\", ]\n",
    "                # assoc <- assoc_negbin\n",
    "                assoc <- SCENT::assoc_negbin\n",
    "            }\n",
    "            bs = boot::boot(df2, assoc, R = 100, formula = formula, \n",
    "                stype = \"i\", parallel = \"no\", ncpus = 1)\n",
    "            # p0 = basic_p(bs$t0[1], bs$t[, 1])\n",
    "            p0 = SCENT::basic_p(bs$t0[1], bs$t[, 1])\n",
    "            # if (p0 < 0.1) {\n",
    "            #     bs = boot::boot(df2, assoc, R = 500, formula = formula, \n",
    "            #       stype = \"i\", \n",
    "            #       # parallel = \"multicore\", ncpus = ncores)\n",
    "            #       parallel = \"no\", ncpus = 1)\n",
    "            #     # p0 = basic_p(bs$t0[1], bs$t[, 1])\n",
    "            #     p0 = SCENT::basic_p(bs$t0[1], bs$t[, 1])\n",
    "            # }\n",
    "            # if (p0 < 0.05) {\n",
    "            #     bs = boot::boot(df2, assoc, R = 2500, formula = formula, \n",
    "            #       stype = \"i\", \n",
    "            #       # parallel = \"multicore\", ncpus = ncores)\n",
    "            #       parallel = \"no\", ncpus = 1)\n",
    "            #     # p0 = basic_p(bs$t0[1], bs$t[, 1])\n",
    "            #     p0 = SCENT::basic_p(bs$t0[1], bs$t[, 1])\n",
    "            # }\n",
    "            # if (p0 < 0.01) {\n",
    "            #     bs = boot::boot(df2, assoc, R = 25000, formula = formula, \n",
    "            #       stype = \"i\", \n",
    "            #       # parallel = \"multicore\", ncpus = ncores)\n",
    "            #       parallel = \"no\", ncpus = 1)\n",
    "            #     # p0 = basic_p(bs$t0[1], bs$t[, 1])\n",
    "            #     p0 = SCENT::basic_p(bs$t0[1], bs$t[, 1])\n",
    "            # }\n",
    "            # if (p0 < 0.001) {\n",
    "            #     bs = boot::boot(df2, assoc, R = 50000, formula = formula, \n",
    "            #       stype = \"i\", \n",
    "            #       # parallel = \"multicore\", ncpus = ncores)\n",
    "            #       parallel = \"no\", ncpus = 1)\n",
    "            #     # p0 = basic_p(bs$t0[1], bs$t[, 1])\n",
    "            #     p0 = SCENT::basic_p(bs$t0[1], bs$t[, 1])\n",
    "            # }\n",
    "            out <- data.frame(gene = gene, peak = this_peak, \n",
    "                beta = coefs[1], se = coefs[2], z = coefs[3], \n",
    "                p = coefs[4], boot_basic_p = p0)           \n",
    "            res <- rbind(res, out)\n",
    "        }\n",
    "    }\n",
    "    object@SCENT.result <- res\n",
    "    return(object)\n",
    "}"
   ]
  },
  {
   "cell_type": "code",
   "execution_count": 13,
   "id": "563771b9-b96a-44d5-a5fe-fa30a7b9851b",
   "metadata": {},
   "outputs": [],
   "source": [
    "dir.create(paste(dir.output,\"chr\",sep = \"/\"),recursive = T)"
   ]
  },
  {
   "cell_type": "code",
   "execution_count": 14,
   "id": "0d2266ce-b92d-40d2-9b78-f39bd33a5079",
   "metadata": {},
   "outputs": [],
   "source": [
    "chr.done = dir(paste(dir.output,\"chr\",sep = \"/\"))\n",
    "chr.run = as.character(unique(seqnames(pairs.E2G.filter2)))\n",
    "chr.run = chr.run[!chr.run %in% chr.done]"
   ]
  },
  {
   "cell_type": "code",
   "execution_count": 15,
   "id": "2d41238d-e833-4e0e-add5-bb56bb615c1a",
   "metadata": {},
   "outputs": [
    {
     "name": "stdout",
     "output_type": "stream",
     "text": [
      "[1] \"chr1\"\n"
     ]
    },
    {
     "name": "stderr",
     "output_type": "stream",
     "text": [
      "Warning message in split.default(x = seq_len(nrow(x)), f = f, drop = drop, ...):\n",
      "“data length is not a multiple of split variable”\n"
     ]
    },
    {
     "name": "stdout",
     "output_type": "stream",
     "text": [
      "[1] \"chr10\"\n"
     ]
    },
    {
     "name": "stderr",
     "output_type": "stream",
     "text": [
      "Warning message in split.default(x = seq_len(nrow(x)), f = f, drop = drop, ...):\n",
      "“data length is not a multiple of split variable”\n"
     ]
    },
    {
     "name": "stdout",
     "output_type": "stream",
     "text": [
      "[1] \"chr11\"\n"
     ]
    },
    {
     "name": "stderr",
     "output_type": "stream",
     "text": [
      "Warning message in split.default(x = seq_len(nrow(x)), f = f, drop = drop, ...):\n",
      "“data length is not a multiple of split variable”\n"
     ]
    },
    {
     "name": "stdout",
     "output_type": "stream",
     "text": [
      "[1] \"chr12\"\n"
     ]
    },
    {
     "name": "stderr",
     "output_type": "stream",
     "text": [
      "Warning message in split.default(x = seq_len(nrow(x)), f = f, drop = drop, ...):\n",
      "“data length is not a multiple of split variable”\n"
     ]
    },
    {
     "name": "stdout",
     "output_type": "stream",
     "text": [
      "[1] \"chr13\"\n"
     ]
    },
    {
     "name": "stderr",
     "output_type": "stream",
     "text": [
      "Warning message in split.default(x = seq_len(nrow(x)), f = f, drop = drop, ...):\n",
      "“data length is not a multiple of split variable”\n"
     ]
    },
    {
     "name": "stdout",
     "output_type": "stream",
     "text": [
      "[1] \"chr14\"\n"
     ]
    },
    {
     "name": "stderr",
     "output_type": "stream",
     "text": [
      "Warning message in split.default(x = seq_len(nrow(x)), f = f, drop = drop, ...):\n",
      "“data length is not a multiple of split variable”\n"
     ]
    },
    {
     "name": "stdout",
     "output_type": "stream",
     "text": [
      "[1] \"chr15\"\n"
     ]
    },
    {
     "name": "stderr",
     "output_type": "stream",
     "text": [
      "Warning message in split.default(x = seq_len(nrow(x)), f = f, drop = drop, ...):\n",
      "“data length is not a multiple of split variable”\n"
     ]
    },
    {
     "name": "stdout",
     "output_type": "stream",
     "text": [
      "[1] \"chr16\"\n"
     ]
    },
    {
     "name": "stderr",
     "output_type": "stream",
     "text": [
      "Warning message in split.default(x = seq_len(nrow(x)), f = f, drop = drop, ...):\n",
      "“data length is not a multiple of split variable”\n"
     ]
    },
    {
     "name": "stdout",
     "output_type": "stream",
     "text": [
      "[1] \"chr17\"\n",
      "[1] \"chr18\"\n"
     ]
    },
    {
     "name": "stderr",
     "output_type": "stream",
     "text": [
      "Warning message in split.default(x = seq_len(nrow(x)), f = f, drop = drop, ...):\n",
      "“data length is not a multiple of split variable”\n"
     ]
    },
    {
     "name": "stdout",
     "output_type": "stream",
     "text": [
      "[1] \"chr19\"\n"
     ]
    },
    {
     "name": "stderr",
     "output_type": "stream",
     "text": [
      "Warning message in split.default(x = seq_len(nrow(x)), f = f, drop = drop, ...):\n",
      "“data length is not a multiple of split variable”\n"
     ]
    },
    {
     "name": "stdout",
     "output_type": "stream",
     "text": [
      "[1] \"chr2\"\n"
     ]
    },
    {
     "name": "stderr",
     "output_type": "stream",
     "text": [
      "Warning message in split.default(x = seq_len(nrow(x)), f = f, drop = drop, ...):\n",
      "“data length is not a multiple of split variable”\n"
     ]
    },
    {
     "name": "stdout",
     "output_type": "stream",
     "text": [
      "[1] \"chr20\"\n"
     ]
    },
    {
     "name": "stderr",
     "output_type": "stream",
     "text": [
      "Warning message in split.default(x = seq_len(nrow(x)), f = f, drop = drop, ...):\n",
      "“data length is not a multiple of split variable”\n"
     ]
    },
    {
     "name": "stdout",
     "output_type": "stream",
     "text": [
      "[1] \"chr21\"\n"
     ]
    },
    {
     "name": "stderr",
     "output_type": "stream",
     "text": [
      "Warning message in split.default(x = seq_len(nrow(x)), f = f, drop = drop, ...):\n",
      "“data length is not a multiple of split variable”\n"
     ]
    },
    {
     "name": "stdout",
     "output_type": "stream",
     "text": [
      "[1] \"chr22\"\n"
     ]
    },
    {
     "name": "stderr",
     "output_type": "stream",
     "text": [
      "Warning message in split.default(x = seq_len(nrow(x)), f = f, drop = drop, ...):\n",
      "“data length is not a multiple of split variable”\n"
     ]
    },
    {
     "name": "stdout",
     "output_type": "stream",
     "text": [
      "[1] \"chr3\"\n"
     ]
    },
    {
     "name": "stderr",
     "output_type": "stream",
     "text": [
      "Warning message in split.default(x = seq_len(nrow(x)), f = f, drop = drop, ...):\n",
      "“data length is not a multiple of split variable”\n"
     ]
    },
    {
     "name": "stdout",
     "output_type": "stream",
     "text": [
      "[1] \"chr4\"\n"
     ]
    },
    {
     "name": "stderr",
     "output_type": "stream",
     "text": [
      "Warning message in split.default(x = seq_len(nrow(x)), f = f, drop = drop, ...):\n",
      "“data length is not a multiple of split variable”\n"
     ]
    },
    {
     "name": "stdout",
     "output_type": "stream",
     "text": [
      "[1] \"chr5\"\n"
     ]
    },
    {
     "name": "stderr",
     "output_type": "stream",
     "text": [
      "Warning message in split.default(x = seq_len(nrow(x)), f = f, drop = drop, ...):\n",
      "“data length is not a multiple of split variable”\n"
     ]
    },
    {
     "name": "stdout",
     "output_type": "stream",
     "text": [
      "[1] \"chr6\"\n"
     ]
    },
    {
     "name": "stderr",
     "output_type": "stream",
     "text": [
      "Warning message in split.default(x = seq_len(nrow(x)), f = f, drop = drop, ...):\n",
      "“data length is not a multiple of split variable”\n"
     ]
    },
    {
     "name": "stdout",
     "output_type": "stream",
     "text": [
      "[1] \"chr7\"\n"
     ]
    },
    {
     "name": "stderr",
     "output_type": "stream",
     "text": [
      "Warning message in split.default(x = seq_len(nrow(x)), f = f, drop = drop, ...):\n",
      "“data length is not a multiple of split variable”\n"
     ]
    },
    {
     "name": "stdout",
     "output_type": "stream",
     "text": [
      "[1] \"chr8\"\n"
     ]
    },
    {
     "name": "stderr",
     "output_type": "stream",
     "text": [
      "Warning message in split.default(x = seq_len(nrow(x)), f = f, drop = drop, ...):\n",
      "“data length is not a multiple of split variable”\n"
     ]
    },
    {
     "name": "stdout",
     "output_type": "stream",
     "text": [
      "[1] \"chr9\"\n"
     ]
    },
    {
     "name": "stderr",
     "output_type": "stream",
     "text": [
      "Warning message in split.default(x = seq_len(nrow(x)), f = f, drop = drop, ...):\n",
      "“data length is not a multiple of split variable”\n"
     ]
    },
    {
     "name": "stdout",
     "output_type": "stream",
     "text": [
      "[1] \"chrX\"\n"
     ]
    },
    {
     "name": "stderr",
     "output_type": "stream",
     "text": [
      "Warning message in split.default(x = seq_len(nrow(x)), f = f, drop = drop, ...):\n",
      "“data length is not a multiple of split variable”\n"
     ]
    }
   ],
   "source": [
    "for(chr.tmp in chr.run){\n",
    "  print(chr.tmp)\n",
    "  pairs.E2G.chr.res = pairs.E2G.filter2[seqnames(pairs.E2G.filter2) == chr.tmp]\n",
    "  gene_peak.chr = as.data.frame(mcols(pairs.E2G.chr.res)[,c(\"TargetGene\",\"PeakName\")])\n",
    "  list.gene_peak.chr <- split(gene_peak.chr, seq_len(n.cores))\n",
    "  \n",
    "  list.obj.SCENT.chr <- lapply(list.gene_peak.chr, function(gene_peak.tmp) {\n",
    "    obj.SCENT.tmp <- CreateSCENTObj(\n",
    "      rna = matrix.rna[rownames(matrix.rna) %in% gene_peak.tmp$TargetGene,],\n",
    "      atac = matrix.atac[rownames(matrix.atac) %in% gene_peak.tmp$PeakName,], \n",
    "      meta.data = meta.data,\n",
    "      peak.info = gene_peak.tmp,\n",
    "      covariates = c(\"log.nUMI\",\"percent.mito\"), \n",
    "      celltypes = \"celltype\"\n",
    "    )\n",
    "  })\n",
    "  \n",
    "  cl <- makeCluster(n.cores)\n",
    "  clusterExport(cl, varlist=c(\"SCENT_algorithm.modified\"))\n",
    "  list.SCENT.result.chr <- parLapply(cl, list.obj.SCENT.chr, function(obj.SCENT.tmp) {\n",
    "    obj.SCENT.tmp <- SCENT_algorithm.modified(object = obj.SCENT.tmp)\n",
    "    return(obj.SCENT.tmp@SCENT.result)\n",
    "  })\n",
    "  stopCluster(cl)\n",
    "  \n",
    "  \n",
    "  df.SCENT.result.chr = do.call(rbind,list.SCENT.result.chr)\n",
    "  rownames(df.SCENT.result.chr) = paste(df.SCENT.result.chr$peak,\n",
    "                                        df.SCENT.result.chr$gene,\n",
    "                                        sep = \"_\")\n",
    "\n",
    "  pairs.E2G.chr.res = pairs.E2G.chr.res[pairs.E2G.chr.res$PairName %in% rownames(df.SCENT.result.chr)]\n",
    "  mcols(pairs.E2G.chr.res)[,c(\"beta\",\"se\",\"z\",\"p\",\"boot_basic_p\")] = \n",
    "    df.SCENT.result.chr[pairs.E2G.chr.res$PairName,c(\"beta\",\"se\",\"z\",\"p\",\"boot_basic_p\")]\n",
    "  pairs.E2G.chr.res$boot_basic_p.log10 = -log10(pairs.E2G.chr.res$boot_basic_p)\n",
    "  pairs.E2G.chr.res$sign = 1\n",
    "  pairs.E2G.chr.res$sign[pairs.E2G.chr.res$beta < 0] = -1\n",
    "  pairs.E2G.chr.res$boot_basic_p.log10.signed = pairs.E2G.chr.res$boot_basic_p.log10 * pairs.E2G.chr.res$sign\n",
    "  saveRDS(pairs.E2G.chr.res,\n",
    "          paste(dir.output,\"chr\",chr.tmp,sep = \"/\"))\n",
    "  rm (pairs.E2G.chr.res)\n",
    "}"
   ]
  },
  {
   "cell_type": "markdown",
   "id": "da9d1451-54e0-49e0-ae8b-cd0158115820",
   "metadata": {},
   "source": [
    "Merge results"
   ]
  },
  {
   "cell_type": "code",
   "execution_count": 16,
   "id": "6b4278f1-7d9d-402f-95c6-f274a6befea3",
   "metadata": {},
   "outputs": [],
   "source": [
    "chr.merge = as.character(unique(seqnames(pairs.E2G.filter2)))\n",
    "list.res = list()\n",
    "for(chr.tmp in chr.merge){\n",
    "    list.res[[chr.tmp]] = readRDS(paste(dir.output,\"chr\",chr.tmp,sep = \"/\"))\n",
    "}\n",
    "pairs.E2G.res = unlist(as(list.res, \"GRangesList\"))"
   ]
  },
  {
   "cell_type": "markdown",
   "id": "6ef1617e-3e2f-44f1-9245-007d569ca84d",
   "metadata": {},
   "source": [
    "Save results"
   ]
  },
  {
   "cell_type": "code",
   "execution_count": 17,
   "id": "48824f05-aedd-476c-88d6-ae58d1833fc9",
   "metadata": {},
   "outputs": [
    {
     "data": {
      "text/plain": [
       "GRanges object with 337146 ranges and 11 metadata columns:\n",
       "       seqnames              ranges strand |  TargetGene               PeakName\n",
       "          <Rle>           <IRanges>  <Rle> | <character>            <character>\n",
       "  chr1     chr1 100037542-100039177      * |         AGL chr1-100037542-10003..\n",
       "  chr1     chr1 100037542-100039177      * |      CDC14A chr1-100037542-10003..\n",
       "  chr1     chr1 100037542-100039177      * |        DPH5 chr1-100037542-10003..\n",
       "  chr1     chr1 100037542-100039177      * |        RTCA chr1-100037542-10003..\n",
       "  chr1     chr1 100037542-100039177      * |     SLC30A7 chr1-100037542-10003..\n",
       "   ...      ...                 ...    ... .         ...                    ...\n",
       "  chrX     chrX       989869-990606      * |       P2RY8     chrX-989869-990606\n",
       "  chrX     chrX       989869-990606      * |      PLCXD1     chrX-989869-990606\n",
       "  chrX     chrX       989869-990606      * |     SLC25A6     chrX-989869-990606\n",
       "  chrX     chrX     9995644-9996243      * |       TBL1X   chrX-9995644-9996243\n",
       "  chrX     chrX     9995644-9996243      * |        WWC3   chrX-9995644-9996243\n",
       "                     PairName       beta        se         z         p\n",
       "                  <character>  <numeric> <numeric> <numeric> <numeric>\n",
       "  chr1 chr1-100037542-10003.. -0.0776446  0.233213 -0.332934  0.739184\n",
       "  chr1 chr1-100037542-10003.. -0.0529964  0.132983 -0.398521  0.690246\n",
       "  chr1 chr1-100037542-10003..  0.0156491  0.291277  0.053726  0.957154\n",
       "  chr1 chr1-100037542-10003..  0.1770080  0.257521  0.687352  0.491861\n",
       "  chr1 chr1-100037542-10003..  0.1826365  0.201795  0.905060  0.365434\n",
       "   ...                    ...        ...       ...       ...       ...\n",
       "  chrX chrX-989869-990606_P..  0.0467568 0.1042238  0.448620  0.653706\n",
       "  chrX chrX-989869-990606_P..  0.5089500 0.3214156  1.583464  0.113316\n",
       "  chrX chrX-989869-990606_S.. -0.0195576 0.0967126 -0.202223  0.839742\n",
       "  chrX chrX-9995644-9996243..  0.0727757 0.2086927  0.348722  0.727298\n",
       "  chrX chrX-9995644-9996243..  0.1400797 0.3696494  0.378953  0.704723\n",
       "       boot_basic_p boot_basic_p.log10      sign boot_basic_p.log10.signed\n",
       "          <numeric>          <numeric> <numeric>                 <numeric>\n",
       "  chr1         0.68         0.16749109        -1               -0.16749109\n",
       "  chr1         0.76         0.11918641        -1               -0.11918641\n",
       "  chr1         0.98         0.00877392         1                0.00877392\n",
       "  chr1         0.50         0.30103000         1                0.30103000\n",
       "  chr1         0.46         0.33724217         1                0.33724217\n",
       "   ...          ...                ...       ...                       ...\n",
       "  chrX         0.50          0.3010300         1                 0.3010300\n",
       "  chrX         0.10          1.0000000         1                 1.0000000\n",
       "  chrX         0.86          0.0655015        -1                -0.0655015\n",
       "  chrX         0.96          0.0177288         1                 0.0177288\n",
       "  chrX         0.50          0.3010300         1                 0.3010300\n",
       "  -------\n",
       "  seqinfo: 23 sequences from an unspecified genome; no seqlengths"
      ]
     },
     "metadata": {},
     "output_type": "display_data"
    }
   ],
   "source": [
    "saveRDS(pairs.E2G.res,\n",
    "        paste(dir.output,\"pairs.E2G.res.rds\",sep = \"/\"))\n",
    "pairs.E2G.res"
   ]
  },
  {
   "cell_type": "code",
   "execution_count": 18,
   "id": "2297128a-9ed6-42b8-90c7-459969fb5afd",
   "metadata": {},
   "outputs": [
    {
     "data": {
      "text/html": [
       "<table class=\"dataframe\">\n",
       "<caption>A data.frame: 337146 × 13</caption>\n",
       "<thead>\n",
       "\t<tr><th scope=col>chr</th><th scope=col>start</th><th scope=col>end</th><th scope=col>TargetGene</th><th scope=col>CellType</th><th scope=col>beta</th><th scope=col>se</th><th scope=col>z</th><th scope=col>p</th><th scope=col>boot_basic_p</th><th scope=col>boot_basic_p.log10</th><th scope=col>sign</th><th scope=col>boot_basic_p.log10.signed</th></tr>\n",
       "\t<tr><th scope=col>&lt;fct&gt;</th><th scope=col>&lt;int&gt;</th><th scope=col>&lt;int&gt;</th><th scope=col>&lt;chr&gt;</th><th scope=col>&lt;chr&gt;</th><th scope=col>&lt;dbl&gt;</th><th scope=col>&lt;dbl&gt;</th><th scope=col>&lt;dbl&gt;</th><th scope=col>&lt;dbl&gt;</th><th scope=col>&lt;dbl&gt;</th><th scope=col>&lt;dbl&gt;</th><th scope=col>&lt;dbl&gt;</th><th scope=col>&lt;dbl&gt;</th></tr>\n",
       "</thead>\n",
       "<tbody>\n",
       "\t<tr><td>chr1</td><td>100037542</td><td>100039177</td><td>AGL     </td><td>K562</td><td>-0.077644642</td><td>0.2332134</td><td>-0.33293395</td><td>0.73918414</td><td>0.68</td><td>0.167491087</td><td>-1</td><td>-0.167491087</td></tr>\n",
       "\t<tr><td>chr1</td><td>100037542</td><td>100039177</td><td>CDC14A  </td><td>K562</td><td>-0.052996434</td><td>0.1329829</td><td>-0.39852081</td><td>0.69024632</td><td>0.76</td><td>0.119186408</td><td>-1</td><td>-0.119186408</td></tr>\n",
       "\t<tr><td>chr1</td><td>100037542</td><td>100039177</td><td>DPH5    </td><td>K562</td><td> 0.015649115</td><td>0.2912766</td><td> 0.05372596</td><td>0.95715350</td><td>0.98</td><td>0.008773924</td><td> 1</td><td> 0.008773924</td></tr>\n",
       "\t<tr><td>chr1</td><td>100037542</td><td>100039177</td><td>RTCA    </td><td>K562</td><td> 0.177007966</td><td>0.2575214</td><td> 0.68735241</td><td>0.49186068</td><td>0.50</td><td>0.301029996</td><td> 1</td><td> 0.301029996</td></tr>\n",
       "\t<tr><td>chr1</td><td>100037542</td><td>100039177</td><td>SLC30A7 </td><td>K562</td><td> 0.182636477</td><td>0.2017949</td><td> 0.90505985</td><td>0.36543368</td><td>0.46</td><td>0.337242168</td><td> 1</td><td> 0.337242168</td></tr>\n",
       "\t<tr><td>chr1</td><td>100037542</td><td>100039177</td><td>TRMT13  </td><td>K562</td><td> 0.278149723</td><td>0.1997208</td><td> 1.39269306</td><td>0.16371263</td><td>0.18</td><td>0.744727495</td><td> 1</td><td> 0.744727495</td></tr>\n",
       "\t<tr><td>chr1</td><td>100046482</td><td>100047206</td><td>AGL     </td><td>K562</td><td>-0.645538947</td><td>0.5893975</td><td>-1.09525227</td><td>0.27340613</td><td>0.44</td><td>0.356547324</td><td>-1</td><td>-0.356547324</td></tr>\n",
       "\t<tr><td>chr1</td><td>100046482</td><td>100047206</td><td>CDC14A  </td><td>K562</td><td> 0.489822792</td><td>0.2017206</td><td> 2.42822401</td><td>0.01517297</td><td>0.02</td><td>1.698970004</td><td> 1</td><td> 1.698970004</td></tr>\n",
       "\t<tr><td>chr1</td><td>100046482</td><td>100047206</td><td>DPH5    </td><td>K562</td><td>-0.661009183</td><td>0.7222549</td><td>-0.91520213</td><td>0.36008553</td><td>0.46</td><td>0.337242168</td><td>-1</td><td>-0.337242168</td></tr>\n",
       "\t<tr><td>chr1</td><td>100046482</td><td>100047206</td><td>RTCA    </td><td>K562</td><td> 0.531935744</td><td>0.3779446</td><td> 1.40744356</td><td>0.15929590</td><td>0.12</td><td>0.920818754</td><td> 1</td><td> 0.920818754</td></tr>\n",
       "\t<tr><td>chr1</td><td>100046482</td><td>100047206</td><td>SLC30A7 </td><td>K562</td><td>-0.009294917</td><td>0.3679632</td><td>-0.02526046</td><td>0.97984722</td><td>0.76</td><td>0.119186408</td><td>-1</td><td>-0.119186408</td></tr>\n",
       "\t<tr><td>chr1</td><td>100046482</td><td>100047206</td><td>TRMT13  </td><td>K562</td><td> 0.518891321</td><td>0.2955449</td><td> 1.75571047</td><td>0.07913786</td><td>0.12</td><td>0.920818754</td><td> 1</td><td> 0.920818754</td></tr>\n",
       "\t<tr><td>chr1</td><td>100132484</td><td>100133456</td><td>AGL     </td><td>K562</td><td>-0.129987547</td><td>0.2375903</td><td>-0.54710788</td><td>0.58430462</td><td>0.56</td><td>0.251811973</td><td>-1</td><td>-0.251811973</td></tr>\n",
       "\t<tr><td>chr1</td><td>100132484</td><td>100133456</td><td>CDC14A  </td><td>K562</td><td> 0.026643746</td><td>0.1323754</td><td> 0.20127411</td><td>0.84048424</td><td>0.92</td><td>0.036212173</td><td> 1</td><td> 0.036212173</td></tr>\n",
       "\t<tr><td>chr1</td><td>100132484</td><td>100133456</td><td>DPH5    </td><td>K562</td><td>-0.246075930</td><td>0.2967571</td><td>-0.82921652</td><td>0.40698190</td><td>0.38</td><td>0.420216403</td><td>-1</td><td>-0.420216403</td></tr>\n",
       "\t<tr><td>chr1</td><td>100132484</td><td>100133456</td><td>RTCA    </td><td>K562</td><td> 0.209469434</td><td>0.2487288</td><td> 0.84216012</td><td>0.39969833</td><td>0.54</td><td>0.267606240</td><td> 1</td><td> 0.267606240</td></tr>\n",
       "\t<tr><td>chr1</td><td>100132484</td><td>100133456</td><td>SLC30A7 </td><td>K562</td><td> 0.268233696</td><td>0.1946153</td><td> 1.37827651</td><td>0.16811793</td><td>0.28</td><td>0.552841969</td><td> 1</td><td> 0.552841969</td></tr>\n",
       "\t<tr><td>chr1</td><td>100132484</td><td>100133456</td><td>TRMT13  </td><td>K562</td><td>-0.161460122</td><td>0.1966209</td><td>-0.82117498</td><td>0.41154661</td><td>0.56</td><td>0.251811973</td><td>-1</td><td>-0.251811973</td></tr>\n",
       "\t<tr><td>chr1</td><td>  1001789</td><td>  1002126</td><td>ACAP3   </td><td>K562</td><td>-0.829291702</td><td>0.5238130</td><td>-1.58318275</td><td>0.11337982</td><td>0.20</td><td>0.698970004</td><td>-1</td><td>-0.698970004</td></tr>\n",
       "\t<tr><td>chr1</td><td>  1001789</td><td>  1002126</td><td>AURKAIP1</td><td>K562</td><td> 0.094140077</td><td>0.2637506</td><td> 0.35692834</td><td>0.72114545</td><td>0.62</td><td>0.207608311</td><td> 1</td><td> 0.207608311</td></tr>\n",
       "\t<tr><td>chr1</td><td>  1001789</td><td>  1002126</td><td>B3GALT6 </td><td>K562</td><td> 0.363637579</td><td>0.3459821</td><td> 1.05103000</td><td>0.29324481</td><td>0.20</td><td>0.698970004</td><td> 1</td><td> 0.698970004</td></tr>\n",
       "\t<tr><td>chr1</td><td>  1001789</td><td>  1002126</td><td>CCNL2   </td><td>K562</td><td>-0.046231407</td><td>0.1973423</td><td>-0.23427009</td><td>0.81477530</td><td>0.72</td><td>0.142667504</td><td>-1</td><td>-0.142667504</td></tr>\n",
       "\t<tr><td>chr1</td><td>  1001789</td><td>  1002126</td><td>CDK11A  </td><td>K562</td><td> 0.420339744</td><td>0.3186048</td><td> 1.31931371</td><td>0.18706426</td><td>0.20</td><td>0.698970004</td><td> 1</td><td> 0.698970004</td></tr>\n",
       "\t<tr><td>chr1</td><td>  1001789</td><td>  1002126</td><td>CDK11B  </td><td>K562</td><td>-0.139351326</td><td>0.1848092</td><td>-0.75402793</td><td>0.45083245</td><td>0.26</td><td>0.585026652</td><td>-1</td><td>-0.585026652</td></tr>\n",
       "\t<tr><td>chr1</td><td>  1001789</td><td>  1002126</td><td>GNB1    </td><td>K562</td><td>-0.179448436</td><td>0.1339290</td><td>-1.33987773</td><td>0.18028510</td><td>0.28</td><td>0.552841969</td><td>-1</td><td>-0.552841969</td></tr>\n",
       "\t<tr><td>chr1</td><td>  1001789</td><td>  1002126</td><td>INTS11  </td><td>K562</td><td> 0.028280213</td><td>0.3079485</td><td> 0.09183422</td><td>0.92682976</td><td>0.84</td><td>0.075720714</td><td> 1</td><td> 0.075720714</td></tr>\n",
       "\t<tr><td>chr1</td><td>  1001789</td><td>  1002126</td><td>ISG15   </td><td>K562</td><td>-0.095950079</td><td>0.2402632</td><td>-0.39935409</td><td>0.68963231</td><td>0.92</td><td>0.036212173</td><td>-1</td><td>-0.036212173</td></tr>\n",
       "\t<tr><td>chr1</td><td>  1001789</td><td>  1002126</td><td>MRPL20  </td><td>K562</td><td>-0.310638999</td><td>0.2543354</td><td>-1.22137542</td><td>0.22194391</td><td>0.38</td><td>0.420216403</td><td>-1</td><td>-0.420216403</td></tr>\n",
       "\t<tr><td>chr1</td><td>  1001789</td><td>  1002126</td><td>NADK    </td><td>K562</td><td>-0.545721254</td><td>0.3362475</td><td>-1.62297493</td><td>0.10459476</td><td>0.12</td><td>0.920818754</td><td>-1</td><td>-0.920818754</td></tr>\n",
       "\t<tr><td>chr1</td><td>  1001789</td><td>  1002126</td><td>NOC2L   </td><td>K562</td><td> 0.231374264</td><td>0.2654702</td><td> 0.87156384</td><td>0.38344636</td><td>0.46</td><td>0.337242168</td><td> 1</td><td> 0.337242168</td></tr>\n",
       "\t<tr><td>⋮</td><td>⋮</td><td>⋮</td><td>⋮</td><td>⋮</td><td>⋮</td><td>⋮</td><td>⋮</td><td>⋮</td><td>⋮</td><td>⋮</td><td>⋮</td><td>⋮</td></tr>\n",
       "\t<tr><td>chrX</td><td> 9341447</td><td> 9342284</td><td>TBL1X  </td><td>K562</td><td> 0.13091193</td><td>0.14405903</td><td> 0.90873808</td><td>0.3634883960</td><td>0.34</td><td>0.46852108</td><td> 1</td><td> 0.46852108</td></tr>\n",
       "\t<tr><td>chrX</td><td> 9341447</td><td> 9342284</td><td>WWC3   </td><td>K562</td><td>-0.44808681</td><td>0.32105030</td><td>-1.39569038</td><td>0.1628077521</td><td>0.24</td><td>0.61978876</td><td>-1</td><td>-0.61978876</td></tr>\n",
       "\t<tr><td>chrX</td><td> 9342360</td><td> 9343006</td><td>TBL1X  </td><td>K562</td><td>-0.23399246</td><td>0.27365346</td><td>-0.85506853</td><td>0.3925132121</td><td>0.36</td><td>0.44369750</td><td>-1</td><td>-0.44369750</td></tr>\n",
       "\t<tr><td>chrX</td><td> 9342360</td><td> 9343006</td><td>WWC3   </td><td>K562</td><td> 0.13346500</td><td>0.42229614</td><td> 0.31604598</td><td>0.7519676082</td><td>0.60</td><td>0.22184875</td><td> 1</td><td> 0.22184875</td></tr>\n",
       "\t<tr><td>chrX</td><td> 9454074</td><td> 9454818</td><td>TBL1X  </td><td>K562</td><td> 0.50903990</td><td>0.18678133</td><td> 2.72532533</td><td>0.0064238155</td><td>0.02</td><td>1.69897000</td><td> 1</td><td> 1.69897000</td></tr>\n",
       "\t<tr><td>chrX</td><td> 9454074</td><td> 9454818</td><td>WWC3   </td><td>K562</td><td> 0.09828904</td><td>0.39660187</td><td> 0.24782799</td><td>0.8042674992</td><td>0.68</td><td>0.16749109</td><td> 1</td><td> 0.16749109</td></tr>\n",
       "\t<tr><td>chrX</td><td> 9462962</td><td> 9463506</td><td>TBL1X  </td><td>K562</td><td> 0.19375032</td><td>0.13610647</td><td> 1.42352028</td><td>0.1545853881</td><td>0.24</td><td>0.61978876</td><td> 1</td><td> 0.61978876</td></tr>\n",
       "\t<tr><td>chrX</td><td> 9462962</td><td> 9463506</td><td>WWC3   </td><td>K562</td><td> 0.26672429</td><td>0.24387888</td><td> 1.09367525</td><td>0.2740974320</td><td>0.30</td><td>0.52287875</td><td> 1</td><td> 0.52287875</td></tr>\n",
       "\t<tr><td>chrX</td><td> 9464523</td><td> 9465715</td><td>TBL1X  </td><td>K562</td><td> 0.28861239</td><td>0.13133554</td><td> 2.19751937</td><td>0.0279833750</td><td>0.10</td><td>1.00000000</td><td> 1</td><td> 1.00000000</td></tr>\n",
       "\t<tr><td>chrX</td><td> 9464523</td><td> 9465715</td><td>WWC3   </td><td>K562</td><td> 0.01879929</td><td>0.25654025</td><td> 0.07328006</td><td>0.9415832573</td><td>0.82</td><td>0.08618615</td><td> 1</td><td> 0.08618615</td></tr>\n",
       "\t<tr><td>chrX</td><td> 9465796</td><td> 9466165</td><td>TBL1X  </td><td>K562</td><td>-0.22482643</td><td>0.24309582</td><td>-0.92484697</td><td>0.3550455139</td><td>0.46</td><td>0.33724217</td><td>-1</td><td>-0.33724217</td></tr>\n",
       "\t<tr><td>chrX</td><td> 9465796</td><td> 9466165</td><td>WWC3   </td><td>K562</td><td> 0.08752088</td><td>0.39363776</td><td> 0.22233862</td><td>0.8240502871</td><td>0.84</td><td>0.07572071</td><td> 1</td><td> 0.07572071</td></tr>\n",
       "\t<tr><td>chrX</td><td> 9530748</td><td> 9531451</td><td>TBL1X  </td><td>K562</td><td>-0.06364313</td><td>0.24995111</td><td>-0.25462231</td><td>0.7990148256</td><td>0.72</td><td>0.14266750</td><td>-1</td><td>-0.14266750</td></tr>\n",
       "\t<tr><td>chrX</td><td> 9530748</td><td> 9531451</td><td>WWC3   </td><td>K562</td><td> 0.30057935</td><td>0.39397194</td><td> 0.76294608</td><td>0.4454955508</td><td>0.48</td><td>0.31875876</td><td> 1</td><td> 0.31875876</td></tr>\n",
       "\t<tr><td>chrX</td><td>96684019</td><td>96685481</td><td>DIAPH2 </td><td>K562</td><td> 0.38963774</td><td>0.10306650</td><td> 3.78045007</td><td>0.0001565451</td><td>0.02</td><td>1.69897000</td><td> 1</td><td> 1.69897000</td></tr>\n",
       "\t<tr><td>chrX</td><td> 9672024</td><td> 9672560</td><td>TBL1X  </td><td>K562</td><td> 0.46436640</td><td>0.20622789</td><td> 2.25171488</td><td>0.0243402958</td><td>0.04</td><td>1.39794001</td><td> 1</td><td> 1.39794001</td></tr>\n",
       "\t<tr><td>chrX</td><td> 9672024</td><td> 9672560</td><td>WWC3   </td><td>K562</td><td>-0.97575020</td><td>0.71626639</td><td>-1.36227277</td><td>0.1731118168</td><td>0.34</td><td>0.46852108</td><td>-1</td><td>-0.46852108</td></tr>\n",
       "\t<tr><td>chrX</td><td> 9677029</td><td> 9677753</td><td>TBL1X  </td><td>K562</td><td> 0.03047239</td><td>0.16591940</td><td> 0.18365776</td><td>0.8542819441</td><td>0.88</td><td>0.05551733</td><td> 1</td><td> 0.05551733</td></tr>\n",
       "\t<tr><td>chrX</td><td> 9677029</td><td> 9677753</td><td>WWC3   </td><td>K562</td><td> 0.13370762</td><td>0.28952006</td><td> 0.46182506</td><td>0.6442067761</td><td>0.80</td><td>0.09691001</td><td> 1</td><td> 0.09691001</td></tr>\n",
       "\t<tr><td>chrX</td><td> 9708609</td><td> 9709294</td><td>TBL1X  </td><td>K562</td><td> 0.04003918</td><td>0.22667398</td><td> 0.17663773</td><td>0.8597929582</td><td>0.76</td><td>0.11918641</td><td> 1</td><td> 0.11918641</td></tr>\n",
       "\t<tr><td>chrX</td><td> 9708609</td><td> 9709294</td><td>WWC3   </td><td>K562</td><td> 0.62582394</td><td>0.32233104</td><td> 1.94155653</td><td>0.0521908091</td><td>0.02</td><td>1.69897000</td><td> 1</td><td> 1.69897000</td></tr>\n",
       "\t<tr><td>chrX</td><td>  989869</td><td>  990606</td><td>AKAP17A</td><td>K562</td><td>-0.08686019</td><td>0.20609583</td><td>-0.42145533</td><td>0.6734226256</td><td>0.60</td><td>0.22184875</td><td>-1</td><td>-0.22184875</td></tr>\n",
       "\t<tr><td>chrX</td><td>  989869</td><td>  990606</td><td>ASMTL  </td><td>K562</td><td>-0.35228454</td><td>0.33903910</td><td>-1.03906760</td><td>0.2987732999</td><td>0.32</td><td>0.49485002</td><td>-1</td><td>-0.49485002</td></tr>\n",
       "\t<tr><td>chrX</td><td>  989869</td><td>  990606</td><td>GTPBP6 </td><td>K562</td><td>-0.04676766</td><td>0.27364580</td><td>-0.17090582</td><td>0.8642978242</td><td>0.88</td><td>0.05551733</td><td>-1</td><td>-0.05551733</td></tr>\n",
       "\t<tr><td>chrX</td><td>  989869</td><td>  990606</td><td>IL3RA  </td><td>K562</td><td>-0.02900128</td><td>0.30387594</td><td>-0.09543790</td><td>0.9239670175</td><td>1.00</td><td>0.00000000</td><td>-1</td><td> 0.00000000</td></tr>\n",
       "\t<tr><td>chrX</td><td>  989869</td><td>  990606</td><td>P2RY8  </td><td>K562</td><td> 0.04675685</td><td>0.10422377</td><td> 0.44861977</td><td>0.6537059718</td><td>0.50</td><td>0.30103000</td><td> 1</td><td> 0.30103000</td></tr>\n",
       "\t<tr><td>chrX</td><td>  989869</td><td>  990606</td><td>PLCXD1 </td><td>K562</td><td> 0.50895005</td><td>0.32141562</td><td> 1.58346394</td><td>0.1133157595</td><td>0.10</td><td>1.00000000</td><td> 1</td><td> 1.00000000</td></tr>\n",
       "\t<tr><td>chrX</td><td>  989869</td><td>  990606</td><td>SLC25A6</td><td>K562</td><td>-0.01955756</td><td>0.09671264</td><td>-0.20222338</td><td>0.8397420959</td><td>0.86</td><td>0.06550155</td><td>-1</td><td>-0.06550155</td></tr>\n",
       "\t<tr><td>chrX</td><td> 9995644</td><td> 9996243</td><td>TBL1X  </td><td>K562</td><td> 0.07277565</td><td>0.20869268</td><td> 0.34872162</td><td>0.7272983084</td><td>0.96</td><td>0.01772877</td><td> 1</td><td> 0.01772877</td></tr>\n",
       "\t<tr><td>chrX</td><td> 9995644</td><td> 9996243</td><td>WWC3   </td><td>K562</td><td> 0.14007972</td><td>0.36964937</td><td> 0.37895295</td><td>0.7047228041</td><td>0.50</td><td>0.30103000</td><td> 1</td><td> 0.30103000</td></tr>\n",
       "</tbody>\n",
       "</table>\n"
      ],
      "text/latex": [
       "A data.frame: 337146 × 13\n",
       "\\begin{tabular}{lllllllllllll}\n",
       " chr & start & end & TargetGene & CellType & beta & se & z & p & boot\\_basic\\_p & boot\\_basic\\_p.log10 & sign & boot\\_basic\\_p.log10.signed\\\\\n",
       " <fct> & <int> & <int> & <chr> & <chr> & <dbl> & <dbl> & <dbl> & <dbl> & <dbl> & <dbl> & <dbl> & <dbl>\\\\\n",
       "\\hline\n",
       "\t chr1 & 100037542 & 100039177 & AGL      & K562 & -0.077644642 & 0.2332134 & -0.33293395 & 0.73918414 & 0.68 & 0.167491087 & -1 & -0.167491087\\\\\n",
       "\t chr1 & 100037542 & 100039177 & CDC14A   & K562 & -0.052996434 & 0.1329829 & -0.39852081 & 0.69024632 & 0.76 & 0.119186408 & -1 & -0.119186408\\\\\n",
       "\t chr1 & 100037542 & 100039177 & DPH5     & K562 &  0.015649115 & 0.2912766 &  0.05372596 & 0.95715350 & 0.98 & 0.008773924 &  1 &  0.008773924\\\\\n",
       "\t chr1 & 100037542 & 100039177 & RTCA     & K562 &  0.177007966 & 0.2575214 &  0.68735241 & 0.49186068 & 0.50 & 0.301029996 &  1 &  0.301029996\\\\\n",
       "\t chr1 & 100037542 & 100039177 & SLC30A7  & K562 &  0.182636477 & 0.2017949 &  0.90505985 & 0.36543368 & 0.46 & 0.337242168 &  1 &  0.337242168\\\\\n",
       "\t chr1 & 100037542 & 100039177 & TRMT13   & K562 &  0.278149723 & 0.1997208 &  1.39269306 & 0.16371263 & 0.18 & 0.744727495 &  1 &  0.744727495\\\\\n",
       "\t chr1 & 100046482 & 100047206 & AGL      & K562 & -0.645538947 & 0.5893975 & -1.09525227 & 0.27340613 & 0.44 & 0.356547324 & -1 & -0.356547324\\\\\n",
       "\t chr1 & 100046482 & 100047206 & CDC14A   & K562 &  0.489822792 & 0.2017206 &  2.42822401 & 0.01517297 & 0.02 & 1.698970004 &  1 &  1.698970004\\\\\n",
       "\t chr1 & 100046482 & 100047206 & DPH5     & K562 & -0.661009183 & 0.7222549 & -0.91520213 & 0.36008553 & 0.46 & 0.337242168 & -1 & -0.337242168\\\\\n",
       "\t chr1 & 100046482 & 100047206 & RTCA     & K562 &  0.531935744 & 0.3779446 &  1.40744356 & 0.15929590 & 0.12 & 0.920818754 &  1 &  0.920818754\\\\\n",
       "\t chr1 & 100046482 & 100047206 & SLC30A7  & K562 & -0.009294917 & 0.3679632 & -0.02526046 & 0.97984722 & 0.76 & 0.119186408 & -1 & -0.119186408\\\\\n",
       "\t chr1 & 100046482 & 100047206 & TRMT13   & K562 &  0.518891321 & 0.2955449 &  1.75571047 & 0.07913786 & 0.12 & 0.920818754 &  1 &  0.920818754\\\\\n",
       "\t chr1 & 100132484 & 100133456 & AGL      & K562 & -0.129987547 & 0.2375903 & -0.54710788 & 0.58430462 & 0.56 & 0.251811973 & -1 & -0.251811973\\\\\n",
       "\t chr1 & 100132484 & 100133456 & CDC14A   & K562 &  0.026643746 & 0.1323754 &  0.20127411 & 0.84048424 & 0.92 & 0.036212173 &  1 &  0.036212173\\\\\n",
       "\t chr1 & 100132484 & 100133456 & DPH5     & K562 & -0.246075930 & 0.2967571 & -0.82921652 & 0.40698190 & 0.38 & 0.420216403 & -1 & -0.420216403\\\\\n",
       "\t chr1 & 100132484 & 100133456 & RTCA     & K562 &  0.209469434 & 0.2487288 &  0.84216012 & 0.39969833 & 0.54 & 0.267606240 &  1 &  0.267606240\\\\\n",
       "\t chr1 & 100132484 & 100133456 & SLC30A7  & K562 &  0.268233696 & 0.1946153 &  1.37827651 & 0.16811793 & 0.28 & 0.552841969 &  1 &  0.552841969\\\\\n",
       "\t chr1 & 100132484 & 100133456 & TRMT13   & K562 & -0.161460122 & 0.1966209 & -0.82117498 & 0.41154661 & 0.56 & 0.251811973 & -1 & -0.251811973\\\\\n",
       "\t chr1 &   1001789 &   1002126 & ACAP3    & K562 & -0.829291702 & 0.5238130 & -1.58318275 & 0.11337982 & 0.20 & 0.698970004 & -1 & -0.698970004\\\\\n",
       "\t chr1 &   1001789 &   1002126 & AURKAIP1 & K562 &  0.094140077 & 0.2637506 &  0.35692834 & 0.72114545 & 0.62 & 0.207608311 &  1 &  0.207608311\\\\\n",
       "\t chr1 &   1001789 &   1002126 & B3GALT6  & K562 &  0.363637579 & 0.3459821 &  1.05103000 & 0.29324481 & 0.20 & 0.698970004 &  1 &  0.698970004\\\\\n",
       "\t chr1 &   1001789 &   1002126 & CCNL2    & K562 & -0.046231407 & 0.1973423 & -0.23427009 & 0.81477530 & 0.72 & 0.142667504 & -1 & -0.142667504\\\\\n",
       "\t chr1 &   1001789 &   1002126 & CDK11A   & K562 &  0.420339744 & 0.3186048 &  1.31931371 & 0.18706426 & 0.20 & 0.698970004 &  1 &  0.698970004\\\\\n",
       "\t chr1 &   1001789 &   1002126 & CDK11B   & K562 & -0.139351326 & 0.1848092 & -0.75402793 & 0.45083245 & 0.26 & 0.585026652 & -1 & -0.585026652\\\\\n",
       "\t chr1 &   1001789 &   1002126 & GNB1     & K562 & -0.179448436 & 0.1339290 & -1.33987773 & 0.18028510 & 0.28 & 0.552841969 & -1 & -0.552841969\\\\\n",
       "\t chr1 &   1001789 &   1002126 & INTS11   & K562 &  0.028280213 & 0.3079485 &  0.09183422 & 0.92682976 & 0.84 & 0.075720714 &  1 &  0.075720714\\\\\n",
       "\t chr1 &   1001789 &   1002126 & ISG15    & K562 & -0.095950079 & 0.2402632 & -0.39935409 & 0.68963231 & 0.92 & 0.036212173 & -1 & -0.036212173\\\\\n",
       "\t chr1 &   1001789 &   1002126 & MRPL20   & K562 & -0.310638999 & 0.2543354 & -1.22137542 & 0.22194391 & 0.38 & 0.420216403 & -1 & -0.420216403\\\\\n",
       "\t chr1 &   1001789 &   1002126 & NADK     & K562 & -0.545721254 & 0.3362475 & -1.62297493 & 0.10459476 & 0.12 & 0.920818754 & -1 & -0.920818754\\\\\n",
       "\t chr1 &   1001789 &   1002126 & NOC2L    & K562 &  0.231374264 & 0.2654702 &  0.87156384 & 0.38344636 & 0.46 & 0.337242168 &  1 &  0.337242168\\\\\n",
       "\t ⋮ & ⋮ & ⋮ & ⋮ & ⋮ & ⋮ & ⋮ & ⋮ & ⋮ & ⋮ & ⋮ & ⋮ & ⋮\\\\\n",
       "\t chrX &  9341447 &  9342284 & TBL1X   & K562 &  0.13091193 & 0.14405903 &  0.90873808 & 0.3634883960 & 0.34 & 0.46852108 &  1 &  0.46852108\\\\\n",
       "\t chrX &  9341447 &  9342284 & WWC3    & K562 & -0.44808681 & 0.32105030 & -1.39569038 & 0.1628077521 & 0.24 & 0.61978876 & -1 & -0.61978876\\\\\n",
       "\t chrX &  9342360 &  9343006 & TBL1X   & K562 & -0.23399246 & 0.27365346 & -0.85506853 & 0.3925132121 & 0.36 & 0.44369750 & -1 & -0.44369750\\\\\n",
       "\t chrX &  9342360 &  9343006 & WWC3    & K562 &  0.13346500 & 0.42229614 &  0.31604598 & 0.7519676082 & 0.60 & 0.22184875 &  1 &  0.22184875\\\\\n",
       "\t chrX &  9454074 &  9454818 & TBL1X   & K562 &  0.50903990 & 0.18678133 &  2.72532533 & 0.0064238155 & 0.02 & 1.69897000 &  1 &  1.69897000\\\\\n",
       "\t chrX &  9454074 &  9454818 & WWC3    & K562 &  0.09828904 & 0.39660187 &  0.24782799 & 0.8042674992 & 0.68 & 0.16749109 &  1 &  0.16749109\\\\\n",
       "\t chrX &  9462962 &  9463506 & TBL1X   & K562 &  0.19375032 & 0.13610647 &  1.42352028 & 0.1545853881 & 0.24 & 0.61978876 &  1 &  0.61978876\\\\\n",
       "\t chrX &  9462962 &  9463506 & WWC3    & K562 &  0.26672429 & 0.24387888 &  1.09367525 & 0.2740974320 & 0.30 & 0.52287875 &  1 &  0.52287875\\\\\n",
       "\t chrX &  9464523 &  9465715 & TBL1X   & K562 &  0.28861239 & 0.13133554 &  2.19751937 & 0.0279833750 & 0.10 & 1.00000000 &  1 &  1.00000000\\\\\n",
       "\t chrX &  9464523 &  9465715 & WWC3    & K562 &  0.01879929 & 0.25654025 &  0.07328006 & 0.9415832573 & 0.82 & 0.08618615 &  1 &  0.08618615\\\\\n",
       "\t chrX &  9465796 &  9466165 & TBL1X   & K562 & -0.22482643 & 0.24309582 & -0.92484697 & 0.3550455139 & 0.46 & 0.33724217 & -1 & -0.33724217\\\\\n",
       "\t chrX &  9465796 &  9466165 & WWC3    & K562 &  0.08752088 & 0.39363776 &  0.22233862 & 0.8240502871 & 0.84 & 0.07572071 &  1 &  0.07572071\\\\\n",
       "\t chrX &  9530748 &  9531451 & TBL1X   & K562 & -0.06364313 & 0.24995111 & -0.25462231 & 0.7990148256 & 0.72 & 0.14266750 & -1 & -0.14266750\\\\\n",
       "\t chrX &  9530748 &  9531451 & WWC3    & K562 &  0.30057935 & 0.39397194 &  0.76294608 & 0.4454955508 & 0.48 & 0.31875876 &  1 &  0.31875876\\\\\n",
       "\t chrX & 96684019 & 96685481 & DIAPH2  & K562 &  0.38963774 & 0.10306650 &  3.78045007 & 0.0001565451 & 0.02 & 1.69897000 &  1 &  1.69897000\\\\\n",
       "\t chrX &  9672024 &  9672560 & TBL1X   & K562 &  0.46436640 & 0.20622789 &  2.25171488 & 0.0243402958 & 0.04 & 1.39794001 &  1 &  1.39794001\\\\\n",
       "\t chrX &  9672024 &  9672560 & WWC3    & K562 & -0.97575020 & 0.71626639 & -1.36227277 & 0.1731118168 & 0.34 & 0.46852108 & -1 & -0.46852108\\\\\n",
       "\t chrX &  9677029 &  9677753 & TBL1X   & K562 &  0.03047239 & 0.16591940 &  0.18365776 & 0.8542819441 & 0.88 & 0.05551733 &  1 &  0.05551733\\\\\n",
       "\t chrX &  9677029 &  9677753 & WWC3    & K562 &  0.13370762 & 0.28952006 &  0.46182506 & 0.6442067761 & 0.80 & 0.09691001 &  1 &  0.09691001\\\\\n",
       "\t chrX &  9708609 &  9709294 & TBL1X   & K562 &  0.04003918 & 0.22667398 &  0.17663773 & 0.8597929582 & 0.76 & 0.11918641 &  1 &  0.11918641\\\\\n",
       "\t chrX &  9708609 &  9709294 & WWC3    & K562 &  0.62582394 & 0.32233104 &  1.94155653 & 0.0521908091 & 0.02 & 1.69897000 &  1 &  1.69897000\\\\\n",
       "\t chrX &   989869 &   990606 & AKAP17A & K562 & -0.08686019 & 0.20609583 & -0.42145533 & 0.6734226256 & 0.60 & 0.22184875 & -1 & -0.22184875\\\\\n",
       "\t chrX &   989869 &   990606 & ASMTL   & K562 & -0.35228454 & 0.33903910 & -1.03906760 & 0.2987732999 & 0.32 & 0.49485002 & -1 & -0.49485002\\\\\n",
       "\t chrX &   989869 &   990606 & GTPBP6  & K562 & -0.04676766 & 0.27364580 & -0.17090582 & 0.8642978242 & 0.88 & 0.05551733 & -1 & -0.05551733\\\\\n",
       "\t chrX &   989869 &   990606 & IL3RA   & K562 & -0.02900128 & 0.30387594 & -0.09543790 & 0.9239670175 & 1.00 & 0.00000000 & -1 &  0.00000000\\\\\n",
       "\t chrX &   989869 &   990606 & P2RY8   & K562 &  0.04675685 & 0.10422377 &  0.44861977 & 0.6537059718 & 0.50 & 0.30103000 &  1 &  0.30103000\\\\\n",
       "\t chrX &   989869 &   990606 & PLCXD1  & K562 &  0.50895005 & 0.32141562 &  1.58346394 & 0.1133157595 & 0.10 & 1.00000000 &  1 &  1.00000000\\\\\n",
       "\t chrX &   989869 &   990606 & SLC25A6 & K562 & -0.01955756 & 0.09671264 & -0.20222338 & 0.8397420959 & 0.86 & 0.06550155 & -1 & -0.06550155\\\\\n",
       "\t chrX &  9995644 &  9996243 & TBL1X   & K562 &  0.07277565 & 0.20869268 &  0.34872162 & 0.7272983084 & 0.96 & 0.01772877 &  1 &  0.01772877\\\\\n",
       "\t chrX &  9995644 &  9996243 & WWC3    & K562 &  0.14007972 & 0.36964937 &  0.37895295 & 0.7047228041 & 0.50 & 0.30103000 &  1 &  0.30103000\\\\\n",
       "\\end{tabular}\n"
      ],
      "text/markdown": [
       "\n",
       "A data.frame: 337146 × 13\n",
       "\n",
       "| chr &lt;fct&gt; | start &lt;int&gt; | end &lt;int&gt; | TargetGene &lt;chr&gt; | CellType &lt;chr&gt; | beta &lt;dbl&gt; | se &lt;dbl&gt; | z &lt;dbl&gt; | p &lt;dbl&gt; | boot_basic_p &lt;dbl&gt; | boot_basic_p.log10 &lt;dbl&gt; | sign &lt;dbl&gt; | boot_basic_p.log10.signed &lt;dbl&gt; |\n",
       "|---|---|---|---|---|---|---|---|---|---|---|---|---|\n",
       "| chr1 | 100037542 | 100039177 | AGL      | K562 | -0.077644642 | 0.2332134 | -0.33293395 | 0.73918414 | 0.68 | 0.167491087 | -1 | -0.167491087 |\n",
       "| chr1 | 100037542 | 100039177 | CDC14A   | K562 | -0.052996434 | 0.1329829 | -0.39852081 | 0.69024632 | 0.76 | 0.119186408 | -1 | -0.119186408 |\n",
       "| chr1 | 100037542 | 100039177 | DPH5     | K562 |  0.015649115 | 0.2912766 |  0.05372596 | 0.95715350 | 0.98 | 0.008773924 |  1 |  0.008773924 |\n",
       "| chr1 | 100037542 | 100039177 | RTCA     | K562 |  0.177007966 | 0.2575214 |  0.68735241 | 0.49186068 | 0.50 | 0.301029996 |  1 |  0.301029996 |\n",
       "| chr1 | 100037542 | 100039177 | SLC30A7  | K562 |  0.182636477 | 0.2017949 |  0.90505985 | 0.36543368 | 0.46 | 0.337242168 |  1 |  0.337242168 |\n",
       "| chr1 | 100037542 | 100039177 | TRMT13   | K562 |  0.278149723 | 0.1997208 |  1.39269306 | 0.16371263 | 0.18 | 0.744727495 |  1 |  0.744727495 |\n",
       "| chr1 | 100046482 | 100047206 | AGL      | K562 | -0.645538947 | 0.5893975 | -1.09525227 | 0.27340613 | 0.44 | 0.356547324 | -1 | -0.356547324 |\n",
       "| chr1 | 100046482 | 100047206 | CDC14A   | K562 |  0.489822792 | 0.2017206 |  2.42822401 | 0.01517297 | 0.02 | 1.698970004 |  1 |  1.698970004 |\n",
       "| chr1 | 100046482 | 100047206 | DPH5     | K562 | -0.661009183 | 0.7222549 | -0.91520213 | 0.36008553 | 0.46 | 0.337242168 | -1 | -0.337242168 |\n",
       "| chr1 | 100046482 | 100047206 | RTCA     | K562 |  0.531935744 | 0.3779446 |  1.40744356 | 0.15929590 | 0.12 | 0.920818754 |  1 |  0.920818754 |\n",
       "| chr1 | 100046482 | 100047206 | SLC30A7  | K562 | -0.009294917 | 0.3679632 | -0.02526046 | 0.97984722 | 0.76 | 0.119186408 | -1 | -0.119186408 |\n",
       "| chr1 | 100046482 | 100047206 | TRMT13   | K562 |  0.518891321 | 0.2955449 |  1.75571047 | 0.07913786 | 0.12 | 0.920818754 |  1 |  0.920818754 |\n",
       "| chr1 | 100132484 | 100133456 | AGL      | K562 | -0.129987547 | 0.2375903 | -0.54710788 | 0.58430462 | 0.56 | 0.251811973 | -1 | -0.251811973 |\n",
       "| chr1 | 100132484 | 100133456 | CDC14A   | K562 |  0.026643746 | 0.1323754 |  0.20127411 | 0.84048424 | 0.92 | 0.036212173 |  1 |  0.036212173 |\n",
       "| chr1 | 100132484 | 100133456 | DPH5     | K562 | -0.246075930 | 0.2967571 | -0.82921652 | 0.40698190 | 0.38 | 0.420216403 | -1 | -0.420216403 |\n",
       "| chr1 | 100132484 | 100133456 | RTCA     | K562 |  0.209469434 | 0.2487288 |  0.84216012 | 0.39969833 | 0.54 | 0.267606240 |  1 |  0.267606240 |\n",
       "| chr1 | 100132484 | 100133456 | SLC30A7  | K562 |  0.268233696 | 0.1946153 |  1.37827651 | 0.16811793 | 0.28 | 0.552841969 |  1 |  0.552841969 |\n",
       "| chr1 | 100132484 | 100133456 | TRMT13   | K562 | -0.161460122 | 0.1966209 | -0.82117498 | 0.41154661 | 0.56 | 0.251811973 | -1 | -0.251811973 |\n",
       "| chr1 |   1001789 |   1002126 | ACAP3    | K562 | -0.829291702 | 0.5238130 | -1.58318275 | 0.11337982 | 0.20 | 0.698970004 | -1 | -0.698970004 |\n",
       "| chr1 |   1001789 |   1002126 | AURKAIP1 | K562 |  0.094140077 | 0.2637506 |  0.35692834 | 0.72114545 | 0.62 | 0.207608311 |  1 |  0.207608311 |\n",
       "| chr1 |   1001789 |   1002126 | B3GALT6  | K562 |  0.363637579 | 0.3459821 |  1.05103000 | 0.29324481 | 0.20 | 0.698970004 |  1 |  0.698970004 |\n",
       "| chr1 |   1001789 |   1002126 | CCNL2    | K562 | -0.046231407 | 0.1973423 | -0.23427009 | 0.81477530 | 0.72 | 0.142667504 | -1 | -0.142667504 |\n",
       "| chr1 |   1001789 |   1002126 | CDK11A   | K562 |  0.420339744 | 0.3186048 |  1.31931371 | 0.18706426 | 0.20 | 0.698970004 |  1 |  0.698970004 |\n",
       "| chr1 |   1001789 |   1002126 | CDK11B   | K562 | -0.139351326 | 0.1848092 | -0.75402793 | 0.45083245 | 0.26 | 0.585026652 | -1 | -0.585026652 |\n",
       "| chr1 |   1001789 |   1002126 | GNB1     | K562 | -0.179448436 | 0.1339290 | -1.33987773 | 0.18028510 | 0.28 | 0.552841969 | -1 | -0.552841969 |\n",
       "| chr1 |   1001789 |   1002126 | INTS11   | K562 |  0.028280213 | 0.3079485 |  0.09183422 | 0.92682976 | 0.84 | 0.075720714 |  1 |  0.075720714 |\n",
       "| chr1 |   1001789 |   1002126 | ISG15    | K562 | -0.095950079 | 0.2402632 | -0.39935409 | 0.68963231 | 0.92 | 0.036212173 | -1 | -0.036212173 |\n",
       "| chr1 |   1001789 |   1002126 | MRPL20   | K562 | -0.310638999 | 0.2543354 | -1.22137542 | 0.22194391 | 0.38 | 0.420216403 | -1 | -0.420216403 |\n",
       "| chr1 |   1001789 |   1002126 | NADK     | K562 | -0.545721254 | 0.3362475 | -1.62297493 | 0.10459476 | 0.12 | 0.920818754 | -1 | -0.920818754 |\n",
       "| chr1 |   1001789 |   1002126 | NOC2L    | K562 |  0.231374264 | 0.2654702 |  0.87156384 | 0.38344636 | 0.46 | 0.337242168 |  1 |  0.337242168 |\n",
       "| ⋮ | ⋮ | ⋮ | ⋮ | ⋮ | ⋮ | ⋮ | ⋮ | ⋮ | ⋮ | ⋮ | ⋮ | ⋮ |\n",
       "| chrX |  9341447 |  9342284 | TBL1X   | K562 |  0.13091193 | 0.14405903 |  0.90873808 | 0.3634883960 | 0.34 | 0.46852108 |  1 |  0.46852108 |\n",
       "| chrX |  9341447 |  9342284 | WWC3    | K562 | -0.44808681 | 0.32105030 | -1.39569038 | 0.1628077521 | 0.24 | 0.61978876 | -1 | -0.61978876 |\n",
       "| chrX |  9342360 |  9343006 | TBL1X   | K562 | -0.23399246 | 0.27365346 | -0.85506853 | 0.3925132121 | 0.36 | 0.44369750 | -1 | -0.44369750 |\n",
       "| chrX |  9342360 |  9343006 | WWC3    | K562 |  0.13346500 | 0.42229614 |  0.31604598 | 0.7519676082 | 0.60 | 0.22184875 |  1 |  0.22184875 |\n",
       "| chrX |  9454074 |  9454818 | TBL1X   | K562 |  0.50903990 | 0.18678133 |  2.72532533 | 0.0064238155 | 0.02 | 1.69897000 |  1 |  1.69897000 |\n",
       "| chrX |  9454074 |  9454818 | WWC3    | K562 |  0.09828904 | 0.39660187 |  0.24782799 | 0.8042674992 | 0.68 | 0.16749109 |  1 |  0.16749109 |\n",
       "| chrX |  9462962 |  9463506 | TBL1X   | K562 |  0.19375032 | 0.13610647 |  1.42352028 | 0.1545853881 | 0.24 | 0.61978876 |  1 |  0.61978876 |\n",
       "| chrX |  9462962 |  9463506 | WWC3    | K562 |  0.26672429 | 0.24387888 |  1.09367525 | 0.2740974320 | 0.30 | 0.52287875 |  1 |  0.52287875 |\n",
       "| chrX |  9464523 |  9465715 | TBL1X   | K562 |  0.28861239 | 0.13133554 |  2.19751937 | 0.0279833750 | 0.10 | 1.00000000 |  1 |  1.00000000 |\n",
       "| chrX |  9464523 |  9465715 | WWC3    | K562 |  0.01879929 | 0.25654025 |  0.07328006 | 0.9415832573 | 0.82 | 0.08618615 |  1 |  0.08618615 |\n",
       "| chrX |  9465796 |  9466165 | TBL1X   | K562 | -0.22482643 | 0.24309582 | -0.92484697 | 0.3550455139 | 0.46 | 0.33724217 | -1 | -0.33724217 |\n",
       "| chrX |  9465796 |  9466165 | WWC3    | K562 |  0.08752088 | 0.39363776 |  0.22233862 | 0.8240502871 | 0.84 | 0.07572071 |  1 |  0.07572071 |\n",
       "| chrX |  9530748 |  9531451 | TBL1X   | K562 | -0.06364313 | 0.24995111 | -0.25462231 | 0.7990148256 | 0.72 | 0.14266750 | -1 | -0.14266750 |\n",
       "| chrX |  9530748 |  9531451 | WWC3    | K562 |  0.30057935 | 0.39397194 |  0.76294608 | 0.4454955508 | 0.48 | 0.31875876 |  1 |  0.31875876 |\n",
       "| chrX | 96684019 | 96685481 | DIAPH2  | K562 |  0.38963774 | 0.10306650 |  3.78045007 | 0.0001565451 | 0.02 | 1.69897000 |  1 |  1.69897000 |\n",
       "| chrX |  9672024 |  9672560 | TBL1X   | K562 |  0.46436640 | 0.20622789 |  2.25171488 | 0.0243402958 | 0.04 | 1.39794001 |  1 |  1.39794001 |\n",
       "| chrX |  9672024 |  9672560 | WWC3    | K562 | -0.97575020 | 0.71626639 | -1.36227277 | 0.1731118168 | 0.34 | 0.46852108 | -1 | -0.46852108 |\n",
       "| chrX |  9677029 |  9677753 | TBL1X   | K562 |  0.03047239 | 0.16591940 |  0.18365776 | 0.8542819441 | 0.88 | 0.05551733 |  1 |  0.05551733 |\n",
       "| chrX |  9677029 |  9677753 | WWC3    | K562 |  0.13370762 | 0.28952006 |  0.46182506 | 0.6442067761 | 0.80 | 0.09691001 |  1 |  0.09691001 |\n",
       "| chrX |  9708609 |  9709294 | TBL1X   | K562 |  0.04003918 | 0.22667398 |  0.17663773 | 0.8597929582 | 0.76 | 0.11918641 |  1 |  0.11918641 |\n",
       "| chrX |  9708609 |  9709294 | WWC3    | K562 |  0.62582394 | 0.32233104 |  1.94155653 | 0.0521908091 | 0.02 | 1.69897000 |  1 |  1.69897000 |\n",
       "| chrX |   989869 |   990606 | AKAP17A | K562 | -0.08686019 | 0.20609583 | -0.42145533 | 0.6734226256 | 0.60 | 0.22184875 | -1 | -0.22184875 |\n",
       "| chrX |   989869 |   990606 | ASMTL   | K562 | -0.35228454 | 0.33903910 | -1.03906760 | 0.2987732999 | 0.32 | 0.49485002 | -1 | -0.49485002 |\n",
       "| chrX |   989869 |   990606 | GTPBP6  | K562 | -0.04676766 | 0.27364580 | -0.17090582 | 0.8642978242 | 0.88 | 0.05551733 | -1 | -0.05551733 |\n",
       "| chrX |   989869 |   990606 | IL3RA   | K562 | -0.02900128 | 0.30387594 | -0.09543790 | 0.9239670175 | 1.00 | 0.00000000 | -1 |  0.00000000 |\n",
       "| chrX |   989869 |   990606 | P2RY8   | K562 |  0.04675685 | 0.10422377 |  0.44861977 | 0.6537059718 | 0.50 | 0.30103000 |  1 |  0.30103000 |\n",
       "| chrX |   989869 |   990606 | PLCXD1  | K562 |  0.50895005 | 0.32141562 |  1.58346394 | 0.1133157595 | 0.10 | 1.00000000 |  1 |  1.00000000 |\n",
       "| chrX |   989869 |   990606 | SLC25A6 | K562 | -0.01955756 | 0.09671264 | -0.20222338 | 0.8397420959 | 0.86 | 0.06550155 | -1 | -0.06550155 |\n",
       "| chrX |  9995644 |  9996243 | TBL1X   | K562 |  0.07277565 | 0.20869268 |  0.34872162 | 0.7272983084 | 0.96 | 0.01772877 |  1 |  0.01772877 |\n",
       "| chrX |  9995644 |  9996243 | WWC3    | K562 |  0.14007972 | 0.36964937 |  0.37895295 | 0.7047228041 | 0.50 | 0.30103000 |  1 |  0.30103000 |\n",
       "\n"
      ],
      "text/plain": [
       "       chr  start     end       TargetGene CellType beta         se        \n",
       "1      chr1 100037542 100039177 AGL        K562     -0.077644642 0.2332134 \n",
       "2      chr1 100037542 100039177 CDC14A     K562     -0.052996434 0.1329829 \n",
       "3      chr1 100037542 100039177 DPH5       K562      0.015649115 0.2912766 \n",
       "4      chr1 100037542 100039177 RTCA       K562      0.177007966 0.2575214 \n",
       "5      chr1 100037542 100039177 SLC30A7    K562      0.182636477 0.2017949 \n",
       "6      chr1 100037542 100039177 TRMT13     K562      0.278149723 0.1997208 \n",
       "7      chr1 100046482 100047206 AGL        K562     -0.645538947 0.5893975 \n",
       "8      chr1 100046482 100047206 CDC14A     K562      0.489822792 0.2017206 \n",
       "9      chr1 100046482 100047206 DPH5       K562     -0.661009183 0.7222549 \n",
       "10     chr1 100046482 100047206 RTCA       K562      0.531935744 0.3779446 \n",
       "11     chr1 100046482 100047206 SLC30A7    K562     -0.009294917 0.3679632 \n",
       "12     chr1 100046482 100047206 TRMT13     K562      0.518891321 0.2955449 \n",
       "13     chr1 100132484 100133456 AGL        K562     -0.129987547 0.2375903 \n",
       "14     chr1 100132484 100133456 CDC14A     K562      0.026643746 0.1323754 \n",
       "15     chr1 100132484 100133456 DPH5       K562     -0.246075930 0.2967571 \n",
       "16     chr1 100132484 100133456 RTCA       K562      0.209469434 0.2487288 \n",
       "17     chr1 100132484 100133456 SLC30A7    K562      0.268233696 0.1946153 \n",
       "18     chr1 100132484 100133456 TRMT13     K562     -0.161460122 0.1966209 \n",
       "19     chr1   1001789   1002126 ACAP3      K562     -0.829291702 0.5238130 \n",
       "20     chr1   1001789   1002126 AURKAIP1   K562      0.094140077 0.2637506 \n",
       "21     chr1   1001789   1002126 B3GALT6    K562      0.363637579 0.3459821 \n",
       "22     chr1   1001789   1002126 CCNL2      K562     -0.046231407 0.1973423 \n",
       "23     chr1   1001789   1002126 CDK11A     K562      0.420339744 0.3186048 \n",
       "24     chr1   1001789   1002126 CDK11B     K562     -0.139351326 0.1848092 \n",
       "25     chr1   1001789   1002126 GNB1       K562     -0.179448436 0.1339290 \n",
       "26     chr1   1001789   1002126 INTS11     K562      0.028280213 0.3079485 \n",
       "27     chr1   1001789   1002126 ISG15      K562     -0.095950079 0.2402632 \n",
       "28     chr1   1001789   1002126 MRPL20     K562     -0.310638999 0.2543354 \n",
       "29     chr1   1001789   1002126 NADK       K562     -0.545721254 0.3362475 \n",
       "30     chr1   1001789   1002126 NOC2L      K562      0.231374264 0.2654702 \n",
       "⋮      ⋮    ⋮         ⋮         ⋮          ⋮        ⋮            ⋮         \n",
       "337117 chrX  9341447   9342284  TBL1X      K562      0.13091193  0.14405903\n",
       "337118 chrX  9341447   9342284  WWC3       K562     -0.44808681  0.32105030\n",
       "337119 chrX  9342360   9343006  TBL1X      K562     -0.23399246  0.27365346\n",
       "337120 chrX  9342360   9343006  WWC3       K562      0.13346500  0.42229614\n",
       "337121 chrX  9454074   9454818  TBL1X      K562      0.50903990  0.18678133\n",
       "337122 chrX  9454074   9454818  WWC3       K562      0.09828904  0.39660187\n",
       "337123 chrX  9462962   9463506  TBL1X      K562      0.19375032  0.13610647\n",
       "337124 chrX  9462962   9463506  WWC3       K562      0.26672429  0.24387888\n",
       "337125 chrX  9464523   9465715  TBL1X      K562      0.28861239  0.13133554\n",
       "337126 chrX  9464523   9465715  WWC3       K562      0.01879929  0.25654025\n",
       "337127 chrX  9465796   9466165  TBL1X      K562     -0.22482643  0.24309582\n",
       "337128 chrX  9465796   9466165  WWC3       K562      0.08752088  0.39363776\n",
       "337129 chrX  9530748   9531451  TBL1X      K562     -0.06364313  0.24995111\n",
       "337130 chrX  9530748   9531451  WWC3       K562      0.30057935  0.39397194\n",
       "337131 chrX 96684019  96685481  DIAPH2     K562      0.38963774  0.10306650\n",
       "337132 chrX  9672024   9672560  TBL1X      K562      0.46436640  0.20622789\n",
       "337133 chrX  9672024   9672560  WWC3       K562     -0.97575020  0.71626639\n",
       "337134 chrX  9677029   9677753  TBL1X      K562      0.03047239  0.16591940\n",
       "337135 chrX  9677029   9677753  WWC3       K562      0.13370762  0.28952006\n",
       "337136 chrX  9708609   9709294  TBL1X      K562      0.04003918  0.22667398\n",
       "337137 chrX  9708609   9709294  WWC3       K562      0.62582394  0.32233104\n",
       "337138 chrX   989869    990606  AKAP17A    K562     -0.08686019  0.20609583\n",
       "337139 chrX   989869    990606  ASMTL      K562     -0.35228454  0.33903910\n",
       "337140 chrX   989869    990606  GTPBP6     K562     -0.04676766  0.27364580\n",
       "337141 chrX   989869    990606  IL3RA      K562     -0.02900128  0.30387594\n",
       "337142 chrX   989869    990606  P2RY8      K562      0.04675685  0.10422377\n",
       "337143 chrX   989869    990606  PLCXD1     K562      0.50895005  0.32141562\n",
       "337144 chrX   989869    990606  SLC25A6    K562     -0.01955756  0.09671264\n",
       "337145 chrX  9995644   9996243  TBL1X      K562      0.07277565  0.20869268\n",
       "337146 chrX  9995644   9996243  WWC3       K562      0.14007972  0.36964937\n",
       "       z           p            boot_basic_p boot_basic_p.log10 sign\n",
       "1      -0.33293395 0.73918414   0.68         0.167491087        -1  \n",
       "2      -0.39852081 0.69024632   0.76         0.119186408        -1  \n",
       "3       0.05372596 0.95715350   0.98         0.008773924         1  \n",
       "4       0.68735241 0.49186068   0.50         0.301029996         1  \n",
       "5       0.90505985 0.36543368   0.46         0.337242168         1  \n",
       "6       1.39269306 0.16371263   0.18         0.744727495         1  \n",
       "7      -1.09525227 0.27340613   0.44         0.356547324        -1  \n",
       "8       2.42822401 0.01517297   0.02         1.698970004         1  \n",
       "9      -0.91520213 0.36008553   0.46         0.337242168        -1  \n",
       "10      1.40744356 0.15929590   0.12         0.920818754         1  \n",
       "11     -0.02526046 0.97984722   0.76         0.119186408        -1  \n",
       "12      1.75571047 0.07913786   0.12         0.920818754         1  \n",
       "13     -0.54710788 0.58430462   0.56         0.251811973        -1  \n",
       "14      0.20127411 0.84048424   0.92         0.036212173         1  \n",
       "15     -0.82921652 0.40698190   0.38         0.420216403        -1  \n",
       "16      0.84216012 0.39969833   0.54         0.267606240         1  \n",
       "17      1.37827651 0.16811793   0.28         0.552841969         1  \n",
       "18     -0.82117498 0.41154661   0.56         0.251811973        -1  \n",
       "19     -1.58318275 0.11337982   0.20         0.698970004        -1  \n",
       "20      0.35692834 0.72114545   0.62         0.207608311         1  \n",
       "21      1.05103000 0.29324481   0.20         0.698970004         1  \n",
       "22     -0.23427009 0.81477530   0.72         0.142667504        -1  \n",
       "23      1.31931371 0.18706426   0.20         0.698970004         1  \n",
       "24     -0.75402793 0.45083245   0.26         0.585026652        -1  \n",
       "25     -1.33987773 0.18028510   0.28         0.552841969        -1  \n",
       "26      0.09183422 0.92682976   0.84         0.075720714         1  \n",
       "27     -0.39935409 0.68963231   0.92         0.036212173        -1  \n",
       "28     -1.22137542 0.22194391   0.38         0.420216403        -1  \n",
       "29     -1.62297493 0.10459476   0.12         0.920818754        -1  \n",
       "30      0.87156384 0.38344636   0.46         0.337242168         1  \n",
       "⋮      ⋮           ⋮            ⋮            ⋮                  ⋮   \n",
       "337117  0.90873808 0.3634883960 0.34         0.46852108          1  \n",
       "337118 -1.39569038 0.1628077521 0.24         0.61978876         -1  \n",
       "337119 -0.85506853 0.3925132121 0.36         0.44369750         -1  \n",
       "337120  0.31604598 0.7519676082 0.60         0.22184875          1  \n",
       "337121  2.72532533 0.0064238155 0.02         1.69897000          1  \n",
       "337122  0.24782799 0.8042674992 0.68         0.16749109          1  \n",
       "337123  1.42352028 0.1545853881 0.24         0.61978876          1  \n",
       "337124  1.09367525 0.2740974320 0.30         0.52287875          1  \n",
       "337125  2.19751937 0.0279833750 0.10         1.00000000          1  \n",
       "337126  0.07328006 0.9415832573 0.82         0.08618615          1  \n",
       "337127 -0.92484697 0.3550455139 0.46         0.33724217         -1  \n",
       "337128  0.22233862 0.8240502871 0.84         0.07572071          1  \n",
       "337129 -0.25462231 0.7990148256 0.72         0.14266750         -1  \n",
       "337130  0.76294608 0.4454955508 0.48         0.31875876          1  \n",
       "337131  3.78045007 0.0001565451 0.02         1.69897000          1  \n",
       "337132  2.25171488 0.0243402958 0.04         1.39794001          1  \n",
       "337133 -1.36227277 0.1731118168 0.34         0.46852108         -1  \n",
       "337134  0.18365776 0.8542819441 0.88         0.05551733          1  \n",
       "337135  0.46182506 0.6442067761 0.80         0.09691001          1  \n",
       "337136  0.17663773 0.8597929582 0.76         0.11918641          1  \n",
       "337137  1.94155653 0.0521908091 0.02         1.69897000          1  \n",
       "337138 -0.42145533 0.6734226256 0.60         0.22184875         -1  \n",
       "337139 -1.03906760 0.2987732999 0.32         0.49485002         -1  \n",
       "337140 -0.17090582 0.8642978242 0.88         0.05551733         -1  \n",
       "337141 -0.09543790 0.9239670175 1.00         0.00000000         -1  \n",
       "337142  0.44861977 0.6537059718 0.50         0.30103000          1  \n",
       "337143  1.58346394 0.1133157595 0.10         1.00000000          1  \n",
       "337144 -0.20222338 0.8397420959 0.86         0.06550155         -1  \n",
       "337145  0.34872162 0.7272983084 0.96         0.01772877          1  \n",
       "337146  0.37895295 0.7047228041 0.50         0.30103000          1  \n",
       "       boot_basic_p.log10.signed\n",
       "1      -0.167491087             \n",
       "2      -0.119186408             \n",
       "3       0.008773924             \n",
       "4       0.301029996             \n",
       "5       0.337242168             \n",
       "6       0.744727495             \n",
       "7      -0.356547324             \n",
       "8       1.698970004             \n",
       "9      -0.337242168             \n",
       "10      0.920818754             \n",
       "11     -0.119186408             \n",
       "12      0.920818754             \n",
       "13     -0.251811973             \n",
       "14      0.036212173             \n",
       "15     -0.420216403             \n",
       "16      0.267606240             \n",
       "17      0.552841969             \n",
       "18     -0.251811973             \n",
       "19     -0.698970004             \n",
       "20      0.207608311             \n",
       "21      0.698970004             \n",
       "22     -0.142667504             \n",
       "23      0.698970004             \n",
       "24     -0.585026652             \n",
       "25     -0.552841969             \n",
       "26      0.075720714             \n",
       "27     -0.036212173             \n",
       "28     -0.420216403             \n",
       "29     -0.920818754             \n",
       "30      0.337242168             \n",
       "⋮      ⋮                        \n",
       "337117  0.46852108              \n",
       "337118 -0.61978876              \n",
       "337119 -0.44369750              \n",
       "337120  0.22184875              \n",
       "337121  1.69897000              \n",
       "337122  0.16749109              \n",
       "337123  0.61978876              \n",
       "337124  0.52287875              \n",
       "337125  1.00000000              \n",
       "337126  0.08618615              \n",
       "337127 -0.33724217              \n",
       "337128  0.07572071              \n",
       "337129 -0.14266750              \n",
       "337130  0.31875876              \n",
       "337131  1.69897000              \n",
       "337132  1.39794001              \n",
       "337133 -0.46852108              \n",
       "337134  0.05551733              \n",
       "337135  0.09691001              \n",
       "337136  0.11918641              \n",
       "337137  1.69897000              \n",
       "337138 -0.22184875              \n",
       "337139 -0.49485002              \n",
       "337140 -0.05551733              \n",
       "337141  0.00000000              \n",
       "337142  0.30103000              \n",
       "337143  1.00000000              \n",
       "337144 -0.06550155              \n",
       "337145  0.01772877              \n",
       "337146  0.30103000              "
      ]
     },
     "metadata": {},
     "output_type": "display_data"
    }
   ],
   "source": [
    "df.output = as.data.frame(pairs.E2G.res,row.names = NULL)\n",
    "colnames(df.output)[1] = \"chr\"\n",
    "df.output[,\"CellType\"] = \"K562\"\n",
    "df.output = df.output[,c(\"chr\",\n",
    "                         \"start\",\n",
    "                         \"end\",\n",
    "                         \"TargetGene\",\n",
    "                         \"CellType\",\n",
    "                         \"beta\",\"se\",\"z\",\"p\",\"boot_basic_p\",\n",
    "                         \"boot_basic_p.log10\",\n",
    "                         \"sign\",\n",
    "                         \"boot_basic_p.log10.signed\")]\n",
    "data.table::fwrite(df.output,\n",
    "                   file = paste(dir.output,\"pairs.E2G.res.tsv.gz\",sep = \"/\"),\n",
    "                   row.names = F,\n",
    "                   quote = F,\n",
    "                   sep = \"\\t\")\n",
    "df.output"
   ]
  },
  {
   "cell_type": "code",
   "execution_count": 19,
   "id": "4d77c58e-215a-408d-8495-c68c72f559c3",
   "metadata": {},
   "outputs": [
    {
     "data": {
      "text/plain": [
       "R version 4.3.3 (2024-02-29)\n",
       "Platform: x86_64-conda-linux-gnu (64-bit)\n",
       "Running under: Red Hat Enterprise Linux 8.10 (Ootpa)\n",
       "\n",
       "Matrix products: default\n",
       "BLAS/LAPACK: /maps/projects/ralab/people/lpm537/software/anaconda3/envs/Notebook_E2G_240505/lib/libopenblasp-r0.3.27.so;  LAPACK version 3.12.0\n",
       "\n",
       "locale:\n",
       " [1] LC_CTYPE=en_US.UTF-8       LC_NUMERIC=C              \n",
       " [3] LC_TIME=en_US.UTF-8        LC_COLLATE=en_US.UTF-8    \n",
       " [5] LC_MONETARY=en_US.UTF-8    LC_MESSAGES=en_US.UTF-8   \n",
       " [7] LC_PAPER=en_US.UTF-8       LC_NAME=C                 \n",
       " [9] LC_ADDRESS=C               LC_TELEPHONE=C            \n",
       "[11] LC_MEASUREMENT=en_US.UTF-8 LC_IDENTIFICATION=C       \n",
       "\n",
       "time zone: Europe/Copenhagen\n",
       "tzcode source: system (glibc)\n",
       "\n",
       "attached base packages:\n",
       " [1] parallel  stats4    grid      stats     graphics  grDevices utils    \n",
       " [8] datasets  methods   base     \n",
       "\n",
       "other attached packages:\n",
       "[1] Matrix_1.6-5         GenomicRanges_1.54.1 GenomeInfoDb_1.38.1 \n",
       "[4] IRanges_2.36.0       S4Vectors_0.40.2     BiocGenerics_0.48.1 \n",
       "[7] genomation_1.34.0    Signac_1.13.0        SCENT_1.0.0         \n",
       "\n",
       "loaded via a namespace (and not attached):\n",
       "  [1] rstudioapi_0.16.0           jsonlite_1.8.8             \n",
       "  [3] magrittr_2.0.3              nloptr_2.0.3               \n",
       "  [5] rmarkdown_2.26              BiocIO_1.10.0              \n",
       "  [7] zlibbioc_1.48.0             vctrs_0.6.5                \n",
       "  [9] minqa_1.2.6                 Rsamtools_2.18.0           \n",
       " [11] RCurl_1.98-1.14             base64enc_0.1-3            \n",
       " [13] RcppRoll_0.3.0              htmltools_0.5.8.1          \n",
       " [15] S4Arrays_1.2.1              plotrix_3.8-4              \n",
       " [17] Formula_1.2-5               parallelly_1.37.1          \n",
       " [19] KernSmooth_2.23-22          htmlwidgets_1.6.4          \n",
       " [21] plyr_1.8.9                  impute_1.76.0              \n",
       " [23] uuid_1.2-0                  GenomicAlignments_1.36.0   \n",
       " [25] lifecycle_1.0.4             pkgconfig_2.0.3            \n",
       " [27] R6_2.5.1                    fastmap_1.1.1              \n",
       " [29] GenomeInfoDbData_1.2.11     MatrixGenerics_1.12.3      \n",
       " [31] future_1.33.2               digest_0.6.35              \n",
       " [33] colorspace_2.1-0            patchwork_1.2.0            \n",
       " [35] irlba_2.3.5.1               Hmisc_5.1-2                \n",
       " [37] progressr_0.14.0            fansi_1.0.6                \n",
       " [39] abind_1.4-5                 compiler_4.3.3             \n",
       " [41] bit64_4.0.5                 htmlTable_2.4.2            \n",
       " [43] backports_1.4.1             BiocParallel_1.36.0        \n",
       " [45] R.utils_2.12.3              MASS_7.3-60                \n",
       " [47] DelayedArray_0.26.7         rjson_0.2.21               \n",
       " [49] tools_4.3.3                 foreign_0.8-86             \n",
       " [51] future.apply_1.11.2         nnet_7.3-19                \n",
       " [53] R.oo_1.26.0                 glue_1.7.0                 \n",
       " [55] restfulr_0.0.15             nlme_3.1-164               \n",
       " [57] pbdZMQ_0.3-11               checkmate_2.3.1            \n",
       " [59] gridBase_0.4-7              cluster_2.1.6              \n",
       " [61] reshape2_1.4.4              generics_0.1.3             \n",
       " [63] gtable_0.3.5                BSgenome_1.68.0            \n",
       " [65] tzdb_0.4.0                  R.methodsS3_1.8.2          \n",
       " [67] tidyr_1.3.1                 seqPattern_1.34.0          \n",
       " [69] data.table_1.15.2           hms_1.1.3                  \n",
       " [71] sp_2.1-4                    utf8_1.2.4                 \n",
       " [73] XVector_0.42.0              pillar_1.9.0               \n",
       " [75] stringr_1.5.1               vroom_1.6.5                \n",
       " [77] spam_2.10-0                 IRdisplay_1.1              \n",
       " [79] splines_4.3.3               dplyr_1.1.4                \n",
       " [81] lattice_0.22-6              bit_4.0.5                  \n",
       " [83] rtracklayer_1.60.1          tidyselect_1.2.1           \n",
       " [85] Biostrings_2.70.1           pbapply_1.7-2              \n",
       " [87] knitr_1.46                  gridExtra_2.3              \n",
       " [89] SummarizedExperiment_1.30.2 xfun_0.43                  \n",
       " [91] Biobase_2.60.0              matrixStats_1.3.0          \n",
       " [93] stringi_1.8.3               yaml_2.3.8                 \n",
       " [95] boot_1.3-30                 evaluate_0.23              \n",
       " [97] codetools_0.2-20            tibble_3.2.1               \n",
       " [99] cli_3.6.2                   IRkernel_1.3.2             \n",
       "[101] rpart_4.1.23                repr_1.1.7                 \n",
       "[103] munsell_0.5.1               Rcpp_1.0.12                \n",
       "[105] globals_0.16.3              XML_3.99-0.16.1            \n",
       "[107] ggplot2_3.5.1               readr_2.1.5                \n",
       "[109] dotCall64_1.1-1             bitops_1.0-7               \n",
       "[111] lme4_1.1-35.3               listenv_0.9.1              \n",
       "[113] scales_1.3.0                SeuratObject_5.0.1         \n",
       "[115] purrr_1.0.2                 crayon_1.5.2               \n",
       "[117] rlang_1.1.3                 fastmatch_1.1-4            "
      ]
     },
     "metadata": {},
     "output_type": "display_data"
    }
   ],
   "source": [
    "sessionInfo()"
   ]
  },
  {
   "cell_type": "code",
   "execution_count": null,
   "id": "3c1a0283-11d6-4df1-bbd8-7b47e9e8ead8",
   "metadata": {},
   "outputs": [],
   "source": []
  }
 ],
 "metadata": {
  "kernelspec": {
   "display_name": "R",
   "language": "R",
   "name": "ir"
  },
  "language_info": {
   "codemirror_mode": "r",
   "file_extension": ".r",
   "mimetype": "text/x-r-source",
   "name": "R",
   "pygments_lexer": "r",
   "version": "4.3.3"
  }
 },
 "nbformat": 4,
 "nbformat_minor": 5
}
