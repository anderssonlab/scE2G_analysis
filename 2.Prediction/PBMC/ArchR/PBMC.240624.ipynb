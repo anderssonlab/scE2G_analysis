{
 "cells": [
  {
   "cell_type": "code",
   "execution_count": 1,
   "id": "c8466b35-cae5-4f62-8138-37b2de484a74",
   "metadata": {},
   "outputs": [
    {
     "name": "stderr",
     "output_type": "stream",
     "text": [
      "\n",
      "                                                   / |\n",
      "                                                 /    \\\n",
      "            .                                  /      |.\n",
      "            \\\\\\                              /        |.\n",
      "              \\\\\\                          /           `|.\n",
      "                \\\\\\                      /              |.\n",
      "                  \\                    /                |\\\n",
      "                  \\\\#####\\           /                  ||\n",
      "                ==###########>      /                   ||\n",
      "                 \\\\##==......\\    /                     ||\n",
      "            ______ =       =|__ /__                     ||      \\\\\\\n",
      "        ,--' ,----`-,__ ___/'  --,-`-===================##========>\n",
      "       \\               '        ##_______ _____ ,--,__,=##,__   ///\n",
      "        ,    __==    ___,-,__,--'#'  ==='      `-'    | ##,-/\n",
      "        -,____,---'       \\\\####\\\\________________,--\\\\_##,/\n",
      "           ___      .______        ______  __    __  .______      \n",
      "          /   \\     |   _  \\      /      ||  |  |  | |   _  \\     \n",
      "         /  ^  \\    |  |_)  |    |  ,----'|  |__|  | |  |_)  |    \n",
      "        /  /_\\  \\   |      /     |  |     |   __   | |      /     \n",
      "       /  _____  \\  |  |\\  \\\\___ |  `----.|  |  |  | |  |\\  \\\\___.\n",
      "      /__/     \\__\\ | _| `._____| \\______||__|  |__| | _| `._____|\n",
      "    \n",
      "\n",
      "ArchR : Version 1.0.2\n",
      "For more information see our website : www.ArchRProject.com\n",
      "If you encounter a bug please report : https://github.com/GreenleafLab/ArchR/issues\n",
      "\n",
      "Loading Required Packages...\n",
      "\n",
      "\tLoading Package : grid v4.3.3\n",
      "\n",
      "\tLoading Package : gridExtra v2.3\n",
      "\n",
      "\tLoading Package : gtools v3.9.5\n",
      "\n",
      "\tLoading Package : gtable v0.3.5\n",
      "\n",
      "\tLoading Package : ggplot2 v3.5.1\n",
      "\n",
      "\tLoading Package : magrittr v2.0.3\n",
      "\n",
      "\tLoading Package : plyr v1.8.9\n",
      "\n",
      "\tLoading Package : stringr v1.5.1\n",
      "\n",
      "\tLoading Package : data.table v1.15.2\n",
      "\n",
      "\tLoading Package : matrixStats v1.3.0\n",
      "\n",
      "\tLoading Package : S4Vectors v0.40.2\n",
      "\n",
      "\tLoading Package : GenomicRanges v1.54.1\n",
      "\n",
      "\tLoading Package : BiocGenerics v0.48.1\n",
      "\n",
      "\tLoading Package : Matrix v1.6.5\n",
      "\n",
      "\tLoading Package : Rcpp v1.0.12\n",
      "\n",
      "\tLoading Package : SummarizedExperiment v1.30.2\n",
      "\n",
      "\tLoading Package : rhdf5 v2.44.0\n",
      "\n",
      "Loading required package: SeuratObject\n",
      "\n",
      "Loading required package: sp\n",
      "\n",
      "\n",
      "Attaching package: ‘sp’\n",
      "\n",
      "\n",
      "The following object is masked from ‘package:IRanges’:\n",
      "\n",
      "    %over%\n",
      "\n",
      "\n",
      "‘SeuratObject’ was built under R 4.3.2 but the current version is\n",
      "4.3.3; it is recomended that you reinstall ‘SeuratObject’ as the ABI\n",
      "for R may have changed\n",
      "\n",
      "‘SeuratObject’ was built with package ‘Matrix’ 1.6.3 but the current\n",
      "version is 1.6.5; it is recomended that you reinstall ‘SeuratObject’ as\n",
      "the ABI for ‘Matrix’ may have changed\n",
      "\n",
      "\n",
      "Attaching package: ‘SeuratObject’\n",
      "\n",
      "\n",
      "The following object is masked from ‘package:SummarizedExperiment’:\n",
      "\n",
      "    Assays\n",
      "\n",
      "\n",
      "The following object is masked from ‘package:GenomicRanges’:\n",
      "\n",
      "    intersect\n",
      "\n",
      "\n",
      "The following object is masked from ‘package:GenomeInfoDb’:\n",
      "\n",
      "    intersect\n",
      "\n",
      "\n",
      "The following object is masked from ‘package:IRanges’:\n",
      "\n",
      "    intersect\n",
      "\n",
      "\n",
      "The following object is masked from ‘package:S4Vectors’:\n",
      "\n",
      "    intersect\n",
      "\n",
      "\n",
      "The following object is masked from ‘package:BiocGenerics’:\n",
      "\n",
      "    intersect\n",
      "\n",
      "\n",
      "The following object is masked from ‘package:base’:\n",
      "\n",
      "    intersect\n",
      "\n",
      "\n",
      "\n",
      "Attaching package: ‘Seurat’\n",
      "\n",
      "\n",
      "The following object is masked from ‘package:SummarizedExperiment’:\n",
      "\n",
      "    Assays\n",
      "\n",
      "\n",
      "Warning message:\n",
      "“replacing previous import ‘Biostrings::pattern’ by ‘grid::pattern’ when loading ‘genomation’”\n"
     ]
    }
   ],
   "source": [
    "library(ArchR)\n",
    "library(Seurat)\n",
    "library(Signac)\n",
    "library(magrittr)\n",
    "library(genomation)\n",
    "library(GenomicRanges)\n",
    "library(Matrix)\n",
    "library(ggplot2)"
   ]
  },
  {
   "cell_type": "markdown",
   "id": "e85020d7-d358-492d-9358-c81270f4b624",
   "metadata": {},
   "source": [
    "Specify file path"
   ]
  },
  {
   "cell_type": "code",
   "execution_count": 2,
   "id": "1bec6690-52ec-450d-bba7-7d4528a185cd",
   "metadata": {},
   "outputs": [],
   "source": [
    "path.seurat = \"/maps/projects/ralab_nnfc-AUDIT/people/lpm537/project/E2G/analysis/E2G_240503/data/PBMC/1.prepare_data/2.merge_peaks.240624/obj.seurat.rds\"\n",
    "path.pairs.E2G = \"/maps/projects/ralab_nnfc-AUDIT/people/lpm537/project/E2G/analysis/E2G_240503/data/PBMC/1.prepare_data/2.merge_peaks.240624/pairs.rds\"\n",
    "dir.output = \"/maps/projects/ralab_nnfc-AUDIT/people/lpm537/project/E2G/analysis/E2G_240503/data/PBMC/2.Genome_wide_prediction/ArchR/PBMC.240624/\""
   ]
  },
  {
   "cell_type": "code",
   "execution_count": 3,
   "id": "340dac32-44ac-4231-b964-b5f3b9e2dbde",
   "metadata": {},
   "outputs": [],
   "source": [
    "n.cores = 16\n",
    "maxDist = 1000000"
   ]
  },
  {
   "cell_type": "code",
   "execution_count": 4,
   "id": "da973385-4c81-4b1c-9669-cf5933b23a39",
   "metadata": {},
   "outputs": [
    {
     "name": "stderr",
     "output_type": "stream",
     "text": [
      "Setting default number of Parallel threads to 16.\n",
      "\n",
      "Setting default genome to Hg38.\n",
      "\n"
     ]
    }
   ],
   "source": [
    "addArchRThreads(threads = n.cores) \n",
    "addArchRGenome(\"hg38\")"
   ]
  },
  {
   "cell_type": "markdown",
   "id": "eeb26496-d3b9-4778-92ed-9c63a5018aef",
   "metadata": {},
   "source": [
    "Import seurat object"
   ]
  },
  {
   "cell_type": "code",
   "execution_count": 5,
   "id": "c9b19a09-be95-4d9a-bdc3-0530980d4757",
   "metadata": {},
   "outputs": [],
   "source": [
    "obj.seurat = readRDS(path.seurat)"
   ]
  },
  {
   "cell_type": "markdown",
   "id": "86be3e66-c954-4620-9e64-c6a1c0fcb84c",
   "metadata": {},
   "source": [
    "Import candidate E-G pairs"
   ]
  },
  {
   "cell_type": "code",
   "execution_count": 6,
   "id": "6f363969-bf0b-45ce-858c-a8cb64cc210a",
   "metadata": {},
   "outputs": [],
   "source": [
    "pairs.E2G = readRDS(path.pairs.E2G)"
   ]
  },
  {
   "cell_type": "markdown",
   "id": "3538ffdc-4fed-48eb-9c9d-86805a91cf06",
   "metadata": {},
   "source": [
    "Create an ArchRProject"
   ]
  },
  {
   "cell_type": "code",
   "execution_count": 7,
   "id": "0300f485-fafa-4cef-b9d0-534108ec6f95",
   "metadata": {},
   "outputs": [
    {
     "name": "stdout",
     "output_type": "stream",
     "text": [
      "List of 4\n",
      " $ :Formal class 'Fragment' [package \"Signac\"] with 3 slots\n",
      "  .. ..@ path : chr \"/maps/projects/ralab_nnfc-AUDIT/people/lpm537/project/E2G/processed/10x_multiome_230720/10x/cellranger_res/Mult\"| __truncated__\n",
      "  .. ..@ hash : chr [1:2] \"207cb60f65ef2e2be39e539ee5520519\" \"e5c3f5ba4228a5e94f46a5f1ce8718aa\"\n",
      "  .. ..@ cells: Named chr(0) \n",
      "  .. .. ..- attr(*, \"names\")= chr(0) \n",
      " $ :Formal class 'Fragment' [package \"Signac\"] with 3 slots\n",
      "  .. ..@ path : chr \"/maps/projects/ralab_nnfc-AUDIT/people/lpm537/project/E2G/processed/10x_multiome_230720/10x/cellranger_res/Mult\"| __truncated__\n",
      "  .. ..@ hash : chr [1:2] \"06b335033e26e5c283ebdb4f5bbbba87\" \"f3de618091078518eeb6582f6c90db76\"\n",
      "  .. ..@ cells: Named chr(0) \n",
      "  .. .. ..- attr(*, \"names\")= chr(0) \n",
      " $ :Formal class 'Fragment' [package \"Signac\"] with 3 slots\n",
      "  .. ..@ path : chr \"/maps/projects/ralab_nnfc-AUDIT/people/lpm537/project/E2G/processed/10x_multiome_230720/10x/cellranger_res/Mult\"| __truncated__\n",
      "  .. ..@ hash : chr [1:2] \"e23e8d9fedc84eb158688bbc4e1c904e\" \"c7fe9d0868a71e43a3b19407de0c8f5c\"\n",
      "  .. ..@ cells: Named chr [1:9226] \"AAACAGCCAACAACAA-1\" \"AAACAGCCACCGGCTA-1\" \"AAACAGCCAGGACACA-1\" \"AAACAGCCATCCTAGA-1\" ...\n",
      "  .. .. ..- attr(*, \"names\")= chr [1:9226] \"Multiome10x_05_AAACAGCCAACAACAA-1\" \"Multiome10x_05_AAACAGCCACCGGCTA-1\" \"Multiome10x_05_AAACAGCCAGGACACA-1\" \"Multiome10x_05_AAACAGCCATCCTAGA-1\" ...\n",
      " $ :Formal class 'Fragment' [package \"Signac\"] with 3 slots\n",
      "  .. ..@ path : chr \"/maps/projects/ralab_nnfc-AUDIT/people/lpm537/project/E2G/processed/10x_multiome_230720/10x/cellranger_res/Mult\"| __truncated__\n",
      "  .. ..@ hash : chr [1:2] \"fc74ab4a40b4616b2f69e9416d0b2e69\" \"b44a2ebc80a9d72ef71f9a4ce787f0e1\"\n",
      "  .. ..@ cells: Named chr [1:8957] \"AAACAGCCAACAACAA-1\" \"AAACAGCCAAGGACCA-1\" \"AAACAGCCACAATGCC-1\" \"AAACAGCCATGAGCAG-1\" ...\n",
      "  .. .. ..- attr(*, \"names\")= chr [1:8957] \"Multiome10x_06_AAACAGCCAACAACAA-1\" \"Multiome10x_06_AAACAGCCAAGGACCA-1\" \"Multiome10x_06_AAACAGCCACAATGCC-1\" \"Multiome10x_06_AAACAGCCATGAGCAG-1\" ...\n"
     ]
    }
   ],
   "source": [
    "str(Fragments(obj.seurat))"
   ]
  },
  {
   "cell_type": "code",
   "execution_count": 8,
   "id": "1753ffaa-89e2-43bf-bcf6-19937782d63a",
   "metadata": {},
   "outputs": [
    {
     "name": "stderr",
     "output_type": "stream",
     "text": [
      "Using GeneAnnotation set by addArchRGenome(Hg38)!\n",
      "\n",
      "Using GeneAnnotation set by addArchRGenome(Hg38)!\n",
      "\n",
      "ArchR logging to : ArchRLogs/ArchR-createArrows-26cc6a54f98d05-Date-2024-06-24_Time-20-12-19.677625.log\n",
      "If there is an issue, please report to github with logFile!\n",
      "\n",
      "Cleaning Temporary Files\n",
      "\n",
      "2024-06-24 20:12:20.594412 : Batch Execution w/ safelapply!, 0 mins elapsed.\n",
      "\n",
      "ArchR logging successful to : ArchRLogs/ArchR-createArrows-26cc6a54f98d05-Date-2024-06-24_Time-20-12-19.677625.log\n",
      "\n"
     ]
    }
   ],
   "source": [
    "ArrowFiles <- createArrowFiles(\n",
    "  inputFiles = c(Fragments(obj.seurat)[[3]]@path,\n",
    "                 Fragments(obj.seurat)[[4]]@path),\n",
    "  sampleNames = c(\"Multiome10x_05\",\n",
    "                  \"Multiome10x_06\"),\n",
    "  validBarcodes = list(Multiome10x_05 = unname(Fragments(obj.seurat)[[3]]@cells),\n",
    "                       Multiome10x_06 = unname(Fragments(obj.seurat)[[4]]@cells)),\n",
    "  addTileMat = T,\n",
    "  addGeneScoreMat = F,\n",
    "  force = T\n",
    ")"
   ]
  },
  {
   "cell_type": "code",
   "execution_count": 9,
   "id": "ada3db45-d050-4659-a7cf-2891e04b1249",
   "metadata": {},
   "outputs": [
    {
     "data": {
      "text/html": [
       "<style>\n",
       ".list-inline {list-style: none; margin:0; padding: 0}\n",
       ".list-inline>li {display: inline-block}\n",
       ".list-inline>li:not(:last-child)::after {content: \"\\00b7\"; padding: 0 .5ex}\n",
       "</style>\n",
       "<ol class=list-inline><li>'Multiome10x_05.arrow'</li><li>'Multiome10x_06.arrow'</li></ol>\n"
      ],
      "text/latex": [
       "\\begin{enumerate*}\n",
       "\\item 'Multiome10x\\_05.arrow'\n",
       "\\item 'Multiome10x\\_06.arrow'\n",
       "\\end{enumerate*}\n"
      ],
      "text/markdown": [
       "1. 'Multiome10x_05.arrow'\n",
       "2. 'Multiome10x_06.arrow'\n",
       "\n",
       "\n"
      ],
      "text/plain": [
       "[1] \"Multiome10x_05.arrow\" \"Multiome10x_06.arrow\""
      ]
     },
     "metadata": {},
     "output_type": "display_data"
    }
   ],
   "source": [
    "ArrowFiles"
   ]
  },
  {
   "cell_type": "code",
   "execution_count": 10,
   "id": "5ba28283-d488-4982-8d4c-745fc3f59365",
   "metadata": {},
   "outputs": [
    {
     "name": "stderr",
     "output_type": "stream",
     "text": [
      "Warning message in dir.create(paste(dir.output, \"ArchR\", sep = \"/\"), recursive = T):\n",
      "“'/maps/projects/ralab_nnfc-AUDIT/people/lpm537/project/E2G/analysis/E2G_240503/data/PBMC/2.Genome_wide_prediction/ArchR/PBMC.240624//ArchR' already exists”\n"
     ]
    }
   ],
   "source": [
    "dir.create(paste(dir.output,\"ArchR\",sep=\"/\"),recursive = T)"
   ]
  },
  {
   "cell_type": "code",
   "execution_count": 11,
   "id": "aa217507-8323-43bf-b23c-0ec25ee33c85",
   "metadata": {},
   "outputs": [
    {
     "name": "stderr",
     "output_type": "stream",
     "text": [
      "Using GeneAnnotation set by addArchRGenome(Hg38)!\n",
      "\n",
      "Using GeneAnnotation set by addArchRGenome(Hg38)!\n",
      "\n",
      "Validating Arrows...\n",
      "\n",
      "Getting SampleNames...\n",
      "\n",
      "\n",
      "\n",
      "Copying ArrowFiles to Ouptut Directory! If you want to save disk space set copyArrows = FALSE\n",
      "\n",
      "1 \n",
      "2 \n",
      "\n",
      "\n",
      "Getting Cell Metadata...\n",
      "\n",
      "\n",
      "\n",
      "Merging Cell Metadata...\n",
      "\n",
      "Initializing ArchRProject...\n",
      "\n",
      "\n",
      "                                                   / |\n",
      "                                                 /    \\\n",
      "            .                                  /      |.\n",
      "            \\\\\\                              /        |.\n",
      "              \\\\\\                          /           `|.\n",
      "                \\\\\\                      /              |.\n",
      "                  \\                    /                |\\\n",
      "                  \\\\#####\\           /                  ||\n",
      "                ==###########>      /                   ||\n",
      "                 \\\\##==......\\    /                     ||\n",
      "            ______ =       =|__ /__                     ||      \\\\\\\n",
      "        ,--' ,----`-,__ ___/'  --,-`-===================##========>\n",
      "       \\               '        ##_______ _____ ,--,__,=##,__   ///\n",
      "        ,    __==    ___,-,__,--'#'  ==='      `-'    | ##,-/\n",
      "        -,____,---'       \\\\####\\\\________________,--\\\\_##,/\n",
      "           ___      .______        ______  __    __  .______      \n",
      "          /   \\     |   _  \\      /      ||  |  |  | |   _  \\     \n",
      "         /  ^  \\    |  |_)  |    |  ,----'|  |__|  | |  |_)  |    \n",
      "        /  /_\\  \\   |      /     |  |     |   __   | |      /     \n",
      "       /  _____  \\  |  |\\  \\\\___ |  `----.|  |  |  | |  |\\  \\\\___.\n",
      "      /__/     \\__\\ | _| `._____| \\______||__|  |__| | _| `._____|\n",
      "    \n",
      "\n"
     ]
    }
   ],
   "source": [
    "obj.ArchR <- ArchRProject(\n",
    "  ArrowFiles = ArrowFiles, \n",
    "  outputDirectory = paste(dir.output,\"ArchR\",sep=\"/\"),\n",
    "  copyArrows = TRUE \n",
    ")"
   ]
  },
  {
   "cell_type": "code",
   "execution_count": 12,
   "id": "f9795403-545f-4385-aa38-2c70b1b2fb21",
   "metadata": {},
   "outputs": [
    {
     "name": "stderr",
     "output_type": "stream",
     "text": [
      "\n",
      "           ___      .______        ______  __    __  .______      \n",
      "          /   \\     |   _  \\      /      ||  |  |  | |   _  \\     \n",
      "         /  ^  \\    |  |_)  |    |  ,----'|  |__|  | |  |_)  |    \n",
      "        /  /_\\  \\   |      /     |  |     |   __   | |      /     \n",
      "       /  _____  \\  |  |\\  \\\\___ |  `----.|  |  |  | |  |\\  \\\\___.\n",
      "      /__/     \\__\\ | _| `._____| \\______||__|  |__| | _| `._____|\n",
      "    \n",
      "\n"
     ]
    },
    {
     "data": {
      "text/plain": [
       "class: ArchRProject \n",
       "outputDirectory: /maps/projects/ralab_nnfc-AUDIT/people/lpm537/project/E2G/analysis/E2G_240503/data/PBMC/2.Genome_wide_prediction/ArchR/PBMC.240624/ArchR \n",
       "samples(2): Multiome10x_05 Multiome10x_06\n",
       "sampleColData names(1): ArrowFiles\n",
       "cellColData names(13): Sample TSSEnrichment ... nDiFrags BlacklistRatio\n",
       "numberOfCells(1): 18145\n",
       "medianTSS(1): 18.227\n",
       "medianFrags(1): 18622"
      ]
     },
     "metadata": {},
     "output_type": "display_data"
    }
   ],
   "source": [
    "obj.ArchR"
   ]
  },
  {
   "cell_type": "code",
   "execution_count": 13,
   "id": "ee876dd5-0b22-46fd-9015-7e22144c5024",
   "metadata": {},
   "outputs": [
    {
     "name": "stderr",
     "output_type": "stream",
     "text": [
      "Checking Inputs...\n",
      "\n",
      "ArchR logging to : ArchRLogs/ArchR-addIterativeLSI-26cc6a2faaf969-Date-2024-06-24_Time-20-37-15.974509.log\n",
      "If there is an issue, please report to github with logFile!\n",
      "\n",
      "2024-06-24 20:37:19.339246 : Computing Total Across All Features, 0.008 mins elapsed.\n",
      "\n",
      "2024-06-24 20:37:33.833395 : Computing Top Features, 0.249 mins elapsed.\n",
      "\n",
      "###########\n",
      "2024-06-24 20:37:37.568576 : Running LSI (1 of 2) on Top Features, 0.312 mins elapsed.\n",
      "###########\n",
      "\n",
      "2024-06-24 20:37:37.640569 : Sampling Cells (N = 10001) for Estimated LSI, 0.313 mins elapsed.\n",
      "\n",
      "2024-06-24 20:37:37.653108 : Creating Sampled Partial Matrix, 0.313 mins elapsed.\n",
      "\n",
      "2024-06-24 20:38:15.378062 : Computing Estimated LSI (projectAll = FALSE), 0.942 mins elapsed.\n",
      "\n",
      "2024-06-24 20:39:44.285042 : Identifying Clusters, 2.424 mins elapsed.\n",
      "\n",
      "Warning message:\n",
      "“Data is of class matrix. Coercing to dgCMatrix.”\n",
      "2024-06-24 20:40:01.434343 : Identified 6 Clusters, 2.709 mins elapsed.\n",
      "\n",
      "2024-06-24 20:40:01.47112 : Saving LSI Iteration, 2.71 mins elapsed.\n",
      "\n",
      "Found more than one class \"dist\" in cache; using the first, from namespace 'BiocGenerics'\n",
      "\n",
      "Also defined by ‘spam’\n",
      "\n",
      "Found more than one class \"dist\" in cache; using the first, from namespace 'BiocGenerics'\n",
      "\n",
      "Also defined by ‘spam’\n",
      "\n"
     ]
    },
    {
     "name": "stdout",
     "output_type": "stream",
     "text": [
      "\n",
      "************************************************************\n",
      "2024-06-24 20:40:19.599926 : ERROR Found in .saveIteration for  \n",
      "LogFile = ArchRLogs/ArchR-addIterativeLSI-26cc6a2faaf969-Date-2024-06-24_Time-20-37-15.974509.log\n",
      "\n",
      "<simpleError in g$grobs[[legend]]: no such index at level 2\n",
      ">\n",
      "\n",
      "************************************************************\n",
      "\n"
     ]
    },
    {
     "name": "stderr",
     "output_type": "stream",
     "text": [
      "2024-06-24 20:40:19.604762 : Creating Cluster Matrix on the total Group Features, 3.012 mins elapsed.\n",
      "\n",
      "2024-06-24 20:40:40.780589 : Computing Variable Features, 3.365 mins elapsed.\n",
      "\n",
      "###########\n",
      "2024-06-24 20:40:41.063422 : Running LSI (2 of 2) on Variable Features, 3.37 mins elapsed.\n",
      "###########\n",
      "\n",
      "2024-06-24 20:40:41.087628 : Creating Partial Matrix, 3.37 mins elapsed.\n",
      "\n",
      "2024-06-24 20:41:31.445395 : Computing LSI, 4.21 mins elapsed.\n",
      "\n",
      "2024-06-24 20:42:31.569856 : Finished Running IterativeLSI, 5.212 mins elapsed.\n",
      "\n"
     ]
    }
   ],
   "source": [
    "obj.ArchR = addIterativeLSI(\n",
    "    ArchRProj = obj.ArchR,\n",
    "    useMatrix = \"TileMatrix\", \n",
    "    name = \"IterativeLSI\"\n",
    ")"
   ]
  },
  {
   "cell_type": "code",
   "execution_count": 14,
   "id": "2c1d334b-7fd7-425a-bb8d-7be4cbedd3e4",
   "metadata": {},
   "outputs": [],
   "source": [
    "obj.ArchR = addPeakSet(obj.ArchR,\n",
    "                       peakSet = reduce(pairs.E2G))"
   ]
  },
  {
   "cell_type": "code",
   "execution_count": 15,
   "id": "e25c14db-eb4e-4b94-8862-eb34246a365c",
   "metadata": {},
   "outputs": [
    {
     "name": "stderr",
     "output_type": "stream",
     "text": [
      "ArchR logging to : ArchRLogs/ArchR-addPeakMatrix-26cc6a1b4d2f39-Date-2024-06-24_Time-20-42-36.873718.log\n",
      "If there is an issue, please report to github with logFile!\n",
      "\n",
      "2024-06-24 20:42:38.38385 : Batch Execution w/ safelapply!, 0 mins elapsed.\n",
      "\n",
      "ArchR logging successful to : ArchRLogs/ArchR-addPeakMatrix-26cc6a1b4d2f39-Date-2024-06-24_Time-20-42-36.873718.log\n",
      "\n"
     ]
    }
   ],
   "source": [
    "obj.ArchR = addPeakMatrix(obj.ArchR)"
   ]
  },
  {
   "cell_type": "code",
   "execution_count": 16,
   "id": "8887890f-a614-412f-83fb-9a44ecbd0e74",
   "metadata": {},
   "outputs": [
    {
     "name": "stderr",
     "output_type": "stream",
     "text": [
      "Importing Feature Matrix 1 of 1\n",
      "\n",
      "Re-ordering RNA matricies for consistency.\n",
      "\n",
      "Importing Feature Matrix 1 of 1\n",
      "\n",
      "Re-ordering RNA matricies for consistency.\n",
      "\n"
     ]
    }
   ],
   "source": [
    "paths.h5 = c(\"/maps/projects/ralab_nnfc-AUDIT/people/lpm537/project/E2G/processed/10x_multiome_230720/10x/cellranger_res/Multiome10x_05/outs/raw_feature_bc_matrix.h5\",\n",
    "             \"/maps/projects/ralab_nnfc-AUDIT/people/lpm537/project/E2G/processed/10x_multiome_230720/10x/cellranger_res/Multiome10x_06/outs/raw_feature_bc_matrix.h5\")\n",
    "names.sample = c(\"Multiome10x_05\",\n",
    "                 \"Multiome10x_06\")\n",
    "list.seRNA = lapply(1:length(names.sample),function(x){\n",
    "    import10xFeatureMatrix(paths.h5[x],\n",
    "                           names.sample[x])\n",
    "})"
   ]
  },
  {
   "cell_type": "code",
   "execution_count": 17,
   "id": "93d78aef-1337-4876-9bc8-38bfd7d6e112",
   "metadata": {},
   "outputs": [
    {
     "data": {
      "text/html": [
       "61218"
      ],
      "text/latex": [
       "61218"
      ],
      "text/markdown": [
       "61218"
      ],
      "text/plain": [
       "[1] 61218"
      ]
     },
     "metadata": {},
     "output_type": "display_data"
    },
    {
     "data": {
      "text/html": [
       "61202"
      ],
      "text/latex": [
       "61202"
      ],
      "text/markdown": [
       "61202"
      ],
      "text/plain": [
       "[1] 61202"
      ]
     },
     "metadata": {},
     "output_type": "display_data"
    }
   ],
   "source": [
    "id.intersect = rowData(list.seRNA[[1]])[,\"id\"]\n",
    "length(id.intersect)\n",
    "for(n.tmp in 2){\n",
    "    id.intersect = intersect(id.intersect,rowData(list.seRNA[[n.tmp]])[,\"id\"])\n",
    "}\n",
    "length(id.intersect)"
   ]
  },
  {
   "cell_type": "code",
   "execution_count": 18,
   "id": "504f6e06-183d-4ecf-a745-32719a2972d8",
   "metadata": {},
   "outputs": [
    {
     "data": {
      "text/plain": [
       "class: RangedSummarizedExperiment \n",
       "dim: 61202 1466924 \n",
       "metadata(0):\n",
       "assays(1): counts\n",
       "rownames(61202): DDX11L1 MIR6859-1 ... RNA5-8SN5 ENSG00000273937\n",
       "rowData names(5): feature_type genome id interval name\n",
       "colnames(1466924): Multiome10x_05#AAACAGCCAAACAACA-1\n",
       "  Multiome10x_05#AAACAGCCAAACATAG-1 ...\n",
       "  Multiome10x_06#TTTGTTGGTTTGTGGA-1 Multiome10x_06#TTTGTTGGTTTGTTGC-1\n",
       "colData names(0):"
      ]
     },
     "metadata": {},
     "output_type": "display_data"
    }
   ],
   "source": [
    "seRNA = list.seRNA[[1]][rowData(list.seRNA[[1]])[,\"id\"] %in% id.intersect]\n",
    "for(n.tmp in 2){\n",
    "    seRNA = cbind(seRNA,list.seRNA[[n.tmp]][rowData(list.seRNA[[n.tmp]])[,\"id\"] %in% id.intersect])\n",
    "}\n",
    "seRNA"
   ]
  },
  {
   "cell_type": "code",
   "execution_count": 19,
   "id": "895234f3-e668-4e83-adf0-562024a6711b",
   "metadata": {},
   "outputs": [],
   "source": [
    "seRNA = seRNA[,rownames(obj.ArchR@cellColData)]"
   ]
  },
  {
   "cell_type": "code",
   "execution_count": 20,
   "id": "4656d98c-a9cc-486a-afaa-fe59ca6ef055",
   "metadata": {},
   "outputs": [
    {
     "data": {
      "text/plain": [
       "class: RangedSummarizedExperiment \n",
       "dim: 61202 18145 \n",
       "metadata(0):\n",
       "assays(1): counts\n",
       "rownames(61202): DDX11L1 MIR6859-1 ... RNA5-8SN5 ENSG00000273937\n",
       "rowData names(5): feature_type genome id interval name\n",
       "colnames(18145): Multiome10x_05#GCTGTACCAATCATGT-1\n",
       "  Multiome10x_05#TTATCCGTCTTAATGG-1 ...\n",
       "  Multiome10x_06#AATGGCGCAAACCCTA-1 Multiome10x_06#CACATAATCCTCAGTC-1\n",
       "colData names(0):"
      ]
     },
     "metadata": {},
     "output_type": "display_data"
    }
   ],
   "source": [
    "seRNA"
   ]
  },
  {
   "cell_type": "code",
   "execution_count": 21,
   "id": "65cb2097-9075-4ee4-9e54-dd288dc50736",
   "metadata": {},
   "outputs": [
    {
     "name": "stderr",
     "output_type": "stream",
     "text": [
      "ArchR logging to : ArchRLogs/ArchR-addGeneExpressionMatrix-26cc6a42226ba5-Date-2024-06-24_Time-20-49-08.848514.log\n",
      "If there is an issue, please report to github with logFile!\n",
      "\n",
      "Overlap w/ scATAC = 1\n",
      "\n",
      "2024-06-24 20:49:09.648947 : \n",
      "\n",
      "Overlap Per Sample w/ scATAC : Multiome10x_05=9214,Multiome10x_06=8931\n",
      "\n",
      "2024-06-24 20:49:09.688148 : \n",
      "\n",
      "2024-06-24 20:49:13.60912 : Batch Execution w/ safelapply!, 0 mins elapsed.\n",
      "\n",
      "ArchR logging successful to : ArchRLogs/ArchR-addGeneExpressionMatrix-26cc6a42226ba5-Date-2024-06-24_Time-20-49-08.848514.log\n",
      "\n"
     ]
    }
   ],
   "source": [
    "obj.ArchR = addGeneExpressionMatrix(obj.ArchR,\n",
    "                                    seRNA = seRNA,\n",
    "                                    strictMatch = T)"
   ]
  },
  {
   "cell_type": "markdown",
   "id": "e4318703-a143-40c0-b159-274d05033bbc",
   "metadata": {},
   "source": [
    "Run ArchR prediction"
   ]
  },
  {
   "cell_type": "code",
   "execution_count": 22,
   "id": "47c8fd5f-19ec-46e6-af87-57502c1e1ff9",
   "metadata": {},
   "outputs": [
    {
     "name": "stderr",
     "output_type": "stream",
     "text": [
      "ArchR logging to : ArchRLogs/ArchR-addPeak2GeneLinks-26cc6a75a051b7-Date-2024-06-24_Time-20-53-17.843859.log\n",
      "If there is an issue, please report to github with logFile!\n",
      "\n",
      "2024-06-24 20:53:18.229981 : Getting Available Matrices, 0.006 mins elapsed.\n",
      "\n",
      "2024-06-24 20:53:21.035951 : Filtered Low Prediction Score Cells (0 of 18145, 0), 0.022 mins elapsed.\n",
      "\n",
      "Filtering 1 dims correlated > 0.75 to log10(depth + 1)\n",
      "\n",
      "2024-06-24 20:53:21.749061 : Computing KNN, 0.034 mins elapsed.\n",
      "\n",
      "2024-06-24 20:53:21.985983 : Identifying Non-Overlapping KNN pairs, 0.038 mins elapsed.\n",
      "\n",
      "2024-06-24 20:53:23.890294 : Identified 495 Groupings!, 0.07 mins elapsed.\n",
      "\n",
      "2024-06-24 20:53:23.966739 : Getting Group RNA Matrix, 0.071 mins elapsed.\n",
      "\n",
      "2024-06-24 20:54:05.646006 : Getting Group ATAC Matrix, 0.765 mins elapsed.\n",
      "\n",
      "2024-06-24 20:55:23.931377 : Normalizing Group Matrices, 2.07 mins elapsed.\n",
      "\n",
      "2024-06-24 20:55:40.373917 : Finding Peak Gene Pairings, 2.344 mins elapsed.\n",
      "\n",
      "2024-06-24 20:55:47.061112 : Computing Correlations, 2.456 mins elapsed.\n",
      "\n",
      "2024-06-24 20:57:11.051586 : Completed Peak2Gene Correlations!, 3.856 mins elapsed.\n",
      "\n",
      "ArchR logging successful to : ArchRLogs/ArchR-addPeak2GeneLinks-26cc6a75a051b7-Date-2024-06-24_Time-20-53-17.843859.log\n",
      "\n"
     ]
    }
   ],
   "source": [
    "start_time <- Sys.time()\n",
    "obj.ArchR = addPeak2GeneLinks(\n",
    "    ArchRProj = obj.ArchR,\n",
    "    reducedDims = \"IterativeLSI\",\n",
    "    useMatrix = \"GeneExpressionMatrix\",\n",
    "    maxDist = maxDist,\n",
    "    threads = n.cores\n",
    ")\n",
    "end_time <- Sys.time()\n",
    "execution_time <- end_time - start_time"
   ]
  },
  {
   "cell_type": "code",
   "execution_count": 23,
   "id": "128d0065-5f22-495b-b00d-743fc9843337",
   "metadata": {},
   "outputs": [
    {
     "data": {
      "text/plain": [
       "Time difference of 3.88842 mins"
      ]
     },
     "metadata": {},
     "output_type": "display_data"
    }
   ],
   "source": [
    "execution_time"
   ]
  },
  {
   "cell_type": "code",
   "execution_count": 24,
   "id": "36bd2df2-6b32-4b81-bd4f-39ef8913b3c3",
   "metadata": {},
   "outputs": [],
   "source": [
    "p2g = metadata(obj.ArchR@peakSet)$Peak2GeneLinks"
   ]
  },
  {
   "cell_type": "code",
   "execution_count": 25,
   "id": "e7730413-8fd4-4952-bb13-0df7a3b15b6f",
   "metadata": {},
   "outputs": [],
   "source": [
    "metadata(p2g)[[1]]$PeakName = paste(seqnames(metadata(p2g)[[1]]),\n",
    "                                    ranges(metadata(p2g)[[1]]),sep=\"-\")"
   ]
  },
  {
   "cell_type": "code",
   "execution_count": 26,
   "id": "aeea3810-6735-4aff-9bd7-1697bef979d2",
   "metadata": {},
   "outputs": [],
   "source": [
    "p2g$PairName = paste(metadata(p2g)[[1]][p2g$idxATAC]$PeakName,\n",
    "                     metadata(p2g)[[2]][p2g$idxRNA]$name,\n",
    "                     sep = \"_\")"
   ]
  },
  {
   "cell_type": "code",
   "execution_count": 27,
   "id": "87f975ec-6ba4-4696-ad6c-2af65da7aa54",
   "metadata": {},
   "outputs": [
    {
     "data": {
      "text/plain": [
       "DataFrame with 18131380 rows and 7 columns\n",
       "                                  idxATAC    idxRNA Correlation       FDR\n",
       "                                <integer> <integer>   <numeric> <numeric>\n",
       "chr1-10057-10601_DDX11L1                1         1         NaN       NaN\n",
       "chr1-180665-181882_DDX11L1              2         1         NaN       NaN\n",
       "chr1-191255-191955_DDX11L1              3         1         NaN       NaN\n",
       "chr1-267886-268118_DDX11L1              4         1         NaN       NaN\n",
       "chr1-271197-271524_DDX11L1              5         1         NaN       NaN\n",
       "...                                   ...       ...         ...       ...\n",
       "chrX-156001461-156001911_WASH6P    303407     60626  0.04519341 0.5016798\n",
       "chrX-156002551-156002801_WASH6P    303408     60626  0.06475381 0.3007011\n",
       "chrX-156029380-156029530_WASH6P    303409     60626 -0.00512546 0.9475300\n",
       "chrX-156029605-156030380_WASH6P    303410     60626  0.12957863 0.0150592\n",
       "chrX-156030498-156030791_WASH6P    303411     60626  0.11419338 0.0370969\n",
       "                                 VarQATAC   VarQRNA               PairName\n",
       "                                <numeric> <numeric>            <character>\n",
       "chr1-10057-10601_DDX11L1         0.628893  0.177465 chr1-10057-10601_DDX..\n",
       "chr1-180665-181882_DDX11L1       0.801220  0.177465 chr1-180665-181882_D..\n",
       "chr1-191255-191955_DDX11L1       0.693129  0.177465 chr1-191255-191955_D..\n",
       "chr1-267886-268118_DDX11L1       0.685898  0.177465 chr1-267886-268118_D..\n",
       "chr1-271197-271524_DDX11L1       0.447255  0.177465 chr1-271197-271524_D..\n",
       "...                                   ...       ...                    ...\n",
       "chrX-156001461-156001911_WASH6P 0.6582392  0.800465 chrX-156001461-15600..\n",
       "chrX-156002551-156002801_WASH6P 0.2453240  0.800465 chrX-156002551-15600..\n",
       "chrX-156029380-156029530_WASH6P 0.0321676  0.800465 chrX-156029380-15602..\n",
       "chrX-156029605-156030380_WASH6P 0.6436616  0.800465 chrX-156029605-15603..\n",
       "chrX-156030498-156030791_WASH6P 0.6941706  0.800465 chrX-156030498-15603.."
      ]
     },
     "metadata": {},
     "output_type": "display_data"
    }
   ],
   "source": [
    "rownames(p2g) = p2g$PairName\n",
    "p2g"
   ]
  },
  {
   "cell_type": "code",
   "execution_count": 28,
   "id": "c7209a32-3904-4734-93af-9c22049f652a",
   "metadata": {},
   "outputs": [],
   "source": [
    "pairs.E2G.res = pairs.E2G[pairs.E2G$PairName %in% p2g$PairName]\n",
    "mcols(pairs.E2G.res)[,c(\"Correlation\",\"FDR\",\"VarQATAC\",\"VarQRNA\")] = p2g[pairs.E2G.res$PairName,c(\"Correlation\",\"FDR\",\"VarQATAC\",\"VarQRNA\")]"
   ]
  },
  {
   "cell_type": "code",
   "execution_count": 29,
   "id": "1ab4ed70-ce9e-4857-bd1b-63a81d27a401",
   "metadata": {},
   "outputs": [
    {
     "data": {
      "text/plain": [
       "GRanges object with 5529770 ranges and 7 metadata columns:\n",
       "            seqnames              ranges strand |  TargetGene\n",
       "               <Rle>           <IRanges>  <Rle> | <character>\n",
       "        [1]     chr1 100028331-100029533      * |         AGL\n",
       "        [2]     chr1 100028331-100029533      * |      CDC14A\n",
       "        [3]     chr1 100028331-100029533      * |         DBT\n",
       "        [4]     chr1 100028331-100029533      * |        DPH5\n",
       "        [5]     chr1 100028331-100029533      * |       EXTL2\n",
       "        ...      ...                 ...    ... .         ...\n",
       "  [5529766]     chrX     9995651-9996434      * |        WWC3\n",
       "  [5529767]     chrX     9997538-9997892      * |       CLCN4\n",
       "  [5529768]     chrX     9997538-9997892      * |      GPR143\n",
       "  [5529769]     chrX     9997538-9997892      * |       TBL1X\n",
       "  [5529770]     chrX     9997538-9997892      * |        WWC3\n",
       "                          PeakName               PairName Correlation\n",
       "                       <character>            <character>   <numeric>\n",
       "        [1] chr1-100028331-10002.. chr1-100028331-10002..   0.2475183\n",
       "        [2] chr1-100028331-10002.. chr1-100028331-10002..  -0.1237215\n",
       "        [3] chr1-100028331-10002.. chr1-100028331-10002..   0.1330313\n",
       "        [4] chr1-100028331-10002.. chr1-100028331-10002..  -0.0444293\n",
       "        [5] chr1-100028331-10002.. chr1-100028331-10002..   0.3144423\n",
       "        ...                    ...                    ...         ...\n",
       "  [5529766]   chrX-9995651-9996434 chrX-9995651-9996434..  0.12560721\n",
       "  [5529767]   chrX-9997538-9997892 chrX-9997538-9997892.. -0.00287467\n",
       "  [5529768]   chrX-9997538-9997892 chrX-9997538-9997892.. -0.05006358\n",
       "  [5529769]   chrX-9997538-9997892 chrX-9997538-9997892.. -0.32390606\n",
       "  [5529770]   chrX-9997538-9997892 chrX-9997538-9997892..  0.26286031\n",
       "                    FDR  VarQATAC   VarQRNA\n",
       "              <numeric> <numeric> <numeric>\n",
       "        [1] 2.18888e-07  0.938898  0.919144\n",
       "        [2] 2.15323e-02  0.938898  0.997724\n",
       "        [3] 1.20975e-02  0.938898  0.850345\n",
       "        [4] 5.10156e-01  0.938898  0.908736\n",
       "        [5] 1.07761e-11  0.938898  0.752878\n",
       "        ...         ...       ...       ...\n",
       "  [5529766] 1.92279e-02  0.805904  0.876159\n",
       "  [5529767] 9.71012e-01  0.551018  0.771930\n",
       "  [5529768] 4.48388e-01  0.551018  0.603899\n",
       "  [5529769] 2.10196e-12  0.551018  0.979794\n",
       "  [5529770] 2.87634e-08  0.551018  0.876159\n",
       "  -------\n",
       "  seqinfo: 23 sequences from an unspecified genome; no seqlengths"
      ]
     },
     "metadata": {},
     "output_type": "display_data"
    }
   ],
   "source": [
    "pairs.E2G.res"
   ]
  },
  {
   "cell_type": "markdown",
   "id": "46485351-50d7-461a-bf09-d795d5bdab84",
   "metadata": {},
   "source": [
    "Save results"
   ]
  },
  {
   "cell_type": "code",
   "execution_count": 30,
   "id": "6d424e21-6a41-4422-b76c-6f1c0bda2222",
   "metadata": {},
   "outputs": [
    {
     "data": {
      "text/plain": [
       "GRanges object with 5529770 ranges and 7 metadata columns:\n",
       "            seqnames              ranges strand |  TargetGene\n",
       "               <Rle>           <IRanges>  <Rle> | <character>\n",
       "        [1]     chr1 100028331-100029533      * |         AGL\n",
       "        [2]     chr1 100028331-100029533      * |      CDC14A\n",
       "        [3]     chr1 100028331-100029533      * |         DBT\n",
       "        [4]     chr1 100028331-100029533      * |        DPH5\n",
       "        [5]     chr1 100028331-100029533      * |       EXTL2\n",
       "        ...      ...                 ...    ... .         ...\n",
       "  [5529766]     chrX     9995651-9996434      * |        WWC3\n",
       "  [5529767]     chrX     9997538-9997892      * |       CLCN4\n",
       "  [5529768]     chrX     9997538-9997892      * |      GPR143\n",
       "  [5529769]     chrX     9997538-9997892      * |       TBL1X\n",
       "  [5529770]     chrX     9997538-9997892      * |        WWC3\n",
       "                          PeakName               PairName Correlation\n",
       "                       <character>            <character>   <numeric>\n",
       "        [1] chr1-100028331-10002.. chr1-100028331-10002..   0.2475183\n",
       "        [2] chr1-100028331-10002.. chr1-100028331-10002..  -0.1237215\n",
       "        [3] chr1-100028331-10002.. chr1-100028331-10002..   0.1330313\n",
       "        [4] chr1-100028331-10002.. chr1-100028331-10002..  -0.0444293\n",
       "        [5] chr1-100028331-10002.. chr1-100028331-10002..   0.3144423\n",
       "        ...                    ...                    ...         ...\n",
       "  [5529766]   chrX-9995651-9996434 chrX-9995651-9996434..  0.12560721\n",
       "  [5529767]   chrX-9997538-9997892 chrX-9997538-9997892.. -0.00287467\n",
       "  [5529768]   chrX-9997538-9997892 chrX-9997538-9997892.. -0.05006358\n",
       "  [5529769]   chrX-9997538-9997892 chrX-9997538-9997892.. -0.32390606\n",
       "  [5529770]   chrX-9997538-9997892 chrX-9997538-9997892..  0.26286031\n",
       "                    FDR  VarQATAC   VarQRNA\n",
       "              <numeric> <numeric> <numeric>\n",
       "        [1] 2.18888e-07  0.938898  0.919144\n",
       "        [2] 2.15323e-02  0.938898  0.997724\n",
       "        [3] 1.20975e-02  0.938898  0.850345\n",
       "        [4] 5.10156e-01  0.938898  0.908736\n",
       "        [5] 1.07761e-11  0.938898  0.752878\n",
       "        ...         ...       ...       ...\n",
       "  [5529766] 1.92279e-02  0.805904  0.876159\n",
       "  [5529767] 9.71012e-01  0.551018  0.771930\n",
       "  [5529768] 4.48388e-01  0.551018  0.603899\n",
       "  [5529769] 2.10196e-12  0.551018  0.979794\n",
       "  [5529770] 2.87634e-08  0.551018  0.876159\n",
       "  -------\n",
       "  seqinfo: 23 sequences from an unspecified genome; no seqlengths"
      ]
     },
     "metadata": {},
     "output_type": "display_data"
    },
    {
     "data": {
      "text/html": [
       "<table class=\"dataframe\">\n",
       "<caption>A data.frame: 5529770 × 9</caption>\n",
       "<thead>\n",
       "\t<tr><th scope=col>chr</th><th scope=col>start</th><th scope=col>end</th><th scope=col>TargetGene</th><th scope=col>CellType</th><th scope=col>Correlation</th><th scope=col>FDR</th><th scope=col>VarQATAC</th><th scope=col>VarQRNA</th></tr>\n",
       "\t<tr><th scope=col>&lt;fct&gt;</th><th scope=col>&lt;int&gt;</th><th scope=col>&lt;int&gt;</th><th scope=col>&lt;chr&gt;</th><th scope=col>&lt;chr&gt;</th><th scope=col>&lt;dbl&gt;</th><th scope=col>&lt;dbl&gt;</th><th scope=col>&lt;dbl&gt;</th><th scope=col>&lt;dbl&gt;</th></tr>\n",
       "</thead>\n",
       "<tbody>\n",
       "\t<tr><td>chr1</td><td>100028331</td><td>100029533</td><td>AGL     </td><td>K562</td><td> 0.247518328</td><td>2.188877e-07</td><td>0.9388981</td><td>0.9191436</td></tr>\n",
       "\t<tr><td>chr1</td><td>100028331</td><td>100029533</td><td>CDC14A  </td><td>K562</td><td>-0.123721483</td><td>2.153234e-02</td><td>0.9388981</td><td>0.9977237</td></tr>\n",
       "\t<tr><td>chr1</td><td>100028331</td><td>100029533</td><td>DBT     </td><td>K562</td><td> 0.133031283</td><td>1.209750e-02</td><td>0.9388981</td><td>0.8503447</td></tr>\n",
       "\t<tr><td>chr1</td><td>100028331</td><td>100029533</td><td>DPH5    </td><td>K562</td><td>-0.044429298</td><td>5.101561e-01</td><td>0.9388981</td><td>0.9087355</td></tr>\n",
       "\t<tr><td>chr1</td><td>100028331</td><td>100029533</td><td>EXTL2   </td><td>K562</td><td> 0.314442282</td><td>1.077612e-11</td><td>0.9388981</td><td>0.7528783</td></tr>\n",
       "\t<tr><td>chr1</td><td>100028331</td><td>100029533</td><td>FRRS1   </td><td>K562</td><td>-0.192882906</td><td>9.912371e-05</td><td>0.9388981</td><td>0.7811830</td></tr>\n",
       "\t<tr><td>chr1</td><td>100028331</td><td>100029533</td><td>GPR88   </td><td>K562</td><td>-0.048708762</td><td>4.630654e-01</td><td>0.9388981</td><td>0.4086695</td></tr>\n",
       "\t<tr><td>chr1</td><td>100028331</td><td>100029533</td><td>MFSD14A </td><td>K562</td><td>-0.145716423</td><td>5.126180e-03</td><td>0.9388981</td><td>0.7567875</td></tr>\n",
       "\t<tr><td>chr1</td><td>100028331</td><td>100029533</td><td>RTCA    </td><td>K562</td><td> 0.544413816</td><td>7.240192e-38</td><td>0.9388981</td><td>0.8874740</td></tr>\n",
       "\t<tr><td>chr1</td><td>100028331</td><td>100029533</td><td>RTCA-AS1</td><td>K562</td><td>-0.139990889</td><td>7.631784e-03</td><td>0.9388981</td><td>0.7873520</td></tr>\n",
       "\t<tr><td>chr1</td><td>100028331</td><td>100029533</td><td>SASS6   </td><td>K562</td><td> 0.422093070</td><td>1.996404e-21</td><td>0.9388981</td><td>0.8476066</td></tr>\n",
       "\t<tr><td>chr1</td><td>100028331</td><td>100029533</td><td>SLC30A7 </td><td>K562</td><td> 0.029934716</td><td>6.732393e-01</td><td>0.9388981</td><td>0.9100881</td></tr>\n",
       "\t<tr><td>chr1</td><td>100028331</td><td>100029533</td><td>SLC35A3 </td><td>K562</td><td>-0.014444183</td><td>8.455733e-01</td><td>0.9388981</td><td>0.8586250</td></tr>\n",
       "\t<tr><td>chr1</td><td>100028331</td><td>100029533</td><td>TRMT13  </td><td>K562</td><td> 0.002309901</td><td>9.768155e-01</td><td>0.9388981</td><td>0.9169498</td></tr>\n",
       "\t<tr><td>chr1</td><td>100037542</td><td>100039303</td><td>AGL     </td><td>K562</td><td> 0.642884759</td><td>4.074533e-57</td><td>0.9889721</td><td>0.9191436</td></tr>\n",
       "\t<tr><td>chr1</td><td>100037542</td><td>100039303</td><td>CDC14A  </td><td>K562</td><td> 0.729046441</td><td>5.932800e-81</td><td>0.9889721</td><td>0.9977237</td></tr>\n",
       "\t<tr><td>chr1</td><td>100037542</td><td>100039303</td><td>DBT     </td><td>K562</td><td> 0.390782196</td><td>3.357045e-18</td><td>0.9889721</td><td>0.8503447</td></tr>\n",
       "\t<tr><td>chr1</td><td>100037542</td><td>100039303</td><td>DPH5    </td><td>K562</td><td> 0.659026330</td><td>5.570306e-61</td><td>0.9889721</td><td>0.9087355</td></tr>\n",
       "\t<tr><td>chr1</td><td>100037542</td><td>100039303</td><td>EXTL2   </td><td>K562</td><td> 0.052845663</td><td>4.186445e-01</td><td>0.9889721</td><td>0.7528783</td></tr>\n",
       "\t<tr><td>chr1</td><td>100037542</td><td>100039303</td><td>FRRS1   </td><td>K562</td><td>-0.676401018</td><td>2.037888e-65</td><td>0.9889721</td><td>0.7811830</td></tr>\n",
       "\t<tr><td>chr1</td><td>100037542</td><td>100039303</td><td>GPR88   </td><td>K562</td><td>-0.151344681</td><td>3.408009e-03</td><td>0.9889721</td><td>0.4086695</td></tr>\n",
       "\t<tr><td>chr1</td><td>100037542</td><td>100039303</td><td>MFSD14A </td><td>K562</td><td> 0.046124383</td><td>4.913634e-01</td><td>0.9889721</td><td>0.7567875</td></tr>\n",
       "\t<tr><td>chr1</td><td>100037542</td><td>100039303</td><td>RTCA    </td><td>K562</td><td> 0.232275772</td><td>1.431778e-06</td><td>0.9889721</td><td>0.8874740</td></tr>\n",
       "\t<tr><td>chr1</td><td>100037542</td><td>100039303</td><td>RTCA-AS1</td><td>K562</td><td> 0.003831156</td><td>9.611155e-01</td><td>0.9889721</td><td>0.7873520</td></tr>\n",
       "\t<tr><td>chr1</td><td>100037542</td><td>100039303</td><td>SASS6   </td><td>K562</td><td> 0.274469342</td><td>5.635731e-09</td><td>0.9889721</td><td>0.8476066</td></tr>\n",
       "\t<tr><td>chr1</td><td>100037542</td><td>100039303</td><td>SLC30A7 </td><td>K562</td><td> 0.259758460</td><td>4.385500e-08</td><td>0.9889721</td><td>0.9100881</td></tr>\n",
       "\t<tr><td>chr1</td><td>100037542</td><td>100039303</td><td>SLC35A3 </td><td>K562</td><td> 0.363009924</td><td>1.274894e-15</td><td>0.9889721</td><td>0.8586250</td></tr>\n",
       "\t<tr><td>chr1</td><td>100037542</td><td>100039303</td><td>TRMT13  </td><td>K562</td><td> 0.615978806</td><td>3.605680e-51</td><td>0.9889721</td><td>0.9169498</td></tr>\n",
       "\t<tr><td>chr1</td><td>100044514</td><td>100044850</td><td>AGL     </td><td>K562</td><td> 0.192363705</td><td>1.042060e-04</td><td>0.3859385</td><td>0.9191436</td></tr>\n",
       "\t<tr><td>chr1</td><td>100044514</td><td>100044850</td><td>CDC14A  </td><td>K562</td><td> 0.033663579</td><td>6.312544e-01</td><td>0.3859385</td><td>0.9977237</td></tr>\n",
       "\t<tr><td>⋮</td><td>⋮</td><td>⋮</td><td>⋮</td><td>⋮</td><td>⋮</td><td>⋮</td><td>⋮</td><td>⋮</td></tr>\n",
       "\t<tr><td>chrX</td><td> 999238</td><td> 999388</td><td>AKAP17A  </td><td>K562</td><td> 0.057170810</td><td>3.738915e-01</td><td>0.005431576</td><td>0.8813875</td></tr>\n",
       "\t<tr><td>chrX</td><td> 999238</td><td> 999388</td><td>ASMT     </td><td>K562</td><td> 0.014108516</td><td>8.493411e-01</td><td>0.005431576</td><td>0.6157424</td></tr>\n",
       "\t<tr><td>chrX</td><td> 999238</td><td> 999388</td><td>ASMTL    </td><td>K562</td><td> 0.069759912</td><td>2.566862e-01</td><td>0.005431576</td><td>0.9110283</td></tr>\n",
       "\t<tr><td>chrX</td><td> 999238</td><td> 999388</td><td>CSF2RA   </td><td>K562</td><td>-0.047883701</td><td>4.720407e-01</td><td>0.005431576</td><td>0.9974598</td></tr>\n",
       "\t<tr><td>chrX</td><td> 999238</td><td> 999388</td><td>GTPBP6   </td><td>K562</td><td> 0.061819244</td><td>3.281473e-01</td><td>0.005431576</td><td>0.8796886</td></tr>\n",
       "\t<tr><td>chrX</td><td> 999238</td><td> 999388</td><td>IL3RA    </td><td>K562</td><td> 0.037555103</td><td>5.872501e-01</td><td>0.005431576</td><td>0.9811302</td></tr>\n",
       "\t<tr><td>chrX</td><td> 999238</td><td> 999388</td><td>LINC00106</td><td>K562</td><td> 0.081244058</td><td>1.707954e-01</td><td>0.005431576</td><td>0.8269389</td></tr>\n",
       "\t<tr><td>chrX</td><td> 999238</td><td> 999388</td><td>P2RY8    </td><td>K562</td><td> 0.047111355</td><td>4.804821e-01</td><td>0.005431576</td><td>0.9756540</td></tr>\n",
       "\t<tr><td>chrX</td><td> 999238</td><td> 999388</td><td>PLCXD1   </td><td>K562</td><td> 0.066148098</td><td>2.880703e-01</td><td>0.005431576</td><td>0.8525715</td></tr>\n",
       "\t<tr><td>chrX</td><td> 999238</td><td> 999388</td><td>PPP2R3B  </td><td>K562</td><td> 0.035021190</td><td>6.159339e-01</td><td>0.005431576</td><td>0.8413717</td></tr>\n",
       "\t<tr><td>chrX</td><td> 999238</td><td> 999388</td><td>SLC25A6  </td><td>K562</td><td>-0.047681342</td><td>4.742385e-01</td><td>0.005431576</td><td>0.9645202</td></tr>\n",
       "\t<tr><td>chrX</td><td> 999443</td><td> 999815</td><td>AKAP17A  </td><td>K562</td><td>-0.090324980</td><td>1.183171e-01</td><td>0.368160680</td><td>0.8813875</td></tr>\n",
       "\t<tr><td>chrX</td><td> 999443</td><td> 999815</td><td>ASMT     </td><td>K562</td><td>-0.086243791</td><td>1.402513e-01</td><td>0.368160680</td><td>0.6157424</td></tr>\n",
       "\t<tr><td>chrX</td><td> 999443</td><td> 999815</td><td>ASMTL    </td><td>K562</td><td>-0.132398347</td><td>1.259968e-02</td><td>0.368160680</td><td>0.9110283</td></tr>\n",
       "\t<tr><td>chrX</td><td> 999443</td><td> 999815</td><td>CSF2RA   </td><td>K562</td><td>-0.096965503</td><td>8.818102e-02</td><td>0.368160680</td><td>0.9974598</td></tr>\n",
       "\t<tr><td>chrX</td><td> 999443</td><td> 999815</td><td>GTPBP6   </td><td>K562</td><td> 0.063524317</td><td>3.120696e-01</td><td>0.368160680</td><td>0.8796886</td></tr>\n",
       "\t<tr><td>chrX</td><td> 999443</td><td> 999815</td><td>IL3RA    </td><td>K562</td><td> 0.017738524</td><td>8.089704e-01</td><td>0.368160680</td><td>0.9811302</td></tr>\n",
       "\t<tr><td>chrX</td><td> 999443</td><td> 999815</td><td>LINC00106</td><td>K562</td><td> 0.192444457</td><td>1.034010e-04</td><td>0.368160680</td><td>0.8269389</td></tr>\n",
       "\t<tr><td>chrX</td><td> 999443</td><td> 999815</td><td>P2RY8    </td><td>K562</td><td> 0.132020082</td><td>1.290780e-02</td><td>0.368160680</td><td>0.9756540</td></tr>\n",
       "\t<tr><td>chrX</td><td> 999443</td><td> 999815</td><td>PLCXD1   </td><td>K562</td><td> 0.131632092</td><td>1.323005e-02</td><td>0.368160680</td><td>0.8525715</td></tr>\n",
       "\t<tr><td>chrX</td><td> 999443</td><td> 999815</td><td>PPP2R3B  </td><td>K562</td><td> 0.184953960</td><td>2.093367e-04</td><td>0.368160680</td><td>0.8413717</td></tr>\n",
       "\t<tr><td>chrX</td><td> 999443</td><td> 999815</td><td>SLC25A6  </td><td>K562</td><td>-0.134173164</td><td>1.123683e-02</td><td>0.368160680</td><td>0.9645202</td></tr>\n",
       "\t<tr><td>chrX</td><td>9995651</td><td>9996434</td><td>CLCN4    </td><td>K562</td><td>-0.125246359</td><td>1.965194e-02</td><td>0.805903543</td><td>0.7719295</td></tr>\n",
       "\t<tr><td>chrX</td><td>9995651</td><td>9996434</td><td>GPR143   </td><td>K562</td><td> 0.048602143</td><td>4.642204e-01</td><td>0.805903543</td><td>0.6038993</td></tr>\n",
       "\t<tr><td>chrX</td><td>9995651</td><td>9996434</td><td>TBL1X    </td><td>K562</td><td>-0.360086732</td><td>2.303472e-15</td><td>0.805903543</td><td>0.9797941</td></tr>\n",
       "\t<tr><td>chrX</td><td>9995651</td><td>9996434</td><td>WWC3     </td><td>K562</td><td> 0.125607206</td><td>1.922793e-02</td><td>0.805903543</td><td>0.8761587</td></tr>\n",
       "\t<tr><td>chrX</td><td>9997538</td><td>9997892</td><td>CLCN4    </td><td>K562</td><td>-0.002874672</td><td>9.710121e-01</td><td>0.551018256</td><td>0.7719295</td></tr>\n",
       "\t<tr><td>chrX</td><td>9997538</td><td>9997892</td><td>GPR143   </td><td>K562</td><td>-0.050063585</td><td>4.483879e-01</td><td>0.551018256</td><td>0.6038993</td></tr>\n",
       "\t<tr><td>chrX</td><td>9997538</td><td>9997892</td><td>TBL1X    </td><td>K562</td><td>-0.323906064</td><td>2.101956e-12</td><td>0.551018256</td><td>0.9797941</td></tr>\n",
       "\t<tr><td>chrX</td><td>9997538</td><td>9997892</td><td>WWC3     </td><td>K562</td><td> 0.262860312</td><td>2.876341e-08</td><td>0.551018256</td><td>0.8761587</td></tr>\n",
       "</tbody>\n",
       "</table>\n"
      ],
      "text/latex": [
       "A data.frame: 5529770 × 9\n",
       "\\begin{tabular}{lllllllll}\n",
       " chr & start & end & TargetGene & CellType & Correlation & FDR & VarQATAC & VarQRNA\\\\\n",
       " <fct> & <int> & <int> & <chr> & <chr> & <dbl> & <dbl> & <dbl> & <dbl>\\\\\n",
       "\\hline\n",
       "\t chr1 & 100028331 & 100029533 & AGL      & K562 &  0.247518328 & 2.188877e-07 & 0.9388981 & 0.9191436\\\\\n",
       "\t chr1 & 100028331 & 100029533 & CDC14A   & K562 & -0.123721483 & 2.153234e-02 & 0.9388981 & 0.9977237\\\\\n",
       "\t chr1 & 100028331 & 100029533 & DBT      & K562 &  0.133031283 & 1.209750e-02 & 0.9388981 & 0.8503447\\\\\n",
       "\t chr1 & 100028331 & 100029533 & DPH5     & K562 & -0.044429298 & 5.101561e-01 & 0.9388981 & 0.9087355\\\\\n",
       "\t chr1 & 100028331 & 100029533 & EXTL2    & K562 &  0.314442282 & 1.077612e-11 & 0.9388981 & 0.7528783\\\\\n",
       "\t chr1 & 100028331 & 100029533 & FRRS1    & K562 & -0.192882906 & 9.912371e-05 & 0.9388981 & 0.7811830\\\\\n",
       "\t chr1 & 100028331 & 100029533 & GPR88    & K562 & -0.048708762 & 4.630654e-01 & 0.9388981 & 0.4086695\\\\\n",
       "\t chr1 & 100028331 & 100029533 & MFSD14A  & K562 & -0.145716423 & 5.126180e-03 & 0.9388981 & 0.7567875\\\\\n",
       "\t chr1 & 100028331 & 100029533 & RTCA     & K562 &  0.544413816 & 7.240192e-38 & 0.9388981 & 0.8874740\\\\\n",
       "\t chr1 & 100028331 & 100029533 & RTCA-AS1 & K562 & -0.139990889 & 7.631784e-03 & 0.9388981 & 0.7873520\\\\\n",
       "\t chr1 & 100028331 & 100029533 & SASS6    & K562 &  0.422093070 & 1.996404e-21 & 0.9388981 & 0.8476066\\\\\n",
       "\t chr1 & 100028331 & 100029533 & SLC30A7  & K562 &  0.029934716 & 6.732393e-01 & 0.9388981 & 0.9100881\\\\\n",
       "\t chr1 & 100028331 & 100029533 & SLC35A3  & K562 & -0.014444183 & 8.455733e-01 & 0.9388981 & 0.8586250\\\\\n",
       "\t chr1 & 100028331 & 100029533 & TRMT13   & K562 &  0.002309901 & 9.768155e-01 & 0.9388981 & 0.9169498\\\\\n",
       "\t chr1 & 100037542 & 100039303 & AGL      & K562 &  0.642884759 & 4.074533e-57 & 0.9889721 & 0.9191436\\\\\n",
       "\t chr1 & 100037542 & 100039303 & CDC14A   & K562 &  0.729046441 & 5.932800e-81 & 0.9889721 & 0.9977237\\\\\n",
       "\t chr1 & 100037542 & 100039303 & DBT      & K562 &  0.390782196 & 3.357045e-18 & 0.9889721 & 0.8503447\\\\\n",
       "\t chr1 & 100037542 & 100039303 & DPH5     & K562 &  0.659026330 & 5.570306e-61 & 0.9889721 & 0.9087355\\\\\n",
       "\t chr1 & 100037542 & 100039303 & EXTL2    & K562 &  0.052845663 & 4.186445e-01 & 0.9889721 & 0.7528783\\\\\n",
       "\t chr1 & 100037542 & 100039303 & FRRS1    & K562 & -0.676401018 & 2.037888e-65 & 0.9889721 & 0.7811830\\\\\n",
       "\t chr1 & 100037542 & 100039303 & GPR88    & K562 & -0.151344681 & 3.408009e-03 & 0.9889721 & 0.4086695\\\\\n",
       "\t chr1 & 100037542 & 100039303 & MFSD14A  & K562 &  0.046124383 & 4.913634e-01 & 0.9889721 & 0.7567875\\\\\n",
       "\t chr1 & 100037542 & 100039303 & RTCA     & K562 &  0.232275772 & 1.431778e-06 & 0.9889721 & 0.8874740\\\\\n",
       "\t chr1 & 100037542 & 100039303 & RTCA-AS1 & K562 &  0.003831156 & 9.611155e-01 & 0.9889721 & 0.7873520\\\\\n",
       "\t chr1 & 100037542 & 100039303 & SASS6    & K562 &  0.274469342 & 5.635731e-09 & 0.9889721 & 0.8476066\\\\\n",
       "\t chr1 & 100037542 & 100039303 & SLC30A7  & K562 &  0.259758460 & 4.385500e-08 & 0.9889721 & 0.9100881\\\\\n",
       "\t chr1 & 100037542 & 100039303 & SLC35A3  & K562 &  0.363009924 & 1.274894e-15 & 0.9889721 & 0.8586250\\\\\n",
       "\t chr1 & 100037542 & 100039303 & TRMT13   & K562 &  0.615978806 & 3.605680e-51 & 0.9889721 & 0.9169498\\\\\n",
       "\t chr1 & 100044514 & 100044850 & AGL      & K562 &  0.192363705 & 1.042060e-04 & 0.3859385 & 0.9191436\\\\\n",
       "\t chr1 & 100044514 & 100044850 & CDC14A   & K562 &  0.033663579 & 6.312544e-01 & 0.3859385 & 0.9977237\\\\\n",
       "\t ⋮ & ⋮ & ⋮ & ⋮ & ⋮ & ⋮ & ⋮ & ⋮ & ⋮\\\\\n",
       "\t chrX &  999238 &  999388 & AKAP17A   & K562 &  0.057170810 & 3.738915e-01 & 0.005431576 & 0.8813875\\\\\n",
       "\t chrX &  999238 &  999388 & ASMT      & K562 &  0.014108516 & 8.493411e-01 & 0.005431576 & 0.6157424\\\\\n",
       "\t chrX &  999238 &  999388 & ASMTL     & K562 &  0.069759912 & 2.566862e-01 & 0.005431576 & 0.9110283\\\\\n",
       "\t chrX &  999238 &  999388 & CSF2RA    & K562 & -0.047883701 & 4.720407e-01 & 0.005431576 & 0.9974598\\\\\n",
       "\t chrX &  999238 &  999388 & GTPBP6    & K562 &  0.061819244 & 3.281473e-01 & 0.005431576 & 0.8796886\\\\\n",
       "\t chrX &  999238 &  999388 & IL3RA     & K562 &  0.037555103 & 5.872501e-01 & 0.005431576 & 0.9811302\\\\\n",
       "\t chrX &  999238 &  999388 & LINC00106 & K562 &  0.081244058 & 1.707954e-01 & 0.005431576 & 0.8269389\\\\\n",
       "\t chrX &  999238 &  999388 & P2RY8     & K562 &  0.047111355 & 4.804821e-01 & 0.005431576 & 0.9756540\\\\\n",
       "\t chrX &  999238 &  999388 & PLCXD1    & K562 &  0.066148098 & 2.880703e-01 & 0.005431576 & 0.8525715\\\\\n",
       "\t chrX &  999238 &  999388 & PPP2R3B   & K562 &  0.035021190 & 6.159339e-01 & 0.005431576 & 0.8413717\\\\\n",
       "\t chrX &  999238 &  999388 & SLC25A6   & K562 & -0.047681342 & 4.742385e-01 & 0.005431576 & 0.9645202\\\\\n",
       "\t chrX &  999443 &  999815 & AKAP17A   & K562 & -0.090324980 & 1.183171e-01 & 0.368160680 & 0.8813875\\\\\n",
       "\t chrX &  999443 &  999815 & ASMT      & K562 & -0.086243791 & 1.402513e-01 & 0.368160680 & 0.6157424\\\\\n",
       "\t chrX &  999443 &  999815 & ASMTL     & K562 & -0.132398347 & 1.259968e-02 & 0.368160680 & 0.9110283\\\\\n",
       "\t chrX &  999443 &  999815 & CSF2RA    & K562 & -0.096965503 & 8.818102e-02 & 0.368160680 & 0.9974598\\\\\n",
       "\t chrX &  999443 &  999815 & GTPBP6    & K562 &  0.063524317 & 3.120696e-01 & 0.368160680 & 0.8796886\\\\\n",
       "\t chrX &  999443 &  999815 & IL3RA     & K562 &  0.017738524 & 8.089704e-01 & 0.368160680 & 0.9811302\\\\\n",
       "\t chrX &  999443 &  999815 & LINC00106 & K562 &  0.192444457 & 1.034010e-04 & 0.368160680 & 0.8269389\\\\\n",
       "\t chrX &  999443 &  999815 & P2RY8     & K562 &  0.132020082 & 1.290780e-02 & 0.368160680 & 0.9756540\\\\\n",
       "\t chrX &  999443 &  999815 & PLCXD1    & K562 &  0.131632092 & 1.323005e-02 & 0.368160680 & 0.8525715\\\\\n",
       "\t chrX &  999443 &  999815 & PPP2R3B   & K562 &  0.184953960 & 2.093367e-04 & 0.368160680 & 0.8413717\\\\\n",
       "\t chrX &  999443 &  999815 & SLC25A6   & K562 & -0.134173164 & 1.123683e-02 & 0.368160680 & 0.9645202\\\\\n",
       "\t chrX & 9995651 & 9996434 & CLCN4     & K562 & -0.125246359 & 1.965194e-02 & 0.805903543 & 0.7719295\\\\\n",
       "\t chrX & 9995651 & 9996434 & GPR143    & K562 &  0.048602143 & 4.642204e-01 & 0.805903543 & 0.6038993\\\\\n",
       "\t chrX & 9995651 & 9996434 & TBL1X     & K562 & -0.360086732 & 2.303472e-15 & 0.805903543 & 0.9797941\\\\\n",
       "\t chrX & 9995651 & 9996434 & WWC3      & K562 &  0.125607206 & 1.922793e-02 & 0.805903543 & 0.8761587\\\\\n",
       "\t chrX & 9997538 & 9997892 & CLCN4     & K562 & -0.002874672 & 9.710121e-01 & 0.551018256 & 0.7719295\\\\\n",
       "\t chrX & 9997538 & 9997892 & GPR143    & K562 & -0.050063585 & 4.483879e-01 & 0.551018256 & 0.6038993\\\\\n",
       "\t chrX & 9997538 & 9997892 & TBL1X     & K562 & -0.323906064 & 2.101956e-12 & 0.551018256 & 0.9797941\\\\\n",
       "\t chrX & 9997538 & 9997892 & WWC3      & K562 &  0.262860312 & 2.876341e-08 & 0.551018256 & 0.8761587\\\\\n",
       "\\end{tabular}\n"
      ],
      "text/markdown": [
       "\n",
       "A data.frame: 5529770 × 9\n",
       "\n",
       "| chr &lt;fct&gt; | start &lt;int&gt; | end &lt;int&gt; | TargetGene &lt;chr&gt; | CellType &lt;chr&gt; | Correlation &lt;dbl&gt; | FDR &lt;dbl&gt; | VarQATAC &lt;dbl&gt; | VarQRNA &lt;dbl&gt; |\n",
       "|---|---|---|---|---|---|---|---|---|\n",
       "| chr1 | 100028331 | 100029533 | AGL      | K562 |  0.247518328 | 2.188877e-07 | 0.9388981 | 0.9191436 |\n",
       "| chr1 | 100028331 | 100029533 | CDC14A   | K562 | -0.123721483 | 2.153234e-02 | 0.9388981 | 0.9977237 |\n",
       "| chr1 | 100028331 | 100029533 | DBT      | K562 |  0.133031283 | 1.209750e-02 | 0.9388981 | 0.8503447 |\n",
       "| chr1 | 100028331 | 100029533 | DPH5     | K562 | -0.044429298 | 5.101561e-01 | 0.9388981 | 0.9087355 |\n",
       "| chr1 | 100028331 | 100029533 | EXTL2    | K562 |  0.314442282 | 1.077612e-11 | 0.9388981 | 0.7528783 |\n",
       "| chr1 | 100028331 | 100029533 | FRRS1    | K562 | -0.192882906 | 9.912371e-05 | 0.9388981 | 0.7811830 |\n",
       "| chr1 | 100028331 | 100029533 | GPR88    | K562 | -0.048708762 | 4.630654e-01 | 0.9388981 | 0.4086695 |\n",
       "| chr1 | 100028331 | 100029533 | MFSD14A  | K562 | -0.145716423 | 5.126180e-03 | 0.9388981 | 0.7567875 |\n",
       "| chr1 | 100028331 | 100029533 | RTCA     | K562 |  0.544413816 | 7.240192e-38 | 0.9388981 | 0.8874740 |\n",
       "| chr1 | 100028331 | 100029533 | RTCA-AS1 | K562 | -0.139990889 | 7.631784e-03 | 0.9388981 | 0.7873520 |\n",
       "| chr1 | 100028331 | 100029533 | SASS6    | K562 |  0.422093070 | 1.996404e-21 | 0.9388981 | 0.8476066 |\n",
       "| chr1 | 100028331 | 100029533 | SLC30A7  | K562 |  0.029934716 | 6.732393e-01 | 0.9388981 | 0.9100881 |\n",
       "| chr1 | 100028331 | 100029533 | SLC35A3  | K562 | -0.014444183 | 8.455733e-01 | 0.9388981 | 0.8586250 |\n",
       "| chr1 | 100028331 | 100029533 | TRMT13   | K562 |  0.002309901 | 9.768155e-01 | 0.9388981 | 0.9169498 |\n",
       "| chr1 | 100037542 | 100039303 | AGL      | K562 |  0.642884759 | 4.074533e-57 | 0.9889721 | 0.9191436 |\n",
       "| chr1 | 100037542 | 100039303 | CDC14A   | K562 |  0.729046441 | 5.932800e-81 | 0.9889721 | 0.9977237 |\n",
       "| chr1 | 100037542 | 100039303 | DBT      | K562 |  0.390782196 | 3.357045e-18 | 0.9889721 | 0.8503447 |\n",
       "| chr1 | 100037542 | 100039303 | DPH5     | K562 |  0.659026330 | 5.570306e-61 | 0.9889721 | 0.9087355 |\n",
       "| chr1 | 100037542 | 100039303 | EXTL2    | K562 |  0.052845663 | 4.186445e-01 | 0.9889721 | 0.7528783 |\n",
       "| chr1 | 100037542 | 100039303 | FRRS1    | K562 | -0.676401018 | 2.037888e-65 | 0.9889721 | 0.7811830 |\n",
       "| chr1 | 100037542 | 100039303 | GPR88    | K562 | -0.151344681 | 3.408009e-03 | 0.9889721 | 0.4086695 |\n",
       "| chr1 | 100037542 | 100039303 | MFSD14A  | K562 |  0.046124383 | 4.913634e-01 | 0.9889721 | 0.7567875 |\n",
       "| chr1 | 100037542 | 100039303 | RTCA     | K562 |  0.232275772 | 1.431778e-06 | 0.9889721 | 0.8874740 |\n",
       "| chr1 | 100037542 | 100039303 | RTCA-AS1 | K562 |  0.003831156 | 9.611155e-01 | 0.9889721 | 0.7873520 |\n",
       "| chr1 | 100037542 | 100039303 | SASS6    | K562 |  0.274469342 | 5.635731e-09 | 0.9889721 | 0.8476066 |\n",
       "| chr1 | 100037542 | 100039303 | SLC30A7  | K562 |  0.259758460 | 4.385500e-08 | 0.9889721 | 0.9100881 |\n",
       "| chr1 | 100037542 | 100039303 | SLC35A3  | K562 |  0.363009924 | 1.274894e-15 | 0.9889721 | 0.8586250 |\n",
       "| chr1 | 100037542 | 100039303 | TRMT13   | K562 |  0.615978806 | 3.605680e-51 | 0.9889721 | 0.9169498 |\n",
       "| chr1 | 100044514 | 100044850 | AGL      | K562 |  0.192363705 | 1.042060e-04 | 0.3859385 | 0.9191436 |\n",
       "| chr1 | 100044514 | 100044850 | CDC14A   | K562 |  0.033663579 | 6.312544e-01 | 0.3859385 | 0.9977237 |\n",
       "| ⋮ | ⋮ | ⋮ | ⋮ | ⋮ | ⋮ | ⋮ | ⋮ | ⋮ |\n",
       "| chrX |  999238 |  999388 | AKAP17A   | K562 |  0.057170810 | 3.738915e-01 | 0.005431576 | 0.8813875 |\n",
       "| chrX |  999238 |  999388 | ASMT      | K562 |  0.014108516 | 8.493411e-01 | 0.005431576 | 0.6157424 |\n",
       "| chrX |  999238 |  999388 | ASMTL     | K562 |  0.069759912 | 2.566862e-01 | 0.005431576 | 0.9110283 |\n",
       "| chrX |  999238 |  999388 | CSF2RA    | K562 | -0.047883701 | 4.720407e-01 | 0.005431576 | 0.9974598 |\n",
       "| chrX |  999238 |  999388 | GTPBP6    | K562 |  0.061819244 | 3.281473e-01 | 0.005431576 | 0.8796886 |\n",
       "| chrX |  999238 |  999388 | IL3RA     | K562 |  0.037555103 | 5.872501e-01 | 0.005431576 | 0.9811302 |\n",
       "| chrX |  999238 |  999388 | LINC00106 | K562 |  0.081244058 | 1.707954e-01 | 0.005431576 | 0.8269389 |\n",
       "| chrX |  999238 |  999388 | P2RY8     | K562 |  0.047111355 | 4.804821e-01 | 0.005431576 | 0.9756540 |\n",
       "| chrX |  999238 |  999388 | PLCXD1    | K562 |  0.066148098 | 2.880703e-01 | 0.005431576 | 0.8525715 |\n",
       "| chrX |  999238 |  999388 | PPP2R3B   | K562 |  0.035021190 | 6.159339e-01 | 0.005431576 | 0.8413717 |\n",
       "| chrX |  999238 |  999388 | SLC25A6   | K562 | -0.047681342 | 4.742385e-01 | 0.005431576 | 0.9645202 |\n",
       "| chrX |  999443 |  999815 | AKAP17A   | K562 | -0.090324980 | 1.183171e-01 | 0.368160680 | 0.8813875 |\n",
       "| chrX |  999443 |  999815 | ASMT      | K562 | -0.086243791 | 1.402513e-01 | 0.368160680 | 0.6157424 |\n",
       "| chrX |  999443 |  999815 | ASMTL     | K562 | -0.132398347 | 1.259968e-02 | 0.368160680 | 0.9110283 |\n",
       "| chrX |  999443 |  999815 | CSF2RA    | K562 | -0.096965503 | 8.818102e-02 | 0.368160680 | 0.9974598 |\n",
       "| chrX |  999443 |  999815 | GTPBP6    | K562 |  0.063524317 | 3.120696e-01 | 0.368160680 | 0.8796886 |\n",
       "| chrX |  999443 |  999815 | IL3RA     | K562 |  0.017738524 | 8.089704e-01 | 0.368160680 | 0.9811302 |\n",
       "| chrX |  999443 |  999815 | LINC00106 | K562 |  0.192444457 | 1.034010e-04 | 0.368160680 | 0.8269389 |\n",
       "| chrX |  999443 |  999815 | P2RY8     | K562 |  0.132020082 | 1.290780e-02 | 0.368160680 | 0.9756540 |\n",
       "| chrX |  999443 |  999815 | PLCXD1    | K562 |  0.131632092 | 1.323005e-02 | 0.368160680 | 0.8525715 |\n",
       "| chrX |  999443 |  999815 | PPP2R3B   | K562 |  0.184953960 | 2.093367e-04 | 0.368160680 | 0.8413717 |\n",
       "| chrX |  999443 |  999815 | SLC25A6   | K562 | -0.134173164 | 1.123683e-02 | 0.368160680 | 0.9645202 |\n",
       "| chrX | 9995651 | 9996434 | CLCN4     | K562 | -0.125246359 | 1.965194e-02 | 0.805903543 | 0.7719295 |\n",
       "| chrX | 9995651 | 9996434 | GPR143    | K562 |  0.048602143 | 4.642204e-01 | 0.805903543 | 0.6038993 |\n",
       "| chrX | 9995651 | 9996434 | TBL1X     | K562 | -0.360086732 | 2.303472e-15 | 0.805903543 | 0.9797941 |\n",
       "| chrX | 9995651 | 9996434 | WWC3      | K562 |  0.125607206 | 1.922793e-02 | 0.805903543 | 0.8761587 |\n",
       "| chrX | 9997538 | 9997892 | CLCN4     | K562 | -0.002874672 | 9.710121e-01 | 0.551018256 | 0.7719295 |\n",
       "| chrX | 9997538 | 9997892 | GPR143    | K562 | -0.050063585 | 4.483879e-01 | 0.551018256 | 0.6038993 |\n",
       "| chrX | 9997538 | 9997892 | TBL1X     | K562 | -0.323906064 | 2.101956e-12 | 0.551018256 | 0.9797941 |\n",
       "| chrX | 9997538 | 9997892 | WWC3      | K562 |  0.262860312 | 2.876341e-08 | 0.551018256 | 0.8761587 |\n",
       "\n"
      ],
      "text/plain": [
       "        chr  start     end       TargetGene CellType Correlation  FDR         \n",
       "1       chr1 100028331 100029533 AGL        K562      0.247518328 2.188877e-07\n",
       "2       chr1 100028331 100029533 CDC14A     K562     -0.123721483 2.153234e-02\n",
       "3       chr1 100028331 100029533 DBT        K562      0.133031283 1.209750e-02\n",
       "4       chr1 100028331 100029533 DPH5       K562     -0.044429298 5.101561e-01\n",
       "5       chr1 100028331 100029533 EXTL2      K562      0.314442282 1.077612e-11\n",
       "6       chr1 100028331 100029533 FRRS1      K562     -0.192882906 9.912371e-05\n",
       "7       chr1 100028331 100029533 GPR88      K562     -0.048708762 4.630654e-01\n",
       "8       chr1 100028331 100029533 MFSD14A    K562     -0.145716423 5.126180e-03\n",
       "9       chr1 100028331 100029533 RTCA       K562      0.544413816 7.240192e-38\n",
       "10      chr1 100028331 100029533 RTCA-AS1   K562     -0.139990889 7.631784e-03\n",
       "11      chr1 100028331 100029533 SASS6      K562      0.422093070 1.996404e-21\n",
       "12      chr1 100028331 100029533 SLC30A7    K562      0.029934716 6.732393e-01\n",
       "13      chr1 100028331 100029533 SLC35A3    K562     -0.014444183 8.455733e-01\n",
       "14      chr1 100028331 100029533 TRMT13     K562      0.002309901 9.768155e-01\n",
       "15      chr1 100037542 100039303 AGL        K562      0.642884759 4.074533e-57\n",
       "16      chr1 100037542 100039303 CDC14A     K562      0.729046441 5.932800e-81\n",
       "17      chr1 100037542 100039303 DBT        K562      0.390782196 3.357045e-18\n",
       "18      chr1 100037542 100039303 DPH5       K562      0.659026330 5.570306e-61\n",
       "19      chr1 100037542 100039303 EXTL2      K562      0.052845663 4.186445e-01\n",
       "20      chr1 100037542 100039303 FRRS1      K562     -0.676401018 2.037888e-65\n",
       "21      chr1 100037542 100039303 GPR88      K562     -0.151344681 3.408009e-03\n",
       "22      chr1 100037542 100039303 MFSD14A    K562      0.046124383 4.913634e-01\n",
       "23      chr1 100037542 100039303 RTCA       K562      0.232275772 1.431778e-06\n",
       "24      chr1 100037542 100039303 RTCA-AS1   K562      0.003831156 9.611155e-01\n",
       "25      chr1 100037542 100039303 SASS6      K562      0.274469342 5.635731e-09\n",
       "26      chr1 100037542 100039303 SLC30A7    K562      0.259758460 4.385500e-08\n",
       "27      chr1 100037542 100039303 SLC35A3    K562      0.363009924 1.274894e-15\n",
       "28      chr1 100037542 100039303 TRMT13     K562      0.615978806 3.605680e-51\n",
       "29      chr1 100044514 100044850 AGL        K562      0.192363705 1.042060e-04\n",
       "30      chr1 100044514 100044850 CDC14A     K562      0.033663579 6.312544e-01\n",
       "⋮       ⋮    ⋮         ⋮         ⋮          ⋮        ⋮            ⋮           \n",
       "5529741 chrX  999238    999388   AKAP17A    K562      0.057170810 3.738915e-01\n",
       "5529742 chrX  999238    999388   ASMT       K562      0.014108516 8.493411e-01\n",
       "5529743 chrX  999238    999388   ASMTL      K562      0.069759912 2.566862e-01\n",
       "5529744 chrX  999238    999388   CSF2RA     K562     -0.047883701 4.720407e-01\n",
       "5529745 chrX  999238    999388   GTPBP6     K562      0.061819244 3.281473e-01\n",
       "5529746 chrX  999238    999388   IL3RA      K562      0.037555103 5.872501e-01\n",
       "5529747 chrX  999238    999388   LINC00106  K562      0.081244058 1.707954e-01\n",
       "5529748 chrX  999238    999388   P2RY8      K562      0.047111355 4.804821e-01\n",
       "5529749 chrX  999238    999388   PLCXD1     K562      0.066148098 2.880703e-01\n",
       "5529750 chrX  999238    999388   PPP2R3B    K562      0.035021190 6.159339e-01\n",
       "5529751 chrX  999238    999388   SLC25A6    K562     -0.047681342 4.742385e-01\n",
       "5529752 chrX  999443    999815   AKAP17A    K562     -0.090324980 1.183171e-01\n",
       "5529753 chrX  999443    999815   ASMT       K562     -0.086243791 1.402513e-01\n",
       "5529754 chrX  999443    999815   ASMTL      K562     -0.132398347 1.259968e-02\n",
       "5529755 chrX  999443    999815   CSF2RA     K562     -0.096965503 8.818102e-02\n",
       "5529756 chrX  999443    999815   GTPBP6     K562      0.063524317 3.120696e-01\n",
       "5529757 chrX  999443    999815   IL3RA      K562      0.017738524 8.089704e-01\n",
       "5529758 chrX  999443    999815   LINC00106  K562      0.192444457 1.034010e-04\n",
       "5529759 chrX  999443    999815   P2RY8      K562      0.132020082 1.290780e-02\n",
       "5529760 chrX  999443    999815   PLCXD1     K562      0.131632092 1.323005e-02\n",
       "5529761 chrX  999443    999815   PPP2R3B    K562      0.184953960 2.093367e-04\n",
       "5529762 chrX  999443    999815   SLC25A6    K562     -0.134173164 1.123683e-02\n",
       "5529763 chrX 9995651   9996434   CLCN4      K562     -0.125246359 1.965194e-02\n",
       "5529764 chrX 9995651   9996434   GPR143     K562      0.048602143 4.642204e-01\n",
       "5529765 chrX 9995651   9996434   TBL1X      K562     -0.360086732 2.303472e-15\n",
       "5529766 chrX 9995651   9996434   WWC3       K562      0.125607206 1.922793e-02\n",
       "5529767 chrX 9997538   9997892   CLCN4      K562     -0.002874672 9.710121e-01\n",
       "5529768 chrX 9997538   9997892   GPR143     K562     -0.050063585 4.483879e-01\n",
       "5529769 chrX 9997538   9997892   TBL1X      K562     -0.323906064 2.101956e-12\n",
       "5529770 chrX 9997538   9997892   WWC3       K562      0.262860312 2.876341e-08\n",
       "        VarQATAC    VarQRNA  \n",
       "1       0.9388981   0.9191436\n",
       "2       0.9388981   0.9977237\n",
       "3       0.9388981   0.8503447\n",
       "4       0.9388981   0.9087355\n",
       "5       0.9388981   0.7528783\n",
       "6       0.9388981   0.7811830\n",
       "7       0.9388981   0.4086695\n",
       "8       0.9388981   0.7567875\n",
       "9       0.9388981   0.8874740\n",
       "10      0.9388981   0.7873520\n",
       "11      0.9388981   0.8476066\n",
       "12      0.9388981   0.9100881\n",
       "13      0.9388981   0.8586250\n",
       "14      0.9388981   0.9169498\n",
       "15      0.9889721   0.9191436\n",
       "16      0.9889721   0.9977237\n",
       "17      0.9889721   0.8503447\n",
       "18      0.9889721   0.9087355\n",
       "19      0.9889721   0.7528783\n",
       "20      0.9889721   0.7811830\n",
       "21      0.9889721   0.4086695\n",
       "22      0.9889721   0.7567875\n",
       "23      0.9889721   0.8874740\n",
       "24      0.9889721   0.7873520\n",
       "25      0.9889721   0.8476066\n",
       "26      0.9889721   0.9100881\n",
       "27      0.9889721   0.8586250\n",
       "28      0.9889721   0.9169498\n",
       "29      0.3859385   0.9191436\n",
       "30      0.3859385   0.9977237\n",
       "⋮       ⋮           ⋮        \n",
       "5529741 0.005431576 0.8813875\n",
       "5529742 0.005431576 0.6157424\n",
       "5529743 0.005431576 0.9110283\n",
       "5529744 0.005431576 0.9974598\n",
       "5529745 0.005431576 0.8796886\n",
       "5529746 0.005431576 0.9811302\n",
       "5529747 0.005431576 0.8269389\n",
       "5529748 0.005431576 0.9756540\n",
       "5529749 0.005431576 0.8525715\n",
       "5529750 0.005431576 0.8413717\n",
       "5529751 0.005431576 0.9645202\n",
       "5529752 0.368160680 0.8813875\n",
       "5529753 0.368160680 0.6157424\n",
       "5529754 0.368160680 0.9110283\n",
       "5529755 0.368160680 0.9974598\n",
       "5529756 0.368160680 0.8796886\n",
       "5529757 0.368160680 0.9811302\n",
       "5529758 0.368160680 0.8269389\n",
       "5529759 0.368160680 0.9756540\n",
       "5529760 0.368160680 0.8525715\n",
       "5529761 0.368160680 0.8413717\n",
       "5529762 0.368160680 0.9645202\n",
       "5529763 0.805903543 0.7719295\n",
       "5529764 0.805903543 0.6038993\n",
       "5529765 0.805903543 0.9797941\n",
       "5529766 0.805903543 0.8761587\n",
       "5529767 0.551018256 0.7719295\n",
       "5529768 0.551018256 0.6038993\n",
       "5529769 0.551018256 0.9797941\n",
       "5529770 0.551018256 0.8761587"
      ]
     },
     "metadata": {},
     "output_type": "display_data"
    }
   ],
   "source": [
    "saveRDS(obj.ArchR,\n",
    "        paste(dir.output,\"obj.ArchR.rds\",sep = \"/\"))\n",
    "saveRDS(pairs.E2G.res,\n",
    "        paste(dir.output,\"pairs.E2G.res.rds\",sep = \"/\"))\n",
    "df.output = as.data.frame(pairs.E2G.res,row.names = NULL)\n",
    "colnames(df.output)[1] = \"chr\"\n",
    "df.output[,\"CellType\"] = \"K562\"\n",
    "df.output = df.output[,c(\"chr\",\n",
    "                         \"start\",\n",
    "                         \"end\",\n",
    "                         \"TargetGene\",\n",
    "                         \"CellType\",\n",
    "                         \"Correlation\",\n",
    "                         \"FDR\",\n",
    "                         \"VarQATAC\",\n",
    "                         \"VarQRNA\")]\n",
    "data.table::fwrite(df.output,\n",
    "                   file = paste(dir.output,\"pairs.E2G.res.tsv.gz\",sep = \"/\"),\n",
    "                   row.names = F,\n",
    "                   quote = F,\n",
    "                   sep = \"\\t\")\n",
    "pairs.E2G.res\n",
    "df.output"
   ]
  },
  {
   "cell_type": "code",
   "execution_count": 31,
   "id": "4c909ed5-7321-4e69-8208-1544b371da6d",
   "metadata": {},
   "outputs": [
    {
     "data": {
      "text/plain": [
       "R version 4.3.3 (2024-02-29)\n",
       "Platform: x86_64-conda-linux-gnu (64-bit)\n",
       "Running under: Red Hat Enterprise Linux 8.9 (Ootpa)\n",
       "\n",
       "Matrix products: default\n",
       "BLAS/LAPACK: /maps/projects/ralab/people/lpm537/software/anaconda3/envs/Notebook_E2G_240505/lib/libopenblasp-r0.3.27.so;  LAPACK version 3.12.0\n",
       "\n",
       "Random number generation:\n",
       " RNG:     L'Ecuyer-CMRG \n",
       " Normal:  Inversion \n",
       " Sample:  Rejection \n",
       " \n",
       "locale:\n",
       " [1] LC_CTYPE=en_US.UTF-8       LC_NUMERIC=C              \n",
       " [3] LC_TIME=en_US.UTF-8        LC_COLLATE=en_US.UTF-8    \n",
       " [5] LC_MONETARY=en_US.UTF-8    LC_MESSAGES=en_US.UTF-8   \n",
       " [7] LC_PAPER=en_US.UTF-8       LC_NAME=C                 \n",
       " [9] LC_ADDRESS=C               LC_TELEPHONE=C            \n",
       "[11] LC_MEASUREMENT=en_US.UTF-8 LC_IDENTIFICATION=C       \n",
       "\n",
       "time zone: Europe/Copenhagen\n",
       "tzcode source: system (glibc)\n",
       "\n",
       "attached base packages:\n",
       " [1] parallel  stats4    grid      stats     graphics  grDevices utils    \n",
       " [8] datasets  methods   base     \n",
       "\n",
       "other attached packages:\n",
       " [1] uwot_0.1.16                       nabor_0.5.0                      \n",
       " [3] BSgenome.Hsapiens.UCSC.hg38_1.4.5 BSgenome_1.68.0                  \n",
       " [5] rtracklayer_1.60.1                Biostrings_2.70.1                \n",
       " [7] XVector_0.42.0                    genomation_1.34.0                \n",
       " [9] Signac_1.13.0                     Seurat_5.0.3                     \n",
       "[11] SeuratObject_5.0.1                sp_2.1-4                         \n",
       "[13] rhdf5_2.44.0                      SummarizedExperiment_1.30.2      \n",
       "[15] Biobase_2.60.0                    MatrixGenerics_1.12.3            \n",
       "[17] Rcpp_1.0.12                       Matrix_1.6-5                     \n",
       "[19] GenomicRanges_1.54.1              GenomeInfoDb_1.38.1              \n",
       "[21] IRanges_2.36.0                    S4Vectors_0.40.2                 \n",
       "[23] BiocGenerics_0.48.1               matrixStats_1.3.0                \n",
       "[25] data.table_1.15.2                 stringr_1.5.1                    \n",
       "[27] plyr_1.8.9                        magrittr_2.0.3                   \n",
       "[29] ggplot2_3.5.1                     gtable_0.3.5                     \n",
       "[31] gtools_3.9.5                      gridExtra_2.3                    \n",
       "[33] ArchR_1.0.2                      \n",
       "\n",
       "loaded via a namespace (and not attached):\n",
       "  [1] RcppAnnoy_0.0.22         splines_4.3.3            later_1.3.2             \n",
       "  [4] pbdZMQ_0.3-11            BiocIO_1.10.0            bitops_1.0-7            \n",
       "  [7] tibble_3.2.1             polyclip_1.10-6          XML_3.99-0.16.1         \n",
       " [10] fastDummies_1.7.3        lifecycle_1.0.4          globals_0.16.3          \n",
       " [13] lattice_0.22-6           MASS_7.3-60              plotly_4.10.4           \n",
       " [16] plotrix_3.8-4            yaml_2.3.8               httpuv_1.6.15           \n",
       " [19] sctransform_0.4.1        spam_2.10-0              spatstat.sparse_3.0-3   \n",
       " [22] reticulate_1.36.1        cowplot_1.1.3            pbapply_1.7-2           \n",
       " [25] RColorBrewer_1.1-3       abind_1.4-5              zlibbioc_1.48.0         \n",
       " [28] Rtsne_0.17               purrr_1.0.2              RCurl_1.98-1.14         \n",
       " [31] GenomeInfoDbData_1.2.11  ggrepel_0.9.5            irlba_2.3.5.1           \n",
       " [34] listenv_0.9.1            spatstat.utils_3.0-4     goftest_1.2-3           \n",
       " [37] RSpectra_0.16-1          spatstat.random_3.2-3    fitdistrplus_1.1-11     \n",
       " [40] parallelly_1.37.1        leiden_0.4.3.1           codetools_0.2-20        \n",
       " [43] DelayedArray_0.26.7      RcppRoll_0.3.0           tidyselect_1.2.1        \n",
       " [46] farver_2.1.1             base64enc_0.1-3          spatstat.explore_3.2-6  \n",
       " [49] GenomicAlignments_1.36.0 jsonlite_1.8.8           progressr_0.14.0        \n",
       " [52] ggridges_0.5.6           survival_3.6-4           tools_4.3.3             \n",
       " [55] ica_1.0-3                glue_1.7.0               IRdisplay_1.1           \n",
       " [58] dplyr_1.1.4              withr_3.0.0              fastmap_1.1.1           \n",
       " [61] rhdf5filters_1.12.1      fansi_1.0.6              digest_0.6.35           \n",
       " [64] R6_2.5.1                 mime_0.12                seqPattern_1.34.0       \n",
       " [67] colorspace_2.1-0         Cairo_1.6-2              scattermore_1.2         \n",
       " [70] tensor_1.5               spatstat.data_3.0-4      utf8_1.2.4              \n",
       " [73] tidyr_1.3.1              generics_0.1.3           httr_1.4.7              \n",
       " [76] htmlwidgets_1.6.4        S4Arrays_1.2.1           pkgconfig_2.0.3         \n",
       " [79] impute_1.76.0            lmtest_0.9-40            htmltools_0.5.8.1       \n",
       " [82] dotCall64_1.1-1          scales_1.3.0             png_0.1-8               \n",
       " [85] tzdb_0.4.0               reshape2_1.4.4           rjson_0.2.21            \n",
       " [88] uuid_1.2-0               nlme_3.1-164             repr_1.1.7              \n",
       " [91] zoo_1.8-12               KernSmooth_2.23-22       miniUI_0.1.1.1          \n",
       " [94] restfulr_0.0.15          pillar_1.9.0             vctrs_0.6.5             \n",
       " [97] RANN_2.6.1               promises_1.3.0           xtable_1.8-4            \n",
       "[100] cluster_2.1.6            evaluate_0.23            readr_2.1.5             \n",
       "[103] cli_3.6.2                compiler_4.3.3           Rsamtools_2.18.0        \n",
       "[106] rlang_1.1.3              crayon_1.5.2             future.apply_1.11.2     \n",
       "[109] labeling_0.4.3           stringi_1.8.3            gridBase_0.4-7          \n",
       "[112] viridisLite_0.4.2        deldir_2.0-4             BiocParallel_1.36.0     \n",
       "[115] munsell_0.5.1            lazyeval_0.2.2           spatstat.geom_3.2-9     \n",
       "[118] IRkernel_1.3.2           RcppHNSW_0.6.0           hms_1.1.3               \n",
       "[121] patchwork_1.2.0          future_1.33.2            Rhdf5lib_1.22.1         \n",
       "[124] shiny_1.8.1.1            ROCR_1.0-11              igraph_2.0.3            \n",
       "[127] fastmatch_1.1-4         "
      ]
     },
     "metadata": {},
     "output_type": "display_data"
    }
   ],
   "source": [
    "sessionInfo()"
   ]
  },
  {
   "cell_type": "code",
   "execution_count": null,
   "id": "b54012ba-20d1-4787-8d0d-d851ef1744c4",
   "metadata": {},
   "outputs": [],
   "source": []
  }
 ],
 "metadata": {
  "kernelspec": {
   "display_name": "R",
   "language": "R",
   "name": "ir"
  },
  "language_info": {
   "codemirror_mode": "r",
   "file_extension": ".r",
   "mimetype": "text/x-r-source",
   "name": "R",
   "pygments_lexer": "r",
   "version": "4.3.3"
  }
 },
 "nbformat": 4,
 "nbformat_minor": 5
}
