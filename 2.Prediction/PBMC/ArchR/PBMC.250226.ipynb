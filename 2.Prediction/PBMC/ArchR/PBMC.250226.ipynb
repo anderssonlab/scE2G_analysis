{
 "cells": [
  {
   "cell_type": "code",
   "execution_count": 1,
   "id": "c8466b35-cae5-4f62-8138-37b2de484a74",
   "metadata": {},
   "outputs": [
    {
     "name": "stderr",
     "output_type": "stream",
     "text": [
      "\n",
      "                                                   / |\n",
      "                                                 /    \\\n",
      "            .                                  /      |.\n",
      "            \\\\\\                              /        |.\n",
      "              \\\\\\                          /           `|.\n",
      "                \\\\\\                      /              |.\n",
      "                  \\                    /                |\\\n",
      "                  \\\\#####\\           /                  ||\n",
      "                ==###########>      /                   ||\n",
      "                 \\\\##==......\\    /                     ||\n",
      "            ______ =       =|__ /__                     ||      \\\\\\\n",
      "        ,--' ,----`-,__ ___/'  --,-`-===================##========>\n",
      "       \\               '        ##_______ _____ ,--,__,=##,__   ///\n",
      "        ,    __==    ___,-,__,--'#'  ==='      `-'    | ##,-/\n",
      "        -,____,---'       \\\\####\\\\________________,--\\\\_##,/\n",
      "           ___      .______        ______  __    __  .______      \n",
      "          /   \\     |   _  \\      /      ||  |  |  | |   _  \\     \n",
      "         /  ^  \\    |  |_)  |    |  ,----'|  |__|  | |  |_)  |    \n",
      "        /  /_\\  \\   |      /     |  |     |   __   | |      /     \n",
      "       /  _____  \\  |  |\\  \\\\___ |  `----.|  |  |  | |  |\\  \\\\___.\n",
      "      /__/     \\__\\ | _| `._____| \\______||__|  |__| | _| `._____|\n",
      "    \n",
      "\n",
      "ArchR : Version 1.0.2\n",
      "For more information see our website : www.ArchRProject.com\n",
      "If you encounter a bug please report : https://github.com/GreenleafLab/ArchR/issues\n",
      "\n",
      "Loading Required Packages...\n",
      "\n",
      "\tLoading Package : grid v4.3.3\n",
      "\n",
      "\tLoading Package : gridExtra v2.3\n",
      "\n",
      "\tLoading Package : gtools v3.9.5\n",
      "\n",
      "\tLoading Package : gtable v0.3.5\n",
      "\n",
      "\tLoading Package : ggplot2 v3.5.1\n",
      "\n",
      "\tLoading Package : magrittr v2.0.3\n",
      "\n",
      "\tLoading Package : plyr v1.8.9\n",
      "\n",
      "\tLoading Package : stringr v1.5.1\n",
      "\n",
      "\tLoading Package : data.table v1.15.2\n",
      "\n",
      "\tLoading Package : matrixStats v1.3.0\n",
      "\n",
      "\tLoading Package : S4Vectors v0.40.2\n",
      "\n",
      "\tLoading Package : GenomicRanges v1.54.1\n",
      "\n",
      "\tLoading Package : BiocGenerics v0.48.1\n",
      "\n",
      "\tLoading Package : Matrix v1.6.5\n",
      "\n",
      "\tLoading Package : Rcpp v1.0.12\n",
      "\n",
      "\tLoading Package : SummarizedExperiment v1.30.2\n",
      "\n",
      "\tLoading Package : rhdf5 v2.44.0\n",
      "\n",
      "Loading required package: SeuratObject\n",
      "\n",
      "Loading required package: sp\n",
      "\n",
      "\n",
      "Attaching package: ‘sp’\n",
      "\n",
      "\n",
      "The following object is masked from ‘package:IRanges’:\n",
      "\n",
      "    %over%\n",
      "\n",
      "\n",
      "‘SeuratObject’ was built under R 4.3.2 but the current version is\n",
      "4.3.3; it is recomended that you reinstall ‘SeuratObject’ as the ABI\n",
      "for R may have changed\n",
      "\n",
      "‘SeuratObject’ was built with package ‘Matrix’ 1.6.3 but the current\n",
      "version is 1.6.5; it is recomended that you reinstall ‘SeuratObject’ as\n",
      "the ABI for ‘Matrix’ may have changed\n",
      "\n",
      "\n",
      "Attaching package: ‘SeuratObject’\n",
      "\n",
      "\n",
      "The following object is masked from ‘package:SummarizedExperiment’:\n",
      "\n",
      "    Assays\n",
      "\n",
      "\n",
      "The following object is masked from ‘package:GenomicRanges’:\n",
      "\n",
      "    intersect\n",
      "\n",
      "\n",
      "The following object is masked from ‘package:GenomeInfoDb’:\n",
      "\n",
      "    intersect\n",
      "\n",
      "\n",
      "The following object is masked from ‘package:IRanges’:\n",
      "\n",
      "    intersect\n",
      "\n",
      "\n",
      "The following object is masked from ‘package:S4Vectors’:\n",
      "\n",
      "    intersect\n",
      "\n",
      "\n",
      "The following object is masked from ‘package:BiocGenerics’:\n",
      "\n",
      "    intersect\n",
      "\n",
      "\n",
      "The following object is masked from ‘package:base’:\n",
      "\n",
      "    intersect\n",
      "\n",
      "\n",
      "\n",
      "Attaching package: ‘Seurat’\n",
      "\n",
      "\n",
      "The following object is masked from ‘package:SummarizedExperiment’:\n",
      "\n",
      "    Assays\n",
      "\n",
      "\n",
      "Warning message:\n",
      "“replacing previous import ‘Biostrings::pattern’ by ‘grid::pattern’ when loading ‘genomation’”\n"
     ]
    }
   ],
   "source": [
    "library(ArchR)\n",
    "library(Seurat)\n",
    "library(Signac)\n",
    "library(magrittr)\n",
    "library(genomation)\n",
    "library(GenomicRanges)\n",
    "library(Matrix)\n",
    "library(ggplot2)"
   ]
  },
  {
   "cell_type": "markdown",
   "id": "e85020d7-d358-492d-9358-c81270f4b624",
   "metadata": {},
   "source": [
    "Specify file path"
   ]
  },
  {
   "cell_type": "code",
   "execution_count": 2,
   "id": "1bec6690-52ec-450d-bba7-7d4528a185cd",
   "metadata": {},
   "outputs": [],
   "source": [
    "gene_gtf_path = \"/maps/projects/ralab/data/genome/hg38/gencode.v43.chr_patch_hapl_scaff.annotation.gtf\"\n",
    "abc_genes_path = \"/maps/projects/ralab_nnfc-AUDIT/people/lpm537/software/scE2G_pipeline/241203/scE2G/ENCODE_rE2G/ABC/reference/hg38/CollapsedGeneBounds.hg38.TSS500bp.bed\"\n",
    "path.seurat = \"/maps/projects/ralab_nnfc-AUDIT/people/lpm537/project/E2G/analysis/E2G_240503/data/PBMC/1.prepare_data/2.merge_peaks.240624/obj.seurat.rds\"\n",
    "path.pairs.E2G = \"/maps/projects/ralab_nnfc-AUDIT/people/lpm537/project/E2G/analysis/E2G_240503/data/PBMC/1.prepare_data/2.merge_peaks.240624/pairs.rds\"\n",
    "dir.output = \"/maps/projects/ralab_nnfc-AUDIT/people/lpm537/project/E2G/analysis/E2G_240503/data/PBMC/2.Genome_wide_prediction/ArchR_250226/PBMC.250226/\""
   ]
  },
  {
   "cell_type": "code",
   "execution_count": 3,
   "id": "340dac32-44ac-4231-b964-b5f3b9e2dbde",
   "metadata": {},
   "outputs": [],
   "source": [
    "n.cores = 16\n",
    "maxDist = 1000000"
   ]
  },
  {
   "cell_type": "code",
   "execution_count": 4,
   "id": "da973385-4c81-4b1c-9669-cf5933b23a39",
   "metadata": {},
   "outputs": [
    {
     "name": "stderr",
     "output_type": "stream",
     "text": [
      "Setting default number of Parallel threads to 16.\n",
      "\n",
      "Setting default genome to Hg38.\n",
      "\n"
     ]
    }
   ],
   "source": [
    "addArchRThreads(threads = n.cores) \n",
    "addArchRGenome(\"hg38\")"
   ]
  },
  {
   "cell_type": "markdown",
   "id": "eeb26496-d3b9-4778-92ed-9c63a5018aef",
   "metadata": {},
   "source": [
    "Import seurat object"
   ]
  },
  {
   "cell_type": "code",
   "execution_count": 5,
   "id": "c9b19a09-be95-4d9a-bdc3-0530980d4757",
   "metadata": {},
   "outputs": [],
   "source": [
    "obj.seurat = readRDS(path.seurat)"
   ]
  },
  {
   "cell_type": "markdown",
   "id": "86be3e66-c954-4620-9e64-c6a1c0fcb84c",
   "metadata": {},
   "source": [
    "Import candidate E-G pairs"
   ]
  },
  {
   "cell_type": "code",
   "execution_count": 6,
   "id": "6f363969-bf0b-45ce-858c-a8cb64cc210a",
   "metadata": {},
   "outputs": [],
   "source": [
    "pairs.E2G = readRDS(path.pairs.E2G)"
   ]
  },
  {
   "cell_type": "markdown",
   "id": "3538ffdc-4fed-48eb-9c9d-86805a91cf06",
   "metadata": {},
   "source": [
    "Create an ArchRProject"
   ]
  },
  {
   "cell_type": "code",
   "execution_count": 7,
   "id": "0300f485-fafa-4cef-b9d0-534108ec6f95",
   "metadata": {},
   "outputs": [
    {
     "name": "stdout",
     "output_type": "stream",
     "text": [
      "List of 4\n",
      " $ :Formal class 'Fragment' [package \"Signac\"] with 3 slots\n",
      "  .. ..@ path : chr \"/maps/projects/ralab_nnfc-AUDIT/people/lpm537/project/E2G/processed/10x_multiome_230720/10x/cellranger_res/Mult\"| __truncated__\n",
      "  .. ..@ hash : chr [1:2] \"207cb60f65ef2e2be39e539ee5520519\" \"e5c3f5ba4228a5e94f46a5f1ce8718aa\"\n",
      "  .. ..@ cells: Named chr(0) \n",
      "  .. .. ..- attr(*, \"names\")= chr(0) \n",
      " $ :Formal class 'Fragment' [package \"Signac\"] with 3 slots\n",
      "  .. ..@ path : chr \"/maps/projects/ralab_nnfc-AUDIT/people/lpm537/project/E2G/processed/10x_multiome_230720/10x/cellranger_res/Mult\"| __truncated__\n",
      "  .. ..@ hash : chr [1:2] \"06b335033e26e5c283ebdb4f5bbbba87\" \"f3de618091078518eeb6582f6c90db76\"\n",
      "  .. ..@ cells: Named chr(0) \n",
      "  .. .. ..- attr(*, \"names\")= chr(0) \n",
      " $ :Formal class 'Fragment' [package \"Signac\"] with 3 slots\n",
      "  .. ..@ path : chr \"/maps/projects/ralab_nnfc-AUDIT/people/lpm537/project/E2G/processed/10x_multiome_230720/10x/cellranger_res/Mult\"| __truncated__\n",
      "  .. ..@ hash : chr [1:2] \"e23e8d9fedc84eb158688bbc4e1c904e\" \"c7fe9d0868a71e43a3b19407de0c8f5c\"\n",
      "  .. ..@ cells: Named chr [1:9226] \"AAACAGCCAACAACAA-1\" \"AAACAGCCACCGGCTA-1\" \"AAACAGCCAGGACACA-1\" \"AAACAGCCATCCTAGA-1\" ...\n",
      "  .. .. ..- attr(*, \"names\")= chr [1:9226] \"Multiome10x_05_AAACAGCCAACAACAA-1\" \"Multiome10x_05_AAACAGCCACCGGCTA-1\" \"Multiome10x_05_AAACAGCCAGGACACA-1\" \"Multiome10x_05_AAACAGCCATCCTAGA-1\" ...\n",
      " $ :Formal class 'Fragment' [package \"Signac\"] with 3 slots\n",
      "  .. ..@ path : chr \"/maps/projects/ralab_nnfc-AUDIT/people/lpm537/project/E2G/processed/10x_multiome_230720/10x/cellranger_res/Mult\"| __truncated__\n",
      "  .. ..@ hash : chr [1:2] \"fc74ab4a40b4616b2f69e9416d0b2e69\" \"b44a2ebc80a9d72ef71f9a4ce787f0e1\"\n",
      "  .. ..@ cells: Named chr [1:8957] \"AAACAGCCAACAACAA-1\" \"AAACAGCCAAGGACCA-1\" \"AAACAGCCACAATGCC-1\" \"AAACAGCCATGAGCAG-1\" ...\n",
      "  .. .. ..- attr(*, \"names\")= chr [1:8957] \"Multiome10x_06_AAACAGCCAACAACAA-1\" \"Multiome10x_06_AAACAGCCAAGGACCA-1\" \"Multiome10x_06_AAACAGCCACAATGCC-1\" \"Multiome10x_06_AAACAGCCATGAGCAG-1\" ...\n"
     ]
    }
   ],
   "source": [
    "str(Fragments(obj.seurat))"
   ]
  },
  {
   "cell_type": "code",
   "execution_count": 8,
   "id": "1753ffaa-89e2-43bf-bcf6-19937782d63a",
   "metadata": {},
   "outputs": [
    {
     "name": "stderr",
     "output_type": "stream",
     "text": [
      "Using GeneAnnotation set by addArchRGenome(Hg38)!\n",
      "\n",
      "Using GeneAnnotation set by addArchRGenome(Hg38)!\n",
      "\n",
      "ArchR logging to : ArchRLogs/ArchR-createArrows-75a587c08cbc5-Date-2025-02-26_Time-15-03-17.115913.log\n",
      "If there is an issue, please report to github with logFile!\n",
      "\n",
      "Cleaning Temporary Files\n",
      "\n",
      "2025-02-26 15:03:17.527316 : Batch Execution w/ safelapply!, 0 mins elapsed.\n",
      "\n",
      "ArchR logging successful to : ArchRLogs/ArchR-createArrows-75a587c08cbc5-Date-2025-02-26_Time-15-03-17.115913.log\n",
      "\n"
     ]
    }
   ],
   "source": [
    "ArrowFiles <- createArrowFiles(\n",
    "  inputFiles = c(Fragments(obj.seurat)[[3]]@path,\n",
    "                 Fragments(obj.seurat)[[4]]@path),\n",
    "  sampleNames = c(\"Multiome10x_05\",\n",
    "                  \"Multiome10x_06\"),\n",
    "  validBarcodes = list(Multiome10x_05 = unname(Fragments(obj.seurat)[[3]]@cells),\n",
    "                       Multiome10x_06 = unname(Fragments(obj.seurat)[[4]]@cells)),\n",
    "  addTileMat = T,\n",
    "  addGeneScoreMat = F,\n",
    "  force = T\n",
    ")"
   ]
  },
  {
   "cell_type": "code",
   "execution_count": 9,
   "id": "ada3db45-d050-4659-a7cf-2891e04b1249",
   "metadata": {},
   "outputs": [
    {
     "data": {
      "text/html": [
       "<style>\n",
       ".list-inline {list-style: none; margin:0; padding: 0}\n",
       ".list-inline>li {display: inline-block}\n",
       ".list-inline>li:not(:last-child)::after {content: \"\\00b7\"; padding: 0 .5ex}\n",
       "</style>\n",
       "<ol class=list-inline><li>'Multiome10x_05.arrow'</li><li>'Multiome10x_06.arrow'</li></ol>\n"
      ],
      "text/latex": [
       "\\begin{enumerate*}\n",
       "\\item 'Multiome10x\\_05.arrow'\n",
       "\\item 'Multiome10x\\_06.arrow'\n",
       "\\end{enumerate*}\n"
      ],
      "text/markdown": [
       "1. 'Multiome10x_05.arrow'\n",
       "2. 'Multiome10x_06.arrow'\n",
       "\n",
       "\n"
      ],
      "text/plain": [
       "[1] \"Multiome10x_05.arrow\" \"Multiome10x_06.arrow\""
      ]
     },
     "metadata": {},
     "output_type": "display_data"
    }
   ],
   "source": [
    "ArrowFiles"
   ]
  },
  {
   "cell_type": "code",
   "execution_count": 10,
   "id": "5ba28283-d488-4982-8d4c-745fc3f59365",
   "metadata": {},
   "outputs": [],
   "source": [
    "dir.create(paste(dir.output,\"ArchR\",sep=\"/\"),recursive = T)"
   ]
  },
  {
   "cell_type": "code",
   "execution_count": 11,
   "id": "aa217507-8323-43bf-b23c-0ec25ee33c85",
   "metadata": {},
   "outputs": [
    {
     "name": "stderr",
     "output_type": "stream",
     "text": [
      "Using GeneAnnotation set by addArchRGenome(Hg38)!\n",
      "\n",
      "Using GeneAnnotation set by addArchRGenome(Hg38)!\n",
      "\n",
      "Validating Arrows...\n",
      "\n",
      "Getting SampleNames...\n",
      "\n",
      "\n",
      "\n",
      "Copying ArrowFiles to Ouptut Directory! If you want to save disk space set copyArrows = FALSE\n",
      "\n",
      "1 \n",
      "2 \n",
      "\n",
      "\n",
      "Getting Cell Metadata...\n",
      "\n",
      "\n",
      "\n",
      "Merging Cell Metadata...\n",
      "\n",
      "Initializing ArchRProject...\n",
      "\n",
      "\n",
      "                                                   / |\n",
      "                                                 /    \\\n",
      "            .                                  /      |.\n",
      "            \\\\\\                              /        |.\n",
      "              \\\\\\                          /           `|.\n",
      "                \\\\\\                      /              |.\n",
      "                  \\                    /                |\\\n",
      "                  \\\\#####\\           /                  ||\n",
      "                ==###########>      /                   ||\n",
      "                 \\\\##==......\\    /                     ||\n",
      "            ______ =       =|__ /__                     ||      \\\\\\\n",
      "        ,--' ,----`-,__ ___/'  --,-`-===================##========>\n",
      "       \\               '        ##_______ _____ ,--,__,=##,__   ///\n",
      "        ,    __==    ___,-,__,--'#'  ==='      `-'    | ##,-/\n",
      "        -,____,---'       \\\\####\\\\________________,--\\\\_##,/\n",
      "           ___      .______        ______  __    __  .______      \n",
      "          /   \\     |   _  \\      /      ||  |  |  | |   _  \\     \n",
      "         /  ^  \\    |  |_)  |    |  ,----'|  |__|  | |  |_)  |    \n",
      "        /  /_\\  \\   |      /     |  |     |   __   | |      /     \n",
      "       /  _____  \\  |  |\\  \\\\___ |  `----.|  |  |  | |  |\\  \\\\___.\n",
      "      /__/     \\__\\ | _| `._____| \\______||__|  |__| | _| `._____|\n",
      "    \n",
      "\n"
     ]
    }
   ],
   "source": [
    "obj.ArchR <- ArchRProject(\n",
    "  ArrowFiles = ArrowFiles, \n",
    "  outputDirectory = paste(dir.output,\"ArchR\",sep=\"/\"),\n",
    "  copyArrows = TRUE \n",
    ")"
   ]
  },
  {
   "cell_type": "code",
   "execution_count": 12,
   "id": "f9795403-545f-4385-aa38-2c70b1b2fb21",
   "metadata": {},
   "outputs": [
    {
     "name": "stderr",
     "output_type": "stream",
     "text": [
      "\n",
      "           ___      .______        ______  __    __  .______      \n",
      "          /   \\     |   _  \\      /      ||  |  |  | |   _  \\     \n",
      "         /  ^  \\    |  |_)  |    |  ,----'|  |__|  | |  |_)  |    \n",
      "        /  /_\\  \\   |      /     |  |     |   __   | |      /     \n",
      "       /  _____  \\  |  |\\  \\\\___ |  `----.|  |  |  | |  |\\  \\\\___.\n",
      "      /__/     \\__\\ | _| `._____| \\______||__|  |__| | _| `._____|\n",
      "    \n",
      "\n"
     ]
    },
    {
     "data": {
      "text/plain": [
       "class: ArchRProject \n",
       "outputDirectory: /maps/projects/ralab_nnfc-AUDIT/people/lpm537/project/E2G/analysis/E2G_240503/data/PBMC/2.Genome_wide_prediction/ArchR_250226/PBMC.250226/ArchR \n",
       "samples(2): Multiome10x_05 Multiome10x_06\n",
       "sampleColData names(1): ArrowFiles\n",
       "cellColData names(13): Sample TSSEnrichment ... nDiFrags BlacklistRatio\n",
       "numberOfCells(1): 18145\n",
       "medianTSS(1): 18.227\n",
       "medianFrags(1): 18622"
      ]
     },
     "metadata": {},
     "output_type": "display_data"
    }
   ],
   "source": [
    "obj.ArchR"
   ]
  },
  {
   "cell_type": "code",
   "execution_count": 13,
   "id": "ee876dd5-0b22-46fd-9015-7e22144c5024",
   "metadata": {},
   "outputs": [
    {
     "name": "stderr",
     "output_type": "stream",
     "text": [
      "Checking Inputs...\n",
      "\n",
      "ArchR logging to : ArchRLogs/ArchR-addIterativeLSI-75a581af2a1e1-Date-2025-02-26_Time-15-22-37.795753.log\n",
      "If there is an issue, please report to github with logFile!\n",
      "\n",
      "2025-02-26 15:22:39.459819 : Computing Total Across All Features, 0.004 mins elapsed.\n",
      "\n",
      "2025-02-26 15:22:43.04207 : Computing Top Features, 0.064 mins elapsed.\n",
      "\n",
      "###########\n",
      "2025-02-26 15:22:45.364898 : Running LSI (1 of 2) on Top Features, 0.102 mins elapsed.\n",
      "###########\n",
      "\n",
      "2025-02-26 15:22:45.418175 : Sampling Cells (N = 10001) for Estimated LSI, 0.103 mins elapsed.\n",
      "\n",
      "2025-02-26 15:22:45.422584 : Creating Sampled Partial Matrix, 0.103 mins elapsed.\n",
      "\n",
      "2025-02-26 15:23:03.137311 : Computing Estimated LSI (projectAll = FALSE), 0.399 mins elapsed.\n",
      "\n",
      "2025-02-26 15:24:38.267203 : Identifying Clusters, 1.984 mins elapsed.\n",
      "\n",
      "Warning message:\n",
      "“Data is of class matrix. Coercing to dgCMatrix.”\n",
      "2025-02-26 15:24:49.773741 : Identified 6 Clusters, 2.176 mins elapsed.\n",
      "\n",
      "2025-02-26 15:24:49.805234 : Saving LSI Iteration, 2.176 mins elapsed.\n",
      "\n",
      "Found more than one class \"dist\" in cache; using the first, from namespace 'BiocGenerics'\n",
      "\n",
      "Also defined by ‘spam’\n",
      "\n",
      "Found more than one class \"dist\" in cache; using the first, from namespace 'BiocGenerics'\n",
      "\n",
      "Also defined by ‘spam’\n",
      "\n"
     ]
    },
    {
     "name": "stdout",
     "output_type": "stream",
     "text": [
      "\n",
      "************************************************************\n",
      "2025-02-26 15:25:00.126629 : ERROR Found in .saveIteration for  \n",
      "LogFile = ArchRLogs/ArchR-addIterativeLSI-75a581af2a1e1-Date-2025-02-26_Time-15-22-37.795753.log\n",
      "\n",
      "<simpleError in g$grobs[[legend]]: no such index at level 2\n",
      ">\n",
      "\n",
      "************************************************************\n",
      "\n"
     ]
    },
    {
     "name": "stderr",
     "output_type": "stream",
     "text": [
      "2025-02-26 15:25:00.129153 : Creating Cluster Matrix on the total Group Features, 2.348 mins elapsed.\n",
      "\n",
      "2025-02-26 15:25:11.885261 : Computing Variable Features, 2.544 mins elapsed.\n",
      "\n",
      "###########\n",
      "2025-02-26 15:25:12.027225 : Running LSI (2 of 2) on Variable Features, 2.547 mins elapsed.\n",
      "###########\n",
      "\n",
      "2025-02-26 15:25:12.048876 : Creating Partial Matrix, 2.547 mins elapsed.\n",
      "\n",
      "2025-02-26 15:25:44.14043 : Computing LSI, 3.082 mins elapsed.\n",
      "\n",
      "2025-02-26 15:26:36.373591 : Finished Running IterativeLSI, 3.952 mins elapsed.\n",
      "\n"
     ]
    }
   ],
   "source": [
    "obj.ArchR = addIterativeLSI(\n",
    "    ArchRProj = obj.ArchR,\n",
    "    useMatrix = \"TileMatrix\", \n",
    "    name = \"IterativeLSI\"\n",
    ")"
   ]
  },
  {
   "cell_type": "code",
   "execution_count": 14,
   "id": "2c1d334b-7fd7-425a-bb8d-7be4cbedd3e4",
   "metadata": {},
   "outputs": [],
   "source": [
    "obj.ArchR = addPeakSet(obj.ArchR,\n",
    "                       peakSet = reduce(pairs.E2G))"
   ]
  },
  {
   "cell_type": "code",
   "execution_count": 15,
   "id": "e25c14db-eb4e-4b94-8862-eb34246a365c",
   "metadata": {},
   "outputs": [
    {
     "name": "stderr",
     "output_type": "stream",
     "text": [
      "ArchR logging to : ArchRLogs/ArchR-addPeakMatrix-75a58c572547-Date-2025-02-26_Time-15-26-39.667168.log\n",
      "If there is an issue, please report to github with logFile!\n",
      "\n",
      "2025-02-26 15:26:39.985632 : Batch Execution w/ safelapply!, 0 mins elapsed.\n",
      "\n",
      "ArchR logging successful to : ArchRLogs/ArchR-addPeakMatrix-75a58c572547-Date-2025-02-26_Time-15-26-39.667168.log\n",
      "\n"
     ]
    }
   ],
   "source": [
    "obj.ArchR = addPeakMatrix(obj.ArchR)"
   ]
  },
  {
   "cell_type": "code",
   "execution_count": 16,
   "id": "8887890f-a614-412f-83fb-9a44ecbd0e74",
   "metadata": {},
   "outputs": [
    {
     "name": "stderr",
     "output_type": "stream",
     "text": [
      "Importing Feature Matrix 1 of 1\n",
      "\n",
      "Re-ordering RNA matricies for consistency.\n",
      "\n",
      "Importing Feature Matrix 1 of 1\n",
      "\n",
      "Re-ordering RNA matricies for consistency.\n",
      "\n"
     ]
    }
   ],
   "source": [
    "paths.h5 = c(\"/maps/projects/ralab_nnfc-AUDIT/people/lpm537/project/E2G/processed/10x_multiome_230720/10x/cellranger_res/Multiome10x_05/outs/raw_feature_bc_matrix.h5\",\n",
    "             \"/maps/projects/ralab_nnfc-AUDIT/people/lpm537/project/E2G/processed/10x_multiome_230720/10x/cellranger_res/Multiome10x_06/outs/raw_feature_bc_matrix.h5\")\n",
    "names.sample = c(\"Multiome10x_05\",\n",
    "                 \"Multiome10x_06\")\n",
    "list.seRNA = lapply(1:length(names.sample),function(x){\n",
    "    import10xFeatureMatrix(paths.h5[x],\n",
    "                           names.sample[x])\n",
    "})"
   ]
  },
  {
   "cell_type": "code",
   "execution_count": 17,
   "id": "93d78aef-1337-4876-9bc8-38bfd7d6e112",
   "metadata": {},
   "outputs": [
    {
     "data": {
      "text/html": [
       "61218"
      ],
      "text/latex": [
       "61218"
      ],
      "text/markdown": [
       "61218"
      ],
      "text/plain": [
       "[1] 61218"
      ]
     },
     "metadata": {},
     "output_type": "display_data"
    },
    {
     "data": {
      "text/html": [
       "61202"
      ],
      "text/latex": [
       "61202"
      ],
      "text/markdown": [
       "61202"
      ],
      "text/plain": [
       "[1] 61202"
      ]
     },
     "metadata": {},
     "output_type": "display_data"
    }
   ],
   "source": [
    "id.intersect = rowData(list.seRNA[[1]])[,\"id\"]\n",
    "length(id.intersect)\n",
    "for(n.tmp in 2){\n",
    "    id.intersect = intersect(id.intersect,rowData(list.seRNA[[n.tmp]])[,\"id\"])\n",
    "}\n",
    "length(id.intersect)"
   ]
  },
  {
   "cell_type": "code",
   "execution_count": 18,
   "id": "504f6e06-183d-4ecf-a745-32719a2972d8",
   "metadata": {},
   "outputs": [
    {
     "data": {
      "text/plain": [
       "class: RangedSummarizedExperiment \n",
       "dim: 61202 1466924 \n",
       "metadata(0):\n",
       "assays(1): counts\n",
       "rownames(61202): DDX11L1 MIR6859-1 ... RNA5-8SN5 ENSG00000273937\n",
       "rowData names(5): feature_type genome id interval name\n",
       "colnames(1466924): Multiome10x_05#AAACAGCCAAACAACA-1\n",
       "  Multiome10x_05#AAACAGCCAAACATAG-1 ...\n",
       "  Multiome10x_06#TTTGTTGGTTTGTGGA-1 Multiome10x_06#TTTGTTGGTTTGTTGC-1\n",
       "colData names(0):"
      ]
     },
     "metadata": {},
     "output_type": "display_data"
    }
   ],
   "source": [
    "seRNA = list.seRNA[[1]][rowData(list.seRNA[[1]])[,\"id\"] %in% id.intersect]\n",
    "for(n.tmp in 2){\n",
    "    seRNA = cbind(seRNA,list.seRNA[[n.tmp]][rowData(list.seRNA[[n.tmp]])[,\"id\"] %in% id.intersect])\n",
    "}\n",
    "seRNA"
   ]
  },
  {
   "cell_type": "code",
   "execution_count": 19,
   "id": "895234f3-e668-4e83-adf0-562024a6711b",
   "metadata": {},
   "outputs": [],
   "source": [
    "seRNA = seRNA[,rownames(obj.ArchR@cellColData)]"
   ]
  },
  {
   "cell_type": "code",
   "execution_count": 20,
   "id": "4656d98c-a9cc-486a-afaa-fe59ca6ef055",
   "metadata": {},
   "outputs": [
    {
     "data": {
      "text/plain": [
       "class: RangedSummarizedExperiment \n",
       "dim: 61202 18145 \n",
       "metadata(0):\n",
       "assays(1): counts\n",
       "rownames(61202): DDX11L1 MIR6859-1 ... RNA5-8SN5 ENSG00000273937\n",
       "rowData names(5): feature_type genome id interval name\n",
       "colnames(18145): Multiome10x_05#GCTGTACCAATCATGT-1\n",
       "  Multiome10x_05#TTATCCGTCTTAATGG-1 ...\n",
       "  Multiome10x_06#AATGGCGCAAACCCTA-1 Multiome10x_06#CACATAATCCTCAGTC-1\n",
       "colData names(0):"
      ]
     },
     "metadata": {},
     "output_type": "display_data"
    }
   ],
   "source": [
    "seRNA"
   ]
  },
  {
   "cell_type": "markdown",
   "id": "4e164d44-cb0a-4b4d-b536-ae8389f1bde8",
   "metadata": {},
   "source": [
    "Map gene names"
   ]
  },
  {
   "cell_type": "code",
   "execution_count": 21,
   "id": "28c59d27-51bb-4f1a-81e1-6998cb7f56b2",
   "metadata": {},
   "outputs": [],
   "source": [
    "extract_attributes <- function(gtf_attributes, att_of_interest){\n",
    "  att <- unlist(strsplit(gtf_attributes, \" \"))\n",
    "  if(att_of_interest %in% att){\n",
    "    return(gsub(\"\\\"|;\",\"\", att[which(att %in% att_of_interest)+1]))\n",
    "  } else {\n",
    "    return(NA)}\n",
    "}\n",
    "map_gene_names <- function(rna_matrix, gene_gtf_path, abc_genes_path){\n",
    "    library(dplyr)\n",
    "    library(data.table)\n",
    "    \n",
    "\tgene_ref <- fread(gene_gtf_path, header = FALSE, sep = \"\\t\") %>%\n",
    "\t\tsetNames(c(\"chr\",\"source\",\"type\",\"start\",\"end\",\"score\",\"strand\",\"phase\",\"attributes\")) %>%\n",
    "\t\tdplyr::filter(type == \"gene\")\n",
    "\tgene_ref$gene_ref_name <- unlist(lapply(gene_ref$attributes, extract_attributes, \"gene_name\"))\n",
    "\tgene_ref$Ensembl_ID <- unlist(lapply(gene_ref$attributes, extract_attributes, \"gene_id\"))\n",
    "\tgene_ref <- dplyr::select(gene_ref, gene_ref_name, Ensembl_ID) %>%\n",
    "\t\tmutate(Ensembl_ID = sub(\"\\\\.\\\\d+$\", \"\", Ensembl_ID)) %>% # remove decimal digits \n",
    "\t\tdistinct()\n",
    "\t\n",
    "\tabc_genes <- fread(abc_genes_path, col.names = c(\"chr\", \"start\", \"end\", \"name\", \"score\", \"strand\", \"Ensembl_ID\", \"gene_type\")) %>%\n",
    "\t\tdplyr::select(name, Ensembl_ID) %>%\n",
    "\t\trename(abc_name = name) %>%\n",
    "\t\tleft_join(gene_ref, by = \"Ensembl_ID\") %>%\n",
    "\t\tgroup_by(Ensembl_ID) %>% # remove cases where multiple genes map to one ensembl ID\n",
    "\t\tfilter(n() == 1) %>%\n",
    "\t\tungroup()\n",
    "\n",
    "\tgene_key <- abc_genes$abc_name\n",
    "\tnames(gene_key) <- abc_genes$gene_ref_name\n",
    "\n",
    "\t# remove genes not in our gene universe\t\n",
    "\trow_sub <- intersect(rownames(rna_matrix), names(gene_key)) # gene ref names\n",
    "\trna_matrix_filt <- rna_matrix[row_sub,] # still gene ref names\n",
    "\trownames(rna_matrix_filt) <- gene_key[row_sub] # converted to abc names\n",
    "\n",
    "\treturn(rna_matrix_filt)\n",
    "}"
   ]
  },
  {
   "cell_type": "code",
   "execution_count": 22,
   "id": "145207ec-c6e0-4dd9-b148-62fb649e2308",
   "metadata": {},
   "outputs": [
    {
     "name": "stderr",
     "output_type": "stream",
     "text": [
      "\n",
      "Attaching package: ‘dplyr’\n",
      "\n",
      "\n",
      "The following objects are masked from ‘package:Biostrings’:\n",
      "\n",
      "    collapse, intersect, setdiff, setequal, union\n",
      "\n",
      "\n",
      "The following object is masked from ‘package:XVector’:\n",
      "\n",
      "    slice\n",
      "\n",
      "\n",
      "The following object is masked from ‘package:Biobase’:\n",
      "\n",
      "    combine\n",
      "\n",
      "\n",
      "The following objects are masked from ‘package:GenomicRanges’:\n",
      "\n",
      "    intersect, setdiff, union\n",
      "\n",
      "\n",
      "The following object is masked from ‘package:GenomeInfoDb’:\n",
      "\n",
      "    intersect\n",
      "\n",
      "\n",
      "The following objects are masked from ‘package:IRanges’:\n",
      "\n",
      "    collapse, desc, intersect, setdiff, slice, union\n",
      "\n",
      "\n",
      "The following objects are masked from ‘package:S4Vectors’:\n",
      "\n",
      "    first, intersect, rename, setdiff, setequal, union\n",
      "\n",
      "\n",
      "The following objects are masked from ‘package:BiocGenerics’:\n",
      "\n",
      "    combine, intersect, setdiff, union\n",
      "\n",
      "\n",
      "The following object is masked from ‘package:matrixStats’:\n",
      "\n",
      "    count\n",
      "\n",
      "\n",
      "The following objects are masked from ‘package:data.table’:\n",
      "\n",
      "    between, first, last\n",
      "\n",
      "\n",
      "The following objects are masked from ‘package:plyr’:\n",
      "\n",
      "    arrange, count, desc, failwith, id, mutate, rename, summarise,\n",
      "    summarize\n",
      "\n",
      "\n",
      "The following object is masked from ‘package:gridExtra’:\n",
      "\n",
      "    combine\n",
      "\n",
      "\n",
      "The following objects are masked from ‘package:stats’:\n",
      "\n",
      "    filter, lag\n",
      "\n",
      "\n",
      "The following objects are masked from ‘package:base’:\n",
      "\n",
      "    intersect, setdiff, setequal, union\n",
      "\n",
      "\n"
     ]
    }
   ],
   "source": [
    "seRNA.rename = map_gene_names(seRNA,gene_gtf_path, abc_genes_path)"
   ]
  },
  {
   "cell_type": "code",
   "execution_count": 23,
   "id": "65cb2097-9075-4ee4-9e54-dd288dc50736",
   "metadata": {},
   "outputs": [
    {
     "name": "stderr",
     "output_type": "stream",
     "text": [
      "ArchR logging to : ArchRLogs/ArchR-addGeneExpressionMatrix-75a581933e480-Date-2025-02-26_Time-15-37-30.994093.log\n",
      "If there is an issue, please report to github with logFile!\n",
      "\n",
      "Overlap w/ scATAC = 1\n",
      "\n",
      "2025-02-26 15:37:31.748266 : \n",
      "\n",
      "Overlap Per Sample w/ scATAC : Multiome10x_05=9214,Multiome10x_06=8931\n",
      "\n",
      "2025-02-26 15:37:31.773166 : \n",
      "\n",
      "2025-02-26 15:37:33.996133 : Batch Execution w/ safelapply!, 0 mins elapsed.\n",
      "\n",
      "ArchR logging successful to : ArchRLogs/ArchR-addGeneExpressionMatrix-75a581933e480-Date-2025-02-26_Time-15-37-30.994093.log\n",
      "\n"
     ]
    }
   ],
   "source": [
    "obj.ArchR = addGeneExpressionMatrix(obj.ArchR,\n",
    "                                    seRNA = seRNA.rename,\n",
    "                                    strictMatch = T)"
   ]
  },
  {
   "cell_type": "markdown",
   "id": "e4318703-a143-40c0-b159-274d05033bbc",
   "metadata": {},
   "source": [
    "Run ArchR prediction"
   ]
  },
  {
   "cell_type": "code",
   "execution_count": 24,
   "id": "47c8fd5f-19ec-46e6-af87-57502c1e1ff9",
   "metadata": {},
   "outputs": [
    {
     "name": "stderr",
     "output_type": "stream",
     "text": [
      "ArchR logging to : ArchRLogs/ArchR-addPeak2GeneLinks-75a584e2012cf-Date-2025-02-26_Time-15-39-06.220271.log\n",
      "If there is an issue, please report to github with logFile!\n",
      "\n",
      "2025-02-26 15:39:06.73684 : Getting Available Matrices, 0.009 mins elapsed.\n",
      "\n",
      "2025-02-26 15:39:07.462154 : Filtered Low Prediction Score Cells (0 of 18145, 0), 0.003 mins elapsed.\n",
      "\n",
      "Filtering 1 dims correlated > 0.75 to log10(depth + 1)\n",
      "\n",
      "2025-02-26 15:39:07.648334 : Computing KNN, 0.006 mins elapsed.\n",
      "\n",
      "2025-02-26 15:39:07.781993 : Identifying Non-Overlapping KNN pairs, 0.008 mins elapsed.\n",
      "\n",
      "2025-02-26 15:39:09.336962 : Identified 494 Groupings!, 0.034 mins elapsed.\n",
      "\n",
      "2025-02-26 15:39:09.381556 : Getting Group RNA Matrix, 0.035 mins elapsed.\n",
      "\n",
      "2025-02-26 15:39:28.560263 : Getting Group ATAC Matrix, 0.355 mins elapsed.\n",
      "\n",
      "2025-02-26 15:40:09.928525 : Normalizing Group Matrices, 1.044 mins elapsed.\n",
      "\n",
      "2025-02-26 15:40:17.450109 : Finding Peak Gene Pairings, 1.17 mins elapsed.\n",
      "\n",
      "2025-02-26 15:40:18.840382 : Computing Correlations, 1.193 mins elapsed.\n",
      "\n",
      "2025-02-26 15:40:43.465685 : Completed Peak2Gene Correlations!, 1.603 mins elapsed.\n",
      "\n",
      "ArchR logging successful to : ArchRLogs/ArchR-addPeak2GeneLinks-75a584e2012cf-Date-2025-02-26_Time-15-39-06.220271.log\n",
      "\n"
     ]
    }
   ],
   "source": [
    "start_time <- Sys.time()\n",
    "obj.ArchR = addPeak2GeneLinks(\n",
    "    ArchRProj = obj.ArchR,\n",
    "    reducedDims = \"IterativeLSI\",\n",
    "    useMatrix = \"GeneExpressionMatrix\",\n",
    "    maxDist = maxDist,\n",
    "    threads = n.cores\n",
    ")\n",
    "end_time <- Sys.time()\n",
    "execution_time <- end_time - start_time"
   ]
  },
  {
   "cell_type": "code",
   "execution_count": 25,
   "id": "128d0065-5f22-495b-b00d-743fc9843337",
   "metadata": {},
   "outputs": [
    {
     "data": {
      "text/plain": [
       "Time difference of 1.621218 mins"
      ]
     },
     "metadata": {},
     "output_type": "display_data"
    }
   ],
   "source": [
    "execution_time"
   ]
  },
  {
   "cell_type": "code",
   "execution_count": 26,
   "id": "36bd2df2-6b32-4b81-bd4f-39ef8913b3c3",
   "metadata": {},
   "outputs": [],
   "source": [
    "p2g = metadata(obj.ArchR@peakSet)$Peak2GeneLinks"
   ]
  },
  {
   "cell_type": "code",
   "execution_count": 27,
   "id": "e7730413-8fd4-4952-bb13-0df7a3b15b6f",
   "metadata": {},
   "outputs": [],
   "source": [
    "metadata(p2g)[[1]]$PeakName = paste(seqnames(metadata(p2g)[[1]]),\n",
    "                                    ranges(metadata(p2g)[[1]]),sep=\"-\")"
   ]
  },
  {
   "cell_type": "code",
   "execution_count": 28,
   "id": "aeea3810-6735-4aff-9bd7-1697bef979d2",
   "metadata": {},
   "outputs": [],
   "source": [
    "p2g$PairName = paste(metadata(p2g)[[1]][p2g$idxATAC]$PeakName,\n",
    "                     metadata(p2g)[[2]][p2g$idxRNA]$name,\n",
    "                     sep = \"_\")"
   ]
  },
  {
   "cell_type": "code",
   "execution_count": 29,
   "id": "87f975ec-6ba4-4696-ad6c-2af65da7aa54",
   "metadata": {},
   "outputs": [
    {
     "data": {
      "text/plain": [
       "DataFrame with 7136073 rows and 7 columns\n",
       "                                idxATAC    idxRNA Correlation         FDR\n",
       "                              <integer> <integer>   <numeric>   <numeric>\n",
       "chr1-10057-10601_FAM138A              1         1         NaN         NaN\n",
       "chr1-180665-181882_FAM138A            2         1         NaN         NaN\n",
       "chr1-191255-191955_FAM138A            3         1         NaN         NaN\n",
       "chr1-267886-268118_FAM138A            4         1         NaN         NaN\n",
       "chr1-271197-271524_FAM138A            5         1         NaN         NaN\n",
       "...                                 ...       ...         ...         ...\n",
       "chrX-156001461-156001911_IL9R    303407     20493   0.1704738 0.000539868\n",
       "chrX-156002551-156002801_IL9R    303408     20493   0.1276237 0.012839325\n",
       "chrX-156029380-156029530_IL9R    303409     20493   0.0398480 0.513996433\n",
       "chrX-156029605-156030380_IL9R    303410     20493  -0.0238528 0.710951640\n",
       "chrX-156030498-156030791_IL9R    303411     20493   0.1004566 0.059023208\n",
       "                               VarQATAC   VarQRNA               PairName\n",
       "                              <numeric> <numeric>            <character>\n",
       "chr1-10057-10601_FAM138A       0.628942 0.0468453 chr1-10057-10601_FAM..\n",
       "chr1-180665-181882_FAM138A     0.801774 0.0468453 chr1-180665-181882_F..\n",
       "chr1-191255-191955_FAM138A     0.712028 0.0468453 chr1-191255-191955_F..\n",
       "chr1-267886-268118_FAM138A     0.668259 0.0468453 chr1-267886-268118_F..\n",
       "chr1-271197-271524_FAM138A     0.451694 0.0468453 chr1-271197-271524_F..\n",
       "...                                 ...       ...                    ...\n",
       "chrX-156001461-156001911_IL9R 0.6458237  0.319963 chrX-156001461-15600..\n",
       "chrX-156002551-156002801_IL9R 0.2235054  0.319963 chrX-156002551-15600..\n",
       "chrX-156029380-156029530_IL9R 0.0125144  0.319963 chrX-156029380-15602..\n",
       "chrX-156029605-156030380_IL9R 0.6373665  0.319963 chrX-156029605-15603..\n",
       "chrX-156030498-156030791_IL9R 0.7017148  0.319963 chrX-156030498-15603.."
      ]
     },
     "metadata": {},
     "output_type": "display_data"
    }
   ],
   "source": [
    "rownames(p2g) = p2g$PairName\n",
    "p2g"
   ]
  },
  {
   "cell_type": "code",
   "execution_count": 30,
   "id": "c7209a32-3904-4734-93af-9c22049f652a",
   "metadata": {},
   "outputs": [],
   "source": [
    "pairs.E2G.res = pairs.E2G[pairs.E2G$PairName %in% p2g$PairName]\n",
    "mcols(pairs.E2G.res)[,c(\"Correlation\",\"FDR\",\"VarQATAC\",\"VarQRNA\")] = p2g[pairs.E2G.res$PairName,c(\"Correlation\",\"FDR\",\"VarQATAC\",\"VarQRNA\")]"
   ]
  },
  {
   "cell_type": "code",
   "execution_count": 31,
   "id": "1ab4ed70-ce9e-4857-bd1b-63a81d27a401",
   "metadata": {},
   "outputs": [
    {
     "data": {
      "text/plain": [
       "GRanges object with 5768157 ranges and 7 metadata columns:\n",
       "            seqnames              ranges strand |  TargetGene\n",
       "               <Rle>           <IRanges>  <Rle> | <character>\n",
       "        [1]     chr1 100028331-100029533      * |         AGL\n",
       "        [2]     chr1 100028331-100029533      * |      CDC14A\n",
       "        [3]     chr1 100028331-100029533      * |         DBT\n",
       "        [4]     chr1 100028331-100029533      * |        DPH5\n",
       "        [5]     chr1 100028331-100029533      * |       EXTL2\n",
       "        ...      ...                 ...    ... .         ...\n",
       "  [5768153]     chrX     9995651-9996434      * |        WWC3\n",
       "  [5768154]     chrX     9997538-9997892      * |       CLCN4\n",
       "  [5768155]     chrX     9997538-9997892      * |      GPR143\n",
       "  [5768156]     chrX     9997538-9997892      * |       TBL1X\n",
       "  [5768157]     chrX     9997538-9997892      * |        WWC3\n",
       "                          PeakName               PairName Correlation\n",
       "                       <character>            <character>   <numeric>\n",
       "        [1] chr1-100028331-10002.. chr1-100028331-10002..    0.277645\n",
       "        [2] chr1-100028331-10002.. chr1-100028331-10002..   -0.130980\n",
       "        [3] chr1-100028331-10002.. chr1-100028331-10002..    0.112792\n",
       "        [4] chr1-100028331-10002.. chr1-100028331-10002..   -0.040445\n",
       "        [5] chr1-100028331-10002.. chr1-100028331-10002..    0.206238\n",
       "        ...                    ...                    ...         ...\n",
       "  [5768153]   chrX-9995651-9996434 chrX-9995651-9996434..   0.2515289\n",
       "  [5768154]   chrX-9997538-9997892 chrX-9997538-9997892..  -0.0187738\n",
       "  [5768155]   chrX-9997538-9997892 chrX-9997538-9997892..  -0.0024142\n",
       "  [5768156]   chrX-9997538-9997892 chrX-9997538-9997892..  -0.3602117\n",
       "  [5768157]   chrX-9997538-9997892 chrX-9997538-9997892..   0.2801981\n",
       "                    FDR  VarQATAC   VarQRNA\n",
       "              <numeric> <numeric> <numeric>\n",
       "        [1] 2.42209e-09  0.940737  0.771581\n",
       "        [2] 1.03661e-02  0.940737  0.993656\n",
       "        [3] 3.08914e-02  0.940737  0.607915\n",
       "        [4] 5.06925e-01  0.940737  0.733568\n",
       "        [5] 1.82047e-05  0.940737  0.409457\n",
       "        ...         ...       ...       ...\n",
       "  [5768153] 8.95471e-08  0.813982  0.681452\n",
       "  [5768154] 7.74760e-01  0.549707  0.446104\n",
       "  [5768155] 9.72985e-01  0.549707  0.249012\n",
       "  [5768156] 1.51558e-15  0.549707  0.943103\n",
       "  [5768157] 1.66407e-09  0.549707  0.681452\n",
       "  -------\n",
       "  seqinfo: 23 sequences from an unspecified genome; no seqlengths"
      ]
     },
     "metadata": {},
     "output_type": "display_data"
    }
   ],
   "source": [
    "pairs.E2G.res"
   ]
  },
  {
   "cell_type": "markdown",
   "id": "46485351-50d7-461a-bf09-d795d5bdab84",
   "metadata": {},
   "source": [
    "Save results"
   ]
  },
  {
   "cell_type": "code",
   "execution_count": 32,
   "id": "6d424e21-6a41-4422-b76c-6f1c0bda2222",
   "metadata": {},
   "outputs": [
    {
     "data": {
      "text/plain": [
       "GRanges object with 5768157 ranges and 7 metadata columns:\n",
       "            seqnames              ranges strand |  TargetGene\n",
       "               <Rle>           <IRanges>  <Rle> | <character>\n",
       "        [1]     chr1 100028331-100029533      * |         AGL\n",
       "        [2]     chr1 100028331-100029533      * |      CDC14A\n",
       "        [3]     chr1 100028331-100029533      * |         DBT\n",
       "        [4]     chr1 100028331-100029533      * |        DPH5\n",
       "        [5]     chr1 100028331-100029533      * |       EXTL2\n",
       "        ...      ...                 ...    ... .         ...\n",
       "  [5768153]     chrX     9995651-9996434      * |        WWC3\n",
       "  [5768154]     chrX     9997538-9997892      * |       CLCN4\n",
       "  [5768155]     chrX     9997538-9997892      * |      GPR143\n",
       "  [5768156]     chrX     9997538-9997892      * |       TBL1X\n",
       "  [5768157]     chrX     9997538-9997892      * |        WWC3\n",
       "                          PeakName               PairName Correlation\n",
       "                       <character>            <character>   <numeric>\n",
       "        [1] chr1-100028331-10002.. chr1-100028331-10002..    0.277645\n",
       "        [2] chr1-100028331-10002.. chr1-100028331-10002..   -0.130980\n",
       "        [3] chr1-100028331-10002.. chr1-100028331-10002..    0.112792\n",
       "        [4] chr1-100028331-10002.. chr1-100028331-10002..   -0.040445\n",
       "        [5] chr1-100028331-10002.. chr1-100028331-10002..    0.206238\n",
       "        ...                    ...                    ...         ...\n",
       "  [5768153]   chrX-9995651-9996434 chrX-9995651-9996434..   0.2515289\n",
       "  [5768154]   chrX-9997538-9997892 chrX-9997538-9997892..  -0.0187738\n",
       "  [5768155]   chrX-9997538-9997892 chrX-9997538-9997892..  -0.0024142\n",
       "  [5768156]   chrX-9997538-9997892 chrX-9997538-9997892..  -0.3602117\n",
       "  [5768157]   chrX-9997538-9997892 chrX-9997538-9997892..   0.2801981\n",
       "                    FDR  VarQATAC   VarQRNA\n",
       "              <numeric> <numeric> <numeric>\n",
       "        [1] 2.42209e-09  0.940737  0.771581\n",
       "        [2] 1.03661e-02  0.940737  0.993656\n",
       "        [3] 3.08914e-02  0.940737  0.607915\n",
       "        [4] 5.06925e-01  0.940737  0.733568\n",
       "        [5] 1.82047e-05  0.940737  0.409457\n",
       "        ...         ...       ...       ...\n",
       "  [5768153] 8.95471e-08  0.813982  0.681452\n",
       "  [5768154] 7.74760e-01  0.549707  0.446104\n",
       "  [5768155] 9.72985e-01  0.549707  0.249012\n",
       "  [5768156] 1.51558e-15  0.549707  0.943103\n",
       "  [5768157] 1.66407e-09  0.549707  0.681452\n",
       "  -------\n",
       "  seqinfo: 23 sequences from an unspecified genome; no seqlengths"
      ]
     },
     "metadata": {},
     "output_type": "display_data"
    },
    {
     "data": {
      "text/html": [
       "<table class=\"dataframe\">\n",
       "<caption>A data.frame: 5768157 × 9</caption>\n",
       "<thead>\n",
       "\t<tr><th scope=col>chr</th><th scope=col>start</th><th scope=col>end</th><th scope=col>TargetGene</th><th scope=col>CellType</th><th scope=col>Correlation</th><th scope=col>FDR</th><th scope=col>VarQATAC</th><th scope=col>VarQRNA</th></tr>\n",
       "\t<tr><th scope=col>&lt;fct&gt;</th><th scope=col>&lt;int&gt;</th><th scope=col>&lt;int&gt;</th><th scope=col>&lt;chr&gt;</th><th scope=col>&lt;chr&gt;</th><th scope=col>&lt;dbl&gt;</th><th scope=col>&lt;dbl&gt;</th><th scope=col>&lt;dbl&gt;</th><th scope=col>&lt;dbl&gt;</th></tr>\n",
       "</thead>\n",
       "<tbody>\n",
       "\t<tr><td>chr1</td><td>100028331</td><td>100029533</td><td>AGL     </td><td>K562</td><td> 0.277644850</td><td>2.422092e-09</td><td>0.9407372</td><td>0.77158054</td></tr>\n",
       "\t<tr><td>chr1</td><td>100028331</td><td>100029533</td><td>CDC14A  </td><td>K562</td><td>-0.130980015</td><td>1.036606e-02</td><td>0.9407372</td><td>0.99365637</td></tr>\n",
       "\t<tr><td>chr1</td><td>100028331</td><td>100029533</td><td>DBT     </td><td>K562</td><td> 0.112792131</td><td>3.089140e-02</td><td>0.9407372</td><td>0.60791490</td></tr>\n",
       "\t<tr><td>chr1</td><td>100028331</td><td>100029533</td><td>DPH5    </td><td>K562</td><td>-0.040445011</td><td>5.069250e-01</td><td>0.9407372</td><td>0.73356756</td></tr>\n",
       "\t<tr><td>chr1</td><td>100028331</td><td>100029533</td><td>EXTL2   </td><td>K562</td><td> 0.206238004</td><td>1.820474e-05</td><td>0.9407372</td><td>0.40945689</td></tr>\n",
       "\t<tr><td>chr1</td><td>100028331</td><td>100029533</td><td>FRRS1   </td><td>K562</td><td>-0.187695163</td><td>1.151022e-04</td><td>0.9407372</td><td>0.46391451</td></tr>\n",
       "\t<tr><td>chr1</td><td>100028331</td><td>100029533</td><td>GPR88   </td><td>K562</td><td>-0.021201087</td><td>7.442943e-01</td><td>0.9407372</td><td>0.09813107</td></tr>\n",
       "\t<tr><td>chr1</td><td>100028331</td><td>100029533</td><td>MFSD14A </td><td>K562</td><td>-0.058303665</td><td>3.144896e-01</td><td>0.9407372</td><td>0.42482799</td></tr>\n",
       "\t<tr><td>chr1</td><td>100028331</td><td>100029533</td><td>RTCA    </td><td>K562</td><td> 0.545904749</td><td>2.939513e-38</td><td>0.9407372</td><td>0.71077929</td></tr>\n",
       "\t<tr><td>chr1</td><td>100028331</td><td>100029533</td><td>RTCA-AS1</td><td>K562</td><td>-0.103866912</td><td>4.971562e-02</td><td>0.9407372</td><td>0.46942859</td></tr>\n",
       "\t<tr><td>chr1</td><td>100028331</td><td>100029533</td><td>SASS6   </td><td>K562</td><td> 0.414162437</td><td>9.609205e-21</td><td>0.9407372</td><td>0.57907578</td></tr>\n",
       "\t<tr><td>chr1</td><td>100028331</td><td>100029533</td><td>SLC30A7 </td><td>K562</td><td>-0.003468944</td><td>9.608716e-01</td><td>0.9407372</td><td>0.74537647</td></tr>\n",
       "\t<tr><td>chr1</td><td>100028331</td><td>100029533</td><td>SLC35A3 </td><td>K562</td><td>-0.035722772</td><td>5.635502e-01</td><td>0.9407372</td><td>0.59922901</td></tr>\n",
       "\t<tr><td>chr1</td><td>100028331</td><td>100029533</td><td>TRMT13  </td><td>K562</td><td>-0.038811278</td><td>5.263418e-01</td><td>0.9407372</td><td>0.78065681</td></tr>\n",
       "\t<tr><td>chr1</td><td>100037542</td><td>100039303</td><td>AGL     </td><td>K562</td><td> 0.656346579</td><td>1.962951e-60</td><td>0.9887974</td><td>0.77158054</td></tr>\n",
       "\t<tr><td>chr1</td><td>100037542</td><td>100039303</td><td>CDC14A  </td><td>K562</td><td> 0.743522886</td><td>5.918703e-86</td><td>0.9887974</td><td>0.99365637</td></tr>\n",
       "\t<tr><td>chr1</td><td>100037542</td><td>100039303</td><td>DBT     </td><td>K562</td><td> 0.310536621</td><td>1.406263e-11</td><td>0.9887974</td><td>0.60791490</td></tr>\n",
       "\t<tr><td>chr1</td><td>100037542</td><td>100039303</td><td>DPH5    </td><td>K562</td><td> 0.691559941</td><td>1.212640e-69</td><td>0.9887974</td><td>0.73356756</td></tr>\n",
       "\t<tr><td>chr1</td><td>100037542</td><td>100039303</td><td>EXTL2   </td><td>K562</td><td> 0.050303889</td><td>3.956403e-01</td><td>0.9887974</td><td>0.40945689</td></tr>\n",
       "\t<tr><td>chr1</td><td>100037542</td><td>100039303</td><td>FRRS1   </td><td>K562</td><td>-0.656933612</td><td>1.411184e-60</td><td>0.9887974</td><td>0.46391451</td></tr>\n",
       "\t<tr><td>chr1</td><td>100037542</td><td>100039303</td><td>GPR88   </td><td>K562</td><td>-0.053974224</td><td>3.572591e-01</td><td>0.9887974</td><td>0.09813107</td></tr>\n",
       "\t<tr><td>chr1</td><td>100037542</td><td>100039303</td><td>MFSD14A </td><td>K562</td><td> 0.058341634</td><td>3.141293e-01</td><td>0.9887974</td><td>0.42482799</td></tr>\n",
       "\t<tr><td>chr1</td><td>100037542</td><td>100039303</td><td>RTCA    </td><td>K562</td><td> 0.217820649</td><td>5.226124e-06</td><td>0.9887974</td><td>0.71077929</td></tr>\n",
       "\t<tr><td>chr1</td><td>100037542</td><td>100039303</td><td>RTCA-AS1</td><td>K562</td><td>-0.107956213</td><td>4.017432e-02</td><td>0.9887974</td><td>0.46942859</td></tr>\n",
       "\t<tr><td>chr1</td><td>100037542</td><td>100039303</td><td>SASS6   </td><td>K562</td><td> 0.291906114</td><td>2.826040e-10</td><td>0.9887974</td><td>0.57907578</td></tr>\n",
       "\t<tr><td>chr1</td><td>100037542</td><td>100039303</td><td>SLC30A7 </td><td>K562</td><td> 0.284536001</td><td>8.713407e-10</td><td>0.9887974</td><td>0.74537647</td></tr>\n",
       "\t<tr><td>chr1</td><td>100037542</td><td>100039303</td><td>SLC35A3 </td><td>K562</td><td> 0.314582442</td><td>7.115300e-12</td><td>0.9887974</td><td>0.59922901</td></tr>\n",
       "\t<tr><td>chr1</td><td>100037542</td><td>100039303</td><td>TRMT13  </td><td>K562</td><td> 0.601954687</td><td>2.002276e-48</td><td>0.9887974</td><td>0.78065681</td></tr>\n",
       "\t<tr><td>chr1</td><td>100044514</td><td>100044850</td><td>AGL     </td><td>K562</td><td> 0.182471652</td><td>1.870551e-04</td><td>0.3824878</td><td>0.77158054</td></tr>\n",
       "\t<tr><td>chr1</td><td>100044514</td><td>100044850</td><td>CDC14A  </td><td>K562</td><td> 0.013755765</td><td>8.374037e-01</td><td>0.3824878</td><td>0.99365637</td></tr>\n",
       "\t<tr><td>⋮</td><td>⋮</td><td>⋮</td><td>⋮</td><td>⋮</td><td>⋮</td><td>⋮</td><td>⋮</td><td>⋮</td></tr>\n",
       "\t<tr><td>chrX</td><td> 999238</td><td> 999388</td><td>AKAP17A  </td><td>K562</td><td> 0.018223179</td><td>7.816880e-01</td><td>0.004535103</td><td>0.6795003</td></tr>\n",
       "\t<tr><td>chrX</td><td> 999238</td><td> 999388</td><td>ASMT     </td><td>K562</td><td> 0.002552749</td><td>9.714119e-01</td><td>0.004535103</td><td>0.2604792</td></tr>\n",
       "\t<tr><td>chrX</td><td> 999238</td><td> 999388</td><td>ASMTL    </td><td>K562</td><td> 0.089679593</td><td>9.786465e-02</td><td>0.004535103</td><td>0.7617235</td></tr>\n",
       "\t<tr><td>chrX</td><td> 999238</td><td> 999388</td><td>CSF2RA   </td><td>K562</td><td> 0.110360570</td><td>3.530084e-02</td><td>0.004535103</td><td>0.9929732</td></tr>\n",
       "\t<tr><td>chrX</td><td> 999238</td><td> 999388</td><td>GTPBP6   </td><td>K562</td><td> 0.002240939</td><td>9.749657e-01</td><td>0.004535103</td><td>0.6764261</td></tr>\n",
       "\t<tr><td>chrX</td><td> 999238</td><td> 999388</td><td>IL3RA    </td><td>K562</td><td> 0.155319330</td><td>1.846690e-03</td><td>0.004535103</td><td>0.9475919</td></tr>\n",
       "\t<tr><td>chrX</td><td> 999238</td><td> 999388</td><td>LINC00106</td><td>K562</td><td> 0.116479481</td><td>2.509179e-02</td><td>0.004535103</td><td>0.5419412</td></tr>\n",
       "\t<tr><td>chrX</td><td> 999238</td><td> 999388</td><td>P2RY8    </td><td>K562</td><td>-0.041642407</td><td>4.928612e-01</td><td>0.004535103</td><td>0.9321720</td></tr>\n",
       "\t<tr><td>chrX</td><td> 999238</td><td> 999388</td><td>PLCXD1   </td><td>K562</td><td> 0.110288649</td><td>3.543940e-02</td><td>0.004535103</td><td>0.6084517</td></tr>\n",
       "\t<tr><td>chrX</td><td> 999238</td><td> 999388</td><td>PPP2R3B  </td><td>K562</td><td>-0.041515149</td><td>4.943594e-01</td><td>0.004535103</td><td>0.5990338</td></tr>\n",
       "\t<tr><td>chrX</td><td> 999238</td><td> 999388</td><td>SLC25A6  </td><td>K562</td><td>-0.032965348</td><td>5.973270e-01</td><td>0.004535103</td><td>0.8952813</td></tr>\n",
       "\t<tr><td>chrX</td><td> 999443</td><td> 999815</td><td>AKAP17A  </td><td>K562</td><td>-0.090921225</td><td>9.258557e-02</td><td>0.356480154</td><td>0.6795003</td></tr>\n",
       "\t<tr><td>chrX</td><td> 999443</td><td> 999815</td><td>ASMT     </td><td>K562</td><td>-0.103537608</td><td>5.055960e-02</td><td>0.356480154</td><td>0.2604792</td></tr>\n",
       "\t<tr><td>chrX</td><td> 999443</td><td> 999815</td><td>ASMTL    </td><td>K562</td><td>-0.117900700</td><td>2.311734e-02</td><td>0.356480154</td><td>0.7617235</td></tr>\n",
       "\t<tr><td>chrX</td><td> 999443</td><td> 999815</td><td>CSF2RA   </td><td>K562</td><td>-0.095197874</td><td>7.606014e-02</td><td>0.356480154</td><td>0.9929732</td></tr>\n",
       "\t<tr><td>chrX</td><td> 999443</td><td> 999815</td><td>GTPBP6   </td><td>K562</td><td> 0.066542862</td><td>2.414830e-01</td><td>0.356480154</td><td>0.6764261</td></tr>\n",
       "\t<tr><td>chrX</td><td> 999443</td><td> 999815</td><td>IL3RA    </td><td>K562</td><td> 0.011379978</td><td>8.666372e-01</td><td>0.356480154</td><td>0.9475919</td></tr>\n",
       "\t<tr><td>chrX</td><td> 999443</td><td> 999815</td><td>LINC00106</td><td>K562</td><td> 0.117249491</td><td>2.400417e-02</td><td>0.356480154</td><td>0.5419412</td></tr>\n",
       "\t<tr><td>chrX</td><td> 999443</td><td> 999815</td><td>P2RY8    </td><td>K562</td><td> 0.139304449</td><td>5.946863e-03</td><td>0.356480154</td><td>0.9321720</td></tr>\n",
       "\t<tr><td>chrX</td><td> 999443</td><td> 999815</td><td>PLCXD1   </td><td>K562</td><td> 0.103845424</td><td>4.977108e-02</td><td>0.356480154</td><td>0.6084517</td></tr>\n",
       "\t<tr><td>chrX</td><td> 999443</td><td> 999815</td><td>PPP2R3B  </td><td>K562</td><td> 0.172879923</td><td>4.392281e-04</td><td>0.356480154</td><td>0.5990338</td></tr>\n",
       "\t<tr><td>chrX</td><td> 999443</td><td> 999815</td><td>SLC25A6  </td><td>K562</td><td>-0.143986777</td><td>4.283672e-03</td><td>0.356480154</td><td>0.8952813</td></tr>\n",
       "\t<tr><td>chrX</td><td>9995651</td><td>9996434</td><td>CLCN4    </td><td>K562</td><td>-0.062975308</td><td>2.716851e-01</td><td>0.813981695</td><td>0.4461035</td></tr>\n",
       "\t<tr><td>chrX</td><td>9995651</td><td>9996434</td><td>GPR143   </td><td>K562</td><td> 0.011021485</td><td>8.710064e-01</td><td>0.813981695</td><td>0.2490119</td></tr>\n",
       "\t<tr><td>chrX</td><td>9995651</td><td>9996434</td><td>TBL1X    </td><td>K562</td><td>-0.373361457</td><td>1.007621e-16</td><td>0.813981695</td><td>0.9431025</td></tr>\n",
       "\t<tr><td>chrX</td><td>9995651</td><td>9996434</td><td>WWC3     </td><td>K562</td><td> 0.251528933</td><td>8.954709e-08</td><td>0.813981695</td><td>0.6814522</td></tr>\n",
       "\t<tr><td>chrX</td><td>9997538</td><td>9997892</td><td>CLCN4    </td><td>K562</td><td>-0.018773833</td><td>7.747603e-01</td><td>0.549706504</td><td>0.4461035</td></tr>\n",
       "\t<tr><td>chrX</td><td>9997538</td><td>9997892</td><td>GPR143   </td><td>K562</td><td>-0.002414198</td><td>9.729855e-01</td><td>0.549706504</td><td>0.2490119</td></tr>\n",
       "\t<tr><td>chrX</td><td>9997538</td><td>9997892</td><td>TBL1X    </td><td>K562</td><td>-0.360211684</td><td>1.515577e-15</td><td>0.549706504</td><td>0.9431025</td></tr>\n",
       "\t<tr><td>chrX</td><td>9997538</td><td>9997892</td><td>WWC3     </td><td>K562</td><td> 0.280198077</td><td>1.664068e-09</td><td>0.549706504</td><td>0.6814522</td></tr>\n",
       "</tbody>\n",
       "</table>\n"
      ],
      "text/latex": [
       "A data.frame: 5768157 × 9\n",
       "\\begin{tabular}{lllllllll}\n",
       " chr & start & end & TargetGene & CellType & Correlation & FDR & VarQATAC & VarQRNA\\\\\n",
       " <fct> & <int> & <int> & <chr> & <chr> & <dbl> & <dbl> & <dbl> & <dbl>\\\\\n",
       "\\hline\n",
       "\t chr1 & 100028331 & 100029533 & AGL      & K562 &  0.277644850 & 2.422092e-09 & 0.9407372 & 0.77158054\\\\\n",
       "\t chr1 & 100028331 & 100029533 & CDC14A   & K562 & -0.130980015 & 1.036606e-02 & 0.9407372 & 0.99365637\\\\\n",
       "\t chr1 & 100028331 & 100029533 & DBT      & K562 &  0.112792131 & 3.089140e-02 & 0.9407372 & 0.60791490\\\\\n",
       "\t chr1 & 100028331 & 100029533 & DPH5     & K562 & -0.040445011 & 5.069250e-01 & 0.9407372 & 0.73356756\\\\\n",
       "\t chr1 & 100028331 & 100029533 & EXTL2    & K562 &  0.206238004 & 1.820474e-05 & 0.9407372 & 0.40945689\\\\\n",
       "\t chr1 & 100028331 & 100029533 & FRRS1    & K562 & -0.187695163 & 1.151022e-04 & 0.9407372 & 0.46391451\\\\\n",
       "\t chr1 & 100028331 & 100029533 & GPR88    & K562 & -0.021201087 & 7.442943e-01 & 0.9407372 & 0.09813107\\\\\n",
       "\t chr1 & 100028331 & 100029533 & MFSD14A  & K562 & -0.058303665 & 3.144896e-01 & 0.9407372 & 0.42482799\\\\\n",
       "\t chr1 & 100028331 & 100029533 & RTCA     & K562 &  0.545904749 & 2.939513e-38 & 0.9407372 & 0.71077929\\\\\n",
       "\t chr1 & 100028331 & 100029533 & RTCA-AS1 & K562 & -0.103866912 & 4.971562e-02 & 0.9407372 & 0.46942859\\\\\n",
       "\t chr1 & 100028331 & 100029533 & SASS6    & K562 &  0.414162437 & 9.609205e-21 & 0.9407372 & 0.57907578\\\\\n",
       "\t chr1 & 100028331 & 100029533 & SLC30A7  & K562 & -0.003468944 & 9.608716e-01 & 0.9407372 & 0.74537647\\\\\n",
       "\t chr1 & 100028331 & 100029533 & SLC35A3  & K562 & -0.035722772 & 5.635502e-01 & 0.9407372 & 0.59922901\\\\\n",
       "\t chr1 & 100028331 & 100029533 & TRMT13   & K562 & -0.038811278 & 5.263418e-01 & 0.9407372 & 0.78065681\\\\\n",
       "\t chr1 & 100037542 & 100039303 & AGL      & K562 &  0.656346579 & 1.962951e-60 & 0.9887974 & 0.77158054\\\\\n",
       "\t chr1 & 100037542 & 100039303 & CDC14A   & K562 &  0.743522886 & 5.918703e-86 & 0.9887974 & 0.99365637\\\\\n",
       "\t chr1 & 100037542 & 100039303 & DBT      & K562 &  0.310536621 & 1.406263e-11 & 0.9887974 & 0.60791490\\\\\n",
       "\t chr1 & 100037542 & 100039303 & DPH5     & K562 &  0.691559941 & 1.212640e-69 & 0.9887974 & 0.73356756\\\\\n",
       "\t chr1 & 100037542 & 100039303 & EXTL2    & K562 &  0.050303889 & 3.956403e-01 & 0.9887974 & 0.40945689\\\\\n",
       "\t chr1 & 100037542 & 100039303 & FRRS1    & K562 & -0.656933612 & 1.411184e-60 & 0.9887974 & 0.46391451\\\\\n",
       "\t chr1 & 100037542 & 100039303 & GPR88    & K562 & -0.053974224 & 3.572591e-01 & 0.9887974 & 0.09813107\\\\\n",
       "\t chr1 & 100037542 & 100039303 & MFSD14A  & K562 &  0.058341634 & 3.141293e-01 & 0.9887974 & 0.42482799\\\\\n",
       "\t chr1 & 100037542 & 100039303 & RTCA     & K562 &  0.217820649 & 5.226124e-06 & 0.9887974 & 0.71077929\\\\\n",
       "\t chr1 & 100037542 & 100039303 & RTCA-AS1 & K562 & -0.107956213 & 4.017432e-02 & 0.9887974 & 0.46942859\\\\\n",
       "\t chr1 & 100037542 & 100039303 & SASS6    & K562 &  0.291906114 & 2.826040e-10 & 0.9887974 & 0.57907578\\\\\n",
       "\t chr1 & 100037542 & 100039303 & SLC30A7  & K562 &  0.284536001 & 8.713407e-10 & 0.9887974 & 0.74537647\\\\\n",
       "\t chr1 & 100037542 & 100039303 & SLC35A3  & K562 &  0.314582442 & 7.115300e-12 & 0.9887974 & 0.59922901\\\\\n",
       "\t chr1 & 100037542 & 100039303 & TRMT13   & K562 &  0.601954687 & 2.002276e-48 & 0.9887974 & 0.78065681\\\\\n",
       "\t chr1 & 100044514 & 100044850 & AGL      & K562 &  0.182471652 & 1.870551e-04 & 0.3824878 & 0.77158054\\\\\n",
       "\t chr1 & 100044514 & 100044850 & CDC14A   & K562 &  0.013755765 & 8.374037e-01 & 0.3824878 & 0.99365637\\\\\n",
       "\t ⋮ & ⋮ & ⋮ & ⋮ & ⋮ & ⋮ & ⋮ & ⋮ & ⋮\\\\\n",
       "\t chrX &  999238 &  999388 & AKAP17A   & K562 &  0.018223179 & 7.816880e-01 & 0.004535103 & 0.6795003\\\\\n",
       "\t chrX &  999238 &  999388 & ASMT      & K562 &  0.002552749 & 9.714119e-01 & 0.004535103 & 0.2604792\\\\\n",
       "\t chrX &  999238 &  999388 & ASMTL     & K562 &  0.089679593 & 9.786465e-02 & 0.004535103 & 0.7617235\\\\\n",
       "\t chrX &  999238 &  999388 & CSF2RA    & K562 &  0.110360570 & 3.530084e-02 & 0.004535103 & 0.9929732\\\\\n",
       "\t chrX &  999238 &  999388 & GTPBP6    & K562 &  0.002240939 & 9.749657e-01 & 0.004535103 & 0.6764261\\\\\n",
       "\t chrX &  999238 &  999388 & IL3RA     & K562 &  0.155319330 & 1.846690e-03 & 0.004535103 & 0.9475919\\\\\n",
       "\t chrX &  999238 &  999388 & LINC00106 & K562 &  0.116479481 & 2.509179e-02 & 0.004535103 & 0.5419412\\\\\n",
       "\t chrX &  999238 &  999388 & P2RY8     & K562 & -0.041642407 & 4.928612e-01 & 0.004535103 & 0.9321720\\\\\n",
       "\t chrX &  999238 &  999388 & PLCXD1    & K562 &  0.110288649 & 3.543940e-02 & 0.004535103 & 0.6084517\\\\\n",
       "\t chrX &  999238 &  999388 & PPP2R3B   & K562 & -0.041515149 & 4.943594e-01 & 0.004535103 & 0.5990338\\\\\n",
       "\t chrX &  999238 &  999388 & SLC25A6   & K562 & -0.032965348 & 5.973270e-01 & 0.004535103 & 0.8952813\\\\\n",
       "\t chrX &  999443 &  999815 & AKAP17A   & K562 & -0.090921225 & 9.258557e-02 & 0.356480154 & 0.6795003\\\\\n",
       "\t chrX &  999443 &  999815 & ASMT      & K562 & -0.103537608 & 5.055960e-02 & 0.356480154 & 0.2604792\\\\\n",
       "\t chrX &  999443 &  999815 & ASMTL     & K562 & -0.117900700 & 2.311734e-02 & 0.356480154 & 0.7617235\\\\\n",
       "\t chrX &  999443 &  999815 & CSF2RA    & K562 & -0.095197874 & 7.606014e-02 & 0.356480154 & 0.9929732\\\\\n",
       "\t chrX &  999443 &  999815 & GTPBP6    & K562 &  0.066542862 & 2.414830e-01 & 0.356480154 & 0.6764261\\\\\n",
       "\t chrX &  999443 &  999815 & IL3RA     & K562 &  0.011379978 & 8.666372e-01 & 0.356480154 & 0.9475919\\\\\n",
       "\t chrX &  999443 &  999815 & LINC00106 & K562 &  0.117249491 & 2.400417e-02 & 0.356480154 & 0.5419412\\\\\n",
       "\t chrX &  999443 &  999815 & P2RY8     & K562 &  0.139304449 & 5.946863e-03 & 0.356480154 & 0.9321720\\\\\n",
       "\t chrX &  999443 &  999815 & PLCXD1    & K562 &  0.103845424 & 4.977108e-02 & 0.356480154 & 0.6084517\\\\\n",
       "\t chrX &  999443 &  999815 & PPP2R3B   & K562 &  0.172879923 & 4.392281e-04 & 0.356480154 & 0.5990338\\\\\n",
       "\t chrX &  999443 &  999815 & SLC25A6   & K562 & -0.143986777 & 4.283672e-03 & 0.356480154 & 0.8952813\\\\\n",
       "\t chrX & 9995651 & 9996434 & CLCN4     & K562 & -0.062975308 & 2.716851e-01 & 0.813981695 & 0.4461035\\\\\n",
       "\t chrX & 9995651 & 9996434 & GPR143    & K562 &  0.011021485 & 8.710064e-01 & 0.813981695 & 0.2490119\\\\\n",
       "\t chrX & 9995651 & 9996434 & TBL1X     & K562 & -0.373361457 & 1.007621e-16 & 0.813981695 & 0.9431025\\\\\n",
       "\t chrX & 9995651 & 9996434 & WWC3      & K562 &  0.251528933 & 8.954709e-08 & 0.813981695 & 0.6814522\\\\\n",
       "\t chrX & 9997538 & 9997892 & CLCN4     & K562 & -0.018773833 & 7.747603e-01 & 0.549706504 & 0.4461035\\\\\n",
       "\t chrX & 9997538 & 9997892 & GPR143    & K562 & -0.002414198 & 9.729855e-01 & 0.549706504 & 0.2490119\\\\\n",
       "\t chrX & 9997538 & 9997892 & TBL1X     & K562 & -0.360211684 & 1.515577e-15 & 0.549706504 & 0.9431025\\\\\n",
       "\t chrX & 9997538 & 9997892 & WWC3      & K562 &  0.280198077 & 1.664068e-09 & 0.549706504 & 0.6814522\\\\\n",
       "\\end{tabular}\n"
      ],
      "text/markdown": [
       "\n",
       "A data.frame: 5768157 × 9\n",
       "\n",
       "| chr &lt;fct&gt; | start &lt;int&gt; | end &lt;int&gt; | TargetGene &lt;chr&gt; | CellType &lt;chr&gt; | Correlation &lt;dbl&gt; | FDR &lt;dbl&gt; | VarQATAC &lt;dbl&gt; | VarQRNA &lt;dbl&gt; |\n",
       "|---|---|---|---|---|---|---|---|---|\n",
       "| chr1 | 100028331 | 100029533 | AGL      | K562 |  0.277644850 | 2.422092e-09 | 0.9407372 | 0.77158054 |\n",
       "| chr1 | 100028331 | 100029533 | CDC14A   | K562 | -0.130980015 | 1.036606e-02 | 0.9407372 | 0.99365637 |\n",
       "| chr1 | 100028331 | 100029533 | DBT      | K562 |  0.112792131 | 3.089140e-02 | 0.9407372 | 0.60791490 |\n",
       "| chr1 | 100028331 | 100029533 | DPH5     | K562 | -0.040445011 | 5.069250e-01 | 0.9407372 | 0.73356756 |\n",
       "| chr1 | 100028331 | 100029533 | EXTL2    | K562 |  0.206238004 | 1.820474e-05 | 0.9407372 | 0.40945689 |\n",
       "| chr1 | 100028331 | 100029533 | FRRS1    | K562 | -0.187695163 | 1.151022e-04 | 0.9407372 | 0.46391451 |\n",
       "| chr1 | 100028331 | 100029533 | GPR88    | K562 | -0.021201087 | 7.442943e-01 | 0.9407372 | 0.09813107 |\n",
       "| chr1 | 100028331 | 100029533 | MFSD14A  | K562 | -0.058303665 | 3.144896e-01 | 0.9407372 | 0.42482799 |\n",
       "| chr1 | 100028331 | 100029533 | RTCA     | K562 |  0.545904749 | 2.939513e-38 | 0.9407372 | 0.71077929 |\n",
       "| chr1 | 100028331 | 100029533 | RTCA-AS1 | K562 | -0.103866912 | 4.971562e-02 | 0.9407372 | 0.46942859 |\n",
       "| chr1 | 100028331 | 100029533 | SASS6    | K562 |  0.414162437 | 9.609205e-21 | 0.9407372 | 0.57907578 |\n",
       "| chr1 | 100028331 | 100029533 | SLC30A7  | K562 | -0.003468944 | 9.608716e-01 | 0.9407372 | 0.74537647 |\n",
       "| chr1 | 100028331 | 100029533 | SLC35A3  | K562 | -0.035722772 | 5.635502e-01 | 0.9407372 | 0.59922901 |\n",
       "| chr1 | 100028331 | 100029533 | TRMT13   | K562 | -0.038811278 | 5.263418e-01 | 0.9407372 | 0.78065681 |\n",
       "| chr1 | 100037542 | 100039303 | AGL      | K562 |  0.656346579 | 1.962951e-60 | 0.9887974 | 0.77158054 |\n",
       "| chr1 | 100037542 | 100039303 | CDC14A   | K562 |  0.743522886 | 5.918703e-86 | 0.9887974 | 0.99365637 |\n",
       "| chr1 | 100037542 | 100039303 | DBT      | K562 |  0.310536621 | 1.406263e-11 | 0.9887974 | 0.60791490 |\n",
       "| chr1 | 100037542 | 100039303 | DPH5     | K562 |  0.691559941 | 1.212640e-69 | 0.9887974 | 0.73356756 |\n",
       "| chr1 | 100037542 | 100039303 | EXTL2    | K562 |  0.050303889 | 3.956403e-01 | 0.9887974 | 0.40945689 |\n",
       "| chr1 | 100037542 | 100039303 | FRRS1    | K562 | -0.656933612 | 1.411184e-60 | 0.9887974 | 0.46391451 |\n",
       "| chr1 | 100037542 | 100039303 | GPR88    | K562 | -0.053974224 | 3.572591e-01 | 0.9887974 | 0.09813107 |\n",
       "| chr1 | 100037542 | 100039303 | MFSD14A  | K562 |  0.058341634 | 3.141293e-01 | 0.9887974 | 0.42482799 |\n",
       "| chr1 | 100037542 | 100039303 | RTCA     | K562 |  0.217820649 | 5.226124e-06 | 0.9887974 | 0.71077929 |\n",
       "| chr1 | 100037542 | 100039303 | RTCA-AS1 | K562 | -0.107956213 | 4.017432e-02 | 0.9887974 | 0.46942859 |\n",
       "| chr1 | 100037542 | 100039303 | SASS6    | K562 |  0.291906114 | 2.826040e-10 | 0.9887974 | 0.57907578 |\n",
       "| chr1 | 100037542 | 100039303 | SLC30A7  | K562 |  0.284536001 | 8.713407e-10 | 0.9887974 | 0.74537647 |\n",
       "| chr1 | 100037542 | 100039303 | SLC35A3  | K562 |  0.314582442 | 7.115300e-12 | 0.9887974 | 0.59922901 |\n",
       "| chr1 | 100037542 | 100039303 | TRMT13   | K562 |  0.601954687 | 2.002276e-48 | 0.9887974 | 0.78065681 |\n",
       "| chr1 | 100044514 | 100044850 | AGL      | K562 |  0.182471652 | 1.870551e-04 | 0.3824878 | 0.77158054 |\n",
       "| chr1 | 100044514 | 100044850 | CDC14A   | K562 |  0.013755765 | 8.374037e-01 | 0.3824878 | 0.99365637 |\n",
       "| ⋮ | ⋮ | ⋮ | ⋮ | ⋮ | ⋮ | ⋮ | ⋮ | ⋮ |\n",
       "| chrX |  999238 |  999388 | AKAP17A   | K562 |  0.018223179 | 7.816880e-01 | 0.004535103 | 0.6795003 |\n",
       "| chrX |  999238 |  999388 | ASMT      | K562 |  0.002552749 | 9.714119e-01 | 0.004535103 | 0.2604792 |\n",
       "| chrX |  999238 |  999388 | ASMTL     | K562 |  0.089679593 | 9.786465e-02 | 0.004535103 | 0.7617235 |\n",
       "| chrX |  999238 |  999388 | CSF2RA    | K562 |  0.110360570 | 3.530084e-02 | 0.004535103 | 0.9929732 |\n",
       "| chrX |  999238 |  999388 | GTPBP6    | K562 |  0.002240939 | 9.749657e-01 | 0.004535103 | 0.6764261 |\n",
       "| chrX |  999238 |  999388 | IL3RA     | K562 |  0.155319330 | 1.846690e-03 | 0.004535103 | 0.9475919 |\n",
       "| chrX |  999238 |  999388 | LINC00106 | K562 |  0.116479481 | 2.509179e-02 | 0.004535103 | 0.5419412 |\n",
       "| chrX |  999238 |  999388 | P2RY8     | K562 | -0.041642407 | 4.928612e-01 | 0.004535103 | 0.9321720 |\n",
       "| chrX |  999238 |  999388 | PLCXD1    | K562 |  0.110288649 | 3.543940e-02 | 0.004535103 | 0.6084517 |\n",
       "| chrX |  999238 |  999388 | PPP2R3B   | K562 | -0.041515149 | 4.943594e-01 | 0.004535103 | 0.5990338 |\n",
       "| chrX |  999238 |  999388 | SLC25A6   | K562 | -0.032965348 | 5.973270e-01 | 0.004535103 | 0.8952813 |\n",
       "| chrX |  999443 |  999815 | AKAP17A   | K562 | -0.090921225 | 9.258557e-02 | 0.356480154 | 0.6795003 |\n",
       "| chrX |  999443 |  999815 | ASMT      | K562 | -0.103537608 | 5.055960e-02 | 0.356480154 | 0.2604792 |\n",
       "| chrX |  999443 |  999815 | ASMTL     | K562 | -0.117900700 | 2.311734e-02 | 0.356480154 | 0.7617235 |\n",
       "| chrX |  999443 |  999815 | CSF2RA    | K562 | -0.095197874 | 7.606014e-02 | 0.356480154 | 0.9929732 |\n",
       "| chrX |  999443 |  999815 | GTPBP6    | K562 |  0.066542862 | 2.414830e-01 | 0.356480154 | 0.6764261 |\n",
       "| chrX |  999443 |  999815 | IL3RA     | K562 |  0.011379978 | 8.666372e-01 | 0.356480154 | 0.9475919 |\n",
       "| chrX |  999443 |  999815 | LINC00106 | K562 |  0.117249491 | 2.400417e-02 | 0.356480154 | 0.5419412 |\n",
       "| chrX |  999443 |  999815 | P2RY8     | K562 |  0.139304449 | 5.946863e-03 | 0.356480154 | 0.9321720 |\n",
       "| chrX |  999443 |  999815 | PLCXD1    | K562 |  0.103845424 | 4.977108e-02 | 0.356480154 | 0.6084517 |\n",
       "| chrX |  999443 |  999815 | PPP2R3B   | K562 |  0.172879923 | 4.392281e-04 | 0.356480154 | 0.5990338 |\n",
       "| chrX |  999443 |  999815 | SLC25A6   | K562 | -0.143986777 | 4.283672e-03 | 0.356480154 | 0.8952813 |\n",
       "| chrX | 9995651 | 9996434 | CLCN4     | K562 | -0.062975308 | 2.716851e-01 | 0.813981695 | 0.4461035 |\n",
       "| chrX | 9995651 | 9996434 | GPR143    | K562 |  0.011021485 | 8.710064e-01 | 0.813981695 | 0.2490119 |\n",
       "| chrX | 9995651 | 9996434 | TBL1X     | K562 | -0.373361457 | 1.007621e-16 | 0.813981695 | 0.9431025 |\n",
       "| chrX | 9995651 | 9996434 | WWC3      | K562 |  0.251528933 | 8.954709e-08 | 0.813981695 | 0.6814522 |\n",
       "| chrX | 9997538 | 9997892 | CLCN4     | K562 | -0.018773833 | 7.747603e-01 | 0.549706504 | 0.4461035 |\n",
       "| chrX | 9997538 | 9997892 | GPR143    | K562 | -0.002414198 | 9.729855e-01 | 0.549706504 | 0.2490119 |\n",
       "| chrX | 9997538 | 9997892 | TBL1X     | K562 | -0.360211684 | 1.515577e-15 | 0.549706504 | 0.9431025 |\n",
       "| chrX | 9997538 | 9997892 | WWC3      | K562 |  0.280198077 | 1.664068e-09 | 0.549706504 | 0.6814522 |\n",
       "\n"
      ],
      "text/plain": [
       "        chr  start     end       TargetGene CellType Correlation  FDR         \n",
       "1       chr1 100028331 100029533 AGL        K562      0.277644850 2.422092e-09\n",
       "2       chr1 100028331 100029533 CDC14A     K562     -0.130980015 1.036606e-02\n",
       "3       chr1 100028331 100029533 DBT        K562      0.112792131 3.089140e-02\n",
       "4       chr1 100028331 100029533 DPH5       K562     -0.040445011 5.069250e-01\n",
       "5       chr1 100028331 100029533 EXTL2      K562      0.206238004 1.820474e-05\n",
       "6       chr1 100028331 100029533 FRRS1      K562     -0.187695163 1.151022e-04\n",
       "7       chr1 100028331 100029533 GPR88      K562     -0.021201087 7.442943e-01\n",
       "8       chr1 100028331 100029533 MFSD14A    K562     -0.058303665 3.144896e-01\n",
       "9       chr1 100028331 100029533 RTCA       K562      0.545904749 2.939513e-38\n",
       "10      chr1 100028331 100029533 RTCA-AS1   K562     -0.103866912 4.971562e-02\n",
       "11      chr1 100028331 100029533 SASS6      K562      0.414162437 9.609205e-21\n",
       "12      chr1 100028331 100029533 SLC30A7    K562     -0.003468944 9.608716e-01\n",
       "13      chr1 100028331 100029533 SLC35A3    K562     -0.035722772 5.635502e-01\n",
       "14      chr1 100028331 100029533 TRMT13     K562     -0.038811278 5.263418e-01\n",
       "15      chr1 100037542 100039303 AGL        K562      0.656346579 1.962951e-60\n",
       "16      chr1 100037542 100039303 CDC14A     K562      0.743522886 5.918703e-86\n",
       "17      chr1 100037542 100039303 DBT        K562      0.310536621 1.406263e-11\n",
       "18      chr1 100037542 100039303 DPH5       K562      0.691559941 1.212640e-69\n",
       "19      chr1 100037542 100039303 EXTL2      K562      0.050303889 3.956403e-01\n",
       "20      chr1 100037542 100039303 FRRS1      K562     -0.656933612 1.411184e-60\n",
       "21      chr1 100037542 100039303 GPR88      K562     -0.053974224 3.572591e-01\n",
       "22      chr1 100037542 100039303 MFSD14A    K562      0.058341634 3.141293e-01\n",
       "23      chr1 100037542 100039303 RTCA       K562      0.217820649 5.226124e-06\n",
       "24      chr1 100037542 100039303 RTCA-AS1   K562     -0.107956213 4.017432e-02\n",
       "25      chr1 100037542 100039303 SASS6      K562      0.291906114 2.826040e-10\n",
       "26      chr1 100037542 100039303 SLC30A7    K562      0.284536001 8.713407e-10\n",
       "27      chr1 100037542 100039303 SLC35A3    K562      0.314582442 7.115300e-12\n",
       "28      chr1 100037542 100039303 TRMT13     K562      0.601954687 2.002276e-48\n",
       "29      chr1 100044514 100044850 AGL        K562      0.182471652 1.870551e-04\n",
       "30      chr1 100044514 100044850 CDC14A     K562      0.013755765 8.374037e-01\n",
       "⋮       ⋮    ⋮         ⋮         ⋮          ⋮        ⋮            ⋮           \n",
       "5768128 chrX  999238    999388   AKAP17A    K562      0.018223179 7.816880e-01\n",
       "5768129 chrX  999238    999388   ASMT       K562      0.002552749 9.714119e-01\n",
       "5768130 chrX  999238    999388   ASMTL      K562      0.089679593 9.786465e-02\n",
       "5768131 chrX  999238    999388   CSF2RA     K562      0.110360570 3.530084e-02\n",
       "5768132 chrX  999238    999388   GTPBP6     K562      0.002240939 9.749657e-01\n",
       "5768133 chrX  999238    999388   IL3RA      K562      0.155319330 1.846690e-03\n",
       "5768134 chrX  999238    999388   LINC00106  K562      0.116479481 2.509179e-02\n",
       "5768135 chrX  999238    999388   P2RY8      K562     -0.041642407 4.928612e-01\n",
       "5768136 chrX  999238    999388   PLCXD1     K562      0.110288649 3.543940e-02\n",
       "5768137 chrX  999238    999388   PPP2R3B    K562     -0.041515149 4.943594e-01\n",
       "5768138 chrX  999238    999388   SLC25A6    K562     -0.032965348 5.973270e-01\n",
       "5768139 chrX  999443    999815   AKAP17A    K562     -0.090921225 9.258557e-02\n",
       "5768140 chrX  999443    999815   ASMT       K562     -0.103537608 5.055960e-02\n",
       "5768141 chrX  999443    999815   ASMTL      K562     -0.117900700 2.311734e-02\n",
       "5768142 chrX  999443    999815   CSF2RA     K562     -0.095197874 7.606014e-02\n",
       "5768143 chrX  999443    999815   GTPBP6     K562      0.066542862 2.414830e-01\n",
       "5768144 chrX  999443    999815   IL3RA      K562      0.011379978 8.666372e-01\n",
       "5768145 chrX  999443    999815   LINC00106  K562      0.117249491 2.400417e-02\n",
       "5768146 chrX  999443    999815   P2RY8      K562      0.139304449 5.946863e-03\n",
       "5768147 chrX  999443    999815   PLCXD1     K562      0.103845424 4.977108e-02\n",
       "5768148 chrX  999443    999815   PPP2R3B    K562      0.172879923 4.392281e-04\n",
       "5768149 chrX  999443    999815   SLC25A6    K562     -0.143986777 4.283672e-03\n",
       "5768150 chrX 9995651   9996434   CLCN4      K562     -0.062975308 2.716851e-01\n",
       "5768151 chrX 9995651   9996434   GPR143     K562      0.011021485 8.710064e-01\n",
       "5768152 chrX 9995651   9996434   TBL1X      K562     -0.373361457 1.007621e-16\n",
       "5768153 chrX 9995651   9996434   WWC3       K562      0.251528933 8.954709e-08\n",
       "5768154 chrX 9997538   9997892   CLCN4      K562     -0.018773833 7.747603e-01\n",
       "5768155 chrX 9997538   9997892   GPR143     K562     -0.002414198 9.729855e-01\n",
       "5768156 chrX 9997538   9997892   TBL1X      K562     -0.360211684 1.515577e-15\n",
       "5768157 chrX 9997538   9997892   WWC3       K562      0.280198077 1.664068e-09\n",
       "        VarQATAC    VarQRNA   \n",
       "1       0.9407372   0.77158054\n",
       "2       0.9407372   0.99365637\n",
       "3       0.9407372   0.60791490\n",
       "4       0.9407372   0.73356756\n",
       "5       0.9407372   0.40945689\n",
       "6       0.9407372   0.46391451\n",
       "7       0.9407372   0.09813107\n",
       "8       0.9407372   0.42482799\n",
       "9       0.9407372   0.71077929\n",
       "10      0.9407372   0.46942859\n",
       "11      0.9407372   0.57907578\n",
       "12      0.9407372   0.74537647\n",
       "13      0.9407372   0.59922901\n",
       "14      0.9407372   0.78065681\n",
       "15      0.9887974   0.77158054\n",
       "16      0.9887974   0.99365637\n",
       "17      0.9887974   0.60791490\n",
       "18      0.9887974   0.73356756\n",
       "19      0.9887974   0.40945689\n",
       "20      0.9887974   0.46391451\n",
       "21      0.9887974   0.09813107\n",
       "22      0.9887974   0.42482799\n",
       "23      0.9887974   0.71077929\n",
       "24      0.9887974   0.46942859\n",
       "25      0.9887974   0.57907578\n",
       "26      0.9887974   0.74537647\n",
       "27      0.9887974   0.59922901\n",
       "28      0.9887974   0.78065681\n",
       "29      0.3824878   0.77158054\n",
       "30      0.3824878   0.99365637\n",
       "⋮       ⋮           ⋮         \n",
       "5768128 0.004535103 0.6795003 \n",
       "5768129 0.004535103 0.2604792 \n",
       "5768130 0.004535103 0.7617235 \n",
       "5768131 0.004535103 0.9929732 \n",
       "5768132 0.004535103 0.6764261 \n",
       "5768133 0.004535103 0.9475919 \n",
       "5768134 0.004535103 0.5419412 \n",
       "5768135 0.004535103 0.9321720 \n",
       "5768136 0.004535103 0.6084517 \n",
       "5768137 0.004535103 0.5990338 \n",
       "5768138 0.004535103 0.8952813 \n",
       "5768139 0.356480154 0.6795003 \n",
       "5768140 0.356480154 0.2604792 \n",
       "5768141 0.356480154 0.7617235 \n",
       "5768142 0.356480154 0.9929732 \n",
       "5768143 0.356480154 0.6764261 \n",
       "5768144 0.356480154 0.9475919 \n",
       "5768145 0.356480154 0.5419412 \n",
       "5768146 0.356480154 0.9321720 \n",
       "5768147 0.356480154 0.6084517 \n",
       "5768148 0.356480154 0.5990338 \n",
       "5768149 0.356480154 0.8952813 \n",
       "5768150 0.813981695 0.4461035 \n",
       "5768151 0.813981695 0.2490119 \n",
       "5768152 0.813981695 0.9431025 \n",
       "5768153 0.813981695 0.6814522 \n",
       "5768154 0.549706504 0.4461035 \n",
       "5768155 0.549706504 0.2490119 \n",
       "5768156 0.549706504 0.9431025 \n",
       "5768157 0.549706504 0.6814522 "
      ]
     },
     "metadata": {},
     "output_type": "display_data"
    }
   ],
   "source": [
    "saveRDS(obj.ArchR,\n",
    "        paste(dir.output,\"obj.ArchR.rds\",sep = \"/\"))\n",
    "saveRDS(pairs.E2G.res,\n",
    "        paste(dir.output,\"pairs.E2G.res.rds\",sep = \"/\"))\n",
    "df.output = as.data.frame(pairs.E2G.res,row.names = NULL)\n",
    "colnames(df.output)[1] = \"chr\"\n",
    "df.output[,\"CellType\"] = \"K562\"\n",
    "df.output = df.output[,c(\"chr\",\n",
    "                         \"start\",\n",
    "                         \"end\",\n",
    "                         \"TargetGene\",\n",
    "                         \"CellType\",\n",
    "                         \"Correlation\",\n",
    "                         \"FDR\",\n",
    "                         \"VarQATAC\",\n",
    "                         \"VarQRNA\")]\n",
    "data.table::fwrite(df.output,\n",
    "                   file = paste(dir.output,\"pairs.E2G.res.tsv.gz\",sep = \"/\"),\n",
    "                   row.names = F,\n",
    "                   quote = F,\n",
    "                   sep = \"\\t\")\n",
    "pairs.E2G.res\n",
    "df.output"
   ]
  },
  {
   "cell_type": "code",
   "execution_count": 33,
   "id": "4c909ed5-7321-4e69-8208-1544b371da6d",
   "metadata": {},
   "outputs": [
    {
     "data": {
      "text/plain": [
       "R version 4.3.3 (2024-02-29)\n",
       "Platform: x86_64-conda-linux-gnu (64-bit)\n",
       "Running under: Red Hat Enterprise Linux 8.10 (Ootpa)\n",
       "\n",
       "Matrix products: default\n",
       "BLAS/LAPACK: /maps/projects/ralab/people/lpm537/software/anaconda3/envs/Notebook_E2G_240505/lib/libopenblasp-r0.3.27.so;  LAPACK version 3.12.0\n",
       "\n",
       "Random number generation:\n",
       " RNG:     L'Ecuyer-CMRG \n",
       " Normal:  Inversion \n",
       " Sample:  Rejection \n",
       " \n",
       "locale:\n",
       " [1] LC_CTYPE=en_US.UTF-8       LC_NUMERIC=C              \n",
       " [3] LC_TIME=en_US.UTF-8        LC_COLLATE=en_US.UTF-8    \n",
       " [5] LC_MONETARY=en_US.UTF-8    LC_MESSAGES=en_US.UTF-8   \n",
       " [7] LC_PAPER=en_US.UTF-8       LC_NAME=C                 \n",
       " [9] LC_ADDRESS=C               LC_TELEPHONE=C            \n",
       "[11] LC_MEASUREMENT=en_US.UTF-8 LC_IDENTIFICATION=C       \n",
       "\n",
       "time zone: Europe/Copenhagen\n",
       "tzcode source: system (glibc)\n",
       "\n",
       "attached base packages:\n",
       " [1] parallel  stats4    grid      stats     graphics  grDevices utils    \n",
       " [8] datasets  methods   base     \n",
       "\n",
       "other attached packages:\n",
       " [1] dplyr_1.1.4                       uwot_0.1.16                      \n",
       " [3] nabor_0.5.0                       BSgenome.Hsapiens.UCSC.hg38_1.4.5\n",
       " [5] BSgenome_1.68.0                   rtracklayer_1.60.1               \n",
       " [7] Biostrings_2.70.1                 XVector_0.42.0                   \n",
       " [9] genomation_1.34.0                 Signac_1.13.0                    \n",
       "[11] Seurat_5.0.3                      SeuratObject_5.0.1               \n",
       "[13] sp_2.1-4                          rhdf5_2.44.0                     \n",
       "[15] SummarizedExperiment_1.30.2       Biobase_2.60.0                   \n",
       "[17] MatrixGenerics_1.12.3             Rcpp_1.0.12                      \n",
       "[19] Matrix_1.6-5                      GenomicRanges_1.54.1             \n",
       "[21] GenomeInfoDb_1.38.1               IRanges_2.36.0                   \n",
       "[23] S4Vectors_0.40.2                  BiocGenerics_0.48.1              \n",
       "[25] matrixStats_1.3.0                 data.table_1.15.2                \n",
       "[27] stringr_1.5.1                     plyr_1.8.9                       \n",
       "[29] magrittr_2.0.3                    ggplot2_3.5.1                    \n",
       "[31] gtable_0.3.5                      gtools_3.9.5                     \n",
       "[33] gridExtra_2.3                     ArchR_1.0.2                      \n",
       "\n",
       "loaded via a namespace (and not attached):\n",
       "  [1] RcppAnnoy_0.0.22         splines_4.3.3            later_1.3.2             \n",
       "  [4] pbdZMQ_0.3-11            BiocIO_1.10.0            bitops_1.0-7            \n",
       "  [7] tibble_3.2.1             polyclip_1.10-6          XML_3.99-0.16.1         \n",
       " [10] fastDummies_1.7.3        lifecycle_1.0.4          globals_0.16.3          \n",
       " [13] lattice_0.22-6           MASS_7.3-60              plotly_4.10.4           \n",
       " [16] plotrix_3.8-4            yaml_2.3.8               httpuv_1.6.15           \n",
       " [19] sctransform_0.4.1        spam_2.10-0              spatstat.sparse_3.0-3   \n",
       " [22] reticulate_1.36.1        cowplot_1.1.3            pbapply_1.7-2           \n",
       " [25] RColorBrewer_1.1-3       abind_1.4-5              zlibbioc_1.48.0         \n",
       " [28] Rtsne_0.17               purrr_1.0.2              RCurl_1.98-1.14         \n",
       " [31] GenomeInfoDbData_1.2.11  ggrepel_0.9.5            irlba_2.3.5.1           \n",
       " [34] listenv_0.9.1            spatstat.utils_3.0-4     goftest_1.2-3           \n",
       " [37] RSpectra_0.16-1          spatstat.random_3.2-3    fitdistrplus_1.1-11     \n",
       " [40] parallelly_1.37.1        leiden_0.4.3.1           codetools_0.2-20        \n",
       " [43] DelayedArray_0.26.7      RcppRoll_0.3.0           tidyselect_1.2.1        \n",
       " [46] farver_2.1.1             base64enc_0.1-3          spatstat.explore_3.2-6  \n",
       " [49] GenomicAlignments_1.36.0 jsonlite_1.8.8           progressr_0.14.0        \n",
       " [52] ggridges_0.5.6           survival_3.6-4           tools_4.3.3             \n",
       " [55] ica_1.0-3                glue_1.7.0               IRdisplay_1.1           \n",
       " [58] withr_3.0.0              fastmap_1.1.1            rhdf5filters_1.12.1     \n",
       " [61] fansi_1.0.6              digest_0.6.35            R6_2.5.1                \n",
       " [64] mime_0.12                seqPattern_1.34.0        colorspace_2.1-0        \n",
       " [67] Cairo_1.6-2              scattermore_1.2          tensor_1.5              \n",
       " [70] spatstat.data_3.0-4      utf8_1.2.4               tidyr_1.3.1             \n",
       " [73] generics_0.1.3           httr_1.4.7               htmlwidgets_1.6.4       \n",
       " [76] S4Arrays_1.2.1           pkgconfig_2.0.3          impute_1.76.0           \n",
       " [79] lmtest_0.9-40            htmltools_0.5.8.1        dotCall64_1.1-1         \n",
       " [82] scales_1.3.0             png_0.1-8                tzdb_0.4.0              \n",
       " [85] reshape2_1.4.4           rjson_0.2.21             uuid_1.2-0              \n",
       " [88] nlme_3.1-164             repr_1.1.7               zoo_1.8-12              \n",
       " [91] KernSmooth_2.23-22       miniUI_0.1.1.1           restfulr_0.0.15         \n",
       " [94] pillar_1.9.0             vctrs_0.6.5              RANN_2.6.1              \n",
       " [97] promises_1.3.0           xtable_1.8-4             cluster_2.1.6           \n",
       "[100] evaluate_0.23            readr_2.1.5              cli_3.6.2               \n",
       "[103] compiler_4.3.3           Rsamtools_2.18.0         rlang_1.1.3             \n",
       "[106] crayon_1.5.2             future.apply_1.11.2      labeling_0.4.3          \n",
       "[109] stringi_1.8.3            gridBase_0.4-7           viridisLite_0.4.2       \n",
       "[112] deldir_2.0-4             BiocParallel_1.36.0      munsell_0.5.1           \n",
       "[115] lazyeval_0.2.2           spatstat.geom_3.2-9      IRkernel_1.3.2          \n",
       "[118] RcppHNSW_0.6.0           hms_1.1.3                patchwork_1.2.0         \n",
       "[121] future_1.33.2            Rhdf5lib_1.22.1          shiny_1.8.1.1           \n",
       "[124] ROCR_1.0-11              igraph_2.0.3             fastmatch_1.1-4         "
      ]
     },
     "metadata": {},
     "output_type": "display_data"
    }
   ],
   "source": [
    "sessionInfo()"
   ]
  },
  {
   "cell_type": "code",
   "execution_count": null,
   "id": "b54012ba-20d1-4787-8d0d-d851ef1744c4",
   "metadata": {},
   "outputs": [],
   "source": []
  }
 ],
 "metadata": {
  "kernelspec": {
   "display_name": "R",
   "language": "R",
   "name": "ir"
  },
  "language_info": {
   "codemirror_mode": "r",
   "file_extension": ".r",
   "mimetype": "text/x-r-source",
   "name": "R",
   "pygments_lexer": "r",
   "version": "4.3.3"
  }
 },
 "nbformat": 4,
 "nbformat_minor": 5
}
