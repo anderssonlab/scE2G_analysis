{
 "cells": [
  {
   "cell_type": "code",
   "execution_count": 1,
   "id": "3a1e63f9-7479-4a30-83ea-381f1ecdbe50",
   "metadata": {},
   "outputs": [
    {
     "name": "stderr",
     "output_type": "stream",
     "text": [
      "Warning message:\n",
      "“replacing previous import ‘Hmisc::capitalize’ by ‘R.utils::capitalize’ when loading ‘SCENT’”\n",
      "Loading required package: grid\n",
      "\n",
      "Warning message:\n",
      "“replacing previous import ‘Biostrings::pattern’ by ‘grid::pattern’ when loading ‘genomation’”\n",
      "Loading required package: stats4\n",
      "\n",
      "Loading required package: BiocGenerics\n",
      "\n",
      "\n",
      "Attaching package: ‘BiocGenerics’\n",
      "\n",
      "\n",
      "The following objects are masked from ‘package:stats’:\n",
      "\n",
      "    IQR, mad, sd, var, xtabs\n",
      "\n",
      "\n",
      "The following objects are masked from ‘package:base’:\n",
      "\n",
      "    anyDuplicated, aperm, append, as.data.frame, basename, cbind,\n",
      "    colnames, dirname, do.call, duplicated, eval, evalq, Filter, Find,\n",
      "    get, grep, grepl, intersect, is.unsorted, lapply, Map, mapply,\n",
      "    match, mget, order, paste, pmax, pmax.int, pmin, pmin.int,\n",
      "    Position, rank, rbind, Reduce, rownames, sapply, setdiff, sort,\n",
      "    table, tapply, union, unique, unsplit, which.max, which.min\n",
      "\n",
      "\n",
      "Loading required package: S4Vectors\n",
      "\n",
      "\n",
      "Attaching package: ‘S4Vectors’\n",
      "\n",
      "\n",
      "The following object is masked from ‘package:utils’:\n",
      "\n",
      "    findMatches\n",
      "\n",
      "\n",
      "The following objects are masked from ‘package:base’:\n",
      "\n",
      "    expand.grid, I, unname\n",
      "\n",
      "\n",
      "Loading required package: IRanges\n",
      "\n",
      "Loading required package: GenomeInfoDb\n",
      "\n",
      "\n",
      "Attaching package: ‘Matrix’\n",
      "\n",
      "\n",
      "The following object is masked from ‘package:S4Vectors’:\n",
      "\n",
      "    expand\n",
      "\n",
      "\n"
     ]
    }
   ],
   "source": [
    "library(SCENT)\n",
    "library(Signac)\n",
    "library(genomation)\n",
    "library(GenomicRanges)\n",
    "library(Matrix)\n",
    "library(parallel)"
   ]
  },
  {
   "cell_type": "markdown",
   "id": "d53f3774-52c3-4baa-b707-5b3a0450b130",
   "metadata": {},
   "source": [
    "Specify file path"
   ]
  },
  {
   "cell_type": "code",
   "execution_count": 2,
   "id": "0785f3fc-9913-428a-bea7-5710120c9328",
   "metadata": {},
   "outputs": [],
   "source": [
    "path.pairs.E2G = \"/maps/projects/ralab_nnfc-AUDIT/people/lpm537/software/scE2G_pipeline/240610/sc-E2G/test/results/K562_IGVF_filter/K562/Kendall/Pairs.tsv.gz\"\n",
    "path.pairs.ABC = \"/maps/projects/ralab_nnfc-AUDIT/people/lpm537/software/scE2G_pipeline/240610/sc-E2G/test/results/K562_IGVF_filter/K562/Predictions/EnhancerPredictionsAllPutative.tsv.gz\"\n",
    "path.matrix.atac_count = \"/maps/projects/ralab_nnfc-AUDIT/people/lpm537/software/scE2G_pipeline/240610/sc-E2G/test/results/K562_IGVF_filter/K562/Kendall/atac_matrix.rds\"\n",
    "path.matrix.rna_count = \"/maps/projects/ralab_nnfc-AUDIT/people/lpm537/project/E2G/analysis/E2G_240503/data/K562_IGVF/1.prepare_data/2.Filter_out_low_quality_cells.240614/rna_count_matrix.csv.gz\"\n",
    "dir.output = \"/maps/projects/ralab_nnfc-AUDIT/people/lpm537/project/E2G/analysis/E2G_240503/data/K562_IGVF/3.Genome_wide_prediction/SCENT/SCENT_100.240614/\""
   ]
  },
  {
   "cell_type": "code",
   "execution_count": 3,
   "id": "500ba317-011f-4cab-834c-de750cb7f503",
   "metadata": {},
   "outputs": [],
   "source": [
    "n.cores = 16"
   ]
  },
  {
   "cell_type": "markdown",
   "id": "9c9cdab1-486b-4539-99d3-3cd5d1d99795",
   "metadata": {},
   "source": [
    "Import candidate E-G pairs"
   ]
  },
  {
   "cell_type": "code",
   "execution_count": 4,
   "id": "f5852d15-7e3f-412b-b137-7d29a6fb47b1",
   "metadata": {},
   "outputs": [],
   "source": [
    "pairs.E2G = readGeneric(path.pairs.E2G,\n",
    "                        header = T,\n",
    "                        keep.all.metadata = T)"
   ]
  },
  {
   "cell_type": "markdown",
   "id": "e79f3220-9bc6-4496-9e9a-a2dcc6e7f751",
   "metadata": {},
   "source": [
    "Import ABC results"
   ]
  },
  {
   "cell_type": "code",
   "execution_count": 5,
   "id": "6bc3f6ba-5e9a-488c-ba26-e0c84007ef4d",
   "metadata": {},
   "outputs": [],
   "source": [
    "pairs.ABC = readGeneric(path.pairs.ABC,\n",
    "                        header = T,\n",
    "                        keep.all.metadata = T)"
   ]
  },
  {
   "cell_type": "markdown",
   "id": "7d660489-4656-4b85-a3df-381acf0aa4a1",
   "metadata": {},
   "source": [
    "Filter ABC results which distance < 1M"
   ]
  },
  {
   "cell_type": "code",
   "execution_count": 6,
   "id": "31b4d7f1-0feb-428b-934a-9c32cb2a4f68",
   "metadata": {},
   "outputs": [],
   "source": [
    "pairs.ABC.1M = pairs.ABC[pairs.ABC$distance < 10^6]"
   ]
  },
  {
   "cell_type": "markdown",
   "id": "639699dd-5bf9-4b19-9178-82dbbf2c62d0",
   "metadata": {},
   "source": [
    "Filter E-G pairs overlaping with pairs.ABC.1M"
   ]
  },
  {
   "cell_type": "code",
   "execution_count": 7,
   "id": "d7db8c1b-5245-49e1-862e-979d9f1de142",
   "metadata": {},
   "outputs": [
    {
     "data": {
      "text/plain": [
       "GRanges object with 3001947 ranges and 3 metadata columns:\n",
       "            seqnames            ranges strand |  TargetGene\n",
       "               <Rle>         <IRanges>  <Rle> | <character>\n",
       "        [1]     chr1 10002642-10003186      * | APITD1-CORT\n",
       "        [2]     chr1 10002642-10003186      * |       CASZ1\n",
       "        [3]     chr1 10002642-10003186      * |       CENPS\n",
       "        [4]     chr1 10002642-10003186      * |      CLSTN1\n",
       "        [5]     chr1 10002642-10003186      * |    CTNNBIP1\n",
       "        ...      ...               ...    ... .         ...\n",
       "  [3001943]     chrX   9995829-9996183      * |       CLCN4\n",
       "  [3001944]     chrX   9995829-9996183      * |      CLDN34\n",
       "  [3001945]     chrX   9995829-9996183      * |       FAM9B\n",
       "  [3001946]     chrX   9995829-9996183      * |       TBL1X\n",
       "  [3001947]     chrX   9995829-9996183      * |        WWC3\n",
       "                          PeakName               PairName\n",
       "                       <character>            <character>\n",
       "        [1] chr1-10002642-10003186 chr1-10002642-100031..\n",
       "        [2] chr1-10002642-10003186 chr1-10002642-100031..\n",
       "        [3] chr1-10002642-10003186 chr1-10002642-100031..\n",
       "        [4] chr1-10002642-10003186 chr1-10002642-100031..\n",
       "        [5] chr1-10002642-10003186 chr1-10002642-100031..\n",
       "        ...                    ...                    ...\n",
       "  [3001943]   chrX-9995829-9996183 chrX-9995829-9996183..\n",
       "  [3001944]   chrX-9995829-9996183 chrX-9995829-9996183..\n",
       "  [3001945]   chrX-9995829-9996183 chrX-9995829-9996183..\n",
       "  [3001946]   chrX-9995829-9996183 chrX-9995829-9996183..\n",
       "  [3001947]   chrX-9995829-9996183 chrX-9995829-9996183..\n",
       "  -------\n",
       "  seqinfo: 23 sequences from an unspecified genome; no seqlengths"
      ]
     },
     "metadata": {},
     "output_type": "display_data"
    }
   ],
   "source": [
    "df.pairs.E2G.chr_rename = as.data.frame(pairs.E2G)[,1:3]\n",
    "df.pairs.E2G.chr_rename[,\"seqnames\"] = paste(seqnames(pairs.E2G),\n",
    "                                             mcols(pairs.E2G)[,\"TargetGene\"],\n",
    "                                             sep = \"_\")\n",
    "pairs.E2G.chr_rename = GRanges(df.pairs.E2G.chr_rename)\n",
    "rm(df.pairs.E2G.chr_rename)\n",
    "\n",
    "df.pairs.ABC.1M.chr_rename = as.data.frame(pairs.ABC.1M)[,1:3]\n",
    "df.pairs.ABC.1M.chr_rename[,\"seqnames\"] = paste(seqnames(pairs.ABC.1M),\n",
    "                                                mcols(pairs.ABC.1M)[,\"TargetGene\"],\n",
    "                                                sep = \"_\")\n",
    "pairs.ABC.1M.chr_rename = GRanges(df.pairs.ABC.1M.chr_rename)\n",
    "rm(df.pairs.ABC.1M.chr_rename)\n",
    "\n",
    "pairs.E2G.filter = pairs.E2G[countOverlaps(pairs.E2G.chr_rename,\n",
    "                                           pairs.ABC.1M.chr_rename) > 0]\n",
    "rm(pairs.E2G.chr_rename)\n",
    "rm(pairs.ABC.1M.chr_rename)\n",
    "pairs.E2G.filter"
   ]
  },
  {
   "cell_type": "markdown",
   "id": "bcdfac67-ce32-4d9a-8f4d-65dab644ec63",
   "metadata": {},
   "source": [
    "Import ATAC matrix"
   ]
  },
  {
   "cell_type": "code",
   "execution_count": 8,
   "id": "bd59feb4-3e33-4ebe-a107-f3b6d347a68e",
   "metadata": {},
   "outputs": [],
   "source": [
    "matrix.atac = readRDS(path.matrix.atac_count)\n",
    "matrix.atac = BinarizeCounts(matrix.atac)"
   ]
  },
  {
   "cell_type": "markdown",
   "id": "a0c5cb96-2fc4-42c4-a421-fe9a5ca537da",
   "metadata": {},
   "source": [
    "Import RNA matrix"
   ]
  },
  {
   "cell_type": "code",
   "execution_count": 9,
   "id": "96e10e90-9400-4cfe-bc7b-46a7eaee1fcd",
   "metadata": {},
   "outputs": [],
   "source": [
    "matrix.rna = read.csv(path.matrix.rna_count,\n",
    "                      row.names = 1,\n",
    "                      check.names = F)\n",
    "matrix.rna = Matrix(as.matrix(matrix.rna), sparse = TRUE)\n",
    "matrix.rna = matrix.rna[,colnames(matrix.atac)]\n",
    "matrix.rna = matrix.rna[rowSums(matrix.rna) > 0,]"
   ]
  },
  {
   "cell_type": "code",
   "execution_count": 10,
   "id": "ad0f51bc-6e09-4b83-be71-560130dd0fa6",
   "metadata": {},
   "outputs": [],
   "source": [
    "pairs.E2G.filter2 = pairs.E2G.filter[pairs.E2G.filter$TargetGene %in% rownames(matrix.rna) &\n",
    "                                     pairs.E2G.filter$PeakName %in% rownames(matrix.atac)]"
   ]
  },
  {
   "cell_type": "markdown",
   "id": "b16f7d5b-eabd-4e93-b8cd-f19a54df21f2",
   "metadata": {},
   "source": [
    "Prepare SCENT meta data"
   ]
  },
  {
   "cell_type": "code",
   "execution_count": 11,
   "id": "827059dd-6885-441e-973e-d7c49e5fd534",
   "metadata": {},
   "outputs": [
    {
     "data": {
      "text/html": [
       "<table class=\"dataframe\">\n",
       "<caption>A data.frame: 4459 × 6</caption>\n",
       "<thead>\n",
       "\t<tr><th></th><th scope=col>cell</th><th scope=col>nUMI</th><th scope=col>nMito</th><th scope=col>celltype</th><th scope=col>log.nUMI</th><th scope=col>percent.mito</th></tr>\n",
       "\t<tr><th></th><th scope=col>&lt;chr&gt;</th><th scope=col>&lt;dbl&gt;</th><th scope=col>&lt;dbl&gt;</th><th scope=col>&lt;chr&gt;</th><th scope=col>&lt;dbl&gt;</th><th scope=col>&lt;dbl&gt;</th></tr>\n",
       "</thead>\n",
       "<tbody>\n",
       "\t<tr><th scope=row>e10l1_AAACCAGGTCACAGGG-1</th><td>e10l1_AAACCAGGTCACAGGG-1</td><td>13033</td><td>3567</td><td>K562</td><td> 9.475240</td><td>0.273689864</td></tr>\n",
       "\t<tr><th scope=row>e10l1_AAACCGCCAAGGAATA-1</th><td>e10l1_AAACCGCCAAGGAATA-1</td><td>16605</td><td>2496</td><td>K562</td><td> 9.717459</td><td>0.150316170</td></tr>\n",
       "\t<tr><th scope=row>e10l1_AAACCGCCAGCCGGTA-1</th><td>e10l1_AAACCGCCAGCCGGTA-1</td><td> 8953</td><td>1657</td><td>K562</td><td> 9.099744</td><td>0.185077628</td></tr>\n",
       "\t<tr><th scope=row>e10l1_AAACCGGTCAAGGAAG-1</th><td>e10l1_AAACCGGTCAAGGAAG-1</td><td> 6886</td><td> 246</td><td>K562</td><td> 8.837246</td><td>0.035724659</td></tr>\n",
       "\t<tr><th scope=row>e10l1_AAACGAACAACGTGGT-1</th><td>e10l1_AAACGAACAACGTGGT-1</td><td>22478</td><td>4700</td><td>K562</td><td>10.020292</td><td>0.209093336</td></tr>\n",
       "\t<tr><th scope=row>e10l1_AAACGGGCAAGGGAGC-1</th><td>e10l1_AAACGGGCAAGGGAGC-1</td><td>10625</td><td>2370</td><td>K562</td><td> 9.270965</td><td>0.223058824</td></tr>\n",
       "\t<tr><th scope=row>e10l1_AAACTAGTCCTGTGAC-1</th><td>e10l1_AAACTAGTCCTGTGAC-1</td><td> 7365</td><td> 130</td><td>K562</td><td> 8.904494</td><td>0.017651052</td></tr>\n",
       "\t<tr><th scope=row>e10l1_AAACTAGTCGAAGCAT-1</th><td>e10l1_AAACTAGTCGAAGCAT-1</td><td>10650</td><td>2424</td><td>K562</td><td> 9.273315</td><td>0.227605634</td></tr>\n",
       "\t<tr><th scope=row>e10l1_AAACTAGTCGCTTGAC-1</th><td>e10l1_AAACTAGTCGCTTGAC-1</td><td>10031</td><td> 247</td><td>K562</td><td> 9.213436</td><td>0.024623667</td></tr>\n",
       "\t<tr><th scope=row>e10l1_AAACTCGCAAGCGCTG-1</th><td>e10l1_AAACTCGCAAGCGCTG-1</td><td>14714</td><td>3816</td><td>K562</td><td> 9.596555</td><td>0.259344842</td></tr>\n",
       "\t<tr><th scope=row>e10l1_AAACTCGCAGCAAGTC-1</th><td>e10l1_AAACTCGCAGCAAGTC-1</td><td>12288</td><td>3510</td><td>K562</td><td> 9.416378</td><td>0.285644531</td></tr>\n",
       "\t<tr><th scope=row>e10l1_AAAGCCAGTTAGCTAC-1</th><td>e10l1_AAAGCCAGTTAGCTAC-1</td><td> 9592</td><td> 679</td><td>K562</td><td> 9.168685</td><td>0.070788157</td></tr>\n",
       "\t<tr><th scope=row>e10l1_AAAGCCAGTTAGTTTG-1</th><td>e10l1_AAAGCCAGTTAGTTTG-1</td><td>19576</td><td>5034</td><td>K562</td><td> 9.882060</td><td>0.257151614</td></tr>\n",
       "\t<tr><th scope=row>e10l1_AAAGCGAAGACTCCTA-1</th><td>e10l1_AAAGCGAAGACTCCTA-1</td><td>14304</td><td> 281</td><td>K562</td><td> 9.568294</td><td>0.019644855</td></tr>\n",
       "\t<tr><th scope=row>e10l1_AAAGCGAAGCTTATCG-1</th><td>e10l1_AAAGCGAAGCTTATCG-1</td><td>15916</td><td>2980</td><td>K562</td><td> 9.675080</td><td>0.187232973</td></tr>\n",
       "\t<tr><th scope=row>e10l1_AAAGCGAAGGCTAGCA-1</th><td>e10l1_AAAGCGAAGGCTAGCA-1</td><td> 7450</td><td>  73</td><td>K562</td><td> 8.915969</td><td>0.009798658</td></tr>\n",
       "\t<tr><th scope=row>e10l1_AAAGCGAAGTGCACCT-1</th><td>e10l1_AAAGCGAAGTGCACCT-1</td><td>10455</td><td>1066</td><td>K562</td><td> 9.254836</td><td>0.101960784</td></tr>\n",
       "\t<tr><th scope=row>e10l1_AAAGGCGCACTGGGAT-1</th><td>e10l1_AAAGGCGCACTGGGAT-1</td><td>10041</td><td>1969</td><td>K562</td><td> 9.214432</td><td>0.196096006</td></tr>\n",
       "\t<tr><th scope=row>e10l1_AAAGGCGCAGCTCGAG-1</th><td>e10l1_AAAGGCGCAGCTCGAG-1</td><td>15041</td><td>3270</td><td>K562</td><td> 9.618535</td><td>0.217405758</td></tr>\n",
       "\t<tr><th scope=row>e10l1_AAAGGCTTCCACTAAT-1</th><td>e10l1_AAAGGCTTCCACTAAT-1</td><td>15536</td><td>4091</td><td>K562</td><td> 9.650915</td><td>0.263323893</td></tr>\n",
       "\t<tr><th scope=row>e10l1_AAAGGCTTCCTAAATC-1</th><td>e10l1_AAAGGCTTCCTAAATC-1</td><td> 8099</td><td>  68</td><td>K562</td><td> 8.999496</td><td>0.008396098</td></tr>\n",
       "\t<tr><th scope=row>e10l1_AAAGGGATCGCTCAAC-1</th><td>e10l1_AAAGGGATCGCTCAAC-1</td><td>10663</td><td> 581</td><td>K562</td><td> 9.274535</td><td>0.054487480</td></tr>\n",
       "\t<tr><th scope=row>e10l1_AAAGTCATCCAGCTAC-1</th><td>e10l1_AAAGTCATCCAGCTAC-1</td><td>10037</td><td>1463</td><td>K562</td><td> 9.214034</td><td>0.145760685</td></tr>\n",
       "\t<tr><th scope=row>e10l1_AAAGTCATCGAAGTTA-1</th><td>e10l1_AAAGTCATCGAAGTTA-1</td><td>10452</td><td>2241</td><td>K562</td><td> 9.254549</td><td>0.214408726</td></tr>\n",
       "\t<tr><th scope=row>e10l1_AAAGTCATCGCTAATT-1</th><td>e10l1_AAAGTCATCGCTAATT-1</td><td> 7749</td><td> 126</td><td>K562</td><td> 8.955319</td><td>0.016260163</td></tr>\n",
       "\t<tr><th scope=row>e10l1_AAATCCTTCATTCAGT-1</th><td>e10l1_AAATCCTTCATTCAGT-1</td><td> 7733</td><td>1091</td><td>K562</td><td> 8.953252</td><td>0.141083667</td></tr>\n",
       "\t<tr><th scope=row>e10l1_AACAACATCAGGATCG-1</th><td>e10l1_AACAACATCAGGATCG-1</td><td> 6550</td><td> 207</td><td>K562</td><td> 8.787220</td><td>0.031603053</td></tr>\n",
       "\t<tr><th scope=row>e10l1_AACAAGTGTACGCACC-1</th><td>e10l1_AACAAGTGTACGCACC-1</td><td> 4906</td><td> 170</td><td>K562</td><td> 8.498214</td><td>0.034651447</td></tr>\n",
       "\t<tr><th scope=row>e10l1_AACAAGTGTGAAACAT-1</th><td>e10l1_AACAAGTGTGAAACAT-1</td><td> 8045</td><td> 189</td><td>K562</td><td> 8.992806</td><td>0.023492853</td></tr>\n",
       "\t<tr><th scope=row>e10l1_AACACTAAGGCCTTGT-1</th><td>e10l1_AACACTAAGGCCTTGT-1</td><td> 6563</td><td> 124</td><td>K562</td><td> 8.789203</td><td>0.018893799</td></tr>\n",
       "\t<tr><th scope=row>⋮</th><td>⋮</td><td>⋮</td><td>⋮</td><td>⋮</td><td>⋮</td><td>⋮</td></tr>\n",
       "\t<tr><th scope=row>e10l2_TTGTGTCCAACATAGT-1</th><td>e10l2_TTGTGTCCAACATAGT-1</td><td> 4527</td><td> 151</td><td>K562</td><td>8.417815</td><td>0.033355423</td></tr>\n",
       "\t<tr><th scope=row>e10l2_TTGTTGAGTACCGTGC-1</th><td>e10l2_TTGTTGAGTACCGTGC-1</td><td> 4968</td><td> 588</td><td>K562</td><td>8.510773</td><td>0.118357488</td></tr>\n",
       "\t<tr><th scope=row>e10l2_TTGTTGAGTATTCGGT-1</th><td>e10l2_TTGTTGAGTATTCGGT-1</td><td> 8396</td><td> 332</td><td>K562</td><td>9.035511</td><td>0.039542639</td></tr>\n",
       "\t<tr><th scope=row>e10l2_TTGTTGTAGCTTAGTT-1</th><td>e10l2_TTGTTGTAGCTTAGTT-1</td><td> 9742</td><td>2421</td><td>K562</td><td>9.184202</td><td>0.248511599</td></tr>\n",
       "\t<tr><th scope=row>e10l2_TTTAACCAGAATCACA-1</th><td>e10l2_TTTAACCAGAATCACA-1</td><td> 8178</td><td>  45</td><td>K562</td><td>9.009203</td><td>0.005502568</td></tr>\n",
       "\t<tr><th scope=row>e10l2_TTTAACGGTGTCCACA-1</th><td>e10l2_TTTAACGGTGTCCACA-1</td><td>10350</td><td>1026</td><td>K562</td><td>9.244742</td><td>0.099130435</td></tr>\n",
       "\t<tr><th scope=row>e10l2_TTTAACGGTTACGAAG-1</th><td>e10l2_TTTAACGGTTACGAAG-1</td><td>12460</td><td>2869</td><td>K562</td><td>9.430279</td><td>0.230256822</td></tr>\n",
       "\t<tr><th scope=row>e10l2_TTTAAGCTCATTGAGA-1</th><td>e10l2_TTTAAGCTCATTGAGA-1</td><td> 8555</td><td> 980</td><td>K562</td><td>9.054271</td><td>0.114552893</td></tr>\n",
       "\t<tr><th scope=row>e10l2_TTTAAGGAGGCCTTGT-1</th><td>e10l2_TTTAAGGAGGCCTTGT-1</td><td>11164</td><td>1105</td><td>K562</td><td>9.320450</td><td>0.098978861</td></tr>\n",
       "\t<tr><th scope=row>e10l2_TTTAAGGAGTCAATTC-1</th><td>e10l2_TTTAAGGAGTCAATTC-1</td><td> 6132</td><td>1647</td><td>K562</td><td>8.721276</td><td>0.268590998</td></tr>\n",
       "\t<tr><th scope=row>e10l2_TTTACTGCAGTATTGG-1</th><td>e10l2_TTTACTGCAGTATTGG-1</td><td> 8095</td><td> 143</td><td>K562</td><td>8.999002</td><td>0.017665225</td></tr>\n",
       "\t<tr><th scope=row>e10l2_TTTAGCTAGTTGCAGG-1</th><td>e10l2_TTTAGCTAGTTGCAGG-1</td><td> 9220</td><td>1784</td><td>K562</td><td>9.129130</td><td>0.193492408</td></tr>\n",
       "\t<tr><th scope=row>e10l2_TTTAGGCGTGCACGCT-1</th><td>e10l2_TTTAGGCGTGCACGCT-1</td><td> 6673</td><td>1612</td><td>K562</td><td>8.805825</td><td>0.241570508</td></tr>\n",
       "\t<tr><th scope=row>e10l2_TTTATCCGTTAAGGAT-1</th><td>e10l2_TTTATCCGTTAAGGAT-1</td><td>12449</td><td>3541</td><td>K562</td><td>9.429396</td><td>0.284440517</td></tr>\n",
       "\t<tr><th scope=row>e10l2_TTTCAAGGTGAAACAT-1</th><td>e10l2_TTTCAAGGTGAAACAT-1</td><td>12267</td><td>3424</td><td>K562</td><td>9.414668</td><td>0.279122850</td></tr>\n",
       "\t<tr><th scope=row>e10l2_TTTCAGTAGATGAAGG-1</th><td>e10l2_TTTCAGTAGATGAAGG-1</td><td> 6345</td><td>1638</td><td>K562</td><td>8.755422</td><td>0.258156028</td></tr>\n",
       "\t<tr><th scope=row>e10l2_TTTCAGTAGCTATCGC-1</th><td>e10l2_TTTCAGTAGCTATCGC-1</td><td> 4173</td><td> 854</td><td>K562</td><td>8.336390</td><td>0.204648934</td></tr>\n",
       "\t<tr><th scope=row>e10l2_TTTCAGTAGTTACATC-1</th><td>e10l2_TTTCAGTAGTTACATC-1</td><td> 4034</td><td>  36</td><td>K562</td><td>8.302514</td><td>0.008924145</td></tr>\n",
       "\t<tr><th scope=row>e10l2_TTTCCGGCAGGCAACT-1</th><td>e10l2_TTTCCGGCAGGCAACT-1</td><td>17545</td><td>3045</td><td>K562</td><td>9.772524</td><td>0.173553719</td></tr>\n",
       "\t<tr><th scope=row>e10l2_TTTCCTGGTCGTAATC-1</th><td>e10l2_TTTCCTGGTCGTAATC-1</td><td> 6351</td><td> 283</td><td>K562</td><td>8.756368</td><td>0.044559912</td></tr>\n",
       "\t<tr><th scope=row>e10l2_TTTCCTGGTGCGTAAA-1</th><td>e10l2_TTTCCTGGTGCGTAAA-1</td><td> 7853</td><td> 114</td><td>K562</td><td>8.968651</td><td>0.014516745</td></tr>\n",
       "\t<tr><th scope=row>e10l2_TTTCTCATCACATTAC-1</th><td>e10l2_TTTCTCATCACATTAC-1</td><td> 8000</td><td>2257</td><td>K562</td><td>8.987197</td><td>0.282125000</td></tr>\n",
       "\t<tr><th scope=row>e10l2_TTTCTCATCGCCTAAC-1</th><td>e10l2_TTTCTCATCGCCTAAC-1</td><td> 5792</td><td>  88</td><td>K562</td><td>8.664233</td><td>0.015193370</td></tr>\n",
       "\t<tr><th scope=row>e10l2_TTTCTTGTCGCGAGTA-1</th><td>e10l2_TTTCTTGTCGCGAGTA-1</td><td> 4976</td><td> 849</td><td>K562</td><td>8.512382</td><td>0.170618971</td></tr>\n",
       "\t<tr><th scope=row>e10l2_TTTGGAGCACGGATCG-1</th><td>e10l2_TTTGGAGCACGGATCG-1</td><td> 6139</td><td> 310</td><td>K562</td><td>8.722417</td><td>0.050496824</td></tr>\n",
       "\t<tr><th scope=row>e10l2_TTTGGAGCATGCTCCA-1</th><td>e10l2_TTTGGAGCATGCTCCA-1</td><td> 5581</td><td> 197</td><td>K562</td><td>8.627123</td><td>0.035298334</td></tr>\n",
       "\t<tr><th scope=row>e10l2_TTTGTCGAGGATGCGC-1</th><td>e10l2_TTTGTCGAGGATGCGC-1</td><td>15838</td><td>3176</td><td>K562</td><td>9.670167</td><td>0.200530370</td></tr>\n",
       "\t<tr><th scope=row>e10l2_TTTGTGAGTATAGCTC-1</th><td>e10l2_TTTGTGAGTATAGCTC-1</td><td>11115</td><td>3029</td><td>K562</td><td>9.316051</td><td>0.272514620</td></tr>\n",
       "\t<tr><th scope=row>e10l2_TTTGTGAGTTAGCGTT-1</th><td>e10l2_TTTGTGAGTTAGCGTT-1</td><td> 4113</td><td>  87</td><td>K562</td><td>8.321908</td><td>0.021152443</td></tr>\n",
       "\t<tr><th scope=row>e10l2_TTTGTGAGTTCCGGAC-1</th><td>e10l2_TTTGTGAGTTCCGGAC-1</td><td>15554</td><td>2830</td><td>K562</td><td>9.652073</td><td>0.181946766</td></tr>\n",
       "</tbody>\n",
       "</table>\n"
      ],
      "text/latex": [
       "A data.frame: 4459 × 6\n",
       "\\begin{tabular}{r|llllll}\n",
       "  & cell & nUMI & nMito & celltype & log.nUMI & percent.mito\\\\\n",
       "  & <chr> & <dbl> & <dbl> & <chr> & <dbl> & <dbl>\\\\\n",
       "\\hline\n",
       "\te10l1\\_AAACCAGGTCACAGGG-1 & e10l1\\_AAACCAGGTCACAGGG-1 & 13033 & 3567 & K562 &  9.475240 & 0.273689864\\\\\n",
       "\te10l1\\_AAACCGCCAAGGAATA-1 & e10l1\\_AAACCGCCAAGGAATA-1 & 16605 & 2496 & K562 &  9.717459 & 0.150316170\\\\\n",
       "\te10l1\\_AAACCGCCAGCCGGTA-1 & e10l1\\_AAACCGCCAGCCGGTA-1 &  8953 & 1657 & K562 &  9.099744 & 0.185077628\\\\\n",
       "\te10l1\\_AAACCGGTCAAGGAAG-1 & e10l1\\_AAACCGGTCAAGGAAG-1 &  6886 &  246 & K562 &  8.837246 & 0.035724659\\\\\n",
       "\te10l1\\_AAACGAACAACGTGGT-1 & e10l1\\_AAACGAACAACGTGGT-1 & 22478 & 4700 & K562 & 10.020292 & 0.209093336\\\\\n",
       "\te10l1\\_AAACGGGCAAGGGAGC-1 & e10l1\\_AAACGGGCAAGGGAGC-1 & 10625 & 2370 & K562 &  9.270965 & 0.223058824\\\\\n",
       "\te10l1\\_AAACTAGTCCTGTGAC-1 & e10l1\\_AAACTAGTCCTGTGAC-1 &  7365 &  130 & K562 &  8.904494 & 0.017651052\\\\\n",
       "\te10l1\\_AAACTAGTCGAAGCAT-1 & e10l1\\_AAACTAGTCGAAGCAT-1 & 10650 & 2424 & K562 &  9.273315 & 0.227605634\\\\\n",
       "\te10l1\\_AAACTAGTCGCTTGAC-1 & e10l1\\_AAACTAGTCGCTTGAC-1 & 10031 &  247 & K562 &  9.213436 & 0.024623667\\\\\n",
       "\te10l1\\_AAACTCGCAAGCGCTG-1 & e10l1\\_AAACTCGCAAGCGCTG-1 & 14714 & 3816 & K562 &  9.596555 & 0.259344842\\\\\n",
       "\te10l1\\_AAACTCGCAGCAAGTC-1 & e10l1\\_AAACTCGCAGCAAGTC-1 & 12288 & 3510 & K562 &  9.416378 & 0.285644531\\\\\n",
       "\te10l1\\_AAAGCCAGTTAGCTAC-1 & e10l1\\_AAAGCCAGTTAGCTAC-1 &  9592 &  679 & K562 &  9.168685 & 0.070788157\\\\\n",
       "\te10l1\\_AAAGCCAGTTAGTTTG-1 & e10l1\\_AAAGCCAGTTAGTTTG-1 & 19576 & 5034 & K562 &  9.882060 & 0.257151614\\\\\n",
       "\te10l1\\_AAAGCGAAGACTCCTA-1 & e10l1\\_AAAGCGAAGACTCCTA-1 & 14304 &  281 & K562 &  9.568294 & 0.019644855\\\\\n",
       "\te10l1\\_AAAGCGAAGCTTATCG-1 & e10l1\\_AAAGCGAAGCTTATCG-1 & 15916 & 2980 & K562 &  9.675080 & 0.187232973\\\\\n",
       "\te10l1\\_AAAGCGAAGGCTAGCA-1 & e10l1\\_AAAGCGAAGGCTAGCA-1 &  7450 &   73 & K562 &  8.915969 & 0.009798658\\\\\n",
       "\te10l1\\_AAAGCGAAGTGCACCT-1 & e10l1\\_AAAGCGAAGTGCACCT-1 & 10455 & 1066 & K562 &  9.254836 & 0.101960784\\\\\n",
       "\te10l1\\_AAAGGCGCACTGGGAT-1 & e10l1\\_AAAGGCGCACTGGGAT-1 & 10041 & 1969 & K562 &  9.214432 & 0.196096006\\\\\n",
       "\te10l1\\_AAAGGCGCAGCTCGAG-1 & e10l1\\_AAAGGCGCAGCTCGAG-1 & 15041 & 3270 & K562 &  9.618535 & 0.217405758\\\\\n",
       "\te10l1\\_AAAGGCTTCCACTAAT-1 & e10l1\\_AAAGGCTTCCACTAAT-1 & 15536 & 4091 & K562 &  9.650915 & 0.263323893\\\\\n",
       "\te10l1\\_AAAGGCTTCCTAAATC-1 & e10l1\\_AAAGGCTTCCTAAATC-1 &  8099 &   68 & K562 &  8.999496 & 0.008396098\\\\\n",
       "\te10l1\\_AAAGGGATCGCTCAAC-1 & e10l1\\_AAAGGGATCGCTCAAC-1 & 10663 &  581 & K562 &  9.274535 & 0.054487480\\\\\n",
       "\te10l1\\_AAAGTCATCCAGCTAC-1 & e10l1\\_AAAGTCATCCAGCTAC-1 & 10037 & 1463 & K562 &  9.214034 & 0.145760685\\\\\n",
       "\te10l1\\_AAAGTCATCGAAGTTA-1 & e10l1\\_AAAGTCATCGAAGTTA-1 & 10452 & 2241 & K562 &  9.254549 & 0.214408726\\\\\n",
       "\te10l1\\_AAAGTCATCGCTAATT-1 & e10l1\\_AAAGTCATCGCTAATT-1 &  7749 &  126 & K562 &  8.955319 & 0.016260163\\\\\n",
       "\te10l1\\_AAATCCTTCATTCAGT-1 & e10l1\\_AAATCCTTCATTCAGT-1 &  7733 & 1091 & K562 &  8.953252 & 0.141083667\\\\\n",
       "\te10l1\\_AACAACATCAGGATCG-1 & e10l1\\_AACAACATCAGGATCG-1 &  6550 &  207 & K562 &  8.787220 & 0.031603053\\\\\n",
       "\te10l1\\_AACAAGTGTACGCACC-1 & e10l1\\_AACAAGTGTACGCACC-1 &  4906 &  170 & K562 &  8.498214 & 0.034651447\\\\\n",
       "\te10l1\\_AACAAGTGTGAAACAT-1 & e10l1\\_AACAAGTGTGAAACAT-1 &  8045 &  189 & K562 &  8.992806 & 0.023492853\\\\\n",
       "\te10l1\\_AACACTAAGGCCTTGT-1 & e10l1\\_AACACTAAGGCCTTGT-1 &  6563 &  124 & K562 &  8.789203 & 0.018893799\\\\\n",
       "\t⋮ & ⋮ & ⋮ & ⋮ & ⋮ & ⋮ & ⋮\\\\\n",
       "\te10l2\\_TTGTGTCCAACATAGT-1 & e10l2\\_TTGTGTCCAACATAGT-1 &  4527 &  151 & K562 & 8.417815 & 0.033355423\\\\\n",
       "\te10l2\\_TTGTTGAGTACCGTGC-1 & e10l2\\_TTGTTGAGTACCGTGC-1 &  4968 &  588 & K562 & 8.510773 & 0.118357488\\\\\n",
       "\te10l2\\_TTGTTGAGTATTCGGT-1 & e10l2\\_TTGTTGAGTATTCGGT-1 &  8396 &  332 & K562 & 9.035511 & 0.039542639\\\\\n",
       "\te10l2\\_TTGTTGTAGCTTAGTT-1 & e10l2\\_TTGTTGTAGCTTAGTT-1 &  9742 & 2421 & K562 & 9.184202 & 0.248511599\\\\\n",
       "\te10l2\\_TTTAACCAGAATCACA-1 & e10l2\\_TTTAACCAGAATCACA-1 &  8178 &   45 & K562 & 9.009203 & 0.005502568\\\\\n",
       "\te10l2\\_TTTAACGGTGTCCACA-1 & e10l2\\_TTTAACGGTGTCCACA-1 & 10350 & 1026 & K562 & 9.244742 & 0.099130435\\\\\n",
       "\te10l2\\_TTTAACGGTTACGAAG-1 & e10l2\\_TTTAACGGTTACGAAG-1 & 12460 & 2869 & K562 & 9.430279 & 0.230256822\\\\\n",
       "\te10l2\\_TTTAAGCTCATTGAGA-1 & e10l2\\_TTTAAGCTCATTGAGA-1 &  8555 &  980 & K562 & 9.054271 & 0.114552893\\\\\n",
       "\te10l2\\_TTTAAGGAGGCCTTGT-1 & e10l2\\_TTTAAGGAGGCCTTGT-1 & 11164 & 1105 & K562 & 9.320450 & 0.098978861\\\\\n",
       "\te10l2\\_TTTAAGGAGTCAATTC-1 & e10l2\\_TTTAAGGAGTCAATTC-1 &  6132 & 1647 & K562 & 8.721276 & 0.268590998\\\\\n",
       "\te10l2\\_TTTACTGCAGTATTGG-1 & e10l2\\_TTTACTGCAGTATTGG-1 &  8095 &  143 & K562 & 8.999002 & 0.017665225\\\\\n",
       "\te10l2\\_TTTAGCTAGTTGCAGG-1 & e10l2\\_TTTAGCTAGTTGCAGG-1 &  9220 & 1784 & K562 & 9.129130 & 0.193492408\\\\\n",
       "\te10l2\\_TTTAGGCGTGCACGCT-1 & e10l2\\_TTTAGGCGTGCACGCT-1 &  6673 & 1612 & K562 & 8.805825 & 0.241570508\\\\\n",
       "\te10l2\\_TTTATCCGTTAAGGAT-1 & e10l2\\_TTTATCCGTTAAGGAT-1 & 12449 & 3541 & K562 & 9.429396 & 0.284440517\\\\\n",
       "\te10l2\\_TTTCAAGGTGAAACAT-1 & e10l2\\_TTTCAAGGTGAAACAT-1 & 12267 & 3424 & K562 & 9.414668 & 0.279122850\\\\\n",
       "\te10l2\\_TTTCAGTAGATGAAGG-1 & e10l2\\_TTTCAGTAGATGAAGG-1 &  6345 & 1638 & K562 & 8.755422 & 0.258156028\\\\\n",
       "\te10l2\\_TTTCAGTAGCTATCGC-1 & e10l2\\_TTTCAGTAGCTATCGC-1 &  4173 &  854 & K562 & 8.336390 & 0.204648934\\\\\n",
       "\te10l2\\_TTTCAGTAGTTACATC-1 & e10l2\\_TTTCAGTAGTTACATC-1 &  4034 &   36 & K562 & 8.302514 & 0.008924145\\\\\n",
       "\te10l2\\_TTTCCGGCAGGCAACT-1 & e10l2\\_TTTCCGGCAGGCAACT-1 & 17545 & 3045 & K562 & 9.772524 & 0.173553719\\\\\n",
       "\te10l2\\_TTTCCTGGTCGTAATC-1 & e10l2\\_TTTCCTGGTCGTAATC-1 &  6351 &  283 & K562 & 8.756368 & 0.044559912\\\\\n",
       "\te10l2\\_TTTCCTGGTGCGTAAA-1 & e10l2\\_TTTCCTGGTGCGTAAA-1 &  7853 &  114 & K562 & 8.968651 & 0.014516745\\\\\n",
       "\te10l2\\_TTTCTCATCACATTAC-1 & e10l2\\_TTTCTCATCACATTAC-1 &  8000 & 2257 & K562 & 8.987197 & 0.282125000\\\\\n",
       "\te10l2\\_TTTCTCATCGCCTAAC-1 & e10l2\\_TTTCTCATCGCCTAAC-1 &  5792 &   88 & K562 & 8.664233 & 0.015193370\\\\\n",
       "\te10l2\\_TTTCTTGTCGCGAGTA-1 & e10l2\\_TTTCTTGTCGCGAGTA-1 &  4976 &  849 & K562 & 8.512382 & 0.170618971\\\\\n",
       "\te10l2\\_TTTGGAGCACGGATCG-1 & e10l2\\_TTTGGAGCACGGATCG-1 &  6139 &  310 & K562 & 8.722417 & 0.050496824\\\\\n",
       "\te10l2\\_TTTGGAGCATGCTCCA-1 & e10l2\\_TTTGGAGCATGCTCCA-1 &  5581 &  197 & K562 & 8.627123 & 0.035298334\\\\\n",
       "\te10l2\\_TTTGTCGAGGATGCGC-1 & e10l2\\_TTTGTCGAGGATGCGC-1 & 15838 & 3176 & K562 & 9.670167 & 0.200530370\\\\\n",
       "\te10l2\\_TTTGTGAGTATAGCTC-1 & e10l2\\_TTTGTGAGTATAGCTC-1 & 11115 & 3029 & K562 & 9.316051 & 0.272514620\\\\\n",
       "\te10l2\\_TTTGTGAGTTAGCGTT-1 & e10l2\\_TTTGTGAGTTAGCGTT-1 &  4113 &   87 & K562 & 8.321908 & 0.021152443\\\\\n",
       "\te10l2\\_TTTGTGAGTTCCGGAC-1 & e10l2\\_TTTGTGAGTTCCGGAC-1 & 15554 & 2830 & K562 & 9.652073 & 0.181946766\\\\\n",
       "\\end{tabular}\n"
      ],
      "text/markdown": [
       "\n",
       "A data.frame: 4459 × 6\n",
       "\n",
       "| <!--/--> | cell &lt;chr&gt; | nUMI &lt;dbl&gt; | nMito &lt;dbl&gt; | celltype &lt;chr&gt; | log.nUMI &lt;dbl&gt; | percent.mito &lt;dbl&gt; |\n",
       "|---|---|---|---|---|---|---|\n",
       "| e10l1_AAACCAGGTCACAGGG-1 | e10l1_AAACCAGGTCACAGGG-1 | 13033 | 3567 | K562 |  9.475240 | 0.273689864 |\n",
       "| e10l1_AAACCGCCAAGGAATA-1 | e10l1_AAACCGCCAAGGAATA-1 | 16605 | 2496 | K562 |  9.717459 | 0.150316170 |\n",
       "| e10l1_AAACCGCCAGCCGGTA-1 | e10l1_AAACCGCCAGCCGGTA-1 |  8953 | 1657 | K562 |  9.099744 | 0.185077628 |\n",
       "| e10l1_AAACCGGTCAAGGAAG-1 | e10l1_AAACCGGTCAAGGAAG-1 |  6886 |  246 | K562 |  8.837246 | 0.035724659 |\n",
       "| e10l1_AAACGAACAACGTGGT-1 | e10l1_AAACGAACAACGTGGT-1 | 22478 | 4700 | K562 | 10.020292 | 0.209093336 |\n",
       "| e10l1_AAACGGGCAAGGGAGC-1 | e10l1_AAACGGGCAAGGGAGC-1 | 10625 | 2370 | K562 |  9.270965 | 0.223058824 |\n",
       "| e10l1_AAACTAGTCCTGTGAC-1 | e10l1_AAACTAGTCCTGTGAC-1 |  7365 |  130 | K562 |  8.904494 | 0.017651052 |\n",
       "| e10l1_AAACTAGTCGAAGCAT-1 | e10l1_AAACTAGTCGAAGCAT-1 | 10650 | 2424 | K562 |  9.273315 | 0.227605634 |\n",
       "| e10l1_AAACTAGTCGCTTGAC-1 | e10l1_AAACTAGTCGCTTGAC-1 | 10031 |  247 | K562 |  9.213436 | 0.024623667 |\n",
       "| e10l1_AAACTCGCAAGCGCTG-1 | e10l1_AAACTCGCAAGCGCTG-1 | 14714 | 3816 | K562 |  9.596555 | 0.259344842 |\n",
       "| e10l1_AAACTCGCAGCAAGTC-1 | e10l1_AAACTCGCAGCAAGTC-1 | 12288 | 3510 | K562 |  9.416378 | 0.285644531 |\n",
       "| e10l1_AAAGCCAGTTAGCTAC-1 | e10l1_AAAGCCAGTTAGCTAC-1 |  9592 |  679 | K562 |  9.168685 | 0.070788157 |\n",
       "| e10l1_AAAGCCAGTTAGTTTG-1 | e10l1_AAAGCCAGTTAGTTTG-1 | 19576 | 5034 | K562 |  9.882060 | 0.257151614 |\n",
       "| e10l1_AAAGCGAAGACTCCTA-1 | e10l1_AAAGCGAAGACTCCTA-1 | 14304 |  281 | K562 |  9.568294 | 0.019644855 |\n",
       "| e10l1_AAAGCGAAGCTTATCG-1 | e10l1_AAAGCGAAGCTTATCG-1 | 15916 | 2980 | K562 |  9.675080 | 0.187232973 |\n",
       "| e10l1_AAAGCGAAGGCTAGCA-1 | e10l1_AAAGCGAAGGCTAGCA-1 |  7450 |   73 | K562 |  8.915969 | 0.009798658 |\n",
       "| e10l1_AAAGCGAAGTGCACCT-1 | e10l1_AAAGCGAAGTGCACCT-1 | 10455 | 1066 | K562 |  9.254836 | 0.101960784 |\n",
       "| e10l1_AAAGGCGCACTGGGAT-1 | e10l1_AAAGGCGCACTGGGAT-1 | 10041 | 1969 | K562 |  9.214432 | 0.196096006 |\n",
       "| e10l1_AAAGGCGCAGCTCGAG-1 | e10l1_AAAGGCGCAGCTCGAG-1 | 15041 | 3270 | K562 |  9.618535 | 0.217405758 |\n",
       "| e10l1_AAAGGCTTCCACTAAT-1 | e10l1_AAAGGCTTCCACTAAT-1 | 15536 | 4091 | K562 |  9.650915 | 0.263323893 |\n",
       "| e10l1_AAAGGCTTCCTAAATC-1 | e10l1_AAAGGCTTCCTAAATC-1 |  8099 |   68 | K562 |  8.999496 | 0.008396098 |\n",
       "| e10l1_AAAGGGATCGCTCAAC-1 | e10l1_AAAGGGATCGCTCAAC-1 | 10663 |  581 | K562 |  9.274535 | 0.054487480 |\n",
       "| e10l1_AAAGTCATCCAGCTAC-1 | e10l1_AAAGTCATCCAGCTAC-1 | 10037 | 1463 | K562 |  9.214034 | 0.145760685 |\n",
       "| e10l1_AAAGTCATCGAAGTTA-1 | e10l1_AAAGTCATCGAAGTTA-1 | 10452 | 2241 | K562 |  9.254549 | 0.214408726 |\n",
       "| e10l1_AAAGTCATCGCTAATT-1 | e10l1_AAAGTCATCGCTAATT-1 |  7749 |  126 | K562 |  8.955319 | 0.016260163 |\n",
       "| e10l1_AAATCCTTCATTCAGT-1 | e10l1_AAATCCTTCATTCAGT-1 |  7733 | 1091 | K562 |  8.953252 | 0.141083667 |\n",
       "| e10l1_AACAACATCAGGATCG-1 | e10l1_AACAACATCAGGATCG-1 |  6550 |  207 | K562 |  8.787220 | 0.031603053 |\n",
       "| e10l1_AACAAGTGTACGCACC-1 | e10l1_AACAAGTGTACGCACC-1 |  4906 |  170 | K562 |  8.498214 | 0.034651447 |\n",
       "| e10l1_AACAAGTGTGAAACAT-1 | e10l1_AACAAGTGTGAAACAT-1 |  8045 |  189 | K562 |  8.992806 | 0.023492853 |\n",
       "| e10l1_AACACTAAGGCCTTGT-1 | e10l1_AACACTAAGGCCTTGT-1 |  6563 |  124 | K562 |  8.789203 | 0.018893799 |\n",
       "| ⋮ | ⋮ | ⋮ | ⋮ | ⋮ | ⋮ | ⋮ |\n",
       "| e10l2_TTGTGTCCAACATAGT-1 | e10l2_TTGTGTCCAACATAGT-1 |  4527 |  151 | K562 | 8.417815 | 0.033355423 |\n",
       "| e10l2_TTGTTGAGTACCGTGC-1 | e10l2_TTGTTGAGTACCGTGC-1 |  4968 |  588 | K562 | 8.510773 | 0.118357488 |\n",
       "| e10l2_TTGTTGAGTATTCGGT-1 | e10l2_TTGTTGAGTATTCGGT-1 |  8396 |  332 | K562 | 9.035511 | 0.039542639 |\n",
       "| e10l2_TTGTTGTAGCTTAGTT-1 | e10l2_TTGTTGTAGCTTAGTT-1 |  9742 | 2421 | K562 | 9.184202 | 0.248511599 |\n",
       "| e10l2_TTTAACCAGAATCACA-1 | e10l2_TTTAACCAGAATCACA-1 |  8178 |   45 | K562 | 9.009203 | 0.005502568 |\n",
       "| e10l2_TTTAACGGTGTCCACA-1 | e10l2_TTTAACGGTGTCCACA-1 | 10350 | 1026 | K562 | 9.244742 | 0.099130435 |\n",
       "| e10l2_TTTAACGGTTACGAAG-1 | e10l2_TTTAACGGTTACGAAG-1 | 12460 | 2869 | K562 | 9.430279 | 0.230256822 |\n",
       "| e10l2_TTTAAGCTCATTGAGA-1 | e10l2_TTTAAGCTCATTGAGA-1 |  8555 |  980 | K562 | 9.054271 | 0.114552893 |\n",
       "| e10l2_TTTAAGGAGGCCTTGT-1 | e10l2_TTTAAGGAGGCCTTGT-1 | 11164 | 1105 | K562 | 9.320450 | 0.098978861 |\n",
       "| e10l2_TTTAAGGAGTCAATTC-1 | e10l2_TTTAAGGAGTCAATTC-1 |  6132 | 1647 | K562 | 8.721276 | 0.268590998 |\n",
       "| e10l2_TTTACTGCAGTATTGG-1 | e10l2_TTTACTGCAGTATTGG-1 |  8095 |  143 | K562 | 8.999002 | 0.017665225 |\n",
       "| e10l2_TTTAGCTAGTTGCAGG-1 | e10l2_TTTAGCTAGTTGCAGG-1 |  9220 | 1784 | K562 | 9.129130 | 0.193492408 |\n",
       "| e10l2_TTTAGGCGTGCACGCT-1 | e10l2_TTTAGGCGTGCACGCT-1 |  6673 | 1612 | K562 | 8.805825 | 0.241570508 |\n",
       "| e10l2_TTTATCCGTTAAGGAT-1 | e10l2_TTTATCCGTTAAGGAT-1 | 12449 | 3541 | K562 | 9.429396 | 0.284440517 |\n",
       "| e10l2_TTTCAAGGTGAAACAT-1 | e10l2_TTTCAAGGTGAAACAT-1 | 12267 | 3424 | K562 | 9.414668 | 0.279122850 |\n",
       "| e10l2_TTTCAGTAGATGAAGG-1 | e10l2_TTTCAGTAGATGAAGG-1 |  6345 | 1638 | K562 | 8.755422 | 0.258156028 |\n",
       "| e10l2_TTTCAGTAGCTATCGC-1 | e10l2_TTTCAGTAGCTATCGC-1 |  4173 |  854 | K562 | 8.336390 | 0.204648934 |\n",
       "| e10l2_TTTCAGTAGTTACATC-1 | e10l2_TTTCAGTAGTTACATC-1 |  4034 |   36 | K562 | 8.302514 | 0.008924145 |\n",
       "| e10l2_TTTCCGGCAGGCAACT-1 | e10l2_TTTCCGGCAGGCAACT-1 | 17545 | 3045 | K562 | 9.772524 | 0.173553719 |\n",
       "| e10l2_TTTCCTGGTCGTAATC-1 | e10l2_TTTCCTGGTCGTAATC-1 |  6351 |  283 | K562 | 8.756368 | 0.044559912 |\n",
       "| e10l2_TTTCCTGGTGCGTAAA-1 | e10l2_TTTCCTGGTGCGTAAA-1 |  7853 |  114 | K562 | 8.968651 | 0.014516745 |\n",
       "| e10l2_TTTCTCATCACATTAC-1 | e10l2_TTTCTCATCACATTAC-1 |  8000 | 2257 | K562 | 8.987197 | 0.282125000 |\n",
       "| e10l2_TTTCTCATCGCCTAAC-1 | e10l2_TTTCTCATCGCCTAAC-1 |  5792 |   88 | K562 | 8.664233 | 0.015193370 |\n",
       "| e10l2_TTTCTTGTCGCGAGTA-1 | e10l2_TTTCTTGTCGCGAGTA-1 |  4976 |  849 | K562 | 8.512382 | 0.170618971 |\n",
       "| e10l2_TTTGGAGCACGGATCG-1 | e10l2_TTTGGAGCACGGATCG-1 |  6139 |  310 | K562 | 8.722417 | 0.050496824 |\n",
       "| e10l2_TTTGGAGCATGCTCCA-1 | e10l2_TTTGGAGCATGCTCCA-1 |  5581 |  197 | K562 | 8.627123 | 0.035298334 |\n",
       "| e10l2_TTTGTCGAGGATGCGC-1 | e10l2_TTTGTCGAGGATGCGC-1 | 15838 | 3176 | K562 | 9.670167 | 0.200530370 |\n",
       "| e10l2_TTTGTGAGTATAGCTC-1 | e10l2_TTTGTGAGTATAGCTC-1 | 11115 | 3029 | K562 | 9.316051 | 0.272514620 |\n",
       "| e10l2_TTTGTGAGTTAGCGTT-1 | e10l2_TTTGTGAGTTAGCGTT-1 |  4113 |   87 | K562 | 8.321908 | 0.021152443 |\n",
       "| e10l2_TTTGTGAGTTCCGGAC-1 | e10l2_TTTGTGAGTTCCGGAC-1 | 15554 | 2830 | K562 | 9.652073 | 0.181946766 |\n",
       "\n"
      ],
      "text/plain": [
       "                         cell                     nUMI  nMito celltype\n",
       "e10l1_AAACCAGGTCACAGGG-1 e10l1_AAACCAGGTCACAGGG-1 13033 3567  K562    \n",
       "e10l1_AAACCGCCAAGGAATA-1 e10l1_AAACCGCCAAGGAATA-1 16605 2496  K562    \n",
       "e10l1_AAACCGCCAGCCGGTA-1 e10l1_AAACCGCCAGCCGGTA-1  8953 1657  K562    \n",
       "e10l1_AAACCGGTCAAGGAAG-1 e10l1_AAACCGGTCAAGGAAG-1  6886  246  K562    \n",
       "e10l1_AAACGAACAACGTGGT-1 e10l1_AAACGAACAACGTGGT-1 22478 4700  K562    \n",
       "e10l1_AAACGGGCAAGGGAGC-1 e10l1_AAACGGGCAAGGGAGC-1 10625 2370  K562    \n",
       "e10l1_AAACTAGTCCTGTGAC-1 e10l1_AAACTAGTCCTGTGAC-1  7365  130  K562    \n",
       "e10l1_AAACTAGTCGAAGCAT-1 e10l1_AAACTAGTCGAAGCAT-1 10650 2424  K562    \n",
       "e10l1_AAACTAGTCGCTTGAC-1 e10l1_AAACTAGTCGCTTGAC-1 10031  247  K562    \n",
       "e10l1_AAACTCGCAAGCGCTG-1 e10l1_AAACTCGCAAGCGCTG-1 14714 3816  K562    \n",
       "e10l1_AAACTCGCAGCAAGTC-1 e10l1_AAACTCGCAGCAAGTC-1 12288 3510  K562    \n",
       "e10l1_AAAGCCAGTTAGCTAC-1 e10l1_AAAGCCAGTTAGCTAC-1  9592  679  K562    \n",
       "e10l1_AAAGCCAGTTAGTTTG-1 e10l1_AAAGCCAGTTAGTTTG-1 19576 5034  K562    \n",
       "e10l1_AAAGCGAAGACTCCTA-1 e10l1_AAAGCGAAGACTCCTA-1 14304  281  K562    \n",
       "e10l1_AAAGCGAAGCTTATCG-1 e10l1_AAAGCGAAGCTTATCG-1 15916 2980  K562    \n",
       "e10l1_AAAGCGAAGGCTAGCA-1 e10l1_AAAGCGAAGGCTAGCA-1  7450   73  K562    \n",
       "e10l1_AAAGCGAAGTGCACCT-1 e10l1_AAAGCGAAGTGCACCT-1 10455 1066  K562    \n",
       "e10l1_AAAGGCGCACTGGGAT-1 e10l1_AAAGGCGCACTGGGAT-1 10041 1969  K562    \n",
       "e10l1_AAAGGCGCAGCTCGAG-1 e10l1_AAAGGCGCAGCTCGAG-1 15041 3270  K562    \n",
       "e10l1_AAAGGCTTCCACTAAT-1 e10l1_AAAGGCTTCCACTAAT-1 15536 4091  K562    \n",
       "e10l1_AAAGGCTTCCTAAATC-1 e10l1_AAAGGCTTCCTAAATC-1  8099   68  K562    \n",
       "e10l1_AAAGGGATCGCTCAAC-1 e10l1_AAAGGGATCGCTCAAC-1 10663  581  K562    \n",
       "e10l1_AAAGTCATCCAGCTAC-1 e10l1_AAAGTCATCCAGCTAC-1 10037 1463  K562    \n",
       "e10l1_AAAGTCATCGAAGTTA-1 e10l1_AAAGTCATCGAAGTTA-1 10452 2241  K562    \n",
       "e10l1_AAAGTCATCGCTAATT-1 e10l1_AAAGTCATCGCTAATT-1  7749  126  K562    \n",
       "e10l1_AAATCCTTCATTCAGT-1 e10l1_AAATCCTTCATTCAGT-1  7733 1091  K562    \n",
       "e10l1_AACAACATCAGGATCG-1 e10l1_AACAACATCAGGATCG-1  6550  207  K562    \n",
       "e10l1_AACAAGTGTACGCACC-1 e10l1_AACAAGTGTACGCACC-1  4906  170  K562    \n",
       "e10l1_AACAAGTGTGAAACAT-1 e10l1_AACAAGTGTGAAACAT-1  8045  189  K562    \n",
       "e10l1_AACACTAAGGCCTTGT-1 e10l1_AACACTAAGGCCTTGT-1  6563  124  K562    \n",
       "⋮                        ⋮                        ⋮     ⋮     ⋮       \n",
       "e10l2_TTGTGTCCAACATAGT-1 e10l2_TTGTGTCCAACATAGT-1  4527  151  K562    \n",
       "e10l2_TTGTTGAGTACCGTGC-1 e10l2_TTGTTGAGTACCGTGC-1  4968  588  K562    \n",
       "e10l2_TTGTTGAGTATTCGGT-1 e10l2_TTGTTGAGTATTCGGT-1  8396  332  K562    \n",
       "e10l2_TTGTTGTAGCTTAGTT-1 e10l2_TTGTTGTAGCTTAGTT-1  9742 2421  K562    \n",
       "e10l2_TTTAACCAGAATCACA-1 e10l2_TTTAACCAGAATCACA-1  8178   45  K562    \n",
       "e10l2_TTTAACGGTGTCCACA-1 e10l2_TTTAACGGTGTCCACA-1 10350 1026  K562    \n",
       "e10l2_TTTAACGGTTACGAAG-1 e10l2_TTTAACGGTTACGAAG-1 12460 2869  K562    \n",
       "e10l2_TTTAAGCTCATTGAGA-1 e10l2_TTTAAGCTCATTGAGA-1  8555  980  K562    \n",
       "e10l2_TTTAAGGAGGCCTTGT-1 e10l2_TTTAAGGAGGCCTTGT-1 11164 1105  K562    \n",
       "e10l2_TTTAAGGAGTCAATTC-1 e10l2_TTTAAGGAGTCAATTC-1  6132 1647  K562    \n",
       "e10l2_TTTACTGCAGTATTGG-1 e10l2_TTTACTGCAGTATTGG-1  8095  143  K562    \n",
       "e10l2_TTTAGCTAGTTGCAGG-1 e10l2_TTTAGCTAGTTGCAGG-1  9220 1784  K562    \n",
       "e10l2_TTTAGGCGTGCACGCT-1 e10l2_TTTAGGCGTGCACGCT-1  6673 1612  K562    \n",
       "e10l2_TTTATCCGTTAAGGAT-1 e10l2_TTTATCCGTTAAGGAT-1 12449 3541  K562    \n",
       "e10l2_TTTCAAGGTGAAACAT-1 e10l2_TTTCAAGGTGAAACAT-1 12267 3424  K562    \n",
       "e10l2_TTTCAGTAGATGAAGG-1 e10l2_TTTCAGTAGATGAAGG-1  6345 1638  K562    \n",
       "e10l2_TTTCAGTAGCTATCGC-1 e10l2_TTTCAGTAGCTATCGC-1  4173  854  K562    \n",
       "e10l2_TTTCAGTAGTTACATC-1 e10l2_TTTCAGTAGTTACATC-1  4034   36  K562    \n",
       "e10l2_TTTCCGGCAGGCAACT-1 e10l2_TTTCCGGCAGGCAACT-1 17545 3045  K562    \n",
       "e10l2_TTTCCTGGTCGTAATC-1 e10l2_TTTCCTGGTCGTAATC-1  6351  283  K562    \n",
       "e10l2_TTTCCTGGTGCGTAAA-1 e10l2_TTTCCTGGTGCGTAAA-1  7853  114  K562    \n",
       "e10l2_TTTCTCATCACATTAC-1 e10l2_TTTCTCATCACATTAC-1  8000 2257  K562    \n",
       "e10l2_TTTCTCATCGCCTAAC-1 e10l2_TTTCTCATCGCCTAAC-1  5792   88  K562    \n",
       "e10l2_TTTCTTGTCGCGAGTA-1 e10l2_TTTCTTGTCGCGAGTA-1  4976  849  K562    \n",
       "e10l2_TTTGGAGCACGGATCG-1 e10l2_TTTGGAGCACGGATCG-1  6139  310  K562    \n",
       "e10l2_TTTGGAGCATGCTCCA-1 e10l2_TTTGGAGCATGCTCCA-1  5581  197  K562    \n",
       "e10l2_TTTGTCGAGGATGCGC-1 e10l2_TTTGTCGAGGATGCGC-1 15838 3176  K562    \n",
       "e10l2_TTTGTGAGTATAGCTC-1 e10l2_TTTGTGAGTATAGCTC-1 11115 3029  K562    \n",
       "e10l2_TTTGTGAGTTAGCGTT-1 e10l2_TTTGTGAGTTAGCGTT-1  4113   87  K562    \n",
       "e10l2_TTTGTGAGTTCCGGAC-1 e10l2_TTTGTGAGTTCCGGAC-1 15554 2830  K562    \n",
       "                         log.nUMI  percent.mito\n",
       "e10l1_AAACCAGGTCACAGGG-1  9.475240 0.273689864 \n",
       "e10l1_AAACCGCCAAGGAATA-1  9.717459 0.150316170 \n",
       "e10l1_AAACCGCCAGCCGGTA-1  9.099744 0.185077628 \n",
       "e10l1_AAACCGGTCAAGGAAG-1  8.837246 0.035724659 \n",
       "e10l1_AAACGAACAACGTGGT-1 10.020292 0.209093336 \n",
       "e10l1_AAACGGGCAAGGGAGC-1  9.270965 0.223058824 \n",
       "e10l1_AAACTAGTCCTGTGAC-1  8.904494 0.017651052 \n",
       "e10l1_AAACTAGTCGAAGCAT-1  9.273315 0.227605634 \n",
       "e10l1_AAACTAGTCGCTTGAC-1  9.213436 0.024623667 \n",
       "e10l1_AAACTCGCAAGCGCTG-1  9.596555 0.259344842 \n",
       "e10l1_AAACTCGCAGCAAGTC-1  9.416378 0.285644531 \n",
       "e10l1_AAAGCCAGTTAGCTAC-1  9.168685 0.070788157 \n",
       "e10l1_AAAGCCAGTTAGTTTG-1  9.882060 0.257151614 \n",
       "e10l1_AAAGCGAAGACTCCTA-1  9.568294 0.019644855 \n",
       "e10l1_AAAGCGAAGCTTATCG-1  9.675080 0.187232973 \n",
       "e10l1_AAAGCGAAGGCTAGCA-1  8.915969 0.009798658 \n",
       "e10l1_AAAGCGAAGTGCACCT-1  9.254836 0.101960784 \n",
       "e10l1_AAAGGCGCACTGGGAT-1  9.214432 0.196096006 \n",
       "e10l1_AAAGGCGCAGCTCGAG-1  9.618535 0.217405758 \n",
       "e10l1_AAAGGCTTCCACTAAT-1  9.650915 0.263323893 \n",
       "e10l1_AAAGGCTTCCTAAATC-1  8.999496 0.008396098 \n",
       "e10l1_AAAGGGATCGCTCAAC-1  9.274535 0.054487480 \n",
       "e10l1_AAAGTCATCCAGCTAC-1  9.214034 0.145760685 \n",
       "e10l1_AAAGTCATCGAAGTTA-1  9.254549 0.214408726 \n",
       "e10l1_AAAGTCATCGCTAATT-1  8.955319 0.016260163 \n",
       "e10l1_AAATCCTTCATTCAGT-1  8.953252 0.141083667 \n",
       "e10l1_AACAACATCAGGATCG-1  8.787220 0.031603053 \n",
       "e10l1_AACAAGTGTACGCACC-1  8.498214 0.034651447 \n",
       "e10l1_AACAAGTGTGAAACAT-1  8.992806 0.023492853 \n",
       "e10l1_AACACTAAGGCCTTGT-1  8.789203 0.018893799 \n",
       "⋮                        ⋮         ⋮           \n",
       "e10l2_TTGTGTCCAACATAGT-1 8.417815  0.033355423 \n",
       "e10l2_TTGTTGAGTACCGTGC-1 8.510773  0.118357488 \n",
       "e10l2_TTGTTGAGTATTCGGT-1 9.035511  0.039542639 \n",
       "e10l2_TTGTTGTAGCTTAGTT-1 9.184202  0.248511599 \n",
       "e10l2_TTTAACCAGAATCACA-1 9.009203  0.005502568 \n",
       "e10l2_TTTAACGGTGTCCACA-1 9.244742  0.099130435 \n",
       "e10l2_TTTAACGGTTACGAAG-1 9.430279  0.230256822 \n",
       "e10l2_TTTAAGCTCATTGAGA-1 9.054271  0.114552893 \n",
       "e10l2_TTTAAGGAGGCCTTGT-1 9.320450  0.098978861 \n",
       "e10l2_TTTAAGGAGTCAATTC-1 8.721276  0.268590998 \n",
       "e10l2_TTTACTGCAGTATTGG-1 8.999002  0.017665225 \n",
       "e10l2_TTTAGCTAGTTGCAGG-1 9.129130  0.193492408 \n",
       "e10l2_TTTAGGCGTGCACGCT-1 8.805825  0.241570508 \n",
       "e10l2_TTTATCCGTTAAGGAT-1 9.429396  0.284440517 \n",
       "e10l2_TTTCAAGGTGAAACAT-1 9.414668  0.279122850 \n",
       "e10l2_TTTCAGTAGATGAAGG-1 8.755422  0.258156028 \n",
       "e10l2_TTTCAGTAGCTATCGC-1 8.336390  0.204648934 \n",
       "e10l2_TTTCAGTAGTTACATC-1 8.302514  0.008924145 \n",
       "e10l2_TTTCCGGCAGGCAACT-1 9.772524  0.173553719 \n",
       "e10l2_TTTCCTGGTCGTAATC-1 8.756368  0.044559912 \n",
       "e10l2_TTTCCTGGTGCGTAAA-1 8.968651  0.014516745 \n",
       "e10l2_TTTCTCATCACATTAC-1 8.987197  0.282125000 \n",
       "e10l2_TTTCTCATCGCCTAAC-1 8.664233  0.015193370 \n",
       "e10l2_TTTCTTGTCGCGAGTA-1 8.512382  0.170618971 \n",
       "e10l2_TTTGGAGCACGGATCG-1 8.722417  0.050496824 \n",
       "e10l2_TTTGGAGCATGCTCCA-1 8.627123  0.035298334 \n",
       "e10l2_TTTGTCGAGGATGCGC-1 9.670167  0.200530370 \n",
       "e10l2_TTTGTGAGTATAGCTC-1 9.316051  0.272514620 \n",
       "e10l2_TTTGTGAGTTAGCGTT-1 8.321908  0.021152443 \n",
       "e10l2_TTTGTGAGTTCCGGAC-1 9.652073  0.181946766 "
      ]
     },
     "metadata": {},
     "output_type": "display_data"
    }
   ],
   "source": [
    "meta.data = data.frame(cell = colnames(matrix.rna),\n",
    "                       nUMI = colSums(matrix.rna),\n",
    "                       nMito = colSums(matrix.rna[grep(\"MT-\",rownames(matrix.rna)),]),\n",
    "                       celltype = \"K562\")\n",
    "meta.data[,\"log.nUMI\"] = log(meta.data[,\"nUMI\"])\n",
    "meta.data[,\"percent.mito\"] = meta.data[,\"nMito\"] / meta.data[,\"nUMI\"]\n",
    "meta.data"
   ]
  },
  {
   "cell_type": "markdown",
   "id": "b823cb4a-3ce6-40b1-9a0d-d5d1e4aa3912",
   "metadata": {},
   "source": [
    "RUN SCENT prediction"
   ]
  },
  {
   "cell_type": "code",
   "execution_count": 12,
   "id": "f46765dc-9de5-4411-9288-40b59435f9fb",
   "metadata": {},
   "outputs": [],
   "source": [
    "SCENT_algorithm.modified = function (object, \n",
    "                                     # celltype, \n",
    "                                     # ncores, \n",
    "                                     # regr = \"poisson\", \n",
    "                                     # bin = TRUE) \n",
    "                                     regr = \"poisson\") {\n",
    "    res <- data.frame()\n",
    "    for (n in 1:nrow(object@peak.info)) {        \n",
    "        gene <- object@peak.info[n, 1]\n",
    "        this_peak <- object@peak.info[n, 2]\n",
    "        atac_target <- data.frame(cell = colnames(object@atac), \n",
    "            atac = object@atac[this_peak, ])\n",
    "        # if (bin) {\n",
    "        #     atac_target[atac_target$atac > 0, ]$atac <- 1\n",
    "        # }\n",
    "        mrna_target <- object@rna[gene, ]\n",
    "        df <- data.frame(cell = names(mrna_target), exprs = as.numeric(mrna_target))\n",
    "        df <- merge(df, atac_target, by = \"cell\")\n",
    "        df <- merge(df, object@meta.data, by = \"cell\")\n",
    "        # df2 <- df[df[[object@celltypes]] == celltype, ]\n",
    "        df2 <- df\n",
    "        nonzero_m <- length(df2$exprs[df2$exprs > 0])/length(df2$exprs)\n",
    "        nonzero_a <- length(df2$atac[df2$atac > 0])/length(df2$atac)\n",
    "        if (nonzero_m > 0.05 & nonzero_a > 0.05) {\n",
    "            res_var <- \"exprs\"\n",
    "            pred_var <- c(\"atac\", object@covariates)\n",
    "            formula <- as.formula(paste(res_var, paste(pred_var, \n",
    "                collapse = \"+\"), sep = \"~\"))\n",
    "            if (regr == \"poisson\") {\n",
    "                base = glm(formula, family = \"poisson\", data = df2)\n",
    "                coefs <- summary(base)$coefficients[\"atac\", ]\n",
    "                # assoc <- assoc_poisson\n",
    "                assoc <- SCENT::assoc_poisson\n",
    "            }\n",
    "            else if (regr == \"negbin\") {\n",
    "                base = glm.nb(formula, data = df2)\n",
    "                coefs <- summary(base)$coefficients[\"atac\", ]\n",
    "                # assoc <- assoc_negbin\n",
    "                assoc <- SCENT::assoc_negbin\n",
    "            }\n",
    "            bs = boot::boot(df2, assoc, R = 100, formula = formula, \n",
    "                stype = \"i\", parallel = \"no\", ncpus = 1)\n",
    "            # p0 = basic_p(bs$t0[1], bs$t[, 1])\n",
    "            p0 = SCENT::basic_p(bs$t0[1], bs$t[, 1])\n",
    "            # if (p0 < 0.1) {\n",
    "            #     bs = boot::boot(df2, assoc, R = 500, formula = formula, \n",
    "            #       stype = \"i\", \n",
    "            #       # parallel = \"multicore\", ncpus = ncores)\n",
    "            #       parallel = \"no\", ncpus = 1)\n",
    "            #     # p0 = basic_p(bs$t0[1], bs$t[, 1])\n",
    "            #     p0 = SCENT::basic_p(bs$t0[1], bs$t[, 1])\n",
    "            # }\n",
    "            # if (p0 < 0.05) {\n",
    "            #     bs = boot::boot(df2, assoc, R = 2500, formula = formula, \n",
    "            #       stype = \"i\", \n",
    "            #       # parallel = \"multicore\", ncpus = ncores)\n",
    "            #       parallel = \"no\", ncpus = 1)\n",
    "            #     # p0 = basic_p(bs$t0[1], bs$t[, 1])\n",
    "            #     p0 = SCENT::basic_p(bs$t0[1], bs$t[, 1])\n",
    "            # }\n",
    "            # if (p0 < 0.01) {\n",
    "            #     bs = boot::boot(df2, assoc, R = 25000, formula = formula, \n",
    "            #       stype = \"i\", \n",
    "            #       # parallel = \"multicore\", ncpus = ncores)\n",
    "            #       parallel = \"no\", ncpus = 1)\n",
    "            #     # p0 = basic_p(bs$t0[1], bs$t[, 1])\n",
    "            #     p0 = SCENT::basic_p(bs$t0[1], bs$t[, 1])\n",
    "            # }\n",
    "            # if (p0 < 0.001) {\n",
    "            #     bs = boot::boot(df2, assoc, R = 50000, formula = formula, \n",
    "            #       stype = \"i\", \n",
    "            #       # parallel = \"multicore\", ncpus = ncores)\n",
    "            #       parallel = \"no\", ncpus = 1)\n",
    "            #     # p0 = basic_p(bs$t0[1], bs$t[, 1])\n",
    "            #     p0 = SCENT::basic_p(bs$t0[1], bs$t[, 1])\n",
    "            # }\n",
    "            out <- data.frame(gene = gene, peak = this_peak, \n",
    "                beta = coefs[1], se = coefs[2], z = coefs[3], \n",
    "                p = coefs[4], boot_basic_p = p0)           \n",
    "            res <- rbind(res, out)\n",
    "        }\n",
    "    }\n",
    "    object@SCENT.result <- res\n",
    "    return(object)\n",
    "}"
   ]
  },
  {
   "cell_type": "code",
   "execution_count": 13,
   "id": "563771b9-b96a-44d5-a5fe-fa30a7b9851b",
   "metadata": {},
   "outputs": [],
   "source": [
    "dir.create(paste(dir.output,\"chr\",sep = \"/\"),recursive = T)"
   ]
  },
  {
   "cell_type": "code",
   "execution_count": 14,
   "id": "0d2266ce-b92d-40d2-9b78-f39bd33a5079",
   "metadata": {},
   "outputs": [],
   "source": [
    "chr.done = dir(paste(dir.output,\"chr\",sep = \"/\"))\n",
    "chr.run = as.character(unique(seqnames(pairs.E2G.filter2)))\n",
    "chr.run = chr.run[!chr.run %in% chr.done]"
   ]
  },
  {
   "cell_type": "code",
   "execution_count": null,
   "id": "2d41238d-e833-4e0e-add5-bb56bb615c1a",
   "metadata": {},
   "outputs": [
    {
     "name": "stdout",
     "output_type": "stream",
     "text": [
      "[1] \"chr1\"\n"
     ]
    },
    {
     "name": "stderr",
     "output_type": "stream",
     "text": [
      "Warning message in split.default(x = seq_len(nrow(x)), f = f, drop = drop, ...):\n",
      "“data length is not a multiple of split variable”\n"
     ]
    },
    {
     "name": "stdout",
     "output_type": "stream",
     "text": [
      "[1] \"chr10\"\n"
     ]
    },
    {
     "name": "stderr",
     "output_type": "stream",
     "text": [
      "Warning message in split.default(x = seq_len(nrow(x)), f = f, drop = drop, ...):\n",
      "“data length is not a multiple of split variable”\n"
     ]
    },
    {
     "name": "stdout",
     "output_type": "stream",
     "text": [
      "[1] \"chr11\"\n"
     ]
    },
    {
     "name": "stderr",
     "output_type": "stream",
     "text": [
      "Warning message in split.default(x = seq_len(nrow(x)), f = f, drop = drop, ...):\n",
      "“data length is not a multiple of split variable”\n"
     ]
    },
    {
     "name": "stdout",
     "output_type": "stream",
     "text": [
      "[1] \"chr12\"\n"
     ]
    },
    {
     "name": "stderr",
     "output_type": "stream",
     "text": [
      "Warning message in split.default(x = seq_len(nrow(x)), f = f, drop = drop, ...):\n",
      "“data length is not a multiple of split variable”\n"
     ]
    },
    {
     "name": "stdout",
     "output_type": "stream",
     "text": [
      "[1] \"chr13\"\n"
     ]
    },
    {
     "name": "stderr",
     "output_type": "stream",
     "text": [
      "Warning message in split.default(x = seq_len(nrow(x)), f = f, drop = drop, ...):\n",
      "“data length is not a multiple of split variable”\n"
     ]
    },
    {
     "name": "stdout",
     "output_type": "stream",
     "text": [
      "[1] \"chr14\"\n",
      "[1] \"chr15\"\n"
     ]
    },
    {
     "name": "stderr",
     "output_type": "stream",
     "text": [
      "Warning message in split.default(x = seq_len(nrow(x)), f = f, drop = drop, ...):\n",
      "“data length is not a multiple of split variable”\n"
     ]
    },
    {
     "name": "stdout",
     "output_type": "stream",
     "text": [
      "[1] \"chr16\"\n"
     ]
    },
    {
     "name": "stderr",
     "output_type": "stream",
     "text": [
      "Warning message in split.default(x = seq_len(nrow(x)), f = f, drop = drop, ...):\n",
      "“data length is not a multiple of split variable”\n"
     ]
    },
    {
     "name": "stdout",
     "output_type": "stream",
     "text": [
      "[1] \"chr17\"\n"
     ]
    },
    {
     "name": "stderr",
     "output_type": "stream",
     "text": [
      "Warning message in split.default(x = seq_len(nrow(x)), f = f, drop = drop, ...):\n",
      "“data length is not a multiple of split variable”\n"
     ]
    },
    {
     "name": "stdout",
     "output_type": "stream",
     "text": [
      "[1] \"chr18\"\n"
     ]
    },
    {
     "name": "stderr",
     "output_type": "stream",
     "text": [
      "Warning message in split.default(x = seq_len(nrow(x)), f = f, drop = drop, ...):\n",
      "“data length is not a multiple of split variable”\n"
     ]
    },
    {
     "name": "stdout",
     "output_type": "stream",
     "text": [
      "[1] \"chr19\"\n"
     ]
    },
    {
     "name": "stderr",
     "output_type": "stream",
     "text": [
      "Warning message in split.default(x = seq_len(nrow(x)), f = f, drop = drop, ...):\n",
      "“data length is not a multiple of split variable”\n"
     ]
    },
    {
     "name": "stdout",
     "output_type": "stream",
     "text": [
      "[1] \"chr2\"\n"
     ]
    },
    {
     "name": "stderr",
     "output_type": "stream",
     "text": [
      "Warning message in split.default(x = seq_len(nrow(x)), f = f, drop = drop, ...):\n",
      "“data length is not a multiple of split variable”\n"
     ]
    },
    {
     "name": "stdout",
     "output_type": "stream",
     "text": [
      "[1] \"chr20\"\n"
     ]
    },
    {
     "name": "stderr",
     "output_type": "stream",
     "text": [
      "Warning message in split.default(x = seq_len(nrow(x)), f = f, drop = drop, ...):\n",
      "“data length is not a multiple of split variable”\n"
     ]
    },
    {
     "name": "stdout",
     "output_type": "stream",
     "text": [
      "[1] \"chr21\"\n"
     ]
    },
    {
     "name": "stderr",
     "output_type": "stream",
     "text": [
      "Warning message in split.default(x = seq_len(nrow(x)), f = f, drop = drop, ...):\n",
      "“data length is not a multiple of split variable”\n"
     ]
    },
    {
     "name": "stdout",
     "output_type": "stream",
     "text": [
      "[1] \"chr22\"\n"
     ]
    },
    {
     "name": "stderr",
     "output_type": "stream",
     "text": [
      "Warning message in split.default(x = seq_len(nrow(x)), f = f, drop = drop, ...):\n",
      "“data length is not a multiple of split variable”\n"
     ]
    },
    {
     "name": "stdout",
     "output_type": "stream",
     "text": [
      "[1] \"chr3\"\n"
     ]
    },
    {
     "name": "stderr",
     "output_type": "stream",
     "text": [
      "Warning message in split.default(x = seq_len(nrow(x)), f = f, drop = drop, ...):\n",
      "“data length is not a multiple of split variable”\n"
     ]
    }
   ],
   "source": [
    "for(chr.tmp in chr.run){\n",
    "  print(chr.tmp)\n",
    "  pairs.E2G.chr.res = pairs.E2G.filter2[seqnames(pairs.E2G.filter2) == chr.tmp]\n",
    "  gene_peak.chr = as.data.frame(mcols(pairs.E2G.chr.res)[,c(\"TargetGene\",\"PeakName\")])\n",
    "  list.gene_peak.chr <- split(gene_peak.chr, seq_len(n.cores))\n",
    "  \n",
    "  list.obj.SCENT.chr <- lapply(list.gene_peak.chr, function(gene_peak.tmp) {\n",
    "    obj.SCENT.tmp <- CreateSCENTObj(\n",
    "      rna = matrix.rna[rownames(matrix.rna) %in% gene_peak.tmp$TargetGene,],\n",
    "      atac = matrix.atac[rownames(matrix.atac) %in% gene_peak.tmp$PeakName,], \n",
    "      meta.data = meta.data,\n",
    "      peak.info = gene_peak.tmp,\n",
    "      covariates = c(\"log.nUMI\",\"percent.mito\"), \n",
    "      celltypes = \"celltype\"\n",
    "    )\n",
    "  })\n",
    "  \n",
    "  cl <- makeCluster(n.cores)\n",
    "  clusterExport(cl, varlist=c(\"SCENT_algorithm.modified\"))\n",
    "  list.SCENT.result.chr <- parLapply(cl, list.obj.SCENT.chr, function(obj.SCENT.tmp) {\n",
    "    obj.SCENT.tmp <- SCENT_algorithm.modified(object = obj.SCENT.tmp)\n",
    "    return(obj.SCENT.tmp@SCENT.result)\n",
    "  })\n",
    "  stopCluster(cl)\n",
    "  \n",
    "  \n",
    "  df.SCENT.result.chr = do.call(rbind,list.SCENT.result.chr)\n",
    "  rownames(df.SCENT.result.chr) = paste(df.SCENT.result.chr$peak,\n",
    "                                        df.SCENT.result.chr$gene,\n",
    "                                        sep = \"_\")\n",
    "\n",
    "  pairs.E2G.chr.res = pairs.E2G.chr.res[pairs.E2G.chr.res$PairName %in% rownames(df.SCENT.result.chr)]\n",
    "  mcols(pairs.E2G.chr.res)[,c(\"beta\",\"se\",\"z\",\"p\",\"boot_basic_p\")] = \n",
    "    df.SCENT.result.chr[pairs.E2G.chr.res$PairName,c(\"beta\",\"se\",\"z\",\"p\",\"boot_basic_p\")]\n",
    "  pairs.E2G.chr.res$boot_basic_p.log10 = -log10(pairs.E2G.chr.res$boot_basic_p)\n",
    "  pairs.E2G.chr.res$sign = 1\n",
    "  pairs.E2G.chr.res$sign[pairs.E2G.chr.res$beta < 0] = -1\n",
    "  pairs.E2G.chr.res$boot_basic_p.log10.signed = pairs.E2G.chr.res$boot_basic_p.log10 * pairs.E2G.chr.res$sign\n",
    "  saveRDS(pairs.E2G.chr.res,\n",
    "          paste(dir.output,\"chr\",chr.tmp,sep = \"/\"))\n",
    "  rm (pairs.E2G.chr.res)\n",
    "}"
   ]
  },
  {
   "cell_type": "markdown",
   "id": "da9d1451-54e0-49e0-ae8b-cd0158115820",
   "metadata": {},
   "source": [
    "Merge results"
   ]
  },
  {
   "cell_type": "code",
   "execution_count": null,
   "id": "6b4278f1-7d9d-402f-95c6-f274a6befea3",
   "metadata": {},
   "outputs": [],
   "source": [
    "chr.merge = as.character(unique(seqnames(pairs.E2G.filter2)))\n",
    "list.res = list()\n",
    "for(chr.tmp in chr.merge){\n",
    "    list.res[[chr.tmp]] = readRDS(paste(dir.output,\"chr\",chr.tmp,sep = \"/\"))\n",
    "}\n",
    "pairs.E2G.res = unlist(as(list.res, \"GRangesList\"))"
   ]
  },
  {
   "cell_type": "markdown",
   "id": "6ef1617e-3e2f-44f1-9245-007d569ca84d",
   "metadata": {},
   "source": [
    "Save results"
   ]
  },
  {
   "cell_type": "code",
   "execution_count": null,
   "id": "48824f05-aedd-476c-88d6-ae58d1833fc9",
   "metadata": {},
   "outputs": [],
   "source": [
    "saveRDS(pairs.E2G.res,\n",
    "        paste(dir.output,\"pairs.E2G.res.rds\",sep = \"/\"))\n",
    "pairs.E2G.res"
   ]
  },
  {
   "cell_type": "code",
   "execution_count": null,
   "id": "2297128a-9ed6-42b8-90c7-459969fb5afd",
   "metadata": {},
   "outputs": [],
   "source": [
    "df.output = as.data.frame(pairs.E2G.res,row.names = NULL)\n",
    "colnames(df.output)[1] = \"chr\"\n",
    "df.output[,\"CellType\"] = \"K562\"\n",
    "df.output = df.output[,c(\"chr\",\n",
    "                         \"start\",\n",
    "                         \"end\",\n",
    "                         \"TargetGene\",\n",
    "                         \"CellType\",\n",
    "                         \"beta\",\"se\",\"z\",\"p\",\"boot_basic_p\",\n",
    "                         \"boot_basic_p.log10\",\n",
    "                         \"sign\",\n",
    "                         \"boot_basic_p.log10.signed\")]\n",
    "data.table::fwrite(df.output,\n",
    "                   file = paste(dir.output,\"pairs.E2G.res.tsv.gz\",sep = \"/\"),\n",
    "                   row.names = F,\n",
    "                   quote = F,\n",
    "                   sep = \"\\t\")\n",
    "df.output"
   ]
  },
  {
   "cell_type": "code",
   "execution_count": null,
   "id": "4d77c58e-215a-408d-8495-c68c72f559c3",
   "metadata": {},
   "outputs": [],
   "source": [
    "sessionInfo()"
   ]
  },
  {
   "cell_type": "code",
   "execution_count": null,
   "id": "3c1a0283-11d6-4df1-bbd8-7b47e9e8ead8",
   "metadata": {},
   "outputs": [],
   "source": []
  }
 ],
 "metadata": {
  "kernelspec": {
   "display_name": "R",
   "language": "R",
   "name": "ir"
  },
  "language_info": {
   "codemirror_mode": "r",
   "file_extension": ".r",
   "mimetype": "text/x-r-source",
   "name": "R",
   "pygments_lexer": "r",
   "version": "4.3.3"
  }
 },
 "nbformat": 4,
 "nbformat_minor": 5
}
