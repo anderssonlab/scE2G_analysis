{
 "cells": [
  {
   "cell_type": "code",
   "execution_count": 1,
   "id": "3a1e63f9-7479-4a30-83ea-381f1ecdbe50",
   "metadata": {},
   "outputs": [
    {
     "name": "stderr",
     "output_type": "stream",
     "text": [
      "Loading required package: Matrix\n",
      "\n",
      "Loading required package: rhdf5\n",
      "\n",
      "Warning message:\n",
      "“no DISPLAY variable so Tk is not available”\n",
      "Loading required package: SeuratObject\n",
      "\n",
      "Loading required package: sp\n",
      "\n",
      "‘SeuratObject’ was built under R 4.3.2 but the current version is\n",
      "4.3.3; it is recomended that you reinstall ‘SeuratObject’ as the ABI\n",
      "for R may have changed\n",
      "\n",
      "‘SeuratObject’ was built with package ‘Matrix’ 1.6.3 but the current\n",
      "version is 1.6.5; it is recomended that you reinstall ‘SeuratObject’ as\n",
      "the ABI for ‘Matrix’ may have changed\n",
      "\n",
      "\n",
      "Attaching package: ‘SeuratObject’\n",
      "\n",
      "\n",
      "The following object is masked from ‘package:base’:\n",
      "\n",
      "    intersect\n",
      "\n",
      "\n",
      "Loading required package: grid\n",
      "\n",
      "Warning message:\n",
      "“replacing previous import ‘Biostrings::pattern’ by ‘grid::pattern’ when loading ‘genomation’”\n",
      "Loading required package: stats4\n",
      "\n",
      "Loading required package: BiocGenerics\n",
      "\n",
      "\n",
      "Attaching package: ‘BiocGenerics’\n",
      "\n",
      "\n",
      "The following object is masked from ‘package:SeuratObject’:\n",
      "\n",
      "    intersect\n",
      "\n",
      "\n",
      "The following objects are masked from ‘package:stats’:\n",
      "\n",
      "    IQR, mad, sd, var, xtabs\n",
      "\n",
      "\n",
      "The following objects are masked from ‘package:base’:\n",
      "\n",
      "    anyDuplicated, aperm, append, as.data.frame, basename, cbind,\n",
      "    colnames, dirname, do.call, duplicated, eval, evalq, Filter, Find,\n",
      "    get, grep, grepl, intersect, is.unsorted, lapply, Map, mapply,\n",
      "    match, mget, order, paste, pmax, pmax.int, pmin, pmin.int,\n",
      "    Position, rank, rbind, Reduce, rownames, sapply, setdiff, sort,\n",
      "    table, tapply, union, unique, unsplit, which.max, which.min\n",
      "\n",
      "\n",
      "Loading required package: S4Vectors\n",
      "\n",
      "\n",
      "Attaching package: ‘S4Vectors’\n",
      "\n",
      "\n",
      "The following objects are masked from ‘package:Matrix’:\n",
      "\n",
      "    expand, unname\n",
      "\n",
      "\n",
      "The following object is masked from ‘package:utils’:\n",
      "\n",
      "    findMatches\n",
      "\n",
      "\n",
      "The following objects are masked from ‘package:base’:\n",
      "\n",
      "    expand.grid, I, unname\n",
      "\n",
      "\n",
      "Loading required package: IRanges\n",
      "\n",
      "\n",
      "Attaching package: ‘IRanges’\n",
      "\n",
      "\n",
      "The following object is masked from ‘package:sp’:\n",
      "\n",
      "    %over%\n",
      "\n",
      "\n",
      "Loading required package: GenomeInfoDb\n",
      "\n"
     ]
    }
   ],
   "source": [
    "library(SnapATAC)\n",
    "library(Seurat)\n",
    "library(Signac)\n",
    "library(genomation)\n",
    "library(GenomicRanges)\n",
    "library(parallel)\n",
    "library(foreach)"
   ]
  },
  {
   "cell_type": "markdown",
   "id": "d53f3774-52c3-4baa-b707-5b3a0450b130",
   "metadata": {},
   "source": [
    "Specify file path"
   ]
  },
  {
   "cell_type": "code",
   "execution_count": 2,
   "id": "0785f3fc-9913-428a-bea7-5710120c9328",
   "metadata": {},
   "outputs": [],
   "source": [
    "gene_gtf_path = \"/maps/projects/ralab/data/genome/hg38/gencode.v43.chr_patch_hapl_scaff.annotation.gtf\"\n",
    "abc_genes_path = \"/maps/projects/ralab_nnfc-AUDIT/people/lpm537/software/scE2G_pipeline/241203/scE2G/ENCODE_rE2G/ABC/reference/hg38/CollapsedGeneBounds.hg38.TSS500bp.bed\"\n",
    "path.pairs.E2G = \"/maps/projects/ralab_nnfc-AUDIT/people/lpm537/software/scE2G_pipeline/240610/sc-E2G/test/results/K562_IGVF_filter/K562/Kendall/Pairs.tsv.gz\"\n",
    "path.pairs.ABC = \"/maps/projects/ralab_nnfc-AUDIT/people/lpm537/software/scE2G_pipeline/240610/sc-E2G/test/results/K562_IGVF_filter/K562/Predictions/EnhancerPredictionsAllPutative.tsv.gz\"\n",
    "path.matrix.atac_count = \"/maps/projects/ralab_nnfc-AUDIT/people/lpm537/software/scE2G_pipeline/240610/sc-E2G/test/results/K562_IGVF_filter/K562/Kendall/atac_matrix.rds\"\n",
    "path.matrix.rna_count = \"/maps/projects/ralab_nnfc-AUDIT/people/lpm537/project/E2G/analysis/E2G_240503/data/K562_IGVF/1.prepare_data/2.Filter_out_low_quality_cells.240614/rna_count_matrix.csv.gz\"\n",
    "dir.output = \"/maps/projects/ralab_nnfc-AUDIT/people/lpm537/project/E2G/analysis/E2G_240503/data/K562_IGVF/3.Genome_wide_prediction/SnapATAC/SnapATAC.250212/\""
   ]
  },
  {
   "cell_type": "code",
   "execution_count": 3,
   "id": "500ba317-011f-4cab-834c-de750cb7f503",
   "metadata": {},
   "outputs": [],
   "source": [
    "n.cores = 8"
   ]
  },
  {
   "cell_type": "markdown",
   "id": "9c9cdab1-486b-4539-99d3-3cd5d1d99795",
   "metadata": {},
   "source": [
    "Import candidate E-G pairs"
   ]
  },
  {
   "cell_type": "code",
   "execution_count": 4,
   "id": "f5852d15-7e3f-412b-b137-7d29a6fb47b1",
   "metadata": {},
   "outputs": [],
   "source": [
    "pairs.E2G = readGeneric(path.pairs.E2G,\n",
    "                        header = T,\n",
    "                        keep.all.metadata = T)"
   ]
  },
  {
   "cell_type": "markdown",
   "id": "e79f3220-9bc6-4496-9e9a-a2dcc6e7f751",
   "metadata": {},
   "source": [
    "Import ABC results"
   ]
  },
  {
   "cell_type": "code",
   "execution_count": 5,
   "id": "6bc3f6ba-5e9a-488c-ba26-e0c84007ef4d",
   "metadata": {},
   "outputs": [],
   "source": [
    "pairs.ABC = readGeneric(path.pairs.ABC,\n",
    "                        header = T,\n",
    "                        keep.all.metadata = T)"
   ]
  },
  {
   "cell_type": "markdown",
   "id": "7d660489-4656-4b85-a3df-381acf0aa4a1",
   "metadata": {},
   "source": [
    "Filter ABC results which distance < 1M"
   ]
  },
  {
   "cell_type": "code",
   "execution_count": 6,
   "id": "31b4d7f1-0feb-428b-934a-9c32cb2a4f68",
   "metadata": {},
   "outputs": [],
   "source": [
    "pairs.ABC.1M = pairs.ABC[pairs.ABC$distance < 10^6]"
   ]
  },
  {
   "cell_type": "markdown",
   "id": "639699dd-5bf9-4b19-9178-82dbbf2c62d0",
   "metadata": {},
   "source": [
    "Filter E-G pairs overlaping with pairs.ABC.1M"
   ]
  },
  {
   "cell_type": "code",
   "execution_count": 7,
   "id": "d7db8c1b-5245-49e1-862e-979d9f1de142",
   "metadata": {},
   "outputs": [
    {
     "data": {
      "text/plain": [
       "GRanges object with 3001947 ranges and 3 metadata columns:\n",
       "            seqnames            ranges strand |  TargetGene\n",
       "               <Rle>         <IRanges>  <Rle> | <character>\n",
       "        [1]     chr1 10002642-10003186      * | APITD1-CORT\n",
       "        [2]     chr1 10002642-10003186      * |       CASZ1\n",
       "        [3]     chr1 10002642-10003186      * |       CENPS\n",
       "        [4]     chr1 10002642-10003186      * |      CLSTN1\n",
       "        [5]     chr1 10002642-10003186      * |    CTNNBIP1\n",
       "        ...      ...               ...    ... .         ...\n",
       "  [3001943]     chrX   9995829-9996183      * |       CLCN4\n",
       "  [3001944]     chrX   9995829-9996183      * |      CLDN34\n",
       "  [3001945]     chrX   9995829-9996183      * |       FAM9B\n",
       "  [3001946]     chrX   9995829-9996183      * |       TBL1X\n",
       "  [3001947]     chrX   9995829-9996183      * |        WWC3\n",
       "                          PeakName               PairName\n",
       "                       <character>            <character>\n",
       "        [1] chr1-10002642-10003186 chr1-10002642-100031..\n",
       "        [2] chr1-10002642-10003186 chr1-10002642-100031..\n",
       "        [3] chr1-10002642-10003186 chr1-10002642-100031..\n",
       "        [4] chr1-10002642-10003186 chr1-10002642-100031..\n",
       "        [5] chr1-10002642-10003186 chr1-10002642-100031..\n",
       "        ...                    ...                    ...\n",
       "  [3001943]   chrX-9995829-9996183 chrX-9995829-9996183..\n",
       "  [3001944]   chrX-9995829-9996183 chrX-9995829-9996183..\n",
       "  [3001945]   chrX-9995829-9996183 chrX-9995829-9996183..\n",
       "  [3001946]   chrX-9995829-9996183 chrX-9995829-9996183..\n",
       "  [3001947]   chrX-9995829-9996183 chrX-9995829-9996183..\n",
       "  -------\n",
       "  seqinfo: 23 sequences from an unspecified genome; no seqlengths"
      ]
     },
     "metadata": {},
     "output_type": "display_data"
    }
   ],
   "source": [
    "df.pairs.E2G.chr_rename = as.data.frame(pairs.E2G)[,1:3]\n",
    "df.pairs.E2G.chr_rename[,\"seqnames\"] = paste(seqnames(pairs.E2G),\n",
    "                                             mcols(pairs.E2G)[,\"TargetGene\"],\n",
    "                                             sep = \"_\")\n",
    "pairs.E2G.chr_rename = GRanges(df.pairs.E2G.chr_rename)\n",
    "rm(df.pairs.E2G.chr_rename)\n",
    "\n",
    "df.pairs.ABC.1M.chr_rename = as.data.frame(pairs.ABC.1M)[,1:3]\n",
    "df.pairs.ABC.1M.chr_rename[,\"seqnames\"] = paste(seqnames(pairs.ABC.1M),\n",
    "                                                mcols(pairs.ABC.1M)[,\"TargetGene\"],\n",
    "                                                sep = \"_\")\n",
    "pairs.ABC.1M.chr_rename = GRanges(df.pairs.ABC.1M.chr_rename)\n",
    "rm(df.pairs.ABC.1M.chr_rename)\n",
    "\n",
    "pairs.E2G.filter = pairs.E2G[countOverlaps(pairs.E2G.chr_rename,\n",
    "                                           pairs.ABC.1M.chr_rename) > 0]\n",
    "rm(pairs.E2G.chr_rename)\n",
    "rm(pairs.ABC.1M.chr_rename)\n",
    "pairs.E2G.filter"
   ]
  },
  {
   "cell_type": "markdown",
   "id": "bcdfac67-ce32-4d9a-8f4d-65dab644ec63",
   "metadata": {},
   "source": [
    "Import ATAC matrix"
   ]
  },
  {
   "cell_type": "code",
   "execution_count": 8,
   "id": "bd59feb4-3e33-4ebe-a107-f3b6d347a68e",
   "metadata": {},
   "outputs": [],
   "source": [
    "matrix.atac_count = readRDS(path.matrix.atac_count)\n",
    "matrix.atac = BinarizeCounts(matrix.atac_count)\n",
    "rm(matrix.atac_count)"
   ]
  },
  {
   "cell_type": "markdown",
   "id": "a0c5cb96-2fc4-42c4-a421-fe9a5ca537da",
   "metadata": {},
   "source": [
    "Import RNA matrix"
   ]
  },
  {
   "cell_type": "code",
   "execution_count": 9,
   "id": "96e10e90-9400-4cfe-bc7b-46a7eaee1fcd",
   "metadata": {},
   "outputs": [],
   "source": [
    "matrix.rna_count = read.csv(path.matrix.rna_count,\n",
    "                            row.names = 1,\n",
    "                            check.names = F)\n",
    "matrix.rna_count = Matrix(as.matrix(matrix.rna_count), sparse = TRUE)\n",
    "matrix.rna_count = matrix.rna_count[,colnames(matrix.atac)]\n",
    "matrix.rna_count = matrix.rna_count[rowSums(matrix.rna_count) > 0,]\n",
    "matrix.rna = NormalizeData(matrix.rna_count)\n",
    "rm(matrix.rna_count)"
   ]
  },
  {
   "cell_type": "markdown",
   "id": "4986774c-cbbf-4b72-a299-d681bddca80e",
   "metadata": {},
   "source": [
    "Map gene names"
   ]
  },
  {
   "cell_type": "code",
   "execution_count": 10,
   "id": "85b165d0-f1db-4548-beac-235f8950107b",
   "metadata": {},
   "outputs": [],
   "source": [
    "extract_attributes <- function(gtf_attributes, att_of_interest){\n",
    "  att <- unlist(strsplit(gtf_attributes, \" \"))\n",
    "  if(att_of_interest %in% att){\n",
    "    return(gsub(\"\\\"|;\",\"\", att[which(att %in% att_of_interest)+1]))\n",
    "  } else {\n",
    "    return(NA)}\n",
    "}\n",
    "map_gene_names <- function(rna_matrix, gene_gtf_path, abc_genes_path){\n",
    "    library(dplyr)\n",
    "    library(data.table)\n",
    "    \n",
    "\tgene_ref <- fread(gene_gtf_path, header = FALSE, sep = \"\\t\") %>%\n",
    "\t\tsetNames(c(\"chr\",\"source\",\"type\",\"start\",\"end\",\"score\",\"strand\",\"phase\",\"attributes\")) %>%\n",
    "\t\tdplyr::filter(type == \"gene\")\n",
    "\tgene_ref$gene_ref_name <- unlist(lapply(gene_ref$attributes, extract_attributes, \"gene_name\"))\n",
    "\tgene_ref$Ensembl_ID <- unlist(lapply(gene_ref$attributes, extract_attributes, \"gene_id\"))\n",
    "\tgene_ref <- dplyr::select(gene_ref, gene_ref_name, Ensembl_ID) %>%\n",
    "\t\tmutate(Ensembl_ID = sub(\"\\\\.\\\\d+$\", \"\", Ensembl_ID)) %>% # remove decimal digits \n",
    "\t\tdistinct()\n",
    "\t\n",
    "\tabc_genes <- fread(abc_genes_path, col.names = c(\"chr\", \"start\", \"end\", \"name\", \"score\", \"strand\", \"Ensembl_ID\", \"gene_type\")) %>%\n",
    "\t\tdplyr::select(name, Ensembl_ID) %>%\n",
    "\t\trename(abc_name = name) %>%\n",
    "\t\tleft_join(gene_ref, by = \"Ensembl_ID\") %>%\n",
    "\t\tgroup_by(Ensembl_ID) %>% # remove cases where multiple genes map to one ensembl ID\n",
    "\t\tfilter(n() == 1) %>%\n",
    "\t\tungroup()\n",
    "\n",
    "\tgene_key <- abc_genes$abc_name\n",
    "\tnames(gene_key) <- abc_genes$gene_ref_name\n",
    "\n",
    "\t# remove genes not in our gene universe\t\n",
    "\trow_sub <- intersect(rownames(rna_matrix), names(gene_key)) # gene ref names\n",
    "\trna_matrix_filt <- rna_matrix[row_sub,] # still gene ref names\n",
    "\trownames(rna_matrix_filt) <- gene_key[row_sub] # converted to abc names\n",
    "\n",
    "\treturn(rna_matrix_filt)\n",
    "}"
   ]
  },
  {
   "cell_type": "code",
   "execution_count": 11,
   "id": "655ebba3-731e-49d8-a04e-1ebb5becd567",
   "metadata": {},
   "outputs": [
    {
     "name": "stderr",
     "output_type": "stream",
     "text": [
      "\n",
      "Attaching package: ‘dplyr’\n",
      "\n",
      "\n",
      "The following objects are masked from ‘package:GenomicRanges’:\n",
      "\n",
      "    intersect, setdiff, union\n",
      "\n",
      "\n",
      "The following object is masked from ‘package:GenomeInfoDb’:\n",
      "\n",
      "    intersect\n",
      "\n",
      "\n",
      "The following objects are masked from ‘package:IRanges’:\n",
      "\n",
      "    collapse, desc, intersect, setdiff, slice, union\n",
      "\n",
      "\n",
      "The following objects are masked from ‘package:S4Vectors’:\n",
      "\n",
      "    first, intersect, rename, setdiff, setequal, union\n",
      "\n",
      "\n",
      "The following objects are masked from ‘package:BiocGenerics’:\n",
      "\n",
      "    combine, intersect, setdiff, union\n",
      "\n",
      "\n",
      "The following objects are masked from ‘package:stats’:\n",
      "\n",
      "    filter, lag\n",
      "\n",
      "\n",
      "The following objects are masked from ‘package:base’:\n",
      "\n",
      "    intersect, setdiff, setequal, union\n",
      "\n",
      "\n",
      "\n",
      "Attaching package: ‘data.table’\n",
      "\n",
      "\n",
      "The following objects are masked from ‘package:dplyr’:\n",
      "\n",
      "    between, first, last\n",
      "\n",
      "\n",
      "The following object is masked from ‘package:GenomicRanges’:\n",
      "\n",
      "    shift\n",
      "\n",
      "\n",
      "The following object is masked from ‘package:IRanges’:\n",
      "\n",
      "    shift\n",
      "\n",
      "\n",
      "The following objects are masked from ‘package:S4Vectors’:\n",
      "\n",
      "    first, second\n",
      "\n",
      "\n"
     ]
    }
   ],
   "source": [
    "matrix.rna.rename = map_gene_names(matrix.rna,gene_gtf_path, abc_genes_path)"
   ]
  },
  {
   "cell_type": "code",
   "execution_count": 12,
   "id": "ad0f51bc-6e09-4b83-be71-560130dd0fa6",
   "metadata": {},
   "outputs": [],
   "source": [
    "pairs.E2G.filter2 = pairs.E2G.filter[pairs.E2G.filter$TargetGene %in% rownames(matrix.rna.rename) &\n",
    "                                     pairs.E2G.filter$PeakName %in% rownames(matrix.atac)]"
   ]
  },
  {
   "cell_type": "markdown",
   "id": "b16f7d5b-eabd-4e93-b8cd-f19a54df21f2",
   "metadata": {},
   "source": [
    "Run SnapATAC prediction"
   ]
  },
  {
   "cell_type": "code",
   "execution_count": 13,
   "id": "f6909129-c4bd-48a5-8d0d-cea5d8306efc",
   "metadata": {},
   "outputs": [],
   "source": [
    "PredictionSnapATAC = function(pairs.E2G,\n",
    "                              data.RNA,\n",
    "                              data.ATAC,\n",
    "                              n.core = 16){\n",
    "  my.cluster <- parallel::makeCluster(\n",
    "    n.core,\n",
    "    type = \"PSOCK\"\n",
    "  )\n",
    "  doParallel::registerDoParallel(cl = my.cluster)\n",
    "  \n",
    "  pairs.E2G =  \n",
    "    foreach (index.tmp = 1:length(pairs.E2G),\n",
    "             .combine = 'c',\n",
    "             .packages = c(\"Matrix\",\n",
    "                           \"GenomicRanges\")) %dopar% {\n",
    "\n",
    "                             pairs.E2G.tmp = pairs.E2G[index.tmp]\n",
    "                             \n",
    "                             model.tmp = summary(stats::glm(data.ATAC[pairs.E2G.tmp$PeakName,] ~ data.RNA[pairs.E2G.tmp$TargetGene,], \n",
    "                                                            family = binomial(link = \"logit\")))[[\"coefficients\"]]\n",
    "                             mcols(pairs.E2G.tmp)[,c(\"beta\",\"sd\",\"z\",\"p\")] = \n",
    "                               t(data.frame(model.tmp[2,]))\n",
    "                             \n",
    "                             pairs.E2G.tmp\n",
    "                           }\n",
    "  \n",
    "  parallel::stopCluster(cl = my.cluster)\n",
    "  \n",
    "  return(pairs.E2G)\n",
    "}"
   ]
  },
  {
   "cell_type": "code",
   "execution_count": 14,
   "id": "2024aa79-81fb-480d-8523-36bc72fbc65b",
   "metadata": {},
   "outputs": [],
   "source": [
    "dir.create(paste(dir.output,\"chr\",sep = \"/\"),recursive = T)"
   ]
  },
  {
   "cell_type": "code",
   "execution_count": 15,
   "id": "926aa663-820b-4a81-b814-58945f5aa364",
   "metadata": {},
   "outputs": [],
   "source": [
    "chr.done = dir(paste(dir.output,\"chr\",sep = \"/\"))\n",
    "chr.run = as.character(unique(seqnames(pairs.E2G.filter2)))\n",
    "chr.run = chr.run[!chr.run %in% chr.done]"
   ]
  },
  {
   "cell_type": "code",
   "execution_count": null,
   "id": "17822bf5-e813-4429-9527-30ed50efbc2f",
   "metadata": {},
   "outputs": [],
   "source": [
    "for(chr.tmp in chr.run){\n",
    "  print(chr.tmp)\n",
    "  pairs.E2G.chr.res = pairs.E2G.filter2[seqnames(pairs.E2G.filter2) == chr.tmp]\n",
    "  mcols(pairs.E2G.chr.res)[,c(\"beta\",\"sd\",\"z\",\"p\")] = NA\n",
    "  pairs.E2G.chr.res = PredictionSnapATAC(pairs.E2G.chr.res,\n",
    "                                         matrix.rna.rename[rownames(matrix.rna.rename) %in% pairs.E2G.chr.res$TargetGene,],\n",
    "                                         matrix.atac[rownames(matrix.atac) %in% pairs.E2G.chr.res$PeakName,],\n",
    "                                         n.cores)\n",
    "  saveRDS(pairs.E2G.chr.res,\n",
    "          paste(dir.output,\"chr\",chr.tmp,sep = \"/\"))\n",
    "  rm (pairs.E2G.chr.res)\n",
    "}"
   ]
  },
  {
   "cell_type": "markdown",
   "id": "da9d1451-54e0-49e0-ae8b-cd0158115820",
   "metadata": {},
   "source": [
    "Merge results"
   ]
  },
  {
   "cell_type": "code",
   "execution_count": null,
   "id": "6b4278f1-7d9d-402f-95c6-f274a6befea3",
   "metadata": {},
   "outputs": [],
   "source": [
    "chr.merge = as.character(unique(seqnames(pairs.E2G.filter2)))\n",
    "list.res = list()\n",
    "for(chr.tmp in chr.merge){\n",
    "    list.res[[chr.tmp]] = readRDS(paste(dir.output,\"chr\",chr.tmp,sep = \"/\"))\n",
    "}\n",
    "pairs.E2G.res = unlist(as(list.res, \"GRangesList\"))"
   ]
  },
  {
   "cell_type": "markdown",
   "id": "b387943f-773e-4f6a-8938-b6e7d91181ac",
   "metadata": {},
   "source": [
    "Save results"
   ]
  },
  {
   "cell_type": "code",
   "execution_count": null,
   "id": "48824f05-aedd-476c-88d6-ae58d1833fc9",
   "metadata": {},
   "outputs": [],
   "source": [
    "saveRDS(pairs.E2G.res,\n",
    "        paste(dir.output,\"pairs.E2G.res.rds\",sep = \"/\"))\n",
    "pairs.E2G.res"
   ]
  },
  {
   "cell_type": "code",
   "execution_count": null,
   "id": "2297128a-9ed6-42b8-90c7-459969fb5afd",
   "metadata": {},
   "outputs": [],
   "source": [
    "df.output = as.data.frame(pairs.E2G.res,row.names = NULL)\n",
    "colnames(df.output)[1] = \"chr\"\n",
    "df.output[,\"CellType\"] = \"K562\"\n",
    "df.output = df.output[,c(\"chr\",\n",
    "                         \"start\",\n",
    "                         \"end\",\n",
    "                         \"TargetGene\",\n",
    "                         \"CellType\",\n",
    "                         \"beta\",\n",
    "                         \"sd\",\n",
    "                         \"z\",\n",
    "                         \"p\")]\n",
    "data.table::fwrite(df.output,\n",
    "                   file = paste(dir.output,\"pairs.E2G.res.tsv.gz\",sep = \"/\"),\n",
    "                   row.names = F,\n",
    "                   quote = F,\n",
    "                   sep = \"\\t\")\n",
    "df.output"
   ]
  },
  {
   "cell_type": "code",
   "execution_count": null,
   "id": "4d77c58e-215a-408d-8495-c68c72f559c3",
   "metadata": {},
   "outputs": [],
   "source": [
    "sessionInfo()"
   ]
  },
  {
   "cell_type": "code",
   "execution_count": null,
   "id": "3c1a0283-11d6-4df1-bbd8-7b47e9e8ead8",
   "metadata": {},
   "outputs": [],
   "source": []
  }
 ],
 "metadata": {
  "kernelspec": {
   "display_name": "R",
   "language": "R",
   "name": "ir"
  },
  "language_info": {
   "codemirror_mode": "r",
   "file_extension": ".r",
   "mimetype": "text/x-r-source",
   "name": "R",
   "pygments_lexer": "r",
   "version": "4.3.3"
  }
 },
 "nbformat": 4,
 "nbformat_minor": 5
}
