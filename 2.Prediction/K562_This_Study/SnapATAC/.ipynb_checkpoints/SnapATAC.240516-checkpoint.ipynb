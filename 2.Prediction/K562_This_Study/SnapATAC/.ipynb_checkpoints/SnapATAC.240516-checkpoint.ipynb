{
 "cells": [
  {
   "cell_type": "code",
   "execution_count": 1,
   "id": "dc89309f-ebd0-4f9c-a1f1-5d354337fd99",
   "metadata": {},
   "outputs": [
    {
     "name": "stderr",
     "output_type": "stream",
     "text": [
      "Loading required package: Matrix\n",
      "\n",
      "Loading required package: rhdf5\n",
      "\n",
      "Warning message:\n",
      "“no DISPLAY variable so Tk is not available”\n",
      "Loading required package: SeuratObject\n",
      "\n",
      "Loading required package: sp\n",
      "\n",
      "‘SeuratObject’ was built under R 4.3.2 but the current version is\n",
      "4.3.3; it is recomended that you reinstall ‘SeuratObject’ as the ABI\n",
      "for R may have changed\n",
      "\n",
      "‘SeuratObject’ was built with package ‘Matrix’ 1.6.3 but the current\n",
      "version is 1.6.5; it is recomended that you reinstall ‘SeuratObject’ as\n",
      "the ABI for ‘Matrix’ may have changed\n",
      "\n",
      "\n",
      "Attaching package: ‘SeuratObject’\n",
      "\n",
      "\n",
      "The following object is masked from ‘package:base’:\n",
      "\n",
      "    intersect\n",
      "\n",
      "\n",
      "Loading required package: grid\n",
      "\n",
      "Warning message:\n",
      "“replacing previous import ‘Biostrings::pattern’ by ‘grid::pattern’ when loading ‘genomation’”\n",
      "Loading required package: stats4\n",
      "\n",
      "Loading required package: BiocGenerics\n",
      "\n",
      "\n",
      "Attaching package: ‘BiocGenerics’\n",
      "\n",
      "\n",
      "The following object is masked from ‘package:SeuratObject’:\n",
      "\n",
      "    intersect\n",
      "\n",
      "\n",
      "The following objects are masked from ‘package:stats’:\n",
      "\n",
      "    IQR, mad, sd, var, xtabs\n",
      "\n",
      "\n",
      "The following objects are masked from ‘package:base’:\n",
      "\n",
      "    anyDuplicated, aperm, append, as.data.frame, basename, cbind,\n",
      "    colnames, dirname, do.call, duplicated, eval, evalq, Filter, Find,\n",
      "    get, grep, grepl, intersect, is.unsorted, lapply, Map, mapply,\n",
      "    match, mget, order, paste, pmax, pmax.int, pmin, pmin.int,\n",
      "    Position, rank, rbind, Reduce, rownames, sapply, setdiff, sort,\n",
      "    table, tapply, union, unique, unsplit, which.max, which.min\n",
      "\n",
      "\n",
      "Loading required package: S4Vectors\n",
      "\n",
      "\n",
      "Attaching package: ‘S4Vectors’\n",
      "\n",
      "\n",
      "The following objects are masked from ‘package:Matrix’:\n",
      "\n",
      "    expand, unname\n",
      "\n",
      "\n",
      "The following object is masked from ‘package:utils’:\n",
      "\n",
      "    findMatches\n",
      "\n",
      "\n",
      "The following objects are masked from ‘package:base’:\n",
      "\n",
      "    expand.grid, I, unname\n",
      "\n",
      "\n",
      "Loading required package: IRanges\n",
      "\n",
      "\n",
      "Attaching package: ‘IRanges’\n",
      "\n",
      "\n",
      "The following object is masked from ‘package:sp’:\n",
      "\n",
      "    %over%\n",
      "\n",
      "\n",
      "Loading required package: GenomeInfoDb\n",
      "\n"
     ]
    }
   ],
   "source": [
    "library(SnapATAC)\n",
    "library(Seurat)\n",
    "library(Signac)\n",
    "library(genomation)\n",
    "library(GenomicRanges)\n",
    "library(parallel)\n",
    "library(foreach)"
   ]
  },
  {
   "cell_type": "markdown",
   "id": "d9817830-01bd-4fe7-bee7-45b48c6d680a",
   "metadata": {},
   "source": [
    "Specify file path"
   ]
  },
  {
   "cell_type": "code",
   "execution_count": 2,
   "id": "83e2e91c-dce2-468e-826e-26a7fcd2e2e7",
   "metadata": {},
   "outputs": [],
   "source": [
    "path.pairs.E2G = \"/maps/projects/ralab_nnfc-AUDIT/people/lpm537/software/scE2G_pipeline/240508/sc-E2G/test/results_K562_Xu/K562/Kendall/Pairs.tsv.gz\"\n",
    "path.matrix.atac_count = \"/maps/projects/ralab_nnfc-AUDIT/people/lpm537/software/scE2G_pipeline/240508/sc-E2G/test/results_K562_Xu/K562/Kendall/atac_matrix.csv.gz\"\n",
    "path.matrix.rna_count = \"/maps/projects/ralab_nnfc-AUDIT/people/lpm537/project/E2G/analysis/E2G_240503/data/K562_Xu/1.prepare_data/1.seurat_pipeline.240507/rna_count_matrix.csv.gz\"\n",
    "dir.output = \"/maps/projects/ralab_nnfc-AUDIT/people/lpm537/project/E2G/analysis/E2G_240503/data/K562_Xu/3.Genome_wide_prediction/SnapATAC/SnapATAC.240516/\""
   ]
  },
  {
   "cell_type": "markdown",
   "id": "ebef0252-8532-4e6c-97c4-60ba27300877",
   "metadata": {},
   "source": [
    "Import candidate E-G pairs"
   ]
  },
  {
   "cell_type": "code",
   "execution_count": null,
   "id": "e3c47e14-f866-4d2b-934a-032c46d537f5",
   "metadata": {},
   "outputs": [],
   "source": [
    "pairs.E2G = readGeneric(path.pairs.E2G,\n",
    "                        header = T,\n",
    "                        keep.all.metadata = T)"
   ]
  },
  {
   "cell_type": "markdown",
   "id": "4b37042e-23d6-4cd8-8110-9b6a0a1b51e8",
   "metadata": {},
   "source": [
    "Import ATAC matrix"
   ]
  },
  {
   "cell_type": "code",
   "execution_count": null,
   "id": "0b752808-a40f-40fe-b92a-5c404763fe8b",
   "metadata": {},
   "outputs": [],
   "source": [
    "matrix.atac_count = read.csv(path.matrix.atac_count,\n",
    "                             row.names = 1,\n",
    "                             check.names = F)\n",
    "matrix.atac_count = Matrix(as.matrix(matrix.atac_count), sparse = TRUE)\n",
    "matrix.atac = BinarizeCounts(matrix.atac_count)\n",
    "rm(matrix.atac_count)"
   ]
  },
  {
   "cell_type": "markdown",
   "id": "deda5367-2072-4a08-8c2f-b7b1077c8964",
   "metadata": {},
   "source": [
    "Import RNA matrix"
   ]
  },
  {
   "cell_type": "code",
   "execution_count": null,
   "id": "8c3df281-40e5-4514-802e-0cb9c4178dab",
   "metadata": {},
   "outputs": [],
   "source": [
    "matrix.rna_count = read.csv(path.matrix.rna_count,\n",
    "                            row.names = 1,\n",
    "                            check.names = F)\n",
    "matrix.rna_count = Matrix(as.matrix(matrix.rna_count), sparse = TRUE)\n",
    "matrix.rna_count = matrix.rna_count[,colnames(matrix.atac)]\n",
    "matrix.rna = NormalizeData(matrix.rna_count)\n",
    "rm(matrix.rna_count)"
   ]
  },
  {
   "cell_type": "markdown",
   "id": "3e64b3ad-165a-43c0-95f0-d791726d2269",
   "metadata": {},
   "source": [
    "Run SnapATAC prediction"
   ]
  },
  {
   "cell_type": "code",
   "execution_count": null,
   "id": "ee9b9bc9-8627-4fc2-a56e-0e1e6640fb2f",
   "metadata": {},
   "outputs": [],
   "source": [
    "PredictionSnapATAC = function(pairs.E2G,\n",
    "                              data.RNA,\n",
    "                              data.ATAC,\n",
    "                              n.core = 16){\n",
    "  my.cluster <- parallel::makeCluster(\n",
    "    n.core,\n",
    "    type = \"PSOCK\"\n",
    "  )\n",
    "  doParallel::registerDoParallel(cl = my.cluster)\n",
    "  \n",
    "  pairs.E2G =  \n",
    "    foreach (index.tmp = 1:length(pairs.E2G),\n",
    "             .combine = 'c',\n",
    "             .packages = c(\"Matrix\",\n",
    "                           \"GenomicRanges\")) %dopar% {\n",
    "\n",
    "                             pairs.E2G.tmp = pairs.E2G[index.tmp]\n",
    "                             \n",
    "                             model.tmp = summary(stats::glm(data.ATAC[pairs.E2G.tmp$PeakName,] ~ data.RNA[pairs.E2G.tmp$TargetGene,], \n",
    "                                                            family = binomial(link = \"logit\")))[[\"coefficients\"]]\n",
    "                             mcols(pairs.E2G.tmp)[,c(\"beta\",\"sd\",\"z\",\"p\")] = \n",
    "                               t(data.frame(model.tmp[2,]))\n",
    "                             \n",
    "                             pairs.E2G.tmp\n",
    "                           }\n",
    "  \n",
    "  parallel::stopCluster(cl = my.cluster)\n",
    "  \n",
    "  return(pairs.E2G)\n",
    "}"
   ]
  },
  {
   "cell_type": "code",
   "execution_count": null,
   "id": "aecdf294-3f72-4e56-9f49-6df36cc6ab1d",
   "metadata": {},
   "outputs": [],
   "source": [
    "pairs.E2G.filter = pairs.E2G[pairs.E2G.filter$TargetGene %in% rownames(matrix.rna) &\n",
    "                             pairs.E2G.filter$PeakName %in% rownames(matrix.atac)]\n",
    "mcols(pairs.E2G.filter)[,c(\"beta\",\"sd\",\"z\",\"p\")] = NA\n",
    "pairs.E2G.filter"
   ]
  },
  {
   "cell_type": "code",
   "execution_count": null,
   "id": "2593bcdf-0fa6-4b5e-bb38-0e05021672e0",
   "metadata": {},
   "outputs": [],
   "source": [
    "start_time <- Sys.time()\n",
    "pairs.E2G.res = PredictionSnapATAC(pairs.E2G.filter,\n",
    "                                   matrix.rna,\n",
    "                                   matrix.atac,\n",
    "                                   16)\n",
    "end_time <- Sys.time()\n",
    "execution_time <- end_time - start_time\n",
    "execution_time"
   ]
  },
  {
   "cell_type": "markdown",
   "id": "8df0f6c8-01aa-4bd0-b9c0-6b9b42a66b5f",
   "metadata": {},
   "source": [
    "Save results"
   ]
  },
  {
   "cell_type": "code",
   "execution_count": null,
   "id": "4e4a0749-b3d9-4a4d-817d-ae0684654896",
   "metadata": {},
   "outputs": [],
   "source": [
    "dir.create(dir.output,recursive = T)\n",
    "saveRDS(pairs.E2G.res,\n",
    "        paste(dir.output,\"pairs.E2G.res.rds\",sep = \"/\"))\n",
    "pairs.E2G.res"
   ]
  },
  {
   "cell_type": "code",
   "execution_count": null,
   "id": "00a8aa6e-70fc-4c0a-add3-e501dd37f3e3",
   "metadata": {},
   "outputs": [],
   "source": [
    "df.output = as.data.frame(pairs.E2G.res)\n",
    "colnames(df.output)[1] = \"chr\"\n",
    "df.output[,\"CellType\"] = \"K562\"\n",
    "data.table::fwrite(df.output,\n",
    "                   file = paste(dir.output,\"pairs.E2G.res.tsv.gz\",sep = \"/\"),\n",
    "                   row.names = F,\n",
    "                   quote = F,\n",
    "                   sep = \"\\t\")\n",
    "df.output"
   ]
  },
  {
   "cell_type": "code",
   "execution_count": null,
   "id": "1932e7b2-e909-4df3-8097-650f387c9ea2",
   "metadata": {},
   "outputs": [],
   "source": [
    "sessionInfo()"
   ]
  },
  {
   "cell_type": "code",
   "execution_count": null,
   "id": "1c8a3e6e-6ca7-4898-93dc-a31cd9e7deab",
   "metadata": {},
   "outputs": [],
   "source": []
  }
 ],
 "metadata": {
  "kernelspec": {
   "display_name": "R",
   "language": "R",
   "name": "ir"
  },
  "language_info": {
   "codemirror_mode": "r",
   "file_extension": ".r",
   "mimetype": "text/x-r-source",
   "name": "R",
   "pygments_lexer": "r",
   "version": "4.3.3"
  }
 },
 "nbformat": 4,
 "nbformat_minor": 5
}
