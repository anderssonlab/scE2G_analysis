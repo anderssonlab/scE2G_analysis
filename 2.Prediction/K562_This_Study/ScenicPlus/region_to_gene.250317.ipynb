{
 "cells": [
  {
   "cell_type": "code",
   "execution_count": 1,
   "id": "131db1b9-2cfc-4f9f-8c22-daef4ba457fd",
   "metadata": {},
   "outputs": [
    {
     "name": "stdout",
     "output_type": "stream",
     "text": [
      "2025-03-17 18:18:02,862 SCENIC+      INFO     Reading cisTopic object.\n",
      "2025-03-17 18:18:04,259 SCENIC+      INFO     Reading gene expression AnnData.\n",
      "2025-03-17 18:18:04,777 Ingesting multiome data INFO     Found 4459 multiome cells.\n",
      "2025-03-17 18:18:04,859 cisTopic     INFO     Imputing region accessibility\n",
      "2025-03-17 18:18:04,859 cisTopic     INFO     Impute region accessibility for regions 0-20000\n",
      "2025-03-17 18:18:05,230 cisTopic     INFO     Impute region accessibility for regions 20000-40000\n",
      "2025-03-17 18:18:05,722 cisTopic     INFO     Impute region accessibility for regions 40000-60000\n",
      "2025-03-17 18:18:06,108 cisTopic     INFO     Impute region accessibility for regions 60000-80000\n",
      "2025-03-17 18:18:06,462 cisTopic     INFO     Impute region accessibility for regions 80000-100000\n",
      "2025-03-17 18:18:06,803 cisTopic     INFO     Impute region accessibility for regions 100000-120000\n",
      "2025-03-17 18:18:07,156 cisTopic     INFO     Impute region accessibility for regions 120000-140000\n",
      "2025-03-17 18:18:07,621 cisTopic     INFO     Impute region accessibility for regions 140000-160000\n",
      "2025-03-17 18:18:07,841 cisTopic     INFO     Done!\n",
      "... storing 'sample_id' as categorical\n",
      "... storing 'Chromosome' as categorical\n",
      "\u001b[0m"
     ]
    }
   ],
   "source": [
    "!scenicplus prepare_data prepare_GEX_ACC \\\n",
    "    --cisTopic_obj_fname outs/cistopic_obj.pkl \\\n",
    "    --GEX_anndata_fname adata.250317.h5ad \\\n",
    "    --out_file outs/ACC_GEX.250317.h5mu \\\n",
    "    --bc_transform_func \"lambda x: f'{x}___cisTopic'\""
   ]
  },
  {
   "cell_type": "markdown",
   "id": "8ed90f12-ab62-4d02-8886-769370174d19",
   "metadata": {},
   "source": [
    "Replace first '-' with ':' in region names"
   ]
  },
  {
   "cell_type": "code",
   "execution_count": 2,
   "id": "d6fb2954-60d8-4a31-a185-bedc0ccab689",
   "metadata": {},
   "outputs": [
    {
     "name": "stderr",
     "output_type": "stream",
     "text": [
      "/maps/projects/ralab/people/lpm537/software/anaconda3/envs/scenicplus_240606/lib/python3.11/site-packages/anndata/_core/anndata.py:522: FutureWarning: The dtype argument is deprecated and will be removed in late 2024.\n",
      "  warnings.warn(\n",
      "/maps/projects/ralab/people/lpm537/software/anaconda3/envs/scenicplus_240606/lib/python3.11/site-packages/anndata/_core/anndata.py:522: FutureWarning: The dtype argument is deprecated and will be removed in late 2024.\n",
      "  warnings.warn(\n"
     ]
    }
   ],
   "source": [
    "import mudata\n",
    "mdata = mudata.read('outs/ACC_GEX.250317.h5mu')\n",
    "mdata[\"scATAC\"].var_names = mdata[\"scATAC\"].var_names.str.replace('-', ':', n=1)\n",
    "mdata.write(\"outs/ACC_GEX.rename.250317.h5mu\")"
   ]
  },
  {
   "cell_type": "code",
   "execution_count": 3,
   "id": "9a4f9541-d111-4170-bf01-40d3c376f5ad",
   "metadata": {},
   "outputs": [
    {
     "name": "stdout",
     "output_type": "stream",
     "text": [
      "2025-03-17 18:18:57,915 SCENIC+      INFO     Reading data\n",
      "/maps/projects/ralab/people/lpm537/software/anaconda3/envs/scenicplus_240606/lib/python3.11/site-packages/anndata/_core/anndata.py:522: FutureWarning: The dtype argument is deprecated and will be removed in late 2024.\n",
      "  warnings.warn(\n",
      "/maps/projects/ralab/people/lpm537/software/anaconda3/envs/scenicplus_240606/lib/python3.11/site-packages/anndata/_core/anndata.py:522: FutureWarning: The dtype argument is deprecated and will be removed in late 2024.\n",
      "  warnings.warn(\n",
      "2025-03-17 18:19:07,845 Get search space INFO     Extending promoter annotation to 10 bp upstream and 10 downstream\n",
      "2025-03-17 18:19:08,024 Get search space INFO     Extending search space to:\n",
      "            \t\t\t\t\t\t1000000 bp downstream of the end of the gene.\n",
      "            \t\t\t\t\t\t1000000 bp upstream of the start of the gene.\n",
      "2025-03-17 18:19:08,823 Get search space INFO     Intersecting with regions.\n",
      "2025-03-17 18:19:13,025 Get search space INFO     Calculating distances from region to gene\n",
      "2025-03-17 18:22:07,209 Get search space INFO     Imploding multiple entries per region and gene\n",
      "2025-03-17 18:28:01,914 SCENIC+      INFO     Writing search space to: outs/search_space.1000000.250317.tsv\n",
      "\u001b[0m"
     ]
    }
   ],
   "source": [
    "!scenicplus prepare_data search_spance \\\n",
    "    --multiome_mudata_fname outs/ACC_GEX.rename.h5mu \\\n",
    "    --gene_annotation_fname /maps/projects/ralab_nnfc-AUDIT/people/lpm537/software/scenicplus_240606/genome_annotation.abc.tsv \\\n",
    "    --chromsizes_fname /maps/projects/ralab_nnfc-AUDIT/people/lpm537/software/scenicplus_240606/chromsizes.tsv\\\n",
    "    --out_fname outs/search_space.1000000.250317.tsv\\\n",
    "    --upstream 1000 1000000 \\\n",
    "    --downstream 1000 1000000\\\n",
    "    --extend_tss 10 10"
   ]
  },
  {
   "cell_type": "code",
   "execution_count": 4,
   "id": "223f9126-94e0-4e18-8296-f7155d6a8702",
   "metadata": {},
   "outputs": [],
   "source": [
    "!mkdir -p temp_dir"
   ]
  },
  {
   "cell_type": "code",
   "execution_count": 5,
   "id": "a946a47a-e267-45b8-aaf0-5ae36097977c",
   "metadata": {},
   "outputs": [
    {
     "name": "stdout",
     "output_type": "stream",
     "text": [
      "2025-03-17 18:28:23,802 SCENIC+      INFO     Reading multiome MuData.\n",
      "/maps/projects/ralab/people/lpm537/software/anaconda3/envs/scenicplus_240606/lib/python3.11/site-packages/anndata/_core/anndata.py:522: FutureWarning: The dtype argument is deprecated and will be removed in late 2024.\n",
      "  warnings.warn(\n",
      "/maps/projects/ralab/people/lpm537/software/anaconda3/envs/scenicplus_240606/lib/python3.11/site-packages/anndata/_core/anndata.py:522: FutureWarning: The dtype argument is deprecated and will be removed in late 2024.\n",
      "  warnings.warn(\n",
      "2025-03-17 18:28:29,038 SCENIC+      INFO     Reading search space\n",
      "2025-03-17 18:28:31,160 R2G          INFO     Calculating region to gene importances, using GBM method\n",
      "Running using 16 cores: 100%|█████████████| 17726/17726 [45:56<00:00,  6.43it/s]\n",
      "2025-03-17 19:16:18,800 R2G          INFO     Calculating region to gene correlation, using SR method\n",
      "Running using 16 cores:   0%|               | 32/17726 [00:00<01:29, 198.47it/s]/maps/projects/ralab/people/lpm537/software/anaconda3/envs/scenicplus_240606/lib/python3.11/site-packages/scenicplus/enhancer_to_gene.py:158: ConstantInputWarning: An input array is constant; the correlation coefficient is not defined.\n",
      "  correlation_result = np.array([correlator(x, exp) for x in acc.T])\n",
      "/maps/projects/ralab/people/lpm537/software/anaconda3/envs/scenicplus_240606/lib/python3.11/site-packages/scenicplus/enhancer_to_gene.py:158: ConstantInputWarning: An input array is constant; the correlation coefficient is not defined.\n",
      "  correlation_result = np.array([correlator(x, exp) for x in acc.T])\n",
      "/maps/projects/ralab/people/lpm537/software/anaconda3/envs/scenicplus_240606/lib/python3.11/site-packages/scenicplus/enhancer_to_gene.py:158: ConstantInputWarning: An input array is constant; the correlation coefficient is not defined.\n",
      "  correlation_result = np.array([correlator(x, exp) for x in acc.T])\n",
      "Running using 16 cores:   2%|▏              | 295/17726 [00:06<08:30, 34.14it/s]/maps/projects/ralab/people/lpm537/software/anaconda3/envs/scenicplus_240606/lib/python3.11/site-packages/scenicplus/enhancer_to_gene.py:158: ConstantInputWarning: An input array is constant; the correlation coefficient is not defined.\n",
      "  correlation_result = np.array([correlator(x, exp) for x in acc.T])\n",
      "Running using 16 cores:   2%|▎              | 352/17726 [00:08<08:34, 33.76it/s]/maps/projects/ralab/people/lpm537/software/anaconda3/envs/scenicplus_240606/lib/python3.11/site-packages/scenicplus/enhancer_to_gene.py:158: ConstantInputWarning: An input array is constant; the correlation coefficient is not defined.\n",
      "  correlation_result = np.array([correlator(x, exp) for x in acc.T])\n",
      "/maps/projects/ralab/people/lpm537/software/anaconda3/envs/scenicplus_240606/lib/python3.11/site-packages/scenicplus/enhancer_to_gene.py:158: ConstantInputWarning: An input array is constant; the correlation coefficient is not defined.\n",
      "  correlation_result = np.array([correlator(x, exp) for x in acc.T])\n",
      "/maps/projects/ralab/people/lpm537/software/anaconda3/envs/scenicplus_240606/lib/python3.11/site-packages/scenicplus/enhancer_to_gene.py:158: ConstantInputWarning: An input array is constant; the correlation coefficient is not defined.\n",
      "  correlation_result = np.array([correlator(x, exp) for x in acc.T])\n",
      "Running using 16 cores:   2%|▎              | 414/17726 [00:09<06:04, 47.47it/s]/maps/projects/ralab/people/lpm537/software/anaconda3/envs/scenicplus_240606/lib/python3.11/site-packages/scenicplus/enhancer_to_gene.py:158: ConstantInputWarning: An input array is constant; the correlation coefficient is not defined.\n",
      "  correlation_result = np.array([correlator(x, exp) for x in acc.T])\n",
      "Running using 16 cores:   3%|▍              | 528/17726 [00:14<09:07, 31.39it/s]/maps/projects/ralab/people/lpm537/software/anaconda3/envs/scenicplus_240606/lib/python3.11/site-packages/scenicplus/enhancer_to_gene.py:158: ConstantInputWarning: An input array is constant; the correlation coefficient is not defined.\n",
      "  correlation_result = np.array([correlator(x, exp) for x in acc.T])\n",
      "Running using 16 cores:   3%|▍              | 576/17726 [00:15<08:27, 33.79it/s]/maps/projects/ralab/people/lpm537/software/anaconda3/envs/scenicplus_240606/lib/python3.11/site-packages/scenicplus/enhancer_to_gene.py:158: ConstantInputWarning: An input array is constant; the correlation coefficient is not defined.\n",
      "  correlation_result = np.array([correlator(x, exp) for x in acc.T])\n",
      "Running using 16 cores:   4%|▌              | 624/17726 [00:17<08:24, 33.87it/s]/maps/projects/ralab/people/lpm537/software/anaconda3/envs/scenicplus_240606/lib/python3.11/site-packages/scenicplus/enhancer_to_gene.py:158: ConstantInputWarning: An input array is constant; the correlation coefficient is not defined.\n",
      "  correlation_result = np.array([correlator(x, exp) for x in acc.T])\n",
      "Running using 16 cores:   5%|▋              | 800/17726 [00:22<08:17, 34.03it/s]/maps/projects/ralab/people/lpm537/software/anaconda3/envs/scenicplus_240606/lib/python3.11/site-packages/scenicplus/enhancer_to_gene.py:158: ConstantInputWarning: An input array is constant; the correlation coefficient is not defined.\n",
      "  correlation_result = np.array([correlator(x, exp) for x in acc.T])\n",
      "Running using 16 cores:   6%|▊             | 1056/17726 [00:29<08:48, 31.57it/s]/maps/projects/ralab/people/lpm537/software/anaconda3/envs/scenicplus_240606/lib/python3.11/site-packages/scenicplus/enhancer_to_gene.py:158: ConstantInputWarning: An input array is constant; the correlation coefficient is not defined.\n",
      "  correlation_result = np.array([correlator(x, exp) for x in acc.T])\n",
      "Running using 16 cores:   7%|▉             | 1264/17726 [00:36<08:59, 30.49it/s]/maps/projects/ralab/people/lpm537/software/anaconda3/envs/scenicplus_240606/lib/python3.11/site-packages/scenicplus/enhancer_to_gene.py:158: ConstantInputWarning: An input array is constant; the correlation coefficient is not defined.\n",
      "  correlation_result = np.array([correlator(x, exp) for x in acc.T])\n",
      "Running using 16 cores:   8%|█▏            | 1440/17726 [00:45<08:41, 31.25it/s]/maps/projects/ralab/people/lpm537/software/anaconda3/envs/scenicplus_240606/lib/python3.11/site-packages/scenicplus/enhancer_to_gene.py:158: ConstantInputWarning: An input array is constant; the correlation coefficient is not defined.\n",
      "  correlation_result = np.array([correlator(x, exp) for x in acc.T])\n",
      "Running using 16 cores:   8%|█▏            | 1504/17726 [00:47<07:45, 34.85it/s]/maps/projects/ralab/people/lpm537/software/anaconda3/envs/scenicplus_240606/lib/python3.11/site-packages/scenicplus/enhancer_to_gene.py:158: ConstantInputWarning: An input array is constant; the correlation coefficient is not defined.\n",
      "  correlation_result = np.array([correlator(x, exp) for x in acc.T])\n",
      "Running using 16 cores: 100%|█████████████| 17726/17726 [09:32<00:00, 30.94it/s]\n",
      "2025-03-17 19:27:31,231 R2G          INFO     Done!\n",
      "2025-03-17 19:27:31,467 SCENIC+      INFO     Saving region to gene adjacencies to outs/region_to_gene_adj.1000000.250317.tsv\n",
      "\u001b[0m\u001b[0m\u001b[0m\u001b[0m\u001b[0m\u001b[0m\u001b[0m\u001b[0m\u001b[0m\u001b[0m\u001b[0m\u001b[0m\u001b[0m\u001b[0m\u001b[0m\u001b[0m\u001b[0m"
     ]
    }
   ],
   "source": [
    "!scenicplus grn_inference region_to_gene \\\n",
    "    --multiome_mudata_fname outs/ACC_GEX.rename.250317.h5mu \\\n",
    "    --search_space_fname outs/search_space.1000000.250317.tsv \\\n",
    "    --out_region_to_gene_adjacencies outs/region_to_gene_adj.1000000.250317.tsv \\\n",
    "    --importance_scoring_method GBM \\\n",
    "    --correlation_scoring_method SR \\\n",
    "    --n_cpu 16 \\\n",
    "    --temp_dir temp_dir"
   ]
  },
  {
   "cell_type": "markdown",
   "id": "54172aa1-ed6f-43b9-9e52-ef9cd94c3299",
   "metadata": {},
   "source": [
    "Using default TSS distance = 150000 setting"
   ]
  },
  {
   "cell_type": "code",
   "execution_count": 6,
   "id": "8b6f74a9-9103-4fd0-b193-56fa359b3378",
   "metadata": {},
   "outputs": [
    {
     "name": "stdout",
     "output_type": "stream",
     "text": [
      "2025-03-17 19:28:07,530 SCENIC+      INFO     Reading data\n",
      "/maps/projects/ralab/people/lpm537/software/anaconda3/envs/scenicplus_240606/lib/python3.11/site-packages/anndata/_core/anndata.py:522: FutureWarning: The dtype argument is deprecated and will be removed in late 2024.\n",
      "  warnings.warn(\n",
      "/maps/projects/ralab/people/lpm537/software/anaconda3/envs/scenicplus_240606/lib/python3.11/site-packages/anndata/_core/anndata.py:522: FutureWarning: The dtype argument is deprecated and will be removed in late 2024.\n",
      "  warnings.warn(\n",
      "2025-03-17 19:28:13,162 Get search space INFO     Extending promoter annotation to 10 bp upstream and 10 downstream\n",
      "2025-03-17 19:28:13,370 Get search space INFO     Extending search space to:\n",
      "            \t\t\t\t\t\t150000 bp downstream of the end of the gene.\n",
      "            \t\t\t\t\t\t150000 bp upstream of the start of the gene.\n",
      "2025-03-17 19:28:14,184 Get search space INFO     Intersecting with regions.\n",
      "2025-03-17 19:28:15,188 Get search space INFO     Calculating distances from region to gene\n",
      "2025-03-17 19:28:51,488 Get search space INFO     Imploding multiple entries per region and gene\n",
      "2025-03-17 19:29:59,597 SCENIC+      INFO     Writing search space to: outs/search_space.150000.250317.tsv\n",
      "\u001b[0m"
     ]
    }
   ],
   "source": [
    "!scenicplus prepare_data search_spance \\\n",
    "    --multiome_mudata_fname outs/ACC_GEX.rename.250317.h5mu \\\n",
    "    --gene_annotation_fname /maps/projects/ralab_nnfc-AUDIT/people/lpm537/software/scenicplus_240606/genome_annotation.abc.tsv \\\n",
    "    --chromsizes_fname /maps/projects/ralab_nnfc-AUDIT/people/lpm537/software/scenicplus_240606/chromsizes.tsv\\\n",
    "    --out_fname outs/search_space.150000.250317.tsv\\\n",
    "    --upstream 1000 150000 \\\n",
    "    --downstream 1000 150000\\\n",
    "    --extend_tss 10 10"
   ]
  },
  {
   "cell_type": "code",
   "execution_count": 7,
   "id": "f6b5384e-1990-4eb9-b82c-c5808be5be8c",
   "metadata": {},
   "outputs": [
    {
     "name": "stdout",
     "output_type": "stream",
     "text": [
      "2025-03-17 19:30:14,698 SCENIC+      INFO     Reading multiome MuData.\n",
      "/maps/projects/ralab/people/lpm537/software/anaconda3/envs/scenicplus_240606/lib/python3.11/site-packages/anndata/_core/anndata.py:522: FutureWarning: The dtype argument is deprecated and will be removed in late 2024.\n",
      "  warnings.warn(\n",
      "/maps/projects/ralab/people/lpm537/software/anaconda3/envs/scenicplus_240606/lib/python3.11/site-packages/anndata/_core/anndata.py:522: FutureWarning: The dtype argument is deprecated and will be removed in late 2024.\n",
      "  warnings.warn(\n",
      "2025-03-17 19:30:18,061 SCENIC+      INFO     Reading search space\n",
      "2025-03-17 19:30:18,397 R2G          INFO     Calculating region to gene importances, using GBM method\n",
      "Running using 16 cores: 100%|█████████████| 18250/18250 [13:10<00:00, 23.09it/s]\n",
      "2025-03-17 19:43:47,671 R2G          INFO     Calculating region to gene correlation, using SR method\n",
      "Running using 16 cores:   0%|                         | 0/18250 [00:00<?, ?it/s]/maps/projects/ralab/people/lpm537/software/anaconda3/envs/scenicplus_240606/lib/python3.11/site-packages/scenicplus/enhancer_to_gene.py:158: ConstantInputWarning: An input array is constant; the correlation coefficient is not defined.\n",
      "  correlation_result = np.array([correlator(x, exp) for x in acc.T])\n",
      "/maps/projects/ralab/people/lpm537/software/anaconda3/envs/scenicplus_240606/lib/python3.11/site-packages/scenicplus/enhancer_to_gene.py:158: ConstantInputWarning: An input array is constant; the correlation coefficient is not defined.\n",
      "  correlation_result = np.array([correlator(x, exp) for x in acc.T])\n",
      "/maps/projects/ralab/people/lpm537/software/anaconda3/envs/scenicplus_240606/lib/python3.11/site-packages/scenicplus/enhancer_to_gene.py:158: ConstantInputWarning: An input array is constant; the correlation coefficient is not defined.\n",
      "  correlation_result = np.array([correlator(x, exp) for x in acc.T])\n",
      "Running using 16 cores:   2%|▏             | 288/18250 [00:00<01:03, 283.80it/s]/maps/projects/ralab/people/lpm537/software/anaconda3/envs/scenicplus_240606/lib/python3.11/site-packages/scenicplus/enhancer_to_gene.py:158: ConstantInputWarning: An input array is constant; the correlation coefficient is not defined.\n",
      "  correlation_result = np.array([correlator(x, exp) for x in acc.T])\n",
      "Running using 16 cores:   2%|▎             | 352/18250 [00:01<00:57, 313.81it/s]/maps/projects/ralab/people/lpm537/software/anaconda3/envs/scenicplus_240606/lib/python3.11/site-packages/scenicplus/enhancer_to_gene.py:158: ConstantInputWarning: An input array is constant; the correlation coefficient is not defined.\n",
      "  correlation_result = np.array([correlator(x, exp) for x in acc.T])\n",
      "/maps/projects/ralab/people/lpm537/software/anaconda3/envs/scenicplus_240606/lib/python3.11/site-packages/scenicplus/enhancer_to_gene.py:158: ConstantInputWarning: An input array is constant; the correlation coefficient is not defined.\n",
      "  correlation_result = np.array([correlator(x, exp) for x in acc.T])\n",
      "Running using 16 cores:   2%|▎             | 416/18250 [00:01<00:54, 324.30it/s]/maps/projects/ralab/people/lpm537/software/anaconda3/envs/scenicplus_240606/lib/python3.11/site-packages/scenicplus/enhancer_to_gene.py:158: ConstantInputWarning: An input array is constant; the correlation coefficient is not defined.\n",
      "  correlation_result = np.array([correlator(x, exp) for x in acc.T])\n",
      "/maps/projects/ralab/people/lpm537/software/anaconda3/envs/scenicplus_240606/lib/python3.11/site-packages/scenicplus/enhancer_to_gene.py:158: ConstantInputWarning: An input array is constant; the correlation coefficient is not defined.\n",
      "  correlation_result = np.array([correlator(x, exp) for x in acc.T])\n",
      "/maps/projects/ralab/people/lpm537/software/anaconda3/envs/scenicplus_240606/lib/python3.11/site-packages/scenicplus/enhancer_to_gene.py:158: ConstantInputWarning: An input array is constant; the correlation coefficient is not defined.\n",
      "  correlation_result = np.array([correlator(x, exp) for x in acc.T])\n",
      "Running using 16 cores:   3%|▍             | 544/18250 [00:01<01:10, 250.91it/s]/maps/projects/ralab/people/lpm537/software/anaconda3/envs/scenicplus_240606/lib/python3.11/site-packages/scenicplus/enhancer_to_gene.py:158: ConstantInputWarning: An input array is constant; the correlation coefficient is not defined.\n",
      "  correlation_result = np.array([correlator(x, exp) for x in acc.T])\n",
      "Running using 16 cores:   4%|▌             | 736/18250 [00:02<01:00, 290.33it/s]/maps/projects/ralab/people/lpm537/software/anaconda3/envs/scenicplus_240606/lib/python3.11/site-packages/scenicplus/enhancer_to_gene.py:158: ConstantInputWarning: An input array is constant; the correlation coefficient is not defined.\n",
      "  correlation_result = np.array([correlator(x, exp) for x in acc.T])\n",
      "/maps/projects/ralab/people/lpm537/software/anaconda3/envs/scenicplus_240606/lib/python3.11/site-packages/scenicplus/enhancer_to_gene.py:158: ConstantInputWarning: An input array is constant; the correlation coefficient is not defined.\n",
      "  correlation_result = np.array([correlator(x, exp) for x in acc.T])\n",
      "Running using 16 cores:   6%|▊            | 1120/18250 [00:03<01:03, 270.97it/s]/maps/projects/ralab/people/lpm537/software/anaconda3/envs/scenicplus_240606/lib/python3.11/site-packages/scenicplus/enhancer_to_gene.py:158: ConstantInputWarning: An input array is constant; the correlation coefficient is not defined.\n",
      "  correlation_result = np.array([correlator(x, exp) for x in acc.T])\n",
      "Running using 16 cores:   7%|▉            | 1312/18250 [00:04<01:16, 222.60it/s]/maps/projects/ralab/people/lpm537/software/anaconda3/envs/scenicplus_240606/lib/python3.11/site-packages/scenicplus/enhancer_to_gene.py:158: ConstantInputWarning: An input array is constant; the correlation coefficient is not defined.\n",
      "  correlation_result = np.array([correlator(x, exp) for x in acc.T])\n",
      "Running using 16 cores:   8%|█            | 1504/18250 [00:05<01:14, 224.02it/s]/maps/projects/ralab/people/lpm537/software/anaconda3/envs/scenicplus_240606/lib/python3.11/site-packages/scenicplus/enhancer_to_gene.py:158: ConstantInputWarning: An input array is constant; the correlation coefficient is not defined.\n",
      "  correlation_result = np.array([correlator(x, exp) for x in acc.T])\n",
      "Running using 16 cores:  11%|█▍           | 2016/18250 [00:08<01:09, 232.44it/s]/maps/projects/ralab/people/lpm537/software/anaconda3/envs/scenicplus_240606/lib/python3.11/site-packages/scenicplus/enhancer_to_gene.py:158: ConstantInputWarning: An input array is constant; the correlation coefficient is not defined.\n",
      "  correlation_result = np.array([correlator(x, exp) for x in acc.T])\n",
      "Running using 16 cores: 100%|████████████| 18250/18250 [01:11<00:00, 254.47it/s]\n",
      "2025-03-17 19:45:29,710 R2G          INFO     Done!\n",
      "2025-03-17 19:45:29,864 SCENIC+      INFO     Saving region to gene adjacencies to outs/region_to_gene_adj.150000.250317.tsv\n",
      "\u001b[0m\u001b[0m\u001b[0m\u001b[0m\u001b[0m\u001b[0m\u001b[0m\u001b[0m\u001b[0m\u001b[0m\u001b[0m\u001b[0m\u001b[0m\u001b[0m\u001b[0m\u001b[0m\u001b[0m"
     ]
    }
   ],
   "source": [
    "!scenicplus grn_inference region_to_gene \\\n",
    "    --multiome_mudata_fname outs/ACC_GEX.rename.250317.h5mu \\\n",
    "    --search_space_fname outs/search_space.150000.250317.tsv \\\n",
    "    --out_region_to_gene_adjacencies outs/region_to_gene_adj.150000.250317.tsv \\\n",
    "    --importance_scoring_method GBM \\\n",
    "    --correlation_scoring_method SR \\\n",
    "    --n_cpu 16 \\\n",
    "    --temp_dir temp_dir"
   ]
  }
 ],
 "metadata": {
  "kernelspec": {
   "display_name": "Python 3 (ipykernel)",
   "language": "python",
   "name": "python3"
  },
  "language_info": {
   "codemirror_mode": {
    "name": "ipython",
    "version": 3
   },
   "file_extension": ".py",
   "mimetype": "text/x-python",
   "name": "python",
   "nbconvert_exporter": "python",
   "pygments_lexer": "ipython3",
   "version": "3.11.8"
  }
 },
 "nbformat": 4,
 "nbformat_minor": 5
}
