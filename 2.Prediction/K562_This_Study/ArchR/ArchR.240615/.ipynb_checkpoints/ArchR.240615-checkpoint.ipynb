{
 "cells": [
  {
   "cell_type": "code",
   "execution_count": 1,
   "id": "c8466b35-cae5-4f62-8138-37b2de484a74",
   "metadata": {},
   "outputs": [
    {
     "name": "stderr",
     "output_type": "stream",
     "text": [
      "\n",
      "                                                   / |\n",
      "                                                 /    \\\n",
      "            .                                  /      |.\n",
      "            \\\\\\                              /        |.\n",
      "              \\\\\\                          /           `|.\n",
      "                \\\\\\                      /              |.\n",
      "                  \\                    /                |\\\n",
      "                  \\\\#####\\           /                  ||\n",
      "                ==###########>      /                   ||\n",
      "                 \\\\##==......\\    /                     ||\n",
      "            ______ =       =|__ /__                     ||      \\\\\\\n",
      "        ,--' ,----`-,__ ___/'  --,-`-===================##========>\n",
      "       \\               '        ##_______ _____ ,--,__,=##,__   ///\n",
      "        ,    __==    ___,-,__,--'#'  ==='      `-'    | ##,-/\n",
      "        -,____,---'       \\\\####\\\\________________,--\\\\_##,/\n",
      "           ___      .______        ______  __    __  .______      \n",
      "          /   \\     |   _  \\      /      ||  |  |  | |   _  \\     \n",
      "         /  ^  \\    |  |_)  |    |  ,----'|  |__|  | |  |_)  |    \n",
      "        /  /_\\  \\   |      /     |  |     |   __   | |      /     \n",
      "       /  _____  \\  |  |\\  \\\\___ |  `----.|  |  |  | |  |\\  \\\\___.\n",
      "      /__/     \\__\\ | _| `._____| \\______||__|  |__| | _| `._____|\n",
      "    \n",
      "\n",
      "ArchR : Version 1.0.2\n",
      "For more information see our website : www.ArchRProject.com\n",
      "If you encounter a bug please report : https://github.com/GreenleafLab/ArchR/issues\n",
      "\n",
      "Loading Required Packages...\n",
      "\n",
      "\tLoading Package : grid v4.3.3\n",
      "\n",
      "\tLoading Package : gridExtra v2.3\n",
      "\n",
      "\tLoading Package : gtools v3.9.5\n",
      "\n",
      "\tLoading Package : gtable v0.3.5\n",
      "\n",
      "\tLoading Package : ggplot2 v3.5.1\n",
      "\n",
      "\tLoading Package : magrittr v2.0.3\n",
      "\n",
      "\tLoading Package : plyr v1.8.9\n",
      "\n",
      "\tLoading Package : stringr v1.5.1\n",
      "\n",
      "\tLoading Package : data.table v1.15.2\n",
      "\n",
      "\tLoading Package : matrixStats v1.3.0\n",
      "\n",
      "\tLoading Package : S4Vectors v0.40.2\n",
      "\n",
      "\tLoading Package : GenomicRanges v1.54.1\n",
      "\n",
      "\tLoading Package : BiocGenerics v0.48.1\n",
      "\n",
      "\tLoading Package : Matrix v1.6.5\n",
      "\n",
      "\tLoading Package : Rcpp v1.0.12\n",
      "\n",
      "\tLoading Package : SummarizedExperiment v1.30.2\n",
      "\n",
      "\tLoading Package : rhdf5 v2.44.0\n",
      "\n",
      "Loading required package: SeuratObject\n",
      "\n",
      "Loading required package: sp\n",
      "\n",
      "\n",
      "Attaching package: ‘sp’\n",
      "\n",
      "\n",
      "The following object is masked from ‘package:IRanges’:\n",
      "\n",
      "    %over%\n",
      "\n",
      "\n",
      "‘SeuratObject’ was built under R 4.3.2 but the current version is\n",
      "4.3.3; it is recomended that you reinstall ‘SeuratObject’ as the ABI\n",
      "for R may have changed\n",
      "\n",
      "‘SeuratObject’ was built with package ‘Matrix’ 1.6.3 but the current\n",
      "version is 1.6.5; it is recomended that you reinstall ‘SeuratObject’ as\n",
      "the ABI for ‘Matrix’ may have changed\n",
      "\n",
      "\n",
      "Attaching package: ‘SeuratObject’\n",
      "\n",
      "\n",
      "The following object is masked from ‘package:SummarizedExperiment’:\n",
      "\n",
      "    Assays\n",
      "\n",
      "\n",
      "The following object is masked from ‘package:GenomicRanges’:\n",
      "\n",
      "    intersect\n",
      "\n",
      "\n",
      "The following object is masked from ‘package:GenomeInfoDb’:\n",
      "\n",
      "    intersect\n",
      "\n",
      "\n",
      "The following object is masked from ‘package:IRanges’:\n",
      "\n",
      "    intersect\n",
      "\n",
      "\n",
      "The following object is masked from ‘package:S4Vectors’:\n",
      "\n",
      "    intersect\n",
      "\n",
      "\n",
      "The following object is masked from ‘package:BiocGenerics’:\n",
      "\n",
      "    intersect\n",
      "\n",
      "\n",
      "The following object is masked from ‘package:base’:\n",
      "\n",
      "    intersect\n",
      "\n",
      "\n",
      "\n",
      "Attaching package: ‘Seurat’\n",
      "\n",
      "\n",
      "The following object is masked from ‘package:SummarizedExperiment’:\n",
      "\n",
      "    Assays\n",
      "\n",
      "\n",
      "Warning message:\n",
      "“replacing previous import ‘Biostrings::pattern’ by ‘grid::pattern’ when loading ‘genomation’”\n"
     ]
    }
   ],
   "source": [
    "library(ArchR)\n",
    "library(Seurat)\n",
    "library(Signac)\n",
    "library(magrittr)\n",
    "library(genomation)\n",
    "library(GenomicRanges)\n",
    "library(Matrix)\n",
    "library(ggplot2)"
   ]
  },
  {
   "cell_type": "markdown",
   "id": "e85020d7-d358-492d-9358-c81270f4b624",
   "metadata": {},
   "source": [
    "Specify file path"
   ]
  },
  {
   "cell_type": "code",
   "execution_count": 2,
   "id": "1bec6690-52ec-450d-bba7-7d4528a185cd",
   "metadata": {},
   "outputs": [],
   "source": [
    "path.seurat = \"/maps/projects/ralab_nnfc-AUDIT/people/lpm537/project/E2G/analysis/E2G_240503/data/K562_IGVF/1.prepare_data/1.import_IGVF_processed_data.240508/obj.seurat.rds\"\n",
    "path.pairs.E2G = \"/maps/projects/ralab_nnfc-AUDIT/people/lpm537/software/scE2G_pipeline/240508/sc-E2G/test/results_K562_IGVF/K562/Kendall/Pairs.tsv.gz\"\n",
    "dir.output = \"/maps/projects/ralab_nnfc-AUDIT/people/lpm537/project/E2G/analysis/E2G_240503/data/K562_IGVF/3.Genome_wide_prediction/ArchR/ArchR.240527/\""
   ]
  },
  {
   "cell_type": "code",
   "execution_count": 3,
   "id": "340dac32-44ac-4231-b964-b5f3b9e2dbde",
   "metadata": {},
   "outputs": [],
   "source": [
    "n.cores = 16\n",
    "maxDist = 1000000"
   ]
  },
  {
   "cell_type": "code",
   "execution_count": 4,
   "id": "da973385-4c81-4b1c-9669-cf5933b23a39",
   "metadata": {},
   "outputs": [
    {
     "name": "stderr",
     "output_type": "stream",
     "text": [
      "Setting default number of Parallel threads to 16.\n",
      "\n",
      "Setting default genome to Hg38.\n",
      "\n"
     ]
    }
   ],
   "source": [
    "addArchRThreads(threads = n.cores) \n",
    "addArchRGenome(\"hg38\")"
   ]
  },
  {
   "cell_type": "markdown",
   "id": "eeb26496-d3b9-4778-92ed-9c63a5018aef",
   "metadata": {},
   "source": [
    "Import seurat object"
   ]
  },
  {
   "cell_type": "code",
   "execution_count": 5,
   "id": "c9b19a09-be95-4d9a-bdc3-0530980d4757",
   "metadata": {},
   "outputs": [],
   "source": [
    "obj.seurat = readRDS(path.seurat)"
   ]
  },
  {
   "cell_type": "markdown",
   "id": "86be3e66-c954-4620-9e64-c6a1c0fcb84c",
   "metadata": {},
   "source": [
    "Import candidate E-G pairs"
   ]
  },
  {
   "cell_type": "code",
   "execution_count": 6,
   "id": "6f363969-bf0b-45ce-858c-a8cb64cc210a",
   "metadata": {},
   "outputs": [],
   "source": [
    "pairs.E2G = readGeneric(path.pairs.E2G,\n",
    "                        header = T,\n",
    "                        keep.all.metadata = T)"
   ]
  },
  {
   "cell_type": "markdown",
   "id": "3538ffdc-4fed-48eb-9c9d-86805a91cf06",
   "metadata": {},
   "source": [
    "Create an ArchRProject"
   ]
  },
  {
   "cell_type": "code",
   "execution_count": 7,
   "id": "0300f485-fafa-4cef-b9d0-534108ec6f95",
   "metadata": {},
   "outputs": [
    {
     "name": "stdout",
     "output_type": "stream",
     "text": [
      "List of 2\n",
      " $ :Formal class 'Fragment' [package \"Signac\"] with 3 slots\n",
      "  .. ..@ path : chr \"/maps/projects/ralab_nnfc-AUDIT/people/lpm537/project/E2G/processed/IGVF_240503/230707_IGVF10_McGinnis/ATAC/CEL\"| __truncated__\n",
      "  .. ..@ hash : chr [1:2] \"c69fb4ea81ca5efb0834a597ffe6e12c\" \"abb247b297226d16f586a20ae0771d0a\"\n",
      "  .. ..@ cells: Named chr [1:2723] \"AAACCAGGTCACAGGG-1\" \"AAACCGCCAAGGAATA-1\" \"AAACCGCCAGCCGGTA-1\" \"AAACCGGTCAAGGAAG-1\" ...\n",
      "  .. .. ..- attr(*, \"names\")= chr [1:2723] \"e10l1_AAACCAGGTCACAGGG-1\" \"e10l1_AAACCGCCAAGGAATA-1\" \"e10l1_AAACCGCCAGCCGGTA-1\" \"e10l1_AAACCGGTCAAGGAAG-1\" ...\n",
      " $ :Formal class 'Fragment' [package \"Signac\"] with 3 slots\n",
      "  .. ..@ path : chr \"/maps/projects/ralab_nnfc-AUDIT/people/lpm537/project/E2G/processed/IGVF_240503/230707_IGVF10_McGinnis/ATAC/CEL\"| __truncated__\n",
      "  .. ..@ hash : chr [1:2] \"2f8b867830dcf7eb020d0be82d029441\" \"dcdf4989f54c370141b644b44292d116\"\n",
      "  .. ..@ cells: Named chr [1:3543] \"AAACAAGCATGAGGGA-1\" \"AAACGAACAACGTGGT-1\" \"AAACGAACATCAATCC-1\" \"AAACGGGCATTTCGCG-1\" ...\n",
      "  .. .. ..- attr(*, \"names\")= chr [1:3543] \"e10l2_AAACAAGCATGAGGGA-1\" \"e10l2_AAACGAACAACGTGGT-1\" \"e10l2_AAACGAACATCAATCC-1\" \"e10l2_AAACGGGCATTTCGCG-1\" ...\n"
     ]
    }
   ],
   "source": [
    "str(Fragments(obj.seurat))"
   ]
  },
  {
   "cell_type": "code",
   "execution_count": 13,
   "id": "1753ffaa-89e2-43bf-bcf6-19937782d63a",
   "metadata": {},
   "outputs": [
    {
     "name": "stderr",
     "output_type": "stream",
     "text": [
      "Using GeneAnnotation set by addArchRGenome(Hg38)!\n",
      "\n",
      "Using GeneAnnotation set by addArchRGenome(Hg38)!\n",
      "\n",
      "ArchR logging to : ArchRLogs/ArchR-createArrows-3bfa66490e3418-Date-2024-05-28_Time-18-48-40.121602.log\n",
      "If there is an issue, please report to github with logFile!\n",
      "\n",
      "Cleaning Temporary Files\n",
      "\n",
      "2024-05-28 18:48:42.247821 : Batch Execution w/ safelapply!, 0 mins elapsed.\n",
      "\n",
      "ArchR logging successful to : ArchRLogs/ArchR-createArrows-3bfa66490e3418-Date-2024-05-28_Time-18-48-40.121602.log\n",
      "\n"
     ]
    }
   ],
   "source": [
    "ArrowFiles <- createArrowFiles(\n",
    "  inputFiles = c(Fragments(obj.seurat)[[1]]@path,\n",
    "                Fragments(obj.seurat)[[2]]@path),\n",
    "  sampleNames = c(\"e10l1\",\n",
    "                  \"e10l2\"),\n",
    "  validBarcodes = list(e10l1 = unname(Fragments(obj.seurat)[[1]]@cells),\n",
    "                       e10l2 = unname(Fragments(obj.seurat)[[2]]@cells)),\n",
    "  addTileMat = T,\n",
    "  addGeneScoreMat = F,\n",
    "  force = T\n",
    ")"
   ]
  },
  {
   "cell_type": "code",
   "execution_count": 14,
   "id": "ada3db45-d050-4659-a7cf-2891e04b1249",
   "metadata": {},
   "outputs": [
    {
     "data": {
      "text/html": [
       "<style>\n",
       ".list-inline {list-style: none; margin:0; padding: 0}\n",
       ".list-inline>li {display: inline-block}\n",
       ".list-inline>li:not(:last-child)::after {content: \"\\00b7\"; padding: 0 .5ex}\n",
       "</style>\n",
       "<ol class=list-inline><li>'e10l2.arrow'</li><li>'e10l1.arrow'</li></ol>\n"
      ],
      "text/latex": [
       "\\begin{enumerate*}\n",
       "\\item 'e10l2.arrow'\n",
       "\\item 'e10l1.arrow'\n",
       "\\end{enumerate*}\n"
      ],
      "text/markdown": [
       "1. 'e10l2.arrow'\n",
       "2. 'e10l1.arrow'\n",
       "\n",
       "\n"
      ],
      "text/plain": [
       "[1] \"e10l2.arrow\" \"e10l1.arrow\""
      ]
     },
     "metadata": {},
     "output_type": "display_data"
    }
   ],
   "source": [
    "ArrowFiles"
   ]
  },
  {
   "cell_type": "code",
   "execution_count": 15,
   "id": "5ba28283-d488-4982-8d4c-745fc3f59365",
   "metadata": {},
   "outputs": [
    {
     "name": "stderr",
     "output_type": "stream",
     "text": [
      "Warning message in dir.create(paste(dir.output, \"ArchR\", sep = \"/\"), recursive = T):\n",
      "“'/maps/projects/ralab_nnfc-AUDIT/people/lpm537/project/E2G/analysis/E2G_240503/data/K562_IGVF/3.Genome_wide_prediction/ArchR/ArchR.240527//ArchR' already exists”\n"
     ]
    }
   ],
   "source": [
    "dir.create(paste(dir.output,\"ArchR\",sep=\"/\"),recursive = T)"
   ]
  },
  {
   "cell_type": "code",
   "execution_count": 16,
   "id": "aa217507-8323-43bf-b23c-0ec25ee33c85",
   "metadata": {},
   "outputs": [
    {
     "name": "stderr",
     "output_type": "stream",
     "text": [
      "Using GeneAnnotation set by addArchRGenome(Hg38)!\n",
      "\n",
      "Using GeneAnnotation set by addArchRGenome(Hg38)!\n",
      "\n",
      "Validating Arrows...\n",
      "\n",
      "Getting SampleNames...\n",
      "\n",
      "\n",
      "\n",
      "Copying ArrowFiles to Ouptut Directory! If you want to save disk space set copyArrows = FALSE\n",
      "\n",
      "1 \n",
      "2 \n",
      "\n",
      "\n",
      "Getting Cell Metadata...\n",
      "\n",
      "\n",
      "\n",
      "Merging Cell Metadata...\n",
      "\n",
      "Initializing ArchRProject...\n",
      "\n",
      "\n",
      "                                                   / |\n",
      "                                                 /    \\\n",
      "            .                                  /      |.\n",
      "            \\\\\\                              /        |.\n",
      "              \\\\\\                          /           `|.\n",
      "                \\\\\\                      /              |.\n",
      "                  \\                    /                |\\\n",
      "                  \\\\#####\\           /                  ||\n",
      "                ==###########>      /                   ||\n",
      "                 \\\\##==......\\    /                     ||\n",
      "            ______ =       =|__ /__                     ||      \\\\\\\n",
      "        ,--' ,----`-,__ ___/'  --,-`-===================##========>\n",
      "       \\               '        ##_______ _____ ,--,__,=##,__   ///\n",
      "        ,    __==    ___,-,__,--'#'  ==='      `-'    | ##,-/\n",
      "        -,____,---'       \\\\####\\\\________________,--\\\\_##,/\n",
      "           ___      .______        ______  __    __  .______      \n",
      "          /   \\     |   _  \\      /      ||  |  |  | |   _  \\     \n",
      "         /  ^  \\    |  |_)  |    |  ,----'|  |__|  | |  |_)  |    \n",
      "        /  /_\\  \\   |      /     |  |     |   __   | |      /     \n",
      "       /  _____  \\  |  |\\  \\\\___ |  `----.|  |  |  | |  |\\  \\\\___.\n",
      "      /__/     \\__\\ | _| `._____| \\______||__|  |__| | _| `._____|\n",
      "    \n",
      "\n"
     ]
    }
   ],
   "source": [
    "obj.ArchR <- ArchRProject(\n",
    "  ArrowFiles = ArrowFiles, \n",
    "  outputDirectory = paste(dir.output,\"ArchR\",sep=\"/\"),\n",
    "  copyArrows = TRUE \n",
    ")"
   ]
  },
  {
   "cell_type": "code",
   "execution_count": 17,
   "id": "f9795403-545f-4385-aa38-2c70b1b2fb21",
   "metadata": {},
   "outputs": [
    {
     "name": "stderr",
     "output_type": "stream",
     "text": [
      "\n",
      "           ___      .______        ______  __    __  .______      \n",
      "          /   \\     |   _  \\      /      ||  |  |  | |   _  \\     \n",
      "         /  ^  \\    |  |_)  |    |  ,----'|  |__|  | |  |_)  |    \n",
      "        /  /_\\  \\   |      /     |  |     |   __   | |      /     \n",
      "       /  _____  \\  |  |\\  \\\\___ |  `----.|  |  |  | |  |\\  \\\\___.\n",
      "      /__/     \\__\\ | _| `._____| \\______||__|  |__| | _| `._____|\n",
      "    \n",
      "\n"
     ]
    },
    {
     "data": {
      "text/plain": [
       "class: ArchRProject \n",
       "outputDirectory: /maps/projects/ralab_nnfc-AUDIT/people/lpm537/project/E2G/analysis/E2G_240503/data/K562_IGVF/3.Genome_wide_prediction/ArchR/ArchR.240527/ArchR \n",
       "samples(2): e10l2 e10l1\n",
       "sampleColData names(1): ArrowFiles\n",
       "cellColData names(13): Sample TSSEnrichment ... nDiFrags BlacklistRatio\n",
       "numberOfCells(1): 6258\n",
       "medianTSS(1): 13.809\n",
       "medianFrags(1): 11558.5"
      ]
     },
     "metadata": {},
     "output_type": "display_data"
    }
   ],
   "source": [
    "obj.ArchR"
   ]
  },
  {
   "cell_type": "code",
   "execution_count": 18,
   "id": "ee876dd5-0b22-46fd-9015-7e22144c5024",
   "metadata": {},
   "outputs": [
    {
     "name": "stderr",
     "output_type": "stream",
     "text": [
      "Checking Inputs...\n",
      "\n",
      "ArchR logging to : ArchRLogs/ArchR-addIterativeLSI-3bfa665e3462ad-Date-2024-05-28_Time-19-22-04.287244.log\n",
      "If there is an issue, please report to github with logFile!\n",
      "\n",
      "2024-05-28 19:22:05.254407 : Computing Total Across All Features, 0.006 mins elapsed.\n",
      "\n",
      "2024-05-28 19:22:09.37644 : Computing Top Features, 0.075 mins elapsed.\n",
      "\n",
      "###########\n",
      "2024-05-28 19:22:13.034323 : Running LSI (1 of 2) on Top Features, 0.136 mins elapsed.\n",
      "###########\n",
      "\n",
      "2024-05-28 19:22:13.058122 : Creating Partial Matrix, 0.136 mins elapsed.\n",
      "\n",
      "2024-05-28 19:22:44.160772 : Computing LSI, 0.655 mins elapsed.\n",
      "\n",
      "2024-05-28 19:24:15.855705 : Identifying Clusters, 2.183 mins elapsed.\n",
      "\n",
      "Warning message:\n",
      "“Data is of class matrix. Coercing to dgCMatrix.”\n",
      "2024-05-28 19:24:22.642414 : Identified 6 Clusters, 2.296 mins elapsed.\n",
      "\n",
      "2024-05-28 19:24:23.364001 : Saving LSI Iteration, 2.308 mins elapsed.\n",
      "\n",
      "Found more than one class \"dist\" in cache; using the first, from namespace 'BiocGenerics'\n",
      "\n",
      "Also defined by ‘spam’\n",
      "\n",
      "Found more than one class \"dist\" in cache; using the first, from namespace 'BiocGenerics'\n",
      "\n",
      "Also defined by ‘spam’\n",
      "\n"
     ]
    },
    {
     "name": "stdout",
     "output_type": "stream",
     "text": [
      "\n",
      "************************************************************\n",
      "2024-05-28 19:24:45.877199 : ERROR Found in .saveIteration for  \n",
      "LogFile = ArchRLogs/ArchR-addIterativeLSI-3bfa665e3462ad-Date-2024-05-28_Time-19-22-04.287244.log\n",
      "\n",
      "<simpleError in g$grobs[[legend]]: no such index at level 2\n",
      ">\n",
      "\n",
      "************************************************************\n",
      "\n"
     ]
    },
    {
     "name": "stderr",
     "output_type": "stream",
     "text": [
      "2024-05-28 19:24:45.880117 : Creating Cluster Matrix on the total Group Features, 2.683 mins elapsed.\n",
      "\n",
      "2024-05-28 19:25:06.71962 : Computing Variable Features, 3.031 mins elapsed.\n",
      "\n",
      "###########\n",
      "2024-05-28 19:25:07.228292 : Running LSI (2 of 2) on Variable Features, 3.039 mins elapsed.\n",
      "###########\n",
      "\n",
      "2024-05-28 19:25:07.450121 : Creating Partial Matrix, 3.043 mins elapsed.\n",
      "\n",
      "2024-05-28 19:25:36.117663 : Computing LSI, 3.521 mins elapsed.\n",
      "\n",
      "2024-05-28 19:26:50.144615 : Finished Running IterativeLSI, 4.755 mins elapsed.\n",
      "\n"
     ]
    }
   ],
   "source": [
    "obj.ArchR = addIterativeLSI(\n",
    "    ArchRProj = obj.ArchR,\n",
    "    useMatrix = \"TileMatrix\", \n",
    "    name = \"IterativeLSI\"\n",
    ")"
   ]
  },
  {
   "cell_type": "code",
   "execution_count": 19,
   "id": "2c1d334b-7fd7-425a-bb8d-7be4cbedd3e4",
   "metadata": {},
   "outputs": [],
   "source": [
    "obj.ArchR = addPeakSet(obj.ArchR,\n",
    "                       peakSet = reduce(pairs.E2G))"
   ]
  },
  {
   "cell_type": "code",
   "execution_count": 20,
   "id": "e25c14db-eb4e-4b94-8862-eb34246a365c",
   "metadata": {},
   "outputs": [
    {
     "name": "stderr",
     "output_type": "stream",
     "text": [
      "ArchR logging to : ArchRLogs/ArchR-addPeakMatrix-3bfa665c63553b-Date-2024-05-28_Time-19-26-57.693467.log\n",
      "If there is an issue, please report to github with logFile!\n",
      "\n",
      "2024-05-28 19:26:58.541317 : Batch Execution w/ safelapply!, 0 mins elapsed.\n",
      "\n",
      "ArchR logging successful to : ArchRLogs/ArchR-addPeakMatrix-3bfa665c63553b-Date-2024-05-28_Time-19-26-57.693467.log\n",
      "\n"
     ]
    }
   ],
   "source": [
    "obj.ArchR = addPeakMatrix(obj.ArchR)"
   ]
  },
  {
   "cell_type": "code",
   "execution_count": 42,
   "id": "aa6d686e-4205-4eda-8d76-ed4d9e3e30e7",
   "metadata": {},
   "outputs": [],
   "source": [
    "seRNA.Xu = ArchR:::.importFM(featureMatrix = \"/maps/projects/ralab_nnfc-AUDIT/people/lpm537/project/E2G/processed/10x_multiome_230720/ArrayExpress/cellranger_res/EMTAB11264_01/outs/filtered_feature_bc_matrix.h5\",\n",
    "                             name = \"K562_Xu\",\n",
    "                             featureType = \"Gene Expression\")\n",
    "rowdata.Xu = rowData(seRNA.Xu)"
   ]
  },
  {
   "cell_type": "code",
   "execution_count": 43,
   "id": "d843eb16-9fed-4146-b76e-0fb053f1557f",
   "metadata": {},
   "outputs": [],
   "source": [
    "gene.intersect = intersect(rownames(obj.seurat@assays$RNA$counts),\n",
    "                           rowdata.Xu$name)\n",
    "rowdata.intersect = rowdata.Xu[gene.intersect,]"
   ]
  },
  {
   "cell_type": "code",
   "execution_count": 47,
   "id": "fdf69211-b595-4599-ac8d-1c832875c062",
   "metadata": {},
   "outputs": [],
   "source": [
    "rr = GRanges(paste0(rowdata.intersect$interval))\n",
    "mcols(rr) <- rowdata.intersect"
   ]
  },
  {
   "cell_type": "code",
   "execution_count": 48,
   "id": "1e8f8d64-f6be-43c2-8e76-ea1cf4ad0453",
   "metadata": {},
   "outputs": [],
   "source": [
    "count.rna = obj.seurat@assays$RNA$counts[gene.intersect,]\n",
    "colnames(count.rna) = gsub(\"e10l1_\",\"e10l1#\",colnames(count.rna))\n",
    "colnames(count.rna) = gsub(\"e10l2_\",\"e10l2#\",colnames(count.rna))"
   ]
  },
  {
   "cell_type": "code",
   "execution_count": 49,
   "id": "174a97a2-ab68-478a-9085-8e8fbc3bac29",
   "metadata": {},
   "outputs": [],
   "source": [
    "seRNA <- SummarizedExperiment(assays = SimpleList(counts = count.rna), \n",
    "                              rowRanges = rr)\n",
    "seRNA = sort.GenomicRanges(sortSeqlevels(seRNA), \n",
    "                           ignore.strand = TRUE)"
   ]
  },
  {
   "cell_type": "code",
   "execution_count": 50,
   "id": "4656d98c-a9cc-486a-afaa-fe59ca6ef055",
   "metadata": {},
   "outputs": [
    {
     "data": {
      "text/plain": [
       "class: RangedSummarizedExperiment \n",
       "dim: 39032 6266 \n",
       "metadata(0):\n",
       "assays(1): counts\n",
       "rownames(39032): MIR1302-2HG WASH7P ... CTBP2P1 PRODH\n",
       "rowData names(5): feature_type genome id interval name\n",
       "colnames(6266): e10l1#AAACCAGGTCACAGGG-1 e10l1#AAACCGCCAAGGAATA-1 ...\n",
       "  e10l2#TTTGTGAGTTAGCGTT-1 e10l2#TTTGTGAGTTCCGGAC-1\n",
       "colData names(0):"
      ]
     },
     "metadata": {},
     "output_type": "display_data"
    }
   ],
   "source": [
    "seRNA"
   ]
  },
  {
   "cell_type": "code",
   "execution_count": 51,
   "id": "65cb2097-9075-4ee4-9e54-dd288dc50736",
   "metadata": {},
   "outputs": [
    {
     "name": "stderr",
     "output_type": "stream",
     "text": [
      "ArchR logging to : ArchRLogs/ArchR-addGeneExpressionMatrix-3bfa666ae6e2d6-Date-2024-05-31_Time-16-19-41.789664.log\n",
      "If there is an issue, please report to github with logFile!\n",
      "\n",
      "Overlap w/ scATAC = 1\n",
      "\n",
      "2024-05-31 16:19:42.375582 : \n",
      "\n",
      "Overlap Per Sample w/ scATAC : e10l1=2719,e10l2=3539\n",
      "\n",
      "2024-05-31 16:19:42.397741 : \n",
      "\n",
      "2024-05-31 16:19:45.650866 : Batch Execution w/ safelapply!, 0 mins elapsed.\n",
      "\n",
      "ArchR logging successful to : ArchRLogs/ArchR-addGeneExpressionMatrix-3bfa666ae6e2d6-Date-2024-05-31_Time-16-19-41.789664.log\n",
      "\n"
     ]
    }
   ],
   "source": [
    "obj.ArchR = addGeneExpressionMatrix(obj.ArchR,\n",
    "                                    seRNA = seRNA,\n",
    "                                    strictMatch = T)"
   ]
  },
  {
   "cell_type": "markdown",
   "id": "e4318703-a143-40c0-b159-274d05033bbc",
   "metadata": {},
   "source": [
    "Run ArchR prediction"
   ]
  },
  {
   "cell_type": "code",
   "execution_count": 52,
   "id": "47c8fd5f-19ec-46e6-af87-57502c1e1ff9",
   "metadata": {},
   "outputs": [
    {
     "name": "stderr",
     "output_type": "stream",
     "text": [
      "ArchR logging to : ArchRLogs/ArchR-addPeak2GeneLinks-3bfa6677ee82d4-Date-2024-05-31_Time-16-23-15.169336.log\n",
      "If there is an issue, please report to github with logFile!\n",
      "\n",
      "2024-05-31 16:23:15.850592 : Getting Available Matrices, 0.011 mins elapsed.\n",
      "\n",
      "2024-05-31 16:23:19.807137 : Filtered Low Prediction Score Cells (0 of 6258, 0), 0.03 mins elapsed.\n",
      "\n",
      "2024-05-31 16:23:20.259596 : Computing KNN, 0.038 mins elapsed.\n",
      "\n",
      "2024-05-31 16:23:20.944633 : Identifying Non-Overlapping KNN pairs, 0.049 mins elapsed.\n",
      "\n",
      "2024-05-31 16:23:23.160482 : Identified 495 Groupings!, 0.086 mins elapsed.\n",
      "\n",
      "2024-05-31 16:23:23.225153 : Getting Group RNA Matrix, 0.087 mins elapsed.\n",
      "\n",
      "2024-05-31 16:24:02.026187 : Getting Group ATAC Matrix, 0.734 mins elapsed.\n",
      "\n",
      "2024-05-31 16:25:05.042245 : Normalizing Group Matrices, 1.784 mins elapsed.\n",
      "\n",
      "2024-05-31 16:25:21.519491 : Finding Peak Gene Pairings, 2.059 mins elapsed.\n",
      "\n",
      "2024-05-31 16:25:24.751067 : Computing Correlations, 2.112 mins elapsed.\n",
      "\n",
      "2024-05-31 16:26:23.825962 : Completed Peak2Gene Correlations!, 3.097 mins elapsed.\n",
      "\n",
      "ArchR logging successful to : ArchRLogs/ArchR-addPeak2GeneLinks-3bfa6677ee82d4-Date-2024-05-31_Time-16-23-15.169336.log\n",
      "\n"
     ]
    }
   ],
   "source": [
    "start_time <- Sys.time()\n",
    "obj.ArchR = addPeak2GeneLinks(\n",
    "    ArchRProj = obj.ArchR,\n",
    "    reducedDims = \"IterativeLSI\",\n",
    "    useMatrix = \"GeneExpressionMatrix\",\n",
    "    maxDist = maxDist,\n",
    "    threads = n.cores\n",
    ")\n",
    "end_time <- Sys.time()\n",
    "execution_time <- end_time - start_time"
   ]
  },
  {
   "cell_type": "code",
   "execution_count": 53,
   "id": "128d0065-5f22-495b-b00d-743fc9843337",
   "metadata": {},
   "outputs": [
    {
     "data": {
      "text/plain": [
       "Time difference of 3.146081 mins"
      ]
     },
     "metadata": {},
     "output_type": "display_data"
    }
   ],
   "source": [
    "execution_time"
   ]
  },
  {
   "cell_type": "code",
   "execution_count": 54,
   "id": "36bd2df2-6b32-4b81-bd4f-39ef8913b3c3",
   "metadata": {},
   "outputs": [],
   "source": [
    "p2g = metadata(obj.ArchR@peakSet)$Peak2GeneLinks"
   ]
  },
  {
   "cell_type": "code",
   "execution_count": 55,
   "id": "e7730413-8fd4-4952-bb13-0df7a3b15b6f",
   "metadata": {},
   "outputs": [],
   "source": [
    "metadata(p2g)[[1]]$PeakName = paste(seqnames(metadata(p2g)[[1]]),\n",
    "                                    ranges(metadata(p2g)[[1]]),sep=\"-\")"
   ]
  },
  {
   "cell_type": "code",
   "execution_count": 56,
   "id": "aeea3810-6735-4aff-9bd7-1697bef979d2",
   "metadata": {},
   "outputs": [],
   "source": [
    "p2g$PairName = paste(metadata(p2g)[[1]][p2g$idxATAC]$PeakName,\n",
    "                     metadata(p2g)[[2]][p2g$idxRNA]$name,\n",
    "                     sep = \"_\")"
   ]
  },
  {
   "cell_type": "code",
   "execution_count": 57,
   "id": "87f975ec-6ba4-4696-ad6c-2af65da7aa54",
   "metadata": {},
   "outputs": [
    {
     "data": {
      "text/plain": [
       "DataFrame with 6578475 rows and 7 columns\n",
       "                                  idxATAC    idxRNA Correlation        FDR\n",
       "                                <integer> <integer>   <numeric>  <numeric>\n",
       "chr1-10028-10426_MIR1302-2HG            1         1 -0.01804263   0.832598\n",
       "chr1-115520-115920_MIR1302-2HG          2         1 -0.00550916   0.953263\n",
       "chr1-138922-139504_MIR1302-2HG          3         1  0.07440501   0.260530\n",
       "chr1-180739-181862_MIR1302-2HG          4         1 -0.03024830   0.701901\n",
       "chr1-267886-268131_MIR1302-2HG          5         1  0.06906358   0.304232\n",
       "...                                   ...       ...         ...        ...\n",
       "chrX-156002453-156003206_WASH6P    153518     38942   0.1671721 0.00256739\n",
       "chrX-156016531-156016738_WASH6P    153519     38942  -0.0205100 0.80703100\n",
       "chrX-156019803-156020136_WASH6P    153520     38942  -0.0062062 0.94703996\n",
       "chrX-156029672-156030380_WASH6P    153521     38942   0.0161182 0.85228897\n",
       "chrX-156030503-156030833_WASH6P    153522     38942   0.0302924 0.70141206\n",
       "                                 VarQATAC   VarQRNA               PairName\n",
       "                                <numeric> <numeric>            <character>\n",
       "chr1-10028-10426_MIR1302-2HG     0.497740  0.371527 chr1-10028-10426_MIR..\n",
       "chr1-115520-115920_MIR1302-2HG   0.714634  0.371527 chr1-115520-115920_M..\n",
       "chr1-138922-139504_MIR1302-2HG   0.411107  0.371527 chr1-138922-139504_M..\n",
       "chr1-180739-181862_MIR1302-2HG   0.759513  0.371527 chr1-180739-181862_M..\n",
       "chr1-267886-268131_MIR1302-2HG   0.637466  0.371527 chr1-267886-268131_M..\n",
       "...                                   ...       ...                    ...\n",
       "chrX-156002453-156003206_WASH6P 0.7800836  0.378178 chrX-156002453-15600..\n",
       "chrX-156016531-156016738_WASH6P 0.0709345  0.378178 chrX-156016531-15601..\n",
       "chrX-156019803-156020136_WASH6P 0.1405987  0.378178 chrX-156019803-15602..\n",
       "chrX-156029672-156030380_WASH6P 0.5796238  0.378178 chrX-156029672-15603..\n",
       "chrX-156030503-156030833_WASH6P 0.3307995  0.378178 chrX-156030503-15603.."
      ]
     },
     "metadata": {},
     "output_type": "display_data"
    }
   ],
   "source": [
    "rownames(p2g) = p2g$PairName\n",
    "p2g"
   ]
  },
  {
   "cell_type": "code",
   "execution_count": 58,
   "id": "c7209a32-3904-4734-93af-9c22049f652a",
   "metadata": {},
   "outputs": [],
   "source": [
    "pairs.E2G.res = pairs.E2G[pairs.E2G$PairName %in% p2g$PairName]\n",
    "mcols(pairs.E2G.res)[,c(\"Correlation\",\"FDR\",\"VarQATAC\",\"VarQRNA\")] = p2g[pairs.E2G.res$PairName,c(\"Correlation\",\"FDR\",\"VarQATAC\",\"VarQRNA\")]"
   ]
  },
  {
   "cell_type": "code",
   "execution_count": 59,
   "id": "1ab4ed70-ce9e-4857-bd1b-63a81d27a401",
   "metadata": {},
   "outputs": [
    {
     "data": {
      "text/plain": [
       "GRanges object with 2702690 ranges and 7 metadata columns:\n",
       "            seqnames            ranges strand |  TargetGene\n",
       "               <Rle>         <IRanges>  <Rle> | <character>\n",
       "        [1]     chr1 10002583-10003163      * |       CASZ1\n",
       "        [2]     chr1 10002583-10003163      * |      CLSTN1\n",
       "        [3]     chr1 10002583-10003163      * |    CTNNBIP1\n",
       "        [4]     chr1 10002583-10003163      * |        DFFA\n",
       "        [5]     chr1 10002583-10003163      * |      GPR157\n",
       "        ...      ...               ...    ... .         ...\n",
       "  [2702686]     chrX   9940388-9940697      * |        WWC3\n",
       "  [2702687]     chrX   9995829-9996183      * |       CLCN4\n",
       "  [2702688]     chrX   9995829-9996183      * |       FAM9B\n",
       "  [2702689]     chrX   9995829-9996183      * |       TBL1X\n",
       "  [2702690]     chrX   9995829-9996183      * |        WWC3\n",
       "                          PeakName               PairName Correlation\n",
       "                       <character>            <character>   <numeric>\n",
       "        [1] chr1-10002583-10003163 chr1-10002583-100031..  0.01921182\n",
       "        [2] chr1-10002583-10003163 chr1-10002583-100031.. -0.02425148\n",
       "        [3] chr1-10002583-10003163 chr1-10002583-100031.. -0.00981262\n",
       "        [4] chr1-10002583-10003163 chr1-10002583-100031.. -0.00500227\n",
       "        [5] chr1-10002583-10003163 chr1-10002583-100031..  0.03492619\n",
       "        ...                    ...                    ...         ...\n",
       "  [2702686]   chrX-9940388-9940697 chrX-9940388-9940697..  -0.2181340\n",
       "  [2702687]   chrX-9995829-9996183 chrX-9995829-9996183..   0.0588668\n",
       "  [2702688]   chrX-9995829-9996183 chrX-9995829-9996183..  -0.0437885\n",
       "  [2702689]   chrX-9995829-9996183 chrX-9995829-9996183..  -0.0292871\n",
       "  [2702690]   chrX-9995829-9996183 chrX-9995829-9996183..  -0.0172787\n",
       "                    FDR  VarQATAC   VarQRNA\n",
       "              <numeric> <numeric> <numeric>\n",
       "        [1]    0.820522  0.260582  0.510400\n",
       "        [2]    0.767225  0.260582  0.914257\n",
       "        [3]    0.914057  0.260582  0.813749\n",
       "        [4]    0.957738  0.260582  0.892995\n",
       "        [5]    0.650518  0.260582  0.604027\n",
       "        ...         ...       ...       ...\n",
       "  [2702686] 3.32933e-05 0.0124998  0.722870\n",
       "  [2702687] 3.97591e-01 0.4861127  0.888039\n",
       "  [2702688] 5.53693e-01 0.4861127  0.713471\n",
       "  [2702689] 7.12469e-01 0.4861127  0.979405\n",
       "  [2702690] 8.40463e-01 0.4861127  0.722870\n",
       "  -------\n",
       "  seqinfo: 23 sequences from an unspecified genome; no seqlengths"
      ]
     },
     "metadata": {},
     "output_type": "display_data"
    }
   ],
   "source": [
    "pairs.E2G.res"
   ]
  },
  {
   "cell_type": "markdown",
   "id": "46485351-50d7-461a-bf09-d795d5bdab84",
   "metadata": {},
   "source": [
    "Save results"
   ]
  },
  {
   "cell_type": "code",
   "execution_count": 60,
   "id": "6d424e21-6a41-4422-b76c-6f1c0bda2222",
   "metadata": {},
   "outputs": [
    {
     "data": {
      "text/plain": [
       "GRanges object with 2702690 ranges and 7 metadata columns:\n",
       "            seqnames            ranges strand |  TargetGene\n",
       "               <Rle>         <IRanges>  <Rle> | <character>\n",
       "        [1]     chr1 10002583-10003163      * |       CASZ1\n",
       "        [2]     chr1 10002583-10003163      * |      CLSTN1\n",
       "        [3]     chr1 10002583-10003163      * |    CTNNBIP1\n",
       "        [4]     chr1 10002583-10003163      * |        DFFA\n",
       "        [5]     chr1 10002583-10003163      * |      GPR157\n",
       "        ...      ...               ...    ... .         ...\n",
       "  [2702686]     chrX   9940388-9940697      * |        WWC3\n",
       "  [2702687]     chrX   9995829-9996183      * |       CLCN4\n",
       "  [2702688]     chrX   9995829-9996183      * |       FAM9B\n",
       "  [2702689]     chrX   9995829-9996183      * |       TBL1X\n",
       "  [2702690]     chrX   9995829-9996183      * |        WWC3\n",
       "                          PeakName               PairName Correlation\n",
       "                       <character>            <character>   <numeric>\n",
       "        [1] chr1-10002583-10003163 chr1-10002583-100031..  0.01921182\n",
       "        [2] chr1-10002583-10003163 chr1-10002583-100031.. -0.02425148\n",
       "        [3] chr1-10002583-10003163 chr1-10002583-100031.. -0.00981262\n",
       "        [4] chr1-10002583-10003163 chr1-10002583-100031.. -0.00500227\n",
       "        [5] chr1-10002583-10003163 chr1-10002583-100031..  0.03492619\n",
       "        ...                    ...                    ...         ...\n",
       "  [2702686]   chrX-9940388-9940697 chrX-9940388-9940697..  -0.2181340\n",
       "  [2702687]   chrX-9995829-9996183 chrX-9995829-9996183..   0.0588668\n",
       "  [2702688]   chrX-9995829-9996183 chrX-9995829-9996183..  -0.0437885\n",
       "  [2702689]   chrX-9995829-9996183 chrX-9995829-9996183..  -0.0292871\n",
       "  [2702690]   chrX-9995829-9996183 chrX-9995829-9996183..  -0.0172787\n",
       "                    FDR  VarQATAC   VarQRNA\n",
       "              <numeric> <numeric> <numeric>\n",
       "        [1]    0.820522  0.260582  0.510400\n",
       "        [2]    0.767225  0.260582  0.914257\n",
       "        [3]    0.914057  0.260582  0.813749\n",
       "        [4]    0.957738  0.260582  0.892995\n",
       "        [5]    0.650518  0.260582  0.604027\n",
       "        ...         ...       ...       ...\n",
       "  [2702686] 3.32933e-05 0.0124998  0.722870\n",
       "  [2702687] 3.97591e-01 0.4861127  0.888039\n",
       "  [2702688] 5.53693e-01 0.4861127  0.713471\n",
       "  [2702689] 7.12469e-01 0.4861127  0.979405\n",
       "  [2702690] 8.40463e-01 0.4861127  0.722870\n",
       "  -------\n",
       "  seqinfo: 23 sequences from an unspecified genome; no seqlengths"
      ]
     },
     "metadata": {},
     "output_type": "display_data"
    },
    {
     "data": {
      "text/html": [
       "<table class=\"dataframe\">\n",
       "<caption>A data.frame: 2702690 × 9</caption>\n",
       "<thead>\n",
       "\t<tr><th scope=col>chr</th><th scope=col>start</th><th scope=col>end</th><th scope=col>TargetGene</th><th scope=col>CellType</th><th scope=col>Correlation</th><th scope=col>FDR</th><th scope=col>VarQATAC</th><th scope=col>VarQRNA</th></tr>\n",
       "\t<tr><th scope=col>&lt;fct&gt;</th><th scope=col>&lt;int&gt;</th><th scope=col>&lt;int&gt;</th><th scope=col>&lt;chr&gt;</th><th scope=col>&lt;chr&gt;</th><th scope=col>&lt;dbl&gt;</th><th scope=col>&lt;dbl&gt;</th><th scope=col>&lt;dbl&gt;</th><th scope=col>&lt;dbl&gt;</th></tr>\n",
       "</thead>\n",
       "<tbody>\n",
       "\t<tr><td>chr1</td><td> 10002583</td><td> 10003163</td><td>CASZ1   </td><td>K562</td><td> 0.0192118200</td><td>0.8205220071</td><td>0.2605815</td><td>0.5104001</td></tr>\n",
       "\t<tr><td>chr1</td><td> 10002583</td><td> 10003163</td><td>CLSTN1  </td><td>K562</td><td>-0.0242514784</td><td>0.7672252063</td><td>0.2605815</td><td>0.9142571</td></tr>\n",
       "\t<tr><td>chr1</td><td> 10002583</td><td> 10003163</td><td>CTNNBIP1</td><td>K562</td><td>-0.0098126199</td><td>0.9140573980</td><td>0.2605815</td><td>0.8137487</td></tr>\n",
       "\t<tr><td>chr1</td><td> 10002583</td><td> 10003163</td><td>DFFA    </td><td>K562</td><td>-0.0050022705</td><td>0.9577378254</td><td>0.2605815</td><td>0.8929947</td></tr>\n",
       "\t<tr><td>chr1</td><td> 10002583</td><td> 10003163</td><td>GPR157  </td><td>K562</td><td> 0.0349261912</td><td>0.6505182080</td><td>0.2605815</td><td>0.6040265</td></tr>\n",
       "\t<tr><td>chr1</td><td> 10002583</td><td> 10003163</td><td>H6PD    </td><td>K562</td><td> 0.1110511202</td><td>0.0664733991</td><td>0.2605815</td><td>0.7759488</td></tr>\n",
       "\t<tr><td>chr1</td><td> 10002583</td><td> 10003163</td><td>KIF1B   </td><td>K562</td><td> 0.0009457977</td><td>0.9923555783</td><td>0.2605815</td><td>0.9204201</td></tr>\n",
       "\t<tr><td>chr1</td><td> 10002583</td><td> 10003163</td><td>LZIC    </td><td>K562</td><td>-0.0407940021</td><td>0.5862446359</td><td>0.2605815</td><td>0.8115659</td></tr>\n",
       "\t<tr><td>chr1</td><td> 10002583</td><td> 10003163</td><td>MIR34AHG</td><td>K562</td><td> 0.1504292539</td><td>0.0079444763</td><td>0.2605815</td><td>0.4642545</td></tr>\n",
       "\t<tr><td>chr1</td><td> 10002583</td><td> 10003163</td><td>NMNAT1  </td><td>K562</td><td> 0.0587473635</td><td>0.3987327217</td><td>0.2605815</td><td>0.8303888</td></tr>\n",
       "\t<tr><td>chr1</td><td> 10002583</td><td> 10003163</td><td>PEX14   </td><td>K562</td><td> 0.0052154822</td><td>0.9558459416</td><td>0.2605815</td><td>0.8584305</td></tr>\n",
       "\t<tr><td>chr1</td><td> 10002583</td><td> 10003163</td><td>PGD     </td><td>K562</td><td> 0.0005371188</td><td>0.9956876214</td><td>0.2605815</td><td>0.9658466</td></tr>\n",
       "\t<tr><td>chr1</td><td> 10002583</td><td> 10003163</td><td>PIK3CD  </td><td>K562</td><td> 0.0658185379</td><td>0.3326022442</td><td>0.2605815</td><td>0.7850650</td></tr>\n",
       "\t<tr><td>chr1</td><td> 10002583</td><td> 10003163</td><td>SLC25A33</td><td>K562</td><td>-0.1492842385</td><td>0.0085395345</td><td>0.2605815</td><td>0.9413744</td></tr>\n",
       "\t<tr><td>chr1</td><td> 10002583</td><td> 10003163</td><td>SLC2A5  </td><td>K562</td><td> 0.0483275371</td><td>0.5048338427</td><td>0.2605815</td><td>0.5489959</td></tr>\n",
       "\t<tr><td>chr1</td><td> 10002583</td><td> 10003163</td><td>SPSB1   </td><td>K562</td><td>-0.0442921568</td><td>0.5481850183</td><td>0.2605815</td><td>0.5437060</td></tr>\n",
       "\t<tr><td>chr1</td><td> 10002583</td><td> 10003163</td><td>TMEM201 </td><td>K562</td><td>-0.0098397437</td><td>0.9138082993</td><td>0.2605815</td><td>0.7337322</td></tr>\n",
       "\t<tr><td>chr1</td><td> 10002583</td><td> 10003163</td><td>UBE4B   </td><td>K562</td><td>-0.0314984031</td><td>0.6881478902</td><td>0.2605815</td><td>0.8936110</td></tr>\n",
       "\t<tr><td>chr1</td><td>100028213</td><td>100029660</td><td>AGL     </td><td>K562</td><td> 0.0622690794</td><td>0.3650735890</td><td>0.5666289</td><td>0.8886036</td></tr>\n",
       "\t<tr><td>chr1</td><td>100028213</td><td>100029660</td><td>CDC14A  </td><td>K562</td><td> 0.0305239868</td><td>0.6988704547</td><td>0.5666289</td><td>0.9298444</td></tr>\n",
       "\t<tr><td>chr1</td><td>100028213</td><td>100029660</td><td>DBT     </td><td>K562</td><td> 0.0510413899</td><td>0.4763463631</td><td>0.5666289</td><td>0.8832880</td></tr>\n",
       "\t<tr><td>chr1</td><td>100028213</td><td>100029660</td><td>DPH5    </td><td>K562</td><td> 0.0304488019</td><td>0.6996925588</td><td>0.5666289</td><td>0.8859586</td></tr>\n",
       "\t<tr><td>chr1</td><td>100028213</td><td>100029660</td><td>EXTL2   </td><td>K562</td><td>-0.0225025703</td><td>0.7859312805</td><td>0.5666289</td><td>0.8973602</td></tr>\n",
       "\t<tr><td>chr1</td><td>100028213</td><td>100029660</td><td>FRRS1   </td><td>K562</td><td>-0.1049869366</td><td>0.0866139244</td><td>0.5666289</td><td>0.9897797</td></tr>\n",
       "\t<tr><td>chr1</td><td>100028213</td><td>100029660</td><td>LRRC39  </td><td>K562</td><td> 0.0675058727</td><td>0.3177010028</td><td>0.5666289</td><td>0.8692671</td></tr>\n",
       "\t<tr><td>chr1</td><td>100028213</td><td>100029660</td><td>MFSD14A </td><td>K562</td><td>-0.0120005856</td><td>0.8931214295</td><td>0.5666289</td><td>0.2432078</td></tr>\n",
       "\t<tr><td>chr1</td><td>100028213</td><td>100029660</td><td>PALMD   </td><td>K562</td><td>-0.0364632989</td><td>0.6336317289</td><td>0.5666289</td><td>0.8725797</td></tr>\n",
       "\t<tr><td>chr1</td><td>100028213</td><td>100029660</td><td>PLPPR4  </td><td>K562</td><td> 0.0297714278</td><td>0.7072030663</td><td>0.5666289</td><td>0.3590725</td></tr>\n",
       "\t<tr><td>chr1</td><td>100028213</td><td>100029660</td><td>RTCA    </td><td>K562</td><td>-0.0593557453</td><td>0.3928051205</td><td>0.5666289</td><td>0.9265831</td></tr>\n",
       "\t<tr><td>chr1</td><td>100028213</td><td>100029660</td><td>RTCA-AS1</td><td>K562</td><td> 0.1857374357</td><td>0.0006198929</td><td>0.5666289</td><td>0.8111294</td></tr>\n",
       "\t<tr><td>⋮</td><td>⋮</td><td>⋮</td><td>⋮</td><td>⋮</td><td>⋮</td><td>⋮</td><td>⋮</td><td>⋮</td></tr>\n",
       "\t<tr><td>chrX</td><td>9882537</td><td>9883461</td><td>FAM9B    </td><td>K562</td><td>-0.01412410</td><td>8.722727e-01</td><td>0.76744701</td><td>0.7134713</td></tr>\n",
       "\t<tr><td>chrX</td><td>9882537</td><td>9883461</td><td>TBL1X    </td><td>K562</td><td> 0.07211292</td><td>2.788284e-01</td><td>0.76744701</td><td>0.9794053</td></tr>\n",
       "\t<tr><td>chrX</td><td>9882537</td><td>9883461</td><td>WWC3     </td><td>K562</td><td>-0.04228204</td><td>5.700291e-01</td><td>0.76744701</td><td>0.7228699</td></tr>\n",
       "\t<tr><td>chrX</td><td>9885193</td><td>9885478</td><td>CLCN4    </td><td>K562</td><td> 0.02409912</td><td>7.688528e-01</td><td>0.38963145</td><td>0.8880386</td></tr>\n",
       "\t<tr><td>chrX</td><td>9885193</td><td>9885478</td><td>FAM9B    </td><td>K562</td><td> 0.05421562</td><td>4.437870e-01</td><td>0.38963145</td><td>0.7134713</td></tr>\n",
       "\t<tr><td>chrX</td><td>9885193</td><td>9885478</td><td>TBL1X    </td><td>K562</td><td> 0.10211353</td><td>9.765037e-02</td><td>0.38963145</td><td>0.9794053</td></tr>\n",
       "\t<tr><td>chrX</td><td>9885193</td><td>9885478</td><td>WWC3     </td><td>K562</td><td>-0.13905936</td><td>1.580055e-02</td><td>0.38963145</td><td>0.7228699</td></tr>\n",
       "\t<tr><td>chrX</td><td>9894528</td><td>9895197</td><td>CLCN4    </td><td>K562</td><td> 0.13261485</td><td>2.270766e-02</td><td>0.11462852</td><td>0.8880386</td></tr>\n",
       "\t<tr><td>chrX</td><td>9894528</td><td>9895197</td><td>FAM9B    </td><td>K562</td><td>-0.03119809</td><td>6.914565e-01</td><td>0.11462852</td><td>0.7134713</td></tr>\n",
       "\t<tr><td>chrX</td><td>9894528</td><td>9895197</td><td>TBL1X    </td><td>K562</td><td>-0.11211460</td><td>6.334848e-02</td><td>0.11462852</td><td>0.9794053</td></tr>\n",
       "\t<tr><td>chrX</td><td>9894528</td><td>9895197</td><td>WWC3     </td><td>K562</td><td> 0.13005526</td><td>2.607684e-02</td><td>0.11462852</td><td>0.7228699</td></tr>\n",
       "\t<tr><td>chrX</td><td> 989766</td><td> 990624</td><td>AKAP17A  </td><td>K562</td><td> 0.10958410</td><td>7.097162e-02</td><td>0.90799364</td><td>0.9248113</td></tr>\n",
       "\t<tr><td>chrX</td><td> 989766</td><td> 990624</td><td>ASMTL    </td><td>K562</td><td> 0.03588719</td><td>6.399558e-01</td><td>0.90799364</td><td>0.7476504</td></tr>\n",
       "\t<tr><td>chrX</td><td> 989766</td><td> 990624</td><td>CSF2RA   </td><td>K562</td><td>-0.11685655</td><td>5.081538e-02</td><td>0.90799364</td><td>0.4938370</td></tr>\n",
       "\t<tr><td>chrX</td><td> 989766</td><td> 990624</td><td>GTPBP6   </td><td>K562</td><td> 0.17829356</td><td>1.119374e-03</td><td>0.90799364</td><td>0.7490370</td></tr>\n",
       "\t<tr><td>chrX</td><td> 989766</td><td> 990624</td><td>IL3RA    </td><td>K562</td><td> 0.01420831</td><td>8.714471e-01</td><td>0.90799364</td><td>0.6286529</td></tr>\n",
       "\t<tr><td>chrX</td><td> 989766</td><td> 990624</td><td>LINC00106</td><td>K562</td><td>-0.06439821</td><td>3.454462e-01</td><td>0.90799364</td><td>0.6925684</td></tr>\n",
       "\t<tr><td>chrX</td><td> 989766</td><td> 990624</td><td>P2RY8    </td><td>K562</td><td>-0.03304382</td><td>6.711831e-01</td><td>0.90799364</td><td>0.6379744</td></tr>\n",
       "\t<tr><td>chrX</td><td> 989766</td><td> 990624</td><td>PLCXD1   </td><td>K562</td><td> 0.01702552</td><td>8.430513e-01</td><td>0.90799364</td><td>0.8201685</td></tr>\n",
       "\t<tr><td>chrX</td><td> 989766</td><td> 990624</td><td>PPP2R3B  </td><td>K562</td><td> 0.07541428</td><td>2.527009e-01</td><td>0.90799364</td><td>0.7656258</td></tr>\n",
       "\t<tr><td>chrX</td><td> 989766</td><td> 990624</td><td>SHOX     </td><td>K562</td><td>-0.15337472</td><td>6.578792e-03</td><td>0.90799364</td><td>0.5438858</td></tr>\n",
       "\t<tr><td>chrX</td><td> 989766</td><td> 990624</td><td>SLC25A6  </td><td>K562</td><td>-0.08784043</td><td>1.682161e-01</td><td>0.90799364</td><td>0.9428637</td></tr>\n",
       "\t<tr><td>chrX</td><td>9940388</td><td>9940697</td><td>CLCN4    </td><td>K562</td><td>-0.27243684</td><td>6.427176e-08</td><td>0.01249984</td><td>0.8880386</td></tr>\n",
       "\t<tr><td>chrX</td><td>9940388</td><td>9940697</td><td>FAM9B    </td><td>K562</td><td> 0.04848796</td><td>5.031403e-01</td><td>0.01249984</td><td>0.7134713</td></tr>\n",
       "\t<tr><td>chrX</td><td>9940388</td><td>9940697</td><td>TBL1X    </td><td>K562</td><td> 0.30393487</td><td>7.472384e-10</td><td>0.01249984</td><td>0.9794053</td></tr>\n",
       "\t<tr><td>chrX</td><td>9940388</td><td>9940697</td><td>WWC3     </td><td>K562</td><td>-0.21813403</td><td>3.329325e-05</td><td>0.01249984</td><td>0.7228699</td></tr>\n",
       "\t<tr><td>chrX</td><td>9995829</td><td>9996183</td><td>CLCN4    </td><td>K562</td><td> 0.05886679</td><td>3.975910e-01</td><td>0.48611274</td><td>0.8880386</td></tr>\n",
       "\t<tr><td>chrX</td><td>9995829</td><td>9996183</td><td>FAM9B    </td><td>K562</td><td>-0.04378847</td><td>5.536927e-01</td><td>0.48611274</td><td>0.7134713</td></tr>\n",
       "\t<tr><td>chrX</td><td>9995829</td><td>9996183</td><td>TBL1X    </td><td>K562</td><td>-0.02928710</td><td>7.124692e-01</td><td>0.48611274</td><td>0.9794053</td></tr>\n",
       "\t<tr><td>chrX</td><td>9995829</td><td>9996183</td><td>WWC3     </td><td>K562</td><td>-0.01727873</td><td>8.404628e-01</td><td>0.48611274</td><td>0.7228699</td></tr>\n",
       "</tbody>\n",
       "</table>\n"
      ],
      "text/latex": [
       "A data.frame: 2702690 × 9\n",
       "\\begin{tabular}{lllllllll}\n",
       " chr & start & end & TargetGene & CellType & Correlation & FDR & VarQATAC & VarQRNA\\\\\n",
       " <fct> & <int> & <int> & <chr> & <chr> & <dbl> & <dbl> & <dbl> & <dbl>\\\\\n",
       "\\hline\n",
       "\t chr1 &  10002583 &  10003163 & CASZ1    & K562 &  0.0192118200 & 0.8205220071 & 0.2605815 & 0.5104001\\\\\n",
       "\t chr1 &  10002583 &  10003163 & CLSTN1   & K562 & -0.0242514784 & 0.7672252063 & 0.2605815 & 0.9142571\\\\\n",
       "\t chr1 &  10002583 &  10003163 & CTNNBIP1 & K562 & -0.0098126199 & 0.9140573980 & 0.2605815 & 0.8137487\\\\\n",
       "\t chr1 &  10002583 &  10003163 & DFFA     & K562 & -0.0050022705 & 0.9577378254 & 0.2605815 & 0.8929947\\\\\n",
       "\t chr1 &  10002583 &  10003163 & GPR157   & K562 &  0.0349261912 & 0.6505182080 & 0.2605815 & 0.6040265\\\\\n",
       "\t chr1 &  10002583 &  10003163 & H6PD     & K562 &  0.1110511202 & 0.0664733991 & 0.2605815 & 0.7759488\\\\\n",
       "\t chr1 &  10002583 &  10003163 & KIF1B    & K562 &  0.0009457977 & 0.9923555783 & 0.2605815 & 0.9204201\\\\\n",
       "\t chr1 &  10002583 &  10003163 & LZIC     & K562 & -0.0407940021 & 0.5862446359 & 0.2605815 & 0.8115659\\\\\n",
       "\t chr1 &  10002583 &  10003163 & MIR34AHG & K562 &  0.1504292539 & 0.0079444763 & 0.2605815 & 0.4642545\\\\\n",
       "\t chr1 &  10002583 &  10003163 & NMNAT1   & K562 &  0.0587473635 & 0.3987327217 & 0.2605815 & 0.8303888\\\\\n",
       "\t chr1 &  10002583 &  10003163 & PEX14    & K562 &  0.0052154822 & 0.9558459416 & 0.2605815 & 0.8584305\\\\\n",
       "\t chr1 &  10002583 &  10003163 & PGD      & K562 &  0.0005371188 & 0.9956876214 & 0.2605815 & 0.9658466\\\\\n",
       "\t chr1 &  10002583 &  10003163 & PIK3CD   & K562 &  0.0658185379 & 0.3326022442 & 0.2605815 & 0.7850650\\\\\n",
       "\t chr1 &  10002583 &  10003163 & SLC25A33 & K562 & -0.1492842385 & 0.0085395345 & 0.2605815 & 0.9413744\\\\\n",
       "\t chr1 &  10002583 &  10003163 & SLC2A5   & K562 &  0.0483275371 & 0.5048338427 & 0.2605815 & 0.5489959\\\\\n",
       "\t chr1 &  10002583 &  10003163 & SPSB1    & K562 & -0.0442921568 & 0.5481850183 & 0.2605815 & 0.5437060\\\\\n",
       "\t chr1 &  10002583 &  10003163 & TMEM201  & K562 & -0.0098397437 & 0.9138082993 & 0.2605815 & 0.7337322\\\\\n",
       "\t chr1 &  10002583 &  10003163 & UBE4B    & K562 & -0.0314984031 & 0.6881478902 & 0.2605815 & 0.8936110\\\\\n",
       "\t chr1 & 100028213 & 100029660 & AGL      & K562 &  0.0622690794 & 0.3650735890 & 0.5666289 & 0.8886036\\\\\n",
       "\t chr1 & 100028213 & 100029660 & CDC14A   & K562 &  0.0305239868 & 0.6988704547 & 0.5666289 & 0.9298444\\\\\n",
       "\t chr1 & 100028213 & 100029660 & DBT      & K562 &  0.0510413899 & 0.4763463631 & 0.5666289 & 0.8832880\\\\\n",
       "\t chr1 & 100028213 & 100029660 & DPH5     & K562 &  0.0304488019 & 0.6996925588 & 0.5666289 & 0.8859586\\\\\n",
       "\t chr1 & 100028213 & 100029660 & EXTL2    & K562 & -0.0225025703 & 0.7859312805 & 0.5666289 & 0.8973602\\\\\n",
       "\t chr1 & 100028213 & 100029660 & FRRS1    & K562 & -0.1049869366 & 0.0866139244 & 0.5666289 & 0.9897797\\\\\n",
       "\t chr1 & 100028213 & 100029660 & LRRC39   & K562 &  0.0675058727 & 0.3177010028 & 0.5666289 & 0.8692671\\\\\n",
       "\t chr1 & 100028213 & 100029660 & MFSD14A  & K562 & -0.0120005856 & 0.8931214295 & 0.5666289 & 0.2432078\\\\\n",
       "\t chr1 & 100028213 & 100029660 & PALMD    & K562 & -0.0364632989 & 0.6336317289 & 0.5666289 & 0.8725797\\\\\n",
       "\t chr1 & 100028213 & 100029660 & PLPPR4   & K562 &  0.0297714278 & 0.7072030663 & 0.5666289 & 0.3590725\\\\\n",
       "\t chr1 & 100028213 & 100029660 & RTCA     & K562 & -0.0593557453 & 0.3928051205 & 0.5666289 & 0.9265831\\\\\n",
       "\t chr1 & 100028213 & 100029660 & RTCA-AS1 & K562 &  0.1857374357 & 0.0006198929 & 0.5666289 & 0.8111294\\\\\n",
       "\t ⋮ & ⋮ & ⋮ & ⋮ & ⋮ & ⋮ & ⋮ & ⋮ & ⋮\\\\\n",
       "\t chrX & 9882537 & 9883461 & FAM9B     & K562 & -0.01412410 & 8.722727e-01 & 0.76744701 & 0.7134713\\\\\n",
       "\t chrX & 9882537 & 9883461 & TBL1X     & K562 &  0.07211292 & 2.788284e-01 & 0.76744701 & 0.9794053\\\\\n",
       "\t chrX & 9882537 & 9883461 & WWC3      & K562 & -0.04228204 & 5.700291e-01 & 0.76744701 & 0.7228699\\\\\n",
       "\t chrX & 9885193 & 9885478 & CLCN4     & K562 &  0.02409912 & 7.688528e-01 & 0.38963145 & 0.8880386\\\\\n",
       "\t chrX & 9885193 & 9885478 & FAM9B     & K562 &  0.05421562 & 4.437870e-01 & 0.38963145 & 0.7134713\\\\\n",
       "\t chrX & 9885193 & 9885478 & TBL1X     & K562 &  0.10211353 & 9.765037e-02 & 0.38963145 & 0.9794053\\\\\n",
       "\t chrX & 9885193 & 9885478 & WWC3      & K562 & -0.13905936 & 1.580055e-02 & 0.38963145 & 0.7228699\\\\\n",
       "\t chrX & 9894528 & 9895197 & CLCN4     & K562 &  0.13261485 & 2.270766e-02 & 0.11462852 & 0.8880386\\\\\n",
       "\t chrX & 9894528 & 9895197 & FAM9B     & K562 & -0.03119809 & 6.914565e-01 & 0.11462852 & 0.7134713\\\\\n",
       "\t chrX & 9894528 & 9895197 & TBL1X     & K562 & -0.11211460 & 6.334848e-02 & 0.11462852 & 0.9794053\\\\\n",
       "\t chrX & 9894528 & 9895197 & WWC3      & K562 &  0.13005526 & 2.607684e-02 & 0.11462852 & 0.7228699\\\\\n",
       "\t chrX &  989766 &  990624 & AKAP17A   & K562 &  0.10958410 & 7.097162e-02 & 0.90799364 & 0.9248113\\\\\n",
       "\t chrX &  989766 &  990624 & ASMTL     & K562 &  0.03588719 & 6.399558e-01 & 0.90799364 & 0.7476504\\\\\n",
       "\t chrX &  989766 &  990624 & CSF2RA    & K562 & -0.11685655 & 5.081538e-02 & 0.90799364 & 0.4938370\\\\\n",
       "\t chrX &  989766 &  990624 & GTPBP6    & K562 &  0.17829356 & 1.119374e-03 & 0.90799364 & 0.7490370\\\\\n",
       "\t chrX &  989766 &  990624 & IL3RA     & K562 &  0.01420831 & 8.714471e-01 & 0.90799364 & 0.6286529\\\\\n",
       "\t chrX &  989766 &  990624 & LINC00106 & K562 & -0.06439821 & 3.454462e-01 & 0.90799364 & 0.6925684\\\\\n",
       "\t chrX &  989766 &  990624 & P2RY8     & K562 & -0.03304382 & 6.711831e-01 & 0.90799364 & 0.6379744\\\\\n",
       "\t chrX &  989766 &  990624 & PLCXD1    & K562 &  0.01702552 & 8.430513e-01 & 0.90799364 & 0.8201685\\\\\n",
       "\t chrX &  989766 &  990624 & PPP2R3B   & K562 &  0.07541428 & 2.527009e-01 & 0.90799364 & 0.7656258\\\\\n",
       "\t chrX &  989766 &  990624 & SHOX      & K562 & -0.15337472 & 6.578792e-03 & 0.90799364 & 0.5438858\\\\\n",
       "\t chrX &  989766 &  990624 & SLC25A6   & K562 & -0.08784043 & 1.682161e-01 & 0.90799364 & 0.9428637\\\\\n",
       "\t chrX & 9940388 & 9940697 & CLCN4     & K562 & -0.27243684 & 6.427176e-08 & 0.01249984 & 0.8880386\\\\\n",
       "\t chrX & 9940388 & 9940697 & FAM9B     & K562 &  0.04848796 & 5.031403e-01 & 0.01249984 & 0.7134713\\\\\n",
       "\t chrX & 9940388 & 9940697 & TBL1X     & K562 &  0.30393487 & 7.472384e-10 & 0.01249984 & 0.9794053\\\\\n",
       "\t chrX & 9940388 & 9940697 & WWC3      & K562 & -0.21813403 & 3.329325e-05 & 0.01249984 & 0.7228699\\\\\n",
       "\t chrX & 9995829 & 9996183 & CLCN4     & K562 &  0.05886679 & 3.975910e-01 & 0.48611274 & 0.8880386\\\\\n",
       "\t chrX & 9995829 & 9996183 & FAM9B     & K562 & -0.04378847 & 5.536927e-01 & 0.48611274 & 0.7134713\\\\\n",
       "\t chrX & 9995829 & 9996183 & TBL1X     & K562 & -0.02928710 & 7.124692e-01 & 0.48611274 & 0.9794053\\\\\n",
       "\t chrX & 9995829 & 9996183 & WWC3      & K562 & -0.01727873 & 8.404628e-01 & 0.48611274 & 0.7228699\\\\\n",
       "\\end{tabular}\n"
      ],
      "text/markdown": [
       "\n",
       "A data.frame: 2702690 × 9\n",
       "\n",
       "| chr &lt;fct&gt; | start &lt;int&gt; | end &lt;int&gt; | TargetGene &lt;chr&gt; | CellType &lt;chr&gt; | Correlation &lt;dbl&gt; | FDR &lt;dbl&gt; | VarQATAC &lt;dbl&gt; | VarQRNA &lt;dbl&gt; |\n",
       "|---|---|---|---|---|---|---|---|---|\n",
       "| chr1 |  10002583 |  10003163 | CASZ1    | K562 |  0.0192118200 | 0.8205220071 | 0.2605815 | 0.5104001 |\n",
       "| chr1 |  10002583 |  10003163 | CLSTN1   | K562 | -0.0242514784 | 0.7672252063 | 0.2605815 | 0.9142571 |\n",
       "| chr1 |  10002583 |  10003163 | CTNNBIP1 | K562 | -0.0098126199 | 0.9140573980 | 0.2605815 | 0.8137487 |\n",
       "| chr1 |  10002583 |  10003163 | DFFA     | K562 | -0.0050022705 | 0.9577378254 | 0.2605815 | 0.8929947 |\n",
       "| chr1 |  10002583 |  10003163 | GPR157   | K562 |  0.0349261912 | 0.6505182080 | 0.2605815 | 0.6040265 |\n",
       "| chr1 |  10002583 |  10003163 | H6PD     | K562 |  0.1110511202 | 0.0664733991 | 0.2605815 | 0.7759488 |\n",
       "| chr1 |  10002583 |  10003163 | KIF1B    | K562 |  0.0009457977 | 0.9923555783 | 0.2605815 | 0.9204201 |\n",
       "| chr1 |  10002583 |  10003163 | LZIC     | K562 | -0.0407940021 | 0.5862446359 | 0.2605815 | 0.8115659 |\n",
       "| chr1 |  10002583 |  10003163 | MIR34AHG | K562 |  0.1504292539 | 0.0079444763 | 0.2605815 | 0.4642545 |\n",
       "| chr1 |  10002583 |  10003163 | NMNAT1   | K562 |  0.0587473635 | 0.3987327217 | 0.2605815 | 0.8303888 |\n",
       "| chr1 |  10002583 |  10003163 | PEX14    | K562 |  0.0052154822 | 0.9558459416 | 0.2605815 | 0.8584305 |\n",
       "| chr1 |  10002583 |  10003163 | PGD      | K562 |  0.0005371188 | 0.9956876214 | 0.2605815 | 0.9658466 |\n",
       "| chr1 |  10002583 |  10003163 | PIK3CD   | K562 |  0.0658185379 | 0.3326022442 | 0.2605815 | 0.7850650 |\n",
       "| chr1 |  10002583 |  10003163 | SLC25A33 | K562 | -0.1492842385 | 0.0085395345 | 0.2605815 | 0.9413744 |\n",
       "| chr1 |  10002583 |  10003163 | SLC2A5   | K562 |  0.0483275371 | 0.5048338427 | 0.2605815 | 0.5489959 |\n",
       "| chr1 |  10002583 |  10003163 | SPSB1    | K562 | -0.0442921568 | 0.5481850183 | 0.2605815 | 0.5437060 |\n",
       "| chr1 |  10002583 |  10003163 | TMEM201  | K562 | -0.0098397437 | 0.9138082993 | 0.2605815 | 0.7337322 |\n",
       "| chr1 |  10002583 |  10003163 | UBE4B    | K562 | -0.0314984031 | 0.6881478902 | 0.2605815 | 0.8936110 |\n",
       "| chr1 | 100028213 | 100029660 | AGL      | K562 |  0.0622690794 | 0.3650735890 | 0.5666289 | 0.8886036 |\n",
       "| chr1 | 100028213 | 100029660 | CDC14A   | K562 |  0.0305239868 | 0.6988704547 | 0.5666289 | 0.9298444 |\n",
       "| chr1 | 100028213 | 100029660 | DBT      | K562 |  0.0510413899 | 0.4763463631 | 0.5666289 | 0.8832880 |\n",
       "| chr1 | 100028213 | 100029660 | DPH5     | K562 |  0.0304488019 | 0.6996925588 | 0.5666289 | 0.8859586 |\n",
       "| chr1 | 100028213 | 100029660 | EXTL2    | K562 | -0.0225025703 | 0.7859312805 | 0.5666289 | 0.8973602 |\n",
       "| chr1 | 100028213 | 100029660 | FRRS1    | K562 | -0.1049869366 | 0.0866139244 | 0.5666289 | 0.9897797 |\n",
       "| chr1 | 100028213 | 100029660 | LRRC39   | K562 |  0.0675058727 | 0.3177010028 | 0.5666289 | 0.8692671 |\n",
       "| chr1 | 100028213 | 100029660 | MFSD14A  | K562 | -0.0120005856 | 0.8931214295 | 0.5666289 | 0.2432078 |\n",
       "| chr1 | 100028213 | 100029660 | PALMD    | K562 | -0.0364632989 | 0.6336317289 | 0.5666289 | 0.8725797 |\n",
       "| chr1 | 100028213 | 100029660 | PLPPR4   | K562 |  0.0297714278 | 0.7072030663 | 0.5666289 | 0.3590725 |\n",
       "| chr1 | 100028213 | 100029660 | RTCA     | K562 | -0.0593557453 | 0.3928051205 | 0.5666289 | 0.9265831 |\n",
       "| chr1 | 100028213 | 100029660 | RTCA-AS1 | K562 |  0.1857374357 | 0.0006198929 | 0.5666289 | 0.8111294 |\n",
       "| ⋮ | ⋮ | ⋮ | ⋮ | ⋮ | ⋮ | ⋮ | ⋮ | ⋮ |\n",
       "| chrX | 9882537 | 9883461 | FAM9B     | K562 | -0.01412410 | 8.722727e-01 | 0.76744701 | 0.7134713 |\n",
       "| chrX | 9882537 | 9883461 | TBL1X     | K562 |  0.07211292 | 2.788284e-01 | 0.76744701 | 0.9794053 |\n",
       "| chrX | 9882537 | 9883461 | WWC3      | K562 | -0.04228204 | 5.700291e-01 | 0.76744701 | 0.7228699 |\n",
       "| chrX | 9885193 | 9885478 | CLCN4     | K562 |  0.02409912 | 7.688528e-01 | 0.38963145 | 0.8880386 |\n",
       "| chrX | 9885193 | 9885478 | FAM9B     | K562 |  0.05421562 | 4.437870e-01 | 0.38963145 | 0.7134713 |\n",
       "| chrX | 9885193 | 9885478 | TBL1X     | K562 |  0.10211353 | 9.765037e-02 | 0.38963145 | 0.9794053 |\n",
       "| chrX | 9885193 | 9885478 | WWC3      | K562 | -0.13905936 | 1.580055e-02 | 0.38963145 | 0.7228699 |\n",
       "| chrX | 9894528 | 9895197 | CLCN4     | K562 |  0.13261485 | 2.270766e-02 | 0.11462852 | 0.8880386 |\n",
       "| chrX | 9894528 | 9895197 | FAM9B     | K562 | -0.03119809 | 6.914565e-01 | 0.11462852 | 0.7134713 |\n",
       "| chrX | 9894528 | 9895197 | TBL1X     | K562 | -0.11211460 | 6.334848e-02 | 0.11462852 | 0.9794053 |\n",
       "| chrX | 9894528 | 9895197 | WWC3      | K562 |  0.13005526 | 2.607684e-02 | 0.11462852 | 0.7228699 |\n",
       "| chrX |  989766 |  990624 | AKAP17A   | K562 |  0.10958410 | 7.097162e-02 | 0.90799364 | 0.9248113 |\n",
       "| chrX |  989766 |  990624 | ASMTL     | K562 |  0.03588719 | 6.399558e-01 | 0.90799364 | 0.7476504 |\n",
       "| chrX |  989766 |  990624 | CSF2RA    | K562 | -0.11685655 | 5.081538e-02 | 0.90799364 | 0.4938370 |\n",
       "| chrX |  989766 |  990624 | GTPBP6    | K562 |  0.17829356 | 1.119374e-03 | 0.90799364 | 0.7490370 |\n",
       "| chrX |  989766 |  990624 | IL3RA     | K562 |  0.01420831 | 8.714471e-01 | 0.90799364 | 0.6286529 |\n",
       "| chrX |  989766 |  990624 | LINC00106 | K562 | -0.06439821 | 3.454462e-01 | 0.90799364 | 0.6925684 |\n",
       "| chrX |  989766 |  990624 | P2RY8     | K562 | -0.03304382 | 6.711831e-01 | 0.90799364 | 0.6379744 |\n",
       "| chrX |  989766 |  990624 | PLCXD1    | K562 |  0.01702552 | 8.430513e-01 | 0.90799364 | 0.8201685 |\n",
       "| chrX |  989766 |  990624 | PPP2R3B   | K562 |  0.07541428 | 2.527009e-01 | 0.90799364 | 0.7656258 |\n",
       "| chrX |  989766 |  990624 | SHOX      | K562 | -0.15337472 | 6.578792e-03 | 0.90799364 | 0.5438858 |\n",
       "| chrX |  989766 |  990624 | SLC25A6   | K562 | -0.08784043 | 1.682161e-01 | 0.90799364 | 0.9428637 |\n",
       "| chrX | 9940388 | 9940697 | CLCN4     | K562 | -0.27243684 | 6.427176e-08 | 0.01249984 | 0.8880386 |\n",
       "| chrX | 9940388 | 9940697 | FAM9B     | K562 |  0.04848796 | 5.031403e-01 | 0.01249984 | 0.7134713 |\n",
       "| chrX | 9940388 | 9940697 | TBL1X     | K562 |  0.30393487 | 7.472384e-10 | 0.01249984 | 0.9794053 |\n",
       "| chrX | 9940388 | 9940697 | WWC3      | K562 | -0.21813403 | 3.329325e-05 | 0.01249984 | 0.7228699 |\n",
       "| chrX | 9995829 | 9996183 | CLCN4     | K562 |  0.05886679 | 3.975910e-01 | 0.48611274 | 0.8880386 |\n",
       "| chrX | 9995829 | 9996183 | FAM9B     | K562 | -0.04378847 | 5.536927e-01 | 0.48611274 | 0.7134713 |\n",
       "| chrX | 9995829 | 9996183 | TBL1X     | K562 | -0.02928710 | 7.124692e-01 | 0.48611274 | 0.9794053 |\n",
       "| chrX | 9995829 | 9996183 | WWC3      | K562 | -0.01727873 | 8.404628e-01 | 0.48611274 | 0.7228699 |\n",
       "\n"
      ],
      "text/plain": [
       "        chr  start     end       TargetGene CellType Correlation   FDR         \n",
       "1       chr1  10002583  10003163 CASZ1      K562      0.0192118200 0.8205220071\n",
       "2       chr1  10002583  10003163 CLSTN1     K562     -0.0242514784 0.7672252063\n",
       "3       chr1  10002583  10003163 CTNNBIP1   K562     -0.0098126199 0.9140573980\n",
       "4       chr1  10002583  10003163 DFFA       K562     -0.0050022705 0.9577378254\n",
       "5       chr1  10002583  10003163 GPR157     K562      0.0349261912 0.6505182080\n",
       "6       chr1  10002583  10003163 H6PD       K562      0.1110511202 0.0664733991\n",
       "7       chr1  10002583  10003163 KIF1B      K562      0.0009457977 0.9923555783\n",
       "8       chr1  10002583  10003163 LZIC       K562     -0.0407940021 0.5862446359\n",
       "9       chr1  10002583  10003163 MIR34AHG   K562      0.1504292539 0.0079444763\n",
       "10      chr1  10002583  10003163 NMNAT1     K562      0.0587473635 0.3987327217\n",
       "11      chr1  10002583  10003163 PEX14      K562      0.0052154822 0.9558459416\n",
       "12      chr1  10002583  10003163 PGD        K562      0.0005371188 0.9956876214\n",
       "13      chr1  10002583  10003163 PIK3CD     K562      0.0658185379 0.3326022442\n",
       "14      chr1  10002583  10003163 SLC25A33   K562     -0.1492842385 0.0085395345\n",
       "15      chr1  10002583  10003163 SLC2A5     K562      0.0483275371 0.5048338427\n",
       "16      chr1  10002583  10003163 SPSB1      K562     -0.0442921568 0.5481850183\n",
       "17      chr1  10002583  10003163 TMEM201    K562     -0.0098397437 0.9138082993\n",
       "18      chr1  10002583  10003163 UBE4B      K562     -0.0314984031 0.6881478902\n",
       "19      chr1 100028213 100029660 AGL        K562      0.0622690794 0.3650735890\n",
       "20      chr1 100028213 100029660 CDC14A     K562      0.0305239868 0.6988704547\n",
       "21      chr1 100028213 100029660 DBT        K562      0.0510413899 0.4763463631\n",
       "22      chr1 100028213 100029660 DPH5       K562      0.0304488019 0.6996925588\n",
       "23      chr1 100028213 100029660 EXTL2      K562     -0.0225025703 0.7859312805\n",
       "24      chr1 100028213 100029660 FRRS1      K562     -0.1049869366 0.0866139244\n",
       "25      chr1 100028213 100029660 LRRC39     K562      0.0675058727 0.3177010028\n",
       "26      chr1 100028213 100029660 MFSD14A    K562     -0.0120005856 0.8931214295\n",
       "27      chr1 100028213 100029660 PALMD      K562     -0.0364632989 0.6336317289\n",
       "28      chr1 100028213 100029660 PLPPR4     K562      0.0297714278 0.7072030663\n",
       "29      chr1 100028213 100029660 RTCA       K562     -0.0593557453 0.3928051205\n",
       "30      chr1 100028213 100029660 RTCA-AS1   K562      0.1857374357 0.0006198929\n",
       "⋮       ⋮    ⋮         ⋮         ⋮          ⋮        ⋮             ⋮           \n",
       "2702661 chrX 9882537   9883461   FAM9B      K562     -0.01412410   8.722727e-01\n",
       "2702662 chrX 9882537   9883461   TBL1X      K562      0.07211292   2.788284e-01\n",
       "2702663 chrX 9882537   9883461   WWC3       K562     -0.04228204   5.700291e-01\n",
       "2702664 chrX 9885193   9885478   CLCN4      K562      0.02409912   7.688528e-01\n",
       "2702665 chrX 9885193   9885478   FAM9B      K562      0.05421562   4.437870e-01\n",
       "2702666 chrX 9885193   9885478   TBL1X      K562      0.10211353   9.765037e-02\n",
       "2702667 chrX 9885193   9885478   WWC3       K562     -0.13905936   1.580055e-02\n",
       "2702668 chrX 9894528   9895197   CLCN4      K562      0.13261485   2.270766e-02\n",
       "2702669 chrX 9894528   9895197   FAM9B      K562     -0.03119809   6.914565e-01\n",
       "2702670 chrX 9894528   9895197   TBL1X      K562     -0.11211460   6.334848e-02\n",
       "2702671 chrX 9894528   9895197   WWC3       K562      0.13005526   2.607684e-02\n",
       "2702672 chrX  989766    990624   AKAP17A    K562      0.10958410   7.097162e-02\n",
       "2702673 chrX  989766    990624   ASMTL      K562      0.03588719   6.399558e-01\n",
       "2702674 chrX  989766    990624   CSF2RA     K562     -0.11685655   5.081538e-02\n",
       "2702675 chrX  989766    990624   GTPBP6     K562      0.17829356   1.119374e-03\n",
       "2702676 chrX  989766    990624   IL3RA      K562      0.01420831   8.714471e-01\n",
       "2702677 chrX  989766    990624   LINC00106  K562     -0.06439821   3.454462e-01\n",
       "2702678 chrX  989766    990624   P2RY8      K562     -0.03304382   6.711831e-01\n",
       "2702679 chrX  989766    990624   PLCXD1     K562      0.01702552   8.430513e-01\n",
       "2702680 chrX  989766    990624   PPP2R3B    K562      0.07541428   2.527009e-01\n",
       "2702681 chrX  989766    990624   SHOX       K562     -0.15337472   6.578792e-03\n",
       "2702682 chrX  989766    990624   SLC25A6    K562     -0.08784043   1.682161e-01\n",
       "2702683 chrX 9940388   9940697   CLCN4      K562     -0.27243684   6.427176e-08\n",
       "2702684 chrX 9940388   9940697   FAM9B      K562      0.04848796   5.031403e-01\n",
       "2702685 chrX 9940388   9940697   TBL1X      K562      0.30393487   7.472384e-10\n",
       "2702686 chrX 9940388   9940697   WWC3       K562     -0.21813403   3.329325e-05\n",
       "2702687 chrX 9995829   9996183   CLCN4      K562      0.05886679   3.975910e-01\n",
       "2702688 chrX 9995829   9996183   FAM9B      K562     -0.04378847   5.536927e-01\n",
       "2702689 chrX 9995829   9996183   TBL1X      K562     -0.02928710   7.124692e-01\n",
       "2702690 chrX 9995829   9996183   WWC3       K562     -0.01727873   8.404628e-01\n",
       "        VarQATAC   VarQRNA  \n",
       "1       0.2605815  0.5104001\n",
       "2       0.2605815  0.9142571\n",
       "3       0.2605815  0.8137487\n",
       "4       0.2605815  0.8929947\n",
       "5       0.2605815  0.6040265\n",
       "6       0.2605815  0.7759488\n",
       "7       0.2605815  0.9204201\n",
       "8       0.2605815  0.8115659\n",
       "9       0.2605815  0.4642545\n",
       "10      0.2605815  0.8303888\n",
       "11      0.2605815  0.8584305\n",
       "12      0.2605815  0.9658466\n",
       "13      0.2605815  0.7850650\n",
       "14      0.2605815  0.9413744\n",
       "15      0.2605815  0.5489959\n",
       "16      0.2605815  0.5437060\n",
       "17      0.2605815  0.7337322\n",
       "18      0.2605815  0.8936110\n",
       "19      0.5666289  0.8886036\n",
       "20      0.5666289  0.9298444\n",
       "21      0.5666289  0.8832880\n",
       "22      0.5666289  0.8859586\n",
       "23      0.5666289  0.8973602\n",
       "24      0.5666289  0.9897797\n",
       "25      0.5666289  0.8692671\n",
       "26      0.5666289  0.2432078\n",
       "27      0.5666289  0.8725797\n",
       "28      0.5666289  0.3590725\n",
       "29      0.5666289  0.9265831\n",
       "30      0.5666289  0.8111294\n",
       "⋮       ⋮          ⋮        \n",
       "2702661 0.76744701 0.7134713\n",
       "2702662 0.76744701 0.9794053\n",
       "2702663 0.76744701 0.7228699\n",
       "2702664 0.38963145 0.8880386\n",
       "2702665 0.38963145 0.7134713\n",
       "2702666 0.38963145 0.9794053\n",
       "2702667 0.38963145 0.7228699\n",
       "2702668 0.11462852 0.8880386\n",
       "2702669 0.11462852 0.7134713\n",
       "2702670 0.11462852 0.9794053\n",
       "2702671 0.11462852 0.7228699\n",
       "2702672 0.90799364 0.9248113\n",
       "2702673 0.90799364 0.7476504\n",
       "2702674 0.90799364 0.4938370\n",
       "2702675 0.90799364 0.7490370\n",
       "2702676 0.90799364 0.6286529\n",
       "2702677 0.90799364 0.6925684\n",
       "2702678 0.90799364 0.6379744\n",
       "2702679 0.90799364 0.8201685\n",
       "2702680 0.90799364 0.7656258\n",
       "2702681 0.90799364 0.5438858\n",
       "2702682 0.90799364 0.9428637\n",
       "2702683 0.01249984 0.8880386\n",
       "2702684 0.01249984 0.7134713\n",
       "2702685 0.01249984 0.9794053\n",
       "2702686 0.01249984 0.7228699\n",
       "2702687 0.48611274 0.8880386\n",
       "2702688 0.48611274 0.7134713\n",
       "2702689 0.48611274 0.9794053\n",
       "2702690 0.48611274 0.7228699"
      ]
     },
     "metadata": {},
     "output_type": "display_data"
    }
   ],
   "source": [
    "saveRDS(obj.ArchR,\n",
    "        paste(dir.output,\"obj.ArchR.rds\",sep = \"/\"))\n",
    "saveRDS(pairs.E2G.res,\n",
    "        paste(dir.output,\"pairs.E2G.res.rds\",sep = \"/\"))\n",
    "df.output = as.data.frame(pairs.E2G.res,row.names = NULL)\n",
    "colnames(df.output)[1] = \"chr\"\n",
    "df.output[,\"CellType\"] = \"K562\"\n",
    "df.output = df.output[,c(\"chr\",\n",
    "                         \"start\",\n",
    "                         \"end\",\n",
    "                         \"TargetGene\",\n",
    "                         \"CellType\",\n",
    "                         \"Correlation\",\n",
    "                         \"FDR\",\n",
    "                         \"VarQATAC\",\n",
    "                         \"VarQRNA\")]\n",
    "data.table::fwrite(df.output,\n",
    "                   file = paste(dir.output,\"pairs.E2G.res.tsv.gz\",sep = \"/\"),\n",
    "                   row.names = F,\n",
    "                   quote = F,\n",
    "                   sep = \"\\t\")\n",
    "pairs.E2G.res\n",
    "df.output"
   ]
  },
  {
   "cell_type": "code",
   "execution_count": 61,
   "id": "4c909ed5-7321-4e69-8208-1544b371da6d",
   "metadata": {},
   "outputs": [
    {
     "data": {
      "text/plain": [
       "R version 4.3.3 (2024-02-29)\n",
       "Platform: x86_64-conda-linux-gnu (64-bit)\n",
       "Running under: Red Hat Enterprise Linux 8.9 (Ootpa)\n",
       "\n",
       "Matrix products: default\n",
       "BLAS/LAPACK: /maps/projects/ralab/people/lpm537/software/anaconda3/envs/Notebook_E2G_240505/lib/libopenblasp-r0.3.27.so;  LAPACK version 3.12.0\n",
       "\n",
       "Random number generation:\n",
       " RNG:     L'Ecuyer-CMRG \n",
       " Normal:  Inversion \n",
       " Sample:  Rejection \n",
       " \n",
       "locale:\n",
       " [1] LC_CTYPE=en_US.UTF-8       LC_NUMERIC=C              \n",
       " [3] LC_TIME=en_US.UTF-8        LC_COLLATE=en_US.UTF-8    \n",
       " [5] LC_MONETARY=en_US.UTF-8    LC_MESSAGES=en_US.UTF-8   \n",
       " [7] LC_PAPER=en_US.UTF-8       LC_NAME=C                 \n",
       " [9] LC_ADDRESS=C               LC_TELEPHONE=C            \n",
       "[11] LC_MEASUREMENT=en_US.UTF-8 LC_IDENTIFICATION=C       \n",
       "\n",
       "time zone: Europe/Copenhagen\n",
       "tzcode source: system (glibc)\n",
       "\n",
       "attached base packages:\n",
       " [1] parallel  stats4    grid      stats     graphics  grDevices utils    \n",
       " [8] datasets  methods   base     \n",
       "\n",
       "other attached packages:\n",
       " [1] nabor_0.5.0                       uwot_0.1.16                      \n",
       " [3] BSgenome.Hsapiens.UCSC.hg38_1.4.5 BSgenome_1.68.0                  \n",
       " [5] rtracklayer_1.60.1                Biostrings_2.70.1                \n",
       " [7] XVector_0.42.0                    genomation_1.34.0                \n",
       " [9] Signac_1.13.0                     Seurat_5.0.3                     \n",
       "[11] SeuratObject_5.0.1                sp_2.1-4                         \n",
       "[13] rhdf5_2.44.0                      SummarizedExperiment_1.30.2      \n",
       "[15] Biobase_2.60.0                    MatrixGenerics_1.12.3            \n",
       "[17] Rcpp_1.0.12                       Matrix_1.6-5                     \n",
       "[19] GenomicRanges_1.54.1              GenomeInfoDb_1.38.1              \n",
       "[21] IRanges_2.36.0                    S4Vectors_0.40.2                 \n",
       "[23] BiocGenerics_0.48.1               matrixStats_1.3.0                \n",
       "[25] data.table_1.15.2                 stringr_1.5.1                    \n",
       "[27] plyr_1.8.9                        magrittr_2.0.3                   \n",
       "[29] ggplot2_3.5.1                     gtable_0.3.5                     \n",
       "[31] gtools_3.9.5                      gridExtra_2.3                    \n",
       "[33] ArchR_1.0.2                      \n",
       "\n",
       "loaded via a namespace (and not attached):\n",
       "  [1] RcppAnnoy_0.0.22         splines_4.3.3            later_1.3.2             \n",
       "  [4] pbdZMQ_0.3-11            BiocIO_1.10.0            bitops_1.0-7            \n",
       "  [7] tibble_3.2.1             polyclip_1.10-6          XML_3.99-0.16.1         \n",
       " [10] fastDummies_1.7.3        lifecycle_1.0.4          vroom_1.6.5             \n",
       " [13] globals_0.16.3           lattice_0.22-6           MASS_7.3-60             \n",
       " [16] plotly_4.10.4            plotrix_3.8-4            yaml_2.3.8              \n",
       " [19] httpuv_1.6.15            sctransform_0.4.1        spam_2.10-0             \n",
       " [22] spatstat.sparse_3.0-3    reticulate_1.36.1        cowplot_1.1.3           \n",
       " [25] pbapply_1.7-2            RColorBrewer_1.1-3       abind_1.4-5             \n",
       " [28] zlibbioc_1.48.0          Rtsne_0.17               purrr_1.0.2             \n",
       " [31] RCurl_1.98-1.14          GenomeInfoDbData_1.2.11  ggrepel_0.9.5           \n",
       " [34] irlba_2.3.5.1            listenv_0.9.1            spatstat.utils_3.0-4    \n",
       " [37] goftest_1.2-3            RSpectra_0.16-1          spatstat.random_3.2-3   \n",
       " [40] fitdistrplus_1.1-11      parallelly_1.37.1        leiden_0.4.3.1          \n",
       " [43] codetools_0.2-20         DelayedArray_0.26.7      RcppRoll_0.3.0          \n",
       " [46] tidyselect_1.2.1         farver_2.1.1             base64enc_0.1-3         \n",
       " [49] spatstat.explore_3.2-6   GenomicAlignments_1.36.0 jsonlite_1.8.8          \n",
       " [52] progressr_0.14.0         ggridges_0.5.6           survival_3.6-4          \n",
       " [55] tools_4.3.3              ica_1.0-3                glue_1.7.0              \n",
       " [58] IRdisplay_1.1            dplyr_1.1.4              withr_3.0.0             \n",
       " [61] fastmap_1.1.1            rhdf5filters_1.12.1      fansi_1.0.6             \n",
       " [64] digest_0.6.35            R6_2.5.1                 mime_0.12               \n",
       " [67] seqPattern_1.34.0        colorspace_2.1-0         Cairo_1.6-2             \n",
       " [70] scattermore_1.2          tensor_1.5               spatstat.data_3.0-4     \n",
       " [73] utf8_1.2.4               tidyr_1.3.1              generics_0.1.3          \n",
       " [76] httr_1.4.7               htmlwidgets_1.6.4        S4Arrays_1.2.1          \n",
       " [79] pkgconfig_2.0.3          impute_1.76.0            lmtest_0.9-40           \n",
       " [82] htmltools_0.5.8.1        dotCall64_1.1-1          scales_1.3.0            \n",
       " [85] png_0.1-8                tzdb_0.4.0               reshape2_1.4.4          \n",
       " [88] rjson_0.2.21             uuid_1.2-0               nlme_3.1-164            \n",
       " [91] repr_1.1.7               zoo_1.8-12               KernSmooth_2.23-22      \n",
       " [94] miniUI_0.1.1.1           restfulr_0.0.15          pillar_1.9.0            \n",
       " [97] vctrs_0.6.5              RANN_2.6.1               promises_1.3.0          \n",
       "[100] xtable_1.8-4             cluster_2.1.6            evaluate_0.23           \n",
       "[103] readr_2.1.5              cli_3.6.2                compiler_4.3.3          \n",
       "[106] Rsamtools_2.18.0         rlang_1.1.3              crayon_1.5.2            \n",
       "[109] future.apply_1.11.2      labeling_0.4.3           stringi_1.8.3           \n",
       "[112] gridBase_0.4-7           viridisLite_0.4.2        deldir_2.0-4            \n",
       "[115] BiocParallel_1.36.0      munsell_0.5.1            lazyeval_0.2.2          \n",
       "[118] spatstat.geom_3.2-9      IRkernel_1.3.2           RcppHNSW_0.6.0          \n",
       "[121] hms_1.1.3                patchwork_1.2.0          bit64_4.0.5             \n",
       "[124] future_1.33.2            Rhdf5lib_1.22.1          shiny_1.8.1.1           \n",
       "[127] ROCR_1.0-11              igraph_2.0.3             fastmatch_1.1-4         \n",
       "[130] bit_4.0.5               "
      ]
     },
     "metadata": {},
     "output_type": "display_data"
    }
   ],
   "source": [
    "sessionInfo()"
   ]
  },
  {
   "cell_type": "code",
   "execution_count": null,
   "id": "d7690cee-49f1-4886-ae66-0b63a43ce524",
   "metadata": {},
   "outputs": [],
   "source": []
  }
 ],
 "metadata": {
  "kernelspec": {
   "display_name": "R",
   "language": "R",
   "name": "ir"
  },
  "language_info": {
   "codemirror_mode": "r",
   "file_extension": ".r",
   "mimetype": "text/x-r-source",
   "name": "R",
   "pygments_lexer": "r",
   "version": "4.3.3"
  }
 },
 "nbformat": 4,
 "nbformat_minor": 5
}
