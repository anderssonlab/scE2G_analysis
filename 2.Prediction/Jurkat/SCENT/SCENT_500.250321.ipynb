{
 "cells": [
  {
   "cell_type": "code",
   "execution_count": 1,
   "id": "3a1e63f9-7479-4a30-83ea-381f1ecdbe50",
   "metadata": {},
   "outputs": [
    {
     "name": "stderr",
     "output_type": "stream",
     "text": [
      "Warning message:\n",
      "“replacing previous import ‘Hmisc::capitalize’ by ‘R.utils::capitalize’ when loading ‘SCENT’”\n",
      "Loading required package: grid\n",
      "\n",
      "Warning message:\n",
      "“replacing previous import ‘Biostrings::pattern’ by ‘grid::pattern’ when loading ‘genomation’”\n",
      "Loading required package: stats4\n",
      "\n",
      "Loading required package: BiocGenerics\n",
      "\n",
      "\n",
      "Attaching package: ‘BiocGenerics’\n",
      "\n",
      "\n",
      "The following objects are masked from ‘package:stats’:\n",
      "\n",
      "    IQR, mad, sd, var, xtabs\n",
      "\n",
      "\n",
      "The following objects are masked from ‘package:base’:\n",
      "\n",
      "    anyDuplicated, aperm, append, as.data.frame, basename, cbind,\n",
      "    colnames, dirname, do.call, duplicated, eval, evalq, Filter, Find,\n",
      "    get, grep, grepl, intersect, is.unsorted, lapply, Map, mapply,\n",
      "    match, mget, order, paste, pmax, pmax.int, pmin, pmin.int,\n",
      "    Position, rank, rbind, Reduce, rownames, sapply, setdiff, sort,\n",
      "    table, tapply, union, unique, unsplit, which.max, which.min\n",
      "\n",
      "\n",
      "Loading required package: S4Vectors\n",
      "\n",
      "\n",
      "Attaching package: ‘S4Vectors’\n",
      "\n",
      "\n",
      "The following object is masked from ‘package:utils’:\n",
      "\n",
      "    findMatches\n",
      "\n",
      "\n",
      "The following objects are masked from ‘package:base’:\n",
      "\n",
      "    expand.grid, I, unname\n",
      "\n",
      "\n",
      "Loading required package: IRanges\n",
      "\n",
      "Loading required package: GenomeInfoDb\n",
      "\n",
      "\n",
      "Attaching package: ‘Matrix’\n",
      "\n",
      "\n",
      "The following object is masked from ‘package:S4Vectors’:\n",
      "\n",
      "    expand\n",
      "\n",
      "\n",
      "\n",
      "Attaching package: ‘data.table’\n",
      "\n",
      "\n",
      "The following object is masked from ‘package:GenomicRanges’:\n",
      "\n",
      "    shift\n",
      "\n",
      "\n",
      "The following object is masked from ‘package:IRanges’:\n",
      "\n",
      "    shift\n",
      "\n",
      "\n",
      "The following objects are masked from ‘package:S4Vectors’:\n",
      "\n",
      "    first, second\n",
      "\n",
      "\n",
      "\n",
      "Attaching package: ‘dplyr’\n",
      "\n",
      "\n",
      "The following objects are masked from ‘package:data.table’:\n",
      "\n",
      "    between, first, last\n",
      "\n",
      "\n",
      "The following objects are masked from ‘package:GenomicRanges’:\n",
      "\n",
      "    intersect, setdiff, union\n",
      "\n",
      "\n",
      "The following object is masked from ‘package:GenomeInfoDb’:\n",
      "\n",
      "    intersect\n",
      "\n",
      "\n",
      "The following objects are masked from ‘package:IRanges’:\n",
      "\n",
      "    collapse, desc, intersect, setdiff, slice, union\n",
      "\n",
      "\n",
      "The following objects are masked from ‘package:S4Vectors’:\n",
      "\n",
      "    first, intersect, rename, setdiff, setequal, union\n",
      "\n",
      "\n",
      "The following objects are masked from ‘package:BiocGenerics’:\n",
      "\n",
      "    combine, intersect, setdiff, union\n",
      "\n",
      "\n",
      "The following objects are masked from ‘package:stats’:\n",
      "\n",
      "    filter, lag\n",
      "\n",
      "\n",
      "The following objects are masked from ‘package:base’:\n",
      "\n",
      "    intersect, setdiff, setequal, union\n",
      "\n",
      "\n"
     ]
    }
   ],
   "source": [
    "library(SCENT)\n",
    "library(Signac)\n",
    "library(genomation)\n",
    "library(GenomicRanges)\n",
    "library(Matrix)\n",
    "library(parallel)\n",
    "library(data.table)\n",
    "library(dplyr)"
   ]
  },
  {
   "cell_type": "markdown",
   "id": "d53f3774-52c3-4baa-b707-5b3a0450b130",
   "metadata": {},
   "source": [
    "Specify file path"
   ]
  },
  {
   "cell_type": "code",
   "execution_count": 2,
   "id": "0785f3fc-9913-428a-bea7-5710120c9328",
   "metadata": {},
   "outputs": [],
   "source": [
    "gene_gtf_path = \"/maps/projects/ralab/data/genome/hg38/gencode.v43.chr_patch_hapl_scaff.annotation.gtf\"\n",
    "abc_genes_path = \"/maps/projects/ralab_nnfc-AUDIT/people/lpm537/software/scE2G_pipeline/241203/scE2G/ENCODE_rE2G/ABC/reference/hg38/CollapsedGeneBounds.hg38.TSS500bp.bed\"\n",
    "path.pairs.E2G = \"/maps/projects/ralab_nnfc-AUDIT/people/lpm537/software/scE2G_pipeline/250319/scE2G/test/results/Jurkat/Jurkat/Kendall/Pairs.tsv.gz\"\n",
    "path.pairs.ABC = \"/maps/projects/ralab_nnfc-AUDIT/people/lpm537/software/scE2G_pipeline/250319/scE2G/test/results/Jurkat/Jurkat/multiome_powerlaw_v3/encode_e2g_predictions.tsv.gz\"\n",
    "path.matrix.atac_count = \"/maps/projects/ralab_nnfc-AUDIT/people/lpm537/software/scE2G_pipeline/250319/scE2G/test/results/Jurkat/Jurkat/Kendall/atac_matrix.rds\"\n",
    "path.matrix.rna_count = \"/maps/projects/ralab_nnfc-AUDIT/people/lpm537/project/E2G/processed/scE2G_input_Maya/Jurkat/rna_count_matrix.csv.gz\"\n",
    "dir.output = \"/maps/projects/ralab_nnfc-AUDIT/people/lpm537/project/E2G/analysis/E2G_240503/data/Jurkat/1.Genome_wide_prediction/SCENT/SCENT_500.250321/\"\n",
    "celltype = \"Jurkat\""
   ]
  },
  {
   "cell_type": "code",
   "execution_count": 3,
   "id": "500ba317-011f-4cab-834c-de750cb7f503",
   "metadata": {},
   "outputs": [],
   "source": [
    "n.cores = 16"
   ]
  },
  {
   "cell_type": "markdown",
   "id": "9c9cdab1-486b-4539-99d3-3cd5d1d99795",
   "metadata": {},
   "source": [
    "Import candidate E-G pairs"
   ]
  },
  {
   "cell_type": "code",
   "execution_count": 4,
   "id": "f5852d15-7e3f-412b-b137-7d29a6fb47b1",
   "metadata": {},
   "outputs": [],
   "source": [
    "pairs.E2G = readGeneric(path.pairs.E2G,\n",
    "                        header = T,\n",
    "                        keep.all.metadata = T)"
   ]
  },
  {
   "cell_type": "markdown",
   "id": "4b3c69d6-986b-4e10-9597-01c66d230c5c",
   "metadata": {},
   "source": [
    "Import ABC results"
   ]
  },
  {
   "cell_type": "code",
   "execution_count": 5,
   "id": "1fdcc2db-187f-45ee-89b4-288e8be29ee9",
   "metadata": {},
   "outputs": [],
   "source": [
    "pairs.ABC = readGeneric(path.pairs.ABC,\n",
    "                        header = T,\n",
    "                        keep.all.metadata = T)"
   ]
  },
  {
   "cell_type": "markdown",
   "id": "10424833-4e11-4191-a970-940bcc814764",
   "metadata": {},
   "source": [
    "Filter ABC results which distance < 1M"
   ]
  },
  {
   "cell_type": "code",
   "execution_count": 6,
   "id": "f08d2dec-83da-425a-aa70-aacb2d1c01a9",
   "metadata": {},
   "outputs": [],
   "source": [
    "pairs.ABC.1M = pairs.ABC[pairs.ABC$distance < 10^6]"
   ]
  },
  {
   "cell_type": "markdown",
   "id": "1ab4f035-0f58-4f32-9770-6765575f08a4",
   "metadata": {},
   "source": [
    "Filter E-G pairs overlaping with pairs.ABC.1M"
   ]
  },
  {
   "cell_type": "code",
   "execution_count": 7,
   "id": "46f640bb-a049-4bae-8362-485ec0d30858",
   "metadata": {},
   "outputs": [
    {
     "data": {
      "text/plain": [
       "GRanges object with 2793593 ranges and 3 metadata columns:\n",
       "            seqnames            ranges strand |  TargetGene\n",
       "               <Rle>         <IRanges>  <Rle> | <character>\n",
       "        [1]     chr1 10001055-10001570      * | APITD1-CORT\n",
       "        [2]     chr1 10001055-10001570      * |       CASZ1\n",
       "        [3]     chr1 10001055-10001570      * |       CENPS\n",
       "        [4]     chr1 10001055-10001570      * |      CLSTN1\n",
       "        [5]     chr1 10001055-10001570      * |    CTNNBIP1\n",
       "        ...      ...               ...    ... .         ...\n",
       "  [2793589]     chrX   9941883-9942743      * |        WWC3\n",
       "  [2793590]     chrX 99603024-99603776      * |      PCDH19\n",
       "  [2793591]     chrX 99632013-99632219      * |      PCDH19\n",
       "  [2793592]     chrX   9995829-9996207      * |       TBL1X\n",
       "  [2793593]     chrX   9995829-9996207      * |        WWC3\n",
       "                          PeakName               PairName\n",
       "                       <character>            <character>\n",
       "        [1] chr1-10001055-10001570 chr1-10001055-100015..\n",
       "        [2] chr1-10001055-10001570 chr1-10001055-100015..\n",
       "        [3] chr1-10001055-10001570 chr1-10001055-100015..\n",
       "        [4] chr1-10001055-10001570 chr1-10001055-100015..\n",
       "        [5] chr1-10001055-10001570 chr1-10001055-100015..\n",
       "        ...                    ...                    ...\n",
       "  [2793589]   chrX-9941883-9942743 chrX-9941883-9942743..\n",
       "  [2793590] chrX-99603024-99603776 chrX-99603024-996037..\n",
       "  [2793591] chrX-99632013-99632219 chrX-99632013-996322..\n",
       "  [2793592]   chrX-9995829-9996207 chrX-9995829-9996207..\n",
       "  [2793593]   chrX-9995829-9996207 chrX-9995829-9996207..\n",
       "  -------\n",
       "  seqinfo: 23 sequences from an unspecified genome; no seqlengths"
      ]
     },
     "metadata": {},
     "output_type": "display_data"
    }
   ],
   "source": [
    "df.pairs.E2G.chr_rename = as.data.frame(pairs.E2G)[,1:3]\n",
    "df.pairs.E2G.chr_rename[,\"seqnames\"] = paste(seqnames(pairs.E2G),\n",
    "                                             mcols(pairs.E2G)[,\"TargetGene\"],\n",
    "                                             sep = \"_\")\n",
    "pairs.E2G.chr_rename = GRanges(df.pairs.E2G.chr_rename)\n",
    "rm(df.pairs.E2G.chr_rename)\n",
    "\n",
    "df.pairs.ABC.1M.chr_rename = as.data.frame(pairs.ABC.1M)[,1:3]\n",
    "df.pairs.ABC.1M.chr_rename[,\"seqnames\"] = paste(seqnames(pairs.ABC.1M),\n",
    "                                                mcols(pairs.ABC.1M)[,\"TargetGene\"],\n",
    "                                                sep = \"_\")\n",
    "pairs.ABC.1M.chr_rename = GRanges(df.pairs.ABC.1M.chr_rename)\n",
    "rm(df.pairs.ABC.1M.chr_rename)\n",
    "\n",
    "pairs.E2G.filter = pairs.E2G[countOverlaps(pairs.E2G.chr_rename,\n",
    "                                           pairs.ABC.1M.chr_rename) > 0]\n",
    "rm(pairs.E2G.chr_rename)\n",
    "rm(pairs.ABC.1M.chr_rename)\n",
    "pairs.E2G.filter"
   ]
  },
  {
   "cell_type": "markdown",
   "id": "bcdfac67-ce32-4d9a-8f4d-65dab644ec63",
   "metadata": {},
   "source": [
    "Import ATAC matrix"
   ]
  },
  {
   "cell_type": "code",
   "execution_count": 8,
   "id": "bd59feb4-3e33-4ebe-a107-f3b6d347a68e",
   "metadata": {},
   "outputs": [],
   "source": [
    "matrix.atac = readRDS(path.matrix.atac_count)\n",
    "matrix.atac = BinarizeCounts(matrix.atac)"
   ]
  },
  {
   "cell_type": "markdown",
   "id": "a0c5cb96-2fc4-42c4-a421-fe9a5ca537da",
   "metadata": {},
   "source": [
    "Import RNA matrix"
   ]
  },
  {
   "cell_type": "code",
   "execution_count": 9,
   "id": "96e10e90-9400-4cfe-bc7b-46a7eaee1fcd",
   "metadata": {},
   "outputs": [],
   "source": [
    "matrix.rna = read.csv(path.matrix.rna_count,\n",
    "                      row.names = 1,\n",
    "                      check.names = F)\n",
    "matrix.rna = Matrix(as.matrix(matrix.rna), sparse = TRUE)\n",
    "matrix.rna = matrix.rna[,colnames(matrix.atac)]\n",
    "matrix.rna = matrix.rna[rowSums(matrix.rna) > 0,]"
   ]
  },
  {
   "cell_type": "code",
   "execution_count": 10,
   "id": "b8f242e3-fb5b-4a90-9584-6214652c9af7",
   "metadata": {},
   "outputs": [
    {
     "data": {
      "text/html": [
       "<style>\n",
       ".list-inline {list-style: none; margin:0; padding: 0}\n",
       ".list-inline>li {display: inline-block}\n",
       ".list-inline>li:not(:last-child)::after {content: \"\\00b7\"; padding: 0 .5ex}\n",
       "</style>\n",
       "<ol class=list-inline><li>33650</li><li>5277</li></ol>\n"
      ],
      "text/latex": [
       "\\begin{enumerate*}\n",
       "\\item 33650\n",
       "\\item 5277\n",
       "\\end{enumerate*}\n"
      ],
      "text/markdown": [
       "1. 33650\n",
       "2. 5277\n",
       "\n",
       "\n"
      ],
      "text/plain": [
       "[1] 33650  5277"
      ]
     },
     "metadata": {},
     "output_type": "display_data"
    },
    {
     "name": "stderr",
     "output_type": "stream",
     "text": [
      "  [[ suppressing 10 column names ‘e10l1_AAACCAGGTACTTATG-1’, ‘e10l1_AAACCAGGTCACACTG-1’, ‘e10l1_AAACCAGGTTATGTTG-1’ ... ]]\n",
      "\n"
     ]
    },
    {
     "data": {
      "text/plain": [
       "10 x 10 sparse Matrix of class \"dgCMatrix\"\n",
       "                                   \n",
       "WASH7P          . . . . . . . . . .\n",
       "MIR1302-2HG     . . . . . . . . . .\n",
       "OR4F5           . . . . . . . . . .\n",
       "ENSG00000238009 . . . . . . . . . .\n",
       "CICP27          . . . . . . . . . .\n",
       "ENSG00000268903 . . . . . . . . . .\n",
       "ENSG00000241860 . . . . . . . . . .\n",
       "DDX11L17        . . . . . . . . . .\n",
       "WASH9P          . . . . . . . . . .\n",
       "ENSG00000228463 . . . . . . . . . ."
      ]
     },
     "metadata": {},
     "output_type": "display_data"
    }
   ],
   "source": [
    "dim(matrix.rna)\n",
    "matrix.rna[1:10,1:10]"
   ]
  },
  {
   "cell_type": "markdown",
   "id": "62718ef8-a3bd-4755-a95f-be216f16517b",
   "metadata": {},
   "source": [
    "Map gene names"
   ]
  },
  {
   "cell_type": "code",
   "execution_count": 11,
   "id": "0f255a65-03a4-4255-967e-0c644bfe66cd",
   "metadata": {},
   "outputs": [],
   "source": [
    "extract_attributes <- function(gtf_attributes, att_of_interest){\n",
    "  att <- unlist(strsplit(gtf_attributes, \" \"))\n",
    "  if(att_of_interest %in% att){\n",
    "    return(gsub(\"\\\"|;\",\"\", att[which(att %in% att_of_interest)+1]))\n",
    "  } else {\n",
    "    return(NA)}\n",
    "}\n",
    "map_gene_names <- function(rna_matrix, gene_gtf_path, abc_genes_path){\n",
    "\tgene_ref <- fread(gene_gtf_path, header = FALSE, sep = \"\\t\") %>%\n",
    "\t\tsetNames(c(\"chr\",\"source\",\"type\",\"start\",\"end\",\"score\",\"strand\",\"phase\",\"attributes\")) %>%\n",
    "\t\tdplyr::filter(type == \"gene\")\n",
    "\tgene_ref$gene_ref_name <- unlist(lapply(gene_ref$attributes, extract_attributes, \"gene_name\"))\n",
    "\tgene_ref$Ensembl_ID <- unlist(lapply(gene_ref$attributes, extract_attributes, \"gene_id\"))\n",
    "\tgene_ref <- dplyr::select(gene_ref, gene_ref_name, Ensembl_ID) %>%\n",
    "\t\tmutate(Ensembl_ID = sub(\"\\\\.\\\\d+$\", \"\", Ensembl_ID)) %>% # remove decimal digits \n",
    "\t\tdistinct()\n",
    "\t\n",
    "\tabc_genes <- fread(abc_genes_path, col.names = c(\"chr\", \"start\", \"end\", \"name\", \"score\", \"strand\", \"Ensembl_ID\", \"gene_type\")) %>%\n",
    "\t\tdplyr::select(name, Ensembl_ID) %>%\n",
    "\t\trename(abc_name = name) %>%\n",
    "\t\tleft_join(gene_ref, by = \"Ensembl_ID\") %>%\n",
    "\t\tgroup_by(Ensembl_ID) %>% # remove cases where multiple genes map to one ensembl ID\n",
    "\t\tfilter(n() == 1) %>%\n",
    "\t\tungroup()\n",
    "\n",
    "\tgene_key <- abc_genes$abc_name\n",
    "\tnames(gene_key) <- abc_genes$gene_ref_name\n",
    "\n",
    "\t# remove genes not in our gene universe\t\n",
    "\trow_sub <- intersect(rownames(rna_matrix), names(gene_key)) # gene ref names\n",
    "\trna_matrix_filt <- rna_matrix[row_sub,] # still gene ref names\n",
    "\trownames(rna_matrix_filt) <- gene_key[row_sub] # converted to abc names\n",
    "\n",
    "\treturn(rna_matrix_filt)\n",
    "}"
   ]
  },
  {
   "cell_type": "code",
   "execution_count": 12,
   "id": "ca760678-9db9-418e-b7ac-29984eddad7e",
   "metadata": {},
   "outputs": [],
   "source": [
    "matrix.rna.rename = map_gene_names(matrix.rna,gene_gtf_path, abc_genes_path)"
   ]
  },
  {
   "cell_type": "code",
   "execution_count": 13,
   "id": "f5cc2224-0825-4977-aaad-2b24c74be813",
   "metadata": {},
   "outputs": [
    {
     "data": {
      "text/html": [
       "<style>\n",
       ".list-inline {list-style: none; margin:0; padding: 0}\n",
       ".list-inline>li {display: inline-block}\n",
       ".list-inline>li:not(:last-child)::after {content: \"\\00b7\"; padding: 0 .5ex}\n",
       "</style>\n",
       "<ol class=list-inline><li>17571</li><li>5277</li></ol>\n"
      ],
      "text/latex": [
       "\\begin{enumerate*}\n",
       "\\item 17571\n",
       "\\item 5277\n",
       "\\end{enumerate*}\n"
      ],
      "text/markdown": [
       "1. 17571\n",
       "2. 5277\n",
       "\n",
       "\n"
      ],
      "text/plain": [
       "[1] 17571  5277"
      ]
     },
     "metadata": {},
     "output_type": "display_data"
    },
    {
     "name": "stderr",
     "output_type": "stream",
     "text": [
      "  [[ suppressing 10 column names ‘e10l1_AAACCAGGTACTTATG-1’, ‘e10l1_AAACCAGGTCACACTG-1’, ‘e10l1_AAACCAGGTTATGTTG-1’ ... ]]\n",
      "\n"
     ]
    },
    {
     "data": {
      "text/plain": [
       "10 x 10 sparse Matrix of class \"dgCMatrix\"\n",
       "                             \n",
       "OR4F5     . . . . . . . . . .\n",
       "FAM87B    . . . . . . . . . .\n",
       "LINC01128 1 . . . . . . . . .\n",
       "FAM41C    . . . . . . . . . .\n",
       "SAMD11    . . . . . . . . . .\n",
       "NOC2L     . 1 . . . . . . . .\n",
       "KLHL17    . . . 1 . . . . . .\n",
       "PLEKHN1   . . . . . . . . . .\n",
       "PERM1     . . . . . . . . . .\n",
       "HES4      1 1 3 . 2 . . 1 . ."
      ]
     },
     "metadata": {},
     "output_type": "display_data"
    }
   ],
   "source": [
    "dim(matrix.rna.rename)\n",
    "matrix.rna.rename[1:10,1:10]"
   ]
  },
  {
   "cell_type": "code",
   "execution_count": 14,
   "id": "33f99cb2-d17f-42ac-8fd2-36ce1cd7814f",
   "metadata": {},
   "outputs": [
    {
     "data": {
      "text/plain": [
       "GRanges object with 2793593 ranges and 3 metadata columns:\n",
       "            seqnames            ranges strand |  TargetGene\n",
       "               <Rle>         <IRanges>  <Rle> | <character>\n",
       "        [1]     chr1 10001055-10001570      * | APITD1-CORT\n",
       "        [2]     chr1 10001055-10001570      * |       CASZ1\n",
       "        [3]     chr1 10001055-10001570      * |       CENPS\n",
       "        [4]     chr1 10001055-10001570      * |      CLSTN1\n",
       "        [5]     chr1 10001055-10001570      * |    CTNNBIP1\n",
       "        ...      ...               ...    ... .         ...\n",
       "  [2793589]     chrX   9941883-9942743      * |        WWC3\n",
       "  [2793590]     chrX 99603024-99603776      * |      PCDH19\n",
       "  [2793591]     chrX 99632013-99632219      * |      PCDH19\n",
       "  [2793592]     chrX   9995829-9996207      * |       TBL1X\n",
       "  [2793593]     chrX   9995829-9996207      * |        WWC3\n",
       "                          PeakName               PairName\n",
       "                       <character>            <character>\n",
       "        [1] chr1-10001055-10001570 chr1-10001055-100015..\n",
       "        [2] chr1-10001055-10001570 chr1-10001055-100015..\n",
       "        [3] chr1-10001055-10001570 chr1-10001055-100015..\n",
       "        [4] chr1-10001055-10001570 chr1-10001055-100015..\n",
       "        [5] chr1-10001055-10001570 chr1-10001055-100015..\n",
       "        ...                    ...                    ...\n",
       "  [2793589]   chrX-9941883-9942743 chrX-9941883-9942743..\n",
       "  [2793590] chrX-99603024-99603776 chrX-99603024-996037..\n",
       "  [2793591] chrX-99632013-99632219 chrX-99632013-996322..\n",
       "  [2793592]   chrX-9995829-9996207 chrX-9995829-9996207..\n",
       "  [2793593]   chrX-9995829-9996207 chrX-9995829-9996207..\n",
       "  -------\n",
       "  seqinfo: 23 sequences from an unspecified genome; no seqlengths"
      ]
     },
     "metadata": {},
     "output_type": "display_data"
    }
   ],
   "source": [
    "pairs.E2G.filter"
   ]
  },
  {
   "cell_type": "code",
   "execution_count": 15,
   "id": "0c8225d7-5216-4cc1-827e-bbb22c53f9fc",
   "metadata": {},
   "outputs": [
    {
     "data": {
      "text/plain": [
       "GRanges object with 2590409 ranges and 3 metadata columns:\n",
       "            seqnames            ranges strand |  TargetGene\n",
       "               <Rle>         <IRanges>  <Rle> | <character>\n",
       "        [1]     chr1 10001055-10001570      * | APITD1-CORT\n",
       "        [2]     chr1 10001055-10001570      * |       CASZ1\n",
       "        [3]     chr1 10001055-10001570      * |      CLSTN1\n",
       "        [4]     chr1 10001055-10001570      * |    CTNNBIP1\n",
       "        [5]     chr1 10001055-10001570      * |        DFFA\n",
       "        ...      ...               ...    ... .         ...\n",
       "  [2590405]     chrX   9941883-9942743      * |        WWC3\n",
       "  [2590406]     chrX 99603024-99603776      * |      PCDH19\n",
       "  [2590407]     chrX 99632013-99632219      * |      PCDH19\n",
       "  [2590408]     chrX   9995829-9996207      * |       TBL1X\n",
       "  [2590409]     chrX   9995829-9996207      * |        WWC3\n",
       "                          PeakName               PairName\n",
       "                       <character>            <character>\n",
       "        [1] chr1-10001055-10001570 chr1-10001055-100015..\n",
       "        [2] chr1-10001055-10001570 chr1-10001055-100015..\n",
       "        [3] chr1-10001055-10001570 chr1-10001055-100015..\n",
       "        [4] chr1-10001055-10001570 chr1-10001055-100015..\n",
       "        [5] chr1-10001055-10001570 chr1-10001055-100015..\n",
       "        ...                    ...                    ...\n",
       "  [2590405]   chrX-9941883-9942743 chrX-9941883-9942743..\n",
       "  [2590406] chrX-99603024-99603776 chrX-99603024-996037..\n",
       "  [2590407] chrX-99632013-99632219 chrX-99632013-996322..\n",
       "  [2590408]   chrX-9995829-9996207 chrX-9995829-9996207..\n",
       "  [2590409]   chrX-9995829-9996207 chrX-9995829-9996207..\n",
       "  -------\n",
       "  seqinfo: 23 sequences from an unspecified genome; no seqlengths"
      ]
     },
     "metadata": {},
     "output_type": "display_data"
    }
   ],
   "source": [
    "pairs.E2G.filter2 = pairs.E2G.filter[pairs.E2G.filter$TargetGene %in% rownames(matrix.rna.rename) &\n",
    "                                     pairs.E2G.filter$PeakName %in% rownames(matrix.atac)]\n",
    "pairs.E2G.filter2"
   ]
  },
  {
   "cell_type": "markdown",
   "id": "b16f7d5b-eabd-4e93-b8cd-f19a54df21f2",
   "metadata": {},
   "source": [
    "Prepare SCENT meta data"
   ]
  },
  {
   "cell_type": "code",
   "execution_count": 16,
   "id": "827059dd-6885-441e-973e-d7c49e5fd534",
   "metadata": {},
   "outputs": [
    {
     "data": {
      "text/html": [
       "<table class=\"dataframe\">\n",
       "<caption>A data.frame: 5277 × 6</caption>\n",
       "<thead>\n",
       "\t<tr><th></th><th scope=col>cell</th><th scope=col>nUMI</th><th scope=col>nMito</th><th scope=col>celltype</th><th scope=col>log.nUMI</th><th scope=col>percent.mito</th></tr>\n",
       "\t<tr><th></th><th scope=col>&lt;chr&gt;</th><th scope=col>&lt;dbl&gt;</th><th scope=col>&lt;dbl&gt;</th><th scope=col>&lt;chr&gt;</th><th scope=col>&lt;dbl&gt;</th><th scope=col>&lt;dbl&gt;</th></tr>\n",
       "</thead>\n",
       "<tbody>\n",
       "\t<tr><th scope=row>e10l1_AAACCAGGTACTTATG-1</th><td>e10l1_AAACCAGGTACTTATG-1</td><td> 8171</td><td> 811</td><td>Jurkat</td><td>9.008347</td><td>0.09925346</td></tr>\n",
       "\t<tr><th scope=row>e10l1_AAACCAGGTCACACTG-1</th><td>e10l1_AAACCAGGTCACACTG-1</td><td> 5554</td><td> 697</td><td>Jurkat</td><td>8.622274</td><td>0.12549514</td></tr>\n",
       "\t<tr><th scope=row>e10l1_AAACCAGGTTATGTTG-1</th><td>e10l1_AAACCAGGTTATGTTG-1</td><td> 7301</td><td>1200</td><td>Jurkat</td><td>8.895767</td><td>0.16436105</td></tr>\n",
       "\t<tr><th scope=row>e10l1_AAACCAGGTTTAACCA-1</th><td>e10l1_AAACCAGGTTTAACCA-1</td><td>11022</td><td>1591</td><td>Jurkat</td><td>9.307649</td><td>0.14434767</td></tr>\n",
       "\t<tr><th scope=row>e10l1_AAACCGGTCTAGTTGT-1</th><td>e10l1_AAACCGGTCTAGTTGT-1</td><td>10759</td><td>1487</td><td>Jurkat</td><td>9.283498</td><td>0.13820987</td></tr>\n",
       "\t<tr><th scope=row>e10l1_AAACGAACAAGTGGCT-1</th><td>e10l1_AAACGAACAAGTGGCT-1</td><td> 9205</td><td>2517</td><td>Jurkat</td><td>9.127502</td><td>0.27343835</td></tr>\n",
       "\t<tr><th scope=row>e10l1_AAACGAACAATCTCTA-1</th><td>e10l1_AAACGAACAATCTCTA-1</td><td> 7803</td><td> 267</td><td>Jurkat</td><td>8.962264</td><td>0.03421761</td></tr>\n",
       "\t<tr><th scope=row>e10l1_AAACGAACACAGCAAC-1</th><td>e10l1_AAACGAACACAGCAAC-1</td><td> 4769</td><td> 324</td><td>Jurkat</td><td>8.469892</td><td>0.06793877</td></tr>\n",
       "\t<tr><th scope=row>e10l1_AAACGGGCAATTGCCT-1</th><td>e10l1_AAACGGGCAATTGCCT-1</td><td> 7053</td><td>1062</td><td>Jurkat</td><td>8.861208</td><td>0.15057422</td></tr>\n",
       "\t<tr><th scope=row>e10l1_AAACGGGCACAGCAAC-1</th><td>e10l1_AAACGGGCACAGCAAC-1</td><td> 5715</td><td> 819</td><td>Jurkat</td><td>8.650850</td><td>0.14330709</td></tr>\n",
       "\t<tr><th scope=row>e10l1_AAACGGTTCCTTAGTG-1</th><td>e10l1_AAACGGTTCCTTAGTG-1</td><td> 9657</td><td> 678</td><td>Jurkat</td><td>9.175438</td><td>0.07020814</td></tr>\n",
       "\t<tr><th scope=row>e10l1_AAACTAGTCGGTTAGG-1</th><td>e10l1_AAACTAGTCGGTTAGG-1</td><td> 5399</td><td> 973</td><td>Jurkat</td><td>8.593969</td><td>0.18021856</td></tr>\n",
       "\t<tr><th scope=row>e10l1_AAACTAGTCGTTGTCA-1</th><td>e10l1_AAACTAGTCGTTGTCA-1</td><td> 7369</td><td>1012</td><td>Jurkat</td><td>8.905037</td><td>0.13733207</td></tr>\n",
       "\t<tr><th scope=row>e10l1_AAACTAGTCTAATCAC-1</th><td>e10l1_AAACTAGTCTAATCAC-1</td><td>10290</td><td> 697</td><td>Jurkat</td><td>9.238928</td><td>0.06773567</td></tr>\n",
       "\t<tr><th scope=row>e10l1_AAACTAGTCTCAAACT-1</th><td>e10l1_AAACTAGTCTCAAACT-1</td><td> 7283</td><td> 818</td><td>Jurkat</td><td>8.893298</td><td>0.11231635</td></tr>\n",
       "\t<tr><th scope=row>e10l1_AAACTCGCATTTCGCG-1</th><td>e10l1_AAACTCGCATTTCGCG-1</td><td> 5988</td><td> 543</td><td>Jurkat</td><td>8.697513</td><td>0.09068136</td></tr>\n",
       "\t<tr><th scope=row>e10l1_AAAGCCTAGGTGGCTA-1</th><td>e10l1_AAAGCCTAGGTGGCTA-1</td><td> 9376</td><td>1536</td><td>Jurkat</td><td>9.145909</td><td>0.16382253</td></tr>\n",
       "\t<tr><th scope=row>e10l1_AAAGCCTAGTCACTCA-1</th><td>e10l1_AAAGCCTAGTCACTCA-1</td><td>16705</td><td>2316</td><td>Jurkat</td><td>9.723463</td><td>0.13864113</td></tr>\n",
       "\t<tr><th scope=row>e10l1_AAAGCGAAGCTGGATG-1</th><td>e10l1_AAAGCGAAGCTGGATG-1</td><td> 4803</td><td> 784</td><td>Jurkat</td><td>8.476996</td><td>0.16323131</td></tr>\n",
       "\t<tr><th scope=row>e10l1_AAAGGAAGTAAACCGA-1</th><td>e10l1_AAAGGAAGTAAACCGA-1</td><td> 7980</td><td>1017</td><td>Jurkat</td><td>8.984694</td><td>0.12744361</td></tr>\n",
       "\t<tr><th scope=row>e10l1_AAAGGAAGTAGACTAG-1</th><td>e10l1_AAAGGAAGTAGACTAG-1</td><td> 9277</td><td>1072</td><td>Jurkat</td><td>9.135293</td><td>0.11555460</td></tr>\n",
       "\t<tr><th scope=row>e10l1_AAAGGAAGTGCGCGAA-1</th><td>e10l1_AAAGGAAGTGCGCGAA-1</td><td> 9377</td><td>1332</td><td>Jurkat</td><td>9.146015</td><td>0.14204970</td></tr>\n",
       "\t<tr><th scope=row>e10l1_AAAGGAAGTGGTGCAG-1</th><td>e10l1_AAAGGAAGTGGTGCAG-1</td><td> 6417</td><td> 374</td><td>Jurkat</td><td>8.766706</td><td>0.05828269</td></tr>\n",
       "\t<tr><th scope=row>e10l1_AAAGGAAGTTACGTAC-1</th><td>e10l1_AAAGGAAGTTACGTAC-1</td><td> 6598</td><td>1099</td><td>Jurkat</td><td>8.794522</td><td>0.16656563</td></tr>\n",
       "\t<tr><th scope=row>e10l1_AAAGGAAGTTGTTCCC-1</th><td>e10l1_AAAGGAAGTTGTTCCC-1</td><td> 6219</td><td> 249</td><td>Jurkat</td><td>8.735364</td><td>0.04003859</td></tr>\n",
       "\t<tr><th scope=row>e10l1_AAAGGCAAGATTGAGC-1</th><td>e10l1_AAAGGCAAGATTGAGC-1</td><td> 7957</td><td> 649</td><td>Jurkat</td><td>8.981807</td><td>0.08156340</td></tr>\n",
       "\t<tr><th scope=row>e10l1_AAAGGCAAGTACTGAA-1</th><td>e10l1_AAAGGCAAGTACTGAA-1</td><td> 6351</td><td> 730</td><td>Jurkat</td><td>8.756368</td><td>0.11494253</td></tr>\n",
       "\t<tr><th scope=row>e10l1_AAAGGCGCAATAGCAT-1</th><td>e10l1_AAAGGCGCAATAGCAT-1</td><td> 7394</td><td>1311</td><td>Jurkat</td><td>8.908424</td><td>0.17730592</td></tr>\n",
       "\t<tr><th scope=row>e10l1_AAAGGCGCACATAGCA-1</th><td>e10l1_AAAGGCGCACATAGCA-1</td><td> 5956</td><td>1454</td><td>Jurkat</td><td>8.692154</td><td>0.24412357</td></tr>\n",
       "\t<tr><th scope=row>e10l1_AAAGGCTTCCGAAACG-1</th><td>e10l1_AAAGGCTTCCGAAACG-1</td><td> 7602</td><td>1263</td><td>Jurkat</td><td>8.936167</td><td>0.16614049</td></tr>\n",
       "\t<tr><th scope=row>⋮</th><td>⋮</td><td>⋮</td><td>⋮</td><td>⋮</td><td>⋮</td><td>⋮</td></tr>\n",
       "\t<tr><th scope=row>e10l2_TTGTTGTAGTTATGGA-1</th><td>e10l2_TTGTTGTAGTTATGGA-1</td><td>4220</td><td>311</td><td>Jurkat</td><td>8.347590</td><td>0.07369668</td></tr>\n",
       "\t<tr><th scope=row>e10l2_TTTAACGGTATGTTTG-1</th><td>e10l2_TTTAACGGTATGTTTG-1</td><td>6098</td><td>851</td><td>Jurkat</td><td>8.715716</td><td>0.13955395</td></tr>\n",
       "\t<tr><th scope=row>e10l2_TTTAAGCTCAATTAGG-1</th><td>e10l2_TTTAAGCTCAATTAGG-1</td><td>6713</td><td>565</td><td>Jurkat</td><td>8.811801</td><td>0.08416505</td></tr>\n",
       "\t<tr><th scope=row>e10l2_TTTAAGCTCCGTTAGC-1</th><td>e10l2_TTTAAGCTCCGTTAGC-1</td><td>5301</td><td>519</td><td>Jurkat</td><td>8.575651</td><td>0.09790606</td></tr>\n",
       "\t<tr><th scope=row>e10l2_TTTAAGGAGCGGGACT-1</th><td>e10l2_TTTAAGGAGCGGGACT-1</td><td>5779</td><td>839</td><td>Jurkat</td><td>8.661986</td><td>0.14518083</td></tr>\n",
       "\t<tr><th scope=row>e10l2_TTTACTGCAACGGGAA-1</th><td>e10l2_TTTACTGCAACGGGAA-1</td><td>5970</td><td>653</td><td>Jurkat</td><td>8.694502</td><td>0.10938023</td></tr>\n",
       "\t<tr><th scope=row>e10l2_TTTACTGCATAGACGC-1</th><td>e10l2_TTTACTGCATAGACGC-1</td><td>4491</td><td>151</td><td>Jurkat</td><td>8.409831</td><td>0.03362280</td></tr>\n",
       "\t<tr><th scope=row>e10l2_TTTACTGCATCAGTAG-1</th><td>e10l2_TTTACTGCATCAGTAG-1</td><td>4802</td><td>668</td><td>Jurkat</td><td>8.476788</td><td>0.13910870</td></tr>\n",
       "\t<tr><th scope=row>e10l2_TTTAGCTAGCCTGTCG-1</th><td>e10l2_TTTAGCTAGCCTGTCG-1</td><td>7155</td><td>730</td><td>Jurkat</td><td>8.875567</td><td>0.10202655</td></tr>\n",
       "\t<tr><th scope=row>e10l2_TTTAGCTAGCTTACTG-1</th><td>e10l2_TTTAGCTAGCTTACTG-1</td><td>5106</td><td>529</td><td>Jurkat</td><td>8.538172</td><td>0.10360360</td></tr>\n",
       "\t<tr><th scope=row>e10l2_TTTAGGCGTATCCGTG-1</th><td>e10l2_TTTAGGCGTATCCGTG-1</td><td>4416</td><td>597</td><td>Jurkat</td><td>8.392990</td><td>0.13519022</td></tr>\n",
       "\t<tr><th scope=row>e10l2_TTTCAGTAGACTCCTA-1</th><td>e10l2_TTTCAGTAGACTCCTA-1</td><td>4847</td><td>661</td><td>Jurkat</td><td>8.486115</td><td>0.13637301</td></tr>\n",
       "\t<tr><th scope=row>e10l2_TTTCCTGGTAAATAGC-1</th><td>e10l2_TTTCCTGGTAAATAGC-1</td><td>5937</td><td>609</td><td>Jurkat</td><td>8.688959</td><td>0.10257706</td></tr>\n",
       "\t<tr><th scope=row>e10l2_TTTCCTGGTAATCACC-1</th><td>e10l2_TTTCCTGGTAATCACC-1</td><td>6553</td><td>367</td><td>Jurkat</td><td>8.787678</td><td>0.05600488</td></tr>\n",
       "\t<tr><th scope=row>e10l2_TTTCCTGGTTTAACCA-1</th><td>e10l2_TTTCCTGGTTTAACCA-1</td><td>4186</td><td>207</td><td>Jurkat</td><td>8.339501</td><td>0.04945055</td></tr>\n",
       "\t<tr><th scope=row>e10l2_TTTCTAGCAAACATGT-1</th><td>e10l2_TTTCTAGCAAACATGT-1</td><td>5118</td><td>577</td><td>Jurkat</td><td>8.540519</td><td>0.11273935</td></tr>\n",
       "\t<tr><th scope=row>e10l2_TTTCTAGCATCCTGCA-1</th><td>e10l2_TTTCTAGCATCCTGCA-1</td><td>8369</td><td>975</td><td>Jurkat</td><td>9.032290</td><td>0.11650137</td></tr>\n",
       "\t<tr><th scope=row>e10l2_TTTCTCATCATGAAGC-1</th><td>e10l2_TTTCTCATCATGAAGC-1</td><td>6217</td><td>878</td><td>Jurkat</td><td>8.735043</td><td>0.14122567</td></tr>\n",
       "\t<tr><th scope=row>e10l2_TTTCTCATCCTTCATC-1</th><td>e10l2_TTTCTCATCCTTCATC-1</td><td>5255</td><td>918</td><td>Jurkat</td><td>8.566935</td><td>0.17469077</td></tr>\n",
       "\t<tr><th scope=row>e10l2_TTTGAGGCATCCGGGA-1</th><td>e10l2_TTTGAGGCATCCGGGA-1</td><td>5284</td><td>617</td><td>Jurkat</td><td>8.572439</td><td>0.11676760</td></tr>\n",
       "\t<tr><th scope=row>e10l2_TTTGAGGCATTACAGG-1</th><td>e10l2_TTTGAGGCATTACAGG-1</td><td>6448</td><td>906</td><td>Jurkat</td><td>8.771525</td><td>0.14050868</td></tr>\n",
       "\t<tr><th scope=row>e10l2_TTTGCTCTCGCATTTG-1</th><td>e10l2_TTTGCTCTCGCATTTG-1</td><td>4849</td><td>440</td><td>Jurkat</td><td>8.486528</td><td>0.09074036</td></tr>\n",
       "\t<tr><th scope=row>e10l2_TTTGCTGAGCTTGCTA-1</th><td>e10l2_TTTGCTGAGCTTGCTA-1</td><td>7340</td><td>882</td><td>Jurkat</td><td>8.901094</td><td>0.12016349</td></tr>\n",
       "\t<tr><th scope=row>e10l2_TTTGCTGAGCTTTAAC-1</th><td>e10l2_TTTGCTGAGCTTTAAC-1</td><td>4349</td><td>690</td><td>Jurkat</td><td>8.377701</td><td>0.15865716</td></tr>\n",
       "\t<tr><th scope=row>e10l2_TTTGGAGCAAGGAATA-1</th><td>e10l2_TTTGGAGCAAGGAATA-1</td><td>4202</td><td>146</td><td>Jurkat</td><td>8.343316</td><td>0.03474536</td></tr>\n",
       "\t<tr><th scope=row>e10l2_TTTGGAGCAGGGAGTA-1</th><td>e10l2_TTTGGAGCAGGGAGTA-1</td><td>6461</td><td>657</td><td>Jurkat</td><td>8.773539</td><td>0.10168705</td></tr>\n",
       "\t<tr><th scope=row>e10l2_TTTGTCGAGTCCCTGG-1</th><td>e10l2_TTTGTCGAGTCCCTGG-1</td><td>9888</td><td>605</td><td>Jurkat</td><td>9.199077</td><td>0.06118528</td></tr>\n",
       "\t<tr><th scope=row>e10l2_TTTGTCGAGTGAGGCC-1</th><td>e10l2_TTTGTCGAGTGAGGCC-1</td><td>4300</td><td>112</td><td>Jurkat</td><td>8.366370</td><td>0.02604651</td></tr>\n",
       "\t<tr><th scope=row>e10l2_TTTGTGAGTCCTGAGC-1</th><td>e10l2_TTTGTGAGTCCTGAGC-1</td><td>6225</td><td>190</td><td>Jurkat</td><td>8.736329</td><td>0.03052209</td></tr>\n",
       "\t<tr><th scope=row>e10l2_TTTGTGAGTTTATGTG-1</th><td>e10l2_TTTGTGAGTTTATGTG-1</td><td>5899</td><td>820</td><td>Jurkat</td><td>8.682538</td><td>0.13900661</td></tr>\n",
       "</tbody>\n",
       "</table>\n"
      ],
      "text/latex": [
       "A data.frame: 5277 × 6\n",
       "\\begin{tabular}{r|llllll}\n",
       "  & cell & nUMI & nMito & celltype & log.nUMI & percent.mito\\\\\n",
       "  & <chr> & <dbl> & <dbl> & <chr> & <dbl> & <dbl>\\\\\n",
       "\\hline\n",
       "\te10l1\\_AAACCAGGTACTTATG-1 & e10l1\\_AAACCAGGTACTTATG-1 &  8171 &  811 & Jurkat & 9.008347 & 0.09925346\\\\\n",
       "\te10l1\\_AAACCAGGTCACACTG-1 & e10l1\\_AAACCAGGTCACACTG-1 &  5554 &  697 & Jurkat & 8.622274 & 0.12549514\\\\\n",
       "\te10l1\\_AAACCAGGTTATGTTG-1 & e10l1\\_AAACCAGGTTATGTTG-1 &  7301 & 1200 & Jurkat & 8.895767 & 0.16436105\\\\\n",
       "\te10l1\\_AAACCAGGTTTAACCA-1 & e10l1\\_AAACCAGGTTTAACCA-1 & 11022 & 1591 & Jurkat & 9.307649 & 0.14434767\\\\\n",
       "\te10l1\\_AAACCGGTCTAGTTGT-1 & e10l1\\_AAACCGGTCTAGTTGT-1 & 10759 & 1487 & Jurkat & 9.283498 & 0.13820987\\\\\n",
       "\te10l1\\_AAACGAACAAGTGGCT-1 & e10l1\\_AAACGAACAAGTGGCT-1 &  9205 & 2517 & Jurkat & 9.127502 & 0.27343835\\\\\n",
       "\te10l1\\_AAACGAACAATCTCTA-1 & e10l1\\_AAACGAACAATCTCTA-1 &  7803 &  267 & Jurkat & 8.962264 & 0.03421761\\\\\n",
       "\te10l1\\_AAACGAACACAGCAAC-1 & e10l1\\_AAACGAACACAGCAAC-1 &  4769 &  324 & Jurkat & 8.469892 & 0.06793877\\\\\n",
       "\te10l1\\_AAACGGGCAATTGCCT-1 & e10l1\\_AAACGGGCAATTGCCT-1 &  7053 & 1062 & Jurkat & 8.861208 & 0.15057422\\\\\n",
       "\te10l1\\_AAACGGGCACAGCAAC-1 & e10l1\\_AAACGGGCACAGCAAC-1 &  5715 &  819 & Jurkat & 8.650850 & 0.14330709\\\\\n",
       "\te10l1\\_AAACGGTTCCTTAGTG-1 & e10l1\\_AAACGGTTCCTTAGTG-1 &  9657 &  678 & Jurkat & 9.175438 & 0.07020814\\\\\n",
       "\te10l1\\_AAACTAGTCGGTTAGG-1 & e10l1\\_AAACTAGTCGGTTAGG-1 &  5399 &  973 & Jurkat & 8.593969 & 0.18021856\\\\\n",
       "\te10l1\\_AAACTAGTCGTTGTCA-1 & e10l1\\_AAACTAGTCGTTGTCA-1 &  7369 & 1012 & Jurkat & 8.905037 & 0.13733207\\\\\n",
       "\te10l1\\_AAACTAGTCTAATCAC-1 & e10l1\\_AAACTAGTCTAATCAC-1 & 10290 &  697 & Jurkat & 9.238928 & 0.06773567\\\\\n",
       "\te10l1\\_AAACTAGTCTCAAACT-1 & e10l1\\_AAACTAGTCTCAAACT-1 &  7283 &  818 & Jurkat & 8.893298 & 0.11231635\\\\\n",
       "\te10l1\\_AAACTCGCATTTCGCG-1 & e10l1\\_AAACTCGCATTTCGCG-1 &  5988 &  543 & Jurkat & 8.697513 & 0.09068136\\\\\n",
       "\te10l1\\_AAAGCCTAGGTGGCTA-1 & e10l1\\_AAAGCCTAGGTGGCTA-1 &  9376 & 1536 & Jurkat & 9.145909 & 0.16382253\\\\\n",
       "\te10l1\\_AAAGCCTAGTCACTCA-1 & e10l1\\_AAAGCCTAGTCACTCA-1 & 16705 & 2316 & Jurkat & 9.723463 & 0.13864113\\\\\n",
       "\te10l1\\_AAAGCGAAGCTGGATG-1 & e10l1\\_AAAGCGAAGCTGGATG-1 &  4803 &  784 & Jurkat & 8.476996 & 0.16323131\\\\\n",
       "\te10l1\\_AAAGGAAGTAAACCGA-1 & e10l1\\_AAAGGAAGTAAACCGA-1 &  7980 & 1017 & Jurkat & 8.984694 & 0.12744361\\\\\n",
       "\te10l1\\_AAAGGAAGTAGACTAG-1 & e10l1\\_AAAGGAAGTAGACTAG-1 &  9277 & 1072 & Jurkat & 9.135293 & 0.11555460\\\\\n",
       "\te10l1\\_AAAGGAAGTGCGCGAA-1 & e10l1\\_AAAGGAAGTGCGCGAA-1 &  9377 & 1332 & Jurkat & 9.146015 & 0.14204970\\\\\n",
       "\te10l1\\_AAAGGAAGTGGTGCAG-1 & e10l1\\_AAAGGAAGTGGTGCAG-1 &  6417 &  374 & Jurkat & 8.766706 & 0.05828269\\\\\n",
       "\te10l1\\_AAAGGAAGTTACGTAC-1 & e10l1\\_AAAGGAAGTTACGTAC-1 &  6598 & 1099 & Jurkat & 8.794522 & 0.16656563\\\\\n",
       "\te10l1\\_AAAGGAAGTTGTTCCC-1 & e10l1\\_AAAGGAAGTTGTTCCC-1 &  6219 &  249 & Jurkat & 8.735364 & 0.04003859\\\\\n",
       "\te10l1\\_AAAGGCAAGATTGAGC-1 & e10l1\\_AAAGGCAAGATTGAGC-1 &  7957 &  649 & Jurkat & 8.981807 & 0.08156340\\\\\n",
       "\te10l1\\_AAAGGCAAGTACTGAA-1 & e10l1\\_AAAGGCAAGTACTGAA-1 &  6351 &  730 & Jurkat & 8.756368 & 0.11494253\\\\\n",
       "\te10l1\\_AAAGGCGCAATAGCAT-1 & e10l1\\_AAAGGCGCAATAGCAT-1 &  7394 & 1311 & Jurkat & 8.908424 & 0.17730592\\\\\n",
       "\te10l1\\_AAAGGCGCACATAGCA-1 & e10l1\\_AAAGGCGCACATAGCA-1 &  5956 & 1454 & Jurkat & 8.692154 & 0.24412357\\\\\n",
       "\te10l1\\_AAAGGCTTCCGAAACG-1 & e10l1\\_AAAGGCTTCCGAAACG-1 &  7602 & 1263 & Jurkat & 8.936167 & 0.16614049\\\\\n",
       "\t⋮ & ⋮ & ⋮ & ⋮ & ⋮ & ⋮ & ⋮\\\\\n",
       "\te10l2\\_TTGTTGTAGTTATGGA-1 & e10l2\\_TTGTTGTAGTTATGGA-1 & 4220 & 311 & Jurkat & 8.347590 & 0.07369668\\\\\n",
       "\te10l2\\_TTTAACGGTATGTTTG-1 & e10l2\\_TTTAACGGTATGTTTG-1 & 6098 & 851 & Jurkat & 8.715716 & 0.13955395\\\\\n",
       "\te10l2\\_TTTAAGCTCAATTAGG-1 & e10l2\\_TTTAAGCTCAATTAGG-1 & 6713 & 565 & Jurkat & 8.811801 & 0.08416505\\\\\n",
       "\te10l2\\_TTTAAGCTCCGTTAGC-1 & e10l2\\_TTTAAGCTCCGTTAGC-1 & 5301 & 519 & Jurkat & 8.575651 & 0.09790606\\\\\n",
       "\te10l2\\_TTTAAGGAGCGGGACT-1 & e10l2\\_TTTAAGGAGCGGGACT-1 & 5779 & 839 & Jurkat & 8.661986 & 0.14518083\\\\\n",
       "\te10l2\\_TTTACTGCAACGGGAA-1 & e10l2\\_TTTACTGCAACGGGAA-1 & 5970 & 653 & Jurkat & 8.694502 & 0.10938023\\\\\n",
       "\te10l2\\_TTTACTGCATAGACGC-1 & e10l2\\_TTTACTGCATAGACGC-1 & 4491 & 151 & Jurkat & 8.409831 & 0.03362280\\\\\n",
       "\te10l2\\_TTTACTGCATCAGTAG-1 & e10l2\\_TTTACTGCATCAGTAG-1 & 4802 & 668 & Jurkat & 8.476788 & 0.13910870\\\\\n",
       "\te10l2\\_TTTAGCTAGCCTGTCG-1 & e10l2\\_TTTAGCTAGCCTGTCG-1 & 7155 & 730 & Jurkat & 8.875567 & 0.10202655\\\\\n",
       "\te10l2\\_TTTAGCTAGCTTACTG-1 & e10l2\\_TTTAGCTAGCTTACTG-1 & 5106 & 529 & Jurkat & 8.538172 & 0.10360360\\\\\n",
       "\te10l2\\_TTTAGGCGTATCCGTG-1 & e10l2\\_TTTAGGCGTATCCGTG-1 & 4416 & 597 & Jurkat & 8.392990 & 0.13519022\\\\\n",
       "\te10l2\\_TTTCAGTAGACTCCTA-1 & e10l2\\_TTTCAGTAGACTCCTA-1 & 4847 & 661 & Jurkat & 8.486115 & 0.13637301\\\\\n",
       "\te10l2\\_TTTCCTGGTAAATAGC-1 & e10l2\\_TTTCCTGGTAAATAGC-1 & 5937 & 609 & Jurkat & 8.688959 & 0.10257706\\\\\n",
       "\te10l2\\_TTTCCTGGTAATCACC-1 & e10l2\\_TTTCCTGGTAATCACC-1 & 6553 & 367 & Jurkat & 8.787678 & 0.05600488\\\\\n",
       "\te10l2\\_TTTCCTGGTTTAACCA-1 & e10l2\\_TTTCCTGGTTTAACCA-1 & 4186 & 207 & Jurkat & 8.339501 & 0.04945055\\\\\n",
       "\te10l2\\_TTTCTAGCAAACATGT-1 & e10l2\\_TTTCTAGCAAACATGT-1 & 5118 & 577 & Jurkat & 8.540519 & 0.11273935\\\\\n",
       "\te10l2\\_TTTCTAGCATCCTGCA-1 & e10l2\\_TTTCTAGCATCCTGCA-1 & 8369 & 975 & Jurkat & 9.032290 & 0.11650137\\\\\n",
       "\te10l2\\_TTTCTCATCATGAAGC-1 & e10l2\\_TTTCTCATCATGAAGC-1 & 6217 & 878 & Jurkat & 8.735043 & 0.14122567\\\\\n",
       "\te10l2\\_TTTCTCATCCTTCATC-1 & e10l2\\_TTTCTCATCCTTCATC-1 & 5255 & 918 & Jurkat & 8.566935 & 0.17469077\\\\\n",
       "\te10l2\\_TTTGAGGCATCCGGGA-1 & e10l2\\_TTTGAGGCATCCGGGA-1 & 5284 & 617 & Jurkat & 8.572439 & 0.11676760\\\\\n",
       "\te10l2\\_TTTGAGGCATTACAGG-1 & e10l2\\_TTTGAGGCATTACAGG-1 & 6448 & 906 & Jurkat & 8.771525 & 0.14050868\\\\\n",
       "\te10l2\\_TTTGCTCTCGCATTTG-1 & e10l2\\_TTTGCTCTCGCATTTG-1 & 4849 & 440 & Jurkat & 8.486528 & 0.09074036\\\\\n",
       "\te10l2\\_TTTGCTGAGCTTGCTA-1 & e10l2\\_TTTGCTGAGCTTGCTA-1 & 7340 & 882 & Jurkat & 8.901094 & 0.12016349\\\\\n",
       "\te10l2\\_TTTGCTGAGCTTTAAC-1 & e10l2\\_TTTGCTGAGCTTTAAC-1 & 4349 & 690 & Jurkat & 8.377701 & 0.15865716\\\\\n",
       "\te10l2\\_TTTGGAGCAAGGAATA-1 & e10l2\\_TTTGGAGCAAGGAATA-1 & 4202 & 146 & Jurkat & 8.343316 & 0.03474536\\\\\n",
       "\te10l2\\_TTTGGAGCAGGGAGTA-1 & e10l2\\_TTTGGAGCAGGGAGTA-1 & 6461 & 657 & Jurkat & 8.773539 & 0.10168705\\\\\n",
       "\te10l2\\_TTTGTCGAGTCCCTGG-1 & e10l2\\_TTTGTCGAGTCCCTGG-1 & 9888 & 605 & Jurkat & 9.199077 & 0.06118528\\\\\n",
       "\te10l2\\_TTTGTCGAGTGAGGCC-1 & e10l2\\_TTTGTCGAGTGAGGCC-1 & 4300 & 112 & Jurkat & 8.366370 & 0.02604651\\\\\n",
       "\te10l2\\_TTTGTGAGTCCTGAGC-1 & e10l2\\_TTTGTGAGTCCTGAGC-1 & 6225 & 190 & Jurkat & 8.736329 & 0.03052209\\\\\n",
       "\te10l2\\_TTTGTGAGTTTATGTG-1 & e10l2\\_TTTGTGAGTTTATGTG-1 & 5899 & 820 & Jurkat & 8.682538 & 0.13900661\\\\\n",
       "\\end{tabular}\n"
      ],
      "text/markdown": [
       "\n",
       "A data.frame: 5277 × 6\n",
       "\n",
       "| <!--/--> | cell &lt;chr&gt; | nUMI &lt;dbl&gt; | nMito &lt;dbl&gt; | celltype &lt;chr&gt; | log.nUMI &lt;dbl&gt; | percent.mito &lt;dbl&gt; |\n",
       "|---|---|---|---|---|---|---|\n",
       "| e10l1_AAACCAGGTACTTATG-1 | e10l1_AAACCAGGTACTTATG-1 |  8171 |  811 | Jurkat | 9.008347 | 0.09925346 |\n",
       "| e10l1_AAACCAGGTCACACTG-1 | e10l1_AAACCAGGTCACACTG-1 |  5554 |  697 | Jurkat | 8.622274 | 0.12549514 |\n",
       "| e10l1_AAACCAGGTTATGTTG-1 | e10l1_AAACCAGGTTATGTTG-1 |  7301 | 1200 | Jurkat | 8.895767 | 0.16436105 |\n",
       "| e10l1_AAACCAGGTTTAACCA-1 | e10l1_AAACCAGGTTTAACCA-1 | 11022 | 1591 | Jurkat | 9.307649 | 0.14434767 |\n",
       "| e10l1_AAACCGGTCTAGTTGT-1 | e10l1_AAACCGGTCTAGTTGT-1 | 10759 | 1487 | Jurkat | 9.283498 | 0.13820987 |\n",
       "| e10l1_AAACGAACAAGTGGCT-1 | e10l1_AAACGAACAAGTGGCT-1 |  9205 | 2517 | Jurkat | 9.127502 | 0.27343835 |\n",
       "| e10l1_AAACGAACAATCTCTA-1 | e10l1_AAACGAACAATCTCTA-1 |  7803 |  267 | Jurkat | 8.962264 | 0.03421761 |\n",
       "| e10l1_AAACGAACACAGCAAC-1 | e10l1_AAACGAACACAGCAAC-1 |  4769 |  324 | Jurkat | 8.469892 | 0.06793877 |\n",
       "| e10l1_AAACGGGCAATTGCCT-1 | e10l1_AAACGGGCAATTGCCT-1 |  7053 | 1062 | Jurkat | 8.861208 | 0.15057422 |\n",
       "| e10l1_AAACGGGCACAGCAAC-1 | e10l1_AAACGGGCACAGCAAC-1 |  5715 |  819 | Jurkat | 8.650850 | 0.14330709 |\n",
       "| e10l1_AAACGGTTCCTTAGTG-1 | e10l1_AAACGGTTCCTTAGTG-1 |  9657 |  678 | Jurkat | 9.175438 | 0.07020814 |\n",
       "| e10l1_AAACTAGTCGGTTAGG-1 | e10l1_AAACTAGTCGGTTAGG-1 |  5399 |  973 | Jurkat | 8.593969 | 0.18021856 |\n",
       "| e10l1_AAACTAGTCGTTGTCA-1 | e10l1_AAACTAGTCGTTGTCA-1 |  7369 | 1012 | Jurkat | 8.905037 | 0.13733207 |\n",
       "| e10l1_AAACTAGTCTAATCAC-1 | e10l1_AAACTAGTCTAATCAC-1 | 10290 |  697 | Jurkat | 9.238928 | 0.06773567 |\n",
       "| e10l1_AAACTAGTCTCAAACT-1 | e10l1_AAACTAGTCTCAAACT-1 |  7283 |  818 | Jurkat | 8.893298 | 0.11231635 |\n",
       "| e10l1_AAACTCGCATTTCGCG-1 | e10l1_AAACTCGCATTTCGCG-1 |  5988 |  543 | Jurkat | 8.697513 | 0.09068136 |\n",
       "| e10l1_AAAGCCTAGGTGGCTA-1 | e10l1_AAAGCCTAGGTGGCTA-1 |  9376 | 1536 | Jurkat | 9.145909 | 0.16382253 |\n",
       "| e10l1_AAAGCCTAGTCACTCA-1 | e10l1_AAAGCCTAGTCACTCA-1 | 16705 | 2316 | Jurkat | 9.723463 | 0.13864113 |\n",
       "| e10l1_AAAGCGAAGCTGGATG-1 | e10l1_AAAGCGAAGCTGGATG-1 |  4803 |  784 | Jurkat | 8.476996 | 0.16323131 |\n",
       "| e10l1_AAAGGAAGTAAACCGA-1 | e10l1_AAAGGAAGTAAACCGA-1 |  7980 | 1017 | Jurkat | 8.984694 | 0.12744361 |\n",
       "| e10l1_AAAGGAAGTAGACTAG-1 | e10l1_AAAGGAAGTAGACTAG-1 |  9277 | 1072 | Jurkat | 9.135293 | 0.11555460 |\n",
       "| e10l1_AAAGGAAGTGCGCGAA-1 | e10l1_AAAGGAAGTGCGCGAA-1 |  9377 | 1332 | Jurkat | 9.146015 | 0.14204970 |\n",
       "| e10l1_AAAGGAAGTGGTGCAG-1 | e10l1_AAAGGAAGTGGTGCAG-1 |  6417 |  374 | Jurkat | 8.766706 | 0.05828269 |\n",
       "| e10l1_AAAGGAAGTTACGTAC-1 | e10l1_AAAGGAAGTTACGTAC-1 |  6598 | 1099 | Jurkat | 8.794522 | 0.16656563 |\n",
       "| e10l1_AAAGGAAGTTGTTCCC-1 | e10l1_AAAGGAAGTTGTTCCC-1 |  6219 |  249 | Jurkat | 8.735364 | 0.04003859 |\n",
       "| e10l1_AAAGGCAAGATTGAGC-1 | e10l1_AAAGGCAAGATTGAGC-1 |  7957 |  649 | Jurkat | 8.981807 | 0.08156340 |\n",
       "| e10l1_AAAGGCAAGTACTGAA-1 | e10l1_AAAGGCAAGTACTGAA-1 |  6351 |  730 | Jurkat | 8.756368 | 0.11494253 |\n",
       "| e10l1_AAAGGCGCAATAGCAT-1 | e10l1_AAAGGCGCAATAGCAT-1 |  7394 | 1311 | Jurkat | 8.908424 | 0.17730592 |\n",
       "| e10l1_AAAGGCGCACATAGCA-1 | e10l1_AAAGGCGCACATAGCA-1 |  5956 | 1454 | Jurkat | 8.692154 | 0.24412357 |\n",
       "| e10l1_AAAGGCTTCCGAAACG-1 | e10l1_AAAGGCTTCCGAAACG-1 |  7602 | 1263 | Jurkat | 8.936167 | 0.16614049 |\n",
       "| ⋮ | ⋮ | ⋮ | ⋮ | ⋮ | ⋮ | ⋮ |\n",
       "| e10l2_TTGTTGTAGTTATGGA-1 | e10l2_TTGTTGTAGTTATGGA-1 | 4220 | 311 | Jurkat | 8.347590 | 0.07369668 |\n",
       "| e10l2_TTTAACGGTATGTTTG-1 | e10l2_TTTAACGGTATGTTTG-1 | 6098 | 851 | Jurkat | 8.715716 | 0.13955395 |\n",
       "| e10l2_TTTAAGCTCAATTAGG-1 | e10l2_TTTAAGCTCAATTAGG-1 | 6713 | 565 | Jurkat | 8.811801 | 0.08416505 |\n",
       "| e10l2_TTTAAGCTCCGTTAGC-1 | e10l2_TTTAAGCTCCGTTAGC-1 | 5301 | 519 | Jurkat | 8.575651 | 0.09790606 |\n",
       "| e10l2_TTTAAGGAGCGGGACT-1 | e10l2_TTTAAGGAGCGGGACT-1 | 5779 | 839 | Jurkat | 8.661986 | 0.14518083 |\n",
       "| e10l2_TTTACTGCAACGGGAA-1 | e10l2_TTTACTGCAACGGGAA-1 | 5970 | 653 | Jurkat | 8.694502 | 0.10938023 |\n",
       "| e10l2_TTTACTGCATAGACGC-1 | e10l2_TTTACTGCATAGACGC-1 | 4491 | 151 | Jurkat | 8.409831 | 0.03362280 |\n",
       "| e10l2_TTTACTGCATCAGTAG-1 | e10l2_TTTACTGCATCAGTAG-1 | 4802 | 668 | Jurkat | 8.476788 | 0.13910870 |\n",
       "| e10l2_TTTAGCTAGCCTGTCG-1 | e10l2_TTTAGCTAGCCTGTCG-1 | 7155 | 730 | Jurkat | 8.875567 | 0.10202655 |\n",
       "| e10l2_TTTAGCTAGCTTACTG-1 | e10l2_TTTAGCTAGCTTACTG-1 | 5106 | 529 | Jurkat | 8.538172 | 0.10360360 |\n",
       "| e10l2_TTTAGGCGTATCCGTG-1 | e10l2_TTTAGGCGTATCCGTG-1 | 4416 | 597 | Jurkat | 8.392990 | 0.13519022 |\n",
       "| e10l2_TTTCAGTAGACTCCTA-1 | e10l2_TTTCAGTAGACTCCTA-1 | 4847 | 661 | Jurkat | 8.486115 | 0.13637301 |\n",
       "| e10l2_TTTCCTGGTAAATAGC-1 | e10l2_TTTCCTGGTAAATAGC-1 | 5937 | 609 | Jurkat | 8.688959 | 0.10257706 |\n",
       "| e10l2_TTTCCTGGTAATCACC-1 | e10l2_TTTCCTGGTAATCACC-1 | 6553 | 367 | Jurkat | 8.787678 | 0.05600488 |\n",
       "| e10l2_TTTCCTGGTTTAACCA-1 | e10l2_TTTCCTGGTTTAACCA-1 | 4186 | 207 | Jurkat | 8.339501 | 0.04945055 |\n",
       "| e10l2_TTTCTAGCAAACATGT-1 | e10l2_TTTCTAGCAAACATGT-1 | 5118 | 577 | Jurkat | 8.540519 | 0.11273935 |\n",
       "| e10l2_TTTCTAGCATCCTGCA-1 | e10l2_TTTCTAGCATCCTGCA-1 | 8369 | 975 | Jurkat | 9.032290 | 0.11650137 |\n",
       "| e10l2_TTTCTCATCATGAAGC-1 | e10l2_TTTCTCATCATGAAGC-1 | 6217 | 878 | Jurkat | 8.735043 | 0.14122567 |\n",
       "| e10l2_TTTCTCATCCTTCATC-1 | e10l2_TTTCTCATCCTTCATC-1 | 5255 | 918 | Jurkat | 8.566935 | 0.17469077 |\n",
       "| e10l2_TTTGAGGCATCCGGGA-1 | e10l2_TTTGAGGCATCCGGGA-1 | 5284 | 617 | Jurkat | 8.572439 | 0.11676760 |\n",
       "| e10l2_TTTGAGGCATTACAGG-1 | e10l2_TTTGAGGCATTACAGG-1 | 6448 | 906 | Jurkat | 8.771525 | 0.14050868 |\n",
       "| e10l2_TTTGCTCTCGCATTTG-1 | e10l2_TTTGCTCTCGCATTTG-1 | 4849 | 440 | Jurkat | 8.486528 | 0.09074036 |\n",
       "| e10l2_TTTGCTGAGCTTGCTA-1 | e10l2_TTTGCTGAGCTTGCTA-1 | 7340 | 882 | Jurkat | 8.901094 | 0.12016349 |\n",
       "| e10l2_TTTGCTGAGCTTTAAC-1 | e10l2_TTTGCTGAGCTTTAAC-1 | 4349 | 690 | Jurkat | 8.377701 | 0.15865716 |\n",
       "| e10l2_TTTGGAGCAAGGAATA-1 | e10l2_TTTGGAGCAAGGAATA-1 | 4202 | 146 | Jurkat | 8.343316 | 0.03474536 |\n",
       "| e10l2_TTTGGAGCAGGGAGTA-1 | e10l2_TTTGGAGCAGGGAGTA-1 | 6461 | 657 | Jurkat | 8.773539 | 0.10168705 |\n",
       "| e10l2_TTTGTCGAGTCCCTGG-1 | e10l2_TTTGTCGAGTCCCTGG-1 | 9888 | 605 | Jurkat | 9.199077 | 0.06118528 |\n",
       "| e10l2_TTTGTCGAGTGAGGCC-1 | e10l2_TTTGTCGAGTGAGGCC-1 | 4300 | 112 | Jurkat | 8.366370 | 0.02604651 |\n",
       "| e10l2_TTTGTGAGTCCTGAGC-1 | e10l2_TTTGTGAGTCCTGAGC-1 | 6225 | 190 | Jurkat | 8.736329 | 0.03052209 |\n",
       "| e10l2_TTTGTGAGTTTATGTG-1 | e10l2_TTTGTGAGTTTATGTG-1 | 5899 | 820 | Jurkat | 8.682538 | 0.13900661 |\n",
       "\n"
      ],
      "text/plain": [
       "                         cell                     nUMI  nMito celltype log.nUMI\n",
       "e10l1_AAACCAGGTACTTATG-1 e10l1_AAACCAGGTACTTATG-1  8171  811  Jurkat   9.008347\n",
       "e10l1_AAACCAGGTCACACTG-1 e10l1_AAACCAGGTCACACTG-1  5554  697  Jurkat   8.622274\n",
       "e10l1_AAACCAGGTTATGTTG-1 e10l1_AAACCAGGTTATGTTG-1  7301 1200  Jurkat   8.895767\n",
       "e10l1_AAACCAGGTTTAACCA-1 e10l1_AAACCAGGTTTAACCA-1 11022 1591  Jurkat   9.307649\n",
       "e10l1_AAACCGGTCTAGTTGT-1 e10l1_AAACCGGTCTAGTTGT-1 10759 1487  Jurkat   9.283498\n",
       "e10l1_AAACGAACAAGTGGCT-1 e10l1_AAACGAACAAGTGGCT-1  9205 2517  Jurkat   9.127502\n",
       "e10l1_AAACGAACAATCTCTA-1 e10l1_AAACGAACAATCTCTA-1  7803  267  Jurkat   8.962264\n",
       "e10l1_AAACGAACACAGCAAC-1 e10l1_AAACGAACACAGCAAC-1  4769  324  Jurkat   8.469892\n",
       "e10l1_AAACGGGCAATTGCCT-1 e10l1_AAACGGGCAATTGCCT-1  7053 1062  Jurkat   8.861208\n",
       "e10l1_AAACGGGCACAGCAAC-1 e10l1_AAACGGGCACAGCAAC-1  5715  819  Jurkat   8.650850\n",
       "e10l1_AAACGGTTCCTTAGTG-1 e10l1_AAACGGTTCCTTAGTG-1  9657  678  Jurkat   9.175438\n",
       "e10l1_AAACTAGTCGGTTAGG-1 e10l1_AAACTAGTCGGTTAGG-1  5399  973  Jurkat   8.593969\n",
       "e10l1_AAACTAGTCGTTGTCA-1 e10l1_AAACTAGTCGTTGTCA-1  7369 1012  Jurkat   8.905037\n",
       "e10l1_AAACTAGTCTAATCAC-1 e10l1_AAACTAGTCTAATCAC-1 10290  697  Jurkat   9.238928\n",
       "e10l1_AAACTAGTCTCAAACT-1 e10l1_AAACTAGTCTCAAACT-1  7283  818  Jurkat   8.893298\n",
       "e10l1_AAACTCGCATTTCGCG-1 e10l1_AAACTCGCATTTCGCG-1  5988  543  Jurkat   8.697513\n",
       "e10l1_AAAGCCTAGGTGGCTA-1 e10l1_AAAGCCTAGGTGGCTA-1  9376 1536  Jurkat   9.145909\n",
       "e10l1_AAAGCCTAGTCACTCA-1 e10l1_AAAGCCTAGTCACTCA-1 16705 2316  Jurkat   9.723463\n",
       "e10l1_AAAGCGAAGCTGGATG-1 e10l1_AAAGCGAAGCTGGATG-1  4803  784  Jurkat   8.476996\n",
       "e10l1_AAAGGAAGTAAACCGA-1 e10l1_AAAGGAAGTAAACCGA-1  7980 1017  Jurkat   8.984694\n",
       "e10l1_AAAGGAAGTAGACTAG-1 e10l1_AAAGGAAGTAGACTAG-1  9277 1072  Jurkat   9.135293\n",
       "e10l1_AAAGGAAGTGCGCGAA-1 e10l1_AAAGGAAGTGCGCGAA-1  9377 1332  Jurkat   9.146015\n",
       "e10l1_AAAGGAAGTGGTGCAG-1 e10l1_AAAGGAAGTGGTGCAG-1  6417  374  Jurkat   8.766706\n",
       "e10l1_AAAGGAAGTTACGTAC-1 e10l1_AAAGGAAGTTACGTAC-1  6598 1099  Jurkat   8.794522\n",
       "e10l1_AAAGGAAGTTGTTCCC-1 e10l1_AAAGGAAGTTGTTCCC-1  6219  249  Jurkat   8.735364\n",
       "e10l1_AAAGGCAAGATTGAGC-1 e10l1_AAAGGCAAGATTGAGC-1  7957  649  Jurkat   8.981807\n",
       "e10l1_AAAGGCAAGTACTGAA-1 e10l1_AAAGGCAAGTACTGAA-1  6351  730  Jurkat   8.756368\n",
       "e10l1_AAAGGCGCAATAGCAT-1 e10l1_AAAGGCGCAATAGCAT-1  7394 1311  Jurkat   8.908424\n",
       "e10l1_AAAGGCGCACATAGCA-1 e10l1_AAAGGCGCACATAGCA-1  5956 1454  Jurkat   8.692154\n",
       "e10l1_AAAGGCTTCCGAAACG-1 e10l1_AAAGGCTTCCGAAACG-1  7602 1263  Jurkat   8.936167\n",
       "⋮                        ⋮                        ⋮     ⋮     ⋮        ⋮       \n",
       "e10l2_TTGTTGTAGTTATGGA-1 e10l2_TTGTTGTAGTTATGGA-1 4220  311   Jurkat   8.347590\n",
       "e10l2_TTTAACGGTATGTTTG-1 e10l2_TTTAACGGTATGTTTG-1 6098  851   Jurkat   8.715716\n",
       "e10l2_TTTAAGCTCAATTAGG-1 e10l2_TTTAAGCTCAATTAGG-1 6713  565   Jurkat   8.811801\n",
       "e10l2_TTTAAGCTCCGTTAGC-1 e10l2_TTTAAGCTCCGTTAGC-1 5301  519   Jurkat   8.575651\n",
       "e10l2_TTTAAGGAGCGGGACT-1 e10l2_TTTAAGGAGCGGGACT-1 5779  839   Jurkat   8.661986\n",
       "e10l2_TTTACTGCAACGGGAA-1 e10l2_TTTACTGCAACGGGAA-1 5970  653   Jurkat   8.694502\n",
       "e10l2_TTTACTGCATAGACGC-1 e10l2_TTTACTGCATAGACGC-1 4491  151   Jurkat   8.409831\n",
       "e10l2_TTTACTGCATCAGTAG-1 e10l2_TTTACTGCATCAGTAG-1 4802  668   Jurkat   8.476788\n",
       "e10l2_TTTAGCTAGCCTGTCG-1 e10l2_TTTAGCTAGCCTGTCG-1 7155  730   Jurkat   8.875567\n",
       "e10l2_TTTAGCTAGCTTACTG-1 e10l2_TTTAGCTAGCTTACTG-1 5106  529   Jurkat   8.538172\n",
       "e10l2_TTTAGGCGTATCCGTG-1 e10l2_TTTAGGCGTATCCGTG-1 4416  597   Jurkat   8.392990\n",
       "e10l2_TTTCAGTAGACTCCTA-1 e10l2_TTTCAGTAGACTCCTA-1 4847  661   Jurkat   8.486115\n",
       "e10l2_TTTCCTGGTAAATAGC-1 e10l2_TTTCCTGGTAAATAGC-1 5937  609   Jurkat   8.688959\n",
       "e10l2_TTTCCTGGTAATCACC-1 e10l2_TTTCCTGGTAATCACC-1 6553  367   Jurkat   8.787678\n",
       "e10l2_TTTCCTGGTTTAACCA-1 e10l2_TTTCCTGGTTTAACCA-1 4186  207   Jurkat   8.339501\n",
       "e10l2_TTTCTAGCAAACATGT-1 e10l2_TTTCTAGCAAACATGT-1 5118  577   Jurkat   8.540519\n",
       "e10l2_TTTCTAGCATCCTGCA-1 e10l2_TTTCTAGCATCCTGCA-1 8369  975   Jurkat   9.032290\n",
       "e10l2_TTTCTCATCATGAAGC-1 e10l2_TTTCTCATCATGAAGC-1 6217  878   Jurkat   8.735043\n",
       "e10l2_TTTCTCATCCTTCATC-1 e10l2_TTTCTCATCCTTCATC-1 5255  918   Jurkat   8.566935\n",
       "e10l2_TTTGAGGCATCCGGGA-1 e10l2_TTTGAGGCATCCGGGA-1 5284  617   Jurkat   8.572439\n",
       "e10l2_TTTGAGGCATTACAGG-1 e10l2_TTTGAGGCATTACAGG-1 6448  906   Jurkat   8.771525\n",
       "e10l2_TTTGCTCTCGCATTTG-1 e10l2_TTTGCTCTCGCATTTG-1 4849  440   Jurkat   8.486528\n",
       "e10l2_TTTGCTGAGCTTGCTA-1 e10l2_TTTGCTGAGCTTGCTA-1 7340  882   Jurkat   8.901094\n",
       "e10l2_TTTGCTGAGCTTTAAC-1 e10l2_TTTGCTGAGCTTTAAC-1 4349  690   Jurkat   8.377701\n",
       "e10l2_TTTGGAGCAAGGAATA-1 e10l2_TTTGGAGCAAGGAATA-1 4202  146   Jurkat   8.343316\n",
       "e10l2_TTTGGAGCAGGGAGTA-1 e10l2_TTTGGAGCAGGGAGTA-1 6461  657   Jurkat   8.773539\n",
       "e10l2_TTTGTCGAGTCCCTGG-1 e10l2_TTTGTCGAGTCCCTGG-1 9888  605   Jurkat   9.199077\n",
       "e10l2_TTTGTCGAGTGAGGCC-1 e10l2_TTTGTCGAGTGAGGCC-1 4300  112   Jurkat   8.366370\n",
       "e10l2_TTTGTGAGTCCTGAGC-1 e10l2_TTTGTGAGTCCTGAGC-1 6225  190   Jurkat   8.736329\n",
       "e10l2_TTTGTGAGTTTATGTG-1 e10l2_TTTGTGAGTTTATGTG-1 5899  820   Jurkat   8.682538\n",
       "                         percent.mito\n",
       "e10l1_AAACCAGGTACTTATG-1 0.09925346  \n",
       "e10l1_AAACCAGGTCACACTG-1 0.12549514  \n",
       "e10l1_AAACCAGGTTATGTTG-1 0.16436105  \n",
       "e10l1_AAACCAGGTTTAACCA-1 0.14434767  \n",
       "e10l1_AAACCGGTCTAGTTGT-1 0.13820987  \n",
       "e10l1_AAACGAACAAGTGGCT-1 0.27343835  \n",
       "e10l1_AAACGAACAATCTCTA-1 0.03421761  \n",
       "e10l1_AAACGAACACAGCAAC-1 0.06793877  \n",
       "e10l1_AAACGGGCAATTGCCT-1 0.15057422  \n",
       "e10l1_AAACGGGCACAGCAAC-1 0.14330709  \n",
       "e10l1_AAACGGTTCCTTAGTG-1 0.07020814  \n",
       "e10l1_AAACTAGTCGGTTAGG-1 0.18021856  \n",
       "e10l1_AAACTAGTCGTTGTCA-1 0.13733207  \n",
       "e10l1_AAACTAGTCTAATCAC-1 0.06773567  \n",
       "e10l1_AAACTAGTCTCAAACT-1 0.11231635  \n",
       "e10l1_AAACTCGCATTTCGCG-1 0.09068136  \n",
       "e10l1_AAAGCCTAGGTGGCTA-1 0.16382253  \n",
       "e10l1_AAAGCCTAGTCACTCA-1 0.13864113  \n",
       "e10l1_AAAGCGAAGCTGGATG-1 0.16323131  \n",
       "e10l1_AAAGGAAGTAAACCGA-1 0.12744361  \n",
       "e10l1_AAAGGAAGTAGACTAG-1 0.11555460  \n",
       "e10l1_AAAGGAAGTGCGCGAA-1 0.14204970  \n",
       "e10l1_AAAGGAAGTGGTGCAG-1 0.05828269  \n",
       "e10l1_AAAGGAAGTTACGTAC-1 0.16656563  \n",
       "e10l1_AAAGGAAGTTGTTCCC-1 0.04003859  \n",
       "e10l1_AAAGGCAAGATTGAGC-1 0.08156340  \n",
       "e10l1_AAAGGCAAGTACTGAA-1 0.11494253  \n",
       "e10l1_AAAGGCGCAATAGCAT-1 0.17730592  \n",
       "e10l1_AAAGGCGCACATAGCA-1 0.24412357  \n",
       "e10l1_AAAGGCTTCCGAAACG-1 0.16614049  \n",
       "⋮                        ⋮           \n",
       "e10l2_TTGTTGTAGTTATGGA-1 0.07369668  \n",
       "e10l2_TTTAACGGTATGTTTG-1 0.13955395  \n",
       "e10l2_TTTAAGCTCAATTAGG-1 0.08416505  \n",
       "e10l2_TTTAAGCTCCGTTAGC-1 0.09790606  \n",
       "e10l2_TTTAAGGAGCGGGACT-1 0.14518083  \n",
       "e10l2_TTTACTGCAACGGGAA-1 0.10938023  \n",
       "e10l2_TTTACTGCATAGACGC-1 0.03362280  \n",
       "e10l2_TTTACTGCATCAGTAG-1 0.13910870  \n",
       "e10l2_TTTAGCTAGCCTGTCG-1 0.10202655  \n",
       "e10l2_TTTAGCTAGCTTACTG-1 0.10360360  \n",
       "e10l2_TTTAGGCGTATCCGTG-1 0.13519022  \n",
       "e10l2_TTTCAGTAGACTCCTA-1 0.13637301  \n",
       "e10l2_TTTCCTGGTAAATAGC-1 0.10257706  \n",
       "e10l2_TTTCCTGGTAATCACC-1 0.05600488  \n",
       "e10l2_TTTCCTGGTTTAACCA-1 0.04945055  \n",
       "e10l2_TTTCTAGCAAACATGT-1 0.11273935  \n",
       "e10l2_TTTCTAGCATCCTGCA-1 0.11650137  \n",
       "e10l2_TTTCTCATCATGAAGC-1 0.14122567  \n",
       "e10l2_TTTCTCATCCTTCATC-1 0.17469077  \n",
       "e10l2_TTTGAGGCATCCGGGA-1 0.11676760  \n",
       "e10l2_TTTGAGGCATTACAGG-1 0.14050868  \n",
       "e10l2_TTTGCTCTCGCATTTG-1 0.09074036  \n",
       "e10l2_TTTGCTGAGCTTGCTA-1 0.12016349  \n",
       "e10l2_TTTGCTGAGCTTTAAC-1 0.15865716  \n",
       "e10l2_TTTGGAGCAAGGAATA-1 0.03474536  \n",
       "e10l2_TTTGGAGCAGGGAGTA-1 0.10168705  \n",
       "e10l2_TTTGTCGAGTCCCTGG-1 0.06118528  \n",
       "e10l2_TTTGTCGAGTGAGGCC-1 0.02604651  \n",
       "e10l2_TTTGTGAGTCCTGAGC-1 0.03052209  \n",
       "e10l2_TTTGTGAGTTTATGTG-1 0.13900661  "
      ]
     },
     "metadata": {},
     "output_type": "display_data"
    }
   ],
   "source": [
    "meta.data = data.frame(cell = colnames(matrix.rna),\n",
    "                       nUMI = colSums(matrix.rna),\n",
    "                       nMito = colSums(matrix.rna[grep(\"MT-\",rownames(matrix.rna)),]),\n",
    "                       celltype = celltype)\n",
    "meta.data[,\"log.nUMI\"] = log(meta.data[,\"nUMI\"])\n",
    "meta.data[,\"percent.mito\"] = meta.data[,\"nMito\"] / meta.data[,\"nUMI\"]\n",
    "meta.data"
   ]
  },
  {
   "cell_type": "markdown",
   "id": "b823cb4a-3ce6-40b1-9a0d-d5d1e4aa3912",
   "metadata": {},
   "source": [
    "RUN SCENT prediction"
   ]
  },
  {
   "cell_type": "code",
   "execution_count": 17,
   "id": "f46765dc-9de5-4411-9288-40b59435f9fb",
   "metadata": {},
   "outputs": [],
   "source": [
    "RhpcBLASctl::blas_set_num_threads(1)\n",
    "Sys.setenv(OPENBLAS_NUM_THREADS=1)\n",
    "SCENT_algorithm.modified = function (object, \n",
    "                                     # celltype, \n",
    "                                     # ncores, \n",
    "                                     # regr = \"poisson\", \n",
    "                                     # bin = TRUE) \n",
    "                                     regr = \"poisson\") {\n",
    "    res <- data.frame()\n",
    "    for (n in 1:nrow(object@peak.info)) {        \n",
    "        gene <- object@peak.info[n, 1]\n",
    "        this_peak <- object@peak.info[n, 2]\n",
    "        atac_target <- data.frame(cell = colnames(object@atac), \n",
    "            atac = object@atac[this_peak, ])\n",
    "        # if (bin) {\n",
    "        #     atac_target[atac_target$atac > 0, ]$atac <- 1\n",
    "        # }\n",
    "        mrna_target <- object@rna[gene, ]\n",
    "        df <- data.frame(cell = names(mrna_target), exprs = as.numeric(mrna_target))\n",
    "        df <- merge(df, atac_target, by = \"cell\")\n",
    "        df <- merge(df, object@meta.data, by = \"cell\")\n",
    "        # df2 <- df[df[[object@celltypes]] == celltype, ]\n",
    "        df2 <- df\n",
    "        nonzero_m <- length(df2$exprs[df2$exprs > 0])/length(df2$exprs)\n",
    "        nonzero_a <- length(df2$atac[df2$atac > 0])/length(df2$atac)\n",
    "        if (nonzero_m > 0.05 & nonzero_a > 0.05) {\n",
    "            res_var <- \"exprs\"\n",
    "            pred_var <- c(\"atac\", object@covariates)\n",
    "            formula <- as.formula(paste(res_var, paste(pred_var, \n",
    "                collapse = \"+\"), sep = \"~\"))\n",
    "            if (regr == \"poisson\") {\n",
    "                base = glm(formula, family = \"poisson\", data = df2)\n",
    "                coefs <- summary(base)$coefficients[\"atac\", ]\n",
    "                # assoc <- assoc_poisson\n",
    "                assoc <- SCENT::assoc_poisson\n",
    "            }\n",
    "            else if (regr == \"negbin\") {\n",
    "                base = glm.nb(formula, data = df2)\n",
    "                coefs <- summary(base)$coefficients[\"atac\", ]\n",
    "                # assoc <- assoc_negbin\n",
    "                assoc <- SCENT::assoc_negbin\n",
    "            }\n",
    "            bs = boot::boot(df2, assoc, R = 100, formula = formula, \n",
    "                stype = \"i\", parallel = \"no\", ncpus = 1)\n",
    "            # p0 = basic_p(bs$t0[1], bs$t[, 1])\n",
    "            p0 = SCENT::basic_p(bs$t0[1], bs$t[, 1])\n",
    "            if (p0 < 0.1) {\n",
    "                bs = boot::boot(df2, assoc, R = 500, formula = formula, \n",
    "                  stype = \"i\", \n",
    "                  # parallel = \"multicore\", ncpus = ncores)\n",
    "                  parallel = \"no\", ncpus = 1)\n",
    "                # p0 = basic_p(bs$t0[1], bs$t[, 1])\n",
    "                p0 = SCENT::basic_p(bs$t0[1], bs$t[, 1])\n",
    "            }\n",
    "            # if (p0 < 0.05) {\n",
    "            #     bs = boot::boot(df2, assoc, R = 2500, formula = formula, \n",
    "            #       stype = \"i\", \n",
    "            #       # parallel = \"multicore\", ncpus = ncores)\n",
    "            #       parallel = \"no\", ncpus = 1)\n",
    "            #     # p0 = basic_p(bs$t0[1], bs$t[, 1])\n",
    "            #     p0 = SCENT::basic_p(bs$t0[1], bs$t[, 1])\n",
    "            # }\n",
    "            # if (p0 < 0.01) {\n",
    "            #     bs = boot::boot(df2, assoc, R = 25000, formula = formula, \n",
    "            #       stype = \"i\", \n",
    "            #       # parallel = \"multicore\", ncpus = ncores)\n",
    "            #       parallel = \"no\", ncpus = 1)\n",
    "            #     # p0 = basic_p(bs$t0[1], bs$t[, 1])\n",
    "            #     p0 = SCENT::basic_p(bs$t0[1], bs$t[, 1])\n",
    "            # }\n",
    "            # if (p0 < 0.001) {\n",
    "            #     bs = boot::boot(df2, assoc, R = 50000, formula = formula, \n",
    "            #       stype = \"i\", \n",
    "            #       # parallel = \"multicore\", ncpus = ncores)\n",
    "            #       parallel = \"no\", ncpus = 1)\n",
    "            #     # p0 = basic_p(bs$t0[1], bs$t[, 1])\n",
    "            #     p0 = SCENT::basic_p(bs$t0[1], bs$t[, 1])\n",
    "            # }\n",
    "            out <- data.frame(gene = gene, peak = this_peak, \n",
    "                beta = coefs[1], se = coefs[2], z = coefs[3], \n",
    "                p = coefs[4], boot_basic_p = p0)           \n",
    "            res <- rbind(res, out)\n",
    "        }\n",
    "    }\n",
    "    object@SCENT.result <- res\n",
    "    return(object)\n",
    "}"
   ]
  },
  {
   "cell_type": "code",
   "execution_count": 18,
   "id": "563771b9-b96a-44d5-a5fe-fa30a7b9851b",
   "metadata": {},
   "outputs": [],
   "source": [
    "dir.create(paste(dir.output,\"chr\",sep = \"/\"),recursive = T)"
   ]
  },
  {
   "cell_type": "code",
   "execution_count": 19,
   "id": "0d2266ce-b92d-40d2-9b78-f39bd33a5079",
   "metadata": {},
   "outputs": [],
   "source": [
    "chr.done = dir(paste(dir.output,\"chr\",sep = \"/\"))\n",
    "chr.run = as.character(unique(seqnames(pairs.E2G)))\n",
    "chr.run = chr.run[!chr.run %in% chr.done]"
   ]
  },
  {
   "cell_type": "code",
   "execution_count": 20,
   "id": "2d41238d-e833-4e0e-add5-bb56bb615c1a",
   "metadata": {},
   "outputs": [
    {
     "name": "stdout",
     "output_type": "stream",
     "text": [
      "[1] \"chr1\"\n"
     ]
    },
    {
     "name": "stderr",
     "output_type": "stream",
     "text": [
      "Warning message in split.default(x = seq_len(nrow(x)), f = f, drop = drop, ...):\n",
      "“data length is not a multiple of split variable”\n"
     ]
    },
    {
     "name": "stdout",
     "output_type": "stream",
     "text": [
      "[1] \"chr10\"\n"
     ]
    },
    {
     "name": "stderr",
     "output_type": "stream",
     "text": [
      "Warning message in split.default(x = seq_len(nrow(x)), f = f, drop = drop, ...):\n",
      "“data length is not a multiple of split variable”\n"
     ]
    },
    {
     "name": "stdout",
     "output_type": "stream",
     "text": [
      "[1] \"chr11\"\n"
     ]
    },
    {
     "name": "stderr",
     "output_type": "stream",
     "text": [
      "Warning message in split.default(x = seq_len(nrow(x)), f = f, drop = drop, ...):\n",
      "“data length is not a multiple of split variable”\n"
     ]
    },
    {
     "name": "stdout",
     "output_type": "stream",
     "text": [
      "[1] \"chr14\"\n"
     ]
    },
    {
     "name": "stderr",
     "output_type": "stream",
     "text": [
      "Warning message in split.default(x = seq_len(nrow(x)), f = f, drop = drop, ...):\n",
      "“data length is not a multiple of split variable”\n"
     ]
    },
    {
     "name": "stdout",
     "output_type": "stream",
     "text": [
      "[1] \"chr15\"\n"
     ]
    },
    {
     "name": "stderr",
     "output_type": "stream",
     "text": [
      "Warning message in split.default(x = seq_len(nrow(x)), f = f, drop = drop, ...):\n",
      "“data length is not a multiple of split variable”\n"
     ]
    },
    {
     "name": "stdout",
     "output_type": "stream",
     "text": [
      "[1] \"chr16\"\n"
     ]
    },
    {
     "name": "stderr",
     "output_type": "stream",
     "text": [
      "Warning message in split.default(x = seq_len(nrow(x)), f = f, drop = drop, ...):\n",
      "“data length is not a multiple of split variable”\n"
     ]
    },
    {
     "name": "stdout",
     "output_type": "stream",
     "text": [
      "[1] \"chr17\"\n"
     ]
    },
    {
     "name": "stderr",
     "output_type": "stream",
     "text": [
      "Warning message in split.default(x = seq_len(nrow(x)), f = f, drop = drop, ...):\n",
      "“data length is not a multiple of split variable”\n"
     ]
    },
    {
     "name": "stdout",
     "output_type": "stream",
     "text": [
      "[1] \"chr18\"\n"
     ]
    },
    {
     "name": "stderr",
     "output_type": "stream",
     "text": [
      "Warning message in split.default(x = seq_len(nrow(x)), f = f, drop = drop, ...):\n",
      "“data length is not a multiple of split variable”\n"
     ]
    },
    {
     "name": "stdout",
     "output_type": "stream",
     "text": [
      "[1] \"chr19\"\n"
     ]
    },
    {
     "name": "stderr",
     "output_type": "stream",
     "text": [
      "Warning message in split.default(x = seq_len(nrow(x)), f = f, drop = drop, ...):\n",
      "“data length is not a multiple of split variable”\n"
     ]
    },
    {
     "name": "stdout",
     "output_type": "stream",
     "text": [
      "[1] \"chr2\"\n"
     ]
    },
    {
     "name": "stderr",
     "output_type": "stream",
     "text": [
      "Warning message in split.default(x = seq_len(nrow(x)), f = f, drop = drop, ...):\n",
      "“data length is not a multiple of split variable”\n"
     ]
    },
    {
     "name": "stdout",
     "output_type": "stream",
     "text": [
      "[1] \"chr20\"\n"
     ]
    },
    {
     "name": "stderr",
     "output_type": "stream",
     "text": [
      "Warning message in split.default(x = seq_len(nrow(x)), f = f, drop = drop, ...):\n",
      "“data length is not a multiple of split variable”\n"
     ]
    },
    {
     "name": "stdout",
     "output_type": "stream",
     "text": [
      "[1] \"chr21\"\n"
     ]
    },
    {
     "name": "stderr",
     "output_type": "stream",
     "text": [
      "Warning message in split.default(x = seq_len(nrow(x)), f = f, drop = drop, ...):\n",
      "“data length is not a multiple of split variable”\n"
     ]
    },
    {
     "name": "stdout",
     "output_type": "stream",
     "text": [
      "[1] \"chr22\"\n"
     ]
    },
    {
     "name": "stderr",
     "output_type": "stream",
     "text": [
      "Warning message in split.default(x = seq_len(nrow(x)), f = f, drop = drop, ...):\n",
      "“data length is not a multiple of split variable”\n"
     ]
    },
    {
     "name": "stdout",
     "output_type": "stream",
     "text": [
      "[1] \"chr3\"\n",
      "[1] \"chr4\"\n"
     ]
    },
    {
     "name": "stderr",
     "output_type": "stream",
     "text": [
      "Warning message in split.default(x = seq_len(nrow(x)), f = f, drop = drop, ...):\n",
      "“data length is not a multiple of split variable”\n"
     ]
    },
    {
     "name": "stdout",
     "output_type": "stream",
     "text": [
      "[1] \"chr5\"\n"
     ]
    },
    {
     "name": "stderr",
     "output_type": "stream",
     "text": [
      "Warning message in split.default(x = seq_len(nrow(x)), f = f, drop = drop, ...):\n",
      "“data length is not a multiple of split variable”\n"
     ]
    },
    {
     "name": "stdout",
     "output_type": "stream",
     "text": [
      "[1] \"chr6\"\n"
     ]
    },
    {
     "name": "stderr",
     "output_type": "stream",
     "text": [
      "Warning message in split.default(x = seq_len(nrow(x)), f = f, drop = drop, ...):\n",
      "“data length is not a multiple of split variable”\n"
     ]
    },
    {
     "name": "stdout",
     "output_type": "stream",
     "text": [
      "[1] \"chr7\"\n"
     ]
    },
    {
     "name": "stderr",
     "output_type": "stream",
     "text": [
      "Warning message in split.default(x = seq_len(nrow(x)), f = f, drop = drop, ...):\n",
      "“data length is not a multiple of split variable”\n"
     ]
    },
    {
     "name": "stdout",
     "output_type": "stream",
     "text": [
      "[1] \"chr8\"\n"
     ]
    },
    {
     "name": "stderr",
     "output_type": "stream",
     "text": [
      "Warning message in split.default(x = seq_len(nrow(x)), f = f, drop = drop, ...):\n",
      "“data length is not a multiple of split variable”\n"
     ]
    },
    {
     "name": "stdout",
     "output_type": "stream",
     "text": [
      "[1] \"chr9\"\n"
     ]
    },
    {
     "name": "stderr",
     "output_type": "stream",
     "text": [
      "Warning message in split.default(x = seq_len(nrow(x)), f = f, drop = drop, ...):\n",
      "“data length is not a multiple of split variable”\n"
     ]
    },
    {
     "name": "stdout",
     "output_type": "stream",
     "text": [
      "[1] \"chrX\"\n"
     ]
    },
    {
     "name": "stderr",
     "output_type": "stream",
     "text": [
      "Warning message in split.default(x = seq_len(nrow(x)), f = f, drop = drop, ...):\n",
      "“data length is not a multiple of split variable”\n"
     ]
    }
   ],
   "source": [
    "for(chr.tmp in chr.run){\n",
    "  print(chr.tmp)\n",
    "  pairs.E2G.chr.res = pairs.E2G.filter2[seqnames(pairs.E2G.filter2) == chr.tmp]\n",
    "  gene_peak.chr = as.data.frame(mcols(pairs.E2G.chr.res)[,c(\"TargetGene\",\"PeakName\")])\n",
    "  list.gene_peak.chr <- split(gene_peak.chr, seq_len(n.cores))\n",
    "  \n",
    "  list.obj.SCENT.chr <- lapply(list.gene_peak.chr, function(gene_peak.tmp) {\n",
    "    obj.SCENT.tmp <- CreateSCENTObj(\n",
    "      rna = matrix.rna.rename[rownames(matrix.rna.rename) %in% gene_peak.tmp$TargetGene,],\n",
    "      atac = matrix.atac[rownames(matrix.atac) %in% gene_peak.tmp$PeakName,], \n",
    "      meta.data = meta.data,\n",
    "      peak.info = gene_peak.tmp,\n",
    "      covariates = c(\"log.nUMI\",\"percent.mito\"), \n",
    "      celltypes = \"celltype\"\n",
    "    )\n",
    "  })\n",
    "  \n",
    "  cl <- makeCluster(n.cores)\n",
    "  clusterExport(cl, varlist=c(\"SCENT_algorithm.modified\"))\n",
    "  list.SCENT.result.chr <- parLapply(cl, list.obj.SCENT.chr, function(obj.SCENT.tmp) {\n",
    "    obj.SCENT.tmp <- SCENT_algorithm.modified(object = obj.SCENT.tmp)\n",
    "    return(obj.SCENT.tmp@SCENT.result)\n",
    "  })\n",
    "  stopCluster(cl)\n",
    "  \n",
    "  \n",
    "  df.SCENT.result.chr = do.call(rbind,list.SCENT.result.chr)\n",
    "  rownames(df.SCENT.result.chr) = paste(df.SCENT.result.chr$peak,\n",
    "                                        df.SCENT.result.chr$gene,\n",
    "                                        sep = \"_\")\n",
    "\n",
    "  pairs.E2G.chr.res = pairs.E2G.chr.res[pairs.E2G.chr.res$PairName %in% rownames(df.SCENT.result.chr)]\n",
    "  mcols(pairs.E2G.chr.res)[,c(\"beta\",\"se\",\"z\",\"p\",\"boot_basic_p\")] = \n",
    "    df.SCENT.result.chr[pairs.E2G.chr.res$PairName,c(\"beta\",\"se\",\"z\",\"p\",\"boot_basic_p\")]\n",
    "  pairs.E2G.chr.res$boot_basic_p.log10 = -log10(pairs.E2G.chr.res$boot_basic_p)\n",
    "  pairs.E2G.chr.res$sign = 1\n",
    "  pairs.E2G.chr.res$sign[pairs.E2G.chr.res$beta < 0] = -1\n",
    "  pairs.E2G.chr.res$boot_basic_p.log10.signed = pairs.E2G.chr.res$boot_basic_p.log10 * pairs.E2G.chr.res$sign\n",
    "  saveRDS(pairs.E2G.chr.res,\n",
    "          paste(dir.output,\"chr\",chr.tmp,sep = \"/\"))\n",
    "  rm (pairs.E2G.chr.res)\n",
    "}"
   ]
  },
  {
   "cell_type": "markdown",
   "id": "da9d1451-54e0-49e0-ae8b-cd0158115820",
   "metadata": {},
   "source": [
    "Merge results"
   ]
  },
  {
   "cell_type": "code",
   "execution_count": 21,
   "id": "6b4278f1-7d9d-402f-95c6-f274a6befea3",
   "metadata": {},
   "outputs": [],
   "source": [
    "chr.merge = as.character(unique(seqnames(pairs.E2G)))\n",
    "list.res = list()\n",
    "for(chr.tmp in chr.merge){\n",
    "    list.res[[chr.tmp]] = readRDS(paste(dir.output,\"chr\",chr.tmp,sep = \"/\"))\n",
    "}\n",
    "pairs.E2G.res = unlist(as(list.res, \"GRangesList\"))"
   ]
  },
  {
   "cell_type": "markdown",
   "id": "00278bea-8baf-4ed0-93d5-1289f05fa36a",
   "metadata": {},
   "source": [
    "Save results"
   ]
  },
  {
   "cell_type": "code",
   "execution_count": 22,
   "id": "48824f05-aedd-476c-88d6-ae58d1833fc9",
   "metadata": {},
   "outputs": [
    {
     "data": {
      "text/plain": [
       "GRanges object with 248050 ranges and 11 metadata columns:\n",
       "       seqnames              ranges strand |  TargetGene               PeakName\n",
       "          <Rle>           <IRanges>  <Rle> | <character>            <character>\n",
       "  chr1     chr1 100037799-100039086      * |         AGL chr1-100037799-10003..\n",
       "  chr1     chr1 100037799-100039086      * |      CDC14A chr1-100037799-10003..\n",
       "  chr1     chr1 100037799-100039086      * |         DBT chr1-100037799-10003..\n",
       "  chr1     chr1 100037799-100039086      * |        DPH5 chr1-100037799-10003..\n",
       "  chr1     chr1 100037799-100039086      * |       EXTL2 chr1-100037799-10003..\n",
       "   ...      ...                 ...    ... .         ...                    ...\n",
       "  chrX     chrX       989869-990628      * |      GTPBP6     chrX-989869-990628\n",
       "  chrX     chrX       989869-990628      * |       P2RY8     chrX-989869-990628\n",
       "  chrX     chrX       989869-990628      * |      PLCXD1     chrX-989869-990628\n",
       "  chrX     chrX       989869-990628      * |     PPP2R3B     chrX-989869-990628\n",
       "  chrX     chrX       989869-990628      * |     SLC25A6     chrX-989869-990628\n",
       "                     PairName       beta        se         z         p\n",
       "                  <character>  <numeric> <numeric> <numeric> <numeric>\n",
       "  chr1 chr1-100037799-10003.. -0.0391908 0.0424583 -0.923043 0.3559849\n",
       "  chr1 chr1-100037799-10003..  0.0499687 0.0382961  1.304796 0.1919622\n",
       "  chr1 chr1-100037799-10003.. -0.0432472 0.0564631 -0.765938 0.4437131\n",
       "  chr1 chr1-100037799-10003..  0.0558829 0.0518390  1.078011 0.2810290\n",
       "  chr1 chr1-100037799-10003..  0.0911646 0.0510966  1.784161 0.0743975\n",
       "   ...                    ...        ...       ...       ...       ...\n",
       "  chrX chrX-989869-990628_G..  0.1309894 0.1170505  1.119084  0.263104\n",
       "  chrX chrX-989869-990628_P.. -0.0638665 0.0587493 -1.087102  0.276992\n",
       "  chrX chrX-989869-990628_P..  0.1581850 0.1135219  1.393431  0.163489\n",
       "  chrX chrX-989869-990628_P.. -0.0271258 0.1187129 -0.228499  0.819258\n",
       "  chrX chrX-989869-990628_S.. -0.0599331 0.0451151 -1.328449  0.184030\n",
       "       boot_basic_p boot_basic_p.log10      sign boot_basic_p.log10.signed\n",
       "          <numeric>          <numeric> <numeric>                 <numeric>\n",
       "  chr1         0.40           0.397940        -1                 -0.397940\n",
       "  chr1         0.18           0.744727         1                  0.744727\n",
       "  chr1         0.68           0.167491        -1                 -0.167491\n",
       "  chr1         0.24           0.619789         1                  0.619789\n",
       "  chr1         0.12           0.920819         1                  0.920819\n",
       "   ...          ...                ...       ...                       ...\n",
       "  chrX         0.24          0.6197888         1                 0.6197888\n",
       "  chrX         0.34          0.4685211        -1                -0.4685211\n",
       "  chrX         0.22          0.6575773         1                 0.6575773\n",
       "  chrX         0.84          0.0757207        -1                -0.0757207\n",
       "  chrX         0.22          0.6575773        -1                -0.6575773\n",
       "  -------\n",
       "  seqinfo: 23 sequences from an unspecified genome; no seqlengths"
      ]
     },
     "metadata": {},
     "output_type": "display_data"
    }
   ],
   "source": [
    "saveRDS(pairs.E2G.res,\n",
    "        paste(dir.output,\"pairs.E2G.res.rds\",sep = \"/\"))\n",
    "pairs.E2G.res"
   ]
  },
  {
   "cell_type": "code",
   "execution_count": 23,
   "id": "2297128a-9ed6-42b8-90c7-459969fb5afd",
   "metadata": {},
   "outputs": [
    {
     "data": {
      "text/html": [
       "<table class=\"dataframe\">\n",
       "<caption>A data.frame: 248050 × 14</caption>\n",
       "<thead>\n",
       "\t<tr><th scope=col>chr</th><th scope=col>start</th><th scope=col>end</th><th scope=col>TargetGene</th><th scope=col>CellType</th><th scope=col>beta</th><th scope=col>se</th><th scope=col>z</th><th scope=col>p</th><th scope=col>boot_basic_p</th><th scope=col>boot_basic_p.log10</th><th scope=col>sign</th><th scope=col>boot_basic_p.log10.signed</th><th scope=col>FDR</th></tr>\n",
       "\t<tr><th scope=col>&lt;fct&gt;</th><th scope=col>&lt;int&gt;</th><th scope=col>&lt;int&gt;</th><th scope=col>&lt;chr&gt;</th><th scope=col>&lt;chr&gt;</th><th scope=col>&lt;dbl&gt;</th><th scope=col>&lt;dbl&gt;</th><th scope=col>&lt;dbl&gt;</th><th scope=col>&lt;dbl&gt;</th><th scope=col>&lt;dbl&gt;</th><th scope=col>&lt;dbl&gt;</th><th scope=col>&lt;dbl&gt;</th><th scope=col>&lt;dbl&gt;</th><th scope=col>&lt;dbl&gt;</th></tr>\n",
       "</thead>\n",
       "<tbody>\n",
       "\t<tr><td>chr1</td><td>100037799</td><td>100039086</td><td>AGL     </td><td>Jurkat</td><td>-0.039190822</td><td>0.04245829</td><td>-0.9230428</td><td>0.35598491</td><td>0.400</td><td>0.39794001</td><td>-1</td><td>-0.39794001</td><td>0.9180407</td></tr>\n",
       "\t<tr><td>chr1</td><td>100037799</td><td>100039086</td><td>CDC14A  </td><td>Jurkat</td><td> 0.049968673</td><td>0.03829615</td><td> 1.3047963</td><td>0.19196221</td><td>0.180</td><td>0.74472749</td><td> 1</td><td> 0.74472749</td><td>0.8279526</td></tr>\n",
       "\t<tr><td>chr1</td><td>100037799</td><td>100039086</td><td>DBT     </td><td>Jurkat</td><td>-0.043247246</td><td>0.05646311</td><td>-0.7659381</td><td>0.44371313</td><td>0.680</td><td>0.16749109</td><td>-1</td><td>-0.16749109</td><td>0.9639175</td></tr>\n",
       "\t<tr><td>chr1</td><td>100037799</td><td>100039086</td><td>DPH5    </td><td>Jurkat</td><td> 0.055882949</td><td>0.05183896</td><td> 1.0780106</td><td>0.28102901</td><td>0.240</td><td>0.61978876</td><td> 1</td><td> 0.61978876</td><td>0.8606746</td></tr>\n",
       "\t<tr><td>chr1</td><td>100037799</td><td>100039086</td><td>EXTL2   </td><td>Jurkat</td><td> 0.091164625</td><td>0.05109664</td><td> 1.7841608</td><td>0.07439753</td><td>0.120</td><td>0.92081875</td><td> 1</td><td> 0.92081875</td><td>0.8120046</td></tr>\n",
       "\t<tr><td>chr1</td><td>100037799</td><td>100039086</td><td>FRRS1   </td><td>Jurkat</td><td> 0.081787229</td><td>0.08672185</td><td> 0.9430983</td><td>0.34563061</td><td>0.300</td><td>0.52287875</td><td> 1</td><td> 0.52287875</td><td>0.8855028</td></tr>\n",
       "\t<tr><td>chr1</td><td>100037799</td><td>100039086</td><td>RTCA    </td><td>Jurkat</td><td>-0.033756303</td><td>0.05123184</td><td>-0.6588931</td><td>0.50996444</td><td>0.540</td><td>0.26760624</td><td>-1</td><td>-0.26760624</td><td>0.9445925</td></tr>\n",
       "\t<tr><td>chr1</td><td>100037799</td><td>100039086</td><td>RTCA-AS1</td><td>Jurkat</td><td> 0.091042710</td><td>0.12029165</td><td> 0.7568498</td><td>0.44913986</td><td>0.380</td><td>0.42021640</td><td> 1</td><td> 0.42021640</td><td>0.9123369</td></tr>\n",
       "\t<tr><td>chr1</td><td>100037799</td><td>100039086</td><td>SASS6   </td><td>Jurkat</td><td> 0.015584603</td><td>0.03928745</td><td> 0.3966814</td><td>0.69160240</td><td>0.720</td><td>0.14266750</td><td> 1</td><td> 0.14266750</td><td>0.9679213</td></tr>\n",
       "\t<tr><td>chr1</td><td>100037799</td><td>100039086</td><td>SLC30A7 </td><td>Jurkat</td><td> 0.022558104</td><td>0.02847985</td><td> 0.7920724</td><td>0.42831847</td><td>0.480</td><td>0.31875876</td><td> 1</td><td> 0.31875876</td><td>0.9354568</td></tr>\n",
       "\t<tr><td>chr1</td><td>100037799</td><td>100039086</td><td>TRMT13  </td><td>Jurkat</td><td>-0.023849572</td><td>0.05180316</td><td>-0.4603884</td><td>0.64523747</td><td>0.760</td><td>0.11918641</td><td>-1</td><td>-0.11918641</td><td>0.9725594</td></tr>\n",
       "\t<tr><td>chr1</td><td>100132417</td><td>100133466</td><td>AGL     </td><td>Jurkat</td><td> 0.026733619</td><td>0.04521825</td><td> 0.5912130</td><td>0.55437773</td><td>0.660</td><td>0.18045606</td><td> 1</td><td> 0.18045606</td><td>0.9617278</td></tr>\n",
       "\t<tr><td>chr1</td><td>100132417</td><td>100133466</td><td>CDC14A  </td><td>Jurkat</td><td> 0.010488626</td><td>0.04167562</td><td> 0.2516730</td><td>0.80129386</td><td>0.580</td><td>0.23657201</td><td> 1</td><td> 0.23657201</td><td>0.9514768</td></tr>\n",
       "\t<tr><td>chr1</td><td>100132417</td><td>100133466</td><td>DBT     </td><td>Jurkat</td><td>-0.029507358</td><td>0.06096467</td><td>-0.4840075</td><td>0.62838056</td><td>0.660</td><td>0.18045606</td><td>-1</td><td>-0.18045606</td><td>0.9617278</td></tr>\n",
       "\t<tr><td>chr1</td><td>100132417</td><td>100133466</td><td>DPH5    </td><td>Jurkat</td><td>-0.065406460</td><td>0.05777285</td><td>-1.1321315</td><td>0.25757916</td><td>0.260</td><td>0.58502665</td><td>-1</td><td>-0.58502665</td><td>0.8689320</td></tr>\n",
       "\t<tr><td>chr1</td><td>100132417</td><td>100133466</td><td>EXTL2   </td><td>Jurkat</td><td>-0.016305430</td><td>0.05650482</td><td>-0.2885671</td><td>0.77291270</td><td>0.840</td><td>0.07572071</td><td>-1</td><td>-0.07572071</td><td>0.9788503</td></tr>\n",
       "\t<tr><td>chr1</td><td>100132417</td><td>100133466</td><td>FRRS1   </td><td>Jurkat</td><td> 0.088124630</td><td>0.09324459</td><td> 0.9450910</td><td>0.34461240</td><td>0.380</td><td>0.42021640</td><td> 1</td><td> 0.42021640</td><td>0.9123369</td></tr>\n",
       "\t<tr><td>chr1</td><td>100132417</td><td>100133466</td><td>RTCA    </td><td>Jurkat</td><td> 0.110907264</td><td>0.05345332</td><td> 2.0748433</td><td>0.03800106</td><td>0.056</td><td>1.25181197</td><td> 1</td><td> 1.25181197</td><td>0.8031685</td></tr>\n",
       "\t<tr><td>chr1</td><td>100132417</td><td>100133466</td><td>RTCA-AS1</td><td>Jurkat</td><td> 0.037337634</td><td>0.13113152</td><td> 0.2847342</td><td>0.77584776</td><td>0.620</td><td>0.20760831</td><td> 1</td><td> 0.20760831</td><td>0.9566556</td></tr>\n",
       "\t<tr><td>chr1</td><td>100132417</td><td>100133466</td><td>SASS6   </td><td>Jurkat</td><td>-0.012727000</td><td>0.04281864</td><td>-0.2972303</td><td>0.76629066</td><td>0.780</td><td>0.10790540</td><td>-1</td><td>-0.10790540</td><td>0.9744206</td></tr>\n",
       "\t<tr><td>chr1</td><td>100132417</td><td>100133466</td><td>SLC30A7 </td><td>Jurkat</td><td> 0.045527642</td><td>0.03056287</td><td> 1.4896389</td><td>0.13631920</td><td>0.200</td><td>0.69897000</td><td> 1</td><td> 0.69897000</td><td>0.8396378</td></tr>\n",
       "\t<tr><td>chr1</td><td>100132417</td><td>100133466</td><td>TRMT13  </td><td>Jurkat</td><td> 0.007360971</td><td>0.05562413</td><td> 0.1323341</td><td>0.89472002</td><td>0.840</td><td>0.07572071</td><td> 1</td><td> 0.07572071</td><td>0.9788503</td></tr>\n",
       "\t<tr><td>chr1</td><td>  1001752</td><td>  1002084</td><td>ACAP3   </td><td>Jurkat</td><td> 0.067789693</td><td>0.23718745</td><td> 0.2858064</td><td>0.77502640</td><td>0.760</td><td>0.11918641</td><td> 1</td><td> 0.11918641</td><td>0.9725594</td></tr>\n",
       "\t<tr><td>chr1</td><td>  1001752</td><td>  1002084</td><td>ATAD3A  </td><td>Jurkat</td><td> 0.129039082</td><td>0.14247390</td><td> 0.9057033</td><td>0.36509290</td><td>0.380</td><td>0.42021640</td><td> 1</td><td> 0.42021640</td><td>0.9123369</td></tr>\n",
       "\t<tr><td>chr1</td><td>  1001752</td><td>  1002084</td><td>AURKAIP1</td><td>Jurkat</td><td>-0.113008745</td><td>0.09064536</td><td>-1.2467129</td><td>0.21250277</td><td>0.320</td><td>0.49485002</td><td>-1</td><td>-0.49485002</td><td>0.8941659</td></tr>\n",
       "\t<tr><td>chr1</td><td>  1001752</td><td>  1002084</td><td>B3GALT6 </td><td>Jurkat</td><td> 0.063172353</td><td>0.14783749</td><td> 0.4273094</td><td>0.66915397</td><td>0.600</td><td>0.22184875</td><td> 1</td><td> 0.22184875</td><td>0.9535922</td></tr>\n",
       "\t<tr><td>chr1</td><td>  1001752</td><td>  1002084</td><td>C1orf159</td><td>Jurkat</td><td> 0.065227996</td><td>0.12106841</td><td> 0.5387697</td><td>0.59004574</td><td>0.460</td><td>0.33724217</td><td> 1</td><td> 0.33724217</td><td>0.9317801</td></tr>\n",
       "\t<tr><td>chr1</td><td>  1001752</td><td>  1002084</td><td>CCNL2   </td><td>Jurkat</td><td> 0.075472637</td><td>0.07821805</td><td> 0.9649005</td><td>0.33459467</td><td>0.380</td><td>0.42021640</td><td> 1</td><td> 0.42021640</td><td>0.9123369</td></tr>\n",
       "\t<tr><td>chr1</td><td>  1001752</td><td>  1002084</td><td>CDK11B  </td><td>Jurkat</td><td> 0.087155513</td><td>0.09967839</td><td> 0.8743672</td><td>0.38191834</td><td>0.240</td><td>0.61978876</td><td> 1</td><td> 0.61978876</td><td>0.8606746</td></tr>\n",
       "\t<tr><td>chr1</td><td>  1001752</td><td>  1002084</td><td>DVL1    </td><td>Jurkat</td><td>-0.025577951</td><td>0.23083078</td><td>-0.1108082</td><td>0.91176841</td><td>0.920</td><td>0.03621217</td><td>-1</td><td>-0.03621217</td><td>0.9847077</td></tr>\n",
       "\t<tr><td>⋮</td><td>⋮</td><td>⋮</td><td>⋮</td><td>⋮</td><td>⋮</td><td>⋮</td><td>⋮</td><td>⋮</td><td>⋮</td><td>⋮</td><td>⋮</td><td>⋮</td><td>⋮</td></tr>\n",
       "\t<tr><td>chrX</td><td>80808044</td><td>80808534</td><td>HMGN5  </td><td>Jurkat</td><td> 0.17054335</td><td>0.09094711</td><td> 1.8751927</td><td>0.060766217</td><td>0.076</td><td>1.119186408</td><td> 1</td><td> 1.119186408</td><td>0.8120046</td></tr>\n",
       "\t<tr><td>chrX</td><td>80808044</td><td>80808534</td><td>SH3BGRL</td><td>Jurkat</td><td> 0.08353283</td><td>0.05931258</td><td> 1.4083494</td><td>0.159027633</td><td>0.180</td><td>0.744727495</td><td> 1</td><td> 0.744727495</td><td>0.8279526</td></tr>\n",
       "\t<tr><td>chrX</td><td>80809316</td><td>80810277</td><td>BRWD3  </td><td>Jurkat</td><td> 0.01376847</td><td>0.03609981</td><td> 0.3814001</td><td>0.702906393</td><td>0.580</td><td>0.236572006</td><td> 1</td><td> 0.236572006</td><td>0.9514768</td></tr>\n",
       "\t<tr><td>chrX</td><td>80809316</td><td>80810277</td><td>HMGN5  </td><td>Jurkat</td><td>-0.02083517</td><td>0.06174520</td><td>-0.3374379</td><td>0.735786813</td><td>0.780</td><td>0.107905397</td><td>-1</td><td>-0.107905397</td><td>0.9744206</td></tr>\n",
       "\t<tr><td>chrX</td><td>80809316</td><td>80810277</td><td>SH3BGRL</td><td>Jurkat</td><td> 0.03071266</td><td>0.03827705</td><td> 0.8023780</td><td>0.422334358</td><td>0.540</td><td>0.267606240</td><td> 1</td><td> 0.267606240</td><td>0.9445925</td></tr>\n",
       "\t<tr><td>chrX</td><td>81120716</td><td>81122326</td><td>BRWD3  </td><td>Jurkat</td><td>-0.01649326</td><td>0.04204963</td><td>-0.3922331</td><td>0.694885980</td><td>0.540</td><td>0.267606240</td><td>-1</td><td>-0.267606240</td><td>0.9445925</td></tr>\n",
       "\t<tr><td>chrX</td><td>81120716</td><td>81122326</td><td>HMGN5  </td><td>Jurkat</td><td> 0.05480104</td><td>0.06917716</td><td> 0.7921840</td><td>0.428253381</td><td>0.380</td><td>0.420216403</td><td> 1</td><td> 0.420216403</td><td>0.9123369</td></tr>\n",
       "\t<tr><td>chrX</td><td>81120716</td><td>81122326</td><td>SH3BGRL</td><td>Jurkat</td><td> 0.01028440</td><td>0.04432252</td><td> 0.2320356</td><td>0.816510377</td><td>0.760</td><td>0.119186408</td><td> 1</td><td> 0.119186408</td><td>0.9725594</td></tr>\n",
       "\t<tr><td>chrX</td><td>81201611</td><td>81202619</td><td>BRWD3  </td><td>Jurkat</td><td> 0.13227808</td><td>0.05477356</td><td> 2.4149986</td><td>0.015735272</td><td>0.040</td><td>1.397940009</td><td> 1</td><td> 1.397940009</td><td>0.7333333</td></tr>\n",
       "\t<tr><td>chrX</td><td>81201611</td><td>81202619</td><td>HMGN5  </td><td>Jurkat</td><td>-0.01190935</td><td>0.09805472</td><td>-0.1214561</td><td>0.903329774</td><td>1.000</td><td>0.000000000</td><td>-1</td><td> 0.000000000</td><td>1.0000000</td></tr>\n",
       "\t<tr><td>chrX</td><td>81201611</td><td>81202619</td><td>SH3BGRL</td><td>Jurkat</td><td> 0.01350923</td><td>0.06126524</td><td> 0.2205040</td><td>0.825478666</td><td>0.900</td><td>0.045757491</td><td> 1</td><td> 0.045757491</td><td>0.9834365</td></tr>\n",
       "\t<tr><td>chrX</td><td>85002849</td><td>85004473</td><td>APOOL  </td><td>Jurkat</td><td>-0.09053422</td><td>0.07910759</td><td>-1.1444442</td><td>0.252439460</td><td>0.300</td><td>0.522878745</td><td>-1</td><td>-0.522878745</td><td>0.8855028</td></tr>\n",
       "\t<tr><td>chrX</td><td>85002849</td><td>85004473</td><td>ZNF711 </td><td>Jurkat</td><td> 0.07495197</td><td>0.08880053</td><td> 0.8440486</td><td>0.398642249</td><td>0.380</td><td>0.420216403</td><td> 1</td><td> 0.420216403</td><td>0.9123369</td></tr>\n",
       "\t<tr><td>chrX</td><td>85243318</td><td>85245361</td><td>APOOL  </td><td>Jurkat</td><td>-0.06065459</td><td>0.08245086</td><td>-0.7356453</td><td>0.461946594</td><td>0.560</td><td>0.251811973</td><td>-1</td><td>-0.251811973</td><td>0.9483069</td></tr>\n",
       "\t<tr><td>chrX</td><td>85243318</td><td>85245361</td><td>CHM    </td><td>Jurkat</td><td> 0.03305906</td><td>0.06511437</td><td> 0.5077076</td><td>0.611658451</td><td>0.560</td><td>0.251811973</td><td> 1</td><td> 0.251811973</td><td>0.9483069</td></tr>\n",
       "\t<tr><td>chrX</td><td>85243318</td><td>85245361</td><td>ZNF711 </td><td>Jurkat</td><td> 0.23733036</td><td>0.08780411</td><td> 2.7029526</td><td>0.006872655</td><td>0.004</td><td>2.397940009</td><td> 1</td><td> 2.397940009</td><td>0.2940723</td></tr>\n",
       "\t<tr><td>chrX</td><td>86047105</td><td>86047903</td><td>CHM    </td><td>Jurkat</td><td> 0.06938769</td><td>0.07235460</td><td> 0.9589949</td><td>0.337561336</td><td>0.200</td><td>0.698970004</td><td> 1</td><td> 0.698970004</td><td>0.8396378</td></tr>\n",
       "\t<tr><td>chrX</td><td>86047105</td><td>86047903</td><td>ZNF711 </td><td>Jurkat</td><td> 0.08674240</td><td>0.10502515</td><td> 0.8259203</td><td>0.408849319</td><td>0.520</td><td>0.283996656</td><td> 1</td><td> 0.283996656</td><td>0.9422740</td></tr>\n",
       "\t<tr><td>chrX</td><td> 9462950</td><td> 9463539</td><td>TBL1X  </td><td>Jurkat</td><td> 0.03416558</td><td>0.05531705</td><td> 0.6176321</td><td>0.536817902</td><td>0.520</td><td>0.283996656</td><td> 1</td><td> 0.283996656</td><td>0.9422740</td></tr>\n",
       "\t<tr><td>chrX</td><td> 9462950</td><td> 9463539</td><td>WWC3   </td><td>Jurkat</td><td>-0.08249059</td><td>0.16726548</td><td>-0.4931717</td><td>0.621891294</td><td>0.800</td><td>0.096910013</td><td>-1</td><td>-0.096910013</td><td>0.9753364</td></tr>\n",
       "\t<tr><td>chrX</td><td> 9464507</td><td> 9465713</td><td>TBL1X  </td><td>Jurkat</td><td> 0.01541835</td><td>0.05119881</td><td> 0.3011466</td><td>0.763302698</td><td>0.760</td><td>0.119186408</td><td> 1</td><td> 0.119186408</td><td>0.9725594</td></tr>\n",
       "\t<tr><td>chrX</td><td> 9464507</td><td> 9465713</td><td>WWC3   </td><td>Jurkat</td><td>-0.04850488</td><td>0.15108898</td><td>-0.3210352</td><td>0.748183728</td><td>0.780</td><td>0.107905397</td><td>-1</td><td>-0.107905397</td><td>0.9744206</td></tr>\n",
       "\t<tr><td>chrX</td><td>96684171</td><td>96685911</td><td>DIAPH2 </td><td>Jurkat</td><td> 0.01473036</td><td>0.02340397</td><td> 0.6293959</td><td>0.529089916</td><td>0.680</td><td>0.167491087</td><td> 1</td><td> 0.167491087</td><td>0.9639175</td></tr>\n",
       "\t<tr><td>chrX</td><td>  989869</td><td>  990628</td><td>AKAP17A</td><td>Jurkat</td><td>-0.08960467</td><td>0.11092266</td><td>-0.8078121</td><td>0.419198750</td><td>0.600</td><td>0.221848750</td><td>-1</td><td>-0.221848750</td><td>0.9535922</td></tr>\n",
       "\t<tr><td>chrX</td><td>  989869</td><td>  990628</td><td>ASMTL  </td><td>Jurkat</td><td> 0.02417161</td><td>0.13770653</td><td> 0.1755299</td><td>0.860663305</td><td>0.980</td><td>0.008773924</td><td> 1</td><td> 0.008773924</td><td>0.9893289</td></tr>\n",
       "\t<tr><td>chrX</td><td>  989869</td><td>  990628</td><td>GTPBP6 </td><td>Jurkat</td><td> 0.13098938</td><td>0.11705048</td><td> 1.1190844</td><td>0.263104114</td><td>0.240</td><td>0.619788758</td><td> 1</td><td> 0.619788758</td><td>0.8606746</td></tr>\n",
       "\t<tr><td>chrX</td><td>  989869</td><td>  990628</td><td>P2RY8  </td><td>Jurkat</td><td>-0.06386654</td><td>0.05874933</td><td>-1.0871024</td><td>0.276991547</td><td>0.340</td><td>0.468521083</td><td>-1</td><td>-0.468521083</td><td>0.9014697</td></tr>\n",
       "\t<tr><td>chrX</td><td>  989869</td><td>  990628</td><td>PLCXD1 </td><td>Jurkat</td><td> 0.15818501</td><td>0.11352191</td><td> 1.3934315</td><td>0.163489351</td><td>0.220</td><td>0.657577319</td><td> 1</td><td> 0.657577319</td><td>0.8512354</td></tr>\n",
       "\t<tr><td>chrX</td><td>  989869</td><td>  990628</td><td>PPP2R3B</td><td>Jurkat</td><td>-0.02712578</td><td>0.11871293</td><td>-0.2284990</td><td>0.819258340</td><td>0.840</td><td>0.075720714</td><td>-1</td><td>-0.075720714</td><td>0.9788503</td></tr>\n",
       "\t<tr><td>chrX</td><td>  989869</td><td>  990628</td><td>SLC25A6</td><td>Jurkat</td><td>-0.05993308</td><td>0.04511506</td><td>-1.3284493</td><td>0.184029717</td><td>0.220</td><td>0.657577319</td><td>-1</td><td>-0.657577319</td><td>0.8512354</td></tr>\n",
       "</tbody>\n",
       "</table>\n"
      ],
      "text/latex": [
       "A data.frame: 248050 × 14\n",
       "\\begin{tabular}{llllllllllllll}\n",
       " chr & start & end & TargetGene & CellType & beta & se & z & p & boot\\_basic\\_p & boot\\_basic\\_p.log10 & sign & boot\\_basic\\_p.log10.signed & FDR\\\\\n",
       " <fct> & <int> & <int> & <chr> & <chr> & <dbl> & <dbl> & <dbl> & <dbl> & <dbl> & <dbl> & <dbl> & <dbl> & <dbl>\\\\\n",
       "\\hline\n",
       "\t chr1 & 100037799 & 100039086 & AGL      & Jurkat & -0.039190822 & 0.04245829 & -0.9230428 & 0.35598491 & 0.400 & 0.39794001 & -1 & -0.39794001 & 0.9180407\\\\\n",
       "\t chr1 & 100037799 & 100039086 & CDC14A   & Jurkat &  0.049968673 & 0.03829615 &  1.3047963 & 0.19196221 & 0.180 & 0.74472749 &  1 &  0.74472749 & 0.8279526\\\\\n",
       "\t chr1 & 100037799 & 100039086 & DBT      & Jurkat & -0.043247246 & 0.05646311 & -0.7659381 & 0.44371313 & 0.680 & 0.16749109 & -1 & -0.16749109 & 0.9639175\\\\\n",
       "\t chr1 & 100037799 & 100039086 & DPH5     & Jurkat &  0.055882949 & 0.05183896 &  1.0780106 & 0.28102901 & 0.240 & 0.61978876 &  1 &  0.61978876 & 0.8606746\\\\\n",
       "\t chr1 & 100037799 & 100039086 & EXTL2    & Jurkat &  0.091164625 & 0.05109664 &  1.7841608 & 0.07439753 & 0.120 & 0.92081875 &  1 &  0.92081875 & 0.8120046\\\\\n",
       "\t chr1 & 100037799 & 100039086 & FRRS1    & Jurkat &  0.081787229 & 0.08672185 &  0.9430983 & 0.34563061 & 0.300 & 0.52287875 &  1 &  0.52287875 & 0.8855028\\\\\n",
       "\t chr1 & 100037799 & 100039086 & RTCA     & Jurkat & -0.033756303 & 0.05123184 & -0.6588931 & 0.50996444 & 0.540 & 0.26760624 & -1 & -0.26760624 & 0.9445925\\\\\n",
       "\t chr1 & 100037799 & 100039086 & RTCA-AS1 & Jurkat &  0.091042710 & 0.12029165 &  0.7568498 & 0.44913986 & 0.380 & 0.42021640 &  1 &  0.42021640 & 0.9123369\\\\\n",
       "\t chr1 & 100037799 & 100039086 & SASS6    & Jurkat &  0.015584603 & 0.03928745 &  0.3966814 & 0.69160240 & 0.720 & 0.14266750 &  1 &  0.14266750 & 0.9679213\\\\\n",
       "\t chr1 & 100037799 & 100039086 & SLC30A7  & Jurkat &  0.022558104 & 0.02847985 &  0.7920724 & 0.42831847 & 0.480 & 0.31875876 &  1 &  0.31875876 & 0.9354568\\\\\n",
       "\t chr1 & 100037799 & 100039086 & TRMT13   & Jurkat & -0.023849572 & 0.05180316 & -0.4603884 & 0.64523747 & 0.760 & 0.11918641 & -1 & -0.11918641 & 0.9725594\\\\\n",
       "\t chr1 & 100132417 & 100133466 & AGL      & Jurkat &  0.026733619 & 0.04521825 &  0.5912130 & 0.55437773 & 0.660 & 0.18045606 &  1 &  0.18045606 & 0.9617278\\\\\n",
       "\t chr1 & 100132417 & 100133466 & CDC14A   & Jurkat &  0.010488626 & 0.04167562 &  0.2516730 & 0.80129386 & 0.580 & 0.23657201 &  1 &  0.23657201 & 0.9514768\\\\\n",
       "\t chr1 & 100132417 & 100133466 & DBT      & Jurkat & -0.029507358 & 0.06096467 & -0.4840075 & 0.62838056 & 0.660 & 0.18045606 & -1 & -0.18045606 & 0.9617278\\\\\n",
       "\t chr1 & 100132417 & 100133466 & DPH5     & Jurkat & -0.065406460 & 0.05777285 & -1.1321315 & 0.25757916 & 0.260 & 0.58502665 & -1 & -0.58502665 & 0.8689320\\\\\n",
       "\t chr1 & 100132417 & 100133466 & EXTL2    & Jurkat & -0.016305430 & 0.05650482 & -0.2885671 & 0.77291270 & 0.840 & 0.07572071 & -1 & -0.07572071 & 0.9788503\\\\\n",
       "\t chr1 & 100132417 & 100133466 & FRRS1    & Jurkat &  0.088124630 & 0.09324459 &  0.9450910 & 0.34461240 & 0.380 & 0.42021640 &  1 &  0.42021640 & 0.9123369\\\\\n",
       "\t chr1 & 100132417 & 100133466 & RTCA     & Jurkat &  0.110907264 & 0.05345332 &  2.0748433 & 0.03800106 & 0.056 & 1.25181197 &  1 &  1.25181197 & 0.8031685\\\\\n",
       "\t chr1 & 100132417 & 100133466 & RTCA-AS1 & Jurkat &  0.037337634 & 0.13113152 &  0.2847342 & 0.77584776 & 0.620 & 0.20760831 &  1 &  0.20760831 & 0.9566556\\\\\n",
       "\t chr1 & 100132417 & 100133466 & SASS6    & Jurkat & -0.012727000 & 0.04281864 & -0.2972303 & 0.76629066 & 0.780 & 0.10790540 & -1 & -0.10790540 & 0.9744206\\\\\n",
       "\t chr1 & 100132417 & 100133466 & SLC30A7  & Jurkat &  0.045527642 & 0.03056287 &  1.4896389 & 0.13631920 & 0.200 & 0.69897000 &  1 &  0.69897000 & 0.8396378\\\\\n",
       "\t chr1 & 100132417 & 100133466 & TRMT13   & Jurkat &  0.007360971 & 0.05562413 &  0.1323341 & 0.89472002 & 0.840 & 0.07572071 &  1 &  0.07572071 & 0.9788503\\\\\n",
       "\t chr1 &   1001752 &   1002084 & ACAP3    & Jurkat &  0.067789693 & 0.23718745 &  0.2858064 & 0.77502640 & 0.760 & 0.11918641 &  1 &  0.11918641 & 0.9725594\\\\\n",
       "\t chr1 &   1001752 &   1002084 & ATAD3A   & Jurkat &  0.129039082 & 0.14247390 &  0.9057033 & 0.36509290 & 0.380 & 0.42021640 &  1 &  0.42021640 & 0.9123369\\\\\n",
       "\t chr1 &   1001752 &   1002084 & AURKAIP1 & Jurkat & -0.113008745 & 0.09064536 & -1.2467129 & 0.21250277 & 0.320 & 0.49485002 & -1 & -0.49485002 & 0.8941659\\\\\n",
       "\t chr1 &   1001752 &   1002084 & B3GALT6  & Jurkat &  0.063172353 & 0.14783749 &  0.4273094 & 0.66915397 & 0.600 & 0.22184875 &  1 &  0.22184875 & 0.9535922\\\\\n",
       "\t chr1 &   1001752 &   1002084 & C1orf159 & Jurkat &  0.065227996 & 0.12106841 &  0.5387697 & 0.59004574 & 0.460 & 0.33724217 &  1 &  0.33724217 & 0.9317801\\\\\n",
       "\t chr1 &   1001752 &   1002084 & CCNL2    & Jurkat &  0.075472637 & 0.07821805 &  0.9649005 & 0.33459467 & 0.380 & 0.42021640 &  1 &  0.42021640 & 0.9123369\\\\\n",
       "\t chr1 &   1001752 &   1002084 & CDK11B   & Jurkat &  0.087155513 & 0.09967839 &  0.8743672 & 0.38191834 & 0.240 & 0.61978876 &  1 &  0.61978876 & 0.8606746\\\\\n",
       "\t chr1 &   1001752 &   1002084 & DVL1     & Jurkat & -0.025577951 & 0.23083078 & -0.1108082 & 0.91176841 & 0.920 & 0.03621217 & -1 & -0.03621217 & 0.9847077\\\\\n",
       "\t ⋮ & ⋮ & ⋮ & ⋮ & ⋮ & ⋮ & ⋮ & ⋮ & ⋮ & ⋮ & ⋮ & ⋮ & ⋮ & ⋮\\\\\n",
       "\t chrX & 80808044 & 80808534 & HMGN5   & Jurkat &  0.17054335 & 0.09094711 &  1.8751927 & 0.060766217 & 0.076 & 1.119186408 &  1 &  1.119186408 & 0.8120046\\\\\n",
       "\t chrX & 80808044 & 80808534 & SH3BGRL & Jurkat &  0.08353283 & 0.05931258 &  1.4083494 & 0.159027633 & 0.180 & 0.744727495 &  1 &  0.744727495 & 0.8279526\\\\\n",
       "\t chrX & 80809316 & 80810277 & BRWD3   & Jurkat &  0.01376847 & 0.03609981 &  0.3814001 & 0.702906393 & 0.580 & 0.236572006 &  1 &  0.236572006 & 0.9514768\\\\\n",
       "\t chrX & 80809316 & 80810277 & HMGN5   & Jurkat & -0.02083517 & 0.06174520 & -0.3374379 & 0.735786813 & 0.780 & 0.107905397 & -1 & -0.107905397 & 0.9744206\\\\\n",
       "\t chrX & 80809316 & 80810277 & SH3BGRL & Jurkat &  0.03071266 & 0.03827705 &  0.8023780 & 0.422334358 & 0.540 & 0.267606240 &  1 &  0.267606240 & 0.9445925\\\\\n",
       "\t chrX & 81120716 & 81122326 & BRWD3   & Jurkat & -0.01649326 & 0.04204963 & -0.3922331 & 0.694885980 & 0.540 & 0.267606240 & -1 & -0.267606240 & 0.9445925\\\\\n",
       "\t chrX & 81120716 & 81122326 & HMGN5   & Jurkat &  0.05480104 & 0.06917716 &  0.7921840 & 0.428253381 & 0.380 & 0.420216403 &  1 &  0.420216403 & 0.9123369\\\\\n",
       "\t chrX & 81120716 & 81122326 & SH3BGRL & Jurkat &  0.01028440 & 0.04432252 &  0.2320356 & 0.816510377 & 0.760 & 0.119186408 &  1 &  0.119186408 & 0.9725594\\\\\n",
       "\t chrX & 81201611 & 81202619 & BRWD3   & Jurkat &  0.13227808 & 0.05477356 &  2.4149986 & 0.015735272 & 0.040 & 1.397940009 &  1 &  1.397940009 & 0.7333333\\\\\n",
       "\t chrX & 81201611 & 81202619 & HMGN5   & Jurkat & -0.01190935 & 0.09805472 & -0.1214561 & 0.903329774 & 1.000 & 0.000000000 & -1 &  0.000000000 & 1.0000000\\\\\n",
       "\t chrX & 81201611 & 81202619 & SH3BGRL & Jurkat &  0.01350923 & 0.06126524 &  0.2205040 & 0.825478666 & 0.900 & 0.045757491 &  1 &  0.045757491 & 0.9834365\\\\\n",
       "\t chrX & 85002849 & 85004473 & APOOL   & Jurkat & -0.09053422 & 0.07910759 & -1.1444442 & 0.252439460 & 0.300 & 0.522878745 & -1 & -0.522878745 & 0.8855028\\\\\n",
       "\t chrX & 85002849 & 85004473 & ZNF711  & Jurkat &  0.07495197 & 0.08880053 &  0.8440486 & 0.398642249 & 0.380 & 0.420216403 &  1 &  0.420216403 & 0.9123369\\\\\n",
       "\t chrX & 85243318 & 85245361 & APOOL   & Jurkat & -0.06065459 & 0.08245086 & -0.7356453 & 0.461946594 & 0.560 & 0.251811973 & -1 & -0.251811973 & 0.9483069\\\\\n",
       "\t chrX & 85243318 & 85245361 & CHM     & Jurkat &  0.03305906 & 0.06511437 &  0.5077076 & 0.611658451 & 0.560 & 0.251811973 &  1 &  0.251811973 & 0.9483069\\\\\n",
       "\t chrX & 85243318 & 85245361 & ZNF711  & Jurkat &  0.23733036 & 0.08780411 &  2.7029526 & 0.006872655 & 0.004 & 2.397940009 &  1 &  2.397940009 & 0.2940723\\\\\n",
       "\t chrX & 86047105 & 86047903 & CHM     & Jurkat &  0.06938769 & 0.07235460 &  0.9589949 & 0.337561336 & 0.200 & 0.698970004 &  1 &  0.698970004 & 0.8396378\\\\\n",
       "\t chrX & 86047105 & 86047903 & ZNF711  & Jurkat &  0.08674240 & 0.10502515 &  0.8259203 & 0.408849319 & 0.520 & 0.283996656 &  1 &  0.283996656 & 0.9422740\\\\\n",
       "\t chrX &  9462950 &  9463539 & TBL1X   & Jurkat &  0.03416558 & 0.05531705 &  0.6176321 & 0.536817902 & 0.520 & 0.283996656 &  1 &  0.283996656 & 0.9422740\\\\\n",
       "\t chrX &  9462950 &  9463539 & WWC3    & Jurkat & -0.08249059 & 0.16726548 & -0.4931717 & 0.621891294 & 0.800 & 0.096910013 & -1 & -0.096910013 & 0.9753364\\\\\n",
       "\t chrX &  9464507 &  9465713 & TBL1X   & Jurkat &  0.01541835 & 0.05119881 &  0.3011466 & 0.763302698 & 0.760 & 0.119186408 &  1 &  0.119186408 & 0.9725594\\\\\n",
       "\t chrX &  9464507 &  9465713 & WWC3    & Jurkat & -0.04850488 & 0.15108898 & -0.3210352 & 0.748183728 & 0.780 & 0.107905397 & -1 & -0.107905397 & 0.9744206\\\\\n",
       "\t chrX & 96684171 & 96685911 & DIAPH2  & Jurkat &  0.01473036 & 0.02340397 &  0.6293959 & 0.529089916 & 0.680 & 0.167491087 &  1 &  0.167491087 & 0.9639175\\\\\n",
       "\t chrX &   989869 &   990628 & AKAP17A & Jurkat & -0.08960467 & 0.11092266 & -0.8078121 & 0.419198750 & 0.600 & 0.221848750 & -1 & -0.221848750 & 0.9535922\\\\\n",
       "\t chrX &   989869 &   990628 & ASMTL   & Jurkat &  0.02417161 & 0.13770653 &  0.1755299 & 0.860663305 & 0.980 & 0.008773924 &  1 &  0.008773924 & 0.9893289\\\\\n",
       "\t chrX &   989869 &   990628 & GTPBP6  & Jurkat &  0.13098938 & 0.11705048 &  1.1190844 & 0.263104114 & 0.240 & 0.619788758 &  1 &  0.619788758 & 0.8606746\\\\\n",
       "\t chrX &   989869 &   990628 & P2RY8   & Jurkat & -0.06386654 & 0.05874933 & -1.0871024 & 0.276991547 & 0.340 & 0.468521083 & -1 & -0.468521083 & 0.9014697\\\\\n",
       "\t chrX &   989869 &   990628 & PLCXD1  & Jurkat &  0.15818501 & 0.11352191 &  1.3934315 & 0.163489351 & 0.220 & 0.657577319 &  1 &  0.657577319 & 0.8512354\\\\\n",
       "\t chrX &   989869 &   990628 & PPP2R3B & Jurkat & -0.02712578 & 0.11871293 & -0.2284990 & 0.819258340 & 0.840 & 0.075720714 & -1 & -0.075720714 & 0.9788503\\\\\n",
       "\t chrX &   989869 &   990628 & SLC25A6 & Jurkat & -0.05993308 & 0.04511506 & -1.3284493 & 0.184029717 & 0.220 & 0.657577319 & -1 & -0.657577319 & 0.8512354\\\\\n",
       "\\end{tabular}\n"
      ],
      "text/markdown": [
       "\n",
       "A data.frame: 248050 × 14\n",
       "\n",
       "| chr &lt;fct&gt; | start &lt;int&gt; | end &lt;int&gt; | TargetGene &lt;chr&gt; | CellType &lt;chr&gt; | beta &lt;dbl&gt; | se &lt;dbl&gt; | z &lt;dbl&gt; | p &lt;dbl&gt; | boot_basic_p &lt;dbl&gt; | boot_basic_p.log10 &lt;dbl&gt; | sign &lt;dbl&gt; | boot_basic_p.log10.signed &lt;dbl&gt; | FDR &lt;dbl&gt; |\n",
       "|---|---|---|---|---|---|---|---|---|---|---|---|---|---|\n",
       "| chr1 | 100037799 | 100039086 | AGL      | Jurkat | -0.039190822 | 0.04245829 | -0.9230428 | 0.35598491 | 0.400 | 0.39794001 | -1 | -0.39794001 | 0.9180407 |\n",
       "| chr1 | 100037799 | 100039086 | CDC14A   | Jurkat |  0.049968673 | 0.03829615 |  1.3047963 | 0.19196221 | 0.180 | 0.74472749 |  1 |  0.74472749 | 0.8279526 |\n",
       "| chr1 | 100037799 | 100039086 | DBT      | Jurkat | -0.043247246 | 0.05646311 | -0.7659381 | 0.44371313 | 0.680 | 0.16749109 | -1 | -0.16749109 | 0.9639175 |\n",
       "| chr1 | 100037799 | 100039086 | DPH5     | Jurkat |  0.055882949 | 0.05183896 |  1.0780106 | 0.28102901 | 0.240 | 0.61978876 |  1 |  0.61978876 | 0.8606746 |\n",
       "| chr1 | 100037799 | 100039086 | EXTL2    | Jurkat |  0.091164625 | 0.05109664 |  1.7841608 | 0.07439753 | 0.120 | 0.92081875 |  1 |  0.92081875 | 0.8120046 |\n",
       "| chr1 | 100037799 | 100039086 | FRRS1    | Jurkat |  0.081787229 | 0.08672185 |  0.9430983 | 0.34563061 | 0.300 | 0.52287875 |  1 |  0.52287875 | 0.8855028 |\n",
       "| chr1 | 100037799 | 100039086 | RTCA     | Jurkat | -0.033756303 | 0.05123184 | -0.6588931 | 0.50996444 | 0.540 | 0.26760624 | -1 | -0.26760624 | 0.9445925 |\n",
       "| chr1 | 100037799 | 100039086 | RTCA-AS1 | Jurkat |  0.091042710 | 0.12029165 |  0.7568498 | 0.44913986 | 0.380 | 0.42021640 |  1 |  0.42021640 | 0.9123369 |\n",
       "| chr1 | 100037799 | 100039086 | SASS6    | Jurkat |  0.015584603 | 0.03928745 |  0.3966814 | 0.69160240 | 0.720 | 0.14266750 |  1 |  0.14266750 | 0.9679213 |\n",
       "| chr1 | 100037799 | 100039086 | SLC30A7  | Jurkat |  0.022558104 | 0.02847985 |  0.7920724 | 0.42831847 | 0.480 | 0.31875876 |  1 |  0.31875876 | 0.9354568 |\n",
       "| chr1 | 100037799 | 100039086 | TRMT13   | Jurkat | -0.023849572 | 0.05180316 | -0.4603884 | 0.64523747 | 0.760 | 0.11918641 | -1 | -0.11918641 | 0.9725594 |\n",
       "| chr1 | 100132417 | 100133466 | AGL      | Jurkat |  0.026733619 | 0.04521825 |  0.5912130 | 0.55437773 | 0.660 | 0.18045606 |  1 |  0.18045606 | 0.9617278 |\n",
       "| chr1 | 100132417 | 100133466 | CDC14A   | Jurkat |  0.010488626 | 0.04167562 |  0.2516730 | 0.80129386 | 0.580 | 0.23657201 |  1 |  0.23657201 | 0.9514768 |\n",
       "| chr1 | 100132417 | 100133466 | DBT      | Jurkat | -0.029507358 | 0.06096467 | -0.4840075 | 0.62838056 | 0.660 | 0.18045606 | -1 | -0.18045606 | 0.9617278 |\n",
       "| chr1 | 100132417 | 100133466 | DPH5     | Jurkat | -0.065406460 | 0.05777285 | -1.1321315 | 0.25757916 | 0.260 | 0.58502665 | -1 | -0.58502665 | 0.8689320 |\n",
       "| chr1 | 100132417 | 100133466 | EXTL2    | Jurkat | -0.016305430 | 0.05650482 | -0.2885671 | 0.77291270 | 0.840 | 0.07572071 | -1 | -0.07572071 | 0.9788503 |\n",
       "| chr1 | 100132417 | 100133466 | FRRS1    | Jurkat |  0.088124630 | 0.09324459 |  0.9450910 | 0.34461240 | 0.380 | 0.42021640 |  1 |  0.42021640 | 0.9123369 |\n",
       "| chr1 | 100132417 | 100133466 | RTCA     | Jurkat |  0.110907264 | 0.05345332 |  2.0748433 | 0.03800106 | 0.056 | 1.25181197 |  1 |  1.25181197 | 0.8031685 |\n",
       "| chr1 | 100132417 | 100133466 | RTCA-AS1 | Jurkat |  0.037337634 | 0.13113152 |  0.2847342 | 0.77584776 | 0.620 | 0.20760831 |  1 |  0.20760831 | 0.9566556 |\n",
       "| chr1 | 100132417 | 100133466 | SASS6    | Jurkat | -0.012727000 | 0.04281864 | -0.2972303 | 0.76629066 | 0.780 | 0.10790540 | -1 | -0.10790540 | 0.9744206 |\n",
       "| chr1 | 100132417 | 100133466 | SLC30A7  | Jurkat |  0.045527642 | 0.03056287 |  1.4896389 | 0.13631920 | 0.200 | 0.69897000 |  1 |  0.69897000 | 0.8396378 |\n",
       "| chr1 | 100132417 | 100133466 | TRMT13   | Jurkat |  0.007360971 | 0.05562413 |  0.1323341 | 0.89472002 | 0.840 | 0.07572071 |  1 |  0.07572071 | 0.9788503 |\n",
       "| chr1 |   1001752 |   1002084 | ACAP3    | Jurkat |  0.067789693 | 0.23718745 |  0.2858064 | 0.77502640 | 0.760 | 0.11918641 |  1 |  0.11918641 | 0.9725594 |\n",
       "| chr1 |   1001752 |   1002084 | ATAD3A   | Jurkat |  0.129039082 | 0.14247390 |  0.9057033 | 0.36509290 | 0.380 | 0.42021640 |  1 |  0.42021640 | 0.9123369 |\n",
       "| chr1 |   1001752 |   1002084 | AURKAIP1 | Jurkat | -0.113008745 | 0.09064536 | -1.2467129 | 0.21250277 | 0.320 | 0.49485002 | -1 | -0.49485002 | 0.8941659 |\n",
       "| chr1 |   1001752 |   1002084 | B3GALT6  | Jurkat |  0.063172353 | 0.14783749 |  0.4273094 | 0.66915397 | 0.600 | 0.22184875 |  1 |  0.22184875 | 0.9535922 |\n",
       "| chr1 |   1001752 |   1002084 | C1orf159 | Jurkat |  0.065227996 | 0.12106841 |  0.5387697 | 0.59004574 | 0.460 | 0.33724217 |  1 |  0.33724217 | 0.9317801 |\n",
       "| chr1 |   1001752 |   1002084 | CCNL2    | Jurkat |  0.075472637 | 0.07821805 |  0.9649005 | 0.33459467 | 0.380 | 0.42021640 |  1 |  0.42021640 | 0.9123369 |\n",
       "| chr1 |   1001752 |   1002084 | CDK11B   | Jurkat |  0.087155513 | 0.09967839 |  0.8743672 | 0.38191834 | 0.240 | 0.61978876 |  1 |  0.61978876 | 0.8606746 |\n",
       "| chr1 |   1001752 |   1002084 | DVL1     | Jurkat | -0.025577951 | 0.23083078 | -0.1108082 | 0.91176841 | 0.920 | 0.03621217 | -1 | -0.03621217 | 0.9847077 |\n",
       "| ⋮ | ⋮ | ⋮ | ⋮ | ⋮ | ⋮ | ⋮ | ⋮ | ⋮ | ⋮ | ⋮ | ⋮ | ⋮ | ⋮ |\n",
       "| chrX | 80808044 | 80808534 | HMGN5   | Jurkat |  0.17054335 | 0.09094711 |  1.8751927 | 0.060766217 | 0.076 | 1.119186408 |  1 |  1.119186408 | 0.8120046 |\n",
       "| chrX | 80808044 | 80808534 | SH3BGRL | Jurkat |  0.08353283 | 0.05931258 |  1.4083494 | 0.159027633 | 0.180 | 0.744727495 |  1 |  0.744727495 | 0.8279526 |\n",
       "| chrX | 80809316 | 80810277 | BRWD3   | Jurkat |  0.01376847 | 0.03609981 |  0.3814001 | 0.702906393 | 0.580 | 0.236572006 |  1 |  0.236572006 | 0.9514768 |\n",
       "| chrX | 80809316 | 80810277 | HMGN5   | Jurkat | -0.02083517 | 0.06174520 | -0.3374379 | 0.735786813 | 0.780 | 0.107905397 | -1 | -0.107905397 | 0.9744206 |\n",
       "| chrX | 80809316 | 80810277 | SH3BGRL | Jurkat |  0.03071266 | 0.03827705 |  0.8023780 | 0.422334358 | 0.540 | 0.267606240 |  1 |  0.267606240 | 0.9445925 |\n",
       "| chrX | 81120716 | 81122326 | BRWD3   | Jurkat | -0.01649326 | 0.04204963 | -0.3922331 | 0.694885980 | 0.540 | 0.267606240 | -1 | -0.267606240 | 0.9445925 |\n",
       "| chrX | 81120716 | 81122326 | HMGN5   | Jurkat |  0.05480104 | 0.06917716 |  0.7921840 | 0.428253381 | 0.380 | 0.420216403 |  1 |  0.420216403 | 0.9123369 |\n",
       "| chrX | 81120716 | 81122326 | SH3BGRL | Jurkat |  0.01028440 | 0.04432252 |  0.2320356 | 0.816510377 | 0.760 | 0.119186408 |  1 |  0.119186408 | 0.9725594 |\n",
       "| chrX | 81201611 | 81202619 | BRWD3   | Jurkat |  0.13227808 | 0.05477356 |  2.4149986 | 0.015735272 | 0.040 | 1.397940009 |  1 |  1.397940009 | 0.7333333 |\n",
       "| chrX | 81201611 | 81202619 | HMGN5   | Jurkat | -0.01190935 | 0.09805472 | -0.1214561 | 0.903329774 | 1.000 | 0.000000000 | -1 |  0.000000000 | 1.0000000 |\n",
       "| chrX | 81201611 | 81202619 | SH3BGRL | Jurkat |  0.01350923 | 0.06126524 |  0.2205040 | 0.825478666 | 0.900 | 0.045757491 |  1 |  0.045757491 | 0.9834365 |\n",
       "| chrX | 85002849 | 85004473 | APOOL   | Jurkat | -0.09053422 | 0.07910759 | -1.1444442 | 0.252439460 | 0.300 | 0.522878745 | -1 | -0.522878745 | 0.8855028 |\n",
       "| chrX | 85002849 | 85004473 | ZNF711  | Jurkat |  0.07495197 | 0.08880053 |  0.8440486 | 0.398642249 | 0.380 | 0.420216403 |  1 |  0.420216403 | 0.9123369 |\n",
       "| chrX | 85243318 | 85245361 | APOOL   | Jurkat | -0.06065459 | 0.08245086 | -0.7356453 | 0.461946594 | 0.560 | 0.251811973 | -1 | -0.251811973 | 0.9483069 |\n",
       "| chrX | 85243318 | 85245361 | CHM     | Jurkat |  0.03305906 | 0.06511437 |  0.5077076 | 0.611658451 | 0.560 | 0.251811973 |  1 |  0.251811973 | 0.9483069 |\n",
       "| chrX | 85243318 | 85245361 | ZNF711  | Jurkat |  0.23733036 | 0.08780411 |  2.7029526 | 0.006872655 | 0.004 | 2.397940009 |  1 |  2.397940009 | 0.2940723 |\n",
       "| chrX | 86047105 | 86047903 | CHM     | Jurkat |  0.06938769 | 0.07235460 |  0.9589949 | 0.337561336 | 0.200 | 0.698970004 |  1 |  0.698970004 | 0.8396378 |\n",
       "| chrX | 86047105 | 86047903 | ZNF711  | Jurkat |  0.08674240 | 0.10502515 |  0.8259203 | 0.408849319 | 0.520 | 0.283996656 |  1 |  0.283996656 | 0.9422740 |\n",
       "| chrX |  9462950 |  9463539 | TBL1X   | Jurkat |  0.03416558 | 0.05531705 |  0.6176321 | 0.536817902 | 0.520 | 0.283996656 |  1 |  0.283996656 | 0.9422740 |\n",
       "| chrX |  9462950 |  9463539 | WWC3    | Jurkat | -0.08249059 | 0.16726548 | -0.4931717 | 0.621891294 | 0.800 | 0.096910013 | -1 | -0.096910013 | 0.9753364 |\n",
       "| chrX |  9464507 |  9465713 | TBL1X   | Jurkat |  0.01541835 | 0.05119881 |  0.3011466 | 0.763302698 | 0.760 | 0.119186408 |  1 |  0.119186408 | 0.9725594 |\n",
       "| chrX |  9464507 |  9465713 | WWC3    | Jurkat | -0.04850488 | 0.15108898 | -0.3210352 | 0.748183728 | 0.780 | 0.107905397 | -1 | -0.107905397 | 0.9744206 |\n",
       "| chrX | 96684171 | 96685911 | DIAPH2  | Jurkat |  0.01473036 | 0.02340397 |  0.6293959 | 0.529089916 | 0.680 | 0.167491087 |  1 |  0.167491087 | 0.9639175 |\n",
       "| chrX |   989869 |   990628 | AKAP17A | Jurkat | -0.08960467 | 0.11092266 | -0.8078121 | 0.419198750 | 0.600 | 0.221848750 | -1 | -0.221848750 | 0.9535922 |\n",
       "| chrX |   989869 |   990628 | ASMTL   | Jurkat |  0.02417161 | 0.13770653 |  0.1755299 | 0.860663305 | 0.980 | 0.008773924 |  1 |  0.008773924 | 0.9893289 |\n",
       "| chrX |   989869 |   990628 | GTPBP6  | Jurkat |  0.13098938 | 0.11705048 |  1.1190844 | 0.263104114 | 0.240 | 0.619788758 |  1 |  0.619788758 | 0.8606746 |\n",
       "| chrX |   989869 |   990628 | P2RY8   | Jurkat | -0.06386654 | 0.05874933 | -1.0871024 | 0.276991547 | 0.340 | 0.468521083 | -1 | -0.468521083 | 0.9014697 |\n",
       "| chrX |   989869 |   990628 | PLCXD1  | Jurkat |  0.15818501 | 0.11352191 |  1.3934315 | 0.163489351 | 0.220 | 0.657577319 |  1 |  0.657577319 | 0.8512354 |\n",
       "| chrX |   989869 |   990628 | PPP2R3B | Jurkat | -0.02712578 | 0.11871293 | -0.2284990 | 0.819258340 | 0.840 | 0.075720714 | -1 | -0.075720714 | 0.9788503 |\n",
       "| chrX |   989869 |   990628 | SLC25A6 | Jurkat | -0.05993308 | 0.04511506 | -1.3284493 | 0.184029717 | 0.220 | 0.657577319 | -1 | -0.657577319 | 0.8512354 |\n",
       "\n"
      ],
      "text/plain": [
       "       chr  start     end       TargetGene CellType beta         se        \n",
       "1      chr1 100037799 100039086 AGL        Jurkat   -0.039190822 0.04245829\n",
       "2      chr1 100037799 100039086 CDC14A     Jurkat    0.049968673 0.03829615\n",
       "3      chr1 100037799 100039086 DBT        Jurkat   -0.043247246 0.05646311\n",
       "4      chr1 100037799 100039086 DPH5       Jurkat    0.055882949 0.05183896\n",
       "5      chr1 100037799 100039086 EXTL2      Jurkat    0.091164625 0.05109664\n",
       "6      chr1 100037799 100039086 FRRS1      Jurkat    0.081787229 0.08672185\n",
       "7      chr1 100037799 100039086 RTCA       Jurkat   -0.033756303 0.05123184\n",
       "8      chr1 100037799 100039086 RTCA-AS1   Jurkat    0.091042710 0.12029165\n",
       "9      chr1 100037799 100039086 SASS6      Jurkat    0.015584603 0.03928745\n",
       "10     chr1 100037799 100039086 SLC30A7    Jurkat    0.022558104 0.02847985\n",
       "11     chr1 100037799 100039086 TRMT13     Jurkat   -0.023849572 0.05180316\n",
       "12     chr1 100132417 100133466 AGL        Jurkat    0.026733619 0.04521825\n",
       "13     chr1 100132417 100133466 CDC14A     Jurkat    0.010488626 0.04167562\n",
       "14     chr1 100132417 100133466 DBT        Jurkat   -0.029507358 0.06096467\n",
       "15     chr1 100132417 100133466 DPH5       Jurkat   -0.065406460 0.05777285\n",
       "16     chr1 100132417 100133466 EXTL2      Jurkat   -0.016305430 0.05650482\n",
       "17     chr1 100132417 100133466 FRRS1      Jurkat    0.088124630 0.09324459\n",
       "18     chr1 100132417 100133466 RTCA       Jurkat    0.110907264 0.05345332\n",
       "19     chr1 100132417 100133466 RTCA-AS1   Jurkat    0.037337634 0.13113152\n",
       "20     chr1 100132417 100133466 SASS6      Jurkat   -0.012727000 0.04281864\n",
       "21     chr1 100132417 100133466 SLC30A7    Jurkat    0.045527642 0.03056287\n",
       "22     chr1 100132417 100133466 TRMT13     Jurkat    0.007360971 0.05562413\n",
       "23     chr1   1001752   1002084 ACAP3      Jurkat    0.067789693 0.23718745\n",
       "24     chr1   1001752   1002084 ATAD3A     Jurkat    0.129039082 0.14247390\n",
       "25     chr1   1001752   1002084 AURKAIP1   Jurkat   -0.113008745 0.09064536\n",
       "26     chr1   1001752   1002084 B3GALT6    Jurkat    0.063172353 0.14783749\n",
       "27     chr1   1001752   1002084 C1orf159   Jurkat    0.065227996 0.12106841\n",
       "28     chr1   1001752   1002084 CCNL2      Jurkat    0.075472637 0.07821805\n",
       "29     chr1   1001752   1002084 CDK11B     Jurkat    0.087155513 0.09967839\n",
       "30     chr1   1001752   1002084 DVL1       Jurkat   -0.025577951 0.23083078\n",
       "⋮      ⋮    ⋮         ⋮         ⋮          ⋮        ⋮            ⋮         \n",
       "248021 chrX 80808044  80808534  HMGN5      Jurkat    0.17054335  0.09094711\n",
       "248022 chrX 80808044  80808534  SH3BGRL    Jurkat    0.08353283  0.05931258\n",
       "248023 chrX 80809316  80810277  BRWD3      Jurkat    0.01376847  0.03609981\n",
       "248024 chrX 80809316  80810277  HMGN5      Jurkat   -0.02083517  0.06174520\n",
       "248025 chrX 80809316  80810277  SH3BGRL    Jurkat    0.03071266  0.03827705\n",
       "248026 chrX 81120716  81122326  BRWD3      Jurkat   -0.01649326  0.04204963\n",
       "248027 chrX 81120716  81122326  HMGN5      Jurkat    0.05480104  0.06917716\n",
       "248028 chrX 81120716  81122326  SH3BGRL    Jurkat    0.01028440  0.04432252\n",
       "248029 chrX 81201611  81202619  BRWD3      Jurkat    0.13227808  0.05477356\n",
       "248030 chrX 81201611  81202619  HMGN5      Jurkat   -0.01190935  0.09805472\n",
       "248031 chrX 81201611  81202619  SH3BGRL    Jurkat    0.01350923  0.06126524\n",
       "248032 chrX 85002849  85004473  APOOL      Jurkat   -0.09053422  0.07910759\n",
       "248033 chrX 85002849  85004473  ZNF711     Jurkat    0.07495197  0.08880053\n",
       "248034 chrX 85243318  85245361  APOOL      Jurkat   -0.06065459  0.08245086\n",
       "248035 chrX 85243318  85245361  CHM        Jurkat    0.03305906  0.06511437\n",
       "248036 chrX 85243318  85245361  ZNF711     Jurkat    0.23733036  0.08780411\n",
       "248037 chrX 86047105  86047903  CHM        Jurkat    0.06938769  0.07235460\n",
       "248038 chrX 86047105  86047903  ZNF711     Jurkat    0.08674240  0.10502515\n",
       "248039 chrX  9462950   9463539  TBL1X      Jurkat    0.03416558  0.05531705\n",
       "248040 chrX  9462950   9463539  WWC3       Jurkat   -0.08249059  0.16726548\n",
       "248041 chrX  9464507   9465713  TBL1X      Jurkat    0.01541835  0.05119881\n",
       "248042 chrX  9464507   9465713  WWC3       Jurkat   -0.04850488  0.15108898\n",
       "248043 chrX 96684171  96685911  DIAPH2     Jurkat    0.01473036  0.02340397\n",
       "248044 chrX   989869    990628  AKAP17A    Jurkat   -0.08960467  0.11092266\n",
       "248045 chrX   989869    990628  ASMTL      Jurkat    0.02417161  0.13770653\n",
       "248046 chrX   989869    990628  GTPBP6     Jurkat    0.13098938  0.11705048\n",
       "248047 chrX   989869    990628  P2RY8      Jurkat   -0.06386654  0.05874933\n",
       "248048 chrX   989869    990628  PLCXD1     Jurkat    0.15818501  0.11352191\n",
       "248049 chrX   989869    990628  PPP2R3B    Jurkat   -0.02712578  0.11871293\n",
       "248050 chrX   989869    990628  SLC25A6    Jurkat   -0.05993308  0.04511506\n",
       "       z          p           boot_basic_p boot_basic_p.log10 sign\n",
       "1      -0.9230428 0.35598491  0.400        0.39794001         -1  \n",
       "2       1.3047963 0.19196221  0.180        0.74472749          1  \n",
       "3      -0.7659381 0.44371313  0.680        0.16749109         -1  \n",
       "4       1.0780106 0.28102901  0.240        0.61978876          1  \n",
       "5       1.7841608 0.07439753  0.120        0.92081875          1  \n",
       "6       0.9430983 0.34563061  0.300        0.52287875          1  \n",
       "7      -0.6588931 0.50996444  0.540        0.26760624         -1  \n",
       "8       0.7568498 0.44913986  0.380        0.42021640          1  \n",
       "9       0.3966814 0.69160240  0.720        0.14266750          1  \n",
       "10      0.7920724 0.42831847  0.480        0.31875876          1  \n",
       "11     -0.4603884 0.64523747  0.760        0.11918641         -1  \n",
       "12      0.5912130 0.55437773  0.660        0.18045606          1  \n",
       "13      0.2516730 0.80129386  0.580        0.23657201          1  \n",
       "14     -0.4840075 0.62838056  0.660        0.18045606         -1  \n",
       "15     -1.1321315 0.25757916  0.260        0.58502665         -1  \n",
       "16     -0.2885671 0.77291270  0.840        0.07572071         -1  \n",
       "17      0.9450910 0.34461240  0.380        0.42021640          1  \n",
       "18      2.0748433 0.03800106  0.056        1.25181197          1  \n",
       "19      0.2847342 0.77584776  0.620        0.20760831          1  \n",
       "20     -0.2972303 0.76629066  0.780        0.10790540         -1  \n",
       "21      1.4896389 0.13631920  0.200        0.69897000          1  \n",
       "22      0.1323341 0.89472002  0.840        0.07572071          1  \n",
       "23      0.2858064 0.77502640  0.760        0.11918641          1  \n",
       "24      0.9057033 0.36509290  0.380        0.42021640          1  \n",
       "25     -1.2467129 0.21250277  0.320        0.49485002         -1  \n",
       "26      0.4273094 0.66915397  0.600        0.22184875          1  \n",
       "27      0.5387697 0.59004574  0.460        0.33724217          1  \n",
       "28      0.9649005 0.33459467  0.380        0.42021640          1  \n",
       "29      0.8743672 0.38191834  0.240        0.61978876          1  \n",
       "30     -0.1108082 0.91176841  0.920        0.03621217         -1  \n",
       "⋮      ⋮          ⋮           ⋮            ⋮                  ⋮   \n",
       "248021  1.8751927 0.060766217 0.076        1.119186408         1  \n",
       "248022  1.4083494 0.159027633 0.180        0.744727495         1  \n",
       "248023  0.3814001 0.702906393 0.580        0.236572006         1  \n",
       "248024 -0.3374379 0.735786813 0.780        0.107905397        -1  \n",
       "248025  0.8023780 0.422334358 0.540        0.267606240         1  \n",
       "248026 -0.3922331 0.694885980 0.540        0.267606240        -1  \n",
       "248027  0.7921840 0.428253381 0.380        0.420216403         1  \n",
       "248028  0.2320356 0.816510377 0.760        0.119186408         1  \n",
       "248029  2.4149986 0.015735272 0.040        1.397940009         1  \n",
       "248030 -0.1214561 0.903329774 1.000        0.000000000        -1  \n",
       "248031  0.2205040 0.825478666 0.900        0.045757491         1  \n",
       "248032 -1.1444442 0.252439460 0.300        0.522878745        -1  \n",
       "248033  0.8440486 0.398642249 0.380        0.420216403         1  \n",
       "248034 -0.7356453 0.461946594 0.560        0.251811973        -1  \n",
       "248035  0.5077076 0.611658451 0.560        0.251811973         1  \n",
       "248036  2.7029526 0.006872655 0.004        2.397940009         1  \n",
       "248037  0.9589949 0.337561336 0.200        0.698970004         1  \n",
       "248038  0.8259203 0.408849319 0.520        0.283996656         1  \n",
       "248039  0.6176321 0.536817902 0.520        0.283996656         1  \n",
       "248040 -0.4931717 0.621891294 0.800        0.096910013        -1  \n",
       "248041  0.3011466 0.763302698 0.760        0.119186408         1  \n",
       "248042 -0.3210352 0.748183728 0.780        0.107905397        -1  \n",
       "248043  0.6293959 0.529089916 0.680        0.167491087         1  \n",
       "248044 -0.8078121 0.419198750 0.600        0.221848750        -1  \n",
       "248045  0.1755299 0.860663305 0.980        0.008773924         1  \n",
       "248046  1.1190844 0.263104114 0.240        0.619788758         1  \n",
       "248047 -1.0871024 0.276991547 0.340        0.468521083        -1  \n",
       "248048  1.3934315 0.163489351 0.220        0.657577319         1  \n",
       "248049 -0.2284990 0.819258340 0.840        0.075720714        -1  \n",
       "248050 -1.3284493 0.184029717 0.220        0.657577319        -1  \n",
       "       boot_basic_p.log10.signed FDR      \n",
       "1      -0.39794001               0.9180407\n",
       "2       0.74472749               0.8279526\n",
       "3      -0.16749109               0.9639175\n",
       "4       0.61978876               0.8606746\n",
       "5       0.92081875               0.8120046\n",
       "6       0.52287875               0.8855028\n",
       "7      -0.26760624               0.9445925\n",
       "8       0.42021640               0.9123369\n",
       "9       0.14266750               0.9679213\n",
       "10      0.31875876               0.9354568\n",
       "11     -0.11918641               0.9725594\n",
       "12      0.18045606               0.9617278\n",
       "13      0.23657201               0.9514768\n",
       "14     -0.18045606               0.9617278\n",
       "15     -0.58502665               0.8689320\n",
       "16     -0.07572071               0.9788503\n",
       "17      0.42021640               0.9123369\n",
       "18      1.25181197               0.8031685\n",
       "19      0.20760831               0.9566556\n",
       "20     -0.10790540               0.9744206\n",
       "21      0.69897000               0.8396378\n",
       "22      0.07572071               0.9788503\n",
       "23      0.11918641               0.9725594\n",
       "24      0.42021640               0.9123369\n",
       "25     -0.49485002               0.8941659\n",
       "26      0.22184875               0.9535922\n",
       "27      0.33724217               0.9317801\n",
       "28      0.42021640               0.9123369\n",
       "29      0.61978876               0.8606746\n",
       "30     -0.03621217               0.9847077\n",
       "⋮      ⋮                         ⋮        \n",
       "248021  1.119186408              0.8120046\n",
       "248022  0.744727495              0.8279526\n",
       "248023  0.236572006              0.9514768\n",
       "248024 -0.107905397              0.9744206\n",
       "248025  0.267606240              0.9445925\n",
       "248026 -0.267606240              0.9445925\n",
       "248027  0.420216403              0.9123369\n",
       "248028  0.119186408              0.9725594\n",
       "248029  1.397940009              0.7333333\n",
       "248030  0.000000000              1.0000000\n",
       "248031  0.045757491              0.9834365\n",
       "248032 -0.522878745              0.8855028\n",
       "248033  0.420216403              0.9123369\n",
       "248034 -0.251811973              0.9483069\n",
       "248035  0.251811973              0.9483069\n",
       "248036  2.397940009              0.2940723\n",
       "248037  0.698970004              0.8396378\n",
       "248038  0.283996656              0.9422740\n",
       "248039  0.283996656              0.9422740\n",
       "248040 -0.096910013              0.9753364\n",
       "248041  0.119186408              0.9725594\n",
       "248042 -0.107905397              0.9744206\n",
       "248043  0.167491087              0.9639175\n",
       "248044 -0.221848750              0.9535922\n",
       "248045  0.008773924              0.9893289\n",
       "248046  0.619788758              0.8606746\n",
       "248047 -0.468521083              0.9014697\n",
       "248048  0.657577319              0.8512354\n",
       "248049 -0.075720714              0.9788503\n",
       "248050 -0.657577319              0.8512354"
      ]
     },
     "metadata": {},
     "output_type": "display_data"
    }
   ],
   "source": [
    "df.output = as.data.frame(pairs.E2G.res,row.names = NULL)\n",
    "colnames(df.output)[1] = \"chr\"\n",
    "df.output[,\"CellType\"] = celltype\n",
    "df.output = df.output[,c(\"chr\",\n",
    "                         \"start\",\n",
    "                         \"end\",\n",
    "                         \"TargetGene\",\n",
    "                         \"CellType\",\n",
    "                         \"beta\",\"se\",\"z\",\"p\",\"boot_basic_p\",\n",
    "                         \"boot_basic_p.log10\",\n",
    "                         \"sign\",\n",
    "                         \"boot_basic_p.log10.signed\")]\n",
    "df.output[,\"FDR\"] = p.adjust(df.output$boot_basic_p, method = \"BH\")\n",
    "data.table::fwrite(df.output,\n",
    "                   file = paste(dir.output,\"pairs.E2G.res.tsv.gz\",sep = \"/\"),\n",
    "                   row.names = F,\n",
    "                   quote = F,\n",
    "                   sep = \"\\t\")\n",
    "df.output"
   ]
  },
  {
   "cell_type": "code",
   "execution_count": 24,
   "id": "4d77c58e-215a-408d-8495-c68c72f559c3",
   "metadata": {},
   "outputs": [
    {
     "data": {
      "text/plain": [
       "R version 4.3.3 (2024-02-29)\n",
       "Platform: x86_64-conda-linux-gnu (64-bit)\n",
       "Running under: Red Hat Enterprise Linux 8.10 (Ootpa)\n",
       "\n",
       "Matrix products: default\n",
       "BLAS/LAPACK: /maps/projects/ralab/people/lpm537/software/anaconda3/envs/Notebook_E2G_240505/lib/libopenblasp-r0.3.27.so;  LAPACK version 3.12.0\n",
       "\n",
       "locale:\n",
       " [1] LC_CTYPE=en_US.UTF-8       LC_NUMERIC=C              \n",
       " [3] LC_TIME=en_US.UTF-8        LC_COLLATE=en_US.UTF-8    \n",
       " [5] LC_MONETARY=en_US.UTF-8    LC_MESSAGES=en_US.UTF-8   \n",
       " [7] LC_PAPER=en_US.UTF-8       LC_NAME=C                 \n",
       " [9] LC_ADDRESS=C               LC_TELEPHONE=C            \n",
       "[11] LC_MEASUREMENT=en_US.UTF-8 LC_IDENTIFICATION=C       \n",
       "\n",
       "time zone: Europe/Copenhagen\n",
       "tzcode source: system (glibc)\n",
       "\n",
       "attached base packages:\n",
       " [1] parallel  stats4    grid      stats     graphics  grDevices utils    \n",
       " [8] datasets  methods   base     \n",
       "\n",
       "other attached packages:\n",
       " [1] dplyr_1.1.4          data.table_1.15.2    Matrix_1.6-5        \n",
       " [4] GenomicRanges_1.54.1 GenomeInfoDb_1.38.1  IRanges_2.36.0      \n",
       " [7] S4Vectors_0.40.2     BiocGenerics_0.48.1  genomation_1.34.0   \n",
       "[10] Signac_1.13.0        SCENT_1.0.0         \n",
       "\n",
       "loaded via a namespace (and not attached):\n",
       "  [1] rstudioapi_0.16.0           jsonlite_1.8.8             \n",
       "  [3] magrittr_2.0.3              nloptr_2.0.3               \n",
       "  [5] rmarkdown_2.26              BiocIO_1.10.0              \n",
       "  [7] zlibbioc_1.48.0             vctrs_0.6.5                \n",
       "  [9] minqa_1.2.6                 Rsamtools_2.18.0           \n",
       " [11] RCurl_1.98-1.14             base64enc_0.1-3            \n",
       " [13] RcppRoll_0.3.0              htmltools_0.5.8.1          \n",
       " [15] S4Arrays_1.2.1              plotrix_3.8-4              \n",
       " [17] Formula_1.2-5               parallelly_1.37.1          \n",
       " [19] KernSmooth_2.23-22          htmlwidgets_1.6.4          \n",
       " [21] plyr_1.8.9                  impute_1.76.0              \n",
       " [23] uuid_1.2-0                  GenomicAlignments_1.36.0   \n",
       " [25] lifecycle_1.0.4             pkgconfig_2.0.3            \n",
       " [27] R6_2.5.1                    fastmap_1.1.1              \n",
       " [29] GenomeInfoDbData_1.2.11     MatrixGenerics_1.12.3      \n",
       " [31] future_1.33.2               digest_0.6.35              \n",
       " [33] colorspace_2.1-0            patchwork_1.2.0            \n",
       " [35] irlba_2.3.5.1               Hmisc_5.1-2                \n",
       " [37] progressr_0.14.0            fansi_1.0.6                \n",
       " [39] abind_1.4-5                 compiler_4.3.3             \n",
       " [41] withr_3.0.0                 bit64_4.0.5                \n",
       " [43] htmlTable_2.4.2             backports_1.4.1            \n",
       " [45] BiocParallel_1.36.0         R.utils_2.12.3             \n",
       " [47] MASS_7.3-60                 DelayedArray_0.26.7        \n",
       " [49] rjson_0.2.21                tools_4.3.3                \n",
       " [51] foreign_0.8-86              future.apply_1.11.2        \n",
       " [53] nnet_7.3-19                 R.oo_1.26.0                \n",
       " [55] glue_1.7.0                  restfulr_0.0.15            \n",
       " [57] nlme_3.1-164                pbdZMQ_0.3-11              \n",
       " [59] checkmate_2.3.1             gridBase_0.4-7             \n",
       " [61] cluster_2.1.6               reshape2_1.4.4             \n",
       " [63] generics_0.1.3              gtable_0.3.5               \n",
       " [65] BSgenome_1.68.0             tzdb_0.4.0                 \n",
       " [67] R.methodsS3_1.8.2           tidyr_1.3.1                \n",
       " [69] seqPattern_1.34.0           hms_1.1.3                  \n",
       " [71] sp_2.1-4                    utf8_1.2.4                 \n",
       " [73] XVector_0.42.0              pillar_1.9.0               \n",
       " [75] stringr_1.5.1               vroom_1.6.5                \n",
       " [77] spam_2.10-0                 IRdisplay_1.1              \n",
       " [79] splines_4.3.3               lattice_0.22-6             \n",
       " [81] bit_4.0.5                   rtracklayer_1.60.1         \n",
       " [83] tidyselect_1.2.1            Biostrings_2.70.1          \n",
       " [85] pbapply_1.7-2               knitr_1.46                 \n",
       " [87] gridExtra_2.3               SummarizedExperiment_1.30.2\n",
       " [89] RhpcBLASctl_0.23-42         xfun_0.43                  \n",
       " [91] Biobase_2.60.0              matrixStats_1.3.0          \n",
       " [93] stringi_1.8.3               yaml_2.3.8                 \n",
       " [95] boot_1.3-30                 evaluate_0.23              \n",
       " [97] codetools_0.2-20            tibble_3.2.1               \n",
       " [99] cli_3.6.2                   IRkernel_1.3.2             \n",
       "[101] rpart_4.1.23                repr_1.1.7                 \n",
       "[103] munsell_0.5.1               Rcpp_1.0.12                \n",
       "[105] globals_0.16.3              XML_3.99-0.16.1            \n",
       "[107] ggplot2_3.5.1               readr_2.1.5                \n",
       "[109] dotCall64_1.1-1             bitops_1.0-7               \n",
       "[111] lme4_1.1-35.3               listenv_0.9.1              \n",
       "[113] scales_1.3.0                SeuratObject_5.0.1         \n",
       "[115] purrr_1.0.2                 crayon_1.5.2               \n",
       "[117] rlang_1.1.3                 fastmatch_1.1-4            "
      ]
     },
     "metadata": {},
     "output_type": "display_data"
    }
   ],
   "source": [
    "sessionInfo()"
   ]
  },
  {
   "cell_type": "code",
   "execution_count": null,
   "id": "3c1a0283-11d6-4df1-bbd8-7b47e9e8ead8",
   "metadata": {},
   "outputs": [],
   "source": []
  }
 ],
 "metadata": {
  "kernelspec": {
   "display_name": "R",
   "language": "R",
   "name": "ir"
  },
  "language_info": {
   "codemirror_mode": "r",
   "file_extension": ".r",
   "mimetype": "text/x-r-source",
   "name": "R",
   "pygments_lexer": "r",
   "version": "4.3.3"
  }
 },
 "nbformat": 4,
 "nbformat_minor": 5
}
