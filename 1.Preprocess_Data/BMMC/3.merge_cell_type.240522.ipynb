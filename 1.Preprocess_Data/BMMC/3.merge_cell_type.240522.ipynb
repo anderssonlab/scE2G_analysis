{
 "cells": [
  {
   "cell_type": "code",
   "execution_count": 1,
   "id": "02e1581f-53e8-43d8-b3c3-bea308553169",
   "metadata": {},
   "outputs": [
    {
     "name": "stderr",
     "output_type": "stream",
     "text": [
      "Loading required package: SeuratObject\n",
      "\n",
      "Loading required package: sp\n",
      "\n",
      "‘SeuratObject’ was built under R 4.3.2 but the current version is\n",
      "4.3.3; it is recomended that you reinstall ‘SeuratObject’ as the ABI\n",
      "for R may have changed\n",
      "\n",
      "‘SeuratObject’ was built with package ‘Matrix’ 1.6.3 but the current\n",
      "version is 1.6.5; it is recomended that you reinstall ‘SeuratObject’ as\n",
      "the ABI for ‘Matrix’ may have changed\n",
      "\n",
      "\n",
      "Attaching package: ‘SeuratObject’\n",
      "\n",
      "\n",
      "The following object is masked from ‘package:base’:\n",
      "\n",
      "    intersect\n",
      "\n",
      "\n"
     ]
    }
   ],
   "source": [
    "library(Seurat)\n",
    "library(Signac)\n",
    "library(magrittr)\n",
    "library(ggplot2)"
   ]
  },
  {
   "cell_type": "markdown",
   "id": "84a454c1-843a-4e75-becf-dd0d56012fe8",
   "metadata": {},
   "source": [
    "Import seurat object"
   ]
  },
  {
   "cell_type": "code",
   "execution_count": 2,
   "id": "6dcf0396-6cb0-4d77-8927-eb4ed4ad69ce",
   "metadata": {},
   "outputs": [],
   "source": [
    "obj.seurat = readRDS(\"/maps/projects/ralab_nnfc-AUDIT/people/lpm537/project/E2G/analysis/E2G_240503/data/BMMC/1.prepare_data/2.seurat_pipeline.240506/obj.seurat.rds\")"
   ]
  },
  {
   "cell_type": "markdown",
   "id": "befd351b-07d1-4f18-bf06-bea36b3b9071",
   "metadata": {},
   "source": [
    "Define merged cell types"
   ]
  },
  {
   "cell_type": "code",
   "execution_count": 3,
   "id": "ce6723d4-e0fe-4dad-8820-7ea4eb5ddc40",
   "metadata": {},
   "outputs": [],
   "source": [
    "obj.seurat$cell_type.merged = NA"
   ]
  },
  {
   "cell_type": "code",
   "execution_count": 4,
   "id": "6cb02ca7-d023-4cd8-a17f-4703a36367c2",
   "metadata": {},
   "outputs": [
    {
     "data": {
      "text/plain": [
       "\n",
       "        B Dendritic Erythroid   Myeloid         T \n",
       "     9752      2050      8996     14048     22525 "
      ]
     },
     "metadata": {},
     "output_type": "display_data"
    }
   ],
   "source": [
    "obj.seurat@meta.data[obj.seurat$cell_type.rename %in% c(\"CD4_pos_T_activated\",\n",
    "                                                        \"CD4_pos_T_naive\",\n",
    "                                                        \"CD8_pos_T\",\n",
    "                                                        \"CD8_pos_T_naive\"),\n",
    "                     \"cell_type.merged\"] = \"T\"\n",
    "obj.seurat@meta.data[obj.seurat$cell_type.rename %in% c(\"Transitional_B\",\n",
    "                                                        \"B1_B\",\n",
    "                                                        \"Naive_CD20_pos_B\"),\n",
    "                     \"cell_type.merged\"] = \"B\"\n",
    "obj.seurat@meta.data[obj.seurat$cell_type.rename %in% c(\"CD14_pos_Mono\",\n",
    "                                                        \"CD16_pos_Mono\",\n",
    "                                                        \"ID2_hi_myeloid_prog\",\n",
    "                                                        \"G_M_prog\"),\n",
    "                     \"cell_type.merged\"] = \"Myeloid\"\n",
    "obj.seurat@meta.data[obj.seurat$cell_type.rename %in% c(\"cDC2\",\n",
    "                                                        \"pDC\"),\n",
    "                     \"cell_type.merged\"] = \"Dendritic\"\n",
    "obj.seurat@meta.data[obj.seurat$cell_type.rename %in% c(\"Erythroblast\",\n",
    "                                                        \"Normoblast\",\n",
    "                                                        \"Proerythroblast\"),\n",
    "                     \"cell_type.merged\"] = \"Erythroid\"\n",
    "table(obj.seurat$cell_type.merged)"
   ]
  },
  {
   "cell_type": "markdown",
   "id": "00815370-4521-4b93-ac08-77c30fb83700",
   "metadata": {},
   "source": [
    "Generate fragment files for each merged cell type"
   ]
  },
  {
   "cell_type": "code",
   "execution_count": 7,
   "id": "d2240623-6a2c-41cd-97cf-c21d3c603f29",
   "metadata": {},
   "outputs": [
    {
     "name": "stderr",
     "output_type": "stream",
     "text": [
      "Processing file /maps/projects/ralab_nnfc-AUDIT/people/lpm537/project/E2G/processed/10x_multiome_240430/neurips2021_BMMC/cellranger_res/site1_donor1/outs/atac_fragments.tsv.gz\n",
      "\n",
      "\n",
      "\n",
      "\n",
      "Processing file /maps/projects/ralab_nnfc-AUDIT/people/lpm537/project/E2G/processed/10x_multiome_240430/neurips2021_BMMC/cellranger_res/site1_donor2/outs/atac_fragments.tsv.gz\n",
      "\n",
      "\n",
      "\n",
      "\n",
      "Processing file /maps/projects/ralab_nnfc-AUDIT/people/lpm537/project/E2G/processed/10x_multiome_240430/neurips2021_BMMC/cellranger_res/site1_donor3/outs/atac_fragments.tsv.gz\n",
      "\n",
      "\n",
      "\n",
      "\n",
      "Processing file /maps/projects/ralab_nnfc-AUDIT/people/lpm537/project/E2G/processed/10x_multiome_240430/neurips2021_BMMC/cellranger_res/site2_donor1/outs/atac_fragments.tsv.gz\n",
      "\n",
      "\n",
      "\n",
      "\n",
      "Processing file /maps/projects/ralab_nnfc-AUDIT/people/lpm537/project/E2G/processed/10x_multiome_240430/neurips2021_BMMC/cellranger_res/site2_donor4/outs/atac_fragments.tsv.gz\n",
      "\n",
      "\n",
      "\n",
      "\n",
      "Processing file /maps/projects/ralab_nnfc-AUDIT/people/lpm537/project/E2G/processed/10x_multiome_240430/neurips2021_BMMC/cellranger_res/site2_donor5/outs/atac_fragments.tsv.gz\n",
      "\n",
      "\n",
      "\n",
      "\n",
      "Processing file /maps/projects/ralab_nnfc-AUDIT/people/lpm537/project/E2G/processed/10x_multiome_240430/neurips2021_BMMC/cellranger_res/site3_donor10/outs/atac_fragments.tsv.gz\n",
      "\n",
      "\n",
      "\n",
      "\n",
      "Processing file /maps/projects/ralab_nnfc-AUDIT/people/lpm537/project/E2G/processed/10x_multiome_240430/neurips2021_BMMC/cellranger_res/site3_donor3/outs/atac_fragments.tsv.gz\n",
      "\n",
      "\n",
      "\n",
      "\n",
      "Processing file /maps/projects/ralab_nnfc-AUDIT/people/lpm537/project/E2G/processed/10x_multiome_240430/neurips2021_BMMC/cellranger_res/site3_donor6/outs/atac_fragments.tsv.gz\n",
      "\n",
      "\n",
      "\n",
      "\n",
      "Processing file /maps/projects/ralab_nnfc-AUDIT/people/lpm537/project/E2G/processed/10x_multiome_240430/neurips2021_BMMC/cellranger_res/site3_donor7/outs/atac_fragments.tsv.gz\n",
      "\n",
      "\n",
      "\n",
      "\n",
      "Processing file /maps/projects/ralab_nnfc-AUDIT/people/lpm537/project/E2G/processed/10x_multiome_240430/neurips2021_BMMC/cellranger_res/site4_donor1/outs/atac_fragments.tsv.gz\n",
      "\n",
      "\n",
      "\n",
      "\n",
      "Processing file /maps/projects/ralab_nnfc-AUDIT/people/lpm537/project/E2G/processed/10x_multiome_240430/neurips2021_BMMC/cellranger_res/site4_donor8/outs/atac_fragments.tsv.gz\n",
      "\n",
      "\n",
      "\n",
      "\n",
      "Processing file /maps/projects/ralab_nnfc-AUDIT/people/lpm537/project/E2G/processed/10x_multiome_240430/neurips2021_BMMC/cellranger_res/site4_donor9/outs/atac_fragments.tsv.gz\n",
      "\n",
      "\n",
      "\n",
      "\n"
     ]
    }
   ],
   "source": [
    "dir_path.frag_split = \"/maps/projects/ralab_nnfc-AUDIT/people/lpm537/project/E2G/analysis/E2G_240503/data/BMMC/1.prepare_data/3.merge_cell_type.240522/fragments_split\"\n",
    "dir.create(dir_path.frag_split,recursive = T)\n",
    "\n",
    "Signac::SplitFragments(obj.seurat,\n",
    "                      assay = \"ATAC_empty\",\n",
    "                      group.by = \"cell_type.merged\",\n",
    "                      append = F,\n",
    "                      outdir = dir_path.frag_split)"
   ]
  },
  {
   "cell_type": "code",
   "execution_count": 10,
   "id": "f8091154-1fb3-471e-ba7f-32d0c66caf24",
   "metadata": {},
   "outputs": [
    {
     "name": "stderr",
     "output_type": "stream",
     "text": [
      "Warning message in dir.create(dir_path.frag, recursive = T):\n",
      "“'/maps/projects/ralab_nnfc-AUDIT/people/lpm537/project/E2G/analysis/E2G_240503/data/BMMC/1.prepare_data/3.merge_cell_type.240522/fragments' already exists”\n"
     ]
    },
    {
     "name": "stdout",
     "output_type": "stream",
     "text": [
      "B 1 \n",
      "B 2 \n",
      "B 3 \n",
      "B 4 \n",
      "B 5 \n",
      "B 6 \n",
      "B 7 \n",
      "B 8 \n",
      "B 9 \n",
      "B 10 \n",
      "B 11 \n",
      "B 12 \n",
      "B 13 \n",
      "Myeloid 1 \n",
      "Myeloid 2 \n",
      "Myeloid 3 \n",
      "Myeloid 4 \n",
      "Myeloid 5 \n",
      "Myeloid 6 \n",
      "Myeloid 7 \n",
      "Myeloid 8 \n",
      "Myeloid 9 \n",
      "Myeloid 10 \n",
      "Myeloid 11 \n",
      "Myeloid 12 \n",
      "Myeloid 13 \n",
      "T 1 \n",
      "T 2 \n",
      "T 3 \n",
      "T 4 \n",
      "T 5 \n",
      "T 6 \n",
      "T 7 \n",
      "T 8 \n",
      "T 9 \n",
      "T 10 \n",
      "T 11 \n",
      "T 12 \n",
      "T 13 \n",
      "Erythroid 1 \n",
      "Erythroid 2 \n",
      "Erythroid 3 \n",
      "Erythroid 4 \n",
      "Erythroid 5 \n",
      "Erythroid 6 \n",
      "Erythroid 7 \n",
      "Erythroid 8 \n",
      "Erythroid 9 \n",
      "Erythroid 10 \n",
      "Erythroid 11 \n",
      "Erythroid 12 \n",
      "Erythroid 13 \n",
      "Dendritic 1 \n",
      "Dendritic 2 \n",
      "Dendritic 3 \n",
      "Dendritic 4 \n",
      "Dendritic 5 \n",
      "Dendritic 6 \n",
      "Dendritic 7 \n",
      "Dendritic 8 \n",
      "Dendritic 9 \n",
      "Dendritic 10 \n",
      "Dendritic 11 \n",
      "Dendritic 12 \n",
      "Dendritic 13 \n"
     ]
    }
   ],
   "source": [
    "dir_path.frag = \"/maps/projects/ralab_nnfc-AUDIT/people/lpm537/project/E2G/analysis/E2G_240503/data/BMMC/1.prepare_data/3.merge_cell_type.240522/fragments\"\n",
    "dir.create(dir_path.frag,recursive = T)\n",
    "names.sample = c(\"s1d1\",\n",
    "                 \"s1d2\",\n",
    "                 \"s1d3\",\n",
    "                 \"s2d1\",\n",
    "                 \"s2d4\",\n",
    "                 \"s2d5\",\n",
    "                 \"s3d10\",\n",
    "                 \"s3d3\",\n",
    "                 \"s3d6\",\n",
    "                 \"s3d7\",\n",
    "                 \"s4d1\",\n",
    "                 \"s4d8\",\n",
    "                 \"s4d9\")\n",
    "\n",
    "for(name.cell_type in unique(obj.seurat$cell_type.merged[!is.na(obj.seurat$cell_type.merged)])){\n",
    "  df.frag = data.frame(\n",
    "    Column1 = character(0),\n",
    "    Column2 = integer(0),\n",
    "    Column3 = integer(0),\n",
    "    Column4 = character(0),\n",
    "    Column5 = integer(0)\n",
    "  )\n",
    "  \n",
    "  for (n.tmp in 1:length(names.sample)) {\n",
    "    cat(name.cell_type,n.tmp,\"\\n\")\n",
    "    \n",
    "    path.frag.tmp = paste(dir_path.frag_split,\n",
    "                          \"/\",\n",
    "                          name.cell_type,\n",
    "                          \".\",\n",
    "                          n.tmp,\n",
    "                          \".bed\",\n",
    "                          sep = \"\")\n",
    "    if (file.info(path.frag.tmp)$size > 0) {\n",
    "      df.frag.tmp = \n",
    "        read.delim(path.frag.tmp,\n",
    "                   header = F)\n",
    "      df.frag.tmp[,4] = paste(names.sample[n.tmp],\n",
    "                              df.frag.tmp[,4],\n",
    "                              sep = \"_\")\n",
    "      df.frag = rbind(df.frag,\n",
    "                      df.frag.tmp)\n",
    "    }\n",
    "  }\n",
    "  \n",
    "  df.frag = df.frag[order(df.frag[,2]),]\n",
    "  df.frag = df.frag[order(df.frag[,1]),]\n",
    "  \n",
    "  write.table(df.frag,\n",
    "              paste(dir_path.frag,\"/\",name.cell_type,\".\",\"atac_fragments.tsv\",sep = \"\"),\n",
    "              col.names = F,\n",
    "              row.names = F,\n",
    "              quote = F,\n",
    "              sep = \"\\t\")\n",
    "  remove(df.frag)\n",
    "  \n",
    "  Rsamtools::bgzip(paste(dir_path.frag,\"/\",name.cell_type,\".\",\"atac_fragments.tsv\",sep = \"\"),\n",
    "                   paste(dir_path.frag,\"/\",name.cell_type,\".\",\"atac_fragments.tsv.gz\",sep = \"\"))\n",
    "  \n",
    "  Rsamtools::indexTabix(paste(dir_path.frag,\"/\",name.cell_type,\".\",\"atac_fragments.tsv.gz\",sep = \"\"),\n",
    "                        format = \"bed\")\n",
    "  system(paste(\"rm -f\",paste(dir_path.frag,\"/\",name.cell_type,\".\",\"atac_fragments.tsv\",sep = \"\")))\n",
    "}"
   ]
  },
  {
   "cell_type": "markdown",
   "id": "c1ca3361-bcd9-4e25-b2ec-0c30949ce06d",
   "metadata": {},
   "source": [
    "Generate RNA count matrix for each cell type"
   ]
  },
  {
   "cell_type": "code",
   "execution_count": 13,
   "id": "48d4ef49-4adf-4715-a7e4-25fbbecc062f",
   "metadata": {},
   "outputs": [
    {
     "name": "stderr",
     "output_type": "stream",
     "text": [
      "Warning message in asMethod(object):\n",
      "“sparse->dense coercion: allocating vector of size 4.6 GiB”\n",
      "Warning message in asMethod(object):\n",
      "“sparse->dense coercion: allocating vector of size 6.6 GiB”\n",
      "Warning message in asMethod(object):\n",
      "“sparse->dense coercion: allocating vector of size 10.5 GiB”\n",
      "Warning message in asMethod(object):\n",
      "“sparse->dense coercion: allocating vector of size 4.2 GiB”\n"
     ]
    }
   ],
   "source": [
    "dir_path.rna_matrix = \"/maps/projects/ralab_nnfc-AUDIT/people/lpm537/project/E2G/analysis/E2G_240503/data/BMMC/1.prepare_data/3.merge_cell_type.240522/RNA_count_matrix/\"\n",
    "dir.create(dir_path.rna_matrix,recursive = T)\n",
    "\n",
    "for(name.cell_type in unique(obj.seurat$cell_type.merged[!is.na(obj.seurat$cell_type.merged)])){\n",
    "  matrix.tmp = \n",
    "    obj.seurat@assays$RNA$count[,!is.na(obj.seurat$cell_type.merged) & obj.seurat$cell_type.merged == name.cell_type]\n",
    "  write.csv(as.data.frame(matrix.tmp),\n",
    "            gzfile(paste(dir_path.rna_matrix,\n",
    "                         \"/\",\n",
    "                         name.cell_type,\n",
    "                         \".rna_count_matrix.csv.gz\",\n",
    "                        sep = \"\")),\n",
    "            quote = F)\n",
    "}"
   ]
  },
  {
   "cell_type": "code",
   "execution_count": 11,
   "id": "29750fdd-4699-4125-885d-618054c781c1",
   "metadata": {},
   "outputs": [],
   "source": [
    "df.cell_type = data.frame(cell_type = names(table(obj.seurat$cell_type.merged)),\n",
    "                          cell_number = table(obj.seurat$cell_type.merged),\n",
    "                          total_fragment_count = NA,\n",
    "                          total_UMI_count = NA)\n",
    "rownames(df.cell_type) = df.cell_type$cell_type\n",
    "\n",
    "for(cell_type.tmp in df.cell_type$cell_type){\n",
    "    cell_names.tmp = colnames(obj.seurat)[!is.na(obj.seurat@meta.data$cell_type.merged) & obj.seurat@meta.data$cell_type.merged == cell_type.tmp]\n",
    "    df.cell_type[cell_type.tmp,\"total_fragment_count\"] = sum(obj.seurat@meta.data[cell_names.tmp,\"atac_fragments\"])\n",
    "    df.cell_type[cell_type.tmp,\"total_UMI_count\"] = sum(obj.seurat@meta.data[cell_names.tmp,\"gex_umis_count\"])\n",
    "}\n",
    "\n",
    "df.cell_type$mean_fragment_count = round(df.cell_type$total_fragment_count / df.cell_type$cell_number.Freq,0)\n",
    "df.cell_type$mean_UMI_count = round(df.cell_type$total_UMI_count / df.cell_type$cell_number.Freq,0)"
   ]
  },
  {
   "cell_type": "code",
   "execution_count": 12,
   "id": "afa6e207-3f40-44e5-817f-21752b599c38",
   "metadata": {},
   "outputs": [],
   "source": [
    "write.csv(df.cell_type,\n",
    "          \"/maps/projects/ralab_nnfc-AUDIT/people/lpm537/project/E2G/analysis/E2G_240503/data/BMMC/1.prepare_data/3.merge_cell_type.240522/df.cell_type.csv\")"
   ]
  },
  {
   "cell_type": "code",
   "execution_count": 14,
   "id": "38baf6a9-a612-4bf6-80b9-520dca702589",
   "metadata": {},
   "outputs": [
    {
     "data": {
      "text/plain": [
       "R version 4.3.3 (2024-02-29)\n",
       "Platform: x86_64-conda-linux-gnu (64-bit)\n",
       "Running under: Red Hat Enterprise Linux 8.9 (Ootpa)\n",
       "\n",
       "Matrix products: default\n",
       "BLAS/LAPACK: /maps/projects/ralab/people/lpm537/software/anaconda3/envs/Notebook_E2G_240505/lib/libopenblasp-r0.3.27.so;  LAPACK version 3.12.0\n",
       "\n",
       "locale:\n",
       " [1] LC_CTYPE=en_US.UTF-8       LC_NUMERIC=C              \n",
       " [3] LC_TIME=en_US.UTF-8        LC_COLLATE=en_US.UTF-8    \n",
       " [5] LC_MONETARY=en_US.UTF-8    LC_MESSAGES=en_US.UTF-8   \n",
       " [7] LC_PAPER=en_US.UTF-8       LC_NAME=C                 \n",
       " [9] LC_ADDRESS=C               LC_TELEPHONE=C            \n",
       "[11] LC_MEASUREMENT=en_US.UTF-8 LC_IDENTIFICATION=C       \n",
       "\n",
       "time zone: Europe/Copenhagen\n",
       "tzcode source: system (glibc)\n",
       "\n",
       "attached base packages:\n",
       "[1] stats     graphics  grDevices utils     datasets  methods   base     \n",
       "\n",
       "other attached packages:\n",
       "[1] ggplot2_3.5.1      magrittr_2.0.3     Signac_1.13.0      Seurat_5.0.3      \n",
       "[5] SeuratObject_5.0.1 sp_2.1-4          \n",
       "\n",
       "loaded via a namespace (and not attached):\n",
       "  [1] RColorBrewer_1.1-3      jsonlite_1.8.8          spatstat.utils_3.0-4   \n",
       "  [4] zlibbioc_1.48.0         vctrs_0.6.5             ROCR_1.0-11            \n",
       "  [7] Rsamtools_2.18.0        spatstat.explore_3.2-6  RCurl_1.98-1.14        \n",
       " [10] base64enc_0.1-3         RcppRoll_0.3.0          htmltools_0.5.8.1      \n",
       " [13] sctransform_0.4.1       parallelly_1.37.1       KernSmooth_2.23-22     \n",
       " [16] htmlwidgets_1.6.4       ica_1.0-3               plyr_1.8.9             \n",
       " [19] plotly_4.10.4           zoo_1.8-12              uuid_1.2-0             \n",
       " [22] igraph_2.0.3            mime_0.12               lifecycle_1.0.4        \n",
       " [25] pkgconfig_2.0.3         Matrix_1.6-5            R6_2.5.1               \n",
       " [28] fastmap_1.1.1           GenomeInfoDbData_1.2.11 fitdistrplus_1.1-11    \n",
       " [31] future_1.33.2           shiny_1.8.1.1           digest_0.6.35          \n",
       " [34] colorspace_2.1-0        patchwork_1.2.0         S4Vectors_0.40.2       \n",
       " [37] tensor_1.5              RSpectra_0.16-1         irlba_2.3.5.1          \n",
       " [40] GenomicRanges_1.54.1    progressr_0.14.0        fansi_1.0.6            \n",
       " [43] spatstat.sparse_3.0-3   httr_1.4.7              polyclip_1.10-6        \n",
       " [46] abind_1.4-5             compiler_4.3.3          withr_3.0.0            \n",
       " [49] BiocParallel_1.36.0     fastDummies_1.7.3       MASS_7.3-60            \n",
       " [52] tools_4.3.3             lmtest_0.9-40           httpuv_1.6.15          \n",
       " [55] future.apply_1.11.2     goftest_1.2-3           glue_1.7.0             \n",
       " [58] nlme_3.1-164            promises_1.3.0          grid_4.3.3             \n",
       " [61] pbdZMQ_0.3-11           Rtsne_0.17              cluster_2.1.6          \n",
       " [64] reshape2_1.4.4          generics_0.1.3          gtable_0.3.5           \n",
       " [67] spatstat.data_3.0-4     tidyr_1.3.1             data.table_1.15.2      \n",
       " [70] utf8_1.2.4              XVector_0.42.0          BiocGenerics_0.48.1    \n",
       " [73] spatstat.geom_3.2-9     RcppAnnoy_0.0.22        ggrepel_0.9.5          \n",
       " [76] RANN_2.6.1              pillar_1.9.0            stringr_1.5.1          \n",
       " [79] spam_2.10-0             IRdisplay_1.1           RcppHNSW_0.6.0         \n",
       " [82] later_1.3.2             splines_4.3.3           dplyr_1.1.4            \n",
       " [85] lattice_0.22-6          survival_3.6-4          deldir_2.0-4           \n",
       " [88] tidyselect_1.2.1        Biostrings_2.70.1       miniUI_0.1.1.1         \n",
       " [91] pbapply_1.7-2           gridExtra_2.3           IRanges_2.36.0         \n",
       " [94] scattermore_1.2         stats4_4.3.3            matrixStats_1.3.0      \n",
       " [97] stringi_1.8.3           lazyeval_0.2.2          evaluate_0.23          \n",
       "[100] codetools_0.2-20        tibble_3.2.1            cli_3.6.2              \n",
       "[103] uwot_0.1.16             IRkernel_1.3.2          xtable_1.8-4           \n",
       "[106] reticulate_1.36.1       repr_1.1.7              munsell_0.5.1          \n",
       "[109] Rcpp_1.0.12             GenomeInfoDb_1.38.1     globals_0.16.3         \n",
       "[112] spatstat.random_3.2-3   png_0.1-8               parallel_4.3.3         \n",
       "[115] dotCall64_1.1-1         bitops_1.0-7            listenv_0.9.1          \n",
       "[118] viridisLite_0.4.2       scales_1.3.0            ggridges_0.5.6         \n",
       "[121] leiden_0.4.3.1          purrr_1.0.2             crayon_1.5.2           \n",
       "[124] rlang_1.1.3             fastmatch_1.1-4         cowplot_1.1.3          "
      ]
     },
     "metadata": {},
     "output_type": "display_data"
    }
   ],
   "source": [
    "sessionInfo()"
   ]
  },
  {
   "cell_type": "code",
   "execution_count": null,
   "id": "c7a05037-c554-48e8-8d09-ea504db75fa5",
   "metadata": {},
   "outputs": [],
   "source": []
  }
 ],
 "metadata": {
  "kernelspec": {
   "display_name": "R",
   "language": "R",
   "name": "ir"
  },
  "language_info": {
   "codemirror_mode": "r",
   "file_extension": ".r",
   "mimetype": "text/x-r-source",
   "name": "R",
   "pygments_lexer": "r",
   "version": "4.3.3"
  }
 },
 "nbformat": 4,
 "nbformat_minor": 5
}
