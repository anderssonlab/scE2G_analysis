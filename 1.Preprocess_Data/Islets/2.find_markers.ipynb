{
 "cells": [
  {
   "cell_type": "code",
   "execution_count": 1,
   "id": "c4190910-1a3c-4756-960e-aee9fd60067a",
   "metadata": {},
   "outputs": [
    {
     "name": "stderr",
     "output_type": "stream",
     "text": [
      "Loading required package: SeuratObject\n",
      "\n",
      "Loading required package: sp\n",
      "\n",
      "‘SeuratObject’ was built under R 4.3.2 but the current version is\n",
      "4.3.3; it is recomended that you reinstall ‘SeuratObject’ as the ABI\n",
      "for R may have changed\n",
      "\n",
      "‘SeuratObject’ was built with package ‘Matrix’ 1.6.3 but the current\n",
      "version is 1.6.5; it is recomended that you reinstall ‘SeuratObject’ as\n",
      "the ABI for ‘Matrix’ may have changed\n",
      "\n",
      "\n",
      "Attaching package: ‘SeuratObject’\n",
      "\n",
      "\n",
      "The following object is masked from ‘package:base’:\n",
      "\n",
      "    intersect\n",
      "\n",
      "\n",
      "Loading required package: grid\n",
      "\n",
      "Warning message:\n",
      "“replacing previous import ‘Biostrings::pattern’ by ‘grid::pattern’ when loading ‘genomation’”\n",
      "Loading required package: GenomeInfoDb\n",
      "\n",
      "Loading required package: BiocGenerics\n",
      "\n",
      "\n",
      "Attaching package: ‘BiocGenerics’\n",
      "\n",
      "\n",
      "The following object is masked from ‘package:SeuratObject’:\n",
      "\n",
      "    intersect\n",
      "\n",
      "\n",
      "The following objects are masked from ‘package:stats’:\n",
      "\n",
      "    IQR, mad, sd, var, xtabs\n",
      "\n",
      "\n",
      "The following objects are masked from ‘package:base’:\n",
      "\n",
      "    anyDuplicated, aperm, append, as.data.frame, basename, cbind,\n",
      "    colnames, dirname, do.call, duplicated, eval, evalq, Filter, Find,\n",
      "    get, grep, grepl, intersect, is.unsorted, lapply, Map, mapply,\n",
      "    match, mget, order, paste, pmax, pmax.int, pmin, pmin.int,\n",
      "    Position, rank, rbind, Reduce, rownames, sapply, setdiff, sort,\n",
      "    table, tapply, union, unique, unsplit, which.max, which.min\n",
      "\n",
      "\n",
      "Loading required package: S4Vectors\n",
      "\n",
      "Loading required package: stats4\n",
      "\n",
      "\n",
      "Attaching package: ‘S4Vectors’\n",
      "\n",
      "\n",
      "The following object is masked from ‘package:utils’:\n",
      "\n",
      "    findMatches\n",
      "\n",
      "\n",
      "The following objects are masked from ‘package:base’:\n",
      "\n",
      "    expand.grid, I, unname\n",
      "\n",
      "\n",
      "Loading required package: IRanges\n",
      "\n",
      "\n",
      "Attaching package: ‘IRanges’\n",
      "\n",
      "\n",
      "The following object is masked from ‘package:sp’:\n",
      "\n",
      "    %over%\n",
      "\n",
      "\n",
      "Loading required package: GenomicRanges\n",
      "\n",
      "\n",
      "Attaching package: ‘GenomicRanges’\n",
      "\n",
      "\n",
      "The following object is masked from ‘package:magrittr’:\n",
      "\n",
      "    subtract\n",
      "\n",
      "\n",
      "Loading required package: Biostrings\n",
      "\n",
      "Loading required package: XVector\n",
      "\n",
      "\n",
      "Attaching package: ‘Biostrings’\n",
      "\n",
      "\n",
      "The following object is masked from ‘package:grid’:\n",
      "\n",
      "    pattern\n",
      "\n",
      "\n",
      "The following object is masked from ‘package:base’:\n",
      "\n",
      "    strsplit\n",
      "\n",
      "\n"
     ]
    }
   ],
   "source": [
    "library(Seurat)\n",
    "library(Signac)\n",
    "library(magrittr)\n",
    "library(ggplot2)\n",
    "library(BiocIO)\n",
    "library(genomation)\n",
    "library(Rsamtools)\n",
    "library(parallel)\n",
    "library(foreach)"
   ]
  },
  {
   "cell_type": "code",
   "execution_count": 2,
   "id": "53b79e55-a160-4b28-a67c-2a362e1d9f7a",
   "metadata": {},
   "outputs": [],
   "source": [
    "obj.seurat = readRDS(\"/maps/projects/ralab_nnfc-AUDIT/people/lpm537/project/E2G/analysis/E2G_240503/data/Islets/1.prepare_data/1.seurat_pipeline.240617/obj.seurat.qc2.rds\")"
   ]
  },
  {
   "cell_type": "code",
   "execution_count": 3,
   "id": "ecddd160-d78e-4b05-830d-0e9ee5c9771f",
   "metadata": {},
   "outputs": [],
   "source": [
    "DefaultAssay(obj.seurat) <- 'RNA'"
   ]
  },
  {
   "cell_type": "code",
   "execution_count": 4,
   "id": "9ed46784-b848-4723-9129-e7a2fe9f793e",
   "metadata": {},
   "outputs": [],
   "source": [
    "Idents(obj.seurat) <- obj.seurat$cell_type"
   ]
  },
  {
   "cell_type": "code",
   "execution_count": 5,
   "id": "3447f5b0-e90e-4001-95ae-bfbc8430abe7",
   "metadata": {},
   "outputs": [
    {
     "data": {
      "text/plain": [
       "\n",
       "      alpha        beta      acinar mesenchymal        duct       delta \n",
       "      42072       36704        6119        1445        1320        6216 \n",
       "         PP      immune endothelial \n",
       "       1538         537         416 "
      ]
     },
     "metadata": {},
     "output_type": "display_data"
    }
   ],
   "source": [
    "table(Idents(obj.seurat))"
   ]
  },
  {
   "cell_type": "code",
   "execution_count": 12,
   "id": "04200737-8f13-4bb4-87f8-44bed2b29259",
   "metadata": {},
   "outputs": [
    {
     "name": "stderr",
     "output_type": "stream",
     "text": [
      "Calculating cluster alpha\n",
      "\n",
      "Calculating cluster beta\n",
      "\n",
      "Calculating cluster acinar\n",
      "\n",
      "Calculating cluster mesenchymal\n",
      "\n",
      "Calculating cluster duct\n",
      "\n",
      "Calculating cluster delta\n",
      "\n",
      "Calculating cluster PP\n",
      "\n",
      "Calculating cluster immune\n",
      "\n",
      "Calculating cluster endothelial\n",
      "\n"
     ]
    }
   ],
   "source": [
    "all.markers = Seurat::FindAllMarkers(obj.seurat,\n",
    "                                     only.pos = T,\n",
    "                                     min.pct = 0.5, \n",
    "                                     logfc.threshold = 1)"
   ]
  },
  {
   "cell_type": "code",
   "execution_count": 16,
   "id": "1c9aa72b-e790-4ed7-a32b-68726c807059",
   "metadata": {},
   "outputs": [],
   "source": [
    "df.TF = read.delim(\"/maps/projects/ralab/data/genome/hg38/Homo_sapiens_TF\")"
   ]
  },
  {
   "cell_type": "code",
   "execution_count": 17,
   "id": "b3d9a091-e621-4f96-bc6f-36bac88993e3",
   "metadata": {},
   "outputs": [
    {
     "data": {
      "text/html": [
       "<table class=\"dataframe\">\n",
       "<caption>A data.frame: 6 × 6</caption>\n",
       "<thead>\n",
       "\t<tr><th></th><th scope=col>Species</th><th scope=col>Symbol</th><th scope=col>Ensembl</th><th scope=col>Family</th><th scope=col>Protein</th><th scope=col>Entrez_ID</th></tr>\n",
       "\t<tr><th></th><th scope=col>&lt;chr&gt;</th><th scope=col>&lt;chr&gt;</th><th scope=col>&lt;chr&gt;</th><th scope=col>&lt;chr&gt;</th><th scope=col>&lt;chr&gt;</th><th scope=col>&lt;int&gt;</th></tr>\n",
       "</thead>\n",
       "<tbody>\n",
       "\t<tr><th scope=row>1</th><td>Homo_sapiens</td><td>ATF1  </td><td>ENSG00000123268</td><td>TF_bZIP</td><td>ENSP00000262053.3;                  </td><td>   466</td></tr>\n",
       "\t<tr><th scope=row>2</th><td>Homo_sapiens</td><td>      </td><td>ENSG00000254553</td><td>ZBTB   </td><td>ENSP00000455300.1;ENSP00000455300.1;</td><td>    NA</td></tr>\n",
       "\t<tr><th scope=row>3</th><td>Homo_sapiens</td><td>SOX3  </td><td>ENSG00000134595</td><td>HMG    </td><td>ENSP00000359567.2;                  </td><td>  6658</td></tr>\n",
       "\t<tr><th scope=row>4</th><td>Homo_sapiens</td><td>SPIB  </td><td>ENSG00000269404</td><td>ETS    </td><td>ENSP00000391877.2;ENSP00000471921.1;</td><td>  6689</td></tr>\n",
       "\t<tr><th scope=row>5</th><td>Homo_sapiens</td><td>ZNF620</td><td>ENSG00000177842</td><td>zf-C2H2</td><td>ENSP00000391472.1;ENSP00000322265.6;</td><td>253639</td></tr>\n",
       "\t<tr><th scope=row>6</th><td>Homo_sapiens</td><td>ZNF225</td><td>ENSG00000256294</td><td>zf-C2H2</td><td>ENSP00000262894.5;ENSP00000468686.1;</td><td>  7768</td></tr>\n",
       "</tbody>\n",
       "</table>\n"
      ],
      "text/latex": [
       "A data.frame: 6 × 6\n",
       "\\begin{tabular}{r|llllll}\n",
       "  & Species & Symbol & Ensembl & Family & Protein & Entrez\\_ID\\\\\n",
       "  & <chr> & <chr> & <chr> & <chr> & <chr> & <int>\\\\\n",
       "\\hline\n",
       "\t1 & Homo\\_sapiens & ATF1   & ENSG00000123268 & TF\\_bZIP & ENSP00000262053.3;                   &    466\\\\\n",
       "\t2 & Homo\\_sapiens &        & ENSG00000254553 & ZBTB    & ENSP00000455300.1;ENSP00000455300.1; &     NA\\\\\n",
       "\t3 & Homo\\_sapiens & SOX3   & ENSG00000134595 & HMG     & ENSP00000359567.2;                   &   6658\\\\\n",
       "\t4 & Homo\\_sapiens & SPIB   & ENSG00000269404 & ETS     & ENSP00000391877.2;ENSP00000471921.1; &   6689\\\\\n",
       "\t5 & Homo\\_sapiens & ZNF620 & ENSG00000177842 & zf-C2H2 & ENSP00000391472.1;ENSP00000322265.6; & 253639\\\\\n",
       "\t6 & Homo\\_sapiens & ZNF225 & ENSG00000256294 & zf-C2H2 & ENSP00000262894.5;ENSP00000468686.1; &   7768\\\\\n",
       "\\end{tabular}\n"
      ],
      "text/markdown": [
       "\n",
       "A data.frame: 6 × 6\n",
       "\n",
       "| <!--/--> | Species &lt;chr&gt; | Symbol &lt;chr&gt; | Ensembl &lt;chr&gt; | Family &lt;chr&gt; | Protein &lt;chr&gt; | Entrez_ID &lt;int&gt; |\n",
       "|---|---|---|---|---|---|---|\n",
       "| 1 | Homo_sapiens | ATF1   | ENSG00000123268 | TF_bZIP | ENSP00000262053.3;                   |    466 |\n",
       "| 2 | Homo_sapiens | <!----> | ENSG00000254553 | ZBTB    | ENSP00000455300.1;ENSP00000455300.1; |     NA |\n",
       "| 3 | Homo_sapiens | SOX3   | ENSG00000134595 | HMG     | ENSP00000359567.2;                   |   6658 |\n",
       "| 4 | Homo_sapiens | SPIB   | ENSG00000269404 | ETS     | ENSP00000391877.2;ENSP00000471921.1; |   6689 |\n",
       "| 5 | Homo_sapiens | ZNF620 | ENSG00000177842 | zf-C2H2 | ENSP00000391472.1;ENSP00000322265.6; | 253639 |\n",
       "| 6 | Homo_sapiens | ZNF225 | ENSG00000256294 | zf-C2H2 | ENSP00000262894.5;ENSP00000468686.1; |   7768 |\n",
       "\n"
      ],
      "text/plain": [
       "  Species      Symbol Ensembl         Family \n",
       "1 Homo_sapiens ATF1   ENSG00000123268 TF_bZIP\n",
       "2 Homo_sapiens        ENSG00000254553 ZBTB   \n",
       "3 Homo_sapiens SOX3   ENSG00000134595 HMG    \n",
       "4 Homo_sapiens SPIB   ENSG00000269404 ETS    \n",
       "5 Homo_sapiens ZNF620 ENSG00000177842 zf-C2H2\n",
       "6 Homo_sapiens ZNF225 ENSG00000256294 zf-C2H2\n",
       "  Protein                              Entrez_ID\n",
       "1 ENSP00000262053.3;                      466   \n",
       "2 ENSP00000455300.1;ENSP00000455300.1;     NA   \n",
       "3 ENSP00000359567.2;                     6658   \n",
       "4 ENSP00000391877.2;ENSP00000471921.1;   6689   \n",
       "5 ENSP00000391472.1;ENSP00000322265.6; 253639   \n",
       "6 ENSP00000262894.5;ENSP00000468686.1;   7768   "
      ]
     },
     "metadata": {},
     "output_type": "display_data"
    }
   ],
   "source": [
    "head(df.TF)"
   ]
  },
  {
   "cell_type": "code",
   "execution_count": 18,
   "id": "8c9753be-f6fb-4f5d-b94d-a66202c77605",
   "metadata": {},
   "outputs": [],
   "source": [
    "all.markers$TF = rownames(all.markers) %in% df.TF$Symbol"
   ]
  },
  {
   "cell_type": "code",
   "execution_count": 19,
   "id": "db482430-7975-4d37-b8e7-1930b86ac710",
   "metadata": {},
   "outputs": [
    {
     "data": {
      "text/html": [
       "<table class=\"dataframe\">\n",
       "<caption>A data.frame: 6 × 8</caption>\n",
       "<thead>\n",
       "\t<tr><th></th><th scope=col>p_val</th><th scope=col>avg_log2FC</th><th scope=col>pct.1</th><th scope=col>pct.2</th><th scope=col>p_val_adj</th><th scope=col>cluster</th><th scope=col>gene</th><th scope=col>TF</th></tr>\n",
       "\t<tr><th></th><th scope=col>&lt;dbl&gt;</th><th scope=col>&lt;dbl&gt;</th><th scope=col>&lt;dbl&gt;</th><th scope=col>&lt;dbl&gt;</th><th scope=col>&lt;dbl&gt;</th><th scope=col>&lt;fct&gt;</th><th scope=col>&lt;chr&gt;</th><th scope=col>&lt;lgl&gt;</th></tr>\n",
       "</thead>\n",
       "<tbody>\n",
       "\t<tr><th scope=row>PTPRT</th><td>0</td><td>4.458476</td><td>0.802</td><td>0.062</td><td>0</td><td>alpha</td><td>PTPRT          </td><td>FALSE</td></tr>\n",
       "\t<tr><th scope=row>ENSG00000233928</th><td>0</td><td>4.057873</td><td>0.842</td><td>0.121</td><td>0</td><td>alpha</td><td>ENSG00000233928</td><td>FALSE</td></tr>\n",
       "\t<tr><th scope=row>POU6F2</th><td>0</td><td>4.408240</td><td>0.771</td><td>0.073</td><td>0</td><td>alpha</td><td>POU6F2         </td><td> TRUE</td></tr>\n",
       "\t<tr><th scope=row>FSTL5</th><td>0</td><td>3.259536</td><td>0.845</td><td>0.164</td><td>0</td><td>alpha</td><td>FSTL5          </td><td>FALSE</td></tr>\n",
       "\t<tr><th scope=row>GPC6</th><td>0</td><td>2.843277</td><td>0.975</td><td>0.296</td><td>0</td><td>alpha</td><td>GPC6           </td><td>FALSE</td></tr>\n",
       "\t<tr><th scope=row>SLC35F4</th><td>0</td><td>3.379027</td><td>0.813</td><td>0.166</td><td>0</td><td>alpha</td><td>SLC35F4        </td><td>FALSE</td></tr>\n",
       "</tbody>\n",
       "</table>\n"
      ],
      "text/latex": [
       "A data.frame: 6 × 8\n",
       "\\begin{tabular}{r|llllllll}\n",
       "  & p\\_val & avg\\_log2FC & pct.1 & pct.2 & p\\_val\\_adj & cluster & gene & TF\\\\\n",
       "  & <dbl> & <dbl> & <dbl> & <dbl> & <dbl> & <fct> & <chr> & <lgl>\\\\\n",
       "\\hline\n",
       "\tPTPRT & 0 & 4.458476 & 0.802 & 0.062 & 0 & alpha & PTPRT           & FALSE\\\\\n",
       "\tENSG00000233928 & 0 & 4.057873 & 0.842 & 0.121 & 0 & alpha & ENSG00000233928 & FALSE\\\\\n",
       "\tPOU6F2 & 0 & 4.408240 & 0.771 & 0.073 & 0 & alpha & POU6F2          &  TRUE\\\\\n",
       "\tFSTL5 & 0 & 3.259536 & 0.845 & 0.164 & 0 & alpha & FSTL5           & FALSE\\\\\n",
       "\tGPC6 & 0 & 2.843277 & 0.975 & 0.296 & 0 & alpha & GPC6            & FALSE\\\\\n",
       "\tSLC35F4 & 0 & 3.379027 & 0.813 & 0.166 & 0 & alpha & SLC35F4         & FALSE\\\\\n",
       "\\end{tabular}\n"
      ],
      "text/markdown": [
       "\n",
       "A data.frame: 6 × 8\n",
       "\n",
       "| <!--/--> | p_val &lt;dbl&gt; | avg_log2FC &lt;dbl&gt; | pct.1 &lt;dbl&gt; | pct.2 &lt;dbl&gt; | p_val_adj &lt;dbl&gt; | cluster &lt;fct&gt; | gene &lt;chr&gt; | TF &lt;lgl&gt; |\n",
       "|---|---|---|---|---|---|---|---|---|\n",
       "| PTPRT | 0 | 4.458476 | 0.802 | 0.062 | 0 | alpha | PTPRT           | FALSE |\n",
       "| ENSG00000233928 | 0 | 4.057873 | 0.842 | 0.121 | 0 | alpha | ENSG00000233928 | FALSE |\n",
       "| POU6F2 | 0 | 4.408240 | 0.771 | 0.073 | 0 | alpha | POU6F2          |  TRUE |\n",
       "| FSTL5 | 0 | 3.259536 | 0.845 | 0.164 | 0 | alpha | FSTL5           | FALSE |\n",
       "| GPC6 | 0 | 2.843277 | 0.975 | 0.296 | 0 | alpha | GPC6            | FALSE |\n",
       "| SLC35F4 | 0 | 3.379027 | 0.813 | 0.166 | 0 | alpha | SLC35F4         | FALSE |\n",
       "\n"
      ],
      "text/plain": [
       "                p_val avg_log2FC pct.1 pct.2 p_val_adj cluster gene           \n",
       "PTPRT           0     4.458476   0.802 0.062 0         alpha   PTPRT          \n",
       "ENSG00000233928 0     4.057873   0.842 0.121 0         alpha   ENSG00000233928\n",
       "POU6F2          0     4.408240   0.771 0.073 0         alpha   POU6F2         \n",
       "FSTL5           0     3.259536   0.845 0.164 0         alpha   FSTL5          \n",
       "GPC6            0     2.843277   0.975 0.296 0         alpha   GPC6           \n",
       "SLC35F4         0     3.379027   0.813 0.166 0         alpha   SLC35F4        \n",
       "                TF   \n",
       "PTPRT           FALSE\n",
       "ENSG00000233928 FALSE\n",
       "POU6F2           TRUE\n",
       "FSTL5           FALSE\n",
       "GPC6            FALSE\n",
       "SLC35F4         FALSE"
      ]
     },
     "metadata": {},
     "output_type": "display_data"
    }
   ],
   "source": [
    "head(all.markers)"
   ]
  },
  {
   "cell_type": "code",
   "execution_count": 20,
   "id": "6f839de4-4289-4430-b7f6-cb9737714def",
   "metadata": {},
   "outputs": [
    {
     "name": "stderr",
     "output_type": "stream",
     "text": [
      "Warning message in dir.create(\"/maps/projects/ralab_nnfc-AUDIT/people/lpm537/project/E2G/analysis/E2G_240503/data/Islets/1.prepare_data/2.find_markers/\", :\n",
      "“'/maps/projects/ralab_nnfc-AUDIT/people/lpm537/project/E2G/analysis/E2G_240503/data/Islets/1.prepare_data/2.find_markers' already exists”\n"
     ]
    }
   ],
   "source": [
    "dir.create(\"/maps/projects/ralab_nnfc-AUDIT/people/lpm537/project/E2G/analysis/E2G_240503/data/Islets/1.prepare_data/2.find_markers/\",recursive = T)"
   ]
  },
  {
   "cell_type": "code",
   "execution_count": 21,
   "id": "2523403c-1e34-4752-aee0-25071e97bc77",
   "metadata": {},
   "outputs": [],
   "source": [
    "write.csv(all.markers,\n",
    "          \"/maps/projects/ralab_nnfc-AUDIT/people/lpm537/project/E2G/analysis/E2G_240503/data/Islets/1.prepare_data/2.find_markers/all.markers.csv\")"
   ]
  },
  {
   "cell_type": "code",
   "execution_count": 22,
   "id": "07a05a66-c753-418d-a414-bc78ca6e7800",
   "metadata": {},
   "outputs": [
    {
     "data": {
      "text/plain": [
       "R version 4.3.3 (2024-02-29)\n",
       "Platform: x86_64-conda-linux-gnu (64-bit)\n",
       "Running under: Red Hat Enterprise Linux 8.10 (Ootpa)\n",
       "\n",
       "Matrix products: default\n",
       "BLAS/LAPACK: /maps/projects/ralab/people/lpm537/software/anaconda3/envs/Notebook_E2G_240505/lib/libopenblasp-r0.3.27.so;  LAPACK version 3.12.0\n",
       "\n",
       "locale:\n",
       " [1] LC_CTYPE=en_US.UTF-8       LC_NUMERIC=C              \n",
       " [3] LC_TIME=en_US.UTF-8        LC_COLLATE=en_US.UTF-8    \n",
       " [5] LC_MONETARY=en_US.UTF-8    LC_MESSAGES=en_US.UTF-8   \n",
       " [7] LC_PAPER=en_US.UTF-8       LC_NAME=C                 \n",
       " [9] LC_ADDRESS=C               LC_TELEPHONE=C            \n",
       "[11] LC_MEASUREMENT=en_US.UTF-8 LC_IDENTIFICATION=C       \n",
       "\n",
       "time zone: Europe/Copenhagen\n",
       "tzcode source: system (glibc)\n",
       "\n",
       "attached base packages:\n",
       " [1] parallel  stats4    grid      stats     graphics  grDevices utils    \n",
       " [8] datasets  methods   base     \n",
       "\n",
       "other attached packages:\n",
       " [1] foreach_1.5.2        Rsamtools_2.18.0     Biostrings_2.70.1   \n",
       " [4] XVector_0.42.0       GenomicRanges_1.54.1 GenomeInfoDb_1.38.1 \n",
       " [7] IRanges_2.36.0       S4Vectors_0.40.2     BiocGenerics_0.48.1 \n",
       "[10] genomation_1.34.0    BiocIO_1.10.0        ggplot2_3.5.1       \n",
       "[13] magrittr_2.0.3       Signac_1.13.0        Seurat_5.0.3        \n",
       "[16] SeuratObject_5.0.1   sp_2.1-4            \n",
       "\n",
       "loaded via a namespace (and not attached):\n",
       "  [1] RcppAnnoy_0.0.22            splines_4.3.3              \n",
       "  [3] later_1.3.2                 pbdZMQ_0.3-11              \n",
       "  [5] bitops_1.0-7                tibble_3.2.1               \n",
       "  [7] polyclip_1.10-6             XML_3.99-0.16.1            \n",
       "  [9] fastDummies_1.7.3           lifecycle_1.0.4            \n",
       " [11] globals_0.16.3              lattice_0.22-6             \n",
       " [13] MASS_7.3-60                 limma_3.56.2               \n",
       " [15] plotly_4.10.4               yaml_2.3.8                 \n",
       " [17] plotrix_3.8-4               httpuv_1.6.15              \n",
       " [19] sctransform_0.4.1           spam_2.10-0                \n",
       " [21] spatstat.sparse_3.0-3       reticulate_1.36.1          \n",
       " [23] cowplot_1.1.3               pbapply_1.7-2              \n",
       " [25] RColorBrewer_1.1-3          abind_1.4-5                \n",
       " [27] zlibbioc_1.48.0             Rtsne_0.17                 \n",
       " [29] presto_1.0.0                purrr_1.0.2                \n",
       " [31] RCurl_1.98-1.14             GenomeInfoDbData_1.2.11    \n",
       " [33] ggrepel_0.9.5               irlba_2.3.5.1              \n",
       " [35] listenv_0.9.1               spatstat.utils_3.0-4       \n",
       " [37] goftest_1.2-3               RSpectra_0.16-1            \n",
       " [39] spatstat.random_3.2-3       fitdistrplus_1.1-11        \n",
       " [41] parallelly_1.37.1           leiden_0.4.3.1             \n",
       " [43] codetools_0.2-20            DelayedArray_0.26.7        \n",
       " [45] RcppRoll_0.3.0              tidyselect_1.2.1           \n",
       " [47] matrixStats_1.3.0           base64enc_0.1-3            \n",
       " [49] spatstat.explore_3.2-6      GenomicAlignments_1.36.0   \n",
       " [51] jsonlite_1.8.8              progressr_0.14.0           \n",
       " [53] ggridges_0.5.6              survival_3.6-4             \n",
       " [55] iterators_1.0.14            tools_4.3.3                \n",
       " [57] ica_1.0-3                   Rcpp_1.0.12                \n",
       " [59] glue_1.7.0                  gridExtra_2.3              \n",
       " [61] MatrixGenerics_1.12.3       IRdisplay_1.1              \n",
       " [63] dplyr_1.1.4                 withr_3.0.0                \n",
       " [65] fastmap_1.1.1               fansi_1.0.6                \n",
       " [67] digest_0.6.35               R6_2.5.1                   \n",
       " [69] mime_0.12                   seqPattern_1.34.0          \n",
       " [71] colorspace_2.1-0            scattermore_1.2            \n",
       " [73] tensor_1.5                  spatstat.data_3.0-4        \n",
       " [75] utf8_1.2.4                  tidyr_1.3.1                \n",
       " [77] generics_0.1.3              data.table_1.15.2          \n",
       " [79] rtracklayer_1.60.1          httr_1.4.7                 \n",
       " [81] htmlwidgets_1.6.4           S4Arrays_1.2.1             \n",
       " [83] uwot_0.1.16                 pkgconfig_2.0.3            \n",
       " [85] gtable_0.3.5                lmtest_0.9-40              \n",
       " [87] impute_1.76.0               htmltools_0.5.8.1          \n",
       " [89] dotCall64_1.1-1             scales_1.3.0               \n",
       " [91] Biobase_2.60.0              png_0.1-8                  \n",
       " [93] tzdb_0.4.0                  reshape2_1.4.4             \n",
       " [95] rjson_0.2.21                uuid_1.2-0                 \n",
       " [97] nlme_3.1-164                repr_1.1.7                 \n",
       " [99] zoo_1.8-12                  stringr_1.5.1              \n",
       "[101] KernSmooth_2.23-22          miniUI_0.1.1.1             \n",
       "[103] restfulr_0.0.15             pillar_1.9.0               \n",
       "[105] vctrs_0.6.5                 RANN_2.6.1                 \n",
       "[107] promises_1.3.0              xtable_1.8-4               \n",
       "[109] cluster_2.1.6               evaluate_0.23              \n",
       "[111] readr_2.1.5                 cli_3.6.2                  \n",
       "[113] compiler_4.3.3              rlang_1.1.3                \n",
       "[115] crayon_1.5.2                future.apply_1.11.2        \n",
       "[117] plyr_1.8.9                  stringi_1.8.3              \n",
       "[119] viridisLite_0.4.2           deldir_2.0-4               \n",
       "[121] gridBase_0.4-7              BiocParallel_1.36.0        \n",
       "[123] munsell_0.5.1               lazyeval_0.2.2             \n",
       "[125] spatstat.geom_3.2-9         Matrix_1.6-5               \n",
       "[127] IRkernel_1.3.2              RcppHNSW_0.6.0             \n",
       "[129] BSgenome_1.68.0             hms_1.1.3                  \n",
       "[131] patchwork_1.2.0             future_1.33.2              \n",
       "[133] shiny_1.8.1.1               SummarizedExperiment_1.30.2\n",
       "[135] ROCR_1.0-11                 igraph_2.0.3               \n",
       "[137] fastmatch_1.1-4            "
      ]
     },
     "metadata": {},
     "output_type": "display_data"
    }
   ],
   "source": [
    "sessionInfo()"
   ]
  },
  {
   "cell_type": "code",
   "execution_count": null,
   "id": "6267a5c3-158c-4516-830f-33497675336d",
   "metadata": {},
   "outputs": [],
   "source": []
  }
 ],
 "metadata": {
  "kernelspec": {
   "display_name": "R",
   "language": "R",
   "name": "ir"
  },
  "language_info": {
   "codemirror_mode": "r",
   "file_extension": ".r",
   "mimetype": "text/x-r-source",
   "name": "R",
   "pygments_lexer": "r",
   "version": "4.3.3"
  }
 },
 "nbformat": 4,
 "nbformat_minor": 5
}
