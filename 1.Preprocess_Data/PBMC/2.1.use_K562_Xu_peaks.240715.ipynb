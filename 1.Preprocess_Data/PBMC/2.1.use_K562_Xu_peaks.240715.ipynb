{
 "cells": [
  {
   "cell_type": "markdown",
   "id": "a4175b18-ad06-4184-94b1-856fb818af9b",
   "metadata": {},
   "source": [
    "Use peaks defined in Xu et al K562 dataset to extract ATAC matrix"
   ]
  },
  {
   "cell_type": "code",
   "execution_count": 1,
   "id": "f27f01b8-330b-454e-b043-2c931cd1a53f",
   "metadata": {},
   "outputs": [
    {
     "name": "stderr",
     "output_type": "stream",
     "text": [
      "Loading required package: SeuratObject\n",
      "\n",
      "Loading required package: sp\n",
      "\n",
      "‘SeuratObject’ was built under R 4.3.2 but the current version is\n",
      "4.3.3; it is recomended that you reinstall ‘SeuratObject’ as the ABI\n",
      "for R may have changed\n",
      "\n",
      "‘SeuratObject’ was built with package ‘Matrix’ 1.6.3 but the current\n",
      "version is 1.6.5; it is recomended that you reinstall ‘SeuratObject’ as\n",
      "the ABI for ‘Matrix’ may have changed\n",
      "\n",
      "\n",
      "Attaching package: ‘SeuratObject’\n",
      "\n",
      "\n",
      "The following object is masked from ‘package:base’:\n",
      "\n",
      "    intersect\n",
      "\n",
      "\n",
      "Loading required package: grid\n",
      "\n",
      "Warning message:\n",
      "“replacing previous import ‘Biostrings::pattern’ by ‘grid::pattern’ when loading ‘genomation’”\n",
      "Loading required package: stats4\n",
      "\n",
      "Loading required package: BiocGenerics\n",
      "\n",
      "\n",
      "Attaching package: ‘BiocGenerics’\n",
      "\n",
      "\n",
      "The following object is masked from ‘package:SeuratObject’:\n",
      "\n",
      "    intersect\n",
      "\n",
      "\n",
      "The following objects are masked from ‘package:stats’:\n",
      "\n",
      "    IQR, mad, sd, var, xtabs\n",
      "\n",
      "\n",
      "The following objects are masked from ‘package:base’:\n",
      "\n",
      "    anyDuplicated, aperm, append, as.data.frame, basename, cbind,\n",
      "    colnames, dirname, do.call, duplicated, eval, evalq, Filter, Find,\n",
      "    get, grep, grepl, intersect, is.unsorted, lapply, Map, mapply,\n",
      "    match, mget, order, paste, pmax, pmax.int, pmin, pmin.int,\n",
      "    Position, rank, rbind, Reduce, rownames, sapply, setdiff, sort,\n",
      "    table, tapply, union, unique, unsplit, which.max, which.min\n",
      "\n",
      "\n",
      "Loading required package: S4Vectors\n",
      "\n",
      "\n",
      "Attaching package: ‘S4Vectors’\n",
      "\n",
      "\n",
      "The following object is masked from ‘package:utils’:\n",
      "\n",
      "    findMatches\n",
      "\n",
      "\n",
      "The following objects are masked from ‘package:base’:\n",
      "\n",
      "    expand.grid, I, unname\n",
      "\n",
      "\n",
      "Loading required package: IRanges\n",
      "\n",
      "\n",
      "Attaching package: ‘IRanges’\n",
      "\n",
      "\n",
      "The following object is masked from ‘package:sp’:\n",
      "\n",
      "    %over%\n",
      "\n",
      "\n",
      "Loading required package: GenomeInfoDb\n",
      "\n",
      "\n",
      "Attaching package: ‘GenomicRanges’\n",
      "\n",
      "\n",
      "The following object is masked from ‘package:magrittr’:\n",
      "\n",
      "    subtract\n",
      "\n",
      "\n",
      "\n",
      "Attaching package: ‘Matrix’\n",
      "\n",
      "\n",
      "The following object is masked from ‘package:S4Vectors’:\n",
      "\n",
      "    expand\n",
      "\n",
      "\n"
     ]
    }
   ],
   "source": [
    "library(Seurat)\n",
    "library(Signac)\n",
    "library(magrittr)\n",
    "library(genomation)\n",
    "library(GenomicRanges)\n",
    "library(Matrix)\n",
    "library(ggplot2)"
   ]
  },
  {
   "cell_type": "markdown",
   "id": "30bc9977-e44f-4fe7-a272-ca94326794e3",
   "metadata": {},
   "source": [
    "Specify file path"
   ]
  },
  {
   "cell_type": "code",
   "execution_count": 2,
   "id": "168504e2-74d6-405d-92b6-adac861674ed",
   "metadata": {},
   "outputs": [],
   "source": [
    "dir.scE2G_res = \"/maps/projects/ralab_nnfc-AUDIT/people/lpm537/software/scE2G_pipeline/240508/sc-E2G/test/results_K562_Xu/K562/\"\n",
    "path.obj.seurat = \"/maps/projects/ralab_nnfc-AUDIT/people/lpm537/project/E2G/analysis/E2G_240503/data/PBMC/1.prepare_data/1.seurat_pipeline.240620/obj.seurat.qc.56.filter.rds\"\n",
    "dir.output = \"/maps/projects/ralab_nnfc-AUDIT/people/lpm537/project/E2G/analysis/E2G_240503/data/PBMC/1.prepare_data/2.1.use_K562_Xu_peaks.240715/\""
   ]
  },
  {
   "cell_type": "code",
   "execution_count": 3,
   "id": "fbf6b429-a9af-4f8c-bcc4-0ee3f4721bcc",
   "metadata": {},
   "outputs": [],
   "source": [
    "dir.create(dir.output,recursive = T)"
   ]
  },
  {
   "cell_type": "markdown",
   "id": "1ec80642-72dc-45fc-8bf3-0b01e6f06cdd",
   "metadata": {},
   "source": [
    "Import seurat object"
   ]
  },
  {
   "cell_type": "code",
   "execution_count": 5,
   "id": "0ca0efa1-02d8-4d9c-9e60-c39108117eb2",
   "metadata": {},
   "outputs": [],
   "source": [
    "obj.seurat = readRDS(path.obj.seurat)"
   ]
  },
  {
   "cell_type": "markdown",
   "id": "7da4173c-c4ad-45e5-9b32-0d8385ccac17",
   "metadata": {},
   "source": [
    "Import E-G pairs for Xu et al K562"
   ]
  },
  {
   "cell_type": "code",
   "execution_count": 6,
   "id": "7736eb4c-aa0c-4078-b9cc-f8c689bbb550",
   "metadata": {},
   "outputs": [],
   "source": [
    "pairs.E2G = readGeneric(paste(dir.scE2G_res,\n",
    "                              \"/\",\n",
    "                              \"Kendall/Pairs.tsv.gz\",sep = \"\"),\n",
    "                        header = T,\n",
    "                        keep.all.metadata = T)"
   ]
  },
  {
   "cell_type": "markdown",
   "id": "271c9d79-ba95-4e4e-8146-02694b38cd92",
   "metadata": {},
   "source": [
    "Merge peaks"
   ]
  },
  {
   "cell_type": "code",
   "execution_count": 7,
   "id": "ae211af5-a220-4cf1-b7cd-f41377ff6d73",
   "metadata": {},
   "outputs": [
    {
     "data": {
      "text/plain": [
       "GRanges object with 157600 ranges and 0 metadata columns:\n",
       "           seqnames              ranges strand\n",
       "              <Rle>           <IRanges>  <Rle>\n",
       "       [1]     chr1          9926-10618      *\n",
       "       [2]     chr1         15894-16509      *\n",
       "       [3]     chr1         17271-17713      *\n",
       "       [4]     chr1         29230-29495      *\n",
       "       [5]     chr1       115493-115961      *\n",
       "       ...      ...                 ...    ...\n",
       "  [157596]     chrX 156009722-156010137      *\n",
       "  [157597]     chrX 156016191-156016823      *\n",
       "  [157598]     chrX 156019811-156020191      *\n",
       "  [157599]     chrX 156025028-156025591      *\n",
       "  [157600]     chrX 156030021-156030865      *\n",
       "  -------\n",
       "  seqinfo: 23 sequences from an unspecified genome; no seqlengths"
      ]
     },
     "metadata": {},
     "output_type": "display_data"
    }
   ],
   "source": [
    "bed.peaks = reduce(pairs.E2G)\n",
    "bed.peaks"
   ]
  },
  {
   "cell_type": "markdown",
   "id": "a790ff74-5417-4fe8-adea-8904f3ab307c",
   "metadata": {},
   "source": [
    "Generate ATAC matrix"
   ]
  },
  {
   "cell_type": "code",
   "execution_count": 8,
   "id": "305af63e-20c7-48d0-896f-b5ba50ea1b6f",
   "metadata": {},
   "outputs": [
    {
     "name": "stderr",
     "output_type": "stream",
     "text": [
      "Extracting reads overlapping genomic regions\n",
      "\n",
      "Extracting reads overlapping genomic regions\n",
      "\n"
     ]
    }
   ],
   "source": [
    "future::plan(\"multicore\", workers = 32)\n",
    "atac.matrix <- FeatureMatrix(\n",
    "  fragments = obj.seurat@assays$ATAC_empty@fragments,\n",
    "  features = bed.peaks,\n",
    "  cells = colnames(obj.seurat@assays$RNA$counts)\n",
    ")\n",
    "future::plan(\"sequential\")"
   ]
  },
  {
   "cell_type": "markdown",
   "id": "4d8e9339-5b09-4763-bfe9-3e6f121e7a87",
   "metadata": {},
   "source": [
    "Save data"
   ]
  },
  {
   "cell_type": "code",
   "execution_count": 9,
   "id": "ad9fe5c0-5ec0-4d9d-be9a-86c276ae5391",
   "metadata": {},
   "outputs": [],
   "source": [
    "saveRDS(atac.matrix,\n",
    "        paste(dir.output, \"atac.matrix.PBMC.rds\", sep = \"/\"))"
   ]
  },
  {
   "cell_type": "code",
   "execution_count": 10,
   "id": "090014a1-c90d-433e-9b7d-82e0568304be",
   "metadata": {},
   "outputs": [],
   "source": [
    "saveRDS(obj.seurat@assays$RNA$counts,\n",
    "        paste(dir.output, \"matrix.rna.PBMC.rds\", sep = \"/\"))"
   ]
  },
  {
   "cell_type": "code",
   "execution_count": 11,
   "id": "2540fe05-0f99-4a4a-a858-32c9a0921caf",
   "metadata": {},
   "outputs": [
    {
     "data": {
      "text/plain": [
       "R version 4.3.3 (2024-02-29)\n",
       "Platform: x86_64-conda-linux-gnu (64-bit)\n",
       "Running under: Red Hat Enterprise Linux 8.10 (Ootpa)\n",
       "\n",
       "Matrix products: default\n",
       "BLAS/LAPACK: /maps/projects/ralab/people/lpm537/software/anaconda3/envs/Notebook_E2G_240505/lib/libopenblasp-r0.3.27.so;  LAPACK version 3.12.0\n",
       "\n",
       "locale:\n",
       " [1] LC_CTYPE=en_US.UTF-8       LC_NUMERIC=C              \n",
       " [3] LC_TIME=en_US.UTF-8        LC_COLLATE=en_US.UTF-8    \n",
       " [5] LC_MONETARY=en_US.UTF-8    LC_MESSAGES=en_US.UTF-8   \n",
       " [7] LC_PAPER=en_US.UTF-8       LC_NAME=C                 \n",
       " [9] LC_ADDRESS=C               LC_TELEPHONE=C            \n",
       "[11] LC_MEASUREMENT=en_US.UTF-8 LC_IDENTIFICATION=C       \n",
       "\n",
       "time zone: Europe/Copenhagen\n",
       "tzcode source: system (glibc)\n",
       "\n",
       "attached base packages:\n",
       "[1] stats4    grid      stats     graphics  grDevices utils     datasets \n",
       "[8] methods   base     \n",
       "\n",
       "other attached packages:\n",
       " [1] ggplot2_3.5.1        Matrix_1.6-5         GenomicRanges_1.54.1\n",
       " [4] GenomeInfoDb_1.38.1  IRanges_2.36.0       S4Vectors_0.40.2    \n",
       " [7] BiocGenerics_0.48.1  genomation_1.34.0    magrittr_2.0.3      \n",
       "[10] Signac_1.13.0        Seurat_5.0.3         SeuratObject_5.0.1  \n",
       "[13] sp_2.1-4            \n",
       "\n",
       "loaded via a namespace (and not attached):\n",
       "  [1] RcppAnnoy_0.0.22            splines_4.3.3              \n",
       "  [3] later_1.3.2                 pbdZMQ_0.3-11              \n",
       "  [5] BiocIO_1.10.0               bitops_1.0-7               \n",
       "  [7] tibble_3.2.1                polyclip_1.10-6            \n",
       "  [9] XML_3.99-0.16.1             fastDummies_1.7.3          \n",
       " [11] lifecycle_1.0.4             globals_0.16.3             \n",
       " [13] lattice_0.22-6              vroom_1.6.5                \n",
       " [15] MASS_7.3-60                 plotly_4.10.4              \n",
       " [17] yaml_2.3.8                  plotrix_3.8-4              \n",
       " [19] httpuv_1.6.15               sctransform_0.4.1          \n",
       " [21] spam_2.10-0                 spatstat.sparse_3.0-3      \n",
       " [23] reticulate_1.36.1           cowplot_1.1.3              \n",
       " [25] pbapply_1.7-2               RColorBrewer_1.1-3         \n",
       " [27] abind_1.4-5                 zlibbioc_1.48.0            \n",
       " [29] Rtsne_0.17                  purrr_1.0.2                \n",
       " [31] RCurl_1.98-1.14             GenomeInfoDbData_1.2.11    \n",
       " [33] ggrepel_0.9.5               irlba_2.3.5.1              \n",
       " [35] listenv_0.9.1               spatstat.utils_3.0-4       \n",
       " [37] goftest_1.2-3               RSpectra_0.16-1            \n",
       " [39] spatstat.random_3.2-3       fitdistrplus_1.1-11        \n",
       " [41] parallelly_1.37.1           leiden_0.4.3.1             \n",
       " [43] codetools_0.2-20            DelayedArray_0.26.7        \n",
       " [45] RcppRoll_0.3.0              tidyselect_1.2.1           \n",
       " [47] matrixStats_1.3.0           base64enc_0.1-3            \n",
       " [49] spatstat.explore_3.2-6      GenomicAlignments_1.36.0   \n",
       " [51] jsonlite_1.8.8              progressr_0.14.0           \n",
       " [53] ggridges_0.5.6              survival_3.6-4             \n",
       " [55] tools_4.3.3                 ica_1.0-3                  \n",
       " [57] Rcpp_1.0.12                 glue_1.7.0                 \n",
       " [59] gridExtra_2.3               MatrixGenerics_1.12.3      \n",
       " [61] IRdisplay_1.1               dplyr_1.1.4                \n",
       " [63] withr_3.0.0                 fastmap_1.1.1              \n",
       " [65] fansi_1.0.6                 digest_0.6.35              \n",
       " [67] R6_2.5.1                    mime_0.12                  \n",
       " [69] seqPattern_1.34.0           colorspace_2.1-0           \n",
       " [71] scattermore_1.2             tensor_1.5                 \n",
       " [73] spatstat.data_3.0-4         utf8_1.2.4                 \n",
       " [75] tidyr_1.3.1                 generics_0.1.3             \n",
       " [77] data.table_1.15.2           rtracklayer_1.60.1         \n",
       " [79] httr_1.4.7                  htmlwidgets_1.6.4          \n",
       " [81] S4Arrays_1.2.1              uwot_0.1.16                \n",
       " [83] pkgconfig_2.0.3             gtable_0.3.5               \n",
       " [85] lmtest_0.9-40               impute_1.76.0              \n",
       " [87] XVector_0.42.0              htmltools_0.5.8.1          \n",
       " [89] dotCall64_1.1-1             scales_1.3.0               \n",
       " [91] Biobase_2.60.0              png_0.1-8                  \n",
       " [93] tzdb_0.4.0                  reshape2_1.4.4             \n",
       " [95] rjson_0.2.21                uuid_1.2-0                 \n",
       " [97] nlme_3.1-164                repr_1.1.7                 \n",
       " [99] zoo_1.8-12                  stringr_1.5.1              \n",
       "[101] KernSmooth_2.23-22          parallel_4.3.3             \n",
       "[103] miniUI_0.1.1.1              restfulr_0.0.15            \n",
       "[105] pillar_1.9.0                vctrs_0.6.5                \n",
       "[107] RANN_2.6.1                  promises_1.3.0             \n",
       "[109] xtable_1.8-4                cluster_2.1.6              \n",
       "[111] evaluate_0.23               readr_2.1.5                \n",
       "[113] cli_3.6.2                   compiler_4.3.3             \n",
       "[115] Rsamtools_2.18.0            rlang_1.1.3                \n",
       "[117] crayon_1.5.2                future.apply_1.11.2        \n",
       "[119] plyr_1.8.9                  stringi_1.8.3              \n",
       "[121] viridisLite_0.4.2           deldir_2.0-4               \n",
       "[123] gridBase_0.4-7              BiocParallel_1.36.0        \n",
       "[125] munsell_0.5.1               Biostrings_2.70.1          \n",
       "[127] lazyeval_0.2.2              spatstat.geom_3.2-9        \n",
       "[129] IRkernel_1.3.2              RcppHNSW_0.6.0             \n",
       "[131] BSgenome_1.68.0             hms_1.1.3                  \n",
       "[133] patchwork_1.2.0             bit64_4.0.5                \n",
       "[135] future_1.33.2               shiny_1.8.1.1              \n",
       "[137] SummarizedExperiment_1.30.2 ROCR_1.0-11                \n",
       "[139] igraph_2.0.3                fastmatch_1.1-4            \n",
       "[141] bit_4.0.5                  "
      ]
     },
     "metadata": {},
     "output_type": "display_data"
    }
   ],
   "source": [
    "sessionInfo()"
   ]
  },
  {
   "cell_type": "code",
   "execution_count": null,
   "id": "dd022e07-6075-4367-be07-4ce22162f1e0",
   "metadata": {},
   "outputs": [],
   "source": []
  }
 ],
 "metadata": {
  "kernelspec": {
   "display_name": "R",
   "language": "R",
   "name": "ir"
  },
  "language_info": {
   "codemirror_mode": "r",
   "file_extension": ".r",
   "mimetype": "text/x-r-source",
   "name": "R",
   "pygments_lexer": "r",
   "version": "4.3.3"
  }
 },
 "nbformat": 4,
 "nbformat_minor": 5
}
