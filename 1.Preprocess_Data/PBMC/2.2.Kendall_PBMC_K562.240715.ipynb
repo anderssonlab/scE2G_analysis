{
 "cells": [
  {
   "cell_type": "markdown",
   "id": "a4175b18-ad06-4184-94b1-856fb818af9b",
   "metadata": {},
   "source": [
    "Combine Xu et al K562 and PBMC datasets to calculate Kendall correlation"
   ]
  },
  {
   "cell_type": "code",
   "execution_count": 1,
   "id": "f27f01b8-330b-454e-b043-2c931cd1a53f",
   "metadata": {},
   "outputs": [
    {
     "name": "stderr",
     "output_type": "stream",
     "text": [
      "Loading required package: SeuratObject\n",
      "\n",
      "Loading required package: sp\n",
      "\n",
      "‘SeuratObject’ was built under R 4.3.2 but the current version is\n",
      "4.3.3; it is recomended that you reinstall ‘SeuratObject’ as the ABI\n",
      "for R may have changed\n",
      "\n",
      "‘SeuratObject’ was built with package ‘Matrix’ 1.6.3 but the current\n",
      "version is 1.6.5; it is recomended that you reinstall ‘SeuratObject’ as\n",
      "the ABI for ‘Matrix’ may have changed\n",
      "\n",
      "\n",
      "Attaching package: ‘SeuratObject’\n",
      "\n",
      "\n",
      "The following object is masked from ‘package:base’:\n",
      "\n",
      "    intersect\n",
      "\n",
      "\n",
      "Loading required package: grid\n",
      "\n",
      "Warning message:\n",
      "“replacing previous import ‘Biostrings::pattern’ by ‘grid::pattern’ when loading ‘genomation’”\n",
      "Loading required package: stats4\n",
      "\n",
      "Loading required package: BiocGenerics\n",
      "\n",
      "\n",
      "Attaching package: ‘BiocGenerics’\n",
      "\n",
      "\n",
      "The following object is masked from ‘package:SeuratObject’:\n",
      "\n",
      "    intersect\n",
      "\n",
      "\n",
      "The following objects are masked from ‘package:stats’:\n",
      "\n",
      "    IQR, mad, sd, var, xtabs\n",
      "\n",
      "\n",
      "The following objects are masked from ‘package:base’:\n",
      "\n",
      "    anyDuplicated, aperm, append, as.data.frame, basename, cbind,\n",
      "    colnames, dirname, do.call, duplicated, eval, evalq, Filter, Find,\n",
      "    get, grep, grepl, intersect, is.unsorted, lapply, Map, mapply,\n",
      "    match, mget, order, paste, pmax, pmax.int, pmin, pmin.int,\n",
      "    Position, rank, rbind, Reduce, rownames, sapply, setdiff, sort,\n",
      "    table, tapply, union, unique, unsplit, which.max, which.min\n",
      "\n",
      "\n",
      "Loading required package: S4Vectors\n",
      "\n",
      "\n",
      "Attaching package: ‘S4Vectors’\n",
      "\n",
      "\n",
      "The following object is masked from ‘package:utils’:\n",
      "\n",
      "    findMatches\n",
      "\n",
      "\n",
      "The following objects are masked from ‘package:base’:\n",
      "\n",
      "    expand.grid, I, unname\n",
      "\n",
      "\n",
      "Loading required package: IRanges\n",
      "\n",
      "\n",
      "Attaching package: ‘IRanges’\n",
      "\n",
      "\n",
      "The following object is masked from ‘package:sp’:\n",
      "\n",
      "    %over%\n",
      "\n",
      "\n",
      "Loading required package: GenomeInfoDb\n",
      "\n",
      "\n",
      "Attaching package: ‘GenomicRanges’\n",
      "\n",
      "\n",
      "The following object is masked from ‘package:magrittr’:\n",
      "\n",
      "    subtract\n",
      "\n",
      "\n",
      "\n",
      "Attaching package: ‘Matrix’\n",
      "\n",
      "\n",
      "The following object is masked from ‘package:S4Vectors’:\n",
      "\n",
      "    expand\n",
      "\n",
      "\n"
     ]
    }
   ],
   "source": [
    "library(Seurat)\n",
    "library(Signac)\n",
    "library(magrittr)\n",
    "library(genomation)\n",
    "library(GenomicRanges)\n",
    "library(Matrix)\n",
    "library(ggplot2)"
   ]
  },
  {
   "cell_type": "code",
   "execution_count": 2,
   "id": "146f5b6b-a646-4c11-ac4c-8ac818062d6a",
   "metadata": {},
   "outputs": [],
   "source": [
    "atac.matrix.PBMC = readRDS(\"/maps/projects/ralab_nnfc-AUDIT/people/lpm537/project/E2G/analysis/E2G_240503/data/PBMC/1.prepare_data/2.1.use_K562_Xu_peaks.240715/atac.matrix.PBMC.rds\")"
   ]
  },
  {
   "cell_type": "code",
   "execution_count": 3,
   "id": "ef8d0588-9892-4ea8-864a-bb20eae312e6",
   "metadata": {},
   "outputs": [],
   "source": [
    "rna.matrix.PBMC = readRDS(\"/maps/projects/ralab_nnfc-AUDIT/people/lpm537/project/E2G/analysis/E2G_240503/data/PBMC/1.prepare_data/2.1.use_K562_Xu_peaks.240715/matrix.rna.PBMC.rds\")"
   ]
  },
  {
   "cell_type": "code",
   "execution_count": 4,
   "id": "ac3e294f-c999-4357-89c8-9b3d7fd1d6d6",
   "metadata": {},
   "outputs": [],
   "source": [
    "atac.matrix.K562 = read.csv(\"/maps/projects/ralab_nnfc-AUDIT/people/lpm537/software/scE2G_pipeline/240508/sc-E2G/test/results_K562_Xu/K562/Kendall/atac_matrix.csv.gz\",\n",
    "                       row.names = 1,\n",
    "                       check.names = F)\n",
    "atac.matrix.K562 = Matrix(as.matrix(atac.matrix.K562), sparse = TRUE)"
   ]
  },
  {
   "cell_type": "code",
   "execution_count": 5,
   "id": "927902d7-b099-48bc-9963-9e7625bbecbb",
   "metadata": {},
   "outputs": [],
   "source": [
    "rna.matrix.K562 = read.csv(\"/maps/projects/ralab_nnfc-AUDIT/people/lpm537/project/E2G/analysis/E2G_240503/data/K562_Xu/1.prepare_data/1.seurat_pipeline.240507/rna_count_matrix.csv.gz\",\n",
    "                      row.names = 1,\n",
    "                      check.names = F)\n",
    "rna.matrix.K562 = Matrix(as.matrix(rna.matrix.K562), sparse = TRUE)\n",
    "rna.matrix.K562 = rna.matrix.K562[,colnames(atac.matrix.K562)]"
   ]
  },
  {
   "cell_type": "code",
   "execution_count": 6,
   "id": "f82823a5-d51c-4ce3-b75e-c0d51e4b45a9",
   "metadata": {},
   "outputs": [
    {
     "data": {
      "text/html": [
       "<style>\n",
       ".list-inline {list-style: none; margin:0; padding: 0}\n",
       ".list-inline>li {display: inline-block}\n",
       ".list-inline>li:not(:last-child)::after {content: \"\\00b7\"; padding: 0 .5ex}\n",
       "</style>\n",
       "<ol class=list-inline><li>62757</li><li>18183</li></ol>\n"
      ],
      "text/latex": [
       "\\begin{enumerate*}\n",
       "\\item 62757\n",
       "\\item 18183\n",
       "\\end{enumerate*}\n"
      ],
      "text/markdown": [
       "1. 62757\n",
       "2. 18183\n",
       "\n",
       "\n"
      ],
      "text/plain": [
       "[1] 62757 18183"
      ]
     },
     "metadata": {},
     "output_type": "display_data"
    },
    {
     "data": {
      "text/html": [
       "<style>\n",
       ".list-inline {list-style: none; margin:0; padding: 0}\n",
       ".list-inline>li {display: inline-block}\n",
       ".list-inline>li:not(:last-child)::after {content: \"\\00b7\"; padding: 0 .5ex}\n",
       "</style>\n",
       "<ol class=list-inline><li>62757</li><li>7821</li></ol>\n"
      ],
      "text/latex": [
       "\\begin{enumerate*}\n",
       "\\item 62757\n",
       "\\item 7821\n",
       "\\end{enumerate*}\n"
      ],
      "text/markdown": [
       "1. 62757\n",
       "2. 7821\n",
       "\n",
       "\n"
      ],
      "text/plain": [
       "[1] 62757  7821"
      ]
     },
     "metadata": {},
     "output_type": "display_data"
    }
   ],
   "source": [
    "dim(rna.matrix.PBMC)\n",
    "dim(rna.matrix.K562)"
   ]
  },
  {
   "cell_type": "code",
   "execution_count": 7,
   "id": "7cafb751-647e-47be-ab3d-2c96971be55e",
   "metadata": {},
   "outputs": [
    {
     "data": {
      "text/plain": [
       "\n",
       " TRUE \n",
       "62757 "
      ]
     },
     "metadata": {},
     "output_type": "display_data"
    }
   ],
   "source": [
    "table(rownames(rna.matrix.PBMC) == rownames(rna.matrix.K562))"
   ]
  },
  {
   "cell_type": "code",
   "execution_count": 8,
   "id": "93b19435-82ec-4fcd-9cad-f66511375469",
   "metadata": {},
   "outputs": [
    {
     "data": {
      "text/html": [
       "<style>\n",
       ".list-inline {list-style: none; margin:0; padding: 0}\n",
       ".list-inline>li {display: inline-block}\n",
       ".list-inline>li:not(:last-child)::after {content: \"\\00b7\"; padding: 0 .5ex}\n",
       "</style>\n",
       "<ol class=list-inline><li>157600</li><li>18183</li></ol>\n"
      ],
      "text/latex": [
       "\\begin{enumerate*}\n",
       "\\item 157600\n",
       "\\item 18183\n",
       "\\end{enumerate*}\n"
      ],
      "text/markdown": [
       "1. 157600\n",
       "2. 18183\n",
       "\n",
       "\n"
      ],
      "text/plain": [
       "[1] 157600  18183"
      ]
     },
     "metadata": {},
     "output_type": "display_data"
    },
    {
     "data": {
      "text/html": [
       "<style>\n",
       ".list-inline {list-style: none; margin:0; padding: 0}\n",
       ".list-inline>li {display: inline-block}\n",
       ".list-inline>li:not(:last-child)::after {content: \"\\00b7\"; padding: 0 .5ex}\n",
       "</style>\n",
       "<ol class=list-inline><li>157600</li><li>7821</li></ol>\n"
      ],
      "text/latex": [
       "\\begin{enumerate*}\n",
       "\\item 157600\n",
       "\\item 7821\n",
       "\\end{enumerate*}\n"
      ],
      "text/markdown": [
       "1. 157600\n",
       "2. 7821\n",
       "\n",
       "\n"
      ],
      "text/plain": [
       "[1] 157600   7821"
      ]
     },
     "metadata": {},
     "output_type": "display_data"
    }
   ],
   "source": [
    "dim(atac.matrix.PBMC)\n",
    "dim(atac.matrix.K562)"
   ]
  },
  {
   "cell_type": "code",
   "execution_count": 9,
   "id": "efb3868a-10ef-458c-8b55-f7e30d9ec9db",
   "metadata": {},
   "outputs": [
    {
     "data": {
      "text/plain": [
       "\n",
       " FALSE   TRUE \n",
       "157599      1 "
      ]
     },
     "metadata": {},
     "output_type": "display_data"
    }
   ],
   "source": [
    "table(rownames(atac.matrix.PBMC) == rownames(atac.matrix.K562))"
   ]
  },
  {
   "cell_type": "code",
   "execution_count": 10,
   "id": "5ae0c7d8-f1c3-43a4-9f85-c36a18755718",
   "metadata": {},
   "outputs": [
    {
     "data": {
      "text/html": [
       "<style>\n",
       ".list-inline {list-style: none; margin:0; padding: 0}\n",
       ".list-inline>li {display: inline-block}\n",
       ".list-inline>li:not(:last-child)::after {content: \"\\00b7\"; padding: 0 .5ex}\n",
       "</style>\n",
       "<ol class=list-inline><li>'chr1-9926-10618'</li><li>'chr1-15894-16509'</li><li>'chr1-17271-17713'</li><li>'chr1-29230-29495'</li><li>'chr1-115493-115961'</li><li>'chr1-135076-135269'</li><li>'chr1-136330-137277'</li><li>'chr1-137692-138124'</li><li>'chr1-138272-139644'</li><li>'chr1-180712-181916'</li></ol>\n"
      ],
      "text/latex": [
       "\\begin{enumerate*}\n",
       "\\item 'chr1-9926-10618'\n",
       "\\item 'chr1-15894-16509'\n",
       "\\item 'chr1-17271-17713'\n",
       "\\item 'chr1-29230-29495'\n",
       "\\item 'chr1-115493-115961'\n",
       "\\item 'chr1-135076-135269'\n",
       "\\item 'chr1-136330-137277'\n",
       "\\item 'chr1-137692-138124'\n",
       "\\item 'chr1-138272-139644'\n",
       "\\item 'chr1-180712-181916'\n",
       "\\end{enumerate*}\n"
      ],
      "text/markdown": [
       "1. 'chr1-9926-10618'\n",
       "2. 'chr1-15894-16509'\n",
       "3. 'chr1-17271-17713'\n",
       "4. 'chr1-29230-29495'\n",
       "5. 'chr1-115493-115961'\n",
       "6. 'chr1-135076-135269'\n",
       "7. 'chr1-136330-137277'\n",
       "8. 'chr1-137692-138124'\n",
       "9. 'chr1-138272-139644'\n",
       "10. 'chr1-180712-181916'\n",
       "\n",
       "\n"
      ],
      "text/plain": [
       " [1] \"chr1-9926-10618\"    \"chr1-15894-16509\"   \"chr1-17271-17713\"  \n",
       " [4] \"chr1-29230-29495\"   \"chr1-115493-115961\" \"chr1-135076-135269\"\n",
       " [7] \"chr1-136330-137277\" \"chr1-137692-138124\" \"chr1-138272-139644\"\n",
       "[10] \"chr1-180712-181916\""
      ]
     },
     "metadata": {},
     "output_type": "display_data"
    }
   ],
   "source": [
    "rownames(atac.matrix.PBMC)[1:10]"
   ]
  },
  {
   "cell_type": "code",
   "execution_count": 11,
   "id": "3ca00087-bebd-4b92-9753-ddea8c1c7cfa",
   "metadata": {},
   "outputs": [
    {
     "data": {
      "text/html": [
       "<style>\n",
       ".list-inline {list-style: none; margin:0; padding: 0}\n",
       ".list-inline>li {display: inline-block}\n",
       ".list-inline>li:not(:last-child)::after {content: \"\\00b7\"; padding: 0 .5ex}\n",
       "</style>\n",
       "<ol class=list-inline><li>'chr1-10001196-10001745'</li><li>'chr1-100027917-100029695'</li><li>'chr1-10003541-10003870'</li><li>'chr1-100036824-100037384'</li><li>'chr1-100037554-100039259'</li><li>'chr1-10003956-10004703'</li><li>'chr1-100044551-100044949'</li><li>'chr1-100046028-100046627'</li><li>'chr1-100048182-100049129'</li><li>'chr1-100049441-100049768'</li></ol>\n"
      ],
      "text/latex": [
       "\\begin{enumerate*}\n",
       "\\item 'chr1-10001196-10001745'\n",
       "\\item 'chr1-100027917-100029695'\n",
       "\\item 'chr1-10003541-10003870'\n",
       "\\item 'chr1-100036824-100037384'\n",
       "\\item 'chr1-100037554-100039259'\n",
       "\\item 'chr1-10003956-10004703'\n",
       "\\item 'chr1-100044551-100044949'\n",
       "\\item 'chr1-100046028-100046627'\n",
       "\\item 'chr1-100048182-100049129'\n",
       "\\item 'chr1-100049441-100049768'\n",
       "\\end{enumerate*}\n"
      ],
      "text/markdown": [
       "1. 'chr1-10001196-10001745'\n",
       "2. 'chr1-100027917-100029695'\n",
       "3. 'chr1-10003541-10003870'\n",
       "4. 'chr1-100036824-100037384'\n",
       "5. 'chr1-100037554-100039259'\n",
       "6. 'chr1-10003956-10004703'\n",
       "7. 'chr1-100044551-100044949'\n",
       "8. 'chr1-100046028-100046627'\n",
       "9. 'chr1-100048182-100049129'\n",
       "10. 'chr1-100049441-100049768'\n",
       "\n",
       "\n"
      ],
      "text/plain": [
       " [1] \"chr1-10001196-10001745\"   \"chr1-100027917-100029695\"\n",
       " [3] \"chr1-10003541-10003870\"   \"chr1-100036824-100037384\"\n",
       " [5] \"chr1-100037554-100039259\" \"chr1-10003956-10004703\"  \n",
       " [7] \"chr1-100044551-100044949\" \"chr1-100046028-100046627\"\n",
       " [9] \"chr1-100048182-100049129\" \"chr1-100049441-100049768\""
      ]
     },
     "metadata": {},
     "output_type": "display_data"
    }
   ],
   "source": [
    "rownames(atac.matrix.K562)[1:10]"
   ]
  },
  {
   "cell_type": "code",
   "execution_count": 12,
   "id": "3c17335b-0256-465d-b437-20471bd5e2a5",
   "metadata": {},
   "outputs": [
    {
     "data": {
      "text/plain": [
       "\n",
       "  TRUE \n",
       "157600 "
      ]
     },
     "metadata": {},
     "output_type": "display_data"
    }
   ],
   "source": [
    "table(rownames(atac.matrix.PBMC) %in% rownames(atac.matrix.K562))"
   ]
  },
  {
   "cell_type": "code",
   "execution_count": 13,
   "id": "f36cb4cb-4d63-4195-9013-f439f138e9ec",
   "metadata": {},
   "outputs": [],
   "source": [
    "rna.matrix = cbind(rna.matrix.K562,rna.matrix.PBMC)"
   ]
  },
  {
   "cell_type": "code",
   "execution_count": 14,
   "id": "027ee58f-8d8e-4b7e-ae88-07da51143ebd",
   "metadata": {},
   "outputs": [],
   "source": [
    "atac.matrix = cbind(atac.matrix.K562,atac.matrix.PBMC[rownames(atac.matrix.K562),])"
   ]
  },
  {
   "cell_type": "code",
   "execution_count": 15,
   "id": "7636eba1-d4ec-41b0-99b1-18fe477ddbca",
   "metadata": {},
   "outputs": [
    {
     "data": {
      "text/plain": [
       "\n",
       " TRUE \n",
       "26004 "
      ]
     },
     "metadata": {},
     "output_type": "display_data"
    }
   ],
   "source": [
    "table(colnames(rna.matrix) == colnames(atac.matrix))"
   ]
  },
  {
   "cell_type": "code",
   "execution_count": 16,
   "id": "5b53c137-ac78-4471-bace-e562fb73c22d",
   "metadata": {},
   "outputs": [],
   "source": [
    "rna.matrix.norm = NormalizeData(rna.matrix)"
   ]
  },
  {
   "cell_type": "code",
   "execution_count": 17,
   "id": "42356383-9446-4a68-8134-5adb964146b1",
   "metadata": {},
   "outputs": [],
   "source": [
    "atac.matrix.bi = BinarizeCounts(atac.matrix)"
   ]
  },
  {
   "cell_type": "code",
   "execution_count": 18,
   "id": "c0ed7997-38a6-4bee-8604-39a46bf8b78f",
   "metadata": {},
   "outputs": [],
   "source": [
    "pairs.E2G = readGeneric(\"/maps/projects/ralab_nnfc-AUDIT/people/lpm537/software/scE2G_pipeline/240508/sc-E2G/test/results_K562_Xu/K562/Kendall/Pairs.tsv.gz\",\n",
    "                        keep.all.metadata = T,\n",
    "                        header = T)"
   ]
  },
  {
   "cell_type": "code",
   "execution_count": 20,
   "id": "c5615478-86c8-48c8-b465-72d7a7f6f24d",
   "metadata": {},
   "outputs": [],
   "source": [
    "# Load required packages\n",
    "suppressPackageStartupMessages({\n",
    "  library(GenomicRanges)\n",
    "  library(genomation)\n",
    "  library(foreach)\n",
    "  library(Signac)\n",
    "  library(Seurat)\n",
    "  library(Rcpp)\n",
    "  library(data.table)\n",
    "  library(Matrix)\n",
    "#  library(anndata)\n",
    "  library(tools)\n",
    "})\n",
    "\n",
    "## Define functions --------------------------------------------------------------------------------\n",
    "\n",
    "# Calculate the difference between concordant and disconcordant pairs from a sorted logical matrix\n",
    "cppFunction('\n",
    "NumericVector count_diff(LogicalMatrix y_matrix_sorted) {\n",
    "    int n = y_matrix_sorted.nrow();\n",
    "    int m = y_matrix_sorted.ncol();\n",
    "    NumericVector result(m);\n",
    "    for (int j = 0; j < m; j++) {\n",
    "        long long concordant = 0;\n",
    "        long long disconcordant = 0;\n",
    "        long long cumsum = 0;\n",
    "        for (int i = 0; i < n; i++) {\n",
    "            bool tmp = y_matrix_sorted(i, j);\n",
    "            cumsum += tmp;\n",
    "            if (tmp) {\n",
    "                disconcordant += (i + 1 - cumsum);\n",
    "            } else {\n",
    "                concordant += cumsum;\n",
    "            }\n",
    "        }\n",
    "        result[j] = static_cast<double>(concordant - disconcordant);\n",
    "    }\n",
    "    return result;\n",
    "}\n",
    "')\n",
    "\n",
    "# Compute Kendall correlation between a single gene and multiple enhancers\n",
    "kendall_one_gene = function(x, y.matrix){\n",
    "  \n",
    "  # Sort x in decreasing order and accordingly sort y.matrix\n",
    "  ord = order(x, \n",
    "              decreasing = T)\n",
    "  x.sorted = x[ord]\n",
    "  y.matrix.sorted = \n",
    "    y.matrix[ord, ,drop = F]\n",
    "  \n",
    "  # Calculate initial differences between concordant and disconcordant pairs\n",
    "  n.diff = count_diff(as.matrix(y.matrix.sorted))\n",
    "  \n",
    "  # Adjust differences for ties in x\n",
    "  x.ties = unique(x.sorted[duplicated(x.sorted)])\n",
    "  for (x.tie in x.ties) {\n",
    "    n.diff = \n",
    "      n.diff - \n",
    "      count_diff(as.matrix(y.matrix.sorted[x.sorted == x.tie, ,drop = F]))\n",
    "  }\n",
    "  \n",
    "  # Calculate Kendall's tau-b coefficient\n",
    "  l = length(x)\n",
    "  s = colSums(y.matrix)\n",
    "  tx = table(x)\n",
    "  \n",
    "  n0 = choose(l, 2)\n",
    "  n1 = sum(choose(tx, 2))\n",
    "  n2 = (s*(s-1) + (l-s)*(l-s-1))/2\n",
    "  \n",
    "  tau_b = n.diff / sqrt((n0 - n1) * (n0 - n2))\n",
    "  \n",
    "  return(tau_b)\n",
    "}\n",
    "\n",
    "\n",
    "# Compute Kendall correlation between a mutliple genes and multiple enhancers\n",
    "kendall_mutliple_genes = function(bed.E2G,\n",
    "                                  data.RNA,\n",
    "                                  data.ATAC,\n",
    "                                  colname.gene_name = \"gene_name\",\n",
    "                                  colname.enhancer_name = \"peak_name\",\n",
    "                                  colname.output = \"Kendall\") {\n",
    "  \n",
    "  # Filter E2G pairs based on presence in RNA and ATAC data\n",
    "  bed.E2G.filter = \n",
    "    bed.E2G[mcols(bed.E2G)[,colname.gene_name] %in% rownames(data.RNA) &\n",
    "              mcols(bed.E2G)[,colname.enhancer_name] %in% rownames(data.ATAC)] \n",
    "  \n",
    "\n",
    "  \n",
    "  # Compute Kendall correlation for each gene\n",
    "  bed.E2G.output <- foreach(gene.name = unique(mcols(bed.E2G.filter)[,colname.gene_name]),\n",
    "                            .combine = 'c') %do% {\n",
    "                              \n",
    "                              bed.E2G.tmp <- bed.E2G.filter[mcols(bed.E2G.filter)[,colname.gene_name] == gene.name]\n",
    "                              \n",
    "                              mcols(bed.E2G.tmp)[, colname.output] = \n",
    "                                kendall_one_gene(as.numeric(data.RNA[gene.name, ]),\n",
    "                                                 t(data.ATAC[mcols(bed.E2G.tmp)[,colname.enhancer_name], , drop = F]))\n",
    "                              bed.E2G.tmp\n",
    "                            }\n",
    "  return(bed.E2G.output)\n",
    "}\n",
    "## -------------------------------------------------------------------------------------------------"
   ]
  },
  {
   "cell_type": "code",
   "execution_count": 21,
   "id": "cad7c4f2-9f08-4862-a52a-4459c5a7a819",
   "metadata": {},
   "outputs": [],
   "source": [
    "pairs.E2G = kendall_mutliple_genes(pairs.E2G,\n",
    "                                   rna.matrix.norm,\n",
    "                                   atac.matrix.bi,\n",
    "                                   colname.gene_name = \"TargetGene\",\n",
    "                                   colname.enhancer_name = \"PeakName\",\n",
    "                                   colname.output = \"Kendall\")"
   ]
  },
  {
   "cell_type": "code",
   "execution_count": 22,
   "id": "8db327db-e06c-47ec-851a-e271057f75a7",
   "metadata": {},
   "outputs": [
    {
     "data": {
      "text/plain": [
       "GRanges object with 11201948 ranges and 4 metadata columns:\n",
       "             seqnames            ranges strand |  TargetGene\n",
       "                <Rle>         <IRanges>  <Rle> | <character>\n",
       "         [1]     chr1 10001196-10001745      * |       ACOT7\n",
       "         [2]     chr1 10003541-10003870      * |       ACOT7\n",
       "         [3]     chr1 10003956-10004703      * |       ACOT7\n",
       "         [4]     chr1 10006252-10006807      * |       ACOT7\n",
       "         [5]     chr1 10015764-10016393      * |       ACOT7\n",
       "         ...      ...               ...    ... .         ...\n",
       "  [11201944]     chrX 90471599-90471978      * |       KLHL4\n",
       "  [11201945]     chrX 90472102-90472252      * |       KLHL4\n",
       "  [11201946]     chrX 90472324-90472773      * |       KLHL4\n",
       "  [11201947]     chrX 90473654-90474926      * |       KLHL4\n",
       "  [11201948]     chrX 90575772-90576567      * |       KLHL4\n",
       "                           PeakName               PairName   Kendall\n",
       "                        <character>            <character> <numeric>\n",
       "         [1] chr1-10001196-10001745 chr1-10001196-100017.. 0.0569640\n",
       "         [2] chr1-10003541-10003870 chr1-10003541-100038.. 0.0491989\n",
       "         [3] chr1-10003956-10004703 chr1-10003956-100047.. 0.0705335\n",
       "         [4] chr1-10006252-10006807 chr1-10006252-100068.. 0.0553297\n",
       "         [5] chr1-10015764-10016393 chr1-10015764-100163.. 0.0710844\n",
       "         ...                    ...                    ...       ...\n",
       "  [11201944] chrX-90471599-90471978 chrX-90471599-904719.. 0.0398020\n",
       "  [11201945] chrX-90472102-90472252 chrX-90472102-904722.. 0.0464855\n",
       "  [11201946] chrX-90472324-90472773 chrX-90472324-904727.. 0.0585293\n",
       "  [11201947] chrX-90473654-90474926 chrX-90473654-904749.. 0.0900283\n",
       "  [11201948] chrX-90575772-90576567 chrX-90575772-905765.. 0.0571884\n",
       "  -------\n",
       "  seqinfo: 23 sequences from an unspecified genome; no seqlengths"
      ]
     },
     "metadata": {},
     "output_type": "display_data"
    }
   ],
   "source": [
    "pairs.E2G"
   ]
  },
  {
   "cell_type": "code",
   "execution_count": 23,
   "id": "ecf1367f-4405-42ad-b669-e8b16d64eeec",
   "metadata": {},
   "outputs": [],
   "source": [
    "dir.output = \"/maps/projects/ralab_nnfc-AUDIT/people/lpm537/project/E2G/analysis/E2G_240503/data/PBMC/1.prepare_data/2.2.Kendall_PBMC_K562.240715/\"\n",
    "dir.create(dir.output,recursive = T)\n",
    "saveRDS(pairs.E2G,\n",
    "        paste(dir.output,\"pairs.E2G.rds\",sep = \"/\"))\n",
    "\n",
    "df.output = as.data.frame(pairs.E2G)\n",
    "colnames(df.output)[1] = \"chr\"\n",
    "df.output[,\"CellType\"] = \"K562\"\n",
    "data.table::fwrite(df.output,\n",
    "                   file = paste(dir.output,\"pairs.E2G.res.tsv.gz\",sep = \"/\"),\n",
    "                   row.names = F,\n",
    "                   quote = F,\n",
    "                   sep = \"\\t\")"
   ]
  },
  {
   "cell_type": "code",
   "execution_count": 25,
   "id": "ae55d3be-a0f7-45ee-a88d-da6fabd2cee3",
   "metadata": {},
   "outputs": [],
   "source": [
    "saveRDS(rna.matrix,\n",
    "        paste(dir.output,\"rna.matrix.rds\",sep = \"/\"))"
   ]
  },
  {
   "cell_type": "code",
   "execution_count": 26,
   "id": "f851337f-af7f-47f4-82c6-7e7a8eaacc2b",
   "metadata": {},
   "outputs": [],
   "source": [
    "saveRDS(atac.matrix,\n",
    "        paste(dir.output,\"atac.matrix.rds\",sep = \"/\"))"
   ]
  },
  {
   "cell_type": "code",
   "execution_count": 27,
   "id": "2540fe05-0f99-4a4a-a858-32c9a0921caf",
   "metadata": {},
   "outputs": [
    {
     "data": {
      "text/plain": [
       "R version 4.3.3 (2024-02-29)\n",
       "Platform: x86_64-conda-linux-gnu (64-bit)\n",
       "Running under: Red Hat Enterprise Linux 8.10 (Ootpa)\n",
       "\n",
       "Matrix products: default\n",
       "BLAS/LAPACK: /maps/projects/ralab/people/lpm537/software/anaconda3/envs/Notebook_E2G_240505/lib/libopenblasp-r0.3.27.so;  LAPACK version 3.12.0\n",
       "\n",
       "locale:\n",
       " [1] LC_CTYPE=en_US.UTF-8       LC_NUMERIC=C              \n",
       " [3] LC_TIME=en_US.UTF-8        LC_COLLATE=en_US.UTF-8    \n",
       " [5] LC_MONETARY=en_US.UTF-8    LC_MESSAGES=en_US.UTF-8   \n",
       " [7] LC_PAPER=en_US.UTF-8       LC_NAME=C                 \n",
       " [9] LC_ADDRESS=C               LC_TELEPHONE=C            \n",
       "[11] LC_MEASUREMENT=en_US.UTF-8 LC_IDENTIFICATION=C       \n",
       "\n",
       "time zone: Europe/Copenhagen\n",
       "tzcode source: system (glibc)\n",
       "\n",
       "attached base packages:\n",
       " [1] tools     stats4    grid      stats     graphics  grDevices utils    \n",
       " [8] datasets  methods   base     \n",
       "\n",
       "other attached packages:\n",
       " [1] data.table_1.15.2    Rcpp_1.0.12          foreach_1.5.2       \n",
       " [4] ggplot2_3.5.1        Matrix_1.6-5         GenomicRanges_1.54.1\n",
       " [7] GenomeInfoDb_1.38.1  IRanges_2.36.0       S4Vectors_0.40.2    \n",
       "[10] BiocGenerics_0.48.1  genomation_1.34.0    magrittr_2.0.3      \n",
       "[13] Signac_1.13.0        Seurat_5.0.3         SeuratObject_5.0.1  \n",
       "[16] sp_2.1-4            \n",
       "\n",
       "loaded via a namespace (and not attached):\n",
       "  [1] RcppAnnoy_0.0.22            splines_4.3.3              \n",
       "  [3] later_1.3.2                 pbdZMQ_0.3-11              \n",
       "  [5] BiocIO_1.10.0               bitops_1.0-7               \n",
       "  [7] tibble_3.2.1                polyclip_1.10-6            \n",
       "  [9] XML_3.99-0.16.1             fastDummies_1.7.3          \n",
       " [11] lifecycle_1.0.4             globals_0.16.3             \n",
       " [13] lattice_0.22-6              vroom_1.6.5                \n",
       " [15] MASS_7.3-60                 plotly_4.10.4              \n",
       " [17] yaml_2.3.8                  plotrix_3.8-4              \n",
       " [19] httpuv_1.6.15               sctransform_0.4.1          \n",
       " [21] spam_2.10-0                 spatstat.sparse_3.0-3      \n",
       " [23] reticulate_1.36.1           cowplot_1.1.3              \n",
       " [25] pbapply_1.7-2               RColorBrewer_1.1-3         \n",
       " [27] abind_1.4-5                 zlibbioc_1.48.0            \n",
       " [29] Rtsne_0.17                  purrr_1.0.2                \n",
       " [31] RCurl_1.98-1.14             GenomeInfoDbData_1.2.11    \n",
       " [33] ggrepel_0.9.5               irlba_2.3.5.1              \n",
       " [35] listenv_0.9.1               spatstat.utils_3.0-4       \n",
       " [37] goftest_1.2-3               RSpectra_0.16-1            \n",
       " [39] spatstat.random_3.2-3       fitdistrplus_1.1-11        \n",
       " [41] parallelly_1.37.1           leiden_0.4.3.1             \n",
       " [43] codetools_0.2-20            DelayedArray_0.26.7        \n",
       " [45] RcppRoll_0.3.0              tidyselect_1.2.1           \n",
       " [47] matrixStats_1.3.0           base64enc_0.1-3            \n",
       " [49] spatstat.explore_3.2-6      GenomicAlignments_1.36.0   \n",
       " [51] jsonlite_1.8.8              progressr_0.14.0           \n",
       " [53] iterators_1.0.14            ggridges_0.5.6             \n",
       " [55] survival_3.6-4              ica_1.0-3                  \n",
       " [57] glue_1.7.0                  gridExtra_2.3              \n",
       " [59] MatrixGenerics_1.12.3       IRdisplay_1.1              \n",
       " [61] dplyr_1.1.4                 withr_3.0.0                \n",
       " [63] fastmap_1.1.1               fansi_1.0.6                \n",
       " [65] digest_0.6.35               R6_2.5.1                   \n",
       " [67] mime_0.12                   seqPattern_1.34.0          \n",
       " [69] colorspace_2.1-0            scattermore_1.2            \n",
       " [71] tensor_1.5                  spatstat.data_3.0-4        \n",
       " [73] utf8_1.2.4                  tidyr_1.3.1                \n",
       " [75] generics_0.1.3              rtracklayer_1.60.1         \n",
       " [77] httr_1.4.7                  htmlwidgets_1.6.4          \n",
       " [79] S4Arrays_1.2.1              uwot_0.1.16                \n",
       " [81] pkgconfig_2.0.3             gtable_0.3.5               \n",
       " [83] lmtest_0.9-40               impute_1.76.0              \n",
       " [85] XVector_0.42.0              htmltools_0.5.8.1          \n",
       " [87] dotCall64_1.1-1             scales_1.3.0               \n",
       " [89] Biobase_2.60.0              png_0.1-8                  \n",
       " [91] tzdb_0.4.0                  reshape2_1.4.4             \n",
       " [93] rjson_0.2.21                uuid_1.2-0                 \n",
       " [95] nlme_3.1-164                repr_1.1.7                 \n",
       " [97] zoo_1.8-12                  stringr_1.5.1              \n",
       " [99] KernSmooth_2.23-22          parallel_4.3.3             \n",
       "[101] miniUI_0.1.1.1              restfulr_0.0.15            \n",
       "[103] pillar_1.9.0                vctrs_0.6.5                \n",
       "[105] RANN_2.6.1                  promises_1.3.0             \n",
       "[107] xtable_1.8-4                cluster_2.1.6              \n",
       "[109] evaluate_0.23               readr_2.1.5                \n",
       "[111] cli_3.6.2                   compiler_4.3.3             \n",
       "[113] Rsamtools_2.18.0            rlang_1.1.3                \n",
       "[115] crayon_1.5.2                future.apply_1.11.2        \n",
       "[117] plyr_1.8.9                  stringi_1.8.3              \n",
       "[119] viridisLite_0.4.2           deldir_2.0-4               \n",
       "[121] gridBase_0.4-7              BiocParallel_1.36.0        \n",
       "[123] munsell_0.5.1               Biostrings_2.70.1          \n",
       "[125] lazyeval_0.2.2              spatstat.geom_3.2-9        \n",
       "[127] IRkernel_1.3.2              RcppHNSW_0.6.0             \n",
       "[129] BSgenome_1.68.0             hms_1.1.3                  \n",
       "[131] patchwork_1.2.0             bit64_4.0.5                \n",
       "[133] future_1.33.2               shiny_1.8.1.1              \n",
       "[135] SummarizedExperiment_1.30.2 ROCR_1.0-11                \n",
       "[137] igraph_2.0.3                fastmatch_1.1-4            \n",
       "[139] bit_4.0.5                  "
      ]
     },
     "metadata": {},
     "output_type": "display_data"
    }
   ],
   "source": [
    "sessionInfo()"
   ]
  },
  {
   "cell_type": "code",
   "execution_count": null,
   "id": "dd022e07-6075-4367-be07-4ce22162f1e0",
   "metadata": {},
   "outputs": [],
   "source": []
  }
 ],
 "metadata": {
  "kernelspec": {
   "display_name": "R",
   "language": "R",
   "name": "ir"
  },
  "language_info": {
   "codemirror_mode": "r",
   "file_extension": ".r",
   "mimetype": "text/x-r-source",
   "name": "R",
   "pygments_lexer": "r",
   "version": "4.3.3"
  }
 },
 "nbformat": 4,
 "nbformat_minor": 5
}
